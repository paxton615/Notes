{
 "cells": [
  {
   "cell_type": "code",
   "execution_count": 46,
   "metadata": {},
   "outputs": [],
   "source": [
    "import numpy as np\n",
    "import pandas as pd\n",
    "from IPython.display import Image"
   ]
  },
  {
   "cell_type": "code",
   "execution_count": 36,
   "metadata": {},
   "outputs": [],
   "source": [
    "# CET4(Chinese English Test level 4), index 29, credit 0, score 488, has been deleted from lst1 and lst2\n",
    "credits = [4,3,4,2,2,2,4,2,3,4,4,2,2,2,2,3,3,2,2,2,2,4,2,1,3,3,2,3,3,2,2,2,2,4,4,3,3,3,3,2,2,2,2,2,2,2,2,2,3,3,3,3,2,2,3,2,3,3,3,3,2,2,2,9,8]"
   ]
  },
  {
   "cell_type": "code",
   "execution_count": 37,
   "metadata": {},
   "outputs": [
    {
     "name": "stdout",
     "output_type": "stream",
     "text": [
      "65\n",
      "179\n"
     ]
    }
   ],
   "source": [
    "print(len(credits))\n",
    "print(np.sum(credits))"
   ]
  },
  {
   "cell_type": "code",
   "execution_count": 38,
   "metadata": {},
   "outputs": [],
   "source": [
    "scores = [91,85,79,86,88,92,80,81,85,95,83,90,84,90,100,90,87,81,87,86,92,92,78,85,88,91,100,86,79,90,89,91,87,94,84,88,86,85,95,90,91,83,89,87,93,91,90,89,88,85,80,91,94,87,88,92,86,86,90,83,89,91,87,76,90]"
   ]
  },
  {
   "cell_type": "code",
   "execution_count": 39,
   "metadata": {},
   "outputs": [
    {
     "name": "stdout",
     "output_type": "stream",
     "text": [
      "65\n",
      "5706\n",
      "87.78461538461538\n"
     ]
    }
   ],
   "source": [
    "print(len(scores))\n",
    "print(np.sum(scores))\n",
    "print(np.mean(scores))"
   ]
  },
  {
   "cell_type": "code",
   "execution_count": 40,
   "metadata": {},
   "outputs": [
    {
     "data": {
      "text/plain": [
       "[4, 3, 2, 3, 3]"
      ]
     },
     "execution_count": 40,
     "metadata": {},
     "output_type": "execute_result"
    }
   ],
   "source": [
    "points = [4 if i > 90 else 3 if 90 >= i >80 else 2 for i in lst2 ]\n",
    "points[:5]"
   ]
  },
  {
   "cell_type": "code",
   "execution_count": 41,
   "metadata": {},
   "outputs": [
    {
     "data": {
      "text/plain": [
       "559"
      ]
     },
     "execution_count": 41,
     "metadata": {},
     "output_type": "execute_result"
    }
   ],
   "source": [
    "# GPA = SUM(CREDIT*POINT)/SUM(POINT)\n",
    "np.dot(np.array(credits), np.array(points) ) # verified with another method below, lst4"
   ]
  },
  {
   "cell_type": "code",
   "execution_count": 42,
   "metadata": {},
   "outputs": [
    {
     "name": "stdout",
     "output_type": "stream",
     "text": [
      "[16, 9, 8, 6, 6, 8, 8, 6, 9, 16]\n",
      "559\n"
     ]
    }
   ],
   "source": [
    "lst4 = [] # each credit*point\n",
    "for i,j in zip(credits,points):\n",
    "        lst4.append(i*j)\n",
    "print(lst4[:10])\n",
    "print(np.sum(lst4))"
   ]
  },
  {
   "cell_type": "markdown",
   "metadata": {},
   "source": [
    "#### GPA (Chinese Standard)"
   ]
  },
  {
   "cell_type": "code",
   "execution_count": 44,
   "metadata": {},
   "outputs": [
    {
     "data": {
      "text/plain": [
       "3.122905027932961"
      ]
     },
     "execution_count": 44,
     "metadata": {},
     "output_type": "execute_result"
    }
   ],
   "source": [
    "GPA = np.sum(lst4)/np.sum(credits)\n",
    "GPA"
   ]
  },
  {
   "cell_type": "code",
   "execution_count": 45,
   "metadata": {},
   "outputs": [
    {
     "data": {
      "text/plain": [
       "'/Users/paxton615/Github_Personal/Notes/Notes/Programming_practices'"
      ]
     },
     "execution_count": 45,
     "metadata": {},
     "output_type": "execute_result"
    }
   ],
   "source": [
    "pwd"
   ]
  },
  {
   "cell_type": "code",
   "execution_count": null,
   "metadata": {},
   "outputs": [],
   "source": [
    "Image(filename='/Users/paxton615/Github_Personal/Notes/Notes/Programming_practices/pics/user_rankings_percent.png')"
   ]
  }
 ],
 "metadata": {
  "kernelspec": {
   "display_name": "Python 3",
   "language": "python",
   "name": "python3"
  },
  "language_info": {
   "codemirror_mode": {
    "name": "ipython",
    "version": 3
   },
   "file_extension": ".py",
   "mimetype": "text/x-python",
   "name": "python",
   "nbconvert_exporter": "python",
   "pygments_lexer": "ipython3",
   "version": "3.8.3"
  }
 },
 "nbformat": 4,
 "nbformat_minor": 4
}
