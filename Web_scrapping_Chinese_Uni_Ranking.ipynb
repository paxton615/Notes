{
 "cells": [
  {
   "cell_type": "code",
   "execution_count": 1,
   "metadata": {},
   "outputs": [],
   "source": [
    "import requests\n",
    "from bs4 import BeautifulSoup"
   ]
  },
  {
   "cell_type": "code",
   "execution_count": 25,
   "metadata": {},
   "outputs": [
    {
     "name": "stdout",
     "output_type": "stream",
     "text": [
      "\u001b[34mbs4\u001b[m\u001b[m                           \u001b[34mrequests\u001b[m\u001b[m\r\n",
      "\u001b[34mhtml\u001b[m\u001b[m                          \u001b[34msklearn_algorithm_cheat_sheet\u001b[m\u001b[m\r\n",
      "\u001b[34mlinear_algebra\u001b[m\u001b[m                \u001b[34muni_ranking\u001b[m\u001b[m\r\n",
      "\u001b[34mnormal_distribution\u001b[m\u001b[m\r\n"
     ]
    }
   ],
   "source": [
    "! ls /Users/paxton615/Github_Personal/Notes/Notes/pics/"
   ]
  },
  {
   "cell_type": "markdown",
   "metadata": {},
   "source": [
    "### 爬取前需要检查\n",
    "\n",
    "1.需要确认被提取信息是否存在于html脚本中中，因为有些内容是写在Javascript中的，这种情况下，被提取信息是动态生成的,requests无法提取。\n",
    "\n",
    "2.是否支持Robost协议http://www.zuihaodaxue.cn/zuihaodaxuepaiming2019.html/robots.txt"
   ]
  },
  {
   "cell_type": "markdown",
   "metadata": {},
   "source": [
    "### 爬虫设计思路\n",
    "\n",
    "1. 从网络上获取大学排名内容\n",
    "\n",
    "2. 提取网页内容中信息到合适的数据结构\n",
    "\n",
    "3. 利用数据结构展示并输出结果\n",
    "\n",
    "### 程序的结构设计\n",
    "\n",
    "1. 从网络上获取大学排名网页内容 getHTMLText()\n",
    "\n",
    "2. 提取网页内容中信息到合适的数据结构 fillUnivList()\n",
    "\n",
    "3. 利用数据结构展示并输出结果 printUnivList()"
   ]
  },
  {
   "cell_type": "code",
   "execution_count": 26,
   "metadata": {},
   "outputs": [
    {
     "data": {
      "text/plain": [
       "200"
      ]
     },
     "execution_count": 26,
     "metadata": {},
     "output_type": "execute_result"
    }
   ],
   "source": [
    "r = requests.get('http://www.zuihaodaxue.cn/zuihaodaxuepaiming2019.html')\n",
    "r.status_code"
   ]
  },
  {
   "cell_type": "code",
   "execution_count": null,
   "metadata": {},
   "outputs": [],
   "source": []
  },
  {
   "cell_type": "code",
   "execution_count": null,
   "metadata": {},
   "outputs": [],
   "source": []
  },
  {
   "cell_type": "code",
   "execution_count": null,
   "metadata": {},
   "outputs": [],
   "source": []
  }
 ],
 "metadata": {
  "kernelspec": {
   "display_name": "Python 3",
   "language": "python",
   "name": "python3"
  },
  "language_info": {
   "codemirror_mode": {
    "name": "ipython",
    "version": 3
   },
   "file_extension": ".py",
   "mimetype": "text/x-python",
   "name": "python",
   "nbconvert_exporter": "python",
   "pygments_lexer": "ipython3",
   "version": "3.7.4"
  }
 },
 "nbformat": 4,
 "nbformat_minor": 4
}
