{
 "cells": [
  {
   "cell_type": "code",
   "execution_count": 11,
   "metadata": {},
   "outputs": [],
   "source": [
    "# ! pip install anvil-uplink"
   ]
  },
  {
   "cell_type": "code",
   "execution_count": 13,
   "metadata": {},
   "outputs": [],
   "source": [
    "import anvil.pdf\n",
    "import anvil.media"
   ]
  },
  {
   "cell_type": "code",
   "execution_count": 1,
   "metadata": {},
   "outputs": [],
   "source": [
    "import pandas as pd"
   ]
  },
  {
   "cell_type": "code",
   "execution_count": 2,
   "metadata": {},
   "outputs": [
    {
     "name": "stdout",
     "output_type": "stream",
     "text": [
      "    category     revenue\n",
      "0    Widgets  1298471.00\n",
      "1   Services   265402.12\n",
      "2  Licensing    28000.00\n",
      "    category    revenue\n",
      "0    Widgets  982305.00\n",
      "1   Services  203631.25\n",
      "2  Licensing   39000.00\n"
     ]
    }
   ],
   "source": [
    "this_month = pd.read_csv('/Users/paxton615/Downloads/this_month.csv')\n",
    "last_month = pd.read_csv('/Users/paxton615/Downloads/last_month.csv')\n",
    "print(this_month.head(3))\n",
    "print(last_month.head(3))"
   ]
  },
  {
   "cell_type": "code",
   "execution_count": 6,
   "metadata": {},
   "outputs": [
    {
     "data": {
      "text/html": [
       "<div>\n",
       "<style scoped>\n",
       "    .dataframe tbody tr th:only-of-type {\n",
       "        vertical-align: middle;\n",
       "    }\n",
       "\n",
       "    .dataframe tbody tr th {\n",
       "        vertical-align: top;\n",
       "    }\n",
       "\n",
       "    .dataframe thead th {\n",
       "        text-align: right;\n",
       "    }\n",
       "</style>\n",
       "<table border=\"1\" class=\"dataframe\">\n",
       "  <thead>\n",
       "    <tr style=\"text-align: right;\">\n",
       "      <th></th>\n",
       "      <th>category</th>\n",
       "      <th>revenue</th>\n",
       "      <th>revenue_last_month</th>\n",
       "    </tr>\n",
       "  </thead>\n",
       "  <tbody>\n",
       "    <tr>\n",
       "      <th>0</th>\n",
       "      <td>Widgets</td>\n",
       "      <td>1298471.00</td>\n",
       "      <td>982305.00</td>\n",
       "    </tr>\n",
       "    <tr>\n",
       "      <th>1</th>\n",
       "      <td>Services</td>\n",
       "      <td>265402.12</td>\n",
       "      <td>203631.25</td>\n",
       "    </tr>\n",
       "    <tr>\n",
       "      <th>2</th>\n",
       "      <td>Licensing</td>\n",
       "      <td>28000.00</td>\n",
       "      <td>39000.00</td>\n",
       "    </tr>\n",
       "  </tbody>\n",
       "</table>\n",
       "</div>"
      ],
      "text/plain": [
       "    category     revenue  revenue_last_month\n",
       "0    Widgets  1298471.00           982305.00\n",
       "1   Services   265402.12           203631.25\n",
       "2  Licensing    28000.00            39000.00"
      ]
     },
     "execution_count": 6,
     "metadata": {},
     "output_type": "execute_result"
    }
   ],
   "source": [
    "# join two csv\n",
    "combined = this_month.join(last_month.set_index('category'), on='category', rsuffix='_last_month')\n",
    "combined"
   ]
  },
  {
   "cell_type": "code",
   "execution_count": 14,
   "metadata": {},
   "outputs": [],
   "source": [
    "# pdf = anvil.pdf.render_form('REPORTFORM')\n",
    "\n",
    "# anvil.media.write_to_file(pdf, 'report.pdf')"
   ]
  },
  {
   "cell_type": "code",
   "execution_count": 16,
   "metadata": {},
   "outputs": [
    {
     "name": "stdout",
     "output_type": "stream",
     "text": [
      "[{'category': 'Widgets', 'revenue': 1298471.0, 'revenue_last_month': 982305.0}, {'category': 'Services', 'revenue': 265402.12, 'revenue_last_month': 203631.25}, {'category': 'Licensing', 'revenue': 28000.0, 'revenue_last_month': 39000.0}]\n"
     ]
    }
   ],
   "source": [
    "records = combined.to_dict('records')\n",
    "print(records)"
   ]
  },
  {
   "cell_type": "code",
   "execution_count": 38,
   "metadata": {},
   "outputs": [
    {
     "data": {
      "text/html": [
       "<div>\n",
       "<style scoped>\n",
       "    .dataframe tbody tr th:only-of-type {\n",
       "        vertical-align: middle;\n",
       "    }\n",
       "\n",
       "    .dataframe tbody tr th {\n",
       "        vertical-align: top;\n",
       "    }\n",
       "\n",
       "    .dataframe thead th {\n",
       "        text-align: right;\n",
       "    }\n",
       "</style>\n",
       "<table border=\"1\" class=\"dataframe\">\n",
       "  <thead>\n",
       "    <tr style=\"text-align: right;\">\n",
       "      <th></th>\n",
       "      <th>category</th>\n",
       "      <th>revenue</th>\n",
       "      <th>revenue_last_month</th>\n",
       "    </tr>\n",
       "  </thead>\n",
       "  <tbody>\n",
       "    <tr>\n",
       "      <th>0</th>\n",
       "      <td>Widgets</td>\n",
       "      <td>1298471.00</td>\n",
       "      <td>982305.00</td>\n",
       "    </tr>\n",
       "    <tr>\n",
       "      <th>1</th>\n",
       "      <td>Services</td>\n",
       "      <td>265402.12</td>\n",
       "      <td>203631.25</td>\n",
       "    </tr>\n",
       "    <tr>\n",
       "      <th>2</th>\n",
       "      <td>Licensing</td>\n",
       "      <td>28000.00</td>\n",
       "      <td>39000.00</td>\n",
       "    </tr>\n",
       "    <tr>\n",
       "      <th>3</th>\n",
       "      <td>Section</td>\n",
       "      <td>10000.00</td>\n",
       "      <td>500000.00</td>\n",
       "    </tr>\n",
       "    <tr>\n",
       "      <th>4</th>\n",
       "      <td>Section</td>\n",
       "      <td>10000.00</td>\n",
       "      <td>500000.00</td>\n",
       "    </tr>\n",
       "    <tr>\n",
       "      <th>5</th>\n",
       "      <td>Section</td>\n",
       "      <td>99999.00</td>\n",
       "      <td>666666.00</td>\n",
       "    </tr>\n",
       "  </tbody>\n",
       "</table>\n",
       "</div>"
      ],
      "text/plain": [
       "    category     revenue  revenue_last_month\n",
       "0    Widgets  1298471.00           982305.00\n",
       "1   Services   265402.12           203631.25\n",
       "2  Licensing    28000.00            39000.00\n",
       "3    Section    10000.00           500000.00\n",
       "4    Section    10000.00           500000.00\n",
       "5    Section    99999.00           666666.00"
      ]
     },
     "execution_count": 38,
     "metadata": {},
     "output_type": "execute_result"
    }
   ],
   "source": [
    "# if I add more rows into records, what would happen\n",
    "combined = combined.append({'category': 'Section', 'revenue':10000, 'revenue_last_month':500000}, ignore_index=True)\n",
    "combined = combined.append({'category': 'Section', 'revenue':99999, 'revenue_last_month':666666}, ignore_index=True)\n",
    "combined"
   ]
  },
  {
   "cell_type": "code",
   "execution_count": 41,
   "metadata": {},
   "outputs": [
    {
     "name": "stdout",
     "output_type": "stream",
     "text": [
      "[{'category': 'Widgets', 'revenue': 1298471.0, 'revenue_last_month': 982305.0}, {'category': 'Services', 'revenue': 265402.12, 'revenue_last_month': 203631.25}, {'category': 'Licensing', 'revenue': 28000.0, 'revenue_last_month': 39000.0}, {'category': 'Section', 'revenue': 10000.0, 'revenue_last_month': 500000.0}, {'category': 'Section', 'revenue': 10000.0, 'revenue_last_month': 500000.0}, {'category': 'Section', 'revenue': 99999.0, 'revenue_last_month': 666666.0}]\n"
     ]
    }
   ],
   "source": [
    "# remember, records needs to be updated too using combined\n",
    "records = combined.to_dict('records')\n",
    "print(records)"
   ]
  },
  {
   "cell_type": "code",
   "execution_count": null,
   "metadata": {},
   "outputs": [],
   "source": [
    "import anvil.server\n",
    "\n",
    "anvil.server.connect(\"WV57ZOOEH55UMQLVRG2OYQ77-P7ZG2SKRAKAOOR2S\")"
   ]
  },
  {
   "cell_type": "code",
   "execution_count": 42,
   "metadata": {},
   "outputs": [],
   "source": [
    "pdf = anvil.pdf.render_form('REPORTFORM', records)"
   ]
  },
  {
   "cell_type": "code",
   "execution_count": 43,
   "metadata": {},
   "outputs": [],
   "source": [
    "anvil.media.write_to_file(pdf, 'report.pdf')"
   ]
  },
  {
   "cell_type": "code",
   "execution_count": 26,
   "metadata": {},
   "outputs": [],
   "source": [
    "# com = combined\n",
    "# com\n",
    "# test append rows\n",
    "# com.append({'category': 'Section', 'revenue':10000, 'revenue_last_month':500000}, ignore_index=True)"
   ]
  },
  {
   "cell_type": "code",
   "execution_count": 64,
   "metadata": {},
   "outputs": [
    {
     "data": {
      "text/html": [
       "\n",
       "        <iframe\n",
       "            width=\"900\"\n",
       "            height=\"650\"\n",
       "            src=\"report.pdf\"\n",
       "            frameborder=\"0\"\n",
       "            allowfullscreen\n",
       "        ></iframe>\n",
       "        "
      ],
      "text/plain": [
       "<IPython.lib.display.IFrame at 0x7f99087cea30>"
      ]
     },
     "execution_count": 64,
     "metadata": {},
     "output_type": "execute_result"
    }
   ],
   "source": [
    "from IPython.display import Image\n",
    "import os\n",
    "report_path = \"/Users/paxton615/Github_Personal/Notes/Notes/Converter_Pics&PDF/report.pdf\"\n",
    "rel_report_path = os.path.relpath(report_path)\n",
    "from IPython.display import IFrame    \n",
    "IFrame(rel_report_path, width=900, height=650)"
   ]
  },
  {
   "cell_type": "code",
   "execution_count": null,
   "metadata": {},
   "outputs": [],
   "source": []
  }
 ],
 "metadata": {
  "kernelspec": {
   "display_name": "Python 3",
   "language": "python",
   "name": "python3"
  },
  "language_info": {
   "codemirror_mode": {
    "name": "ipython",
    "version": 3
   },
   "file_extension": ".py",
   "mimetype": "text/x-python",
   "name": "python",
   "nbconvert_exporter": "python",
   "pygments_lexer": "ipython3",
   "version": "3.8.3"
  }
 },
 "nbformat": 4,
 "nbformat_minor": 4
}
