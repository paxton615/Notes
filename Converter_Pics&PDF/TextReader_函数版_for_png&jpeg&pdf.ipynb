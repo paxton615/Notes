{
 "cells": [
  {
   "cell_type": "markdown",
   "metadata": {},
   "source": [
    "## JPEG convertor"
   ]
  },
  {
   "cell_type": "code",
   "execution_count": 1,
   "metadata": {},
   "outputs": [],
   "source": [
    "def text_reader(path_str): # exp: r'/Users/paxton615/Desktop/promise.png'\n",
    "    import pytesseract  \n",
    "    from PIL import Image\n",
    "    pytesseract.pytesseract.tesseract_cmd = r'/usr/local/Cellar/tesseract/4.1.1/bin/tesseract'\n",
    "    text = pytesseract.image_to_string(path_str)\n",
    "    print(text)"
   ]
  },
  {
   "cell_type": "code",
   "execution_count": 61,
   "metadata": {},
   "outputs": [
    {
     "name": "stdout",
     "output_type": "stream",
     "text": [
      "SI|CAPITAL\n",
      "\n",
      "SI Capital\n",
      "\n",
      "Statement for Self-Certified Sophisticated Investor\n",
      "\n",
      "I declare that | am a self-certified sophisticated investor for the purposes of the Financial\n",
      "Services and Markets Act (Financial Promotion) Order 2005.\n",
      "\n",
      "lunderstand that this means:\n",
      "\n",
      "(a) I can receive financial promotions that may not have been approved by a person\n",
      "authorised by the Financial Conduct Authority;\n",
      "\n",
      "(b) the content of such financial promotions may not conform to rules issued by the\n",
      "Financial Conduct Authority;\n",
      "\n",
      " \n",
      "\n",
      "(©) _ bysigning this statement I may lose significant rights;\n",
      "\n",
      " \n",
      "\n",
      "(4) I may have no right to complain to either of the following:\n",
      "(the Financial Conduct Authority; or\n",
      "(i) the Financial Ombudsman Scheme;\n",
      "\n",
      "(e) I may have no right to seek compensation from the Financial Services\n",
      "Compensation Scheme.\n",
      "\n",
      "I am a self-certified sophisticated investor because at least one of the following\n",
      "applies:\n",
      "\n",
      "(a) _ 1lamamember of a network or syndicate of business angels and have been so for\n",
      "at least the last six months prior to the date below;\n",
      "\n",
      "(b) Ihave made more than one investment in an unlisted company in the two years\n",
      "prior to the date below;\n",
      "\n",
      "(Lam working, or have worked in the two years prior to the date below, in a\n",
      "professional capacity in the private equity sector, or in the provision of finance\n",
      "for small and medium enterprises;\n",
      "\n",
      "(4) 1am currently, or have been in the two years prior to the date below, a director\n",
      "ofa company with an annual turnover of at least £1 million.\n",
      "\n",
      "I accept that I can lose my property and other assets from making investment\n",
      "decisions based on financial promotions.\n",
      "\n",
      "1am aware that it is open to me to seek advice from someone who specialises in advising\n",
      "on investments.\n",
      "\n",
      "Signature\n",
      "\n",
      " \n",
      "\n",
      "Name Date\n",
      "\n",
      "   \n",
      "\n",
      "‘suv720100027718348238 v2\n",
      "\f",
      "\n"
     ]
    }
   ],
   "source": [
    "text_reader('/Users/paxton615/Desktop/HWI2.png')"
   ]
  },
  {
   "cell_type": "markdown",
   "metadata": {},
   "source": [
    "## PNG convertor"
   ]
  },
  {
   "cell_type": "code",
   "execution_count": 56,
   "metadata": {},
   "outputs": [],
   "source": [
    "def text_reader_simChinese(path_str): # exp: r'/Users/paxton615/Desktop/promise.png'\n",
    "    import pytesseract  \n",
    "    from PIL import Image\n",
    "    pytesseract.pytesseract.tesseract_cmd = r'/usr/local/Cellar/tesseract/4.1.1/bin/tesseract'\n",
    "    text = pytesseract.image_to_string(path_str, lang = \"chi_sim\")\n",
    "    print(text)"
   ]
  },
  {
   "cell_type": "code",
   "execution_count": 66,
   "metadata": {},
   "outputs": [
    {
     "name": "stdout",
     "output_type": "stream",
     "text": [
      "DIADEMAS - 83,000 inc VAT\n",
      "(ANNUAL MEMBERSHIP)\n",
      "\n",
      "No.6 Cavendish is home to one of the finest\n",
      "indoor sampling lounges and has a selection of\n",
      "private keeps locked away in the Vault Store\n",
      "your cigars in one of our keeps made from the\n",
      "finest Spanish cedar, kept in a humidity\n",
      "controlled environment which will house your\n",
      "cigars to perfection all year round\n",
      "\n",
      "WHATS INCLUDED\n",
      "\n",
      "。Double keep in the Vault which holds\n",
      "approximately 2000 Cigars\n",
      "\n",
      "Instore Discounts;\n",
      "\n",
      "10% on Cuban Standard production\n",
      "10% on New World Cigars\n",
      "10% on Cigar accessories\n",
      "\n",
      "。5% off drink consumption in the lounge\n",
      "\n",
      "。5% off Bottle Spirit purchase (excludes\n",
      "premium brands)\n",
      "\n",
      "。VIP Room Hire - one complimentary per\n",
      "month (additional room hire at discounted\n",
      "cosb\n",
      "\n",
      "。Cigars from your keep can be sampled in the\n",
      "\n",
      "Ilounge\n",
      "\n",
      "Exclusive Events for Members Only\n",
      "\n",
      "Priority on new cigar launch orders\n",
      "\n",
      "Membership Card\n",
      "\n",
      "。A welcome Gift\n",
      "\f",
      "\n"
     ]
    }
   ],
   "source": [
    "text_reader_simChinese('/Users/paxton615/Desktop/4.png')"
   ]
  },
  {
   "cell_type": "code",
   "execution_count": 58,
   "metadata": {},
   "outputs": [],
   "source": [
    "def text_reader_traChinese(path_str): # exp: r'/Users/paxton615/Desktop/promise.png'\n",
    "    import pytesseract  \n",
    "    from PIL import Image\n",
    "    pytesseract.pytesseract.tesseract_cmd = r'/usr/local/Cellar/tesseract/4.1.1/bin/tesseract'\n",
    "    text = pytesseract.image_to_string(path_str, lang = \"chi_tra\")\n",
    "    print(text)"
   ]
  },
  {
   "cell_type": "code",
   "execution_count": 60,
   "metadata": {},
   "outputs": [
    {
     "name": "stdout",
     "output_type": "stream",
     "text": [
      "SIICAPITAL\n",
      "\n",
      "SICapital\n",
      "\n",
      "Statement for Certified High NetWorth Individual\n",
      "\n",
      " \n",
      "\n",
      "ethatlam acertified high networth individual for the purposes Of the Financial\n",
      "and Markets Act2000 (Finaneialpromotion) Order 2005.\n",
      "\n",
      "  \n",
      "\n",
      "lunderstandthatthis means:\n",
      "\n",
      " \n",
      "\n",
      "(0 lean reeeive finaneial promotions that may not have been approved by aperson\n",
      "authorised by the FinaneialConductAuthority;\n",
      "\n",
      "                                                                                                                                    \n",
      "\n",
      "(b) the contentofsuch finaneial promotions may not conform to rules issued by the\n",
      "Finaneial ConductAuthority;\n",
      "\n",
      "(co 。 bysigningthis statementImay 1ose significant rights;\n",
      "(q@) 。 1may havenorighttocomplaintoeitherofthe following:\n",
      "\n",
      "(0) the Finaneial Conduct Authority; or\n",
      "\n",
      " \n",
      "\n",
      "(ithe Financial Ombudsman Schemey\n",
      "\n",
      "(e) 。 1 may have no right to seek compensation from the Financial Services\n",
      "Compensation Scheme.\n",
      "\n",
      "lamacertified high net worth individualbecause atleast oneofthe followingapplies:\n",
      "\n",
      "(a) Thad, duringthe financial yearimmediately preceding the date below,anannual\n",
      "income tothe value off100,000 ormore;\n",
      "\n",
      "(b) 。 1held, throughout the financial year immediately preceding the date below, net\n",
      "assets to the value of #250,000 or more. Net assets for these purposes do not\n",
      "include:\n",
      "\n",
      "(0 theproperty which is my primary residence or any loan secured on that\n",
      "residencey\n",
      "\n",
      "(0 any rights of mine under aqualifying contract of insurance within the\n",
      "meaning of the Financial Services and Markets Act 2000 (Regulated\n",
      "Activities) Order 2001;or\n",
      "\n",
      " \n",
      "\n",
      " \n",
      "\n",
      "(ii any benefits (in the form ofpensions orotherwise) which are payable on\n",
      "theterminationofmy service oron my death or retirementand to which\n",
      "Tam (ormy dependantsare),ormay beentitled.\n",
      "\n",
      "  \n",
      "\n",
      "Taccept that ican lose my property and other\n",
      "\n",
      "decisionsbased on financialpromotions\n",
      "\n",
      "  \n",
      " \n",
      "\n",
      "                                                                      \n",
      "\n",
      "ssets from making investment\n",
      "\n",
      "lamawarethatitis opento metoseekadvice from someone who specialises inadvising\n",
      "Oninvestments\n",
      "\n",
      "Signature\n",
      "\n",
      " \n",
      "\n",
      "Name                                                                     Date\n",
      "\n",
      "                                                                                                                                                                                   \n",
      "\n",
      "RuAo22oooozzeses257 vi\n",
      "\f",
      "\n"
     ]
    }
   ],
   "source": [
    "text_reader_traChinese('/Users/paxton615/Desktop/HWI1.png')"
   ]
  },
  {
   "cell_type": "code",
   "execution_count": 4,
   "metadata": {},
   "outputs": [],
   "source": [
    "# text_reader('/Users/paxton615/Desktop/City-Uni-Postgraduate-Prospectus-202122.pdf')"
   ]
  },
  {
   "cell_type": "markdown",
   "metadata": {},
   "source": [
    "## PDF convertor"
   ]
  },
  {
   "cell_type": "code",
   "execution_count": 62,
   "metadata": {
    "scrolled": false
   },
   "outputs": [
    {
     "data": {
      "text/plain": [
       "b'No.6 Cavendish\\n\\nMembership Information \\n\\n\\x0cOur Story\\n\\nIt was always our dream to open a store in\\ncentral London and in December 2019,\\nthis dream became a reality. \\n\\nWe have an amazing team of cigar\\nsommeliers who are always on hand to give\\nour customers any advice they need.\\n\\nWe became part of the Cigar industry in\\n1993, where we opened our first store in\\nTeddington. This business gave us the\\npassion of Cigars but we knew we had\\nmuch more to offer. \\n\\nThe Sampling Lounge is finished to the\\nhighest quality. We want our guests to\\ncome in and sample their chosen cigar or\\npipe, accompanied with fine spirits in the\\nwarm comfort of what will feel like your\\nliving room. \\n\\nNo.6 Cavendish is situated right in the\\nheart of London and has everything we\\nalways dreamed of, a high end luxury\\ncigar store with the largest walk-in\\nhumidor in the UK, in addition the biggest\\nindoor Sampling Lounge.   \\n\\nNot only does No.6 Cavendish specialise\\nin Cigars, but also your finest spirits and\\npipes.\\n\\nWhat makes us different from any other\\nCigar shop is our membership offerings,\\nsome of which include private keeps and\\nexclusive invitations to events.  They will no\\ndoubt give you an unforgettable experience\\nwhen you visit No.6 Cavendish. \\n\\nAjay & Bhavna \\n\\n \\n\\nw w w . n o 6 c a v e n d i s h . c o m  \\n\\n\\x0cLounge Membership\\n\\nR O B U S T O   -   \\xc2\\xa3 4 8 0   i n c   V A T\\n\\n( A N N U A L   M E M B E R S H I P )\\n\\nN o . 6   C a v e n d i s h   i s   h o m e   t o   o n e  o f  th e  f in e s t\\ni n d o o r   s a m p l i n g   l o u n g e s   i n   th e  U K .  F in is h e d  to\\nt h e   h i g h e s t   q u a l i t y ,   t h e   l o u n g e  is  th e  p la c e  f o r\\ny o u   t o   s i t   b a c k   a n d   r e l a x   a n d  e n jo y  y o u r  c ig a r\\ni n   p u r e   l u x u r y .   \\n\\nW H A T S   I N C L U D E D\\n\\nI n s t o r e   D i s c o u n t s : \\n\\n8 %   o n   C u b a n   S t a n d a r d   P r o d u c tio n\\n8 %   o n   N e w  W o r l d   C i g a r s \\n\\nE x c l u s i v e   e v e n t s   f o r   m e m b e r s  o n ly \\nM e m b e r s h i p   C a r d\\nA   w e l c o m e   G i f t     \\n\\nw w w . n o 6 c a v e n d i s h . c o m\\n\\n\\x0cFront Keep Membership\\n\\nC A \\xc3\\x91 O N A Z O -   \\xc2\\xa3 7 2 0   i n c   V A T\\n( A N N U A L   M E M B E R S H I P )\\n\\nN o . 6   C a v e n d i s h   h o m e s   a   s e le c tio n  o f  p r iv a te\\nk e e p s ,   a l l   c u s t o m   m a d e   f r o m  th e  f in e s t s p a n is h\\nc e d a r ,   k e p t   i n   a   h u m i d i t y   c o n tr o lle d\\ne n v i r o n m e n t   w h i c h   w i l l   h o u s e  y o u r  c ig a r s  to\\np e r f e c t i o n   a l l   y e a r   r o u n d .   \\n\\nW H A T S   I N C L U D E D\\n\\nS i n g l e   K e e p   i n   t h e   F r o n t   H u m id o r  w h ic h\\nh o l d s   a p p r o x i m a t e l y   2 5 0   C ig a r s   \\nI n s t o r e   D i s c o u n t s : \\n\\n5 %   o n   C u b a n   S t a n d a r d   P r o d u c tio n\\n5 %   o n   N e w  W o r l d   C i g a r s   \\n\\nM e m b e r s h i p   C a r d\\nA   w e l c o m e   G i f t   \\n\\n* A d d   o n   R o b u s t o  M e m b e r s h ip  f o r  \\xc2\\xa3 3 6 0  p e r\\ny e a r   a n d   r e c i e v e   a l l   l o u n g e  m e m b e r  b e n e f its   \\n\\nw w w . n o 6 c a v e n d i s h . c o m\\n\\n\\x0c Keep & Lounge Membership\\n\\nS U B L I M E   -   \\xc2\\xa3 1 , 8 0 0   I n c   V A T\\n\\n( A N N U A L   M E M B E R S H I P )\\n\\nN o . 6   C a v e n d i s h   i s   h o m e   t o   o n e  o f  th e  f in e s t\\ni n d o o r   s a m p l i n g   l o u n g e s   a n d  h a s  a  s e le c tio n  o f\\np r i v a t e   k e e p s   l o c k e d   a w a y   i n  th e  V a u lt.  S to r e\\ny o u r   c i g a r s   i n   o n e   o f   o u r   k e e p s  m a d e  f r o m  th e\\nf i n e s t   S p a n i s h   c e d a r ,   k e p t   i n  a  h u m id ity\\nc o n t r o l l e d   e n v i r o n m e n t   w h i c h  w ill h o u s e  y o u r\\nc i g a r s   t o   p e r f e c t i o n   a l l   y e a r  r o u n d\\n \\nW H A T S   I N C L U D E D\\n\\nS i n g l e   K e e p   i n   t h e   V a u l t   w h ic h  h o ld s\\na p p r o x i m a t e l y   1 0 0 0   C i g a r s \\nI n s t o r e   D i s c o u n t s : \\n\\n1 0 %   o n   C u b a n   S t a n d a r d   P r o d u c tio n\\n1 0 %   o n   N e w  W o r l d   C i g a r s \\n1 0 %   o n   C i g a r   a c c e s s o r i e s\\n\\n5 %   o f f   d r i n k   c o n s u m p t i o n   i n  th e  lo u n g e\\n5 %   o f f   B o t t l e   S p i r i t   p u r c h a s e  ( e x c lu d e s\\np r e m i u m   b r a n d s )\\nV I P   R o o m   H i r e   -   o n e   c o m p l im e n ta r y  p e r\\nm o n t h   ( a d d i t i o n a l   r o o m   h i r e  a t d is c o u n te d\\nc o s t )\\nC i g a r s   f r o m   y o u r   k e e p   c a n   b e  s a m p le d  in  th e\\nl o u n g e \\nE x c l u s i v e   E v e n t s   f o r  M e m b e r s  O n ly\\nP r i o r i t y   o n   n e w   c i g a r   l a u n c h  o r d e r s \\nM e m b e r s h i p   C a r d\\nA   w e l c o m e   G i f t \\n\\nw w w . n o 6 c a v e n d i s h . c o m\\n\\n\\x0c Premium Keep & Lounge Membership\\n\\nD I A D E M A S   -   \\xc2\\xa3 3 , 0 0 0   i n c   V A T\\n\\n( A N N U A L   M E M B E R S H I P )\\n\\nN o . 6   C a v e n d i s h   i s   h o m e   t o   o n e  o f  th e  f in e s t\\ni n d o o r   s a m p l i n g   l o u n g e s   a n d  h a s  a  s e le c tio n  o f\\np r i v a t e   k e e p s   l o c k e d   a w a y   i n  th e  V a u lt.  S to r e\\ny o u r   c i g a r s   i n   o n e   o f   o u r   k e e p s  m a d e  f r o m  th e\\nf i n e s t   S p a n i s h   c e d a r ,   k e p t   i n  a  h u m id ity\\nc o n t r o l l e d   e n v i r o n m e n t   w h i c h  w ill h o u s e  y o u r\\nc i g a r s   t o   p e r f e c t i o n   a l l   y e a r  r o u n d\\n \\nW H A T S   I N C L U D E D\\n\\nD o u b l e   K e e p   i n   t h e   V a u l t   w h ic h  h o ld s\\na p p r o x i m a t e l y   2 0 0 0   C i g a r s \\nI n s t o r e   D i s c o u n t s : \\n\\n1 0 %   o n   C u b a n   S t a n d a r d   P r o d u c tio n\\n1 0 %   o n   N e w  W o r l d   C i g a r s \\n1 0 %   o n   C i g a r   a c c e s s o r i e s\\n\\n5 %   o f f   d r i n k   c o n s u m p t i o n   i n  th e  lo u n g e\\n5 %   o f f   B o t t l e   S p i r i t   p u r c h a s e  ( e x c lu d e s\\np r e m i u m   b r a n d s ) \\nV I P   R o o m   H i r e   -   o n e   c o m p l im e n ta r y  p e r\\nm o n t h   ( a d d i t i o n a l   r o o m   h i r e  a t d is c o u n te d\\nc o s t )\\nC i g a r s   f r o m   y o u r   k e e p   c a n   b e  s a m p le d  in  th e\\nl o u n g e \\nE x c l u s i v e   E v e n t s   f o r  M e m b e r s  O n ly\\nP r i o r i t y   o n   n e w   c i g a r   l a u n c h  o r d e r s \\nM e m b e r s h i p   C a r d\\nA   w e l c o m e   G i f t   \\n\\nw w w . n o 6 c a v e n d i s h . c o m\\n\\n\\x0cMembership\\n\\nI f   y o u   a r e   i n t e r e s t e d   i n   b e c o m in g  a  N o . 6  C a v e n d is h  m e m b e r\\nt h e n   p l e a s e   c l i c k   t h e   l i n k   b e lo w  a n d  f ill o u r  o u r  e n q u ir y   f o r m \\no r \\n c a l l   u s   d i r e c t l y   o n   0 2 0 7   6 7 3  8 9 4 9 \\n \\nE n q u i r y   F o r m\\n\\nThank You\\n\\nw w w . n o 6 c a v e n d i s h . c o m\\n\\n\\x0c'"
      ]
     },
     "execution_count": 62,
     "metadata": {},
     "output_type": "execute_result"
    }
   ],
   "source": [
    "import textract\n",
    "text = textract.process(\"/Users/paxton615/Desktop/No.6 Cavendish Membership with Prices.pdf\")\n",
    "text # This pdf is big, took 2 mins to read it all."
   ]
  },
  {
   "cell_type": "code",
   "execution_count": 38,
   "metadata": {},
   "outputs": [
    {
     "data": {
      "text/plain": [
       "5575"
      ]
     },
     "execution_count": 38,
     "metadata": {},
     "output_type": "execute_result"
    }
   ],
   "source": [
    "len(text)"
   ]
  },
  {
   "cell_type": "code",
   "execution_count": 45,
   "metadata": {},
   "outputs": [],
   "source": [
    "str_text = str(text).replace('\\\\n',' ')"
   ]
  },
  {
   "cell_type": "code",
   "execution_count": 47,
   "metadata": {},
   "outputs": [],
   "source": [
    "str_text = str(str_text).replace('\\\\xc2\\\\xa3',' ')"
   ]
  },
  {
   "cell_type": "code",
   "execution_count": 49,
   "metadata": {},
   "outputs": [],
   "source": [
    "str_text = str(str_text).replace('\\\\xe2\\\\x80\\\\x98',' ')"
   ]
  },
  {
   "cell_type": "code",
   "execution_count": 50,
   "metadata": {},
   "outputs": [],
   "source": [
    "str_text = str(str_text).replace('\\\\xe2\\\\x80\\\\x99',' ')"
   ]
  },
  {
   "cell_type": "code",
   "execution_count": 52,
   "metadata": {},
   "outputs": [],
   "source": [
    "str_text = str(str_text).replace('\\\\xef\\\\x82\\\\xb7',' ')"
   ]
  },
  {
   "cell_type": "code",
   "execution_count": 54,
   "metadata": {},
   "outputs": [],
   "source": [
    "str_text = str(str_text).replace('\\\\xe2\\\\x80\\\\x93',' ')"
   ]
  },
  {
   "cell_type": "code",
   "execution_count": 55,
   "metadata": {},
   "outputs": [
    {
     "data": {
      "text/plain": [
       "\"b'Active Investor Account Rate Card   Annual Administration Fee  An annual Account Administration Fee of  400 + VAT will apply for Advisory accounts or  150 + VAT for  Execution only accounts.    Dealing Charges  Trade Charges  Commission  Minimum Charge    1% of the consideration   25.00 per trade    3% of the consideration   25.00 per trade   Warrant Exercise (Forward Selling)*  Commission  Minimum Charge  Prices quoted are subject to VAT where applicable.   1% of the consideration   25.00 per trade   0% of the consideration   25.00 per trade   A  Settlements and Compliance  charge of  10.00 applies to all transactions.            *In  order  to   Forward  Sell   Warrants,  clients must  lodge  certificates  to  their  accounts  OR store  them  in custody of SI Capital. Under no circumstances can Warrants be sold that are not in SI Capital s possession. The underlying Warrant will remain in the name of the investor and not SI Capital. All fees and commissions quoted are for UK listed, GBP quoted equities. Costs for dealing in other global markets may vary and will be subject to foreign exchange risks. For further information, please contact us. Trade Confirmations / Contract Notes for all Equity transactions will be sent within 24 hours, detailing the price, quantity and time of sale or purchase.  Placing Service  Commission  Minimum Charge   ISA/SIPP Switch  Commission  Minimum Charge   Other Charges and Services  UK Stamp Duty  PTM Levy  Withdrawal of Funds ( )   Withdrawal of Funds (Non- )  Late Settlement (Stock or Cash)  SIPP / ISA Account Closure  Stock Transfer Out from CREST  Certificated Withdrawal  Certificate Deposit to Account  International Stock Custody  Certificate Physical Custody  Prices quoted are subject to VAT where applicable.   0.5% on purchases (may vary on non-UK stocks)   1.00 on all transactions >  10,000.00   15.00 - BACS (3-5 working days)   25.00 - CHAPS (same day)   20.00 per occasion   20.00 per trade   50.00   15.00 per line of stock   20.00 per occasion   20.00 per occasion  0.05% per month (min.  3.00)   3.00 per holding per month   Confirmation  I have read, understood and agree to the charges detailed.   Name    .................................................................................    Signature    .................................................................................    Date    .................................................................................    46 Bridge Street, Godalming, Surrey, GU7 1HL  +44 (0)1483 413500 www.sicapital.co.uk  |  info@sicapital.co.uk  |  tweet@sicapitaluk  SI Capital is authorised and regulated by the Financial Conduct Authority. Member of the London Stock Exchange. Registered Office 19 Berkeley Street, London, W1J 8ED. Registered Number 4870280.   \\\\x0cExample Charges  The below are examples of trades charged at our dealing rate of 1%.   Example 1: A client wishes to buy shares in Company X with a total value of  20,000.00   Commission payable =  20,000.00 x 1% =  200.00   Settlement and compliance charge =   10.00   Total commission and charges payable =  210.00   Commission payable =  20,000.00 x 1% =  200.00   Settlement and compliance charge =   10.00   Total commission and charges payable =  210.00   Example 2: A client wishes to sell shares in Company X with a total value of  20,000.00   Placings, IPOs and pre-IPOs are charged at a rate of 1%. Examples of the commission and charges payable in relation to a placing, IPOs or pre-IPOs are set out below:   Example 1: A client wishes to take part in a placing by Company Y with a total value of  20,000.00   Commission payable =  20,000.00 x 1% =  200.00   Total commission and charges payable =  200.00   Example 2: A client wishes to acquire shares in Company Y s IPO with a total value of  20,000   Commission payable =  20,000.00 x 1% =  200.00   Total commission and charges payable =  200.00   All charges are subject to VAT at the prevailing rate with the exception of Dealing Commission and  Settlements and Compliance charge, which is exempt. In certain circumstances additional fees or charges may  apply (refer to our Terms of Business).   Late Payment Fees & Overdraft Charges   A late settlement fee ( 20.00 + VAT) and/or overdraft interest of 19.9% APR may be charged by Jarvis if you fail to hold  sufficient cleared funds on account or otherwise fail to make any payment in full on or before the due date for payment.  Payment in full to Jarvis shall not be deemed to be made until Jarvis have received cleared funds in respect of the full  amount outstanding. For this purpose, please be aware that cheque payments require 4 business days to clear and debit  card payments take 2 business days to clear. Cheques should be made payable to Jarvis Investment Management    please write your account number on the back of the cheque.   Overdraft charges may be applied by Jarvis on any overdrawn balances and are calculated at the published unauthorised  overdraft rate charged by HSBC Bank Plc. Overdraft interest accrued each calendar month will be applied to the account  at the end of the calendar month. No interest will be paid on credit balances.   SI Capital | Corporate Broking   46 Bridge Street, Godalming, Surrey GU7 1HL. T +44 (0)1483 413500. www.sicapital.co.uk.  info@sicapital.co.uk.   SI Capital Ltd is Authorised and Regulated by the Financial Conduct Authority No. 230687.  Member of the London Stock Exchange. Registered Office 46 Bridge Street, Godalming, Surrey, GU7 1HL.   \\\\x0c'\""
      ]
     },
     "execution_count": 55,
     "metadata": {},
     "output_type": "execute_result"
    }
   ],
   "source": [
    "str_text[:10000]"
   ]
  },
  {
   "cell_type": "code",
   "execution_count": 12,
   "metadata": {},
   "outputs": [],
   "source": [
    "str_text = str_text.replace('\\\\n','')"
   ]
  },
  {
   "cell_type": "code",
   "execution_count": 15,
   "metadata": {},
   "outputs": [],
   "source": [
    "str_text = str_text.replace('\\\\xe2\\\\x80\\\\x9c','  ')"
   ]
  },
  {
   "cell_type": "code",
   "execution_count": 16,
   "metadata": {},
   "outputs": [],
   "source": [
    "str_text = str_text.replace('\\\\xe2\\\\x80\\\\x9d','  ')"
   ]
  },
  {
   "cell_type": "code",
   "execution_count": 19,
   "metadata": {},
   "outputs": [],
   "source": [
    "str_text = str_text.replace('\\\\x0c','  ')"
   ]
  },
  {
   "cell_type": "code",
   "execution_count": 20,
   "metadata": {},
   "outputs": [],
   "source": [
    "str_text = str_text.replace('\\\\x0c6.','  ')"
   ]
  },
  {
   "cell_type": "code",
   "execution_count": 22,
   "metadata": {},
   "outputs": [],
   "source": [
    "str_text = str_text.replace('\\\\xe2\\\\x80\\\\x98D','  ')"
   ]
  },
  {
   "cell_type": "code",
   "execution_count": 23,
   "metadata": {},
   "outputs": [],
   "source": [
    "str_text = str_text.replace('\\\\xe2\\\\x80\\\\x99','  ')"
   ]
  },
  {
   "cell_type": "code",
   "execution_count": 25,
   "metadata": {},
   "outputs": [],
   "source": [
    "str_text = str_text.replace('\\\\xe2\\\\x80\\\\xa2','  ')"
   ]
  },
  {
   "cell_type": "code",
   "execution_count": 27,
   "metadata": {},
   "outputs": [],
   "source": [
    "str_text = str_text.replace('\\\\xe2\\\\x80\\\\x98','  ')"
   ]
  },
  {
   "cell_type": "code",
   "execution_count": null,
   "metadata": {},
   "outputs": [],
   "source": []
  },
  {
   "cell_type": "code",
   "execution_count": 28,
   "metadata": {},
   "outputs": [
    {
     "data": {
      "text/plain": [
       "'b\"OCTOBER 2018V13Terms of BusinessRetail Clients  SI Capital46 Bridge Street, Godalming,Surrey GU7 1HLFor the attention ofthe Chief Executive Officer/Compliance OfficerDear SirsTerms of Business (Retail Client)We are regulated by the Financial Conduct Authority (FCA) Head Office: 12 Endeavour Square, London E20 1JN under the Financial Services and Markets Act 2000 (  the Act  ). This letter (  the Agreement  ) together with our Fact Find document (  Fact Find  ) annexed to this letter as Appendix A sets out the terms and conditions which govern any business which we do with you, and certain matters which we are required to disclose to you under the FCA Handbook of Rules and Guidance (  the FCA Rules  ). It supersedes any previous terms of business agreed between us.Words and expressions used in this Agreement (unless the context otherwise requires) have the same meanings as in the FCA Rules. References in thisAgreement to statutes, the FCA Rules and any other rules, regulations or laws shall be to such statutes, FCA Rules, rules, regulations and laws asmodified, amended, restated or replaced from time to time. Headings in this Agreement are for convenience only and shall not affect the interpretation ofthis Agreement.1. ClassificationOn the information you have given us, we have classified you as a Retail Client for the purposes of the FCA Rules and in line with the Markets in Financial Instruments (MiFID II) Directive 2014/65/EU. You hereby expressly consent to being classed as a Retail Client in accordance with that directive. You have  the right to request a different categorization ie. you may opt up to an Elective Processional Client. You understand that by opting to change your client  categorization your client protections may change. If you wish to change your categorization or you are in any doubt please contact your broker.2. CommencementThis Agreement will take effect on the date we receive your signed Agreement.3. Services  3.1   We will act as your agent in introducing transactions and will advise you on your assets.  3.2   We will provide the following general investment advisory services (  the Services  ) to you:Advice on the merits of investment opportunities or information relevant to the making of judgments about the merits ofinvestment opportunities;Recommendations as to the purchase, sale, retention, exchange, conversion of and other transactions in relation toinvestments and other assets for your account;Related research and valuation services; andSuch other services if agreed between us in writing.  3.3   We may employ agents and intermediate brokers which we select, on terms we consider to be appropriate.  3.4   We may give you advice in such manner as we deem appropriate or as may be agreed with you in writing pursuant to this Agreement.  3.5  In providing the Services, we shall have regard to:Your investment objectives specified in Fact Find. You agree to notify us if you wish to change these investment objectives andwe agree to advise you in accordance with these changes;The investment restrictions specified in Fact Find OR the restrictions you wish to impose on the composition of your portfolioor the type of transactions undertaken for you. You are required to specify such restrictions at the time your account is openedand you must notify us of any changes in writing; andSuch other matters including any relating to your attitude to risk and investment as shall be specified in Fact Find OR suchother matters including any relating to your attitude to risk and investment.  3.6    You are required to notify us of your attitude to risk and investment at the time you open your account and must notify us ofany changes in writing.  3.7  Save as specified in Fact Find, there are no restrictions on:3.7.1 The type(s) of investment(s) or asset(s) which we may recommend;3.7.2 The amount of any one or type of investment or asset which we may recommend;3.7.3 The markets or exchanges on or through which transactions may be recommended to be effected or executed.3.2.1   3.2.2   3.2.3  3.2.4  3.5.1   3.5.2    3.5.3                                   4. Communication  4.1  This Terms of Business document is in English and all future communications with you will also be in English.  4.2  SI Capital will communicate with you by telephone, electronic communications including email and by post.  4.3        4.4      SI Capital will accept instructions to deal on investments or withdraw funds by verbal confirmation either in person or by telephone on a recorded  line and after confirming security information individual to each client. We will accept instructions relating to account administration by other   means but may require verbal confirmation to action any changes.All written or electronic communications that SI Capital sends you will be to the latest address notified by you to SI Capital and shall be assumed  received by you on the second day after posting or on the day after dispatch ion the case of electronic communication. Communications sent by  you shall be deemed received only if actually received by SI Capital.5. Advisory Service  5.1      This service is designed for those clients who wish to receive advice on their investments whilst retaining control over all investment decisions. We  will give advice as and when requested by you and on occasions we may recommend transactions to you. In this connection, you consent to us  or any of our representatives or employees from time to time making unsolicited financial promotions to you.  5.2   We will only arrange to buy and sell investments on your behalf after we have received your instructions for each transaction.  5.3   We will not be acting as your investment manager and accordingly we will not be obliged to review your portfolio or advise on its composition on a   continuing basis. 2.  6. Arranging Service  6.1   When instructed by you, we will make arrangements for you to buy or sell the investment stipulated by you on an execution or advisory basis.   6.2   We may provide arranging services in conjunction with advisory services.  6.3    In arranging your transactions we be utilising the services of clearing firms/financial institutions for settlement and custody services as listed   below. These clearing firms/financial institutions are; The Share Centre Limited, ADM Securities and Jarvis Investment Management (JIM). 6.4                                                                       6.4.1   6.4.2    6.4.3    6.5.1   6.5.2  6.5.3   6.5.4   When dealing with The Share Centre Limited and ADM Securities we will at all times be acting on your behalf as an introducing broker, and will  pass your order on to the clearing firm for execution. You hereby expressly acknowledge the following:You have received a copy of the terms and conditions of The Share Centre Limited and/or ADM Securities and you agree to be bound  by those terms and conditions;Where you instruct us to pass your order on to The Share Centre Limited and/or ADM Securities, you are a client of us and The Share  Centre Limited and/or ADM Securities;That The Share Centre Limited and/or ADM Securities will be responsible for settling trades with you and will send to you directly any  deliverable documents, or credit your account with any sale proceeds. Trade confirmations will be provided to you directly by The  Share Centre Limited and/or ADM Securities; 6.4.4   Where we provide arranging services through The Share Centre Limited and/or ADM Securities, we will at all times be acting on your    6.4.5   We will not be responsible for executing your order, which will be passed to The Share Centre Limited and/or ADM Securities who will   be responsible to provide you with best execution.behalf as an arranger; and  6.5   When dealing with Jarvis Investment Management (JIM) you hereby expressly acknowledge the following:JIM will be acting as a Model B clearing firm, and will provide clearing and settlement, safe custody, investment dealing and associated  services to us and our clients. JIM may also provide additional services as we may from time to time agree with them.We may arrange settlement and custodial services with JIM on your behalf; We are authorised to give instructions (as provided for in these Terms) and provide information about you to JIM and they shall be  entitled to rely on any such instructions or information without further enquiry;JIM is authorised to hold cash and investments on your behalf and is authorised to transfer cash or investments from your account to  meet your settlement or other obligations to us or them; andSI Capital will retain responsibility for compliance and regulatory requirements regarding our own operations and the supervision and  operation of your account and generally for the on-going relationship with you. 6.5.5            7. Client MoneyWe will not hold money or assets on your behalf.8. Aggregation & AllocationWe may combine your order with our own orders, those of our associates, directors, or employees and orders of other clients except where yourorder instructs us to the contrary. The effect of such aggregation may sometimes work to your disadvantage in relation to a particular order. We willallocate transactions entered into as a result of such aggregation fairly in accordance with FCA rules and our order allocation policy. Wherewe aggregate one or more of your orders with those of any other person resulting in a series of transactions we may determine the amountdue from you (or on a sale, the amount due to you) as the price paid for each investment or a volume weighted average of the prices of aseries of transactions over several days which may result in a report to you of the average of prices effected during the time required to effecta purchase or sale.9. Default & SecurityYou hereby irrevocably grant us a first fixed charge (with full title guarantee) and a general lien and right of set off with respect to all cash,investments or other assets of any description paid or delivered (or which are due to be paid or delivered) to us for your account in settlementof any transaction. You represent and warrant to SI Capital and all members of SI Capital  s Group of Companies that all such cash,investments or other assets are beneficially owned by you or are paid or delivered to us with the beneficial owner  s consent and free and clearof any charge, lien or encumbrance and that you will not charge, assign or otherwise dispose of or create any interest in such cash,investments or other assets other than in accordance with the Terms set out in or agreement without our prior written consent.You agree, at our request, to take such action as we may require to protect or enforce any security interest referred to above and you herebyirrevocably appoint us as your attorney to take such action on your behalf without further reference to you.You acknowledge and agree that if you fail to comply with any of your obligations under these Terms the security interests referred to aboveshall be enforceable and the powers conferred by section 101 of the Law of Property Act 1925 (as varied and extended by these Terms) shallbe exercisable. Section 101 of the Law of Property Act 1925 shall not apply to these Terms.You acknowledge that you will not have any right, title or interest in respect of any cash or investments that are due to be received pursuantto a transaction or instruction and that we shall have no obligation to account to you for any such cash or investments until you haveperformed to SI Capital  s reasonable satisfaction your obligations in relation to such transactions and we, as your agent, have been able tosettle such transactions. We shall, without further notice to you, be entitled to sell, close out, cancel, terminate or reverse all or any contractsor transactions at our discretion and apply any proceeds or any such cash received by us under a relevant settlement in discharge orreduction of any of your obligations in relation to any such transactions.10. StabilisationWe may recommend transactions in investments, the prices of which may be the subject of stabilisation. We draw your attention to the  ealing in securities which may be subject to stabilisation   Notice in Appendix B.11. Warrants  11.1   We may recommend transactions in warrants to you. Warrants often involve a high degree of gearing so that a relatively small movement  in the price of the security to which the warrant relates may result in a disproportionately large movement, unfavourable as well asfavourable, in the price of the warrant.    11.2   Your attention is specifically drawn to the   Warrants and Derivatives Risk Warning   Notice in Appendix C.3.              12. Derivatives (options, futures, contract for differences, foreign exchange and contingent liability transactions)  12.1   Where specified in Fact Find, we may:12.1.1  recommend transactions in options, futures and contract for differences, foreign exchange; and/or12.1.2   recommend other transactions in options relating to investments other than those described in clause 11.1.1 above,including contingent liability transactions, both on and off market and/or exchange.  12.2   Your attention is specifically drawn to the   Warrants and Derivatives Risk Warning   Notice in Appendix C.13. Closed ended funds, collective investment schemes and packaged products  13.1   Where specified in Fact Find, we may recommend transactions in:13.1.1  regulated collective investment schemes;13.1.2  investment trusts and other public investment funds;13.1.3  packaged products (including products referred to in clauses 12.1.1 and 12.1.2 above).  13.2   Where indicated in Fact Find, we may recommend transactions in unregulated collective investment schemes.  13.3   Where indicated in Fact Find, we may recommend transactions in Connected Funds.  13.4    If units in an unregulated collective investment scheme are recommended, you shall not have any right to cancel any such transactionunder FCA Rules.  13.5   Our polarisation status is that we are a privately owned fully independent firm of Stockbrokers.14. Authority  14.1   Any person notified to us as being authorised by you may give us oral or written instructions concerning any transaction or proposedtransaction or any other matter. You authorise us to rely and act on, and treat as fully authorised by and binding upon you, any order, instruction or communication (by whatever means transmitted and whether or not in writing) which purports to have been given, and which we reasonably believe to have been given, by you or on your behalf, without further enquiry on our part as to the genuineness, authority or identity of the person giving or purporting to give such instructions; and you will be responsible for and bound by all contract, obligations, costs and expenses entered into or assumed by us on your behalf in consequence of or in connection with orders, instructions or communication.         14.2   You expressly acknowledge that you will not require us to do or refrain from doing anything which would in our opinion infringe any   applicable laws, rules, regulations or codes of market conduct (including without limitation the FCA Code of Market Conduct, the rules ofthe Exchanges on which we transact and the City Code on Takeovers and Mergers) (together, the applicable regulations) and we may atany time without notice do whatever we consider necessary to comply with the applicable regulations.   15.  Fees & Charges  15.1   The fees and charges payable by you for our services under this Agreement, including the basis of their calculation and how frequently  they are to be paid and collected, are specified in our rate card (  Rate Card  ) attached at Appendix D. Any amendments to the feesand charges specified in Appendix D will be notified to you in writing.   is completed within that time or circumstances or the amount due are such that we consider another billing basis more appropriate.  15.2   We may periodically invoice you even though a transaction is not completed. We will usually invoice you every 12 months, unless the transaction     15.3   You will be responsible for payment of any taxes (including, without limitation, any value added tax which will be paid in addition to our  charges) and any brokerage fees, transfer fees, registration fees, stamp duty and all other charges, costs and expenses payable orincurred or paid by us in connection with our services to you.    15.4   Unless so specified in this Agreement, we shall not be liable to account to you for or (save in respect of fees or commissions charged  to you) to disclose to you any profit, commission or remuneration made or received (whether from any client or otherwise) by us byreason of any transaction recommended to you.    15.5   We may share dealing charges with our associated companies or other third parties, or receive remuneration from them in respect of transactions carried out on your behalf. Details of any such remuneration or sharing arrangements will be made available to you on request. 16. Payment out of Clients moniesYou hereby give us authority to direct your custodian to make payment out of any monies held of all invoices and other requests for payment inrespect thereof presented to it by us.17. Consent to direct contact  17.1   You expressly invite us, for the purpose of administering the terms of this Agreement to make direct contact with you by telephone, fax, or otherwise.  17.2   Where you expressly state on your application or by other written medium, we may contact you from time to time for the purposes of marketing    financial services and products. You consent and acknowledge that such communications  would not be considered by you as being a breach of  any of your rights under and relevant data and/or privacy regulations including the GDPR.  18. Risks associated with investment advisory services  18.1   All forms of investment which may be recommended by us involve risk. The value of investments and the income derived from them can fall as well as rise and is not guaranteed.   18.2   Your attention is also specifically drawn to the following types of transactions which we may recommend to you and the risks associated with such transactions:   18.2.1   Non readily realisable investmentsWe may recommend investments and other assets which are not readily realisable, which means that there is no recognisedmarket for them.It may therefore be difficult to deal in such investments or to obtain reliable information about their value orthe extent of the risks to which they are exposed.  18.2.2   AIM RISK WARNING NOTICEInvestments in AIM companies may not be readily realisable and there is less liquidity in this market - if they have to be soldimmediately you may get back much less than you paid for them. The price may change quickly and may go down as well as up.   All investments into AIM or NEX Exchange shares are speculative and will fluctuate in value. It should NOT be assumed that the  value of investments will always rise. Past performance will NOT necessarily be repeated and is no guarantee of future success.   You should carefully consider in the light of your financial resources whether investing in stocks and shares is suitable for you.   AIM or NEX Exchange shares. You run an extra risk of losing money when you buy shares in certain smaller companies including    AIM/ NEX Exchange  . There is a big difference between the buying price and the selling price of these shares. If you have to sell                    4.                                                        them immediately, you may get back much less than you paid for them. You may have difficulty in selling these shares.  The price may change quickly and it may go down as well as up and it may be more difficult to buy and sell shares in this  category. You should therefore not invest amounts you cannot afford to lose.   Non-readily Realisable Investments. You may have difficulty in selling such investments at a reasonable price. In some circumstances it may be    difficult to sell them at any price. It can be difficult to assess what would be a proper market price for these investments. You should not invest in    these unless you have thought carefully about whether you can afford it and whether it is right for you.   AIM. The AIM market of the London Stock Exchange is a market designed primarily for emerging or smaller companies. The rules of this market    are less demanding than those of the official List of the London Stock Exchange and therefore carry a greater risk than a company with a full listing.   Nex Exchange is authorised as a Prescribed Market under the FSMA 2000. It is  not a recognised or designated investment exchange and    companies trading on NEX Exchange are not listed or subject to the same level of regulation as those companies trading on the AIM or those    companies with a full listing on the London Stock Exchange. It may be difficult to obtain reliable information about the current trading position of    companies on NEX Exchange and if there is only one market-maker quoting prices, there may be occasion where you may have difficulty in    buying or selling shares at a reasonable price or at all. Similarly the difference between the buying and selling prices can be wide and prices    being quoted on NEX Exchange may only be indicative prices and not firm two-way prices. Additionally, there may have been little or no trading    in the stock since its issue. Consequently, there is a higher level of risk attached to companies trading on NEX Exchange and if you have to sell    shares in these companies immediately, you may get back much less than you paid for them.18.2.3    Exchange rate riskA movement of exchange rates may affect, unfavourably as well as favourably, any gain or loss on an investment recommended by us.18.2.4  Stabilisation, Warrant and Derivatives (Options, Futures, Contract for Differences foreign exchange and Contingent Liability Transactions)We are in addition authorised to recommend transactions of the kind referred to in the following clauses of this Agreement:(a)  (b) (c)    clause 9:    Stabilisation; andclause 10:  Warrants; andclause 11:  Derivatives (Options, Futures, Contract for Differences and Contingent Liability Transactions),and your attention is drawn to   the specific risks associated with such transactions referred to therein and in Appendix B (Dealing in securities which may   be subject to stabilisation) and Appendix C (Warrants and Derivatives risk warning notice). 18.3    You acknowledge that you have read the notice set out in Appendix C and that you understand the nature of the risks which are inherentin securities trading and that you are prepared to accept these risks.19. Conflicts of interest and material interests  19.1   Your attention is drawn to the fact that if we give you advice or deal or arrange deals for you we, an associate or some other person   connected with us, may have an interest, relationship or arrangement that is material in relation to the transaction or investmentconcerned. However, our employees are required to comply with a policy of independence and to disregard any such interest whenthey advise you.     19.2   By way of example only, when we recommend a transaction to you we may be:     involved in a new issue, rights issue, takeover or similar transaction concerning that investment, whether as financial adviser, stockbroker,underwriter or in some other capacity;orinterested in a company the securities of which we recommend to you (including holding a long or short position).  19.3   We are authorised by you to advise, deal or arrange deals, notwithstanding any conflict of interest or the existence of any material interest in a transaction, without prior reference to you, and will not be under any obligation to account to you for any profits or benefits arising.   19.4  Our full Conflicts of Interest policy is available on request.20. Research  20.1   Our employees, officers and directors and (as the case may be) the employees, officers and directors of any of our associates may receive or  have  knowledge of research reports and recommendations before such research reports and recommendations are provided to you.    20.2   We and our associates may act upon or use such research reports and recommendations (or any conclusions which they may expressor the research or analysis on which they may be based) before such research reports and recommendations are provided to you if so disclosed in any such report. However, we will not be under any obligation when we deal in investments for or with you to take account of any such research reports or recommendations. In all cases, you should conduct your own investigation and analysis of a potential investment before taking or not taking any action.     21. Agency  21.1   We do not have or accept any responsibility towards any person on whose behalf you are acting, unless we have established a separate client     relationship with that person. If you inform us that you are acting as the agent of an identified principal, we will nevertheless treat you as our client,  and will provide our services on the basis that we hold you responsible for obligations entered into on your instructions. In giving any advice to  you, we will rely on any relevant information given to us by you regarding your principals.     21.2   We may delegate any of our functions under this Agreement to an associate and may provide information about you to any such associate by our   liability to you for all matters so delegated shall not be affected thereby.   21.3   We may employ agents to perform any administrative and ancillary services required to enable us to perform the Services under this Agreement.22. Assignment and Third Party Rights  22.1   This Agreement is personal to you and is not capable of assignment by you and your obligations will not be capable of performance by anybodyelse without our consent. We may, on giving one month  s prior written notice to you, appoint any appropriate associate as investment manager in our place and shall then transfer to such appointee all the benefits of this Agreement and all our obligations hereunder.     22.2   A person who is not a party to this Agreement may not enforce any of its terms under the Contract (Rights of Third Parties) Act 1999 but this does   not affect any right or remedy of a third party which exists or is available other than under such Act. 23. Exclusion of liability and indemnity  23.1   Neither we nor our associates nor our or their officers or employees will be liable for any error of judgment or any loss suffered by you    in connection with the Services we provide under this Agreement (and in particular, but without limitation, we will not be liable for anyloss which may be sustained in the purchase, holding or sale of any investments or other assets in connection with those services),unless such loss results from either our or their negligence, wilful default or fraud.     23.2   We will be under no liability for any loss or expense you incur by reason of any delay or change in market conditions before any particular  transaction is effected. 5.    23.3   We will not be liable to you for the non-performance of any of our obligations by reason of any cause beyond our control, including any  breakdown or failure of transmission or communication or computer facilities, postal or other strikes or delays or any other industrialaction or the failure of any relevant exchange, clearing house, broker and/or counterparty for any reason to perform its obligations.    23.4   You will indemnify us and our associates and their officers and employees against any cost, loss, liability or expense whatsoever which may be    suffered or incurred by us and/or them directly or indirectly in connection with, or as a result of, any service performed oraction permitted under this Agreement, except to the extent it is caused by our and/or their negligence, wilful default or fraud.    23.5   We will not be liable for any default of any counterparty, bank, custodian, sub-custodian or other entity which holds money, investments or other documents of title on your behalf or with or through whom transactions are conducted on your behalf.   23.6   Nothing in this Agreement will exclude or restrict any obligation or liability which we have or owe to you under the FCA Rules in relation  to you, nor any liability which we may incur under the Act or the FCA Rules in respect of a breach of any such obligation, nor will anything in this  Agreement require you to indemnify or compensate us to any extent prohibited by the FCA Rules.    23.7   We give no warranty as to the recommendations and/or advice given by us under or pursuant to this Agreement or as to the performance or      profitability of your assets. We cannot guarantee that investments recommended will not depreciate in value or that they will not be affected by  adverse tax consequences. You and any professional tax adviser that you instruct remain responsible for the management of your affairs for   tax purposes. We are under no obligation to advise you on the tax implications of transactions and where we do so you should not rely on such  advice but should seek your own professional advice.    24. Warranties  24.1   You represent and warrant that:24.1.1  you have full power to employ us;            24.1.2    24.1.3   any information which you have provided to us, including in relation to your status for taxation purposes, is complete andaccurate and you agree to provide any further information properly required by any competent authority. You will notify us forthwith if  there is any material change in any such information provided; andyou have and will have all necessary consents and authorities to enable all transactions in investments under this Agreementto be effected and that in respect of each transaction, so far as you can ensure, all applicable regulations have been complied with.  24.2   You shall promptly give (or procure to be given) to us such information as we may require to enable us to comply with all applicable   disclosure obligations or requirements from time to time under the Companies Act 1985, the City Code on Takeovers and Mergers, theFCA Rules and the laws, rules or regulations of any relevant jurisdiction, exchange, market or regulatory authority which apply in respect of us, you  and/or the investments.   25. ChangesSubject as stated below, this Agreement may only be amended by a written variation agreed between us. However, we may amend this Agreementby written notice to you if any changes described in the notice are, in our opinion, required to enable us to comply with applicable regulations fromtime to time. Any such changes will become effective ten days after the notice is sent, or later if so specified.26. ComplaintsWe have a documented complaint handling procedure, which will be made available on request. As an Eligible Complainant you are entitled to registeryour complaint with the Financial Ombudsman Service, should you be unsatisfied with our response.27. CompensationThe custodians that SI Capital utilise to hold client assets are covered by the UK  s Financial Services Compensation Scheme (  FSCS  ). Compensation may be available from the FSCS if the custodian cannot meet its obligations to you. Your possible entitlement to compensation will depend upon the type of business and the circumstances of the claim. Most types of investment businesses are currently covered for 100% of a claim up to a maximum of \\\\xc2\\\\xa350,000. Further information about compensation arrangements is available from the FSCS, www.fscs.org.uk.28. Communications  28.1   All contract notes, advice notes or similar communications will be despatched or transmitted to you at your address shown in our records    for this purpose and will be conclusive and binding on you unless objection in writing is received by us within 24 hours after receipt byyou. In proving delivery, it will be sufficient for us to prove that the communication was correctly addressed and posted or delivered or thatit was effectively transmitted electronically. We will have authority to communicate with you on any matter which may arise in connectionwith the services which we have agreed to provide to you, without your having expressly invited us to make such a communication.      28.2   All other notices, letters and other written communications will be sent by you to our address as shown on the first page of this agreement  and by us to your address as shown on Fact Find (unless you notify us in writing to the contrary as regards your address) and will bedeemed to have been received at the times when in the ordinary course they would have been received.  29. AmendmentsAny amendment to this Agreement proposed by either you or us shall be notified by the other party in writing. Any amendment by us shall take effecton the date specified (being not less than 10 business days after the issue of the notice) unless you, in the meantime, notify us to the contrary orrequest a further extension of time. Any amendment proposed by you shall take effect when accepted in writing by us.30. Termination  30.1   Both you and us are entitled to terminate this Agreement by giving the other party immediate written notice, the termination to take effect upon receipt of that notice by the receiving party.   30.2   We are also entitled to terminate this Agreement without notice to you if, within the period of twelve months prior to termination, you have not instructed us to arrange any transaction in investments pursuant to this Agreement.   30.3   No penalty will become due from either you or us in respect of the termination of these arrangements. However, we will be entitled to   receive from you all fees, commissions, costs and expenses accrued or incurred up to and including the date of termination (including anyadditional costs, expenses and losses incurred in terminating this Agreement and/or dealing in investments with or for you in connectionwith such termination) and we may require you to pay reasonable charges for transferring your investments to another investment firm.     30.4   Termination of this Agreement will not affect outstanding rights or actual, future or contingent liabilities. The terms of this Agreement will  apply to these liabilities until all transactions and contract have been closed out, settled or delivery effected and all liabilities finally,unconditionally and irrevocably discharged.    30.5   Termination will not affect any provision of this Agreement which is intended to survive termination.31. Joint clients and trustees  31.1   Where this Agreement is addressed to more than one person:   31.1.1       any instruction, notice, demand, acknowledgement or request to be given by or to you under this Agreement may be given byor to any one of you. We need not enquire as to the authority of that person. That person may give us an effective and finaldischarge in respect of any of our obligations;6.    31.1.2  31.1.3  your liabilities under or in connection with this Agreement are joint and several; and  on the death of anyone of you, we may treat the survivor(s) as the only person(s) entitled to your investments.  31.2   Our authority under this Agreement is given by you on behalf of your successors in title as well as yourself. Accordingly, on your death, this     31.3   Where you are one or more trustee, you:Agreement will continue in effect until terminated by your personal representatives in accordance with clause 29 above. We may (but prior to any  grant of representation, are not bound to) act on the instructions of your personal representatives.  31.3.1   will notify us in writing of any changes in trustee(s) of the relevant trust; and31.3.2   confirm that, on the basis of competent legal advice, you are all satisfied that each of you has all the necessary powers to enterinto this Agreement32. ConfidentialityWe may not, except as permitted under this Agreement or permitted or required by applicable regulations, disclose any confidential informationrelating to you to a third party. We may from time to time pass information, which may include confidential information, to our associates.33. Personal data  33.1   We will collect personal data from you when you send your details to us. It is your responsibility to ensure that your personal data is accurate and up to date and to inform us of any changes that need to be made.   33.2   We process personal data collected for the following purposes:33.2.1  providing you with information about our services* 33.2.2  notifying you of any new services we offer*  33.2.3  understanding your needs; 33.2.4   marketing profiles*  33.2.5  strategic development;            *Where you have specifically optedin to recieve communications fromSI Capital as per our commitment to the GDPR33.2.6   keeping you informed about events, selected products and services which may be of interest to you; or providing you withinformation from carefully selected third parties*  33.3   We have taken steps to ensure that we have taken all appropriate administrative and technical measures to prevent the unauthorised or unlawful use of your personal data and to prevent any accidental loss, destruction or damage to such personal data.   33.4   Personal data may be transferred to a third party if all or part of SI Capital Ltd is sold, merged or otherwise transferred to another entity.  33.5   We will treat all information we hold about you as private and confidential even when you are no longer a client. We will not disclose any information we hold about you to others except: 33.5.1  to the extent we are required to do so by any applicable regulations;33.5.2   where there is a duty to the public to disclose;33.5.3   where our interests require disclosure;33.5.4  to your Clearing Firm;33.5.5  at your request or with your consent; free of charge33.5.6   where at our discretion we consider it necessary.                                  33.6   You agree that we and our associated companies may hold and process by computer or otherwise any information we hold about you and may use any of that information to administer and operate your account and to provide any Service to you.   33.7   Where you have given us your express permission to do so we may analyse and use the information we hold about you to enable us to give you     information (by post, telephone, e-mail or other medium, using the contact details you have given us) about other services offered by us (or selected third parties) such as which we believe may be of interest to you. If you no longer wish to receive marketing information or for us to contact you in any of these ways, please let us know by contacting us in writing.     33.8   You have the right of access to all of the information we hold about you, or to have inaccurate information corrected, under  data protection and the GDPR law. If you wish to exercise either of these rights, please contact us in writing. No fee will be charged for providing this  information.    33.9   We will retain all records for at least six years from the date of termination of this Agreement with you.34. Further assistanceEach of the parties shall execute all deeds or documents (including any power of attorney) and do all such other things that may reasonably berequired from time to time for the purpose of giving effect to the terms of this Agreement and the transactions contemplated hereby.35. Entire agreement and relationship  35.1   This Agreement constitutes the entire agreement and understanding of the parties and supersedes any previous agreement between the parties relating to the subject matter of this Agreement.   35.2   Each of the parties acknowledges and agrees that in entering into this Agreement, and the documents referred to in it, it does not rely   on, and shall have no remedy in respect of, any statement, representation, warranty or understanding (whether negligently or innocentlymade) of any person (whether a party to this Agreement or not) other than as expressly set out in this Agreement. Nothing in thisclause shall, however, operate to limit or exclude any liability for fraud.     35.3   Nothing in this Agreement (or any of the arrangements contemplated hereby) shall be deemed to create a partnership between the parties.36. Miscellaneous  36.1   Each of the parties shall pay the costs and expenses incurred by it in connection with negotiating and entering into this Agreement.  36.2   No failure to exercise or delay in exercising any right or remedy under this Agreement shall constitute a waiver thereof and no single orpartial exercise of any right or remedy under this Agreement shall preclude or restrict any further exercise of such right or remedy. The rights and remedies contained in this Agreement are cumulative and not exclusive of any rights and remedies provided by law.     36.3      If any term or provision in this Agreement shall in whole or in part be held to any extent to be illegal or unenforceable under any enactment or rule  of law that term or provision or part shall to that extent be deemed not to form part of this Agreement and the enforceability of the remainder of  this Agreement shall not be affected thereby.  36.4   We confirm that we have procedures in place to comply with money laundering prevention legislation and regulations (as defined in the FCA Rules).   These procedures may from time to time require us to elicit further information from you and you agree to provide such information on request.   36.5   You confirm that any information given to use by you is complete, accurate and not misleading in any material respect, and that you will supply to    us such information concerning you and/or any principal for whom you are acting as is reasonably required by us or any of our associates to  comply with applicable regulations or any order or request made by our, or the relevant associate  s regulator.  7.  37. Governing law  37.1   This Agreement shall be governed by and construed in accordance with English law and the parties irrevocably submit to the exclusive jurisdiction of the English courts.   37.2   This Agreement is also subject to the FCA Rules and in the event of conflict between the terms hereof and the FCA Rules, the FCA Rules shall prevail.   37.3   Each of the parties irrevocably consents to any process in any legal action or proceedings arising out of or in connection with this Agreement    being served on them in accordance with the provisions of this Agreement relating to service of communications. Nothing contained in this  Agreement shall affect the right to serve process in any other manner permitted by law.  38. Counterparts  38.1   This Agreement may be executed in any number of counterparts and by the parties on separate counterparts, but shall not be effective until each   of the parties has executed at least one counterpart.   38.2   Each counterpart shall constitute an original agreement but all the counterparts together shall constitute one and the same instrument.Please sign and return the enclosed copy of this Agreement to confirm your acceptance.Yours faithfullyRenato RufusChief Executivefor and on behalf of SI Capital Ltd.Before you sign your acceptance below. please make sure that you are satisfied as to its terms.ONE COPY OF THIS AGREEMENT TOGETHER WITH THE ATTACHED SCHEDULES IS TO BE RETAINED FOR YOUR RECORDS AND THE OTHER COPY TO BE SIGNED AND RETURNED TO US IN ITS ENTIRETY, INCLUDING THE COUNTERSIGNED NOTICE SET OUT IN APPENDIX CIf you have any queries in relation to these terms, please contact the New Accounts Department by telephone facsimile or e-mail as follows:Direct Tel: +44 (0) 1483 413500  Direct Fax: +44 (0) 1483 419933  E-mail: info@sicapital.co.ukl/We* confirm my/our* acceptance of the above terms and conditions. *Delete as applicable.To: SI Capital LtdYours faithfullyNameAddressPost CodeSignature   Date  Print Name          Signature   Date  Print NameSI Capital Ltd is authorised and regulated by the Financial Conduct Authority. Member of the London Stock Exchange.8.  APPENDIX B - DEALING IN SECURITIES WHICH MAY BE SUBJECT TO STABILISATIONThis statement complies with the rules of the Financial Conduct Authority (FCA)SI Capital or its representatives may, from time to time, recommend transactions in securities to you, or carry out such transactions on your behalf,where the price may have been influenced by measures taken to stabilise it.You should read the explanation below carefully. This is designed to help you judge whether you wish your funds to be invested at all in suchsecurities and, if you do, whether you wish:  (1)  (2)  to be consulted before SI Capital carries out any such transaction on your behalf; orto authorise SI Capital to carry out any such transaction on your behalf without first having to consult you.What is stabilisation?Stabilisation enables the market price of a security to be maintained artificially during the period when a new issue of securities is sold to thepublic. Stabilisation may affect not only the price of the new issue but also the price of other securities relating to it.The FCA allows stabilisation in order to help counter the fact that, when a new issue comes onto the market for the first time, the price cansometimes drop for a time before buyers are found.Stabilisation is being carried out by a   stabilisation manager   (normally the firm chiefly responsible for bringing a new issue to market). As long asthe stabilising manager follows a strict set of rules, he is entitled to buy back securities that were previously sold to investors or allotted toinstitutions which have decided not to keep them. The effect of this may be to keep the price at a higher level than it would otherwise be duringthe period of stabilisation.The Stabilisation Rules:   (1)  (2)  (3)  limit the period when a stabilising manager may stabilise a new issue;fix the price at which he may stabilise (in the case of shares and warrants but not bonds); andrequire him to disclose that he may be stabilising but not that he is actually doing so.The fact that a new issue or a related security is being stabilised should not be taken as any indication of the level of interest from investors, nor ofthe price at which they are prepared to buy the securities.APPENDIX C - WARRANTS AND DERIVATIVES RISK WARNING NOTICEThis notice is provided to you, as a Retail Client, in compliance with the rules of the Financial Conduct Authority (FCA). Retail Clients are affordedgreater protections under these rules than other clients are and you should ensure that your firm tells you what this will mean to you.This notice cannot disclose all the risks and other significant aspects of [warrants and/or ] derivative products such as futures or options orcontract for differences.You should not deal in these products unless you understand their nature and the extent of your exposure to risk. You should also be satisfied thatthe product is suitable for you in the light of your circumstances and financial position. Certain strategies, such as a spread position or a straddle,may be as risky as a simple long or short position.Although warrants and/or derivative instruments can be utilised for the management of investment risk, some of these products are unsuitable formany investors. Different instruments involve different levels of exposure to risk and in deciding whether to trade in such instruments you should beaware of the following points:1. WarrantsA warrant is a time-limited right to subscribe for shares, debentures, loan stock or government securities and is exercisable against the originalissuer of the underlying securities. A relatively small movement in the price of the underlying security results in a disproportionately largemovement, unfavourable or favourable, in the price of the warrant. The prices of warrants can therefore be volatile.It is essential for anyone who is considering purchasing warrants to understand that the right to subscribe which a warrant confers is invariablylimited in time with the consequence that if the investor fails to exercise this right within the predetermined time-scale, then the investmentbecomes worthless.You should not buy a warrant unless you are prepared to sustain a total loss of the money you have invested plus any commission or othertransaction charges.Some other instruments are also called warrants but are actually options (for example, a right to acquire securities which is exercisable againstsomeone other than the original issuer of the securities, often called a   covered warrant  ).2. Off-exchange warrant transactionsTransactions in off-exchange warrants may involve greater risk than dealing in exchange traded warrants because there is no exchange marketthrough which to liquidate your position, or to assess the value of the warrant or the exposure to risk. Bid and offer prices need not be quoted, andeven when they are, they will be established by dealers in these instruments and consequently it may be difficult to establish what is a fair price.Your firm must make it clear to you if you are entering into an off-exchange transaction and advise you of any risks involved.3. Securitised derivativesThese instruments may give you a time-limited right or an absolute right to acquire or sell one or more types of investment which is normally exercisable against someone other than the issuer of that investment. Or they may give you rights under a contract for differences which allow for speculation on fluctuations in the value of the property of any description or an index, such as the FTSE 100 index. In both cases the investment or property may be referred to as the   underlying instrument  .These instruments often involve a high degree of gearing or leverage, so that a relatively small movement in the price of the underlying investmentresults in a much larger movement, unfavourable or favourable, in the price of the instrument. The price of these instruments can therefore be volatile.These instruments have a limited life, and may (unless there is some form of guaranteed return to the amount you are investing in the product)expire worthless if the underlying instrument does not perform as expected.You should only buy this product if you are prepared to sustain a total or substantial loss of the money you have invested plus any commission orother transaction charges.You should consider carefully whether or not this product is suitable for you in light of your circumstances and financial position, and if in any doubtplease seek professional advice.9.  4. FuturesTransactions in futures involve the obligation to make, or to take, delivery on the underlying asset of the contract at a future date, or in some cases to settle the position with cash. They carry a high degree of risk. The   gearing   or   leverage   often obtainable in futures trading means that a small deposit or down payment can lead to large losses as well as gains. It also means that a relatively small movement can lead to a proportionately much larger movement in the value of your investment, and this can work against you as well as for you. Futures transactions have a contingent liability, and you should be aware of the implications of this, in particular the margining requirements, which are set out in paragraph 9.5. OptionsThere are many different types of options with different characteristics subject to the following conditions.  Buying options:  Buying options involves less risk than selling options because, if the price of the underlying asset moves against you, you can simply allow the option to   lapse. The maximum loss is limited to the premium, plus any commission or other transaction charges. However, if you buy a call option on a futures    contract and you later exercise the option, you will acquire the future. This will expose you to the risks described under   futures   and   contingent liability   investment transactions  .If you write an option, the risk involved is considerably greater than buying options. You may be liable for margin to maintain your position and a loss may    Writing options:   be sustained well in excess of the premium received. By writing an option, you accept a legal obligation to purchase or sell the underlying asset if the    option is exercised against you, however far the market price has moved away from the exercise price. If you already own the underlying asset which you    have contracted to sell (when the options will be known as   covered call options  ) the risk is reduced. If you do not own the underlying asset (  uncovered    call options  ) the risk can be unlimited. Only experienced persons should contemplate writing uncovered options, and then only after securing full details    of the applicable conditions and potential risk exposure.  Traditional options:  Certain London Stock Exchange member firms under special exchange rules write a particular type of option called a   traditional option  . These may       his exposure to risk.involve greater risk than other options. Two-way prices are not usually quoted and there is no exchange market on which to close out an open position or  to effect an equal and opposite transaction to reverse an open position. It may be difficult to assess its value or for the seller of such an option to manage  Certain options markets operate on a margined basis, under which buyers do not pay the full premium on their option at the time they purchase it.In this situation, you may subsequently be called upon to pay margin on the option up to the level of your premium. If you fail to do so as required,your position may be closed or liquidated in the same way as a futures position.6. Contract for differencesFutures and options contracts can also be referred to as contract for differences. These can be options and futures on the FTSE 100 index or any other index, as well as currency and interest rate swaps. However, unlike other futures and options, these contracts can only be settled in cash. Investing in a contract for differences carries the same risks as investing in a future or an option and you should be aware of these as set out in paragraphs 4 and 5 respectively. Transactions in contract for differences may also have a contingent liability and you should be aware of the implications of this as set out in paragraph 9 below.7. Foreign Exchange Trading and Multi-Currency AccountA. Arranging Service:SI Capital will act as a professional advisor in providing the Client with an Execution Only or Advisory Foreign Exchange Trading service and although the  Clients relationship remains with SI Capital, in signing this agreement and Risk Warning Notice the Client also acknowledges that they agree in full to the terms set out within Deutsche Bank\\'s Client Agreement and High Risk Investment Risk Disclosure Notice for Foreign Exchange Margin Trading. A current version of which can be found at www.dbfx.com and also makes up part of the DBFX Foreign Exchange Margin Trading Application Form.B. General Risk:The Client understands and acknowledges that buying and selling securities, options, futures and other financial products that are denominated in foreign currencies or traded on foreign markets is inherently risky and requires substantial knowledge and expertise. Clients\\' applying for Deutsche Bank\\'s Multi-Currency enabled accounts represent that they are aware of and understand the risks involved in trading foreign securities, options, futures and currencies and that they have sufficient financial resources to bear such risks. Any investment made in products of this type of should be considered as risk capital (money that you can afford to lose) and this type of investment may not be suitable for all investors depending on personal financial circumstance and investments objectives of the individual client. If there is any doubt with regard to your suitability to invest in these types on companies then you should always seek advice from your broker or an independent professional investment advisor.C. Client Responsibility for Investment Decisions:The client acknowledges that while SI Capital are authorised to provide investment, trading advice by the FCA any losses incurred as a result of opening a Foreign Exchange trading account with Deutsche Bank remain the responsibility of the client. Past performance may not be repeated in is no guarantee of future success. Clients must evaluate carefully whether any particular investment product is appropriate for them in light of their investment experience, financial objectives and needs, financial resources, and other relevant circumstances. SI Capital are not qualified to give tax advice and we strongly recommend that Clients obtain independent business, legal, and accounting advice before entering into any transactions.Exchange rates between foreign currencies can change rapidly due to a wide range of economic, political and other conditions, exposing the Client to risk of exchange rate losses in addition to the inherent risk of loss from trading the underlying financial product.If a Client deposits funds in a currency to trade products denominated in a different currency, Client\\'s gains or losses on the underlying investment therefore may be affected by changes in the exchange rate between the currencies. If Client is trading on margin, the impact of currency fluctuation on Client\\'s gains or losses may be even greater.D. Exchange Rate Risk:E. Currency Fluctuation:When Client uses the spot foreign exchange facility provided by Deutsche Bank to purchase or sell foreign currency, fluctuation in currency exchange rates between the foreign currency and the base currency could cause substantial losses to the Client, including losses when the Client converts the foreign currency back into the base currency.F. Foreign Currency Exchange Transactions Unregulated:Spot foreign currency exchange transactions between Client and Deutsche Bank are not regulated or overseen by the FCA.10.  G. Nature of Foreign Currency Exchange Transactions Between Client and Deutsche Bank:When Client enters into a foreign exchange transaction, the client will be entering into a privately negotiated transaction with one of Deutsche Banks\\'s affiliates or with a third party bank. In such transactions, Deutsche Bank\\'s affiliate or the third party bank (  the Foreign Exchange Counterparty  ) is acting solely in the capacity of an arm\\'s length contractual counterparty in connection with the transaction and not in the capacity of a financial adviser or fiduciary. Client should be aware that the Foreign Exchange Counterparty may from time to time have substantial positions in, and may make a market in or otherwise buy or sell instruments similar or economically related to, foreign currency transactions entered into with Client.The Foreign Exchange Counterparty may also undertake proprietary trading activities, including hedging transactions related to the initiation or termination of foreign exchange transactions with Client, that may adversely affect the market price or other factors underlying the foreign currency transaction entered into with Client and consequently, the value of such transaction.H. Trades Not Executed or Cleared by an Exchange:Foreign exchange transactions executed by Client through Deutsche Bank are not executed on an exchange and are not cleared by a central clearing organization. Consequently, any foreign currency transaction contract through Deutsche Bank will be an obligation of the Foreign Exchange Counterparty (as opposed to an obligation of a clearing house as in the case of an exchange-traded contract) and Client will not be afforded the regulatory and financial protections offered by exchange-traded contracts. Moreover, the prices quoted by Deutsche Bank to Clients for foreign exchange transactions will be determined based on Foreign Exchange Counterparty quotes and are not determined by a competitive auction as on an exchange market. Prices quoted by Deutsche Bank for foreign currency exchange transactions therefore may not be the most competitive prices available. Deutsche Bank will charge transaction fees as specified by Deutsche Bank for foreign currency exchange transactions. The Foreign Exchange Counterparty will try to earn a spread profit on these transactions (differential between the bid and ask prices quoted for various currencies).I. Other Risks:There are other risks that relate to trading foreign investment products and trading foreign currencies that cannot be described in detail in this document. Generally, however, foreign securities, options, futures and currency transactions involve exposure to a combination of the following risk factors: market risk, credit risk, settlement risk, liquidity risk, operational risk and legal risk. For example, there can be serious market disruptions if economic or political or other unforeseen events locally or overseas affect the market. In addition to these types of risk there may be other factors such as accounting and tax treatment issues that Clients should consider.8. Off-exchange transactions in derivativesIt may not always be apparent whether or not a particular derivative is arranged on exchange or in an off-exchange derivative transaction. Your firm must make it clear to you if you are entering into an off-exchange derivative transaction.While some off-exchange markets are highly liquid, transactions in off-exchange or non transferable derivatives may involve greater risk than investing in on-exchange derivatives because there is no exchange market on which to close out an open position. It may be impossible to liquidate an existing position, to assess the value of the position arising from an off-exchange transaction or to assess the exposure to risk. Bid prices and offer prices need not be quoted, and, even where they are, they will be established by dealers in these instalments and consequently it may be difficult to establish what is a fair price.9. Foreign marketsForeign markets will involve different risks from the UK markets. In some cases the risks will be greater. On request, your firm must provide an explanation of the relevant risks and protections (if any) which will operate in any foreign markets, including the extent to which it will accept liability for any default of a foreign firm through whom it deals.The potential for profit or loss from transactions on foreign markets or in foreign denominated contracts will be affected by fluctuations in foreign exchange rates.10. Contingent liability investment transactionsContingent liability investment transactions, which are margined, require you to make a series of payments against the purchase price, instead of paying the whole purchase price immediately.If you trade in contract for differences, you may sustain a total loss of the margin you deposit to establish or maintain a position. If the market moves against you, you may be called upon to pay substantial additional margin at short notice to maintain the position. If you fail to do so within the time required, your position may be liquidated at a loss and you will be responsible for the resulting deficit.Even if a transaction is not margined, it may still carry an obligation to make further payments in certain circumstances over and above any amount paid when you entered the contract.Save as specifically provided by the FCA, your firm may only carry out margined or contingent liability transactions with or for you if they are traded on or under the rules of a recognised or designated investment exchange. Contingent liability investment transactions which are not so traded may expose you to substantially greater risks.11. Limited liability transactions12. CollateralBefore entering into a limited liability transaction, you should obtain from your firm or the firm with whom you are dealing a formal written statementconfirming that the extent of your loss liability on each transaction will be limited to an amount agreed by you before you enter into the transaction. The amount you can lose in limited liability transactions will be less than in other margined transactions, which have no predetermined loss limit.Nevertheless, even though the extent of loss will be Subject to the agreed limit, you may sustain the loss in a relatively short time. Your loss may be limited, but the risk of sustaining a total loss to the amount agreed is substantial.If you deposit collateral as security with your firm, the way in which it will be treated will vary according to the type of transaction and where it is traded. There could be significant differences in the treatment of your collateral depending on whether you are trading on a recognised or designated investment exchange, with the rules of that exchange (and the associated clearing house) applying, or trading off-exchange. Deposited collateral may lose its identity as your property once dealings on your behalf are undertaken. Even if your dealings should ultimately prove profitable, you may not get back the same assets which you deposited, and may have to accept payment in cash. You should ascertain from your firm how your collateral will be dealt with.11.  13. Commissions14. Suspensions of trading15. Clearing house protections16. InsolvencyBefore you begin to trade, you should obtain details of all commissions and other charges for which you will be liable. If any charges are not expressed in money terms (but, for example, as a percentage of contract value), you should obtain a clear and written explanation, including appropriate examples, to establish what such charges are likely to mean in specific money terms. In the case of futures, when commission is charged as a percentage, it will normally be as a percentage of the total contract value, and not simply as a percentage of your initial payment.Under certain trading conditions it may be difficult or impossible to liquidate a position. This may occur, for example, at times of rapid price movement if the price rises or falls in one trading session to such an extent that under the rules of the relevant exchange trading is suspended or restricted. Placing a stop-loss order will not necessarily limit your losses to the intended amounts, because market conditions may make it impossible to execute such an order at the stipulated price.On many exchanges, the performance of a transaction by your firm (or third party with whom he is dealing on your behalf) is guaranteed by the exchange or clearing house. However, this guarantee is unlikely in most circumstances to cover you, the client, and may not protect you if your firm or another party defaults on its obligations to you. On request, your firm must explain any protection provided to you under the clearing guarantee applicable to any on-exchange derivatives in which you are dealing. There is no clearing house for traditional options, nor normally for off-exchange instruments which are not traded under the rules of a recognised or designated investment exchange.Your firm  s insolvency or default, or that of any other brokers involved with your transaction, may lead to positions being liquidated or closed out without your consent. In certain circumstances, you may not get back the actual assets which you lodged as collateral and you may have to accept any available payments in cash. On request, your firm must provide an explanation of the extent to which it will accept liability for any insolvency of, or default by, other firms involved with your transactions.SI Capital LimitedWe have read and understood the risk warning set out above.Signature   Signature               DateDateSI Capital Ltd is authorised and regulated by the Financial Conduct Authority.Member of the London Stock Exchange.12.  www.sicapital.co.ukHead Office:46 Bridge Street, GodalmingSurrey GU7 1HLT +44 (0)1483 413500SI Capital Ltd is authorised and regulated by the Financial Conduct Authority. Member of the London Stock Exchange.  \"'"
      ]
     },
     "execution_count": 28,
     "metadata": {},
     "output_type": "execute_result"
    }
   ],
   "source": [
    "str_text"
   ]
  },
  {
   "cell_type": "code",
   "execution_count": null,
   "metadata": {},
   "outputs": [],
   "source": []
  },
  {
   "cell_type": "code",
   "execution_count": null,
   "metadata": {},
   "outputs": [],
   "source": []
  },
  {
   "cell_type": "code",
   "execution_count": null,
   "metadata": {},
   "outputs": [],
   "source": []
  },
  {
   "cell_type": "code",
   "execution_count": null,
   "metadata": {},
   "outputs": [],
   "source": []
  },
  {
   "cell_type": "code",
   "execution_count": null,
   "metadata": {},
   "outputs": [],
   "source": []
  },
  {
   "cell_type": "code",
   "execution_count": null,
   "metadata": {},
   "outputs": [],
   "source": []
  },
  {
   "cell_type": "code",
   "execution_count": null,
   "metadata": {},
   "outputs": [],
   "source": []
  },
  {
   "cell_type": "code",
   "execution_count": null,
   "metadata": {},
   "outputs": [],
   "source": []
  },
  {
   "cell_type": "code",
   "execution_count": null,
   "metadata": {},
   "outputs": [],
   "source": []
  }
 ],
 "metadata": {
  "kernelspec": {
   "display_name": "Python 3",
   "language": "python",
   "name": "python3"
  },
  "language_info": {
   "codemirror_mode": {
    "name": "ipython",
    "version": 3
   },
   "file_extension": ".py",
   "mimetype": "text/x-python",
   "name": "python",
   "nbconvert_exporter": "python",
   "pygments_lexer": "ipython3",
   "version": "3.8.3"
  }
 },
 "nbformat": 4,
 "nbformat_minor": 4
}
