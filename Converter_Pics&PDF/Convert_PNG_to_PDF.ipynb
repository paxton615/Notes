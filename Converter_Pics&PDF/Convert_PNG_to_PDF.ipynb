{
 "cells": [
  {
   "cell_type": "markdown",
   "metadata": {},
   "source": [
    "- sys, fitz 运行没有问题"
   ]
  },
  {
   "cell_type": "code",
   "execution_count": 9,
   "metadata": {},
   "outputs": [],
   "source": [
    "# https://www.tutorialexample.com/a-simple-guide-to-python-convert-image-to-pdf-without-removing-image-alpha-channel/\n",
    "import sys, fitz"
   ]
  },
  {
   "cell_type": "markdown",
   "metadata": {},
   "source": [
    "#### In this example, we use a python list to save image path, which means we can convert some images to one pdf once."
   ]
  },
  {
   "cell_type": "code",
   "execution_count": 10,
   "metadata": {},
   "outputs": [],
   "source": [
    "imglist=['/Users/paxton615/Desktop/holiday17th.png']"
   ]
  },
  {
   "cell_type": "code",
   "execution_count": null,
   "metadata": {},
   "outputs": [],
   "source": []
  },
  {
   "cell_type": "code",
   "execution_count": 11,
   "metadata": {},
   "outputs": [],
   "source": [
    "doc = fitz.open()                            # PDF with the pictures\n",
    "for i, f in enumerate(imglist):\n",
    "    img = fitz.open(f) # open pic as document\n",
    "    rect = img[0].rect                       # pic dimension\n",
    "    pdfbytes = img.convertToPDF()            # make a PDF stream\n",
    "    img.close()                              # no longer needed\n",
    "    imgPDF = fitz.open(\"pdf\", pdfbytes)      # open stream as PDF\n",
    "    page = doc.newPage(width = rect.width,   # new page with ...\n",
    "                       height = rect.height) # pic dimension\n",
    "    page.showPDFpage(rect, imgPDF, 0) \n",
    "           # image fills the page\n",
    "doc.save(\"/Users/paxton615/Desktop/holiday17th.pdf\")"
   ]
  },
  {
   "cell_type": "code",
   "execution_count": null,
   "metadata": {},
   "outputs": [],
   "source": []
  },
  {
   "cell_type": "code",
   "execution_count": null,
   "metadata": {},
   "outputs": [],
   "source": [
    "# Python3 program to convert image to pfd\n",
    "# using img2pdf library\n",
    "\n",
    "# importing necessary libraries\n",
    "# import img2pdf\n",
    "# from PIL import Image\n",
    "# import os"
   ]
  },
  {
   "cell_type": "code",
   "execution_count": null,
   "metadata": {},
   "outputs": [],
   "source": [
    "# # storing image path\n",
    "# img_path = \"/Users/paxton615/Desktop/holiday17th.png\"\n",
    "\n",
    "# # storing pdf path\n",
    "# pdf_path = \"/Users/paxton615/Desktop/holiday17th.pdf\"\n",
    "\n",
    "# # opening image\n",
    "# image = Image.open(img_path)\n",
    "\n",
    "# # converting into chunks using img2pdf\n",
    "# pdf_bytes = img2pdf.convert(image.filename)\n",
    "\n",
    "# # opening or creating pdf file\n",
    "# file = open(pdf_path, \"wb\")\n",
    "\n",
    "# # writing pdf files with chunks\n",
    "# file.write(pdf_bytes)\n",
    "\n",
    "# # closing image file\n",
    "# image.close()\n",
    "\n",
    "# # closing pdf file\n",
    "# file.close()\n",
    "\n",
    "# # output\n",
    "# print(\"Successfully made pdf file\")"
   ]
  },
  {
   "cell_type": "code",
   "execution_count": null,
   "metadata": {},
   "outputs": [],
   "source": []
  },
  {
   "cell_type": "code",
   "execution_count": null,
   "metadata": {},
   "outputs": [],
   "source": []
  },
  {
   "cell_type": "code",
   "execution_count": null,
   "metadata": {},
   "outputs": [],
   "source": []
  },
  {
   "cell_type": "code",
   "execution_count": null,
   "metadata": {},
   "outputs": [],
   "source": []
  }
 ],
 "metadata": {
  "kernelspec": {
   "display_name": "Python 3",
   "language": "python",
   "name": "python3"
  },
  "language_info": {
   "codemirror_mode": {
    "name": "ipython",
    "version": 3
   },
   "file_extension": ".py",
   "mimetype": "text/x-python",
   "name": "python",
   "nbconvert_exporter": "python",
   "pygments_lexer": "ipython3",
   "version": "3.8.3"
  }
 },
 "nbformat": 4,
 "nbformat_minor": 4
}
