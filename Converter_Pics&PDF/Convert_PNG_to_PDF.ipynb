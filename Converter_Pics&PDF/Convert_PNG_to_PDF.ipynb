{
 "cells": [
  {
   "cell_type": "markdown",
   "metadata": {},
   "source": [
    "- sys, fitz 运行没有问题"
   ]
  },
  {
   "cell_type": "code",
   "execution_count": 1,
   "metadata": {},
   "outputs": [],
   "source": [
    "# https://www.tutorialexample.com/a-simple-guide-to-python-convert-image-to-pdf-without-removing-image-alpha-channel/\n",
    "import sys, fitz"
   ]
  },
  {
   "cell_type": "markdown",
   "metadata": {},
   "source": [
    "#### In this example, we use a python list to save image path, which means we can convert some images to one pdf once."
   ]
  },
  {
   "cell_type": "code",
   "execution_count": 19,
   "metadata": {},
   "outputs": [],
   "source": [
    "imglist=['/Users/paxton615/Desktop/02.png']"
   ]
  },
  {
   "cell_type": "code",
   "execution_count": 20,
   "metadata": {},
   "outputs": [],
   "source": [
    "doc = fitz.open()                            # PDF with the pictures\n",
    "for i, f in enumerate(imglist):\n",
    "    img = fitz.open(f) # open pic as document\n",
    "    rect = img[0].rect                       # pic dimension\n",
    "    pdfbytes = img.convertToPDF()            # make a PDF stream\n",
    "    img.close()                              # no longer needed\n",
    "    imgPDF = fitz.open(\"pdf\", pdfbytes)      # open stream as PDF\n",
    "    page = doc.newPage(width = rect.width,   # new page with ...\n",
    "                       height = rect.height) # pic dimension\n",
    "    page.showPDFpage(rect, imgPDF, 0) \n",
    "           # image fills the page\n",
    "doc.save(\"/Users/paxton615/Desktop/02.pdf\")"
   ]
  },
  {
   "cell_type": "code",
   "execution_count": null,
   "metadata": {},
   "outputs": [],
   "source": []
  },
  {
   "cell_type": "markdown",
   "metadata": {},
   "source": [
    "#### Extract tables from pdf (暂时无效)"
   ]
  },
  {
   "cell_type": "code",
   "execution_count": null,
   "metadata": {},
   "outputs": [],
   "source": []
  },
  {
   "cell_type": "code",
   "execution_count": 5,
   "metadata": {},
   "outputs": [],
   "source": [
    "import tabula\n",
    "import os"
   ]
  },
  {
   "cell_type": "code",
   "execution_count": 7,
   "metadata": {},
   "outputs": [],
   "source": [
    "# read PDF file\n",
    "tables = tabula.read_pdf(\"/Users/paxton615/Desktop/05.pdf\", pages=\"all\")"
   ]
  },
  {
   "cell_type": "code",
   "execution_count": 12,
   "metadata": {},
   "outputs": [],
   "source": [
    "# convert PDF into CSV file\n",
    "tabula.convert_into(\"/Users/paxton615/Desktop/055.pdf\", \"/Users/paxton615/Desktop/055.csv\", output_format=\"csv\", pages='all')\n",
    "\n",
    "# convert all PDFs in a directory\n",
    "# tabula.convert_into_by_batch(\"input_directory\", output_format='csv', pages='all')"
   ]
  },
  {
   "cell_type": "code",
   "execution_count": null,
   "metadata": {},
   "outputs": [],
   "source": [
    "# import tabula\n",
    "\n",
    "# # Read pdf into list of DataFrame\n",
    "# df = tabula.read_pdf(\"test.pdf\", pages='all')\n",
    "\n",
    "# # Read remote pdf into list of DataFrame\n",
    "# df2 = tabula.read_pdf(\"https://github.com/tabulapdf/tabula-java/raw/master/src/test/resources/technology/tabula/arabic.pdf\")\n",
    "\n",
    "# # convert PDF into CSV file\n",
    "# tabula.convert_into(\"test.pdf\", \"output.csv\", output_format=\"csv\", pages='all')\n",
    "\n",
    "# # convert all PDFs in a directory\n",
    "# tabula.convert_into_by_batch(\"input_directory\", output_format='csv', pages='all')"
   ]
  },
  {
   "cell_type": "code",
   "execution_count": null,
   "metadata": {},
   "outputs": [],
   "source": []
  },
  {
   "cell_type": "code",
   "execution_count": null,
   "metadata": {},
   "outputs": [],
   "source": []
  },
  {
   "cell_type": "code",
   "execution_count": null,
   "metadata": {},
   "outputs": [],
   "source": []
  },
  {
   "cell_type": "code",
   "execution_count": null,
   "metadata": {},
   "outputs": [],
   "source": []
  },
  {
   "cell_type": "code",
   "execution_count": null,
   "metadata": {},
   "outputs": [],
   "source": []
  },
  {
   "cell_type": "code",
   "execution_count": null,
   "metadata": {},
   "outputs": [],
   "source": []
  }
 ],
 "metadata": {
  "kernelspec": {
   "display_name": "Python 3",
   "language": "python",
   "name": "python3"
  },
  "language_info": {
   "codemirror_mode": {
    "name": "ipython",
    "version": 3
   },
   "file_extension": ".py",
   "mimetype": "text/x-python",
   "name": "python",
   "nbconvert_exporter": "python",
   "pygments_lexer": "ipython3",
   "version": "3.8.3"
  }
 },
 "nbformat": 4,
 "nbformat_minor": 4
}
