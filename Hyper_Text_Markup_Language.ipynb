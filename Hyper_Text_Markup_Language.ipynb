{
 "cells": [
  {
   "cell_type": "markdown",
   "metadata": {},
   "source": [
    "HTML\n",
    "\n",
    "hyper text markup language\n",
    "\n",
    "WWW\n",
    "\n",
    "world wide web\n",
    "\n"
   ]
  },
  {
   "cell_type": "code",
   "execution_count": 1,
   "metadata": {},
   "outputs": [
    {
     "data": {
      "text/plain": [
       "'/Users/paxton615/Github_Personal/Notes/Notes'"
      ]
     },
     "execution_count": 1,
     "metadata": {},
     "output_type": "execute_result"
    }
   ],
   "source": [
    "pwd"
   ]
  },
  {
   "cell_type": "code",
   "execution_count": 2,
   "metadata": {},
   "outputs": [
    {
     "name": "stdout",
     "output_type": "stream",
     "text": [
      "Code_to_save_models.ipynb\r\n",
      "DecisionTreeClassifier_titanic.ipynb\r\n",
      "DictVectorizer_study.ipynb\r\n",
      "How_to_Choose_Algorithm.ipynb\r\n",
      "Hyper_Text_Markup_Language.ipynb\r\n",
      "K-means.ipynb\r\n",
      "Linear_Model_Boston_House_Pricing.ipynb\r\n",
      "LogisticRgression_Cancer_Data.ipynb\r\n",
      "Normal_distribution_Notes.ipynb\r\n",
      "Numpy_tricks.ipynb\r\n",
      "READING_Linear_Algebra.ipynb\r\n",
      "READING_Linear_Algebra_Charpter_1_2.ipynb\r\n",
      "READING_Linear_Algebra_Charpter_3.ipynb\r\n",
      "README.md\r\n",
      "Random_Forest.ipynb\r\n",
      "StandardScaler_vs_Minmax_scale_in_visiual.ipynb\r\n",
      "Str_manipulation_&NLP.ipynb\r\n",
      "Web_scrapping_Beautiful_soup.ipynb\r\n",
      "Web_scrapping_of_requests.ipynb\r\n",
      "dating.txt\r\n",
      "\u001b[34mpics\u001b[m\u001b[m\r\n",
      "sklearn_functions.ipynb\r\n"
     ]
    }
   ],
   "source": [
    "! ls ./"
   ]
  },
  {
   "cell_type": "code",
   "execution_count": 3,
   "metadata": {},
   "outputs": [],
   "source": [
    "! cd ./"
   ]
  },
  {
   "cell_type": "code",
   "execution_count": 4,
   "metadata": {},
   "outputs": [
    {
     "data": {
      "text/plain": [
       "'/Users/paxton615/Github_Personal/Notes/Notes'"
      ]
     },
     "execution_count": 4,
     "metadata": {},
     "output_type": "execute_result"
    }
   ],
   "source": [
    "pwd"
   ]
  },
  {
   "cell_type": "code",
   "execution_count": 7,
   "metadata": {},
   "outputs": [],
   "source": [
    "! cd ./pics\n",
    "! mkdir html"
   ]
  },
  {
   "cell_type": "code",
   "execution_count": 8,
   "metadata": {},
   "outputs": [
    {
     "name": "stdout",
     "output_type": "stream",
     "text": [
      "Code_to_save_models.ipynb\r\n",
      "DecisionTreeClassifier_titanic.ipynb\r\n",
      "DictVectorizer_study.ipynb\r\n",
      "How_to_Choose_Algorithm.ipynb\r\n",
      "Hyper_Text_Markup_Language.ipynb\r\n",
      "K-means.ipynb\r\n",
      "Linear_Model_Boston_House_Pricing.ipynb\r\n",
      "LogisticRgression_Cancer_Data.ipynb\r\n",
      "Normal_distribution_Notes.ipynb\r\n",
      "Numpy_tricks.ipynb\r\n",
      "READING_Linear_Algebra.ipynb\r\n",
      "READING_Linear_Algebra_Charpter_1_2.ipynb\r\n",
      "READING_Linear_Algebra_Charpter_3.ipynb\r\n",
      "README.md\r\n",
      "Random_Forest.ipynb\r\n",
      "StandardScaler_vs_Minmax_scale_in_visiual.ipynb\r\n",
      "Str_manipulation_&NLP.ipynb\r\n",
      "Web_scrapping_Beautiful_soup.ipynb\r\n",
      "Web_scrapping_of_requests.ipynb\r\n",
      "dating.txt\r\n",
      "\u001b[34mhtml\u001b[m\u001b[m\r\n",
      "\u001b[34mpics\u001b[m\u001b[m\r\n",
      "sklearn_functions.ipynb\r\n"
     ]
    }
   ],
   "source": [
    "! ls"
   ]
  },
  {
   "cell_type": "code",
   "execution_count": 9,
   "metadata": {},
   "outputs": [
    {
     "name": "stdout",
     "output_type": "stream",
     "text": [
      "\u001b[34mbs4\u001b[m\u001b[m                           \u001b[34mrequests\u001b[m\u001b[m\r\n",
      "\u001b[34mlinear_algebra\u001b[m\u001b[m                \u001b[34msklearn_algorithm_cheat_sheet\u001b[m\u001b[m\r\n",
      "\u001b[34mnormal_distribution\u001b[m\u001b[m\r\n"
     ]
    }
   ],
   "source": [
    "! ls ./pics"
   ]
  },
  {
   "cell_type": "code",
   "execution_count": null,
   "metadata": {},
   "outputs": [],
   "source": []
  },
  {
   "cell_type": "code",
   "execution_count": null,
   "metadata": {},
   "outputs": [],
   "source": []
  },
  {
   "cell_type": "code",
   "execution_count": null,
   "metadata": {},
   "outputs": [],
   "source": []
  },
  {
   "cell_type": "code",
   "execution_count": null,
   "metadata": {},
   "outputs": [],
   "source": []
  },
  {
   "cell_type": "code",
   "execution_count": null,
   "metadata": {},
   "outputs": [],
   "source": []
  },
  {
   "cell_type": "code",
   "execution_count": null,
   "metadata": {},
   "outputs": [],
   "source": []
  },
  {
   "cell_type": "code",
   "execution_count": null,
   "metadata": {},
   "outputs": [],
   "source": []
  }
 ],
 "metadata": {
  "kernelspec": {
   "display_name": "Python 3",
   "language": "python",
   "name": "python3"
  },
  "language_info": {
   "codemirror_mode": {
    "name": "ipython",
    "version": 3
   },
   "file_extension": ".py",
   "mimetype": "text/x-python",
   "name": "python",
   "nbconvert_exporter": "python",
   "pygments_lexer": "ipython3",
   "version": "3.7.4"
  }
 },
 "nbformat": 4,
 "nbformat_minor": 4
}
