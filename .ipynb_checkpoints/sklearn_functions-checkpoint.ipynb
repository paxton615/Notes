{
 "cells": [
  {
   "cell_type": "code",
   "execution_count": 116,
   "metadata": {},
   "outputs": [],
   "source": [
    "import sklearn \n",
    "from sklearn.datasets import load_iris\n",
    "import pandas as pd\n",
    "from sklearn.model_selection import train_test_split\n",
    "from sklearn.feature_extraction import DictVectorizer\n",
    "from sklearn.feature_extraction.text import CountVectorizer\n",
    "import jieba\n",
    "from sklearn.feature_extraction.text import TfidfVectorizer\n",
    "from sklearn.preprocessing import MinMaxScaler, StandardScaler"
   ]
  },
  {
   "cell_type": "code",
   "execution_count": 6,
   "metadata": {},
   "outputs": [],
   "source": [
    "def datasets_demo():\n",
    "#   获取数据集\n",
    "    iris = load_iris()\n",
    "#   print('鸢尾花数据集: \\n', iris)\n",
    "    print('查看数据描述: \\n', iris['DESCR'])\n",
    "    print('查看属性名字: \\n', iris.feature_names)\n",
    "    \n",
    "#   数据集划分\n",
    "    x_train, x_test, y_train, y_test= train_test_split(iris.data,iris.target,test_size=0.2, random_state=22 )\n",
    "    print('查看训练集: \\n', x_train, x_train.shape )\n",
    "    \n",
    "    return None"
   ]
  },
  {
   "cell_type": "code",
   "execution_count": 31,
   "metadata": {},
   "outputs": [],
   "source": [
    "def dict_demo():\n",
    "    #字典特征抽取\n",
    "    data = [{'city':'北京','temperature':100},{'city':'上海', 'temperature':60},{'city':'深圳', 'temperature':30}]\n",
    "#     1. 实例化的一个转换器\n",
    "    transfer = DictVectorizer(sparse=True) \n",
    "#     2.调动fit_transform()\n",
    "    data_new = transfer.fit_transform(data)\n",
    "    print('data_new + sparse=True(显示二维数组的结果): \\n',data_new)\n",
    "    print('data_new + toarray : \\n', type(data_new),'\\n', data_new.toarray())\n",
    "    print('特征名 :\\n',transfer.get_feature_names())\n",
    "    return None"
   ]
  },
  {
   "cell_type": "code",
   "execution_count": 51,
   "metadata": {},
   "outputs": [],
   "source": [
    "def count_demo():\n",
    "    #文本特征抽取\n",
    "    data = ['life is short, i like like python','life is too long, i dislike python']\n",
    "    # 实例化一个转化器类\n",
    "    transfer = CountVectorizer(stop_words=['is','too'])\n",
    "#     调用fit_transform\n",
    "    data_new=transfer.fit_transform(data)\n",
    "    print('特征名 :\\n',transfer.get_feature_names())\n",
    "    print('data_new: \\n', data_new)\n",
    "    print('data_new + toarray 查看二维数组的结果: \\n', data_new.toarray())\n",
    "    \n",
    "    return None"
   ]
  },
  {
   "cell_type": "code",
   "execution_count": 52,
   "metadata": {},
   "outputs": [],
   "source": [
    "def count_chinese_demo():\n",
    "    #文本特征抽取 \n",
    "    data = ['我 爱 北京 天安门，','天安门 上 太阳 升。']\n",
    "#     如果不空格，整句将被视为一个单词来处理\n",
    "#     data = ['我爱北京天安门，','天安门上太阳升。']\n",
    "    # 实例化一个转化器类\n",
    "    transfer = CountVectorizer()\n",
    "#     调用fit_transform\n",
    "    data_new=transfer.fit_transform(data)\n",
    "    print('特征名 :\\n',transfer.get_feature_names())\n",
    "    print('data_new: \\n', data_new)\n",
    "    print('data_new + toarray 查看二维数组的结果: \\n', data_new.toarray())\n",
    "    \n",
    "    return None"
   ]
  },
  {
   "cell_type": "code",
   "execution_count": 100,
   "metadata": {},
   "outputs": [],
   "source": [
    "def cut_word(text):\n",
    "#     进行中文分词：‘我爱北京天安门’ ---‘我 爱 北京 天安门’\n",
    "    a =  list(jieba.cut(text))\n",
    "#     如果直接打印jieba.cut(text)是看不到结果的，一定熬list强转 ，加上\"\".join()让list变成一个str\n",
    "    print(a)\n",
    "    return None"
   ]
  },
  {
   "cell_type": "code",
   "execution_count": 101,
   "metadata": {},
   "outputs": [],
   "source": [
    "def count_chinese_demo2():\n",
    "#     中文文本特征抽取，自动分词\n",
    "    data=['一种还是一种今天很残酷，明天更残酷，后天很美好，但绝大部分是死在明天晚上，所以每个人不要放弃今天',\n",
    "         '我们看到的从很远星系来的光是在几百万年前发出的，这样当我们看到宇宙时，我们是在看它的过去',\n",
    "         '如果只用一种方式了解某样事物，你就不会真正了解它。了解事物真正含义的秘密取决于如何将其与我们所了解的事物相联系。']\n",
    "    \n",
    "\n",
    "    return None"
   ]
  },
  {
   "cell_type": "code",
   "execution_count": 110,
   "metadata": {},
   "outputs": [],
   "source": [
    "def tfidf_demo():\n",
    "#     用tf-idf做文本特征抽取\n",
    "    data = ['一种还是一种今天很残酷，明天更残酷，后天很美好，但绝大部分是死在明天晚上，所以每个人不要放弃今天',\n",
    "         '我们看到的从很远星系来的光是在几百万年前发出的，这样当我们看到宇宙时，我们是在看它的过去',\n",
    "         '如果只用一种方式了解某样事物，你就不会真正了解它。了解事物真正含义的秘密取决于如何将其与我们所了解的事物相联系。']\n",
    "    data_new = []\n",
    "    for sent in data:\n",
    "        data_new.append(cut_word(sent))\n",
    "#     如果不空格，整句将被视为一个单词来处理\n",
    "#     data = ['我爱北京天安门，','天安门上太阳升。']\n",
    "    # 实例化一个转化器类\n",
    "    transfer = TfidfVectorizer()\n",
    "#     调用fit_transform\n",
    "    data_final=transfer.fit_transform(data_new)\n",
    "    print('特征名 :\\n',transfer.get_feature_names())\n",
    "    print('data_new: \\n', data_fianl)\n",
    "    print('data_new + toarray 查看二维数组的结果: \\n', data_final.toarray())\n",
    "    \n",
    "    return None"
   ]
  },
  {
   "cell_type": "code",
   "execution_count": 125,
   "metadata": {},
   "outputs": [],
   "source": [
    "df = pd.read_csv('dating.txt', header = None, sep='\\t')\n",
    "\n",
    "df[3] = [3 if i=='largeDoses' else 2 if i=='smallDoses' else 1 for i in df[3]]\n",
    "\n",
    "dating=df\n",
    "\n",
    "dating.columns = ['milage','liters','consumtime','target']"
   ]
  },
  {
   "cell_type": "code",
   "execution_count": 142,
   "metadata": {},
   "outputs": [],
   "source": [
    "def minmax_demo():\n",
    "#     归一化\n",
    "#     获取数据\n",
    "    data=dating\n",
    "    data=data.iloc[:,:3]\n",
    "#     实例化一个转换器\n",
    "    transfer = MinMaxScaler()\n",
    "#     调用fit_transform\n",
    "    data_new = transfer.fit_transform(data)\n",
    "    print('data_new : \\n', data_new)\n",
    "    return None"
   ]
  },
  {
   "cell_type": "code",
   "execution_count": 147,
   "metadata": {},
   "outputs": [],
   "source": [
    "def stand_demo():\n",
    "#     标准化\n",
    "#     获取数据\n",
    "    data=dating\n",
    "    data=data.iloc[:,:3]\n",
    "#     实例化一个转换器\n",
    "    transfer = StandardScaler()\n",
    "#     调用fit_transform\n",
    "    data_new = transfer.fit_transform(data)\n",
    "    print('data_new : \\n', data_new)\n",
    "    return None"
   ]
  },
  {
   "cell_type": "code",
   "execution_count": null,
   "metadata": {},
   "outputs": [],
   "source": []
  },
  {
   "cell_type": "code",
   "execution_count": 148,
   "metadata": {},
   "outputs": [
    {
     "name": "stdout",
     "output_type": "stream",
     "text": [
      "data_new : \n",
      " [[ 0.33193158  0.41660188  0.24523407]\n",
      " [-0.87247784  0.13992897  1.69385734]\n",
      " [-0.34554872 -1.20667094 -0.05422437]\n",
      " ...\n",
      " [-0.32171752  0.96431572  0.06952649]\n",
      " [ 0.65959911  0.60699509 -0.20931587]\n",
      " [ 0.46120328  0.31183342  1.00680598]]\n"
     ]
    },
    {
     "name": "stderr",
     "output_type": "stream",
     "text": [
      "/anaconda3/lib/python3.7/site-packages/sklearn/preprocessing/data.py:645: DataConversionWarning: Data with input dtype int64, float64 were all converted to float64 by StandardScaler.\n",
      "  return self.partial_fit(X, y)\n",
      "/anaconda3/lib/python3.7/site-packages/sklearn/base.py:464: DataConversionWarning: Data with input dtype int64, float64 were all converted to float64 by StandardScaler.\n",
      "  return self.fit(X, **fit_params).transform(X)\n"
     ]
    }
   ],
   "source": [
    "if __name__ == \"__main__\":\n",
    "#     代码1.sklearn数据集使用\n",
    "#     datasets_demo()\n",
    "#     代码2.字典特征抽取\n",
    "#     dict_demo()\n",
    "#     代码3.文本的特征抽取\n",
    "#     count_demo()\n",
    "#     代码3.中文文本\n",
    "#     count_chinese_demo()\n",
    "#   代码4.中文文本，自动分词\n",
    "#     count_chinese_demo2()\n",
    "#     代码5.jieba分词测试,不成功，原因是分词在\"\".join()后，str没有空格\n",
    "#     cut_word('我爱北京天安门') \n",
    "#     代码6.tiidf关键词提取\n",
    "#     tfidf_demo()\n",
    "#     代码7.归一化\n",
    "#     minmax_demo()\n",
    "#     代码8.标准化\n",
    "    stand_demo()"
   ]
  },
  {
   "cell_type": "code",
   "execution_count": null,
   "metadata": {},
   "outputs": [],
   "source": [
    "# insstcart demo _ PCA\n",
    "# 1.获取数据，2.合并表，3.找到user_id和aisels之间的关系"
   ]
  },
  {
   "cell_type": "code",
   "execution_count": 167,
   "metadata": {},
   "outputs": [],
   "source": [
    "# 获取数据\n",
    "aisles = pd.read_csv('/Users/paxton615/Downloads/DATABASE/instacart-market-basket-analysis/aisles.csv')\n",
    "order_products__prior = pd.read_csv('/Users/paxton615/Downloads/DATABASE/instacart-market-basket-analysis/order_products__prior.csv')\n",
    "orders = pd.read_csv('/Users/paxton615/Downloads/DATABASE/instacart-market-basket-analysis/orders.csv')\n",
    "departments = pd.read_csv('/Users/paxton615/Downloads/DATABASE/instacart-market-basket-analysis/departments.csv')\n",
    "# order_products__train = pd.read_csv('/Users/paxton615/Downloads/DATABASE/instacart-market-basket-analysis/order_products__train.csv')\n",
    "products = pd.read_csv('/Users/paxton615/Downloads/DATABASE/instacart-market-basket-analysis/products.csv')\n"
   ]
  },
  {
   "cell_type": "code",
   "execution_count": 173,
   "metadata": {},
   "outputs": [
    {
     "name": "stdout",
     "output_type": "stream",
     "text": [
      "Index(['aisle_id', 'aisle'], dtype='object') \n",
      " \n",
      " Index(['order_id', 'user_id', 'eval_set', 'order_number', 'order_dow',\n",
      "       'order_hour_of_day', 'days_since_prior_order'],\n",
      "      dtype='object') \n",
      " \n",
      " Index(['department_id', 'department'], dtype='object') \n",
      " \n",
      " Index(['product_id', 'product_name', 'aisle_id', 'department_id'], dtype='object')\n"
     ]
    }
   ],
   "source": [
    "# 合并表\n",
    "print(aisles.columns, '\\n','\\n', orders.columns,'\\n','\\n', departments.columns, '\\n','\\n',products.columns)"
   ]
  },
  {
   "cell_type": "code",
   "execution_count": 180,
   "metadata": {},
   "outputs": [],
   "source": [
    "tab1 =pd.merge( pd.merge(aisles, products, on='aisle_id'),order_products__prior,on='product_id')"
   ]
  },
  {
   "cell_type": "code",
   "execution_count": 183,
   "metadata": {},
   "outputs": [],
   "source": [
    "tab2 = pd.merge(tab1, orders, on='order_id')"
   ]
  },
  {
   "cell_type": "code",
   "execution_count": 184,
   "metadata": {},
   "outputs": [
    {
     "data": {
      "text/html": [
       "<div>\n",
       "<style scoped>\n",
       "    .dataframe tbody tr th:only-of-type {\n",
       "        vertical-align: middle;\n",
       "    }\n",
       "\n",
       "    .dataframe tbody tr th {\n",
       "        vertical-align: top;\n",
       "    }\n",
       "\n",
       "    .dataframe thead th {\n",
       "        text-align: right;\n",
       "    }\n",
       "</style>\n",
       "<table border=\"1\" class=\"dataframe\">\n",
       "  <thead>\n",
       "    <tr style=\"text-align: right;\">\n",
       "      <th></th>\n",
       "      <th>aisle_id</th>\n",
       "      <th>aisle</th>\n",
       "      <th>product_id</th>\n",
       "      <th>product_name</th>\n",
       "      <th>department_id</th>\n",
       "      <th>order_id</th>\n",
       "      <th>add_to_cart_order</th>\n",
       "      <th>reordered</th>\n",
       "      <th>user_id</th>\n",
       "      <th>eval_set</th>\n",
       "      <th>order_number</th>\n",
       "      <th>order_dow</th>\n",
       "      <th>order_hour_of_day</th>\n",
       "      <th>days_since_prior_order</th>\n",
       "    </tr>\n",
       "  </thead>\n",
       "  <tbody>\n",
       "    <tr>\n",
       "      <th>0</th>\n",
       "      <td>1</td>\n",
       "      <td>prepared soups salads</td>\n",
       "      <td>209</td>\n",
       "      <td>Italian Pasta Salad</td>\n",
       "      <td>20</td>\n",
       "      <td>94246</td>\n",
       "      <td>5</td>\n",
       "      <td>0</td>\n",
       "      <td>114082</td>\n",
       "      <td>prior</td>\n",
       "      <td>26</td>\n",
       "      <td>0</td>\n",
       "      <td>20</td>\n",
       "      <td>1.0</td>\n",
       "    </tr>\n",
       "    <tr>\n",
       "      <th>1</th>\n",
       "      <td>1</td>\n",
       "      <td>prepared soups salads</td>\n",
       "      <td>22853</td>\n",
       "      <td>Pesto Pasta Salad</td>\n",
       "      <td>20</td>\n",
       "      <td>94246</td>\n",
       "      <td>4</td>\n",
       "      <td>0</td>\n",
       "      <td>114082</td>\n",
       "      <td>prior</td>\n",
       "      <td>26</td>\n",
       "      <td>0</td>\n",
       "      <td>20</td>\n",
       "      <td>1.0</td>\n",
       "    </tr>\n",
       "    <tr>\n",
       "      <th>2</th>\n",
       "      <td>4</td>\n",
       "      <td>instant foods</td>\n",
       "      <td>12087</td>\n",
       "      <td>Chicken Flavor Ramen Noodle Soup</td>\n",
       "      <td>9</td>\n",
       "      <td>94246</td>\n",
       "      <td>15</td>\n",
       "      <td>0</td>\n",
       "      <td>114082</td>\n",
       "      <td>prior</td>\n",
       "      <td>26</td>\n",
       "      <td>0</td>\n",
       "      <td>20</td>\n",
       "      <td>1.0</td>\n",
       "    </tr>\n",
       "    <tr>\n",
       "      <th>3</th>\n",
       "      <td>4</td>\n",
       "      <td>instant foods</td>\n",
       "      <td>47570</td>\n",
       "      <td>Original Flavor Macaroni &amp; Cheese Dinner</td>\n",
       "      <td>9</td>\n",
       "      <td>94246</td>\n",
       "      <td>14</td>\n",
       "      <td>1</td>\n",
       "      <td>114082</td>\n",
       "      <td>prior</td>\n",
       "      <td>26</td>\n",
       "      <td>0</td>\n",
       "      <td>20</td>\n",
       "      <td>1.0</td>\n",
       "    </tr>\n",
       "    <tr>\n",
       "      <th>4</th>\n",
       "      <td>13</td>\n",
       "      <td>prepared meals</td>\n",
       "      <td>10089</td>\n",
       "      <td>Dolmas</td>\n",
       "      <td>20</td>\n",
       "      <td>94246</td>\n",
       "      <td>25</td>\n",
       "      <td>0</td>\n",
       "      <td>114082</td>\n",
       "      <td>prior</td>\n",
       "      <td>26</td>\n",
       "      <td>0</td>\n",
       "      <td>20</td>\n",
       "      <td>1.0</td>\n",
       "    </tr>\n",
       "  </tbody>\n",
       "</table>\n",
       "</div>"
      ],
      "text/plain": [
       "   aisle_id                  aisle  product_id  \\\n",
       "0         1  prepared soups salads         209   \n",
       "1         1  prepared soups salads       22853   \n",
       "2         4          instant foods       12087   \n",
       "3         4          instant foods       47570   \n",
       "4        13         prepared meals       10089   \n",
       "\n",
       "                               product_name  department_id  order_id  \\\n",
       "0                       Italian Pasta Salad             20     94246   \n",
       "1                         Pesto Pasta Salad             20     94246   \n",
       "2          Chicken Flavor Ramen Noodle Soup              9     94246   \n",
       "3  Original Flavor Macaroni & Cheese Dinner              9     94246   \n",
       "4                                    Dolmas             20     94246   \n",
       "\n",
       "   add_to_cart_order  reordered  user_id eval_set  order_number  order_dow  \\\n",
       "0                  5          0   114082    prior            26          0   \n",
       "1                  4          0   114082    prior            26          0   \n",
       "2                 15          0   114082    prior            26          0   \n",
       "3                 14          1   114082    prior            26          0   \n",
       "4                 25          0   114082    prior            26          0   \n",
       "\n",
       "   order_hour_of_day  days_since_prior_order  \n",
       "0                 20                     1.0  \n",
       "1                 20                     1.0  \n",
       "2                 20                     1.0  \n",
       "3                 20                     1.0  \n",
       "4                 20                     1.0  "
      ]
     },
     "execution_count": 184,
     "metadata": {},
     "output_type": "execute_result"
    }
   ],
   "source": [
    "tab2.head()"
   ]
  },
  {
   "cell_type": "code",
   "execution_count": 186,
   "metadata": {},
   "outputs": [],
   "source": [
    "#找到user_id和aisles之间的关系\n",
    "table = pd.crosstab(tab2['user_id'],tab2['aisle'])"
   ]
  },
  {
   "cell_type": "code",
   "execution_count": 189,
   "metadata": {},
   "outputs": [
    {
     "data": {
      "text/plain": [
       "(206209, 134)"
      ]
     },
     "execution_count": 189,
     "metadata": {},
     "output_type": "execute_result"
    }
   ],
   "source": [
    "table.shape"
   ]
  },
  {
   "cell_type": "code",
   "execution_count": 190,
   "metadata": {},
   "outputs": [],
   "source": [
    "data = table[:10000]"
   ]
  },
  {
   "cell_type": "code",
   "execution_count": 191,
   "metadata": {},
   "outputs": [],
   "source": [
    "from sklearn.decomposition import PCA"
   ]
  },
  {
   "cell_type": "code",
   "execution_count": 192,
   "metadata": {},
   "outputs": [],
   "source": [
    "# 1.实例化一个转换器类\n",
    "transfer = PCA(n_components=0.95)\n",
    "# 2.调用fit_transform\n",
    "data_new = transfer.fit_transform(data)"
   ]
  },
  {
   "cell_type": "code",
   "execution_count": 194,
   "metadata": {},
   "outputs": [
    {
     "data": {
      "text/plain": [
       "(10000, 42)"
      ]
     },
     "execution_count": 194,
     "metadata": {},
     "output_type": "execute_result"
    }
   ],
   "source": [
    "data_new.shape # 保留了95的信息，但维数从134变成了42"
   ]
  },
  {
   "cell_type": "code",
   "execution_count": null,
   "metadata": {},
   "outputs": [],
   "source": []
  }
 ],
 "metadata": {
  "kernelspec": {
   "display_name": "Python 3",
   "language": "python",
   "name": "python3"
  },
  "language_info": {
   "codemirror_mode": {
    "name": "ipython",
    "version": 3
   },
   "file_extension": ".py",
   "mimetype": "text/x-python",
   "name": "python",
   "nbconvert_exporter": "python",
   "pygments_lexer": "ipython3",
   "version": "3.7.3"
  }
 },
 "nbformat": 4,
 "nbformat_minor": 2
}
