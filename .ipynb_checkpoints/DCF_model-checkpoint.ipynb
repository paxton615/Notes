{
 "cells": [
  {
   "cell_type": "code",
   "execution_count": 1,
   "metadata": {},
   "outputs": [],
   "source": [
    "from lxml import html\n",
    "import requests\n",
    "import json\n",
    "import argparse\n",
    "from collections import OrderedDict\n",
    "\n",
    "import warnings\n",
    "warnings.filterwarnings('ignore')\n"
   ]
  },
  {
   "cell_type": "code",
   "execution_count": null,
   "metadata": {},
   "outputs": [],
   "source": [
    "# 一下code还不能working"
   ]
  },
  {
   "cell_type": "code",
   "execution_count": 2,
   "metadata": {},
   "outputs": [
    {
     "name": "stderr",
     "output_type": "stream",
     "text": [
      "usage: ipykernel_launcher.py [-h] [--discount_rate DISCOUNT_RATE]\n",
      "                             [--growth_estimate GROWTH_ESTIMATE]\n",
      "                             [--terminal_rate TERMINAL_RATE] [--period PERIOD]\n",
      "                             ticker\n",
      "ipykernel_launcher.py: error: unrecognized arguments: -f\n"
     ]
    },
    {
     "ename": "SystemExit",
     "evalue": "2",
     "output_type": "error",
     "traceback": [
      "An exception has occurred, use %tb to see the full traceback.\n",
      "\u001b[0;31mSystemExit\u001b[0m\u001b[0;31m:\u001b[0m 2\n"
     ]
    }
   ],
   "source": [
    "\n",
    "def parse(ticker):\n",
    "    url = \"https://stockanalysis.com/stocks/{}/financials/cash-flow-statement\".format(ticker)\n",
    "    response = requests.get(url, verify=False)\n",
    "    parser = html.fromstring(response.content)\n",
    "    fcfs = parser.xpath('//table[contains(@id,\"financial-table\")]//tr[td/span/text()[contains(., \"Free Cash Flow\")]]')[0].xpath('.//td/span/text()')[1:]\n",
    "    last_fcf = float(fcfs[0].replace(',', ''))\n",
    "    \n",
    "    url = \"https://finance.yahoo.com/quote/{}/analysis?p={}\".format(ticker, ticker)\n",
    "    response = requests.get(url, headers={'User-Agent': 'Mozilla/5.0 (Windows NT 6.1; WOW64; rv:20.0) Gecko/20100101 Firefox/20.0'})\n",
    "    parser = html.fromstring(response.content)\n",
    "    ge = parser.xpath('//table//tbody//tr')\n",
    "\n",
    "    for row in ge:\n",
    "        label = row.xpath(\"td/span/text()\")[0]\n",
    "        if 'Next 5 Years' in label:\n",
    "            try:\n",
    "                ge = float(row.xpath(\"td/text()\")[0].replace('%', ''))\n",
    "            except:\n",
    "                ge = []\n",
    "            break\n",
    "\n",
    "    url = \"https://stockanalysis.com/stocks/{}/\".format(ticker)\n",
    "    response = requests.get(url, verify=False)\n",
    "    parser = html.fromstring(response.content)\n",
    "    shares = parser.xpath('//div[@class=\"order-1 flex flex-row gap-4\"]//table//tbody//tr[td/text()[contains(., \"Shares Out\")]]')\n",
    "\n",
    "    shares = shares[0].xpath('td/text()')[1]\n",
    "    factor = 1000 if 'B' in shares else 1 \n",
    "    shares = float(shares.replace('B', '').replace('M', '')) * factor\n",
    "\n",
    "    url = \"https://stockanalysis.com/stocks/{}/financials/\".format(ticker)\n",
    "    response = requests.get(url, verify=False)\n",
    "    parser = html.fromstring(response.content)\n",
    "    eps = parser.xpath('//table[contains(@id,\"financial-table\")]//tr[td/span/text()[contains(., \"EPS (Diluted)\")]]')[0].xpath('.//td/span/text()')[1:]\n",
    "    eps = float(eps[0].replace(\",\", \"\"))\n",
    "    market_price = float(parser.xpath('//div[@class=\"price-ext\"]/text()')[0].replace('$', '').replace(',', ''))\n",
    "    return {'fcf': last_fcf, 'ge': ge, 'yr': 5, 'dr': 10, 'pr': 2.5, 'shares': shares, 'eps': eps, 'mp': market_price}\n",
    "\n",
    "def dcf(data):\n",
    "    forecast = [data['fcf']]\n",
    "\n",
    "    if data['ge'] == []:\n",
    "    \traise ValueError(\"No growth rate available from Yahoo Finance\")\n",
    "\n",
    "    for i in range(1, data['yr']):\n",
    "        forecast.append(round(forecast[-1] + (data['ge'] / 100) * forecast[-1], 2))\n",
    "\n",
    "    forecast.append(round(forecast[-1] * (1 + (data['pr'] / 100)) / (data['dr'] / 100 - data['pr'] / 100), 2)) #terminal value\n",
    "    discount_factors = [1 / (1 + (data['dr'] / 100))**(i + 1) for i in range(len(forecast) - 1)]\n",
    "\n",
    "    pvs = [round(f * d, 2) for f, d in zip(forecast[:-1], discount_factors)]\n",
    "    pvs.append(round(discount_factors[-1] * forecast[-1], 2)) # discounted terminal value\n",
    "    \n",
    "    print(\"Forecasted cash flows: {}\".format(\", \".join(map(str, forecast))))\n",
    "    print(\"PV of cash flows: {}\".format(\", \".join(map(str, pvs))))\n",
    "\n",
    "    dcf = sum(pvs)\n",
    "    print(\"Fair value: {}\\n\".format(dcf / data['shares']))\n",
    "\n",
    "def reverse_dcf(data):\n",
    "    pass\n",
    "\n",
    "def graham(data):\n",
    "    if data['eps'] > 0:\n",
    "        expected_value = data['eps'] * (8.5 + 2 * (data['ge']))\n",
    "        ge_priced_in = (data['mp'] / data['eps'] - 8.5) / 2\n",
    "\n",
    "        print(\"Expected value based on growth rate: {}\".format(expected_value))\n",
    "        print(\"Growth rate priced in for next 7-10 years: {}\\n\".format(ge_priced_in))\n",
    "    else:\n",
    "        print(\"Not applicable since EPS is negative.\")\n",
    "\n",
    "if __name__ == \"__main__\":\n",
    "    argparser = argparse.ArgumentParser()\n",
    "    argparser.add_argument('ticker', help='Ticker to analyse. Example: GOOG')\n",
    "    argparser.add_argument('--discount_rate', help='Discount rate in %. Default: 10', default=10)\n",
    "    argparser.add_argument('--growth_estimate', help='Estimated yoy growth rate. Default: Fetched from Yahoo Finance')\n",
    "    argparser.add_argument('--terminal_rate', help='Terminal growth rate. Default: 2.5')\n",
    "    argparser.add_argument('--period', help='Time period in years. Default: 5')\n",
    "    args = argparser.parse_args()\n",
    "    \n",
    "    ticker = args.ticker\n",
    "\n",
    "    print(\"Fetching data for %s...\\n\" % (ticker))\n",
    "    data = parse(ticker)\n",
    "    print(\"=\" * 80)\n",
    "    print(\"DCF model (basic)\")\n",
    "    print(\"=\" * 80 + \"\\n\")\n",
    "\n",
    "    if args.period is not None:\n",
    "        data['yr'] = int(args.period)\n",
    "    if args.growth_estimate is not None:\n",
    "        data['ge'] = float(args.growth_estimate)\n",
    "    if args.discount_rate is not None:\n",
    "        data['dr'] = float(args.discount_rate)\n",
    "    if args.terminal_rate is not None:\n",
    "        data['pr'] = float(args.terminal_rate)\n",
    "\n",
    "    print(\"Market price: {}\".format(data['mp']))\n",
    "    print(\"EPS: {}\".format(data['eps']))\n",
    "    print(\"Growth estimate: {}\".format(data['ge']))\n",
    "    print(\"Term: {} years\".format(data['yr']))\n",
    "    print(\"Discount Rate: {}%\".format(data['dr']))\n",
    "    print(\"Perpetual Rate: {}%\\n\".format(data['pr']))\n",
    "\n",
    "    dcf(data)\n",
    "\n",
    "    print(\"=\" * 80)\n",
    "    print(\"Graham style valuation basic (Page 295, The Intelligent Investor)\")\n",
    "    print(\"=\" * 80 + \"\\n\")\n",
    "\n",
    "    graham(data)"
   ]
  },
  {
   "cell_type": "code",
   "execution_count": null,
   "metadata": {},
   "outputs": [],
   "source": []
  },
  {
   "cell_type": "code",
   "execution_count": null,
   "metadata": {},
   "outputs": [],
   "source": []
  },
  {
   "cell_type": "code",
   "execution_count": null,
   "metadata": {},
   "outputs": [],
   "source": []
  },
  {
   "cell_type": "code",
   "execution_count": null,
   "metadata": {},
   "outputs": [],
   "source": []
  },
  {
   "cell_type": "code",
   "execution_count": null,
   "metadata": {},
   "outputs": [],
   "source": []
  },
  {
   "cell_type": "code",
   "execution_count": null,
   "metadata": {},
   "outputs": [],
   "source": []
  }
 ],
 "metadata": {
  "kernelspec": {
   "display_name": "Python 3",
   "language": "python",
   "name": "python3"
  },
  "language_info": {
   "codemirror_mode": {
    "name": "ipython",
    "version": 3
   },
   "file_extension": ".py",
   "mimetype": "text/x-python",
   "name": "python",
   "nbconvert_exporter": "python",
   "pygments_lexer": "ipython3",
   "version": "3.8.3"
  }
 },
 "nbformat": 4,
 "nbformat_minor": 4
}
