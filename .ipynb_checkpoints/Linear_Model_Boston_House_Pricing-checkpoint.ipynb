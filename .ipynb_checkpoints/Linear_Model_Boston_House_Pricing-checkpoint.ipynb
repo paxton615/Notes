{
 "cells": [
  {
   "cell_type": "markdown",
   "metadata": {},
   "source": [
    "#### 流程\n",
    "1.获取数据集\\\n",
    "2.EDA，特征选择，划分数据集\\\n",
    "3.特征工程，无量纲化--标准化\\\n",
    "4.预估器流程\\\n",
    "   fit( ) —>模型\\\n",
    "   coef_ , intercept_\\\n",
    "5.模型评估，调优"
   ]
  },
  {
   "cell_type": "code",
   "execution_count": 31,
   "metadata": {},
   "outputs": [],
   "source": [
    "from sklearn.datasets import load_boston\n",
    "import pandas as pd\n",
    "import numpy as np\n",
    "from sklearn.model_selection import train_test_split\n",
    "from sklearn.preprocessing import StandardScaler\n",
    "from sklearn.linear_model import LinearRegression, SGDRegressor\n",
    "import warnings"
   ]
  },
  {
   "cell_type": "code",
   "execution_count": 4,
   "metadata": {},
   "outputs": [],
   "source": [
    "boston = load_boston()"
   ]
  },
  {
   "cell_type": "code",
   "execution_count": 30,
   "metadata": {},
   "outputs": [],
   "source": [
    "#pd.DataFrame(boston.data, columns = boston.feature_names, index=range(1,507))"
   ]
  },
  {
   "cell_type": "markdown",
   "metadata": {},
   "source": [
    "### 一般线性回归"
   ]
  },
  {
   "cell_type": "code",
   "execution_count": 36,
   "metadata": {},
   "outputs": [
    {
     "name": "stdout",
     "output_type": "stream",
     "text": [
      "coefficients: \n",
      " [-0.98  1.25  0.46  0.85 -1.93  2.45  0.   -2.84  2.74 -2.25 -2.09  0.7\n",
      " -4.02]\n",
      "intercept: \n",
      " 22.4\n"
     ]
    }
   ],
   "source": [
    "x_train, x_test, y_train, y_test = train_test_split(boston.data, boston.target, random_state=17)\n",
    "\n",
    "transfer = StandardScaler()\n",
    "x_train = transfer.fit_transform(x_train)\n",
    "x_test = transfer.transform(x_test)\n",
    "\n",
    "estimator = LinearRegression()\n",
    "\n",
    "estimator.fit(x_train, y_train)\n",
    "\n",
    "print('coefficients: \\n', np.round(estimator.coef_,2))\n",
    "print('intercept: \\n', np.round(estimator.intercept_,2))"
   ]
  },
  {
   "cell_type": "markdown",
   "metadata": {},
   "source": [
    "### 梯度下降SGD"
   ]
  },
  {
   "cell_type": "code",
   "execution_count": 37,
   "metadata": {},
   "outputs": [
    {
     "name": "stdout",
     "output_type": "stream",
     "text": [
      "coefficients: \n",
      " [-0.94  1.21  0.24  0.89 -1.86  2.48 -0.05 -2.8   2.23 -1.69 -2.06  0.69\n",
      " -4.01]\n",
      "intercept: \n",
      " [22.39]\n"
     ]
    }
   ],
   "source": [
    "x_train, x_test, y_train, y_test = train_test_split(boston.data, boston.target, random_state=17)\n",
    "\n",
    "transfer = StandardScaler()\n",
    "x_train = transfer.fit_transform(x_train)\n",
    "x_test = transfer.transform(x_test)\n",
    "\n",
    "estimatorSGD = SGDRegressor()\n",
    "\n",
    "estimatorSGD.fit(x_train, y_train)\n",
    "\n",
    "print('coefficients: \\n', np.round(estimatorSGD.coef_,2))\n",
    "print('intercept: \\n', np.round(estimatorSGD.intercept_,2))"
   ]
  },
  {
   "cell_type": "code",
   "execution_count": null,
   "metadata": {},
   "outputs": [],
   "source": []
  },
  {
   "cell_type": "code",
   "execution_count": null,
   "metadata": {},
   "outputs": [],
   "source": []
  },
  {
   "cell_type": "code",
   "execution_count": null,
   "metadata": {},
   "outputs": [],
   "source": []
  },
  {
   "cell_type": "code",
   "execution_count": null,
   "metadata": {},
   "outputs": [],
   "source": []
  }
 ],
 "metadata": {
  "kernelspec": {
   "display_name": "Python 3",
   "language": "python",
   "name": "python3"
  },
  "language_info": {
   "codemirror_mode": {
    "name": "ipython",
    "version": 3
   },
   "file_extension": ".py",
   "mimetype": "text/x-python",
   "name": "python",
   "nbconvert_exporter": "python",
   "pygments_lexer": "ipython3",
   "version": "3.7.4"
  }
 },
 "nbformat": 4,
 "nbformat_minor": 4
}
