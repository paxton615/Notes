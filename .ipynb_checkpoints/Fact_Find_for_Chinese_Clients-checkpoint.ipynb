{
 "cells": [
  {
   "cell_type": "markdown",
   "metadata": {},
   "source": [
    "Terms which could be unfamiliar to Chinese Clients\n",
    "\n",
    "Maidname: 女生，妻子出嫁前的姓氏（低于习俗,在有些地区，女子出嫁后可能随夫姓）\n",
    "\n",
    "FTSE: 全称Financial Times and Stock Exchange,富时指数。可类比于中国的A股指数。\n",
    "\n",
    "AIM： 全称Alternative Investment Market, 另类投资市场。国内翻译为高增长市场，可类比于中国的创业板指数。\n",
    "\n",
    "Gilts: sterling-denominated UK Government bonds,英镑计价的英国政府债券，即英国国债。\n",
    "\n",
    "Bonds: 债券，包括国债和公司债等。以上所说的gilts是bonds的一种特殊叫法。\n",
    "\n",
    "IPO: Initial Public Offering, 上市公司首次公开募股。\n",
    "\n",
    "Placing: 配售。上市公司在IPO后增发新股。\n"
   ]
  },
  {
   "cell_type": "markdown",
   "metadata": {},
   "source": [
    "请确认，您给出的地址，是您银行对账单的邮寄地址，也是您水电气费账单的邮寄地址。最好是个英国银行卡的对应地址。\n"
   ]
  },
  {
   "cell_type": "code",
   "execution_count": null,
   "metadata": {},
   "outputs": [],
   "source": []
  },
  {
   "cell_type": "code",
   "execution_count": null,
   "metadata": {},
   "outputs": [],
   "source": []
  },
  {
   "cell_type": "code",
   "execution_count": null,
   "metadata": {},
   "outputs": [],
   "source": []
  },
  {
   "cell_type": "code",
   "execution_count": null,
   "metadata": {},
   "outputs": [],
   "source": []
  },
  {
   "cell_type": "code",
   "execution_count": null,
   "metadata": {},
   "outputs": [],
   "source": []
  },
  {
   "cell_type": "code",
   "execution_count": null,
   "metadata": {},
   "outputs": [],
   "source": []
  },
  {
   "cell_type": "code",
   "execution_count": null,
   "metadata": {},
   "outputs": [],
   "source": []
  },
  {
   "cell_type": "code",
   "execution_count": null,
   "metadata": {},
   "outputs": [],
   "source": []
  },
  {
   "cell_type": "code",
   "execution_count": null,
   "metadata": {},
   "outputs": [],
   "source": []
  },
  {
   "cell_type": "code",
   "execution_count": null,
   "metadata": {},
   "outputs": [],
   "source": []
  },
  {
   "cell_type": "code",
   "execution_count": null,
   "metadata": {},
   "outputs": [],
   "source": []
  },
  {
   "cell_type": "code",
   "execution_count": null,
   "metadata": {},
   "outputs": [],
   "source": []
  },
  {
   "cell_type": "code",
   "execution_count": null,
   "metadata": {},
   "outputs": [],
   "source": []
  }
 ],
 "metadata": {
  "kernelspec": {
   "display_name": "Python 3",
   "language": "python",
   "name": "python3"
  },
  "language_info": {
   "codemirror_mode": {
    "name": "ipython",
    "version": 3
   },
   "file_extension": ".py",
   "mimetype": "text/x-python",
   "name": "python",
   "nbconvert_exporter": "python",
   "pygments_lexer": "ipython3",
   "version": "3.8.3"
  }
 },
 "nbformat": 4,
 "nbformat_minor": 4
}
