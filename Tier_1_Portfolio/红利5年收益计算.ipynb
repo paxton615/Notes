{
 "cells": [
  {
   "cell_type": "code",
   "execution_count": 1,
   "metadata": {},
   "outputs": [],
   "source": [
    "import pandas as pd\n",
    "import numpy as np\n",
    "import datetime as dt\n",
    "from datetime import datetime\n",
    "from datetime import date\n",
    "import matplotlib.pyplot as plt\n",
    "import re\n",
    "import requests\n",
    "pd.options.display.max_rows = 5000 \n",
    "import warnings\n",
    "warnings.filterwarnings('ignore')"
   ]
  },
  {
   "cell_type": "code",
   "execution_count": 2,
   "metadata": {},
   "outputs": [],
   "source": [
    "test_lst = ['AHT_div','AV_div','BA_div','GSK_div','HSBA_div','JD_div','NG_div','RDSB_div','RIO_div',\n",
    "            'SPX_div','TSCO_div','TW_div','ULVR_div']"
   ]
  },
  {
   "cell_type": "code",
   "execution_count": 3,
   "metadata": {},
   "outputs": [],
   "source": [
    "def get_years(lst, start_int, end_int):\n",
    "    df = pd.read_excel('/Users/paxton615/Desktop/Stock_Price_csv/tier_1_stocks/dividend/{}.xlsx'.format(lst[0]), skiprows=1)\n",
    "    df.columns = [''.join(filter(str.isalpha, i)).lower() for i in df.columns]\n",
    "    df = [int(i[3:]) for i in list(df['yearend'])]\n",
    "    df = list(filter(lambda i: end_int>=i>=start_int, df))\n",
    "    return(df)\n",
    "\n",
    "def get_dividends(lst, start_int, end_int):\n",
    "    new_list = []\n",
    "    for i in lst:\n",
    "        df = pd.read_excel('/Users/paxton615/Desktop/Stock_Price_csv/tier_1_stocks/dividend/{}.xlsx'.format(i), skiprows=1)\n",
    "        df.columns = [''.join(filter(str.isalpha, i)).lower() for i in df.columns]  #由于有些标题带*号，只保留字符，然后都变小写\n",
    "        df = df[['yearend','total']]\n",
    "        df.columns = ['year',i]\n",
    "        df['year'] = [int(i[3:]) for i in list(df['year'])]\n",
    "        df = df.loc[(df['year']<=end_int) & (df['year']>=start_int)] \n",
    "        df[i] = [float(re.sub(\"[^\\d\\.]\", \"\", i)) for i in df[i]] \n",
    "        new_list.append(df[i].reset_index(drop=True))\n",
    "    return(new_list)"
   ]
  },
  {
   "cell_type": "code",
   "execution_count": 9,
   "metadata": {},
   "outputs": [],
   "source": [
    "stocks = ['AHT', 'AV', 'BA', 'GSK', 'HSBA', 'JD', 'NG', 'RDSB', 'RIO', 'SPX', 'TSCO', 'TW', 'ULVR']\n",
    "# stocks = ['AHT', 'GSK', 'JD', 'NG', 'RDSB', 'RIO', 'SPX', 'TSCO', ]\n",
    "# start_date = '2016-01-01'\n",
    "# end_date = '2021-01-01'"
   ]
  },
  {
   "cell_type": "code",
   "execution_count": 10,
   "metadata": {},
   "outputs": [],
   "source": [
    "def get_dates(lst, start_str, end_str):\n",
    "    data = pd.read_csv(r'/Users/paxton615/Desktop/Stock_Price_csv/tier_1_stocks/{}.csv'.format(lst[0]))\n",
    "    data = data.loc[(data['time']>=start_str)&(data['time']<end_str)]\n",
    "    date = [datetime.fromisoformat(i[:10]) for i in data['time']]\n",
    "    return(date)\n",
    "\n",
    "def get_prices(lst,start_str, end_str):   \n",
    "    new_list = []\n",
    "    for i in lst:\n",
    "        data = pd.read_csv(r'/Users/paxton615/Desktop/Stock_Price_csv/tier_1_stocks/{}.csv'.format(i)) # read data from csv 注意文件夹路径和文件名\n",
    "        df = data[['time','close']]                                          # get time and close price\n",
    "        df.columns = ['date', i]                                       # change column names\n",
    "        df.date = [datetime.fromisoformat(i[:10]) for i in df['date']]       # convert dates into datetime\n",
    "        df = df.loc[(df['date']>=start_str)&(df['date']<end_str)]    # make sure date start from 2016-01-01\n",
    "        df = df.reset_index(drop=True)\n",
    "        new_list.append(df[i])\n",
    "    return(new_list)"
   ]
  },
  {
   "cell_type": "markdown",
   "metadata": {},
   "source": [
    "### 5年的红利"
   ]
  },
  {
   "cell_type": "code",
   "execution_count": 13,
   "metadata": {},
   "outputs": [
    {
     "data": {
      "text/html": [
       "<div>\n",
       "<style scoped>\n",
       "    .dataframe tbody tr th:only-of-type {\n",
       "        vertical-align: middle;\n",
       "    }\n",
       "\n",
       "    .dataframe tbody tr th {\n",
       "        vertical-align: top;\n",
       "    }\n",
       "\n",
       "    .dataframe thead th {\n",
       "        text-align: right;\n",
       "    }\n",
       "</style>\n",
       "<table border=\"1\" class=\"dataframe\">\n",
       "  <thead>\n",
       "    <tr style=\"text-align: right;\">\n",
       "      <th></th>\n",
       "      <th>AHT_div</th>\n",
       "      <th>AV_div</th>\n",
       "      <th>BA_div</th>\n",
       "      <th>GSK_div</th>\n",
       "      <th>HSBA_div</th>\n",
       "      <th>JD_div</th>\n",
       "      <th>NG_div</th>\n",
       "      <th>RDSB_div</th>\n",
       "      <th>RIO_div</th>\n",
       "      <th>SPX_div</th>\n",
       "      <th>TSCO_div</th>\n",
       "      <th>TW_div</th>\n",
       "      <th>ULVR_div</th>\n",
       "    </tr>\n",
       "  </thead>\n",
       "  <tbody>\n",
       "    <tr>\n",
       "      <th>2015</th>\n",
       "      <td>15.25</td>\n",
       "      <td>20.8</td>\n",
       "      <td>20.9</td>\n",
       "      <td>80.0</td>\n",
       "      <td>51.0</td>\n",
       "      <td>1.41</td>\n",
       "      <td>42.87</td>\n",
       "      <td>188.0</td>\n",
       "      <td>215.0</td>\n",
       "      <td>69.0</td>\n",
       "      <td>1.16</td>\n",
       "      <td>1.67</td>\n",
       "      <td>120.80</td>\n",
       "    </tr>\n",
       "    <tr>\n",
       "      <th>2016</th>\n",
       "      <td>22.50</td>\n",
       "      <td>23.3</td>\n",
       "      <td>21.3</td>\n",
       "      <td>80.0</td>\n",
       "      <td>51.0</td>\n",
       "      <td>1.48</td>\n",
       "      <td>43.34</td>\n",
       "      <td>188.0</td>\n",
       "      <td>170.0</td>\n",
       "      <td>76.0</td>\n",
       "      <td>0.00</td>\n",
       "      <td>2.82</td>\n",
       "      <td>128.04</td>\n",
       "    </tr>\n",
       "    <tr>\n",
       "      <th>2017</th>\n",
       "      <td>27.50</td>\n",
       "      <td>27.4</td>\n",
       "      <td>21.8</td>\n",
       "      <td>80.0</td>\n",
       "      <td>51.0</td>\n",
       "      <td>1.55</td>\n",
       "      <td>44.27</td>\n",
       "      <td>188.0</td>\n",
       "      <td>290.0</td>\n",
       "      <td>87.5</td>\n",
       "      <td>0.00</td>\n",
       "      <td>4.74</td>\n",
       "      <td>143.40</td>\n",
       "    </tr>\n",
       "    <tr>\n",
       "      <th>2018</th>\n",
       "      <td>33.00</td>\n",
       "      <td>30.0</td>\n",
       "      <td>22.2</td>\n",
       "      <td>80.0</td>\n",
       "      <td>51.0</td>\n",
       "      <td>1.63</td>\n",
       "      <td>45.93</td>\n",
       "      <td>188.0</td>\n",
       "      <td>307.0</td>\n",
       "      <td>100.0</td>\n",
       "      <td>3.00</td>\n",
       "      <td>6.24</td>\n",
       "      <td>154.88</td>\n",
       "    </tr>\n",
       "    <tr>\n",
       "      <th>2019</th>\n",
       "      <td>40.00</td>\n",
       "      <td>15.5</td>\n",
       "      <td>23.2</td>\n",
       "      <td>80.0</td>\n",
       "      <td>30.0</td>\n",
       "      <td>1.71</td>\n",
       "      <td>47.34</td>\n",
       "      <td>188.0</td>\n",
       "      <td>382.0</td>\n",
       "      <td>110.0</td>\n",
       "      <td>5.77</td>\n",
       "      <td>3.84</td>\n",
       "      <td>164.16</td>\n",
       "    </tr>\n",
       "    <tr>\n",
       "      <th>2020</th>\n",
       "      <td>40.65</td>\n",
       "      <td>21.0</td>\n",
       "      <td>23.7</td>\n",
       "      <td>80.0</td>\n",
       "      <td>15.0</td>\n",
       "      <td>0.28</td>\n",
       "      <td>48.57</td>\n",
       "      <td>65.3</td>\n",
       "      <td>464.0</td>\n",
       "      <td>118.0</td>\n",
       "      <td>9.15</td>\n",
       "      <td>4.14</td>\n",
       "      <td>165.80</td>\n",
       "    </tr>\n",
       "  </tbody>\n",
       "</table>\n",
       "</div>"
      ],
      "text/plain": [
       "      AHT_div  AV_div  BA_div  GSK_div  HSBA_div  JD_div  NG_div  RDSB_div  \\\n",
       "2015    15.25    20.8    20.9     80.0      51.0    1.41   42.87     188.0   \n",
       "2016    22.50    23.3    21.3     80.0      51.0    1.48   43.34     188.0   \n",
       "2017    27.50    27.4    21.8     80.0      51.0    1.55   44.27     188.0   \n",
       "2018    33.00    30.0    22.2     80.0      51.0    1.63   45.93     188.0   \n",
       "2019    40.00    15.5    23.2     80.0      30.0    1.71   47.34     188.0   \n",
       "2020    40.65    21.0    23.7     80.0      15.0    0.28   48.57      65.3   \n",
       "\n",
       "      RIO_div  SPX_div  TSCO_div  TW_div  ULVR_div  \n",
       "2015    215.0     69.0      1.16    1.67    120.80  \n",
       "2016    170.0     76.0      0.00    2.82    128.04  \n",
       "2017    290.0     87.5      0.00    4.74    143.40  \n",
       "2018    307.0    100.0      3.00    6.24    154.88  \n",
       "2019    382.0    110.0      5.77    3.84    164.16  \n",
       "2020    464.0    118.0      9.15    4.14    165.80  "
      ]
     },
     "execution_count": 13,
     "metadata": {},
     "output_type": "execute_result"
    }
   ],
   "source": [
    "div_yrs = get_years(test_lst, 2015, 2020)\n",
    "\n",
    "divs = get_dividends(test_lst, 2015, 2020)\n",
    "\n",
    "dividends = pd.DataFrame(np.array(divs).T, columns=test_lst , index=np.array(div_yrs).T)\n",
    "dividends = dividends.iloc[::-1] #将数据从老到新排列\n",
    "dividends"
   ]
  },
  {
   "cell_type": "markdown",
   "metadata": {},
   "source": [
    "### 5年中每天的价格"
   ]
  },
  {
   "cell_type": "code",
   "execution_count": 11,
   "metadata": {},
   "outputs": [
    {
     "data": {
      "text/html": [
       "<div>\n",
       "<style scoped>\n",
       "    .dataframe tbody tr th:only-of-type {\n",
       "        vertical-align: middle;\n",
       "    }\n",
       "\n",
       "    .dataframe tbody tr th {\n",
       "        vertical-align: top;\n",
       "    }\n",
       "\n",
       "    .dataframe thead th {\n",
       "        text-align: right;\n",
       "    }\n",
       "</style>\n",
       "<table border=\"1\" class=\"dataframe\">\n",
       "  <thead>\n",
       "    <tr style=\"text-align: right;\">\n",
       "      <th></th>\n",
       "      <th>AHT</th>\n",
       "      <th>AV</th>\n",
       "      <th>BA</th>\n",
       "      <th>GSK</th>\n",
       "      <th>HSBA</th>\n",
       "      <th>JD</th>\n",
       "      <th>NG</th>\n",
       "      <th>RDSB</th>\n",
       "      <th>RIO</th>\n",
       "      <th>SPX</th>\n",
       "      <th>TSCO</th>\n",
       "      <th>TW</th>\n",
       "      <th>ULVR</th>\n",
       "    </tr>\n",
       "  </thead>\n",
       "  <tbody>\n",
       "    <tr>\n",
       "      <th>2015-01-02</th>\n",
       "      <td>1165.0</td>\n",
       "      <td>484.39999</td>\n",
       "      <td>469.20001</td>\n",
       "      <td>1383.0</td>\n",
       "      <td>612.00000</td>\n",
       "      <td>101.600000</td>\n",
       "      <td>908.29999</td>\n",
       "      <td>2235.5</td>\n",
       "      <td>2970.0</td>\n",
       "      <td>2848.0</td>\n",
       "      <td>188.00000</td>\n",
       "      <td>134.89999</td>\n",
       "      <td>2606.0</td>\n",
       "    </tr>\n",
       "    <tr>\n",
       "      <th>2015-01-05</th>\n",
       "      <td>1182.0</td>\n",
       "      <td>470.79999</td>\n",
       "      <td>462.00000</td>\n",
       "      <td>1369.5</td>\n",
       "      <td>603.90002</td>\n",
       "      <td>101.400000</td>\n",
       "      <td>909.70001</td>\n",
       "      <td>2128.5</td>\n",
       "      <td>2883.5</td>\n",
       "      <td>2832.0</td>\n",
       "      <td>181.60001</td>\n",
       "      <td>133.80000</td>\n",
       "      <td>2573.0</td>\n",
       "    </tr>\n",
       "    <tr>\n",
       "      <th>2015-01-06</th>\n",
       "      <td>1109.0</td>\n",
       "      <td>464.00000</td>\n",
       "      <td>456.70001</td>\n",
       "      <td>1357.0</td>\n",
       "      <td>593.70001</td>\n",
       "      <td>94.400000</td>\n",
       "      <td>896.79999</td>\n",
       "      <td>2121.0</td>\n",
       "      <td>2944.5</td>\n",
       "      <td>2784.0</td>\n",
       "      <td>178.80000</td>\n",
       "      <td>131.10001</td>\n",
       "      <td>2574.0</td>\n",
       "    </tr>\n",
       "    <tr>\n",
       "      <th>2015-01-07</th>\n",
       "      <td>1109.0</td>\n",
       "      <td>463.29999</td>\n",
       "      <td>462.70001</td>\n",
       "      <td>1379.0</td>\n",
       "      <td>601.00000</td>\n",
       "      <td>95.159998</td>\n",
       "      <td>917.50000</td>\n",
       "      <td>2148.5</td>\n",
       "      <td>2962.5</td>\n",
       "      <td>2800.0</td>\n",
       "      <td>182.00000</td>\n",
       "      <td>132.39999</td>\n",
       "      <td>2591.0</td>\n",
       "    </tr>\n",
       "    <tr>\n",
       "      <th>2015-01-08</th>\n",
       "      <td>1131.0</td>\n",
       "      <td>483.20001</td>\n",
       "      <td>468.89999</td>\n",
       "      <td>1427.5</td>\n",
       "      <td>606.20001</td>\n",
       "      <td>97.000000</td>\n",
       "      <td>932.40002</td>\n",
       "      <td>2200.0</td>\n",
       "      <td>3027.5</td>\n",
       "      <td>2849.0</td>\n",
       "      <td>209.25000</td>\n",
       "      <td>132.80000</td>\n",
       "      <td>2668.0</td>\n",
       "    </tr>\n",
       "  </tbody>\n",
       "</table>\n",
       "</div>"
      ],
      "text/plain": [
       "               AHT         AV         BA     GSK       HSBA          JD  \\\n",
       "2015-01-02  1165.0  484.39999  469.20001  1383.0  612.00000  101.600000   \n",
       "2015-01-05  1182.0  470.79999  462.00000  1369.5  603.90002  101.400000   \n",
       "2015-01-06  1109.0  464.00000  456.70001  1357.0  593.70001   94.400000   \n",
       "2015-01-07  1109.0  463.29999  462.70001  1379.0  601.00000   95.159998   \n",
       "2015-01-08  1131.0  483.20001  468.89999  1427.5  606.20001   97.000000   \n",
       "\n",
       "                   NG    RDSB     RIO     SPX       TSCO         TW    ULVR  \n",
       "2015-01-02  908.29999  2235.5  2970.0  2848.0  188.00000  134.89999  2606.0  \n",
       "2015-01-05  909.70001  2128.5  2883.5  2832.0  181.60001  133.80000  2573.0  \n",
       "2015-01-06  896.79999  2121.0  2944.5  2784.0  178.80000  131.10001  2574.0  \n",
       "2015-01-07  917.50000  2148.5  2962.5  2800.0  182.00000  132.39999  2591.0  \n",
       "2015-01-08  932.40002  2200.0  3027.5  2849.0  209.25000  132.80000  2668.0  "
      ]
     },
     "execution_count": 11,
     "metadata": {},
     "output_type": "execute_result"
    }
   ],
   "source": [
    "date = get_dates(stocks,'2015-01-01','2020-01-01')\n",
    "\n",
    "prices = get_prices(stocks,'2015-01-01','2020-01-01')\n",
    "\n",
    "prices = pd.DataFrame(np.array(prices).T, columns=stocks , index=np.array(date).T)\n",
    "prices.head()"
   ]
  },
  {
   "cell_type": "markdown",
   "metadata": {},
   "source": [
    "#### 假设一个投资者拥有200万英镑的资产，且我们将资金在所有股票上平均分配。试计算最终的红利dividend回报是多少。"
   ]
  },
  {
   "cell_type": "code",
   "execution_count": 14,
   "metadata": {},
   "outputs": [],
   "source": [
    "fund = 200*10000*100 # unit = pence"
   ]
  },
  {
   "cell_type": "markdown",
   "metadata": {},
   "source": [
    "divide fund equally into 13 stocks"
   ]
  },
  {
   "cell_type": "code",
   "execution_count": 17,
   "metadata": {},
   "outputs": [
    {
     "data": {
      "text/plain": [
       "array([15384615.38461538, 15384615.38461538, 15384615.38461538,\n",
       "       15384615.38461538, 15384615.38461538, 15384615.38461538,\n",
       "       15384615.38461538, 15384615.38461538, 15384615.38461538,\n",
       "       15384615.38461538, 15384615.38461538, 15384615.38461538,\n",
       "       15384615.38461538])"
      ]
     },
     "execution_count": 17,
     "metadata": {},
     "output_type": "execute_result"
    }
   ],
   "source": [
    "equal_portion = np.full(shape=len(stocks), fill_value=fund/len(stocks), dtype=np.float)\n",
    "equal_portion"
   ]
  },
  {
   "cell_type": "markdown",
   "metadata": {},
   "source": [
    "calculate how many shares that each equal portion can give us"
   ]
  },
  {
   "cell_type": "code",
   "execution_count": 20,
   "metadata": {},
   "outputs": [
    {
     "data": {
      "text/plain": [
       "AHT      13206.0\n",
       "AV       31760.0\n",
       "BA       32789.0\n",
       "GSK      11124.0\n",
       "HSBA     25138.0\n",
       "JD      151423.0\n",
       "NG       16938.0\n",
       "RDSB      6882.0\n",
       "RIO       5180.0\n",
       "SPX       5402.0\n",
       "TSCO     81833.0\n",
       "TW      114045.0\n",
       "ULVR      5904.0\n",
       "Name: 2015-01-02 00:00:00, dtype: float64"
      ]
     },
     "execution_count": 20,
     "metadata": {},
     "output_type": "execute_result"
    }
   ],
   "source": [
    "shares = np.round(equal_portion / prices.iloc[0], 0)\n",
    "shares"
   ]
  },
  {
   "cell_type": "markdown",
   "metadata": {},
   "source": [
    "client invest at the beginning of 2015 for 5 years. dividend years are 2015, 2016, 2017, 2018, 2019"
   ]
  },
  {
   "cell_type": "code",
   "execution_count": 22,
   "metadata": {},
   "outputs": [
    {
     "data": {
      "text/plain": [
       "AHT_div      138.25\n",
       "AV_div       117.00\n",
       "BA_div       109.40\n",
       "GSK_div      400.00\n",
       "HSBA_div     234.00\n",
       "JD_div         7.78\n",
       "NG_div       223.75\n",
       "RDSB_div     940.00\n",
       "RIO_div     1364.00\n",
       "SPX_div      442.50\n",
       "TSCO_div       9.93\n",
       "TW_div        19.31\n",
       "ULVR_div     711.28\n",
       "dtype: float64"
      ]
     },
     "execution_count": 22,
     "metadata": {},
     "output_type": "execute_result"
    }
   ],
   "source": [
    "dividends.iloc[:5].sum()"
   ]
  },
  {
   "cell_type": "markdown",
   "metadata": {},
   "source": [
    "shares * dividends.iloc[:5].sum() gives each stock dividends paid within 5 years"
   ]
  },
  {
   "cell_type": "code",
   "execution_count": 28,
   "metadata": {},
   "outputs": [
    {
     "data": {
      "text/plain": [
       "array([1825729.5 , 3715920.  , 3587116.6 , 4449600.  , 5882292.  ,\n",
       "       1178070.94, 3789877.5 , 6469080.  , 7065520.  , 2390385.  ,\n",
       "        812601.69, 2202208.95, 4199397.12])"
      ]
     },
     "execution_count": 28,
     "metadata": {},
     "output_type": "execute_result"
    }
   ],
   "source": [
    "div_5yrs = np.array(shares) * np.array(dividends.iloc[:5].sum())\n",
    "div_5yrs"
   ]
  },
  {
   "cell_type": "code",
   "execution_count": 33,
   "metadata": {},
   "outputs": [
    {
     "data": {
      "text/plain": [
       "0.0475677993"
      ]
     },
     "execution_count": 33,
     "metadata": {},
     "output_type": "execute_result"
    }
   ],
   "source": [
    "div_5yrs.sum() / fund / 5 # 所有分红收益相加 / 初始投资 = 投资期间总回报率， 投资期间总回报率 / 年份 = 年回报率"
   ]
  },
  {
   "cell_type": "markdown",
   "metadata": {},
   "source": [
    "calculate 5 years dividend ROI for each stocks"
   ]
  },
  {
   "cell_type": "code",
   "execution_count": 30,
   "metadata": {},
   "outputs": [
    {
     "data": {
      "text/plain": [
       "array([0.11867242, 0.2415348 , 0.23316258, 0.289224  , 0.38234898,\n",
       "       0.07657461, 0.24634204, 0.4204902 , 0.4592588 , 0.15537502,\n",
       "       0.05281911, 0.14314358, 0.27296081])"
      ]
     },
     "execution_count": 30,
     "metadata": {},
     "output_type": "execute_result"
    }
   ],
   "source": [
    "div_5yrs_roi = div_5yrs / equal_portion\n",
    "div_5yrs_roi                            # 个股分红 / 各股初期资金分配（相当于权数） = 各股期间ROI "
   ]
  },
  {
   "cell_type": "markdown",
   "metadata": {},
   "source": [
    "报告中需要用到，派息率排行从高到低"
   ]
  },
  {
   "cell_type": "code",
   "execution_count": 44,
   "metadata": {},
   "outputs": [],
   "source": [
    "rank_div_5yrs = pd.DataFrame([div_5yrs_roi], columns = dividends.columns).T.sort_values(by=0, ascending=False).reset_index()"
   ]
  },
  {
   "cell_type": "code",
   "execution_count": 47,
   "metadata": {},
   "outputs": [],
   "source": [
    "rank_div_5yrs.index = rank_div_5yrs.index+1"
   ]
  },
  {
   "cell_type": "code",
   "execution_count": 48,
   "metadata": {},
   "outputs": [
    {
     "data": {
      "text/html": [
       "<div>\n",
       "<style scoped>\n",
       "    .dataframe tbody tr th:only-of-type {\n",
       "        vertical-align: middle;\n",
       "    }\n",
       "\n",
       "    .dataframe tbody tr th {\n",
       "        vertical-align: top;\n",
       "    }\n",
       "\n",
       "    .dataframe thead th {\n",
       "        text-align: right;\n",
       "    }\n",
       "</style>\n",
       "<table border=\"1\" class=\"dataframe\">\n",
       "  <thead>\n",
       "    <tr style=\"text-align: right;\">\n",
       "      <th></th>\n",
       "      <th>index</th>\n",
       "      <th>0</th>\n",
       "    </tr>\n",
       "  </thead>\n",
       "  <tbody>\n",
       "    <tr>\n",
       "      <th>1</th>\n",
       "      <td>RIO_div</td>\n",
       "      <td>0.459259</td>\n",
       "    </tr>\n",
       "    <tr>\n",
       "      <th>2</th>\n",
       "      <td>RDSB_div</td>\n",
       "      <td>0.420490</td>\n",
       "    </tr>\n",
       "    <tr>\n",
       "      <th>3</th>\n",
       "      <td>HSBA_div</td>\n",
       "      <td>0.382349</td>\n",
       "    </tr>\n",
       "    <tr>\n",
       "      <th>4</th>\n",
       "      <td>GSK_div</td>\n",
       "      <td>0.289224</td>\n",
       "    </tr>\n",
       "    <tr>\n",
       "      <th>5</th>\n",
       "      <td>ULVR_div</td>\n",
       "      <td>0.272961</td>\n",
       "    </tr>\n",
       "    <tr>\n",
       "      <th>6</th>\n",
       "      <td>NG_div</td>\n",
       "      <td>0.246342</td>\n",
       "    </tr>\n",
       "    <tr>\n",
       "      <th>7</th>\n",
       "      <td>AV_div</td>\n",
       "      <td>0.241535</td>\n",
       "    </tr>\n",
       "    <tr>\n",
       "      <th>8</th>\n",
       "      <td>BA_div</td>\n",
       "      <td>0.233163</td>\n",
       "    </tr>\n",
       "    <tr>\n",
       "      <th>9</th>\n",
       "      <td>SPX_div</td>\n",
       "      <td>0.155375</td>\n",
       "    </tr>\n",
       "    <tr>\n",
       "      <th>10</th>\n",
       "      <td>TW_div</td>\n",
       "      <td>0.143144</td>\n",
       "    </tr>\n",
       "    <tr>\n",
       "      <th>11</th>\n",
       "      <td>AHT_div</td>\n",
       "      <td>0.118672</td>\n",
       "    </tr>\n",
       "    <tr>\n",
       "      <th>12</th>\n",
       "      <td>JD_div</td>\n",
       "      <td>0.076575</td>\n",
       "    </tr>\n",
       "    <tr>\n",
       "      <th>13</th>\n",
       "      <td>TSCO_div</td>\n",
       "      <td>0.052819</td>\n",
       "    </tr>\n",
       "  </tbody>\n",
       "</table>\n",
       "</div>"
      ],
      "text/plain": [
       "       index         0\n",
       "1    RIO_div  0.459259\n",
       "2   RDSB_div  0.420490\n",
       "3   HSBA_div  0.382349\n",
       "4    GSK_div  0.289224\n",
       "5   ULVR_div  0.272961\n",
       "6     NG_div  0.246342\n",
       "7     AV_div  0.241535\n",
       "8     BA_div  0.233163\n",
       "9    SPX_div  0.155375\n",
       "10    TW_div  0.143144\n",
       "11   AHT_div  0.118672\n",
       "12    JD_div  0.076575\n",
       "13  TSCO_div  0.052819"
      ]
     },
     "execution_count": 48,
     "metadata": {},
     "output_type": "execute_result"
    }
   ],
   "source": [
    "rank_div_5yrs"
   ]
  },
  {
   "cell_type": "code",
   "execution_count": 36,
   "metadata": {},
   "outputs": [
    {
     "data": {
      "text/plain": [
       "0.047567799300000005"
      ]
     },
     "execution_count": 36,
     "metadata": {},
     "output_type": "execute_result"
    }
   ],
   "source": [
    "div_5yrs_roi.sum()/ len(stocks) /5 # 个各股期间ROI .sum() / 股票个数 = 期间平均回报率， 期间平均回报率 / 5年 = 年回报率"
   ]
  },
  {
   "cell_type": "markdown",
   "metadata": {},
   "source": [
    "如果每只股票上投入的fund不是平均的，最正确的计算方法是 （[资金分配权数] * [各股回报率] ）.sum()就是整个Portfolio这段时间的总Return，再除以年数或者月数，就可以简单分解成年回报率了"
   ]
  },
  {
   "cell_type": "code",
   "execution_count": null,
   "metadata": {},
   "outputs": [],
   "source": []
  }
 ],
 "metadata": {
  "kernelspec": {
   "display_name": "Python 3",
   "language": "python",
   "name": "python3"
  },
  "language_info": {
   "codemirror_mode": {
    "name": "ipython",
    "version": 3
   },
   "file_extension": ".py",
   "mimetype": "text/x-python",
   "name": "python",
   "nbconvert_exporter": "python",
   "pygments_lexer": "ipython3",
   "version": "3.8.3"
  }
 },
 "nbformat": 4,
 "nbformat_minor": 4
}
