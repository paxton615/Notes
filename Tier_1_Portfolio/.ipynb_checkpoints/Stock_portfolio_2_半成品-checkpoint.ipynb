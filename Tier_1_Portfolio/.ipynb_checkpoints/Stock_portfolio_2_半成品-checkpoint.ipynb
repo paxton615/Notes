{
 "cells": [
  {
   "cell_type": "code",
   "execution_count": 1,
   "metadata": {},
   "outputs": [],
   "source": [
    "import pandas as pd\n",
    "import numpy as np\n",
    "import datetime as dt\n",
    "from datetime import datetime\n",
    "from datetime import date\n",
    "import matplotlib.pyplot as plt\n",
    "import re\n",
    "import requests\n",
    "pd.options.display.max_rows = 5000 "
   ]
  },
  {
   "cell_type": "markdown",
   "metadata": {},
   "source": [
    "CSV_list\n",
    "\n",
    "HSBA, JD, RIO, TSCO, SPX"
   ]
  },
  {
   "cell_type": "code",
   "execution_count": 2,
   "metadata": {},
   "outputs": [],
   "source": [
    "def get_close(stock):\n",
    "    data = pd.read_csv(r'/Users/paxton615/Desktop/Stock_Price_csv/tier_1_stocks/{}.csv'.format(stock)) # read data from csv 注意文件夹路径和文件名\n",
    "    df = data[['time','close']]                                          # get time and close price\n",
    "    df.columns = ['date', stock]                                       # change column names\n",
    "    df.date = [datetime.fromisoformat(i[:10]) for i in df['date']]       # convert dates into datetime\n",
    "    df = df.loc[(df['date']>='2016-01-01')&(df['date']<'2021-01-01')]    # make sure date start from 2016-01-01\n",
    "#     print(df.head(),df.tail(), len(df.date))                             # check header and df length\n",
    "    df = df.reset_index(drop=True)\n",
    "    return (df)"
   ]
  },
  {
   "cell_type": "markdown",
   "metadata": {},
   "source": [
    "#### 这里发现了一个大bug\n",
    "\n",
    "合并dataframe时，如果index是乱序，则合并出来的结果也可能是乱序"
   ]
  },
  {
   "cell_type": "code",
   "execution_count": 3,
   "metadata": {
    "scrolled": true
   },
   "outputs": [
    {
     "name": "stderr",
     "output_type": "stream",
     "text": [
      "/Users/paxton615/opt/anaconda3/lib/python3.8/site-packages/pandas/core/generic.py:5303: SettingWithCopyWarning: \n",
      "A value is trying to be set on a copy of a slice from a DataFrame.\n",
      "Try using .loc[row_indexer,col_indexer] = value instead\n",
      "\n",
      "See the caveats in the documentation: https://pandas.pydata.org/pandas-docs/stable/user_guide/indexing.html#returning-a-view-versus-a-copy\n",
      "  self[name] = value\n"
     ]
    }
   ],
   "source": [
    "HSBA = get_close('HSBA')\n",
    "JD = get_close('JD')\n",
    "RIO = get_close('RIO')\n",
    "TSCO = get_close('TSCO')\n",
    "SPX = get_close('SPX')"
   ]
  },
  {
   "cell_type": "code",
   "execution_count": 4,
   "metadata": {},
   "outputs": [
    {
     "data": {
      "text/html": [
       "<div>\n",
       "<style scoped>\n",
       "    .dataframe tbody tr th:only-of-type {\n",
       "        vertical-align: middle;\n",
       "    }\n",
       "\n",
       "    .dataframe tbody tr th {\n",
       "        vertical-align: top;\n",
       "    }\n",
       "\n",
       "    .dataframe thead th {\n",
       "        text-align: right;\n",
       "    }\n",
       "</style>\n",
       "<table border=\"1\" class=\"dataframe\">\n",
       "  <thead>\n",
       "    <tr style=\"text-align: right;\">\n",
       "      <th></th>\n",
       "      <th>HSBA</th>\n",
       "      <th>JD</th>\n",
       "      <th>RIO</th>\n",
       "      <th>TSCO</th>\n",
       "      <th>SPX</th>\n",
       "    </tr>\n",
       "    <tr>\n",
       "      <th>date</th>\n",
       "      <th></th>\n",
       "      <th></th>\n",
       "      <th></th>\n",
       "      <th></th>\n",
       "      <th></th>\n",
       "    </tr>\n",
       "  </thead>\n",
       "  <tbody>\n",
       "    <tr>\n",
       "      <th>2016-01-04</th>\n",
       "      <td>520.40002</td>\n",
       "      <td>205.2</td>\n",
       "      <td>1902.5</td>\n",
       "      <td>142.25000</td>\n",
       "      <td>3190</td>\n",
       "    </tr>\n",
       "    <tr>\n",
       "      <th>2016-01-05</th>\n",
       "      <td>522.59998</td>\n",
       "      <td>203.0</td>\n",
       "      <td>1939.5</td>\n",
       "      <td>144.39999</td>\n",
       "      <td>3225</td>\n",
       "    </tr>\n",
       "    <tr>\n",
       "      <th>2016-01-06</th>\n",
       "      <td>508.29999</td>\n",
       "      <td>206.4</td>\n",
       "      <td>1846.5</td>\n",
       "      <td>141.55000</td>\n",
       "      <td>3191</td>\n",
       "    </tr>\n",
       "    <tr>\n",
       "      <th>2016-01-07</th>\n",
       "      <td>502.00000</td>\n",
       "      <td>208.8</td>\n",
       "      <td>1784.5</td>\n",
       "      <td>139.20000</td>\n",
       "      <td>3175</td>\n",
       "    </tr>\n",
       "    <tr>\n",
       "      <th>2016-01-08</th>\n",
       "      <td>499.10001</td>\n",
       "      <td>206.6</td>\n",
       "      <td>1739.0</td>\n",
       "      <td>146.89999</td>\n",
       "      <td>3129</td>\n",
       "    </tr>\n",
       "  </tbody>\n",
       "</table>\n",
       "</div>"
      ],
      "text/plain": [
       "                 HSBA     JD     RIO       TSCO   SPX\n",
       "date                                                 \n",
       "2016-01-04  520.40002  205.2  1902.5  142.25000  3190\n",
       "2016-01-05  522.59998  203.0  1939.5  144.39999  3225\n",
       "2016-01-06  508.29999  206.4  1846.5  141.55000  3191\n",
       "2016-01-07  502.00000  208.8  1784.5  139.20000  3175\n",
       "2016-01-08  499.10001  206.6  1739.0  146.89999  3129"
      ]
     },
     "execution_count": 4,
     "metadata": {},
     "output_type": "execute_result"
    }
   ],
   "source": [
    "df = pd.DataFrame({'date':HSBA['date'], 'HSBA':HSBA['HSBA'], 'JD':JD['JD'], 'RIO':RIO['RIO'], 'TSCO':TSCO['TSCO'], 'SPX':SPX['SPX']})\n",
    "df = df.set_index('date', drop=True)\n",
    "df.head()"
   ]
  },
  {
   "cell_type": "code",
   "execution_count": 5,
   "metadata": {},
   "outputs": [
    {
     "data": {
      "image/png": "[encoded data removed]",
      "text/plain": [
       "<Figure size 864x432 with 1 Axes>"
      ]
     },
     "metadata": {
      "needs_background": "light"
     },
     "output_type": "display_data"
    }
   ],
   "source": [
    "# visually show portfolio\n",
    "title = 'Portfolio Close Price Histroy'\n",
    "\n",
    "# get the stocks\n",
    "my_stocks = df\n",
    "\n",
    "# create\n",
    "plt.figure(figsize=(12,6))\n",
    "for c in my_stocks.columns.values:\n",
    "    plt.plot(my_stocks[c], label= c)\n",
    "    \n",
    "plt.title(title)\n",
    "plt.xlabel('Date', fontsize=18)\n",
    "plt.ylabel('Tier_1_stocks ', fontsize=18)\n",
    "plt.legend(my_stocks.columns.values, loc='upper left')\n",
    "plt.show()"
   ]
  },
  {
   "cell_type": "code",
   "execution_count": 6,
   "metadata": {},
   "outputs": [
    {
     "data": {
      "text/html": [
       "<div>\n",
       "<style scoped>\n",
       "    .dataframe tbody tr th:only-of-type {\n",
       "        vertical-align: middle;\n",
       "    }\n",
       "\n",
       "    .dataframe tbody tr th {\n",
       "        vertical-align: top;\n",
       "    }\n",
       "\n",
       "    .dataframe thead th {\n",
       "        text-align: right;\n",
       "    }\n",
       "</style>\n",
       "<table border=\"1\" class=\"dataframe\">\n",
       "  <thead>\n",
       "    <tr style=\"text-align: right;\">\n",
       "      <th></th>\n",
       "      <th>HSBA</th>\n",
       "      <th>JD</th>\n",
       "      <th>RIO</th>\n",
       "      <th>TSCO</th>\n",
       "      <th>SPX</th>\n",
       "    </tr>\n",
       "    <tr>\n",
       "      <th>date</th>\n",
       "      <th></th>\n",
       "      <th></th>\n",
       "      <th></th>\n",
       "      <th></th>\n",
       "      <th></th>\n",
       "    </tr>\n",
       "  </thead>\n",
       "  <tbody>\n",
       "    <tr>\n",
       "      <th>2016-01-04</th>\n",
       "      <td>NaN</td>\n",
       "      <td>NaN</td>\n",
       "      <td>NaN</td>\n",
       "      <td>NaN</td>\n",
       "      <td>NaN</td>\n",
       "    </tr>\n",
       "    <tr>\n",
       "      <th>2016-01-05</th>\n",
       "      <td>0.004227</td>\n",
       "      <td>-0.010721</td>\n",
       "      <td>0.019448</td>\n",
       "      <td>0.015114</td>\n",
       "      <td>0.010972</td>\n",
       "    </tr>\n",
       "    <tr>\n",
       "      <th>2016-01-06</th>\n",
       "      <td>-0.027363</td>\n",
       "      <td>0.016749</td>\n",
       "      <td>-0.047951</td>\n",
       "      <td>-0.019737</td>\n",
       "      <td>-0.010543</td>\n",
       "    </tr>\n",
       "    <tr>\n",
       "      <th>2016-01-07</th>\n",
       "      <td>-0.012394</td>\n",
       "      <td>0.011628</td>\n",
       "      <td>-0.033577</td>\n",
       "      <td>-0.016602</td>\n",
       "      <td>-0.005014</td>\n",
       "    </tr>\n",
       "    <tr>\n",
       "      <th>2016-01-08</th>\n",
       "      <td>-0.005777</td>\n",
       "      <td>-0.010536</td>\n",
       "      <td>-0.025497</td>\n",
       "      <td>0.055316</td>\n",
       "      <td>-0.014488</td>\n",
       "    </tr>\n",
       "  </tbody>\n",
       "</table>\n",
       "</div>"
      ],
      "text/plain": [
       "                HSBA        JD       RIO      TSCO       SPX\n",
       "date                                                        \n",
       "2016-01-04       NaN       NaN       NaN       NaN       NaN\n",
       "2016-01-05  0.004227 -0.010721  0.019448  0.015114  0.010972\n",
       "2016-01-06 -0.027363  0.016749 -0.047951 -0.019737 -0.010543\n",
       "2016-01-07 -0.012394  0.011628 -0.033577 -0.016602 -0.005014\n",
       "2016-01-08 -0.005777 -0.010536 -0.025497  0.055316 -0.014488"
      ]
     },
     "execution_count": 6,
     "metadata": {},
     "output_type": "execute_result"
    }
   ],
   "source": [
    "# show the daily simple return\n",
    "returns = df.pct_change() #  pct_change = (day_price - previous_day_price) / previous_day_price\n",
    "returns.head()"
   ]
  },
  {
   "cell_type": "code",
   "execution_count": 7,
   "metadata": {},
   "outputs": [
    {
     "data": {
      "text/html": [
       "<div>\n",
       "<style scoped>\n",
       "    .dataframe tbody tr th:only-of-type {\n",
       "        vertical-align: middle;\n",
       "    }\n",
       "\n",
       "    .dataframe tbody tr th {\n",
       "        vertical-align: top;\n",
       "    }\n",
       "\n",
       "    .dataframe thead th {\n",
       "        text-align: right;\n",
       "    }\n",
       "</style>\n",
       "<table border=\"1\" class=\"dataframe\">\n",
       "  <thead>\n",
       "    <tr style=\"text-align: right;\">\n",
       "      <th></th>\n",
       "      <th>HSBA</th>\n",
       "      <th>JD</th>\n",
       "      <th>RIO</th>\n",
       "      <th>TSCO</th>\n",
       "      <th>SPX</th>\n",
       "    </tr>\n",
       "  </thead>\n",
       "  <tbody>\n",
       "    <tr>\n",
       "      <th>HSBA</th>\n",
       "      <td>0.000252</td>\n",
       "      <td>0.000104</td>\n",
       "      <td>0.000145</td>\n",
       "      <td>0.000066</td>\n",
       "      <td>0.000082</td>\n",
       "    </tr>\n",
       "    <tr>\n",
       "      <th>JD</th>\n",
       "      <td>0.000104</td>\n",
       "      <td>0.000672</td>\n",
       "      <td>0.000104</td>\n",
       "      <td>0.000085</td>\n",
       "      <td>0.000094</td>\n",
       "    </tr>\n",
       "    <tr>\n",
       "      <th>RIO</th>\n",
       "      <td>0.000145</td>\n",
       "      <td>0.000104</td>\n",
       "      <td>0.000445</td>\n",
       "      <td>0.000088</td>\n",
       "      <td>0.000119</td>\n",
       "    </tr>\n",
       "    <tr>\n",
       "      <th>TSCO</th>\n",
       "      <td>0.000066</td>\n",
       "      <td>0.000085</td>\n",
       "      <td>0.000088</td>\n",
       "      <td>0.000283</td>\n",
       "      <td>0.000058</td>\n",
       "    </tr>\n",
       "    <tr>\n",
       "      <th>SPX</th>\n",
       "      <td>0.000082</td>\n",
       "      <td>0.000094</td>\n",
       "      <td>0.000119</td>\n",
       "      <td>0.000058</td>\n",
       "      <td>0.000223</td>\n",
       "    </tr>\n",
       "  </tbody>\n",
       "</table>\n",
       "</div>"
      ],
      "text/plain": [
       "          HSBA        JD       RIO      TSCO       SPX\n",
       "HSBA  0.000252  0.000104  0.000145  0.000066  0.000082\n",
       "JD    0.000104  0.000672  0.000104  0.000085  0.000094\n",
       "RIO   0.000145  0.000104  0.000445  0.000088  0.000119\n",
       "TSCO  0.000066  0.000085  0.000088  0.000283  0.000058\n",
       "SPX   0.000082  0.000094  0.000119  0.000058  0.000223"
      ]
     },
     "execution_count": 7,
     "metadata": {},
     "output_type": "execute_result"
    }
   ],
   "source": [
    "# check the covariance among stocks\n",
    "returns.cov()"
   ]
  },
  {
   "cell_type": "code",
   "execution_count": 8,
   "metadata": {},
   "outputs": [
    {
     "data": {
      "text/html": [
       "<div>\n",
       "<style scoped>\n",
       "    .dataframe tbody tr th:only-of-type {\n",
       "        vertical-align: middle;\n",
       "    }\n",
       "\n",
       "    .dataframe tbody tr th {\n",
       "        vertical-align: top;\n",
       "    }\n",
       "\n",
       "    .dataframe thead th {\n",
       "        text-align: right;\n",
       "    }\n",
       "</style>\n",
       "<table border=\"1\" class=\"dataframe\">\n",
       "  <thead>\n",
       "    <tr style=\"text-align: right;\">\n",
       "      <th></th>\n",
       "      <th>HSBA</th>\n",
       "      <th>JD</th>\n",
       "      <th>RIO</th>\n",
       "      <th>TSCO</th>\n",
       "      <th>SPX</th>\n",
       "    </tr>\n",
       "  </thead>\n",
       "  <tbody>\n",
       "    <tr>\n",
       "      <th>HSBA</th>\n",
       "      <td>0.063393</td>\n",
       "      <td>0.026258</td>\n",
       "      <td>0.036640</td>\n",
       "      <td>0.016598</td>\n",
       "      <td>0.020750</td>\n",
       "    </tr>\n",
       "    <tr>\n",
       "      <th>JD</th>\n",
       "      <td>0.026258</td>\n",
       "      <td>0.169282</td>\n",
       "      <td>0.026319</td>\n",
       "      <td>0.021411</td>\n",
       "      <td>0.023793</td>\n",
       "    </tr>\n",
       "    <tr>\n",
       "      <th>RIO</th>\n",
       "      <td>0.036640</td>\n",
       "      <td>0.026319</td>\n",
       "      <td>0.112028</td>\n",
       "      <td>0.022075</td>\n",
       "      <td>0.030028</td>\n",
       "    </tr>\n",
       "    <tr>\n",
       "      <th>TSCO</th>\n",
       "      <td>0.016598</td>\n",
       "      <td>0.021411</td>\n",
       "      <td>0.022075</td>\n",
       "      <td>0.071351</td>\n",
       "      <td>0.014583</td>\n",
       "    </tr>\n",
       "    <tr>\n",
       "      <th>SPX</th>\n",
       "      <td>0.020750</td>\n",
       "      <td>0.023793</td>\n",
       "      <td>0.030028</td>\n",
       "      <td>0.014583</td>\n",
       "      <td>0.056096</td>\n",
       "    </tr>\n",
       "  </tbody>\n",
       "</table>\n",
       "</div>"
      ],
      "text/plain": [
       "          HSBA        JD       RIO      TSCO       SPX\n",
       "HSBA  0.063393  0.026258  0.036640  0.016598  0.020750\n",
       "JD    0.026258  0.169282  0.026319  0.021411  0.023793\n",
       "RIO   0.036640  0.026319  0.112028  0.022075  0.030028\n",
       "TSCO  0.016598  0.021411  0.022075  0.071351  0.014583\n",
       "SPX   0.020750  0.023793  0.030028  0.014583  0.056096"
      ]
     },
     "execution_count": 8,
     "metadata": {},
     "output_type": "execute_result"
    }
   ],
   "source": [
    "# create the annualized covariance matrix\n",
    "cov_matrix_annual = returns.cov() * 252\n",
    "cov_matrix_annual"
   ]
  },
  {
   "cell_type": "code",
   "execution_count": 9,
   "metadata": {},
   "outputs": [],
   "source": [
    "# assign weights to stocks\n",
    "weights = np.array([0.2,0.2,0.2,0.2,0.2])"
   ]
  },
  {
   "cell_type": "code",
   "execution_count": 10,
   "metadata": {},
   "outputs": [
    {
     "data": {
      "text/plain": [
       "0.037962237966167336"
      ]
     },
     "execution_count": 10,
     "metadata": {},
     "output_type": "execute_result"
    }
   ],
   "source": [
    "# calculate the portfolio variance\n",
    "port_variance = np.dot(weights.T , np.dot(cov_matrix_annual, weights))\n",
    "port_variance"
   ]
  },
  {
   "cell_type": "code",
   "execution_count": 11,
   "metadata": {},
   "outputs": [
    {
     "data": {
      "text/plain": [
       "0.194839005248352"
      ]
     },
     "execution_count": 11,
     "metadata": {},
     "output_type": "execute_result"
    }
   ],
   "source": [
    "# calculate the portfolio volatility aka std\n",
    "port_volatility = np.sqrt(port_variance)\n",
    "port_volatility"
   ]
  },
  {
   "cell_type": "code",
   "execution_count": 12,
   "metadata": {},
   "outputs": [
    {
     "data": {
      "text/plain": [
       "0.20359058710269268"
      ]
     },
     "execution_count": 12,
     "metadata": {},
     "output_type": "execute_result"
    }
   ],
   "source": [
    "# calculate the annual portfolio return\n",
    "portfolioSimpleAnnualReturn = np.sum(returns.mean()*weights)*252\n",
    "portfolioSimpleAnnualReturn"
   ]
  },
  {
   "cell_type": "code",
   "execution_count": 13,
   "metadata": {},
   "outputs": [
    {
     "name": "stdout",
     "output_type": "stream",
     "text": [
      "expected annual return:20.0%\n",
      "annual volatility/risk:19.0%\n",
      "annual variance:4.0%\n"
     ]
    }
   ],
   "source": [
    "# show the expected annual return, volatility(risk), varicance\n",
    "percent_var = str( round(port_variance, 2) * 100)+ '%'\n",
    "percent_vols = str( round(port_volatility, 2) *100)+ '%'\n",
    "percent_ret = str( round(portfolioSimpleAnnualReturn, 2)*100) + \"%\"\n",
    "\n",
    "print('expected annual return:'+ percent_ret)\n",
    "print('annual volatility/risk:'+ percent_vols)\n",
    "print('annual variance:'+ percent_var)"
   ]
  },
  {
   "cell_type": "code",
   "execution_count": 14,
   "metadata": {},
   "outputs": [],
   "source": [
    "from pypfopt.efficient_frontier import EfficientFrontier\n",
    "from pypfopt import risk_models \n",
    "from pypfopt import expected_returns"
   ]
  },
  {
   "cell_type": "code",
   "execution_count": 15,
   "metadata": {},
   "outputs": [],
   "source": [
    "# portfolio optimization!\n",
    "\n",
    "# calculate expected returns and the annualised sample cov matrix of asset returns\n",
    "mu = expected_returns.mean_historical_return(df)\n",
    "S = risk_models.sample_cov(df)"
   ]
  },
  {
   "cell_type": "code",
   "execution_count": 16,
   "metadata": {},
   "outputs": [
    {
     "name": "stdout",
     "output_type": "stream",
     "text": [
      "OrderedDict([('HSBA', 0.0), ('JD', 0.20876), ('RIO', 0.10117), ('TSCO', 0.0), ('SPX', 0.69007)])\n",
      "Expected annual return: 29.1%\n",
      "Annual volatility: 21.8%\n",
      "Sharpe Ratio: 1.24\n",
      "(0.29057198984655946, 0.21770677680833633, 1.242827595048933)\n"
     ]
    }
   ],
   "source": [
    "# optimaize for max sharp ratio\n",
    "ef = EfficientFrontier(mu, S)\n",
    "weights = ef.max_sharpe()\n",
    "cleaned_weights = ef.clean_weights()\n",
    "print(cleaned_weights)\n",
    "print(ef.portfolio_performance(verbose=True))"
   ]
  },
  {
   "cell_type": "code",
   "execution_count": 17,
   "metadata": {},
   "outputs": [
    {
     "name": "stdout",
     "output_type": "stream",
     "text": [
      "Discrete allocation: {'JD': 4, 'SPX': 1}\n",
      "Funds remaining: $265.00\n"
     ]
    }
   ],
   "source": [
    "# get the discrete allocation of each share per stock\n",
    "from pypfopt.discrete_allocation import DiscreteAllocation, get_latest_prices\n",
    "\n",
    "latest_prices = get_latest_prices(df)\n",
    "weights = cleaned_weights\n",
    "da = DiscreteAllocation(weights, latest_prices, total_portfolio_value=15000)\n",
    "\n",
    "allocation, leftover = da.lp_portfolio()\n",
    "print('Discrete allocation:', allocation)\n",
    "print('Funds remaining: ${:.2f}'.format(leftover))"
   ]
  },
  {
   "cell_type": "code",
   "execution_count": null,
   "metadata": {},
   "outputs": [],
   "source": []
  },
  {
   "cell_type": "code",
   "execution_count": null,
   "metadata": {},
   "outputs": [],
   "source": []
  }
 ],
 "metadata": {
  "kernelspec": {
   "display_name": "Python 3",
   "language": "python",
   "name": "python3"
  },
  "language_info": {
   "codemirror_mode": {
    "name": "ipython",
    "version": 3
   },
   "file_extension": ".py",
   "mimetype": "text/x-python",
   "name": "python",
   "nbconvert_exporter": "python",
   "pygments_lexer": "ipython3",
   "version": "3.8.3"
  }
 },
 "nbformat": 4,
 "nbformat_minor": 4
}
