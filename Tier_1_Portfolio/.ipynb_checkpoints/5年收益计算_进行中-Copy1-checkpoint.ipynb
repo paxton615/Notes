{
 "cells": [
  {
   "cell_type": "code",
   "execution_count": 1,
   "metadata": {},
   "outputs": [],
   "source": [
    "import pandas as pd\n",
    "import numpy as np\n",
    "import datetime as dt\n",
    "from datetime import datetime\n",
    "from datetime import date\n",
    "import matplotlib.pyplot as plt\n",
    "import re\n",
    "import requests\n",
    "pd.options.display.max_rows = 5000 \n",
    "import warnings\n",
    "warnings.filterwarnings('ignore')"
   ]
  },
  {
   "cell_type": "markdown",
   "metadata": {},
   "source": [
    "## Get dividends"
   ]
  },
  {
   "cell_type": "code",
   "execution_count": 2,
   "metadata": {},
   "outputs": [],
   "source": [
    "test_lst = ['AHT_div','AV_div','BA_div','GSK_div','HSBA_div','JD_div','NG_div','RDSB_div','RIO_div',\n",
    "            'SPX_div','TSCO_div','TW_div','ULVR_div']"
   ]
  },
  {
   "cell_type": "code",
   "execution_count": 3,
   "metadata": {},
   "outputs": [],
   "source": [
    "def get_years(lst, start_int, end_int):\n",
    "    df = pd.read_excel('/Users/paxton615/Desktop/Stock_Price_csv/tier_1_stocks/dividend/{}.xlsx'.format(lst[0]), skiprows=1)\n",
    "    df.columns = [''.join(filter(str.isalpha, i)).lower() for i in df.columns]\n",
    "    df = [int(i[3:]) for i in list(df['yearend'])]\n",
    "    df = list(filter(lambda i: end_int>=i>=start_int, df))\n",
    "    return(df)"
   ]
  },
  {
   "cell_type": "code",
   "execution_count": 4,
   "metadata": {},
   "outputs": [],
   "source": [
    "def get_dividends(lst, start_int, end_int):\n",
    "    new_list = []\n",
    "    for i in lst:\n",
    "        df = pd.read_excel('/Users/paxton615/Desktop/Stock_Price_csv/tier_1_stocks/dividend/{}.xlsx'.format(i), skiprows=1)\n",
    "        df.columns = [''.join(filter(str.isalpha, i)).lower() for i in df.columns]  #由于有些标题带*号，只保留字符，然后都变小写\n",
    "        df = df[['yearend','total']]\n",
    "        df.columns = ['year',i]\n",
    "        df['year'] = [int(i[3:]) for i in list(df['year'])]\n",
    "        df = df.loc[(df['year']<=end_int) & (df['year']>=start_int)] \n",
    "        df[i] = [float(re.sub(\"[^\\d\\.]\", \"\", i)) for i in df[i]] \n",
    "        new_list.append(df[i].reset_index(drop=True))\n",
    "    return(new_list)"
   ]
  },
  {
   "cell_type": "markdown",
   "metadata": {},
   "source": [
    "#### Dividend from ____year to ____year"
   ]
  },
  {
   "cell_type": "code",
   "execution_count": 5,
   "metadata": {},
   "outputs": [],
   "source": [
    "div_yrs = get_years(test_lst, 2015, 2020)"
   ]
  },
  {
   "cell_type": "code",
   "execution_count": 6,
   "metadata": {
    "scrolled": false
   },
   "outputs": [],
   "source": [
    "divs = get_dividends(test_lst, 2015, 2020)"
   ]
  },
  {
   "cell_type": "code",
   "execution_count": 7,
   "metadata": {},
   "outputs": [
    {
     "data": {
      "text/html": [
       "<div>\n",
       "<style scoped>\n",
       "    .dataframe tbody tr th:only-of-type {\n",
       "        vertical-align: middle;\n",
       "    }\n",
       "\n",
       "    .dataframe tbody tr th {\n",
       "        vertical-align: top;\n",
       "    }\n",
       "\n",
       "    .dataframe thead th {\n",
       "        text-align: right;\n",
       "    }\n",
       "</style>\n",
       "<table border=\"1\" class=\"dataframe\">\n",
       "  <thead>\n",
       "    <tr style=\"text-align: right;\">\n",
       "      <th></th>\n",
       "      <th>AHT_div</th>\n",
       "      <th>AV_div</th>\n",
       "      <th>BA_div</th>\n",
       "      <th>GSK_div</th>\n",
       "      <th>HSBA_div</th>\n",
       "      <th>JD_div</th>\n",
       "      <th>NG_div</th>\n",
       "      <th>RDSB_div</th>\n",
       "      <th>RIO_div</th>\n",
       "      <th>SPX_div</th>\n",
       "      <th>TSCO_div</th>\n",
       "      <th>TW_div</th>\n",
       "      <th>ULVR_div</th>\n",
       "    </tr>\n",
       "  </thead>\n",
       "  <tbody>\n",
       "    <tr>\n",
       "      <th>2015</th>\n",
       "      <td>15.25</td>\n",
       "      <td>20.8</td>\n",
       "      <td>20.9</td>\n",
       "      <td>80.0</td>\n",
       "      <td>51.0</td>\n",
       "      <td>1.41</td>\n",
       "      <td>42.87</td>\n",
       "      <td>188.0</td>\n",
       "      <td>215.0</td>\n",
       "      <td>69.0</td>\n",
       "      <td>1.16</td>\n",
       "      <td>1.67</td>\n",
       "      <td>120.80</td>\n",
       "    </tr>\n",
       "    <tr>\n",
       "      <th>2016</th>\n",
       "      <td>22.50</td>\n",
       "      <td>23.3</td>\n",
       "      <td>21.3</td>\n",
       "      <td>80.0</td>\n",
       "      <td>51.0</td>\n",
       "      <td>1.48</td>\n",
       "      <td>43.34</td>\n",
       "      <td>188.0</td>\n",
       "      <td>170.0</td>\n",
       "      <td>76.0</td>\n",
       "      <td>0.00</td>\n",
       "      <td>2.82</td>\n",
       "      <td>128.04</td>\n",
       "    </tr>\n",
       "    <tr>\n",
       "      <th>2017</th>\n",
       "      <td>27.50</td>\n",
       "      <td>27.4</td>\n",
       "      <td>21.8</td>\n",
       "      <td>80.0</td>\n",
       "      <td>51.0</td>\n",
       "      <td>1.55</td>\n",
       "      <td>44.27</td>\n",
       "      <td>188.0</td>\n",
       "      <td>290.0</td>\n",
       "      <td>87.5</td>\n",
       "      <td>0.00</td>\n",
       "      <td>4.74</td>\n",
       "      <td>143.40</td>\n",
       "    </tr>\n",
       "    <tr>\n",
       "      <th>2018</th>\n",
       "      <td>33.00</td>\n",
       "      <td>30.0</td>\n",
       "      <td>22.2</td>\n",
       "      <td>80.0</td>\n",
       "      <td>51.0</td>\n",
       "      <td>1.63</td>\n",
       "      <td>45.93</td>\n",
       "      <td>188.0</td>\n",
       "      <td>307.0</td>\n",
       "      <td>100.0</td>\n",
       "      <td>3.00</td>\n",
       "      <td>6.24</td>\n",
       "      <td>154.88</td>\n",
       "    </tr>\n",
       "    <tr>\n",
       "      <th>2019</th>\n",
       "      <td>40.00</td>\n",
       "      <td>15.5</td>\n",
       "      <td>23.2</td>\n",
       "      <td>80.0</td>\n",
       "      <td>30.0</td>\n",
       "      <td>1.71</td>\n",
       "      <td>47.34</td>\n",
       "      <td>188.0</td>\n",
       "      <td>382.0</td>\n",
       "      <td>110.0</td>\n",
       "      <td>5.77</td>\n",
       "      <td>3.84</td>\n",
       "      <td>164.16</td>\n",
       "    </tr>\n",
       "    <tr>\n",
       "      <th>2020</th>\n",
       "      <td>40.65</td>\n",
       "      <td>21.0</td>\n",
       "      <td>23.7</td>\n",
       "      <td>80.0</td>\n",
       "      <td>15.0</td>\n",
       "      <td>0.28</td>\n",
       "      <td>48.57</td>\n",
       "      <td>65.3</td>\n",
       "      <td>464.0</td>\n",
       "      <td>118.0</td>\n",
       "      <td>9.15</td>\n",
       "      <td>4.14</td>\n",
       "      <td>165.80</td>\n",
       "    </tr>\n",
       "  </tbody>\n",
       "</table>\n",
       "</div>"
      ],
      "text/plain": [
       "      AHT_div  AV_div  BA_div  GSK_div  HSBA_div  JD_div  NG_div  RDSB_div  \\\n",
       "2015    15.25    20.8    20.9     80.0      51.0    1.41   42.87     188.0   \n",
       "2016    22.50    23.3    21.3     80.0      51.0    1.48   43.34     188.0   \n",
       "2017    27.50    27.4    21.8     80.0      51.0    1.55   44.27     188.0   \n",
       "2018    33.00    30.0    22.2     80.0      51.0    1.63   45.93     188.0   \n",
       "2019    40.00    15.5    23.2     80.0      30.0    1.71   47.34     188.0   \n",
       "2020    40.65    21.0    23.7     80.0      15.0    0.28   48.57      65.3   \n",
       "\n",
       "      RIO_div  SPX_div  TSCO_div  TW_div  ULVR_div  \n",
       "2015    215.0     69.0      1.16    1.67    120.80  \n",
       "2016    170.0     76.0      0.00    2.82    128.04  \n",
       "2017    290.0     87.5      0.00    4.74    143.40  \n",
       "2018    307.0    100.0      3.00    6.24    154.88  \n",
       "2019    382.0    110.0      5.77    3.84    164.16  \n",
       "2020    464.0    118.0      9.15    4.14    165.80  "
      ]
     },
     "execution_count": 7,
     "metadata": {},
     "output_type": "execute_result"
    }
   ],
   "source": [
    "dividends = pd.DataFrame(np.array(divs).T, columns=test_lst , index=np.array(div_yrs).T)\n",
    "dividends = dividends.iloc[::-1] #将数据从老到新排列\n",
    "dividends"
   ]
  },
  {
   "cell_type": "code",
   "execution_count": 8,
   "metadata": {},
   "outputs": [
    {
     "data": {
      "image/png": "[encoded data removed]",
      "text/plain": [
       "<Figure size 864x864 with 1 Axes>"
      ]
     },
     "metadata": {
      "needs_background": "light"
     },
     "output_type": "display_data"
    }
   ],
   "source": [
    "# visually show portfolio\n",
    "title = 'Portfolio Stock Dividend'\n",
    "\n",
    "# get the stocks\n",
    "my_stocks = dividends\n",
    "\n",
    "# create\n",
    "plt.figure(figsize=(12,12))\n",
    "for c in my_stocks.columns.values:\n",
    "    plt.plot(my_stocks[c], label= c)\n",
    "    \n",
    "plt.title(title)\n",
    "plt.xlabel('Date', fontsize=18)\n",
    "plt.ylabel('Tier_1_stock_dividends ', fontsize=18)\n",
    "plt.legend(my_stocks.columns.values, loc='upper left')\n",
    "plt.show()"
   ]
  },
  {
   "cell_type": "markdown",
   "metadata": {},
   "source": [
    "## Get stock prices"
   ]
  },
  {
   "cell_type": "code",
   "execution_count": 9,
   "metadata": {},
   "outputs": [],
   "source": [
    "stocks = ['AHT', 'AV', 'BA', 'GSK', 'HSBA', 'JD', 'NG', 'RDSB', 'RIO', 'SPX', 'TSCO', 'TW', 'ULVR']\n",
    "# stocks = ['AHT', 'GSK', 'JD', 'NG', 'RDSB', 'RIO', 'SPX', 'TSCO', ]\n",
    "# start_date = '2016-01-01'\n",
    "# end_date = '2021-01-01'"
   ]
  },
  {
   "cell_type": "code",
   "execution_count": 10,
   "metadata": {},
   "outputs": [],
   "source": [
    "def get_dates(lst, start_str, end_str):\n",
    "    data = pd.read_csv(r'/Users/paxton615/Desktop/Stock_Price_csv/tier_1_stocks/{}.csv'.format(lst[0]))\n",
    "    data = data.loc[(data['time']>=start_str)&(data['time']<end_str)]\n",
    "    date = [datetime.fromisoformat(i[:10]) for i in data['time']]\n",
    "    return(date)\n",
    "\n",
    "def get_prices(lst,start_str, end_str):   \n",
    "    new_list = []\n",
    "    for i in lst:\n",
    "        data = pd.read_csv(r'/Users/paxton615/Desktop/Stock_Price_csv/tier_1_stocks/{}.csv'.format(i)) # read data from csv 注意文件夹路径和文件名\n",
    "        df = data[['time','close']]                                          # get time and close price\n",
    "        df.columns = ['date', i]                                       # change column names\n",
    "        df.date = [datetime.fromisoformat(i[:10]) for i in df['date']]       # convert dates into datetime\n",
    "        df = df.loc[(df['date']>=start_str)&(df['date']<end_str)]    # make sure date start from 2016-01-01\n",
    "        df = df.reset_index(drop=True)\n",
    "        new_list.append(df[i])\n",
    "    return(new_list)"
   ]
  },
  {
   "cell_type": "markdown",
   "metadata": {},
   "source": [
    "#### price from ____year to ____year"
   ]
  },
  {
   "cell_type": "code",
   "execution_count": 11,
   "metadata": {},
   "outputs": [
    {
     "data": {
      "text/html": [
       "<div>\n",
       "<style scoped>\n",
       "    .dataframe tbody tr th:only-of-type {\n",
       "        vertical-align: middle;\n",
       "    }\n",
       "\n",
       "    .dataframe tbody tr th {\n",
       "        vertical-align: top;\n",
       "    }\n",
       "\n",
       "    .dataframe thead th {\n",
       "        text-align: right;\n",
       "    }\n",
       "</style>\n",
       "<table border=\"1\" class=\"dataframe\">\n",
       "  <thead>\n",
       "    <tr style=\"text-align: right;\">\n",
       "      <th></th>\n",
       "      <th>AHT</th>\n",
       "      <th>AV</th>\n",
       "      <th>BA</th>\n",
       "      <th>GSK</th>\n",
       "      <th>HSBA</th>\n",
       "      <th>JD</th>\n",
       "      <th>NG</th>\n",
       "      <th>RDSB</th>\n",
       "      <th>RIO</th>\n",
       "      <th>SPX</th>\n",
       "      <th>TSCO</th>\n",
       "      <th>TW</th>\n",
       "      <th>ULVR</th>\n",
       "    </tr>\n",
       "  </thead>\n",
       "  <tbody>\n",
       "    <tr>\n",
       "      <th>2015-01-02</th>\n",
       "      <td>1165.0</td>\n",
       "      <td>484.39999</td>\n",
       "      <td>469.20001</td>\n",
       "      <td>1383.0</td>\n",
       "      <td>612.00000</td>\n",
       "      <td>101.600000</td>\n",
       "      <td>908.29999</td>\n",
       "      <td>2235.5</td>\n",
       "      <td>2970.0</td>\n",
       "      <td>2848.0</td>\n",
       "      <td>188.00000</td>\n",
       "      <td>134.89999</td>\n",
       "      <td>2606.0</td>\n",
       "    </tr>\n",
       "    <tr>\n",
       "      <th>2015-01-05</th>\n",
       "      <td>1182.0</td>\n",
       "      <td>470.79999</td>\n",
       "      <td>462.00000</td>\n",
       "      <td>1369.5</td>\n",
       "      <td>603.90002</td>\n",
       "      <td>101.400000</td>\n",
       "      <td>909.70001</td>\n",
       "      <td>2128.5</td>\n",
       "      <td>2883.5</td>\n",
       "      <td>2832.0</td>\n",
       "      <td>181.60001</td>\n",
       "      <td>133.80000</td>\n",
       "      <td>2573.0</td>\n",
       "    </tr>\n",
       "    <tr>\n",
       "      <th>2015-01-06</th>\n",
       "      <td>1109.0</td>\n",
       "      <td>464.00000</td>\n",
       "      <td>456.70001</td>\n",
       "      <td>1357.0</td>\n",
       "      <td>593.70001</td>\n",
       "      <td>94.400000</td>\n",
       "      <td>896.79999</td>\n",
       "      <td>2121.0</td>\n",
       "      <td>2944.5</td>\n",
       "      <td>2784.0</td>\n",
       "      <td>178.80000</td>\n",
       "      <td>131.10001</td>\n",
       "      <td>2574.0</td>\n",
       "    </tr>\n",
       "    <tr>\n",
       "      <th>2015-01-07</th>\n",
       "      <td>1109.0</td>\n",
       "      <td>463.29999</td>\n",
       "      <td>462.70001</td>\n",
       "      <td>1379.0</td>\n",
       "      <td>601.00000</td>\n",
       "      <td>95.159998</td>\n",
       "      <td>917.50000</td>\n",
       "      <td>2148.5</td>\n",
       "      <td>2962.5</td>\n",
       "      <td>2800.0</td>\n",
       "      <td>182.00000</td>\n",
       "      <td>132.39999</td>\n",
       "      <td>2591.0</td>\n",
       "    </tr>\n",
       "    <tr>\n",
       "      <th>2015-01-08</th>\n",
       "      <td>1131.0</td>\n",
       "      <td>483.20001</td>\n",
       "      <td>468.89999</td>\n",
       "      <td>1427.5</td>\n",
       "      <td>606.20001</td>\n",
       "      <td>97.000000</td>\n",
       "      <td>932.40002</td>\n",
       "      <td>2200.0</td>\n",
       "      <td>3027.5</td>\n",
       "      <td>2849.0</td>\n",
       "      <td>209.25000</td>\n",
       "      <td>132.80000</td>\n",
       "      <td>2668.0</td>\n",
       "    </tr>\n",
       "  </tbody>\n",
       "</table>\n",
       "</div>"
      ],
      "text/plain": [
       "               AHT         AV         BA     GSK       HSBA          JD  \\\n",
       "2015-01-02  1165.0  484.39999  469.20001  1383.0  612.00000  101.600000   \n",
       "2015-01-05  1182.0  470.79999  462.00000  1369.5  603.90002  101.400000   \n",
       "2015-01-06  1109.0  464.00000  456.70001  1357.0  593.70001   94.400000   \n",
       "2015-01-07  1109.0  463.29999  462.70001  1379.0  601.00000   95.159998   \n",
       "2015-01-08  1131.0  483.20001  468.89999  1427.5  606.20001   97.000000   \n",
       "\n",
       "                   NG    RDSB     RIO     SPX       TSCO         TW    ULVR  \n",
       "2015-01-02  908.29999  2235.5  2970.0  2848.0  188.00000  134.89999  2606.0  \n",
       "2015-01-05  909.70001  2128.5  2883.5  2832.0  181.60001  133.80000  2573.0  \n",
       "2015-01-06  896.79999  2121.0  2944.5  2784.0  178.80000  131.10001  2574.0  \n",
       "2015-01-07  917.50000  2148.5  2962.5  2800.0  182.00000  132.39999  2591.0  \n",
       "2015-01-08  932.40002  2200.0  3027.5  2849.0  209.25000  132.80000  2668.0  "
      ]
     },
     "execution_count": 11,
     "metadata": {},
     "output_type": "execute_result"
    }
   ],
   "source": [
    "date = get_dates(stocks,'2015-01-01','2020-01-01')\n",
    "\n",
    "prices = get_prices(stocks,'2015-01-01','2020-01-01')\n",
    "\n",
    "prices = pd.DataFrame(np.array(prices).T, columns=stocks , index=np.array(date).T)\n",
    "prices.head()"
   ]
  },
  {
   "cell_type": "code",
   "execution_count": 47,
   "metadata": {},
   "outputs": [
    {
     "data": {
      "image/png": "[encoded data removed]",
      "text/plain": [
       "<Figure size 1296x432 with 1 Axes>"
      ]
     },
     "metadata": {
      "needs_background": "light"
     },
     "output_type": "display_data"
    }
   ],
   "source": [
    "# visually show portfolio\n",
    "title = 'SI PORTFOLIO'\n",
    "\n",
    "# get the stocks\n",
    "my_stocks = prices\n",
    "\n",
    "# create\n",
    "plt.figure(figsize=(18,6))\n",
    "for c in my_stocks.columns.values:\n",
    "    plt.plot(my_stocks[c], label= c)\n",
    "    \n",
    "plt.title(title)\n",
    "plt.xlabel('Date', fontsize=18)\n",
    "plt.ylabel('Stocks ', fontsize=18)\n",
    "plt.legend(my_stocks.columns.values, loc='upper left')\n",
    "\n",
    "plt.savefig('{}'.format(title),dpi=300,bbox_inches ='tight',\n",
    "pad_inches = 1,\n",
    "transparent = True,\n",
    "orientation ='landscape'\n",
    ")\n",
    "\n",
    "plt.show()"
   ]
  },
  {
   "cell_type": "markdown",
   "metadata": {},
   "source": [
    "#### 创建投资分配比例的权数"
   ]
  },
  {
   "cell_type": "code",
   "execution_count": 13,
   "metadata": {},
   "outputs": [
    {
     "data": {
      "text/plain": [
       "array([0.07692308, 0.07692308, 0.07692308, 0.07692308, 0.07692308,\n",
       "       0.07692308, 0.07692308, 0.07692308, 0.07692308, 0.07692308,\n",
       "       0.07692308, 0.07692308, 0.07692308])"
      ]
     },
     "execution_count": 13,
     "metadata": {},
     "output_type": "execute_result"
    }
   ],
   "source": [
    "weight = 1/len(stocks)\n",
    "weights = np.full(shape=len(stocks), fill_value=weight, dtype=np.float)\n",
    "weights"
   ]
  },
  {
   "cell_type": "markdown",
   "metadata": {},
   "source": [
    "### Five years total return and Annualized return"
   ]
  },
  {
   "cell_type": "code",
   "execution_count": 14,
   "metadata": {},
   "outputs": [],
   "source": [
    "first = prices.head(1) # prices at the beginning of the investment\n",
    "end = prices.tail(1) # prices at the end of the investment"
   ]
  },
  {
   "cell_type": "code",
   "execution_count": 15,
   "metadata": {},
   "outputs": [
    {
     "data": {
      "text/html": [
       "<div>\n",
       "<style scoped>\n",
       "    .dataframe tbody tr th:only-of-type {\n",
       "        vertical-align: middle;\n",
       "    }\n",
       "\n",
       "    .dataframe tbody tr th {\n",
       "        vertical-align: top;\n",
       "    }\n",
       "\n",
       "    .dataframe thead th {\n",
       "        text-align: right;\n",
       "    }\n",
       "</style>\n",
       "<table border=\"1\" class=\"dataframe\">\n",
       "  <thead>\n",
       "    <tr style=\"text-align: right;\">\n",
       "      <th></th>\n",
       "      <th>AHT</th>\n",
       "      <th>AV</th>\n",
       "      <th>BA</th>\n",
       "      <th>GSK</th>\n",
       "      <th>HSBA</th>\n",
       "      <th>JD</th>\n",
       "      <th>NG</th>\n",
       "      <th>RDSB</th>\n",
       "      <th>RIO</th>\n",
       "      <th>SPX</th>\n",
       "      <th>TSCO</th>\n",
       "      <th>TW</th>\n",
       "      <th>ULVR</th>\n",
       "    </tr>\n",
       "  </thead>\n",
       "  <tbody>\n",
       "    <tr>\n",
       "      <th>2015-01-02</th>\n",
       "      <td>1165.0</td>\n",
       "      <td>484.39999</td>\n",
       "      <td>469.20001</td>\n",
       "      <td>1383.0</td>\n",
       "      <td>612.00000</td>\n",
       "      <td>101.60000</td>\n",
       "      <td>908.29999</td>\n",
       "      <td>2235.5</td>\n",
       "      <td>2970.0</td>\n",
       "      <td>2848.0</td>\n",
       "      <td>188.0</td>\n",
       "      <td>134.89999</td>\n",
       "      <td>2606.0</td>\n",
       "    </tr>\n",
       "    <tr>\n",
       "      <th>2019-12-31</th>\n",
       "      <td>2414.0</td>\n",
       "      <td>418.70001</td>\n",
       "      <td>564.79999</td>\n",
       "      <td>1779.0</td>\n",
       "      <td>591.90002</td>\n",
       "      <td>837.40002</td>\n",
       "      <td>944.29999</td>\n",
       "      <td>2239.5</td>\n",
       "      <td>4503.0</td>\n",
       "      <td>8890.0</td>\n",
       "      <td>255.2</td>\n",
       "      <td>193.39999</td>\n",
       "      <td>4350.5</td>\n",
       "    </tr>\n",
       "  </tbody>\n",
       "</table>\n",
       "</div>"
      ],
      "text/plain": [
       "               AHT         AV         BA     GSK       HSBA         JD  \\\n",
       "2015-01-02  1165.0  484.39999  469.20001  1383.0  612.00000  101.60000   \n",
       "2019-12-31  2414.0  418.70001  564.79999  1779.0  591.90002  837.40002   \n",
       "\n",
       "                   NG    RDSB     RIO     SPX   TSCO         TW    ULVR  \n",
       "2015-01-02  908.29999  2235.5  2970.0  2848.0  188.0  134.89999  2606.0  \n",
       "2019-12-31  944.29999  2239.5  4503.0  8890.0  255.2  193.39999  4350.5  "
      ]
     },
     "execution_count": 15,
     "metadata": {},
     "output_type": "execute_result"
    }
   ],
   "source": [
    "five_yrs = pd.concat([first,end])\n",
    "five_yrs"
   ]
  },
  {
   "cell_type": "code",
   "execution_count": 16,
   "metadata": {},
   "outputs": [
    {
     "data": {
      "text/plain": [
       "0.9827255220602714"
      ]
     },
     "execution_count": 16,
     "metadata": {},
     "output_type": "execute_result"
    }
   ],
   "source": [
    "rtn_pct = five_yrs.pct_change()  # 检验上下计算结果是否一致\n",
    "rtn_pct.iloc[1].mean()"
   ]
  },
  {
   "cell_type": "code",
   "execution_count": 17,
   "metadata": {},
   "outputs": [
    {
     "data": {
      "text/plain": [
       "0.9827255220602714"
      ]
     },
     "execution_count": 17,
     "metadata": {},
     "output_type": "execute_result"
    }
   ],
   "source": [
    "total_return = (five_yrs.iloc[1] - five_yrs.iloc[0])/five_yrs.iloc[0]   # 检验上下计算结果是否一致\n",
    "total_return.mean()"
   ]
  },
  {
   "cell_type": "markdown",
   "metadata": {},
   "source": [
    "### 五年来portfolio的总收益"
   ]
  },
  {
   "cell_type": "code",
   "execution_count": 18,
   "metadata": {},
   "outputs": [
    {
     "data": {
      "text/plain": [
       "0.9827255220602715"
      ]
     },
     "execution_count": 18,
     "metadata": {},
     "output_type": "execute_result"
    }
   ],
   "source": [
    "np.sum(total_return.mean() * weights)  # 平均收益乘以分配权数 再全部加起来"
   ]
  },
  {
   "cell_type": "markdown",
   "metadata": {},
   "source": [
    "### 将5年来的总收益变成Annualized return"
   ]
  },
  {
   "cell_type": "code",
   "execution_count": 19,
   "metadata": {},
   "outputs": [
    {
     "data": {
      "text/plain": [
       "0.14670714720731381"
      ]
     },
     "execution_count": 19,
     "metadata": {},
     "output_type": "execute_result"
    }
   ],
   "source": [
    "((1 + np.sum(total_return.mean() * weights))**(1/5))-1 # 计算5年的每年年化收益"
   ]
  },
  {
   "cell_type": "code",
   "execution_count": null,
   "metadata": {},
   "outputs": [],
   "source": []
  },
  {
   "cell_type": "markdown",
   "metadata": {},
   "source": [
    "#### Portfolio daily return and cumulative return"
   ]
  },
  {
   "cell_type": "code",
   "execution_count": 20,
   "metadata": {},
   "outputs": [],
   "source": [
    "return_stocks = prices.pct_change()\n",
    "daily_returns_portfolio_mean = return_stocks.mean()\n",
    "allocated_daily_returns = weights * daily_returns_portfolio_mean"
   ]
  },
  {
   "cell_type": "code",
   "execution_count": 21,
   "metadata": {},
   "outputs": [
    {
     "data": {
      "text/html": [
       "<div>\n",
       "<style scoped>\n",
       "    .dataframe tbody tr th:only-of-type {\n",
       "        vertical-align: middle;\n",
       "    }\n",
       "\n",
       "    .dataframe tbody tr th {\n",
       "        vertical-align: top;\n",
       "    }\n",
       "\n",
       "    .dataframe thead th {\n",
       "        text-align: right;\n",
       "    }\n",
       "</style>\n",
       "<table border=\"1\" class=\"dataframe\">\n",
       "  <thead>\n",
       "    <tr style=\"text-align: right;\">\n",
       "      <th></th>\n",
       "      <th>AHT</th>\n",
       "      <th>AV</th>\n",
       "      <th>BA</th>\n",
       "      <th>GSK</th>\n",
       "      <th>HSBA</th>\n",
       "      <th>JD</th>\n",
       "      <th>NG</th>\n",
       "      <th>RDSB</th>\n",
       "      <th>RIO</th>\n",
       "      <th>SPX</th>\n",
       "      <th>TSCO</th>\n",
       "      <th>TW</th>\n",
       "      <th>ULVR</th>\n",
       "    </tr>\n",
       "  </thead>\n",
       "  <tbody>\n",
       "    <tr>\n",
       "      <th>2015-01-02</th>\n",
       "      <td>NaN</td>\n",
       "      <td>NaN</td>\n",
       "      <td>NaN</td>\n",
       "      <td>NaN</td>\n",
       "      <td>NaN</td>\n",
       "      <td>NaN</td>\n",
       "      <td>NaN</td>\n",
       "      <td>NaN</td>\n",
       "      <td>NaN</td>\n",
       "      <td>NaN</td>\n",
       "      <td>NaN</td>\n",
       "      <td>NaN</td>\n",
       "      <td>NaN</td>\n",
       "    </tr>\n",
       "    <tr>\n",
       "      <th>2015-01-05</th>\n",
       "      <td>0.014592</td>\n",
       "      <td>-0.028076</td>\n",
       "      <td>-0.015345</td>\n",
       "      <td>-0.009761</td>\n",
       "      <td>-0.013235</td>\n",
       "      <td>-0.001969</td>\n",
       "      <td>0.001541</td>\n",
       "      <td>-0.047864</td>\n",
       "      <td>-0.029125</td>\n",
       "      <td>-0.005618</td>\n",
       "      <td>-0.034042</td>\n",
       "      <td>-0.008154</td>\n",
       "      <td>-0.012663</td>\n",
       "    </tr>\n",
       "    <tr>\n",
       "      <th>2015-01-06</th>\n",
       "      <td>-0.061760</td>\n",
       "      <td>-0.014443</td>\n",
       "      <td>-0.011472</td>\n",
       "      <td>-0.009127</td>\n",
       "      <td>-0.016890</td>\n",
       "      <td>-0.069034</td>\n",
       "      <td>-0.014181</td>\n",
       "      <td>-0.003524</td>\n",
       "      <td>0.021155</td>\n",
       "      <td>-0.016949</td>\n",
       "      <td>-0.015419</td>\n",
       "      <td>-0.020179</td>\n",
       "      <td>0.000389</td>\n",
       "    </tr>\n",
       "  </tbody>\n",
       "</table>\n",
       "</div>"
      ],
      "text/plain": [
       "                 AHT        AV        BA       GSK      HSBA        JD  \\\n",
       "2015-01-02       NaN       NaN       NaN       NaN       NaN       NaN   \n",
       "2015-01-05  0.014592 -0.028076 -0.015345 -0.009761 -0.013235 -0.001969   \n",
       "2015-01-06 -0.061760 -0.014443 -0.011472 -0.009127 -0.016890 -0.069034   \n",
       "\n",
       "                  NG      RDSB       RIO       SPX      TSCO        TW  \\\n",
       "2015-01-02       NaN       NaN       NaN       NaN       NaN       NaN   \n",
       "2015-01-05  0.001541 -0.047864 -0.029125 -0.005618 -0.034042 -0.008154   \n",
       "2015-01-06 -0.014181 -0.003524  0.021155 -0.016949 -0.015419 -0.020179   \n",
       "\n",
       "                ULVR  \n",
       "2015-01-02       NaN  \n",
       "2015-01-05 -0.012663  \n",
       "2015-01-06  0.000389  "
      ]
     },
     "execution_count": 21,
     "metadata": {},
     "output_type": "execute_result"
    }
   ],
   "source": [
    "return_stocks.head(3)"
   ]
  },
  {
   "cell_type": "code",
   "execution_count": 22,
   "metadata": {},
   "outputs": [
    {
     "data": {
      "text/plain": [
       "AHT     0.000759\n",
       "AV     -0.000002\n",
       "BA      0.000226\n",
       "GSK     0.000269\n",
       "HSBA    0.000055\n",
       "JD      0.001857\n",
       "NG      0.000096\n",
       "RDSB    0.000118\n",
       "RIO     0.000528\n",
       "SPX     0.000995\n",
       "TSCO    0.000396\n",
       "TW      0.000506\n",
       "ULVR    0.000481\n",
       "dtype: float64"
      ]
     },
     "execution_count": 22,
     "metadata": {},
     "output_type": "execute_result"
    }
   ],
   "source": [
    "daily_returns_portfolio_mean"
   ]
  },
  {
   "cell_type": "code",
   "execution_count": 23,
   "metadata": {
    "scrolled": true
   },
   "outputs": [
    {
     "data": {
      "text/plain": [
       "0.00048332991761167475"
      ]
     },
     "execution_count": 23,
     "metadata": {},
     "output_type": "execute_result"
    }
   ],
   "source": [
    "portfolio_return = np.sum(allocated_daily_returns)\n",
    "portfolio_return"
   ]
  },
  {
   "cell_type": "code",
   "execution_count": 24,
   "metadata": {},
   "outputs": [
    {
     "data": {
      "text/html": [
       "<div>\n",
       "<style scoped>\n",
       "    .dataframe tbody tr th:only-of-type {\n",
       "        vertical-align: middle;\n",
       "    }\n",
       "\n",
       "    .dataframe tbody tr th {\n",
       "        vertical-align: top;\n",
       "    }\n",
       "\n",
       "    .dataframe thead th {\n",
       "        text-align: right;\n",
       "    }\n",
       "</style>\n",
       "<table border=\"1\" class=\"dataframe\">\n",
       "  <thead>\n",
       "    <tr style=\"text-align: right;\">\n",
       "      <th></th>\n",
       "      <th>AHT</th>\n",
       "      <th>AV</th>\n",
       "      <th>BA</th>\n",
       "      <th>GSK</th>\n",
       "      <th>HSBA</th>\n",
       "      <th>JD</th>\n",
       "      <th>NG</th>\n",
       "      <th>RDSB</th>\n",
       "      <th>RIO</th>\n",
       "      <th>SPX</th>\n",
       "      <th>TSCO</th>\n",
       "      <th>TW</th>\n",
       "      <th>ULVR</th>\n",
       "      <th>portfolio_daily_returns</th>\n",
       "    </tr>\n",
       "  </thead>\n",
       "  <tbody>\n",
       "    <tr>\n",
       "      <th>2015-01-02</th>\n",
       "      <td>NaN</td>\n",
       "      <td>NaN</td>\n",
       "      <td>NaN</td>\n",
       "      <td>NaN</td>\n",
       "      <td>NaN</td>\n",
       "      <td>NaN</td>\n",
       "      <td>NaN</td>\n",
       "      <td>NaN</td>\n",
       "      <td>NaN</td>\n",
       "      <td>NaN</td>\n",
       "      <td>NaN</td>\n",
       "      <td>NaN</td>\n",
       "      <td>NaN</td>\n",
       "      <td>NaN</td>\n",
       "    </tr>\n",
       "    <tr>\n",
       "      <th>2015-01-05</th>\n",
       "      <td>0.014592</td>\n",
       "      <td>-0.028076</td>\n",
       "      <td>-0.015345</td>\n",
       "      <td>-0.009761</td>\n",
       "      <td>-0.013235</td>\n",
       "      <td>-0.001969</td>\n",
       "      <td>0.001541</td>\n",
       "      <td>-0.047864</td>\n",
       "      <td>-0.029125</td>\n",
       "      <td>-0.005618</td>\n",
       "      <td>-0.034042</td>\n",
       "      <td>-0.008154</td>\n",
       "      <td>-0.012663</td>\n",
       "      <td>-0.014594</td>\n",
       "    </tr>\n",
       "    <tr>\n",
       "      <th>2015-01-06</th>\n",
       "      <td>-0.061760</td>\n",
       "      <td>-0.014443</td>\n",
       "      <td>-0.011472</td>\n",
       "      <td>-0.009127</td>\n",
       "      <td>-0.016890</td>\n",
       "      <td>-0.069034</td>\n",
       "      <td>-0.014181</td>\n",
       "      <td>-0.003524</td>\n",
       "      <td>0.021155</td>\n",
       "      <td>-0.016949</td>\n",
       "      <td>-0.015419</td>\n",
       "      <td>-0.020179</td>\n",
       "      <td>0.000389</td>\n",
       "      <td>-0.017803</td>\n",
       "    </tr>\n",
       "  </tbody>\n",
       "</table>\n",
       "</div>"
      ],
      "text/plain": [
       "                 AHT        AV        BA       GSK      HSBA        JD  \\\n",
       "2015-01-02       NaN       NaN       NaN       NaN       NaN       NaN   \n",
       "2015-01-05  0.014592 -0.028076 -0.015345 -0.009761 -0.013235 -0.001969   \n",
       "2015-01-06 -0.061760 -0.014443 -0.011472 -0.009127 -0.016890 -0.069034   \n",
       "\n",
       "                  NG      RDSB       RIO       SPX      TSCO        TW  \\\n",
       "2015-01-02       NaN       NaN       NaN       NaN       NaN       NaN   \n",
       "2015-01-05  0.001541 -0.047864 -0.029125 -0.005618 -0.034042 -0.008154   \n",
       "2015-01-06 -0.014181 -0.003524  0.021155 -0.016949 -0.015419 -0.020179   \n",
       "\n",
       "                ULVR  portfolio_daily_returns  \n",
       "2015-01-02       NaN                      NaN  \n",
       "2015-01-05 -0.012663                -0.014594  \n",
       "2015-01-06  0.000389                -0.017803  "
      ]
     },
     "execution_count": 24,
     "metadata": {},
     "output_type": "execute_result"
    }
   ],
   "source": [
    "return_stocks['portfolio_daily_returns'] = return_stocks.dot(weights)\n",
    "return_stocks.head(3)"
   ]
  },
  {
   "cell_type": "markdown",
   "metadata": {},
   "source": [
    "#### cumulative daily return"
   ]
  },
  {
   "cell_type": "code",
   "execution_count": 25,
   "metadata": {
    "scrolled": false
   },
   "outputs": [
    {
     "data": {
      "text/plain": [
       "2019-12-27    1.771981\n",
       "2019-12-30    1.754964\n",
       "2019-12-31    1.747813\n",
       "Name: portfolio_daily_returns, dtype: float64"
      ]
     },
     "execution_count": 25,
     "metadata": {},
     "output_type": "execute_result"
    }
   ],
   "source": [
    "cumulative_returns_daily = (1+ return_stocks['portfolio_daily_returns']).cumprod()\n",
    "cumulative_returns_daily.tail(3)"
   ]
  },
  {
   "cell_type": "code",
   "execution_count": 51,
   "metadata": {},
   "outputs": [
    {
     "data": {
      "image/png": "[encoded data removed]",
      "text/plain": [
       "<Figure size 720x360 with 1 Axes>"
      ]
     },
     "metadata": {
      "needs_background": "light"
     },
     "output_type": "display_data"
    }
   ],
   "source": [
    "cumulative_returns_daily.plot(figsize=(10,5),alpha=0.7);\n",
    "# cumulative_returns_daily['JD'].plot();"
   ]
  },
  {
   "cell_type": "code",
   "execution_count": 50,
   "metadata": {},
   "outputs": [
    {
     "data": {
      "image/png": "[encoded data removed]",
      "text/plain": [
       "<Figure size 720x360 with 1 Axes>"
      ]
     },
     "metadata": {
      "needs_background": "light"
     },
     "output_type": "display_data"
    }
   ],
   "source": [
    "(cumulative_returns_daily/5).plot(figsize=(10,5), c='r',alpha=0.7);\n",
    "# cumulative_returns_daily['JD'].plot();"
   ]
  },
  {
   "cell_type": "markdown",
   "metadata": {},
   "source": [
    "#### 从cumulative returns 到 年化 return"
   ]
  },
  {
   "cell_type": "code",
   "execution_count": 27,
   "metadata": {
    "scrolled": true
   },
   "outputs": [
    {
     "data": {
      "text/plain": [
       "0.34956252816581446"
      ]
     },
     "execution_count": 27,
     "metadata": {},
     "output_type": "execute_result"
    }
   ],
   "source": [
    "cumulative_returns_daily[-1]/5"
   ]
  },
  {
   "cell_type": "code",
   "execution_count": 28,
   "metadata": {},
   "outputs": [
    {
     "data": {
      "text/plain": [
       "1.7478126408290724"
      ]
     },
     "execution_count": 28,
     "metadata": {},
     "output_type": "execute_result"
    }
   ],
   "source": [
    "cumulative_returns_daily[-1]"
   ]
  },
  {
   "cell_type": "markdown",
   "metadata": {},
   "source": [
    "### 年化 return"
   ]
  },
  {
   "cell_type": "code",
   "execution_count": 29,
   "metadata": {},
   "outputs": [
    {
     "data": {
      "text/plain": [
       "0.22404511046797682"
      ]
     },
     "execution_count": 29,
     "metadata": {},
     "output_type": "execute_result"
    }
   ],
   "source": [
    "((1+cumulative_returns_daily[-1])**(1/5) )-1"
   ]
  },
  {
   "cell_type": "code",
   "execution_count": null,
   "metadata": {},
   "outputs": [],
   "source": []
  },
  {
   "cell_type": "markdown",
   "metadata": {},
   "source": [
    "#### 使用完整个的stock price data, 计算每天价格百分比变动，每天协方差，每年协方差"
   ]
  },
  {
   "cell_type": "code",
   "execution_count": 30,
   "metadata": {},
   "outputs": [],
   "source": [
    "prices_pct = prices.pct_change()\n",
    "cov_matrix_day = prices_pct.cov()\n",
    "cov_matrix_yrs = cov_matrix_day * 250"
   ]
  },
  {
   "cell_type": "code",
   "execution_count": 31,
   "metadata": {},
   "outputs": [
    {
     "data": {
      "text/html": [
       "<div>\n",
       "<style scoped>\n",
       "    .dataframe tbody tr th:only-of-type {\n",
       "        vertical-align: middle;\n",
       "    }\n",
       "\n",
       "    .dataframe tbody tr th {\n",
       "        vertical-align: top;\n",
       "    }\n",
       "\n",
       "    .dataframe thead th {\n",
       "        text-align: right;\n",
       "    }\n",
       "</style>\n",
       "<table border=\"1\" class=\"dataframe\">\n",
       "  <thead>\n",
       "    <tr style=\"text-align: right;\">\n",
       "      <th></th>\n",
       "      <th>AHT</th>\n",
       "      <th>AV</th>\n",
       "      <th>BA</th>\n",
       "      <th>GSK</th>\n",
       "      <th>HSBA</th>\n",
       "      <th>JD</th>\n",
       "      <th>NG</th>\n",
       "      <th>RDSB</th>\n",
       "      <th>RIO</th>\n",
       "      <th>SPX</th>\n",
       "      <th>TSCO</th>\n",
       "      <th>TW</th>\n",
       "      <th>ULVR</th>\n",
       "    </tr>\n",
       "  </thead>\n",
       "  <tbody>\n",
       "    <tr>\n",
       "      <th>AHT</th>\n",
       "      <td>0.090983</td>\n",
       "      <td>0.031232</td>\n",
       "      <td>0.025076</td>\n",
       "      <td>0.016355</td>\n",
       "      <td>0.026507</td>\n",
       "      <td>0.022382</td>\n",
       "      <td>0.006531</td>\n",
       "      <td>0.026735</td>\n",
       "      <td>0.038574</td>\n",
       "      <td>0.030122</td>\n",
       "      <td>0.018020</td>\n",
       "      <td>0.02962</td>\n",
       "      <td>0.011620</td>\n",
       "    </tr>\n",
       "    <tr>\n",
       "      <th>AV</th>\n",
       "      <td>0.031232</td>\n",
       "      <td>0.056272</td>\n",
       "      <td>0.019670</td>\n",
       "      <td>0.011413</td>\n",
       "      <td>0.025561</td>\n",
       "      <td>0.025015</td>\n",
       "      <td>0.008004</td>\n",
       "      <td>0.021064</td>\n",
       "      <td>0.026811</td>\n",
       "      <td>0.019942</td>\n",
       "      <td>0.026479</td>\n",
       "      <td>0.04103</td>\n",
       "      <td>0.009879</td>\n",
       "    </tr>\n",
       "  </tbody>\n",
       "</table>\n",
       "</div>"
      ],
      "text/plain": [
       "          AHT        AV        BA       GSK      HSBA        JD        NG  \\\n",
       "AHT  0.090983  0.031232  0.025076  0.016355  0.026507  0.022382  0.006531   \n",
       "AV   0.031232  0.056272  0.019670  0.011413  0.025561  0.025015  0.008004   \n",
       "\n",
       "         RDSB       RIO       SPX      TSCO       TW      ULVR  \n",
       "AHT  0.026735  0.038574  0.030122  0.018020  0.02962  0.011620  \n",
       "AV   0.021064  0.026811  0.019942  0.026479  0.04103  0.009879  "
      ]
     },
     "execution_count": 31,
     "metadata": {},
     "output_type": "execute_result"
    }
   ],
   "source": [
    "cov_matrix_yrs.head(2)"
   ]
  },
  {
   "cell_type": "markdown",
   "metadata": {},
   "source": [
    "#### 计算portfolio variance 和 standard deviation"
   ]
  },
  {
   "cell_type": "code",
   "execution_count": 32,
   "metadata": {},
   "outputs": [
    {
     "data": {
      "text/plain": [
       "0.020575609703321666"
      ]
     },
     "execution_count": 32,
     "metadata": {},
     "output_type": "execute_result"
    }
   ],
   "source": [
    "port_variance = np.dot(weights.T, np.dot(cov_matrix_yrs, weights))\n",
    "port_variance"
   ]
  },
  {
   "cell_type": "code",
   "execution_count": 33,
   "metadata": {},
   "outputs": [
    {
     "name": "stdout",
     "output_type": "stream",
     "text": [
      "2.1%\n"
     ]
    }
   ],
   "source": [
    "print(str(np.round(port_variance, 3)*100) + '%')"
   ]
  },
  {
   "cell_type": "code",
   "execution_count": 34,
   "metadata": {},
   "outputs": [
    {
     "data": {
      "text/plain": [
       "0.14344200815424213"
      ]
     },
     "execution_count": 34,
     "metadata": {},
     "output_type": "execute_result"
    }
   ],
   "source": [
    "port_stddev = np.sqrt(port_variance)\n",
    "port_stddev"
   ]
  },
  {
   "cell_type": "code",
   "execution_count": 35,
   "metadata": {},
   "outputs": [
    {
     "name": "stdout",
     "output_type": "stream",
     "text": [
      "14.299999999999999%\n"
     ]
    }
   ],
   "source": [
    "print(str(np.round(port_stddev, 3 )*100) + '%')"
   ]
  },
  {
   "cell_type": "code",
   "execution_count": null,
   "metadata": {},
   "outputs": [],
   "source": []
  },
  {
   "cell_type": "markdown",
   "metadata": {},
   "source": [
    "#### skewness and kurtosis 研习"
   ]
  },
  {
   "cell_type": "code",
   "execution_count": 36,
   "metadata": {},
   "outputs": [
    {
     "data": {
      "image/png": "[encoded data removed]",
      "text/plain": [
       "<Figure size 432x288 with 1 Axes>"
      ]
     },
     "metadata": {
      "needs_background": "light"
     },
     "output_type": "display_data"
    }
   ],
   "source": [
    "jd_rtn = prices['JD'].pct_change()\n",
    "jd_rtn.hist(bins=50);"
   ]
  },
  {
   "cell_type": "code",
   "execution_count": 37,
   "metadata": {},
   "outputs": [
    {
     "name": "stdout",
     "output_type": "stream",
     "text": [
      "mean:  0.0018566888219457448\n",
      "vol:  0.0192148697903414\n",
      "shew:  -0.3341476557928015\n",
      "kurt:  7.336000477218182\n"
     ]
    }
   ],
   "source": [
    "print('mean: ', jd_rtn.mean())\n",
    "print('vol: ', jd_rtn.std())\n",
    "print('shew: ', jd_rtn.skew())\n",
    "print('kurt: ', jd_rtn.kurtosis())"
   ]
  },
  {
   "cell_type": "code",
   "execution_count": 38,
   "metadata": {},
   "outputs": [
    {
     "name": "stdout",
     "output_type": "stream",
     "text": [
      "mean:  0.0005278520977260058\n",
      "vol:  0.019924833085149384\n",
      "shew:  0.05639951888430402\n",
      "kurt:  2.3658011131790593\n"
     ]
    }
   ],
   "source": [
    "print('mean: ', prices['RIO'].pct_change().mean())\n",
    "print('vol: ', prices['RIO'].pct_change().std())\n",
    "print('shew: ', prices['RIO'].pct_change().skew())\n",
    "print('kurt: ', prices['RIO'].pct_change().kurtosis())"
   ]
  },
  {
   "cell_type": "code",
   "execution_count": null,
   "metadata": {},
   "outputs": [],
   "source": []
  },
  {
   "cell_type": "code",
   "execution_count": null,
   "metadata": {},
   "outputs": [],
   "source": []
  },
  {
   "cell_type": "code",
   "execution_count": null,
   "metadata": {},
   "outputs": [],
   "source": []
  },
  {
   "cell_type": "code",
   "execution_count": null,
   "metadata": {},
   "outputs": [],
   "source": []
  },
  {
   "cell_type": "code",
   "execution_count": null,
   "metadata": {},
   "outputs": [],
   "source": []
  },
  {
   "cell_type": "code",
   "execution_count": null,
   "metadata": {},
   "outputs": [],
   "source": []
  },
  {
   "cell_type": "code",
   "execution_count": null,
   "metadata": {},
   "outputs": [],
   "source": []
  },
  {
   "cell_type": "code",
   "execution_count": null,
   "metadata": {},
   "outputs": [],
   "source": []
  },
  {
   "cell_type": "code",
   "execution_count": null,
   "metadata": {},
   "outputs": [],
   "source": []
  },
  {
   "cell_type": "code",
   "execution_count": null,
   "metadata": {},
   "outputs": [],
   "source": []
  },
  {
   "cell_type": "code",
   "execution_count": null,
   "metadata": {},
   "outputs": [],
   "source": []
  },
  {
   "cell_type": "code",
   "execution_count": 39,
   "metadata": {},
   "outputs": [
    {
     "data": {
      "text/html": [
       "<div>\n",
       "<style scoped>\n",
       "    .dataframe tbody tr th:only-of-type {\n",
       "        vertical-align: middle;\n",
       "    }\n",
       "\n",
       "    .dataframe tbody tr th {\n",
       "        vertical-align: top;\n",
       "    }\n",
       "\n",
       "    .dataframe thead th {\n",
       "        text-align: right;\n",
       "    }\n",
       "</style>\n",
       "<table border=\"1\" class=\"dataframe\">\n",
       "  <thead>\n",
       "    <tr style=\"text-align: right;\">\n",
       "      <th></th>\n",
       "      <th>AHT</th>\n",
       "      <th>AV</th>\n",
       "      <th>BA</th>\n",
       "      <th>GSK</th>\n",
       "      <th>HSBA</th>\n",
       "      <th>JD</th>\n",
       "      <th>NG</th>\n",
       "      <th>RDSB</th>\n",
       "      <th>RIO</th>\n",
       "      <th>SPX</th>\n",
       "      <th>TSCO</th>\n",
       "      <th>TW</th>\n",
       "      <th>ULVR</th>\n",
       "    </tr>\n",
       "  </thead>\n",
       "  <tbody>\n",
       "    <tr>\n",
       "      <th>0</th>\n",
       "      <td>1.072103</td>\n",
       "      <td>-0.135632</td>\n",
       "      <td>0.203751</td>\n",
       "      <td>0.286334</td>\n",
       "      <td>-0.032843</td>\n",
       "      <td>7.242126</td>\n",
       "      <td>0.039634</td>\n",
       "      <td>0.001789</td>\n",
       "      <td>0.516162</td>\n",
       "      <td>2.121489</td>\n",
       "      <td>0.357447</td>\n",
       "      <td>0.433655</td>\n",
       "      <td>0.669417</td>\n",
       "    </tr>\n",
       "  </tbody>\n",
       "</table>\n",
       "</div>"
      ],
      "text/plain": [
       "        AHT        AV        BA       GSK      HSBA        JD        NG  \\\n",
       "0  1.072103 -0.135632  0.203751  0.286334 -0.032843  7.242126  0.039634   \n",
       "\n",
       "       RDSB       RIO       SPX      TSCO        TW      ULVR  \n",
       "0  0.001789  0.516162  2.121489  0.357447  0.433655  0.669417  "
      ]
     },
     "execution_count": 39,
     "metadata": {},
     "output_type": "execute_result"
    }
   ],
   "source": [
    "rtn_5yrs_total = pd.DataFrame((np.array(prices.tail(1))-np.array(prices.head(1)))/np.array(prices.head(1)), columns=stocks )\n",
    "rtn_5yrs_total"
   ]
  },
  {
   "cell_type": "code",
   "execution_count": 40,
   "metadata": {},
   "outputs": [
    {
     "data": {
      "text/plain": [
       "0    12.775432\n",
       "dtype: float64"
      ]
     },
     "execution_count": 40,
     "metadata": {},
     "output_type": "execute_result"
    }
   ],
   "source": [
    "rtn_5yrs_total.T.sum()"
   ]
  },
  {
   "cell_type": "code",
   "execution_count": 41,
   "metadata": {},
   "outputs": [
    {
     "data": {
      "text/plain": [
       "0    0.982726\n",
       "dtype: float64"
      ]
     },
     "execution_count": 41,
     "metadata": {},
     "output_type": "execute_result"
    }
   ],
   "source": [
    "rtn_5yrs_total.T.mean()"
   ]
  },
  {
   "cell_type": "code",
   "execution_count": 42,
   "metadata": {},
   "outputs": [
    {
     "data": {
      "text/plain": [
       "0    0.196545\n",
       "dtype: float64"
      ]
     },
     "execution_count": 42,
     "metadata": {},
     "output_type": "execute_result"
    }
   ],
   "source": [
    "rtn_5yrs_total.T.mean()/5"
   ]
  },
  {
   "cell_type": "code",
   "execution_count": null,
   "metadata": {},
   "outputs": [],
   "source": []
  }
 ],
 "metadata": {
  "kernelspec": {
   "display_name": "Python 3",
   "language": "python",
   "name": "python3"
  },
  "language_info": {
   "codemirror_mode": {
    "name": "ipython",
    "version": 3
   },
   "file_extension": ".py",
   "mimetype": "text/x-python",
   "name": "python",
   "nbconvert_exporter": "python",
   "pygments_lexer": "ipython3",
   "version": "3.8.3"
  }
 },
 "nbformat": 4,
 "nbformat_minor": 4
}
