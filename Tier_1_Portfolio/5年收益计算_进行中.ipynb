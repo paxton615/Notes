{
 "cells": [
  {
   "cell_type": "code",
   "execution_count": 1,
   "metadata": {},
   "outputs": [],
   "source": [
    "import pandas as pd\n",
    "import numpy as np\n",
    "import datetime as dt\n",
    "from datetime import datetime\n",
    "from datetime import date\n",
    "import matplotlib.pyplot as plt\n",
    "import re\n",
    "import requests\n",
    "pd.options.display.max_rows = 5000 \n",
    "import warnings\n",
    "warnings.filterwarnings('ignore')"
   ]
  },
  {
   "cell_type": "markdown",
   "metadata": {},
   "source": [
    "首先要处理红利的csv\n",
    "\n",
    "'JD_div','GSK_div'"
   ]
  },
  {
   "cell_type": "code",
   "execution_count": 2,
   "metadata": {},
   "outputs": [],
   "source": [
    "test_lst = ['JD_div','GSK_div','TW_div','HSBA_div']"
   ]
  },
  {
   "cell_type": "code",
   "execution_count": 3,
   "metadata": {},
   "outputs": [],
   "source": [
    "df = pd.read_excel('/Users/paxton615/Desktop/Stock_Price_csv/tier_1_stocks/dividend/TSCO_div.xlsx', skiprows=1)"
   ]
  },
  {
   "cell_type": "code",
   "execution_count": 4,
   "metadata": {},
   "outputs": [],
   "source": [
    "def get_years(lst, start_int, end_int):\n",
    "    df = pd.read_excel('/Users/paxton615/Desktop/Stock_Price_csv/tier_1_stocks/dividend/{}.xlsx'.format(lst[0]), skiprows=1)\n",
    "    df.columns = [''.join(filter(str.isalpha, i)).lower() for i in df.columns]\n",
    "    df = [int(i[3:]) for i in list(df['yearend'])]\n",
    "    df = list(filter(lambda i: end_int>=i>=start_int, df))\n",
    "    return(df)"
   ]
  },
  {
   "cell_type": "code",
   "execution_count": 11,
   "metadata": {},
   "outputs": [],
   "source": [
    "def get_dividends(lst, start_int, end_int):\n",
    "    new_list = []\n",
    "    for i in lst:\n",
    "        df = pd.read_excel('/Users/paxton615/Desktop/Stock_Price_csv/tier_1_stocks/dividend/{}.xlsx'.format(i), skiprows=1)\n",
    "        df.columns = [''.join(filter(str.isalpha, i)).lower() for i in df.columns]\n",
    "        df = df[['yearend','total']]\n",
    "        df.columns = ['year',i]\n",
    "        df['year'] = [int(i[3:]) for i in list(df['year'])]\n",
    "        df = df.loc[(df['year']<=end_int) & (df['year']>=start_int)] \n",
    "        df[i] = [float(re.sub(\"[^\\d\\.]\", \"\", i)) for i in df[i]] \n",
    "        new_list.append(df[i].reset_index(drop=True))\n",
    "    return(new_list)"
   ]
  },
  {
   "cell_type": "code",
   "execution_count": 15,
   "metadata": {},
   "outputs": [],
   "source": [
    "div_yrs = get_years(test_lst, 2016, 2020)"
   ]
  },
  {
   "cell_type": "code",
   "execution_count": 16,
   "metadata": {
    "scrolled": false
   },
   "outputs": [],
   "source": [
    "dividends = get_dividends(test_lst, 2016, 2020)"
   ]
  },
  {
   "cell_type": "code",
   "execution_count": 17,
   "metadata": {},
   "outputs": [
    {
     "name": "stdout",
     "output_type": "stream",
     "text": [
      "[2020, 2019, 2018, 2017, 2016] [0    0.28\n",
      "1    1.71\n",
      "2    1.63\n",
      "3    1.55\n",
      "4    1.48\n",
      "Name: JD_div, dtype: float64, 0    80.0\n",
      "1    80.0\n",
      "2    80.0\n",
      "3    80.0\n",
      "4    80.0\n",
      "Name: GSK_div, dtype: float64, 0    4.14\n",
      "1    3.84\n",
      "2    6.24\n",
      "3    4.74\n",
      "4    2.82\n",
      "Name: TW_div, dtype: float64, 0    15.0\n",
      "1    30.0\n",
      "2    51.0\n",
      "3    51.0\n",
      "4    51.0\n",
      "Name: HSBA_div, dtype: float64]\n"
     ]
    }
   ],
   "source": [
    "print(div_yrs, dividends)"
   ]
  },
  {
   "cell_type": "code",
   "execution_count": null,
   "metadata": {},
   "outputs": [],
   "source": []
  },
  {
   "cell_type": "code",
   "execution_count": null,
   "metadata": {},
   "outputs": [],
   "source": []
  },
  {
   "cell_type": "code",
   "execution_count": null,
   "metadata": {},
   "outputs": [],
   "source": []
  },
  {
   "cell_type": "code",
   "execution_count": null,
   "metadata": {},
   "outputs": [],
   "source": []
  },
  {
   "cell_type": "code",
   "execution_count": null,
   "metadata": {},
   "outputs": [],
   "source": []
  }
 ],
 "metadata": {
  "kernelspec": {
   "display_name": "Python 3",
   "language": "python",
   "name": "python3"
  },
  "language_info": {
   "codemirror_mode": {
    "name": "ipython",
    "version": 3
   },
   "file_extension": ".py",
   "mimetype": "text/x-python",
   "name": "python",
   "nbconvert_exporter": "python",
   "pygments_lexer": "ipython3",
   "version": "3.8.3"
  }
 },
 "nbformat": 4,
 "nbformat_minor": 4
}
