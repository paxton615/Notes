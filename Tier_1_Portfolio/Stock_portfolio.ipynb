{
 "cells": [
  {
   "cell_type": "code",
   "execution_count": 1,
   "metadata": {},
   "outputs": [],
   "source": [
    "import pandas as pd\n",
    "import datetime as dt\n",
    "from datetime import datetime\n",
    "from datetime import date\n",
    "import matplotlib.pyplot as plt\n",
    "import re\n",
    "import requests\n",
    "pd.options.display.max_rows = 5000 "
   ]
  },
  {
   "cell_type": "markdown",
   "metadata": {},
   "source": [
    "CSV_list\n",
    "\n",
    "GSK_2016, AV_2016, BA_2016, RDSB_2016, SPX_2016"
   ]
  },
  {
   "cell_type": "code",
   "execution_count": 2,
   "metadata": {},
   "outputs": [],
   "source": [
    "def get_close(stock):\n",
    "    data = pd.read_csv(r'/Users/paxton615/Desktop/Stock_Price_csv/tier_1_stocks/{}.csv'.format(stock)) # read data from csv 注意文件夹路径和文件名\n",
    "    df = data[['time','close']]                                          # get time and close price\n",
    "    df.columns = ['date', stock]                                       # change column names\n",
    "    df.date = [datetime.fromisoformat(i[:10]) for i in df['date']]       # convert dates into datetime\n",
    "    df = df.loc[(df['date']>='2016-01-01')&(df['date']<'2021-01-01')]    # make sure date start from 2016-01-01\n",
    "#     print(df.head(),df.tail(), len(df.date))                             # check header and df length\n",
    "    return (df)"
   ]
  },
  {
   "cell_type": "markdown",
   "metadata": {},
   "source": [
    "#### 这里发现了一个大bug\n",
    "\n",
    "合并dataframe时，如果index是乱序，则合并出来的结果也可能是乱序"
   ]
  },
  {
   "cell_type": "code",
   "execution_count": 3,
   "metadata": {
    "scrolled": true
   },
   "outputs": [
    {
     "name": "stderr",
     "output_type": "stream",
     "text": [
      "/Users/paxton615/opt/anaconda3/lib/python3.8/site-packages/pandas/core/generic.py:5303: SettingWithCopyWarning: \n",
      "A value is trying to be set on a copy of a slice from a DataFrame.\n",
      "Try using .loc[row_indexer,col_indexer] = value instead\n",
      "\n",
      "See the caveats in the documentation: https://pandas.pydata.org/pandas-docs/stable/user_guide/indexing.html#returning-a-view-versus-a-copy\n",
      "  self[name] = value\n"
     ]
    }
   ],
   "source": [
    "GSK = get_close('GSK')\n",
    "GSK = GSK.reset_index(drop=True)\n",
    "AV = get_close('AV')\n",
    "AV = AV.reset_index(drop=True)\n",
    "BA = get_close('BA')\n",
    "BA = BA.reset_index(drop=True)\n",
    "RDSB = get_close('RDSB')\n",
    "RDSB = RDSB.reset_index(drop=True)\n",
    "SPX = get_close('SPX')\n",
    "SPX = SPX.reset_index(drop=True)"
   ]
  },
  {
   "cell_type": "code",
   "execution_count": 4,
   "metadata": {},
   "outputs": [
    {
     "data": {
      "text/html": [
       "<div>\n",
       "<style scoped>\n",
       "    .dataframe tbody tr th:only-of-type {\n",
       "        vertical-align: middle;\n",
       "    }\n",
       "\n",
       "    .dataframe tbody tr th {\n",
       "        vertical-align: top;\n",
       "    }\n",
       "\n",
       "    .dataframe thead th {\n",
       "        text-align: right;\n",
       "    }\n",
       "</style>\n",
       "<table border=\"1\" class=\"dataframe\">\n",
       "  <thead>\n",
       "    <tr style=\"text-align: right;\">\n",
       "      <th></th>\n",
       "      <th>gsk</th>\n",
       "      <th>av</th>\n",
       "      <th>ba</th>\n",
       "      <th>rdsb</th>\n",
       "      <th>spx</th>\n",
       "    </tr>\n",
       "    <tr>\n",
       "      <th>date</th>\n",
       "      <th></th>\n",
       "      <th></th>\n",
       "      <th></th>\n",
       "      <th></th>\n",
       "      <th></th>\n",
       "    </tr>\n",
       "  </thead>\n",
       "  <tbody>\n",
       "    <tr>\n",
       "      <th>2016-01-04</th>\n",
       "      <td>1364.5</td>\n",
       "      <td>497.60001</td>\n",
       "      <td>493.5</td>\n",
       "      <td>1538.0</td>\n",
       "      <td>3190</td>\n",
       "    </tr>\n",
       "    <tr>\n",
       "      <th>2016-01-05</th>\n",
       "      <td>1386.0</td>\n",
       "      <td>500.00000</td>\n",
       "      <td>494.0</td>\n",
       "      <td>1535.0</td>\n",
       "      <td>3225</td>\n",
       "    </tr>\n",
       "    <tr>\n",
       "      <th>2016-01-06</th>\n",
       "      <td>1380.5</td>\n",
       "      <td>495.29999</td>\n",
       "      <td>512.5</td>\n",
       "      <td>1504.0</td>\n",
       "      <td>3191</td>\n",
       "    </tr>\n",
       "    <tr>\n",
       "      <th>2016-01-07</th>\n",
       "      <td>1344.5</td>\n",
       "      <td>481.89999</td>\n",
       "      <td>505.5</td>\n",
       "      <td>1462.0</td>\n",
       "      <td>3175</td>\n",
       "    </tr>\n",
       "    <tr>\n",
       "      <th>2016-01-08</th>\n",
       "      <td>1371.5</td>\n",
       "      <td>476.89999</td>\n",
       "      <td>519.5</td>\n",
       "      <td>1375.5</td>\n",
       "      <td>3129</td>\n",
       "    </tr>\n",
       "  </tbody>\n",
       "</table>\n",
       "</div>"
      ],
      "text/plain": [
       "               gsk         av     ba    rdsb   spx\n",
       "date                                              \n",
       "2016-01-04  1364.5  497.60001  493.5  1538.0  3190\n",
       "2016-01-05  1386.0  500.00000  494.0  1535.0  3225\n",
       "2016-01-06  1380.5  495.29999  512.5  1504.0  3191\n",
       "2016-01-07  1344.5  481.89999  505.5  1462.0  3175\n",
       "2016-01-08  1371.5  476.89999  519.5  1375.5  3129"
      ]
     },
     "execution_count": 4,
     "metadata": {},
     "output_type": "execute_result"
    }
   ],
   "source": [
    "df = pd.DataFrame({'date':GSK['date'], 'gsk':GSK['GSK'], 'av':AV['AV'], 'ba':BA['BA'], 'rdsb':RDSB['RDSB'], 'spx':SPX['SPX']})\n",
    "df = df.set_index('date', drop=True)\n",
    "df.head()"
   ]
  },
  {
   "cell_type": "code",
   "execution_count": 7,
   "metadata": {},
   "outputs": [
    {
     "data": {
      "image/png": "[encoded data removed]",
      "text/plain": [
       "<Figure size 864x432 with 1 Axes>"
      ]
     },
     "metadata": {
      "needs_background": "light"
     },
     "output_type": "display_data"
    }
   ],
   "source": [
    "# visually show portfolio\n",
    "title = 'Portfolio Close Price Histroy'\n",
    "\n",
    "# get the stocks\n",
    "my_stocks = df\n",
    "\n",
    "# create\n",
    "plt.figure(figsize=(12,6))\n",
    "for c in my_stocks.columns.values:\n",
    "    plt.plot(my_stocks[c], label= c)\n",
    "    \n",
    "plt.title(title)\n",
    "plt.xlabel('Date', fontsize=18)\n",
    "plt.ylabel('Tier_1_stocks ', fontsize=18)\n",
    "plt.legend(my_stocks.columns.values, loc='upper left')\n",
    "plt.show()"
   ]
  },
  {
   "cell_type": "code",
   "execution_count": 10,
   "metadata": {},
   "outputs": [
    {
     "data": {
      "text/html": [
       "<div>\n",
       "<style scoped>\n",
       "    .dataframe tbody tr th:only-of-type {\n",
       "        vertical-align: middle;\n",
       "    }\n",
       "\n",
       "    .dataframe tbody tr th {\n",
       "        vertical-align: top;\n",
       "    }\n",
       "\n",
       "    .dataframe thead th {\n",
       "        text-align: right;\n",
       "    }\n",
       "</style>\n",
       "<table border=\"1\" class=\"dataframe\">\n",
       "  <thead>\n",
       "    <tr style=\"text-align: right;\">\n",
       "      <th></th>\n",
       "      <th>gsk</th>\n",
       "      <th>av</th>\n",
       "      <th>ba</th>\n",
       "      <th>rdsb</th>\n",
       "      <th>spx</th>\n",
       "    </tr>\n",
       "    <tr>\n",
       "      <th>date</th>\n",
       "      <th></th>\n",
       "      <th></th>\n",
       "      <th></th>\n",
       "      <th></th>\n",
       "      <th></th>\n",
       "    </tr>\n",
       "  </thead>\n",
       "  <tbody>\n",
       "    <tr>\n",
       "      <th>2016-01-04</th>\n",
       "      <td>NaN</td>\n",
       "      <td>NaN</td>\n",
       "      <td>NaN</td>\n",
       "      <td>NaN</td>\n",
       "      <td>NaN</td>\n",
       "    </tr>\n",
       "    <tr>\n",
       "      <th>2016-01-05</th>\n",
       "      <td>0.015757</td>\n",
       "      <td>0.004823</td>\n",
       "      <td>0.001013</td>\n",
       "      <td>-0.001951</td>\n",
       "      <td>0.010972</td>\n",
       "    </tr>\n",
       "    <tr>\n",
       "      <th>2016-01-06</th>\n",
       "      <td>-0.003968</td>\n",
       "      <td>-0.009400</td>\n",
       "      <td>0.037449</td>\n",
       "      <td>-0.020195</td>\n",
       "      <td>-0.010543</td>\n",
       "    </tr>\n",
       "    <tr>\n",
       "      <th>2016-01-07</th>\n",
       "      <td>-0.026078</td>\n",
       "      <td>-0.027054</td>\n",
       "      <td>-0.013659</td>\n",
       "      <td>-0.027926</td>\n",
       "      <td>-0.005014</td>\n",
       "    </tr>\n",
       "    <tr>\n",
       "      <th>2016-01-08</th>\n",
       "      <td>0.020082</td>\n",
       "      <td>-0.010376</td>\n",
       "      <td>0.027695</td>\n",
       "      <td>-0.059166</td>\n",
       "      <td>-0.014488</td>\n",
       "    </tr>\n",
       "  </tbody>\n",
       "</table>\n",
       "</div>"
      ],
      "text/plain": [
       "                 gsk        av        ba      rdsb       spx\n",
       "date                                                        \n",
       "2016-01-04       NaN       NaN       NaN       NaN       NaN\n",
       "2016-01-05  0.015757  0.004823  0.001013 -0.001951  0.010972\n",
       "2016-01-06 -0.003968 -0.009400  0.037449 -0.020195 -0.010543\n",
       "2016-01-07 -0.026078 -0.027054 -0.013659 -0.027926 -0.005014\n",
       "2016-01-08  0.020082 -0.010376  0.027695 -0.059166 -0.014488"
      ]
     },
     "execution_count": 10,
     "metadata": {},
     "output_type": "execute_result"
    }
   ],
   "source": [
    "# show the daily simple return\n",
    "returns = df.pct_change() #  pct_change = (day_price - previous_day_price) / previous_day_price\n",
    "returns.head()"
   ]
  },
  {
   "cell_type": "code",
   "execution_count": 9,
   "metadata": {},
   "outputs": [
    {
     "data": {
      "text/html": [
       "<div>\n",
       "<style scoped>\n",
       "    .dataframe tbody tr th:only-of-type {\n",
       "        vertical-align: middle;\n",
       "    }\n",
       "\n",
       "    .dataframe tbody tr th {\n",
       "        vertical-align: top;\n",
       "    }\n",
       "\n",
       "    .dataframe thead th {\n",
       "        text-align: right;\n",
       "    }\n",
       "</style>\n",
       "<table border=\"1\" class=\"dataframe\">\n",
       "  <thead>\n",
       "    <tr style=\"text-align: right;\">\n",
       "      <th></th>\n",
       "      <th>gsk</th>\n",
       "      <th>av</th>\n",
       "      <th>ba</th>\n",
       "      <th>rdsb</th>\n",
       "      <th>spx</th>\n",
       "    </tr>\n",
       "  </thead>\n",
       "  <tbody>\n",
       "    <tr>\n",
       "      <th>gsk</th>\n",
       "      <td>0.000167</td>\n",
       "      <td>0.000062</td>\n",
       "      <td>0.000073</td>\n",
       "      <td>0.000107</td>\n",
       "      <td>0.000065</td>\n",
       "    </tr>\n",
       "    <tr>\n",
       "      <th>av</th>\n",
       "      <td>0.000062</td>\n",
       "      <td>0.000357</td>\n",
       "      <td>0.000139</td>\n",
       "      <td>0.000213</td>\n",
       "      <td>0.000104</td>\n",
       "    </tr>\n",
       "    <tr>\n",
       "      <th>ba</th>\n",
       "      <td>0.000073</td>\n",
       "      <td>0.000139</td>\n",
       "      <td>0.000239</td>\n",
       "      <td>0.000137</td>\n",
       "      <td>0.000092</td>\n",
       "    </tr>\n",
       "    <tr>\n",
       "      <th>rdsb</th>\n",
       "      <td>0.000107</td>\n",
       "      <td>0.000213</td>\n",
       "      <td>0.000137</td>\n",
       "      <td>0.000441</td>\n",
       "      <td>0.000108</td>\n",
       "    </tr>\n",
       "    <tr>\n",
       "      <th>spx</th>\n",
       "      <td>0.000065</td>\n",
       "      <td>0.000104</td>\n",
       "      <td>0.000092</td>\n",
       "      <td>0.000108</td>\n",
       "      <td>0.000223</td>\n",
       "    </tr>\n",
       "  </tbody>\n",
       "</table>\n",
       "</div>"
      ],
      "text/plain": [
       "           gsk        av        ba      rdsb       spx\n",
       "gsk   0.000167  0.000062  0.000073  0.000107  0.000065\n",
       "av    0.000062  0.000357  0.000139  0.000213  0.000104\n",
       "ba    0.000073  0.000139  0.000239  0.000137  0.000092\n",
       "rdsb  0.000107  0.000213  0.000137  0.000441  0.000108\n",
       "spx   0.000065  0.000104  0.000092  0.000108  0.000223"
      ]
     },
     "execution_count": 9,
     "metadata": {},
     "output_type": "execute_result"
    }
   ],
   "source": [
    "# check the covariance among stocks\n",
    "returns.cov()"
   ]
  },
  {
   "cell_type": "code",
   "execution_count": 11,
   "metadata": {},
   "outputs": [
    {
     "data": {
      "text/html": [
       "<div>\n",
       "<style scoped>\n",
       "    .dataframe tbody tr th:only-of-type {\n",
       "        vertical-align: middle;\n",
       "    }\n",
       "\n",
       "    .dataframe tbody tr th {\n",
       "        vertical-align: top;\n",
       "    }\n",
       "\n",
       "    .dataframe thead th {\n",
       "        text-align: right;\n",
       "    }\n",
       "</style>\n",
       "<table border=\"1\" class=\"dataframe\">\n",
       "  <thead>\n",
       "    <tr style=\"text-align: right;\">\n",
       "      <th></th>\n",
       "      <th>gsk</th>\n",
       "      <th>av</th>\n",
       "      <th>ba</th>\n",
       "      <th>rdsb</th>\n",
       "      <th>spx</th>\n",
       "    </tr>\n",
       "  </thead>\n",
       "  <tbody>\n",
       "    <tr>\n",
       "      <th>gsk</th>\n",
       "      <td>0.042089</td>\n",
       "      <td>0.015738</td>\n",
       "      <td>0.018329</td>\n",
       "      <td>0.026892</td>\n",
       "      <td>0.016345</td>\n",
       "    </tr>\n",
       "    <tr>\n",
       "      <th>av</th>\n",
       "      <td>0.015738</td>\n",
       "      <td>0.089965</td>\n",
       "      <td>0.035064</td>\n",
       "      <td>0.053564</td>\n",
       "      <td>0.026280</td>\n",
       "    </tr>\n",
       "    <tr>\n",
       "      <th>ba</th>\n",
       "      <td>0.018329</td>\n",
       "      <td>0.035064</td>\n",
       "      <td>0.060153</td>\n",
       "      <td>0.034410</td>\n",
       "      <td>0.023200</td>\n",
       "    </tr>\n",
       "    <tr>\n",
       "      <th>rdsb</th>\n",
       "      <td>0.026892</td>\n",
       "      <td>0.053564</td>\n",
       "      <td>0.034410</td>\n",
       "      <td>0.111052</td>\n",
       "      <td>0.027276</td>\n",
       "    </tr>\n",
       "    <tr>\n",
       "      <th>spx</th>\n",
       "      <td>0.016345</td>\n",
       "      <td>0.026280</td>\n",
       "      <td>0.023200</td>\n",
       "      <td>0.027276</td>\n",
       "      <td>0.056096</td>\n",
       "    </tr>\n",
       "  </tbody>\n",
       "</table>\n",
       "</div>"
      ],
      "text/plain": [
       "           gsk        av        ba      rdsb       spx\n",
       "gsk   0.042089  0.015738  0.018329  0.026892  0.016345\n",
       "av    0.015738  0.089965  0.035064  0.053564  0.026280\n",
       "ba    0.018329  0.035064  0.060153  0.034410  0.023200\n",
       "rdsb  0.026892  0.053564  0.034410  0.111052  0.027276\n",
       "spx   0.016345  0.026280  0.023200  0.027276  0.056096"
      ]
     },
     "execution_count": 11,
     "metadata": {},
     "output_type": "execute_result"
    }
   ],
   "source": [
    "# create the annualized covariance matrix\n",
    "cov_matrix_annual = returns.cov() * 252\n",
    "cov_matrix_annual"
   ]
  },
  {
   "cell_type": "code",
   "execution_count": null,
   "metadata": {},
   "outputs": [],
   "source": []
  },
  {
   "cell_type": "code",
   "execution_count": null,
   "metadata": {},
   "outputs": [],
   "source": []
  }
 ],
 "metadata": {
  "kernelspec": {
   "display_name": "Python 3",
   "language": "python",
   "name": "python3"
  },
  "language_info": {
   "codemirror_mode": {
    "name": "ipython",
    "version": 3
   },
   "file_extension": ".py",
   "mimetype": "text/x-python",
   "name": "python",
   "nbconvert_exporter": "python",
   "pygments_lexer": "ipython3",
   "version": "3.8.3"
  }
 },
 "nbformat": 4,
 "nbformat_minor": 4
}
