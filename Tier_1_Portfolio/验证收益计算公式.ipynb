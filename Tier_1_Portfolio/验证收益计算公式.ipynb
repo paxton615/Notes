{
 "cells": [
  {
   "cell_type": "code",
   "execution_count": 1,
   "metadata": {},
   "outputs": [],
   "source": [
    "import pandas as pd\n",
    "import numpy as np\n",
    "import datetime as dt\n",
    "from datetime import datetime\n",
    "from datetime import date\n",
    "import matplotlib.pyplot as plt\n",
    "import re\n",
    "import requests\n",
    "pd.options.display.max_rows = 5000 \n",
    "import warnings\n",
    "warnings.filterwarnings('ignore')"
   ]
  },
  {
   "cell_type": "code",
   "execution_count": 2,
   "metadata": {},
   "outputs": [],
   "source": [
    "# shengxiao = pd.DataFrame({'shu':[5,10,15], 'niu':[100,200,300],'hu':[1,5,10]}, index=['2018', '2019', '2020'])\n",
    "# shengxiao"
   ]
  },
  {
   "cell_type": "code",
   "execution_count": 11,
   "metadata": {},
   "outputs": [
    {
     "data": {
      "text/html": [
       "<div>\n",
       "<style scoped>\n",
       "    .dataframe tbody tr th:only-of-type {\n",
       "        vertical-align: middle;\n",
       "    }\n",
       "\n",
       "    .dataframe tbody tr th {\n",
       "        vertical-align: top;\n",
       "    }\n",
       "\n",
       "    .dataframe thead th {\n",
       "        text-align: right;\n",
       "    }\n",
       "</style>\n",
       "<table border=\"1\" class=\"dataframe\">\n",
       "  <thead>\n",
       "    <tr style=\"text-align: right;\">\n",
       "      <th></th>\n",
       "      <th>shu</th>\n",
       "      <th>niu</th>\n",
       "    </tr>\n",
       "  </thead>\n",
       "  <tbody>\n",
       "    <tr>\n",
       "      <th>2018</th>\n",
       "      <td>5</td>\n",
       "      <td>100</td>\n",
       "    </tr>\n",
       "    <tr>\n",
       "      <th>2019</th>\n",
       "      <td>10</td>\n",
       "      <td>150</td>\n",
       "    </tr>\n",
       "    <tr>\n",
       "      <th>2020</th>\n",
       "      <td>15</td>\n",
       "      <td>200</td>\n",
       "    </tr>\n",
       "  </tbody>\n",
       "</table>\n",
       "</div>"
      ],
      "text/plain": [
       "      shu  niu\n",
       "2018    5  100\n",
       "2019   10  150\n",
       "2020   15  200"
      ]
     },
     "execution_count": 11,
     "metadata": {},
     "output_type": "execute_result"
    }
   ],
   "source": [
    "shengxiao = pd.DataFrame({'shu':[5,10,15], 'niu':[100,150,200]}, index=[ '2018','2019', '2020'])\n",
    "shengxiao"
   ]
  },
  {
   "cell_type": "code",
   "execution_count": 12,
   "metadata": {},
   "outputs": [],
   "source": [
    "weights = np.array([0.2, 0.8])"
   ]
  },
  {
   "cell_type": "code",
   "execution_count": 13,
   "metadata": {},
   "outputs": [
    {
     "data": {
      "text/html": [
       "<div>\n",
       "<style scoped>\n",
       "    .dataframe tbody tr th:only-of-type {\n",
       "        vertical-align: middle;\n",
       "    }\n",
       "\n",
       "    .dataframe tbody tr th {\n",
       "        vertical-align: top;\n",
       "    }\n",
       "\n",
       "    .dataframe thead th {\n",
       "        text-align: right;\n",
       "    }\n",
       "</style>\n",
       "<table border=\"1\" class=\"dataframe\">\n",
       "  <thead>\n",
       "    <tr style=\"text-align: right;\">\n",
       "      <th></th>\n",
       "      <th>shu</th>\n",
       "      <th>niu</th>\n",
       "    </tr>\n",
       "  </thead>\n",
       "  <tbody>\n",
       "    <tr>\n",
       "      <th>2018</th>\n",
       "      <td>NaN</td>\n",
       "      <td>NaN</td>\n",
       "    </tr>\n",
       "    <tr>\n",
       "      <th>2019</th>\n",
       "      <td>1.0</td>\n",
       "      <td>0.500000</td>\n",
       "    </tr>\n",
       "    <tr>\n",
       "      <th>2020</th>\n",
       "      <td>0.5</td>\n",
       "      <td>0.333333</td>\n",
       "    </tr>\n",
       "  </tbody>\n",
       "</table>\n",
       "</div>"
      ],
      "text/plain": [
       "      shu       niu\n",
       "2018  NaN       NaN\n",
       "2019  1.0  0.500000\n",
       "2020  0.5  0.333333"
      ]
     },
     "execution_count": 13,
     "metadata": {},
     "output_type": "execute_result"
    }
   ],
   "source": [
    "return_each = shengxiao.pct_change()\n",
    "return_each"
   ]
  },
  {
   "cell_type": "code",
   "execution_count": 14,
   "metadata": {},
   "outputs": [
    {
     "data": {
      "text/plain": [
       "shu    0.750000\n",
       "niu    0.416667\n",
       "dtype: float64"
      ]
     },
     "execution_count": 14,
     "metadata": {},
     "output_type": "execute_result"
    }
   ],
   "source": [
    "return_each_mean = return_each.mean() \n",
    "return_each_mean # "
   ]
  },
  {
   "cell_type": "markdown",
   "metadata": {},
   "source": [
    "### 以列为计算方向，感觉每次都会出现一点最终结果上的偏差\n",
    "\n",
    "allocated_return是平均每次的-----平均回报率\n",
    "\n",
    "比如，初始投资1000，shu占20%， niu占80%，\n",
    "\n",
    "1000 * 1.483 = 1483\n",
    "\n",
    "1483 * 1.483 = 2199 约等于手动计算的2200"
   ]
  },
  {
   "cell_type": "code",
   "execution_count": 15,
   "metadata": {
    "scrolled": true
   },
   "outputs": [
    {
     "data": {
      "text/plain": [
       "0.48333333333333334"
      ]
     },
     "execution_count": 15,
     "metadata": {},
     "output_type": "execute_result"
    }
   ],
   "source": [
    "allocated_return = np.sum(weights * return_each_mean)\n",
    "allocated_return"
   ]
  },
  {
   "cell_type": "code",
   "execution_count": null,
   "metadata": {},
   "outputs": [],
   "source": []
  },
  {
   "cell_type": "code",
   "execution_count": null,
   "metadata": {},
   "outputs": [],
   "source": []
  },
  {
   "cell_type": "code",
   "execution_count": null,
   "metadata": {},
   "outputs": [],
   "source": []
  },
  {
   "cell_type": "markdown",
   "metadata": {},
   "source": [
    "### 以行为计算单位，计算结果比较准确，但每次算的都是整个portfolio的一次回报率\n",
    "\n",
    "each_portfolio_return 给出每次的------实际回报率\n",
    "\n",
    "比如，依然是初始投资1000，shu占20%， niu占80%\n",
    "\n",
    "0.6 = 20%权数 * 100%roi + 80%权数 * 50%roi\n",
    "\n",
    "1000 * （1+0.6）= 1600     \n",
    "\n",
    "1600 * （1+0.367）= 2187.2 约等于手动计算的2200\n"
   ]
  },
  {
   "cell_type": "code",
   "execution_count": 16,
   "metadata": {},
   "outputs": [],
   "source": [
    "shengxiao['each_portfolio_return'] = return_each.dot(weights)"
   ]
  },
  {
   "cell_type": "code",
   "execution_count": 17,
   "metadata": {},
   "outputs": [
    {
     "data": {
      "text/html": [
       "<div>\n",
       "<style scoped>\n",
       "    .dataframe tbody tr th:only-of-type {\n",
       "        vertical-align: middle;\n",
       "    }\n",
       "\n",
       "    .dataframe tbody tr th {\n",
       "        vertical-align: top;\n",
       "    }\n",
       "\n",
       "    .dataframe thead th {\n",
       "        text-align: right;\n",
       "    }\n",
       "</style>\n",
       "<table border=\"1\" class=\"dataframe\">\n",
       "  <thead>\n",
       "    <tr style=\"text-align: right;\">\n",
       "      <th></th>\n",
       "      <th>shu</th>\n",
       "      <th>niu</th>\n",
       "      <th>each_portfolio_return</th>\n",
       "    </tr>\n",
       "  </thead>\n",
       "  <tbody>\n",
       "    <tr>\n",
       "      <th>2018</th>\n",
       "      <td>5</td>\n",
       "      <td>100</td>\n",
       "      <td>NaN</td>\n",
       "    </tr>\n",
       "    <tr>\n",
       "      <th>2019</th>\n",
       "      <td>10</td>\n",
       "      <td>150</td>\n",
       "      <td>0.600000</td>\n",
       "    </tr>\n",
       "    <tr>\n",
       "      <th>2020</th>\n",
       "      <td>15</td>\n",
       "      <td>200</td>\n",
       "      <td>0.366667</td>\n",
       "    </tr>\n",
       "  </tbody>\n",
       "</table>\n",
       "</div>"
      ],
      "text/plain": [
       "      shu  niu  each_portfolio_return\n",
       "2018    5  100                    NaN\n",
       "2019   10  150               0.600000\n",
       "2020   15  200               0.366667"
      ]
     },
     "execution_count": 17,
     "metadata": {},
     "output_type": "execute_result"
    }
   ],
   "source": [
    "shengxiao"
   ]
  },
  {
   "cell_type": "markdown",
   "metadata": {},
   "source": [
    "### cumulative 的正确用法， 感觉之前的code有一些错误"
   ]
  },
  {
   "cell_type": "code",
   "execution_count": 18,
   "metadata": {},
   "outputs": [
    {
     "data": {
      "text/html": [
       "<div>\n",
       "<style scoped>\n",
       "    .dataframe tbody tr th:only-of-type {\n",
       "        vertical-align: middle;\n",
       "    }\n",
       "\n",
       "    .dataframe tbody tr th {\n",
       "        vertical-align: top;\n",
       "    }\n",
       "\n",
       "    .dataframe thead th {\n",
       "        text-align: right;\n",
       "    }\n",
       "</style>\n",
       "<table border=\"1\" class=\"dataframe\">\n",
       "  <thead>\n",
       "    <tr style=\"text-align: right;\">\n",
       "      <th></th>\n",
       "      <th>shu</th>\n",
       "      <th>niu</th>\n",
       "      <th>each_portfolio_return</th>\n",
       "      <th>cumulative_return</th>\n",
       "    </tr>\n",
       "  </thead>\n",
       "  <tbody>\n",
       "    <tr>\n",
       "      <th>2018</th>\n",
       "      <td>5</td>\n",
       "      <td>100</td>\n",
       "      <td>NaN</td>\n",
       "      <td>NaN</td>\n",
       "    </tr>\n",
       "    <tr>\n",
       "      <th>2019</th>\n",
       "      <td>10</td>\n",
       "      <td>150</td>\n",
       "      <td>0.600000</td>\n",
       "      <td>1.600000</td>\n",
       "    </tr>\n",
       "    <tr>\n",
       "      <th>2020</th>\n",
       "      <td>15</td>\n",
       "      <td>200</td>\n",
       "      <td>0.366667</td>\n",
       "      <td>2.186667</td>\n",
       "    </tr>\n",
       "  </tbody>\n",
       "</table>\n",
       "</div>"
      ],
      "text/plain": [
       "      shu  niu  each_portfolio_return  cumulative_return\n",
       "2018    5  100                    NaN                NaN\n",
       "2019   10  150               0.600000           1.600000\n",
       "2020   15  200               0.366667           2.186667"
      ]
     },
     "execution_count": 18,
     "metadata": {},
     "output_type": "execute_result"
    }
   ],
   "source": [
    "shengxiao['cumulative_return'] = (1+shengxiao['each_portfolio_return']).cumprod()\n",
    "shengxiao"
   ]
  },
  {
   "cell_type": "code",
   "execution_count": 22,
   "metadata": {},
   "outputs": [
    {
     "data": {
      "text/plain": [
       "1.186666666666667"
      ]
     },
     "execution_count": 22,
     "metadata": {},
     "output_type": "execute_result"
    }
   ],
   "source": [
    "end_return = (1+shengxiao['each_portfolio_return']).cumprod()[-1] - 1\n",
    "end_return"
   ]
  },
  {
   "cell_type": "markdown",
   "metadata": {},
   "source": [
    "转化成年化回报率, 3年"
   ]
  },
  {
   "cell_type": "code",
   "execution_count": 26,
   "metadata": {},
   "outputs": [
    {
     "data": {
      "text/plain": [
       "0.4715630660748804"
      ]
     },
     "execution_count": 26,
     "metadata": {},
     "output_type": "execute_result"
    }
   ],
   "source": [
    "end_ann_return = ((1+shengxiao['cumulative_return'][-1])**(1/3) )-1\n",
    "end_ann_return"
   ]
  },
  {
   "cell_type": "code",
   "execution_count": 25,
   "metadata": {},
   "outputs": [
    {
     "data": {
      "text/plain": [
       "2.186666666666667"
      ]
     },
     "execution_count": 25,
     "metadata": {},
     "output_type": "execute_result"
    }
   ],
   "source": [
    "shengxiao['cumulative_return'][-1]"
   ]
  },
  {
   "cell_type": "code",
   "execution_count": null,
   "metadata": {},
   "outputs": [],
   "source": []
  },
  {
   "cell_type": "code",
   "execution_count": 57,
   "metadata": {},
   "outputs": [],
   "source": [
    "r1 = [0.047693049976702734,\n",
    " 0.04622498379079718,\n",
    " 0.0359501243453683,\n",
    " 0.020317440981537892,\n",
    " 0.057176075097929116,\n",
    " 0.19143280242128802,\n",
    " 0.04307393950077352,\n",
    " 0.05932316270221825,\n",
    " 0.14017590378165554,\n",
    " 0.15249878435097408,\n",
    " 0.08807301752569181,\n",
    " 0.020244273490107396,\n",
    " 0.09781644203495603]"
   ]
  },
  {
   "cell_type": "code",
   "execution_count": 58,
   "metadata": {},
   "outputs": [],
   "source": [
    "r2 = [0.03730506023442033,\n",
    " 0.003443821497637221,\n",
    " 0.04596146925871816,\n",
    " 0.07538516381729027,\n",
    " 0.02516007574832691,\n",
    " 0.16689490646223817,\n",
    " 0.07649890109306548,\n",
    " 0.024061104417790087,\n",
    " 0.12324767508128423,\n",
    " 0.14351286457290824,\n",
    " 0.061402988588690706,\n",
    " 0.03602490373446339,\n",
    " 0.18110106549316665]"
   ]
  },
  {
   "cell_type": "code",
   "execution_count": 61,
   "metadata": {},
   "outputs": [],
   "source": [
    "r3 = [0.061736249923856144,\n",
    " 0.020332535871040034,\n",
    " 0.021505822328386087,\n",
    " 0.08078523218742749,\n",
    " 0.008627397827318754,\n",
    " 0.16964739419151295,\n",
    " 0.09237652118978815,\n",
    " 0.14956552451222885,\n",
    " 0.07860970519169834,\n",
    " 0.17990213293743604,\n",
    " 0.037855574643010745,\n",
    " 0.03315501013648788,\n",
    " 0.06590089905980841]"
   ]
  },
  {
   "cell_type": "code",
   "execution_count": 63,
   "metadata": {},
   "outputs": [],
   "source": [
    "r4 =[0.027925292715085745,\n",
    " 0.013343878280026264,\n",
    " 0.02119749436103972,\n",
    " 0.13270517769785437,\n",
    " 0.0010907774013141302,\n",
    " 0.19501370723039396,\n",
    " 0.03709082892689144,\n",
    " 0.0010512164995387686,\n",
    " 0.21572904021307032,\n",
    " 0.10155988447850219,\n",
    " 0.06098620193740988,\n",
    " 0.003210728756116591,\n",
    " 0.1890957715027566]"
   ]
  },
  {
   "cell_type": "code",
   "execution_count": 64,
   "metadata": {},
   "outputs": [],
   "source": [
    "r5 = [0.07755033227568388,\n",
    " 0.0005224504239839764,\n",
    " 0.06858322392425512,\n",
    " 0.013808655350641363,\n",
    " 0.004314494612770854,\n",
    " 0.2033257738349047,\n",
    " 0.11268802130569665,\n",
    " 0.0040287876568744435,\n",
    " 0.019908580919928955,\n",
    " 0.1920374180010294,\n",
    " 0.16494723447861667,\n",
    " 0.008523270733795598,\n",
    " 0.1297617564818182]"
   ]
  },
  {
   "cell_type": "code",
   "execution_count": 65,
   "metadata": {},
   "outputs": [],
   "source": [
    "col=['AHT',\n",
    " 'AV',\n",
    " 'BA',\n",
    " 'GSK',\n",
    " 'HSBA',\n",
    " 'JD',\n",
    " 'NG',\n",
    " 'RDSB',\n",
    " 'RIO',\n",
    " 'SPX',\n",
    " 'TSCO',\n",
    " 'TW',\n",
    " 'ULVR']"
   ]
  },
  {
   "cell_type": "code",
   "execution_count": 66,
   "metadata": {
    "scrolled": true
   },
   "outputs": [
    {
     "data": {
      "text/plain": [
       "array([0.25220999, 0.08386767, 0.19319813, 0.32300167, 0.09636882,\n",
       "       0.92631458, 0.36172821, 0.2380298 , 0.57767091, 0.76951108,\n",
       "       0.41326502, 0.10115819, 0.66367593])"
      ]
     },
     "execution_count": 66,
     "metadata": {},
     "output_type": "execute_result"
    }
   ],
   "source": [
    "np.array(r1)+np.array(r2)+ np.array(r3)  +np.array(r4)+ np.array(r5)"
   ]
  },
  {
   "cell_type": "code",
   "execution_count": 67,
   "metadata": {},
   "outputs": [],
   "source": [
    "mean_weight = (np.array(r1)+np.array(r2)+ np.array(r3)  +np.array(r4)+ np.array(r5))/5"
   ]
  },
  {
   "cell_type": "code",
   "execution_count": 69,
   "metadata": {},
   "outputs": [
    {
     "data": {
      "text/html": [
       "<div>\n",
       "<style scoped>\n",
       "    .dataframe tbody tr th:only-of-type {\n",
       "        vertical-align: middle;\n",
       "    }\n",
       "\n",
       "    .dataframe tbody tr th {\n",
       "        vertical-align: top;\n",
       "    }\n",
       "\n",
       "    .dataframe thead th {\n",
       "        text-align: right;\n",
       "    }\n",
       "</style>\n",
       "<table border=\"1\" class=\"dataframe\">\n",
       "  <thead>\n",
       "    <tr style=\"text-align: right;\">\n",
       "      <th></th>\n",
       "      <th>index</th>\n",
       "      <th>mean_weight</th>\n",
       "    </tr>\n",
       "  </thead>\n",
       "  <tbody>\n",
       "    <tr>\n",
       "      <th>5</th>\n",
       "      <td>JD</td>\n",
       "      <td>0.185263</td>\n",
       "    </tr>\n",
       "    <tr>\n",
       "      <th>9</th>\n",
       "      <td>SPX</td>\n",
       "      <td>0.153902</td>\n",
       "    </tr>\n",
       "    <tr>\n",
       "      <th>12</th>\n",
       "      <td>ULVR</td>\n",
       "      <td>0.132735</td>\n",
       "    </tr>\n",
       "    <tr>\n",
       "      <th>8</th>\n",
       "      <td>RIO</td>\n",
       "      <td>0.115534</td>\n",
       "    </tr>\n",
       "    <tr>\n",
       "      <th>10</th>\n",
       "      <td>TSCO</td>\n",
       "      <td>0.082653</td>\n",
       "    </tr>\n",
       "    <tr>\n",
       "      <th>6</th>\n",
       "      <td>NG</td>\n",
       "      <td>0.072346</td>\n",
       "    </tr>\n",
       "    <tr>\n",
       "      <th>3</th>\n",
       "      <td>GSK</td>\n",
       "      <td>0.064600</td>\n",
       "    </tr>\n",
       "    <tr>\n",
       "      <th>0</th>\n",
       "      <td>AHT</td>\n",
       "      <td>0.050442</td>\n",
       "    </tr>\n",
       "    <tr>\n",
       "      <th>7</th>\n",
       "      <td>RDSB</td>\n",
       "      <td>0.047606</td>\n",
       "    </tr>\n",
       "    <tr>\n",
       "      <th>2</th>\n",
       "      <td>BA</td>\n",
       "      <td>0.038640</td>\n",
       "    </tr>\n",
       "    <tr>\n",
       "      <th>11</th>\n",
       "      <td>TW</td>\n",
       "      <td>0.020232</td>\n",
       "    </tr>\n",
       "    <tr>\n",
       "      <th>4</th>\n",
       "      <td>HSBA</td>\n",
       "      <td>0.019274</td>\n",
       "    </tr>\n",
       "    <tr>\n",
       "      <th>1</th>\n",
       "      <td>AV</td>\n",
       "      <td>0.016774</td>\n",
       "    </tr>\n",
       "  </tbody>\n",
       "</table>\n",
       "</div>"
      ],
      "text/plain": [
       "   index  mean_weight\n",
       "5     JD     0.185263\n",
       "9    SPX     0.153902\n",
       "12  ULVR     0.132735\n",
       "8    RIO     0.115534\n",
       "10  TSCO     0.082653\n",
       "6     NG     0.072346\n",
       "3    GSK     0.064600\n",
       "0    AHT     0.050442\n",
       "7   RDSB     0.047606\n",
       "2     BA     0.038640\n",
       "11    TW     0.020232\n",
       "4   HSBA     0.019274\n",
       "1     AV     0.016774"
      ]
     },
     "execution_count": 69,
     "metadata": {},
     "output_type": "execute_result"
    }
   ],
   "source": [
    "pd.DataFrame({'index':col, 'mean_weight':mean_weight}).sort_values(by='mean_weight', ascending=False)"
   ]
  },
  {
   "cell_type": "code",
   "execution_count": null,
   "metadata": {},
   "outputs": [],
   "source": []
  }
 ],
 "metadata": {
  "kernelspec": {
   "display_name": "Python 3",
   "language": "python",
   "name": "python3"
  },
  "language_info": {
   "codemirror_mode": {
    "name": "ipython",
    "version": 3
   },
   "file_extension": ".py",
   "mimetype": "text/x-python",
   "name": "python",
   "nbconvert_exporter": "python",
   "pygments_lexer": "ipython3",
   "version": "3.8.3"
  }
 },
 "nbformat": 4,
 "nbformat_minor": 4
}
