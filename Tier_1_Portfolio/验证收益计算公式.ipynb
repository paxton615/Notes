{
 "cells": [
  {
   "cell_type": "code",
   "execution_count": 1,
   "metadata": {},
   "outputs": [],
   "source": [
    "import pandas as pd\n",
    "import numpy as np\n",
    "import datetime as dt\n",
    "from datetime import datetime\n",
    "from datetime import date\n",
    "import matplotlib.pyplot as plt\n",
    "import re\n",
    "import requests\n",
    "pd.options.display.max_rows = 5000 \n",
    "import warnings\n",
    "warnings.filterwarnings('ignore')"
   ]
  },
  {
   "cell_type": "code",
   "execution_count": 2,
   "metadata": {},
   "outputs": [],
   "source": [
    "# shengxiao = pd.DataFrame({'shu':[5,10,15], 'niu':[100,200,300],'hu':[1,5,10]}, index=['2018', '2019', '2020'])\n",
    "# shengxiao"
   ]
  },
  {
   "cell_type": "code",
   "execution_count": 3,
   "metadata": {},
   "outputs": [
    {
     "data": {
      "text/html": [
       "<div>\n",
       "<style scoped>\n",
       "    .dataframe tbody tr th:only-of-type {\n",
       "        vertical-align: middle;\n",
       "    }\n",
       "\n",
       "    .dataframe tbody tr th {\n",
       "        vertical-align: top;\n",
       "    }\n",
       "\n",
       "    .dataframe thead th {\n",
       "        text-align: right;\n",
       "    }\n",
       "</style>\n",
       "<table border=\"1\" class=\"dataframe\">\n",
       "  <thead>\n",
       "    <tr style=\"text-align: right;\">\n",
       "      <th></th>\n",
       "      <th>shu</th>\n",
       "      <th>niu</th>\n",
       "    </tr>\n",
       "  </thead>\n",
       "  <tbody>\n",
       "    <tr>\n",
       "      <th>2018</th>\n",
       "      <td>5</td>\n",
       "      <td>100</td>\n",
       "    </tr>\n",
       "    <tr>\n",
       "      <th>2019</th>\n",
       "      <td>10</td>\n",
       "      <td>150</td>\n",
       "    </tr>\n",
       "    <tr>\n",
       "      <th>2020</th>\n",
       "      <td>15</td>\n",
       "      <td>200</td>\n",
       "    </tr>\n",
       "  </tbody>\n",
       "</table>\n",
       "</div>"
      ],
      "text/plain": [
       "      shu  niu\n",
       "2018    5  100\n",
       "2019   10  150\n",
       "2020   15  200"
      ]
     },
     "execution_count": 3,
     "metadata": {},
     "output_type": "execute_result"
    }
   ],
   "source": [
    "shengxiao = pd.DataFrame({'shu':[5,10,15], 'niu':[100,150,200]}, index=[ '2018','2019', '2020'])\n",
    "shengxiao"
   ]
  },
  {
   "cell_type": "code",
   "execution_count": 4,
   "metadata": {},
   "outputs": [],
   "source": [
    "weights = np.array([0.2, 0.8])"
   ]
  },
  {
   "cell_type": "code",
   "execution_count": 5,
   "metadata": {},
   "outputs": [
    {
     "data": {
      "text/html": [
       "<div>\n",
       "<style scoped>\n",
       "    .dataframe tbody tr th:only-of-type {\n",
       "        vertical-align: middle;\n",
       "    }\n",
       "\n",
       "    .dataframe tbody tr th {\n",
       "        vertical-align: top;\n",
       "    }\n",
       "\n",
       "    .dataframe thead th {\n",
       "        text-align: right;\n",
       "    }\n",
       "</style>\n",
       "<table border=\"1\" class=\"dataframe\">\n",
       "  <thead>\n",
       "    <tr style=\"text-align: right;\">\n",
       "      <th></th>\n",
       "      <th>shu</th>\n",
       "      <th>niu</th>\n",
       "    </tr>\n",
       "  </thead>\n",
       "  <tbody>\n",
       "    <tr>\n",
       "      <th>2018</th>\n",
       "      <td>NaN</td>\n",
       "      <td>NaN</td>\n",
       "    </tr>\n",
       "    <tr>\n",
       "      <th>2019</th>\n",
       "      <td>1.0</td>\n",
       "      <td>0.500000</td>\n",
       "    </tr>\n",
       "    <tr>\n",
       "      <th>2020</th>\n",
       "      <td>0.5</td>\n",
       "      <td>0.333333</td>\n",
       "    </tr>\n",
       "  </tbody>\n",
       "</table>\n",
       "</div>"
      ],
      "text/plain": [
       "      shu       niu\n",
       "2018  NaN       NaN\n",
       "2019  1.0  0.500000\n",
       "2020  0.5  0.333333"
      ]
     },
     "execution_count": 5,
     "metadata": {},
     "output_type": "execute_result"
    }
   ],
   "source": [
    "return_each = shengxiao.pct_change()\n",
    "return_each"
   ]
  },
  {
   "cell_type": "code",
   "execution_count": 6,
   "metadata": {},
   "outputs": [
    {
     "data": {
      "text/plain": [
       "shu    0.750000\n",
       "niu    0.416667\n",
       "dtype: float64"
      ]
     },
     "execution_count": 6,
     "metadata": {},
     "output_type": "execute_result"
    }
   ],
   "source": [
    "return_each_mean = return_each.mean() \n",
    "return_each_mean # "
   ]
  },
  {
   "cell_type": "markdown",
   "metadata": {},
   "source": [
    "### 以列为计算方向，感觉每次都会出现一点最终结果上的偏差\n",
    "\n",
    "allocated_return是平均每次的-----平均回报率\n",
    "\n",
    "比如，初始投资1000，shu占20%， niu占80%，\n",
    "\n",
    "1000 * 1.483 = 1483\n",
    "\n",
    "1483 * 1.483 = 2199 约等于手动计算的2200"
   ]
  },
  {
   "cell_type": "code",
   "execution_count": 7,
   "metadata": {
    "scrolled": true
   },
   "outputs": [
    {
     "data": {
      "text/plain": [
       "0.48333333333333334"
      ]
     },
     "execution_count": 7,
     "metadata": {},
     "output_type": "execute_result"
    }
   ],
   "source": [
    "allocated_return = np.sum(weights * return_each_mean)\n",
    "allocated_return"
   ]
  },
  {
   "cell_type": "code",
   "execution_count": null,
   "metadata": {},
   "outputs": [],
   "source": []
  },
  {
   "cell_type": "code",
   "execution_count": null,
   "metadata": {},
   "outputs": [],
   "source": []
  },
  {
   "cell_type": "code",
   "execution_count": null,
   "metadata": {},
   "outputs": [],
   "source": []
  },
  {
   "cell_type": "markdown",
   "metadata": {},
   "source": [
    "### 以行为计算单位，计算结果比较准确，但每次算的都是整个portfolio的一次回报率\n",
    "\n",
    "each_portfolio_return 给出每次的------实际回报率\n",
    "\n",
    "比如，依然是初始投资1000，shu占20%， niu占80%\n",
    "\n",
    "0.6 = 20%权数 * 100%roi + 80%权数 * 50%roi\n",
    "\n",
    "1000 * （1+0.6）= 1600     \n",
    "\n",
    "1600 * （1+0.367）= 2187.2 约等于手动计算的2200\n"
   ]
  },
  {
   "cell_type": "code",
   "execution_count": 8,
   "metadata": {},
   "outputs": [],
   "source": [
    "shengxiao['each_portfolio_return'] = return_each.dot(weights)"
   ]
  },
  {
   "cell_type": "code",
   "execution_count": 9,
   "metadata": {},
   "outputs": [
    {
     "data": {
      "text/html": [
       "<div>\n",
       "<style scoped>\n",
       "    .dataframe tbody tr th:only-of-type {\n",
       "        vertical-align: middle;\n",
       "    }\n",
       "\n",
       "    .dataframe tbody tr th {\n",
       "        vertical-align: top;\n",
       "    }\n",
       "\n",
       "    .dataframe thead th {\n",
       "        text-align: right;\n",
       "    }\n",
       "</style>\n",
       "<table border=\"1\" class=\"dataframe\">\n",
       "  <thead>\n",
       "    <tr style=\"text-align: right;\">\n",
       "      <th></th>\n",
       "      <th>shu</th>\n",
       "      <th>niu</th>\n",
       "      <th>each_portfolio_return</th>\n",
       "    </tr>\n",
       "  </thead>\n",
       "  <tbody>\n",
       "    <tr>\n",
       "      <th>2018</th>\n",
       "      <td>5</td>\n",
       "      <td>100</td>\n",
       "      <td>NaN</td>\n",
       "    </tr>\n",
       "    <tr>\n",
       "      <th>2019</th>\n",
       "      <td>10</td>\n",
       "      <td>150</td>\n",
       "      <td>0.600000</td>\n",
       "    </tr>\n",
       "    <tr>\n",
       "      <th>2020</th>\n",
       "      <td>15</td>\n",
       "      <td>200</td>\n",
       "      <td>0.366667</td>\n",
       "    </tr>\n",
       "  </tbody>\n",
       "</table>\n",
       "</div>"
      ],
      "text/plain": [
       "      shu  niu  each_portfolio_return\n",
       "2018    5  100                    NaN\n",
       "2019   10  150               0.600000\n",
       "2020   15  200               0.366667"
      ]
     },
     "execution_count": 9,
     "metadata": {},
     "output_type": "execute_result"
    }
   ],
   "source": [
    "shengxiao"
   ]
  },
  {
   "cell_type": "markdown",
   "metadata": {},
   "source": [
    "### cumulative 的正确用法， 感觉之前的code有一些错误"
   ]
  },
  {
   "cell_type": "code",
   "execution_count": 10,
   "metadata": {},
   "outputs": [
    {
     "data": {
      "text/html": [
       "<div>\n",
       "<style scoped>\n",
       "    .dataframe tbody tr th:only-of-type {\n",
       "        vertical-align: middle;\n",
       "    }\n",
       "\n",
       "    .dataframe tbody tr th {\n",
       "        vertical-align: top;\n",
       "    }\n",
       "\n",
       "    .dataframe thead th {\n",
       "        text-align: right;\n",
       "    }\n",
       "</style>\n",
       "<table border=\"1\" class=\"dataframe\">\n",
       "  <thead>\n",
       "    <tr style=\"text-align: right;\">\n",
       "      <th></th>\n",
       "      <th>shu</th>\n",
       "      <th>niu</th>\n",
       "      <th>each_portfolio_return</th>\n",
       "      <th>cumulative_return</th>\n",
       "    </tr>\n",
       "  </thead>\n",
       "  <tbody>\n",
       "    <tr>\n",
       "      <th>2018</th>\n",
       "      <td>5</td>\n",
       "      <td>100</td>\n",
       "      <td>NaN</td>\n",
       "      <td>NaN</td>\n",
       "    </tr>\n",
       "    <tr>\n",
       "      <th>2019</th>\n",
       "      <td>10</td>\n",
       "      <td>150</td>\n",
       "      <td>0.600000</td>\n",
       "      <td>1.600000</td>\n",
       "    </tr>\n",
       "    <tr>\n",
       "      <th>2020</th>\n",
       "      <td>15</td>\n",
       "      <td>200</td>\n",
       "      <td>0.366667</td>\n",
       "      <td>2.186667</td>\n",
       "    </tr>\n",
       "  </tbody>\n",
       "</table>\n",
       "</div>"
      ],
      "text/plain": [
       "      shu  niu  each_portfolio_return  cumulative_return\n",
       "2018    5  100                    NaN                NaN\n",
       "2019   10  150               0.600000           1.600000\n",
       "2020   15  200               0.366667           2.186667"
      ]
     },
     "execution_count": 10,
     "metadata": {},
     "output_type": "execute_result"
    }
   ],
   "source": [
    "shengxiao['cumulative_return'] = (1+shengxiao['each_portfolio_return']).cumprod()\n",
    "shengxiao"
   ]
  },
  {
   "cell_type": "code",
   "execution_count": 11,
   "metadata": {},
   "outputs": [
    {
     "data": {
      "text/plain": [
       "1.186666666666667"
      ]
     },
     "execution_count": 11,
     "metadata": {},
     "output_type": "execute_result"
    }
   ],
   "source": [
    "end_return = (1+shengxiao['each_portfolio_return']).cumprod()[-1] - 1\n",
    "end_return"
   ]
  },
  {
   "cell_type": "markdown",
   "metadata": {},
   "source": [
    "转化成年化回报率, 3年"
   ]
  },
  {
   "cell_type": "code",
   "execution_count": 12,
   "metadata": {},
   "outputs": [
    {
     "data": {
      "text/plain": [
       "0.4715630660748804"
      ]
     },
     "execution_count": 12,
     "metadata": {},
     "output_type": "execute_result"
    }
   ],
   "source": [
    "end_ann_return = ((1+shengxiao['cumulative_return'][-1])**(1/3) )-1\n",
    "end_ann_return"
   ]
  },
  {
   "cell_type": "code",
   "execution_count": 13,
   "metadata": {},
   "outputs": [
    {
     "data": {
      "text/plain": [
       "2.186666666666667"
      ]
     },
     "execution_count": 13,
     "metadata": {},
     "output_type": "execute_result"
    }
   ],
   "source": [
    "shengxiao['cumulative_return'][-1]"
   ]
  },
  {
   "cell_type": "markdown",
   "metadata": {},
   "source": [
    "### 取了5次优化的weights来求平均值，看看排名前列的股票有哪些"
   ]
  },
  {
   "cell_type": "code",
   "execution_count": 14,
   "metadata": {},
   "outputs": [],
   "source": [
    "r1 = [0.047693049976702734,\n",
    " 0.04622498379079718,\n",
    " 0.0359501243453683,\n",
    " 0.020317440981537892,\n",
    " 0.057176075097929116,\n",
    " 0.19143280242128802,\n",
    " 0.04307393950077352,\n",
    " 0.05932316270221825,\n",
    " 0.14017590378165554,\n",
    " 0.15249878435097408,\n",
    " 0.08807301752569181,\n",
    " 0.020244273490107396,\n",
    " 0.09781644203495603]"
   ]
  },
  {
   "cell_type": "code",
   "execution_count": 15,
   "metadata": {},
   "outputs": [],
   "source": [
    "r2 = [0.03730506023442033,\n",
    " 0.003443821497637221,\n",
    " 0.04596146925871816,\n",
    " 0.07538516381729027,\n",
    " 0.02516007574832691,\n",
    " 0.16689490646223817,\n",
    " 0.07649890109306548,\n",
    " 0.024061104417790087,\n",
    " 0.12324767508128423,\n",
    " 0.14351286457290824,\n",
    " 0.061402988588690706,\n",
    " 0.03602490373446339,\n",
    " 0.18110106549316665]"
   ]
  },
  {
   "cell_type": "code",
   "execution_count": 16,
   "metadata": {},
   "outputs": [],
   "source": [
    "r3 = [0.061736249923856144,\n",
    " 0.020332535871040034,\n",
    " 0.021505822328386087,\n",
    " 0.08078523218742749,\n",
    " 0.008627397827318754,\n",
    " 0.16964739419151295,\n",
    " 0.09237652118978815,\n",
    " 0.14956552451222885,\n",
    " 0.07860970519169834,\n",
    " 0.17990213293743604,\n",
    " 0.037855574643010745,\n",
    " 0.03315501013648788,\n",
    " 0.06590089905980841]"
   ]
  },
  {
   "cell_type": "code",
   "execution_count": 17,
   "metadata": {},
   "outputs": [],
   "source": [
    "r4 =[0.027925292715085745,\n",
    " 0.013343878280026264,\n",
    " 0.02119749436103972,\n",
    " 0.13270517769785437,\n",
    " 0.0010907774013141302,\n",
    " 0.19501370723039396,\n",
    " 0.03709082892689144,\n",
    " 0.0010512164995387686,\n",
    " 0.21572904021307032,\n",
    " 0.10155988447850219,\n",
    " 0.06098620193740988,\n",
    " 0.003210728756116591,\n",
    " 0.1890957715027566]"
   ]
  },
  {
   "cell_type": "code",
   "execution_count": 18,
   "metadata": {},
   "outputs": [],
   "source": [
    "r5 = [0.07755033227568388,\n",
    " 0.0005224504239839764,\n",
    " 0.06858322392425512,\n",
    " 0.013808655350641363,\n",
    " 0.004314494612770854,\n",
    " 0.2033257738349047,\n",
    " 0.11268802130569665,\n",
    " 0.0040287876568744435,\n",
    " 0.019908580919928955,\n",
    " 0.1920374180010294,\n",
    " 0.16494723447861667,\n",
    " 0.008523270733795598,\n",
    " 0.1297617564818182]"
   ]
  },
  {
   "cell_type": "code",
   "execution_count": 19,
   "metadata": {},
   "outputs": [],
   "source": [
    "r6 = [0.0016535222084008878,\n",
    " 0.044352096030560464,\n",
    " 0.12825703560582852,\n",
    " 0.024308141513684944,\n",
    " 0.002960836814454336,\n",
    " 0.22048871722382132,\n",
    " 0.0130191781412193,\n",
    " 0.13253591065432188,\n",
    " 0.12956531282030445,\n",
    " 0.16664684394243298,\n",
    " 0.04018339962386781,\n",
    " 0.011615089135299959,\n",
    " 0.08441391628580325]"
   ]
  },
  {
   "cell_type": "code",
   "execution_count": 20,
   "metadata": {},
   "outputs": [],
   "source": [
    "r7 = [0.045547757544635394,\n",
    " 0.0029679771331054413,\n",
    " 0.07675623644255479,\n",
    " 0.004294149385324217,\n",
    " 0.07705437214207375,\n",
    " 0.1959565781558757,\n",
    " 0.09740124117163411,\n",
    " 0.061993144135290966,\n",
    " 0.14298179306862793,\n",
    " 0.20987229680984817,\n",
    " 0.038885209638169105,\n",
    " 0.021943192923795964,\n",
    " 0.024346051449064404]"
   ]
  },
  {
   "cell_type": "code",
   "execution_count": 21,
   "metadata": {},
   "outputs": [],
   "source": [
    "r8 = [0.04079672348437446,\n",
    " 0.01924164260596969,\n",
    " 0.030835748114077556,\n",
    " 0.11600173913449038,\n",
    " 0.04970493895028219,\n",
    " 0.16947455083573507,\n",
    " 0.05790093133061046,\n",
    " 0.024666538434264283,\n",
    " 0.1807419028586476,\n",
    " 0.18435129313523796,\n",
    " 0.010593384535536493,\n",
    " 0.0002499242459559666,\n",
    " 0.11544068233481804]"
   ]
  },
  {
   "cell_type": "code",
   "execution_count": 22,
   "metadata": {},
   "outputs": [],
   "source": [
    "r9 = [0.09480383301306562,\n",
    " 0.014192142902575025,\n",
    " 0.006534585844648531,\n",
    " 0.14254233985306533,\n",
    " 0.01472106352898499,\n",
    " 0.22336027601744401,\n",
    " 0.19942476894994823,\n",
    " 0.0010314257771487751,\n",
    " 0.099191078856511,\n",
    " 0.06897693389279982,\n",
    " 0.01588864743129225,\n",
    " 0.0016360490735543992,\n",
    " 0.1176968548589619]"
   ]
  },
  {
   "cell_type": "code",
   "execution_count": 23,
   "metadata": {},
   "outputs": [],
   "source": [
    "col=['AHT',\n",
    " 'AV',\n",
    " 'BA',\n",
    " 'GSK',\n",
    " 'HSBA',\n",
    " 'JD',\n",
    " 'NG',\n",
    " 'RDSB',\n",
    " 'RIO',\n",
    " 'SPX',\n",
    " 'TSCO',\n",
    " 'TW',\n",
    " 'ULVR']"
   ]
  },
  {
   "cell_type": "code",
   "execution_count": 29,
   "metadata": {},
   "outputs": [],
   "source": [
    "r10 = [0.04822614554102497,\n",
    " 0.01151674654445576,\n",
    " 0.06590352330666555,\n",
    " 0.1424275566925055,\n",
    " 0.013967511263615796,\n",
    " 0.16349196085376433,\n",
    " 0.10776150854749506,\n",
    " 0.011139229884371405,\n",
    " 0.11971715739402242,\n",
    " 0.2175253733150724,\n",
    " 0.015049328803317328,\n",
    " 0.008163783194376717,\n",
    " 0.07511017465931277]"
   ]
  },
  {
   "cell_type": "code",
   "execution_count": 30,
   "metadata": {
    "scrolled": true
   },
   "outputs": [],
   "source": [
    "weights_sum = np.array(r1)+np.array(r2)+ np.array(r3)  +np.array(r4)+ np.array(r5) + np.array(r6) + np.array(r7) + np.array(r8) + np.array(r9)+ np.array(r10) "
   ]
  },
  {
   "cell_type": "code",
   "execution_count": 31,
   "metadata": {},
   "outputs": [],
   "source": [
    "mean_weight = (weights_sum)/10"
   ]
  },
  {
   "cell_type": "code",
   "execution_count": 32,
   "metadata": {},
   "outputs": [
    {
     "data": {
      "text/plain": [
       "array([0.0483238 , 0.01761383, 0.05014853, 0.07525756, 0.02547775,\n",
       "       0.18990867, 0.08372358, 0.0469396 , 0.12498682, 0.16168838,\n",
       "       0.0533865 , 0.01447662, 0.10806836])"
      ]
     },
     "execution_count": 32,
     "metadata": {},
     "output_type": "execute_result"
    }
   ],
   "source": [
    "mean_weight"
   ]
  },
  {
   "cell_type": "code",
   "execution_count": 33,
   "metadata": {
    "scrolled": false
   },
   "outputs": [
    {
     "data": {
      "text/html": [
       "<div>\n",
       "<style scoped>\n",
       "    .dataframe tbody tr th:only-of-type {\n",
       "        vertical-align: middle;\n",
       "    }\n",
       "\n",
       "    .dataframe tbody tr th {\n",
       "        vertical-align: top;\n",
       "    }\n",
       "\n",
       "    .dataframe thead th {\n",
       "        text-align: right;\n",
       "    }\n",
       "</style>\n",
       "<table border=\"1\" class=\"dataframe\">\n",
       "  <thead>\n",
       "    <tr style=\"text-align: right;\">\n",
       "      <th></th>\n",
       "      <th>index</th>\n",
       "      <th>mean_weight</th>\n",
       "    </tr>\n",
       "  </thead>\n",
       "  <tbody>\n",
       "    <tr>\n",
       "      <th>5</th>\n",
       "      <td>JD</td>\n",
       "      <td>0.189909</td>\n",
       "    </tr>\n",
       "    <tr>\n",
       "      <th>9</th>\n",
       "      <td>SPX</td>\n",
       "      <td>0.161688</td>\n",
       "    </tr>\n",
       "    <tr>\n",
       "      <th>8</th>\n",
       "      <td>RIO</td>\n",
       "      <td>0.124987</td>\n",
       "    </tr>\n",
       "    <tr>\n",
       "      <th>12</th>\n",
       "      <td>ULVR</td>\n",
       "      <td>0.108068</td>\n",
       "    </tr>\n",
       "    <tr>\n",
       "      <th>6</th>\n",
       "      <td>NG</td>\n",
       "      <td>0.083724</td>\n",
       "    </tr>\n",
       "    <tr>\n",
       "      <th>3</th>\n",
       "      <td>GSK</td>\n",
       "      <td>0.075258</td>\n",
       "    </tr>\n",
       "    <tr>\n",
       "      <th>10</th>\n",
       "      <td>TSCO</td>\n",
       "      <td>0.053386</td>\n",
       "    </tr>\n",
       "    <tr>\n",
       "      <th>2</th>\n",
       "      <td>BA</td>\n",
       "      <td>0.050149</td>\n",
       "    </tr>\n",
       "    <tr>\n",
       "      <th>0</th>\n",
       "      <td>AHT</td>\n",
       "      <td>0.048324</td>\n",
       "    </tr>\n",
       "    <tr>\n",
       "      <th>7</th>\n",
       "      <td>RDSB</td>\n",
       "      <td>0.046940</td>\n",
       "    </tr>\n",
       "    <tr>\n",
       "      <th>4</th>\n",
       "      <td>HSBA</td>\n",
       "      <td>0.025478</td>\n",
       "    </tr>\n",
       "    <tr>\n",
       "      <th>1</th>\n",
       "      <td>AV</td>\n",
       "      <td>0.017614</td>\n",
       "    </tr>\n",
       "    <tr>\n",
       "      <th>11</th>\n",
       "      <td>TW</td>\n",
       "      <td>0.014477</td>\n",
       "    </tr>\n",
       "  </tbody>\n",
       "</table>\n",
       "</div>"
      ],
      "text/plain": [
       "   index  mean_weight\n",
       "5     JD     0.189909\n",
       "9    SPX     0.161688\n",
       "8    RIO     0.124987\n",
       "12  ULVR     0.108068\n",
       "6     NG     0.083724\n",
       "3    GSK     0.075258\n",
       "10  TSCO     0.053386\n",
       "2     BA     0.050149\n",
       "0    AHT     0.048324\n",
       "7   RDSB     0.046940\n",
       "4   HSBA     0.025478\n",
       "1     AV     0.017614\n",
       "11    TW     0.014477"
      ]
     },
     "execution_count": 33,
     "metadata": {},
     "output_type": "execute_result"
    }
   ],
   "source": [
    "pd.DataFrame({'index':col, 'mean_weight':mean_weight}).sort_values(by='mean_weight', ascending=False)"
   ]
  },
  {
   "cell_type": "code",
   "execution_count": null,
   "metadata": {},
   "outputs": [],
   "source": []
  },
  {
   "cell_type": "code",
   "execution_count": null,
   "metadata": {},
   "outputs": [],
   "source": []
  }
 ],
 "metadata": {
  "kernelspec": {
   "display_name": "Python 3",
   "language": "python",
   "name": "python3"
  },
  "language_info": {
   "codemirror_mode": {
    "name": "ipython",
    "version": 3
   },
   "file_extension": ".py",
   "mimetype": "text/x-python",
   "name": "python",
   "nbconvert_exporter": "python",
   "pygments_lexer": "ipython3",
   "version": "3.8.3"
  }
 },
 "nbformat": 4,
 "nbformat_minor": 4
}
