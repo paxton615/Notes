{
 "cells": [
  {
   "cell_type": "markdown",
   "metadata": {},
   "source": [
    "#### 流程\n",
    "1.获取数据集\\\n",
    "2.EDA，特征选择，划分数据集\\\n",
    "3.特征工程，无量纲化--标准化\\\n",
    "4.预估器流程\\\n",
    "   fit( ) —>模型\\\n",
    "   coef_ , intercept_\\\n",
    "5.模型评估，调优"
   ]
  },
  {
   "cell_type": "code",
   "execution_count": 66,
   "metadata": {},
   "outputs": [],
   "source": [
    "from sklearn.datasets import load_boston\n",
    "import pandas as pd\n",
    "import numpy as np\n",
    "from sklearn.model_selection import train_test_split\n",
    "from sklearn.preprocessing import StandardScaler\n",
    "from sklearn.linear_model import LinearRegression, SGDRegressor,Ridge\n",
    "from sklearn.metrics import mean_squared_error\n",
    "import warnings"
   ]
  },
  {
   "cell_type": "code",
   "execution_count": 4,
   "metadata": {},
   "outputs": [],
   "source": [
    "boston = load_boston()"
   ]
  },
  {
   "cell_type": "code",
   "execution_count": 30,
   "metadata": {},
   "outputs": [],
   "source": [
    "#pd.DataFrame(boston.data, columns = boston.feature_names, index=range(1,507))"
   ]
  },
  {
   "cell_type": "markdown",
   "metadata": {},
   "source": [
    "### 一般线性回归"
   ]
  },
  {
   "cell_type": "code",
   "execution_count": 50,
   "metadata": {},
   "outputs": [
    {
     "name": "stdout",
     "output_type": "stream",
     "text": [
      "coefficients: \n",
      " [-0.98  1.25  0.46  0.85 -1.93  2.45  0.   -2.84  2.74 -2.25 -2.09  0.7\n",
      " -4.02]\n",
      "intercept: \n",
      " 22.4\n",
      "y_pred: \n",
      " [20. 37. 21. 20. 37. 28. 18. 17. 20. 33. 25. 19. 28. 22. 18. 22. 32. 21.\n",
      " 35. 20. 17. 29. 24. 20. 37. 28.]\n",
      "mse: \n",
      " 18.114721086676184\n"
     ]
    }
   ],
   "source": [
    "x_train, x_test, y_train, y_test = train_test_split(boston.data, boston.target, random_state=17)\n",
    "\n",
    "transfer = StandardScaler()\n",
    "x_train = transfer.fit_transform(x_train)\n",
    "x_test = transfer.transform(x_test)\n",
    "\n",
    "estimator = LinearRegression()\n",
    "\n",
    "estimator.fit(x_train, y_train)\n",
    "\n",
    "y_pred = estimator.predict(x_test)\n",
    "error = mean_squared_error(y_test, y_pred)\n",
    "\n",
    "print('coefficients: \\n', np.round(estimator.coef_,2))\n",
    "print('intercept: \\n', np.round(estimator.intercept_,2))\n",
    "print('y_pred: \\n', np.round(y_pred[::-5]))\n",
    "print('mse: \\n', error)\n"
   ]
  },
  {
   "cell_type": "markdown",
   "metadata": {},
   "source": [
    "### 梯度下降SGD_original"
   ]
  },
  {
   "cell_type": "code",
   "execution_count": 49,
   "metadata": {},
   "outputs": [
    {
     "name": "stdout",
     "output_type": "stream",
     "text": [
      "coefficients: \n",
      " [-0.9   1.15  0.2   0.92 -1.75  2.47 -0.02 -2.8   2.06 -1.44 -2.02  0.69\n",
      " -4.  ]\n",
      "intercept: \n",
      " [22.41]\n",
      "y_predSGD: \n",
      " [20. 37. 20. 20. 37. 27. 18. 17. 20. 33. 25. 19. 28. 22. 17. 22. 32. 21.\n",
      " 34. 20. 18. 28. 24. 20. 37. 28.]\n",
      "mse: \n",
      " 18.114721086676184\n"
     ]
    }
   ],
   "source": [
    "x_train, x_test, y_train, y_test = train_test_split(boston.data, boston.target, random_state=17)\n",
    "\n",
    "transfer = StandardScaler()\n",
    "x_train = transfer.fit_transform(x_train)\n",
    "x_test = transfer.transform(x_test)\n",
    "\n",
    "estimatorSGD = SGDRegressor()\n",
    "\n",
    "estimatorSGD.fit(x_train, y_train)\n",
    "\n",
    "y_predSGD = estimatorSGD.predict(x_test)\n",
    "errorSGD = mean_squared_error(y_test, y_pred)\n",
    "\n",
    "print('coefficients: \\n', np.round(estimatorSGD.coef_,2))\n",
    "print('intercept: \\n', np.round(estimatorSGD.intercept_,2))\n",
    "print('y_predSGD: \\n', np.round(y_predSGD[::-5]))\n",
    "print('mse: \\n', errorSGD)"
   ]
  },
  {
   "cell_type": "markdown",
   "metadata": {},
   "source": [
    "### 梯度下降SGD_参数调试"
   ]
  },
  {
   "cell_type": "code",
   "execution_count": 65,
   "metadata": {},
   "outputs": [
    {
     "name": "stdout",
     "output_type": "stream",
     "text": [
      "coefficients: \n",
      " [-0.84  1.07  0.05  0.92 -1.57  2.53 -0.1  -2.6   1.66 -1.07 -1.97  0.7\n",
      " -3.96]\n",
      "intercept: \n",
      " [22.39]\n",
      "y_predSGD: \n",
      " [20. 36. 19. 19. 37. 27. 19. 17. 20. 33. 25. 19. 28. 22. 17. 21. 32. 21.\n",
      " 34. 21. 18. 28. 24. 20. 36. 28.]\n",
      "mse: \n",
      " 18.252793617097293\n"
     ]
    }
   ],
   "source": [
    "x_train, x_test, y_train, y_test = train_test_split(boston.data, boston.target, random_state=17)\n",
    "\n",
    "transfer = StandardScaler()\n",
    "x_train = transfer.fit_transform(x_train)\n",
    "x_test = transfer.transform(x_test)\n",
    "\n",
    "estimatorSGD = SGDRegressor(learning_rate='constant',eta0=0.001, max_iter=10000)\n",
    "# learning_rate: tried 'constant' and 'invscaling'\n",
    "# eta0: tried 0.01, 0.001, 0.0001, \n",
    "estimatorSGD.fit(x_train, y_train)\n",
    "\n",
    "y_predSGD = estimatorSGD.predict(x_test)\n",
    "errorSGD = mean_squared_error(y_test, y_predSGD)\n",
    "\n",
    "print('coefficients: \\n', np.round(estimatorSGD.coef_,2))\n",
    "print('intercept: \\n', np.round(estimatorSGD.intercept_,2))\n",
    "print('y_predSGD: \\n', np.round(y_predSGD[::-5]))\n",
    "print('mse: \\n', errorSGD)"
   ]
  },
  {
   "cell_type": "markdown",
   "metadata": {},
   "source": [
    "最好用gridsearch做调参的工作，人工的效率太低"
   ]
  },
  {
   "cell_type": "markdown",
   "metadata": {},
   "source": [
    "## SGD参数默认penalty='l2', 即Ridge， 如改成'l1'，就是Lasso"
   ]
  },
  {
   "cell_type": "markdown",
   "metadata": {},
   "source": [
    "## Ridge"
   ]
  },
  {
   "cell_type": "code",
   "execution_count": 69,
   "metadata": {},
   "outputs": [
    {
     "name": "stdout",
     "output_type": "stream",
     "text": [
      "coefficients: \n",
      " [-0.97  1.24  0.44  0.86 -1.91  2.46 -0.   -2.82  2.69 -2.2  -2.08  0.7\n",
      " -4.01]\n",
      "intercept: \n",
      " 22.4\n",
      "y_predRidge: \n",
      " [20. 37. 21. 20. 37. 28. 18. 17. 20. 33. 25. 19. 28. 22. 18. 22. 32. 21.\n",
      " 35. 20. 17. 29. 24. 20. 37. 28.]\n",
      "mse: \n",
      " 18.114745590619272\n"
     ]
    }
   ],
   "source": [
    "x_train, x_test, y_train, y_test = train_test_split(boston.data, boston.target, random_state=17)\n",
    "\n",
    "transfer = StandardScaler()\n",
    "x_train = transfer.fit_transform(x_train)\n",
    "x_test = transfer.transform(x_test)\n",
    "\n",
    "estimatorRidge = Ridge(max_iter=10000, alpha=0.5)\n",
    "\n",
    "estimatorRidge.fit(x_train, y_train)\n",
    "\n",
    "y_predRidge = estimatorRidge.predict(x_test)\n",
    "errorRidge = mean_squared_error(y_test, y_predRidge)\n",
    "\n",
    "print('coefficients: \\n', np.round(estimatorRidge.coef_,2))\n",
    "print('intercept: \\n', np.round(estimatorRidge.intercept_,2))\n",
    "print('y_predRidge: \\n', np.round(y_predRidge[::-5]))\n",
    "print('mse: \\n', errorRidge)"
   ]
  },
  {
   "cell_type": "markdown",
   "metadata": {},
   "source": [
    "Gridsearch later..."
   ]
  },
  {
   "cell_type": "code",
   "execution_count": null,
   "metadata": {},
   "outputs": [],
   "source": []
  }
 ],
 "metadata": {
  "kernelspec": {
   "display_name": "Python 3",
   "language": "python",
   "name": "python3"
  },
  "language_info": {
   "codemirror_mode": {
    "name": "ipython",
    "version": 3
   },
   "file_extension": ".py",
   "mimetype": "text/x-python",
   "name": "python",
   "nbconvert_exporter": "python",
   "pygments_lexer": "ipython3",
   "version": "3.7.4"
  }
 },
 "nbformat": 4,
 "nbformat_minor": 4
}
