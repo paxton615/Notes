{
 "cells": [
  {
   "cell_type": "code",
   "execution_count": 1,
   "metadata": {},
   "outputs": [],
   "source": [
    "import pandas as pd\n",
    "import numpy as np\n",
    "import patsy\n",
    "\n",
    "from sklearn.linear_model import LinearRegression, Ridge, RidgeCV, Lasso, LassoCV, ElasticNet, ElasticNetCV\n",
    "from sklearn.model_selection import cross_validate, cross_val_score, cross_val_predict\n",
    "from sklearn.metrics import r2_score\n",
    "from sklearn.preprocessing import StandardScaler\n",
    "\n",
    "import matplotlib\n",
    "import matplotlib.pyplot as plt\n",
    "import seaborn as sns\n",
    "import warnings"
   ]
  },
  {
   "cell_type": "code",
   "execution_count": 2,
   "metadata": {},
   "outputs": [],
   "source": [
    "kobe = pd.read_csv('/Users/paxton615/GA/resource-datasets/kobe_bryant/kobe_superwide_games.csv')\n",
    "df = kobe.copy()"
   ]
  },
  {
   "cell_type": "code",
   "execution_count": 3,
   "metadata": {},
   "outputs": [
    {
     "data": {
      "text/plain": [
       "(1558, 645)"
      ]
     },
     "execution_count": 3,
     "metadata": {},
     "output_type": "execute_result"
    }
   ],
   "source": [
    "kobe.shape"
   ]
  },
  {
   "cell_type": "code",
   "execution_count": 4,
   "metadata": {},
   "outputs": [
    {
     "data": {
      "text/plain": [
       "Index(['SHOTS_MADE', 'AWAY_GAME', 'SEASON_OPPONENT:atl:1996-97',\n",
       "       'SEASON_OPPONENT:atl:1997-98', 'SEASON_OPPONENT:atl:1999-00',\n",
       "       'SEASON_OPPONENT:atl:2000-01', 'SEASON_OPPONENT:atl:2001-02',\n",
       "       'SEASON_OPPONENT:atl:2002-03', 'SEASON_OPPONENT:atl:2003-04',\n",
       "       'SEASON_OPPONENT:atl:2004-05',\n",
       "       ...\n",
       "       'ACTION_TYPE:tip_layup_shot', 'ACTION_TYPE:tip_shot',\n",
       "       'ACTION_TYPE:turnaround_bank_shot',\n",
       "       'ACTION_TYPE:turnaround_fadeaway_bank_jump_shot',\n",
       "       'ACTION_TYPE:turnaround_fadeaway_shot',\n",
       "       'ACTION_TYPE:turnaround_finger_roll_shot',\n",
       "       'ACTION_TYPE:turnaround_hook_shot', 'ACTION_TYPE:turnaround_jump_shot',\n",
       "       'SEASON_GAME_NUMBER', 'CAREER_GAME_NUMBER'],\n",
       "      dtype='object', length=645)"
      ]
     },
     "execution_count": 4,
     "metadata": {},
     "output_type": "execute_result"
    }
   ],
   "source": [
    "kobe.columns"
   ]
  },
  {
   "cell_type": "code",
   "execution_count": 5,
   "metadata": {},
   "outputs": [
    {
     "data": {
      "text/html": [
       "<div>\n",
       "<style scoped>\n",
       "    .dataframe tbody tr th:only-of-type {\n",
       "        vertical-align: middle;\n",
       "    }\n",
       "\n",
       "    .dataframe tbody tr th {\n",
       "        vertical-align: top;\n",
       "    }\n",
       "\n",
       "    .dataframe thead th {\n",
       "        text-align: right;\n",
       "    }\n",
       "</style>\n",
       "<table border=\"1\" class=\"dataframe\">\n",
       "  <thead>\n",
       "    <tr style=\"text-align: right;\">\n",
       "      <th></th>\n",
       "      <th>count</th>\n",
       "      <th>mean</th>\n",
       "      <th>std</th>\n",
       "      <th>min</th>\n",
       "      <th>25%</th>\n",
       "      <th>50%</th>\n",
       "      <th>75%</th>\n",
       "      <th>max</th>\n",
       "    </tr>\n",
       "  </thead>\n",
       "  <tbody>\n",
       "    <tr>\n",
       "      <th>SHOTS_MADE</th>\n",
       "      <td>1558.0</td>\n",
       "      <td>7.358793</td>\n",
       "      <td>3.471180</td>\n",
       "      <td>0.0</td>\n",
       "      <td>5.00</td>\n",
       "      <td>7.0</td>\n",
       "      <td>10.000000</td>\n",
       "      <td>22.000000</td>\n",
       "    </tr>\n",
       "    <tr>\n",
       "      <th>AWAY_GAME</th>\n",
       "      <td>1558.0</td>\n",
       "      <td>0.500642</td>\n",
       "      <td>0.500160</td>\n",
       "      <td>0.0</td>\n",
       "      <td>0.00</td>\n",
       "      <td>1.0</td>\n",
       "      <td>1.000000</td>\n",
       "      <td>1.000000</td>\n",
       "    </tr>\n",
       "    <tr>\n",
       "      <th>SEASON_OPPONENT:atl:1996-97</th>\n",
       "      <td>1558.0</td>\n",
       "      <td>0.001284</td>\n",
       "      <td>0.035817</td>\n",
       "      <td>0.0</td>\n",
       "      <td>0.00</td>\n",
       "      <td>0.0</td>\n",
       "      <td>0.000000</td>\n",
       "      <td>1.000000</td>\n",
       "    </tr>\n",
       "    <tr>\n",
       "      <th>SEASON_OPPONENT:atl:1997-98</th>\n",
       "      <td>1558.0</td>\n",
       "      <td>0.001284</td>\n",
       "      <td>0.035817</td>\n",
       "      <td>0.0</td>\n",
       "      <td>0.00</td>\n",
       "      <td>0.0</td>\n",
       "      <td>0.000000</td>\n",
       "      <td>1.000000</td>\n",
       "    </tr>\n",
       "    <tr>\n",
       "      <th>SEASON_OPPONENT:atl:1999-00</th>\n",
       "      <td>1558.0</td>\n",
       "      <td>0.000642</td>\n",
       "      <td>0.025335</td>\n",
       "      <td>0.0</td>\n",
       "      <td>0.00</td>\n",
       "      <td>0.0</td>\n",
       "      <td>0.000000</td>\n",
       "      <td>1.000000</td>\n",
       "    </tr>\n",
       "    <tr>\n",
       "      <th>...</th>\n",
       "      <td>...</td>\n",
       "      <td>...</td>\n",
       "      <td>...</td>\n",
       "      <td>...</td>\n",
       "      <td>...</td>\n",
       "      <td>...</td>\n",
       "      <td>...</td>\n",
       "      <td>...</td>\n",
       "    </tr>\n",
       "    <tr>\n",
       "      <th>ACTION_TYPE:turnaround_finger_roll_shot</th>\n",
       "      <td>1558.0</td>\n",
       "      <td>0.000050</td>\n",
       "      <td>0.001390</td>\n",
       "      <td>0.0</td>\n",
       "      <td>0.00</td>\n",
       "      <td>0.0</td>\n",
       "      <td>0.000000</td>\n",
       "      <td>0.041667</td>\n",
       "    </tr>\n",
       "    <tr>\n",
       "      <th>ACTION_TYPE:turnaround_hook_shot</th>\n",
       "      <td>1558.0</td>\n",
       "      <td>0.000433</td>\n",
       "      <td>0.004902</td>\n",
       "      <td>0.0</td>\n",
       "      <td>0.00</td>\n",
       "      <td>0.0</td>\n",
       "      <td>0.000000</td>\n",
       "      <td>0.111111</td>\n",
       "    </tr>\n",
       "    <tr>\n",
       "      <th>ACTION_TYPE:turnaround_jump_shot</th>\n",
       "      <td>1558.0</td>\n",
       "      <td>0.031766</td>\n",
       "      <td>0.049402</td>\n",
       "      <td>0.0</td>\n",
       "      <td>0.00</td>\n",
       "      <td>0.0</td>\n",
       "      <td>0.052632</td>\n",
       "      <td>0.352941</td>\n",
       "    </tr>\n",
       "    <tr>\n",
       "      <th>SEASON_GAME_NUMBER</th>\n",
       "      <td>1558.0</td>\n",
       "      <td>42.946727</td>\n",
       "      <td>26.048206</td>\n",
       "      <td>1.0</td>\n",
       "      <td>21.00</td>\n",
       "      <td>42.0</td>\n",
       "      <td>63.000000</td>\n",
       "      <td>105.000000</td>\n",
       "    </tr>\n",
       "    <tr>\n",
       "      <th>CAREER_GAME_NUMBER</th>\n",
       "      <td>1558.0</td>\n",
       "      <td>780.486521</td>\n",
       "      <td>449.923227</td>\n",
       "      <td>1.0</td>\n",
       "      <td>391.25</td>\n",
       "      <td>780.5</td>\n",
       "      <td>1169.750000</td>\n",
       "      <td>1559.000000</td>\n",
       "    </tr>\n",
       "  </tbody>\n",
       "</table>\n",
       "<p>645 rows × 8 columns</p>\n",
       "</div>"
      ],
      "text/plain": [
       "                                          count        mean         std  min  \\\n",
       "SHOTS_MADE                               1558.0    7.358793    3.471180  0.0   \n",
       "AWAY_GAME                                1558.0    0.500642    0.500160  0.0   \n",
       "SEASON_OPPONENT:atl:1996-97              1558.0    0.001284    0.035817  0.0   \n",
       "SEASON_OPPONENT:atl:1997-98              1558.0    0.001284    0.035817  0.0   \n",
       "SEASON_OPPONENT:atl:1999-00              1558.0    0.000642    0.025335  0.0   \n",
       "...                                         ...         ...         ...  ...   \n",
       "ACTION_TYPE:turnaround_finger_roll_shot  1558.0    0.000050    0.001390  0.0   \n",
       "ACTION_TYPE:turnaround_hook_shot         1558.0    0.000433    0.004902  0.0   \n",
       "ACTION_TYPE:turnaround_jump_shot         1558.0    0.031766    0.049402  0.0   \n",
       "SEASON_GAME_NUMBER                       1558.0   42.946727   26.048206  1.0   \n",
       "CAREER_GAME_NUMBER                       1558.0  780.486521  449.923227  1.0   \n",
       "\n",
       "                                            25%    50%          75%  \\\n",
       "SHOTS_MADE                                 5.00    7.0    10.000000   \n",
       "AWAY_GAME                                  0.00    1.0     1.000000   \n",
       "SEASON_OPPONENT:atl:1996-97                0.00    0.0     0.000000   \n",
       "SEASON_OPPONENT:atl:1997-98                0.00    0.0     0.000000   \n",
       "SEASON_OPPONENT:atl:1999-00                0.00    0.0     0.000000   \n",
       "...                                         ...    ...          ...   \n",
       "ACTION_TYPE:turnaround_finger_roll_shot    0.00    0.0     0.000000   \n",
       "ACTION_TYPE:turnaround_hook_shot           0.00    0.0     0.000000   \n",
       "ACTION_TYPE:turnaround_jump_shot           0.00    0.0     0.052632   \n",
       "SEASON_GAME_NUMBER                        21.00   42.0    63.000000   \n",
       "CAREER_GAME_NUMBER                       391.25  780.5  1169.750000   \n",
       "\n",
       "                                                 max  \n",
       "SHOTS_MADE                                 22.000000  \n",
       "AWAY_GAME                                   1.000000  \n",
       "SEASON_OPPONENT:atl:1996-97                 1.000000  \n",
       "SEASON_OPPONENT:atl:1997-98                 1.000000  \n",
       "SEASON_OPPONENT:atl:1999-00                 1.000000  \n",
       "...                                              ...  \n",
       "ACTION_TYPE:turnaround_finger_roll_shot     0.041667  \n",
       "ACTION_TYPE:turnaround_hook_shot            0.111111  \n",
       "ACTION_TYPE:turnaround_jump_shot            0.352941  \n",
       "SEASON_GAME_NUMBER                        105.000000  \n",
       "CAREER_GAME_NUMBER                       1559.000000  \n",
       "\n",
       "[645 rows x 8 columns]"
      ]
     },
     "execution_count": 5,
     "metadata": {},
     "output_type": "execute_result"
    }
   ],
   "source": [
    "kobe.describe().T"
   ]
  },
  {
   "cell_type": "markdown",
   "metadata": {},
   "source": [
    "- The columns are various statistics for each game. \n",
    "- There is a column SHOTS_MADE that will be our target variable for prediction\n",
    "- This is good for regularization because there are so many columns (feature selection) and many of the columns represent similar things (multicollinearity)"
   ]
  },
  {
   "cell_type": "markdown",
   "metadata": {},
   "source": [
    "#### make predictors and target variables. Standardize the predictors."
   ]
  },
  {
   "cell_type": "code",
   "execution_count": 6,
   "metadata": {},
   "outputs": [],
   "source": [
    "y = kobe['SHOTS_MADE']\n",
    "X = kobe.iloc[:,1:] #包前不包后"
   ]
  },
  {
   "cell_type": "code",
   "execution_count": 7,
   "metadata": {},
   "outputs": [
    {
     "name": "stdout",
     "output_type": "stream",
     "text": [
      "Mean: 2.166996997490319e-18 Std: 1.0\n"
     ]
    }
   ],
   "source": [
    "scaler = StandardScaler()\n",
    "Xs = scaler.fit_transform(X)\n",
    "print('Mean:', Xs.mean(), 'Std:', Xs.std()) #依次检验scaler时候工作良好"
   ]
  },
  {
   "cell_type": "markdown",
   "metadata": {},
   "source": [
    "##### SLR model"
   ]
  },
  {
   "cell_type": "code",
   "execution_count": 8,
   "metadata": {},
   "outputs": [
    {
     "data": {
      "text/plain": [
       "LinearRegression()"
      ]
     },
     "execution_count": 8,
     "metadata": {},
     "output_type": "execute_result"
    }
   ],
   "source": [
    "lr = LinearRegression()\n",
    "lr.fit(Xs, y)"
   ]
  },
  {
   "cell_type": "code",
   "execution_count": 9,
   "metadata": {},
   "outputs": [
    {
     "name": "stdout",
     "output_type": "stream",
     "text": [
      "7.360340622289268 [-1.51346980e-01 -3.07592285e+12  2.15723268e+11 -3.43957193e+12\n",
      " -1.02512161e+12  2.33524229e+12  1.69528345e+12  6.59243828e+11\n",
      " -4.84182866e+12 -2.78953002e+12  3.18939893e+11  3.70986277e+12\n",
      "  1.54846776e+12 -4.04561219e+12 -5.80059422e+12 -8.20666497e+11\n",
      "  4.86155175e+12 -1.25370422e+13  3.34899651e+12 -3.47743448e+12]\n"
     ]
    }
   ],
   "source": [
    "print(lr.intercept_, lr.coef_[:20])"
   ]
  },
  {
   "cell_type": "markdown",
   "metadata": {},
   "source": [
    "##### cross_val"
   ]
  },
  {
   "cell_type": "code",
   "execution_count": 10,
   "metadata": {},
   "outputs": [
    {
     "name": "stdout",
     "output_type": "stream",
     "text": [
      "[-6.90282552e+28 -2.65458764e+28 -1.16402737e+28 -1.62255769e+28\n",
      " -1.77318843e+28]\n",
      "-2.823437329833872e+28\n"
     ]
    }
   ],
   "source": [
    "linear = LinearRegression()\n",
    "lin_scores = cross_val_score(linear, Xs, y, cv=5) #cv=5\n",
    "print(lin_scores)\n",
    "print(np.mean(lin_scores))"
   ]
  },
  {
   "cell_type": "code",
   "execution_count": 11,
   "metadata": {},
   "outputs": [
    {
     "name": "stdout",
     "output_type": "stream",
     "text": [
      "[-1.37331756e+29 -3.95516708e+27 -1.45305051e+28 -8.77477765e+27\n",
      " -2.74642208e+28 -3.31272689e+27 -4.17323855e+27 -5.04419267e+27\n",
      " -7.47214789e+27 -6.05918480e+28]\n",
      "-2.7265058108827903e+28\n"
     ]
    }
   ],
   "source": [
    "linear = LinearRegression()\n",
    "lin_scores = cross_val_score(linear, Xs, y, cv=10) #cv=10\n",
    "print(lin_scores)\n",
    "print(np.mean(lin_scores))"
   ]
  },
  {
   "cell_type": "markdown",
   "metadata": {},
   "source": [
    "#### Find the optimal alpha for Ridge"
   ]
  },
  {
   "cell_type": "markdown",
   "metadata": {},
   "source": [
    "首先定义alph搜索的范围"
   ]
  },
  {
   "cell_type": "code",
   "execution_count": 17,
   "metadata": {},
   "outputs": [
    {
     "name": "stdout",
     "output_type": "stream",
     "text": [
      "775.2597488629465\n"
     ]
    }
   ],
   "source": [
    "ridge_alpha = np.logspace(0,5,200)\n",
    "\n",
    "optimal_ridge = RidgeCV(alphas=ridge_alpha, cv=10)\n",
    "optimal_ridge.fit(Xs, y)\n",
    "\n",
    "print(optimal_ridge.alpha_)"
   ]
  },
  {
   "cell_type": "code",
   "execution_count": 29,
   "metadata": {},
   "outputs": [
    {
     "name": "stdout",
     "output_type": "stream",
     "text": [
      "[0.5822626  0.52880462 0.4869004  0.59583817 0.52396335 0.52942952\n",
      " 0.52842192 0.41153448 0.39857643 0.44489752]\n",
      "0.5030628996817678\n"
     ]
    }
   ],
   "source": [
    "ridge_best = Ridge(alpha=775.25974886)\n",
    "ridge_cv_score = cross_val_score(ridge_best, Xs, y, cv=10)\n",
    "print(ridge_cv_score)\n",
    "print(np.mean(ridge_cv_score)) #cv结果和下方lasso比，略低"
   ]
  },
  {
   "cell_type": "code",
   "execution_count": 18,
   "metadata": {},
   "outputs": [
    {
     "data": {
      "text/plain": [
       "0.7798565133622948"
      ]
     },
     "execution_count": 18,
     "metadata": {},
     "output_type": "execute_result"
    }
   ],
   "source": [
    "optimal_ridge.score(Xs,y) # 效果比SLR好太多太多了！！！！！"
   ]
  },
  {
   "cell_type": "code",
   "execution_count": 19,
   "metadata": {},
   "outputs": [
    {
     "data": {
      "text/plain": [
       "(644,)"
      ]
     },
     "execution_count": 19,
     "metadata": {},
     "output_type": "execute_result"
    }
   ],
   "source": [
    "optimal_ridge.coef_.shape"
   ]
  },
  {
   "cell_type": "code",
   "execution_count": 20,
   "metadata": {},
   "outputs": [
    {
     "data": {
      "text/plain": [
       "(644,)"
      ]
     },
     "execution_count": 20,
     "metadata": {},
     "output_type": "execute_result"
    }
   ],
   "source": [
    "lr.coef_.shape"
   ]
  },
  {
   "cell_type": "markdown",
   "metadata": {},
   "source": [
    "### It's vastly better than the Linear Regression. There is likely so much multicollinearity in the data that \"vanilla\" regression overfits and has bogus coefficients on predictors. Ridge is able to manage the multicollinearity and get a good out-of-sample result."
   ]
  },
  {
   "cell_type": "code",
   "execution_count": 23,
   "metadata": {},
   "outputs": [],
   "source": [
    "# keep try with different models "
   ]
  },
  {
   "cell_type": "markdown",
   "metadata": {},
   "source": [
    "### Lasso, unlike Ridge, performs best searching for alpha through linear space (np.linspace). However, you can actually let the LassoCV decide itself what alphas to use by instead setting the keyword argument n_alphas= to however many alphas you want it to search over. It is recommended to let sklearn choose the range of alphas."
   ]
  },
  {
   "cell_type": "code",
   "execution_count": 24,
   "metadata": {},
   "outputs": [
    {
     "name": "stderr",
     "output_type": "stream",
     "text": [
      "[Parallel(n_jobs=1)]: Using backend SequentialBackend with 1 concurrent workers.\n",
      "....................................................................................................................................................................................................................................................................................................................................................................................................................................................................................................................................................................................................................................................................................................................................................................................................................................................................................................................................................................................................................................................................................................................................................................................................................................................................................................................................................................................................................................................................................................................................................................................................................................................................................................................................................................................................................................................................................................................................................................................................................................................................................................................................................................................................................................................................................................................................................................................................................................................................................................................................................................................................[Parallel(n_jobs=1)]: Done   5 out of   5 | elapsed:    8.1s finished\n"
     ]
    },
    {
     "name": "stdout",
     "output_type": "stream",
     "text": [
      "0.05751220543165791\n"
     ]
    }
   ],
   "source": [
    "optimal_lasso = LassoCV(n_alphas=500, cv=5, verbose=1) #cv=5\n",
    "optimal_lasso.fit(Xs,y)\n",
    "\n",
    "print(optimal_lasso.alpha_)"
   ]
  },
  {
   "cell_type": "code",
   "execution_count": 25,
   "metadata": {
    "scrolled": false
   },
   "outputs": [
    {
     "name": "stderr",
     "output_type": "stream",
     "text": [
      "[Parallel(n_jobs=1)]: Using backend SequentialBackend with 1 concurrent workers.\n",
      "........................................................................................................................................................................................................................................................................................................................................................................................................................................................................................................................................................................................................................................................................................................................................................................................................................................................................................................................................................................................................................................................................................................................................................................................................................................................................................................................................................................................................................................................................................................................................................................................................................................................................................................................................................................................................................................................................................................................................................................................................................................................................................................................................................................................................................................................................................................................................................................................................................................................................................................................................................................................................................................................................................................................................................................................................................................................................................................................................................................................................................................................................................................................................................................................................................................................................................................................................................................................................................................................................................................................................................................................................................................................................................................................................................................................................................................................................................................................................................................................................................................................................................................................................................................................................................................................................................................................................................................................................................................................................................................................................................................................................................................................................................................................................................................................................................................................................................................................................................................................................................................................................................................................................................................................................[Parallel(n_jobs=1)]: Done  10 out of  10 | elapsed:   16.3s finished\n"
     ]
    },
    {
     "name": "stdout",
     "output_type": "stream",
     "text": [
      "0.06790539979326354\n"
     ]
    }
   ],
   "source": [
    "optimal_lasso = LassoCV(n_alphas=500, cv=10, verbose=1) #cv=10\n",
    "optimal_lasso.fit(Xs,y)\n",
    "\n",
    "print(optimal_lasso.alpha_)"
   ]
  },
  {
   "cell_type": "code",
   "execution_count": 26,
   "metadata": {},
   "outputs": [
    {
     "name": "stdout",
     "output_type": "stream",
     "text": [
      "0.7108538015695378\n"
     ]
    }
   ],
   "source": [
    "print(optimal_lasso.score(Xs, y))"
   ]
  },
  {
   "cell_type": "markdown",
   "metadata": {},
   "source": [
    "#### cross-validate the lasso R2 with optiomal alpha"
   ]
  },
  {
   "cell_type": "code",
   "execution_count": 27,
   "metadata": {},
   "outputs": [
    {
     "name": "stdout",
     "output_type": "stream",
     "text": [
      "[0.61603625 0.52641159 0.53888743 0.61322432 0.54627539 0.5554072\n",
      " 0.52716822 0.44849563 0.4646267  0.51838952]\n",
      "0.5354922262084527\n"
     ]
    }
   ],
   "source": [
    "lasso = Lasso(alpha = optimal_lasso.alpha_)\n",
    "\n",
    "lasso_cv_scores = cross_val_score(lasso, Xs, y, cv=10)\n",
    "\n",
    "print(lasso_cv_scores)\n",
    "print(np.mean(lasso_cv_scores)) #cv score和上面ridge比，略高"
   ]
  },
  {
   "cell_type": "markdown",
   "metadata": {},
   "source": [
    "### 虽然cv score上lasso要略高，但最终模型结果是ridge更高。我分析应该是没有分train test 的原因"
   ]
  },
  {
   "cell_type": "code",
   "execution_count": 30,
   "metadata": {},
   "outputs": [
    {
     "name": "stdout",
     "output_type": "stream",
     "text": [
      "0.7798565133622948\n",
      "0.7108538015695378\n"
     ]
    }
   ],
   "source": [
    "print(optimal_ridge.score(Xs, y))  \n",
    "print(optimal_lasso.score(Xs, y))\n"
   ]
  },
  {
   "cell_type": "markdown",
   "metadata": {},
   "source": [
    "#### Look at the coefficients for variables in the Lasso"
   ]
  },
  {
   "cell_type": "markdown",
   "metadata": {},
   "source": [
    "1. Show the coefficient for variables, ordered from largest to smallest coefficient by absolute value.\n",
    "2. What percent of the variables in the original dataset are \"zeroed-out\" by the lasso?\n",
    "3. What are the most important predictors for how many shots Kobe made in a game?\n",
    "\n",
    "> **Note:** if you only fit the Lasso within `cross_val_score`, you will have to refit it outside of that\n",
    "function to pull out the coefficients."
   ]
  },
  {
   "cell_type": "code",
   "execution_count": 32,
   "metadata": {},
   "outputs": [
    {
     "data": {
      "text/plain": [
       "Lasso(alpha=0.06790539979326354)"
      ]
     },
     "execution_count": 32,
     "metadata": {},
     "output_type": "execute_result"
    }
   ],
   "source": [
    "lasso.fit(Xs, y)"
   ]
  },
  {
   "cell_type": "code",
   "execution_count": 37,
   "metadata": {},
   "outputs": [],
   "source": [
    "lasso_coefs = pd.DataFrame({'variable':X.columns,\n",
    "                            'coef':lasso.coef_,\n",
    "                            'abs_coef':np.abs(lasso.coef_)})"
   ]
  },
  {
   "cell_type": "code",
   "execution_count": 38,
   "metadata": {},
   "outputs": [],
   "source": [
    "lasso_coefs.sort_values('abs_coef', inplace=True, ascending=False)"
   ]
  },
  {
   "cell_type": "code",
   "execution_count": 39,
   "metadata": {},
   "outputs": [
    {
     "data": {
      "text/html": [
       "<div>\n",
       "<style scoped>\n",
       "    .dataframe tbody tr th:only-of-type {\n",
       "        vertical-align: middle;\n",
       "    }\n",
       "\n",
       "    .dataframe tbody tr th {\n",
       "        vertical-align: top;\n",
       "    }\n",
       "\n",
       "    .dataframe thead th {\n",
       "        text-align: right;\n",
       "    }\n",
       "</style>\n",
       "<table border=\"1\" class=\"dataframe\">\n",
       "  <thead>\n",
       "    <tr style=\"text-align: right;\">\n",
       "      <th></th>\n",
       "      <th>variable</th>\n",
       "      <th>coef</th>\n",
       "      <th>abs_coef</th>\n",
       "    </tr>\n",
       "  </thead>\n",
       "  <tbody>\n",
       "    <tr>\n",
       "      <th>579</th>\n",
       "      <td>COMBINED_SHOT_TYPE:jump_shot</td>\n",
       "      <td>1.233880</td>\n",
       "      <td>1.233880</td>\n",
       "    </tr>\n",
       "    <tr>\n",
       "      <th>574</th>\n",
       "      <td>SHOT_TYPE:2pt_field_goal</td>\n",
       "      <td>0.866201</td>\n",
       "      <td>0.866201</td>\n",
       "    </tr>\n",
       "    <tr>\n",
       "      <th>566</th>\n",
       "      <td>SHOT_ZONE_BASIC:restricted_area</td>\n",
       "      <td>0.453050</td>\n",
       "      <td>0.453050</td>\n",
       "    </tr>\n",
       "    <tr>\n",
       "      <th>577</th>\n",
       "      <td>COMBINED_SHOT_TYPE:dunk</td>\n",
       "      <td>0.274926</td>\n",
       "      <td>0.274926</td>\n",
       "    </tr>\n",
       "    <tr>\n",
       "      <th>611</th>\n",
       "      <td>ACTION_TYPE:jump_shot</td>\n",
       "      <td>-0.272130</td>\n",
       "      <td>0.272130</td>\n",
       "    </tr>\n",
       "    <tr>\n",
       "      <th>...</th>\n",
       "      <td>...</td>\n",
       "      <td>...</td>\n",
       "      <td>...</td>\n",
       "    </tr>\n",
       "    <tr>\n",
       "      <th>270</th>\n",
       "      <td>SEASON_OPPONENT:mil:2009-10</td>\n",
       "      <td>-0.000000</td>\n",
       "      <td>0.000000</td>\n",
       "    </tr>\n",
       "    <tr>\n",
       "      <th>269</th>\n",
       "      <td>SEASON_OPPONENT:mil:2008-09</td>\n",
       "      <td>0.000000</td>\n",
       "      <td>0.000000</td>\n",
       "    </tr>\n",
       "    <tr>\n",
       "      <th>268</th>\n",
       "      <td>SEASON_OPPONENT:mil:2007-08</td>\n",
       "      <td>-0.000000</td>\n",
       "      <td>0.000000</td>\n",
       "    </tr>\n",
       "    <tr>\n",
       "      <th>267</th>\n",
       "      <td>SEASON_OPPONENT:mil:2006-07</td>\n",
       "      <td>-0.000000</td>\n",
       "      <td>0.000000</td>\n",
       "    </tr>\n",
       "    <tr>\n",
       "      <th>643</th>\n",
       "      <td>CAREER_GAME_NUMBER</td>\n",
       "      <td>0.000000</td>\n",
       "      <td>0.000000</td>\n",
       "    </tr>\n",
       "  </tbody>\n",
       "</table>\n",
       "<p>644 rows × 3 columns</p>\n",
       "</div>"
      ],
      "text/plain": [
       "                            variable      coef  abs_coef\n",
       "579     COMBINED_SHOT_TYPE:jump_shot  1.233880  1.233880\n",
       "574         SHOT_TYPE:2pt_field_goal  0.866201  0.866201\n",
       "566  SHOT_ZONE_BASIC:restricted_area  0.453050  0.453050\n",
       "577          COMBINED_SHOT_TYPE:dunk  0.274926  0.274926\n",
       "611            ACTION_TYPE:jump_shot -0.272130  0.272130\n",
       "..                               ...       ...       ...\n",
       "270      SEASON_OPPONENT:mil:2009-10 -0.000000  0.000000\n",
       "269      SEASON_OPPONENT:mil:2008-09  0.000000  0.000000\n",
       "268      SEASON_OPPONENT:mil:2007-08 -0.000000  0.000000\n",
       "267      SEASON_OPPONENT:mil:2006-07 -0.000000  0.000000\n",
       "643               CAREER_GAME_NUMBER  0.000000  0.000000\n",
       "\n",
       "[644 rows x 3 columns]"
      ]
     },
     "execution_count": 39,
     "metadata": {},
     "output_type": "execute_result"
    }
   ],
   "source": [
    "lasso_coefs"
   ]
  },
  {
   "cell_type": "code",
   "execution_count": 40,
   "metadata": {},
   "outputs": [
    {
     "name": "stdout",
     "output_type": "stream",
     "text": [
      "508\n"
     ]
    }
   ],
   "source": [
    "count = 0\n",
    "for i in lasso_coefs.abs_coef:\n",
    "    if i == 0:\n",
    "        count +=1\n",
    "print(count)"
   ]
  },
  {
   "cell_type": "code",
   "execution_count": 41,
   "metadata": {},
   "outputs": [
    {
     "data": {
      "text/plain": [
       "0.7888198757763976"
      ]
     },
     "execution_count": 41,
     "metadata": {},
     "output_type": "execute_result"
    }
   ],
   "source": [
    "508/644"
   ]
  },
  {
   "cell_type": "code",
   "execution_count": 44,
   "metadata": {},
   "outputs": [
    {
     "data": {
      "image/png": "[encoded data removed]",
      "text/plain": [
       "<Figure size 720x864 with 1 Axes>"
      ]
     },
     "metadata": {
      "needs_background": "light"
     },
     "output_type": "display_data"
    }
   ],
   "source": [
    "fig, ax = plt.subplots(figsize=(10,12))\n",
    "lasso_coefs.coef[:30].plot(kind='barh', ax=ax, alpha=0.5)\n",
    "ax.set_yticklabels(lasso_coefs.variable[:30].values)\n",
    "plt.show()"
   ]
  },
  {
   "cell_type": "code",
   "execution_count": null,
   "metadata": {},
   "outputs": [],
   "source": [
    "# to be continued"
   ]
  },
  {
   "cell_type": "code",
   "execution_count": null,
   "metadata": {},
   "outputs": [],
   "source": [
    "# new things online"
   ]
  },
  {
   "cell_type": "code",
   "execution_count": null,
   "metadata": {},
   "outputs": [],
   "source": []
  }
 ],
 "metadata": {
  "kernelspec": {
   "display_name": "Python 3",
   "language": "python",
   "name": "python3"
  },
  "language_info": {
   "codemirror_mode": {
    "name": "ipython",
    "version": 3
   },
   "file_extension": ".py",
   "mimetype": "text/x-python",
   "name": "python",
   "nbconvert_exporter": "python",
   "pygments_lexer": "ipython3",
   "version": "3.8.3"
  }
 },
 "nbformat": 4,
 "nbformat_minor": 4
}
