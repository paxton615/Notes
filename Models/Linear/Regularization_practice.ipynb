{
 "cells": [
  {
   "cell_type": "code",
   "execution_count": 2,
   "metadata": {},
   "outputs": [],
   "source": [
    "import pandas as pd\n",
    "import numpy as np\n",
    "import patsy\n",
    "\n",
    "from sklearn.linear_model import LinearRegression, Ridge, RidgeCV, Lasso, LassoCV, ElasticNet, ElasticNetCV\n",
    "from sklearn.model_selection import cross_validate, cross_val_score, cross_val_predict\n",
    "from sklearn.metrics import r2_score\n",
    "\n",
    "import matplotlib\n",
    "import matplotlib.pyplot as plt\n",
    "import seaborn as sns\n",
    "import warnings"
   ]
  },
  {
   "cell_type": "code",
   "execution_count": 11,
   "metadata": {},
   "outputs": [],
   "source": [
    "kobe = pd.read_csv('/Users/paxton615/GA/resource-datasets/kobe_bryant/kobe_superwide_games.csv')"
   ]
  },
  {
   "cell_type": "code",
   "execution_count": 17,
   "metadata": {},
   "outputs": [
    {
     "data": {
      "text/plain": [
       "(1558, 645)"
      ]
     },
     "execution_count": 17,
     "metadata": {},
     "output_type": "execute_result"
    }
   ],
   "source": [
    "kobe.shape"
   ]
  },
  {
   "cell_type": "code",
   "execution_count": 13,
   "metadata": {},
   "outputs": [
    {
     "data": {
      "text/plain": [
       "Index(['SHOTS_MADE', 'AWAY_GAME', 'SEASON_OPPONENT:atl:1996-97',\n",
       "       'SEASON_OPPONENT:atl:1997-98', 'SEASON_OPPONENT:atl:1999-00',\n",
       "       'SEASON_OPPONENT:atl:2000-01', 'SEASON_OPPONENT:atl:2001-02',\n",
       "       'SEASON_OPPONENT:atl:2002-03', 'SEASON_OPPONENT:atl:2003-04',\n",
       "       'SEASON_OPPONENT:atl:2004-05',\n",
       "       ...\n",
       "       'ACTION_TYPE:tip_layup_shot', 'ACTION_TYPE:tip_shot',\n",
       "       'ACTION_TYPE:turnaround_bank_shot',\n",
       "       'ACTION_TYPE:turnaround_fadeaway_bank_jump_shot',\n",
       "       'ACTION_TYPE:turnaround_fadeaway_shot',\n",
       "       'ACTION_TYPE:turnaround_finger_roll_shot',\n",
       "       'ACTION_TYPE:turnaround_hook_shot', 'ACTION_TYPE:turnaround_jump_shot',\n",
       "       'SEASON_GAME_NUMBER', 'CAREER_GAME_NUMBER'],\n",
       "      dtype='object', length=645)"
      ]
     },
     "execution_count": 13,
     "metadata": {},
     "output_type": "execute_result"
    }
   ],
   "source": [
    "kobe.columns"
   ]
  },
  {
   "cell_type": "code",
   "execution_count": 16,
   "metadata": {},
   "outputs": [
    {
     "data": {
      "text/html": [
       "<div>\n",
       "<style scoped>\n",
       "    .dataframe tbody tr th:only-of-type {\n",
       "        vertical-align: middle;\n",
       "    }\n",
       "\n",
       "    .dataframe tbody tr th {\n",
       "        vertical-align: top;\n",
       "    }\n",
       "\n",
       "    .dataframe thead th {\n",
       "        text-align: right;\n",
       "    }\n",
       "</style>\n",
       "<table border=\"1\" class=\"dataframe\">\n",
       "  <thead>\n",
       "    <tr style=\"text-align: right;\">\n",
       "      <th></th>\n",
       "      <th>count</th>\n",
       "      <th>mean</th>\n",
       "      <th>std</th>\n",
       "      <th>min</th>\n",
       "      <th>25%</th>\n",
       "      <th>50%</th>\n",
       "      <th>75%</th>\n",
       "      <th>max</th>\n",
       "    </tr>\n",
       "  </thead>\n",
       "  <tbody>\n",
       "    <tr>\n",
       "      <th>SHOTS_MADE</th>\n",
       "      <td>1558.0</td>\n",
       "      <td>7.358793</td>\n",
       "      <td>3.471180</td>\n",
       "      <td>0.0</td>\n",
       "      <td>5.00</td>\n",
       "      <td>7.0</td>\n",
       "      <td>10.000000</td>\n",
       "      <td>22.000000</td>\n",
       "    </tr>\n",
       "    <tr>\n",
       "      <th>AWAY_GAME</th>\n",
       "      <td>1558.0</td>\n",
       "      <td>0.500642</td>\n",
       "      <td>0.500160</td>\n",
       "      <td>0.0</td>\n",
       "      <td>0.00</td>\n",
       "      <td>1.0</td>\n",
       "      <td>1.000000</td>\n",
       "      <td>1.000000</td>\n",
       "    </tr>\n",
       "    <tr>\n",
       "      <th>SEASON_OPPONENT:atl:1996-97</th>\n",
       "      <td>1558.0</td>\n",
       "      <td>0.001284</td>\n",
       "      <td>0.035817</td>\n",
       "      <td>0.0</td>\n",
       "      <td>0.00</td>\n",
       "      <td>0.0</td>\n",
       "      <td>0.000000</td>\n",
       "      <td>1.000000</td>\n",
       "    </tr>\n",
       "    <tr>\n",
       "      <th>SEASON_OPPONENT:atl:1997-98</th>\n",
       "      <td>1558.0</td>\n",
       "      <td>0.001284</td>\n",
       "      <td>0.035817</td>\n",
       "      <td>0.0</td>\n",
       "      <td>0.00</td>\n",
       "      <td>0.0</td>\n",
       "      <td>0.000000</td>\n",
       "      <td>1.000000</td>\n",
       "    </tr>\n",
       "    <tr>\n",
       "      <th>SEASON_OPPONENT:atl:1999-00</th>\n",
       "      <td>1558.0</td>\n",
       "      <td>0.000642</td>\n",
       "      <td>0.025335</td>\n",
       "      <td>0.0</td>\n",
       "      <td>0.00</td>\n",
       "      <td>0.0</td>\n",
       "      <td>0.000000</td>\n",
       "      <td>1.000000</td>\n",
       "    </tr>\n",
       "    <tr>\n",
       "      <th>...</th>\n",
       "      <td>...</td>\n",
       "      <td>...</td>\n",
       "      <td>...</td>\n",
       "      <td>...</td>\n",
       "      <td>...</td>\n",
       "      <td>...</td>\n",
       "      <td>...</td>\n",
       "      <td>...</td>\n",
       "    </tr>\n",
       "    <tr>\n",
       "      <th>ACTION_TYPE:turnaround_finger_roll_shot</th>\n",
       "      <td>1558.0</td>\n",
       "      <td>0.000050</td>\n",
       "      <td>0.001390</td>\n",
       "      <td>0.0</td>\n",
       "      <td>0.00</td>\n",
       "      <td>0.0</td>\n",
       "      <td>0.000000</td>\n",
       "      <td>0.041667</td>\n",
       "    </tr>\n",
       "    <tr>\n",
       "      <th>ACTION_TYPE:turnaround_hook_shot</th>\n",
       "      <td>1558.0</td>\n",
       "      <td>0.000433</td>\n",
       "      <td>0.004902</td>\n",
       "      <td>0.0</td>\n",
       "      <td>0.00</td>\n",
       "      <td>0.0</td>\n",
       "      <td>0.000000</td>\n",
       "      <td>0.111111</td>\n",
       "    </tr>\n",
       "    <tr>\n",
       "      <th>ACTION_TYPE:turnaround_jump_shot</th>\n",
       "      <td>1558.0</td>\n",
       "      <td>0.031766</td>\n",
       "      <td>0.049402</td>\n",
       "      <td>0.0</td>\n",
       "      <td>0.00</td>\n",
       "      <td>0.0</td>\n",
       "      <td>0.052632</td>\n",
       "      <td>0.352941</td>\n",
       "    </tr>\n",
       "    <tr>\n",
       "      <th>SEASON_GAME_NUMBER</th>\n",
       "      <td>1558.0</td>\n",
       "      <td>42.946727</td>\n",
       "      <td>26.048206</td>\n",
       "      <td>1.0</td>\n",
       "      <td>21.00</td>\n",
       "      <td>42.0</td>\n",
       "      <td>63.000000</td>\n",
       "      <td>105.000000</td>\n",
       "    </tr>\n",
       "    <tr>\n",
       "      <th>CAREER_GAME_NUMBER</th>\n",
       "      <td>1558.0</td>\n",
       "      <td>780.486521</td>\n",
       "      <td>449.923227</td>\n",
       "      <td>1.0</td>\n",
       "      <td>391.25</td>\n",
       "      <td>780.5</td>\n",
       "      <td>1169.750000</td>\n",
       "      <td>1559.000000</td>\n",
       "    </tr>\n",
       "  </tbody>\n",
       "</table>\n",
       "<p>645 rows × 8 columns</p>\n",
       "</div>"
      ],
      "text/plain": [
       "                                          count        mean         std  min  \\\n",
       "SHOTS_MADE                               1558.0    7.358793    3.471180  0.0   \n",
       "AWAY_GAME                                1558.0    0.500642    0.500160  0.0   \n",
       "SEASON_OPPONENT:atl:1996-97              1558.0    0.001284    0.035817  0.0   \n",
       "SEASON_OPPONENT:atl:1997-98              1558.0    0.001284    0.035817  0.0   \n",
       "SEASON_OPPONENT:atl:1999-00              1558.0    0.000642    0.025335  0.0   \n",
       "...                                         ...         ...         ...  ...   \n",
       "ACTION_TYPE:turnaround_finger_roll_shot  1558.0    0.000050    0.001390  0.0   \n",
       "ACTION_TYPE:turnaround_hook_shot         1558.0    0.000433    0.004902  0.0   \n",
       "ACTION_TYPE:turnaround_jump_shot         1558.0    0.031766    0.049402  0.0   \n",
       "SEASON_GAME_NUMBER                       1558.0   42.946727   26.048206  1.0   \n",
       "CAREER_GAME_NUMBER                       1558.0  780.486521  449.923227  1.0   \n",
       "\n",
       "                                            25%    50%          75%  \\\n",
       "SHOTS_MADE                                 5.00    7.0    10.000000   \n",
       "AWAY_GAME                                  0.00    1.0     1.000000   \n",
       "SEASON_OPPONENT:atl:1996-97                0.00    0.0     0.000000   \n",
       "SEASON_OPPONENT:atl:1997-98                0.00    0.0     0.000000   \n",
       "SEASON_OPPONENT:atl:1999-00                0.00    0.0     0.000000   \n",
       "...                                         ...    ...          ...   \n",
       "ACTION_TYPE:turnaround_finger_roll_shot    0.00    0.0     0.000000   \n",
       "ACTION_TYPE:turnaround_hook_shot           0.00    0.0     0.000000   \n",
       "ACTION_TYPE:turnaround_jump_shot           0.00    0.0     0.052632   \n",
       "SEASON_GAME_NUMBER                        21.00   42.0    63.000000   \n",
       "CAREER_GAME_NUMBER                       391.25  780.5  1169.750000   \n",
       "\n",
       "                                                 max  \n",
       "SHOTS_MADE                                 22.000000  \n",
       "AWAY_GAME                                   1.000000  \n",
       "SEASON_OPPONENT:atl:1996-97                 1.000000  \n",
       "SEASON_OPPONENT:atl:1997-98                 1.000000  \n",
       "SEASON_OPPONENT:atl:1999-00                 1.000000  \n",
       "...                                              ...  \n",
       "ACTION_TYPE:turnaround_finger_roll_shot     0.041667  \n",
       "ACTION_TYPE:turnaround_hook_shot            0.111111  \n",
       "ACTION_TYPE:turnaround_jump_shot            0.352941  \n",
       "SEASON_GAME_NUMBER                        105.000000  \n",
       "CAREER_GAME_NUMBER                       1559.000000  \n",
       "\n",
       "[645 rows x 8 columns]"
      ]
     },
     "execution_count": 16,
     "metadata": {},
     "output_type": "execute_result"
    }
   ],
   "source": [
    "kobe.describe().T"
   ]
  },
  {
   "cell_type": "code",
   "execution_count": null,
   "metadata": {},
   "outputs": [],
   "source": []
  },
  {
   "cell_type": "code",
   "execution_count": null,
   "metadata": {},
   "outputs": [],
   "source": []
  },
  {
   "cell_type": "code",
   "execution_count": null,
   "metadata": {},
   "outputs": [],
   "source": []
  },
  {
   "cell_type": "code",
   "execution_count": null,
   "metadata": {},
   "outputs": [],
   "source": []
  },
  {
   "cell_type": "code",
   "execution_count": null,
   "metadata": {},
   "outputs": [],
   "source": []
  },
  {
   "cell_type": "code",
   "execution_count": null,
   "metadata": {},
   "outputs": [],
   "source": []
  },
  {
   "cell_type": "code",
   "execution_count": null,
   "metadata": {},
   "outputs": [],
   "source": []
  },
  {
   "cell_type": "code",
   "execution_count": null,
   "metadata": {},
   "outputs": [],
   "source": []
  }
 ],
 "metadata": {
  "kernelspec": {
   "display_name": "Python 3",
   "language": "python",
   "name": "python3"
  },
  "language_info": {
   "codemirror_mode": {
    "name": "ipython",
    "version": 3
   },
   "file_extension": ".py",
   "mimetype": "text/x-python",
   "name": "python",
   "nbconvert_exporter": "python",
   "pygments_lexer": "ipython3",
   "version": "3.8.3"
  }
 },
 "nbformat": 4,
 "nbformat_minor": 4
}
