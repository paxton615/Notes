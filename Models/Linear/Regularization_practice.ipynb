{
 "cells": [
  {
   "cell_type": "code",
   "execution_count": 1,
   "metadata": {},
   "outputs": [],
   "source": [
    "import pandas as pd\n",
    "import numpy as np\n",
    "import patsy\n",
    "\n",
    "from sklearn.linear_model import LinearRegression, Ridge, RidgeCV, Lasso, LassoCV, ElasticNet, ElasticNetCV\n",
    "from sklearn.model_selection import cross_validate, cross_val_score, cross_val_predict\n",
    "from sklearn.metrics import r2_score\n",
    "from sklearn.preprocessing import StandardScaler\n",
    "\n",
    "import matplotlib\n",
    "import matplotlib.pyplot as plt\n",
    "import seaborn as sns\n",
    "import warnings"
   ]
  },
  {
   "cell_type": "code",
   "execution_count": 2,
   "metadata": {},
   "outputs": [],
   "source": [
    "kobe = pd.read_csv('/Users/paxton615/GA/resource-datasets/kobe_bryant/kobe_superwide_games.csv')\n",
    "df = kobe.copy()"
   ]
  },
  {
   "cell_type": "code",
   "execution_count": 3,
   "metadata": {},
   "outputs": [
    {
     "data": {
      "text/plain": [
       "(1558, 645)"
      ]
     },
     "execution_count": 3,
     "metadata": {},
     "output_type": "execute_result"
    }
   ],
   "source": [
    "kobe.shape"
   ]
  },
  {
   "cell_type": "code",
   "execution_count": 4,
   "metadata": {},
   "outputs": [
    {
     "data": {
      "text/plain": [
       "Index(['SHOTS_MADE', 'AWAY_GAME', 'SEASON_OPPONENT:atl:1996-97',\n",
       "       'SEASON_OPPONENT:atl:1997-98', 'SEASON_OPPONENT:atl:1999-00',\n",
       "       'SEASON_OPPONENT:atl:2000-01', 'SEASON_OPPONENT:atl:2001-02',\n",
       "       'SEASON_OPPONENT:atl:2002-03', 'SEASON_OPPONENT:atl:2003-04',\n",
       "       'SEASON_OPPONENT:atl:2004-05',\n",
       "       ...\n",
       "       'ACTION_TYPE:tip_layup_shot', 'ACTION_TYPE:tip_shot',\n",
       "       'ACTION_TYPE:turnaround_bank_shot',\n",
       "       'ACTION_TYPE:turnaround_fadeaway_bank_jump_shot',\n",
       "       'ACTION_TYPE:turnaround_fadeaway_shot',\n",
       "       'ACTION_TYPE:turnaround_finger_roll_shot',\n",
       "       'ACTION_TYPE:turnaround_hook_shot', 'ACTION_TYPE:turnaround_jump_shot',\n",
       "       'SEASON_GAME_NUMBER', 'CAREER_GAME_NUMBER'],\n",
       "      dtype='object', length=645)"
      ]
     },
     "execution_count": 4,
     "metadata": {},
     "output_type": "execute_result"
    }
   ],
   "source": [
    "kobe.columns"
   ]
  },
  {
   "cell_type": "code",
   "execution_count": 5,
   "metadata": {},
   "outputs": [
    {
     "data": {
      "text/html": [
       "<div>\n",
       "<style scoped>\n",
       "    .dataframe tbody tr th:only-of-type {\n",
       "        vertical-align: middle;\n",
       "    }\n",
       "\n",
       "    .dataframe tbody tr th {\n",
       "        vertical-align: top;\n",
       "    }\n",
       "\n",
       "    .dataframe thead th {\n",
       "        text-align: right;\n",
       "    }\n",
       "</style>\n",
       "<table border=\"1\" class=\"dataframe\">\n",
       "  <thead>\n",
       "    <tr style=\"text-align: right;\">\n",
       "      <th></th>\n",
       "      <th>count</th>\n",
       "      <th>mean</th>\n",
       "      <th>std</th>\n",
       "      <th>min</th>\n",
       "      <th>25%</th>\n",
       "      <th>50%</th>\n",
       "      <th>75%</th>\n",
       "      <th>max</th>\n",
       "    </tr>\n",
       "  </thead>\n",
       "  <tbody>\n",
       "    <tr>\n",
       "      <th>SHOTS_MADE</th>\n",
       "      <td>1558.0</td>\n",
       "      <td>7.358793</td>\n",
       "      <td>3.471180</td>\n",
       "      <td>0.0</td>\n",
       "      <td>5.00</td>\n",
       "      <td>7.0</td>\n",
       "      <td>10.000000</td>\n",
       "      <td>22.000000</td>\n",
       "    </tr>\n",
       "    <tr>\n",
       "      <th>AWAY_GAME</th>\n",
       "      <td>1558.0</td>\n",
       "      <td>0.500642</td>\n",
       "      <td>0.500160</td>\n",
       "      <td>0.0</td>\n",
       "      <td>0.00</td>\n",
       "      <td>1.0</td>\n",
       "      <td>1.000000</td>\n",
       "      <td>1.000000</td>\n",
       "    </tr>\n",
       "    <tr>\n",
       "      <th>SEASON_OPPONENT:atl:1996-97</th>\n",
       "      <td>1558.0</td>\n",
       "      <td>0.001284</td>\n",
       "      <td>0.035817</td>\n",
       "      <td>0.0</td>\n",
       "      <td>0.00</td>\n",
       "      <td>0.0</td>\n",
       "      <td>0.000000</td>\n",
       "      <td>1.000000</td>\n",
       "    </tr>\n",
       "    <tr>\n",
       "      <th>SEASON_OPPONENT:atl:1997-98</th>\n",
       "      <td>1558.0</td>\n",
       "      <td>0.001284</td>\n",
       "      <td>0.035817</td>\n",
       "      <td>0.0</td>\n",
       "      <td>0.00</td>\n",
       "      <td>0.0</td>\n",
       "      <td>0.000000</td>\n",
       "      <td>1.000000</td>\n",
       "    </tr>\n",
       "    <tr>\n",
       "      <th>SEASON_OPPONENT:atl:1999-00</th>\n",
       "      <td>1558.0</td>\n",
       "      <td>0.000642</td>\n",
       "      <td>0.025335</td>\n",
       "      <td>0.0</td>\n",
       "      <td>0.00</td>\n",
       "      <td>0.0</td>\n",
       "      <td>0.000000</td>\n",
       "      <td>1.000000</td>\n",
       "    </tr>\n",
       "    <tr>\n",
       "      <th>...</th>\n",
       "      <td>...</td>\n",
       "      <td>...</td>\n",
       "      <td>...</td>\n",
       "      <td>...</td>\n",
       "      <td>...</td>\n",
       "      <td>...</td>\n",
       "      <td>...</td>\n",
       "      <td>...</td>\n",
       "    </tr>\n",
       "    <tr>\n",
       "      <th>ACTION_TYPE:turnaround_finger_roll_shot</th>\n",
       "      <td>1558.0</td>\n",
       "      <td>0.000050</td>\n",
       "      <td>0.001390</td>\n",
       "      <td>0.0</td>\n",
       "      <td>0.00</td>\n",
       "      <td>0.0</td>\n",
       "      <td>0.000000</td>\n",
       "      <td>0.041667</td>\n",
       "    </tr>\n",
       "    <tr>\n",
       "      <th>ACTION_TYPE:turnaround_hook_shot</th>\n",
       "      <td>1558.0</td>\n",
       "      <td>0.000433</td>\n",
       "      <td>0.004902</td>\n",
       "      <td>0.0</td>\n",
       "      <td>0.00</td>\n",
       "      <td>0.0</td>\n",
       "      <td>0.000000</td>\n",
       "      <td>0.111111</td>\n",
       "    </tr>\n",
       "    <tr>\n",
       "      <th>ACTION_TYPE:turnaround_jump_shot</th>\n",
       "      <td>1558.0</td>\n",
       "      <td>0.031766</td>\n",
       "      <td>0.049402</td>\n",
       "      <td>0.0</td>\n",
       "      <td>0.00</td>\n",
       "      <td>0.0</td>\n",
       "      <td>0.052632</td>\n",
       "      <td>0.352941</td>\n",
       "    </tr>\n",
       "    <tr>\n",
       "      <th>SEASON_GAME_NUMBER</th>\n",
       "      <td>1558.0</td>\n",
       "      <td>42.946727</td>\n",
       "      <td>26.048206</td>\n",
       "      <td>1.0</td>\n",
       "      <td>21.00</td>\n",
       "      <td>42.0</td>\n",
       "      <td>63.000000</td>\n",
       "      <td>105.000000</td>\n",
       "    </tr>\n",
       "    <tr>\n",
       "      <th>CAREER_GAME_NUMBER</th>\n",
       "      <td>1558.0</td>\n",
       "      <td>780.486521</td>\n",
       "      <td>449.923227</td>\n",
       "      <td>1.0</td>\n",
       "      <td>391.25</td>\n",
       "      <td>780.5</td>\n",
       "      <td>1169.750000</td>\n",
       "      <td>1559.000000</td>\n",
       "    </tr>\n",
       "  </tbody>\n",
       "</table>\n",
       "<p>645 rows × 8 columns</p>\n",
       "</div>"
      ],
      "text/plain": [
       "                                          count        mean         std  min  \\\n",
       "SHOTS_MADE                               1558.0    7.358793    3.471180  0.0   \n",
       "AWAY_GAME                                1558.0    0.500642    0.500160  0.0   \n",
       "SEASON_OPPONENT:atl:1996-97              1558.0    0.001284    0.035817  0.0   \n",
       "SEASON_OPPONENT:atl:1997-98              1558.0    0.001284    0.035817  0.0   \n",
       "SEASON_OPPONENT:atl:1999-00              1558.0    0.000642    0.025335  0.0   \n",
       "...                                         ...         ...         ...  ...   \n",
       "ACTION_TYPE:turnaround_finger_roll_shot  1558.0    0.000050    0.001390  0.0   \n",
       "ACTION_TYPE:turnaround_hook_shot         1558.0    0.000433    0.004902  0.0   \n",
       "ACTION_TYPE:turnaround_jump_shot         1558.0    0.031766    0.049402  0.0   \n",
       "SEASON_GAME_NUMBER                       1558.0   42.946727   26.048206  1.0   \n",
       "CAREER_GAME_NUMBER                       1558.0  780.486521  449.923227  1.0   \n",
       "\n",
       "                                            25%    50%          75%  \\\n",
       "SHOTS_MADE                                 5.00    7.0    10.000000   \n",
       "AWAY_GAME                                  0.00    1.0     1.000000   \n",
       "SEASON_OPPONENT:atl:1996-97                0.00    0.0     0.000000   \n",
       "SEASON_OPPONENT:atl:1997-98                0.00    0.0     0.000000   \n",
       "SEASON_OPPONENT:atl:1999-00                0.00    0.0     0.000000   \n",
       "...                                         ...    ...          ...   \n",
       "ACTION_TYPE:turnaround_finger_roll_shot    0.00    0.0     0.000000   \n",
       "ACTION_TYPE:turnaround_hook_shot           0.00    0.0     0.000000   \n",
       "ACTION_TYPE:turnaround_jump_shot           0.00    0.0     0.052632   \n",
       "SEASON_GAME_NUMBER                        21.00   42.0    63.000000   \n",
       "CAREER_GAME_NUMBER                       391.25  780.5  1169.750000   \n",
       "\n",
       "                                                 max  \n",
       "SHOTS_MADE                                 22.000000  \n",
       "AWAY_GAME                                   1.000000  \n",
       "SEASON_OPPONENT:atl:1996-97                 1.000000  \n",
       "SEASON_OPPONENT:atl:1997-98                 1.000000  \n",
       "SEASON_OPPONENT:atl:1999-00                 1.000000  \n",
       "...                                              ...  \n",
       "ACTION_TYPE:turnaround_finger_roll_shot     0.041667  \n",
       "ACTION_TYPE:turnaround_hook_shot            0.111111  \n",
       "ACTION_TYPE:turnaround_jump_shot            0.352941  \n",
       "SEASON_GAME_NUMBER                        105.000000  \n",
       "CAREER_GAME_NUMBER                       1559.000000  \n",
       "\n",
       "[645 rows x 8 columns]"
      ]
     },
     "execution_count": 5,
     "metadata": {},
     "output_type": "execute_result"
    }
   ],
   "source": [
    "kobe.describe().T"
   ]
  },
  {
   "cell_type": "markdown",
   "metadata": {},
   "source": [
    "- The columns are various statistics for each game. \n",
    "- There is a column SHOTS_MADE that will be our target variable for prediction\n",
    "- This is good for regularization because there are so many columns (feature selection) and many of the columns represent similar things (multicollinearity)"
   ]
  },
  {
   "cell_type": "markdown",
   "metadata": {},
   "source": [
    "#### make predictors and target variables. Standardize the predictors."
   ]
  },
  {
   "cell_type": "code",
   "execution_count": 6,
   "metadata": {},
   "outputs": [],
   "source": [
    "y = kobe['SHOTS_MADE']\n",
    "X = kobe.iloc[:,1:] #包前不包后"
   ]
  },
  {
   "cell_type": "code",
   "execution_count": 7,
   "metadata": {},
   "outputs": [
    {
     "name": "stdout",
     "output_type": "stream",
     "text": [
      "Mean: 2.166996997490319e-18 Std: 1.0\n"
     ]
    }
   ],
   "source": [
    "scaler = StandardScaler()\n",
    "Xs = scaler.fit_transform(X)\n",
    "print('Mean:', Xs.mean(), 'Std:', Xs.std()) #依次检验scaler时候工作良好"
   ]
  },
  {
   "cell_type": "markdown",
   "metadata": {},
   "source": [
    "##### SLR model"
   ]
  },
  {
   "cell_type": "code",
   "execution_count": 8,
   "metadata": {},
   "outputs": [
    {
     "data": {
      "text/plain": [
       "LinearRegression()"
      ]
     },
     "execution_count": 8,
     "metadata": {},
     "output_type": "execute_result"
    }
   ],
   "source": [
    "lr = LinearRegression()\n",
    "lr.fit(Xs, y)"
   ]
  },
  {
   "cell_type": "code",
   "execution_count": 9,
   "metadata": {},
   "outputs": [
    {
     "name": "stdout",
     "output_type": "stream",
     "text": [
      "7.360340622289268 [-1.51346980e-01 -3.07592285e+12  2.15723268e+11 -3.43957193e+12\n",
      " -1.02512161e+12  2.33524229e+12  1.69528345e+12  6.59243828e+11\n",
      " -4.84182866e+12 -2.78953002e+12  3.18939893e+11  3.70986277e+12\n",
      "  1.54846776e+12 -4.04561219e+12 -5.80059422e+12 -8.20666497e+11\n",
      "  4.86155175e+12 -1.25370422e+13  3.34899651e+12 -3.47743448e+12]\n"
     ]
    }
   ],
   "source": [
    "print(lr.intercept_, lr.coef_[:20])"
   ]
  },
  {
   "cell_type": "markdown",
   "metadata": {},
   "source": [
    "##### cross_val"
   ]
  },
  {
   "cell_type": "code",
   "execution_count": 10,
   "metadata": {},
   "outputs": [
    {
     "name": "stdout",
     "output_type": "stream",
     "text": [
      "[-6.90282552e+28 -2.65458764e+28 -1.16402737e+28 -1.62255769e+28\n",
      " -1.77318843e+28]\n",
      "-2.823437329833872e+28\n"
     ]
    }
   ],
   "source": [
    "linear = LinearRegression()\n",
    "lin_scores = cross_val_score(linear, Xs, y, cv=5) #cv=5\n",
    "print(lin_scores)\n",
    "print(np.mean(lin_scores))"
   ]
  },
  {
   "cell_type": "code",
   "execution_count": 11,
   "metadata": {},
   "outputs": [
    {
     "name": "stdout",
     "output_type": "stream",
     "text": [
      "[-1.37331756e+29 -3.95516708e+27 -1.45305051e+28 -8.77477765e+27\n",
      " -2.74642208e+28 -3.31272689e+27 -4.17323855e+27 -5.04419267e+27\n",
      " -7.47214789e+27 -6.05918480e+28]\n",
      "-2.7265058108827903e+28\n"
     ]
    }
   ],
   "source": [
    "linear = LinearRegression()\n",
    "lin_scores = cross_val_score(linear, Xs, y, cv=10) #cv=10\n",
    "print(lin_scores)\n",
    "print(np.mean(lin_scores))"
   ]
  },
  {
   "cell_type": "markdown",
   "metadata": {},
   "source": [
    "#### Find the optimal alpha for Ridge"
   ]
  },
  {
   "cell_type": "markdown",
   "metadata": {},
   "source": [
    "首先定义alph搜索的范围"
   ]
  },
  {
   "cell_type": "code",
   "execution_count": 17,
   "metadata": {},
   "outputs": [
    {
     "name": "stdout",
     "output_type": "stream",
     "text": [
      "775.2597488629465\n"
     ]
    }
   ],
   "source": [
    "ridge_alpha = np.logspace(0,5,200)\n",
    "\n",
    "optimal_ridge = RidgeCV(alphas=ridge_alpha, cv=10)\n",
    "optimal_ridge.fit(Xs, y)\n",
    "\n",
    "print(optimal_ridge.alpha_)"
   ]
  },
  {
   "cell_type": "code",
   "execution_count": 18,
   "metadata": {},
   "outputs": [
    {
     "data": {
      "text/plain": [
       "0.7798565133622948"
      ]
     },
     "execution_count": 18,
     "metadata": {},
     "output_type": "execute_result"
    }
   ],
   "source": [
    "optimal_ridge.score(Xs,y) # 效果比SLR好太多太多了！！！！！"
   ]
  },
  {
   "cell_type": "code",
   "execution_count": 19,
   "metadata": {},
   "outputs": [
    {
     "data": {
      "text/plain": [
       "(644,)"
      ]
     },
     "execution_count": 19,
     "metadata": {},
     "output_type": "execute_result"
    }
   ],
   "source": [
    "optimal_ridge.coef_.shape"
   ]
  },
  {
   "cell_type": "code",
   "execution_count": 20,
   "metadata": {},
   "outputs": [
    {
     "data": {
      "text/plain": [
       "(644,)"
      ]
     },
     "execution_count": 20,
     "metadata": {},
     "output_type": "execute_result"
    }
   ],
   "source": [
    "lr.coef_.shape"
   ]
  },
  {
   "cell_type": "markdown",
   "metadata": {},
   "source": [
    "### It's vastly better than the Linear Regression. There is likely so much multicollinearity in the data that \"vanilla\" regression overfits and has bogus coefficients on predictors. Ridge is able to manage the multicollinearity and get a good out-of-sample result."
   ]
  },
  {
   "cell_type": "code",
   "execution_count": null,
   "metadata": {},
   "outputs": [],
   "source": []
  },
  {
   "cell_type": "code",
   "execution_count": null,
   "metadata": {},
   "outputs": [],
   "source": []
  },
  {
   "cell_type": "code",
   "execution_count": null,
   "metadata": {},
   "outputs": [],
   "source": []
  },
  {
   "cell_type": "code",
   "execution_count": null,
   "metadata": {},
   "outputs": [],
   "source": []
  },
  {
   "cell_type": "code",
   "execution_count": null,
   "metadata": {},
   "outputs": [],
   "source": []
  },
  {
   "cell_type": "code",
   "execution_count": null,
   "metadata": {},
   "outputs": [],
   "source": []
  }
 ],
 "metadata": {
  "kernelspec": {
   "display_name": "Python 3",
   "language": "python",
   "name": "python3"
  },
  "language_info": {
   "codemirror_mode": {
    "name": "ipython",
    "version": 3
   },
   "file_extension": ".py",
   "mimetype": "text/x-python",
   "name": "python",
   "nbconvert_exporter": "python",
   "pygments_lexer": "ipython3",
   "version": "3.8.3"
  }
 },
 "nbformat": 4,
 "nbformat_minor": 4
}
