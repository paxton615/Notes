{
 "cells": [
  {
   "cell_type": "code",
   "execution_count": 1,
   "metadata": {},
   "outputs": [
    {
     "name": "stdout",
     "output_type": "stream",
     "text": [
      "Collecting excalibur-py\n",
      "  Downloading excalibur_py-0.4.3-py3-none-any.whl (1.5 MB)\n",
      "\u001b[K     |████████████████████████████████| 1.5 MB 2.2 MB/s eta 0:00:01\n",
      "\u001b[?25hRequirement already satisfied: Click>=7.0 in /Users/paxton615/opt/anaconda3/lib/python3.8/site-packages (from excalibur-py) (7.1.2)\n",
      "Requirement already satisfied: Flask>=1.0.2 in /Users/paxton615/opt/anaconda3/lib/python3.8/site-packages (from excalibur-py) (1.1.2)\n",
      "Requirement already satisfied: SQLAlchemy>=1.2.12 in /Users/paxton615/opt/anaconda3/lib/python3.8/site-packages (from excalibur-py) (1.3.18)\n",
      "Collecting camelot-py[cv]>=0.7.1\n",
      "  Downloading camelot_py-0.8.2-py3-none-any.whl (42 kB)\n",
      "\u001b[K     |████████████████████████████████| 42 kB 2.1 MB/s eta 0:00:01\n",
      "\u001b[?25hRequirement already satisfied: Click>=7.0 in /Users/paxton615/opt/anaconda3/lib/python3.8/site-packages (from excalibur-py) (7.1.2)\n",
      "Requirement already satisfied: chardet>=3.0.4 in /Users/paxton615/opt/anaconda3/lib/python3.8/site-packages (from camelot-py[cv]>=0.7.1->excalibur-py) (3.0.4)\n",
      "Requirement already satisfied: numpy>=1.13.3 in /Users/paxton615/opt/anaconda3/lib/python3.8/site-packages (from camelot-py[cv]>=0.7.1->excalibur-py) (1.18.5)\n",
      "Requirement already satisfied: PyPDF2>=1.26.0 in /Users/paxton615/opt/anaconda3/lib/python3.8/site-packages (from camelot-py[cv]>=0.7.1->excalibur-py) (1.26.0)\n",
      "Requirement already satisfied: pandas>=0.23.4 in /Users/paxton615/opt/anaconda3/lib/python3.8/site-packages (from camelot-py[cv]>=0.7.1->excalibur-py) (1.0.5)\n",
      "Requirement already satisfied: openpyxl>=2.5.8 in /Users/paxton615/opt/anaconda3/lib/python3.8/site-packages (from camelot-py[cv]>=0.7.1->excalibur-py) (3.0.4)\n",
      "Requirement already satisfied: Click>=7.0 in /Users/paxton615/opt/anaconda3/lib/python3.8/site-packages (from excalibur-py) (7.1.2)\n",
      "Requirement already satisfied: chardet>=3.0.4 in /Users/paxton615/opt/anaconda3/lib/python3.8/site-packages (from camelot-py[cv]>=0.7.1->excalibur-py) (3.0.4)\n",
      "Requirement already satisfied: numpy>=1.13.3 in /Users/paxton615/opt/anaconda3/lib/python3.8/site-packages (from camelot-py[cv]>=0.7.1->excalibur-py) (1.18.5)\n",
      "Requirement already satisfied: PyPDF2>=1.26.0 in /Users/paxton615/opt/anaconda3/lib/python3.8/site-packages (from camelot-py[cv]>=0.7.1->excalibur-py) (1.26.0)\n",
      "Requirement already satisfied: pandas>=0.23.4 in /Users/paxton615/opt/anaconda3/lib/python3.8/site-packages (from camelot-py[cv]>=0.7.1->excalibur-py) (1.0.5)\n",
      "Requirement already satisfied: openpyxl>=2.5.8 in /Users/paxton615/opt/anaconda3/lib/python3.8/site-packages (from camelot-py[cv]>=0.7.1->excalibur-py) (3.0.4)\n",
      "Collecting celery>=4.1.1\n",
      "  Downloading celery-5.0.5-py3-none-any.whl (392 kB)\n",
      "\u001b[K     |████████████████████████████████| 392 kB 617 kB/s eta 0:00:01\n",
      "\u001b[?25hRequirement already satisfied: click-plugins>=1.1.1 in /Users/paxton615/opt/anaconda3/lib/python3.8/site-packages (from celery>=4.1.1->excalibur-py) (1.1.1)\n",
      "Requirement already satisfied: pytz>dev in /Users/paxton615/opt/anaconda3/lib/python3.8/site-packages (from celery>=4.1.1->excalibur-py) (2020.1)\n",
      "Requirement already satisfied: Click>=7.0 in /Users/paxton615/opt/anaconda3/lib/python3.8/site-packages (from excalibur-py) (7.1.2)\n",
      "Collecting billiard<4.0,>=3.6.3.0\n",
      "  Downloading billiard-3.6.3.0-py3-none-any.whl (89 kB)\n",
      "\u001b[K     |████████████████████████████████| 89 kB 1.4 MB/s eta 0:00:01\n",
      "\u001b[?25hCollecting click-didyoumean>=0.0.3\n",
      "  Downloading click-didyoumean-0.0.3.tar.gz (2.6 kB)\n",
      "Requirement already satisfied: Click>=7.0 in /Users/paxton615/opt/anaconda3/lib/python3.8/site-packages (from excalibur-py) (7.1.2)\n",
      "Requirement already satisfied: Click>=7.0 in /Users/paxton615/opt/anaconda3/lib/python3.8/site-packages (from excalibur-py) (7.1.2)\n",
      "Collecting click-repl>=0.1.6\n",
      "  Downloading click_repl-0.1.6-py3-none-any.whl (4.2 kB)\n",
      "Requirement already satisfied: six in /Users/paxton615/opt/anaconda3/lib/python3.8/site-packages (from click-repl>=0.1.6->celery>=4.1.1->excalibur-py) (1.12.0)\n",
      "Requirement already satisfied: prompt-toolkit in /Users/paxton615/opt/anaconda3/lib/python3.8/site-packages (from click-repl>=0.1.6->celery>=4.1.1->excalibur-py) (3.0.5)\n",
      "Requirement already satisfied: Click>=7.0 in /Users/paxton615/opt/anaconda3/lib/python3.8/site-packages (from excalibur-py) (7.1.2)\n",
      "Collecting configparser<3.6.0,>=3.5.0\n",
      "  Downloading configparser-3.5.3-py3-none-any.whl (21 kB)\n",
      "Requirement already satisfied: Click>=7.0 in /Users/paxton615/opt/anaconda3/lib/python3.8/site-packages (from excalibur-py) (7.1.2)\n",
      "Requirement already satisfied: itsdangerous>=0.24 in /Users/paxton615/opt/anaconda3/lib/python3.8/site-packages (from Flask>=1.0.2->excalibur-py) (1.1.0)\n",
      "Requirement already satisfied: Jinja2>=2.10.1 in /Users/paxton615/opt/anaconda3/lib/python3.8/site-packages (from Flask>=1.0.2->excalibur-py) (2.11.2)\n",
      "Requirement already satisfied: MarkupSafe>=0.23 in /Users/paxton615/opt/anaconda3/lib/python3.8/site-packages (from Jinja2>=2.10.1->Flask>=1.0.2->excalibur-py) (1.1.1)\n",
      "Collecting kombu<6.0,>=5.0.0\n",
      "  Downloading kombu-5.0.2-py2.py3-none-any.whl (180 kB)\n",
      "\u001b[K     |████████████████████████████████| 180 kB 2.2 MB/s eta 0:00:01\n",
      "\u001b[?25hCollecting amqp<6.0.0,>=5.0.0\n",
      "  Downloading amqp-5.0.5-py3-none-any.whl (51 kB)\n",
      "\u001b[K     |████████████████████████████████| 51 kB 2.4 MB/s eta 0:00:01\n",
      "\u001b[?25hCollecting opencv-python>=3.4.2.17\n",
      "  Downloading opencv_python-4.5.1.48-cp38-cp38-macosx_10_13_x86_64.whl (40.3 MB)\n",
      "\u001b[K     |████████████████████████████████| 40.3 MB 2.5 MB/s eta 0:00:01\n",
      "\u001b[?25hRequirement already satisfied: numpy>=1.13.3 in /Users/paxton615/opt/anaconda3/lib/python3.8/site-packages (from camelot-py[cv]>=0.7.1->excalibur-py) (1.18.5)\n",
      "Requirement already satisfied: jdcal in /Users/paxton615/opt/anaconda3/lib/python3.8/site-packages (from openpyxl>=2.5.8->camelot-py[cv]>=0.7.1->excalibur-py) (1.4.1)\n",
      "Requirement already satisfied: et-xmlfile in /Users/paxton615/opt/anaconda3/lib/python3.8/site-packages (from openpyxl>=2.5.8->camelot-py[cv]>=0.7.1->excalibur-py) (1.0.1)\n",
      "Requirement already satisfied: numpy>=1.13.3 in /Users/paxton615/opt/anaconda3/lib/python3.8/site-packages (from camelot-py[cv]>=0.7.1->excalibur-py) (1.18.5)\n",
      "Requirement already satisfied: python-dateutil>=2.6.1 in /Users/paxton615/opt/anaconda3/lib/python3.8/site-packages (from pandas>=0.23.4->camelot-py[cv]>=0.7.1->excalibur-py) (2.8.1)\n",
      "Requirement already satisfied: pytz>dev in /Users/paxton615/opt/anaconda3/lib/python3.8/site-packages (from celery>=4.1.1->excalibur-py) (2020.1)\n",
      "Collecting pdfminer.six>=20200726\n",
      "  Downloading pdfminer.six-20201018-py3-none-any.whl (5.6 MB)\n",
      "\u001b[K     |████████████████████████████████| 5.6 MB 406 kB/s eta 0:00:01\n",
      "\u001b[?25hRequirement already satisfied: cryptography in /Users/paxton615/opt/anaconda3/lib/python3.8/site-packages (from pdfminer.six>=20200726->camelot-py[cv]>=0.7.1->excalibur-py) (2.9.2)\n",
      "Requirement already satisfied: chardet>=3.0.4 in /Users/paxton615/opt/anaconda3/lib/python3.8/site-packages (from camelot-py[cv]>=0.7.1->excalibur-py) (3.0.4)\n",
      "Requirement already satisfied: sortedcontainers in /Users/paxton615/opt/anaconda3/lib/python3.8/site-packages (from pdfminer.six>=20200726->camelot-py[cv]>=0.7.1->excalibur-py) (2.2.2)\n",
      "Requirement already satisfied: six in /Users/paxton615/opt/anaconda3/lib/python3.8/site-packages (from click-repl>=0.1.6->celery>=4.1.1->excalibur-py) (1.12.0)\n",
      "Requirement already satisfied: cffi!=1.11.3,>=1.8 in /Users/paxton615/opt/anaconda3/lib/python3.8/site-packages (from cryptography->pdfminer.six>=20200726->camelot-py[cv]>=0.7.1->excalibur-py) (1.14.0)\n",
      "Requirement already satisfied: pycparser in /Users/paxton615/opt/anaconda3/lib/python3.8/site-packages (from cffi!=1.11.3,>=1.8->cryptography->pdfminer.six>=20200726->camelot-py[cv]>=0.7.1->excalibur-py) (2.20)\n",
      "Requirement already satisfied: wcwidth in /Users/paxton615/opt/anaconda3/lib/python3.8/site-packages (from prompt-toolkit->click-repl>=0.1.6->celery>=4.1.1->excalibur-py) (0.2.5)\n",
      "Requirement already satisfied: six in /Users/paxton615/opt/anaconda3/lib/python3.8/site-packages (from click-repl>=0.1.6->celery>=4.1.1->excalibur-py) (1.12.0)\n",
      "Collecting vine<6.0,>=5.0.0\n",
      "  Downloading vine-5.0.0-py2.py3-none-any.whl (9.4 kB)\n",
      "Collecting Werkzeug<1.0.0\n",
      "  Downloading Werkzeug-0.16.1-py2.py3-none-any.whl (327 kB)\n"
     ]
    },
    {
     "name": "stdout",
     "output_type": "stream",
     "text": [
      "\u001b[K     |████████████████████████████████| 327 kB 521 kB/s eta 0:00:01\n",
      "\u001b[?25hBuilding wheels for collected packages: click-didyoumean\n",
      "  Building wheel for click-didyoumean (setup.py) ... \u001b[?25ldone\n",
      "\u001b[?25h  Created wheel for click-didyoumean: filename=click_didyoumean-0.0.3-py3-none-any.whl size=2145 sha256=fe74fec84fdab1d53df5186c598d67e5e6dd2acd38385ba9af4a25249dd4fcf1\n",
      "  Stored in directory: /Users/paxton615/Library/Caches/pip/wheels/c2/97/1e/c7dda0b8e9616dcd8df2a2882e556ef62879967ac31e0e3d04\n",
      "Successfully built click-didyoumean\n",
      "Installing collected packages: vine, pdfminer.six, amqp, Werkzeug, opencv-python, kombu, click-repl, click-didyoumean, camelot-py, billiard, configparser, celery, excalibur-py\n",
      "  Attempting uninstall: pdfminer.six\n",
      "    Found existing installation: pdfminer.six 20181108\n",
      "    Uninstalling pdfminer.six-20181108:\n",
      "      Successfully uninstalled pdfminer.six-20181108\n",
      "  Attempting uninstall: Werkzeug\n",
      "    Found existing installation: Werkzeug 1.0.1\n",
      "    Uninstalling Werkzeug-1.0.1:\n",
      "      Successfully uninstalled Werkzeug-1.0.1\n",
      "\u001b[31mERROR: pip's dependency resolver does not currently take into account all the packages that are installed. This behaviour is the source of the following dependency conflicts.\n",
      "textract 1.6.3 requires pdfminer.six==20181108, but you have pdfminer-six 20201018 which is incompatible.\u001b[0m\n",
      "Successfully installed Werkzeug-0.16.1 amqp-5.0.5 billiard-3.6.3.0 camelot-py-0.8.2 celery-5.0.5 click-didyoumean-0.0.3 click-repl-0.1.6 configparser-3.5.3 excalibur-py-0.4.3 kombu-5.0.2 opencv-python-4.5.1.48 pdfminer.six-20201018 vine-5.0.0\n",
      "\u001b[33mWARNING: You are using pip version 20.3.1; however, version 21.0.1 is available.\n",
      "You should consider upgrading via the '/Users/paxton615/opt/anaconda3/bin/python -m pip install --upgrade pip' command.\u001b[0m\n"
     ]
    }
   ],
   "source": [
    "!pip install excalibur-py"
   ]
  },
  {
   "cell_type": "code",
   "execution_count": 2,
   "metadata": {},
   "outputs": [
    {
     "ename": "SyntaxError",
     "evalue": "invalid syntax (<ipython-input-2-a6b7746ef796>, line 1)",
     "output_type": "error",
     "traceback": [
      "\u001b[0;36m  File \u001b[0;32m\"<ipython-input-2-a6b7746ef796>\"\u001b[0;36m, line \u001b[0;32m1\u001b[0m\n\u001b[0;31m    excalibur initdb\u001b[0m\n\u001b[0m              ^\u001b[0m\n\u001b[0;31mSyntaxError\u001b[0m\u001b[0;31m:\u001b[0m invalid syntax\n"
     ]
    }
   ],
   "source": []
  },
  {
   "cell_type": "code",
   "execution_count": null,
   "metadata": {},
   "outputs": [],
   "source": []
  }
 ],
 "metadata": {
  "kernelspec": {
   "display_name": "Python 3",
   "language": "python",
   "name": "python3"
  },
  "language_info": {
   "codemirror_mode": {
    "name": "ipython",
    "version": 3
   },
   "file_extension": ".py",
   "mimetype": "text/x-python",
   "name": "python",
   "nbconvert_exporter": "python",
   "pygments_lexer": "ipython3",
   "version": "3.8.3"
  }
 },
 "nbformat": 4,
 "nbformat_minor": 4
}
