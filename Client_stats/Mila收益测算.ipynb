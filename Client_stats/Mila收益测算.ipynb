{
 "cells": [
  {
   "cell_type": "code",
   "execution_count": 1,
   "metadata": {},
   "outputs": [],
   "source": [
    "import pandas as pd\n",
    "import numpy as np\n",
    "from datetime import datetime\n",
    "from datetime import date\n",
    "import matplotlib.pyplot as plt\n",
    "import seaborn as sns\n",
    "import requests\n",
    "pd.options.display.max_rows = 5000 \n",
    "pd.options.display.max_columns = 200"
   ]
  },
  {
   "cell_type": "markdown",
   "metadata": {},
   "source": [
    "不同出售情况下的回报预测"
   ]
  },
  {
   "cell_type": "markdown",
   "metadata": {},
   "source": [
    "想法：如果我想先回收一定程度的本金，比如IPO一开始，回收70%的本金。"
   ]
  },
  {
   "cell_type": "code",
   "execution_count": 2,
   "metadata": {},
   "outputs": [],
   "source": [
    "def sell_plan(fund, buy_price, w_price, target_price ):\n",
    "    fund = fund                   #unit = pound\n",
    "    share_price = buy_price       #unit = pence\n",
    "    warrant_price = w_price\n",
    "    \n",
    "    target_price = target_price\n",
    "    \n",
    "    shares = fund*100 / share_price  # 1 pound = 100 pence\n",
    "    warrants = shares           # if it is 1:1 between shares and warrants\n",
    "    \n",
    "#     current_fund = target_price * shares # 当前账户价值\n",
    "    \n",
    "    sell_share_to_refund = fund*100 / target_price # 卖出部分股票：这里是100%全部卖出\n",
    "    \n",
    "    current_remain_shares = shares - sell_share_to_refund # 当前剩余股票数量\n",
    "    \n",
    "    remain_shares_worth = np.round(current_remain_shares*target_price/100) # 剩余股票当前价值\n",
    "    \n",
    "    warrant_in_money = [0 if target_price<=warrant_price else target_price-warrant_price][0] # 权证当前是否有价值\n",
    "    \n",
    "    remain_warrants_worth = np.round(shares*warrant_in_money/100) # 权证当前价值\n",
    "    \n",
    "    total_remain_worth = np.round(shares*warrant_in_money +current_remain_shares*target_price )/100 # 所有剩余价值\n",
    "    \n",
    "    total_worth_account = total_remain_worth + fund # \n",
    "#  --------------------------------------------------------   \n",
    "    sell50pct_share_to_refund = fund*0.5*100 / target_price # 卖出部分股票：这里是50%全部卖出\n",
    "    current_remain_shares_50pct = shares - sell50pct_share_to_refund # 50%后当前剩余股票数量\n",
    "    remain_shares_worth_50pct = np.round(current_remain_shares_50pct*target_price/100) # 剩余股票当前价值\n",
    "    total_remain_worth_50pct = np.round(shares*warrant_in_money +current_remain_shares_50pct*target_price )/100 # 所有剩余价值\n",
    "    \n",
    "    print('投入的本金: {}镑   当前价格: {}p    账户总价值: {}镑'.format(np.round(fund), target_price,total_worth_account),'\\n','\\n',\n",
    "          '*'*50 ,'\\n','\\n',\n",
    "          '股票初始购入价格: {}p'.format(share_price),'\\n',\n",
    "          '股票初始购入数量: {}股'.format(np.round(shares)),'\\n',\n",
    "          '权证价格: {}p'.format(warrant_price),'\\n',\n",
    "          '权证初始拥有数量: {}个'.format(np.round(warrants)),'\\n','\\n',\n",
    "          '*'*50 ,'\\n','\\n',\n",
    "          '当前价格: {}p'.format(target_price),'\\n',\n",
    "          \n",
    "          '收回全部本金{}镑需出售的股份: {}股'.format(fund, np.round(sell_share_to_refund,0)), '\\n','\\n',\n",
    "          '剩余股份数量: {}股'.format(np.round(current_remain_shares)), '\\n',\n",
    "         '剩余股份价值: {}镑'.format(np.round(remain_shares_worth)), '\\n',\n",
    "          '剩余权证数量: {}个'.format(np.round(warrants)), '\\n',\n",
    "         '权证价值: {}镑'.format(remain_warrants_worth), '\\n','\\n',\n",
    "         '账户剩余股票和权证总价值: {}镑'.format(total_remain_worth), '\\n',\n",
    "         '*'*50 ,'\\n','\\n',\n",
    "          \n",
    "         '收回50%本金需出售的股份: {}股'.format(np.round(sell50pct_share_to_refund,0)), '\\n',\n",
    "         '50%回本后剩余股份数量: {}股'.format(np.round(current_remain_shares_50pct)), '\\n',\n",
    "         '50%回本剩余股份价值: {}镑'.format(np.round(remain_shares_worth_50pct)), '\\n',\n",
    "         '剩余权证数量: {}个'.format(np.round(warrants)), '\\n',\n",
    "         '权证价值: {}镑'.format(remain_warrants_worth), '\\n','\\n',\n",
    "          '50%回本后账户剩余股票和权证总价值: {}镑'.format(total_remain_worth_50pct), '\\n',\n",
    "          \n",
    "         )"
   ]
  },
  {
   "cell_type": "code",
   "execution_count": 8,
   "metadata": {},
   "outputs": [
    {
     "name": "stdout",
     "output_type": "stream",
     "text": [
      "当前回报率:1.4166666666666667\n"
     ]
    }
   ],
   "source": [
    "# 回报率计算\n",
    "x = 5.8\n",
    "print(\"当前回报率:{}\".format((x-2.4)/2.4))"
   ]
  },
  {
   "cell_type": "code",
   "execution_count": 4,
   "metadata": {
    "scrolled": false
   },
   "outputs": [
    {
     "name": "stdout",
     "output_type": "stream",
     "text": [
      "投入的本金: 3000镑   当前价格: 10p    账户总价值: 19000.0镑 \n",
      " \n",
      " ************************************************** \n",
      " \n",
      " 股票初始购入价格: 2.4p \n",
      " 股票初始购入数量: 125000.0股 \n",
      " 权证价格: 4.8p \n",
      " 权证初始拥有数量: 125000.0个 \n",
      " \n",
      " ************************************************** \n",
      " \n",
      " 当前价格: 10p \n",
      " 收回全部本金3000镑需出售的股份: 30000.0股 \n",
      " \n",
      " 剩余股份数量: 95000.0股 \n",
      " 剩余股份价值: 9500.0镑 \n",
      " 剩余权证数量: 125000.0个 \n",
      " 权证价值: 6500.0镑 \n",
      " \n",
      " 账户剩余股票和权证总价值: 16000.0镑 \n",
      " ************************************************** \n",
      " \n",
      " 收回50%本金需出售的股份: 15000.0股 \n",
      " 50%回本后剩余股份数量: 110000.0股 \n",
      " 50%回本剩余股份价值: 11000.0镑 \n",
      " 剩余权证数量: 125000.0个 \n",
      " 权证价值: 6500.0镑 \n",
      " \n",
      " 50%回本后账户剩余股票和权证总价值: 17500.0镑 \n",
      "\n",
      "None\n"
     ]
    }
   ],
   "source": [
    "client_fund = 3000\n",
    "buy_price = 2.4\n",
    "w_price = 4.8\n",
    "current_price = 10\n",
    "print(sell_plan(client_fund, buy_price, w_price, current_price) )\n"
   ]
  },
  {
   "cell_type": "code",
   "execution_count": null,
   "metadata": {},
   "outputs": [],
   "source": []
  },
  {
   "cell_type": "code",
   "execution_count": null,
   "metadata": {},
   "outputs": [],
   "source": []
  },
  {
   "cell_type": "code",
   "execution_count": null,
   "metadata": {},
   "outputs": [],
   "source": []
  },
  {
   "cell_type": "code",
   "execution_count": 5,
   "metadata": {},
   "outputs": [],
   "source": [
    "def sell_plan_forecast(fund, buy_price, w_price, current_price, recover_pct,target1, target2, target3 ):\n",
    "    fund = fund                   #初始资金\n",
    "    share_price = buy_price       #初始买价，单位 pence\n",
    "    warrant_price = w_price       #权证价格\n",
    "    recover_pct = recover_pct     #收回本金的百分比\n",
    "    current_price = current_price #当前价格\n",
    "    \n",
    "    shares = fund*100 / share_price  # 初始购买股票数量\n",
    "    warrants = shares           # 初始拥有权证数量\n",
    "#  --------------------------------------------------------------------------------   \n",
    "#     current_fund = current_price * shares # 当前账户价值\n",
    "    \n",
    "    sell_share_to_refund = fund*recover_pct*100 / current_price # 卖出股份数量，先卖出回本部分资金：这里是 recover_pct% 卖出比率\n",
    "    \n",
    "    current_remain_shares = shares - sell_share_to_refund # 当前剩余股票数量\n",
    "    \n",
    "    remain_shares_worth = np.round(current_remain_shares*current_price/100) # 剩余股票当前价值\n",
    "    \n",
    "    warrant_in_money = [0 if current_price<=warrant_price else current_price-warrant_price][0] # 权证当前是否有价值\n",
    "    \n",
    "    remain_warrants_worth = np.round(shares*warrant_in_money/100) # 权证当前价值\n",
    "    \n",
    "    total_remain_worth = np.round(shares*warrant_in_money +current_remain_shares*current_price )/100 # 所有剩余价值\n",
    "    \n",
    "    total_worth_account = total_remain_worth + fund*recover_pct # \n",
    "# ----------------------------\n",
    "    post_warrant_in_money = [0 if target1<=warrant_price else target1-warrant_price][0]\n",
    "    post_sell_remain_worth = np.round(shares*post_warrant_in_money +current_remain_shares*target1 )/100\n",
    "    \n",
    "#     -----------------------------\n",
    "\n",
    "    pre_post_total_worth = post_sell_remain_worth + fund*recover_pct\n",
    "    \n",
    "    print('投入的本金: {}镑   当前价格: {}p'.format(np.round(fund), current_price),'\\n','\\n',\n",
    "          \n",
    "          '账户总价值: {}镑    当前投资回报率:{}'.format(total_worth_account, (total_worth_account-fund)/fund),'\\n','\\n',\n",
    "          '*'*50 ,'\\n','\\n',\n",
    "          \n",
    "          '股票初始购入价格: {}p'.format(share_price),'\\n',\n",
    "          '股票初始购入数量: {}股'.format(np.round(shares)),'\\n',\n",
    "          '权证价格: {}p'.format(warrant_price),'\\n',\n",
    "          '权证初始拥有数量: {}个'.format(np.round(warrants)),'\\n','\\n',\n",
    "          '*'*50 ,'\\n','\\n',\n",
    "          '当前价格: {}p'.format(current_price),'\\n',\n",
    "          \n",
    "          '收回资金{}镑需出售的股份: {}股'.format(fund*recover_pct, np.round(sell_share_to_refund,0)), '\\n','\\n',\n",
    "          '剩余股份数量: {}股'.format(np.round(current_remain_shares)), '\\n',\n",
    "         '剩余股份价值: {}镑'.format(np.round(remain_shares_worth)), '\\n','\\n',\n",
    "          '剩余权证数量: {}个'.format(np.round(warrants)), '\\n',\n",
    "         '权证价值: {}镑'.format(remain_warrants_worth), '\\n','\\n',\n",
    "         '账户剩余股票和权证总价值: {}镑'.format(total_remain_worth), '\\n',\n",
    "         '*'*50 ,'\\n','\\n',\n",
    "          '*'*50 ,'\\n','\\n',\n",
    "         '假设第一次卖出部分回本{}镑之后, 股价上升到{}p'.format(fund*recover_pct, target1),'\\n',\n",
    "         '剩余股份数量: {}股'.format(np.round(current_remain_shares)), '\\n',\n",
    "         '剩余权证数量: {}个'.format(np.round(warrants)), '\\n','\\n',\n",
    "         '卖过一次后，剩余股票权证在target下的价值：{}镑'.format(post_sell_remain_worth),'\\n','\\n',\n",
    "         '加上前次的卖出回款，两次操作总收益：{}镑'.format(pre_post_total_worth),'\\n','\\n',\n",
    "         '两次操作的总投资回报率：{}'.format((pre_post_total_worth-fund)/fund))"
   ]
  },
  {
   "cell_type": "code",
   "execution_count": 6,
   "metadata": {},
   "outputs": [
    {
     "name": "stdout",
     "output_type": "stream",
     "text": [
      "投入的本金: 1000镑   当前价格: 5.8p \n",
      " \n",
      " 账户总价值: 2833.33镑    当前投资回报率:1.83333 \n",
      " \n",
      " ************************************************** \n",
      " \n",
      " 股票初始购入价格: 2.4p \n",
      " 股票初始购入数量: 41667.0股 \n",
      " 权证价格: 4.8p \n",
      " 权证初始拥有数量: 41667.0个 \n",
      " \n",
      " ************************************************** \n",
      " \n",
      " 当前价格: 5.8p \n",
      " 收回资金0.0镑需出售的股份: 0.0股 \n",
      " \n",
      " 剩余股份数量: 41667.0股 \n",
      " 剩余股份价值: 2417.0镑 \n",
      " \n",
      " 剩余权证数量: 41667.0个 \n",
      " 权证价值: 417.0镑 \n",
      " \n",
      " 账户剩余股票和权证总价值: 2833.33镑 \n",
      " ************************************************** \n",
      " \n",
      " ************************************************** \n",
      " \n",
      " 假设第一次卖出部分回本0.0镑之后, 股价上升到10p \n",
      " 剩余股份数量: 41667.0股 \n",
      " 剩余权证数量: 41667.0个 \n",
      " \n",
      " 卖过一次后，剩余股票权证在target下的价值：6333.33镑 \n",
      " \n",
      " 加上前次的卖出回款，两次操作总收益：6333.33镑 \n",
      " \n",
      " 两次操作的总投资回报率：5.33333\n"
     ]
    }
   ],
   "source": [
    "client_fund = 1000\n",
    "buy_price = 2.4\n",
    "w_price = 4.8\n",
    "# -------------------------------------\n",
    "current_price = 5.8   # 当前价格\n",
    "recover_amount = 0 # 回收本金，单位：镑\n",
    "recover_pct = (recover_amount / client_fund)\n",
    "target1 = 10         # 未来价格\n",
    "sell_plan_forecast(client_fund, buy_price, w_price, current_price, recover_pct, target1,0,0)"
   ]
  },
  {
   "cell_type": "code",
   "execution_count": null,
   "metadata": {},
   "outputs": [],
   "source": []
  },
  {
   "cell_type": "code",
   "execution_count": null,
   "metadata": {},
   "outputs": [],
   "source": []
  },
  {
   "cell_type": "code",
   "execution_count": null,
   "metadata": {},
   "outputs": [],
   "source": []
  }
 ],
 "metadata": {
  "kernelspec": {
   "display_name": "Python 3",
   "language": "python",
   "name": "python3"
  },
  "language_info": {
   "codemirror_mode": {
    "name": "ipython",
    "version": 3
   },
   "file_extension": ".py",
   "mimetype": "text/x-python",
   "name": "python",
   "nbconvert_exporter": "python",
   "pygments_lexer": "ipython3",
   "version": "3.8.3"
  }
 },
 "nbformat": 4,
 "nbformat_minor": 4
}
