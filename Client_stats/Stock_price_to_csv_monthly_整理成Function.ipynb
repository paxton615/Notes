{
 "cells": [
  {
   "cell_type": "code",
   "execution_count": 1,
   "metadata": {},
   "outputs": [],
   "source": [
    "import pandas as pd\n",
    "import datetime as dt\n",
    "from datetime import datetime\n",
    "from datetime import date\n",
    "import matplotlib.pyplot as plt\n",
    "import re\n",
    "import requests\n",
    "pd.options.display.max_rows = 5000 "
   ]
  },
  {
   "cell_type": "code",
   "execution_count": 18,
   "metadata": {},
   "outputs": [],
   "source": [
    "def web_to_csv(ticker):\n",
    "    \n",
    "    url = 'https://www.alphavantage.co/query?function=TIME_SERIES_DAILY_ADJUSTED&symbol={}.LON&outputsize=full&apikey=EUWPYIBX33PPD5U5'.format(ticker)\n",
    "    r = requests.get(url)\n",
    "    data = r.json()\n",
    "    \n",
    "    dates = list(data['Time Series (Daily)'].keys())\n",
    "    \n",
    "    close = []\n",
    "    for i in range(0, len(dates)):\n",
    "        close.append(float(list(data['Time Series (Daily)'].items())[i][1]['4. close']))\n",
    "        \n",
    "    volume = []\n",
    "    for i in range(0, len(dates)):\n",
    "        volume.append(float(list(data['Time Series (Daily)'].items())[i][1]['6. volume']))\n",
    "        \n",
    "    df = pd.DataFrame({'dates':dates, 'close':close, 'volume':volume})\n",
    "    \n",
    "    df.to_csv(r'/Users/paxton615/Desktop/{}.csv'.format(ticker))\n"
   ]
  },
  {
   "cell_type": "markdown",
   "metadata": {},
   "source": [
    "- 最新的stock price data将存于桌面上"
   ]
  },
  {
   "cell_type": "code",
   "execution_count": 19,
   "metadata": {},
   "outputs": [],
   "source": [
    "web_to_csv('cobr')"
   ]
  },
  {
   "cell_type": "code",
   "execution_count": 21,
   "metadata": {},
   "outputs": [],
   "source": [
    "web_to_csv('palm')"
   ]
  },
  {
   "cell_type": "code",
   "execution_count": 22,
   "metadata": {},
   "outputs": [],
   "source": [
    "web_to_csv('amte')"
   ]
  },
  {
   "cell_type": "code",
   "execution_count": 23,
   "metadata": {},
   "outputs": [],
   "source": [
    "web_to_csv('ecr')"
   ]
  },
  {
   "cell_type": "code",
   "execution_count": 24,
   "metadata": {},
   "outputs": [],
   "source": [
    "web_to_csv('kat')"
   ]
  },
  {
   "cell_type": "code",
   "execution_count": 25,
   "metadata": {},
   "outputs": [],
   "source": [
    "web_to_csv('irr')"
   ]
  },
  {
   "cell_type": "code",
   "execution_count": 26,
   "metadata": {},
   "outputs": [],
   "source": [
    "web_to_csv('mnrg')"
   ]
  },
  {
   "cell_type": "code",
   "execution_count": 27,
   "metadata": {},
   "outputs": [],
   "source": [
    "web_to_csv('ccz')"
   ]
  },
  {
   "cell_type": "code",
   "execution_count": 28,
   "metadata": {},
   "outputs": [],
   "source": [
    "web_to_csv('imm')"
   ]
  },
  {
   "cell_type": "code",
   "execution_count": 29,
   "metadata": {},
   "outputs": [],
   "source": [
    "web_to_csv('avo')"
   ]
  },
  {
   "cell_type": "code",
   "execution_count": null,
   "metadata": {},
   "outputs": [],
   "source": [
    "web_to_csv('pre') # not success"
   ]
  },
  {
   "cell_type": "code",
   "execution_count": 31,
   "metadata": {},
   "outputs": [],
   "source": [
    "web_to_csv('cgh')"
   ]
  },
  {
   "cell_type": "code",
   "execution_count": 32,
   "metadata": {},
   "outputs": [],
   "source": [
    "web_to_csv('knb')"
   ]
  },
  {
   "cell_type": "code",
   "execution_count": 33,
   "metadata": {},
   "outputs": [],
   "source": [
    "web_to_csv('thr')"
   ]
  },
  {
   "cell_type": "code",
   "execution_count": 34,
   "metadata": {},
   "outputs": [],
   "source": [
    "web_to_csv('kav')"
   ]
  },
  {
   "cell_type": "code",
   "execution_count": 35,
   "metadata": {},
   "outputs": [],
   "source": [
    "web_to_csv('acp')"
   ]
  },
  {
   "cell_type": "code",
   "execution_count": null,
   "metadata": {},
   "outputs": [],
   "source": []
  },
  {
   "cell_type": "code",
   "execution_count": null,
   "metadata": {},
   "outputs": [],
   "source": []
  },
  {
   "cell_type": "markdown",
   "metadata": {},
   "source": [
    "- 分解步骤，上面的function据此写成"
   ]
  },
  {
   "cell_type": "code",
   "execution_count": 20,
   "metadata": {},
   "outputs": [],
   "source": [
    "# url = 'https://www.alphavantage.co/query?function=TIME_SERIES_DAILY_ADJUSTED&symbol=COBR.LON&outputsize=full&apikey=EUWPYIBX33PPD5U5'\n",
    "# r = requests.get(url)\n",
    "# data = r.json()\n",
    "# print(data)\n",
    "\n",
    "# - data数据是一个大字典，只需要层层引用，加上.key()和.items()就能得到相应数据。不需要regex\n",
    "\n",
    "# dates = list(data['Time Series (Daily)'].keys())\n",
    "# len(dates)\n",
    "\n",
    "# close = []\n",
    "# for i in range(0, len(dates)):\n",
    "#     close.append(float(list(data['Time Series (Daily)'].items())[i][1]['4. close']))\n",
    "# print(len(close))\n",
    "\n",
    "# volume = []\n",
    "# for i in range(0, len(dates)):\n",
    "#     volume.append(float(list(data['Time Series (Daily)'].items())[i][1]['6. volume']))\n",
    "# print(len(volume))\n",
    "\n",
    "# cobr = pd.DataFrame({'cobr_dates':dates, 'cobr_close':close, 'cobr_volume':volume})\n",
    "# cobr[:5]\n",
    "\n",
    "# fig = plt.figure(figsize=(18,6))\n",
    "# ax1 = fig.add_subplot(1,2,1)\n",
    "# ax2 = fig.add_subplot(1,2,2)\n",
    "# ax1.plot(cobr.index, cobr.cobr_close)\n",
    "# ax2.plot(cobr.index, cobr.cobr_volume)\n",
    "# plt.show()\n",
    "\n",
    "\n",
    "# from datetime import date\n",
    "# today = str(date.today())\n",
    "# print(today)  \n",
    "\n",
    "# # cobr.to_csv(r'/Users/paxton615/Desktop/cobr_{}.csv'.format(str(date.today())))\n",
    "# cobr.to_csv(r'/Users/paxton615/Desktop/cobr.csv')\n"
   ]
  },
  {
   "cell_type": "code",
   "execution_count": null,
   "metadata": {},
   "outputs": [],
   "source": []
  },
  {
   "cell_type": "code",
   "execution_count": null,
   "metadata": {},
   "outputs": [],
   "source": []
  },
  {
   "cell_type": "code",
   "execution_count": null,
   "metadata": {},
   "outputs": [],
   "source": []
  },
  {
   "cell_type": "code",
   "execution_count": null,
   "metadata": {},
   "outputs": [],
   "source": []
  },
  {
   "cell_type": "code",
   "execution_count": null,
   "metadata": {},
   "outputs": [],
   "source": []
  },
  {
   "cell_type": "code",
   "execution_count": null,
   "metadata": {},
   "outputs": [],
   "source": []
  }
 ],
 "metadata": {
  "kernelspec": {
   "display_name": "Python 3",
   "language": "python",
   "name": "python3"
  },
  "language_info": {
   "codemirror_mode": {
    "name": "ipython",
    "version": 3
   },
   "file_extension": ".py",
   "mimetype": "text/x-python",
   "name": "python",
   "nbconvert_exporter": "python",
   "pygments_lexer": "ipython3",
   "version": "3.8.3"
  }
 },
 "nbformat": 4,
 "nbformat_minor": 4
}
