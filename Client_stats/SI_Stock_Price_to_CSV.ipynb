{
 "cells": [
  {
   "cell_type": "code",
   "execution_count": 1,
   "metadata": {},
   "outputs": [],
   "source": [
    "import pandas as pd\n",
    "import datetime as dt\n",
    "from datetime import datetime\n",
    "from datetime import date\n",
    "import matplotlib.pyplot as plt\n",
    "import re\n",
    "import requests\n",
    "pd.options.display.max_rows = 5000 "
   ]
  },
  {
   "cell_type": "code",
   "execution_count": 2,
   "metadata": {},
   "outputs": [],
   "source": [
    "tickers = ['MILA','SPAQ','PRE','CCZ','COIN','IRR','MNRG','AMTE','CGH','KNB','AVO','KAT','PALM','KAV','THR','IMM','COBR','ECR','INC','ACP','GGP']"
   ]
  },
  {
   "cell_type": "code",
   "execution_count": 3,
   "metadata": {},
   "outputs": [
    {
     "name": "stdout",
     "output_type": "stream",
     "text": [
      "0 MILA\n",
      "1 SPAQ\n",
      "2 PRE\n",
      "3 CCZ\n",
      "4 COIN\n",
      "5 IRR\n",
      "6 MNRG\n",
      "7 AMTE\n",
      "8 CGH\n",
      "9 KNB\n",
      "10 AVO\n",
      "11 KAT\n",
      "12 PALM\n",
      "13 KAV\n",
      "14 THR\n",
      "15 IMM\n",
      "16 COBR\n",
      "17 ECR\n",
      "18 INC\n",
      "19 ACP\n",
      "20 GGP\n"
     ]
    }
   ],
   "source": [
    "num_tickers = enumerate(tickers)\n",
    "for num, val in num_tickers:\n",
    "    print(num, val)"
   ]
  },
  {
   "cell_type": "markdown",
   "metadata": {},
   "source": [
    "#### Pensana : pre.l"
   ]
  },
  {
   "cell_type": "code",
   "execution_count": 4,
   "metadata": {},
   "outputs": [
    {
     "name": "stdout",
     "output_type": "stream",
     "text": [
      "    pre_dates  pre_close  pre_volume\n",
      "0  2021-10-13       85.0    449520.0\n",
      "1  2021-10-12       79.6    264930.0\n",
      "2  2021-10-11       77.0    325769.0\n",
      "3  2021-10-08       74.4    286946.0\n",
      "4  2021-10-07       71.2    598467.0\n",
      "324\n"
     ]
    }
   ],
   "source": [
    "data = []\n",
    "url = 'https://www.alphavantage.co/query?function=TIME_SERIES_DAILY_ADJUSTED&symbol=pre.LON&outputsize=full&apikey=EUWPYIBX33PPD5U5'\n",
    "r = requests.get(url)\n",
    "data.append(r.json())\n",
    "\n",
    "# ----------------------------------\n",
    "\n",
    "dates = list(data[0]['Time Series (Daily)'].keys())\n",
    "\n",
    "close = []\n",
    "for i in range(0, len(dates)):\n",
    "    close.append(float(list(data[0]['Time Series (Daily)'].items())[i][1]['4. close']))\n",
    "    \n",
    "volume = []\n",
    "for i in range(0, len(dates)):\n",
    "    volume.append(float(list(data[0]['Time Series (Daily)'].items())[i][1]['6. volume']))\n",
    "\n",
    "pre = pd.DataFrame({'pre_dates':dates, 'pre_close':close, 'pre_volume':volume})\n",
    "print(pre[:5])\n",
    "print(len(pre.pre_close))\n",
    "\n",
    "pre.to_csv(r'/Users/paxton615/Desktop/pre-{}.csv'.format(str(date.today())[:7]))"
   ]
  },
  {
   "cell_type": "markdown",
   "metadata": {},
   "source": [
    "#### Castillo: ccz.l"
   ]
  },
  {
   "cell_type": "code",
   "execution_count": 5,
   "metadata": {},
   "outputs": [
    {
     "name": "stdout",
     "output_type": "stream",
     "text": [
      "    ccz_dates  ccz_close  ccz_volume\n",
      "0  2021-10-13      1.775    304408.0\n",
      "1  2021-10-12      1.750    801142.0\n",
      "2  2021-10-11      1.775   1333535.0\n",
      "3  2021-10-08      1.750   1401087.0\n",
      "4  2021-10-07      1.650   6435253.0\n",
      "303\n"
     ]
    }
   ],
   "source": [
    "data = []\n",
    "url = 'https://www.alphavantage.co/query?function=TIME_SERIES_DAILY_ADJUSTED&symbol=ccz.LON&outputsize=full&apikey=EUWPYIBX33PPD5U5'\n",
    "r = requests.get(url)\n",
    "data.append(r.json())\n",
    "\n",
    "# ----------------------------------\n",
    "\n",
    "dates = list(data[0]['Time Series (Daily)'].keys())\n",
    "\n",
    "close = []\n",
    "for i in range(0, len(dates)):\n",
    "    close.append(float(list(data[0]['Time Series (Daily)'].items())[i][1]['4. close']))\n",
    "    \n",
    "volume = []\n",
    "for i in range(0, len(dates)):\n",
    "    volume.append(float(list(data[0]['Time Series (Daily)'].items())[i][1]['6. volume']))\n",
    "\n",
    "ccz = pd.DataFrame({'ccz_dates':dates, 'ccz_close':close, 'ccz_volume':volume})\n",
    "print(ccz[:5])\n",
    "print(len(ccz.ccz_close))\n",
    "\n",
    "ccz.to_csv(r'/Users/paxton615/Desktop/ccz-{}.csv'.format(str(date.today())[:7]))"
   ]
  },
  {
   "cell_type": "markdown",
   "metadata": {},
   "source": [
    "irr"
   ]
  },
  {
   "cell_type": "code",
   "execution_count": 6,
   "metadata": {},
   "outputs": [
    {
     "name": "stdout",
     "output_type": "stream",
     "text": [
      "    irr_dates  irr_close  irr_volume\n",
      "0  2021-10-13      18.25   1496914.0\n",
      "1  2021-10-12      18.60   1950393.0\n",
      "2  2021-10-11      19.25   2891095.0\n",
      "3  2021-10-08      18.00   2023913.0\n",
      "4  2021-10-07      18.00   4937550.0\n",
      "1685\n"
     ]
    }
   ],
   "source": [
    "data = []\n",
    "url = 'https://www.alphavantage.co/query?function=TIME_SERIES_DAILY_ADJUSTED&symbol=irr.LON&outputsize=full&apikey=EUWPYIBX33PPD5U5'\n",
    "r = requests.get(url)\n",
    "data.append(r.json())\n",
    "\n",
    "# ----------------------------------\n",
    "\n",
    "dates = list(data[0]['Time Series (Daily)'].keys())\n",
    "\n",
    "close = []\n",
    "for i in range(0, len(dates)):\n",
    "    close.append(float(list(data[0]['Time Series (Daily)'].items())[i][1]['4. close']))\n",
    "    \n",
    "volume = []\n",
    "for i in range(0, len(dates)):\n",
    "    volume.append(float(list(data[0]['Time Series (Daily)'].items())[i][1]['6. volume']))\n",
    "\n",
    "irr = pd.DataFrame({'irr_dates':dates, 'irr_close':close, 'irr_volume':volume})\n",
    "print(irr[:5])\n",
    "print(len(irr.irr_close))\n",
    "\n",
    "irr.to_csv(r'/Users/paxton615/Desktop/irr-{}.csv'.format(str(date.today())[:7]))"
   ]
  },
  {
   "cell_type": "markdown",
   "metadata": {},
   "source": [
    "mnrg"
   ]
  },
  {
   "cell_type": "code",
   "execution_count": 7,
   "metadata": {},
   "outputs": [
    {
     "name": "stdout",
     "output_type": "stream",
     "text": [
      "    ccz_dates  ccz_close  ccz_volume\n",
      "0  2021-10-13      1.775    304408.0\n",
      "1  2021-10-12      1.750    801142.0\n",
      "2  2021-10-11      1.775   1333535.0\n",
      "3  2021-10-08      1.750   1401087.0\n",
      "4  2021-10-07      1.650   6435253.0\n",
      "303\n"
     ]
    }
   ],
   "source": [
    "data = []\n",
    "url = 'https://www.alphavantage.co/query?function=TIME_SERIES_DAILY_ADJUSTED&symbol=ccz.LON&outputsize=full&apikey=EUWPYIBX33PPD5U5'\n",
    "r = requests.get(url)\n",
    "data.append(r.json())\n",
    "\n",
    "# ----------------------------------\n",
    "\n",
    "dates = list(data[0]['Time Series (Daily)'].keys())\n",
    "\n",
    "close = []\n",
    "for i in range(0, len(dates)):\n",
    "    close.append(float(list(data[0]['Time Series (Daily)'].items())[i][1]['4. close']))\n",
    "    \n",
    "volume = []\n",
    "for i in range(0, len(dates)):\n",
    "    volume.append(float(list(data[0]['Time Series (Daily)'].items())[i][1]['6. volume']))\n",
    "\n",
    "ccz = pd.DataFrame({'ccz_dates':dates, 'ccz_close':close, 'ccz_volume':volume})\n",
    "print(ccz[:5])\n",
    "print(len(ccz.ccz_close))\n",
    "\n",
    "ccz.to_csv(r'/Users/paxton615/Desktop/ccz-{}.csv'.format(str(date.today())[:7]))"
   ]
  },
  {
   "cell_type": "markdown",
   "metadata": {},
   "source": [
    "amte"
   ]
  },
  {
   "cell_type": "code",
   "execution_count": 8,
   "metadata": {},
   "outputs": [
    {
     "name": "stdout",
     "output_type": "stream",
     "text": [
      "   amte_dates  amte_close  amte_volume\n",
      "0  2021-10-13       187.5       7406.0\n",
      "1  2021-10-12       187.5      13009.0\n",
      "2  2021-10-11       189.0      29662.0\n",
      "3  2021-10-08       191.0      34334.0\n",
      "4  2021-10-07       191.0      76961.0\n",
      "149\n"
     ]
    }
   ],
   "source": [
    "data = []\n",
    "url = 'https://www.alphavantage.co/query?function=TIME_SERIES_DAILY_ADJUSTED&symbol=amte.LON&outputsize=full&apikey=EUWPYIBX33PPD5U5'\n",
    "r = requests.get(url)\n",
    "data.append(r.json())\n",
    "\n",
    "# ----------------------------------\n",
    "\n",
    "dates = list(data[0]['Time Series (Daily)'].keys())\n",
    "\n",
    "close = []\n",
    "for i in range(0, len(dates)):\n",
    "    close.append(float(list(data[0]['Time Series (Daily)'].items())[i][1]['4. close']))\n",
    "    \n",
    "volume = []\n",
    "for i in range(0, len(dates)):\n",
    "    volume.append(float(list(data[0]['Time Series (Daily)'].items())[i][1]['6. volume']))\n",
    "\n",
    "amte = pd.DataFrame({'amte_dates':dates, 'amte_close':close, 'amte_volume':volume})\n",
    "print(amte[:5])\n",
    "print(len(amte.amte_close))\n",
    "\n",
    "amte.to_csv(r'/Users/paxton615/Desktop/amte-{}.csv'.format(str(date.today())[:7]))"
   ]
  },
  {
   "cell_type": "markdown",
   "metadata": {},
   "source": [
    "cgh"
   ]
  },
  {
   "cell_type": "code",
   "execution_count": 10,
   "metadata": {},
   "outputs": [
    {
     "name": "stdout",
     "output_type": "stream",
     "text": [
      "    cgh_dates  cgh_close  cgh_volume\n",
      "0  2021-10-13    22.7512     43640.0\n",
      "1  2021-10-12    22.5000    112773.0\n",
      "2  2021-10-11    24.0000     32649.0\n",
      "3  2021-10-08    23.3000     88304.0\n",
      "4  2021-10-07    23.5000    154216.0\n",
      "3085\n"
     ]
    }
   ],
   "source": [
    "data = []\n",
    "url = 'https://www.alphavantage.co/query?function=TIME_SERIES_DAILY_ADJUSTED&symbol=cgh.LON&outputsize=full&apikey=EUWPYIBX33PPD5U5'\n",
    "r = requests.get(url)\n",
    "data.append(r.json())\n",
    "\n",
    "# ----------------------------------\n",
    "\n",
    "dates = list(data[0]['Time Series (Daily)'].keys())\n",
    "\n",
    "close = []\n",
    "for i in range(0, len(dates)):\n",
    "    close.append(float(list(data[0]['Time Series (Daily)'].items())[i][1]['4. close']))\n",
    "    \n",
    "volume = []\n",
    "for i in range(0, len(dates)):\n",
    "    volume.append(float(list(data[0]['Time Series (Daily)'].items())[i][1]['6. volume']))\n",
    "\n",
    "cgh = pd.DataFrame({'cgh_dates':dates, 'cgh_close':close, 'cgh_volume':volume})\n",
    "print(cgh[:5])\n",
    "print(len(cgh.cgh_close))\n",
    "\n",
    "cgh.to_csv(r'/Users/paxton615/Desktop/cgh-{}.csv'.format(str(date.today())[:7]))"
   ]
  },
  {
   "cell_type": "markdown",
   "metadata": {},
   "source": [
    "knb"
   ]
  },
  {
   "cell_type": "code",
   "execution_count": 11,
   "metadata": {},
   "outputs": [
    {
     "name": "stdout",
     "output_type": "stream",
     "text": [
      "    knb_dates  knb_close  knb_volume\n",
      "0  2021-10-13       16.5    219043.0\n",
      "1  2021-10-12       16.5    301315.0\n",
      "2  2021-10-11       16.4    443020.0\n",
      "3  2021-10-08       16.4    339339.0\n",
      "4  2021-10-07       16.5    630392.0\n",
      "618\n"
     ]
    }
   ],
   "source": [
    "data = []\n",
    "url = 'https://www.alphavantage.co/query?function=TIME_SERIES_DAILY_ADJUSTED&symbol=knb.LON&outputsize=full&apikey=EUWPYIBX33PPD5U5'\n",
    "r = requests.get(url)\n",
    "data.append(r.json())\n",
    "\n",
    "# ----------------------------------\n",
    "\n",
    "dates = list(data[0]['Time Series (Daily)'].keys())\n",
    "\n",
    "close = []\n",
    "for i in range(0, len(dates)):\n",
    "    close.append(float(list(data[0]['Time Series (Daily)'].items())[i][1]['4. close']))\n",
    "    \n",
    "volume = []\n",
    "for i in range(0, len(dates)):\n",
    "    volume.append(float(list(data[0]['Time Series (Daily)'].items())[i][1]['6. volume']))\n",
    "\n",
    "knb = pd.DataFrame({'knb_dates':dates, 'knb_close':close, 'knb_volume':volume})\n",
    "print(knb[:5])\n",
    "print(len(knb.knb_close))\n",
    "\n",
    "knb.to_csv(r'/Users/paxton615/Desktop/knb-{}.csv'.format(str(date.today())[:7]))"
   ]
  },
  {
   "cell_type": "markdown",
   "metadata": {},
   "source": [
    "avo"
   ]
  },
  {
   "cell_type": "code",
   "execution_count": 12,
   "metadata": {},
   "outputs": [
    {
     "name": "stdout",
     "output_type": "stream",
     "text": [
      "    avo_dates  avo_close  avo_volume\n",
      "0  2021-10-13       38.0    228385.0\n",
      "1  2021-10-12       38.0    138829.0\n",
      "2  2021-10-11       38.0     80131.0\n",
      "3  2021-10-08       38.0    346380.0\n",
      "4  2021-10-07       37.0    218038.0\n",
      "3365\n"
     ]
    }
   ],
   "source": [
    "data = []\n",
    "url = 'https://www.alphavantage.co/query?function=TIME_SERIES_DAILY_ADJUSTED&symbol=avo.LON&outputsize=full&apikey=EUWPYIBX33PPD5U5'\n",
    "r = requests.get(url)\n",
    "data.append(r.json())\n",
    "\n",
    "# ----------------------------------\n",
    "\n",
    "dates = list(data[0]['Time Series (Daily)'].keys())\n",
    "\n",
    "close = []\n",
    "for i in range(0, len(dates)):\n",
    "    close.append(float(list(data[0]['Time Series (Daily)'].items())[i][1]['4. close']))\n",
    "    \n",
    "volume = []\n",
    "for i in range(0, len(dates)):\n",
    "    volume.append(float(list(data[0]['Time Series (Daily)'].items())[i][1]['6. volume']))\n",
    "\n",
    "avo = pd.DataFrame({'avo_dates':dates, 'avo_close':close, 'avo_volume':volume})\n",
    "print(avo[:5])\n",
    "print(len(avo.avo_close))\n",
    "\n",
    "avo.to_csv(r'/Users/paxton615/Desktop/avo-{}.csv'.format(str(date.today())[:7]))"
   ]
  },
  {
   "cell_type": "markdown",
   "metadata": {},
   "source": [
    "kat"
   ]
  },
  {
   "cell_type": "code",
   "execution_count": 13,
   "metadata": {},
   "outputs": [
    {
     "name": "stdout",
     "output_type": "stream",
     "text": [
      "    kat_dates  kat_close  kat_volume\n",
      "0  2021-10-13     0.8899    402785.0\n",
      "1  2021-10-12     0.8750    797768.0\n",
      "2  2021-10-11     0.8600    110000.0\n",
      "3  2021-10-08     0.8750     67632.0\n",
      "4  2021-10-07     0.8750    203359.0\n",
      "1252\n"
     ]
    }
   ],
   "source": [
    "data = []\n",
    "url = 'https://www.alphavantage.co/query?function=TIME_SERIES_DAILY_ADJUSTED&symbol=kat.LON&outputsize=full&apikey=EUWPYIBX33PPD5U5'\n",
    "r = requests.get(url)\n",
    "data.append(r.json())\n",
    "\n",
    "# ----------------------------------\n",
    "\n",
    "dates = list(data[0]['Time Series (Daily)'].keys())\n",
    "\n",
    "close = []\n",
    "for i in range(0, len(dates)):\n",
    "    close.append(float(list(data[0]['Time Series (Daily)'].items())[i][1]['4. close']))\n",
    "    \n",
    "volume = []\n",
    "for i in range(0, len(dates)):\n",
    "    volume.append(float(list(data[0]['Time Series (Daily)'].items())[i][1]['6. volume']))\n",
    "\n",
    "kat = pd.DataFrame({'kat_dates':dates, 'kat_close':close, 'kat_volume':volume})\n",
    "print(kat[:5])\n",
    "print(len(kat.kat_close))\n",
    "\n",
    "kat.to_csv(r'/Users/paxton615/Desktop/kat-{}.csv'.format(str(date.today())[:7]))"
   ]
  },
  {
   "cell_type": "markdown",
   "metadata": {},
   "source": [
    "palm"
   ]
  },
  {
   "cell_type": "code",
   "execution_count": 14,
   "metadata": {},
   "outputs": [
    {
     "name": "stdout",
     "output_type": "stream",
     "text": [
      "   palm_dates  palm_close  palm_volume\n",
      "0  2021-10-13      13.750     315320.0\n",
      "1  2021-10-12      14.375     410490.0\n",
      "2  2021-10-11      13.750     626932.0\n",
      "3  2021-10-08      13.500     755855.0\n",
      "4  2021-10-07      14.000     142268.0\n",
      "447\n"
     ]
    }
   ],
   "source": [
    "data = []\n",
    "url = 'https://www.alphavantage.co/query?function=TIME_SERIES_DAILY_ADJUSTED&symbol=palm.LON&outputsize=full&apikey=EUWPYIBX33PPD5U5'\n",
    "r = requests.get(url)\n",
    "data.append(r.json())\n",
    "\n",
    "# ----------------------------------\n",
    "\n",
    "dates = list(data[0]['Time Series (Daily)'].keys())\n",
    "\n",
    "close = []\n",
    "for i in range(0, len(dates)):\n",
    "    close.append(float(list(data[0]['Time Series (Daily)'].items())[i][1]['4. close']))\n",
    "    \n",
    "volume = []\n",
    "for i in range(0, len(dates)):\n",
    "    volume.append(float(list(data[0]['Time Series (Daily)'].items())[i][1]['6. volume']))\n",
    "\n",
    "palm = pd.DataFrame({'palm_dates':dates, 'palm_close':close, 'palm_volume':volume})\n",
    "print(palm[:5])\n",
    "print(len(palm.palm_close))\n",
    "\n",
    "palm.to_csv(r'/Users/paxton615/Desktop/palm-{}.csv'.format(str(date.today())[:7]))"
   ]
  },
  {
   "cell_type": "markdown",
   "metadata": {},
   "source": [
    "kav"
   ]
  },
  {
   "cell_type": "code",
   "execution_count": 16,
   "metadata": {},
   "outputs": [
    {
     "name": "stdout",
     "output_type": "stream",
     "text": [
      "    kav_dates  kav_close  kav_volume\n",
      "0  2021-10-13       5.35   1085772.0\n",
      "1  2021-10-12       5.40    779137.0\n",
      "2  2021-10-11       5.45    339218.0\n",
      "3  2021-10-08       5.55    391552.0\n",
      "4  2021-10-07       5.55    961864.0\n",
      "811\n"
     ]
    }
   ],
   "source": [
    "data = []\n",
    "url = 'https://www.alphavantage.co/query?function=TIME_SERIES_DAILY_ADJUSTED&symbol=kav.LON&outputsize=full&apikey=EUWPYIBX33PPD5U5'\n",
    "r = requests.get(url)\n",
    "data.append(r.json())\n",
    "\n",
    "# ----------------------------------\n",
    "\n",
    "dates = list(data[0]['Time Series (Daily)'].keys())\n",
    "\n",
    "close = []\n",
    "for i in range(0, len(dates)):\n",
    "    close.append(float(list(data[0]['Time Series (Daily)'].items())[i][1]['4. close']))\n",
    "    \n",
    "volume = []\n",
    "for i in range(0, len(dates)):\n",
    "    volume.append(float(list(data[0]['Time Series (Daily)'].items())[i][1]['6. volume']))\n",
    "\n",
    "kav = pd.DataFrame({'kav_dates':dates, 'kav_close':close, 'kav_volume':volume})\n",
    "print(kav[:5])\n",
    "print(len(kav.kav_close))\n",
    "\n",
    "kav.to_csv(r'/Users/paxton615/Desktop/kav-{}.csv'.format(str(date.today())[:7]))"
   ]
  },
  {
   "cell_type": "markdown",
   "metadata": {},
   "source": [
    "thr （Australia）"
   ]
  },
  {
   "cell_type": "code",
   "execution_count": 17,
   "metadata": {},
   "outputs": [],
   "source": [
    "# data = []\n",
    "# url = 'https://www.alphavantage.co/query?function=TIME_SERIES_DAILY_ADJUSTED&symbol=thr.LON&outputsize=full&apikey=EUWPYIBX33PPD5U5'.format(i)\n",
    "# r = requests.get(url)\n",
    "# data.append(r.json())\n",
    "\n",
    "# # ----------------------------------\n",
    "\n",
    "# dates = list(data[0]['Time Series (Daily)'].keys())\n",
    "\n",
    "# close = []\n",
    "# for i in range(0, len(dates)):\n",
    "#     close.append(float(list(data[0]['Time Series (Daily)'].items())[i][1]['4. close']))\n",
    "    \n",
    "# volume = []\n",
    "# for i in range(0, len(dates)):\n",
    "#     volume.append(float(list(data[0]['Time Series (Daily)'].items())[i][1]['6. volume']))\n",
    "\n",
    "# thr = pd.DataFrame({'thr_dates':dates, 'thr_close':close, 'thr_volume':volume})\n",
    "# print(thr[:5])\n",
    "# print(len(thr.thr_close))\n",
    "\n",
    "# thr.to_csv(r'/Users/paxton615/Desktop/thr-{}.csv'.format(str(date.today())[:7]))"
   ]
  },
  {
   "cell_type": "markdown",
   "metadata": {},
   "source": [
    "imm"
   ]
  },
  {
   "cell_type": "code",
   "execution_count": 18,
   "metadata": {},
   "outputs": [
    {
     "name": "stdout",
     "output_type": "stream",
     "text": [
      "    imm_dates  imm_close  imm_volume\n",
      "0  2021-10-13       7.04     62526.0\n",
      "1  2021-10-12       7.39    103444.0\n",
      "2  2021-10-11       7.25    252640.0\n",
      "3  2021-10-08       7.10    154581.0\n",
      "4  2021-10-07       7.32    637801.0\n",
      "3758\n"
     ]
    }
   ],
   "source": [
    "data = []\n",
    "url = 'https://www.alphavantage.co/query?function=TIME_SERIES_DAILY_ADJUSTED&symbol=imm.LON&outputsize=full&apikey=EUWPYIBX33PPD5U5'\n",
    "r = requests.get(url)\n",
    "data.append(r.json())\n",
    "\n",
    "# ----------------------------------\n",
    "\n",
    "dates = list(data[0]['Time Series (Daily)'].keys())\n",
    "\n",
    "close = []\n",
    "for i in range(0, len(dates)):\n",
    "    close.append(float(list(data[0]['Time Series (Daily)'].items())[i][1]['4. close']))\n",
    "    \n",
    "volume = []\n",
    "for i in range(0, len(dates)):\n",
    "    volume.append(float(list(data[0]['Time Series (Daily)'].items())[i][1]['6. volume']))\n",
    "\n",
    "imm = pd.DataFrame({'imm_dates':dates, 'imm_close':close, 'imm_volume':volume})\n",
    "print(imm[:5])\n",
    "print(len(imm.imm_close))\n",
    "\n",
    "imm.to_csv(r'/Users/paxton615/Desktop/imm-{}.csv'.format(str(date.today())[:7]))"
   ]
  },
  {
   "cell_type": "markdown",
   "metadata": {},
   "source": [
    "cobr"
   ]
  },
  {
   "cell_type": "code",
   "execution_count": 19,
   "metadata": {},
   "outputs": [
    {
     "name": "stdout",
     "output_type": "stream",
     "text": [
      "   cobr_dates  cobr_close  cobr_volume\n",
      "0  2021-10-13        1.51    1174640.0\n",
      "1  2021-10-12        1.55    3224921.0\n",
      "2  2021-10-11        1.50     895375.0\n",
      "3  2021-10-08        1.50    3446806.0\n",
      "4  2021-10-07        1.55    2289569.0\n",
      "520\n"
     ]
    }
   ],
   "source": [
    "data = []\n",
    "url = 'https://www.alphavantage.co/query?function=TIME_SERIES_DAILY_ADJUSTED&symbol=cobr.LON&outputsize=full&apikey=EUWPYIBX33PPD5U5'\n",
    "r = requests.get(url)\n",
    "data.append(r.json())\n",
    "\n",
    "# ----------------------------------\n",
    "\n",
    "dates = list(data[0]['Time Series (Daily)'].keys())\n",
    "\n",
    "close = []\n",
    "for i in range(0, len(dates)):\n",
    "    close.append(float(list(data[0]['Time Series (Daily)'].items())[i][1]['4. close']))\n",
    "    \n",
    "volume = []\n",
    "for i in range(0, len(dates)):\n",
    "    volume.append(float(list(data[0]['Time Series (Daily)'].items())[i][1]['6. volume']))\n",
    "\n",
    "cobr = pd.DataFrame({'cobr_dates':dates, 'cobr_close':close, 'cobr_volume':volume})\n",
    "print(cobr[:5])\n",
    "print(len(cobr.cobr_close))\n",
    "\n",
    "cobr.to_csv(r'/Users/paxton615/Desktop/cobr-{}.csv'.format(str(date.today())[:7]))"
   ]
  },
  {
   "cell_type": "markdown",
   "metadata": {},
   "source": [
    "ecr"
   ]
  },
  {
   "cell_type": "code",
   "execution_count": 20,
   "metadata": {},
   "outputs": [
    {
     "name": "stdout",
     "output_type": "stream",
     "text": [
      "    ecr_dates  ecr_close  ecr_volume\n",
      "0  2021-10-13      1.625   5875025.0\n",
      "1  2021-10-12      1.600   1782280.0\n",
      "2  2021-10-11      1.650   3509982.0\n",
      "3  2021-10-08      1.650   4889334.0\n",
      "4  2021-10-07      1.625   6728222.0\n",
      "4034\n"
     ]
    }
   ],
   "source": [
    "data = []\n",
    "url = 'https://www.alphavantage.co/query?function=TIME_SERIES_DAILY_ADJUSTED&symbol=ecr.LON&outputsize=full&apikey=EUWPYIBX33PPD5U5'\n",
    "r = requests.get(url)\n",
    "data.append(r.json())\n",
    "\n",
    "# ----------------------------------\n",
    "\n",
    "dates = list(data[0]['Time Series (Daily)'].keys())\n",
    "\n",
    "close = []\n",
    "for i in range(0, len(dates)):\n",
    "    close.append(float(list(data[0]['Time Series (Daily)'].items())[i][1]['4. close']))\n",
    "    \n",
    "volume = []\n",
    "for i in range(0, len(dates)):\n",
    "    volume.append(float(list(data[0]['Time Series (Daily)'].items())[i][1]['6. volume']))\n",
    "\n",
    "ecr = pd.DataFrame({'ecr_dates':dates, 'ecr_close':close, 'ecr_volume':volume})\n",
    "print(ecr[:5])\n",
    "print(len(ecr.ecr_close))\n",
    "\n",
    "ecr.to_csv(r'/Users/paxton615/Desktop/ecr-{}.csv'.format(str(date.today())[:7]))"
   ]
  },
  {
   "cell_type": "markdown",
   "metadata": {},
   "source": [
    "inc"
   ]
  },
  {
   "cell_type": "code",
   "execution_count": 21,
   "metadata": {},
   "outputs": [],
   "source": [
    "# data = []\n",
    "# url = 'https://www.alphavantage.co/query?function=TIME_SERIES_DAILY_ADJUSTED&symbol=inc.LON&outputsize=full&apikey=EUWPYIBX33PPD5U5'.format(i)\n",
    "# r = requests.get(url)\n",
    "# data.append(r.json())\n",
    "\n",
    "# # ----------------------------------\n",
    "\n",
    "# dates = list(data[0]['Time Series (Daily)'].keys())\n",
    "\n",
    "# close = []\n",
    "# for i in range(0, len(dates)):\n",
    "#     close.append(float(list(data[0]['Time Series (Daily)'].items())[i][1]['4. close']))\n",
    "    \n",
    "# volume = []\n",
    "# for i in range(0, len(dates)):\n",
    "#     volume.append(float(list(data[0]['Time Series (Daily)'].items())[i][1]['6. volume']))\n",
    "\n",
    "# inc = pd.DataFrame({'inc_dates':dates, 'inc_close':close, 'inc_volume':volume})\n",
    "# print(inc[:5])\n",
    "# print(len(inc.inc_close))\n",
    "\n",
    "# inc.to_csv(r'/Users/paxton615/Desktop/inc-{}.csv'.format(str(date.today())[:7]))"
   ]
  },
  {
   "cell_type": "markdown",
   "metadata": {},
   "source": [
    "acp"
   ]
  },
  {
   "cell_type": "code",
   "execution_count": 22,
   "metadata": {},
   "outputs": [
    {
     "name": "stdout",
     "output_type": "stream",
     "text": [
      "    acp_dates  acp_close  acp_volume\n",
      "0  2021-10-13       4.90   1128787.0\n",
      "1  2021-10-12       5.00   2052262.0\n",
      "2  2021-10-11       5.10   2837579.0\n",
      "3  2021-10-08       5.25   3774131.0\n",
      "4  2021-10-07       5.00   4761550.0\n",
      "3601\n"
     ]
    }
   ],
   "source": [
    "data = []\n",
    "url = 'https://www.alphavantage.co/query?function=TIME_SERIES_DAILY_ADJUSTED&symbol=acp.LON&outputsize=full&apikey=EUWPYIBX33PPD5U5'\n",
    "r = requests.get(url)\n",
    "data.append(r.json())\n",
    "\n",
    "# ----------------------------------\n",
    "\n",
    "dates = list(data[0]['Time Series (Daily)'].keys())\n",
    "\n",
    "close = []\n",
    "for i in range(0, len(dates)):\n",
    "    close.append(float(list(data[0]['Time Series (Daily)'].items())[i][1]['4. close']))\n",
    "    \n",
    "volume = []\n",
    "for i in range(0, len(dates)):\n",
    "    volume.append(float(list(data[0]['Time Series (Daily)'].items())[i][1]['6. volume']))\n",
    "\n",
    "acp = pd.DataFrame({'acp_dates':dates, 'acp_close':close, 'acp_volume':volume})\n",
    "print(acp[:5])\n",
    "print(len(acp.acp_close))\n",
    "\n",
    "acp.to_csv(r'/Users/paxton615/Desktop/acp-{}.csv'.format(str(date.today())[:7]))"
   ]
  },
  {
   "cell_type": "markdown",
   "metadata": {},
   "source": [
    "ggp"
   ]
  },
  {
   "cell_type": "code",
   "execution_count": 24,
   "metadata": {},
   "outputs": [
    {
     "name": "stdout",
     "output_type": "stream",
     "text": [
      "    ggp_dates  ggp_close  ggp_volume\n",
      "0  2021-10-13      16.95  32656463.0\n",
      "1  2021-10-12      17.50  94314881.0\n",
      "2  2021-10-11      20.80  38718469.0\n",
      "3  2021-10-08      21.70  79068839.0\n",
      "4  2021-10-07      19.70  59932046.0\n",
      "3656\n"
     ]
    }
   ],
   "source": [
    "data = []\n",
    "url = 'https://www.alphavantage.co/query?function=TIME_SERIES_DAILY_ADJUSTED&symbol=ggp.LON&outputsize=full&apikey=EUWPYIBX33PPD5U5'\n",
    "r = requests.get(url)\n",
    "data.append(r.json())\n",
    "\n",
    "# ----------------------------------\n",
    "\n",
    "dates = list(data[0]['Time Series (Daily)'].keys())\n",
    "\n",
    "close = []\n",
    "for i in range(0, len(dates)):\n",
    "    close.append(float(list(data[0]['Time Series (Daily)'].items())[i][1]['4. close']))\n",
    "    \n",
    "volume = []\n",
    "for i in range(0, len(dates)):\n",
    "    volume.append(float(list(data[0]['Time Series (Daily)'].items())[i][1]['6. volume']))\n",
    "\n",
    "ggp = pd.DataFrame({'ggp_dates':dates, 'ggp_close':close, 'ggp_volume':volume})\n",
    "print(ggp[:5])\n",
    "print(len(ggp.ggp_close))\n",
    "\n",
    "ggp.to_csv(r'/Users/paxton615/Desktop/ggp-{}.csv'.format(str(date.today())[:7]))"
   ]
  },
  {
   "cell_type": "code",
   "execution_count": null,
   "metadata": {},
   "outputs": [],
   "source": []
  },
  {
   "cell_type": "code",
   "execution_count": null,
   "metadata": {},
   "outputs": [],
   "source": []
  }
 ],
 "metadata": {
  "kernelspec": {
   "display_name": "Python 3",
   "language": "python",
   "name": "python3"
  },
  "language_info": {
   "codemirror_mode": {
    "name": "ipython",
    "version": 3
   },
   "file_extension": ".py",
   "mimetype": "text/x-python",
   "name": "python",
   "nbconvert_exporter": "python",
   "pygments_lexer": "ipython3",
   "version": "3.8.3"
  }
 },
 "nbformat": 4,
 "nbformat_minor": 4
}
