{
 "cells": [
  {
   "cell_type": "code",
   "execution_count": 26,
   "metadata": {},
   "outputs": [],
   "source": [
    "import pandas as pd\n",
    "import numpy as np\n",
    "from datetime import datetime\n",
    "from datetime import date\n",
    "import matplotlib.pyplot as plt\n",
    "import seaborn as sns\n",
    "import requests\n",
    "pd.options.display.max_rows = 5000 \n",
    "pd.options.display.max_columns = 200"
   ]
  },
  {
   "cell_type": "markdown",
   "metadata": {},
   "source": [
    "### Part 1\n",
    "导入数据，创建df，统计各收益天数"
   ]
  },
  {
   "cell_type": "code",
   "execution_count": 2,
   "metadata": {},
   "outputs": [],
   "source": [
    "def days_analysis(excel_name, p1_date, p1_price,p1_wprice):\n",
    "#     读取数据,回复index，简化col names, 变量化配售日期，配售价格和权证价格\n",
    "    df = pd.read_csv(r'/Users/paxton615/Desktop/Stock_Price_csv/{}.csv'.format(excel_name))\n",
    "    df.drop('Unnamed: 0',axis=1, inplace=True)\n",
    "    df.columns = ['dates', 'close', 'volume']\n",
    "    p1_date = p1_date\n",
    "    p1_price = p1_price\n",
    "    p1_wprice = p1_wprice\n",
    "#     从配售日期开始截取数据，将数据从远期往近期排列\n",
    "    df = df[df['dates']>=p1_date]\n",
    "    df = df[::-1].reset_index(drop=True)\n",
    "#     分别计算股价收益，权证收益和总收益（自然数，而非百分比）\n",
    "    df['share_rtn' ]= [(x-p1_price) if (x-p1_price)>0 else 0 for x in df['close']]\n",
    "#     权证价格，首先判断不为0，权证收益小于0则等于0，权证收益大于零则按正常记录\n",
    "    new = []\n",
    "    for x in df['close']:\n",
    "        if p1_wprice == 0:\n",
    "            new.append(0)\n",
    "        elif (x-p1_wprice)<=0 :\n",
    "            new.append(0)\n",
    "        else :\n",
    "            new.append(x-p1_wprice)\n",
    "    df['warrant_rtn']=new\n",
    "        \n",
    "    df['total_rtn'] = df['share_rtn' ] + df['warrant_rtn']\n",
    "#     读取数据中最高收盘价，最高收盘价日期，和最高收益（自然数）,最高ROI（小数百分比）\n",
    "    trade_high = df['close'].max()\n",
    "#     trade_high_date = (df.loc[df['close']==df['close'].max(), 'dates'].item())\n",
    "    highest_rtn = df['total_rtn'].max()\n",
    "    highest_roi = np.round(df['total_rtn'].max()/p1_price,4)\n",
    "    \n",
    "#     新建一个df，每行只保留综合数据\n",
    "    placing = pd.DataFrame({'placing':excel_name, 'placing_date':p1_date, 'placing_price':p1_price, 'warrant_price':p1_wprice ,\n",
    "                          'trade_high':trade_high, 'highest_rtn':highest_rtn, 'highest_roi':highest_roi},index=[0]) #'trade_high_date':trade_high_date, 代码有问题\n",
    "    \n",
    "#     天数统计\n",
    "    placing['all_trade_days'] = len(df['close'])\n",
    "    placing['20%_up_days'] = len(df[df['total_rtn']/p1_price>= 0.2].close)\n",
    "    placing['30%_up_days'] = len(df[df['total_rtn']/p1_price>= 0.3].close)\n",
    "    placing['40%_up_days'] = len(df[df['total_rtn']/p1_price>= 0.4].close)\n",
    "    placing['50%_up_days'] = len(df[df['total_rtn']/p1_price>= 0.5].close)\n",
    "    placing['70%_up_days'] = len(df[df['total_rtn']/p1_price>= 0.7].close)\n",
    "    placing['100%_up_days'] = len(df[df['total_rtn']/p1_price>= 1.0].close)\n",
    "    placing['150%_up_days'] = len(df[df['total_rtn']/p1_price>= 1.5].close)\n",
    "    placing['250%_up_days'] = len(df[df['total_rtn']/p1_price>= 2.5].close)\n",
    "    placing['300%_up_days'] = len(df[df['total_rtn']/p1_price>= 3.0].close)\n",
    "    placing['350%_up_days'] = len(df[df['total_rtn']/p1_price>= 3.5].close)\n",
    "    placing['400%_up_days'] = len(df[df['total_rtn']/p1_price>= 4.0].close)\n",
    "    placing['450%_up_days'] = len(df[df['total_rtn']/p1_price>= 4.5].close)\n",
    "    placing['500%_up_days'] = len(df[df['total_rtn']/p1_price>= 5.0].close)\n",
    "    placing['1000%_up_days'] = len(df[df['total_rtn']/p1_price>= 10.0].close)\n",
    "    \n",
    "    \n",
    "    return(placing)\n",
    "#     print(placing.head(), '\\n','\\n', p1_date, p1_price, p1_wprice)"
   ]
  },
  {
   "cell_type": "markdown",
   "metadata": {},
   "source": [
    "- ##### 缺失注释： pre因为API问题无法得到数据，Incanthera因为是在Aquis上市的，暂时无法得到数据"
   ]
  },
  {
   "cell_type": "code",
   "execution_count": 3,
   "metadata": {},
   "outputs": [],
   "source": [
    "cobr_p1 = days_analysis('cobr','2020-01-01', 1.00, 2.00)\n",
    "\n",
    "cobr_p2 = days_analysis('cobr','2020-09-01', 2.30, 3.00)\n",
    "\n",
    "palm_p1 = days_analysis('palm', '2020-01-01', 6.0, 12.0)\n",
    "\n",
    "palm_p2 = days_analysis('palm', '2020-07-01', 6.5, 0.0)\n",
    "\n",
    "palm_p3 = days_analysis('palm', '2020-12-01', 10.0, 0.0)\n",
    "\n",
    "amte_p1 = days_analysis('amte','2019-07-01', 73.5, 0.0)\n",
    "\n",
    "amte_p2 = days_analysis('amte','2020-04-01', 73.5, 0.0)\n",
    "\n",
    "amte_p3 = days_analysis('amte','2021-03-01', 175.0, 0.0)\n",
    "\n",
    "ecr_p1 = days_analysis('ecr', '2020-04-01', 0.5, 1.0)\n",
    "\n",
    "ecr_p2 = days_analysis('ecr', '2020-07-01', 1.3, 2.1)\n",
    "\n",
    "kat_p1 = days_analysis('kat','2020-07-01',1.5, 3.0)\n",
    "\n",
    "kat_p2 = days_analysis('kat','2020-02-01',2.0, 3.0)\n",
    "\n",
    "kat_p3 = days_analysis('kat','2021-01-01',2.0, 3.0)\n",
    "\n",
    "irr_p1 = days_analysis('irr', '2020-05-01', 7.0, 12.0)\n",
    "\n",
    "irr_p2 = days_analysis('irr', '2021-04-01', 20.0, 0.0)\n",
    "\n",
    "mnrg_p1 = days_analysis('mnrg','2020-07-01', 0.6, 0.0)\n",
    "\n",
    "mnrg_p2 = days_analysis('mnrg','2021-03-01', 0.6, 1.0)\n",
    "\n",
    "ccz_p1 = days_analysis('ccz', '2020-08-01', 1.7, 2.8)\n",
    "\n",
    "ccz_p2 = days_analysis('ccz', '2021-06-01', 2.3, 4.4)\n",
    "\n",
    "imm_p1 = days_analysis('imm', '2020-09-01', 11.0, 0)\n",
    "\n",
    "avo_p1 = days_analysis('avo', '2020-11-01', 30, 0.0 )\n",
    "\n",
    "avo_p2 = days_analysis('avo', '2021-01-01', 40, 0.0 )\n",
    "\n",
    "cgh_p1 = days_analysis('cgh', '2021-02-01',26.0, 0.0)\n",
    "\n",
    "knb_p1 = days_analysis('knb', '2020-04-01',0.0005, 0.0)\n",
    "\n",
    "knb_p2 = days_analysis('knb', '2021-02-01',6.5, 0.0)\n",
    "\n",
    "thr_p1 = days_analysis('thr', '2020-09-01', 0.6, 1.0)\n",
    "\n",
    "kav_p1 = days_analysis('kav','2020-04-01', 0.8, 1.0)\n",
    "\n",
    "kav_p2 = days_analysis('kav','2020-12-01', 2.75, 4.25)\n",
    "\n",
    "acp_p1 = days_analysis('acp', '2019-09-01', 1.8, 3.0)"
   ]
  },
  {
   "cell_type": "code",
   "execution_count": 4,
   "metadata": {
    "scrolled": false
   },
   "outputs": [
    {
     "data": {
      "text/html": [
       "<div>\n",
       "<style scoped>\n",
       "    .dataframe tbody tr th:only-of-type {\n",
       "        vertical-align: middle;\n",
       "    }\n",
       "\n",
       "    .dataframe tbody tr th {\n",
       "        vertical-align: top;\n",
       "    }\n",
       "\n",
       "    .dataframe thead th {\n",
       "        text-align: right;\n",
       "    }\n",
       "</style>\n",
       "<table border=\"1\" class=\"dataframe\">\n",
       "  <thead>\n",
       "    <tr style=\"text-align: right;\">\n",
       "      <th></th>\n",
       "      <th>placing</th>\n",
       "      <th>placing_date</th>\n",
       "      <th>placing_price</th>\n",
       "      <th>warrant_price</th>\n",
       "      <th>trade_high</th>\n",
       "      <th>highest_rtn</th>\n",
       "      <th>highest_roi</th>\n",
       "      <th>all_trade_days</th>\n",
       "      <th>20%_up_days</th>\n",
       "      <th>30%_up_days</th>\n",
       "      <th>40%_up_days</th>\n",
       "      <th>50%_up_days</th>\n",
       "      <th>70%_up_days</th>\n",
       "      <th>100%_up_days</th>\n",
       "      <th>150%_up_days</th>\n",
       "      <th>250%_up_days</th>\n",
       "      <th>300%_up_days</th>\n",
       "      <th>350%_up_days</th>\n",
       "      <th>400%_up_days</th>\n",
       "      <th>450%_up_days</th>\n",
       "      <th>500%_up_days</th>\n",
       "      <th>1000%_up_days</th>\n",
       "    </tr>\n",
       "  </thead>\n",
       "  <tbody>\n",
       "    <tr>\n",
       "      <th>0</th>\n",
       "      <td>cobr</td>\n",
       "      <td>2020-01-01</td>\n",
       "      <td>1.0</td>\n",
       "      <td>2.0</td>\n",
       "      <td>3.5</td>\n",
       "      <td>4.0</td>\n",
       "      <td>4.0000</td>\n",
       "      <td>459</td>\n",
       "      <td>423</td>\n",
       "      <td>411</td>\n",
       "      <td>404</td>\n",
       "      <td>400</td>\n",
       "      <td>346</td>\n",
       "      <td>226</td>\n",
       "      <td>163</td>\n",
       "      <td>50</td>\n",
       "      <td>24</td>\n",
       "      <td>7</td>\n",
       "      <td>1</td>\n",
       "      <td>0</td>\n",
       "      <td>0</td>\n",
       "      <td>0</td>\n",
       "    </tr>\n",
       "    <tr>\n",
       "      <th>0</th>\n",
       "      <td>cobr</td>\n",
       "      <td>2020-09-01</td>\n",
       "      <td>2.3</td>\n",
       "      <td>3.0</td>\n",
       "      <td>3.5</td>\n",
       "      <td>1.7</td>\n",
       "      <td>0.7391</td>\n",
       "      <td>301</td>\n",
       "      <td>43</td>\n",
       "      <td>24</td>\n",
       "      <td>10</td>\n",
       "      <td>7</td>\n",
       "      <td>1</td>\n",
       "      <td>0</td>\n",
       "      <td>0</td>\n",
       "      <td>0</td>\n",
       "      <td>0</td>\n",
       "      <td>0</td>\n",
       "      <td>0</td>\n",
       "      <td>0</td>\n",
       "      <td>0</td>\n",
       "      <td>0</td>\n",
       "    </tr>\n",
       "    <tr>\n",
       "      <th>0</th>\n",
       "      <td>palm</td>\n",
       "      <td>2020-01-01</td>\n",
       "      <td>6.0</td>\n",
       "      <td>12.0</td>\n",
       "      <td>17.0</td>\n",
       "      <td>16.0</td>\n",
       "      <td>2.6667</td>\n",
       "      <td>464</td>\n",
       "      <td>339</td>\n",
       "      <td>325</td>\n",
       "      <td>321</td>\n",
       "      <td>313</td>\n",
       "      <td>287</td>\n",
       "      <td>210</td>\n",
       "      <td>100</td>\n",
       "      <td>3</td>\n",
       "      <td>0</td>\n",
       "      <td>0</td>\n",
       "      <td>0</td>\n",
       "      <td>0</td>\n",
       "      <td>0</td>\n",
       "      <td>0</td>\n",
       "    </tr>\n",
       "    <tr>\n",
       "      <th>0</th>\n",
       "      <td>palm</td>\n",
       "      <td>2020-07-01</td>\n",
       "      <td>6.5</td>\n",
       "      <td>0.0</td>\n",
       "      <td>17.0</td>\n",
       "      <td>10.5</td>\n",
       "      <td>1.6154</td>\n",
       "      <td>344</td>\n",
       "      <td>324</td>\n",
       "      <td>321</td>\n",
       "      <td>311</td>\n",
       "      <td>299</td>\n",
       "      <td>258</td>\n",
       "      <td>146</td>\n",
       "      <td>5</td>\n",
       "      <td>0</td>\n",
       "      <td>0</td>\n",
       "      <td>0</td>\n",
       "      <td>0</td>\n",
       "      <td>0</td>\n",
       "      <td>0</td>\n",
       "      <td>0</td>\n",
       "    </tr>\n",
       "    <tr>\n",
       "      <th>0</th>\n",
       "      <td>palm</td>\n",
       "      <td>2020-12-01</td>\n",
       "      <td>10.0</td>\n",
       "      <td>0.0</td>\n",
       "      <td>17.0</td>\n",
       "      <td>7.0</td>\n",
       "      <td>0.7000</td>\n",
       "      <td>236</td>\n",
       "      <td>198</td>\n",
       "      <td>143</td>\n",
       "      <td>60</td>\n",
       "      <td>18</td>\n",
       "      <td>2</td>\n",
       "      <td>0</td>\n",
       "      <td>0</td>\n",
       "      <td>0</td>\n",
       "      <td>0</td>\n",
       "      <td>0</td>\n",
       "      <td>0</td>\n",
       "      <td>0</td>\n",
       "      <td>0</td>\n",
       "      <td>0</td>\n",
       "    </tr>\n",
       "  </tbody>\n",
       "</table>\n",
       "</div>"
      ],
      "text/plain": [
       "  placing placing_date  placing_price  warrant_price  trade_high  highest_rtn  \\\n",
       "0    cobr   2020-01-01            1.0            2.0         3.5          4.0   \n",
       "0    cobr   2020-09-01            2.3            3.0         3.5          1.7   \n",
       "0    palm   2020-01-01            6.0           12.0        17.0         16.0   \n",
       "0    palm   2020-07-01            6.5            0.0        17.0         10.5   \n",
       "0    palm   2020-12-01           10.0            0.0        17.0          7.0   \n",
       "\n",
       "   highest_roi  all_trade_days  20%_up_days  30%_up_days  40%_up_days  \\\n",
       "0       4.0000             459          423          411          404   \n",
       "0       0.7391             301           43           24           10   \n",
       "0       2.6667             464          339          325          321   \n",
       "0       1.6154             344          324          321          311   \n",
       "0       0.7000             236          198          143           60   \n",
       "\n",
       "   50%_up_days  70%_up_days  100%_up_days  150%_up_days  250%_up_days  \\\n",
       "0          400          346           226           163            50   \n",
       "0            7            1             0             0             0   \n",
       "0          313          287           210           100             3   \n",
       "0          299          258           146             5             0   \n",
       "0           18            2             0             0             0   \n",
       "\n",
       "   300%_up_days  350%_up_days  400%_up_days  450%_up_days  500%_up_days  \\\n",
       "0            24             7             1             0             0   \n",
       "0             0             0             0             0             0   \n",
       "0             0             0             0             0             0   \n",
       "0             0             0             0             0             0   \n",
       "0             0             0             0             0             0   \n",
       "\n",
       "   1000%_up_days  \n",
       "0              0  \n",
       "0              0  \n",
       "0              0  \n",
       "0              0  \n",
       "0              0  "
      ]
     },
     "execution_count": 4,
     "metadata": {},
     "output_type": "execute_result"
    }
   ],
   "source": [
    "frames = [cobr_p1, cobr_p2, palm_p1,palm_p2,palm_p3, amte_p1,amte_p2,amte_p3,\n",
    "         ecr_p1, ecr_p2,kat_p1, kat_p2, kat_p3, irr_p1, irr_p2, mnrg_p1, mnrg_p2,\n",
    "         ccz_p1, ccz_p2, imm_p1, avo_p1, avo_p2, cgh_p1, knb_p1, knb_p2, thr_p1,\n",
    "         kav_p1, kav_p2, acp_p1]\n",
    "days_analysis = pd.concat(frames)\n",
    "days_analysis.head()"
   ]
  },
  {
   "cell_type": "code",
   "execution_count": 5,
   "metadata": {
    "scrolled": true
   },
   "outputs": [
    {
     "data": {
      "text/html": [
       "<div>\n",
       "<style scoped>\n",
       "    .dataframe tbody tr th:only-of-type {\n",
       "        vertical-align: middle;\n",
       "    }\n",
       "\n",
       "    .dataframe tbody tr th {\n",
       "        vertical-align: top;\n",
       "    }\n",
       "\n",
       "    .dataframe thead th {\n",
       "        text-align: right;\n",
       "    }\n",
       "</style>\n",
       "<table border=\"1\" class=\"dataframe\">\n",
       "  <thead>\n",
       "    <tr style=\"text-align: right;\">\n",
       "      <th></th>\n",
       "      <th>placing_price</th>\n",
       "      <th>warrant_price</th>\n",
       "      <th>trade_high</th>\n",
       "      <th>highest_rtn</th>\n",
       "      <th>highest_roi</th>\n",
       "      <th>all_trade_days</th>\n",
       "      <th>20%_up_days</th>\n",
       "      <th>30%_up_days</th>\n",
       "      <th>40%_up_days</th>\n",
       "      <th>50%_up_days</th>\n",
       "      <th>70%_up_days</th>\n",
       "      <th>100%_up_days</th>\n",
       "      <th>150%_up_days</th>\n",
       "      <th>250%_up_days</th>\n",
       "      <th>300%_up_days</th>\n",
       "      <th>350%_up_days</th>\n",
       "      <th>400%_up_days</th>\n",
       "      <th>450%_up_days</th>\n",
       "      <th>500%_up_days</th>\n",
       "      <th>1000%_up_days</th>\n",
       "    </tr>\n",
       "  </thead>\n",
       "  <tbody>\n",
       "    <tr>\n",
       "      <th>count</th>\n",
       "      <td>29.000000</td>\n",
       "      <td>29.000000</td>\n",
       "      <td>29.000000</td>\n",
       "      <td>29.000000</td>\n",
       "      <td>29.000000</td>\n",
       "      <td>29.000000</td>\n",
       "      <td>29.000000</td>\n",
       "      <td>29.000000</td>\n",
       "      <td>29.000000</td>\n",
       "      <td>29.000000</td>\n",
       "      <td>29.000000</td>\n",
       "      <td>29.000000</td>\n",
       "      <td>29.000000</td>\n",
       "      <td>29.000000</td>\n",
       "      <td>29.000000</td>\n",
       "      <td>29.000000</td>\n",
       "      <td>29.000000</td>\n",
       "      <td>29.000000</td>\n",
       "      <td>29.000000</td>\n",
       "      <td>29.000000</td>\n",
       "    </tr>\n",
       "    <tr>\n",
       "      <th>mean</th>\n",
       "      <td>17.474155</td>\n",
       "      <td>2.018966</td>\n",
       "      <td>46.952759</td>\n",
       "      <td>30.881190</td>\n",
       "      <td>2816.395828</td>\n",
       "      <td>288.896552</td>\n",
       "      <td>183.413793</td>\n",
       "      <td>166.965517</td>\n",
       "      <td>151.965517</td>\n",
       "      <td>136.034483</td>\n",
       "      <td>116.413793</td>\n",
       "      <td>99.896552</td>\n",
       "      <td>78.724138</td>\n",
       "      <td>48.344828</td>\n",
       "      <td>37.172414</td>\n",
       "      <td>30.137931</td>\n",
       "      <td>26.413793</td>\n",
       "      <td>22.344828</td>\n",
       "      <td>19.034483</td>\n",
       "      <td>11.034483</td>\n",
       "    </tr>\n",
       "    <tr>\n",
       "      <th>std</th>\n",
       "      <td>36.144623</td>\n",
       "      <td>3.119421</td>\n",
       "      <td>97.892595</td>\n",
       "      <td>67.915406</td>\n",
       "      <td>15152.047070</td>\n",
       "      <td>113.537705</td>\n",
       "      <td>150.544136</td>\n",
       "      <td>149.539885</td>\n",
       "      <td>149.285796</td>\n",
       "      <td>149.086380</td>\n",
       "      <td>141.623625</td>\n",
       "      <td>125.197086</td>\n",
       "      <td>110.768064</td>\n",
       "      <td>93.633127</td>\n",
       "      <td>88.677614</td>\n",
       "      <td>83.430777</td>\n",
       "      <td>77.537787</td>\n",
       "      <td>67.305952</td>\n",
       "      <td>57.479489</td>\n",
       "      <td>37.836568</td>\n",
       "    </tr>\n",
       "    <tr>\n",
       "      <th>min</th>\n",
       "      <td>0.000500</td>\n",
       "      <td>0.000000</td>\n",
       "      <td>1.150000</td>\n",
       "      <td>0.480000</td>\n",
       "      <td>0.187500</td>\n",
       "      <td>113.000000</td>\n",
       "      <td>0.000000</td>\n",
       "      <td>0.000000</td>\n",
       "      <td>0.000000</td>\n",
       "      <td>0.000000</td>\n",
       "      <td>0.000000</td>\n",
       "      <td>0.000000</td>\n",
       "      <td>0.000000</td>\n",
       "      <td>0.000000</td>\n",
       "      <td>0.000000</td>\n",
       "      <td>0.000000</td>\n",
       "      <td>0.000000</td>\n",
       "      <td>0.000000</td>\n",
       "      <td>0.000000</td>\n",
       "      <td>0.000000</td>\n",
       "    </tr>\n",
       "    <tr>\n",
       "      <th>25%</th>\n",
       "      <td>1.300000</td>\n",
       "      <td>0.000000</td>\n",
       "      <td>3.500000</td>\n",
       "      <td>3.700000</td>\n",
       "      <td>0.700000</td>\n",
       "      <td>184.000000</td>\n",
       "      <td>43.000000</td>\n",
       "      <td>22.000000</td>\n",
       "      <td>10.000000</td>\n",
       "      <td>5.000000</td>\n",
       "      <td>1.000000</td>\n",
       "      <td>0.000000</td>\n",
       "      <td>0.000000</td>\n",
       "      <td>0.000000</td>\n",
       "      <td>0.000000</td>\n",
       "      <td>0.000000</td>\n",
       "      <td>0.000000</td>\n",
       "      <td>0.000000</td>\n",
       "      <td>0.000000</td>\n",
       "      <td>0.000000</td>\n",
       "    </tr>\n",
       "    <tr>\n",
       "      <th>50%</th>\n",
       "      <td>2.300000</td>\n",
       "      <td>1.000000</td>\n",
       "      <td>6.250000</td>\n",
       "      <td>5.400000</td>\n",
       "      <td>1.615400</td>\n",
       "      <td>301.000000</td>\n",
       "      <td>166.000000</td>\n",
       "      <td>166.000000</td>\n",
       "      <td>148.000000</td>\n",
       "      <td>105.000000</td>\n",
       "      <td>37.000000</td>\n",
       "      <td>23.000000</td>\n",
       "      <td>5.000000</td>\n",
       "      <td>0.000000</td>\n",
       "      <td>0.000000</td>\n",
       "      <td>0.000000</td>\n",
       "      <td>0.000000</td>\n",
       "      <td>0.000000</td>\n",
       "      <td>0.000000</td>\n",
       "      <td>0.000000</td>\n",
       "    </tr>\n",
       "    <tr>\n",
       "      <th>75%</th>\n",
       "      <td>11.000000</td>\n",
       "      <td>3.000000</td>\n",
       "      <td>30.900000</td>\n",
       "      <td>16.000000</td>\n",
       "      <td>3.923100</td>\n",
       "      <td>344.000000</td>\n",
       "      <td>314.000000</td>\n",
       "      <td>285.000000</td>\n",
       "      <td>225.000000</td>\n",
       "      <td>184.000000</td>\n",
       "      <td>184.000000</td>\n",
       "      <td>184.000000</td>\n",
       "      <td>150.000000</td>\n",
       "      <td>50.000000</td>\n",
       "      <td>17.000000</td>\n",
       "      <td>5.000000</td>\n",
       "      <td>0.000000</td>\n",
       "      <td>0.000000</td>\n",
       "      <td>0.000000</td>\n",
       "      <td>0.000000</td>\n",
       "    </tr>\n",
       "    <tr>\n",
       "      <th>max</th>\n",
       "      <td>175.000000</td>\n",
       "      <td>12.000000</td>\n",
       "      <td>327.000000</td>\n",
       "      <td>253.500000</td>\n",
       "      <td>81599.000000</td>\n",
       "      <td>554.000000</td>\n",
       "      <td>511.000000</td>\n",
       "      <td>487.000000</td>\n",
       "      <td>477.000000</td>\n",
       "      <td>464.000000</td>\n",
       "      <td>429.000000</td>\n",
       "      <td>364.000000</td>\n",
       "      <td>341.000000</td>\n",
       "      <td>338.000000</td>\n",
       "      <td>327.000000</td>\n",
       "      <td>304.000000</td>\n",
       "      <td>290.000000</td>\n",
       "      <td>262.000000</td>\n",
       "      <td>216.000000</td>\n",
       "      <td>184.000000</td>\n",
       "    </tr>\n",
       "  </tbody>\n",
       "</table>\n",
       "</div>"
      ],
      "text/plain": [
       "       placing_price  warrant_price  trade_high  highest_rtn   highest_roi  \\\n",
       "count      29.000000      29.000000   29.000000    29.000000     29.000000   \n",
       "mean       17.474155       2.018966   46.952759    30.881190   2816.395828   \n",
       "std        36.144623       3.119421   97.892595    67.915406  15152.047070   \n",
       "min         0.000500       0.000000    1.150000     0.480000      0.187500   \n",
       "25%         1.300000       0.000000    3.500000     3.700000      0.700000   \n",
       "50%         2.300000       1.000000    6.250000     5.400000      1.615400   \n",
       "75%        11.000000       3.000000   30.900000    16.000000      3.923100   \n",
       "max       175.000000      12.000000  327.000000   253.500000  81599.000000   \n",
       "\n",
       "       all_trade_days  20%_up_days  30%_up_days  40%_up_days  50%_up_days  \\\n",
       "count       29.000000    29.000000    29.000000    29.000000    29.000000   \n",
       "mean       288.896552   183.413793   166.965517   151.965517   136.034483   \n",
       "std        113.537705   150.544136   149.539885   149.285796   149.086380   \n",
       "min        113.000000     0.000000     0.000000     0.000000     0.000000   \n",
       "25%        184.000000    43.000000    22.000000    10.000000     5.000000   \n",
       "50%        301.000000   166.000000   166.000000   148.000000   105.000000   \n",
       "75%        344.000000   314.000000   285.000000   225.000000   184.000000   \n",
       "max        554.000000   511.000000   487.000000   477.000000   464.000000   \n",
       "\n",
       "       70%_up_days  100%_up_days  150%_up_days  250%_up_days  300%_up_days  \\\n",
       "count    29.000000     29.000000     29.000000     29.000000     29.000000   \n",
       "mean    116.413793     99.896552     78.724138     48.344828     37.172414   \n",
       "std     141.623625    125.197086    110.768064     93.633127     88.677614   \n",
       "min       0.000000      0.000000      0.000000      0.000000      0.000000   \n",
       "25%       1.000000      0.000000      0.000000      0.000000      0.000000   \n",
       "50%      37.000000     23.000000      5.000000      0.000000      0.000000   \n",
       "75%     184.000000    184.000000    150.000000     50.000000     17.000000   \n",
       "max     429.000000    364.000000    341.000000    338.000000    327.000000   \n",
       "\n",
       "       350%_up_days  400%_up_days  450%_up_days  500%_up_days  1000%_up_days  \n",
       "count     29.000000     29.000000     29.000000     29.000000      29.000000  \n",
       "mean      30.137931     26.413793     22.344828     19.034483      11.034483  \n",
       "std       83.430777     77.537787     67.305952     57.479489      37.836568  \n",
       "min        0.000000      0.000000      0.000000      0.000000       0.000000  \n",
       "25%        0.000000      0.000000      0.000000      0.000000       0.000000  \n",
       "50%        0.000000      0.000000      0.000000      0.000000       0.000000  \n",
       "75%        5.000000      0.000000      0.000000      0.000000       0.000000  \n",
       "max      304.000000    290.000000    262.000000    216.000000     184.000000  "
      ]
     },
     "execution_count": 5,
     "metadata": {},
     "output_type": "execute_result"
    }
   ],
   "source": [
    "days_analysis.describe()"
   ]
  },
  {
   "cell_type": "markdown",
   "metadata": {},
   "source": [
    "### Part 2 \n",
    "针对days_analysis进行视觉化处理"
   ]
  },
  {
   "cell_type": "code",
   "execution_count": 9,
   "metadata": {},
   "outputs": [],
   "source": [
    "days = days_analysis"
   ]
  },
  {
   "cell_type": "code",
   "execution_count": 11,
   "metadata": {},
   "outputs": [
    {
     "data": {
      "image/png": "[encoded data removed]",
      "text/plain": [
       "<Figure size 432x288 with 1 Axes>"
      ]
     },
     "metadata": {
      "needs_background": "light"
     },
     "output_type": "display_data"
    }
   ],
   "source": [
    "days.boxplot(['highest_roi']);"
   ]
  },
  {
   "cell_type": "markdown",
   "metadata": {},
   "source": [
    "由于knb_p1的outlier影响力太大，因此需要剔除"
   ]
  },
  {
   "cell_type": "code",
   "execution_count": 14,
   "metadata": {},
   "outputs": [
    {
     "data": {
      "image/png": "[encoded data removed]",
      "text/plain": [
       "<Figure size 432x288 with 1 Axes>"
      ]
     },
     "metadata": {
      "needs_background": "light"
     },
     "output_type": "display_data"
    }
   ],
   "source": [
    "days[days['highest_roi']<=20].boxplot(['highest_roi']);"
   ]
  },
  {
   "cell_type": "markdown",
   "metadata": {},
   "source": [
    "可以看到，依然有两个outlier的影响非常大，应该是ecr_p1和kav_p1,剔除看效果"
   ]
  },
  {
   "cell_type": "code",
   "execution_count": 16,
   "metadata": {},
   "outputs": [
    {
     "data": {
      "image/png": "[encoded data removed]",
      "text/plain": [
       "<Figure size 432x288 with 1 Axes>"
      ]
     },
     "metadata": {
      "needs_background": "light"
     },
     "output_type": "display_data"
    }
   ],
   "source": [
    "days[days['highest_roi']<=10].boxplot(['highest_roi'],showmeans=True);"
   ]
  },
  {
   "cell_type": "markdown",
   "metadata": {},
   "source": [
    "<!-- ### 可以看到，除去几个超级高回报的case之外，回报的中位数约在1.4倍左右，平均数在1.9倍左右。 -->"
   ]
  },
  {
   "cell_type": "markdown",
   "metadata": {},
   "source": [
    "#### 剔除超高回报后，其余case的中位数在1.4倍左右附近，而平均回报倍数在1.9倍左右。"
   ]
  },
  {
   "cell_type": "code",
   "execution_count": 25,
   "metadata": {},
   "outputs": [
    {
     "data": {
      "text/plain": [
       "26"
      ]
     },
     "execution_count": 25,
     "metadata": {},
     "output_type": "execute_result"
    }
   ],
   "source": [
    "len(days[days['highest_roi']<=10].highest_roi)"
   ]
  },
  {
   "cell_type": "code",
   "execution_count": 22,
   "metadata": {},
   "outputs": [
    {
     "data": {
      "text/plain": [
       "17"
      ]
     },
     "execution_count": 22,
     "metadata": {},
     "output_type": "execute_result"
    }
   ],
   "source": [
    "len(days[days['highest_roi']<=2].highest_roi)"
   ]
  },
  {
   "cell_type": "code",
   "execution_count": 21,
   "metadata": {},
   "outputs": [
    {
     "data": {
      "text/plain": [
       "0.65"
      ]
     },
     "execution_count": 21,
     "metadata": {},
     "output_type": "execute_result"
    }
   ],
   "source": [
    "np.round(len(days[days['highest_roi']<=2].highest_roi)/len(days[days['highest_roi']<=10].highest_roi), 2)"
   ]
  },
  {
   "cell_type": "code",
   "execution_count": 23,
   "metadata": {},
   "outputs": [
    {
     "data": {
      "text/plain": [
       "9"
      ]
     },
     "execution_count": 23,
     "metadata": {},
     "output_type": "execute_result"
    }
   ],
   "source": [
    "len(days[(days['highest_roi']>2)&(days['highest_roi']<=10)].highest_roi)"
   ]
  },
  {
   "cell_type": "code",
   "execution_count": 24,
   "metadata": {},
   "outputs": [
    {
     "data": {
      "text/plain": [
       "0.35"
      ]
     },
     "execution_count": 24,
     "metadata": {},
     "output_type": "execute_result"
    }
   ],
   "source": [
    "np.round(len(days[(days['highest_roi']>2)&(days['highest_roi']<=10)].highest_roi)/len(days[days['highest_roi']<=10].highest_roi), 2)"
   ]
  },
  {
   "cell_type": "markdown",
   "metadata": {},
   "source": [
    "#### 10倍以下回报的case有26次。其中，回报小于2倍的有17次(这也是为什么中位数和平均数分别为1.4倍和1.9倍的原因，超高不考虑在内)，占65%；回报小于10倍，大于2倍的有9次，占35%。"
   ]
  },
  {
   "cell_type": "code",
   "execution_count": 27,
   "metadata": {},
   "outputs": [
    {
     "data": {
      "text/html": [
       "<div>\n",
       "<style scoped>\n",
       "    .dataframe tbody tr th:only-of-type {\n",
       "        vertical-align: middle;\n",
       "    }\n",
       "\n",
       "    .dataframe tbody tr th {\n",
       "        vertical-align: top;\n",
       "    }\n",
       "\n",
       "    .dataframe thead th {\n",
       "        text-align: right;\n",
       "    }\n",
       "</style>\n",
       "<table border=\"1\" class=\"dataframe\">\n",
       "  <thead>\n",
       "    <tr style=\"text-align: right;\">\n",
       "      <th></th>\n",
       "      <th>placing</th>\n",
       "      <th>placing_date</th>\n",
       "      <th>placing_price</th>\n",
       "      <th>warrant_price</th>\n",
       "      <th>trade_high</th>\n",
       "      <th>highest_rtn</th>\n",
       "      <th>highest_roi</th>\n",
       "      <th>all_trade_days</th>\n",
       "      <th>20%_up_days</th>\n",
       "      <th>30%_up_days</th>\n",
       "      <th>40%_up_days</th>\n",
       "      <th>50%_up_days</th>\n",
       "      <th>70%_up_days</th>\n",
       "      <th>100%_up_days</th>\n",
       "      <th>150%_up_days</th>\n",
       "      <th>250%_up_days</th>\n",
       "      <th>300%_up_days</th>\n",
       "      <th>350%_up_days</th>\n",
       "      <th>400%_up_days</th>\n",
       "      <th>450%_up_days</th>\n",
       "      <th>500%_up_days</th>\n",
       "      <th>1000%_up_days</th>\n",
       "    </tr>\n",
       "  </thead>\n",
       "  <tbody>\n",
       "    <tr>\n",
       "      <th>0</th>\n",
       "      <td>cobr</td>\n",
       "      <td>2020-01-01</td>\n",
       "      <td>1.0</td>\n",
       "      <td>2.0</td>\n",
       "      <td>3.5</td>\n",
       "      <td>4.0</td>\n",
       "      <td>4.0000</td>\n",
       "      <td>459</td>\n",
       "      <td>423</td>\n",
       "      <td>411</td>\n",
       "      <td>404</td>\n",
       "      <td>400</td>\n",
       "      <td>346</td>\n",
       "      <td>226</td>\n",
       "      <td>163</td>\n",
       "      <td>50</td>\n",
       "      <td>24</td>\n",
       "      <td>7</td>\n",
       "      <td>1</td>\n",
       "      <td>0</td>\n",
       "      <td>0</td>\n",
       "      <td>0</td>\n",
       "    </tr>\n",
       "    <tr>\n",
       "      <th>0</th>\n",
       "      <td>cobr</td>\n",
       "      <td>2020-09-01</td>\n",
       "      <td>2.3</td>\n",
       "      <td>3.0</td>\n",
       "      <td>3.5</td>\n",
       "      <td>1.7</td>\n",
       "      <td>0.7391</td>\n",
       "      <td>301</td>\n",
       "      <td>43</td>\n",
       "      <td>24</td>\n",
       "      <td>10</td>\n",
       "      <td>7</td>\n",
       "      <td>1</td>\n",
       "      <td>0</td>\n",
       "      <td>0</td>\n",
       "      <td>0</td>\n",
       "      <td>0</td>\n",
       "      <td>0</td>\n",
       "      <td>0</td>\n",
       "      <td>0</td>\n",
       "      <td>0</td>\n",
       "      <td>0</td>\n",
       "    </tr>\n",
       "    <tr>\n",
       "      <th>0</th>\n",
       "      <td>palm</td>\n",
       "      <td>2020-01-01</td>\n",
       "      <td>6.0</td>\n",
       "      <td>12.0</td>\n",
       "      <td>17.0</td>\n",
       "      <td>16.0</td>\n",
       "      <td>2.6667</td>\n",
       "      <td>464</td>\n",
       "      <td>339</td>\n",
       "      <td>325</td>\n",
       "      <td>321</td>\n",
       "      <td>313</td>\n",
       "      <td>287</td>\n",
       "      <td>210</td>\n",
       "      <td>100</td>\n",
       "      <td>3</td>\n",
       "      <td>0</td>\n",
       "      <td>0</td>\n",
       "      <td>0</td>\n",
       "      <td>0</td>\n",
       "      <td>0</td>\n",
       "      <td>0</td>\n",
       "    </tr>\n",
       "    <tr>\n",
       "      <th>0</th>\n",
       "      <td>palm</td>\n",
       "      <td>2020-07-01</td>\n",
       "      <td>6.5</td>\n",
       "      <td>0.0</td>\n",
       "      <td>17.0</td>\n",
       "      <td>10.5</td>\n",
       "      <td>1.6154</td>\n",
       "      <td>344</td>\n",
       "      <td>324</td>\n",
       "      <td>321</td>\n",
       "      <td>311</td>\n",
       "      <td>299</td>\n",
       "      <td>258</td>\n",
       "      <td>146</td>\n",
       "      <td>5</td>\n",
       "      <td>0</td>\n",
       "      <td>0</td>\n",
       "      <td>0</td>\n",
       "      <td>0</td>\n",
       "      <td>0</td>\n",
       "      <td>0</td>\n",
       "      <td>0</td>\n",
       "    </tr>\n",
       "    <tr>\n",
       "      <th>0</th>\n",
       "      <td>palm</td>\n",
       "      <td>2020-12-01</td>\n",
       "      <td>10.0</td>\n",
       "      <td>0.0</td>\n",
       "      <td>17.0</td>\n",
       "      <td>7.0</td>\n",
       "      <td>0.7000</td>\n",
       "      <td>236</td>\n",
       "      <td>198</td>\n",
       "      <td>143</td>\n",
       "      <td>60</td>\n",
       "      <td>18</td>\n",
       "      <td>2</td>\n",
       "      <td>0</td>\n",
       "      <td>0</td>\n",
       "      <td>0</td>\n",
       "      <td>0</td>\n",
       "      <td>0</td>\n",
       "      <td>0</td>\n",
       "      <td>0</td>\n",
       "      <td>0</td>\n",
       "      <td>0</td>\n",
       "    </tr>\n",
       "  </tbody>\n",
       "</table>\n",
       "</div>"
      ],
      "text/plain": [
       "  placing placing_date  placing_price  warrant_price  trade_high  highest_rtn  \\\n",
       "0    cobr   2020-01-01            1.0            2.0         3.5          4.0   \n",
       "0    cobr   2020-09-01            2.3            3.0         3.5          1.7   \n",
       "0    palm   2020-01-01            6.0           12.0        17.0         16.0   \n",
       "0    palm   2020-07-01            6.5            0.0        17.0         10.5   \n",
       "0    palm   2020-12-01           10.0            0.0        17.0          7.0   \n",
       "\n",
       "   highest_roi  all_trade_days  20%_up_days  30%_up_days  40%_up_days  \\\n",
       "0       4.0000             459          423          411          404   \n",
       "0       0.7391             301           43           24           10   \n",
       "0       2.6667             464          339          325          321   \n",
       "0       1.6154             344          324          321          311   \n",
       "0       0.7000             236          198          143           60   \n",
       "\n",
       "   50%_up_days  70%_up_days  100%_up_days  150%_up_days  250%_up_days  \\\n",
       "0          400          346           226           163            50   \n",
       "0            7            1             0             0             0   \n",
       "0          313          287           210           100             3   \n",
       "0          299          258           146             5             0   \n",
       "0           18            2             0             0             0   \n",
       "\n",
       "   300%_up_days  350%_up_days  400%_up_days  450%_up_days  500%_up_days  \\\n",
       "0            24             7             1             0             0   \n",
       "0             0             0             0             0             0   \n",
       "0             0             0             0             0             0   \n",
       "0             0             0             0             0             0   \n",
       "0             0             0             0             0             0   \n",
       "\n",
       "   1000%_up_days  \n",
       "0              0  \n",
       "0              0  \n",
       "0              0  \n",
       "0              0  \n",
       "0              0  "
      ]
     },
     "execution_count": 27,
     "metadata": {},
     "output_type": "execute_result"
    }
   ],
   "source": [
    "days.head()"
   ]
  },
  {
   "cell_type": "markdown",
   "metadata": {},
   "source": [
    "#### 下图显示各case的最高回报区间柱状图，依然是少于2倍回报的概率比较大。"
   ]
  },
  {
   "cell_type": "code",
   "execution_count": 35,
   "metadata": {},
   "outputs": [
    {
     "data": {
      "image/png": "[encoded data removed]",
      "text/plain": [
       "<Figure size 1080x576 with 1 Axes>"
      ]
     },
     "metadata": {
      "needs_background": "light"
     },
     "output_type": "display_data"
    }
   ],
   "source": [
    "# sns.barplot(x=\"day\", y=\"total_bill\", data=tips)\n",
    "fig = plt.figure(figsize=(15,8))\n",
    "sns.barplot(x='placing', y='highest_roi', data=days[days['highest_roi']<=10]);"
   ]
  },
  {
   "cell_type": "markdown",
   "metadata": {},
   "source": [
    "#### 以下，显示了20%利润的收获区间天数"
   ]
  },
  {
   "cell_type": "markdown",
   "metadata": {},
   "source": [
    "#### 因为acp盈利天数较高影响整体观测，因此在以下分析中暂时剔除\n",
    "#### 可以看到20%利润的操作空间是非常游刃有余的，均值是153天，空间很大"
   ]
  },
  {
   "cell_type": "code",
   "execution_count": 67,
   "metadata": {
    "scrolled": true
   },
   "outputs": [
    {
     "data": {
      "text/plain": [
       "153.68"
      ]
     },
     "execution_count": 67,
     "metadata": {},
     "output_type": "execute_result"
    }
   ],
   "source": [
    "days.loc[(days['highest_roi']<=10)&(days['placing']!='acp')]['20%_up_days'].mean()"
   ]
  },
  {
   "cell_type": "code",
   "execution_count": 66,
   "metadata": {
    "scrolled": false
   },
   "outputs": [
    {
     "data": {
      "image/png": "[encoded data removed]",
      "text/plain": [
       "<Figure size 1080x576 with 1 Axes>"
      ]
     },
     "metadata": {
      "needs_background": "light"
     },
     "output_type": "display_data"
    }
   ],
   "source": [
    "fig = plt.figure(figsize=(15,8))\n",
    "sns.barplot(x='placing', y='20%_up_days', data=days.loc[(days['highest_roi']<=10)&(days['placing']!='acp')]);"
   ]
  },
  {
   "cell_type": "markdown",
   "metadata": {},
   "source": [
    "#### 100%收益的操作空间非常不稳定，66天是个指导概念"
   ]
  },
  {
   "cell_type": "code",
   "execution_count": 68,
   "metadata": {},
   "outputs": [
    {
     "data": {
      "text/plain": [
       "66.72"
      ]
     },
     "execution_count": 68,
     "metadata": {},
     "output_type": "execute_result"
    }
   ],
   "source": [
    "days.loc[(days['highest_roi']<=10)&(days['placing']!='acp')]['100%_up_days'].mean()"
   ]
  },
  {
   "cell_type": "code",
   "execution_count": 69,
   "metadata": {},
   "outputs": [
    {
     "data": {
      "image/png": "[encoded data removed]",
      "text/plain": [
       "<Figure size 1080x576 with 1 Axes>"
      ]
     },
     "metadata": {
      "needs_background": "light"
     },
     "output_type": "display_data"
    }
   ],
   "source": [
    "fig = plt.figure(figsize=(15,8))\n",
    "sns.barplot(x='placing', y='100%_up_days', data=days[(days['highest_roi']<=10)&(days['placing']!='acp')]);"
   ]
  },
  {
   "cell_type": "markdown",
   "metadata": {},
   "source": [
    "#### （废话）很明显，高ROI与20%利润天数之间有正相关的关系，这个很好理解。"
   ]
  },
  {
   "cell_type": "code",
   "execution_count": 43,
   "metadata": {},
   "outputs": [
    {
     "data": {
      "image/png": "[encoded data removed]",
      "text/plain": [
       "<Figure size 1080x576 with 1 Axes>"
      ]
     },
     "metadata": {
      "needs_background": "light"
     },
     "output_type": "display_data"
    }
   ],
   "source": [
    "fig = plt.figure(figsize=(15,8))\n",
    "sns.regplot(x='highest_roi', y='20%_up_days', data=days[days['highest_roi']<=10]);"
   ]
  },
  {
   "cell_type": "code",
   "execution_count": null,
   "metadata": {},
   "outputs": [],
   "source": []
  },
  {
   "cell_type": "code",
   "execution_count": null,
   "metadata": {},
   "outputs": [],
   "source": []
  },
  {
   "cell_type": "code",
   "execution_count": null,
   "metadata": {},
   "outputs": [],
   "source": []
  },
  {
   "cell_type": "code",
   "execution_count": null,
   "metadata": {},
   "outputs": [],
   "source": []
  },
  {
   "cell_type": "code",
   "execution_count": null,
   "metadata": {},
   "outputs": [],
   "source": []
  },
  {
   "cell_type": "code",
   "execution_count": null,
   "metadata": {},
   "outputs": [],
   "source": []
  },
  {
   "cell_type": "code",
   "execution_count": null,
   "metadata": {},
   "outputs": [],
   "source": []
  },
  {
   "cell_type": "code",
   "execution_count": null,
   "metadata": {},
   "outputs": [],
   "source": []
  },
  {
   "cell_type": "code",
   "execution_count": null,
   "metadata": {},
   "outputs": [],
   "source": []
  },
  {
   "cell_type": "code",
   "execution_count": null,
   "metadata": {},
   "outputs": [],
   "source": []
  },
  {
   "cell_type": "code",
   "execution_count": null,
   "metadata": {},
   "outputs": [],
   "source": []
  },
  {
   "cell_type": "code",
   "execution_count": null,
   "metadata": {},
   "outputs": [],
   "source": []
  },
  {
   "cell_type": "code",
   "execution_count": null,
   "metadata": {},
   "outputs": [],
   "source": []
  },
  {
   "cell_type": "code",
   "execution_count": null,
   "metadata": {},
   "outputs": [],
   "source": []
  },
  {
   "cell_type": "markdown",
   "metadata": {},
   "source": [
    " 以上function由以下代码逐步产生"
   ]
  },
  {
   "cell_type": "code",
   "execution_count": 6,
   "metadata": {},
   "outputs": [],
   "source": [
    "# df = pd.read_csv(r'/Users/paxton615/Desktop/Stock_Price_csv/cobr-2021-10.csv')\n",
    "# df.drop('Unnamed: 0',axis=1, inplace=True)\n",
    "# df.columns = ['dates', 'close', 'volume']\n",
    "\n",
    "# price = 0.5\n",
    "# p1_date = '2020-01-01'\n",
    "# p1_price = 1.00\n",
    "# p1_wprice = 2.00\n",
    "\n",
    "# # 初始Date设置成placing开始的月份, 然后将月份的顺序变成从远到近\n",
    "# df = df[df['dates']>=p1_date]\n",
    "# df = df[::-1].reset_index(drop=True)\n",
    "\n",
    "# # 如果有利润就像是利润，如果没有的话就显示0\n",
    "# df['share_rtn' ]= [(x-p1_price) if (x-p1_price)>0 else 0 for x in df['close']]\n",
    "# df['warrant_rtn'] = [(x-p1_wprice) if (x-p1_wprice)>0 else 0 for x in df['close']]\n",
    "# df['total_rtn'] = df['share_rtn' ] + df['warrant_rtn']\n",
    "# df.head()\n",
    "\n",
    "# # 找到近期高点，高点日期，和最大收益\n",
    "# trade_high = df['close'].max()\n",
    "# trade_high_date = (df.loc[df['close']==df['close'].max(), 'dates'].item())\n",
    "# highest_rtn = df['total_rtn'].max()\n",
    "# print(trade_high, trade_high_date, highest_rtn)\n",
    "\n",
    "# # 建立一个新df，存入配售名称，配售日期，配售价格，权证价格，高点，高点日期，最高收益，\n",
    "# placing = pd.DataFrame({'placing':'cobr_p1', 'placing_date':p1_date, 'placing_price':p1_price, 'warrant_price':p1_wprice ,\n",
    "#                           'trade_high':trade_high, 'trade_high_date':trade_high_date, 'highest_rtn':highest_rtn},index=[0])\n",
    "# placing\n",
    "\n",
    "# placing['all_trade_days'] = len(df['close'])\n",
    "\n",
    "# placing['20%_up_days'] = len(df[df['total_rtn']/p1_price>= 0.2].close)\n",
    "# placing['30%_up_days'] = len(df[df['total_rtn']/p1_price>= 0.3].close)\n",
    "# placing['40%_up_days'] = len(df[df['total_rtn']/p1_price>= 0.4].close)\n",
    "# placing['50%_up_days'] = len(df[df['total_rtn']/p1_price>= 0.5].close)\n",
    "# placing['70%_up_days'] = len(df[df['total_rtn']/p1_price>= 0.7].close)\n",
    "# placing['100%_up_days'] = len(df[df['total_rtn']/p1_price>= 1.0].close)\n",
    "# placing['250%_up_days'] = len(df[df['total_rtn']/p1_price>= 2.5].close)\n",
    "# placing['300%_up_days'] = len(df[df['total_rtn']/p1_price>= 3.0].close)\n",
    "# placing['350%_up_days'] = len(df[df['total_rtn']/p1_price>= 3.5].close)\n",
    "# placing['400%_up_days'] = len(df[df['total_rtn']/p1_price>= 4.0].close)\n",
    "# placing['450%_up_days'] = len(df[df['total_rtn']/p1_price>= 4.5].close)\n",
    "# placing['500%_up_days'] = len(df[df['total_rtn']/p1_price>= 5.0].close)\n",
    "\n",
    "\n",
    "\n",
    "# placing\n",
    "\n",
    "\n",
    "# df.close.plot();\n",
    "# df.total_rtn.plot();\n",
    "# # df.share_rtn.plot();\n",
    "# # df.warrant_rtn.plot();"
   ]
  },
  {
   "cell_type": "code",
   "execution_count": null,
   "metadata": {},
   "outputs": [],
   "source": []
  }
 ],
 "metadata": {
  "kernelspec": {
   "display_name": "Python 3",
   "language": "python",
   "name": "python3"
  },
  "language_info": {
   "codemirror_mode": {
    "name": "ipython",
    "version": 3
   },
   "file_extension": ".py",
   "mimetype": "text/x-python",
   "name": "python",
   "nbconvert_exporter": "python",
   "pygments_lexer": "ipython3",
   "version": "3.8.3"
  }
 },
 "nbformat": 4,
 "nbformat_minor": 4
}
