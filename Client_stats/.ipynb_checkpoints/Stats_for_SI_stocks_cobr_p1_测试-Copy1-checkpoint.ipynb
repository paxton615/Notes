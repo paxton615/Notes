{
 "cells": [
  {
   "cell_type": "code",
   "execution_count": 1,
   "metadata": {},
   "outputs": [],
   "source": [
    "import pandas as pd\n",
    "import numpy as np\n",
    "from datetime import datetime\n",
    "from datetime import date\n",
    "import matplotlib.pyplot as plt\n",
    "import requests\n",
    "pd.options.display.max_rows = 5000 "
   ]
  },
  {
   "cell_type": "code",
   "execution_count": 2,
   "metadata": {},
   "outputs": [
    {
     "data": {
      "text/html": [
       "<div>\n",
       "<style scoped>\n",
       "    .dataframe tbody tr th:only-of-type {\n",
       "        vertical-align: middle;\n",
       "    }\n",
       "\n",
       "    .dataframe tbody tr th {\n",
       "        vertical-align: top;\n",
       "    }\n",
       "\n",
       "    .dataframe thead th {\n",
       "        text-align: right;\n",
       "    }\n",
       "</style>\n",
       "<table border=\"1\" class=\"dataframe\">\n",
       "  <thead>\n",
       "    <tr style=\"text-align: right;\">\n",
       "      <th></th>\n",
       "      <th>cobr_dates</th>\n",
       "      <th>cobr_close</th>\n",
       "      <th>cobr_volume</th>\n",
       "    </tr>\n",
       "  </thead>\n",
       "  <tbody>\n",
       "    <tr>\n",
       "      <th>0</th>\n",
       "      <td>2021-10-13</td>\n",
       "      <td>1.51</td>\n",
       "      <td>1174640.0</td>\n",
       "    </tr>\n",
       "    <tr>\n",
       "      <th>1</th>\n",
       "      <td>2021-10-12</td>\n",
       "      <td>1.55</td>\n",
       "      <td>3224921.0</td>\n",
       "    </tr>\n",
       "  </tbody>\n",
       "</table>\n",
       "</div>"
      ],
      "text/plain": [
       "   cobr_dates  cobr_close  cobr_volume\n",
       "0  2021-10-13        1.51    1174640.0\n",
       "1  2021-10-12        1.55    3224921.0"
      ]
     },
     "execution_count": 2,
     "metadata": {},
     "output_type": "execute_result"
    }
   ],
   "source": [
    "cobr = pd.read_csv(r'/Users/paxton615/Desktop/Stock_Price_csv/cobr-2021-10.csv')\n",
    "cobr.drop('Unnamed: 0',axis=1, inplace=True)\n",
    "cobr.head(2)"
   ]
  },
  {
   "cell_type": "code",
   "execution_count": 3,
   "metadata": {},
   "outputs": [
    {
     "data": {
      "text/html": [
       "<div>\n",
       "<style scoped>\n",
       "    .dataframe tbody tr th:only-of-type {\n",
       "        vertical-align: middle;\n",
       "    }\n",
       "\n",
       "    .dataframe tbody tr th {\n",
       "        vertical-align: top;\n",
       "    }\n",
       "\n",
       "    .dataframe thead th {\n",
       "        text-align: right;\n",
       "    }\n",
       "</style>\n",
       "<table border=\"1\" class=\"dataframe\">\n",
       "  <thead>\n",
       "    <tr style=\"text-align: right;\">\n",
       "      <th></th>\n",
       "      <th>cobr_close</th>\n",
       "      <th>cobr_volume</th>\n",
       "    </tr>\n",
       "  </thead>\n",
       "  <tbody>\n",
       "    <tr>\n",
       "      <th>count</th>\n",
       "      <td>520.000000</td>\n",
       "      <td>5.200000e+02</td>\n",
       "    </tr>\n",
       "    <tr>\n",
       "      <th>mean</th>\n",
       "      <td>1.886880</td>\n",
       "      <td>3.940671e+06</td>\n",
       "    </tr>\n",
       "    <tr>\n",
       "      <th>std</th>\n",
       "      <td>0.641991</td>\n",
       "      <td>6.825970e+06</td>\n",
       "    </tr>\n",
       "    <tr>\n",
       "      <th>min</th>\n",
       "      <td>0.650000</td>\n",
       "      <td>0.000000e+00</td>\n",
       "    </tr>\n",
       "    <tr>\n",
       "      <th>25%</th>\n",
       "      <td>1.500000</td>\n",
       "      <td>7.518578e+05</td>\n",
       "    </tr>\n",
       "    <tr>\n",
       "      <th>50%</th>\n",
       "      <td>1.875000</td>\n",
       "      <td>1.784049e+06</td>\n",
       "    </tr>\n",
       "    <tr>\n",
       "      <th>75%</th>\n",
       "      <td>2.400000</td>\n",
       "      <td>4.517945e+06</td>\n",
       "    </tr>\n",
       "    <tr>\n",
       "      <th>max</th>\n",
       "      <td>3.500000</td>\n",
       "      <td>6.606146e+07</td>\n",
       "    </tr>\n",
       "  </tbody>\n",
       "</table>\n",
       "</div>"
      ],
      "text/plain": [
       "       cobr_close   cobr_volume\n",
       "count  520.000000  5.200000e+02\n",
       "mean     1.886880  3.940671e+06\n",
       "std      0.641991  6.825970e+06\n",
       "min      0.650000  0.000000e+00\n",
       "25%      1.500000  7.518578e+05\n",
       "50%      1.875000  1.784049e+06\n",
       "75%      2.400000  4.517945e+06\n",
       "max      3.500000  6.606146e+07"
      ]
     },
     "execution_count": 3,
     "metadata": {},
     "output_type": "execute_result"
    }
   ],
   "source": [
    "cobr.describe()"
   ]
  },
  {
   "cell_type": "markdown",
   "metadata": {},
   "source": [
    "#### 第N次配售的日期，价格，权证价格"
   ]
  },
  {
   "cell_type": "code",
   "execution_count": 4,
   "metadata": {},
   "outputs": [],
   "source": [
    "p1_date = '2020-01-01'\n",
    "p1_price = 1.00\n",
    "p1_wprice = 2.00\n",
    "\n",
    "twenty_per_up = p1_price * (1+0.2)\n",
    "thirty_per_up = p1_price * (1+0.3)\n",
    "fourty_per_up = p1_price * (1+0.4)\n",
    "fifty_per_up = p1_price * (1+0.5)"
   ]
  },
  {
   "cell_type": "markdown",
   "metadata": {},
   "source": [
    "##### cobr_p2是cobr第二次Placing开始后价格走势"
   ]
  },
  {
   "cell_type": "code",
   "execution_count": 5,
   "metadata": {},
   "outputs": [
    {
     "name": "stdout",
     "output_type": "stream",
     "text": [
      "   cobr_dates  cobr_close  cobr_volume\n",
      "0  2020-01-16        1.30    8737493.0\n",
      "1  2020-01-17        1.35      15991.0\n",
      "2  2020-01-20        1.30    8379761.0\n",
      "442\n"
     ]
    }
   ],
   "source": [
    "cobr_p1 = cobr[cobr['cobr_dates']>=p1_date]\n",
    "cobr_p1 = cobr_p1[::-1].reset_index(drop=True)\n",
    "print(cobr_p1.head(3))\n",
    "print(len(cobr_p1))"
   ]
  },
  {
   "cell_type": "code",
   "execution_count": 6,
   "metadata": {},
   "outputs": [],
   "source": [
    "# 图形大概\n",
    "# fig,ax = plt.subplots(3, figsize=(12,6))\n",
    "# ax[0].hist(cobr_p2.cobr_close,bins=30);\n",
    "# ax[1].plot(cobr_p2.cobr_close);\n",
    "# ax[2].plot(cobr_p2.cobr_volume);"
   ]
  },
  {
   "cell_type": "markdown",
   "metadata": {},
   "source": [
    "#### 0. 最大盈利空间"
   ]
  },
  {
   "cell_type": "code",
   "execution_count": 7,
   "metadata": {},
   "outputs": [
    {
     "name": "stdout",
     "output_type": "stream",
     "text": [
      "近期最高价格 3.5p\n",
      "近期最高价格日期 2020-10-20\n",
      "最高回报空间是 400% \n"
     ]
    }
   ],
   "source": [
    "trade_high = cobr_p1['cobr_close'].max()\n",
    "trade_high_date = (cobr_p1.loc[cobr_p1['cobr_close']==cobr_p1['cobr_close'].max(), 'cobr_dates'].item())\n",
    "highest_rtn = (cobr_p1['cobr_close'].max()- p1_price + cobr_p1['cobr_close'].max() - p1_wprice)/p1_price\n",
    "\n",
    "print('近期最高价格 {}p'.format(trade_high))\n",
    "print('近期最高价格日期 {}'.format(trade_high_date))\n",
    "print('最高回报空间是 {:.0%} '.format(highest_rtn))"
   ]
  },
  {
   "cell_type": "code",
   "execution_count": 8,
   "metadata": {},
   "outputs": [
    {
     "data": {
      "text/html": [
       "<div>\n",
       "<style scoped>\n",
       "    .dataframe tbody tr th:only-of-type {\n",
       "        vertical-align: middle;\n",
       "    }\n",
       "\n",
       "    .dataframe tbody tr th {\n",
       "        vertical-align: top;\n",
       "    }\n",
       "\n",
       "    .dataframe thead th {\n",
       "        text-align: right;\n",
       "    }\n",
       "</style>\n",
       "<table border=\"1\" class=\"dataframe\">\n",
       "  <thead>\n",
       "    <tr style=\"text-align: right;\">\n",
       "      <th></th>\n",
       "      <th>placing</th>\n",
       "      <th>trade_high</th>\n",
       "      <th>trade_high_date</th>\n",
       "      <th>highest_rtn</th>\n",
       "    </tr>\n",
       "  </thead>\n",
       "  <tbody>\n",
       "    <tr>\n",
       "      <th>0</th>\n",
       "      <td>cobr_p1</td>\n",
       "      <td>3.5</td>\n",
       "      <td>2020-10-20</td>\n",
       "      <td>4.0</td>\n",
       "    </tr>\n",
       "  </tbody>\n",
       "</table>\n",
       "</div>"
      ],
      "text/plain": [
       "   placing  trade_high trade_high_date  highest_rtn\n",
       "0  cobr_p1         3.5      2020-10-20          4.0"
      ]
     },
     "execution_count": 8,
     "metadata": {},
     "output_type": "execute_result"
    }
   ],
   "source": [
    "cobr_p1_df = pd.DataFrame({'placing':'cobr_p1', 'trade_high':trade_high, 'trade_high_date':trade_high_date, 'highest_rtn':highest_rtn},index=[0])\n",
    "cobr_p1_df"
   ]
  },
  {
   "cell_type": "markdown",
   "metadata": {},
   "source": [
    "##### 2. warrant price线代表了多少利润率， 有多少天利润超过 warrant price"
   ]
  },
  {
   "cell_type": "code",
   "execution_count": 9,
   "metadata": {},
   "outputs": [
    {
     "name": "stdout",
     "output_type": "stream",
     "text": [
      "权证价格相当于赚取了 100% 的利润\n",
      "股票价格超过权证价格的天数: 225 天\n"
     ]
    }
   ],
   "source": [
    "print('权证价格相当于赚取了 {:.0%} 的利润'.format((p1_wprice-p1_price)/p1_price ))\n",
    "# print('warrant price means {:.0%}profit'.format((p1_wprice-p1_price)/p1_price))\n",
    "\n",
    "print('股票价格超过权证价格的天数: {} 天'.format(len(cobr_p1[cobr_p1['cobr_close']>= p1_wprice])))\n",
    "# print('Days profit over 20%: {}'.format(len(cobr_p1[cobr_p1['cobr_close']>= p1_wprice])))"
   ]
  },
  {
   "cell_type": "code",
   "execution_count": 10,
   "metadata": {},
   "outputs": [],
   "source": [
    "cobr_p1_df['wprice_bar'] = (p1_wprice-p1_price)/p1_price \n",
    "cobr_p1_df['over_w_days'] = len(cobr_p1[cobr_p1['cobr_close']>= p1_wprice])"
   ]
  },
  {
   "cell_type": "markdown",
   "metadata": {},
   "source": [
    "##### 1. 有多少天利润超过20%，30%,  40%,  50%"
   ]
  },
  {
   "cell_type": "code",
   "execution_count": 11,
   "metadata": {},
   "outputs": [
    {
     "name": "stdout",
     "output_type": "stream",
     "text": [
      "cobr_p1开始到近期交易天数: 442 天\n",
      "利润超过20%的天数: 408 天\n",
      "利润超过30%的天数: 394 天\n",
      "利润超过40%的天数: 387 天\n",
      "利润超过50%的天数: 383 天\n",
      "利润超过200%的天数: 225 天\n",
      "利润超过300%的天数: 24 天\n",
      "利润超过400%的天数: 0 天\n",
      "利润超过500%的天数: 0 天\n",
      "利润超过600%的天数: 0 天\n",
      "利润超过700%的天数: 0 天\n",
      "利润超过800%的天数: 0 天\n",
      "利润超过900%的天数: 0 天\n"
     ]
    }
   ],
   "source": [
    "# print('Days since cobr_p1: {}'.format(len(cobr_p1.cobr_close)))\n",
    "# print('Days profit over 20%: {}'.format(len(cobr_p1[cobr_p1['cobr_close']>= twenty_per_up].cobr_close)))\n",
    "# print('Days profit over 30%: {}'.format(len(cobr_p1[cobr_p1['cobr_close']>= thirty_per_up].cobr_close)))\n",
    "# print('Days profit over 40%: {}'.format(len(cobr_p1[cobr_p1['cobr_close']>= fourty_per_up].cobr_close)))\n",
    "# print('Days profit over 50%: {}'.format(len(cobr_p1[cobr_p1['cobr_close']>= fifty_per_up].cobr_close)))\n",
    "print('cobr_p1开始到近期交易天数: {} 天'.format(len(cobr_p1.cobr_close)))\n",
    "print('利润超过20%的天数: {} 天'.format(len(cobr_p1[cobr_p1['cobr_close']>= twenty_per_up].cobr_close)))\n",
    "print('利润超过30%的天数: {} 天'.format(len(cobr_p1[cobr_p1['cobr_close']>= thirty_per_up].cobr_close)))\n",
    "print('利润超过40%的天数: {} 天'.format(len(cobr_p1[cobr_p1['cobr_close']>= fourty_per_up].cobr_close)))\n",
    "print('利润超过50%的天数: {} 天'.format(len(cobr_p1[cobr_p1['cobr_close']>= fifty_per_up].cobr_close)))\n",
    "print('利润超过200%的天数: {} 天'.format(len(cobr_p1[cobr_p1['cobr_close']>= p1_price*2].cobr_close)))\n",
    "print('利润超过300%的天数: {} 天'.format(len(cobr_p1[cobr_p1['cobr_close']>= p1_price*3].cobr_close)))\n",
    "print('利润超过400%的天数: {} 天'.format(len(cobr_p1[cobr_p1['cobr_close']>= p1_price*4].cobr_close)))\n",
    "print('利润超过500%的天数: {} 天'.format(len(cobr_p1[cobr_p1['cobr_close']>= p1_price*5].cobr_close)))\n",
    "print('利润超过600%的天数: {} 天'.format(len(cobr_p1[cobr_p1['cobr_close']>= p1_price*6].cobr_close)))\n",
    "print('利润超过700%的天数: {} 天'.format(len(cobr_p1[cobr_p1['cobr_close']>= p1_price*7].cobr_close)))\n",
    "print('利润超过800%的天数: {} 天'.format(len(cobr_p1[cobr_p1['cobr_close']>= p1_price*8].cobr_close)))\n",
    "print('利润超过900%的天数: {} 天'.format(len(cobr_p1[cobr_p1['cobr_close']>= p1_price*9].cobr_close)))"
   ]
  },
  {
   "cell_type": "code",
   "execution_count": 12,
   "metadata": {},
   "outputs": [],
   "source": [
    "cobr_p1_df['all_trade_days'] = len(cobr_p1.cobr_close)\n",
    "cobr_p1_df['20%up_days'] = len(cobr_p1[cobr_p1['cobr_close']>= twenty_per_up].cobr_close)\n",
    "cobr_p1_df['30%up_days'] = len(cobr_p1[cobr_p1['cobr_close']>= thirty_per_up].cobr_close)\n",
    "cobr_p1_df['40%up_days'] = len(cobr_p1[cobr_p1['cobr_close']>= fourty_per_up].cobr_close)\n",
    "cobr_p1_df['50%up_days'] = len(cobr_p1[cobr_p1['cobr_close']>= fifty_per_up].cobr_close)\n",
    "cobr_p1_df['200%up_days'] = len(cobr_p1[cobr_p1['cobr_close']>= p1_price*2].cobr_close)\n",
    "cobr_p1_df['300%up_days'] = len(cobr_p1[cobr_p1['cobr_close']>= p1_price*3].cobr_close)\n",
    "cobr_p1_df['400%up_days'] = len(cobr_p1[cobr_p1['cobr_close']>= p1_price*4].cobr_close)\n",
    "cobr_p1_df['500%up_days'] = len(cobr_p1[cobr_p1['cobr_close']>= p1_price*5].cobr_close)\n",
    "cobr_p1_df['600%up_days'] = len(cobr_p1[cobr_p1['cobr_close']>= p1_price*6].cobr_close)\n",
    "cobr_p1_df['700%up_days'] = len(cobr_p1[cobr_p1['cobr_close']>= p1_price*7].cobr_close)\n",
    "cobr_p1_df['800%up_days'] = len(cobr_p1[cobr_p1['cobr_close']>= p1_price*8].cobr_close)\n",
    "cobr_p1_df['900%up_days'] = len(cobr_p1[cobr_p1['cobr_close']>= p1_price*9].cobr_close)"
   ]
  },
  {
   "cell_type": "markdown",
   "metadata": {},
   "source": [
    "##### 3. 从配股开始到各个赢利点经历的天数"
   ]
  },
  {
   "cell_type": "code",
   "execution_count": 13,
   "metadata": {},
   "outputs": [],
   "source": [
    "def first_profit_day(column, target_price, profit_percentage):\n",
    "    count = 0\n",
    "    for i in column:\n",
    "        if i < target_price:\n",
    "            count += 1\n",
    "        if i > target_price:\n",
    "            break\n",
    "    print('从开始到第一次{}盈利经历了 {} 天'.format(profit_percentage, count))"
   ]
  },
  {
   "cell_type": "code",
   "execution_count": 14,
   "metadata": {},
   "outputs": [
    {
     "name": "stdout",
     "output_type": "stream",
     "text": [
      "从开始到第一次0%+盈利经历了 0 天\n",
      "从开始到第一次20%盈利经历了 0 天\n",
      "从开始到第一次30%盈利经历了 0 天\n",
      "从开始到第一次40%盈利经历了 22 天\n",
      "从开始到第一次50%盈利经历了 22 天\n"
     ]
    }
   ],
   "source": [
    "first_profit_day(cobr_p1['cobr_close'], p1_price, '0%+')\n",
    "first_profit_day(cobr_p1['cobr_close'], twenty_per_up, '20%')\n",
    "first_profit_day(cobr_p1['cobr_close'], thirty_per_up, '30%')\n",
    "first_profit_day(cobr_p1['cobr_close'], fourty_per_up, '40%')\n",
    "first_profit_day(cobr_p1['cobr_close'], fifty_per_up, '50%')"
   ]
  },
  {
   "cell_type": "code",
   "execution_count": 15,
   "metadata": {},
   "outputs": [],
   "source": [
    "def first_profit_day_number(column, target_price):\n",
    "    count = 0\n",
    "    for i in column:\n",
    "        if i < target_price:\n",
    "            count += 1\n",
    "        if i > target_price:\n",
    "            break\n",
    "    return count"
   ]
  },
  {
   "cell_type": "code",
   "execution_count": 16,
   "metadata": {},
   "outputs": [],
   "source": [
    "cobr_p1_df['0_to_0%+'] = first_profit_day_number(cobr_p1['cobr_close'], p1_price)\n",
    "cobr_p1_df['0_to_20%+'] = first_profit_day_number(cobr_p1['cobr_close'], twenty_per_up)\n",
    "cobr_p1_df['0_to_30%+'] = first_profit_day_number(cobr_p1['cobr_close'], thirty_per_up)\n",
    "cobr_p1_df['0_to_40%+'] = first_profit_day_number(cobr_p1['cobr_close'], fourty_per_up)\n",
    "cobr_p1_df['0_to_50%+'] = first_profit_day_number(cobr_p1['cobr_close'], fifty_per_up)\n"
   ]
  },
  {
   "cell_type": "code",
   "execution_count": null,
   "metadata": {},
   "outputs": [],
   "source": []
  },
  {
   "cell_type": "code",
   "execution_count": 17,
   "metadata": {},
   "outputs": [
    {
     "data": {
      "text/html": [
       "<div>\n",
       "<style scoped>\n",
       "    .dataframe tbody tr th:only-of-type {\n",
       "        vertical-align: middle;\n",
       "    }\n",
       "\n",
       "    .dataframe tbody tr th {\n",
       "        vertical-align: top;\n",
       "    }\n",
       "\n",
       "    .dataframe thead th {\n",
       "        text-align: right;\n",
       "    }\n",
       "</style>\n",
       "<table border=\"1\" class=\"dataframe\">\n",
       "  <thead>\n",
       "    <tr style=\"text-align: right;\">\n",
       "      <th></th>\n",
       "      <th>placing</th>\n",
       "      <th>trade_high</th>\n",
       "      <th>trade_high_date</th>\n",
       "      <th>highest_rtn</th>\n",
       "      <th>wprice_bar</th>\n",
       "      <th>over_w_days</th>\n",
       "      <th>all_trade_days</th>\n",
       "      <th>20%up_days</th>\n",
       "      <th>30%up_days</th>\n",
       "      <th>40%up_days</th>\n",
       "      <th>...</th>\n",
       "      <th>500%up_days</th>\n",
       "      <th>600%up_days</th>\n",
       "      <th>700%up_days</th>\n",
       "      <th>800%up_days</th>\n",
       "      <th>900%up_days</th>\n",
       "      <th>0_to_0%+</th>\n",
       "      <th>0_to_20%+</th>\n",
       "      <th>0_to_30%+</th>\n",
       "      <th>0_to_40%+</th>\n",
       "      <th>0_to_50%+</th>\n",
       "    </tr>\n",
       "  </thead>\n",
       "  <tbody>\n",
       "    <tr>\n",
       "      <th>0</th>\n",
       "      <td>cobr_p1</td>\n",
       "      <td>3.5</td>\n",
       "      <td>2020-10-20</td>\n",
       "      <td>4.0</td>\n",
       "      <td>1.0</td>\n",
       "      <td>225</td>\n",
       "      <td>442</td>\n",
       "      <td>408</td>\n",
       "      <td>394</td>\n",
       "      <td>387</td>\n",
       "      <td>...</td>\n",
       "      <td>0</td>\n",
       "      <td>0</td>\n",
       "      <td>0</td>\n",
       "      <td>0</td>\n",
       "      <td>0</td>\n",
       "      <td>0</td>\n",
       "      <td>0</td>\n",
       "      <td>0</td>\n",
       "      <td>22</td>\n",
       "      <td>22</td>\n",
       "    </tr>\n",
       "  </tbody>\n",
       "</table>\n",
       "<p>1 rows × 24 columns</p>\n",
       "</div>"
      ],
      "text/plain": [
       "   placing  trade_high trade_high_date  highest_rtn  wprice_bar  over_w_days  \\\n",
       "0  cobr_p1         3.5      2020-10-20          4.0         1.0          225   \n",
       "\n",
       "   all_trade_days  20%up_days  30%up_days  40%up_days  ...  500%up_days  \\\n",
       "0             442         408         394         387  ...            0   \n",
       "\n",
       "   600%up_days  700%up_days  800%up_days  900%up_days  0_to_0%+  0_to_20%+  \\\n",
       "0            0            0            0            0         0          0   \n",
       "\n",
       "   0_to_30%+  0_to_40%+  0_to_50%+  \n",
       "0          0         22         22  \n",
       "\n",
       "[1 rows x 24 columns]"
      ]
     },
     "execution_count": 17,
     "metadata": {},
     "output_type": "execute_result"
    }
   ],
   "source": [
    "cobr_p1_df"
   ]
  },
  {
   "cell_type": "code",
   "execution_count": null,
   "metadata": {},
   "outputs": [],
   "source": []
  }
 ],
 "metadata": {
  "kernelspec": {
   "display_name": "Python 3",
   "language": "python",
   "name": "python3"
  },
  "language_info": {
   "codemirror_mode": {
    "name": "ipython",
    "version": 3
   },
   "file_extension": ".py",
   "mimetype": "text/x-python",
   "name": "python",
   "nbconvert_exporter": "python",
   "pygments_lexer": "ipython3",
   "version": "3.8.3"
  }
 },
 "nbformat": 4,
 "nbformat_minor": 4
}
