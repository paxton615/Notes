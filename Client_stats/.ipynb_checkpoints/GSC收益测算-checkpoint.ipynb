{
 "cells": [
  {
   "cell_type": "code",
   "execution_count": 1,
   "metadata": {},
   "outputs": [],
   "source": [
    "import pandas as pd\n",
    "import numpy as np\n",
    "from datetime import datetime\n",
    "from datetime import date\n",
    "import matplotlib.pyplot as plt\n",
    "import seaborn as sns\n",
    "import requests\n",
    "pd.options.display.max_rows = 5000 \n",
    "pd.options.display.max_columns = 200"
   ]
  },
  {
   "cell_type": "markdown",
   "metadata": {},
   "source": [
    "不同出售情况下的回报预测"
   ]
  },
  {
   "cell_type": "code",
   "execution_count": 15,
   "metadata": {},
   "outputs": [],
   "source": [
    "gsc_price = 5\n",
    "cost = gsc_price\n",
    "gsc_wprice = 10\n",
    "target_price1 = 6\n",
    "sell_portion1 = 0.6"
   ]
  },
  {
   "cell_type": "code",
   "execution_count": 16,
   "metadata": {},
   "outputs": [],
   "source": [
    "target_price2 = 15\n",
    "sell_portion2 = 0.4"
   ]
  },
  {
   "cell_type": "code",
   "execution_count": 17,
   "metadata": {},
   "outputs": [
    {
     "data": {
      "text/plain": [
       "0.12"
      ]
     },
     "execution_count": 17,
     "metadata": {},
     "output_type": "execute_result"
    }
   ],
   "source": [
    "rr1 = (target_price1 - cost )*sell_portion1/cost\n",
    "rr1"
   ]
  },
  {
   "cell_type": "code",
   "execution_count": 18,
   "metadata": {},
   "outputs": [
    {
     "data": {
      "text/plain": [
       "0.8"
      ]
     },
     "execution_count": 18,
     "metadata": {},
     "output_type": "execute_result"
    }
   ],
   "source": [
    "rr2 = (target_price2 - cost )*sell_portion2/cost\n",
    "rr2"
   ]
  },
  {
   "cell_type": "code",
   "execution_count": 19,
   "metadata": {},
   "outputs": [
    {
     "data": {
      "text/plain": [
       "0.92"
      ]
     },
     "execution_count": 19,
     "metadata": {},
     "output_type": "execute_result"
    }
   ],
   "source": [
    "rr_total = rr1 + rr2\n",
    "rr_total"
   ]
  },
  {
   "cell_type": "markdown",
   "metadata": {},
   "source": [
    "想法：如果我想先回收一定程度的本金，比如IPO一开始，回收70%的本金。"
   ]
  },
  {
   "cell_type": "code",
   "execution_count": 23,
   "metadata": {},
   "outputs": [],
   "source": [
    "fund = 10000\n",
    "buy_price = 5\n",
    "target_price1 = 15"
   ]
  },
  {
   "cell_type": "code",
   "execution_count": 24,
   "metadata": {},
   "outputs": [
    {
     "data": {
      "text/plain": [
       "2000.0"
      ]
     },
     "execution_count": 24,
     "metadata": {},
     "output_type": "execute_result"
    }
   ],
   "source": [
    "shares = fund / buy_price\n",
    "shares"
   ]
  },
  {
   "cell_type": "code",
   "execution_count": 25,
   "metadata": {},
   "outputs": [
    {
     "data": {
      "text/plain": [
       "30000.0"
      ]
     },
     "execution_count": 25,
     "metadata": {},
     "output_type": "execute_result"
    }
   ],
   "source": [
    "current_fund = target_price1 * shares\n",
    "current_fund"
   ]
  },
  {
   "cell_type": "code",
   "execution_count": 27,
   "metadata": {},
   "outputs": [
    {
     "data": {
      "text/plain": [
       "666.6666666666666"
      ]
     },
     "execution_count": 27,
     "metadata": {},
     "output_type": "execute_result"
    }
   ],
   "source": [
    "sell_share_to_refund = fund / target_price1\n",
    "sell_share_to_refund"
   ]
  },
  {
   "cell_type": "code",
   "execution_count": 29,
   "metadata": {},
   "outputs": [
    {
     "data": {
      "text/plain": [
       "1333.3333333333335"
      ]
     },
     "execution_count": 29,
     "metadata": {},
     "output_type": "execute_result"
    }
   ],
   "source": [
    "current_remain_shares = shares - sell_share_to_refund\n",
    "current_remain_shares"
   ]
  },
  {
   "cell_type": "code",
   "execution_count": 169,
   "metadata": {},
   "outputs": [],
   "source": [
    "def sell_plan(fund, target_price, ):\n",
    "    fund = fund                   #unit = pound\n",
    "    share_price = 5               #unit = pence\n",
    "    warrant_price = 10\n",
    "    \n",
    "    target_price = target_price\n",
    "    \n",
    "    shares = fund*100 / share_price  # 1 pound = 100 pence\n",
    "    warrants = shares           # if it is 1:1 between shares and warrants\n",
    "    \n",
    "    current_fund = target_price * shares\n",
    "    \n",
    "    sell_share_to_refund = fund*100 / target_price\n",
    "    \n",
    "    current_remain_shares = shares - sell_share_to_refund\n",
    "    \n",
    "    remain_shares_worth = np.round(current_remain_shares*target_price/100)\n",
    "    \n",
    "    warrant_in_money = [0 if target_price<=warrant_price else target_price-warrant_price][0]\n",
    "    \n",
    "    remain_warrants_worth = np.round(shares*warrant_in_money/100)\n",
    "    \n",
    "    total_remain_worth = np.round(shares*warrant_in_money +current_remain_shares*target_price )/100\n",
    "    \n",
    "    print('投入的本金: {}镑   股票预期价格: {}p'.format(np.round(fund), target_price),'\\n','\\n',\n",
    "          '股票初始购入价格: {}p'.format(share_price),'\\n',\n",
    "          '股票初始购入数量: {}股'.format(np.round(shares)),'\\n',\n",
    "          '权证价格: {}p'.format(np.round(warrant_price)),'\\n',\n",
    "          '权证初始拥有数量: {}个'.format(np.round(warrants)),'\\n','\\n',\n",
    "          '股票预期价格: {}p'.format(target_price),'\\n',\n",
    "          '收回本金需卖的股份: {}股'.format(np.round(sell_share_to_refund,0)), '\\n','\\n',\n",
    "          '剩余股份数量: {}股'.format(np.round(current_remain_shares)), '\\n',\n",
    "         '剩余股份价值: {}镑'.format(np.round(remain_shares_worth)), '\\n',\n",
    "          '剩余权证数量: {}个'.format(np.round(warrants)), '\\n',\n",
    "         '权证价值: {}镑'.format(remain_warrants_worth), '\\n','\\n',\n",
    "         '账户剩余总价值: {}镑'.format(total_remain_worth), '\\n',)"
   ]
  },
  {
   "cell_type": "code",
   "execution_count": 170,
   "metadata": {},
   "outputs": [],
   "source": [
    "client_fund = 3000"
   ]
  },
  {
   "cell_type": "code",
   "execution_count": 171,
   "metadata": {},
   "outputs": [
    {
     "name": "stdout",
     "output_type": "stream",
     "text": [
      "投入的本金: 3000镑   股票预期价格: 7p \n",
      " \n",
      " 股票初始购入价格: 5p \n",
      " 股票初始购入数量: 60000.0股 \n",
      " 权证价格: 10p \n",
      " 权证初始拥有数量: 60000.0个 \n",
      " \n",
      " 股票预期价格: 7p \n",
      " 收回本金需卖的股份: 42857.0股 \n",
      " \n",
      " 剩余股份数量: 17143.0股 \n",
      " 剩余股份价值: 1200.0镑 \n",
      " 剩余权证数量: 60000.0个 \n",
      " 权证价值: 0.0镑 \n",
      " \n",
      " 账户剩余总价值: 1200.0镑 \n",
      "\n"
     ]
    }
   ],
   "source": [
    "sell_plan(client_fund, 7)"
   ]
  },
  {
   "cell_type": "code",
   "execution_count": 172,
   "metadata": {},
   "outputs": [
    {
     "name": "stdout",
     "output_type": "stream",
     "text": [
      "投入的本金: 3000镑   股票预期价格: 8p \n",
      " \n",
      " 股票初始购入价格: 5p \n",
      " 股票初始购入数量: 60000.0股 \n",
      " 权证价格: 10p \n",
      " 权证初始拥有数量: 60000.0个 \n",
      " \n",
      " 股票预期价格: 8p \n",
      " 收回本金需卖的股份: 37500.0股 \n",
      " \n",
      " 剩余股份数量: 22500.0股 \n",
      " 剩余股份价值: 1800.0镑 \n",
      " 剩余权证数量: 60000.0个 \n",
      " 权证价值: 0.0镑 \n",
      " \n",
      " 账户剩余总价值: 1800.0镑 \n",
      "\n"
     ]
    }
   ],
   "source": [
    "sell_plan(client_fund, 8)"
   ]
  },
  {
   "cell_type": "code",
   "execution_count": 173,
   "metadata": {},
   "outputs": [
    {
     "name": "stdout",
     "output_type": "stream",
     "text": [
      "投入的本金: 3000镑   股票预期价格: 9p \n",
      " \n",
      " 股票初始购入价格: 5p \n",
      " 股票初始购入数量: 60000.0股 \n",
      " 权证价格: 10p \n",
      " 权证初始拥有数量: 60000.0个 \n",
      " \n",
      " 股票预期价格: 9p \n",
      " 收回本金需卖的股份: 33333.0股 \n",
      " \n",
      " 剩余股份数量: 26667.0股 \n",
      " 剩余股份价值: 2400.0镑 \n",
      " 剩余权证数量: 60000.0个 \n",
      " 权证价值: 0.0镑 \n",
      " \n",
      " 账户剩余总价值: 2400.0镑 \n",
      "\n"
     ]
    }
   ],
   "source": [
    "sell_plan(client_fund, 9)"
   ]
  },
  {
   "cell_type": "code",
   "execution_count": 174,
   "metadata": {},
   "outputs": [
    {
     "name": "stdout",
     "output_type": "stream",
     "text": [
      "投入的本金: 3000镑   股票预期价格: 10p \n",
      " \n",
      " 股票初始购入价格: 5p \n",
      " 股票初始购入数量: 60000.0股 \n",
      " 权证价格: 10p \n",
      " 权证初始拥有数量: 60000.0个 \n",
      " \n",
      " 股票预期价格: 10p \n",
      " 收回本金需卖的股份: 30000.0股 \n",
      " \n",
      " 剩余股份数量: 30000.0股 \n",
      " 剩余股份价值: 3000.0镑 \n",
      " 剩余权证数量: 60000.0个 \n",
      " 权证价值: 0.0镑 \n",
      " \n",
      " 账户剩余总价值: 3000.0镑 \n",
      "\n"
     ]
    }
   ],
   "source": [
    "sell_plan(client_fund,10)"
   ]
  },
  {
   "cell_type": "code",
   "execution_count": 155,
   "metadata": {},
   "outputs": [
    {
     "name": "stdout",
     "output_type": "stream",
     "text": [
      "投入的本金: 3000镑 \n",
      " \n",
      " 股票初始购入价格: 5p \n",
      " 股票初始购入数量: 60000.0股 \n",
      " 权证价格: 10p \n",
      " 权证初始拥有数量: 60000.0个 \n",
      " \n",
      " 股票预期价格: 11p \n",
      " 收回本金需卖的股份: 27273.0股 \n",
      " \n",
      " 剩余股份数量: 32727.0股 \n",
      " 剩余股份价值: 3600.0镑 \n",
      " 剩余权证数量: 60000.0个 \n",
      " 权证价值: 600.0镑 \n",
      " \n",
      " 账户剩余总价值: 4200.0镑 \n",
      "\n"
     ]
    }
   ],
   "source": [
    "sell_plan(client_fund,11)"
   ]
  },
  {
   "cell_type": "code",
   "execution_count": 156,
   "metadata": {},
   "outputs": [
    {
     "name": "stdout",
     "output_type": "stream",
     "text": [
      "投入的本金: 3000镑 \n",
      " \n",
      " 股票初始购入价格: 5p \n",
      " 股票初始购入数量: 60000.0股 \n",
      " 权证价格: 10p \n",
      " 权证初始拥有数量: 60000.0个 \n",
      " \n",
      " 股票预期价格: 12p \n",
      " 收回本金需卖的股份: 25000.0股 \n",
      " \n",
      " 剩余股份数量: 35000.0股 \n",
      " 剩余股份价值: 4200.0镑 \n",
      " 剩余权证数量: 60000.0个 \n",
      " 权证价值: 1200.0镑 \n",
      " \n",
      " 账户剩余总价值: 5400.0镑 \n",
      "\n"
     ]
    }
   ],
   "source": [
    "sell_plan(client_fund,12)"
   ]
  },
  {
   "cell_type": "code",
   "execution_count": 157,
   "metadata": {},
   "outputs": [
    {
     "name": "stdout",
     "output_type": "stream",
     "text": [
      "投入的本金: 3000镑 \n",
      " \n",
      " 股票初始购入价格: 5p \n",
      " 股票初始购入数量: 60000.0股 \n",
      " 权证价格: 10p \n",
      " 权证初始拥有数量: 60000.0个 \n",
      " \n",
      " 股票预期价格: 15p \n",
      " 收回本金需卖的股份: 20000.0股 \n",
      " \n",
      " 剩余股份数量: 40000.0股 \n",
      " 剩余股份价值: 6000.0镑 \n",
      " 剩余权证数量: 60000.0个 \n",
      " 权证价值: 3000.0镑 \n",
      " \n",
      " 账户剩余总价值: 9000.0镑 \n",
      "\n"
     ]
    }
   ],
   "source": [
    "sell_plan(client_fund,15)"
   ]
  },
  {
   "cell_type": "code",
   "execution_count": 176,
   "metadata": {
    "scrolled": false
   },
   "outputs": [
    {
     "name": "stdout",
     "output_type": "stream",
     "text": [
      "投入的本金: 3000镑   股票预期价格: 7p \n",
      " \n",
      " 股票初始购入价格: 5p \n",
      " 股票初始购入数量: 60000.0股 \n",
      " 权证价格: 10p \n",
      " 权证初始拥有数量: 60000.0个 \n",
      " \n",
      " 股票预期价格: 7p \n",
      " 收回本金需卖的股份: 42857.0股 \n",
      " \n",
      " 剩余股份数量: 17143.0股 \n",
      " 剩余股份价值: 1200.0镑 \n",
      " 剩余权证数量: 60000.0个 \n",
      " 权证价值: 0.0镑 \n",
      " \n",
      " 账户剩余总价值: 1200.0镑 \n",
      "\n",
      "None\n",
      "**************************************************\n",
      "投入的本金: 3000镑   股票预期价格: 8p \n",
      " \n",
      " 股票初始购入价格: 5p \n",
      " 股票初始购入数量: 60000.0股 \n",
      " 权证价格: 10p \n",
      " 权证初始拥有数量: 60000.0个 \n",
      " \n",
      " 股票预期价格: 8p \n",
      " 收回本金需卖的股份: 37500.0股 \n",
      " \n",
      " 剩余股份数量: 22500.0股 \n",
      " 剩余股份价值: 1800.0镑 \n",
      " 剩余权证数量: 60000.0个 \n",
      " 权证价值: 0.0镑 \n",
      " \n",
      " 账户剩余总价值: 1800.0镑 \n",
      "\n",
      "None\n",
      "**************************************************\n",
      "投入的本金: 3000镑   股票预期价格: 9p \n",
      " \n",
      " 股票初始购入价格: 5p \n",
      " 股票初始购入数量: 60000.0股 \n",
      " 权证价格: 10p \n",
      " 权证初始拥有数量: 60000.0个 \n",
      " \n",
      " 股票预期价格: 9p \n",
      " 收回本金需卖的股份: 33333.0股 \n",
      " \n",
      " 剩余股份数量: 26667.0股 \n",
      " 剩余股份价值: 2400.0镑 \n",
      " 剩余权证数量: 60000.0个 \n",
      " 权证价值: 0.0镑 \n",
      " \n",
      " 账户剩余总价值: 2400.0镑 \n",
      "\n",
      "None\n",
      "**************************************************\n",
      "投入的本金: 3000镑   股票预期价格: 10p \n",
      " \n",
      " 股票初始购入价格: 5p \n",
      " 股票初始购入数量: 60000.0股 \n",
      " 权证价格: 10p \n",
      " 权证初始拥有数量: 60000.0个 \n",
      " \n",
      " 股票预期价格: 10p \n",
      " 收回本金需卖的股份: 30000.0股 \n",
      " \n",
      " 剩余股份数量: 30000.0股 \n",
      " 剩余股份价值: 3000.0镑 \n",
      " 剩余权证数量: 60000.0个 \n",
      " 权证价值: 0.0镑 \n",
      " \n",
      " 账户剩余总价值: 3000.0镑 \n",
      "\n",
      "None\n",
      "**************************************************\n",
      "投入的本金: 3000镑   股票预期价格: 12p \n",
      " \n",
      " 股票初始购入价格: 5p \n",
      " 股票初始购入数量: 60000.0股 \n",
      " 权证价格: 10p \n",
      " 权证初始拥有数量: 60000.0个 \n",
      " \n",
      " 股票预期价格: 12p \n",
      " 收回本金需卖的股份: 25000.0股 \n",
      " \n",
      " 剩余股份数量: 35000.0股 \n",
      " 剩余股份价值: 4200.0镑 \n",
      " 剩余权证数量: 60000.0个 \n",
      " 权证价值: 1200.0镑 \n",
      " \n",
      " 账户剩余总价值: 5400.0镑 \n",
      "\n",
      "None\n",
      "**************************************************\n",
      "投入的本金: 3000镑   股票预期价格: 15p \n",
      " \n",
      " 股票初始购入价格: 5p \n",
      " 股票初始购入数量: 60000.0股 \n",
      " 权证价格: 10p \n",
      " 权证初始拥有数量: 60000.0个 \n",
      " \n",
      " 股票预期价格: 15p \n",
      " 收回本金需卖的股份: 20000.0股 \n",
      " \n",
      " 剩余股份数量: 40000.0股 \n",
      " 剩余股份价值: 6000.0镑 \n",
      " 剩余权证数量: 60000.0个 \n",
      " 权证价值: 3000.0镑 \n",
      " \n",
      " 账户剩余总价值: 9000.0镑 \n",
      "\n",
      "None\n",
      "**************************************************\n"
     ]
    }
   ],
   "source": [
    "print(sell_plan(client_fund, 7) )\n",
    "print('*'*50)\n",
    "print(sell_plan(client_fund, 8) )\n",
    "print('*'*50)\n",
    "print(sell_plan(client_fund, 9) )\n",
    "print('*'*50)\n",
    "print(sell_plan(client_fund, 10) )\n",
    "print('*'*50)\n",
    "print(sell_plan(client_fund, 12) )\n",
    "print('*'*50)   \n",
    "print(sell_plan(client_fund,15))  \n",
    "print('*'*50) "
   ]
  },
  {
   "cell_type": "code",
   "execution_count": null,
   "metadata": {},
   "outputs": [],
   "source": []
  }
 ],
 "metadata": {
  "kernelspec": {
   "display_name": "Python 3",
   "language": "python",
   "name": "python3"
  },
  "language_info": {
   "codemirror_mode": {
    "name": "ipython",
    "version": 3
   },
   "file_extension": ".py",
   "mimetype": "text/x-python",
   "name": "python",
   "nbconvert_exporter": "python",
   "pygments_lexer": "ipython3",
   "version": "3.8.3"
  }
 },
 "nbformat": 4,
 "nbformat_minor": 4
}
