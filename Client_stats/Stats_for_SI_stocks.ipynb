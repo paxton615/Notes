{
 "cells": [
  {
   "cell_type": "code",
   "execution_count": 1,
   "metadata": {},
   "outputs": [],
   "source": [
    "import pandas as pd\n",
    "import numpy as np\n",
    "from datetime import datetime\n",
    "from datetime import date\n",
    "import matplotlib.pyplot as plt\n",
    "import requests\n",
    "pd.options.display.max_rows = 5000 "
   ]
  },
  {
   "cell_type": "code",
   "execution_count": 8,
   "metadata": {},
   "outputs": [
    {
     "data": {
      "text/html": [
       "<div>\n",
       "<style scoped>\n",
       "    .dataframe tbody tr th:only-of-type {\n",
       "        vertical-align: middle;\n",
       "    }\n",
       "\n",
       "    .dataframe tbody tr th {\n",
       "        vertical-align: top;\n",
       "    }\n",
       "\n",
       "    .dataframe thead th {\n",
       "        text-align: right;\n",
       "    }\n",
       "</style>\n",
       "<table border=\"1\" class=\"dataframe\">\n",
       "  <thead>\n",
       "    <tr style=\"text-align: right;\">\n",
       "      <th></th>\n",
       "      <th>cobr_dates</th>\n",
       "      <th>cobr_close</th>\n",
       "      <th>cobr_volume</th>\n",
       "    </tr>\n",
       "  </thead>\n",
       "  <tbody>\n",
       "    <tr>\n",
       "      <th>0</th>\n",
       "      <td>2021-10-13</td>\n",
       "      <td>1.51</td>\n",
       "      <td>1174640.0</td>\n",
       "    </tr>\n",
       "    <tr>\n",
       "      <th>1</th>\n",
       "      <td>2021-10-12</td>\n",
       "      <td>1.55</td>\n",
       "      <td>3224921.0</td>\n",
       "    </tr>\n",
       "  </tbody>\n",
       "</table>\n",
       "</div>"
      ],
      "text/plain": [
       "   cobr_dates  cobr_close  cobr_volume\n",
       "0  2021-10-13        1.51    1174640.0\n",
       "1  2021-10-12        1.55    3224921.0"
      ]
     },
     "execution_count": 8,
     "metadata": {},
     "output_type": "execute_result"
    }
   ],
   "source": [
    "cobr = pd.read_csv(r'/Users/paxton615/Desktop/Stock_Price_csv/cobr-2021-10.csv')\n",
    "cobr.drop('Unnamed: 0',axis=1, inplace=True)\n",
    "cobr.head(2)"
   ]
  },
  {
   "cell_type": "code",
   "execution_count": 5,
   "metadata": {},
   "outputs": [
    {
     "data": {
      "text/html": [
       "<div>\n",
       "<style scoped>\n",
       "    .dataframe tbody tr th:only-of-type {\n",
       "        vertical-align: middle;\n",
       "    }\n",
       "\n",
       "    .dataframe tbody tr th {\n",
       "        vertical-align: top;\n",
       "    }\n",
       "\n",
       "    .dataframe thead th {\n",
       "        text-align: right;\n",
       "    }\n",
       "</style>\n",
       "<table border=\"1\" class=\"dataframe\">\n",
       "  <thead>\n",
       "    <tr style=\"text-align: right;\">\n",
       "      <th></th>\n",
       "      <th>cobr_close</th>\n",
       "      <th>cobr_volume</th>\n",
       "    </tr>\n",
       "  </thead>\n",
       "  <tbody>\n",
       "    <tr>\n",
       "      <th>count</th>\n",
       "      <td>520.000000</td>\n",
       "      <td>5.200000e+02</td>\n",
       "    </tr>\n",
       "    <tr>\n",
       "      <th>mean</th>\n",
       "      <td>1.886880</td>\n",
       "      <td>3.940671e+06</td>\n",
       "    </tr>\n",
       "    <tr>\n",
       "      <th>std</th>\n",
       "      <td>0.641991</td>\n",
       "      <td>6.825970e+06</td>\n",
       "    </tr>\n",
       "    <tr>\n",
       "      <th>min</th>\n",
       "      <td>0.650000</td>\n",
       "      <td>0.000000e+00</td>\n",
       "    </tr>\n",
       "    <tr>\n",
       "      <th>25%</th>\n",
       "      <td>1.500000</td>\n",
       "      <td>7.518578e+05</td>\n",
       "    </tr>\n",
       "    <tr>\n",
       "      <th>50%</th>\n",
       "      <td>1.875000</td>\n",
       "      <td>1.784049e+06</td>\n",
       "    </tr>\n",
       "    <tr>\n",
       "      <th>75%</th>\n",
       "      <td>2.400000</td>\n",
       "      <td>4.517945e+06</td>\n",
       "    </tr>\n",
       "    <tr>\n",
       "      <th>max</th>\n",
       "      <td>3.500000</td>\n",
       "      <td>6.606146e+07</td>\n",
       "    </tr>\n",
       "  </tbody>\n",
       "</table>\n",
       "</div>"
      ],
      "text/plain": [
       "       cobr_close   cobr_volume\n",
       "count  520.000000  5.200000e+02\n",
       "mean     1.886880  3.940671e+06\n",
       "std      0.641991  6.825970e+06\n",
       "min      0.650000  0.000000e+00\n",
       "25%      1.500000  7.518578e+05\n",
       "50%      1.875000  1.784049e+06\n",
       "75%      2.400000  4.517945e+06\n",
       "max      3.500000  6.606146e+07"
      ]
     },
     "execution_count": 5,
     "metadata": {},
     "output_type": "execute_result"
    }
   ],
   "source": [
    "cobr.describe()"
   ]
  },
  {
   "cell_type": "markdown",
   "metadata": {},
   "source": [
    "#### 第N次配售的日期，价格，权证价格"
   ]
  },
  {
   "cell_type": "code",
   "execution_count": 43,
   "metadata": {},
   "outputs": [],
   "source": [
    "p2_date = '2020-09-01'\n",
    "p2_price = 2.30\n",
    "p2_wprice = 3.00\n",
    "\n",
    "twenty_per_up = p2_price * (1+0.2)\n",
    "thirty_per_up = p2_price * (1+0.3)\n",
    "fourty_per_up = p2_price * (1+0.4)\n",
    "fifty_per_up = p2_price * (1+0.5)"
   ]
  },
  {
   "cell_type": "markdown",
   "metadata": {},
   "source": [
    "##### cobr_p2是cobr第二次Placing开始后价格走势"
   ]
  },
  {
   "cell_type": "code",
   "execution_count": 105,
   "metadata": {},
   "outputs": [
    {
     "data": {
      "text/html": [
       "<div>\n",
       "<style scoped>\n",
       "    .dataframe tbody tr th:only-of-type {\n",
       "        vertical-align: middle;\n",
       "    }\n",
       "\n",
       "    .dataframe tbody tr th {\n",
       "        vertical-align: top;\n",
       "    }\n",
       "\n",
       "    .dataframe thead th {\n",
       "        text-align: right;\n",
       "    }\n",
       "</style>\n",
       "<table border=\"1\" class=\"dataframe\">\n",
       "  <thead>\n",
       "    <tr style=\"text-align: right;\">\n",
       "      <th></th>\n",
       "      <th>cobr_dates</th>\n",
       "      <th>cobr_close</th>\n",
       "      <th>cobr_volume</th>\n",
       "    </tr>\n",
       "  </thead>\n",
       "  <tbody>\n",
       "    <tr>\n",
       "      <th>0</th>\n",
       "      <td>2020-09-01</td>\n",
       "      <td>2.10</td>\n",
       "      <td>3173288.0</td>\n",
       "    </tr>\n",
       "    <tr>\n",
       "      <th>1</th>\n",
       "      <td>2020-09-02</td>\n",
       "      <td>2.25</td>\n",
       "      <td>3670285.0</td>\n",
       "    </tr>\n",
       "    <tr>\n",
       "      <th>2</th>\n",
       "      <td>2020-09-03</td>\n",
       "      <td>2.15</td>\n",
       "      <td>1442285.0</td>\n",
       "    </tr>\n",
       "  </tbody>\n",
       "</table>\n",
       "</div>"
      ],
      "text/plain": [
       "   cobr_dates  cobr_close  cobr_volume\n",
       "0  2020-09-01        2.10    3173288.0\n",
       "1  2020-09-02        2.25    3670285.0\n",
       "2  2020-09-03        2.15    1442285.0"
      ]
     },
     "execution_count": 105,
     "metadata": {},
     "output_type": "execute_result"
    }
   ],
   "source": [
    "cobr_p2 = cobr[cobr['cobr_dates']>=p2_date]\n",
    "cobr_p2 = cobr_p2[::-1].reset_index(drop=True)\n",
    "cobr_p2.head(3)"
   ]
  },
  {
   "cell_type": "code",
   "execution_count": 82,
   "metadata": {},
   "outputs": [],
   "source": [
    "# 图形大概\n",
    "# fig,ax = plt.subplots(3, figsize=(12,6))\n",
    "# ax[0].hist(cobr_p2.cobr_close,bins=30);\n",
    "# ax[1].plot(cobr_p2.cobr_close);\n",
    "# ax[2].plot(cobr_p2.cobr_volume);"
   ]
  },
  {
   "cell_type": "markdown",
   "metadata": {},
   "source": [
    "## 有盈利的天数"
   ]
  },
  {
   "cell_type": "markdown",
   "metadata": {},
   "source": [
    "##### 1. 有多少天利润超过20%，30%,  40%,  50%"
   ]
  },
  {
   "cell_type": "code",
   "execution_count": 104,
   "metadata": {},
   "outputs": [
    {
     "name": "stdout",
     "output_type": "stream",
     "text": [
      "cobr_p2开始到近期交易天数: 284 天\n",
      "利润超过20%的天数: 43 天\n",
      "利润超过30%的天数: 24 天\n",
      "利润超过40%的天数: 7 天\n",
      "利润超过50%的天数: 1 天\n"
     ]
    }
   ],
   "source": [
    "# print('Days since cobr_p2: {}'.format(len(cobr_p2.cobr_close)))\n",
    "# print('Days profit over 20%: {}'.format(len(cobr_p2[cobr_p2['cobr_close']>= twenty_per_up].cobr_close)))\n",
    "# print('Days profit over 30%: {}'.format(len(cobr_p2[cobr_p2['cobr_close']>= thirty_per_up].cobr_close)))\n",
    "# print('Days profit over 40%: {}'.format(len(cobr_p2[cobr_p2['cobr_close']>= fourty_per_up].cobr_close)))\n",
    "# print('Days profit over 50%: {}'.format(len(cobr_p2[cobr_p2['cobr_close']>= fifty_per_up].cobr_close)))\n",
    "print('cobr_p2开始到近期交易天数: {} 天'.format(len(cobr_p2.cobr_close)))\n",
    "print('利润超过20%的天数: {} 天'.format(len(cobr_p2[cobr_p2['cobr_close']>= twenty_per_up].cobr_close)))\n",
    "print('利润超过30%的天数: {} 天'.format(len(cobr_p2[cobr_p2['cobr_close']>= thirty_per_up].cobr_close)))\n",
    "print('利润超过40%的天数: {} 天'.format(len(cobr_p2[cobr_p2['cobr_close']>= fourty_per_up].cobr_close)))\n",
    "print('利润超过50%的天数: {} 天'.format(len(cobr_p2[cobr_p2['cobr_close']>= fifty_per_up].cobr_close)))\n"
   ]
  },
  {
   "cell_type": "markdown",
   "metadata": {},
   "source": [
    "##### 2. warrant price线代表了多少利润率， 有多少天利润超过 warrant price"
   ]
  },
  {
   "cell_type": "code",
   "execution_count": 103,
   "metadata": {},
   "outputs": [
    {
     "name": "stdout",
     "output_type": "stream",
     "text": [
      "权证价格相当于 0.3043478260869566% 的利润\n",
      "股票价格超过权证价格的天数: 24 天\n"
     ]
    }
   ],
   "source": [
    "print('权证价格相当于 {}% 的利润'.format((p2_wprice-p2_price)/p2_price))\n",
    "# print('warrant price means {}% profit'.format((p2_wprice-p2_price)/p2_price))\n",
    "\n",
    "print('股票价格超过权证价格的天数: {} 天'.format(len(cobr_p2[cobr_p2['cobr_close']>= p2_wprice])))\n",
    "# print('Days profit over 20%: {}'.format(len(cobr_p2[cobr_p2['cobr_close']>= p2_wprice])))"
   ]
  },
  {
   "cell_type": "markdown",
   "metadata": {},
   "source": [
    "##### 3. 从配股开始到各个赢利点经历的天数"
   ]
  },
  {
   "cell_type": "code",
   "execution_count": 98,
   "metadata": {},
   "outputs": [],
   "source": [
    "def first_profit_day(column, target_price, profit_percentage):\n",
    "    count = 0\n",
    "    for i in column:\n",
    "        if i < target_price:\n",
    "            count += 1\n",
    "        if i > target_price:\n",
    "            break\n",
    "    print('从开始到第一次{}盈利经历了 {} 天'.format(profit_percentage, count))"
   ]
  },
  {
   "cell_type": "code",
   "execution_count": 102,
   "metadata": {},
   "outputs": [
    {
     "name": "stdout",
     "output_type": "stream",
     "text": [
      "从开始到第一次0%+盈利经历了 8 天\n",
      "从开始到第一次20%盈利经历了 34 天\n",
      "从开始到第一次30%盈利经历了 34 天\n",
      "从开始到第一次40%盈利经历了 35 天\n",
      "从开始到第一次50%盈利经历了 35 天\n"
     ]
    }
   ],
   "source": [
    "first_profit_day(cobr_p2['cobr_close'], p2_price, '0%+')\n",
    "first_profit_day(cobr_p2['cobr_close'], twenty_per_up, '20%')\n",
    "first_profit_day(cobr_p2['cobr_close'], thirty_per_up, '30%')\n",
    "first_profit_day(cobr_p2['cobr_close'], fourty_per_up, '40%')\n",
    "first_profit_day(cobr_p2['cobr_close'], fifty_per_up, '50%')"
   ]
  },
  {
   "cell_type": "code",
   "execution_count": null,
   "metadata": {},
   "outputs": [],
   "source": []
  },
  {
   "cell_type": "code",
   "execution_count": null,
   "metadata": {},
   "outputs": [],
   "source": []
  }
 ],
 "metadata": {
  "kernelspec": {
   "display_name": "Python 3",
   "language": "python",
   "name": "python3"
  },
  "language_info": {
   "codemirror_mode": {
    "name": "ipython",
    "version": 3
   },
   "file_extension": ".py",
   "mimetype": "text/x-python",
   "name": "python",
   "nbconvert_exporter": "python",
   "pygments_lexer": "ipython3",
   "version": "3.8.3"
  }
 },
 "nbformat": 4,
 "nbformat_minor": 4
}
