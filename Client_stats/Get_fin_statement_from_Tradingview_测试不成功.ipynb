{
 "cells": [
  {
   "cell_type": "code",
   "execution_count": 3,
   "metadata": {},
   "outputs": [],
   "source": [
    "import requests\n",
    "from bs4 import BeautifulSoup\n",
    "import bs4\n",
    "import pandas as pd\n",
    "import numpy as np\n",
    "from IPython.display import Image"
   ]
  },
  {
   "cell_type": "code",
   "execution_count": 4,
   "metadata": {},
   "outputs": [],
   "source": [
    "# bdrooms = []\n",
    "# addresses = []\n",
    "# rent = []\n",
    "\n",
    "# for start in range(0,480,24):\n",
    "#     url = 'https://www.rightmove.co.uk/property-to-rent/find.html?locationIdentifier=REGION%5E1474&minBedrooms=4&radius=3.0&propertyTypes=detached%2Csemi-detached%2Cterraced&primaryDisplayPropertyType=houses&includeLetAgreed=false&mustHave=&dontShow=&furnishTypes=&keywords='.format(start)\n",
    "#     r = requests.get(url)\n",
    "#     soup = BeautifulSoup(r.text, \"html.parser\")\n",
    "    \n",
    "#     for num in soup.find_all('h2', class_= 'propertyCard-title'):\n",
    "#         bdrooms.append(num.text.strip())\n",
    "        \n",
    "#     for add in soup.find_all('address', class_=\"propertyCard-address\"):\n",
    "#         for meta in add:\n",
    "#             for loc in meta:\n",
    "#                 if type(loc) is bs4.element.NavigableString:\n",
    "#                     addresses.append(loc)\n",
    "                    \n",
    "#     for pc in soup.find_all('span', 'propertyCard-priceValue'):\n",
    "#         rent.append(pc.string)"
   ]
  },
  {
   "cell_type": "code",
   "execution_count": 5,
   "metadata": {},
   "outputs": [
    {
     "name": "stdout",
     "output_type": "stream",
     "text": [
      "403\n"
     ]
    }
   ],
   "source": [
    "r = requests.get('https://www.tradingview.com/chart/ecswMNwh/')\n",
    "print(r.status_code) #返回200代表成功"
   ]
  },
  {
   "cell_type": "code",
   "execution_count": null,
   "metadata": {},
   "outputs": [],
   "source": []
  },
  {
   "cell_type": "code",
   "execution_count": null,
   "metadata": {},
   "outputs": [],
   "source": []
  },
  {
   "cell_type": "code",
   "execution_count": null,
   "metadata": {},
   "outputs": [],
   "source": []
  },
  {
   "cell_type": "code",
   "execution_count": null,
   "metadata": {},
   "outputs": [],
   "source": []
  },
  {
   "cell_type": "code",
   "execution_count": null,
   "metadata": {},
   "outputs": [],
   "source": []
  }
 ],
 "metadata": {
  "kernelspec": {
   "display_name": "Python 3",
   "language": "python",
   "name": "python3"
  },
  "language_info": {
   "codemirror_mode": {
    "name": "ipython",
    "version": 3
   },
   "file_extension": ".py",
   "mimetype": "text/x-python",
   "name": "python",
   "nbconvert_exporter": "python",
   "pygments_lexer": "ipython3",
   "version": "3.8.3"
  }
 },
 "nbformat": 4,
 "nbformat_minor": 4
}
