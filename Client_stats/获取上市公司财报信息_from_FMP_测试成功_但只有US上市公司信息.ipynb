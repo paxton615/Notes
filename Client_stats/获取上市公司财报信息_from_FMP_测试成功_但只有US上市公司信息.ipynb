{
 "cells": [
  {
   "cell_type": "code",
   "execution_count": 1,
   "metadata": {},
   "outputs": [],
   "source": [
    "try:\n",
    "    # For Python 3.0 and later\n",
    "    from urllib.request import urlopen\n",
    "except ImportError:\n",
    "    # Fall back to Python 2's urllib2\n",
    "    from urllib2 import urlopen"
   ]
  },
  {
   "cell_type": "code",
   "execution_count": 21,
   "metadata": {},
   "outputs": [],
   "source": [
    "import certifi\n",
    "import json\n",
    "\n",
    "def get_jsonparsed_data(url): \n",
    "    response = urlopen(url, cafile=certifi.where())\n",
    "    data = response.read().decode(\"utf-8\")\n",
    "    return json.loads(data)"
   ]
  },
  {
   "cell_type": "markdown",
   "metadata": {},
   "source": [
    "信息获取成功，接下来需要考虑的是：\n",
    "\n",
    "1.如何清理这些数据。Turned out,数据非常干净，不需要什么清理。\n",
    "\n",
    "2.如何利用这些数据，找出符合要求的股票。"
   ]
  },
  {
   "cell_type": "code",
   "execution_count": 26,
   "metadata": {
    "scrolled": true
   },
   "outputs": [
    {
     "name": "stderr",
     "output_type": "stream",
     "text": [
      "<ipython-input-21-653f1fd9b007>:6: DeprecationWarning: cafile, capath and cadefault are deprecated, use a custom context instead.\n",
      "  response = urlopen(url, cafile=certifi.where())\n"
     ]
    },
    {
     "name": "stdout",
     "output_type": "stream",
     "text": [
      "[{'date': '2021-09-25', 'symbol': 'AAPL', 'reportedCurrency': 'USD', 'cik': '0000320193', 'fillingDate': '2021-10-29', 'acceptedDate': '2021-10-28 18:04:28', 'calendarYear': '2021', 'period': 'FY', 'revenue': 365817000000, 'costOfRevenue': 212981000000, 'grossProfit': 152836000000, 'grossProfitRatio': 0.4177935962516778, 'researchAndDevelopmentExpenses': 21914000000, 'generalAndAdministrativeExpenses': 0.0, 'sellingAndMarketingExpenses': 0.0, 'sellingGeneralAndAdministrativeExpenses': 21973000000, 'otherExpenses': 0.0, 'operatingExpenses': 43887000000, 'costAndExpenses': 256868000000, 'interestExpense': 2645000000, 'depreciationAndAmortization': 11284000000, 'ebitda': 123136000000, 'ebitdaratio': 0.33660546120054563, 'operatingIncome': 108949000000, 'operatingIncomeRatio': 0.2985290459437369, 'totalOtherIncomeExpensesNet': -258000000, 'incomeBeforeTax': 109207000000, 'incomeBeforeTaxRatio': 0.2985290459437369, 'incomeTaxExpense': 14527000000, 'netIncome': 94680000000, 'netIncomeRatio': 0.2588179335569424, 'eps': 5.4563941153239, 'epsdiluted': 5.4563941153239, 'weightedAverageShsOut': 16701272000, 'weightedAverageShsOutDil': 16864919000, 'link': 'https://www.sec.gov/Archives/edgar/data/320193/000032019321000105/0000320193-21-000105-index.htm', 'finalLink': 'https://www.sec.gov/Archives/edgar/data/320193/000032019321000105/aapl-20210925.htm'}, {'date': '2020-09-26', 'symbol': 'AAPL', 'reportedCurrency': 'USD', 'cik': '0000320193', 'fillingDate': '2020-10-30', 'acceptedDate': '2020-10-29 18:06:25', 'calendarYear': '2020', 'period': 'FY', 'revenue': 274515000000, 'costOfRevenue': 169559000000, 'grossProfit': 104956000000, 'grossProfitRatio': 0.38233247727810865, 'researchAndDevelopmentExpenses': 18752000000, 'generalAndAdministrativeExpenses': 0.0, 'sellingAndMarketingExpenses': 0.0, 'sellingGeneralAndAdministrativeExpenses': 19916000000, 'otherExpenses': 0.0, 'operatingExpenses': 38668000000, 'costAndExpenses': 208227000000, 'interestExpense': 2873000000, 'depreciationAndAmortization': 11056000000, 'ebitda': 81020000000, 'ebitdaratio': 0.2951386991603373, 'operatingIncome': 66288000000, 'operatingIncomeRatio': 0.24439830246070343, 'totalOtherIncomeExpensesNet': -803000000, 'incomeBeforeTax': 67091000000, 'incomeBeforeTaxRatio': 0.24439830246070343, 'incomeTaxExpense': 9680000000, 'netIncome': 57411000000, 'netIncomeRatio': 0.20913611278072236, 'eps': 3.31, 'epsdiluted': 3.28, 'weightedAverageShsOut': 17352119000, 'weightedAverageShsOutDil': 17528214000, 'link': 'https://www.sec.gov/Archives/edgar/data/320193/000032019320000096/0000320193-20-000096-index.htm', 'finalLink': 'https://www.sec.gov/Archives/edgar/data/320193/000032019320000096/aapl-20200926.htm'}, {'date': '2019-09-28', 'symbol': 'AAPL', 'reportedCurrency': 'USD', 'cik': '0000320193', 'fillingDate': '2019-10-31', 'acceptedDate': '2019-10-30 18:12:36', 'calendarYear': '2019', 'period': 'FY', 'revenue': 260174000000, 'costOfRevenue': 161782000000, 'grossProfit': 98392000000, 'grossProfitRatio': 0.3781776810903472, 'researchAndDevelopmentExpenses': 16217000000, 'generalAndAdministrativeExpenses': 0.0, 'sellingAndMarketingExpenses': 0.0, 'sellingGeneralAndAdministrativeExpenses': 18245000000, 'otherExpenses': 0.0, 'operatingExpenses': 34462000000, 'costAndExpenses': 196244000000, 'interestExpense': 3576000000, 'depreciationAndAmortization': 12547000000, 'ebitda': 81860000000, 'ebitdaratio': 0.3146355900282119, 'operatingIncome': 63930000000, 'operatingIncomeRatio': 0.2526655238417367, 'totalOtherIncomeExpensesNet': -1807000000, 'incomeBeforeTax': 65737000000, 'incomeBeforeTaxRatio': 0.2526655238417367, 'incomeTaxExpense': 10481000000, 'netIncome': 55256000000, 'netIncomeRatio': 0.21238094505984456, 'eps': 2.9925, 'epsdiluted': 2.9725, 'weightedAverageShsOut': 18471336000, 'weightedAverageShsOutDil': 18595652000, 'link': 'https://www.sec.gov/Archives/edgar/data/320193/000032019319000119/0000320193-19-000119-index.html', 'finalLink': 'https://www.sec.gov/Archives/edgar/data/320193/000032019319000119/a10-k20199282019.htm'}, {'date': '2018-09-29', 'symbol': 'AAPL', 'reportedCurrency': 'USD', 'cik': '0000320193', 'fillingDate': '2018-11-05', 'acceptedDate': '2018-11-05 08:01:40', 'calendarYear': '2018', 'period': 'FY', 'revenue': 265595000000, 'costOfRevenue': 163756000000, 'grossProfit': 101839000000, 'grossProfitRatio': 0.38343718820007905, 'researchAndDevelopmentExpenses': 14236000000, 'generalAndAdministrativeExpenses': 0.0, 'sellingAndMarketingExpenses': 0.0, 'sellingGeneralAndAdministrativeExpenses': 16705000000, 'otherExpenses': 0.0, 'operatingExpenses': 30941000000, 'costAndExpenses': 194697000000, 'interestExpense': 3240000000, 'depreciationAndAmortization': 10903000000, 'ebitda': 87046000000, 'ebitdaratio': 0.327739603531693, 'operatingIncome': 70898000000, 'operatingIncomeRatio': 0.27448935409175623, 'totalOtherIncomeExpensesNet': -2005000000, 'incomeBeforeTax': 72903000000, 'incomeBeforeTaxRatio': 0.27448935409175623, 'incomeTaxExpense': 13372000000, 'netIncome': 59531000000, 'netIncomeRatio': 0.22414202074587247, 'eps': 3.0025, 'epsdiluted': 2.9775, 'weightedAverageShsOut': 19821508000, 'weightedAverageShsOutDil': 20000436000, 'link': 'https://www.sec.gov/Archives/edgar/data/320193/000032019318000145/0000320193-18-000145-index.html', 'finalLink': 'https://www.sec.gov/Archives/edgar/data/320193/000032019318000145/a10-k20189292018.htm'}, {'date': '2017-09-30', 'symbol': 'AAPL', 'reportedCurrency': 'USD', 'cik': '0000320193', 'fillingDate': '2017-11-03', 'acceptedDate': '2017-11-03 08:01:37', 'calendarYear': '2017', 'period': 'FY', 'revenue': 229234000000, 'costOfRevenue': 141048000000, 'grossProfit': 88186000000, 'grossProfitRatio': 0.38469860491899105, 'researchAndDevelopmentExpenses': 11581000000, 'generalAndAdministrativeExpenses': 0.0, 'sellingAndMarketingExpenses': 0.0, 'sellingGeneralAndAdministrativeExpenses': 15261000000, 'otherExpenses': 0.0, 'operatingExpenses': 26842000000, 'costAndExpenses': 167890000000, 'interestExpense': 2323000000, 'depreciationAndAmortization': 10157000000, 'ebitda': 76569000000, 'ebitdaratio': 0.33402113124580124, 'operatingIncome': 61344000000, 'operatingIncomeRatio': 0.27957894553164014, 'totalOtherIncomeExpensesNet': -2745000000, 'incomeBeforeTax': 64089000000, 'incomeBeforeTaxRatio': 0.27957894553164014, 'incomeTaxExpense': 15738000000, 'netIncome': 48351000000, 'netIncomeRatio': 0.21092420845075338, 'eps': 2.3175, 'epsdiluted': 2.3025, 'weightedAverageShsOut': 20868968000, 'weightedAverageShsOutDil': 21006768000, 'link': 'https://www.sec.gov/Archives/edgar/data/320193/000032019317000070/0000320193-17-000070-index.html', 'finalLink': 'https://www.sec.gov/Archives/edgar/data/320193/000032019317000070/a10-k20179302017.htm'}, {'date': '2016-09-24', 'symbol': 'AAPL', 'reportedCurrency': 'USD', 'cik': '0000320193', 'fillingDate': '2016-10-26', 'acceptedDate': '2016-10-26 16:42:16', 'calendarYear': '2016', 'period': 'FY', 'revenue': 215639000000, 'costOfRevenue': 131376000000, 'grossProfit': 84263000000, 'grossProfitRatio': 0.3907595564809705, 'researchAndDevelopmentExpenses': 10045000000, 'generalAndAdministrativeExpenses': 0.0, 'sellingAndMarketingExpenses': 0.0, 'sellingGeneralAndAdministrativeExpenses': 14194000000, 'otherExpenses': 0.0, 'operatingExpenses': 24239000000, 'costAndExpenses': 155615000000, 'interestExpense': 1456000000, 'depreciationAndAmortization': 10505000000, 'ebitda': 73333000000, 'ebitdaratio': 0.34007299236223504, 'operatingIncome': 60024000000, 'operatingIncomeRatio': 0.284605289395703, 'totalOtherIncomeExpensesNet': -1348000000, 'incomeBeforeTax': 61372000000, 'incomeBeforeTaxRatio': 0.284605289395703, 'incomeTaxExpense': 15685000000, 'netIncome': 45687000000, 'netIncomeRatio': 0.211867983064288, 'eps': 2.0875, 'epsdiluted': 2.0775, 'weightedAverageShsOut': 21883280000, 'weightedAverageShsOutDil': 22001124000, 'link': 'https://www.sec.gov/Archives/edgar/data/320193/000162828016020309/0001628280-16-020309-index.html', 'finalLink': 'https://www.sec.gov/Archives/edgar/data/320193/000162828016020309/a201610-k9242016.htm'}, {'date': '2015-09-26', 'symbol': 'AAPL', 'reportedCurrency': 'USD', 'cik': '0000320193', 'fillingDate': '2015-10-28', 'acceptedDate': '2015-10-28 16:31:09', 'calendarYear': '2015', 'period': 'FY', 'revenue': 233715000000, 'costOfRevenue': 140089000000, 'grossProfit': 93626000000, 'grossProfitRatio': 0.4005990201741437, 'researchAndDevelopmentExpenses': 8067000000, 'generalAndAdministrativeExpenses': 0.0, 'sellingAndMarketingExpenses': 0.0, 'sellingGeneralAndAdministrativeExpenses': 14329000000, 'otherExpenses': 0.0, 'operatingExpenses': 22396000000, 'costAndExpenses': 162485000000, 'interestExpense': 733000000, 'depreciationAndAmortization': 11257000000, 'ebitda': 84505000000, 'ebitdaratio': 0.3615728558286802, 'operatingIncome': 71230000000, 'operatingIncomeRatio': 0.31027105662880006, 'totalOtherIncomeExpensesNet': -1285000000, 'incomeBeforeTax': 72515000000, 'incomeBeforeTaxRatio': 0.31027105662880006, 'incomeTaxExpense': 19121000000, 'netIncome': 53394000000, 'netIncomeRatio': 0.22845773698735639, 'eps': 2.32, 'epsdiluted': 2.305, 'weightedAverageShsOut': 23013684000, 'weightedAverageShsOutDil': 23172276000, 'link': 'https://www.sec.gov/Archives/edgar/data/320193/000119312515356351/0001193125-15-356351-index.html', 'finalLink': 'https://www.sec.gov/Archives/edgar/data/320193/000119312515356351/d17062d10k.htm'}, {'date': '2014-09-27', 'symbol': 'AAPL', 'reportedCurrency': 'USD', 'cik': '0000320193', 'fillingDate': '2014-10-27', 'acceptedDate': '2014-10-27 17:11:55', 'calendarYear': '2014', 'period': 'FY', 'revenue': 182795000000, 'costOfRevenue': 112258000000, 'grossProfit': 70537000000, 'grossProfitRatio': 0.3858803577778386, 'researchAndDevelopmentExpenses': 6041000000, 'generalAndAdministrativeExpenses': 0.0, 'sellingAndMarketingExpenses': 0.0, 'sellingGeneralAndAdministrativeExpenses': 11993000000, 'otherExpenses': 0.0, 'operatingExpenses': 18034000000, 'costAndExpenses': 130292000000, 'interestExpense': 384000000, 'depreciationAndAmortization': 7946000000, 'ebitda': 61813000000, 'ebitdaratio': 0.3381547635329194, 'operatingIncome': 52503000000, 'operatingIncomeRatio': 0.29258458929401787, 'totalOtherIncomeExpensesNet': -980000000, 'incomeBeforeTax': 53483000000, 'incomeBeforeTaxRatio': 0.29258458929401787, 'incomeTaxExpense': 13973000000, 'netIncome': 39510000000, 'netIncomeRatio': 0.21614376760852322, 'eps': 1.6225, 'epsdiluted': 1.6125, 'weightedAverageShsOut': 24342288000, 'weightedAverageShsOutDil': 24490652000, 'link': 'https://www.sec.gov/Archives/edgar/data/320193/000119312514383437/0001193125-14-383437-index.html', 'finalLink': 'https://www.sec.gov/Archives/edgar/data/320193/000119312514383437/d783162d10k.htm'}, {'date': '2013-09-28', 'symbol': 'AAPL', 'reportedCurrency': 'USD', 'cik': '0000320193', 'fillingDate': '2013-10-30', 'acceptedDate': '2013-10-29 20:38:28', 'calendarYear': '2013', 'period': 'FY', 'revenue': 170910000000, 'costOfRevenue': 106606000000, 'grossProfit': 64304000000, 'grossProfitRatio': 0.3762448072084723, 'researchAndDevelopmentExpenses': 4475000000, 'generalAndAdministrativeExpenses': 0.0, 'sellingAndMarketingExpenses': 0.0, 'sellingGeneralAndAdministrativeExpenses': 10830000000, 'otherExpenses': 0.0, 'operatingExpenses': 15305000000, 'costAndExpenses': 121911000000, 'interestExpense': 136000000, 'depreciationAndAmortization': 6757000000, 'ebitda': 57048000000, 'ebitdaratio': 0.3337897138845006, 'operatingIncome': 48999000000, 'operatingIncomeRatio': 0.293458545433269, 'totalOtherIncomeExpensesNet': -1156000000, 'incomeBeforeTax': 50155000000, 'incomeBeforeTaxRatio': 0.293458545433269, 'incomeTaxExpense': 13118000000, 'netIncome': 37037000000, 'netIncomeRatio': 0.21670469837926393, 'eps': 1.429643, 'epsdiluted': 1.419643, 'weightedAverageShsOut': 25909268000, 'weightedAverageShsOutDil': 26086536000, 'link': 'https://www.sec.gov/Archives/edgar/data/320193/000119312513416534/0001193125-13-416534-index.html', 'finalLink': 'https://www.sec.gov/Archives/edgar/data/320193/000119312513416534/d590790d10k.htm'}, {'date': '2012-09-29', 'symbol': 'AAPL', 'reportedCurrency': 'USD', 'cik': '0000320193', 'fillingDate': '2012-10-31', 'acceptedDate': '2012-10-31 17:07:19', 'calendarYear': '2012', 'period': 'FY', 'revenue': 156508000000, 'costOfRevenue': 87846000000, 'grossProfit': 68662000000, 'grossProfitRatio': 0.4387123980882766, 'researchAndDevelopmentExpenses': 3381000000, 'generalAndAdministrativeExpenses': 0.0, 'sellingAndMarketingExpenses': 0.0, 'sellingGeneralAndAdministrativeExpenses': 10040000000, 'otherExpenses': 0.0, 'operatingExpenses': 13421000000, 'costAndExpenses': 101267000000, 'interestExpense': 0.0, 'depreciationAndAmortization': 3277000000, 'ebitda': 59040000000, 'ebitdaratio': 0.3772331126843356, 'operatingIncome': 55241000000, 'operatingIncomeRatio': 0.35629488588442765, 'totalOtherIncomeExpensesNet': -522000000, 'incomeBeforeTax': 55763000000, 'incomeBeforeTaxRatio': 0.35629488588442765, 'incomeTaxExpense': 14030000000, 'netIncome': 41733000000, 'netIncomeRatio': 0.26665090602397323, 'eps': 1.594286, 'epsdiluted': 1.576786, 'weightedAverageShsOut': 26174904000, 'weightedAverageShsOutDil': 26469940000, 'link': 'https://www.sec.gov/Archives/edgar/data/320193/000119312512444068/0001193125-12-444068-index.html', 'finalLink': 'https://www.sec.gov/Archives/edgar/data/320193/000119312512444068/d411355d10k.htm'}, {'date': '2011-09-24', 'symbol': 'AAPL', 'reportedCurrency': 'USD', 'cik': '0000320193', 'fillingDate': '2011-10-26', 'acceptedDate': '2011-10-26 16:35:25', 'calendarYear': '2011', 'period': 'FY', 'revenue': 108249000000, 'costOfRevenue': 64431000000, 'grossProfit': 43818000000, 'grossProfitRatio': 0.40478895878945764, 'researchAndDevelopmentExpenses': 2429000000, 'generalAndAdministrativeExpenses': 0.0, 'sellingAndMarketingExpenses': 0.0, 'sellingGeneralAndAdministrativeExpenses': 7599000000, 'otherExpenses': 0.0, 'operatingExpenses': 10028000000, 'costAndExpenses': 74459000000, 'interestExpense': 0.0, 'depreciationAndAmortization': 1814000000, 'ebitda': 36019000000, 'ebitdaratio': 0.3327421038531534, 'operatingIncome': 33790000000, 'operatingIncomeRatio': 0.31598444327430275, 'totalOtherIncomeExpensesNet': -415000000, 'incomeBeforeTax': 34205000000, 'incomeBeforeTaxRatio': 0.31598444327430275, 'incomeTaxExpense': 8283000000, 'netIncome': 25922000000, 'netIncomeRatio': 0.2394664153941376, 'eps': 1.001786, 'epsdiluted': 0.988571, 'weightedAverageShsOut': 25879224000, 'weightedAverageShsOutDil': 26226060000, 'link': 'https://www.sec.gov/Archives/edgar/data/320193/000119312511282113/0001193125-11-282113-index.html', 'finalLink': 'https://www.sec.gov/Archives/edgar/data/320193/000119312511282113/d220209d10k.htm'}, {'date': '2010-09-25', 'symbol': 'AAPL', 'reportedCurrency': 'USD', 'cik': '0000320193', 'fillingDate': '2010-10-27', 'acceptedDate': '2010-10-27 16:36:21', 'calendarYear': '2010', 'period': 'FY', 'revenue': 65225000000, 'costOfRevenue': 39541000000, 'grossProfit': 25684000000, 'grossProfitRatio': 0.39377539287083174, 'researchAndDevelopmentExpenses': 1782000000, 'generalAndAdministrativeExpenses': 0.0, 'sellingAndMarketingExpenses': 0.0, 'sellingGeneralAndAdministrativeExpenses': 5517000000, 'otherExpenses': 0.0, 'operatingExpenses': 7299000000, 'costAndExpenses': 46840000000, 'interestExpense': 0.0, 'depreciationAndAmortization': 1027000000, 'ebitda': 19567000000, 'ebitdaratio': 0.29999233422767346, 'operatingIncome': 18385000000, 'operatingIncomeRatio': 0.2842468378689153, 'totalOtherIncomeExpensesNet': -155000000, 'incomeBeforeTax': 18540000000, 'incomeBeforeTaxRatio': 0.2842468378689153, 'incomeTaxExpense': 4527000000, 'netIncome': 14013000000, 'netIncomeRatio': 0.21484093522422384, 'eps': 0.550357, 'epsdiluted': 0.541071, 'weightedAverageShsOut': 25464908000, 'weightedAverageShsOutDil': 25891936000, 'link': 'https://www.sec.gov/Archives/edgar/data/320193/000119312510238044/0001193125-10-238044-index.html', 'finalLink': 'https://www.sec.gov/Archives/edgar/data/320193/000119312510238044/d10k.htm'}, {'date': '2009-09-26', 'symbol': 'AAPL', 'reportedCurrency': 'USD', 'cik': '0000320193', 'fillingDate': '2009-10-27', 'acceptedDate': '2009-10-27 16:18:29', 'calendarYear': '2009', 'period': 'FY', 'revenue': 36537000000, 'costOfRevenue': 23397000000, 'grossProfit': 13140000000, 'grossProfitRatio': 0.3596354380491009, 'researchAndDevelopmentExpenses': 1333000000, 'generalAndAdministrativeExpenses': 0.0, 'sellingAndMarketingExpenses': 0.0, 'sellingGeneralAndAdministrativeExpenses': 4149000000, 'otherExpenses': 0.0, 'operatingExpenses': 5482000000, 'costAndExpenses': 28879000000, 'interestExpense': 0.0, 'depreciationAndAmortization': 703000000, 'ebitda': 8687000000, 'ebitdaratio': 0.23775898404357226, 'operatingIncome': 7658000000, 'operatingIncomeRatio': 0.21851821441278704, 'totalOtherIncomeExpensesNet': -326000000, 'incomeBeforeTax': 7984000000, 'incomeBeforeTaxRatio': 0.21851821441278704, 'incomeTaxExpense': 2280000000, 'netIncome': 5704000000, 'netIncomeRatio': 0.15611571831294305, 'eps': 0.228214, 'epsdiluted': 0.224643, 'weightedAverageShsOut': 25004448000, 'weightedAverageShsOutDil': 25396140000, 'link': 'https://www.sec.gov/Archives/edgar/data/320193/000119312509214859/0001193125-09-214859-index.html', 'finalLink': 'https://www.sec.gov/Archives/edgar/data/320193/000119312509214859/d10k.htm'}, {'date': '2008-09-27', 'symbol': 'AAPL', 'reportedCurrency': 'USD', 'cik': '0000320193', 'fillingDate': '2008-11-05', 'acceptedDate': '2008-11-05 06:16:23', 'calendarYear': '2008', 'period': 'FY', 'revenue': 32479000000, 'costOfRevenue': 21334000000, 'grossProfit': 11145000000, 'grossProfitRatio': 0.3431448012561963, 'researchAndDevelopmentExpenses': 1109000000, 'generalAndAdministrativeExpenses': 0.0, 'sellingAndMarketingExpenses': 0.0, 'sellingGeneralAndAdministrativeExpenses': 3761000000, 'otherExpenses': 0.0, 'operatingExpenses': 4870000000, 'costAndExpenses': 26204000000, 'interestExpense': 0.0, 'depreciationAndAmortization': 473000000, 'ebitda': 7368000000, 'ebitdaratio': 0.22685427507004527, 'operatingIncome': 6275000000, 'operatingIncomeRatio': 0.21229101881215554, 'totalOtherIncomeExpensesNet': -620000000, 'incomeBeforeTax': 6895000000, 'incomeBeforeTaxRatio': 0.21229101881215554, 'incomeTaxExpense': 2061000000, 'netIncome': 4834000000, 'netIncomeRatio': 0.14883463160811602, 'eps': 0.195714, 'epsdiluted': 0.191429, 'weightedAverageShsOut': 24684576000, 'weightedAverageShsOutDil': 25259892000, 'link': 'https://www.sec.gov/Archives/edgar/data/320193/000119312508224958/0001193125-08-224958-index.html', 'finalLink': 'https://www.sec.gov/Archives/edgar/data/320193/000119312508224958/d10k.htm'}, {'date': '2007-09-29', 'symbol': 'AAPL', 'reportedCurrency': 'USD', 'cik': '0000320193', 'fillingDate': '2007-11-15', 'acceptedDate': '2007-11-15 16:49:37', 'calendarYear': '2007', 'period': 'FY', 'revenue': 24006000000, 'costOfRevenue': 15852000000, 'grossProfit': 8154000000, 'grossProfitRatio': 0.33966508372906773, 'researchAndDevelopmentExpenses': 782000000, 'generalAndAdministrativeExpenses': 0.0, 'sellingAndMarketingExpenses': 0.0, 'sellingGeneralAndAdministrativeExpenses': 2963000000, 'otherExpenses': 0.0, 'operatingExpenses': 3745000000, 'costAndExpenses': 19597000000, 'interestExpense': 0.0, 'depreciationAndAmortization': 317000000, 'ebitda': 5325000000, 'ebitdaratio': 0.22181954511372157, 'operatingIncome': 4409000000, 'operatingIncomeRatio': 0.20861451303840706, 'totalOtherIncomeExpensesNet': -599000000, 'incomeBeforeTax': 5008000000, 'incomeBeforeTaxRatio': 0.20861451303840706, 'incomeTaxExpense': 1512000000, 'netIncome': 3496000000, 'netIncomeRatio': 0.1456302591018912, 'eps': 0.144286, 'epsdiluted': 0.140357, 'weightedAverageShsOut': 24208660000, 'weightedAverageShsOutDil': 24900176000, 'link': 'https://www.sec.gov/Archives/edgar/data/320193/000104746907009340/0001047469-07-009340-index.html', 'finalLink': 'https://www.sec.gov/Archives/edgar/data/320193/000104746907009340/a2181030z10-k.htm'}, {'date': '2006-09-30', 'symbol': 'AAPL', 'reportedCurrency': 'USD', 'cik': '0000320193', 'fillingDate': '2006-12-29', 'acceptedDate': '2006-12-29 06:05:58', 'calendarYear': '2006', 'period': 'FY', 'revenue': 19315000000, 'costOfRevenue': 13717000000, 'grossProfit': 5598000000, 'grossProfitRatio': 0.2898265596686513, 'researchAndDevelopmentExpenses': 712000000, 'generalAndAdministrativeExpenses': 0.0, 'sellingAndMarketingExpenses': 0.0, 'sellingGeneralAndAdministrativeExpenses': 2433000000, 'otherExpenses': 0.0, 'operatingExpenses': 3145000000, 'costAndExpenses': 16862000000, 'interestExpense': 0.0, 'depreciationAndAmortization': 225000000, 'ebitda': 3043000000, 'ebitdaratio': 0.1575459487444991, 'operatingIncome': 2453000000, 'operatingIncomeRatio': 0.14589697126585555, 'totalOtherIncomeExpensesNet': -365000000, 'incomeBeforeTax': 2818000000, 'incomeBeforeTaxRatio': 0.14589697126585555, 'incomeTaxExpense': 829000000, 'netIncome': 1989000000, 'netIncomeRatio': 0.1029769609112089, 'eps': 0.084286, 'epsdiluted': 0.081071, 'weightedAverageShsOut': 23633624000, 'weightedAverageShsOutDil': 24570728000, 'link': 'https://www.sec.gov/Archives/edgar/data/320193/000110465906084288/a06-25759_210k.htm', 'finalLink': 'https://www.sec.gov/Archives/edgar/data/320193/000110465906084288/a06-25759_210k.htm'}, {'date': '2005-09-24', 'symbol': 'AAPL', 'reportedCurrency': 'USD', 'cik': '0000320193', 'fillingDate': '2005-12-01', 'acceptedDate': '2005-11-30 21:22:48', 'calendarYear': '2005', 'period': 'FY', 'revenue': 13931000000, 'costOfRevenue': 9888000000, 'grossProfit': 4043000000, 'grossProfitRatio': 0.29021606489124974, 'researchAndDevelopmentExpenses': 534000000, 'generalAndAdministrativeExpenses': 0.0, 'sellingAndMarketingExpenses': 0.0, 'sellingGeneralAndAdministrativeExpenses': 1859000000, 'otherExpenses': 0.0, 'operatingExpenses': 2393000000, 'costAndExpenses': 12281000000, 'interestExpense': 0.0, 'depreciationAndAmortization': 179000000, 'ebitda': 1994000000, 'ebitdaratio': 0.14313401765845954, 'operatingIncome': 1650000000, 'operatingIncomeRatio': 0.13028497595291078, 'totalOtherIncomeExpensesNet': -165000000, 'incomeBeforeTax': 1815000000, 'incomeBeforeTaxRatio': 0.13028497595291078, 'incomeTaxExpense': 480000000, 'netIncome': 1335000000, 'netIncomeRatio': 0.09582944512238892, 'eps': 0.058929, 'epsdiluted': 0.055714, 'weightedAverageShsOut': 22636292000, 'weightedAverageShsOutDil': 23989840000, 'link': 'https://www.sec.gov/Archives/edgar/data/320193/000110465905058421/a05-20674_110k.htm', 'finalLink': 'https://www.sec.gov/Archives/edgar/data/320193/000110465905058421/a05-20674_110k.htm'}, {'date': '2004-09-25', 'symbol': 'AAPL', 'reportedCurrency': 'USD', 'cik': '0000320193', 'fillingDate': '2004-12-03', 'acceptedDate': '2004-12-02 18:05:49', 'calendarYear': '2004', 'period': 'FY', 'revenue': 8279000000, 'costOfRevenue': 6020000000, 'grossProfit': 2259000000, 'grossProfitRatio': 0.2728590409469743, 'researchAndDevelopmentExpenses': 489000000, 'generalAndAdministrativeExpenses': 0.0, 'sellingAndMarketingExpenses': 0.0, 'sellingGeneralAndAdministrativeExpenses': 1421000000, 'otherExpenses': 0.0, 'operatingExpenses': 1910000000, 'costAndExpenses': 7930000000, 'interestExpense': 3000000.0, 'depreciationAndAmortization': 150000000, 'ebitda': 536000000, 'ebitdaratio': 0.0647421186133591, 'operatingIncome': 349000000, 'operatingIncomeRatio': 0.04626162580021742, 'totalOtherIncomeExpensesNet': -34000000, 'incomeBeforeTax': 383000000, 'incomeBeforeTaxRatio': 0.04626162580021742, 'incomeTaxExpense': 107000000, 'netIncome': 276000000, 'netIncomeRatio': 0.03333735958449088, 'eps': 0.013214, 'epsdiluted': 0.012679, 'weightedAverageShsOut': 20809040000, 'weightedAverageShsOutDil': 21689416000, 'link': 'https://www.sec.gov/Archives/edgar/data/320193/000104746904035975/a2147337z10-k.htm', 'finalLink': 'https://www.sec.gov/Archives/edgar/data/320193/000104746904035975/a2147337z10-k.htm'}, {'date': '2003-09-27', 'symbol': 'AAPL', 'reportedCurrency': 'USD', 'cik': '0000320193', 'fillingDate': '2003-12-19', 'acceptedDate': '2003-12-19 17:25:45', 'calendarYear': '2003', 'period': 'FY', 'revenue': 6207000000, 'costOfRevenue': 4499000000, 'grossProfit': 1708000000, 'grossProfitRatio': 0.2751731915579185, 'researchAndDevelopmentExpenses': 471000000, 'generalAndAdministrativeExpenses': 0.0, 'sellingAndMarketingExpenses': 0.0, 'sellingGeneralAndAdministrativeExpenses': 1212000000, 'otherExpenses': 0.0, 'operatingExpenses': 1683000000, 'costAndExpenses': 6182000000, 'interestExpense': 8000000.0, 'depreciationAndAmortization': 113000000, 'ebitda': 214000000, 'ebitdaratio': 0.03447720315772515, 'operatingIncome': 25000000, 'operatingIncomeRatio': 0.014821975189302401, 'totalOtherIncomeExpensesNet': -67000000, 'incomeBeforeTax': 92000000, 'incomeBeforeTaxRatio': 0.014821975189302401, 'incomeTaxExpense': 24000000, 'netIncome': 69000000, 'netIncomeRatio': 0.011116481391976801, 'eps': 0.003393, 'epsdiluted': 0.003393, 'weightedAverageShsOut': 20195336000, 'weightedAverageShsOutDil': 20354096000, 'link': 'https://www.sec.gov/Archives/edgar/data/320193/000104746903041604/a2124888z10-k.htm', 'finalLink': 'https://www.sec.gov/Archives/edgar/data/320193/000104746903041604/a2124888z10-k.htm'}, {'date': '2002-09-28', 'symbol': 'AAPL', 'reportedCurrency': 'USD', 'cik': '0000320193', 'fillingDate': '2002-12-19', 'acceptedDate': '2002-12-19 17:20:21', 'calendarYear': '2002', 'period': 'FY', 'revenue': 5742000000, 'costOfRevenue': 4139000000, 'grossProfit': 1603000000, 'grossProfitRatio': 0.2791710205503309, 'researchAndDevelopmentExpenses': 447000000, 'generalAndAdministrativeExpenses': 0.0, 'sellingAndMarketingExpenses': 0.0, 'sellingGeneralAndAdministrativeExpenses': 1111000000, 'otherExpenses': 0.0, 'operatingExpenses': 1558000000, 'costAndExpenses': 5697000000, 'interestExpense': 11000000, 'depreciationAndAmortization': 118000000, 'ebitda': 216000000, 'ebitdaratio': 0.03761755485893417, 'operatingIncome': 45000000, 'operatingIncomeRatio': 0.015151515151515152, 'totalOtherIncomeExpensesNet': -42000000, 'incomeBeforeTax': 87000000, 'incomeBeforeTaxRatio': 0.015151515151515152, 'incomeTaxExpense': 22000000, 'netIncome': 65000000, 'netIncomeRatio': 0.011320097526994078, 'eps': 0.003214, 'epsdiluted': 0.003214, 'weightedAverageShsOut': 19881232000, 'weightedAverageShsOutDil': 20259960000, 'link': 'https://www.sec.gov/Archives/edgar/data/320193/000104746902007674/0001047469-02-007674-index.html', 'finalLink': 'https://www.sec.gov/Archives/edgar/data/320193/000104746902007674/a2096490z10-k.htm'}, {'date': '2001-09-29', 'symbol': 'AAPL', 'reportedCurrency': 'USD', 'cik': '0000320193', 'fillingDate': '2001-12-21', 'acceptedDate': '2001-12-21 00:00:00', 'calendarYear': '2001', 'period': 'FY', 'revenue': 5363000000, 'costOfRevenue': 4128000000, 'grossProfit': 1235000000, 'grossProfitRatio': 0.2302815588290136, 'researchAndDevelopmentExpenses': 441000000, 'generalAndAdministrativeExpenses': 0.0, 'sellingAndMarketingExpenses': 0.0, 'sellingGeneralAndAdministrativeExpenses': 1138000000, 'otherExpenses': 0.0, 'operatingExpenses': 1579000000, 'costAndExpenses': 5707000000, 'interestExpense': 16000000, 'depreciationAndAmortization': 102000000, 'ebitda': 78000000, 'ebitdaratio': 0.014544098452358755, 'operatingIncome': -344000000, 'operatingIncomeRatio': -0.009696065634905836, 'totalOtherIncomeExpensesNet': -292000000, 'incomeBeforeTax': -52000000, 'incomeBeforeTaxRatio': -0.009696065634905836, 'incomeTaxExpense': -15000000, 'netIncome': -25000000, 'netIncomeRatio': -0.004661570016781652, 'eps': -0.00125, 'epsdiluted': -0.00125, 'weightedAverageShsOut': 19354328000, 'weightedAverageShsOutDil': 19354328000, 'link': 'https://www.sec.gov/Archives/edgar/data/320193/000091205701544436/a2066171z10-k405.htm', 'finalLink': 'https://www.sec.gov/Archives/edgar/data/320193/000091205701544436/a2066171z10-k405.htm'}, {'date': '2000-09-30', 'symbol': 'AAPL', 'reportedCurrency': 'USD', 'cik': '0000320193', 'fillingDate': '2000-12-14', 'acceptedDate': '2000-12-14 00:00:00', 'calendarYear': '2000', 'period': 'FY', 'revenue': 7983000000, 'costOfRevenue': 5817000000, 'grossProfit': 2166000000, 'grossProfitRatio': 0.27132656895903795, 'researchAndDevelopmentExpenses': 380000000, 'generalAndAdministrativeExpenses': 0.0, 'sellingAndMarketingExpenses': 0.0, 'sellingGeneralAndAdministrativeExpenses': 1166000000, 'otherExpenses': 0.0, 'operatingExpenses': 1546000000, 'costAndExpenses': 7363000000, 'interestExpense': 21000000, 'depreciationAndAmortization': 84000000, 'ebitda': 1197000000, 'ebitdaratio': 0.14994363021420518, 'operatingIncome': 620000000, 'operatingIncomeRatio': 0.13679068019541527, 'totalOtherIncomeExpensesNet': -472000000, 'incomeBeforeTax': 1092000000, 'incomeBeforeTaxRatio': 0.13679068019541527, 'incomeTaxExpense': 306000000, 'netIncome': 786000000, 'netIncomeRatio': 0.09845922585494175, 'eps': 0.043214, 'epsdiluted': 0.038929, 'weightedAverageShsOut': 18175808000, 'weightedAverageShsOutDil': 20178144000, 'link': 'https://www.sec.gov/Archives/edgar/data/320193/000091205700053623/0000912057-00-053623-index.html', 'finalLink': 'https://www.sec.gov/Archives/edgar/data/320193/000091205700053623/a2032880z10-k.txt'}, {'date': '1999-09-25', 'symbol': 'AAPL', 'reportedCurrency': 'USD', 'cik': '0000320193', 'fillingDate': '1999-12-22', 'acceptedDate': '1999-12-22 00:00:00', 'calendarYear': '1999', 'period': 'FY', 'revenue': 6134000000, 'costOfRevenue': 4438000000, 'grossProfit': 1696000000, 'grossProfitRatio': 0.2764916856863384, 'researchAndDevelopmentExpenses': 314000000, 'generalAndAdministrativeExpenses': 0.0, 'sellingAndMarketingExpenses': 0.0, 'sellingGeneralAndAdministrativeExpenses': 996000000, 'otherExpenses': 0.0, 'operatingExpenses': 1310000000, 'costAndExpenses': 5748000000, 'interestExpense': 47000000, 'depreciationAndAmortization': 85000000, 'ebitda': 808000000, 'ebitdaratio': 0.1317248125203782, 'operatingIncome': 386000000, 'operatingIncomeRatio': 0.11020541245516792, 'totalOtherIncomeExpensesNet': -290000000, 'incomeBeforeTax': 676000000, 'incomeBeforeTaxRatio': 0.11020541245516792, 'incomeTaxExpense': 75000000, 'netIncome': 601000000, 'netIncomeRatio': 0.09797848059993479, 'eps': 0.0375, 'epsdiluted': 0.032232, 'weightedAverageShsOut': 16033584000, 'weightedAverageShsOutDil': 19506368000, 'link': 'https://www.sec.gov/Archives/edgar/data/320193/000091205799010244/0000912057-99-010244-index.html', 'finalLink': 'https://www.sec.gov/Archives/edgar/data/320193/0000912057-99-010244.txt'}, {'date': '1998-09-25', 'symbol': 'AAPL', 'reportedCurrency': 'USD', 'cik': '0000320193', 'fillingDate': '1998-09-25', 'acceptedDate': '1998-09-25', 'calendarYear': '1998', 'period': 'FY', 'revenue': 5941000000, 'costOfRevenue': 4462000000, 'grossProfit': 1479000000, 'grossProfitRatio': 0.24894798855411546, 'researchAndDevelopmentExpenses': 310000000, 'generalAndAdministrativeExpenses': 0.0, 'sellingAndMarketingExpenses': 0.0, 'sellingGeneralAndAdministrativeExpenses': 908000000, 'otherExpenses': 0.0, 'operatingExpenses': 1218000000, 'costAndExpenses': 5680000000, 'interestExpense': 62000000, 'depreciationAndAmortization': 111000000, 'ebitda': 502000000, 'ebitdaratio': 0.08449755933344555, 'operatingIncome': 261000000, 'operatingIncomeRatio': 0.05537788251136173, 'totalOtherIncomeExpensesNet': -68000000, 'incomeBeforeTax': 329000000, 'incomeBeforeTaxRatio': 0.05537788251136173, 'incomeTaxExpense': 20000000, 'netIncome': 309000000, 'netIncomeRatio': 0.05201144588453122, 'eps': 0.020893, 'epsdiluted': 0.01875, 'weightedAverageShsOut': 14781088000, 'weightedAverageShsOutDil': 18806704000, 'link': '', 'finalLink': ''}, {'date': '1997-09-26', 'symbol': 'AAPL', 'reportedCurrency': 'USD', 'cik': '0000320193', 'fillingDate': '1997-12-05', 'acceptedDate': '1997-12-05 00:00:00', 'calendarYear': '1997', 'period': 'FY', 'revenue': 7081000000, 'costOfRevenue': 5713000000, 'grossProfit': 1368000000, 'grossProfitRatio': 0.19319305182883773, 'researchAndDevelopmentExpenses': 860000000, 'generalAndAdministrativeExpenses': 0.0, 'sellingAndMarketingExpenses': 0.0, 'sellingGeneralAndAdministrativeExpenses': 1286000000, 'otherExpenses': 0.0, 'operatingExpenses': 2146000000, 'costAndExpenses': 7859000000, 'interestExpense': 71000000, 'depreciationAndAmortization': 118000000, 'ebitda': -575000000, 'ebitdaratio': -0.08120321988419715, 'operatingIncome': -778000000, 'operatingIncomeRatio': -0.14757802570258438, 'totalOtherIncomeExpensesNet': 267000000, 'incomeBeforeTax': -1045000000, 'incomeBeforeTaxRatio': -0.14757802570258438, 'incomeTaxExpense': 0.0, 'netIncome': -1045000000, 'netIncomeRatio': -0.14757802570258438, 'eps': -0.074018, 'epsdiluted': -0.074018, 'weightedAverageShsOut': 14118944000, 'weightedAverageShsOutDil': 14118944000, 'link': 'https://www.sec.gov/Archives/edgar/data/320193/000104746997006960/0001047469-97-006960-index.html', 'finalLink': 'https://www.sec.gov/Archives/edgar/data/320193/0001047469-97-006960.txt'}, {'date': '1996-09-27', 'symbol': 'AAPL', 'reportedCurrency': 'USD', 'cik': '0000320193', 'fillingDate': '1996-12-19', 'acceptedDate': '1996-12-19 00:00:00', 'calendarYear': '1996', 'period': 'FY', 'revenue': 9833000000, 'costOfRevenue': 8865000000, 'grossProfit': 968000000, 'grossProfitRatio': 0.09844401505135768, 'researchAndDevelopmentExpenses': 604000000, 'generalAndAdministrativeExpenses': 0.0, 'sellingAndMarketingExpenses': 0.0, 'sellingGeneralAndAdministrativeExpenses': 1568000000, 'otherExpenses': 0.0, 'operatingExpenses': 2172000000, 'costAndExpenses': 11037000000, 'interestExpense': 60000000, 'depreciationAndAmortization': 156000000, 'ebitda': -1079000000, 'ebitdaratio': -0.10973253330621377, 'operatingIncome': -1204000000, 'operatingIncomeRatio': -0.1316993796399878, 'totalOtherIncomeExpensesNet': 91000000, 'incomeBeforeTax': -1295000000, 'incomeBeforeTaxRatio': -0.1316993796399878, 'incomeTaxExpense': -479000000, 'netIncome': -816000000, 'netIncomeRatio': -0.08298586392759076, 'eps': -0.058839, 'epsdiluted': -0.058839, 'weightedAverageShsOut': 13858208000, 'weightedAverageShsOutDil': 13858208000, 'link': 'https://www.sec.gov/Archives/edgar/data/320193/000032019396000023/0000320193-96-000023-index.html', 'finalLink': 'https://www.sec.gov/Archives/edgar/data/320193/0000320193-96-000023.txt'}, {'date': '1995-09-29', 'symbol': 'AAPL', 'reportedCurrency': 'USD', 'cik': '0000320193', 'fillingDate': '1995-12-19', 'acceptedDate': '1995-12-19 00:00:00', 'calendarYear': '1995', 'period': 'FY', 'revenue': 11062000000, 'costOfRevenue': 8204000000, 'grossProfit': 2858000000, 'grossProfitRatio': 0.25836195986259264, 'researchAndDevelopmentExpenses': 614000000, 'generalAndAdministrativeExpenses': 0.0, 'sellingAndMarketingExpenses': 0.0, 'sellingGeneralAndAdministrativeExpenses': 1583000000, 'otherExpenses': 0.0, 'operatingExpenses': 2197000000, 'costAndExpenses': 10401000000, 'interestExpense': 48000000, 'depreciationAndAmortization': 127000000, 'ebitda': 849000000, 'ebitdaratio': 0.07674923160368831, 'operatingIncome': 661000000, 'operatingIncomeRatio': 0.06092930753932381, 'totalOtherIncomeExpensesNet': -13000000, 'incomeBeforeTax': 674000000, 'incomeBeforeTaxRatio': 0.06092930753932381, 'incomeTaxExpense': 250000000, 'netIncome': 424000000, 'netIncomeRatio': 0.03832941601880311, 'eps': 0.030804, 'epsdiluted': 0.030804, 'weightedAverageShsOut': 13781264000, 'weightedAverageShsOutDil': 13781264000, 'link': 'https://www.sec.gov/Archives/edgar/data/320193/000032019395000016/0000320193-95-000016-index.html', 'finalLink': 'https://www.sec.gov/Archives/edgar/data/320193/0000320193-95-000016.txt'}, {'date': '1994-09-30', 'symbol': 'AAPL', 'reportedCurrency': 'USD', 'cik': '0000320193', 'fillingDate': '1994-12-13', 'acceptedDate': '1994-12-13 00:00:00', 'calendarYear': '1994', 'period': 'FY', 'revenue': 9188748000, 'costOfRevenue': 6844915000, 'grossProfit': 2343833000, 'grossProfitRatio': 0.25507642608111575, 'researchAndDevelopmentExpenses': 564303000, 'generalAndAdministrativeExpenses': 0.0, 'sellingAndMarketingExpenses': 0.0, 'sellingGeneralAndAdministrativeExpenses': 1384111000, 'otherExpenses': 0.0, 'operatingExpenses': 1948414000, 'costAndExpenses': 8793329000, 'interestExpense': 39653000, 'depreciationAndAmortization': 167958000, 'ebitda': 707897000, 'ebitdaratio': 0.07703954880469026, 'operatingIncome': 395419000, 'operatingIncomeRatio': 0.05444550225993792, 'totalOtherIncomeExpensesNet': -104867000, 'incomeBeforeTax': 500286000, 'incomeBeforeTaxRatio': 0.05444550225993792, 'incomeTaxExpense': 190108000, 'netIncome': 310178000, 'netIncomeRatio': 0.03375628540471455, 'eps': 0.023304, 'epsdiluted': 0.023304, 'weightedAverageShsOut': 13298320000, 'weightedAverageShsOutDil': 13306720000, 'link': 'https://www.sec.gov/Archives/edgar/data/320193/000032019394000016/0000320193-94-000016-index.html', 'finalLink': 'https://www.sec.gov/Archives/edgar/data/320193/0000320193-94-000016.txt'}, {'date': '1993-09-30', 'symbol': 'AAPL', 'reportedCurrency': 'USD', 'cik': '0000320193', 'fillingDate': '1993-09-30', 'acceptedDate': '1993-09-30', 'calendarYear': '1993', 'period': 'FY', 'revenue': 7977000000, 'costOfRevenue': 5082700000, 'grossProfit': 2894300000, 'grossProfitRatio': 0.3628306380844929, 'researchAndDevelopmentExpenses': 0.0, 'generalAndAdministrativeExpenses': 0.0, 'sellingAndMarketingExpenses': 0.0, 'sellingGeneralAndAdministrativeExpenses': 2617800000, 'otherExpenses': 166100000, 'operatingExpenses': 2783900000, 'costAndExpenses': 7866600000, 'interestExpense': 0.0, 'depreciationAndAmortization': 166100000, 'ebitda': 305800000, 'ebitdaratio': 0.038335213739501064, 'operatingIncome': 110400000, 'operatingIncomeRatio': 0.01751284944214617, 'totalOtherIncomeExpensesNet': -29300000, 'incomeBeforeTax': 139700000, 'incomeBeforeTaxRatio': 0.01751284944214617, 'incomeTaxExpense': 53100000, 'netIncome': 86600000, 'netIncomeRatio': 0.010856211608374076, 'eps': 0.006607, 'epsdiluted': 0.006607, 'weightedAverageShsOut': 13107027027, 'weightedAverageShsOutDil': 13107027027, 'link': '', 'finalLink': ''}, {'date': '1992-09-30', 'symbol': 'AAPL', 'reportedCurrency': 'USD', 'cik': '0000320193', 'fillingDate': '1992-09-30', 'acceptedDate': '1992-09-30', 'calendarYear': '1992', 'period': 'FY', 'revenue': 7086500000, 'costOfRevenue': 3774200000, 'grossProfit': 3312300000, 'grossProfitRatio': 0.46740986382558386, 'researchAndDevelopmentExpenses': 0.0, 'generalAndAdministrativeExpenses': 0.0, 'sellingAndMarketingExpenses': 0.0, 'sellingGeneralAndAdministrativeExpenses': 2289400000, 'otherExpenses': 217200000, 'operatingExpenses': 2506600000, 'costAndExpenses': 6280800000, 'interestExpense': 0.0, 'depreciationAndAmortization': 217200000, 'ebitda': 1072700000, 'ebitdaratio': 0.15137232766527906, 'operatingIncome': 805700000, 'operatingIncomeRatio': 0.12072250052917519, 'totalOtherIncomeExpensesNet': -49800000, 'incomeBeforeTax': 855500000, 'incomeBeforeTaxRatio': 0.12072250052917519, 'incomeTaxExpense': 325100000, 'netIncome': 530400000, 'netIncomeRatio': 0.07484653919424257, 'eps': 0.03875, 'epsdiluted': 0.03875, 'weightedAverageShsOut': 13687741935, 'weightedAverageShsOutDil': 13687741935, 'link': '', 'finalLink': ''}, {'date': '1991-09-30', 'symbol': 'AAPL', 'reportedCurrency': 'USD', 'cik': '0000320193', 'fillingDate': '1991-09-30', 'acceptedDate': '1991-09-30', 'calendarYear': '1991', 'period': 'FY', 'revenue': 6308800000, 'costOfRevenue': 3109700000, 'grossProfit': 3199100000, 'grossProfitRatio': 0.5070853411108294, 'researchAndDevelopmentExpenses': 0.0, 'generalAndAdministrativeExpenses': 0.0, 'sellingAndMarketingExpenses': 0.0, 'sellingGeneralAndAdministrativeExpenses': 2547400000, 'otherExpenses': 204400000, 'operatingExpenses': 2751800000, 'costAndExpenses': 5861500000, 'interestExpense': 0.0, 'depreciationAndAmortization': 204400000, 'ebitda': 704100000, 'ebitdaratio': 0.11160601065178798, 'operatingIncome': 447300000, 'operatingIncomeRatio': 0.07920682221658636, 'totalOtherIncomeExpensesNet': -52400000, 'incomeBeforeTax': 499700000, 'incomeBeforeTaxRatio': 0.07920682221658636, 'incomeTaxExpense': 189900000, 'netIncome': 309800000, 'netIncomeRatio': 0.049106010651787976, 'eps': 0.023036, 'epsdiluted': 0.023036, 'weightedAverageShsOut': 13448682171, 'weightedAverageShsOutDil': 13448682171, 'link': '', 'finalLink': ''}, {'date': '1990-09-30', 'symbol': 'AAPL', 'reportedCurrency': 'USD', 'cik': '0000320193', 'fillingDate': '1990-09-30', 'acceptedDate': '1990-09-30', 'calendarYear': '1990', 'period': 'FY', 'revenue': 5558400000, 'costOfRevenue': 2403500000, 'grossProfit': 3154900000, 'grossProfitRatio': 0.5675913932066782, 'researchAndDevelopmentExpenses': 0.0, 'generalAndAdministrativeExpenses': 0.0, 'sellingAndMarketingExpenses': 0.0, 'sellingGeneralAndAdministrativeExpenses': 2240200000, 'otherExpenses': 202700000, 'operatingExpenses': 2442900000, 'costAndExpenses': 4846400000, 'interestExpense': 0.0, 'depreciationAndAmortization': 202700000, 'ebitda': 981200000, 'ebitdaratio': 0.17652561888313184, 'operatingIncome': 712000000, 'operatingIncomeRatio': 0.1400582901554404, 'totalOtherIncomeExpensesNet': -66500000, 'incomeBeforeTax': 778500000, 'incomeBeforeTaxRatio': 0.1400582901554404, 'incomeTaxExpense': 303600000, 'netIncome': 474900000, 'netIncomeRatio': 0.08543825561312608, 'eps': 0.03375, 'epsdiluted': 0.03375, 'weightedAverageShsOut': 14071111111, 'weightedAverageShsOutDil': 14071111111, 'link': '', 'finalLink': ''}, {'date': '1989-09-30', 'symbol': 'AAPL', 'reportedCurrency': 'USD', 'cik': '0000320193', 'fillingDate': '1989-09-30', 'acceptedDate': '1989-09-30', 'calendarYear': '1989', 'period': 'FY', 'revenue': 5284000000, 'costOfRevenue': 2570000000, 'grossProfit': 2714000000, 'grossProfitRatio': 0.5136260408781226, 'researchAndDevelopmentExpenses': 0.0, 'generalAndAdministrativeExpenses': 0.0, 'sellingAndMarketingExpenses': 0.0, 'sellingGeneralAndAdministrativeExpenses': 1954900000, 'otherExpenses': 124800000, 'operatingExpenses': 2079700000, 'costAndExpenses': 4649700000, 'interestExpense': 0.0, 'depreciationAndAmortization': 124800000, 'ebitda': 869100000, 'ebitdaratio': 0.1644776684330053, 'operatingIncome': 634300000, 'operatingIncomeRatio': 0.14085919757759274, 'totalOtherIncomeExpensesNet': -110000000, 'incomeBeforeTax': 744300000, 'incomeBeforeTaxRatio': 0.14085919757759274, 'incomeTaxExpense': 290300000, 'netIncome': 454000000, 'netIncomeRatio': 0.08591975775927328, 'eps': 0.031607, 'epsdiluted': 0.031607, 'weightedAverageShsOut': 14363841808, 'weightedAverageShsOutDil': 14363841808, 'link': '', 'finalLink': ''}, {'date': '1988-09-30', 'symbol': 'AAPL', 'reportedCurrency': 'USD', 'cik': '0000320193', 'fillingDate': '1988-09-30', 'acceptedDate': '1988-09-30', 'calendarYear': '1988', 'period': 'FY', 'revenue': 4071400000, 'costOfRevenue': 1913200000, 'grossProfit': 2158200000, 'grossProfitRatio': 0.5300879304416172, 'researchAndDevelopmentExpenses': 0.0, 'generalAndAdministrativeExpenses': 0.0, 'sellingAndMarketingExpenses': 0.0, 'sellingGeneralAndAdministrativeExpenses': 1460200000, 'otherExpenses': 77700000, 'operatingExpenses': 1537900000, 'costAndExpenses': 3451100000, 'interestExpense': 0.0, 'depreciationAndAmortization': 77700000, 'ebitda': 733900000, 'ebitdaratio': 0.18025740531512502, 'operatingIncome': 620300000, 'operatingIncomeRatio': 0.16117306086358502, 'totalOtherIncomeExpensesNet': -35900000, 'incomeBeforeTax': 656200000, 'incomeBeforeTaxRatio': 0.16117306086358502, 'incomeTaxExpense': 255900000, 'netIncome': 400300000, 'netIncomeRatio': 0.09831998821044358, 'eps': 0.0275, 'epsdiluted': 0.0275, 'weightedAverageShsOut': 14556363636, 'weightedAverageShsOutDil': 14556363636, 'link': '', 'finalLink': ''}, {'date': '1987-09-30', 'symbol': 'AAPL', 'reportedCurrency': 'USD', 'cik': '0000320193', 'fillingDate': '1987-09-30', 'acceptedDate': '1987-09-30', 'calendarYear': '1987', 'period': 'FY', 'revenue': 2661100000, 'costOfRevenue': 1225700000, 'grossProfit': 1435400000, 'grossProfitRatio': 0.5394009995866371, 'researchAndDevelopmentExpenses': 0.0, 'generalAndAdministrativeExpenses': 0.0, 'sellingAndMarketingExpenses': 0.0, 'sellingGeneralAndAdministrativeExpenses': 993400000, 'otherExpenses': 70500000, 'operatingExpenses': 1063900000, 'costAndExpenses': 2289600000, 'interestExpense': 0.0, 'depreciationAndAmortization': 70500000, 'ebitda': 480900000, 'ebitdaratio': 0.18071474202397506, 'operatingIncome': 371500000, 'operatingIncomeRatio': 0.1542219382961933, 'totalOtherIncomeExpensesNet': -38900000, 'incomeBeforeTax': 410400000, 'incomeBeforeTaxRatio': 0.1542219382961933, 'incomeTaxExpense': 192900000, 'netIncome': 217500000, 'netIncomeRatio': 0.08173311788358198, 'eps': 0.014821, 'epsdiluted': 0.014821, 'weightedAverageShsOut': 14674698795, 'weightedAverageShsOutDil': 14674698795, 'link': '', 'finalLink': ''}, {'date': '1986-09-30', 'symbol': 'AAPL', 'reportedCurrency': 'USD', 'cik': '0000320193', 'fillingDate': '1986-09-30', 'acceptedDate': '1986-09-30', 'calendarYear': '1986', 'period': 'FY', 'revenue': 1901900000, 'costOfRevenue': 840000000, 'grossProfit': 1061900000, 'grossProfitRatio': 0.5583364004416635, 'researchAndDevelopmentExpenses': 0.0, 'generalAndAdministrativeExpenses': 0.0, 'sellingAndMarketingExpenses': 0.0, 'sellingGeneralAndAdministrativeExpenses': 737300000, 'otherExpenses': 51100000, 'operatingExpenses': 788400000, 'costAndExpenses': 1628400000, 'interestExpense': 0.0, 'depreciationAndAmortization': 51100000, 'ebitda': 360900000, 'ebitdaratio': 0.1897576108102424, 'operatingIncome': 273500000, 'operatingIncomeRatio': 0.16288974183711025, 'totalOtherIncomeExpensesNet': -36300000, 'incomeBeforeTax': 309800000, 'incomeBeforeTaxRatio': 0.16288974183711025, 'incomeTaxExpense': 155800000, 'netIncome': 154000000, 'netIncomeRatio': 0.08097165991902834, 'eps': 0.010714, 'epsdiluted': 0.010714, 'weightedAverageShsOut': 14373333333, 'weightedAverageShsOutDil': 14373333333, 'link': '', 'finalLink': ''}, {'date': '1985-09-30', 'symbol': 'AAPL', 'reportedCurrency': 'USD', 'cik': '0000320193', 'fillingDate': '1985-09-30', 'acceptedDate': '1985-09-30', 'calendarYear': '1985', 'period': 'FY', 'revenue': 1918300000, 'costOfRevenue': 1076000000, 'grossProfit': 842300000, 'grossProfitRatio': 0.43908669134129175, 'researchAndDevelopmentExpenses': 0.0, 'generalAndAdministrativeExpenses': 0.0, 'sellingAndMarketingExpenses': 0.0, 'sellingGeneralAndAdministrativeExpenses': 653200000, 'otherExpenses': 41800000, 'operatingExpenses': 695000000, 'costAndExpenses': 1771000000, 'interestExpense': 0.0, 'depreciationAndAmortization': 41800000, 'ebitda': 161800000, 'ebitdaratio': 0.08434551425741542, 'operatingIncome': 147300000, 'operatingIncomeRatio': 0.06255538758275557, 'totalOtherIncomeExpensesNet': 27300000, 'incomeBeforeTax': 120000000, 'incomeBeforeTaxRatio': 0.06255538758275557, 'incomeTaxExpense': 58800000, 'netIncome': 61200000, 'netIncomeRatio': 0.031903247667205335, 'eps': 0.004464, 'epsdiluted': 0.004464, 'weightedAverageShsOut': 13708800000, 'weightedAverageShsOutDil': 13708800000, 'link': '', 'finalLink': ''}]\n"
     ]
    }
   ],
   "source": [
    "url = (\"https://financialmodelingprep.com/api/v3/income-statement/AAPL?apikey=bda6dec9d49c52113bb97d6bc9dce15b\")\n",
    "print(get_jsonparsed_data(url))"
   ]
  },
  {
   "cell_type": "code",
   "execution_count": 5,
   "metadata": {},
   "outputs": [
    {
     "name": "stderr",
     "output_type": "stream",
     "text": [
      "<ipython-input-2-4a7bce580ad7>:16: DeprecationWarning: cafile, capath and cadefault are deprecated, use a custom context instead.\n",
      "  response = urlopen(url, cafile=certifi.where())\n"
     ]
    }
   ],
   "source": [
    "aapl = get_jsonparsed_data(url)"
   ]
  },
  {
   "cell_type": "code",
   "execution_count": 8,
   "metadata": {},
   "outputs": [
    {
     "data": {
      "text/plain": [
       "'2020-09-26'"
      ]
     },
     "execution_count": 8,
     "metadata": {},
     "output_type": "execute_result"
    }
   ],
   "source": [
    "aapl[1]['date']"
   ]
  },
  {
   "cell_type": "code",
   "execution_count": 14,
   "metadata": {},
   "outputs": [
    {
     "data": {
      "text/plain": [
       "{'date': '2021-09-25',\n",
       " 'symbol': 'AAPL',\n",
       " 'reportedCurrency': 'USD',\n",
       " 'cik': '0000320193',\n",
       " 'fillingDate': '2021-10-29',\n",
       " 'acceptedDate': '2021-10-28 18:04:28',\n",
       " 'calendarYear': '2021',\n",
       " 'period': 'FY',\n",
       " 'revenue': 365817000000,\n",
       " 'costOfRevenue': 212981000000,\n",
       " 'grossProfit': 152836000000,\n",
       " 'grossProfitRatio': 0.4177935962516778,\n",
       " 'researchAndDevelopmentExpenses': 21914000000,\n",
       " 'generalAndAdministrativeExpenses': 0.0,\n",
       " 'sellingAndMarketingExpenses': 0.0,\n",
       " 'sellingGeneralAndAdministrativeExpenses': 21973000000,\n",
       " 'otherExpenses': 0.0,\n",
       " 'operatingExpenses': 43887000000,\n",
       " 'costAndExpenses': 256868000000,\n",
       " 'interestExpense': 2645000000,\n",
       " 'depreciationAndAmortization': 11284000000,\n",
       " 'ebitda': 123136000000,\n",
       " 'ebitdaratio': 0.33660546120054563,\n",
       " 'operatingIncome': 108949000000,\n",
       " 'operatingIncomeRatio': 0.2985290459437369,\n",
       " 'totalOtherIncomeExpensesNet': -258000000,\n",
       " 'incomeBeforeTax': 109207000000,\n",
       " 'incomeBeforeTaxRatio': 0.2985290459437369,\n",
       " 'incomeTaxExpense': 14527000000,\n",
       " 'netIncome': 94680000000,\n",
       " 'netIncomeRatio': 0.2588179335569424,\n",
       " 'eps': 5.4563941153239,\n",
       " 'epsdiluted': 5.4563941153239,\n",
       " 'weightedAverageShsOut': 16701272000,\n",
       " 'weightedAverageShsOutDil': 16864919000,\n",
       " 'link': 'https://www.sec.gov/Archives/edgar/data/320193/000032019321000105/0000320193-21-000105-index.htm',\n",
       " 'finalLink': 'https://www.sec.gov/Archives/edgar/data/320193/000032019321000105/aapl-20210925.htm'}"
      ]
     },
     "execution_count": 14,
     "metadata": {},
     "output_type": "execute_result"
    }
   ],
   "source": [
    "aapl[0]"
   ]
  },
  {
   "cell_type": "code",
   "execution_count": 15,
   "metadata": {},
   "outputs": [],
   "source": [
    "import certifi\n",
    "import json\n",
    "\n",
    "def get_jsonparsed_data(url):\n",
    "    \"\"\"\n",
    "    Receive the content of ``url``, parse it as JSON and return the object.\n",
    "\n",
    "    Parameters\n",
    "    ----------\n",
    "    url : str\n",
    "\n",
    "    Returns\n",
    "    -------\n",
    "    dict\n",
    "    \"\"\"\n",
    "    response = urlopen(url, cafile=certifi.where())\n",
    "    data = response.read().decode(\"utf-8\")\n",
    "    return json.loads(data)\n",
    "\n",
    "url = (\"https://financialmodelingprep.com/api/v3/key-metrics/AAPL?apikey=bda6dec9d49c52113bb97d6bc9dce15b\")\n",
    "# print(get_jsonparsed_data(url))"
   ]
  },
  {
   "cell_type": "code",
   "execution_count": 11,
   "metadata": {},
   "outputs": [
    {
     "name": "stderr",
     "output_type": "stream",
     "text": [
      "<ipython-input-10-9ad39e3ff4a9>:16: DeprecationWarning: cafile, capath and cadefault are deprecated, use a custom context instead.\n",
      "  response = urlopen(url, cafile=certifi.where())\n"
     ]
    }
   ],
   "source": [
    "aapl_metrics = get_jsonparsed_data(url)"
   ]
  },
  {
   "cell_type": "code",
   "execution_count": 19,
   "metadata": {},
   "outputs": [
    {
     "data": {
      "text/plain": [
       "{'symbol': 'AAPL',\n",
       " 'date': '2021-09-25',\n",
       " 'period': 'FY',\n",
       " 'revenuePerShare': 21.90354123925411,\n",
       " 'netIncomePerShare': 5.669029281123018,\n",
       " 'operatingCashFlowPerShare': 6.229345884552985,\n",
       " 'freeCashFlowPerShare': 5.56562398361035,\n",
       " 'cashPerShare': 3.750552652516527,\n",
       " 'bookValuePerShare': 3.7775565837141025,\n",
       " 'tangibleBookValuePerShare': 3.7775565837141025,\n",
       " 'shareholdersEquityPerShare': 3.7775565837141025,\n",
       " 'interestDebtPerShare': 7.6260059712817085,\n",
       " 'marketCap': 2482477053378.728,\n",
       " 'enterpriseValue': 2572256053378.728,\n",
       " 'peRatio': 26.219656246078664,\n",
       " 'priceToSalesRatio': 6.786117248183458,\n",
       " 'pocfratio': 23.86125313230481,\n",
       " 'pfcfRatio': 26.706798633489267,\n",
       " 'pbRatio': 39.34818597842333,\n",
       " 'ptbRatio': 39.34818597842333,\n",
       " 'evToSales': 7.031537772653343,\n",
       " 'enterpriseValueOverEBITDA': 20.889553448047103,\n",
       " 'evToOperatingCashFlow': 24.724197441115056,\n",
       " 'evToFreeCashFlow': 27.672652344504513,\n",
       " 'earningsYield': 0.03813932534487584,\n",
       " 'freeCashFlowYield': 0.03744364922668191,\n",
       " 'debtToEquity': 1.729370740212395,\n",
       " 'debtToAssets': 0.8202574344305731,\n",
       " 'netDebtToEBITDA': 0.7291044048856549,\n",
       " 'currentRatio': 1.0745531195957954,\n",
       " 'interestCoverage': 41.19054820415879,\n",
       " 'incomeQuality': 1.0988381918039714,\n",
       " 'dividendYield': 0.005827647019057021,\n",
       " 'payoutRatio': 0.15279890156316012,\n",
       " 'salesGeneralAndAdministrativeToRevenue': 0.0,\n",
       " 'researchAndDdevelopementToRevenue': 0.059904269074427925,\n",
       " 'intangiblesToTotalAssets': 0.0,\n",
       " 'capexToOperatingCashFlow': -0.1065476076049136,\n",
       " 'capexToRevenue': -0.030302036264033657,\n",
       " 'capexToDepreciation': -0.9823644097837646,\n",
       " 'stockBasedCompensationToRevenue': 0.021611898845597662,\n",
       " 'grahamNumber': 21.950837680915992,\n",
       " 'roic': 0.48309913489209433,\n",
       " 'returnOnTangibleAssets': 0.26974205275183616,\n",
       " 'grahamNetNet': -10.97841529675105,\n",
       " 'workingCapital': 9355000000,\n",
       " 'tangibleAssetValue': None,\n",
       " 'netCurrentAssetValue': -153076000000,\n",
       " 'investedCapital': 1.9768426058012363,\n",
       " 'averageReceivables': 44475500000,\n",
       " 'averagePayables': 48529500000,\n",
       " 'averageInventory': 5320500000,\n",
       " 'daysSalesOutstanding': 51.390968708397914,\n",
       " 'daysPayablesOutstanding': 93.85107122231561,\n",
       " 'daysOfInventoryOnHand': 11.27659274770989,\n",
       " 'receivablesTurnover': 7.102415252591931,\n",
       " 'payablesTurnover': 3.889140478060004,\n",
       " 'inventoryTurnover': 32.367933130699086,\n",
       " 'roe': 1.5007132667617689,\n",
       " 'capexPerShare': -0.6637219009426348}"
      ]
     },
     "execution_count": 19,
     "metadata": {},
     "output_type": "execute_result"
    }
   ],
   "source": [
    "aapl_metrics[0]"
   ]
  },
  {
   "cell_type": "code",
   "execution_count": 18,
   "metadata": {},
   "outputs": [
    {
     "data": {
      "text/plain": [
       "26.219656246078664"
      ]
     },
     "execution_count": 18,
     "metadata": {},
     "output_type": "execute_result"
    }
   ],
   "source": [
    "aapl_metrics[0]['peRatio']"
   ]
  },
  {
   "cell_type": "code",
   "execution_count": 20,
   "metadata": {},
   "outputs": [
    {
     "data": {
      "text/plain": [
       "3.7775565837141025"
      ]
     },
     "execution_count": 20,
     "metadata": {},
     "output_type": "execute_result"
    }
   ],
   "source": [
    "aapl_metrics[0]['bookValuePerShare']"
   ]
  },
  {
   "cell_type": "code",
   "execution_count": null,
   "metadata": {},
   "outputs": [],
   "source": []
  },
  {
   "cell_type": "code",
   "execution_count": null,
   "metadata": {},
   "outputs": [],
   "source": []
  },
  {
   "cell_type": "code",
   "execution_count": null,
   "metadata": {},
   "outputs": [],
   "source": []
  },
  {
   "cell_type": "code",
   "execution_count": null,
   "metadata": {},
   "outputs": [],
   "source": []
  },
  {
   "cell_type": "code",
   "execution_count": null,
   "metadata": {},
   "outputs": [],
   "source": []
  }
 ],
 "metadata": {
  "kernelspec": {
   "display_name": "Python 3",
   "language": "python",
   "name": "python3"
  },
  "language_info": {
   "codemirror_mode": {
    "name": "ipython",
    "version": 3
   },
   "file_extension": ".py",
   "mimetype": "text/x-python",
   "name": "python",
   "nbconvert_exporter": "python",
   "pygments_lexer": "ipython3",
   "version": "3.8.3"
  }
 },
 "nbformat": 4,
 "nbformat_minor": 4
}
