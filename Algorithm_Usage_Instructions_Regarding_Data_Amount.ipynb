{
 "cells": [
  {
   "cell_type": "markdown",
   "metadata": {},
   "source": [
    "# Algorithm_Usage_Instructions_Regarding_Data_Amount"
   ]
  },
  {
   "cell_type": "markdown",
   "metadata": {},
   "source": [
    "### less than 50 samples\n",
    "Yes: try to get more data\\\n",
    "No: Go on then"
   ]
  },
  {
   "cell_type": "markdown",
   "metadata": {},
   "source": [
    "### predicting a category?\n",
    "Yes: check if dealing with labeled data ...\\\n",
    "No: predicting a quantity ..."
   ]
  },
  {
   "cell_type": "markdown",
   "metadata": {},
   "source": [
    "### labeled data?\n",
    "Yes: ***Classification***\\\n",
    "No: ***Clustering***"
   ]
  },
  {
   "cell_type": "markdown",
   "metadata": {},
   "source": [
    "### predicting a quantity?\n",
    "Yes: ***Regression***\\\n",
    "No: ***Dimensionality Reduction or Predicting Structure***"
   ]
  },
  {
   "cell_type": "markdown",
   "metadata": {},
   "source": [
    "## Regression\n",
    "### <100K samples\n",
    "No: SGD Regressor\\\n",
    "Yes: few features should be important..."
   ]
  },
  {
   "cell_type": "markdown",
   "metadata": {},
   "source": [
    "#### few inportant features\n",
    "Yes: Lasso, ElasticNet\\\n",
    "No: RidgeRegression,SVR(kernel='linear') , (if not working),  SVR(kernel='rbf'),EnsembleRegressors"
   ]
  },
  {
   "cell_type": "markdown",
   "metadata": {},
   "source": [
    "## Classification"
   ]
  },
  {
   "cell_type": "markdown",
   "metadata": {},
   "source": [
    "### <100K samples\n",
    "No: SGD Classifer, (if not working), kernel approximation\\\n",
    "Yes: Linear SVC, (if not working)\n",
    "\n",
    "#### Text Data\n",
    "Yes: Naive Bayes\\\n",
    "No: KNeighbors Classifier, (if not working), SVC,Ensemble Classifiers"
   ]
  },
  {
   "cell_type": "markdown",
   "metadata": {},
   "source": [
    "## Clustering\n",
    "### number of categories known\n",
    "#### Yes and <10K\n",
    "Yes: KMeans , (if not working),Spectral Clustering, GMM\n",
    "No: MiniBatch KMeans\n",
    "\n",
    "#### No and <10K\n",
    "Yes: MeanShift, VBGMM\n",
    "No: need luck"
   ]
  }
 ],
 "metadata": {
  "kernelspec": {
   "display_name": "Python 3",
   "language": "python",
   "name": "python3"
  },
  "language_info": {
   "codemirror_mode": {
    "name": "ipython",
    "version": 3
   },
   "file_extension": ".py",
   "mimetype": "text/x-python",
   "name": "python",
   "nbconvert_exporter": "python",
   "pygments_lexer": "ipython3",
   "version": "3.7.4"
  }
 },
 "nbformat": 4,
 "nbformat_minor": 4
}
