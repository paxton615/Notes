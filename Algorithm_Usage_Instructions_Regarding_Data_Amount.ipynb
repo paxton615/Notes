{
 "cells": [
  {
   "cell_type": "markdown",
   "metadata": {},
   "source": [
    "# Algorithm_Usage_Instructions_Regarding_Data_Amount"
   ]
  },
  {
   "cell_type": "markdown",
   "metadata": {},
   "source": [
    "***less than 50 samples***\\\n",
    "Yes: try to get more data\\\n",
    "No: Go on then"
   ]
  },
  {
   "cell_type": "markdown",
   "metadata": {},
   "source": [
    "### predicting a category?\n",
    "Yes: check if dealing with labeled data ...\\\n",
    "No: predicting a quantity ..."
   ]
  },
  {
   "cell_type": "markdown",
   "metadata": {},
   "source": [
    "### labeled data?\n",
    "Yes: ***Classification***\\\n",
    "No: ***Clustering***"
   ]
  },
  {
   "cell_type": "markdown",
   "metadata": {},
   "source": [
    "### predicting a quantity?\n",
    "Yes: ***Regression***\\\n",
    "No: ***Dimensionality Reduction or Predicting Structure***"
   ]
  },
  {
   "cell_type": "markdown",
   "metadata": {},
   "source": [
    "## Regression\n",
    "### <100K samples\n",
    "No: SGD Regressor\\\n",
    "Yes: few features should be important..."
   ]
  },
  {
   "cell_type": "markdown",
   "metadata": {},
   "source": [
    "### few inportant features\n",
    "Yes: Lasso, ElasticNet\\\n",
    "No: RidgeRegression,SVR(kernel='linear') ***or*** SVR(kernel='rbf'),EnsembleRegressors"
   ]
  },
  {
   "cell_type": "markdown",
   "metadata": {},
   "source": []
  },
  {
   "cell_type": "markdown",
   "metadata": {},
   "source": []
  },
  {
   "cell_type": "markdown",
   "metadata": {},
   "source": []
  },
  {
   "cell_type": "markdown",
   "metadata": {},
   "source": []
  },
  {
   "cell_type": "markdown",
   "metadata": {},
   "source": []
  }
 ],
 "metadata": {
  "kernelspec": {
   "display_name": "Python 3",
   "language": "python",
   "name": "python3"
  },
  "language_info": {
   "codemirror_mode": {
    "name": "ipython",
    "version": 3
   },
   "file_extension": ".py",
   "mimetype": "text/x-python",
   "name": "python",
   "nbconvert_exporter": "python",
   "pygments_lexer": "ipython3",
   "version": "3.7.4"
  }
 },
 "nbformat": 4,
 "nbformat_minor": 4
}
