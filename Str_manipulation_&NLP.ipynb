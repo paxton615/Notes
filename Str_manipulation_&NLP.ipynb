{
 "cells": [
  {
   "cell_type": "code",
   "execution_count": 3,
   "metadata": {},
   "outputs": [],
   "source": [
    "import pandas as pd\n",
    "import numpy as np\n",
    "from collections import Counter"
   ]
  },
  {
   "cell_type": "code",
   "execution_count": 2,
   "metadata": {},
   "outputs": [],
   "source": [
    "news = open('/Users/paxton615/Desktop/trump.txt','r').read()"
   ]
  },
  {
   "cell_type": "code",
   "execution_count": 45,
   "metadata": {},
   "outputs": [
    {
     "data": {
      "text/plain": [
       "[\"Dr Anthony Fauci is America's top leading infectious diseases expert. He has been a reassuring, constant voice of caution and balance in an often hyperbolic, hyper tense environment. \",\n",
       " '',\n",
       " 'It was clear in his testimony before the Senate Health, Labor, Education and Pensions Committee, he wanted to issue a warning - a rush to re-open could have grave consequences for the country.',\n",
       " '',\n",
       " 'If \"states or cities or regions\" disregard the government\\'s \"checkpoints\" on when it\\'s safe to pull back from mitigation measures, Fauci said: \"I feel if that occurs, there is a real risk that you will trigger an outbreak that you might not be able to control, which, in fact, paradoxically, will set you back, not only leading to some suffering and death, that could be avoided, but could even set you back on the road to trying to get economic recovery.',\n",
       " '',\n",
       " '\"We would almost turn the clock back, rather than going forward.\"',\n",
       " '',\n",
       " 'As for the next school year, the senior scientist said there are new, unusual cases involving children getting sick that need to be understood first.',\n",
       " '',\n",
       " 'The idea he could tell parents that it\\'s safe for kids to return in the autumn to school he say, \"might be a bridge too far at this time.\"',\n",
       " '',\n",
       " 'Dr Fauci, the director of the National Institute of Allergy and Infectious Diseases, also conceded the death rate is likely higher than the 80,000 reported. But with his sombre analysis, also came words of hope.',\n",
       " '',\n",
       " 'He told the committee that scientists aim to know if a successful coronavirus vaccine has been found by late fall and early winter. He added that he was \"cautiously optimistic\" about a vaccine.',\n",
       " '',\n",
       " 'There are eight currently being accelerated. \"We have many candidates and hope to have multiple winners,\" Dr Fauci explained to senators.',\n",
       " '',\n",
       " 'Administration officials said a massive increase in testing is on the way - 25 to 30 million tests a month, along with tracing to better determine the spread. But until then Dr Fauci says, it is very conceivable there will be a second wave.',\n",
       " '',\n",
       " 'It is not a surprising assessment - there have been warnings of that for weeks. But the tone is at odds with that of Donald Trump who has sounded very positive notes about the readiness of America to re-open and its success in overcoming the pandemic.',\n",
       " '',\n",
       " \"The concern among those he's working alongside is that states and people aren't following the guidelines the Coronavirus Taskforce has laid out.\",\n",
       " '',\n",
       " 'Scenes of beaches and parks packed with people not wearing masks have alarmed those like Dr Fauci who put together the recommendations.',\n",
       " '',\n",
       " 'The president is not alone in his frustrations - far from it. Some states have been incredibly vocal in their desires to return to normality.',\n",
       " '',\n",
       " \"But the man at the coalface of the medical and scientific response has made clear - he doesn't think a return to normal is or should be imminent.\"]"
      ]
     },
     "execution_count": 45,
     "metadata": {},
     "output_type": "execute_result"
    }
   ],
   "source": [
    "news.split('\\n')"
   ]
  },
  {
   "cell_type": "markdown",
   "metadata": {},
   "source": [
    "#### Words like: return, leading, infectious, re-open, safe, school, virus indicate the gist of this article. But visually speaking, it's not that clear."
   ]
  },
  {
   "cell_type": "code",
   "execution_count": 7,
   "metadata": {},
   "outputs": [
    {
     "name": "stdout",
     "output_type": "stream",
     "text": [
      "Counter({'the': 27, 'to': 19, 'a': 12, 'that': 11, 'is': 10, 'and': 10, 'of': 9, 'he': 8, 'in': 8, 'have': 6, 'be': 6, 'dr': 5, 'fauci': 5, 'has': 5, '-': 5, 'there': 5, 'not': 5, 'but': 5, 'been': 4, 'could': 4, 'for': 4, 'you': 4, 'with': 4, 'it': 3, 'his': 3, 'if': 3, 'or': 3, 'on': 3, 'will': 3, 'return': 3, 'at': 3, 'leading': 2, 'infectious': 2, 'an': 2, 'was': 2, 'clear': 2, 're-open': 2, \"it's\": 2, 'safe': 2, 'back': 2, 'from': 2, 'set': 2, 'back,': 2, 'some': 2, '\"we': 2, 'than': 2, 'school': 2, 'said': 2, 'are': 2, 'far': 2, 'also': 2, 'coronavirus': 2, 'about': 2, 'very': 2, 'who': 2, 'those': 2, 'states': 2, 'people': 2, 'anthony': 1, \"america's\": 1, 'top': 1, 'diseases': 1, 'expert.': 1, 'reassuring,': 1, 'constant': 1, 'voice': 1, 'caution': 1, 'balance': 1, 'often': 1, 'hyperbolic,': 1, 'hyper': 1, 'tense': 1, 'environment.': 1, 'testimony': 1, 'before': 1, 'senate': 1, 'health,': 1, 'labor,': 1, 'education': 1, 'pensions': 1, 'committee,': 1, 'wanted': 1, 'issue': 1, 'warning': 1, 'rush': 1, 'grave': 1, 'consequences': 1, 'country.': 1, '\"states': 1, 'cities': 1, 'regions\"': 1, 'disregard': 1, \"government's\": 1, '\"checkpoints\"': 1, 'when': 1, 'pull': 1, 'mitigation': 1, 'measures,': 1, 'said:': 1, '\"i': 1, 'feel': 1, 'occurs,': 1, 'real': 1, 'risk': 1, 'trigger': 1, 'outbreak': 1, 'might': 1, 'able': 1, 'control,': 1, 'which,': 1, 'fact,': 1, 'paradoxically,': 1, 'only': 1, 'suffering': 1, 'death,': 1, 'avoided,': 1, 'even': 1, 'road': 1, 'trying': 1, 'get': 1, 'economic': 1, 'recovery.': 1, 'would': 1, 'almost': 1, 'turn': 1, 'clock': 1, 'rather': 1, 'going': 1, 'forward.\"': 1, 'as': 1, 'next': 1, 'year,': 1, 'senior': 1, 'scientist': 1, 'new,': 1, 'unusual': 1, 'cases': 1, 'involving': 1, 'children': 1, 'getting': 1, 'sick': 1, 'need': 1, 'understood': 1, 'first.': 1, 'idea': 1, 'tell': 1, 'parents': 1, 'kids': 1, 'autumn': 1, 'say,': 1, '\"might': 1, 'bridge': 1, 'too': 1, 'this': 1, 'time.\"': 1, 'fauci,': 1, 'director': 1, 'national': 1, 'institute': 1, 'allergy': 1, 'diseases,': 1, 'conceded': 1, 'death': 1, 'rate': 1, 'likely': 1, 'higher': 1, '80,000': 1, 'reported.': 1, 'sombre': 1, 'analysis,': 1, 'came': 1, 'words': 1, 'hope.': 1, 'told': 1, 'committee': 1, 'scientists': 1, 'aim': 1, 'know': 1, 'successful': 1, 'vaccine': 1, 'found': 1, 'by': 1, 'late': 1, 'fall': 1, 'early': 1, 'winter.': 1, 'added': 1, '\"cautiously': 1, 'optimistic\"': 1, 'vaccine.': 1, 'eight': 1, 'currently': 1, 'being': 1, 'accelerated.': 1, 'many': 1, 'candidates': 1, 'hope': 1, 'multiple': 1, 'winners,\"': 1, 'explained': 1, 'senators.': 1, 'administration': 1, 'officials': 1, 'massive': 1, 'increase': 1, 'testing': 1, 'way': 1, '25': 1, '30': 1, 'million': 1, 'tests': 1, 'month,': 1, 'along': 1, 'tracing': 1, 'better': 1, 'determine': 1, 'spread.': 1, 'until': 1, 'then': 1, 'says,': 1, 'conceivable': 1, 'second': 1, 'wave.': 1, 'surprising': 1, 'assessment': 1, 'warnings': 1, 'weeks.': 1, 'tone': 1, 'odds': 1, 'donald': 1, 'trump': 1, 'sounded': 1, 'positive': 1, 'notes': 1, 'readiness': 1, 'america': 1, 'its': 1, 'success': 1, 'overcoming': 1, 'pandemic.': 1, 'concern': 1, 'among': 1, \"he's\": 1, 'working': 1, 'alongside': 1, \"aren't\": 1, 'following': 1, 'guidelines': 1, 'taskforce': 1, 'laid': 1, 'out.': 1, 'scenes': 1, 'beaches': 1, 'parks': 1, 'packed': 1, 'wearing': 1, 'masks': 1, 'alarmed': 1, 'like': 1, 'put': 1, 'together': 1, 'recommendations.': 1, 'president': 1, 'alone': 1, 'frustrations': 1, 'it.': 1, 'incredibly': 1, 'vocal': 1, 'their': 1, 'desires': 1, 'normality.': 1, 'man': 1, 'coalface': 1, 'medical': 1, 'scientific': 1, 'response': 1, 'made': 1, \"doesn't\": 1, 'think': 1, 'normal': 1, 'should': 1, 'imminent.': 1})\n"
     ]
    }
   ],
   "source": [
    "print(Counter(news.lower().split()))"
   ]
  },
  {
   "cell_type": "code",
   "execution_count": 8,
   "metadata": {},
   "outputs": [],
   "source": [
    "from sklearn.feature_extraction.text import CountVectorizer"
   ]
  },
  {
   "cell_type": "code",
   "execution_count": 33,
   "metadata": {},
   "outputs": [
    {
     "data": {
      "text/plain": [
       "CountVectorizer(analyzer='word', binary=False, decode_error='strict',\n",
       "                dtype=<class 'numpy.int64'>, encoding='utf-8', input='content',\n",
       "                lowercase=True, max_df=1.0, max_features=None, min_df=1,\n",
       "                ngram_range=(1, 1), preprocessor=None, stop_words='english',\n",
       "                strip_accents=None, token_pattern='\\\\w+', tokenizer=None,\n",
       "                vocabulary=None)"
      ]
     },
     "execution_count": 33,
     "metadata": {},
     "output_type": "execute_result"
    }
   ],
   "source": [
    "cvect=CountVectorizer(token_pattern='\\w+',stop_words='english')\n",
    "cvect.fit([news]) #news needs to be []ed."
   ]
  },
  {
   "cell_type": "code",
   "execution_count": 34,
   "metadata": {},
   "outputs": [
    {
     "data": {
      "text/plain": [
       "<1x195 sparse matrix of type '<class 'numpy.int64'>'\n",
       "\twith 195 stored elements in Compressed Sparse Row format>"
      ]
     },
     "execution_count": 34,
     "metadata": {},
     "output_type": "execute_result"
    }
   ],
   "source": [
    "news_marix = cvect.transform([news])\n",
    "news_marix"
   ]
  },
  {
   "cell_type": "code",
   "execution_count": null,
   "metadata": {},
   "outputs": [],
   "source": [
    "print(news_marix.toarray()) # didn't use stop_words in cvect, \"the\" appeared 27 times"
   ]
  },
  {
   "cell_type": "code",
   "execution_count": 15,
   "metadata": {},
   "outputs": [
    {
     "data": {
      "text/plain": [
       "['000',\n",
       " '25',\n",
       " '30',\n",
       " '80',\n",
       " 'a',\n",
       " 'able',\n",
       " 'about',\n",
       " 'accelerated',\n",
       " 'added',\n",
       " 'administration',\n",
       " 'aim',\n",
       " 'alarmed',\n",
       " 'allergy',\n",
       " 'almost',\n",
       " 'alone',\n",
       " 'along',\n",
       " 'alongside',\n",
       " 'also',\n",
       " 'america',\n",
       " 'among',\n",
       " 'an',\n",
       " 'analysis',\n",
       " 'and',\n",
       " 'anthony',\n",
       " 'are',\n",
       " 'aren',\n",
       " 'as',\n",
       " 'assessment',\n",
       " 'at',\n",
       " 'autumn',\n",
       " 'avoided',\n",
       " 'back',\n",
       " 'balance',\n",
       " 'be',\n",
       " 'beaches',\n",
       " 'been',\n",
       " 'before',\n",
       " 'being',\n",
       " 'better',\n",
       " 'bridge',\n",
       " 'but',\n",
       " 'by',\n",
       " 'came',\n",
       " 'candidates',\n",
       " 'cases',\n",
       " 'caution',\n",
       " 'cautiously',\n",
       " 'checkpoints',\n",
       " 'children',\n",
       " 'cities',\n",
       " 'clear',\n",
       " 'clock',\n",
       " 'coalface',\n",
       " 'committee',\n",
       " 'conceded',\n",
       " 'conceivable',\n",
       " 'concern',\n",
       " 'consequences',\n",
       " 'constant',\n",
       " 'control',\n",
       " 'coronavirus',\n",
       " 'could',\n",
       " 'country',\n",
       " 'currently',\n",
       " 'death',\n",
       " 'desires',\n",
       " 'determine',\n",
       " 'director',\n",
       " 'diseases',\n",
       " 'disregard',\n",
       " 'doesn',\n",
       " 'donald',\n",
       " 'dr',\n",
       " 'early',\n",
       " 'economic',\n",
       " 'education',\n",
       " 'eight',\n",
       " 'environment',\n",
       " 'even',\n",
       " 'expert',\n",
       " 'explained',\n",
       " 'fact',\n",
       " 'fall',\n",
       " 'far',\n",
       " 'fauci',\n",
       " 'feel',\n",
       " 'first',\n",
       " 'following',\n",
       " 'for',\n",
       " 'forward',\n",
       " 'found',\n",
       " 'from',\n",
       " 'frustrations',\n",
       " 'get',\n",
       " 'getting',\n",
       " 'going',\n",
       " 'government',\n",
       " 'grave',\n",
       " 'guidelines',\n",
       " 'has',\n",
       " 'have',\n",
       " 'he',\n",
       " 'health',\n",
       " 'higher',\n",
       " 'his',\n",
       " 'hope',\n",
       " 'hyper',\n",
       " 'hyperbolic',\n",
       " 'i',\n",
       " 'idea',\n",
       " 'if',\n",
       " 'imminent',\n",
       " 'in',\n",
       " 'increase',\n",
       " 'incredibly',\n",
       " 'infectious',\n",
       " 'institute',\n",
       " 'involving',\n",
       " 'is',\n",
       " 'issue',\n",
       " 'it',\n",
       " 'its',\n",
       " 'kids',\n",
       " 'know',\n",
       " 'labor',\n",
       " 'laid',\n",
       " 'late',\n",
       " 'leading',\n",
       " 'like',\n",
       " 'likely',\n",
       " 'made',\n",
       " 'man',\n",
       " 'many',\n",
       " 'masks',\n",
       " 'massive',\n",
       " 'measures',\n",
       " 'medical',\n",
       " 'might',\n",
       " 'million',\n",
       " 'mitigation',\n",
       " 'month',\n",
       " 'multiple',\n",
       " 'national',\n",
       " 'need',\n",
       " 'new',\n",
       " 'next',\n",
       " 'normal',\n",
       " 'normality',\n",
       " 'not',\n",
       " 'notes',\n",
       " 'occurs',\n",
       " 'odds',\n",
       " 'of',\n",
       " 'officials',\n",
       " 'often',\n",
       " 'on',\n",
       " 'only',\n",
       " 'open',\n",
       " 'optimistic',\n",
       " 'or',\n",
       " 'out',\n",
       " 'outbreak',\n",
       " 'overcoming',\n",
       " 'packed',\n",
       " 'pandemic',\n",
       " 'paradoxically',\n",
       " 'parents',\n",
       " 'parks',\n",
       " 'pensions',\n",
       " 'people',\n",
       " 'positive',\n",
       " 'president',\n",
       " 'pull',\n",
       " 'put',\n",
       " 'rate',\n",
       " 'rather',\n",
       " 're',\n",
       " 'readiness',\n",
       " 'real',\n",
       " 'reassuring',\n",
       " 'recommendations',\n",
       " 'recovery',\n",
       " 'regions',\n",
       " 'reported',\n",
       " 'response',\n",
       " 'return',\n",
       " 'risk',\n",
       " 'road',\n",
       " 'rush',\n",
       " 's',\n",
       " 'safe',\n",
       " 'said',\n",
       " 'say',\n",
       " 'says',\n",
       " 'scenes',\n",
       " 'school',\n",
       " 'scientific',\n",
       " 'scientist',\n",
       " 'scientists',\n",
       " 'second',\n",
       " 'senate',\n",
       " 'senators',\n",
       " 'senior',\n",
       " 'set',\n",
       " 'should',\n",
       " 'sick',\n",
       " 'sombre',\n",
       " 'some',\n",
       " 'sounded',\n",
       " 'spread',\n",
       " 'states',\n",
       " 'success',\n",
       " 'successful',\n",
       " 'suffering',\n",
       " 'surprising',\n",
       " 't',\n",
       " 'taskforce',\n",
       " 'tell',\n",
       " 'tense',\n",
       " 'testimony',\n",
       " 'testing',\n",
       " 'tests',\n",
       " 'than',\n",
       " 'that',\n",
       " 'the',\n",
       " 'their',\n",
       " 'then',\n",
       " 'there',\n",
       " 'think',\n",
       " 'this',\n",
       " 'those',\n",
       " 'time',\n",
       " 'to',\n",
       " 'together',\n",
       " 'told',\n",
       " 'tone',\n",
       " 'too',\n",
       " 'top',\n",
       " 'tracing',\n",
       " 'trigger',\n",
       " 'trump',\n",
       " 'trying',\n",
       " 'turn',\n",
       " 'understood',\n",
       " 'until',\n",
       " 'unusual',\n",
       " 'vaccine',\n",
       " 'very',\n",
       " 'vocal',\n",
       " 'voice',\n",
       " 'wanted',\n",
       " 'warning',\n",
       " 'warnings',\n",
       " 'was',\n",
       " 'wave',\n",
       " 'way',\n",
       " 'we',\n",
       " 'wearing',\n",
       " 'weeks',\n",
       " 'when',\n",
       " 'which',\n",
       " 'who',\n",
       " 'will',\n",
       " 'winners',\n",
       " 'winter',\n",
       " 'with',\n",
       " 'words',\n",
       " 'working',\n",
       " 'would',\n",
       " 'year',\n",
       " 'you']"
      ]
     },
     "execution_count": 15,
     "metadata": {},
     "output_type": "execute_result"
    }
   ],
   "source": [
    "cvect.get_feature_names() # didn't use stop_words in cvect"
   ]
  },
  {
   "cell_type": "code",
   "execution_count": 19,
   "metadata": {},
   "outputs": [
    {
     "name": "stdout",
     "output_type": "stream",
     "text": [
      "[[1 1 1 1 1 1 1 1 1 1 1 1 2 1 1 1 1 1 1 1 1 1 1 1 1 1 1 1 1 1 1 2 1 1 2 1\n",
      "  1 1 1 1 1 2 1 1 2 1 1 1 2 1 1 1 5 1 1 1 1 1 1 1 1 2 6 1 1 1 1 1 1 1 1 1\n",
      "  1 1 2 1 1 1 1 1 1 2 1 1 1 1 1 1 1 1 2 1 1 1 1 1 1 1 1 1 1 1 1 1 1 1 1 1\n",
      "  1 1 1 2 1 1 1 1 1 1 1 1 1 2 1 1 1 1 1 1 1 1 1 1 1 1 3 1 1 1 5 2 3 1 1 1\n",
      "  2 1 1 1 1 1 1 1 2 1 1 1 1 3 1 1 1 1 2 1 1 1 1 1 1 1 1 1 1 1 1 1 1 1 1 1\n",
      "  2 1 1 1 1 1 1 1 1 1 1 1 1 1 1]]\n"
     ]
    }
   ],
   "source": [
    "print(news_marix.toarray()) # stop_words been used"
   ]
  },
  {
   "cell_type": "code",
   "execution_count": 20,
   "metadata": {},
   "outputs": [
    {
     "data": {
      "text/plain": [
       "['000',\n",
       " '25',\n",
       " '30',\n",
       " '80',\n",
       " 'able',\n",
       " 'accelerated',\n",
       " 'added',\n",
       " 'administration',\n",
       " 'aim',\n",
       " 'alarmed',\n",
       " 'allergy',\n",
       " 'alongside',\n",
       " 'america',\n",
       " 'analysis',\n",
       " 'anthony',\n",
       " 'aren',\n",
       " 'assessment',\n",
       " 'autumn',\n",
       " 'avoided',\n",
       " 'balance',\n",
       " 'beaches',\n",
       " 'better',\n",
       " 'bridge',\n",
       " 'came',\n",
       " 'candidates',\n",
       " 'cases',\n",
       " 'caution',\n",
       " 'cautiously',\n",
       " 'checkpoints',\n",
       " 'children',\n",
       " 'cities',\n",
       " 'clear',\n",
       " 'clock',\n",
       " 'coalface',\n",
       " 'committee',\n",
       " 'conceded',\n",
       " 'conceivable',\n",
       " 'concern',\n",
       " 'consequences',\n",
       " 'constant',\n",
       " 'control',\n",
       " 'coronavirus',\n",
       " 'country',\n",
       " 'currently',\n",
       " 'death',\n",
       " 'desires',\n",
       " 'determine',\n",
       " 'director',\n",
       " 'diseases',\n",
       " 'disregard',\n",
       " 'doesn',\n",
       " 'donald',\n",
       " 'dr',\n",
       " 'early',\n",
       " 'economic',\n",
       " 'education',\n",
       " 'environment',\n",
       " 'expert',\n",
       " 'explained',\n",
       " 'fact',\n",
       " 'fall',\n",
       " 'far',\n",
       " 'fauci',\n",
       " 'feel',\n",
       " 'following',\n",
       " 'forward',\n",
       " 'frustrations',\n",
       " 'getting',\n",
       " 'going',\n",
       " 'government',\n",
       " 'grave',\n",
       " 'guidelines',\n",
       " 'health',\n",
       " 'higher',\n",
       " 'hope',\n",
       " 'hyper',\n",
       " 'hyperbolic',\n",
       " 'idea',\n",
       " 'imminent',\n",
       " 'increase',\n",
       " 'incredibly',\n",
       " 'infectious',\n",
       " 'institute',\n",
       " 'involving',\n",
       " 'issue',\n",
       " 'kids',\n",
       " 'know',\n",
       " 'labor',\n",
       " 'laid',\n",
       " 'late',\n",
       " 'leading',\n",
       " 'like',\n",
       " 'likely',\n",
       " 'man',\n",
       " 'masks',\n",
       " 'massive',\n",
       " 'measures',\n",
       " 'medical',\n",
       " 'million',\n",
       " 'mitigation',\n",
       " 'month',\n",
       " 'multiple',\n",
       " 'national',\n",
       " 'need',\n",
       " 'new',\n",
       " 'normal',\n",
       " 'normality',\n",
       " 'notes',\n",
       " 'occurs',\n",
       " 'odds',\n",
       " 'officials',\n",
       " 'open',\n",
       " 'optimistic',\n",
       " 'outbreak',\n",
       " 'overcoming',\n",
       " 'packed',\n",
       " 'pandemic',\n",
       " 'paradoxically',\n",
       " 'parents',\n",
       " 'parks',\n",
       " 'pensions',\n",
       " 'people',\n",
       " 'positive',\n",
       " 'president',\n",
       " 'pull',\n",
       " 'rate',\n",
       " 'readiness',\n",
       " 'real',\n",
       " 'reassuring',\n",
       " 'recommendations',\n",
       " 'recovery',\n",
       " 'regions',\n",
       " 'reported',\n",
       " 'response',\n",
       " 'return',\n",
       " 'risk',\n",
       " 'road',\n",
       " 'rush',\n",
       " 's',\n",
       " 'safe',\n",
       " 'said',\n",
       " 'say',\n",
       " 'says',\n",
       " 'scenes',\n",
       " 'school',\n",
       " 'scientific',\n",
       " 'scientist',\n",
       " 'scientists',\n",
       " 'second',\n",
       " 'senate',\n",
       " 'senators',\n",
       " 'senior',\n",
       " 'set',\n",
       " 'sick',\n",
       " 'sombre',\n",
       " 'sounded',\n",
       " 'spread',\n",
       " 'states',\n",
       " 'success',\n",
       " 'successful',\n",
       " 'suffering',\n",
       " 'surprising',\n",
       " 't',\n",
       " 'taskforce',\n",
       " 'tell',\n",
       " 'tense',\n",
       " 'testimony',\n",
       " 'testing',\n",
       " 'tests',\n",
       " 'think',\n",
       " 'time',\n",
       " 'told',\n",
       " 'tone',\n",
       " 'tracing',\n",
       " 'trigger',\n",
       " 'trump',\n",
       " 'trying',\n",
       " 'turn',\n",
       " 'understood',\n",
       " 'unusual',\n",
       " 'vaccine',\n",
       " 'vocal',\n",
       " 'voice',\n",
       " 'wanted',\n",
       " 'warning',\n",
       " 'warnings',\n",
       " 'wave',\n",
       " 'way',\n",
       " 'wearing',\n",
       " 'weeks',\n",
       " 'winners',\n",
       " 'winter',\n",
       " 'words',\n",
       " 'working',\n",
       " 'year']"
      ]
     },
     "execution_count": 20,
     "metadata": {},
     "output_type": "execute_result"
    }
   ],
   "source": [
    "cvect.get_feature_names() # stop_words been used"
   ]
  },
  {
   "cell_type": "code",
   "execution_count": 35,
   "metadata": {},
   "outputs": [],
   "source": [
    "news_df = pd.DataFrame(news_marix.toarray(), columns=cvect.get_feature_names())"
   ]
  },
  {
   "cell_type": "code",
   "execution_count": 114,
   "metadata": {},
   "outputs": [
    {
     "data": {
      "text/html": [
       "<div>\n",
       "<style scoped>\n",
       "    .dataframe tbody tr th:only-of-type {\n",
       "        vertical-align: middle;\n",
       "    }\n",
       "\n",
       "    .dataframe tbody tr th {\n",
       "        vertical-align: top;\n",
       "    }\n",
       "\n",
       "    .dataframe thead th {\n",
       "        text-align: right;\n",
       "    }\n",
       "</style>\n",
       "<table border=\"1\" class=\"dataframe\">\n",
       "  <thead>\n",
       "    <tr style=\"text-align: right;\">\n",
       "      <th></th>\n",
       "      <th>0</th>\n",
       "    </tr>\n",
       "  </thead>\n",
       "  <tbody>\n",
       "    <tr>\n",
       "      <th>fauci</th>\n",
       "      <td>6</td>\n",
       "    </tr>\n",
       "    <tr>\n",
       "      <th>s</th>\n",
       "      <td>5</td>\n",
       "    </tr>\n",
       "    <tr>\n",
       "      <th>dr</th>\n",
       "      <td>5</td>\n",
       "    </tr>\n",
       "    <tr>\n",
       "      <th>return</th>\n",
       "      <td>3</td>\n",
       "    </tr>\n",
       "    <tr>\n",
       "      <th>states</th>\n",
       "      <td>3</td>\n",
       "    </tr>\n",
       "    <tr>\n",
       "      <th>said</th>\n",
       "      <td>3</td>\n",
       "    </tr>\n",
       "    <tr>\n",
       "      <th>school</th>\n",
       "      <td>2</td>\n",
       "    </tr>\n",
       "    <tr>\n",
       "      <th>committee</th>\n",
       "      <td>2</td>\n",
       "    </tr>\n",
       "    <tr>\n",
       "      <th>t</th>\n",
       "      <td>2</td>\n",
       "    </tr>\n",
       "    <tr>\n",
       "      <th>infectious</th>\n",
       "      <td>2</td>\n",
       "    </tr>\n",
       "    <tr>\n",
       "      <th>coronavirus</th>\n",
       "      <td>2</td>\n",
       "    </tr>\n",
       "    <tr>\n",
       "      <th>people</th>\n",
       "      <td>2</td>\n",
       "    </tr>\n",
       "    <tr>\n",
       "      <th>death</th>\n",
       "      <td>2</td>\n",
       "    </tr>\n",
       "    <tr>\n",
       "      <th>hope</th>\n",
       "      <td>2</td>\n",
       "    </tr>\n",
       "    <tr>\n",
       "      <th>vaccine</th>\n",
       "      <td>2</td>\n",
       "    </tr>\n",
       "    <tr>\n",
       "      <th>leading</th>\n",
       "      <td>2</td>\n",
       "    </tr>\n",
       "    <tr>\n",
       "      <th>set</th>\n",
       "      <td>2</td>\n",
       "    </tr>\n",
       "    <tr>\n",
       "      <th>far</th>\n",
       "      <td>2</td>\n",
       "    </tr>\n",
       "    <tr>\n",
       "      <th>open</th>\n",
       "      <td>2</td>\n",
       "    </tr>\n",
       "    <tr>\n",
       "      <th>safe</th>\n",
       "      <td>2</td>\n",
       "    </tr>\n",
       "    <tr>\n",
       "      <th>clear</th>\n",
       "      <td>2</td>\n",
       "    </tr>\n",
       "    <tr>\n",
       "      <th>diseases</th>\n",
       "      <td>2</td>\n",
       "    </tr>\n",
       "    <tr>\n",
       "      <th>america</th>\n",
       "      <td>2</td>\n",
       "    </tr>\n",
       "    <tr>\n",
       "      <th>say</th>\n",
       "      <td>1</td>\n",
       "    </tr>\n",
       "    <tr>\n",
       "      <th>road</th>\n",
       "      <td>1</td>\n",
       "    </tr>\n",
       "    <tr>\n",
       "      <th>rush</th>\n",
       "      <td>1</td>\n",
       "    </tr>\n",
       "    <tr>\n",
       "      <th>response</th>\n",
       "      <td>1</td>\n",
       "    </tr>\n",
       "    <tr>\n",
       "      <th>says</th>\n",
       "      <td>1</td>\n",
       "    </tr>\n",
       "    <tr>\n",
       "      <th>reported</th>\n",
       "      <td>1</td>\n",
       "    </tr>\n",
       "    <tr>\n",
       "      <th>scenes</th>\n",
       "      <td>1</td>\n",
       "    </tr>\n",
       "  </tbody>\n",
       "</table>\n",
       "</div>"
      ],
      "text/plain": [
       "             0\n",
       "fauci        6\n",
       "s            5\n",
       "dr           5\n",
       "return       3\n",
       "states       3\n",
       "said         3\n",
       "school       2\n",
       "committee    2\n",
       "t            2\n",
       "infectious   2\n",
       "coronavirus  2\n",
       "people       2\n",
       "death        2\n",
       "hope         2\n",
       "vaccine      2\n",
       "leading      2\n",
       "set          2\n",
       "far          2\n",
       "open         2\n",
       "safe         2\n",
       "clear        2\n",
       "diseases     2\n",
       "america      2\n",
       "say          1\n",
       "road         1\n",
       "rush         1\n",
       "response     1\n",
       "says         1\n",
       "reported     1\n",
       "scenes       1"
      ]
     },
     "execution_count": 114,
     "metadata": {},
     "output_type": "execute_result"
    }
   ],
   "source": [
    "news_df.transpose().sort_values(0,ascending=False).head(30)"
   ]
  },
  {
   "cell_type": "code",
   "execution_count": 62,
   "metadata": {},
   "outputs": [],
   "source": [
    "news_split = news.split('\\n')"
   ]
  },
  {
   "cell_type": "code",
   "execution_count": 94,
   "metadata": {
    "scrolled": true
   },
   "outputs": [
    {
     "data": {
      "text/plain": [
       "(0,\n",
       " \"Dr Anthony Fauci is America's top leading infectious diseases expert. He has been a reassuring, constant voice of caution and balance in an often hyperbolic, hyper tense environment. \")"
      ]
     },
     "execution_count": 94,
     "metadata": {},
     "output_type": "execute_result"
    }
   ],
   "source": [
    "list(enumerate(news_split))[0]"
   ]
  },
  {
   "cell_type": "code",
   "execution_count": 98,
   "metadata": {},
   "outputs": [
    {
     "data": {
      "text/plain": [
       "(1, '')"
      ]
     },
     "execution_count": 98,
     "metadata": {},
     "output_type": "execute_result"
    }
   ],
   "source": [
    "list(enumerate(news_split))[1]"
   ]
  },
  {
   "cell_type": "markdown",
   "metadata": {},
   "source": [
    "##### get rid of  ' ' in the article"
   ]
  },
  {
   "cell_type": "code",
   "execution_count": 79,
   "metadata": {},
   "outputs": [],
   "source": [
    "news_num = [i[0] for i in list(enumerate(news_split))]"
   ]
  },
  {
   "cell_type": "code",
   "execution_count": 91,
   "metadata": {},
   "outputs": [
    {
     "data": {
      "text/plain": [
       "0"
      ]
     },
     "execution_count": 91,
     "metadata": {},
     "output_type": "execute_result"
    }
   ],
   "source": [
    "list(enumerate(news_split))[0][0]"
   ]
  },
  {
   "cell_type": "code",
   "execution_count": 88,
   "metadata": {},
   "outputs": [
    {
     "data": {
      "text/plain": [
       "'It was clear in his testimony before the Senate Health, Labor, Education and Pensions Committee, he wanted to issue a warning - a rush to re-open could have grave consequences for the country.'"
      ]
     },
     "execution_count": 88,
     "metadata": {},
     "output_type": "execute_result"
    }
   ],
   "source": [
    "list(enumerate(news_split))[2][1]"
   ]
  },
  {
   "cell_type": "code",
   "execution_count": 90,
   "metadata": {},
   "outputs": [],
   "source": [
    "news_para = [i[1] for i in list(enumerate(news_split)) if i[0]%2==0]"
   ]
  },
  {
   "cell_type": "code",
   "execution_count": 97,
   "metadata": {},
   "outputs": [
    {
     "data": {
      "text/plain": [
       "[\"Dr Anthony Fauci is America's top leading infectious diseases expert. He has been a reassuring, constant voice of caution and balance in an often hyperbolic, hyper tense environment. \",\n",
       " 'It was clear in his testimony before the Senate Health, Labor, Education and Pensions Committee, he wanted to issue a warning - a rush to re-open could have grave consequences for the country.',\n",
       " 'If \"states or cities or regions\" disregard the government\\'s \"checkpoints\" on when it\\'s safe to pull back from mitigation measures, Fauci said: \"I feel if that occurs, there is a real risk that you will trigger an outbreak that you might not be able to control, which, in fact, paradoxically, will set you back, not only leading to some suffering and death, that could be avoided, but could even set you back on the road to trying to get economic recovery.',\n",
       " '\"We would almost turn the clock back, rather than going forward.\"',\n",
       " 'As for the next school year, the senior scientist said there are new, unusual cases involving children getting sick that need to be understood first.',\n",
       " 'The idea he could tell parents that it\\'s safe for kids to return in the autumn to school he say, \"might be a bridge too far at this time.\"',\n",
       " 'Dr Fauci, the director of the National Institute of Allergy and Infectious Diseases, also conceded the death rate is likely higher than the 80,000 reported. But with his sombre analysis, also came words of hope.',\n",
       " 'He told the committee that scientists aim to know if a successful coronavirus vaccine has been found by late fall and early winter. He added that he was \"cautiously optimistic\" about a vaccine.',\n",
       " 'There are eight currently being accelerated. \"We have many candidates and hope to have multiple winners,\" Dr Fauci explained to senators.',\n",
       " 'Administration officials said a massive increase in testing is on the way - 25 to 30 million tests a month, along with tracing to better determine the spread. But until then Dr Fauci says, it is very conceivable there will be a second wave.',\n",
       " 'It is not a surprising assessment - there have been warnings of that for weeks. But the tone is at odds with that of Donald Trump who has sounded very positive notes about the readiness of America to re-open and its success in overcoming the pandemic.',\n",
       " \"The concern among those he's working alongside is that states and people aren't following the guidelines the Coronavirus Taskforce has laid out.\",\n",
       " 'Scenes of beaches and parks packed with people not wearing masks have alarmed those like Dr Fauci who put together the recommendations.',\n",
       " 'The president is not alone in his frustrations - far from it. Some states have been incredibly vocal in their desires to return to normality.',\n",
       " \"But the man at the coalface of the medical and scientific response has made clear - he doesn't think a return to normal is or should be imminent.\"]"
      ]
     },
     "execution_count": 97,
     "metadata": {},
     "output_type": "execute_result"
    }
   ],
   "source": [
    "news_para"
   ]
  },
  {
   "cell_type": "markdown",
   "metadata": {},
   "source": [
    "##### use TfidfVectorizer  "
   ]
  },
  {
   "cell_type": "code",
   "execution_count": 99,
   "metadata": {},
   "outputs": [],
   "source": [
    "from sklearn.feature_extraction.text import TfidfVectorizer"
   ]
  },
  {
   "cell_type": "code",
   "execution_count": 100,
   "metadata": {},
   "outputs": [
    {
     "data": {
      "text/plain": [
       "TfidfVectorizer(analyzer='word', binary=False, decode_error='strict',\n",
       "                dtype=<class 'numpy.float64'>, encoding='utf-8',\n",
       "                input='content', lowercase=True, max_df=1.0, max_features=None,\n",
       "                min_df=1, ngram_range=(1, 1), norm='l2', preprocessor=None,\n",
       "                smooth_idf=True, stop_words='english', strip_accents=None,\n",
       "                sublinear_tf=False, token_pattern='(?u)\\\\b\\\\w\\\\w+\\\\b',\n",
       "                tokenizer=None, use_idf=True, vocabulary=None)"
      ]
     },
     "execution_count": 100,
     "metadata": {},
     "output_type": "execute_result"
    }
   ],
   "source": [
    "tvect = TfidfVectorizer(stop_words='english')\n",
    "tvect.fit(news_para)"
   ]
  },
  {
   "cell_type": "code",
   "execution_count": 106,
   "metadata": {},
   "outputs": [
    {
     "data": {
      "text/plain": [
       "<15x193 sparse matrix of type '<class 'numpy.float64'>'\n",
       "\twith 222 stored elements in Compressed Sparse Row format>"
      ]
     },
     "execution_count": 106,
     "metadata": {},
     "output_type": "execute_result"
    }
   ],
   "source": [
    "tvect.transform(news_para)"
   ]
  },
  {
   "cell_type": "code",
   "execution_count": 107,
   "metadata": {},
   "outputs": [],
   "source": [
    "df = pd.DataFrame(tvect.transform(news_para).toarray(),\n",
    "                  columns=tvect.get_feature_names())"
   ]
  },
  {
   "cell_type": "code",
   "execution_count": 113,
   "metadata": {},
   "outputs": [
    {
     "data": {
      "text/html": [
       "<div>\n",
       "<style scoped>\n",
       "    .dataframe tbody tr th:only-of-type {\n",
       "        vertical-align: middle;\n",
       "    }\n",
       "\n",
       "    .dataframe tbody tr th {\n",
       "        vertical-align: top;\n",
       "    }\n",
       "\n",
       "    .dataframe thead th {\n",
       "        text-align: right;\n",
       "    }\n",
       "</style>\n",
       "<table border=\"1\" class=\"dataframe\">\n",
       "  <thead>\n",
       "    <tr style=\"text-align: right;\">\n",
       "      <th></th>\n",
       "      <th>000</th>\n",
       "      <th>25</th>\n",
       "      <th>30</th>\n",
       "      <th>80</th>\n",
       "      <th>able</th>\n",
       "      <th>accelerated</th>\n",
       "      <th>added</th>\n",
       "      <th>administration</th>\n",
       "      <th>aim</th>\n",
       "      <th>alarmed</th>\n",
       "      <th>...</th>\n",
       "      <th>warnings</th>\n",
       "      <th>wave</th>\n",
       "      <th>way</th>\n",
       "      <th>wearing</th>\n",
       "      <th>weeks</th>\n",
       "      <th>winners</th>\n",
       "      <th>winter</th>\n",
       "      <th>words</th>\n",
       "      <th>working</th>\n",
       "      <th>year</th>\n",
       "    </tr>\n",
       "  </thead>\n",
       "  <tbody>\n",
       "    <tr>\n",
       "      <th>0</th>\n",
       "      <td>0.000000</td>\n",
       "      <td>0.000000</td>\n",
       "      <td>0.000000</td>\n",
       "      <td>0.000000</td>\n",
       "      <td>0.00000</td>\n",
       "      <td>0.000000</td>\n",
       "      <td>0.000000</td>\n",
       "      <td>0.000000</td>\n",
       "      <td>0.000000</td>\n",
       "      <td>0.000000</td>\n",
       "      <td>...</td>\n",
       "      <td>0.000000</td>\n",
       "      <td>0.000000</td>\n",
       "      <td>0.000000</td>\n",
       "      <td>0.000000</td>\n",
       "      <td>0.000000</td>\n",
       "      <td>0.000000</td>\n",
       "      <td>0.000000</td>\n",
       "      <td>0.000000</td>\n",
       "      <td>0.000000</td>\n",
       "      <td>0.000000</td>\n",
       "    </tr>\n",
       "    <tr>\n",
       "      <th>1</th>\n",
       "      <td>0.000000</td>\n",
       "      <td>0.000000</td>\n",
       "      <td>0.000000</td>\n",
       "      <td>0.000000</td>\n",
       "      <td>0.00000</td>\n",
       "      <td>0.000000</td>\n",
       "      <td>0.000000</td>\n",
       "      <td>0.000000</td>\n",
       "      <td>0.000000</td>\n",
       "      <td>0.000000</td>\n",
       "      <td>...</td>\n",
       "      <td>0.000000</td>\n",
       "      <td>0.000000</td>\n",
       "      <td>0.000000</td>\n",
       "      <td>0.000000</td>\n",
       "      <td>0.000000</td>\n",
       "      <td>0.000000</td>\n",
       "      <td>0.000000</td>\n",
       "      <td>0.000000</td>\n",
       "      <td>0.000000</td>\n",
       "      <td>0.000000</td>\n",
       "    </tr>\n",
       "    <tr>\n",
       "      <th>2</th>\n",
       "      <td>0.000000</td>\n",
       "      <td>0.000000</td>\n",
       "      <td>0.000000</td>\n",
       "      <td>0.000000</td>\n",
       "      <td>0.17729</td>\n",
       "      <td>0.000000</td>\n",
       "      <td>0.000000</td>\n",
       "      <td>0.000000</td>\n",
       "      <td>0.000000</td>\n",
       "      <td>0.000000</td>\n",
       "      <td>...</td>\n",
       "      <td>0.000000</td>\n",
       "      <td>0.000000</td>\n",
       "      <td>0.000000</td>\n",
       "      <td>0.000000</td>\n",
       "      <td>0.000000</td>\n",
       "      <td>0.000000</td>\n",
       "      <td>0.000000</td>\n",
       "      <td>0.000000</td>\n",
       "      <td>0.000000</td>\n",
       "      <td>0.000000</td>\n",
       "    </tr>\n",
       "    <tr>\n",
       "      <th>3</th>\n",
       "      <td>0.000000</td>\n",
       "      <td>0.000000</td>\n",
       "      <td>0.000000</td>\n",
       "      <td>0.000000</td>\n",
       "      <td>0.00000</td>\n",
       "      <td>0.000000</td>\n",
       "      <td>0.000000</td>\n",
       "      <td>0.000000</td>\n",
       "      <td>0.000000</td>\n",
       "      <td>0.000000</td>\n",
       "      <td>...</td>\n",
       "      <td>0.000000</td>\n",
       "      <td>0.000000</td>\n",
       "      <td>0.000000</td>\n",
       "      <td>0.000000</td>\n",
       "      <td>0.000000</td>\n",
       "      <td>0.000000</td>\n",
       "      <td>0.000000</td>\n",
       "      <td>0.000000</td>\n",
       "      <td>0.000000</td>\n",
       "      <td>0.000000</td>\n",
       "    </tr>\n",
       "    <tr>\n",
       "      <th>4</th>\n",
       "      <td>0.000000</td>\n",
       "      <td>0.000000</td>\n",
       "      <td>0.000000</td>\n",
       "      <td>0.000000</td>\n",
       "      <td>0.00000</td>\n",
       "      <td>0.000000</td>\n",
       "      <td>0.000000</td>\n",
       "      <td>0.000000</td>\n",
       "      <td>0.000000</td>\n",
       "      <td>0.000000</td>\n",
       "      <td>...</td>\n",
       "      <td>0.000000</td>\n",
       "      <td>0.000000</td>\n",
       "      <td>0.000000</td>\n",
       "      <td>0.000000</td>\n",
       "      <td>0.000000</td>\n",
       "      <td>0.000000</td>\n",
       "      <td>0.000000</td>\n",
       "      <td>0.000000</td>\n",
       "      <td>0.000000</td>\n",
       "      <td>0.273644</td>\n",
       "    </tr>\n",
       "    <tr>\n",
       "      <th>5</th>\n",
       "      <td>0.000000</td>\n",
       "      <td>0.000000</td>\n",
       "      <td>0.000000</td>\n",
       "      <td>0.000000</td>\n",
       "      <td>0.00000</td>\n",
       "      <td>0.000000</td>\n",
       "      <td>0.000000</td>\n",
       "      <td>0.000000</td>\n",
       "      <td>0.000000</td>\n",
       "      <td>0.000000</td>\n",
       "      <td>...</td>\n",
       "      <td>0.000000</td>\n",
       "      <td>0.000000</td>\n",
       "      <td>0.000000</td>\n",
       "      <td>0.000000</td>\n",
       "      <td>0.000000</td>\n",
       "      <td>0.000000</td>\n",
       "      <td>0.000000</td>\n",
       "      <td>0.000000</td>\n",
       "      <td>0.000000</td>\n",
       "      <td>0.000000</td>\n",
       "    </tr>\n",
       "    <tr>\n",
       "      <th>6</th>\n",
       "      <td>0.230746</td>\n",
       "      <td>0.000000</td>\n",
       "      <td>0.000000</td>\n",
       "      <td>0.230746</td>\n",
       "      <td>0.00000</td>\n",
       "      <td>0.000000</td>\n",
       "      <td>0.000000</td>\n",
       "      <td>0.000000</td>\n",
       "      <td>0.000000</td>\n",
       "      <td>0.000000</td>\n",
       "      <td>...</td>\n",
       "      <td>0.000000</td>\n",
       "      <td>0.000000</td>\n",
       "      <td>0.000000</td>\n",
       "      <td>0.000000</td>\n",
       "      <td>0.000000</td>\n",
       "      <td>0.000000</td>\n",
       "      <td>0.000000</td>\n",
       "      <td>0.230746</td>\n",
       "      <td>0.000000</td>\n",
       "      <td>0.000000</td>\n",
       "    </tr>\n",
       "    <tr>\n",
       "      <th>7</th>\n",
       "      <td>0.000000</td>\n",
       "      <td>0.000000</td>\n",
       "      <td>0.000000</td>\n",
       "      <td>0.000000</td>\n",
       "      <td>0.00000</td>\n",
       "      <td>0.000000</td>\n",
       "      <td>0.238991</td>\n",
       "      <td>0.000000</td>\n",
       "      <td>0.238991</td>\n",
       "      <td>0.000000</td>\n",
       "      <td>...</td>\n",
       "      <td>0.000000</td>\n",
       "      <td>0.000000</td>\n",
       "      <td>0.000000</td>\n",
       "      <td>0.000000</td>\n",
       "      <td>0.000000</td>\n",
       "      <td>0.000000</td>\n",
       "      <td>0.238991</td>\n",
       "      <td>0.000000</td>\n",
       "      <td>0.000000</td>\n",
       "      <td>0.000000</td>\n",
       "    </tr>\n",
       "    <tr>\n",
       "      <th>8</th>\n",
       "      <td>0.000000</td>\n",
       "      <td>0.000000</td>\n",
       "      <td>0.000000</td>\n",
       "      <td>0.000000</td>\n",
       "      <td>0.00000</td>\n",
       "      <td>0.342602</td>\n",
       "      <td>0.000000</td>\n",
       "      <td>0.000000</td>\n",
       "      <td>0.000000</td>\n",
       "      <td>0.000000</td>\n",
       "      <td>...</td>\n",
       "      <td>0.000000</td>\n",
       "      <td>0.000000</td>\n",
       "      <td>0.000000</td>\n",
       "      <td>0.000000</td>\n",
       "      <td>0.000000</td>\n",
       "      <td>0.342602</td>\n",
       "      <td>0.000000</td>\n",
       "      <td>0.000000</td>\n",
       "      <td>0.000000</td>\n",
       "      <td>0.000000</td>\n",
       "    </tr>\n",
       "    <tr>\n",
       "      <th>9</th>\n",
       "      <td>0.000000</td>\n",
       "      <td>0.221588</td>\n",
       "      <td>0.221588</td>\n",
       "      <td>0.000000</td>\n",
       "      <td>0.00000</td>\n",
       "      <td>0.000000</td>\n",
       "      <td>0.000000</td>\n",
       "      <td>0.221588</td>\n",
       "      <td>0.000000</td>\n",
       "      <td>0.000000</td>\n",
       "      <td>...</td>\n",
       "      <td>0.000000</td>\n",
       "      <td>0.221588</td>\n",
       "      <td>0.221588</td>\n",
       "      <td>0.000000</td>\n",
       "      <td>0.000000</td>\n",
       "      <td>0.000000</td>\n",
       "      <td>0.000000</td>\n",
       "      <td>0.000000</td>\n",
       "      <td>0.000000</td>\n",
       "      <td>0.000000</td>\n",
       "    </tr>\n",
       "    <tr>\n",
       "      <th>10</th>\n",
       "      <td>0.000000</td>\n",
       "      <td>0.000000</td>\n",
       "      <td>0.000000</td>\n",
       "      <td>0.000000</td>\n",
       "      <td>0.00000</td>\n",
       "      <td>0.000000</td>\n",
       "      <td>0.000000</td>\n",
       "      <td>0.000000</td>\n",
       "      <td>0.000000</td>\n",
       "      <td>0.000000</td>\n",
       "      <td>...</td>\n",
       "      <td>0.246123</td>\n",
       "      <td>0.000000</td>\n",
       "      <td>0.000000</td>\n",
       "      <td>0.000000</td>\n",
       "      <td>0.246123</td>\n",
       "      <td>0.000000</td>\n",
       "      <td>0.000000</td>\n",
       "      <td>0.000000</td>\n",
       "      <td>0.000000</td>\n",
       "      <td>0.000000</td>\n",
       "    </tr>\n",
       "    <tr>\n",
       "      <th>11</th>\n",
       "      <td>0.000000</td>\n",
       "      <td>0.000000</td>\n",
       "      <td>0.000000</td>\n",
       "      <td>0.000000</td>\n",
       "      <td>0.00000</td>\n",
       "      <td>0.000000</td>\n",
       "      <td>0.000000</td>\n",
       "      <td>0.000000</td>\n",
       "      <td>0.000000</td>\n",
       "      <td>0.000000</td>\n",
       "      <td>...</td>\n",
       "      <td>0.000000</td>\n",
       "      <td>0.000000</td>\n",
       "      <td>0.000000</td>\n",
       "      <td>0.000000</td>\n",
       "      <td>0.000000</td>\n",
       "      <td>0.000000</td>\n",
       "      <td>0.000000</td>\n",
       "      <td>0.000000</td>\n",
       "      <td>0.314526</td>\n",
       "      <td>0.000000</td>\n",
       "    </tr>\n",
       "    <tr>\n",
       "      <th>12</th>\n",
       "      <td>0.000000</td>\n",
       "      <td>0.000000</td>\n",
       "      <td>0.000000</td>\n",
       "      <td>0.000000</td>\n",
       "      <td>0.00000</td>\n",
       "      <td>0.000000</td>\n",
       "      <td>0.000000</td>\n",
       "      <td>0.000000</td>\n",
       "      <td>0.000000</td>\n",
       "      <td>0.308319</td>\n",
       "      <td>...</td>\n",
       "      <td>0.000000</td>\n",
       "      <td>0.000000</td>\n",
       "      <td>0.000000</td>\n",
       "      <td>0.308319</td>\n",
       "      <td>0.000000</td>\n",
       "      <td>0.000000</td>\n",
       "      <td>0.000000</td>\n",
       "      <td>0.000000</td>\n",
       "      <td>0.000000</td>\n",
       "      <td>0.000000</td>\n",
       "    </tr>\n",
       "    <tr>\n",
       "      <th>13</th>\n",
       "      <td>0.000000</td>\n",
       "      <td>0.000000</td>\n",
       "      <td>0.000000</td>\n",
       "      <td>0.000000</td>\n",
       "      <td>0.00000</td>\n",
       "      <td>0.000000</td>\n",
       "      <td>0.000000</td>\n",
       "      <td>0.000000</td>\n",
       "      <td>0.000000</td>\n",
       "      <td>0.000000</td>\n",
       "      <td>...</td>\n",
       "      <td>0.000000</td>\n",
       "      <td>0.000000</td>\n",
       "      <td>0.000000</td>\n",
       "      <td>0.000000</td>\n",
       "      <td>0.000000</td>\n",
       "      <td>0.000000</td>\n",
       "      <td>0.000000</td>\n",
       "      <td>0.000000</td>\n",
       "      <td>0.000000</td>\n",
       "      <td>0.000000</td>\n",
       "    </tr>\n",
       "    <tr>\n",
       "      <th>14</th>\n",
       "      <td>0.000000</td>\n",
       "      <td>0.000000</td>\n",
       "      <td>0.000000</td>\n",
       "      <td>0.000000</td>\n",
       "      <td>0.00000</td>\n",
       "      <td>0.000000</td>\n",
       "      <td>0.000000</td>\n",
       "      <td>0.000000</td>\n",
       "      <td>0.000000</td>\n",
       "      <td>0.000000</td>\n",
       "      <td>...</td>\n",
       "      <td>0.000000</td>\n",
       "      <td>0.000000</td>\n",
       "      <td>0.000000</td>\n",
       "      <td>0.000000</td>\n",
       "      <td>0.000000</td>\n",
       "      <td>0.000000</td>\n",
       "      <td>0.000000</td>\n",
       "      <td>0.000000</td>\n",
       "      <td>0.000000</td>\n",
       "      <td>0.000000</td>\n",
       "    </tr>\n",
       "  </tbody>\n",
       "</table>\n",
       "<p>15 rows × 193 columns</p>\n",
       "</div>"
      ],
      "text/plain": [
       "         000        25        30        80     able  accelerated     added  \\\n",
       "0   0.000000  0.000000  0.000000  0.000000  0.00000     0.000000  0.000000   \n",
       "1   0.000000  0.000000  0.000000  0.000000  0.00000     0.000000  0.000000   \n",
       "2   0.000000  0.000000  0.000000  0.000000  0.17729     0.000000  0.000000   \n",
       "3   0.000000  0.000000  0.000000  0.000000  0.00000     0.000000  0.000000   \n",
       "4   0.000000  0.000000  0.000000  0.000000  0.00000     0.000000  0.000000   \n",
       "5   0.000000  0.000000  0.000000  0.000000  0.00000     0.000000  0.000000   \n",
       "6   0.230746  0.000000  0.000000  0.230746  0.00000     0.000000  0.000000   \n",
       "7   0.000000  0.000000  0.000000  0.000000  0.00000     0.000000  0.238991   \n",
       "8   0.000000  0.000000  0.000000  0.000000  0.00000     0.342602  0.000000   \n",
       "9   0.000000  0.221588  0.221588  0.000000  0.00000     0.000000  0.000000   \n",
       "10  0.000000  0.000000  0.000000  0.000000  0.00000     0.000000  0.000000   \n",
       "11  0.000000  0.000000  0.000000  0.000000  0.00000     0.000000  0.000000   \n",
       "12  0.000000  0.000000  0.000000  0.000000  0.00000     0.000000  0.000000   \n",
       "13  0.000000  0.000000  0.000000  0.000000  0.00000     0.000000  0.000000   \n",
       "14  0.000000  0.000000  0.000000  0.000000  0.00000     0.000000  0.000000   \n",
       "\n",
       "    administration       aim   alarmed  ...  warnings      wave       way  \\\n",
       "0         0.000000  0.000000  0.000000  ...  0.000000  0.000000  0.000000   \n",
       "1         0.000000  0.000000  0.000000  ...  0.000000  0.000000  0.000000   \n",
       "2         0.000000  0.000000  0.000000  ...  0.000000  0.000000  0.000000   \n",
       "3         0.000000  0.000000  0.000000  ...  0.000000  0.000000  0.000000   \n",
       "4         0.000000  0.000000  0.000000  ...  0.000000  0.000000  0.000000   \n",
       "5         0.000000  0.000000  0.000000  ...  0.000000  0.000000  0.000000   \n",
       "6         0.000000  0.000000  0.000000  ...  0.000000  0.000000  0.000000   \n",
       "7         0.000000  0.238991  0.000000  ...  0.000000  0.000000  0.000000   \n",
       "8         0.000000  0.000000  0.000000  ...  0.000000  0.000000  0.000000   \n",
       "9         0.221588  0.000000  0.000000  ...  0.000000  0.221588  0.221588   \n",
       "10        0.000000  0.000000  0.000000  ...  0.246123  0.000000  0.000000   \n",
       "11        0.000000  0.000000  0.000000  ...  0.000000  0.000000  0.000000   \n",
       "12        0.000000  0.000000  0.308319  ...  0.000000  0.000000  0.000000   \n",
       "13        0.000000  0.000000  0.000000  ...  0.000000  0.000000  0.000000   \n",
       "14        0.000000  0.000000  0.000000  ...  0.000000  0.000000  0.000000   \n",
       "\n",
       "     wearing     weeks   winners    winter     words   working      year  \n",
       "0   0.000000  0.000000  0.000000  0.000000  0.000000  0.000000  0.000000  \n",
       "1   0.000000  0.000000  0.000000  0.000000  0.000000  0.000000  0.000000  \n",
       "2   0.000000  0.000000  0.000000  0.000000  0.000000  0.000000  0.000000  \n",
       "3   0.000000  0.000000  0.000000  0.000000  0.000000  0.000000  0.000000  \n",
       "4   0.000000  0.000000  0.000000  0.000000  0.000000  0.000000  0.273644  \n",
       "5   0.000000  0.000000  0.000000  0.000000  0.000000  0.000000  0.000000  \n",
       "6   0.000000  0.000000  0.000000  0.000000  0.230746  0.000000  0.000000  \n",
       "7   0.000000  0.000000  0.000000  0.238991  0.000000  0.000000  0.000000  \n",
       "8   0.000000  0.000000  0.342602  0.000000  0.000000  0.000000  0.000000  \n",
       "9   0.000000  0.000000  0.000000  0.000000  0.000000  0.000000  0.000000  \n",
       "10  0.000000  0.246123  0.000000  0.000000  0.000000  0.000000  0.000000  \n",
       "11  0.000000  0.000000  0.000000  0.000000  0.000000  0.314526  0.000000  \n",
       "12  0.308319  0.000000  0.000000  0.000000  0.000000  0.000000  0.000000  \n",
       "13  0.000000  0.000000  0.000000  0.000000  0.000000  0.000000  0.000000  \n",
       "14  0.000000  0.000000  0.000000  0.000000  0.000000  0.000000  0.000000  \n",
       "\n",
       "[15 rows x 193 columns]"
      ]
     },
     "execution_count": 113,
     "metadata": {},
     "output_type": "execute_result"
    }
   ],
   "source": [
    "df"
   ]
  },
  {
   "cell_type": "code",
   "execution_count": 146,
   "metadata": {},
   "outputs": [
    {
     "data": {
      "text/plain": [
       "fauci           0.913886\n",
       "dr              0.876967\n",
       "return          0.750683\n",
       "states          0.655861\n",
       "far             0.571333\n",
       "people          0.540836\n",
       "said            0.521145\n",
       "school          0.501078\n",
       "going           0.500000\n",
       "clock           0.500000\n",
       "forward         0.500000\n",
       "turn            0.500000\n",
       "hope            0.497856\n",
       "clear           0.492119\n",
       "coronavirus     0.480637\n",
       "vaccine         0.477982\n",
       "america         0.439569\n",
       "open            0.435986\n",
       "committee       0.429793\n",
       "diseases        0.426216\n",
       "infectious      0.426216\n",
       "safe            0.417411\n",
       "leading         0.379799\n",
       "set             0.354581\n",
       "president       0.354553\n",
       "normality       0.354553\n",
       "desires         0.354553\n",
       "incredibly      0.354553\n",
       "vocal           0.354553\n",
       "frustrations    0.354553\n",
       "dtype: float64"
      ]
     },
     "execution_count": 146,
     "metadata": {},
     "output_type": "execute_result"
    }
   ],
   "source": [
    "df.sum(axis=0).sort_values(ascending=False).head(30)"
   ]
  },
  {
   "cell_type": "code",
   "execution_count": 142,
   "metadata": {},
   "outputs": [
    {
     "data": {
      "text/plain": [
       "0     4.086\n",
       "1     3.994\n",
       "2     5.451\n",
       "3     2.000\n",
       "4     3.733\n",
       "5     3.453\n",
       "6     4.548\n",
       "7     3.761\n",
       "8     3.119\n",
       "9     4.656\n",
       "10    4.119\n",
       "11    3.306\n",
       "12    3.424\n",
       "13    2.985\n",
       "14    3.308\n",
       "dtype: float64"
      ]
     },
     "execution_count": 142,
     "metadata": {},
     "output_type": "execute_result"
    }
   ],
   "source": [
    "np.round(df.sum(axis=1),3)"
   ]
  },
  {
   "cell_type": "code",
   "execution_count": 115,
   "metadata": {},
   "outputs": [],
   "source": [
    "count30=news_df.transpose().sort_values(0,ascending=False).head(30)"
   ]
  },
  {
   "cell_type": "code",
   "execution_count": 116,
   "metadata": {},
   "outputs": [],
   "source": [
    "tfidf30=df.sum(axis=0).sort_values(ascending=False).head(30)"
   ]
  },
  {
   "cell_type": "code",
   "execution_count": 131,
   "metadata": {},
   "outputs": [
    {
     "data": {
      "text/html": [
       "<div>\n",
       "<style scoped>\n",
       "    .dataframe tbody tr th:only-of-type {\n",
       "        vertical-align: middle;\n",
       "    }\n",
       "\n",
       "    .dataframe tbody tr th {\n",
       "        vertical-align: top;\n",
       "    }\n",
       "\n",
       "    .dataframe thead th {\n",
       "        text-align: right;\n",
       "    }\n",
       "</style>\n",
       "<table border=\"1\" class=\"dataframe\">\n",
       "  <thead>\n",
       "    <tr style=\"text-align: right;\">\n",
       "      <th></th>\n",
       "      <th>0</th>\n",
       "    </tr>\n",
       "  </thead>\n",
       "  <tbody>\n",
       "    <tr>\n",
       "      <th>fauci</th>\n",
       "      <td>6</td>\n",
       "    </tr>\n",
       "    <tr>\n",
       "      <th>s</th>\n",
       "      <td>5</td>\n",
       "    </tr>\n",
       "    <tr>\n",
       "      <th>dr</th>\n",
       "      <td>5</td>\n",
       "    </tr>\n",
       "    <tr>\n",
       "      <th>return</th>\n",
       "      <td>3</td>\n",
       "    </tr>\n",
       "    <tr>\n",
       "      <th>states</th>\n",
       "      <td>3</td>\n",
       "    </tr>\n",
       "  </tbody>\n",
       "</table>\n",
       "</div>"
      ],
      "text/plain": [
       "        0\n",
       "fauci   6\n",
       "s       5\n",
       "dr      5\n",
       "return  3\n",
       "states  3"
      ]
     },
     "execution_count": 131,
     "metadata": {},
     "output_type": "execute_result"
    }
   ],
   "source": [
    "count30.head()"
   ]
  },
  {
   "cell_type": "code",
   "execution_count": 132,
   "metadata": {},
   "outputs": [
    {
     "data": {
      "text/plain": [
       "fauci     0.913886\n",
       "dr        0.876967\n",
       "return    0.750683\n",
       "states    0.655861\n",
       "far       0.571333\n",
       "dtype: float64"
      ]
     },
     "execution_count": 132,
     "metadata": {},
     "output_type": "execute_result"
    }
   ],
   "source": [
    "tfidf30.head()"
   ]
  },
  {
   "cell_type": "code",
   "execution_count": 127,
   "metadata": {},
   "outputs": [
    {
     "data": {
      "text/plain": [
       "pandas.core.series.Series"
      ]
     },
     "execution_count": 127,
     "metadata": {},
     "output_type": "execute_result"
    }
   ],
   "source": [
    "type(tfidf30)"
   ]
  },
  {
   "cell_type": "code",
   "execution_count": 128,
   "metadata": {},
   "outputs": [
    {
     "data": {
      "text/plain": [
       "pandas.core.frame.DataFrame"
      ]
     },
     "execution_count": 128,
     "metadata": {},
     "output_type": "execute_result"
    }
   ],
   "source": [
    "type(count30)"
   ]
  },
  {
   "cell_type": "code",
   "execution_count": 134,
   "metadata": {},
   "outputs": [],
   "source": [
    "tfidf30 = pd.DataFrame(tfidf30)"
   ]
  },
  {
   "cell_type": "code",
   "execution_count": 139,
   "metadata": {},
   "outputs": [],
   "source": [
    "tfidf30.reset_index(inplace=True)"
   ]
  },
  {
   "cell_type": "code",
   "execution_count": 140,
   "metadata": {},
   "outputs": [],
   "source": [
    "count30.reset_index(inplace=True)"
   ]
  },
  {
   "cell_type": "code",
   "execution_count": 141,
   "metadata": {},
   "outputs": [
    {
     "data": {
      "text/html": [
       "<div>\n",
       "<style scoped>\n",
       "    .dataframe tbody tr th:only-of-type {\n",
       "        vertical-align: middle;\n",
       "    }\n",
       "\n",
       "    .dataframe tbody tr th {\n",
       "        vertical-align: top;\n",
       "    }\n",
       "\n",
       "    .dataframe thead th {\n",
       "        text-align: right;\n",
       "    }\n",
       "</style>\n",
       "<table border=\"1\" class=\"dataframe\">\n",
       "  <thead>\n",
       "    <tr style=\"text-align: right;\">\n",
       "      <th></th>\n",
       "      <th>index</th>\n",
       "      <th>0</th>\n",
       "      <th>index</th>\n",
       "      <th>0</th>\n",
       "    </tr>\n",
       "  </thead>\n",
       "  <tbody>\n",
       "    <tr>\n",
       "      <th>0</th>\n",
       "      <td>fauci</td>\n",
       "      <td>0.913886</td>\n",
       "      <td>fauci</td>\n",
       "      <td>6</td>\n",
       "    </tr>\n",
       "    <tr>\n",
       "      <th>1</th>\n",
       "      <td>dr</td>\n",
       "      <td>0.876967</td>\n",
       "      <td>s</td>\n",
       "      <td>5</td>\n",
       "    </tr>\n",
       "    <tr>\n",
       "      <th>2</th>\n",
       "      <td>return</td>\n",
       "      <td>0.750683</td>\n",
       "      <td>dr</td>\n",
       "      <td>5</td>\n",
       "    </tr>\n",
       "    <tr>\n",
       "      <th>3</th>\n",
       "      <td>states</td>\n",
       "      <td>0.655861</td>\n",
       "      <td>return</td>\n",
       "      <td>3</td>\n",
       "    </tr>\n",
       "    <tr>\n",
       "      <th>4</th>\n",
       "      <td>far</td>\n",
       "      <td>0.571333</td>\n",
       "      <td>states</td>\n",
       "      <td>3</td>\n",
       "    </tr>\n",
       "    <tr>\n",
       "      <th>5</th>\n",
       "      <td>people</td>\n",
       "      <td>0.540836</td>\n",
       "      <td>said</td>\n",
       "      <td>3</td>\n",
       "    </tr>\n",
       "    <tr>\n",
       "      <th>6</th>\n",
       "      <td>said</td>\n",
       "      <td>0.521145</td>\n",
       "      <td>school</td>\n",
       "      <td>2</td>\n",
       "    </tr>\n",
       "    <tr>\n",
       "      <th>7</th>\n",
       "      <td>school</td>\n",
       "      <td>0.501078</td>\n",
       "      <td>committee</td>\n",
       "      <td>2</td>\n",
       "    </tr>\n",
       "    <tr>\n",
       "      <th>8</th>\n",
       "      <td>going</td>\n",
       "      <td>0.500000</td>\n",
       "      <td>t</td>\n",
       "      <td>2</td>\n",
       "    </tr>\n",
       "    <tr>\n",
       "      <th>9</th>\n",
       "      <td>clock</td>\n",
       "      <td>0.500000</td>\n",
       "      <td>infectious</td>\n",
       "      <td>2</td>\n",
       "    </tr>\n",
       "    <tr>\n",
       "      <th>10</th>\n",
       "      <td>forward</td>\n",
       "      <td>0.500000</td>\n",
       "      <td>coronavirus</td>\n",
       "      <td>2</td>\n",
       "    </tr>\n",
       "    <tr>\n",
       "      <th>11</th>\n",
       "      <td>turn</td>\n",
       "      <td>0.500000</td>\n",
       "      <td>people</td>\n",
       "      <td>2</td>\n",
       "    </tr>\n",
       "    <tr>\n",
       "      <th>12</th>\n",
       "      <td>hope</td>\n",
       "      <td>0.497856</td>\n",
       "      <td>death</td>\n",
       "      <td>2</td>\n",
       "    </tr>\n",
       "    <tr>\n",
       "      <th>13</th>\n",
       "      <td>clear</td>\n",
       "      <td>0.492119</td>\n",
       "      <td>hope</td>\n",
       "      <td>2</td>\n",
       "    </tr>\n",
       "    <tr>\n",
       "      <th>14</th>\n",
       "      <td>coronavirus</td>\n",
       "      <td>0.480637</td>\n",
       "      <td>vaccine</td>\n",
       "      <td>2</td>\n",
       "    </tr>\n",
       "    <tr>\n",
       "      <th>15</th>\n",
       "      <td>vaccine</td>\n",
       "      <td>0.477982</td>\n",
       "      <td>leading</td>\n",
       "      <td>2</td>\n",
       "    </tr>\n",
       "    <tr>\n",
       "      <th>16</th>\n",
       "      <td>america</td>\n",
       "      <td>0.439569</td>\n",
       "      <td>set</td>\n",
       "      <td>2</td>\n",
       "    </tr>\n",
       "    <tr>\n",
       "      <th>17</th>\n",
       "      <td>open</td>\n",
       "      <td>0.435986</td>\n",
       "      <td>far</td>\n",
       "      <td>2</td>\n",
       "    </tr>\n",
       "    <tr>\n",
       "      <th>18</th>\n",
       "      <td>committee</td>\n",
       "      <td>0.429793</td>\n",
       "      <td>open</td>\n",
       "      <td>2</td>\n",
       "    </tr>\n",
       "    <tr>\n",
       "      <th>19</th>\n",
       "      <td>diseases</td>\n",
       "      <td>0.426216</td>\n",
       "      <td>safe</td>\n",
       "      <td>2</td>\n",
       "    </tr>\n",
       "    <tr>\n",
       "      <th>20</th>\n",
       "      <td>infectious</td>\n",
       "      <td>0.426216</td>\n",
       "      <td>clear</td>\n",
       "      <td>2</td>\n",
       "    </tr>\n",
       "    <tr>\n",
       "      <th>21</th>\n",
       "      <td>safe</td>\n",
       "      <td>0.417411</td>\n",
       "      <td>diseases</td>\n",
       "      <td>2</td>\n",
       "    </tr>\n",
       "    <tr>\n",
       "      <th>22</th>\n",
       "      <td>leading</td>\n",
       "      <td>0.379799</td>\n",
       "      <td>america</td>\n",
       "      <td>2</td>\n",
       "    </tr>\n",
       "    <tr>\n",
       "      <th>23</th>\n",
       "      <td>set</td>\n",
       "      <td>0.354581</td>\n",
       "      <td>say</td>\n",
       "      <td>1</td>\n",
       "    </tr>\n",
       "    <tr>\n",
       "      <th>24</th>\n",
       "      <td>president</td>\n",
       "      <td>0.354553</td>\n",
       "      <td>road</td>\n",
       "      <td>1</td>\n",
       "    </tr>\n",
       "    <tr>\n",
       "      <th>25</th>\n",
       "      <td>normality</td>\n",
       "      <td>0.354553</td>\n",
       "      <td>rush</td>\n",
       "      <td>1</td>\n",
       "    </tr>\n",
       "    <tr>\n",
       "      <th>26</th>\n",
       "      <td>desires</td>\n",
       "      <td>0.354553</td>\n",
       "      <td>response</td>\n",
       "      <td>1</td>\n",
       "    </tr>\n",
       "    <tr>\n",
       "      <th>27</th>\n",
       "      <td>incredibly</td>\n",
       "      <td>0.354553</td>\n",
       "      <td>says</td>\n",
       "      <td>1</td>\n",
       "    </tr>\n",
       "    <tr>\n",
       "      <th>28</th>\n",
       "      <td>vocal</td>\n",
       "      <td>0.354553</td>\n",
       "      <td>reported</td>\n",
       "      <td>1</td>\n",
       "    </tr>\n",
       "    <tr>\n",
       "      <th>29</th>\n",
       "      <td>frustrations</td>\n",
       "      <td>0.354553</td>\n",
       "      <td>scenes</td>\n",
       "      <td>1</td>\n",
       "    </tr>\n",
       "  </tbody>\n",
       "</table>\n",
       "</div>"
      ],
      "text/plain": [
       "           index         0        index  0\n",
       "0          fauci  0.913886        fauci  6\n",
       "1             dr  0.876967            s  5\n",
       "2         return  0.750683           dr  5\n",
       "3         states  0.655861       return  3\n",
       "4            far  0.571333       states  3\n",
       "5         people  0.540836         said  3\n",
       "6           said  0.521145       school  2\n",
       "7         school  0.501078    committee  2\n",
       "8          going  0.500000            t  2\n",
       "9          clock  0.500000   infectious  2\n",
       "10       forward  0.500000  coronavirus  2\n",
       "11          turn  0.500000       people  2\n",
       "12          hope  0.497856        death  2\n",
       "13         clear  0.492119         hope  2\n",
       "14   coronavirus  0.480637      vaccine  2\n",
       "15       vaccine  0.477982      leading  2\n",
       "16       america  0.439569          set  2\n",
       "17          open  0.435986          far  2\n",
       "18     committee  0.429793         open  2\n",
       "19      diseases  0.426216         safe  2\n",
       "20    infectious  0.426216        clear  2\n",
       "21          safe  0.417411     diseases  2\n",
       "22       leading  0.379799      america  2\n",
       "23           set  0.354581          say  1\n",
       "24     president  0.354553         road  1\n",
       "25     normality  0.354553         rush  1\n",
       "26       desires  0.354553     response  1\n",
       "27    incredibly  0.354553         says  1\n",
       "28         vocal  0.354553     reported  1\n",
       "29  frustrations  0.354553       scenes  1"
      ]
     },
     "execution_count": 141,
     "metadata": {},
     "output_type": "execute_result"
    }
   ],
   "source": [
    "pd.concat([tfidf30,count30],axis=1)"
   ]
  },
  {
   "cell_type": "code",
   "execution_count": 147,
   "metadata": {},
   "outputs": [],
   "source": [
    "def simple_sentencer(text):\n",
    "    '''take a string called `text` and return\n",
    "    a list of strings, each containing a sentence'''\n",
    "\n",
    "    sentences = []\n",
    "    substring = ''\n",
    "    for c in text:\n",
    "        if c in ('.', '!', '?'):\n",
    "            sentences.append(substring + c)\n",
    "            substring = ''\n",
    "        else:\n",
    "            substring += c\n",
    "    return sentences"
   ]
  },
  {
   "cell_type": "code",
   "execution_count": null,
   "metadata": {},
   "outputs": [],
   "source": [
    "easy_text = \"I went to the zoo today. What do you think of that? I bet you hate it! Or maybe you don't\""
   ]
  },
  {
   "cell_type": "code",
   "execution_count": 149,
   "metadata": {},
   "outputs": [],
   "source": [
    "easy_split_text = [\"I went to the zoo today.\",\n",
    "                   \"What do you think of that?\",\n",
    "                   \"I bet you hate it!\",\n",
    "                   \"Or maybe you don't\"]"
   ]
  },
  {
   "cell_type": "code",
   "execution_count": 151,
   "metadata": {},
   "outputs": [
    {
     "name": "stdout",
     "output_type": "stream",
     "text": [
      "I went to the zoo today. What do you think of that? I bet you hate it! Or maybe you don't\n"
     ]
    }
   ],
   "source": [
    "print(' '.join(easy_split_text))"
   ]
  },
  {
   "cell_type": "code",
   "execution_count": 152,
   "metadata": {},
   "outputs": [],
   "source": [
    "joined_text = ' '.join(easy_split_text)"
   ]
  },
  {
   "cell_type": "code",
   "execution_count": 153,
   "metadata": {},
   "outputs": [
    {
     "data": {
      "text/plain": [
       "\"I went to the zoo today. What do you think of that? I bet you hate it! Or maybe you don't\""
      ]
     },
     "execution_count": 153,
     "metadata": {},
     "output_type": "execute_result"
    }
   ],
   "source": [
    "joined_text"
   ]
  },
  {
   "cell_type": "code",
   "execution_count": 154,
   "metadata": {},
   "outputs": [
    {
     "data": {
      "text/plain": [
       "['I went to the zoo today.',\n",
       " ' What do you think of that?',\n",
       " ' I bet you hate it!']"
      ]
     },
     "execution_count": 154,
     "metadata": {},
     "output_type": "execute_result"
    }
   ],
   "source": [
    "simple_sentencer(joined_text)"
   ]
  },
  {
   "cell_type": "code",
   "execution_count": 156,
   "metadata": {},
   "outputs": [],
   "source": [
    "news_para_str = ' '.join(news_para)"
   ]
  },
  {
   "cell_type": "code",
   "execution_count": 161,
   "metadata": {},
   "outputs": [],
   "source": [
    "new_news_para = simple_sentencer(news_para_str)"
   ]
  },
  {
   "cell_type": "code",
   "execution_count": 169,
   "metadata": {},
   "outputs": [
    {
     "data": {
      "text/plain": [
       "[\"Dr Anthony Fauci is America's top leading infectious diseases expert.\",\n",
       " ' He has been a reassuring, constant voice of caution and balance in an often hyperbolic, hyper tense environment.',\n",
       " '  It was clear in his testimony before the Senate Health, Labor, Education and Pensions Committee, he wanted to issue a warning - a rush to re-open could have grave consequences for the country.',\n",
       " ' If \"states or cities or regions\" disregard the government\\'s \"checkpoints\" on when it\\'s safe to pull back from mitigation measures, Fauci said: \"I feel if that occurs, there is a real risk that you will trigger an outbreak that you might not be able to control, which, in fact, paradoxically, will set you back, not only leading to some suffering and death, that could be avoided, but could even set you back on the road to trying to get economic recovery.',\n",
       " ' \"We would almost turn the clock back, rather than going forward.',\n",
       " '\" As for the next school year, the senior scientist said there are new, unusual cases involving children getting sick that need to be understood first.',\n",
       " ' The idea he could tell parents that it\\'s safe for kids to return in the autumn to school he say, \"might be a bridge too far at this time.',\n",
       " '\" Dr Fauci, the director of the National Institute of Allergy and Infectious Diseases, also conceded the death rate is likely higher than the 80,000 reported.',\n",
       " ' But with his sombre analysis, also came words of hope.',\n",
       " ' He told the committee that scientists aim to know if a successful coronavirus vaccine has been found by late fall and early winter.',\n",
       " ' He added that he was \"cautiously optimistic\" about a vaccine.',\n",
       " ' There are eight currently being accelerated.',\n",
       " ' \"We have many candidates and hope to have multiple winners,\" Dr Fauci explained to senators.',\n",
       " ' Administration officials said a massive increase in testing is on the way - 25 to 30 million tests a month, along with tracing to better determine the spread.',\n",
       " ' But until then Dr Fauci says, it is very conceivable there will be a second wave.',\n",
       " ' It is not a surprising assessment - there have been warnings of that for weeks.',\n",
       " ' But the tone is at odds with that of Donald Trump who has sounded very positive notes about the readiness of America to re-open and its success in overcoming the pandemic.',\n",
       " \" The concern among those he's working alongside is that states and people aren't following the guidelines the Coronavirus Taskforce has laid out.\",\n",
       " ' Scenes of beaches and parks packed with people not wearing masks have alarmed those like Dr Fauci who put together the recommendations.',\n",
       " ' The president is not alone in his frustrations - far from it.',\n",
       " ' Some states have been incredibly vocal in their desires to return to normality.',\n",
       " \" But the man at the coalface of the medical and scientific response has made clear - he doesn't think a return to normal is or should be imminent.\"]"
      ]
     },
     "execution_count": 169,
     "metadata": {},
     "output_type": "execute_result"
    }
   ],
   "source": [
    "new_news_para"
   ]
  },
  {
   "cell_type": "code",
   "execution_count": 162,
   "metadata": {},
   "outputs": [
    {
     "data": {
      "text/plain": [
       "TfidfVectorizer(analyzer='word', binary=False, decode_error='strict',\n",
       "                dtype=<class 'numpy.float64'>, encoding='utf-8',\n",
       "                input='content', lowercase=True, max_df=1.0, max_features=None,\n",
       "                min_df=1, ngram_range=(1, 1), norm='l2', preprocessor=None,\n",
       "                smooth_idf=True, stop_words='english', strip_accents=None,\n",
       "                sublinear_tf=False, token_pattern='(?u)\\\\b\\\\w\\\\w+\\\\b',\n",
       "                tokenizer=None, use_idf=True, vocabulary=None)"
      ]
     },
     "execution_count": 162,
     "metadata": {},
     "output_type": "execute_result"
    }
   ],
   "source": [
    "tvect.fit(new_news_para)"
   ]
  },
  {
   "cell_type": "code",
   "execution_count": 171,
   "metadata": {},
   "outputs": [],
   "source": [
    "dff = pd.DataFrame(tvect.transform(new_news_para).toarray(), columns=tvect.get_feature_names())"
   ]
  },
  {
   "cell_type": "code",
   "execution_count": 175,
   "metadata": {},
   "outputs": [],
   "source": [
    "dff30 = dff.sum(axis=0).sort_values(ascending=False).head(30)"
   ]
  },
  {
   "cell_type": "code",
   "execution_count": 179,
   "metadata": {},
   "outputs": [],
   "source": [
    "dff30=pd.DataFrame(dff30)\n",
    "dff30.reset_index(inplace=True)"
   ]
  },
  {
   "cell_type": "code",
   "execution_count": 180,
   "metadata": {},
   "outputs": [
    {
     "data": {
      "text/html": [
       "<div>\n",
       "<style scoped>\n",
       "    .dataframe tbody tr th:only-of-type {\n",
       "        vertical-align: middle;\n",
       "    }\n",
       "\n",
       "    .dataframe tbody tr th {\n",
       "        vertical-align: top;\n",
       "    }\n",
       "\n",
       "    .dataframe thead th {\n",
       "        text-align: right;\n",
       "    }\n",
       "</style>\n",
       "<table border=\"1\" class=\"dataframe\">\n",
       "  <thead>\n",
       "    <tr style=\"text-align: right;\">\n",
       "      <th></th>\n",
       "      <th>index</th>\n",
       "      <th>0</th>\n",
       "      <th>index</th>\n",
       "      <th>0</th>\n",
       "      <th>index</th>\n",
       "      <th>0</th>\n",
       "    </tr>\n",
       "  </thead>\n",
       "  <tbody>\n",
       "    <tr>\n",
       "      <th>0</th>\n",
       "      <td>fauci</td>\n",
       "      <td>1.271228</td>\n",
       "      <td>fauci</td>\n",
       "      <td>0.913886</td>\n",
       "      <td>fauci</td>\n",
       "      <td>6</td>\n",
       "    </tr>\n",
       "    <tr>\n",
       "      <th>1</th>\n",
       "      <td>dr</td>\n",
       "      <td>1.240394</td>\n",
       "      <td>dr</td>\n",
       "      <td>0.876967</td>\n",
       "      <td>s</td>\n",
       "      <td>5</td>\n",
       "    </tr>\n",
       "    <tr>\n",
       "      <th>2</th>\n",
       "      <td>return</td>\n",
       "      <td>0.836262</td>\n",
       "      <td>return</td>\n",
       "      <td>0.750683</td>\n",
       "      <td>dr</td>\n",
       "      <td>5</td>\n",
       "    </tr>\n",
       "    <tr>\n",
       "      <th>3</th>\n",
       "      <td>far</td>\n",
       "      <td>0.795605</td>\n",
       "      <td>states</td>\n",
       "      <td>0.655861</td>\n",
       "      <td>return</td>\n",
       "      <td>3</td>\n",
       "    </tr>\n",
       "    <tr>\n",
       "      <th>4</th>\n",
       "      <td>hope</td>\n",
       "      <td>0.745785</td>\n",
       "      <td>far</td>\n",
       "      <td>0.571333</td>\n",
       "      <td>states</td>\n",
       "      <td>3</td>\n",
       "    </tr>\n",
       "    <tr>\n",
       "      <th>5</th>\n",
       "      <td>states</td>\n",
       "      <td>0.738987</td>\n",
       "      <td>people</td>\n",
       "      <td>0.540836</td>\n",
       "      <td>said</td>\n",
       "      <td>3</td>\n",
       "    </tr>\n",
       "    <tr>\n",
       "      <th>6</th>\n",
       "      <td>vaccine</td>\n",
       "      <td>0.715901</td>\n",
       "      <td>said</td>\n",
       "      <td>0.521145</td>\n",
       "      <td>school</td>\n",
       "      <td>2</td>\n",
       "    </tr>\n",
       "    <tr>\n",
       "      <th>7</th>\n",
       "      <td>currently</td>\n",
       "      <td>0.707107</td>\n",
       "      <td>school</td>\n",
       "      <td>0.501078</td>\n",
       "      <td>committee</td>\n",
       "      <td>2</td>\n",
       "    </tr>\n",
       "    <tr>\n",
       "      <th>8</th>\n",
       "      <td>accelerated</td>\n",
       "      <td>0.707107</td>\n",
       "      <td>going</td>\n",
       "      <td>0.500000</td>\n",
       "      <td>t</td>\n",
       "      <td>2</td>\n",
       "    </tr>\n",
       "    <tr>\n",
       "      <th>9</th>\n",
       "      <td>america</td>\n",
       "      <td>0.609687</td>\n",
       "      <td>clock</td>\n",
       "      <td>0.500000</td>\n",
       "      <td>infectious</td>\n",
       "      <td>2</td>\n",
       "    </tr>\n",
       "    <tr>\n",
       "      <th>10</th>\n",
       "      <td>president</td>\n",
       "      <td>0.599944</td>\n",
       "      <td>forward</td>\n",
       "      <td>0.500000</td>\n",
       "      <td>coronavirus</td>\n",
       "      <td>2</td>\n",
       "    </tr>\n",
       "    <tr>\n",
       "      <th>11</th>\n",
       "      <td>frustrations</td>\n",
       "      <td>0.599944</td>\n",
       "      <td>turn</td>\n",
       "      <td>0.500000</td>\n",
       "      <td>people</td>\n",
       "      <td>2</td>\n",
       "    </tr>\n",
       "    <tr>\n",
       "      <th>12</th>\n",
       "      <td>infectious</td>\n",
       "      <td>0.594813</td>\n",
       "      <td>hope</td>\n",
       "      <td>0.497856</td>\n",
       "      <td>death</td>\n",
       "      <td>2</td>\n",
       "    </tr>\n",
       "    <tr>\n",
       "      <th>13</th>\n",
       "      <td>diseases</td>\n",
       "      <td>0.594813</td>\n",
       "      <td>clear</td>\n",
       "      <td>0.492119</td>\n",
       "      <td>hope</td>\n",
       "      <td>2</td>\n",
       "    </tr>\n",
       "    <tr>\n",
       "      <th>14</th>\n",
       "      <td>said</td>\n",
       "      <td>0.561148</td>\n",
       "      <td>coronavirus</td>\n",
       "      <td>0.480637</td>\n",
       "      <td>vaccine</td>\n",
       "      <td>2</td>\n",
       "    </tr>\n",
       "    <tr>\n",
       "      <th>15</th>\n",
       "      <td>people</td>\n",
       "      <td>0.546685</td>\n",
       "      <td>vaccine</td>\n",
       "      <td>0.477982</td>\n",
       "      <td>leading</td>\n",
       "      <td>2</td>\n",
       "    </tr>\n",
       "    <tr>\n",
       "      <th>16</th>\n",
       "      <td>coronavirus</td>\n",
       "      <td>0.538345</td>\n",
       "      <td>america</td>\n",
       "      <td>0.439569</td>\n",
       "      <td>set</td>\n",
       "      <td>2</td>\n",
       "    </tr>\n",
       "    <tr>\n",
       "      <th>17</th>\n",
       "      <td>leading</td>\n",
       "      <td>0.516641</td>\n",
       "      <td>open</td>\n",
       "      <td>0.435986</td>\n",
       "      <td>far</td>\n",
       "      <td>2</td>\n",
       "    </tr>\n",
       "    <tr>\n",
       "      <th>18</th>\n",
       "      <td>cautiously</td>\n",
       "      <td>0.514460</td>\n",
       "      <td>committee</td>\n",
       "      <td>0.429793</td>\n",
       "      <td>open</td>\n",
       "      <td>2</td>\n",
       "    </tr>\n",
       "    <tr>\n",
       "      <th>19</th>\n",
       "      <td>optimistic</td>\n",
       "      <td>0.514460</td>\n",
       "      <td>diseases</td>\n",
       "      <td>0.426216</td>\n",
       "      <td>safe</td>\n",
       "      <td>2</td>\n",
       "    </tr>\n",
       "    <tr>\n",
       "      <th>20</th>\n",
       "      <td>added</td>\n",
       "      <td>0.514460</td>\n",
       "      <td>infectious</td>\n",
       "      <td>0.426216</td>\n",
       "      <td>clear</td>\n",
       "      <td>2</td>\n",
       "    </tr>\n",
       "    <tr>\n",
       "      <th>21</th>\n",
       "      <td>school</td>\n",
       "      <td>0.507185</td>\n",
       "      <td>safe</td>\n",
       "      <td>0.417411</td>\n",
       "      <td>diseases</td>\n",
       "      <td>2</td>\n",
       "    </tr>\n",
       "    <tr>\n",
       "      <th>22</th>\n",
       "      <td>clock</td>\n",
       "      <td>0.500000</td>\n",
       "      <td>leading</td>\n",
       "      <td>0.379799</td>\n",
       "      <td>america</td>\n",
       "      <td>2</td>\n",
       "    </tr>\n",
       "    <tr>\n",
       "      <th>23</th>\n",
       "      <td>going</td>\n",
       "      <td>0.500000</td>\n",
       "      <td>set</td>\n",
       "      <td>0.354581</td>\n",
       "      <td>say</td>\n",
       "      <td>1</td>\n",
       "    </tr>\n",
       "    <tr>\n",
       "      <th>24</th>\n",
       "      <td>surprising</td>\n",
       "      <td>0.500000</td>\n",
       "      <td>president</td>\n",
       "      <td>0.354553</td>\n",
       "      <td>road</td>\n",
       "      <td>1</td>\n",
       "    </tr>\n",
       "    <tr>\n",
       "      <th>25</th>\n",
       "      <td>assessment</td>\n",
       "      <td>0.500000</td>\n",
       "      <td>normality</td>\n",
       "      <td>0.354553</td>\n",
       "      <td>rush</td>\n",
       "      <td>1</td>\n",
       "    </tr>\n",
       "    <tr>\n",
       "      <th>26</th>\n",
       "      <td>warnings</td>\n",
       "      <td>0.500000</td>\n",
       "      <td>desires</td>\n",
       "      <td>0.354553</td>\n",
       "      <td>response</td>\n",
       "      <td>1</td>\n",
       "    </tr>\n",
       "    <tr>\n",
       "      <th>27</th>\n",
       "      <td>forward</td>\n",
       "      <td>0.500000</td>\n",
       "      <td>incredibly</td>\n",
       "      <td>0.354553</td>\n",
       "      <td>says</td>\n",
       "      <td>1</td>\n",
       "    </tr>\n",
       "    <tr>\n",
       "      <th>28</th>\n",
       "      <td>turn</td>\n",
       "      <td>0.500000</td>\n",
       "      <td>vocal</td>\n",
       "      <td>0.354553</td>\n",
       "      <td>reported</td>\n",
       "      <td>1</td>\n",
       "    </tr>\n",
       "    <tr>\n",
       "      <th>29</th>\n",
       "      <td>weeks</td>\n",
       "      <td>0.500000</td>\n",
       "      <td>frustrations</td>\n",
       "      <td>0.354553</td>\n",
       "      <td>scenes</td>\n",
       "      <td>1</td>\n",
       "    </tr>\n",
       "  </tbody>\n",
       "</table>\n",
       "</div>"
      ],
      "text/plain": [
       "           index         0         index         0        index  0\n",
       "0          fauci  1.271228         fauci  0.913886        fauci  6\n",
       "1             dr  1.240394            dr  0.876967            s  5\n",
       "2         return  0.836262        return  0.750683           dr  5\n",
       "3            far  0.795605        states  0.655861       return  3\n",
       "4           hope  0.745785           far  0.571333       states  3\n",
       "5         states  0.738987        people  0.540836         said  3\n",
       "6        vaccine  0.715901          said  0.521145       school  2\n",
       "7      currently  0.707107        school  0.501078    committee  2\n",
       "8    accelerated  0.707107         going  0.500000            t  2\n",
       "9        america  0.609687         clock  0.500000   infectious  2\n",
       "10     president  0.599944       forward  0.500000  coronavirus  2\n",
       "11  frustrations  0.599944          turn  0.500000       people  2\n",
       "12    infectious  0.594813          hope  0.497856        death  2\n",
       "13      diseases  0.594813         clear  0.492119         hope  2\n",
       "14          said  0.561148   coronavirus  0.480637      vaccine  2\n",
       "15        people  0.546685       vaccine  0.477982      leading  2\n",
       "16   coronavirus  0.538345       america  0.439569          set  2\n",
       "17       leading  0.516641          open  0.435986          far  2\n",
       "18    cautiously  0.514460     committee  0.429793         open  2\n",
       "19    optimistic  0.514460      diseases  0.426216         safe  2\n",
       "20         added  0.514460    infectious  0.426216        clear  2\n",
       "21        school  0.507185          safe  0.417411     diseases  2\n",
       "22         clock  0.500000       leading  0.379799      america  2\n",
       "23         going  0.500000           set  0.354581          say  1\n",
       "24    surprising  0.500000     president  0.354553         road  1\n",
       "25    assessment  0.500000     normality  0.354553         rush  1\n",
       "26      warnings  0.500000       desires  0.354553     response  1\n",
       "27       forward  0.500000    incredibly  0.354553         says  1\n",
       "28          turn  0.500000         vocal  0.354553     reported  1\n",
       "29         weeks  0.500000  frustrations  0.354553       scenes  1"
      ]
     },
     "execution_count": 180,
     "metadata": {},
     "output_type": "execute_result"
    }
   ],
   "source": [
    "pd.concat([dff30,tfidf30,count30],axis=1)"
   ]
  },
  {
   "cell_type": "markdown",
   "metadata": {},
   "source": [
    "### seems like the results are better when you break article into sentences, not in paragraph. "
   ]
  },
  {
   "cell_type": "code",
   "execution_count": null,
   "metadata": {},
   "outputs": [],
   "source": []
  },
  {
   "cell_type": "markdown",
   "metadata": {},
   "source": [
    "### Use tfidf on 20newsgroups from Sklearn"
   ]
  },
  {
   "cell_type": "code",
   "execution_count": 181,
   "metadata": {},
   "outputs": [],
   "source": [
    "from sklearn.datasets import fetch_20newsgroups"
   ]
  },
  {
   "cell_type": "code",
   "execution_count": 187,
   "metadata": {},
   "outputs": [],
   "source": [
    "newsgroups = fetch_20newsgroups()"
   ]
  },
  {
   "cell_type": "code",
   "execution_count": 204,
   "metadata": {},
   "outputs": [
    {
     "data": {
      "text/plain": [
       "11314"
      ]
     },
     "execution_count": 204,
     "metadata": {},
     "output_type": "execute_result"
    }
   ],
   "source": [
    "len(newsgroups.data)"
   ]
  },
  {
   "cell_type": "code",
   "execution_count": 190,
   "metadata": {},
   "outputs": [
    {
     "data": {
      "text/plain": [
       "array([7, 4, 4, ..., 3, 1, 8])"
      ]
     },
     "execution_count": 190,
     "metadata": {},
     "output_type": "execute_result"
    }
   ],
   "source": [
    "newsgroups.target"
   ]
  },
  {
   "cell_type": "code",
   "execution_count": 193,
   "metadata": {},
   "outputs": [
    {
     "data": {
      "text/plain": [
       "['alt.atheism',\n",
       " 'comp.graphics',\n",
       " 'comp.os.ms-windows.misc',\n",
       " 'comp.sys.ibm.pc.hardware',\n",
       " 'comp.sys.mac.hardware',\n",
       " 'comp.windows.x',\n",
       " 'misc.forsale',\n",
       " 'rec.autos',\n",
       " 'rec.motorcycles',\n",
       " 'rec.sport.baseball',\n",
       " 'rec.sport.hockey',\n",
       " 'sci.crypt',\n",
       " 'sci.electronics',\n",
       " 'sci.med',\n",
       " 'sci.space',\n",
       " 'soc.religion.christian',\n",
       " 'talk.politics.guns',\n",
       " 'talk.politics.mideast',\n",
       " 'talk.politics.misc',\n",
       " 'talk.religion.misc']"
      ]
     },
     "execution_count": 193,
     "metadata": {},
     "output_type": "execute_result"
    }
   ],
   "source": [
    "newsgroups.target_names"
   ]
  },
  {
   "cell_type": "code",
   "execution_count": 198,
   "metadata": {},
   "outputs": [],
   "source": [
    "from sklearn.model_selection import train_test_split"
   ]
  },
  {
   "cell_type": "code",
   "execution_count": 199,
   "metadata": {},
   "outputs": [],
   "source": [
    "x_train,x_test,y_train,y_test = train_test_split\\\n",
    "                            (newsgroups.data , newsgroups.target)"
   ]
  },
  {
   "cell_type": "code",
   "execution_count": 203,
   "metadata": {},
   "outputs": [
    {
     "data": {
      "text/plain": [
       "8485"
      ]
     },
     "execution_count": 203,
     "metadata": {},
     "output_type": "execute_result"
    }
   ],
   "source": [
    "len(x_train)"
   ]
  },
  {
   "cell_type": "code",
   "execution_count": 205,
   "metadata": {},
   "outputs": [],
   "source": [
    "x_train = tvect.fit_transform(x_train)\n",
    "x_test = tvect.transform(x_test)"
   ]
  },
  {
   "cell_type": "code",
   "execution_count": 206,
   "metadata": {},
   "outputs": [],
   "source": [
    "from sklearn.naive_bayes import MultinomialNB\n",
    "from sklearn.neighbors import KNeighborsClassifier"
   ]
  },
  {
   "cell_type": "code",
   "execution_count": 207,
   "metadata": {},
   "outputs": [
    {
     "data": {
      "text/plain": [
       "MultinomialNB(alpha=1.0, class_prior=None, fit_prior=True)"
      ]
     },
     "execution_count": 207,
     "metadata": {},
     "output_type": "execute_result"
    }
   ],
   "source": [
    "bayes = MultinomialNB()\n",
    "bayes.fit(x_train, y_train)"
   ]
  },
  {
   "cell_type": "code",
   "execution_count": 208,
   "metadata": {},
   "outputs": [
    {
     "data": {
      "text/plain": [
       "KNeighborsClassifier(algorithm='auto', leaf_size=30, metric='minkowski',\n",
       "                     metric_params=None, n_jobs=None, n_neighbors=5, p=2,\n",
       "                     weights='uniform')"
      ]
     },
     "execution_count": 208,
     "metadata": {},
     "output_type": "execute_result"
    }
   ],
   "source": [
    "knn = KNeighborsClassifier()\n",
    "knn.fit(x_train,y_train)"
   ]
  },
  {
   "cell_type": "code",
   "execution_count": 211,
   "metadata": {},
   "outputs": [
    {
     "name": "stdout",
     "output_type": "stream",
     "text": [
      "bayes_score: 0.8893601979498056\n"
     ]
    }
   ],
   "source": [
    "bayes_score = bayes.score(x_test, y_test)\n",
    "print(\"bayes_score:\", bayes_score)"
   ]
  },
  {
   "cell_type": "code",
   "execution_count": 212,
   "metadata": {},
   "outputs": [
    {
     "name": "stdout",
     "output_type": "stream",
     "text": [
      "knn_score: 0.7889713679745494\n"
     ]
    }
   ],
   "source": [
    "knn_score = knn.score(x_test,y_test)\n",
    "print('knn_score:', knn_score)"
   ]
  },
  {
   "cell_type": "code",
   "execution_count": null,
   "metadata": {},
   "outputs": [],
   "source": []
  },
  {
   "cell_type": "code",
   "execution_count": null,
   "metadata": {},
   "outputs": [],
   "source": []
  },
  {
   "cell_type": "code",
   "execution_count": null,
   "metadata": {},
   "outputs": [],
   "source": []
  }
 ],
 "metadata": {
  "kernelspec": {
   "display_name": "Python 3",
   "language": "python",
   "name": "python3"
  },
  "language_info": {
   "codemirror_mode": {
    "name": "ipython",
    "version": 3
   },
   "file_extension": ".py",
   "mimetype": "text/x-python",
   "name": "python",
   "nbconvert_exporter": "python",
   "pygments_lexer": "ipython3",
   "version": "3.7.4"
  }
 },
 "nbformat": 4,
 "nbformat_minor": 4
}
