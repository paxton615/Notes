{
 "cells": [
  {
   "cell_type": "code",
   "execution_count": 2,
   "metadata": {},
   "outputs": [],
   "source": [
    "import pandas as pd\n",
    "import numpy as np\n",
    "from datetime import datetime\n",
    "from datetime import date\n",
    "import matplotlib.pyplot as plt\n",
    "import seaborn as sns\n",
    "import requests\n",
    "pd.options.display.max_rows = 5000 \n",
    "pd.options.display.max_columns = 200"
   ]
  },
  {
   "cell_type": "code",
   "execution_count": 3,
   "metadata": {},
   "outputs": [],
   "source": [
    "def avg_holding_price(fund, p1=1, pct1=0, p2=1, pct2=0, p3=1, pct3=0, p4=1, pct4=0):\n",
    "    \n",
    "    client_fund = fund\n",
    "    \n",
    "    shares_at_p1 = client_fund*pct1 / p1\n",
    "    \n",
    "    shares_at_p2 = client_fund*pct2 / p2\n",
    "    \n",
    "    shares_at_p3 = client_fund*pct3 / p3\n",
    "    \n",
    "    shares_at_p4 = client_fund*pct4 / p4\n",
    "    \n",
    "    avg_holding_price = client_fund / (shares_at_p1 + shares_at_p2 + shares_at_p3 + shares_at_p4)\n",
    "    \n",
    "    print('avg_holding_price: {}'.format(avg_holding_price))"
   ]
  },
  {
   "cell_type": "code",
   "execution_count": 4,
   "metadata": {},
   "outputs": [
    {
     "name": "stdout",
     "output_type": "stream",
     "text": [
      "avg_holding_price: 122.36287666219349\n"
     ]
    }
   ],
   "source": [
    "avg_holding_price(7000, 98.6, 0.2, 81.38,0.5, )\n"
   ]
  },
  {
   "cell_type": "code",
   "execution_count": null,
   "metadata": {},
   "outputs": [],
   "source": [
    "# 2028.4 + 6144.0 = 8172 股AMTE"
   ]
  },
  {
   "cell_type": "code",
   "execution_count": null,
   "metadata": {},
   "outputs": [],
   "source": [
    "# 85.7 均价"
   ]
  },
  {
   "cell_type": "code",
   "execution_count": 4,
   "metadata": {},
   "outputs": [
    {
     "name": "stdout",
     "output_type": "stream",
     "text": [
      "avg_holding_price: 106.353591160221\n"
     ]
    }
   ],
   "source": [
    "\n",
    "avg_holding_price(10000, 100, 0.2, 105,0.3, 110, 0.5)"
   ]
  },
  {
   "cell_type": "code",
   "execution_count": 5,
   "metadata": {},
   "outputs": [
    {
     "name": "stdout",
     "output_type": "stream",
     "text": [
      "avg_holding_price: 86.33093525179855\n"
     ]
    }
   ],
   "source": [
    "avg_holding_price(10000, 100,0.2, 90, 0.3, 80, 0.5)\n"
   ]
  },
  {
   "cell_type": "code",
   "execution_count": 7,
   "metadata": {},
   "outputs": [
    {
     "name": "stdout",
     "output_type": "stream",
     "text": [
      "avg_holding_price: 82.39288601455134\n"
     ]
    }
   ],
   "source": [
    "avg_holding_price(10000, 98,0.2, 78, 0.3, 80, 0.5)"
   ]
  },
  {
   "cell_type": "code",
   "execution_count": 9,
   "metadata": {},
   "outputs": [
    {
     "name": "stdout",
     "output_type": "stream",
     "text": [
      "avg_holding_price: 83.05084745762713\n"
     ]
    }
   ],
   "source": [
    "avg_holding_price(10000, 98,0.2, 80, 0.8)"
   ]
  },
  {
   "cell_type": "code",
   "execution_count": null,
   "metadata": {},
   "outputs": [],
   "source": [
    "avg_holding_price(10000, 98,0.2, 80, 0.8)"
   ]
  },
  {
   "cell_type": "code",
   "execution_count": null,
   "metadata": {},
   "outputs": [],
   "source": [
    "\n"
   ]
  },
  {
   "cell_type": "code",
   "execution_count": null,
   "metadata": {},
   "outputs": [],
   "source": []
  },
  {
   "cell_type": "code",
   "execution_count": null,
   "metadata": {},
   "outputs": [],
   "source": []
  }
 ],
 "metadata": {
  "kernelspec": {
   "display_name": "Python 3",
   "language": "python",
   "name": "python3"
  },
  "language_info": {
   "codemirror_mode": {
    "name": "ipython",
    "version": 3
   },
   "file_extension": ".py",
   "mimetype": "text/x-python",
   "name": "python",
   "nbconvert_exporter": "python",
   "pygments_lexer": "ipython3",
   "version": "3.8.3"
  }
 },
 "nbformat": 4,
 "nbformat_minor": 4
}
