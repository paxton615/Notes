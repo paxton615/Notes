{
 "cells": [
  {
   "cell_type": "code",
   "execution_count": 1,
   "metadata": {},
   "outputs": [],
   "source": [
    "import pandas as pd\n",
    "import numpy as np\n",
    "from matplotlib import pyplot as plt"
   ]
  },
  {
   "cell_type": "code",
   "execution_count": 2,
   "metadata": {},
   "outputs": [],
   "source": [
    "# POTENTIAL LOSS, POTENTIAL WINING, DIFFERENT ASSETS, DIFFERENT LEVERAGE, CALCULATE THE TOTALLY RETURN"
   ]
  },
  {
   "cell_type": "code",
   "execution_count": 7,
   "metadata": {},
   "outputs": [
    {
     "name": "stdout",
     "output_type": "stream",
     "text": [
      "7528 752.8\n",
      "4170 208.5\n"
     ]
    }
   ],
   "source": [
    "uk100_index = 7528\n",
    "spx_index = 4170\n",
    "\n",
    "uk100_lev = 9\n",
    "spx_lev = 19\n",
    "\n",
    "funds = 4000\n",
    "\n",
    "uk100_margin = uk100_index / (1+uk100_lev)\n",
    "spx_margin = spx_index / (1+ spx_lev)\n",
    "\n",
    "print(uk100_index, uk100_margin)\n",
    "print(spx_index, spx_margin)"
   ]
  },
  {
   "cell_type": "code",
   "execution_count": 8,
   "metadata": {},
   "outputs": [],
   "source": [
    "# 假设，我的方向判断正确。接下来uk_100 and spx会下跌 5% ， 10%。那么将funds用在这两个instrument上，能有怎样的收益？差距有多大？"
   ]
  },
  {
   "cell_type": "code",
   "execution_count": 9,
   "metadata": {},
   "outputs": [],
   "source": [
    "def uk100_return(funds, uk100_margin, uk100_index, winning_pct):\n",
    "    funds = funds\n",
    "    hands = np.round(funds / uk100_margin,0)\n",
    "    end_price = uk100_index - winning_pct * uk100_index\n",
    "    uk100_return = hands * uk100_index * winning_pct\n",
    "    print(\"funds:{}\".format(funds))\n",
    "    print(\"hands:{}\".format(hands))\n",
    "    print(\"start_prc:{} and end_prc:{} and difference:{}\".format(uk100_index, end_price, np.round((uk100_index - end_price),0)))\n",
    "    print(\"uk100_return:{}\".format(uk100_return))\n",
    "    print(\"uk100_return_rate:{}\".format(uk100_return / funds))"
   ]
  },
  {
   "cell_type": "code",
   "execution_count": 11,
   "metadata": {},
   "outputs": [],
   "source": [
    "def spx_return(funds, spx_margin, spx_index, winning_pct):\n",
    "    funds = funds\n",
    "    hands = np.round(funds / spx_margin,0)\n",
    "    end_price = spx_index - winning_pct * spx_index\n",
    "    spx_return = hands * spx_index * winning_pct\n",
    "    print(\"funds:{}\".format(funds))\n",
    "    print(\"hands:{}\".format(hands))\n",
    "    print(\"start_prc:{} and end_prc:{} and difference:{}\".format(spx_index, end_price, np.round((spx_index - end_price),0)))\n",
    "    print(\"spx_return:{}\".format(spx_return))\n",
    "    print(\"spx_return_rate:{}\".format(spx_return / funds))\n",
    "    "
   ]
  },
  {
   "cell_type": "code",
   "execution_count": 10,
   "metadata": {},
   "outputs": [
    {
     "name": "stdout",
     "output_type": "stream",
     "text": [
      "funds:4000\n",
      "hands:5.0\n",
      "start_prc:7528 and end_prc:7151.6 and difference:376.0\n",
      "uk100_return:1882.0\n",
      "uk100_return_rate:0.4705\n"
     ]
    }
   ],
   "source": [
    "uk100_return(funds, uk100_margin, uk100_index, 0.05)"
   ]
  },
  {
   "cell_type": "code",
   "execution_count": 12,
   "metadata": {},
   "outputs": [
    {
     "name": "stdout",
     "output_type": "stream",
     "text": [
      "funds:4000\n",
      "hands:19.0\n",
      "start_prc:4170 and end_prc:3961.5 and difference:208.0\n",
      "spx_return:3961.5\n",
      "spx_return_rate:0.990375\n"
     ]
    }
   ],
   "source": [
    "spx_return(funds, spx_margin, spx_index, 0.05)"
   ]
  },
  {
   "cell_type": "code",
   "execution_count": 13,
   "metadata": {},
   "outputs": [],
   "source": [
    "# 接下来的一年，前景不容乐观，如何能保住cfd的仓位非常重要。即，如果每次下单都是一次试探性的博弈，投入多少火力和试验次数，能最大概率保证尽可能多的仓位。\n",
    "# 简单的想法是，如果我有4-5次尝试的机会，在保证资金安全的前提下，不断尝试，吃到最大的波段成果。吃到波段后，继续使用浮盈加仓，以扩大战果。"
   ]
  },
  {
   "cell_type": "code",
   "execution_count": null,
   "metadata": {},
   "outputs": [],
   "source": []
  },
  {
   "cell_type": "code",
   "execution_count": null,
   "metadata": {},
   "outputs": [],
   "source": []
  },
  {
   "cell_type": "code",
   "execution_count": null,
   "metadata": {},
   "outputs": [],
   "source": []
  }
 ],
 "metadata": {
  "kernelspec": {
   "display_name": "Python 3",
   "language": "python",
   "name": "python3"
  },
  "language_info": {
   "codemirror_mode": {
    "name": "ipython",
    "version": 3
   },
   "file_extension": ".py",
   "mimetype": "text/x-python",
   "name": "python",
   "nbconvert_exporter": "python",
   "pygments_lexer": "ipython3",
   "version": "3.8.3"
  }
 },
 "nbformat": 4,
 "nbformat_minor": 4
}
