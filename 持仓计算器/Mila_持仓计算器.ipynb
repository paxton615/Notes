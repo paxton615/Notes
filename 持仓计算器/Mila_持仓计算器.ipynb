{
 "cells": [
  {
   "cell_type": "code",
   "execution_count": 1,
   "metadata": {},
   "outputs": [
    {
     "name": "stderr",
     "output_type": "stream",
     "text": [
      "<frozen importlib._bootstrap>:219: RuntimeWarning: numpy.ufunc size changed, may indicate binary incompatibility. Expected 192 from C header, got 216 from PyObject\n"
     ]
    }
   ],
   "source": [
    "import pandas as pd\n",
    "import numpy as np"
   ]
  },
  {
   "cell_type": "code",
   "execution_count": 6,
   "metadata": {},
   "outputs": [
    {
     "name": "stdout",
     "output_type": "stream",
     "text": [
      "4.5 \n",
      " 2.4 \n",
      " 300000 \n",
      " 125000.0\n"
     ]
    }
   ],
   "source": [
    "close_price = 4.5\n",
    "buy_price = 2.4\n",
    "fund = 300000 # 1 pound = 100 p\n",
    "shares = fund / buy_price\n",
    "\n",
    "print( close_price, '\\n', buy_price,'\\n', fund, '\\n',shares)"
   ]
  },
  {
   "cell_type": "code",
   "execution_count": null,
   "metadata": {},
   "outputs": [],
   "source": [
    "# 我想知道： 在当前的收盘价前提下，股票总价值；卖出 x%之后， 剩余的股份， 余额"
   ]
  },
  {
   "cell_type": "code",
   "execution_count": 16,
   "metadata": {},
   "outputs": [
    {
     "name": "stdout",
     "output_type": "stream",
     "text": [
      "fund: 3000.0               shares: 125000.0\n",
      "buy_price: 2.4\n",
      "close_price: 4.5\n",
      "current_balance: (5625.0)\n"
     ]
    }
   ],
   "source": [
    "\n",
    "current_balance = 4.5 * shares\n",
    "\n",
    "print('fund: {}'.format(fund/100), \"             \",'shares: {}'.format(shares))\n",
    "print('buy_price: {}'.format(buy_price))\n",
    "print('close_price: {}'.format(close_price))\n",
    "print('current_balance: ({})'.format(current_balance/100))"
   ]
  },
  {
   "cell_type": "code",
   "execution_count": 18,
   "metadata": {},
   "outputs": [
    {
     "data": {
      "text/plain": [
       "66666.66666666667"
      ]
     },
     "execution_count": 18,
     "metadata": {},
     "output_type": "execute_result"
    }
   ],
   "source": [
    "breakeven_sell_shares = 300000 / 4.5\n",
    "breakeven_sell_shares"
   ]
  },
  {
   "cell_type": "code",
   "execution_count": 20,
   "metadata": {},
   "outputs": [
    {
     "data": {
      "text/plain": [
       "58333.33333333333"
      ]
     },
     "execution_count": 20,
     "metadata": {},
     "output_type": "execute_result"
    }
   ],
   "source": [
    "post_breakeven_shares = shares - breakeven_sell_shares\n",
    "post_breakeven_shares"
   ]
  },
  {
   "cell_type": "code",
   "execution_count": 22,
   "metadata": {},
   "outputs": [
    {
     "data": {
      "text/plain": [
       "2625.0"
      ]
     },
     "execution_count": 22,
     "metadata": {},
     "output_type": "execute_result"
    }
   ],
   "source": [
    "remaining_balance = post_breakeven_shares * close_price / 100\n",
    "remaining_balance"
   ]
  },
  {
   "cell_type": "code",
   "execution_count": null,
   "metadata": {},
   "outputs": [],
   "source": []
  },
  {
   "cell_type": "code",
   "execution_count": null,
   "metadata": {},
   "outputs": [],
   "source": []
  },
  {
   "cell_type": "code",
   "execution_count": null,
   "metadata": {},
   "outputs": [],
   "source": []
  }
 ],
 "metadata": {
  "kernelspec": {
   "display_name": "Python 3",
   "language": "python",
   "name": "python3"
  },
  "language_info": {
   "codemirror_mode": {
    "name": "ipython",
    "version": 3
   },
   "file_extension": ".py",
   "mimetype": "text/x-python",
   "name": "python",
   "nbconvert_exporter": "python",
   "pygments_lexer": "ipython3",
   "version": "3.8.3"
  }
 },
 "nbformat": 4,
 "nbformat_minor": 4
}
