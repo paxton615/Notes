{
 "cells": [
  {
   "cell_type": "markdown",
   "metadata": {},
   "source": [
    "<img src=\"http://imgur.com/1ZcRyrc.png\" style=\"float: left; margin: 20px; height: 55px\">\n",
    "\n",
    "# Guardian or Telegraph?\n",
    "\n",
    "Sentiment analysis of article titles\n",
    "\n",
    "---\n",
    "\n",
    "**Objectives:**\n",
    "\n",
    "1. Complete sentiment analysis manually using the sentiment dictionary from the lesson\n",
    "2. Build a classification model to predict if the article was in The Guardian or the Telegraph\n",
    "3. Evaluate your model with a classification report and confusion matrix\n",
    "4. Do steps 1 to 3 using the VADER Sentiment Analyzer"
   ]
  },
  {
   "cell_type": "code",
   "execution_count": 1,
   "metadata": {},
   "outputs": [],
   "source": [
    "import pandas as pd\n",
    "import numpy as np\n",
    "from sklearn.preprocessing import StandardScaler\n",
    "from sklearn.model_selection import train_test_split, GridSearchCV\n",
    "from sklearn.ensemble import RandomForestClassifier\n",
    "from sklearn.metrics import classification_report, confusion_matrix\n",
    "\n",
    "import textacy\n",
    "from vaderSentiment.vaderSentiment import SentimentIntensityAnalyzer\n",
    "from tqdm import tqdm_notebook"
   ]
  },
  {
   "cell_type": "markdown",
   "metadata": {},
   "source": [
    "## Load data\n",
    "\n",
    "The data is in the file `brexit_articles.csv`.\n",
    "\n",
    "The word sentiments are in the file `word_sentiments.csv`."
   ]
  },
  {
   "cell_type": "code",
   "execution_count": 2,
   "metadata": {},
   "outputs": [],
   "source": [
    "brexit = pd.read_csv('./datasets/brexit_articles.csv')\n",
    "sents = pd.read_csv('./datasets/word_sentiments.csv')"
   ]
  },
  {
   "cell_type": "code",
   "execution_count": 3,
   "metadata": {},
   "outputs": [
    {
     "data": {
      "text/html": [
       "<div>\n",
       "<style scoped>\n",
       "    .dataframe tbody tr th:only-of-type {\n",
       "        vertical-align: middle;\n",
       "    }\n",
       "\n",
       "    .dataframe tbody tr th {\n",
       "        vertical-align: top;\n",
       "    }\n",
       "\n",
       "    .dataframe thead th {\n",
       "        text-align: right;\n",
       "    }\n",
       "</style>\n",
       "<table border=\"1\" class=\"dataframe\">\n",
       "  <thead>\n",
       "    <tr style=\"text-align: right;\">\n",
       "      <th></th>\n",
       "      <th>pos</th>\n",
       "      <th>word</th>\n",
       "      <th>pos_score</th>\n",
       "      <th>neg_score</th>\n",
       "      <th>objectivity</th>\n",
       "      <th>pos_vs_neg</th>\n",
       "    </tr>\n",
       "  </thead>\n",
       "  <tbody>\n",
       "    <tr>\n",
       "      <th>0</th>\n",
       "      <td>ADJ</td>\n",
       "      <td>.22-caliber</td>\n",
       "      <td>0.0</td>\n",
       "      <td>0.0</td>\n",
       "      <td>1.0</td>\n",
       "      <td>0.0</td>\n",
       "    </tr>\n",
       "    <tr>\n",
       "      <th>1</th>\n",
       "      <td>ADJ</td>\n",
       "      <td>.22-calibre</td>\n",
       "      <td>0.0</td>\n",
       "      <td>0.0</td>\n",
       "      <td>1.0</td>\n",
       "      <td>0.0</td>\n",
       "    </tr>\n",
       "    <tr>\n",
       "      <th>2</th>\n",
       "      <td>ADJ</td>\n",
       "      <td>.22_caliber</td>\n",
       "      <td>0.0</td>\n",
       "      <td>0.0</td>\n",
       "      <td>1.0</td>\n",
       "      <td>0.0</td>\n",
       "    </tr>\n",
       "    <tr>\n",
       "      <th>3</th>\n",
       "      <td>ADJ</td>\n",
       "      <td>.22_calibre</td>\n",
       "      <td>0.0</td>\n",
       "      <td>0.0</td>\n",
       "      <td>1.0</td>\n",
       "      <td>0.0</td>\n",
       "    </tr>\n",
       "    <tr>\n",
       "      <th>4</th>\n",
       "      <td>ADJ</td>\n",
       "      <td>.38-caliber</td>\n",
       "      <td>0.0</td>\n",
       "      <td>0.0</td>\n",
       "      <td>1.0</td>\n",
       "      <td>0.0</td>\n",
       "    </tr>\n",
       "  </tbody>\n",
       "</table>\n",
       "</div>"
      ],
      "text/plain": [
       "   pos         word  pos_score  neg_score  objectivity  pos_vs_neg\n",
       "0  ADJ  .22-caliber        0.0        0.0          1.0         0.0\n",
       "1  ADJ  .22-calibre        0.0        0.0          1.0         0.0\n",
       "2  ADJ  .22_caliber        0.0        0.0          1.0         0.0\n",
       "3  ADJ  .22_calibre        0.0        0.0          1.0         0.0\n",
       "4  ADJ  .38-caliber        0.0        0.0          1.0         0.0"
      ]
     },
     "execution_count": 3,
     "metadata": {},
     "output_type": "execute_result"
    }
   ],
   "source": [
    "sents.head()"
   ]
  },
  {
   "cell_type": "code",
   "execution_count": 4,
   "metadata": {},
   "outputs": [
    {
     "data": {
      "text/html": [
       "<div>\n",
       "<style scoped>\n",
       "    .dataframe tbody tr th:only-of-type {\n",
       "        vertical-align: middle;\n",
       "    }\n",
       "\n",
       "    .dataframe tbody tr th {\n",
       "        vertical-align: top;\n",
       "    }\n",
       "\n",
       "    .dataframe thead th {\n",
       "        text-align: right;\n",
       "    }\n",
       "</style>\n",
       "<table border=\"1\" class=\"dataframe\">\n",
       "  <thead>\n",
       "    <tr style=\"text-align: right;\">\n",
       "      <th></th>\n",
       "      <th>source</th>\n",
       "      <th>title</th>\n",
       "    </tr>\n",
       "  </thead>\n",
       "  <tbody>\n",
       "    <tr>\n",
       "      <th>0</th>\n",
       "      <td>guardian</td>\n",
       "      <td>Sam Gyimah resigns over Theresa May's Brexit deal</td>\n",
       "    </tr>\n",
       "    <tr>\n",
       "      <th>1</th>\n",
       "      <td>guardian</td>\n",
       "      <td>SNP and Lib Dems back Benn amendment to preven...</td>\n",
       "    </tr>\n",
       "    <tr>\n",
       "      <th>2</th>\n",
       "      <td>guardian</td>\n",
       "      <td>The Guardian view on Donald Trump’s credibilit...</td>\n",
       "    </tr>\n",
       "    <tr>\n",
       "      <th>3</th>\n",
       "      <td>guardian</td>\n",
       "      <td>In this high-stakes game of Brexit, how much o...</td>\n",
       "    </tr>\n",
       "    <tr>\n",
       "      <th>4</th>\n",
       "      <td>guardian</td>\n",
       "      <td>Brexit: McDonnell says remain would be on ball...</td>\n",
       "    </tr>\n",
       "  </tbody>\n",
       "</table>\n",
       "</div>"
      ],
      "text/plain": [
       "     source                                              title\n",
       "0  guardian  Sam Gyimah resigns over Theresa May's Brexit deal\n",
       "1  guardian  SNP and Lib Dems back Benn amendment to preven...\n",
       "2  guardian  The Guardian view on Donald Trump’s credibilit...\n",
       "3  guardian  In this high-stakes game of Brexit, how much o...\n",
       "4  guardian  Brexit: McDonnell says remain would be on ball..."
      ]
     },
     "execution_count": 4,
     "metadata": {},
     "output_type": "execute_result"
    }
   ],
   "source": [
    "brexit.head()"
   ]
  },
  {
   "cell_type": "code",
   "execution_count": 5,
   "metadata": {},
   "outputs": [
    {
     "data": {
      "text/plain": [
       "(427, 2)"
      ]
     },
     "execution_count": 5,
     "metadata": {},
     "output_type": "execute_result"
    }
   ],
   "source": [
    "brexit.shape"
   ]
  },
  {
   "cell_type": "markdown",
   "metadata": {},
   "source": [
    "## Create the `sen_dict` from the word_sentiments data frame"
   ]
  },
  {
   "cell_type": "code",
   "execution_count": 6,
   "metadata": {},
   "outputs": [
    {
     "data": {
      "application/vnd.jupyter.widget-view+json": {
       "model_id": "456263ee5a8d464aac591b299fbc3f8b",
       "version_major": 2,
       "version_minor": 0
      },
      "text/plain": [
       "HBox(children=(IntProgress(value=1, bar_style='info', max=1), HTML(value='')))"
      ]
     },
     "metadata": {},
     "output_type": "display_data"
    },
    {
     "name": "stdout",
     "output_type": "stream",
     "text": [
      "\n"
     ]
    }
   ],
   "source": [
    "from collections import defaultdict\n",
    "sen_dict = defaultdict(dict) # set up a default dictionary with an empty dictionary as default value\n",
    "\n",
    "for row in tqdm_notebook(sents.itertuples()):\n",
    "    sen_dict[row.pos] [row.word] = {'objectivity': row.objectivity, 'pos_vs_neg': row.pos_vs_neg}"
   ]
  },
  {
   "cell_type": "markdown",
   "metadata": {},
   "source": [
    "## Engineer an initial feature of title length"
   ]
  },
  {
   "cell_type": "code",
   "execution_count": 7,
   "metadata": {},
   "outputs": [],
   "source": [
    "brexit['title_length'] = [len(t.split()) for t in brexit['title']]"
   ]
  },
  {
   "cell_type": "markdown",
   "metadata": {},
   "source": [
    "## Complete sentiment analysis manually using the sentiment dictionary"
   ]
  },
  {
   "cell_type": "code",
   "execution_count": 8,
   "metadata": {},
   "outputs": [],
   "source": [
    "en_nlp = textacy.load_spacy_lang('en_core_web_sm')"
   ]
  },
  {
   "cell_type": "code",
   "execution_count": 9,
   "metadata": {},
   "outputs": [],
   "source": [
    "def process_text(documents, pos=False):\n",
    "    nlp = textacy.load_spacy_lang('en_core_web_sm')\n",
    "    \n",
    "    texts = []\n",
    "    tokenised_texts = []\n",
    "\n",
    "    if pos: # pos can either be False or a list of parts of speech\n",
    "        for document in tqdm_notebook(nlp.pipe(documents, batch_size=200)):\n",
    "            assert document.is_parsed\n",
    "            tokens = [token\n",
    "                      for token in document \n",
    "                      if token.is_stop == False\n",
    "                      and token.pos_ in pos\n",
    "                      and token.pos_ != 'PUNCT']\n",
    "            doc_ = ''\n",
    "            for token in tokens:\n",
    "                doc_ += str(token) + ' '\n",
    "            \n",
    "            doc_ = doc_.strip()\n",
    "            texts.append(doc_)\n",
    "            tokenised_texts.append(tokens)\n",
    "    \n",
    "    \n",
    "    else:    \n",
    "        for document in tqdm_notebook(nlp.pipe(documents, batch_size=200)):\n",
    "            assert document.is_parsed\n",
    "            tokens = [token\n",
    "                      for token in document \n",
    "                      if token.is_stop == False\n",
    "                      and token.pos_ != 'PUNCT']\n",
    "            doc_ = ''\n",
    "            for token in tokens:\n",
    "                doc_ += str(token) + ' '\n",
    "            \n",
    "            doc_ = doc_.strip()\n",
    "            texts.append(doc_)\n",
    "            tokenised_texts.append(tokens)\n",
    "            \n",
    "    return texts, tokenised_texts"
   ]
  },
  {
   "cell_type": "code",
   "execution_count": 10,
   "metadata": {},
   "outputs": [],
   "source": [
    "pos = ['NOUN', 'ADJ', 'VERB', 'ADV']"
   ]
  },
  {
   "cell_type": "code",
   "execution_count": 11,
   "metadata": {},
   "outputs": [
    {
     "data": {
      "application/vnd.jupyter.widget-view+json": {
       "model_id": "9d6dbc07e0594a71be595a98d164aec0",
       "version_major": 2,
       "version_minor": 0
      },
      "text/plain": [
       "HBox(children=(IntProgress(value=1, bar_style='info', max=1), HTML(value='')))"
      ]
     },
     "metadata": {},
     "output_type": "display_data"
    },
    {
     "name": "stdout",
     "output_type": "stream",
     "text": [
      "\n"
     ]
    }
   ],
   "source": [
    "processed_titles, tokenised_titles = process_text(brexit['title'], pos=pos)"
   ]
  },
  {
   "cell_type": "code",
   "execution_count": 12,
   "metadata": {},
   "outputs": [],
   "source": [
    "brexit['processed_title'] = processed_titles\n",
    "brexit['tokenised_title'] = tokenised_titles"
   ]
  },
  {
   "cell_type": "code",
   "execution_count": 13,
   "metadata": {},
   "outputs": [
    {
     "data": {
      "text/html": [
       "<div>\n",
       "<style scoped>\n",
       "    .dataframe tbody tr th:only-of-type {\n",
       "        vertical-align: middle;\n",
       "    }\n",
       "\n",
       "    .dataframe tbody tr th {\n",
       "        vertical-align: top;\n",
       "    }\n",
       "\n",
       "    .dataframe thead th {\n",
       "        text-align: right;\n",
       "    }\n",
       "</style>\n",
       "<table border=\"1\" class=\"dataframe\">\n",
       "  <thead>\n",
       "    <tr style=\"text-align: right;\">\n",
       "      <th></th>\n",
       "      <th>source</th>\n",
       "      <th>title</th>\n",
       "      <th>title_length</th>\n",
       "      <th>processed_title</th>\n",
       "      <th>tokenised_title</th>\n",
       "    </tr>\n",
       "  </thead>\n",
       "  <tbody>\n",
       "    <tr>\n",
       "      <th>0</th>\n",
       "      <td>guardian</td>\n",
       "      <td>Sam Gyimah resigns over Theresa May's Brexit deal</td>\n",
       "      <td>8</td>\n",
       "      <td>resigns deal</td>\n",
       "      <td>[resigns, deal]</td>\n",
       "    </tr>\n",
       "    <tr>\n",
       "      <th>1</th>\n",
       "      <td>guardian</td>\n",
       "      <td>SNP and Lib Dems back Benn amendment to preven...</td>\n",
       "      <td>11</td>\n",
       "      <td>amendment prevent deal Brexit</td>\n",
       "      <td>[amendment, prevent, deal, Brexit]</td>\n",
       "    </tr>\n",
       "    <tr>\n",
       "      <th>2</th>\n",
       "      <td>guardian</td>\n",
       "      <td>The Guardian view on Donald Trump’s credibilit...</td>\n",
       "      <td>12</td>\n",
       "      <td>view credibility compromised leader Editorial</td>\n",
       "      <td>[view, credibility, compromised, leader, Edito...</td>\n",
       "    </tr>\n",
       "    <tr>\n",
       "      <th>3</th>\n",
       "      <td>guardian</td>\n",
       "      <td>In this high-stakes game of Brexit, how much o...</td>\n",
       "      <td>16</td>\n",
       "      <td>high stakes game gambler</td>\n",
       "      <td>[high, stakes, game, gambler]</td>\n",
       "    </tr>\n",
       "    <tr>\n",
       "      <th>4</th>\n",
       "      <td>guardian</td>\n",
       "      <td>Brexit: McDonnell says remain would be on ball...</td>\n",
       "      <td>15</td>\n",
       "      <td>Brexit says remain ballot second referendum Po...</td>\n",
       "      <td>[Brexit, says, remain, ballot, second, referen...</td>\n",
       "    </tr>\n",
       "  </tbody>\n",
       "</table>\n",
       "</div>"
      ],
      "text/plain": [
       "     source                                              title  title_length  \\\n",
       "0  guardian  Sam Gyimah resigns over Theresa May's Brexit deal             8   \n",
       "1  guardian  SNP and Lib Dems back Benn amendment to preven...            11   \n",
       "2  guardian  The Guardian view on Donald Trump’s credibilit...            12   \n",
       "3  guardian  In this high-stakes game of Brexit, how much o...            16   \n",
       "4  guardian  Brexit: McDonnell says remain would be on ball...            15   \n",
       "\n",
       "                                     processed_title  \\\n",
       "0                                       resigns deal   \n",
       "1                      amendment prevent deal Brexit   \n",
       "2      view credibility compromised leader Editorial   \n",
       "3                           high stakes game gambler   \n",
       "4  Brexit says remain ballot second referendum Po...   \n",
       "\n",
       "                                     tokenised_title  \n",
       "0                                    [resigns, deal]  \n",
       "1                 [amendment, prevent, deal, Brexit]  \n",
       "2  [view, credibility, compromised, leader, Edito...  \n",
       "3                      [high, stakes, game, gambler]  \n",
       "4  [Brexit, says, remain, ballot, second, referen...  "
      ]
     },
     "execution_count": 13,
     "metadata": {},
     "output_type": "execute_result"
    }
   ],
   "source": [
    "brexit.head()"
   ]
  },
  {
   "cell_type": "code",
   "execution_count": 14,
   "metadata": {},
   "outputs": [],
   "source": [
    "def scorer(parsed):\n",
    "    \n",
    "    obj_scores, pvn_scores = [], []\n",
    "    \n",
    "    for token in parsed:\n",
    "        try:\n",
    "            obj_scores.append(sen_dict[token.pos_][token.lemma_]['objectivity'])\n",
    "            pvn_scores.append(sen_dict[token.pos_][token.lemma_]['pos_vs_neg'])\n",
    "        except:\n",
    "            pass\n",
    "    \n",
    "    if not obj_scores:\n",
    "        obj_scores = [1.]\n",
    "    if not pvn_scores:\n",
    "        pvn_scores = [0.]\n",
    "        \n",
    "    return [np.mean(obj_scores), np.mean(pvn_scores)]"
   ]
  },
  {
   "cell_type": "code",
   "execution_count": 15,
   "metadata": {},
   "outputs": [],
   "source": [
    "scores = brexit['tokenised_title'].map(scorer)\n",
    "brexit['objectivity_avg'] = scores.map(lambda x: x[0])\n",
    "brexit['polarity_avg'] = scores.map(lambda x: x[1])"
   ]
  },
  {
   "cell_type": "code",
   "execution_count": 16,
   "metadata": {},
   "outputs": [
    {
     "data": {
      "text/html": [
       "<div>\n",
       "<style scoped>\n",
       "    .dataframe tbody tr th:only-of-type {\n",
       "        vertical-align: middle;\n",
       "    }\n",
       "\n",
       "    .dataframe tbody tr th {\n",
       "        vertical-align: top;\n",
       "    }\n",
       "\n",
       "    .dataframe thead th {\n",
       "        text-align: right;\n",
       "    }\n",
       "</style>\n",
       "<table border=\"1\" class=\"dataframe\">\n",
       "  <thead>\n",
       "    <tr style=\"text-align: right;\">\n",
       "      <th></th>\n",
       "      <th>source</th>\n",
       "      <th>title</th>\n",
       "      <th>title_length</th>\n",
       "      <th>processed_title</th>\n",
       "      <th>tokenised_title</th>\n",
       "      <th>objectivity_avg</th>\n",
       "      <th>polarity_avg</th>\n",
       "    </tr>\n",
       "  </thead>\n",
       "  <tbody>\n",
       "    <tr>\n",
       "      <th>0</th>\n",
       "      <td>guardian</td>\n",
       "      <td>Sam Gyimah resigns over Theresa May's Brexit deal</td>\n",
       "      <td>8</td>\n",
       "      <td>resigns deal</td>\n",
       "      <td>[resigns, deal]</td>\n",
       "      <td>0.968750</td>\n",
       "      <td>-0.031250</td>\n",
       "    </tr>\n",
       "    <tr>\n",
       "      <th>1</th>\n",
       "      <td>guardian</td>\n",
       "      <td>SNP and Lib Dems back Benn amendment to preven...</td>\n",
       "      <td>11</td>\n",
       "      <td>amendment prevent deal Brexit</td>\n",
       "      <td>[amendment, prevent, deal, Brexit]</td>\n",
       "      <td>0.937500</td>\n",
       "      <td>0.020833</td>\n",
       "    </tr>\n",
       "    <tr>\n",
       "      <th>2</th>\n",
       "      <td>guardian</td>\n",
       "      <td>The Guardian view on Donald Trump’s credibilit...</td>\n",
       "      <td>12</td>\n",
       "      <td>view credibility compromised leader Editorial</td>\n",
       "      <td>[view, credibility, compromised, leader, Edito...</td>\n",
       "      <td>0.778333</td>\n",
       "      <td>-0.016667</td>\n",
       "    </tr>\n",
       "    <tr>\n",
       "      <th>3</th>\n",
       "      <td>guardian</td>\n",
       "      <td>In this high-stakes game of Brexit, how much o...</td>\n",
       "      <td>16</td>\n",
       "      <td>high stakes game gambler</td>\n",
       "      <td>[high, stakes, game, gambler]</td>\n",
       "      <td>0.857955</td>\n",
       "      <td>-0.041396</td>\n",
       "    </tr>\n",
       "    <tr>\n",
       "      <th>4</th>\n",
       "      <td>guardian</td>\n",
       "      <td>Brexit: McDonnell says remain would be on ball...</td>\n",
       "      <td>15</td>\n",
       "      <td>Brexit says remain ballot second referendum Po...</td>\n",
       "      <td>[Brexit, says, remain, ballot, second, referen...</td>\n",
       "      <td>0.978761</td>\n",
       "      <td>0.021239</td>\n",
       "    </tr>\n",
       "  </tbody>\n",
       "</table>\n",
       "</div>"
      ],
      "text/plain": [
       "     source                                              title  title_length  \\\n",
       "0  guardian  Sam Gyimah resigns over Theresa May's Brexit deal             8   \n",
       "1  guardian  SNP and Lib Dems back Benn amendment to preven...            11   \n",
       "2  guardian  The Guardian view on Donald Trump’s credibilit...            12   \n",
       "3  guardian  In this high-stakes game of Brexit, how much o...            16   \n",
       "4  guardian  Brexit: McDonnell says remain would be on ball...            15   \n",
       "\n",
       "                                     processed_title  \\\n",
       "0                                       resigns deal   \n",
       "1                      amendment prevent deal Brexit   \n",
       "2      view credibility compromised leader Editorial   \n",
       "3                           high stakes game gambler   \n",
       "4  Brexit says remain ballot second referendum Po...   \n",
       "\n",
       "                                     tokenised_title  objectivity_avg  \\\n",
       "0                                    [resigns, deal]         0.968750   \n",
       "1                 [amendment, prevent, deal, Brexit]         0.937500   \n",
       "2  [view, credibility, compromised, leader, Edito...         0.778333   \n",
       "3                      [high, stakes, game, gambler]         0.857955   \n",
       "4  [Brexit, says, remain, ballot, second, referen...         0.978761   \n",
       "\n",
       "   polarity_avg  \n",
       "0     -0.031250  \n",
       "1      0.020833  \n",
       "2     -0.016667  \n",
       "3     -0.041396  \n",
       "4      0.021239  "
      ]
     },
     "execution_count": 16,
     "metadata": {},
     "output_type": "execute_result"
    }
   ],
   "source": [
    "brexit.head()"
   ]
  },
  {
   "cell_type": "markdown",
   "metadata": {},
   "source": [
    "## Build a classification model to predict if the article was in The Guardian or the Telegraph\n",
    "\n",
    "I am using a Random Forest Model, but if you have time do try others!!"
   ]
  },
  {
   "cell_type": "code",
   "execution_count": 17,
   "metadata": {},
   "outputs": [
    {
     "data": {
      "text/plain": [
       "telegraph    277\n",
       "guardian     150\n",
       "Name: source, dtype: int64"
      ]
     },
     "execution_count": 17,
     "metadata": {},
     "output_type": "execute_result"
    }
   ],
   "source": [
    "# baseline\n",
    "\n",
    "brexit['source'].value_counts()"
   ]
  },
  {
   "cell_type": "code",
   "execution_count": 18,
   "metadata": {},
   "outputs": [
    {
     "data": {
      "text/plain": [
       "telegraph    0.648712\n",
       "guardian     0.351288\n",
       "Name: source, dtype: float64"
      ]
     },
     "execution_count": 18,
     "metadata": {},
     "output_type": "execute_result"
    }
   ],
   "source": [
    "brexit['source'].value_counts(normalize=True)"
   ]
  },
  {
   "cell_type": "code",
   "execution_count": 19,
   "metadata": {},
   "outputs": [],
   "source": [
    "X = brexit[['objectivity_avg', 'polarity_avg', 'title_length']].astype(float)\n",
    "y = brexit['source']"
   ]
  },
  {
   "cell_type": "code",
   "execution_count": 20,
   "metadata": {},
   "outputs": [],
   "source": [
    "X_train, X_test, y_train, y_test = train_test_split(X, y, test_size=0.33, stratify=y)"
   ]
  },
  {
   "cell_type": "code",
   "execution_count": 21,
   "metadata": {},
   "outputs": [],
   "source": [
    "scaler = StandardScaler()\n",
    "X_train_s = pd.DataFrame(scaler.fit_transform(X_train), columns=X.columns)\n",
    "X_test_s = pd.DataFrame(scaler.transform(X_test), columns=X.columns)"
   ]
  },
  {
   "cell_type": "code",
   "execution_count": 22,
   "metadata": {},
   "outputs": [
    {
     "name": "stdout",
     "output_type": "stream",
     "text": [
      "Fitting 5 folds for each of 40 candidates, totalling 200 fits\n"
     ]
    },
    {
     "name": "stderr",
     "output_type": "stream",
     "text": [
      "[Parallel(n_jobs=-1)]: Using backend LokyBackend with 4 concurrent workers.\n",
      "[Parallel(n_jobs=-1)]: Done  42 tasks      | elapsed:    4.3s\n",
      "[Parallel(n_jobs=-1)]: Done 192 tasks      | elapsed:   11.4s\n",
      "[Parallel(n_jobs=-1)]: Done 200 out of 200 | elapsed:   12.0s finished\n"
     ]
    },
    {
     "data": {
      "text/plain": [
       "GridSearchCV(cv=5, error_score='raise-deprecating',\n",
       "       estimator=RandomForestClassifier(bootstrap=True, class_weight=None, criterion='gini',\n",
       "            max_depth=None, max_features='auto', max_leaf_nodes=None,\n",
       "            min_impurity_decrease=0.0, min_impurity_split=None,\n",
       "            min_samples_leaf=1, min_samples_split=2,\n",
       "            min_weight_fraction_leaf=0.0, n_estimators=100, n_jobs=None,\n",
       "            oob_score=False, random_state=None, verbose=0,\n",
       "            warm_start=False),\n",
       "       fit_params=None, iid=False, n_jobs=-1,\n",
       "       param_grid={'criterion': ['entropy', 'gini'], 'max_features': array([0.1    , 0.14737, 0.19474, 0.24211, 0.28947, 0.33684, 0.38421,\n",
       "       0.43158, 0.47895, 0.52632, 0.57368, 0.62105, 0.66842, 0.71579,\n",
       "       0.76316, 0.81053, 0.85789, 0.90526, 0.95263, 1.     ])},\n",
       "       pre_dispatch='2*n_jobs', refit=True, return_train_score='warn',\n",
       "       scoring=None, verbose=1)"
      ]
     },
     "execution_count": 22,
     "metadata": {},
     "output_type": "execute_result"
    }
   ],
   "source": [
    "rf = RandomForestClassifier(n_estimators=100)\n",
    "\n",
    "params = {\n",
    "    'criterion': ['entropy', 'gini'],\n",
    "    'max_features': np.linspace(0.1,1.0, 20),\n",
    "}\n",
    "\n",
    "gs = GridSearchCV(rf, params, n_jobs=-1, cv=5, verbose=1, iid=False)\n",
    "gs.fit(X_train_s, y_train)"
   ]
  },
  {
   "cell_type": "code",
   "execution_count": 23,
   "metadata": {},
   "outputs": [
    {
     "data": {
      "text/plain": [
       "0.9790209790209791"
      ]
     },
     "execution_count": 23,
     "metadata": {},
     "output_type": "execute_result"
    }
   ],
   "source": [
    "gs.score(X_train_s, y_train)"
   ]
  },
  {
   "cell_type": "code",
   "execution_count": 24,
   "metadata": {},
   "outputs": [
    {
     "data": {
      "text/plain": [
       "0.624113475177305"
      ]
     },
     "execution_count": 24,
     "metadata": {},
     "output_type": "execute_result"
    }
   ],
   "source": [
    "gs.score(X_test_s, y_test)"
   ]
  },
  {
   "cell_type": "code",
   "execution_count": 25,
   "metadata": {},
   "outputs": [
    {
     "data": {
      "text/plain": [
       "{'criterion': 'entropy', 'max_features': 0.9052631578947369}"
      ]
     },
     "execution_count": 25,
     "metadata": {},
     "output_type": "execute_result"
    }
   ],
   "source": [
    "gs.best_params_"
   ]
  },
  {
   "cell_type": "code",
   "execution_count": 26,
   "metadata": {},
   "outputs": [],
   "source": [
    "predictions_train = gs.predict(X_train_s)\n",
    "predictions_test = gs.predict(X_test_s)"
   ]
  },
  {
   "cell_type": "markdown",
   "metadata": {},
   "source": [
    "## Evaluate your model with a classification report and confusion matrix\n",
    "\n",
    "Describe your results!"
   ]
  },
  {
   "cell_type": "code",
   "execution_count": 27,
   "metadata": {},
   "outputs": [
    {
     "name": "stdout",
     "output_type": "stream",
     "text": [
      "              precision    recall  f1-score   support\n",
      "\n",
      "    guardian       0.97      0.97      0.97       100\n",
      "   telegraph       0.98      0.98      0.98       186\n",
      "\n",
      "   micro avg       0.98      0.98      0.98       286\n",
      "   macro avg       0.98      0.98      0.98       286\n",
      "weighted avg       0.98      0.98      0.98       286\n",
      "\n"
     ]
    }
   ],
   "source": [
    "print(classification_report(y_train, predictions_train))"
   ]
  },
  {
   "cell_type": "code",
   "execution_count": 28,
   "metadata": {},
   "outputs": [
    {
     "data": {
      "text/html": [
       "<div>\n",
       "<style scoped>\n",
       "    .dataframe tbody tr th:only-of-type {\n",
       "        vertical-align: middle;\n",
       "    }\n",
       "\n",
       "    .dataframe tbody tr th {\n",
       "        vertical-align: top;\n",
       "    }\n",
       "\n",
       "    .dataframe thead th {\n",
       "        text-align: right;\n",
       "    }\n",
       "</style>\n",
       "<table border=\"1\" class=\"dataframe\">\n",
       "  <thead>\n",
       "    <tr style=\"text-align: right;\">\n",
       "      <th></th>\n",
       "      <th>predicted guardian</th>\n",
       "      <th>predicted telegraph</th>\n",
       "    </tr>\n",
       "  </thead>\n",
       "  <tbody>\n",
       "    <tr>\n",
       "      <th>actual guardian</th>\n",
       "      <td>97</td>\n",
       "      <td>3</td>\n",
       "    </tr>\n",
       "    <tr>\n",
       "      <th>actual telegraph</th>\n",
       "      <td>3</td>\n",
       "      <td>183</td>\n",
       "    </tr>\n",
       "  </tbody>\n",
       "</table>\n",
       "</div>"
      ],
      "text/plain": [
       "                  predicted guardian  predicted telegraph\n",
       "actual guardian                   97                    3\n",
       "actual telegraph                   3                  183"
      ]
     },
     "execution_count": 28,
     "metadata": {},
     "output_type": "execute_result"
    }
   ],
   "source": [
    "pd.DataFrame(confusion_matrix(y_train, predictions_train, labels=['guardian', 'telegraph']),\n",
    "             index=['actual guardian', 'actual telegraph'],\n",
    "             columns=['predicted guardian', 'predicted telegraph'])"
   ]
  },
  {
   "cell_type": "code",
   "execution_count": 29,
   "metadata": {},
   "outputs": [
    {
     "name": "stdout",
     "output_type": "stream",
     "text": [
      "              precision    recall  f1-score   support\n",
      "\n",
      "    guardian       0.47      0.40      0.43        50\n",
      "   telegraph       0.69      0.75      0.72        91\n",
      "\n",
      "   micro avg       0.62      0.62      0.62       141\n",
      "   macro avg       0.58      0.57      0.57       141\n",
      "weighted avg       0.61      0.62      0.62       141\n",
      "\n"
     ]
    }
   ],
   "source": [
    "print(classification_report(y_test, predictions_test))"
   ]
  },
  {
   "cell_type": "code",
   "execution_count": 30,
   "metadata": {},
   "outputs": [
    {
     "data": {
      "text/html": [
       "<div>\n",
       "<style scoped>\n",
       "    .dataframe tbody tr th:only-of-type {\n",
       "        vertical-align: middle;\n",
       "    }\n",
       "\n",
       "    .dataframe tbody tr th {\n",
       "        vertical-align: top;\n",
       "    }\n",
       "\n",
       "    .dataframe thead th {\n",
       "        text-align: right;\n",
       "    }\n",
       "</style>\n",
       "<table border=\"1\" class=\"dataframe\">\n",
       "  <thead>\n",
       "    <tr style=\"text-align: right;\">\n",
       "      <th></th>\n",
       "      <th>predicted guardian</th>\n",
       "      <th>predicted telegraph</th>\n",
       "    </tr>\n",
       "  </thead>\n",
       "  <tbody>\n",
       "    <tr>\n",
       "      <th>actual guardian</th>\n",
       "      <td>20</td>\n",
       "      <td>30</td>\n",
       "    </tr>\n",
       "    <tr>\n",
       "      <th>actual telegraph</th>\n",
       "      <td>23</td>\n",
       "      <td>68</td>\n",
       "    </tr>\n",
       "  </tbody>\n",
       "</table>\n",
       "</div>"
      ],
      "text/plain": [
       "                  predicted guardian  predicted telegraph\n",
       "actual guardian                   20                   30\n",
       "actual telegraph                  23                   68"
      ]
     },
     "execution_count": 30,
     "metadata": {},
     "output_type": "execute_result"
    }
   ],
   "source": [
    "pd.DataFrame(confusion_matrix(y_test, predictions_test, labels=['guardian', 'telegraph']),\n",
    "             index=['actual guardian', 'actual telegraph'],\n",
    "             columns=['predicted guardian', 'predicted telegraph'])"
   ]
  },
  {
   "cell_type": "markdown",
   "metadata": {},
   "source": [
    "## Do steps 1 to 3 using the VADER Sentiment Analyzer"
   ]
  },
  {
   "cell_type": "markdown",
   "metadata": {},
   "source": [
    "### Complete sentiment analysis using VADER"
   ]
  },
  {
   "cell_type": "code",
   "execution_count": 31,
   "metadata": {},
   "outputs": [],
   "source": [
    "analyzer = SentimentIntensityAnalyzer()"
   ]
  },
  {
   "cell_type": "code",
   "execution_count": 32,
   "metadata": {},
   "outputs": [],
   "source": [
    "vader_scores = brexit['title'].map(analyzer.polarity_scores)"
   ]
  },
  {
   "cell_type": "code",
   "execution_count": 33,
   "metadata": {},
   "outputs": [
    {
     "data": {
      "text/plain": [
       "0    {'neg': 0.247, 'neu': 0.753, 'pos': 0.0, 'comp...\n",
       "1    {'neg': 0.0, 'neu': 0.901, 'pos': 0.099, 'comp...\n",
       "2    {'neg': 0.0, 'neu': 1.0, 'pos': 0.0, 'compound...\n",
       "3    {'neg': 0.0, 'neu': 1.0, 'pos': 0.0, 'compound...\n",
       "4    {'neg': 0.0, 'neu': 1.0, 'pos': 0.0, 'compound...\n",
       "Name: title, dtype: object"
      ]
     },
     "execution_count": 33,
     "metadata": {},
     "output_type": "execute_result"
    }
   ],
   "source": [
    "vader_scores.head()"
   ]
  },
  {
   "cell_type": "code",
   "execution_count": 34,
   "metadata": {},
   "outputs": [
    {
     "data": {
      "text/plain": [
       "<427x4 sparse matrix of type '<class 'numpy.float64'>'\n",
       "\twith 1708 stored elements in Compressed Sparse Row format>"
      ]
     },
     "execution_count": 34,
     "metadata": {},
     "output_type": "execute_result"
    }
   ],
   "source": [
    "from sklearn.feature_extraction import DictVectorizer\n",
    "\n",
    "dvec = DictVectorizer()\n",
    "\n",
    "vader_scores = dvec.fit_transform(vader_scores)\n",
    "vader_scores"
   ]
  },
  {
   "cell_type": "code",
   "execution_count": 35,
   "metadata": {},
   "outputs": [
    {
     "data": {
      "text/plain": [
       "['compound', 'neg', 'neu', 'pos']"
      ]
     },
     "execution_count": 35,
     "metadata": {},
     "output_type": "execute_result"
    }
   ],
   "source": [
    "dvec.feature_names_"
   ]
  },
  {
   "cell_type": "code",
   "execution_count": 36,
   "metadata": {},
   "outputs": [],
   "source": [
    "for i, col in enumerate(dvec.feature_names_):\n",
    "    brexit['vader_{}'.format(col)] = vader_scores[:, i].toarray().ravel()"
   ]
  },
  {
   "cell_type": "code",
   "execution_count": 37,
   "metadata": {},
   "outputs": [
    {
     "data": {
      "text/html": [
       "<div>\n",
       "<style scoped>\n",
       "    .dataframe tbody tr th:only-of-type {\n",
       "        vertical-align: middle;\n",
       "    }\n",
       "\n",
       "    .dataframe tbody tr th {\n",
       "        vertical-align: top;\n",
       "    }\n",
       "\n",
       "    .dataframe thead th {\n",
       "        text-align: right;\n",
       "    }\n",
       "</style>\n",
       "<table border=\"1\" class=\"dataframe\">\n",
       "  <thead>\n",
       "    <tr style=\"text-align: right;\">\n",
       "      <th></th>\n",
       "      <th>source</th>\n",
       "      <th>title</th>\n",
       "      <th>title_length</th>\n",
       "      <th>processed_title</th>\n",
       "      <th>tokenised_title</th>\n",
       "      <th>objectivity_avg</th>\n",
       "      <th>polarity_avg</th>\n",
       "      <th>vader_compound</th>\n",
       "      <th>vader_neg</th>\n",
       "      <th>vader_neu</th>\n",
       "      <th>vader_pos</th>\n",
       "    </tr>\n",
       "  </thead>\n",
       "  <tbody>\n",
       "    <tr>\n",
       "      <th>0</th>\n",
       "      <td>guardian</td>\n",
       "      <td>Sam Gyimah resigns over Theresa May's Brexit deal</td>\n",
       "      <td>8</td>\n",
       "      <td>resigns deal</td>\n",
       "      <td>[resigns, deal]</td>\n",
       "      <td>0.968750</td>\n",
       "      <td>-0.031250</td>\n",
       "      <td>-0.3182</td>\n",
       "      <td>0.247</td>\n",
       "      <td>0.753</td>\n",
       "      <td>0.000</td>\n",
       "    </tr>\n",
       "    <tr>\n",
       "      <th>1</th>\n",
       "      <td>guardian</td>\n",
       "      <td>SNP and Lib Dems back Benn amendment to preven...</td>\n",
       "      <td>11</td>\n",
       "      <td>amendment prevent deal Brexit</td>\n",
       "      <td>[amendment, prevent, deal, Brexit]</td>\n",
       "      <td>0.937500</td>\n",
       "      <td>0.020833</td>\n",
       "      <td>0.0258</td>\n",
       "      <td>0.000</td>\n",
       "      <td>0.901</td>\n",
       "      <td>0.099</td>\n",
       "    </tr>\n",
       "    <tr>\n",
       "      <th>2</th>\n",
       "      <td>guardian</td>\n",
       "      <td>The Guardian view on Donald Trump’s credibilit...</td>\n",
       "      <td>12</td>\n",
       "      <td>view credibility compromised leader Editorial</td>\n",
       "      <td>[view, credibility, compromised, leader, Edito...</td>\n",
       "      <td>0.778333</td>\n",
       "      <td>-0.016667</td>\n",
       "      <td>0.0000</td>\n",
       "      <td>0.000</td>\n",
       "      <td>1.000</td>\n",
       "      <td>0.000</td>\n",
       "    </tr>\n",
       "    <tr>\n",
       "      <th>3</th>\n",
       "      <td>guardian</td>\n",
       "      <td>In this high-stakes game of Brexit, how much o...</td>\n",
       "      <td>16</td>\n",
       "      <td>high stakes game gambler</td>\n",
       "      <td>[high, stakes, game, gambler]</td>\n",
       "      <td>0.857955</td>\n",
       "      <td>-0.041396</td>\n",
       "      <td>0.0000</td>\n",
       "      <td>0.000</td>\n",
       "      <td>1.000</td>\n",
       "      <td>0.000</td>\n",
       "    </tr>\n",
       "    <tr>\n",
       "      <th>4</th>\n",
       "      <td>guardian</td>\n",
       "      <td>Brexit: McDonnell says remain would be on ball...</td>\n",
       "      <td>15</td>\n",
       "      <td>Brexit says remain ballot second referendum Po...</td>\n",
       "      <td>[Brexit, says, remain, ballot, second, referen...</td>\n",
       "      <td>0.978761</td>\n",
       "      <td>0.021239</td>\n",
       "      <td>0.0000</td>\n",
       "      <td>0.000</td>\n",
       "      <td>1.000</td>\n",
       "      <td>0.000</td>\n",
       "    </tr>\n",
       "  </tbody>\n",
       "</table>\n",
       "</div>"
      ],
      "text/plain": [
       "     source                                              title  title_length  \\\n",
       "0  guardian  Sam Gyimah resigns over Theresa May's Brexit deal             8   \n",
       "1  guardian  SNP and Lib Dems back Benn amendment to preven...            11   \n",
       "2  guardian  The Guardian view on Donald Trump’s credibilit...            12   \n",
       "3  guardian  In this high-stakes game of Brexit, how much o...            16   \n",
       "4  guardian  Brexit: McDonnell says remain would be on ball...            15   \n",
       "\n",
       "                                     processed_title  \\\n",
       "0                                       resigns deal   \n",
       "1                      amendment prevent deal Brexit   \n",
       "2      view credibility compromised leader Editorial   \n",
       "3                           high stakes game gambler   \n",
       "4  Brexit says remain ballot second referendum Po...   \n",
       "\n",
       "                                     tokenised_title  objectivity_avg  \\\n",
       "0                                    [resigns, deal]         0.968750   \n",
       "1                 [amendment, prevent, deal, Brexit]         0.937500   \n",
       "2  [view, credibility, compromised, leader, Edito...         0.778333   \n",
       "3                      [high, stakes, game, gambler]         0.857955   \n",
       "4  [Brexit, says, remain, ballot, second, referen...         0.978761   \n",
       "\n",
       "   polarity_avg  vader_compound  vader_neg  vader_neu  vader_pos  \n",
       "0     -0.031250         -0.3182      0.247      0.753      0.000  \n",
       "1      0.020833          0.0258      0.000      0.901      0.099  \n",
       "2     -0.016667          0.0000      0.000      1.000      0.000  \n",
       "3     -0.041396          0.0000      0.000      1.000      0.000  \n",
       "4      0.021239          0.0000      0.000      1.000      0.000  "
      ]
     },
     "execution_count": 37,
     "metadata": {},
     "output_type": "execute_result"
    }
   ],
   "source": [
    "brexit.head()"
   ]
  },
  {
   "cell_type": "markdown",
   "metadata": {},
   "source": [
    "### Build a classification model to predict if the article was in The Guardian or the Telegraph"
   ]
  },
  {
   "cell_type": "code",
   "execution_count": 38,
   "metadata": {},
   "outputs": [
    {
     "data": {
      "text/plain": [
       "telegraph    0.648712\n",
       "guardian     0.351288\n",
       "Name: source, dtype: float64"
      ]
     },
     "execution_count": 38,
     "metadata": {},
     "output_type": "execute_result"
    }
   ],
   "source": [
    "# baseline\n",
    "\n",
    "brexit['source'].value_counts(normalize=True)"
   ]
  },
  {
   "cell_type": "code",
   "execution_count": 39,
   "metadata": {},
   "outputs": [
    {
     "data": {
      "text/plain": [
       "Index(['source', 'title', 'title_length', 'processed_title', 'tokenised_title',\n",
       "       'objectivity_avg', 'polarity_avg', 'vader_compound', 'vader_neg',\n",
       "       'vader_neu', 'vader_pos'],\n",
       "      dtype='object')"
      ]
     },
     "execution_count": 39,
     "metadata": {},
     "output_type": "execute_result"
    }
   ],
   "source": [
    "brexit.columns"
   ]
  },
  {
   "cell_type": "code",
   "execution_count": 40,
   "metadata": {},
   "outputs": [],
   "source": [
    "X = brexit[['vader_neg', 'vader_pos', 'vader_neu', 'vader_compound', 'title_length']].astype(float)\n",
    "y = brexit['source']"
   ]
  },
  {
   "cell_type": "code",
   "execution_count": 41,
   "metadata": {},
   "outputs": [],
   "source": [
    "X_train, X_test, y_train, y_test = train_test_split(X, y, test_size=0.33, stratify=y)"
   ]
  },
  {
   "cell_type": "code",
   "execution_count": 42,
   "metadata": {},
   "outputs": [],
   "source": [
    "scaler = StandardScaler()\n",
    "X_train_s = pd.DataFrame(scaler.fit_transform(X_train), columns=X.columns)\n",
    "X_test_s = pd.DataFrame(scaler.transform(X_test), columns=X.columns)"
   ]
  },
  {
   "cell_type": "code",
   "execution_count": 43,
   "metadata": {},
   "outputs": [
    {
     "name": "stdout",
     "output_type": "stream",
     "text": [
      "Fitting 5 folds for each of 40 candidates, totalling 200 fits\n"
     ]
    },
    {
     "name": "stderr",
     "output_type": "stream",
     "text": [
      "[Parallel(n_jobs=-1)]: Using backend LokyBackend with 4 concurrent workers.\n",
      "[Parallel(n_jobs=-1)]: Done  42 tasks      | elapsed:    3.9s\n",
      "[Parallel(n_jobs=-1)]: Done 192 tasks      | elapsed:   13.6s\n",
      "[Parallel(n_jobs=-1)]: Done 200 out of 200 | elapsed:   14.3s finished\n"
     ]
    },
    {
     "data": {
      "text/plain": [
       "GridSearchCV(cv=5, error_score='raise-deprecating',\n",
       "       estimator=RandomForestClassifier(bootstrap=True, class_weight=None, criterion='gini',\n",
       "            max_depth=None, max_features='auto', max_leaf_nodes=None,\n",
       "            min_impurity_decrease=0.0, min_impurity_split=None,\n",
       "            min_samples_leaf=1, min_samples_split=2,\n",
       "            min_weight_fraction_leaf=0.0, n_estimators=100, n_jobs=None,\n",
       "            oob_score=False, random_state=None, verbose=0,\n",
       "            warm_start=False),\n",
       "       fit_params=None, iid=False, n_jobs=-1,\n",
       "       param_grid={'criterion': ['entropy', 'gini'], 'max_features': array([0.1    , 0.14737, 0.19474, 0.24211, 0.28947, 0.33684, 0.38421,\n",
       "       0.43158, 0.47895, 0.52632, 0.57368, 0.62105, 0.66842, 0.71579,\n",
       "       0.76316, 0.81053, 0.85789, 0.90526, 0.95263, 1.     ])},\n",
       "       pre_dispatch='2*n_jobs', refit=True, return_train_score='warn',\n",
       "       scoring=None, verbose=1)"
      ]
     },
     "execution_count": 43,
     "metadata": {},
     "output_type": "execute_result"
    }
   ],
   "source": [
    "rf = RandomForestClassifier(n_estimators=100)\n",
    "\n",
    "params = {\n",
    "    'criterion': ['entropy', 'gini'],\n",
    "    'max_features': np.linspace(0.1,1.0, 20),\n",
    "}\n",
    "\n",
    "\n",
    "gs = GridSearchCV(rf, params, n_jobs=-1, cv=5, verbose=1, iid=False)\n",
    "gs.fit(X_train_s, y_train)"
   ]
  },
  {
   "cell_type": "code",
   "execution_count": 44,
   "metadata": {},
   "outputs": [
    {
     "data": {
      "text/plain": [
       "0.9090909090909091"
      ]
     },
     "execution_count": 44,
     "metadata": {},
     "output_type": "execute_result"
    }
   ],
   "source": [
    "gs.score(X_train_s, y_train)"
   ]
  },
  {
   "cell_type": "code",
   "execution_count": 45,
   "metadata": {},
   "outputs": [
    {
     "data": {
      "text/plain": [
       "0.6099290780141844"
      ]
     },
     "execution_count": 45,
     "metadata": {},
     "output_type": "execute_result"
    }
   ],
   "source": [
    "gs.score(X_test_s, y_test)"
   ]
  },
  {
   "cell_type": "code",
   "execution_count": 46,
   "metadata": {},
   "outputs": [
    {
     "data": {
      "text/plain": [
       "{'criterion': 'gini', 'max_features': 0.1}"
      ]
     },
     "execution_count": 46,
     "metadata": {},
     "output_type": "execute_result"
    }
   ],
   "source": [
    "gs.best_params_"
   ]
  },
  {
   "cell_type": "markdown",
   "metadata": {},
   "source": [
    "### Evaluate your model with a classification report and confusion matrix\n",
    "\n",
    "Describe your results!"
   ]
  },
  {
   "cell_type": "code",
   "execution_count": 47,
   "metadata": {},
   "outputs": [
    {
     "name": "stdout",
     "output_type": "stream",
     "text": [
      "              precision    recall  f1-score   support\n",
      "\n",
      "    guardian       0.33      0.33      0.33       100\n",
      "   telegraph       0.64      0.64      0.64       186\n",
      "\n",
      "   micro avg       0.53      0.53      0.53       286\n",
      "   macro avg       0.48      0.48      0.48       286\n",
      "weighted avg       0.53      0.53      0.53       286\n",
      "\n"
     ]
    }
   ],
   "source": [
    "print(classification_report(y_train, predictions_train))"
   ]
  },
  {
   "cell_type": "code",
   "execution_count": 48,
   "metadata": {},
   "outputs": [
    {
     "data": {
      "text/html": [
       "<div>\n",
       "<style scoped>\n",
       "    .dataframe tbody tr th:only-of-type {\n",
       "        vertical-align: middle;\n",
       "    }\n",
       "\n",
       "    .dataframe tbody tr th {\n",
       "        vertical-align: top;\n",
       "    }\n",
       "\n",
       "    .dataframe thead th {\n",
       "        text-align: right;\n",
       "    }\n",
       "</style>\n",
       "<table border=\"1\" class=\"dataframe\">\n",
       "  <thead>\n",
       "    <tr style=\"text-align: right;\">\n",
       "      <th></th>\n",
       "      <th>predicted guardian</th>\n",
       "      <th>predicted telegraph</th>\n",
       "    </tr>\n",
       "  </thead>\n",
       "  <tbody>\n",
       "    <tr>\n",
       "      <th>actual guardian</th>\n",
       "      <td>33</td>\n",
       "      <td>67</td>\n",
       "    </tr>\n",
       "    <tr>\n",
       "      <th>actual telegraph</th>\n",
       "      <td>67</td>\n",
       "      <td>119</td>\n",
       "    </tr>\n",
       "  </tbody>\n",
       "</table>\n",
       "</div>"
      ],
      "text/plain": [
       "                  predicted guardian  predicted telegraph\n",
       "actual guardian                   33                   67\n",
       "actual telegraph                  67                  119"
      ]
     },
     "execution_count": 48,
     "metadata": {},
     "output_type": "execute_result"
    }
   ],
   "source": [
    "pd.DataFrame(confusion_matrix(y_train, predictions_train, labels=['guardian', 'telegraph']),\n",
    "             index=['actual guardian', 'actual telegraph'],\n",
    "             columns=['predicted guardian', 'predicted telegraph'])"
   ]
  },
  {
   "cell_type": "code",
   "execution_count": 49,
   "metadata": {},
   "outputs": [
    {
     "name": "stdout",
     "output_type": "stream",
     "text": [
      "              precision    recall  f1-score   support\n",
      "\n",
      "    guardian       0.44      0.38      0.41        50\n",
      "   telegraph       0.68      0.74      0.71        91\n",
      "\n",
      "   micro avg       0.61      0.61      0.61       141\n",
      "   macro avg       0.56      0.56      0.56       141\n",
      "weighted avg       0.60      0.61      0.60       141\n",
      "\n"
     ]
    }
   ],
   "source": [
    "print(classification_report(y_test, predictions_test))"
   ]
  },
  {
   "cell_type": "code",
   "execution_count": 50,
   "metadata": {},
   "outputs": [
    {
     "data": {
      "text/html": [
       "<div>\n",
       "<style scoped>\n",
       "    .dataframe tbody tr th:only-of-type {\n",
       "        vertical-align: middle;\n",
       "    }\n",
       "\n",
       "    .dataframe tbody tr th {\n",
       "        vertical-align: top;\n",
       "    }\n",
       "\n",
       "    .dataframe thead th {\n",
       "        text-align: right;\n",
       "    }\n",
       "</style>\n",
       "<table border=\"1\" class=\"dataframe\">\n",
       "  <thead>\n",
       "    <tr style=\"text-align: right;\">\n",
       "      <th></th>\n",
       "      <th>predicted guardian</th>\n",
       "      <th>predicted telegraph</th>\n",
       "    </tr>\n",
       "  </thead>\n",
       "  <tbody>\n",
       "    <tr>\n",
       "      <th>actual guardian</th>\n",
       "      <td>19</td>\n",
       "      <td>31</td>\n",
       "    </tr>\n",
       "    <tr>\n",
       "      <th>actual telegraph</th>\n",
       "      <td>24</td>\n",
       "      <td>67</td>\n",
       "    </tr>\n",
       "  </tbody>\n",
       "</table>\n",
       "</div>"
      ],
      "text/plain": [
       "                  predicted guardian  predicted telegraph\n",
       "actual guardian                   19                   31\n",
       "actual telegraph                  24                   67"
      ]
     },
     "execution_count": 50,
     "metadata": {},
     "output_type": "execute_result"
    }
   ],
   "source": [
    "pd.DataFrame(confusion_matrix(y_test, predictions_test, labels=['guardian', 'telegraph']),\n",
    "             index=['actual guardian', 'actual telegraph'],\n",
    "             columns=['predicted guardian', 'predicted telegraph'])"
   ]
  },
  {
   "cell_type": "code",
   "execution_count": 51,
   "metadata": {},
   "outputs": [
    {
     "name": "stdout",
     "output_type": "stream",
     "text": [
      "Gentleman and Cadwalladr win joint journalist of the year award\n",
      "============================================================\n",
      "\n",
      "Public Service Awards: the finalists\n",
      "============================================================\n",
      "\n",
      "Flawless first tests for 'flying launchpad'\n",
      "============================================================\n",
      "\n",
      "May to promote Brexit trade opportunities at fraught G20 summit\n",
      "============================================================\n",
      "\n",
      "Yes, Donald Trump is talking perfect sense on May’s Brexit deal | Peter Mandelson\n",
      "============================================================\n",
      "\n"
     ]
    }
   ],
   "source": [
    "for title in brexit[brexit['source']=='guardian'].sort_values('vader_pos', ascending=False)['title'][0:5]:\n",
    "    print(title)\n",
    "    print('============================================================\\n')"
   ]
  },
  {
   "cell_type": "code",
   "execution_count": 52,
   "metadata": {},
   "outputs": [
    {
     "name": "stdout",
     "output_type": "stream",
     "text": [
      "Health Secretary Jeane Freeman wins top politician award\n",
      "============================================================\n",
      "\n",
      "TOP TENS\n",
      "============================================================\n",
      "\n",
      "Discover opportunities in India at Business Festival\n",
      "============================================================\n",
      "\n",
      "Party will rue inviting Boris to entertain at annual conference\n",
      "============================================================\n",
      "\n",
      "Gabby’s Great Brexit Bake Off cheers Theresa May after ‘tough week’\n",
      "============================================================\n",
      "\n"
     ]
    }
   ],
   "source": [
    "for title in brexit[brexit['source']=='telegraph'].sort_values('vader_pos', ascending=False)['title'][0:5]:\n",
    "    print(title)\n",
    "    print('============================================================\\n')"
   ]
  },
  {
   "cell_type": "code",
   "execution_count": 53,
   "metadata": {},
   "outputs": [
    {
     "name": "stdout",
     "output_type": "stream",
     "text": [
      "DICK COLE\n",
      "============================================================\n",
      "\n",
      "No-deal Brexit 'could leave UK at risk from terrorism'\n",
      "============================================================\n",
      "\n",
      "This means war: why cheesy churros will destroy UK-Spain relations\n",
      "============================================================\n",
      "\n",
      "Bank of England under fire over ‘Project Hysteria' Brexit warning - business live\n",
      "============================================================\n",
      "\n",
      "Trump blasts GM over job cuts, as deeper trade war looms - business live\n",
      "============================================================\n",
      "\n"
     ]
    }
   ],
   "source": [
    "for title in brexit[brexit['source']=='guardian'].sort_values('vader_neg', ascending=False)['title'][0:5]:\n",
    "    print(title)\n",
    "    print('============================================================\\n')"
   ]
  },
  {
   "cell_type": "code",
   "execution_count": 54,
   "metadata": {},
   "outputs": [
    {
     "name": "stdout",
     "output_type": "stream",
     "text": [
      "Man accused of killing west Belfast mother-of-three refused bail\n",
      "============================================================\n",
      "\n",
      "Job loss fears and uncertainty inside JLR - workers speak out\n",
      "============================================================\n",
      "\n",
      "Ignore the sore losers, May's deal is a good one\n",
      "============================================================\n",
      "\n",
      "May’s Brexit deal is worst of all worlds and doomed to fail – Sir Michael Fallon\n",
      "============================================================\n",
      "\n",
      "Hammond warns of threat to economy if MPs reject Brexit deal\n",
      "============================================================\n",
      "\n"
     ]
    }
   ],
   "source": [
    "for title in brexit[brexit['source']=='telegraph'].sort_values('vader_neg', ascending=False)['title'][0:5]:\n",
    "    print(title)\n",
    "    print('============================================================\\n')"
   ]
  },
  {
   "cell_type": "code",
   "execution_count": 55,
   "metadata": {},
   "outputs": [
    {
     "name": "stdout",
     "output_type": "stream",
     "text": [
      "Brexit: Theresa May says McDonnell wants to overturn will of British people – as it happened\n",
      "============================================================\n",
      "\n",
      "Brexit: McDonnell says it is 'inevitable' Labour will back second referendum - Politics live\n",
      "============================================================\n",
      "\n",
      "Philip Hammond says economy will be 'a little bit smaller' under all Brexit scenarios – video\n",
      "============================================================\n",
      "\n",
      "UK car industry and Airbus cautiously back PM's Brexit deal\n",
      "============================================================\n",
      "\n",
      "Second referendum campaigners split over parliamentary tactics\n",
      "============================================================\n",
      "\n"
     ]
    }
   ],
   "source": [
    "for title in brexit[brexit['source']=='guardian'].sort_values('vader_neu', ascending=False)['title'][0:5]:\n",
    "    print(title)\n",
    "    print('============================================================\\n')"
   ]
  },
  {
   "cell_type": "code",
   "execution_count": 56,
   "metadata": {},
   "outputs": [
    {
     "name": "stdout",
     "output_type": "stream",
     "text": [
      "'Junk backstop', May is urged as Brexiteer MPs hit out over her EU deal\n",
      "============================================================\n",
      "\n",
      "Final reports commissioned for new University of Peterborough ‘to get every aspect right’\n",
      "============================================================\n",
      "\n",
      "What the papers say – November 25\n",
      "============================================================\n",
      "\n",
      "Westminster seats decision for Brexit vote up to Sinn Fein, says PM\n",
      "============================================================\n",
      "\n",
      "PM’s letter to nation an utter work of fiction, says Labour MP\n",
      "============================================================\n",
      "\n"
     ]
    }
   ],
   "source": [
    "for title in brexit[brexit['source']=='telegraph'].sort_values('vader_neu', ascending=False)['title'][0:5]:\n",
    "    print(title)\n",
    "    print('============================================================\\n')"
   ]
  },
  {
   "cell_type": "code",
   "execution_count": 57,
   "metadata": {},
   "outputs": [
    {
     "name": "stdout",
     "output_type": "stream",
     "text": [
      "DICK COLE\n",
      "============================================================\n",
      "\n",
      "No-deal Brexit 'could leave UK at risk from terrorism'\n",
      "============================================================\n",
      "\n",
      "Investors hope for trade war breakthrough - business live\n",
      "============================================================\n",
      "\n",
      "No-deal Brexit: Amazon blamed for lack of food warehouse space\n",
      "============================================================\n",
      "\n",
      "Has France fallen out of love with Emmanuel Macron?\n",
      "============================================================\n",
      "\n"
     ]
    }
   ],
   "source": [
    "for title in brexit[brexit['source']=='guardian'].sort_values('vader_neu', ascending=True)['title'][0:5]:\n",
    "    print(title)\n",
    "    print('============================================================\\n')"
   ]
  },
  {
   "cell_type": "code",
   "execution_count": 58,
   "metadata": {},
   "outputs": [
    {
     "name": "stdout",
     "output_type": "stream",
     "text": [
      "Health Secretary Jeane Freeman wins top politician award\n",
      "============================================================\n",
      "\n",
      "Ignore the sore losers, May's deal is a good one\n",
      "============================================================\n",
      "\n",
      "TOP TENS\n",
      "============================================================\n",
      "\n",
      "Man accused of killing west Belfast mother-of-three refused bail\n",
      "============================================================\n",
      "\n",
      "However we leave, Northern Ireland's sure to suffer\n",
      "============================================================\n",
      "\n"
     ]
    }
   ],
   "source": [
    "for title in brexit[brexit['source']=='telegraph'].sort_values('vader_neu', ascending=True)['title'][0:5]:\n",
    "    print(title)\n",
    "    print('============================================================\\n')"
   ]
  },
  {
   "cell_type": "code",
   "execution_count": null,
   "metadata": {},
   "outputs": [],
   "source": []
  }
 ],
 "metadata": {
  "kernelspec": {
   "display_name": "textacy",
   "language": "python",
   "name": "textacy"
  },
  "language_info": {
   "codemirror_mode": {
    "name": "ipython",
    "version": 3
   },
   "file_extension": ".py",
   "mimetype": "text/x-python",
   "name": "python",
   "nbconvert_exporter": "python",
   "pygments_lexer": "ipython3",
   "version": "3.7.3"
  },
  "toc": {
   "base_numbering": 1,
   "nav_menu": {},
   "number_sections": false,
   "sideBar": true,
   "skip_h1_title": true,
   "title_cell": "Table of Contents",
   "title_sidebar": "Contents",
   "toc_cell": false,
   "toc_position": {},
   "toc_section_display": true,
   "toc_window_display": false
  }
 },
 "nbformat": 4,
 "nbformat_minor": 2
}
