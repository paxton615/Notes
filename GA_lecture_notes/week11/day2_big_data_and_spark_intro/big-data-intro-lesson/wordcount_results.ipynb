{
 "cells": [
  {
   "cell_type": "code",
   "execution_count": 1,
   "metadata": {},
   "outputs": [
    {
     "name": "stdout",
     "output_type": "stream",
     "text": [
      "the\t4056\r\n",
      "and\t2972\r\n",
      "of\t2741\r\n",
      "I\t2720\r\n",
      "to\t2142\r\n",
      "my\t1629\r\n",
      "a\t1394\r\n",
      "in\t1126\r\n",
      "was\t993\r\n",
      "that\t987\r\n"
     ]
    }
   ],
   "source": [
    "!cat ../../resource-datasets/project_gutenberg/pg84.txt | python code/mapper.py | sort -k 1 | python code/reducer.py | sort -rnk 2 -k 1b > result.txt\n",
    "!cat result.txt | head -n10"
   ]
  },
  {
   "cell_type": "code",
   "execution_count": 2,
   "metadata": {},
   "outputs": [
    {
     "name": "stdout",
     "output_type": "stream",
     "text": [
      "the\t63656\r\n",
      "of\t34367\r\n",
      "and\t32787\r\n",
      "to\t31399\r\n",
      "a\t24811\r\n",
      "in\t18168\r\n",
      "I\t18070\r\n",
      "his\t13485\r\n",
      "he\t13299\r\n",
      "was\t13029\r\n",
      "cat: stdout: Broken pipe\r\n"
     ]
    }
   ],
   "source": [
    "!cat ../../resource-datasets/project_gutenberg/* | python code/mapper.py | sort -k 1 | python code/reducer.py | sort -rnk 2 -k 1b > result.txt\n",
    "!cat result.txt | head -n10"
   ]
  },
  {
   "cell_type": "code",
   "execution_count": 3,
   "metadata": {},
   "outputs": [
    {
     "name": "stdout",
     "output_type": "stream",
     "text": [
      "actors,\t2\r\n",
      "actual.\t2\r\n",
      "ad:\t2\r\n",
      "added,--\"This\t2\r\n",
      "addled\t2\r\n",
      "address.\"\t2\r\n",
      "addressed:\t2\r\n",
      "addressed?\"\t2\r\n",
      "adduce\t2\r\n",
      "adduced\t2\r\n",
      "adhere\t2\r\n",
      "adherence\t2\r\n",
      "adhesive\t2\r\n",
      "adiaphane.\t2\r\n",
      "adieu.\"\t2\r\n",
      "adipose\t2\r\n",
      "adjoining,\t2\r\n",
      "adjusting\t2\r\n",
      "administering\t2\r\n",
      "admirable!\"\t2\r\n",
      "tail: stdout: Broken pipe\r\n"
     ]
    }
   ],
   "source": [
    "!cat result.txt | tail -n65000 | head -n20"
   ]
  },
  {
   "cell_type": "code",
   "execution_count": null,
   "metadata": {},
   "outputs": [],
   "source": []
  }
 ],
 "metadata": {
  "kernelspec": {
   "display_name": "Python 3",
   "language": "python",
   "name": "python3"
  },
  "language_info": {
   "codemirror_mode": {
    "name": "ipython",
    "version": 3
   },
   "file_extension": ".py",
   "mimetype": "text/x-python",
   "name": "python",
   "nbconvert_exporter": "python",
   "pygments_lexer": "ipython3",
   "version": "3.7.3"
  },
  "toc": {
   "base_numbering": 1,
   "nav_menu": {},
   "number_sections": true,
   "sideBar": true,
   "skip_h1_title": false,
   "title_cell": "Table of Contents",
   "title_sidebar": "Contents",
   "toc_cell": false,
   "toc_position": {},
   "toc_section_display": true,
   "toc_window_display": false
  }
 },
 "nbformat": 4,
 "nbformat_minor": 2
}
