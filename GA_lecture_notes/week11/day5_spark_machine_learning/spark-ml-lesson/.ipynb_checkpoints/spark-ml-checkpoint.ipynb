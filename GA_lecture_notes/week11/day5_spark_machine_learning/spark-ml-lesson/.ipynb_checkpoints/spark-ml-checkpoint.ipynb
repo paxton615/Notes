{
 "cells": [
  {
   "cell_type": "markdown",
   "metadata": {},
   "source": [
    "<img src=\"http://imgur.com/1ZcRyrc.png\" style=\"float: left; margin: 20px; height: 55px\"> \n",
    "# Spark MLlib Lesson\n",
    "---"
   ]
  },
  {
   "cell_type": "markdown",
   "metadata": {},
   "source": [
    "## Learning Objectives\n",
    "\n",
    "- Understand how features and labels have to be encoded in spark\n",
    "- Construct a model pipeline\n",
    "- Fit regression and classification models with spark"
   ]
  },
  {
   "cell_type": "markdown",
   "metadata": {
    "toc": true
   },
   "source": [
    "<h1>Lesson Guide<span class=\"tocSkip\"></span></h1>\n",
    "<div class=\"toc\"><ul class=\"toc-item\"><li><span><a href=\"#Learning-Objectives\" data-toc-modified-id=\"Learning-Objectives-1\">Learning Objectives</a></span></li><li><span><a href=\"#Creating-the-spark-context\" data-toc-modified-id=\"Creating-the-spark-context-2\">Creating the spark context</a></span></li><li><span><a href=\"#Regression-example\" data-toc-modified-id=\"Regression-example-3\">Regression example</a></span><ul class=\"toc-item\"><li><span><a href=\"#Load-the-data\" data-toc-modified-id=\"Load-the-data-3.1\">Load the data</a></span></li><li><span><a href=\"#Put-the-data-into-a-spark-dataframe\" data-toc-modified-id=\"Put-the-data-into-a-spark-dataframe-3.2\">Put the data into a spark dataframe</a></span></li><li><span><a href=\"#Create-feature-columns\" data-toc-modified-id=\"Create-feature-columns-3.3\">Create feature columns</a></span></li><li><span><a href=\"#Rescale-the-data\" data-toc-modified-id=\"Rescale-the-data-3.4\">Rescale the data</a></span></li><li><span><a href=\"#Fit-and-evaluate-a-linear-regression-model\" data-toc-modified-id=\"Fit-and-evaluate-a-linear-regression-model-3.5\">Fit and evaluate a linear regression model</a></span></li><li><span><a href=\"#Linear-regression-with-train-test-split-and-pipeline\" data-toc-modified-id=\"Linear-regression-with-train-test-split-and-pipeline-3.6\">Linear regression with train-test split and pipeline</a></span></li><li><span><a href=\"#Linear-regression-with-grid-search\" data-toc-modified-id=\"Linear-regression-with-grid-search-3.7\">Linear regression with grid search</a></span></li></ul></li><li><span><a href=\"#Classification\" data-toc-modified-id=\"Classification-4\">Classification</a></span><ul class=\"toc-item\"><li><span><a href=\"#Load-the-data\" data-toc-modified-id=\"Load-the-data-4.1\">Load the data</a></span></li><li><span><a href=\"#Create-the-spark-dataframe\" data-toc-modified-id=\"Create-the-spark-dataframe-4.2\">Create the spark dataframe</a></span></li><li><span><a href=\"#Create-feature-columns\" data-toc-modified-id=\"Create-feature-columns-4.3\">Create feature columns</a></span></li><li><span><a href=\"#Rescale-the-data\" data-toc-modified-id=\"Rescale-the-data-4.4\">Rescale the data</a></span></li><li><span><a href=\"#Fit-logistic-regression\" data-toc-modified-id=\"Fit-logistic-regression-4.5\">Fit logistic regression</a></span></li><li><span><a href=\"#Logistic-regression-with-grid-search\" data-toc-modified-id=\"Logistic-regression-with-grid-search-4.6\">Logistic regression with grid search</a></span></li><li><span><a href=\"#Decision-Tree-with-grid-search\" data-toc-modified-id=\"Decision-Tree-with-grid-search-4.7\">Decision Tree with grid search</a></span></li></ul></li></ul></div>"
   ]
  },
  {
   "cell_type": "code",
   "execution_count": 1,
   "metadata": {},
   "outputs": [],
   "source": [
    "import pandas as pd\n",
    "import numpy as np\n",
    "import matplotlib.pyplot as plt\n",
    "import seaborn as sns\n",
    " \n",
    "plt.style.use('ggplot')\n",
    "sns.set(font_scale=1.5)\n",
    "%config InlineBackend.figure_format = 'retina'\n",
    "%matplotlib inline"
   ]
  },
  {
   "cell_type": "markdown",
   "metadata": {},
   "source": [
    "## Creating the spark context"
   ]
  },
  {
   "cell_type": "code",
   "execution_count": 2,
   "metadata": {},
   "outputs": [],
   "source": [
    "import pyspark as ps    # for the pyspark suite\n",
    "import warnings         # for displaying warning\n",
    "from pyspark.sql import SQLContext\n",
    "\n",
    "from pyspark.ml import Pipeline\n",
    "from pyspark.ml.classification import LogisticRegression\n",
    "from pyspark.ml.feature import HashingTF, Tokenizer, StandardScaler"
   ]
  },
  {
   "cell_type": "code",
   "execution_count": 3,
   "metadata": {},
   "outputs": [
    {
     "name": "stdout",
     "output_type": "stream",
     "text": [
      "Just created a SparkContext\n"
     ]
    }
   ],
   "source": [
    "try:\n",
    "    # we try to create a SparkContext to work locally on all cpus available\n",
    "    sc = ps.SparkContext('local[4]')\n",
    "    sqlContext = SQLContext(sc)\n",
    "    print(\"Just created a SparkContext\")\n",
    "except ValueError:\n",
    "    # give a warning if SparkContext already exists (for use inside pyspark)\n",
    "    warnings.warn(\"SparkContext already exists in this scope\")"
   ]
  },
  {
   "cell_type": "markdown",
   "metadata": {},
   "source": [
    "## Regression example"
   ]
  },
  {
   "cell_type": "markdown",
   "metadata": {},
   "source": [
    "### Load the data"
   ]
  },
  {
   "cell_type": "code",
   "execution_count": 4,
   "metadata": {},
   "outputs": [
    {
     "data": {
      "text/plain": [
       "Index(['CRIM', 'ZN', 'INDUS', 'CHAS', 'NOX', 'RM', 'AGE', 'DIS', 'RAD', 'TAX',\n",
       "       'PTRATIO', 'B', 'LSTAT', 'MEDV'],\n",
       "      dtype='object')"
      ]
     },
     "execution_count": 4,
     "metadata": {},
     "output_type": "execute_result"
    }
   ],
   "source": [
    "from sklearn.datasets import load_boston\n",
    "\n",
    "data  = load_boston()\n",
    "df = pd.DataFrame(data.data, columns=data.feature_names)\n",
    "df['MEDV'] = data.target\n",
    "df.columns"
   ]
  },
  {
   "cell_type": "markdown",
   "metadata": {},
   "source": [
    "### Put the data into a spark dataframe"
   ]
  },
  {
   "cell_type": "code",
   "execution_count": 5,
   "metadata": {},
   "outputs": [],
   "source": [
    "spark_df = sqlContext.createDataFrame(df)"
   ]
  },
  {
   "cell_type": "code",
   "execution_count": 6,
   "metadata": {},
   "outputs": [
    {
     "data": {
      "text/plain": [
       "Row(CRIM=0.00632, ZN=18.0, INDUS=2.31, CHAS=0.0, NOX=0.538, RM=6.575, AGE=65.2, DIS=4.09, RAD=1.0, TAX=296.0, PTRATIO=15.3, B=396.9, LSTAT=4.98, MEDV=24.0)"
      ]
     },
     "execution_count": 6,
     "metadata": {},
     "output_type": "execute_result"
    }
   ],
   "source": [
    "spark_df.first()"
   ]
  },
  {
   "cell_type": "markdown",
   "metadata": {},
   "source": [
    "### Create feature columns"
   ]
  },
  {
   "cell_type": "code",
   "execution_count": 7,
   "metadata": {},
   "outputs": [],
   "source": [
    "from pyspark.ml.feature import StandardScaler, VectorAssembler"
   ]
  },
  {
   "cell_type": "code",
   "execution_count": 8,
   "metadata": {},
   "outputs": [
    {
     "data": {
      "text/plain": [
       "DataFrame[CRIM: double, ZN: double, INDUS: double, CHAS: double, NOX: double, RM: double, AGE: double, DIS: double, RAD: double, TAX: double, PTRATIO: double, B: double, LSTAT: double, MEDV: double, features: vector]"
      ]
     },
     "execution_count": 8,
     "metadata": {},
     "output_type": "execute_result"
    }
   ],
   "source": [
    "vectorAssembler = VectorAssembler(inputCols=data.feature_names,\n",
    "                                  outputCol=\"features\")\n",
    "\n",
    "vector_df = vectorAssembler.transform(spark_df)\n",
    "vector_df.persist()"
   ]
  },
  {
   "cell_type": "code",
   "execution_count": 9,
   "metadata": {},
   "outputs": [
    {
     "data": {
      "text/plain": [
       "Row(CRIM=0.00632, ZN=18.0, INDUS=2.31, CHAS=0.0, NOX=0.538, RM=6.575, AGE=65.2, DIS=4.09, RAD=1.0, TAX=296.0, PTRATIO=15.3, B=396.9, LSTAT=4.98, MEDV=24.0, features=DenseVector([0.0063, 18.0, 2.31, 0.0, 0.538, 6.575, 65.2, 4.09, 1.0, 296.0, 15.3, 396.9, 4.98]))"
      ]
     },
     "execution_count": 9,
     "metadata": {},
     "output_type": "execute_result"
    }
   ],
   "source": [
    "vector_df.first()"
   ]
  },
  {
   "cell_type": "code",
   "execution_count": 10,
   "metadata": {},
   "outputs": [
    {
     "name": "stdout",
     "output_type": "stream",
     "text": [
      "+--------------------+\n",
      "|            features|\n",
      "+--------------------+\n",
      "|[0.00632,18.0,2.3...|\n",
      "|[0.02731,0.0,7.07...|\n",
      "+--------------------+\n",
      "only showing top 2 rows\n",
      "\n"
     ]
    }
   ],
   "source": [
    "vector_df.select('features').show(2)"
   ]
  },
  {
   "cell_type": "markdown",
   "metadata": {},
   "source": [
    "### Rescale the data"
   ]
  },
  {
   "cell_type": "code",
   "execution_count": 11,
   "metadata": {},
   "outputs": [
    {
     "data": {
      "text/plain": [
       "Row(CRIM=0.00632, ZN=18.0, INDUS=2.31, CHAS=0.0, NOX=0.538, RM=6.575, AGE=65.2, DIS=4.09, RAD=1.0, TAX=296.0, PTRATIO=15.3, B=396.9, LSTAT=4.98, MEDV=24.0, features=DenseVector([0.0063, 18.0, 2.31, 0.0, 0.538, 6.575, 65.2, 4.09, 1.0, 296.0, 15.3, 396.9, 4.98]), scaledfeatures=DenseVector([-0.4194, 0.2845, -1.2866, -0.2723, -0.1441, 0.4133, -0.1199, 0.1401, -0.9819, -0.6659, -1.4576, 0.4406, -1.0745]))"
      ]
     },
     "execution_count": 11,
     "metadata": {},
     "output_type": "execute_result"
    }
   ],
   "source": [
    "scaler = StandardScaler(withMean=True, \n",
    "                        inputCol=\"features\", \n",
    "                        outputCol=\"scaledfeatures\")\n",
    "scalerModel = scaler.fit(vector_df)\n",
    "scaled_df = scalerModel.transform(vector_df)\n",
    "\n",
    "scaled_df.first()"
   ]
  },
  {
   "cell_type": "markdown",
   "metadata": {},
   "source": [
    "### Fit and evaluate a linear regression model"
   ]
  },
  {
   "cell_type": "code",
   "execution_count": 12,
   "metadata": {},
   "outputs": [],
   "source": [
    "from pyspark.ml.regression import LinearRegression"
   ]
  },
  {
   "cell_type": "code",
   "execution_count": 13,
   "metadata": {},
   "outputs": [
    {
     "name": "stdout",
     "output_type": "stream",
     "text": [
      "Coefficients: [-0.606263262723796,0.5062345333551234,-0.4507634741999887,0.7222839154612075,-0.7197652622902592,2.655883036940673,-0.20223035959396807,-1.3041718596876442,0.4203270059761873,-0.515956118644603,-1.5340017317179973,0.7302749733697326,-2.6704591109791362]\n",
      "Intercept: 22.532806324110666\n",
      "+-------------------+\n",
      "|          residuals|\n",
      "+-------------------+\n",
      "| -5.715179874349008|\n",
      "| -3.501561127864761|\n",
      "|  4.704276652960182|\n",
      "|  4.396390100783684|\n",
      "| 7.5717081447259105|\n",
      "| 2.7888871223704967|\n",
      "|-0.7843526158647833|\n",
      "|  5.770899773545299|\n",
      "|  1.443518949105421|\n",
      "| -2.153274790169519|\n",
      "| -6.344698272018977|\n",
      "|-3.9375143685819793|\n",
      "|-0.5178168301830048|\n",
      "|-0.6189233518252664|\n",
      "|-2.4800906847444786|\n",
      "|-0.7630810593572086|\n",
      "| 1.2531615320005791|\n",
      "|-1.3202460103174687|\n",
      "| 2.4573847595780016|\n",
      "|-1.3049574271814137|\n",
      "+-------------------+\n",
      "only showing top 20 rows\n",
      "\n",
      "RMSE: 4.9841060582071375\n",
      "r2: 0.7057398269957285\n"
     ]
    }
   ],
   "source": [
    "model = LinearRegression(featuresCol=scaler.getOutputCol(),\n",
    "                         labelCol='MEDV',\n",
    "                         maxIter=3000, \n",
    "                         regParam=3.0,              #该改边这两个参数选择rige和lassomodel\n",
    "                         elasticNetParam=0.0)\n",
    "\n",
    "# Fit the model\n",
    "model_fit = model.fit(scaled_df)\n",
    "\n",
    "# Print the coefficients and intercept for linear regression\n",
    "print(\"Coefficients: {}\".format(model_fit.coefficients))\n",
    "print(\"Intercept: {}\".format(model_fit.intercept))\n",
    "\n",
    "# Summarize the model over the training set and print out some metrics\n",
    "summary_train = model_fit.summary\n",
    "summary_train.residuals.show()\n",
    "print(\"RMSE: {}\".format(summary_train.rootMeanSquaredError))\n",
    "print(\"r2: {}\" .format(summary_train.r2))"
   ]
  },
  {
   "cell_type": "markdown",
   "metadata": {},
   "source": [
    "### Linear regression with train-test split and pipeline"
   ]
  },
  {
   "cell_type": "code",
   "execution_count": 14,
   "metadata": {},
   "outputs": [],
   "source": [
    "(data_train, data_test) = vector_df.randomSplit([0.7, 0.3],seed=1)"
   ]
  },
  {
   "cell_type": "code",
   "execution_count": 15,
   "metadata": {},
   "outputs": [],
   "source": [
    "# Add the stages to the Pipeline\n",
    "pipeline = Pipeline(stages=[scaler, model])"
   ]
  },
  {
   "cell_type": "code",
   "execution_count": 16,
   "metadata": {},
   "outputs": [],
   "source": [
    "model_fit = pipeline.fit(data_train)"
   ]
  },
  {
   "cell_type": "code",
   "execution_count": 17,
   "metadata": {},
   "outputs": [
    {
     "name": "stdout",
     "output_type": "stream",
     "text": [
      "Coefficients: [-0.5943224384820927,0.4998150414555444,-0.29509806941785216,0.6562384914943211,-0.8804672381738304,2.8324380318195868,-0.28178956066023764,-1.3540996807329049,0.3103849086810205,-0.5011005487663286,-1.6260098600146484,0.7782000335039341,-2.4694597648550087]\n",
      "Intercept: 22.547058823529415\n",
      "+--------------------+\n",
      "|           residuals|\n",
      "+--------------------+\n",
      "|  -5.652697390338776|\n",
      "|   4.679806484281581|\n",
      "|0.020008090338375695|\n",
      "| 0.10006386770951536|\n",
      "| -1.7358200381036184|\n",
      "|   4.638616291710413|\n",
      "|  -3.546458574586957|\n",
      "|  1.3479123237890676|\n",
      "| -1.6455215690228577|\n",
      "|   4.566318077574309|\n",
      "|  2.8894638840916187|\n",
      "| -1.7696893559052427|\n",
      "|  -5.621181746984142|\n",
      "| -0.8720752283085318|\n",
      "| 0.16705888219081544|\n",
      "|  -4.262070333630373|\n",
      "|   -5.70031885384342|\n",
      "| -2.4659469448237985|\n",
      "| -3.9094212863913107|\n",
      "| -1.1482821632082576|\n",
      "+--------------------+\n",
      "only showing top 20 rows\n",
      "\n",
      "RMSE: 4.9538448168180205\n",
      "r2: 0.7122273921852267\n"
     ]
    }
   ],
   "source": [
    "# Print the coefficients and intercept for linear regression\n",
    "print(\"Coefficients: {}\".format(model_fit.stages[1].coefficients))\n",
    "print(\"Intercept: {}\".format(model_fit.stages[1].intercept))\n",
    "\n",
    "# Summarize the model over the training set and print out some metrics\n",
    "summary_train = model_fit.stages[1].summary\n",
    "summary_train.residuals.show()\n",
    "print(\"RMSE: {}\".format(summary_train.rootMeanSquaredError))\n",
    "print(\"r2: {}\".format(summary_train.r2))"
   ]
  },
  {
   "cell_type": "code",
   "execution_count": 18,
   "metadata": {},
   "outputs": [
    {
     "data": {
      "text/plain": [
       "[Row(MEDV=33.0, features=DenseVector([0.0195, 17.5, 1.38, 0.0, 0.4161, 7.104, 59.5, 9.2229, 3.0, 216.0, 18.6, 393.24, 8.05])),\n",
       " Row(MEDV=28.7, features=DenseVector([0.0298, 0.0, 2.18, 0.0, 0.458, 6.43, 58.7, 6.0622, 3.0, 222.0, 18.7, 394.12, 5.21])),\n",
       " Row(MEDV=22.0, features=DenseVector([0.0393, 0.0, 3.41, 0.0, 0.489, 6.405, 73.9, 3.0921, 2.0, 270.0, 17.8, 393.55, 8.2])),\n",
       " Row(MEDV=22.9, features=DenseVector([0.042, 28.0, 15.04, 0.0, 0.464, 6.442, 53.6, 3.6659, 4.0, 270.0, 18.2, 395.01, 8.16])),\n",
       " Row(MEDV=20.5, features=DenseVector([0.0434, 21.0, 5.64, 0.0, 0.439, 6.115, 63.0, 6.8147, 4.0, 243.0, 16.8, 393.97, 9.43]))]"
      ]
     },
     "execution_count": 18,
     "metadata": {},
     "output_type": "execute_result"
    }
   ],
   "source": [
    "data_test.select('MEDV','features').take(5)"
   ]
  },
  {
   "cell_type": "code",
   "execution_count": 19,
   "metadata": {},
   "outputs": [],
   "source": [
    "predictions = model_fit.transform(data_test)"
   ]
  },
  {
   "cell_type": "code",
   "execution_count": 20,
   "metadata": {},
   "outputs": [
    {
     "name": "stdout",
     "output_type": "stream",
     "text": [
      "+----+------------------+--------------------+--------------------+\n",
      "|MEDV|        prediction|      scaledfeatures|            features|\n",
      "+----+------------------+--------------------+--------------------+\n",
      "|33.0|26.078118830897925|[-0.4345522980957...|[0.01951,17.5,1.3...|\n",
      "|28.7|   25.671655566721|[-0.4332489475014...|[0.02985,0.0,2.18...|\n",
      "|22.0| 26.60107132730394|[-0.4320552598681...|[0.03932,0.0,3.41...|\n",
      "|22.9|  26.6425319741673|[-0.4317136660470...|[0.04203,28.0,15....|\n",
      "|20.5| 24.29062606132146|[-0.4315447598771...|[0.04337,21.0,5.6...|\n",
      "+----+------------------+--------------------+--------------------+\n",
      "only showing top 5 rows\n",
      "\n"
     ]
    }
   ],
   "source": [
    "# Select example rows to display.\n",
    "predictions.select(\"MEDV\", \"prediction\",  \"scaledfeatures\",'features').show(5)"
   ]
  },
  {
   "cell_type": "code",
   "execution_count": 21,
   "metadata": {},
   "outputs": [],
   "source": [
    "from pyspark.ml.evaluation import RegressionEvaluator"
   ]
  },
  {
   "cell_type": "code",
   "execution_count": 22,
   "metadata": {},
   "outputs": [
    {
     "data": {
      "text/plain": [
       "0.6871192657191219"
      ]
     },
     "execution_count": 22,
     "metadata": {},
     "output_type": "execute_result"
    }
   ],
   "source": [
    "evaluator = RegressionEvaluator(predictionCol='prediction',\n",
    "                                labelCol='MEDV',\n",
    "                                metricName='r2')\n",
    "evaluator.evaluate(predictions)"
   ]
  },
  {
   "cell_type": "markdown",
   "metadata": {},
   "source": [
    "### Linear regression with grid search"
   ]
  },
  {
   "cell_type": "code",
   "execution_count": 23,
   "metadata": {},
   "outputs": [],
   "source": [
    "from pyspark.ml.tuning import CrossValidator, ParamGridBuilder"
   ]
  },
  {
   "cell_type": "code",
   "execution_count": 24,
   "metadata": {},
   "outputs": [
    {
     "data": {
      "text/plain": [
       "['aggregationDepth',\n",
       " 'solver',\n",
       " 'standardization',\n",
       " 'fitIntercept',\n",
       " 'elasticNetParam',\n",
       " 'predictionCol',\n",
       " 'labelCol',\n",
       " 'featuresCol',\n",
       " 'maxIter',\n",
       " 'regParam',\n",
       " 'tol',\n",
       " 'loss',\n",
       " 'epsilon']"
      ]
     },
     "execution_count": 24,
     "metadata": {},
     "output_type": "execute_result"
    }
   ],
   "source": [
    "[parameter.name for parameter in model._defaultParamMap]"
   ]
  },
  {
   "cell_type": "code",
   "execution_count": 25,
   "metadata": {},
   "outputs": [],
   "source": [
    "scaler = StandardScaler(withMean=True,\n",
    "                        inputCol=\"features\", \n",
    "                        outputCol=\"scaledfeatures\")\n",
    "model = LinearRegression(featuresCol=scaler.getOutputCol(),\n",
    "                         labelCol='MEDV',\n",
    "                         maxIter=3000, \n",
    "                         regParam=0.0, \n",
    "                         elasticNetParam=0.0)\n",
    "pipeline = Pipeline(stages=[scaler, model])\n",
    "\n",
    "evaluator = RegressionEvaluator(predictionCol='prediction',\n",
    "                                labelCol='MEDV',\n",
    "                                metricName='r2')\n",
    "\n",
    "paramGrid = ParamGridBuilder() \\\n",
    "    .addGrid(model.regParam, np.logspace(-4,4,9)) \\\n",
    "    .addGrid(model.fitIntercept,[True,False]) \\\n",
    "    .build()\n",
    "\n",
    "# the actual gridsearch\n",
    "crossval = CrossValidator(estimator=pipeline,\n",
    "                          estimatorParamMaps=paramGrid,\n",
    "                          evaluator=evaluator,\n",
    "                          numFolds=5)  \n",
    "\n",
    "# Run cross-validation, and choose the best set of parameters.\n",
    "model_fit = crossval.fit(data_train)"
   ]
  },
  {
   "cell_type": "code",
   "execution_count": 26,
   "metadata": {},
   "outputs": [
    {
     "name": "stdout",
     "output_type": "stream",
     "text": [
      "{'regParam': 1.0, 'fitIntercept': True}\n",
      "\n",
      "aggregationDepth: suggested depth for treeAggregate (>= 2) (default: 2)\n",
      "elasticNetParam: the ElasticNet mixing parameter, in range [0, 1]. For alpha = 0, the penalty is an L2 penalty. For alpha = 1, it is an L1 penalty (default: 0.0, current: 0.0)\n",
      "epsilon: The shape parameter to control the amount of robustness. Must be > 1.0. (default: 1.35)\n",
      "featuresCol: features column name (default: features, current: scaledfeatures)\n",
      "fitIntercept: whether to fit an intercept term (default: true, current: true)\n",
      "labelCol: label column name (default: label, current: MEDV)\n",
      "loss: The loss function to be optimized. Supported options: squaredError, huber. (Default squaredError) (default: squaredError)\n",
      "maxIter: maximum number of iterations (>= 0) (default: 100, current: 3000)\n",
      "predictionCol: prediction column name (default: prediction)\n",
      "regParam: regularization parameter (>= 0) (default: 0.0, current: 1.0)\n",
      "solver: The solver algorithm for optimization. Supported options: auto, normal, l-bfgs. (Default auto) (default: auto)\n",
      "standardization: whether to standardize the training features before fitting the model (default: true)\n",
      "tol: the convergence tolerance for iterative algorithms (>= 0) (default: 1.0E-6)\n",
      "weightCol: weight column name. If this is not set or empty, we treat all instance weights as 1.0 (undefined)\n"
     ]
    }
   ],
   "source": [
    "java_model = model_fit.bestModel.stages[1]._java_obj\n",
    "\n",
    "print({param.name: java_model.getOrDefault(java_model.getParam(param.name)) \n",
    "    for param in paramGrid[0]})\n",
    "print()\n",
    "print(java_model.explainParams())"
   ]
  },
  {
   "cell_type": "code",
   "execution_count": 27,
   "metadata": {},
   "outputs": [
    {
     "data": {
      "text/plain": [
       "[Row(MEDV=33.0, prediction=24.632298214506935),\n",
       " Row(MEDV=28.7, prediction=25.193275571174667),\n",
       " Row(MEDV=22.0, prediction=27.04915281561138),\n",
       " Row(MEDV=22.9, prediction=27.75254150308511),\n",
       " Row(MEDV=20.5, prediction=23.80489618853028)]"
      ]
     },
     "execution_count": 27,
     "metadata": {},
     "output_type": "execute_result"
    }
   ],
   "source": [
    "prediction = model_fit.transform(data_test)\n",
    "selected = prediction.select(\"MEDV\", \"prediction\").limit(5)\n",
    "selected.take(5)"
   ]
  },
  {
   "cell_type": "markdown",
   "metadata": {},
   "source": [
    "## Classification"
   ]
  },
  {
   "cell_type": "markdown",
   "metadata": {},
   "source": [
    "### Load the data"
   ]
  },
  {
   "cell_type": "code",
   "execution_count": 28,
   "metadata": {},
   "outputs": [
    {
     "data": {
      "text/plain": [
       "Index(['mean radius', 'mean texture', 'mean perimeter', 'mean area',\n",
       "       'mean smoothness', 'mean compactness', 'mean concavity',\n",
       "       'mean concave points', 'mean symmetry', 'mean fractal dimension',\n",
       "       'radius error', 'texture error', 'perimeter error', 'area error',\n",
       "       'smoothness error', 'compactness error', 'concavity error',\n",
       "       'concave points error', 'symmetry error', 'fractal dimension error',\n",
       "       'worst radius', 'worst texture', 'worst perimeter', 'worst area',\n",
       "       'worst smoothness', 'worst compactness', 'worst concavity',\n",
       "       'worst concave points', 'worst symmetry', 'worst fractal dimension',\n",
       "       'label'],\n",
       "      dtype='object')"
      ]
     },
     "execution_count": 28,
     "metadata": {},
     "output_type": "execute_result"
    }
   ],
   "source": [
    "from sklearn.datasets import load_breast_cancer\n",
    "\n",
    "data  = load_breast_cancer()\n",
    "df = pd.DataFrame(data.data,columns=data.feature_names)\n",
    "df['label'] = data.target\n",
    "df.columns"
   ]
  },
  {
   "cell_type": "markdown",
   "metadata": {},
   "source": [
    "### Create the spark dataframe"
   ]
  },
  {
   "cell_type": "code",
   "execution_count": 29,
   "metadata": {},
   "outputs": [
    {
     "data": {
      "text/plain": [
       "Row(mean radius=17.99, mean texture=10.38, mean perimeter=122.8, mean area=1001.0, mean smoothness=0.1184, mean compactness=0.2776, mean concavity=0.3001, mean concave points=0.1471, mean symmetry=0.2419, mean fractal dimension=0.07871, radius error=1.095, texture error=0.9053, perimeter error=8.589, area error=153.4, smoothness error=0.006399, compactness error=0.04904, concavity error=0.05373, concave points error=0.01587, symmetry error=0.03003, fractal dimension error=0.006193, worst radius=25.38, worst texture=17.33, worst perimeter=184.6, worst area=2019.0, worst smoothness=0.1622, worst compactness=0.6656, worst concavity=0.7119, worst concave points=0.2654, worst symmetry=0.4601, worst fractal dimension=0.1189, label=0)"
      ]
     },
     "execution_count": 29,
     "metadata": {},
     "output_type": "execute_result"
    }
   ],
   "source": [
    "spark_df = sqlContext.createDataFrame(df)\n",
    "\n",
    "spark_df.first()"
   ]
  },
  {
   "cell_type": "markdown",
   "metadata": {},
   "source": [
    "### Create feature columns"
   ]
  },
  {
   "cell_type": "code",
   "execution_count": 30,
   "metadata": {},
   "outputs": [
    {
     "name": "stdout",
     "output_type": "stream",
     "text": [
      "+--------------------+\n",
      "|            features|\n",
      "+--------------------+\n",
      "|[17.99,10.38,122....|\n",
      "|[20.57,17.77,132....|\n",
      "+--------------------+\n",
      "only showing top 2 rows\n",
      "\n"
     ]
    }
   ],
   "source": [
    "vectorAssembler = VectorAssembler(inputCols=data.feature_names,\n",
    "                                  outputCol=\"features\")\n",
    "\n",
    "vector_df = vectorAssembler.transform(spark_df)\n",
    "vector_df.persist()\n",
    "vector_df.select('features').show(2)"
   ]
  },
  {
   "cell_type": "markdown",
   "metadata": {},
   "source": [
    "### Rescale the data"
   ]
  },
  {
   "cell_type": "code",
   "execution_count": 31,
   "metadata": {},
   "outputs": [
    {
     "data": {
      "text/plain": [
       "Row(mean radius=17.99, mean texture=10.38, mean perimeter=122.8, mean area=1001.0, mean smoothness=0.1184, mean compactness=0.2776, mean concavity=0.3001, mean concave points=0.1471, mean symmetry=0.2419, mean fractal dimension=0.07871, radius error=1.095, texture error=0.9053, perimeter error=8.589, area error=153.4, smoothness error=0.006399, compactness error=0.04904, concavity error=0.05373, concave points error=0.01587, symmetry error=0.03003, fractal dimension error=0.006193, worst radius=25.38, worst texture=17.33, worst perimeter=184.6, worst area=2019.0, worst smoothness=0.1622, worst compactness=0.6656, worst concavity=0.7119, worst concave points=0.2654, worst symmetry=0.4601, worst fractal dimension=0.1189, label=0, features=DenseVector([17.99, 10.38, 122.8, 1001.0, 0.1184, 0.2776, 0.3001, 0.1471, 0.2419, 0.0787, 1.095, 0.9053, 8.589, 153.4, 0.0064, 0.049, 0.0537, 0.0159, 0.03, 0.0062, 25.38, 17.33, 184.6, 2019.0, 0.1622, 0.6656, 0.7119, 0.2654, 0.4601, 0.1189]), scaledfeatures=DenseVector([1.0961, -2.0715, 1.2688, 0.9835, 1.5671, 3.2806, 2.6505, 2.5302, 2.2156, 2.2538, 2.4875, -0.5648, 2.8305, 2.4854, -0.2138, 1.3157, 0.7234, 0.6602, 1.1477, 0.9063, 1.885, -1.3581, 2.3016, 1.9995, 1.3065, 2.6144, 2.1077, 2.2941, 2.7482, 1.9353]))"
      ]
     },
     "execution_count": 31,
     "metadata": {},
     "output_type": "execute_result"
    }
   ],
   "source": [
    "scaler = StandardScaler(withMean=True,\n",
    "                        inputCol=\"features\", \n",
    "                        outputCol=\"scaledfeatures\")\n",
    "\n",
    "# Compute summary statistics and generate MinMaxScalerModel\n",
    "scalerModel = scaler.fit(vector_df)\n",
    "\n",
    "# rescale each feature to range [min, max].\n",
    "scaled_df = scalerModel.transform(vector_df)\n",
    "\n",
    "scaled_df.first()"
   ]
  },
  {
   "cell_type": "markdown",
   "metadata": {},
   "source": [
    "### Fit logistic regression"
   ]
  },
  {
   "cell_type": "code",
   "execution_count": 32,
   "metadata": {},
   "outputs": [],
   "source": [
    "from pyspark.ml.classification import LogisticRegression"
   ]
  },
  {
   "cell_type": "code",
   "execution_count": 33,
   "metadata": {},
   "outputs": [
    {
     "name": "stdout",
     "output_type": "stream",
     "text": [
      "Coefficients: [20.023765511716725,-0.8445040395455283,13.431568033704314,-4.793742892692657,-6.851653381783498,24.440436034572258,-22.94500847825783,-9.040403028376002,4.100611182318047,-1.8099561917924916,-11.155935613997514,4.853527268198299,12.332716182795085,-21.59295857405262,-0.8295126965349502,-9.958243340319047,15.562710560698257,-18.291354250007576,4.392855560576934,20.714838555672134,-11.85347712453046,-8.749642549087268,-12.784316779110679,-24.386308670780526,3.3753004573942755,2.7413103842289885,-6.108755275709825,3.150914392914511,-7.979102651942681,-13.627701457497496]\n",
      "Intercept: -6.2058820602122085\n"
     ]
    },
    {
     "data": {
      "text/plain": [
       "[Row(label=0.0, probability=DenseVector([1.0, 0.0]), prediction=0.0),\n",
       " Row(label=0.0, probability=DenseVector([1.0, 0.0]), prediction=0.0),\n",
       " Row(label=0.0, probability=DenseVector([1.0, 0.0]), prediction=0.0),\n",
       " Row(label=0.0, probability=DenseVector([1.0, 0.0]), prediction=0.0),\n",
       " Row(label=0.0, probability=DenseVector([1.0, 0.0]), prediction=0.0)]"
      ]
     },
     "execution_count": 33,
     "metadata": {},
     "output_type": "execute_result"
    }
   ],
   "source": [
    "model = LogisticRegression(featuresCol='scaledfeatures',labelCol='label')\n",
    "\n",
    "# Fit the model\n",
    "model_fit = model.fit(scaled_df)\n",
    "\n",
    "# Print the coefficients and intercept for linear regression\n",
    "print(\"Coefficients: {}\".format(model_fit.coefficients))\n",
    "print(\"Intercept: {}\".format(model_fit.intercept))\n",
    "\n",
    "# Summarize the model over the training set and print out some metrics\n",
    "summary_train = model_fit.summary\n",
    "\n",
    "summary_train.predictions.select('label','probability','prediction').take(5)"
   ]
  },
  {
   "cell_type": "code",
   "execution_count": 34,
   "metadata": {},
   "outputs": [
    {
     "name": "stdout",
     "output_type": "stream",
     "text": [
      "+-----------------+---------+\n",
      "|           recall|precision|\n",
      "+-----------------+---------+\n",
      "|              0.0|      1.0|\n",
      "|0.453781512605042|      1.0|\n",
      "+-----------------+---------+\n",
      "only showing top 2 rows\n",
      "\n"
     ]
    }
   ],
   "source": [
    "summary_train.pr.show(2)"
   ]
  },
  {
   "cell_type": "code",
   "execution_count": 35,
   "metadata": {},
   "outputs": [
    {
     "data": {
      "image/png": "[encoded data removed]",
      "text/plain": [
       "<Figure size 864x288 with 2 Axes>"
      ]
     },
     "metadata": {
      "image/png": {
       "height": 277,
       "width": 727
      },
      "needs_background": "light"
     },
     "output_type": "display_data"
    }
   ],
   "source": [
    "fig, ax = plt.subplots(ncols=2,figsize=(12,4))\n",
    "summary_train.roc.toPandas().plot(x='FPR',y='TPR',ax=ax[0])\n",
    "summary_train.pr.toPandas().plot(x='recall',y='precision',ax=ax[1]);"
   ]
  },
  {
   "cell_type": "code",
   "execution_count": 36,
   "metadata": {},
   "outputs": [
    {
     "name": "stdout",
     "output_type": "stream",
     "text": [
      "+---+-------------------+\n",
      "|FPR|                TPR|\n",
      "+---+-------------------+\n",
      "|0.0|                0.0|\n",
      "|0.0|  0.453781512605042|\n",
      "|0.0|0.47058823529411764|\n",
      "|0.0|0.49019607843137253|\n",
      "|0.0| 0.5014005602240896|\n",
      "+---+-------------------+\n",
      "only showing top 5 rows\n",
      "\n"
     ]
    }
   ],
   "source": [
    "# Obtain the receiver-operating characteristic as a dataframe and areaUnderROC.\n",
    "summary_train.roc.show(5)"
   ]
  },
  {
   "cell_type": "code",
   "execution_count": 37,
   "metadata": {},
   "outputs": [
    {
     "name": "stdout",
     "output_type": "stream",
     "text": [
      "areaUnderROC: 0.9995243380371016\n"
     ]
    }
   ],
   "source": [
    "print(\"areaUnderROC: \" + str(summary_train.areaUnderROC))"
   ]
  },
  {
   "cell_type": "code",
   "execution_count": 38,
   "metadata": {},
   "outputs": [],
   "source": [
    "from pyspark.ml.evaluation import BinaryClassificationEvaluator, MulticlassClassificationEvaluator"
   ]
  },
  {
   "cell_type": "code",
   "execution_count": 39,
   "metadata": {},
   "outputs": [],
   "source": [
    "predictions = summary_train.predictions.select('label','prediction')"
   ]
  },
  {
   "cell_type": "code",
   "execution_count": 40,
   "metadata": {},
   "outputs": [
    {
     "data": {
      "text/plain": [
       "0.9938824586438348"
      ]
     },
     "execution_count": 40,
     "metadata": {},
     "output_type": "execute_result"
    }
   ],
   "source": [
    "# possible metric choices: (areaUnderROC|areaUnderPR)'\n",
    "\n",
    "evaluator = BinaryClassificationEvaluator(\n",
    "    rawPredictionCol='prediction',\n",
    "    labelCol='label',\n",
    "    metricName='areaUnderROC'\n",
    "        )\n",
    "\n",
    "evaluator.evaluate(predictions)"
   ]
  },
  {
   "cell_type": "code",
   "execution_count": 41,
   "metadata": {},
   "outputs": [
    {
     "data": {
      "text/plain": [
       "0.9947275922671354"
      ]
     },
     "execution_count": 41,
     "metadata": {},
     "output_type": "execute_result"
    }
   ],
   "source": [
    "predictions.rdd.map(lambda x: (x[0]==x[1])*1).reduce(lambda x,y: x+y)/predictions.count()"
   ]
  },
  {
   "cell_type": "code",
   "execution_count": 42,
   "metadata": {},
   "outputs": [
    {
     "data": {
      "text/plain": [
       "0.9947275922671354"
      ]
     },
     "execution_count": 42,
     "metadata": {},
     "output_type": "execute_result"
    }
   ],
   "source": [
    "# possible metric choices: (f1|weightedPrecision|weightedRecall|accuracy)'\n",
    "\n",
    "evaluator = MulticlassClassificationEvaluator(\n",
    "                    predictionCol='prediction',\n",
    "                    labelCol='label',\n",
    "                    metricName='accuracy'\n",
    "                         )\n",
    "\n",
    "evaluator.evaluate(predictions)"
   ]
  },
  {
   "cell_type": "markdown",
   "metadata": {},
   "source": [
    "### Logistic regression with grid search"
   ]
  },
  {
   "cell_type": "code",
   "execution_count": 43,
   "metadata": {},
   "outputs": [
    {
     "data": {
      "text/plain": [
       "['aggregationDepth',\n",
       " 'standardization',\n",
       " 'fitIntercept',\n",
       " 'elasticNetParam',\n",
       " 'rawPredictionCol',\n",
       " 'probabilityCol',\n",
       " 'predictionCol',\n",
       " 'labelCol',\n",
       " 'featuresCol',\n",
       " 'maxIter',\n",
       " 'regParam',\n",
       " 'tol',\n",
       " 'threshold',\n",
       " 'family']"
      ]
     },
     "execution_count": 43,
     "metadata": {},
     "output_type": "execute_result"
    }
   ],
   "source": [
    "[parameter.name for parameter in model._defaultParamMap]"
   ]
  },
  {
   "cell_type": "code",
   "execution_count": 44,
   "metadata": {},
   "outputs": [
    {
     "name": "stdout",
     "output_type": "stream",
     "text": [
      "Average cv scores:\n",
      "[0.9533 0.9461 0.9684 0.9655 0.9695 0.9731 0.9603 0.9632 0.9253 0.9489\n",
      " 0.7216 0.9335 0.624  0.9312 0.624  0.9312 0.624  0.9312]\n",
      "Best model parameters:\n",
      "{'regParam': 0.01, 'fitIntercept': False}\n",
      "\n",
      "Best model test accuracy:\n",
      "0.9881656804733728\n"
     ]
    }
   ],
   "source": [
    "(data_train, data_test) = vector_df.randomSplit([0.7, 0.3],seed=1)\n",
    "scaler = StandardScaler(withMean=True,\n",
    "                        inputCol=\"features\", \n",
    "                        outputCol=\"scaledfeatures\")\n",
    "model = LogisticRegression(featuresCol=scaler.getOutputCol(),\n",
    "                           labelCol='label')\n",
    "\n",
    "pipeline = Pipeline(stages=[scaler, model])\n",
    "\n",
    "evaluator = MulticlassClassificationEvaluator(\n",
    "                    predictionCol='prediction',\n",
    "                    labelCol='label',\n",
    "                    metricName='accuracy'\n",
    "                         )\n",
    "\n",
    "paramGrid = ParamGridBuilder() \\\n",
    "    .addGrid(model.regParam, np.logspace(-4,4,9)) \\\n",
    "    .addGrid(model.fitIntercept,[True,False]) \\\n",
    "    .build()\n",
    "\n",
    "# the actual gridsearch\n",
    "crossval = CrossValidator(estimator=pipeline,\n",
    "                          estimatorParamMaps=paramGrid,\n",
    "                          evaluator=evaluator,\n",
    "                          numFolds=5)  \n",
    "\n",
    "# Run cross-validation, and choose the best set of parameters.\n",
    "model_fit = crossval.fit(data_train)\n",
    "\n",
    "print('Average cv scores:')\n",
    "print(np.around(np.array(model_fit.avgMetrics),4))\n",
    "\n",
    "java_model = model_fit.bestModel.stages[1]._java_obj\n",
    "\n",
    "print('Best model parameters:')\n",
    "print({param.name: java_model.getOrDefault(java_model.getParam(param.name)) \n",
    "    for param in paramGrid[0]})\n",
    "print()\n",
    "#print(java_model.explainParams())\n",
    "\n",
    "predictions = model_fit.transform(data_test)\n",
    "\n",
    "print('Best model test accuracy:')\n",
    "print(evaluator.evaluate(predictions))"
   ]
  },
  {
   "cell_type": "markdown",
   "metadata": {},
   "source": [
    "### Decision Tree with grid search"
   ]
  },
  {
   "cell_type": "code",
   "execution_count": 45,
   "metadata": {},
   "outputs": [],
   "source": [
    "from pyspark.ml.classification import DecisionTreeClassifier, DecisionTreeClassificationModel"
   ]
  },
  {
   "cell_type": "code",
   "execution_count": 46,
   "metadata": {},
   "outputs": [],
   "source": [
    "model = DecisionTreeClassifier(featuresCol=scaler.getOutputCol(),\n",
    "                           labelCol='label')"
   ]
  },
  {
   "cell_type": "code",
   "execution_count": 47,
   "metadata": {},
   "outputs": [
    {
     "data": {
      "text/plain": [
       "['seed',\n",
       " 'rawPredictionCol',\n",
       " 'probabilityCol',\n",
       " 'predictionCol',\n",
       " 'labelCol',\n",
       " 'featuresCol',\n",
       " 'maxDepth',\n",
       " 'maxBins',\n",
       " 'minInstancesPerNode',\n",
       " 'minInfoGain',\n",
       " 'maxMemoryInMB',\n",
       " 'cacheNodeIds',\n",
       " 'checkpointInterval',\n",
       " 'impurity']"
      ]
     },
     "execution_count": 47,
     "metadata": {},
     "output_type": "execute_result"
    }
   ],
   "source": [
    "[parameter.name for parameter in model._defaultParamMap]"
   ]
  },
  {
   "cell_type": "code",
   "execution_count": 48,
   "metadata": {},
   "outputs": [
    {
     "name": "stdout",
     "output_type": "stream",
     "text": [
      "Average cv scores:\n",
      "[0.9187 0.9266 0.9341]\n",
      "Best model parameters:\n",
      "{'maxDepth': 5}\n",
      "\n",
      "Best model test accuracy:\n",
      "0.9704142011834319\n"
     ]
    }
   ],
   "source": [
    "(data_train, data_test) = vector_df.randomSplit([0.7, 0.3],seed=1)\n",
    "scaler = StandardScaler(withMean=True,\n",
    "                        inputCol=\"features\", \n",
    "                        outputCol=\"scaledfeatures\")\n",
    "\n",
    "\n",
    "pipeline = Pipeline(stages=[scaler, model])\n",
    "\n",
    "evaluator = MulticlassClassificationEvaluator(\n",
    "                    predictionCol='prediction',\n",
    "                    labelCol='label',\n",
    "                    metricName='accuracy'\n",
    "                         )\n",
    "\n",
    "paramGrid = ParamGridBuilder() \\\n",
    "    .addGrid(model.maxDepth, [3, 4, 5]) \\\n",
    "    .build()\n",
    "\n",
    "# the actual gridsearch\n",
    "crossval = CrossValidator(estimator=pipeline,\n",
    "                          estimatorParamMaps=paramGrid,\n",
    "                          evaluator=evaluator,\n",
    "                          numFolds=5)  \n",
    "\n",
    "# Run cross-validation, and choose the best set of parameters.\n",
    "model_fit = crossval.fit(data_train)\n",
    "\n",
    "print('Average cv scores:')\n",
    "print(np.around(np.array(model_fit.avgMetrics),4))\n",
    "\n",
    "java_model = model_fit.bestModel.stages[1]._java_obj\n",
    "\n",
    "print('Best model parameters:')\n",
    "print({param.name: java_model.getOrDefault(java_model.getParam(param.name)) \n",
    "    for param in paramGrid[0]})\n",
    "print()\n",
    "#print(java_model.explainParams())\n",
    "\n",
    "predictions = model_fit.transform(data_test)\n",
    "\n",
    "print('Best model test accuracy:')\n",
    "print(evaluator.evaluate(predictions))"
   ]
  },
  {
   "cell_type": "code",
   "execution_count": 49,
   "metadata": {},
   "outputs": [],
   "source": [
    "m_1 = DecisionTreeClassificationModel(java_model=java_model)"
   ]
  },
  {
   "cell_type": "code",
   "execution_count": 50,
   "metadata": {},
   "outputs": [
    {
     "data": {
      "text/plain": [
       "SparseVector(30, {6: 0.0095, 7: 0.0575, 10: 0.0106, 15: 0.0352, 21: 0.0904, 22: 0.694, 27: 0.1027})"
      ]
     },
     "execution_count": 50,
     "metadata": {},
     "output_type": "execute_result"
    }
   ],
   "source": [
    "m_1.featureImportances"
   ]
  },
  {
   "cell_type": "code",
   "execution_count": null,
   "metadata": {},
   "outputs": [],
   "source": []
  }
 ],
 "metadata": {
  "kernelspec": {
   "display_name": "pyspark_env",
   "language": "python",
   "name": "pyspark_env"
  },
  "language_info": {
   "codemirror_mode": {
    "name": "ipython",
    "version": 3
   },
   "file_extension": ".py",
   "mimetype": "text/x-python",
   "name": "python",
   "nbconvert_exporter": "python",
   "pygments_lexer": "ipython3",
   "version": "3.7.4"
  },
  "toc": {
   "base_numbering": 1,
   "nav_menu": {},
   "number_sections": false,
   "sideBar": true,
   "skip_h1_title": true,
   "title_cell": "Lesson Guide",
   "title_sidebar": "Contents",
   "toc_cell": true,
   "toc_position": {},
   "toc_section_display": true,
   "toc_window_display": false
  }
 },
 "nbformat": 4,
 "nbformat_minor": 2
}
