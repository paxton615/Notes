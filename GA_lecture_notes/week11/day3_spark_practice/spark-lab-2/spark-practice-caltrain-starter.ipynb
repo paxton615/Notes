{
 "cells": [
  {
   "cell_type": "markdown",
   "metadata": {},
   "source": [
    "<img src=\"http://imgur.com/1ZcRyrc.png\" style=\"float: left; margin: 20px; height: 55px\">\n",
    "\n",
    "# Practice Spark Lab\n",
    "\n",
    "---\n",
    "\n"
   ]
  },
  {
   "cell_type": "markdown",
   "metadata": {},
   "source": [
    "### Some useful Spark resources\n",
    "\n",
    "- [Spark CSV](https://github.com/databricks/spark-csv)\n",
    "- [Pyspark programming guide](https://spark.apache.org/docs/0.9.0/python-programming-guide.html)\n",
    "- [Download and run Spark](https://github.com/mahmoudparsian/pyspark-tutorial/blob/master/howto/download_install_run_spark.md)\n",
    "\n",
    "---"
   ]
  },
  {
   "cell_type": "markdown",
   "metadata": {},
   "source": [
    "**In this lab, we will use Spark to dig into the Bay Area Bike Share data.**\n",
    "\n",
    "Our goal is to calculate the average number of trips per hour, using the Caltrain Station as starting point."
   ]
  },
  {
   "cell_type": "code",
   "execution_count": 1,
   "metadata": {},
   "outputs": [],
   "source": [
    "import pyspark as ps    # for the pyspark suite\n",
    "import warnings         # for displaying warning\n",
    "from pyspark.sql import SQLContext"
   ]
  },
  {
   "cell_type": "code",
   "execution_count": 2,
   "metadata": {},
   "outputs": [
    {
     "name": "stdout",
     "output_type": "stream",
     "text": [
      "Just created a SparkContext\n"
     ]
    }
   ],
   "source": [
    "try:\n",
    "    # we try to create a SparkContext to work locally on all cpus available\n",
    "    sc = ps.SparkContext('local[4]')\n",
    "    sqlContext = SQLContext(sc)\n",
    "    print(\"Just created a SparkContext\")\n",
    "except ValueError:\n",
    "    # give a warning if SparkContext already exists (for use inside pyspark)\n",
    "    warnings.warn(\"SparkContext already exists in this scope\")"
   ]
  },
  {
   "cell_type": "markdown",
   "metadata": {},
   "source": [
    "### 1. Load the Bay Area Bike Share trip data\n",
    "\n",
    "\n",
    "> **Note:** This dataset stems from: http://www.bayareabikeshare.com/open-data"
   ]
  },
  {
   "cell_type": "code",
   "execution_count": 3,
   "metadata": {},
   "outputs": [],
   "source": [
    "# A:\n",
    "trips = sc.textFile('./data/201508_trip_data.csv')"
   ]
  },
  {
   "cell_type": "code",
   "execution_count": 4,
   "metadata": {},
   "outputs": [
    {
     "data": {
      "text/plain": [
       "'Trip ID,Duration,Start Date,Start Station,Start Terminal,End Date,End Station,End Terminal,Bike #,Subscriber Type,Zip Code'"
      ]
     },
     "execution_count": 4,
     "metadata": {},
     "output_type": "execute_result"
    }
   ],
   "source": [
    "trips.first()"
   ]
  },
  {
   "cell_type": "markdown",
   "metadata": {},
   "source": [
    "### 2. What kind of object is the data loaded as?"
   ]
  },
  {
   "cell_type": "code",
   "execution_count": 5,
   "metadata": {},
   "outputs": [
    {
     "data": {
      "text/plain": [
       "pyspark.rdd.RDD"
      ]
     },
     "execution_count": 5,
     "metadata": {},
     "output_type": "execute_result"
    }
   ],
   "source": [
    "type(trips)"
   ]
  },
  {
   "cell_type": "markdown",
   "metadata": {},
   "source": [
    "### 3. Split csv lines\n",
    "\n",
    "In spark, we can build complex pipelines that only get executed when we ask to collect them.\n",
    "\n",
    "In a python pipeline the calculation is immediately executed, but with spark the pipeline definition and execution are separate steps.\n",
    "\n",
    "In other words, we can define the pipeline with all its steps, and only when we call `collect` will the data flow through it. In order to get familiar with this new workflow, we will start with small steps to build our pipeline.\n",
    "\n",
    "**Apply a map to trips that splits each line at commas and save that to a an RDD.**\n",
    "\n",
    "> **Hint:** if you want to check that you're doing things right, you can collect the result and display the first few lines."
   ]
  },
  {
   "cell_type": "code",
   "execution_count": 6,
   "metadata": {},
   "outputs": [
    {
     "data": {
      "text/plain": [
       "['Trip ID,Duration,Start Date,Start Station,Start Terminal,End Date,End Station,End Terminal,Bike #,Subscriber Type,Zip Code',\n",
       " '913460,765,8/31/2015 23:26,Harry Bridges Plaza (Ferry Building),50,8/31/2015 23:39,San Francisco Caltrain (Townsend at 4th),70,288,Subscriber,2139',\n",
       " '913459,1036,8/31/2015 23:11,San Antonio Shopping Center,31,8/31/2015 23:28,Mountain View City Hall,27,35,Subscriber,95032',\n",
       " '913455,307,8/31/2015 23:13,Post at Kearny,47,8/31/2015 23:18,2nd at South Park,64,468,Subscriber,94107',\n",
       " '913454,409,8/31/2015 23:10,San Jose City Hall,10,8/31/2015 23:17,San Salvador at 1st,8,68,Subscriber,95113']"
      ]
     },
     "execution_count": 6,
     "metadata": {},
     "output_type": "execute_result"
    }
   ],
   "source": [
    "trips.take(5)"
   ]
  },
  {
   "cell_type": "code",
   "execution_count": 7,
   "metadata": {},
   "outputs": [],
   "source": [
    "trips = trips.map(lambda x: x.split(',') )\n",
    "#  don't forget to collect!"
   ]
  },
  {
   "cell_type": "code",
   "execution_count": 8,
   "metadata": {},
   "outputs": [
    {
     "data": {
      "text/plain": [
       "[['Trip ID',\n",
       "  'Duration',\n",
       "  'Start Date',\n",
       "  'Start Station',\n",
       "  'Start Terminal',\n",
       "  'End Date',\n",
       "  'End Station',\n",
       "  'End Terminal',\n",
       "  'Bike #',\n",
       "  'Subscriber Type',\n",
       "  'Zip Code'],\n",
       " ['913460',\n",
       "  '765',\n",
       "  '8/31/2015 23:26',\n",
       "  'Harry Bridges Plaza (Ferry Building)',\n",
       "  '50',\n",
       "  '8/31/2015 23:39',\n",
       "  'San Francisco Caltrain (Townsend at 4th)',\n",
       "  '70',\n",
       "  '288',\n",
       "  'Subscriber',\n",
       "  '2139']]"
      ]
     },
     "execution_count": 8,
     "metadata": {},
     "output_type": "execute_result"
    }
   ],
   "source": [
    "trips.take(2)"
   ]
  },
  {
   "cell_type": "markdown",
   "metadata": {},
   "source": [
    "### 4. Filter for Caltrain station\n",
    "\n",
    "In Spark we can also create filters using the `filter` method.\n",
    "\n",
    "**Select station number 70 by filtering on the 5th column.** \n",
    "\n",
    "We will do all the following analysis just on this station, which corresponds to the most popular starting point. Save this to a variable called `station_70`."
   ]
  },
  {
   "cell_type": "code",
   "execution_count": 9,
   "metadata": {},
   "outputs": [],
   "source": [
    "headers = trips.first()"
   ]
  },
  {
   "cell_type": "code",
   "execution_count": 10,
   "metadata": {},
   "outputs": [],
   "source": [
    "station_70 = trips.filter(lambda x: x[4]=='70')"
   ]
  },
  {
   "cell_type": "code",
   "execution_count": 11,
   "metadata": {},
   "outputs": [
    {
     "data": {
      "text/plain": [
       "[['913429',\n",
       "  '902',\n",
       "  '8/31/2015 21:07',\n",
       "  'San Francisco Caltrain (Townsend at 4th)',\n",
       "  '70',\n",
       "  '8/31/2015 21:22',\n",
       "  'Broadway St at Battery St',\n",
       "  '82',\n",
       "  '501',\n",
       "  'Subscriber',\n",
       "  '94133'],\n",
       " ['913426',\n",
       "  '481',\n",
       "  '8/31/2015 21:06',\n",
       "  'San Francisco Caltrain (Townsend at 4th)',\n",
       "  '70',\n",
       "  '8/31/2015 21:14',\n",
       "  'Market at 4th',\n",
       "  '76',\n",
       "  '542',\n",
       "  'Subscriber',\n",
       "  '95054']]"
      ]
     },
     "execution_count": 11,
     "metadata": {},
     "output_type": "execute_result"
    }
   ],
   "source": [
    "station_70.take(2)"
   ]
  },
  {
   "cell_type": "code",
   "execution_count": 12,
   "metadata": {},
   "outputs": [],
   "source": [
    "# A:\n",
    "# station_70 = trips.filter(..."
   ]
  },
  {
   "cell_type": "markdown",
   "metadata": {},
   "source": [
    "### 5. Trips by day - hour (mapper)\n",
    "\n",
    "Let's analyse the trips by the hour. We can do this by performing a map reduce job in Spark. First we will need to emit tuples with a count of 1 for each (date, hour) key, and then we will sum the counts by key.\n",
    "\n",
    "**Emit tuple of ((date, hour), 1), applying a map to `station_70` that extracts the relevant data from each line.**"
   ]
  },
  {
   "cell_type": "code",
   "execution_count": 13,
   "metadata": {},
   "outputs": [
    {
     "data": {
      "text/plain": [
       "[['Trip ID',\n",
       "  'Duration',\n",
       "  'Start Date',\n",
       "  'Start Station',\n",
       "  'Start Terminal',\n",
       "  'End Date',\n",
       "  'End Station',\n",
       "  'End Terminal',\n",
       "  'Bike #',\n",
       "  'Subscriber Type',\n",
       "  'Zip Code'],\n",
       " ['913460',\n",
       "  '765',\n",
       "  '8/31/2015 23:26',\n",
       "  'Harry Bridges Plaza (Ferry Building)',\n",
       "  '50',\n",
       "  '8/31/2015 23:39',\n",
       "  'San Francisco Caltrain (Townsend at 4th)',\n",
       "  '70',\n",
       "  '288',\n",
       "  'Subscriber',\n",
       "  '2139']]"
      ]
     },
     "execution_count": 13,
     "metadata": {},
     "output_type": "execute_result"
    }
   ],
   "source": [
    "trips.take(2)"
   ]
  },
  {
   "cell_type": "code",
   "execution_count": 14,
   "metadata": {},
   "outputs": [],
   "source": [
    "# A:\n",
    "# trips_by_day_hour = station_70.map(..."
   ]
  },
  {
   "cell_type": "code",
   "execution_count": null,
   "metadata": {},
   "outputs": [],
   "source": []
  },
  {
   "cell_type": "code",
   "execution_count": 16,
   "metadata": {},
   "outputs": [
    {
     "data": {
      "text/plain": [
       "['8/31/2015 21:07', '8/31/2015 21:06']"
      ]
     },
     "execution_count": 16,
     "metadata": {},
     "output_type": "execute_result"
    }
   ],
   "source": [
    "station_70.map(lambda x: x[2]).take(2)"
   ]
  },
  {
   "cell_type": "code",
   "execution_count": 17,
   "metadata": {},
   "outputs": [
    {
     "data": {
      "text/plain": [
       "[['8/31/2015', '21:07'], ['8/31/2015', '21:06']]"
      ]
     },
     "execution_count": 17,
     "metadata": {},
     "output_type": "execute_result"
    }
   ],
   "source": [
    "station_70.map(lambda x: x[2].split(' ')).take(2)"
   ]
  },
  {
   "cell_type": "code",
   "execution_count": 18,
   "metadata": {},
   "outputs": [
    {
     "data": {
      "text/plain": [
       "[('8/31/2015', '21:07'), ('8/31/2015', '21:06')]"
      ]
     },
     "execution_count": 18,
     "metadata": {},
     "output_type": "execute_result"
    }
   ],
   "source": [
    "station_70.map(lambda x: (x[2].split(' ')[0],x[2].split(' ')[1])).take(2)"
   ]
  },
  {
   "cell_type": "code",
   "execution_count": 19,
   "metadata": {},
   "outputs": [
    {
     "data": {
      "text/plain": [
       "[('8/31/2015', '21'), ('8/31/2015', '21')]"
      ]
     },
     "execution_count": 19,
     "metadata": {},
     "output_type": "execute_result"
    }
   ],
   "source": [
    "station_70.map(lambda x: (x[2].split(' ')[0],x[2].split(' ')[1].split(':')[0])).take(2)"
   ]
  },
  {
   "cell_type": "code",
   "execution_count": 20,
   "metadata": {},
   "outputs": [
    {
     "data": {
      "text/plain": [
       "[(('8/31/2015', '21'), 1),\n",
       " (('8/31/2015', '21'), 1),\n",
       " (('8/31/2015', '20'), 1),\n",
       " (('8/31/2015', '19'), 1),\n",
       " (('8/31/2015', '18'), 1),\n",
       " (('8/31/2015', '18'), 1),\n",
       " (('8/31/2015', '18'), 1),\n",
       " (('8/31/2015', '18'), 1),\n",
       " (('8/31/2015', '18'), 1),\n",
       " (('8/31/2015', '18'), 1)]"
      ]
     },
     "execution_count": 20,
     "metadata": {},
     "output_type": "execute_result"
    }
   ],
   "source": [
    "station_70.map(lambda x: ((x[2].split()[0],x[2]\\\n",
    ".split()[1].split(':')[0]),1)).take(10)"
   ]
  },
  {
   "cell_type": "code",
   "execution_count": 21,
   "metadata": {},
   "outputs": [],
   "source": [
    "trips_by_day_hour = station_70 \\\n",
    "    .map(lambda x: ((x[2].split()[0],x[2] \\\n",
    "    .split()[1].split(':')[0]),1)) \\\n",
    "    .reduceByKey(lambda x, y: x+y) \\\n",
    "    "
   ]
  },
  {
   "cell_type": "code",
   "execution_count": 22,
   "metadata": {},
   "outputs": [
    {
     "data": {
      "text/plain": [
       "[(('8/31/2015', '21'), 2),\n",
       " (('8/31/2015', '20'), 1),\n",
       " (('8/31/2015', '19'), 1),\n",
       " (('8/31/2015', '17'), 7),\n",
       " (('8/31/2015', '16'), 3),\n",
       " (('8/31/2015', '14'), 2),\n",
       " (('8/31/2015', '10'), 4),\n",
       " (('8/31/2015', '9'), 6),\n",
       " (('8/31/2015', '8'), 25),\n",
       " (('8/30/2015', '20'), 1)]"
      ]
     },
     "execution_count": 22,
     "metadata": {},
     "output_type": "execute_result"
    }
   ],
   "source": [
    "trips_by_day_hour.take(10)"
   ]
  },
  {
   "cell_type": "code",
   "execution_count": null,
   "metadata": {},
   "outputs": [],
   "source": []
  },
  {
   "cell_type": "markdown",
   "metadata": {},
   "source": [
    "### 6. Trips by day - hour (reducer)\n",
    "\n",
    "Use the `reduceByKey` method to obtain the number of trips per (day, hour)."
   ]
  },
  {
   "cell_type": "code",
   "execution_count": 23,
   "metadata": {},
   "outputs": [],
   "source": [
    "trips_by_day_hour = trips_by_day_hour.\\\n",
    "reduceByKey(lambda x,y:x+y)"
   ]
  },
  {
   "cell_type": "code",
   "execution_count": 33,
   "metadata": {},
   "outputs": [
    {
     "data": {
      "text/plain": [
       "[(('8/31/2015', '21'), 2),\n",
       " (('8/31/2015', '20'), 1),\n",
       " (('8/31/2015', '19'), 1),\n",
       " (('8/31/2015', '17'), 7),\n",
       " (('8/31/2015', '16'), 3),\n",
       " (('8/31/2015', '14'), 2),\n",
       " (('8/31/2015', '10'), 4),\n",
       " (('8/31/2015', '9'), 6),\n",
       " (('8/31/2015', '8'), 25),\n",
       " (('8/30/2015', '20'), 1)]"
      ]
     },
     "execution_count": 33,
     "metadata": {},
     "output_type": "execute_result"
    }
   ],
   "source": [
    "trips_by_day_hour.take(10)"
   ]
  },
  {
   "cell_type": "code",
   "execution_count": null,
   "metadata": {},
   "outputs": [],
   "source": []
  },
  {
   "cell_type": "markdown",
   "metadata": {},
   "source": [
    "### 7. Trips by hour (mapper)\n",
    "\n",
    "Let's further group the trips by hour. We'll do this with a second Map Reduce job.\n",
    "\n",
    "First we will discard the day and emit tuples of (hour, count). You can achieve this with a map."
   ]
  },
  {
   "cell_type": "code",
   "execution_count": 25,
   "metadata": {},
   "outputs": [
    {
     "data": {
      "text/plain": [
       "[(('8/31/2015', '21'), 2), (('8/31/2015', '20'), 1)]"
      ]
     },
     "execution_count": 25,
     "metadata": {},
     "output_type": "execute_result"
    }
   ],
   "source": [
    "trips_by_day_hour.take(2)"
   ]
  },
  {
   "cell_type": "code",
   "execution_count": null,
   "metadata": {},
   "outputs": [],
   "source": []
  },
  {
   "cell_type": "code",
   "execution_count": 29,
   "metadata": {},
   "outputs": [],
   "source": [
    "trips_by_day_hour_7 = trips_by_day_hour.map(lambda x: (x[0][1],x[1]))\\\n",
    ".reduceByKey(lambda x,y:x+y)"
   ]
  },
  {
   "cell_type": "code",
   "execution_count": 31,
   "metadata": {},
   "outputs": [
    {
     "data": {
      "text/plain": [
       "[('21', 311), ('20', 498), ('19', 1366), ('17', 2023), ('16', 807)]"
      ]
     },
     "execution_count": 31,
     "metadata": {},
     "output_type": "execute_result"
    }
   ],
   "source": [
    "trips_by_day_hour_7.take(5)"
   ]
  },
  {
   "cell_type": "markdown",
   "metadata": {},
   "source": [
    "### 8. Trips by hour (reducer)\n",
    "\n",
    "Now calculate the average number of trips by hour using the `combineByKey` method.\n",
    "\n",
    "> You can find a suggestion on how to do it [here](http://abshinn.github.io/python/apache-spark/2014/10/11/using-combinebykey-in-apache-spark/)."
   ]
  },
  {
   "cell_type": "code",
   "execution_count": 34,
   "metadata": {},
   "outputs": [
    {
     "data": {
      "text/plain": [
       "[('21', 1), ('20', 1)]"
      ]
     },
     "execution_count": 34,
     "metadata": {},
     "output_type": "execute_result"
    }
   ],
   "source": [
    "trips_by_day_hour.map(lambda x: (x[0][1],1)).take(2)"
   ]
  },
  {
   "cell_type": "code",
   "execution_count": 35,
   "metadata": {},
   "outputs": [
    {
     "data": {
      "text/plain": [
       "[('21', 190),\n",
       " ('20', 231),\n",
       " ('19', 279),\n",
       " ('17', 307),\n",
       " ('16', 298),\n",
       " ('14', 184),\n",
       " ('10', 306),\n",
       " ('9', 319),\n",
       " ('8', 286),\n",
       " ('12', 213)]"
      ]
     },
     "execution_count": 35,
     "metadata": {},
     "output_type": "execute_result"
    }
   ],
   "source": [
    "trips_by_day_hour.map(lambda x: (x[0][1],1)).\\\n",
    "reduceByKey(lambda x,y: x+y).take(10)"
   ]
  },
  {
   "cell_type": "code",
   "execution_count": null,
   "metadata": {},
   "outputs": [],
   "source": []
  },
  {
   "cell_type": "code",
   "execution_count": null,
   "metadata": {},
   "outputs": [],
   "source": []
  },
  {
   "cell_type": "code",
   "execution_count": null,
   "metadata": {},
   "outputs": [],
   "source": []
  },
  {
   "cell_type": "markdown",
   "metadata": {},
   "source": [
    "### 9. `collect()` the results.\n",
    "We can finally collect our result and sort them."
   ]
  },
  {
   "cell_type": "code",
   "execution_count": null,
   "metadata": {},
   "outputs": [],
   "source": [
    "# A:"
   ]
  },
  {
   "cell_type": "markdown",
   "metadata": {},
   "source": [
    "### 10. [Bonus] Using the Spark `sqlContext`\n",
    "\n",
    "Besides the SparkContext, Spark also exposes a sqlContext that allows us to perform SQL queries on an RDD object.\n",
    "\n",
    "A SQLContext is also already created for you. Do not create another or unspecified behavior may occur. As you can see below, the sqlContext provided is a HiveContext.\n",
    "\n",
    "**Run a query using the sqlContext to obtain the average duration of a trip originating from the Caltrain station.**"
   ]
  },
  {
   "cell_type": "markdown",
   "metadata": {},
   "source": [
    "*Note: you might have to rename the columns*"
   ]
  },
  {
   "cell_type": "code",
   "execution_count": null,
   "metadata": {},
   "outputs": [],
   "source": [
    "# A:\n",
    "tripsSql = sqlContext.read.format('com.databricks.spark.csv').options(header='true',\n",
    "                inferschema='true').load('./data/201508_trip_data.csv')"
   ]
  },
  {
   "cell_type": "code",
   "execution_count": null,
   "metadata": {},
   "outputs": [],
   "source": []
  },
  {
   "cell_type": "code",
   "execution_count": null,
   "metadata": {},
   "outputs": [],
   "source": []
  },
  {
   "cell_type": "code",
   "execution_count": null,
   "metadata": {},
   "outputs": [],
   "source": []
  },
  {
   "cell_type": "code",
   "execution_count": null,
   "metadata": {},
   "outputs": [],
   "source": []
  },
  {
   "cell_type": "code",
   "execution_count": null,
   "metadata": {},
   "outputs": [],
   "source": []
  }
 ],
 "metadata": {
  "kernelspec": {
   "display_name": "pyspark_env",
   "language": "python",
   "name": "pyspark_env"
  },
  "language_info": {
   "codemirror_mode": {
    "name": "ipython",
    "version": 3
   },
   "file_extension": ".py",
   "mimetype": "text/x-python",
   "name": "python",
   "nbconvert_exporter": "python",
   "pygments_lexer": "ipython3",
   "version": "3.7.4"
  },
  "toc": {
   "base_numbering": 1,
   "nav_menu": {},
   "number_sections": false,
   "sideBar": true,
   "skip_h1_title": false,
   "title_cell": "Table of Contents",
   "title_sidebar": "Contents",
   "toc_cell": false,
   "toc_position": {},
   "toc_section_display": true,
   "toc_window_display": false
  },
  "varInspector": {
   "cols": {
    "lenName": 16,
    "lenType": 16,
    "lenVar": 40
   },
   "kernels_config": {
    "python": {
     "delete_cmd_postfix": "",
     "delete_cmd_prefix": "del ",
     "library": "var_list.py",
     "varRefreshCmd": "print(var_dic_list())"
    },
    "r": {
     "delete_cmd_postfix": ") ",
     "delete_cmd_prefix": "rm(",
     "library": "var_list.r",
     "varRefreshCmd": "cat(var_dic_list()) "
    }
   },
   "types_to_exclude": [
    "module",
    "function",
    "builtin_function_or_method",
    "instance",
    "_Feature"
   ],
   "window_display": false
  }
 },
 "nbformat": 4,
 "nbformat_minor": 1
}
