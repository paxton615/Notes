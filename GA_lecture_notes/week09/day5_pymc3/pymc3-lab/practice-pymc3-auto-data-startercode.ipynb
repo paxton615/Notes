{
 "cells": [
  {
   "cell_type": "markdown",
   "metadata": {},
   "source": [
    "<img src=\"http://imgur.com/1ZcRyrc.png\" style=\"float: left; margin: 20px; height: 55px\">\n",
    "\n",
    "# Practice Bayesian Modelling on Auto Data\n",
    "\n",
    "\n",
    "---\n",
    "\n",
    "In this lab you will get some practice building models with `pymc3`. Please reference the preceding lesson on estimation and regression with `pymc3` for tips on how to code these models up."
   ]
  },
  {
   "cell_type": "code",
   "execution_count": 2,
   "metadata": {},
   "outputs": [],
   "source": [
    "import matplotlib.pyplot as plt\n",
    "import numpy as np\n",
    "import pandas as pd\n",
    "import seaborn as sns\n",
    "\n",
    "plt.style.use('fivethirtyeight')\n",
    "\n",
    "%matplotlib inline\n",
    "%config InlineBackend.figure_format = 'retina'\n",
    "\n",
    "import warnings\n",
    "warnings.simplefilter('ignore')"
   ]
  },
  {
   "cell_type": "markdown",
   "metadata": {},
   "source": [
    "### 1. Load the auto data. Perform any cleaning or EDA necessary."
   ]
  },
  {
   "cell_type": "code",
   "execution_count": 3,
   "metadata": {},
   "outputs": [],
   "source": [
    "auto = pd.read_csv('../../../../resource-datasets/auto_stats/Auto.csv')"
   ]
  },
  {
   "cell_type": "code",
   "execution_count": 7,
   "metadata": {},
   "outputs": [
    {
     "data": {
      "text/html": [
       "<div>\n",
       "<style scoped>\n",
       "    .dataframe tbody tr th:only-of-type {\n",
       "        vertical-align: middle;\n",
       "    }\n",
       "\n",
       "    .dataframe tbody tr th {\n",
       "        vertical-align: top;\n",
       "    }\n",
       "\n",
       "    .dataframe thead th {\n",
       "        text-align: right;\n",
       "    }\n",
       "</style>\n",
       "<table border=\"1\" class=\"dataframe\">\n",
       "  <thead>\n",
       "    <tr style=\"text-align: right;\">\n",
       "      <th></th>\n",
       "      <th>mpg</th>\n",
       "      <th>cylinders</th>\n",
       "      <th>displacement</th>\n",
       "      <th>horsepower</th>\n",
       "      <th>weight</th>\n",
       "      <th>acceleration</th>\n",
       "      <th>year</th>\n",
       "      <th>origin</th>\n",
       "      <th>name</th>\n",
       "    </tr>\n",
       "  </thead>\n",
       "  <tbody>\n",
       "    <tr>\n",
       "      <th>0</th>\n",
       "      <td>18.0</td>\n",
       "      <td>8</td>\n",
       "      <td>307.0</td>\n",
       "      <td>130</td>\n",
       "      <td>3504</td>\n",
       "      <td>12.0</td>\n",
       "      <td>70</td>\n",
       "      <td>1</td>\n",
       "      <td>chevrolet chevelle malibu</td>\n",
       "    </tr>\n",
       "    <tr>\n",
       "      <th>1</th>\n",
       "      <td>15.0</td>\n",
       "      <td>8</td>\n",
       "      <td>350.0</td>\n",
       "      <td>165</td>\n",
       "      <td>3693</td>\n",
       "      <td>11.5</td>\n",
       "      <td>70</td>\n",
       "      <td>1</td>\n",
       "      <td>buick skylark 320</td>\n",
       "    </tr>\n",
       "    <tr>\n",
       "      <th>2</th>\n",
       "      <td>18.0</td>\n",
       "      <td>8</td>\n",
       "      <td>318.0</td>\n",
       "      <td>150</td>\n",
       "      <td>3436</td>\n",
       "      <td>11.0</td>\n",
       "      <td>70</td>\n",
       "      <td>1</td>\n",
       "      <td>plymouth satellite</td>\n",
       "    </tr>\n",
       "    <tr>\n",
       "      <th>3</th>\n",
       "      <td>16.0</td>\n",
       "      <td>8</td>\n",
       "      <td>304.0</td>\n",
       "      <td>150</td>\n",
       "      <td>3433</td>\n",
       "      <td>12.0</td>\n",
       "      <td>70</td>\n",
       "      <td>1</td>\n",
       "      <td>amc rebel sst</td>\n",
       "    </tr>\n",
       "    <tr>\n",
       "      <th>4</th>\n",
       "      <td>17.0</td>\n",
       "      <td>8</td>\n",
       "      <td>302.0</td>\n",
       "      <td>140</td>\n",
       "      <td>3449</td>\n",
       "      <td>10.5</td>\n",
       "      <td>70</td>\n",
       "      <td>1</td>\n",
       "      <td>ford torino</td>\n",
       "    </tr>\n",
       "  </tbody>\n",
       "</table>\n",
       "</div>"
      ],
      "text/plain": [
       "    mpg  cylinders  displacement horsepower  weight  acceleration  year  \\\n",
       "0  18.0          8         307.0        130    3504          12.0    70   \n",
       "1  15.0          8         350.0        165    3693          11.5    70   \n",
       "2  18.0          8         318.0        150    3436          11.0    70   \n",
       "3  16.0          8         304.0        150    3433          12.0    70   \n",
       "4  17.0          8         302.0        140    3449          10.5    70   \n",
       "\n",
       "   origin                       name  \n",
       "0       1  chevrolet chevelle malibu  \n",
       "1       1          buick skylark 320  \n",
       "2       1         plymouth satellite  \n",
       "3       1              amc rebel sst  \n",
       "4       1                ford torino  "
      ]
     },
     "execution_count": 7,
     "metadata": {},
     "output_type": "execute_result"
    }
   ],
   "source": [
    "auto.head()"
   ]
  },
  {
   "cell_type": "code",
   "execution_count": 15,
   "metadata": {},
   "outputs": [
    {
     "data": {
      "text/plain": [
       "mpg             float64\n",
       "cylinders         int64\n",
       "displacement    float64\n",
       "horsepower       object\n",
       "weight            int64\n",
       "acceleration    float64\n",
       "year              int64\n",
       "origin            int64\n",
       "name             object\n",
       "country           int64\n",
       "dtype: object"
      ]
     },
     "execution_count": 15,
     "metadata": {},
     "output_type": "execute_result"
    }
   ],
   "source": [
    "auto.dtypes"
   ]
  },
  {
   "cell_type": "markdown",
   "metadata": {},
   "source": [
    "### 2. Create columns indicating if the car brand is from the USA, Asia, or Europe.\n",
    "\n",
    "Take into account that some brand names are not given correctly."
   ]
  },
  {
   "cell_type": "code",
   "execution_count": 10,
   "metadata": {},
   "outputs": [
    {
     "data": {
      "text/plain": [
       "array([1, 3, 2])"
      ]
     },
     "execution_count": 10,
     "metadata": {},
     "output_type": "execute_result"
    }
   ],
   "source": [
    "auto.origin.unique()"
   ]
  },
  {
   "cell_type": "code",
   "execution_count": 13,
   "metadata": {},
   "outputs": [],
   "source": [
    "auto[\"country\"]=auto[\"origin\"]"
   ]
  },
  {
   "cell_type": "code",
   "execution_count": 16,
   "metadata": {},
   "outputs": [],
   "source": [
    "auto[\"country\"]=auto[\"country\"].replace(1,\"USA\").replace(3,\"Asia\").replace(2,\"Europe\")"
   ]
  },
  {
   "cell_type": "code",
   "execution_count": 18,
   "metadata": {},
   "outputs": [
    {
     "data": {
      "text/html": [
       "<div>\n",
       "<style scoped>\n",
       "    .dataframe tbody tr th:only-of-type {\n",
       "        vertical-align: middle;\n",
       "    }\n",
       "\n",
       "    .dataframe tbody tr th {\n",
       "        vertical-align: top;\n",
       "    }\n",
       "\n",
       "    .dataframe thead th {\n",
       "        text-align: right;\n",
       "    }\n",
       "</style>\n",
       "<table border=\"1\" class=\"dataframe\">\n",
       "  <thead>\n",
       "    <tr style=\"text-align: right;\">\n",
       "      <th></th>\n",
       "      <th>mpg</th>\n",
       "      <th>cylinders</th>\n",
       "      <th>displacement</th>\n",
       "      <th>horsepower</th>\n",
       "      <th>weight</th>\n",
       "      <th>acceleration</th>\n",
       "      <th>year</th>\n",
       "      <th>origin</th>\n",
       "      <th>name</th>\n",
       "      <th>country</th>\n",
       "    </tr>\n",
       "  </thead>\n",
       "  <tbody>\n",
       "    <tr>\n",
       "      <th>392</th>\n",
       "      <td>27.0</td>\n",
       "      <td>4</td>\n",
       "      <td>140.0</td>\n",
       "      <td>86</td>\n",
       "      <td>2790</td>\n",
       "      <td>15.6</td>\n",
       "      <td>82</td>\n",
       "      <td>1</td>\n",
       "      <td>ford mustang gl</td>\n",
       "      <td>USA</td>\n",
       "    </tr>\n",
       "    <tr>\n",
       "      <th>393</th>\n",
       "      <td>44.0</td>\n",
       "      <td>4</td>\n",
       "      <td>97.0</td>\n",
       "      <td>52</td>\n",
       "      <td>2130</td>\n",
       "      <td>24.6</td>\n",
       "      <td>82</td>\n",
       "      <td>2</td>\n",
       "      <td>vw pickup</td>\n",
       "      <td>Europe</td>\n",
       "    </tr>\n",
       "    <tr>\n",
       "      <th>394</th>\n",
       "      <td>32.0</td>\n",
       "      <td>4</td>\n",
       "      <td>135.0</td>\n",
       "      <td>84</td>\n",
       "      <td>2295</td>\n",
       "      <td>11.6</td>\n",
       "      <td>82</td>\n",
       "      <td>1</td>\n",
       "      <td>dodge rampage</td>\n",
       "      <td>USA</td>\n",
       "    </tr>\n",
       "    <tr>\n",
       "      <th>395</th>\n",
       "      <td>28.0</td>\n",
       "      <td>4</td>\n",
       "      <td>120.0</td>\n",
       "      <td>79</td>\n",
       "      <td>2625</td>\n",
       "      <td>18.6</td>\n",
       "      <td>82</td>\n",
       "      <td>1</td>\n",
       "      <td>ford ranger</td>\n",
       "      <td>USA</td>\n",
       "    </tr>\n",
       "    <tr>\n",
       "      <th>396</th>\n",
       "      <td>31.0</td>\n",
       "      <td>4</td>\n",
       "      <td>119.0</td>\n",
       "      <td>82</td>\n",
       "      <td>2720</td>\n",
       "      <td>19.4</td>\n",
       "      <td>82</td>\n",
       "      <td>1</td>\n",
       "      <td>chevy s-10</td>\n",
       "      <td>USA</td>\n",
       "    </tr>\n",
       "  </tbody>\n",
       "</table>\n",
       "</div>"
      ],
      "text/plain": [
       "      mpg  cylinders  displacement horsepower  weight  acceleration  year  \\\n",
       "392  27.0          4         140.0         86    2790          15.6    82   \n",
       "393  44.0          4          97.0         52    2130          24.6    82   \n",
       "394  32.0          4         135.0         84    2295          11.6    82   \n",
       "395  28.0          4         120.0         79    2625          18.6    82   \n",
       "396  31.0          4         119.0         82    2720          19.4    82   \n",
       "\n",
       "     origin             name country  \n",
       "392       1  ford mustang gl     USA  \n",
       "393       2        vw pickup  Europe  \n",
       "394       1    dodge rampage     USA  \n",
       "395       1      ford ranger     USA  \n",
       "396       1       chevy s-10     USA  "
      ]
     },
     "execution_count": 18,
     "metadata": {},
     "output_type": "execute_result"
    }
   ],
   "source": [
    "auto.tail()"
   ]
  },
  {
   "cell_type": "code",
   "execution_count": null,
   "metadata": {},
   "outputs": [],
   "source": []
  },
  {
   "cell_type": "markdown",
   "metadata": {},
   "source": [
    "### 3. Build a model with `pymc3` to estimate the difference in MPG between American and European cars.\n",
    "\n",
    "Make sure to inspect the results visually using `pymc3`'s built-in plotting functions.\n",
    "\n",
    "When setting up likelihood and priors, you could choose\n",
    "- a normal distribution for mpg itself \n",
    "- a normal distribution for the mean of mpg \n",
    "- a uniform distribution for the standard deviation of mpg\n",
    "\n",
    "Check [conjugate priors](https://en.wikipedia.org/wiki/Conjugate_prior#cite_note-beta_rate-6) for other suggestions."
   ]
  },
  {
   "cell_type": "code",
   "execution_count": 3,
   "metadata": {},
   "outputs": [],
   "source": [
    "import pymc3 as pm"
   ]
  },
  {
   "cell_type": "code",
   "execution_count": 20,
   "metadata": {},
   "outputs": [
    {
     "data": {
      "text/html": [
       "<div>\n",
       "<style scoped>\n",
       "    .dataframe tbody tr th:only-of-type {\n",
       "        vertical-align: middle;\n",
       "    }\n",
       "\n",
       "    .dataframe tbody tr th {\n",
       "        vertical-align: top;\n",
       "    }\n",
       "\n",
       "    .dataframe thead th {\n",
       "        text-align: right;\n",
       "    }\n",
       "</style>\n",
       "<table border=\"1\" class=\"dataframe\">\n",
       "  <thead>\n",
       "    <tr style=\"text-align: right;\">\n",
       "      <th></th>\n",
       "      <th>mpg</th>\n",
       "      <th>cylinders</th>\n",
       "      <th>displacement</th>\n",
       "      <th>horsepower</th>\n",
       "      <th>weight</th>\n",
       "      <th>acceleration</th>\n",
       "      <th>year</th>\n",
       "      <th>origin</th>\n",
       "      <th>name</th>\n",
       "      <th>country</th>\n",
       "    </tr>\n",
       "  </thead>\n",
       "  <tbody>\n",
       "    <tr>\n",
       "      <th>0</th>\n",
       "      <td>18.0</td>\n",
       "      <td>8</td>\n",
       "      <td>307.0</td>\n",
       "      <td>130</td>\n",
       "      <td>3504</td>\n",
       "      <td>12.0</td>\n",
       "      <td>70</td>\n",
       "      <td>1</td>\n",
       "      <td>chevrolet chevelle malibu</td>\n",
       "      <td>USA</td>\n",
       "    </tr>\n",
       "    <tr>\n",
       "      <th>1</th>\n",
       "      <td>15.0</td>\n",
       "      <td>8</td>\n",
       "      <td>350.0</td>\n",
       "      <td>165</td>\n",
       "      <td>3693</td>\n",
       "      <td>11.5</td>\n",
       "      <td>70</td>\n",
       "      <td>1</td>\n",
       "      <td>buick skylark 320</td>\n",
       "      <td>USA</td>\n",
       "    </tr>\n",
       "  </tbody>\n",
       "</table>\n",
       "</div>"
      ],
      "text/plain": [
       "    mpg  cylinders  displacement horsepower  weight  acceleration  year  \\\n",
       "0  18.0          8         307.0        130    3504          12.0    70   \n",
       "1  15.0          8         350.0        165    3693          11.5    70   \n",
       "\n",
       "   origin                       name country  \n",
       "0       1  chevrolet chevelle malibu     USA  \n",
       "1       1          buick skylark 320     USA  "
      ]
     },
     "execution_count": 20,
     "metadata": {},
     "output_type": "execute_result"
    }
   ],
   "source": [
    "auto.head(2)"
   ]
  },
  {
   "cell_type": "code",
   "execution_count": 49,
   "metadata": {},
   "outputs": [],
   "source": [
    "usa_mpg = auto[auto[\"country\"]==\"USA\"].mpg"
   ]
  },
  {
   "cell_type": "code",
   "execution_count": 50,
   "metadata": {},
   "outputs": [],
   "source": [
    "asia_mpg = auto[auto[\"country\"]==\"Asia\"].mpg"
   ]
  },
  {
   "cell_type": "code",
   "execution_count": 51,
   "metadata": {},
   "outputs": [],
   "source": [
    "eu_mpg = auto[auto[\"country\"]==\"Europe\"].mpg"
   ]
  },
  {
   "cell_type": "code",
   "execution_count": null,
   "metadata": {},
   "outputs": [],
   "source": []
  },
  {
   "cell_type": "code",
   "execution_count": 29,
   "metadata": {},
   "outputs": [],
   "source": [
    "import scipy.stats as stats"
   ]
  },
  {
   "cell_type": "code",
   "execution_count": 39,
   "metadata": {},
   "outputs": [],
   "source": [
    "tt = stats.ttest_ind(asia, usa)"
   ]
  },
  {
   "cell_type": "code",
   "execution_count": 40,
   "metadata": {},
   "outputs": [
    {
     "name": "stdout",
     "output_type": "stream",
     "text": [
      "t-statistic:\t 12.67722648020723\n",
      "p-value:\t 3.370227003938695e-30\n"
     ]
    }
   ],
   "source": [
    "print('t-statistic:\\t', tt.statistic)\n",
    "print('p-value:\\t', tt.pvalue)"
   ]
  },
  {
   "cell_type": "code",
   "execution_count": 41,
   "metadata": {},
   "outputs": [
    {
     "data": {
      "image/png": "[encoded data removed]",
      "text/plain": [
       "<Figure size 360x288 with 1 Axes>"
      ]
     },
     "metadata": {
      "image/png": {
       "height": 244,
       "width": 353
      },
      "needs_background": "light"
     },
     "output_type": "display_data"
    }
   ],
   "source": [
    "zdist = stats.norm(0, 1)\n",
    "xvals = np.linspace(-4, 4, 200)\n",
    "\n",
    "fig, ax = plt.subplots(figsize=(5, 4))\n",
    "ax.plot(xvals, zdist.pdf(xvals), lw=3)\n",
    "ax.axvline(tt.statistic, color='black', ls='dashed', lw=5)\n",
    "plt.show()"
   ]
  },
  {
   "cell_type": "code",
   "execution_count": 42,
   "metadata": {},
   "outputs": [
    {
     "data": {
      "text/html": [
       "<div>\n",
       "<style scoped>\n",
       "    .dataframe tbody tr th:only-of-type {\n",
       "        vertical-align: middle;\n",
       "    }\n",
       "\n",
       "    .dataframe tbody tr th {\n",
       "        vertical-align: top;\n",
       "    }\n",
       "\n",
       "    .dataframe thead th {\n",
       "        text-align: right;\n",
       "    }\n",
       "</style>\n",
       "<table border=\"1\" class=\"dataframe\">\n",
       "  <thead>\n",
       "    <tr style=\"text-align: right;\">\n",
       "      <th></th>\n",
       "      <th>mpg</th>\n",
       "      <th>cylinders</th>\n",
       "      <th>displacement</th>\n",
       "      <th>weight</th>\n",
       "      <th>acceleration</th>\n",
       "      <th>year</th>\n",
       "      <th>origin</th>\n",
       "    </tr>\n",
       "  </thead>\n",
       "  <tbody>\n",
       "    <tr>\n",
       "      <th>count</th>\n",
       "      <td>397.000000</td>\n",
       "      <td>397.000000</td>\n",
       "      <td>397.000000</td>\n",
       "      <td>397.000000</td>\n",
       "      <td>397.000000</td>\n",
       "      <td>397.000000</td>\n",
       "      <td>397.000000</td>\n",
       "    </tr>\n",
       "    <tr>\n",
       "      <th>mean</th>\n",
       "      <td>23.515869</td>\n",
       "      <td>5.458438</td>\n",
       "      <td>193.532746</td>\n",
       "      <td>2970.261965</td>\n",
       "      <td>15.555668</td>\n",
       "      <td>75.994962</td>\n",
       "      <td>1.574307</td>\n",
       "    </tr>\n",
       "    <tr>\n",
       "      <th>std</th>\n",
       "      <td>7.825804</td>\n",
       "      <td>1.701577</td>\n",
       "      <td>104.379583</td>\n",
       "      <td>847.904119</td>\n",
       "      <td>2.749995</td>\n",
       "      <td>3.690005</td>\n",
       "      <td>0.802549</td>\n",
       "    </tr>\n",
       "    <tr>\n",
       "      <th>min</th>\n",
       "      <td>9.000000</td>\n",
       "      <td>3.000000</td>\n",
       "      <td>68.000000</td>\n",
       "      <td>1613.000000</td>\n",
       "      <td>8.000000</td>\n",
       "      <td>70.000000</td>\n",
       "      <td>1.000000</td>\n",
       "    </tr>\n",
       "    <tr>\n",
       "      <th>25%</th>\n",
       "      <td>17.500000</td>\n",
       "      <td>4.000000</td>\n",
       "      <td>104.000000</td>\n",
       "      <td>2223.000000</td>\n",
       "      <td>13.800000</td>\n",
       "      <td>73.000000</td>\n",
       "      <td>1.000000</td>\n",
       "    </tr>\n",
       "    <tr>\n",
       "      <th>50%</th>\n",
       "      <td>23.000000</td>\n",
       "      <td>4.000000</td>\n",
       "      <td>146.000000</td>\n",
       "      <td>2800.000000</td>\n",
       "      <td>15.500000</td>\n",
       "      <td>76.000000</td>\n",
       "      <td>1.000000</td>\n",
       "    </tr>\n",
       "    <tr>\n",
       "      <th>75%</th>\n",
       "      <td>29.000000</td>\n",
       "      <td>8.000000</td>\n",
       "      <td>262.000000</td>\n",
       "      <td>3609.000000</td>\n",
       "      <td>17.100000</td>\n",
       "      <td>79.000000</td>\n",
       "      <td>2.000000</td>\n",
       "    </tr>\n",
       "    <tr>\n",
       "      <th>max</th>\n",
       "      <td>46.600000</td>\n",
       "      <td>8.000000</td>\n",
       "      <td>455.000000</td>\n",
       "      <td>5140.000000</td>\n",
       "      <td>24.800000</td>\n",
       "      <td>82.000000</td>\n",
       "      <td>3.000000</td>\n",
       "    </tr>\n",
       "  </tbody>\n",
       "</table>\n",
       "</div>"
      ],
      "text/plain": [
       "              mpg   cylinders  displacement       weight  acceleration  \\\n",
       "count  397.000000  397.000000    397.000000   397.000000    397.000000   \n",
       "mean    23.515869    5.458438    193.532746  2970.261965     15.555668   \n",
       "std      7.825804    1.701577    104.379583   847.904119      2.749995   \n",
       "min      9.000000    3.000000     68.000000  1613.000000      8.000000   \n",
       "25%     17.500000    4.000000    104.000000  2223.000000     13.800000   \n",
       "50%     23.000000    4.000000    146.000000  2800.000000     15.500000   \n",
       "75%     29.000000    8.000000    262.000000  3609.000000     17.100000   \n",
       "max     46.600000    8.000000    455.000000  5140.000000     24.800000   \n",
       "\n",
       "             year      origin  \n",
       "count  397.000000  397.000000  \n",
       "mean    75.994962    1.574307  \n",
       "std      3.690005    0.802549  \n",
       "min     70.000000    1.000000  \n",
       "25%     73.000000    1.000000  \n",
       "50%     76.000000    1.000000  \n",
       "75%     79.000000    2.000000  \n",
       "max     82.000000    3.000000  "
      ]
     },
     "execution_count": 42,
     "metadata": {},
     "output_type": "execute_result"
    }
   ],
   "source": [
    "auto.describe()"
   ]
  },
  {
   "cell_type": "code",
   "execution_count": 43,
   "metadata": {},
   "outputs": [],
   "source": [
    "mean_prior_mean = auto.mpg.mean()\n",
    "mean_prior_std = auto.mpg.std()"
   ]
  },
  {
   "cell_type": "code",
   "execution_count": 44,
   "metadata": {},
   "outputs": [
    {
     "data": {
      "text/plain": [
       "23.515869017632248"
      ]
     },
     "execution_count": 44,
     "metadata": {},
     "output_type": "execute_result"
    }
   ],
   "source": [
    "mean_prior_mean"
   ]
  },
  {
   "cell_type": "code",
   "execution_count": 46,
   "metadata": {},
   "outputs": [],
   "source": [
    "import pymc3 as pm"
   ]
  },
  {
   "cell_type": "code",
   "execution_count": null,
   "metadata": {},
   "outputs": [],
   "source": [
    "#Construct the prior distributions on the means"
   ]
  },
  {
   "cell_type": "code",
   "execution_count": 47,
   "metadata": {},
   "outputs": [],
   "source": [
    "# create the model instance\n",
    "with pm.Model() as model:\n",
    "\n",
    "    # priors for the mean\n",
    "    usa_mean = pm.Normal(\n",
    "        'usa_mean', mu=mean_prior_mean, sd=mean_prior_std)\n",
    "    asia_mean = pm.Normal(\n",
    "        'asia_mean', mu=mean_prior_mean, sd=mean_prior_std)\n",
    "    europe_mean = pm.Normal(\n",
    "        'europe_mean', mu=mean_prior_mean, sd=mean_prior_std)"
   ]
  },
  {
   "cell_type": "code",
   "execution_count": null,
   "metadata": {},
   "outputs": [],
   "source": [
    "#Priors on standard deviations"
   ]
  },
  {
   "cell_type": "code",
   "execution_count": 48,
   "metadata": {},
   "outputs": [],
   "source": [
    "std_prior_lower = 0.00001\n",
    "std_prior_upper = 100.\n",
    "\n",
    "with model:\n",
    "\n",
    "    # priors for the standard deviations\n",
    "    usa_std = pm.Uniform(\n",
    "        'usa_std', lower=std_prior_lower, upper=std_prior_upper)\n",
    "    asia_std = pm.Uniform(\n",
    "        'asia_std', lower=std_prior_lower, upper=std_prior_upper)\n",
    "    europe_std = pm.Uniform(\n",
    "        'europe_std', lower=std_prior_lower, upper=std_prior_upper)"
   ]
  },
  {
   "cell_type": "code",
   "execution_count": null,
   "metadata": {},
   "outputs": [],
   "source": [
    "#Set up the APM distributions for the groups"
   ]
  },
  {
   "cell_type": "code",
   "execution_count": 52,
   "metadata": {},
   "outputs": [],
   "source": [
    "with model:\n",
    "    # likelihood functions for the age group apms\n",
    "    # the likelihood functions make use of the observed data\n",
    "    # and refer to the prior distributions\n",
    "    usa = pm.Normal('usa_mpg', mu=usa_mean,\n",
    "                        sd=usa_std, observed=usa_mpg)\n",
    "    asia = pm.Normal('asia_mpg', mu=asia_mean,\n",
    "                        sd=asia_std, observed=asia_mpg)\n",
    "    eu = pm.Normal('eu_mpg', mu=europe_mean,\n",
    "                        sd=europe_std, observed=eu_mpg)"
   ]
  },
  {
   "cell_type": "code",
   "execution_count": 53,
   "metadata": {},
   "outputs": [],
   "source": [
    "# Tracking additional metrics"
   ]
  },
  {
   "cell_type": "code",
   "execution_count": 56,
   "metadata": {},
   "outputs": [],
   "source": [
    "with model:\n",
    "    # create deterministic distributions for the parameter differences\n",
    "    diff_of_means = pm.Deterministic('mean_diff', usa_mean - europe_mean)\n",
    "    diff_of_stds = pm.Deterministic('std_diff', usa_std - europe_std)"
   ]
  },
  {
   "cell_type": "code",
   "execution_count": null,
   "metadata": {},
   "outputs": [],
   "source": []
  },
  {
   "cell_type": "code",
   "execution_count": 58,
   "metadata": {},
   "outputs": [
    {
     "name": "stderr",
     "output_type": "stream",
     "text": [
      "Auto-assigning NUTS sampler...\n",
      "Initializing NUTS using jitter+adapt_diag...\n",
      "Multiprocess sampling (4 chains in 4 jobs)\n",
      "NUTS: [europe_std, asia_std, usa_std, europe_mean, asia_mean, usa_mean]\n",
      "Sampling 4 chains: 100%|██████████| 22000/22000 [00:07<00:00, 2820.15draws/s]\n"
     ]
    }
   ],
   "source": [
    "with model:\n",
    "    # create samples from the posterior distribution\n",
    "    trace = pm.sample(5000)"
   ]
  },
  {
   "cell_type": "code",
   "execution_count": 59,
   "metadata": {},
   "outputs": [
    {
     "data": {
      "text/latex": [
       "$$\n",
       "            \\begin{array}{rcl}\n",
       "            \\text{usa_mean} &\\sim & \\text{Normal}(\\mathit{mu}=23.515869017632248,~\\mathit{sigma}=7.825803928946562)\\\\\\text{asia_mean} &\\sim & \\text{Normal}(\\mathit{mu}=23.515869017632248,~\\mathit{sigma}=7.825803928946562)\\\\\\text{europe_mean} &\\sim & \\text{Normal}(\\mathit{mu}=23.515869017632248,~\\mathit{sigma}=7.825803928946562)\\\\\\text{usa_std} &\\sim & \\text{Uniform}(\\mathit{lower}=1e-05,~\\mathit{upper}=100.0)\\\\\\text{asia_std} &\\sim & \\text{Uniform}(\\mathit{lower}=1e-05,~\\mathit{upper}=100.0)\\\\\\text{europe_std} &\\sim & \\text{Uniform}(\\mathit{lower}=1e-05,~\\mathit{upper}=100.0)\\\\\\text{mean_diff} &\\sim & \\text{Deterministic}(\\text{usa_mean},~\\text{europe_mean})\\\\\\text{std_diff} &\\sim & \\text{Deterministic}(\\text{Constant},~\\text{Constant},~\\text{usa_std_interval__},~\\text{Constant},~\\text{Constant},~\\text{Constant},~\\text{europe_std_interval__},~\\text{Constant})\\\\\\text{usa_mpg} &\\sim & \\text{Normal}(\\mathit{mu}=\\text{usa_mean},~\\mathit{sigma}=f(\\text{usa_std}))\\\\\\text{asia_mpg} &\\sim & \\text{Normal}(\\mathit{mu}=\\text{asia_mean},~\\mathit{sigma}=f(\\text{asia_std}))\\\\\\text{eu_mpg} &\\sim & \\text{Normal}(\\mathit{mu}=\\text{europe_mean},~\\mathit{sigma}=f(\\text{europe_std}))\n",
       "            \\end{array}\n",
       "            $$"
      ],
      "text/plain": [
       "<pymc3.model.Model at 0x1c22cab978>"
      ]
     },
     "execution_count": 59,
     "metadata": {},
     "output_type": "execute_result"
    }
   ],
   "source": [
    "model"
   ]
  },
  {
   "cell_type": "code",
   "execution_count": 60,
   "metadata": {},
   "outputs": [
    {
     "data": {
      "image/svg+xml": [
       "<?xml version=\"1.0\" encoding=\"UTF-8\" standalone=\"no\"?>\n",
       "<!DOCTYPE svg PUBLIC \"-//W3C//DTD SVG 1.1//EN\"\n",
       " \"http://www.w3.org/Graphics/SVG/1.1/DTD/svg11.dtd\">\n",
       "<!-- Generated by graphviz version 2.40.1 (20161225.0304)\n",
       " -->\n",
       "<!-- Title: %3 Pages: 1 -->\n",
       "<svg width=\"1134pt\" height=\"155pt\"\n",
       " viewBox=\"0.00 0.00 1134.24 155.00\" xmlns=\"http://www.w3.org/2000/svg\" xmlns:xlink=\"http://www.w3.org/1999/xlink\">\n",
       "<g id=\"graph0\" class=\"graph\" transform=\"scale(1 1) rotate(0) translate(4 151)\">\n",
       "<title>%3</title>\n",
       "<polygon fill=\"#ffffff\" stroke=\"transparent\" points=\"-4,4 -4,-151 1130.2359,-151 1130.2359,4 -4,4\"/>\n",
       "<g id=\"clust1\" class=\"cluster\">\n",
       "<title>cluster248</title>\n",
       "<path fill=\"none\" stroke=\"#000000\" d=\"M184.643,-8C184.643,-8 338.643,-8 338.643,-8 344.643,-8 350.643,-14 350.643,-20 350.643,-20 350.643,-71 350.643,-71 350.643,-77 344.643,-83 338.643,-83 338.643,-83 184.643,-83 184.643,-83 178.643,-83 172.643,-77 172.643,-71 172.643,-71 172.643,-20 172.643,-20 172.643,-14 178.643,-8 184.643,-8\"/>\n",
       "<text text-anchor=\"middle\" x=\"331.643\" y=\"-15.8\" font-family=\"Times,serif\" font-size=\"14.00\" fill=\"#000000\">248</text>\n",
       "</g>\n",
       "<g id=\"clust2\" class=\"cluster\">\n",
       "<title>cluster79</title>\n",
       "<path fill=\"none\" stroke=\"#000000\" d=\"M873.643,-8C873.643,-8 1031.643,-8 1031.643,-8 1037.643,-8 1043.643,-14 1043.643,-20 1043.643,-20 1043.643,-71 1043.643,-71 1043.643,-77 1037.643,-83 1031.643,-83 1031.643,-83 873.643,-83 873.643,-83 867.643,-83 861.643,-77 861.643,-71 861.643,-71 861.643,-20 861.643,-20 861.643,-14 867.643,-8 873.643,-8\"/>\n",
       "<text text-anchor=\"middle\" x=\"1028.143\" y=\"-15.8\" font-family=\"Times,serif\" font-size=\"14.00\" fill=\"#000000\">79</text>\n",
       "</g>\n",
       "<g id=\"clust3\" class=\"cluster\">\n",
       "<title>cluster70</title>\n",
       "<path fill=\"none\" stroke=\"#000000\" d=\"M382.643,-8C382.643,-8 528.643,-8 528.643,-8 534.643,-8 540.643,-14 540.643,-20 540.643,-20 540.643,-71 540.643,-71 540.643,-77 534.643,-83 528.643,-83 528.643,-83 382.643,-83 382.643,-83 376.643,-83 370.643,-77 370.643,-71 370.643,-71 370.643,-20 370.643,-20 370.643,-14 376.643,-8 382.643,-8\"/>\n",
       "<text text-anchor=\"middle\" x=\"525.143\" y=\"-15.8\" font-family=\"Times,serif\" font-size=\"14.00\" fill=\"#000000\">70</text>\n",
       "</g>\n",
       "<!-- europe_std -->\n",
       "<g id=\"node1\" class=\"node\">\n",
       "<title>europe_std</title>\n",
       "<ellipse fill=\"none\" stroke=\"#000000\" cx=\"266.643\" cy=\"-129\" rx=\"91.784\" ry=\"18\"/>\n",
       "<text text-anchor=\"middle\" x=\"266.643\" y=\"-125.3\" font-family=\"Times,serif\" font-size=\"14.00\" fill=\"#000000\">europe_std ~ Uniform</text>\n",
       "</g>\n",
       "<!-- std_diff -->\n",
       "<g id=\"node2\" class=\"node\">\n",
       "<title>std_diff</title>\n",
       "<polygon fill=\"none\" stroke=\"#000000\" points=\"157.143,-75 6.143,-75 6.143,-39 157.143,-39 157.143,-75\"/>\n",
       "<text text-anchor=\"middle\" x=\"81.643\" y=\"-53.3\" font-family=\"Times,serif\" font-size=\"14.00\" fill=\"#000000\">std_diff ~ Deterministic</text>\n",
       "</g>\n",
       "<!-- europe_std&#45;&gt;std_diff -->\n",
       "<g id=\"edge9\" class=\"edge\">\n",
       "<title>europe_std&#45;&gt;std_diff</title>\n",
       "<path fill=\"none\" stroke=\"#000000\" d=\"M225.1254,-112.8418C199.1875,-102.747 165.4717,-89.6252 137.241,-78.6381\"/>\n",
       "<polygon fill=\"#000000\" stroke=\"#000000\" points=\"138.4851,-75.3667 127.8966,-75.0014 135.9463,-81.89 138.4851,-75.3667\"/>\n",
       "</g>\n",
       "<!-- eu_mpg -->\n",
       "<g id=\"node11\" class=\"node\">\n",
       "<title>eu_mpg</title>\n",
       "<ellipse fill=\"#d3d3d3\" stroke=\"#000000\" cx=\"455.643\" cy=\"-57\" rx=\"77.1866\" ry=\"18\"/>\n",
       "<text text-anchor=\"middle\" x=\"455.643\" y=\"-53.3\" font-family=\"Times,serif\" font-size=\"14.00\" fill=\"#000000\">eu_mpg ~ Normal</text>\n",
       "</g>\n",
       "<!-- europe_std&#45;&gt;eu_mpg -->\n",
       "<g id=\"edge5\" class=\"edge\">\n",
       "<title>europe_std&#45;&gt;eu_mpg</title>\n",
       "<path fill=\"none\" stroke=\"#000000\" d=\"M309.0583,-112.8418C337.7346,-101.9175 375.7165,-87.4482 405.8319,-75.9756\"/>\n",
       "<polygon fill=\"#000000\" stroke=\"#000000\" points=\"407.2126,-79.1951 415.3115,-72.3644 404.7206,-72.6537 407.2126,-79.1951\"/>\n",
       "</g>\n",
       "<!-- asia_mean -->\n",
       "<g id=\"node3\" class=\"node\">\n",
       "<title>asia_mean</title>\n",
       "<ellipse fill=\"none\" stroke=\"#000000\" cx=\"860.643\" cy=\"-129\" rx=\"86.3847\" ry=\"18\"/>\n",
       "<text text-anchor=\"middle\" x=\"860.643\" y=\"-125.3\" font-family=\"Times,serif\" font-size=\"14.00\" fill=\"#000000\">asia_mean ~ Normal</text>\n",
       "</g>\n",
       "<!-- asia_mpg -->\n",
       "<g id=\"node10\" class=\"node\">\n",
       "<title>asia_mpg</title>\n",
       "<ellipse fill=\"#d3d3d3\" stroke=\"#000000\" cx=\"952.643\" cy=\"-57\" rx=\"82.5854\" ry=\"18\"/>\n",
       "<text text-anchor=\"middle\" x=\"952.643\" y=\"-53.3\" font-family=\"Times,serif\" font-size=\"14.00\" fill=\"#000000\">asia_mpg ~ Normal</text>\n",
       "</g>\n",
       "<!-- asia_mean&#45;&gt;asia_mpg -->\n",
       "<g id=\"edge3\" class=\"edge\">\n",
       "<title>asia_mean&#45;&gt;asia_mpg</title>\n",
       "<path fill=\"none\" stroke=\"#000000\" d=\"M882.9137,-111.5708C894.692,-102.353 909.3286,-90.8983 922.1464,-80.8669\"/>\n",
       "<polygon fill=\"#000000\" stroke=\"#000000\" points=\"924.5406,-83.4376 930.2586,-74.5182 920.2264,-77.9251 924.5406,-83.4376\"/>\n",
       "</g>\n",
       "<!-- europe_mean -->\n",
       "<g id=\"node4\" class=\"node\">\n",
       "<title>europe_mean</title>\n",
       "<ellipse fill=\"none\" stroke=\"#000000\" cx=\"659.643\" cy=\"-129\" rx=\"96.6831\" ry=\"18\"/>\n",
       "<text text-anchor=\"middle\" x=\"659.643\" y=\"-125.3\" font-family=\"Times,serif\" font-size=\"14.00\" fill=\"#000000\">europe_mean ~ Normal</text>\n",
       "</g>\n",
       "<!-- mean_diff -->\n",
       "<g id=\"node5\" class=\"node\">\n",
       "<title>mean_diff</title>\n",
       "<polygon fill=\"none\" stroke=\"#000000\" points=\"739.143,-75 574.143,-75 574.143,-39 739.143,-39 739.143,-75\"/>\n",
       "<text text-anchor=\"middle\" x=\"656.643\" y=\"-53.3\" font-family=\"Times,serif\" font-size=\"14.00\" fill=\"#000000\">mean_diff ~ Deterministic</text>\n",
       "</g>\n",
       "<!-- europe_mean&#45;&gt;mean_diff -->\n",
       "<g id=\"edge7\" class=\"edge\">\n",
       "<title>europe_mean&#45;&gt;mean_diff</title>\n",
       "<path fill=\"none\" stroke=\"#000000\" d=\"M658.886,-110.8314C658.5651,-103.131 658.1836,-93.9743 657.827,-85.4166\"/>\n",
       "<polygon fill=\"#000000\" stroke=\"#000000\" points=\"661.3236,-85.2589 657.4102,-75.4133 654.3297,-85.5503 661.3236,-85.2589\"/>\n",
       "</g>\n",
       "<!-- europe_mean&#45;&gt;eu_mpg -->\n",
       "<g id=\"edge6\" class=\"edge\">\n",
       "<title>europe_mean&#45;&gt;eu_mpg</title>\n",
       "<path fill=\"none\" stroke=\"#000000\" d=\"M614.3688,-113.0209C582.852,-101.8973 540.7405,-87.0344 507.8133,-75.413\"/>\n",
       "<polygon fill=\"#000000\" stroke=\"#000000\" points=\"508.9447,-72.1008 498.3499,-72.073 506.6149,-78.7017 508.9447,-72.1008\"/>\n",
       "</g>\n",
       "<!-- usa_std -->\n",
       "<g id=\"node6\" class=\"node\">\n",
       "<title>usa_std</title>\n",
       "<ellipse fill=\"none\" stroke=\"#000000\" cx=\"78.643\" cy=\"-129\" rx=\"78.7863\" ry=\"18\"/>\n",
       "<text text-anchor=\"middle\" x=\"78.643\" y=\"-125.3\" font-family=\"Times,serif\" font-size=\"14.00\" fill=\"#000000\">usa_std ~ Uniform</text>\n",
       "</g>\n",
       "<!-- usa_std&#45;&gt;std_diff -->\n",
       "<g id=\"edge10\" class=\"edge\">\n",
       "<title>usa_std&#45;&gt;std_diff</title>\n",
       "<path fill=\"none\" stroke=\"#000000\" d=\"M79.4,-110.8314C79.7209,-103.131 80.1024,-93.9743 80.459,-85.4166\"/>\n",
       "<polygon fill=\"#000000\" stroke=\"#000000\" points=\"83.9564,-85.5503 80.8758,-75.4133 76.9624,-85.2589 83.9564,-85.5503\"/>\n",
       "</g>\n",
       "<!-- usa_mpg -->\n",
       "<g id=\"node9\" class=\"node\">\n",
       "<title>usa_mpg</title>\n",
       "<ellipse fill=\"#d3d3d3\" stroke=\"#000000\" cx=\"261.643\" cy=\"-57\" rx=\"80.6858\" ry=\"18\"/>\n",
       "<text text-anchor=\"middle\" x=\"261.643\" y=\"-53.3\" font-family=\"Times,serif\" font-size=\"14.00\" fill=\"#000000\">usa_mpg ~ Normal</text>\n",
       "</g>\n",
       "<!-- usa_std&#45;&gt;usa_mpg -->\n",
       "<g id=\"edge1\" class=\"edge\">\n",
       "<title>usa_std&#45;&gt;usa_mpg</title>\n",
       "<path fill=\"none\" stroke=\"#000000\" d=\"M118.3513,-113.3771C145.8346,-102.564 182.6131,-88.0937 212.0277,-76.5208\"/>\n",
       "<polygon fill=\"#000000\" stroke=\"#000000\" points=\"213.6725,-79.6349 221.6967,-72.7166 211.1096,-73.1209 213.6725,-79.6349\"/>\n",
       "</g>\n",
       "<!-- usa_mean -->\n",
       "<g id=\"node7\" class=\"node\">\n",
       "<title>usa_mean</title>\n",
       "<ellipse fill=\"none\" stroke=\"#000000\" cx=\"460.643\" cy=\"-129\" rx=\"84.485\" ry=\"18\"/>\n",
       "<text text-anchor=\"middle\" x=\"460.643\" y=\"-125.3\" font-family=\"Times,serif\" font-size=\"14.00\" fill=\"#000000\">usa_mean ~ Normal</text>\n",
       "</g>\n",
       "<!-- usa_mean&#45;&gt;mean_diff -->\n",
       "<g id=\"edge8\" class=\"edge\">\n",
       "<title>usa_mean&#45;&gt;mean_diff</title>\n",
       "<path fill=\"none\" stroke=\"#000000\" d=\"M503.1721,-113.3771C530.9071,-103.1887 567.4804,-89.7536 597.9669,-78.5545\"/>\n",
       "<polygon fill=\"#000000\" stroke=\"#000000\" points=\"599.4525,-81.7375 607.6323,-75.0039 597.0388,-75.1668 599.4525,-81.7375\"/>\n",
       "</g>\n",
       "<!-- usa_mean&#45;&gt;usa_mpg -->\n",
       "<g id=\"edge2\" class=\"edge\">\n",
       "<title>usa_mean&#45;&gt;usa_mpg</title>\n",
       "<path fill=\"none\" stroke=\"#000000\" d=\"M417.463,-113.3771C387.0061,-102.3575 346.0516,-87.5398 313.7729,-75.8611\"/>\n",
       "<polygon fill=\"#000000\" stroke=\"#000000\" points=\"314.6494,-72.4562 304.0551,-72.3451 312.2678,-79.0386 314.6494,-72.4562\"/>\n",
       "</g>\n",
       "<!-- asia_std -->\n",
       "<g id=\"node8\" class=\"node\">\n",
       "<title>asia_std</title>\n",
       "<ellipse fill=\"none\" stroke=\"#000000\" cx=\"1045.643\" cy=\"-129\" rx=\"80.6858\" ry=\"18\"/>\n",
       "<text text-anchor=\"middle\" x=\"1045.643\" y=\"-125.3\" font-family=\"Times,serif\" font-size=\"14.00\" fill=\"#000000\">asia_std ~ Uniform</text>\n",
       "</g>\n",
       "<!-- asia_std&#45;&gt;asia_mpg -->\n",
       "<g id=\"edge4\" class=\"edge\">\n",
       "<title>asia_std&#45;&gt;asia_mpg</title>\n",
       "<path fill=\"none\" stroke=\"#000000\" d=\"M1023.1303,-111.5708C1011.224,-102.353 996.4283,-90.8983 983.4711,-80.8669\"/>\n",
       "<polygon fill=\"#000000\" stroke=\"#000000\" points=\"985.3206,-77.8725 975.2707,-74.5182 981.0354,-83.4075 985.3206,-77.8725\"/>\n",
       "</g>\n",
       "</g>\n",
       "</svg>\n"
      ],
      "text/plain": [
       "<graphviz.dot.Digraph at 0x1c24fa9be0>"
      ]
     },
     "execution_count": 60,
     "metadata": {},
     "output_type": "execute_result"
    }
   ],
   "source": [
    "pm.model_to_graphviz(model)"
   ]
  },
  {
   "cell_type": "code",
   "execution_count": 61,
   "metadata": {},
   "outputs": [
    {
     "data": {
      "text/plain": [
       "5000"
      ]
     },
     "execution_count": 61,
     "metadata": {},
     "output_type": "execute_result"
    }
   ],
   "source": [
    "len(trace)"
   ]
  },
  {
   "cell_type": "code",
   "execution_count": 62,
   "metadata": {},
   "outputs": [
    {
     "data": {
      "text/plain": [
       "{'usa_mean': 20.72001451292209,\n",
       " 'asia_mean': 30.15068099023824,\n",
       " 'europe_mean': 27.881984181226272,\n",
       " 'usa_std_interval__': -2.7136883582961255,\n",
       " 'asia_std_interval__': -2.660638950044942,\n",
       " 'europe_std_interval__': -2.573303586319308,\n",
       " 'usa_std': 6.217054677441935,\n",
       " 'asia_std': 6.53363969902404,\n",
       " 'europe_std': 7.087653736255633,\n",
       " 'mean_diff': -7.161969668304181,\n",
       " 'std_diff': -0.8705990588136983}"
      ]
     },
     "execution_count": 62,
     "metadata": {},
     "output_type": "execute_result"
    }
   ],
   "source": [
    "trace[0]"
   ]
  },
  {
   "cell_type": "markdown",
   "metadata": {},
   "source": []
  },
  {
   "cell_type": "markdown",
   "metadata": {},
   "source": [
    "### 4. Build a regression predicting MPG from predictors of your choice using `pymc3`.\n",
    "\n",
    "You can construct the model at the granular level, or if you prefer use the patsy-formula model syntax (easier). Plot out the posterior distributions of your coefficients for your model.\n",
    "\n",
    "Set up the distributions as in the lesson. For the regression coefficients you can choose normal distributions as a setup."
   ]
  },
  {
   "cell_type": "code",
   "execution_count": null,
   "metadata": {},
   "outputs": [],
   "source": []
  },
  {
   "cell_type": "code",
   "execution_count": null,
   "metadata": {},
   "outputs": [],
   "source": []
  },
  {
   "cell_type": "code",
   "execution_count": null,
   "metadata": {},
   "outputs": [],
   "source": []
  },
  {
   "cell_type": "code",
   "execution_count": null,
   "metadata": {},
   "outputs": [],
   "source": []
  }
 ],
 "metadata": {
  "anaconda-cloud": {},
  "kernelspec": {
   "display_name": "Python 3",
   "language": "python",
   "name": "python3"
  },
  "language_info": {
   "codemirror_mode": {
    "name": "ipython",
    "version": 3
   },
   "file_extension": ".py",
   "mimetype": "text/x-python",
   "name": "python",
   "nbconvert_exporter": "python",
   "pygments_lexer": "ipython3",
   "version": "3.7.3"
  },
  "toc": {
   "base_numbering": 1,
   "nav_menu": {},
   "number_sections": false,
   "sideBar": true,
   "skip_h1_title": true,
   "title_cell": "Table of Contents",
   "title_sidebar": "Contents",
   "toc_cell": false,
   "toc_position": {},
   "toc_section_display": "block",
   "toc_window_display": false
  }
 },
 "nbformat": 4,
 "nbformat_minor": 2
}
