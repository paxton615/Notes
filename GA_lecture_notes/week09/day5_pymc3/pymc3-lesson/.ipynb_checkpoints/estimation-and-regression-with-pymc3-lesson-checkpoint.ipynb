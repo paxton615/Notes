{
 "cells": [
  {
   "cell_type": "markdown",
   "metadata": {},
   "source": [
    "<img src=\"http://imgur.com/1ZcRyrc.png\" style=\"float: left; margin: 20px; height: 55px\">\n",
    "\n",
    "# Bayesian Estimation and Regression with `pymc3`\n",
    "\n",
    "\n",
    "---"
   ]
  },
  {
   "cell_type": "markdown",
   "metadata": {},
   "source": [
    "## Learning Objectives\n",
    "\n",
    "### Core\n",
    "\n",
    "- Know that `pymc3` uses Markov-Chain Monte-Carlo methods to create samples from the posterior distribution\n",
    "- [Conduct a Frequentist hypothesis test using `stats.ttest_ind()` and explain why you reject or fail to reject the null hypothesis](#freq-ttest)\n",
    "- [Conduct a Bayesian hypothesis test with `pymc3`](#priors)\n",
    "- [Conduct Bayesian regression with `pymc3`](#reg)\n",
    "- Copy and paste the code for the `pymc3` model, and understand which parts of the code you need to change to suit your investigation\n",
    "- Interpret the plots/print-outs that you get with `pm.plot_posterior`, `pm.summary`,  `pm.trace_to_dataframe`, and `pm.traceplot`\n",
    "\n",
    "\n",
    "### Target\n",
    "\n",
    "- [Set up a `pymc3` model using a patsy formula](#formula)\n",
    "- Plot different possible regression lines using `pm.glm.plot_posterior_predictive`\n",
    "- Explain the different choices for the distributions used for the priors and likelihoods (uniform and normal in these examples)\n"
   ]
  },
  {
   "cell_type": "markdown",
   "metadata": {},
   "source": [
    "### Lesson Guide\n",
    "- [Introduction](#intro)\n",
    "- [Enter `pymc3`](#pymc3)\n",
    "- [Load the Starcraft data](#data)\n",
    "- [Alternative to t-testing using Bayesian estimation](#ttest)\n",
    "    - [Get the APM values for 19 and 26 year olds](#load)\n",
    "    - [Perform a Frequentist t-test of the mean APM difference between groups](#freq-ttest)\n",
    "    - [Set up a Bayesian model with priors on the mean APMs](#priors)\n",
    "    - [Construct the prior distributions on the means](#construct-priors)\n",
    "    - [Construct the prior distributions on the standard deviations](#std-priors)\n",
    "    - [Set up the APM distributions for the two groups](#apm-dists)\n",
    "    - [Tracking additional metrics](#metrics)\n",
    "    - [Fitting the `pymc3` model](#fit)\n",
    "    - [Plotting the posteriors and metric distributions](#plotting)\n",
    "- [Bayesian regression with `pymc3`](#reg)\n",
    "    - [Set up variables to perform an age vs. APM regression](#age-vs-apm)\n",
    "    - [Set up the Bayesian regression model](#bayes-model)\n",
    "    - [Plot the posteriors using `pm.traceplot`](#traceplot)\n",
    "- [Using a patsy-style formula to specify a `pymc3` model](#formula)\n",
    "- [Conclusions](#conclusions)"
   ]
  },
  {
   "cell_type": "markdown",
   "metadata": {},
   "source": [
    "<a id='intro'></a>\n",
    "## Introduction\n",
    "---\n",
    "\n",
    "With `pymc3` we can perform the Bayesian counterparts of Frequentist models we have studied. In this codealong lesson we will start incrementally: first replacing the Frequentist t-test with Bayesian estimation and then performing a Bayesian regression with a single predictor.\n"
   ]
  },
  {
   "cell_type": "code",
   "execution_count": 2,
   "metadata": {},
   "outputs": [],
   "source": [
    "import matplotlib.pyplot as plt\n",
    "import numpy as np\n",
    "import pandas as pd\n",
    "import seaborn as sns\n",
    "np.set_printoptions(precision=4)\n",
    "pd.set_option('precision', 4)\n",
    "\n",
    "plt.style.use('fivethirtyeight')\n",
    "\n",
    "%matplotlib inline\n",
    "%config InlineBackend.figure_format = 'retina'"
   ]
  },
  {
   "cell_type": "markdown",
   "metadata": {},
   "source": [
    "<a id='pymc3'></a>\n",
    "## Enter `pymc3`\n",
    "---\n",
    "\n",
    "`Pymc3` is the Bayesian modeling package we will be using. It is a powerful and flexible architecture for performing a huge variety of Bayesian analyses. We will only be scratching the surface today."
   ]
  },
  {
   "cell_type": "code",
   "execution_count": 3,
   "metadata": {},
   "outputs": [],
   "source": [
    "import pymc3 as pm"
   ]
  },
  {
   "cell_type": "markdown",
   "metadata": {},
   "source": [
    "<a id='data'></a>\n",
    "### Load the Starcraft dataset\n",
    "---\n",
    "\n",
    "This dataset has records of different player statistics in competitive Starcraft. There are a variety of columns that are described in detail within the `description.txt` file contained inside the `resource-datasets/` folder.\n",
    "\n",
    "For the examples in this lab, we will be using APM (actions per minute) and Age, but you might want to look at other variables as well."
   ]
  },
  {
   "cell_type": "code",
   "execution_count": 4,
   "metadata": {},
   "outputs": [],
   "source": [
    "star = pd.read_csv(\n",
    "    '../../../../resource-datasets/starcraft/SkillCraft1_Dataset.csv')"
   ]
  },
  {
   "cell_type": "code",
   "execution_count": 5,
   "metadata": {},
   "outputs": [
    {
     "data": {
      "text/html": [
       "<div>\n",
       "<style scoped>\n",
       "    .dataframe tbody tr th:only-of-type {\n",
       "        vertical-align: middle;\n",
       "    }\n",
       "\n",
       "    .dataframe tbody tr th {\n",
       "        vertical-align: top;\n",
       "    }\n",
       "\n",
       "    .dataframe thead th {\n",
       "        text-align: right;\n",
       "    }\n",
       "</style>\n",
       "<table border=\"1\" class=\"dataframe\">\n",
       "  <thead>\n",
       "    <tr style=\"text-align: right;\">\n",
       "      <th></th>\n",
       "      <th>GameID</th>\n",
       "      <th>LeagueIndex</th>\n",
       "      <th>Age</th>\n",
       "      <th>HoursPerWeek</th>\n",
       "      <th>TotalHours</th>\n",
       "      <th>APM</th>\n",
       "      <th>SelectByHotkeys</th>\n",
       "      <th>AssignToHotkeys</th>\n",
       "      <th>UniqueHotkeys</th>\n",
       "      <th>MinimapAttacks</th>\n",
       "      <th>MinimapRightClicks</th>\n",
       "      <th>NumberOfPACs</th>\n",
       "      <th>GapBetweenPACs</th>\n",
       "      <th>ActionLatency</th>\n",
       "      <th>ActionsInPAC</th>\n",
       "      <th>TotalMapExplored</th>\n",
       "      <th>WorkersMade</th>\n",
       "      <th>UniqueUnitsMade</th>\n",
       "      <th>ComplexUnitsMade</th>\n",
       "      <th>ComplexAbilitiesUsed</th>\n",
       "    </tr>\n",
       "  </thead>\n",
       "  <tbody>\n",
       "    <tr>\n",
       "      <th>0</th>\n",
       "      <td>52</td>\n",
       "      <td>5</td>\n",
       "      <td>27</td>\n",
       "      <td>10</td>\n",
       "      <td>3000</td>\n",
       "      <td>143.7180</td>\n",
       "      <td>0.0035</td>\n",
       "      <td>0.0002</td>\n",
       "      <td>7</td>\n",
       "      <td>1.0985e-04</td>\n",
       "      <td>0.0004</td>\n",
       "      <td>0.0048</td>\n",
       "      <td>32.6677</td>\n",
       "      <td>40.8673</td>\n",
       "      <td>4.7508</td>\n",
       "      <td>28</td>\n",
       "      <td>0.0014</td>\n",
       "      <td>6</td>\n",
       "      <td>0.0</td>\n",
       "      <td>0.0000e+00</td>\n",
       "    </tr>\n",
       "    <tr>\n",
       "      <th>1</th>\n",
       "      <td>55</td>\n",
       "      <td>5</td>\n",
       "      <td>23</td>\n",
       "      <td>10</td>\n",
       "      <td>5000</td>\n",
       "      <td>129.2322</td>\n",
       "      <td>0.0033</td>\n",
       "      <td>0.0003</td>\n",
       "      <td>4</td>\n",
       "      <td>2.9406e-04</td>\n",
       "      <td>0.0004</td>\n",
       "      <td>0.0043</td>\n",
       "      <td>32.9194</td>\n",
       "      <td>42.3454</td>\n",
       "      <td>4.8434</td>\n",
       "      <td>22</td>\n",
       "      <td>0.0012</td>\n",
       "      <td>5</td>\n",
       "      <td>0.0</td>\n",
       "      <td>2.0757e-04</td>\n",
       "    </tr>\n",
       "    <tr>\n",
       "      <th>2</th>\n",
       "      <td>56</td>\n",
       "      <td>4</td>\n",
       "      <td>30</td>\n",
       "      <td>10</td>\n",
       "      <td>200</td>\n",
       "      <td>69.9612</td>\n",
       "      <td>0.0011</td>\n",
       "      <td>0.0003</td>\n",
       "      <td>4</td>\n",
       "      <td>2.9362e-04</td>\n",
       "      <td>0.0005</td>\n",
       "      <td>0.0029</td>\n",
       "      <td>44.6475</td>\n",
       "      <td>75.3548</td>\n",
       "      <td>4.0430</td>\n",
       "      <td>22</td>\n",
       "      <td>0.0007</td>\n",
       "      <td>6</td>\n",
       "      <td>0.0</td>\n",
       "      <td>1.8876e-04</td>\n",
       "    </tr>\n",
       "    <tr>\n",
       "      <th>3</th>\n",
       "      <td>57</td>\n",
       "      <td>3</td>\n",
       "      <td>19</td>\n",
       "      <td>20</td>\n",
       "      <td>400</td>\n",
       "      <td>107.6016</td>\n",
       "      <td>0.0010</td>\n",
       "      <td>0.0002</td>\n",
       "      <td>1</td>\n",
       "      <td>5.3275e-05</td>\n",
       "      <td>0.0005</td>\n",
       "      <td>0.0038</td>\n",
       "      <td>29.2203</td>\n",
       "      <td>53.7352</td>\n",
       "      <td>4.9155</td>\n",
       "      <td>19</td>\n",
       "      <td>0.0004</td>\n",
       "      <td>7</td>\n",
       "      <td>0.0</td>\n",
       "      <td>3.8358e-04</td>\n",
       "    </tr>\n",
       "    <tr>\n",
       "      <th>4</th>\n",
       "      <td>58</td>\n",
       "      <td>3</td>\n",
       "      <td>32</td>\n",
       "      <td>10</td>\n",
       "      <td>500</td>\n",
       "      <td>122.8908</td>\n",
       "      <td>0.0011</td>\n",
       "      <td>0.0003</td>\n",
       "      <td>2</td>\n",
       "      <td>0.0000e+00</td>\n",
       "      <td>0.0013</td>\n",
       "      <td>0.0024</td>\n",
       "      <td>22.6885</td>\n",
       "      <td>62.0813</td>\n",
       "      <td>9.3740</td>\n",
       "      <td>15</td>\n",
       "      <td>0.0012</td>\n",
       "      <td>4</td>\n",
       "      <td>0.0</td>\n",
       "      <td>1.9254e-05</td>\n",
       "    </tr>\n",
       "  </tbody>\n",
       "</table>\n",
       "</div>"
      ],
      "text/plain": [
       "   GameID  LeagueIndex Age HoursPerWeek TotalHours       APM  SelectByHotkeys  \\\n",
       "0      52            5  27           10       3000  143.7180           0.0035   \n",
       "1      55            5  23           10       5000  129.2322           0.0033   \n",
       "2      56            4  30           10        200   69.9612           0.0011   \n",
       "3      57            3  19           20        400  107.6016           0.0010   \n",
       "4      58            3  32           10        500  122.8908           0.0011   \n",
       "\n",
       "   AssignToHotkeys  UniqueHotkeys  MinimapAttacks  MinimapRightClicks  \\\n",
       "0           0.0002              7      1.0985e-04              0.0004   \n",
       "1           0.0003              4      2.9406e-04              0.0004   \n",
       "2           0.0003              4      2.9362e-04              0.0005   \n",
       "3           0.0002              1      5.3275e-05              0.0005   \n",
       "4           0.0003              2      0.0000e+00              0.0013   \n",
       "\n",
       "   NumberOfPACs  GapBetweenPACs  ActionLatency  ActionsInPAC  \\\n",
       "0        0.0048         32.6677        40.8673        4.7508   \n",
       "1        0.0043         32.9194        42.3454        4.8434   \n",
       "2        0.0029         44.6475        75.3548        4.0430   \n",
       "3        0.0038         29.2203        53.7352        4.9155   \n",
       "4        0.0024         22.6885        62.0813        9.3740   \n",
       "\n",
       "   TotalMapExplored  WorkersMade  UniqueUnitsMade  ComplexUnitsMade  \\\n",
       "0                28       0.0014                6               0.0   \n",
       "1                22       0.0012                5               0.0   \n",
       "2                22       0.0007                6               0.0   \n",
       "3                19       0.0004                7               0.0   \n",
       "4                15       0.0012                4               0.0   \n",
       "\n",
       "   ComplexAbilitiesUsed  \n",
       "0            0.0000e+00  \n",
       "1            2.0757e-04  \n",
       "2            1.8876e-04  \n",
       "3            3.8358e-04  \n",
       "4            1.9254e-05  "
      ]
     },
     "execution_count": 5,
     "metadata": {},
     "output_type": "execute_result"
    }
   ],
   "source": [
    "star.head()"
   ]
  },
  {
   "cell_type": "markdown",
   "metadata": {},
   "source": [
    "<a id='ttest'></a>\n",
    "## Alternative to t-testing using Bayesian estimation\n",
    "---\n",
    "\n",
    "[This example is adapted from the documentation here.](http://pymc-devs.github.io/pymc3/notebooks/BEST.html) \n",
    "\n",
    "> **Note:** In that example the Student t distribution is used instead of the normal distribution like below. This is more appropriate, but more complicated due to the parameterization of the t-distribution. If you're feeling bold try doing this with the t-distribution like in the documentation!\n",
    "\n",
    "In the following code, we will be using Bayesian posterior estimation to look at the difference in APM between 19 year old players and 26 year old players.\n",
    "\n",
    "### The Frequentist strategy\n",
    "\n",
    "In Frequentist statistics, calculating the mean difference between groups is typically done with a t-test. In a t-test we state a null hypothesis (H0) that there is no difference between groups, then evaluate the probability that we could have got this data if the null hypothesis were true.\n",
    "\n",
    "The de-facto standard for statistically comparing two (or more) samples is to use a statistical test. This involves expressing a null hypothesis, which typically claims that there is no difference between the groups, and using a chosen test statistic to determine whether the distribution of the observed data is plausible under the hypothesis. The rejection occurs when the calculated test statistic is higher than some pre-specified threshold value.\n",
    "\n",
    "### The Bayesian strategy\n",
    "\n",
    "The Bayesian approach for evaluating differences between groups is \"estimation\" rather than \"testing\". Instead of asking \"are the two groups different?\", we instead ask \"_how_ different are the two groups?\" This is the subtle difference in estimation as opposed to testing. We are measuring the extent of the difference between the groups, whether it be zero or any other value.\n",
    "\n",
    "For a more detailed treatment read the documentation linked above."
   ]
  },
  {
   "cell_type": "markdown",
   "metadata": {},
   "source": [
    "<a id='load'></a>\n",
    "### Get the APM for 19 and 26 year olds"
   ]
  },
  {
   "cell_type": "code",
   "execution_count": 6,
   "metadata": {},
   "outputs": [],
   "source": [
    "apm19 = star[star.Age == '19'].APM\n",
    "apm26 = star[star.Age == '26'].APM"
   ]
  },
  {
   "cell_type": "code",
   "execution_count": 7,
   "metadata": {},
   "outputs": [
    {
     "name": "stdout",
     "output_type": "stream",
     "text": [
      "(313,) (136,)\n"
     ]
    }
   ],
   "source": [
    "print(apm19.shape, apm26.shape)"
   ]
  },
  {
   "cell_type": "markdown",
   "metadata": {},
   "source": [
    "**Calculate the mean for the two groups and the empirical difference between means.**"
   ]
  },
  {
   "cell_type": "code",
   "execution_count": 8,
   "metadata": {},
   "outputs": [
    {
     "name": "stdout",
     "output_type": "stream",
     "text": [
      "121.68955974440884 104.7418407352942 -16.947719009114635\n"
     ]
    }
   ],
   "source": [
    "print(apm19.mean(), apm26.mean(), apm26.mean()-apm19.mean())"
   ]
  },
  {
   "cell_type": "markdown",
   "metadata": {},
   "source": [
    "<a id='freq-ttest'></a>\n",
    "### Perform a Frequentist t-test of the mean APM difference between groups.\n",
    "\n",
    "What is the null hypothesis? What is the alternative hypothesis?"
   ]
  },
  {
   "cell_type": "markdown",
   "metadata": {
    "collapsed": true
   },
   "source": [
    "- The null hypothesis is that there is no difference between the mean APM.\n",
    "- The alternative hypothesis is that there IS a difference."
   ]
  },
  {
   "cell_type": "code",
   "execution_count": 9,
   "metadata": {},
   "outputs": [],
   "source": [
    "import scipy.stats as stats"
   ]
  },
  {
   "cell_type": "code",
   "execution_count": 10,
   "metadata": {},
   "outputs": [],
   "source": [
    "tt = stats.ttest_ind(apm19, apm26)"
   ]
  },
  {
   "cell_type": "code",
   "execution_count": 11,
   "metadata": {},
   "outputs": [
    {
     "name": "stdout",
     "output_type": "stream",
     "text": [
      "t-statistic:\t 3.5501270512716077\n",
      "p-value:\t 0.00042586927952623034\n"
     ]
    }
   ],
   "source": [
    "print('t-statistic:\\t', tt.statistic)\n",
    "print('p-value:\\t', tt.pvalue)"
   ]
  },
  {
   "cell_type": "markdown",
   "metadata": {},
   "source": [
    "**Plot the t-statistic for the test on the t-distribution.**"
   ]
  },
  {
   "cell_type": "code",
   "execution_count": 12,
   "metadata": {},
   "outputs": [
    {
     "data": {
      "image/png": "[encoded data removed]",
      "text/plain": [
       "<Figure size 360x288 with 1 Axes>"
      ]
     },
     "metadata": {
      "image/png": {
       "height": 244,
       "width": 353
      },
      "needs_background": "light"
     },
     "output_type": "display_data"
    }
   ],
   "source": [
    "zdist = stats.norm(0, 1)\n",
    "xvals = np.linspace(-4, 4, 200)\n",
    "\n",
    "fig, ax = plt.subplots(figsize=(5, 4))\n",
    "ax.plot(xvals, zdist.pdf(xvals), lw=3)\n",
    "ax.axvline(tt.statistic, color='black', ls='dashed', lw=5)\n",
    "plt.show()"
   ]
  },
  {
   "cell_type": "markdown",
   "metadata": {},
   "source": [
    "<a id='priors'></a>\n",
    "### Set up the Bayesian model with priors on mean APMs\n",
    "\n",
    "Next we'll go through the steps of the Bayesian estimation of the difference between means using `pymc3`.\n",
    "\n",
    "First we find the mean and standard deviation of APM regardless of age group. We can  use these values to inform our prior belief about APM."
   ]
  },
  {
   "cell_type": "code",
   "execution_count": 13,
   "metadata": {},
   "outputs": [
    {
     "name": "stdout",
     "output_type": "stream",
     "text": [
      "117.04694709278338 51.94529098683481\n"
     ]
    }
   ],
   "source": [
    "mean_prior_mean = star.APM.mean()\n",
    "mean_prior_std = star.APM.std()\n",
    "\n",
    "print(mean_prior_mean, mean_prior_std)"
   ]
  },
  {
   "cell_type": "markdown",
   "metadata": {},
   "source": [
    "<a id='construct-priors'></a>\n",
    "### Construct the prior distributions on the means\n",
    "\n",
    "> **Note**: `pymc3` sets up models using the Python `with ... :` syntax.\n",
    "\n",
    "The first thing we are going to set up is our prior belief about the mean APM for our 19 year olds and 26 year olds. _These are not fixed values,_ but rather normal distributions covering a range of possible values for the mean APM for each group with varying likelihoods.\n",
    "\n",
    "We are going to set up the normal distributions to both take the overall mean and standard deviation of the actions per minute for all players. In other words, our prior belief for each group's mean APM is the same."
   ]
  },
  {
   "cell_type": "code",
   "execution_count": 14,
   "metadata": {
    "scrolled": false
   },
   "outputs": [],
   "source": [
    "# create the model instance\n",
    "with pm.Model() as model:\n",
    "\n",
    "    # priors for the mean\n",
    "    group19_mean = pm.Normal(\n",
    "        'APM_19yo_mean', mu=mean_prior_mean, sd=mean_prior_std)\n",
    "    group26_mean = pm.Normal(\n",
    "        'APM_26yo_mean', mu=mean_prior_mean, sd=mean_prior_std)"
   ]
  },
  {
   "cell_type": "markdown",
   "metadata": {},
   "source": [
    "<a id='std-priors'></a>\n",
    "### Priors on standard deviations\n",
    "\n",
    "What we set up before are the prior distributions for the _means_ of APM for the two age groups, but we can also set up priors on the standard deviations for APM for each group.\n",
    "\n",
    "Our standard deviation priors can be \"uninformative\": uniformly distributed from close to 0 up to 100. We are saying that we believe all standard deviations in those ranges to be equally likely."
   ]
  },
  {
   "cell_type": "code",
   "execution_count": 15,
   "metadata": {},
   "outputs": [],
   "source": [
    "std_prior_lower = 0.00001\n",
    "std_prior_upper = 100.\n",
    "\n",
    "with model:\n",
    "\n",
    "    # priors for the standard deviations\n",
    "    group19_std = pm.Uniform(\n",
    "        'APM_19yo_std', lower=std_prior_lower, upper=std_prior_upper)\n",
    "    group26_std = pm.Uniform(\n",
    "        'APM_26yo_std', lower=std_prior_lower, upper=std_prior_upper)"
   ]
  },
  {
   "cell_type": "markdown",
   "metadata": {},
   "source": [
    "<a id='apm-dists'></a>\n",
    "### Set up the APM distributions for the two groups\n",
    "\n",
    "Now that we have our prior beliefs about the mean and standard deviation of APM for each age group, we can construct what will be the likelihood functions for \"observing\" the APMs given each group's mean and standard deviation.\n",
    "\n",
    "For each group we set up a `pm.Normal` distribution to represent the likelihood function of APM. The mean `mu=` will stem from our prior belief distribution of the mean for that group. Likewise the `sd=` will stem from the prior distribution for standard deviation of APM for that group. \n",
    "\n",
    "Lastly, we provide the vectors of data for the `observed=` parameter. This is the actual, measured APM data. When we \"fit\" this model (using MCMC or another sampling strategy under the hood), the posterior distributions will be updated according to our prior beliefs and our data – just like in Bayes' formula!"
   ]
  },
  {
   "cell_type": "code",
   "execution_count": 16,
   "metadata": {},
   "outputs": [],
   "source": [
    "with model:\n",
    "    # likelihood functions for the age group apms\n",
    "    # the likelihood functions make use of the observed data\n",
    "    # and refer to the prior distributions\n",
    "    group19 = pm.Normal('APM_19yo', mu=group19_mean,\n",
    "                        sd=group19_std, observed=apm19)\n",
    "    group26 = pm.Normal('APM_26yo', mu=group26_mean,\n",
    "                        sd=group26_std, observed=apm26)"
   ]
  },
  {
   "cell_type": "markdown",
   "metadata": {},
   "source": [
    "<a id='metrics'></a>\n",
    "### Tracking additional metrics\n",
    "\n",
    "The last thing we'll do before fitting the model is define some distributions that will make it easier for us to evaluate the difference between mean APMs of the two groups. \n",
    "\n",
    "`pm.Deterministic` distributions are defined from other distributions in the model. For example, we can set up `diff_of_means` to be defined by `group19_mean - group26_mean`, making this a distribution of the differences between means between groups as the posteriors are iteratively fit/estimated."
   ]
  },
  {
   "cell_type": "code",
   "execution_count": 17,
   "metadata": {},
   "outputs": [],
   "source": [
    "with model:\n",
    "    # create deterministic distributions for the parameter differences\n",
    "    diff_of_means = pm.Deterministic('mean_diff', group19_mean - group26_mean)\n",
    "    diff_of_stds = pm.Deterministic('std_diff', group19_std - group26_std)"
   ]
  },
  {
   "cell_type": "markdown",
   "metadata": {},
   "source": [
    "<a id='fit'></a>\n",
    "### Fitting the `pymc3` model\n",
    "\n",
    "When we call `trace = pm.sample(...)` we are starting a sampling process to estimate the posterior distribution. `Pymc3` defaults to the NUTS sampler. NUTS stands for No U-Turn Sampler and is a state-of-the-art posterior estimation algorithm. Other well-established Markov-Chain-Monte-Carlo (MCMC) algorithms are available.\n",
    "\n",
    "The \"trace\" is a collection of all the values on the posterior distribution \"visited\" during the sampling procedure. The values in the trace define the posterior distribution."
   ]
  },
  {
   "cell_type": "code",
   "execution_count": null,
   "metadata": {},
   "outputs": [
    {
     "name": "stderr",
     "output_type": "stream",
     "text": [
      "Auto-assigning NUTS sampler...\n",
      "Initializing NUTS using jitter+adapt_diag...\n"
     ]
    }
   ],
   "source": [
    "with model:\n",
    "    # create samples from the posterior distribution\n",
    "    trace = pm.sample(5000)"
   ]
  },
  {
   "cell_type": "markdown",
   "metadata": {},
   "source": [
    "### The model that we created"
   ]
  },
  {
   "cell_type": "code",
   "execution_count": null,
   "metadata": {},
   "outputs": [],
   "source": [
    "model"
   ]
  },
  {
   "cell_type": "code",
   "execution_count": null,
   "metadata": {},
   "outputs": [],
   "source": [
    "pm.model_to_graphviz(model)"
   ]
  },
  {
   "cell_type": "markdown",
   "metadata": {},
   "source": [
    "<a id='plotting'></a>\n",
    "### Plotting the posteriors and metric distributions\n",
    "\n",
    "`Pymc3` comes with convenient methods for plotting posteriors. Below we plot our posterior means and standard deviations. The relevant statistics about the distributions are automatically added to the plots.\n",
    "\n",
    "The HPD is the Highest Posterior Density interval. This gives us a Bayesian \"credible interval\" which is the corollary to the Frequentist confidence interval. The 95% HPD says that the 95% highest density points on the distribution fall within that range.\n",
    "\n",
    "**Take a look at the first element of the `trace`:**"
   ]
  },
  {
   "cell_type": "code",
   "execution_count": null,
   "metadata": {},
   "outputs": [],
   "source": [
    "len(trace)"
   ]
  },
  {
   "cell_type": "code",
   "execution_count": null,
   "metadata": {},
   "outputs": [],
   "source": [
    "trace[0]"
   ]
  },
  {
   "cell_type": "code",
   "execution_count": null,
   "metadata": {},
   "outputs": [],
   "source": [
    "trace[1]"
   ]
  },
  {
   "cell_type": "markdown",
   "metadata": {},
   "source": [
    "**Use the `pm.plot_posterior` function to look at the posterior distributions for the group means and standard deviations.**\n",
    "\n",
    "> **Note:** It is common to slice off the initial portion of the trace. This is known as the \"burn-in\". The sampling procedure often starts far away from the correct estimates, and so slicing off the beginning can get rid of the cruft. For that reason, by default, sampling includes 500 initial steps that are discarded. If internal tests indicate that more such steps are needed, you can either increase the values for the parameter `tune` or heuristically discard the first portion of the trace by choosing `trace[500:]` (potentially based on running some tests yourself). It is also common to not take every sample, but skip every two or three. We will not do that here. You can check that doing so virtually makes no difference."
   ]
  },
  {
   "cell_type": "code",
   "execution_count": null,
   "metadata": {},
   "outputs": [],
   "source": [
    "pm.plot_posterior(trace,\n",
    "                  var_names=['APM_19yo_mean', 'APM_26yo_mean',\n",
    "                            'APM_19yo_std', 'APM_26yo_std'])\n",
    "plt.show()"
   ]
  },
  {
   "cell_type": "markdown",
   "metadata": {},
   "source": [
    "**Plot the posteriors of our metric distributions.**"
   ]
  },
  {
   "cell_type": "code",
   "execution_count": null,
   "metadata": {},
   "outputs": [],
   "source": [
    "pm.plot_posterior(trace,\n",
    "                  var_names=['mean_diff', 'std_diff'],\n",
    "                  ref_val=0)\n",
    "plt.show()"
   ]
  },
  {
   "cell_type": "markdown",
   "metadata": {},
   "source": [
    "#### The traceplot shows kernel density estimates of the distributions (left) and how the chains evolve (right)."
   ]
  },
  {
   "cell_type": "code",
   "execution_count": null,
   "metadata": {},
   "outputs": [],
   "source": [
    "pm.traceplot(trace, combined=False)\n",
    "plt.show()"
   ]
  },
  {
   "cell_type": "markdown",
   "metadata": {},
   "source": [
    "#### The `pm.summary` function can also display a representation of this information:"
   ]
  },
  {
   "cell_type": "code",
   "execution_count": null,
   "metadata": {},
   "outputs": [],
   "source": [
    "pm.summary(trace)"
   ]
  },
  {
   "cell_type": "markdown",
   "metadata": {},
   "source": [
    "#### We can collect all the created samples in a dataframe"
   ]
  },
  {
   "cell_type": "code",
   "execution_count": null,
   "metadata": {},
   "outputs": [],
   "source": [
    "pm.trace_to_dataframe(trace).head()"
   ]
  },
  {
   "cell_type": "markdown",
   "metadata": {},
   "source": [
    "<a id='reg'></a>\n",
    "## Bayesian regression with `pymc3`\n",
    "---\n",
    "\n",
    "With `pymc3`, the sky is the limit. Let's move on to something a little more complicated: Bayesian regressions.\n",
    "\n",
    "> *Note: [This example is modeled after the generalized linear model (GLM) instructions in the pymc3 documentation.](http://pymc-devs.github.io/pymc3/notebooks/GLM-linear.html)*\n",
    "\n",
    "What are the benefits of taking a Bayesian approach to regression modeling? Just like in our estimation of means per group, when we perform regression with Bayesian statistics we will get out posterior *distributions* on our intercept and coefficients. \n",
    "\n",
    "This is a big difference from the point estimates coming out of the Frequentist regression: not only do we have the most likely value for the coefficients (the MAP estimates), we can see the range of possibilities given our prior and observed data. \n",
    "\n",
    "---\n",
    "\n",
    "<a id='age-vs-apm'></a>\n",
    "### Set up variables to perform an age vs. APM regression"
   ]
  },
  {
   "cell_type": "code",
   "execution_count": null,
   "metadata": {},
   "outputs": [],
   "source": [
    "star.Age.unique()"
   ]
  },
  {
   "cell_type": "code",
   "execution_count": null,
   "metadata": {},
   "outputs": [],
   "source": [
    "s = star[star.Age != '?']\n",
    "s.loc[:, 'Age'] = s.Age.map(lambda x: float(x)).values"
   ]
  },
  {
   "cell_type": "code",
   "execution_count": null,
   "metadata": {},
   "outputs": [],
   "source": [
    "s.Age.mean()"
   ]
  },
  {
   "cell_type": "code",
   "execution_count": null,
   "metadata": {},
   "outputs": [],
   "source": [
    "s.isnull().sum()"
   ]
  },
  {
   "cell_type": "markdown",
   "metadata": {},
   "source": [
    "#### Plot apm versus age"
   ]
  },
  {
   "cell_type": "code",
   "execution_count": null,
   "metadata": {},
   "outputs": [],
   "source": [
    "s.plot(kind='scatter', x='Age', y='APM', c='#87ceeb', s=60, alpha=0.4)\n",
    "plt.show()"
   ]
  },
  {
   "cell_type": "markdown",
   "metadata": {},
   "source": [
    "<a id='bayes-model'></a>\n",
    "### Setting up the Bayesian regression model\n",
    "\n",
    "Like before, we will construct our model with the `with pm.Model() ...` syntax. \n",
    "\n",
    "We have three prior distributions in this case that will be updated to posteriors given our observed data:\n",
    "\n",
    "1. `apm_std`: which will be our prior belief about the standard deviation of APM values. In this case we are setting it to be uniform (uninformative) between `0.0001`, and `1000.`\n",
    "- `intercept`: a normal distribution for the range of possible values of the intercept.\n",
    "- `age_beta`: a normal distribution for the range of possible values of the age coefficient.\n",
    "\n",
    "We set up a `likelihood` distribution that is also normal, representing the distribution of the data (APM) given our predictor. The mean of the likelihood is defined like a regression formula: our intercept distribution plus the age values times our age beta distribution. We give the `apm_std` uniform prior as the standard deviation. Lastly, the observed values, or data, will be the APM values.\n",
    "\n",
    "What will happen here as we sample from the posterior is that more likely values (as defined by the `mu=` regression-style definition) will be \"visited\" more often. The intercept and age_beta distributions will have more values visited in places where they result in higher likelihood estimates.\n",
    "\n",
    "One could use `pm.find_MAP()` to try to find good starting values for our sampling procedure so that we don't have to run it for as many iterations to get a good posterior representation. With the default NUTS sampler, the default initialization works however better."
   ]
  },
  {
   "cell_type": "code",
   "execution_count": null,
   "metadata": {},
   "outputs": [],
   "source": [
    "apm_age = s[['APM', 'Age']]"
   ]
  },
  {
   "cell_type": "code",
   "execution_count": null,
   "metadata": {},
   "outputs": [],
   "source": [
    "apm_age.describe()"
   ]
  },
  {
   "cell_type": "code",
   "execution_count": null,
   "metadata": {},
   "outputs": [],
   "source": [
    "with pm.Model() as reg:\n",
    "\n",
    "    apm_std = pm.Uniform('error_std', lower=0.0001, upper=1000.)\n",
    "    intercept = pm.Normal('intercept', mu=0, sd=100)\n",
    "    age_beta = pm.Normal('age_beta', mu=0, sd=100)\n",
    "\n",
    "    # apm ~ intercept + age_beta * age\n",
    "    # E[apm]\n",
    "\n",
    "    E_apm = pm.Normal('y_hat',\n",
    "                      mu=intercept + (age_beta * apm_age.Age),\n",
    "                      sd=apm_std,\n",
    "                      observed=apm_age.APM)"
   ]
  },
  {
   "cell_type": "code",
   "execution_count": null,
   "metadata": {},
   "outputs": [],
   "source": [
    "with reg:\n",
    "    trace = pm.sample(5000, tune=1000)"
   ]
  },
  {
   "cell_type": "markdown",
   "metadata": {},
   "source": [
    "<a id='traceplot'></a>\n",
    "### Plot the posteriors using `pm.traceplot`\n",
    "\n",
    "The traceplot function can also plot our posteriors, as well as a graph of the actual traces for each distribution. These traces represent the points visited by the sampling algorithm."
   ]
  },
  {
   "cell_type": "code",
   "execution_count": null,
   "metadata": {},
   "outputs": [],
   "source": [
    "pm.plot_posterior(trace)\n",
    "plt.show()"
   ]
  },
  {
   "cell_type": "code",
   "execution_count": null,
   "metadata": {},
   "outputs": [],
   "source": [
    "# create one of the histograms ourselves\n",
    "plt.hist([trace['intercept']],\n",
    "         bins=20, density=True)\n",
    "plt.show()"
   ]
  },
  {
   "cell_type": "code",
   "execution_count": null,
   "metadata": {},
   "outputs": [],
   "source": [
    "# that is our model\n",
    "reg"
   ]
  },
  {
   "cell_type": "code",
   "execution_count": null,
   "metadata": {},
   "outputs": [],
   "source": [
    "pm.model_to_graphviz(reg)"
   ]
  },
  {
   "cell_type": "code",
   "execution_count": null,
   "metadata": {},
   "outputs": [],
   "source": [
    "# traceplots\n",
    "pm.traceplot(trace)\n",
    "plt.show()"
   ]
  },
  {
   "cell_type": "code",
   "execution_count": null,
   "metadata": {},
   "outputs": [],
   "source": [
    "# result summary\n",
    "pm.summary(trace)"
   ]
  },
  {
   "cell_type": "markdown",
   "metadata": {},
   "source": [
    "<a id='formula'></a>\n",
    "## Setting up a model using a patsy-style formula\n",
    "---\n",
    "\n",
    "`Pymc3` also provides a convenience function `pm.glm.glm(...)` which takes a patsy-style formula definition and the dataframe, then automatically constructs the distributions required to solve the Bayesian regression. Pretty nice."
   ]
  },
  {
   "cell_type": "code",
   "execution_count": null,
   "metadata": {},
   "outputs": [],
   "source": [
    "apm_age.describe()"
   ]
  },
  {
   "cell_type": "code",
   "execution_count": null,
   "metadata": {},
   "outputs": [],
   "source": [
    "# the default setup can run into trouble, in case just try running it again\n",
    "with pm.Model() as reg:\n",
    "    pm.glm.GLM.from_formula('APM ~ Age', apm_age)\n",
    "    trace = pm.sample(10000, tune=2000)"
   ]
  },
  {
   "cell_type": "code",
   "execution_count": null,
   "metadata": {},
   "outputs": [],
   "source": [
    "# our model\n",
    "reg"
   ]
  },
  {
   "cell_type": "code",
   "execution_count": null,
   "metadata": {},
   "outputs": [],
   "source": [
    "pm.model_to_graphviz(reg)"
   ]
  },
  {
   "cell_type": "code",
   "execution_count": null,
   "metadata": {},
   "outputs": [],
   "source": [
    "# posterior distributions\n",
    "pm.plot_posterior(trace)\n",
    "plt.show()"
   ]
  },
  {
   "cell_type": "code",
   "execution_count": null,
   "metadata": {},
   "outputs": [],
   "source": [
    "# trace plots\n",
    "pm.traceplot(trace)\n",
    "plt.show()"
   ]
  },
  {
   "cell_type": "code",
   "execution_count": null,
   "metadata": {},
   "outputs": [],
   "source": [
    "# summary\n",
    "pm.summary(trace)"
   ]
  },
  {
   "cell_type": "code",
   "execution_count": null,
   "metadata": {},
   "outputs": [],
   "source": [
    "# first trace element\n",
    "trace[0]"
   ]
  },
  {
   "cell_type": "markdown",
   "metadata": {},
   "source": [
    "Given our posterior distribution, represented through the trace, and our model, we can sample y-values."
   ]
  },
  {
   "cell_type": "code",
   "execution_count": null,
   "metadata": {},
   "outputs": [],
   "source": [
    "preds = pm.sample_posterior_predictive(trace, model=reg)\n",
    "\n",
    "print(preds['y'].shape)"
   ]
  },
  {
   "cell_type": "markdown",
   "metadata": {},
   "source": [
    "#### Averaging over all samples allows to calculate the usual R2 score:"
   ]
  },
  {
   "cell_type": "code",
   "execution_count": null,
   "metadata": {},
   "outputs": [],
   "source": [
    "from sklearn.metrics import r2_score\n",
    "\n",
    "r2_score(apm_age.APM, preds['y'].mean(axis=0))"
   ]
  },
  {
   "cell_type": "code",
   "execution_count": null,
   "metadata": {},
   "outputs": [],
   "source": [
    "pm.r2_score(apm_age.APM, preds['y'].mean(axis=0), round_to=4).r2_mean"
   ]
  },
  {
   "cell_type": "markdown",
   "metadata": {},
   "source": [
    "> **Note:** The pymc3.r2_score calculates an R2 score adapted for Bayesian modeling which is **not(!)** exactly our usual R2 score."
   ]
  },
  {
   "cell_type": "markdown",
   "metadata": {},
   "source": [
    "#### Lastly, you can plot out different possible regression lines with `pm.glm.plot_posterior_predictive`.\n",
    "\n",
    "This function takes:\n",
    "\n",
    "- the trace (MCMC samples)\n",
    "- the number of samples you want to draw and plot\n",
    "- an `lm=` argument that will be a function defining how the regression line will be fit using an x value and the sample\n",
    "- an `eval=` argument that will be the x-values `lm` is evaluated over"
   ]
  },
  {
   "cell_type": "code",
   "execution_count": null,
   "metadata": {},
   "outputs": [],
   "source": [
    "apm_age.plot(kind='scatter', x='Age', y='APM',\n",
    "             c='#87ceeb', s=60, alpha=0.4, label='data')\n",
    "\n",
    "pm.plot_posterior_predictive_glm(trace,\n",
    "                                 samples=25,\n",
    "                                 lm=lambda x,\n",
    "                                 sample: sample['Intercept'] + sample['Age']*x,\n",
    "                                 eval=apm_age.Age.values,\n",
    "                                 label='posterior predictive regression lines'\n",
    "                                 )\n",
    "\n",
    "plt.title('Posterior predictive regression lines')\n",
    "plt.legend(loc=0)\n",
    "plt.xlabel('Age')\n",
    "plt.ylabel('APM')\n",
    "\n",
    "plt.show()"
   ]
  },
  {
   "cell_type": "markdown",
   "metadata": {},
   "source": [
    "#### Compare to the sklearn result"
   ]
  },
  {
   "cell_type": "code",
   "execution_count": null,
   "metadata": {},
   "outputs": [],
   "source": [
    "from sklearn.linear_model import LinearRegression\n",
    "\n",
    "X = apm_age[['Age']]\n",
    "y = apm_age.APM\n",
    "\n",
    "lr = LinearRegression()\n",
    "lr.fit(X, y)\n",
    "\n",
    "print(lr.intercept_, lr.coef_[0])"
   ]
  },
  {
   "cell_type": "code",
   "execution_count": null,
   "metadata": {},
   "outputs": [],
   "source": [
    "lr.score(X, y)"
   ]
  },
  {
   "cell_type": "markdown",
   "metadata": {
    "collapsed": true
   },
   "source": [
    "<a id='conclusions'></a>\n",
    "## Conclusions\n",
    "\n",
    "We saw how to use pymc3 for Bayesian hypothesis testing and linear regression.\n",
    "The essential points are \n",
    "\n",
    "- set up the models\n",
    "- define some distributions for the prior and likelihood function\n",
    "- run MCMC simulations \n",
    "- obtain the posterior distribution \n",
    "\n",
    "The results are collected in a trace and convenient plotting functions are provided."
   ]
  },
  {
   "cell_type": "markdown",
   "metadata": {},
   "source": [
    "### Additional Resources\n",
    "\n",
    "- [Pymc3 reference](http://docs.pymc.io/index.html)\n",
    "- [John Kruschke: Doing Bayesian Data Analysis](http://www.indiana.edu/~kruschke/DoingBayesianDataAnalysis/)\n",
    "- [Andrew Gelman's blog](http://andrewgelman.com)\n",
    "- [Bayesian Methods for Hackers](https://github.com/CamDavidsonPilon/Probabilistic-Programming-and-Bayesian-Methods-for-Hackers)"
   ]
  },
  {
   "cell_type": "code",
   "execution_count": null,
   "metadata": {},
   "outputs": [],
   "source": []
  },
  {
   "cell_type": "code",
   "execution_count": null,
   "metadata": {},
   "outputs": [],
   "source": []
  },
  {
   "cell_type": "code",
   "execution_count": null,
   "metadata": {},
   "outputs": [],
   "source": []
  },
  {
   "cell_type": "code",
   "execution_count": null,
   "metadata": {},
   "outputs": [],
   "source": []
  },
  {
   "cell_type": "code",
   "execution_count": null,
   "metadata": {},
   "outputs": [],
   "source": []
  },
  {
   "cell_type": "code",
   "execution_count": null,
   "metadata": {},
   "outputs": [],
   "source": []
  },
  {
   "cell_type": "code",
   "execution_count": null,
   "metadata": {},
   "outputs": [],
   "source": []
  }
 ],
 "metadata": {
  "anaconda-cloud": {},
  "kernelspec": {
   "display_name": "Python 3",
   "language": "python",
   "name": "python3"
  },
  "language_info": {
   "codemirror_mode": {
    "name": "ipython",
    "version": 3
   },
   "file_extension": ".py",
   "mimetype": "text/x-python",
   "name": "python",
   "nbconvert_exporter": "python",
   "pygments_lexer": "ipython3",
   "version": "3.7.3"
  },
  "toc": {
   "base_numbering": 1,
   "nav_menu": {},
   "number_sections": false,
   "sideBar": true,
   "skip_h1_title": true,
   "title_cell": "Table of Contents",
   "title_sidebar": "Contents",
   "toc_cell": false,
   "toc_position": {},
   "toc_section_display": "block",
   "toc_window_display": false
  }
 },
 "nbformat": 4,
 "nbformat_minor": 1
}
