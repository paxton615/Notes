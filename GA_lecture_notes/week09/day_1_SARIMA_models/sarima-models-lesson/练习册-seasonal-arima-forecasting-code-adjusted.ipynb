{
 "cells": [
  {
   "cell_type": "markdown",
   "metadata": {},
   "source": [
    "<img src=\"http://imgur.com/1ZcRyrc.png\" style=\"float: left; margin: 20px; height: 55px\">\n",
    "\n",
    "# Seasonal Arima Models\n",
    "---"
   ]
  },
  {
   "cell_type": "markdown",
   "metadata": {},
   "source": [
    "## Learning Objectives\n",
    "---\n",
    "\n",
    "### Core\n",
    "\n",
    "- Plot the decomposition of a timeseries into the components of\n",
    "    - trend \n",
    "    - seasonal pattern\n",
    "    - residuals\n",
    "- Perform seasonal differencing on data\n",
    "- Examine the use of SARIMAX state-space modeling for advanced timeseries forecasting\n",
    "\n",
    "### Target\n",
    "- Produce a diagnostic plot of the residuals\n",
    "\n",
    "### Stretch\n",
    "- Conduct a Dickey-Fuller test for stationarity and plot the results"
   ]
  },
  {
   "cell_type": "markdown",
   "metadata": {
    "toc": true
   },
   "source": [
    "<h1>Lesson Guide<span class=\"tocSkip\"></span></h1>\n",
    "<div class=\"toc\"><ul class=\"toc-item\"><li><span><a href=\"#Learning-Objectives\" data-toc-modified-id=\"Learning-Objectives-1\">Learning Objectives</a></span><ul class=\"toc-item\"><li><span><a href=\"#Core\" data-toc-modified-id=\"Core-1.1\">Core</a></span></li><li><span><a href=\"#Target\" data-toc-modified-id=\"Target-1.2\">Target</a></span></li><li><span><a href=\"#Stretch\" data-toc-modified-id=\"Stretch-1.3\">Stretch</a></span></li></ul></li><li><span><a href=\"#Statsmodels-timeseries-tools\" data-toc-modified-id=\"Statsmodels-timeseries-tools-2\">Statsmodels timeseries tools</a></span></li><li><span><a href=\"#Bus-ridership-data\" data-toc-modified-id=\"Bus-ridership-data-3\">Bus ridership data</a></span><ul class=\"toc-item\"><li><span><a href=\"#Clean-the-data\" data-toc-modified-id=\"Clean-the-data-3.1\">Clean the data</a></span></li><li><span><a href=\"#Create-a-date-index-for-the-data\" data-toc-modified-id=\"Create-a-date-index-for-the-data-3.2\">Create a date index for the data</a></span></li></ul></li><li><span><a href=\"#Plot-the-riders-across-months\" data-toc-modified-id=\"Plot-the-riders-across-months-4\">Plot the riders across months</a></span></li><li><span><a href=\"#Decompose-the-timeseries-and-plot\" data-toc-modified-id=\"Decompose-the-timeseries-and-plot-5\">Decompose the timeseries and plot</a></span><ul class=\"toc-item\"><li><ul class=\"toc-item\"><li><span><a href=\"#Plot-just-the-seasonal-component\" data-toc-modified-id=\"Plot-just-the-seasonal-component-5.0.1\">Plot just the seasonal component</a></span></li></ul></li></ul></li><li><span><a href=\"#Seasonal-ARIMA-(SARIMAX)\" data-toc-modified-id=\"Seasonal-ARIMA-(SARIMAX)-6\">Seasonal ARIMA (SARIMAX)</a></span><ul class=\"toc-item\"><li><ul class=\"toc-item\"><li><span><a href=\"#Ordinary-differencing\" data-toc-modified-id=\"Ordinary-differencing-6.0.1\">Ordinary differencing</a></span></li><li><span><a href=\"#Seasonal-differencing\" data-toc-modified-id=\"Seasonal-differencing-6.0.2\">Seasonal differencing</a></span></li><li><span><a href=\"#Mixtures-of-seasonal-and-ordinary-differencing\" data-toc-modified-id=\"Mixtures-of-seasonal-and-ordinary-differencing-6.0.3\">Mixtures of seasonal and ordinary differencing</a></span></li><li><span><a href=\"#SARIMAX\" data-toc-modified-id=\"SARIMAX-6.0.4\">SARIMAX</a></span></li><li><span><a href=\"#Plot-the-ACF-and-PACF-of-the-residuals\" data-toc-modified-id=\"Plot-the-ACF-and-PACF-of-the-residuals-6.0.5\">Plot the ACF and PACF of the residuals</a></span></li></ul></li><li><span><a href=\"#Forecast-using-the-SARIMAX-model\" data-toc-modified-id=\"Forecast-using-the-SARIMAX-model-6.1\">Forecast using the SARIMAX model</a></span></li><li><span><a href=\"#Force-coefficients-to-zero\" data-toc-modified-id=\"Force-coefficients-to-zero-6.2\">Force coefficients to zero</a></span></li></ul></li><li><span><a href=\"#Dickey-Fuller-test-of-stationarity\" data-toc-modified-id=\"Dickey-Fuller-test-of-stationarity-7\">Dickey-Fuller test of stationarity</a></span><ul class=\"toc-item\"><li><span><a href=\"#Perform-test-on-the-original-timeseries\" data-toc-modified-id=\"Perform-test-on-the-original-timeseries-7.1\">Perform test on the original timeseries</a></span></li><li><span><a href=\"#Perform-test-on-the-first-differenced-timeseries\" data-toc-modified-id=\"Perform-test-on-the-first-differenced-timeseries-7.2\">Perform test on the first-differenced timeseries</a></span></li><li><span><a href=\"#Perform-test-on-the-second-differenced-timeseries\" data-toc-modified-id=\"Perform-test-on-the-second-differenced-timeseries-7.3\">Perform test on the second-differenced timeseries</a></span></li><li><span><a href=\"#Perform-test-on-seasonally-differenced-timeseries\" data-toc-modified-id=\"Perform-test-on-seasonally-differenced-timeseries-7.4\">Perform test on <em>seasonally</em>-differenced timeseries</a></span></li><li><span><a href=\"#Perform-a-test-on-the-first-differenced-seasonally-differenced-timeseries\" data-toc-modified-id=\"Perform-a-test-on-the-first-differenced-seasonally-differenced-timeseries-7.5\">Perform a test on the first differenced seasonally differenced timeseries</a></span></li><li><span><a href=\"#Perform-test-on-the-second-differenced-seasonally-differenced-timeseries\" data-toc-modified-id=\"Perform-test-on-the-second-differenced-seasonally-differenced-timeseries-7.6\">Perform test on the second differenced seasonally differenced timeseries</a></span></li><li><span><a href=\"#Summary-Dickey-Fuller-test\" data-toc-modified-id=\"Summary-Dickey-Fuller-test-7.7\">Summary Dickey-Fuller test</a></span></li></ul></li><li><span><a href=\"#Load-additional-data\" data-toc-modified-id=\"Load-additional-data-8\">Load additional data</a></span></li><li><span><a href=\"#Additional-resources\" data-toc-modified-id=\"Additional-resources-9\">Additional resources</a></span></li></ul></div>"
   ]
  },
  {
   "cell_type": "code",
   "execution_count": 2,
   "metadata": {},
   "outputs": [],
   "source": [
    "import pandas as pd\n",
    "import numpy as np\n",
    "import matplotlib\n",
    "import matplotlib.pyplot as plt\n",
    "import seaborn as sns\n",
    "from scipy import stats\n",
    "\n",
    "sns.set(font_scale=1.5)\n",
    "%config InlineBackend.figure_format = 'retina'\n",
    "%matplotlib inline"
   ]
  },
  {
   "cell_type": "markdown",
   "metadata": {},
   "source": [
    "## Statsmodels timeseries tools\n",
    "---\n",
    "\n",
    "Statsmodels, has a wide variety of reliable timeseries analysis tools. We will start off by loading the autocorrelation and partial autocorrelation functions, as well as a function to decompose timeseries."
   ]
  },
  {
   "cell_type": "code",
   "execution_count": 3,
   "metadata": {},
   "outputs": [],
   "source": [
    "# this will filter out a lot of future warnings from statsmodels\n",
    "import statsmodels.api as sm\n",
    "from statsmodels.tsa.seasonal import seasonal_decompose\n",
    "from statsmodels.graphics.tsaplots import plot_acf, plot_pacf\n",
    "from statsmodels.tsa.stattools import acf, pacf\n",
    "import warnings\n",
    "warnings.simplefilter(action='ignore', category=FutureWarning)"
   ]
  },
  {
   "cell_type": "markdown",
   "metadata": {},
   "source": [
    "## Bus ridership data\n",
    "---\n",
    "\n",
    "We are going to play around with some Portland, OR bus data. Load in the bus data below and check it out."
   ]
  },
  {
   "cell_type": "markdown",
   "metadata": {},
   "source": [
    "### Clean the data"
   ]
  },
  {
   "cell_type": "code",
   "execution_count": null,
   "metadata": {},
   "outputs": [],
   "source": [
    "pwd"
   ]
  },
  {
   "cell_type": "code",
   "execution_count": 4,
   "metadata": {},
   "outputs": [],
   "source": [
    "# data https://datamarket.com/data/set/22w6/portland-oregon-average-monthly-bus-ridership-100-january-1973-through-june-1982-n114#!ds=22w6&display=line\n",
    "bus = pd.read_csv(\n",
    "    '/Users/paxton615/GA/resource-datasets/portland_bus_riders/portland-oregon-average-monthly-.csv', index_col=0)"
   ]
  },
  {
   "cell_type": "code",
   "execution_count": null,
   "metadata": {},
   "outputs": [],
   "source": [
    "bus.tail()"
   ]
  },
  {
   "cell_type": "code",
   "execution_count": 5,
   "metadata": {},
   "outputs": [
    {
     "data": {
      "text/html": [
       "<div>\n",
       "<style scoped>\n",
       "    .dataframe tbody tr th:only-of-type {\n",
       "        vertical-align: middle;\n",
       "    }\n",
       "\n",
       "    .dataframe tbody tr th {\n",
       "        vertical-align: top;\n",
       "    }\n",
       "\n",
       "    .dataframe thead th {\n",
       "        text-align: right;\n",
       "    }\n",
       "</style>\n",
       "<table border=\"1\" class=\"dataframe\">\n",
       "  <thead>\n",
       "    <tr style=\"text-align: right;\">\n",
       "      <th></th>\n",
       "      <th>index</th>\n",
       "      <th>Portland Oregon average monthly bus ridership (/100) January 1973 through June 1982, n=114</th>\n",
       "    </tr>\n",
       "  </thead>\n",
       "  <tbody>\n",
       "    <tr>\n",
       "      <th>0</th>\n",
       "      <td>1960-01</td>\n",
       "      <td>648</td>\n",
       "    </tr>\n",
       "    <tr>\n",
       "      <th>1</th>\n",
       "      <td>1960-02</td>\n",
       "      <td>646</td>\n",
       "    </tr>\n",
       "    <tr>\n",
       "      <th>2</th>\n",
       "      <td>1960-03</td>\n",
       "      <td>639</td>\n",
       "    </tr>\n",
       "    <tr>\n",
       "      <th>3</th>\n",
       "      <td>1960-04</td>\n",
       "      <td>654</td>\n",
       "    </tr>\n",
       "    <tr>\n",
       "      <th>4</th>\n",
       "      <td>1960-05</td>\n",
       "      <td>630</td>\n",
       "    </tr>\n",
       "  </tbody>\n",
       "</table>\n",
       "</div>"
      ],
      "text/plain": [
       "     index  \\\n",
       "0  1960-01   \n",
       "1  1960-02   \n",
       "2  1960-03   \n",
       "3  1960-04   \n",
       "4  1960-05   \n",
       "\n",
       "  Portland Oregon average monthly bus ridership (/100) January 1973 through June 1982, n=114  \n",
       "0                                                648                                          \n",
       "1                                                646                                          \n",
       "2                                                639                                          \n",
       "3                                                654                                          \n",
       "4                                                630                                          "
      ]
     },
     "execution_count": 5,
     "metadata": {},
     "output_type": "execute_result"
    }
   ],
   "source": [
    "bus.index.name = None\n",
    "bus.reset_index(inplace=True)\n",
    "bus.head()"
   ]
  },
  {
   "cell_type": "code",
   "execution_count": 6,
   "metadata": {},
   "outputs": [
    {
     "data": {
      "text/plain": [
       "'Portland Oregon average monthly bus ridership (/100) January 1973 through June 1982'"
      ]
     },
     "execution_count": 6,
     "metadata": {},
     "output_type": "execute_result"
    }
   ],
   "source": [
    "bus.iloc[115]['index']"
   ]
  },
  {
   "cell_type": "code",
   "execution_count": 7,
   "metadata": {},
   "outputs": [
    {
     "data": {
      "text/html": [
       "<div>\n",
       "<style scoped>\n",
       "    .dataframe tbody tr th:only-of-type {\n",
       "        vertical-align: middle;\n",
       "    }\n",
       "\n",
       "    .dataframe tbody tr th {\n",
       "        vertical-align: top;\n",
       "    }\n",
       "\n",
       "    .dataframe thead th {\n",
       "        text-align: right;\n",
       "    }\n",
       "</style>\n",
       "<table border=\"1\" class=\"dataframe\">\n",
       "  <thead>\n",
       "    <tr style=\"text-align: right;\">\n",
       "      <th></th>\n",
       "      <th>index</th>\n",
       "      <th>Portland Oregon average monthly bus ridership (/100) January 1973 through June 1982, n=114</th>\n",
       "    </tr>\n",
       "  </thead>\n",
       "  <tbody>\n",
       "    <tr>\n",
       "      <th>111</th>\n",
       "      <td>1969-04</td>\n",
       "      <td>1432</td>\n",
       "    </tr>\n",
       "    <tr>\n",
       "      <th>112</th>\n",
       "      <td>1969-05</td>\n",
       "      <td>1394</td>\n",
       "    </tr>\n",
       "    <tr>\n",
       "      <th>113</th>\n",
       "      <td>1969-06</td>\n",
       "      <td>1327</td>\n",
       "    </tr>\n",
       "    <tr>\n",
       "      <th>114</th>\n",
       "      <td>NaN</td>\n",
       "      <td>NaN</td>\n",
       "    </tr>\n",
       "    <tr>\n",
       "      <th>115</th>\n",
       "      <td>Portland Oregon average monthly bus ridership ...</td>\n",
       "      <td>n=114</td>\n",
       "    </tr>\n",
       "  </tbody>\n",
       "</table>\n",
       "</div>"
      ],
      "text/plain": [
       "                                                 index  \\\n",
       "111                                            1969-04   \n",
       "112                                            1969-05   \n",
       "113                                            1969-06   \n",
       "114                                                NaN   \n",
       "115  Portland Oregon average monthly bus ridership ...   \n",
       "\n",
       "    Portland Oregon average monthly bus ridership (/100) January 1973 through June 1982, n=114  \n",
       "111                                               1432                                          \n",
       "112                                               1394                                          \n",
       "113                                               1327                                          \n",
       "114                                                NaN                                          \n",
       "115                                              n=114                                          "
      ]
     },
     "execution_count": 7,
     "metadata": {},
     "output_type": "execute_result"
    }
   ],
   "source": [
    "bus.tail()"
   ]
  },
  {
   "cell_type": "markdown",
   "metadata": {},
   "source": [
    "There are a couple of bad rows. Get rid of them."
   ]
  },
  {
   "cell_type": "code",
   "execution_count": 8,
   "metadata": {},
   "outputs": [],
   "source": [
    "bus.drop([114, 115], inplace=True, axis=0)"
   ]
  },
  {
   "cell_type": "markdown",
   "metadata": {},
   "source": [
    "Rename the columns and make the riders column an integer:"
   ]
  },
  {
   "cell_type": "code",
   "execution_count": 9,
   "metadata": {},
   "outputs": [
    {
     "data": {
      "text/plain": [
       "0    648\n",
       "1    646\n",
       "2    639\n",
       "3    654\n",
       "4    630\n",
       "Name: riders, dtype: int64"
      ]
     },
     "execution_count": 9,
     "metadata": {},
     "output_type": "execute_result"
    }
   ],
   "source": [
    "bus.columns = ['date', 'riders']\n",
    "\n",
    "bus['riders'] = bus.riders.apply(lambda x: int(x))\n",
    "bus.riders.head()"
   ]
  },
  {
   "cell_type": "markdown",
   "metadata": {},
   "source": [
    "### Create a date index for the data"
   ]
  },
  {
   "cell_type": "code",
   "execution_count": 10,
   "metadata": {},
   "outputs": [],
   "source": [
    "bus.index = pd.date_range(start='01/01/1973', end='30/06/1982', freq='M')\n",
    "bus.drop(['date'], axis=1, inplace=True)"
   ]
  },
  {
   "cell_type": "code",
   "execution_count": 11,
   "metadata": {},
   "outputs": [
    {
     "name": "stdout",
     "output_type": "stream",
     "text": [
      "114\n"
     ]
    }
   ],
   "source": [
    "print(len(bus.index))"
   ]
  },
  {
   "cell_type": "code",
   "execution_count": 12,
   "metadata": {},
   "outputs": [
    {
     "data": {
      "text/html": [
       "<div>\n",
       "<style scoped>\n",
       "    .dataframe tbody tr th:only-of-type {\n",
       "        vertical-align: middle;\n",
       "    }\n",
       "\n",
       "    .dataframe tbody tr th {\n",
       "        vertical-align: top;\n",
       "    }\n",
       "\n",
       "    .dataframe thead th {\n",
       "        text-align: right;\n",
       "    }\n",
       "</style>\n",
       "<table border=\"1\" class=\"dataframe\">\n",
       "  <thead>\n",
       "    <tr style=\"text-align: right;\">\n",
       "      <th></th>\n",
       "      <th>riders</th>\n",
       "    </tr>\n",
       "  </thead>\n",
       "  <tbody>\n",
       "    <tr>\n",
       "      <th>1973-01-31</th>\n",
       "      <td>648</td>\n",
       "    </tr>\n",
       "    <tr>\n",
       "      <th>1973-02-28</th>\n",
       "      <td>646</td>\n",
       "    </tr>\n",
       "    <tr>\n",
       "      <th>1973-03-31</th>\n",
       "      <td>639</td>\n",
       "    </tr>\n",
       "    <tr>\n",
       "      <th>1973-04-30</th>\n",
       "      <td>654</td>\n",
       "    </tr>\n",
       "    <tr>\n",
       "      <th>1973-05-31</th>\n",
       "      <td>630</td>\n",
       "    </tr>\n",
       "  </tbody>\n",
       "</table>\n",
       "</div>"
      ],
      "text/plain": [
       "            riders\n",
       "1973-01-31     648\n",
       "1973-02-28     646\n",
       "1973-03-31     639\n",
       "1973-04-30     654\n",
       "1973-05-31     630"
      ]
     },
     "execution_count": 12,
     "metadata": {},
     "output_type": "execute_result"
    }
   ],
   "source": [
    "bus.head()"
   ]
  },
  {
   "cell_type": "code",
   "execution_count": 13,
   "metadata": {},
   "outputs": [],
   "source": [
    "bus['riders'] = bus.riders / bus.index.map(lambda x: pd.Period(x, freq='M').daysinmonth)"
   ]
  },
  {
   "cell_type": "code",
   "execution_count": 14,
   "metadata": {},
   "outputs": [
    {
     "data": {
      "text/html": [
       "<div>\n",
       "<style scoped>\n",
       "    .dataframe tbody tr th:only-of-type {\n",
       "        vertical-align: middle;\n",
       "    }\n",
       "\n",
       "    .dataframe tbody tr th {\n",
       "        vertical-align: top;\n",
       "    }\n",
       "\n",
       "    .dataframe thead th {\n",
       "        text-align: right;\n",
       "    }\n",
       "</style>\n",
       "<table border=\"1\" class=\"dataframe\">\n",
       "  <thead>\n",
       "    <tr style=\"text-align: right;\">\n",
       "      <th></th>\n",
       "      <th>riders</th>\n",
       "    </tr>\n",
       "  </thead>\n",
       "  <tbody>\n",
       "    <tr>\n",
       "      <th>1973-01-31</th>\n",
       "      <td>20.903226</td>\n",
       "    </tr>\n",
       "    <tr>\n",
       "      <th>1973-02-28</th>\n",
       "      <td>23.071429</td>\n",
       "    </tr>\n",
       "    <tr>\n",
       "      <th>1973-03-31</th>\n",
       "      <td>20.612903</td>\n",
       "    </tr>\n",
       "    <tr>\n",
       "      <th>1973-04-30</th>\n",
       "      <td>21.800000</td>\n",
       "    </tr>\n",
       "    <tr>\n",
       "      <th>1973-05-31</th>\n",
       "      <td>20.322581</td>\n",
       "    </tr>\n",
       "  </tbody>\n",
       "</table>\n",
       "</div>"
      ],
      "text/plain": [
       "               riders\n",
       "1973-01-31  20.903226\n",
       "1973-02-28  23.071429\n",
       "1973-03-31  20.612903\n",
       "1973-04-30  21.800000\n",
       "1973-05-31  20.322581"
      ]
     },
     "execution_count": 14,
     "metadata": {},
     "output_type": "execute_result"
    }
   ],
   "source": [
    "bus.head() #得到每个月每日平均用车人数"
   ]
  },
  {
   "cell_type": "code",
   "execution_count": 15,
   "metadata": {},
   "outputs": [
    {
     "data": {
      "text/plain": [
       "Int64Index([31, 28, 31, 30, 31, 30, 31, 31, 30, 31,\n",
       "            ...\n",
       "            30, 31, 30, 31, 31, 28, 31, 30, 31, 30],\n",
       "           dtype='int64', length=114)"
      ]
     },
     "execution_count": 15,
     "metadata": {},
     "output_type": "execute_result"
    }
   ],
   "source": [
    "bus.index.map(lambda x: pd.Period(x, freq='M').daysinmonth)"
   ]
  },
  {
   "cell_type": "markdown",
   "metadata": {},
   "source": [
    "## Plot the riders across months\n",
    "---\n",
    "\n",
    "We can look at the raw ridership data first."
   ]
  },
  {
   "cell_type": "code",
   "execution_count": 16,
   "metadata": {},
   "outputs": [
    {
     "data": {
      "image/png": "[encoded data removed]",
      "text/plain": [
       "<Figure size 576x288 with 1 Axes>"
      ]
     },
     "metadata": {
      "image/png": {
       "height": 273,
       "width": 485
      },
      "needs_background": "light"
     },
     "output_type": "display_data"
    }
   ],
   "source": [
    "bus.riders.plot(\n",
    "    figsize=(8, 4), title='Monthly Ridership (dayly average)', fontsize=14)\n",
    "plt.show()"
   ]
  },
  {
   "cell_type": "markdown",
   "metadata": {},
   "source": [
    "## Decompose the timeseries and plot\n",
    "---\n",
    "\n",
    "Using the `seasonal_decompose` function, we can break the timeseries into its constituent parts.\n",
    "\n",
    "Use the function on the riders data with a frequency of 12, then plot the data.\n",
    "\n",
    "> **Hint:** The decomposition object from `seasonal_decompose` has a `.plot` function like for pandas dataframes"
   ]
  },
  {
   "cell_type": "code",
   "execution_count": null,
   "metadata": {},
   "outputs": [],
   "source": [
    "decomposition = seasonal_decompose(bus.riders, freq=12)\n",
    "fig = decomposition.plot()\n",
    "fig.set_size_inches(12, 6)\n",
    "plt.show()"
   ]
  },
  {
   "cell_type": "markdown",
   "metadata": {
    "collapsed": true
   },
   "source": [
    "#### Plot just the seasonal component"
   ]
  },
  {
   "cell_type": "code",
   "execution_count": null,
   "metadata": {},
   "outputs": [],
   "source": [
    "# grab just one graphic doing the following:\n",
    "decomposition.seasonal.plot(figsize=(8, 2))\n",
    "plt.show()"
   ]
  },
  {
   "cell_type": "markdown",
   "metadata": {},
   "source": [
    "## Seasonal ARIMA (SARIMAX)\n",
    "---\n",
    "\n",
    "Apparently we have a strong trend component which leads to a long time of fairly linear increase leveling off at later times. Additionally we do have some periodic pattern even though this is much less pronounced than the trend component.\n",
    "\n",
    "The trend component implies that we will have to take some differencing step to reach stationarity.\n",
    "\n",
    "An annual seasonal effect means that it would be good to include information from lags one or two years preceding in our ARIMA model. We could easily do that by modeling on all lags up to two years ago - ultimately ending up with a model that includes more than twenty parameters even though we have little more than 100 observations.\n",
    "\n",
    "SARIMA models try to include this information in a more economic way by modeling on the lags at seasonal distance, but not on those in between. In this way we can keep the number of coefficients low.\n",
    "\n",
    "We are going to use the statsmodels [SARIMAX model](http://www.statsmodels.org/dev/generated/statsmodels.tsa.statespace.sarimax.SARIMAX.html) which is an advanced state space model that allows us to build a Seasonal ARIMA model and also to take into account the effects of other predictors.\n",
    "\n",
    "The granular details of SARIMAX are beyond the scope of this walkthrough, but we can build a model and use it to forecast as an example of the powerful timeseries analysis capabilities that statsmodels contains.\n",
    "\n",
    "SARIMAX has the possibility to include certain lags into our model and forcing the coefficients of others to zero. For this reason, this implementation is also an enhanced version for fitting non-seasonal ARIMA models.\n",
    "\n",
    "SARIMA models are indicated as being of the form\n",
    "\n",
    "$$(p,d,q)\\times(p_S,d_S,q_S,S)$$\n",
    "\n",
    "The first triple indicates the usual ARIMA model. The second set of numbers indicates on how many lags of observations and noise terms at lag distance $S$ one models and how many seasonal differencing steps are taken.\n",
    "\n",
    "Let's first clarify the role of the differencing steps. As before, they serve to obtain stationarity."
   ]
  },
  {
   "cell_type": "markdown",
   "metadata": {},
   "source": [
    "#### Ordinary differencing\n",
    "\n",
    "That is what we used before."
   ]
  },
  {
   "cell_type": "code",
   "execution_count": null,
   "metadata": {},
   "outputs": [],
   "source": [
    "bus.head()"
   ]
  },
  {
   "cell_type": "code",
   "execution_count": null,
   "metadata": {},
   "outputs": [],
   "source": [
    "# first difference, d=1, d_S=0\n",
    "bus['first_difference'] = bus.riders.diff()\n",
    "# second difference, d=2, d_S=0\n",
    "bus['second_difference'] = bus.riders.diff().diff()"
   ]
  },
  {
   "cell_type": "code",
   "execution_count": null,
   "metadata": {},
   "outputs": [],
   "source": [
    "bus.riders.diff().diff().head()"
   ]
  },
  {
   "cell_type": "code",
   "execution_count": null,
   "metadata": {},
   "outputs": [],
   "source": [
    "bus.riders.diff(2).head()"
   ]
  },
  {
   "cell_type": "markdown",
   "metadata": {},
   "source": [
    "#### Seasonal differencing\n",
    "\n",
    "We can now model on a seasonally differenced time series."
   ]
  },
  {
   "cell_type": "code",
   "execution_count": null,
   "metadata": {},
   "outputs": [],
   "source": [
    "# seasonal difference, d=0, d_S=1\n",
    "bus['seasonal_difference'] = bus.riders - bus.riders.shift(12)"
   ]
  },
  {
   "cell_type": "markdown",
   "metadata": {},
   "source": [
    "#### Mixtures of seasonal and ordinary differencing\n",
    "\n",
    "We can mix both. The order does not matter."
   ]
  },
  {
   "cell_type": "code",
   "execution_count": null,
   "metadata": {},
   "outputs": [],
   "source": [
    "# first and seasonal difference, d=1, d_S=1\n",
    "bus['seasonal_first_difference'] = (\n",
    "    bus.riders.diff() - bus.riders.diff().shift(12))\n",
    "# seasonal and first difference, d=1, d_S=1\n",
    "bus['seasonal_first_difference'] = (bus.riders - bus.riders.shift(12)).diff()\n",
    "# seasonal and second difference , d=2, d_S=1\n",
    "bus['seasonal_second_difference'] = (\n",
    "    bus.riders - bus.riders.shift(12)).diff().diff()"
   ]
  },
  {
   "cell_type": "markdown",
   "metadata": {},
   "source": [
    "#### SARIMAX\n",
    "\n",
    "Let's fit a particular combination."
   ]
  },
  {
   "cell_type": "code",
   "execution_count": null,
   "metadata": {},
   "outputs": [],
   "source": [
    "data = bus.riders\n",
    "model = sm.tsa.statespace.SARIMAX(data,\n",
    "                                  order=(1, 2, 1),\n",
    "                                  seasonal_order=(1, 1, 1, 12))\n",
    "results = model.fit(maxiter=10000)\n",
    "results.summary()"
   ]
  },
  {
   "cell_type": "markdown",
   "metadata": {},
   "source": [
    "#### Plot the ACF and PACF of the residuals\n",
    "\n",
    "The SARIMA object includes the residual plots that we had to create by hand for the ARIMA model.\n",
    "\n",
    "What should we be expecting from the ACF and PACF of our residuals if the model is good?"
   ]
  },
  {
   "cell_type": "code",
   "execution_count": null,
   "metadata": {},
   "outputs": [],
   "source": [
    "results.plot_diagnostics(figsize=(12, 8))\n",
    "plt.tight_layout()\n",
    "plt.show()"
   ]
  },
  {
   "cell_type": "markdown",
   "metadata": {},
   "source": [
    "### Forecast using the SARIMAX model\n",
    "\n",
    "Statsmodels result objects from SARIMAX have a `.forecast` function that can use the state space model to predict future timepoints.\n",
    "\n",
    "Forecast additional timepoints and plot them."
   ]
  },
  {
   "cell_type": "code",
   "execution_count": null,
   "metadata": {},
   "outputs": [],
   "source": [
    "# forecasting\n",
    "start_p = 50\n",
    "\n",
    "# two equivalent ways for getting non-dynamical forecasts\n",
    "#preds = results.forecast(50)\n",
    "preds = results.predict(start=0, end=len(data)+50, dynamic=False)\n",
    "\n",
    "preds_dyn = results.predict(start=len(data)-start_p,\n",
    "                            end=len(data)+50, dynamic=True)\n",
    "fcast = pd.concat([data, preds])\n",
    "fcast_1 = pd.concat([data[:len(data)-start_p], preds_dyn])\n",
    "\n",
    "\n",
    "plt.figure()\n",
    "plt.plot(data, 'bo', preds, 'g--', preds_dyn, 'r-.')\n",
    "plt.legend(['data', 'non-dynamical forecasting', 'dynamical forecasting'])\n",
    "plt.show()"
   ]
  },
  {
   "cell_type": "markdown",
   "metadata": {},
   "source": [
    "To evaluate the one-step ahead forecasts, it is better to discard the first few predictions as there are not yet values to predict those."
   ]
  },
  {
   "cell_type": "code",
   "execution_count": null,
   "metadata": {},
   "outputs": [],
   "source": [
    "from sklearn.metrics import r2_score, mean_squared_error"
   ]
  },
  {
   "cell_type": "code",
   "execution_count": null,
   "metadata": {},
   "outputs": [],
   "source": [
    "fig, ax = plt.subplots(ncols=2, figsize=(12, 4))\n",
    "ax[0].plot([mean_squared_error(data[i:], preds[i:len(data)])\n",
    "            for i in range(10)])\n",
    "ax[0].set_title('MSE')\n",
    "ax[1].plot([r2_score(data[i:], preds[i:len(data)]) for i in range(10)])\n",
    "ax[1].set_title('R2')\n",
    "plt.show()"
   ]
  },
  {
   "cell_type": "markdown",
   "metadata": {},
   "source": [
    "### Force coefficients to zero\n",
    "\n",
    "Instead of simply indicating orders $p$ and $q$, we can pass for each parameter a list of binary values indicating which lag to include and which one to exclude. That is also very convenient for pure ARIMA models.\n",
    "\n",
    "(In this case, this is not a model improvement.)"
   ]
  },
  {
   "cell_type": "code",
   "execution_count": null,
   "metadata": {},
   "outputs": [],
   "source": [
    "model = sm.tsa.statespace.SARIMAX(data,\n",
    "                                  order=((0, 1, 0, 1), 1, (0, 1)),\n",
    "                                  seasonal_order=(1, 1, 1, 12))\n",
    "results = model.fit()\n",
    "results.summary()"
   ]
  },
  {
   "cell_type": "code",
   "execution_count": null,
   "metadata": {},
   "outputs": [],
   "source": [
    "model = sm.tsa.statespace.SARIMAX(data,\n",
    "                                  order=(1, 1, 0)  # ,\n",
    "                                  # seasonal_order=(1,0,1,12)\n",
    "                                  )\n",
    "results = model.fit()\n",
    "results.summary()"
   ]
  },
  {
   "cell_type": "code",
   "execution_count": null,
   "metadata": {},
   "outputs": [],
   "source": [
    "model = sm.tsa.statespace.SARIMAX(data,\n",
    "                                  order=(0, 0, 0),\n",
    "                                  seasonal_order=(1, 1, 0, 12)\n",
    "                                  )\n",
    "results = model.fit()\n",
    "results.summary()"
   ]
  },
  {
   "cell_type": "markdown",
   "metadata": {},
   "source": [
    "## Dickey-Fuller test of stationarity\n",
    "---\n",
    "\n",
    "Now we have many different options for performing differencing. Having reached stationarity can be judged in similar ways as before by eye inspection. However, a statistical test might give a more informed statement. We can use the \n",
    "[(augmented) Dickey-Fuller test of stationarity](https://en.wikipedia.org/wiki/Augmented_Dickey%E2%80%93Fuller_test) to evaluate whether or not the timeseries is stationary.\n"
   ]
  },
  {
   "cell_type": "code",
   "execution_count": null,
   "metadata": {},
   "outputs": [],
   "source": [
    "# define Dickey-Fuller test\n",
    "from statsmodels.tsa.stattools import adfuller\n",
    "\n",
    "\n",
    "def test_stationarity(timeseries, maxlag=30, regression='c', autolag='AIC'):\n",
    "    '''Perform Dickey-Fuller test and print out results'''\n",
    "\n",
    "    print('Results of Dickey-Fuller Test:')\n",
    "    dftest = adfuller(timeseries, maxlag=maxlag,\n",
    "                      regression=regression, autolag=autolag)\n",
    "    dfoutput = pd.Series(dftest[0:4], index=[\n",
    "                         'Test Statistic', 'p-value', '#Lags Used', 'Number of Observations Used'])\n",
    "    for key, value in list(dftest[4].items()):\n",
    "        dfoutput['Critical Value (%s)' % key] = value\n",
    "    print(dfoutput)\n",
    "\n",
    "\n",
    "def rolling(timeseries, window=12, center=True, figsize=(12, 8)):\n",
    "    '''\n",
    "    Plot original timeseries, \n",
    "    rolling mean over given window size and rolling \n",
    "    mean plus/minus standard deviation\n",
    "    '''\n",
    "\n",
    "    rolmean = timeseries.rolling(window=window, center=center).mean()\n",
    "    rolstd = timeseries.rolling(window=window, center=center).std()\n",
    "\n",
    "    # Plot rolling statistics:\n",
    "    fig = plt.figure(figsize=figsize)\n",
    "    orig = plt.plot(timeseries, color='blue', label='Original')\n",
    "    mean = plt.plot(rolmean, color='red', label='Rolling Mean')\n",
    "    std_plus = plt.plot(rolmean+rolstd, color='red', ls='--',\n",
    "                        label='Rolling Mean +/- Rolling Std')\n",
    "    std_minus = plt.plot(rolmean-rolstd, color='red', ls='--', label='')\n",
    "    plt.legend(loc='best')\n",
    "    plt.title('Rolling Mean & Standard Deviation')\n",
    "    plt.show()\n",
    "\n",
    "def autocorrelation_plot(y, lags=20, alpha=0.05):\n",
    "    \"\"\"\n",
    "    Plot autocorrelations and partial autocorrelations\n",
    "    Arguments:\n",
    "    y: Time series\n",
    "    lags: Number of lags to plot\n",
    "    alpha: Confidence level for random noise\n",
    "    \"\"\"\n",
    "\n",
    "    se = stats.norm().ppf(1-alpha/2)/np.sqrt(len(y))\n",
    "\n",
    "    fig, ax = plt.subplots(ncols=2, figsize=(12, 4), sharey=True)\n",
    "\n",
    "    plot_acf(y, lags=lags, alpha=alpha, ax=ax[0])\n",
    "    ax[0].hlines(np.array([-1, 1])*se, 1, lags, linestyles='--', lw=1)\n",
    "\n",
    "    plot_pacf(y, lags=lags, alpha=alpha, ax=ax[1], method='ywmle')\n",
    "    ax[1].hlines(np.array([-1, 1])*se, 1, lags, linestyles='--', lw=1)\n",
    "    plt.show()\n",
    "\n",
    "def test_and_vis(timeseries):\n",
    "    '''\n",
    "    Perform Dickey-Fuller test, \n",
    "    plot timeseries with rolling mean and autocorrelations\n",
    "    '''\n",
    "    test_stationarity(timeseries.dropna())\n",
    "    rolling(timeseries)\n",
    "    autocorrelation_plot(timeseries.dropna())"
   ]
  },
  {
   "cell_type": "markdown",
   "metadata": {},
   "source": [
    "<a id=\"perform-test-on-the-original-timeseries\"></a>\n",
    "### Perform test on the original timeseries"
   ]
  },
  {
   "cell_type": "code",
   "execution_count": null,
   "metadata": {},
   "outputs": [],
   "source": [
    "test_and_vis(bus.riders)"
   ]
  },
  {
   "cell_type": "markdown",
   "metadata": {},
   "source": [
    "<a id=\"perform-test-on-the-first-differenced-timeseries\"></a>\n",
    "### Perform test on the first-differenced timeseries"
   ]
  },
  {
   "cell_type": "code",
   "execution_count": null,
   "metadata": {},
   "outputs": [],
   "source": [
    "test_and_vis(bus.first_difference)"
   ]
  },
  {
   "cell_type": "markdown",
   "metadata": {},
   "source": [
    "<a id=\"perform-test-on-the-second-differenced-timeseries\"></a>\n",
    "### Perform test on the second-differenced timeseries"
   ]
  },
  {
   "cell_type": "code",
   "execution_count": null,
   "metadata": {},
   "outputs": [],
   "source": [
    "test_and_vis(bus.second_difference)"
   ]
  },
  {
   "cell_type": "markdown",
   "metadata": {},
   "source": [
    "<a id=\"perform-test-on-seasonal-differenced-timeseries\"></a>\n",
    "### Perform test on *seasonally*-differenced timeseries\n",
    "\n",
    "Where the season will be a year's difference (12 months)."
   ]
  },
  {
   "cell_type": "code",
   "execution_count": null,
   "metadata": {},
   "outputs": [],
   "source": [
    "test_and_vis(bus.seasonal_difference)"
   ]
  },
  {
   "cell_type": "markdown",
   "metadata": {},
   "source": [
    "### Perform a test on the first differenced seasonally differenced timeseries\n",
    "\n",
    "At this point we can see that we have a significant result!"
   ]
  },
  {
   "cell_type": "code",
   "execution_count": null,
   "metadata": {},
   "outputs": [],
   "source": [
    "# first seasonal difference\n",
    "test_and_vis(bus.seasonal_first_difference)"
   ]
  },
  {
   "cell_type": "markdown",
   "metadata": {},
   "source": [
    "<a id=\"perform-test-on-the-second-seasonal-differenced-timeseries\"></a>\n",
    "### Perform test on the second differenced seasonally differenced timeseries"
   ]
  },
  {
   "cell_type": "code",
   "execution_count": null,
   "metadata": {},
   "outputs": [],
   "source": [
    "test_and_vis(bus.seasonal_second_difference)"
   ]
  },
  {
   "cell_type": "markdown",
   "metadata": {},
   "source": [
    "### Summary Dickey-Fuller test"
   ]
  },
  {
   "cell_type": "code",
   "execution_count": null,
   "metadata": {},
   "outputs": [],
   "source": [
    "bus.head()"
   ]
  },
  {
   "cell_type": "code",
   "execution_count": null,
   "metadata": {
    "scrolled": true
   },
   "outputs": [],
   "source": [
    "for col in bus.columns:\n",
    "    print('p-value', col)\n",
    "    print('\\t\\t', adfuller(bus[col].dropna())[1])"
   ]
  },
  {
   "cell_type": "markdown",
   "metadata": {},
   "source": [
    "## Load additional data"
   ]
  },
  {
   "cell_type": "code",
   "execution_count": null,
   "metadata": {},
   "outputs": [],
   "source": [
    "X = pd.read_csv('data/precipitations.csv')\n",
    "X.head(2)"
   ]
  },
  {
   "cell_type": "code",
   "execution_count": null,
   "metadata": {},
   "outputs": [],
   "source": [
    "X.tail(2)"
   ]
  },
  {
   "cell_type": "code",
   "execution_count": null,
   "metadata": {},
   "outputs": [],
   "source": [
    "X.index = pd.date_range(start='01/01/1973', end='30/06/1982', freq='M')"
   ]
  },
  {
   "cell_type": "code",
   "execution_count": null,
   "metadata": {},
   "outputs": [],
   "source": [
    "X.head()"
   ]
  },
  {
   "cell_type": "code",
   "execution_count": null,
   "metadata": {},
   "outputs": [],
   "source": [
    "X['dayly_precip'] = X.total_precip / X.index.map(lambda x: pd.Period(x, freq='M').daysinmonth)"
   ]
  },
  {
   "cell_type": "code",
   "execution_count": null,
   "metadata": {},
   "outputs": [],
   "source": [
    "X[['dayly_precip']].plot(figsize=(12, 4))\n",
    "plt.show()"
   ]
  },
  {
   "cell_type": "code",
   "execution_count": null,
   "metadata": {},
   "outputs": [],
   "source": [
    "# stationarity test\n",
    "print('p-value original: \\t\\t', adfuller((X['dayly_precip']).dropna())[1])\n",
    "print('p-value diff:  \\t\\t\\t', adfuller((X['dayly_precip']-X['dayly_precip'].shift(12)).dropna())[1])\n",
    "print('p-value seasonal diff:\\t\\t', adfuller((X['dayly_precip']).diff().dropna())[1])\n",
    "print('p-value diff and seasonal diff: ', adfuller((X['dayly_precip']-X['dayly_precip'].shift(12)).diff().dropna())[1])"
   ]
  },
  {
   "cell_type": "code",
   "execution_count": null,
   "metadata": {},
   "outputs": [],
   "source": [
    "data = bus.riders\n",
    "model = sm.tsa.statespace.SARIMAX(endog=data,\n",
    "                                  exog=X[['dayly_precip']],\n",
    "                                  order=(1, 2, 1),\n",
    "                                  seasonal_order=(1, 1, 1, 12))\n",
    "results = model.fit(maxiter=10000)\n",
    "results.summary()"
   ]
  },
  {
   "cell_type": "code",
   "execution_count": null,
   "metadata": {},
   "outputs": [],
   "source": [
    "# Forecasting beyond the end of the time series requires passing predictor values, for in-sample forecasts\n",
    "# the existing values are used\n",
    "results.predict(start=110, end=len(data)+5-1, dynamic=True, exog=X[['dayly_precip']].values[0:5, :])"
   ]
  },
  {
   "cell_type": "code",
   "execution_count": null,
   "metadata": {
    "scrolled": true
   },
   "outputs": [],
   "source": [
    "# forecasting\n",
    "start_p = 50\n",
    "\n",
    "preds = results.predict(start=0, end=len(data)-1, dynamic=False)\n",
    "preds_dyn = results.predict(start=len(data)-start_p,\n",
    "                            end=len(data)-1, dynamic=True)\n",
    "fcast = pd.concat([data, preds])\n",
    "fcast_1 = pd.concat([data[:len(data)-1-start_p], preds_dyn])\n",
    "\n",
    "\n",
    "plt.figure()\n",
    "plt.plot(data, 'bo', preds, 'g--', preds_dyn, 'r-.')\n",
    "plt.xticks(rotation=45)\n",
    "plt.legend(['data', 'non-dynamical forecasting', 'dynamical forecasting'])\n",
    "plt.show()"
   ]
  },
  {
   "cell_type": "code",
   "execution_count": null,
   "metadata": {},
   "outputs": [],
   "source": [
    "fig, ax = plt.subplots(ncols=2, figsize=(12, 4))\n",
    "ax[0].plot([mean_squared_error(data[i:], preds[i:len(data)])\n",
    "            for i in range(10)])\n",
    "ax[0].set_title('MSE')\n",
    "ax[1].plot([r2_score(data[i:], preds[i:len(data)]) for i in range(10)])\n",
    "ax[1].set_title('R2')\n",
    "plt.show()"
   ]
  },
  {
   "cell_type": "markdown",
   "metadata": {},
   "source": [
    "<a id='additional-resources'></a>\n",
    "## Additional resources\n",
    "---\n",
    "\n",
    "\n",
    "+ A Seasonal ARIMA [code-along](http://www.statsmodels.org/dev/examples/notebooks/generated/statespace_sarimax_stata.html) from statsmodels\n",
    "+ An excellent [blog code-along](http://www.seanabu.com/2016/03/22/time-series-seasonal-ARIMA-model-in-python/) to Seasonal ARIMA + [iPython noteback](https://github.com/seanabu/seanabu.github.io/blob/master/Seasonal_ARIMA_model_Portland_transit.ipynb)\n",
    "+ Duke's breakdown of [ACF and PACF](http://people.duke.edu/~rnau/411arim3.htm)\n",
    "+ Duke's breakdown of available [stationarity transformations](http://people.duke.edu/~rnau/whatuse.htm)\n",
    "+ A 35min [video econometric](https://www.youtube.com/watch?v=Y2khrpVo6qI) breakdown of ARIMA\n",
    "+ [Wikipedia Dickey-Fuller](https://en.wikipedia.org/wiki/Dickey%E2%80%93Fuller_test)\n",
    "+ Stats Exchange breakdown of [Augmented Dickey-Fuller](http://stats.stackexchange.com/questions/44647/which-dickey-fuller-test-should-i-apply-to-a-time-series-with-an-underlying-mode)\n",
    "+ A walk-through of selecting pdq from [Duke](http://people.duke.edu/~rnau/411arim.htm)\n",
    "+ Big data analytics with ARIMA [case study](http://sda-pakdd2014.weebly.com/uploads/2/4/0/8/24088081/7w12.pdf)\n",
    "+ BONUS! Checkout [Granger Causality tests](https://en.wikipedia.org/wiki/Granger_causality)\n"
   ]
  },
  {
   "cell_type": "code",
   "execution_count": null,
   "metadata": {},
   "outputs": [],
   "source": []
  },
  {
   "cell_type": "code",
   "execution_count": null,
   "metadata": {},
   "outputs": [],
   "source": []
  },
  {
   "cell_type": "code",
   "execution_count": null,
   "metadata": {},
   "outputs": [],
   "source": []
  },
  {
   "cell_type": "code",
   "execution_count": null,
   "metadata": {},
   "outputs": [],
   "source": []
  },
  {
   "cell_type": "code",
   "execution_count": null,
   "metadata": {},
   "outputs": [],
   "source": []
  },
  {
   "cell_type": "code",
   "execution_count": null,
   "metadata": {},
   "outputs": [],
   "source": []
  },
  {
   "cell_type": "code",
   "execution_count": null,
   "metadata": {},
   "outputs": [],
   "source": []
  },
  {
   "cell_type": "code",
   "execution_count": null,
   "metadata": {},
   "outputs": [],
   "source": []
  }
 ],
 "metadata": {
  "anaconda-cloud": {},
  "kernelspec": {
   "display_name": "Python 3",
   "language": "python",
   "name": "python3"
  },
  "language_info": {
   "codemirror_mode": {
    "name": "ipython",
    "version": 3
   },
   "file_extension": ".py",
   "mimetype": "text/x-python",
   "name": "python",
   "nbconvert_exporter": "python",
   "pygments_lexer": "ipython3",
   "version": "3.8.3"
  },
  "toc": {
   "base_numbering": 1,
   "nav_menu": {},
   "number_sections": false,
   "sideBar": true,
   "skip_h1_title": true,
   "title_cell": "Lesson Guide",
   "title_sidebar": "Contents",
   "toc_cell": true,
   "toc_position": {},
   "toc_section_display": "block",
   "toc_window_display": false
  }
 },
 "nbformat": 4,
 "nbformat_minor": 2
}
