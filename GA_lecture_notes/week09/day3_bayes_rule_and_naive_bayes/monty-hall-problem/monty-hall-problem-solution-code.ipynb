{
 "cells": [
  {
   "cell_type": "markdown",
   "metadata": {},
   "source": [
    "<img src=\"http://imgur.com/1ZcRyrc.png\" style=\"float: left; margin: 20px; height: 55px\">\n",
    "\n",
    "# Bayes rule and the Monty Hall problem\n",
    "\n",
    "\n",
    "---"
   ]
  },
  {
   "cell_type": "markdown",
   "metadata": {},
   "source": [
    "The \"Monty Hall Problem\" is a famous statistical problem based on the game show \"Let's Make a Deal.\" (Monty Hall was the show's original host.) \n",
    "\n",
    "\n",
    "\"Let's Make a Deal\" features three doors labeled \"1,\" \"2,\" and \"3.\" As the contestant, you are told that, behind exactly one door, there is a new car. Behind the other two doors are goats. Your goal is to select the door with the car behind it.\n",
    "\n",
    "The game goes as follows:\n",
    "\n",
    "1. You select a door.\n",
    "1. The game show host, knowing which door hides the car, opens one of the doors you didn't select to reveal a goat. (Important: If you selected a door with a goat, the host definitely picks the other door with a goat. If you started by selecting the door with the car, the host picks from the remaining two doors at random.)\n",
    "1. The host then asks you if you would like to stick with the door you originally picked or switch to the other remaining door."
   ]
  },
  {
   "cell_type": "markdown",
   "metadata": {},
   "source": [
    "### Question \n",
    "Suppose you pick a door. The host opens one of the remaining doors. You are then asked to either stick with your original choice or switch to the other remaining door. Based on your intuition, is it more advantageous to stick with your original choice, to switch to the remaining door, or does your probability of success not change?"
   ]
  },
  {
   "cell_type": "markdown",
   "metadata": {
    "collapsed": true
   },
   "source": [
    "> If you haven't heard of this problem before, neither switching nor sticking with the original door seems particularly advantageous. If you have heard of this problem before, then you probably think you need to switch — but this doesn't immediately jump out as intuitively correct."
   ]
  },
  {
   "cell_type": "markdown",
   "metadata": {},
   "source": [
    "### Bayes rule\n",
    "\n",
    "Now, let's apply some Bayesian reasoning to this problem. Recall the formula for Bayes' theorem:\n",
    "\n",
    "$$ P(A|B) = \\frac{P(B|A)\\;P(A)}{P(B)} $$\n",
    "\n",
    "Our aim is to find the best winning strategy."
   ]
  },
  {
   "cell_type": "markdown",
   "metadata": {},
   "source": [
    "### Addressing the problem with Bayes rule"
   ]
  },
  {
   "cell_type": "markdown",
   "metadata": {},
   "source": [
    "The problem involves a number of different events of which we want to know the corresponding probabilities. \n",
    "\n",
    "- The car can be behind any of the three doors. We assume all of them to be equally likely, therefore\n",
    "\n",
    "$$P(C_i)=\\frac{1}{3}$$ for $i \\in \\{1,2,3\\}$.\n",
    "\n",
    "- Let's say initially you decide for door 1 which we denote as the event $X_1$. Then we determine the probabilities of the host opening door 3 (denoted as event $H_3$) given that the car is behind either door 1, 2 or 3 and you having decided for door 1:\n",
    "\n",
    "$$\n",
    "\\begin{eqnarray*}\n",
    "P(H_3|C_1,X_1) &=& \\frac{1}{2}\\\\\n",
    "P(H_3|C_2,X_1) &=& 1 \\\\\n",
    "P(H_3|C_3,X_1) &=& 0\n",
    "\\end{eqnarray*}\n",
    "$$\n",
    "\n",
    "- Your initial choice and where the car is located are independent of each other, therefore\n",
    "\n",
    "$$P(C_i,X_i) = P(C_i)P(X_i)$$\n",
    "\n",
    "- We can calculate the probability of the host opening door 3 given you have chosen door 1 irrespective of where the car is. This is referred to as marginalization.\n",
    "\n",
    "$$\\begin{eqnarray*}\n",
    "P(H_3|X_1) &=& P(H_3|C_1,X_1)P(C_1)+P(H_3|C_2,X_1)P(C_2)+P(H_3|C_3,X_1)P(C_3)\\\\\n",
    "&=& \\frac{1}{3}\\left(\\frac{1}{2}+1+0\\right)\\\\\n",
    "&=& \\frac{1}{2}\n",
    "\\end{eqnarray*}\n",
    "$$"
   ]
  },
  {
   "cell_type": "markdown",
   "metadata": {},
   "source": [
    "With this in mind we can calculate the probability of the car being behind door 2:\n",
    "\n",
    "$$\n",
    "\\begin{eqnarray*}\n",
    "P(C_2|H_3,X_1) &=& \\frac{P(C_2,H_3,X_1)}{P(H_3,X_1)} \\\\\n",
    "&=& \\frac{P(H_3|C_2,X_1)}{P(H_3|X_1)P(X_1)}P(C_2,X_1)\\\\\n",
    "&=& \\frac{P(H_3|C_2,X_1)}{P(H_3|X_1)P(X_1)}P(C_2)P(X_1)\\\\\n",
    "&=& \\frac{P(H_3|C_2,X_1)}{P(H_3|X_1)}P(C_2)\\\\\n",
    "&=&\\frac{1}{\\frac{1}{2}}\\frac{1}{3} \\\\\n",
    "&=& \\frac{2}{3}\n",
    "\\end{eqnarray*}\n",
    "$$"
   ]
  },
  {
   "cell_type": "markdown",
   "metadata": {
    "collapsed": true
   },
   "source": [
    "> This is a surprising result. It implies that, if we pick a door and then switch after seeing another door open, the probability of selecting the right door increases from 1/3 to 2/3. It is, based on this information, always in our best interest to switch."
   ]
  },
  {
   "cell_type": "markdown",
   "metadata": {},
   "source": [
    "### Simulating the result\n",
    "\n",
    "Now we build a function called `lets_make_a_deal()` that runs the \"Let's Make a Deal\" game by taking:\n",
    "- `'1'`, `'2'`, or `'3'` as the input for the door.\n",
    "- `'K'` or `'S'` as the input indicating \"keep\" or \"switch\" when asked.\n",
    "\n",
    "The function should return:\n",
    "- `'win'` if the contestant won.\n",
    "- `'lose'` if the contestant lost.\n",
    "\n",
    "Note: You'll need to make sure that, before anything else, the computer selects a random entry."
   ]
  },
  {
   "cell_type": "code",
   "execution_count": 1,
   "metadata": {},
   "outputs": [],
   "source": [
    "# Allows to randomly select which door will have the car at the beginning.\n",
    "import random\n",
    "\n",
    "\n",
    "def lets_make_a_deal(door, choice):\n",
    "    doors = ['1', '2', '3']  # Set up the possible doors 1, 2, 3.\n",
    "    # Set up possible choices: K = keep and S = switch.\n",
    "    choices = ['K', 'S']\n",
    "    car = random.choice(doors)  # Selects which door will have the car.\n",
    "    if door in doors and choice in choices:  # Ensure inputs are valid.\n",
    "        # Chose correctly on first guess and kept first guess --> win.\n",
    "        if door == car and choice == 'K':\n",
    "            return \"win\"\n",
    "        # Chose incorrectly on first guess, then switched to remaining option --> win.\n",
    "        elif door != car and choice == 'S':\n",
    "            return \"win\"\n",
    "        # Chose correctly, then switched OR chose incorrectly, then kept --> lose.\n",
    "        else:\n",
    "            return \"lose\"\n",
    "    else:  # If the inputs are invalid, try again.\n",
    "        return \"Try again.\""
   ]
  },
  {
   "cell_type": "markdown",
   "metadata": {},
   "source": [
    "Simulate 10,000 games where the contestant always switches. Report your results."
   ]
  },
  {
   "cell_type": "code",
   "execution_count": 2,
   "metadata": {},
   "outputs": [
    {
     "data": {
      "text/plain": [
       "Counter({'lose': 3340, 'win': 6660})"
      ]
     },
     "execution_count": 2,
     "metadata": {},
     "output_type": "execute_result"
    }
   ],
   "source": [
    "# Allows us to use the Counter() function below.\n",
    "from collections import Counter\n",
    "results = []  # Set up an empty list named \"results.\"\n",
    "for i in range(10000):  # 10,000 games.\n",
    "    # Append the outcome of the game to list \"results.\"\n",
    "    candidate_choice = random.choice(['1', '2', '3'])\n",
    "    result = lets_make_a_deal(candidate_choice, 'S')\n",
    "    results.append(result)\n",
    "    # Note that we are randomly selecting '1,' '2,' or '3.' You're welcome to try these results for just manually\n",
    "    # selecting one option to be chosen for each attempt.\n",
    "\n",
    "Counter(results)  # Prints dictionary summarizing the list \"results.\""
   ]
  },
  {
   "cell_type": "code",
   "execution_count": 3,
   "metadata": {},
   "outputs": [
    {
     "name": "stdout",
     "output_type": "stream",
     "text": [
      "By always switching, we won 66.6 % of our simulations.\n"
     ]
    }
   ],
   "source": [
    "print(\"By always switching, we won\", 100*float(results.count(\"win\")) /\n",
    "      len(results), \"% of our simulations.\")"
   ]
  },
  {
   "cell_type": "code",
   "execution_count": null,
   "metadata": {},
   "outputs": [],
   "source": []
  }
 ],
 "metadata": {
  "anaconda-cloud": {},
  "kernelspec": {
   "display_name": "Python 3",
   "language": "python",
   "name": "python3"
  },
  "language_info": {
   "codemirror_mode": {
    "name": "ipython",
    "version": 3
   },
   "file_extension": ".py",
   "mimetype": "text/x-python",
   "name": "python",
   "nbconvert_exporter": "python",
   "pygments_lexer": "ipython3",
   "version": "3.7.3"
  },
  "toc": {
   "base_numbering": 1,
   "nav_menu": {},
   "number_sections": false,
   "sideBar": true,
   "skip_h1_title": true,
   "title_cell": "Table of Contents",
   "title_sidebar": "Contents",
   "toc_cell": false,
   "toc_position": {},
   "toc_section_display": true,
   "toc_window_display": false
  }
 },
 "nbformat": 4,
 "nbformat_minor": 1
}
