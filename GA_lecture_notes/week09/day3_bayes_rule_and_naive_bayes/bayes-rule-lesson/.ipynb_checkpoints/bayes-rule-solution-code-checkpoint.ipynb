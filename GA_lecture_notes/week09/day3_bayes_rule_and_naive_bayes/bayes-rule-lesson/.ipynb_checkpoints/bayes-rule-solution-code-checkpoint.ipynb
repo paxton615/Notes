{
 "cells": [
  {
   "cell_type": "markdown",
   "metadata": {},
   "source": [
    "<img src=\"http://imgur.com/1ZcRyrc.png\" style=\"float: left; margin: 20px; height: 55px\">\n",
    "\n",
    "# Bayes rule\n",
    "\n",
    "---"
   ]
  },
  {
   "cell_type": "markdown",
   "metadata": {},
   "source": [
    "## Learning Objectives\n",
    "\n",
    "- Review conditional probability, joint probability and Bayes' rule\n",
    "- Illustrate the rule with a few examples"
   ]
  },
  {
   "cell_type": "markdown",
   "metadata": {
    "toc": true
   },
   "source": [
    "<h1>Lesson Guide<span class=\"tocSkip\"></span></h1>\n",
    "<div class=\"toc\"><ul class=\"toc-item\"><li><span><a href=\"#Learning-Objectives\" data-toc-modified-id=\"Learning-Objectives-1\">Learning Objectives</a></span></li><li><span><a href=\"#Joint-probability\" data-toc-modified-id=\"Joint-probability-2\">Joint probability</a></span></li><li><span><a href=\"#Conditional-probability\" data-toc-modified-id=\"Conditional-probability-3\">Conditional probability</a></span></li><li><span><a href=\"#Bayes'-Theorem\" data-toc-modified-id=\"Bayes'-Theorem-4\">Bayes' Theorem</a></span></li><li><span><a href=\"#Example\" data-toc-modified-id=\"Example-5\">Example</a></span></li><li><span><a href=\"#Practice\" data-toc-modified-id=\"Practice-6\">Practice</a></span></li></ul></div>"
   ]
  },
  {
   "cell_type": "markdown",
   "metadata": {},
   "source": [
    "## Joint probability\n",
    "\n",
    "The joint probability gives the probability of two (or more) events occurring together. It is often denoted in one of the following forms\n",
    "\n",
    "$$ P(A\\ \\text{and}\\ B) =  P(A, B) = P(A \\cap B)$$\n",
    "\n",
    "Think for example of throwing two dice. Then we can ask for the probability of one turning up as 1 and the other one as 6:\n",
    "\n",
    "$$P(A=1, B=6) = \\frac{1}{6}\\cdot\\frac{1}{6} = \\frac{1}{36}$$\n",
    "\n",
    "Note that here we assumed independence of the events enabling us to simply multiply the individual probabilities.\n",
    "\n",
    "We could also ask how likely it is that we obtain 1 and 6 no matter which of the dice gives which:\n",
    "\n",
    "$$P(A=1, B=6)+P(A=6, B=1) = \\frac{1}{18}$$"
   ]
  },
  {
   "cell_type": "markdown",
   "metadata": {},
   "source": [
    "Let's look at a dataset and estimate joint probabilities from the data samples."
   ]
  },
  {
   "cell_type": "code",
   "execution_count": 1,
   "metadata": {},
   "outputs": [],
   "source": [
    "import seaborn as sns"
   ]
  },
  {
   "cell_type": "code",
   "execution_count": 2,
   "metadata": {},
   "outputs": [],
   "source": [
    "data = sns.load_dataset('tips')"
   ]
  },
  {
   "cell_type": "code",
   "execution_count": 3,
   "metadata": {},
   "outputs": [
    {
     "data": {
      "text/html": [
       "<div>\n",
       "<style scoped>\n",
       "    .dataframe tbody tr th:only-of-type {\n",
       "        vertical-align: middle;\n",
       "    }\n",
       "\n",
       "    .dataframe tbody tr th {\n",
       "        vertical-align: top;\n",
       "    }\n",
       "\n",
       "    .dataframe thead th {\n",
       "        text-align: right;\n",
       "    }\n",
       "</style>\n",
       "<table border=\"1\" class=\"dataframe\">\n",
       "  <thead>\n",
       "    <tr style=\"text-align: right;\">\n",
       "      <th></th>\n",
       "      <th>total_bill</th>\n",
       "      <th>tip</th>\n",
       "      <th>sex</th>\n",
       "      <th>smoker</th>\n",
       "      <th>day</th>\n",
       "      <th>time</th>\n",
       "      <th>size</th>\n",
       "    </tr>\n",
       "  </thead>\n",
       "  <tbody>\n",
       "    <tr>\n",
       "      <th>0</th>\n",
       "      <td>16.99</td>\n",
       "      <td>1.01</td>\n",
       "      <td>Female</td>\n",
       "      <td>No</td>\n",
       "      <td>Sun</td>\n",
       "      <td>Dinner</td>\n",
       "      <td>2</td>\n",
       "    </tr>\n",
       "    <tr>\n",
       "      <th>1</th>\n",
       "      <td>10.34</td>\n",
       "      <td>1.66</td>\n",
       "      <td>Male</td>\n",
       "      <td>No</td>\n",
       "      <td>Sun</td>\n",
       "      <td>Dinner</td>\n",
       "      <td>3</td>\n",
       "    </tr>\n",
       "    <tr>\n",
       "      <th>2</th>\n",
       "      <td>21.01</td>\n",
       "      <td>3.50</td>\n",
       "      <td>Male</td>\n",
       "      <td>No</td>\n",
       "      <td>Sun</td>\n",
       "      <td>Dinner</td>\n",
       "      <td>3</td>\n",
       "    </tr>\n",
       "    <tr>\n",
       "      <th>3</th>\n",
       "      <td>23.68</td>\n",
       "      <td>3.31</td>\n",
       "      <td>Male</td>\n",
       "      <td>No</td>\n",
       "      <td>Sun</td>\n",
       "      <td>Dinner</td>\n",
       "      <td>2</td>\n",
       "    </tr>\n",
       "    <tr>\n",
       "      <th>4</th>\n",
       "      <td>24.59</td>\n",
       "      <td>3.61</td>\n",
       "      <td>Female</td>\n",
       "      <td>No</td>\n",
       "      <td>Sun</td>\n",
       "      <td>Dinner</td>\n",
       "      <td>4</td>\n",
       "    </tr>\n",
       "  </tbody>\n",
       "</table>\n",
       "</div>"
      ],
      "text/plain": [
       "   total_bill   tip     sex smoker  day    time  size\n",
       "0       16.99  1.01  Female     No  Sun  Dinner     2\n",
       "1       10.34  1.66    Male     No  Sun  Dinner     3\n",
       "2       21.01  3.50    Male     No  Sun  Dinner     3\n",
       "3       23.68  3.31    Male     No  Sun  Dinner     2\n",
       "4       24.59  3.61  Female     No  Sun  Dinner     4"
      ]
     },
     "execution_count": 3,
     "metadata": {},
     "output_type": "execute_result"
    }
   ],
   "source": [
    "data.head()"
   ]
  },
  {
   "cell_type": "code",
   "execution_count": 4,
   "metadata": {},
   "outputs": [
    {
     "data": {
      "text/plain": [
       "(244, 7)"
      ]
     },
     "execution_count": 4,
     "metadata": {},
     "output_type": "execute_result"
    }
   ],
   "source": [
    "data.shape"
   ]
  },
  {
   "cell_type": "markdown",
   "metadata": {},
   "source": [
    "For later use, let's estimate some of the group probabilities by looking at the occurrences in our sample."
   ]
  },
  {
   "cell_type": "code",
   "execution_count": 5,
   "metadata": {},
   "outputs": [
    {
     "data": {
      "text/plain": [
       "0.6434426229508197"
      ]
     },
     "execution_count": 5,
     "metadata": {},
     "output_type": "execute_result"
    }
   ],
   "source": [
    "P_male = len(data[(data.sex == 'Male')])/len(data)\n",
    "P_male"
   ]
  },
  {
   "cell_type": "code",
   "execution_count": 6,
   "metadata": {},
   "outputs": [
    {
     "data": {
      "text/plain": [
       "0.6188524590163934"
      ]
     },
     "execution_count": 6,
     "metadata": {},
     "output_type": "execute_result"
    }
   ],
   "source": [
    "P_nonsmoker = len(data[(data.smoker == 'No')])/len(data)\n",
    "P_nonsmoker"
   ]
  },
  {
   "cell_type": "code",
   "execution_count": 7,
   "metadata": {},
   "outputs": [
    {
     "data": {
      "text/plain": [
       "0.5040983606557377"
      ]
     },
     "execution_count": 7,
     "metadata": {},
     "output_type": "execute_result"
    }
   ],
   "source": [
    "P_tiplow = len(data[(data.tip < 3.00)])/len(data)\n",
    "P_tiplow"
   ]
  },
  {
   "cell_type": "markdown",
   "metadata": {},
   "source": [
    "The joint probability for two discrete variables can be determined by slicing the data appropriately and comparing the number of observations remaining compared to the number of all observations."
   ]
  },
  {
   "cell_type": "code",
   "execution_count": 8,
   "metadata": {},
   "outputs": [
    {
     "data": {
      "text/plain": [
       "0.3975409836065574"
      ]
     },
     "execution_count": 8,
     "metadata": {},
     "output_type": "execute_result"
    }
   ],
   "source": [
    "P_male_nonsmoker = len(\n",
    "    data[(data.sex == 'Male') & (data.smoker == 'No')])/len(data)\n",
    "P_male_nonsmoker"
   ]
  },
  {
   "cell_type": "markdown",
   "metadata": {},
   "source": [
    "Multiplying the fractions of each of the subsets won't give the same."
   ]
  },
  {
   "cell_type": "code",
   "execution_count": 9,
   "metadata": {},
   "outputs": [
    {
     "data": {
      "text/plain": [
       "0.39819604944907283"
      ]
     },
     "execution_count": 9,
     "metadata": {},
     "output_type": "execute_result"
    }
   ],
   "source": [
    "P_male * P_nonsmoker"
   ]
  },
  {
   "cell_type": "markdown",
   "metadata": {},
   "source": [
    "The procedure works in the same way with continuous variables by asking for ranges of values."
   ]
  },
  {
   "cell_type": "code",
   "execution_count": 10,
   "metadata": {},
   "outputs": [
    {
     "data": {
      "text/plain": [
       "0.3073770491803279"
      ]
     },
     "execution_count": 10,
     "metadata": {},
     "output_type": "execute_result"
    }
   ],
   "source": [
    "P_male_tiplow = len(data[(data.sex == 'Male') & (data.tip < 3.00)])/len(data)\n",
    "P_male_tiplow"
   ]
  },
  {
   "cell_type": "code",
   "execution_count": 11,
   "metadata": {},
   "outputs": [
    {
     "data": {
      "text/plain": [
       "0.3243583714055361"
      ]
     },
     "execution_count": 11,
     "metadata": {},
     "output_type": "execute_result"
    }
   ],
   "source": [
    "P_male * P_tiplow"
   ]
  },
  {
   "cell_type": "markdown",
   "metadata": {},
   "source": [
    "## Conditional probability\n",
    "\n",
    "The conditional probability asks for the probability of an event happening once another event has already occurred. For two events $A$ and $B$, the conditional probability is denoted as $P(A|B)$, pronounced as _the probability of event $A$ occurring given event $B$_.\n",
    "\n",
    "The conditional probability can be related to the joint probability:\n",
    "\n",
    "$$ P(A | B) = \\frac{P(A, B)}{P(B)} $$\n",
    "\n",
    "\n",
    "Consider again the two dice with $A=1$ and $B=6$. Then\n",
    "\n",
    "$$P(A=1| B=6) = \\frac{P(A=1, B=6)}{P(B=6)} = \\frac{\\frac{1}{36}}{\\frac{1}{6}} = \\frac{6}{36} = \\frac{1}{6}$$\n",
    "\n",
    "The events are independent of each other, so $P(A|B)=P(A)$.\n",
    "In general, this won't be the case as the data example shows."
   ]
  },
  {
   "cell_type": "code",
   "execution_count": 12,
   "metadata": {},
   "outputs": [
    {
     "data": {
      "text/plain": [
       "0.6178343949044586"
      ]
     },
     "execution_count": 12,
     "metadata": {},
     "output_type": "execute_result"
    }
   ],
   "source": [
    "cond_male_smoker = P_male_nonsmoker / P_male\n",
    "cond_male_smoker"
   ]
  },
  {
   "cell_type": "code",
   "execution_count": 13,
   "metadata": {},
   "outputs": [
    {
     "data": {
      "text/plain": [
       "0.642384105960265"
      ]
     },
     "execution_count": 13,
     "metadata": {},
     "output_type": "execute_result"
    }
   ],
   "source": [
    "cond_smoker_male = P_male_nonsmoker / P_nonsmoker\n",
    "cond_smoker_male"
   ]
  },
  {
   "cell_type": "markdown",
   "metadata": {},
   "source": [
    "We can relate the probability that either of two events $A$ or $B$ occur to either $A$ or $B$ occurring, or both of them together:\n",
    "\n",
    "$$\n",
    "P(A\\ \\text{or}\\ B) = P(A)+P(B)-P(A,B)\n",
    "$$"
   ]
  },
  {
   "cell_type": "code",
   "execution_count": 14,
   "metadata": {},
   "outputs": [
    {
     "data": {
      "text/plain": [
       "0.3975409836065574"
      ]
     },
     "execution_count": 14,
     "metadata": {},
     "output_type": "execute_result"
    }
   ],
   "source": [
    "P_male_nonsmoker"
   ]
  },
  {
   "cell_type": "code",
   "execution_count": 15,
   "metadata": {},
   "outputs": [
    {
     "data": {
      "text/plain": [
       "0.8647540983606558"
      ]
     },
     "execution_count": 15,
     "metadata": {},
     "output_type": "execute_result"
    }
   ],
   "source": [
    "P_male_or_nonsmoker = len(\n",
    "    data[(data.sex == 'Male') | (data.smoker == 'No')])/len(data)\n",
    "P_male_or_nonsmoker"
   ]
  },
  {
   "cell_type": "code",
   "execution_count": 16,
   "metadata": {},
   "outputs": [
    {
     "data": {
      "text/plain": [
       "0.8647540983606556"
      ]
     },
     "execution_count": 16,
     "metadata": {},
     "output_type": "execute_result"
    }
   ],
   "source": [
    "P_nonsmoker + P_male - P_male_nonsmoker"
   ]
  },
  {
   "cell_type": "markdown",
   "metadata": {},
   "source": [
    "## Bayes' Theorem"
   ]
  },
  {
   "cell_type": "markdown",
   "metadata": {},
   "source": [
    "In the relation between joint and conditional probability, we could equally have written \n",
    "\n",
    "$$ P(A, B) = P(A|B) \\; P(B) $$\n",
    "\n",
    "or\n",
    "\n",
    "$$ P(A, B) = P(B|A) \\; P(A) $$\n",
    "\n",
    "Equating the two we arrive at\n",
    "\n",
    "$$  P(A|B) \\; P(B) = P(B|A) \\; P(A) $$"
   ]
  },
  {
   "cell_type": "markdown",
   "metadata": {},
   "source": [
    "Rearranging, we obtain Bayes' theorem\n",
    "\n",
    "$$ P(A|B) = \\frac{P(B|A)\\;P(A)}{P(B)} $$\n",
    "\n",
    "Bayes' theorem relates the probability of $A$ given $B$ to the probability of $B$ given $A$. This rule is critical for performing statistical inference, as we'll see shortly.\n",
    "\n",
    "Let's verify the theorem with the data:"
   ]
  },
  {
   "cell_type": "code",
   "execution_count": 17,
   "metadata": {},
   "outputs": [
    {
     "data": {
      "text/plain": [
       "0.6178343949044586"
      ]
     },
     "execution_count": 17,
     "metadata": {},
     "output_type": "execute_result"
    }
   ],
   "source": [
    "cond_male_smoker"
   ]
  },
  {
   "cell_type": "code",
   "execution_count": 18,
   "metadata": {},
   "outputs": [
    {
     "data": {
      "text/plain": [
       "0.6178343949044586"
      ]
     },
     "execution_count": 18,
     "metadata": {},
     "output_type": "execute_result"
    }
   ],
   "source": [
    "cond_smoker_male * P_nonsmoker / P_male"
   ]
  },
  {
   "cell_type": "markdown",
   "metadata": {},
   "source": [
    "## Practice\n",
    "\n",
    "Determine $P({\\rm nonsmoker}| {\\rm male,\\ tip}<3.00)$ by\n",
    "\n",
    "- directly by slicing on the data\n",
    "- using Bayes' rule before slicing on the data"
   ]
  },
  {
   "cell_type": "code",
   "execution_count": 19,
   "metadata": {},
   "outputs": [
    {
     "data": {
      "text/plain": [
       "0.6533333333333333"
      ]
     },
     "execution_count": 19,
     "metadata": {},
     "output_type": "execute_result"
    }
   ],
   "source": [
    "len(data[(data.smoker == 'No') & (data.sex == 'Male')\n",
    "         & (data.tip < 3.00)])/len(data)/P_male_tiplow"
   ]
  },
  {
   "cell_type": "code",
   "execution_count": 20,
   "metadata": {},
   "outputs": [
    {
     "data": {
      "text/plain": [
       "0.6533333333333333"
      ]
     },
     "execution_count": 20,
     "metadata": {},
     "output_type": "execute_result"
    }
   ],
   "source": [
    "male_lowtip = data[(data.sex == 'Male')\n",
    "         & (data.tip < 3.00)]\n",
    "\n",
    "len(male_lowtip[male_lowtip.smoker=='No']) / len(male_lowtip)"
   ]
  },
  {
   "cell_type": "code",
   "execution_count": 21,
   "metadata": {},
   "outputs": [
    {
     "data": {
      "text/plain": [
       "0.6533333333333333"
      ]
     },
     "execution_count": 21,
     "metadata": {},
     "output_type": "execute_result"
    }
   ],
   "source": [
    "non_smokers = data[data.smoker == 'No']\n",
    "smokers = data[data.smoker == 'Yes']\n",
    "\n",
    "nonsmokers_male_tiplow = len(non_smokers[(non_smokers.sex == 'Male') & (\n",
    "    non_smokers.tip < 3.00)])/len(non_smokers)\n",
    "smokers_male_tiplow = len(\n",
    "    smokers[(smokers.sex == 'Male') & (smokers.tip < 3.00)])/len(smokers)\n",
    "\n",
    "cond_on_nonsmokers = nonsmokers_male_tiplow*P_nonsmoker\n",
    "cond_on_smokers = smokers_male_tiplow*(1-P_nonsmoker)\n",
    "\n",
    "cond_on_nonsmokers/(cond_on_nonsmokers+cond_on_smokers)"
   ]
  },
  {
   "cell_type": "code",
   "execution_count": null,
   "metadata": {},
   "outputs": [],
   "source": []
  }
 ],
 "metadata": {
  "kernelspec": {
   "display_name": "Python 3",
   "language": "python",
   "name": "python3"
  },
  "language_info": {
   "codemirror_mode": {
    "name": "ipython",
    "version": 3
   },
   "file_extension": ".py",
   "mimetype": "text/x-python",
   "name": "python",
   "nbconvert_exporter": "python",
   "pygments_lexer": "ipython3",
   "version": "3.7.3"
  },
  "toc": {
   "base_numbering": 1,
   "nav_menu": {},
   "number_sections": false,
   "sideBar": true,
   "skip_h1_title": true,
   "title_cell": "Lesson Guide",
   "title_sidebar": "Contents",
   "toc_cell": true,
   "toc_position": {},
   "toc_section_display": true,
   "toc_window_display": false
  }
 },
 "nbformat": 4,
 "nbformat_minor": 1
}
