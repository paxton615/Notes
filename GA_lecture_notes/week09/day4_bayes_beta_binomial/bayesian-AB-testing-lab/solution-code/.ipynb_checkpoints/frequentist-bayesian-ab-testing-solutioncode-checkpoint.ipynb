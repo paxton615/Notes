{
 "cells": [
  {
   "cell_type": "markdown",
   "metadata": {},
   "source": [
    "<img src=\"http://imgur.com/1ZcRyrc.png\" style=\"float: left; margin: 20px; height: 55px\">\n",
    "\n",
    "# Frequentist and Bayesian A/B Testing\n",
    "\n",
    "\n",
    "---\n",
    "\n",
    "### Learning Objectives\n",
    "\n",
    "- Understand how to evaluate a split test with Bayesian methods\n",
    "- Use pymc3 to evaluate a split test with 2 arms\n",
    "- Use pymc3 to evaluate a split test with 3 arms\n",
    "- Compare pymc3 and sampling from beta distributions for evaluating split test results"
   ]
  },
  {
   "cell_type": "markdown",
   "metadata": {},
   "source": [
    "### Lesson Guide\n",
    "- [A/B tests (split tests)](#ab-tests)\n",
    "- [Bayesian split test analysis](#bayes)\n",
    "- [Load the fitness app data](#data)\n",
    "    - [Examine the split test arm \"schedule\"](#schedule)\n",
    "- [Model conversion rates through day 5 with `pymc3`](#day5)\n",
    "    - [Set up a `pymc3` model with uniform priors for the probabilities of conversion for arms A and B](#day5-model)\n",
    "    - [Set up `pm.Bernoulli` distributions to model conversions for arms A and B](#day5-bernoulli)\n",
    "    - [Fit the model](#day5-fit)\n",
    "- [Build a `pymc3` model through day 11 for the A/B/C test](#ind)\n",
    "- [Sample from beta distributions to evaluate the split test](#beta)\n",
    "    - [Create beta distributions representing the conversions vs. failures for each arm for *all* days](#bdists)\n",
    "    - [Calculate AvB, AvC, and BvC using sampling from the beta distributions](#beta-sampling)\n",
    "    - [Validate that these reults are the same as a `pymc3` model](#beta-vs-pymc3)\n",
    "- [Additional resources](#resources)"
   ]
  },
  {
   "cell_type": "code",
   "execution_count": 1,
   "metadata": {},
   "outputs": [],
   "source": [
    "import warnings\n",
    "import matplotlib.pyplot as plt\n",
    "import numpy as np\n",
    "import pandas as pd\n",
    "import seaborn as sns\n",
    "import scipy.stats as stats\n",
    "\n",
    "plt.style.use('ggplot')\n",
    "sns.set(font_scale=1.5)\n",
    "\n",
    "%matplotlib inline\n",
    "%config InlineBackend.figure_format = 'retina'\n",
    "\n",
    "warnings.simplefilter('ignore')"
   ]
  },
  {
   "cell_type": "markdown",
   "metadata": {},
   "source": [
    "<a id='ab-tests'></a>\n",
    "## A/B tests (split tests)\n",
    "---\n",
    "\n",
    "For every product you use (especially tech products) it is likely that you are part of a split test. Split tests are incrementally different versions of a product that are being tested on randomly selected users and evaluated on a performance metric. They are a great way to assess whether a proposed change will be beneficial, detrimental, or have no effect."
   ]
  },
  {
   "cell_type": "markdown",
   "metadata": {},
   "source": [
    "In split tests (A/B tests) we measure successes and failures for each \"arm\". We are interested in calculating whether the mean difference in rates between the two arms is significantly different. If it is, then we have reason to \"winner\" the arm of the test that has a higher conversion rate."
   ]
  },
  {
   "cell_type": "markdown",
   "metadata": {},
   "source": [
    "<a id='bayes'></a>\n",
    "## Bayesian split test analysis\n",
    "---\n",
    "\n",
    "One common application of Bayesian analysis in industry is the analysis of split tests. We can use `pymc3` to perform split test analysis or do the process manually by sampling from posterior distributions for the arm conversion rates. \n",
    "\n",
    "<a id='data'></a>"
   ]
  },
  {
   "cell_type": "markdown",
   "metadata": {},
   "source": [
    "## Load the fitness app data\n",
    "---\n",
    "\n",
    "The dataset below contains information on user \"conversions\" on a fitness app on different \"arms\" of a split test. \n",
    "\n",
    "[A \"conversion\"](https://en.wikipedia.org/wiki/Conversion_marketing) is jargon for whether or not a user performed a desired action or not, typically a purchase.\n",
    "\n",
    "\"Arms\" are the jargon for the different versions of a product in a currently running split test. Split tests are also commonly referred to as [A/B tests](https://en.wikipedia.org/wiki/A/B_testing), where A and B denote arms in the test.\n",
    "\n",
    "**The data has 6 columns:**\n",
    "\n",
    "    arm: the version of the app this user was randomly assigned to\n",
    "    gender: male/female\n",
    "    age: age bins, one of 20-30, 30-40, 40-50\n",
    "    day: the day (total of 21 days)\n",
    "    fitness: the user's self reported fitness level from -5 to 5\n",
    "    converted: 1 if the user purchased the product, 0 if not\n",
    "    \n",
    "Each row is a unique user. "
   ]
  },
  {
   "cell_type": "code",
   "execution_count": 2,
   "metadata": {},
   "outputs": [],
   "source": [
    "data = pd.read_csv(\n",
    "    '../../../../../resource-datasets/bayes_split_test/split_test_data.csv')\n",
    "data['male'] = data.gender.map(lambda x: 1 if x == 'male' else 0)"
   ]
  },
  {
   "cell_type": "markdown",
   "metadata": {},
   "source": [
    "### Examine the split test arm schedule\n",
    "<a id='schedule'></a>\n",
    "\n",
    "When a new arm is introduced into a split test, it is generally tested at a low percentage of users initially before assignment becomes balanced between the arms. This ensures that if something is terribly wrong with one of the arms it does not ruin the experience for too many potential customers.\n",
    "\n",
    "Find the counts assigned to each split test arm by day."
   ]
  },
  {
   "cell_type": "code",
   "execution_count": 3,
   "metadata": {},
   "outputs": [
    {
     "name": "stdout",
     "output_type": "stream",
     "text": [
      "(725, 7)\n"
     ]
    },
    {
     "data": {
      "text/html": [
       "<div>\n",
       "<style scoped>\n",
       "    .dataframe tbody tr th:only-of-type {\n",
       "        vertical-align: middle;\n",
       "    }\n",
       "\n",
       "    .dataframe tbody tr th {\n",
       "        vertical-align: top;\n",
       "    }\n",
       "\n",
       "    .dataframe thead th {\n",
       "        text-align: right;\n",
       "    }\n",
       "</style>\n",
       "<table border=\"1\" class=\"dataframe\">\n",
       "  <thead>\n",
       "    <tr style=\"text-align: right;\">\n",
       "      <th></th>\n",
       "      <th>arm</th>\n",
       "      <th>gender</th>\n",
       "      <th>age</th>\n",
       "      <th>day</th>\n",
       "      <th>fitness</th>\n",
       "      <th>converted</th>\n",
       "      <th>male</th>\n",
       "    </tr>\n",
       "  </thead>\n",
       "  <tbody>\n",
       "    <tr>\n",
       "      <th>0</th>\n",
       "      <td>A</td>\n",
       "      <td>female</td>\n",
       "      <td>20-30</td>\n",
       "      <td>0</td>\n",
       "      <td>-2.0</td>\n",
       "      <td>0</td>\n",
       "      <td>0</td>\n",
       "    </tr>\n",
       "    <tr>\n",
       "      <th>1</th>\n",
       "      <td>A</td>\n",
       "      <td>female</td>\n",
       "      <td>40-50</td>\n",
       "      <td>0</td>\n",
       "      <td>3.0</td>\n",
       "      <td>0</td>\n",
       "      <td>0</td>\n",
       "    </tr>\n",
       "    <tr>\n",
       "      <th>2</th>\n",
       "      <td>A</td>\n",
       "      <td>female</td>\n",
       "      <td>30-40</td>\n",
       "      <td>0</td>\n",
       "      <td>-5.0</td>\n",
       "      <td>0</td>\n",
       "      <td>0</td>\n",
       "    </tr>\n",
       "    <tr>\n",
       "      <th>3</th>\n",
       "      <td>A</td>\n",
       "      <td>female</td>\n",
       "      <td>20-30</td>\n",
       "      <td>0</td>\n",
       "      <td>-4.0</td>\n",
       "      <td>0</td>\n",
       "      <td>0</td>\n",
       "    </tr>\n",
       "    <tr>\n",
       "      <th>4</th>\n",
       "      <td>A</td>\n",
       "      <td>male</td>\n",
       "      <td>30-40</td>\n",
       "      <td>0</td>\n",
       "      <td>1.0</td>\n",
       "      <td>1</td>\n",
       "      <td>1</td>\n",
       "    </tr>\n",
       "  </tbody>\n",
       "</table>\n",
       "</div>"
      ],
      "text/plain": [
       "  arm  gender    age  day  fitness  converted  male\n",
       "0   A  female  20-30    0     -2.0          0     0\n",
       "1   A  female  40-50    0      3.0          0     0\n",
       "2   A  female  30-40    0     -5.0          0     0\n",
       "3   A  female  20-30    0     -4.0          0     0\n",
       "4   A    male  30-40    0      1.0          1     1"
      ]
     },
     "execution_count": 3,
     "metadata": {},
     "output_type": "execute_result"
    }
   ],
   "source": [
    "print(data.shape)\n",
    "data.head()"
   ]
  },
  {
   "cell_type": "code",
   "execution_count": 4,
   "metadata": {},
   "outputs": [
    {
     "data": {
      "text/plain": [
       "day  arm\n",
       "0    A      26\n",
       "1    A      40\n",
       "     B       4\n",
       "2    A      30\n",
       "     B       3\n",
       "3    A      30\n",
       "     B       3\n",
       "4    A      18\n",
       "     B      18\n",
       "5    A      15\n",
       "     B      15\n",
       "6    A      16\n",
       "     B      16\n",
       "7    A      17\n",
       "     B      17\n",
       "8    A      14\n",
       "     B      14\n",
       "     C       3\n",
       "9    A      19\n",
       "     B      19\n",
       "     C       4\n",
       "10   A      12\n",
       "     B      12\n",
       "     C       3\n",
       "11   A       9\n",
       "     B       9\n",
       "     C       9\n",
       "12   A      10\n",
       "     B      10\n",
       "     C      10\n",
       "13   A      15\n",
       "     B      15\n",
       "     C      15\n",
       "14   A      12\n",
       "     B      12\n",
       "     C      12\n",
       "15   A      12\n",
       "     B      12\n",
       "     C      12\n",
       "16   A      11\n",
       "     B      11\n",
       "     C      11\n",
       "17   A      11\n",
       "     B      11\n",
       "     C      11\n",
       "18   A      14\n",
       "     B      14\n",
       "     C      14\n",
       "19   A      12\n",
       "     B      12\n",
       "     C      12\n",
       "20   A      13\n",
       "     B      13\n",
       "     C      13\n",
       "Name: arm, dtype: int64"
      ]
     },
     "execution_count": 4,
     "metadata": {},
     "output_type": "execute_result"
    }
   ],
   "source": [
    "arms_days = data[['arm', 'day']]\n",
    "arms_days.groupby('day')['arm'].value_counts()"
   ]
  },
  {
   "cell_type": "code",
   "execution_count": 5,
   "metadata": {},
   "outputs": [
    {
     "data": {
      "text/plain": [
       "arm\n",
       "A    0.185393\n",
       "B    0.116667\n",
       "C    0.255814\n",
       "Name: converted, dtype: float64"
      ]
     },
     "execution_count": 5,
     "metadata": {},
     "output_type": "execute_result"
    }
   ],
   "source": [
    "data.groupby('arm')['converted'].mean()"
   ]
  },
  {
   "cell_type": "markdown",
   "metadata": {},
   "source": [
    "#### Look at mean conversion rate overall and by arm."
   ]
  },
  {
   "cell_type": "code",
   "execution_count": 6,
   "metadata": {},
   "outputs": [
    {
     "data": {
      "text/plain": [
       "0.17517241379310344"
      ]
     },
     "execution_count": 6,
     "metadata": {},
     "output_type": "execute_result"
    }
   ],
   "source": [
    "data.converted.mean()"
   ]
  },
  {
   "cell_type": "code",
   "execution_count": 7,
   "metadata": {},
   "outputs": [
    {
     "data": {
      "image/png": "[encoded data removed]",
      "text/plain": [
       "<Figure size 432x288 with 1 Axes>"
      ]
     },
     "metadata": {
      "image/png": {
       "height": 277,
       "width": 402
      },
      "needs_background": "light"
     },
     "output_type": "display_data"
    }
   ],
   "source": [
    "sns.barplot(x='arm', y='converted', data=data)\n",
    "plt.show()"
   ]
  },
  {
   "cell_type": "code",
   "execution_count": 8,
   "metadata": {},
   "outputs": [
    {
     "data": {
      "image/png": "[encoded data removed]",
      "text/plain": [
       "<Figure size 432x288 with 1 Axes>"
      ]
     },
     "metadata": {
      "image/png": {
       "height": 277,
       "width": 406
      },
      "needs_background": "light"
     },
     "output_type": "display_data"
    }
   ],
   "source": [
    "sns.countplot(x='arm', data=data)\n",
    "plt.show()"
   ]
  },
  {
   "cell_type": "markdown",
   "metadata": {},
   "source": [
    "#### Look at overall conversion rate differences along age, gender, and fitness."
   ]
  },
  {
   "cell_type": "code",
   "execution_count": 9,
   "metadata": {},
   "outputs": [
    {
     "data": {
      "image/png": "[encoded data removed]",
      "text/plain": [
       "<Figure size 432x288 with 1 Axes>"
      ]
     },
     "metadata": {
      "image/png": {
       "height": 277,
       "width": 402
      },
      "needs_background": "light"
     },
     "output_type": "display_data"
    }
   ],
   "source": [
    "age_order = np.sort(data.age.unique())\n",
    "sns.barplot(x='age', y='converted', data=data, order=age_order)\n",
    "plt.show()"
   ]
  },
  {
   "cell_type": "code",
   "execution_count": 10,
   "metadata": {},
   "outputs": [
    {
     "data": {
      "image/png": "[encoded data removed]",
      "text/plain": [
       "<Figure size 432x288 with 1 Axes>"
      ]
     },
     "metadata": {
      "image/png": {
       "height": 277,
       "width": 411
      },
      "needs_background": "light"
     },
     "output_type": "display_data"
    }
   ],
   "source": [
    "sns.barplot(x='gender', y='converted', data=data)\n",
    "plt.show()"
   ]
  },
  {
   "cell_type": "code",
   "execution_count": 11,
   "metadata": {},
   "outputs": [
    {
     "data": {
      "image/png": "[encoded data removed]",
      "text/plain": [
       "<Figure size 432x288 with 1 Axes>"
      ]
     },
     "metadata": {
      "image/png": {
       "height": 277,
       "width": 402
      },
      "needs_background": "light"
     },
     "output_type": "display_data"
    }
   ],
   "source": [
    "sns.barplot(x='fitness', y='converted', data=data)\n",
    "plt.show()"
   ]
  },
  {
   "cell_type": "code",
   "execution_count": 12,
   "metadata": {},
   "outputs": [
    {
     "data": {
      "image/png": "[encoded data removed]",
      "text/plain": [
       "<Figure size 432x288 with 1 Axes>"
      ]
     },
     "metadata": {
      "image/png": {
       "height": 277,
       "width": 406
      },
      "needs_background": "light"
     },
     "output_type": "display_data"
    }
   ],
   "source": [
    "sns.countplot(x='arm', data=data)\n",
    "plt.show()"
   ]
  },
  {
   "cell_type": "code",
   "execution_count": 13,
   "metadata": {},
   "outputs": [
    {
     "data": {
      "image/png": "[encoded data removed]",
      "text/plain": [
       "<Figure size 469.15x360 with 1 Axes>"
      ]
     },
     "metadata": {
      "image/png": {
       "height": 351,
       "width": 443
      },
      "needs_background": "light"
     },
     "output_type": "display_data"
    }
   ],
   "source": [
    "sns.catplot(x='arm', y='converted', hue='gender', data=data, kind='point')\n",
    "plt.show()"
   ]
  },
  {
   "cell_type": "markdown",
   "metadata": {},
   "source": [
    "<a id='day5'></a>\n",
    "## Model conversion rates through day 5 with `pymc3`\n",
    "---\n",
    "\n",
    "We will start by just modeling the conversion rate distributions for arms A and B through day 5. At day 5, arm C has still not been introduced yet and so there are just 2 arms."
   ]
  },
  {
   "cell_type": "markdown",
   "metadata": {},
   "source": [
    "#### Subset the data to the first 5 days"
   ]
  },
  {
   "cell_type": "code",
   "execution_count": 14,
   "metadata": {},
   "outputs": [],
   "source": [
    "import pymc3 as pm"
   ]
  },
  {
   "cell_type": "markdown",
   "metadata": {},
   "source": [
    "### Set up a `pymc3` model and uniform priors for the probabilities of conversion for arms A and B\n",
    "<a id='day5-model'></a>\n",
    "\n",
    "Recall that `pymc3` uses the `with ...` syntax for defining models. The first step in setting up a new model is to define the model as the \"context\" as\n",
    "\n",
    ">```python\n",
    "with pm.Model() as day5_model:\n",
    "    #\n",
    "```\n",
    "\n",
    "We are going to model the _probability distributions for conversion rates for arms A and B._ As always with Bayesian statistics, we need to define prior distributions for our belief about these probabilities/rates of conversion per arm.\n",
    "\n",
    "Let's say we have no belief whatsoever about rates, and so we will set an uninformative, flat prior over probabilities from 0 to 1 for both arms. This is equivalent to saying that we believe all conversion rates to be equally likely for both arms.\n",
    "\n",
    "The syntax for setting up this flat prior is:\n",
    "\n",
    ">```python\n",
    "arm_A_prior = pm.Uniform('A_prior', lower=0, upper=1)\n",
    "```\n",
    "\n",
    "Set up the priors for both arms inside the `with ...` model block."
   ]
  },
  {
   "cell_type": "code",
   "execution_count": 15,
   "metadata": {},
   "outputs": [],
   "source": [
    "with pm.Model() as day5_model:\n",
    "\n",
    "    A_p = pm.Uniform('A_prob', lower=0, upper=1)\n",
    "    B_p = pm.Uniform('B_prob', lower=0, upper=1)"
   ]
  },
  {
   "cell_type": "markdown",
   "metadata": {},
   "source": [
    "### Set up `pm.Bernoulli` distributions to model conversions for arms A and B\n",
    "\n",
    "<a id='day5-bernoulli'></a>\n",
    "Now that you've initialized your model, your `with` statements will be\n",
    "\n",
    ">```python\n",
    "with day5_model:\n",
    "    #\n",
    "```\n",
    "\n",
    "Be careful not to re-define the model with `pm.Model()` or it will wipe the uniform priors you set before!\n",
    "\n",
    "We are now going to set up the \"likelihood\" portion of the model. This is going to model the $P(data\\;|\\;\\theta)$ part of Bayes theorem.\n",
    "\n",
    "Our conversions are represented by a vector of 1s and 0s denoting whether or not the user converted or not. This is known as a \"Bernoulli\" process and pymc3 has an appropriate function to handle it:\n",
    "\n",
    ">```python\n",
    "A_conversions = pm.Bernoulli('A_conversions', p=arm_A_prior, observed=arm_A_conversions)\n",
    "```\n",
    "\n",
    "`p=` is set to the prior for the arm that you defined in the last section. \n",
    "\n",
    "`observed=` should be set to the `converted` values for that arm specifically in the data.\n",
    "\n",
    "By giving it an `observed` parameter, we are telling pymc3 that we want this to evaluate the likelihood of our data (the conversions) against models represented by the `p=` probability argument. We assign `p=` to be our prior belief about conversion rates for that arm because we want to update this belief (convert to posterior) based on the conversion data we have observed for that arm."
   ]
  },
  {
   "cell_type": "code",
   "execution_count": 16,
   "metadata": {},
   "outputs": [],
   "source": [
    "current = data[data.day < 5]"
   ]
  },
  {
   "cell_type": "code",
   "execution_count": 17,
   "metadata": {},
   "outputs": [],
   "source": [
    "with day5_model:\n",
    "\n",
    "    A = pm.Bernoulli(\n",
    "        'A', p=A_p, observed=current[current.arm == \"A\"].converted.values)\n",
    "    B = pm.Bernoulli(\n",
    "        'B', p=B_p, observed=current[current.arm == \"B\"].converted.values)\n",
    "\n",
    "    AvB = pm.Deterministic('AvB', A_p - B_p)"
   ]
  },
  {
   "cell_type": "markdown",
   "metadata": {},
   "source": [
    "### Fit the model\n",
    "<a id='day5-fit'></a>\n",
    "\n",
    "Now that we've set up the prior distributions and likelihoods, we can actually fit the model.\n",
    "\n",
    "Below is code that will run the sampling procedure to find the posteriors:\n",
    "\n",
    "```python\n",
    "with day5_model:\n",
    "    # obtain decent starting values via the find_MAP() function:\n",
    "    start = pm.find_MAP()\n",
    "    # construct the \"trace\" variable that holds samples for all of our distributions:\n",
    "    trace = pm.sample(50000, start=start)\n",
    "```\n",
    "\n",
    "Again you use the context `with day5_model:` to run code for your model.\n",
    "\n",
    "`start = pm.find_MAP()` will try to find a good starting point for the sampling process. This means that your model will converge on the \"likely\" area much faster (though it makes the fitting slower initially).\n",
    "\n",
    "`trace = pm.sample(50000, start=start)` uses the sampling method in `pymc3` to perform 50,000 sampling iterations. This will automatically assign the NUTS sampler for you. The dataset is small so the speed shouldn't be too bad.\n",
    "\n",
    "When this completes, the `trace` variable now contains the posterior samples for the distributions we specified while constructing the model.\n",
    "\n",
    "```python\n",
    "# We defined our arm A prior distribution to be uniform and named it 'arm_A_prior'. \n",
    "# The pm.sample() procedure converted this into our posterior belief for the rate\n",
    "# of conversions in arm A. You can access these posterior samples using the name\n",
    "# you gave the variable when you created it:\n",
    "#\n",
    "trace['arm_A_prior']\n",
    "#\n",
    "# this will be a vector of values that are different potential rates of conversion\n",
    "# for arm A. A histogram of these rates defines, roughly, the posterior probability\n",
    "# distribution for the arm A rates after we consider the data we have collected.\n",
    "```"
   ]
  },
  {
   "cell_type": "code",
   "execution_count": 18,
   "metadata": {},
   "outputs": [
    {
     "name": "stderr",
     "output_type": "stream",
     "text": [
      "Auto-assigning NUTS sampler...\n",
      "Initializing NUTS using jitter+adapt_diag...\n",
      "Multiprocess sampling (4 chains in 4 jobs)\n",
      "NUTS: [B_prob, A_prob]\n",
      "Sampling 4 chains: 100%|██████████| 44000/44000 [00:05<00:00, 7586.87draws/s]\n"
     ]
    }
   ],
   "source": [
    "with day5_model:\n",
    "    trace = pm.sample(10000, tune=1000)"
   ]
  },
  {
   "cell_type": "code",
   "execution_count": 19,
   "metadata": {},
   "outputs": [
    {
     "ename": "ImportError",
     "evalue": "ArviZ is not installed. In order to use `plot_posterior`:\npip install arviz",
     "output_type": "error",
     "traceback": [
      "\u001b[0;31m---------------------------------------------------------------------------\u001b[0m",
      "\u001b[0;31mImportError\u001b[0m                               Traceback (most recent call last)",
      "\u001b[0;32m<ipython-input-19-0283d8799315>\u001b[0m in \u001b[0;36m<module>\u001b[0;34m\u001b[0m\n\u001b[1;32m      1\u001b[0m pm.plot_posterior(trace, var_names=['A_prob', 'B_prob', 'AvB'],\n\u001b[0;32m----> 2\u001b[0;31m                   ref_val=0)\n\u001b[0m\u001b[1;32m      3\u001b[0m \u001b[0mplt\u001b[0m\u001b[0;34m.\u001b[0m\u001b[0mshow\u001b[0m\u001b[0;34m(\u001b[0m\u001b[0;34m)\u001b[0m\u001b[0;34m\u001b[0m\u001b[0;34m\u001b[0m\u001b[0m\n",
      "\u001b[0;32m/anaconda3/lib/python3.7/site-packages/pymc3/plots/__init__.py\u001b[0m in \u001b[0;36mwrapped\u001b[0;34m(*args, **kwargs)\u001b[0m\n\u001b[1;32m     40\u001b[0m                 \u001b[0mwarnings\u001b[0m\u001b[0;34m.\u001b[0m\u001b[0mwarn\u001b[0m\u001b[0;34m(\u001b[0m\u001b[0;34m'Keyword argument `{old}` renamed to `{new}`, and will be removed in pymc3 3.8'\u001b[0m\u001b[0;34m.\u001b[0m\u001b[0mformat\u001b[0m\u001b[0;34m(\u001b[0m\u001b[0mold\u001b[0m\u001b[0;34m=\u001b[0m\u001b[0mold\u001b[0m\u001b[0;34m,\u001b[0m \u001b[0mnew\u001b[0m\u001b[0;34m=\u001b[0m\u001b[0mnew\u001b[0m\u001b[0;34m)\u001b[0m\u001b[0;34m)\u001b[0m\u001b[0;34m\u001b[0m\u001b[0;34m\u001b[0m\u001b[0m\n\u001b[1;32m     41\u001b[0m                 \u001b[0mkwargs\u001b[0m\u001b[0;34m[\u001b[0m\u001b[0mnew\u001b[0m\u001b[0;34m]\u001b[0m \u001b[0;34m=\u001b[0m \u001b[0mkwargs\u001b[0m\u001b[0;34m.\u001b[0m\u001b[0mpop\u001b[0m\u001b[0;34m(\u001b[0m\u001b[0mold\u001b[0m\u001b[0;34m)\u001b[0m\u001b[0;34m\u001b[0m\u001b[0;34m\u001b[0m\u001b[0m\n\u001b[0;32m---> 42\u001b[0;31m             \u001b[0;32mreturn\u001b[0m \u001b[0mfunc\u001b[0m\u001b[0;34m(\u001b[0m\u001b[0;34m*\u001b[0m\u001b[0margs\u001b[0m\u001b[0;34m,\u001b[0m \u001b[0;34m**\u001b[0m\u001b[0mkwargs\u001b[0m\u001b[0;34m)\u001b[0m\u001b[0;34m\u001b[0m\u001b[0;34m\u001b[0m\u001b[0m\n\u001b[0m\u001b[1;32m     43\u001b[0m     \u001b[0;32mreturn\u001b[0m \u001b[0mwrapped\u001b[0m\u001b[0;34m\u001b[0m\u001b[0;34m\u001b[0m\u001b[0m\n\u001b[1;32m     44\u001b[0m \u001b[0;34m\u001b[0m\u001b[0m\n",
      "\u001b[0;32m/anaconda3/lib/python3.7/site-packages/pymc3/plots/__init__.py\u001b[0m in \u001b[0;36m__call__\u001b[0;34m(self, *args, **kwargs)\u001b[0m\n\u001b[1;32m     20\u001b[0m         \u001b[0;32mdef\u001b[0m \u001b[0m__call__\u001b[0m\u001b[0;34m(\u001b[0m\u001b[0mself\u001b[0m\u001b[0;34m,\u001b[0m \u001b[0;34m*\u001b[0m\u001b[0margs\u001b[0m\u001b[0;34m,\u001b[0m \u001b[0;34m**\u001b[0m\u001b[0mkwargs\u001b[0m\u001b[0;34m)\u001b[0m\u001b[0;34m:\u001b[0m\u001b[0;34m\u001b[0m\u001b[0;34m\u001b[0m\u001b[0m\n\u001b[1;32m     21\u001b[0m             raise ImportError(\n\u001b[0;32m---> 22\u001b[0;31m                 \u001b[0;34m\"ArviZ is not installed. In order to use `{0.attr}`:\\npip install arviz\"\u001b[0m\u001b[0;34m.\u001b[0m\u001b[0mformat\u001b[0m\u001b[0;34m(\u001b[0m\u001b[0mself\u001b[0m\u001b[0;34m)\u001b[0m\u001b[0;34m\u001b[0m\u001b[0;34m\u001b[0m\u001b[0m\n\u001b[0m\u001b[1;32m     23\u001b[0m             )\n\u001b[1;32m     24\u001b[0m \u001b[0;34m\u001b[0m\u001b[0m\n",
      "\u001b[0;31mImportError\u001b[0m: ArviZ is not installed. In order to use `plot_posterior`:\npip install arviz"
     ]
    }
   ],
   "source": [
    "pm.plot_posterior(trace, var_names=['A_prob', 'B_prob', 'AvB'],\n",
    "                  ref_val=0)\n",
    "plt.show()"
   ]
  },
  {
   "cell_type": "code",
   "execution_count": null,
   "metadata": {},
   "outputs": [],
   "source": [
    "trace[0]"
   ]
  },
  {
   "cell_type": "code",
   "execution_count": null,
   "metadata": {},
   "outputs": [],
   "source": [
    "pm.summary(trace)"
   ]
  },
  {
   "cell_type": "markdown",
   "metadata": {},
   "source": [
    "## Build a model through day 11 for an A/B/C test\n",
    "---\n",
    "<a id='ind'></a>\n",
    "\n",
    "Subset the data up through day 11. You will notice now that there are 3 different arms: A, B, and C.\n",
    "\n",
    "You will need to add in the third arm into the model.\n",
    "\n",
    "Additionally, calculate 3 \"deterministic\" variables that look at differences between the three arms:\n",
    "\n",
    "- `A` vs. `B`\n",
    "- `A` vs. `C`\n",
    "- `B` vs. `C`\n",
    "\n",
    "What action would you take given these results?"
   ]
  },
  {
   "cell_type": "code",
   "execution_count": null,
   "metadata": {},
   "outputs": [],
   "source": [
    "current = data[data.day < 11]\n",
    "print(current.shape, current.arm.unique())"
   ]
  },
  {
   "cell_type": "code",
   "execution_count": null,
   "metadata": {},
   "outputs": [],
   "source": [
    "with pm.Model() as day11_model:\n",
    "\n",
    "    A_p = pm.Uniform('A_prob', lower=0, upper=1)\n",
    "    B_p = pm.Uniform('B_prob', lower=0, upper=1)\n",
    "    C_p = pm.Uniform('C_prob', lower=0, upper=1)\n",
    "\n",
    "    A = pm.Bernoulli(\n",
    "        'A', p=A_p, observed=current[current.arm == 'A'].converted.values)\n",
    "    B = pm.Bernoulli(\n",
    "        'B', p=B_p, observed=current[current.arm == 'B'].converted.values)\n",
    "    C = pm.Bernoulli(\n",
    "        'C', p=C_p, observed=current[current.arm == 'C'].converted.values)\n",
    "\n",
    "    AvB = pm.Deterministic('AvB', A_p - B_p)\n",
    "    AvC = pm.Deterministic('AvC', A_p - C_p)\n",
    "    BvC = pm.Deterministic('BvC', B_p - C_p)\n",
    "\n",
    "    trace = pm.sample(10000, tune=1000)"
   ]
  },
  {
   "cell_type": "code",
   "execution_count": null,
   "metadata": {},
   "outputs": [],
   "source": [
    "pm.plot_posterior(\n",
    "    trace, var_names=['AvB', 'BvC', 'AvC'], ref_val=0.)\n",
    "plt.show()"
   ]
  },
  {
   "cell_type": "code",
   "execution_count": null,
   "metadata": {},
   "outputs": [],
   "source": [
    "pm.summary(trace)"
   ]
  },
  {
   "cell_type": "code",
   "execution_count": null,
   "metadata": {},
   "outputs": [],
   "source": [
    "def plot_betas(beta_traces, beta_names, colors=['steelblue', 'darkred', 'goldenrod']):\n",
    "    fig, ax = plt.subplots(figsize=(9, 5))\n",
    "    for i, bn in enumerate(beta_names):\n",
    "        ax = sns.distplot(beta_traces[i], kde=True, color=colors[i], label=bn)\n",
    "    ax.legend(loc='upper right')\n",
    "    plt.show()"
   ]
  },
  {
   "cell_type": "code",
   "execution_count": null,
   "metadata": {},
   "outputs": [],
   "source": [
    "plot_betas([trace['A_prob'],\n",
    "            trace['B_prob'],\n",
    "            trace['C_prob']],\n",
    "           ['A_prob', 'B_prob', 'C_prob'])"
   ]
  },
  {
   "cell_type": "markdown",
   "metadata": {
    "collapsed": true
   },
   "source": [
    "We can be fairly certain that arm A has a higher conversion rate than arm B.\n",
    "There is not enough data to make a statement about arm C."
   ]
  },
  {
   "cell_type": "markdown",
   "metadata": {},
   "source": [
    "## Sample from beta distributions to evaluate the split test\n",
    "<a id='beta'></a>\n",
    "\n",
    "Our arms are represented as Bernoulli distributed random variables (binary outcome conversion vs. failure). Our prior distributions model the probability of different rates for the arms. \n",
    "\n",
    "> **Note:** a uniform distribution between 0 and 1 is equivalent to a Beta(1,1), or in other words a Beta distribution with 0 successes and 0 failures.\n",
    "\n",
    "We know that the Beta distribution is a conjugate prior to the binomial likelihood, and therefore the posterior distributions for our arms are also beta distributions.\n",
    "\n",
    "<a id='bdists'></a>"
   ]
  },
  {
   "cell_type": "markdown",
   "metadata": {},
   "source": [
    "### Create beta distributions representing the conversions vs. failures for each arm for *all* days.\n",
    "\n",
    "The beta distributions will be parameterized with alpha and beta, which are equivalent to successes + 1 and failures + 1 respectively."
   ]
  },
  {
   "cell_type": "code",
   "execution_count": null,
   "metadata": {},
   "outputs": [],
   "source": [
    "groups = data.groupby('arm')['converted'].agg([sum, len])\n",
    "groups"
   ]
  },
  {
   "cell_type": "code",
   "execution_count": null,
   "metadata": {},
   "outputs": [],
   "source": [
    "groups.rename(columns={'sum': 'successes'}, inplace=True)\n",
    "groups['failures'] = groups['len'] - groups['successes']\n",
    "groups"
   ]
  },
  {
   "cell_type": "code",
   "execution_count": null,
   "metadata": {},
   "outputs": [],
   "source": [
    "a_beta = stats.beta(groups.loc['A', 'successes']+1,\n",
    "                    groups.loc['A', 'failures']+1)\n",
    "b_beta = stats.beta(groups.loc['B', 'successes']+1,\n",
    "                    groups.loc['B', 'failures']+1)\n",
    "c_beta = stats.beta(groups.loc['C', 'successes']+1,\n",
    "                    groups.loc['C', 'failures']+1)"
   ]
  },
  {
   "cell_type": "markdown",
   "metadata": {},
   "source": [
    "#### Plot the beta distributions across the 0-0.4 range of rates."
   ]
  },
  {
   "cell_type": "code",
   "execution_count": null,
   "metadata": {},
   "outputs": [],
   "source": [
    "fig, ax = plt.subplots(figsize=(9, 5))\n",
    "rates = np.linspace(0.001, 0.40, 300)\n",
    "ax.plot(rates, a_beta.pdf(rates), color='steelblue', lw=3, label='A')\n",
    "ax.plot(rates, b_beta.pdf(rates), color='darkred', lw=3, label='B')\n",
    "ax.plot(rates, c_beta.pdf(rates), color='goldenrod', lw=3, label='C')\n",
    "ax.legend(loc='upper right')\n",
    "plt.show()"
   ]
  },
  {
   "cell_type": "markdown",
   "metadata": {},
   "source": [
    "### Calculate AvB, AvC, and BvC using sampling from the beta distribution\n",
    "<a id='beta-sampling'></a>\n",
    "\n",
    "The beta distributions for the arm are our posterior distributions for the conversion rate of each arm given the observed data.\n",
    "\n",
    "We can calculate the distributions of differences in rates between the arms using sampling. The procedure is:\n",
    "1. Set up a certain number of iterations (1000, for example)\n",
    "2. For each iteration, take a random draw from each beta distribution\n",
    "3. Calculate the difference between the sampled rates between the arms\n",
    "4. Store the differences in lists\n",
    "\n",
    "Then you can plot these distributions of differences."
   ]
  },
  {
   "cell_type": "code",
   "execution_count": null,
   "metadata": {},
   "outputs": [],
   "source": [
    "a_samples = a_beta.rvs(5000)\n",
    "b_samples = b_beta.rvs(5000)\n",
    "c_samples = c_beta.rvs(5000)\n",
    "\n",
    "AvB = a_samples - b_samples\n",
    "AvC = a_samples - c_samples\n",
    "BvC = b_samples - c_samples"
   ]
  },
  {
   "cell_type": "code",
   "execution_count": null,
   "metadata": {},
   "outputs": [],
   "source": [
    "ax = plt.subplot()\n",
    "sns.distplot(AvB, ax=ax, label='AvB')\n",
    "sns.distplot(AvC, ax=ax, label='AvC')\n",
    "sns.distplot(BvC, ax=ax, label='BvC')\n",
    "ax.axvline(0, lw=2, ls='dashed', c='black')\n",
    "plt.legend()\n",
    "plt.show()"
   ]
  },
  {
   "cell_type": "code",
   "execution_count": null,
   "metadata": {},
   "outputs": [],
   "source": [
    "print(AvB.mean(), AvC.mean(), BvC.mean())\n",
    "print(AvB.std(), AvC.std(), BvC.std())"
   ]
  },
  {
   "cell_type": "code",
   "execution_count": null,
   "metadata": {},
   "outputs": [],
   "source": [
    "result_sampling = np.array((a_samples.mean(), b_samples.mean(\n",
    "), c_samples.mean(), AvB.mean(), AvC.mean(), BvC.mean()))"
   ]
  },
  {
   "cell_type": "markdown",
   "metadata": {},
   "source": [
    "### Validate that these results are the same as a `pymc3` model\n",
    "<a id='beta-vs-pymc3'></a>\n",
    "\n",
    "You can just take the model you built for day 11 and adjust it to use all the days. Plot the posterior distributions and validate that the results are (almost) the same as you get from sampling from the beta distributions."
   ]
  },
  {
   "cell_type": "code",
   "execution_count": null,
   "metadata": {},
   "outputs": [],
   "source": [
    "with pm.Model() as all_days_model:\n",
    "\n",
    "    A_p = pm.Uniform('A_prob', lower=0, upper=1)\n",
    "    B_p = pm.Uniform('B_prob', lower=0, upper=1)\n",
    "    C_p = pm.Uniform('C_prob', lower=0, upper=1)\n",
    "\n",
    "    A = pm.Bernoulli(\n",
    "        'A', p=A_p, observed=data[data.arm == 'A'].converted.values)\n",
    "    B = pm.Bernoulli(\n",
    "        'B', p=B_p, observed=data[data.arm == 'B'].converted.values)\n",
    "    C = pm.Bernoulli(\n",
    "        'C', p=C_p, observed=data[data.arm == 'C'].converted.values)\n",
    "\n",
    "    AvB = pm.Deterministic('AvB', A_p - B_p)\n",
    "    AvC = pm.Deterministic('AvC', A_p - C_p)\n",
    "    BvC = pm.Deterministic('BvC', B_p - C_p)\n",
    "\n",
    "    trace = pm.sample(10000, tune=1000)"
   ]
  },
  {
   "cell_type": "code",
   "execution_count": null,
   "metadata": {},
   "outputs": [],
   "source": [
    "pm.plot_posterior(\n",
    "    trace, var_names=['AvB', 'AvC', 'BvC'], ref_val=0.)\n",
    "plt.show()"
   ]
  },
  {
   "cell_type": "code",
   "execution_count": null,
   "metadata": {},
   "outputs": [],
   "source": [
    "pm.summary(trace)"
   ]
  },
  {
   "cell_type": "markdown",
   "metadata": {},
   "source": [
    "Check that the results are the same as above:"
   ]
  },
  {
   "cell_type": "code",
   "execution_count": null,
   "metadata": {},
   "outputs": [],
   "source": [
    "np.around(result_sampling - pm.summary(trace)['mean'].values, 3)"
   ]
  },
  {
   "cell_type": "markdown",
   "metadata": {},
   "source": [
    "<a id='resources'></a>\n",
    "## Additional resources\n",
    "---\n",
    "+ [Obama Fundraising](https://blog.optimizely.com/2010/11/29/how-obama-raised-60-million-by-running-a-simple-experiment/) example\n",
    "+ [Social Media Marketing](https://vwo.com/blog/amd-3600-social-sharing-increase) example\n",
    "+ [Google Multi-Armed Bandit](https://support.google.com/analytics/answer/2844870?hl=en) explanation\n",
    "+ [Designing an AB Test](http://www.win-vector.com/blog/2015/06/designing-ab-tests/)\n",
    "+ [AB Testing Considerations](http://insightdatascience.com/blog/ab_testing_statistics.html)\n",
    "+ Khan Academy [T-Test vs Z-Tests](https://www.khanacademy.org/math/probability/statistics-inferential/hypothesis-testing/v/z-statistics-vs-t-statistics)\n",
    "+ Khan Academy [T-Tests and Confidence Intervals](https://www.khanacademy.org/math/probability/statistics-inferential/hypothesis-testing/v/t-statistic-confidence-interval)\n",
    "+ [NerdWallet's discussion of improving A/B tests](https://assets.nerdwallet.com/blog/wp-content/uploads/2016/05/ab_stats_blog.pdf)\n",
    "+ Tinder's [example](https://www.wired.com/2016/10/tinder-taps-inner-vegas-guess-people-will-swipe-right/) on concurrent A/B testing for smart photos"
   ]
  }
 ],
 "metadata": {
  "anaconda-cloud": {},
  "kernelspec": {
   "display_name": "Python 3",
   "language": "python",
   "name": "python3"
  },
  "language_info": {
   "codemirror_mode": {
    "name": "ipython",
    "version": 3
   },
   "file_extension": ".py",
   "mimetype": "text/x-python",
   "name": "python",
   "nbconvert_exporter": "python",
   "pygments_lexer": "ipython3",
   "version": "3.7.3"
  },
  "toc": {
   "base_numbering": 1,
   "nav_menu": {},
   "number_sections": false,
   "sideBar": true,
   "skip_h1_title": true,
   "title_cell": "Table of Contents",
   "title_sidebar": "Contents",
   "toc_cell": false,
   "toc_position": {
    "height": "337px",
    "left": "0px",
    "right": "620.295px",
    "top": "62px",
    "width": "110px"
   },
   "toc_section_display": "block",
   "toc_window_display": false
  }
 },
 "nbformat": 4,
 "nbformat_minor": 2
}
