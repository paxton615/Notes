{
 "cells": [
  {
   "cell_type": "markdown",
   "metadata": {},
   "source": [
    "<img src=\"http://imgur.com/1ZcRyrc.png\" style=\"float: left; margin: 20px; height: 55px\">\n",
    "\n",
    "# The beta binomial model using pymc3"
   ]
  },
  {
   "cell_type": "markdown",
   "metadata": {
    "toc": true
   },
   "source": [
    "<h1>Lesson Guide<span class=\"tocSkip\"></span></h1>\n",
    "<div class=\"toc\"><ul class=\"toc-item\"><li><span><a href=\"#Learning-objectives\" data-toc-modified-id=\"Learning-objectives-1\">Learning objectives</a></span></li><li><span><a href=\"#Determining-posterior-distributions-with-Markov-Chain-Monte-Carlo\" data-toc-modified-id=\"Determining-posterior-distributions-with-Markov-Chain-Monte-Carlo-2\">Determining posterior distributions with Markov Chain Monte Carlo</a></span></li><li><span><a href=\"#Enter-pymc3\" data-toc-modified-id=\"Enter-pymc3-3\">Enter <code>pymc3</code></a></span></li><li><span><a href=\"#Load-the-data\" data-toc-modified-id=\"Load-the-data-4\">Load the data</a></span></li><li><span><a href=\"#First-pymc3-model\" data-toc-modified-id=\"First-pymc3-model-5\">First pymc3 model</a></span></li><li><span><a href=\"#Model-with-two-players\" data-toc-modified-id=\"Model-with-two-players-6\">Model with two players</a></span></li><li><span><a href=\"#Model-with-many-players\" data-toc-modified-id=\"Model-with-many-players-7\">Model with many players</a></span></li><li><span><a href=\"#Conclusions\" data-toc-modified-id=\"Conclusions-8\">Conclusions</a></span></li></ul></div>"
   ]
  },
  {
   "cell_type": "markdown",
   "metadata": {},
   "source": [
    "## Learning objectives\n",
    "\n",
    "- Run the beta-binomial model with pymc3\n",
    "- Compare to analytic results obtained with conjugate priors\n",
    "- Get a first feeling about how to set up and run a Bayesian model"
   ]
  },
  {
   "cell_type": "markdown",
   "metadata": {},
   "source": [
    "## Determining posterior distributions with Markov Chain Monte Carlo\n",
    "\n",
    "The idea of conjugate priors is very nice and allows for quick computation. In most cases however, you won't find yourself in such a simple situation and heavier machinery is required. \n",
    "One possibility is Markov Chain Monte Carlo sampling. The aim is still to obtain the posterior distribution, but rather than trying to obtain a nice formula describing its probability density we are going to obtain a bunch of values representing the posterior distribution. The density function could be obtained as a fit to the histogram of those values.\n",
    "\n",
    "To illustrate this idea, we are going to start with the baseball dataset where we will be able to verify that our procedure does the right thing."
   ]
  },
  {
   "cell_type": "code",
   "execution_count": 3,
   "metadata": {},
   "outputs": [],
   "source": [
    "import warnings\n",
    "warnings.simplefilter('ignore')\n",
    "\n",
    "import pandas as pd\n",
    "import numpy as np\n",
    "import matplotlib.pyplot as plt\n",
    "import seaborn as sns\n",
    "sns.set(font_scale=1.5)\n",
    "\n",
    "%config InlineBackend.figure_format = 'retina'\n",
    "%matplotlib inline\n",
    "\n",
    "from scipy import stats"
   ]
  },
  {
   "cell_type": "markdown",
   "metadata": {},
   "source": [
    "## Enter `pymc3`\n",
    "\n",
    "\n",
    "`Pymc3` is the Bayesian modeling package we will be using. It is a powerful and flexible architecture for performing a huge variety of Bayesian analyses. We will only be scratching the surface today."
   ]
  },
  {
   "cell_type": "code",
   "execution_count": 4,
   "metadata": {},
   "outputs": [],
   "source": [
    "import pymc3 as pm"
   ]
  },
  {
   "cell_type": "markdown",
   "metadata": {},
   "source": [
    "## Load the data"
   ]
  },
  {
   "cell_type": "code",
   "execution_count": 5,
   "metadata": {},
   "outputs": [],
   "source": [
    "hits = pd.read_csv(\n",
    "    '../../../../resource-datasets/baseball_hits/career_hits.csv')\n",
    "hits['misses'] = hits['at_bat'] - hits['hits']"
   ]
  },
  {
   "cell_type": "code",
   "execution_count": 6,
   "metadata": {},
   "outputs": [
    {
     "data": {
      "text/html": [
       "<div>\n",
       "<style scoped>\n",
       "    .dataframe tbody tr th:only-of-type {\n",
       "        vertical-align: middle;\n",
       "    }\n",
       "\n",
       "    .dataframe tbody tr th {\n",
       "        vertical-align: top;\n",
       "    }\n",
       "\n",
       "    .dataframe thead th {\n",
       "        text-align: right;\n",
       "    }\n",
       "</style>\n",
       "<table border=\"1\" class=\"dataframe\">\n",
       "  <thead>\n",
       "    <tr style=\"text-align: right;\">\n",
       "      <th></th>\n",
       "      <th>name</th>\n",
       "      <th>hits</th>\n",
       "      <th>at_bat</th>\n",
       "      <th>average</th>\n",
       "      <th>misses</th>\n",
       "    </tr>\n",
       "  </thead>\n",
       "  <tbody>\n",
       "    <tr>\n",
       "      <th>0</th>\n",
       "      <td>Hank Aaron</td>\n",
       "      <td>3771</td>\n",
       "      <td>12364</td>\n",
       "      <td>0.304998</td>\n",
       "      <td>8593</td>\n",
       "    </tr>\n",
       "    <tr>\n",
       "      <th>1</th>\n",
       "      <td>Tommie Aaron</td>\n",
       "      <td>216</td>\n",
       "      <td>944</td>\n",
       "      <td>0.228814</td>\n",
       "      <td>728</td>\n",
       "    </tr>\n",
       "    <tr>\n",
       "      <th>2</th>\n",
       "      <td>Andy Abad</td>\n",
       "      <td>2</td>\n",
       "      <td>21</td>\n",
       "      <td>0.095238</td>\n",
       "      <td>19</td>\n",
       "    </tr>\n",
       "    <tr>\n",
       "      <th>3</th>\n",
       "      <td>John Abadie</td>\n",
       "      <td>11</td>\n",
       "      <td>49</td>\n",
       "      <td>0.224490</td>\n",
       "      <td>38</td>\n",
       "    </tr>\n",
       "    <tr>\n",
       "      <th>4</th>\n",
       "      <td>Ed Abbaticchio</td>\n",
       "      <td>772</td>\n",
       "      <td>3044</td>\n",
       "      <td>0.253614</td>\n",
       "      <td>2272</td>\n",
       "    </tr>\n",
       "  </tbody>\n",
       "</table>\n",
       "</div>"
      ],
      "text/plain": [
       "             name  hits  at_bat   average  misses\n",
       "0      Hank Aaron  3771   12364  0.304998    8593\n",
       "1    Tommie Aaron   216     944  0.228814     728\n",
       "2       Andy Abad     2      21  0.095238      19\n",
       "3     John Abadie    11      49  0.224490      38\n",
       "4  Ed Abbaticchio   772    3044  0.253614    2272"
      ]
     },
     "execution_count": 6,
     "metadata": {},
     "output_type": "execute_result"
    }
   ],
   "source": [
    "hits.head()"
   ]
  },
  {
   "cell_type": "code",
   "execution_count": 7,
   "metadata": {},
   "outputs": [
    {
     "data": {
      "text/plain": [
       "(9429, 5)"
      ]
     },
     "execution_count": 7,
     "metadata": {},
     "output_type": "execute_result"
    }
   ],
   "source": [
    "hits.shape"
   ]
  },
  {
   "cell_type": "code",
   "execution_count": 8,
   "metadata": {},
   "outputs": [],
   "source": [
    "prior_hits = 26+1\n",
    "prior_misses = 74+1\n",
    "hits['MAP'] = list(map(lambda k, n: \n",
    "                ((prior_hits + 1 + k - 1) / \n",
    "                (prior_hits + 1 + k + prior_misses + 1 + (n - k) - 2)),\n",
    "                 hits.hits.values, \n",
    "                 hits.at_bat.values))"
   ]
  },
  {
   "cell_type": "code",
   "execution_count": 9,
   "metadata": {},
   "outputs": [
    {
     "data": {
      "image/png": "[encoded data removed]",
      "text/plain": [
       "<Figure size 432x432 with 3 Axes>"
      ]
     },
     "metadata": {
      "image/png": {
       "height": 423,
       "width": 432
      },
      "needs_background": "light"
     },
     "output_type": "display_data"
    }
   ],
   "source": [
    "g = sns.jointplot('average', 'MAP', data=hits)\n",
    "g.ax_joint.plot('MAP', 'MAP', data=hits, lw=4, c='r')\n",
    "g.ax_joint.axhline(0.26, 0, 1, c='k', ls='--', lw=4)\n",
    "g.ax_joint.legend(['MAP versus MAP', 'average (0.26)', 'MAP versus average', ])\n",
    "plt.show()"
   ]
  },
  {
   "cell_type": "markdown",
   "metadata": {},
   "source": [
    "## First pymc3 model\n",
    "\n",
    "> **Note**: `pymc3` sets up models using the Python `with ... :` syntax.\n",
    "\n",
    "In our model, we are going to define a number of probability distributions. For the beta-binomial model, the prior is the Beta-distribution and the likelihood function is the binomial distribution. The prior picks up our prior believes about hitting rates, whereas the likelihood contains information about the observed values.\n",
    "\n",
    "- Each distribution has a name (the string) and the usual distribution parameters.\n",
    "- The likelihood function is distinguished by the use of the keyword `observed` where the data values are passed in (numpy arrays are preferred over dataframes).\n",
    "- We can use `pm.find_MAP()` to find the maximum of the posterior distribution."
   ]
  },
  {
   "cell_type": "code",
   "execution_count": 10,
   "metadata": {},
   "outputs": [],
   "source": [
    "i = 100\n",
    "with pm.Model() as model_i:\n",
    "    p = pm.Beta('p', alpha=prior_hits, beta=prior_misses)\n",
    "    likelihood = pm.Binomial('hits', p=p, n=hits.at_bat.values[i], observed=hits.hits.values[i])"
   ]
  },
  {
   "cell_type": "markdown",
   "metadata": {},
   "source": [
    "We can nicely represent the structure of our model in a graphical way."
   ]
  },
  {
   "cell_type": "code",
   "execution_count": 11,
   "metadata": {},
   "outputs": [
    {
     "data": {
      "image/svg+xml": [
       "<?xml version=\"1.0\" encoding=\"UTF-8\" standalone=\"no\"?>\n",
       "<!DOCTYPE svg PUBLIC \"-//W3C//DTD SVG 1.1//EN\"\n",
       " \"http://www.w3.org/Graphics/SVG/1.1/DTD/svg11.dtd\">\n",
       "<!-- Generated by graphviz version 2.40.1 (20161225.0304)\n",
       " -->\n",
       "<!-- Title: %3 Pages: 1 -->\n",
       "<svg width=\"142pt\" height=\"116pt\"\n",
       " viewBox=\"0.00 0.00 141.89 116.00\" xmlns=\"http://www.w3.org/2000/svg\" xmlns:xlink=\"http://www.w3.org/1999/xlink\">\n",
       "<g id=\"graph0\" class=\"graph\" transform=\"scale(1 1) rotate(0) translate(4 112)\">\n",
       "<title>%3</title>\n",
       "<polygon fill=\"#ffffff\" stroke=\"transparent\" points=\"-4,4 -4,-112 137.8881,-112 137.8881,4 -4,4\"/>\n",
       "<!-- hits -->\n",
       "<g id=\"node1\" class=\"node\">\n",
       "<title>hits</title>\n",
       "<ellipse fill=\"#d3d3d3\" stroke=\"#000000\" cx=\"66.9441\" cy=\"-18\" rx=\"66.8882\" ry=\"18\"/>\n",
       "<text text-anchor=\"middle\" x=\"66.9441\" y=\"-14.3\" font-family=\"Times,serif\" font-size=\"14.00\" fill=\"#000000\">hits ~ Binomial</text>\n",
       "</g>\n",
       "<!-- p -->\n",
       "<g id=\"node2\" class=\"node\">\n",
       "<title>p</title>\n",
       "<ellipse fill=\"none\" stroke=\"#000000\" cx=\"66.9441\" cy=\"-90\" rx=\"41.6928\" ry=\"18\"/>\n",
       "<text text-anchor=\"middle\" x=\"66.9441\" y=\"-86.3\" font-family=\"Times,serif\" font-size=\"14.00\" fill=\"#000000\">p ~ Beta</text>\n",
       "</g>\n",
       "<!-- p&#45;&gt;hits -->\n",
       "<g id=\"edge1\" class=\"edge\">\n",
       "<title>p&#45;&gt;hits</title>\n",
       "<path fill=\"none\" stroke=\"#000000\" d=\"M66.9441,-71.8314C66.9441,-64.131 66.9441,-54.9743 66.9441,-46.4166\"/>\n",
       "<polygon fill=\"#000000\" stroke=\"#000000\" points=\"70.4442,-46.4132 66.9441,-36.4133 63.4442,-46.4133 70.4442,-46.4132\"/>\n",
       "</g>\n",
       "</g>\n",
       "</svg>\n"
      ],
      "text/plain": [
       "<graphviz.dot.Digraph at 0x1c1a931cc0>"
      ]
     },
     "execution_count": 11,
     "metadata": {},
     "output_type": "execute_result"
    }
   ],
   "source": [
    "pm.model_to_graphviz(model_i)"
   ]
  },
  {
   "cell_type": "markdown",
   "metadata": {},
   "source": [
    "Let's compare the estimated MAP with the one calculated using conjugate priors."
   ]
  },
  {
   "cell_type": "code",
   "execution_count": 12,
   "metadata": {},
   "outputs": [
    {
     "name": "stderr",
     "output_type": "stream",
     "text": [
      "/anaconda3/lib/python3.7/site-packages/pymc3/tuning/starting.py:61: UserWarning: find_MAP should not be used to initialize the NUTS sampler, simply call pymc3.sample() and it will automatically initialize NUTS in a better way.\n",
      "  warnings.warn('find_MAP should not be used to initialize the NUTS sampler, simply call pymc3.sample() and it will automatically initialize NUTS in a better way.')\n",
      "logp = -0.012362, ||grad|| = 0.058824: 100%|██████████| 5/5 [00:00<00:00, 819.14it/s]\n"
     ]
    }
   ],
   "source": [
    "with model_i:\n",
    "    map_estimate = pm.find_MAP()"
   ]
  },
  {
   "cell_type": "code",
   "execution_count": 13,
   "metadata": {},
   "outputs": [
    {
     "name": "stdout",
     "output_type": "stream",
     "text": [
      "0.2650602523181773\n",
      "0.26785714285714285\n",
      "-0.002796890538965535\n"
     ]
    }
   ],
   "source": [
    "print(map_estimate['p'])\n",
    "print(hits.MAP.iloc[i])\n",
    "print(map_estimate['p']-hits.MAP.iloc[i])"
   ]
  },
  {
   "cell_type": "code",
   "execution_count": 14,
   "metadata": {},
   "outputs": [
    {
     "data": {
      "text/plain": [
       "name       Ham Allen\n",
       "hits              18\n",
       "at_bat            66\n",
       "average     0.272727\n",
       "misses            48\n",
       "MAP         0.267857\n",
       "Name: 100, dtype: object"
      ]
     },
     "execution_count": 14,
     "metadata": {},
     "output_type": "execute_result"
    }
   ],
   "source": [
    "# the player we looked at\n",
    "hits.iloc[i, :]"
   ]
  },
  {
   "cell_type": "markdown",
   "metadata": {},
   "source": [
    "We can obtain the full posterior distribution by sampling from our model setup. \n",
    "This is what the sampling does:\n",
    "\n",
    "- Sample a value from the prior\n",
    "- Insert this value into the likelihood\n",
    "- The product of these two values will produce a single number\n",
    "- This value obtained for different values from the prior will allow to compare pairwise which ones have higher or lower posterior probability density\n",
    "- The sampling procedure is designed in such a way that it looks mostly at \"interesting\" values (those where the posterior probability density is not extremely small)\n",
    "- In the end we get a trace representing the posterior probability "
   ]
  },
  {
   "cell_type": "code",
   "execution_count": 15,
   "metadata": {},
   "outputs": [
    {
     "name": "stderr",
     "output_type": "stream",
     "text": [
      "Auto-assigning NUTS sampler...\n",
      "Initializing NUTS using jitter+adapt_diag...\n",
      "Multiprocess sampling (4 chains in 4 jobs)\n",
      "NUTS: [p]\n",
      "Sampling 4 chains: 100%|██████████| 24000/24000 [00:02<00:00, 8188.21draws/s] \n"
     ]
    }
   ],
   "source": [
    "with model_i:\n",
    "    trace_i = pm.sample(5000, tune=1000)"
   ]
  },
  {
   "cell_type": "markdown",
   "metadata": {},
   "source": [
    "The trace contains the posterior distributions of all the variables for which you set up priors plus additional variables which are created from the given ones for computational reasons. The sampling actually runs multiple chains from different starting values. The next sampled value in the chain depends to some extent on the previously sampled one. Having multiple chains serves for being less dependent on from where the sampling started."
   ]
  },
  {
   "cell_type": "code",
   "execution_count": 16,
   "metadata": {},
   "outputs": [
    {
     "data": {
      "text/plain": [
       "['p_logodds__', 'p']"
      ]
     },
     "execution_count": 16,
     "metadata": {},
     "output_type": "execute_result"
    }
   ],
   "source": [
    "trace_i.varnames"
   ]
  },
  {
   "cell_type": "markdown",
   "metadata": {},
   "source": [
    "We get a nice summary of the relevant variables from the trace. It contains:\n",
    "\n",
    "- Mean and standard deviation of the posterior distribution\n",
    "- The `mc_error`, an estimate of the reliability of the posterior distribution (should be small compared to the standard deviation)\n",
    "- The highest posterior density interval (region of most likely values of the variable, not necessarily symmetric about the mean but indicating where the heights of a very narrowly binned histogram would be highest)\n",
    "- `Rhat` and `n_eff`: two parameters measuring the quality of the sampling (`Rhat` should be close to one and `n_eff` as high as possible). Pymc3 will complain if it is not content with them."
   ]
  },
  {
   "cell_type": "code",
   "execution_count": 17,
   "metadata": {},
   "outputs": [
    {
     "data": {
      "text/html": [
       "<div>\n",
       "<style scoped>\n",
       "    .dataframe tbody tr th:only-of-type {\n",
       "        vertical-align: middle;\n",
       "    }\n",
       "\n",
       "    .dataframe tbody tr th {\n",
       "        vertical-align: top;\n",
       "    }\n",
       "\n",
       "    .dataframe thead th {\n",
       "        text-align: right;\n",
       "    }\n",
       "</style>\n",
       "<table border=\"1\" class=\"dataframe\">\n",
       "  <thead>\n",
       "    <tr style=\"text-align: right;\">\n",
       "      <th></th>\n",
       "      <th>mean</th>\n",
       "      <th>sd</th>\n",
       "      <th>mc_error</th>\n",
       "      <th>hpd_2.5</th>\n",
       "      <th>hpd_97.5</th>\n",
       "      <th>n_eff</th>\n",
       "      <th>Rhat</th>\n",
       "    </tr>\n",
       "  </thead>\n",
       "  <tbody>\n",
       "    <tr>\n",
       "      <th>p</th>\n",
       "      <td>0.267724</td>\n",
       "      <td>0.034145</td>\n",
       "      <td>0.000352</td>\n",
       "      <td>0.201772</td>\n",
       "      <td>0.334251</td>\n",
       "      <td>8230.666769</td>\n",
       "      <td>1.000226</td>\n",
       "    </tr>\n",
       "  </tbody>\n",
       "</table>\n",
       "</div>"
      ],
      "text/plain": [
       "       mean        sd  mc_error   hpd_2.5  hpd_97.5        n_eff      Rhat\n",
       "p  0.267724  0.034145  0.000352  0.201772  0.334251  8230.666769  1.000226"
      ]
     },
     "execution_count": 17,
     "metadata": {},
     "output_type": "execute_result"
    }
   ],
   "source": [
    "pm.summary(trace_i)"
   ]
  },
  {
   "cell_type": "markdown",
   "metadata": {},
   "source": [
    "The traceplot shows the distribution of values through a kde-plot and the individual values sampled at the different iteration steps. For the right hand plot it is good if the values are all over the place and the chains are rather indistinguishable. Otherwise you would have to increase the number of tuning steps."
   ]
  },
  {
   "cell_type": "code",
   "execution_count": 18,
   "metadata": {},
   "outputs": [
    {
     "ename": "ImportError",
     "evalue": "ArviZ is not installed. In order to use `plot_trace`:\npip install arviz",
     "output_type": "error",
     "traceback": [
      "\u001b[0;31m---------------------------------------------------------------------------\u001b[0m",
      "\u001b[0;31mImportError\u001b[0m                               Traceback (most recent call last)",
      "\u001b[0;32m<ipython-input-18-c9ac43dcc9d1>\u001b[0m in \u001b[0;36m<module>\u001b[0;34m\u001b[0m\n\u001b[0;32m----> 1\u001b[0;31m \u001b[0mpm\u001b[0m\u001b[0;34m.\u001b[0m\u001b[0mtraceplot\u001b[0m\u001b[0;34m(\u001b[0m\u001b[0mtrace_i\u001b[0m\u001b[0;34m)\u001b[0m\u001b[0;34m\u001b[0m\u001b[0;34m\u001b[0m\u001b[0m\n\u001b[0m\u001b[1;32m      2\u001b[0m \u001b[0mplt\u001b[0m\u001b[0;34m.\u001b[0m\u001b[0mshow\u001b[0m\u001b[0;34m(\u001b[0m\u001b[0;34m)\u001b[0m\u001b[0;34m\u001b[0m\u001b[0;34m\u001b[0m\u001b[0m\n",
      "\u001b[0;32m/anaconda3/lib/python3.7/site-packages/pymc3/plots/__init__.py\u001b[0m in \u001b[0;36mwrapped\u001b[0;34m(*args, **kwargs)\u001b[0m\n\u001b[1;32m     40\u001b[0m                 \u001b[0mwarnings\u001b[0m\u001b[0;34m.\u001b[0m\u001b[0mwarn\u001b[0m\u001b[0;34m(\u001b[0m\u001b[0;34m'Keyword argument `{old}` renamed to `{new}`, and will be removed in pymc3 3.8'\u001b[0m\u001b[0;34m.\u001b[0m\u001b[0mformat\u001b[0m\u001b[0;34m(\u001b[0m\u001b[0mold\u001b[0m\u001b[0;34m=\u001b[0m\u001b[0mold\u001b[0m\u001b[0;34m,\u001b[0m \u001b[0mnew\u001b[0m\u001b[0;34m=\u001b[0m\u001b[0mnew\u001b[0m\u001b[0;34m)\u001b[0m\u001b[0;34m)\u001b[0m\u001b[0;34m\u001b[0m\u001b[0;34m\u001b[0m\u001b[0m\n\u001b[1;32m     41\u001b[0m                 \u001b[0mkwargs\u001b[0m\u001b[0;34m[\u001b[0m\u001b[0mnew\u001b[0m\u001b[0;34m]\u001b[0m \u001b[0;34m=\u001b[0m \u001b[0mkwargs\u001b[0m\u001b[0;34m.\u001b[0m\u001b[0mpop\u001b[0m\u001b[0;34m(\u001b[0m\u001b[0mold\u001b[0m\u001b[0;34m)\u001b[0m\u001b[0;34m\u001b[0m\u001b[0;34m\u001b[0m\u001b[0m\n\u001b[0;32m---> 42\u001b[0;31m             \u001b[0;32mreturn\u001b[0m \u001b[0mfunc\u001b[0m\u001b[0;34m(\u001b[0m\u001b[0;34m*\u001b[0m\u001b[0margs\u001b[0m\u001b[0;34m,\u001b[0m \u001b[0;34m**\u001b[0m\u001b[0mkwargs\u001b[0m\u001b[0;34m)\u001b[0m\u001b[0;34m\u001b[0m\u001b[0;34m\u001b[0m\u001b[0m\n\u001b[0m\u001b[1;32m     43\u001b[0m     \u001b[0;32mreturn\u001b[0m \u001b[0mwrapped\u001b[0m\u001b[0;34m\u001b[0m\u001b[0;34m\u001b[0m\u001b[0m\n\u001b[1;32m     44\u001b[0m \u001b[0;34m\u001b[0m\u001b[0m\n",
      "\u001b[0;32m/anaconda3/lib/python3.7/site-packages/pymc3/plots/__init__.py\u001b[0m in \u001b[0;36m__call__\u001b[0;34m(self, *args, **kwargs)\u001b[0m\n\u001b[1;32m     20\u001b[0m         \u001b[0;32mdef\u001b[0m \u001b[0m__call__\u001b[0m\u001b[0;34m(\u001b[0m\u001b[0mself\u001b[0m\u001b[0;34m,\u001b[0m \u001b[0;34m*\u001b[0m\u001b[0margs\u001b[0m\u001b[0;34m,\u001b[0m \u001b[0;34m**\u001b[0m\u001b[0mkwargs\u001b[0m\u001b[0;34m)\u001b[0m\u001b[0;34m:\u001b[0m\u001b[0;34m\u001b[0m\u001b[0;34m\u001b[0m\u001b[0m\n\u001b[1;32m     21\u001b[0m             raise ImportError(\n\u001b[0;32m---> 22\u001b[0;31m                 \u001b[0;34m\"ArviZ is not installed. In order to use `{0.attr}`:\\npip install arviz\"\u001b[0m\u001b[0;34m.\u001b[0m\u001b[0mformat\u001b[0m\u001b[0;34m(\u001b[0m\u001b[0mself\u001b[0m\u001b[0;34m)\u001b[0m\u001b[0;34m\u001b[0m\u001b[0;34m\u001b[0m\u001b[0m\n\u001b[0m\u001b[1;32m     23\u001b[0m             )\n\u001b[1;32m     24\u001b[0m \u001b[0;34m\u001b[0m\u001b[0m\n",
      "\u001b[0;31mImportError\u001b[0m: ArviZ is not installed. In order to use `plot_trace`:\npip install arviz"
     ]
    }
   ],
   "source": [
    "pm.traceplot(trace_i)\n",
    "plt.show()"
   ]
  },
  {
   "cell_type": "markdown",
   "metadata": {},
   "source": [
    "The posterior density can be depicted in a nicer way (combining the values from all chains)."
   ]
  },
  {
   "cell_type": "code",
   "execution_count": null,
   "metadata": {},
   "outputs": [],
   "source": [
    "pm.plot_posterior(trace_i, credible_interval=0.95, point_estimate='mode', round_to=3)\n",
    "plt.show()"
   ]
  },
  {
   "cell_type": "markdown",
   "metadata": {},
   "source": [
    "We can check that this posterior distribution agrees with the one obtained through conjugate priors."
   ]
  },
  {
   "cell_type": "code",
   "execution_count": null,
   "metadata": {},
   "outputs": [],
   "source": [
    "beta_i = stats.beta(prior_hits+hits.hits.iloc[i], \n",
    "                    prior_misses+hits.misses.iloc[i]+1)\n",
    "x_vals = np.linspace(0, 1, 100)\n",
    "plot_post = pm.plot_posterior(trace_i, credible_interval=0.95, \n",
    "                              point_estimate='mode', round_to=3)\n",
    "plot_post[0].plot(x_vals, beta_i.pdf(x_vals), c='r', ls='--')\n",
    "plt.show()"
   ]
  },
  {
   "cell_type": "markdown",
   "metadata": {},
   "source": [
    "We can use the posterior distribution to make predictions how likely different observed values (the hits) are for this player given the number of trials."
   ]
  },
  {
   "cell_type": "code",
   "execution_count": null,
   "metadata": {},
   "outputs": [],
   "source": [
    "ppc = pm.sample_posterior_predictive(trace_i, samples=5000, model=model_i)"
   ]
  },
  {
   "cell_type": "code",
   "execution_count": null,
   "metadata": {},
   "outputs": [],
   "source": [
    "plt.hist(ppc['hits'], bins=np.linspace(0, 35, 36), density=True)\n",
    "plt.show()"
   ]
  },
  {
   "cell_type": "markdown",
   "metadata": {},
   "source": [
    "## Model with two players\n",
    "\n",
    "We don't have to limit to one player. We can determine the posterior hitting probability for two players at the same time. These are just two independent values. As an additional ingredient during the sampling we can keep track of the difference of the already sampled probability values for each player. The individual values are random, but once we have them we calculate the difference in a deterministic way. These value can be stored in a deterministic distribution using `pm.Deterministic`."
   ]
  },
  {
   "cell_type": "code",
   "execution_count": null,
   "metadata": {},
   "outputs": [],
   "source": [
    "i = 100\n",
    "j = 200\n",
    "with pm.Model() as model_ij:\n",
    "    p_1 = pm.Beta('p_1', alpha=prior_hits, beta=prior_misses)\n",
    "    p_2 = pm.Beta('p_2', alpha=prior_hits, beta=prior_misses)\n",
    "    p1_vs_p2 = pm.Deterministic('p1_vs_p2', p_1-p_2)\n",
    "    likelihood_1 = pm.Binomial('hits_1', p=p_1, n=hits.at_bat.values[i], observed=hits.hits.values[i])\n",
    "    likelihood_2 = pm.Binomial('hits_2', p=p_2, n=hits.at_bat.values[j], observed=hits.hits.values[j])\n",
    "    "
   ]
  },
  {
   "cell_type": "code",
   "execution_count": null,
   "metadata": {},
   "outputs": [],
   "source": [
    "with model_ij:\n",
    "    trace_ij = pm.sample(5000, tune=1000)"
   ]
  },
  {
   "cell_type": "markdown",
   "metadata": {},
   "source": [
    "Now we have more variables."
   ]
  },
  {
   "cell_type": "code",
   "execution_count": null,
   "metadata": {},
   "outputs": [],
   "source": [
    "trace_ij.varnames"
   ]
  },
  {
   "cell_type": "code",
   "execution_count": null,
   "metadata": {},
   "outputs": [],
   "source": [
    "pm.summary(trace_ij)"
   ]
  },
  {
   "cell_type": "code",
   "execution_count": null,
   "metadata": {},
   "outputs": [],
   "source": [
    "pm.traceplot(trace_ij)\n",
    "plt.show()"
   ]
  },
  {
   "cell_type": "code",
   "execution_count": null,
   "metadata": {},
   "outputs": [],
   "source": [
    "pm.plot_posterior(trace_ij, \n",
    "                  var_names=['p_1', 'p_2'], \n",
    "                  point_estimate='mode', round_to=3)\n",
    "plt.show()"
   ]
  },
  {
   "cell_type": "markdown",
   "metadata": {},
   "source": [
    "This is the interesting new part. We can now say how likely it is that player 1 has a higher hitting rate than player 2."
   ]
  },
  {
   "cell_type": "code",
   "execution_count": null,
   "metadata": {},
   "outputs": [],
   "source": [
    "pm.plot_posterior(trace_ij, var_names=['p1_vs_p2'], ref_val=0)\n",
    "plt.show()"
   ]
  },
  {
   "cell_type": "markdown",
   "metadata": {},
   "source": [
    "Using the two posteriors, we can also predict how likely it is that each player produces a certain number of hits (in the observed number of trials different for each). The vertical lines mark the observed number of hits."
   ]
  },
  {
   "cell_type": "code",
   "execution_count": null,
   "metadata": {},
   "outputs": [],
   "source": [
    "ppc = pm.sample_posterior_predictive(trace_ij, samples=5000, model=model_ij)"
   ]
  },
  {
   "cell_type": "code",
   "execution_count": null,
   "metadata": {},
   "outputs": [],
   "source": [
    "plt.hist(ppc['hits_1'], density=True, bins=np.linspace(0, 35, 36))\n",
    "plt.hist(ppc['hits_2'], density=True, bins=np.linspace(0, 35, 36))\n",
    "plt.vlines(hits.hits.values[i], 0, 1)\n",
    "plt.vlines(hits.hits.values[j], 0, 1)\n",
    "plt.show()"
   ]
  },
  {
   "cell_type": "code",
   "execution_count": null,
   "metadata": {},
   "outputs": [],
   "source": [
    "hits.iloc[[i, j]]"
   ]
  },
  {
   "cell_type": "markdown",
   "metadata": {},
   "source": [
    "## Model with many players\n",
    "\n",
    "We can model all players at the same time. Since this becomes computationally quite costly with so many players we limit ourselves to determining the MAP for each player rather than the full posterior probability density."
   ]
  },
  {
   "cell_type": "markdown",
   "metadata": {},
   "source": [
    "To create a prior for each player, we can simply indicate an array shape. Each entry will be combined with the respective observed values in the likelihood."
   ]
  },
  {
   "cell_type": "code",
   "execution_count": null,
   "metadata": {},
   "outputs": [],
   "source": [
    "with pm.Model() as model:\n",
    "    p = pm.Beta('p', alpha=prior_hits, beta=prior_misses, \n",
    "                shape=len(hits))\n",
    "    pm.Binomial('hits', p=p, n=hits.at_bat.values, \n",
    "                observed=hits.hits.values)"
   ]
  },
  {
   "cell_type": "code",
   "execution_count": null,
   "metadata": {},
   "outputs": [],
   "source": [
    "with model:\n",
    "    #trace = pm.sample(draws=2000, tune=500)\n",
    "    trace_map = pm.find_MAP()"
   ]
  },
  {
   "cell_type": "markdown",
   "metadata": {},
   "source": [
    "The trace for `p` contains as many entries as observations."
   ]
  },
  {
   "cell_type": "code",
   "execution_count": null,
   "metadata": {},
   "outputs": [],
   "source": [
    "trace_map['p'].shape"
   ]
  },
  {
   "cell_type": "markdown",
   "metadata": {},
   "source": [
    "We can measure the discrepancy between the MAP estimates obtained with MCMC and conjugate priors."
   ]
  },
  {
   "cell_type": "code",
   "execution_count": null,
   "metadata": {},
   "outputs": [],
   "source": [
    "(trace_map['p'] - hits.MAP).describe()"
   ]
  },
  {
   "cell_type": "code",
   "execution_count": null,
   "metadata": {},
   "outputs": [],
   "source": [
    "(trace_map['p'] - hits.MAP).hist(bins=20);"
   ]
  },
  {
   "cell_type": "markdown",
   "metadata": {},
   "source": [
    "We MAP versus maximum likelihood looks still quite the same."
   ]
  },
  {
   "cell_type": "code",
   "execution_count": null,
   "metadata": {},
   "outputs": [],
   "source": [
    "hits['MAP_MCMC'] = trace_map['p']"
   ]
  },
  {
   "cell_type": "code",
   "execution_count": null,
   "metadata": {},
   "outputs": [],
   "source": [
    "g = sns.jointplot('average', 'MAP_MCMC', data=hits, height=8)\n",
    "g.ax_joint.plot('MAP_MCMC', 'MAP_MCMC', data=hits, lw=4, c='r')\n",
    "g.ax_joint.axhline(0.26, 0, 1, c='k', ls='--', lw=4)\n",
    "g.ax_joint.legend(['MAP_MCMC versus MAP_MCMC', 'average (0.26)', 'MAP_MCMC versus average', ], loc='lower right')\n",
    "plt.show()"
   ]
  },
  {
   "cell_type": "markdown",
   "metadata": {},
   "source": [
    "The results match quite exactly."
   ]
  },
  {
   "cell_type": "code",
   "execution_count": null,
   "metadata": {},
   "outputs": [],
   "source": [
    "sns.scatterplot(x='MAP', y='MAP_MCMC', data=hits)\n",
    "plt.plot([0.1, 0.4], [0.1, 0.4], lw=4, c='r', ls='--', alpha=0.5)\n",
    "plt.title('MCMC versus conjugate prior MAP estimates')\n",
    "plt.show()"
   ]
  },
  {
   "cell_type": "markdown",
   "metadata": {},
   "source": [
    "## Conclusions\n",
    "\n",
    "We introduced a new way of obtaining posterior distributions. Here, we produced results that we could equally well have obtained using conjugate priors which would be computationally much more efficient. Full MCMC should really be used if such an alternative is not available. This example serves however for being able to verify the correctness of our results."
   ]
  },
  {
   "cell_type": "code",
   "execution_count": null,
   "metadata": {},
   "outputs": [],
   "source": []
  },
  {
   "cell_type": "code",
   "execution_count": null,
   "metadata": {},
   "outputs": [],
   "source": []
  },
  {
   "cell_type": "code",
   "execution_count": null,
   "metadata": {},
   "outputs": [],
   "source": []
  },
  {
   "cell_type": "code",
   "execution_count": null,
   "metadata": {},
   "outputs": [],
   "source": []
  },
  {
   "cell_type": "code",
   "execution_count": null,
   "metadata": {},
   "outputs": [],
   "source": []
  },
  {
   "cell_type": "code",
   "execution_count": null,
   "metadata": {},
   "outputs": [],
   "source": []
  }
 ],
 "metadata": {
  "kernelspec": {
   "display_name": "Python 3",
   "language": "python",
   "name": "python3"
  },
  "language_info": {
   "codemirror_mode": {
    "name": "ipython",
    "version": 3
   },
   "file_extension": ".py",
   "mimetype": "text/x-python",
   "name": "python",
   "nbconvert_exporter": "python",
   "pygments_lexer": "ipython3",
   "version": "3.7.3"
  },
  "toc": {
   "base_numbering": 1,
   "nav_menu": {},
   "number_sections": false,
   "sideBar": true,
   "skip_h1_title": true,
   "title_cell": "Lesson Guide",
   "title_sidebar": "Contents",
   "toc_cell": true,
   "toc_position": {},
   "toc_section_display": true,
   "toc_window_display": false
  }
 },
 "nbformat": 4,
 "nbformat_minor": 2
}
