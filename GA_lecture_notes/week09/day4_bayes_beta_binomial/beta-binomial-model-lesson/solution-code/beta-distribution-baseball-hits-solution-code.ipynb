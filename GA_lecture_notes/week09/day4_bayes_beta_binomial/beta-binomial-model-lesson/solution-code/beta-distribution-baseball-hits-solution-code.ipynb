{
 "cells": [
  {
   "cell_type": "markdown",
   "metadata": {},
   "source": [
    "<img src=\"http://imgur.com/1ZcRyrc.png\" style=\"float: left; margin: 20px; height: 55px\">\n",
    "\n",
    "# Bayesian Statistics with Baseball Data: Priors and Posteriors\n",
    "\n",
    "\n",
    "---\n",
    "\n",
    "To review the general setup for Bayesian modeling, we have:\n",
    "\n",
    "$$P\\left(\\;model\\;|\\;data\\;\\right) = \\frac{P\\left(\\;data\\;|\\;model\\;\\right)}{P(\\;data\\;)} P\\left(\\;model\\;\\right)\\ .$$\n",
    "\n",
    "This can also be written as:\n",
    "\n",
    "$$posterior \\propto likelihood \\cdot prior$$\n",
    "\n",
    "where the posterior is an update of our prior belief, given the data observed.\n"
   ]
  },
  {
   "cell_type": "markdown",
   "metadata": {},
   "source": [
    "## Review: the Beta distribution\n",
    "\n",
    "---\n",
    "\n",
    "[The Beta distribution](https://en.wikipedia.org/wiki/Beta_distribution) is the appropriate prior distribution for modeling Bernoulli and/or Binomial processes (occurrences of successes or failures, etc.). It is a model of the random behavior of data related to percentages, rates, proportions, etc.\n",
    "\n",
    "The Beta distribution takes two parameters: $Beta(\\alpha,\\beta)$\n",
    "\n",
    "The $\\alpha$ or **alpha** parameter can be thought of as\n",
    "    the number of `successes + 1`\n",
    "\n",
    "The $\\beta$ or **beta** parameter can be thought of as the number of `failures + 1`\n",
    "\n",
    "<img src=\"https://upload.wikimedia.org/wikipedia/commons/thumb/f/f3/Beta_distribution_pdf.svg/650px-Beta_distribution_pdf.svg.png\" alt=\"betapdf\" style=\"width: 400px;\"/>"
   ]
  },
  {
   "cell_type": "markdown",
   "metadata": {},
   "source": [
    "## Review: the Beta as a \"conjugate prior\"\n",
    "\n",
    "---\n",
    "\n",
    "The beta distribution is a **conjugate prior** for the binomial (and the beta) distributions. What does this mean?\n",
    "\n",
    "Take the calculation of the posterior distribution with a binomial likelihood function (any binary outcome data):\n",
    "\n",
    "$$\\text{beta posterior} \\propto \\text{binomial likelihood} \\cdot \\text{beta prior}$$\n",
    "\n",
    "**The Beta distribution being a \"conjugate prior\" of the Binomial likelihood guarantees that the posterior distribution will also be a Beta distribution.**\n",
    "\n",
    "> **Note:** Conjugate priors are extremely useful for calculating posteriors directly. Unfortunately, in many modeling scenarios we do not have the convenience of a conjugate prior. This is where methods like Markov Chain Monte Carlo (MCMC) will come into play down the line."
   ]
  },
  {
   "cell_type": "code",
   "execution_count": 1,
   "metadata": {},
   "outputs": [],
   "source": [
    "import numpy as np\n",
    "import matplotlib.pyplot as plt\n",
    "import numpy as np\n",
    "import pandas as pd\n",
    "import seaborn as sns\n",
    "\n",
    "plt.style.use('fivethirtyeight')\n",
    "\n",
    "%matplotlib inline\n",
    "%config InlineBackend.figure_format = 'retina'\n",
    "\n",
    "from scipy import stats"
   ]
  },
  {
   "cell_type": "markdown",
   "metadata": {},
   "source": [
    "## Bayesian analysis of batting averages\n",
    "\n",
    "---\n",
    "\n",
    "Load in the simple batting avergage data for players below. There are just four fields in the dataset: the player's name, their times at bat, their hits, and their batting average.\n",
    "\n",
    "> **Note:** [This section of the lab is a partial replication of this exercise in R, if you're interested without the \"empirical Bayes\" part.](https://www.r-bloggers.com/understanding-empirical-bayes-estimation-using-baseball-statistics/) "
   ]
  },
  {
   "cell_type": "code",
   "execution_count": 2,
   "metadata": {},
   "outputs": [],
   "source": [
    "hits = pd.read_csv(\n",
    "    '../../../../../resource-datasets/baseball_hits/career_hits.csv')"
   ]
  },
  {
   "cell_type": "code",
   "execution_count": 3,
   "metadata": {},
   "outputs": [
    {
     "data": {
      "text/html": [
       "<div>\n",
       "<style scoped>\n",
       "    .dataframe tbody tr th:only-of-type {\n",
       "        vertical-align: middle;\n",
       "    }\n",
       "\n",
       "    .dataframe tbody tr th {\n",
       "        vertical-align: top;\n",
       "    }\n",
       "\n",
       "    .dataframe thead th {\n",
       "        text-align: right;\n",
       "    }\n",
       "</style>\n",
       "<table border=\"1\" class=\"dataframe\">\n",
       "  <thead>\n",
       "    <tr style=\"text-align: right;\">\n",
       "      <th></th>\n",
       "      <th>name</th>\n",
       "      <th>hits</th>\n",
       "      <th>at_bat</th>\n",
       "      <th>average</th>\n",
       "    </tr>\n",
       "  </thead>\n",
       "  <tbody>\n",
       "    <tr>\n",
       "      <th>0</th>\n",
       "      <td>Hank Aaron</td>\n",
       "      <td>3771</td>\n",
       "      <td>12364</td>\n",
       "      <td>0.304998</td>\n",
       "    </tr>\n",
       "    <tr>\n",
       "      <th>1</th>\n",
       "      <td>Tommie Aaron</td>\n",
       "      <td>216</td>\n",
       "      <td>944</td>\n",
       "      <td>0.228814</td>\n",
       "    </tr>\n",
       "    <tr>\n",
       "      <th>2</th>\n",
       "      <td>Andy Abad</td>\n",
       "      <td>2</td>\n",
       "      <td>21</td>\n",
       "      <td>0.095238</td>\n",
       "    </tr>\n",
       "    <tr>\n",
       "      <th>3</th>\n",
       "      <td>John Abadie</td>\n",
       "      <td>11</td>\n",
       "      <td>49</td>\n",
       "      <td>0.224490</td>\n",
       "    </tr>\n",
       "    <tr>\n",
       "      <th>4</th>\n",
       "      <td>Ed Abbaticchio</td>\n",
       "      <td>772</td>\n",
       "      <td>3044</td>\n",
       "      <td>0.253614</td>\n",
       "    </tr>\n",
       "  </tbody>\n",
       "</table>\n",
       "</div>"
      ],
      "text/plain": [
       "             name  hits  at_bat   average\n",
       "0      Hank Aaron  3771   12364  0.304998\n",
       "1    Tommie Aaron   216     944  0.228814\n",
       "2       Andy Abad     2      21  0.095238\n",
       "3     John Abadie    11      49  0.224490\n",
       "4  Ed Abbaticchio   772    3044  0.253614"
      ]
     },
     "execution_count": 3,
     "metadata": {},
     "output_type": "execute_result"
    }
   ],
   "source": [
    "hits.head()"
   ]
  },
  {
   "cell_type": "markdown",
   "metadata": {},
   "source": [
    "### 1. Find the top and bottom 3 hitters according to their average.\n",
    "\n",
    "What is wrong with using the average to find the 3 best and 3 worst hitters?"
   ]
  },
  {
   "cell_type": "code",
   "execution_count": 4,
   "metadata": {},
   "outputs": [
    {
     "data": {
      "text/html": [
       "<div>\n",
       "<style scoped>\n",
       "    .dataframe tbody tr th:only-of-type {\n",
       "        vertical-align: middle;\n",
       "    }\n",
       "\n",
       "    .dataframe tbody tr th {\n",
       "        vertical-align: top;\n",
       "    }\n",
       "\n",
       "    .dataframe thead th {\n",
       "        text-align: right;\n",
       "    }\n",
       "</style>\n",
       "<table border=\"1\" class=\"dataframe\">\n",
       "  <thead>\n",
       "    <tr style=\"text-align: right;\">\n",
       "      <th></th>\n",
       "      <th>name</th>\n",
       "      <th>hits</th>\n",
       "      <th>at_bat</th>\n",
       "      <th>average</th>\n",
       "    </tr>\n",
       "  </thead>\n",
       "  <tbody>\n",
       "    <tr>\n",
       "      <th>5853</th>\n",
       "      <td>John Mohardt</td>\n",
       "      <td>1</td>\n",
       "      <td>1</td>\n",
       "      <td>1.0</td>\n",
       "    </tr>\n",
       "    <tr>\n",
       "      <th>9303</th>\n",
       "      <td>Al Wright</td>\n",
       "      <td>1</td>\n",
       "      <td>1</td>\n",
       "      <td>1.0</td>\n",
       "    </tr>\n",
       "    <tr>\n",
       "      <th>359</th>\n",
       "      <td>Jeff Banister</td>\n",
       "      <td>1</td>\n",
       "      <td>1</td>\n",
       "      <td>1.0</td>\n",
       "    </tr>\n",
       "  </tbody>\n",
       "</table>\n",
       "</div>"
      ],
      "text/plain": [
       "               name  hits  at_bat  average\n",
       "5853   John Mohardt     1       1      1.0\n",
       "9303      Al Wright     1       1      1.0\n",
       "359   Jeff Banister     1       1      1.0"
      ]
     },
     "execution_count": 4,
     "metadata": {},
     "output_type": "execute_result"
    }
   ],
   "source": [
    "hits.sort_values('average', ascending=False).head(3)"
   ]
  },
  {
   "cell_type": "code",
   "execution_count": 5,
   "metadata": {},
   "outputs": [
    {
     "data": {
      "text/html": [
       "<div>\n",
       "<style scoped>\n",
       "    .dataframe tbody tr th:only-of-type {\n",
       "        vertical-align: middle;\n",
       "    }\n",
       "\n",
       "    .dataframe tbody tr th {\n",
       "        vertical-align: top;\n",
       "    }\n",
       "\n",
       "    .dataframe thead th {\n",
       "        text-align: right;\n",
       "    }\n",
       "</style>\n",
       "<table border=\"1\" class=\"dataframe\">\n",
       "  <thead>\n",
       "    <tr style=\"text-align: right;\">\n",
       "      <th></th>\n",
       "      <th>name</th>\n",
       "      <th>hits</th>\n",
       "      <th>at_bat</th>\n",
       "      <th>average</th>\n",
       "    </tr>\n",
       "  </thead>\n",
       "  <tbody>\n",
       "    <tr>\n",
       "      <th>1494</th>\n",
       "      <td>Larry Ciaffone</td>\n",
       "      <td>0</td>\n",
       "      <td>5</td>\n",
       "      <td>0.0</td>\n",
       "    </tr>\n",
       "    <tr>\n",
       "      <th>7303</th>\n",
       "      <td>Jay Rogers</td>\n",
       "      <td>0</td>\n",
       "      <td>8</td>\n",
       "      <td>0.0</td>\n",
       "    </tr>\n",
       "    <tr>\n",
       "      <th>2552</th>\n",
       "      <td>Ferd Eunick</td>\n",
       "      <td>0</td>\n",
       "      <td>2</td>\n",
       "      <td>0.0</td>\n",
       "    </tr>\n",
       "  </tbody>\n",
       "</table>\n",
       "</div>"
      ],
      "text/plain": [
       "                name  hits  at_bat  average\n",
       "1494  Larry Ciaffone     0       5      0.0\n",
       "7303      Jay Rogers     0       8      0.0\n",
       "2552     Ferd Eunick     0       2      0.0"
      ]
     },
     "execution_count": 5,
     "metadata": {},
     "output_type": "execute_result"
    }
   ],
   "source": [
    "hits.sort_values('average', ascending=True).head(3)"
   ]
  },
  {
   "cell_type": "markdown",
   "metadata": {},
   "source": [
    "### 2. Set up a prior distribution to represent our belief about batting average\n",
    "\n",
    "[After doing a quick search online](https://www.google.com/search?q=average+batting+average+for+players+mlb&oq=average+batting+average+for+players+mlb&aqs=chrome..69i57j0.7373j0j4&sourceid=chrome&ie=UTF-8), it looks like the overall batting average for MLB baseball players is around 0.260.\n",
    "\n",
    "Let's make it simple and say that our prior belief is: out of 100 at-bats we have seen 26 hits. Set up a beta distribution with `alpha=27` and `beta=75`. Plot it with the function from the lesson.\n",
    "\n",
    "This is our distribution of beliefs on the batting average (probability of hit while at-bat) for MLB players."
   ]
  },
  {
   "cell_type": "code",
   "execution_count": 6,
   "metadata": {},
   "outputs": [],
   "source": [
    "def plot_beta(successes, failures):\n",
    "\n",
    "    # instantiate the beta distribution from scipy.stats\n",
    "    beta = stats.beta(successes+1, failures+1)\n",
    "\n",
    "    # create a range of x-values (pvals) for plotting\n",
    "    pvals = np.linspace(0., 1., 100)\n",
    "    # calculate the beta-pdf values corresponding to the pvals\n",
    "    like = beta.pdf(pvals)\n",
    "\n",
    "    fig, ax = plt.subplots(figsize=(8, 5))\n",
    "    ax.plot(pvals, like, lw=3)\n",
    "    ax.set_xlabel('p', fontsize=16)\n",
    "    ax.set_ylabel(r'Pdf(p | $\\alpha$,$\\beta$)'+'\\n', fontsize=16)\n",
    "    ax.set_title(r'Beta PDF for $\\alpha$={}, $\\beta$={}'.format(\n",
    "        successes+1, failures+1)+'\\n', fontsize=18)\n",
    "    plt.show()"
   ]
  },
  {
   "cell_type": "code",
   "execution_count": 7,
   "metadata": {},
   "outputs": [
    {
     "data": {
      "image/png": "[encoded data removed]",
      "text/plain": [
       "<Figure size 576x360 with 1 Axes>"
      ]
     },
     "metadata": {
      "image/png": {
       "height": 359,
       "width": 565
      },
      "needs_background": "light"
     },
     "output_type": "display_data"
    }
   ],
   "source": [
    "plot_beta(26, 74)"
   ]
  },
  {
   "cell_type": "markdown",
   "metadata": {},
   "source": [
    "### 3. Calculate the Maximum A Posteriori (MAP) estimate of players' batting averages\n",
    "\n",
    "The Maximum A Posteriori (MAP) estimate is the mode of a posterior distribution for a statistical parameter.\n",
    "\n",
    "In our case, the MAP estimate for our players' batting averages will be the mode of the posterior Beta distribution we get from updating our prior distribution with their at-bats and hits.\n",
    "\n",
    "---\n",
    "\n",
    "> **Note:** For an additional overview of the maths behind updating the Beta distribution posterior and conjugate priors [see this website](https://alexanderetz.com/2015/07/25/understanding-bayes-updating-priors-via-the-likelihood/).\n",
    "\n",
    "We need to update our beta distribution prior belief about batting averages with a player's at-bat and hit information to give us a _new_ beta posterior distribution for that player's batting average. \n",
    "\n",
    "Luckily, with the beta distribution the update is just a matter of adding in our new observations to the alpha and beta parameters of the distribution, where alpha is the number of hits and beta is the number of misses/strikes:\n",
    "\n",
    "    observed_hits = n_hits\n",
    "    observed_misses = n_misses\n",
    "    beta_prior = Beta(prior_hits+1, prior_misses+1)\n",
    "    beta_posterior = Beta(prior_hits + n_hits + 1, prior_misses + n_misses + 1)\n",
    "    \n",
    "> **Note:** This process will also be useful in the context of A/B testing, which we will look at later on.\n",
    "\n",
    "For each player, update the prior to the posterior distribution and calculate the mode of the distribution. The mode of a beta distribution is conveniently calculated:\n",
    "\n",
    "$$ \\frac{\\alpha - 1}{\\alpha + \\beta -2} $$\n",
    "\n",
    "which means we don't even really need to use scipy's beta distribution function at all. Just calculate the new alpha (hits) and beta (misses) for each player's posterior beta distribution and plug them into the formula above to get the MAP estimate of batting average."
   ]
  },
  {
   "cell_type": "code",
   "execution_count": 8,
   "metadata": {},
   "outputs": [],
   "source": [
    "prior_alpha = 26+1\n",
    "prior_beta = 74+1"
   ]
  },
  {
   "cell_type": "code",
   "execution_count": 9,
   "metadata": {},
   "outputs": [],
   "source": [
    "hits['MAP'] = list(map(lambda k, n: ((prior_alpha + k - 1) / \n",
    "                                     (prior_alpha + k + prior_beta + (n - k) - 2)),\n",
    "                       hits.hits.values, hits.at_bat.values))"
   ]
  },
  {
   "cell_type": "markdown",
   "metadata": {},
   "source": [
    "### 4. Look up the top and bottom batters according to the MAP estimate"
   ]
  },
  {
   "cell_type": "code",
   "execution_count": 10,
   "metadata": {},
   "outputs": [
    {
     "data": {
      "text/html": [
       "<div>\n",
       "<style scoped>\n",
       "    .dataframe tbody tr th:only-of-type {\n",
       "        vertical-align: middle;\n",
       "    }\n",
       "\n",
       "    .dataframe tbody tr th {\n",
       "        vertical-align: top;\n",
       "    }\n",
       "\n",
       "    .dataframe thead th {\n",
       "        text-align: right;\n",
       "    }\n",
       "</style>\n",
       "<table border=\"1\" class=\"dataframe\">\n",
       "  <thead>\n",
       "    <tr style=\"text-align: right;\">\n",
       "      <th></th>\n",
       "      <th>name</th>\n",
       "      <th>hits</th>\n",
       "      <th>at_bat</th>\n",
       "      <th>average</th>\n",
       "      <th>MAP</th>\n",
       "    </tr>\n",
       "  </thead>\n",
       "  <tbody>\n",
       "    <tr>\n",
       "      <th>0</th>\n",
       "      <td>Hank Aaron</td>\n",
       "      <td>3771</td>\n",
       "      <td>12364</td>\n",
       "      <td>0.304998</td>\n",
       "      <td>0.304637</td>\n",
       "    </tr>\n",
       "    <tr>\n",
       "      <th>1</th>\n",
       "      <td>Tommie Aaron</td>\n",
       "      <td>216</td>\n",
       "      <td>944</td>\n",
       "      <td>0.228814</td>\n",
       "      <td>0.231801</td>\n",
       "    </tr>\n",
       "    <tr>\n",
       "      <th>2</th>\n",
       "      <td>Andy Abad</td>\n",
       "      <td>2</td>\n",
       "      <td>21</td>\n",
       "      <td>0.095238</td>\n",
       "      <td>0.231405</td>\n",
       "    </tr>\n",
       "    <tr>\n",
       "      <th>3</th>\n",
       "      <td>John Abadie</td>\n",
       "      <td>11</td>\n",
       "      <td>49</td>\n",
       "      <td>0.224490</td>\n",
       "      <td>0.248322</td>\n",
       "    </tr>\n",
       "    <tr>\n",
       "      <th>4</th>\n",
       "      <td>Ed Abbaticchio</td>\n",
       "      <td>772</td>\n",
       "      <td>3044</td>\n",
       "      <td>0.253614</td>\n",
       "      <td>0.253817</td>\n",
       "    </tr>\n",
       "  </tbody>\n",
       "</table>\n",
       "</div>"
      ],
      "text/plain": [
       "             name  hits  at_bat   average       MAP\n",
       "0      Hank Aaron  3771   12364  0.304998  0.304637\n",
       "1    Tommie Aaron   216     944  0.228814  0.231801\n",
       "2       Andy Abad     2      21  0.095238  0.231405\n",
       "3     John Abadie    11      49  0.224490  0.248322\n",
       "4  Ed Abbaticchio   772    3044  0.253614  0.253817"
      ]
     },
     "execution_count": 10,
     "metadata": {},
     "output_type": "execute_result"
    }
   ],
   "source": [
    "hits.head()"
   ]
  },
  {
   "cell_type": "code",
   "execution_count": 11,
   "metadata": {},
   "outputs": [
    {
     "data": {
      "text/html": [
       "<div>\n",
       "<style scoped>\n",
       "    .dataframe tbody tr th:only-of-type {\n",
       "        vertical-align: middle;\n",
       "    }\n",
       "\n",
       "    .dataframe tbody tr th {\n",
       "        vertical-align: top;\n",
       "    }\n",
       "\n",
       "    .dataframe thead th {\n",
       "        text-align: right;\n",
       "    }\n",
       "</style>\n",
       "<table border=\"1\" class=\"dataframe\">\n",
       "  <thead>\n",
       "    <tr style=\"text-align: right;\">\n",
       "      <th></th>\n",
       "      <th>name</th>\n",
       "      <th>hits</th>\n",
       "      <th>at_bat</th>\n",
       "      <th>average</th>\n",
       "      <th>MAP</th>\n",
       "    </tr>\n",
       "  </thead>\n",
       "  <tbody>\n",
       "    <tr>\n",
       "      <th>3938</th>\n",
       "      <td>Rogers Hornsby</td>\n",
       "      <td>2930</td>\n",
       "      <td>8173</td>\n",
       "      <td>0.358497</td>\n",
       "      <td>0.357307</td>\n",
       "    </tr>\n",
       "    <tr>\n",
       "      <th>4118</th>\n",
       "      <td>Shoeless Joe Jackson</td>\n",
       "      <td>1772</td>\n",
       "      <td>4981</td>\n",
       "      <td>0.355752</td>\n",
       "      <td>0.353867</td>\n",
       "    </tr>\n",
       "    <tr>\n",
       "      <th>2109</th>\n",
       "      <td>Ed Delahanty</td>\n",
       "      <td>2596</td>\n",
       "      <td>7505</td>\n",
       "      <td>0.345903</td>\n",
       "      <td>0.344773</td>\n",
       "    </tr>\n",
       "    <tr>\n",
       "      <th>3475</th>\n",
       "      <td>Billy Hamilton</td>\n",
       "      <td>2158</td>\n",
       "      <td>6268</td>\n",
       "      <td>0.344288</td>\n",
       "      <td>0.342965</td>\n",
       "    </tr>\n",
       "    <tr>\n",
       "      <th>3663</th>\n",
       "      <td>Harry Heilmann</td>\n",
       "      <td>2660</td>\n",
       "      <td>7787</td>\n",
       "      <td>0.341595</td>\n",
       "      <td>0.340560</td>\n",
       "    </tr>\n",
       "  </tbody>\n",
       "</table>\n",
       "</div>"
      ],
      "text/plain": [
       "                      name  hits  at_bat   average       MAP\n",
       "3938        Rogers Hornsby  2930    8173  0.358497  0.357307\n",
       "4118  Shoeless Joe Jackson  1772    4981  0.355752  0.353867\n",
       "2109          Ed Delahanty  2596    7505  0.345903  0.344773\n",
       "3475        Billy Hamilton  2158    6268  0.344288  0.342965\n",
       "3663        Harry Heilmann  2660    7787  0.341595  0.340560"
      ]
     },
     "execution_count": 11,
     "metadata": {},
     "output_type": "execute_result"
    }
   ],
   "source": [
    "hits.sort_values('MAP', ascending=False).head()"
   ]
  },
  {
   "cell_type": "code",
   "execution_count": 12,
   "metadata": {},
   "outputs": [
    {
     "data": {
      "text/html": [
       "<div>\n",
       "<style scoped>\n",
       "    .dataframe tbody tr th:only-of-type {\n",
       "        vertical-align: middle;\n",
       "    }\n",
       "\n",
       "    .dataframe tbody tr th {\n",
       "        vertical-align: top;\n",
       "    }\n",
       "\n",
       "    .dataframe thead th {\n",
       "        text-align: right;\n",
       "    }\n",
       "</style>\n",
       "<table border=\"1\" class=\"dataframe\">\n",
       "  <thead>\n",
       "    <tr style=\"text-align: right;\">\n",
       "      <th></th>\n",
       "      <th>name</th>\n",
       "      <th>hits</th>\n",
       "      <th>at_bat</th>\n",
       "      <th>average</th>\n",
       "      <th>MAP</th>\n",
       "    </tr>\n",
       "  </thead>\n",
       "  <tbody>\n",
       "    <tr>\n",
       "      <th>4031</th>\n",
       "      <td>John Humphries</td>\n",
       "      <td>52</td>\n",
       "      <td>364</td>\n",
       "      <td>0.142857</td>\n",
       "      <td>0.168103</td>\n",
       "    </tr>\n",
       "    <tr>\n",
       "      <th>4322</th>\n",
       "      <td>Mike Jordan</td>\n",
       "      <td>12</td>\n",
       "      <td>125</td>\n",
       "      <td>0.096000</td>\n",
       "      <td>0.168889</td>\n",
       "    </tr>\n",
       "    <tr>\n",
       "      <th>2987</th>\n",
       "      <td>Ed Gastfield</td>\n",
       "      <td>6</td>\n",
       "      <td>88</td>\n",
       "      <td>0.068182</td>\n",
       "      <td>0.170213</td>\n",
       "    </tr>\n",
       "    <tr>\n",
       "      <th>3113</th>\n",
       "      <td>Buck Gladmon</td>\n",
       "      <td>56</td>\n",
       "      <td>380</td>\n",
       "      <td>0.147368</td>\n",
       "      <td>0.170833</td>\n",
       "    </tr>\n",
       "    <tr>\n",
       "      <th>598</th>\n",
       "      <td>Bill Bergen</td>\n",
       "      <td>516</td>\n",
       "      <td>3028</td>\n",
       "      <td>0.170410</td>\n",
       "      <td>0.173274</td>\n",
       "    </tr>\n",
       "  </tbody>\n",
       "</table>\n",
       "</div>"
      ],
      "text/plain": [
       "                name  hits  at_bat   average       MAP\n",
       "4031  John Humphries    52     364  0.142857  0.168103\n",
       "4322     Mike Jordan    12     125  0.096000  0.168889\n",
       "2987    Ed Gastfield     6      88  0.068182  0.170213\n",
       "3113    Buck Gladmon    56     380  0.147368  0.170833\n",
       "598      Bill Bergen   516    3028  0.170410  0.173274"
      ]
     },
     "execution_count": 12,
     "metadata": {},
     "output_type": "execute_result"
    }
   ],
   "source": [
    "hits.sort_values('MAP', ascending=True).head()"
   ]
  },
  {
   "cell_type": "markdown",
   "metadata": {},
   "source": [
    "### 5. Plot the MAP batting average against the MLE batting average"
   ]
  },
  {
   "cell_type": "code",
   "execution_count": 13,
   "metadata": {},
   "outputs": [
    {
     "data": {
      "image/png": "[encoded data removed]",
      "text/plain": [
       "<Figure size 432x432 with 3 Axes>"
      ]
     },
     "metadata": {
      "image/png": {
       "height": 423,
       "width": 430
      },
      "needs_background": "light"
     },
     "output_type": "display_data"
    }
   ],
   "source": [
    "g = sns.jointplot('average', 'MAP', data=hits)\n",
    "g.ax_joint.plot('MAP', 'MAP', data=hits, lw=4, c='r')\n",
    "g.ax_joint.axhline(0.26, 0, 1, c='k', ls='--', lw=4)\n",
    "g.ax_joint.legend(['MAP versus MAP', 'average (0.26)', 'MAP versus average', ])\n",
    "plt.show()"
   ]
  },
  {
   "cell_type": "code",
   "execution_count": null,
   "metadata": {},
   "outputs": [],
   "source": []
  }
 ],
 "metadata": {
  "anaconda-cloud": {},
  "kernelspec": {
   "display_name": "Python 3",
   "language": "python",
   "name": "python3"
  },
  "language_info": {
   "codemirror_mode": {
    "name": "ipython",
    "version": 3
   },
   "file_extension": ".py",
   "mimetype": "text/x-python",
   "name": "python",
   "nbconvert_exporter": "python",
   "pygments_lexer": "ipython3",
   "version": "3.7.3"
  },
  "toc": {
   "base_numbering": 1,
   "nav_menu": {},
   "number_sections": false,
   "sideBar": true,
   "skip_h1_title": true,
   "title_cell": "Table of Contents",
   "title_sidebar": "Contents",
   "toc_cell": false,
   "toc_position": {},
   "toc_section_display": "block",
   "toc_window_display": false
  }
 },
 "nbformat": 4,
 "nbformat_minor": 1
}
