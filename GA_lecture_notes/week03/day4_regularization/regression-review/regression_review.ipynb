{
 "cells": [
  {
   "cell_type": "markdown",
   "metadata": {},
   "source": [
    "<img src=\"http://imgur.com/1ZcRyrc.png\" style=\"float: left; margin: 20px; height: 55px\">\n",
    "\n",
    "# Regression reference code\n",
    "\n",
    "---"
   ]
  },
  {
   "cell_type": "markdown",
   "metadata": {
    "toc": true
   },
   "source": [
    "<h1>Lesson Guide<span class=\"tocSkip\"></span></h1>\n",
    "<div class=\"toc\"><ul class=\"toc-item\"><li><span><a href=\"#Load-the-data\" data-toc-modified-id=\"Load-the-data-1\">Load the data</a></span></li><li><span><a href=\"#Specify-predictor-matrix-and-target-variable\" data-toc-modified-id=\"Specify-predictor-matrix-and-target-variable-2\">Specify predictor matrix and target variable</a></span></li><li><span><a href=\"#Get-train-test-split\" data-toc-modified-id=\"Get-train-test-split-3\">Get train-test split</a></span></li><li><span><a href=\"#Standardize-the-data\" data-toc-modified-id=\"Standardize-the-data-4\">Standardize the data</a></span></li><li><span><a href=\"#Fit-a-linear-regression-model\" data-toc-modified-id=\"Fit-a-linear-regression-model-5\">Fit a linear regression model</a></span></li><li><span><a href=\"#Fit-a-Ridge-model\" data-toc-modified-id=\"Fit-a-Ridge-model-6\">Fit a Ridge model</a></span></li><li><span><a href=\"#Fit-a-Lasso-model\" data-toc-modified-id=\"Fit-a-Lasso-model-7\">Fit a Lasso model</a></span></li><li><span><a href=\"#Fit-a-RidgeCV-model\" data-toc-modified-id=\"Fit-a-RidgeCV-model-8\">Fit a RidgeCV model</a></span></li><li><span><a href=\"#Fit-a-LassoCV-model\" data-toc-modified-id=\"Fit-a-LassoCV-model-9\">Fit a LassoCV model</a></span></li></ul></div>"
   ]
  },
  {
   "cell_type": "code",
   "execution_count": 16,
   "metadata": {},
   "outputs": [],
   "source": [
    "import pandas as pd\n",
    "import numpy as np\n",
    "import matplotlib.pyplot as plt\n",
    "import seaborn as sns\n",
    "\n",
    "sns.set(font_scale=1.5)\n",
    "%config InlineBackend.figure_format = 'retina'\n",
    "%matplotlib inline"
   ]
  },
  {
   "cell_type": "code",
   "execution_count": 17,
   "metadata": {},
   "outputs": [],
   "source": [
    "from sklearn.datasets import load_diabetes\n",
    "from sklearn.model_selection import train_test_split, cross_val_score\n",
    "from sklearn.preprocessing import StandardScaler\n",
    "from sklearn.linear_model import LinearRegression, Ridge, Lasso, RidgeCV, LassoCV"
   ]
  },
  {
   "cell_type": "markdown",
   "metadata": {},
   "source": [
    "## Load the data"
   ]
  },
  {
   "cell_type": "code",
   "execution_count": 18,
   "metadata": {},
   "outputs": [],
   "source": [
    "# load the data\n",
    "data = load_diabetes()"
   ]
  },
  {
   "cell_type": "code",
   "execution_count": 19,
   "metadata": {},
   "outputs": [
    {
     "data": {
      "text/plain": [
       "dict_keys(['data', 'target', 'DESCR', 'feature_names', 'data_filename', 'target_filename'])"
      ]
     },
     "execution_count": 19,
     "metadata": {},
     "output_type": "execute_result"
    }
   ],
   "source": [
    "data.keys()"
   ]
  },
  {
   "cell_type": "markdown",
   "metadata": {},
   "source": [
    "## Specify predictor matrix and target variable"
   ]
  },
  {
   "cell_type": "code",
   "execution_count": 20,
   "metadata": {},
   "outputs": [],
   "source": [
    "# specify predictor matrix and target variable\n",
    "X = pd.DataFrame(data.data, columns=data.feature_names)\n",
    "y = data.target"
   ]
  },
  {
   "cell_type": "markdown",
   "metadata": {},
   "source": [
    "## Get train-test split"
   ]
  },
  {
   "cell_type": "code",
   "execution_count": 21,
   "metadata": {},
   "outputs": [],
   "source": [
    "# get train-test split\n",
    "X_train, X_test, y_train, y_test = train_test_split(\n",
    "    X, y, test_size=0.2, random_state=1)"
   ]
  },
  {
   "cell_type": "markdown",
   "metadata": {},
   "source": [
    "## Standardize the data"
   ]
  },
  {
   "cell_type": "code",
   "execution_count": 22,
   "metadata": {},
   "outputs": [],
   "source": [
    "# standardize the data\n",
    "scaler = StandardScaler()\n",
    "\n",
    "X_train = pd.DataFrame(scaler.fit_transform(X_train), columns=X.columns)\n",
    "\n",
    "#Notice only transform on test. Do not fit again!\n",
    "X_test = pd.DataFrame(scaler.transform(X_test), columns=X.columns) "
   ]
  },
  {
   "cell_type": "markdown",
   "metadata": {},
   "source": [
    "## Fit a linear regression model"
   ]
  },
  {
   "cell_type": "code",
   "execution_count": 23,
   "metadata": {},
   "outputs": [
    {
     "name": "stdout",
     "output_type": "stream",
     "text": [
      "Cross-validated training scores: [0.36653529 0.49962128 0.4009883  0.54757847 0.52418711]\n",
      "Mean cross-validated training score: 0.4677820923948942\n",
      "Training Score: 0.533228642689112\n",
      "Test Score: 0.4384360401733268\n"
     ]
    }
   ],
   "source": [
    "# create a linear regression model instance\n",
    "model = LinearRegression()\n",
    "\n",
    "\n",
    "# get cross validated scores\n",
    "scores = cross_val_score(model, X_train, y_train, cv=5)\n",
    "print(\"Cross-validated training scores:\", scores)\n",
    "print(\"Mean cross-validated training score:\", scores.mean())\n",
    "\n",
    "\n",
    "# fit and evaluate the data on the whole training set\n",
    "model.fit(X_train, y_train)\n",
    "print(\"Training Score:\", model.score(X_train, y_train))\n",
    "\n",
    "\n",
    "# evaluate the data on the test set\n",
    "print(\"Test Score:\", model.score(X_test, y_test))"
   ]
  },
  {
   "cell_type": "code",
   "execution_count": 24,
   "metadata": {},
   "outputs": [
    {
     "data": {
      "text/html": [
       "<div>\n",
       "<style scoped>\n",
       "    .dataframe tbody tr th:only-of-type {\n",
       "        vertical-align: middle;\n",
       "    }\n",
       "\n",
       "    .dataframe tbody tr th {\n",
       "        vertical-align: top;\n",
       "    }\n",
       "\n",
       "    .dataframe thead th {\n",
       "        text-align: right;\n",
       "    }\n",
       "</style>\n",
       "<table border=\"1\" class=\"dataframe\">\n",
       "  <thead>\n",
       "    <tr style=\"text-align: right;\">\n",
       "      <th></th>\n",
       "      <th>coefficients</th>\n",
       "      <th>coef_abs</th>\n",
       "    </tr>\n",
       "  </thead>\n",
       "  <tbody>\n",
       "    <tr>\n",
       "      <th>age</th>\n",
       "      <td>-1.449669</td>\n",
       "      <td>1.449669</td>\n",
       "    </tr>\n",
       "    <tr>\n",
       "      <th>sex</th>\n",
       "      <td>-12.937877</td>\n",
       "      <td>12.937877</td>\n",
       "    </tr>\n",
       "    <tr>\n",
       "      <th>bmi</th>\n",
       "      <td>25.402970</td>\n",
       "      <td>25.402970</td>\n",
       "    </tr>\n",
       "    <tr>\n",
       "      <th>bp</th>\n",
       "      <td>15.616996</td>\n",
       "      <td>15.616996</td>\n",
       "    </tr>\n",
       "    <tr>\n",
       "      <th>s1</th>\n",
       "      <td>-27.609799</td>\n",
       "      <td>27.609799</td>\n",
       "    </tr>\n",
       "    <tr>\n",
       "      <th>s2</th>\n",
       "      <td>15.672747</td>\n",
       "      <td>15.672747</td>\n",
       "    </tr>\n",
       "    <tr>\n",
       "      <th>s3</th>\n",
       "      <td>-1.310098</td>\n",
       "      <td>1.310098</td>\n",
       "    </tr>\n",
       "    <tr>\n",
       "      <th>s4</th>\n",
       "      <td>6.625359</td>\n",
       "      <td>6.625359</td>\n",
       "    </tr>\n",
       "    <tr>\n",
       "      <th>s5</th>\n",
       "      <td>32.182990</td>\n",
       "      <td>32.182990</td>\n",
       "    </tr>\n",
       "    <tr>\n",
       "      <th>s6</th>\n",
       "      <td>3.019814</td>\n",
       "      <td>3.019814</td>\n",
       "    </tr>\n",
       "  </tbody>\n",
       "</table>\n",
       "</div>"
      ],
      "text/plain": [
       "     coefficients   coef_abs\n",
       "age     -1.449669   1.449669\n",
       "sex    -12.937877  12.937877\n",
       "bmi     25.402970  25.402970\n",
       "bp      15.616996  15.616996\n",
       "s1     -27.609799  27.609799\n",
       "s2      15.672747  15.672747\n",
       "s3      -1.310098   1.310098\n",
       "s4       6.625359   6.625359\n",
       "s5      32.182990  32.182990\n",
       "s6       3.019814   3.019814"
      ]
     },
     "execution_count": 24,
     "metadata": {},
     "output_type": "execute_result"
    }
   ],
   "source": [
    "# collect the model coefficients in a dataframe\n",
    "df_coef = pd.DataFrame(model.coef_, index=X_train.columns,\n",
    "                       columns=['coefficients'])\n",
    "\n",
    "\n",
    "# calculate the absolute values of the coefficients\n",
    "df_coef['coef_abs'] = df_coef.coefficients.abs()\n",
    "df_coef"
   ]
  },
  {
   "cell_type": "code",
   "execution_count": 25,
   "metadata": {},
   "outputs": [
    {
     "data": {
      "image/png": "[encoded data removed]",
      "text/plain": [
       "<Figure size 432x288 with 1 Axes>"
      ]
     },
     "metadata": {
      "image/png": {
       "height": 259,
       "width": 389
      },
      "needs_background": "light"
     },
     "output_type": "display_data"
    }
   ],
   "source": [
    "# plot the magnitude of the coefficients\n",
    "df_coef['coef_abs'].sort_values().plot(kind='barh');"
   ]
  },
  {
   "cell_type": "markdown",
   "metadata": {},
   "source": [
    "## Fit a RidgeCV model"
   ]
  },
  {
   "cell_type": "code",
   "execution_count": 26,
   "metadata": {},
   "outputs": [
    {
     "data": {
      "text/plain": [
       "array([1.00000000e-04, 7.74263683e-04, 5.99484250e-03, 4.64158883e-02,\n",
       "       3.59381366e-01, 2.78255940e+00, 2.15443469e+01, 1.66810054e+02,\n",
       "       1.29154967e+03, 1.00000000e+04])"
      ]
     },
     "execution_count": 26,
     "metadata": {},
     "output_type": "execute_result"
    }
   ],
   "source": [
    "np.logspace(-4, 4, 10)"
   ]
  },
  {
   "cell_type": "code",
   "execution_count": 28,
   "metadata": {},
   "outputs": [
    {
     "data": {
      "text/plain": [
       "array([1.00000000e-04, 7.74263683e-04, 5.99484250e-03, 4.64158883e-02,\n",
       "       3.59381366e-01, 2.78255940e+00, 2.15443469e+01, 1.66810054e+02,\n",
       "       1.29154967e+03, 1.00000000e+04])"
      ]
     },
     "execution_count": 28,
     "metadata": {},
     "output_type": "execute_result"
    }
   ],
   "source": [
    "# This is the same as the above as a log scale\n",
    "10**np.linspace(-4,4,10)"
   ]
  },
  {
   "cell_type": "code",
   "execution_count": 29,
   "metadata": {},
   "outputs": [
    {
     "name": "stdout",
     "output_type": "stream",
     "text": [
      "Best alpha: 21.54434690031882\n",
      "Training score: 0.5308503777787441\n",
      "Test Score: 0.4319504433780218\n"
     ]
    },
    {
     "name": "stderr",
     "output_type": "stream",
     "text": [
      "/Users/joanawang/anaconda3/lib/python3.7/site-packages/sklearn/model_selection/_search.py:841: DeprecationWarning: The default of the `iid` parameter will change from True to False in version 0.22 and will be removed in 0.24. This will change numeric results when test-set sizes are unequal.\n",
      "  DeprecationWarning)\n"
     ]
    }
   ],
   "source": [
    "# create a RidgeCV model instance\n",
    "model = RidgeCV(alphas=np.logspace(-4, 4, 10), cv=5)\n",
    "\n",
    "\n",
    "# fit the model\n",
    "model.fit(X_train, y_train)\n",
    "\n",
    "\n",
    "# get the best alpha\n",
    "print('Best alpha:', model.alpha_)\n",
    "\n",
    "\n",
    "# evaluate on the training set\n",
    "print('Training score:', model.score(X_train, y_train))\n",
    "\n",
    "\n",
    "# evaluate on the test set\n",
    "print(\"Test Score:\", model.score(X_test, y_test))"
   ]
  },
  {
   "cell_type": "code",
   "execution_count": 30,
   "metadata": {},
   "outputs": [
    {
     "data": {
      "text/html": [
       "<div>\n",
       "<style scoped>\n",
       "    .dataframe tbody tr th:only-of-type {\n",
       "        vertical-align: middle;\n",
       "    }\n",
       "\n",
       "    .dataframe tbody tr th {\n",
       "        vertical-align: top;\n",
       "    }\n",
       "\n",
       "    .dataframe thead th {\n",
       "        text-align: right;\n",
       "    }\n",
       "</style>\n",
       "<table border=\"1\" class=\"dataframe\">\n",
       "  <thead>\n",
       "    <tr style=\"text-align: right;\">\n",
       "      <th></th>\n",
       "      <th>coefficients</th>\n",
       "      <th>coef_abs</th>\n",
       "    </tr>\n",
       "  </thead>\n",
       "  <tbody>\n",
       "    <tr>\n",
       "      <th>age</th>\n",
       "      <td>-1.037276</td>\n",
       "      <td>1.037276</td>\n",
       "    </tr>\n",
       "    <tr>\n",
       "      <th>sex</th>\n",
       "      <td>-11.832096</td>\n",
       "      <td>11.832096</td>\n",
       "    </tr>\n",
       "    <tr>\n",
       "      <th>bmi</th>\n",
       "      <td>24.576819</td>\n",
       "      <td>24.576819</td>\n",
       "    </tr>\n",
       "    <tr>\n",
       "      <th>bp</th>\n",
       "      <td>14.851334</td>\n",
       "      <td>14.851334</td>\n",
       "    </tr>\n",
       "    <tr>\n",
       "      <th>s1</th>\n",
       "      <td>-4.295065</td>\n",
       "      <td>4.295065</td>\n",
       "    </tr>\n",
       "    <tr>\n",
       "      <th>s2</th>\n",
       "      <td>-2.455987</td>\n",
       "      <td>2.455987</td>\n",
       "    </tr>\n",
       "    <tr>\n",
       "      <th>s3</th>\n",
       "      <td>-10.452716</td>\n",
       "      <td>10.452716</td>\n",
       "    </tr>\n",
       "    <tr>\n",
       "      <th>s4</th>\n",
       "      <td>5.024122</td>\n",
       "      <td>5.024122</td>\n",
       "    </tr>\n",
       "    <tr>\n",
       "      <th>s5</th>\n",
       "      <td>21.844234</td>\n",
       "      <td>21.844234</td>\n",
       "    </tr>\n",
       "    <tr>\n",
       "      <th>s6</th>\n",
       "      <td>3.683815</td>\n",
       "      <td>3.683815</td>\n",
       "    </tr>\n",
       "  </tbody>\n",
       "</table>\n",
       "</div>"
      ],
      "text/plain": [
       "     coefficients   coef_abs\n",
       "age     -1.037276   1.037276\n",
       "sex    -11.832096  11.832096\n",
       "bmi     24.576819  24.576819\n",
       "bp      14.851334  14.851334\n",
       "s1      -4.295065   4.295065\n",
       "s2      -2.455987   2.455987\n",
       "s3     -10.452716  10.452716\n",
       "s4       5.024122   5.024122\n",
       "s5      21.844234  21.844234\n",
       "s6       3.683815   3.683815"
      ]
     },
     "execution_count": 30,
     "metadata": {},
     "output_type": "execute_result"
    }
   ],
   "source": [
    "# collect the model coefficients in a dataframe\n",
    "df_coef = pd.DataFrame(model.coef_, index=X_train.columns,\n",
    "                       columns=['coefficients'])\n",
    "\n",
    "\n",
    "# calculate the absolute values of the coefficients\n",
    "df_coef['coef_abs'] = df_coef.coefficients.abs()\n",
    "df_coef"
   ]
  },
  {
   "cell_type": "code",
   "execution_count": 31,
   "metadata": {},
   "outputs": [
    {
     "data": {
      "image/png": "[encoded data removed]",
      "text/plain": [
       "<Figure size 432x288 with 1 Axes>"
      ]
     },
     "metadata": {
      "image/png": {
       "height": 259,
       "width": 389
      },
      "needs_background": "light"
     },
     "output_type": "display_data"
    }
   ],
   "source": [
    "# plot the magnitude of the coefficients\n",
    "df_coef['coef_abs'].sort_values().plot(kind='barh');"
   ]
  },
  {
   "cell_type": "markdown",
   "metadata": {},
   "source": [
    "## Fit a Ridge model"
   ]
  },
  {
   "cell_type": "code",
   "execution_count": 32,
   "metadata": {},
   "outputs": [
    {
     "name": "stdout",
     "output_type": "stream",
     "text": [
      "Cross-validated training scores: [0.38611262 0.50398026 0.43823966 0.5520589  0.52333993]\n",
      "Mean cross-validated training score: 0.48074627112058266\n",
      "Training Score: 0.5308991765209591\n",
      "Test Score: 0.4319337703936593\n"
     ]
    }
   ],
   "source": [
    "# create a Ridge model instance\n",
    "model = Ridge(alpha=21)\n",
    "# Now we can use the best alpha that we found from RidgeCV\n",
    "\n",
    "\n",
    "# get cross validated scores\n",
    "scores = cross_val_score(model, X_train, y_train, cv=5)\n",
    "print(\"Cross-validated training scores:\", scores)\n",
    "print(\"Mean cross-validated training score:\", scores.mean())\n",
    "\n",
    "\n",
    "# fit and evaluate the data on the whole training set\n",
    "model.fit(X_train, y_train)\n",
    "print(\"Training Score:\", model.score(X_train, y_train))\n",
    "\n",
    "\n",
    "# evaluate the data on the test set\n",
    "print(\"Test Score:\", model.score(X_test, y_test))"
   ]
  },
  {
   "cell_type": "code",
   "execution_count": 33,
   "metadata": {},
   "outputs": [
    {
     "data": {
      "text/html": [
       "<div>\n",
       "<style scoped>\n",
       "    .dataframe tbody tr th:only-of-type {\n",
       "        vertical-align: middle;\n",
       "    }\n",
       "\n",
       "    .dataframe tbody tr th {\n",
       "        vertical-align: top;\n",
       "    }\n",
       "\n",
       "    .dataframe thead th {\n",
       "        text-align: right;\n",
       "    }\n",
       "</style>\n",
       "<table border=\"1\" class=\"dataframe\">\n",
       "  <thead>\n",
       "    <tr style=\"text-align: right;\">\n",
       "      <th></th>\n",
       "      <th>coefficients</th>\n",
       "      <th>coef_abs</th>\n",
       "    </tr>\n",
       "  </thead>\n",
       "  <tbody>\n",
       "    <tr>\n",
       "      <th>age</th>\n",
       "      <td>-1.047129</td>\n",
       "      <td>1.047129</td>\n",
       "    </tr>\n",
       "    <tr>\n",
       "      <th>sex</th>\n",
       "      <td>-11.855951</td>\n",
       "      <td>11.855951</td>\n",
       "    </tr>\n",
       "    <tr>\n",
       "      <th>bmi</th>\n",
       "      <td>24.602814</td>\n",
       "      <td>24.602814</td>\n",
       "    </tr>\n",
       "    <tr>\n",
       "      <th>bp</th>\n",
       "      <td>14.866698</td>\n",
       "      <td>14.866698</td>\n",
       "    </tr>\n",
       "    <tr>\n",
       "      <th>s1</th>\n",
       "      <td>-4.373441</td>\n",
       "      <td>4.373441</td>\n",
       "    </tr>\n",
       "    <tr>\n",
       "      <th>s2</th>\n",
       "      <td>-2.400336</td>\n",
       "      <td>2.400336</td>\n",
       "    </tr>\n",
       "    <tr>\n",
       "      <th>s3</th>\n",
       "      <td>-10.441232</td>\n",
       "      <td>10.441232</td>\n",
       "    </tr>\n",
       "    <tr>\n",
       "      <th>s4</th>\n",
       "      <td>5.010447</td>\n",
       "      <td>5.010447</td>\n",
       "    </tr>\n",
       "    <tr>\n",
       "      <th>s5</th>\n",
       "      <td>21.905003</td>\n",
       "      <td>21.905003</td>\n",
       "    </tr>\n",
       "    <tr>\n",
       "      <th>s6</th>\n",
       "      <td>3.671223</td>\n",
       "      <td>3.671223</td>\n",
       "    </tr>\n",
       "  </tbody>\n",
       "</table>\n",
       "</div>"
      ],
      "text/plain": [
       "     coefficients   coef_abs\n",
       "age     -1.047129   1.047129\n",
       "sex    -11.855951  11.855951\n",
       "bmi     24.602814  24.602814\n",
       "bp      14.866698  14.866698\n",
       "s1      -4.373441   4.373441\n",
       "s2      -2.400336   2.400336\n",
       "s3     -10.441232  10.441232\n",
       "s4       5.010447   5.010447\n",
       "s5      21.905003  21.905003\n",
       "s6       3.671223   3.671223"
      ]
     },
     "execution_count": 33,
     "metadata": {},
     "output_type": "execute_result"
    }
   ],
   "source": [
    "# collect the model coefficients in a dataframe\n",
    "df_coef = pd.DataFrame(model.coef_, index=X_train.columns,\n",
    "                       columns=['coefficients'])\n",
    "\n",
    "# calculate the absolute values of the coefficients\n",
    "df_coef['coef_abs'] = df_coef.coefficients.abs()\n",
    "df_coef"
   ]
  },
  {
   "cell_type": "code",
   "execution_count": 34,
   "metadata": {
    "scrolled": true
   },
   "outputs": [
    {
     "data": {
      "image/png": "[encoded data removed]",
      "text/plain": [
       "<Figure size 432x288 with 1 Axes>"
      ]
     },
     "metadata": {
      "image/png": {
       "height": 259,
       "width": 389
      },
      "needs_background": "light"
     },
     "output_type": "display_data"
    }
   ],
   "source": [
    "# plot the magnitude of the coefficients\n",
    "df_coef['coef_abs'].sort_values().plot(kind='barh');"
   ]
  },
  {
   "cell_type": "markdown",
   "metadata": {},
   "source": [
    "## Fit a LassoCV model"
   ]
  },
  {
   "cell_type": "code",
   "execution_count": 35,
   "metadata": {},
   "outputs": [
    {
     "name": "stdout",
     "output_type": "stream",
     "text": [
      "Best alpha: 0.3593813663804626\n",
      "Training score: 0.5318025315281588\n",
      "Test Score: 0.43201794608719724\n"
     ]
    }
   ],
   "source": [
    "# create a LassoCV model instance\n",
    "model = LassoCV(alphas=np.logspace(-4, 4, 10), cv=5)\n",
    "# If you get a convergence warning, set max_iter=10000 or higher depending on the warning)\n",
    "\n",
    "# fit the model\n",
    "model.fit(X_train, y_train)\n",
    "\n",
    "\n",
    "# get the best alpha\n",
    "print('Best alpha:', model.alpha_)\n",
    "\n",
    "\n",
    "# evaluate on the training set\n",
    "print('Training score:', model.score(X_train, y_train))\n",
    "\n",
    "\n",
    "# evaluate on the test set\n",
    "print(\"Test Score:\", model.score(X_test, y_test))"
   ]
  },
  {
   "cell_type": "code",
   "execution_count": 36,
   "metadata": {},
   "outputs": [
    {
     "data": {
      "text/html": [
       "<div>\n",
       "<style scoped>\n",
       "    .dataframe tbody tr th:only-of-type {\n",
       "        vertical-align: middle;\n",
       "    }\n",
       "\n",
       "    .dataframe tbody tr th {\n",
       "        vertical-align: top;\n",
       "    }\n",
       "\n",
       "    .dataframe thead th {\n",
       "        text-align: right;\n",
       "    }\n",
       "</style>\n",
       "<table border=\"1\" class=\"dataframe\">\n",
       "  <thead>\n",
       "    <tr style=\"text-align: right;\">\n",
       "      <th></th>\n",
       "      <th>coefficients</th>\n",
       "      <th>coef_abs</th>\n",
       "    </tr>\n",
       "  </thead>\n",
       "  <tbody>\n",
       "    <tr>\n",
       "      <th>age</th>\n",
       "      <td>-0.956981</td>\n",
       "      <td>0.956981</td>\n",
       "    </tr>\n",
       "    <tr>\n",
       "      <th>sex</th>\n",
       "      <td>-12.152088</td>\n",
       "      <td>12.152088</td>\n",
       "    </tr>\n",
       "    <tr>\n",
       "      <th>bmi</th>\n",
       "      <td>25.561615</td>\n",
       "      <td>25.561615</td>\n",
       "    </tr>\n",
       "    <tr>\n",
       "      <th>bp</th>\n",
       "      <td>14.968865</td>\n",
       "      <td>14.968865</td>\n",
       "    </tr>\n",
       "    <tr>\n",
       "      <th>s1</th>\n",
       "      <td>-6.393490</td>\n",
       "      <td>6.393490</td>\n",
       "    </tr>\n",
       "    <tr>\n",
       "      <th>s2</th>\n",
       "      <td>-0.000000</td>\n",
       "      <td>0.000000</td>\n",
       "    </tr>\n",
       "    <tr>\n",
       "      <th>s3</th>\n",
       "      <td>-10.856287</td>\n",
       "      <td>10.856287</td>\n",
       "    </tr>\n",
       "    <tr>\n",
       "      <th>s4</th>\n",
       "      <td>2.670422</td>\n",
       "      <td>2.670422</td>\n",
       "    </tr>\n",
       "    <tr>\n",
       "      <th>s5</th>\n",
       "      <td>24.387567</td>\n",
       "      <td>24.387567</td>\n",
       "    </tr>\n",
       "    <tr>\n",
       "      <th>s6</th>\n",
       "      <td>2.816100</td>\n",
       "      <td>2.816100</td>\n",
       "    </tr>\n",
       "  </tbody>\n",
       "</table>\n",
       "</div>"
      ],
      "text/plain": [
       "     coefficients   coef_abs\n",
       "age     -0.956981   0.956981\n",
       "sex    -12.152088  12.152088\n",
       "bmi     25.561615  25.561615\n",
       "bp      14.968865  14.968865\n",
       "s1      -6.393490   6.393490\n",
       "s2      -0.000000   0.000000\n",
       "s3     -10.856287  10.856287\n",
       "s4       2.670422   2.670422\n",
       "s5      24.387567  24.387567\n",
       "s6       2.816100   2.816100"
      ]
     },
     "execution_count": 36,
     "metadata": {},
     "output_type": "execute_result"
    }
   ],
   "source": [
    "# collect the model coefficients in a dataframe\n",
    "df_coef = pd.DataFrame(model.coef_, index=X_train.columns,\n",
    "                       columns=['coefficients'])\n",
    "\n",
    "\n",
    "# calculate the absolute values of the coefficients\n",
    "df_coef['coef_abs'] = df_coef.coefficients.abs()\n",
    "df_coef"
   ]
  },
  {
   "cell_type": "code",
   "execution_count": 37,
   "metadata": {},
   "outputs": [
    {
     "data": {
      "image/png": "[encoded data removed]",
      "text/plain": [
       "<Figure size 432x288 with 1 Axes>"
      ]
     },
     "metadata": {
      "image/png": {
       "height": 259,
       "width": 389
      },
      "needs_background": "light"
     },
     "output_type": "display_data"
    }
   ],
   "source": [
    "# plot the magnitude of the coefficients\n",
    "df_coef['coef_abs'].sort_values().plot(kind='barh');"
   ]
  },
  {
   "cell_type": "markdown",
   "metadata": {},
   "source": [
    "## Fit a Lasso model"
   ]
  },
  {
   "cell_type": "code",
   "execution_count": 38,
   "metadata": {},
   "outputs": [
    {
     "name": "stdout",
     "output_type": "stream",
     "text": [
      "Cross-validated training scores: [0.37219465 0.51258123 0.42869098 0.55362436 0.52594589]\n",
      "Mean cross-validated training score: 0.4786074231480185\n",
      "Training Score: 0.5318196412757628\n",
      "Test Score: 0.4320201527567904\n"
     ]
    }
   ],
   "source": [
    "# create a Lasso model instance\n",
    "model = Lasso(alpha=0.35)\n",
    "# Now we can use the best alpha that we found from LassoCV\n",
    "\n",
    "# get cross validated scores\n",
    "scores = cross_val_score(model, X_train, y_train, cv=5)\n",
    "print(\"Cross-validated training scores:\", scores)\n",
    "print(\"Mean cross-validated training score:\", scores.mean())\n",
    "# If you get a convergence warning, set max_iter=10000 or higher depending on the warning)\n",
    "\n",
    "\n",
    "# fit and evaluate the data on the whole training set\n",
    "model.fit(X_train, y_train)\n",
    "print(\"Training Score:\", model.score(X_train, y_train))\n",
    "\n",
    "\n",
    "# evaluate the data on the test set\n",
    "print(\"Test Score:\", model.score(X_test, y_test))"
   ]
  },
  {
   "cell_type": "code",
   "execution_count": 39,
   "metadata": {},
   "outputs": [
    {
     "data": {
      "text/html": [
       "<div>\n",
       "<style scoped>\n",
       "    .dataframe tbody tr th:only-of-type {\n",
       "        vertical-align: middle;\n",
       "    }\n",
       "\n",
       "    .dataframe tbody tr th {\n",
       "        vertical-align: top;\n",
       "    }\n",
       "\n",
       "    .dataframe thead th {\n",
       "        text-align: right;\n",
       "    }\n",
       "</style>\n",
       "<table border=\"1\" class=\"dataframe\">\n",
       "  <thead>\n",
       "    <tr style=\"text-align: right;\">\n",
       "      <th></th>\n",
       "      <th>coefficients</th>\n",
       "      <th>coef_abs</th>\n",
       "    </tr>\n",
       "  </thead>\n",
       "  <tbody>\n",
       "    <tr>\n",
       "      <th>age</th>\n",
       "      <td>-0.969439</td>\n",
       "      <td>0.969439</td>\n",
       "    </tr>\n",
       "    <tr>\n",
       "      <th>sex</th>\n",
       "      <td>-12.169458</td>\n",
       "      <td>12.169458</td>\n",
       "    </tr>\n",
       "    <tr>\n",
       "      <th>bmi</th>\n",
       "      <td>25.564524</td>\n",
       "      <td>25.564524</td>\n",
       "    </tr>\n",
       "    <tr>\n",
       "      <th>bp</th>\n",
       "      <td>14.982724</td>\n",
       "      <td>14.982724</td>\n",
       "    </tr>\n",
       "    <tr>\n",
       "      <th>s1</th>\n",
       "      <td>-6.453091</td>\n",
       "      <td>6.453091</td>\n",
       "    </tr>\n",
       "    <tr>\n",
       "      <th>s2</th>\n",
       "      <td>-0.000000</td>\n",
       "      <td>0.000000</td>\n",
       "    </tr>\n",
       "    <tr>\n",
       "      <th>s3</th>\n",
       "      <td>-10.805683</td>\n",
       "      <td>10.805683</td>\n",
       "    </tr>\n",
       "    <tr>\n",
       "      <th>s4</th>\n",
       "      <td>2.742000</td>\n",
       "      <td>2.742000</td>\n",
       "    </tr>\n",
       "    <tr>\n",
       "      <th>s5</th>\n",
       "      <td>24.399334</td>\n",
       "      <td>24.399334</td>\n",
       "    </tr>\n",
       "    <tr>\n",
       "      <th>s6</th>\n",
       "      <td>2.823150</td>\n",
       "      <td>2.823150</td>\n",
       "    </tr>\n",
       "  </tbody>\n",
       "</table>\n",
       "</div>"
      ],
      "text/plain": [
       "     coefficients   coef_abs\n",
       "age     -0.969439   0.969439\n",
       "sex    -12.169458  12.169458\n",
       "bmi     25.564524  25.564524\n",
       "bp      14.982724  14.982724\n",
       "s1      -6.453091   6.453091\n",
       "s2      -0.000000   0.000000\n",
       "s3     -10.805683  10.805683\n",
       "s4       2.742000   2.742000\n",
       "s5      24.399334  24.399334\n",
       "s6       2.823150   2.823150"
      ]
     },
     "execution_count": 39,
     "metadata": {},
     "output_type": "execute_result"
    }
   ],
   "source": [
    "# collect the model coefficients in a dataframe\n",
    "df_coef = pd.DataFrame(model.coef_, index=X_train.columns,\n",
    "                       columns=['coefficients'])\n",
    "\n",
    "\n",
    "# calculate the absolute values of the coefficients\n",
    "df_coef['coef_abs'] = df_coef.coefficients.abs()\n",
    "df_coef"
   ]
  },
  {
   "cell_type": "code",
   "execution_count": 40,
   "metadata": {},
   "outputs": [
    {
     "data": {
      "image/png": "[encoded data removed]",
      "text/plain": [
       "<Figure size 432x288 with 1 Axes>"
      ]
     },
     "metadata": {
      "image/png": {
       "height": 259,
       "width": 389
      },
      "needs_background": "light"
     },
     "output_type": "display_data"
    }
   ],
   "source": [
    "# plot the magnitude of the coefficients\n",
    "df_coef['coef_abs'].sort_values().plot(kind='barh');"
   ]
  },
  {
   "cell_type": "code",
   "execution_count": null,
   "metadata": {},
   "outputs": [],
   "source": []
  }
 ],
 "metadata": {
  "kernelspec": {
   "display_name": "Python 3",
   "language": "python",
   "name": "python3"
  },
  "language_info": {
   "codemirror_mode": {
    "name": "ipython",
    "version": 3
   },
   "file_extension": ".py",
   "mimetype": "text/x-python",
   "name": "python",
   "nbconvert_exporter": "python",
   "pygments_lexer": "ipython3",
   "version": "3.7.3"
  },
  "toc": {
   "base_numbering": 1,
   "nav_menu": {},
   "number_sections": false,
   "sideBar": true,
   "skip_h1_title": true,
   "title_cell": "Lesson Guide",
   "title_sidebar": "Contents",
   "toc_cell": true,
   "toc_position": {},
   "toc_section_display": true,
   "toc_window_display": false
  }
 },
 "nbformat": 4,
 "nbformat_minor": 2
}
