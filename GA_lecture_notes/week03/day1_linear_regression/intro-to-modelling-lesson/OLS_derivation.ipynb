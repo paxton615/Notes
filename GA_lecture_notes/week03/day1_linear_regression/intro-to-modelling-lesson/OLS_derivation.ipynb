{
 "cells": [
  {
   "cell_type": "markdown",
   "metadata": {},
   "source": [
    "<img src=\"http://imgur.com/1ZcRyrc.png\" style=\"float: left; margin: 20px; height: 55px\">\n",
    "\n",
    "# Derivation for simple linear regression\n",
    "\n",
    "\n",
    "---"
   ]
  },
  {
   "cell_type": "markdown",
   "metadata": {},
   "source": [
    "To minimize the residual sum of squares, we will have to calculate its partial derivatives with respect to $\\beta_0$ and $\\beta_1$ respectively and set each of them to zero.\n",
    "\n",
    "To calculate the partial derivatives, we can use python's `sympy` package:"
   ]
  },
  {
   "cell_type": "code",
   "execution_count": 1,
   "metadata": {},
   "outputs": [
    {
     "data": {
      "image/png": "[encoded data removed]",
      "text/latex": [
       "$$\\left ( x, \\quad x_{i}, \\quad y_{i}, \\quad \\beta_{0}, \\quad \\beta_{1}, \\quad n\\right )$$"
      ],
      "text/plain": [
       "(x, xᵢ, yᵢ, β₀, β₁, n)"
      ]
     },
     "execution_count": 1,
     "metadata": {},
     "output_type": "execute_result"
    }
   ],
   "source": [
    "import sympy as sym\n",
    "from sympy import init_session, init_printing\n",
    "\n",
    "init_printing()\n",
    "sym.symbols('x x_i y_i beta_0 beta_1 n')"
   ]
  },
  {
   "cell_type": "markdown",
   "metadata": {},
   "source": [
    "### Sympy readily calculates derivatives of functions which might cost you some fatigue to do by hand."
   ]
  },
  {
   "cell_type": "code",
   "execution_count": 2,
   "metadata": {},
   "outputs": [
    {
     "data": {
      "image/png": "[encoded data removed]",
      "text/latex": [
       "$$2 x$$"
      ],
      "text/plain": [
       "2⋅x"
      ]
     },
     "execution_count": 2,
     "metadata": {},
     "output_type": "execute_result"
    }
   ],
   "source": [
    "sym.diff('x**2','x')"
   ]
  },
  {
   "cell_type": "code",
   "execution_count": 3,
   "metadata": {},
   "outputs": [
    {
     "data": {
      "image/png": "[encoded data removed]",
      "text/latex": [
       "$$\\frac{\\tan^{2}{\\left (\\log{\\left (x \\right )} \\right )} + 1}{x}$$"
      ],
      "text/plain": [
       "   2            \n",
       "tan (log(x)) + 1\n",
       "────────────────\n",
       "       x        "
      ]
     },
     "execution_count": 3,
     "metadata": {},
     "output_type": "execute_result"
    }
   ],
   "source": [
    "sym.diff('tan(log(x))','x')"
   ]
  },
  {
   "cell_type": "markdown",
   "metadata": {},
   "source": [
    "### We want to minimize the residual sum of squares:\n",
    "\n",
    "$$RSS = \\sum_{i=1}^n(y_i-(\\beta_0+\\beta_1 x_i))^2$$"
   ]
  },
  {
   "cell_type": "markdown",
   "metadata": {},
   "source": [
    "### We do this by taking derivatives with respect to the beta-coefficients. These have the same form for each term in the sum:"
   ]
  },
  {
   "cell_type": "code",
   "execution_count": 4,
   "metadata": {},
   "outputs": [
    {
     "name": "stdout",
     "output_type": "stream",
     "text": [
      "Partial derivative with respect to beta_0:\n"
     ]
    },
    {
     "data": {
      "image/png": "[encoded data removed]",
      "text/latex": [
       "$$2 \\left(\\beta_{0} + \\beta_{1} x_{i} - y_{i}\\right)$$"
      ],
      "text/plain": [
       "2⋅(β₀ + β₁⋅xᵢ - yᵢ)"
      ]
     },
     "execution_count": 4,
     "metadata": {},
     "output_type": "execute_result"
    }
   ],
   "source": [
    "print('Partial derivative with respect to beta_0:')\n",
    "sym.together(sym.diff('(y_i-(beta_0+beta_1*x_i))**2','beta_0'))"
   ]
  },
  {
   "cell_type": "code",
   "execution_count": 5,
   "metadata": {},
   "outputs": [
    {
     "name": "stdout",
     "output_type": "stream",
     "text": [
      "Partial derivative with respect to beta_1:\n"
     ]
    },
    {
     "data": {
      "image/png": "[encoded data removed]",
      "text/latex": [
       "$$- 2 x_{i} \\left(- \\beta_{0} - \\beta_{1} x_{i} + y_{i}\\right)$$"
      ],
      "text/plain": [
       "-2⋅xᵢ⋅(-β₀ - β₁⋅xᵢ + yᵢ)"
      ]
     },
     "execution_count": 5,
     "metadata": {},
     "output_type": "execute_result"
    }
   ],
   "source": [
    "print('Partial derivative with respect to beta_1:')\n",
    "sym.together(sym.diff('(y_i-(beta_0+beta_1*x_i))**2','beta_1'))"
   ]
  },
  {
   "cell_type": "markdown",
   "metadata": {},
   "source": [
    "### The partial derivative with respect to $\\beta_0$:\n",
    "\n",
    "$$\\frac{\\partial RSS}{\\partial\\beta_0} = -2\\sum_{i=1}^n{\\left(y_i - (\\beta_0 + \\beta_1x_i)\\right)}$$"
   ]
  },
  {
   "cell_type": "markdown",
   "metadata": {},
   "source": [
    "### The partial derivative with respect to $\\beta_1$:\n",
    "\n",
    "$$\\frac{\\partial RSS}{\\partial\\beta_1} = -2\\sum_{i=1}^n{x_i\\left(y_i - (\\beta_0 + \\beta_1x_i)\\right)}$$"
   ]
  },
  {
   "cell_type": "markdown",
   "metadata": {},
   "source": [
    "### To find the minimum, we set each of these derivatives to zero."
   ]
  },
  {
   "cell_type": "markdown",
   "metadata": {},
   "source": [
    "#### For the first equation, we obtain\n",
    "\n",
    "$$\n",
    "\\begin{eqnarray*}\n",
    "0 &=& \\sum_{i=1}^n{\\left(y_i - (\\beta_0 + \\beta_1x_i)\\right)}\\\\\n",
    "0 &=& \\sum_{i=1}^n y_i - \\sum_{i=1}^n \\beta_0 -\\sum_{i=1}^n \\beta_1 x_i\\\\\n",
    "0 &=& \\sum_{i=1}^n y_i - \\beta_0\\sum_{i=1}^n 1  -\\beta_1\\sum_{i=1}^n x_i\\\\\n",
    "0 &=& n\\, \\bar{y} - n\\, \\beta_0 - n \\,\\beta_1 \\bar{x}\\\\\n",
    "0 &=& n\\left( \\bar{y} - \\beta_0 - \\beta_1 \\bar{x}\\right)\\\\\n",
    "0 &=& \\bar{y} - \\beta_0 - \\beta_1 \\bar{x}\n",
    "\\end{eqnarray*}\n",
    "$$\n",
    "\n",
    "and hence\n",
    "\n",
    "$$\n",
    "\\beta_0 = \\bar{y} - \\beta_1\\bar{x}\n",
    "$$"
   ]
  },
  {
   "cell_type": "markdown",
   "metadata": {},
   "source": [
    "#### Inserting this result into the equation for  $$\\frac{\\partial RSS}{\\partial\\beta_1}$$ gives\n",
    "\n",
    "$$\n",
    "\\begin{eqnarray*}\n",
    "0 &=& \\sum_{i=1}^n x_i\\left(y_i-\\bar{y}+\\beta_1 \\bar{x}- \\beta_1 x_i\\right)\\\\\n",
    "0 &=& \\sum_{i=1}^n x_i y_i-\\sum_{i=1}^n x_i\\bar{y}+\\sum_{i=1}^n\\beta_1 x_i\\bar{x}-\\sum_{i=1}^n \\beta_1 x_i^2 \\\\\n",
    "0 &=& \\sum_{i=1}^n x_i y_i -\\bar{y}\\sum_{i=1}^n x_i \n",
    "+ \\beta_1\\left(\\bar{x}\\sum_{i=1}^n x_i-\\sum_{i=1}^n x_i^2\\right)\\\\\n",
    "0 &=& n\\,\\overline{x y}-n\\,\\bar{x}\\bar{y}+\\beta_1(n\\,\\bar{x}^2-n\\,\\overline{x^2})\\\\\n",
    "0 &=& n\\left(\\overline{x y}-\\bar{x}\\bar{y}+\\beta_1(\\bar{x}^2-\\overline{x^2})\\right)\\\\\n",
    "0 &=& \\overline{x y}-\\bar{x}\\bar{y}+\\beta_1(\\bar{x}^2-\\overline{x^2})\n",
    "\\end{eqnarray*}\n",
    "$$\n",
    "\n",
    "which gives \n",
    "\n",
    "$$\n",
    "\\beta_1 = \\frac{\\overline{x y}-\\bar{x}\\bar{y}}{\\overline{x^2}-\\bar{x}^2}\n",
    "$$"
   ]
  },
  {
   "cell_type": "markdown",
   "metadata": {},
   "source": [
    "### Further conclusions \n",
    "\n",
    "In the above calculations we obtained the model coefficients. The two partial derivatives allow us to take two further conclusions.\n",
    "\n",
    "Remember that the residuals are given by\n",
    "\n",
    "$$\\epsilon_i=y_i - (\\beta_0 + \\beta_1x_i)$$\n",
    "\n",
    "Hence we can write the partial derivative with respect to $\\beta_0$ as\n",
    "\n",
    "$$\\frac{\\partial RSS}{\\partial\\beta_0} = -2\\sum_{i=1}^n{\\left(y_i - (\\beta_0 + \\beta_1x_i)\\right)} \n",
    "= -2\\sum_{i=1}^n{\\epsilon_i}  =0 $$\n",
    "\n",
    "This implies that **the sum of the residuals equals zero, and therefore also their mean is zero**.\n",
    "\n",
    "The partial derivative with respect to $\\beta_1$ we can write as\n",
    "\n",
    "$$\\frac{\\partial RSS}{\\partial\\beta_1} = -2\\sum_{i=1}^n{x_i\\left(y_i - (\\beta_0 + \\beta_1x_i)\\right)} = -2\\sum_{i=1}^n{x_i\\epsilon_i} = 0$$\n",
    "\n",
    "This implies that **the scalar product between the vectors of $X$ and $\\epsilon$ is zero**, they are orthogonal to each other."
   ]
  },
  {
   "cell_type": "code",
   "execution_count": 8,
   "metadata": {},
   "outputs": [
    {
     "name": "stdout",
     "output_type": "stream",
     "text": [
      "3.4953\n",
      "1.7061588173438018\n"
     ]
    }
   ],
   "source": [
    "import numpy as np\n",
    "random_data = np.random.randint(1, 7, 10000)\n",
    "print (random_data.mean())   # 打印平均值\n",
    "print (random_data.std() )   # 打印标准差\n"
   ]
  },
  {
   "cell_type": "code",
   "execution_count": 3,
   "metadata": {},
   "outputs": [
    {
     "data": {
      "text/plain": [
       "3.4961"
      ]
     },
     "execution_count": 3,
     "metadata": {},
     "output_type": "execute_result"
    }
   ],
   "source": [
    "random_data.mean()"
   ]
  },
  {
   "cell_type": "code",
   "execution_count": 4,
   "metadata": {},
   "outputs": [
    {
     "data": {
      "text/plain": [
       "1.696108719982301"
      ]
     },
     "execution_count": 4,
     "metadata": {},
     "output_type": "execute_result"
    }
   ],
   "source": [
    "random_data.std()"
   ]
  },
  {
   "cell_type": "code",
   "execution_count": 5,
   "metadata": {},
   "outputs": [],
   "source": [
    "sample1 = []\n",
    "for i in range(0, 10):\n",
    "    sample1.append(random_data[int(np.random.random() * len(random_data))])"
   ]
  },
  {
   "cell_type": "code",
   "execution_count": 7,
   "metadata": {},
   "outputs": [
    {
     "name": "stdout",
     "output_type": "stream",
     "text": [
      "[2, 4, 2, 4, 2, 2, 2, 1, 6, 5]\n"
     ]
    }
   ],
   "source": [
    "print( sample1)"
   ]
  },
  {
   "cell_type": "code",
   "execution_count": 10,
   "metadata": {},
   "outputs": [
    {
     "data": {
      "text/plain": [
       "3.0"
      ]
     },
     "execution_count": 10,
     "metadata": {},
     "output_type": "execute_result"
    }
   ],
   "source": [
    "np.array(sample1).mean()"
   ]
  },
  {
   "cell_type": "code",
   "execution_count": 11,
   "metadata": {},
   "outputs": [
    {
     "data": {
      "text/plain": [
       "1.5491933384829668"
      ]
     },
     "execution_count": 11,
     "metadata": {},
     "output_type": "execute_result"
    }
   ],
   "source": [
    "np.array(sample1).std()"
   ]
  },
  {
   "cell_type": "code",
   "execution_count": 13,
   "metadata": {},
   "outputs": [
    {
     "data": {
      "text/plain": [
       "list"
      ]
     },
     "execution_count": 13,
     "metadata": {},
     "output_type": "execute_result"
    }
   ],
   "source": [
    "type(sample1)"
   ]
  },
  {
   "cell_type": "code",
   "execution_count": 18,
   "metadata": {},
   "outputs": [
    {
     "name": "stdout",
     "output_type": "stream",
     "text": [
      "[3.24 3.42 3.62 3.5  3.4  3.52 3.44 3.4  3.5  3.64 3.26 3.36 3.84 3.34\n",
      " 3.78 3.34 3.52 3.68 3.7  3.42 3.66 3.28 3.32 3.26 3.52 3.44 3.38 3.3\n",
      " 3.8  3.62 3.64 3.44 3.4  3.26 3.78 3.56 3.72 3.46 3.36 3.68 3.66 3.76\n",
      " 3.38 3.92 3.28 3.2  3.4  3.22 3.38 3.6  3.44 3.14 3.46 3.24 3.52 3.14\n",
      " 3.74 3.66 3.72 3.9  3.46 3.62 3.66 3.38 3.78 3.32 3.32 3.02 3.48 3.26\n",
      " 3.44 3.8  3.94 3.18 3.58 3.42 3.42 3.48 3.72 3.46 3.46 3.28 3.4  3.7\n",
      " 3.56 3.26 3.32 3.04 3.32 3.6  3.66 3.76 3.48 3.22 3.22 3.26 3.2  3.44\n",
      " 3.28 3.44 3.1  3.8  3.34 3.08 2.76 3.46 3.54 3.06 3.56 3.5  3.76 3.64\n",
      " 3.76 3.8  3.92 3.52 3.5  3.44 3.78 3.56 3.66 3.66 3.14 2.9  3.8  3.1\n",
      " 3.18 3.62 3.4  3.2  3.58 3.16 3.82 3.72 3.62 3.56 3.2  3.38 3.7  3.74\n",
      " 3.66 3.54 3.08 3.54 3.46 3.36 3.9  3.82 3.5  3.5  3.48 3.78 3.64 3.74\n",
      " 3.36 3.58 3.56 3.76 3.84 3.7  3.52 3.38 2.94 3.38 3.16 3.5  3.28 3.5\n",
      " 3.72 3.6  3.04 3.3  3.34 3.08 3.48 3.32 3.72 3.54 3.4  3.42 3.62 3.04\n",
      " 3.24 3.7  3.24 3.5  3.42 3.48 3.6  3.8  3.24 3.46 3.18 3.42 3.16 3.66\n",
      " 3.44 3.38 3.76 3.4  3.8  3.62 3.62 3.52 3.76 3.34 3.7  3.52 3.82 3.26\n",
      " 3.86 3.22 3.3  3.3  3.36 3.3  3.66 3.4  3.26 3.38 2.94 3.2  3.66 3.28\n",
      " 3.62 3.56 3.66 3.72 3.4  3.54 3.5  3.68 3.62 3.52 3.14 3.56 3.42 3.08\n",
      " 3.06 3.8  3.14 3.6  3.7  3.04 3.2  3.02 4.18 3.76 3.46 3.48 3.4  3.46\n",
      " 3.66 3.86 3.26 3.08 3.08 3.54 3.72 3.52 4.   3.68 3.62 3.4  3.82 3.62\n",
      " 3.6  3.04 3.48 3.18 3.46 3.62 3.36 3.04 3.38 3.42 3.46 3.74 3.6  3.3\n",
      " 3.6  3.22 3.94 3.64 3.46 3.86 3.3  3.5  3.68 3.7  3.3  3.08 3.32 3.38\n",
      " 3.42 3.48 3.44 3.68 3.16 3.82 3.42 3.36 3.42 3.5  3.16 3.76 3.94 3.58\n",
      " 3.46 3.18 3.34 3.42 3.72 3.22 3.34 3.2  3.52 3.5  3.48 3.56 3.46 3.68\n",
      " 3.84 3.58 3.28 3.44 3.42 3.46 3.86 3.5  3.58 4.04 3.5  3.78 3.04 3.54\n",
      " 3.38 3.74 3.1  3.4  3.52 3.48 3.64 3.42 3.94 3.52 2.92 3.24 3.64 3.52\n",
      " 3.44 3.18 3.46 3.9  3.16 3.16 3.72 3.84 3.86 3.46 3.6  3.4  3.22 3.38\n",
      " 3.64 3.42 3.24 3.64 3.4  3.62 3.38 3.34 3.64 3.48 3.4  3.32 3.56 3.6\n",
      " 3.26 3.48 3.46 3.46 3.2  3.24 3.72 3.04 3.3  3.32 3.14 3.36 3.36 3.54\n",
      " 3.24 3.62 3.48 3.48 3.4  3.62 3.72 3.7  3.16 3.84 3.34 3.6  3.2  3.44\n",
      " 3.12 3.32 3.56 3.68 3.6  3.86 3.64 3.54 3.48 3.34 3.32 3.84 3.64 3.12\n",
      " 3.46 3.08 3.24 3.22 3.38 3.76 3.42 3.5  3.46 3.74 3.78 3.42 3.4  3.3\n",
      " 3.62 3.52 3.24 3.88 3.7  3.98 3.6  3.76 3.2  3.24 3.74 3.64 3.6  3.36\n",
      " 3.32 3.18 3.44 3.2  3.4  3.88 3.76 3.8  3.24 3.3  3.5  3.18 3.24 3.18\n",
      " 3.64 3.48 3.44 3.5  3.62 3.54 3.6  3.58 3.34 3.72 3.32 3.26 3.42 3.6\n",
      " 3.48 3.38 3.42 3.16 3.6  4.06 3.32 3.54 3.44 3.72 3.74 3.12 3.64 3.58\n",
      " 3.38 3.52 3.56 3.74 3.8  3.5  3.94 3.86 3.52 3.34 3.72 4.06 3.64 3.6\n",
      " 3.5  3.2  3.38 3.54 3.56 3.48 3.24 3.38 3.28 3.3  3.1  3.68 3.84 3.38\n",
      " 3.3  3.56 3.6  3.38 3.62 3.52 3.22 3.7  3.92 3.64 3.4  2.98 4.18 3.48\n",
      " 4.   3.34 3.36 3.92 3.48 3.56 3.78 3.62 3.42 3.96 3.4  3.4  3.6  3.54\n",
      " 3.66 3.48 3.48 3.6  3.78 3.04 3.98 3.5  3.62 3.54 3.38 3.74 3.92 3.52\n",
      " 3.36 3.38 3.44 3.52 3.46 3.66 3.52 3.58 3.48 3.36 3.22 3.28 3.86 3.34\n",
      " 3.62 3.62 3.86 3.14 3.36 3.76 3.62 3.12 2.9  3.78 3.26 3.14 3.06 3.24\n",
      " 3.98 3.26 3.54 3.18 3.46 3.76 3.74 3.42 3.56 3.76 3.5  3.64 3.56 3.84\n",
      " 3.46 3.46 3.32 3.78 3.54 3.48 4.04 3.66 3.64 3.46 3.54 3.14 3.26 3.26\n",
      " 3.5  3.32 3.72 3.9  3.34 3.22 3.36 3.94 3.56 3.84 3.76 3.34 3.24 3.88\n",
      " 3.4  3.48 3.76 3.46 3.82 3.18 3.52 3.6  3.58 3.68 3.5  3.22 3.76 3.62\n",
      " 3.56 3.58 3.36 3.42 3.4  3.28 3.16 3.38 3.44 3.48 3.58 3.4  3.2  3.64\n",
      " 3.68 3.76 3.32 3.38 3.44 3.38 2.98 3.5  2.96 3.18 3.04 3.3  3.92 3.38\n",
      " 3.   3.62 3.46 3.3  3.42 2.8  3.2  3.36 3.6  3.24 3.36 3.44 3.56 3.44\n",
      " 3.38 3.76 3.42 3.7  3.54 3.62 3.96 3.38 3.64 3.44 3.12 3.4  3.46 3.7\n",
      " 3.74 3.66 3.46 3.18 2.88 3.78 3.62 2.78 4.02 3.44 3.76 3.48 3.32 3.22\n",
      " 3.44 3.22 3.76 3.3  3.76 3.92 3.94 3.56 3.42 3.42 3.2  3.1  3.18 3.38\n",
      " 3.24 3.06 3.54 3.14 3.92 3.32 3.32 3.74 3.12 3.88 3.7  4.1  3.4  3.48\n",
      " 3.3  3.36 3.5  3.9  3.88 3.18 2.96 3.18 3.82 3.34 3.66 3.48 3.16 3.48\n",
      " 3.5  3.58 3.68 3.5  3.7  3.62 3.32 4.02 3.86 3.7  3.78 3.48 3.62 3.32\n",
      " 3.54 3.76 3.68 3.88 3.4  3.22 3.2  3.   3.88 3.54 3.98 3.38 3.58 3.14\n",
      " 3.56 3.52 3.62 3.22 3.72 3.62 3.34 3.7  3.5  3.46 4.04 3.58 3.18 3.3\n",
      " 4.16 3.68 3.44 3.72 3.54 3.62 3.36 3.02 3.3  3.4  3.56 3.78 3.68 3.24\n",
      " 3.1  3.34 3.56 3.52 3.6  3.5  3.18 3.26 3.48 3.54 3.54 3.28 3.36 3.4\n",
      " 3.42 3.5  3.34 3.2  3.44 3.36 3.12 3.5  3.5  3.06 3.32 3.68 3.46 3.4\n",
      " 3.34 3.26 3.3  3.38 3.86 3.86 3.54 3.72 3.56 3.42 3.8  3.42 3.26 3.74\n",
      " 3.66 3.62 3.2  3.24 3.62 3.38 3.56 3.66 3.42 3.72 3.32 3.4  3.22 3.14\n",
      " 3.36 3.18 3.34 3.42 3.5  4.04 3.4  3.6  3.42 3.86 3.16 3.54 3.54 3.52\n",
      " 3.18 3.9  3.46 3.58 3.42 3.2  3.48 4.   3.56 3.86 3.24 3.5  3.54 3.7\n",
      " 3.42 3.   3.44 3.56 3.32 3.16 3.92 3.6  3.16 3.82 3.28 3.3  3.68 3.52\n",
      " 3.46 3.12 3.28 3.56 3.46 3.6  3.5  3.34 3.84 3.24 3.32 3.54 3.78 3.44\n",
      " 3.72 3.32 3.6  3.44 3.3  3.3  3.46 3.3  3.76 3.32 3.58 3.54 3.82 3.6\n",
      " 3.34 3.66 3.76 3.86 3.94 3.88 3.56 3.6  3.48 3.26 3.82 3.86 3.68 3.62\n",
      " 3.52 3.44 3.3  3.9  3.82 3.62 3.6  4.06 3.64 3.6  3.52 3.62 3.44 3.34\n",
      " 3.1  3.48 3.38 3.6  3.44 3.36 3.6  3.56 3.52 3.56 3.2  3.72 3.58 3.48\n",
      " 3.74 3.38 3.62 3.42 3.48 3.3  3.88 3.38 3.74 3.28 3.78 3.32 3.74 3.26\n",
      " 3.46 3.34 3.68 3.32 3.46 3.18]\n"
     ]
    }
   ],
   "source": [
    "samples = []\n",
    "samples_mean = []\n",
    "samples_std = []\n",
    " \n",
    "for i in range(0, 1000):\n",
    "    sample = []\n",
    "    for j in range(0, 50):\n",
    "        sample.append(random_data[int(np.random.random() * len(random_data))])\n",
    "    sample_np = np.array(sample)\n",
    "    samples_mean.append(sample_np.mean())\n",
    "    samples_std.append(sample_np.std())\n",
    "    samples.append(sample_np)\n",
    " \n",
    "    samples_mean_np = np.array(samples_mean)\n",
    "    samples_std_np = np.array(samples_std)\n",
    " \n",
    "print (samples_mean_np)"
   ]
  },
  {
   "cell_type": "code",
   "execution_count": 19,
   "metadata": {},
   "outputs": [
    {
     "data": {
      "text/plain": [
       "3.4881599999999997"
      ]
     },
     "execution_count": 19,
     "metadata": {},
     "output_type": "execute_result"
    }
   ],
   "source": [
    "samples_mean_np.mean()"
   ]
  },
  {
   "cell_type": "code",
   "execution_count": null,
   "metadata": {},
   "outputs": [],
   "source": []
  },
  {
   "cell_type": "code",
   "execution_count": null,
   "metadata": {},
   "outputs": [],
   "source": []
  },
  {
   "cell_type": "code",
   "execution_count": null,
   "metadata": {},
   "outputs": [],
   "source": []
  }
 ],
 "metadata": {
  "kernelspec": {
   "display_name": "Python 3",
   "language": "python",
   "name": "python3"
  },
  "language_info": {
   "codemirror_mode": {
    "name": "ipython",
    "version": 3
   },
   "file_extension": ".py",
   "mimetype": "text/x-python",
   "name": "python",
   "nbconvert_exporter": "python",
   "pygments_lexer": "ipython3",
   "version": "3.7.4"
  },
  "toc": {
   "base_numbering": 1,
   "nav_menu": {},
   "number_sections": false,
   "sideBar": true,
   "skip_h1_title": true,
   "title_cell": "Table of Contents",
   "title_sidebar": "Contents",
   "toc_cell": false,
   "toc_position": {},
   "toc_section_display": "block",
   "toc_window_display": false
  }
 },
 "nbformat": 4,
 "nbformat_minor": 2
}
