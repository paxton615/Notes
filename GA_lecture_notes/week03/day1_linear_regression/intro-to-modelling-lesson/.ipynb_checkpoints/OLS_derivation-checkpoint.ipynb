{
 "cells": [
  {
   "cell_type": "markdown",
   "metadata": {},
   "source": [
    "<img src=\"http://imgur.com/1ZcRyrc.png\" style=\"float: left; margin: 20px; height: 55px\">\n",
    "\n",
    "# Derivation for simple linear regression\n",
    "\n",
    "\n",
    "---"
   ]
  },
  {
   "cell_type": "markdown",
   "metadata": {},
   "source": [
    "To minimize the residual sum of squares, we will have to calculate its partial derivatives with respect to $\\beta_0$ and $\\beta_1$ respectively and set each of them to zero.\n",
    "\n",
    "To calculate the partial derivatives, we can use python's `sympy` package:"
   ]
  },
  {
   "cell_type": "code",
   "execution_count": 1,
   "metadata": {},
   "outputs": [
    {
     "data": {
      "image/png": "[encoded data removed]",
      "text/latex": [
       "$$\\left ( x, \\quad x_{i}, \\quad y_{i}, \\quad \\beta_{0}, \\quad \\beta_{1}, \\quad n\\right )$$"
      ],
      "text/plain": [
       "(x, xᵢ, yᵢ, β₀, β₁, n)"
      ]
     },
     "execution_count": 1,
     "metadata": {},
     "output_type": "execute_result"
    }
   ],
   "source": [
    "import sympy as sym\n",
    "from sympy import init_session, init_printing\n",
    "\n",
    "init_printing()\n",
    "sym.symbols('x x_i y_i beta_0 beta_1 n')"
   ]
  },
  {
   "cell_type": "markdown",
   "metadata": {},
   "source": [
    "### Sympy readily calculates derivatives of functions which might cost you some fatigue to do by hand."
   ]
  },
  {
   "cell_type": "code",
   "execution_count": 2,
   "metadata": {},
   "outputs": [
    {
     "data": {
      "image/png": "[encoded data removed]",
      "text/latex": [
       "$$2 x$$"
      ],
      "text/plain": [
       "2⋅x"
      ]
     },
     "execution_count": 2,
     "metadata": {},
     "output_type": "execute_result"
    }
   ],
   "source": [
    "sym.diff('x**2','x')"
   ]
  },
  {
   "cell_type": "code",
   "execution_count": 3,
   "metadata": {},
   "outputs": [
    {
     "data": {
      "image/png": "[encoded data removed]",
      "text/latex": [
       "$$\\frac{\\tan^{2}{\\left (\\log{\\left (x \\right )} \\right )} + 1}{x}$$"
      ],
      "text/plain": [
       "   2            \n",
       "tan (log(x)) + 1\n",
       "────────────────\n",
       "       x        "
      ]
     },
     "execution_count": 3,
     "metadata": {},
     "output_type": "execute_result"
    }
   ],
   "source": [
    "sym.diff('tan(log(x))','x')"
   ]
  },
  {
   "cell_type": "markdown",
   "metadata": {},
   "source": [
    "### We want to minimize the residual sum of squares:\n",
    "\n",
    "$$RSS = \\sum_{i=1}^n(y_i-(\\beta_0+\\beta_1 x_i))^2$$"
   ]
  },
  {
   "cell_type": "markdown",
   "metadata": {},
   "source": [
    "### We do this by taking derivatives with respect to the beta-coefficients. These have the same form for each term in the sum:"
   ]
  },
  {
   "cell_type": "code",
   "execution_count": 4,
   "metadata": {},
   "outputs": [
    {
     "name": "stdout",
     "output_type": "stream",
     "text": [
      "Partial derivative with respect to beta_0:\n"
     ]
    },
    {
     "data": {
      "image/png": "[encoded data removed]",
      "text/latex": [
       "$$2 \\left(\\beta_{0} + \\beta_{1} x_{i} - y_{i}\\right)$$"
      ],
      "text/plain": [
       "2⋅(β₀ + β₁⋅xᵢ - yᵢ)"
      ]
     },
     "execution_count": 4,
     "metadata": {},
     "output_type": "execute_result"
    }
   ],
   "source": [
    "print('Partial derivative with respect to beta_0:')\n",
    "sym.together(sym.diff('(y_i-(beta_0+beta_1*x_i))**2','beta_0'))"
   ]
  },
  {
   "cell_type": "code",
   "execution_count": 5,
   "metadata": {},
   "outputs": [
    {
     "name": "stdout",
     "output_type": "stream",
     "text": [
      "Partial derivative with respect to beta_1:\n"
     ]
    },
    {
     "data": {
      "image/png": "[encoded data removed]",
      "text/latex": [
       "$$- 2 x_{i} \\left(- \\beta_{0} - \\beta_{1} x_{i} + y_{i}\\right)$$"
      ],
      "text/plain": [
       "-2⋅xᵢ⋅(-β₀ - β₁⋅xᵢ + yᵢ)"
      ]
     },
     "execution_count": 5,
     "metadata": {},
     "output_type": "execute_result"
    }
   ],
   "source": [
    "print('Partial derivative with respect to beta_1:')\n",
    "sym.together(sym.diff('(y_i-(beta_0+beta_1*x_i))**2','beta_1'))"
   ]
  },
  {
   "cell_type": "markdown",
   "metadata": {},
   "source": [
    "### The partial derivative with respect to $\\beta_0$:\n",
    "\n",
    "$$\\frac{\\partial RSS}{\\partial\\beta_0} = -2\\sum_{i=1}^n{\\left(y_i - (\\beta_0 + \\beta_1x_i)\\right)}$$"
   ]
  },
  {
   "cell_type": "markdown",
   "metadata": {},
   "source": [
    "### The partial derivative with respect to $\\beta_1$:\n",
    "\n",
    "$$\\frac{\\partial RSS}{\\partial\\beta_1} = -2\\sum_{i=1}^n{x_i\\left(y_i - (\\beta_0 + \\beta_1x_i)\\right)}$$"
   ]
  },
  {
   "cell_type": "markdown",
   "metadata": {},
   "source": [
    "### To find the minimum, we set each of these derivatives to zero."
   ]
  },
  {
   "cell_type": "markdown",
   "metadata": {},
   "source": [
    "#### For the first equation, we obtain\n",
    "\n",
    "$$\n",
    "\\begin{eqnarray*}\n",
    "0 &=& \\sum_{i=1}^n{\\left(y_i - (\\beta_0 + \\beta_1x_i)\\right)}\\\\\n",
    "0 &=& \\sum_{i=1}^n y_i - \\sum_{i=1}^n \\beta_0 -\\sum_{i=1}^n \\beta_1 x_i\\\\\n",
    "0 &=& \\sum_{i=1}^n y_i - \\beta_0\\sum_{i=1}^n 1  -\\beta_1\\sum_{i=1}^n x_i\\\\\n",
    "0 &=& n\\, \\bar{y} - n\\, \\beta_0 - n \\,\\beta_1 \\bar{x}\\\\\n",
    "0 &=& n\\left( \\bar{y} - \\beta_0 - \\beta_1 \\bar{x}\\right)\\\\\n",
    "0 &=& \\bar{y} - \\beta_0 - \\beta_1 \\bar{x}\n",
    "\\end{eqnarray*}\n",
    "$$\n",
    "\n",
    "and hence\n",
    "\n",
    "$$\n",
    "\\beta_0 = \\bar{y} - \\beta_1\\bar{x}\n",
    "$$"
   ]
  },
  {
   "cell_type": "markdown",
   "metadata": {},
   "source": [
    "#### Inserting this result into the equation for  $$\\frac{\\partial RSS}{\\partial\\beta_1}$$ gives\n",
    "\n",
    "$$\n",
    "\\begin{eqnarray*}\n",
    "0 &=& \\sum_{i=1}^n x_i\\left(y_i-\\bar{y}+\\beta_1 \\bar{x}- \\beta_1 x_i\\right)\\\\\n",
    "0 &=& \\sum_{i=1}^n x_i y_i-\\sum_{i=1}^n x_i\\bar{y}+\\sum_{i=1}^n\\beta_1 x_i\\bar{x}-\\sum_{i=1}^n \\beta_1 x_i^2 \\\\\n",
    "0 &=& \\sum_{i=1}^n x_i y_i -\\bar{y}\\sum_{i=1}^n x_i \n",
    "+ \\beta_1\\left(\\bar{x}\\sum_{i=1}^n x_i-\\sum_{i=1}^n x_i^2\\right)\\\\\n",
    "0 &=& n\\,\\overline{x y}-n\\,\\bar{x}\\bar{y}+\\beta_1(n\\,\\bar{x}^2-n\\,\\overline{x^2})\\\\\n",
    "0 &=& n\\left(\\overline{x y}-\\bar{x}\\bar{y}+\\beta_1(\\bar{x}^2-\\overline{x^2})\\right)\\\\\n",
    "0 &=& \\overline{x y}-\\bar{x}\\bar{y}+\\beta_1(\\bar{x}^2-\\overline{x^2})\n",
    "\\end{eqnarray*}\n",
    "$$\n",
    "\n",
    "which gives \n",
    "\n",
    "$$\n",
    "\\beta_1 = \\frac{\\overline{x y}-\\bar{x}\\bar{y}}{\\overline{x^2}-\\bar{x}^2}\n",
    "$$"
   ]
  },
  {
   "cell_type": "markdown",
   "metadata": {},
   "source": [
    "### Further conclusions \n",
    "\n",
    "In the above calculations we obtained the model coefficients. The two partial derivatives allow us to take two further conclusions.\n",
    "\n",
    "Remember that the residuals are given by\n",
    "\n",
    "$$\\epsilon_i=y_i - (\\beta_0 + \\beta_1x_i)$$\n",
    "\n",
    "Hence we can write the partial derivative with respect to $\\beta_0$ as\n",
    "\n",
    "$$\\frac{\\partial RSS}{\\partial\\beta_0} = -2\\sum_{i=1}^n{\\left(y_i - (\\beta_0 + \\beta_1x_i)\\right)} \n",
    "= -2\\sum_{i=1}^n{\\epsilon_i}  =0 $$\n",
    "\n",
    "This implies that **the sum of the residuals equals zero, and therefore also their mean is zero**.\n",
    "\n",
    "The partial derivative with respect to $\\beta_1$ we can write as\n",
    "\n",
    "$$\\frac{\\partial RSS}{\\partial\\beta_1} = -2\\sum_{i=1}^n{x_i\\left(y_i - (\\beta_0 + \\beta_1x_i)\\right)} = -2\\sum_{i=1}^n{x_i\\epsilon_i} = 0$$\n",
    "\n",
    "This implies that **the scalar product between the vectors of $X$ and $\\epsilon$ is zero**, they are orthogonal to each other."
   ]
  }
 ],
 "metadata": {
  "kernelspec": {
   "display_name": "Python 3",
   "language": "python",
   "name": "python3"
  },
  "language_info": {
   "codemirror_mode": {
    "name": "ipython",
    "version": 3
   },
   "file_extension": ".py",
   "mimetype": "text/x-python",
   "name": "python",
   "nbconvert_exporter": "python",
   "pygments_lexer": "ipython3",
   "version": "3.7.3"
  },
  "toc": {
   "base_numbering": 1,
   "nav_menu": {},
   "number_sections": false,
   "sideBar": true,
   "skip_h1_title": true,
   "title_cell": "Table of Contents",
   "title_sidebar": "Contents",
   "toc_cell": false,
   "toc_position": {},
   "toc_section_display": "block",
   "toc_window_display": false
  }
 },
 "nbformat": 4,
 "nbformat_minor": 2
}
