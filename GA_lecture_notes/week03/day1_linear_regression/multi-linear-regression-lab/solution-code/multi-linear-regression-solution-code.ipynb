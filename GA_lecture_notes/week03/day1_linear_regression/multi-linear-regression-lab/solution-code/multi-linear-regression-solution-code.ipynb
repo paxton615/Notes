{
 "cells": [
  {
   "cell_type": "markdown",
   "metadata": {},
   "source": [
    "<img src=\"http://imgur.com/1ZcRyrc.png\" style=\"float: left; margin: 20px; height: 55px\">\n",
    "\n",
    "# Simple and Multiple Linear Regression from Scratch\n",
    "\n",
    "---"
   ]
  },
  {
   "cell_type": "markdown",
   "metadata": {},
   "source": [
    "## Learning Objectives\n",
    "\n",
    "### Core\n",
    "- Code the MSE for regression\n",
    "- Write a function to calculate the $R^2$ metric\n",
    "- Evaluate a regression model with $R^2$\n",
    "- Plot the regression line and predictions against the true values\n",
    "- Understand the difference between multiple linear regression and simple linear regression\n",
    "- Explain the 5 assumptions of MLR\n",
    "\n",
    "### Target\n",
    "- Conceptualise the difference between R^2 and MSE\n",
    "- Construct an MLR, calculate the coefficients manually, and evaluate the R^2\n",
    "\n",
    "### Stretch\n",
    "- Derive the beta coefficients in MLR using linear algebra\n"
   ]
  },
  {
   "cell_type": "markdown",
   "metadata": {
    "toc": true
   },
   "source": [
    "<h1>Lesson Guide<span class=\"tocSkip\"></span></h1>\n",
    "<div class=\"toc\"><ul class=\"toc-item\"><li><span><a href=\"#Learning-Objectives\" data-toc-modified-id=\"Learning-Objectives-1\">Learning Objectives</a></span><ul class=\"toc-item\"><li><span><a href=\"#Core\" data-toc-modified-id=\"Core-1.1\">Core</a></span></li><li><span><a href=\"#Target\" data-toc-modified-id=\"Target-1.2\">Target</a></span></li><li><span><a href=\"#Stretch\" data-toc-modified-id=\"Stretch-1.3\">Stretch</a></span></li></ul></li><li><span><a href=\"#Simple-Linear-Regression\" data-toc-modified-id=\"Simple-Linear-Regression-2\">Simple Linear Regression</a></span></li><li><span><a href=\"#Load-the-real-estate-data\" data-toc-modified-id=\"Load-the-real-estate-data-3\">Load the real estate data</a></span></li><li><span><a href=\"#Build-a-SLR:-estimating-price-with-sqft\" data-toc-modified-id=\"Build-a-SLR:-estimating-price-with-sqft-4\">Build a SLR: estimating <code>price</code> with <code>sqft</code></a></span><ul class=\"toc-item\"><li><span><a href=\"#Define-the-target-and-predictor-variables\" data-toc-modified-id=\"Define-the-target-and-predictor-variables-4.1\">Define the target and predictor variables</a></span></li><li><span><a href=\"#Write-a-function-to-predict-$\\hat{y}$-given-$x$\" data-toc-modified-id=\"Write-a-function-to-predict-$\\hat{y}$-given-$x$-4.2\">Write a function to predict $\\hat{y}$ given $x$</a></span></li><li><span><a href=\"#Write-a-function-to-plot-a-regression-line\" data-toc-modified-id=\"Write-a-function-to-plot-a-regression-line-4.3\">Write a function to plot a regression line</a></span></li><li><span><a href=\"#Write-a-function-to-calculate-the-predicted-values-for-the-training-data\" data-toc-modified-id=\"Write-a-function-to-calculate-the-predicted-values-for-the-training-data-4.4\">Write a function to calculate the predicted values for the training data</a></span></li><li><span><a href=\"#Write-a-function-to-calculate-residuals\" data-toc-modified-id=\"Write-a-function-to-calculate-residuals-4.5\">Write a function to calculate residuals</a></span></li><li><span><a href=\"#Write-a-function-to-calculate-the-mean-squared-error-(MSE)\" data-toc-modified-id=\"Write-a-function-to-calculate-the-mean-squared-error-(MSE)-4.6\">Write a function to calculate the mean squared error (MSE)</a></span></li><li><span><a href=\"#Write-a-function-to-calculate-$R^2$.-Print-out-the-$R^2$-of-your-model.\" data-toc-modified-id=\"Write-a-function-to-calculate-$R^2$.-Print-out-the-$R^2$-of-your-model.-4.7\">Write a function to calculate $R^2$. Print out the $R^2$ of your model.</a></span></li></ul></li><li><span><a href=\"#From-simple-linear-regression-(SLR)-to-multiple-linear-regression-(MLR)\" data-toc-modified-id=\"From-simple-linear-regression-(SLR)-to-multiple-linear-regression-(MLR)-5\">From simple linear regression (SLR) to multiple linear regression (MLR)</a></span></li><li><span><a href=\"#Assumptions-of-MLR\" data-toc-modified-id=\"Assumptions-of-MLR-6\">Assumptions of MLR</a></span></li><li><span><a href=\"#Fitting-multiple-linear-regression\" data-toc-modified-id=\"Fitting-multiple-linear-regression-7\">Fitting multiple linear regression</a></span><ul class=\"toc-item\"><li><span><a href=\"#Obtaining-the-$\\beta$-coefficients\" data-toc-modified-id=\"Obtaining-the-$\\beta$-coefficients-7.1\">Obtaining the $\\beta$ coefficients</a></span></li><li><span><a href=\"#Code-MLR\" data-toc-modified-id=\"Code-MLR-7.2\">Code MLR</a></span></li><li><span><a href=\"#Solve-for-the-beta-coefficients\" data-toc-modified-id=\"Solve-for-the-beta-coefficients-7.3\">Solve for the beta coefficients</a></span></li><li><span><a href=\"#Confirm-that-these-betas-are-the-same-as-the-ones-using-scikit-learn\" data-toc-modified-id=\"Confirm-that-these-betas-are-the-same-as-the-ones-using-scikit-learn-7.4\">Confirm that these betas are the same as the ones using scikit-learn</a></span><ul class=\"toc-item\"><li><span><a href=\"#Calculate-the-predicted-$\\hat{y}$-with-your-$X$-predictor-matrix-and-$\\beta$-coefficients.\" data-toc-modified-id=\"Calculate-the-predicted-$\\hat{y}$-with-your-$X$-predictor-matrix-and-$\\beta$-coefficients.-7.4.1\">Calculate the predicted $\\hat{y}$ with your $X$ predictor matrix and $\\beta$ coefficients.</a></span></li><li><span><a href=\"#Calculate-the-$R^2$-of-the-multiple-regression-model.\" data-toc-modified-id=\"Calculate-the-$R^2$-of-the-multiple-regression-model.-7.4.2\">Calculate the $R^2$ of the multiple regression model.</a></span></li><li><span><a href=\"#Check-the-distribution-of-the-residuals\" data-toc-modified-id=\"Check-the-distribution-of-the-residuals-7.4.3\">Check the distribution of the residuals</a></span></li><li><span><a href=\"#Check-for-relations-between-predictor-values-and-residuals\" data-toc-modified-id=\"Check-for-relations-between-predictor-values-and-residuals-7.4.4\">Check for relations between predictor values and residuals</a></span></li></ul></li><li><span><a href=\"#Feature-engineering\" data-toc-modified-id=\"Feature-engineering-7.5\">Feature engineering</a></span></li></ul></li><li><span><a href=\"#Conclusions\" data-toc-modified-id=\"Conclusions-8\">Conclusions</a></span></li></ul></div>"
   ]
  },
  {
   "cell_type": "code",
   "execution_count": 1,
   "metadata": {},
   "outputs": [],
   "source": [
    "import pandas as pd\n",
    "import numpy as np\n",
    "import matplotlib\n",
    "import matplotlib.pyplot as plt\n",
    "import seaborn as sns\n",
    "\n",
    "sns.set(font_scale=1.5)\n",
    "%config InlineBackend.figure_format = 'retina'\n",
    "%matplotlib inline"
   ]
  },
  {
   "cell_type": "markdown",
   "metadata": {},
   "source": [
    "## Simple Linear Regression\n",
    "\n",
    "So far we have done simple linear regression fitting the outcome variable on a single predictor. To do so we used the following formulas for intercept and slope:\n",
    "\n",
    "$$ \\hat{\\beta}_0 = \\bar{y} - \\hat{\\beta}_1 \\bar{x} \\\\\n",
    "\\hat{\\beta}_1 = r_{XY} \\frac{s_Y}{s_X}$$\n",
    "\n",
    "Now we want to generalize to having more than one predictor."
   ]
  },
  {
   "cell_type": "markdown",
   "metadata": {},
   "source": [
    "## Load the real estate data\n",
    "\n",
    "---\n",
    "\n",
    "Over the course of this lesson we will be constructing a simple linear regression and then extend this to multiple linear regression. Included in the datasets folder is a very simple dataset on real estate prices.\n",
    "\n",
    "**Load the data using pandas.**"
   ]
  },
  {
   "cell_type": "code",
   "execution_count": 6,
   "metadata": {},
   "outputs": [
    {
     "name": "stdout",
     "output_type": "stream",
     "text": [
      "housing-data.csv\r\n"
     ]
    }
   ],
   "source": [
    "! ls /Users/paxton615/GA/resource-datasets/housing_data/"
   ]
  },
  {
   "cell_type": "code",
   "execution_count": 1,
   "metadata": {},
   "outputs": [
    {
     "data": {
      "text/plain": [
       "'/Users/paxton615/GA/DSI9-lessons/week03/day1_linear_regression/multi-linear-regression-lab/solution-code'"
      ]
     },
     "execution_count": 1,
     "metadata": {},
     "output_type": "execute_result"
    }
   ],
   "source": [
    "pwd"
   ]
  },
  {
   "cell_type": "code",
   "execution_count": 2,
   "metadata": {},
   "outputs": [
    {
     "data": {
      "text/html": [
       "<div>\n",
       "<style scoped>\n",
       "    .dataframe tbody tr th:only-of-type {\n",
       "        vertical-align: middle;\n",
       "    }\n",
       "\n",
       "    .dataframe tbody tr th {\n",
       "        vertical-align: top;\n",
       "    }\n",
       "\n",
       "    .dataframe thead th {\n",
       "        text-align: right;\n",
       "    }\n",
       "</style>\n",
       "<table border=\"1\" class=\"dataframe\">\n",
       "  <thead>\n",
       "    <tr style=\"text-align: right;\">\n",
       "      <th></th>\n",
       "      <th>sqft</th>\n",
       "      <th>bdrms</th>\n",
       "      <th>age</th>\n",
       "      <th>price</th>\n",
       "    </tr>\n",
       "  </thead>\n",
       "  <tbody>\n",
       "    <tr>\n",
       "      <th>0</th>\n",
       "      <td>2104</td>\n",
       "      <td>3</td>\n",
       "      <td>70</td>\n",
       "      <td>399900</td>\n",
       "    </tr>\n",
       "    <tr>\n",
       "      <th>1</th>\n",
       "      <td>1600</td>\n",
       "      <td>3</td>\n",
       "      <td>28</td>\n",
       "      <td>329900</td>\n",
       "    </tr>\n",
       "    <tr>\n",
       "      <th>2</th>\n",
       "      <td>2400</td>\n",
       "      <td>3</td>\n",
       "      <td>44</td>\n",
       "      <td>369000</td>\n",
       "    </tr>\n",
       "    <tr>\n",
       "      <th>3</th>\n",
       "      <td>1416</td>\n",
       "      <td>2</td>\n",
       "      <td>49</td>\n",
       "      <td>232000</td>\n",
       "    </tr>\n",
       "    <tr>\n",
       "      <th>4</th>\n",
       "      <td>3000</td>\n",
       "      <td>4</td>\n",
       "      <td>75</td>\n",
       "      <td>539900</td>\n",
       "    </tr>\n",
       "  </tbody>\n",
       "</table>\n",
       "</div>"
      ],
      "text/plain": [
       "   sqft  bdrms  age   price\n",
       "0  2104      3   70  399900\n",
       "1  1600      3   28  329900\n",
       "2  2400      3   44  369000\n",
       "3  1416      2   49  232000\n",
       "4  3000      4   75  539900"
      ]
     },
     "execution_count": 2,
     "metadata": {},
     "output_type": "execute_result"
    }
   ],
   "source": [
    "house_csv = '../../../../../resource-datasets/housing_data/housing-data.csv'\n",
    "df = pd.read_csv(house_csv)\n",
    "df.head()"
   ]
  },
  {
   "cell_type": "markdown",
   "metadata": {},
   "source": [
    "The columns are:\n",
    "\n",
    "    sqft: the size of the house in sq. ft\n",
    "    bdrms: number of bedrooms\n",
    "    age: age in years of house\n",
    "    price: the price of the house\n",
    "    \n",
    "**Convert `price` to be in units of 1000 (thousands of dollars).**"
   ]
  },
  {
   "cell_type": "code",
   "execution_count": 3,
   "metadata": {},
   "outputs": [
    {
     "data": {
      "text/html": [
       "<div>\n",
       "<style scoped>\n",
       "    .dataframe tbody tr th:only-of-type {\n",
       "        vertical-align: middle;\n",
       "    }\n",
       "\n",
       "    .dataframe tbody tr th {\n",
       "        vertical-align: top;\n",
       "    }\n",
       "\n",
       "    .dataframe thead th {\n",
       "        text-align: right;\n",
       "    }\n",
       "</style>\n",
       "<table border=\"1\" class=\"dataframe\">\n",
       "  <thead>\n",
       "    <tr style=\"text-align: right;\">\n",
       "      <th></th>\n",
       "      <th>sqft</th>\n",
       "      <th>bdrms</th>\n",
       "      <th>age</th>\n",
       "      <th>price</th>\n",
       "    </tr>\n",
       "  </thead>\n",
       "  <tbody>\n",
       "    <tr>\n",
       "      <th>0</th>\n",
       "      <td>2104</td>\n",
       "      <td>3</td>\n",
       "      <td>70</td>\n",
       "      <td>399.9</td>\n",
       "    </tr>\n",
       "    <tr>\n",
       "      <th>1</th>\n",
       "      <td>1600</td>\n",
       "      <td>3</td>\n",
       "      <td>28</td>\n",
       "      <td>329.9</td>\n",
       "    </tr>\n",
       "  </tbody>\n",
       "</table>\n",
       "</div>"
      ],
      "text/plain": [
       "   sqft  bdrms  age  price\n",
       "0  2104      3   70  399.9\n",
       "1  1600      3   28  329.9"
      ]
     },
     "execution_count": 3,
     "metadata": {},
     "output_type": "execute_result"
    }
   ],
   "source": [
    "df['price'] = df.price.map(lambda x: x/1000.)\n",
    "df.head(2)"
   ]
  },
  {
   "cell_type": "markdown",
   "metadata": {},
   "source": [
    "**Check that the data makes sense.**"
   ]
  },
  {
   "cell_type": "code",
   "execution_count": 4,
   "metadata": {},
   "outputs": [
    {
     "data": {
      "text/html": [
       "<div>\n",
       "<style scoped>\n",
       "    .dataframe tbody tr th:only-of-type {\n",
       "        vertical-align: middle;\n",
       "    }\n",
       "\n",
       "    .dataframe tbody tr th {\n",
       "        vertical-align: top;\n",
       "    }\n",
       "\n",
       "    .dataframe thead th {\n",
       "        text-align: right;\n",
       "    }\n",
       "</style>\n",
       "<table border=\"1\" class=\"dataframe\">\n",
       "  <thead>\n",
       "    <tr style=\"text-align: right;\">\n",
       "      <th></th>\n",
       "      <th>sqft</th>\n",
       "      <th>bdrms</th>\n",
       "      <th>age</th>\n",
       "      <th>price</th>\n",
       "    </tr>\n",
       "  </thead>\n",
       "  <tbody>\n",
       "    <tr>\n",
       "      <th>count</th>\n",
       "      <td>47.000000</td>\n",
       "      <td>47.000000</td>\n",
       "      <td>47.000000</td>\n",
       "      <td>47.00000</td>\n",
       "    </tr>\n",
       "    <tr>\n",
       "      <th>mean</th>\n",
       "      <td>2000.680851</td>\n",
       "      <td>3.170213</td>\n",
       "      <td>42.744681</td>\n",
       "      <td>340.41266</td>\n",
       "    </tr>\n",
       "    <tr>\n",
       "      <th>std</th>\n",
       "      <td>794.702354</td>\n",
       "      <td>0.760982</td>\n",
       "      <td>22.873440</td>\n",
       "      <td>125.03990</td>\n",
       "    </tr>\n",
       "    <tr>\n",
       "      <th>min</th>\n",
       "      <td>852.000000</td>\n",
       "      <td>1.000000</td>\n",
       "      <td>5.000000</td>\n",
       "      <td>169.90000</td>\n",
       "    </tr>\n",
       "    <tr>\n",
       "      <th>25%</th>\n",
       "      <td>1432.000000</td>\n",
       "      <td>3.000000</td>\n",
       "      <td>24.500000</td>\n",
       "      <td>249.90000</td>\n",
       "    </tr>\n",
       "    <tr>\n",
       "      <th>50%</th>\n",
       "      <td>1888.000000</td>\n",
       "      <td>3.000000</td>\n",
       "      <td>44.000000</td>\n",
       "      <td>299.90000</td>\n",
       "    </tr>\n",
       "    <tr>\n",
       "      <th>75%</th>\n",
       "      <td>2269.000000</td>\n",
       "      <td>4.000000</td>\n",
       "      <td>61.500000</td>\n",
       "      <td>384.45000</td>\n",
       "    </tr>\n",
       "    <tr>\n",
       "      <th>max</th>\n",
       "      <td>4478.000000</td>\n",
       "      <td>5.000000</td>\n",
       "      <td>79.000000</td>\n",
       "      <td>699.90000</td>\n",
       "    </tr>\n",
       "  </tbody>\n",
       "</table>\n",
       "</div>"
      ],
      "text/plain": [
       "              sqft      bdrms        age      price\n",
       "count    47.000000  47.000000  47.000000   47.00000\n",
       "mean   2000.680851   3.170213  42.744681  340.41266\n",
       "std     794.702354   0.760982  22.873440  125.03990\n",
       "min     852.000000   1.000000   5.000000  169.90000\n",
       "25%    1432.000000   3.000000  24.500000  249.90000\n",
       "50%    1888.000000   3.000000  44.000000  299.90000\n",
       "75%    2269.000000   4.000000  61.500000  384.45000\n",
       "max    4478.000000   5.000000  79.000000  699.90000"
      ]
     },
     "execution_count": 4,
     "metadata": {},
     "output_type": "execute_result"
    }
   ],
   "source": [
    "df.describe()"
   ]
  },
  {
   "cell_type": "code",
   "execution_count": 5,
   "metadata": {},
   "outputs": [
    {
     "data": {
      "text/html": [
       "<div>\n",
       "<style scoped>\n",
       "    .dataframe tbody tr th:only-of-type {\n",
       "        vertical-align: middle;\n",
       "    }\n",
       "\n",
       "    .dataframe tbody tr th {\n",
       "        vertical-align: top;\n",
       "    }\n",
       "\n",
       "    .dataframe thead th {\n",
       "        text-align: right;\n",
       "    }\n",
       "</style>\n",
       "<table border=\"1\" class=\"dataframe\">\n",
       "  <thead>\n",
       "    <tr style=\"text-align: right;\">\n",
       "      <th></th>\n",
       "      <th>sqft</th>\n",
       "      <th>bdrms</th>\n",
       "      <th>age</th>\n",
       "      <th>price</th>\n",
       "    </tr>\n",
       "  </thead>\n",
       "  <tbody>\n",
       "    <tr>\n",
       "      <th>sqft</th>\n",
       "      <td>1.000000</td>\n",
       "      <td>0.559967</td>\n",
       "      <td>0.079853</td>\n",
       "      <td>0.854988</td>\n",
       "    </tr>\n",
       "    <tr>\n",
       "      <th>bdrms</th>\n",
       "      <td>0.559967</td>\n",
       "      <td>1.000000</td>\n",
       "      <td>0.077486</td>\n",
       "      <td>0.442261</td>\n",
       "    </tr>\n",
       "    <tr>\n",
       "      <th>age</th>\n",
       "      <td>0.079853</td>\n",
       "      <td>0.077486</td>\n",
       "      <td>1.000000</td>\n",
       "      <td>0.051791</td>\n",
       "    </tr>\n",
       "    <tr>\n",
       "      <th>price</th>\n",
       "      <td>0.854988</td>\n",
       "      <td>0.442261</td>\n",
       "      <td>0.051791</td>\n",
       "      <td>1.000000</td>\n",
       "    </tr>\n",
       "  </tbody>\n",
       "</table>\n",
       "</div>"
      ],
      "text/plain": [
       "           sqft     bdrms       age     price\n",
       "sqft   1.000000  0.559967  0.079853  0.854988\n",
       "bdrms  0.559967  1.000000  0.077486  0.442261\n",
       "age    0.079853  0.077486  1.000000  0.051791\n",
       "price  0.854988  0.442261  0.051791  1.000000"
      ]
     },
     "execution_count": 5,
     "metadata": {},
     "output_type": "execute_result"
    }
   ],
   "source": [
    "df.corr()"
   ]
  },
  {
   "cell_type": "markdown",
   "metadata": {},
   "source": [
    "**Looking at the correlation, which variable is the most useful predictor for price?**"
   ]
  },
  {
   "cell_type": "markdown",
   "metadata": {},
   "source": [
    "## Build a SLR: estimating `price` with `sqft`\n",
    "\n",
    "---\n",
    "\n",
    "We will start by constructing the simple linear regression. Below is the formulation for the SLR and our specific model of interest:\n",
    "\n",
    "$$ y = \\beta_0 + \\beta_1 x + \\epsilon \\\\\n",
    "\\text{price} = \\beta_0 + \\beta_1 \\text{sqft} + \\epsilon$$\n",
    "\n",
    "> $\\beta_0$: the intercept\n",
    "\n",
    "Without the intercept term the regression line would always have to pass through the origin, which is almost never an optimal way to represent the relationship between our target and predictor variable.\n",
    "\n",
    "> $\\beta_1$: the coefficient on $x$ \n",
    "\n",
    "We intend to estimate the values of $y$ from $x$. Each value of $x$ is multiplied by the same coefficient, which is why linear regression models model a _linear_ relationship between our predictor and target variable.\n",
    "\n",
    "Recall that a one-unit increase in $x$ will correspond to a $\\beta_1$ unit increase in $y$ according to our model.\n",
    "\n",
    "> $\\epsilon_1$: the error (residuals)\n",
    "\n",
    "This is the difference between the predicted and true values that are unexplained by $x$ in the regression.\n",
    "\n",
    "---"
   ]
  },
  {
   "cell_type": "markdown",
   "metadata": {},
   "source": [
    "### Define the target and predictor variables\n",
    "\n",
    "Extract the target variable and predictor variable from our pandas dataframe. Classically, target and predictor are referred to as dependent and independent variables. There are many different terms for what $x$ and $y$ represent."
   ]
  },
  {
   "cell_type": "code",
   "execution_count": 6,
   "metadata": {},
   "outputs": [],
   "source": [
    "# target\n",
    "price = df.price\n",
    "# predictor\n",
    "sqft = df.sqft"
   ]
  },
  {
   "cell_type": "markdown",
   "metadata": {},
   "source": [
    "### Write a function to predict $\\hat{y}$ given $x$\n",
    "\n",
    "Build a function to represent the formula below:\n",
    "\n",
    "$$\\hat{y} = \\beta_0 + \\beta_1 x$$\n",
    "\n",
    "**Note:** There is no error term in the equation. Obviously we do not know the error or we would be able to model $y$ perfectly. We can assume that our prediction $\\hat{y}$ is an imperfect estimate of $y$."
   ]
  },
  {
   "cell_type": "code",
   "execution_count": 7,
   "metadata": {},
   "outputs": [],
   "source": [
    "def sls_fit_pd(df, X, Y):\n",
    "    '''Takes a dataframe and the column names \n",
    "    refering to predictor and target variable,\n",
    "    returns the regression coefficients beta_0 and beta_1.'''\n",
    "    y_bar = df[Y].mean()\n",
    "    x_bar = df[X].mean()\n",
    "    std_y = df[Y].std()\n",
    "    std_x = df[X].std()\n",
    "    r_xy = df.corr().loc[X, Y]\n",
    "    beta_1 = r_xy*(std_y/std_x)\n",
    "    beta_0 = y_bar - beta_1*x_bar\n",
    "    return beta_0, beta_1"
   ]
  },
  {
   "cell_type": "code",
   "execution_count": 8,
   "metadata": {},
   "outputs": [
    {
     "data": {
      "text/plain": [
       "(71.27049244872899, 0.1345252877202413)"
      ]
     },
     "execution_count": 8,
     "metadata": {},
     "output_type": "execute_result"
    }
   ],
   "source": [
    "beta_0, beta_1 = sls_fit_pd(df,'sqft','price')\n",
    "beta_0, beta_1"
   ]
  },
  {
   "cell_type": "markdown",
   "metadata": {},
   "source": [
    "### Write a function to plot a regression line\n",
    "\n",
    "Your function should:\n",
    "- Accept a dataframe and the column names of predictor and target variables as arguments and return the model coefficients.\n",
    "- Calculate the predicted values $\\hat{y}$ given $x$ (using the function you wrote above)\n",
    "- Plot the original points\n",
    "- Plot the predicted points (in a different color)\n",
    "- Plot the regression line defined by the slope and intercept\n",
    "\n",
    "\n"
   ]
  },
  {
   "cell_type": "code",
   "execution_count": 9,
   "metadata": {},
   "outputs": [],
   "source": [
    "def regression_plot(df,x,y):\n",
    "    beta_0, beta_1 = sls_fit_pd(df, x, y)\n",
    "    x_values = np.linspace(df[x].min(), df[x].max(), 100)\n",
    "    y_values = beta_0 + beta_1*x_values\n",
    "\n",
    "    fig, ax = plt.subplots()\n",
    "    df.plot(x=x, y=y, kind='scatter', color='b', ax=ax)\n",
    "    ax.plot(x_values, y_values, 'r--', alpha=0.7, lw=2, label='regression line')\n",
    "    ax.legend()\n",
    "    return fig, ax"
   ]
  },
  {
   "cell_type": "code",
   "execution_count": 10,
   "metadata": {},
   "outputs": [
    {
     "data": {
      "image/png": "[encoded data removed]",
      "text/plain": [
       "<Figure size 432x288 with 1 Axes>"
      ]
     },
     "metadata": {
      "image/png": {
       "height": 280,
       "width": 409
      },
      "needs_background": "light"
     },
     "output_type": "display_data"
    }
   ],
   "source": [
    "fig, ax = regression_plot(df,'sqft','price')"
   ]
  },
  {
   "cell_type": "markdown",
   "metadata": {},
   "source": [
    "### Write a function to calculate the predicted values for the training data"
   ]
  },
  {
   "cell_type": "code",
   "execution_count": 11,
   "metadata": {},
   "outputs": [],
   "source": [
    "def make_predictions(df, x, y):\n",
    "    y_values = beta_0 + beta_1*df[x]\n",
    "    return y_values"
   ]
  },
  {
   "cell_type": "code",
   "execution_count": 12,
   "metadata": {},
   "outputs": [],
   "source": [
    "df['predictions'] = make_predictions(df,'sqft','price')"
   ]
  },
  {
   "cell_type": "markdown",
   "metadata": {},
   "source": [
    "### Write a function to calculate residuals\n",
    "\n",
    "Recall that the residuals are simply the error of the model:\n",
    "\n",
    "$$ \\text{residual}_i = y_i - \\hat{y}_i$$\n",
    "\n",
    "where $y_i$ is the true value of our target at this observation $i$, and $\\hat{y}_i$ is the predicted value of our target. "
   ]
  },
  {
   "cell_type": "code",
   "execution_count": 13,
   "metadata": {},
   "outputs": [],
   "source": [
    "def calculate_residuals(df, x, y):\n",
    "    residuals = df[y]-df[x]\n",
    "    return residuals"
   ]
  },
  {
   "cell_type": "code",
   "execution_count": 14,
   "metadata": {},
   "outputs": [],
   "source": [
    "df['residuals'] = calculate_residuals(df,'predictions','price')"
   ]
  },
  {
   "cell_type": "markdown",
   "metadata": {},
   "source": [
    "### Write a function to calculate the mean squared error (MSE)"
   ]
  },
  {
   "cell_type": "code",
   "execution_count": 15,
   "metadata": {},
   "outputs": [],
   "source": [
    "def mean_squared_error(residuals):\n",
    "    return np.mean(residuals**2)"
   ]
  },
  {
   "cell_type": "code",
   "execution_count": 16,
   "metadata": {},
   "outputs": [
    {
     "data": {
      "text/plain": [
       "4116.265480866084"
      ]
     },
     "execution_count": 16,
     "metadata": {},
     "output_type": "execute_result"
    }
   ],
   "source": [
    "mean_squared_error(df.residuals)"
   ]
  },
  {
   "cell_type": "code",
   "execution_count": 17,
   "metadata": {},
   "outputs": [
    {
     "data": {
      "text/plain": [
       "64.15812872010906"
      ]
     },
     "execution_count": 17,
     "metadata": {},
     "output_type": "execute_result"
    }
   ],
   "source": [
    "mean_squared_error(df.residuals)**0.5"
   ]
  },
  {
   "cell_type": "markdown",
   "metadata": {},
   "source": [
    "### Write a function to calculate $R^2$. Print out the $R^2$ of your model."
   ]
  },
  {
   "cell_type": "code",
   "execution_count": 18,
   "metadata": {},
   "outputs": [],
   "source": [
    "def calculate_r2(y, yhat):\n",
    "    ss_res = np.sum((y - yhat)**2)\n",
    "    ss_tot = np.sum((y-np.mean(y))**2)\n",
    "    r2 = 1-ss_res/ss_tot\n",
    "    return r2"
   ]
  },
  {
   "cell_type": "code",
   "execution_count": 19,
   "metadata": {},
   "outputs": [
    {
     "data": {
      "text/plain": [
       "0.7310037839755306"
      ]
     },
     "execution_count": 19,
     "metadata": {},
     "output_type": "execute_result"
    }
   ],
   "source": [
    "calculate_r2(df.price, df.predictions)"
   ]
  },
  {
   "cell_type": "code",
   "execution_count": 20,
   "metadata": {},
   "outputs": [
    {
     "data": {
      "text/plain": [
       "0.0"
      ]
     },
     "execution_count": 20,
     "metadata": {},
     "output_type": "execute_result"
    }
   ],
   "source": [
    "calculate_r2(df.price, df.price.mean())"
   ]
  },
  {
   "cell_type": "markdown",
   "metadata": {},
   "source": [
    "## From simple linear regression (SLR) to multiple linear regression (MLR)\n",
    "\n",
    "---\n",
    "\n",
    "\n",
    "> Instead of using just one predictor to estimate a continuous target, we build a model with multiple predictor variables. You will be using MLR way more than SLR going forward.\n",
    "\n",
    "These variables will be represented as columns in a matrix (often a pandas dataframe).\n",
    "\n",
    "**Brainstorm some examples of real-world scenarios where multiple predictors would be beneficial. Can you think of cases where it might be detrimental?**"
   ]
  },
  {
   "cell_type": "markdown",
   "metadata": {
    "collapsed": true
   },
   "source": [
    "> If Y is a function of multiple variables then it makes sense to expand the equation.  For example: predicting the weather tomorrow from pressure and temperature instead of just one of them.\n",
    "\n",
    "> MLR could be detrimental if the predictors we are including aren't relevant. Why include predictors in our formula that do not have a real impact: more on this later!"
   ]
  },
  {
   "cell_type": "markdown",
   "metadata": {},
   "source": [
    "## Assumptions of MLR\n",
    "\n",
    "---\n",
    "\n",
    "Like SLR, there are assumptions associated with MLR. Luckily, they're quite similar to the SLR assumptions.\n",
    "\n",
    "1. **Linearity:** $Y$ must have an approximately linear relationship with each independent $X_i$.\n",
    "2. **Independence:** Errors (residuals) $\\epsilon_i$ and $\\epsilon_j$ must be independent of one another for any $i \\ne j$.\n",
    "3. **Normality:** The errors (residuals) follow a Normal distribution.\n",
    "4. **Equality of Variances**: The errors (residuals) should have a roughly consistent pattern, regardless of the value of the $X_i$ predictors. (There should be no discernable relationship between the $X$ predictors and the residuals.)\n",
    "5. **Independence of Predictors**: The independent variables $X_i$ and $X_j$ must be independent of one another for any $i \\ne j$.\n",
    "\n",
    "The mnemonic LINEI is a useful way to remember these five assumptions."
   ]
  },
  {
   "cell_type": "markdown",
   "metadata": {},
   "source": [
    "## Fitting multiple linear regression\n",
    "\n",
    "---\n",
    "\n",
    "We extend the linear regression model by making predictions based on multiple predictors.\n",
    "Each of the predictors has its own beta coefficient:\n",
    "\n",
    "$$ \\hat{y} = \\beta_0 + \\beta_1 x_1 + \\beta_2 x_2 + ... + \\beta_n x_n $$\n",
    "\n",
    "Note that we could write the same relation as \n",
    "\n",
    "$$\n",
    "\\hat{y} = \\beta_0\\cdot 1 + \\beta_1 x_1 + \\beta_2 x_2 + ... + \\beta_n x_n\n",
    "$$\n",
    "\n",
    "We could write this in compact matrix notation as\n",
    "\n",
    "$$\\hat{y} = X\\beta$$\n",
    "\n",
    "The first column of $X$ then contains a 1 in each row.\n",
    "\n",
    "We will still determine the beta coefficients according to the ordinary least squared principle, i.e. by minimizing the sum of squared residuals.\n"
   ]
  },
  {
   "cell_type": "markdown",
   "metadata": {},
   "source": [
    "### Obtaining the $\\beta$ coefficients\n",
    "\n",
    "$\\beta$ is obtained with the linear algebra formula\n",
    "\n",
    "$$ \\beta = (X^T X)^{-1}X^T y $$\n",
    "\n",
    "where $X^T$ is the transposed matrix of the original matrix $X$ and $(X^T X)^{-1}$ is the inverse matrix of $X^T X$.\n",
    "\n",
    "Given the data matrix and the target variable, we can calculate the beta coefficients by forming a few dot-products."
   ]
  },
  {
   "cell_type": "markdown",
   "metadata": {},
   "source": [
    "### Code MLR\n",
    "\n",
    "**First, we need to create the \"design matrix\" of our predictors.**\n",
    "\n",
    "The first column will be a column of all 1s (the intercept) and the other columns will be `sqft`, `bdrms`, and `age`.\n",
    "\n",
    "This is easiest to do with pandas: add a column for the intercept first, then extract the matrix using `.values`."
   ]
  },
  {
   "cell_type": "code",
   "execution_count": 21,
   "metadata": {},
   "outputs": [
    {
     "data": {
      "text/html": [
       "<div>\n",
       "<style scoped>\n",
       "    .dataframe tbody tr th:only-of-type {\n",
       "        vertical-align: middle;\n",
       "    }\n",
       "\n",
       "    .dataframe tbody tr th {\n",
       "        vertical-align: top;\n",
       "    }\n",
       "\n",
       "    .dataframe thead th {\n",
       "        text-align: right;\n",
       "    }\n",
       "</style>\n",
       "<table border=\"1\" class=\"dataframe\">\n",
       "  <thead>\n",
       "    <tr style=\"text-align: right;\">\n",
       "      <th></th>\n",
       "      <th>sqft</th>\n",
       "      <th>bdrms</th>\n",
       "      <th>age</th>\n",
       "      <th>intercept</th>\n",
       "    </tr>\n",
       "  </thead>\n",
       "  <tbody>\n",
       "    <tr>\n",
       "      <th>0</th>\n",
       "      <td>2104</td>\n",
       "      <td>3</td>\n",
       "      <td>70</td>\n",
       "      <td>1.0</td>\n",
       "    </tr>\n",
       "    <tr>\n",
       "      <th>1</th>\n",
       "      <td>1600</td>\n",
       "      <td>3</td>\n",
       "      <td>28</td>\n",
       "      <td>1.0</td>\n",
       "    </tr>\n",
       "    <tr>\n",
       "      <th>2</th>\n",
       "      <td>2400</td>\n",
       "      <td>3</td>\n",
       "      <td>44</td>\n",
       "      <td>1.0</td>\n",
       "    </tr>\n",
       "    <tr>\n",
       "      <th>3</th>\n",
       "      <td>1416</td>\n",
       "      <td>2</td>\n",
       "      <td>49</td>\n",
       "      <td>1.0</td>\n",
       "    </tr>\n",
       "    <tr>\n",
       "      <th>4</th>\n",
       "      <td>3000</td>\n",
       "      <td>4</td>\n",
       "      <td>75</td>\n",
       "      <td>1.0</td>\n",
       "    </tr>\n",
       "  </tbody>\n",
       "</table>\n",
       "</div>"
      ],
      "text/plain": [
       "   sqft  bdrms  age  intercept\n",
       "0  2104      3   70        1.0\n",
       "1  1600      3   28        1.0\n",
       "2  2400      3   44        1.0\n",
       "3  1416      2   49        1.0\n",
       "4  3000      4   75        1.0"
      ]
     },
     "execution_count": 21,
     "metadata": {},
     "output_type": "execute_result"
    }
   ],
   "source": [
    "X = df[['sqft', 'bdrms', 'age']].copy()\n",
    "X['intercept'] = 1.\n",
    "y = df.price\n",
    "X.head()"
   ]
  },
  {
   "cell_type": "markdown",
   "metadata": {},
   "source": [
    "### Solve for the beta coefficients\n",
    "\n",
    "We are still predicting `price`. Implement the linear algebra equation to solve for the beta coefficients. \n",
    "\n",
    "$$ \\beta = (X^T X)^{-1}X^T y $$\n",
    "\n",
    "**Tips:**\n",
    "\n",
    "The transpose of a matrix is calculated by appending `.T` to the matrix:\n",
    "\n",
    "    X.T\n",
    "\n",
    "Matrix multiplication in the formula should be done with the \"dot product\":\n",
    "\n",
    "    np.dot(mat1, mat2)\n",
    "\n",
    "Inverting a matrix is done using:\n",
    "\n",
    "    np.linalg.inv()"
   ]
  },
  {
   "cell_type": "code",
   "execution_count": 22,
   "metadata": {},
   "outputs": [
    {
     "name": "stdout",
     "output_type": "stream",
     "text": [
      "[ 1.39334847e-01 -8.62147046e+00 -8.12178776e-02  9.24516278e+01]\n"
     ]
    }
   ],
   "source": [
    "beta_vec = np.dot(np.dot(np.linalg.inv(np.dot(X.T, X)), X.T), y)\n",
    "print(beta_vec)"
   ]
  },
  {
   "cell_type": "markdown",
   "metadata": {},
   "source": [
    "#### Calculate the predicted $\\hat{y}$ with your $X$ predictor matrix and $\\beta$ coefficients."
   ]
  },
  {
   "cell_type": "code",
   "execution_count": 24,
   "metadata": {},
   "outputs": [],
   "source": [
    "yhat = np.dot(X, beta_vec)"
   ]
  },
  {
   "cell_type": "markdown",
   "metadata": {},
   "source": [
    "#### Calculate the $R^2$ of the multiple regression model.\n",
    "\n",
    "Use the function from above."
   ]
  },
  {
   "cell_type": "code",
   "execution_count": 25,
   "metadata": {},
   "outputs": [
    {
     "name": "stdout",
     "output_type": "stream",
     "text": [
      "Multiple regression R^2: 0.7331639990690025\n"
     ]
    }
   ],
   "source": [
    "print('Multiple regression R^2:', calculate_r2(price, yhat))"
   ]
  },
  {
   "cell_type": "markdown",
   "metadata": {},
   "source": [
    "#### Check the distribution of the residuals"
   ]
  },
  {
   "cell_type": "code",
   "execution_count": 26,
   "metadata": {},
   "outputs": [
    {
     "data": {
      "image/png": "[encoded data removed]",
      "text/plain": [
       "<Figure size 432x288 with 1 Axes>"
      ]
     },
     "metadata": {
      "image/png": {
       "height": 261,
       "width": 393
      },
      "needs_background": "light"
     },
     "output_type": "display_data"
    }
   ],
   "source": [
    "(y-yhat).hist(bins=10);"
   ]
  },
  {
   "cell_type": "markdown",
   "metadata": {},
   "source": [
    "#### Check for relations between predictor values and residuals"
   ]
  },
  {
   "cell_type": "code",
   "execution_count": 27,
   "metadata": {
    "scrolled": true
   },
   "outputs": [
    {
     "data": {
      "image/png": "[encoded data removed]",
      "text/plain": [
       "<Figure size 864x288 with 3 Axes>"
      ]
     },
     "metadata": {
      "image/png": {
       "height": 280,
       "width": 754
      },
      "needs_background": "light"
     },
     "output_type": "display_data"
    }
   ],
   "source": [
    "fig, ax = plt.subplots(ncols=3,figsize=(12,4),sharey=True)\n",
    "for i, col in enumerate(X.columns[:3]):\n",
    "    ax[i].scatter(X[col],(y-yhat))\n",
    "    ax[i].set_xlabel(col)\n",
    "ax[0].set_ylabel('residual')\n",
    "plt.show()"
   ]
  },
  {
   "cell_type": "markdown",
   "metadata": {},
   "source": [
    "## Conclusions\n",
    "\n",
    "- With MLR we can fit more complex models\n",
    "- We can take more information into account\n",
    "    - by including more predictors\n",
    "    - by modeling more complicated relationships between target and predictor variables\n",
    "- We implemented the relevant formulas by hand\n",
    "- From now on we will rely on implementation in machine learning libraries"
   ]
  },
  {
   "cell_type": "code",
   "execution_count": null,
   "metadata": {},
   "outputs": [],
   "source": []
  }
 ],
 "metadata": {
  "kernelspec": {
   "display_name": "Python 3",
   "language": "python",
   "name": "python3"
  },
  "language_info": {
   "codemirror_mode": {
    "name": "ipython",
    "version": 3
   },
   "file_extension": ".py",
   "mimetype": "text/x-python",
   "name": "python",
   "nbconvert_exporter": "python",
   "pygments_lexer": "ipython3",
   "version": "3.8.3"
  },
  "toc": {
   "base_numbering": 1,
   "nav_menu": {},
   "number_sections": false,
   "sideBar": true,
   "skip_h1_title": true,
   "title_cell": "Lesson Guide",
   "title_sidebar": "Contents",
   "toc_cell": true,
   "toc_position": {},
   "toc_section_display": "block",
   "toc_window_display": false
  }
 },
 "nbformat": 4,
 "nbformat_minor": 2
}
