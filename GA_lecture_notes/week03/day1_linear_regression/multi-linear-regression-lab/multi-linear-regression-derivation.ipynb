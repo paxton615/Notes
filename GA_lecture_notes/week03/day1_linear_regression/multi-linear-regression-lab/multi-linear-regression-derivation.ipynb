{
 "cells": [
  {
   "cell_type": "markdown",
   "metadata": {},
   "source": [
    "### We want to minimize the residual sum of squares:\n",
    "\n",
    "$$RSS = \\sum_{i=1}^n(y_i-(\\beta_0+\\beta_1 X_{i1}+\\beta_2 X_{i2}+\\ldots+\\beta_p X_{ip}))^2 \n",
    "= \\sum_{i=1}^n\\left(y_i-\\sum_{j=1}^p X_{ij}\\beta_j\\right)^2 $$\n",
    "\n",
    "This can be read as\n",
    "\n",
    "$$RSS = \\sum_{i=1}^n \\epsilon_i^2 = \\epsilon^T \\epsilon = (y-X\\beta)^T(y-X\\beta)\n",
    "= y^T y - \\beta^T X^T y - y^T X \\beta + \\beta^T X^T X\\beta$$\n",
    "\n",
    "\n",
    "Since we want to minimize the RSS, we take the derivative with respect to $\\beta$:\n",
    "\n",
    "$$ \\frac{\\partial RSS}{\\partial \\beta} = \n",
    "-2X^Ty + 2X^T X\\beta$$\n",
    "\n",
    "Then we set this derivative equal to zero and solve for $\\beta$ (i.e. all its components):\n",
    "\n",
    "$$ \n",
    "\\begin{eqnarray*}\n",
    "0 &=& -2X^Ty + 2X^TX\\beta \\\\\n",
    "X^TX\\beta &=& X^Ty \\\\\n",
    "\\beta &=& (X^TX)^{-1}X^Ty\n",
    "\\end{eqnarray*}\n",
    "$$"
   ]
  }
 ],
 "metadata": {
  "kernelspec": {
   "display_name": "Python 3",
   "language": "python",
   "name": "python3"
  },
  "language_info": {
   "codemirror_mode": {
    "name": "ipython",
    "version": 3
   },
   "file_extension": ".py",
   "mimetype": "text/x-python",
   "name": "python",
   "nbconvert_exporter": "python",
   "pygments_lexer": "ipython3",
   "version": "3.7.4"
  },
  "toc": {
   "base_numbering": 1,
   "nav_menu": {},
   "number_sections": false,
   "sideBar": true,
   "skip_h1_title": false,
   "title_cell": "Table of Contents",
   "title_sidebar": "Contents",
   "toc_cell": false,
   "toc_position": {},
   "toc_section_display": true,
   "toc_window_display": false
  }
 },
 "nbformat": 4,
 "nbformat_minor": 2
}
