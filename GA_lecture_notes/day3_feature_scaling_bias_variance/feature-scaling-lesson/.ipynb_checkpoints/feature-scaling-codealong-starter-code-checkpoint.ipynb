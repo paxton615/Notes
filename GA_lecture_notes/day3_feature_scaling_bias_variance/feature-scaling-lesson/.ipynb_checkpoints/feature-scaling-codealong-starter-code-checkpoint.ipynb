{
 "cells": [
  {
   "cell_type": "markdown",
   "metadata": {},
   "source": [
    "<img src=\"http://imgur.com/1ZcRyrc.png\" style=\"float: left; margin: 20px; height: 55px\">\n",
    "\n",
    "# Feature Scaling\n",
    "\n",
    "---"
   ]
  },
  {
   "cell_type": "markdown",
   "metadata": {},
   "source": [
    "## Learning Objectives\n",
    "\n",
    "### Core\n",
    "- Explain the benefits of centering and scaling data\n",
    "- Identify situations where scaling data is beneficial\n",
    "- Scale data using python and sklearn\n",
    "- Understand the benefits of PolynomialFeatures\n",
    "\n",
    "### Target\n",
    "\n",
    "- Know when to use StandardScaler versus MinMaxScaler\n",
    "- Be comfortable with most of sklearn Preprocessors\n"
   ]
  },
  {
   "cell_type": "markdown",
   "metadata": {
    "toc": true
   },
   "source": [
    "<h1>Lesson Guide<span class=\"tocSkip\"></span></h1>\n",
    "<div class=\"toc\"><ul class=\"toc-item\"><li><span><a href=\"#Learning-Objectives\" data-toc-modified-id=\"Learning-Objectives-1\">Learning Objectives</a></span><ul class=\"toc-item\"><li><span><a href=\"#Core\" data-toc-modified-id=\"Core-1.1\">Core</a></span></li><li><span><a href=\"#Target\" data-toc-modified-id=\"Target-1.2\">Target</a></span></li></ul></li><li><span><a href=\"#Introduction-to-feature-scaling\" data-toc-modified-id=\"Introduction-to-feature-scaling-2\">Introduction to feature scaling</a></span></li><li><span><a href=\"#Why-should-we-scale-data?\" data-toc-modified-id=\"Why-should-we-scale-data?-3\">Why should we scale data?</a></span></li><li><span><a href=\"#Centering:-changing-the-location-of-data\" data-toc-modified-id=\"Centering:-changing-the-location-of-data-4\">Centering: changing the location of data</a></span><ul class=\"toc-item\"><li><span><a href=\"#Benefits-of-centering-data\" data-toc-modified-id=\"Benefits-of-centering-data-4.1\">Benefits of centering data</a></span></li><li><span><a href=\"#Centering-example:-baseball-player-height-and-weight\" data-toc-modified-id=\"Centering-example:-baseball-player-height-and-weight-4.2\">Centering example: baseball player height and weight</a></span><ul class=\"toc-item\"><li><span><a href=\"#Plot-the-distribution-of-the-heights-and-weights-below:\" data-toc-modified-id=\"Plot-the-distribution-of-the-heights-and-weights-below:-4.2.1\">Plot the distribution of the heights and weights below:</a></span></li><li><span><a href=\"#Construct-a-linear-regression-predicting-weight-from-height.-Interpret-the-value-of-the-intercept-and-the-coefficient-from-this-model.\" data-toc-modified-id=\"Construct-a-linear-regression-predicting-weight-from-height.-Interpret-the-value-of-the-intercept-and-the-coefficient-from-this-model.-4.2.2\">Construct a linear regression predicting weight from height. Interpret the value of the intercept and the coefficient from this model.</a></span></li><li><span><a href=\"#Center-the-height-variable-and-re-run-the-regression-with-the-centered-height.-Interpret-the-new-intercept-and-coefficient.\" data-toc-modified-id=\"Center-the-height-variable-and-re-run-the-regression-with-the-centered-height.-Interpret-the-new-intercept-and-coefficient.-4.2.3\">Center the height variable and re-run the regression with the centered height. Interpret the new intercept and coefficient.</a></span></li></ul></li></ul></li><li><span><a href=\"#Standardization\" data-toc-modified-id=\"Standardization-5\">Standardization</a></span><ul class=\"toc-item\"><li><span><a href=\"#Benefits-of-standardizing-data\" data-toc-modified-id=\"Benefits-of-standardizing-data-5.1\">Benefits of standardizing data</a></span></li><li><span><a href=\"#Standardization-example\" data-toc-modified-id=\"Standardization-example-5.2\">Standardization example</a></span><ul class=\"toc-item\"><li><span><a href=\"#Create-standardized-versions-of-the-height-and-weight-variables.\" data-toc-modified-id=\"Create-standardized-versions-of-the-height-and-weight-variables.-5.2.1\">Create standardized versions of the height and weight variables.</a></span></li><li><span><a href=\"#Plot-the-standardized-weight-against-the-height.-Notice-the-distribution-shapes-and-relationship-between-the-variables-is-unchanged.\" data-toc-modified-id=\"Plot-the-standardized-weight-against-the-height.-Notice-the-distribution-shapes-and-relationship-between-the-variables-is-unchanged.-5.2.2\">Plot the standardized weight against the height. Notice the distribution shapes and relationship between the variables is unchanged.</a></span></li></ul></li><li><span><a href=\"#Using-sklearn's-StandardScaler\" data-toc-modified-id=\"Using-sklearn's-StandardScaler-5.3\">Using sklearn's <code>StandardScaler</code></a></span><ul class=\"toc-item\"><li><span><a href=\"#Use-StandardScaler-to-standardize-a-predictor-matrix-containing-height-and-weight-from-the-baseball-data.\" data-toc-modified-id=\"Use-StandardScaler-to-standardize-a-predictor-matrix-containing-height-and-weight-from-the-baseball-data.-5.3.1\">Use <code>StandardScaler</code> to standardize a predictor matrix containing height and weight from the baseball data.</a></span></li><li><span><a href=\"#Build-a-linear-regression-predicting-age-from-the-standardized-height-and-weight-data.-Interpret-the-coefficients.\" data-toc-modified-id=\"Build-a-linear-regression-predicting-age-from-the-standardized-height-and-weight-data.-Interpret-the-coefficients.-5.3.2\">Build a linear regression predicting age from the standardized height and weight data. Interpret the coefficients.</a></span></li></ul></li></ul></li><li><span><a href=\"#Min-Max-Scaling\" data-toc-modified-id=\"Min-Max-Scaling-6\">Min-Max Scaling</a></span><ul class=\"toc-item\"><li><ul class=\"toc-item\"><li><span><a href=\"#Scale-the-age,-height,-and-weight-variables-using-MinMaxScaler.\" data-toc-modified-id=\"Scale-the-age,-height,-and-weight-variables-using-MinMaxScaler.-6.0.1\">Scale the age, height, and weight variables using <code>MinMaxScaler</code>.</a></span></li><li><span><a href=\"#Look-at-the-min-and-max-ranges-for-the-min-max-scaled-matrix.\" data-toc-modified-id=\"Look-at-the-min-and-max-ranges-for-the-min-max-scaled-matrix.-6.0.2\">Look at the min and max ranges for the min-max scaled matrix.</a></span></li><li><span><a href=\"#Plot-the-min-max-scaled-height-against-the-min-max-scaled-weight.\" data-toc-modified-id=\"Plot-the-min-max-scaled-height-against-the-min-max-scaled-weight.-6.0.3\">Plot the min-max scaled height against the min-max scaled weight.</a></span></li></ul></li><li><span><a href=\"#PolynomialFeatures\" data-toc-modified-id=\"PolynomialFeatures-6.1\">PolynomialFeatures</a></span></li></ul></li><li><span><a href=\"#Independent-practice:-scaling-the-wine-dataset\" data-toc-modified-id=\"Independent-practice:-scaling-the-wine-dataset-7\">Independent practice: scaling the wine dataset</a></span><ul class=\"toc-item\"><li><ul class=\"toc-item\"><li><span><a href=\"#1.-Load-and-examine-the-data.\" data-toc-modified-id=\"1.-Load-and-examine-the-data.-7.0.1\">1. Load and examine the data.</a></span></li><li><span><a href=\"#2.-Create-a-target-variable-for-wine-quality.\" data-toc-modified-id=\"2.-Create-a-target-variable-for-wine-quality.-7.0.2\">2. Create a target variable for wine quality.</a></span></li><li><span><a href=\"#3.-Create-a-predictor-matrix-with-variables-of-your-choice.\" data-toc-modified-id=\"3.-Create-a-predictor-matrix-with-variables-of-your-choice.-7.0.3\">3. Create a predictor matrix with variables of your choice.</a></span></li><li><span><a href=\"#4.-Create-a-standardized-and-min-max-scaled-version-of-your-predictor-matrix.-Additionally,-create-polynomial-features-with-degree-2.\" data-toc-modified-id=\"4.-Create-a-standardized-and-min-max-scaled-version-of-your-predictor-matrix.-Additionally,-create-polynomial-features-with-degree-2.-7.0.4\">4. Create a standardized and min-max scaled version of your predictor matrix. Additionally, create polynomial features with degree 2.</a></span></li><li><span><a href=\"#5.-Using-cross-validation,-calculate-the-average-$R^2$-score-for-wine-quality-using-the-original-predictors,-the-standardized-predictors,-the-min-max-scaled-predictors,-and-polynomial-features-of-degree-2.\" data-toc-modified-id=\"5.-Using-cross-validation,-calculate-the-average-$R^2$-score-for-wine-quality-using-the-original-predictors,-the-standardized-predictors,-the-min-max-scaled-predictors,-and-polynomial-features-of-degree-2.-7.0.5\">5. Using cross-validation, calculate the average $R^2$ score for wine quality using the original predictors, the standardized predictors, the min-max scaled predictors, and polynomial features of degree 2.</a></span></li></ul></li></ul></li><li><span><a href=\"#Additional-resources\" data-toc-modified-id=\"Additional-resources-8\">Additional resources</a></span></li></ul></div>"
   ]
  },
  {
   "cell_type": "code",
   "execution_count": 3,
   "metadata": {},
   "outputs": [],
   "source": [
    "import numpy as np\n",
    "import pandas as pd\n",
    "import scipy.stats as stats\n",
    "import seaborn as sns\n",
    "import matplotlib.pyplot as plt\n",
    "\n",
    "plt.style.use('fivethirtyeight')\n",
    "\n",
    "%config InlineBackend.figure_format = 'retina'\n",
    "%matplotlib inline\n",
    "\n",
    "import warnings\n",
    "warnings.simplefilter('ignore')"
   ]
  },
  {
   "cell_type": "markdown",
   "metadata": {},
   "source": [
    "## Introduction to feature scaling\n",
    "\n",
    "---\n",
    "\n",
    "Scaling data is the process of increasing or decreasing the magnitude according to a fixed ratio. In other words, you change the size but not the shape of the data (the shape of the distribution is unchanged).\n",
    "\n",
    "Some data scaling methods change the *location* of the data as well. For example, when \"centering\" we take a distribution and change its mean to be zero by subtracting the mean of the distribution from each data point in the distribution. While this is not technically \"scaling\", changing the location is often a component of the process and preserves the shape of the data (it just shifts it around).\n"
   ]
  },
  {
   "cell_type": "markdown",
   "metadata": {},
   "source": [
    "## Why should we scale data?\n",
    "\n",
    "---\n",
    "\n",
    "**There are a number of good reasons why we scale our data:**\n",
    "- Handle disparities in units\n",
    "- Reach better comparability of different variables \n",
    "- Cut computational expense\n",
    "- Improve model performance (especially machine learning)\n",
    "\n",
    "**It is rarely a bad idea to scale your data!** "
   ]
  },
  {
   "cell_type": "markdown",
   "metadata": {},
   "source": [
    "## Centering: changing the location of data\n",
    "\n",
    "---\n",
    "\n",
    "We can start with the simplest transformation example: centering. If we have a distribution of values $X$, then to center our data to a new distribution $X_c$:\n",
    "\n",
    "$$ X_c = X - \\bar{X} $$"
   ]
  },
  {
   "cell_type": "markdown",
   "metadata": {},
   "source": [
    "### Benefits of centering data\n",
    "\n",
    "The primary benefit of centering your predictor data in linear modeling is that **the intercept represents the estimate of the target when all predictors are at their mean value.**\n",
    "\n",
    "If we don't center, the intercept is the estimate of our model when all predictors are at value 0. It often makes the intercept much more interpretable when you center your predictors."
   ]
  },
  {
   "cell_type": "markdown",
   "metadata": {},
   "source": [
    "### Centering example: baseball player height and weight\n",
    "\n",
    "Load in the dataset on the heights, weights, and ages of baseball players."
   ]
  },
  {
   "cell_type": "code",
   "execution_count": 4,
   "metadata": {},
   "outputs": [
    {
     "data": {
      "text/plain": [
       "Index(['name', 'team', 'position', 'height_in', 'weight_lb', 'age'], dtype='object')"
      ]
     },
     "execution_count": 4,
     "metadata": {},
     "output_type": "execute_result"
    }
   ],
   "source": [
    "baseball = pd.read_csv('datasets/baseball_height_weight.csv')\n",
    "baseball.columns"
   ]
  },
  {
   "cell_type": "markdown",
   "metadata": {},
   "source": [
    "#### Plot the distribution of the heights and weights below:"
   ]
  },
  {
   "cell_type": "code",
   "execution_count": 5,
   "metadata": {},
   "outputs": [
    {
     "data": {
      "image/png": "[encoded data removed]",
      "text/plain": [
       "<Figure size 576x432 with 1 Axes>"
      ]
     },
     "metadata": {
      "image/png": {
       "height": 370,
       "width": 538
      },
      "needs_background": "light"
     },
     "output_type": "display_data"
    }
   ],
   "source": [
    "fig, ax = plt.subplots(figsize=(8,6))\n",
    "sns.distplot(baseball.height_in, bins=15, kde=False, ax=ax);"
   ]
  },
  {
   "cell_type": "code",
   "execution_count": 6,
   "metadata": {},
   "outputs": [
    {
     "data": {
      "image/png": "[encoded data removed]",
      "text/plain": [
       "<Figure size 576x432 with 1 Axes>"
      ]
     },
     "metadata": {
      "image/png": {
       "height": 370,
       "width": 538
      },
      "needs_background": "light"
     },
     "output_type": "display_data"
    }
   ],
   "source": [
    "fig, ax = plt.subplots(figsize=(8,6))\n",
    "sns.distplot(baseball.weight_lb, bins=15, kde=False, ax=ax);"
   ]
  },
  {
   "cell_type": "markdown",
   "metadata": {},
   "source": [
    "#### Construct a linear regression predicting weight from height. Interpret the value of the intercept and the coefficient from this model."
   ]
  },
  {
   "cell_type": "code",
   "execution_count": 7,
   "metadata": {},
   "outputs": [
    {
     "name": "stdout",
     "output_type": "stream",
     "text": [
      "Intercept: [-154.89318451]\n",
      "Height coef: [[4.83820825]]\n"
     ]
    }
   ],
   "source": [
    "from sklearn.linear_model import LinearRegression\n",
    "import patsy\n",
    "\n",
    "# remove the intercept patsy usually puts in as we are going to use sklearn.\n",
    "y, X = patsy.dmatrices('weight_lb ~ height_in -1', data=baseball, return_type='dataframe')\n",
    "\n",
    "linreg = LinearRegression()\n",
    "linreg.fit(X, y)\n",
    "print('Intercept:', linreg.intercept_)\n",
    "print('Height coef:', linreg.coef_)\n"
   ]
  },
  {
   "cell_type": "markdown",
   "metadata": {
    "collapsed": true
   },
   "source": [
    "> The intercept, -154, is the estimated weight of a baseball player when their height is 0 inches. The height coefficient 4.8 is how much higher a player's weight in pounds can be expected to be for each inch increase in height."
   ]
  },
  {
   "cell_type": "markdown",
   "metadata": {},
   "source": [
    "#### Center the height variable and re-run the regression with the centered height. Interpret the new intercept and coefficient."
   ]
  },
  {
   "cell_type": "code",
   "execution_count": 8,
   "metadata": {},
   "outputs": [
    {
     "name": "stdout",
     "output_type": "stream",
     "text": [
      "Intercept: [201.67151163]\n",
      "Height centered coef: [[4.83820825]]\n"
     ]
    }
   ],
   "source": [
    "baseball['height_ctr'] = baseball.height_in - baseball.height_in.mean()\n",
    "\n",
    "# remove the intercept patsy usually puts in since we are going to use sklearn.\n",
    "y, X = patsy.dmatrices('weight_lb ~ height_ctr -1', data=baseball, return_type='dataframe')\n",
    "\n",
    "linreg = LinearRegression()\n",
    "linreg.fit(X, y)\n",
    "print('Intercept:', linreg.intercept_)\n",
    "print('Height centered coef:', linreg.coef_)"
   ]
  },
  {
   "cell_type": "markdown",
   "metadata": {
    "collapsed": true
   },
   "source": [
    "> The intercept, 202, is the estimated weight of a baseball player of AVERAGE height (73.69 in). The height coefficient 4.8 is how much higher a player's weight in pounds can be expected to be for each inch increase in height. The centering does not have any effect on the coefficient."
   ]
  },
  {
   "cell_type": "markdown",
   "metadata": {},
   "source": [
    "## Standardization\n",
    "\n",
    "---\n",
    "\n",
    "The most common method of scaling is standardization. In standardization we first center the data, then we divide by the standard deviation to enforce that the standard deviation of the variable is one:\n",
    "\n",
    "$$ X_{std} = \\frac{X - \\bar{X}}{\\sigma_{X}} $$"
   ]
  },
  {
   "cell_type": "markdown",
   "metadata": {},
   "source": [
    "### Benefits of standardizing data\n",
    "\n",
    "There are many benefits to standardizing the data, especially when there is more than one predictor:\n",
    "- Intercepts are interpreted as the estimate when all predictors are at their mean value.\n",
    "- Coefficients are in units of standard deviations of the original predictors. This allows for direct comparison of the magnitude of impact between different predictors.\n",
    "- Optimization methods (minimizing loss functions) are faster and more stable.\n",
    "\n",
    "- Many machine learning models will require standardization as a preprocessing step.\n",
    " - It is required for regularization penalties where the magnitude of coefficients for different predictors must have the same meaning.\n",
    " - In K-Nearest Neighbors methods it is necessary if you want features to contribute equally since these models use the distance between observations calculated from the features.\n",
    " - K-means clustering is affected by the scale of the data and standardizing the features will prevent variables from dominating simply based on their scale.\n",
    " - In logistic regression, neural networks, and support vector machines unscaled data can result in a disproportionate effect of some data points over others.\n",
    "\n",
    "> **Note:** In ordinary linear regression centering and scaling your variables does *not* impact the amount of variance you can account for. This is because we are only moving and adjusting the magnitude of the distribution: the shape of the distribution does not change."
   ]
  },
  {
   "cell_type": "markdown",
   "metadata": {},
   "source": [
    "### Standardization example\n",
    "\n",
    "First, plot the original height variable against the weight variable. Use seaborn's `sns.jointplot`. "
   ]
  },
  {
   "cell_type": "code",
   "execution_count": 9,
   "metadata": {},
   "outputs": [
    {
     "data": {
      "image/png": "[encoded data removed]",
      "text/plain": [
       "<Figure size 432x432 with 3 Axes>"
      ]
     },
     "metadata": {
      "image/png": {
       "height": 423,
       "width": 427
      },
      "needs_background": "light"
     },
     "output_type": "display_data"
    }
   ],
   "source": [
    "sns.jointplot(baseball.height_in, baseball.weight_lb);"
   ]
  },
  {
   "cell_type": "markdown",
   "metadata": {},
   "source": [
    "#### Create standardized versions of the height and weight variables."
   ]
  },
  {
   "cell_type": "code",
   "execution_count": 10,
   "metadata": {},
   "outputs": [],
   "source": [
    "baseball['height_std'] = (baseball.height_in - baseball.height_in.mean()) / baseball.height_in.std()\n",
    "baseball['weight_std'] = (baseball.weight_lb - baseball.weight_lb.mean()) / baseball.weight_lb.std()"
   ]
  },
  {
   "cell_type": "markdown",
   "metadata": {},
   "source": [
    "#### Plot the standardized weight against the height. Notice the distribution shapes and relationship between the variables is unchanged."
   ]
  },
  {
   "cell_type": "code",
   "execution_count": 11,
   "metadata": {},
   "outputs": [
    {
     "data": {
      "image/png": "[encoded data removed]",
      "text/plain": [
       "<Figure size 432x432 with 3 Axes>"
      ]
     },
     "metadata": {
      "image/png": {
       "height": 423,
       "width": 423
      },
      "needs_background": "light"
     },
     "output_type": "display_data"
    }
   ],
   "source": [
    "sns.jointplot(baseball.height_std, baseball.weight_std);"
   ]
  },
  {
   "cell_type": "markdown",
   "metadata": {},
   "source": [
    "### Using sklearn's `StandardScaler`\n",
    "\n",
    "Sklearn comes packaged with a class `StandardScaler` that will perform the standardization on a matrix for you. \n",
    "\n",
    "Load the package with\n",
    "\n",
    "```python\n",
    "from sklearn.preprocessing import StandardScaler\n",
    "```\n",
    "\n",
    "Once instantiated, the standard scaler object has three primary methods built in:\n",
    "- `.fit(X)` will calculate the mean and standard deviations for each column of X\n",
    "- `.transform(X)` will take X and return a transformed version of X where each column is standardized according to their means and standard deviations (must have run `.fit()` first).\n",
    "- `.fit_transform(X)` combines the `.fit()` method and the `.transform()` method."
   ]
  },
  {
   "cell_type": "markdown",
   "metadata": {},
   "source": [
    "#### Use `StandardScaler` to standardize a predictor matrix containing height and weight from the baseball data."
   ]
  },
  {
   "cell_type": "code",
   "execution_count": 28,
   "metadata": {},
   "outputs": [
    {
     "data": {
      "text/html": [
       "<div>\n",
       "<style scoped>\n",
       "    .dataframe tbody tr th:only-of-type {\n",
       "        vertical-align: middle;\n",
       "    }\n",
       "\n",
       "    .dataframe tbody tr th {\n",
       "        vertical-align: top;\n",
       "    }\n",
       "\n",
       "    .dataframe thead th {\n",
       "        text-align: right;\n",
       "    }\n",
       "</style>\n",
       "<table border=\"1\" class=\"dataframe\">\n",
       "  <thead>\n",
       "    <tr style=\"text-align: right;\">\n",
       "      <th></th>\n",
       "      <th>name</th>\n",
       "      <th>team</th>\n",
       "      <th>position</th>\n",
       "      <th>height_in</th>\n",
       "      <th>weight_lb</th>\n",
       "      <th>age</th>\n",
       "      <th>height_ctr</th>\n",
       "      <th>height_std</th>\n",
       "      <th>weight_std</th>\n",
       "    </tr>\n",
       "  </thead>\n",
       "  <tbody>\n",
       "    <tr>\n",
       "      <th>0</th>\n",
       "      <td>Adam_Donachie</td>\n",
       "      <td>BAL</td>\n",
       "      <td>Catcher</td>\n",
       "      <td>74</td>\n",
       "      <td>180.0</td>\n",
       "      <td>22.99</td>\n",
       "      <td>0.302326</td>\n",
       "      <td>0.131042</td>\n",
       "      <td>-1.032276</td>\n",
       "    </tr>\n",
       "    <tr>\n",
       "      <th>1</th>\n",
       "      <td>Paul_Bako</td>\n",
       "      <td>BAL</td>\n",
       "      <td>Catcher</td>\n",
       "      <td>74</td>\n",
       "      <td>215.0</td>\n",
       "      <td>34.69</td>\n",
       "      <td>0.302326</td>\n",
       "      <td>0.131042</td>\n",
       "      <td>0.634874</td>\n",
       "    </tr>\n",
       "    <tr>\n",
       "      <th>2</th>\n",
       "      <td>Ramon_Hernandez</td>\n",
       "      <td>BAL</td>\n",
       "      <td>Catcher</td>\n",
       "      <td>72</td>\n",
       "      <td>210.0</td>\n",
       "      <td>30.78</td>\n",
       "      <td>-1.697674</td>\n",
       "      <td>-0.735850</td>\n",
       "      <td>0.396710</td>\n",
       "    </tr>\n",
       "    <tr>\n",
       "      <th>3</th>\n",
       "      <td>Kevin_Millar</td>\n",
       "      <td>BAL</td>\n",
       "      <td>First_Baseman</td>\n",
       "      <td>72</td>\n",
       "      <td>210.0</td>\n",
       "      <td>35.43</td>\n",
       "      <td>-1.697674</td>\n",
       "      <td>-0.735850</td>\n",
       "      <td>0.396710</td>\n",
       "    </tr>\n",
       "    <tr>\n",
       "      <th>4</th>\n",
       "      <td>Chris_Gomez</td>\n",
       "      <td>BAL</td>\n",
       "      <td>First_Baseman</td>\n",
       "      <td>73</td>\n",
       "      <td>188.0</td>\n",
       "      <td>35.71</td>\n",
       "      <td>-0.697674</td>\n",
       "      <td>-0.302404</td>\n",
       "      <td>-0.651213</td>\n",
       "    </tr>\n",
       "  </tbody>\n",
       "</table>\n",
       "</div>"
      ],
      "text/plain": [
       "              name team       position  height_in  weight_lb    age  \\\n",
       "0    Adam_Donachie  BAL        Catcher         74      180.0  22.99   \n",
       "1        Paul_Bako  BAL        Catcher         74      215.0  34.69   \n",
       "2  Ramon_Hernandez  BAL        Catcher         72      210.0  30.78   \n",
       "3     Kevin_Millar  BAL  First_Baseman         72      210.0  35.43   \n",
       "4      Chris_Gomez  BAL  First_Baseman         73      188.0  35.71   \n",
       "\n",
       "   height_ctr  height_std  weight_std  \n",
       "0    0.302326    0.131042   -1.032276  \n",
       "1    0.302326    0.131042    0.634874  \n",
       "2   -1.697674   -0.735850    0.396710  \n",
       "3   -1.697674   -0.735850    0.396710  \n",
       "4   -0.697674   -0.302404   -0.651213  "
      ]
     },
     "execution_count": 28,
     "metadata": {},
     "output_type": "execute_result"
    }
   ],
   "source": [
    "baseball.head()"
   ]
  },
  {
   "cell_type": "code",
   "execution_count": 13,
   "metadata": {},
   "outputs": [
    {
     "name": "stdout",
     "output_type": "stream",
     "text": [
      "Mean: 7.659678231909995e-16 Std: 0.9999999999999998\n"
     ]
    }
   ],
   "source": [
    "from sklearn.preprocessing import StandardScaler\n",
    "\n",
    "# initialize the Scaler\n",
    "scaler = StandardScaler()\n",
    "\n",
    "# Fit the data using the scaler (scale the data)\n",
    "Xstd = scaler.fit_transform(baseball[['height_in','weight_lb']])\n",
    "print('Mean:', Xstd.mean(), 'Std:', Xstd.std())"
   ]
  },
  {
   "cell_type": "markdown",
   "metadata": {},
   "source": [
    "#### Build a linear regression predicting age from the standardized height and weight data. Interpret the coefficients."
   ]
  },
  {
   "cell_type": "code",
   "execution_count": 14,
   "metadata": {},
   "outputs": [
    {
     "name": "stdout",
     "output_type": "stream",
     "text": [
      "Intercept: 28.73415697674419\n",
      "Coefs: [-0.95285142  1.18796454]\n"
     ]
    }
   ],
   "source": [
    "lr = LinearRegression()\n",
    "lr.fit(Xstd, baseball.age)\n",
    "\n",
    "print('Intercept:', lr.intercept_)\n",
    "print('Coefs:', lr.coef_)"
   ]
  },
  {
   "cell_type": "markdown",
   "metadata": {
    "collapsed": true
   },
   "source": [
    "> - A 1 standard deviation increase in height implies an age estimate reduced by -0.95 years.\n",
    "> - A 1 standard deviation increase in weight implies an age estimate increased by 1.18 years."
   ]
  },
  {
   "cell_type": "markdown",
   "metadata": {},
   "source": [
    "## Min-Max Scaling\n",
    "\n",
    "---\n",
    "\n",
    "This scaling limits a variable's value to lie between 0 and 1. Think of this as squishing the variable to be constrained to a specific range.\n",
    "\n",
    "$$ X_{\\rm minmax} = \\frac{X - {\\rm min}(X)}{{\\rm max}(X) - {\\rm min}(X)} $$\n",
    "\n",
    "\n",
    "Typically standardization is preferred to min-max scaling. However, it suffers in the case of extremely low standard deviations and min-max scaling might be a good choice."
   ]
  },
  {
   "cell_type": "markdown",
   "metadata": {},
   "source": [
    "Sklearn also has a class for min-max scaling called `MinMaxScaler`:\n",
    "\n",
    "```python\n",
    "from sklearn.preprocessing import MinMaxScaler\n",
    "```\n",
    "\n",
    "The `MinMaxScaler` has the same `fit()`, `transform()`, and `fit_transform()` methods."
   ]
  },
  {
   "cell_type": "markdown",
   "metadata": {},
   "source": [
    "#### Scale the age, height, and weight variables using `MinMaxScaler`."
   ]
  },
  {
   "cell_type": "code",
   "execution_count": 15,
   "metadata": {},
   "outputs": [],
   "source": [
    "from sklearn.preprocessing import MinMaxScaler\n",
    "\n",
    "X = baseball[['age','height_in','weight_lb']]\n",
    "\n",
    "mms = MinMaxScaler()\n",
    "Xn = mms.fit_transform(X)\n",
    "Xn = pd.DataFrame(Xn,columns=X.columns)"
   ]
  },
  {
   "cell_type": "markdown",
   "metadata": {},
   "source": [
    "#### Look at the min and max ranges for the min-max scaled matrix."
   ]
  },
  {
   "cell_type": "code",
   "execution_count": 16,
   "metadata": {},
   "outputs": [
    {
     "name": "stdout",
     "output_type": "stream",
     "text": [
      "age          0.0\n",
      "height_in    0.0\n",
      "weight_lb    0.0\n",
      "dtype: float64\n",
      "age          1.0\n",
      "height_in    1.0\n",
      "weight_lb    1.0\n",
      "dtype: float64\n"
     ]
    }
   ],
   "source": [
    "print(Xn.min(axis=0))\n",
    "print(Xn.max(axis=0))"
   ]
  },
  {
   "cell_type": "code",
   "execution_count": 17,
   "metadata": {},
   "outputs": [
    {
     "name": "stdout",
     "output_type": "stream",
     "text": [
      "age          0.156515\n",
      "height_in    0.144193\n",
      "weight_lb    0.149957\n",
      "dtype: float64\n"
     ]
    }
   ],
   "source": [
    "print(Xn.std(axis=0))"
   ]
  },
  {
   "cell_type": "markdown",
   "metadata": {},
   "source": [
    "#### Plot the min-max scaled height against the min-max scaled weight."
   ]
  },
  {
   "cell_type": "code",
   "execution_count": 18,
   "metadata": {},
   "outputs": [
    {
     "data": {
      "image/png": "[encoded data removed]",
      "text/plain": [
       "<Figure size 432x432 with 3 Axes>"
      ]
     },
     "metadata": {
      "image/png": {
       "height": 423,
       "width": 424
      },
      "needs_background": "light"
     },
     "output_type": "display_data"
    }
   ],
   "source": [
    "sns.jointplot(x='weight_lb',y='height_in',data=Xn);"
   ]
  },
  {
   "cell_type": "markdown",
   "metadata": {},
   "source": [
    "### PolynomialFeatures\n",
    "\n",
    "This preprocessor creates polynomial terms and, optionally, interaction terms from your input. By default it will also put an intercept (bias) term as well. This example shows a case without the intercept term.\n",
    "\n",
    "```python\n",
    "import numpy as np\n",
    "from sklearn.preprocessing import PolynomialFeatures\n",
    "\n",
    "data = np.array([1, 2, 3, 4, 5])\n",
    "pf = PolynomialFeatures(3, include_bias=False)\n",
    "pf.fit_transform(data.reshape(-1, 1))\n",
    "\n",
    "array([[   1.,    1.,    1.],\n",
    "       [   2.,    4.,    8.],\n",
    "       [   3.,    9.,   27.],\n",
    "       [   4.,   16.,   64.],\n",
    "       [   5.,   25.,  125.]])\n",
    "```"
   ]
  },
  {
   "cell_type": "code",
   "execution_count": 19,
   "metadata": {},
   "outputs": [],
   "source": [
    "from sklearn.preprocessing import PolynomialFeatures"
   ]
  },
  {
   "cell_type": "code",
   "execution_count": 20,
   "metadata": {},
   "outputs": [
    {
     "data": {
      "text/plain": [
       "array([[1.00000e+00, 7.40000e+01, 5.47600e+03, 4.05224e+05],\n",
       "       [1.00000e+00, 7.40000e+01, 5.47600e+03, 4.05224e+05],\n",
       "       [1.00000e+00, 7.20000e+01, 5.18400e+03, 3.73248e+05],\n",
       "       ...,\n",
       "       [1.00000e+00, 7.50000e+01, 5.62500e+03, 4.21875e+05],\n",
       "       [1.00000e+00, 7.50000e+01, 5.62500e+03, 4.21875e+05],\n",
       "       [1.00000e+00, 7.30000e+01, 5.32900e+03, 3.89017e+05]])"
      ]
     },
     "execution_count": 20,
     "metadata": {},
     "output_type": "execute_result"
    }
   ],
   "source": [
    "pf = PolynomialFeatures(degree=3, include_bias=True)\n",
    "pf.fit_transform(baseball[['height_in']])"
   ]
  },
  {
   "cell_type": "code",
   "execution_count": 21,
   "metadata": {},
   "outputs": [
    {
     "data": {
      "text/plain": [
       "array([[1.000000e+00, 7.400000e+01, 1.800000e+02, ..., 9.856800e+05,\n",
       "        2.397600e+06, 5.832000e+06],\n",
       "       [1.000000e+00, 7.400000e+01, 2.150000e+02, ..., 1.177340e+06,\n",
       "        3.420650e+06, 9.938375e+06],\n",
       "       [1.000000e+00, 7.200000e+01, 2.100000e+02, ..., 1.088640e+06,\n",
       "        3.175200e+06, 9.261000e+06],\n",
       "       ...,\n",
       "       [1.000000e+00, 7.500000e+01, 2.050000e+02, ..., 1.153125e+06,\n",
       "        3.151875e+06, 8.615125e+06],\n",
       "       [1.000000e+00, 7.500000e+01, 1.900000e+02, ..., 1.068750e+06,\n",
       "        2.707500e+06, 6.859000e+06],\n",
       "       [1.000000e+00, 7.300000e+01, 1.950000e+02, ..., 1.039155e+06,\n",
       "        2.775825e+06, 7.414875e+06]])"
      ]
     },
     "execution_count": 21,
     "metadata": {},
     "output_type": "execute_result"
    }
   ],
   "source": [
    "X_pf = pf.fit_transform(baseball[['height_in','weight_lb']])\n",
    "X_pf"
   ]
  },
  {
   "cell_type": "code",
   "execution_count": 22,
   "metadata": {},
   "outputs": [
    {
     "data": {
      "text/plain": [
       "array([1.00000e+00, 7.40000e+01, 1.80000e+02, 5.47600e+03, 1.33200e+04,\n",
       "       3.24000e+04, 4.05224e+05, 9.85680e+05, 2.39760e+06, 5.83200e+06])"
      ]
     },
     "execution_count": 22,
     "metadata": {},
     "output_type": "execute_result"
    }
   ],
   "source": [
    "# the first row of the transformed features\n",
    "X_pf[0]"
   ]
  },
  {
   "cell_type": "code",
   "execution_count": 23,
   "metadata": {},
   "outputs": [
    {
     "data": {
      "text/plain": [
       "[1.0,\n",
       " 74,\n",
       " 180.0,\n",
       " 5476,\n",
       " 13320.0,\n",
       " 32400.0,\n",
       " 405224,\n",
       " 985680.0,\n",
       " 2397600.0,\n",
       " 5832000.0]"
      ]
     },
     "execution_count": 23,
     "metadata": {},
     "output_type": "execute_result"
    }
   ],
   "source": [
    "# verifying what polynomial features does by reconstructing the first row\n",
    "[1.0,\n",
    " baseball.height_in[0],\n",
    " baseball.weight_lb[0],\n",
    " baseball.height_in[0]**2,\n",
    " baseball.height_in[0]*baseball.weight_lb[0],\n",
    " baseball.weight_lb[0]**2,\n",
    " baseball.height_in[0]**3,\n",
    " baseball.height_in[0]**2*baseball.weight_lb[0],\n",
    " baseball.height_in[0]*baseball.weight_lb[0]**2,\n",
    " baseball.weight_lb[0]**3]"
   ]
  },
  {
   "cell_type": "code",
   "execution_count": 24,
   "metadata": {},
   "outputs": [
    {
     "data": {
      "text/plain": [
       "array([[0, 0],\n",
       "       [1, 0],\n",
       "       [0, 1],\n",
       "       [2, 0],\n",
       "       [1, 1],\n",
       "       [0, 2],\n",
       "       [3, 0],\n",
       "       [2, 1],\n",
       "       [1, 2],\n",
       "       [0, 3]])"
      ]
     },
     "execution_count": 24,
     "metadata": {},
     "output_type": "execute_result"
    }
   ],
   "source": [
    "# See the powers of which predictor involved in which term \n",
    "pf.powers_"
   ]
  },
  {
   "cell_type": "code",
   "execution_count": 25,
   "metadata": {},
   "outputs": [
    {
     "data": {
      "text/plain": [
       "['1',\n",
       " 'x0',\n",
       " 'x1',\n",
       " 'x0^2',\n",
       " 'x0 x1',\n",
       " 'x1^2',\n",
       " 'x0^3',\n",
       " 'x0^2 x1',\n",
       " 'x0 x1^2',\n",
       " 'x1^3']"
      ]
     },
     "execution_count": 25,
     "metadata": {},
     "output_type": "execute_result"
    }
   ],
   "source": [
    "# display the feature names\n",
    "pf.get_feature_names()"
   ]
  },
  {
   "cell_type": "markdown",
   "metadata": {},
   "source": [
    "## Independent practice: scaling the wine dataset\n",
    "\n",
    "---\n",
    "\n",
    "Below you'll load in the wine quality dataset. This dataset contains a variety of features for different types/brands of wine. "
   ]
  },
  {
   "cell_type": "markdown",
   "metadata": {},
   "source": [
    "#### 1. Load and examine the data."
   ]
  },
  {
   "cell_type": "code",
   "execution_count": 26,
   "metadata": {},
   "outputs": [],
   "source": [
    "# 1. \n",
    "wine = pd.read_csv('../../../../resource-datasets/wine_data/winequality_merged.csv')"
   ]
  },
  {
   "cell_type": "code",
   "execution_count": 27,
   "metadata": {},
   "outputs": [
    {
     "data": {
      "text/html": [
       "<div>\n",
       "<style scoped>\n",
       "    .dataframe tbody tr th:only-of-type {\n",
       "        vertical-align: middle;\n",
       "    }\n",
       "\n",
       "    .dataframe tbody tr th {\n",
       "        vertical-align: top;\n",
       "    }\n",
       "\n",
       "    .dataframe thead th {\n",
       "        text-align: right;\n",
       "    }\n",
       "</style>\n",
       "<table border=\"1\" class=\"dataframe\">\n",
       "  <thead>\n",
       "    <tr style=\"text-align: right;\">\n",
       "      <th></th>\n",
       "      <th>fixed acidity</th>\n",
       "      <th>volatile acidity</th>\n",
       "      <th>citric acid</th>\n",
       "      <th>residual sugar</th>\n",
       "      <th>chlorides</th>\n",
       "      <th>free sulfur dioxide</th>\n",
       "      <th>total sulfur dioxide</th>\n",
       "      <th>density</th>\n",
       "      <th>pH</th>\n",
       "      <th>sulphates</th>\n",
       "      <th>alcohol</th>\n",
       "      <th>quality</th>\n",
       "      <th>red_wine</th>\n",
       "    </tr>\n",
       "  </thead>\n",
       "  <tbody>\n",
       "    <tr>\n",
       "      <th>0</th>\n",
       "      <td>7.4</td>\n",
       "      <td>0.70</td>\n",
       "      <td>0.00</td>\n",
       "      <td>1.9</td>\n",
       "      <td>0.076</td>\n",
       "      <td>11.0</td>\n",
       "      <td>34.0</td>\n",
       "      <td>0.9978</td>\n",
       "      <td>3.51</td>\n",
       "      <td>0.56</td>\n",
       "      <td>9.4</td>\n",
       "      <td>5</td>\n",
       "      <td>1</td>\n",
       "    </tr>\n",
       "    <tr>\n",
       "      <th>1</th>\n",
       "      <td>7.8</td>\n",
       "      <td>0.88</td>\n",
       "      <td>0.00</td>\n",
       "      <td>2.6</td>\n",
       "      <td>0.098</td>\n",
       "      <td>25.0</td>\n",
       "      <td>67.0</td>\n",
       "      <td>0.9968</td>\n",
       "      <td>3.20</td>\n",
       "      <td>0.68</td>\n",
       "      <td>9.8</td>\n",
       "      <td>5</td>\n",
       "      <td>1</td>\n",
       "    </tr>\n",
       "    <tr>\n",
       "      <th>2</th>\n",
       "      <td>7.8</td>\n",
       "      <td>0.76</td>\n",
       "      <td>0.04</td>\n",
       "      <td>2.3</td>\n",
       "      <td>0.092</td>\n",
       "      <td>15.0</td>\n",
       "      <td>54.0</td>\n",
       "      <td>0.9970</td>\n",
       "      <td>3.26</td>\n",
       "      <td>0.65</td>\n",
       "      <td>9.8</td>\n",
       "      <td>5</td>\n",
       "      <td>1</td>\n",
       "    </tr>\n",
       "    <tr>\n",
       "      <th>3</th>\n",
       "      <td>11.2</td>\n",
       "      <td>0.28</td>\n",
       "      <td>0.56</td>\n",
       "      <td>1.9</td>\n",
       "      <td>0.075</td>\n",
       "      <td>17.0</td>\n",
       "      <td>60.0</td>\n",
       "      <td>0.9980</td>\n",
       "      <td>3.16</td>\n",
       "      <td>0.58</td>\n",
       "      <td>9.8</td>\n",
       "      <td>6</td>\n",
       "      <td>1</td>\n",
       "    </tr>\n",
       "    <tr>\n",
       "      <th>4</th>\n",
       "      <td>7.4</td>\n",
       "      <td>0.70</td>\n",
       "      <td>0.00</td>\n",
       "      <td>1.9</td>\n",
       "      <td>0.076</td>\n",
       "      <td>11.0</td>\n",
       "      <td>34.0</td>\n",
       "      <td>0.9978</td>\n",
       "      <td>3.51</td>\n",
       "      <td>0.56</td>\n",
       "      <td>9.4</td>\n",
       "      <td>5</td>\n",
       "      <td>1</td>\n",
       "    </tr>\n",
       "  </tbody>\n",
       "</table>\n",
       "</div>"
      ],
      "text/plain": [
       "   fixed acidity  volatile acidity  citric acid  residual sugar  chlorides  \\\n",
       "0            7.4              0.70         0.00             1.9      0.076   \n",
       "1            7.8              0.88         0.00             2.6      0.098   \n",
       "2            7.8              0.76         0.04             2.3      0.092   \n",
       "3           11.2              0.28         0.56             1.9      0.075   \n",
       "4            7.4              0.70         0.00             1.9      0.076   \n",
       "\n",
       "   free sulfur dioxide  total sulfur dioxide  density    pH  sulphates  \\\n",
       "0                 11.0                  34.0   0.9978  3.51       0.56   \n",
       "1                 25.0                  67.0   0.9968  3.20       0.68   \n",
       "2                 15.0                  54.0   0.9970  3.26       0.65   \n",
       "3                 17.0                  60.0   0.9980  3.16       0.58   \n",
       "4                 11.0                  34.0   0.9978  3.51       0.56   \n",
       "\n",
       "   alcohol  quality  red_wine  \n",
       "0      9.4        5         1  \n",
       "1      9.8        5         1  \n",
       "2      9.8        5         1  \n",
       "3      9.8        6         1  \n",
       "4      9.4        5         1  "
      ]
     },
     "execution_count": 27,
     "metadata": {},
     "output_type": "execute_result"
    }
   ],
   "source": [
    "wine.head()"
   ]
  },
  {
   "cell_type": "code",
   "execution_count": null,
   "metadata": {},
   "outputs": [],
   "source": []
  },
  {
   "cell_type": "markdown",
   "metadata": {},
   "source": [
    "#### 2. Create a target variable for wine quality."
   ]
  },
  {
   "cell_type": "code",
   "execution_count": null,
   "metadata": {},
   "outputs": [],
   "source": []
  },
  {
   "cell_type": "markdown",
   "metadata": {},
   "source": [
    "#### 3. Create a predictor matrix with variables of your choice."
   ]
  },
  {
   "cell_type": "code",
   "execution_count": null,
   "metadata": {},
   "outputs": [],
   "source": []
  },
  {
   "cell_type": "markdown",
   "metadata": {},
   "source": [
    "#### 4. Create a standardized and min-max scaled version of your predictor matrix. Additionally, create polynomial features with degree 2."
   ]
  },
  {
   "cell_type": "code",
   "execution_count": null,
   "metadata": {},
   "outputs": [],
   "source": []
  },
  {
   "cell_type": "markdown",
   "metadata": {},
   "source": [
    "#### 5. Using cross-validation, calculate the average $R^2$ score for wine quality using the original predictors, the standardized predictors, the min-max scaled predictors, and polynomial features of degree 2."
   ]
  },
  {
   "cell_type": "code",
   "execution_count": null,
   "metadata": {},
   "outputs": [],
   "source": []
  },
  {
   "cell_type": "markdown",
   "metadata": {},
   "source": [
    "> **Note**: For standard linear regression standard scaling and min-max scaling don't have any effect. We will soon meet models where this is no longer the case."
   ]
  },
  {
   "cell_type": "markdown",
   "metadata": {},
   "source": [
    "<a id='resources'></a>\n",
    "\n",
    "## Additional resources\n",
    "\n",
    "---\n",
    "\n",
    "[About feature scaling and normalization.](http://sebastianraschka.com/Articles/2014_about_feature_scaling.html)"
   ]
  },
  {
   "cell_type": "code",
   "execution_count": null,
   "metadata": {},
   "outputs": [],
   "source": []
  },
  {
   "cell_type": "code",
   "execution_count": null,
   "metadata": {},
   "outputs": [],
   "source": []
  },
  {
   "cell_type": "code",
   "execution_count": null,
   "metadata": {},
   "outputs": [],
   "source": []
  },
  {
   "cell_type": "code",
   "execution_count": null,
   "metadata": {},
   "outputs": [],
   "source": []
  },
  {
   "cell_type": "code",
   "execution_count": null,
   "metadata": {},
   "outputs": [],
   "source": [
    "\n"
   ]
  }
 ],
 "metadata": {
  "anaconda-cloud": {},
  "kernelspec": {
   "display_name": "Python 3",
   "language": "python",
   "name": "python3"
  },
  "language_info": {
   "codemirror_mode": {
    "name": "ipython",
    "version": 3
   },
   "file_extension": ".py",
   "mimetype": "text/x-python",
   "name": "python",
   "nbconvert_exporter": "python",
   "pygments_lexer": "ipython3",
   "version": "3.7.3"
  },
  "toc": {
   "base_numbering": 1,
   "nav_menu": {},
   "number_sections": false,
   "sideBar": true,
   "skip_h1_title": true,
   "title_cell": "Lesson Guide",
   "title_sidebar": "Contents",
   "toc_cell": true,
   "toc_position": {},
   "toc_section_display": "block",
   "toc_window_display": false
  }
 },
 "nbformat": 4,
 "nbformat_minor": 1
}
