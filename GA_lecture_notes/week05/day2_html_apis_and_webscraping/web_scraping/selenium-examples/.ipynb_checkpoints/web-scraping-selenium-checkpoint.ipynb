{
 "cells": [
  {
   "cell_type": "markdown",
   "metadata": {},
   "source": [
    "<img src=\"http://imgur.com/1ZcRyrc.png\" style=\"float: left; margin: 20px; height: 55px\">\n",
    "\n",
    "# Web Scraping using Selenium\n",
    "\n",
    "---\n"
   ]
  },
  {
   "cell_type": "markdown",
   "metadata": {
    "toc": true
   },
   "source": [
    "<h1>Table of Contents<span class=\"tocSkip\"></span></h1>\n",
    "<div class=\"toc\"><ul class=\"toc-item\"><li><span><a href=\"#Installation\" data-toc-modified-id=\"Installation-1\">Installation</a></span></li><li><span><a href=\"#First-example:-Scroll-down!\" data-toc-modified-id=\"First-example:-Scroll-down!-2\">First example: Scroll down!</a></span></li><li><span><a href=\"#Second-example:-Click-for-more!\" data-toc-modified-id=\"Second-example:-Click-for-more!-3\">Second example: Click for more!</a></span></li></ul></div>"
   ]
  },
  {
   "cell_type": "markdown",
   "metadata": {},
   "source": [
    "## Installation\n",
    "\n",
    "There are a couple of installations you need to do to prepare for using Selenium:\n",
    "\n",
    "1. Install a webdriver. This is what Selenium uses to interact with the web browser.\n",
    "\n",
    "Go to: https://sites.google.com/a/chromium.org/chromedriver/downloads\n",
    "\n",
    "Download the correct version for your machine.\n",
    "\n",
    "2. Install Selenium. This is done using the `pip install selenium` command in the terminal."
   ]
  },
  {
   "cell_type": "code",
   "execution_count": 1,
   "metadata": {},
   "outputs": [],
   "source": [
    "#!pip install selenium"
   ]
  },
  {
   "cell_type": "code",
   "execution_count": 12,
   "metadata": {},
   "outputs": [],
   "source": [
    "import numpy as np\n",
    "import pandas as pd\n",
    "from selenium import webdriver\n",
    "from time import time, sleep"
   ]
  },
  {
   "cell_type": "markdown",
   "metadata": {},
   "source": [
    "## First example: Scroll down!"
   ]
  },
  {
   "cell_type": "code",
   "execution_count": 13,
   "metadata": {},
   "outputs": [],
   "source": [
    "driver = webdriver.Chrome(executable_path='./chromedriver')\n",
    "driver.get('https://www.next.co.uk/shop/gender-men/feat-newin')\n",
    "start = time()\n",
    "while time()-start<5:\n",
    "    driver.execute_script(\"window.scrollTo(0, document.body.scrollHeight);\")\n",
    "item_tags = driver.find_elements_by_class_name('Info')\n",
    "item_names = []\n",
    "item_prices = []\n",
    "for item in item_tags:\n",
    "    try:\n",
    "        item_names.append(item.find_element_by_class_name('Title').text)\n",
    "        item_prices.append(item.find_element_by_class_name('Price').text)\n",
    "    except:\n",
    "        pass\n",
    "items = pd.DataFrame({'Item': item_names,\n",
    "                        'Price': item_prices})"
   ]
  },
  {
   "cell_type": "code",
   "execution_count": 14,
   "metadata": {
    "scrolled": true
   },
   "outputs": [
    {
     "data": {
      "text/html": [
       "<div>\n",
       "<style scoped>\n",
       "    .dataframe tbody tr th:only-of-type {\n",
       "        vertical-align: middle;\n",
       "    }\n",
       "\n",
       "    .dataframe tbody tr th {\n",
       "        vertical-align: top;\n",
       "    }\n",
       "\n",
       "    .dataframe thead th {\n",
       "        text-align: right;\n",
       "    }\n",
       "</style>\n",
       "<table border=\"1\" class=\"dataframe\">\n",
       "  <thead>\n",
       "    <tr style=\"text-align: right;\">\n",
       "      <th></th>\n",
       "      <th>Item</th>\n",
       "      <th>Price</th>\n",
       "    </tr>\n",
       "  </thead>\n",
       "  <tbody>\n",
       "    <tr>\n",
       "      <th>0</th>\n",
       "      <td>Light Blue Vertical Stripe T-Shirt</td>\n",
       "      <td>£18</td>\n",
       "    </tr>\n",
       "    <tr>\n",
       "      <th>1</th>\n",
       "      <td>Turquoise Regular Fit Pique Polo</td>\n",
       "      <td>£18</td>\n",
       "    </tr>\n",
       "    <tr>\n",
       "      <th>2</th>\n",
       "      <td>Ginger Classic Chino Shorts</td>\n",
       "      <td>£16</td>\n",
       "    </tr>\n",
       "    <tr>\n",
       "      <th>3</th>\n",
       "      <td>Khaki Pique Polo</td>\n",
       "      <td>£18</td>\n",
       "    </tr>\n",
       "    <tr>\n",
       "      <th>4</th>\n",
       "      <td>Magenta Regular Fit Pique Polo</td>\n",
       "      <td>£18</td>\n",
       "    </tr>\n",
       "  </tbody>\n",
       "</table>\n",
       "</div>"
      ],
      "text/plain": [
       "                                 Item Price\n",
       "0  Light Blue Vertical Stripe T-Shirt   £18\n",
       "1    Turquoise Regular Fit Pique Polo   £18\n",
       "2         Ginger Classic Chino Shorts   £16\n",
       "3                    Khaki Pique Polo   £18\n",
       "4      Magenta Regular Fit Pique Polo   £18"
      ]
     },
     "execution_count": 14,
     "metadata": {},
     "output_type": "execute_result"
    }
   ],
   "source": [
    "items.head()"
   ]
  },
  {
   "cell_type": "code",
   "execution_count": 15,
   "metadata": {},
   "outputs": [
    {
     "name": "stdout",
     "output_type": "stream",
     "text": [
      "<class 'pandas.core.frame.DataFrame'>\n",
      "RangeIndex: 48 entries, 0 to 47\n",
      "Data columns (total 2 columns):\n",
      "Item     48 non-null object\n",
      "Price    48 non-null object\n",
      "dtypes: object(2)\n",
      "memory usage: 848.0+ bytes\n"
     ]
    }
   ],
   "source": [
    "items.info()"
   ]
  },
  {
   "cell_type": "code",
   "execution_count": 16,
   "metadata": {},
   "outputs": [
    {
     "data": {
      "text/plain": [
       "2"
      ]
     },
     "execution_count": 16,
     "metadata": {},
     "output_type": "execute_result"
    }
   ],
   "source": [
    "items.duplicated().sum()"
   ]
  },
  {
   "cell_type": "markdown",
   "metadata": {},
   "source": [
    "## Second example: Click for more!"
   ]
  },
  {
   "cell_type": "code",
   "execution_count": 19,
   "metadata": {},
   "outputs": [],
   "source": [
    "driver = webdriver.Chrome('./chromedriver')\n",
    "driver.get('https://www.edie.net/news/')\n",
    "\n",
    "start = time()\n",
    "while time()-start<2: continue\n",
    "\n",
    "for x in range(10):\n",
    "    driver.execute_script(\"window.scrollTo(0, document.body.scrollHeight);\")\n",
    "    button = driver.find_element_by_class_name('read-more')\n",
    "    button.click()\n",
    "    start = time()\n",
    "    while time()-start<3: continue\n",
    "\n",
    "article_tags = driver.find_elements_by_class_name('story')\n",
    "article_titles = []\n",
    "article_urls = []\n",
    "\n",
    "for article in article_tags:\n",
    "    try:\n",
    "        article_titles.append(article.find_element_by_tag_name('h2').text)\n",
    "    except:\n",
    "        article_titles.append(np.nan)\n",
    "    try:\n",
    "        article_urls.append(article.find_element_by_tag_name('a').get_attribute('href'))\n",
    "    except:\n",
    "        article_urls.append(np.nan)\n",
    "\n",
    "articles = pd.DataFrame({'Title': article_titles,\n",
    "                        'URL': article_urls})"
   ]
  },
  {
   "cell_type": "code",
   "execution_count": 20,
   "metadata": {},
   "outputs": [
    {
     "data": {
      "text/html": [
       "<div>\n",
       "<style scoped>\n",
       "    .dataframe tbody tr th:only-of-type {\n",
       "        vertical-align: middle;\n",
       "    }\n",
       "\n",
       "    .dataframe tbody tr th {\n",
       "        vertical-align: top;\n",
       "    }\n",
       "\n",
       "    .dataframe thead th {\n",
       "        text-align: right;\n",
       "    }\n",
       "</style>\n",
       "<table border=\"1\" class=\"dataframe\">\n",
       "  <thead>\n",
       "    <tr style=\"text-align: right;\">\n",
       "      <th></th>\n",
       "      <th>Title</th>\n",
       "      <th>URL</th>\n",
       "    </tr>\n",
       "  </thead>\n",
       "  <tbody>\n",
       "    <tr>\n",
       "      <th>0</th>\n",
       "      <td>How Burberry joined the business elite in sett...</td>\n",
       "      <td>NaN</td>\n",
       "    </tr>\n",
       "    <tr>\n",
       "      <th>1</th>\n",
       "      <td>Business giants commit to delivering net-zero ...</td>\n",
       "      <td>https://www.edie.net/news/9/Business-giants-co...</td>\n",
       "    </tr>\n",
       "    <tr>\n",
       "      <th>2</th>\n",
       "      <td>Earth Overshoot Day: What is the business case...</td>\n",
       "      <td>https://www.edie.net/news/12/Earth-Overshoot-D...</td>\n",
       "    </tr>\n",
       "    <tr>\n",
       "      <th>3</th>\n",
       "      <td>HSBC: Investment in sustainability becoming ma...</td>\n",
       "      <td>https://www.edie.net/news/7/HSBC--Investment-i...</td>\n",
       "    </tr>\n",
       "    <tr>\n",
       "      <th>4</th>\n",
       "      <td>Defra proposes personal water 'budgets'</td>\n",
       "      <td>https://www.edie.net/news/4/Defra-proposes-per...</td>\n",
       "    </tr>\n",
       "  </tbody>\n",
       "</table>\n",
       "</div>"
      ],
      "text/plain": [
       "                                               Title  \\\n",
       "0  How Burberry joined the business elite in sett...   \n",
       "1  Business giants commit to delivering net-zero ...   \n",
       "2  Earth Overshoot Day: What is the business case...   \n",
       "3  HSBC: Investment in sustainability becoming ma...   \n",
       "4            Defra proposes personal water 'budgets'   \n",
       "\n",
       "                                                 URL  \n",
       "0                                                NaN  \n",
       "1  https://www.edie.net/news/9/Business-giants-co...  \n",
       "2  https://www.edie.net/news/12/Earth-Overshoot-D...  \n",
       "3  https://www.edie.net/news/7/HSBC--Investment-i...  \n",
       "4  https://www.edie.net/news/4/Defra-proposes-per...  "
      ]
     },
     "execution_count": 20,
     "metadata": {},
     "output_type": "execute_result"
    }
   ],
   "source": [
    "articles.head()"
   ]
  },
  {
   "cell_type": "code",
   "execution_count": 21,
   "metadata": {},
   "outputs": [
    {
     "name": "stdout",
     "output_type": "stream",
     "text": [
      "<class 'pandas.core.frame.DataFrame'>\n",
      "RangeIndex: 108 entries, 0 to 107\n",
      "Data columns (total 2 columns):\n",
      "Title    108 non-null object\n",
      "URL      107 non-null object\n",
      "dtypes: object(2)\n",
      "memory usage: 1.8+ KB\n"
     ]
    }
   ],
   "source": [
    "articles.info()"
   ]
  },
  {
   "cell_type": "code",
   "execution_count": 22,
   "metadata": {},
   "outputs": [
    {
     "data": {
      "text/plain": [
       "0"
      ]
     },
     "execution_count": 22,
     "metadata": {},
     "output_type": "execute_result"
    }
   ],
   "source": [
    "articles.duplicated().sum()"
   ]
  }
 ],
 "metadata": {
  "kernelspec": {
   "display_name": "Python 3",
   "language": "python",
   "name": "python3"
  },
  "language_info": {
   "codemirror_mode": {
    "name": "ipython",
    "version": 3
   },
   "file_extension": ".py",
   "mimetype": "text/x-python",
   "name": "python",
   "nbconvert_exporter": "python",
   "pygments_lexer": "ipython3",
   "version": "3.7.3"
  },
  "toc": {
   "nav_menu": {},
   "number_sections": false,
   "sideBar": true,
   "skip_h1_title": true,
   "title_cell": "Table of Contents",
   "title_sidebar": "Contents",
   "toc_cell": true,
   "toc_position": {},
   "toc_section_display": true,
   "toc_window_display": false
  },
  "varInspector": {
   "cols": {
    "lenName": 16,
    "lenType": 16,
    "lenVar": 40
   },
   "kernels_config": {
    "python": {
     "delete_cmd_postfix": "",
     "delete_cmd_prefix": "del ",
     "library": "var_list.py",
     "varRefreshCmd": "print(var_dic_list())"
    },
    "r": {
     "delete_cmd_postfix": ") ",
     "delete_cmd_prefix": "rm(",
     "library": "var_list.r",
     "varRefreshCmd": "cat(var_dic_list()) "
    }
   },
   "types_to_exclude": [
    "module",
    "function",
    "builtin_function_or_method",
    "instance",
    "_Feature"
   ],
   "window_display": false
  }
 },
 "nbformat": 4,
 "nbformat_minor": 2
}
