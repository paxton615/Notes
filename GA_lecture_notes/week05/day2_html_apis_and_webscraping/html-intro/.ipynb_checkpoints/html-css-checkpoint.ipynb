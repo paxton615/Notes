{
 "cells": [
  {
   "cell_type": "markdown",
   "metadata": {
    "slideshow": {
     "slide_type": "slide"
    }
   },
   "source": [
    "<img src=\"http://imgur.com/1ZcRyrc.png\" style=\"float: left; margin: 20px; height: 55px\">\n",
    "\n",
    "# Introduction to HTML and CSS\n",
    "\n",
    "---\n",
    "\n",
    "<a id=\"learning-objectives\"></a>\n",
    "### Learning Objectives\n",
    "*After this lesson, you will be able to:*\n",
    "- Create a HTML document from scratch\n",
    "- Describe the most common HTML tags and their usage\n",
    "- Explain how CSS can be used to modify the display of HTML\n",
    "- Demonstrate how to access HTML elements using CSS\n",
    "\n",
    "\n",
    "#### Note: This lesson utilizes notebook features only available in Google Chrome.  It is recommended that you open this lesson in a Chrome window."
   ]
  },
  {
   "cell_type": "markdown",
   "metadata": {
    "slideshow": {
     "slide_type": "slide"
    }
   },
   "source": [
    "### Lesson Guide\n",
    "- [What is HTML?](#what-is-html)\n",
    "- [The basics of HTML](#the-basics-of-html)\n",
    "\t- [The basic HTML document structure](#the-basic-html-document-structure)\n",
    "\t- [The two types of tags](#the-two-types-of-tags)\n",
    "\t- [Some common tags](#some-common-tags)\n",
    "\t- [Nesting tags](#nesting-tags)\n",
    "    - [Where to find HTML](#find-html)\n",
    "\t- [Exercise](#exercise)\n",
    "- [Styling](#styling)\n",
    "\t- [Exercise](#exercise)\n",
    "- [Enter CSS](#enter-css)\n",
    "\t- [Example of a css sheet, e.g., theme.css](#example-of-a-css-sheet-eg-themecss)\n",
    "\t- [How to modify HTML elements with CSS](#how-to-modify-html-elements-with-css)\n",
    "\t- [Getting a little fancy with it...](#getting-a-little-fancy-with-it)\n",
    "\t- [Exercise](#exercise)\n",
    "- [Conclusion](#conclusion)\n",
    "\t- [Solution Code for CSS Challenge](#solution-code-for-css-challenge)\n",
    "- [Independent practice](#independent-practice)\n"
   ]
  },
  {
   "cell_type": "markdown",
   "metadata": {
    "slideshow": {
     "slide_type": "slide"
    }
   },
   "source": [
    "<a id=\"what-is-html\"></a>\n",
    "## What is HTML?\n",
    "---\n",
    "\n",
    "**Is it code?**\n",
    "\n",
    "No.\n",
    "\n",
    "It is a markup language.\n",
    "\n",
    ">The term markup is derived from the traditional publishing practice of \"marking up\" a manuscript, which involves adding handwritten annotations in the form of conventional symbolic printer's instructions in the margins and text of a paper manuscript or printed proof. For centuries, this task was done primarily by skilled typographers known as \"markup men\"[5] or \"copy markers\"[6] who marked up text to indicate what typeface, style, and size should be applied to each part, and then passed the manuscript to others for typesetting by hand. Markup was also commonly applied by editors, proofreaders, publishers, and graphic designers, and indeed by document authors."
   ]
  },
  {
   "cell_type": "markdown",
   "metadata": {
    "slideshow": {
     "slide_type": "slide"
    }
   },
   "source": [
    "**Why learn about HTML in a data science class?**\n",
    "\n",
    "- Building dashboards/frontends \n",
    "- Visualizations (D3) check out this website: http://www.r2d3.us/visual-intro-to-machine-learning-part-1/\n",
    "- Webscraping!"
   ]
  },
  {
   "cell_type": "markdown",
   "metadata": {},
   "source": [
    "**How does HTML work with CSS and JavaScript?**"
   ]
  },
  {
   "cell_type": "markdown",
   "metadata": {},
   "source": [
    "<img src=\"./assets/images/ninja.gif\" width=\"900\" height=\"500\">"
   ]
  },
  {
   "cell_type": "markdown",
   "metadata": {
    "slideshow": {
     "slide_type": "slide"
    }
   },
   "source": [
    "<a id=\"the-basics-of-html\"></a>\n",
    "## The basics of HTML\n",
    "---\n",
    "\n",
    "HTML is composed of \"tags\". These tags provide structure to the document and may (or may not depending on the tag) imply that content should be rendered by the browser in some manner specific to that tag."
   ]
  },
  {
   "cell_type": "markdown",
   "metadata": {
    "slideshow": {
     "slide_type": "slide"
    }
   },
   "source": [
    "<a id=\"the-basic-html-document-structure\"></a>\n",
    "### The basic HTML document structure\n",
    "\n",
    "<img src=\"./assets/images/html-structure.png\" width=\"600\" height=\"400\">"
   ]
  },
  {
   "cell_type": "markdown",
   "metadata": {
    "slideshow": {
     "slide_type": "slide"
    }
   },
   "source": [
    "<a id=\"the-two-types-of-tags\"></a>\n",
    "### The two types of tags\n",
    "\n",
    "<img src=\"./assets/images/two-tags.png\" width=\"600\" height=\"400\">"
   ]
  },
  {
   "cell_type": "markdown",
   "metadata": {
    "slideshow": {
     "slide_type": "slide"
    }
   },
   "source": [
    "<a id=\"some-common-tags\"></a>\n",
    "### Some common tags\n",
    "\n",
    "<img src=\"./assets/images/common-tags.png\" width=\"600\" height=\"400\">"
   ]
  },
  {
   "cell_type": "markdown",
   "metadata": {},
   "source": [
    "For most tags see here: https://www.w3schools.com/tags/"
   ]
  },
  {
   "cell_type": "markdown",
   "metadata": {
    "slideshow": {
     "slide_type": "slide"
    }
   },
   "source": [
    "<a id=\"nesting-tags\"></a>\n",
    "### Nesting tags\n",
    "\n",
    "<img src=\"./assets/images/nesting-tags.png\" width=\"300\" height=\"150\">"
   ]
  },
  {
   "cell_type": "markdown",
   "metadata": {},
   "source": [
    "<a id=\"find-html\"></a>\n",
    "### Where can you find HTML?\n",
    "---\n",
    "\n",
    "Go to https://generalassemb.ly in Google chrome. \n",
    "\n",
    "Right click anywhere on the page and select 'Inspect'.\n",
    "\n",
    "Let's have a look at the HTML that makes up the General Assembly website.\n",
    "\n",
    "You can do this on any website."
   ]
  },
  {
   "cell_type": "markdown",
   "metadata": {
    "slideshow": {
     "slide_type": "slide"
    }
   },
   "source": [
    "<a id=\"exercise\"></a>\n",
    "### Exercise \n",
    "\n",
    "Let's create an HTML page from scatch!\n",
    "\n",
    "Go to [https://codepen.io/pen](http://codepen.io/pen/)\n",
    "\n",
    "It should include the following tags:\n",
    "\n",
    "- html, head, title, body, h1, div, p and h4, ul, li\n",
    "\n",
    "If you are unsure how to use a tag use [https://www.w3schools.com/html/default.asp](https://www.w3schools.com/html/default.asp) as a reference\n",
    "\n",
    "*You can skip the doc type declaration since CodePen takes care of this for you.*\n",
    "\n",
    "Try to build a page like this:"
   ]
  },
  {
   "cell_type": "markdown",
   "metadata": {},
   "source": [
    "\n",
    "<img src=\"./assets/images/first_page.png\" width=\"700\" height=\"400\">"
   ]
  },
  {
   "cell_type": "markdown",
   "metadata": {},
   "source": [
    "Now that you've created the structure, let's think about styling."
   ]
  },
  {
   "cell_type": "markdown",
   "metadata": {
    "slideshow": {
     "slide_type": "slide"
    }
   },
   "source": [
    "<a id=\"styling\"></a>\n",
    "## Styling\n",
    "---\n",
    "\n",
    "Originally, the presentation of an HTML document was modified through inline style attributes.\n",
    "\n",
    "```HTML\n",
    "<p style=\"color: red\">This is red text!</p>\n",
    "```\n",
    "<p style=\"color: red\">This is red text!</p>\n",
    "\n",
    "```HTML\n",
    "<p style=\"font-size: 250%\">This is huge text!</p>\n",
    "```\n",
    "<p style=\"font-size: 250%; color:purple\">This is huge text!!!!</p>\n",
    "\n",
    "```HTML\n",
    "<p style=\"background-color: dodgerblue\">This has a blue background!</p>\n",
    "```\n",
    "<p style=\"background-color: dodgerblue\">This has a blue background!</p>\n"
   ]
  },
  {
   "cell_type": "markdown",
   "metadata": {
    "slideshow": {
     "slide_type": "slide"
    }
   },
   "source": [
    "But this meant that every single element had to be styled making it a very cumbersome and tedious task..."
   ]
  },
  {
   "cell_type": "markdown",
   "metadata": {
    "slideshow": {
     "slide_type": "slide"
    }
   },
   "source": [
    "<a id=\"enter-css\"></a>\n",
    "## Enter CSS\n",
    "---\n",
    "\n",
    "**The problem:** It was a nightmare to maintain styling on large HTML pages.\n",
    "\n",
    "**The solution:** CSS - Cascading Style Sheets\n",
    "\n",
    "CSS allows you to store all styling information in a separate document and selectively apply it to your HTML. CSS, or cascading style sheets, allow for a separation of concerns. The presentation is now independent of the content.\n",
    "\n",
    "```HTML\n",
    "<link rel=\"stylesheet\" type=\"text/css\" href=\"theme.css\">\n",
    "```\n",
    "\n",
    "This makes it much easier to change the style of the page and to apply it across an entire site."
   ]
  },
  {
   "cell_type": "markdown",
   "metadata": {
    "slideshow": {
     "slide_type": "slide"
    }
   },
   "source": [
    "<a id=\"example-of-a-css-sheet-eg-themecss\"></a>\n",
    "### Example of a css sheet, e.g., theme.css\n",
    "\n",
    "\n",
    "<br>\n",
    "\n",
    "```css\n",
    "body {\n",
    "    background-color: lightblue;\n",
    "}\n",
    "\n",
    "h1 {\n",
    "    color: navy;\n",
    "    margin-left: 20px;\n",
    "}\n",
    "```"
   ]
  },
  {
   "cell_type": "markdown",
   "metadata": {
    "slideshow": {
     "slide_type": "slide"
    }
   },
   "source": [
    "<a id=\"how-to-modify-html-elements-with-css\"></a>\n",
    "### How to modify HTML elements with CSS\n",
    "\n",
    "\n",
    "<br><br>\n",
    "**For tags:**\n",
    "\n",
    "```CSS\n",
    "p {\n",
    "  background: red;\n",
    "}\n",
    "```\n",
    "\n",
    "**For classes:**\n",
    "\n",
    "```CSS\n",
    ".my_class {\n",
    "  font-size: 21px;\n",
    "}\n",
    "```\n",
    "\n",
    "\n",
    "**For ids:**\n",
    "\n",
    "```CSS\n",
    "#some_id {\n",
    "  background: blue;\n",
    "  font-size: 21px;\n",
    "}\n",
    "```"
   ]
  },
  {
   "cell_type": "markdown",
   "metadata": {},
   "source": [
    "Each HTML tag can have an id and/or class.\n",
    "\n",
    "In this example, this paragraph has a unique id of `steak_1A` and belongs to the class `\"food menu\"`\n",
    "\n",
    "```HTML\n",
    "<p id=\"steak_1A\" class=\"food menu\">\n",
    "    Flat Iron Steak with Chips\n",
    "</p>\n",
    "```\n"
   ]
  },
  {
   "cell_type": "markdown",
   "metadata": {
    "slideshow": {
     "slide_type": "slide"
    }
   },
   "source": [
    "<a id=\"getting-a-little-fancy-with-it\"></a>\n",
    "### Getting a little fancy with it...\n",
    "\n",
    "Select only the last li tag:\n",
    "\n",
    "```CSS\n",
    "li:last-child {\n",
    "  background: blue;\n",
    "}\n",
    "```\n",
    "\n",
    "Select only links that contain \"https\":\n",
    "\n",
    "```CSS\n",
    "a[href*=\"https\"] {\n",
    "  font-size: 14;\n",
    "}\n",
    "```\n",
    "\n",
    "Select only p elements where the parent is a div:\n",
    "```CSS\n",
    "div > p {\n",
    "  font-size: 21px;\n",
    "}\n",
    "```"
   ]
  },
  {
   "cell_type": "markdown",
   "metadata": {
    "slideshow": {
     "slide_type": "slide"
    }
   },
   "source": [
    "<a id=\"exercise\"></a>\n",
    "### Exercise\n",
    "\n",
    "\n",
    "Paste in the following HTML to CodePen.\n",
    "\n",
    "```HTML\n",
    "<html>\n",
    "<head>\n",
    "  <title>This is my HTML page</title>\n",
    "</head>\n",
    "<body>\n",
    "  <div>\n",
    "    <p class=\"getfancy\">This is the first content!</p>\n",
    "    <p>This is more content!</p>\n",
    "    <p>Don't forget this</p>\n",
    "  </div>\n",
    "  <div id=\"cooldiv\" class=\"getfancy\">\n",
    "    <p class=\"shrinker\">this right here</p>\n",
    "    <ul>\n",
    "      <li>hello from list item 1</li>\n",
    "      <li class=\"shrinker\">hello from list item 2</li>\n",
    "      <li>hello from list item 3</li>\n",
    "    </ul>\n",
    "  </div>\n",
    "  <p>hello from an orphan p</p>\n",
    "  <a href=\"http://www.cool-link1.com\">link1</a>\n",
    "  <a href=\"http://www.cool-link2.com\">link2</a>\n",
    "</body>\n",
    "</html>\n",
    "```"
   ]
  },
  {
   "cell_type": "markdown",
   "metadata": {
    "slideshow": {
     "slide_type": "slide"
    }
   },
   "source": [
    "Add the following styling:\n",
    "- Set `shrinker` class font-size to 50%\n",
    "- Make the background on \"`cooldiv`\" blue and font size 25px\n",
    "- Make the font-style italic where the class is \"`getfancy`\"\n",
    "- If a link contains a \"2\", make the background red\n",
    "- Make the paragraph that has the body tag as its parent have a font size that is 150% of the normal size and underlined\n",
    "\n",
    "\n",
    "You can use the following to help find the selectors and the style attributes:<br>\n",
    "CSS Reference:\n",
    "[http://www.w3schools.com/cssref/default.asp](http://www.w3schools.com/cssref/default.asp)<br>\n",
    "Understanding Precedence in CSS:\n",
    "[http://vanseodesign.com/css/css-specificity-inheritance-cascaade/](http://vanseodesign.com/css/css-specificity-inheritance-cascaade/)"
   ]
  },
  {
   "cell_type": "markdown",
   "metadata": {},
   "source": [
    "Does it look like this?\n",
    "\n",
    "\n",
    "<img src=\"./assets/images/css-solution.png\" width=\"300\" height=\"400\">"
   ]
  },
  {
   "cell_type": "markdown",
   "metadata": {
    "slideshow": {
     "slide_type": "slide"
    }
   },
   "source": [
    "<a id=\"conclusion\"></a>\n",
    "## Conclusion\n",
    "---\n",
    "\n",
    "In this mini-lesson, we learned the basics about HTML and CSS. All of this will help, when we begin our lesson on webscraping."
   ]
  },
  {
   "cell_type": "markdown",
   "metadata": {
    "slideshow": {
     "slide_type": "slide"
    }
   },
   "source": [
    "<a id=\"independent-practice\"></a>\n",
    "## Independent practice\n",
    "\n",
    "Some practice if you want to brush up on HTML and CSS in your own time.\n",
    "\n",
    "Work through the HTML exercises [here](https://www.w3schools.com/html/exercise.asp)\n",
    "and/or\n",
    "the CSS exercises [here](https://www.w3schools.com/css/css_exercises.asp)\n",
    "\n",
    "**Bonus**:\n",
    "Take a look at some of the possiblities for creating with CSS: [Top Codepens](http://codepen.io/2015/popular/pens/)"
   ]
  }
 ],
 "metadata": {
  "anaconda-cloud": {},
  "celltoolbar": "Raw Cell Format",
  "kernelspec": {
   "display_name": "Python 3",
   "language": "python",
   "name": "python3"
  },
  "language_info": {
   "codemirror_mode": {
    "name": "ipython",
    "version": 3
   },
   "file_extension": ".py",
   "mimetype": "text/x-python",
   "name": "python",
   "nbconvert_exporter": "python",
   "pygments_lexer": "ipython3",
   "version": "3.7.3"
  },
  "toc": {
   "nav_menu": {},
   "number_sections": false,
   "sideBar": true,
   "skip_h1_title": false,
   "title_cell": "Table of Contents",
   "title_sidebar": "Contents",
   "toc_cell": false,
   "toc_position": {},
   "toc_section_display": true,
   "toc_window_display": false
  },
  "varInspector": {
   "cols": {
    "lenName": 16,
    "lenType": 16,
    "lenVar": 40
   },
   "kernels_config": {
    "python": {
     "delete_cmd_postfix": "",
     "delete_cmd_prefix": "del ",
     "library": "var_list.py",
     "varRefreshCmd": "print(var_dic_list())"
    },
    "r": {
     "delete_cmd_postfix": ") ",
     "delete_cmd_prefix": "rm(",
     "library": "var_list.r",
     "varRefreshCmd": "cat(var_dic_list()) "
    }
   },
   "types_to_exclude": [
    "module",
    "function",
    "builtin_function_or_method",
    "instance",
    "_Feature"
   ],
   "window_display": false
  }
 },
 "nbformat": 4,
 "nbformat_minor": 1
}
