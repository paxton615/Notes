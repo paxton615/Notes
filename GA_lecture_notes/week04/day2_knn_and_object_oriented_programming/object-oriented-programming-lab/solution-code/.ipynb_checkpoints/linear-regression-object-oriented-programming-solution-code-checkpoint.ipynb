{
 "cells": [
  {
   "cell_type": "markdown",
   "metadata": {},
   "source": [
    "<img src=\"http://imgur.com/1ZcRyrc.png\" style=\"float: left; margin: 20px; height: 55px\">\n",
    "\n",
    "# Object Oriented Programming: Coding a Linear Regression Class\n",
    "\n",
    "\n",
    "---"
   ]
  },
  {
   "cell_type": "markdown",
   "metadata": {},
   "source": [
    "## Learning Objectives\n",
    "\n",
    "### Core\n",
    "- Apply object oriented programming concepts to build a linear regression class by hand:\n",
    "  - Starting a basic python class\n",
    "  - Adding a class function\n",
    "  - Assigning attributes during instantiation\n",
    "  - Add a function to add an intercept to the X matrix if necessary\n",
    "  - Instantiate the class\n",
    "  - Add the predict function\n",
    "  - Add a score function\n",
    "- Verify your class against the sklearn LinearRegression implementation.\n",
    "\n",
    "### Target\n",
    "- How to inspect a class\n",
    "- Go through some special class methods"
   ]
  },
  {
   "cell_type": "markdown",
   "metadata": {},
   "source": [
    "### Lesson Guide\n",
    "- [Review the linear algebra derivation of coefficients for MLR](#review-mlr)\n",
    "- [Load the simple housing data](#load-data)\n",
    "- [Classes and objects](#classes-objects)\n",
    "- [Coding our own `LinearRegression` class](#coding-lr)\n",
    "    - [Starting a basic python class](#starting-class)\n",
    "    - [Adding a class function](#class-function)\n",
    "    - [Assigning attributes during instantiation](#init-args)\n",
    "    - [Add another function to add an intercept](#intercept-adder)\n",
    "    - [Instantiate the class](#instantiate)\n",
    "    - [Add a predict function](#predict)\n",
    "    - [Add a score function](#score)\n",
    "- [Verify your class against the sklearn implementation](#verify)\n",
    "- [Inspecting a class](#inspection)\n",
    "- [Some special class methods](#special)"
   ]
  },
  {
   "cell_type": "markdown",
   "metadata": {},
   "source": [
    "## Review: solving for the coefficients that minimize the loss\n",
    "\n",
    "---"
   ]
  },
  {
   "cell_type": "markdown",
   "metadata": {},
   "source": [
    "### The \"least squares\" solution to linear regression\n",
    "\n",
    "**Step 1:** With target vector $y$ and prediction matrix $X$, we can formulate a regression as:\n",
    "\n",
    "$$ y = X \\beta  + \\epsilon $$\n",
    "\n",
    "where $\\beta$ is our vector of coefficients and $\\epsilon$ is our vector of residuals.\n",
    "\n",
    "**Step 2:** We can equivalently formulate this as a calculation of the residuals:\n",
    "\n",
    "$$ \\epsilon = y - X \\beta $$\n",
    "\n",
    "*Our goal is to minimize the sum of squared residuals.* This is also known as the \"least squares loss function\". \n",
    "\n",
    "**Step 3:** Solve for the sum of squared residuals on the left hand side of the equation. Recall the vector of errors are equivalent to the residuals. The sum of squared residuals is represented as the dot product of the vector of residuals.\n",
    "\n",
    "$$ \\sum_{i=1}^n \\epsilon_i^2 = \n",
    "\\left[\\begin{array}{cc}\n",
    "\\epsilon_1 \\cdots \\epsilon_n\n",
    "\\end{array}\\right] \n",
    "\\left[\\begin{array}{cc}\n",
    "\\epsilon_1 \\\\ \\cdots \\\\ \\epsilon_n\n",
    "\\end{array}\\right] = \\epsilon^T \\epsilon\n",
    "$$\n",
    "\n",
    "Therefore we can write the sum of squared residuals as:\n",
    "\n",
    "$$ \\epsilon^T \\epsilon = (y-X \\beta)^T (y-X \\beta) $$\n",
    "\n",
    "Which becomes:\n",
    "\n",
    "$$ \\epsilon^T \\epsilon = y^Ty - y^TX\\beta - \\beta^T X^T y + \\beta^T X^T X \\beta $$\n",
    "\n",
    "**Step 4:** We want to find the coefficients where the loss function will be minimal. In this case we can use calculus, taking the derivative with respect to the $\\beta$ vector:\n",
    "\n",
    "$$ \\frac{\\partial \\epsilon^T \\epsilon}{\\partial \\beta} = \n",
    "-2X^Ty + 2X^TX\\beta$$\n",
    "\n",
    "\n",
    "Since want to minimize loss function and the loss function is convex, we set the derivative to zero and solve for the beta coefficient vector:\n",
    "\n",
    "$$ 0 = -2X^T y + 2X^T X\\beta \\\\\n",
    "X^T X\\beta = X^Ty \\\\\n",
    "\\beta = (X^T X)^{-1}X^T y$$"
   ]
  },
  {
   "cell_type": "code",
   "execution_count": 1,
   "metadata": {},
   "outputs": [],
   "source": [
    "import pandas as pd\n",
    "import numpy as np\n",
    "import matplotlib\n",
    "import matplotlib.pyplot as plt\n",
    "import seaborn as sns\n",
    "\n",
    "sns.set(font_scale=1.5)\n",
    "%config InlineBackend.figure_format = 'retina'\n",
    "%matplotlib inline"
   ]
  },
  {
   "cell_type": "markdown",
   "metadata": {},
   "source": [
    "## Load the simple housing data\n",
    "\n",
    "---\n",
    "\n",
    "This dataset only has 4 columns. We can formulate simple regression problems with it to test our linear regression class down the line."
   ]
  },
  {
   "cell_type": "code",
   "execution_count": 2,
   "metadata": {},
   "outputs": [],
   "source": [
    "house = pd.read_csv('../../../../../resource-datasets/housing_data/housing-data.csv')"
   ]
  },
  {
   "cell_type": "code",
   "execution_count": 3,
   "metadata": {},
   "outputs": [
    {
     "data": {
      "text/html": [
       "<div>\n",
       "<style scoped>\n",
       "    .dataframe tbody tr th:only-of-type {\n",
       "        vertical-align: middle;\n",
       "    }\n",
       "\n",
       "    .dataframe tbody tr th {\n",
       "        vertical-align: top;\n",
       "    }\n",
       "\n",
       "    .dataframe thead th {\n",
       "        text-align: right;\n",
       "    }\n",
       "</style>\n",
       "<table border=\"1\" class=\"dataframe\">\n",
       "  <thead>\n",
       "    <tr style=\"text-align: right;\">\n",
       "      <th></th>\n",
       "      <th>sqft</th>\n",
       "      <th>bdrms</th>\n",
       "      <th>age</th>\n",
       "      <th>price</th>\n",
       "    </tr>\n",
       "  </thead>\n",
       "  <tbody>\n",
       "    <tr>\n",
       "      <th>0</th>\n",
       "      <td>2104</td>\n",
       "      <td>3</td>\n",
       "      <td>70</td>\n",
       "      <td>399900</td>\n",
       "    </tr>\n",
       "    <tr>\n",
       "      <th>1</th>\n",
       "      <td>1600</td>\n",
       "      <td>3</td>\n",
       "      <td>28</td>\n",
       "      <td>329900</td>\n",
       "    </tr>\n",
       "    <tr>\n",
       "      <th>2</th>\n",
       "      <td>2400</td>\n",
       "      <td>3</td>\n",
       "      <td>44</td>\n",
       "      <td>369000</td>\n",
       "    </tr>\n",
       "    <tr>\n",
       "      <th>3</th>\n",
       "      <td>1416</td>\n",
       "      <td>2</td>\n",
       "      <td>49</td>\n",
       "      <td>232000</td>\n",
       "    </tr>\n",
       "    <tr>\n",
       "      <th>4</th>\n",
       "      <td>3000</td>\n",
       "      <td>4</td>\n",
       "      <td>75</td>\n",
       "      <td>539900</td>\n",
       "    </tr>\n",
       "  </tbody>\n",
       "</table>\n",
       "</div>"
      ],
      "text/plain": [
       "   sqft  bdrms  age   price\n",
       "0  2104      3   70  399900\n",
       "1  1600      3   28  329900\n",
       "2  2400      3   44  369000\n",
       "3  1416      2   49  232000\n",
       "4  3000      4   75  539900"
      ]
     },
     "execution_count": 3,
     "metadata": {},
     "output_type": "execute_result"
    }
   ],
   "source": [
    "house.head()"
   ]
  },
  {
   "cell_type": "code",
   "execution_count": 4,
   "metadata": {},
   "outputs": [
    {
     "data": {
      "text/plain": [
       "(47, 4)"
      ]
     },
     "execution_count": 4,
     "metadata": {},
     "output_type": "execute_result"
    }
   ],
   "source": [
    "house.shape"
   ]
  },
  {
   "cell_type": "markdown",
   "metadata": {},
   "source": [
    "## Classes and objects\n",
    "\n",
    "---\n",
    "\n",
    "In python, everything is an \"object\" of some type. This is the basis of what is known as **Object Oriented Programming (OOP)**.\n",
    "\n",
    "A *class* is a type of object. You can think of a class definition as a sort of \"blueprint\" that specifies the construction of a new object when instantiated.\n",
    "\n",
    "> **Note:** Knowing how to define and use classes is essential to programming python at an intermediate or advanced level. I will cover the basics here, which will help you understand how things like `LinearRegression` in sklearn work.\n"
   ]
  },
  {
   "cell_type": "markdown",
   "metadata": {},
   "source": [
    "## Coding our own version of the sklearn `LinearRegression` class\n",
    "\n",
    "---\n",
    "\n",
    "By now you are familiar with the `LinearRegression` class in sklearn. We will walk through the re-creation of this class (albeit a simplified version)."
   ]
  },
  {
   "cell_type": "markdown",
   "metadata": {},
   "source": [
    "### 1. Starting a basic python class\n",
    "\n",
    "Below is the beginning of our class blueprint:"
   ]
  },
  {
   "cell_type": "code",
   "execution_count": 5,
   "metadata": {},
   "outputs": [],
   "source": [
    "class SimpleLinearRegression:\n",
    "    \n",
    "    def __init__(self):\n",
    "        self.coef_ = None\n",
    "        self.intercept_ = None"
   ]
  },
  {
   "cell_type": "markdown",
   "metadata": {},
   "source": [
    "What are the components of this?\n",
    "\n",
    "**`class`**\n",
    "\n",
    "- The `class` is like `def`, but instead of defining a function it defines a class.\n",
    "\n",
    "**`def __init__(self)`**\n",
    "\n",
    "- The `def __init__(self):` is our class' initialization function. This function is called when you instantiate the class by typing `SimpleLinearRegression()`\n",
    "\n",
    "**`self`**\n",
    "\n",
    "- `self` is the first argument to class definitions. It is a variable that refers to the **current instantiation of the class**. What does this mean? When you instantiate a class and assign it to a variable with `slr = SimpleLinearRegression()`, the `self` argument is now a reference to the current instantiation of the class `slr`. Now, when you use a function that is part of the class, it knows to use that specific object's function. This lets you have multiple instantiations of a class with the same function name.\n",
    "\n",
    "**class attributes**\n",
    "\n",
    "- `self.coef_` and `self.intercept_`, likewise, are \"attributes\" (variables) that are connected to the instantiation of the class. When self becomes `slr`, for example, the `self` becomes `slr` and `self.coef_` becomes `slr.coef`"
   ]
  },
  {
   "cell_type": "markdown",
   "metadata": {},
   "source": [
    "---"
   ]
  },
  {
   "cell_type": "markdown",
   "metadata": {},
   "source": [
    "### 2. Adding a class function\n",
    "\n",
    "Now, just like with `__init__`, we can add functions to the class.\n",
    "\n",
    "**Let's add a `fit()` method that will calculate the coefficients for a linear regression.**\n",
    "- The function should have arguments `self`, `X` and `y`.\n",
    "- Use the linear algebra equations above to calculate the coefficients and intercept.\n",
    "- Assign the coefficients to `self.coef_` and the intercept to `self.intercept_`."
   ]
  },
  {
   "cell_type": "code",
   "execution_count": 6,
   "metadata": {},
   "outputs": [],
   "source": [
    "class SimpleLinearRegression:\n",
    "    \n",
    "    def __init__(self):\n",
    "        self.coef_ = None\n",
    "        self.intercept_ = None\n",
    "        \n",
    "    def fit(self, X, y):\n",
    "        # betas formula\n",
    "        # betas = (X^T X)^-1 X^T Y\n",
    "        \n",
    "        XtX = np.dot(X.T, X)\n",
    "        XtX_inv = np.linalg.inv(XtX)\n",
    "        XtX_inv_Xt = np.dot(XtX_inv, X.T)\n",
    "        self.coef_ = np.dot(XtX_inv_Xt, y)"
   ]
  },
  {
   "cell_type": "markdown",
   "metadata": {},
   "source": [
    "Notice how we assigned `self.coef_` inside of the `fit()` function.\n",
    "\n",
    "This will set the class attribute `self.coef_`, and this attribute can be accessed by _any other function in the class without passing it as an argument!_\n",
    "\n",
    "It can also be accessed by you after instantiating the class."
   ]
  },
  {
   "cell_type": "markdown",
   "metadata": {},
   "source": [
    "---"
   ]
  },
  {
   "cell_type": "markdown",
   "metadata": {},
   "source": [
    "### 3. Assigning attributes during instantiation\n",
    "\n",
    "There is an issue here - we may pass an `X` matrix in without an intercept. \n",
    "\n",
    "**Add a keyword argument to the `__init__` function which will specify whether the `X` matrix should have an intercept added or not.**"
   ]
  },
  {
   "cell_type": "code",
   "execution_count": 7,
   "metadata": {},
   "outputs": [],
   "source": [
    "class SimpleLinearRegression:\n",
    "    \n",
    "    def __init__(self, fit_intercept=True):\n",
    "        self.coef_ = None\n",
    "        self.intercept_ = None\n",
    "        self.fit_intercept = fit_intercept\n",
    "        \n",
    "    def fit(self, X, y):\n",
    "        # betas formula\n",
    "        # betas = (X'X)^-1 X'Y\n",
    "        \n",
    "        XtX = np.dot(X.T, X)\n",
    "        XtX_inv = np.linalg.inv(XtX)\n",
    "        XtX_inv_Xt = np.dot(XtX_inv, X.T)\n",
    "        self.coef_ = np.dot(XtX_inv_Xt, y)\n",
    "        "
   ]
  },
  {
   "cell_type": "markdown",
   "metadata": {},
   "source": [
    "**Now, if we instantiate the class, it will assign `fit_intercept` to the class attribute `fit_intercept`. Try it out:**"
   ]
  },
  {
   "cell_type": "code",
   "execution_count": 8,
   "metadata": {},
   "outputs": [
    {
     "data": {
      "text/plain": [
       "True"
      ]
     },
     "execution_count": 8,
     "metadata": {},
     "output_type": "execute_result"
    }
   ],
   "source": [
    "slr = SimpleLinearRegression(fit_intercept=True)\n",
    "slr.fit_intercept"
   ]
  },
  {
   "cell_type": "code",
   "execution_count": 9,
   "metadata": {},
   "outputs": [
    {
     "data": {
      "text/plain": [
       "False"
      ]
     },
     "execution_count": 9,
     "metadata": {},
     "output_type": "execute_result"
    }
   ],
   "source": [
    "slr = SimpleLinearRegression(fit_intercept=False)\n",
    "slr.fit_intercept"
   ]
  },
  {
   "cell_type": "markdown",
   "metadata": {},
   "source": [
    "---"
   ]
  },
  {
   "cell_type": "markdown",
   "metadata": {},
   "source": [
    "### 4. Add a function to add an intercept to the `X` matrix if necessary\n",
    "\n",
    "This function will be called from inside the `fit` function and run conditional on the value of `self.fit_intercept`."
   ]
  },
  {
   "cell_type": "code",
   "execution_count": 10,
   "metadata": {},
   "outputs": [],
   "source": [
    "class SimpleLinearRegression:\n",
    "    \n",
    "    def __init__(self, fit_intercept=True):\n",
    "        self.coef_ = None\n",
    "        self.intercept_ = None\n",
    "        self.fit_intercept = fit_intercept\n",
    "        \n",
    "    def add_intercept(self, X):\n",
    "        intercept = np.ones((X.shape[0], 1))\n",
    "        X = np.concatenate([intercept, X], axis=1)\n",
    "        return X\n",
    "        \n",
    "    def fit(self, X, y):\n",
    "        \n",
    "        if self.fit_intercept:\n",
    "            X = self.add_intercept(X)\n",
    "        \n",
    "        # betas formula\n",
    "        # betas = (X'X)^-1 X'Y\n",
    "        \n",
    "        XtX = np.dot(X.T, X)\n",
    "        XtX_inv = np.linalg.inv(XtX)\n",
    "        XtX_inv_Xt = np.dot(XtX_inv, X.T)\n",
    "        betas = np.dot(XtX_inv_Xt, y)\n",
    "        \n",
    "        self.coef_ = betas[1:]\n",
    "        self.intercept_ = betas[0]"
   ]
  },
  {
   "cell_type": "markdown",
   "metadata": {},
   "source": [
    "---"
   ]
  },
  {
   "cell_type": "markdown",
   "metadata": {},
   "source": [
    "### 5. Instantiate the class\n",
    "\n",
    "At this point we can try out our class. \n",
    "\n",
    "**Instantiate the class and try out the coefficient fitting function on the housing data.**"
   ]
  },
  {
   "cell_type": "code",
   "execution_count": 11,
   "metadata": {},
   "outputs": [],
   "source": [
    "y = house.price.values\n",
    "X = house[['sqft','bdrms','age']].values"
   ]
  },
  {
   "cell_type": "code",
   "execution_count": 12,
   "metadata": {},
   "outputs": [
    {
     "name": "stdout",
     "output_type": "stream",
     "text": [
      "True\n",
      "None\n",
      "None\n"
     ]
    }
   ],
   "source": [
    "slr = SimpleLinearRegression(fit_intercept=True)\n",
    "print(slr.fit_intercept)\n",
    "print(slr.coef_)\n",
    "print(slr.intercept_)"
   ]
  },
  {
   "cell_type": "code",
   "execution_count": 13,
   "metadata": {},
   "outputs": [],
   "source": [
    "slr.fit(X, y)"
   ]
  },
  {
   "cell_type": "code",
   "execution_count": 14,
   "metadata": {},
   "outputs": [
    {
     "name": "stdout",
     "output_type": "stream",
     "text": [
      "[  139.33484671 -8621.47045953   -81.21787764]\n",
      "92451.62784164713\n"
     ]
    }
   ],
   "source": [
    "print(slr.coef_)\n",
    "print(slr.intercept_)"
   ]
  },
  {
   "cell_type": "markdown",
   "metadata": {},
   "source": [
    "Like in the sklearn `LinearRegression` class, we now have access to the assigned `coef_` and `intercept_` attributes after fitting the model."
   ]
  },
  {
   "cell_type": "markdown",
   "metadata": {},
   "source": [
    "---"
   ]
  },
  {
   "cell_type": "markdown",
   "metadata": {},
   "source": [
    "### 6. Add the `predict` function.\n",
    "\n",
    "Let's add some more of the class methods that are in the real `LinearRegression` class.\n",
    "\n",
    "**First, add the `predict` function. It will take a design matrix `X` and return predictions for those rows.**"
   ]
  },
  {
   "cell_type": "code",
   "execution_count": 15,
   "metadata": {},
   "outputs": [],
   "source": [
    "class SimpleLinearRegression:\n",
    "    \n",
    "    def __init__(self, fit_intercept=True):\n",
    "        self.coef_ = None\n",
    "        self.intercept_ = None\n",
    "        self.fit_intercept = fit_intercept\n",
    "        \n",
    "    def add_intercept(self, X):\n",
    "        intercept = np.ones((X.shape[0], 1))\n",
    "        X = np.concatenate([intercept, X], axis=1)\n",
    "        return X\n",
    "        \n",
    "    def fit(self, X, y):\n",
    "        \n",
    "        if self.fit_intercept:\n",
    "            X = self.add_intercept(X)\n",
    "        \n",
    "        # betas formula\n",
    "        # betas = (X'X)^-1 X'Y\n",
    "        \n",
    "        XtX = np.dot(X.T, X)\n",
    "        XtX_inv = np.linalg.inv(XtX)\n",
    "        XtX_inv_Xt = np.dot(XtX_inv, X.T)\n",
    "        betas = np.dot(XtX_inv_Xt, y)\n",
    "        \n",
    "        self.coef_ = betas[1:]\n",
    "        self.intercept_ = betas[0]\n",
    "        \n",
    "    def predict(self, X):\n",
    "        if self.fit_intercept:\n",
    "            X = self.add_intercept(X)\n",
    "            \n",
    "        return np.dot(X, np.concatenate([[self.intercept_], self.coef_]))"
   ]
  },
  {
   "cell_type": "markdown",
   "metadata": {},
   "source": [
    "**Test out the predict function.**"
   ]
  },
  {
   "cell_type": "code",
   "execution_count": 16,
   "metadata": {},
   "outputs": [],
   "source": [
    "slr = SimpleLinearRegression(fit_intercept=True)\n",
    "slr.fit(X,y)\n",
    "y_hat = slr.predict(X)"
   ]
  },
  {
   "cell_type": "code",
   "execution_count": 17,
   "metadata": {},
   "outputs": [
    {
     "name": "stdout",
     "output_type": "stream",
     "text": [
      "(47,) (47,)\n"
     ]
    }
   ],
   "source": [
    "print(y.shape, y_hat.shape)"
   ]
  },
  {
   "cell_type": "markdown",
   "metadata": {},
   "source": [
    "---"
   ]
  },
  {
   "cell_type": "markdown",
   "metadata": {},
   "source": [
    "### 7. Add a `score` function\n",
    "\n",
    "This will calculate the $R^2$ of your model on a provided `X` and `y`.\n",
    "\n",
    "> **Note:** You'll probably want to write a helper function to calculate the sum of squared errors, since this will be run for both the baseline model and the regression model in order to calculate the $R^2$."
   ]
  },
  {
   "cell_type": "code",
   "execution_count": 18,
   "metadata": {},
   "outputs": [],
   "source": [
    "class SimpleLinearRegression:\n",
    "    \n",
    "    def __init__(self, fit_intercept=True):\n",
    "        self.coef_ = None\n",
    "        self.intercept_ = None\n",
    "        self.fit_intercept = fit_intercept\n",
    "        \n",
    "    def add_intercept(self, X):\n",
    "        intercept = np.ones((X.shape[0], 1))\n",
    "        X = np.concatenate([intercept, X], axis=1)\n",
    "        return X\n",
    "        \n",
    "    def fit(self, X, y):\n",
    "        \n",
    "        if self.fit_intercept:\n",
    "            X = self.add_intercept(X)\n",
    "        \n",
    "        # betas formula\n",
    "        # betas = (X'X)^-1 X'Y\n",
    "        \n",
    "        XtX = np.dot(X.T, X)\n",
    "        XtX_inv = np.linalg.inv(XtX)\n",
    "        XtX_inv_Xt = np.dot(XtX_inv, X.T)\n",
    "        betas = np.dot(XtX_inv_Xt, y)\n",
    "        \n",
    "        self.coef_ = betas[1:]\n",
    "        self.intercept_ = betas[0]\n",
    "        \n",
    "    def predict(self, X):\n",
    "        if self.fit_intercept:\n",
    "            X = self.add_intercept(X)\n",
    "            \n",
    "        return np.dot(X, np.concatenate([[self.intercept_], self.coef_]))\n",
    "    \n",
    "    def _calculate_sse(self, y_true, y_hat):\n",
    "        return np.sum((y_true - y_hat)**2)\n",
    "        \n",
    "    def _calculate_r2(self, sse_model, sse_baseline):\n",
    "        return 1. - float(sse_model)/sse_baseline\n",
    "    \n",
    "    def score(self, X, y):\n",
    "            \n",
    "        baseline_sse = self._calculate_sse(y, np.tile(np.mean(y), len(y)))\n",
    "        \n",
    "        y_hat = self.predict(X)\n",
    "        model_sse = self._calculate_sse(y, y_hat)\n",
    "        \n",
    "        return self._calculate_r2(model_sse, baseline_sse)\n",
    "          "
   ]
  },
  {
   "cell_type": "code",
   "execution_count": 19,
   "metadata": {},
   "outputs": [
    {
     "name": "stdout",
     "output_type": "stream",
     "text": [
      "0.7331639990690024\n"
     ]
    }
   ],
   "source": [
    "slr = SimpleLinearRegression(fit_intercept=True)\n",
    "slr.fit(X,y)\n",
    "r2 = slr.score(X, y)\n",
    "print(r2)"
   ]
  },
  {
   "cell_type": "markdown",
   "metadata": {},
   "source": [
    "### Verify your class against the sklearn `LinearRegression` implementation.\n",
    "\n",
    "---\n",
    "\n",
    "Our class should return the same results for the $R^2$"
   ]
  },
  {
   "cell_type": "code",
   "execution_count": 20,
   "metadata": {},
   "outputs": [],
   "source": [
    "from sklearn.linear_model import LinearRegression"
   ]
  },
  {
   "cell_type": "code",
   "execution_count": 21,
   "metadata": {},
   "outputs": [
    {
     "data": {
      "text/plain": [
       "0.7331639990690024"
      ]
     },
     "execution_count": 21,
     "metadata": {},
     "output_type": "execute_result"
    }
   ],
   "source": [
    "lr = LinearRegression()\n",
    "lr.fit(X,y)\n",
    "lr.score(X,y)"
   ]
  },
  {
   "cell_type": "markdown",
   "metadata": {},
   "source": [
    "### Inspecting a class\n",
    "\n",
    "---\n",
    "\n",
    "When we want to know more about a class object, we can use the \"inspect\" module. Specifically the `inspect.getmembers()` function takes an instantiated class as an argument and returns an information dictionary.\n",
    "\n",
    "This can be helpful to know what attributes and methods are avaiable and basically, the blueprint of a class object in memory.  Depending on the way the class was implemented, you can usually find useful information hiding inside of `slr.__class__.__dict__` -- which can be easier to look at.  The \"right way\" is to use the \"inspect\" module."
   ]
  },
  {
   "cell_type": "code",
   "execution_count": 22,
   "metadata": {},
   "outputs": [],
   "source": [
    "import inspect"
   ]
  },
  {
   "cell_type": "code",
   "execution_count": 23,
   "metadata": {},
   "outputs": [
    {
     "data": {
      "text/plain": [
       "[('__class__', __main__.SimpleLinearRegression),\n",
       " ('__delattr__',\n",
       "  <method-wrapper '__delattr__' of SimpleLinearRegression object at 0x1a17400e48>),\n",
       " ('__dict__',\n",
       "  {'coef_': array([  139.33484671, -8621.47045953,   -81.21787764]),\n",
       "   'intercept_': 92451.62784164713,\n",
       "   'fit_intercept': True}),\n",
       " ('__dir__', <function SimpleLinearRegression.__dir__()>),\n",
       " ('__doc__', None),\n",
       " ('__eq__',\n",
       "  <method-wrapper '__eq__' of SimpleLinearRegression object at 0x1a17400e48>),\n",
       " ('__format__', <function SimpleLinearRegression.__format__(format_spec, /)>),\n",
       " ('__ge__',\n",
       "  <method-wrapper '__ge__' of SimpleLinearRegression object at 0x1a17400e48>),\n",
       " ('__getattribute__',\n",
       "  <method-wrapper '__getattribute__' of SimpleLinearRegression object at 0x1a17400e48>),\n",
       " ('__gt__',\n",
       "  <method-wrapper '__gt__' of SimpleLinearRegression object at 0x1a17400e48>),\n",
       " ('__hash__',\n",
       "  <method-wrapper '__hash__' of SimpleLinearRegression object at 0x1a17400e48>),\n",
       " ('__init__',\n",
       "  <bound method SimpleLinearRegression.__init__ of <__main__.SimpleLinearRegression object at 0x1a17400e48>>),\n",
       " ('__init_subclass__', <function SimpleLinearRegression.__init_subclass__>),\n",
       " ('__le__',\n",
       "  <method-wrapper '__le__' of SimpleLinearRegression object at 0x1a17400e48>),\n",
       " ('__lt__',\n",
       "  <method-wrapper '__lt__' of SimpleLinearRegression object at 0x1a17400e48>),\n",
       " ('__module__', '__main__'),\n",
       " ('__ne__',\n",
       "  <method-wrapper '__ne__' of SimpleLinearRegression object at 0x1a17400e48>),\n",
       " ('__new__', <function object.__new__(*args, **kwargs)>),\n",
       " ('__reduce__', <function SimpleLinearRegression.__reduce__()>),\n",
       " ('__reduce_ex__',\n",
       "  <function SimpleLinearRegression.__reduce_ex__(protocol, /)>),\n",
       " ('__repr__',\n",
       "  <method-wrapper '__repr__' of SimpleLinearRegression object at 0x1a17400e48>),\n",
       " ('__setattr__',\n",
       "  <method-wrapper '__setattr__' of SimpleLinearRegression object at 0x1a17400e48>),\n",
       " ('__sizeof__', <function SimpleLinearRegression.__sizeof__()>),\n",
       " ('__str__',\n",
       "  <method-wrapper '__str__' of SimpleLinearRegression object at 0x1a17400e48>),\n",
       " ('__subclasshook__', <function SimpleLinearRegression.__subclasshook__>),\n",
       " ('__weakref__', None),\n",
       " ('_calculate_r2',\n",
       "  <bound method SimpleLinearRegression._calculate_r2 of <__main__.SimpleLinearRegression object at 0x1a17400e48>>),\n",
       " ('_calculate_sse',\n",
       "  <bound method SimpleLinearRegression._calculate_sse of <__main__.SimpleLinearRegression object at 0x1a17400e48>>),\n",
       " ('add_intercept',\n",
       "  <bound method SimpleLinearRegression.add_intercept of <__main__.SimpleLinearRegression object at 0x1a17400e48>>),\n",
       " ('coef_', array([  139.33484671, -8621.47045953,   -81.21787764])),\n",
       " ('fit',\n",
       "  <bound method SimpleLinearRegression.fit of <__main__.SimpleLinearRegression object at 0x1a17400e48>>),\n",
       " ('fit_intercept', True),\n",
       " ('intercept_', 92451.62784164713),\n",
       " ('predict',\n",
       "  <bound method SimpleLinearRegression.predict of <__main__.SimpleLinearRegression object at 0x1a17400e48>>),\n",
       " ('score',\n",
       "  <bound method SimpleLinearRegression.score of <__main__.SimpleLinearRegression object at 0x1a17400e48>>)]"
      ]
     },
     "execution_count": 23,
     "metadata": {},
     "output_type": "execute_result"
    }
   ],
   "source": [
    "inspect.getmembers(slr)"
   ]
  },
  {
   "cell_type": "code",
   "execution_count": 24,
   "metadata": {},
   "outputs": [
    {
     "data": {
      "text/plain": [
       "[('__class__', __main__.SimpleLinearRegression),\n",
       " ('__delattr__',\n",
       "  <method-wrapper '__delattr__' of SimpleLinearRegression object at 0x1a22963d30>),\n",
       " ('__dict__',\n",
       "  {'coef_': array([  139.33484671, -8621.47045953,   -81.21787764]),\n",
       "   'intercept_': 92451.62784164713,\n",
       "   'fit_intercept': True}),\n",
       " ('__dir__', <function SimpleLinearRegression.__dir__()>),\n",
       " ('__doc__', None),\n",
       " ('__eq__',\n",
       "  <method-wrapper '__eq__' of SimpleLinearRegression object at 0x1a22963d30>),\n",
       " ('__format__', <function SimpleLinearRegression.__format__(format_spec, /)>),\n",
       " ('__ge__',\n",
       "  <method-wrapper '__ge__' of SimpleLinearRegression object at 0x1a22963d30>),\n",
       " ('__getattribute__',\n",
       "  <method-wrapper '__getattribute__' of SimpleLinearRegression object at 0x1a22963d30>),\n",
       " ('__gt__',\n",
       "  <method-wrapper '__gt__' of SimpleLinearRegression object at 0x1a22963d30>),\n",
       " ('__hash__',\n",
       "  <method-wrapper '__hash__' of SimpleLinearRegression object at 0x1a22963d30>),\n",
       " ('__init__',\n",
       "  <bound method SimpleLinearRegression.__init__ of <__main__.SimpleLinearRegression object at 0x1a22963d30>>),\n",
       " ('__init_subclass__', <function SimpleLinearRegression.__init_subclass__>),\n",
       " ('__le__',\n",
       "  <method-wrapper '__le__' of SimpleLinearRegression object at 0x1a22963d30>),\n",
       " ('__lt__',\n",
       "  <method-wrapper '__lt__' of SimpleLinearRegression object at 0x1a22963d30>),\n",
       " ('__module__', '__main__'),\n",
       " ('__ne__',\n",
       "  <method-wrapper '__ne__' of SimpleLinearRegression object at 0x1a22963d30>),\n",
       " ('__new__', <function object.__new__(*args, **kwargs)>),\n",
       " ('__reduce__', <function SimpleLinearRegression.__reduce__()>),\n",
       " ('__reduce_ex__',\n",
       "  <function SimpleLinearRegression.__reduce_ex__(protocol, /)>),\n",
       " ('__repr__',\n",
       "  <method-wrapper '__repr__' of SimpleLinearRegression object at 0x1a22963d30>),\n",
       " ('__setattr__',\n",
       "  <method-wrapper '__setattr__' of SimpleLinearRegression object at 0x1a22963d30>),\n",
       " ('__sizeof__', <function SimpleLinearRegression.__sizeof__()>),\n",
       " ('__str__',\n",
       "  <method-wrapper '__str__' of SimpleLinearRegression object at 0x1a22963d30>),\n",
       " ('__subclasshook__', <function SimpleLinearRegression.__subclasshook__>),\n",
       " ('__weakref__', None),\n",
       " ('_calculate_r2',\n",
       "  <bound method SimpleLinearRegression._calculate_r2 of <__main__.SimpleLinearRegression object at 0x1a22963d30>>),\n",
       " ('_calculate_sse',\n",
       "  <bound method SimpleLinearRegression._calculate_sse of <__main__.SimpleLinearRegression object at 0x1a22963d30>>),\n",
       " ('add_intercept',\n",
       "  <bound method SimpleLinearRegression.add_intercept of <__main__.SimpleLinearRegression object at 0x1a22963d30>>),\n",
       " ('coef_', array([  139.33484671, -8621.47045953,   -81.21787764])),\n",
       " ('fit',\n",
       "  <bound method SimpleLinearRegression.fit of <__main__.SimpleLinearRegression object at 0x1a22963d30>>),\n",
       " ('fit_intercept', True),\n",
       " ('intercept_', 92451.62784164713),\n",
       " ('predict',\n",
       "  <bound method SimpleLinearRegression.predict of <__main__.SimpleLinearRegression object at 0x1a22963d30>>),\n",
       " ('score',\n",
       "  <bound method SimpleLinearRegression.score of <__main__.SimpleLinearRegression object at 0x1a22963d30>>)]"
      ]
     },
     "execution_count": 24,
     "metadata": {},
     "output_type": "execute_result"
    }
   ],
   "source": [
    "inspect.getmembers(slr)"
   ]
  },
  {
   "cell_type": "markdown",
   "metadata": {},
   "source": [
    "## Additional Resources\n",
    "---\n",
    "\n",
    "\n",
    "See more on [Tutorials Point](https://www.tutorialspoint.com/python3/python_classes_objects.htm)."
   ]
  }
 ],
 "metadata": {
  "kernelspec": {
   "display_name": "Python 3",
   "language": "python",
   "name": "python3"
  },
  "language_info": {
   "codemirror_mode": {
    "name": "ipython",
    "version": 3
   },
   "file_extension": ".py",
   "mimetype": "text/x-python",
   "name": "python",
   "nbconvert_exporter": "python",
   "pygments_lexer": "ipython3",
   "version": "3.7.4"
  },
  "toc": {
   "base_numbering": 1,
   "nav_menu": {},
   "number_sections": false,
   "sideBar": true,
   "skip_h1_title": false,
   "title_cell": "Table of Contents",
   "title_sidebar": "Contents",
   "toc_cell": false,
   "toc_position": {},
   "toc_section_display": true,
   "toc_window_display": false
  },
  "varInspector": {
   "cols": {
    "lenName": 16,
    "lenType": 16,
    "lenVar": 40
   },
   "kernels_config": {
    "python": {
     "delete_cmd_postfix": "",
     "delete_cmd_prefix": "del ",
     "library": "var_list.py",
     "varRefreshCmd": "print(var_dic_list())"
    },
    "r": {
     "delete_cmd_postfix": ") ",
     "delete_cmd_prefix": "rm(",
     "library": "var_list.r",
     "varRefreshCmd": "cat(var_dic_list()) "
    }
   },
   "types_to_exclude": [
    "module",
    "function",
    "builtin_function_or_method",
    "instance",
    "_Feature"
   ],
   "window_display": false
  }
 },
 "nbformat": 4,
 "nbformat_minor": 1
}
