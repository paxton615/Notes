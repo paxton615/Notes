{
 "cells": [
  {
   "cell_type": "markdown",
   "metadata": {},
   "source": [
    "<img src=\"http://imgur.com/1ZcRyrc.png\" style=\"float: left; margin: 20px; height: 55px\">\n",
    "\n",
    "# Practice Gridsearch and Multinomial Models with SF Crime Data\n",
    "\n",
    "\n",
    "---\n",
    "\n",
    "\n",
    "\n",
    "Predict the category (type) of crime based on various features captured by San Francisco police departments."
   ]
  },
  {
   "cell_type": "markdown",
   "metadata": {},
   "source": [
    "**Necessary lab imports**"
   ]
  },
  {
   "cell_type": "code",
   "execution_count": 1,
   "metadata": {},
   "outputs": [],
   "source": [
    "import pandas as pd\n",
    "import numpy as np\n",
    "import matplotlib.pyplot as plt\n",
    "import seaborn as sns\n",
    "sns.set(font_scale=1.5)\n",
    "\n",
    "%config InlineBackend.figure_format = 'retina'\n",
    "%matplotlib inline"
   ]
  },
  {
   "cell_type": "code",
   "execution_count": 2,
   "metadata": {},
   "outputs": [],
   "source": [
    "from sklearn.metrics import classification_report, confusion_matrix, accuracy_score\n",
    "from sklearn.model_selection import train_test_split, GridSearchCV, cross_val_score\n",
    "from sklearn.linear_model import LogisticRegression, LogisticRegressionCV"
   ]
  },
  {
   "cell_type": "markdown",
   "metadata": {},
   "source": [
    "### 1. Read in the data"
   ]
  },
  {
   "cell_type": "code",
   "execution_count": 3,
   "metadata": {
    "scrolled": true
   },
   "outputs": [
    {
     "data": {
      "text/html": [
       "<div>\n",
       "<style scoped>\n",
       "    .dataframe tbody tr th:only-of-type {\n",
       "        vertical-align: middle;\n",
       "    }\n",
       "\n",
       "    .dataframe tbody tr th {\n",
       "        vertical-align: top;\n",
       "    }\n",
       "\n",
       "    .dataframe thead th {\n",
       "        text-align: right;\n",
       "    }\n",
       "</style>\n",
       "<table border=\"1\" class=\"dataframe\">\n",
       "  <thead>\n",
       "    <tr style=\"text-align: right;\">\n",
       "      <th></th>\n",
       "      <th>Dates</th>\n",
       "      <th>Category</th>\n",
       "      <th>Descript</th>\n",
       "      <th>PdDistrict</th>\n",
       "      <th>Resolution</th>\n",
       "      <th>Address</th>\n",
       "      <th>X</th>\n",
       "      <th>Y</th>\n",
       "    </tr>\n",
       "  </thead>\n",
       "  <tbody>\n",
       "    <tr>\n",
       "      <th>0</th>\n",
       "      <td>2003-03-23 23:27:00</td>\n",
       "      <td>ARSON</td>\n",
       "      <td>ARSON OF A VEHICLE</td>\n",
       "      <td>BAYVIEW</td>\n",
       "      <td>NONE</td>\n",
       "      <td>0 Block of HUNTERS PT EXPWY EX</td>\n",
       "      <td>-122.376945</td>\n",
       "      <td>37.733018</td>\n",
       "    </tr>\n",
       "    <tr>\n",
       "      <th>1</th>\n",
       "      <td>2006-03-07 06:45:00</td>\n",
       "      <td>LARCENY/THEFT</td>\n",
       "      <td>PETTY THEFT FROM LOCKED AUTO</td>\n",
       "      <td>NORTHERN</td>\n",
       "      <td>NONE</td>\n",
       "      <td>0 Block of MARINA BL</td>\n",
       "      <td>-122.432952</td>\n",
       "      <td>37.805052</td>\n",
       "    </tr>\n",
       "    <tr>\n",
       "      <th>2</th>\n",
       "      <td>2004-03-06 03:00:00</td>\n",
       "      <td>NON-CRIMINAL</td>\n",
       "      <td>LOST PROPERTY</td>\n",
       "      <td>SOUTHERN</td>\n",
       "      <td>NONE</td>\n",
       "      <td>800 Block of BRYANT ST</td>\n",
       "      <td>-122.403405</td>\n",
       "      <td>37.775421</td>\n",
       "    </tr>\n",
       "    <tr>\n",
       "      <th>3</th>\n",
       "      <td>2011-12-03 12:10:00</td>\n",
       "      <td>BURGLARY</td>\n",
       "      <td>BURGLARY OF STORE, UNLAWFUL ENTRY</td>\n",
       "      <td>TARAVAL</td>\n",
       "      <td>ARREST, BOOKED</td>\n",
       "      <td>3200 Block of 20TH AV</td>\n",
       "      <td>-122.475647</td>\n",
       "      <td>37.728528</td>\n",
       "    </tr>\n",
       "    <tr>\n",
       "      <th>4</th>\n",
       "      <td>2003-01-10 00:15:00</td>\n",
       "      <td>LARCENY/THEFT</td>\n",
       "      <td>PETTY THEFT OF PROPERTY</td>\n",
       "      <td>NORTHERN</td>\n",
       "      <td>NONE</td>\n",
       "      <td>POLK ST / BROADWAY ST</td>\n",
       "      <td>-122.421772</td>\n",
       "      <td>37.795946</td>\n",
       "    </tr>\n",
       "  </tbody>\n",
       "</table>\n",
       "</div>"
      ],
      "text/plain": [
       "                 Dates       Category                           Descript  \\\n",
       "0  2003-03-23 23:27:00          ARSON                 ARSON OF A VEHICLE   \n",
       "1  2006-03-07 06:45:00  LARCENY/THEFT       PETTY THEFT FROM LOCKED AUTO   \n",
       "2  2004-03-06 03:00:00   NON-CRIMINAL                      LOST PROPERTY   \n",
       "3  2011-12-03 12:10:00       BURGLARY  BURGLARY OF STORE, UNLAWFUL ENTRY   \n",
       "4  2003-01-10 00:15:00  LARCENY/THEFT            PETTY THEFT OF PROPERTY   \n",
       "\n",
       "  PdDistrict      Resolution                         Address           X  \\\n",
       "0    BAYVIEW            NONE  0 Block of HUNTERS PT EXPWY EX -122.376945   \n",
       "1   NORTHERN            NONE            0 Block of MARINA BL -122.432952   \n",
       "2   SOUTHERN            NONE          800 Block of BRYANT ST -122.403405   \n",
       "3    TARAVAL  ARREST, BOOKED           3200 Block of 20TH AV -122.475647   \n",
       "4   NORTHERN            NONE           POLK ST / BROADWAY ST -122.421772   \n",
       "\n",
       "           Y  \n",
       "0  37.733018  \n",
       "1  37.805052  \n",
       "2  37.775421  \n",
       "3  37.728528  \n",
       "4  37.795946  "
      ]
     },
     "execution_count": 3,
     "metadata": {},
     "output_type": "execute_result"
    }
   ],
   "source": [
    "# read in the data using pandas\n",
    "sf_crime = pd.read_csv(\n",
    "    '../../../../resource-datasets/sf_crime/sf_crime_sample.csv')\n",
    "sf_crime.drop('DayOfWeek', axis=1, inplace=True)\n",
    "sf_crime.head()"
   ]
  },
  {
   "cell_type": "code",
   "execution_count": 4,
   "metadata": {},
   "outputs": [
    {
     "data": {
      "text/plain": [
       "(25000, 8)"
      ]
     },
     "execution_count": 4,
     "metadata": {},
     "output_type": "execute_result"
    }
   ],
   "source": [
    "sf_crime.shape"
   ]
  },
  {
   "cell_type": "code",
   "execution_count": 5,
   "metadata": {},
   "outputs": [],
   "source": [
    "# check the shape of your dataframe\n"
   ]
  },
  {
   "cell_type": "code",
   "execution_count": 6,
   "metadata": {},
   "outputs": [
    {
     "data": {
      "text/plain": [
       "Dates         0\n",
       "Category      0\n",
       "Descript      0\n",
       "PdDistrict    0\n",
       "Resolution    0\n",
       "Address       0\n",
       "X             0\n",
       "Y             0\n",
       "dtype: int64"
      ]
     },
     "execution_count": 6,
     "metadata": {},
     "output_type": "execute_result"
    }
   ],
   "source": [
    "#check whether there are any missing values\n",
    "#do we need to fix anything here?\n",
    "sf_crime.isnull().sum()"
   ]
  },
  {
   "cell_type": "code",
   "execution_count": 7,
   "metadata": {},
   "outputs": [
    {
     "data": {
      "text/plain": [
       "Dates          object\n",
       "Category       object\n",
       "Descript       object\n",
       "PdDistrict     object\n",
       "Resolution     object\n",
       "Address        object\n",
       "X             float64\n",
       "Y             float64\n",
       "dtype: object"
      ]
     },
     "execution_count": 7,
     "metadata": {},
     "output_type": "execute_result"
    }
   ],
   "source": [
    "#check what your datatypes are\n",
    "#do we need to fix anything here?\n",
    "sf_crime.dtypes"
   ]
  },
  {
   "cell_type": "code",
   "execution_count": null,
   "metadata": {},
   "outputs": [],
   "source": []
  },
  {
   "cell_type": "markdown",
   "metadata": {},
   "source": [
    "### 2. Create column for year, month, day, hour, time, and date from 'Dates' column.\n",
    "\n",
    "> *`pd.to_datetime` and `Series.dt` may be helpful here!*\n"
   ]
  },
  {
   "cell_type": "code",
   "execution_count": 8,
   "metadata": {},
   "outputs": [
    {
     "data": {
      "text/html": [
       "<div>\n",
       "<style scoped>\n",
       "    .dataframe tbody tr th:only-of-type {\n",
       "        vertical-align: middle;\n",
       "    }\n",
       "\n",
       "    .dataframe tbody tr th {\n",
       "        vertical-align: top;\n",
       "    }\n",
       "\n",
       "    .dataframe thead th {\n",
       "        text-align: right;\n",
       "    }\n",
       "</style>\n",
       "<table border=\"1\" class=\"dataframe\">\n",
       "  <thead>\n",
       "    <tr style=\"text-align: right;\">\n",
       "      <th></th>\n",
       "      <th>Dates</th>\n",
       "      <th>Category</th>\n",
       "      <th>Descript</th>\n",
       "      <th>PdDistrict</th>\n",
       "      <th>Resolution</th>\n",
       "      <th>Address</th>\n",
       "      <th>X</th>\n",
       "      <th>Y</th>\n",
       "    </tr>\n",
       "  </thead>\n",
       "  <tbody>\n",
       "    <tr>\n",
       "      <th>0</th>\n",
       "      <td>2003-03-23 23:27:00</td>\n",
       "      <td>ARSON</td>\n",
       "      <td>ARSON OF A VEHICLE</td>\n",
       "      <td>BAYVIEW</td>\n",
       "      <td>NONE</td>\n",
       "      <td>0 Block of HUNTERS PT EXPWY EX</td>\n",
       "      <td>-122.376945</td>\n",
       "      <td>37.733018</td>\n",
       "    </tr>\n",
       "    <tr>\n",
       "      <th>1</th>\n",
       "      <td>2006-03-07 06:45:00</td>\n",
       "      <td>LARCENY/THEFT</td>\n",
       "      <td>PETTY THEFT FROM LOCKED AUTO</td>\n",
       "      <td>NORTHERN</td>\n",
       "      <td>NONE</td>\n",
       "      <td>0 Block of MARINA BL</td>\n",
       "      <td>-122.432952</td>\n",
       "      <td>37.805052</td>\n",
       "    </tr>\n",
       "  </tbody>\n",
       "</table>\n",
       "</div>"
      ],
      "text/plain": [
       "                Dates       Category                      Descript PdDistrict  \\\n",
       "0 2003-03-23 23:27:00          ARSON            ARSON OF A VEHICLE    BAYVIEW   \n",
       "1 2006-03-07 06:45:00  LARCENY/THEFT  PETTY THEFT FROM LOCKED AUTO   NORTHERN   \n",
       "\n",
       "  Resolution                         Address           X          Y  \n",
       "0       NONE  0 Block of HUNTERS PT EXPWY EX -122.376945  37.733018  \n",
       "1       NONE            0 Block of MARINA BL -122.432952  37.805052  "
      ]
     },
     "execution_count": 8,
     "metadata": {},
     "output_type": "execute_result"
    }
   ],
   "source": [
    "# convert the 'Dates' column to a datetime object\n",
    "sf_crime['Dates'] = pd.to_datetime(sf_crime['Dates'])\n",
    "sf_crime.head(2)"
   ]
  },
  {
   "cell_type": "code",
   "execution_count": 9,
   "metadata": {},
   "outputs": [
    {
     "data": {
      "text/html": [
       "<div>\n",
       "<style scoped>\n",
       "    .dataframe tbody tr th:only-of-type {\n",
       "        vertical-align: middle;\n",
       "    }\n",
       "\n",
       "    .dataframe tbody tr th {\n",
       "        vertical-align: top;\n",
       "    }\n",
       "\n",
       "    .dataframe thead th {\n",
       "        text-align: right;\n",
       "    }\n",
       "</style>\n",
       "<table border=\"1\" class=\"dataframe\">\n",
       "  <thead>\n",
       "    <tr style=\"text-align: right;\">\n",
       "      <th></th>\n",
       "      <th>Dates</th>\n",
       "      <th>Category</th>\n",
       "      <th>Descript</th>\n",
       "      <th>PdDistrict</th>\n",
       "      <th>Resolution</th>\n",
       "      <th>Address</th>\n",
       "      <th>X</th>\n",
       "      <th>Y</th>\n",
       "      <th>Year</th>\n",
       "      <th>Month</th>\n",
       "      <th>Day_of_Week</th>\n",
       "    </tr>\n",
       "  </thead>\n",
       "  <tbody>\n",
       "    <tr>\n",
       "      <th>0</th>\n",
       "      <td>2003-03-23 23:27:00</td>\n",
       "      <td>ARSON</td>\n",
       "      <td>ARSON OF A VEHICLE</td>\n",
       "      <td>BAYVIEW</td>\n",
       "      <td>NONE</td>\n",
       "      <td>0 Block of HUNTERS PT EXPWY EX</td>\n",
       "      <td>-122.376945</td>\n",
       "      <td>37.733018</td>\n",
       "      <td>2003</td>\n",
       "      <td>3</td>\n",
       "      <td>Sunday</td>\n",
       "    </tr>\n",
       "    <tr>\n",
       "      <th>1</th>\n",
       "      <td>2006-03-07 06:45:00</td>\n",
       "      <td>LARCENY/THEFT</td>\n",
       "      <td>PETTY THEFT FROM LOCKED AUTO</td>\n",
       "      <td>NORTHERN</td>\n",
       "      <td>NONE</td>\n",
       "      <td>0 Block of MARINA BL</td>\n",
       "      <td>-122.432952</td>\n",
       "      <td>37.805052</td>\n",
       "      <td>2006</td>\n",
       "      <td>3</td>\n",
       "      <td>Tuesday</td>\n",
       "    </tr>\n",
       "  </tbody>\n",
       "</table>\n",
       "</div>"
      ],
      "text/plain": [
       "                Dates       Category                      Descript PdDistrict  \\\n",
       "0 2003-03-23 23:27:00          ARSON            ARSON OF A VEHICLE    BAYVIEW   \n",
       "1 2006-03-07 06:45:00  LARCENY/THEFT  PETTY THEFT FROM LOCKED AUTO   NORTHERN   \n",
       "\n",
       "  Resolution                         Address           X          Y  Year  \\\n",
       "0       NONE  0 Block of HUNTERS PT EXPWY EX -122.376945  37.733018  2003   \n",
       "1       NONE            0 Block of MARINA BL -122.432952  37.805052  2006   \n",
       "\n",
       "   Month Day_of_Week  \n",
       "0      3      Sunday  \n",
       "1      3     Tuesday  "
      ]
     },
     "execution_count": 9,
     "metadata": {},
     "output_type": "execute_result"
    }
   ],
   "source": [
    "# create a new column for 'Year','Month',and 'Day_of_Week'\n",
    "sf_crime['Year'] = sf_crime['Dates'].dt.year\n",
    "sf_crime['Month'] = sf_crime['Dates'].dt.month\n",
    "sf_crime['Day_of_Week'] = sf_crime['Dates'].dt.weekday_name\n",
    "# check the first couple rows to make sure it's what you want\n",
    "sf_crime.head(2)"
   ]
  },
  {
   "cell_type": "code",
   "execution_count": 10,
   "metadata": {},
   "outputs": [
    {
     "data": {
      "text/html": [
       "<div>\n",
       "<style scoped>\n",
       "    .dataframe tbody tr th:only-of-type {\n",
       "        vertical-align: middle;\n",
       "    }\n",
       "\n",
       "    .dataframe tbody tr th {\n",
       "        vertical-align: top;\n",
       "    }\n",
       "\n",
       "    .dataframe thead th {\n",
       "        text-align: right;\n",
       "    }\n",
       "</style>\n",
       "<table border=\"1\" class=\"dataframe\">\n",
       "  <thead>\n",
       "    <tr style=\"text-align: right;\">\n",
       "      <th></th>\n",
       "      <th>Dates</th>\n",
       "      <th>Category</th>\n",
       "      <th>Descript</th>\n",
       "      <th>PdDistrict</th>\n",
       "      <th>Resolution</th>\n",
       "      <th>Address</th>\n",
       "      <th>X</th>\n",
       "      <th>Y</th>\n",
       "      <th>Year</th>\n",
       "      <th>Month</th>\n",
       "      <th>Day_of_Week</th>\n",
       "      <th>Hour</th>\n",
       "      <th>Time</th>\n",
       "      <th>Date</th>\n",
       "    </tr>\n",
       "  </thead>\n",
       "  <tbody>\n",
       "    <tr>\n",
       "      <th>0</th>\n",
       "      <td>2003-03-23 23:27:00</td>\n",
       "      <td>ARSON</td>\n",
       "      <td>ARSON OF A VEHICLE</td>\n",
       "      <td>BAYVIEW</td>\n",
       "      <td>NONE</td>\n",
       "      <td>0 Block of HUNTERS PT EXPWY EX</td>\n",
       "      <td>-122.376945</td>\n",
       "      <td>37.733018</td>\n",
       "      <td>2003</td>\n",
       "      <td>3</td>\n",
       "      <td>Sunday</td>\n",
       "      <td>23</td>\n",
       "      <td>23:27:00</td>\n",
       "      <td>2003-03-23</td>\n",
       "    </tr>\n",
       "    <tr>\n",
       "      <th>1</th>\n",
       "      <td>2006-03-07 06:45:00</td>\n",
       "      <td>LARCENY/THEFT</td>\n",
       "      <td>PETTY THEFT FROM LOCKED AUTO</td>\n",
       "      <td>NORTHERN</td>\n",
       "      <td>NONE</td>\n",
       "      <td>0 Block of MARINA BL</td>\n",
       "      <td>-122.432952</td>\n",
       "      <td>37.805052</td>\n",
       "      <td>2006</td>\n",
       "      <td>3</td>\n",
       "      <td>Tuesday</td>\n",
       "      <td>6</td>\n",
       "      <td>06:45:00</td>\n",
       "      <td>2006-03-07</td>\n",
       "    </tr>\n",
       "  </tbody>\n",
       "</table>\n",
       "</div>"
      ],
      "text/plain": [
       "                Dates       Category                      Descript PdDistrict  \\\n",
       "0 2003-03-23 23:27:00          ARSON            ARSON OF A VEHICLE    BAYVIEW   \n",
       "1 2006-03-07 06:45:00  LARCENY/THEFT  PETTY THEFT FROM LOCKED AUTO   NORTHERN   \n",
       "\n",
       "  Resolution                         Address           X          Y  Year  \\\n",
       "0       NONE  0 Block of HUNTERS PT EXPWY EX -122.376945  37.733018  2003   \n",
       "1       NONE            0 Block of MARINA BL -122.432952  37.805052  2006   \n",
       "\n",
       "   Month Day_of_Week  Hour      Time        Date  \n",
       "0      3      Sunday    23  23:27:00  2003-03-23  \n",
       "1      3     Tuesday     6  06:45:00  2006-03-07  "
      ]
     },
     "execution_count": 10,
     "metadata": {},
     "output_type": "execute_result"
    }
   ],
   "source": [
    "# create a column for the 'Hour','Time', and 'Date'\n",
    "sf_crime['Hour'] = sf_crime['Dates'].dt.hour\n",
    "sf_crime['Time'] = sf_crime['Dates'].dt.time\n",
    "sf_crime['Date'] = sf_crime['Dates'].dt.date\n",
    "sf_crime.head(2)"
   ]
  },
  {
   "cell_type": "code",
   "execution_count": 11,
   "metadata": {},
   "outputs": [],
   "source": [
    "# Drop the 'Dates' column\n",
    "dates = sf_crime.pop(\"Dates\")"
   ]
  },
  {
   "cell_type": "code",
   "execution_count": 12,
   "metadata": {},
   "outputs": [
    {
     "data": {
      "text/plain": [
       "Category        object\n",
       "Descript        object\n",
       "PdDistrict      object\n",
       "Resolution      object\n",
       "Address         object\n",
       "X              float64\n",
       "Y              float64\n",
       "Year             int64\n",
       "Month            int64\n",
       "Day_of_Week     object\n",
       "Hour             int64\n",
       "Time            object\n",
       "Date            object\n",
       "dtype: object"
      ]
     },
     "execution_count": 12,
     "metadata": {},
     "output_type": "execute_result"
    }
   ],
   "source": [
    "sf_crime.dtypes"
   ]
  },
  {
   "cell_type": "code",
   "execution_count": 13,
   "metadata": {
    "scrolled": false
   },
   "outputs": [
    {
     "data": {
      "text/html": [
       "<div>\n",
       "<style scoped>\n",
       "    .dataframe tbody tr th:only-of-type {\n",
       "        vertical-align: middle;\n",
       "    }\n",
       "\n",
       "    .dataframe tbody tr th {\n",
       "        vertical-align: top;\n",
       "    }\n",
       "\n",
       "    .dataframe thead th {\n",
       "        text-align: right;\n",
       "    }\n",
       "</style>\n",
       "<table border=\"1\" class=\"dataframe\">\n",
       "  <thead>\n",
       "    <tr style=\"text-align: right;\">\n",
       "      <th></th>\n",
       "      <th>Category</th>\n",
       "      <th>Descript</th>\n",
       "      <th>PdDistrict</th>\n",
       "      <th>Resolution</th>\n",
       "      <th>Address</th>\n",
       "      <th>X</th>\n",
       "      <th>Y</th>\n",
       "      <th>Year</th>\n",
       "      <th>Month</th>\n",
       "      <th>Day_of_Week</th>\n",
       "      <th>Hour</th>\n",
       "      <th>Time</th>\n",
       "      <th>Date</th>\n",
       "    </tr>\n",
       "  </thead>\n",
       "  <tbody>\n",
       "    <tr>\n",
       "      <th>0</th>\n",
       "      <td>ARSON</td>\n",
       "      <td>ARSON OF A VEHICLE</td>\n",
       "      <td>BAYVIEW</td>\n",
       "      <td>NONE</td>\n",
       "      <td>0 Block of HUNTERS PT EXPWY EX</td>\n",
       "      <td>-122.376945</td>\n",
       "      <td>37.733018</td>\n",
       "      <td>2003</td>\n",
       "      <td>3</td>\n",
       "      <td>Sunday</td>\n",
       "      <td>23</td>\n",
       "      <td>23:27:00</td>\n",
       "      <td>2003-03-23</td>\n",
       "    </tr>\n",
       "    <tr>\n",
       "      <th>1</th>\n",
       "      <td>LARCENY/THEFT</td>\n",
       "      <td>PETTY THEFT FROM LOCKED AUTO</td>\n",
       "      <td>NORTHERN</td>\n",
       "      <td>NONE</td>\n",
       "      <td>0 Block of MARINA BL</td>\n",
       "      <td>-122.432952</td>\n",
       "      <td>37.805052</td>\n",
       "      <td>2006</td>\n",
       "      <td>3</td>\n",
       "      <td>Tuesday</td>\n",
       "      <td>6</td>\n",
       "      <td>06:45:00</td>\n",
       "      <td>2006-03-07</td>\n",
       "    </tr>\n",
       "    <tr>\n",
       "      <th>2</th>\n",
       "      <td>NON-CRIMINAL</td>\n",
       "      <td>LOST PROPERTY</td>\n",
       "      <td>SOUTHERN</td>\n",
       "      <td>NONE</td>\n",
       "      <td>800 Block of BRYANT ST</td>\n",
       "      <td>-122.403405</td>\n",
       "      <td>37.775421</td>\n",
       "      <td>2004</td>\n",
       "      <td>3</td>\n",
       "      <td>Saturday</td>\n",
       "      <td>3</td>\n",
       "      <td>03:00:00</td>\n",
       "      <td>2004-03-06</td>\n",
       "    </tr>\n",
       "    <tr>\n",
       "      <th>3</th>\n",
       "      <td>BURGLARY</td>\n",
       "      <td>BURGLARY OF STORE, UNLAWFUL ENTRY</td>\n",
       "      <td>TARAVAL</td>\n",
       "      <td>ARREST, BOOKED</td>\n",
       "      <td>3200 Block of 20TH AV</td>\n",
       "      <td>-122.475647</td>\n",
       "      <td>37.728528</td>\n",
       "      <td>2011</td>\n",
       "      <td>12</td>\n",
       "      <td>Saturday</td>\n",
       "      <td>12</td>\n",
       "      <td>12:10:00</td>\n",
       "      <td>2011-12-03</td>\n",
       "    </tr>\n",
       "    <tr>\n",
       "      <th>4</th>\n",
       "      <td>LARCENY/THEFT</td>\n",
       "      <td>PETTY THEFT OF PROPERTY</td>\n",
       "      <td>NORTHERN</td>\n",
       "      <td>NONE</td>\n",
       "      <td>POLK ST / BROADWAY ST</td>\n",
       "      <td>-122.421772</td>\n",
       "      <td>37.795946</td>\n",
       "      <td>2003</td>\n",
       "      <td>1</td>\n",
       "      <td>Friday</td>\n",
       "      <td>0</td>\n",
       "      <td>00:15:00</td>\n",
       "      <td>2003-01-10</td>\n",
       "    </tr>\n",
       "  </tbody>\n",
       "</table>\n",
       "</div>"
      ],
      "text/plain": [
       "        Category                           Descript PdDistrict  \\\n",
       "0          ARSON                 ARSON OF A VEHICLE    BAYVIEW   \n",
       "1  LARCENY/THEFT       PETTY THEFT FROM LOCKED AUTO   NORTHERN   \n",
       "2   NON-CRIMINAL                      LOST PROPERTY   SOUTHERN   \n",
       "3       BURGLARY  BURGLARY OF STORE, UNLAWFUL ENTRY    TARAVAL   \n",
       "4  LARCENY/THEFT            PETTY THEFT OF PROPERTY   NORTHERN   \n",
       "\n",
       "       Resolution                         Address           X          Y  \\\n",
       "0            NONE  0 Block of HUNTERS PT EXPWY EX -122.376945  37.733018   \n",
       "1            NONE            0 Block of MARINA BL -122.432952  37.805052   \n",
       "2            NONE          800 Block of BRYANT ST -122.403405  37.775421   \n",
       "3  ARREST, BOOKED           3200 Block of 20TH AV -122.475647  37.728528   \n",
       "4            NONE           POLK ST / BROADWAY ST -122.421772  37.795946   \n",
       "\n",
       "   Year  Month Day_of_Week  Hour      Time        Date  \n",
       "0  2003      3      Sunday    23  23:27:00  2003-03-23  \n",
       "1  2006      3     Tuesday     6  06:45:00  2006-03-07  \n",
       "2  2004      3    Saturday     3  03:00:00  2004-03-06  \n",
       "3  2011     12    Saturday    12  12:10:00  2011-12-03  \n",
       "4  2003      1      Friday     0  00:15:00  2003-01-10  "
      ]
     },
     "execution_count": 13,
     "metadata": {},
     "output_type": "execute_result"
    }
   ],
   "source": [
    "sf_crime.head()"
   ]
  },
  {
   "cell_type": "code",
   "execution_count": 14,
   "metadata": {},
   "outputs": [
    {
     "data": {
      "text/plain": [
       "LARCENY/THEFT                  4934\n",
       "OTHER OFFENSES                 3656\n",
       "NON-CRIMINAL                   2601\n",
       "ASSAULT                        2164\n",
       "DRUG/NARCOTIC                  1533\n",
       "VEHICLE THEFT                  1506\n",
       "VANDALISM                      1280\n",
       "WARRANTS                       1239\n",
       "BURGLARY                       1023\n",
       "SUSPICIOUS OCC                  891\n",
       "MISSING PERSON                  771\n",
       "ROBBERY                         630\n",
       "FRAUD                           537\n",
       "SECONDARY CODES                 283\n",
       "FORGERY/COUNTERFEITING          281\n",
       "WEAPON LAWS                     255\n",
       "PROSTITUTION                    223\n",
       "TRESPASS                        209\n",
       "STOLEN PROPERTY                 137\n",
       "SEX OFFENSES FORCIBLE           120\n",
       "DISORDERLY CONDUCT              105\n",
       "DRUNKENNESS                     105\n",
       "RECOVERED VEHICLE                80\n",
       "DRIVING UNDER THE INFLUENCE      75\n",
       "KIDNAPPING                       71\n",
       "RUNAWAY                          58\n",
       "ARSON                            52\n",
       "LIQUOR LAWS                      51\n",
       "LOITERING                        37\n",
       "EMBEZZLEMENT                     28\n",
       "BAD CHECKS                       14\n",
       "FAMILY OFFENSES                  14\n",
       "SUICIDE                          12\n",
       "EXTORTION                         9\n",
       "BRIBERY                           8\n",
       "GAMBLING                          5\n",
       "SEX OFFENSES NON FORCIBLE         2\n",
       "TREA                              1\n",
       "Name: Category, dtype: int64"
      ]
     },
     "execution_count": 14,
     "metadata": {},
     "output_type": "execute_result"
    }
   ],
   "source": [
    "sf_crime.Category.value_counts()"
   ]
  },
  {
   "cell_type": "markdown",
   "metadata": {},
   "source": [
    "### 3. Validate and clean the data."
   ]
  },
  {
   "cell_type": "code",
   "execution_count": null,
   "metadata": {},
   "outputs": [],
   "source": [
    "# check the 'Category' value counts to see what sort of categories there are\n",
    "# and to see if anything might require cleaning (particularly the ones with fewer values)\n",
    "#sf_crime.Category.value_counts()"
   ]
  },
  {
   "cell_type": "code",
   "execution_count": 17,
   "metadata": {},
   "outputs": [],
   "source": [
    "# have a look to see whether you have all the days of the week in your data\n",
    "\n",
    "sf_crime_temp = pd.get_dummies(sf_crime,columns=[\"Day_of_Week\"])"
   ]
  },
  {
   "cell_type": "code",
   "execution_count": 20,
   "metadata": {},
   "outputs": [],
   "source": [
    "sf_crime=sf_crime_temp"
   ]
  },
  {
   "cell_type": "code",
   "execution_count": 25,
   "metadata": {},
   "outputs": [
    {
     "data": {
      "text/plain": [
       "array(['NONE', 'ARREST, BOOKED', 'ARREST, CITED', 'LOCATED',\n",
       "       'JUVENILE DIVERTED', 'DISTRICT ATTORNEY REFUSES TO PROSECUTE',\n",
       "       'UNFOUNDED', 'PSYCHOPATHIC CASE', 'JUVENILE BOOKED',\n",
       "       'NOT PROSECUTED', 'COMPLAINANT REFUSES TO PROSECUTE',\n",
       "       'JUVENILE CITED', 'PROSECUTED BY OUTSIDE AGENCY',\n",
       "       'EXCEPTIONAL CLEARANCE', 'JUVENILE ADMONISHED',\n",
       "       'CLEARED-CONTACT JUVENILE FOR MORE INFO'], dtype=object)"
      ]
     },
     "execution_count": 25,
     "metadata": {},
     "output_type": "execute_result"
    }
   ],
   "source": [
    "# have a look at the value counts for 'Descript', 'PdDistrict', and 'Resolution' to make sure it all checks out\n",
    "sf_crime.Resolution.unique()"
   ]
  },
  {
   "cell_type": "code",
   "execution_count": 26,
   "metadata": {},
   "outputs": [
    {
     "data": {
      "text/html": [
       "<div>\n",
       "<style scoped>\n",
       "    .dataframe tbody tr th:only-of-type {\n",
       "        vertical-align: middle;\n",
       "    }\n",
       "\n",
       "    .dataframe tbody tr th {\n",
       "        vertical-align: top;\n",
       "    }\n",
       "\n",
       "    .dataframe thead th {\n",
       "        text-align: right;\n",
       "    }\n",
       "</style>\n",
       "<table border=\"1\" class=\"dataframe\">\n",
       "  <thead>\n",
       "    <tr style=\"text-align: right;\">\n",
       "      <th></th>\n",
       "      <th>X</th>\n",
       "      <th>Y</th>\n",
       "      <th>Year</th>\n",
       "      <th>Month</th>\n",
       "      <th>Hour</th>\n",
       "      <th>Day_of_Week_Friday</th>\n",
       "      <th>Day_of_Week_Monday</th>\n",
       "      <th>Day_of_Week_Saturday</th>\n",
       "      <th>Day_of_Week_Sunday</th>\n",
       "      <th>Day_of_Week_Thursday</th>\n",
       "      <th>Day_of_Week_Tuesday</th>\n",
       "      <th>Day_of_Week_Wednesday</th>\n",
       "    </tr>\n",
       "  </thead>\n",
       "  <tbody>\n",
       "    <tr>\n",
       "      <th>count</th>\n",
       "      <td>25000.000000</td>\n",
       "      <td>25000.000000</td>\n",
       "      <td>25000.000000</td>\n",
       "      <td>25000.000000</td>\n",
       "      <td>25000.000000</td>\n",
       "      <td>25000.000000</td>\n",
       "      <td>25000.000000</td>\n",
       "      <td>25000.000000</td>\n",
       "      <td>25000.000000</td>\n",
       "      <td>25000.000000</td>\n",
       "      <td>25000.000000</td>\n",
       "      <td>25000.000000</td>\n",
       "    </tr>\n",
       "    <tr>\n",
       "      <th>mean</th>\n",
       "      <td>-122.422454</td>\n",
       "      <td>37.773486</td>\n",
       "      <td>2008.688080</td>\n",
       "      <td>6.407360</td>\n",
       "      <td>13.384800</td>\n",
       "      <td>0.155320</td>\n",
       "      <td>0.140960</td>\n",
       "      <td>0.139840</td>\n",
       "      <td>0.132520</td>\n",
       "      <td>0.143160</td>\n",
       "      <td>0.141920</td>\n",
       "      <td>0.146280</td>\n",
       "    </tr>\n",
       "    <tr>\n",
       "      <th>std</th>\n",
       "      <td>0.032753</td>\n",
       "      <td>0.572667</td>\n",
       "      <td>3.625646</td>\n",
       "      <td>3.418299</td>\n",
       "      <td>6.590859</td>\n",
       "      <td>0.362217</td>\n",
       "      <td>0.347987</td>\n",
       "      <td>0.346828</td>\n",
       "      <td>0.339062</td>\n",
       "      <td>0.350243</td>\n",
       "      <td>0.348975</td>\n",
       "      <td>0.353394</td>\n",
       "    </tr>\n",
       "    <tr>\n",
       "      <th>min</th>\n",
       "      <td>-122.513642</td>\n",
       "      <td>37.708003</td>\n",
       "      <td>2003.000000</td>\n",
       "      <td>1.000000</td>\n",
       "      <td>0.000000</td>\n",
       "      <td>0.000000</td>\n",
       "      <td>0.000000</td>\n",
       "      <td>0.000000</td>\n",
       "      <td>0.000000</td>\n",
       "      <td>0.000000</td>\n",
       "      <td>0.000000</td>\n",
       "      <td>0.000000</td>\n",
       "    </tr>\n",
       "    <tr>\n",
       "      <th>25%</th>\n",
       "      <td>-122.432797</td>\n",
       "      <td>37.752874</td>\n",
       "      <td>2005.000000</td>\n",
       "      <td>3.000000</td>\n",
       "      <td>9.000000</td>\n",
       "      <td>0.000000</td>\n",
       "      <td>0.000000</td>\n",
       "      <td>0.000000</td>\n",
       "      <td>0.000000</td>\n",
       "      <td>0.000000</td>\n",
       "      <td>0.000000</td>\n",
       "      <td>0.000000</td>\n",
       "    </tr>\n",
       "    <tr>\n",
       "      <th>50%</th>\n",
       "      <td>-122.416469</td>\n",
       "      <td>37.775421</td>\n",
       "      <td>2009.000000</td>\n",
       "      <td>6.000000</td>\n",
       "      <td>14.000000</td>\n",
       "      <td>0.000000</td>\n",
       "      <td>0.000000</td>\n",
       "      <td>0.000000</td>\n",
       "      <td>0.000000</td>\n",
       "      <td>0.000000</td>\n",
       "      <td>0.000000</td>\n",
       "      <td>0.000000</td>\n",
       "    </tr>\n",
       "    <tr>\n",
       "      <th>75%</th>\n",
       "      <td>-122.406953</td>\n",
       "      <td>37.784401</td>\n",
       "      <td>2012.000000</td>\n",
       "      <td>9.000000</td>\n",
       "      <td>19.000000</td>\n",
       "      <td>0.000000</td>\n",
       "      <td>0.000000</td>\n",
       "      <td>0.000000</td>\n",
       "      <td>0.000000</td>\n",
       "      <td>0.000000</td>\n",
       "      <td>0.000000</td>\n",
       "      <td>0.000000</td>\n",
       "    </tr>\n",
       "    <tr>\n",
       "      <th>max</th>\n",
       "      <td>-120.500000</td>\n",
       "      <td>90.000000</td>\n",
       "      <td>2015.000000</td>\n",
       "      <td>12.000000</td>\n",
       "      <td>23.000000</td>\n",
       "      <td>1.000000</td>\n",
       "      <td>1.000000</td>\n",
       "      <td>1.000000</td>\n",
       "      <td>1.000000</td>\n",
       "      <td>1.000000</td>\n",
       "      <td>1.000000</td>\n",
       "      <td>1.000000</td>\n",
       "    </tr>\n",
       "  </tbody>\n",
       "</table>\n",
       "</div>"
      ],
      "text/plain": [
       "                  X             Y          Year         Month          Hour  \\\n",
       "count  25000.000000  25000.000000  25000.000000  25000.000000  25000.000000   \n",
       "mean    -122.422454     37.773486   2008.688080      6.407360     13.384800   \n",
       "std        0.032753      0.572667      3.625646      3.418299      6.590859   \n",
       "min     -122.513642     37.708003   2003.000000      1.000000      0.000000   \n",
       "25%     -122.432797     37.752874   2005.000000      3.000000      9.000000   \n",
       "50%     -122.416469     37.775421   2009.000000      6.000000     14.000000   \n",
       "75%     -122.406953     37.784401   2012.000000      9.000000     19.000000   \n",
       "max     -120.500000     90.000000   2015.000000     12.000000     23.000000   \n",
       "\n",
       "       Day_of_Week_Friday  Day_of_Week_Monday  Day_of_Week_Saturday  \\\n",
       "count        25000.000000        25000.000000          25000.000000   \n",
       "mean             0.155320            0.140960              0.139840   \n",
       "std              0.362217            0.347987              0.346828   \n",
       "min              0.000000            0.000000              0.000000   \n",
       "25%              0.000000            0.000000              0.000000   \n",
       "50%              0.000000            0.000000              0.000000   \n",
       "75%              0.000000            0.000000              0.000000   \n",
       "max              1.000000            1.000000              1.000000   \n",
       "\n",
       "       Day_of_Week_Sunday  Day_of_Week_Thursday  Day_of_Week_Tuesday  \\\n",
       "count        25000.000000          25000.000000         25000.000000   \n",
       "mean             0.132520              0.143160             0.141920   \n",
       "std              0.339062              0.350243             0.348975   \n",
       "min              0.000000              0.000000             0.000000   \n",
       "25%              0.000000              0.000000             0.000000   \n",
       "50%              0.000000              0.000000             0.000000   \n",
       "75%              0.000000              0.000000             0.000000   \n",
       "max              1.000000              1.000000             1.000000   \n",
       "\n",
       "       Day_of_Week_Wednesday  \n",
       "count           25000.000000  \n",
       "mean                0.146280  \n",
       "std                 0.353394  \n",
       "min                 0.000000  \n",
       "25%                 0.000000  \n",
       "50%                 0.000000  \n",
       "75%                 0.000000  \n",
       "max                 1.000000  "
      ]
     },
     "execution_count": 26,
     "metadata": {},
     "output_type": "execute_result"
    }
   ],
   "source": [
    "# use .describe() to see whether the location coordinates seem appropriate\n",
    "sf_crime.describe()"
   ]
  },
  {
   "cell_type": "markdown",
   "metadata": {
    "collapsed": true
   },
   "source": [
    "### 4. Set up a target and predictor matrix for predicting violent crime vs. non-violent crime vs. non-crimes.\n",
    "\n",
    "**Non-Violent Crimes:**\n",
    "- bad checks\n",
    "- bribery\n",
    "- drug/narcotic\n",
    "- drunkenness\n",
    "- embezzlement\n",
    "- forgery/counterfeiting\n",
    "- fraud\n",
    "- gambling\n",
    "- liquor\n",
    "- loitering \n",
    "- trespass\n",
    "\n",
    "**Non-Crimes:**\n",
    "- non-criminal\n",
    "- runaway\n",
    "- secondary codes\n",
    "- suspicious occ\n",
    "- warrants\n",
    "\n",
    "**Violent Crimes:**\n",
    "- everything else\n",
    "\n",
    "\n",
    "\n",
    "**What type of model do you need here? What is your baseline accuracy?**"
   ]
  },
  {
   "cell_type": "code",
   "execution_count": 34,
   "metadata": {},
   "outputs": [],
   "source": [
    "all_col = sf_crime.Category.unique()"
   ]
  },
  {
   "cell_type": "code",
   "execution_count": 35,
   "metadata": {},
   "outputs": [
    {
     "data": {
      "text/plain": [
       "array(['ARSON', 'LARCENY/THEFT', 'NON-CRIMINAL', 'BURGLARY',\n",
       "       'SUSPICIOUS OCC', 'VEHICLE THEFT', 'ASSAULT', 'FRAUD',\n",
       "       'DRUG/NARCOTIC', 'SECONDARY CODES', 'OTHER OFFENSES',\n",
       "       'MISSING PERSON', 'VANDALISM', 'ROBBERY', 'FORGERY/COUNTERFEITING',\n",
       "       'PROSTITUTION', 'WARRANTS', 'TRESPASS', 'DISORDERLY CONDUCT',\n",
       "       'SEX OFFENSES FORCIBLE', 'STOLEN PROPERTY',\n",
       "       'DRIVING UNDER THE INFLUENCE', 'KIDNAPPING', 'WEAPON LAWS',\n",
       "       'LOITERING', 'RECOVERED VEHICLE', 'RUNAWAY', 'DRUNKENNESS',\n",
       "       'LIQUOR LAWS', 'EXTORTION', 'FAMILY OFFENSES', 'EMBEZZLEMENT',\n",
       "       'SUICIDE', 'GAMBLING', 'BAD CHECKS', 'BRIBERY',\n",
       "       'SEX OFFENSES NON FORCIBLE', 'TREA'], dtype=object)"
      ]
     },
     "execution_count": 35,
     "metadata": {},
     "output_type": "execute_result"
    }
   ],
   "source": [
    "all_col"
   ]
  },
  {
   "cell_type": "code",
   "execution_count": 46,
   "metadata": {},
   "outputs": [
    {
     "name": "stdout",
     "output_type": "stream",
     "text": [
      "['ARSON', 'LARCENY/THEFT', 'NON-CRIMINAL', 'BURGLARY', 'SUSPICIOUS OCC', 'VEHICLE THEFT', 'ASSAULT', 'FRAUD', 'DRUG/NARCOTIC', 'SECONDARY CODES', 'OTHER OFFENSES', 'MISSING PERSON', 'VANDALISM', 'ROBBERY', 'FORGERY/COUNTERFEITING', 'PROSTITUTION', 'WARRANTS', 'TRESPASS', 'DISORDERLY CONDUCT', 'SEX OFFENSES FORCIBLE', 'STOLEN PROPERTY', 'DRIVING UNDER THE INFLUENCE', 'KIDNAPPING', 'WEAPON LAWS', 'LOITERING', 'RECOVERED VEHICLE', 'RUNAWAY', 'DRUNKENNESS', 'LIQUOR LAWS', 'EXTORTION', 'FAMILY OFFENSES', 'EMBEZZLEMENT', 'SUICIDE', 'GAMBLING', 'BAD CHECKS', 'BRIBERY', 'SEX OFFENSES NON FORCIBLE', 'TREA']\n"
     ]
    }
   ],
   "source": [
    "NVC = ['BAD CHECKS','BRIBERY','DRUG/NARCOTIC','DRUNKENNESS',\n",
    "     'EMBEZZLEMENT','FORGERY/COUNTERFEITING','FRAUD',\n",
    "     'GAMBLING','LIQUOR','LOITERING','TRESPASS','OTHER OFFENSES']\n",
    "\n",
    "NOT_C = ['NON-CRIMINAL','RUNAWAY','SECONDARY CODES','SUSPICIOUS OCC','WARRANTS']\n",
    "\n",
    "#use a list comprehension to get all the categories in sf_crime['Category'].unique() that are NOT in the lists above\n",
    "\n",
    "VC = []\n",
    "for x in all_col:\n",
    "    if x not in NVC:\n",
    "        VC.append(x)\n",
    "    elif x not in NOT_C:\n",
    "        VC.append(x)\n",
    "\n",
    "        \n",
    "print(VC)"
   ]
  },
  {
   "cell_type": "code",
   "execution_count": 48,
   "metadata": {},
   "outputs": [],
   "source": [
    "#add a column called 'Type' into your dataframe that stores whether the observation was:\n",
    "#Non-Violent, Violent, or Non-Crime\n",
    "#use .map()!\n",
    "def typecrime(x):\n",
    "    if x in NOT_C: return 'NOT_CRIMINAL'\n",
    "    if x in NVC: return 'NON-VIOLENT'\n",
    "    if x in VC: return 'VIOLENT_CRIME'\n",
    "\n",
    "sf_crime['Type']=sf_crime[\"Category\"].map(typecrime)"
   ]
  },
  {
   "cell_type": "code",
   "execution_count": 50,
   "metadata": {},
   "outputs": [
    {
     "data": {
      "text/html": [
       "<div>\n",
       "<style scoped>\n",
       "    .dataframe tbody tr th:only-of-type {\n",
       "        vertical-align: middle;\n",
       "    }\n",
       "\n",
       "    .dataframe tbody tr th {\n",
       "        vertical-align: top;\n",
       "    }\n",
       "\n",
       "    .dataframe thead th {\n",
       "        text-align: right;\n",
       "    }\n",
       "</style>\n",
       "<table border=\"1\" class=\"dataframe\">\n",
       "  <thead>\n",
       "    <tr style=\"text-align: right;\">\n",
       "      <th></th>\n",
       "      <th>Category</th>\n",
       "      <th>Descript</th>\n",
       "      <th>PdDistrict</th>\n",
       "      <th>Resolution</th>\n",
       "      <th>Address</th>\n",
       "      <th>X</th>\n",
       "      <th>Y</th>\n",
       "      <th>Year</th>\n",
       "      <th>Month</th>\n",
       "      <th>Hour</th>\n",
       "      <th>Time</th>\n",
       "      <th>Date</th>\n",
       "      <th>Day_of_Week_Friday</th>\n",
       "      <th>Day_of_Week_Monday</th>\n",
       "      <th>Day_of_Week_Saturday</th>\n",
       "      <th>Day_of_Week_Sunday</th>\n",
       "      <th>Day_of_Week_Thursday</th>\n",
       "      <th>Day_of_Week_Tuesday</th>\n",
       "      <th>Day_of_Week_Wednesday</th>\n",
       "      <th>Type</th>\n",
       "    </tr>\n",
       "  </thead>\n",
       "  <tbody>\n",
       "    <tr>\n",
       "      <th>0</th>\n",
       "      <td>ARSON</td>\n",
       "      <td>ARSON OF A VEHICLE</td>\n",
       "      <td>BAYVIEW</td>\n",
       "      <td>NONE</td>\n",
       "      <td>0 Block of HUNTERS PT EXPWY EX</td>\n",
       "      <td>-122.376945</td>\n",
       "      <td>37.733018</td>\n",
       "      <td>2003</td>\n",
       "      <td>3</td>\n",
       "      <td>23</td>\n",
       "      <td>23:27:00</td>\n",
       "      <td>2003-03-23</td>\n",
       "      <td>0</td>\n",
       "      <td>0</td>\n",
       "      <td>0</td>\n",
       "      <td>1</td>\n",
       "      <td>0</td>\n",
       "      <td>0</td>\n",
       "      <td>0</td>\n",
       "      <td>VIOLENT_CRIME</td>\n",
       "    </tr>\n",
       "    <tr>\n",
       "      <th>1</th>\n",
       "      <td>LARCENY/THEFT</td>\n",
       "      <td>PETTY THEFT FROM LOCKED AUTO</td>\n",
       "      <td>NORTHERN</td>\n",
       "      <td>NONE</td>\n",
       "      <td>0 Block of MARINA BL</td>\n",
       "      <td>-122.432952</td>\n",
       "      <td>37.805052</td>\n",
       "      <td>2006</td>\n",
       "      <td>3</td>\n",
       "      <td>6</td>\n",
       "      <td>06:45:00</td>\n",
       "      <td>2006-03-07</td>\n",
       "      <td>0</td>\n",
       "      <td>0</td>\n",
       "      <td>0</td>\n",
       "      <td>0</td>\n",
       "      <td>0</td>\n",
       "      <td>1</td>\n",
       "      <td>0</td>\n",
       "      <td>VIOLENT_CRIME</td>\n",
       "    </tr>\n",
       "    <tr>\n",
       "      <th>2</th>\n",
       "      <td>NON-CRIMINAL</td>\n",
       "      <td>LOST PROPERTY</td>\n",
       "      <td>SOUTHERN</td>\n",
       "      <td>NONE</td>\n",
       "      <td>800 Block of BRYANT ST</td>\n",
       "      <td>-122.403405</td>\n",
       "      <td>37.775421</td>\n",
       "      <td>2004</td>\n",
       "      <td>3</td>\n",
       "      <td>3</td>\n",
       "      <td>03:00:00</td>\n",
       "      <td>2004-03-06</td>\n",
       "      <td>0</td>\n",
       "      <td>0</td>\n",
       "      <td>1</td>\n",
       "      <td>0</td>\n",
       "      <td>0</td>\n",
       "      <td>0</td>\n",
       "      <td>0</td>\n",
       "      <td>NOT_CRIMINAL</td>\n",
       "    </tr>\n",
       "    <tr>\n",
       "      <th>3</th>\n",
       "      <td>BURGLARY</td>\n",
       "      <td>BURGLARY OF STORE, UNLAWFUL ENTRY</td>\n",
       "      <td>TARAVAL</td>\n",
       "      <td>ARREST, BOOKED</td>\n",
       "      <td>3200 Block of 20TH AV</td>\n",
       "      <td>-122.475647</td>\n",
       "      <td>37.728528</td>\n",
       "      <td>2011</td>\n",
       "      <td>12</td>\n",
       "      <td>12</td>\n",
       "      <td>12:10:00</td>\n",
       "      <td>2011-12-03</td>\n",
       "      <td>0</td>\n",
       "      <td>0</td>\n",
       "      <td>1</td>\n",
       "      <td>0</td>\n",
       "      <td>0</td>\n",
       "      <td>0</td>\n",
       "      <td>0</td>\n",
       "      <td>VIOLENT_CRIME</td>\n",
       "    </tr>\n",
       "    <tr>\n",
       "      <th>4</th>\n",
       "      <td>LARCENY/THEFT</td>\n",
       "      <td>PETTY THEFT OF PROPERTY</td>\n",
       "      <td>NORTHERN</td>\n",
       "      <td>NONE</td>\n",
       "      <td>POLK ST / BROADWAY ST</td>\n",
       "      <td>-122.421772</td>\n",
       "      <td>37.795946</td>\n",
       "      <td>2003</td>\n",
       "      <td>1</td>\n",
       "      <td>0</td>\n",
       "      <td>00:15:00</td>\n",
       "      <td>2003-01-10</td>\n",
       "      <td>1</td>\n",
       "      <td>0</td>\n",
       "      <td>0</td>\n",
       "      <td>0</td>\n",
       "      <td>0</td>\n",
       "      <td>0</td>\n",
       "      <td>0</td>\n",
       "      <td>VIOLENT_CRIME</td>\n",
       "    </tr>\n",
       "  </tbody>\n",
       "</table>\n",
       "</div>"
      ],
      "text/plain": [
       "        Category                           Descript PdDistrict  \\\n",
       "0          ARSON                 ARSON OF A VEHICLE    BAYVIEW   \n",
       "1  LARCENY/THEFT       PETTY THEFT FROM LOCKED AUTO   NORTHERN   \n",
       "2   NON-CRIMINAL                      LOST PROPERTY   SOUTHERN   \n",
       "3       BURGLARY  BURGLARY OF STORE, UNLAWFUL ENTRY    TARAVAL   \n",
       "4  LARCENY/THEFT            PETTY THEFT OF PROPERTY   NORTHERN   \n",
       "\n",
       "       Resolution                         Address           X          Y  \\\n",
       "0            NONE  0 Block of HUNTERS PT EXPWY EX -122.376945  37.733018   \n",
       "1            NONE            0 Block of MARINA BL -122.432952  37.805052   \n",
       "2            NONE          800 Block of BRYANT ST -122.403405  37.775421   \n",
       "3  ARREST, BOOKED           3200 Block of 20TH AV -122.475647  37.728528   \n",
       "4            NONE           POLK ST / BROADWAY ST -122.421772  37.795946   \n",
       "\n",
       "   Year  Month  Hour      Time        Date  Day_of_Week_Friday  \\\n",
       "0  2003      3    23  23:27:00  2003-03-23                   0   \n",
       "1  2006      3     6  06:45:00  2006-03-07                   0   \n",
       "2  2004      3     3  03:00:00  2004-03-06                   0   \n",
       "3  2011     12    12  12:10:00  2011-12-03                   0   \n",
       "4  2003      1     0  00:15:00  2003-01-10                   1   \n",
       "\n",
       "   Day_of_Week_Monday  Day_of_Week_Saturday  Day_of_Week_Sunday  \\\n",
       "0                   0                     0                   1   \n",
       "1                   0                     0                   0   \n",
       "2                   0                     1                   0   \n",
       "3                   0                     1                   0   \n",
       "4                   0                     0                   0   \n",
       "\n",
       "   Day_of_Week_Thursday  Day_of_Week_Tuesday  Day_of_Week_Wednesday  \\\n",
       "0                     0                    0                      0   \n",
       "1                     0                    1                      0   \n",
       "2                     0                    0                      0   \n",
       "3                     0                    0                      0   \n",
       "4                     0                    0                      0   \n",
       "\n",
       "            Type  \n",
       "0  VIOLENT_CRIME  \n",
       "1  VIOLENT_CRIME  \n",
       "2   NOT_CRIMINAL  \n",
       "3  VIOLENT_CRIME  \n",
       "4  VIOLENT_CRIME  "
      ]
     },
     "execution_count": 50,
     "metadata": {},
     "output_type": "execute_result"
    }
   ],
   "source": [
    "sf_crime.head()"
   ]
  },
  {
   "cell_type": "code",
   "execution_count": 56,
   "metadata": {},
   "outputs": [
    {
     "data": {
      "text/plain": [
       "VIOLENT_CRIME    0.54060\n",
       "NON-VIOLENT      0.25652\n",
       "NOT_CRIMINAL     0.20288\n",
       "Name: Type, dtype: float64"
      ]
     },
     "execution_count": 56,
     "metadata": {},
     "output_type": "execute_result"
    }
   ],
   "source": [
    "#find the baseline accuracy:\n",
    "sf_crime.Type.value_counts(\"VIOLENT_CRIME\")"
   ]
  },
  {
   "cell_type": "code",
   "execution_count": null,
   "metadata": {},
   "outputs": [],
   "source": []
  },
  {
   "cell_type": "code",
   "execution_count": 57,
   "metadata": {},
   "outputs": [],
   "source": [
    "#create a target array with 'Type'\n",
    "#y = sf_crime.pop(\"Type\")"
   ]
  },
  {
   "cell_type": "code",
   "execution_count": null,
   "metadata": {},
   "outputs": [],
   "source": [
    "#create a predictor matrix with 'Day_of_Week','Month','Year','PdDistrict','Hour', and 'Resolution'\n",
    "# X = "
   ]
  },
  {
   "cell_type": "code",
   "execution_count": null,
   "metadata": {},
   "outputs": [],
   "source": [
    "#use pd.get_dummies() to dummify your categorical variables\n",
    "#remember to drop a column!\n",
    "# X = "
   ]
  },
  {
   "cell_type": "markdown",
   "metadata": {},
   "source": [
    "### 5. Create a train/test/split and standardize the predictor matrices"
   ]
  },
  {
   "cell_type": "code",
   "execution_count": null,
   "metadata": {},
   "outputs": [],
   "source": [
    "#create a 50/50 train test split; \n",
    "#stratify based on your target variable\n",
    "#use a random state of 2018\n"
   ]
  },
  {
   "cell_type": "code",
   "execution_count": null,
   "metadata": {},
   "outputs": [],
   "source": [
    "#standardise your predictor matrices\n",
    "from sklearn.preprocessing import StandardScaler\n",
    "scaler = StandardScaler()\n"
   ]
  },
  {
   "cell_type": "markdown",
   "metadata": {},
   "source": [
    "### 6. Create a basic Logistic Regression model and use cross_val_score to assess its performance on your training data"
   ]
  },
  {
   "cell_type": "code",
   "execution_count": null,
   "metadata": {},
   "outputs": [],
   "source": [
    "#create a default Logistic Regression model and find its mean cross-validated accuracy with your training data\n",
    "#use 5 cross-validation folds\n"
   ]
  },
  {
   "cell_type": "code",
   "execution_count": null,
   "metadata": {},
   "outputs": [],
   "source": [
    "#create a confusion matrix \n",
    "#predictions = \n",
    "#confusion = confusion_matrix()\n",
    "#pd.DataFrame(confusion,\n",
    "#             columns=sorted(y_train.unique()),\n",
    "#             index=sorted(y_train.unique()))"
   ]
  },
  {
   "cell_type": "markdown",
   "metadata": {},
   "source": [
    "### 7. Find the optimal hyperparameters (optimal regularization) to predict your crime categories using GridSearchCV.\n",
    "\n",
    "> **Note:** Gridsearching can be done with `GridSearchCV` or `LogisticRegressionCV`. They operate differently - the gridsearch object is more general and can be applied to any model. The `LogisticRegressionCV` is specific to tuning the logistic regression hyperparameters. I recommend the logistic regression one, but the downside is that lasso and ridge must be searched separately. To start with, use `GridSearchCV`.\n",
    "\n",
    "**Reference for logistic regression regularization hyperparameters:**\n",
    "- `solver`: algorithm used for optimization (relevant for multiclass)\n",
    "    - Newton-cg - Handles Multinomial Loss, L2 only\n",
    "    - Sag - Handles Multinomial Loss, Large Datasets, L2 Only, Works best on scaled data\n",
    "    - lbfgs - Handles Multinomial Loss, L2 Only\n",
    "    - liblinear - Small Datasets, no Warm Starts\n",
    "- `C`: Regularization strengths (smaller values are stronger penalties)\n",
    "- `penalty`: `'l1'` - Lasso, `'l2'` - Ridge "
   ]
  },
  {
   "cell_type": "code",
   "execution_count": null,
   "metadata": {},
   "outputs": [],
   "source": [
    "#create a hyperparameter dictionary for a logistic regression\n"
   ]
  },
  {
   "cell_type": "code",
   "execution_count": null,
   "metadata": {},
   "outputs": [],
   "source": [
    "#create a gridsearch object using LogisticRegression() and the dictionary you created above\n"
   ]
  },
  {
   "cell_type": "code",
   "execution_count": null,
   "metadata": {},
   "outputs": [],
   "source": [
    "#fit the gridsearch object on your training data\n"
   ]
  },
  {
   "cell_type": "code",
   "execution_count": null,
   "metadata": {},
   "outputs": [],
   "source": [
    "#print out the best parameters\n"
   ]
  },
  {
   "cell_type": "code",
   "execution_count": null,
   "metadata": {},
   "outputs": [],
   "source": [
    "#print out the best mean cross-validated score\n"
   ]
  },
  {
   "cell_type": "code",
   "execution_count": null,
   "metadata": {},
   "outputs": [],
   "source": [
    "#assign your best estimator to the variable 'best_logreg'\n"
   ]
  },
  {
   "cell_type": "code",
   "execution_count": null,
   "metadata": {},
   "outputs": [],
   "source": [
    "#score your model on your testing data\n"
   ]
  },
  {
   "cell_type": "markdown",
   "metadata": {},
   "source": [
    "### 8. Print out a classification report for your best_logreg model"
   ]
  },
  {
   "cell_type": "code",
   "execution_count": null,
   "metadata": {},
   "outputs": [],
   "source": [
    "#use your test data to create your classification report\n",
    "#predictions = \n",
    "#print(classification_report())"
   ]
  },
  {
   "cell_type": "markdown",
   "metadata": {},
   "source": [
    "### 9. Explore LogisticRegressionCV.  \n",
    "\n",
    "With LogisticRegressionCV, you can access the best regularization strength for predicting each class! Read the documentation and see if you can implement a model with LogisticRegressionCV."
   ]
  },
  {
   "cell_type": "code",
   "execution_count": null,
   "metadata": {},
   "outputs": [],
   "source": [
    "# A:"
   ]
  }
 ],
 "metadata": {
  "anaconda-cloud": {},
  "kernelspec": {
   "display_name": "Python 3",
   "language": "python",
   "name": "python3"
  },
  "language_info": {
   "codemirror_mode": {
    "name": "ipython",
    "version": 3
   },
   "file_extension": ".py",
   "mimetype": "text/x-python",
   "name": "python",
   "nbconvert_exporter": "python",
   "pygments_lexer": "ipython3",
   "version": "3.7.3"
  },
  "toc": {
   "base_numbering": 1,
   "nav_menu": {},
   "number_sections": false,
   "sideBar": true,
   "skip_h1_title": false,
   "title_cell": "Table of Contents",
   "title_sidebar": "Contents",
   "toc_cell": false,
   "toc_position": {},
   "toc_section_display": "block",
   "toc_window_display": false
  },
  "varInspector": {
   "cols": {
    "lenName": 16,
    "lenType": 16,
    "lenVar": 40
   },
   "kernels_config": {
    "python": {
     "delete_cmd_postfix": "",
     "delete_cmd_prefix": "del ",
     "library": "var_list.py",
     "varRefreshCmd": "print(var_dic_list())"
    },
    "r": {
     "delete_cmd_postfix": ") ",
     "delete_cmd_prefix": "rm(",
     "library": "var_list.r",
     "varRefreshCmd": "cat(var_dic_list()) "
    }
   },
   "types_to_exclude": [
    "module",
    "function",
    "builtin_function_or_method",
    "instance",
    "_Feature"
   ],
   "window_display": false
  }
 },
 "nbformat": 4,
 "nbformat_minor": 1
}
