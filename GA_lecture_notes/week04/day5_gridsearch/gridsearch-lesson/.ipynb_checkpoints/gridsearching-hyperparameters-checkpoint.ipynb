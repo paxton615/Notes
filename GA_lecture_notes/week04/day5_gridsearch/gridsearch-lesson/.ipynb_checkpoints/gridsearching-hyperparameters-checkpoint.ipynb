{
 "cells": [
  {
   "cell_type": "markdown",
   "metadata": {},
   "source": [
    "<img src=\"http://imgur.com/1ZcRyrc.png\" style=\"float: left; margin: 20px; height: 55px\">\n",
    "\n",
    "# Introduction to Gridsearching Hyperparameters\n",
    "\n",
    "\n",
    "---\n",
    "\n",
    "<img src=\"gridsearch_meme.png\" style=\"width: 500px;\">"
   ]
  },
  {
   "cell_type": "markdown",
   "metadata": {},
   "source": [
    "## Learning Objectives\n",
    "\n",
    "\n",
    "### Core\n",
    "\n",
    "- Understand what the terms gridsearch and hyperparameter refer to\n",
    "- Understand how to manually build a gridsearching procedure\n",
    "- Apply sklearn's `GridSearchCV` object to optimize a scikit-learn model\n",
    "- Interpret the output from gridsearch\n",
    "\n",
    "### Target\n",
    "\n",
    "- Understand the pitfalls of searching large hyperparameter spaces\n",
    "- Understand how to set up parameter dictionaries for gridsearch\n",
    "\n",
    "\n",
    "### Stretch\n",
    "\n",
    "- Look at the documentation for GridSearchCV on scikit-learn's website, and investigate the different options that are available (for example, the attribute `.cv_results_`)"
   ]
  },
  {
   "cell_type": "markdown",
   "metadata": {
    "toc": true
   },
   "source": [
    "<h1>Lesson Guide<span class=\"tocSkip\"></span></h1>\n",
    "<div class=\"toc\"><ul class=\"toc-item\"><li><span><a href=\"#Introduction-to-Gridsearching-Hyperparameters\" data-toc-modified-id=\"Introduction-to-Gridsearching-Hyperparameters-1\">Introduction to Gridsearching Hyperparameters</a></span><ul class=\"toc-item\"><li><span><a href=\"#Learning-Objectives\" data-toc-modified-id=\"Learning-Objectives-1.1\">Learning Objectives</a></span><ul class=\"toc-item\"><li><span><a href=\"#Core\" data-toc-modified-id=\"Core-1.1.1\">Core</a></span></li><li><span><a href=\"#Target\" data-toc-modified-id=\"Target-1.1.2\">Target</a></span></li><li><span><a href=\"#Stretch\" data-toc-modified-id=\"Stretch-1.1.3\">Stretch</a></span></li></ul></li><li><span><a href=\"#Big-Picture:-What-part-of-the-modeling-process-are-we-focusing-on?\" data-toc-modified-id=\"Big-Picture:-What-part-of-the-modeling-process-are-we-focusing-on?-1.2\">Big Picture: What part of the modeling process are we focusing on?</a></span></li><li><span><a href=\"#Gridsearching-and-hyperparameters\" data-toc-modified-id=\"Gridsearching-and-hyperparameters-1.3\">Gridsearching and hyperparameters</a></span></li><li><span><a href=\"#Basketball-data\" data-toc-modified-id=\"Basketball-data-1.4\">Basketball data</a></span><ul class=\"toc-item\"><li><span><a href=\"#Load-the-data-and-create-the-target-and-predictor-matrix\" data-toc-modified-id=\"Load-the-data-and-create-the-target-and-predictor-matrix-1.4.1\">Load the data and create the target and predictor matrix</a></span></li><li><span><a href=\"#1.-Cleaning,-descriptive-stats,-correlation-heatmap,-plots-&amp;-visualizations.-Find-baseline-(accuracy).\" data-toc-modified-id=\"1.-Cleaning,-descriptive-stats,-correlation-heatmap,-plots-&amp;-visualizations.-Find-baseline-(accuracy).-1.4.2\">1. Cleaning, descriptive stats, correlation heatmap, plots &amp; visualizations. Find baseline (accuracy).</a></span></li><li><span><a href=\"#2.-Set-up-predictor-matrix-(X)-and-target-array-(y).--Dummify-if-necessary.\" data-toc-modified-id=\"2.-Set-up-predictor-matrix-(X)-and-target-array-(y).--Dummify-if-necessary.-1.4.3\">2. Set up predictor matrix (X) and target array (y).  Dummify if necessary.</a></span></li><li><span><a href=\"#3.-Train/test-split-and-StandardScaler(-).--In-this-case,-instead-of-using-train_test_split,-we're-going-to-use-the-most-recent-season-as-our-testing-data-(2016-data),-and-previous-seasons-as-our-training-data.\" data-toc-modified-id=\"3.-Train/test-split-and-StandardScaler(-).--In-this-case,-instead-of-using-train_test_split,-we're-going-to-use-the-most-recent-season-as-our-testing-data-(2016-data),-and-previous-seasons-as-our-training-data.-1.4.4\">3. Train/test split and <code>StandardScaler( )</code>.  In this case, instead of using train_test_split, we're going to use the most recent season as our testing data (2016 data), and previous seasons as our training data.</a></span></li><li><span><a href=\"#4.-Use-cross-validation-to-optimize-the-hyperparameters-for-your-model.\" data-toc-modified-id=\"4.-Use-cross-validation-to-optimize-the-hyperparameters-for-your-model.-1.4.5\">4. Use cross-validation to optimize the hyperparameters for your model.</a></span><ul class=\"toc-item\"><li><span><a href=\"#Gridsearch-pseudocode-for-our-KNN\" data-toc-modified-id=\"Gridsearch-pseudocode-for-our-KNN-1.4.5.1\">Gridsearch pseudocode for our KNN</a></span></li><li><span><a href=\"#Using-GridSearchCV\" data-toc-modified-id=\"Using-GridSearchCV-1.4.5.2\">Using <code>GridSearchCV</code></a></span></li><li><span><a href=\"#Examing-the-results-of-GridSearch(-)\" data-toc-modified-id=\"Examing-the-results-of-GridSearch(-)-1.4.5.3\">Examing the results of GridSearch( )</a></span></li></ul></li></ul></li><li><span><a href=\"#5.-Once-you're-happy-with-your-hyperparameters,-evaluate-your-model-on-the-training-and-test-data\" data-toc-modified-id=\"5.-Once-you're-happy-with-your-hyperparameters,-evaluate-your-model-on-the-training-and-test-data-1.5\">5. Once you're happy with your hyperparameters, evaluate your model on the training and test data</a></span><ul class=\"toc-item\"><li><span><a href=\"#6.-Evaluation\" data-toc-modified-id=\"6.-Evaluation-1.5.1\">6. Evaluation</a></span></li></ul></li><li><span><a href=\"#Gridsearch-regularization-penalties-with-logistic-regression\" data-toc-modified-id=\"Gridsearch-regularization-penalties-with-logistic-regression-1.6\">Gridsearch regularization penalties with logistic regression</a></span><ul class=\"toc-item\"><li><span><a href=\"#Analyze-the-feature-importances\" data-toc-modified-id=\"Analyze-the-feature-importances-1.6.1\">Analyze the feature importances</a></span></li></ul></li><li><span><a href=\"#Conclusions\" data-toc-modified-id=\"Conclusions-1.7\">Conclusions</a></span></li></ul></li></ul></div>"
   ]
  },
  {
   "cell_type": "code",
   "execution_count": 1,
   "metadata": {},
   "outputs": [],
   "source": [
    "import matplotlib.pyplot as plt\n",
    "import numpy as np\n",
    "import pandas as pd\n",
    "\n",
    "import seaborn as sns\n",
    "\n",
    "plt.style.use('fivethirtyeight')\n",
    "\n",
    "%matplotlib inline\n",
    "%config InlineBackend.figure_format = 'retina'"
   ]
  },
  {
   "cell_type": "markdown",
   "metadata": {},
   "source": [
    "## Big Picture: What part of the modeling process are we focusing on?\n",
    "\n",
    "---\n",
    "\n",
    "A general approach you can use for modeling questions would look like this:\n",
    "\n",
    "1. Cleaning, descriptive stats, correlation heatmap, plots & visualizations. Find baseline score.\n",
    "\n",
    "1. Set up predictor matrix (X) and target array (y).  Dummify if necessary.\n",
    "\n",
    "1. Train/test split and StandardScaler( ).\n",
    "\n",
    "1. Use cross-validation to optimise the hyperparameters for your model. You might try different types of models at this stage as well, and you might use GridSearchCV (or any of the other CVs like RidgeCV).\n",
    "\n",
    "1. Once you're happy with your hyperparameters, fit your model on your whole training data and test it on your whole testing data.\n",
    "\n",
    "1. Then you might want to \n",
    "    - evaluate the performance of the model (R2 score, accuracy, confusion matrix, etc)\n",
    "    - find the actual predictions that your model is providing and store them in a dataframe\n",
    "    - plot your predictions against your actual target variable to visualize how well your model performed\n",
    "    - investigate feature importance with .coef_ if you have a parametric model\n",
    "\n",
    "Now, we're learning more about 4."
   ]
  },
  {
   "cell_type": "markdown",
   "metadata": {},
   "source": [
    "## Gridsearching and hyperparameters\n",
    "\n",
    "---\n",
    "\n",
    "Models often have specifications that can be set. For example, when we choose a linear regression, we may decide to add a penalty to the loss function such as the Ridge or the Lasso. Those penalties require the regularization strength to be set. \n",
    "\n",
    "**Model parameters are called hyperparameters.**\n",
    "\n",
    "Hyperparameters are different than the parameters of the model resulting from a fit, such as the coefficients. The hyperparameters are set prior to the fit and determine the behavior of the model.\n",
    "\n",
    "There are often more than one kind of hyperparamter to set for a model. For example, in the KNN algorithm \n",
    "- we have a hyperparameter to set the number of neighbors \n",
    "- we also have a hyperparameter for the weights: uniform or distance\n",
    "\n",
    "We want to know the *optimal* hyperparameter settings, the set that results in the best model evaluation. \n",
    "\n",
    "**The search for the optimal set of hyperparameters is called gridsearching.**\n",
    "\n",
    "Gridsearching gets its name from the fact that we are searching over a **\"grid\" of parameters**. For example, imagine the `n_neighbors` hyperparameters on the x-axis and `weights` on the y-axis, and we need to test all points on the grid.\n",
    "\n",
    "**Gridsearching uses cross-validation internally to evaluate the performance of each set of hyperparameters.** More on this later."
   ]
  },
  {
   "cell_type": "markdown",
   "metadata": {},
   "source": [
    "## Basketball data\n",
    "\n",
    "---\n",
    "\n",
    "To explore the process of gridsearching over sets of hyperparameters, we will use some basketball data. The data below has statistics for 4 different seasons of NBA basketball: 2013-2016.\n",
    "- This data includes aggregate statistical data for each game \n",
    "- The data of each game is aggregated by match for all players\n",
    "- Scraped from https://www.basketball-reference.com\n",
    "- For some score explications, see https://en.wikipedia.org/wiki/Basketball_statistics\n",
    "\n",
    "Many of the columns in the dataset represent the mean of a statistic across the last 10 games, for example. Non-target statistics are for *prior* games, they do not include information about player performance in the current game.\n",
    "\n",
    "**We are interested in predicting whether the home team will win the game or not.** This is a classification problem."
   ]
  },
  {
   "cell_type": "markdown",
   "metadata": {},
   "source": [
    "### Load the data and create the target and predictor matrix\n",
    "- The target will be a binary column of whether the home team wins.\n",
    "- The predictors should be numeric columns.\n",
    "\n",
    "Exclude these columns from the predictor matrix:\n",
    "\n",
    "    ['GameId','GameDate','GameTime','HostName',\n",
    "     'GuestName','total_score','total_line','game_line',\n",
    "     'winner','loser','host_wins','Season']"
   ]
  },
  {
   "cell_type": "markdown",
   "metadata": {},
   "source": [
    "### 1. Cleaning, descriptive stats, correlation heatmap, plots & visualizations. Find baseline (accuracy)."
   ]
  },
  {
   "cell_type": "code",
   "execution_count": 2,
   "metadata": {},
   "outputs": [],
   "source": [
    "data = pd.read_csv('./datasets/basketball_data.csv')\n",
    "\n"
   ]
  },
  {
   "cell_type": "code",
   "execution_count": 3,
   "metadata": {},
   "outputs": [
    {
     "data": {
      "text/html": [
       "<div>\n",
       "<style scoped>\n",
       "    .dataframe tbody tr th:only-of-type {\n",
       "        vertical-align: middle;\n",
       "    }\n",
       "\n",
       "    .dataframe tbody tr th {\n",
       "        vertical-align: top;\n",
       "    }\n",
       "\n",
       "    .dataframe thead th {\n",
       "        text-align: right;\n",
       "    }\n",
       "</style>\n",
       "<table border=\"1\" class=\"dataframe\">\n",
       "  <thead>\n",
       "    <tr style=\"text-align: right;\">\n",
       "      <th></th>\n",
       "      <th>Season</th>\n",
       "      <th>GameId</th>\n",
       "      <th>GameDate</th>\n",
       "      <th>GameTime</th>\n",
       "      <th>HostName</th>\n",
       "      <th>GuestName</th>\n",
       "      <th>total_score</th>\n",
       "      <th>total_line</th>\n",
       "      <th>game_line</th>\n",
       "      <th>Host_HostRank</th>\n",
       "      <th>...</th>\n",
       "      <th>gPTS_avg10</th>\n",
       "      <th>gTS%_avg10</th>\n",
       "      <th>g3PAR_avg10</th>\n",
       "      <th>gFTr_avg10</th>\n",
       "      <th>gDRB%_avg10</th>\n",
       "      <th>gTRB%_avg10</th>\n",
       "      <th>gAST%_avg10</th>\n",
       "      <th>gSTL%_avg10</th>\n",
       "      <th>gBLK%_avg10</th>\n",
       "      <th>gDRtg_avg10</th>\n",
       "    </tr>\n",
       "  </thead>\n",
       "  <tbody>\n",
       "    <tr>\n",
       "      <th>0</th>\n",
       "      <td>2013</td>\n",
       "      <td>201212090LAL</td>\n",
       "      <td>2012-12-09</td>\n",
       "      <td>6:30 pm</td>\n",
       "      <td>Los Angeles Lakers</td>\n",
       "      <td>Utah Jazz</td>\n",
       "      <td>227.0</td>\n",
       "      <td>207.5</td>\n",
       "      <td>7.5</td>\n",
       "      <td>13</td>\n",
       "      <td>...</td>\n",
       "      <td>99.0</td>\n",
       "      <td>0.5206</td>\n",
       "      <td>0.2230</td>\n",
       "      <td>0.2981</td>\n",
       "      <td>69.22</td>\n",
       "      <td>50.05</td>\n",
       "      <td>61.57</td>\n",
       "      <td>8.63</td>\n",
       "      <td>10.31</td>\n",
       "      <td>110.87</td>\n",
       "    </tr>\n",
       "    <tr>\n",
       "      <th>1</th>\n",
       "      <td>2013</td>\n",
       "      <td>201212100PHI</td>\n",
       "      <td>2012-12-10</td>\n",
       "      <td>7:00 pm</td>\n",
       "      <td>Philadelphia 76ers</td>\n",
       "      <td>Detroit Pistons</td>\n",
       "      <td>201.0</td>\n",
       "      <td>186.5</td>\n",
       "      <td>5.5</td>\n",
       "      <td>13</td>\n",
       "      <td>...</td>\n",
       "      <td>90.3</td>\n",
       "      <td>0.5077</td>\n",
       "      <td>0.2144</td>\n",
       "      <td>0.3095</td>\n",
       "      <td>71.46</td>\n",
       "      <td>49.48</td>\n",
       "      <td>59.83</td>\n",
       "      <td>6.48</td>\n",
       "      <td>9.46</td>\n",
       "      <td>107.91</td>\n",
       "    </tr>\n",
       "    <tr>\n",
       "      <th>2</th>\n",
       "      <td>2013</td>\n",
       "      <td>201212100HOU</td>\n",
       "      <td>2012-12-10</td>\n",
       "      <td>7:00 pm</td>\n",
       "      <td>Houston Rockets</td>\n",
       "      <td>San Antonio Spurs</td>\n",
       "      <td>240.0</td>\n",
       "      <td>212.0</td>\n",
       "      <td>-7.0</td>\n",
       "      <td>12</td>\n",
       "      <td>...</td>\n",
       "      <td>108.0</td>\n",
       "      <td>0.5915</td>\n",
       "      <td>0.2743</td>\n",
       "      <td>0.2518</td>\n",
       "      <td>74.26</td>\n",
       "      <td>50.99</td>\n",
       "      <td>61.82</td>\n",
       "      <td>8.30</td>\n",
       "      <td>6.85</td>\n",
       "      <td>101.41</td>\n",
       "    </tr>\n",
       "    <tr>\n",
       "      <th>3</th>\n",
       "      <td>2013</td>\n",
       "      <td>201212110BRK</td>\n",
       "      <td>2012-12-11</td>\n",
       "      <td>7:00 pm</td>\n",
       "      <td>Brooklyn Nets</td>\n",
       "      <td>New York Knicks</td>\n",
       "      <td>197.0</td>\n",
       "      <td>195.5</td>\n",
       "      <td>-3.5</td>\n",
       "      <td>12</td>\n",
       "      <td>...</td>\n",
       "      <td>100.3</td>\n",
       "      <td>0.5473</td>\n",
       "      <td>0.3595</td>\n",
       "      <td>0.2544</td>\n",
       "      <td>74.23</td>\n",
       "      <td>47.88</td>\n",
       "      <td>52.07</td>\n",
       "      <td>9.31</td>\n",
       "      <td>7.64</td>\n",
       "      <td>109.24</td>\n",
       "    </tr>\n",
       "    <tr>\n",
       "      <th>4</th>\n",
       "      <td>2013</td>\n",
       "      <td>201212110DET</td>\n",
       "      <td>2012-12-11</td>\n",
       "      <td>7:30 pm</td>\n",
       "      <td>Detroit Pistons</td>\n",
       "      <td>Denver Nuggets</td>\n",
       "      <td>195.0</td>\n",
       "      <td>203.5</td>\n",
       "      <td>-4.5</td>\n",
       "      <td>11</td>\n",
       "      <td>...</td>\n",
       "      <td>101.1</td>\n",
       "      <td>0.5605</td>\n",
       "      <td>0.2173</td>\n",
       "      <td>0.3177</td>\n",
       "      <td>68.45</td>\n",
       "      <td>50.40</td>\n",
       "      <td>56.33</td>\n",
       "      <td>7.67</td>\n",
       "      <td>7.83</td>\n",
       "      <td>114.86</td>\n",
       "    </tr>\n",
       "  </tbody>\n",
       "</table>\n",
       "<p>5 rows × 96 columns</p>\n",
       "</div>"
      ],
      "text/plain": [
       "   Season        GameId    GameDate GameTime            HostName  \\\n",
       "0    2013  201212090LAL  2012-12-09  6:30 pm  Los Angeles Lakers   \n",
       "1    2013  201212100PHI  2012-12-10  7:00 pm  Philadelphia 76ers   \n",
       "2    2013  201212100HOU  2012-12-10  7:00 pm     Houston Rockets   \n",
       "3    2013  201212110BRK  2012-12-11  7:00 pm       Brooklyn Nets   \n",
       "4    2013  201212110DET  2012-12-11  7:30 pm     Detroit Pistons   \n",
       "\n",
       "           GuestName  total_score  total_line  game_line  Host_HostRank  ...  \\\n",
       "0          Utah Jazz        227.0       207.5        7.5             13  ...   \n",
       "1    Detroit Pistons        201.0       186.5        5.5             13  ...   \n",
       "2  San Antonio Spurs        240.0       212.0       -7.0             12  ...   \n",
       "3    New York Knicks        197.0       195.5       -3.5             12  ...   \n",
       "4     Denver Nuggets        195.0       203.5       -4.5             11  ...   \n",
       "\n",
       "   gPTS_avg10  gTS%_avg10  g3PAR_avg10  gFTr_avg10  gDRB%_avg10  gTRB%_avg10  \\\n",
       "0        99.0      0.5206       0.2230      0.2981        69.22        50.05   \n",
       "1        90.3      0.5077       0.2144      0.3095        71.46        49.48   \n",
       "2       108.0      0.5915       0.2743      0.2518        74.26        50.99   \n",
       "3       100.3      0.5473       0.3595      0.2544        74.23        47.88   \n",
       "4       101.1      0.5605       0.2173      0.3177        68.45        50.40   \n",
       "\n",
       "   gAST%_avg10  gSTL%_avg10 gBLK%_avg10 gDRtg_avg10  \n",
       "0        61.57         8.63       10.31      110.87  \n",
       "1        59.83         6.48        9.46      107.91  \n",
       "2        61.82         8.30        6.85      101.41  \n",
       "3        52.07         9.31        7.64      109.24  \n",
       "4        56.33         7.67        7.83      114.86  \n",
       "\n",
       "[5 rows x 96 columns]"
      ]
     },
     "execution_count": 3,
     "metadata": {},
     "output_type": "execute_result"
    }
   ],
   "source": [
    "data.head()\n",
    "\n"
   ]
  },
  {
   "cell_type": "code",
   "execution_count": 4,
   "metadata": {},
   "outputs": [
    {
     "data": {
      "text/plain": [
       "Index(['Season', 'GameId', 'GameDate', 'GameTime', 'HostName', 'GuestName',\n",
       "       'total_score', 'total_line', 'game_line', 'Host_HostRank',\n",
       "       'Host_GameRank', 'Guest_GuestRank', 'Guest_GameRank', 'host_win_count',\n",
       "       'host_lose_count', 'guest_win_count', 'guest_lose_count', 'game_behind',\n",
       "       'winner', 'loser', 'host_place_streak', 'guest_place_streak',\n",
       "       'hq1_avg10', 'hq2_avg10', 'hq3_avg10', 'hq4_avg10', 'hPace_avg10',\n",
       "       'heFG%_avg10', 'hTOV%_avg10', 'hORB%_avg10', 'hFT/FGA_avg10',\n",
       "       'hORtg_avg10', 'hFG_avg10', 'hFGA_avg10', 'hFG%_avg10', 'h3P_avg10',\n",
       "       'h3PA_avg10', 'h3P%_avg10', 'hFT_avg10', 'hFTA_avg10', 'hFT%_avg10',\n",
       "       'hORB_avg10', 'hDRB_avg10', 'hTRB_avg10', 'hAST_avg10', 'hSTL_avg10',\n",
       "       'hBLK_avg10', 'hTOV_avg10', 'hPF_avg10', 'hPTS_avg10', 'hTS%_avg10',\n",
       "       'h3PAR_avg10', 'hFTr_avg10', 'hDRB%_avg10', 'hTRB%_avg10',\n",
       "       'hAST%_avg10', 'hSTL%_avg10', 'hBLK%_avg10', 'hDRtg_avg10', 'gq1_avg10',\n",
       "       'gq2_avg10', 'gq3_avg10', 'gq4_avg10', 'gPace_avg10', 'geFG%_avg10',\n",
       "       'gTOV%_avg10', 'gORB%_avg10', 'gFT/FGA_avg10', 'gORtg_avg10',\n",
       "       'gFG_avg10', 'gFGA_avg10', 'gFG%_avg10', 'g3P_avg10', 'g3PA_avg10',\n",
       "       'g3P%_avg10', 'gFT_avg10', 'gFTA_avg10', 'gFT%_avg10', 'gORB_avg10',\n",
       "       'gDRB_avg10', 'gTRB_avg10', 'gAST_avg10', 'gSTL_avg10', 'gBLK_avg10',\n",
       "       'gTOV_avg10', 'gPF_avg10', 'gPTS_avg10', 'gTS%_avg10', 'g3PAR_avg10',\n",
       "       'gFTr_avg10', 'gDRB%_avg10', 'gTRB%_avg10', 'gAST%_avg10',\n",
       "       'gSTL%_avg10', 'gBLK%_avg10', 'gDRtg_avg10'],\n",
       "      dtype='object')"
      ]
     },
     "execution_count": 4,
     "metadata": {},
     "output_type": "execute_result"
    }
   ],
   "source": [
    "data.columns\n",
    "\n"
   ]
  },
  {
   "cell_type": "code",
   "execution_count": 5,
   "metadata": {},
   "outputs": [
    {
     "data": {
      "text/plain": [
       "(3768, 96)"
      ]
     },
     "execution_count": 5,
     "metadata": {},
     "output_type": "execute_result"
    }
   ],
   "source": [
    "data.shape\n",
    "\n"
   ]
  },
  {
   "cell_type": "code",
   "execution_count": 6,
   "metadata": {},
   "outputs": [
    {
     "data": {
      "text/plain": [
       "2014    998\n",
       "2016    985\n",
       "2015    984\n",
       "2013    801\n",
       "Name: Season, dtype: int64"
      ]
     },
     "execution_count": 6,
     "metadata": {},
     "output_type": "execute_result"
    }
   ],
   "source": [
    "data.Season.value_counts()\n",
    "\n"
   ]
  },
  {
   "cell_type": "code",
   "execution_count": 7,
   "metadata": {},
   "outputs": [
    {
     "data": {
      "text/plain": [
       "0             Utah Jazz\n",
       "1    Philadelphia 76ers\n",
       "2     San Antonio Spurs\n",
       "3       New York Knicks\n",
       "4        Denver Nuggets\n",
       "Name: winner, dtype: object"
      ]
     },
     "execution_count": 7,
     "metadata": {},
     "output_type": "execute_result"
    }
   ],
   "source": [
    "data.winner.head()\n",
    "\n"
   ]
  },
  {
   "cell_type": "code",
   "execution_count": 8,
   "metadata": {},
   "outputs": [],
   "source": [
    "# let's create a column called 'host_wins' which will indicate\n",
    "# whether the host team won the game or not\n",
    "data['host_wins'] = (data['HostName'] == data['winner']).astype(int)\n",
    "\n"
   ]
  },
  {
   "cell_type": "code",
   "execution_count": 9,
   "metadata": {},
   "outputs": [
    {
     "data": {
      "text/plain": [
       "1    2239\n",
       "0    1529\n",
       "Name: host_wins, dtype: int64"
      ]
     },
     "execution_count": 9,
     "metadata": {},
     "output_type": "execute_result"
    }
   ],
   "source": [
    "data['host_wins'].value_counts()\n",
    "\n"
   ]
  },
  {
   "cell_type": "code",
   "execution_count": 10,
   "metadata": {},
   "outputs": [
    {
     "data": {
      "text/plain": [
       "0.5942144373673036"
      ]
     },
     "execution_count": 10,
     "metadata": {},
     "output_type": "execute_result"
    }
   ],
   "source": [
    "# let's look at the baseline accuracy for this data\n",
    "baseline = data['host_wins'].value_counts(normalize=True).max()\n",
    "baseline\n",
    "\n"
   ]
  },
  {
   "cell_type": "markdown",
   "metadata": {},
   "source": [
    "At this point, we could definitely do a bit more EDA!  We could\n",
    "- use `.describe()` to find some descriptive statistics\n",
    "- create some plots and visualizations to better understand the shapes and relationships in our data\n",
    "- use a correlation heatmap to help us find variables that could predict `host_wins`\n",
    "\n",
    "... but we're going to skip that for this lesson!  Be aware that if you're undertaking your own data investigation, skipping EDA is a bad idea. (Obviously.)  "
   ]
  },
  {
   "cell_type": "markdown",
   "metadata": {},
   "source": [
    "### 2. Set up predictor matrix (X) and target array (y).  Dummify if necessary."
   ]
  },
  {
   "cell_type": "code",
   "execution_count": 11,
   "metadata": {},
   "outputs": [],
   "source": [
    "predictors = [c for c in data.columns if c not in\n",
    "              ['GameId', 'GameDate', 'GameTime', 'HostName',\n",
    "               'GuestName', 'total_score', 'total_line', 'game_line',\n",
    "               'winner', 'loser', 'host_wins', 'Season']]\n",
    "X = data[predictors]\n",
    "y = data['host_wins']"
   ]
  },
  {
   "cell_type": "code",
   "execution_count": 12,
   "metadata": {},
   "outputs": [
    {
     "data": {
      "text/html": [
       "<div>\n",
       "<style scoped>\n",
       "    .dataframe tbody tr th:only-of-type {\n",
       "        vertical-align: middle;\n",
       "    }\n",
       "\n",
       "    .dataframe tbody tr th {\n",
       "        vertical-align: top;\n",
       "    }\n",
       "\n",
       "    .dataframe thead th {\n",
       "        text-align: right;\n",
       "    }\n",
       "</style>\n",
       "<table border=\"1\" class=\"dataframe\">\n",
       "  <thead>\n",
       "    <tr style=\"text-align: right;\">\n",
       "      <th></th>\n",
       "      <th>Host_HostRank</th>\n",
       "      <th>Host_GameRank</th>\n",
       "      <th>Guest_GuestRank</th>\n",
       "      <th>Guest_GameRank</th>\n",
       "      <th>host_win_count</th>\n",
       "      <th>host_lose_count</th>\n",
       "      <th>guest_win_count</th>\n",
       "      <th>guest_lose_count</th>\n",
       "      <th>game_behind</th>\n",
       "      <th>host_place_streak</th>\n",
       "      <th>...</th>\n",
       "      <th>gPTS_avg10</th>\n",
       "      <th>gTS%_avg10</th>\n",
       "      <th>g3PAR_avg10</th>\n",
       "      <th>gFTr_avg10</th>\n",
       "      <th>gDRB%_avg10</th>\n",
       "      <th>gTRB%_avg10</th>\n",
       "      <th>gAST%_avg10</th>\n",
       "      <th>gSTL%_avg10</th>\n",
       "      <th>gBLK%_avg10</th>\n",
       "      <th>gDRtg_avg10</th>\n",
       "    </tr>\n",
       "  </thead>\n",
       "  <tbody>\n",
       "    <tr>\n",
       "      <th>0</th>\n",
       "      <td>13</td>\n",
       "      <td>21</td>\n",
       "      <td>13</td>\n",
       "      <td>22</td>\n",
       "      <td>9</td>\n",
       "      <td>11</td>\n",
       "      <td>11</td>\n",
       "      <td>10</td>\n",
       "      <td>-1.5</td>\n",
       "      <td>1</td>\n",
       "      <td>...</td>\n",
       "      <td>99.0</td>\n",
       "      <td>0.5206</td>\n",
       "      <td>0.2230</td>\n",
       "      <td>0.2981</td>\n",
       "      <td>69.22</td>\n",
       "      <td>50.05</td>\n",
       "      <td>61.57</td>\n",
       "      <td>8.63</td>\n",
       "      <td>10.31</td>\n",
       "      <td>110.87</td>\n",
       "    </tr>\n",
       "    <tr>\n",
       "      <th>1</th>\n",
       "      <td>13</td>\n",
       "      <td>21</td>\n",
       "      <td>13</td>\n",
       "      <td>23</td>\n",
       "      <td>11</td>\n",
       "      <td>9</td>\n",
       "      <td>7</td>\n",
       "      <td>15</td>\n",
       "      <td>5.0</td>\n",
       "      <td>1</td>\n",
       "      <td>...</td>\n",
       "      <td>90.3</td>\n",
       "      <td>0.5077</td>\n",
       "      <td>0.2144</td>\n",
       "      <td>0.3095</td>\n",
       "      <td>71.46</td>\n",
       "      <td>49.48</td>\n",
       "      <td>59.83</td>\n",
       "      <td>6.48</td>\n",
       "      <td>9.46</td>\n",
       "      <td>107.91</td>\n",
       "    </tr>\n",
       "    <tr>\n",
       "      <th>2</th>\n",
       "      <td>12</td>\n",
       "      <td>20</td>\n",
       "      <td>13</td>\n",
       "      <td>22</td>\n",
       "      <td>9</td>\n",
       "      <td>10</td>\n",
       "      <td>17</td>\n",
       "      <td>4</td>\n",
       "      <td>-7.0</td>\n",
       "      <td>2</td>\n",
       "      <td>...</td>\n",
       "      <td>108.0</td>\n",
       "      <td>0.5915</td>\n",
       "      <td>0.2743</td>\n",
       "      <td>0.2518</td>\n",
       "      <td>74.26</td>\n",
       "      <td>50.99</td>\n",
       "      <td>61.82</td>\n",
       "      <td>8.30</td>\n",
       "      <td>6.85</td>\n",
       "      <td>101.41</td>\n",
       "    </tr>\n",
       "    <tr>\n",
       "      <th>3</th>\n",
       "      <td>12</td>\n",
       "      <td>20</td>\n",
       "      <td>13</td>\n",
       "      <td>21</td>\n",
       "      <td>11</td>\n",
       "      <td>8</td>\n",
       "      <td>15</td>\n",
       "      <td>5</td>\n",
       "      <td>-3.5</td>\n",
       "      <td>4</td>\n",
       "      <td>...</td>\n",
       "      <td>100.3</td>\n",
       "      <td>0.5473</td>\n",
       "      <td>0.3595</td>\n",
       "      <td>0.2544</td>\n",
       "      <td>74.23</td>\n",
       "      <td>47.88</td>\n",
       "      <td>52.07</td>\n",
       "      <td>9.31</td>\n",
       "      <td>7.64</td>\n",
       "      <td>109.24</td>\n",
       "    </tr>\n",
       "    <tr>\n",
       "      <th>4</th>\n",
       "      <td>11</td>\n",
       "      <td>24</td>\n",
       "      <td>16</td>\n",
       "      <td>22</td>\n",
       "      <td>7</td>\n",
       "      <td>16</td>\n",
       "      <td>10</td>\n",
       "      <td>11</td>\n",
       "      <td>-4.0</td>\n",
       "      <td>1</td>\n",
       "      <td>...</td>\n",
       "      <td>101.1</td>\n",
       "      <td>0.5605</td>\n",
       "      <td>0.2173</td>\n",
       "      <td>0.3177</td>\n",
       "      <td>68.45</td>\n",
       "      <td>50.40</td>\n",
       "      <td>56.33</td>\n",
       "      <td>7.67</td>\n",
       "      <td>7.83</td>\n",
       "      <td>114.86</td>\n",
       "    </tr>\n",
       "  </tbody>\n",
       "</table>\n",
       "<p>5 rows × 85 columns</p>\n",
       "</div>"
      ],
      "text/plain": [
       "   Host_HostRank  Host_GameRank  Guest_GuestRank  Guest_GameRank  \\\n",
       "0             13             21               13              22   \n",
       "1             13             21               13              23   \n",
       "2             12             20               13              22   \n",
       "3             12             20               13              21   \n",
       "4             11             24               16              22   \n",
       "\n",
       "   host_win_count  host_lose_count  guest_win_count  guest_lose_count  \\\n",
       "0               9               11               11                10   \n",
       "1              11                9                7                15   \n",
       "2               9               10               17                 4   \n",
       "3              11                8               15                 5   \n",
       "4               7               16               10                11   \n",
       "\n",
       "   game_behind  host_place_streak  ...  gPTS_avg10  gTS%_avg10  g3PAR_avg10  \\\n",
       "0         -1.5                  1  ...        99.0      0.5206       0.2230   \n",
       "1          5.0                  1  ...        90.3      0.5077       0.2144   \n",
       "2         -7.0                  2  ...       108.0      0.5915       0.2743   \n",
       "3         -3.5                  4  ...       100.3      0.5473       0.3595   \n",
       "4         -4.0                  1  ...       101.1      0.5605       0.2173   \n",
       "\n",
       "   gFTr_avg10  gDRB%_avg10  gTRB%_avg10  gAST%_avg10  gSTL%_avg10  \\\n",
       "0      0.2981        69.22        50.05        61.57         8.63   \n",
       "1      0.3095        71.46        49.48        59.83         6.48   \n",
       "2      0.2518        74.26        50.99        61.82         8.30   \n",
       "3      0.2544        74.23        47.88        52.07         9.31   \n",
       "4      0.3177        68.45        50.40        56.33         7.67   \n",
       "\n",
       "   gBLK%_avg10  gDRtg_avg10  \n",
       "0        10.31       110.87  \n",
       "1         9.46       107.91  \n",
       "2         6.85       101.41  \n",
       "3         7.64       109.24  \n",
       "4         7.83       114.86  \n",
       "\n",
       "[5 rows x 85 columns]"
      ]
     },
     "execution_count": 12,
     "metadata": {},
     "output_type": "execute_result"
    }
   ],
   "source": [
    "X.head()"
   ]
  },
  {
   "cell_type": "markdown",
   "metadata": {},
   "source": [
    "### 3. Train/test split and `StandardScaler( )`.  In this case, instead of using train_test_split, we're going to use the most recent season as our testing data (2016 data), and previous seasons as our training data."
   ]
  },
  {
   "cell_type": "code",
   "execution_count": 13,
   "metadata": {},
   "outputs": [],
   "source": [
    "from sklearn.preprocessing import StandardScaler"
   ]
  },
  {
   "cell_type": "code",
   "execution_count": 14,
   "metadata": {},
   "outputs": [
    {
     "data": {
      "text/plain": [
       "2014    998\n",
       "2016    985\n",
       "2015    984\n",
       "2013    801\n",
       "Name: Season, dtype: int64"
      ]
     },
     "execution_count": 14,
     "metadata": {},
     "output_type": "execute_result"
    }
   ],
   "source": [
    "data['Season'].value_counts()"
   ]
  },
  {
   "cell_type": "code",
   "execution_count": 15,
   "metadata": {},
   "outputs": [],
   "source": [
    "# create your training and testing sets\n",
    "# or, you could use X[data['Season]<2016]\n",
    "X_train = X[data['Season'].isin([2013, 2014, 2015])]\n",
    "X_test = X[data['Season'] == 2016]\n",
    "\n",
    "y_train = y[data['Season'].isin([2013, 2014, 2015])]\n",
    "y_test = y[data['Season'] == 2016]"
   ]
  },
  {
   "cell_type": "code",
   "execution_count": 16,
   "metadata": {},
   "outputs": [
    {
     "name": "stdout",
     "output_type": "stream",
     "text": [
      "0.5910887531440892\n",
      "0.6030456852791878\n"
     ]
    }
   ],
   "source": [
    "# training and test set baseline\n",
    "print(y_train.value_counts(normalize=True).max())\n",
    "print(y_test.value_counts(normalize=True).max())"
   ]
  },
  {
   "cell_type": "code",
   "execution_count": 17,
   "metadata": {},
   "outputs": [
    {
     "name": "stderr",
     "output_type": "stream",
     "text": [
      "/anaconda3/lib/python3.7/site-packages/sklearn/preprocessing/data.py:645: DataConversionWarning: Data with input dtype int64, float64 were all converted to float64 by StandardScaler.\n",
      "  return self.partial_fit(X, y)\n",
      "/anaconda3/lib/python3.7/site-packages/sklearn/base.py:464: DataConversionWarning: Data with input dtype int64, float64 were all converted to float64 by StandardScaler.\n",
      "  return self.fit(X, **fit_params).transform(X)\n",
      "/anaconda3/lib/python3.7/site-packages/ipykernel_launcher.py:4: DataConversionWarning: Data with input dtype int64, float64 were all converted to float64 by StandardScaler.\n",
      "  after removing the cwd from sys.path.\n"
     ]
    }
   ],
   "source": [
    "# standardise your predictor matrices\n",
    "scaler = StandardScaler()\n",
    "X_train_std = scaler.fit_transform(X_train)\n",
    "X_test_std = scaler.transform(X_test)"
   ]
  },
  {
   "cell_type": "markdown",
   "metadata": {},
   "source": [
    "### 4. Use cross-validation to optimize the hyperparameters for your model. \n",
    "\n",
    "\n",
    "> You might try different types of models at this stage as well, and you might use `GridSearchCV` (or any of the other CVs like `RidgeCV`)."
   ]
  },
  {
   "cell_type": "markdown",
   "metadata": {},
   "source": [
    "Below we can fit a default `KNeighborsClassifier` to predict `host_wins`.\n",
    "\n",
    "We can use cross-validation with our training data to see how well it performs."
   ]
  },
  {
   "cell_type": "code",
   "execution_count": 18,
   "metadata": {},
   "outputs": [],
   "source": [
    "from sklearn.neighbors import KNeighborsClassifier\n",
    "from sklearn.model_selection import cross_val_score"
   ]
  },
  {
   "cell_type": "code",
   "execution_count": 19,
   "metadata": {},
   "outputs": [],
   "source": [
    "# set up a default KNN model and cross-validate it on the training data\n",
    "# use 5-fold cross-validation\n",
    "knn = KNeighborsClassifier(n_neighbors=15)"
   ]
  },
  {
   "cell_type": "code",
   "execution_count": 20,
   "metadata": {},
   "outputs": [
    {
     "name": "stdout",
     "output_type": "stream",
     "text": [
      "Mean cross-validated accuracy for default knn: 0.606901050075559\n",
      "Baseline accuracy: 0.5910887531440892\n"
     ]
    }
   ],
   "source": [
    "# find the mean for your cross_val_scores\n",
    "knn_cv_accuracy = cross_val_score(knn, X_train_std, y_train, cv=5).mean()\n",
    "print('Mean cross-validated accuracy for default knn:', knn_cv_accuracy)\n",
    "print('Baseline accuracy:', y_train.value_counts(normalize=True).max())"
   ]
  },
  {
   "cell_type": "code",
   "execution_count": 21,
   "metadata": {},
   "outputs": [
    {
     "data": {
      "text/plain": [
       "KNeighborsClassifier(algorithm='auto', leaf_size=30, metric='minkowski',\n",
       "           metric_params=None, n_jobs=None, n_neighbors=15, p=2,\n",
       "           weights='uniform')"
      ]
     },
     "execution_count": 21,
     "metadata": {},
     "output_type": "execute_result"
    }
   ],
   "source": [
    "knn.fit(X_train_std, y_train)"
   ]
  },
  {
   "cell_type": "code",
   "execution_count": 22,
   "metadata": {},
   "outputs": [
    {
     "data": {
      "text/plain": [
       "0.6294416243654822"
      ]
     },
     "execution_count": 22,
     "metadata": {},
     "output_type": "execute_result"
    }
   ],
   "source": [
    "knn.score(X_test_std, y_test)"
   ]
  },
  {
   "cell_type": "markdown",
   "metadata": {},
   "source": [
    "We only used the default kNN. But what if we changed the number of neighbors? The weighting? The distance metric?\n",
    "\n",
    "These are all hyperparameters of the KNN. How would we do this manually? We would need to evaluate the set of hyperparameters that perform best during cross validation. The quality of the selected model we could judge by evaluating its performance on the test set."
   ]
  },
  {
   "cell_type": "markdown",
   "metadata": {},
   "source": [
    "#### Gridsearch pseudocode for our KNN\n",
    "\n",
    "```python\n",
    "accuracies = {}\n",
    "for k in neighbors_to_test:\n",
    "    for w in weightings_to_test:\n",
    "        for d in distance_metrics_to_test:\n",
    "            hyperparam_set = (k, w, d)\n",
    "            knn = KNeighborsClassifier(n_neighbors=n, weights=w, metric=d)\n",
    "            cv_accuracies = cross_val_score(knn, X_train_std, y_train, cv=5)\n",
    "            accuracies[hyperparam_set] = np.mean(cv_accuracies)\n",
    "```\n",
    "\n",
    "In the pseudocode above, we would find the key in the dictionary (a hyperparameter set) that has the largest value (mean cross-validated accuracy)."
   ]
  },
  {
   "cell_type": "markdown",
   "metadata": {},
   "source": [
    "#### Using `GridSearchCV`\n",
    "\n",
    "This would be an annoying process to have to do manually. Luckily sklearn comes with a convenience class for performing gridsearch:\n",
    "\n",
    "```python\n",
    "from sklearn.model_selection import GridSearchCV\n",
    "```\n",
    "\n",
    "`GridSearchCV` has a handful of important arguments:\n",
    "\n",
    "| Argument | Description |\n",
    "| --- | ---|\n",
    "| **`estimator`** | The sklearn instance of the model to fit on |\n",
    "| **`param_grid`** | A dictionary where keys are hyperparameters for the model and values are lists of values to test |\n",
    "| **`cv`** | The number of internal cross-validation folds to run for each set of hyperparameters |\n",
    "| **`n_jobs`** | How many cores to use on your computer to run the folds (-1 means use all cores) |\n",
    "| **`verbose`** | How much output to display (0 is none, 1 is limited, 2 is printouts for every internal fit) |\n",
    "| **`return_train_score`** | Whether to save intermediate results |\n",
    "\n",
    "\n",
    "Below is an example for how one might set up the gridsearch for our KNN:\n",
    "\n",
    "```python\n",
    "knn_parameters = {\n",
    "    'n_neighbors':[1, 3, 5, 7, 9],\n",
    "    'weights':['uniform', 'distance']\n",
    "}\n",
    "knn = KNeighborsClassifier()\n",
    "knn_gridsearcher = GridSearchCV(knn, knn_parameters, cv=4, verbose=1)\n",
    "knn_gridsearcher.fit(X_train_std, y_train)\n",
    "```\n",
    "\n",
    "**Try out the sklearn gridsearch below on the training data.**"
   ]
  },
  {
   "cell_type": "code",
   "execution_count": 23,
   "metadata": {},
   "outputs": [],
   "source": [
    "from sklearn.model_selection import GridSearchCV"
   ]
  },
  {
   "cell_type": "code",
   "execution_count": 24,
   "metadata": {
    "scrolled": true
   },
   "outputs": [
    {
     "name": "stdout",
     "output_type": "stream",
     "text": [
      "Fitting 5 folds for each of 28 candidates, totalling 140 fits\n"
     ]
    },
    {
     "name": "stderr",
     "output_type": "stream",
     "text": [
      "[Parallel(n_jobs=2)]: Using backend LokyBackend with 2 concurrent workers.\n",
      "[Parallel(n_jobs=2)]: Done  46 tasks      | elapsed:   21.1s\n",
      "[Parallel(n_jobs=2)]: Done 140 out of 140 | elapsed:   58.1s finished\n"
     ]
    },
    {
     "data": {
      "text/plain": [
       "GridSearchCV(cv=5, error_score='raise-deprecating',\n",
       "       estimator=KNeighborsClassifier(algorithm='auto', leaf_size=30, metric='minkowski',\n",
       "           metric_params=None, n_jobs=None, n_neighbors=5, p=2,\n",
       "           weights='uniform'),\n",
       "       fit_params=None, iid='warn', n_jobs=2,\n",
       "       param_grid={'n_neighbors': [5, 9, 15, 25, 40, 50, 60], 'weights': ['uniform', 'distance'], 'metric': ['euclidean', 'manhattan']},\n",
       "       pre_dispatch='2*n_jobs', refit=True, return_train_score=True,\n",
       "       scoring=None, verbose=1)"
      ]
     },
     "execution_count": 24,
     "metadata": {},
     "output_type": "execute_result"
    }
   ],
   "source": [
    "knn_params = {\n",
    "    'n_neighbors': [5, 9, 15, 25, 40, 50, 60],\n",
    "    'weights': ['uniform', 'distance'],\n",
    "    'metric': ['euclidean', 'manhattan']}\n",
    "knn = KNeighborsClassifier()\n",
    "knn_gridsearch = GridSearchCV(knn,\n",
    "                              knn_params,\n",
    "                              n_jobs=2, \n",
    "                              cv=5, \n",
    "                              verbose=1, \n",
    "                              return_train_score=True)\n",
    "\n",
    "knn_gridsearch.fit(X_train_std, y_train)"
   ]
  },
  {
   "cell_type": "markdown",
   "metadata": {},
   "source": [
    "Great!  We've fit our gridsearch."
   ]
  },
  {
   "cell_type": "markdown",
   "metadata": {},
   "source": [
    "#### Examing the results of GridSearch( )\n",
    "\n",
    "Once the gridsearch has fit (this can take a while!) we can pull out a variety of information and useful objects from the gridsearch object, stored as attributes:\n",
    "\n",
    "| Property | Use |\n",
    "| --- | ---|\n",
    "| **`results.param_grid`** | Displays parameters searched over. |\n",
    "| **`results.best_score_`** | Best mean cross-validated score achieved. |\n",
    "| **`results.best_estimator_`** | Reference to model with best score.  Is usable / callable. |\n",
    "| **`results.best_params_`** | The parameters that have been found to perform with the best score. |\n",
    "| **`results.cv_results_`** | Display score attributes with corresponding parameters. | "
   ]
  },
  {
   "cell_type": "markdown",
   "metadata": {},
   "source": [
    "**Print out the parameter grid**"
   ]
  },
  {
   "cell_type": "code",
   "execution_count": 25,
   "metadata": {},
   "outputs": [
    {
     "data": {
      "text/plain": [
       "{'n_neighbors': [5, 9, 15, 25, 40, 50, 60],\n",
       " 'weights': ['uniform', 'distance'],\n",
       " 'metric': ['euclidean', 'manhattan']}"
      ]
     },
     "execution_count": 25,
     "metadata": {},
     "output_type": "execute_result"
    }
   ],
   "source": [
    "knn_gridsearch.param_grid"
   ]
  },
  {
   "cell_type": "markdown",
   "metadata": {},
   "source": [
    "**Print out the best score found in the search.**"
   ]
  },
  {
   "cell_type": "code",
   "execution_count": 26,
   "metadata": {},
   "outputs": [
    {
     "data": {
      "text/plain": [
       "0.6266618756737333"
      ]
     },
     "execution_count": 26,
     "metadata": {},
     "output_type": "execute_result"
    }
   ],
   "source": [
    "# print out the best mean cross-validated accuracy from the gridsearch\n",
    "# hopefully this should be much better than our default mean cross-validated accuracy\n",
    "knn_gridsearch.best_score_"
   ]
  },
  {
   "cell_type": "markdown",
   "metadata": {},
   "source": [
    "**Best estimator**"
   ]
  },
  {
   "cell_type": "code",
   "execution_count": 27,
   "metadata": {},
   "outputs": [
    {
     "data": {
      "text/plain": [
       "KNeighborsClassifier(algorithm='auto', leaf_size=30, metric='manhattan',\n",
       "           metric_params=None, n_jobs=None, n_neighbors=50, p=2,\n",
       "           weights='uniform')"
      ]
     },
     "execution_count": 27,
     "metadata": {},
     "output_type": "execute_result"
    }
   ],
   "source": [
    "knn_gridsearch.best_estimator_"
   ]
  },
  {
   "cell_type": "markdown",
   "metadata": {},
   "source": [
    "**Print out the set of hyperparameters that achieved the best score.**"
   ]
  },
  {
   "cell_type": "code",
   "execution_count": 28,
   "metadata": {},
   "outputs": [
    {
     "data": {
      "text/plain": [
       "{'metric': 'manhattan', 'n_neighbors': 50, 'weights': 'uniform'}"
      ]
     },
     "execution_count": 28,
     "metadata": {},
     "output_type": "execute_result"
    }
   ],
   "source": [
    "# print out your best hyperparameters\n",
    "knn_gridsearch.best_params_"
   ]
  },
  {
   "cell_type": "markdown",
   "metadata": {},
   "source": [
    "**Print out all intermediate results (returned as dictionary, cast into dataframe).**"
   ]
  },
  {
   "cell_type": "code",
   "execution_count": 29,
   "metadata": {
    "scrolled": false
   },
   "outputs": [
    {
     "data": {
      "text/html": [
       "<div>\n",
       "<style scoped>\n",
       "    .dataframe tbody tr th:only-of-type {\n",
       "        vertical-align: middle;\n",
       "    }\n",
       "\n",
       "    .dataframe tbody tr th {\n",
       "        vertical-align: top;\n",
       "    }\n",
       "\n",
       "    .dataframe thead th {\n",
       "        text-align: right;\n",
       "    }\n",
       "</style>\n",
       "<table border=\"1\" class=\"dataframe\">\n",
       "  <thead>\n",
       "    <tr style=\"text-align: right;\">\n",
       "      <th></th>\n",
       "      <th>mean_fit_time</th>\n",
       "      <th>std_fit_time</th>\n",
       "      <th>mean_score_time</th>\n",
       "      <th>std_score_time</th>\n",
       "      <th>param_metric</th>\n",
       "      <th>param_n_neighbors</th>\n",
       "      <th>param_weights</th>\n",
       "      <th>params</th>\n",
       "      <th>split0_test_score</th>\n",
       "      <th>split1_test_score</th>\n",
       "      <th>...</th>\n",
       "      <th>mean_test_score</th>\n",
       "      <th>std_test_score</th>\n",
       "      <th>rank_test_score</th>\n",
       "      <th>split0_train_score</th>\n",
       "      <th>split1_train_score</th>\n",
       "      <th>split2_train_score</th>\n",
       "      <th>split3_train_score</th>\n",
       "      <th>split4_train_score</th>\n",
       "      <th>mean_train_score</th>\n",
       "      <th>std_train_score</th>\n",
       "    </tr>\n",
       "  </thead>\n",
       "  <tbody>\n",
       "    <tr>\n",
       "      <th>0</th>\n",
       "      <td>0.012028</td>\n",
       "      <td>0.002321</td>\n",
       "      <td>0.215343</td>\n",
       "      <td>0.031844</td>\n",
       "      <td>euclidean</td>\n",
       "      <td>5</td>\n",
       "      <td>uniform</td>\n",
       "      <td>{'metric': 'euclidean', 'n_neighbors': 5, 'wei...</td>\n",
       "      <td>0.590664</td>\n",
       "      <td>0.579892</td>\n",
       "      <td>...</td>\n",
       "      <td>0.589651</td>\n",
       "      <td>0.014536</td>\n",
       "      <td>27</td>\n",
       "      <td>0.746631</td>\n",
       "      <td>0.764600</td>\n",
       "      <td>0.742588</td>\n",
       "      <td>0.751684</td>\n",
       "      <td>0.754827</td>\n",
       "      <td>0.752066</td>\n",
       "      <td>0.007540</td>\n",
       "    </tr>\n",
       "    <tr>\n",
       "      <th>1</th>\n",
       "      <td>0.009416</td>\n",
       "      <td>0.000997</td>\n",
       "      <td>0.206012</td>\n",
       "      <td>0.032022</td>\n",
       "      <td>euclidean</td>\n",
       "      <td>5</td>\n",
       "      <td>distance</td>\n",
       "      <td>{'metric': 'euclidean', 'n_neighbors': 5, 'wei...</td>\n",
       "      <td>0.590664</td>\n",
       "      <td>0.579892</td>\n",
       "      <td>...</td>\n",
       "      <td>0.589651</td>\n",
       "      <td>0.014536</td>\n",
       "      <td>27</td>\n",
       "      <td>1.000000</td>\n",
       "      <td>1.000000</td>\n",
       "      <td>1.000000</td>\n",
       "      <td>1.000000</td>\n",
       "      <td>1.000000</td>\n",
       "      <td>1.000000</td>\n",
       "      <td>0.000000</td>\n",
       "    </tr>\n",
       "    <tr>\n",
       "      <th>2</th>\n",
       "      <td>0.009865</td>\n",
       "      <td>0.001314</td>\n",
       "      <td>0.190792</td>\n",
       "      <td>0.022895</td>\n",
       "      <td>euclidean</td>\n",
       "      <td>9</td>\n",
       "      <td>uniform</td>\n",
       "      <td>{'metric': 'euclidean', 'n_neighbors': 9, 'wei...</td>\n",
       "      <td>0.622980</td>\n",
       "      <td>0.605027</td>\n",
       "      <td>...</td>\n",
       "      <td>0.607977</td>\n",
       "      <td>0.016086</td>\n",
       "      <td>17</td>\n",
       "      <td>0.714286</td>\n",
       "      <td>0.728212</td>\n",
       "      <td>0.705750</td>\n",
       "      <td>0.715312</td>\n",
       "      <td>0.720251</td>\n",
       "      <td>0.716762</td>\n",
       "      <td>0.007386</td>\n",
       "    </tr>\n",
       "    <tr>\n",
       "      <th>3</th>\n",
       "      <td>0.008405</td>\n",
       "      <td>0.000726</td>\n",
       "      <td>0.151400</td>\n",
       "      <td>0.011414</td>\n",
       "      <td>euclidean</td>\n",
       "      <td>9</td>\n",
       "      <td>distance</td>\n",
       "      <td>{'metric': 'euclidean', 'n_neighbors': 9, 'wei...</td>\n",
       "      <td>0.622980</td>\n",
       "      <td>0.605027</td>\n",
       "      <td>...</td>\n",
       "      <td>0.607977</td>\n",
       "      <td>0.016086</td>\n",
       "      <td>17</td>\n",
       "      <td>1.000000</td>\n",
       "      <td>1.000000</td>\n",
       "      <td>1.000000</td>\n",
       "      <td>1.000000</td>\n",
       "      <td>1.000000</td>\n",
       "      <td>1.000000</td>\n",
       "      <td>0.000000</td>\n",
       "    </tr>\n",
       "    <tr>\n",
       "      <th>4</th>\n",
       "      <td>0.008865</td>\n",
       "      <td>0.000852</td>\n",
       "      <td>0.158837</td>\n",
       "      <td>0.004173</td>\n",
       "      <td>euclidean</td>\n",
       "      <td>15</td>\n",
       "      <td>uniform</td>\n",
       "      <td>{'metric': 'euclidean', 'n_neighbors': 15, 'we...</td>\n",
       "      <td>0.603232</td>\n",
       "      <td>0.596050</td>\n",
       "      <td>...</td>\n",
       "      <td>0.606899</td>\n",
       "      <td>0.010421</td>\n",
       "      <td>20</td>\n",
       "      <td>0.694519</td>\n",
       "      <td>0.701707</td>\n",
       "      <td>0.687332</td>\n",
       "      <td>0.691962</td>\n",
       "      <td>0.694207</td>\n",
       "      <td>0.693946</td>\n",
       "      <td>0.004654</td>\n",
       "    </tr>\n",
       "    <tr>\n",
       "      <th>5</th>\n",
       "      <td>0.009010</td>\n",
       "      <td>0.000716</td>\n",
       "      <td>0.162534</td>\n",
       "      <td>0.013111</td>\n",
       "      <td>euclidean</td>\n",
       "      <td>15</td>\n",
       "      <td>distance</td>\n",
       "      <td>{'metric': 'euclidean', 'n_neighbors': 15, 'we...</td>\n",
       "      <td>0.603232</td>\n",
       "      <td>0.596050</td>\n",
       "      <td>...</td>\n",
       "      <td>0.606899</td>\n",
       "      <td>0.010421</td>\n",
       "      <td>20</td>\n",
       "      <td>1.000000</td>\n",
       "      <td>1.000000</td>\n",
       "      <td>1.000000</td>\n",
       "      <td>1.000000</td>\n",
       "      <td>1.000000</td>\n",
       "      <td>1.000000</td>\n",
       "      <td>0.000000</td>\n",
       "    </tr>\n",
       "    <tr>\n",
       "      <th>6</th>\n",
       "      <td>0.008992</td>\n",
       "      <td>0.001677</td>\n",
       "      <td>0.162062</td>\n",
       "      <td>0.007382</td>\n",
       "      <td>euclidean</td>\n",
       "      <td>25</td>\n",
       "      <td>uniform</td>\n",
       "      <td>{'metric': 'euclidean', 'n_neighbors': 25, 'we...</td>\n",
       "      <td>0.612208</td>\n",
       "      <td>0.617594</td>\n",
       "      <td>...</td>\n",
       "      <td>0.609055</td>\n",
       "      <td>0.012375</td>\n",
       "      <td>13</td>\n",
       "      <td>0.668913</td>\n",
       "      <td>0.686433</td>\n",
       "      <td>0.671608</td>\n",
       "      <td>0.681634</td>\n",
       "      <td>0.672654</td>\n",
       "      <td>0.676248</td>\n",
       "      <td>0.006648</td>\n",
       "    </tr>\n",
       "    <tr>\n",
       "      <th>7</th>\n",
       "      <td>0.008758</td>\n",
       "      <td>0.001081</td>\n",
       "      <td>0.150942</td>\n",
       "      <td>0.004897</td>\n",
       "      <td>euclidean</td>\n",
       "      <td>25</td>\n",
       "      <td>distance</td>\n",
       "      <td>{'metric': 'euclidean', 'n_neighbors': 25, 'we...</td>\n",
       "      <td>0.612208</td>\n",
       "      <td>0.617594</td>\n",
       "      <td>...</td>\n",
       "      <td>0.608696</td>\n",
       "      <td>0.012199</td>\n",
       "      <td>15</td>\n",
       "      <td>1.000000</td>\n",
       "      <td>1.000000</td>\n",
       "      <td>1.000000</td>\n",
       "      <td>1.000000</td>\n",
       "      <td>1.000000</td>\n",
       "      <td>1.000000</td>\n",
       "      <td>0.000000</td>\n",
       "    </tr>\n",
       "    <tr>\n",
       "      <th>8</th>\n",
       "      <td>0.008766</td>\n",
       "      <td>0.000683</td>\n",
       "      <td>0.180395</td>\n",
       "      <td>0.008294</td>\n",
       "      <td>euclidean</td>\n",
       "      <td>40</td>\n",
       "      <td>uniform</td>\n",
       "      <td>{'metric': 'euclidean', 'n_neighbors': 40, 'we...</td>\n",
       "      <td>0.617594</td>\n",
       "      <td>0.615799</td>\n",
       "      <td>...</td>\n",
       "      <td>0.609774</td>\n",
       "      <td>0.013528</td>\n",
       "      <td>10</td>\n",
       "      <td>0.662174</td>\n",
       "      <td>0.665319</td>\n",
       "      <td>0.656334</td>\n",
       "      <td>0.669511</td>\n",
       "      <td>0.667265</td>\n",
       "      <td>0.664121</td>\n",
       "      <td>0.004578</td>\n",
       "    </tr>\n",
       "    <tr>\n",
       "      <th>9</th>\n",
       "      <td>0.008160</td>\n",
       "      <td>0.000367</td>\n",
       "      <td>0.152203</td>\n",
       "      <td>0.008141</td>\n",
       "      <td>euclidean</td>\n",
       "      <td>40</td>\n",
       "      <td>distance</td>\n",
       "      <td>{'metric': 'euclidean', 'n_neighbors': 40, 'we...</td>\n",
       "      <td>0.619390</td>\n",
       "      <td>0.612208</td>\n",
       "      <td>...</td>\n",
       "      <td>0.612289</td>\n",
       "      <td>0.012491</td>\n",
       "      <td>9</td>\n",
       "      <td>1.000000</td>\n",
       "      <td>1.000000</td>\n",
       "      <td>1.000000</td>\n",
       "      <td>1.000000</td>\n",
       "      <td>1.000000</td>\n",
       "      <td>1.000000</td>\n",
       "      <td>0.000000</td>\n",
       "    </tr>\n",
       "    <tr>\n",
       "      <th>10</th>\n",
       "      <td>0.008737</td>\n",
       "      <td>0.001039</td>\n",
       "      <td>0.192451</td>\n",
       "      <td>0.037718</td>\n",
       "      <td>euclidean</td>\n",
       "      <td>50</td>\n",
       "      <td>uniform</td>\n",
       "      <td>{'metric': 'euclidean', 'n_neighbors': 50, 'we...</td>\n",
       "      <td>0.624776</td>\n",
       "      <td>0.608618</td>\n",
       "      <td>...</td>\n",
       "      <td>0.609055</td>\n",
       "      <td>0.010571</td>\n",
       "      <td>13</td>\n",
       "      <td>0.666667</td>\n",
       "      <td>0.651393</td>\n",
       "      <td>0.654987</td>\n",
       "      <td>0.672654</td>\n",
       "      <td>0.665020</td>\n",
       "      <td>0.662144</td>\n",
       "      <td>0.007823</td>\n",
       "    </tr>\n",
       "    <tr>\n",
       "      <th>11</th>\n",
       "      <td>0.008679</td>\n",
       "      <td>0.000671</td>\n",
       "      <td>0.151702</td>\n",
       "      <td>0.002586</td>\n",
       "      <td>euclidean</td>\n",
       "      <td>50</td>\n",
       "      <td>distance</td>\n",
       "      <td>{'metric': 'euclidean', 'n_neighbors': 50, 'we...</td>\n",
       "      <td>0.621185</td>\n",
       "      <td>0.599641</td>\n",
       "      <td>...</td>\n",
       "      <td>0.608696</td>\n",
       "      <td>0.009970</td>\n",
       "      <td>15</td>\n",
       "      <td>1.000000</td>\n",
       "      <td>1.000000</td>\n",
       "      <td>1.000000</td>\n",
       "      <td>1.000000</td>\n",
       "      <td>1.000000</td>\n",
       "      <td>1.000000</td>\n",
       "      <td>0.000000</td>\n",
       "    </tr>\n",
       "    <tr>\n",
       "      <th>12</th>\n",
       "      <td>0.008112</td>\n",
       "      <td>0.000895</td>\n",
       "      <td>0.161105</td>\n",
       "      <td>0.003081</td>\n",
       "      <td>euclidean</td>\n",
       "      <td>60</td>\n",
       "      <td>uniform</td>\n",
       "      <td>{'metric': 'euclidean', 'n_neighbors': 60, 'we...</td>\n",
       "      <td>0.622980</td>\n",
       "      <td>0.605027</td>\n",
       "      <td>...</td>\n",
       "      <td>0.615163</td>\n",
       "      <td>0.017726</td>\n",
       "      <td>8</td>\n",
       "      <td>0.656334</td>\n",
       "      <td>0.648248</td>\n",
       "      <td>0.645103</td>\n",
       "      <td>0.660979</td>\n",
       "      <td>0.661428</td>\n",
       "      <td>0.654418</td>\n",
       "      <td>0.006644</td>\n",
       "    </tr>\n",
       "    <tr>\n",
       "      <th>13</th>\n",
       "      <td>0.008871</td>\n",
       "      <td>0.001482</td>\n",
       "      <td>0.158706</td>\n",
       "      <td>0.011924</td>\n",
       "      <td>euclidean</td>\n",
       "      <td>60</td>\n",
       "      <td>distance</td>\n",
       "      <td>{'metric': 'euclidean', 'n_neighbors': 60, 'we...</td>\n",
       "      <td>0.617594</td>\n",
       "      <td>0.612208</td>\n",
       "      <td>...</td>\n",
       "      <td>0.616601</td>\n",
       "      <td>0.016627</td>\n",
       "      <td>7</td>\n",
       "      <td>1.000000</td>\n",
       "      <td>1.000000</td>\n",
       "      <td>1.000000</td>\n",
       "      <td>1.000000</td>\n",
       "      <td>1.000000</td>\n",
       "      <td>1.000000</td>\n",
       "      <td>0.000000</td>\n",
       "    </tr>\n",
       "    <tr>\n",
       "      <th>14</th>\n",
       "      <td>0.008069</td>\n",
       "      <td>0.000329</td>\n",
       "      <td>0.156061</td>\n",
       "      <td>0.006635</td>\n",
       "      <td>manhattan</td>\n",
       "      <td>5</td>\n",
       "      <td>uniform</td>\n",
       "      <td>{'metric': 'manhattan', 'n_neighbors': 5, 'wei...</td>\n",
       "      <td>0.610413</td>\n",
       "      <td>0.615799</td>\n",
       "      <td>...</td>\n",
       "      <td>0.603306</td>\n",
       "      <td>0.015132</td>\n",
       "      <td>23</td>\n",
       "      <td>0.743037</td>\n",
       "      <td>0.751572</td>\n",
       "      <td>0.737646</td>\n",
       "      <td>0.747643</td>\n",
       "      <td>0.755725</td>\n",
       "      <td>0.747125</td>\n",
       "      <td>0.006334</td>\n",
       "    </tr>\n",
       "    <tr>\n",
       "      <th>15</th>\n",
       "      <td>0.007717</td>\n",
       "      <td>0.000415</td>\n",
       "      <td>0.146924</td>\n",
       "      <td>0.010080</td>\n",
       "      <td>manhattan</td>\n",
       "      <td>5</td>\n",
       "      <td>distance</td>\n",
       "      <td>{'metric': 'manhattan', 'n_neighbors': 5, 'wei...</td>\n",
       "      <td>0.610413</td>\n",
       "      <td>0.615799</td>\n",
       "      <td>...</td>\n",
       "      <td>0.603306</td>\n",
       "      <td>0.015132</td>\n",
       "      <td>23</td>\n",
       "      <td>1.000000</td>\n",
       "      <td>1.000000</td>\n",
       "      <td>1.000000</td>\n",
       "      <td>1.000000</td>\n",
       "      <td>1.000000</td>\n",
       "      <td>1.000000</td>\n",
       "      <td>0.000000</td>\n",
       "    </tr>\n",
       "    <tr>\n",
       "      <th>16</th>\n",
       "      <td>0.008456</td>\n",
       "      <td>0.000871</td>\n",
       "      <td>0.161696</td>\n",
       "      <td>0.014646</td>\n",
       "      <td>manhattan</td>\n",
       "      <td>9</td>\n",
       "      <td>uniform</td>\n",
       "      <td>{'metric': 'manhattan', 'n_neighbors': 9, 'wei...</td>\n",
       "      <td>0.621185</td>\n",
       "      <td>0.601436</td>\n",
       "      <td>...</td>\n",
       "      <td>0.598635</td>\n",
       "      <td>0.017811</td>\n",
       "      <td>25</td>\n",
       "      <td>0.712040</td>\n",
       "      <td>0.715633</td>\n",
       "      <td>0.711141</td>\n",
       "      <td>0.718455</td>\n",
       "      <td>0.721599</td>\n",
       "      <td>0.715774</td>\n",
       "      <td>0.003913</td>\n",
       "    </tr>\n",
       "    <tr>\n",
       "      <th>17</th>\n",
       "      <td>0.008543</td>\n",
       "      <td>0.000379</td>\n",
       "      <td>0.148016</td>\n",
       "      <td>0.002698</td>\n",
       "      <td>manhattan</td>\n",
       "      <td>9</td>\n",
       "      <td>distance</td>\n",
       "      <td>{'metric': 'manhattan', 'n_neighbors': 9, 'wei...</td>\n",
       "      <td>0.621185</td>\n",
       "      <td>0.601436</td>\n",
       "      <td>...</td>\n",
       "      <td>0.598635</td>\n",
       "      <td>0.017811</td>\n",
       "      <td>25</td>\n",
       "      <td>1.000000</td>\n",
       "      <td>1.000000</td>\n",
       "      <td>1.000000</td>\n",
       "      <td>1.000000</td>\n",
       "      <td>1.000000</td>\n",
       "      <td>1.000000</td>\n",
       "      <td>0.000000</td>\n",
       "    </tr>\n",
       "    <tr>\n",
       "      <th>18</th>\n",
       "      <td>0.008687</td>\n",
       "      <td>0.000671</td>\n",
       "      <td>0.153010</td>\n",
       "      <td>0.006965</td>\n",
       "      <td>manhattan</td>\n",
       "      <td>15</td>\n",
       "      <td>uniform</td>\n",
       "      <td>{'metric': 'manhattan', 'n_neighbors': 15, 'we...</td>\n",
       "      <td>0.622980</td>\n",
       "      <td>0.594255</td>\n",
       "      <td>...</td>\n",
       "      <td>0.607618</td>\n",
       "      <td>0.013115</td>\n",
       "      <td>19</td>\n",
       "      <td>0.693621</td>\n",
       "      <td>0.703055</td>\n",
       "      <td>0.694969</td>\n",
       "      <td>0.700045</td>\n",
       "      <td>0.695106</td>\n",
       "      <td>0.697359</td>\n",
       "      <td>0.003589</td>\n",
       "    </tr>\n",
       "    <tr>\n",
       "      <th>19</th>\n",
       "      <td>0.008038</td>\n",
       "      <td>0.000307</td>\n",
       "      <td>0.139411</td>\n",
       "      <td>0.002655</td>\n",
       "      <td>manhattan</td>\n",
       "      <td>15</td>\n",
       "      <td>distance</td>\n",
       "      <td>{'metric': 'manhattan', 'n_neighbors': 15, 'we...</td>\n",
       "      <td>0.622980</td>\n",
       "      <td>0.590664</td>\n",
       "      <td>...</td>\n",
       "      <td>0.606899</td>\n",
       "      <td>0.013902</td>\n",
       "      <td>20</td>\n",
       "      <td>1.000000</td>\n",
       "      <td>1.000000</td>\n",
       "      <td>1.000000</td>\n",
       "      <td>1.000000</td>\n",
       "      <td>1.000000</td>\n",
       "      <td>1.000000</td>\n",
       "      <td>0.000000</td>\n",
       "    </tr>\n",
       "    <tr>\n",
       "      <th>20</th>\n",
       "      <td>0.008033</td>\n",
       "      <td>0.000283</td>\n",
       "      <td>0.155664</td>\n",
       "      <td>0.007827</td>\n",
       "      <td>manhattan</td>\n",
       "      <td>25</td>\n",
       "      <td>uniform</td>\n",
       "      <td>{'metric': 'manhattan', 'n_neighbors': 25, 'we...</td>\n",
       "      <td>0.637343</td>\n",
       "      <td>0.596050</td>\n",
       "      <td>...</td>\n",
       "      <td>0.609774</td>\n",
       "      <td>0.015890</td>\n",
       "      <td>10</td>\n",
       "      <td>0.674304</td>\n",
       "      <td>0.685984</td>\n",
       "      <td>0.674304</td>\n",
       "      <td>0.687472</td>\n",
       "      <td>0.680287</td>\n",
       "      <td>0.680470</td>\n",
       "      <td>0.005577</td>\n",
       "    </tr>\n",
       "    <tr>\n",
       "      <th>21</th>\n",
       "      <td>0.008363</td>\n",
       "      <td>0.000654</td>\n",
       "      <td>0.151256</td>\n",
       "      <td>0.004384</td>\n",
       "      <td>manhattan</td>\n",
       "      <td>25</td>\n",
       "      <td>distance</td>\n",
       "      <td>{'metric': 'manhattan', 'n_neighbors': 25, 'we...</td>\n",
       "      <td>0.637343</td>\n",
       "      <td>0.594255</td>\n",
       "      <td>...</td>\n",
       "      <td>0.609414</td>\n",
       "      <td>0.015753</td>\n",
       "      <td>12</td>\n",
       "      <td>1.000000</td>\n",
       "      <td>1.000000</td>\n",
       "      <td>1.000000</td>\n",
       "      <td>1.000000</td>\n",
       "      <td>1.000000</td>\n",
       "      <td>1.000000</td>\n",
       "      <td>0.000000</td>\n",
       "    </tr>\n",
       "    <tr>\n",
       "      <th>22</th>\n",
       "      <td>0.008329</td>\n",
       "      <td>0.000745</td>\n",
       "      <td>0.164288</td>\n",
       "      <td>0.012298</td>\n",
       "      <td>manhattan</td>\n",
       "      <td>40</td>\n",
       "      <td>uniform</td>\n",
       "      <td>{'metric': 'manhattan', 'n_neighbors': 40, 'we...</td>\n",
       "      <td>0.630162</td>\n",
       "      <td>0.592460</td>\n",
       "      <td>...</td>\n",
       "      <td>0.622350</td>\n",
       "      <td>0.018643</td>\n",
       "      <td>6</td>\n",
       "      <td>0.670710</td>\n",
       "      <td>0.675202</td>\n",
       "      <td>0.666217</td>\n",
       "      <td>0.676246</td>\n",
       "      <td>0.669511</td>\n",
       "      <td>0.671577</td>\n",
       "      <td>0.003706</td>\n",
       "    </tr>\n",
       "    <tr>\n",
       "      <th>23</th>\n",
       "      <td>0.010558</td>\n",
       "      <td>0.002147</td>\n",
       "      <td>0.183920</td>\n",
       "      <td>0.037802</td>\n",
       "      <td>manhattan</td>\n",
       "      <td>40</td>\n",
       "      <td>distance</td>\n",
       "      <td>{'metric': 'manhattan', 'n_neighbors': 40, 'we...</td>\n",
       "      <td>0.633752</td>\n",
       "      <td>0.590664</td>\n",
       "      <td>...</td>\n",
       "      <td>0.623069</td>\n",
       "      <td>0.020539</td>\n",
       "      <td>4</td>\n",
       "      <td>1.000000</td>\n",
       "      <td>1.000000</td>\n",
       "      <td>1.000000</td>\n",
       "      <td>1.000000</td>\n",
       "      <td>1.000000</td>\n",
       "      <td>1.000000</td>\n",
       "      <td>0.000000</td>\n",
       "    </tr>\n",
       "    <tr>\n",
       "      <th>24</th>\n",
       "      <td>0.008901</td>\n",
       "      <td>0.000804</td>\n",
       "      <td>0.162892</td>\n",
       "      <td>0.004700</td>\n",
       "      <td>manhattan</td>\n",
       "      <td>50</td>\n",
       "      <td>uniform</td>\n",
       "      <td>{'metric': 'manhattan', 'n_neighbors': 50, 'we...</td>\n",
       "      <td>0.637343</td>\n",
       "      <td>0.610413</td>\n",
       "      <td>...</td>\n",
       "      <td>0.626662</td>\n",
       "      <td>0.013217</td>\n",
       "      <td>1</td>\n",
       "      <td>0.661725</td>\n",
       "      <td>0.669811</td>\n",
       "      <td>0.663522</td>\n",
       "      <td>0.674001</td>\n",
       "      <td>0.668163</td>\n",
       "      <td>0.667445</td>\n",
       "      <td>0.004409</td>\n",
       "    </tr>\n",
       "    <tr>\n",
       "      <th>25</th>\n",
       "      <td>0.008358</td>\n",
       "      <td>0.000660</td>\n",
       "      <td>0.147590</td>\n",
       "      <td>0.001572</td>\n",
       "      <td>manhattan</td>\n",
       "      <td>50</td>\n",
       "      <td>distance</td>\n",
       "      <td>{'metric': 'manhattan', 'n_neighbors': 50, 'we...</td>\n",
       "      <td>0.635548</td>\n",
       "      <td>0.605027</td>\n",
       "      <td>...</td>\n",
       "      <td>0.624506</td>\n",
       "      <td>0.014907</td>\n",
       "      <td>2</td>\n",
       "      <td>1.000000</td>\n",
       "      <td>1.000000</td>\n",
       "      <td>1.000000</td>\n",
       "      <td>1.000000</td>\n",
       "      <td>1.000000</td>\n",
       "      <td>1.000000</td>\n",
       "      <td>0.000000</td>\n",
       "    </tr>\n",
       "    <tr>\n",
       "      <th>26</th>\n",
       "      <td>0.008702</td>\n",
       "      <td>0.000389</td>\n",
       "      <td>0.159223</td>\n",
       "      <td>0.003338</td>\n",
       "      <td>manhattan</td>\n",
       "      <td>60</td>\n",
       "      <td>uniform</td>\n",
       "      <td>{'metric': 'manhattan', 'n_neighbors': 60, 'we...</td>\n",
       "      <td>0.635548</td>\n",
       "      <td>0.612208</td>\n",
       "      <td>...</td>\n",
       "      <td>0.623428</td>\n",
       "      <td>0.018067</td>\n",
       "      <td>3</td>\n",
       "      <td>0.653639</td>\n",
       "      <td>0.664420</td>\n",
       "      <td>0.660377</td>\n",
       "      <td>0.669062</td>\n",
       "      <td>0.663224</td>\n",
       "      <td>0.662144</td>\n",
       "      <td>0.005092</td>\n",
       "    </tr>\n",
       "    <tr>\n",
       "      <th>27</th>\n",
       "      <td>0.008026</td>\n",
       "      <td>0.000369</td>\n",
       "      <td>0.152732</td>\n",
       "      <td>0.006254</td>\n",
       "      <td>manhattan</td>\n",
       "      <td>60</td>\n",
       "      <td>distance</td>\n",
       "      <td>{'metric': 'manhattan', 'n_neighbors': 60, 'we...</td>\n",
       "      <td>0.637343</td>\n",
       "      <td>0.606822</td>\n",
       "      <td>...</td>\n",
       "      <td>0.622709</td>\n",
       "      <td>0.019241</td>\n",
       "      <td>5</td>\n",
       "      <td>1.000000</td>\n",
       "      <td>1.000000</td>\n",
       "      <td>1.000000</td>\n",
       "      <td>1.000000</td>\n",
       "      <td>1.000000</td>\n",
       "      <td>1.000000</td>\n",
       "      <td>0.000000</td>\n",
       "    </tr>\n",
       "  </tbody>\n",
       "</table>\n",
       "<p>28 rows × 23 columns</p>\n",
       "</div>"
      ],
      "text/plain": [
       "    mean_fit_time  std_fit_time  mean_score_time  std_score_time param_metric  \\\n",
       "0        0.012028      0.002321         0.215343        0.031844    euclidean   \n",
       "1        0.009416      0.000997         0.206012        0.032022    euclidean   \n",
       "2        0.009865      0.001314         0.190792        0.022895    euclidean   \n",
       "3        0.008405      0.000726         0.151400        0.011414    euclidean   \n",
       "4        0.008865      0.000852         0.158837        0.004173    euclidean   \n",
       "5        0.009010      0.000716         0.162534        0.013111    euclidean   \n",
       "6        0.008992      0.001677         0.162062        0.007382    euclidean   \n",
       "7        0.008758      0.001081         0.150942        0.004897    euclidean   \n",
       "8        0.008766      0.000683         0.180395        0.008294    euclidean   \n",
       "9        0.008160      0.000367         0.152203        0.008141    euclidean   \n",
       "10       0.008737      0.001039         0.192451        0.037718    euclidean   \n",
       "11       0.008679      0.000671         0.151702        0.002586    euclidean   \n",
       "12       0.008112      0.000895         0.161105        0.003081    euclidean   \n",
       "13       0.008871      0.001482         0.158706        0.011924    euclidean   \n",
       "14       0.008069      0.000329         0.156061        0.006635    manhattan   \n",
       "15       0.007717      0.000415         0.146924        0.010080    manhattan   \n",
       "16       0.008456      0.000871         0.161696        0.014646    manhattan   \n",
       "17       0.008543      0.000379         0.148016        0.002698    manhattan   \n",
       "18       0.008687      0.000671         0.153010        0.006965    manhattan   \n",
       "19       0.008038      0.000307         0.139411        0.002655    manhattan   \n",
       "20       0.008033      0.000283         0.155664        0.007827    manhattan   \n",
       "21       0.008363      0.000654         0.151256        0.004384    manhattan   \n",
       "22       0.008329      0.000745         0.164288        0.012298    manhattan   \n",
       "23       0.010558      0.002147         0.183920        0.037802    manhattan   \n",
       "24       0.008901      0.000804         0.162892        0.004700    manhattan   \n",
       "25       0.008358      0.000660         0.147590        0.001572    manhattan   \n",
       "26       0.008702      0.000389         0.159223        0.003338    manhattan   \n",
       "27       0.008026      0.000369         0.152732        0.006254    manhattan   \n",
       "\n",
       "   param_n_neighbors param_weights  \\\n",
       "0                  5       uniform   \n",
       "1                  5      distance   \n",
       "2                  9       uniform   \n",
       "3                  9      distance   \n",
       "4                 15       uniform   \n",
       "5                 15      distance   \n",
       "6                 25       uniform   \n",
       "7                 25      distance   \n",
       "8                 40       uniform   \n",
       "9                 40      distance   \n",
       "10                50       uniform   \n",
       "11                50      distance   \n",
       "12                60       uniform   \n",
       "13                60      distance   \n",
       "14                 5       uniform   \n",
       "15                 5      distance   \n",
       "16                 9       uniform   \n",
       "17                 9      distance   \n",
       "18                15       uniform   \n",
       "19                15      distance   \n",
       "20                25       uniform   \n",
       "21                25      distance   \n",
       "22                40       uniform   \n",
       "23                40      distance   \n",
       "24                50       uniform   \n",
       "25                50      distance   \n",
       "26                60       uniform   \n",
       "27                60      distance   \n",
       "\n",
       "                                               params  split0_test_score  \\\n",
       "0   {'metric': 'euclidean', 'n_neighbors': 5, 'wei...           0.590664   \n",
       "1   {'metric': 'euclidean', 'n_neighbors': 5, 'wei...           0.590664   \n",
       "2   {'metric': 'euclidean', 'n_neighbors': 9, 'wei...           0.622980   \n",
       "3   {'metric': 'euclidean', 'n_neighbors': 9, 'wei...           0.622980   \n",
       "4   {'metric': 'euclidean', 'n_neighbors': 15, 'we...           0.603232   \n",
       "5   {'metric': 'euclidean', 'n_neighbors': 15, 'we...           0.603232   \n",
       "6   {'metric': 'euclidean', 'n_neighbors': 25, 'we...           0.612208   \n",
       "7   {'metric': 'euclidean', 'n_neighbors': 25, 'we...           0.612208   \n",
       "8   {'metric': 'euclidean', 'n_neighbors': 40, 'we...           0.617594   \n",
       "9   {'metric': 'euclidean', 'n_neighbors': 40, 'we...           0.619390   \n",
       "10  {'metric': 'euclidean', 'n_neighbors': 50, 'we...           0.624776   \n",
       "11  {'metric': 'euclidean', 'n_neighbors': 50, 'we...           0.621185   \n",
       "12  {'metric': 'euclidean', 'n_neighbors': 60, 'we...           0.622980   \n",
       "13  {'metric': 'euclidean', 'n_neighbors': 60, 'we...           0.617594   \n",
       "14  {'metric': 'manhattan', 'n_neighbors': 5, 'wei...           0.610413   \n",
       "15  {'metric': 'manhattan', 'n_neighbors': 5, 'wei...           0.610413   \n",
       "16  {'metric': 'manhattan', 'n_neighbors': 9, 'wei...           0.621185   \n",
       "17  {'metric': 'manhattan', 'n_neighbors': 9, 'wei...           0.621185   \n",
       "18  {'metric': 'manhattan', 'n_neighbors': 15, 'we...           0.622980   \n",
       "19  {'metric': 'manhattan', 'n_neighbors': 15, 'we...           0.622980   \n",
       "20  {'metric': 'manhattan', 'n_neighbors': 25, 'we...           0.637343   \n",
       "21  {'metric': 'manhattan', 'n_neighbors': 25, 'we...           0.637343   \n",
       "22  {'metric': 'manhattan', 'n_neighbors': 40, 'we...           0.630162   \n",
       "23  {'metric': 'manhattan', 'n_neighbors': 40, 'we...           0.633752   \n",
       "24  {'metric': 'manhattan', 'n_neighbors': 50, 'we...           0.637343   \n",
       "25  {'metric': 'manhattan', 'n_neighbors': 50, 'we...           0.635548   \n",
       "26  {'metric': 'manhattan', 'n_neighbors': 60, 'we...           0.635548   \n",
       "27  {'metric': 'manhattan', 'n_neighbors': 60, 'we...           0.637343   \n",
       "\n",
       "    split1_test_score  ...  mean_test_score  std_test_score  rank_test_score  \\\n",
       "0            0.579892  ...         0.589651        0.014536               27   \n",
       "1            0.579892  ...         0.589651        0.014536               27   \n",
       "2            0.605027  ...         0.607977        0.016086               17   \n",
       "3            0.605027  ...         0.607977        0.016086               17   \n",
       "4            0.596050  ...         0.606899        0.010421               20   \n",
       "5            0.596050  ...         0.606899        0.010421               20   \n",
       "6            0.617594  ...         0.609055        0.012375               13   \n",
       "7            0.617594  ...         0.608696        0.012199               15   \n",
       "8            0.615799  ...         0.609774        0.013528               10   \n",
       "9            0.612208  ...         0.612289        0.012491                9   \n",
       "10           0.608618  ...         0.609055        0.010571               13   \n",
       "11           0.599641  ...         0.608696        0.009970               15   \n",
       "12           0.605027  ...         0.615163        0.017726                8   \n",
       "13           0.612208  ...         0.616601        0.016627                7   \n",
       "14           0.615799  ...         0.603306        0.015132               23   \n",
       "15           0.615799  ...         0.603306        0.015132               23   \n",
       "16           0.601436  ...         0.598635        0.017811               25   \n",
       "17           0.601436  ...         0.598635        0.017811               25   \n",
       "18           0.594255  ...         0.607618        0.013115               19   \n",
       "19           0.590664  ...         0.606899        0.013902               20   \n",
       "20           0.596050  ...         0.609774        0.015890               10   \n",
       "21           0.594255  ...         0.609414        0.015753               12   \n",
       "22           0.592460  ...         0.622350        0.018643                6   \n",
       "23           0.590664  ...         0.623069        0.020539                4   \n",
       "24           0.610413  ...         0.626662        0.013217                1   \n",
       "25           0.605027  ...         0.624506        0.014907                2   \n",
       "26           0.612208  ...         0.623428        0.018067                3   \n",
       "27           0.606822  ...         0.622709        0.019241                5   \n",
       "\n",
       "    split0_train_score  split1_train_score  split2_train_score  \\\n",
       "0             0.746631            0.764600            0.742588   \n",
       "1             1.000000            1.000000            1.000000   \n",
       "2             0.714286            0.728212            0.705750   \n",
       "3             1.000000            1.000000            1.000000   \n",
       "4             0.694519            0.701707            0.687332   \n",
       "5             1.000000            1.000000            1.000000   \n",
       "6             0.668913            0.686433            0.671608   \n",
       "7             1.000000            1.000000            1.000000   \n",
       "8             0.662174            0.665319            0.656334   \n",
       "9             1.000000            1.000000            1.000000   \n",
       "10            0.666667            0.651393            0.654987   \n",
       "11            1.000000            1.000000            1.000000   \n",
       "12            0.656334            0.648248            0.645103   \n",
       "13            1.000000            1.000000            1.000000   \n",
       "14            0.743037            0.751572            0.737646   \n",
       "15            1.000000            1.000000            1.000000   \n",
       "16            0.712040            0.715633            0.711141   \n",
       "17            1.000000            1.000000            1.000000   \n",
       "18            0.693621            0.703055            0.694969   \n",
       "19            1.000000            1.000000            1.000000   \n",
       "20            0.674304            0.685984            0.674304   \n",
       "21            1.000000            1.000000            1.000000   \n",
       "22            0.670710            0.675202            0.666217   \n",
       "23            1.000000            1.000000            1.000000   \n",
       "24            0.661725            0.669811            0.663522   \n",
       "25            1.000000            1.000000            1.000000   \n",
       "26            0.653639            0.664420            0.660377   \n",
       "27            1.000000            1.000000            1.000000   \n",
       "\n",
       "    split3_train_score  split4_train_score  mean_train_score  std_train_score  \n",
       "0             0.751684            0.754827          0.752066         0.007540  \n",
       "1             1.000000            1.000000          1.000000         0.000000  \n",
       "2             0.715312            0.720251          0.716762         0.007386  \n",
       "3             1.000000            1.000000          1.000000         0.000000  \n",
       "4             0.691962            0.694207          0.693946         0.004654  \n",
       "5             1.000000            1.000000          1.000000         0.000000  \n",
       "6             0.681634            0.672654          0.676248         0.006648  \n",
       "7             1.000000            1.000000          1.000000         0.000000  \n",
       "8             0.669511            0.667265          0.664121         0.004578  \n",
       "9             1.000000            1.000000          1.000000         0.000000  \n",
       "10            0.672654            0.665020          0.662144         0.007823  \n",
       "11            1.000000            1.000000          1.000000         0.000000  \n",
       "12            0.660979            0.661428          0.654418         0.006644  \n",
       "13            1.000000            1.000000          1.000000         0.000000  \n",
       "14            0.747643            0.755725          0.747125         0.006334  \n",
       "15            1.000000            1.000000          1.000000         0.000000  \n",
       "16            0.718455            0.721599          0.715774         0.003913  \n",
       "17            1.000000            1.000000          1.000000         0.000000  \n",
       "18            0.700045            0.695106          0.697359         0.003589  \n",
       "19            1.000000            1.000000          1.000000         0.000000  \n",
       "20            0.687472            0.680287          0.680470         0.005577  \n",
       "21            1.000000            1.000000          1.000000         0.000000  \n",
       "22            0.676246            0.669511          0.671577         0.003706  \n",
       "23            1.000000            1.000000          1.000000         0.000000  \n",
       "24            0.674001            0.668163          0.667445         0.004409  \n",
       "25            1.000000            1.000000          1.000000         0.000000  \n",
       "26            0.669062            0.663224          0.662144         0.005092  \n",
       "27            1.000000            1.000000          1.000000         0.000000  \n",
       "\n",
       "[28 rows x 23 columns]"
      ]
     },
     "execution_count": 29,
     "metadata": {},
     "output_type": "execute_result"
    }
   ],
   "source": [
    "pd.DataFrame(knn_gridsearch.cv_results_)"
   ]
  },
  {
   "cell_type": "markdown",
   "metadata": {},
   "source": [
    "## 5. Once you're happy with your hyperparameters, evaluate your model on the training and test data\n",
    "\n",
    "> When you use a gridsearch's `.best_estimator_`, it will already have fit a model with the best hyperparameters on your training data, so all you have to do is score it on your training and testing data."
   ]
  },
  {
   "cell_type": "markdown",
   "metadata": {},
   "source": [
    "**Assign the best fit model (`best_estimator_`) to a variable and score it on the test data.**\n",
    "\n",
    "Compare this model to the baseline accuracy and your default KNN."
   ]
  },
  {
   "cell_type": "code",
   "execution_count": 30,
   "metadata": {},
   "outputs": [
    {
     "name": "stdout",
     "output_type": "stream",
     "text": [
      "0.6665468918433345\n",
      "0.6467005076142132\n"
     ]
    }
   ],
   "source": [
    "# assign your best_estimator_ to the variable, then use .score( ) on your testing data\n",
    "best_knn = knn_gridsearch.best_estimator_\n",
    "print(best_knn.score(X_train_std, y_train))\n",
    "print(best_knn.score(X_test_std, y_test))"
   ]
  },
  {
   "cell_type": "markdown",
   "metadata": {},
   "source": [
    "It is also possible to directly work with the gridsearch model. It will make use of the best model."
   ]
  },
  {
   "cell_type": "code",
   "execution_count": 31,
   "metadata": {},
   "outputs": [
    {
     "name": "stdout",
     "output_type": "stream",
     "text": [
      "0.6665468918433345\n",
      "0.6467005076142132\n"
     ]
    }
   ],
   "source": [
    "print(knn_gridsearch.score(X_train_std, y_train))\n",
    "print(knn_gridsearch.score(X_test_std, y_test))"
   ]
  },
  {
   "cell_type": "markdown",
   "metadata": {},
   "source": [
    "### 6. Evaluation\n",
    "\n",
    "Then  \n",
    "- evaluate the performance of the model (accuracy, confusion matrix, etc)\n",
    "- find the actual predictions that your model is providing and store them in a dataframe\n",
    "- plot your predictions against your actual target variable to visualize how well your model performed\n",
    "- investigate feature importance with `.coef_` if available"
   ]
  },
  {
   "cell_type": "code",
   "execution_count": 32,
   "metadata": {},
   "outputs": [
    {
     "data": {
      "text/html": [
       "<div>\n",
       "<style scoped>\n",
       "    .dataframe tbody tr th:only-of-type {\n",
       "        vertical-align: middle;\n",
       "    }\n",
       "\n",
       "    .dataframe tbody tr th {\n",
       "        vertical-align: top;\n",
       "    }\n",
       "\n",
       "    .dataframe thead th {\n",
       "        text-align: right;\n",
       "    }\n",
       "</style>\n",
       "<table border=\"1\" class=\"dataframe\">\n",
       "  <thead>\n",
       "    <tr style=\"text-align: right;\">\n",
       "      <th></th>\n",
       "      <th>predicted_home_win</th>\n",
       "      <th>predicted_home_loss</th>\n",
       "    </tr>\n",
       "  </thead>\n",
       "  <tbody>\n",
       "    <tr>\n",
       "      <th>True_home_win</th>\n",
       "      <td>501</td>\n",
       "      <td>93</td>\n",
       "    </tr>\n",
       "    <tr>\n",
       "      <th>True_home_loss</th>\n",
       "      <td>255</td>\n",
       "      <td>136</td>\n",
       "    </tr>\n",
       "  </tbody>\n",
       "</table>\n",
       "</div>"
      ],
      "text/plain": [
       "                predicted_home_win  predicted_home_loss\n",
       "True_home_win                  501                   93\n",
       "True_home_loss                 255                  136"
      ]
     },
     "execution_count": 32,
     "metadata": {},
     "output_type": "execute_result"
    }
   ],
   "source": [
    "from sklearn.metrics import confusion_matrix, classification_report\n",
    "\n",
    "predictions = best_knn.predict(X_test_std)\n",
    "confusion = confusion_matrix(y_test, predictions, labels=[1, 0])\n",
    "pd.DataFrame(confusion,\n",
    "             columns=['predicted_home_win', 'predicted_home_loss'],\n",
    "             index=['True_home_win', 'True_home_loss'])"
   ]
  },
  {
   "cell_type": "code",
   "execution_count": 33,
   "metadata": {},
   "outputs": [
    {
     "name": "stdout",
     "output_type": "stream",
     "text": [
      "              precision    recall  f1-score   support\n",
      "\n",
      "           0       0.59      0.35      0.44       391\n",
      "           1       0.66      0.84      0.74       594\n",
      "\n",
      "   micro avg       0.65      0.65      0.65       985\n",
      "   macro avg       0.63      0.60      0.59       985\n",
      "weighted avg       0.64      0.65      0.62       985\n",
      "\n"
     ]
    }
   ],
   "source": [
    "print(classification_report(y_test, predictions))"
   ]
  },
  {
   "cell_type": "markdown",
   "metadata": {},
   "source": [
    "## Gridsearch regularization penalties with logistic regression\n",
    "\n",
    "---\n",
    "\n",
    "Logistic regression models can also apply the Lasso and Ridge penalties. The `LogisticRegression` class takes these regularization-relevant hyperparameters:\n",
    "\n",
    "| Argument | Description |\n",
    "| --- | ---|\n",
    "| **`penalty`** | `'l1'` for Lasso, `'l2'` for Ridge |\n",
    "| **`solver`** | Must be set to `'liblinear'` for the Lasso penalty to work |\n",
    "| **`C`** | The regularization strength (lower means more regularization)|\n",
    "\n",
    "\n",
    "1. Fit and validate the accuracy of a default logistic regression on the basketball data.\n",
    "- Perform a gridsearch over different regularization strengths and Lasso and Ridge penalties.\n",
    "- Compare the accuracy on the test set of your optimized logistic regression to the baseline accuracy and the default model.\n",
    "- Look at the best parameters found. What was chosen? What does this suggest about our data?\n",
    "- Look at the coefficients and associated predictors for your optimized model. What appears to be the most important predictor?\n"
   ]
  },
  {
   "cell_type": "code",
   "execution_count": 34,
   "metadata": {},
   "outputs": [],
   "source": [
    "from sklearn.linear_model import LogisticRegression"
   ]
  },
  {
   "cell_type": "code",
   "execution_count": 35,
   "metadata": {},
   "outputs": [
    {
     "data": {
      "text/plain": [
       "0.649658370251734"
      ]
     },
     "execution_count": 35,
     "metadata": {},
     "output_type": "execute_result"
    }
   ],
   "source": [
    "# set up a logistic regression model,\n",
    "# and find its cross-validated scores for your training data\n",
    "# you should get accuracies higher than 0.6, which is better than KNN!\n",
    "lr = LogisticRegression(solver='lbfgs', max_iter=1000)\n",
    "\n",
    "# find the mean of those cross-validated scores:\n",
    "cross_val_score(lr, X_train_std, y_train, cv=5).mean()"
   ]
  },
  {
   "cell_type": "code",
   "execution_count": 36,
   "metadata": {},
   "outputs": [],
   "source": [
    "# Set up the parameters.\n",
    "# Use a list with 'l1' and 'l2' for the penalties,\n",
    "# Use a list with 'liblinear' for the solver,\n",
    "# Use a logspace from -3 to 0, with 50 different values\n",
    "\n",
    "# fill the dictionary of parameters\n",
    "gs_params = {'penalty': ['l1', 'l2'],\n",
    "             'solver': ['liblinear'],\n",
    "             'C': np.logspace(-3, 0, 50)}\n",
    "\n",
    "# create your gridsearch object\n",
    "lr_gridsearch = GridSearchCV(lr,\n",
    "                             gs_params,\n",
    "                             n_jobs=2, \n",
    "                             cv=5, \n",
    "                             verbose=1)"
   ]
  },
  {
   "cell_type": "code",
   "execution_count": 37,
   "metadata": {
    "scrolled": false
   },
   "outputs": [
    {
     "name": "stdout",
     "output_type": "stream",
     "text": [
      "Fitting 5 folds for each of 100 candidates, totalling 500 fits\n"
     ]
    },
    {
     "name": "stderr",
     "output_type": "stream",
     "text": [
      "[Parallel(n_jobs=2)]: Using backend LokyBackend with 2 concurrent workers.\n",
      "[Parallel(n_jobs=2)]: Done 500 out of 500 | elapsed:   13.1s finished\n"
     ]
    },
    {
     "data": {
      "text/plain": [
       "GridSearchCV(cv=5, error_score='raise-deprecating',\n",
       "       estimator=LogisticRegression(C=1.0, class_weight=None, dual=False, fit_intercept=True,\n",
       "          intercept_scaling=1, max_iter=1000, multi_class='warn',\n",
       "          n_jobs=None, penalty='l2', random_state=None, solver='lbfgs',\n",
       "          tol=0.0001, verbose=0, warm_start=False),\n",
       "       fit_params=None, iid='warn', n_jobs=2,\n",
       "       param_grid={'penalty': ['l1', 'l2'], 'solver': ['liblinear'], 'C': array([0.001  , 0.00115, 0.00133, 0.00153, 0.00176, 0.00202, 0.00233,\n",
       "       0.00268, 0.00309, 0.00356, 0.00409, 0.00471, 0.00543, 0.00625,\n",
       "       0.0072 , 0.00829, 0.00954, 0.01099, 0.01265, 0.01456, 0.01677,\n",
       "       0.01931, 0.02223...18, 0.32375,\n",
       "       0.37276, 0.42919, 0.49417, 0.56899, 0.65513, 0.75431, 0.86851,\n",
       "       1.     ])},\n",
       "       pre_dispatch='2*n_jobs', refit=True, return_train_score='warn',\n",
       "       scoring=None, verbose=1)"
      ]
     },
     "execution_count": 37,
     "metadata": {},
     "output_type": "execute_result"
    }
   ],
   "source": [
    "# fit your gridsearch object on your training data\n",
    "lr_gridsearch.fit(X_train_std, y_train)"
   ]
  },
  {
   "cell_type": "code",
   "execution_count": 38,
   "metadata": {},
   "outputs": [
    {
     "data": {
      "text/plain": [
       "0.660797700323392"
      ]
     },
     "execution_count": 38,
     "metadata": {},
     "output_type": "execute_result"
    }
   ],
   "source": [
    "# find the best mean cross-validated score that your gridsearch found:\n",
    "# (this should be better than the mean cross-validated score for your default logistic regression above)\n",
    "lr_gridsearch.best_score_"
   ]
  },
  {
   "cell_type": "code",
   "execution_count": 39,
   "metadata": {},
   "outputs": [
    {
     "data": {
      "text/plain": [
       "{'C': 0.0030888435964774815, 'penalty': 'l1', 'solver': 'liblinear'}"
      ]
     },
     "execution_count": 39,
     "metadata": {},
     "output_type": "execute_result"
    }
   ],
   "source": [
    "# find the best hyperparameters that your gridsearch found:\n",
    "lr_gridsearch.best_params_"
   ]
  },
  {
   "cell_type": "code",
   "execution_count": 40,
   "metadata": {},
   "outputs": [],
   "source": [
    "# assign the best estimator to a variable:\n",
    "best_lr = lr_gridsearch.best_estimator_"
   ]
  },
  {
   "cell_type": "code",
   "execution_count": 41,
   "metadata": {
    "scrolled": true
   },
   "outputs": [
    {
     "data": {
      "text/plain": [
       "0.665989847715736"
      ]
     },
     "execution_count": 41,
     "metadata": {},
     "output_type": "execute_result"
    }
   ],
   "source": [
    "# score your best estimator on the testing data:\n",
    "lr_gridsearch.score(X_test_std, y_test)"
   ]
  },
  {
   "cell_type": "markdown",
   "metadata": {},
   "source": [
    "### Analyze the feature importances"
   ]
  },
  {
   "cell_type": "code",
   "execution_count": 42,
   "metadata": {},
   "outputs": [],
   "source": [
    "# create a dataframe to look at the coefficients\n",
    "coef_df = pd.DataFrame({'feature': X.columns,\n",
    "                        'coef': best_lr.coef_[0],\n",
    "                        'abs_coef': np.abs(best_lr.coef_[0])})\n"
   ]
  },
  {
   "cell_type": "code",
   "execution_count": 43,
   "metadata": {},
   "outputs": [
    {
     "data": {
      "text/html": [
       "<div>\n",
       "<style scoped>\n",
       "    .dataframe tbody tr th:only-of-type {\n",
       "        vertical-align: middle;\n",
       "    }\n",
       "\n",
       "    .dataframe tbody tr th {\n",
       "        vertical-align: top;\n",
       "    }\n",
       "\n",
       "    .dataframe thead th {\n",
       "        text-align: right;\n",
       "    }\n",
       "</style>\n",
       "<table border=\"1\" class=\"dataframe\">\n",
       "  <thead>\n",
       "    <tr style=\"text-align: right;\">\n",
       "      <th></th>\n",
       "      <th>feature</th>\n",
       "      <th>coef</th>\n",
       "      <th>abs_coef</th>\n",
       "    </tr>\n",
       "  </thead>\n",
       "  <tbody>\n",
       "    <tr>\n",
       "      <th>8</th>\n",
       "      <td>game_behind</td>\n",
       "      <td>0.240558</td>\n",
       "      <td>0.240558</td>\n",
       "    </tr>\n",
       "    <tr>\n",
       "      <th>0</th>\n",
       "      <td>Host_HostRank</td>\n",
       "      <td>0.000000</td>\n",
       "      <td>0.000000</td>\n",
       "    </tr>\n",
       "    <tr>\n",
       "      <th>54</th>\n",
       "      <td>gTOV%_avg10</td>\n",
       "      <td>0.000000</td>\n",
       "      <td>0.000000</td>\n",
       "    </tr>\n",
       "    <tr>\n",
       "      <th>62</th>\n",
       "      <td>g3PA_avg10</td>\n",
       "      <td>0.000000</td>\n",
       "      <td>0.000000</td>\n",
       "    </tr>\n",
       "    <tr>\n",
       "      <th>61</th>\n",
       "      <td>g3P_avg10</td>\n",
       "      <td>0.000000</td>\n",
       "      <td>0.000000</td>\n",
       "    </tr>\n",
       "  </tbody>\n",
       "</table>\n",
       "</div>"
      ],
      "text/plain": [
       "          feature      coef  abs_coef\n",
       "8     game_behind  0.240558  0.240558\n",
       "0   Host_HostRank  0.000000  0.000000\n",
       "54    gTOV%_avg10  0.000000  0.000000\n",
       "62     g3PA_avg10  0.000000  0.000000\n",
       "61      g3P_avg10  0.000000  0.000000"
      ]
     },
     "execution_count": 43,
     "metadata": {},
     "output_type": "execute_result"
    }
   ],
   "source": [
    "# sort by absolute value of coefficient (magnitude)\n",
    "coef_df.sort_values('abs_coef', ascending=False, inplace=True)\n",
    "coef_df.head()"
   ]
  },
  {
   "cell_type": "markdown",
   "metadata": {},
   "source": [
    "## Conclusions\n",
    "\n",
    "- You always want to use your training data to search for your best hyperparameters! You can do this with GridSearchCV, or with other sklearn objects like RidgeCV, LassoCV, ElasticNetCV, or LogisticRegressionCV.  \n",
    "\n",
    "\n",
    "- You instantiate GridSearchCV with:\n",
    "    - a model\n",
    "    - a dictionary for that model's parameters\n",
    "    - the number of cross-validation folds you want it to perform (`cv=5`)\n",
    "    - how many cores to use on your computer for this job (`n_jobs=1`)\n",
    "    - whether you want your model to give you some print-outs while it works (`verbose=1`)\n",
    "    \n",
    "\n",
    "- Once you've instantiated the GridSearch object, you can fit it on your training data\n",
    "\n",
    "\n",
    "- Once it's finished searching, you can access some useful attributes:\n",
    "    - `.best_score_`, to find the mean cross-validated score of the best estimator\n",
    "    - `.best_params_`, to find the best hyperparameters \n",
    "    - refer to `.best_estimator_` to extract `.coef_`, etc\n",
    "    - `.score()` and `.predict()` used on the gridsearched model will make use of the best estimator\n",
    "    - `.cv_results_` to display results about all models (only available if you set `return_train_score=True`)"
   ]
  },
  {
   "cell_type": "code",
   "execution_count": null,
   "metadata": {},
   "outputs": [],
   "source": []
  },
  {
   "cell_type": "code",
   "execution_count": null,
   "metadata": {},
   "outputs": [],
   "source": []
  },
  {
   "cell_type": "code",
   "execution_count": null,
   "metadata": {},
   "outputs": [],
   "source": []
  },
  {
   "cell_type": "code",
   "execution_count": null,
   "metadata": {},
   "outputs": [],
   "source": []
  },
  {
   "cell_type": "code",
   "execution_count": null,
   "metadata": {},
   "outputs": [],
   "source": []
  },
  {
   "cell_type": "code",
   "execution_count": null,
   "metadata": {},
   "outputs": [],
   "source": []
  },
  {
   "cell_type": "code",
   "execution_count": null,
   "metadata": {},
   "outputs": [],
   "source": []
  },
  {
   "cell_type": "code",
   "execution_count": null,
   "metadata": {},
   "outputs": [],
   "source": []
  },
  {
   "cell_type": "code",
   "execution_count": null,
   "metadata": {},
   "outputs": [],
   "source": []
  },
  {
   "cell_type": "code",
   "execution_count": null,
   "metadata": {},
   "outputs": [],
   "source": []
  }
 ],
 "metadata": {
  "kernelspec": {
   "display_name": "Python 3",
   "language": "python",
   "name": "python3"
  },
  "language_info": {
   "codemirror_mode": {
    "name": "ipython",
    "version": 3
   },
   "file_extension": ".py",
   "mimetype": "text/x-python",
   "name": "python",
   "nbconvert_exporter": "python",
   "pygments_lexer": "ipython3",
   "version": "3.7.3"
  },
  "toc": {
   "base_numbering": 1,
   "nav_menu": {},
   "number_sections": false,
   "sideBar": true,
   "skip_h1_title": false,
   "title_cell": "Lesson Guide",
   "title_sidebar": "Contents",
   "toc_cell": true,
   "toc_position": {},
   "toc_section_display": "block",
   "toc_window_display": false
  },
  "varInspector": {
   "cols": {
    "lenName": 16,
    "lenType": 16,
    "lenVar": 40
   },
   "kernels_config": {
    "python": {
     "delete_cmd_postfix": "",
     "delete_cmd_prefix": "del ",
     "library": "var_list.py",
     "varRefreshCmd": "print(var_dic_list())"
    },
    "r": {
     "delete_cmd_postfix": ") ",
     "delete_cmd_prefix": "rm(",
     "library": "var_list.r",
     "varRefreshCmd": "cat(var_dic_list()) "
    }
   },
   "types_to_exclude": [
    "module",
    "function",
    "builtin_function_or_method",
    "instance",
    "_Feature"
   ],
   "window_display": false
  }
 },
 "nbformat": 4,
 "nbformat_minor": 2
}
