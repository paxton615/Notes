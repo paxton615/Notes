{
 "cells": [
  {
   "cell_type": "markdown",
   "metadata": {
    "slideshow": {
     "slide_type": "slide"
    }
   },
   "source": [
    "<img src=\"http://imgur.com/1ZcRyrc.png\" style=\"float: left; margin: 20px; height: 55px\">\n",
    "\n",
    "# Intro to Data Representation and Data Cleaning\n",
    "\n",
    "\n",
    "---\n",
    "\n",
    "<img src=\"https://snag.gy/ywU34V.jpg\" width=\"250\">"
   ]
  },
  {
   "cell_type": "markdown",
   "metadata": {
    "slideshow": {
     "slide_type": "slide"
    }
   },
   "source": [
    "## Learning Objectives\n",
    "\n",
    "\n",
    "### Core\n",
    "- Know about common data cleaning strategies\n",
    "- Know how to assess data quality\n",
    "- Inspect data types\n",
    "- Fill missing values with `fillna`\n",
    "- Count categorical values with `.value_counts`\n",
    "\n",
    "### Target\n",
    "- Know the difference between `.map`, `.apply`, `.applymap`  \n",
    "- Clean up a column using `.map`, `.apply`, `.applymap`  \n",
    "\n",
    "### Stretch\n",
    "- Write your own function and apply it to a series/dataframe with `.map`, `.apply`, `.applymap`  "
   ]
  },
  {
   "cell_type": "markdown",
   "metadata": {
    "toc": true
   },
   "source": [
    "<h1>Lesson Guide<span class=\"tocSkip\"></span></h1>\n",
    "<div class=\"toc\"><ul class=\"toc-item\"><li><span><a href=\"#Learning-Objectives\" data-toc-modified-id=\"Learning-Objectives-1\">Learning Objectives</a></span><ul class=\"toc-item\"><li><span><a href=\"#Core\" data-toc-modified-id=\"Core-1.1\">Core</a></span></li><li><span><a href=\"#Target\" data-toc-modified-id=\"Target-1.2\">Target</a></span></li><li><span><a href=\"#Stretch\" data-toc-modified-id=\"Stretch-1.3\">Stretch</a></span></li></ul></li><li><span><a href=\"#Common-Data-Cleaning-Strategies\" data-toc-modified-id=\"Common-Data-Cleaning-Strategies-2\">Common Data Cleaning Strategies</a></span></li><li><span><a href=\"#Measures-of-Data-Quality\" data-toc-modified-id=\"Measures-of-Data-Quality-3\">Measures of Data Quality</a></span></li><li><span><a href=\"#pandas-Tools-for-Data-Cleaning\" data-toc-modified-id=\"pandas-Tools-for-Data-Cleaning-4\"><code>pandas</code> Tools for Data Cleaning</a></span><ul class=\"toc-item\"><li><ul class=\"toc-item\"><li><span><a href=\"#The-.map()-function\" data-toc-modified-id=\"The-.map()-function-4.0.1\">The <code>.map()</code> function</a></span></li><li><span><a href=\"#The-.apply()-function\" data-toc-modified-id=\"The-.apply()-function-4.0.2\">The <code>.apply()</code> function</a></span></li><li><span><a href=\"#The-.applymap()-function\" data-toc-modified-id=\"The-.applymap()-function-4.0.3\">The <code>.applymap()</code> function</a></span></li><li><span><a href=\"#The-.fillna()-function\" data-toc-modified-id=\"The-.fillna()-function-4.0.4\">The <code>.fillna()</code> function</a></span></li><li><span><a href=\"#The-.value_counts()-function\" data-toc-modified-id=\"The-.value_counts()-function-4.0.5\">The <code>.value_counts()</code> function</a></span></li></ul></li></ul></li><li><span><a href=\"#Inspecting-Data-Types\" data-toc-modified-id=\"Inspecting-Data-Types-5\">Inspecting Data Types</a></span><ul class=\"toc-item\"><li><span><a href=\"#1.-Create-a-small-DataFrame-with-different-data-types\" data-toc-modified-id=\"1.-Create-a-small-DataFrame-with-different-data-types-5.1\">1. Create a small DataFrame with different data types</a></span></li><li><span><a href=\"#2.-Examine-the-data-types-of-the-columns\" data-toc-modified-id=\"2.-Examine-the-data-types-of-the-columns-5.2\">2. Examine the data types of the columns</a></span></li><li><span><a href=\"#3.-Use-the-.get_dtype_counts()-function-to-determine-how-many-columns-there-are-of-each-type\" data-toc-modified-id=\"3.-Use-the-.get_dtype_counts()-function-to-determine-how-many-columns-there-are-of-each-type-5.3\">3. Use the <code>.get_dtype_counts()</code> function to determine how many columns there are of each type</a></span></li><li><span><a href=\"#4.-Create-a-Series-object-with-integers-1-5-and-float-6.0.\" data-toc-modified-id=\"4.-Create-a-Series-object-with-integers-1-5-and-float-6.0.-5.4\">4. Create a Series object with integers 1-5 and float 6.0.</a></span></li><li><span><a href=\"#5.-Create-a-Series-with-data-[1,-2,-3,-6.,-'foo'].-What-data-type-is-the-Series?\" data-toc-modified-id=\"5.-Create-a-Series-with-data-[1,-2,-3,-6.,-'foo'].-What-data-type-is-the-Series?-5.5\">5. Create a Series with data <code>[1, 2, 3, 6., 'foo']</code>. What data type is the Series?</a></span></li><li><span><a href=\"#Without-running-this-code-with-a-Python-interpreter,-what-would-you-expect-to-be-the-common-dtype?\" data-toc-modified-id=\"Without-running-this-code-with-a-Python-interpreter,-what-would-you-expect-to-be-the-common-dtype?-5.6\"><em>Without</em> running this code with a Python interpreter, what would you expect to be the common <code>dtype</code>?</a></span></li></ul></li><li><span><a href=\"#Applying-Functions-to-DataFrames-and-Series\" data-toc-modified-id=\"Applying-Functions-to-DataFrames-and-Series-6\">Applying Functions to DataFrames and Series</a></span><ul class=\"toc-item\"><li><span><a href=\"#6.-Create-another-small-DataFrame\" data-toc-modified-id=\"6.-Create-another-small-DataFrame-6.1\">6. Create another small DataFrame</a></span></li><li><span><a href=\"#7.-Use-the-.apply()/.applymap()-function-to-find-the-square-root-of-all-cells\" data-toc-modified-id=\"7.-Use-the-.apply()/.applymap()-function-to-find-the-square-root-of-all-cells-6.2\">7. Use the <code>.apply()</code>/<code>.applymap()</code> function to find the square root of all cells</a></span></li><li><span><a href=\"#8.-Use-.apply()-to-find-the-mean-of-the-columns\" data-toc-modified-id=\"8.-Use-.apply()-to-find-the-mean-of-the-columns-6.3\">8. Use <code>.apply()</code> to find the mean of the columns</a></span></li><li><span><a href=\"#9.-Use-.apply()-to-find-the-mean-of-the-rows\" data-toc-modified-id=\"9.-Use-.apply()-to-find-the-mean-of-the-rows-6.4\">9. Use <code>.apply()</code> to find the mean of the rows</a></span></li><li><span><a href=\"#10.-Use-.apply()-to-add-two-columns\" data-toc-modified-id=\"10.-Use-.apply()-to-add-two-columns-6.5\">10. Use <code>.apply()</code> to add two columns</a></span></li><li><span><a href=\"#11.-Use-.applymap()-to-round-the-value-in-each-cell\" data-toc-modified-id=\"11.-Use-.applymap()-to-round-the-value-in-each-cell-6.6\">11. Use <code>.applymap()</code> to round the value in each cell</a></span></li><li><span><a href=\"#12.-Use-.applymap()-to-apply-a-self-defined-function-to-each-cell\" data-toc-modified-id=\"12.-Use-.applymap()-to-apply-a-self-defined-function-to-each-cell-6.7\">12. Use <code>.applymap()</code> to apply a self-defined function to each cell</a></span></li></ul></li><li><span><a href=\"#Filling-missing-values\" data-toc-modified-id=\"Filling-missing-values-7\">Filling missing values</a></span><ul class=\"toc-item\"><li><span><a href=\"#13.-Fill-all-missing-values-with-'neg'-(indicating-that-the-missing-value-was-due-to-a-negative-original-value)\" data-toc-modified-id=\"13.-Fill-all-missing-values-with-'neg'-(indicating-that-the-missing-value-was-due-to-a-negative-original-value)-7.1\">13. Fill all missing values with 'neg' (indicating that the missing value was due to a negative original value)</a></span></li><li><span><a href=\"#14.-We-could-do-that-also-for-one-column-only.\" data-toc-modified-id=\"14.-We-could-do-that-also-for-one-column-only.-7.2\">14. We could do that also for one column only.</a></span></li><li><span><a href=\"#15.-In-other-contexts,-it-might-be-useful-to-fill-with-other-values.\" data-toc-modified-id=\"15.-In-other-contexts,-it-might-be-useful-to-fill-with-other-values.-7.3\">15. In other contexts, it might be useful to fill with other values.</a></span></li><li><span><a href=\"#16.-Forward-filling-propagates-values-from-rows-above\" data-toc-modified-id=\"16.-Forward-filling-propagates-values-from-rows-above-7.4\">16. Forward filling propagates values from rows above</a></span></li><li><span><a href=\"#17.-Backward-filling-propagates-values-from-rows-below\" data-toc-modified-id=\"17.-Backward-filling-propagates-values-from-rows-below-7.5\">17. Backward filling propagates values from rows below</a></span></li></ul></li><li><span><a href=\"#Counting-Occurrances-of-Unique-Values-With-.value_counts()\" data-toc-modified-id=\"Counting-Occurrances-of-Unique-Values-With-.value_counts()-8\">Counting Occurrances of Unique Values With <code>.value_counts()</code></a></span><ul class=\"toc-item\"><li><span><a href=\"#18.-Create-a-random-vector-of-50-numbers-ranging-from-0-to-6-with-numpy\" data-toc-modified-id=\"18.-Create-a-random-vector-of-50-numbers-ranging-from-0-to-6-with-numpy-8.1\">18. Create a random vector of 50 numbers ranging from 0 to 6 with <code>numpy</code></a></span></li><li><span><a href=\"#19.-Convert-the-vector-to-a-series-and-count-the-occurrences-of-each-number\" data-toc-modified-id=\"19.-Convert-the-vector-to-a-series-and-count-the-occurrences-of-each-number-8.2\">19. Convert the vector to a series and count the occurrences of each number</a></span></li></ul></li><li><span><a href=\"#Independent-Practice:-Sales-Data\" data-toc-modified-id=\"Independent-Practice:-Sales-Data-9\">Independent Practice: Sales Data</a></span><ul class=\"toc-item\"><li><span><a href=\"#Load-the-sales.csv-data-set-from-last-week's-class.\" data-toc-modified-id=\"Load-the-sales.csv-data-set-from-last-week's-class.-9.1\">Load the <code>sales.csv</code> data set from last week's class.</a></span></li><li><span><a href=\"#Inspect-the-data-types.\" data-toc-modified-id=\"Inspect-the-data-types.-9.2\">Inspect the data types.</a></span></li><li><span><a href=\"#Use-.apply()-or-.map()-to-add-1-to-column-1-of-the-data-set.\" data-toc-modified-id=\"Use-.apply()-or-.map()-to-add-1-to-column-1-of-the-data-set.-9.3\">Use <code>.apply()</code> or <code>.map()</code> to add <code>1</code> to column 1 of the data set.</a></span></li><li><span><a href=\"#Use-.apply-to-add-$2\\cdot-{\\rm-column}_1-+-3\\cdot-{\\rm-column}_3$.\" data-toc-modified-id=\"Use-.apply-to-add-$2\\cdot-{\\rm-column}_1-+-3\\cdot-{\\rm-column}_3$.-9.4\">Use <code>.apply</code> to add $2\\cdot {\\rm column}_1 + 3\\cdot {\\rm column}_3$.</a></span></li><li><span><a href=\"#Use-a-combination-of-apply-and-.value_counts()-to-count-how-many-values-of-2015_margin-are-larger-than-45.\" data-toc-modified-id=\"Use-a-combination-of-apply-and-.value_counts()-to-count-how-many-values-of-2015_margin-are-larger-than-45.-9.5\">Use a combination of <code>apply</code> and <code>.value_counts()</code> to count how many values of <code>2015_margin</code> are larger than 45.</a></span></li></ul></li><li><span><a href=\"#Conclusion\" data-toc-modified-id=\"Conclusion-10\">Conclusion</a></span></li><li><span><a href=\"#Additional-resources\" data-toc-modified-id=\"Additional-resources-11\">Additional resources</a></span></li></ul></div>"
   ]
  },
  {
   "cell_type": "markdown",
   "metadata": {
    "slideshow": {
     "slide_type": "slide"
    }
   },
   "source": [
    "## Common Data Cleaning Strategies\n",
    "\n",
    "---\n",
    "\n",
    "- Remove missing values\n",
    "- Remove incorrect values\n",
    "- Update incorrect values\n",
    "  - Removing invalid characters\n",
    "  - Truncating part of a value\n",
    "  - Adding an extra numeral or string-based data\n",
    "- Impute missing or invalid data\n",
    "  - Calculating the mean/median/mode of a column, sometimes within group subsets\n",
    "  - Implementing model-based imputation (K-Nearest Neighbors, MICE, etc.)\n",
    "- Backward fill or forward fill\n"
   ]
  },
  {
   "cell_type": "markdown",
   "metadata": {
    "slideshow": {
     "slide_type": "slide"
    }
   },
   "source": [
    "## Measures of Data Quality\n",
    "\n",
    "---\n",
    "\n",
    " - What is the relative value of the data column?\n",
    " - Is the data encoded properly?\n",
    " - Is the data consistently encoded? \n",
    " - Does it represent the information it contains appropriately?"
   ]
  },
  {
   "cell_type": "markdown",
   "metadata": {
    "slideshow": {
     "slide_type": "slide"
    }
   },
   "source": [
    "##  `pandas` Tools for Data Cleaning\n",
    "\n",
    "---\n",
    "\n",
    "We're starting to get more comfortable with using `pandas` for manipulating and examining data. Now, let's add a couple more tools to our toolbox.\n",
    "\n",
    "The main data types in `pandas` objects are:\n",
    "- **`float`**: Precision-specific math operations\n",
    "- **`int`**: Operations with whole numbers\n",
    "- **`bool`**: Control flow conditions\n",
    "- **`datetime64`**: Resampling, slicing/selection, frequency back/front filling on a date range\n",
    "- **`timedelta`**: Date comparisons\n",
    "- **`category`**: A more powerful set type; can capture for example days as a category with ordinal (ordering) information\n",
    "- **`object`**: All data types can be represented as an object, but math and date operations will not be possible; limited control flow possibilities are available unless you are comparing strings\n",
    "\n",
    "It is always important to evaluate the data types of columns to ensure that the information they contain is properly represented.\n",
    "\n",
    "We will be using two tools extensively in this lesson:\n",
    "\n",
    "#### The `.map()` function\n",
    "\n",
    "This built-in function can be used to apply a function to a pandas series or single dataframe colum.\n",
    "\n",
    "#### The `.apply()` function\n",
    "\n",
    "This function can be used to apply a function along every row or column of a dataframe, what is returned depends on if the function aggregates or not.\n",
    "\n",
    "#### The `.applymap()` function\n",
    "\n",
    "This function can be used to apply a function to every cell of a dataframe.\n",
    "\n",
    "#### The `.fillna()` function\n",
    "\n",
    "This built-in function allows to specify methods for filling missing data.\n",
    "\n",
    "#### The `.value_counts()` function\n",
    "\n",
    "The `.value_counts()` function can be applied to `pandas` series objects and returns a new series containing the counts of the data's unique values. This series will be formatted in descending order by default, so the first element is the most frequently occurring value.\n",
    "\n",
    "Note: `.value_counts()` excludes the counts of null values in the column!"
   ]
  },
  {
   "cell_type": "markdown",
   "metadata": {
    "slideshow": {
     "slide_type": "slide"
    }
   },
   "source": [
    "## Inspecting Data Types\n",
    "\n",
    "---"
   ]
  },
  {
   "cell_type": "code",
   "execution_count": 1,
   "metadata": {},
   "outputs": [],
   "source": [
    "import pandas as pd\n",
    "import numpy as np"
   ]
  },
  {
   "cell_type": "markdown",
   "metadata": {
    "slideshow": {
     "slide_type": "slide"
    }
   },
   "source": [
    "### 1. Create a small DataFrame with different data types"
   ]
  },
  {
   "cell_type": "code",
   "execution_count": 2,
   "metadata": {
    "slideshow": {
     "slide_type": "-"
    }
   },
   "outputs": [],
   "source": [
    "test_data = dict(\n",
    "    A=np.random.rand(3),\n",
    "    B=1,\n",
    "    C='foo',\n",
    "    D=pd.Timestamp('20010102'),\n",
    "    E=pd.Series([1.0]*3).astype('float32'),\n",
    "    F=False,\n",
    "    G=pd.Series([1]*3, dtype='int8')\n",
    ")"
   ]
  },
  {
   "cell_type": "code",
   "execution_count": 3,
   "metadata": {
    "slideshow": {
     "slide_type": "fragment"
    }
   },
   "outputs": [
    {
     "data": {
      "text/plain": [
       "{'A': array([0.32371524, 0.84540606, 0.11772211]),\n",
       " 'B': 1,\n",
       " 'C': 'foo',\n",
       " 'D': Timestamp('2001-01-02 00:00:00'),\n",
       " 'E': 0    1.0\n",
       " 1    1.0\n",
       " 2    1.0\n",
       " dtype: float32,\n",
       " 'F': False,\n",
       " 'G': 0    1\n",
       " 1    1\n",
       " 2    1\n",
       " dtype: int8}"
      ]
     },
     "execution_count": 3,
     "metadata": {},
     "output_type": "execute_result"
    }
   ],
   "source": [
    "test_data"
   ]
  },
  {
   "cell_type": "code",
   "execution_count": 4,
   "metadata": {
    "slideshow": {
     "slide_type": "slide"
    }
   },
   "outputs": [
    {
     "data": {
      "text/html": [
       "<div>\n",
       "<style scoped>\n",
       "    .dataframe tbody tr th:only-of-type {\n",
       "        vertical-align: middle;\n",
       "    }\n",
       "\n",
       "    .dataframe tbody tr th {\n",
       "        vertical-align: top;\n",
       "    }\n",
       "\n",
       "    .dataframe thead th {\n",
       "        text-align: right;\n",
       "    }\n",
       "</style>\n",
       "<table border=\"1\" class=\"dataframe\">\n",
       "  <thead>\n",
       "    <tr style=\"text-align: right;\">\n",
       "      <th></th>\n",
       "      <th>A</th>\n",
       "      <th>B</th>\n",
       "      <th>C</th>\n",
       "      <th>D</th>\n",
       "      <th>E</th>\n",
       "      <th>F</th>\n",
       "      <th>G</th>\n",
       "    </tr>\n",
       "  </thead>\n",
       "  <tbody>\n",
       "    <tr>\n",
       "      <th>0</th>\n",
       "      <td>0.323715</td>\n",
       "      <td>1</td>\n",
       "      <td>foo</td>\n",
       "      <td>2001-01-02</td>\n",
       "      <td>1.0</td>\n",
       "      <td>False</td>\n",
       "      <td>1</td>\n",
       "    </tr>\n",
       "    <tr>\n",
       "      <th>1</th>\n",
       "      <td>0.845406</td>\n",
       "      <td>1</td>\n",
       "      <td>foo</td>\n",
       "      <td>2001-01-02</td>\n",
       "      <td>1.0</td>\n",
       "      <td>False</td>\n",
       "      <td>1</td>\n",
       "    </tr>\n",
       "    <tr>\n",
       "      <th>2</th>\n",
       "      <td>0.117722</td>\n",
       "      <td>1</td>\n",
       "      <td>foo</td>\n",
       "      <td>2001-01-02</td>\n",
       "      <td>1.0</td>\n",
       "      <td>False</td>\n",
       "      <td>1</td>\n",
       "    </tr>\n",
       "  </tbody>\n",
       "</table>\n",
       "</div>"
      ],
      "text/plain": [
       "          A  B    C          D    E      F  G\n",
       "0  0.323715  1  foo 2001-01-02  1.0  False  1\n",
       "1  0.845406  1  foo 2001-01-02  1.0  False  1\n",
       "2  0.117722  1  foo 2001-01-02  1.0  False  1"
      ]
     },
     "execution_count": 4,
     "metadata": {},
     "output_type": "execute_result"
    }
   ],
   "source": [
    "dft = pd.DataFrame(test_data)\n",
    "dft"
   ]
  },
  {
   "cell_type": "markdown",
   "metadata": {
    "slideshow": {
     "slide_type": "slide"
    }
   },
   "source": [
    "### 2. Examine the data types of the columns"
   ]
  },
  {
   "cell_type": "code",
   "execution_count": 5,
   "metadata": {
    "slideshow": {
     "slide_type": "fragment"
    }
   },
   "outputs": [
    {
     "data": {
      "text/plain": [
       "A           float64\n",
       "B             int64\n",
       "C            object\n",
       "D    datetime64[ns]\n",
       "E           float32\n",
       "F              bool\n",
       "G              int8\n",
       "dtype: object"
      ]
     },
     "execution_count": 5,
     "metadata": {},
     "output_type": "execute_result"
    }
   ],
   "source": [
    "dft.dtypes"
   ]
  },
  {
   "cell_type": "markdown",
   "metadata": {
    "slideshow": {
     "slide_type": "slide"
    }
   },
   "source": [
    "### 3. Use the `.get_dtype_counts()` function to determine how many columns there are of each type"
   ]
  },
  {
   "cell_type": "code",
   "execution_count": 6,
   "metadata": {},
   "outputs": [
    {
     "data": {
      "text/plain": [
       "float64           1\n",
       "float32           1\n",
       "int64             1\n",
       "int8              1\n",
       "datetime64[ns]    1\n",
       "bool              1\n",
       "object            1\n",
       "dtype: int64"
      ]
     },
     "execution_count": 6,
     "metadata": {},
     "output_type": "execute_result"
    }
   ],
   "source": [
    "dft.get_dtype_counts()"
   ]
  },
  {
   "cell_type": "markdown",
   "metadata": {
    "slideshow": {
     "slide_type": "slide"
    }
   },
   "source": [
    "### 4. Create a Series object with integers 1-5 and float 6.0. \n",
    "\n",
    "What data type is the Series?"
   ]
  },
  {
   "cell_type": "code",
   "execution_count": 7,
   "metadata": {
    "slideshow": {
     "slide_type": "fragment"
    }
   },
   "outputs": [],
   "source": [
    "series_1 = pd.Series([1, 2, 3, 4, 5, '6'])"
   ]
  },
  {
   "cell_type": "code",
   "execution_count": 8,
   "metadata": {},
   "outputs": [
    {
     "data": {
      "text/plain": [
       "dtype('O')"
      ]
     },
     "execution_count": 8,
     "metadata": {},
     "output_type": "execute_result"
    }
   ],
   "source": [
    "# the datatype of the series\n",
    "series_1.dtypes"
   ]
  },
  {
   "cell_type": "code",
   "execution_count": 9,
   "metadata": {},
   "outputs": [
    {
     "data": {
      "text/plain": [
       "str"
      ]
     },
     "execution_count": 9,
     "metadata": {},
     "output_type": "execute_result"
    }
   ],
   "source": [
    "# the datatype of a single element\n",
    "type(series_1[5])"
   ]
  },
  {
   "cell_type": "code",
   "execution_count": 10,
   "metadata": {},
   "outputs": [],
   "source": [
    "series_1 = series_1.astype(int)"
   ]
  },
  {
   "cell_type": "code",
   "execution_count": 11,
   "metadata": {},
   "outputs": [
    {
     "data": {
      "text/plain": [
       "dtype('int64')"
      ]
     },
     "execution_count": 11,
     "metadata": {},
     "output_type": "execute_result"
    }
   ],
   "source": [
    "# the datatype of the series\n",
    "series_1.dtype"
   ]
  },
  {
   "cell_type": "code",
   "execution_count": 12,
   "metadata": {},
   "outputs": [
    {
     "data": {
      "text/plain": [
       "numpy.int64"
      ]
     },
     "execution_count": 12,
     "metadata": {},
     "output_type": "execute_result"
    }
   ],
   "source": [
    "# the datatype of a single element\n",
    "type(series_1[5])"
   ]
  },
  {
   "cell_type": "markdown",
   "metadata": {
    "slideshow": {
     "slide_type": "-"
    }
   },
   "source": [
    "If a `pandas` object contains data of multiple dtypes in a single column, the dtype of that column will be used to accommodate all data types (`object` is the most general)."
   ]
  },
  {
   "cell_type": "markdown",
   "metadata": {
    "slideshow": {
     "slide_type": "slide"
    }
   },
   "source": [
    "### 5. Create a Series with data `[1, 2, 3, 6., 'foo']`. What data type is the Series?"
   ]
  },
  {
   "cell_type": "code",
   "execution_count": 13,
   "metadata": {
    "scrolled": true,
    "slideshow": {
     "slide_type": "fragment"
    }
   },
   "outputs": [
    {
     "data": {
      "text/plain": [
       "0      1\n",
       "1      2\n",
       "2      3\n",
       "3    foo\n",
       "dtype: object"
      ]
     },
     "execution_count": 13,
     "metadata": {},
     "output_type": "execute_result"
    }
   ],
   "source": [
    "pd.Series([1, 2, 3, 'foo'])"
   ]
  },
  {
   "cell_type": "markdown",
   "metadata": {
    "slideshow": {
     "slide_type": "slide"
    }
   },
   "source": [
    "### *Without* running this code with a Python interpreter, what would you expect to be the common `dtype`?\n",
    "\n",
    "    [1, 3, 9, .33, False, '03-20-1978', np.arange(22)]\n",
    "\n"
   ]
  },
  {
   "cell_type": "code",
   "execution_count": 14,
   "metadata": {},
   "outputs": [
    {
     "data": {
      "text/plain": [
       "0                                                    1\n",
       "1                                                    3\n",
       "2                                                    9\n",
       "3                                                 0.33\n",
       "4                                                False\n",
       "5                                           03-20-1978\n",
       "6    [0, 1, 2, 3, 4, 5, 6, 7, 8, 9, 10, 11, 12, 13,...\n",
       "dtype: object"
      ]
     },
     "execution_count": 14,
     "metadata": {},
     "output_type": "execute_result"
    }
   ],
   "source": [
    "pd.Series([1, 3, 9, .33, False, '03-20-1978', np.arange(22)])"
   ]
  },
  {
   "cell_type": "markdown",
   "metadata": {
    "slideshow": {
     "slide_type": "slide"
    }
   },
   "source": [
    "## Applying Functions to DataFrames and Series\n",
    "\n",
    "* `df.map()` can be used to apply a function to a pandas series or single dataframe colum.\n",
    "* `df.apply()` can be used to apply a function along every row or column of a dataframe, what is returned depends on if the function aggregates or not.\n",
    "* `df.applymap()` can be used to apply a function to every cell of a dataframe."
   ]
  },
  {
   "cell_type": "markdown",
   "metadata": {
    "slideshow": {
     "slide_type": "slide"
    }
   },
   "source": [
    "### 6. Create another small DataFrame"
   ]
  },
  {
   "cell_type": "code",
   "execution_count": 15,
   "metadata": {
    "slideshow": {
     "slide_type": "-"
    }
   },
   "outputs": [
    {
     "data": {
      "text/html": [
       "<div>\n",
       "<style scoped>\n",
       "    .dataframe tbody tr th:only-of-type {\n",
       "        vertical-align: middle;\n",
       "    }\n",
       "\n",
       "    .dataframe tbody tr th {\n",
       "        vertical-align: top;\n",
       "    }\n",
       "\n",
       "    .dataframe thead th {\n",
       "        text-align: right;\n",
       "    }\n",
       "</style>\n",
       "<table border=\"1\" class=\"dataframe\">\n",
       "  <thead>\n",
       "    <tr style=\"text-align: right;\">\n",
       "      <th></th>\n",
       "      <th>a</th>\n",
       "      <th>b</th>\n",
       "      <th>c</th>\n",
       "      <th>d</th>\n",
       "    </tr>\n",
       "  </thead>\n",
       "  <tbody>\n",
       "    <tr>\n",
       "      <th>0</th>\n",
       "      <td>1.624345</td>\n",
       "      <td>-0.611756</td>\n",
       "      <td>-0.528172</td>\n",
       "      <td>-1.072969</td>\n",
       "    </tr>\n",
       "    <tr>\n",
       "      <th>1</th>\n",
       "      <td>0.865408</td>\n",
       "      <td>-2.301539</td>\n",
       "      <td>1.744812</td>\n",
       "      <td>-0.761207</td>\n",
       "    </tr>\n",
       "    <tr>\n",
       "      <th>2</th>\n",
       "      <td>0.319039</td>\n",
       "      <td>-0.249370</td>\n",
       "      <td>1.462108</td>\n",
       "      <td>-2.060141</td>\n",
       "    </tr>\n",
       "    <tr>\n",
       "      <th>3</th>\n",
       "      <td>-0.322417</td>\n",
       "      <td>-0.384054</td>\n",
       "      <td>1.133769</td>\n",
       "      <td>-1.099891</td>\n",
       "    </tr>\n",
       "    <tr>\n",
       "      <th>4</th>\n",
       "      <td>-0.172428</td>\n",
       "      <td>-0.877858</td>\n",
       "      <td>0.042214</td>\n",
       "      <td>0.582815</td>\n",
       "    </tr>\n",
       "  </tbody>\n",
       "</table>\n",
       "</div>"
      ],
      "text/plain": [
       "          a         b         c         d\n",
       "0  1.624345 -0.611756 -0.528172 -1.072969\n",
       "1  0.865408 -2.301539  1.744812 -0.761207\n",
       "2  0.319039 -0.249370  1.462108 -2.060141\n",
       "3 -0.322417 -0.384054  1.133769 -1.099891\n",
       "4 -0.172428 -0.877858  0.042214  0.582815"
      ]
     },
     "execution_count": 15,
     "metadata": {},
     "output_type": "execute_result"
    }
   ],
   "source": [
    "# Create some more test data.\n",
    "np.random.seed(1)\n",
    "df = pd.DataFrame(np.random.randn(5, 4), columns=['a', 'b', 'c', 'd'])\n",
    "df"
   ]
  },
  {
   "cell_type": "markdown",
   "metadata": {
    "slideshow": {
     "slide_type": "slide"
    }
   },
   "source": [
    "### 7. Use the `.apply()`/`.applymap()` function to find the square root of all cells"
   ]
  },
  {
   "cell_type": "code",
   "execution_count": 16,
   "metadata": {},
   "outputs": [
    {
     "name": "stderr",
     "output_type": "stream",
     "text": [
      "/anaconda3/lib/python3.7/site-packages/pandas/core/frame.py:6551: RuntimeWarning: invalid value encountered in sqrt\n",
      "  return lib.map_infer(x.astype(object).values, func)\n"
     ]
    },
    {
     "data": {
      "text/html": [
       "<div>\n",
       "<style scoped>\n",
       "    .dataframe tbody tr th:only-of-type {\n",
       "        vertical-align: middle;\n",
       "    }\n",
       "\n",
       "    .dataframe tbody tr th {\n",
       "        vertical-align: top;\n",
       "    }\n",
       "\n",
       "    .dataframe thead th {\n",
       "        text-align: right;\n",
       "    }\n",
       "</style>\n",
       "<table border=\"1\" class=\"dataframe\">\n",
       "  <thead>\n",
       "    <tr style=\"text-align: right;\">\n",
       "      <th></th>\n",
       "      <th>a</th>\n",
       "      <th>b</th>\n",
       "      <th>c</th>\n",
       "      <th>d</th>\n",
       "    </tr>\n",
       "  </thead>\n",
       "  <tbody>\n",
       "    <tr>\n",
       "      <th>0</th>\n",
       "      <td>1.274498</td>\n",
       "      <td>NaN</td>\n",
       "      <td>NaN</td>\n",
       "      <td>NaN</td>\n",
       "    </tr>\n",
       "    <tr>\n",
       "      <th>1</th>\n",
       "      <td>0.930273</td>\n",
       "      <td>NaN</td>\n",
       "      <td>1.320913</td>\n",
       "      <td>NaN</td>\n",
       "    </tr>\n",
       "    <tr>\n",
       "      <th>2</th>\n",
       "      <td>0.564835</td>\n",
       "      <td>NaN</td>\n",
       "      <td>1.209177</td>\n",
       "      <td>NaN</td>\n",
       "    </tr>\n",
       "    <tr>\n",
       "      <th>3</th>\n",
       "      <td>NaN</td>\n",
       "      <td>NaN</td>\n",
       "      <td>1.064786</td>\n",
       "      <td>NaN</td>\n",
       "    </tr>\n",
       "    <tr>\n",
       "      <th>4</th>\n",
       "      <td>NaN</td>\n",
       "      <td>NaN</td>\n",
       "      <td>0.205460</td>\n",
       "      <td>0.763423</td>\n",
       "    </tr>\n",
       "  </tbody>\n",
       "</table>\n",
       "</div>"
      ],
      "text/plain": [
       "          a   b         c         d\n",
       "0  1.274498 NaN       NaN       NaN\n",
       "1  0.930273 NaN  1.320913       NaN\n",
       "2  0.564835 NaN  1.209177       NaN\n",
       "3       NaN NaN  1.064786       NaN\n",
       "4       NaN NaN  0.205460  0.763423"
      ]
     },
     "execution_count": 16,
     "metadata": {},
     "output_type": "execute_result"
    }
   ],
   "source": [
    "df.applymap(np.sqrt)"
   ]
  },
  {
   "cell_type": "code",
   "execution_count": 17,
   "metadata": {
    "slideshow": {
     "slide_type": "fragment"
    }
   },
   "outputs": [
    {
     "data": {
      "text/html": [
       "<div>\n",
       "<style scoped>\n",
       "    .dataframe tbody tr th:only-of-type {\n",
       "        vertical-align: middle;\n",
       "    }\n",
       "\n",
       "    .dataframe tbody tr th {\n",
       "        vertical-align: top;\n",
       "    }\n",
       "\n",
       "    .dataframe thead th {\n",
       "        text-align: right;\n",
       "    }\n",
       "</style>\n",
       "<table border=\"1\" class=\"dataframe\">\n",
       "  <thead>\n",
       "    <tr style=\"text-align: right;\">\n",
       "      <th></th>\n",
       "      <th>a</th>\n",
       "      <th>b</th>\n",
       "      <th>c</th>\n",
       "      <th>d</th>\n",
       "    </tr>\n",
       "  </thead>\n",
       "  <tbody>\n",
       "    <tr>\n",
       "      <th>0</th>\n",
       "      <td>1.274498</td>\n",
       "      <td>NaN</td>\n",
       "      <td>NaN</td>\n",
       "      <td>NaN</td>\n",
       "    </tr>\n",
       "    <tr>\n",
       "      <th>1</th>\n",
       "      <td>0.930273</td>\n",
       "      <td>NaN</td>\n",
       "      <td>1.320913</td>\n",
       "      <td>NaN</td>\n",
       "    </tr>\n",
       "    <tr>\n",
       "      <th>2</th>\n",
       "      <td>0.564835</td>\n",
       "      <td>NaN</td>\n",
       "      <td>1.209177</td>\n",
       "      <td>NaN</td>\n",
       "    </tr>\n",
       "    <tr>\n",
       "      <th>3</th>\n",
       "      <td>NaN</td>\n",
       "      <td>NaN</td>\n",
       "      <td>1.064786</td>\n",
       "      <td>NaN</td>\n",
       "    </tr>\n",
       "    <tr>\n",
       "      <th>4</th>\n",
       "      <td>NaN</td>\n",
       "      <td>NaN</td>\n",
       "      <td>0.205460</td>\n",
       "      <td>0.763423</td>\n",
       "    </tr>\n",
       "  </tbody>\n",
       "</table>\n",
       "</div>"
      ],
      "text/plain": [
       "          a   b         c         d\n",
       "0  1.274498 NaN       NaN       NaN\n",
       "1  0.930273 NaN  1.320913       NaN\n",
       "2  0.564835 NaN  1.209177       NaN\n",
       "3       NaN NaN  1.064786       NaN\n",
       "4       NaN NaN  0.205460  0.763423"
      ]
     },
     "execution_count": 17,
     "metadata": {},
     "output_type": "execute_result"
    }
   ],
   "source": [
    "# Square root ALL CELLS (NaN == Not a Number).\n",
    "df_sqrt = df.apply(np.sqrt)\n",
    "df_sqrt"
   ]
  },
  {
   "cell_type": "markdown",
   "metadata": {
    "slideshow": {
     "slide_type": "slide"
    }
   },
   "source": [
    "### 8. Use `.apply()` to find the mean of the columns"
   ]
  },
  {
   "cell_type": "code",
   "execution_count": 18,
   "metadata": {
    "slideshow": {
     "slide_type": "fragment"
    }
   },
   "outputs": [
    {
     "data": {
      "text/plain": [
       "a    0.462789\n",
       "b   -0.884916\n",
       "c    0.770946\n",
       "d   -0.882278\n",
       "dtype: float64"
      ]
     },
     "execution_count": 18,
     "metadata": {},
     "output_type": "execute_result"
    }
   ],
   "source": [
    "df.apply(np.mean, axis=0)"
   ]
  },
  {
   "cell_type": "markdown",
   "metadata": {
    "slideshow": {
     "slide_type": "slide"
    }
   },
   "source": [
    "### 9. Use `.apply()` to find the mean of the rows"
   ]
  },
  {
   "cell_type": "code",
   "execution_count": 19,
   "metadata": {
    "slideshow": {
     "slide_type": "fragment"
    }
   },
   "outputs": [
    {
     "data": {
      "text/plain": [
       "0   -0.147138\n",
       "1   -0.113132\n",
       "2   -0.132091\n",
       "3   -0.168148\n",
       "4   -0.106314\n",
       "dtype: float64"
      ]
     },
     "execution_count": 19,
     "metadata": {},
     "output_type": "execute_result"
    }
   ],
   "source": [
    "df.apply(np.mean, axis=1)"
   ]
  },
  {
   "cell_type": "markdown",
   "metadata": {},
   "source": [
    "### 10. Use `.apply()` to add two columns"
   ]
  },
  {
   "cell_type": "code",
   "execution_count": 20,
   "metadata": {},
   "outputs": [
    {
     "data": {
      "text/plain": [
       "0    1.096174\n",
       "1    2.610219\n",
       "2    1.781147\n",
       "3    0.811352\n",
       "4   -0.130214\n",
       "dtype: float64"
      ]
     },
     "execution_count": 20,
     "metadata": {},
     "output_type": "execute_result"
    }
   ],
   "source": [
    "df.a + df.c"
   ]
  },
  {
   "cell_type": "code",
   "execution_count": 21,
   "metadata": {},
   "outputs": [
    {
     "data": {
      "text/plain": [
       "0    1.096174\n",
       "1    2.610219\n",
       "2    1.781147\n",
       "3    0.811352\n",
       "4   -0.130214\n",
       "dtype: float64"
      ]
     },
     "execution_count": 21,
     "metadata": {},
     "output_type": "execute_result"
    }
   ],
   "source": [
    "df.apply(lambda x: x[0]+x[2], axis=1)"
   ]
  },
  {
   "cell_type": "markdown",
   "metadata": {},
   "source": [
    "### 11. Use `.applymap()` to round the value in each cell"
   ]
  },
  {
   "cell_type": "code",
   "execution_count": 22,
   "metadata": {},
   "outputs": [
    {
     "data": {
      "text/html": [
       "<div>\n",
       "<style scoped>\n",
       "    .dataframe tbody tr th:only-of-type {\n",
       "        vertical-align: middle;\n",
       "    }\n",
       "\n",
       "    .dataframe tbody tr th {\n",
       "        vertical-align: top;\n",
       "    }\n",
       "\n",
       "    .dataframe thead th {\n",
       "        text-align: right;\n",
       "    }\n",
       "</style>\n",
       "<table border=\"1\" class=\"dataframe\">\n",
       "  <thead>\n",
       "    <tr style=\"text-align: right;\">\n",
       "      <th></th>\n",
       "      <th>a</th>\n",
       "      <th>b</th>\n",
       "      <th>c</th>\n",
       "      <th>d</th>\n",
       "    </tr>\n",
       "  </thead>\n",
       "  <tbody>\n",
       "    <tr>\n",
       "      <th>0</th>\n",
       "      <td>1.624</td>\n",
       "      <td>-0.612</td>\n",
       "      <td>-0.528</td>\n",
       "      <td>-1.073</td>\n",
       "    </tr>\n",
       "    <tr>\n",
       "      <th>1</th>\n",
       "      <td>0.865</td>\n",
       "      <td>-2.302</td>\n",
       "      <td>1.745</td>\n",
       "      <td>-0.761</td>\n",
       "    </tr>\n",
       "    <tr>\n",
       "      <th>2</th>\n",
       "      <td>0.319</td>\n",
       "      <td>-0.249</td>\n",
       "      <td>1.462</td>\n",
       "      <td>-2.060</td>\n",
       "    </tr>\n",
       "    <tr>\n",
       "      <th>3</th>\n",
       "      <td>-0.322</td>\n",
       "      <td>-0.384</td>\n",
       "      <td>1.134</td>\n",
       "      <td>-1.100</td>\n",
       "    </tr>\n",
       "    <tr>\n",
       "      <th>4</th>\n",
       "      <td>-0.172</td>\n",
       "      <td>-0.878</td>\n",
       "      <td>0.042</td>\n",
       "      <td>0.583</td>\n",
       "    </tr>\n",
       "  </tbody>\n",
       "</table>\n",
       "</div>"
      ],
      "text/plain": [
       "       a      b      c      d\n",
       "0  1.624 -0.612 -0.528 -1.073\n",
       "1  0.865 -2.302  1.745 -0.761\n",
       "2  0.319 -0.249  1.462 -2.060\n",
       "3 -0.322 -0.384  1.134 -1.100\n",
       "4 -0.172 -0.878  0.042  0.583"
      ]
     },
     "execution_count": 22,
     "metadata": {},
     "output_type": "execute_result"
    }
   ],
   "source": [
    "df.applymap(lambda x: round(x, 3))"
   ]
  },
  {
   "cell_type": "markdown",
   "metadata": {},
   "source": [
    "### 12. Use `.applymap()` to apply a self-defined function to each cell"
   ]
  },
  {
   "cell_type": "code",
   "execution_count": 23,
   "metadata": {},
   "outputs": [
    {
     "data": {
      "text/html": [
       "<div>\n",
       "<style scoped>\n",
       "    .dataframe tbody tr th:only-of-type {\n",
       "        vertical-align: middle;\n",
       "    }\n",
       "\n",
       "    .dataframe tbody tr th {\n",
       "        vertical-align: top;\n",
       "    }\n",
       "\n",
       "    .dataframe thead th {\n",
       "        text-align: right;\n",
       "    }\n",
       "</style>\n",
       "<table border=\"1\" class=\"dataframe\">\n",
       "  <thead>\n",
       "    <tr style=\"text-align: right;\">\n",
       "      <th></th>\n",
       "      <th>a</th>\n",
       "      <th>b</th>\n",
       "      <th>c</th>\n",
       "      <th>d</th>\n",
       "    </tr>\n",
       "  </thead>\n",
       "  <tbody>\n",
       "    <tr>\n",
       "      <th>0</th>\n",
       "      <td>1</td>\n",
       "      <td>0</td>\n",
       "      <td>0</td>\n",
       "      <td>0</td>\n",
       "    </tr>\n",
       "    <tr>\n",
       "      <th>1</th>\n",
       "      <td>1</td>\n",
       "      <td>0</td>\n",
       "      <td>1</td>\n",
       "      <td>0</td>\n",
       "    </tr>\n",
       "    <tr>\n",
       "      <th>2</th>\n",
       "      <td>1</td>\n",
       "      <td>0</td>\n",
       "      <td>1</td>\n",
       "      <td>0</td>\n",
       "    </tr>\n",
       "    <tr>\n",
       "      <th>3</th>\n",
       "      <td>0</td>\n",
       "      <td>0</td>\n",
       "      <td>1</td>\n",
       "      <td>0</td>\n",
       "    </tr>\n",
       "    <tr>\n",
       "      <th>4</th>\n",
       "      <td>0</td>\n",
       "      <td>0</td>\n",
       "      <td>1</td>\n",
       "      <td>1</td>\n",
       "    </tr>\n",
       "  </tbody>\n",
       "</table>\n",
       "</div>"
      ],
      "text/plain": [
       "   a  b  c  d\n",
       "0  1  0  0  0\n",
       "1  1  0  1  0\n",
       "2  1  0  1  0\n",
       "3  0  0  1  0\n",
       "4  0  0  1  1"
      ]
     },
     "execution_count": 23,
     "metadata": {},
     "output_type": "execute_result"
    }
   ],
   "source": [
    "def my_func(x):\n",
    "    if x > 0:\n",
    "        return 1\n",
    "    else:\n",
    "        return 0\n",
    "\n",
    "\n",
    "df.applymap(my_func)"
   ]
  },
  {
   "cell_type": "markdown",
   "metadata": {},
   "source": [
    "## Filling missing values\n",
    "\n",
    "---\n",
    "\n",
    "When we took the square root of all the elements in df, some values where not mapped to another number because they were negative. One could use `.applymap()` in some way to fill these values. A more direct method uses pandas' data filling methods."
   ]
  },
  {
   "cell_type": "markdown",
   "metadata": {},
   "source": [
    "### 13. Fill all missing values with 'neg' (indicating that the missing value was due to a negative original value)"
   ]
  },
  {
   "cell_type": "code",
   "execution_count": 24,
   "metadata": {},
   "outputs": [
    {
     "data": {
      "text/html": [
       "<div>\n",
       "<style scoped>\n",
       "    .dataframe tbody tr th:only-of-type {\n",
       "        vertical-align: middle;\n",
       "    }\n",
       "\n",
       "    .dataframe tbody tr th {\n",
       "        vertical-align: top;\n",
       "    }\n",
       "\n",
       "    .dataframe thead th {\n",
       "        text-align: right;\n",
       "    }\n",
       "</style>\n",
       "<table border=\"1\" class=\"dataframe\">\n",
       "  <thead>\n",
       "    <tr style=\"text-align: right;\">\n",
       "      <th></th>\n",
       "      <th>a</th>\n",
       "      <th>b</th>\n",
       "      <th>c</th>\n",
       "      <th>d</th>\n",
       "    </tr>\n",
       "  </thead>\n",
       "  <tbody>\n",
       "    <tr>\n",
       "      <th>0</th>\n",
       "      <td>1.274498</td>\n",
       "      <td>NaN</td>\n",
       "      <td>NaN</td>\n",
       "      <td>NaN</td>\n",
       "    </tr>\n",
       "    <tr>\n",
       "      <th>1</th>\n",
       "      <td>0.930273</td>\n",
       "      <td>NaN</td>\n",
       "      <td>1.320913</td>\n",
       "      <td>NaN</td>\n",
       "    </tr>\n",
       "    <tr>\n",
       "      <th>2</th>\n",
       "      <td>0.564835</td>\n",
       "      <td>NaN</td>\n",
       "      <td>1.209177</td>\n",
       "      <td>NaN</td>\n",
       "    </tr>\n",
       "    <tr>\n",
       "      <th>3</th>\n",
       "      <td>NaN</td>\n",
       "      <td>NaN</td>\n",
       "      <td>1.064786</td>\n",
       "      <td>NaN</td>\n",
       "    </tr>\n",
       "    <tr>\n",
       "      <th>4</th>\n",
       "      <td>NaN</td>\n",
       "      <td>NaN</td>\n",
       "      <td>0.205460</td>\n",
       "      <td>0.763423</td>\n",
       "    </tr>\n",
       "  </tbody>\n",
       "</table>\n",
       "</div>"
      ],
      "text/plain": [
       "          a   b         c         d\n",
       "0  1.274498 NaN       NaN       NaN\n",
       "1  0.930273 NaN  1.320913       NaN\n",
       "2  0.564835 NaN  1.209177       NaN\n",
       "3       NaN NaN  1.064786       NaN\n",
       "4       NaN NaN  0.205460  0.763423"
      ]
     },
     "execution_count": 24,
     "metadata": {},
     "output_type": "execute_result"
    }
   ],
   "source": [
    "df_sqrt"
   ]
  },
  {
   "cell_type": "code",
   "execution_count": 25,
   "metadata": {},
   "outputs": [
    {
     "data": {
      "text/html": [
       "<div>\n",
       "<style scoped>\n",
       "    .dataframe tbody tr th:only-of-type {\n",
       "        vertical-align: middle;\n",
       "    }\n",
       "\n",
       "    .dataframe tbody tr th {\n",
       "        vertical-align: top;\n",
       "    }\n",
       "\n",
       "    .dataframe thead th {\n",
       "        text-align: right;\n",
       "    }\n",
       "</style>\n",
       "<table border=\"1\" class=\"dataframe\">\n",
       "  <thead>\n",
       "    <tr style=\"text-align: right;\">\n",
       "      <th></th>\n",
       "      <th>a</th>\n",
       "      <th>b</th>\n",
       "      <th>c</th>\n",
       "      <th>d</th>\n",
       "    </tr>\n",
       "  </thead>\n",
       "  <tbody>\n",
       "    <tr>\n",
       "      <th>0</th>\n",
       "      <td>1.2745</td>\n",
       "      <td>neg</td>\n",
       "      <td>neg</td>\n",
       "      <td>neg</td>\n",
       "    </tr>\n",
       "    <tr>\n",
       "      <th>1</th>\n",
       "      <td>0.930273</td>\n",
       "      <td>neg</td>\n",
       "      <td>1.32091</td>\n",
       "      <td>neg</td>\n",
       "    </tr>\n",
       "    <tr>\n",
       "      <th>2</th>\n",
       "      <td>0.564835</td>\n",
       "      <td>neg</td>\n",
       "      <td>1.20918</td>\n",
       "      <td>neg</td>\n",
       "    </tr>\n",
       "    <tr>\n",
       "      <th>3</th>\n",
       "      <td>neg</td>\n",
       "      <td>neg</td>\n",
       "      <td>1.06479</td>\n",
       "      <td>neg</td>\n",
       "    </tr>\n",
       "    <tr>\n",
       "      <th>4</th>\n",
       "      <td>neg</td>\n",
       "      <td>neg</td>\n",
       "      <td>0.20546</td>\n",
       "      <td>0.763423</td>\n",
       "    </tr>\n",
       "  </tbody>\n",
       "</table>\n",
       "</div>"
      ],
      "text/plain": [
       "          a    b        c         d\n",
       "0    1.2745  neg      neg       neg\n",
       "1  0.930273  neg  1.32091       neg\n",
       "2  0.564835  neg  1.20918       neg\n",
       "3       neg  neg  1.06479       neg\n",
       "4       neg  neg  0.20546  0.763423"
      ]
     },
     "execution_count": 25,
     "metadata": {},
     "output_type": "execute_result"
    }
   ],
   "source": [
    "df_sqrt.fillna('neg')"
   ]
  },
  {
   "cell_type": "code",
   "execution_count": 26,
   "metadata": {},
   "outputs": [
    {
     "data": {
      "text/html": [
       "<div>\n",
       "<style scoped>\n",
       "    .dataframe tbody tr th:only-of-type {\n",
       "        vertical-align: middle;\n",
       "    }\n",
       "\n",
       "    .dataframe tbody tr th {\n",
       "        vertical-align: top;\n",
       "    }\n",
       "\n",
       "    .dataframe thead th {\n",
       "        text-align: right;\n",
       "    }\n",
       "</style>\n",
       "<table border=\"1\" class=\"dataframe\">\n",
       "  <thead>\n",
       "    <tr style=\"text-align: right;\">\n",
       "      <th></th>\n",
       "      <th>a</th>\n",
       "      <th>b</th>\n",
       "      <th>c</th>\n",
       "      <th>d</th>\n",
       "    </tr>\n",
       "  </thead>\n",
       "  <tbody>\n",
       "    <tr>\n",
       "      <th>0</th>\n",
       "      <td>1.274498</td>\n",
       "      <td>NaN</td>\n",
       "      <td>NaN</td>\n",
       "      <td>NaN</td>\n",
       "    </tr>\n",
       "    <tr>\n",
       "      <th>1</th>\n",
       "      <td>0.930273</td>\n",
       "      <td>NaN</td>\n",
       "      <td>1.320913</td>\n",
       "      <td>NaN</td>\n",
       "    </tr>\n",
       "    <tr>\n",
       "      <th>2</th>\n",
       "      <td>0.564835</td>\n",
       "      <td>NaN</td>\n",
       "      <td>1.209177</td>\n",
       "      <td>NaN</td>\n",
       "    </tr>\n",
       "    <tr>\n",
       "      <th>3</th>\n",
       "      <td>NaN</td>\n",
       "      <td>NaN</td>\n",
       "      <td>1.064786</td>\n",
       "      <td>NaN</td>\n",
       "    </tr>\n",
       "    <tr>\n",
       "      <th>4</th>\n",
       "      <td>NaN</td>\n",
       "      <td>NaN</td>\n",
       "      <td>0.205460</td>\n",
       "      <td>0.763423</td>\n",
       "    </tr>\n",
       "  </tbody>\n",
       "</table>\n",
       "</div>"
      ],
      "text/plain": [
       "          a   b         c         d\n",
       "0  1.274498 NaN       NaN       NaN\n",
       "1  0.930273 NaN  1.320913       NaN\n",
       "2  0.564835 NaN  1.209177       NaN\n",
       "3       NaN NaN  1.064786       NaN\n",
       "4       NaN NaN  0.205460  0.763423"
      ]
     },
     "execution_count": 26,
     "metadata": {},
     "output_type": "execute_result"
    }
   ],
   "source": [
    "df_sqrt"
   ]
  },
  {
   "cell_type": "code",
   "execution_count": 27,
   "metadata": {},
   "outputs": [
    {
     "data": {
      "text/html": [
       "<div>\n",
       "<style scoped>\n",
       "    .dataframe tbody tr th:only-of-type {\n",
       "        vertical-align: middle;\n",
       "    }\n",
       "\n",
       "    .dataframe tbody tr th {\n",
       "        vertical-align: top;\n",
       "    }\n",
       "\n",
       "    .dataframe thead th {\n",
       "        text-align: right;\n",
       "    }\n",
       "</style>\n",
       "<table border=\"1\" class=\"dataframe\">\n",
       "  <thead>\n",
       "    <tr style=\"text-align: right;\">\n",
       "      <th></th>\n",
       "      <th>a</th>\n",
       "      <th>b</th>\n",
       "      <th>c</th>\n",
       "      <th>d</th>\n",
       "    </tr>\n",
       "  </thead>\n",
       "  <tbody>\n",
       "    <tr>\n",
       "      <th>0</th>\n",
       "      <td>1.274498</td>\n",
       "      <td>NaN</td>\n",
       "      <td>NaN</td>\n",
       "      <td>NaN</td>\n",
       "    </tr>\n",
       "    <tr>\n",
       "      <th>1</th>\n",
       "      <td>0.930273</td>\n",
       "      <td>NaN</td>\n",
       "      <td>1.320913</td>\n",
       "      <td>NaN</td>\n",
       "    </tr>\n",
       "    <tr>\n",
       "      <th>2</th>\n",
       "      <td>0.564835</td>\n",
       "      <td>NaN</td>\n",
       "      <td>1.209177</td>\n",
       "      <td>NaN</td>\n",
       "    </tr>\n",
       "    <tr>\n",
       "      <th>3</th>\n",
       "      <td>NaN</td>\n",
       "      <td>NaN</td>\n",
       "      <td>1.064786</td>\n",
       "      <td>NaN</td>\n",
       "    </tr>\n",
       "    <tr>\n",
       "      <th>4</th>\n",
       "      <td>NaN</td>\n",
       "      <td>NaN</td>\n",
       "      <td>0.205460</td>\n",
       "      <td>0.763423</td>\n",
       "    </tr>\n",
       "  </tbody>\n",
       "</table>\n",
       "</div>"
      ],
      "text/plain": [
       "          a   b         c         d\n",
       "0  1.274498 NaN       NaN       NaN\n",
       "1  0.930273 NaN  1.320913       NaN\n",
       "2  0.564835 NaN  1.209177       NaN\n",
       "3       NaN NaN  1.064786       NaN\n",
       "4       NaN NaN  0.205460  0.763423"
      ]
     },
     "execution_count": 27,
     "metadata": {},
     "output_type": "execute_result"
    }
   ],
   "source": [
    "df_sqrt"
   ]
  },
  {
   "cell_type": "markdown",
   "metadata": {},
   "source": [
    "### 14. We could do that also for one column only. \n",
    "\n",
    "Note that the given dataframe was not modified before. We have to specify `inplace=True` to do so."
   ]
  },
  {
   "cell_type": "code",
   "execution_count": 28,
   "metadata": {},
   "outputs": [],
   "source": [
    "df_sqrt.fillna({'b': 'neg'}, inplace=True)"
   ]
  },
  {
   "cell_type": "markdown",
   "metadata": {},
   "source": [
    "### 15. In other contexts, it might be useful to fill with other values. \n",
    "\n",
    "Just to show how it works,\n",
    "let's fill the missing value in column `c`with the column mean."
   ]
  },
  {
   "cell_type": "code",
   "execution_count": 29,
   "metadata": {},
   "outputs": [
    {
     "data": {
      "text/html": [
       "<div>\n",
       "<style scoped>\n",
       "    .dataframe tbody tr th:only-of-type {\n",
       "        vertical-align: middle;\n",
       "    }\n",
       "\n",
       "    .dataframe tbody tr th {\n",
       "        vertical-align: top;\n",
       "    }\n",
       "\n",
       "    .dataframe thead th {\n",
       "        text-align: right;\n",
       "    }\n",
       "</style>\n",
       "<table border=\"1\" class=\"dataframe\">\n",
       "  <thead>\n",
       "    <tr style=\"text-align: right;\">\n",
       "      <th></th>\n",
       "      <th>a</th>\n",
       "      <th>b</th>\n",
       "      <th>c</th>\n",
       "      <th>d</th>\n",
       "    </tr>\n",
       "  </thead>\n",
       "  <tbody>\n",
       "    <tr>\n",
       "      <th>0</th>\n",
       "      <td>1.274498</td>\n",
       "      <td>neg</td>\n",
       "      <td>0.950084</td>\n",
       "      <td>NaN</td>\n",
       "    </tr>\n",
       "    <tr>\n",
       "      <th>1</th>\n",
       "      <td>0.930273</td>\n",
       "      <td>neg</td>\n",
       "      <td>1.320913</td>\n",
       "      <td>NaN</td>\n",
       "    </tr>\n",
       "    <tr>\n",
       "      <th>2</th>\n",
       "      <td>0.564835</td>\n",
       "      <td>neg</td>\n",
       "      <td>1.209177</td>\n",
       "      <td>NaN</td>\n",
       "    </tr>\n",
       "    <tr>\n",
       "      <th>3</th>\n",
       "      <td>NaN</td>\n",
       "      <td>neg</td>\n",
       "      <td>1.064786</td>\n",
       "      <td>NaN</td>\n",
       "    </tr>\n",
       "    <tr>\n",
       "      <th>4</th>\n",
       "      <td>NaN</td>\n",
       "      <td>neg</td>\n",
       "      <td>0.205460</td>\n",
       "      <td>0.763423</td>\n",
       "    </tr>\n",
       "  </tbody>\n",
       "</table>\n",
       "</div>"
      ],
      "text/plain": [
       "          a    b         c         d\n",
       "0  1.274498  neg  0.950084       NaN\n",
       "1  0.930273  neg  1.320913       NaN\n",
       "2  0.564835  neg  1.209177       NaN\n",
       "3       NaN  neg  1.064786       NaN\n",
       "4       NaN  neg  0.205460  0.763423"
      ]
     },
     "execution_count": 29,
     "metadata": {},
     "output_type": "execute_result"
    }
   ],
   "source": [
    "df_sqrt.c.fillna(df_sqrt.c.mean(), inplace=True)\n",
    "df_sqrt"
   ]
  },
  {
   "cell_type": "markdown",
   "metadata": {},
   "source": [
    "### 16. Forward filling propagates values from rows above"
   ]
  },
  {
   "cell_type": "code",
   "execution_count": 30,
   "metadata": {},
   "outputs": [
    {
     "data": {
      "text/html": [
       "<div>\n",
       "<style scoped>\n",
       "    .dataframe tbody tr th:only-of-type {\n",
       "        vertical-align: middle;\n",
       "    }\n",
       "\n",
       "    .dataframe tbody tr th {\n",
       "        vertical-align: top;\n",
       "    }\n",
       "\n",
       "    .dataframe thead th {\n",
       "        text-align: right;\n",
       "    }\n",
       "</style>\n",
       "<table border=\"1\" class=\"dataframe\">\n",
       "  <thead>\n",
       "    <tr style=\"text-align: right;\">\n",
       "      <th></th>\n",
       "      <th>a</th>\n",
       "      <th>b</th>\n",
       "      <th>c</th>\n",
       "      <th>d</th>\n",
       "    </tr>\n",
       "  </thead>\n",
       "  <tbody>\n",
       "    <tr>\n",
       "      <th>0</th>\n",
       "      <td>1.274498</td>\n",
       "      <td>neg</td>\n",
       "      <td>0.950084</td>\n",
       "      <td>NaN</td>\n",
       "    </tr>\n",
       "    <tr>\n",
       "      <th>1</th>\n",
       "      <td>0.930273</td>\n",
       "      <td>neg</td>\n",
       "      <td>1.320913</td>\n",
       "      <td>NaN</td>\n",
       "    </tr>\n",
       "    <tr>\n",
       "      <th>2</th>\n",
       "      <td>0.564835</td>\n",
       "      <td>neg</td>\n",
       "      <td>1.209177</td>\n",
       "      <td>NaN</td>\n",
       "    </tr>\n",
       "    <tr>\n",
       "      <th>3</th>\n",
       "      <td>0.564835</td>\n",
       "      <td>neg</td>\n",
       "      <td>1.064786</td>\n",
       "      <td>NaN</td>\n",
       "    </tr>\n",
       "    <tr>\n",
       "      <th>4</th>\n",
       "      <td>0.564835</td>\n",
       "      <td>neg</td>\n",
       "      <td>0.205460</td>\n",
       "      <td>0.763423</td>\n",
       "    </tr>\n",
       "  </tbody>\n",
       "</table>\n",
       "</div>"
      ],
      "text/plain": [
       "          a    b         c         d\n",
       "0  1.274498  neg  0.950084       NaN\n",
       "1  0.930273  neg  1.320913       NaN\n",
       "2  0.564835  neg  1.209177       NaN\n",
       "3  0.564835  neg  1.064786       NaN\n",
       "4  0.564835  neg  0.205460  0.763423"
      ]
     },
     "execution_count": 30,
     "metadata": {},
     "output_type": "execute_result"
    }
   ],
   "source": [
    "df_sqrt.a.fillna(method='ffill', inplace=True)\n",
    "df_sqrt"
   ]
  },
  {
   "cell_type": "code",
   "execution_count": 31,
   "metadata": {},
   "outputs": [
    {
     "data": {
      "text/plain": [
       "0         NaN\n",
       "1         NaN\n",
       "2         NaN\n",
       "3         NaN\n",
       "4    0.763423\n",
       "Name: d, dtype: float64"
      ]
     },
     "execution_count": 31,
     "metadata": {},
     "output_type": "execute_result"
    }
   ],
   "source": [
    "df_sqrt.d.fillna(method='ffill', inplace=False)"
   ]
  },
  {
   "cell_type": "markdown",
   "metadata": {},
   "source": [
    "### 17. Backward filling propagates values from rows below"
   ]
  },
  {
   "cell_type": "code",
   "execution_count": 32,
   "metadata": {},
   "outputs": [
    {
     "data": {
      "text/html": [
       "<div>\n",
       "<style scoped>\n",
       "    .dataframe tbody tr th:only-of-type {\n",
       "        vertical-align: middle;\n",
       "    }\n",
       "\n",
       "    .dataframe tbody tr th {\n",
       "        vertical-align: top;\n",
       "    }\n",
       "\n",
       "    .dataframe thead th {\n",
       "        text-align: right;\n",
       "    }\n",
       "</style>\n",
       "<table border=\"1\" class=\"dataframe\">\n",
       "  <thead>\n",
       "    <tr style=\"text-align: right;\">\n",
       "      <th></th>\n",
       "      <th>a</th>\n",
       "      <th>b</th>\n",
       "      <th>c</th>\n",
       "      <th>d</th>\n",
       "    </tr>\n",
       "  </thead>\n",
       "  <tbody>\n",
       "    <tr>\n",
       "      <th>0</th>\n",
       "      <td>1.274498</td>\n",
       "      <td>neg</td>\n",
       "      <td>0.950084</td>\n",
       "      <td>0.763423</td>\n",
       "    </tr>\n",
       "    <tr>\n",
       "      <th>1</th>\n",
       "      <td>0.930273</td>\n",
       "      <td>neg</td>\n",
       "      <td>1.320913</td>\n",
       "      <td>0.763423</td>\n",
       "    </tr>\n",
       "    <tr>\n",
       "      <th>2</th>\n",
       "      <td>0.564835</td>\n",
       "      <td>neg</td>\n",
       "      <td>1.209177</td>\n",
       "      <td>0.763423</td>\n",
       "    </tr>\n",
       "    <tr>\n",
       "      <th>3</th>\n",
       "      <td>0.564835</td>\n",
       "      <td>neg</td>\n",
       "      <td>1.064786</td>\n",
       "      <td>0.763423</td>\n",
       "    </tr>\n",
       "    <tr>\n",
       "      <th>4</th>\n",
       "      <td>0.564835</td>\n",
       "      <td>neg</td>\n",
       "      <td>0.205460</td>\n",
       "      <td>0.763423</td>\n",
       "    </tr>\n",
       "  </tbody>\n",
       "</table>\n",
       "</div>"
      ],
      "text/plain": [
       "          a    b         c         d\n",
       "0  1.274498  neg  0.950084  0.763423\n",
       "1  0.930273  neg  1.320913  0.763423\n",
       "2  0.564835  neg  1.209177  0.763423\n",
       "3  0.564835  neg  1.064786  0.763423\n",
       "4  0.564835  neg  0.205460  0.763423"
      ]
     },
     "execution_count": 32,
     "metadata": {},
     "output_type": "execute_result"
    }
   ],
   "source": [
    "df_sqrt.d.fillna(method='bfill', inplace=True)\n",
    "df_sqrt"
   ]
  },
  {
   "cell_type": "markdown",
   "metadata": {
    "slideshow": {
     "slide_type": "slide"
    }
   },
   "source": [
    "## Counting Occurrances of Unique Values With `.value_counts()`\n",
    "\n",
    "---\n",
    "\n",
    "The pandas function `.value_counts()` tells us the count of unique values in a column's data. It's helpful for identifying unexpected values and the data distribution, especially when looking at group membership.  Looking at the value counts per column can give us a quick overview of values expressed in our data.\n",
    "\n",
    "Some common use cases of `.value_counts()` include:\n",
    " - Finding strings inside mostly numeric/continuous data\n",
    " - Finding non-numeric values\n",
    " - Checking the distribution of categorical variables\n",
    " - Identifying the most and least common values"
   ]
  },
  {
   "cell_type": "markdown",
   "metadata": {
    "slideshow": {
     "slide_type": "slide"
    }
   },
   "source": [
    "### 18. Create a random vector of 50 numbers ranging from 0 to 6 with `numpy`"
   ]
  },
  {
   "cell_type": "code",
   "execution_count": 33,
   "metadata": {
    "slideshow": {
     "slide_type": "fragment"
    }
   },
   "outputs": [
    {
     "data": {
      "text/plain": [
       "array([4, 0, 1, 3, 4, 2, 4, 0, 5, 3, 1, 2, 0, 4, 1, 2, 2, 1, 0, 6, 1, 3,\n",
       "       6, 5, 4, 3, 5, 1, 3, 6, 0, 0, 2, 2, 1, 3, 4, 2, 6, 6, 0, 0, 1, 1,\n",
       "       5, 3, 0, 0, 5, 5])"
      ]
     },
     "execution_count": 33,
     "metadata": {},
     "output_type": "execute_result"
    }
   ],
   "source": [
    "data = np.random.randint(0, 7, size=50)\n",
    "data"
   ]
  },
  {
   "cell_type": "markdown",
   "metadata": {
    "slideshow": {
     "slide_type": "fragment"
    }
   },
   "source": [
    "### 19. Convert the vector to a series and count the occurrences of each number"
   ]
  },
  {
   "cell_type": "code",
   "execution_count": 34,
   "metadata": {
    "slideshow": {
     "slide_type": "fragment"
    }
   },
   "outputs": [
    {
     "data": {
      "text/plain": [
       "0    4\n",
       "1    0\n",
       "2    1\n",
       "3    3\n",
       "4    4\n",
       "dtype: int64"
      ]
     },
     "execution_count": 34,
     "metadata": {},
     "output_type": "execute_result"
    }
   ],
   "source": [
    "s = pd.Series(data)\n",
    "s.head()"
   ]
  },
  {
   "cell_type": "code",
   "execution_count": 35,
   "metadata": {
    "slideshow": {
     "slide_type": "fragment"
    }
   },
   "outputs": [
    {
     "data": {
      "text/plain": [
       "0    10\n",
       "1     9\n",
       "3     7\n",
       "2     7\n",
       "5     6\n",
       "4     6\n",
       "6     5\n",
       "dtype: int64"
      ]
     },
     "execution_count": 35,
     "metadata": {},
     "output_type": "execute_result"
    }
   ],
   "source": [
    "# The counts for each number in our array\n",
    "s.value_counts()"
   ]
  },
  {
   "cell_type": "markdown",
   "metadata": {
    "slideshow": {
     "slide_type": "slide"
    }
   },
   "source": [
    "## Independent Practice: Sales Data\n",
    "\n",
    "---\n",
    "\n",
    "1. Load the `sales.csv` data set from last week's class.\n",
    "- Inspect the data types.\n",
    "- Imagine you've found out that all your values in column 1 are off by one. Use `.apply()` or `.map()` to add `1` to column 1 of the data set.\n",
    "- Use `.apply` to add $2\\cdot {\\rm column}_1 + 3\\cdot {\\rm column}_3$\n",
    "- Use a combination of `apply` and `.value_counts()` to count how many values of `2015_margin` are larger than 45."
   ]
  },
  {
   "cell_type": "markdown",
   "metadata": {},
   "source": [
    "### Load the `sales.csv` data set from last week's class."
   ]
  },
  {
   "cell_type": "code",
   "execution_count": 36,
   "metadata": {},
   "outputs": [
    {
     "data": {
      "text/html": [
       "<div>\n",
       "<style scoped>\n",
       "    .dataframe tbody tr th:only-of-type {\n",
       "        vertical-align: middle;\n",
       "    }\n",
       "\n",
       "    .dataframe tbody tr th {\n",
       "        vertical-align: top;\n",
       "    }\n",
       "\n",
       "    .dataframe thead th {\n",
       "        text-align: right;\n",
       "    }\n",
       "</style>\n",
       "<table border=\"1\" class=\"dataframe\">\n",
       "  <thead>\n",
       "    <tr style=\"text-align: right;\">\n",
       "      <th></th>\n",
       "      <th>volume_sold</th>\n",
       "      <th>2015_margin</th>\n",
       "      <th>2015_q1_sales</th>\n",
       "      <th>2016_q1_sales</th>\n",
       "    </tr>\n",
       "  </thead>\n",
       "  <tbody>\n",
       "    <tr>\n",
       "      <th>0</th>\n",
       "      <td>18.420760</td>\n",
       "      <td>93.802281</td>\n",
       "      <td>337166.53</td>\n",
       "      <td>337804.05</td>\n",
       "    </tr>\n",
       "    <tr>\n",
       "      <th>1</th>\n",
       "      <td>4.776510</td>\n",
       "      <td>21.082425</td>\n",
       "      <td>22351.86</td>\n",
       "      <td>21736.63</td>\n",
       "    </tr>\n",
       "    <tr>\n",
       "      <th>2</th>\n",
       "      <td>16.602401</td>\n",
       "      <td>93.612494</td>\n",
       "      <td>277764.46</td>\n",
       "      <td>306942.27</td>\n",
       "    </tr>\n",
       "    <tr>\n",
       "      <th>3</th>\n",
       "      <td>4.296111</td>\n",
       "      <td>16.824704</td>\n",
       "      <td>16805.11</td>\n",
       "      <td>9307.75</td>\n",
       "    </tr>\n",
       "    <tr>\n",
       "      <th>4</th>\n",
       "      <td>8.156023</td>\n",
       "      <td>35.011457</td>\n",
       "      <td>54411.42</td>\n",
       "      <td>58939.90</td>\n",
       "    </tr>\n",
       "  </tbody>\n",
       "</table>\n",
       "</div>"
      ],
      "text/plain": [
       "   volume_sold  2015_margin  2015_q1_sales  2016_q1_sales\n",
       "0    18.420760    93.802281      337166.53      337804.05\n",
       "1     4.776510    21.082425       22351.86       21736.63\n",
       "2    16.602401    93.612494      277764.46      306942.27\n",
       "3     4.296111    16.824704       16805.11        9307.75\n",
       "4     8.156023    35.011457       54411.42       58939.90"
      ]
     },
     "execution_count": 36,
     "metadata": {},
     "output_type": "execute_result"
    }
   ],
   "source": [
    "df = pd.read_csv('../../../../resource-datasets/sales_data_simple/sales.csv')\n",
    "df.head()"
   ]
  },
  {
   "cell_type": "markdown",
   "metadata": {},
   "source": [
    "### Inspect the data types."
   ]
  },
  {
   "cell_type": "code",
   "execution_count": 37,
   "metadata": {},
   "outputs": [
    {
     "data": {
      "text/plain": [
       "volume_sold      float64\n",
       "2015_margin      float64\n",
       "2015_q1_sales    float64\n",
       "2016_q1_sales    float64\n",
       "dtype: object"
      ]
     },
     "execution_count": 37,
     "metadata": {},
     "output_type": "execute_result"
    }
   ],
   "source": [
    "df.dtypes"
   ]
  },
  {
   "cell_type": "markdown",
   "metadata": {},
   "source": [
    "### Use `.apply()` or `.map()` to add `1` to column 1 of the data set."
   ]
  },
  {
   "cell_type": "code",
   "execution_count": 38,
   "metadata": {},
   "outputs": [
    {
     "data": {
      "text/plain": [
       "0    94.802281\n",
       "1    22.082425\n",
       "2    94.612494\n",
       "3    17.824704\n",
       "4    36.011457\n",
       "Name: 2015_margin, dtype: float64"
      ]
     },
     "execution_count": 38,
     "metadata": {},
     "output_type": "execute_result"
    }
   ],
   "source": [
    "(df['2015_margin'] + 1).head()"
   ]
  },
  {
   "cell_type": "code",
   "execution_count": 39,
   "metadata": {},
   "outputs": [
    {
     "data": {
      "text/html": [
       "<div>\n",
       "<style scoped>\n",
       "    .dataframe tbody tr th:only-of-type {\n",
       "        vertical-align: middle;\n",
       "    }\n",
       "\n",
       "    .dataframe tbody tr th {\n",
       "        vertical-align: top;\n",
       "    }\n",
       "\n",
       "    .dataframe thead th {\n",
       "        text-align: right;\n",
       "    }\n",
       "</style>\n",
       "<table border=\"1\" class=\"dataframe\">\n",
       "  <thead>\n",
       "    <tr style=\"text-align: right;\">\n",
       "      <th></th>\n",
       "      <th>volume_sold</th>\n",
       "      <th>2015_margin</th>\n",
       "      <th>2015_q1_sales</th>\n",
       "      <th>2016_q1_sales</th>\n",
       "      <th>new_column</th>\n",
       "    </tr>\n",
       "  </thead>\n",
       "  <tbody>\n",
       "    <tr>\n",
       "      <th>0</th>\n",
       "      <td>18.420760</td>\n",
       "      <td>93.802281</td>\n",
       "      <td>337166.53</td>\n",
       "      <td>337804.05</td>\n",
       "      <td>94.802281</td>\n",
       "    </tr>\n",
       "    <tr>\n",
       "      <th>1</th>\n",
       "      <td>4.776510</td>\n",
       "      <td>21.082425</td>\n",
       "      <td>22351.86</td>\n",
       "      <td>21736.63</td>\n",
       "      <td>22.082425</td>\n",
       "    </tr>\n",
       "    <tr>\n",
       "      <th>2</th>\n",
       "      <td>16.602401</td>\n",
       "      <td>93.612494</td>\n",
       "      <td>277764.46</td>\n",
       "      <td>306942.27</td>\n",
       "      <td>94.612494</td>\n",
       "    </tr>\n",
       "    <tr>\n",
       "      <th>3</th>\n",
       "      <td>4.296111</td>\n",
       "      <td>16.824704</td>\n",
       "      <td>16805.11</td>\n",
       "      <td>9307.75</td>\n",
       "      <td>17.824704</td>\n",
       "    </tr>\n",
       "    <tr>\n",
       "      <th>4</th>\n",
       "      <td>8.156023</td>\n",
       "      <td>35.011457</td>\n",
       "      <td>54411.42</td>\n",
       "      <td>58939.90</td>\n",
       "      <td>36.011457</td>\n",
       "    </tr>\n",
       "  </tbody>\n",
       "</table>\n",
       "</div>"
      ],
      "text/plain": [
       "   volume_sold  2015_margin  2015_q1_sales  2016_q1_sales  new_column\n",
       "0    18.420760    93.802281      337166.53      337804.05   94.802281\n",
       "1     4.776510    21.082425       22351.86       21736.63   22.082425\n",
       "2    16.602401    93.612494      277764.46      306942.27   94.612494\n",
       "3     4.296111    16.824704       16805.11        9307.75   17.824704\n",
       "4     8.156023    35.011457       54411.42       58939.90   36.011457"
      ]
     },
     "execution_count": 39,
     "metadata": {},
     "output_type": "execute_result"
    }
   ],
   "source": [
    "df['new_column'] = df.apply(lambda x: x[1]+1, axis=1)\n",
    "df.head()"
   ]
  },
  {
   "cell_type": "code",
   "execution_count": 40,
   "metadata": {},
   "outputs": [
    {
     "data": {
      "text/plain": [
       "volume_sold          5.776510\n",
       "2015_margin         22.082425\n",
       "2015_q1_sales    22352.860000\n",
       "2016_q1_sales    21737.630000\n",
       "new_column          23.082425\n",
       "dtype: float64"
      ]
     },
     "execution_count": 40,
     "metadata": {},
     "output_type": "execute_result"
    }
   ],
   "source": [
    "df.apply(lambda x: x[1]+1).head()"
   ]
  },
  {
   "cell_type": "markdown",
   "metadata": {},
   "source": [
    "### Use `.apply` to add $2\\cdot {\\rm column}_1 + 3\\cdot {\\rm column}_3$."
   ]
  },
  {
   "cell_type": "code",
   "execution_count": 41,
   "metadata": {},
   "outputs": [
    {
     "data": {
      "text/plain": [
       "0    1.013600e+06\n",
       "1    6.525205e+04\n",
       "2    9.210140e+05\n",
       "3    2.795690e+04\n",
       "4    1.768897e+05\n",
       "dtype: float64"
      ]
     },
     "execution_count": 41,
     "metadata": {},
     "output_type": "execute_result"
    }
   ],
   "source": [
    "df.apply(lambda x: 2*x[1]+3*x[3], axis=1).head()"
   ]
  },
  {
   "cell_type": "markdown",
   "metadata": {},
   "source": [
    "### Use a combination of `apply` and `.value_counts()` to count how many values of `2015_margin` are larger than 45."
   ]
  },
  {
   "cell_type": "code",
   "execution_count": 42,
   "metadata": {},
   "outputs": [
    {
     "data": {
      "text/plain": [
       "0    134\n",
       "1     66\n",
       "Name: 2015_margin, dtype: int64"
      ]
     },
     "execution_count": 42,
     "metadata": {},
     "output_type": "execute_result"
    }
   ],
   "source": [
    "df['2015_margin'].apply(lambda x: 1 if x > 45 else 0).value_counts()"
   ]
  },
  {
   "cell_type": "markdown",
   "metadata": {
    "collapsed": true
   },
   "source": [
    "## Conclusion \n",
    "\n",
    "Before this lesson we used pandas for reading in datasets, producing summary statistics and slicing on the data. In this lesson you learned how to inspect which datatypes are contained, how to transform individual cells and columns using `.map()`, `.apply()` and `.applymap()`, and how to get insight about the contained values using `.value_counts()`."
   ]
  },
  {
   "cell_type": "markdown",
   "metadata": {},
   "source": [
    "## Additional resources\n",
    "\n",
    "\n",
    "- [`pandas` Documentation](http://pandas.pydata.org/pandas-docs/stable/pandas.pdf).\n",
    "- [`pandas`: dtypes](http://pandas.pydata.org/pandas-docs/stable/pandas.pdf)\n",
    "- [`pandas` Series: value_counts](https://pandas.pydata.org/pandas-docs/stable/generated/pandas.Series.value_counts.html) \n",
    "\n",
    "For more advanced information on `.apply` usage, check out these links:\n",
    "\n",
    "- [\"Why Not\"'s Gist Examples](https://gist.github.com/why-not/4582705)\n",
    "\n",
    "- [Chris Albon's Map + Apply Examples](http://chrisalbon.com/python/pandas_apply_operations_to_dataframes.html)\n",
    "\n"
   ]
  }
 ],
 "metadata": {
  "anaconda-cloud": {},
  "kernelspec": {
   "display_name": "Python 3",
   "language": "python",
   "name": "python3"
  },
  "language_info": {
   "codemirror_mode": {
    "name": "ipython",
    "version": 3
   },
   "file_extension": ".py",
   "mimetype": "text/x-python",
   "name": "python",
   "nbconvert_exporter": "python",
   "pygments_lexer": "ipython3",
   "version": "3.7.3"
  },
  "toc": {
   "base_numbering": 1,
   "nav_menu": {},
   "number_sections": false,
   "sideBar": true,
   "skip_h1_title": true,
   "title_cell": "Lesson Guide",
   "title_sidebar": "Contents",
   "toc_cell": true,
   "toc_position": {},
   "toc_section_display": "block",
   "toc_window_display": false
  }
 },
 "nbformat": 4,
 "nbformat_minor": 1
}
