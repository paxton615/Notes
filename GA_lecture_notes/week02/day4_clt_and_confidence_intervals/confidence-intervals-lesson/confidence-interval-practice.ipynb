{
 "cells": [
  {
   "cell_type": "markdown",
   "metadata": {},
   "source": [
    "<img src=\"http://imgur.com/1ZcRyrc.png\" style=\"float: left; margin: 20px; height: 55px\">\n",
    "\n",
    "# Confidence Intervals Practice\n",
    "\n",
    "\n",
    "---"
   ]
  },
  {
   "cell_type": "code",
   "execution_count": 1,
   "metadata": {},
   "outputs": [],
   "source": [
    "import numpy as np\n",
    "import scipy.stats as stats\n",
    "import seaborn as sns\n",
    "import matplotlib.pyplot as plt\n",
    "\n",
    "plt.style.use('fivethirtyeight')\n",
    "\n",
    "%config InlineBackend.figure_format = 'retina'\n",
    "%matplotlib inline"
   ]
  },
  {
   "cell_type": "markdown",
   "metadata": {},
   "source": [
    "### Q 1:\n",
    "\n",
    "Height measurements of 200 individuals resulted in an observed mean of 174 cm. General estimates indicate a standard deviation of 6 cm for heights. What are the 95 % confidence intervals for the measured mean? "
   ]
  },
  {
   "cell_type": "code",
   "execution_count": 7,
   "metadata": {},
   "outputs": [
    {
     "name": "stdout",
     "output_type": "stream",
     "text": [
      "[-0.4676988  0.4676988]\n",
      "[-1.64485363  1.64485363]\n",
      "[-2.74778139  2.74778139]\n"
     ]
    }
   ],
   "source": [
    "print(stats.norm().ppf([0.32, 0.68]))\n",
    "print(stats.norm.ppf([0.05, 0.95]))\n",
    "print(stats.norm().ppf([0.003, 0.997]))"
   ]
  },
  {
   "cell_type": "code",
   "execution_count": 9,
   "metadata": {},
   "outputs": [
    {
     "name": "stdout",
     "output_type": "stream",
     "text": [
      "[-1.64485363  1.64485363]\n",
      "[-1.95996398  1.95996398]\n",
      "[-2.5758293  2.5758293]\n"
     ]
    }
   ],
   "source": [
    "print(stats.norm().ppf([0.05, 0.95]))\n",
    "\n",
    "print(stats.norm.ppf([0.025, 0.975]))\n",
    "\n",
    "print(stats.norm().ppf([0.005, 0.995]))"
   ]
  },
  {
   "cell_type": "code",
   "execution_count": 14,
   "metadata": {},
   "outputs": [
    {
     "name": "stdout",
     "output_type": "stream",
     "text": [
      "[173.30214771 174.69785229]\n",
      "Difference: 1.3957045799999719\n"
     ]
    }
   ],
   "source": [
    "print(174 + stats.norm().ppf([0.05, 0.95])*6/ np.sqrt(200))\n",
    "print('Difference:', 174.69785229-173.30214771)"
   ]
  },
  {
   "cell_type": "code",
   "execution_count": 16,
   "metadata": {},
   "outputs": [
    {
     "name": "stdout",
     "output_type": "stream",
     "text": [
      "[173.45628372 174.54371628]\n",
      "Difference: 1.0874325600000248\n"
     ]
    }
   ],
   "source": [
    "print(174 + stats.norm().ppf([0.1, 0.9])*6/ np.sqrt(200))\n",
    "print('Difference:', 174.54371628-173.45628372)"
   ]
  },
  {
   "cell_type": "code",
   "execution_count": 17,
   "metadata": {},
   "outputs": [
    {
     "name": "stdout",
     "output_type": "stream",
     "text": [
      "[172.90716818 175.09283182]\n",
      "Difference: 2.185663639999973\n"
     ]
    }
   ],
   "source": [
    "print(174 + stats.norm().ppf([0.005, 0.995])*6/ np.sqrt(200))\n",
    "print('Difference:', 175.09283182-172.90716818)"
   ]
  },
  {
   "cell_type": "markdown",
   "metadata": {},
   "source": [
    "### Q 2:\n",
    "\n",
    "In a psychological experiment, the reaction time of people playing computer games is estimated to have a variance of 0.05 seconds. How many samples does one have to collect to be 95 % (99 %) sure that the error in the estimate of the mean reaction time is not larger than 0.01 seconds?"
   ]
  },
  {
   "cell_type": "code",
   "execution_count": 18,
   "metadata": {},
   "outputs": [
    {
     "data": {
      "text/plain": [
       "array([ 0.10875462, -0.10875462])"
      ]
     },
     "execution_count": 18,
     "metadata": {},
     "output_type": "execute_result"
    }
   ],
   "source": [
    "(0.01-0.05)/(np.sqrt(0.05)*stats.norm.ppf([0.05,0.95]))"
   ]
  },
  {
   "cell_type": "code",
   "execution_count": null,
   "metadata": {},
   "outputs": [],
   "source": []
  },
  {
   "cell_type": "code",
   "execution_count": null,
   "metadata": {},
   "outputs": [],
   "source": []
  },
  {
   "cell_type": "code",
   "execution_count": null,
   "metadata": {},
   "outputs": [],
   "source": []
  },
  {
   "cell_type": "markdown",
   "metadata": {},
   "source": [
    "### Q 3:\n",
    "\n",
    "You have a huge box with tennis balls of which you are not sure if they conform with rules for size (must be between 6.54 and 6.86 cm in diameter). You pick 10 of the balls and measure their diameter, obtaining a mean of 6.58 cm and a sample standard deviation of 0.04 cm. Find 95 % and 99 % confidence intervals. Can you be confident that the balls in the box conform with the rules?"
   ]
  },
  {
   "cell_type": "code",
   "execution_count": null,
   "metadata": {},
   "outputs": [],
   "source": []
  },
  {
   "cell_type": "code",
   "execution_count": null,
   "metadata": {},
   "outputs": [],
   "source": []
  }
 ],
 "metadata": {
  "kernelspec": {
   "display_name": "Python 3",
   "language": "python",
   "name": "python3"
  },
  "language_info": {
   "codemirror_mode": {
    "name": "ipython",
    "version": 3
   },
   "file_extension": ".py",
   "mimetype": "text/x-python",
   "name": "python",
   "nbconvert_exporter": "python",
   "pygments_lexer": "ipython3",
   "version": "3.7.4"
  },
  "toc": {
   "base_numbering": 1,
   "nav_menu": {},
   "number_sections": false,
   "sideBar": true,
   "skip_h1_title": true,
   "title_cell": "Table of Contents",
   "title_sidebar": "Contents",
   "toc_cell": false,
   "toc_position": {},
   "toc_section_display": "block",
   "toc_window_display": false
  }
 },
 "nbformat": 4,
 "nbformat_minor": 2
}
