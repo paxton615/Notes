{
 "cells": [
  {
   "cell_type": "markdown",
   "metadata": {},
   "source": [
    "<img src=\"http://imgur.com/1ZcRyrc.png\" style=\"float: left; margin: 20px; height: 55px\">\n",
    "\n",
    "## Introduction to Pandas Grouping\n",
    "\n",
    "\n",
    "---"
   ]
  },
  {
   "cell_type": "markdown",
   "metadata": {},
   "source": [
    "## Learning Objectives\n",
    "\n",
    "### Core\n",
    "- Know in which situations **grouping** is useful\n",
    "- Explain and use the **`.groupby()`** function in Pandas\n",
    "- Demonstrate aggregation and plotting methods by grouping in Pandas\n",
    "\n",
    "### Target\n",
    "- Analyse data by group\n",
    "- Aggregate with custom functions\n",
    "- Create plots from groups\n",
    "\n",
    "### Stretch\n",
    "- Use .agg() on a groupby object to get different functions for different columns\n"
   ]
  },
  {
   "cell_type": "markdown",
   "metadata": {
    "toc": true
   },
   "source": [
    "<h1>Lesson Guide<span class=\"tocSkip\"></span></h1>\n",
    "<div class=\"toc\"><ul class=\"toc-item\"><li><span><a href=\"#Introduction-to-Pandas-Grouping\" data-toc-modified-id=\"Introduction-to-Pandas-Grouping-1\">Introduction to Pandas Grouping</a></span></li><li><span><a href=\"#Learning-Objectives\" data-toc-modified-id=\"Learning-Objectives-2\">Learning Objectives</a></span><ul class=\"toc-item\"><li><span><a href=\"#Core\" data-toc-modified-id=\"Core-2.1\">Core</a></span></li><li><span><a href=\"#Target\" data-toc-modified-id=\"Target-2.2\">Target</a></span></li><li><span><a href=\"#Stretch\" data-toc-modified-id=\"Stretch-2.3\">Stretch</a></span></li></ul></li><li><span><a href=\"#Analyzing-data-by-group:-some-specific-examples\" data-toc-modified-id=\"Analyzing-data-by-group:-some-specific-examples-3\">Analyzing data by group: some specific examples</a></span><ul class=\"toc-item\"><li><span><a href=\"#Subset-aggregation:\" data-toc-modified-id=\"Subset-aggregation:-3.1\">Subset aggregation:</a></span></li><li><span><a href=\"#Hierarchical-aggregation\" data-toc-modified-id=\"Hierarchical-aggregation-3.2\">Hierarchical aggregation</a></span></li><li><span><a href=\"#Exploring-the-Titanic-dataset-with-grouping\" data-toc-modified-id=\"Exploring-the-Titanic-dataset-with-grouping-3.3\">Exploring the Titanic dataset with grouping</a></span></li><li><span><a href=\"#Load-the-data-into-pandas\" data-toc-modified-id=\"Load-the-data-into-pandas-3.4\">Load the data into pandas</a></span></li><li><span><a href=\"#Perform-the-initial-EDA-steps-that-you-should-consider-whenever-you-load-data-into-a-dataframe.\" data-toc-modified-id=\"Perform-the-initial-EDA-steps-that-you-should-consider-whenever-you-load-data-into-a-dataframe.-3.5\">Perform the initial EDA steps that you should consider whenever you load data into a dataframe.</a></span></li></ul></li><li><span><a href=\"#Intro-to-.groupby()-in-pandas\" data-toc-modified-id=\"Intro-to-.groupby()-in-pandas-4\">Intro to <code>.groupby()</code> in pandas</a></span><ul class=\"toc-item\"><li><span><a href=\"#Using-.groupby,-create-a-grouped-dataframe-where-the-titanic-dataset-is-grouped-by-Pclass.\" data-toc-modified-id=\"Using-.groupby,-create-a-grouped-dataframe-where-the-titanic-dataset-is-grouped-by-Pclass.-4.1\">Using <code>.groupby</code>, create a grouped dataframe where the titanic dataset is grouped by <code>Pclass</code>.</a></span></li><li><span><a href=\"#Print-out-the-type-of-the-grouped-dataframe.\" data-toc-modified-id=\"Print-out-the-type-of-the-grouped-dataframe.-4.2\">Print out the type of the grouped dataframe.</a></span></li><li><span><a href=\"#Extract-the-names-of-the-groups-and-the-row-indices-contained-in-each.\" data-toc-modified-id=\"Extract-the-names-of-the-groups-and-the-row-indices-contained-in-each.-4.3\">Extract the names of the groups and the row indices contained in each.</a></span></li><li><span><a href=\"#Extract-the-number-of-groups\" data-toc-modified-id=\"Extract-the-number-of-groups-4.4\">Extract the number of groups</a></span></li><li><span><a href=\"#Determine-the-number-of-unique-elements-in-each-column-per-group.\" data-toc-modified-id=\"Determine-the-number-of-unique-elements-in-each-column-per-group.-4.5\">Determine the number of unique elements in each column per group.</a></span></li><li><span><a href=\"#Pull-out-the-first-group-from-the-grouped-dataframe.\" data-toc-modified-id=\"Pull-out-the-first-group-from-the-grouped-dataframe.-4.6\">Pull out the first group from the grouped dataframe.</a></span></li><li><span><a href=\"#Write-a-for-loop-to-iterate-through-the-grouped-dataframe-printing-out-the-PClass-and-the-header-of-the-subset-each-time.\" data-toc-modified-id=\"Write-a-for-loop-to-iterate-through-the-grouped-dataframe-printing-out-the-PClass-and-the-header-of-the-subset-each-time.-4.7\">Write a for-loop to iterate through the grouped dataframe printing out the PClass and the header of the subset each time.</a></span></li><li><span><a href=\"#Grouping-by-multiple-fields\" data-toc-modified-id=\"Grouping-by-multiple-fields-4.8\">Grouping by multiple fields</a></span></li><li><span><a href=\"#Create-a-grouped-dataframe-by-grouping-the-titanic-data-by-Pclass-and-Survived.\" data-toc-modified-id=\"Create-a-grouped-dataframe-by-grouping-the-titanic-data-by-Pclass-and-Survived.-4.9\">Create a grouped dataframe by grouping the titanic data by <code>Pclass</code> and <code>Survived</code>.</a></span></li><li><span><a href=\"#Print-out-the-length-of-this-grouped-dataframe.\" data-toc-modified-id=\"Print-out-the-length-of-this-grouped-dataframe.-4.10\">Print out the length of this grouped dataframe.</a></span></li><li><span><a href=\"#Applying-basic-functions-to-groups\" data-toc-modified-id=\"Applying-basic-functions-to-groups-4.11\">Applying basic functions to groups</a></span></li><li><span><a href=\"#Try-out-these-built-in-functions-on-the-grouped-data-you-made-above.\" data-toc-modified-id=\"Try-out-these-built-in-functions-on-the-grouped-data-you-made-above.-4.12\">Try out these built in functions on the grouped data you made above.</a></span></li><li><span><a href=\"#Find-the-percent-of-passengers-who-survived-by-where-they-embarked.\" data-toc-modified-id=\"Find-the-percent-of-passengers-who-survived-by-where-they-embarked.-4.13\">Find the percent of passengers who survived by where they embarked.</a></span></li><li><span><a href=\"#Find-the-average-fare-and-age-grouped-by-the-location-of-Embarked-and-the-Pclass.\" data-toc-modified-id=\"Find-the-average-fare-and-age-grouped-by-the-location-of-Embarked-and-the-Pclass.-4.14\">Find the average fare and age grouped by the location of <code>Embarked</code> and the <code>Pclass</code>.</a></span></li><li><span><a href=\"#Have-a-look-at-the-index-structure.\" data-toc-modified-id=\"Have-a-look-at-the-index-structure.-4.15\">Have a look at the index structure.</a></span></li><li><span><a href=\"#Removing-the-hierarchical-index\" data-toc-modified-id=\"Removing-the-hierarchical-index-4.16\">Removing the hierarchical index</a></span></li><li><span><a href=\"#Remove-the-hierarchical-index-for-the-average-fare-and-age-dataset-you-just-created,-converting-Embarked-and-Pclass-to-columns.\" data-toc-modified-id=\"Remove-the-hierarchical-index-for-the-average-fare-and-age-dataset-you-just-created,-converting-Embarked-and-Pclass-to-columns.-4.17\">Remove the hierarchical index for the average fare and age dataset you just created, converting <code>Embarked</code> and <code>Pclass</code> to columns.</a></span></li><li><span><a href=\"#Find-the-mean-of-Survived,-Age,-and-Fare-grouped-by-Sex-and-then-by-Pclass.--Don't-take-the-groupby-variables-as-indices.\" data-toc-modified-id=\"Find-the-mean-of-Survived,-Age,-and-Fare-grouped-by-Sex-and-then-by-Pclass.--Don't-take-the-groupby-variables-as-indices.-4.18\">Find the mean of <code>Survived</code>, <code>Age</code>, and <code>Fare</code> grouped by <code>Sex</code> and then by <code>Pclass</code>.  Don't take the groupby variables as indices.</a></span></li><li><span><a href=\"#Applying-your-own-functions-to-groups-with-.apply()\" data-toc-modified-id=\"Applying-your-own-functions-to-groups-with-.apply()-4.19\">Applying your own functions to groups with <code>.apply()</code></a></span></li><li><span><a href=\"#See-what-happens-when-you-replace-the-built-in-.mean()-function-with--.apply(np.mean)-for-the-question-above.\" data-toc-modified-id=\"See-what-happens-when-you-replace-the-built-in-.mean()-function-with--.apply(np.mean)-for-the-question-above.-4.20\">See what happens when you replace the built-in <code>.mean()</code> function with  <code>.apply(np.mean)</code> for the question above.</a></span></li><li><span><a href=\"#Write-a-function-that-will-take-the-mean-of-columns-in-a-dataset-and-round-the-values.\" data-toc-modified-id=\"Write-a-function-that-will-take-the-mean-of-columns-in-a-dataset-and-round-the-values.-4.21\">Write a function that will take the mean of columns in a dataset and round the values.</a></span></li><li><span><a href=\"#Apply-your-custom-function-to-the-grouped-data.\" data-toc-modified-id=\"Apply-your-custom-function-to-the-grouped-data.-4.22\">Apply your custom function to the grouped data.</a></span></li><li><span><a href=\"#For-example,-write-a-function-that-will-return-the-subset-of-the-titanic-dataset-with-the-top-paying-female-passengers.\" data-toc-modified-id=\"For-example,-write-a-function-that-will-return-the-subset-of-the-titanic-dataset-with-the-top-paying-female-passengers.-4.23\">For example, write a function that will return the subset of the titanic dataset with the top paying female passengers.</a></span></li><li><span><a href=\"#Group-the-titanic-data-by-Survived-and-apply-your-function-to-extract-the-top-paying-females.\" data-toc-modified-id=\"Group-the-titanic-data-by-Survived-and-apply-your-function-to-extract-the-top-paying-females.-4.24\">Group the titanic data by <code>Survived</code> and apply your function to extract the top paying females.</a></span></li><li><span><a href=\"#Basic-pandas-plots-with-grouped-data\" data-toc-modified-id=\"Basic-pandas-plots-with-grouped-data-4.25\">Basic pandas plots with grouped data</a></span></li><li><span><a href=\"#First-find-the-number-of-passengers-per-Pclass-by-using-.groupby-and-.size.\" data-toc-modified-id=\"First-find-the-number-of-passengers-per-Pclass-by-using-.groupby-and-.size.-4.26\">First find the number of passengers per <code>Pclass</code> by using <code>.groupby</code> and <code>.size</code>.</a></span></li><li><span><a href=\"#Plot-the-average-fare-per-Sex-and-Pclass-as-a-bar-chart.\" data-toc-modified-id=\"Plot-the-average-fare-per-Sex-and-Pclass-as-a-bar-chart.-4.27\">Plot the average fare per <code>Sex</code> and <code>Pclass</code> as a bar chart.</a></span></li></ul></li><li><span><a href=\"#Grouped-bar-charts-with-pandas\" data-toc-modified-id=\"Grouped-bar-charts-with-pandas-5\">Grouped bar charts with pandas</a></span><ul class=\"toc-item\"><li><span><a href=\"#Calculate-the-mean-of-Fare-by-Pclass-and-Sex-using-groupby,-assign-it-to-a-variable,-and-print-it-out.\" data-toc-modified-id=\"Calculate-the-mean-of-Fare-by-Pclass-and-Sex-using-groupby,-assign-it-to-a-variable,-and-print-it-out.-5.1\">Calculate the mean of <code>Fare</code> by <code>Pclass</code> and <code>Sex</code> using <code>groupby</code>, assign it to a variable, and print it out.</a></span></li><li><span><a href=\"#Use-the-.unstack()-function-on-your-mean-fare-variable.\" data-toc-modified-id=\"Use-the-.unstack()-function-on-your-mean-fare-variable.-5.2\">Use the <code>.unstack()</code> function on your mean fare variable.</a></span></li><li><span><a href=\"#Now-use-the-plot-function-on-the-unstacked-data-to-create-a-bar-chart.\" data-toc-modified-id=\"Now-use-the-plot-function-on-the-unstacked-data-to-create-a-bar-chart.-5.3\">Now use the plot function on the unstacked data to create a bar chart.</a></span></li><li><span><a href=\"#Using-.agg(-)\" data-toc-modified-id=\"Using-.agg(-)-5.4\">Using .agg( )</a></span></li><li><span><a href=\"#Explore-the-multi-index-and-the-multi-column-names.\" data-toc-modified-id=\"Explore-the-multi-index-and-the-multi-column-names.-5.5\">Explore the multi-index and the multi-column names.</a></span><ul class=\"toc-item\"><li><span><a href=\"#A-save-way-to-extract-what-you-want\" data-toc-modified-id=\"A-save-way-to-extract-what-you-want-5.5.1\">A save way to extract what you want</a></span></li><li><span><a href=\"#Making-use-of-the-multi-index\" data-toc-modified-id=\"Making-use-of-the-multi-index-5.5.2\">Making use of the multi-index</a></span></li><li><span><a href=\"#Reset-the-index\" data-toc-modified-id=\"Reset-the-index-5.5.3\">Reset the index</a></span></li></ul></li><li><span><a href=\"#Independent-practice-with-grouping\" data-toc-modified-id=\"Independent-practice-with-grouping-5.6\">Independent practice with grouping</a></span></li></ul></li></ul></div>"
   ]
  },
  {
   "cell_type": "markdown",
   "metadata": {},
   "source": [
    "## Analyzing data by group: some specific examples\n",
    "\n",
    "---\n",
    "\n",
    " - Sum of crimes by time of day in SF (morning, afternoon, night)\n",
    " - Count number of people with the same last name\n",
    " - Median number of multi-unit buildings in a region\n",
    " - Popularity of movie genres by region\n",
    " - Segmenting customers based on age, buying habits, interests, behavior\n",
    " - Using the \"GROUP BY\" clause in a database query using SQL"
   ]
  },
  {
   "cell_type": "markdown",
   "metadata": {},
   "source": [
    "### Subset aggregation:\n",
    "\n",
    "This chart stratifies a single variable \"Industry\", **counting** job openings within category.\n",
    "\n",
    "![](http://www.rasmussen.edu/images/blogs/1360270834-402_Graphs_JobOpeningsByIndustry.jpg)"
   ]
  },
  {
   "cell_type": "markdown",
   "metadata": {},
   "source": [
    "### Hierarchical aggregation\n",
    "\n",
    "This chart aggregates first by a top level group, \"industry\", and then a secondary group \"date\" within each industry.\n",
    "\n",
    "![](http://junkcharts.typepad.com/.a/6a00d8341e992c53ef0192acc65090970d-pi)"
   ]
  },
  {
   "cell_type": "markdown",
   "metadata": {},
   "source": [
    "### Exploring the Titanic dataset with grouping\n",
    "\n",
    "---\n",
    "\n",
    "To explore the power of grouping with pandas we will be using [the famous Titanic dataset that can be downloaded from Kaggle](https://www.kaggle.com/c/titanic). From the competition description:\n",
    "\n",
    ">The sinking of the RMS Titanic is one of the most infamous shipwrecks in history.  On April 15, 1912, during her maiden voyage, the Titanic sank after colliding with an iceberg, killing 1502 out of 2224 passengers and crew. This sensational tragedy shocked the international community and led to better safety regulations for ships.\n",
    "\n",
    ">One of the reasons that the shipwreck led to such loss of life was that there were not enough lifeboats for the passengers and crew. Although there was some element of luck involved in surviving the sinking, some groups of people were more likely to survive than others, such as women, children, and the upper-class.\n",
    "\n",
    "Though we will not be doing any modeling of survival rates in this lesson, there are interesting patterns to be found just by exploring descriptive statistics in cross-sections of the data."
   ]
  },
  {
   "cell_type": "code",
   "execution_count": 1,
   "metadata": {},
   "outputs": [],
   "source": [
    "import pandas as pd\n",
    "import numpy as np\n",
    "import seaborn as sns\n",
    "import matplotlib.pyplot as plt\n",
    "\n",
    "sns.set(font_scale=1.5)\n",
    "%matplotlib inline\n",
    "%config InlineBackend.figure_format = 'retina'"
   ]
  },
  {
   "cell_type": "markdown",
   "metadata": {},
   "source": [
    "### Load the data into pandas"
   ]
  },
  {
   "cell_type": "code",
   "execution_count": 2,
   "metadata": {},
   "outputs": [],
   "source": [
    "titanic = pd.read_csv('../../../../resource-datasets/titanic/titanic_clean.csv')"
   ]
  },
  {
   "cell_type": "code",
   "execution_count": 3,
   "metadata": {},
   "outputs": [
    {
     "data": {
      "text/html": [
       "<div>\n",
       "<style scoped>\n",
       "    .dataframe tbody tr th:only-of-type {\n",
       "        vertical-align: middle;\n",
       "    }\n",
       "\n",
       "    .dataframe tbody tr th {\n",
       "        vertical-align: top;\n",
       "    }\n",
       "\n",
       "    .dataframe thead th {\n",
       "        text-align: right;\n",
       "    }\n",
       "</style>\n",
       "<table border=\"1\" class=\"dataframe\">\n",
       "  <thead>\n",
       "    <tr style=\"text-align: right;\">\n",
       "      <th></th>\n",
       "      <th>PassengerId</th>\n",
       "      <th>Survived</th>\n",
       "      <th>Pclass</th>\n",
       "      <th>Name</th>\n",
       "      <th>Sex</th>\n",
       "      <th>Age</th>\n",
       "      <th>SibSp</th>\n",
       "      <th>Parch</th>\n",
       "      <th>Fare</th>\n",
       "      <th>Embarked</th>\n",
       "    </tr>\n",
       "  </thead>\n",
       "  <tbody>\n",
       "    <tr>\n",
       "      <th>0</th>\n",
       "      <td>1</td>\n",
       "      <td>0</td>\n",
       "      <td>3</td>\n",
       "      <td>Braund, Mr. Owen Harris</td>\n",
       "      <td>male</td>\n",
       "      <td>22.0</td>\n",
       "      <td>1</td>\n",
       "      <td>0</td>\n",
       "      <td>7.2500</td>\n",
       "      <td>S</td>\n",
       "    </tr>\n",
       "    <tr>\n",
       "      <th>1</th>\n",
       "      <td>2</td>\n",
       "      <td>1</td>\n",
       "      <td>1</td>\n",
       "      <td>Cumings, Mrs. John Bradley (Florence Briggs Th...</td>\n",
       "      <td>female</td>\n",
       "      <td>38.0</td>\n",
       "      <td>1</td>\n",
       "      <td>0</td>\n",
       "      <td>71.2833</td>\n",
       "      <td>C</td>\n",
       "    </tr>\n",
       "    <tr>\n",
       "      <th>2</th>\n",
       "      <td>3</td>\n",
       "      <td>1</td>\n",
       "      <td>3</td>\n",
       "      <td>Heikkinen, Miss. Laina</td>\n",
       "      <td>female</td>\n",
       "      <td>26.0</td>\n",
       "      <td>0</td>\n",
       "      <td>0</td>\n",
       "      <td>7.9250</td>\n",
       "      <td>S</td>\n",
       "    </tr>\n",
       "    <tr>\n",
       "      <th>3</th>\n",
       "      <td>4</td>\n",
       "      <td>1</td>\n",
       "      <td>1</td>\n",
       "      <td>Futrelle, Mrs. Jacques Heath (Lily May Peel)</td>\n",
       "      <td>female</td>\n",
       "      <td>35.0</td>\n",
       "      <td>1</td>\n",
       "      <td>0</td>\n",
       "      <td>53.1000</td>\n",
       "      <td>S</td>\n",
       "    </tr>\n",
       "    <tr>\n",
       "      <th>4</th>\n",
       "      <td>5</td>\n",
       "      <td>0</td>\n",
       "      <td>3</td>\n",
       "      <td>Allen, Mr. William Henry</td>\n",
       "      <td>male</td>\n",
       "      <td>35.0</td>\n",
       "      <td>0</td>\n",
       "      <td>0</td>\n",
       "      <td>8.0500</td>\n",
       "      <td>S</td>\n",
       "    </tr>\n",
       "  </tbody>\n",
       "</table>\n",
       "</div>"
      ],
      "text/plain": [
       "   PassengerId  Survived  Pclass  \\\n",
       "0            1         0       3   \n",
       "1            2         1       1   \n",
       "2            3         1       3   \n",
       "3            4         1       1   \n",
       "4            5         0       3   \n",
       "\n",
       "                                                Name     Sex   Age  SibSp  \\\n",
       "0                            Braund, Mr. Owen Harris    male  22.0      1   \n",
       "1  Cumings, Mrs. John Bradley (Florence Briggs Th...  female  38.0      1   \n",
       "2                             Heikkinen, Miss. Laina  female  26.0      0   \n",
       "3       Futrelle, Mrs. Jacques Heath (Lily May Peel)  female  35.0      1   \n",
       "4                           Allen, Mr. William Henry    male  35.0      0   \n",
       "\n",
       "   Parch     Fare Embarked  \n",
       "0      0   7.2500        S  \n",
       "1      0  71.2833        C  \n",
       "2      0   7.9250        S  \n",
       "3      0  53.1000        S  \n",
       "4      0   8.0500        S  "
      ]
     },
     "execution_count": 3,
     "metadata": {},
     "output_type": "execute_result"
    }
   ],
   "source": [
    "titanic.head()"
   ]
  },
  {
   "cell_type": "markdown",
   "metadata": {},
   "source": [
    "### Perform the initial EDA steps that you should consider whenever you load data into a dataframe.\n",
    "\n",
    "- data shape\n",
    "- data description\n",
    "- data types\n",
    "- missing values\n",
    "- unique values and counts in categorical variables"
   ]
  },
  {
   "cell_type": "code",
   "execution_count": null,
   "metadata": {},
   "outputs": [],
   "source": []
  },
  {
   "cell_type": "markdown",
   "metadata": {},
   "source": [
    "## Intro to `.groupby()` in pandas\n",
    "\n",
    "---\n",
    "\n",
    "The built-in `.groupby()` function for dataframes is one of the most useful tools in pandas. As the name implies, `.groupby` will group your dataset by one or more user-specified column names given as an argument."
   ]
  },
  {
   "cell_type": "markdown",
   "metadata": {},
   "source": [
    "### Using `.groupby`, create a grouped dataframe where the titanic dataset is grouped by `Pclass`."
   ]
  },
  {
   "cell_type": "code",
   "execution_count": 4,
   "metadata": {},
   "outputs": [],
   "source": [
    "grouped_by_classes = titanic.groupby('Pclass')"
   ]
  },
  {
   "cell_type": "code",
   "execution_count": 5,
   "metadata": {},
   "outputs": [
    {
     "data": {
      "text/plain": [
       "<pandas.core.groupby.generic.DataFrameGroupBy object at 0x1a21212828>"
      ]
     },
     "execution_count": 5,
     "metadata": {},
     "output_type": "execute_result"
    }
   ],
   "source": [
    "grouped_by_classes"
   ]
  },
  {
   "cell_type": "markdown",
   "metadata": {},
   "source": [
    "### Print out the type of the grouped dataframe."
   ]
  },
  {
   "cell_type": "code",
   "execution_count": 52,
   "metadata": {},
   "outputs": [
    {
     "ename": "AttributeError",
     "evalue": "'DataFrameGroupBy' object has no attribute 'dtpyes'",
     "output_type": "error",
     "traceback": [
      "\u001b[0;31m---------------------------------------------------------------------------\u001b[0m",
      "\u001b[0;31mAttributeError\u001b[0m                            Traceback (most recent call last)",
      "\u001b[0;32m<ipython-input-52-cde543f8e4bc>\u001b[0m in \u001b[0;36m<module>\u001b[0;34m\u001b[0m\n\u001b[0;32m----> 1\u001b[0;31m \u001b[0mgrouped_by_classes\u001b[0m\u001b[0;34m.\u001b[0m\u001b[0mdtpyes\u001b[0m\u001b[0;34m(\u001b[0m\u001b[0;34m)\u001b[0m\u001b[0;34m\u001b[0m\u001b[0;34m\u001b[0m\u001b[0m\n\u001b[0m",
      "\u001b[0;32m/anaconda3/lib/python3.7/site-packages/pandas/core/groupby/groupby.py\u001b[0m in \u001b[0;36m__getattr__\u001b[0;34m(self, attr)\u001b[0m\n\u001b[1;32m    534\u001b[0m \u001b[0;34m\u001b[0m\u001b[0m\n\u001b[1;32m    535\u001b[0m         raise AttributeError(\"%r object has no attribute %r\" %\n\u001b[0;32m--> 536\u001b[0;31m                              (type(self).__name__, attr))\n\u001b[0m\u001b[1;32m    537\u001b[0m \u001b[0;34m\u001b[0m\u001b[0m\n\u001b[1;32m    538\u001b[0m     @Substitution(klass='GroupBy',\n",
      "\u001b[0;31mAttributeError\u001b[0m: 'DataFrameGroupBy' object has no attribute 'dtpyes'"
     ]
    }
   ],
   "source": [
    "grouped_by_classes"
   ]
  },
  {
   "cell_type": "markdown",
   "metadata": {},
   "source": [
    "Instead of a `DataFrame` object we now have a `DataFrameGroupBy` object. This operates somewhat differently than the DataFrame we are used to, as we shall see."
   ]
  },
  {
   "cell_type": "markdown",
   "metadata": {},
   "source": [
    "### Extract the names of the groups and the row indices contained in each.\n",
    "\n",
    "Use the `.groups` attribute."
   ]
  },
  {
   "cell_type": "code",
   "execution_count": null,
   "metadata": {},
   "outputs": [],
   "source": []
  },
  {
   "cell_type": "markdown",
   "metadata": {},
   "source": [
    "### Extract the number of groups\n",
    "\n",
    "Use the `.ngroups` attribute."
   ]
  },
  {
   "cell_type": "code",
   "execution_count": null,
   "metadata": {},
   "outputs": [],
   "source": []
  },
  {
   "cell_type": "markdown",
   "metadata": {},
   "source": [
    "### Determine the number of unique elements in each column per group.\n",
    "\n",
    "Use the `.nunique()` method."
   ]
  },
  {
   "cell_type": "code",
   "execution_count": null,
   "metadata": {},
   "outputs": [],
   "source": []
  },
  {
   "cell_type": "markdown",
   "metadata": {},
   "source": [
    "### Pull out the first group from the grouped dataframe.\n",
    "\n",
    "Use the `.get_group()` method with one of the group names."
   ]
  },
  {
   "cell_type": "code",
   "execution_count": null,
   "metadata": {},
   "outputs": [],
   "source": []
  },
  {
   "cell_type": "markdown",
   "metadata": {},
   "source": [
    "Grouped dataframes do not work in the same way as python lists. You can't pull out the different groups with indexers. Despite this, grouped dataframe objects **are** iterable! You can iterate over them using a for-loop, for example.\n",
    "\n",
    "In our grouped dataframe, each element will be a tuple containing the Pclass group as its first element, and the subset of the original titanic dataframe for that Pclass as its second element."
   ]
  },
  {
   "cell_type": "markdown",
   "metadata": {},
   "source": [
    "### Write a for-loop to iterate through the grouped dataframe printing out the PClass and the header of the subset each time."
   ]
  },
  {
   "cell_type": "code",
   "execution_count": 6,
   "metadata": {},
   "outputs": [
    {
     "name": "stdout",
     "output_type": "stream",
     "text": [
      "1\n",
      "   PassengerId  Survived  Pclass  \\\n",
      "1            2         1       1   \n",
      "3            4         1       1   \n",
      "\n",
      "                                                Name     Sex   Age  SibSp  \\\n",
      "1  Cumings, Mrs. John Bradley (Florence Briggs Th...  female  38.0      1   \n",
      "3       Futrelle, Mrs. Jacques Heath (Lily May Peel)  female  35.0      1   \n",
      "\n",
      "   Parch     Fare Embarked  \n",
      "1      0  71.2833        C  \n",
      "3      0  53.1000        S  \n",
      "2\n",
      "    PassengerId  Survived  Pclass                                 Name  \\\n",
      "8            10         1       2  Nasser, Mrs. Nicholas (Adele Achem)   \n",
      "14           16         1       2     Hewlett, Mrs. (Mary D Kingcome)    \n",
      "\n",
      "       Sex   Age  SibSp  Parch     Fare Embarked  \n",
      "8   female  14.0      1      0  30.0708        C  \n",
      "14  female  55.0      0      0  16.0000        S  \n",
      "3\n",
      "   PassengerId  Survived  Pclass                     Name     Sex   Age  \\\n",
      "0            1         0       3  Braund, Mr. Owen Harris    male  22.0   \n",
      "2            3         1       3   Heikkinen, Miss. Laina  female  26.0   \n",
      "\n",
      "   SibSp  Parch   Fare Embarked  \n",
      "0      1      0  7.250        S  \n",
      "2      0      0  7.925        S  \n"
     ]
    }
   ],
   "source": [
    "for group in grouped_by_classes:\n",
    "    print(group[0])\n",
    "    print(group[1].head(2))  "
   ]
  },
  {
   "cell_type": "markdown",
   "metadata": {},
   "source": [
    "### Grouping by multiple fields\n",
    "\n",
    "---\n",
    "\n",
    "Grouping by more than one column is simple. The `.groupby()` function can take a list of column names to group by. When you group by more than one column, each subset of the data will correspond to one of the distinct combinations of the grouping columns."
   ]
  },
  {
   "cell_type": "markdown",
   "metadata": {},
   "source": [
    "### Create a grouped dataframe by grouping the titanic data by `Pclass` and `Survived`."
   ]
  },
  {
   "cell_type": "code",
   "execution_count": 7,
   "metadata": {},
   "outputs": [],
   "source": [
    "newgrouped = titanic.groupby(['Pclass', 'Survived'])"
   ]
  },
  {
   "cell_type": "markdown",
   "metadata": {},
   "source": [
    "### Print out the length of this grouped dataframe.\n",
    "\n",
    "It is the same length as unique combinations of Pclass and Survied: 3 Pclasses by 2 Survival values."
   ]
  },
  {
   "cell_type": "code",
   "execution_count": null,
   "metadata": {},
   "outputs": [],
   "source": []
  },
  {
   "cell_type": "markdown",
   "metadata": {},
   "source": [
    "### Applying basic functions to groups\n",
    "\n",
    "---\n",
    "\n",
    "Pandas makes it easy to apply basic statistical functions to the grouped data with built-in functions. For example, if you have a grouped dataframe `grouped`:\n",
    "\n",
    "```python\n",
    "print(grouped.mean())\n",
    "print(grouped.median())\n",
    "print(grouped.count())\n",
    "print(grouped.max())\n",
    "```\n",
    "\n",
    "We can get the mean, median, count, and max of the columns by group. "
   ]
  },
  {
   "cell_type": "markdown",
   "metadata": {},
   "source": [
    "### Try out these built in functions on the grouped data you made above."
   ]
  },
  {
   "cell_type": "code",
   "execution_count": null,
   "metadata": {},
   "outputs": [],
   "source": []
  },
  {
   "cell_type": "markdown",
   "metadata": {},
   "source": [
    "You can also operate on single columns or subsets of columns across grouped dataframes using the indexing syntax for standard dataframes."
   ]
  },
  {
   "cell_type": "markdown",
   "metadata": {},
   "source": [
    "### Find the percent of passengers who survived by where they embarked."
   ]
  },
  {
   "cell_type": "code",
   "execution_count": null,
   "metadata": {},
   "outputs": [],
   "source": []
  },
  {
   "cell_type": "markdown",
   "metadata": {},
   "source": [
    "### Find the average fare and age grouped by the location of `Embarked` and the `Pclass`."
   ]
  },
  {
   "cell_type": "code",
   "execution_count": 8,
   "metadata": {},
   "outputs": [
    {
     "data": {
      "text/html": [
       "<div>\n",
       "<style scoped>\n",
       "    .dataframe tbody tr th:only-of-type {\n",
       "        vertical-align: middle;\n",
       "    }\n",
       "\n",
       "    .dataframe tbody tr th {\n",
       "        vertical-align: top;\n",
       "    }\n",
       "\n",
       "    .dataframe thead th {\n",
       "        text-align: right;\n",
       "    }\n",
       "</style>\n",
       "<table border=\"1\" class=\"dataframe\">\n",
       "  <thead>\n",
       "    <tr style=\"text-align: right;\">\n",
       "      <th></th>\n",
       "      <th></th>\n",
       "      <th>Fare</th>\n",
       "      <th>Age</th>\n",
       "    </tr>\n",
       "    <tr>\n",
       "      <th>Embarked</th>\n",
       "      <th>Pclass</th>\n",
       "      <th></th>\n",
       "      <th></th>\n",
       "    </tr>\n",
       "  </thead>\n",
       "  <tbody>\n",
       "    <tr>\n",
       "      <th rowspan=\"3\" valign=\"top\">C</th>\n",
       "      <th>1</th>\n",
       "      <td>108.246399</td>\n",
       "      <td>38.027027</td>\n",
       "    </tr>\n",
       "    <tr>\n",
       "      <th>2</th>\n",
       "      <td>26.811947</td>\n",
       "      <td>22.766667</td>\n",
       "    </tr>\n",
       "    <tr>\n",
       "      <th>3</th>\n",
       "      <td>11.369927</td>\n",
       "      <td>20.741951</td>\n",
       "    </tr>\n",
       "    <tr>\n",
       "      <th rowspan=\"3\" valign=\"top\">Q</th>\n",
       "      <th>1</th>\n",
       "      <td>90.000000</td>\n",
       "      <td>38.500000</td>\n",
       "    </tr>\n",
       "    <tr>\n",
       "      <th>2</th>\n",
       "      <td>12.350000</td>\n",
       "      <td>43.500000</td>\n",
       "    </tr>\n",
       "    <tr>\n",
       "      <th>3</th>\n",
       "      <td>12.780904</td>\n",
       "      <td>25.937500</td>\n",
       "    </tr>\n",
       "    <tr>\n",
       "      <th rowspan=\"3\" valign=\"top\">S</th>\n",
       "      <th>1</th>\n",
       "      <td>74.172415</td>\n",
       "      <td>38.152037</td>\n",
       "    </tr>\n",
       "    <tr>\n",
       "      <th>2</th>\n",
       "      <td>21.075000</td>\n",
       "      <td>30.386731</td>\n",
       "    </tr>\n",
       "    <tr>\n",
       "      <th>3</th>\n",
       "      <td>13.529451</td>\n",
       "      <td>25.696552</td>\n",
       "    </tr>\n",
       "  </tbody>\n",
       "</table>\n",
       "</div>"
      ],
      "text/plain": [
       "                       Fare        Age\n",
       "Embarked Pclass                       \n",
       "C        1       108.246399  38.027027\n",
       "         2        26.811947  22.766667\n",
       "         3        11.369927  20.741951\n",
       "Q        1        90.000000  38.500000\n",
       "         2        12.350000  43.500000\n",
       "         3        12.780904  25.937500\n",
       "S        1        74.172415  38.152037\n",
       "         2        21.075000  30.386731\n",
       "         3        13.529451  25.696552"
      ]
     },
     "execution_count": 8,
     "metadata": {},
     "output_type": "execute_result"
    }
   ],
   "source": [
    "fare_age = titanic.groupby(['Embarked', 'Pclass'])['Fare', 'Age'].mean()\n",
    "fare_age"
   ]
  },
  {
   "cell_type": "markdown",
   "metadata": {},
   "source": [
    "### Have a look at the index structure.\n",
    "\n",
    "Use the `.index` attribute."
   ]
  },
  {
   "cell_type": "code",
   "execution_count": 9,
   "metadata": {},
   "outputs": [
    {
     "data": {
      "text/plain": [
       "RangeIndex(start=0, stop=712, step=1)"
      ]
     },
     "execution_count": 9,
     "metadata": {},
     "output_type": "execute_result"
    }
   ],
   "source": [
    "titanic.index"
   ]
  },
  {
   "cell_type": "code",
   "execution_count": 10,
   "metadata": {},
   "outputs": [
    {
     "data": {
      "text/plain": [
       "MultiIndex(levels=[['C', 'Q', 'S'], [1, 2, 3]],\n",
       "           codes=[[0, 0, 0, 1, 1, 1, 2, 2, 2], [0, 1, 2, 0, 1, 2, 0, 1, 2]],\n",
       "           names=['Embarked', 'Pclass'])"
      ]
     },
     "execution_count": 10,
     "metadata": {},
     "output_type": "execute_result"
    }
   ],
   "source": [
    "fare_age.index"
   ]
  },
  {
   "cell_type": "code",
   "execution_count": 11,
   "metadata": {},
   "outputs": [
    {
     "data": {
      "text/html": [
       "<div>\n",
       "<style scoped>\n",
       "    .dataframe tbody tr th:only-of-type {\n",
       "        vertical-align: middle;\n",
       "    }\n",
       "\n",
       "    .dataframe tbody tr th {\n",
       "        vertical-align: top;\n",
       "    }\n",
       "\n",
       "    .dataframe thead th {\n",
       "        text-align: right;\n",
       "    }\n",
       "</style>\n",
       "<table border=\"1\" class=\"dataframe\">\n",
       "  <thead>\n",
       "    <tr style=\"text-align: right;\">\n",
       "      <th></th>\n",
       "      <th></th>\n",
       "      <th>Fare</th>\n",
       "      <th>Age</th>\n",
       "    </tr>\n",
       "    <tr>\n",
       "      <th>Embarked</th>\n",
       "      <th>Pclass</th>\n",
       "      <th></th>\n",
       "      <th></th>\n",
       "    </tr>\n",
       "  </thead>\n",
       "  <tbody>\n",
       "    <tr>\n",
       "      <th rowspan=\"2\" valign=\"top\">Q</th>\n",
       "      <th>1</th>\n",
       "      <td>90.000000</td>\n",
       "      <td>38.500000</td>\n",
       "    </tr>\n",
       "    <tr>\n",
       "      <th>2</th>\n",
       "      <td>12.350000</td>\n",
       "      <td>43.500000</td>\n",
       "    </tr>\n",
       "    <tr>\n",
       "      <th rowspan=\"2\" valign=\"top\">S</th>\n",
       "      <th>1</th>\n",
       "      <td>74.172415</td>\n",
       "      <td>38.152037</td>\n",
       "    </tr>\n",
       "    <tr>\n",
       "      <th>2</th>\n",
       "      <td>21.075000</td>\n",
       "      <td>30.386731</td>\n",
       "    </tr>\n",
       "  </tbody>\n",
       "</table>\n",
       "</div>"
      ],
      "text/plain": [
       "                      Fare        Age\n",
       "Embarked Pclass                      \n",
       "Q        1       90.000000  38.500000\n",
       "         2       12.350000  43.500000\n",
       "S        1       74.172415  38.152037\n",
       "         2       21.075000  30.386731"
      ]
     },
     "execution_count": 11,
     "metadata": {},
     "output_type": "execute_result"
    }
   ],
   "source": [
    "fare_age.loc[['Q', 'S'], [1, 2], :]"
   ]
  },
  {
   "cell_type": "markdown",
   "metadata": {},
   "source": [
    "### Removing the hierarchical index\n",
    "\n",
    "---\n",
    "\n",
    "By default pandas will give you back your groups in a hierarchical index format. If this is not preferable to you, you can use the `.reset_index()` function to take your row labels and convert them into columns."
   ]
  },
  {
   "cell_type": "markdown",
   "metadata": {},
   "source": [
    "### Remove the hierarchical index for the average fare and age dataset you just created, converting `Embarked` and `Pclass` to columns."
   ]
  },
  {
   "cell_type": "code",
   "execution_count": 12,
   "metadata": {},
   "outputs": [],
   "source": [
    "fare_age.reset_index(inplace=True)"
   ]
  },
  {
   "cell_type": "code",
   "execution_count": 13,
   "metadata": {},
   "outputs": [
    {
     "data": {
      "text/html": [
       "<div>\n",
       "<style scoped>\n",
       "    .dataframe tbody tr th:only-of-type {\n",
       "        vertical-align: middle;\n",
       "    }\n",
       "\n",
       "    .dataframe tbody tr th {\n",
       "        vertical-align: top;\n",
       "    }\n",
       "\n",
       "    .dataframe thead th {\n",
       "        text-align: right;\n",
       "    }\n",
       "</style>\n",
       "<table border=\"1\" class=\"dataframe\">\n",
       "  <thead>\n",
       "    <tr style=\"text-align: right;\">\n",
       "      <th></th>\n",
       "      <th>Embarked</th>\n",
       "      <th>Pclass</th>\n",
       "      <th>Fare</th>\n",
       "      <th>Age</th>\n",
       "    </tr>\n",
       "  </thead>\n",
       "  <tbody>\n",
       "    <tr>\n",
       "      <th>0</th>\n",
       "      <td>C</td>\n",
       "      <td>1</td>\n",
       "      <td>108.246399</td>\n",
       "      <td>38.027027</td>\n",
       "    </tr>\n",
       "    <tr>\n",
       "      <th>1</th>\n",
       "      <td>C</td>\n",
       "      <td>2</td>\n",
       "      <td>26.811947</td>\n",
       "      <td>22.766667</td>\n",
       "    </tr>\n",
       "    <tr>\n",
       "      <th>2</th>\n",
       "      <td>C</td>\n",
       "      <td>3</td>\n",
       "      <td>11.369927</td>\n",
       "      <td>20.741951</td>\n",
       "    </tr>\n",
       "    <tr>\n",
       "      <th>3</th>\n",
       "      <td>Q</td>\n",
       "      <td>1</td>\n",
       "      <td>90.000000</td>\n",
       "      <td>38.500000</td>\n",
       "    </tr>\n",
       "    <tr>\n",
       "      <th>4</th>\n",
       "      <td>Q</td>\n",
       "      <td>2</td>\n",
       "      <td>12.350000</td>\n",
       "      <td>43.500000</td>\n",
       "    </tr>\n",
       "    <tr>\n",
       "      <th>5</th>\n",
       "      <td>Q</td>\n",
       "      <td>3</td>\n",
       "      <td>12.780904</td>\n",
       "      <td>25.937500</td>\n",
       "    </tr>\n",
       "    <tr>\n",
       "      <th>6</th>\n",
       "      <td>S</td>\n",
       "      <td>1</td>\n",
       "      <td>74.172415</td>\n",
       "      <td>38.152037</td>\n",
       "    </tr>\n",
       "    <tr>\n",
       "      <th>7</th>\n",
       "      <td>S</td>\n",
       "      <td>2</td>\n",
       "      <td>21.075000</td>\n",
       "      <td>30.386731</td>\n",
       "    </tr>\n",
       "    <tr>\n",
       "      <th>8</th>\n",
       "      <td>S</td>\n",
       "      <td>3</td>\n",
       "      <td>13.529451</td>\n",
       "      <td>25.696552</td>\n",
       "    </tr>\n",
       "  </tbody>\n",
       "</table>\n",
       "</div>"
      ],
      "text/plain": [
       "  Embarked  Pclass        Fare        Age\n",
       "0        C       1  108.246399  38.027027\n",
       "1        C       2   26.811947  22.766667\n",
       "2        C       3   11.369927  20.741951\n",
       "3        Q       1   90.000000  38.500000\n",
       "4        Q       2   12.350000  43.500000\n",
       "5        Q       3   12.780904  25.937500\n",
       "6        S       1   74.172415  38.152037\n",
       "7        S       2   21.075000  30.386731\n",
       "8        S       3   13.529451  25.696552"
      ]
     },
     "execution_count": 13,
     "metadata": {},
     "output_type": "execute_result"
    }
   ],
   "source": [
    "fare_age"
   ]
  },
  {
   "cell_type": "markdown",
   "metadata": {},
   "source": [
    "Or, alternatively, you can create the dataframe without the groupby columns as indices in the first place using the argument `as_index=False` inside `groupby()`."
   ]
  },
  {
   "cell_type": "code",
   "execution_count": 14,
   "metadata": {},
   "outputs": [
    {
     "data": {
      "text/html": [
       "<div>\n",
       "<style scoped>\n",
       "    .dataframe tbody tr th:only-of-type {\n",
       "        vertical-align: middle;\n",
       "    }\n",
       "\n",
       "    .dataframe tbody tr th {\n",
       "        vertical-align: top;\n",
       "    }\n",
       "\n",
       "    .dataframe thead th {\n",
       "        text-align: right;\n",
       "    }\n",
       "</style>\n",
       "<table border=\"1\" class=\"dataframe\">\n",
       "  <thead>\n",
       "    <tr style=\"text-align: right;\">\n",
       "      <th></th>\n",
       "      <th>Embarked</th>\n",
       "      <th>Pclass</th>\n",
       "      <th>Fare</th>\n",
       "      <th>Age</th>\n",
       "    </tr>\n",
       "  </thead>\n",
       "  <tbody>\n",
       "    <tr>\n",
       "      <th>0</th>\n",
       "      <td>C</td>\n",
       "      <td>1</td>\n",
       "      <td>108.246399</td>\n",
       "      <td>38.027027</td>\n",
       "    </tr>\n",
       "    <tr>\n",
       "      <th>1</th>\n",
       "      <td>C</td>\n",
       "      <td>2</td>\n",
       "      <td>26.811947</td>\n",
       "      <td>22.766667</td>\n",
       "    </tr>\n",
       "    <tr>\n",
       "      <th>2</th>\n",
       "      <td>C</td>\n",
       "      <td>3</td>\n",
       "      <td>11.369927</td>\n",
       "      <td>20.741951</td>\n",
       "    </tr>\n",
       "    <tr>\n",
       "      <th>3</th>\n",
       "      <td>Q</td>\n",
       "      <td>1</td>\n",
       "      <td>90.000000</td>\n",
       "      <td>38.500000</td>\n",
       "    </tr>\n",
       "    <tr>\n",
       "      <th>4</th>\n",
       "      <td>Q</td>\n",
       "      <td>2</td>\n",
       "      <td>12.350000</td>\n",
       "      <td>43.500000</td>\n",
       "    </tr>\n",
       "    <tr>\n",
       "      <th>5</th>\n",
       "      <td>Q</td>\n",
       "      <td>3</td>\n",
       "      <td>12.780904</td>\n",
       "      <td>25.937500</td>\n",
       "    </tr>\n",
       "    <tr>\n",
       "      <th>6</th>\n",
       "      <td>S</td>\n",
       "      <td>1</td>\n",
       "      <td>74.172415</td>\n",
       "      <td>38.152037</td>\n",
       "    </tr>\n",
       "    <tr>\n",
       "      <th>7</th>\n",
       "      <td>S</td>\n",
       "      <td>2</td>\n",
       "      <td>21.075000</td>\n",
       "      <td>30.386731</td>\n",
       "    </tr>\n",
       "    <tr>\n",
       "      <th>8</th>\n",
       "      <td>S</td>\n",
       "      <td>3</td>\n",
       "      <td>13.529451</td>\n",
       "      <td>25.696552</td>\n",
       "    </tr>\n",
       "  </tbody>\n",
       "</table>\n",
       "</div>"
      ],
      "text/plain": [
       "  Embarked  Pclass        Fare        Age\n",
       "0        C       1  108.246399  38.027027\n",
       "1        C       2   26.811947  22.766667\n",
       "2        C       3   11.369927  20.741951\n",
       "3        Q       1   90.000000  38.500000\n",
       "4        Q       2   12.350000  43.500000\n",
       "5        Q       3   12.780904  25.937500\n",
       "6        S       1   74.172415  38.152037\n",
       "7        S       2   21.075000  30.386731\n",
       "8        S       3   13.529451  25.696552"
      ]
     },
     "execution_count": 14,
     "metadata": {},
     "output_type": "execute_result"
    }
   ],
   "source": [
    "titanic.groupby(['Embarked', 'Pclass'], as_index=False)[['Fare', 'Age']].mean()"
   ]
  },
  {
   "cell_type": "markdown",
   "metadata": {},
   "source": [
    "### Find the mean of `Survived`, `Age`, and `Fare` grouped by `Sex` and then by `Pclass`.  Don't take the groupby variables as indices."
   ]
  },
  {
   "cell_type": "code",
   "execution_count": null,
   "metadata": {},
   "outputs": [],
   "source": []
  },
  {
   "cell_type": "markdown",
   "metadata": {},
   "source": [
    "### Applying your own functions to groups with `.apply()`\n",
    "\n",
    "---\n",
    "\n",
    "While pandas does contain a variety of useful built-in summary functions, it is common that you will need to apply a custom function to the data in your groups. \n",
    "\n",
    "The `.apply()` function takes a function as an argument and applies it to the subsets of data in your dataframe groups."
   ]
  },
  {
   "cell_type": "markdown",
   "metadata": {},
   "source": [
    "### See what happens when you replace the built-in `.mean()` function with  `.apply(np.mean)` for the question above."
   ]
  },
  {
   "cell_type": "code",
   "execution_count": 15,
   "metadata": {},
   "outputs": [
    {
     "data": {
      "text/html": [
       "<div>\n",
       "<style scoped>\n",
       "    .dataframe tbody tr th:only-of-type {\n",
       "        vertical-align: middle;\n",
       "    }\n",
       "\n",
       "    .dataframe tbody tr th {\n",
       "        vertical-align: top;\n",
       "    }\n",
       "\n",
       "    .dataframe thead th {\n",
       "        text-align: right;\n",
       "    }\n",
       "</style>\n",
       "<table border=\"1\" class=\"dataframe\">\n",
       "  <thead>\n",
       "    <tr style=\"text-align: right;\">\n",
       "      <th></th>\n",
       "      <th></th>\n",
       "      <th>Survived</th>\n",
       "      <th>Age</th>\n",
       "      <th>Fare</th>\n",
       "    </tr>\n",
       "    <tr>\n",
       "      <th>Sex</th>\n",
       "      <th>Pclass</th>\n",
       "      <th></th>\n",
       "      <th></th>\n",
       "      <th></th>\n",
       "    </tr>\n",
       "  </thead>\n",
       "  <tbody>\n",
       "    <tr>\n",
       "      <th rowspan=\"3\" valign=\"top\">female</th>\n",
       "      <th>1</th>\n",
       "      <td>0.963855</td>\n",
       "      <td>34.240964</td>\n",
       "      <td>108.619680</td>\n",
       "    </tr>\n",
       "    <tr>\n",
       "      <th>2</th>\n",
       "      <td>0.918919</td>\n",
       "      <td>28.722973</td>\n",
       "      <td>21.951070</td>\n",
       "    </tr>\n",
       "    <tr>\n",
       "      <th>3</th>\n",
       "      <td>0.460784</td>\n",
       "      <td>21.750000</td>\n",
       "      <td>15.875369</td>\n",
       "    </tr>\n",
       "    <tr>\n",
       "      <th rowspan=\"3\" valign=\"top\">male</th>\n",
       "      <th>1</th>\n",
       "      <td>0.396040</td>\n",
       "      <td>41.281386</td>\n",
       "      <td>71.142781</td>\n",
       "    </tr>\n",
       "    <tr>\n",
       "      <th>2</th>\n",
       "      <td>0.151515</td>\n",
       "      <td>30.740707</td>\n",
       "      <td>21.113131</td>\n",
       "    </tr>\n",
       "    <tr>\n",
       "      <th>3</th>\n",
       "      <td>0.150198</td>\n",
       "      <td>26.507589</td>\n",
       "      <td>12.162695</td>\n",
       "    </tr>\n",
       "  </tbody>\n",
       "</table>\n",
       "</div>"
      ],
      "text/plain": [
       "               Survived        Age        Fare\n",
       "Sex    Pclass                                 \n",
       "female 1       0.963855  34.240964  108.619680\n",
       "       2       0.918919  28.722973   21.951070\n",
       "       3       0.460784  21.750000   15.875369\n",
       "male   1       0.396040  41.281386   71.142781\n",
       "       2       0.151515  30.740707   21.113131\n",
       "       3       0.150198  26.507589   12.162695"
      ]
     },
     "execution_count": 15,
     "metadata": {},
     "output_type": "execute_result"
    }
   ],
   "source": [
    "titanic.groupby(['Sex','Pclass'])['Survived','Age','Fare'].apply(np.mean)"
   ]
  },
  {
   "cell_type": "markdown",
   "metadata": {},
   "source": [
    "Say we wanted to have the mean of fare and age per `Embarked` and `Pclass`, but we wanted the numbers to be rounded. One way to do this would be to round the columns after we had applied the mean function as we did above. \n",
    "\n",
    "Another way would be to write a custom function to pass into apply. *The function passed to `.apply()` will be run on all of the subsets of data.*"
   ]
  },
  {
   "cell_type": "markdown",
   "metadata": {},
   "source": [
    "### Write a function that will take the mean of columns in a dataset and round the values."
   ]
  },
  {
   "cell_type": "code",
   "execution_count": 16,
   "metadata": {},
   "outputs": [],
   "source": [
    "def mean_and_round(x, a=2):\n",
    "    mean = np.round(np.mean(x), a)\n",
    "    return mean"
   ]
  },
  {
   "cell_type": "markdown",
   "metadata": {},
   "source": [
    "### Apply your custom function to the grouped data."
   ]
  },
  {
   "cell_type": "code",
   "execution_count": 17,
   "metadata": {},
   "outputs": [],
   "source": [
    "rounded_fare_age = titanic.groupby(['Embarked', 'Pclass'])[\n",
    "    ['Fare', 'Age']].apply(mean_and_round, a=4)"
   ]
  },
  {
   "cell_type": "code",
   "execution_count": 18,
   "metadata": {},
   "outputs": [
    {
     "data": {
      "text/html": [
       "<div>\n",
       "<style scoped>\n",
       "    .dataframe tbody tr th:only-of-type {\n",
       "        vertical-align: middle;\n",
       "    }\n",
       "\n",
       "    .dataframe tbody tr th {\n",
       "        vertical-align: top;\n",
       "    }\n",
       "\n",
       "    .dataframe thead th {\n",
       "        text-align: right;\n",
       "    }\n",
       "</style>\n",
       "<table border=\"1\" class=\"dataframe\">\n",
       "  <thead>\n",
       "    <tr style=\"text-align: right;\">\n",
       "      <th></th>\n",
       "      <th></th>\n",
       "      <th>Fare</th>\n",
       "      <th>Age</th>\n",
       "    </tr>\n",
       "    <tr>\n",
       "      <th>Embarked</th>\n",
       "      <th>Pclass</th>\n",
       "      <th></th>\n",
       "      <th></th>\n",
       "    </tr>\n",
       "  </thead>\n",
       "  <tbody>\n",
       "    <tr>\n",
       "      <th rowspan=\"3\" valign=\"top\">C</th>\n",
       "      <th>1</th>\n",
       "      <td>108.2464</td>\n",
       "      <td>38.0270</td>\n",
       "    </tr>\n",
       "    <tr>\n",
       "      <th>2</th>\n",
       "      <td>26.8119</td>\n",
       "      <td>22.7667</td>\n",
       "    </tr>\n",
       "    <tr>\n",
       "      <th>3</th>\n",
       "      <td>11.3699</td>\n",
       "      <td>20.7420</td>\n",
       "    </tr>\n",
       "    <tr>\n",
       "      <th rowspan=\"3\" valign=\"top\">Q</th>\n",
       "      <th>1</th>\n",
       "      <td>90.0000</td>\n",
       "      <td>38.5000</td>\n",
       "    </tr>\n",
       "    <tr>\n",
       "      <th>2</th>\n",
       "      <td>12.3500</td>\n",
       "      <td>43.5000</td>\n",
       "    </tr>\n",
       "    <tr>\n",
       "      <th>3</th>\n",
       "      <td>12.7809</td>\n",
       "      <td>25.9375</td>\n",
       "    </tr>\n",
       "    <tr>\n",
       "      <th rowspan=\"3\" valign=\"top\">S</th>\n",
       "      <th>1</th>\n",
       "      <td>74.1724</td>\n",
       "      <td>38.1520</td>\n",
       "    </tr>\n",
       "    <tr>\n",
       "      <th>2</th>\n",
       "      <td>21.0750</td>\n",
       "      <td>30.3867</td>\n",
       "    </tr>\n",
       "    <tr>\n",
       "      <th>3</th>\n",
       "      <td>13.5295</td>\n",
       "      <td>25.6966</td>\n",
       "    </tr>\n",
       "  </tbody>\n",
       "</table>\n",
       "</div>"
      ],
      "text/plain": [
       "                     Fare      Age\n",
       "Embarked Pclass                   \n",
       "C        1       108.2464  38.0270\n",
       "         2        26.8119  22.7667\n",
       "         3        11.3699  20.7420\n",
       "Q        1        90.0000  38.5000\n",
       "         2        12.3500  43.5000\n",
       "         3        12.7809  25.9375\n",
       "S        1        74.1724  38.1520\n",
       "         2        21.0750  30.3867\n",
       "         3        13.5295  25.6966"
      ]
     },
     "execution_count": 18,
     "metadata": {},
     "output_type": "execute_result"
    }
   ],
   "source": [
    "rounded_fare_age"
   ]
  },
  {
   "cell_type": "markdown",
   "metadata": {},
   "source": [
    "Functions that are applied to a dataframe and return a dataframe can also be applied to *groups* of dataframes."
   ]
  },
  {
   "cell_type": "markdown",
   "metadata": {},
   "source": [
    "### For example, write a function that will return the subset of the titanic dataset with the top paying female passengers."
   ]
  },
  {
   "cell_type": "code",
   "execution_count": 19,
   "metadata": {},
   "outputs": [],
   "source": [
    "def top_n_females(df, n=5):\n",
    "    female_subset = df[df['Sex'] == 'female'].sort_values(\n",
    "        'Fare', ascending=False)\n",
    "    top_n_subset = female_subset[0:n]\n",
    "    return top_n_subset"
   ]
  },
  {
   "cell_type": "code",
   "execution_count": 20,
   "metadata": {},
   "outputs": [
    {
     "data": {
      "text/html": [
       "<div>\n",
       "<style scoped>\n",
       "    .dataframe tbody tr th:only-of-type {\n",
       "        vertical-align: middle;\n",
       "    }\n",
       "\n",
       "    .dataframe tbody tr th {\n",
       "        vertical-align: top;\n",
       "    }\n",
       "\n",
       "    .dataframe thead th {\n",
       "        text-align: right;\n",
       "    }\n",
       "</style>\n",
       "<table border=\"1\" class=\"dataframe\">\n",
       "  <thead>\n",
       "    <tr style=\"text-align: right;\">\n",
       "      <th></th>\n",
       "      <th>PassengerId</th>\n",
       "      <th>Survived</th>\n",
       "      <th>Pclass</th>\n",
       "      <th>Name</th>\n",
       "      <th>Sex</th>\n",
       "      <th>Age</th>\n",
       "      <th>SibSp</th>\n",
       "      <th>Parch</th>\n",
       "      <th>Fare</th>\n",
       "      <th>Embarked</th>\n",
       "    </tr>\n",
       "  </thead>\n",
       "  <tbody>\n",
       "    <tr>\n",
       "      <th>207</th>\n",
       "      <td>259</td>\n",
       "      <td>1</td>\n",
       "      <td>1</td>\n",
       "      <td>Ward, Miss. Anna</td>\n",
       "      <td>female</td>\n",
       "      <td>35.0</td>\n",
       "      <td>0</td>\n",
       "      <td>0</td>\n",
       "      <td>512.3292</td>\n",
       "      <td>C</td>\n",
       "    </tr>\n",
       "    <tr>\n",
       "      <th>66</th>\n",
       "      <td>89</td>\n",
       "      <td>1</td>\n",
       "      <td>1</td>\n",
       "      <td>Fortune, Miss. Mabel Helen</td>\n",
       "      <td>female</td>\n",
       "      <td>23.0</td>\n",
       "      <td>3</td>\n",
       "      <td>2</td>\n",
       "      <td>263.0000</td>\n",
       "      <td>S</td>\n",
       "    </tr>\n",
       "    <tr>\n",
       "      <th>273</th>\n",
       "      <td>342</td>\n",
       "      <td>1</td>\n",
       "      <td>1</td>\n",
       "      <td>Fortune, Miss. Alice Elizabeth</td>\n",
       "      <td>female</td>\n",
       "      <td>24.0</td>\n",
       "      <td>3</td>\n",
       "      <td>2</td>\n",
       "      <td>263.0000</td>\n",
       "      <td>S</td>\n",
       "    </tr>\n",
       "    <tr>\n",
       "      <th>247</th>\n",
       "      <td>312</td>\n",
       "      <td>1</td>\n",
       "      <td>1</td>\n",
       "      <td>Ryerson, Miss. Emily Borie</td>\n",
       "      <td>female</td>\n",
       "      <td>18.0</td>\n",
       "      <td>2</td>\n",
       "      <td>2</td>\n",
       "      <td>262.3750</td>\n",
       "      <td>C</td>\n",
       "    </tr>\n",
       "    <tr>\n",
       "      <th>588</th>\n",
       "      <td>743</td>\n",
       "      <td>1</td>\n",
       "      <td>1</td>\n",
       "      <td>Ryerson, Miss. Susan Parker \"Suzette\"</td>\n",
       "      <td>female</td>\n",
       "      <td>21.0</td>\n",
       "      <td>2</td>\n",
       "      <td>2</td>\n",
       "      <td>262.3750</td>\n",
       "      <td>C</td>\n",
       "    </tr>\n",
       "    <tr>\n",
       "      <th>240</th>\n",
       "      <td>300</td>\n",
       "      <td>1</td>\n",
       "      <td>1</td>\n",
       "      <td>Baxter, Mrs. James (Helene DeLaudeniere Chaput)</td>\n",
       "      <td>female</td>\n",
       "      <td>50.0</td>\n",
       "      <td>0</td>\n",
       "      <td>1</td>\n",
       "      <td>247.5208</td>\n",
       "      <td>C</td>\n",
       "    </tr>\n",
       "    <tr>\n",
       "      <th>568</th>\n",
       "      <td>717</td>\n",
       "      <td>1</td>\n",
       "      <td>1</td>\n",
       "      <td>Endres, Miss. Caroline Louise</td>\n",
       "      <td>female</td>\n",
       "      <td>38.0</td>\n",
       "      <td>0</td>\n",
       "      <td>0</td>\n",
       "      <td>227.5250</td>\n",
       "      <td>C</td>\n",
       "    </tr>\n",
       "    <tr>\n",
       "      <th>554</th>\n",
       "      <td>701</td>\n",
       "      <td>1</td>\n",
       "      <td>1</td>\n",
       "      <td>Astor, Mrs. John Jacob (Madeleine Talmadge Force)</td>\n",
       "      <td>female</td>\n",
       "      <td>18.0</td>\n",
       "      <td>1</td>\n",
       "      <td>0</td>\n",
       "      <td>227.5250</td>\n",
       "      <td>C</td>\n",
       "    </tr>\n",
       "    <tr>\n",
       "      <th>303</th>\n",
       "      <td>381</td>\n",
       "      <td>1</td>\n",
       "      <td>1</td>\n",
       "      <td>Bidois, Miss. Rosalie</td>\n",
       "      <td>female</td>\n",
       "      <td>42.0</td>\n",
       "      <td>0</td>\n",
       "      <td>0</td>\n",
       "      <td>227.5250</td>\n",
       "      <td>C</td>\n",
       "    </tr>\n",
       "    <tr>\n",
       "      <th>545</th>\n",
       "      <td>690</td>\n",
       "      <td>1</td>\n",
       "      <td>1</td>\n",
       "      <td>Madill, Miss. Georgette Alexandra</td>\n",
       "      <td>female</td>\n",
       "      <td>15.0</td>\n",
       "      <td>0</td>\n",
       "      <td>1</td>\n",
       "      <td>211.3375</td>\n",
       "      <td>S</td>\n",
       "    </tr>\n",
       "  </tbody>\n",
       "</table>\n",
       "</div>"
      ],
      "text/plain": [
       "     PassengerId  Survived  Pclass  \\\n",
       "207          259         1       1   \n",
       "66            89         1       1   \n",
       "273          342         1       1   \n",
       "247          312         1       1   \n",
       "588          743         1       1   \n",
       "240          300         1       1   \n",
       "568          717         1       1   \n",
       "554          701         1       1   \n",
       "303          381         1       1   \n",
       "545          690         1       1   \n",
       "\n",
       "                                                  Name     Sex   Age  SibSp  \\\n",
       "207                                   Ward, Miss. Anna  female  35.0      0   \n",
       "66                          Fortune, Miss. Mabel Helen  female  23.0      3   \n",
       "273                     Fortune, Miss. Alice Elizabeth  female  24.0      3   \n",
       "247                         Ryerson, Miss. Emily Borie  female  18.0      2   \n",
       "588              Ryerson, Miss. Susan Parker \"Suzette\"  female  21.0      2   \n",
       "240    Baxter, Mrs. James (Helene DeLaudeniere Chaput)  female  50.0      0   \n",
       "568                      Endres, Miss. Caroline Louise  female  38.0      0   \n",
       "554  Astor, Mrs. John Jacob (Madeleine Talmadge Force)  female  18.0      1   \n",
       "303                              Bidois, Miss. Rosalie  female  42.0      0   \n",
       "545                  Madill, Miss. Georgette Alexandra  female  15.0      0   \n",
       "\n",
       "     Parch      Fare Embarked  \n",
       "207      0  512.3292        C  \n",
       "66       2  263.0000        S  \n",
       "273      2  263.0000        S  \n",
       "247      2  262.3750        C  \n",
       "588      2  262.3750        C  \n",
       "240      1  247.5208        C  \n",
       "568      0  227.5250        C  \n",
       "554      0  227.5250        C  \n",
       "303      0  227.5250        C  \n",
       "545      1  211.3375        S  "
      ]
     },
     "execution_count": 20,
     "metadata": {},
     "output_type": "execute_result"
    }
   ],
   "source": [
    "top_n_females(titanic, n=10)"
   ]
  },
  {
   "cell_type": "markdown",
   "metadata": {},
   "source": [
    "### Group the titanic data by `Survived` and apply your function to extract the top paying females."
   ]
  },
  {
   "cell_type": "code",
   "execution_count": 21,
   "metadata": {},
   "outputs": [],
   "source": [
    "top_females_by_survival = titanic.groupby('Survived').apply(top_n_females, n=4)"
   ]
  },
  {
   "cell_type": "code",
   "execution_count": 22,
   "metadata": {},
   "outputs": [
    {
     "data": {
      "text/html": [
       "<div>\n",
       "<style scoped>\n",
       "    .dataframe tbody tr th:only-of-type {\n",
       "        vertical-align: middle;\n",
       "    }\n",
       "\n",
       "    .dataframe tbody tr th {\n",
       "        vertical-align: top;\n",
       "    }\n",
       "\n",
       "    .dataframe thead th {\n",
       "        text-align: right;\n",
       "    }\n",
       "</style>\n",
       "<table border=\"1\" class=\"dataframe\">\n",
       "  <thead>\n",
       "    <tr style=\"text-align: right;\">\n",
       "      <th></th>\n",
       "      <th></th>\n",
       "      <th>PassengerId</th>\n",
       "      <th>Survived</th>\n",
       "      <th>Pclass</th>\n",
       "      <th>Name</th>\n",
       "      <th>Sex</th>\n",
       "      <th>Age</th>\n",
       "      <th>SibSp</th>\n",
       "      <th>Parch</th>\n",
       "      <th>Fare</th>\n",
       "      <th>Embarked</th>\n",
       "    </tr>\n",
       "    <tr>\n",
       "      <th>Survived</th>\n",
       "      <th></th>\n",
       "      <th></th>\n",
       "      <th></th>\n",
       "      <th></th>\n",
       "      <th></th>\n",
       "      <th></th>\n",
       "      <th></th>\n",
       "      <th></th>\n",
       "      <th></th>\n",
       "      <th></th>\n",
       "      <th></th>\n",
       "    </tr>\n",
       "  </thead>\n",
       "  <tbody>\n",
       "    <tr>\n",
       "      <th rowspan=\"4\" valign=\"top\">0</th>\n",
       "      <th>395</th>\n",
       "      <td>499</td>\n",
       "      <td>0</td>\n",
       "      <td>1</td>\n",
       "      <td>Allison, Mrs. Hudson J C (Bessie Waldo Daniels)</td>\n",
       "      <td>female</td>\n",
       "      <td>25.0</td>\n",
       "      <td>1</td>\n",
       "      <td>2</td>\n",
       "      <td>151.5500</td>\n",
       "      <td>S</td>\n",
       "    </tr>\n",
       "    <tr>\n",
       "      <th>239</th>\n",
       "      <td>298</td>\n",
       "      <td>0</td>\n",
       "      <td>1</td>\n",
       "      <td>Allison, Miss. Helen Loraine</td>\n",
       "      <td>female</td>\n",
       "      <td>2.0</td>\n",
       "      <td>1</td>\n",
       "      <td>2</td>\n",
       "      <td>151.5500</td>\n",
       "      <td>S</td>\n",
       "    </tr>\n",
       "    <tr>\n",
       "      <th>535</th>\n",
       "      <td>679</td>\n",
       "      <td>0</td>\n",
       "      <td>3</td>\n",
       "      <td>Goodwin, Mrs. Frederick (Augusta Tyler)</td>\n",
       "      <td>female</td>\n",
       "      <td>43.0</td>\n",
       "      <td>1</td>\n",
       "      <td>6</td>\n",
       "      <td>46.9000</td>\n",
       "      <td>S</td>\n",
       "    </tr>\n",
       "    <tr>\n",
       "      <th>53</th>\n",
       "      <td>72</td>\n",
       "      <td>0</td>\n",
       "      <td>3</td>\n",
       "      <td>Goodwin, Miss. Lillian Amy</td>\n",
       "      <td>female</td>\n",
       "      <td>16.0</td>\n",
       "      <td>5</td>\n",
       "      <td>2</td>\n",
       "      <td>46.9000</td>\n",
       "      <td>S</td>\n",
       "    </tr>\n",
       "    <tr>\n",
       "      <th rowspan=\"4\" valign=\"top\">1</th>\n",
       "      <th>207</th>\n",
       "      <td>259</td>\n",
       "      <td>1</td>\n",
       "      <td>1</td>\n",
       "      <td>Ward, Miss. Anna</td>\n",
       "      <td>female</td>\n",
       "      <td>35.0</td>\n",
       "      <td>0</td>\n",
       "      <td>0</td>\n",
       "      <td>512.3292</td>\n",
       "      <td>C</td>\n",
       "    </tr>\n",
       "    <tr>\n",
       "      <th>273</th>\n",
       "      <td>342</td>\n",
       "      <td>1</td>\n",
       "      <td>1</td>\n",
       "      <td>Fortune, Miss. Alice Elizabeth</td>\n",
       "      <td>female</td>\n",
       "      <td>24.0</td>\n",
       "      <td>3</td>\n",
       "      <td>2</td>\n",
       "      <td>263.0000</td>\n",
       "      <td>S</td>\n",
       "    </tr>\n",
       "    <tr>\n",
       "      <th>66</th>\n",
       "      <td>89</td>\n",
       "      <td>1</td>\n",
       "      <td>1</td>\n",
       "      <td>Fortune, Miss. Mabel Helen</td>\n",
       "      <td>female</td>\n",
       "      <td>23.0</td>\n",
       "      <td>3</td>\n",
       "      <td>2</td>\n",
       "      <td>263.0000</td>\n",
       "      <td>S</td>\n",
       "    </tr>\n",
       "    <tr>\n",
       "      <th>247</th>\n",
       "      <td>312</td>\n",
       "      <td>1</td>\n",
       "      <td>1</td>\n",
       "      <td>Ryerson, Miss. Emily Borie</td>\n",
       "      <td>female</td>\n",
       "      <td>18.0</td>\n",
       "      <td>2</td>\n",
       "      <td>2</td>\n",
       "      <td>262.3750</td>\n",
       "      <td>C</td>\n",
       "    </tr>\n",
       "  </tbody>\n",
       "</table>\n",
       "</div>"
      ],
      "text/plain": [
       "              PassengerId  Survived  Pclass  \\\n",
       "Survived                                      \n",
       "0        395          499         0       1   \n",
       "         239          298         0       1   \n",
       "         535          679         0       3   \n",
       "         53            72         0       3   \n",
       "1        207          259         1       1   \n",
       "         273          342         1       1   \n",
       "         66            89         1       1   \n",
       "         247          312         1       1   \n",
       "\n",
       "                                                         Name     Sex   Age  \\\n",
       "Survived                                                                      \n",
       "0        395  Allison, Mrs. Hudson J C (Bessie Waldo Daniels)  female  25.0   \n",
       "         239                     Allison, Miss. Helen Loraine  female   2.0   \n",
       "         535          Goodwin, Mrs. Frederick (Augusta Tyler)  female  43.0   \n",
       "         53                        Goodwin, Miss. Lillian Amy  female  16.0   \n",
       "1        207                                 Ward, Miss. Anna  female  35.0   \n",
       "         273                   Fortune, Miss. Alice Elizabeth  female  24.0   \n",
       "         66                        Fortune, Miss. Mabel Helen  female  23.0   \n",
       "         247                       Ryerson, Miss. Emily Borie  female  18.0   \n",
       "\n",
       "              SibSp  Parch      Fare Embarked  \n",
       "Survived                                       \n",
       "0        395      1      2  151.5500        S  \n",
       "         239      1      2  151.5500        S  \n",
       "         535      1      6   46.9000        S  \n",
       "         53       5      2   46.9000        S  \n",
       "1        207      0      0  512.3292        C  \n",
       "         273      3      2  263.0000        S  \n",
       "         66       3      2  263.0000        S  \n",
       "         247      2      2  262.3750        C  "
      ]
     },
     "execution_count": 22,
     "metadata": {},
     "output_type": "execute_result"
    }
   ],
   "source": [
    "top_females_by_survival"
   ]
  },
  {
   "cell_type": "markdown",
   "metadata": {},
   "source": [
    "### Basic pandas plots with grouped data\n",
    "\n",
    "---\n",
    "\n",
    "We can leverage the power of pandas even more by mixing its plotting capabilities with its grouping capabilities."
   ]
  },
  {
   "cell_type": "markdown",
   "metadata": {},
   "source": [
    "### First find the number of passengers per `Pclass` by using `.groupby` and `.size`."
   ]
  },
  {
   "cell_type": "code",
   "execution_count": 23,
   "metadata": {},
   "outputs": [
    {
     "data": {
      "text/plain": [
       "Pclass\n",
       "1    184\n",
       "2    173\n",
       "3    355\n",
       "dtype: int64"
      ]
     },
     "execution_count": 23,
     "metadata": {},
     "output_type": "execute_result"
    }
   ],
   "source": [
    "titanic.groupby('Pclass').size()"
   ]
  },
  {
   "cell_type": "markdown",
   "metadata": {},
   "source": [
    "Here we have a series object with the counts of passengers per `Pclass` group. It is simple to get a plot of these counts by appending `.plot(kind=\"bar\", color=\"g\", width=0.85)`."
   ]
  },
  {
   "cell_type": "code",
   "execution_count": 24,
   "metadata": {},
   "outputs": [
    {
     "data": {
      "image/png": "[encoded data removed]",
      "text/plain": [
       "<Figure size 432x288 with 1 Axes>"
      ]
     },
     "metadata": {
      "image/png": {
       "height": 280,
       "width": 389
      },
      "needs_background": "light"
     },
     "output_type": "display_data"
    }
   ],
   "source": [
    "titanic.groupby('Pclass').size().plot(kind='bar', color='g', width=0.85)\n",
    "plt.xticks(rotation=0)\n",
    "plt.show()"
   ]
  },
  {
   "cell_type": "markdown",
   "metadata": {},
   "source": [
    "### Plot the average fare per `Sex` and `Pclass` as a bar chart."
   ]
  },
  {
   "cell_type": "code",
   "execution_count": 25,
   "metadata": {},
   "outputs": [
    {
     "data": {
      "image/png": "[encoded data removed]",
      "text/plain": [
       "<Figure size 432x288 with 1 Axes>"
      ]
     },
     "metadata": {
      "image/png": {
       "height": 331,
       "width": 389
      },
      "needs_background": "light"
     },
     "output_type": "display_data"
    }
   ],
   "source": [
    "titanic.groupby(['Sex', 'Pclass'])['Fare'].mean().plot(\n",
    "    kind='bar', color='r', width=0.85)\n",
    "plt.xticks(rotation=45)\n",
    "plt.show()"
   ]
  },
  {
   "cell_type": "markdown",
   "metadata": {},
   "source": [
    "## Grouped bar charts with pandas\n",
    "\n",
    "---\n",
    "\n",
    "In the chart we just made, each bar represents an aggregate for each group. This is fine, but it would be  an even more informative chart if we colored according to group membership."
   ]
  },
  {
   "cell_type": "markdown",
   "metadata": {},
   "source": [
    "### Calculate the mean of `Fare` by `Pclass` and `Sex` using `groupby`, assign it to a variable, and print it out."
   ]
  },
  {
   "cell_type": "code",
   "execution_count": 26,
   "metadata": {},
   "outputs": [],
   "source": [
    "fare_mean = titanic.groupby(['Pclass', 'Sex'])[['Fare']].mean()"
   ]
  },
  {
   "cell_type": "code",
   "execution_count": 27,
   "metadata": {},
   "outputs": [
    {
     "data": {
      "text/html": [
       "<div>\n",
       "<style scoped>\n",
       "    .dataframe tbody tr th:only-of-type {\n",
       "        vertical-align: middle;\n",
       "    }\n",
       "\n",
       "    .dataframe tbody tr th {\n",
       "        vertical-align: top;\n",
       "    }\n",
       "\n",
       "    .dataframe thead th {\n",
       "        text-align: right;\n",
       "    }\n",
       "</style>\n",
       "<table border=\"1\" class=\"dataframe\">\n",
       "  <thead>\n",
       "    <tr style=\"text-align: right;\">\n",
       "      <th></th>\n",
       "      <th></th>\n",
       "      <th>Fare</th>\n",
       "    </tr>\n",
       "    <tr>\n",
       "      <th>Pclass</th>\n",
       "      <th>Sex</th>\n",
       "      <th></th>\n",
       "    </tr>\n",
       "  </thead>\n",
       "  <tbody>\n",
       "    <tr>\n",
       "      <th rowspan=\"2\" valign=\"top\">1</th>\n",
       "      <th>female</th>\n",
       "      <td>108.619680</td>\n",
       "    </tr>\n",
       "    <tr>\n",
       "      <th>male</th>\n",
       "      <td>71.142781</td>\n",
       "    </tr>\n",
       "    <tr>\n",
       "      <th rowspan=\"2\" valign=\"top\">2</th>\n",
       "      <th>female</th>\n",
       "      <td>21.951070</td>\n",
       "    </tr>\n",
       "    <tr>\n",
       "      <th>male</th>\n",
       "      <td>21.113131</td>\n",
       "    </tr>\n",
       "    <tr>\n",
       "      <th rowspan=\"2\" valign=\"top\">3</th>\n",
       "      <th>female</th>\n",
       "      <td>15.875369</td>\n",
       "    </tr>\n",
       "    <tr>\n",
       "      <th>male</th>\n",
       "      <td>12.162695</td>\n",
       "    </tr>\n",
       "  </tbody>\n",
       "</table>\n",
       "</div>"
      ],
      "text/plain": [
       "                     Fare\n",
       "Pclass Sex               \n",
       "1      female  108.619680\n",
       "       male     71.142781\n",
       "2      female   21.951070\n",
       "       male     21.113131\n",
       "3      female   15.875369\n",
       "       male     12.162695"
      ]
     },
     "execution_count": 27,
     "metadata": {},
     "output_type": "execute_result"
    }
   ],
   "source": [
    "fare_mean"
   ]
  },
  {
   "cell_type": "markdown",
   "metadata": {},
   "source": [
    "There is another built-in function for pandas objects called `.unstack()`. When we have a hierarchical index like we do above with `Pclass` as the broader category and `Sex` as the sub-category, the `.unstack()` command will attempt to move the subcategory from an index to column representation."
   ]
  },
  {
   "cell_type": "markdown",
   "metadata": {},
   "source": [
    "### Use the `.unstack()` function on your mean fare variable."
   ]
  },
  {
   "cell_type": "code",
   "execution_count": 28,
   "metadata": {},
   "outputs": [
    {
     "data": {
      "text/html": [
       "<div>\n",
       "<style scoped>\n",
       "    .dataframe tbody tr th:only-of-type {\n",
       "        vertical-align: middle;\n",
       "    }\n",
       "\n",
       "    .dataframe tbody tr th {\n",
       "        vertical-align: top;\n",
       "    }\n",
       "\n",
       "    .dataframe thead tr th {\n",
       "        text-align: left;\n",
       "    }\n",
       "\n",
       "    .dataframe thead tr:last-of-type th {\n",
       "        text-align: right;\n",
       "    }\n",
       "</style>\n",
       "<table border=\"1\" class=\"dataframe\">\n",
       "  <thead>\n",
       "    <tr>\n",
       "      <th></th>\n",
       "      <th colspan=\"2\" halign=\"left\">Fare</th>\n",
       "    </tr>\n",
       "    <tr>\n",
       "      <th>Sex</th>\n",
       "      <th>female</th>\n",
       "      <th>male</th>\n",
       "    </tr>\n",
       "    <tr>\n",
       "      <th>Pclass</th>\n",
       "      <th></th>\n",
       "      <th></th>\n",
       "    </tr>\n",
       "  </thead>\n",
       "  <tbody>\n",
       "    <tr>\n",
       "      <th>1</th>\n",
       "      <td>108.619680</td>\n",
       "      <td>71.142781</td>\n",
       "    </tr>\n",
       "    <tr>\n",
       "      <th>2</th>\n",
       "      <td>21.951070</td>\n",
       "      <td>21.113131</td>\n",
       "    </tr>\n",
       "    <tr>\n",
       "      <th>3</th>\n",
       "      <td>15.875369</td>\n",
       "      <td>12.162695</td>\n",
       "    </tr>\n",
       "  </tbody>\n",
       "</table>\n",
       "</div>"
      ],
      "text/plain": [
       "              Fare           \n",
       "Sex         female       male\n",
       "Pclass                       \n",
       "1       108.619680  71.142781\n",
       "2        21.951070  21.113131\n",
       "3        15.875369  12.162695"
      ]
     },
     "execution_count": 28,
     "metadata": {},
     "output_type": "execute_result"
    }
   ],
   "source": [
    "fare_mean.unstack()"
   ]
  },
  {
   "cell_type": "markdown",
   "metadata": {},
   "source": [
    "### Now use the plot function on the unstacked data to create a bar chart."
   ]
  },
  {
   "cell_type": "code",
   "execution_count": 29,
   "metadata": {},
   "outputs": [
    {
     "data": {
      "image/png": "[encoded data removed]",
      "text/plain": [
       "<Figure size 432x288 with 1 Axes>"
      ]
     },
     "metadata": {
      "image/png": {
       "height": 280,
       "width": 389
      },
      "needs_background": "light"
     },
     "output_type": "display_data"
    }
   ],
   "source": [
    "fare_mean.unstack().plot(kind='bar', width=0.6)\n",
    "plt.legend(['Female', 'Male'])\n",
    "plt.xticks(rotation=0)\n",
    "plt.show()"
   ]
  },
  {
   "cell_type": "markdown",
   "metadata": {},
   "source": [
    "If you add the keyword variable `stacked=True`, it will stack the bars within the broader `Pclass` category."
   ]
  },
  {
   "cell_type": "code",
   "execution_count": 30,
   "metadata": {},
   "outputs": [
    {
     "data": {
      "image/png": "[encoded data removed]",
      "text/plain": [
       "<Figure size 432x288 with 1 Axes>"
      ]
     },
     "metadata": {
      "image/png": {
       "height": 280,
       "width": 389
      },
      "needs_background": "light"
     },
     "output_type": "display_data"
    }
   ],
   "source": [
    "fare_mean.unstack().plot(kind='bar', width=0.6, stacked=True)\n",
    "plt.legend(['Female', 'Male'])\n",
    "plt.xticks(rotation=0)\n",
    "plt.show()"
   ]
  },
  {
   "cell_type": "markdown",
   "metadata": {},
   "source": [
    "### Using .agg( ) \n",
    "\n",
    "---\n",
    "\n",
    "You can use `.agg()` on a groupby object to get different functions for different columns.\n",
    "\n",
    "You want to create a dictionary with key-value pairs which look like `column_name:[list of functions]`\n",
    "\n",
    "Many functions are built into Pandas and can be accessed by a string.\n",
    "\n",
    "You can also put in lambda functions or functions that you defined elsewhere!\n",
    "\n",
    "Or, instead of passing `.agg()` a dictionary, you can just pass it a list in which case it will apply every function in that list to each column you included in the groupby output."
   ]
  },
  {
   "cell_type": "code",
   "execution_count": 31,
   "metadata": {},
   "outputs": [
    {
     "data": {
      "text/plain": [
       "0.6521739130434783"
      ]
     },
     "execution_count": 31,
     "metadata": {},
     "output_type": "execute_result"
    }
   ],
   "source": [
    "titanic[titanic.Pclass==1]['Survived'].mean()"
   ]
  },
  {
   "cell_type": "code",
   "execution_count": 32,
   "metadata": {},
   "outputs": [
    {
     "data": {
      "text/plain": [
       "1    0.652174\n",
       "0    0.347826\n",
       "Name: Survived, dtype: float64"
      ]
     },
     "execution_count": 32,
     "metadata": {},
     "output_type": "execute_result"
    }
   ],
   "source": [
    "titanic[titanic.Pclass==1].Survived.value_counts(normalize=True)"
   ]
  },
  {
   "cell_type": "code",
   "execution_count": 33,
   "metadata": {},
   "outputs": [
    {
     "data": {
      "text/html": [
       "<div>\n",
       "<style scoped>\n",
       "    .dataframe tbody tr th:only-of-type {\n",
       "        vertical-align: middle;\n",
       "    }\n",
       "\n",
       "    .dataframe tbody tr th {\n",
       "        vertical-align: top;\n",
       "    }\n",
       "\n",
       "    .dataframe thead tr th {\n",
       "        text-align: left;\n",
       "    }\n",
       "\n",
       "    .dataframe thead tr:last-of-type th {\n",
       "        text-align: right;\n",
       "    }\n",
       "</style>\n",
       "<table border=\"1\" class=\"dataframe\">\n",
       "  <thead>\n",
       "    <tr>\n",
       "      <th></th>\n",
       "      <th>Survived</th>\n",
       "      <th colspan=\"4\" halign=\"left\">Age</th>\n",
       "      <th colspan=\"2\" halign=\"left\">SibSp</th>\n",
       "      <th colspan=\"2\" halign=\"left\">Fare</th>\n",
       "    </tr>\n",
       "    <tr>\n",
       "      <th></th>\n",
       "      <th>mean</th>\n",
       "      <th>mean</th>\n",
       "      <th>median</th>\n",
       "      <th>count</th>\n",
       "      <th>std</th>\n",
       "      <th>&lt;lambda&gt;</th>\n",
       "      <th>mean</th>\n",
       "      <th>mean</th>\n",
       "      <th>money_conversion_mean</th>\n",
       "    </tr>\n",
       "    <tr>\n",
       "      <th>Pclass</th>\n",
       "      <th></th>\n",
       "      <th></th>\n",
       "      <th></th>\n",
       "      <th></th>\n",
       "      <th></th>\n",
       "      <th></th>\n",
       "      <th></th>\n",
       "      <th></th>\n",
       "      <th></th>\n",
       "    </tr>\n",
       "  </thead>\n",
       "  <tbody>\n",
       "    <tr>\n",
       "      <th>1</th>\n",
       "      <td>0.652174</td>\n",
       "      <td>38.105543</td>\n",
       "      <td>37.0</td>\n",
       "      <td>184</td>\n",
       "      <td>14.778904</td>\n",
       "      <td>0.456522</td>\n",
       "      <td>0.456522</td>\n",
       "      <td>88.048121</td>\n",
       "      <td>36.686717</td>\n",
       "    </tr>\n",
       "    <tr>\n",
       "      <th>2</th>\n",
       "      <td>0.479769</td>\n",
       "      <td>29.877630</td>\n",
       "      <td>29.0</td>\n",
       "      <td>173</td>\n",
       "      <td>14.001077</td>\n",
       "      <td>0.427746</td>\n",
       "      <td>0.427746</td>\n",
       "      <td>21.471556</td>\n",
       "      <td>8.946482</td>\n",
       "    </tr>\n",
       "    <tr>\n",
       "      <th>3</th>\n",
       "      <td>0.239437</td>\n",
       "      <td>25.140620</td>\n",
       "      <td>24.0</td>\n",
       "      <td>355</td>\n",
       "      <td>12.495398</td>\n",
       "      <td>0.585915</td>\n",
       "      <td>0.585915</td>\n",
       "      <td>13.229435</td>\n",
       "      <td>5.512265</td>\n",
       "    </tr>\n",
       "  </tbody>\n",
       "</table>\n",
       "</div>"
      ],
      "text/plain": [
       "        Survived        Age                             SibSp            \\\n",
       "            mean       mean median count        std  <lambda>      mean   \n",
       "Pclass                                                                    \n",
       "1       0.652174  38.105543   37.0   184  14.778904  0.456522  0.456522   \n",
       "2       0.479769  29.877630   29.0   173  14.001077  0.427746  0.427746   \n",
       "3       0.239437  25.140620   24.0   355  12.495398  0.585915  0.585915   \n",
       "\n",
       "             Fare                        \n",
       "             mean money_conversion_mean  \n",
       "Pclass                                   \n",
       "1       88.048121             36.686717  \n",
       "2       21.471556              8.946482  \n",
       "3       13.229435              5.512265  "
      ]
     },
     "execution_count": 33,
     "metadata": {},
     "output_type": "execute_result"
    }
   ],
   "source": [
    "# convert according to made-up conversion, then find mean\n",
    "def money_conversion_mean(x):\n",
    "    converted = x/12 * 5\n",
    "    return np.mean(converted)\n",
    "\n",
    "\n",
    "titanic.groupby('Pclass').agg({'Survived': 'mean',\n",
    "                               'Age': ['mean', 'median', 'count', 'std'],\n",
    "                               'SibSp': [lambda x: np.mean(x), np.mean],\n",
    "                               'Fare': ['mean', money_conversion_mean]})"
   ]
  },
  {
   "cell_type": "code",
   "execution_count": 34,
   "metadata": {},
   "outputs": [
    {
     "data": {
      "text/html": [
       "<div>\n",
       "<style scoped>\n",
       "    .dataframe tbody tr th:only-of-type {\n",
       "        vertical-align: middle;\n",
       "    }\n",
       "\n",
       "    .dataframe tbody tr th {\n",
       "        vertical-align: top;\n",
       "    }\n",
       "\n",
       "    .dataframe thead tr th {\n",
       "        text-align: left;\n",
       "    }\n",
       "\n",
       "    .dataframe thead tr:last-of-type th {\n",
       "        text-align: right;\n",
       "    }\n",
       "</style>\n",
       "<table border=\"1\" class=\"dataframe\">\n",
       "  <thead>\n",
       "    <tr>\n",
       "      <th></th>\n",
       "      <th></th>\n",
       "      <th colspan=\"3\" halign=\"left\">Survived</th>\n",
       "      <th colspan=\"3\" halign=\"left\">Age</th>\n",
       "      <th colspan=\"3\" halign=\"left\">Fare</th>\n",
       "    </tr>\n",
       "    <tr>\n",
       "      <th></th>\n",
       "      <th></th>\n",
       "      <th>mean</th>\n",
       "      <th>median</th>\n",
       "      <th>std</th>\n",
       "      <th>mean</th>\n",
       "      <th>median</th>\n",
       "      <th>std</th>\n",
       "      <th>mean</th>\n",
       "      <th>median</th>\n",
       "      <th>std</th>\n",
       "    </tr>\n",
       "    <tr>\n",
       "      <th>Sex</th>\n",
       "      <th>Pclass</th>\n",
       "      <th></th>\n",
       "      <th></th>\n",
       "      <th></th>\n",
       "      <th></th>\n",
       "      <th></th>\n",
       "      <th></th>\n",
       "      <th></th>\n",
       "      <th></th>\n",
       "      <th></th>\n",
       "    </tr>\n",
       "  </thead>\n",
       "  <tbody>\n",
       "    <tr>\n",
       "      <th rowspan=\"3\" valign=\"top\">female</th>\n",
       "      <th>1</th>\n",
       "      <td>0.963855</td>\n",
       "      <td>1</td>\n",
       "      <td>0.187784</td>\n",
       "      <td>34.240964</td>\n",
       "      <td>35.0</td>\n",
       "      <td>13.430572</td>\n",
       "      <td>108.619680</td>\n",
       "      <td>83.15830</td>\n",
       "      <td>77.968328</td>\n",
       "    </tr>\n",
       "    <tr>\n",
       "      <th>2</th>\n",
       "      <td>0.918919</td>\n",
       "      <td>1</td>\n",
       "      <td>0.274823</td>\n",
       "      <td>28.722973</td>\n",
       "      <td>28.0</td>\n",
       "      <td>12.872702</td>\n",
       "      <td>21.951070</td>\n",
       "      <td>22.00000</td>\n",
       "      <td>10.906269</td>\n",
       "    </tr>\n",
       "    <tr>\n",
       "      <th>3</th>\n",
       "      <td>0.460784</td>\n",
       "      <td>0</td>\n",
       "      <td>0.500921</td>\n",
       "      <td>21.750000</td>\n",
       "      <td>21.5</td>\n",
       "      <td>12.729964</td>\n",
       "      <td>15.875369</td>\n",
       "      <td>12.94585</td>\n",
       "      <td>9.358306</td>\n",
       "    </tr>\n",
       "    <tr>\n",
       "      <th rowspan=\"3\" valign=\"top\">male</th>\n",
       "      <th>1</th>\n",
       "      <td>0.396040</td>\n",
       "      <td>0</td>\n",
       "      <td>0.491512</td>\n",
       "      <td>41.281386</td>\n",
       "      <td>40.0</td>\n",
       "      <td>15.139570</td>\n",
       "      <td>71.142781</td>\n",
       "      <td>52.00000</td>\n",
       "      <td>80.430599</td>\n",
       "    </tr>\n",
       "    <tr>\n",
       "      <th>2</th>\n",
       "      <td>0.151515</td>\n",
       "      <td>0</td>\n",
       "      <td>0.360375</td>\n",
       "      <td>30.740707</td>\n",
       "      <td>30.0</td>\n",
       "      <td>14.793894</td>\n",
       "      <td>21.113131</td>\n",
       "      <td>13.00000</td>\n",
       "      <td>14.707829</td>\n",
       "    </tr>\n",
       "    <tr>\n",
       "      <th>3</th>\n",
       "      <td>0.150198</td>\n",
       "      <td>0</td>\n",
       "      <td>0.357973</td>\n",
       "      <td>26.507589</td>\n",
       "      <td>25.0</td>\n",
       "      <td>12.159514</td>\n",
       "      <td>12.162695</td>\n",
       "      <td>7.92500</td>\n",
       "      <td>10.129882</td>\n",
       "    </tr>\n",
       "  </tbody>\n",
       "</table>\n",
       "</div>"
      ],
      "text/plain": [
       "               Survived                         Age                    \\\n",
       "                   mean median       std       mean median        std   \n",
       "Sex    Pclass                                                           \n",
       "female 1       0.963855      1  0.187784  34.240964   35.0  13.430572   \n",
       "       2       0.918919      1  0.274823  28.722973   28.0  12.872702   \n",
       "       3       0.460784      0  0.500921  21.750000   21.5  12.729964   \n",
       "male   1       0.396040      0  0.491512  41.281386   40.0  15.139570   \n",
       "       2       0.151515      0  0.360375  30.740707   30.0  14.793894   \n",
       "       3       0.150198      0  0.357973  26.507589   25.0  12.159514   \n",
       "\n",
       "                     Fare                       \n",
       "                     mean    median        std  \n",
       "Sex    Pclass                                   \n",
       "female 1       108.619680  83.15830  77.968328  \n",
       "       2        21.951070  22.00000  10.906269  \n",
       "       3        15.875369  12.94585   9.358306  \n",
       "male   1        71.142781  52.00000  80.430599  \n",
       "       2        21.113131  13.00000  14.707829  \n",
       "       3        12.162695   7.92500  10.129882  "
      ]
     },
     "execution_count": 34,
     "metadata": {},
     "output_type": "execute_result"
    }
   ],
   "source": [
    "grouped_agg = titanic.groupby(['Sex', 'Pclass'])[\n",
    "    ['Survived', 'Age', 'Fare']].agg(['mean', 'median', 'std'])\n",
    "grouped_agg"
   ]
  },
  {
   "cell_type": "markdown",
   "metadata": {},
   "source": [
    "### Explore the multi-index and the multi-column names.\n",
    "\n",
    "Use the `.index` and the `.columns` attributes."
   ]
  },
  {
   "cell_type": "code",
   "execution_count": 35,
   "metadata": {},
   "outputs": [
    {
     "data": {
      "text/plain": [
       "MultiIndex(levels=[['female', 'male'], [1, 2, 3]],\n",
       "           codes=[[0, 0, 0, 1, 1, 1], [0, 1, 2, 0, 1, 2]],\n",
       "           names=['Sex', 'Pclass'])"
      ]
     },
     "execution_count": 35,
     "metadata": {},
     "output_type": "execute_result"
    }
   ],
   "source": [
    "grouped_agg.index"
   ]
  },
  {
   "cell_type": "code",
   "execution_count": 36,
   "metadata": {},
   "outputs": [
    {
     "data": {
      "text/plain": [
       "MultiIndex(levels=[['Survived', 'Age', 'Fare'], ['mean', 'median', 'std']],\n",
       "           codes=[[0, 0, 0, 1, 1, 1, 2, 2, 2], [0, 1, 2, 0, 1, 2, 0, 1, 2]])"
      ]
     },
     "execution_count": 36,
     "metadata": {},
     "output_type": "execute_result"
    }
   ],
   "source": [
    "grouped_agg.columns"
   ]
  },
  {
   "cell_type": "markdown",
   "metadata": {},
   "source": [
    "#### A save way to extract what you want"
   ]
  },
  {
   "cell_type": "code",
   "execution_count": 37,
   "metadata": {},
   "outputs": [
    {
     "data": {
      "text/html": [
       "<div>\n",
       "<style scoped>\n",
       "    .dataframe tbody tr th:only-of-type {\n",
       "        vertical-align: middle;\n",
       "    }\n",
       "\n",
       "    .dataframe tbody tr th {\n",
       "        vertical-align: top;\n",
       "    }\n",
       "\n",
       "    .dataframe thead tr th {\n",
       "        text-align: left;\n",
       "    }\n",
       "\n",
       "    .dataframe thead tr:last-of-type th {\n",
       "        text-align: right;\n",
       "    }\n",
       "</style>\n",
       "<table border=\"1\" class=\"dataframe\">\n",
       "  <thead>\n",
       "    <tr>\n",
       "      <th></th>\n",
       "      <th></th>\n",
       "      <th colspan=\"3\" halign=\"left\">Survived</th>\n",
       "      <th colspan=\"3\" halign=\"left\">Age</th>\n",
       "      <th colspan=\"3\" halign=\"left\">Fare</th>\n",
       "    </tr>\n",
       "    <tr>\n",
       "      <th></th>\n",
       "      <th></th>\n",
       "      <th>mean</th>\n",
       "      <th>median</th>\n",
       "      <th>std</th>\n",
       "      <th>mean</th>\n",
       "      <th>median</th>\n",
       "      <th>std</th>\n",
       "      <th>mean</th>\n",
       "      <th>median</th>\n",
       "      <th>std</th>\n",
       "    </tr>\n",
       "    <tr>\n",
       "      <th>Sex</th>\n",
       "      <th>Pclass</th>\n",
       "      <th></th>\n",
       "      <th></th>\n",
       "      <th></th>\n",
       "      <th></th>\n",
       "      <th></th>\n",
       "      <th></th>\n",
       "      <th></th>\n",
       "      <th></th>\n",
       "      <th></th>\n",
       "    </tr>\n",
       "  </thead>\n",
       "  <tbody>\n",
       "    <tr>\n",
       "      <th rowspan=\"3\" valign=\"top\">female</th>\n",
       "      <th>1</th>\n",
       "      <td>0.963855</td>\n",
       "      <td>1</td>\n",
       "      <td>0.187784</td>\n",
       "      <td>34.240964</td>\n",
       "      <td>35.0</td>\n",
       "      <td>13.430572</td>\n",
       "      <td>108.619680</td>\n",
       "      <td>83.15830</td>\n",
       "      <td>77.968328</td>\n",
       "    </tr>\n",
       "    <tr>\n",
       "      <th>2</th>\n",
       "      <td>0.918919</td>\n",
       "      <td>1</td>\n",
       "      <td>0.274823</td>\n",
       "      <td>28.722973</td>\n",
       "      <td>28.0</td>\n",
       "      <td>12.872702</td>\n",
       "      <td>21.951070</td>\n",
       "      <td>22.00000</td>\n",
       "      <td>10.906269</td>\n",
       "    </tr>\n",
       "    <tr>\n",
       "      <th>3</th>\n",
       "      <td>0.460784</td>\n",
       "      <td>0</td>\n",
       "      <td>0.500921</td>\n",
       "      <td>21.750000</td>\n",
       "      <td>21.5</td>\n",
       "      <td>12.729964</td>\n",
       "      <td>15.875369</td>\n",
       "      <td>12.94585</td>\n",
       "      <td>9.358306</td>\n",
       "    </tr>\n",
       "    <tr>\n",
       "      <th rowspan=\"3\" valign=\"top\">male</th>\n",
       "      <th>1</th>\n",
       "      <td>0.396040</td>\n",
       "      <td>0</td>\n",
       "      <td>0.491512</td>\n",
       "      <td>41.281386</td>\n",
       "      <td>40.0</td>\n",
       "      <td>15.139570</td>\n",
       "      <td>71.142781</td>\n",
       "      <td>52.00000</td>\n",
       "      <td>80.430599</td>\n",
       "    </tr>\n",
       "    <tr>\n",
       "      <th>2</th>\n",
       "      <td>0.151515</td>\n",
       "      <td>0</td>\n",
       "      <td>0.360375</td>\n",
       "      <td>30.740707</td>\n",
       "      <td>30.0</td>\n",
       "      <td>14.793894</td>\n",
       "      <td>21.113131</td>\n",
       "      <td>13.00000</td>\n",
       "      <td>14.707829</td>\n",
       "    </tr>\n",
       "    <tr>\n",
       "      <th>3</th>\n",
       "      <td>0.150198</td>\n",
       "      <td>0</td>\n",
       "      <td>0.357973</td>\n",
       "      <td>26.507589</td>\n",
       "      <td>25.0</td>\n",
       "      <td>12.159514</td>\n",
       "      <td>12.162695</td>\n",
       "      <td>7.92500</td>\n",
       "      <td>10.129882</td>\n",
       "    </tr>\n",
       "  </tbody>\n",
       "</table>\n",
       "</div>"
      ],
      "text/plain": [
       "               Survived                         Age                    \\\n",
       "                   mean median       std       mean median        std   \n",
       "Sex    Pclass                                                           \n",
       "female 1       0.963855      1  0.187784  34.240964   35.0  13.430572   \n",
       "       2       0.918919      1  0.274823  28.722973   28.0  12.872702   \n",
       "       3       0.460784      0  0.500921  21.750000   21.5  12.729964   \n",
       "male   1       0.396040      0  0.491512  41.281386   40.0  15.139570   \n",
       "       2       0.151515      0  0.360375  30.740707   30.0  14.793894   \n",
       "       3       0.150198      0  0.357973  26.507589   25.0  12.159514   \n",
       "\n",
       "                     Fare                       \n",
       "                     mean    median        std  \n",
       "Sex    Pclass                                   \n",
       "female 1       108.619680  83.15830  77.968328  \n",
       "       2        21.951070  22.00000  10.906269  \n",
       "       3        15.875369  12.94585   9.358306  \n",
       "male   1        71.142781  52.00000  80.430599  \n",
       "       2        21.113131  13.00000  14.707829  \n",
       "       3        12.162695   7.92500  10.129882  "
      ]
     },
     "execution_count": 37,
     "metadata": {},
     "output_type": "execute_result"
    }
   ],
   "source": [
    "grouped_agg"
   ]
  },
  {
   "cell_type": "code",
   "execution_count": 38,
   "metadata": {},
   "outputs": [
    {
     "data": {
      "text/plain": [
       "array([ True,  True,  True, False, False, False])"
      ]
     },
     "execution_count": 38,
     "metadata": {},
     "output_type": "execute_result"
    }
   ],
   "source": [
    "grouped_agg.index.get_level_values(0) == 'female'"
   ]
  },
  {
   "cell_type": "code",
   "execution_count": 39,
   "metadata": {},
   "outputs": [
    {
     "data": {
      "text/html": [
       "<div>\n",
       "<style scoped>\n",
       "    .dataframe tbody tr th:only-of-type {\n",
       "        vertical-align: middle;\n",
       "    }\n",
       "\n",
       "    .dataframe tbody tr th {\n",
       "        vertical-align: top;\n",
       "    }\n",
       "\n",
       "    .dataframe thead tr th {\n",
       "        text-align: left;\n",
       "    }\n",
       "\n",
       "    .dataframe thead tr:last-of-type th {\n",
       "        text-align: right;\n",
       "    }\n",
       "</style>\n",
       "<table border=\"1\" class=\"dataframe\">\n",
       "  <thead>\n",
       "    <tr>\n",
       "      <th></th>\n",
       "      <th></th>\n",
       "      <th>Survived</th>\n",
       "    </tr>\n",
       "    <tr>\n",
       "      <th></th>\n",
       "      <th></th>\n",
       "      <th>mean</th>\n",
       "    </tr>\n",
       "    <tr>\n",
       "      <th>Sex</th>\n",
       "      <th>Pclass</th>\n",
       "      <th></th>\n",
       "    </tr>\n",
       "  </thead>\n",
       "  <tbody>\n",
       "    <tr>\n",
       "      <th rowspan=\"3\" valign=\"top\">female</th>\n",
       "      <th>1</th>\n",
       "      <td>0.963855</td>\n",
       "    </tr>\n",
       "    <tr>\n",
       "      <th>2</th>\n",
       "      <td>0.918919</td>\n",
       "    </tr>\n",
       "    <tr>\n",
       "      <th>3</th>\n",
       "      <td>0.460784</td>\n",
       "    </tr>\n",
       "  </tbody>\n",
       "</table>\n",
       "</div>"
      ],
      "text/plain": [
       "               Survived\n",
       "                   mean\n",
       "Sex    Pclass          \n",
       "female 1       0.963855\n",
       "       2       0.918919\n",
       "       3       0.460784"
      ]
     },
     "execution_count": 39,
     "metadata": {},
     "output_type": "execute_result"
    }
   ],
   "source": [
    "grouped_agg.loc[grouped_agg.index.get_level_values(0) == 'female',\n",
    "                (grouped_agg.columns.get_level_values(0) == 'Survived')\n",
    "                & (grouped_agg.columns.get_level_values(1) == 'mean')]"
   ]
  },
  {
   "cell_type": "markdown",
   "metadata": {},
   "source": [
    "#### Making use of the multi-index"
   ]
  },
  {
   "cell_type": "markdown",
   "metadata": {},
   "source": [
    "With `iloc` we can refer to row and column positions.\n"
   ]
  },
  {
   "cell_type": "code",
   "execution_count": 40,
   "metadata": {},
   "outputs": [
    {
     "data": {
      "text/html": [
       "<div>\n",
       "<style scoped>\n",
       "    .dataframe tbody tr th:only-of-type {\n",
       "        vertical-align: middle;\n",
       "    }\n",
       "\n",
       "    .dataframe tbody tr th {\n",
       "        vertical-align: top;\n",
       "    }\n",
       "\n",
       "    .dataframe thead tr th {\n",
       "        text-align: left;\n",
       "    }\n",
       "\n",
       "    .dataframe thead tr:last-of-type th {\n",
       "        text-align: right;\n",
       "    }\n",
       "</style>\n",
       "<table border=\"1\" class=\"dataframe\">\n",
       "  <thead>\n",
       "    <tr>\n",
       "      <th></th>\n",
       "      <th></th>\n",
       "      <th colspan=\"2\" halign=\"left\">Age</th>\n",
       "    </tr>\n",
       "    <tr>\n",
       "      <th></th>\n",
       "      <th></th>\n",
       "      <th>median</th>\n",
       "      <th>std</th>\n",
       "    </tr>\n",
       "    <tr>\n",
       "      <th>Sex</th>\n",
       "      <th>Pclass</th>\n",
       "      <th></th>\n",
       "      <th></th>\n",
       "    </tr>\n",
       "  </thead>\n",
       "  <tbody>\n",
       "    <tr>\n",
       "      <th rowspan=\"3\" valign=\"top\">male</th>\n",
       "      <th>1</th>\n",
       "      <td>40.0</td>\n",
       "      <td>15.139570</td>\n",
       "    </tr>\n",
       "    <tr>\n",
       "      <th>2</th>\n",
       "      <td>30.0</td>\n",
       "      <td>14.793894</td>\n",
       "    </tr>\n",
       "    <tr>\n",
       "      <th>3</th>\n",
       "      <td>25.0</td>\n",
       "      <td>12.159514</td>\n",
       "    </tr>\n",
       "  </tbody>\n",
       "</table>\n",
       "</div>"
      ],
      "text/plain": [
       "               Age           \n",
       "            median        std\n",
       "Sex  Pclass                  \n",
       "male 1        40.0  15.139570\n",
       "     2        30.0  14.793894\n",
       "     3        25.0  12.159514"
      ]
     },
     "execution_count": 40,
     "metadata": {},
     "output_type": "execute_result"
    }
   ],
   "source": [
    "grouped_agg.iloc[3:6, 4:6]"
   ]
  },
  {
   "cell_type": "markdown",
   "metadata": {},
   "source": [
    "With `loc` we can slice with names indicating the different levels and using `pd.IndexSlice`."
   ]
  },
  {
   "cell_type": "code",
   "execution_count": 41,
   "metadata": {},
   "outputs": [],
   "source": [
    "idx = pd.IndexSlice"
   ]
  },
  {
   "cell_type": "code",
   "execution_count": 42,
   "metadata": {},
   "outputs": [
    {
     "data": {
      "text/html": [
       "<div>\n",
       "<style scoped>\n",
       "    .dataframe tbody tr th:only-of-type {\n",
       "        vertical-align: middle;\n",
       "    }\n",
       "\n",
       "    .dataframe tbody tr th {\n",
       "        vertical-align: top;\n",
       "    }\n",
       "\n",
       "    .dataframe thead tr th {\n",
       "        text-align: left;\n",
       "    }\n",
       "\n",
       "    .dataframe thead tr:last-of-type th {\n",
       "        text-align: right;\n",
       "    }\n",
       "</style>\n",
       "<table border=\"1\" class=\"dataframe\">\n",
       "  <thead>\n",
       "    <tr>\n",
       "      <th></th>\n",
       "      <th></th>\n",
       "      <th colspan=\"2\" halign=\"left\">Age</th>\n",
       "    </tr>\n",
       "    <tr>\n",
       "      <th></th>\n",
       "      <th></th>\n",
       "      <th>mean</th>\n",
       "      <th>median</th>\n",
       "    </tr>\n",
       "    <tr>\n",
       "      <th>Sex</th>\n",
       "      <th>Pclass</th>\n",
       "      <th></th>\n",
       "      <th></th>\n",
       "    </tr>\n",
       "  </thead>\n",
       "  <tbody>\n",
       "    <tr>\n",
       "      <th rowspan=\"2\" valign=\"top\">female</th>\n",
       "      <th>1</th>\n",
       "      <td>34.240964</td>\n",
       "      <td>35.0</td>\n",
       "    </tr>\n",
       "    <tr>\n",
       "      <th>2</th>\n",
       "      <td>28.722973</td>\n",
       "      <td>28.0</td>\n",
       "    </tr>\n",
       "  </tbody>\n",
       "</table>\n",
       "</div>"
      ],
      "text/plain": [
       "                     Age       \n",
       "                    mean median\n",
       "Sex    Pclass                  \n",
       "female 1       34.240964   35.0\n",
       "       2       28.722973   28.0"
      ]
     },
     "execution_count": 42,
     "metadata": {},
     "output_type": "execute_result"
    }
   ],
   "source": [
    "grouped_agg.loc[idx['female', :2], idx['Age', :'median']]"
   ]
  },
  {
   "cell_type": "code",
   "execution_count": 43,
   "metadata": {},
   "outputs": [
    {
     "data": {
      "text/html": [
       "<div>\n",
       "<style scoped>\n",
       "    .dataframe tbody tr th:only-of-type {\n",
       "        vertical-align: middle;\n",
       "    }\n",
       "\n",
       "    .dataframe tbody tr th {\n",
       "        vertical-align: top;\n",
       "    }\n",
       "\n",
       "    .dataframe thead tr th {\n",
       "        text-align: left;\n",
       "    }\n",
       "\n",
       "    .dataframe thead tr:last-of-type th {\n",
       "        text-align: right;\n",
       "    }\n",
       "</style>\n",
       "<table border=\"1\" class=\"dataframe\">\n",
       "  <thead>\n",
       "    <tr>\n",
       "      <th></th>\n",
       "      <th></th>\n",
       "      <th colspan=\"2\" halign=\"left\">Age</th>\n",
       "    </tr>\n",
       "    <tr>\n",
       "      <th></th>\n",
       "      <th></th>\n",
       "      <th>mean</th>\n",
       "      <th>std</th>\n",
       "    </tr>\n",
       "    <tr>\n",
       "      <th>Sex</th>\n",
       "      <th>Pclass</th>\n",
       "      <th></th>\n",
       "      <th></th>\n",
       "    </tr>\n",
       "  </thead>\n",
       "  <tbody>\n",
       "    <tr>\n",
       "      <th rowspan=\"2\" valign=\"top\">female</th>\n",
       "      <th>1</th>\n",
       "      <td>34.240964</td>\n",
       "      <td>13.430572</td>\n",
       "    </tr>\n",
       "    <tr>\n",
       "      <th>2</th>\n",
       "      <td>28.722973</td>\n",
       "      <td>12.872702</td>\n",
       "    </tr>\n",
       "  </tbody>\n",
       "</table>\n",
       "</div>"
      ],
      "text/plain": [
       "                     Age           \n",
       "                    mean        std\n",
       "Sex    Pclass                      \n",
       "female 1       34.240964  13.430572\n",
       "       2       28.722973  12.872702"
      ]
     },
     "execution_count": 43,
     "metadata": {},
     "output_type": "execute_result"
    }
   ],
   "source": [
    "grouped_agg.loc[idx['female', :2], idx['Age', ['mean','std']]]"
   ]
  },
  {
   "cell_type": "markdown",
   "metadata": {},
   "source": [
    "#### Reset the index"
   ]
  },
  {
   "cell_type": "code",
   "execution_count": 44,
   "metadata": {},
   "outputs": [
    {
     "data": {
      "text/html": [
       "<div>\n",
       "<style scoped>\n",
       "    .dataframe tbody tr th:only-of-type {\n",
       "        vertical-align: middle;\n",
       "    }\n",
       "\n",
       "    .dataframe tbody tr th {\n",
       "        vertical-align: top;\n",
       "    }\n",
       "\n",
       "    .dataframe thead th {\n",
       "        text-align: right;\n",
       "    }\n",
       "</style>\n",
       "<table border=\"1\" class=\"dataframe\">\n",
       "  <thead>\n",
       "    <tr style=\"text-align: right;\">\n",
       "      <th></th>\n",
       "      <th>0</th>\n",
       "      <th>1</th>\n",
       "      <th>2</th>\n",
       "      <th>3</th>\n",
       "      <th>4</th>\n",
       "      <th>5</th>\n",
       "      <th>6</th>\n",
       "      <th>7</th>\n",
       "      <th>8</th>\n",
       "      <th>9</th>\n",
       "      <th>10</th>\n",
       "    </tr>\n",
       "  </thead>\n",
       "  <tbody>\n",
       "    <tr>\n",
       "      <th>level_0</th>\n",
       "      <td>Sex</td>\n",
       "      <td>Pclass</td>\n",
       "      <td>Survived</td>\n",
       "      <td>Survived</td>\n",
       "      <td>Survived</td>\n",
       "      <td>Age</td>\n",
       "      <td>Age</td>\n",
       "      <td>Age</td>\n",
       "      <td>Fare</td>\n",
       "      <td>Fare</td>\n",
       "      <td>Fare</td>\n",
       "    </tr>\n",
       "    <tr>\n",
       "      <th>level_1</th>\n",
       "      <td></td>\n",
       "      <td></td>\n",
       "      <td>mean</td>\n",
       "      <td>median</td>\n",
       "      <td>std</td>\n",
       "      <td>mean</td>\n",
       "      <td>median</td>\n",
       "      <td>std</td>\n",
       "      <td>mean</td>\n",
       "      <td>median</td>\n",
       "      <td>std</td>\n",
       "    </tr>\n",
       "    <tr>\n",
       "      <th>0</th>\n",
       "      <td>female</td>\n",
       "      <td>1</td>\n",
       "      <td>0.963855</td>\n",
       "      <td>1</td>\n",
       "      <td>0.187784</td>\n",
       "      <td>34.241</td>\n",
       "      <td>35</td>\n",
       "      <td>13.4306</td>\n",
       "      <td>108.62</td>\n",
       "      <td>83.1583</td>\n",
       "      <td>77.9683</td>\n",
       "    </tr>\n",
       "    <tr>\n",
       "      <th>1</th>\n",
       "      <td>female</td>\n",
       "      <td>2</td>\n",
       "      <td>0.918919</td>\n",
       "      <td>1</td>\n",
       "      <td>0.274823</td>\n",
       "      <td>28.723</td>\n",
       "      <td>28</td>\n",
       "      <td>12.8727</td>\n",
       "      <td>21.9511</td>\n",
       "      <td>22</td>\n",
       "      <td>10.9063</td>\n",
       "    </tr>\n",
       "    <tr>\n",
       "      <th>2</th>\n",
       "      <td>female</td>\n",
       "      <td>3</td>\n",
       "      <td>0.460784</td>\n",
       "      <td>0</td>\n",
       "      <td>0.500921</td>\n",
       "      <td>21.75</td>\n",
       "      <td>21.5</td>\n",
       "      <td>12.73</td>\n",
       "      <td>15.8754</td>\n",
       "      <td>12.9459</td>\n",
       "      <td>9.35831</td>\n",
       "    </tr>\n",
       "    <tr>\n",
       "      <th>3</th>\n",
       "      <td>male</td>\n",
       "      <td>1</td>\n",
       "      <td>0.39604</td>\n",
       "      <td>0</td>\n",
       "      <td>0.491512</td>\n",
       "      <td>41.2814</td>\n",
       "      <td>40</td>\n",
       "      <td>15.1396</td>\n",
       "      <td>71.1428</td>\n",
       "      <td>52</td>\n",
       "      <td>80.4306</td>\n",
       "    </tr>\n",
       "    <tr>\n",
       "      <th>4</th>\n",
       "      <td>male</td>\n",
       "      <td>2</td>\n",
       "      <td>0.151515</td>\n",
       "      <td>0</td>\n",
       "      <td>0.360375</td>\n",
       "      <td>30.7407</td>\n",
       "      <td>30</td>\n",
       "      <td>14.7939</td>\n",
       "      <td>21.1131</td>\n",
       "      <td>13</td>\n",
       "      <td>14.7078</td>\n",
       "    </tr>\n",
       "    <tr>\n",
       "      <th>5</th>\n",
       "      <td>male</td>\n",
       "      <td>3</td>\n",
       "      <td>0.150198</td>\n",
       "      <td>0</td>\n",
       "      <td>0.357973</td>\n",
       "      <td>26.5076</td>\n",
       "      <td>25</td>\n",
       "      <td>12.1595</td>\n",
       "      <td>12.1627</td>\n",
       "      <td>7.925</td>\n",
       "      <td>10.1299</td>\n",
       "    </tr>\n",
       "  </tbody>\n",
       "</table>\n",
       "</div>"
      ],
      "text/plain": [
       "             0       1         2         3         4        5       6   \\\n",
       "level_0     Sex  Pclass  Survived  Survived  Survived      Age     Age   \n",
       "level_1                      mean    median       std     mean  median   \n",
       "0        female       1  0.963855         1  0.187784   34.241      35   \n",
       "1        female       2  0.918919         1  0.274823   28.723      28   \n",
       "2        female       3  0.460784         0  0.500921    21.75    21.5   \n",
       "3          male       1   0.39604         0  0.491512  41.2814      40   \n",
       "4          male       2  0.151515         0  0.360375  30.7407      30   \n",
       "5          male       3  0.150198         0  0.357973  26.5076      25   \n",
       "\n",
       "              7        8        9        10  \n",
       "level_0      Age     Fare     Fare     Fare  \n",
       "level_1      std     mean   median      std  \n",
       "0        13.4306   108.62  83.1583  77.9683  \n",
       "1        12.8727  21.9511       22  10.9063  \n",
       "2          12.73  15.8754  12.9459  9.35831  \n",
       "3        15.1396  71.1428       52  80.4306  \n",
       "4        14.7939  21.1131       13  14.7078  \n",
       "5        12.1595  12.1627    7.925  10.1299  "
      ]
     },
     "execution_count": 44,
     "metadata": {},
     "output_type": "execute_result"
    }
   ],
   "source": [
    "grouped_agg.reset_index().T.reset_index().T"
   ]
  },
  {
   "cell_type": "code",
   "execution_count": 45,
   "metadata": {},
   "outputs": [
    {
     "data": {
      "text/html": [
       "<div>\n",
       "<style scoped>\n",
       "    .dataframe tbody tr th:only-of-type {\n",
       "        vertical-align: middle;\n",
       "    }\n",
       "\n",
       "    .dataframe tbody tr th {\n",
       "        vertical-align: top;\n",
       "    }\n",
       "\n",
       "    .dataframe thead th {\n",
       "        text-align: right;\n",
       "    }\n",
       "</style>\n",
       "<table border=\"1\" class=\"dataframe\">\n",
       "  <thead>\n",
       "    <tr style=\"text-align: right;\">\n",
       "      <th></th>\n",
       "      <th>Sex</th>\n",
       "      <th>Pclass</th>\n",
       "      <th>0</th>\n",
       "      <th>1</th>\n",
       "      <th>2</th>\n",
       "      <th>3</th>\n",
       "      <th>4</th>\n",
       "      <th>5</th>\n",
       "      <th>6</th>\n",
       "      <th>7</th>\n",
       "      <th>8</th>\n",
       "    </tr>\n",
       "  </thead>\n",
       "  <tbody>\n",
       "    <tr>\n",
       "      <th>0</th>\n",
       "      <td>level_0</td>\n",
       "      <td></td>\n",
       "      <td>Survived</td>\n",
       "      <td>Survived</td>\n",
       "      <td>Survived</td>\n",
       "      <td>Age</td>\n",
       "      <td>Age</td>\n",
       "      <td>Age</td>\n",
       "      <td>Fare</td>\n",
       "      <td>Fare</td>\n",
       "      <td>Fare</td>\n",
       "    </tr>\n",
       "    <tr>\n",
       "      <th>1</th>\n",
       "      <td>level_1</td>\n",
       "      <td></td>\n",
       "      <td>mean</td>\n",
       "      <td>median</td>\n",
       "      <td>std</td>\n",
       "      <td>mean</td>\n",
       "      <td>median</td>\n",
       "      <td>std</td>\n",
       "      <td>mean</td>\n",
       "      <td>median</td>\n",
       "      <td>std</td>\n",
       "    </tr>\n",
       "    <tr>\n",
       "      <th>2</th>\n",
       "      <td>female</td>\n",
       "      <td>1</td>\n",
       "      <td>0.963855</td>\n",
       "      <td>1</td>\n",
       "      <td>0.187784</td>\n",
       "      <td>34.241</td>\n",
       "      <td>35</td>\n",
       "      <td>13.4306</td>\n",
       "      <td>108.62</td>\n",
       "      <td>83.1583</td>\n",
       "      <td>77.9683</td>\n",
       "    </tr>\n",
       "    <tr>\n",
       "      <th>3</th>\n",
       "      <td>female</td>\n",
       "      <td>2</td>\n",
       "      <td>0.918919</td>\n",
       "      <td>1</td>\n",
       "      <td>0.274823</td>\n",
       "      <td>28.723</td>\n",
       "      <td>28</td>\n",
       "      <td>12.8727</td>\n",
       "      <td>21.9511</td>\n",
       "      <td>22</td>\n",
       "      <td>10.9063</td>\n",
       "    </tr>\n",
       "    <tr>\n",
       "      <th>4</th>\n",
       "      <td>female</td>\n",
       "      <td>3</td>\n",
       "      <td>0.460784</td>\n",
       "      <td>0</td>\n",
       "      <td>0.500921</td>\n",
       "      <td>21.75</td>\n",
       "      <td>21.5</td>\n",
       "      <td>12.73</td>\n",
       "      <td>15.8754</td>\n",
       "      <td>12.9459</td>\n",
       "      <td>9.35831</td>\n",
       "    </tr>\n",
       "    <tr>\n",
       "      <th>5</th>\n",
       "      <td>male</td>\n",
       "      <td>1</td>\n",
       "      <td>0.39604</td>\n",
       "      <td>0</td>\n",
       "      <td>0.491512</td>\n",
       "      <td>41.2814</td>\n",
       "      <td>40</td>\n",
       "      <td>15.1396</td>\n",
       "      <td>71.1428</td>\n",
       "      <td>52</td>\n",
       "      <td>80.4306</td>\n",
       "    </tr>\n",
       "    <tr>\n",
       "      <th>6</th>\n",
       "      <td>male</td>\n",
       "      <td>2</td>\n",
       "      <td>0.151515</td>\n",
       "      <td>0</td>\n",
       "      <td>0.360375</td>\n",
       "      <td>30.7407</td>\n",
       "      <td>30</td>\n",
       "      <td>14.7939</td>\n",
       "      <td>21.1131</td>\n",
       "      <td>13</td>\n",
       "      <td>14.7078</td>\n",
       "    </tr>\n",
       "    <tr>\n",
       "      <th>7</th>\n",
       "      <td>male</td>\n",
       "      <td>3</td>\n",
       "      <td>0.150198</td>\n",
       "      <td>0</td>\n",
       "      <td>0.357973</td>\n",
       "      <td>26.5076</td>\n",
       "      <td>25</td>\n",
       "      <td>12.1595</td>\n",
       "      <td>12.1627</td>\n",
       "      <td>7.925</td>\n",
       "      <td>10.1299</td>\n",
       "    </tr>\n",
       "  </tbody>\n",
       "</table>\n",
       "</div>"
      ],
      "text/plain": [
       "       Sex Pclass         0         1         2        3       4        5  \\\n",
       "0  level_0         Survived  Survived  Survived      Age     Age      Age   \n",
       "1  level_1             mean    median       std     mean  median      std   \n",
       "2   female      1  0.963855         1  0.187784   34.241      35  13.4306   \n",
       "3   female      2  0.918919         1  0.274823   28.723      28  12.8727   \n",
       "4   female      3  0.460784         0  0.500921    21.75    21.5    12.73   \n",
       "5     male      1   0.39604         0  0.491512  41.2814      40  15.1396   \n",
       "6     male      2  0.151515         0  0.360375  30.7407      30  14.7939   \n",
       "7     male      3  0.150198         0  0.357973  26.5076      25  12.1595   \n",
       "\n",
       "         6        7        8  \n",
       "0     Fare     Fare     Fare  \n",
       "1     mean   median      std  \n",
       "2   108.62  83.1583  77.9683  \n",
       "3  21.9511       22  10.9063  \n",
       "4  15.8754  12.9459  9.35831  \n",
       "5  71.1428       52  80.4306  \n",
       "6  21.1131       13  14.7078  \n",
       "7  12.1627    7.925  10.1299  "
      ]
     },
     "execution_count": 45,
     "metadata": {},
     "output_type": "execute_result"
    }
   ],
   "source": [
    "grouped_agg_flat = grouped_agg.T.reset_index().T.reset_index()\n",
    "grouped_agg_flat"
   ]
  },
  {
   "cell_type": "code",
   "execution_count": 46,
   "metadata": {},
   "outputs": [
    {
     "data": {
      "text/html": [
       "<div>\n",
       "<style scoped>\n",
       "    .dataframe tbody tr th:only-of-type {\n",
       "        vertical-align: middle;\n",
       "    }\n",
       "\n",
       "    .dataframe tbody tr th {\n",
       "        vertical-align: top;\n",
       "    }\n",
       "\n",
       "    .dataframe thead th {\n",
       "        text-align: right;\n",
       "    }\n",
       "</style>\n",
       "<table border=\"1\" class=\"dataframe\">\n",
       "  <thead>\n",
       "    <tr style=\"text-align: right;\">\n",
       "      <th></th>\n",
       "      <th>0</th>\n",
       "      <th>1</th>\n",
       "      <th>2</th>\n",
       "    </tr>\n",
       "  </thead>\n",
       "  <tbody>\n",
       "    <tr>\n",
       "      <th>2</th>\n",
       "      <td>0.963855</td>\n",
       "      <td>1</td>\n",
       "      <td>0.187784</td>\n",
       "    </tr>\n",
       "    <tr>\n",
       "      <th>3</th>\n",
       "      <td>0.918919</td>\n",
       "      <td>1</td>\n",
       "      <td>0.274823</td>\n",
       "    </tr>\n",
       "    <tr>\n",
       "      <th>4</th>\n",
       "      <td>0.460784</td>\n",
       "      <td>0</td>\n",
       "      <td>0.500921</td>\n",
       "    </tr>\n",
       "  </tbody>\n",
       "</table>\n",
       "</div>"
      ],
      "text/plain": [
       "          0  1         2\n",
       "2  0.963855  1  0.187784\n",
       "3  0.918919  1  0.274823\n",
       "4  0.460784  0  0.500921"
      ]
     },
     "execution_count": 46,
     "metadata": {},
     "output_type": "execute_result"
    }
   ],
   "source": [
    "grouped_agg_flat.loc[(grouped_agg_flat.Sex == 'female'),\n",
    "                     grouped_agg_flat.iloc[0] == 'Survived']"
   ]
  },
  {
   "cell_type": "markdown",
   "metadata": {},
   "source": [
    "### Independent practice with grouping\n",
    "\n",
    "---\n",
    "\n",
    "Now that you've covered the basics of grouping, applying functions and aggregating data, and pandas plotting with grouped data, [open up the practice notebook and explore the UFO sightings data!](PRACTICE/practice-pandas-grouping-starter-code.ipynb)"
   ]
  },
  {
   "cell_type": "code",
   "execution_count": null,
   "metadata": {},
   "outputs": [],
   "source": []
  },
  {
   "cell_type": "code",
   "execution_count": null,
   "metadata": {},
   "outputs": [],
   "source": []
  },
  {
   "cell_type": "code",
   "execution_count": null,
   "metadata": {},
   "outputs": [],
   "source": []
  },
  {
   "cell_type": "code",
   "execution_count": null,
   "metadata": {},
   "outputs": [],
   "source": []
  },
  {
   "cell_type": "code",
   "execution_count": null,
   "metadata": {},
   "outputs": [],
   "source": []
  },
  {
   "cell_type": "code",
   "execution_count": null,
   "metadata": {},
   "outputs": [],
   "source": []
  },
  {
   "cell_type": "code",
   "execution_count": null,
   "metadata": {},
   "outputs": [],
   "source": []
  },
  {
   "cell_type": "code",
   "execution_count": null,
   "metadata": {},
   "outputs": [],
   "source": []
  },
  {
   "cell_type": "code",
   "execution_count": null,
   "metadata": {},
   "outputs": [],
   "source": []
  },
  {
   "cell_type": "code",
   "execution_count": null,
   "metadata": {},
   "outputs": [],
   "source": []
  }
 ],
 "metadata": {
  "kernelspec": {
   "display_name": "Python 3",
   "language": "python",
   "name": "python3"
  },
  "language_info": {
   "codemirror_mode": {
    "name": "ipython",
    "version": 3
   },
   "file_extension": ".py",
   "mimetype": "text/x-python",
   "name": "python",
   "nbconvert_exporter": "python",
   "pygments_lexer": "ipython3",
   "version": "3.7.3"
  },
  "toc": {
   "base_numbering": 1,
   "nav_menu": {},
   "number_sections": false,
   "sideBar": true,
   "skip_h1_title": false,
   "title_cell": "Lesson Guide",
   "title_sidebar": "Contents",
   "toc_cell": true,
   "toc_position": {},
   "toc_section_display": "block",
   "toc_window_display": false
  },
  "varInspector": {
   "cols": {
    "lenName": 16,
    "lenType": 16,
    "lenVar": 40
   },
   "kernels_config": {
    "python": {
     "delete_cmd_postfix": "",
     "delete_cmd_prefix": "del ",
     "library": "var_list.py",
     "varRefreshCmd": "print(var_dic_list())"
    },
    "r": {
     "delete_cmd_postfix": ") ",
     "delete_cmd_prefix": "rm(",
     "library": "var_list.r",
     "varRefreshCmd": "cat(var_dic_list()) "
    }
   },
   "types_to_exclude": [
    "module",
    "function",
    "builtin_function_or_method",
    "instance",
    "_Feature"
   ],
   "window_display": false
  }
 },
 "nbformat": 4,
 "nbformat_minor": 2
}
