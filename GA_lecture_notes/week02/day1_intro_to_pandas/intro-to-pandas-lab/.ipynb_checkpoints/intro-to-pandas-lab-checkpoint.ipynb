{
 "cells": [
  {
   "cell_type": "markdown",
   "metadata": {},
   "source": [
    "<img src=\"http://imgur.com/1ZcRyrc.png\" style=\"float: left; margin: 20px; height: 55px\">\n",
    "\n",
    "## Intro to `pandas` Lab\n",
    "___"
   ]
  },
  {
   "cell_type": "code",
   "execution_count": 5,
   "metadata": {},
   "outputs": [],
   "source": [
    "import pandas as pd\n",
    "import numpy as np\n",
    "import matplotlib.pyplot as plt\n",
    "import seaborn as sns\n",
    "sns.set(font_scale=1.5)\n",
    "\n",
    "%config InlineBackend.figure_format = 'retina'\n",
    "%matplotlib inline"
   ]
  },
  {
   "cell_type": "markdown",
   "metadata": {},
   "source": [
    "### A. Explore _Mad Men_ Cast Data\n",
    "\n",
    "---\n",
    "\n",
    "#### 1. Load the _Mad Men_ cast data into a `pandas` DataFrame."
   ]
  },
  {
   "cell_type": "code",
   "execution_count": 6,
   "metadata": {},
   "outputs": [],
   "source": [
    "cast_data_csv = '../../../../resource-datasets/mad_men_actors/mad-men-cast-show-data.csv'"
   ]
  },
  {
   "cell_type": "code",
   "execution_count": 7,
   "metadata": {},
   "outputs": [],
   "source": [
    "cast = pd.read_csv(cast_data_csv, encoding='latin-1')"
   ]
  },
  {
   "cell_type": "markdown",
   "metadata": {},
   "source": [
    "#### 2. Print the head and tail of the data."
   ]
  },
  {
   "cell_type": "code",
   "execution_count": 14,
   "metadata": {
    "scrolled": true
   },
   "outputs": [
    {
     "data": {
      "text/html": [
       "<div>\n",
       "<style scoped>\n",
       "    .dataframe tbody tr th:only-of-type {\n",
       "        vertical-align: middle;\n",
       "    }\n",
       "\n",
       "    .dataframe tbody tr th {\n",
       "        vertical-align: top;\n",
       "    }\n",
       "\n",
       "    .dataframe thead th {\n",
       "        text-align: right;\n",
       "    }\n",
       "</style>\n",
       "<table border=\"1\" class=\"dataframe\">\n",
       "  <thead>\n",
       "    <tr style=\"text-align: right;\">\n",
       "      <th></th>\n",
       "      <th>Performer</th>\n",
       "      <th>Show</th>\n",
       "      <th>Show Start</th>\n",
       "      <th>Show End</th>\n",
       "      <th>Status?</th>\n",
       "      <th>CharEnd</th>\n",
       "      <th>Years Since</th>\n",
       "      <th>#LEAD</th>\n",
       "      <th>#SUPPORT</th>\n",
       "      <th>#Shows</th>\n",
       "      <th>Score</th>\n",
       "      <th>Score/Y</th>\n",
       "      <th>lead_notes</th>\n",
       "      <th>support_notes</th>\n",
       "      <th>show_notes</th>\n",
       "    </tr>\n",
       "  </thead>\n",
       "  <tbody>\n",
       "    <tr>\n",
       "      <th>0</th>\n",
       "      <td>Steven Hill</td>\n",
       "      <td>Law &amp; Order</td>\n",
       "      <td>1990</td>\n",
       "      <td>2010</td>\n",
       "      <td>END</td>\n",
       "      <td>2000</td>\n",
       "      <td>15</td>\n",
       "      <td>0</td>\n",
       "      <td>0</td>\n",
       "      <td>0</td>\n",
       "      <td>0.00</td>\n",
       "      <td>0</td>\n",
       "      <td>NaN</td>\n",
       "      <td>NaN</td>\n",
       "      <td>NaN</td>\n",
       "    </tr>\n",
       "    <tr>\n",
       "      <th>1</th>\n",
       "      <td>Kelli Williams</td>\n",
       "      <td>The Practice</td>\n",
       "      <td>1997</td>\n",
       "      <td>2014</td>\n",
       "      <td>END</td>\n",
       "      <td>2003</td>\n",
       "      <td>12</td>\n",
       "      <td>0</td>\n",
       "      <td>1</td>\n",
       "      <td>6</td>\n",
       "      <td>6.25</td>\n",
       "      <td>0.520833333</td>\n",
       "      <td>NaN</td>\n",
       "      <td>Any Day Now (2012)</td>\n",
       "      <td>Medical Investigation, Season 1; Lie To Me, Se...</td>\n",
       "    </tr>\n",
       "    <tr>\n",
       "      <th>2</th>\n",
       "      <td>LisaGay Hamilton</td>\n",
       "      <td>The Practice</td>\n",
       "      <td>1997</td>\n",
       "      <td>2014</td>\n",
       "      <td>END</td>\n",
       "      <td>2003</td>\n",
       "      <td>12</td>\n",
       "      <td>2</td>\n",
       "      <td>0</td>\n",
       "      <td>2</td>\n",
       "      <td>4.00</td>\n",
       "      <td>0.333333333</td>\n",
       "      <td>Life of a King, 2014; Go For Sisters, 2013</td>\n",
       "      <td>NaN</td>\n",
       "      <td>Men of a Certain Age, Season 1-2</td>\n",
       "    </tr>\n",
       "    <tr>\n",
       "      <th>3</th>\n",
       "      <td>Lara Flynn Boyle</td>\n",
       "      <td>The Practice</td>\n",
       "      <td>1997</td>\n",
       "      <td>2014</td>\n",
       "      <td>END</td>\n",
       "      <td>2003</td>\n",
       "      <td>12</td>\n",
       "      <td>0</td>\n",
       "      <td>0</td>\n",
       "      <td>0</td>\n",
       "      <td>0.00</td>\n",
       "      <td>0</td>\n",
       "      <td>NaN</td>\n",
       "      <td>NaN</td>\n",
       "      <td>NaN</td>\n",
       "    </tr>\n",
       "    <tr>\n",
       "      <th>4</th>\n",
       "      <td>Dylan McDermott</td>\n",
       "      <td>The Practice</td>\n",
       "      <td>1997</td>\n",
       "      <td>2014</td>\n",
       "      <td>END</td>\n",
       "      <td>2004</td>\n",
       "      <td>11</td>\n",
       "      <td>2</td>\n",
       "      <td>7</td>\n",
       "      <td>6</td>\n",
       "      <td>9.75</td>\n",
       "      <td>0.886363636</td>\n",
       "      <td>Olympus Has Fallen, 2013; Freezer, 2014</td>\n",
       "      <td>The Messengers, 2007; Unbeatable Harold, 2009;...</td>\n",
       "      <td>Big Shots, Season 1; Dark Blue, Season 1-2; Am...</td>\n",
       "    </tr>\n",
       "  </tbody>\n",
       "</table>\n",
       "</div>"
      ],
      "text/plain": [
       "          Performer          Show  Show Start Show End Status?  CharEnd  \\\n",
       "0       Steven Hill   Law & Order        1990     2010     END     2000   \n",
       "1    Kelli Williams  The Practice        1997     2014     END     2003   \n",
       "2  LisaGay Hamilton  The Practice        1997     2014     END     2003   \n",
       "3  Lara Flynn Boyle  The Practice        1997     2014     END     2003   \n",
       "4   Dylan McDermott  The Practice        1997     2014     END     2004   \n",
       "\n",
       "   Years Since  #LEAD  #SUPPORT  #Shows  Score      Score/Y  \\\n",
       "0           15      0         0       0   0.00            0   \n",
       "1           12      0         1       6   6.25  0.520833333   \n",
       "2           12      2         0       2   4.00  0.333333333   \n",
       "3           12      0         0       0   0.00            0   \n",
       "4           11      2         7       6   9.75  0.886363636   \n",
       "\n",
       "                                   lead_notes  \\\n",
       "0                                         NaN   \n",
       "1                                         NaN   \n",
       "2  Life of a King, 2014; Go For Sisters, 2013   \n",
       "3                                         NaN   \n",
       "4     Olympus Has Fallen, 2013; Freezer, 2014   \n",
       "\n",
       "                                       support_notes  \\\n",
       "0                                                NaN   \n",
       "1                                 Any Day Now (2012)   \n",
       "2                                                NaN   \n",
       "3                                                NaN   \n",
       "4  The Messengers, 2007; Unbeatable Harold, 2009;...   \n",
       "\n",
       "                                          show_notes  \n",
       "0                                                NaN  \n",
       "1  Medical Investigation, Season 1; Lie To Me, Se...  \n",
       "2                   Men of a Certain Age, Season 1-2  \n",
       "3                                                NaN  \n",
       "4  Big Shots, Season 1; Dark Blue, Season 1-2; Am...  "
      ]
     },
     "execution_count": 14,
     "metadata": {},
     "output_type": "execute_result"
    }
   ],
   "source": [
    "cast.head(5)# A:"
   ]
  },
  {
   "cell_type": "code",
   "execution_count": 16,
   "metadata": {
    "scrolled": true
   },
   "outputs": [
    {
     "data": {
      "text/html": [
       "<div>\n",
       "<style scoped>\n",
       "    .dataframe tbody tr th:only-of-type {\n",
       "        vertical-align: middle;\n",
       "    }\n",
       "\n",
       "    .dataframe tbody tr th {\n",
       "        vertical-align: top;\n",
       "    }\n",
       "\n",
       "    .dataframe thead th {\n",
       "        text-align: right;\n",
       "    }\n",
       "</style>\n",
       "<table border=\"1\" class=\"dataframe\">\n",
       "  <thead>\n",
       "    <tr style=\"text-align: right;\">\n",
       "      <th></th>\n",
       "      <th>Performer</th>\n",
       "      <th>Show</th>\n",
       "      <th>Show Start</th>\n",
       "      <th>Show End</th>\n",
       "      <th>Status?</th>\n",
       "      <th>CharEnd</th>\n",
       "      <th>Years Since</th>\n",
       "      <th>#LEAD</th>\n",
       "      <th>#SUPPORT</th>\n",
       "      <th>#Shows</th>\n",
       "      <th>Score</th>\n",
       "      <th>Score/Y</th>\n",
       "      <th>lead_notes</th>\n",
       "      <th>support_notes</th>\n",
       "      <th>show_notes</th>\n",
       "    </tr>\n",
       "  </thead>\n",
       "  <tbody>\n",
       "    <tr>\n",
       "      <th>243</th>\n",
       "      <td>Meghan Wolfe</td>\n",
       "      <td>True Detective</td>\n",
       "      <td>2014</td>\n",
       "      <td>PRESENT</td>\n",
       "      <td>LEFT</td>\n",
       "      <td>2014</td>\n",
       "      <td>1</td>\n",
       "      <td>0</td>\n",
       "      <td>0</td>\n",
       "      <td>0</td>\n",
       "      <td>0.00</td>\n",
       "      <td>0</td>\n",
       "      <td>NaN</td>\n",
       "      <td>NaN</td>\n",
       "      <td>NaN</td>\n",
       "    </tr>\n",
       "    <tr>\n",
       "      <th>244</th>\n",
       "      <td>Kevin Dunn</td>\n",
       "      <td>True Detective</td>\n",
       "      <td>2014</td>\n",
       "      <td>PRESENT</td>\n",
       "      <td>LEFT</td>\n",
       "      <td>2014</td>\n",
       "      <td>1</td>\n",
       "      <td>0</td>\n",
       "      <td>1</td>\n",
       "      <td>2</td>\n",
       "      <td>2.25</td>\n",
       "      <td>2.25</td>\n",
       "      <td>NaN</td>\n",
       "      <td>Draft Day, 2014</td>\n",
       "      <td>Veep, Season 3-4</td>\n",
       "    </tr>\n",
       "    <tr>\n",
       "      <th>245</th>\n",
       "      <td>Charles Dance</td>\n",
       "      <td>Game of Thrones</td>\n",
       "      <td>2011</td>\n",
       "      <td>PRESENT</td>\n",
       "      <td>LEFT</td>\n",
       "      <td>2015</td>\n",
       "      <td>0</td>\n",
       "      <td>0</td>\n",
       "      <td>2</td>\n",
       "      <td>1</td>\n",
       "      <td>1.50</td>\n",
       "      <td>#DIV/0!</td>\n",
       "      <td>NaN</td>\n",
       "      <td>Woman in Gold, 2015; Child 44, 2015</td>\n",
       "      <td>Deadline Gallipoli, Season 1</td>\n",
       "    </tr>\n",
       "    <tr>\n",
       "      <th>246</th>\n",
       "      <td>Patrick Dempsey</td>\n",
       "      <td>Grey's Anatomy</td>\n",
       "      <td>2005</td>\n",
       "      <td>PRESENT</td>\n",
       "      <td>LEFT</td>\n",
       "      <td>2015</td>\n",
       "      <td>0</td>\n",
       "      <td>0</td>\n",
       "      <td>0</td>\n",
       "      <td>0</td>\n",
       "      <td>0.00</td>\n",
       "      <td>#DIV/0!</td>\n",
       "      <td>NaN</td>\n",
       "      <td>NaN</td>\n",
       "      <td>NaN</td>\n",
       "    </tr>\n",
       "    <tr>\n",
       "      <th>247</th>\n",
       "      <td>Ian McElhinney</td>\n",
       "      <td>Game of Thrones</td>\n",
       "      <td>2011</td>\n",
       "      <td>PRESENT</td>\n",
       "      <td>LEFT</td>\n",
       "      <td>2015</td>\n",
       "      <td>0</td>\n",
       "      <td>0</td>\n",
       "      <td>0</td>\n",
       "      <td>0</td>\n",
       "      <td>0.00</td>\n",
       "      <td>#DIV/0!</td>\n",
       "      <td>NaN</td>\n",
       "      <td>NaN</td>\n",
       "      <td>NaN</td>\n",
       "    </tr>\n",
       "  </tbody>\n",
       "</table>\n",
       "</div>"
      ],
      "text/plain": [
       "           Performer             Show  Show Start Show End Status?  CharEnd  \\\n",
       "243     Meghan Wolfe   True Detective        2014  PRESENT    LEFT     2014   \n",
       "244       Kevin Dunn   True Detective        2014  PRESENT    LEFT     2014   \n",
       "245    Charles Dance  Game of Thrones        2011  PRESENT    LEFT     2015   \n",
       "246  Patrick Dempsey   Grey's Anatomy        2005  PRESENT    LEFT     2015   \n",
       "247   Ian McElhinney  Game of Thrones        2011  PRESENT    LEFT     2015   \n",
       "\n",
       "     Years Since  #LEAD  #SUPPORT  #Shows  Score  Score/Y lead_notes  \\\n",
       "243            1      0         0       0   0.00        0        NaN   \n",
       "244            1      0         1       2   2.25     2.25        NaN   \n",
       "245            0      0         2       1   1.50  #DIV/0!        NaN   \n",
       "246            0      0         0       0   0.00  #DIV/0!        NaN   \n",
       "247            0      0         0       0   0.00  #DIV/0!        NaN   \n",
       "\n",
       "                           support_notes                    show_notes  \n",
       "243                                  NaN                           NaN  \n",
       "244                      Draft Day, 2014              Veep, Season 3-4  \n",
       "245  Woman in Gold, 2015; Child 44, 2015  Deadline Gallipoli, Season 1  \n",
       "246                                  NaN                           NaN  \n",
       "247                                  NaN                           NaN  "
      ]
     },
     "execution_count": 16,
     "metadata": {},
     "output_type": "execute_result"
    }
   ],
   "source": [
    "cast.tail(5)"
   ]
  },
  {
   "cell_type": "markdown",
   "metadata": {},
   "source": [
    "#### 3. Print the columns of the data."
   ]
  },
  {
   "cell_type": "code",
   "execution_count": 17,
   "metadata": {
    "scrolled": true
   },
   "outputs": [
    {
     "name": "stdout",
     "output_type": "stream",
     "text": [
      "Index(['Performer', 'Show', 'Show Start', 'Show End', 'Status?', 'CharEnd',\n",
      "       'Years Since', '#LEAD', '#SUPPORT', '#Shows', 'Score', 'Score/Y',\n",
      "       'lead_notes', 'support_notes', 'show_notes'],\n",
      "      dtype='object')\n"
     ]
    }
   ],
   "source": [
    "print(cast.columns)# A:"
   ]
  },
  {
   "cell_type": "markdown",
   "metadata": {},
   "source": [
    "#### 4. Rename the columns in such a way that no spaces or special symbols are contained.\n",
    "\n",
    "Hint: Special symbols or spaces are not contained in the uppercase or lowercase letters."
   ]
  },
  {
   "cell_type": "code",
   "execution_count": 11,
   "metadata": {},
   "outputs": [],
   "source": [
    "import string\n",
    "# the string library has default strings that contain all letters or numbers\n",
    "uppercase = string.ascii_uppercase\n",
    "lowercase = string.ascii_lowercase\n"
   ]
  },
  {
   "cell_type": "code",
   "execution_count": 28,
   "metadata": {
    "scrolled": true
   },
   "outputs": [
    {
     "data": {
      "text/plain": [
       "['Performer',\n",
       " 'Show',\n",
       " 'Show Start',\n",
       " 'Show End',\n",
       " 'Status?',\n",
       " 'CharEnd',\n",
       " 'Years Since',\n",
       " '#LEAD',\n",
       " '#SUPPORT',\n",
       " '#Shows',\n",
       " 'Score',\n",
       " 'Score/Y',\n",
       " 'lead_notes',\n",
       " 'support_notes',\n",
       " 'show_notes']"
      ]
     },
     "execution_count": 28,
     "metadata": {},
     "output_type": "execute_result"
    }
   ],
   "source": [
    "new_list = list(cast.columns)\n",
    "new_list"
   ]
  },
  {
   "cell_type": "code",
   "execution_count": 50,
   "metadata": {},
   "outputs": [
    {
     "name": "stdout",
     "output_type": "stream",
     "text": [
      "['Performer', 'Show', 'ShowStart', 'ShowEnd', 'Status', 'CharEnd', 'YearsSince', 'LEAD', 'SUPPORT', 'Shows', 'Score', 'ScoreY', 'leadnotes', 'supportnotes', 'shownotes']\n"
     ]
    }
   ],
   "source": [
    "big_list=[]\n",
    "for i in new_list:\n",
    "    all_letters=[]\n",
    "    for j in i:\n",
    "        if j in uppercase or j in lowercase :\n",
    "            all_letters.append(j)\n",
    "    big_list.append(\"\".join(all_letters))\n",
    "print(big_list)"
   ]
  },
  {
   "cell_type": "code",
   "execution_count": 58,
   "metadata": {},
   "outputs": [
    {
     "name": "stdout",
     "output_type": "stream",
     "text": [
      "['performer', 'show', 'showstart', 'showend', 'status', 'charend', 'yearssince', 'lead', 'support', 'shows', 'score', 'scorey', 'leadnotes', 'supportnotes', 'shownotes']\n"
     ]
    }
   ],
   "source": [
    "new_list=[]\n",
    "for k in big_list:\n",
    "    new_list.append(k.lower())\n",
    "print(new_list)"
   ]
  },
  {
   "cell_type": "code",
   "execution_count": 59,
   "metadata": {},
   "outputs": [],
   "source": [
    "cast.columns = new_list"
   ]
  },
  {
   "cell_type": "code",
   "execution_count": 71,
   "metadata": {},
   "outputs": [
    {
     "data": {
      "text/plain": [
       "Index(['performer', 'show', 'showstart', 'showend', 'status', 'charend',\n",
       "       'yearssince', 'lead', 'support', 'shows', 'score', 'scorey',\n",
       "       'leadnotes', 'supportnotes', 'shownotes'],\n",
       "      dtype='object')"
      ]
     },
     "execution_count": 71,
     "metadata": {},
     "output_type": "execute_result"
    }
   ],
   "source": [
    "cast.columns"
   ]
  },
  {
   "cell_type": "code",
   "execution_count": 72,
   "metadata": {},
   "outputs": [
    {
     "data": {
      "text/plain": [
       "RangeIndex(start=0, stop=248, step=1)"
      ]
     },
     "execution_count": 72,
     "metadata": {},
     "output_type": "execute_result"
    }
   ],
   "source": [
    "cast.index"
   ]
  },
  {
   "cell_type": "markdown",
   "metadata": {},
   "source": [
    "#### 5. Subset the data where the status of the show is not \"END\" or \"End\"."
   ]
  },
  {
   "cell_type": "code",
   "execution_count": 80,
   "metadata": {
    "scrolled": true
   },
   "outputs": [
    {
     "data": {
      "text/plain": [
       "157    LEFT\n",
       "162    LEFT\n",
       "163    LEFT\n",
       "171    LEFT\n",
       "173    LEFT\n",
       "177    LEFT\n",
       "178    LEFT\n",
       "179    LEFT\n",
       "200    LEFT\n",
       "201    LEFT\n",
       "205    LEFT\n",
       "208    LEFT\n",
       "231    LEFT\n",
       "232    LEFT\n",
       "233    LEFT\n",
       "234    LEFT\n",
       "235    LEFT\n",
       "236    LEFT\n",
       "237    LEFT\n",
       "238    LEFT\n",
       "239    LEFT\n",
       "240    LEFT\n",
       "241    LEFT\n",
       "242    LEFT\n",
       "243    LEFT\n",
       "244    LEFT\n",
       "245    LEFT\n",
       "246    LEFT\n",
       "247    LEFT\n",
       "Name: status, dtype: object"
      ]
     },
     "execution_count": 80,
     "metadata": {},
     "output_type": "execute_result"
    }
   ],
   "source": [
    "cast.status[(cast[\"status\"]!=\"END\")&(cast[\"status\"]!=\"End\")]"
   ]
  },
  {
   "cell_type": "markdown",
   "metadata": {},
   "source": [
    "#### 6. Print out the performers where the show start is greater than 2005 and the score is greater than 7."
   ]
  },
  {
   "cell_type": "code",
   "execution_count": 75,
   "metadata": {
    "scrolled": true
   },
   "outputs": [
    {
     "data": {
      "text/html": [
       "<div>\n",
       "<style scoped>\n",
       "    .dataframe tbody tr th:only-of-type {\n",
       "        vertical-align: middle;\n",
       "    }\n",
       "\n",
       "    .dataframe tbody tr th {\n",
       "        vertical-align: top;\n",
       "    }\n",
       "\n",
       "    .dataframe thead th {\n",
       "        text-align: right;\n",
       "    }\n",
       "</style>\n",
       "<table border=\"1\" class=\"dataframe\">\n",
       "  <thead>\n",
       "    <tr style=\"text-align: right;\">\n",
       "      <th></th>\n",
       "      <th>performer</th>\n",
       "      <th>show</th>\n",
       "      <th>showstart</th>\n",
       "      <th>showend</th>\n",
       "      <th>status</th>\n",
       "      <th>charend</th>\n",
       "      <th>yearssince</th>\n",
       "      <th>lead</th>\n",
       "      <th>support</th>\n",
       "      <th>shows</th>\n",
       "      <th>score</th>\n",
       "      <th>scorey</th>\n",
       "      <th>leadnotes</th>\n",
       "      <th>supportnotes</th>\n",
       "      <th>shownotes</th>\n",
       "    </tr>\n",
       "  </thead>\n",
       "  <tbody>\n",
       "    <tr>\n",
       "      <th>95</th>\n",
       "      <td>Scott Porter</td>\n",
       "      <td>Friday Night Lights</td>\n",
       "      <td>2006</td>\n",
       "      <td>2011</td>\n",
       "      <td>END</td>\n",
       "      <td>2010</td>\n",
       "      <td>5</td>\n",
       "      <td>3</td>\n",
       "      <td>1</td>\n",
       "      <td>6</td>\n",
       "      <td>9.25</td>\n",
       "      <td>1.85</td>\n",
       "      <td>The Good Guy, 2010; 10 Years, 2012; The To Do ...</td>\n",
       "      <td>Dear John, 2010</td>\n",
       "      <td>The Good Wife, Season 2; X-Men, Season 1; Hear...</td>\n",
       "    </tr>\n",
       "    <tr>\n",
       "      <th>132</th>\n",
       "      <td>Connie Britton</td>\n",
       "      <td>Friday Night Lights</td>\n",
       "      <td>2006</td>\n",
       "      <td>2011</td>\n",
       "      <td>END</td>\n",
       "      <td>2011</td>\n",
       "      <td>4</td>\n",
       "      <td>3</td>\n",
       "      <td>1</td>\n",
       "      <td>4</td>\n",
       "      <td>7.25</td>\n",
       "      <td>1.8125</td>\n",
       "      <td>The Fitzgerald Family Christmas, 2012; Angels ...</td>\n",
       "      <td>The To Do List, 2013</td>\n",
       "      <td>American Horror Story, Season 1; Nashville, Se...</td>\n",
       "    </tr>\n",
       "    <tr>\n",
       "      <th>149</th>\n",
       "      <td>Amanda Seyfried</td>\n",
       "      <td>Big Love</td>\n",
       "      <td>2006</td>\n",
       "      <td>2011</td>\n",
       "      <td>End</td>\n",
       "      <td>2011</td>\n",
       "      <td>4</td>\n",
       "      <td>8</td>\n",
       "      <td>3</td>\n",
       "      <td>0</td>\n",
       "      <td>8.75</td>\n",
       "      <td>2.1875</td>\n",
       "      <td>Red Riding Hood, 2011; In Time, 2011; Gine, 20...</td>\n",
       "      <td>The End of Love, 2013; Veronica Mars, 2014; Wh...</td>\n",
       "      <td>NaN</td>\n",
       "    </tr>\n",
       "    <tr>\n",
       "      <th>157</th>\n",
       "      <td>Siobhan Finneran</td>\n",
       "      <td>Downton Abbey</td>\n",
       "      <td>2010</td>\n",
       "      <td>PRESENT</td>\n",
       "      <td>LEFT</td>\n",
       "      <td>2012</td>\n",
       "      <td>3</td>\n",
       "      <td>0</td>\n",
       "      <td>0</td>\n",
       "      <td>8</td>\n",
       "      <td>8.00</td>\n",
       "      <td>2.666666667</td>\n",
       "      <td>NaN</td>\n",
       "      <td>NaN</td>\n",
       "      <td>The Syndicate, Season 2; Happy Valley, Season ...</td>\n",
       "    </tr>\n",
       "  </tbody>\n",
       "</table>\n",
       "</div>"
      ],
      "text/plain": [
       "            performer                 show  showstart  showend status  \\\n",
       "95       Scott Porter  Friday Night Lights       2006     2011    END   \n",
       "132    Connie Britton  Friday Night Lights       2006     2011    END   \n",
       "149   Amanda Seyfried             Big Love       2006     2011    End   \n",
       "157  Siobhan Finneran        Downton Abbey       2010  PRESENT   LEFT   \n",
       "\n",
       "     charend  yearssince  lead  support  shows  score       scorey  \\\n",
       "95      2010           5     3        1      6   9.25         1.85   \n",
       "132     2011           4     3        1      4   7.25       1.8125   \n",
       "149     2011           4     8        3      0   8.75       2.1875   \n",
       "157     2012           3     0        0      8   8.00  2.666666667   \n",
       "\n",
       "                                             leadnotes  \\\n",
       "95   The Good Guy, 2010; 10 Years, 2012; The To Do ...   \n",
       "132  The Fitzgerald Family Christmas, 2012; Angels ...   \n",
       "149  Red Riding Hood, 2011; In Time, 2011; Gine, 20...   \n",
       "157                                                NaN   \n",
       "\n",
       "                                          supportnotes  \\\n",
       "95                                     Dear John, 2010   \n",
       "132                               The To Do List, 2013   \n",
       "149  The End of Love, 2013; Veronica Mars, 2014; Wh...   \n",
       "157                                                NaN   \n",
       "\n",
       "                                             shownotes  \n",
       "95   The Good Wife, Season 2; X-Men, Season 1; Hear...  \n",
       "132  American Horror Story, Season 1; Nashville, Se...  \n",
       "149                                                NaN  \n",
       "157  The Syndicate, Season 2; Happy Valley, Season ...  "
      ]
     },
     "execution_count": 75,
     "metadata": {},
     "output_type": "execute_result"
    }
   ],
   "source": [
    "mask = cast[(cast[\"showstart\"]>2005) & (cast[\"score\"]>7)]# A:\n",
    "mask"
   ]
  },
  {
   "cell_type": "markdown",
   "metadata": {},
   "source": [
    "#### 7. Select the `performer` and `show` columns for the 20th-25th LABELED rows."
   ]
  },
  {
   "cell_type": "code",
   "execution_count": 11,
   "metadata": {
    "scrolled": true
   },
   "outputs": [],
   "source": [
    "# A:"
   ]
  },
  {
   "cell_type": "markdown",
   "metadata": {},
   "source": [
    "#### 8. Plot a histogram of score."
   ]
  },
  {
   "cell_type": "code",
   "execution_count": 12,
   "metadata": {
    "scrolled": true
   },
   "outputs": [],
   "source": [
    "# A:"
   ]
  },
  {
   "cell_type": "markdown",
   "metadata": {},
   "source": [
    "### B. Explore San Francisco Crime Data\n",
    "\n",
    "--- \n",
    "\n",
    "**9. Load the San Francisco crime data set into a DataFrame.**"
   ]
  },
  {
   "cell_type": "code",
   "execution_count": 13,
   "metadata": {},
   "outputs": [],
   "source": [
    "crime_csv = '../../../../resource-datasets/sf_crime/sf_crime_sample.csv'"
   ]
  },
  {
   "cell_type": "code",
   "execution_count": 14,
   "metadata": {
    "scrolled": true
   },
   "outputs": [],
   "source": [
    "# A:"
   ]
  },
  {
   "cell_type": "markdown",
   "metadata": {},
   "source": [
    "**10. Look at the dimensions of the crime data.**"
   ]
  },
  {
   "cell_type": "code",
   "execution_count": 15,
   "metadata": {
    "scrolled": true
   },
   "outputs": [],
   "source": [
    "# A:"
   ]
  },
  {
   "cell_type": "markdown",
   "metadata": {},
   "source": [
    "**11. Look at the data types of the columns and print out the column names.**"
   ]
  },
  {
   "cell_type": "code",
   "execution_count": 16,
   "metadata": {
    "scrolled": true
   },
   "outputs": [],
   "source": [
    "# A:"
   ]
  },
  {
   "cell_type": "code",
   "execution_count": 17,
   "metadata": {
    "scrolled": true
   },
   "outputs": [],
   "source": [
    "# A:"
   ]
  },
  {
   "cell_type": "markdown",
   "metadata": {},
   "source": [
    "**12. How many distinct districts are there?**\n",
    "\n",
    "Hint: You can use the command `.unique()` on any pandas series."
   ]
  },
  {
   "cell_type": "code",
   "execution_count": 18,
   "metadata": {
    "scrolled": true
   },
   "outputs": [],
   "source": [
    "# A:"
   ]
  },
  {
   "cell_type": "markdown",
   "metadata": {},
   "source": [
    "**13. Which day of the week has the most crime?**"
   ]
  },
  {
   "cell_type": "code",
   "execution_count": 19,
   "metadata": {
    "scrolled": true
   },
   "outputs": [],
   "source": [
    "# A:"
   ]
  },
  {
   "cell_type": "markdown",
   "metadata": {},
   "source": [
    "#### 14. Make a new DataFrame featuring the crime categories and the number of crimes per category."
   ]
  },
  {
   "cell_type": "code",
   "execution_count": 20,
   "metadata": {
    "scrolled": true
   },
   "outputs": [],
   "source": [
    "# A:"
   ]
  },
  {
   "cell_type": "markdown",
   "metadata": {},
   "source": [
    "**15. Make a DataFrame that includes the districts and crime counts per district. Which district has the most crime?**\n",
    "\n",
    "*Hint: You can use the `.sort_values()` function to sort your DataFrame by column.*"
   ]
  },
  {
   "cell_type": "code",
   "execution_count": 21,
   "metadata": {
    "scrolled": true
   },
   "outputs": [],
   "source": [
    "# A:"
   ]
  },
  {
   "cell_type": "code",
   "execution_count": null,
   "metadata": {},
   "outputs": [],
   "source": []
  }
 ],
 "metadata": {
  "anaconda-cloud": {},
  "kernelspec": {
   "display_name": "Python 3",
   "language": "python",
   "name": "python3"
  },
  "language_info": {
   "codemirror_mode": {
    "name": "ipython",
    "version": 3
   },
   "file_extension": ".py",
   "mimetype": "text/x-python",
   "name": "python",
   "nbconvert_exporter": "python",
   "pygments_lexer": "ipython3",
   "version": "3.7.3"
  },
  "toc": {
   "base_numbering": 1,
   "nav_menu": {},
   "number_sections": false,
   "sideBar": true,
   "skip_h1_title": false,
   "title_cell": "Table of Contents",
   "title_sidebar": "Contents",
   "toc_cell": false,
   "toc_position": {},
   "toc_section_display": true,
   "toc_window_display": false
  },
  "varInspector": {
   "cols": {
    "lenName": 16,
    "lenType": 16,
    "lenVar": 40
   },
   "kernels_config": {
    "python": {
     "delete_cmd_postfix": "",
     "delete_cmd_prefix": "del ",
     "library": "var_list.py",
     "varRefreshCmd": "print(var_dic_list())"
    },
    "r": {
     "delete_cmd_postfix": ") ",
     "delete_cmd_prefix": "rm(",
     "library": "var_list.r",
     "varRefreshCmd": "cat(var_dic_list()) "
    }
   },
   "types_to_exclude": [
    "module",
    "function",
    "builtin_function_or_method",
    "instance",
    "_Feature"
   ],
   "window_display": false
  }
 },
 "nbformat": 4,
 "nbformat_minor": 1
}
