{
 "cells": [
  {
   "cell_type": "markdown",
   "metadata": {},
   "source": [
    "<img src=\"http://imgur.com/1ZcRyrc.png\" style=\"float: left; margin: 20px; height: 55px\">\n",
    "\n",
    "## Intro to `pandas` Lab\n",
    "\n",
    "___"
   ]
  },
  {
   "cell_type": "code",
   "execution_count": 1,
   "metadata": {},
   "outputs": [],
   "source": [
    "import pandas as pd\n",
    "import numpy as np\n",
    "import matplotlib.pyplot as plt\n",
    "import seaborn as sns\n",
    "sns.set(font_scale=1.5)\n",
    "\n",
    "%config InlineBackend.figure_format = 'retina'\n",
    "%matplotlib inline"
   ]
  },
  {
   "cell_type": "markdown",
   "metadata": {},
   "source": [
    "### A. Explore _Mad Men_ Cast Data\n",
    "\n",
    "---\n",
    "\n",
    "#### 1. Load the _Mad Men_ cast data into a `pandas` DataFrame."
   ]
  },
  {
   "cell_type": "code",
   "execution_count": 2,
   "metadata": {},
   "outputs": [],
   "source": [
    "cast_data_csv = '../../../../../resource-datasets/mad_men_actors/mad-men-cast-show-data.csv'"
   ]
  },
  {
   "cell_type": "code",
   "execution_count": 3,
   "metadata": {},
   "outputs": [],
   "source": [
    "cast = pd.read_csv(cast_data_csv, encoding='latin-1')"
   ]
  },
  {
   "cell_type": "markdown",
   "metadata": {},
   "source": [
    "#### 2. Print the head and tail of the data."
   ]
  },
  {
   "cell_type": "code",
   "execution_count": 4,
   "metadata": {},
   "outputs": [
    {
     "data": {
      "text/html": [
       "<div>\n",
       "<style scoped>\n",
       "    .dataframe tbody tr th:only-of-type {\n",
       "        vertical-align: middle;\n",
       "    }\n",
       "\n",
       "    .dataframe tbody tr th {\n",
       "        vertical-align: top;\n",
       "    }\n",
       "\n",
       "    .dataframe thead th {\n",
       "        text-align: right;\n",
       "    }\n",
       "</style>\n",
       "<table border=\"1\" class=\"dataframe\">\n",
       "  <thead>\n",
       "    <tr style=\"text-align: right;\">\n",
       "      <th></th>\n",
       "      <th>Performer</th>\n",
       "      <th>Show</th>\n",
       "      <th>Show Start</th>\n",
       "      <th>Show End</th>\n",
       "      <th>Status?</th>\n",
       "      <th>CharEnd</th>\n",
       "      <th>Years Since</th>\n",
       "      <th>#LEAD</th>\n",
       "      <th>#SUPPORT</th>\n",
       "      <th>#Shows</th>\n",
       "      <th>Score</th>\n",
       "      <th>Score/Y</th>\n",
       "      <th>lead_notes</th>\n",
       "      <th>support_notes</th>\n",
       "      <th>show_notes</th>\n",
       "    </tr>\n",
       "  </thead>\n",
       "  <tbody>\n",
       "    <tr>\n",
       "      <th>0</th>\n",
       "      <td>Steven Hill</td>\n",
       "      <td>Law &amp; Order</td>\n",
       "      <td>1990</td>\n",
       "      <td>2010</td>\n",
       "      <td>END</td>\n",
       "      <td>2000</td>\n",
       "      <td>15</td>\n",
       "      <td>0</td>\n",
       "      <td>0</td>\n",
       "      <td>0</td>\n",
       "      <td>0.00</td>\n",
       "      <td>0</td>\n",
       "      <td>NaN</td>\n",
       "      <td>NaN</td>\n",
       "      <td>NaN</td>\n",
       "    </tr>\n",
       "    <tr>\n",
       "      <th>1</th>\n",
       "      <td>Kelli Williams</td>\n",
       "      <td>The Practice</td>\n",
       "      <td>1997</td>\n",
       "      <td>2014</td>\n",
       "      <td>END</td>\n",
       "      <td>2003</td>\n",
       "      <td>12</td>\n",
       "      <td>0</td>\n",
       "      <td>1</td>\n",
       "      <td>6</td>\n",
       "      <td>6.25</td>\n",
       "      <td>0.520833333</td>\n",
       "      <td>NaN</td>\n",
       "      <td>Any Day Now (2012)</td>\n",
       "      <td>Medical Investigation, Season 1; Lie To Me, Se...</td>\n",
       "    </tr>\n",
       "  </tbody>\n",
       "</table>\n",
       "</div>"
      ],
      "text/plain": [
       "        Performer          Show  Show Start Show End Status?  CharEnd  \\\n",
       "0     Steven Hill   Law & Order        1990     2010     END     2000   \n",
       "1  Kelli Williams  The Practice        1997     2014     END     2003   \n",
       "\n",
       "   Years Since  #LEAD  #SUPPORT  #Shows  Score      Score/Y lead_notes  \\\n",
       "0           15      0         0       0   0.00            0        NaN   \n",
       "1           12      0         1       6   6.25  0.520833333        NaN   \n",
       "\n",
       "        support_notes                                         show_notes  \n",
       "0                 NaN                                                NaN  \n",
       "1  Any Day Now (2012)  Medical Investigation, Season 1; Lie To Me, Se...  "
      ]
     },
     "execution_count": 4,
     "metadata": {},
     "output_type": "execute_result"
    }
   ],
   "source": [
    "cast.head(2)"
   ]
  },
  {
   "cell_type": "code",
   "execution_count": 5,
   "metadata": {},
   "outputs": [
    {
     "data": {
      "text/html": [
       "<div>\n",
       "<style scoped>\n",
       "    .dataframe tbody tr th:only-of-type {\n",
       "        vertical-align: middle;\n",
       "    }\n",
       "\n",
       "    .dataframe tbody tr th {\n",
       "        vertical-align: top;\n",
       "    }\n",
       "\n",
       "    .dataframe thead th {\n",
       "        text-align: right;\n",
       "    }\n",
       "</style>\n",
       "<table border=\"1\" class=\"dataframe\">\n",
       "  <thead>\n",
       "    <tr style=\"text-align: right;\">\n",
       "      <th></th>\n",
       "      <th>Performer</th>\n",
       "      <th>Show</th>\n",
       "      <th>Show Start</th>\n",
       "      <th>Show End</th>\n",
       "      <th>Status?</th>\n",
       "      <th>CharEnd</th>\n",
       "      <th>Years Since</th>\n",
       "      <th>#LEAD</th>\n",
       "      <th>#SUPPORT</th>\n",
       "      <th>#Shows</th>\n",
       "      <th>Score</th>\n",
       "      <th>Score/Y</th>\n",
       "      <th>lead_notes</th>\n",
       "      <th>support_notes</th>\n",
       "      <th>show_notes</th>\n",
       "    </tr>\n",
       "  </thead>\n",
       "  <tbody>\n",
       "    <tr>\n",
       "      <th>246</th>\n",
       "      <td>Patrick Dempsey</td>\n",
       "      <td>Grey's Anatomy</td>\n",
       "      <td>2005</td>\n",
       "      <td>PRESENT</td>\n",
       "      <td>LEFT</td>\n",
       "      <td>2015</td>\n",
       "      <td>0</td>\n",
       "      <td>0</td>\n",
       "      <td>0</td>\n",
       "      <td>0</td>\n",
       "      <td>0.0</td>\n",
       "      <td>#DIV/0!</td>\n",
       "      <td>NaN</td>\n",
       "      <td>NaN</td>\n",
       "      <td>NaN</td>\n",
       "    </tr>\n",
       "    <tr>\n",
       "      <th>247</th>\n",
       "      <td>Ian McElhinney</td>\n",
       "      <td>Game of Thrones</td>\n",
       "      <td>2011</td>\n",
       "      <td>PRESENT</td>\n",
       "      <td>LEFT</td>\n",
       "      <td>2015</td>\n",
       "      <td>0</td>\n",
       "      <td>0</td>\n",
       "      <td>0</td>\n",
       "      <td>0</td>\n",
       "      <td>0.0</td>\n",
       "      <td>#DIV/0!</td>\n",
       "      <td>NaN</td>\n",
       "      <td>NaN</td>\n",
       "      <td>NaN</td>\n",
       "    </tr>\n",
       "  </tbody>\n",
       "</table>\n",
       "</div>"
      ],
      "text/plain": [
       "           Performer             Show  Show Start Show End Status?  CharEnd  \\\n",
       "246  Patrick Dempsey   Grey's Anatomy        2005  PRESENT    LEFT     2015   \n",
       "247   Ian McElhinney  Game of Thrones        2011  PRESENT    LEFT     2015   \n",
       "\n",
       "     Years Since  #LEAD  #SUPPORT  #Shows  Score  Score/Y lead_notes  \\\n",
       "246            0      0         0       0    0.0  #DIV/0!        NaN   \n",
       "247            0      0         0       0    0.0  #DIV/0!        NaN   \n",
       "\n",
       "    support_notes show_notes  \n",
       "246           NaN        NaN  \n",
       "247           NaN        NaN  "
      ]
     },
     "execution_count": 5,
     "metadata": {},
     "output_type": "execute_result"
    }
   ],
   "source": [
    "cast.tail(2)"
   ]
  },
  {
   "cell_type": "markdown",
   "metadata": {},
   "source": [
    "#### 3. Print the columns of the data."
   ]
  },
  {
   "cell_type": "code",
   "execution_count": 6,
   "metadata": {},
   "outputs": [
    {
     "data": {
      "text/plain": [
       "Index(['Performer', 'Show', 'Show Start', 'Show End', 'Status?', 'CharEnd',\n",
       "       'Years Since', '#LEAD', '#SUPPORT', '#Shows', 'Score', 'Score/Y',\n",
       "       'lead_notes', 'support_notes', 'show_notes'],\n",
       "      dtype='object')"
      ]
     },
     "execution_count": 6,
     "metadata": {},
     "output_type": "execute_result"
    }
   ],
   "source": [
    "cast.columns"
   ]
  },
  {
   "cell_type": "markdown",
   "metadata": {},
   "source": [
    "#### 4. Rename the columns in such a way that no spaces or special symbols are contained.\n",
    "\n",
    "Hint: Special symbols or spaces are not contained in the uppercase or lowercase letters."
   ]
  },
  {
   "cell_type": "code",
   "execution_count": 7,
   "metadata": {},
   "outputs": [],
   "source": [
    "import string\n",
    "# the string library has default strings that contain all letters or numbers\n",
    "uppercase = string.ascii_uppercase\n",
    "lowercase = string.ascii_lowercase\n",
    "letters = uppercase+lowercase"
   ]
  },
  {
   "cell_type": "code",
   "execution_count": 8,
   "metadata": {},
   "outputs": [
    {
     "data": {
      "text/plain": [
       "['Performer',\n",
       " 'Show',\n",
       " 'ShowStart',\n",
       " 'ShowEnd',\n",
       " 'Status',\n",
       " 'CharEnd',\n",
       " 'YearsSince',\n",
       " 'LEAD',\n",
       " 'SUPPORT',\n",
       " 'Shows',\n",
       " 'Score',\n",
       " 'ScoreY',\n",
       " 'leadnotes',\n",
       " 'supportnotes',\n",
       " 'shownotes']"
      ]
     },
     "execution_count": 8,
     "metadata": {},
     "output_type": "execute_result"
    }
   ],
   "source": [
    "new_columns = []\n",
    "for col in cast.columns:\n",
    "    new_name = ''\n",
    "    for letter in col:\n",
    "        if letter in letters:\n",
    "            new_name += letter\n",
    "    new_columns.append(new_name)\n",
    "new_columns"
   ]
  },
  {
   "cell_type": "code",
   "execution_count": 9,
   "metadata": {},
   "outputs": [
    {
     "data": {
      "text/plain": [
       "Index(['Performer', 'Show', 'ShowStart', 'ShowEnd', 'Status', 'CharEnd',\n",
       "       'YearsSince', 'LEAD', 'SUPPORT', 'Shows', 'Score', 'ScoreY',\n",
       "       'leadnotes', 'supportnotes', 'shownotes'],\n",
       "      dtype='object')"
      ]
     },
     "execution_count": 9,
     "metadata": {},
     "output_type": "execute_result"
    }
   ],
   "source": [
    "cast.columns = [('').join([letter for letter in col if letter in letters]) \n",
    "                for col in cast.columns]\n",
    "cast.columns"
   ]
  },
  {
   "cell_type": "markdown",
   "metadata": {},
   "source": [
    "#### 5. Subset the data where the status of the show is not \"END\" or \"End\"."
   ]
  },
  {
   "cell_type": "code",
   "execution_count": 10,
   "metadata": {},
   "outputs": [
    {
     "data": {
      "text/html": [
       "<div>\n",
       "<style scoped>\n",
       "    .dataframe tbody tr th:only-of-type {\n",
       "        vertical-align: middle;\n",
       "    }\n",
       "\n",
       "    .dataframe tbody tr th {\n",
       "        vertical-align: top;\n",
       "    }\n",
       "\n",
       "    .dataframe thead th {\n",
       "        text-align: right;\n",
       "    }\n",
       "</style>\n",
       "<table border=\"1\" class=\"dataframe\">\n",
       "  <thead>\n",
       "    <tr style=\"text-align: right;\">\n",
       "      <th></th>\n",
       "      <th>Performer</th>\n",
       "      <th>Show</th>\n",
       "      <th>ShowStart</th>\n",
       "      <th>ShowEnd</th>\n",
       "      <th>Status</th>\n",
       "      <th>CharEnd</th>\n",
       "      <th>YearsSince</th>\n",
       "      <th>LEAD</th>\n",
       "      <th>SUPPORT</th>\n",
       "      <th>Shows</th>\n",
       "      <th>Score</th>\n",
       "      <th>ScoreY</th>\n",
       "      <th>leadnotes</th>\n",
       "      <th>supportnotes</th>\n",
       "      <th>shownotes</th>\n",
       "    </tr>\n",
       "  </thead>\n",
       "  <tbody>\n",
       "    <tr>\n",
       "      <th>0</th>\n",
       "      <td>Steven Hill</td>\n",
       "      <td>Law &amp; Order</td>\n",
       "      <td>1990</td>\n",
       "      <td>2010</td>\n",
       "      <td>END</td>\n",
       "      <td>2000</td>\n",
       "      <td>15</td>\n",
       "      <td>0</td>\n",
       "      <td>0</td>\n",
       "      <td>0</td>\n",
       "      <td>0.00</td>\n",
       "      <td>0</td>\n",
       "      <td>NaN</td>\n",
       "      <td>NaN</td>\n",
       "      <td>NaN</td>\n",
       "    </tr>\n",
       "    <tr>\n",
       "      <th>1</th>\n",
       "      <td>Kelli Williams</td>\n",
       "      <td>The Practice</td>\n",
       "      <td>1997</td>\n",
       "      <td>2014</td>\n",
       "      <td>END</td>\n",
       "      <td>2003</td>\n",
       "      <td>12</td>\n",
       "      <td>0</td>\n",
       "      <td>1</td>\n",
       "      <td>6</td>\n",
       "      <td>6.25</td>\n",
       "      <td>0.520833333</td>\n",
       "      <td>NaN</td>\n",
       "      <td>Any Day Now (2012)</td>\n",
       "      <td>Medical Investigation, Season 1; Lie To Me, Se...</td>\n",
       "    </tr>\n",
       "  </tbody>\n",
       "</table>\n",
       "</div>"
      ],
      "text/plain": [
       "        Performer          Show  ShowStart ShowEnd Status  CharEnd  \\\n",
       "0     Steven Hill   Law & Order       1990    2010    END     2000   \n",
       "1  Kelli Williams  The Practice       1997    2014    END     2003   \n",
       "\n",
       "   YearsSince  LEAD  SUPPORT  Shows  Score       ScoreY leadnotes  \\\n",
       "0          15     0        0      0   0.00            0       NaN   \n",
       "1          12     0        1      6   6.25  0.520833333       NaN   \n",
       "\n",
       "         supportnotes                                          shownotes  \n",
       "0                 NaN                                                NaN  \n",
       "1  Any Day Now (2012)  Medical Investigation, Season 1; Lie To Me, Se...  "
      ]
     },
     "execution_count": 10,
     "metadata": {},
     "output_type": "execute_result"
    }
   ],
   "source": [
    "cast.head(2)"
   ]
  },
  {
   "cell_type": "code",
   "execution_count": 31,
   "metadata": {},
   "outputs": [
    {
     "data": {
      "text/html": [
       "<div>\n",
       "<style scoped>\n",
       "    .dataframe tbody tr th:only-of-type {\n",
       "        vertical-align: middle;\n",
       "    }\n",
       "\n",
       "    .dataframe tbody tr th {\n",
       "        vertical-align: top;\n",
       "    }\n",
       "\n",
       "    .dataframe thead th {\n",
       "        text-align: right;\n",
       "    }\n",
       "</style>\n",
       "<table border=\"1\" class=\"dataframe\">\n",
       "  <thead>\n",
       "    <tr style=\"text-align: right;\">\n",
       "      <th></th>\n",
       "      <th>Performer</th>\n",
       "      <th>Show</th>\n",
       "      <th>ShowStart</th>\n",
       "      <th>ShowEnd</th>\n",
       "      <th>Status</th>\n",
       "      <th>CharEnd</th>\n",
       "      <th>YearsSince</th>\n",
       "      <th>LEAD</th>\n",
       "      <th>SUPPORT</th>\n",
       "      <th>Shows</th>\n",
       "      <th>Score</th>\n",
       "      <th>ScoreY</th>\n",
       "      <th>leadnotes</th>\n",
       "      <th>supportnotes</th>\n",
       "      <th>shownotes</th>\n",
       "    </tr>\n",
       "  </thead>\n",
       "  <tbody>\n",
       "    <tr>\n",
       "      <th>157</th>\n",
       "      <td>Siobhan Finneran</td>\n",
       "      <td>Downton Abbey</td>\n",
       "      <td>2010</td>\n",
       "      <td>PRESENT</td>\n",
       "      <td>LEFT</td>\n",
       "      <td>2012</td>\n",
       "      <td>3</td>\n",
       "      <td>0</td>\n",
       "      <td>0</td>\n",
       "      <td>8</td>\n",
       "      <td>8.0</td>\n",
       "      <td>2.666666667</td>\n",
       "      <td>NaN</td>\n",
       "      <td>NaN</td>\n",
       "      <td>The Syndicate, Season 2; Happy Valley, Season ...</td>\n",
       "    </tr>\n",
       "    <tr>\n",
       "      <th>162</th>\n",
       "      <td>Eric Dane</td>\n",
       "      <td>Grey's Anatomy</td>\n",
       "      <td>2005</td>\n",
       "      <td>PRESENT</td>\n",
       "      <td>LEFT</td>\n",
       "      <td>2012</td>\n",
       "      <td>3</td>\n",
       "      <td>0</td>\n",
       "      <td>0</td>\n",
       "      <td>1</td>\n",
       "      <td>1.0</td>\n",
       "      <td>0.333333333</td>\n",
       "      <td>NaN</td>\n",
       "      <td>NaN</td>\n",
       "      <td>The Last Ship, Season 1</td>\n",
       "    </tr>\n",
       "    <tr>\n",
       "      <th>163</th>\n",
       "      <td>David Harewood</td>\n",
       "      <td>Homeland</td>\n",
       "      <td>2011</td>\n",
       "      <td>PRESENT</td>\n",
       "      <td>LEFT</td>\n",
       "      <td>2012</td>\n",
       "      <td>3</td>\n",
       "      <td>0</td>\n",
       "      <td>0</td>\n",
       "      <td>1</td>\n",
       "      <td>1.0</td>\n",
       "      <td>0.333333333</td>\n",
       "      <td>NaN</td>\n",
       "      <td>NaN</td>\n",
       "      <td>Selfie, Season 1</td>\n",
       "    </tr>\n",
       "    <tr>\n",
       "      <th>171</th>\n",
       "      <td>Dan Stevens</td>\n",
       "      <td>Downton Abbey</td>\n",
       "      <td>2010</td>\n",
       "      <td>PRESENT</td>\n",
       "      <td>LEFT</td>\n",
       "      <td>2012</td>\n",
       "      <td>3</td>\n",
       "      <td>3</td>\n",
       "      <td>4</td>\n",
       "      <td>0</td>\n",
       "      <td>4.0</td>\n",
       "      <td>1.333333333</td>\n",
       "      <td>Summer in February, 2014; The Guest, 2014; Nig...</td>\n",
       "      <td>Vamps, 2012; The Fifth Estate, 2013; A Walk Am...</td>\n",
       "      <td>NaN</td>\n",
       "    </tr>\n",
       "    <tr>\n",
       "      <th>173</th>\n",
       "      <td>Michelle Fairley</td>\n",
       "      <td>Game of Thrones</td>\n",
       "      <td>2011</td>\n",
       "      <td>PRESENT</td>\n",
       "      <td>LEFT</td>\n",
       "      <td>2013</td>\n",
       "      <td>2</td>\n",
       "      <td>0</td>\n",
       "      <td>2</td>\n",
       "      <td>3</td>\n",
       "      <td>3.5</td>\n",
       "      <td>1.75</td>\n",
       "      <td>NaN</td>\n",
       "      <td>Ironclad: Battle for Blood, 2014; Jack et la m...</td>\n",
       "      <td>Suits, Season 3; 24: Live Another Day, Season ...</td>\n",
       "    </tr>\n",
       "  </tbody>\n",
       "</table>\n",
       "</div>"
      ],
      "text/plain": [
       "            Performer             Show  ShowStart  ShowEnd Status  CharEnd  \\\n",
       "157  Siobhan Finneran    Downton Abbey       2010  PRESENT   LEFT     2012   \n",
       "162         Eric Dane   Grey's Anatomy       2005  PRESENT   LEFT     2012   \n",
       "163    David Harewood         Homeland       2011  PRESENT   LEFT     2012   \n",
       "171       Dan Stevens    Downton Abbey       2010  PRESENT   LEFT     2012   \n",
       "173  Michelle Fairley  Game of Thrones       2011  PRESENT   LEFT     2013   \n",
       "\n",
       "     YearsSince  LEAD  SUPPORT  Shows  Score       ScoreY  \\\n",
       "157           3     0        0      8    8.0  2.666666667   \n",
       "162           3     0        0      1    1.0  0.333333333   \n",
       "163           3     0        0      1    1.0  0.333333333   \n",
       "171           3     3        4      0    4.0  1.333333333   \n",
       "173           2     0        2      3    3.5         1.75   \n",
       "\n",
       "                                             leadnotes  \\\n",
       "157                                                NaN   \n",
       "162                                                NaN   \n",
       "163                                                NaN   \n",
       "171  Summer in February, 2014; The Guest, 2014; Nig...   \n",
       "173                                                NaN   \n",
       "\n",
       "                                          supportnotes  \\\n",
       "157                                                NaN   \n",
       "162                                                NaN   \n",
       "163                                                NaN   \n",
       "171  Vamps, 2012; The Fifth Estate, 2013; A Walk Am...   \n",
       "173  Ironclad: Battle for Blood, 2014; Jack et la m...   \n",
       "\n",
       "                                             shownotes  \n",
       "157  The Syndicate, Season 2; Happy Valley, Season ...  \n",
       "162                            The Last Ship, Season 1  \n",
       "163                                   Selfie, Season 1  \n",
       "171                                                NaN  \n",
       "173  Suits, Season 3; 24: Live Another Day, Season ...  "
      ]
     },
     "execution_count": 31,
     "metadata": {},
     "output_type": "execute_result"
    }
   ],
   "source": [
    "cast[(cast['Status'] != 'END') & (cast['Status'] != 'End')].head()"
   ]
  },
  {
   "cell_type": "code",
   "execution_count": 33,
   "metadata": {},
   "outputs": [
    {
     "data": {
      "text/plain": [
       "(29, 15)"
      ]
     },
     "execution_count": 33,
     "metadata": {},
     "output_type": "execute_result"
    }
   ],
   "source": [
    "# alternative formulation through a mask (a variable containing the condition)\n",
    "mask = (cast['Status'] != 'END') & (cast['Status'] != 'End')\n",
    "subset = cast[mask]\n",
    "subset.shape"
   ]
  },
  {
   "cell_type": "code",
   "execution_count": 13,
   "metadata": {},
   "outputs": [
    {
     "data": {
      "text/plain": [
       "(29, 15)"
      ]
     },
     "execution_count": 13,
     "metadata": {},
     "output_type": "execute_result"
    }
   ],
   "source": [
    "# alternative formulation asking for string alternatives\n",
    "cast[~cast.Status.isin(['End','END'])].shape"
   ]
  },
  {
   "cell_type": "markdown",
   "metadata": {},
   "source": [
    "#### 6. Print out the performers where the show start is greater than 2005 and the score is greater than 7."
   ]
  },
  {
   "cell_type": "code",
   "execution_count": 14,
   "metadata": {},
   "outputs": [
    {
     "data": {
      "text/plain": [
       "Performer        object\n",
       "Show             object\n",
       "ShowStart         int64\n",
       "ShowEnd          object\n",
       "Status           object\n",
       "CharEnd           int64\n",
       "YearsSince        int64\n",
       "LEAD              int64\n",
       "SUPPORT           int64\n",
       "Shows             int64\n",
       "Score           float64\n",
       "ScoreY           object\n",
       "leadnotes        object\n",
       "supportnotes     object\n",
       "shownotes        object\n",
       "dtype: object"
      ]
     },
     "execution_count": 14,
     "metadata": {},
     "output_type": "execute_result"
    }
   ],
   "source": [
    "# double checking out dtypes to make sure they are correct.\n",
    "cast.dtypes"
   ]
  },
  {
   "cell_type": "code",
   "execution_count": 90,
   "metadata": {},
   "outputs": [
    {
     "data": {
      "text/plain": [
       "array(['Scott Porter', 'Connie Britton', 'Amanda Seyfried',\n",
       "       'Siobhan Finneran'], dtype=object)"
      ]
     },
     "execution_count": 90,
     "metadata": {},
     "output_type": "execute_result"
    }
   ],
   "source": [
    "cast[(cast['ShowStart'] > 2005) & (cast['Score'] > 7)].Performer.unique()"
   ]
  },
  {
   "cell_type": "code",
   "execution_count": 50,
   "metadata": {},
   "outputs": [],
   "source": [
    "mask = (cast['ShowStart'] < 1995) & (cast['Performer'] == 'Steven Hill')"
   ]
  },
  {
   "cell_type": "code",
   "execution_count": 51,
   "metadata": {},
   "outputs": [
    {
     "data": {
      "text/html": [
       "<div>\n",
       "<style scoped>\n",
       "    .dataframe tbody tr th:only-of-type {\n",
       "        vertical-align: middle;\n",
       "    }\n",
       "\n",
       "    .dataframe tbody tr th {\n",
       "        vertical-align: top;\n",
       "    }\n",
       "\n",
       "    .dataframe thead th {\n",
       "        text-align: right;\n",
       "    }\n",
       "</style>\n",
       "<table border=\"1\" class=\"dataframe\">\n",
       "  <thead>\n",
       "    <tr style=\"text-align: right;\">\n",
       "      <th></th>\n",
       "      <th>Performer</th>\n",
       "      <th>Show</th>\n",
       "      <th>ShowStart</th>\n",
       "      <th>ShowEnd</th>\n",
       "      <th>Status</th>\n",
       "      <th>CharEnd</th>\n",
       "      <th>YearsSince</th>\n",
       "      <th>LEAD</th>\n",
       "      <th>SUPPORT</th>\n",
       "      <th>Shows</th>\n",
       "      <th>Score</th>\n",
       "      <th>ScoreY</th>\n",
       "      <th>leadnotes</th>\n",
       "      <th>supportnotes</th>\n",
       "      <th>shownotes</th>\n",
       "    </tr>\n",
       "  </thead>\n",
       "  <tbody>\n",
       "    <tr>\n",
       "      <th>0</th>\n",
       "      <td>Steven Hill</td>\n",
       "      <td>Law &amp; Order</td>\n",
       "      <td>1990</td>\n",
       "      <td>2010</td>\n",
       "      <td>END</td>\n",
       "      <td>2000</td>\n",
       "      <td>15</td>\n",
       "      <td>0</td>\n",
       "      <td>0</td>\n",
       "      <td>0</td>\n",
       "      <td>0.0</td>\n",
       "      <td>0</td>\n",
       "      <td>NaN</td>\n",
       "      <td>NaN</td>\n",
       "      <td>NaN</td>\n",
       "    </tr>\n",
       "  </tbody>\n",
       "</table>\n",
       "</div>"
      ],
      "text/plain": [
       "     Performer         Show  ShowStart ShowEnd Status  CharEnd  YearsSince  \\\n",
       "0  Steven Hill  Law & Order       1990    2010    END     2000          15   \n",
       "\n",
       "   LEAD  SUPPORT  Shows  Score ScoreY leadnotes supportnotes shownotes  \n",
       "0     0        0      0    0.0      0       NaN          NaN       NaN  "
      ]
     },
     "execution_count": 51,
     "metadata": {},
     "output_type": "execute_result"
    }
   ],
   "source": [
    "cast[mask]"
   ]
  },
  {
   "cell_type": "code",
   "execution_count": null,
   "metadata": {},
   "outputs": [],
   "source": []
  },
  {
   "cell_type": "code",
   "execution_count": null,
   "metadata": {},
   "outputs": [],
   "source": []
  },
  {
   "cell_type": "markdown",
   "metadata": {},
   "source": [
    "#### 7. Select the `performer` and `show` columns for the 20th-25th LABELED rows."
   ]
  },
  {
   "cell_type": "code",
   "execution_count": 16,
   "metadata": {
    "scrolled": true
   },
   "outputs": [
    {
     "data": {
      "text/html": [
       "<div>\n",
       "<style scoped>\n",
       "    .dataframe tbody tr th:only-of-type {\n",
       "        vertical-align: middle;\n",
       "    }\n",
       "\n",
       "    .dataframe tbody tr th {\n",
       "        vertical-align: top;\n",
       "    }\n",
       "\n",
       "    .dataframe thead th {\n",
       "        text-align: right;\n",
       "    }\n",
       "</style>\n",
       "<table border=\"1\" class=\"dataframe\">\n",
       "  <thead>\n",
       "    <tr style=\"text-align: right;\">\n",
       "      <th></th>\n",
       "      <th>Show</th>\n",
       "      <th>Performer</th>\n",
       "    </tr>\n",
       "  </thead>\n",
       "  <tbody>\n",
       "    <tr>\n",
       "      <th>20</th>\n",
       "      <td>Joan of Arcadia</td>\n",
       "      <td>Mary Steenburgen</td>\n",
       "    </tr>\n",
       "    <tr>\n",
       "      <th>21</th>\n",
       "      <td>Six Feet Under</td>\n",
       "      <td>Mathew St. Patrick</td>\n",
       "    </tr>\n",
       "    <tr>\n",
       "      <th>22</th>\n",
       "      <td>Joan of Arcadia</td>\n",
       "      <td>Michael Welch</td>\n",
       "    </tr>\n",
       "    <tr>\n",
       "      <th>23</th>\n",
       "      <td>Joan of Arcadia</td>\n",
       "      <td>Aaron Himelstein</td>\n",
       "    </tr>\n",
       "    <tr>\n",
       "      <th>24</th>\n",
       "      <td>Joan of Arcadia</td>\n",
       "      <td>Becky Wahlstrom</td>\n",
       "    </tr>\n",
       "    <tr>\n",
       "      <th>25</th>\n",
       "      <td>Joan of Arcadia</td>\n",
       "      <td>Chris Marquette</td>\n",
       "    </tr>\n",
       "  </tbody>\n",
       "</table>\n",
       "</div>"
      ],
      "text/plain": [
       "               Show           Performer\n",
       "20  Joan of Arcadia    Mary Steenburgen\n",
       "21   Six Feet Under  Mathew St. Patrick\n",
       "22  Joan of Arcadia       Michael Welch\n",
       "23  Joan of Arcadia    Aaron Himelstein\n",
       "24  Joan of Arcadia     Becky Wahlstrom\n",
       "25  Joan of Arcadia     Chris Marquette"
      ]
     },
     "execution_count": 16,
     "metadata": {},
     "output_type": "execute_result"
    }
   ],
   "source": [
    "cast.loc[20:25, ['Show', 'Performer']]"
   ]
  },
  {
   "cell_type": "code",
   "execution_count": 53,
   "metadata": {},
   "outputs": [
    {
     "data": {
      "text/html": [
       "<div>\n",
       "<style scoped>\n",
       "    .dataframe tbody tr th:only-of-type {\n",
       "        vertical-align: middle;\n",
       "    }\n",
       "\n",
       "    .dataframe tbody tr th {\n",
       "        vertical-align: top;\n",
       "    }\n",
       "\n",
       "    .dataframe thead th {\n",
       "        text-align: right;\n",
       "    }\n",
       "</style>\n",
       "<table border=\"1\" class=\"dataframe\">\n",
       "  <thead>\n",
       "    <tr style=\"text-align: right;\">\n",
       "      <th></th>\n",
       "      <th>Status</th>\n",
       "      <th>CharEnd</th>\n",
       "    </tr>\n",
       "  </thead>\n",
       "  <tbody>\n",
       "    <tr>\n",
       "      <th>20</th>\n",
       "      <td>END</td>\n",
       "      <td>2005</td>\n",
       "    </tr>\n",
       "    <tr>\n",
       "      <th>21</th>\n",
       "      <td>END</td>\n",
       "      <td>2005</td>\n",
       "    </tr>\n",
       "    <tr>\n",
       "      <th>22</th>\n",
       "      <td>END</td>\n",
       "      <td>2005</td>\n",
       "    </tr>\n",
       "    <tr>\n",
       "      <th>23</th>\n",
       "      <td>END</td>\n",
       "      <td>2005</td>\n",
       "    </tr>\n",
       "    <tr>\n",
       "      <th>24</th>\n",
       "      <td>END</td>\n",
       "      <td>2005</td>\n",
       "    </tr>\n",
       "  </tbody>\n",
       "</table>\n",
       "</div>"
      ],
      "text/plain": [
       "   Status  CharEnd\n",
       "20    END     2005\n",
       "21    END     2005\n",
       "22    END     2005\n",
       "23    END     2005\n",
       "24    END     2005"
      ]
     },
     "execution_count": 53,
     "metadata": {},
     "output_type": "execute_result"
    }
   ],
   "source": [
    "cast.iloc[20:25,4:6]"
   ]
  },
  {
   "cell_type": "markdown",
   "metadata": {},
   "source": [
    "#### 8. Plot a histogram of score."
   ]
  },
  {
   "cell_type": "code",
   "execution_count": 58,
   "metadata": {},
   "outputs": [
    {
     "data": {
      "image/png": "[encoded data removed]",
      "text/plain": [
       "<Figure size 432x288 with 1 Axes>"
      ]
     },
     "metadata": {
      "image/png": {
       "height": 275,
       "width": 389
      },
      "needs_background": "light"
     },
     "output_type": "display_data"
    }
   ],
   "source": [
    "cast[['Score']].hist()\n",
    "plt.show()"
   ]
  },
  {
   "cell_type": "markdown",
   "metadata": {},
   "source": [
    "### B. Explore San Francisco Crime Data\n",
    "\n",
    "--- \n",
    "\n",
    "**9. Load the San Francisco crime data set into a DataFrame.**"
   ]
  },
  {
   "cell_type": "code",
   "execution_count": 63,
   "metadata": {},
   "outputs": [],
   "source": [
    "crime_csv = '../../../../../resource-datasets/sf_crime/sf_crime_sample.csv'"
   ]
  },
  {
   "cell_type": "code",
   "execution_count": 64,
   "metadata": {},
   "outputs": [],
   "source": [
    "crime = pd.read_csv(crime_csv)"
   ]
  },
  {
   "cell_type": "markdown",
   "metadata": {},
   "source": [
    "**10. Look at the dimensions of the crime data.**"
   ]
  },
  {
   "cell_type": "code",
   "execution_count": 65,
   "metadata": {},
   "outputs": [
    {
     "data": {
      "text/plain": [
       "(25000, 9)"
      ]
     },
     "execution_count": 65,
     "metadata": {},
     "output_type": "execute_result"
    }
   ],
   "source": [
    "crime.shape"
   ]
  },
  {
   "cell_type": "markdown",
   "metadata": {},
   "source": [
    "**11. Look at the data types of the columns and print out the column names.**"
   ]
  },
  {
   "cell_type": "code",
   "execution_count": 66,
   "metadata": {},
   "outputs": [
    {
     "data": {
      "text/plain": [
       "Dates          object\n",
       "Category       object\n",
       "Descript       object\n",
       "DayOfWeek      object\n",
       "PdDistrict     object\n",
       "Resolution     object\n",
       "Address        object\n",
       "X             float64\n",
       "Y             float64\n",
       "dtype: object"
      ]
     },
     "execution_count": 66,
     "metadata": {},
     "output_type": "execute_result"
    }
   ],
   "source": [
    "crime.dtypes"
   ]
  },
  {
   "cell_type": "code",
   "execution_count": 67,
   "metadata": {},
   "outputs": [
    {
     "data": {
      "text/plain": [
       "Index(['Dates', 'Category', 'Descript', 'DayOfWeek', 'PdDistrict',\n",
       "       'Resolution', 'Address', 'X', 'Y'],\n",
       "      dtype='object')"
      ]
     },
     "execution_count": 67,
     "metadata": {},
     "output_type": "execute_result"
    }
   ],
   "source": [
    "crime.columns"
   ]
  },
  {
   "cell_type": "code",
   "execution_count": 71,
   "metadata": {},
   "outputs": [
    {
     "data": {
      "text/html": [
       "<div>\n",
       "<style scoped>\n",
       "    .dataframe tbody tr th:only-of-type {\n",
       "        vertical-align: middle;\n",
       "    }\n",
       "\n",
       "    .dataframe tbody tr th {\n",
       "        vertical-align: top;\n",
       "    }\n",
       "\n",
       "    .dataframe thead th {\n",
       "        text-align: right;\n",
       "    }\n",
       "</style>\n",
       "<table border=\"1\" class=\"dataframe\">\n",
       "  <thead>\n",
       "    <tr style=\"text-align: right;\">\n",
       "      <th></th>\n",
       "      <th>Dates</th>\n",
       "      <th>Category</th>\n",
       "      <th>Descript</th>\n",
       "      <th>DayOfWeek</th>\n",
       "      <th>PdDistrict</th>\n",
       "      <th>Resolution</th>\n",
       "      <th>Address</th>\n",
       "      <th>X</th>\n",
       "      <th>Y</th>\n",
       "    </tr>\n",
       "  </thead>\n",
       "  <tbody>\n",
       "    <tr>\n",
       "      <th>0</th>\n",
       "      <td>2003-03-23 23:27:00</td>\n",
       "      <td>ARSON</td>\n",
       "      <td>ARSON OF A VEHICLE</td>\n",
       "      <td>Sunday</td>\n",
       "      <td>BAYVIEW</td>\n",
       "      <td>NONE</td>\n",
       "      <td>0 Block of HUNTERS PT EXPWY EX</td>\n",
       "      <td>-122.376945</td>\n",
       "      <td>37.733018</td>\n",
       "    </tr>\n",
       "    <tr>\n",
       "      <th>1</th>\n",
       "      <td>2006-03-07 06:45:00</td>\n",
       "      <td>LARCENY/THEFT</td>\n",
       "      <td>PETTY THEFT FROM LOCKED AUTO</td>\n",
       "      <td>Tuesday</td>\n",
       "      <td>NORTHERN</td>\n",
       "      <td>NONE</td>\n",
       "      <td>0 Block of MARINA BL</td>\n",
       "      <td>-122.432952</td>\n",
       "      <td>37.805052</td>\n",
       "    </tr>\n",
       "    <tr>\n",
       "      <th>2</th>\n",
       "      <td>2004-03-06 03:00:00</td>\n",
       "      <td>NON-CRIMINAL</td>\n",
       "      <td>LOST PROPERTY</td>\n",
       "      <td>Saturday</td>\n",
       "      <td>SOUTHERN</td>\n",
       "      <td>NONE</td>\n",
       "      <td>800 Block of BRYANT ST</td>\n",
       "      <td>-122.403405</td>\n",
       "      <td>37.775421</td>\n",
       "    </tr>\n",
       "  </tbody>\n",
       "</table>\n",
       "</div>"
      ],
      "text/plain": [
       "                 Dates       Category                      Descript DayOfWeek  \\\n",
       "0  2003-03-23 23:27:00          ARSON            ARSON OF A VEHICLE    Sunday   \n",
       "1  2006-03-07 06:45:00  LARCENY/THEFT  PETTY THEFT FROM LOCKED AUTO   Tuesday   \n",
       "2  2004-03-06 03:00:00   NON-CRIMINAL                 LOST PROPERTY  Saturday   \n",
       "\n",
       "  PdDistrict Resolution                         Address           X          Y  \n",
       "0    BAYVIEW       NONE  0 Block of HUNTERS PT EXPWY EX -122.376945  37.733018  \n",
       "1   NORTHERN       NONE            0 Block of MARINA BL -122.432952  37.805052  \n",
       "2   SOUTHERN       NONE          800 Block of BRYANT ST -122.403405  37.775421  "
      ]
     },
     "execution_count": 71,
     "metadata": {},
     "output_type": "execute_result"
    }
   ],
   "source": [
    "crime.head(3)"
   ]
  },
  {
   "cell_type": "markdown",
   "metadata": {},
   "source": [
    "**12. How many distinct districts are there?**\n",
    "\n",
    "Hint: You can use the command `.unique()` on any pandas series."
   ]
  },
  {
   "cell_type": "code",
   "execution_count": 69,
   "metadata": {},
   "outputs": [
    {
     "name": "stdout",
     "output_type": "stream",
     "text": [
      "['BAYVIEW' 'NORTHERN' 'SOUTHERN' 'TARAVAL' 'MISSION' 'INGLESIDE' 'CENTRAL'\n",
      " 'TENDERLOIN' 'RICHMOND' 'PARK']\n",
      "10\n"
     ]
    }
   ],
   "source": [
    "print(crime.PdDistrict.unique())\n",
    "print(len(crime.PdDistrict.unique()))"
   ]
  },
  {
   "cell_type": "code",
   "execution_count": 72,
   "metadata": {},
   "outputs": [
    {
     "data": {
      "text/plain": [
       "array(['Sunday', 'Tuesday', 'Saturday', 'Friday', 'Monday', 'Wednesday',\n",
       "       'Thursday'], dtype=object)"
      ]
     },
     "execution_count": 72,
     "metadata": {},
     "output_type": "execute_result"
    }
   ],
   "source": [
    "crime.DayOfWeek.unique()"
   ]
  },
  {
   "cell_type": "markdown",
   "metadata": {},
   "source": [
    "**13. Which day of the week has the most crime?**"
   ]
  },
  {
   "cell_type": "code",
   "execution_count": 84,
   "metadata": {},
   "outputs": [
    {
     "name": "stdout",
     "output_type": "stream",
     "text": [
      "Sunday 3313\n",
      "Tuesday 3548\n",
      "Saturday 3496\n",
      "Friday 3883\n",
      "Monday 3524\n",
      "Wednesday 3657\n",
      "Thursday 3579\n"
     ]
    }
   ],
   "source": [
    "for day in crime.DayOfWeek.unique():\n",
    "    print(day, crime[crime.DayOfWeek == day].shape[0])"
   ]
  },
  {
   "cell_type": "code",
   "execution_count": 86,
   "metadata": {},
   "outputs": [
    {
     "name": "stdout",
     "output_type": "stream",
     "text": [
      "Sunday 3313\n",
      "Tuesday 3548\n",
      "Saturday 3496\n",
      "Friday 3883\n",
      "Monday 3524\n",
      "Wednesday 3657\n",
      "Thursday 3579\n"
     ]
    }
   ],
   "source": [
    "for day in crime.DayOfWeek.unique():\n",
    "    print(day, crime[crime.DayOfWeek == day].shape[0])"
   ]
  },
  {
   "cell_type": "code",
   "execution_count": 87,
   "metadata": {},
   "outputs": [],
   "source": [
    "ddd=[crime[crime.DayOfWeek == day].shape[0] for day in crime.DayOfWeek.unique()]"
   ]
  },
  {
   "cell_type": "code",
   "execution_count": 89,
   "metadata": {},
   "outputs": [
    {
     "name": "stdout",
     "output_type": "stream",
     "text": [
      "      0\n",
      "0  3313\n",
      "1  3548\n",
      "2  3496\n",
      "3  3883\n",
      "4  3524\n",
      "5  3657\n",
      "6  3579\n"
     ]
    }
   ],
   "source": [
    "print(pd.DataFrame(ddd))"
   ]
  },
  {
   "cell_type": "code",
   "execution_count": 25,
   "metadata": {},
   "outputs": [],
   "source": [
    "# Friday has the most crime."
   ]
  },
  {
   "cell_type": "markdown",
   "metadata": {},
   "source": [
    "#### 14. Make a new DataFrame featuring the crime categories and the number of crimes per category."
   ]
  },
  {
   "cell_type": "code",
   "execution_count": 26,
   "metadata": {},
   "outputs": [
    {
     "name": "stdout",
     "output_type": "stream",
     "text": [
      "   crime_category  crimes\n",
      "0           ARSON      52\n",
      "1   LARCENY/THEFT    4934\n",
      "2    NON-CRIMINAL    2601\n",
      "3        BURGLARY    1023\n",
      "4  SUSPICIOUS OCC     891\n"
     ]
    }
   ],
   "source": [
    "categories = crime.Category.unique()\n",
    "counts = [crime[crime['Category'] == cat].shape[0] for cat in categories]\n",
    "categories = pd.DataFrame({'crime_category': categories, 'crimes': counts})\n",
    "print(categories.head())"
   ]
  },
  {
   "cell_type": "markdown",
   "metadata": {},
   "source": [
    "**15. Make a DataFrame that includes the districts and crime counts per district. Which district has the most crime?**\n",
    "\n",
    "*Hint: You can use the `.sort_values()` function to sort your DataFrame by column.*"
   ]
  },
  {
   "cell_type": "code",
   "execution_count": 27,
   "metadata": {},
   "outputs": [
    {
     "name": "stdout",
     "output_type": "stream",
     "text": [
      "   district  crimes\n",
      "0   BAYVIEW    2555\n",
      "1  NORTHERN    3076\n",
      "2  SOUTHERN    4413\n",
      "3   TARAVAL    1804\n",
      "4   MISSION    3416\n"
     ]
    }
   ],
   "source": [
    "districts = crime.PdDistrict.unique()\n",
    "counts = [crime[crime['PdDistrict'] == district].shape[0]\n",
    "          for district in districts]\n",
    "districts = pd.DataFrame({'district': districts, 'crimes': counts})\n",
    "print(districts.head())"
   ]
  },
  {
   "cell_type": "code",
   "execution_count": 28,
   "metadata": {},
   "outputs": [
    {
     "data": {
      "text/html": [
       "<div>\n",
       "<style scoped>\n",
       "    .dataframe tbody tr th:only-of-type {\n",
       "        vertical-align: middle;\n",
       "    }\n",
       "\n",
       "    .dataframe tbody tr th {\n",
       "        vertical-align: top;\n",
       "    }\n",
       "\n",
       "    .dataframe thead th {\n",
       "        text-align: right;\n",
       "    }\n",
       "</style>\n",
       "<table border=\"1\" class=\"dataframe\">\n",
       "  <thead>\n",
       "    <tr style=\"text-align: right;\">\n",
       "      <th></th>\n",
       "      <th>district</th>\n",
       "      <th>crimes</th>\n",
       "    </tr>\n",
       "  </thead>\n",
       "  <tbody>\n",
       "    <tr>\n",
       "      <th>2</th>\n",
       "      <td>SOUTHERN</td>\n",
       "      <td>4413</td>\n",
       "    </tr>\n",
       "    <tr>\n",
       "      <th>4</th>\n",
       "      <td>MISSION</td>\n",
       "      <td>3416</td>\n",
       "    </tr>\n",
       "    <tr>\n",
       "      <th>1</th>\n",
       "      <td>NORTHERN</td>\n",
       "      <td>3076</td>\n",
       "    </tr>\n",
       "    <tr>\n",
       "      <th>0</th>\n",
       "      <td>BAYVIEW</td>\n",
       "      <td>2555</td>\n",
       "    </tr>\n",
       "    <tr>\n",
       "      <th>6</th>\n",
       "      <td>CENTRAL</td>\n",
       "      <td>2424</td>\n",
       "    </tr>\n",
       "  </tbody>\n",
       "</table>\n",
       "</div>"
      ],
      "text/plain": [
       "   district  crimes\n",
       "2  SOUTHERN    4413\n",
       "4   MISSION    3416\n",
       "1  NORTHERN    3076\n",
       "0   BAYVIEW    2555\n",
       "6   CENTRAL    2424"
      ]
     },
     "execution_count": 28,
     "metadata": {},
     "output_type": "execute_result"
    }
   ],
   "source": [
    "districts.sort_values('crimes', ascending=False).head()"
   ]
  },
  {
   "cell_type": "code",
   "execution_count": 29,
   "metadata": {},
   "outputs": [
    {
     "data": {
      "text/html": [
       "<div>\n",
       "<style scoped>\n",
       "    .dataframe tbody tr th:only-of-type {\n",
       "        vertical-align: middle;\n",
       "    }\n",
       "\n",
       "    .dataframe tbody tr th {\n",
       "        vertical-align: top;\n",
       "    }\n",
       "\n",
       "    .dataframe thead th {\n",
       "        text-align: right;\n",
       "    }\n",
       "</style>\n",
       "<table border=\"1\" class=\"dataframe\">\n",
       "  <thead>\n",
       "    <tr style=\"text-align: right;\">\n",
       "      <th></th>\n",
       "      <th>PdDistrict</th>\n",
       "    </tr>\n",
       "  </thead>\n",
       "  <tbody>\n",
       "    <tr>\n",
       "      <th>SOUTHERN</th>\n",
       "      <td>4413</td>\n",
       "    </tr>\n",
       "    <tr>\n",
       "      <th>MISSION</th>\n",
       "      <td>3416</td>\n",
       "    </tr>\n",
       "    <tr>\n",
       "      <th>NORTHERN</th>\n",
       "      <td>3076</td>\n",
       "    </tr>\n",
       "    <tr>\n",
       "      <th>BAYVIEW</th>\n",
       "      <td>2555</td>\n",
       "    </tr>\n",
       "    <tr>\n",
       "      <th>CENTRAL</th>\n",
       "      <td>2424</td>\n",
       "    </tr>\n",
       "    <tr>\n",
       "      <th>TENDERLOIN</th>\n",
       "      <td>2336</td>\n",
       "    </tr>\n",
       "    <tr>\n",
       "      <th>INGLESIDE</th>\n",
       "      <td>2256</td>\n",
       "    </tr>\n",
       "    <tr>\n",
       "      <th>TARAVAL</th>\n",
       "      <td>1804</td>\n",
       "    </tr>\n",
       "    <tr>\n",
       "      <th>PARK</th>\n",
       "      <td>1438</td>\n",
       "    </tr>\n",
       "    <tr>\n",
       "      <th>RICHMOND</th>\n",
       "      <td>1282</td>\n",
       "    </tr>\n",
       "  </tbody>\n",
       "</table>\n",
       "</div>"
      ],
      "text/plain": [
       "            PdDistrict\n",
       "SOUTHERN          4413\n",
       "MISSION           3416\n",
       "NORTHERN          3076\n",
       "BAYVIEW           2555\n",
       "CENTRAL           2424\n",
       "TENDERLOIN        2336\n",
       "INGLESIDE         2256\n",
       "TARAVAL           1804\n",
       "PARK              1438\n",
       "RICHMOND          1282"
      ]
     },
     "execution_count": 29,
     "metadata": {},
     "output_type": "execute_result"
    }
   ],
   "source": [
    "pd.DataFrame(crime.PdDistrict.value_counts())"
   ]
  },
  {
   "cell_type": "code",
   "execution_count": null,
   "metadata": {},
   "outputs": [],
   "source": []
  },
  {
   "cell_type": "code",
   "execution_count": null,
   "metadata": {},
   "outputs": [],
   "source": []
  },
  {
   "cell_type": "code",
   "execution_count": null,
   "metadata": {},
   "outputs": [],
   "source": []
  },
  {
   "cell_type": "code",
   "execution_count": null,
   "metadata": {},
   "outputs": [],
   "source": []
  }
 ],
 "metadata": {
  "anaconda-cloud": {},
  "kernelspec": {
   "display_name": "Python 3",
   "language": "python",
   "name": "python3"
  },
  "language_info": {
   "codemirror_mode": {
    "name": "ipython",
    "version": 3
   },
   "file_extension": ".py",
   "mimetype": "text/x-python",
   "name": "python",
   "nbconvert_exporter": "python",
   "pygments_lexer": "ipython3",
   "version": "3.7.3"
  },
  "toc": {
   "base_numbering": 1,
   "nav_menu": {},
   "number_sections": false,
   "sideBar": true,
   "skip_h1_title": false,
   "title_cell": "Table of Contents",
   "title_sidebar": "Contents",
   "toc_cell": false,
   "toc_position": {},
   "toc_section_display": true,
   "toc_window_display": false
  },
  "varInspector": {
   "cols": {
    "lenName": 16,
    "lenType": 16,
    "lenVar": 40
   },
   "kernels_config": {
    "python": {
     "delete_cmd_postfix": "",
     "delete_cmd_prefix": "del ",
     "library": "var_list.py",
     "varRefreshCmd": "print(var_dic_list())"
    },
    "r": {
     "delete_cmd_postfix": ") ",
     "delete_cmd_prefix": "rm(",
     "library": "var_list.r",
     "varRefreshCmd": "cat(var_dic_list()) "
    }
   },
   "types_to_exclude": [
    "module",
    "function",
    "builtin_function_or_method",
    "instance",
    "_Feature"
   ],
   "window_display": false
  }
 },
 "nbformat": 4,
 "nbformat_minor": 1
}
