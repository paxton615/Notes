{
 "cells": [
  {
   "cell_type": "markdown",
   "metadata": {},
   "source": [
    "<img src=\"http://imgur.com/1ZcRyrc.png\" style=\"float: left; margin: 20px; height: 55px\">\n",
    "\n",
    "# Pandas joins lab\n",
    "\n",
    "---"
   ]
  },
  {
   "cell_type": "markdown",
   "metadata": {},
   "source": [
    "In this lab we want to obtain more practice of extracting information from dataframes and joining different dataframes."
   ]
  },
  {
   "cell_type": "markdown",
   "metadata": {
    "toc": true
   },
   "source": [
    "<h1>Table of Contents<span class=\"tocSkip\"></span></h1>\n",
    "<div class=\"toc\"><ul class=\"toc-item\"><li><span><a href=\"#1.--Read-in-the-EuroMart-CSV-Data\" data-toc-modified-id=\"1.--Read-in-the-EuroMart-CSV-Data-1\">1.  Read in the EuroMart CSV Data</a></span></li><li><span><a href=\"#2.-Inspect-the-column-names-of-the-dataframes\" data-toc-modified-id=\"2.-Inspect-the-column-names-of-the-dataframes-2\">2. Inspect the column names of the dataframes</a></span></li><li><span><a href=\"#3.-Inspect-the-shapes-of-the-dataframes\" data-toc-modified-id=\"3.-Inspect-the-shapes-of-the-dataframes-3\">3. Inspect the shapes of the dataframes</a></span></li><li><span><a href=\"#4.-Rename-columns-to-remove-any-spaces-in-the-names\" data-toc-modified-id=\"4.-Rename-columns-to-remove-any-spaces-in-the-names-4\">4. Rename columns to remove any spaces in the names</a></span></li><li><span><a href=\"#5.-Inspect-the-top-of-the-dataframes\" data-toc-modified-id=\"5.-Inspect-the-top-of-the-dataframes-5\">5. Inspect the top of the dataframes</a></span></li><li><span><a href=\"#6.-How-many-orders-has-each-Customer-placed?-How-many-have-placed-more-than-ten-orders?\" data-toc-modified-id=\"6.-How-many-orders-has-each-Customer-placed?-How-many-have-placed-more-than-ten-orders?-6\">6. How many orders has each Customer placed? How many have placed more than ten orders?</a></span></li><li><span><a href=\"#7.-From-the-table-of-orders,-subset-on-the-columns-containing-geographical-information-and-sort-by-country.\" data-toc-modified-id=\"7.-From-the-table-of-orders,-subset-on-the-columns-containing-geographical-information-and-sort-by-country.-7\">7. From the table of orders, subset on the columns containing geographical information and sort by country.</a></span></li><li><span><a href=\"#8.-Use-a-join-to-return-a-table-with-the-Customer-Name-and-Product-Name.\" data-toc-modified-id=\"8.-Use-a-join-to-return-a-table-with-the-Customer-Name-and-Product-Name.-8\">8. Use a join to return a table with the Customer Name and Product Name.</a></span></li><li><span><a href=\"#9.--How-many-orders-for-&quot;Office-Supplies&quot;-(Category)-has-Sweden-made?\" data-toc-modified-id=\"9.--How-many-orders-for-&quot;Office-Supplies&quot;-(Category)-has-Sweden-made?-9\">9.  How many orders for \"Office Supplies\" (Category) has Sweden made?</a></span></li><li><span><a href=\"#10.-What-is-the-total-quantity-of-objects-sold-for-Sweden?\" data-toc-modified-id=\"10.-What-is-the-total-quantity-of-objects-sold-for-Sweden?-10\">10. What is the total quantity of objects sold for Sweden?</a></span></li><li><span><a href=\"#11.-What-Shipping-method-is-most-common-for-'Bookcases'-(Sub-Category)\" data-toc-modified-id=\"11.-What-Shipping-method-is-most-common-for-'Bookcases'-(Sub-Category)-11\">11. What Shipping method is most common for 'Bookcases' (Sub Category)</a></span></li></ul></div>"
   ]
  },
  {
   "cell_type": "code",
   "execution_count": 19,
   "metadata": {},
   "outputs": [],
   "source": [
    "# Necessary Libraries\n",
    "import pandas as pd"
   ]
  },
  {
   "cell_type": "markdown",
   "metadata": {},
   "source": [
    "### 1.  Read in the EuroMart CSV Data\n",
    "- 'EuroMart-ListOfOrders.csv'\n",
    "- 'EuroMart-OrderBreakdown.csv'"
   ]
  },
  {
   "cell_type": "code",
   "execution_count": 20,
   "metadata": {},
   "outputs": [],
   "source": [
    "# Reading CSV to Dataframe\n",
    "orders = pd.read_csv('../datasets/csv/EuroMart-ListOfOrders.csv')\n",
    "OBD = pd.read_csv('../datasets/csv/EuroMart-OrderBreakdown.csv')"
   ]
  },
  {
   "cell_type": "markdown",
   "metadata": {},
   "source": [
    "### 2. Inspect the column names of the dataframes"
   ]
  },
  {
   "cell_type": "code",
   "execution_count": 21,
   "metadata": {},
   "outputs": [
    {
     "data": {
      "text/plain": [
       "Index(['Order ID', 'Order Date', 'Customer Name', 'City', 'Country', 'Region',\n",
       "       'Segment', 'Ship Date', 'Ship Mode', 'State'],\n",
       "      dtype='object')"
      ]
     },
     "execution_count": 21,
     "metadata": {},
     "output_type": "execute_result"
    }
   ],
   "source": [
    "orders.columns"
   ]
  },
  {
   "cell_type": "code",
   "execution_count": null,
   "metadata": {},
   "outputs": [],
   "source": [
    "order"
   ]
  },
  {
   "cell_type": "code",
   "execution_count": 22,
   "metadata": {},
   "outputs": [
    {
     "data": {
      "text/plain": [
       "Index(['Order ID', 'Product Name', 'Discount', 'Sales', 'Profit', 'Quantity',\n",
       "       'Category', 'Sub-Category'],\n",
       "      dtype='object')"
      ]
     },
     "execution_count": 22,
     "metadata": {},
     "output_type": "execute_result"
    }
   ],
   "source": [
    "OBD.columns"
   ]
  },
  {
   "cell_type": "markdown",
   "metadata": {},
   "source": [
    "### 3. Inspect the shapes of the dataframes"
   ]
  },
  {
   "cell_type": "code",
   "execution_count": 23,
   "metadata": {},
   "outputs": [
    {
     "data": {
      "text/plain": [
       "(4117, 10)"
      ]
     },
     "execution_count": 23,
     "metadata": {},
     "output_type": "execute_result"
    }
   ],
   "source": [
    "orders.shape"
   ]
  },
  {
   "cell_type": "code",
   "execution_count": 24,
   "metadata": {},
   "outputs": [
    {
     "data": {
      "text/plain": [
       "(8047, 8)"
      ]
     },
     "execution_count": 24,
     "metadata": {},
     "output_type": "execute_result"
    }
   ],
   "source": [
    "OBD.shape"
   ]
  },
  {
   "cell_type": "markdown",
   "metadata": {},
   "source": [
    "### 4. Rename columns to remove any spaces in the names"
   ]
  },
  {
   "cell_type": "code",
   "execution_count": 25,
   "metadata": {},
   "outputs": [],
   "source": [
    "orders.columns = [str.lower(col.replace(' ','_')) for col in orders.columns]\n"
   ]
  },
  {
   "cell_type": "code",
   "execution_count": 26,
   "metadata": {},
   "outputs": [],
   "source": [
    "OBD.columns = [str.lower(col.replace(' ','_')) for col in OBD.columns]"
   ]
  },
  {
   "cell_type": "markdown",
   "metadata": {},
   "source": [
    "### 5. Inspect the top of the dataframes"
   ]
  },
  {
   "cell_type": "code",
   "execution_count": 27,
   "metadata": {},
   "outputs": [
    {
     "data": {
      "text/html": [
       "<div>\n",
       "<style scoped>\n",
       "    .dataframe tbody tr th:only-of-type {\n",
       "        vertical-align: middle;\n",
       "    }\n",
       "\n",
       "    .dataframe tbody tr th {\n",
       "        vertical-align: top;\n",
       "    }\n",
       "\n",
       "    .dataframe thead th {\n",
       "        text-align: right;\n",
       "    }\n",
       "</style>\n",
       "<table border=\"1\" class=\"dataframe\">\n",
       "  <thead>\n",
       "    <tr style=\"text-align: right;\">\n",
       "      <th></th>\n",
       "      <th>order_id</th>\n",
       "      <th>order_date</th>\n",
       "      <th>customer_name</th>\n",
       "      <th>city</th>\n",
       "      <th>country</th>\n",
       "      <th>region</th>\n",
       "      <th>segment</th>\n",
       "      <th>ship_date</th>\n",
       "      <th>ship_mode</th>\n",
       "      <th>state</th>\n",
       "    </tr>\n",
       "  </thead>\n",
       "  <tbody>\n",
       "    <tr>\n",
       "      <th>0</th>\n",
       "      <td>BN-2011-7407039</td>\n",
       "      <td>1/1/2011</td>\n",
       "      <td>Ruby Patel</td>\n",
       "      <td>Stockholm</td>\n",
       "      <td>Sweden</td>\n",
       "      <td>North</td>\n",
       "      <td>Home Office</td>\n",
       "      <td>1/5/2011</td>\n",
       "      <td>Economy Plus</td>\n",
       "      <td>Stockholm</td>\n",
       "    </tr>\n",
       "    <tr>\n",
       "      <th>1</th>\n",
       "      <td>AZ-2011-9050313</td>\n",
       "      <td>1/3/2011</td>\n",
       "      <td>Summer Hayward</td>\n",
       "      <td>Southport</td>\n",
       "      <td>United Kingdom</td>\n",
       "      <td>North</td>\n",
       "      <td>Consumer</td>\n",
       "      <td>1/7/2011</td>\n",
       "      <td>Economy</td>\n",
       "      <td>England</td>\n",
       "    </tr>\n",
       "    <tr>\n",
       "      <th>2</th>\n",
       "      <td>AZ-2011-6674300</td>\n",
       "      <td>1/4/2011</td>\n",
       "      <td>Devin Huddleston</td>\n",
       "      <td>Valence</td>\n",
       "      <td>France</td>\n",
       "      <td>Central</td>\n",
       "      <td>Consumer</td>\n",
       "      <td>1/8/2011</td>\n",
       "      <td>Economy</td>\n",
       "      <td>Auvergne-Rhône-Alpes</td>\n",
       "    </tr>\n",
       "    <tr>\n",
       "      <th>3</th>\n",
       "      <td>BN-2011-2819714</td>\n",
       "      <td>1/4/2011</td>\n",
       "      <td>Mary Parker</td>\n",
       "      <td>Birmingham</td>\n",
       "      <td>United Kingdom</td>\n",
       "      <td>North</td>\n",
       "      <td>Corporate</td>\n",
       "      <td>1/9/2011</td>\n",
       "      <td>Economy</td>\n",
       "      <td>England</td>\n",
       "    </tr>\n",
       "    <tr>\n",
       "      <th>4</th>\n",
       "      <td>AZ-2011-617423</td>\n",
       "      <td>1/5/2011</td>\n",
       "      <td>Daniel Burke</td>\n",
       "      <td>Echirolles</td>\n",
       "      <td>France</td>\n",
       "      <td>Central</td>\n",
       "      <td>Home Office</td>\n",
       "      <td>1/7/2011</td>\n",
       "      <td>Priority</td>\n",
       "      <td>Auvergne-Rhône-Alpes</td>\n",
       "    </tr>\n",
       "  </tbody>\n",
       "</table>\n",
       "</div>"
      ],
      "text/plain": [
       "          order_id order_date     customer_name        city         country  \\\n",
       "0  BN-2011-7407039   1/1/2011        Ruby Patel   Stockholm          Sweden   \n",
       "1  AZ-2011-9050313   1/3/2011    Summer Hayward   Southport  United Kingdom   \n",
       "2  AZ-2011-6674300   1/4/2011  Devin Huddleston     Valence          France   \n",
       "3  BN-2011-2819714   1/4/2011       Mary Parker  Birmingham  United Kingdom   \n",
       "4   AZ-2011-617423   1/5/2011      Daniel Burke  Echirolles          France   \n",
       "\n",
       "    region      segment ship_date     ship_mode                 state  \n",
       "0    North  Home Office  1/5/2011  Economy Plus             Stockholm  \n",
       "1    North     Consumer  1/7/2011       Economy               England  \n",
       "2  Central     Consumer  1/8/2011       Economy  Auvergne-Rhône-Alpes  \n",
       "3    North    Corporate  1/9/2011       Economy               England  \n",
       "4  Central  Home Office  1/7/2011      Priority  Auvergne-Rhône-Alpes  "
      ]
     },
     "execution_count": 27,
     "metadata": {},
     "output_type": "execute_result"
    }
   ],
   "source": [
    "orders.head()"
   ]
  },
  {
   "cell_type": "code",
   "execution_count": 28,
   "metadata": {},
   "outputs": [
    {
     "data": {
      "text/html": [
       "<div>\n",
       "<style scoped>\n",
       "    .dataframe tbody tr th:only-of-type {\n",
       "        vertical-align: middle;\n",
       "    }\n",
       "\n",
       "    .dataframe tbody tr th {\n",
       "        vertical-align: top;\n",
       "    }\n",
       "\n",
       "    .dataframe thead th {\n",
       "        text-align: right;\n",
       "    }\n",
       "</style>\n",
       "<table border=\"1\" class=\"dataframe\">\n",
       "  <thead>\n",
       "    <tr style=\"text-align: right;\">\n",
       "      <th></th>\n",
       "      <th>order_id</th>\n",
       "      <th>product_name</th>\n",
       "      <th>discount</th>\n",
       "      <th>sales</th>\n",
       "      <th>profit</th>\n",
       "      <th>quantity</th>\n",
       "      <th>category</th>\n",
       "      <th>sub-category</th>\n",
       "    </tr>\n",
       "  </thead>\n",
       "  <tbody>\n",
       "    <tr>\n",
       "      <th>0</th>\n",
       "      <td>BN-2011-7407039</td>\n",
       "      <td>Enermax Note Cards, Premium</td>\n",
       "      <td>0.5</td>\n",
       "      <td>$45.00</td>\n",
       "      <td>-$26.00</td>\n",
       "      <td>3</td>\n",
       "      <td>Office Supplies</td>\n",
       "      <td>Paper</td>\n",
       "    </tr>\n",
       "    <tr>\n",
       "      <th>1</th>\n",
       "      <td>AZ-2011-9050313</td>\n",
       "      <td>Dania Corner Shelving, Traditional</td>\n",
       "      <td>0.0</td>\n",
       "      <td>$854.00</td>\n",
       "      <td>$290.00</td>\n",
       "      <td>7</td>\n",
       "      <td>Furniture</td>\n",
       "      <td>Bookcases</td>\n",
       "    </tr>\n",
       "    <tr>\n",
       "      <th>2</th>\n",
       "      <td>AZ-2011-6674300</td>\n",
       "      <td>Binney &amp; Smith Sketch Pad, Easy-Erase</td>\n",
       "      <td>0.0</td>\n",
       "      <td>$140.00</td>\n",
       "      <td>$21.00</td>\n",
       "      <td>3</td>\n",
       "      <td>Office Supplies</td>\n",
       "      <td>Art</td>\n",
       "    </tr>\n",
       "    <tr>\n",
       "      <th>3</th>\n",
       "      <td>BN-2011-2819714</td>\n",
       "      <td>Boston Markers, Easy-Erase</td>\n",
       "      <td>0.5</td>\n",
       "      <td>$27.00</td>\n",
       "      <td>-$22.00</td>\n",
       "      <td>2</td>\n",
       "      <td>Office Supplies</td>\n",
       "      <td>Art</td>\n",
       "    </tr>\n",
       "    <tr>\n",
       "      <th>4</th>\n",
       "      <td>BN-2011-2819714</td>\n",
       "      <td>Eldon Folders, Single Width</td>\n",
       "      <td>0.5</td>\n",
       "      <td>$17.00</td>\n",
       "      <td>-$1.00</td>\n",
       "      <td>2</td>\n",
       "      <td>Office Supplies</td>\n",
       "      <td>Storage</td>\n",
       "    </tr>\n",
       "    <tr>\n",
       "      <th>5</th>\n",
       "      <td>AZ-2011-617423</td>\n",
       "      <td>Binney &amp; Smith Pencil Sharpener, Water Color</td>\n",
       "      <td>0.0</td>\n",
       "      <td>$90.00</td>\n",
       "      <td>$21.00</td>\n",
       "      <td>3</td>\n",
       "      <td>Office Supplies</td>\n",
       "      <td>Art</td>\n",
       "    </tr>\n",
       "    <tr>\n",
       "      <th>6</th>\n",
       "      <td>AZ-2011-617423</td>\n",
       "      <td>Sanford Canvas, Fluorescent</td>\n",
       "      <td>0.0</td>\n",
       "      <td>$207.00</td>\n",
       "      <td>$77.00</td>\n",
       "      <td>4</td>\n",
       "      <td>Office Supplies</td>\n",
       "      <td>Art</td>\n",
       "    </tr>\n",
       "    <tr>\n",
       "      <th>7</th>\n",
       "      <td>AZ-2011-2918397</td>\n",
       "      <td>Bush Floating Shelf Set, Pine</td>\n",
       "      <td>0.1</td>\n",
       "      <td>$155.00</td>\n",
       "      <td>$36.00</td>\n",
       "      <td>1</td>\n",
       "      <td>Furniture</td>\n",
       "      <td>Bookcases</td>\n",
       "    </tr>\n",
       "    <tr>\n",
       "      <th>8</th>\n",
       "      <td>AZ-2011-2918397</td>\n",
       "      <td>Accos Thumb Tacks, Assorted Sizes</td>\n",
       "      <td>0.0</td>\n",
       "      <td>$33.00</td>\n",
       "      <td>$2.00</td>\n",
       "      <td>3</td>\n",
       "      <td>Office Supplies</td>\n",
       "      <td>Fasteners</td>\n",
       "    </tr>\n",
       "    <tr>\n",
       "      <th>9</th>\n",
       "      <td>AZ-2011-2918397</td>\n",
       "      <td>Smead Lockers, Industrial</td>\n",
       "      <td>0.1</td>\n",
       "      <td>$716.00</td>\n",
       "      <td>$143.00</td>\n",
       "      <td>4</td>\n",
       "      <td>Office Supplies</td>\n",
       "      <td>Storage</td>\n",
       "    </tr>\n",
       "  </tbody>\n",
       "</table>\n",
       "</div>"
      ],
      "text/plain": [
       "          order_id                                  product_name  discount  \\\n",
       "0  BN-2011-7407039                   Enermax Note Cards, Premium       0.5   \n",
       "1  AZ-2011-9050313            Dania Corner Shelving, Traditional       0.0   \n",
       "2  AZ-2011-6674300         Binney & Smith Sketch Pad, Easy-Erase       0.0   \n",
       "3  BN-2011-2819714                    Boston Markers, Easy-Erase       0.5   \n",
       "4  BN-2011-2819714                   Eldon Folders, Single Width       0.5   \n",
       "5   AZ-2011-617423  Binney & Smith Pencil Sharpener, Water Color       0.0   \n",
       "6   AZ-2011-617423                   Sanford Canvas, Fluorescent       0.0   \n",
       "7  AZ-2011-2918397                 Bush Floating Shelf Set, Pine       0.1   \n",
       "8  AZ-2011-2918397             Accos Thumb Tacks, Assorted Sizes       0.0   \n",
       "9  AZ-2011-2918397                     Smead Lockers, Industrial       0.1   \n",
       "\n",
       "     sales   profit  quantity         category sub-category  \n",
       "0   $45.00  -$26.00         3  Office Supplies        Paper  \n",
       "1  $854.00  $290.00         7        Furniture    Bookcases  \n",
       "2  $140.00   $21.00         3  Office Supplies          Art  \n",
       "3   $27.00  -$22.00         2  Office Supplies          Art  \n",
       "4   $17.00   -$1.00         2  Office Supplies      Storage  \n",
       "5   $90.00   $21.00         3  Office Supplies          Art  \n",
       "6  $207.00   $77.00         4  Office Supplies          Art  \n",
       "7  $155.00   $36.00         1        Furniture    Bookcases  \n",
       "8   $33.00    $2.00         3  Office Supplies    Fasteners  \n",
       "9  $716.00  $143.00         4  Office Supplies      Storage  "
      ]
     },
     "execution_count": 28,
     "metadata": {},
     "output_type": "execute_result"
    }
   ],
   "source": [
    "OBD.head(10)"
   ]
  },
  {
   "cell_type": "markdown",
   "metadata": {},
   "source": [
    "### 6. How many orders has each Customer placed? How many have placed more than ten orders?\n",
    "\n",
    "Hint: Use `.value_counts()`."
   ]
  },
  {
   "cell_type": "code",
   "execution_count": 29,
   "metadata": {},
   "outputs": [
    {
     "data": {
      "text/plain": [
       "Jose Gambino       13\n",
       "Kayla Tearle       12\n",
       "Mark Washington    12\n",
       "Aaron Bootman      11\n",
       "Michael Myers      11\n",
       "Name: customer_name, dtype: int64"
      ]
     },
     "execution_count": 29,
     "metadata": {},
     "output_type": "execute_result"
    }
   ],
   "source": [
    "orders['customer_name'].value_counts().head()"
   ]
  },
  {
   "cell_type": "code",
   "execution_count": 39,
   "metadata": {},
   "outputs": [
    {
     "data": {
      "text/plain": [
       "(792,)"
      ]
     },
     "execution_count": 39,
     "metadata": {},
     "output_type": "execute_result"
    }
   ],
   "source": [
    "orders['customer_name'].value_counts().shape"
   ]
  },
  {
   "cell_type": "code",
   "execution_count": 37,
   "metadata": {},
   "outputs": [
    {
     "data": {
      "text/plain": [
       "(15,)"
      ]
     },
     "execution_count": 37,
     "metadata": {},
     "output_type": "execute_result"
    }
   ],
   "source": [
    "orders['customer_name'].value_counts()[orders['customer_name'].value_counts() > 10].shape\n",
    "\n"
   ]
  },
  {
   "cell_type": "markdown",
   "metadata": {},
   "source": [
    "### 7. From the table of orders, subset on the columns containing geographical information and sort by country."
   ]
  },
  {
   "cell_type": "code",
   "execution_count": 32,
   "metadata": {},
   "outputs": [
    {
     "data": {
      "text/html": [
       "<div>\n",
       "<style scoped>\n",
       "    .dataframe tbody tr th:only-of-type {\n",
       "        vertical-align: middle;\n",
       "    }\n",
       "\n",
       "    .dataframe tbody tr th {\n",
       "        vertical-align: top;\n",
       "    }\n",
       "\n",
       "    .dataframe thead th {\n",
       "        text-align: right;\n",
       "    }\n",
       "</style>\n",
       "<table border=\"1\" class=\"dataframe\">\n",
       "  <thead>\n",
       "    <tr style=\"text-align: right;\">\n",
       "      <th></th>\n",
       "      <th>city</th>\n",
       "      <th>country</th>\n",
       "      <th>region</th>\n",
       "      <th>state</th>\n",
       "    </tr>\n",
       "  </thead>\n",
       "  <tbody>\n",
       "    <tr>\n",
       "      <th>926</th>\n",
       "      <td>Vienna</td>\n",
       "      <td>Austria</td>\n",
       "      <td>Central</td>\n",
       "      <td>Vienna</td>\n",
       "    </tr>\n",
       "    <tr>\n",
       "      <th>258</th>\n",
       "      <td>Vienna</td>\n",
       "      <td>Austria</td>\n",
       "      <td>Central</td>\n",
       "      <td>Vienna</td>\n",
       "    </tr>\n",
       "    <tr>\n",
       "      <th>2945</th>\n",
       "      <td>Salzburg</td>\n",
       "      <td>Austria</td>\n",
       "      <td>Central</td>\n",
       "      <td>Salzburg</td>\n",
       "    </tr>\n",
       "    <tr>\n",
       "      <th>3971</th>\n",
       "      <td>Vienna</td>\n",
       "      <td>Austria</td>\n",
       "      <td>Central</td>\n",
       "      <td>Vienna</td>\n",
       "    </tr>\n",
       "    <tr>\n",
       "      <th>1302</th>\n",
       "      <td>Vienna</td>\n",
       "      <td>Austria</td>\n",
       "      <td>Central</td>\n",
       "      <td>Vienna</td>\n",
       "    </tr>\n",
       "  </tbody>\n",
       "</table>\n",
       "</div>"
      ],
      "text/plain": [
       "          city  country   region     state\n",
       "926     Vienna  Austria  Central    Vienna\n",
       "258     Vienna  Austria  Central    Vienna\n",
       "2945  Salzburg  Austria  Central  Salzburg\n",
       "3971    Vienna  Austria  Central    Vienna\n",
       "1302    Vienna  Austria  Central    Vienna"
      ]
     },
     "execution_count": 32,
     "metadata": {},
     "output_type": "execute_result"
    }
   ],
   "source": [
    "orders[['city', 'country', 'region', 'state']].sort_values(by='country').head()\n",
    "\n"
   ]
  },
  {
   "cell_type": "markdown",
   "metadata": {},
   "source": [
    "In the following parts you will need to use `pd.merge`."
   ]
  },
  {
   "cell_type": "markdown",
   "metadata": {},
   "source": [
    "### 8. Use a join to return a table with the Customer Name and Product Name.  "
   ]
  },
  {
   "cell_type": "code",
   "execution_count": 42,
   "metadata": {},
   "outputs": [
    {
     "data": {
      "text/plain": [
       "Index(['order_id', 'order_date', 'customer_name', 'city', 'country', 'region',\n",
       "       'segment', 'ship_date', 'ship_mode', 'state'],\n",
       "      dtype='object')"
      ]
     },
     "execution_count": 42,
     "metadata": {},
     "output_type": "execute_result"
    }
   ],
   "source": [
    "orders.keys()"
   ]
  },
  {
   "cell_type": "code",
   "execution_count": 43,
   "metadata": {},
   "outputs": [
    {
     "data": {
      "text/plain": [
       "Index(['order_id', 'product_name', 'discount', 'sales', 'profit', 'quantity',\n",
       "       'category', 'sub-category'],\n",
       "      dtype='object')"
      ]
     },
     "execution_count": 43,
     "metadata": {},
     "output_type": "execute_result"
    }
   ],
   "source": [
    "OBD.keys()"
   ]
  },
  {
   "cell_type": "code",
   "execution_count": null,
   "metadata": {},
   "outputs": [],
   "source": []
  },
  {
   "cell_type": "code",
   "execution_count": 51,
   "metadata": {},
   "outputs": [],
   "source": [
    "new_merge = pd.merge(orders, OBD, on='order_id')[['customer_name', 'product_name']].head()"
   ]
  },
  {
   "cell_type": "markdown",
   "metadata": {},
   "source": [
    "### 9.  How many orders for \"Office Supplies\" (Category) has Sweden made?"
   ]
  },
  {
   "cell_type": "code",
   "execution_count": 48,
   "metadata": {},
   "outputs": [
    {
     "data": {
      "text/html": [
       "<div>\n",
       "<style scoped>\n",
       "    .dataframe tbody tr th:only-of-type {\n",
       "        vertical-align: middle;\n",
       "    }\n",
       "\n",
       "    .dataframe tbody tr th {\n",
       "        vertical-align: top;\n",
       "    }\n",
       "\n",
       "    .dataframe thead th {\n",
       "        text-align: right;\n",
       "    }\n",
       "</style>\n",
       "<table border=\"1\" class=\"dataframe\">\n",
       "  <thead>\n",
       "    <tr style=\"text-align: right;\">\n",
       "      <th></th>\n",
       "      <th>country</th>\n",
       "      <th>order_id</th>\n",
       "      <th>category</th>\n",
       "    </tr>\n",
       "  </thead>\n",
       "  <tbody>\n",
       "    <tr>\n",
       "      <th>0</th>\n",
       "      <td>Sweden</td>\n",
       "      <td>BN-2011-7407039</td>\n",
       "      <td>Office Supplies</td>\n",
       "    </tr>\n",
       "    <tr>\n",
       "      <th>1</th>\n",
       "      <td>Sweden</td>\n",
       "      <td>BN-2011-2807470</td>\n",
       "      <td>Office Supplies</td>\n",
       "    </tr>\n",
       "    <tr>\n",
       "      <th>2</th>\n",
       "      <td>Sweden</td>\n",
       "      <td>BN-2011-7087921</td>\n",
       "      <td>Office Supplies</td>\n",
       "    </tr>\n",
       "    <tr>\n",
       "      <th>3</th>\n",
       "      <td>Sweden</td>\n",
       "      <td>BN-2011-827720</td>\n",
       "      <td>Office Supplies</td>\n",
       "    </tr>\n",
       "    <tr>\n",
       "      <th>4</th>\n",
       "      <td>Sweden</td>\n",
       "      <td>BN-2011-8234232</td>\n",
       "      <td>Office Supplies</td>\n",
       "    </tr>\n",
       "    <tr>\n",
       "      <th>5</th>\n",
       "      <td>Sweden</td>\n",
       "      <td>BN-2011-8234232</td>\n",
       "      <td>Office Supplies</td>\n",
       "    </tr>\n",
       "    <tr>\n",
       "      <th>6</th>\n",
       "      <td>Sweden</td>\n",
       "      <td>BN-2011-8234232</td>\n",
       "      <td>Office Supplies</td>\n",
       "    </tr>\n",
       "    <tr>\n",
       "      <th>7</th>\n",
       "      <td>Sweden</td>\n",
       "      <td>BN-2011-602308</td>\n",
       "      <td>Office Supplies</td>\n",
       "    </tr>\n",
       "    <tr>\n",
       "      <th>8</th>\n",
       "      <td>Sweden</td>\n",
       "      <td>AZ-2011-96343</td>\n",
       "      <td>Office Supplies</td>\n",
       "    </tr>\n",
       "    <tr>\n",
       "      <th>9</th>\n",
       "      <td>Sweden</td>\n",
       "      <td>AZ-2011-96343</td>\n",
       "      <td>Office Supplies</td>\n",
       "    </tr>\n",
       "    <tr>\n",
       "      <th>10</th>\n",
       "      <td>Sweden</td>\n",
       "      <td>BN-2011-3154402</td>\n",
       "      <td>Office Supplies</td>\n",
       "    </tr>\n",
       "    <tr>\n",
       "      <th>11</th>\n",
       "      <td>Sweden</td>\n",
       "      <td>BN-2011-7016974</td>\n",
       "      <td>Office Supplies</td>\n",
       "    </tr>\n",
       "    <tr>\n",
       "      <th>12</th>\n",
       "      <td>Sweden</td>\n",
       "      <td>BN-2011-7176889</td>\n",
       "      <td>Office Supplies</td>\n",
       "    </tr>\n",
       "    <tr>\n",
       "      <th>13</th>\n",
       "      <td>Sweden</td>\n",
       "      <td>BN-2011-5999704</td>\n",
       "      <td>Office Supplies</td>\n",
       "    </tr>\n",
       "    <tr>\n",
       "      <th>14</th>\n",
       "      <td>Sweden</td>\n",
       "      <td>BN-2011-1778575</td>\n",
       "      <td>Office Supplies</td>\n",
       "    </tr>\n",
       "    <tr>\n",
       "      <th>15</th>\n",
       "      <td>Sweden</td>\n",
       "      <td>BN-2011-5491702</td>\n",
       "      <td>Office Supplies</td>\n",
       "    </tr>\n",
       "    <tr>\n",
       "      <th>16</th>\n",
       "      <td>Sweden</td>\n",
       "      <td>BN-2011-5491702</td>\n",
       "      <td>Office Supplies</td>\n",
       "    </tr>\n",
       "    <tr>\n",
       "      <th>17</th>\n",
       "      <td>Sweden</td>\n",
       "      <td>BN-2011-5491702</td>\n",
       "      <td>Office Supplies</td>\n",
       "    </tr>\n",
       "    <tr>\n",
       "      <th>18</th>\n",
       "      <td>Sweden</td>\n",
       "      <td>BN-2011-5491702</td>\n",
       "      <td>Office Supplies</td>\n",
       "    </tr>\n",
       "    <tr>\n",
       "      <th>19</th>\n",
       "      <td>Sweden</td>\n",
       "      <td>BN-2011-5491702</td>\n",
       "      <td>Office Supplies</td>\n",
       "    </tr>\n",
       "    <tr>\n",
       "      <th>20</th>\n",
       "      <td>Sweden</td>\n",
       "      <td>BN-2011-5873722</td>\n",
       "      <td>Office Supplies</td>\n",
       "    </tr>\n",
       "    <tr>\n",
       "      <th>21</th>\n",
       "      <td>Sweden</td>\n",
       "      <td>BN-2011-5662753</td>\n",
       "      <td>Office Supplies</td>\n",
       "    </tr>\n",
       "    <tr>\n",
       "      <th>22</th>\n",
       "      <td>Sweden</td>\n",
       "      <td>BN-2011-2470191</td>\n",
       "      <td>Office Supplies</td>\n",
       "    </tr>\n",
       "    <tr>\n",
       "      <th>23</th>\n",
       "      <td>Sweden</td>\n",
       "      <td>BN-2011-2470191</td>\n",
       "      <td>Office Supplies</td>\n",
       "    </tr>\n",
       "    <tr>\n",
       "      <th>24</th>\n",
       "      <td>Sweden</td>\n",
       "      <td>BN-2011-3962140</td>\n",
       "      <td>Office Supplies</td>\n",
       "    </tr>\n",
       "    <tr>\n",
       "      <th>25</th>\n",
       "      <td>Sweden</td>\n",
       "      <td>BN-2011-7621077</td>\n",
       "      <td>Office Supplies</td>\n",
       "    </tr>\n",
       "    <tr>\n",
       "      <th>26</th>\n",
       "      <td>Sweden</td>\n",
       "      <td>AZ-2012-5999614</td>\n",
       "      <td>Office Supplies</td>\n",
       "    </tr>\n",
       "    <tr>\n",
       "      <th>27</th>\n",
       "      <td>Sweden</td>\n",
       "      <td>AZ-2012-5999614</td>\n",
       "      <td>Office Supplies</td>\n",
       "    </tr>\n",
       "    <tr>\n",
       "      <th>28</th>\n",
       "      <td>Sweden</td>\n",
       "      <td>BN-2012-5184619</td>\n",
       "      <td>Office Supplies</td>\n",
       "    </tr>\n",
       "    <tr>\n",
       "      <th>29</th>\n",
       "      <td>Sweden</td>\n",
       "      <td>BN-2012-26008</td>\n",
       "      <td>Office Supplies</td>\n",
       "    </tr>\n",
       "    <tr>\n",
       "      <th>...</th>\n",
       "      <td>...</td>\n",
       "      <td>...</td>\n",
       "      <td>...</td>\n",
       "    </tr>\n",
       "    <tr>\n",
       "      <th>103</th>\n",
       "      <td>Sweden</td>\n",
       "      <td>BN-2014-1557149</td>\n",
       "      <td>Office Supplies</td>\n",
       "    </tr>\n",
       "    <tr>\n",
       "      <th>104</th>\n",
       "      <td>Sweden</td>\n",
       "      <td>BN-2014-3197989</td>\n",
       "      <td>Office Supplies</td>\n",
       "    </tr>\n",
       "    <tr>\n",
       "      <th>105</th>\n",
       "      <td>Sweden</td>\n",
       "      <td>BN-2014-4964479</td>\n",
       "      <td>Office Supplies</td>\n",
       "    </tr>\n",
       "    <tr>\n",
       "      <th>106</th>\n",
       "      <td>Sweden</td>\n",
       "      <td>BN-2014-4964479</td>\n",
       "      <td>Office Supplies</td>\n",
       "    </tr>\n",
       "    <tr>\n",
       "      <th>107</th>\n",
       "      <td>Sweden</td>\n",
       "      <td>BN-2014-4964479</td>\n",
       "      <td>Office Supplies</td>\n",
       "    </tr>\n",
       "    <tr>\n",
       "      <th>108</th>\n",
       "      <td>Sweden</td>\n",
       "      <td>BN-2014-4964479</td>\n",
       "      <td>Office Supplies</td>\n",
       "    </tr>\n",
       "    <tr>\n",
       "      <th>109</th>\n",
       "      <td>Sweden</td>\n",
       "      <td>BN-2014-4964479</td>\n",
       "      <td>Office Supplies</td>\n",
       "    </tr>\n",
       "    <tr>\n",
       "      <th>110</th>\n",
       "      <td>Sweden</td>\n",
       "      <td>BN-2014-4964479</td>\n",
       "      <td>Office Supplies</td>\n",
       "    </tr>\n",
       "    <tr>\n",
       "      <th>111</th>\n",
       "      <td>Sweden</td>\n",
       "      <td>BN-2014-4964479</td>\n",
       "      <td>Office Supplies</td>\n",
       "    </tr>\n",
       "    <tr>\n",
       "      <th>112</th>\n",
       "      <td>Sweden</td>\n",
       "      <td>BN-2014-1551236</td>\n",
       "      <td>Office Supplies</td>\n",
       "    </tr>\n",
       "    <tr>\n",
       "      <th>113</th>\n",
       "      <td>Sweden</td>\n",
       "      <td>BN-2014-7135917</td>\n",
       "      <td>Office Supplies</td>\n",
       "    </tr>\n",
       "    <tr>\n",
       "      <th>114</th>\n",
       "      <td>Sweden</td>\n",
       "      <td>BN-2014-5531507</td>\n",
       "      <td>Office Supplies</td>\n",
       "    </tr>\n",
       "    <tr>\n",
       "      <th>115</th>\n",
       "      <td>Sweden</td>\n",
       "      <td>BN-2014-3570494</td>\n",
       "      <td>Office Supplies</td>\n",
       "    </tr>\n",
       "    <tr>\n",
       "      <th>116</th>\n",
       "      <td>Sweden</td>\n",
       "      <td>BN-2014-409695</td>\n",
       "      <td>Office Supplies</td>\n",
       "    </tr>\n",
       "    <tr>\n",
       "      <th>117</th>\n",
       "      <td>Sweden</td>\n",
       "      <td>BN-2014-409695</td>\n",
       "      <td>Office Supplies</td>\n",
       "    </tr>\n",
       "    <tr>\n",
       "      <th>118</th>\n",
       "      <td>Sweden</td>\n",
       "      <td>BN-2014-5015566</td>\n",
       "      <td>Office Supplies</td>\n",
       "    </tr>\n",
       "    <tr>\n",
       "      <th>119</th>\n",
       "      <td>Sweden</td>\n",
       "      <td>BN-2014-5614620</td>\n",
       "      <td>Office Supplies</td>\n",
       "    </tr>\n",
       "    <tr>\n",
       "      <th>120</th>\n",
       "      <td>Sweden</td>\n",
       "      <td>BN-2014-5368093</td>\n",
       "      <td>Office Supplies</td>\n",
       "    </tr>\n",
       "    <tr>\n",
       "      <th>121</th>\n",
       "      <td>Sweden</td>\n",
       "      <td>BN-2014-5368093</td>\n",
       "      <td>Office Supplies</td>\n",
       "    </tr>\n",
       "    <tr>\n",
       "      <th>122</th>\n",
       "      <td>Sweden</td>\n",
       "      <td>BN-2014-6653003</td>\n",
       "      <td>Office Supplies</td>\n",
       "    </tr>\n",
       "    <tr>\n",
       "      <th>123</th>\n",
       "      <td>Sweden</td>\n",
       "      <td>BN-2014-6653003</td>\n",
       "      <td>Office Supplies</td>\n",
       "    </tr>\n",
       "    <tr>\n",
       "      <th>124</th>\n",
       "      <td>Sweden</td>\n",
       "      <td>BN-2014-2999624</td>\n",
       "      <td>Office Supplies</td>\n",
       "    </tr>\n",
       "    <tr>\n",
       "      <th>125</th>\n",
       "      <td>Sweden</td>\n",
       "      <td>BN-2014-8656062</td>\n",
       "      <td>Office Supplies</td>\n",
       "    </tr>\n",
       "    <tr>\n",
       "      <th>126</th>\n",
       "      <td>Sweden</td>\n",
       "      <td>BN-2014-8501685</td>\n",
       "      <td>Office Supplies</td>\n",
       "    </tr>\n",
       "    <tr>\n",
       "      <th>127</th>\n",
       "      <td>Sweden</td>\n",
       "      <td>BN-2014-8501685</td>\n",
       "      <td>Office Supplies</td>\n",
       "    </tr>\n",
       "    <tr>\n",
       "      <th>128</th>\n",
       "      <td>Sweden</td>\n",
       "      <td>BN-2014-5182753</td>\n",
       "      <td>Office Supplies</td>\n",
       "    </tr>\n",
       "    <tr>\n",
       "      <th>129</th>\n",
       "      <td>Sweden</td>\n",
       "      <td>BN-2014-5182753</td>\n",
       "      <td>Office Supplies</td>\n",
       "    </tr>\n",
       "    <tr>\n",
       "      <th>130</th>\n",
       "      <td>Sweden</td>\n",
       "      <td>BN-2014-2616164</td>\n",
       "      <td>Office Supplies</td>\n",
       "    </tr>\n",
       "    <tr>\n",
       "      <th>131</th>\n",
       "      <td>Sweden</td>\n",
       "      <td>BN-2014-4912801</td>\n",
       "      <td>Office Supplies</td>\n",
       "    </tr>\n",
       "    <tr>\n",
       "      <th>132</th>\n",
       "      <td>Sweden</td>\n",
       "      <td>BN-2014-4912801</td>\n",
       "      <td>Office Supplies</td>\n",
       "    </tr>\n",
       "  </tbody>\n",
       "</table>\n",
       "<p>133 rows × 3 columns</p>\n",
       "</div>"
      ],
      "text/plain": [
       "    country         order_id         category\n",
       "0    Sweden  BN-2011-7407039  Office Supplies\n",
       "1    Sweden  BN-2011-2807470  Office Supplies\n",
       "2    Sweden  BN-2011-7087921  Office Supplies\n",
       "3    Sweden   BN-2011-827720  Office Supplies\n",
       "4    Sweden  BN-2011-8234232  Office Supplies\n",
       "5    Sweden  BN-2011-8234232  Office Supplies\n",
       "6    Sweden  BN-2011-8234232  Office Supplies\n",
       "7    Sweden   BN-2011-602308  Office Supplies\n",
       "8    Sweden    AZ-2011-96343  Office Supplies\n",
       "9    Sweden    AZ-2011-96343  Office Supplies\n",
       "10   Sweden  BN-2011-3154402  Office Supplies\n",
       "11   Sweden  BN-2011-7016974  Office Supplies\n",
       "12   Sweden  BN-2011-7176889  Office Supplies\n",
       "13   Sweden  BN-2011-5999704  Office Supplies\n",
       "14   Sweden  BN-2011-1778575  Office Supplies\n",
       "15   Sweden  BN-2011-5491702  Office Supplies\n",
       "16   Sweden  BN-2011-5491702  Office Supplies\n",
       "17   Sweden  BN-2011-5491702  Office Supplies\n",
       "18   Sweden  BN-2011-5491702  Office Supplies\n",
       "19   Sweden  BN-2011-5491702  Office Supplies\n",
       "20   Sweden  BN-2011-5873722  Office Supplies\n",
       "21   Sweden  BN-2011-5662753  Office Supplies\n",
       "22   Sweden  BN-2011-2470191  Office Supplies\n",
       "23   Sweden  BN-2011-2470191  Office Supplies\n",
       "24   Sweden  BN-2011-3962140  Office Supplies\n",
       "25   Sweden  BN-2011-7621077  Office Supplies\n",
       "26   Sweden  AZ-2012-5999614  Office Supplies\n",
       "27   Sweden  AZ-2012-5999614  Office Supplies\n",
       "28   Sweden  BN-2012-5184619  Office Supplies\n",
       "29   Sweden    BN-2012-26008  Office Supplies\n",
       "..      ...              ...              ...\n",
       "103  Sweden  BN-2014-1557149  Office Supplies\n",
       "104  Sweden  BN-2014-3197989  Office Supplies\n",
       "105  Sweden  BN-2014-4964479  Office Supplies\n",
       "106  Sweden  BN-2014-4964479  Office Supplies\n",
       "107  Sweden  BN-2014-4964479  Office Supplies\n",
       "108  Sweden  BN-2014-4964479  Office Supplies\n",
       "109  Sweden  BN-2014-4964479  Office Supplies\n",
       "110  Sweden  BN-2014-4964479  Office Supplies\n",
       "111  Sweden  BN-2014-4964479  Office Supplies\n",
       "112  Sweden  BN-2014-1551236  Office Supplies\n",
       "113  Sweden  BN-2014-7135917  Office Supplies\n",
       "114  Sweden  BN-2014-5531507  Office Supplies\n",
       "115  Sweden  BN-2014-3570494  Office Supplies\n",
       "116  Sweden   BN-2014-409695  Office Supplies\n",
       "117  Sweden   BN-2014-409695  Office Supplies\n",
       "118  Sweden  BN-2014-5015566  Office Supplies\n",
       "119  Sweden  BN-2014-5614620  Office Supplies\n",
       "120  Sweden  BN-2014-5368093  Office Supplies\n",
       "121  Sweden  BN-2014-5368093  Office Supplies\n",
       "122  Sweden  BN-2014-6653003  Office Supplies\n",
       "123  Sweden  BN-2014-6653003  Office Supplies\n",
       "124  Sweden  BN-2014-2999624  Office Supplies\n",
       "125  Sweden  BN-2014-8656062  Office Supplies\n",
       "126  Sweden  BN-2014-8501685  Office Supplies\n",
       "127  Sweden  BN-2014-8501685  Office Supplies\n",
       "128  Sweden  BN-2014-5182753  Office Supplies\n",
       "129  Sweden  BN-2014-5182753  Office Supplies\n",
       "130  Sweden  BN-2014-2616164  Office Supplies\n",
       "131  Sweden  BN-2014-4912801  Office Supplies\n",
       "132  Sweden  BN-2014-4912801  Office Supplies\n",
       "\n",
       "[133 rows x 3 columns]"
      ]
     },
     "execution_count": 48,
     "metadata": {},
     "output_type": "execute_result"
    }
   ],
   "source": [
    "pd.merge(orders[orders['country'] == 'Sweden'], \n",
    "         OBD[OBD['category'] =='Office Supplies'], \n",
    "         on='order_id')[['country', 'order_id', 'category']]"
   ]
  },
  {
   "cell_type": "markdown",
   "metadata": {},
   "source": [
    "### 10. What is the total quantity of objects sold for Sweden?"
   ]
  },
  {
   "cell_type": "code",
   "execution_count": 49,
   "metadata": {},
   "outputs": [
    {
     "data": {
      "text/plain": [
       "0       3\n",
       "1       5\n",
       "2       6\n",
       "3       2\n",
       "4       2\n",
       "5       2\n",
       "6       3\n",
       "7       4\n",
       "8       6\n",
       "9      11\n",
       "10      1\n",
       "11      3\n",
       "12      6\n",
       "13      3\n",
       "14      2\n",
       "15      3\n",
       "16      2\n",
       "17      2\n",
       "18      7\n",
       "19      2\n",
       "20      2\n",
       "21      3\n",
       "22      6\n",
       "23      1\n",
       "24      3\n",
       "25      1\n",
       "26      9\n",
       "27      3\n",
       "28      7\n",
       "29      2\n",
       "       ..\n",
       "173     4\n",
       "174     2\n",
       "175     3\n",
       "176     5\n",
       "177     6\n",
       "178     5\n",
       "179     5\n",
       "180     3\n",
       "181     2\n",
       "182     5\n",
       "183     2\n",
       "184     2\n",
       "185     2\n",
       "186     1\n",
       "187     1\n",
       "188    13\n",
       "189     2\n",
       "190     4\n",
       "191     2\n",
       "192     1\n",
       "193     5\n",
       "194     9\n",
       "195     1\n",
       "196     1\n",
       "197     2\n",
       "198     5\n",
       "199     1\n",
       "200     6\n",
       "201     4\n",
       "202     1\n",
       "Name: quantity, Length: 203, dtype: int64"
      ]
     },
     "execution_count": 49,
     "metadata": {},
     "output_type": "execute_result"
    }
   ],
   "source": [
    "pd.merge(orders[orders.country == 'Sweden'],\n",
    "         OBD, \n",
    "         on='order_id')['quantity']"
   ]
  },
  {
   "cell_type": "markdown",
   "metadata": {},
   "source": [
    "### 11. What Shipping method is most common for 'Bookcases' (Sub Category)"
   ]
  },
  {
   "cell_type": "code",
   "execution_count": 50,
   "metadata": {},
   "outputs": [
    {
     "data": {
      "text/plain": [
       "0           Economy\n",
       "1          Priority\n",
       "2           Economy\n",
       "3           Economy\n",
       "4           Economy\n",
       "5      Economy Plus\n",
       "6           Economy\n",
       "7           Economy\n",
       "8           Economy\n",
       "9           Economy\n",
       "10          Economy\n",
       "11          Economy\n",
       "12     Economy Plus\n",
       "13          Economy\n",
       "14          Economy\n",
       "15          Economy\n",
       "16     Economy Plus\n",
       "17     Economy Plus\n",
       "18          Economy\n",
       "19         Priority\n",
       "20          Economy\n",
       "21         Priority\n",
       "22         Priority\n",
       "23         Priority\n",
       "24          Economy\n",
       "25          Economy\n",
       "26          Economy\n",
       "27     Economy Plus\n",
       "28          Economy\n",
       "29          Economy\n",
       "           ...     \n",
       "361         Economy\n",
       "362       Immediate\n",
       "363         Economy\n",
       "364        Priority\n",
       "365         Economy\n",
       "366        Priority\n",
       "367        Priority\n",
       "368         Economy\n",
       "369         Economy\n",
       "370         Economy\n",
       "371         Economy\n",
       "372         Economy\n",
       "373    Economy Plus\n",
       "374    Economy Plus\n",
       "375        Priority\n",
       "376        Priority\n",
       "377        Priority\n",
       "378         Economy\n",
       "379         Economy\n",
       "380         Economy\n",
       "381        Priority\n",
       "382         Economy\n",
       "383    Economy Plus\n",
       "384         Economy\n",
       "385         Economy\n",
       "386    Economy Plus\n",
       "387         Economy\n",
       "388       Immediate\n",
       "389       Immediate\n",
       "390         Economy\n",
       "Name: ship_mode, Length: 391, dtype: object"
      ]
     },
     "execution_count": 50,
     "metadata": {},
     "output_type": "execute_result"
    }
   ],
   "source": [
    "pd.merge(orders, \n",
    "         OBD[OBD['sub-category'] == 'Bookcases'],\n",
    "         on='order_id')['ship_mode']"
   ]
  },
  {
   "cell_type": "code",
   "execution_count": null,
   "metadata": {},
   "outputs": [],
   "source": []
  },
  {
   "cell_type": "code",
   "execution_count": null,
   "metadata": {},
   "outputs": [],
   "source": []
  },
  {
   "cell_type": "code",
   "execution_count": null,
   "metadata": {},
   "outputs": [],
   "source": []
  },
  {
   "cell_type": "code",
   "execution_count": null,
   "metadata": {},
   "outputs": [],
   "source": []
  },
  {
   "cell_type": "code",
   "execution_count": null,
   "metadata": {},
   "outputs": [],
   "source": []
  },
  {
   "cell_type": "code",
   "execution_count": null,
   "metadata": {},
   "outputs": [],
   "source": []
  },
  {
   "cell_type": "code",
   "execution_count": null,
   "metadata": {},
   "outputs": [],
   "source": []
  },
  {
   "cell_type": "code",
   "execution_count": null,
   "metadata": {},
   "outputs": [],
   "source": []
  },
  {
   "cell_type": "code",
   "execution_count": null,
   "metadata": {},
   "outputs": [],
   "source": []
  },
  {
   "cell_type": "code",
   "execution_count": null,
   "metadata": {},
   "outputs": [],
   "source": []
  },
  {
   "cell_type": "code",
   "execution_count": null,
   "metadata": {},
   "outputs": [],
   "source": []
  }
 ],
 "metadata": {
  "anaconda-cloud": {},
  "kernelspec": {
   "display_name": "Python 3",
   "language": "python",
   "name": "python3"
  },
  "language_info": {
   "codemirror_mode": {
    "name": "ipython",
    "version": 3
   },
   "file_extension": ".py",
   "mimetype": "text/x-python",
   "name": "python",
   "nbconvert_exporter": "python",
   "pygments_lexer": "ipython3",
   "version": "3.7.3"
  },
  "toc": {
   "base_numbering": 1,
   "nav_menu": {},
   "number_sections": false,
   "sideBar": true,
   "skip_h1_title": true,
   "title_cell": "Table of Contents",
   "title_sidebar": "Contents",
   "toc_cell": true,
   "toc_position": {},
   "toc_section_display": true,
   "toc_window_display": false
  }
 },
 "nbformat": 4,
 "nbformat_minor": 1
}
