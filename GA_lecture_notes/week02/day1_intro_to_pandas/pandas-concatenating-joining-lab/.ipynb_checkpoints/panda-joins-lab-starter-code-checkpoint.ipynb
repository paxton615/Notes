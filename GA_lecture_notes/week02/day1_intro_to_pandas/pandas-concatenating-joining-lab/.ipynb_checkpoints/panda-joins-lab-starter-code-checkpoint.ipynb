{
 "cells": [
  {
   "cell_type": "markdown",
   "metadata": {},
   "source": [
    "<img src=\"http://imgur.com/1ZcRyrc.png\" style=\"float: left; margin: 20px; height: 55px\">\n",
    "\n",
    "# Pandas joins lab\n",
    "\n",
    "---"
   ]
  },
  {
   "cell_type": "markdown",
   "metadata": {},
   "source": [
    "In this lab we want to obtain more practice of extracting information from dataframes and joining different dataframes."
   ]
  },
  {
   "cell_type": "markdown",
   "metadata": {
    "toc": true
   },
   "source": [
    "<h1>Table of Contents<span class=\"tocSkip\"></span></h1>\n",
    "<div class=\"toc\"><ul class=\"toc-item\"><li><span><a href=\"#1.--Read-in-the-EuroMart-CSV-Data\" data-toc-modified-id=\"1.--Read-in-the-EuroMart-CSV-Data-1\">1.  Read in the EuroMart CSV Data</a></span></li><li><span><a href=\"#2.-Inspect-the-column-names-of-the-dataframes\" data-toc-modified-id=\"2.-Inspect-the-column-names-of-the-dataframes-2\">2. Inspect the column names of the dataframes</a></span></li><li><span><a href=\"#3.-Inspect-the-shapes-of-the-dataframes\" data-toc-modified-id=\"3.-Inspect-the-shapes-of-the-dataframes-3\">3. Inspect the shapes of the dataframes</a></span></li><li><span><a href=\"#4.-Rename-columns-to-remove-any-spaces-in-the-names\" data-toc-modified-id=\"4.-Rename-columns-to-remove-any-spaces-in-the-names-4\">4. Rename columns to remove any spaces in the names</a></span></li><li><span><a href=\"#5.-Inspect-the-top-of-the-dataframes\" data-toc-modified-id=\"5.-Inspect-the-top-of-the-dataframes-5\">5. Inspect the top of the dataframes</a></span></li><li><span><a href=\"#6.-How-many-orders-has-each-Customer-placed?-How-many-have-placed-more-than-ten-orders?\" data-toc-modified-id=\"6.-How-many-orders-has-each-Customer-placed?-How-many-have-placed-more-than-ten-orders?-6\">6. How many orders has each Customer placed? How many have placed more than ten orders?</a></span></li><li><span><a href=\"#7.-From-the-table-of-orders,-subset-on-the-columns-containing-geographical-information-and-sort-by-country.\" data-toc-modified-id=\"7.-From-the-table-of-orders,-subset-on-the-columns-containing-geographical-information-and-sort-by-country.-7\">7. From the table of orders, subset on the columns containing geographical information and sort by country.</a></span></li><li><span><a href=\"#8.-Use-a-join-to-return-a-table-with-the-Customer-Name-and-Product-Name.\" data-toc-modified-id=\"8.-Use-a-join-to-return-a-table-with-the-Customer-Name-and-Product-Name.-8\">8. Use a join to return a table with the Customer Name and Product Name.</a></span></li><li><span><a href=\"#9.--How-many-orders-for-&quot;Office-Supplies&quot;-(Category)-has-Sweden-made?\" data-toc-modified-id=\"9.--How-many-orders-for-&quot;Office-Supplies&quot;-(Category)-has-Sweden-made?-9\">9.  How many orders for \"Office Supplies\" (Category) has Sweden made?</a></span></li><li><span><a href=\"#10.-What-is-the-total-quantity-of-objects-sold-for-Sweden?\" data-toc-modified-id=\"10.-What-is-the-total-quantity-of-objects-sold-for-Sweden?-10\">10. What is the total quantity of objects sold for Sweden?</a></span></li><li><span><a href=\"#11.-What-Shipping-method-is-most-common-for-'Bookcases'-(Sub-Category)?\" data-toc-modified-id=\"11.-What-Shipping-method-is-most-common-for-'Bookcases'-(Sub-Category)?-11\">11. What Shipping method is most common for 'Bookcases' (Sub Category)?</a></span></li></ul></div>"
   ]
  },
  {
   "cell_type": "code",
   "execution_count": 3,
   "metadata": {},
   "outputs": [],
   "source": [
    "# Necessary Libraries\n",
    "import pandas as pd"
   ]
  },
  {
   "cell_type": "markdown",
   "metadata": {},
   "source": [
    "### 1.  Read in the EuroMart CSV Data\n",
    "- 'EuroMart-ListOfOrders.csv'\n",
    "- 'EuroMart-OrderBreakdown.csv'"
   ]
  },
  {
   "cell_type": "code",
   "execution_count": 4,
   "metadata": {},
   "outputs": [],
   "source": [
    "# Reading CSV to Dataframe\n",
    "orders = pd.read_csv('datasets/csv/EuroMart-ListOfOrders.csv')\n",
    "OBD = pd.read_csv('datasets/csv/EuroMart-OrderBreakdown.csv')"
   ]
  },
  {
   "cell_type": "markdown",
   "metadata": {},
   "source": [
    "### 2. Inspect the column names of the dataframes"
   ]
  },
  {
   "cell_type": "code",
   "execution_count": 6,
   "metadata": {},
   "outputs": [
    {
     "data": {
      "text/plain": [
       "Index(['Order ID', 'Order Date', 'Customer Name', 'City', 'Country', 'Region',\n",
       "       'Segment', 'Ship Date', 'Ship Mode', 'State'],\n",
       "      dtype='object')"
      ]
     },
     "execution_count": 6,
     "metadata": {},
     "output_type": "execute_result"
    }
   ],
   "source": [
    "orders.columns"
   ]
  },
  {
   "cell_type": "code",
   "execution_count": 7,
   "metadata": {},
   "outputs": [
    {
     "data": {
      "text/plain": [
       "Index(['Order ID', 'Product Name', 'Discount', 'Sales', 'Profit', 'Quantity',\n",
       "       'Category', 'Sub-Category'],\n",
       "      dtype='object')"
      ]
     },
     "execution_count": 7,
     "metadata": {},
     "output_type": "execute_result"
    }
   ],
   "source": [
    "OBD.columns"
   ]
  },
  {
   "cell_type": "markdown",
   "metadata": {},
   "source": [
    "### 3. Inspect the shapes of the dataframes"
   ]
  },
  {
   "cell_type": "code",
   "execution_count": 8,
   "metadata": {},
   "outputs": [
    {
     "data": {
      "text/plain": [
       "(4117, 10)"
      ]
     },
     "execution_count": 8,
     "metadata": {},
     "output_type": "execute_result"
    }
   ],
   "source": [
    "orders.shape"
   ]
  },
  {
   "cell_type": "code",
   "execution_count": 9,
   "metadata": {},
   "outputs": [
    {
     "data": {
      "text/plain": [
       "(8047, 8)"
      ]
     },
     "execution_count": 9,
     "metadata": {},
     "output_type": "execute_result"
    }
   ],
   "source": [
    "OBD.shape"
   ]
  },
  {
   "cell_type": "markdown",
   "metadata": {},
   "source": [
    "### 4. Rename columns to remove any spaces in the names"
   ]
  },
  {
   "cell_type": "code",
   "execution_count": 20,
   "metadata": {},
   "outputs": [
    {
     "name": "stdout",
     "output_type": "stream",
     "text": [
      "['OrderID', 'OrderDate', 'CustomerName', 'City', 'Country', 'Region', 'Segment', 'ShipDate', 'ShipMode', 'State']\n"
     ]
    }
   ],
   "source": [
    "new_vert1=[]\n",
    "for i in list(orders.columns):\n",
    "    new_vert1.append(i.replace(\" \",\"\"))\n",
    "print(new_vert1)"
   ]
  },
  {
   "cell_type": "code",
   "execution_count": 21,
   "metadata": {},
   "outputs": [
    {
     "name": "stdout",
     "output_type": "stream",
     "text": [
      "['OrderID', 'ProductName', 'Discount', 'Sales', 'Profit', 'Quantity', 'Category', 'Sub-Category']\n"
     ]
    }
   ],
   "source": [
    "new_vert2=[]\n",
    "for i in list(OBD.columns):\n",
    "    new_vert2.append(i.replace(\" \",\"\"))\n",
    "print(new_vert2)"
   ]
  },
  {
   "cell_type": "code",
   "execution_count": null,
   "metadata": {},
   "outputs": [],
   "source": []
  },
  {
   "cell_type": "code",
   "execution_count": 11,
   "metadata": {},
   "outputs": [],
   "source": [
    "new_col1=['OrderID', 'OrderDate', 'CustomerName', 'City', 'Country', 'Region','Segment', 'ShipDate', 'ShipMode', 'State']"
   ]
  },
  {
   "cell_type": "code",
   "execution_count": 12,
   "metadata": {},
   "outputs": [],
   "source": [
    "new_col2=['OrderID', 'ProductName', 'Discount', 'Sales', 'Profit', 'Quantity','Category', 'Sub-Category']\n"
   ]
  },
  {
   "cell_type": "code",
   "execution_count": 16,
   "metadata": {},
   "outputs": [],
   "source": [
    "orders.columns=new_col1\n",
    "OBD.columns=new_col2"
   ]
  },
  {
   "cell_type": "markdown",
   "metadata": {},
   "source": [
    "### 5. Inspect the top of the dataframes"
   ]
  },
  {
   "cell_type": "code",
   "execution_count": 17,
   "metadata": {},
   "outputs": [
    {
     "data": {
      "text/html": [
       "<div>\n",
       "<style scoped>\n",
       "    .dataframe tbody tr th:only-of-type {\n",
       "        vertical-align: middle;\n",
       "    }\n",
       "\n",
       "    .dataframe tbody tr th {\n",
       "        vertical-align: top;\n",
       "    }\n",
       "\n",
       "    .dataframe thead th {\n",
       "        text-align: right;\n",
       "    }\n",
       "</style>\n",
       "<table border=\"1\" class=\"dataframe\">\n",
       "  <thead>\n",
       "    <tr style=\"text-align: right;\">\n",
       "      <th></th>\n",
       "      <th>OrderID</th>\n",
       "      <th>OrderDate</th>\n",
       "      <th>CustomerName</th>\n",
       "      <th>City</th>\n",
       "      <th>Country</th>\n",
       "      <th>Region</th>\n",
       "      <th>Segment</th>\n",
       "      <th>ShipDate</th>\n",
       "      <th>ShipMode</th>\n",
       "      <th>State</th>\n",
       "    </tr>\n",
       "  </thead>\n",
       "  <tbody>\n",
       "    <tr>\n",
       "      <th>0</th>\n",
       "      <td>BN-2011-7407039</td>\n",
       "      <td>1/1/2011</td>\n",
       "      <td>Ruby Patel</td>\n",
       "      <td>Stockholm</td>\n",
       "      <td>Sweden</td>\n",
       "      <td>North</td>\n",
       "      <td>Home Office</td>\n",
       "      <td>1/5/2011</td>\n",
       "      <td>Economy Plus</td>\n",
       "      <td>Stockholm</td>\n",
       "    </tr>\n",
       "    <tr>\n",
       "      <th>1</th>\n",
       "      <td>AZ-2011-9050313</td>\n",
       "      <td>1/3/2011</td>\n",
       "      <td>Summer Hayward</td>\n",
       "      <td>Southport</td>\n",
       "      <td>United Kingdom</td>\n",
       "      <td>North</td>\n",
       "      <td>Consumer</td>\n",
       "      <td>1/7/2011</td>\n",
       "      <td>Economy</td>\n",
       "      <td>England</td>\n",
       "    </tr>\n",
       "    <tr>\n",
       "      <th>2</th>\n",
       "      <td>AZ-2011-6674300</td>\n",
       "      <td>1/4/2011</td>\n",
       "      <td>Devin Huddleston</td>\n",
       "      <td>Valence</td>\n",
       "      <td>France</td>\n",
       "      <td>Central</td>\n",
       "      <td>Consumer</td>\n",
       "      <td>1/8/2011</td>\n",
       "      <td>Economy</td>\n",
       "      <td>Auvergne-Rhône-Alpes</td>\n",
       "    </tr>\n",
       "    <tr>\n",
       "      <th>3</th>\n",
       "      <td>BN-2011-2819714</td>\n",
       "      <td>1/4/2011</td>\n",
       "      <td>Mary Parker</td>\n",
       "      <td>Birmingham</td>\n",
       "      <td>United Kingdom</td>\n",
       "      <td>North</td>\n",
       "      <td>Corporate</td>\n",
       "      <td>1/9/2011</td>\n",
       "      <td>Economy</td>\n",
       "      <td>England</td>\n",
       "    </tr>\n",
       "    <tr>\n",
       "      <th>4</th>\n",
       "      <td>AZ-2011-617423</td>\n",
       "      <td>1/5/2011</td>\n",
       "      <td>Daniel Burke</td>\n",
       "      <td>Echirolles</td>\n",
       "      <td>France</td>\n",
       "      <td>Central</td>\n",
       "      <td>Home Office</td>\n",
       "      <td>1/7/2011</td>\n",
       "      <td>Priority</td>\n",
       "      <td>Auvergne-Rhône-Alpes</td>\n",
       "    </tr>\n",
       "  </tbody>\n",
       "</table>\n",
       "</div>"
      ],
      "text/plain": [
       "           OrderID OrderDate      CustomerName        City         Country  \\\n",
       "0  BN-2011-7407039  1/1/2011        Ruby Patel   Stockholm          Sweden   \n",
       "1  AZ-2011-9050313  1/3/2011    Summer Hayward   Southport  United Kingdom   \n",
       "2  AZ-2011-6674300  1/4/2011  Devin Huddleston     Valence          France   \n",
       "3  BN-2011-2819714  1/4/2011       Mary Parker  Birmingham  United Kingdom   \n",
       "4   AZ-2011-617423  1/5/2011      Daniel Burke  Echirolles          France   \n",
       "\n",
       "    Region      Segment  ShipDate      ShipMode                 State  \n",
       "0    North  Home Office  1/5/2011  Economy Plus             Stockholm  \n",
       "1    North     Consumer  1/7/2011       Economy               England  \n",
       "2  Central     Consumer  1/8/2011       Economy  Auvergne-Rhône-Alpes  \n",
       "3    North    Corporate  1/9/2011       Economy               England  \n",
       "4  Central  Home Office  1/7/2011      Priority  Auvergne-Rhône-Alpes  "
      ]
     },
     "execution_count": 17,
     "metadata": {},
     "output_type": "execute_result"
    }
   ],
   "source": [
    "orders.head(5)"
   ]
  },
  {
   "cell_type": "markdown",
   "metadata": {},
   "source": [
    "### 6. How many orders has each Customer placed? How many have placed more than ten orders?\n",
    "\n",
    "Hint: Use `.value_counts()`."
   ]
  },
  {
   "cell_type": "code",
   "execution_count": 18,
   "metadata": {},
   "outputs": [
    {
     "data": {
      "text/plain": [
       "AZ-2012-4310145    1\n",
       "AZ-2013-7431618    1\n",
       "BN-2014-6168100    1\n",
       "AZ-2013-1380868    1\n",
       "AZ-2012-415740     1\n",
       "AZ-2013-6016328    1\n",
       "BN-2012-2002829    1\n",
       "AZ-2012-7579239    1\n",
       "AZ-2012-568534     1\n",
       "AZ-2014-2593220    1\n",
       "AZ-2014-2687996    1\n",
       "AZ-2014-3603253    1\n",
       "AZ-2014-2500745    1\n",
       "BN-2011-2207137    1\n",
       "AZ-2014-8469117    1\n",
       "AZ-2013-6541057    1\n",
       "BN-2011-9883465    1\n",
       "AZ-2013-4330374    1\n",
       "AZ-2014-1592554    1\n",
       "AZ-2012-331125     1\n",
       "AZ-2012-51069      1\n",
       "AZ-2014-9494759    1\n",
       "BN-2011-3405497    1\n",
       "AZ-2013-5949310    1\n",
       "AZ-2012-506999     1\n",
       "AZ-2013-9347181    1\n",
       "AZ-2011-5097391    1\n",
       "BN-2011-9336144    1\n",
       "AZ-2012-3052351    1\n",
       "BN-2014-2450854    1\n",
       "                  ..\n",
       "BN-2014-4656521    1\n",
       "BN-2014-839820     1\n",
       "AZ-2013-3692060    1\n",
       "AZ-2014-5363417    1\n",
       "AZ-2014-3279788    1\n",
       "AZ-2014-6041399    1\n",
       "AZ-2013-5987890    1\n",
       "AZ-2013-4270780    1\n",
       "AZ-2013-8159608    1\n",
       "BN-2014-5801390    1\n",
       "AZ-2014-604264     1\n",
       "AZ-2013-5023304    1\n",
       "AZ-2014-5904203    1\n",
       "AZ-2013-5945845    1\n",
       "AZ-2014-7608548    1\n",
       "AZ-2011-7845997    1\n",
       "AZ-2011-2564570    1\n",
       "BN-2014-5824025    1\n",
       "AZ-2014-4634987    1\n",
       "AZ-2014-356444     1\n",
       "BN-2014-8933251    1\n",
       "BN-2014-2311123    1\n",
       "AZ-2011-7783675    1\n",
       "AZ-2012-400830     1\n",
       "AZ-2013-6408423    1\n",
       "AZ-2013-4378960    1\n",
       "BN-2013-804810     1\n",
       "AZ-2014-7450631    1\n",
       "AZ-2014-7416402    1\n",
       "AZ-2013-8607757    1\n",
       "Name: OrderID, Length: 4117, dtype: int64"
      ]
     },
     "execution_count": 18,
     "metadata": {},
     "output_type": "execute_result"
    }
   ],
   "source": [
    "orders.OrderID.value_counts()"
   ]
  },
  {
   "cell_type": "markdown",
   "metadata": {},
   "source": [
    "### 7. From the table of orders, subset on the columns containing geographical information and sort by country."
   ]
  },
  {
   "cell_type": "code",
   "execution_count": null,
   "metadata": {},
   "outputs": [],
   "source": []
  },
  {
   "cell_type": "markdown",
   "metadata": {},
   "source": [
    "In the following parts you will need to use `pd.merge`."
   ]
  },
  {
   "cell_type": "markdown",
   "metadata": {},
   "source": [
    "### 8. Use a join to return a table with the Customer Name and Product Name.  "
   ]
  },
  {
   "cell_type": "code",
   "execution_count": null,
   "metadata": {},
   "outputs": [],
   "source": []
  },
  {
   "cell_type": "markdown",
   "metadata": {},
   "source": [
    "### 9.  How many orders for \"Office Supplies\" (Category) has Sweden made?"
   ]
  },
  {
   "cell_type": "code",
   "execution_count": null,
   "metadata": {},
   "outputs": [],
   "source": []
  },
  {
   "cell_type": "markdown",
   "metadata": {},
   "source": [
    "### 10. What is the total quantity of objects sold for Sweden?"
   ]
  },
  {
   "cell_type": "code",
   "execution_count": null,
   "metadata": {},
   "outputs": [],
   "source": []
  },
  {
   "cell_type": "markdown",
   "metadata": {},
   "source": [
    "### 11. What Shipping method is most common for 'Bookcases' (Sub Category)?"
   ]
  },
  {
   "cell_type": "code",
   "execution_count": null,
   "metadata": {},
   "outputs": [],
   "source": []
  }
 ],
 "metadata": {
  "anaconda-cloud": {},
  "kernelspec": {
   "display_name": "Python 3",
   "language": "python",
   "name": "python3"
  },
  "language_info": {
   "codemirror_mode": {
    "name": "ipython",
    "version": 3
   },
   "file_extension": ".py",
   "mimetype": "text/x-python",
   "name": "python",
   "nbconvert_exporter": "python",
   "pygments_lexer": "ipython3",
   "version": "3.7.3"
  },
  "toc": {
   "base_numbering": 1,
   "nav_menu": {},
   "number_sections": false,
   "sideBar": true,
   "skip_h1_title": true,
   "title_cell": "Table of Contents",
   "title_sidebar": "Contents",
   "toc_cell": true,
   "toc_position": {},
   "toc_section_display": true,
   "toc_window_display": false
  }
 },
 "nbformat": 4,
 "nbformat_minor": 1
}
