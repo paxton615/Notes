{
 "cells": [
  {
   "cell_type": "markdown",
   "metadata": {},
   "source": [
    "<img src=\"http://imgur.com/1ZcRyrc.png\" style=\"float: left; margin: 20px; height: 55px\">\n",
    "\n",
    "# DataFrame Manipulation Lab with Chipotle Data\n",
    "\n",
    "\n",
    "---"
   ]
  },
  {
   "cell_type": "markdown",
   "metadata": {},
   "source": [
    "This lab is intended to cover a variety of skills for data manipulation in pandas with a challenging dataset.\n",
    "\n",
    "In addition to python function-writing practice, you will be practicing multiple pandas EDA skills including:\n",
    "- Data cleaning\n",
    "- Grouping\n",
    "- Summarize and aggregate data\n",
    "- [Pandas split-apply-combine pattern](http://pandas.pydata.org/pandas-docs/stable/groupby.html)\n",
    "- Basic plotting"
   ]
  },
  {
   "cell_type": "code",
   "execution_count": 1,
   "metadata": {},
   "outputs": [],
   "source": [
    "import numpy as np\n",
    "import scipy.stats as stats\n",
    "import seaborn as sns\n",
    "import matplotlib.pyplot as plt\n",
    "import pandas as pd\n",
    "\n",
    "sns.set(font_scale=1.5)\n",
    "\n",
    "%config InlineBackend.figure_format = 'retina'\n",
    "%matplotlib inline"
   ]
  },
  {
   "cell_type": "markdown",
   "metadata": {},
   "source": [
    "#### 1. Load the `chipotle.tsv` and examine the data."
   ]
  },
  {
   "cell_type": "code",
   "execution_count": 2,
   "metadata": {},
   "outputs": [],
   "source": [
    "chip_file = './datasets/chipotle.tsv'"
   ]
  },
  {
   "cell_type": "markdown",
   "metadata": {},
   "source": [
    "The chipotle data is a .tsv, which means \"tab separated value\". This is just like a csv but the cells are separated by tabs. There is an argument in read_csv called delimiter, where you can specify the string that separates the tabs:"
   ]
  },
  {
   "cell_type": "code",
   "execution_count": 3,
   "metadata": {},
   "outputs": [],
   "source": [
    "chip = pd.read_csv(chip_file, delimiter='\\t')"
   ]
  },
  {
   "cell_type": "code",
   "execution_count": 4,
   "metadata": {},
   "outputs": [
    {
     "data": {
      "text/html": [
       "<div>\n",
       "<style scoped>\n",
       "    .dataframe tbody tr th:only-of-type {\n",
       "        vertical-align: middle;\n",
       "    }\n",
       "\n",
       "    .dataframe tbody tr th {\n",
       "        vertical-align: top;\n",
       "    }\n",
       "\n",
       "    .dataframe thead th {\n",
       "        text-align: right;\n",
       "    }\n",
       "</style>\n",
       "<table border=\"1\" class=\"dataframe\">\n",
       "  <thead>\n",
       "    <tr style=\"text-align: right;\">\n",
       "      <th></th>\n",
       "      <th>order_id</th>\n",
       "      <th>quantity</th>\n",
       "      <th>item_name</th>\n",
       "      <th>choice_description</th>\n",
       "      <th>item_price</th>\n",
       "    </tr>\n",
       "  </thead>\n",
       "  <tbody>\n",
       "    <tr>\n",
       "      <th>0</th>\n",
       "      <td>1</td>\n",
       "      <td>1</td>\n",
       "      <td>Chips and Fresh Tomato Salsa</td>\n",
       "      <td>NaN</td>\n",
       "      <td>$2.39</td>\n",
       "    </tr>\n",
       "    <tr>\n",
       "      <th>1</th>\n",
       "      <td>1</td>\n",
       "      <td>1</td>\n",
       "      <td>Izze</td>\n",
       "      <td>[Clementine]</td>\n",
       "      <td>$3.39</td>\n",
       "    </tr>\n",
       "    <tr>\n",
       "      <th>2</th>\n",
       "      <td>1</td>\n",
       "      <td>1</td>\n",
       "      <td>Nantucket Nectar</td>\n",
       "      <td>[Apple]</td>\n",
       "      <td>$3.39</td>\n",
       "    </tr>\n",
       "    <tr>\n",
       "      <th>3</th>\n",
       "      <td>1</td>\n",
       "      <td>1</td>\n",
       "      <td>Chips and Tomatillo-Green Chili Salsa</td>\n",
       "      <td>NaN</td>\n",
       "      <td>$2.39</td>\n",
       "    </tr>\n",
       "    <tr>\n",
       "      <th>4</th>\n",
       "      <td>2</td>\n",
       "      <td>2</td>\n",
       "      <td>Chicken Bowl</td>\n",
       "      <td>[Tomatillo-Red Chili Salsa (Hot), [Black Beans...</td>\n",
       "      <td>$16.98</td>\n",
       "    </tr>\n",
       "  </tbody>\n",
       "</table>\n",
       "</div>"
      ],
      "text/plain": [
       "   order_id  quantity                              item_name  \\\n",
       "0         1         1           Chips and Fresh Tomato Salsa   \n",
       "1         1         1                                   Izze   \n",
       "2         1         1                       Nantucket Nectar   \n",
       "3         1         1  Chips and Tomatillo-Green Chili Salsa   \n",
       "4         2         2                           Chicken Bowl   \n",
       "\n",
       "                                  choice_description item_price  \n",
       "0                                                NaN     $2.39   \n",
       "1                                       [Clementine]     $3.39   \n",
       "2                                            [Apple]     $3.39   \n",
       "3                                                NaN     $2.39   \n",
       "4  [Tomatillo-Red Chili Salsa (Hot), [Black Beans...    $16.98   "
      ]
     },
     "execution_count": 4,
     "metadata": {},
     "output_type": "execute_result"
    }
   ],
   "source": [
    "chip.head()"
   ]
  },
  {
   "cell_type": "code",
   "execution_count": 5,
   "metadata": {},
   "outputs": [
    {
     "data": {
      "text/plain": [
       "order_id               int64\n",
       "quantity               int64\n",
       "item_name             object\n",
       "choice_description    object\n",
       "item_price            object\n",
       "dtype: object"
      ]
     },
     "execution_count": 5,
     "metadata": {},
     "output_type": "execute_result"
    }
   ],
   "source": [
    "chip.dtypes"
   ]
  },
  {
   "cell_type": "markdown",
   "metadata": {
    "collapsed": true
   },
   "source": [
    "_The chipotle orders data is messy: the column with ingredients in the order is a list of lists, which will need to be dealt with. This specifically will also be practice with long and wide format data._"
   ]
  },
  {
   "cell_type": "markdown",
   "metadata": {},
   "source": [
    "#### 2. Create a sub-id for each order-id\n",
    "\n",
    "We have an identifier for each order already in `order_id`, but no unique identifier for each _sub-order_ within the overall order.\n",
    "\n",
    "Use grouping and `.apply()` to assign sub-ids for orders."
   ]
  },
  {
   "cell_type": "code",
   "execution_count": null,
   "metadata": {},
   "outputs": [],
   "source": []
  },
  {
   "cell_type": "markdown",
   "metadata": {},
   "source": [
    "#### 3. Clean up the price column \n",
    "\n",
    "We want the price column to be a numeric float value. Currently it is a string (and has the dollar sign in it)."
   ]
  },
  {
   "cell_type": "code",
   "execution_count": null,
   "metadata": {},
   "outputs": [],
   "source": []
  },
  {
   "cell_type": "markdown",
   "metadata": {},
   "source": [
    "#### 4. Make a new categorical column for broader item type\n",
    "\n",
    "Currently we have many different item types. Make a new column that only has 5 different broad item types. You should have these types in the new column in your DataFrame:\n",
    "\n",
    "    chips\n",
    "    drink\n",
    "    burrito\n",
    "    taco\n",
    "    salad\n",
    "    \n",
    "(Put the `bowl` items into `burrito` category)."
   ]
  },
  {
   "cell_type": "code",
   "execution_count": null,
   "metadata": {},
   "outputs": [],
   "source": []
  },
  {
   "cell_type": "markdown",
   "metadata": {},
   "source": [
    "#### 5. Calculate the total price by `order_id` and add it as a new column `order_total_price`.\n",
    "\n",
    "There are a variety of different ways you can tackle this problem. One way is a grouped apply on the price and then a merge by `order_id` with the total price.\n",
    "\n",
    "Hints:\n",
    "\n",
    "- Merging DataFrames with series doesn't work, you need to merge two DataFrames.\n",
    "- A series object coming out of a groupby with an apply will have the groupby as potentially hierarchical indices. Using `reset_index()` will turn these back into columns and also convert to a DataFrame, which can be used to merge on."
   ]
  },
  {
   "cell_type": "code",
   "execution_count": null,
   "metadata": {},
   "outputs": [],
   "source": []
  },
  {
   "cell_type": "markdown",
   "metadata": {},
   "source": [
    "#### 6. Make an `adjusted_item_price` column to account for multiple orders per row.\n",
    "\n",
    "Some items have multiple orders per row, as indicated by the quantity. Adjust the price to account for the number of orders in a new column."
   ]
  },
  {
   "cell_type": "code",
   "execution_count": null,
   "metadata": {},
   "outputs": [],
   "source": []
  },
  {
   "cell_type": "markdown",
   "metadata": {},
   "source": [
    "#### 7. What is the min, max, count, mean and standard deviation of `adj_price` for each unique item in  `item_name`?\n",
    "\n",
    "Group by `item_name` and use the `.agg()` method on `adj_price` with `max`, `min`, `mean` and `std` and on `quantity` with `sum`."
   ]
  },
  {
   "cell_type": "code",
   "execution_count": null,
   "metadata": {},
   "outputs": [],
   "source": []
  },
  {
   "cell_type": "markdown",
   "metadata": {},
   "source": [
    "#### 8. Plot the mean price of items against the sum of quantity (popularity).\n",
    "\n",
    "You have this info in your summary table from the previous question."
   ]
  },
  {
   "cell_type": "code",
   "execution_count": null,
   "metadata": {},
   "outputs": [],
   "source": []
  },
  {
   "cell_type": "markdown",
   "metadata": {},
   "source": [
    "#### 9. Plot the max price of items against the sum of quantity (popularity)."
   ]
  },
  {
   "cell_type": "code",
   "execution_count": null,
   "metadata": {},
   "outputs": [],
   "source": []
  },
  {
   "cell_type": "markdown",
   "metadata": {},
   "source": [
    "### 10. Calculate the mean of adjusted price per broad category.\n",
    "\n",
    "You can handle these with a single function if you want, or another way if you prefer.\n",
    "\n",
    "Just FYI, apply functions can have keyword arguments that you pass in when you call the apply chained to the groupby.\n",
    "\n",
    "for example:\n",
    "\n",
    "```python\n",
    "def my_applier(df, my_kwarg='placeholder'):\n",
    "    df['newcol_'+placeholder] = 1.\n",
    "    return df\n",
    "    \n",
    "data = data.groupby('variable').apply(my_applier, my_kwarg='colsuffix').reset_index(drop=True)\n",
    "```\n"
   ]
  },
  {
   "cell_type": "code",
   "execution_count": null,
   "metadata": {},
   "outputs": [],
   "source": []
  },
  {
   "cell_type": "markdown",
   "metadata": {},
   "source": [
    "#### 11. Make a barplot of your price mean by the broad type category.\n"
   ]
  },
  {
   "cell_type": "code",
   "execution_count": null,
   "metadata": {},
   "outputs": [],
   "source": []
  },
  {
   "cell_type": "markdown",
   "metadata": {},
   "source": [
    "#### 12. [Challenge] Parse the `choice_description` column into two new columns: `order_customizations` and `order_customization_id`\n",
    "\n",
    "Here is what your inputs and outputs would look like for a hypothetical section of the DataFrame (I'm just showing some of the columns to give you an idea of what the output format will be):\n",
    "\n",
    "**Input:**\n",
    "\n",
    "```python\n",
    "                                  choice_description     item_name  order_id  \\\n",
    "0                                       [Clementine]          Izze         1   \n",
    "1  [Red Salsa, [Black Beans, Guacamole, Sour Cream]]  Chicken Bowl         1   \n",
    "\n",
    "   sub_order_id  \n",
    "0             1  \n",
    "1             2\n",
    "```\n",
    "\n",
    "**Output:**\n",
    "\n",
    "```python\n",
    "   order_customization_id order_customizations  \\\n",
    "0                       0           Clementine   \n",
    "1                       0            Red Salsa   \n",
    "2                       1          Black Beans   \n",
    "3                       2            Guacamole   \n",
    "4                       3           Sour Cream   \n",
    "\n",
    "                                  choice_description     item_name  order_id  \\\n",
    "0                                       [Clementine]          Izze         1   \n",
    "1  [Red Salsa, [Black Beans, Guacamole, Sour Cream]]  Chicken Bowl         1   \n",
    "2  [Red Salsa, [Black Beans, Guacamole, Sour Cream]]  Chicken Bowl         1   \n",
    "3  [Red Salsa, [Black Beans, Guacamole, Sour Cream]]  Chicken Bowl         1   \n",
    "4  [Red Salsa, [Black Beans, Guacamole, Sour Cream]]  Chicken Bowl         1   \n",
    "\n",
    "   sub_order_id  \n",
    "0             1  \n",
    "1             2  \n",
    "2             2  \n",
    "3             2  \n",
    "4             2 \n",
    "```\n",
    "\n",
    "Hints:\n",
    "\n",
    "- Remember you can write your own function and pass it into apply. In this case there will be one item per group, since we have to do this parsing for every row, but you may be able to get a solution with `.iterrows()` if you want to try that out.\n",
    "- Within a function that you are passing into `.apply()`, you can create a _new DataFrame and return that._ This is one of the things that makes apply so powerful, since you can essentially perform any operations you want on a subset of your original DataFrame as long as you return DataFrames/groups that can be recombined.\n",
    "- *Your output dataframe will be very long as there will be a row for every item in the item_name column.  Expect there to be a lot of repeating information between rows, but they should not be exactly identical.*\n",
    "\n",
    "**Note: the function may take a while to complete. `apply` isn't that efficient with complicated custom operations per row like this.**"
   ]
  },
  {
   "cell_type": "code",
   "execution_count": null,
   "metadata": {},
   "outputs": [],
   "source": []
  }
 ],
 "metadata": {
  "kernelspec": {
   "display_name": "Python 3",
   "language": "python",
   "name": "python3"
  },
  "language_info": {
   "codemirror_mode": {
    "name": "ipython",
    "version": 3
   },
   "file_extension": ".py",
   "mimetype": "text/x-python",
   "name": "python",
   "nbconvert_exporter": "python",
   "pygments_lexer": "ipython3",
   "version": "3.7.3"
  },
  "toc": {
   "base_numbering": 1,
   "nav_menu": {},
   "number_sections": false,
   "sideBar": true,
   "skip_h1_title": true,
   "title_cell": "Table of Contents",
   "title_sidebar": "Contents",
   "toc_cell": false,
   "toc_position": {},
   "toc_section_display": "block",
   "toc_window_display": false
  }
 },
 "nbformat": 4,
 "nbformat_minor": 2
}
