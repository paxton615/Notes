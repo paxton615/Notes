{
 "cells": [
  {
   "cell_type": "markdown",
   "metadata": {},
   "source": [
    "<img src=\"http://imgur.com/1ZcRyrc.png\" style=\"float: left; margin: 20px; height: 55px\">\n",
    "\n",
    "# Partial Autocorrelations demo\n",
    "\n",
    "---"
   ]
  },
  {
   "cell_type": "markdown",
   "metadata": {
    "toc": true
   },
   "source": [
    "<h1>Table of Contents<span class=\"tocSkip\"></span></h1>\n",
    "<div class=\"toc\"><ul class=\"toc-item\"><li><span><a href=\"#Read-in-the-data\" data-toc-modified-id=\"Read-in-the-data-1\">Read in the data</a></span></li><li><span><a href=\"#Get-the-differenced-timeseries\" data-toc-modified-id=\"Get-the-differenced-timeseries-2\">Get the differenced timeseries</a></span></li><li><span><a href=\"#Prepared-lagged-time-series-as-predictors\" data-toc-modified-id=\"Prepared-lagged-time-series-as-predictors-3\">Prepared lagged time series as predictors</a></span></li><li><span><a href=\"#Partial-autocorrelations-with-statsmodels\" data-toc-modified-id=\"Partial-autocorrelations-with-statsmodels-4\">Partial autocorrelations with statsmodels</a></span></li><li><span><a href=\"#Fit-a-linear-regression-model-on-the-k-preceding-lags\" data-toc-modified-id=\"Fit-a-linear-regression-model-on-the-k-preceding-lags-5\">Fit a linear regression model on the k preceding lags</a></span></li></ul></div>"
   ]
  },
  {
   "cell_type": "code",
   "execution_count": 1,
   "metadata": {},
   "outputs": [],
   "source": [
    "import pandas as pd\n",
    "import numpy as np\n",
    "import matplotlib.pyplot as plt\n",
    "import seaborn as sns\n",
    "import datetime\n",
    "np.set_printoptions(precision=4)\n",
    "sns.set(font_scale=1.5)\n",
    "plt.style.use('fivethirtyeight')\n",
    "\n",
    "%matplotlib inline\n",
    "%config InlineBackend.figure_format = 'retina'"
   ]
  },
  {
   "cell_type": "markdown",
   "metadata": {},
   "source": [
    "## Read in the data"
   ]
  },
  {
   "cell_type": "code",
   "execution_count": 2,
   "metadata": {},
   "outputs": [
    {
     "data": {
      "text/html": [
       "<div>\n",
       "<style scoped>\n",
       "    .dataframe tbody tr th:only-of-type {\n",
       "        vertical-align: middle;\n",
       "    }\n",
       "\n",
       "    .dataframe tbody tr th {\n",
       "        vertical-align: top;\n",
       "    }\n",
       "\n",
       "    .dataframe thead th {\n",
       "        text-align: right;\n",
       "    }\n",
       "</style>\n",
       "<table border=\"1\" class=\"dataframe\">\n",
       "  <thead>\n",
       "    <tr style=\"text-align: right;\">\n",
       "      <th></th>\n",
       "      <th>year_quarter</th>\n",
       "      <th>unemployment_rate</th>\n",
       "    </tr>\n",
       "    <tr>\n",
       "      <th>date</th>\n",
       "      <th></th>\n",
       "      <th></th>\n",
       "    </tr>\n",
       "  </thead>\n",
       "  <tbody>\n",
       "    <tr>\n",
       "      <th>1948Q1</th>\n",
       "      <td>1948Q1</td>\n",
       "      <td>3.733</td>\n",
       "    </tr>\n",
       "    <tr>\n",
       "      <th>1948Q2</th>\n",
       "      <td>1948Q2</td>\n",
       "      <td>3.667</td>\n",
       "    </tr>\n",
       "    <tr>\n",
       "      <th>1948Q3</th>\n",
       "      <td>1948Q3</td>\n",
       "      <td>3.767</td>\n",
       "    </tr>\n",
       "    <tr>\n",
       "      <th>1948Q4</th>\n",
       "      <td>1948Q4</td>\n",
       "      <td>3.833</td>\n",
       "    </tr>\n",
       "    <tr>\n",
       "      <th>1949Q1</th>\n",
       "      <td>1949Q1</td>\n",
       "      <td>4.667</td>\n",
       "    </tr>\n",
       "  </tbody>\n",
       "</table>\n",
       "</div>"
      ],
      "text/plain": [
       "       year_quarter  unemployment_rate\n",
       "date                                  \n",
       "1948Q1       1948Q1              3.733\n",
       "1948Q2       1948Q2              3.667\n",
       "1948Q3       1948Q3              3.767\n",
       "1948Q4       1948Q4              3.833\n",
       "1949Q1       1949Q1              4.667"
      ]
     },
     "execution_count": 2,
     "metadata": {},
     "output_type": "execute_result"
    }
   ],
   "source": [
    "data = pd.read_csv(\n",
    "    '../../../../resource-datasets/unemployment_timeseries/seasonally-adjusted-quarterly-us.csv')\n",
    "data.columns = ['year_quarter', 'unemployment_rate']\n",
    "data['unemployment_rate'] = data['unemployment_rate'].map(\n",
    "    lambda x: float(str(x).replace('%', '')))\n",
    "data.dropna(inplace=True)\n",
    "data['date'] = pd.to_datetime(data.year_quarter).dt.to_period('Q')\n",
    "data.set_index('date', inplace=True)\n",
    "data.head()"
   ]
  },
  {
   "cell_type": "markdown",
   "metadata": {},
   "source": [
    "## Get the differenced timeseries"
   ]
  },
  {
   "cell_type": "code",
   "execution_count": 3,
   "metadata": {},
   "outputs": [],
   "source": [
    "data_diff = pd.DataFrame([data['unemployment_rate'].diff()]).T[1:]\n",
    "data_diff.columns = ['rate_0']"
   ]
  },
  {
   "cell_type": "markdown",
   "metadata": {},
   "source": [
    "## Prepared lagged time series as predictors"
   ]
  },
  {
   "cell_type": "code",
   "execution_count": 4,
   "metadata": {},
   "outputs": [
    {
     "data": {
      "text/html": [
       "<div>\n",
       "<style scoped>\n",
       "    .dataframe tbody tr th:only-of-type {\n",
       "        vertical-align: middle;\n",
       "    }\n",
       "\n",
       "    .dataframe tbody tr th {\n",
       "        vertical-align: top;\n",
       "    }\n",
       "\n",
       "    .dataframe thead th {\n",
       "        text-align: right;\n",
       "    }\n",
       "</style>\n",
       "<table border=\"1\" class=\"dataframe\">\n",
       "  <thead>\n",
       "    <tr style=\"text-align: right;\">\n",
       "      <th></th>\n",
       "      <th>rate_0</th>\n",
       "      <th>rate_1</th>\n",
       "      <th>rate_2</th>\n",
       "      <th>rate_3</th>\n",
       "      <th>rate_4</th>\n",
       "      <th>rate_5</th>\n",
       "      <th>rate_6</th>\n",
       "      <th>rate_7</th>\n",
       "      <th>rate_8</th>\n",
       "      <th>rate_9</th>\n",
       "      <th>rate_10</th>\n",
       "    </tr>\n",
       "    <tr>\n",
       "      <th>date</th>\n",
       "      <th></th>\n",
       "      <th></th>\n",
       "      <th></th>\n",
       "      <th></th>\n",
       "      <th></th>\n",
       "      <th></th>\n",
       "      <th></th>\n",
       "      <th></th>\n",
       "      <th></th>\n",
       "      <th></th>\n",
       "      <th></th>\n",
       "    </tr>\n",
       "  </thead>\n",
       "  <tbody>\n",
       "    <tr>\n",
       "      <th>1948Q2</th>\n",
       "      <td>-0.066</td>\n",
       "      <td>NaN</td>\n",
       "      <td>NaN</td>\n",
       "      <td>NaN</td>\n",
       "      <td>NaN</td>\n",
       "      <td>NaN</td>\n",
       "      <td>NaN</td>\n",
       "      <td>NaN</td>\n",
       "      <td>NaN</td>\n",
       "      <td>NaN</td>\n",
       "      <td>NaN</td>\n",
       "    </tr>\n",
       "    <tr>\n",
       "      <th>1948Q3</th>\n",
       "      <td>0.100</td>\n",
       "      <td>-0.066</td>\n",
       "      <td>NaN</td>\n",
       "      <td>NaN</td>\n",
       "      <td>NaN</td>\n",
       "      <td>NaN</td>\n",
       "      <td>NaN</td>\n",
       "      <td>NaN</td>\n",
       "      <td>NaN</td>\n",
       "      <td>NaN</td>\n",
       "      <td>NaN</td>\n",
       "    </tr>\n",
       "    <tr>\n",
       "      <th>1948Q4</th>\n",
       "      <td>0.066</td>\n",
       "      <td>0.100</td>\n",
       "      <td>-0.066</td>\n",
       "      <td>NaN</td>\n",
       "      <td>NaN</td>\n",
       "      <td>NaN</td>\n",
       "      <td>NaN</td>\n",
       "      <td>NaN</td>\n",
       "      <td>NaN</td>\n",
       "      <td>NaN</td>\n",
       "      <td>NaN</td>\n",
       "    </tr>\n",
       "    <tr>\n",
       "      <th>1949Q1</th>\n",
       "      <td>0.834</td>\n",
       "      <td>0.066</td>\n",
       "      <td>0.100</td>\n",
       "      <td>-0.066</td>\n",
       "      <td>NaN</td>\n",
       "      <td>NaN</td>\n",
       "      <td>NaN</td>\n",
       "      <td>NaN</td>\n",
       "      <td>NaN</td>\n",
       "      <td>NaN</td>\n",
       "      <td>NaN</td>\n",
       "    </tr>\n",
       "    <tr>\n",
       "      <th>1949Q2</th>\n",
       "      <td>1.200</td>\n",
       "      <td>0.834</td>\n",
       "      <td>0.066</td>\n",
       "      <td>0.100</td>\n",
       "      <td>-0.066</td>\n",
       "      <td>NaN</td>\n",
       "      <td>NaN</td>\n",
       "      <td>NaN</td>\n",
       "      <td>NaN</td>\n",
       "      <td>NaN</td>\n",
       "      <td>NaN</td>\n",
       "    </tr>\n",
       "    <tr>\n",
       "      <th>1949Q3</th>\n",
       "      <td>0.833</td>\n",
       "      <td>1.200</td>\n",
       "      <td>0.834</td>\n",
       "      <td>0.066</td>\n",
       "      <td>0.100</td>\n",
       "      <td>-0.066</td>\n",
       "      <td>NaN</td>\n",
       "      <td>NaN</td>\n",
       "      <td>NaN</td>\n",
       "      <td>NaN</td>\n",
       "      <td>NaN</td>\n",
       "    </tr>\n",
       "    <tr>\n",
       "      <th>1949Q4</th>\n",
       "      <td>0.267</td>\n",
       "      <td>0.833</td>\n",
       "      <td>1.200</td>\n",
       "      <td>0.834</td>\n",
       "      <td>0.066</td>\n",
       "      <td>0.100</td>\n",
       "      <td>-0.066</td>\n",
       "      <td>NaN</td>\n",
       "      <td>NaN</td>\n",
       "      <td>NaN</td>\n",
       "      <td>NaN</td>\n",
       "    </tr>\n",
       "    <tr>\n",
       "      <th>1950Q1</th>\n",
       "      <td>-0.567</td>\n",
       "      <td>0.267</td>\n",
       "      <td>0.833</td>\n",
       "      <td>1.200</td>\n",
       "      <td>0.834</td>\n",
       "      <td>0.066</td>\n",
       "      <td>0.100</td>\n",
       "      <td>-0.066</td>\n",
       "      <td>NaN</td>\n",
       "      <td>NaN</td>\n",
       "      <td>NaN</td>\n",
       "    </tr>\n",
       "    <tr>\n",
       "      <th>1950Q2</th>\n",
       "      <td>-0.833</td>\n",
       "      <td>-0.567</td>\n",
       "      <td>0.267</td>\n",
       "      <td>0.833</td>\n",
       "      <td>1.200</td>\n",
       "      <td>0.834</td>\n",
       "      <td>0.066</td>\n",
       "      <td>0.100</td>\n",
       "      <td>-0.066</td>\n",
       "      <td>NaN</td>\n",
       "      <td>NaN</td>\n",
       "    </tr>\n",
       "    <tr>\n",
       "      <th>1950Q3</th>\n",
       "      <td>-0.934</td>\n",
       "      <td>-0.833</td>\n",
       "      <td>-0.567</td>\n",
       "      <td>0.267</td>\n",
       "      <td>0.833</td>\n",
       "      <td>1.200</td>\n",
       "      <td>0.834</td>\n",
       "      <td>0.066</td>\n",
       "      <td>0.100</td>\n",
       "      <td>-0.066</td>\n",
       "      <td>NaN</td>\n",
       "    </tr>\n",
       "    <tr>\n",
       "      <th>1950Q4</th>\n",
       "      <td>-0.400</td>\n",
       "      <td>-0.934</td>\n",
       "      <td>-0.833</td>\n",
       "      <td>-0.567</td>\n",
       "      <td>0.267</td>\n",
       "      <td>0.833</td>\n",
       "      <td>1.200</td>\n",
       "      <td>0.834</td>\n",
       "      <td>0.066</td>\n",
       "      <td>0.100</td>\n",
       "      <td>-0.066</td>\n",
       "    </tr>\n",
       "  </tbody>\n",
       "</table>\n",
       "</div>"
      ],
      "text/plain": [
       "        rate_0  rate_1  rate_2  rate_3  rate_4  rate_5  rate_6  rate_7  \\\n",
       "date                                                                     \n",
       "1948Q2  -0.066     NaN     NaN     NaN     NaN     NaN     NaN     NaN   \n",
       "1948Q3   0.100  -0.066     NaN     NaN     NaN     NaN     NaN     NaN   \n",
       "1948Q4   0.066   0.100  -0.066     NaN     NaN     NaN     NaN     NaN   \n",
       "1949Q1   0.834   0.066   0.100  -0.066     NaN     NaN     NaN     NaN   \n",
       "1949Q2   1.200   0.834   0.066   0.100  -0.066     NaN     NaN     NaN   \n",
       "1949Q3   0.833   1.200   0.834   0.066   0.100  -0.066     NaN     NaN   \n",
       "1949Q4   0.267   0.833   1.200   0.834   0.066   0.100  -0.066     NaN   \n",
       "1950Q1  -0.567   0.267   0.833   1.200   0.834   0.066   0.100  -0.066   \n",
       "1950Q2  -0.833  -0.567   0.267   0.833   1.200   0.834   0.066   0.100   \n",
       "1950Q3  -0.934  -0.833  -0.567   0.267   0.833   1.200   0.834   0.066   \n",
       "1950Q4  -0.400  -0.934  -0.833  -0.567   0.267   0.833   1.200   0.834   \n",
       "\n",
       "        rate_8  rate_9  rate_10  \n",
       "date                             \n",
       "1948Q2     NaN     NaN      NaN  \n",
       "1948Q3     NaN     NaN      NaN  \n",
       "1948Q4     NaN     NaN      NaN  \n",
       "1949Q1     NaN     NaN      NaN  \n",
       "1949Q2     NaN     NaN      NaN  \n",
       "1949Q3     NaN     NaN      NaN  \n",
       "1949Q4     NaN     NaN      NaN  \n",
       "1950Q1     NaN     NaN      NaN  \n",
       "1950Q2  -0.066     NaN      NaN  \n",
       "1950Q3   0.100  -0.066      NaN  \n",
       "1950Q4   0.066   0.100   -0.066  "
      ]
     },
     "execution_count": 4,
     "metadata": {},
     "output_type": "execute_result"
    }
   ],
   "source": [
    "for i in range(1, 11):\n",
    "    data_diff['rate_{}'.format(i)] = data_diff['rate_0'].shift(i)\n",
    "\n",
    "data_diff.head(11)"
   ]
  },
  {
   "cell_type": "markdown",
   "metadata": {},
   "source": [
    "## Partial autocorrelations with statsmodels\n",
    "\n",
    "Note that to we choose the `method=ols` to facilitate reconstruction of the results."
   ]
  },
  {
   "cell_type": "code",
   "execution_count": 5,
   "metadata": {},
   "outputs": [],
   "source": [
    "from statsmodels.tsa.stattools import pacf"
   ]
  },
  {
   "cell_type": "code",
   "execution_count": 6,
   "metadata": {},
   "outputs": [
    {
     "data": {
      "text/plain": [
       "array([ 1.    ,  0.6351, -0.2452, -0.1633, -0.1342,  0.0326,  0.019 ,\n",
       "       -0.1204, -0.1834,  0.1661, -0.0338, -0.1538, -0.1916,  0.0938,\n",
       "       -0.0784,  0.0175, -0.0164,  0.1053, -0.0234, -0.1009,  0.0534,\n",
       "        0.0105, -0.0682, -0.081 , -0.0202,  0.0845,  0.023 , -0.1427,\n",
       "       -0.0155,  0.0035, -0.0621, -0.0484, -0.0982,  0.1026, -0.0092,\n",
       "        0.0337, -0.2229,  0.0236,  0.0046, -0.0201, -0.0753])"
      ]
     },
     "execution_count": 6,
     "metadata": {},
     "output_type": "execute_result"
    }
   ],
   "source": [
    "pacf(data_diff['rate_0'], method='ols')"
   ]
  },
  {
   "cell_type": "markdown",
   "metadata": {},
   "source": [
    "## Fit a linear regression model on the k preceding lags"
   ]
  },
  {
   "cell_type": "markdown",
   "metadata": {},
   "source": [
    "> The partial autocorrelations are obtained by picking always the last of the regression coefficients."
   ]
  },
  {
   "cell_type": "code",
   "execution_count": 7,
   "metadata": {},
   "outputs": [],
   "source": [
    "from sklearn.linear_model import LinearRegression"
   ]
  },
  {
   "cell_type": "code",
   "execution_count": 8,
   "metadata": {},
   "outputs": [
    {
     "name": "stdout",
     "output_type": "stream",
     "text": [
      "1\n",
      "[0.6351]\n",
      "2\n",
      "[ 0.7899 -0.2452]\n",
      "3\n",
      "[ 0.7504 -0.1171 -0.1633]\n",
      "4\n",
      "[ 0.7304 -0.1398 -0.0574 -0.1342]\n",
      "5\n",
      "[ 0.7082 -0.1168 -0.0614 -0.1577  0.0326]\n",
      "6\n",
      "[ 0.7038 -0.1156 -0.0572 -0.1568  0.0183  0.019 ]\n",
      "7\n",
      "[ 0.707  -0.1093 -0.074  -0.1668  0.0046  0.1073 -0.1204]\n",
      "8\n",
      "[ 0.6803 -0.0836 -0.0587 -0.1884 -0.0234  0.0918  0.0161 -0.1834]\n",
      "9\n",
      "[ 0.7078 -0.0829 -0.0721 -0.1823  0.0118  0.0989  0.0374 -0.301   0.1661]\n",
      "10\n",
      "[ 0.7107 -0.1001 -0.0676 -0.1765  0.0207  0.0965  0.0253 -0.2985  0.191\n",
      " -0.0338]\n"
     ]
    }
   ],
   "source": [
    "partial_autocorrelations = []\n",
    "for k in range(1, 11):\n",
    "    y = data_diff['rate_0'][k:]\n",
    "    cols = ['rate_{}'.format(i) for i in range(1, k+1)]\n",
    "    X = data_diff[cols][k:]\n",
    "    model = LinearRegression()\n",
    "    model.fit(X, y)\n",
    "    print(k)\n",
    "    print(model.coef_)\n",
    "    partial_autocorrelations.append(model.coef_[-1])"
   ]
  },
  {
   "cell_type": "code",
   "execution_count": 9,
   "metadata": {},
   "outputs": [
    {
     "data": {
      "text/plain": [
       "[0.6351266023088293,\n",
       " -0.245240066142401,\n",
       " -0.16333638534997372,\n",
       " -0.1341583242181495,\n",
       " 0.032597651320756725,\n",
       " 0.018957456400937843,\n",
       " -0.1203579431477386,\n",
       " -0.18340219322328594,\n",
       " 0.1661322955387021,\n",
       " -0.03382801531687649]"
      ]
     },
     "execution_count": 9,
     "metadata": {},
     "output_type": "execute_result"
    }
   ],
   "source": [
    "# our calculation\n",
    "partial_autocorrelations"
   ]
  },
  {
   "cell_type": "code",
   "execution_count": 10,
   "metadata": {},
   "outputs": [
    {
     "data": {
      "text/plain": [
       "True"
      ]
     },
     "execution_count": 10,
     "metadata": {},
     "output_type": "execute_result"
    }
   ],
   "source": [
    "# compare to the statsmodels result\n",
    "np.allclose(pacf(data_diff['rate_0'], method='ols', nlags=10)[1:],\n",
    "            np.array(partial_autocorrelations))"
   ]
  },
  {
   "cell_type": "code",
   "execution_count": null,
   "metadata": {},
   "outputs": [],
   "source": []
  }
 ],
 "metadata": {
  "kernelspec": {
   "display_name": "Python 3",
   "language": "python",
   "name": "python3"
  },
  "language_info": {
   "codemirror_mode": {
    "name": "ipython",
    "version": 3
   },
   "file_extension": ".py",
   "mimetype": "text/x-python",
   "name": "python",
   "nbconvert_exporter": "python",
   "pygments_lexer": "ipython3",
   "version": "3.7.3"
  },
  "toc": {
   "base_numbering": 1,
   "nav_menu": {},
   "number_sections": false,
   "sideBar": true,
   "skip_h1_title": true,
   "title_cell": "Table of Contents",
   "title_sidebar": "Contents",
   "toc_cell": true,
   "toc_position": {},
   "toc_section_display": true,
   "toc_window_display": false
  }
 },
 "nbformat": 4,
 "nbformat_minor": 2
}
