{
 "cells": [
  {
   "cell_type": "markdown",
   "metadata": {},
   "source": [
    "<img src=\"http://imgur.com/1ZcRyrc.png\" style=\"float: left; margin: 20px; height: 55px\">\n",
    "\n",
    "# Practice SQL with Pandas pt. 2\n",
    "\n",
    "---\n",
    "\n",
    "\n",
    "We've learned about relational databases and the language most used to query them, SQL.  \n",
    "\n",
    "In this lab we are going to gain more practice converting information to a SQL DB, querying the data and then analysing it with Python."
   ]
  },
  {
   "cell_type": "code",
   "execution_count": 1,
   "metadata": {},
   "outputs": [],
   "source": [
    "# Necessary Libraries\n",
    "import pandas as pd\n",
    "import sqlite3\n",
    "import numpy as np"
   ]
  },
  {
   "cell_type": "markdown",
   "metadata": {},
   "source": [
    "### 1.  Read in the EuroMart CSV Data\n",
    "- 'EuroMart-ListOfOrders.csv'\n",
    "- 'EuroMart-OrderBreakdown.csv'\n",
    "- 'EuroMart-SalesTargets.csv'"
   ]
  },
  {
   "cell_type": "code",
   "execution_count": 2,
   "metadata": {},
   "outputs": [],
   "source": [
    "# Reading CSV to Dataframe\n",
    "orders = pd.read_csv('./datasets/EuroMart-ListOfOrders.csv', encoding = 'utf-8')\n",
    "OBD =  pd.read_csv('./datasets/EuroMart-OrderBreakdown.csv', encoding = 'utf-8')\n",
    "sales_targets =  pd.read_csv('./datasets/EuroMart-SalesTargets.csv', encoding = 'utf-8')"
   ]
  },
  {
   "cell_type": "markdown",
   "metadata": {},
   "source": [
    "### 2. Rename columns to remove any spaces"
   ]
  },
  {
   "cell_type": "code",
   "execution_count": 3,
   "metadata": {},
   "outputs": [],
   "source": [
    "name_list = [\"order_id\",\"order_date\",\"customer_name\",\"city\",\"country\",\"region\",\"segment\",\"ship_date\",\"ship_mode\",\"state\"]"
   ]
  },
  {
   "cell_type": "code",
   "execution_count": 4,
   "metadata": {},
   "outputs": [],
   "source": [
    "name_list1 = [\"order_id\",\"product_name\",\"discount\",\"sales\",\"profit\",\"quantity\",\"category\",\"sub_category\"]"
   ]
  },
  {
   "cell_type": "code",
   "execution_count": 5,
   "metadata": {},
   "outputs": [],
   "source": [
    "name_list2 = [\"month_order_date\",\"category\",\"target\"]"
   ]
  },
  {
   "cell_type": "code",
   "execution_count": 6,
   "metadata": {},
   "outputs": [],
   "source": [
    "orders.columns=name_list"
   ]
  },
  {
   "cell_type": "code",
   "execution_count": 7,
   "metadata": {},
   "outputs": [],
   "source": [
    "OBD.columns=name_list1"
   ]
  },
  {
   "cell_type": "code",
   "execution_count": 8,
   "metadata": {},
   "outputs": [],
   "source": [
    "sales_targets.columns=name_list2"
   ]
  },
  {
   "cell_type": "code",
   "execution_count": 9,
   "metadata": {},
   "outputs": [
    {
     "data": {
      "text/html": [
       "<div>\n",
       "<style scoped>\n",
       "    .dataframe tbody tr th:only-of-type {\n",
       "        vertical-align: middle;\n",
       "    }\n",
       "\n",
       "    .dataframe tbody tr th {\n",
       "        vertical-align: top;\n",
       "    }\n",
       "\n",
       "    .dataframe thead th {\n",
       "        text-align: right;\n",
       "    }\n",
       "</style>\n",
       "<table border=\"1\" class=\"dataframe\">\n",
       "  <thead>\n",
       "    <tr style=\"text-align: right;\">\n",
       "      <th></th>\n",
       "      <th>order_id</th>\n",
       "      <th>order_date</th>\n",
       "      <th>customer_name</th>\n",
       "      <th>city</th>\n",
       "      <th>country</th>\n",
       "      <th>region</th>\n",
       "      <th>segment</th>\n",
       "      <th>ship_date</th>\n",
       "      <th>ship_mode</th>\n",
       "      <th>state</th>\n",
       "    </tr>\n",
       "  </thead>\n",
       "  <tbody>\n",
       "    <tr>\n",
       "      <th>0</th>\n",
       "      <td>BN-2011-7407039</td>\n",
       "      <td>1/1/2011</td>\n",
       "      <td>Ruby Patel</td>\n",
       "      <td>Stockholm</td>\n",
       "      <td>Sweden</td>\n",
       "      <td>North</td>\n",
       "      <td>Home Office</td>\n",
       "      <td>1/5/2011</td>\n",
       "      <td>Economy Plus</td>\n",
       "      <td>Stockholm</td>\n",
       "    </tr>\n",
       "    <tr>\n",
       "      <th>1</th>\n",
       "      <td>AZ-2011-9050313</td>\n",
       "      <td>1/3/2011</td>\n",
       "      <td>Summer Hayward</td>\n",
       "      <td>Southport</td>\n",
       "      <td>United Kingdom</td>\n",
       "      <td>North</td>\n",
       "      <td>Consumer</td>\n",
       "      <td>1/7/2011</td>\n",
       "      <td>Economy</td>\n",
       "      <td>England</td>\n",
       "    </tr>\n",
       "    <tr>\n",
       "      <th>2</th>\n",
       "      <td>AZ-2011-6674300</td>\n",
       "      <td>1/4/2011</td>\n",
       "      <td>Devin Huddleston</td>\n",
       "      <td>Valence</td>\n",
       "      <td>France</td>\n",
       "      <td>Central</td>\n",
       "      <td>Consumer</td>\n",
       "      <td>1/8/2011</td>\n",
       "      <td>Economy</td>\n",
       "      <td>Auvergne-Rhône-Alpes</td>\n",
       "    </tr>\n",
       "    <tr>\n",
       "      <th>3</th>\n",
       "      <td>BN-2011-2819714</td>\n",
       "      <td>1/4/2011</td>\n",
       "      <td>Mary Parker</td>\n",
       "      <td>Birmingham</td>\n",
       "      <td>United Kingdom</td>\n",
       "      <td>North</td>\n",
       "      <td>Corporate</td>\n",
       "      <td>1/9/2011</td>\n",
       "      <td>Economy</td>\n",
       "      <td>England</td>\n",
       "    </tr>\n",
       "    <tr>\n",
       "      <th>4</th>\n",
       "      <td>AZ-2011-617423</td>\n",
       "      <td>1/5/2011</td>\n",
       "      <td>Daniel Burke</td>\n",
       "      <td>Echirolles</td>\n",
       "      <td>France</td>\n",
       "      <td>Central</td>\n",
       "      <td>Home Office</td>\n",
       "      <td>1/7/2011</td>\n",
       "      <td>Priority</td>\n",
       "      <td>Auvergne-Rhône-Alpes</td>\n",
       "    </tr>\n",
       "  </tbody>\n",
       "</table>\n",
       "</div>"
      ],
      "text/plain": [
       "          order_id order_date     customer_name        city         country  \\\n",
       "0  BN-2011-7407039   1/1/2011        Ruby Patel   Stockholm          Sweden   \n",
       "1  AZ-2011-9050313   1/3/2011    Summer Hayward   Southport  United Kingdom   \n",
       "2  AZ-2011-6674300   1/4/2011  Devin Huddleston     Valence          France   \n",
       "3  BN-2011-2819714   1/4/2011       Mary Parker  Birmingham  United Kingdom   \n",
       "4   AZ-2011-617423   1/5/2011      Daniel Burke  Echirolles          France   \n",
       "\n",
       "    region      segment ship_date     ship_mode                 state  \n",
       "0    North  Home Office  1/5/2011  Economy Plus             Stockholm  \n",
       "1    North     Consumer  1/7/2011       Economy               England  \n",
       "2  Central     Consumer  1/8/2011       Economy  Auvergne-Rhône-Alpes  \n",
       "3    North    Corporate  1/9/2011       Economy               England  \n",
       "4  Central  Home Office  1/7/2011      Priority  Auvergne-Rhône-Alpes  "
      ]
     },
     "execution_count": 9,
     "metadata": {},
     "output_type": "execute_result"
    }
   ],
   "source": [
    "orders.head()"
   ]
  },
  {
   "cell_type": "code",
   "execution_count": null,
   "metadata": {},
   "outputs": [],
   "source": []
  },
  {
   "cell_type": "code",
   "execution_count": 10,
   "metadata": {},
   "outputs": [
    {
     "data": {
      "text/html": [
       "<div>\n",
       "<style scoped>\n",
       "    .dataframe tbody tr th:only-of-type {\n",
       "        vertical-align: middle;\n",
       "    }\n",
       "\n",
       "    .dataframe tbody tr th {\n",
       "        vertical-align: top;\n",
       "    }\n",
       "\n",
       "    .dataframe thead th {\n",
       "        text-align: right;\n",
       "    }\n",
       "</style>\n",
       "<table border=\"1\" class=\"dataframe\">\n",
       "  <thead>\n",
       "    <tr style=\"text-align: right;\">\n",
       "      <th></th>\n",
       "      <th>order_id</th>\n",
       "      <th>product_name</th>\n",
       "      <th>discount</th>\n",
       "      <th>sales</th>\n",
       "      <th>profit</th>\n",
       "      <th>quantity</th>\n",
       "      <th>category</th>\n",
       "      <th>sub_category</th>\n",
       "    </tr>\n",
       "  </thead>\n",
       "  <tbody>\n",
       "    <tr>\n",
       "      <th>0</th>\n",
       "      <td>BN-2011-7407039</td>\n",
       "      <td>Enermax Note Cards, Premium</td>\n",
       "      <td>0.5</td>\n",
       "      <td>$45.00</td>\n",
       "      <td>-$26.00</td>\n",
       "      <td>3</td>\n",
       "      <td>Office Supplies</td>\n",
       "      <td>Paper</td>\n",
       "    </tr>\n",
       "    <tr>\n",
       "      <th>1</th>\n",
       "      <td>AZ-2011-9050313</td>\n",
       "      <td>Dania Corner Shelving, Traditional</td>\n",
       "      <td>0.0</td>\n",
       "      <td>$854.00</td>\n",
       "      <td>$290.00</td>\n",
       "      <td>7</td>\n",
       "      <td>Furniture</td>\n",
       "      <td>Bookcases</td>\n",
       "    </tr>\n",
       "    <tr>\n",
       "      <th>2</th>\n",
       "      <td>AZ-2011-6674300</td>\n",
       "      <td>Binney &amp; Smith Sketch Pad, Easy-Erase</td>\n",
       "      <td>0.0</td>\n",
       "      <td>$140.00</td>\n",
       "      <td>$21.00</td>\n",
       "      <td>3</td>\n",
       "      <td>Office Supplies</td>\n",
       "      <td>Art</td>\n",
       "    </tr>\n",
       "    <tr>\n",
       "      <th>3</th>\n",
       "      <td>BN-2011-2819714</td>\n",
       "      <td>Boston Markers, Easy-Erase</td>\n",
       "      <td>0.5</td>\n",
       "      <td>$27.00</td>\n",
       "      <td>-$22.00</td>\n",
       "      <td>2</td>\n",
       "      <td>Office Supplies</td>\n",
       "      <td>Art</td>\n",
       "    </tr>\n",
       "    <tr>\n",
       "      <th>4</th>\n",
       "      <td>BN-2011-2819714</td>\n",
       "      <td>Eldon Folders, Single Width</td>\n",
       "      <td>0.5</td>\n",
       "      <td>$17.00</td>\n",
       "      <td>-$1.00</td>\n",
       "      <td>2</td>\n",
       "      <td>Office Supplies</td>\n",
       "      <td>Storage</td>\n",
       "    </tr>\n",
       "  </tbody>\n",
       "</table>\n",
       "</div>"
      ],
      "text/plain": [
       "          order_id                           product_name  discount    sales  \\\n",
       "0  BN-2011-7407039            Enermax Note Cards, Premium       0.5   $45.00   \n",
       "1  AZ-2011-9050313     Dania Corner Shelving, Traditional       0.0  $854.00   \n",
       "2  AZ-2011-6674300  Binney & Smith Sketch Pad, Easy-Erase       0.0  $140.00   \n",
       "3  BN-2011-2819714             Boston Markers, Easy-Erase       0.5   $27.00   \n",
       "4  BN-2011-2819714            Eldon Folders, Single Width       0.5   $17.00   \n",
       "\n",
       "    profit  quantity         category sub_category  \n",
       "0  -$26.00         3  Office Supplies        Paper  \n",
       "1  $290.00         7        Furniture    Bookcases  \n",
       "2   $21.00         3  Office Supplies          Art  \n",
       "3  -$22.00         2  Office Supplies          Art  \n",
       "4   -$1.00         2  Office Supplies      Storage  "
      ]
     },
     "execution_count": 10,
     "metadata": {},
     "output_type": "execute_result"
    }
   ],
   "source": [
    "OBD.head()"
   ]
  },
  {
   "cell_type": "code",
   "execution_count": 11,
   "metadata": {},
   "outputs": [
    {
     "data": {
      "text/html": [
       "<div>\n",
       "<style scoped>\n",
       "    .dataframe tbody tr th:only-of-type {\n",
       "        vertical-align: middle;\n",
       "    }\n",
       "\n",
       "    .dataframe tbody tr th {\n",
       "        vertical-align: top;\n",
       "    }\n",
       "\n",
       "    .dataframe thead th {\n",
       "        text-align: right;\n",
       "    }\n",
       "</style>\n",
       "<table border=\"1\" class=\"dataframe\">\n",
       "  <thead>\n",
       "    <tr style=\"text-align: right;\">\n",
       "      <th></th>\n",
       "      <th>month_order_date</th>\n",
       "      <th>category</th>\n",
       "      <th>target</th>\n",
       "    </tr>\n",
       "  </thead>\n",
       "  <tbody>\n",
       "    <tr>\n",
       "      <th>0</th>\n",
       "      <td>Jan-11</td>\n",
       "      <td>Furniture</td>\n",
       "      <td>$10,000.00</td>\n",
       "    </tr>\n",
       "    <tr>\n",
       "      <th>1</th>\n",
       "      <td>Feb-11</td>\n",
       "      <td>Furniture</td>\n",
       "      <td>$10,100.00</td>\n",
       "    </tr>\n",
       "    <tr>\n",
       "      <th>2</th>\n",
       "      <td>Mar-11</td>\n",
       "      <td>Furniture</td>\n",
       "      <td>$10,300.00</td>\n",
       "    </tr>\n",
       "    <tr>\n",
       "      <th>3</th>\n",
       "      <td>Apr-11</td>\n",
       "      <td>Furniture</td>\n",
       "      <td>$10,400.00</td>\n",
       "    </tr>\n",
       "    <tr>\n",
       "      <th>4</th>\n",
       "      <td>May-11</td>\n",
       "      <td>Furniture</td>\n",
       "      <td>$10,500.00</td>\n",
       "    </tr>\n",
       "  </tbody>\n",
       "</table>\n",
       "</div>"
      ],
      "text/plain": [
       "  month_order_date   category      target\n",
       "0           Jan-11  Furniture  $10,000.00\n",
       "1           Feb-11  Furniture  $10,100.00\n",
       "2           Mar-11  Furniture  $10,300.00\n",
       "3           Apr-11  Furniture  $10,400.00\n",
       "4           May-11  Furniture  $10,500.00"
      ]
     },
     "execution_count": 11,
     "metadata": {},
     "output_type": "execute_result"
    }
   ],
   "source": [
    "sales_targets.head()"
   ]
  },
  {
   "cell_type": "code",
   "execution_count": null,
   "metadata": {},
   "outputs": [],
   "source": []
  },
  {
   "cell_type": "markdown",
   "metadata": {},
   "source": [
    "### 3. Remove dollar signs from sales and profit columns in the order breakdown dataframe.\n",
    "\n",
    "> **Note:** Remember to convert the columns to float as well. "
   ]
  },
  {
   "cell_type": "code",
   "execution_count": 12,
   "metadata": {},
   "outputs": [],
   "source": [
    "OBD[\"sales\"] = OBD[\"sales\"].str.replace(\"$\",\"\")"
   ]
  },
  {
   "cell_type": "code",
   "execution_count": 13,
   "metadata": {},
   "outputs": [],
   "source": [
    "OBD[\"sales\"] = OBD[\"sales\"].str.replace(\",\",\"\")"
   ]
  },
  {
   "cell_type": "code",
   "execution_count": 14,
   "metadata": {},
   "outputs": [],
   "source": [
    "OBD[\"profit\"] = OBD[\"profit\"].str.replace(\"$\",\"\")"
   ]
  },
  {
   "cell_type": "code",
   "execution_count": 15,
   "metadata": {},
   "outputs": [],
   "source": [
    "OBD[\"profit\"] = OBD[\"profit\"].str.replace(\",\",\"\")"
   ]
  },
  {
   "cell_type": "code",
   "execution_count": 16,
   "metadata": {},
   "outputs": [],
   "source": [
    "OBD[\"sales\"] = OBD[\"sales\"].map(lambda x:float(x))"
   ]
  },
  {
   "cell_type": "code",
   "execution_count": 17,
   "metadata": {},
   "outputs": [],
   "source": [
    "OBD[\"profit\"] = OBD[\"profit\"].map(lambda x:float(x))"
   ]
  },
  {
   "cell_type": "code",
   "execution_count": 18,
   "metadata": {},
   "outputs": [
    {
     "data": {
      "text/plain": [
       "order_id         object\n",
       "product_name     object\n",
       "discount        float64\n",
       "sales           float64\n",
       "profit          float64\n",
       "quantity          int64\n",
       "category         object\n",
       "sub_category     object\n",
       "dtype: object"
      ]
     },
     "execution_count": 18,
     "metadata": {},
     "output_type": "execute_result"
    }
   ],
   "source": [
    "OBD.dtypes"
   ]
  },
  {
   "cell_type": "markdown",
   "metadata": {},
   "source": [
    "### 4. Create a SQL Database called 'EuroMart' and save the three dataframes as SQL tables. "
   ]
  },
  {
   "cell_type": "code",
   "execution_count": 19,
   "metadata": {},
   "outputs": [],
   "source": [
    "connection = sqlite3.connect('datasets/EuroMart.db.sqlite')"
   ]
  },
  {
   "cell_type": "code",
   "execution_count": 20,
   "metadata": {},
   "outputs": [],
   "source": [
    "orders.to_sql(name=\"new_orders\",con=connection,if_exists = 'replace', index = False\n",
    ")"
   ]
  },
  {
   "cell_type": "code",
   "execution_count": 21,
   "metadata": {},
   "outputs": [],
   "source": [
    "OBD.to_sql(name=\"new_OBD\",con=connection,if_exists = 'replace', index = False\n",
    ")"
   ]
  },
  {
   "cell_type": "code",
   "execution_count": 22,
   "metadata": {},
   "outputs": [],
   "source": [
    "sales_targets.to_sql(name=\"new_sales_targets\",con=connection,if_exists = 'replace', index = False\n",
    ")"
   ]
  },
  {
   "cell_type": "code",
   "execution_count": 23,
   "metadata": {},
   "outputs": [
    {
     "data": {
      "text/html": [
       "<div>\n",
       "<style scoped>\n",
       "    .dataframe tbody tr th:only-of-type {\n",
       "        vertical-align: middle;\n",
       "    }\n",
       "\n",
       "    .dataframe tbody tr th {\n",
       "        vertical-align: top;\n",
       "    }\n",
       "\n",
       "    .dataframe thead th {\n",
       "        text-align: right;\n",
       "    }\n",
       "</style>\n",
       "<table border=\"1\" class=\"dataframe\">\n",
       "  <thead>\n",
       "    <tr style=\"text-align: right;\">\n",
       "      <th></th>\n",
       "      <th>order_id</th>\n",
       "      <th>order_date</th>\n",
       "      <th>customer_name</th>\n",
       "      <th>city</th>\n",
       "      <th>country</th>\n",
       "      <th>region</th>\n",
       "      <th>segment</th>\n",
       "      <th>ship_date</th>\n",
       "      <th>ship_mode</th>\n",
       "      <th>state</th>\n",
       "    </tr>\n",
       "  </thead>\n",
       "  <tbody>\n",
       "    <tr>\n",
       "      <th>0</th>\n",
       "      <td>BN-2011-7407039</td>\n",
       "      <td>1/1/2011</td>\n",
       "      <td>Ruby Patel</td>\n",
       "      <td>Stockholm</td>\n",
       "      <td>Sweden</td>\n",
       "      <td>North</td>\n",
       "      <td>Home Office</td>\n",
       "      <td>1/5/2011</td>\n",
       "      <td>Economy Plus</td>\n",
       "      <td>Stockholm</td>\n",
       "    </tr>\n",
       "  </tbody>\n",
       "</table>\n",
       "</div>"
      ],
      "text/plain": [
       "          order_id order_date customer_name       city country region  \\\n",
       "0  BN-2011-7407039   1/1/2011    Ruby Patel  Stockholm  Sweden  North   \n",
       "\n",
       "       segment ship_date     ship_mode      state  \n",
       "0  Home Office  1/5/2011  Economy Plus  Stockholm  "
      ]
     },
     "execution_count": 23,
     "metadata": {},
     "output_type": "execute_result"
    }
   ],
   "source": [
    "orders.head(1)"
   ]
  },
  {
   "cell_type": "markdown",
   "metadata": {},
   "source": [
    "### 5. How many orders has each Customer placed? "
   ]
  },
  {
   "cell_type": "code",
   "execution_count": 24,
   "metadata": {},
   "outputs": [
    {
     "data": {
      "text/html": [
       "<div>\n",
       "<style scoped>\n",
       "    .dataframe tbody tr th:only-of-type {\n",
       "        vertical-align: middle;\n",
       "    }\n",
       "\n",
       "    .dataframe tbody tr th {\n",
       "        vertical-align: top;\n",
       "    }\n",
       "\n",
       "    .dataframe thead th {\n",
       "        text-align: right;\n",
       "    }\n",
       "</style>\n",
       "<table border=\"1\" class=\"dataframe\">\n",
       "  <thead>\n",
       "    <tr style=\"text-align: right;\">\n",
       "      <th></th>\n",
       "      <th>customer_name</th>\n",
       "    </tr>\n",
       "  </thead>\n",
       "  <tbody>\n",
       "    <tr>\n",
       "      <th>0</th>\n",
       "      <td>Ruby Patel</td>\n",
       "    </tr>\n",
       "    <tr>\n",
       "      <th>1</th>\n",
       "      <td>Summer Hayward</td>\n",
       "    </tr>\n",
       "    <tr>\n",
       "      <th>2</th>\n",
       "      <td>Devin Huddleston</td>\n",
       "    </tr>\n",
       "    <tr>\n",
       "      <th>3</th>\n",
       "      <td>Mary Parker</td>\n",
       "    </tr>\n",
       "    <tr>\n",
       "      <th>4</th>\n",
       "      <td>Daniel Burke</td>\n",
       "    </tr>\n",
       "  </tbody>\n",
       "</table>\n",
       "</div>"
      ],
      "text/plain": [
       "      customer_name\n",
       "0        Ruby Patel\n",
       "1    Summer Hayward\n",
       "2  Devin Huddleston\n",
       "3       Mary Parker\n",
       "4      Daniel Burke"
      ]
     },
     "execution_count": 24,
     "metadata": {},
     "output_type": "execute_result"
    }
   ],
   "source": [
    "pd.read_sql('SELECT customer_name FROM new_orders', con=connection).head()"
   ]
  },
  {
   "cell_type": "markdown",
   "metadata": {},
   "source": [
    "> *If you're doubting your output check using Pandas*"
   ]
  },
  {
   "cell_type": "markdown",
   "metadata": {},
   "source": [
    "### 6. Create a Query to return a table of only geographic features from the List of Orders Table."
   ]
  },
  {
   "cell_type": "code",
   "execution_count": 25,
   "metadata": {},
   "outputs": [
    {
     "data": {
      "text/html": [
       "<div>\n",
       "<style scoped>\n",
       "    .dataframe tbody tr th:only-of-type {\n",
       "        vertical-align: middle;\n",
       "    }\n",
       "\n",
       "    .dataframe tbody tr th {\n",
       "        vertical-align: top;\n",
       "    }\n",
       "\n",
       "    .dataframe thead th {\n",
       "        text-align: right;\n",
       "    }\n",
       "</style>\n",
       "<table border=\"1\" class=\"dataframe\">\n",
       "  <thead>\n",
       "    <tr style=\"text-align: right;\">\n",
       "      <th></th>\n",
       "      <th>order_id</th>\n",
       "      <th>order_date</th>\n",
       "      <th>customer_name</th>\n",
       "      <th>city</th>\n",
       "      <th>country</th>\n",
       "      <th>region</th>\n",
       "      <th>segment</th>\n",
       "      <th>ship_date</th>\n",
       "      <th>ship_mode</th>\n",
       "      <th>state</th>\n",
       "    </tr>\n",
       "  </thead>\n",
       "  <tbody>\n",
       "    <tr>\n",
       "      <th>0</th>\n",
       "      <td>BN-2011-7407039</td>\n",
       "      <td>1/1/2011</td>\n",
       "      <td>Ruby Patel</td>\n",
       "      <td>Stockholm</td>\n",
       "      <td>Sweden</td>\n",
       "      <td>North</td>\n",
       "      <td>Home Office</td>\n",
       "      <td>1/5/2011</td>\n",
       "      <td>Economy Plus</td>\n",
       "      <td>Stockholm</td>\n",
       "    </tr>\n",
       "  </tbody>\n",
       "</table>\n",
       "</div>"
      ],
      "text/plain": [
       "          order_id order_date customer_name       city country region  \\\n",
       "0  BN-2011-7407039   1/1/2011    Ruby Patel  Stockholm  Sweden  North   \n",
       "\n",
       "       segment ship_date     ship_mode      state  \n",
       "0  Home Office  1/5/2011  Economy Plus  Stockholm  "
      ]
     },
     "execution_count": 25,
     "metadata": {},
     "output_type": "execute_result"
    }
   ],
   "source": [
    "orders.head(1)"
   ]
  },
  {
   "cell_type": "code",
   "execution_count": 26,
   "metadata": {},
   "outputs": [],
   "source": [
    "geograph = pd.read_sql('SELECT city,country,region FROM new_orders', con=connection)"
   ]
  },
  {
   "cell_type": "code",
   "execution_count": 27,
   "metadata": {},
   "outputs": [
    {
     "data": {
      "text/html": [
       "<div>\n",
       "<style scoped>\n",
       "    .dataframe tbody tr th:only-of-type {\n",
       "        vertical-align: middle;\n",
       "    }\n",
       "\n",
       "    .dataframe tbody tr th {\n",
       "        vertical-align: top;\n",
       "    }\n",
       "\n",
       "    .dataframe thead th {\n",
       "        text-align: right;\n",
       "    }\n",
       "</style>\n",
       "<table border=\"1\" class=\"dataframe\">\n",
       "  <thead>\n",
       "    <tr style=\"text-align: right;\">\n",
       "      <th></th>\n",
       "      <th>city</th>\n",
       "      <th>country</th>\n",
       "      <th>region</th>\n",
       "    </tr>\n",
       "  </thead>\n",
       "  <tbody>\n",
       "    <tr>\n",
       "      <th>0</th>\n",
       "      <td>Stockholm</td>\n",
       "      <td>Sweden</td>\n",
       "      <td>North</td>\n",
       "    </tr>\n",
       "    <tr>\n",
       "      <th>1</th>\n",
       "      <td>Southport</td>\n",
       "      <td>United Kingdom</td>\n",
       "      <td>North</td>\n",
       "    </tr>\n",
       "    <tr>\n",
       "      <th>2</th>\n",
       "      <td>Valence</td>\n",
       "      <td>France</td>\n",
       "      <td>Central</td>\n",
       "    </tr>\n",
       "    <tr>\n",
       "      <th>3</th>\n",
       "      <td>Birmingham</td>\n",
       "      <td>United Kingdom</td>\n",
       "      <td>North</td>\n",
       "    </tr>\n",
       "    <tr>\n",
       "      <th>4</th>\n",
       "      <td>Echirolles</td>\n",
       "      <td>France</td>\n",
       "      <td>Central</td>\n",
       "    </tr>\n",
       "  </tbody>\n",
       "</table>\n",
       "</div>"
      ],
      "text/plain": [
       "         city         country   region\n",
       "0   Stockholm          Sweden    North\n",
       "1   Southport  United Kingdom    North\n",
       "2     Valence          France  Central\n",
       "3  Birmingham  United Kingdom    North\n",
       "4  Echirolles          France  Central"
      ]
     },
     "execution_count": 27,
     "metadata": {},
     "output_type": "execute_result"
    }
   ],
   "source": [
    "geograph.head()"
   ]
  },
  {
   "cell_type": "markdown",
   "metadata": {},
   "source": [
    "### 7. Create a Query to return a table with all of the orders that had a negative profit from the Order Breakdown Table."
   ]
  },
  {
   "cell_type": "code",
   "execution_count": 28,
   "metadata": {},
   "outputs": [
    {
     "data": {
      "text/html": [
       "<div>\n",
       "<style scoped>\n",
       "    .dataframe tbody tr th:only-of-type {\n",
       "        vertical-align: middle;\n",
       "    }\n",
       "\n",
       "    .dataframe tbody tr th {\n",
       "        vertical-align: top;\n",
       "    }\n",
       "\n",
       "    .dataframe thead th {\n",
       "        text-align: right;\n",
       "    }\n",
       "</style>\n",
       "<table border=\"1\" class=\"dataframe\">\n",
       "  <thead>\n",
       "    <tr style=\"text-align: right;\">\n",
       "      <th></th>\n",
       "      <th>order_id</th>\n",
       "      <th>product_name</th>\n",
       "      <th>discount</th>\n",
       "      <th>sales</th>\n",
       "      <th>profit</th>\n",
       "      <th>quantity</th>\n",
       "      <th>category</th>\n",
       "      <th>sub_category</th>\n",
       "    </tr>\n",
       "  </thead>\n",
       "  <tbody>\n",
       "    <tr>\n",
       "      <th>0</th>\n",
       "      <td>BN-2011-7407039</td>\n",
       "      <td>Enermax Note Cards, Premium</td>\n",
       "      <td>0.5</td>\n",
       "      <td>45.0</td>\n",
       "      <td>-26.0</td>\n",
       "      <td>3</td>\n",
       "      <td>Office Supplies</td>\n",
       "      <td>Paper</td>\n",
       "    </tr>\n",
       "  </tbody>\n",
       "</table>\n",
       "</div>"
      ],
      "text/plain": [
       "          order_id                 product_name  discount  sales  profit  \\\n",
       "0  BN-2011-7407039  Enermax Note Cards, Premium       0.5   45.0   -26.0   \n",
       "\n",
       "   quantity         category sub_category  \n",
       "0         3  Office Supplies        Paper  "
      ]
     },
     "execution_count": 28,
     "metadata": {},
     "output_type": "execute_result"
    }
   ],
   "source": [
    "OBD.head(1)"
   ]
  },
  {
   "cell_type": "code",
   "execution_count": 29,
   "metadata": {},
   "outputs": [],
   "source": [
    "neg_profit = pd.read_sql('SELECT * FROM new_OBD WHERE profit<0',con=connection)"
   ]
  },
  {
   "cell_type": "code",
   "execution_count": 30,
   "metadata": {},
   "outputs": [
    {
     "data": {
      "text/html": [
       "<div>\n",
       "<style scoped>\n",
       "    .dataframe tbody tr th:only-of-type {\n",
       "        vertical-align: middle;\n",
       "    }\n",
       "\n",
       "    .dataframe tbody tr th {\n",
       "        vertical-align: top;\n",
       "    }\n",
       "\n",
       "    .dataframe thead th {\n",
       "        text-align: right;\n",
       "    }\n",
       "</style>\n",
       "<table border=\"1\" class=\"dataframe\">\n",
       "  <thead>\n",
       "    <tr style=\"text-align: right;\">\n",
       "      <th></th>\n",
       "      <th>order_id</th>\n",
       "      <th>product_name</th>\n",
       "      <th>discount</th>\n",
       "      <th>sales</th>\n",
       "      <th>profit</th>\n",
       "      <th>quantity</th>\n",
       "      <th>category</th>\n",
       "      <th>sub_category</th>\n",
       "    </tr>\n",
       "  </thead>\n",
       "  <tbody>\n",
       "    <tr>\n",
       "      <th>0</th>\n",
       "      <td>BN-2011-7407039</td>\n",
       "      <td>Enermax Note Cards, Premium</td>\n",
       "      <td>0.5</td>\n",
       "      <td>45.0</td>\n",
       "      <td>-26.0</td>\n",
       "      <td>3</td>\n",
       "      <td>Office Supplies</td>\n",
       "      <td>Paper</td>\n",
       "    </tr>\n",
       "    <tr>\n",
       "      <th>1</th>\n",
       "      <td>BN-2011-2819714</td>\n",
       "      <td>Boston Markers, Easy-Erase</td>\n",
       "      <td>0.5</td>\n",
       "      <td>27.0</td>\n",
       "      <td>-22.0</td>\n",
       "      <td>2</td>\n",
       "      <td>Office Supplies</td>\n",
       "      <td>Art</td>\n",
       "    </tr>\n",
       "    <tr>\n",
       "      <th>2</th>\n",
       "      <td>BN-2011-2819714</td>\n",
       "      <td>Eldon Folders, Single Width</td>\n",
       "      <td>0.5</td>\n",
       "      <td>17.0</td>\n",
       "      <td>-1.0</td>\n",
       "      <td>2</td>\n",
       "      <td>Office Supplies</td>\n",
       "      <td>Storage</td>\n",
       "    </tr>\n",
       "    <tr>\n",
       "      <th>3</th>\n",
       "      <td>BN-2011-3248724</td>\n",
       "      <td>Ikea Classic Bookcase, Metal</td>\n",
       "      <td>0.6</td>\n",
       "      <td>987.0</td>\n",
       "      <td>-1012.0</td>\n",
       "      <td>6</td>\n",
       "      <td>Furniture</td>\n",
       "      <td>Bookcases</td>\n",
       "    </tr>\n",
       "    <tr>\n",
       "      <th>4</th>\n",
       "      <td>BN-2011-3248724</td>\n",
       "      <td>Binney &amp; Smith Sketch Pad, Blue</td>\n",
       "      <td>0.5</td>\n",
       "      <td>116.0</td>\n",
       "      <td>-56.0</td>\n",
       "      <td>5</td>\n",
       "      <td>Office Supplies</td>\n",
       "      <td>Art</td>\n",
       "    </tr>\n",
       "  </tbody>\n",
       "</table>\n",
       "</div>"
      ],
      "text/plain": [
       "          order_id                     product_name  discount  sales  profit  \\\n",
       "0  BN-2011-7407039      Enermax Note Cards, Premium       0.5   45.0   -26.0   \n",
       "1  BN-2011-2819714       Boston Markers, Easy-Erase       0.5   27.0   -22.0   \n",
       "2  BN-2011-2819714      Eldon Folders, Single Width       0.5   17.0    -1.0   \n",
       "3  BN-2011-3248724     Ikea Classic Bookcase, Metal       0.6  987.0 -1012.0   \n",
       "4  BN-2011-3248724  Binney & Smith Sketch Pad, Blue       0.5  116.0   -56.0   \n",
       "\n",
       "   quantity         category sub_category  \n",
       "0         3  Office Supplies        Paper  \n",
       "1         2  Office Supplies          Art  \n",
       "2         2  Office Supplies      Storage  \n",
       "3         6        Furniture    Bookcases  \n",
       "4         5  Office Supplies          Art  "
      ]
     },
     "execution_count": 30,
     "metadata": {},
     "output_type": "execute_result"
    }
   ],
   "source": [
    "neg_profit.head()"
   ]
  },
  {
   "cell_type": "code",
   "execution_count": null,
   "metadata": {},
   "outputs": [],
   "source": []
  },
  {
   "cell_type": "markdown",
   "metadata": {},
   "source": [
    "### 8. Construct a query to return a table with the Customer Name and Product Name.  \n",
    "\n",
    "> **Note:** This will require a join!\n",
    "\n",
    "\n",
    "```SQL  \n",
    "SELECT table1.column_name(s), table2.column_name(s),\n",
    "FROM table1\n",
    "INNER JOIN table2\n",
    "ON table1.column_name = table2.column_name;\n",
    "```"
   ]
  },
  {
   "cell_type": "code",
   "execution_count": 31,
   "metadata": {},
   "outputs": [],
   "source": [
    "cus_pro_names = pd.read_sql(\n",
    "    'SELECT new_orders.customer_name, new_OBD.product_name FROM new_orders INNER JOIN new_OBD ON new_orders.order_id = new_OBD.order_id',con=connection)"
   ]
  },
  {
   "cell_type": "code",
   "execution_count": 32,
   "metadata": {},
   "outputs": [
    {
     "data": {
      "text/html": [
       "<div>\n",
       "<style scoped>\n",
       "    .dataframe tbody tr th:only-of-type {\n",
       "        vertical-align: middle;\n",
       "    }\n",
       "\n",
       "    .dataframe tbody tr th {\n",
       "        vertical-align: top;\n",
       "    }\n",
       "\n",
       "    .dataframe thead th {\n",
       "        text-align: right;\n",
       "    }\n",
       "</style>\n",
       "<table border=\"1\" class=\"dataframe\">\n",
       "  <thead>\n",
       "    <tr style=\"text-align: right;\">\n",
       "      <th></th>\n",
       "      <th>customer_name</th>\n",
       "      <th>product_name</th>\n",
       "    </tr>\n",
       "  </thead>\n",
       "  <tbody>\n",
       "    <tr>\n",
       "      <th>0</th>\n",
       "      <td>Ruby Patel</td>\n",
       "      <td>Enermax Note Cards, Premium</td>\n",
       "    </tr>\n",
       "    <tr>\n",
       "      <th>1</th>\n",
       "      <td>Summer Hayward</td>\n",
       "      <td>Dania Corner Shelving, Traditional</td>\n",
       "    </tr>\n",
       "    <tr>\n",
       "      <th>2</th>\n",
       "      <td>Devin Huddleston</td>\n",
       "      <td>Binney &amp; Smith Sketch Pad, Easy-Erase</td>\n",
       "    </tr>\n",
       "    <tr>\n",
       "      <th>3</th>\n",
       "      <td>Mary Parker</td>\n",
       "      <td>Boston Markers, Easy-Erase</td>\n",
       "    </tr>\n",
       "    <tr>\n",
       "      <th>4</th>\n",
       "      <td>Mary Parker</td>\n",
       "      <td>Eldon Folders, Single Width</td>\n",
       "    </tr>\n",
       "  </tbody>\n",
       "</table>\n",
       "</div>"
      ],
      "text/plain": [
       "      customer_name                           product_name\n",
       "0        Ruby Patel            Enermax Note Cards, Premium\n",
       "1    Summer Hayward     Dania Corner Shelving, Traditional\n",
       "2  Devin Huddleston  Binney & Smith Sketch Pad, Easy-Erase\n",
       "3       Mary Parker             Boston Markers, Easy-Erase\n",
       "4       Mary Parker            Eldon Folders, Single Width"
      ]
     },
     "execution_count": 32,
     "metadata": {},
     "output_type": "execute_result"
    }
   ],
   "source": [
    "cus_pro_names.head()"
   ]
  },
  {
   "cell_type": "markdown",
   "metadata": {},
   "source": [
    "### 9.  How many orders for \"Office Supplies\" (Category) has Sweden made?\n",
    "\n",
    "> **Note:** from this point on you'll probably be combining SQL and Pandas, in that you would use SQL querys to gather the relevant information and use Pandas to analyze it."
   ]
  },
  {
   "cell_type": "code",
   "execution_count": 33,
   "metadata": {},
   "outputs": [
    {
     "data": {
      "text/html": [
       "<div>\n",
       "<style scoped>\n",
       "    .dataframe tbody tr th:only-of-type {\n",
       "        vertical-align: middle;\n",
       "    }\n",
       "\n",
       "    .dataframe tbody tr th {\n",
       "        vertical-align: top;\n",
       "    }\n",
       "\n",
       "    .dataframe thead th {\n",
       "        text-align: right;\n",
       "    }\n",
       "</style>\n",
       "<table border=\"1\" class=\"dataframe\">\n",
       "  <thead>\n",
       "    <tr style=\"text-align: right;\">\n",
       "      <th></th>\n",
       "      <th>order_id</th>\n",
       "      <th>product_name</th>\n",
       "      <th>discount</th>\n",
       "      <th>sales</th>\n",
       "      <th>profit</th>\n",
       "      <th>quantity</th>\n",
       "      <th>category</th>\n",
       "      <th>sub_category</th>\n",
       "    </tr>\n",
       "  </thead>\n",
       "  <tbody>\n",
       "    <tr>\n",
       "      <th>0</th>\n",
       "      <td>BN-2011-7407039</td>\n",
       "      <td>Enermax Note Cards, Premium</td>\n",
       "      <td>0.5</td>\n",
       "      <td>45.0</td>\n",
       "      <td>-26.0</td>\n",
       "      <td>3</td>\n",
       "      <td>Office Supplies</td>\n",
       "      <td>Paper</td>\n",
       "    </tr>\n",
       "  </tbody>\n",
       "</table>\n",
       "</div>"
      ],
      "text/plain": [
       "          order_id                 product_name  discount  sales  profit  \\\n",
       "0  BN-2011-7407039  Enermax Note Cards, Premium       0.5   45.0   -26.0   \n",
       "\n",
       "   quantity         category sub_category  \n",
       "0         3  Office Supplies        Paper  "
      ]
     },
     "execution_count": 33,
     "metadata": {},
     "output_type": "execute_result"
    }
   ],
   "source": [
    "OBD.head(1)"
   ]
  },
  {
   "cell_type": "code",
   "execution_count": 34,
   "metadata": {},
   "outputs": [
    {
     "data": {
      "text/html": [
       "<div>\n",
       "<style scoped>\n",
       "    .dataframe tbody tr th:only-of-type {\n",
       "        vertical-align: middle;\n",
       "    }\n",
       "\n",
       "    .dataframe tbody tr th {\n",
       "        vertical-align: top;\n",
       "    }\n",
       "\n",
       "    .dataframe thead th {\n",
       "        text-align: right;\n",
       "    }\n",
       "</style>\n",
       "<table border=\"1\" class=\"dataframe\">\n",
       "  <thead>\n",
       "    <tr style=\"text-align: right;\">\n",
       "      <th></th>\n",
       "      <th>order_id</th>\n",
       "      <th>order_date</th>\n",
       "      <th>customer_name</th>\n",
       "      <th>city</th>\n",
       "      <th>country</th>\n",
       "      <th>region</th>\n",
       "      <th>segment</th>\n",
       "      <th>ship_date</th>\n",
       "      <th>ship_mode</th>\n",
       "      <th>state</th>\n",
       "    </tr>\n",
       "  </thead>\n",
       "  <tbody>\n",
       "    <tr>\n",
       "      <th>0</th>\n",
       "      <td>BN-2011-7407039</td>\n",
       "      <td>1/1/2011</td>\n",
       "      <td>Ruby Patel</td>\n",
       "      <td>Stockholm</td>\n",
       "      <td>Sweden</td>\n",
       "      <td>North</td>\n",
       "      <td>Home Office</td>\n",
       "      <td>1/5/2011</td>\n",
       "      <td>Economy Plus</td>\n",
       "      <td>Stockholm</td>\n",
       "    </tr>\n",
       "  </tbody>\n",
       "</table>\n",
       "</div>"
      ],
      "text/plain": [
       "          order_id order_date customer_name       city country region  \\\n",
       "0  BN-2011-7407039   1/1/2011    Ruby Patel  Stockholm  Sweden  North   \n",
       "\n",
       "       segment ship_date     ship_mode      state  \n",
       "0  Home Office  1/5/2011  Economy Plus  Stockholm  "
      ]
     },
     "execution_count": 34,
     "metadata": {},
     "output_type": "execute_result"
    }
   ],
   "source": [
    "orders.head(1)"
   ]
  },
  {
   "cell_type": "code",
   "execution_count": null,
   "metadata": {},
   "outputs": [],
   "source": []
  },
  {
   "cell_type": "code",
   "execution_count": 35,
   "metadata": {},
   "outputs": [],
   "source": [
    "sweden_supplies = pd.read_sql(\n",
    "    \"SELECT new_orders.order_id,new_orders.country, new_OBD.category \"\n",
    "    \"FROM new_orders \"\n",
    "    \"LEFT JOIN new_OBD \"\n",
    "    \"ON new_orders.order_id=new_OBD.order_id \"\n",
    "    \"WHERE new_orders.country='Sweden' AND new_OBD.category='Office Supplies' \"\n",
    "    , con=connection, index_col='country')"
   ]
  },
  {
   "cell_type": "code",
   "execution_count": 36,
   "metadata": {},
   "outputs": [
    {
     "data": {
      "text/plain": [
       "133"
      ]
     },
     "execution_count": 36,
     "metadata": {},
     "output_type": "execute_result"
    }
   ],
   "source": [
    "len(sweden_supplies)"
   ]
  },
  {
   "cell_type": "code",
   "execution_count": 37,
   "metadata": {},
   "outputs": [],
   "source": [
    "sweden_supplies = pd.read_sql(\n",
    "    \"SELECT COUNT(new_orders.order_id),new_orders.country, new_OBD.category \"\n",
    "    \"FROM new_orders \"\n",
    "    \"LEFT JOIN new_OBD \"\n",
    "    \"ON new_orders.order_id=new_OBD.order_id \"\n",
    "    \"WHERE new_orders.country='Sweden' AND new_OBD.category='Office Supplies' \"\n",
    "    , con=connection, index_col='country')"
   ]
  },
  {
   "cell_type": "code",
   "execution_count": 38,
   "metadata": {},
   "outputs": [
    {
     "data": {
      "text/html": [
       "<div>\n",
       "<style scoped>\n",
       "    .dataframe tbody tr th:only-of-type {\n",
       "        vertical-align: middle;\n",
       "    }\n",
       "\n",
       "    .dataframe tbody tr th {\n",
       "        vertical-align: top;\n",
       "    }\n",
       "\n",
       "    .dataframe thead th {\n",
       "        text-align: right;\n",
       "    }\n",
       "</style>\n",
       "<table border=\"1\" class=\"dataframe\">\n",
       "  <thead>\n",
       "    <tr style=\"text-align: right;\">\n",
       "      <th></th>\n",
       "      <th>COUNT(new_orders.order_id)</th>\n",
       "      <th>category</th>\n",
       "    </tr>\n",
       "    <tr>\n",
       "      <th>country</th>\n",
       "      <th></th>\n",
       "      <th></th>\n",
       "    </tr>\n",
       "  </thead>\n",
       "  <tbody>\n",
       "    <tr>\n",
       "      <th>Sweden</th>\n",
       "      <td>133</td>\n",
       "      <td>Office Supplies</td>\n",
       "    </tr>\n",
       "  </tbody>\n",
       "</table>\n",
       "</div>"
      ],
      "text/plain": [
       "         COUNT(new_orders.order_id)         category\n",
       "country                                             \n",
       "Sweden                          133  Office Supplies"
      ]
     },
     "execution_count": 38,
     "metadata": {},
     "output_type": "execute_result"
    }
   ],
   "source": [
    "sweden_supplies"
   ]
  },
  {
   "cell_type": "markdown",
   "metadata": {},
   "source": [
    "### 10. What was the total sales for products that have been discounted? "
   ]
  },
  {
   "cell_type": "code",
   "execution_count": 39,
   "metadata": {},
   "outputs": [
    {
     "data": {
      "text/html": [
       "<div>\n",
       "<style scoped>\n",
       "    .dataframe tbody tr th:only-of-type {\n",
       "        vertical-align: middle;\n",
       "    }\n",
       "\n",
       "    .dataframe tbody tr th {\n",
       "        vertical-align: top;\n",
       "    }\n",
       "\n",
       "    .dataframe thead th {\n",
       "        text-align: right;\n",
       "    }\n",
       "</style>\n",
       "<table border=\"1\" class=\"dataframe\">\n",
       "  <thead>\n",
       "    <tr style=\"text-align: right;\">\n",
       "      <th></th>\n",
       "      <th>order_id</th>\n",
       "      <th>order_date</th>\n",
       "      <th>customer_name</th>\n",
       "      <th>city</th>\n",
       "      <th>country</th>\n",
       "      <th>region</th>\n",
       "      <th>segment</th>\n",
       "      <th>ship_date</th>\n",
       "      <th>ship_mode</th>\n",
       "      <th>state</th>\n",
       "    </tr>\n",
       "  </thead>\n",
       "  <tbody>\n",
       "    <tr>\n",
       "      <th>0</th>\n",
       "      <td>BN-2011-7407039</td>\n",
       "      <td>1/1/2011</td>\n",
       "      <td>Ruby Patel</td>\n",
       "      <td>Stockholm</td>\n",
       "      <td>Sweden</td>\n",
       "      <td>North</td>\n",
       "      <td>Home Office</td>\n",
       "      <td>1/5/2011</td>\n",
       "      <td>Economy Plus</td>\n",
       "      <td>Stockholm</td>\n",
       "    </tr>\n",
       "  </tbody>\n",
       "</table>\n",
       "</div>"
      ],
      "text/plain": [
       "          order_id order_date customer_name       city country region  \\\n",
       "0  BN-2011-7407039   1/1/2011    Ruby Patel  Stockholm  Sweden  North   \n",
       "\n",
       "       segment ship_date     ship_mode      state  \n",
       "0  Home Office  1/5/2011  Economy Plus  Stockholm  "
      ]
     },
     "execution_count": 39,
     "metadata": {},
     "output_type": "execute_result"
    }
   ],
   "source": [
    "orders.head(1)"
   ]
  },
  {
   "cell_type": "code",
   "execution_count": 40,
   "metadata": {},
   "outputs": [
    {
     "data": {
      "text/html": [
       "<div>\n",
       "<style scoped>\n",
       "    .dataframe tbody tr th:only-of-type {\n",
       "        vertical-align: middle;\n",
       "    }\n",
       "\n",
       "    .dataframe tbody tr th {\n",
       "        vertical-align: top;\n",
       "    }\n",
       "\n",
       "    .dataframe thead th {\n",
       "        text-align: right;\n",
       "    }\n",
       "</style>\n",
       "<table border=\"1\" class=\"dataframe\">\n",
       "  <thead>\n",
       "    <tr style=\"text-align: right;\">\n",
       "      <th></th>\n",
       "      <th>order_id</th>\n",
       "      <th>product_name</th>\n",
       "      <th>discount</th>\n",
       "      <th>sales</th>\n",
       "      <th>profit</th>\n",
       "      <th>quantity</th>\n",
       "      <th>category</th>\n",
       "      <th>sub_category</th>\n",
       "    </tr>\n",
       "  </thead>\n",
       "  <tbody>\n",
       "    <tr>\n",
       "      <th>0</th>\n",
       "      <td>BN-2011-7407039</td>\n",
       "      <td>Enermax Note Cards, Premium</td>\n",
       "      <td>0.5</td>\n",
       "      <td>45.0</td>\n",
       "      <td>-26.0</td>\n",
       "      <td>3</td>\n",
       "      <td>Office Supplies</td>\n",
       "      <td>Paper</td>\n",
       "    </tr>\n",
       "    <tr>\n",
       "      <th>1</th>\n",
       "      <td>AZ-2011-9050313</td>\n",
       "      <td>Dania Corner Shelving, Traditional</td>\n",
       "      <td>0.0</td>\n",
       "      <td>854.0</td>\n",
       "      <td>290.0</td>\n",
       "      <td>7</td>\n",
       "      <td>Furniture</td>\n",
       "      <td>Bookcases</td>\n",
       "    </tr>\n",
       "    <tr>\n",
       "      <th>2</th>\n",
       "      <td>AZ-2011-6674300</td>\n",
       "      <td>Binney &amp; Smith Sketch Pad, Easy-Erase</td>\n",
       "      <td>0.0</td>\n",
       "      <td>140.0</td>\n",
       "      <td>21.0</td>\n",
       "      <td>3</td>\n",
       "      <td>Office Supplies</td>\n",
       "      <td>Art</td>\n",
       "    </tr>\n",
       "    <tr>\n",
       "      <th>3</th>\n",
       "      <td>BN-2011-2819714</td>\n",
       "      <td>Boston Markers, Easy-Erase</td>\n",
       "      <td>0.5</td>\n",
       "      <td>27.0</td>\n",
       "      <td>-22.0</td>\n",
       "      <td>2</td>\n",
       "      <td>Office Supplies</td>\n",
       "      <td>Art</td>\n",
       "    </tr>\n",
       "    <tr>\n",
       "      <th>4</th>\n",
       "      <td>BN-2011-2819714</td>\n",
       "      <td>Eldon Folders, Single Width</td>\n",
       "      <td>0.5</td>\n",
       "      <td>17.0</td>\n",
       "      <td>-1.0</td>\n",
       "      <td>2</td>\n",
       "      <td>Office Supplies</td>\n",
       "      <td>Storage</td>\n",
       "    </tr>\n",
       "  </tbody>\n",
       "</table>\n",
       "</div>"
      ],
      "text/plain": [
       "          order_id                           product_name  discount  sales  \\\n",
       "0  BN-2011-7407039            Enermax Note Cards, Premium       0.5   45.0   \n",
       "1  AZ-2011-9050313     Dania Corner Shelving, Traditional       0.0  854.0   \n",
       "2  AZ-2011-6674300  Binney & Smith Sketch Pad, Easy-Erase       0.0  140.0   \n",
       "3  BN-2011-2819714             Boston Markers, Easy-Erase       0.5   27.0   \n",
       "4  BN-2011-2819714            Eldon Folders, Single Width       0.5   17.0   \n",
       "\n",
       "   profit  quantity         category sub_category  \n",
       "0   -26.0         3  Office Supplies        Paper  \n",
       "1   290.0         7        Furniture    Bookcases  \n",
       "2    21.0         3  Office Supplies          Art  \n",
       "3   -22.0         2  Office Supplies          Art  \n",
       "4    -1.0         2  Office Supplies      Storage  "
      ]
     },
     "execution_count": 40,
     "metadata": {},
     "output_type": "execute_result"
    }
   ],
   "source": [
    "OBD.head(5)"
   ]
  },
  {
   "cell_type": "code",
   "execution_count": 41,
   "metadata": {},
   "outputs": [
    {
     "data": {
      "text/html": [
       "<div>\n",
       "<style scoped>\n",
       "    .dataframe tbody tr th:only-of-type {\n",
       "        vertical-align: middle;\n",
       "    }\n",
       "\n",
       "    .dataframe tbody tr th {\n",
       "        vertical-align: top;\n",
       "    }\n",
       "\n",
       "    .dataframe thead th {\n",
       "        text-align: right;\n",
       "    }\n",
       "</style>\n",
       "<table border=\"1\" class=\"dataframe\">\n",
       "  <thead>\n",
       "    <tr style=\"text-align: right;\">\n",
       "      <th></th>\n",
       "      <th>month_order_date</th>\n",
       "      <th>category</th>\n",
       "      <th>target</th>\n",
       "    </tr>\n",
       "  </thead>\n",
       "  <tbody>\n",
       "    <tr>\n",
       "      <th>0</th>\n",
       "      <td>Jan-11</td>\n",
       "      <td>Furniture</td>\n",
       "      <td>$10,000.00</td>\n",
       "    </tr>\n",
       "  </tbody>\n",
       "</table>\n",
       "</div>"
      ],
      "text/plain": [
       "  month_order_date   category      target\n",
       "0           Jan-11  Furniture  $10,000.00"
      ]
     },
     "execution_count": 41,
     "metadata": {},
     "output_type": "execute_result"
    }
   ],
   "source": [
    "sales_targets.head(1)"
   ]
  },
  {
   "cell_type": "code",
   "execution_count": 42,
   "metadata": {},
   "outputs": [],
   "source": [
    "total_sales = pd.read_sql(\n",
    "\"SELECT SUM(sales) as total_sales \"\n",
    "    \"FROM new_OBD \"\n",
    "    \"WHERE 0<discount \"\n",
    "    ,con=connection,index_col='total_sales'\n",
    ")"
   ]
  },
  {
   "cell_type": "code",
   "execution_count": 43,
   "metadata": {},
   "outputs": [
    {
     "data": {
      "text/html": [
       "<div>\n",
       "<style scoped>\n",
       "    .dataframe tbody tr th:only-of-type {\n",
       "        vertical-align: middle;\n",
       "    }\n",
       "\n",
       "    .dataframe tbody tr th {\n",
       "        vertical-align: top;\n",
       "    }\n",
       "\n",
       "    .dataframe thead th {\n",
       "        text-align: right;\n",
       "    }\n",
       "</style>\n",
       "<table border=\"1\" class=\"dataframe\">\n",
       "  <thead>\n",
       "    <tr style=\"text-align: right;\">\n",
       "      <th></th>\n",
       "    </tr>\n",
       "    <tr>\n",
       "      <th>total_sales</th>\n",
       "    </tr>\n",
       "  </thead>\n",
       "  <tbody>\n",
       "    <tr>\n",
       "      <th>1115614.0</th>\n",
       "    </tr>\n",
       "  </tbody>\n",
       "</table>\n",
       "</div>"
      ],
      "text/plain": [
       "Empty DataFrame\n",
       "Columns: []\n",
       "Index: [1115614.0]"
      ]
     },
     "execution_count": 43,
     "metadata": {},
     "output_type": "execute_result"
    }
   ],
   "source": [
    "total_sales"
   ]
  },
  {
   "cell_type": "code",
   "execution_count": 44,
   "metadata": {},
   "outputs": [
    {
     "data": {
      "text/plain": [
       "Series([], dtype: float64)"
      ]
     },
     "execution_count": 44,
     "metadata": {},
     "output_type": "execute_result"
    }
   ],
   "source": [
    "total_sales.sum()"
   ]
  },
  {
   "cell_type": "markdown",
   "metadata": {},
   "source": [
    "### 11. What is the total quantity of objects sold for each country?"
   ]
  },
  {
   "cell_type": "code",
   "execution_count": 45,
   "metadata": {},
   "outputs": [
    {
     "data": {
      "text/html": [
       "<div>\n",
       "<style scoped>\n",
       "    .dataframe tbody tr th:only-of-type {\n",
       "        vertical-align: middle;\n",
       "    }\n",
       "\n",
       "    .dataframe tbody tr th {\n",
       "        vertical-align: top;\n",
       "    }\n",
       "\n",
       "    .dataframe thead th {\n",
       "        text-align: right;\n",
       "    }\n",
       "</style>\n",
       "<table border=\"1\" class=\"dataframe\">\n",
       "  <thead>\n",
       "    <tr style=\"text-align: right;\">\n",
       "      <th></th>\n",
       "      <th>order_id</th>\n",
       "      <th>order_date</th>\n",
       "      <th>customer_name</th>\n",
       "      <th>city</th>\n",
       "      <th>country</th>\n",
       "      <th>region</th>\n",
       "      <th>segment</th>\n",
       "      <th>ship_date</th>\n",
       "      <th>ship_mode</th>\n",
       "      <th>state</th>\n",
       "    </tr>\n",
       "  </thead>\n",
       "  <tbody>\n",
       "    <tr>\n",
       "      <th>0</th>\n",
       "      <td>BN-2011-7407039</td>\n",
       "      <td>1/1/2011</td>\n",
       "      <td>Ruby Patel</td>\n",
       "      <td>Stockholm</td>\n",
       "      <td>Sweden</td>\n",
       "      <td>North</td>\n",
       "      <td>Home Office</td>\n",
       "      <td>1/5/2011</td>\n",
       "      <td>Economy Plus</td>\n",
       "      <td>Stockholm</td>\n",
       "    </tr>\n",
       "  </tbody>\n",
       "</table>\n",
       "</div>"
      ],
      "text/plain": [
       "          order_id order_date customer_name       city country region  \\\n",
       "0  BN-2011-7407039   1/1/2011    Ruby Patel  Stockholm  Sweden  North   \n",
       "\n",
       "       segment ship_date     ship_mode      state  \n",
       "0  Home Office  1/5/2011  Economy Plus  Stockholm  "
      ]
     },
     "execution_count": 45,
     "metadata": {},
     "output_type": "execute_result"
    }
   ],
   "source": [
    "orders.head(1)"
   ]
  },
  {
   "cell_type": "code",
   "execution_count": 46,
   "metadata": {},
   "outputs": [
    {
     "data": {
      "text/html": [
       "<div>\n",
       "<style scoped>\n",
       "    .dataframe tbody tr th:only-of-type {\n",
       "        vertical-align: middle;\n",
       "    }\n",
       "\n",
       "    .dataframe tbody tr th {\n",
       "        vertical-align: top;\n",
       "    }\n",
       "\n",
       "    .dataframe thead th {\n",
       "        text-align: right;\n",
       "    }\n",
       "</style>\n",
       "<table border=\"1\" class=\"dataframe\">\n",
       "  <thead>\n",
       "    <tr style=\"text-align: right;\">\n",
       "      <th></th>\n",
       "      <th>order_id</th>\n",
       "      <th>product_name</th>\n",
       "      <th>discount</th>\n",
       "      <th>sales</th>\n",
       "      <th>profit</th>\n",
       "      <th>quantity</th>\n",
       "      <th>category</th>\n",
       "      <th>sub_category</th>\n",
       "    </tr>\n",
       "  </thead>\n",
       "  <tbody>\n",
       "    <tr>\n",
       "      <th>0</th>\n",
       "      <td>BN-2011-7407039</td>\n",
       "      <td>Enermax Note Cards, Premium</td>\n",
       "      <td>0.5</td>\n",
       "      <td>45.0</td>\n",
       "      <td>-26.0</td>\n",
       "      <td>3</td>\n",
       "      <td>Office Supplies</td>\n",
       "      <td>Paper</td>\n",
       "    </tr>\n",
       "    <tr>\n",
       "      <th>1</th>\n",
       "      <td>AZ-2011-9050313</td>\n",
       "      <td>Dania Corner Shelving, Traditional</td>\n",
       "      <td>0.0</td>\n",
       "      <td>854.0</td>\n",
       "      <td>290.0</td>\n",
       "      <td>7</td>\n",
       "      <td>Furniture</td>\n",
       "      <td>Bookcases</td>\n",
       "    </tr>\n",
       "    <tr>\n",
       "      <th>2</th>\n",
       "      <td>AZ-2011-6674300</td>\n",
       "      <td>Binney &amp; Smith Sketch Pad, Easy-Erase</td>\n",
       "      <td>0.0</td>\n",
       "      <td>140.0</td>\n",
       "      <td>21.0</td>\n",
       "      <td>3</td>\n",
       "      <td>Office Supplies</td>\n",
       "      <td>Art</td>\n",
       "    </tr>\n",
       "    <tr>\n",
       "      <th>3</th>\n",
       "      <td>BN-2011-2819714</td>\n",
       "      <td>Boston Markers, Easy-Erase</td>\n",
       "      <td>0.5</td>\n",
       "      <td>27.0</td>\n",
       "      <td>-22.0</td>\n",
       "      <td>2</td>\n",
       "      <td>Office Supplies</td>\n",
       "      <td>Art</td>\n",
       "    </tr>\n",
       "    <tr>\n",
       "      <th>4</th>\n",
       "      <td>BN-2011-2819714</td>\n",
       "      <td>Eldon Folders, Single Width</td>\n",
       "      <td>0.5</td>\n",
       "      <td>17.0</td>\n",
       "      <td>-1.0</td>\n",
       "      <td>2</td>\n",
       "      <td>Office Supplies</td>\n",
       "      <td>Storage</td>\n",
       "    </tr>\n",
       "  </tbody>\n",
       "</table>\n",
       "</div>"
      ],
      "text/plain": [
       "          order_id                           product_name  discount  sales  \\\n",
       "0  BN-2011-7407039            Enermax Note Cards, Premium       0.5   45.0   \n",
       "1  AZ-2011-9050313     Dania Corner Shelving, Traditional       0.0  854.0   \n",
       "2  AZ-2011-6674300  Binney & Smith Sketch Pad, Easy-Erase       0.0  140.0   \n",
       "3  BN-2011-2819714             Boston Markers, Easy-Erase       0.5   27.0   \n",
       "4  BN-2011-2819714            Eldon Folders, Single Width       0.5   17.0   \n",
       "\n",
       "   profit  quantity         category sub_category  \n",
       "0   -26.0         3  Office Supplies        Paper  \n",
       "1   290.0         7        Furniture    Bookcases  \n",
       "2    21.0         3  Office Supplies          Art  \n",
       "3   -22.0         2  Office Supplies          Art  \n",
       "4    -1.0         2  Office Supplies      Storage  "
      ]
     },
     "execution_count": 46,
     "metadata": {},
     "output_type": "execute_result"
    }
   ],
   "source": [
    "OBD.head(5)"
   ]
  },
  {
   "cell_type": "code",
   "execution_count": 47,
   "metadata": {},
   "outputs": [
    {
     "ename": "NameError",
     "evalue": "name 'db_connection' is not defined",
     "output_type": "error",
     "traceback": [
      "\u001b[0;31m---------------------------------------------------------------------------\u001b[0m",
      "\u001b[0;31mNameError\u001b[0m                                 Traceback (most recent call last)",
      "\u001b[0;32m<ipython-input-47-e248561af444>\u001b[0m in \u001b[0;36m<module>\u001b[0;34m\u001b[0m\n\u001b[1;32m      4\u001b[0m                 \u001b[0;34m'INNER JOIN order_breakdown '\u001b[0m\u001b[0;34m\u001b[0m\u001b[0;34m\u001b[0m\u001b[0m\n\u001b[1;32m      5\u001b[0m                 \u001b[0;34m'ON orders.order_id = order_breakdown.order_id '\u001b[0m\u001b[0;34m,\u001b[0m\u001b[0;34m\u001b[0m\u001b[0;34m\u001b[0m\u001b[0m\n\u001b[0;32m----> 6\u001b[0;31m                 con = db_connection)\n\u001b[0m\u001b[1;32m      7\u001b[0m \u001b[0;34m\u001b[0m\u001b[0m\n\u001b[1;32m      8\u001b[0m \u001b[0morder_counts\u001b[0m\u001b[0;34m.\u001b[0m\u001b[0mgroupby\u001b[0m\u001b[0;34m(\u001b[0m\u001b[0;34m'country'\u001b[0m\u001b[0;34m)\u001b[0m\u001b[0;34m.\u001b[0m\u001b[0msum\u001b[0m\u001b[0;34m(\u001b[0m\u001b[0;34m)\u001b[0m\u001b[0;34m\u001b[0m\u001b[0;34m\u001b[0m\u001b[0m\n",
      "\u001b[0;31mNameError\u001b[0m: name 'db_connection' is not defined"
     ]
    }
   ],
   "source": [
    "order_counts = pd.read_sql(\n",
    "                'SELECT order_breakdown.quantity, orders.country '\n",
    "                'FROM orders '\n",
    "                'INNER JOIN order_breakdown '\n",
    "                'ON orders.order_id = order_breakdown.order_id ',\n",
    "                con = db_connection)\n",
    "\n",
    "order_counts.groupby('country').sum()"
   ]
  },
  {
   "cell_type": "code",
   "execution_count": null,
   "metadata": {},
   "outputs": [],
   "source": [
    "order_counts_grouped = pd.read_sql(\n",
    "                'SELECT sum(order_breakdown.quantity) as total_quantity, orders.country '\n",
    "                'FROM orders '\n",
    "                'INNER JOIN order_breakdown '\n",
    "                'ON orders.order_id = order_breakdown.order_id '\n",
    "                'GROUP BY orders.country '\n",
    "                'ORDER BY total_quantity DESC',\n",
    "                con = db_connection,index_col='country')\n",
    "\n",
    "order_counts_grouped"
   ]
  },
  {
   "cell_type": "code",
   "execution_count": null,
   "metadata": {},
   "outputs": [],
   "source": [
    "pd.read_sql(\n",
    "'SELECT a.country, SUM(b.quantity) as total_sum '\n",
    "    'FROM new_orders a '\n",
    "    'INNER JOIN new_OBD b '\n",
    "    'ON a.order_id = b.order_id '\n",
    "    'GROUP BY a.country  '\n",
    "    'ORDER BY b.quantity DESC'\n",
    "    , con=connection,\n",
    ")"
   ]
  },
  {
   "cell_type": "markdown",
   "metadata": {},
   "source": [
    "### 12. In what Countries are profits lowest? (Report lowest 5-10)"
   ]
  },
  {
   "cell_type": "code",
   "execution_count": null,
   "metadata": {},
   "outputs": [],
   "source": [
    "orders.head(2)"
   ]
  },
  {
   "cell_type": "code",
   "execution_count": null,
   "metadata": {},
   "outputs": [],
   "source": [
    "OBD.head(2)"
   ]
  },
  {
   "cell_type": "code",
   "execution_count": null,
   "metadata": {},
   "outputs": [],
   "source": [
    "country_profit = pd.read_sql(\n",
    "'SELECT a.country, SUM(b.profit) as total_profit '\n",
    "    'FROM new_orders a '\n",
    "    'INNER JOIN new_OBD b '\n",
    "    'ON a.order_id = b.order_id '\n",
    "    'GROUP BY a.country  '\n",
    "    'ORDER BY total_profit ASC'\n",
    "    , con=connection, index_col=\"country\"\n",
    ")\n",
    "country_profit.iloc[:6,:]"
   ]
  },
  {
   "cell_type": "code",
   "execution_count": null,
   "metadata": {},
   "outputs": [],
   "source": []
  },
  {
   "cell_type": "code",
   "execution_count": null,
   "metadata": {},
   "outputs": [],
   "source": []
  },
  {
   "cell_type": "code",
   "execution_count": null,
   "metadata": {},
   "outputs": [],
   "source": []
  },
  {
   "cell_type": "code",
   "execution_count": null,
   "metadata": {},
   "outputs": [],
   "source": []
  },
  {
   "cell_type": "code",
   "execution_count": null,
   "metadata": {},
   "outputs": [],
   "source": []
  },
  {
   "cell_type": "code",
   "execution_count": null,
   "metadata": {},
   "outputs": [],
   "source": []
  },
  {
   "cell_type": "markdown",
   "metadata": {},
   "source": [
    "### 13. What Countries have the best and worst profit to sales ratios?\n",
    "\n",
    "Total profits divided by total sales -\n",
    "this is saying for every dollar of product sold, how much is the profit."
   ]
  },
  {
   "cell_type": "code",
   "execution_count": null,
   "metadata": {},
   "outputs": [],
   "source": [
    "orders.head(50)"
   ]
  },
  {
   "cell_type": "code",
   "execution_count": null,
   "metadata": {},
   "outputs": [],
   "source": [
    "OBD.head(40)"
   ]
  },
  {
   "cell_type": "code",
   "execution_count": null,
   "metadata": {},
   "outputs": [],
   "source": [
    "spr = pd.read_sql('SELECT orders.country,'\n",
    "                   'sum(order_breakdown.profit) as total_profit, '\n",
    "                   'sum(order_breakdown.sales) as total_sales, '\n",
    "                   '(sum(order_breakdown.profit) / sum(order_breakdown.sales)) as ratio '\n",
    "                   'FROM orders '\n",
    "                   'INNER JOIN order_breakdown '\n",
    "                   'ON orders.order_id = order_breakdown.order_id '\n",
    "                   'GROUP BY orders.country '\n",
    "                   'ORDER BY ratio DESC',\n",
    "            con = db_connection,index_col='country')\n",
    "spr"
   ]
  },
  {
   "cell_type": "code",
   "execution_count": null,
   "metadata": {},
   "outputs": [],
   "source": [
    "two = pd.read_sql(\n",
    "'SELECT a.country, '\n",
    "    'SUM(b.sales) as total_sales, '\n",
    "    'SUM(b.profit) as total_profit, '\n",
    "    '(SUM(b.profit)/SUM(b.sales)) as ratio '\n",
    "    'FROM new_orders a '\n",
    "    'INNER JOIN new_OBD b '\n",
    "    'ON a.order_id = b.order_id '\n",
    "    'GROUP BY a.country '\n",
    "    'ORDER BY ratio DESC'\n",
    "    , con=connection, index_col=\"country\"\n",
    "    \n",
    ")\n",
    "two"
   ]
  },
  {
   "cell_type": "code",
   "execution_count": null,
   "metadata": {},
   "outputs": [],
   "source": [
    "one = pd.read_sql(\n",
    "'SELECT a.country, b.sales, b.profit '\n",
    "    'FROM new_orders a '\n",
    "    'INNER JOIN new_OBD b '\n",
    "    'ON a.order_id = b.order_id '\n",
    "    , con=connection\n",
    "    \n",
    ")\n",
    "one.head()"
   ]
  },
  {
   "cell_type": "code",
   "execution_count": null,
   "metadata": {},
   "outputs": [],
   "source": [
    "one = one.groupby(\"country\")"
   ]
  },
  {
   "cell_type": "code",
   "execution_count": null,
   "metadata": {},
   "outputs": [],
   "source": [
    "one = one.sum().sort_values(by=\"profit\")"
   ]
  },
  {
   "cell_type": "code",
   "execution_count": null,
   "metadata": {},
   "outputs": [],
   "source": [
    "one[\"ratio\"] = one[\"profit\"]/one[\"sales\"]"
   ]
  },
  {
   "cell_type": "code",
   "execution_count": null,
   "metadata": {},
   "outputs": [],
   "source": [
    "one = one.sort_values(by=\"ratio\")"
   ]
  },
  {
   "cell_type": "code",
   "execution_count": null,
   "metadata": {},
   "outputs": [],
   "source": [
    "one.tail()"
   ]
  },
  {
   "cell_type": "markdown",
   "metadata": {},
   "source": [
    "### 14. What Shipping method is most common for 'Bookcases' (Sub Category)"
   ]
  },
  {
   "cell_type": "code",
   "execution_count": null,
   "metadata": {},
   "outputs": [],
   "source": []
  },
  {
   "cell_type": "markdown",
   "metadata": {},
   "source": [
    "### 15 .What city in the Orders table generated the highest net sales?  (List all the cities and countries in descending order by net sales.)"
   ]
  },
  {
   "cell_type": "code",
   "execution_count": null,
   "metadata": {},
   "outputs": [],
   "source": []
  },
  {
   "cell_type": "markdown",
   "metadata": {},
   "source": [
    "### 16. [BONUS] Create a Column called 'Shipping Delay' on the 'orders' table, which is the difference in days between 'Order Date' and 'Ship Date'."
   ]
  },
  {
   "cell_type": "code",
   "execution_count": null,
   "metadata": {},
   "outputs": [],
   "source": []
  },
  {
   "cell_type": "markdown",
   "metadata": {},
   "source": [
    "### 17. [BONUS] Update your Orders table in your Sqlite DB to include the 'Shipping Delay' feature."
   ]
  },
  {
   "cell_type": "markdown",
   "metadata": {},
   "source": [
    "> **Hint:** Remember the df.to_sql command we learnt earlier.."
   ]
  },
  {
   "cell_type": "code",
   "execution_count": null,
   "metadata": {},
   "outputs": [],
   "source": []
  },
  {
   "cell_type": "markdown",
   "metadata": {},
   "source": [
    "### 18. [BONUS] Which Product Category has the highest average 'Shipping Delay'"
   ]
  },
  {
   "cell_type": "code",
   "execution_count": null,
   "metadata": {},
   "outputs": [],
   "source": []
  },
  {
   "cell_type": "markdown",
   "metadata": {},
   "source": [
    "## Challenge problem: In what months and Categories were Sales Targets Exceeded?\n",
    "\n",
    "---\n",
    "\n",
    "**This problem is more challenging.** \n",
    "\n",
    "Try it out if you want to test your skills! Like the bonus questions, it is not expected that you complete it.\n",
    "\n",
    "This may require a considerable amount of data processing."
   ]
  },
  {
   "cell_type": "code",
   "execution_count": null,
   "metadata": {},
   "outputs": [],
   "source": []
  },
  {
   "cell_type": "code",
   "execution_count": null,
   "metadata": {},
   "outputs": [],
   "source": []
  },
  {
   "cell_type": "markdown",
   "metadata": {},
   "source": [
    "**In what months and Categories did Sales fail to exceed their targets?*"
   ]
  },
  {
   "cell_type": "code",
   "execution_count": null,
   "metadata": {},
   "outputs": [],
   "source": []
  },
  {
   "cell_type": "code",
   "execution_count": null,
   "metadata": {},
   "outputs": [],
   "source": []
  }
 ],
 "metadata": {
  "anaconda-cloud": {},
  "kernelspec": {
   "display_name": "Python 3",
   "language": "python",
   "name": "python3"
  },
  "language_info": {
   "codemirror_mode": {
    "name": "ipython",
    "version": 3
   },
   "file_extension": ".py",
   "mimetype": "text/x-python",
   "name": "python",
   "nbconvert_exporter": "python",
   "pygments_lexer": "ipython3",
   "version": "3.7.3"
  },
  "toc": {
   "nav_menu": {},
   "number_sections": false,
   "sideBar": true,
   "skip_h1_title": true,
   "title_cell": "Table of Contents",
   "title_sidebar": "Contents",
   "toc_cell": false,
   "toc_position": {},
   "toc_section_display": true,
   "toc_window_display": false
  }
 },
 "nbformat": 4,
 "nbformat_minor": 1
}
