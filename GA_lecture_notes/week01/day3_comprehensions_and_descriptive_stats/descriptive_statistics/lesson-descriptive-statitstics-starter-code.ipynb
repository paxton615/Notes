{
 "cells": [
  {
   "cell_type": "markdown",
   "metadata": {
    "slideshow": {
     "slide_type": "slide"
    }
   },
   "source": [
    "<img src=\"http://imgur.com/1ZcRyrc.png\" style=\"float: left; margin: 20px; height: 55px\">\n",
    "\n",
    "# Introduction to Descriptive Statistics with `numpy`\n",
    "\n",
    "\n",
    "---\n",
    "\n",
    "## Learning Objectives\n",
    "\n",
    "- Learn about different types of variables\n",
    "- Understand the measures of central tendency (mean, median, and mode)\n",
    "- Understand how mean, median and mode are affected by skewness in data\n",
    "- Understand measures of dispersion (variance and standard deviation)"
   ]
  },
  {
   "cell_type": "markdown",
   "metadata": {
    "toc": true
   },
   "source": [
    "<h1>Lesson Guide<span class=\"tocSkip\"></span></h1>\n",
    "<div class=\"toc\"><ul class=\"toc-item\"><li><span><a href=\"#Introduction-to-Descriptive-Statistics-with-numpy\" data-toc-modified-id=\"Introduction-to-Descriptive-Statistics-with-numpy-1\">Introduction to Descriptive Statistics with <code>numpy</code></a></span><ul class=\"toc-item\"><li><span><a href=\"#Learning-Objectives\" data-toc-modified-id=\"Learning-Objectives-1.1\">Learning Objectives</a></span></li><li><span><a href=\"#Descriptive-Statistics\" data-toc-modified-id=\"Descriptive-Statistics-1.2\">Descriptive Statistics</a></span><ul class=\"toc-item\"><li><span><a href=\"#Variable-types\" data-toc-modified-id=\"Variable-types-1.2.1\">Variable types</a></span></li></ul></li><li><span><a href=\"#Measures-of-Central-Tendency:-Mean,-Median,-Mode\" data-toc-modified-id=\"Measures-of-Central-Tendency:-Mean,-Median,-Mode-1.3\">Measures of Central Tendency: Mean, Median, Mode</a></span><ul class=\"toc-item\"><li><span><a href=\"#Mean\" data-toc-modified-id=\"Mean-1.3.1\">Mean</a></span></li><li><span><a href=\"#Median\" data-toc-modified-id=\"Median-1.3.2\">Median</a></span></li><li><span><a href=\"#Mode\" data-toc-modified-id=\"Mode-1.3.3\">Mode</a></span><ul class=\"toc-item\"><li><span><a href=\"#Excercise:\" data-toc-modified-id=\"Excercise:-1.3.3.1\">Excercise:</a></span></li></ul></li><li><span><a href=\"#Skewness\" data-toc-modified-id=\"Skewness-1.3.4\">Skewness</a></span><ul class=\"toc-item\"><li><span><a href=\"#Skewness-and-measures-of-central-tendency\" data-toc-modified-id=\"Skewness-and-measures-of-central-tendency-1.3.4.1\">Skewness and measures of central tendency</a></span></li></ul></li></ul></li><li><span><a href=\"#Measures-of-Dispersion\" data-toc-modified-id=\"Measures-of-Dispersion-1.4\">Measures of Dispersion</a></span><ul class=\"toc-item\"><li><span><a href=\"#Range\" data-toc-modified-id=\"Range-1.4.1\">Range</a></span></li><li><span><a href=\"#Variance\" data-toc-modified-id=\"Variance-1.4.2\">Variance</a></span></li><li><span><a href=\"#Standard-deviation\" data-toc-modified-id=\"Standard-deviation-1.4.3\">Standard deviation</a></span></li><li><span><a href=\"#Some-useful-notation\" data-toc-modified-id=\"Some-useful-notation-1.4.4\">Some useful notation</a></span></li></ul></li></ul></li></ul></div>"
   ]
  },
  {
   "cell_type": "markdown",
   "metadata": {},
   "source": [
    "## Descriptive Statistics\n",
    "\n",
    "---\n",
    "\n",
    "There are two main fields of statistics: **descriptive** and **inferential**.\n",
    "\n",
    "- We use **descriptive** statistics to **make judgments** about the world based on **samples of data**. For example, what is the mean height of the people in a group, what is the largest/smallest observed height, etc. \n",
    "- When we start covering **modeling and hypothesis testing**, our focus will shift to **inferential statistics**, for example how much is the height of a person related to their weight, gender, etc.\n",
    "\n",
    "Right now, we're going to focus on descriptive statistics: **describing, summarizing, and understanding data**."
   ]
  },
  {
   "cell_type": "markdown",
   "metadata": {},
   "source": [
    "### Variable types\n",
    "\n",
    "In the datasets we will be looking at throughout the course, we will meet variables of different type.\n",
    "\n",
    "- Categorical variables\n",
    "    - Nominal: categories without order, e.g. male/female\n",
    "    - Ordinal: categories with order, e.g. ranking from a race\n",
    "    \n",
    "- Metric variables\n",
    "    - Discrete, e.g. counts\n",
    "    - Continuous, e.g. temperature or time"
   ]
  },
  {
   "cell_type": "markdown",
   "metadata": {
    "slideshow": {
     "slide_type": "slide"
    }
   },
   "source": [
    "All variables have what is called a **distribution**. The distribution is the set of **all possible values** that a variable can take on, as well as **how frequently** it takes on each of these values. (One popular way to visualize the distribution of a variable is by using a histogram or bar chart).\n",
    "\n",
    "> The three questions that we want to answer about a distribution are:\n",
    "- What is the center?\n",
    "- What is the spread?\n",
    "- What is the shape?\n"
   ]
  },
  {
   "cell_type": "markdown",
   "metadata": {
    "slideshow": {
     "slide_type": "slide"
    }
   },
   "source": [
    "\n",
    "The first section of this lesson covers the **measures of central tendency**. Measures of central tendency provide descriptive information about the single numerical value that is considered to be the **\"most typical\" of the values of a quantitative variable**.\n",
    "You're probably already familiar with some measures of central tendency: The **mean, median,** and **mode**.\n",
    "\n",
    "We'll also discuss **skewness**, which is the lack of symmetry in a distribution of data that affects the mean, median, and mode.\n",
    "\n",
    "Lastly, we'll take a look at **measures of dispersion** or variability in our data, namely the **range, variance**, and **standard deviation**.\n"
   ]
  },
  {
   "cell_type": "markdown",
   "metadata": {
    "slideshow": {
     "slide_type": "slide"
    }
   },
   "source": [
    "## Measures of Central Tendency: Mean, Median, Mode\n",
    "\n",
    "---\n",
    "\n",
    "We'll be using three datasets here: \n",
    "- the average monthly sunshine hours for each month of the year for London\n",
    "- the same data as above for New York City\n",
    "- the average daily high temperature in July for 7 cities (London, New York, Rome, Chicago, Berlin, Madrid, Paris)"
   ]
  },
  {
   "cell_type": "code",
   "execution_count": 9,
   "metadata": {},
   "outputs": [],
   "source": [
    "ldn_sun = [61.5, 77.9, 114.6, 168.7, 198.5,\n",
    "           204.3, 212.0, 204.7, 149.3, 116.5, 72.6, 52.0]\n",
    "nyc_sun = [162.7, 163.1, 212.5, 225.6, 256.6,\n",
    "           257.3, 268.2, 268.2, 219.3, 211.2, 151.0, 139.0]\n",
    "july_temps = [23.5, 28.9, 30.3, 28.9, 25.0, 32.1, 25.2]"
   ]
  },
  {
   "cell_type": "markdown",
   "metadata": {
    "slideshow": {
     "slide_type": "slide"
    }
   },
   "source": [
    "### Mean\n",
    "\n",
    "The mean is the sum of the numbers in a list, divided by the length of that list."
   ]
  },
  {
   "cell_type": "code",
   "execution_count": 10,
   "metadata": {
    "slideshow": {
     "slide_type": "subslide"
    }
   },
   "outputs": [],
   "source": [
    "# Find the mean of the ldn_sun data without using numpy:\n",
    "def my_mean(X):\n",
    "    mean = sum(X)/len(X)\n",
    "    return mean"
   ]
  },
  {
   "cell_type": "code",
   "execution_count": 11,
   "metadata": {},
   "outputs": [],
   "source": [
    "samples = [ldn_sun, nyc_sun, july_temps]"
   ]
  },
  {
   "cell_type": "code",
   "execution_count": 12,
   "metadata": {},
   "outputs": [
    {
     "data": {
      "text/plain": [
       "[136.04999999999998, 211.225, 27.699999999999996]"
      ]
     },
     "execution_count": 12,
     "metadata": {},
     "output_type": "execute_result"
    }
   ],
   "source": [
    "[my_mean(X) for X in samples]"
   ]
  },
  {
   "cell_type": "code",
   "execution_count": 13,
   "metadata": {},
   "outputs": [],
   "source": [
    "import numpy as np"
   ]
  },
  {
   "cell_type": "code",
   "execution_count": 14,
   "metadata": {},
   "outputs": [
    {
     "data": {
      "text/plain": [
       "[136.04999999999998, 211.22500000000002, 27.699999999999996]"
      ]
     },
     "execution_count": 14,
     "metadata": {},
     "output_type": "execute_result"
    }
   ],
   "source": [
    "# Find the mean of the sun data using np.mean():\n",
    "\n",
    "[np.mean(X) for X in samples]"
   ]
  },
  {
   "cell_type": "code",
   "execution_count": 15,
   "metadata": {},
   "outputs": [
    {
     "ename": "NameError",
     "evalue": "name 'sample' is not defined",
     "output_type": "error",
     "traceback": [
      "\u001b[0;31m---------------------------------------------------------------------------\u001b[0m",
      "\u001b[0;31mNameError\u001b[0m                                 Traceback (most recent call last)",
      "\u001b[0;32m<ipython-input-15-f4c5f2a8018b>\u001b[0m in \u001b[0;36m<module>\u001b[0;34m\u001b[0m\n\u001b[0;32m----> 1\u001b[0;31m \u001b[0mnp\u001b[0m\u001b[0;34m.\u001b[0m\u001b[0mvar\u001b[0m\u001b[0;34m(\u001b[0m\u001b[0msample\u001b[0m\u001b[0;34m)\u001b[0m\u001b[0;34m\u001b[0m\u001b[0;34m\u001b[0m\u001b[0m\n\u001b[0m",
      "\u001b[0;31mNameError\u001b[0m: name 'sample' is not defined"
     ]
    }
   ],
   "source": [
    "np.var(sample)"
   ]
  },
  {
   "cell_type": "code",
   "execution_count": 16,
   "metadata": {},
   "outputs": [
    {
     "ename": "NameError",
     "evalue": "name 'sample' is not defined",
     "output_type": "error",
     "traceback": [
      "\u001b[0;31m---------------------------------------------------------------------------\u001b[0m",
      "\u001b[0;31mNameError\u001b[0m                                 Traceback (most recent call last)",
      "\u001b[0;32m<ipython-input-16-467137827239>\u001b[0m in \u001b[0;36m<module>\u001b[0;34m\u001b[0m\n\u001b[0;32m----> 1\u001b[0;31m \u001b[0mnp\u001b[0m\u001b[0;34m.\u001b[0m\u001b[0mstd\u001b[0m\u001b[0;34m(\u001b[0m\u001b[0msample\u001b[0m\u001b[0;34m)\u001b[0m\u001b[0;34m\u001b[0m\u001b[0;34m\u001b[0m\u001b[0m\n\u001b[0m",
      "\u001b[0;31mNameError\u001b[0m: name 'sample' is not defined"
     ]
    }
   ],
   "source": [
    "np.std(sample)"
   ]
  },
  {
   "cell_type": "markdown",
   "metadata": {
    "slideshow": {
     "slide_type": "slide"
    }
   },
   "source": [
    "### Median\n",
    "\n",
    "For **odd-length lists**: The median is the middle number of the ordered list.\n",
    "\n",
    "For **even-length lists**: The median is the average of the two middle-most numbers of the ordered list.\n",
    "\n",
    "The position of the median will be given by (n + 1)/2 with n being the length of the list\n",
    "- if the answer is an integer, like 9, then the median is the 9th number\n",
    "- if the answer is a decimal, like 12.5, then the median is the mean of the 12th and 13th numbers"
   ]
  },
  {
   "cell_type": "code",
   "execution_count": 17,
   "metadata": {},
   "outputs": [],
   "source": [
    "# First define some convenient functions to do the median calculations\n",
    "def middle_index(n): \n",
    "    return int(n/2. - 0.5)\n",
    "\n",
    "def lower_index(n): \n",
    "    return int(n/2 - 1)\n",
    "\n",
    "def upper_index(n): \n",
    "    return int(n/2)\n",
    "\n",
    "def my_median(X):\n",
    "    X_sorted = sorted(X)\n",
    "    n = len(X)\n",
    "    if n % 2 == 0:\n",
    "        median = (X_sorted[lower_index(n)] + X_sorted[upper_index(n)]) / 2.\n",
    "    else:\n",
    "        median = X_sorted[middle_index(n)]\n",
    "    \n",
    "    return median"
   ]
  },
  {
   "cell_type": "markdown",
   "metadata": {},
   "source": [
    "**Check:** Use this function to calculate the median for the data samples."
   ]
  },
  {
   "cell_type": "code",
   "execution_count": 18,
   "metadata": {},
   "outputs": [
    {
     "data": {
      "text/plain": [
       "[132.9, 215.9, 28.9]"
      ]
     },
     "execution_count": 18,
     "metadata": {},
     "output_type": "execute_result"
    }
   ],
   "source": [
    "[my_median(x) for x in samples]"
   ]
  },
  {
   "cell_type": "markdown",
   "metadata": {},
   "source": [
    "**Check:** Use the function `np.median` to calculate the median for the data samples."
   ]
  },
  {
   "cell_type": "code",
   "execution_count": null,
   "metadata": {},
   "outputs": [],
   "source": []
  },
  {
   "cell_type": "markdown",
   "metadata": {
    "slideshow": {
     "slide_type": "slide"
    }
   },
   "source": [
    "### Mode\n",
    "\n",
    "**The mode is the most frequently occurring number.**\n",
    "\n",
    "Finding the mode is not as straightforward as the mean or median.\n",
    "Thankfully, we have a library that is easy to use and computationally optimized in `scipy` that can help us do the heavy lifting.  When possible it's best to use functions in `scipy` and `numpy`, since they are robust and fast.\n",
    "\n",
    "We can calculate the mode using `scipy.stats.mode()`. "
   ]
  },
  {
   "cell_type": "code",
   "execution_count": 19,
   "metadata": {
    "slideshow": {
     "slide_type": "slide"
    }
   },
   "outputs": [
    {
     "data": {
      "text/plain": [
       "ModeResult(mode=array([2]), count=array([4]))"
      ]
     },
     "execution_count": 19,
     "metadata": {},
     "output_type": "execute_result"
    }
   ],
   "source": [
    "# notice the type of result that we get when we use stats.mode\n",
    "from scipy import stats\n",
    "sample = [0, 1, 1, 2, 2, 2, 2, 3, 3, 4, 4, 4, 5]\n",
    "\n",
    "stats.mode(sample)"
   ]
  },
  {
   "cell_type": "code",
   "execution_count": 20,
   "metadata": {},
   "outputs": [
    {
     "data": {
      "text/plain": [
       "2"
      ]
     },
     "execution_count": 20,
     "metadata": {},
     "output_type": "execute_result"
    }
   ],
   "source": [
    "stats.mode(sample)[0][0]"
   ]
  },
  {
   "cell_type": "markdown",
   "metadata": {},
   "source": [
    "**Exercise:** Calculate the mode for the weather data from above using scipy."
   ]
  },
  {
   "cell_type": "code",
   "execution_count": 21,
   "metadata": {},
   "outputs": [
    {
     "ename": "ValueError",
     "evalue": "The truth value of an array with more than one element is ambiguous. Use a.any() or a.all()",
     "output_type": "error",
     "traceback": [
      "\u001b[0;31m---------------------------------------------------------------------------\u001b[0m",
      "\u001b[0;31mValueError\u001b[0m                                Traceback (most recent call last)",
      "\u001b[0;32m<ipython-input-21-54ff724f7949>\u001b[0m in \u001b[0;36m<module>\u001b[0;34m\u001b[0m\n\u001b[0;32m----> 1\u001b[0;31m \u001b[0mstats\u001b[0m\u001b[0;34m.\u001b[0m\u001b[0mmode\u001b[0m\u001b[0;34m(\u001b[0m\u001b[0msamples\u001b[0m\u001b[0;34m)\u001b[0m\u001b[0;34m[\u001b[0m\u001b[0;36m0\u001b[0m\u001b[0;34m]\u001b[0m\u001b[0;34m[\u001b[0m\u001b[0;36m0\u001b[0m\u001b[0;34m]\u001b[0m\u001b[0;34m\u001b[0m\u001b[0;34m\u001b[0m\u001b[0m\n\u001b[0m",
      "\u001b[0;32m/anaconda3/lib/python3.7/site-packages/scipy/stats/stats.py\u001b[0m in \u001b[0;36mmode\u001b[0;34m(a, axis, nan_policy)\u001b[0m\n\u001b[1;32m    434\u001b[0m         \u001b[0;32mreturn\u001b[0m \u001b[0mModeResult\u001b[0m\u001b[0;34m(\u001b[0m\u001b[0mnp\u001b[0m\u001b[0;34m.\u001b[0m\u001b[0marray\u001b[0m\u001b[0;34m(\u001b[0m\u001b[0;34m[\u001b[0m\u001b[0;34m]\u001b[0m\u001b[0;34m)\u001b[0m\u001b[0;34m,\u001b[0m \u001b[0mnp\u001b[0m\u001b[0;34m.\u001b[0m\u001b[0marray\u001b[0m\u001b[0;34m(\u001b[0m\u001b[0;34m[\u001b[0m\u001b[0;34m]\u001b[0m\u001b[0;34m)\u001b[0m\u001b[0;34m)\u001b[0m\u001b[0;34m\u001b[0m\u001b[0;34m\u001b[0m\u001b[0m\n\u001b[1;32m    435\u001b[0m \u001b[0;34m\u001b[0m\u001b[0m\n\u001b[0;32m--> 436\u001b[0;31m     \u001b[0mcontains_nan\u001b[0m\u001b[0;34m,\u001b[0m \u001b[0mnan_policy\u001b[0m \u001b[0;34m=\u001b[0m \u001b[0m_contains_nan\u001b[0m\u001b[0;34m(\u001b[0m\u001b[0ma\u001b[0m\u001b[0;34m,\u001b[0m \u001b[0mnan_policy\u001b[0m\u001b[0;34m)\u001b[0m\u001b[0;34m\u001b[0m\u001b[0;34m\u001b[0m\u001b[0m\n\u001b[0m\u001b[1;32m    437\u001b[0m \u001b[0;34m\u001b[0m\u001b[0m\n\u001b[1;32m    438\u001b[0m     \u001b[0;32mif\u001b[0m \u001b[0mcontains_nan\u001b[0m \u001b[0;32mand\u001b[0m \u001b[0mnan_policy\u001b[0m \u001b[0;34m==\u001b[0m \u001b[0;34m'omit'\u001b[0m\u001b[0;34m:\u001b[0m\u001b[0;34m\u001b[0m\u001b[0;34m\u001b[0m\u001b[0m\n",
      "\u001b[0;32m/anaconda3/lib/python3.7/site-packages/scipy/stats/stats.py\u001b[0m in \u001b[0;36m_contains_nan\u001b[0;34m(a, nan_policy)\u001b[0m\n\u001b[1;32m    248\u001b[0m                       \"values. nan values will be ignored.\", RuntimeWarning)\n\u001b[1;32m    249\u001b[0m \u001b[0;34m\u001b[0m\u001b[0m\n\u001b[0;32m--> 250\u001b[0;31m     \u001b[0;32mif\u001b[0m \u001b[0mcontains_nan\u001b[0m \u001b[0;32mand\u001b[0m \u001b[0mnan_policy\u001b[0m \u001b[0;34m==\u001b[0m \u001b[0;34m'raise'\u001b[0m\u001b[0;34m:\u001b[0m\u001b[0;34m\u001b[0m\u001b[0;34m\u001b[0m\u001b[0m\n\u001b[0m\u001b[1;32m    251\u001b[0m         \u001b[0;32mraise\u001b[0m \u001b[0mValueError\u001b[0m\u001b[0;34m(\u001b[0m\u001b[0;34m\"The input contains nan values\"\u001b[0m\u001b[0;34m)\u001b[0m\u001b[0;34m\u001b[0m\u001b[0;34m\u001b[0m\u001b[0m\n\u001b[1;32m    252\u001b[0m \u001b[0;34m\u001b[0m\u001b[0m\n",
      "\u001b[0;31mValueError\u001b[0m: The truth value of an array with more than one element is ambiguous. Use a.any() or a.all()"
     ]
    }
   ],
   "source": [
    "stats.mode(samples)[0][0]"
   ]
  },
  {
   "cell_type": "markdown",
   "metadata": {
    "slideshow": {
     "slide_type": "subslide"
    }
   },
   "source": [
    "#### Excercise:\n",
    "\n",
    "Using `scipy` and `numpy`, find the mean, median, and mode of the `sample` below."
   ]
  },
  {
   "cell_type": "code",
   "execution_count": 22,
   "metadata": {
    "slideshow": {
     "slide_type": "subslide"
    }
   },
   "outputs": [],
   "source": [
    "my_dict = {}\n",
    "sample = [3, 75, 98, 2, 10, 3, 14, 99, 44, 25,\n",
    "          31, 100, 356, 4, 23, 55, 327, 64, 6, 20]"
   ]
  },
  {
   "cell_type": "code",
   "execution_count": 23,
   "metadata": {
    "slideshow": {
     "slide_type": "subslide"
    }
   },
   "outputs": [
    {
     "data": {
      "text/plain": [
       "(67.95, 28.0, ModeResult(mode=array([3]), count=array([2])))"
      ]
     },
     "execution_count": 23,
     "metadata": {},
     "output_type": "execute_result"
    }
   ],
   "source": [
    "# Your solution here:\n",
    "\n",
    "np.mean(sample), np.median(sample), stats.mode(sample)"
   ]
  },
  {
   "cell_type": "code",
   "execution_count": 24,
   "metadata": {
    "slideshow": {
     "slide_type": "subslide"
    }
   },
   "outputs": [],
   "source": [
    "# Your answers should be:\n",
    "# Mean: 67.95, Median: 28.0, Mode: 3.000000"
   ]
  },
  {
   "cell_type": "code",
   "execution_count": null,
   "metadata": {},
   "outputs": [],
   "source": []
  },
  {
   "cell_type": "markdown",
   "metadata": {},
   "source": [
    "**Pair discussion:**\n",
    "\n",
    "Often one might think that the mean of a data sample will give a good description of typically observed values.\n",
    "\n",
    "Can you think of examples\n",
    "when the mean may be slightly misleading in describing a dataset?\n",
    "\n",
    "Could the mode or median be more appropriate?"
   ]
  },
  {
   "cell_type": "markdown",
   "metadata": {
    "slideshow": {
     "slide_type": "slide"
    }
   },
   "source": [
    "### Skewness\n",
    "\n",
    "---\n",
    "\n",
    "Skewness refers to the **lack of symmetry** in a distribution of data.\n",
    "\n",
    "> Technical note: we will be talking about skewness here only in the context of _unimodal_ distributions.\n",
    "\n",
    "![](./assets/images/skewness.png)\n",
    "\n",
    "**A positively-skewed distribution is one whose right tail is longer or fatter than its left.**\n",
    "\n",
    "Conversely, **a negatively-skewed distribution is one whose left tail is longer or fatter than its right**.\n",
    "\n",
    "\n",
    "Symmetric distributions have no skewness!\n"
   ]
  },
  {
   "cell_type": "markdown",
   "metadata": {
    "slideshow": {
     "slide_type": "slide"
    }
   },
   "source": [
    "#### Skewness and measures of central tendency\n",
    "\n",
    "The mean, median, and mode are affected by skewness.\n",
    "\n",
    "When a distribution is symmetric, the mean, median, and mode are the same.\n",
    "\n",
    "> Symmetric: **mean == median == mode**\n",
    "\n",
    "When a distribution is negatively skewed, the mean is less than the median, which is less than the mode.\n",
    "\n",
    "> Negative skew: **mean < median < mode**\n",
    "\n",
    "When a distribution is positively skewed, the mean is greater than the median, which is greater than the mode.\n",
    "\n",
    "> Positive skew: **mode < median < mean**\n"
   ]
  },
  {
   "cell_type": "markdown",
   "metadata": {
    "slideshow": {
     "slide_type": "slide"
    }
   },
   "source": [
    "Does the list of numbers below form a symmetric distribution? Is it skewed left of right?"
   ]
  },
  {
   "cell_type": "code",
   "execution_count": 25,
   "metadata": {
    "slideshow": {
     "slide_type": "subslide"
    }
   },
   "outputs": [],
   "source": [
    "# This is our sample\n",
    "sample = [3, 75, 98, 2, 10, 3, 14, 99, 44, 25,\n",
    "          31, 100, 356, 4, 23, 10, 55, 327, 64, 6, 20]"
   ]
  },
  {
   "cell_type": "code",
   "execution_count": 26,
   "metadata": {},
   "outputs": [],
   "source": [
    "# find the mean, median, and mode for the distribution, and use these to determine the skew:\n"
   ]
  },
  {
   "cell_type": "code",
   "execution_count": 27,
   "metadata": {},
   "outputs": [],
   "source": [
    "import seaborn as sns\n",
    "sns.set(font_scale=1.5)\n",
    "\n",
    "%config InlineBackend.figure_format = 'retina'"
   ]
  },
  {
   "cell_type": "code",
   "execution_count": 28,
   "metadata": {},
   "outputs": [
    {
     "data": {
      "image/png": "[encoded data removed]",
      "text/plain": [
       "<Figure size 432x288 with 1 Axes>"
      ]
     },
     "metadata": {
      "image/png": {
       "height": 259,
       "width": 370
      },
      "needs_background": "light"
     },
     "output_type": "display_data"
    }
   ],
   "source": [
    "sns.distplot(sample, bins=40, kde=False);   #可以把false改成true"
   ]
  },
  {
   "cell_type": "markdown",
   "metadata": {
    "slideshow": {
     "slide_type": "slide"
    }
   },
   "source": [
    "## Measures of Dispersion\n",
    "\n",
    "---\n",
    "\n",
    "Measures of dispersion including the **range**, **variance**, and **standard deviation** tell you about the **spread of your data**.\n",
    "\n",
    "These measurements give complementary information to the measures of **central tendency** and are no less important.\n"
   ]
  },
  {
   "cell_type": "markdown",
   "metadata": {
    "slideshow": {
     "slide_type": "slide"
    }
   },
   "source": [
    "### Range\n",
    "\n",
    "The range is the space between the **lowest and highest values of a distribution**. Because this metric only depends on two observations, it's a simple calculation. Range shows how widely the numbers in a set vary.\n",
    "\n",
    "To calculate the range:\n",
    "\n",
    "1. Determine the largest and the smallest value of the data sample (by sorting and taking first and last or by using the built-in functions `min`, `max`).\n",
    "- Subtract the largest value from the smallest value.\n",
    "- Compare your result with `numpy`'s `ptp()` method, which accomplishes the same task."
   ]
  },
  {
   "cell_type": "code",
   "execution_count": 29,
   "metadata": {
    "slideshow": {
     "slide_type": "subslide"
    }
   },
   "outputs": [],
   "source": [
    "sample = [3, 75, 98, 2, 10, 3, 14, 99, 44, 25,\n",
    "          31, 100, 356, 4, 23, 55, 327, 64, 6, 20]"
   ]
  },
  {
   "cell_type": "code",
   "execution_count": 30,
   "metadata": {
    "slideshow": {
     "slide_type": "subslide"
    }
   },
   "outputs": [
    {
     "name": "stdout",
     "output_type": "stream",
     "text": [
      "354\n"
     ]
    }
   ],
   "source": [
    "# Find range with max() and min():\n",
    "print(max(sample) - min(sample))   #用max和minfunction也是ok的"
   ]
  },
  {
   "cell_type": "code",
   "execution_count": 31,
   "metadata": {
    "slideshow": {
     "slide_type": "subslide"
    }
   },
   "outputs": [
    {
     "name": "stdout",
     "output_type": "stream",
     "text": [
      "354\n"
     ]
    }
   ],
   "source": [
    "# Find range with np.ptp():\n",
    "print(np.ptp(sample))      #ptp point to point"
   ]
  },
  {
   "cell_type": "markdown",
   "metadata": {
    "slideshow": {
     "slide_type": "slide"
    }
   },
   "source": [
    "### Variance\n",
    "\n",
    "The variance is a numeric value used to describe the **degree of spread** around the mean in a distribution of numbers.\n",
    "\n",
    "The variance is calculated by:\n",
    "- subtracting each value from the mean\n",
    "- squaring this difference\n",
    "- finding the average of these differences (ie finding the sum, then dividing by n)\n",
    "\n",
    "In Python variance can be calculated with:\n",
    "```python\n",
    "variance = []\n",
    "n_mean = np.mean(numbers)\n",
    "\n",
    "for num in numbers:\n",
    "    variance.append((num - n_mean) ** 2)\n",
    "\n",
    "variance = np.sum(variance)\n",
    "variance = variance / len(numbers)\n",
    "```\n",
    "\n",
    "\n",
    "Using `numpy` the variance is simply:\n",
    "```python\n",
    "variance = np.var(n)\n",
    "```\n",
    "\n"
   ]
  },
  {
   "cell_type": "code",
   "execution_count": 32,
   "metadata": {},
   "outputs": [],
   "source": [
    "variance = []\n",
    "n_mean = np.mean(sample)\n",
    "\n",
    "for num in sample:\n",
    "    variance.append((num - n_mean) ** 2)\n",
    "\n",
    "variance = np.sum(variance)\n",
    "variance = variance / len(sample)"
   ]
  },
  {
   "cell_type": "markdown",
   "metadata": {},
   "source": [
    "Turn that into a function and use a list comprehension instead."
   ]
  },
  {
   "cell_type": "code",
   "execution_count": 33,
   "metadata": {},
   "outputs": [
    {
     "data": {
      "text/plain": [
       "9414.647500000003"
      ]
     },
     "execution_count": 33,
     "metadata": {},
     "output_type": "execute_result"
    }
   ],
   "source": [
    "def my_variance(X): \n",
    "    return my_mean([(s-my_mean(X))**2 for s in X])\n",
    "\n",
    "my_variance(sample)"
   ]
  },
  {
   "cell_type": "markdown",
   "metadata": {},
   "source": [
    "Solution with numpy:"
   ]
  },
  {
   "cell_type": "code",
   "execution_count": 34,
   "metadata": {},
   "outputs": [
    {
     "data": {
      "text/plain": [
       "9414.647500000003"
      ]
     },
     "execution_count": 34,
     "metadata": {},
     "output_type": "execute_result"
    }
   ],
   "source": [
    "np.var(sample)"
   ]
  },
  {
   "cell_type": "markdown",
   "metadata": {
    "slideshow": {
     "slide_type": "slide"
    }
   },
   "source": [
    "### Standard deviation\n",
    "\n",
    "The **standard deviation** (often written lowercase sigma: σ) is the **square root of the variance**.\n",
    "\n",
    "In other words, for a random variable X, \n",
    "\n",
    "$$\n",
    "\\sigma(X) = \\sqrt{{\\rm Var}(X)}\n",
    "$$\n",
    "\n",
    "Because the **variance** is the **average of the distances from the mean _squared_**, the standard deviation tells us approximately, on average, the **distance of numbers in a distribution from the mean of the distribution**. The standard deviation is measured in the same units as the observed sample values and the mean and is therefore better for direct comparison.\n",
    "\n",
    "The standard deviation can be calculated using numpy:\n",
    "```python\n",
    "std = np.std(n)\n",
    "```\n",
    "\n",
    "![](./assets/images/dist_with_var_std.png)\n"
   ]
  },
  {
   "cell_type": "code",
   "execution_count": 35,
   "metadata": {},
   "outputs": [
    {
     "data": {
      "text/plain": [
       "97.02910645780473"
      ]
     },
     "execution_count": 35,
     "metadata": {},
     "output_type": "execute_result"
    }
   ],
   "source": [
    "my_variance(sample)**0.5"
   ]
  },
  {
   "cell_type": "code",
   "execution_count": 36,
   "metadata": {},
   "outputs": [
    {
     "data": {
      "text/plain": [
       "97.02910645780473"
      ]
     },
     "execution_count": 36,
     "metadata": {},
     "output_type": "execute_result"
    }
   ],
   "source": [
    "np.std(sample)"
   ]
  },
  {
   "cell_type": "markdown",
   "metadata": {},
   "source": [
    "**Calculate the variances and standard deviations of the weather data.**"
   ]
  },
  {
   "cell_type": "code",
   "execution_count": 37,
   "metadata": {},
   "outputs": [
    {
     "data": {
      "text/plain": [
       "97.02910645780473"
      ]
     },
     "execution_count": 37,
     "metadata": {},
     "output_type": "execute_result"
    }
   ],
   "source": [
    "np.std(sample)"
   ]
  },
  {
   "cell_type": "code",
   "execution_count": 38,
   "metadata": {},
   "outputs": [
    {
     "name": "stdout",
     "output_type": "stream",
     "text": [
      "[3, 75, 98, 2, 10, 3, 14, 99, 44, 25, 31, 100, 356, 4, 23, 55, 327, 64, 6, 20]\n"
     ]
    }
   ],
   "source": [
    "print(sample)"
   ]
  },
  {
   "cell_type": "code",
   "execution_count": 39,
   "metadata": {},
   "outputs": [
    {
     "data": {
      "text/plain": [
       "9414.647500000003"
      ]
     },
     "execution_count": 39,
     "metadata": {},
     "output_type": "execute_result"
    }
   ],
   "source": [
    "np.var(sample)"
   ]
  },
  {
   "cell_type": "code",
   "execution_count": 44,
   "metadata": {},
   "outputs": [
    {
     "data": {
      "text/plain": [
       "[58.56094403838335, 45.149531651317645, 2.9320884804423724]"
      ]
     },
     "execution_count": 44,
     "metadata": {},
     "output_type": "execute_result"
    }
   ],
   "source": [
    "[np.std(x) for x in samples]   # samples not sample"
   ]
  },
  {
   "cell_type": "markdown",
   "metadata": {},
   "source": [
    "What can you conclude from the standard deviations that you found for ldn_sun and nyc_sun?  How would you explain the difference?\n"
   ]
  },
  {
   "cell_type": "code",
   "execution_count": 41,
   "metadata": {},
   "outputs": [],
   "source": [
    "# A"
   ]
  },
  {
   "cell_type": "markdown",
   "metadata": {},
   "source": [
    "> **Note:** Often, the variance for data samples comes with a correction factor of $n/(n-1)$ where $n$ is the sample size (number of elements in the list). This makes sense in the context of inference when one is thinking about inferring the variance of a whole population by just looking at a sample. The reasons for doing that are more profound. However, you will often find that some software (e.g. pandas) uses the correction factor as the default setting. We can easily take care of that."
   ]
  },
  {
   "cell_type": "code",
   "execution_count": 42,
   "metadata": {},
   "outputs": [
    {
     "data": {
      "text/plain": [
       "9910.155263157898"
      ]
     },
     "execution_count": 42,
     "metadata": {},
     "output_type": "execute_result"
    }
   ],
   "source": [
    "my_variance(sample)*len(sample)/(len(sample)-1)   #软件不同，结果可能不同个，但观察值越多，差距越小"
   ]
  },
  {
   "cell_type": "code",
   "execution_count": 43,
   "metadata": {},
   "outputs": [
    {
     "data": {
      "text/plain": [
       "9910.155263157896"
      ]
     },
     "execution_count": 43,
     "metadata": {},
     "output_type": "execute_result"
    }
   ],
   "source": [
    "# using the keyword ddof (degrees of freedom) in the numpy function\n",
    "np.var(sample, ddof=1)"
   ]
  },
  {
   "cell_type": "markdown",
   "metadata": {},
   "source": [
    "### Some useful notation\n",
    "\n",
    "\n",
    "In textbooks you will often find the following notation for a data sample $X=(X_1, X_2, \\ldots, X_n)$:\n",
    "\n",
    "- Mean $\\mu$ (mu):\n",
    "\n",
    "$$\\mu = \\frac{1}{n}(X_1+X_2+\\ldots+X_n) = \\frac{1}{n}\\sum_{i=1}^{n}X_i$$\n",
    "\n",
    "- Variance: \n",
    "\n",
    "$${\\rm Var}(X) = \\frac{1}{n}\\left((X_1-\\mu)^2+(X_2-\\mu)^2+\\ldots+(X_n-\\mu)^2\\right) = \\frac{1}{n}\\sum_{i=1}^{n}(X_i-\\mu)^2$$\n",
    "\n",
    "The capital Sigma $\\Sigma$ is just an abbreviation for carrying out the summation. Think of this notation in the same way we programmed it: we iterate over the different elements, perform always the same operation and in the end sum all elements before dividing by the number of elements in the list."
   ]
  },
  {
   "cell_type": "code",
   "execution_count": null,
   "metadata": {},
   "outputs": [],
   "source": []
  }
 ],
 "metadata": {
  "anaconda-cloud": {},
  "kernelspec": {
   "display_name": "Python 3",
   "language": "python",
   "name": "python3"
  },
  "language_info": {
   "codemirror_mode": {
    "name": "ipython",
    "version": 3
   },
   "file_extension": ".py",
   "mimetype": "text/x-python",
   "name": "python",
   "nbconvert_exporter": "python",
   "pygments_lexer": "ipython3",
   "version": "3.7.4"
  },
  "toc": {
   "base_numbering": 1,
   "nav_menu": {},
   "number_sections": false,
   "sideBar": true,
   "skip_h1_title": false,
   "title_cell": "Lesson Guide",
   "title_sidebar": "Contents",
   "toc_cell": true,
   "toc_position": {},
   "toc_section_display": "block",
   "toc_window_display": false
  },
  "varInspector": {
   "cols": {
    "lenName": 16,
    "lenType": 16,
    "lenVar": 40
   },
   "kernels_config": {
    "python": {
     "delete_cmd_postfix": "",
     "delete_cmd_prefix": "del ",
     "library": "var_list.py",
     "varRefreshCmd": "print(var_dic_list())"
    },
    "r": {
     "delete_cmd_postfix": ") ",
     "delete_cmd_prefix": "rm(",
     "library": "var_list.r",
     "varRefreshCmd": "cat(var_dic_list()) "
    }
   },
   "types_to_exclude": [
    "module",
    "function",
    "builtin_function_or_method",
    "instance",
    "_Feature"
   ],
   "window_display": false
  }
 },
 "nbformat": 4,
 "nbformat_minor": 1
}
