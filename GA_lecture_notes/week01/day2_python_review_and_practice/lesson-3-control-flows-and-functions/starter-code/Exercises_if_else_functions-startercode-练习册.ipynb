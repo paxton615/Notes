{
 "cells": [
  {
   "cell_type": "markdown",
   "metadata": {},
   "source": [
    "<img src=\"http://imgur.com/1ZcRyrc.png\" style=\"float: left; margin: 20px; height: 55px\">\n",
    "\n",
    "# Exercises control flow and functions\n",
    "\n",
    "---"
   ]
  },
  {
   "cell_type": "markdown",
   "metadata": {},
   "source": [
    "## If - else\n",
    "\n",
    "---"
   ]
  },
  {
   "cell_type": "markdown",
   "metadata": {},
   "source": [
    "### 1. Write an if-else statement for multiple conditions.\n",
    "\n",
    "Print out these recommendations based on the weather conditions:\n",
    "\n",
    "1. Temperature over 20 ˚C and rain: bring an umbrella.\n",
    "2. Temperature less than or equal to 20 ˚C and rain: bring an umbrella and a jacket.\n",
    "3. Temperature over 20 ˚C and sunshine: wear a t-shirt.\n",
    "4. Temperature less than or equal to 20 ˚C and sunshine: bring a jacket."
   ]
  },
  {
   "cell_type": "code",
   "execution_count": 1,
   "metadata": {},
   "outputs": [
    {
     "name": "stdout",
     "output_type": "stream",
     "text": [
      "What's the temperature?20\n"
     ]
    }
   ],
   "source": [
    "temp = eval(input(\"What's the temperature?\"))"
   ]
  },
  {
   "cell_type": "code",
   "execution_count": 4,
   "metadata": {},
   "outputs": [
    {
     "name": "stdout",
     "output_type": "stream",
     "text": [
      "20\n",
      "<class 'int'>\n"
     ]
    }
   ],
   "source": [
    "print(temp)\n",
    "print(type(temp))"
   ]
  },
  {
   "cell_type": "code",
   "execution_count": 6,
   "metadata": {},
   "outputs": [
    {
     "name": "stdout",
     "output_type": "stream",
     "text": [
      "Is it rain or sunshine?rain\n"
     ]
    }
   ],
   "source": [
    "weather = input(\"Is it rain or sunshine?\")"
   ]
  },
  {
   "cell_type": "code",
   "execution_count": 7,
   "metadata": {},
   "outputs": [
    {
     "data": {
      "text/plain": [
       "'rain'"
      ]
     },
     "execution_count": 7,
     "metadata": {},
     "output_type": "execute_result"
    }
   ],
   "source": [
    "weather"
   ]
  },
  {
   "cell_type": "code",
   "execution_count": 12,
   "metadata": {},
   "outputs": [
    {
     "name": "stdout",
     "output_type": "stream",
     "text": [
      "What's the temperature?30\n",
      "Is it rain or sunshine?sunshine\n",
      "wear a t-shirt\n"
     ]
    }
   ],
   "source": [
    "temp = eval(input(\"What's the temperature?\"))\n",
    "weather = input(\"Is it rain or sunshine?\")\n",
    "if temp > 20:\n",
    "    if weather == 'rain':\n",
    "        print('bring an umbrella')\n",
    "    else:\n",
    "        print('wear a t-shirt')\n",
    "else:\n",
    "    if weather == 'rain':\n",
    "        print('bring an umbrella and a jacket')\n",
    "    else:\n",
    "        print('bring a jacket')"
   ]
  },
  {
   "cell_type": "code",
   "execution_count": 13,
   "metadata": {},
   "outputs": [
    {
     "name": "stdout",
     "output_type": "stream",
     "text": [
      "What's the temperature?15\n",
      "Is it rain or sunshine?rain\n",
      "bring an umbrella and a jacket\n"
     ]
    }
   ],
   "source": [
    "temp = eval(input(\"What's the temperature?\"))\n",
    "weather = input(\"Is it rain or sunshine?\")\n",
    "if temp > 20:\n",
    "    if weather == 'rain':\n",
    "        print('bring an umbrella')\n",
    "    else:\n",
    "        print('wear a t-shirt')\n",
    "else:\n",
    "    if weather == 'rain':\n",
    "        print('bring an umbrella and a jacket')\n",
    "    else:\n",
    "        print('bring a jacket')"
   ]
  },
  {
   "cell_type": "code",
   "execution_count": 14,
   "metadata": {},
   "outputs": [
    {
     "name": "stdout",
     "output_type": "stream",
     "text": [
      "What's the temperature?20\n",
      "Is it rain or sunshine?sunshine\n",
      "bring a jacket\n"
     ]
    }
   ],
   "source": [
    "temp = eval(input(\"What's the temperature?\"))\n",
    "weather = input(\"Is it rain or sunshine?\")\n",
    "if temp > 20:\n",
    "    if weather == 'rain':\n",
    "        print('bring an umbrella')\n",
    "    else:\n",
    "        print('wear a t-shirt')\n",
    "else:\n",
    "    if weather == 'rain':\n",
    "        print('bring an umbrella and a jacket')\n",
    "    else:\n",
    "        print('bring a jacket')"
   ]
  },
  {
   "cell_type": "markdown",
   "metadata": {},
   "source": [
    "### 2. Iterate from 1 to 15, printing whether the number is odd or even.\n",
    "\n",
    "Hint: The modulus operator, `%`, can be used to take the remainder. For example:\n",
    "\n",
    "```python\n",
    "9 % 5 == 4\n",
    "```\n",
    "\n",
    "Or in other words, the remainder of dividing 9 by 5 is 4. "
   ]
  },
  {
   "cell_type": "code",
   "execution_count": 20,
   "metadata": {},
   "outputs": [],
   "source": [
    "results = []\n",
    "for i in range(1,16):\n",
    "#     print(i)\n",
    "    if i%2 == 1:\n",
    "        results.append((i,'odd'))\n",
    "    else:\n",
    "        results.append((i,'even'))"
   ]
  },
  {
   "cell_type": "code",
   "execution_count": 33,
   "metadata": {},
   "outputs": [
    {
     "data": {
      "text/plain": [
       "[(1, 'odd'),\n",
       " (2, 'even'),\n",
       " (3, 'odd'),\n",
       " (4, 'even'),\n",
       " (5, 'odd'),\n",
       " (6, 'even'),\n",
       " (7, 'odd'),\n",
       " (8, 'even'),\n",
       " (9, 'odd'),\n",
       " (10, 'even'),\n",
       " (11, 'odd'),\n",
       " (12, 'even'),\n",
       " (13, 'odd'),\n",
       " (14, 'even'),\n",
       " (15, 'odd')]"
      ]
     },
     "execution_count": 33,
     "metadata": {},
     "output_type": "execute_result"
    }
   ],
   "source": [
    "results"
   ]
  },
  {
   "cell_type": "code",
   "execution_count": 40,
   "metadata": {},
   "outputs": [
    {
     "name": "stdout",
     "output_type": "stream",
     "text": [
      "[(1, 'odd'), (3, 'odd'), (5, 'odd'), (7, 'odd'), (9, 'odd'), (11, 'odd'), (13, 'odd'), (15, 'odd')]\n"
     ]
    }
   ],
   "source": [
    "odd_results = []\n",
    "for result in results:\n",
    "    if result[1]=='odd':\n",
    "        odd_results.append(result)\n",
    "print(odd_results)"
   ]
  },
  {
   "cell_type": "code",
   "execution_count": 41,
   "metadata": {},
   "outputs": [],
   "source": [
    "# for i in range(1,15):    #how do I get 15 include? you can just use (1,16)\n",
    "    \n",
    "#     if i % 2 == 0:\n",
    "#         print(i,\"even\")\n",
    "#     elif i%2 !=0:\n",
    "#         print(i,\"odd\")"
   ]
  },
  {
   "cell_type": "code",
   "execution_count": 42,
   "metadata": {},
   "outputs": [],
   "source": [
    "# for i in range(1,15):\n",
    "#     i+=1\n",
    "#     if i% 2 != 0:\n",
    "#         print(i)"
   ]
  },
  {
   "cell_type": "markdown",
   "metadata": {},
   "source": [
    "### 3. Iterate through the animals. Print out the animal name and the number of vowels in the name."
   ]
  },
  {
   "cell_type": "code",
   "execution_count": 59,
   "metadata": {},
   "outputs": [],
   "source": [
    "animals = ['duck', 'rat', 'boar', 'elefant', 'mammoth', 'gazelle']"
   ]
  },
  {
   "cell_type": "code",
   "execution_count": 46,
   "metadata": {},
   "outputs": [],
   "source": [
    "vowels = 'aeiou'"
   ]
  },
  {
   "cell_type": "code",
   "execution_count": 48,
   "metadata": {},
   "outputs": [
    {
     "data": {
      "text/plain": [
       "'a'"
      ]
     },
     "execution_count": 48,
     "metadata": {},
     "output_type": "execute_result"
    }
   ],
   "source": [
    "vowels[0]"
   ]
  },
  {
   "cell_type": "code",
   "execution_count": 53,
   "metadata": {},
   "outputs": [],
   "source": [
    "counter =0\n",
    "for letter in 'duck':\n",
    "    if letter in vowels:\n",
    "        counter +=1"
   ]
  },
  {
   "cell_type": "code",
   "execution_count": 54,
   "metadata": {},
   "outputs": [
    {
     "data": {
      "text/plain": [
       "1"
      ]
     },
     "execution_count": 54,
     "metadata": {},
     "output_type": "execute_result"
    }
   ],
   "source": [
    "counter"
   ]
  },
  {
   "cell_type": "code",
   "execution_count": 56,
   "metadata": {},
   "outputs": [
    {
     "name": "stdout",
     "output_type": "stream",
     "text": [
      "3\n"
     ]
    }
   ],
   "source": [
    "counter =0\n",
    "for letter in 'elefant':\n",
    "    if letter in vowels:\n",
    "        counter +=1\n",
    "print(counter)"
   ]
  },
  {
   "cell_type": "code",
   "execution_count": 60,
   "metadata": {},
   "outputs": [
    {
     "name": "stdout",
     "output_type": "stream",
     "text": [
      "duck 1\n",
      "rat 1\n",
      "boar 2\n",
      "elefant 3\n",
      "mammoth 2\n",
      "gazelle 3\n"
     ]
    }
   ],
   "source": [
    "for word in animals:\n",
    "    counter=0\n",
    "    for letter in word:\n",
    "        if letter in vowels:\n",
    "            counter +=1\n",
    "    print(word, counter)"
   ]
  },
  {
   "cell_type": "code",
   "execution_count": 63,
   "metadata": {},
   "outputs": [
    {
     "name": "stdout",
     "output_type": "stream",
     "text": [
      "[('duck', 1), ('rat', 1), ('boar', 2), ('elefant', 3), ('mammoth', 2), ('gazelle', 3)]\n"
     ]
    }
   ],
   "source": [
    "results=[]\n",
    "for word in animals:\n",
    "    counter=0\n",
    "    for letter in word:\n",
    "        if letter in vowels:\n",
    "            counter +=1\n",
    "    results.append((word, counter))\n",
    "print(results)"
   ]
  },
  {
   "cell_type": "markdown",
   "metadata": {},
   "source": [
    "### 4. Iterate from 1 to 30 with the following instructions:\n",
    "\n",
    "1. If a number is divisible by 3, print 'fizz'. \n",
    "2. If a number is divisible by 5, print 'buzz'. \n",
    "3. If a number is both divisible by 3 and 5 print 'fizzbuzz'.\n",
    "4. Otherwise, print just the number."
   ]
  },
  {
   "cell_type": "code",
   "execution_count": 67,
   "metadata": {
    "scrolled": true
   },
   "outputs": [
    {
     "name": "stdout",
     "output_type": "stream",
     "text": [
      "1\n",
      "2\n",
      "3 fizz\n",
      "4\n",
      "5 buzz\n",
      "6 fizz\n",
      "7\n",
      "8\n",
      "9 fizz\n",
      "10 buzz\n",
      "11\n",
      "12 fizz\n",
      "13\n",
      "14\n",
      "15 fizzbuzz\n",
      "16\n",
      "17\n",
      "18 fizz\n",
      "19\n",
      "20 buzz\n",
      "21 fizz\n",
      "22\n",
      "23\n",
      "24 fizz\n",
      "25 buzz\n",
      "26\n",
      "27 fizz\n",
      "28\n",
      "29\n",
      "30 fizzbuzz\n"
     ]
    }
   ],
   "source": [
    "for num in range(1,31):\n",
    "    if num%15==0: # (i % 3 == 0) and (i % 5 == 0) 可以用and连接两个条件\n",
    "        print(num,'fizzbuzz')\n",
    "    elif num%3==0:\n",
    "        print(num,'fizz')\n",
    "    elif num%5==0:\n",
    "        print(num,'buzz')\n",
    "    else:\n",
    "        print(num)"
   ]
  },
  {
   "cell_type": "code",
   "execution_count": 69,
   "metadata": {},
   "outputs": [
    {
     "name": "stdout",
     "output_type": "stream",
     "text": [
      "30\n"
     ]
    }
   ],
   "source": [
    "for num in range(1,31): \n",
    "    if (num%2==0)and(num%3==0)and(num%5==0):\n",
    "        print(num)"
   ]
  },
  {
   "cell_type": "code",
   "execution_count": null,
   "metadata": {},
   "outputs": [],
   "source": []
  },
  {
   "cell_type": "markdown",
   "metadata": {},
   "source": [
    "## Functions\n",
    "\n",
    "---"
   ]
  },
  {
   "cell_type": "markdown",
   "metadata": {},
   "source": [
    "### 1. Write a function that takes the length of a side of a square as an argument and returns the area of the square."
   ]
  },
  {
   "cell_type": "code",
   "execution_count": 70,
   "metadata": {},
   "outputs": [],
   "source": [
    "def area_square(x):\n",
    "    return x*x"
   ]
  },
  {
   "cell_type": "code",
   "execution_count": 71,
   "metadata": {},
   "outputs": [
    {
     "name": "stdout",
     "output_type": "stream",
     "text": [
      "4\n"
     ]
    }
   ],
   "source": [
    "print(area_square(2))"
   ]
  },
  {
   "cell_type": "code",
   "execution_count": 72,
   "metadata": {},
   "outputs": [
    {
     "data": {
      "text/plain": [
       "16"
      ]
     },
     "execution_count": 72,
     "metadata": {},
     "output_type": "execute_result"
    }
   ],
   "source": [
    "area_square(2)*area_square(2) # 和下面的square(2)*square(2)对比一下"
   ]
  },
  {
   "cell_type": "code",
   "execution_count": 73,
   "metadata": {},
   "outputs": [],
   "source": [
    "def square(x):\n",
    "    print(x*x)"
   ]
  },
  {
   "cell_type": "code",
   "execution_count": 74,
   "metadata": {},
   "outputs": [
    {
     "name": "stdout",
     "output_type": "stream",
     "text": [
      "4\n"
     ]
    }
   ],
   "source": [
    "square(2)"
   ]
  },
  {
   "cell_type": "code",
   "execution_count": 75,
   "metadata": {},
   "outputs": [
    {
     "name": "stdout",
     "output_type": "stream",
     "text": [
      "4\n",
      "4\n"
     ]
    },
    {
     "ename": "TypeError",
     "evalue": "unsupported operand type(s) for *: 'NoneType' and 'NoneType'",
     "output_type": "error",
     "traceback": [
      "\u001b[0;31m---------------------------------------------------------------------------\u001b[0m",
      "\u001b[0;31mTypeError\u001b[0m                                 Traceback (most recent call last)",
      "\u001b[0;32m<ipython-input-75-40ff103658fb>\u001b[0m in \u001b[0;36m<module>\u001b[0;34m\u001b[0m\n\u001b[0;32m----> 1\u001b[0;31m \u001b[0msquare\u001b[0m\u001b[0;34m(\u001b[0m\u001b[0;36m2\u001b[0m\u001b[0;34m)\u001b[0m\u001b[0;34m*\u001b[0m\u001b[0msquare\u001b[0m\u001b[0;34m(\u001b[0m\u001b[0;36m2\u001b[0m\u001b[0;34m)\u001b[0m\u001b[0;34m\u001b[0m\u001b[0;34m\u001b[0m\u001b[0m\n\u001b[0m",
      "\u001b[0;31mTypeError\u001b[0m: unsupported operand type(s) for *: 'NoneType' and 'NoneType'"
     ]
    }
   ],
   "source": [
    "square(2)*square(2) #这里体现了return和print之间的区别\n",
    "#  return是带记忆的\n",
    "#  print只是显示单次结果"
   ]
  },
  {
   "cell_type": "markdown",
   "metadata": {},
   "source": [
    "### 2. Write a function that takes a string as an argument and returns a tuple with the string converted to a list and the count of characters"
   ]
  },
  {
   "cell_type": "code",
   "execution_count": 33,
   "metadata": {},
   "outputs": [],
   "source": [
    "def string_turn(string):\n",
    "    str_pure = string.replace(' ','').replace(',','').replace('.','').replace('?','').replace('!','').lower()\n",
    "    return((list(str_pure),len(str_pure)))\n"
   ]
  },
  {
   "cell_type": "code",
   "execution_count": 34,
   "metadata": {},
   "outputs": [],
   "source": [
    "string = 'wo men de zu guo shi Hua yuan.'\n",
    "string1='wo?bushi , yige.Pianzi!'\n"
   ]
  },
  {
   "cell_type": "code",
   "execution_count": 36,
   "metadata": {},
   "outputs": [
    {
     "data": {
      "text/plain": [
       "(['w',\n",
       "  'o',\n",
       "  'm',\n",
       "  'e',\n",
       "  'n',\n",
       "  'd',\n",
       "  'e',\n",
       "  'z',\n",
       "  'u',\n",
       "  'g',\n",
       "  'u',\n",
       "  'o',\n",
       "  's',\n",
       "  'h',\n",
       "  'i',\n",
       "  'h',\n",
       "  'u',\n",
       "  'a',\n",
       "  'y',\n",
       "  'u',\n",
       "  'a',\n",
       "  'n'],\n",
       " 22)"
      ]
     },
     "execution_count": 36,
     "metadata": {},
     "output_type": "execute_result"
    }
   ],
   "source": [
    "string_turn(string)\n"
   ]
  },
  {
   "cell_type": "code",
   "execution_count": null,
   "metadata": {},
   "outputs": [],
   "source": []
  },
  {
   "cell_type": "markdown",
   "metadata": {},
   "source": [
    "### 3. Write a one-parameter function that calculates the factorial of an integer given as the argument."
   ]
  },
  {
   "cell_type": "code",
   "execution_count": 61,
   "metadata": {},
   "outputs": [],
   "source": [
    "def fac(n):\n",
    "    if n == 0:\n",
    "        return (1)\n",
    "    else:\n",
    "        return n*(fac(n-1))"
   ]
  },
  {
   "cell_type": "code",
   "execution_count": 65,
   "metadata": {},
   "outputs": [
    {
     "data": {
      "text/plain": [
       "120"
      ]
     },
     "execution_count": 65,
     "metadata": {},
     "output_type": "execute_result"
    }
   ],
   "source": [
    "fac(5)"
   ]
  },
  {
   "cell_type": "code",
   "execution_count": null,
   "metadata": {},
   "outputs": [],
   "source": []
  },
  {
   "cell_type": "code",
   "execution_count": null,
   "metadata": {},
   "outputs": [],
   "source": []
  },
  {
   "cell_type": "markdown",
   "metadata": {},
   "source": [
    "### 4. Write a function that takes a list and returns a list with its unique elements\n",
    "\n",
    "Example: sample list : [1,2,3,3,3,3,4,5] $\\rightarrow$ unique list : [1, 2, 3, 4, 5]"
   ]
  },
  {
   "cell_type": "code",
   "execution_count": 17,
   "metadata": {},
   "outputs": [],
   "source": [
    "def unique(x):\n",
    "    return(set(x))\n"
   ]
  },
  {
   "cell_type": "code",
   "execution_count": 18,
   "metadata": {},
   "outputs": [],
   "source": [
    "list_1= [1,1,2,3,3,3,4,5,6]\n"
   ]
  },
  {
   "cell_type": "code",
   "execution_count": 19,
   "metadata": {},
   "outputs": [
    {
     "data": {
      "text/plain": [
       "{1, 2, 3, 4, 5, 6}"
      ]
     },
     "execution_count": 19,
     "metadata": {},
     "output_type": "execute_result"
    }
   ],
   "source": [
    "unique(list_1)\n"
   ]
  },
  {
   "cell_type": "markdown",
   "metadata": {},
   "source": [
    "### 5. Write a function that takes two integers passed as strings and returns the sum, difference, and product as a tuple (all values as integers)"
   ]
  },
  {
   "cell_type": "code",
   "execution_count": 46,
   "metadata": {},
   "outputs": [],
   "source": [
    "def my_function5(x,y):\n",
    "    x = int (x)\n",
    "    y = int (y)\n",
    "    result= [x+y , x-y, x*y]\n",
    "    return(tuple(result))\n",
    "    "
   ]
  },
  {
   "cell_type": "code",
   "execution_count": 47,
   "metadata": {},
   "outputs": [
    {
     "name": "stdout",
     "output_type": "stream",
     "text": [
      "(7, -3, 10)\n"
     ]
    }
   ],
   "source": [
    "print(my_function5(2,5))"
   ]
  },
  {
   "cell_type": "markdown",
   "metadata": {},
   "source": [
    "### 6. Write a function that takes a list and returns a tuple where the first item is the list in reverse order and the second item is just the items with an odd index"
   ]
  },
  {
   "cell_type": "code",
   "execution_count": 26,
   "metadata": {},
   "outputs": [],
   "source": [
    "my_list6=[1,2,3,4,5]"
   ]
  },
  {
   "cell_type": "code",
   "execution_count": 27,
   "metadata": {},
   "outputs": [
    {
     "data": {
      "text/plain": [
       "(1, 2, 3, 4, 5)"
      ]
     },
     "execution_count": 27,
     "metadata": {},
     "output_type": "execute_result"
    }
   ],
   "source": [
    "tuple(my_list6)"
   ]
  },
  {
   "cell_type": "markdown",
   "metadata": {},
   "source": [
    "---\n",
    "\n",
    "### 7. Write a function that takes word as an argument and returns the number of vowels in the word.\n",
    "\n",
    "Try it out on 3 words."
   ]
  },
  {
   "cell_type": "code",
   "execution_count": 48,
   "metadata": {},
   "outputs": [
    {
     "ename": "SyntaxError",
     "evalue": "invalid syntax (<ipython-input-48-32722c192f9e>, line 4)",
     "output_type": "error",
     "traceback": [
      "\u001b[0;36m  File \u001b[0;32m\"<ipython-input-48-32722c192f9e>\"\u001b[0;36m, line \u001b[0;32m4\u001b[0m\n\u001b[0;31m    if letter = vowel_set:\u001b[0m\n\u001b[0m              ^\u001b[0m\n\u001b[0;31mSyntaxError\u001b[0m\u001b[0;31m:\u001b[0m invalid syntax\n"
     ]
    }
   ],
   "source": [
    "def my_function7(x,y):\n",
    "    vowel_set = [a,e,i,o,u]\n",
    "    for letter in x:\n",
    "        if letter = vowel_set:\n",
    "            i = i +1\n",
    "            "
   ]
  },
  {
   "cell_type": "code",
   "execution_count": 49,
   "metadata": {},
   "outputs": [
    {
     "name": "stdout",
     "output_type": "stream",
     "text": [
      "ok\n",
      "not ok\n",
      "not ok\n",
      "ok\n",
      "not ok\n",
      "not ok\n",
      "ok\n",
      "not ok\n"
     ]
    }
   ],
   "source": [
    "list_x= [10,2,3,10,4,5,10,46]\n",
    "for i in list_x:\n",
    "    if i == 10:\n",
    "        print(\"ok\")\n",
    "    else:\n",
    "        print(\"not ok\")"
   ]
  },
  {
   "cell_type": "markdown",
   "metadata": {},
   "source": [
    "### 8. Challenge Problem: Write a function that returns the score for a word. Each letter's score is equal to it's position in the alphabet. The score of the word is the score of the letters. So for example:\n",
    "\n",
    "* A = 1, B = 2, C = 3, D = 4, E = 5\n",
    "* abe = 8 = (1 + 2 + 5)\n",
    "\n",
    "##### Hint: The string library has a property ascii_lowercase that can save some typing here.\n",
    "\n",
    "\n"
   ]
  },
  {
   "cell_type": "code",
   "execution_count": 2,
   "metadata": {},
   "outputs": [],
   "source": [
    "import string"
   ]
  },
  {
   "cell_type": "code",
   "execution_count": null,
   "metadata": {},
   "outputs": [],
   "source": []
  },
  {
   "cell_type": "markdown",
   "metadata": {},
   "source": [
    "### 9. Write a function which takes a string as the argument and returns it reversed."
   ]
  },
  {
   "cell_type": "code",
   "execution_count": null,
   "metadata": {},
   "outputs": [],
   "source": []
  },
  {
   "cell_type": "markdown",
   "metadata": {},
   "source": [
    "### 10.  Write a function that checks whether a passed string is a palindrome or not\n",
    "\n",
    "A palindrome is a word, a phrase, or a sequence that reads the same backward as forward (neglecting spaces), e.g., madam or nurses run. You are allowed to use your string reverse function."
   ]
  },
  {
   "cell_type": "code",
   "execution_count": null,
   "metadata": {},
   "outputs": [],
   "source": []
  }
 ],
 "metadata": {
  "anaconda-cloud": {},
  "kernelspec": {
   "display_name": "Python 3",
   "language": "python",
   "name": "python3"
  },
  "language_info": {
   "codemirror_mode": {
    "name": "ipython",
    "version": 3
   },
   "file_extension": ".py",
   "mimetype": "text/x-python",
   "name": "python",
   "nbconvert_exporter": "python",
   "pygments_lexer": "ipython3",
   "version": "3.7.4"
  },
  "toc": {
   "base_numbering": 1,
   "nav_menu": {},
   "number_sections": false,
   "sideBar": true,
   "skip_h1_title": true,
   "title_cell": "Table of Contents",
   "title_sidebar": "Contents",
   "toc_cell": false,
   "toc_position": {},
   "toc_section_display": "block",
   "toc_window_display": false
  }
 },
 "nbformat": 4,
 "nbformat_minor": 1
}
