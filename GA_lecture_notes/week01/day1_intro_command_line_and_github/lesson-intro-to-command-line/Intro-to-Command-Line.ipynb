{
 "cells": [
  {
   "cell_type": "markdown",
   "metadata": {
    "slideshow": {
     "slide_type": "slide"
    }
   },
   "source": [
    "<img src=\"http://imgur.com/1ZcRyrc.png\" style=\"float: left; margin: 20px; height: 55px\">\n",
    "\n",
    "# Using the Command Line\n",
    "\n",
    "___"
   ]
  },
  {
   "cell_type": "markdown",
   "metadata": {
    "slideshow": {
     "slide_type": "slide"
    }
   },
   "source": [
    "## Learning Objectives\n",
    "\n",
    "\n",
    "### Core\n",
    "\n",
    "- Change directories and list directory contents (**cd**, **ls**)\n",
    "- Check current working directory (**pwd**)\n",
    "- Create folders and files using the command line (**mkdir**, **touch**)\n",
    "- Remove files and directories (**rm**)\n",
    "\n",
    "### Stretch\n",
    "- View file content (**more**, **cat**)\n",
    "- Copy and move files (**cp**, **mv**)\n",
    "- Find files and file content (**find**, **grep**)"
   ]
  },
  {
   "cell_type": "markdown",
   "metadata": {
    "toc": true
   },
   "source": [
    "<h1>Lesson Guide<span class=\"tocSkip\"></span></h1>\n",
    "<div class=\"toc\"><ul class=\"toc-item\"><li><span><a href=\"#Using-the-Command-Line\" data-toc-modified-id=\"Using-the-Command-Line-1\">Using the Command Line</a></span><ul class=\"toc-item\"><li><span><a href=\"#Learning-Objectives\" data-toc-modified-id=\"Learning-Objectives-1.1\">Learning Objectives</a></span><ul class=\"toc-item\"><li><span><a href=\"#Core\" data-toc-modified-id=\"Core-1.1.1\">Core</a></span></li><li><span><a href=\"#Stretch\" data-toc-modified-id=\"Stretch-1.1.2\">Stretch</a></span></li></ul></li><li><span><a href=\"#What-is-a-GUI-(pronounced-gooey)?\" data-toc-modified-id=\"What-is-a-GUI-(pronounced-gooey)?-1.2\">What is a GUI (pronounced gooey)?</a></span><ul class=\"toc-item\"><li><span><a href=\"#What-is-a-shell?\" data-toc-modified-id=\"What-is-a-shell?-1.2.1\">What is a shell?</a></span></li><li><span><a href=\"#Opening-and-closing-the-terminal\" data-toc-modified-id=\"Opening-and-closing-the-terminal-1.2.2\">Opening and closing the terminal</a></span></li><li><span><a href=\"#Navigating-using-the-command-prompt\" data-toc-modified-id=\"Navigating-using-the-command-prompt-1.2.3\">Navigating using the command prompt</a></span></li></ul></li><li><span><a href=\"#Paths\" data-toc-modified-id=\"Paths-1.3\">Paths</a></span><ul class=\"toc-item\"><li><span><a href=\"#What-is-an-absolute-path?\" data-toc-modified-id=\"What-is-an-absolute-path?-1.3.1\">What is an absolute path?</a></span></li><li><span><a href=\"#Working-with-unix-commands-and-file-paths\" data-toc-modified-id=\"Working-with-unix-commands-and-file-paths-1.3.2\">Working with unix commands and file paths</a></span></li><li><span><a href=\"#What-is-a-relative-path?\" data-toc-modified-id=\"What-is-a-relative-path?-1.3.3\">What is a relative path?</a></span></li></ul></li><li><span><a href=\"#Creating-and-deleting-a-file\" data-toc-modified-id=\"Creating-and-deleting-a-file-1.4\">Creating and deleting a file</a></span></li><li><span><a href=\"#Creating-and-deleting-a-directory\" data-toc-modified-id=\"Creating-and-deleting-a-directory-1.5\">Creating and deleting a directory</a></span></li><li><span><a href=\"#Viewing-files\" data-toc-modified-id=\"Viewing-files-1.6\">Viewing files</a></span><ul class=\"toc-item\"><li><span><a href=\"#Ubiquitous-vim\" data-toc-modified-id=\"Ubiquitous-vim-1.6.1\">Ubiquitous vim</a></span></li></ul></li><li><span><a href=\"#Move-and-copy\" data-toc-modified-id=\"Move-and-copy-1.7\">Move and copy</a></span><ul class=\"toc-item\"><li><span><a href=\"#Using-wildcards-in-the-command-prompt\" data-toc-modified-id=\"Using-wildcards-in-the-command-prompt-1.7.1\">Using wildcards in the command prompt</a></span></li></ul></li><li><span><a href=\"#Get-Some-Help,-man!\" data-toc-modified-id=\"Get-Some-Help,-man!-1.8\">Get Some Help, man!</a></span></li><li><span><a href=\"#A-file-search-can-be-done-using-the-command-find\" data-toc-modified-id=\"A-file-search-can-be-done-using-the-command-find-1.9\">A file search can be done using the command <code>find</code></a></span></li><li><span><a href=\"#Grep\" data-toc-modified-id=\"Grep-1.10\">Grep</a></span></li><li><span><a href=\"#The-.bash_profile\" data-toc-modified-id=\"The-.bash_profile-1.11\">The .bash_profile</a></span></li><li><span><a href=\"#Conclusion\" data-toc-modified-id=\"Conclusion-1.12\">Conclusion</a></span></li><li><span><a href=\"#Exercise-(optional):-The-Command-Line-Murders\" data-toc-modified-id=\"Exercise-(optional):-The-Command-Line-Murders-1.13\">Exercise (optional): The Command Line Murders</a></span></li></ul></li></ul></div>"
   ]
  },
  {
   "cell_type": "markdown",
   "metadata": {
    "slideshow": {
     "slide_type": "slide"
    }
   },
   "source": [
    "##  What is a GUI (pronounced gooey)?\n",
    "\n",
    "There was a point when computers didn't come with a **Graphical User Interface (GUI)**. Instead, everyone interacted with the computer using **text commands** in what we call a **Command Line Interface (CLI)**.\n",
    "\n",
    "Today, the command line still exists, even though you may have never seen it as a casual computer user. Knowing how to use the **CLI becomes essential as you program more**.\n",
    "\n"
   ]
  },
  {
   "cell_type": "markdown",
   "metadata": {
    "slideshow": {
     "slide_type": "slide"
    }
   },
   "source": [
    "### What is a shell?\n",
    "\n",
    "A shell (or terminal) is simply a type of command line program. It contains a very simple, text-based user interface enabling you to access all of an operating system's services. It is essentially a text interpreter that translates your typed commands into functions that the operating system runs.\n",
    "\n",
    "*Taken from Just for fun: [Type like a hacker](http://hackertyper.com/)*"
   ]
  },
  {
   "cell_type": "markdown",
   "metadata": {
    "slideshow": {
     "slide_type": "slide"
    }
   },
   "source": [
    "**Forget Finder, get fast at using your laptop!**"
   ]
  },
  {
   "cell_type": "markdown",
   "metadata": {
    "slideshow": {
     "slide_type": "slide"
    }
   },
   "source": [
    "### Opening and closing the terminal\n",
    "\n",
    "Spotlight in OSX is the easiest and fastest way to open the terminal:\n",
    "\n",
    "- ⌘ (Command) + Space\n",
    "- \"Terminal\"\n",
    "- Enter\n",
    "\n",
    "Notice the autocompletes. Get used to taking shortcuts – don't type the whole word out if you don't have to and **avoid using your mouse** if you can open or use an app with just keyboard shortcuts. It may seem harder now, but when you get used to it, it will save you literally hours of cumulative time."
   ]
  },
  {
   "cell_type": "markdown",
   "metadata": {
    "slideshow": {
     "slide_type": "slide"
    }
   },
   "source": [
    "- You can open multiple tabs by pressing **⌘+T**.\n",
    "- You can close the current tab or window with **⌘+W**. This goes for most applications on a Mac.\n",
    "- If you have a process running, you can quit it by pressing **Ctrl+C** (e.g. your jupyter notebook launched from the command line)."
   ]
  },
  {
   "cell_type": "markdown",
   "metadata": {
    "slideshow": {
     "slide_type": "slide"
    }
   },
   "source": [
    "### Navigating using the command prompt\n",
    "\n",
    "\n",
    "The `ls` command lists files and directories in the current folder.\n",
    "\n",
    "```bash\n",
    "ls\n",
    "```\n",
    "\n",
    "It can also be used to list files located in any directory. For example to list\n",
    "your applications you can type:\n",
    "```bash\n",
    "ls /Applications\n",
    "```\n",
    "\n",
    "If you are not in your home directory, you can still list the content of your applications folder using\n",
    "\n",
    "```bash\n",
    "ls ~/Applications\n",
    "```\n",
    "\n",
    "The tilde `~` character is an alias to your home directory. \n",
    "\n",
    "You can navigate to other directories with the command `cd` for change directory. In whichever directory you are, you can use\n",
    "\n",
    "\n",
    "\n",
    "```bash\n",
    "cd ~/\n",
    "\n",
    "```\n",
    "\n",
    "or even more simply\n",
    "\n",
    "```bash\n",
    "cd\n",
    "```\n",
    "\n",
    "to return home.\n",
    "\n",
    "\n",
    "To move to your Desktop folder, type\n",
    "```bash\n",
    "cd ~/Desktop\n",
    "```\n",
    "\n",
    "If you are in your home directory, \n",
    "```bash\n",
    "cd Desktop\n",
    "```\n",
    "\n",
    "is enough.\n",
    "\n",
    "To return to the directory which contains the current directory (that means go one level up),\n",
    "use\n",
    "\n",
    "```bash\n",
    "cd ..\n",
    "```\n",
    "\n",
    "To stay where you are, use\n",
    "\n",
    "```bash\n",
    "cd .\n",
    "```\n",
    "\n",
    "Trying that out for a bit, you might have lost track of the directory you are currently in. To find out, use the command\n",
    "\n",
    "```bash\n",
    "pwd\n",
    "```\n",
    "\n",
    "for print working directory. The absolute path to your working directory will be displayed.\n"
   ]
  },
  {
   "cell_type": "markdown",
   "metadata": {
    "slideshow": {
     "slide_type": "slide"
    }
   },
   "source": [
    "## Paths \n",
    "\n",
    "Every file or folder in a file system can be read, written, and deleted by referencing its position inside the filesystem.\n",
    "\n",
    "When we talk about the position of a file or a folder in a file system, we refer to its \"path\". There are a couple of different kinds of paths we can use to refer to a file: the **absolute path** and the **relative path**.\n",
    "\n",
    "**Directory** is an important term that's used interchangeably with **folder**. Though they are not exactly the same thing, when we say \"navigate to your project directory\" think of this as \"navigate to your project folder\". Or even \"cd into your project folder\".  Here's a little more information:\n",
    "\n"
   ]
  },
  {
   "cell_type": "markdown",
   "metadata": {
    "slideshow": {
     "slide_type": "slide"
    }
   },
   "source": [
    "### What is an absolute path?\n",
    "\n",
    "An absolute path is defined as the **specific location of a file or folder from the root directory**, typically shown as `/`. The root directory is the starting point from which all other folders are defined and is not normally the same as your **Home** directory, which is normally found at `/Users/[Your Username]`.\n"
   ]
  },
  {
   "cell_type": "markdown",
   "metadata": {
    "slideshow": {
     "slide_type": "slide"
    }
   },
   "source": [
    "### Working with unix commands and file paths\n",
    "\n",
    "Typing `cd` - a command for \"change directory\" with no parameters takes us to our home directory.\n",
    "\n",
    "```bash\n",
    "cd\n",
    "```\n",
    "\n",
    "If we type in `pwd` - a command for \"print working directory\" from that folder, we can see where we are in relation to the root directory. The `pwd` command will always give you the absolute path of your current location.\n",
    "\n",
    "**An example of absolute path**:\n",
    "\n",
    "```bash\n",
    "cd /Users/Lucy/Desktop/a/b/c\n",
    "```\n",
    "\n",
    "Notice, this path starts from `/` directory which is a root directory for every Linux/Unix machine.\n"
   ]
  },
  {
   "cell_type": "markdown",
   "metadata": {
    "slideshow": {
     "slide_type": "slide"
    }
   },
   "source": [
    "### What is a relative path?\n",
    "\n",
    "A relative path is a reference to a file or folder **relative** to the current position, or the present working directory (pwd). If we are in the folder `/a/b/` and we want to open the file that has the absolute path `/a/b/c/file.txt`, we can just type:\n",
    "\n",
    "```bash\n",
    "cd c\n",
    "```\n",
    "\n",
    "or\n",
    "\n",
    "```bash\n",
    "cd ./c\n",
    "```\n",
    "\n",
    "At any time, we can also use the absolute path, by adding a slash to the beginning of the path. The absolute path is the same for a file or a folder regardless of the current working directory, but relative paths are different, depending on what directory we are in.  Directory structures are laid out like `directory/subdirectory/subsubdirectory`.\n",
    "\n",
    "**Check:**  When writing code would you use absolute path or relative path to reference another file?\n"
   ]
  },
  {
   "cell_type": "markdown",
   "metadata": {
    "slideshow": {
     "slide_type": "slide"
    }
   },
   "source": [
    "## Creating and deleting a file\n",
    "\n",
    "\n",
    "\n",
    "To create a new file\n",
    "```bash\n",
    "touch file1\n",
    "```\n",
    "\n",
    "> **Warning:** Be extremely careful with file removal. You will not be asked for confirmation and you cannot undo it.\n",
    "\n",
    "To remove a file\n",
    "```bash\n",
    "rm file1\n",
    "```"
   ]
  },
  {
   "cell_type": "markdown",
   "metadata": {
    "slideshow": {
     "slide_type": "slide"
    }
   },
   "source": [
    "## Creating and deleting a directory\n",
    "\n",
    "To make a new directory\n",
    "\n",
    "```bash\n",
    "mkdir folder\n",
    "```\n",
    "\n",
    "To remove a directory/folder, we\n",
    "need to add a **flag** to the `rm` command:\n",
    "\n",
    "> **Warning:** Be extremely careful with file removal. You will not be asked for confirmation and you cannot undo it.\n",
    "\n",
    "```bash\n",
    "rm -r folder/\n",
    "```\n",
    "\n",
    "The **-r** flag stands for \"recursive\". It is telling the remove command to get rid of the folder and anything within the folder at any \"depth\". Even if a folder is empty, the OS requires the recursive flag for deleting it."
   ]
  },
  {
   "cell_type": "markdown",
   "metadata": {},
   "source": [
    "## Viewing files\n",
    "\n",
    "There are a number of tools available to read the content of a file.\n",
    "\n",
    "`more` - Useful for reading large files as it does not load the entire file for viewing. Will view a file from the start and work down.\n",
    "```bash\n",
    "more file.txt\n",
    "```\n",
    "`head` - Will read by default the first 10 lines of a file. By passing in a parameter a different number of lines can be read.\n",
    "```bash\n",
    "head -10 file.txt\n",
    "```\n",
    "`tail` - Same as head from the bottom of the file\n",
    "\n",
    "```bash\n",
    "tail file.txt\n",
    "```\n",
    "\n",
    "\n",
    "You can simply print out the content of a file with the command `cat`:\n",
    "\n",
    "```bash\n",
    "cat file.txt\n",
    "```\n",
    "\n",
    "If a default editor is set for your file format, you can also open the file with \n",
    "\n",
    "```bash\n",
    "open file.txt\n",
    "```"
   ]
  },
  {
   "cell_type": "markdown",
   "metadata": {},
   "source": [
    "### Ubiquitous vim\n",
    "\n",
    "Vim is a simple command line text editor that can be used to create and view files. The following command will create a new file. \n",
    "\n",
    "```\n",
    "vim test.txt\n",
    "```\n",
    "\n",
    "- i - change to insert more for adding text to the file\n",
    "- esc - the escape button will exit write mode and allow access to command mode\n",
    "- :w - In command mode (:w) will write text to file\n",
    "- :q - In command mode (:q) will quit a file\n",
    "- :q! - Will quit a file without saving\n",
    "- :wq - This will save and quit the file\n",
    "\n",
    "[Basic vim commands](https://coderwall.com/p/adv71w/basic-vim-commands-for-getting-started)"
   ]
  },
  {
   "cell_type": "markdown",
   "metadata": {
    "slideshow": {
     "slide_type": "slide"
    }
   },
   "source": [
    "## Move and copy\n",
    "\n",
    "Files can be moved, copied, or renamed using the mv or cp command. The syntax for both commands is mv (or cp) <source> <target>.\n",
    " - for copy \n",
    "```bash\n",
    "touch myfile.txt\n",
    "cp myfile.txt myfile2.text\n",
    "```\n",
    " - for move\n",
    "    \n",
    "     - renaming a file\n",
    "     \n",
    " ```bash\n",
    " mv myfile2.text myfile2.txt\n",
    " ```\n",
    "    \n",
    "    - move a file into another directory and keep the same name\n",
    "  \n",
    "  ```bash\n",
    " mkdir folder \n",
    " mv myfile2.txt folder/.\n",
    " ```  "
   ]
  },
  {
   "cell_type": "markdown",
   "metadata": {
    "slideshow": {
     "slide_type": "slide"
    }
   },
   "source": [
    "### Using wildcards in the command prompt\n",
    "\n",
    "The wildcard symbol `*` is useful for using commands to operate on multiple\n",
    "files. To give an example first create a folder on your Desktop and add some\n",
    "files.\n",
    "```bash\n",
    "mkdir ~/Desktop/example_folder\n",
    "cd ~/Desktop/example_folder\n",
    "touch cat.txt\n",
    "touch dog.txt\n",
    "touch barking_dog.txt\n",
    "touch bird.txt\n",
    "touch fish.txt\n",
    "```\n",
    "\n",
    "You can use the wildcard `*` to then operate on subsets of files. List any\n",
    "file with \"i\" in the filename, for example:\n",
    "```bash\n",
    "ls *i*\n",
    "```\n",
    "\n",
    "> **Warning:** Before trying the next command, make sure that you are in the example folder!\n",
    "\n",
    "Or remove any file with \"dog\":\n",
    "```bash\n",
    "rm dog.*\n",
    "ls\n",
    "```\n",
    "\n",
    "**Check:**  What's a quick way to get back to your home directory?"
   ]
  },
  {
   "cell_type": "markdown",
   "metadata": {
    "slideshow": {
     "slide_type": "slide"
    }
   },
   "source": [
    "## Get Some Help, man!\n",
    "\n",
    "The **man pages** are a user manual that is by default built into most Linux distributions (i.e., versions) and most other Unix-like operating systems during installation.\n",
    "\n",
    "For commands which are not specific to the mac command line, man will sometimes be empty. In those situations, you can usually get the help page by using the **'-h' argument**."
   ]
  },
  {
   "cell_type": "markdown",
   "metadata": {
    "slideshow": {
     "slide_type": "slide"
    }
   },
   "source": [
    "## A file search can be done using the command `find`\n",
    "\n",
    "The find command-line utility **recursively descends the directory tree** for each path listed, evaluating an expression in terms of each file in the tree. It is similar to spotlight but in your cli.\n",
    "\n",
    "The following returns the csv files in the current directory:\n",
    "```bash\n",
    "find ./ -name \"*.csv\"\n",
    "```\n",
    "\n",
    "find [path] path -name [expression]\n",
    "\n",
    "*Print out a list of all the files whose names end in .csv*\n",
    "\n",
    "**Note:** Type 'man find' to explore the different options and attributes."
   ]
  },
  {
   "cell_type": "markdown",
   "metadata": {
    "slideshow": {
     "slide_type": "slide"
    }
   },
   "source": [
    "## Grep\n",
    "Grep is a command-line utility for searching plain-text data sets for lines matching a regular expression.\n",
    "\n",
    "Grep searches files specified as arguments, or, if missing, the program's standard input. By default, it reports matching lines on standard output, but specific modes of operation may be chosen with command line options.\n",
    "\n",
    "For example:\n",
    "\n",
    "```bash\n",
    "grep \"student\" studentlist.txt\n",
    "```\n",
    "\n",
    "You can also specify multiple files at the same time using a wildcard *\n",
    "\n",
    "```bash\n",
    "grep \"student\" *.txt\n",
    "```\n",
    "\n",
    "Or,\n",
    "\n",
    "```bash\n",
    "grep \"student\" studentlist.*\n",
    "```\n",
    "\n",
    "Regular expressions can also be used to specify patterns to look out for.\n",
    "\n",
    "```bash\n",
    "grep \"^st.udent\" studentlist.txt\n",
    "```\n",
    "For more regular expression syntax, you can look into this [cheat sheet](http://www.rexegg.com/regex-quickstart.html). We will come back to regular expressions once we are going to work more with text data.\n",
    "\n"
   ]
  },
  {
   "cell_type": "markdown",
   "metadata": {
    "slideshow": {
     "slide_type": "slide"
    }
   },
   "source": [
    "## The .bash_profile\n",
    "\n",
    "There is a hidden file in your Mac’s user directory named .bash_profile. This file is loaded before Terminal loads your shell environment and **contains all the startup configuration** and preferences for your command line interface. Within it you can change your terminal prompt, change the colors of text, add aliases to functions you use all the time, and so much more.\n",
    "\n",
    "This file is often called a 'dot file' because the `.` at the beginning of it’s name makes it invisible in the Mac Finder. You can view all invisible files in the Terminal by typing `ls -al` in any directory."
   ]
  },
  {
   "cell_type": "markdown",
   "metadata": {
    "slideshow": {
     "slide_type": "slide"
    }
   },
   "source": [
    "## Conclusion\n",
    "We learned about the CLI commands mkdir, touch, cd, pwd, and ls. We also about absolute and relative paths.\n",
    "Take a breather and then keep practicing. The more you practice the more comfortable you'll get!"
   ]
  },
  {
   "cell_type": "markdown",
   "metadata": {
    "slideshow": {
     "slide_type": "slide"
    }
   },
   "source": [
    "## Exercise (optional): The Command Line Murders\n",
    "\n",
    "Follow the instructions from the following repo: https://github.com/veltman/clmystery"
   ]
  }
 ],
 "metadata": {
  "kernelspec": {
   "display_name": "Python 3",
   "language": "python",
   "name": "python3"
  },
  "language_info": {
   "codemirror_mode": {
    "name": "ipython",
    "version": 3
   },
   "file_extension": ".py",
   "mimetype": "text/x-python",
   "name": "python",
   "nbconvert_exporter": "python",
   "pygments_lexer": "ipython3",
   "version": "3.7.3"
  },
  "toc": {
   "base_numbering": 1,
   "nav_menu": {},
   "number_sections": false,
   "sideBar": true,
   "skip_h1_title": false,
   "title_cell": "Lesson Guide",
   "title_sidebar": "Contents",
   "toc_cell": true,
   "toc_position": {},
   "toc_section_display": true,
   "toc_window_display": false
  },
  "varInspector": {
   "cols": {
    "lenName": 16,
    "lenType": 16,
    "lenVar": 40
   },
   "kernels_config": {
    "python": {
     "delete_cmd_postfix": "",
     "delete_cmd_prefix": "del ",
     "library": "var_list.py",
     "varRefreshCmd": "print(var_dic_list())"
    },
    "r": {
     "delete_cmd_postfix": ") ",
     "delete_cmd_prefix": "rm(",
     "library": "var_list.r",
     "varRefreshCmd": "cat(var_dic_list()) "
    }
   },
   "types_to_exclude": [
    "module",
    "function",
    "builtin_function_or_method",
    "instance",
    "_Feature"
   ],
   "window_display": false
  }
 },
 "nbformat": 4,
 "nbformat_minor": 2
}
