{
 "cells": [
  {
   "cell_type": "markdown",
   "metadata": {},
   "source": [
    "<img src=\"http://imgur.com/1ZcRyrc.png\" style=\"float: left; margin: 20px; height: 55px\">\n",
    "\n",
    "# Image Compression Using PCA\n",
    "\n",
    "---"
   ]
  },
  {
   "cell_type": "markdown",
   "metadata": {},
   "source": [
    "In this lab we are going to read in the Olivetti faces dataset, a set of photographs of faces. \n",
    "\n",
    "- First we are going to process and depict the images.\n",
    "- Then we are going to use principal component analysis on the images to extract the most important parts.\n",
    "- We will compare the images with reduced amount of information with the original ones."
   ]
  },
  {
   "cell_type": "code",
   "execution_count": 1,
   "metadata": {},
   "outputs": [],
   "source": [
    "import pandas as pd\n",
    "import numpy as np\n",
    "import matplotlib.pyplot as plt\n",
    "import seaborn as sns\n",
    "from sklearn.preprocessing import MinMaxScaler, StandardScaler\n",
    "\n",
    " \n",
    "plt.style.use('ggplot')\n",
    "%config InlineBackend.figure_format = 'retina'\n",
    "%matplotlib inline\n",
    "\n",
    "np.set_printoptions(precision=4)"
   ]
  },
  {
   "cell_type": "markdown",
   "metadata": {},
   "source": [
    "## Faces Dataset\n",
    "---\n",
    "\n",
    "Let's load in the Olivetti faces dataset from sklearn."
   ]
  },
  {
   "cell_type": "code",
   "execution_count": 2,
   "metadata": {},
   "outputs": [
    {
     "name": "stdout",
     "output_type": "stream",
     "text": [
      ".. _olivetti_faces_dataset:\n",
      "\n",
      "The Olivetti faces dataset\n",
      "--------------------------\n",
      "\n",
      "`This dataset contains a set of face images`_ taken between April 1992 and \n",
      "April 1994 at AT&T Laboratories Cambridge. The\n",
      ":func:`sklearn.datasets.fetch_olivetti_faces` function is the data\n",
      "fetching / caching function that downloads the data\n",
      "archive from AT&T.\n",
      "\n",
      ".. _This dataset contains a set of face images: http://www.cl.cam.ac.uk/research/dtg/attarchive/facedatabase.html\n",
      "\n",
      "As described on the original website:\n",
      "\n",
      "    There are ten different images of each of 40 distinct subjects. For some\n",
      "    subjects, the images were taken at different times, varying the lighting,\n",
      "    facial expressions (open / closed eyes, smiling / not smiling) and facial\n",
      "    details (glasses / no glasses). All the images were taken against a dark\n",
      "    homogeneous background with the subjects in an upright, frontal position \n",
      "    (with tolerance for some side movement).\n",
      "\n",
      "**Data Set Characteristics:**\n",
      "\n",
      "    =================   =====================\n",
      "    Classes                                40\n",
      "    Samples total                         400\n",
      "    Dimensionality                       4096\n",
      "    Features            real, between 0 and 1\n",
      "    =================   =====================\n",
      "\n",
      "The image is quantized to 256 grey levels and stored as unsigned 8-bit \n",
      "integers; the loader will convert these to floating point values on the \n",
      "interval [0, 1], which are easier to work with for many algorithms.\n",
      "\n",
      "The \"target\" for this database is an integer from 0 to 39 indicating the\n",
      "identity of the person pictured; however, with only 10 examples per class, this\n",
      "relatively small dataset is more interesting from an unsupervised or\n",
      "semi-supervised perspective.\n",
      "\n",
      "The original dataset consisted of 92 x 112, while the version available here\n",
      "consists of 64x64 images.\n",
      "\n",
      "When using these images, please give credit to AT&T Laboratories Cambridge.\n",
      "\n"
     ]
    }
   ],
   "source": [
    "from sklearn.datasets import fetch_olivetti_faces\n",
    "dataset = fetch_olivetti_faces()\n",
    "print(dataset.DESCR)"
   ]
  },
  {
   "cell_type": "markdown",
   "metadata": {},
   "source": [
    "### Load the Dataset\n",
    "\n",
    "\n",
    "- There are 400 images of faces. (i.e. rows of data)\n",
    "- Each image is 64x64 pixels, i.e. a total of 4096 pixels (i.e. features)"
   ]
  },
  {
   "cell_type": "code",
   "execution_count": 3,
   "metadata": {},
   "outputs": [
    {
     "data": {
      "text/plain": [
       "(400, 4096)"
      ]
     },
     "execution_count": 3,
     "metadata": {},
     "output_type": "execute_result"
    }
   ],
   "source": [
    "dataset = fetch_olivetti_faces()\n",
    "faces = dataset.data\n",
    "faces.shape"
   ]
  },
  {
   "cell_type": "code",
   "execution_count": 4,
   "metadata": {},
   "outputs": [],
   "source": [
    "#dataset.target"
   ]
  },
  {
   "cell_type": "markdown",
   "metadata": {},
   "source": [
    "#### Let's look at a single observation"
   ]
  },
  {
   "cell_type": "code",
   "execution_count": 5,
   "metadata": {},
   "outputs": [
    {
     "name": "stdout",
     "output_type": "stream",
     "text": [
      "(4096,)\n",
      "[0.5413 0.5868 0.6405 ... 0.095  0.1116 0.1116]\n"
     ]
    }
   ],
   "source": [
    "face10 = faces[10]\n",
    "print((face10.shape))\n",
    "\n",
    "# This is a grayscale image, so each pixel is from 0 (black) to 1 (white)\n",
    "print(face10)"
   ]
  },
  {
   "cell_type": "markdown",
   "metadata": {},
   "source": [
    "#### Set up a couple of functions, one to process an image (reshape it to a 2D matrix) and the other to actually plot the image matrix."
   ]
  },
  {
   "cell_type": "code",
   "execution_count": 6,
   "metadata": {},
   "outputs": [],
   "source": [
    "def plot_image_matrix(face_image):\n",
    "    \"\"\" \n",
    "    Plots a grayscale 2-D ndarray `face_image`. \n",
    "        Pixel values can have any scale.\n",
    "    \"\"\"\n",
    "    fig, ax = plt.subplots(figsize=(5,5))\n",
    "    \n",
    "    # max value (in magnitude)\n",
    "    max_pixel_value = max(face_image.max(), -face_image.min())\n",
    "    \n",
    "    ax.imshow(face_image, cmap=plt.cm.gray,\n",
    "              interpolation='nearest', \n",
    "              vmin=-max_pixel_value,\n",
    "              vmax=max_pixel_value)\n",
    "    \n",
    "    ax.set_xticks(())\n",
    "    ax.set_yticks(())\n",
    "\n",
    "def process_image(image):\n",
    "    \"\"\" \n",
    "    Standardize a 1-D 4096-element ndarray `image` to end up with:\n",
    "      - A new 2-D 64x64-element ndarray, with\n",
    "      - Pixel values between (-0.5, 0.5).\n",
    "    \"\"\"\n",
    "\n",
    "    # Min-Max scaling to end up with values between (-0.5, 0.5)\n",
    "    image = image.reshape(-1,1)\n",
    "    scaler = MinMaxScaler(feature_range=(-0.5,0.5))\n",
    "    image = scaler.fit_transform(image)\n",
    "\n",
    "    \n",
    "    # Convert the 4096-element `image` to 64x64\n",
    "    image.shape = (64,64)\n",
    "    return image"
   ]
  },
  {
   "cell_type": "code",
   "execution_count": 7,
   "metadata": {},
   "outputs": [
    {
     "name": "stdout",
     "output_type": "stream",
     "text": [
      "(64, 64)\n",
      "[[ 0.0291  0.0825  0.1456 ...  0.034   0.0437  0.0485]\n",
      " [ 0.0437  0.1165  0.165  ...  0.068   0.0777  0.0728]\n",
      " [ 0.0728  0.1602  0.1893 ...  0.0631  0.1019  0.0971]\n",
      " ...\n",
      " [-0.4563 -0.4466 -0.4466 ... -0.5    -0.4709 -0.4806]\n",
      " [-0.4515 -0.4466 -0.4515 ... -0.4951 -0.4757 -0.4806]\n",
      " [-0.4466 -0.4515 -0.4466 ... -0.4951 -0.4757 -0.4757]]\n"
     ]
    }
   ],
   "source": [
    "face10 = process_image(faces[10])\n",
    "print((face10.shape))\n",
    "print(face10)"
   ]
  },
  {
   "cell_type": "code",
   "execution_count": 8,
   "metadata": {},
   "outputs": [],
   "source": [
    "face1 =  process_image(faces[1])"
   ]
  },
  {
   "cell_type": "markdown",
   "metadata": {},
   "source": [
    "Given the image below and the image matrix above:\n",
    "- The top rows are light colored.\n",
    "    - So, the first few rows of numbers are > 0.0\n",
    "- The final rows start dark and end dark. \n",
    "    - So, the last few rows of numbers start and end < 0.0\n",
    "- If you print out the full final row, what would you expect the middle numbers to look like?"
   ]
  },
  {
   "cell_type": "code",
   "execution_count": 9,
   "metadata": {},
   "outputs": [
    {
     "data": {
      "image/png": "[encoded data removed]",
      "text/plain": [
       "<Figure size 360x360 with 1 Axes>"
      ]
     },
     "metadata": {
      "image/png": {
       "height": 289,
       "width": 289
      }
     },
     "output_type": "display_data"
    }
   ],
   "source": [
    "plot_image_matrix(process_image(face10))"
   ]
  },
  {
   "cell_type": "code",
   "execution_count": 10,
   "metadata": {},
   "outputs": [
    {
     "data": {
      "image/png": "[encoded data removed]",
      "text/plain": [
       "<Figure size 360x360 with 1 Axes>"
      ]
     },
     "metadata": {
      "image/png": {
       "height": 289,
       "width": 289
      }
     },
     "output_type": "display_data"
    }
   ],
   "source": [
    "plot_image_matrix(process_image(face1))"
   ]
  },
  {
   "cell_type": "code",
   "execution_count": null,
   "metadata": {},
   "outputs": [],
   "source": []
  },
  {
   "cell_type": "markdown",
   "metadata": {},
   "source": [
    "#### Another picture"
   ]
  },
  {
   "cell_type": "code",
   "execution_count": 11,
   "metadata": {},
   "outputs": [
    {
     "data": {
      "image/png": "[encoded data removed]",
      "text/plain": [
       "<Figure size 360x360 with 1 Axes>"
      ]
     },
     "metadata": {
      "image/png": {
       "height": 289,
       "width": 289
      }
     },
     "output_type": "display_data"
    }
   ],
   "source": [
    "plot_image_matrix(process_image(faces[50]))"
   ]
  },
  {
   "cell_type": "markdown",
   "metadata": {},
   "source": [
    "## PCA on the image"
   ]
  },
  {
   "cell_type": "markdown",
   "metadata": {},
   "source": [
    "#### Take picture number 10 reshaped to 64 times 64 pixels"
   ]
  },
  {
   "cell_type": "code",
   "execution_count": 12,
   "metadata": {},
   "outputs": [
    {
     "data": {
      "text/plain": [
       "array([[ 0.0291,  0.0825,  0.1456, ...,  0.034 ,  0.0437,  0.0485],\n",
       "       [ 0.0437,  0.1165,  0.165 , ...,  0.068 ,  0.0777,  0.0728],\n",
       "       [ 0.0728,  0.1602,  0.1893, ...,  0.0631,  0.1019,  0.0971],\n",
       "       ...,\n",
       "       [-0.4563, -0.4466, -0.4466, ..., -0.5   , -0.4709, -0.4806],\n",
       "       [-0.4515, -0.4466, -0.4515, ..., -0.4951, -0.4757, -0.4806],\n",
       "       [-0.4466, -0.4515, -0.4466, ..., -0.4951, -0.4757, -0.4757]],\n",
       "      dtype=float32)"
      ]
     },
     "execution_count": 12,
     "metadata": {},
     "output_type": "execute_result"
    }
   ],
   "source": [
    "face10"
   ]
  },
  {
   "cell_type": "markdown",
   "metadata": {},
   "source": [
    "#### Transform to principal components\n",
    "\n",
    "Limit the number of components as you find suitable.\n",
    "\n",
    "- Instantiate PCA\n",
    "- Fit and transform the image\n",
    "- Extract the explained variance and the explained variance ratio"
   ]
  },
  {
   "cell_type": "code",
   "execution_count": 13,
   "metadata": {},
   "outputs": [],
   "source": [
    "from sklearn.decomposition import PCA"
   ]
  },
  {
   "cell_type": "code",
   "execution_count": 14,
   "metadata": {},
   "outputs": [
    {
     "data": {
      "text/plain": [
       "PCA(copy=True, iterated_power='auto', n_components=64, random_state=None,\n",
       "  svd_solver='auto', tol=0.0, whiten=False)"
      ]
     },
     "execution_count": 14,
     "metadata": {},
     "output_type": "execute_result"
    }
   ],
   "source": [
    "pca = PCA(n_components=64)\n",
    "pca.fit(face10)"
   ]
  },
  {
   "cell_type": "code",
   "execution_count": 15,
   "metadata": {},
   "outputs": [
    {
     "name": "stdout",
     "output_type": "stream",
     "text": [
      "Number of principal components:\t 64\n",
      "Explained variance:\t\t [0.411 0.323 0.151 0.071 0.051 0.043 0.033 0.028 0.025 0.022 0.016 0.012\n",
      " 0.01  0.008 0.006 0.005 0.005 0.004 0.003 0.003 0.003 0.002 0.002 0.002\n",
      " 0.001 0.001 0.001 0.001 0.001 0.001 0.    0.    0.    0.    0.    0.\n",
      " 0.    0.    0.    0.    0.    0.    0.    0.    0.    0.    0.    0.\n",
      " 0.    0.    0.    0.    0.    0.    0.    0.    0.    0.    0.    0.\n",
      " 0.    0.    0.    0.   ]\n",
      "Explained variance ratio:\t [0.33  0.259 0.121 0.057 0.041 0.035 0.027 0.022 0.02  0.018 0.013 0.009\n",
      " 0.008 0.006 0.005 0.004 0.004 0.003 0.003 0.002 0.002 0.002 0.001 0.001\n",
      " 0.001 0.001 0.001 0.001 0.    0.    0.    0.    0.    0.    0.    0.\n",
      " 0.    0.    0.    0.    0.    0.    0.    0.    0.    0.    0.    0.\n",
      " 0.    0.    0.    0.    0.    0.    0.    0.    0.    0.    0.    0.\n",
      " 0.    0.    0.    0.   ]\n"
     ]
    }
   ],
   "source": [
    "print(\"Number of principal components:\\t\", pca.n_components_)\n",
    "print(\"Explained variance:\\t\\t\", np.round(pca.explained_variance_, 3))\n",
    "print(\"Explained variance ratio:\\t\", np.round(pca.explained_variance_ratio_, 3))\n"
   ]
  },
  {
   "cell_type": "code",
   "execution_count": 16,
   "metadata": {},
   "outputs": [
    {
     "data": {
      "text/html": [
       "<div>\n",
       "<style scoped>\n",
       "    .dataframe tbody tr th:only-of-type {\n",
       "        vertical-align: middle;\n",
       "    }\n",
       "\n",
       "    .dataframe tbody tr th {\n",
       "        vertical-align: top;\n",
       "    }\n",
       "\n",
       "    .dataframe thead th {\n",
       "        text-align: right;\n",
       "    }\n",
       "</style>\n",
       "<table border=\"1\" class=\"dataframe\">\n",
       "  <thead>\n",
       "    <tr style=\"text-align: right;\">\n",
       "      <th></th>\n",
       "      <th>PC_1</th>\n",
       "      <th>PC_2</th>\n",
       "      <th>PC_3</th>\n",
       "      <th>PC_4</th>\n",
       "      <th>PC_5</th>\n",
       "      <th>PC_6</th>\n",
       "      <th>PC_7</th>\n",
       "      <th>PC_8</th>\n",
       "      <th>PC_9</th>\n",
       "      <th>PC_10</th>\n",
       "      <th>...</th>\n",
       "      <th>PC_55</th>\n",
       "      <th>PC_56</th>\n",
       "      <th>PC_57</th>\n",
       "      <th>PC_58</th>\n",
       "      <th>PC_59</th>\n",
       "      <th>PC_60</th>\n",
       "      <th>PC_61</th>\n",
       "      <th>PC_62</th>\n",
       "      <th>PC_63</th>\n",
       "      <th>PC_64</th>\n",
       "    </tr>\n",
       "  </thead>\n",
       "  <tbody>\n",
       "    <tr>\n",
       "      <th>0</th>\n",
       "      <td>1.227260</td>\n",
       "      <td>0.449731</td>\n",
       "      <td>-0.122966</td>\n",
       "      <td>-0.066308</td>\n",
       "      <td>0.018417</td>\n",
       "      <td>0.074070</td>\n",
       "      <td>0.000233</td>\n",
       "      <td>0.143218</td>\n",
       "      <td>-0.064909</td>\n",
       "      <td>-0.189661</td>\n",
       "      <td>...</td>\n",
       "      <td>-0.003689</td>\n",
       "      <td>0.003551</td>\n",
       "      <td>-0.000683</td>\n",
       "      <td>-0.001703</td>\n",
       "      <td>-0.003088</td>\n",
       "      <td>-0.000416</td>\n",
       "      <td>0.000301</td>\n",
       "      <td>-0.000363</td>\n",
       "      <td>-0.000155</td>\n",
       "      <td>1.509266e-07</td>\n",
       "    </tr>\n",
       "    <tr>\n",
       "      <th>1</th>\n",
       "      <td>1.335463</td>\n",
       "      <td>0.480182</td>\n",
       "      <td>-0.104981</td>\n",
       "      <td>-0.076091</td>\n",
       "      <td>0.064460</td>\n",
       "      <td>0.093164</td>\n",
       "      <td>-0.004487</td>\n",
       "      <td>0.100213</td>\n",
       "      <td>-0.066949</td>\n",
       "      <td>-0.203203</td>\n",
       "      <td>...</td>\n",
       "      <td>0.004067</td>\n",
       "      <td>-0.001092</td>\n",
       "      <td>0.001176</td>\n",
       "      <td>0.000557</td>\n",
       "      <td>0.004995</td>\n",
       "      <td>0.000472</td>\n",
       "      <td>-0.001110</td>\n",
       "      <td>0.000274</td>\n",
       "      <td>0.000082</td>\n",
       "      <td>1.509694e-07</td>\n",
       "    </tr>\n",
       "    <tr>\n",
       "      <th>2</th>\n",
       "      <td>1.391818</td>\n",
       "      <td>0.471932</td>\n",
       "      <td>-0.064743</td>\n",
       "      <td>-0.086908</td>\n",
       "      <td>0.073871</td>\n",
       "      <td>0.118992</td>\n",
       "      <td>-0.011925</td>\n",
       "      <td>0.081298</td>\n",
       "      <td>-0.029388</td>\n",
       "      <td>-0.211142</td>\n",
       "      <td>...</td>\n",
       "      <td>-0.005742</td>\n",
       "      <td>-0.004241</td>\n",
       "      <td>0.000592</td>\n",
       "      <td>0.001682</td>\n",
       "      <td>-0.002294</td>\n",
       "      <td>0.001116</td>\n",
       "      <td>0.000883</td>\n",
       "      <td>-0.000685</td>\n",
       "      <td>0.000030</td>\n",
       "      <td>1.509595e-07</td>\n",
       "    </tr>\n",
       "    <tr>\n",
       "      <th>3</th>\n",
       "      <td>1.301066</td>\n",
       "      <td>0.353330</td>\n",
       "      <td>-0.058720</td>\n",
       "      <td>-0.020069</td>\n",
       "      <td>0.053735</td>\n",
       "      <td>0.161770</td>\n",
       "      <td>-0.041888</td>\n",
       "      <td>0.098206</td>\n",
       "      <td>-0.022832</td>\n",
       "      <td>-0.163795</td>\n",
       "      <td>...</td>\n",
       "      <td>0.004373</td>\n",
       "      <td>0.004238</td>\n",
       "      <td>-0.000372</td>\n",
       "      <td>0.000200</td>\n",
       "      <td>0.000309</td>\n",
       "      <td>-0.002355</td>\n",
       "      <td>-0.000947</td>\n",
       "      <td>0.001080</td>\n",
       "      <td>0.000027</td>\n",
       "      <td>1.509594e-07</td>\n",
       "    </tr>\n",
       "    <tr>\n",
       "      <th>4</th>\n",
       "      <td>1.036608</td>\n",
       "      <td>0.080398</td>\n",
       "      <td>0.041709</td>\n",
       "      <td>0.128261</td>\n",
       "      <td>0.087189</td>\n",
       "      <td>0.151164</td>\n",
       "      <td>-0.074911</td>\n",
       "      <td>0.069259</td>\n",
       "      <td>-0.103372</td>\n",
       "      <td>-0.083815</td>\n",
       "      <td>...</td>\n",
       "      <td>-0.001745</td>\n",
       "      <td>-0.004819</td>\n",
       "      <td>0.000338</td>\n",
       "      <td>-0.001343</td>\n",
       "      <td>0.001813</td>\n",
       "      <td>0.001033</td>\n",
       "      <td>0.000981</td>\n",
       "      <td>-0.000510</td>\n",
       "      <td>-0.000085</td>\n",
       "      <td>1.509395e-07</td>\n",
       "    </tr>\n",
       "  </tbody>\n",
       "</table>\n",
       "<p>5 rows × 64 columns</p>\n",
       "</div>"
      ],
      "text/plain": [
       "       PC_1      PC_2      PC_3      PC_4      PC_5      PC_6      PC_7  \\\n",
       "0  1.227260  0.449731 -0.122966 -0.066308  0.018417  0.074070  0.000233   \n",
       "1  1.335463  0.480182 -0.104981 -0.076091  0.064460  0.093164 -0.004487   \n",
       "2  1.391818  0.471932 -0.064743 -0.086908  0.073871  0.118992 -0.011925   \n",
       "3  1.301066  0.353330 -0.058720 -0.020069  0.053735  0.161770 -0.041888   \n",
       "4  1.036608  0.080398  0.041709  0.128261  0.087189  0.151164 -0.074911   \n",
       "\n",
       "       PC_8      PC_9     PC_10  ...     PC_55     PC_56     PC_57     PC_58  \\\n",
       "0  0.143218 -0.064909 -0.189661  ... -0.003689  0.003551 -0.000683 -0.001703   \n",
       "1  0.100213 -0.066949 -0.203203  ...  0.004067 -0.001092  0.001176  0.000557   \n",
       "2  0.081298 -0.029388 -0.211142  ... -0.005742 -0.004241  0.000592  0.001682   \n",
       "3  0.098206 -0.022832 -0.163795  ...  0.004373  0.004238 -0.000372  0.000200   \n",
       "4  0.069259 -0.103372 -0.083815  ... -0.001745 -0.004819  0.000338 -0.001343   \n",
       "\n",
       "      PC_59     PC_60     PC_61     PC_62     PC_63         PC_64  \n",
       "0 -0.003088 -0.000416  0.000301 -0.000363 -0.000155  1.509266e-07  \n",
       "1  0.004995  0.000472 -0.001110  0.000274  0.000082  1.509694e-07  \n",
       "2 -0.002294  0.001116  0.000883 -0.000685  0.000030  1.509595e-07  \n",
       "3  0.000309 -0.002355 -0.000947  0.001080  0.000027  1.509594e-07  \n",
       "4  0.001813  0.001033  0.000981 -0.000510 -0.000085  1.509395e-07  \n",
       "\n",
       "[5 rows x 64 columns]"
      ]
     },
     "execution_count": 16,
     "metadata": {},
     "output_type": "execute_result"
    }
   ],
   "source": [
    "cols = ['PC_{}'.format(i) for i in range(1, pca.n_components+1)]\n",
    "X_pca = pd.DataFrame(pca.fit_transform(face10), columns=cols)\n",
    "X_pca.head()"
   ]
  },
  {
   "cell_type": "code",
   "execution_count": null,
   "metadata": {},
   "outputs": [],
   "source": []
  },
  {
   "cell_type": "markdown",
   "metadata": {},
   "source": [
    "#### Produce a scree plot\n",
    "\n",
    "Plot the explained variance and the explained variance ratio versus the number of principal components."
   ]
  },
  {
   "cell_type": "code",
   "execution_count": 17,
   "metadata": {},
   "outputs": [
    {
     "data": {
      "image/png": "[encoded data removed]",
      "text/plain": [
       "<Figure size 576x432 with 1 Axes>"
      ]
     },
     "metadata": {
      "image/png": {
       "height": 390,
       "width": 499
      },
      "needs_background": "light"
     },
     "output_type": "display_data"
    }
   ],
   "source": [
    "fig, ax = plt.subplots(figsize=(8, 6))\n",
    "\n",
    "face10 = list(range(1, pca.n_components_+1))\n",
    "\n",
    "ax.plot(face10, pca.explained_variance_ratio_, lw=2)\n",
    "ax.scatter(face10, pca.explained_variance_ratio_, s=100)\n",
    "ax.plot(face10, np.cumsum(pca.explained_variance_ratio_), lw=2)\n",
    "ax.scatter(face10, np.cumsum(pca.explained_variance_ratio_), s=100)\n",
    "ax.set_title('data: explained variance of components')\n",
    "ax.set_xlabel('principal component')\n",
    "ax.set_ylabel('explained variance')\n",
    "plt.show()"
   ]
  },
  {
   "cell_type": "markdown",
   "metadata": {},
   "source": [
    "#### Plot the transformed image in the (reduced) principal component coordinates "
   ]
  },
  {
   "cell_type": "code",
   "execution_count": 18,
   "metadata": {},
   "outputs": [
    {
     "data": {
      "image/png": "[encoded data removed]",
      "text/plain": [
       "<Figure size 360x360 with 1 Axes>"
      ]
     },
     "metadata": {
      "image/png": {
       "height": 289,
       "width": 289
      }
     },
     "output_type": "display_data"
    }
   ],
   "source": [
    "plot_image_matrix(process_image(pca.components_.T))"
   ]
  },
  {
   "cell_type": "markdown",
   "metadata": {},
   "source": [
    "#### Plot the matrix obtained with `pca.components` as an image"
   ]
  },
  {
   "cell_type": "code",
   "execution_count": null,
   "metadata": {},
   "outputs": [],
   "source": [
    "plot_image_matrix(process_image(pca.components_.T))"
   ]
  },
  {
   "cell_type": "markdown",
   "metadata": {},
   "source": [
    "#### Apply the inverse transform to the transformed image. "
   ]
  },
  {
   "cell_type": "code",
   "execution_count": 28,
   "metadata": {},
   "outputs": [
    {
     "ename": "TypeError",
     "evalue": "float() argument must be a string or a number, not 'PCA'",
     "output_type": "error",
     "traceback": [
      "\u001b[0;31m---------------------------------------------------------------------------\u001b[0m",
      "\u001b[0;31mTypeError\u001b[0m                                 Traceback (most recent call last)",
      "\u001b[0;32m<ipython-input-28-da5ad888803f>\u001b[0m in \u001b[0;36m<module>\u001b[0;34m\u001b[0m\n\u001b[0;32m----> 1\u001b[0;31m \u001b[0mprint\u001b[0m\u001b[0;34m(\u001b[0m\u001b[0mpca\u001b[0m\u001b[0;34m.\u001b[0m\u001b[0minverse_transform\u001b[0m\u001b[0;34m(\u001b[0m\u001b[0mpca\u001b[0m\u001b[0;34m.\u001b[0m\u001b[0mfit_transform\u001b[0m\u001b[0;34m(\u001b[0m\u001b[0mpca\u001b[0m\u001b[0;34m)\u001b[0m\u001b[0;34m)\u001b[0m\u001b[0;34m)\u001b[0m\u001b[0;34m\u001b[0m\u001b[0;34m\u001b[0m\u001b[0m\n\u001b[0m",
      "\u001b[0;32m/anaconda3/lib/python3.7/site-packages/sklearn/decomposition/pca.py\u001b[0m in \u001b[0;36mfit_transform\u001b[0;34m(self, X, y)\u001b[0m\n\u001b[1;32m    357\u001b[0m \u001b[0;34m\u001b[0m\u001b[0m\n\u001b[1;32m    358\u001b[0m         \"\"\"\n\u001b[0;32m--> 359\u001b[0;31m         \u001b[0mU\u001b[0m\u001b[0;34m,\u001b[0m \u001b[0mS\u001b[0m\u001b[0;34m,\u001b[0m \u001b[0mV\u001b[0m \u001b[0;34m=\u001b[0m \u001b[0mself\u001b[0m\u001b[0;34m.\u001b[0m\u001b[0m_fit\u001b[0m\u001b[0;34m(\u001b[0m\u001b[0mX\u001b[0m\u001b[0;34m)\u001b[0m\u001b[0;34m\u001b[0m\u001b[0;34m\u001b[0m\u001b[0m\n\u001b[0m\u001b[1;32m    360\u001b[0m         \u001b[0mU\u001b[0m \u001b[0;34m=\u001b[0m \u001b[0mU\u001b[0m\u001b[0;34m[\u001b[0m\u001b[0;34m:\u001b[0m\u001b[0;34m,\u001b[0m \u001b[0;34m:\u001b[0m\u001b[0mself\u001b[0m\u001b[0;34m.\u001b[0m\u001b[0mn_components_\u001b[0m\u001b[0;34m]\u001b[0m\u001b[0;34m\u001b[0m\u001b[0;34m\u001b[0m\u001b[0m\n\u001b[1;32m    361\u001b[0m \u001b[0;34m\u001b[0m\u001b[0m\n",
      "\u001b[0;32m/anaconda3/lib/python3.7/site-packages/sklearn/decomposition/pca.py\u001b[0m in \u001b[0;36m_fit\u001b[0;34m(self, X)\u001b[0m\n\u001b[1;32m    379\u001b[0m \u001b[0;34m\u001b[0m\u001b[0m\n\u001b[1;32m    380\u001b[0m         X = check_array(X, dtype=[np.float64, np.float32], ensure_2d=True,\n\u001b[0;32m--> 381\u001b[0;31m                         copy=self.copy)\n\u001b[0m\u001b[1;32m    382\u001b[0m \u001b[0;34m\u001b[0m\u001b[0m\n\u001b[1;32m    383\u001b[0m         \u001b[0;31m# Handle n_components==None\u001b[0m\u001b[0;34m\u001b[0m\u001b[0;34m\u001b[0m\u001b[0;34m\u001b[0m\u001b[0m\n",
      "\u001b[0;32m/anaconda3/lib/python3.7/site-packages/sklearn/utils/validation.py\u001b[0m in \u001b[0;36mcheck_array\u001b[0;34m(array, accept_sparse, accept_large_sparse, dtype, order, copy, force_all_finite, ensure_2d, allow_nd, ensure_min_samples, ensure_min_features, warn_on_dtype, estimator)\u001b[0m\n\u001b[1;32m    525\u001b[0m             \u001b[0;32mtry\u001b[0m\u001b[0;34m:\u001b[0m\u001b[0;34m\u001b[0m\u001b[0;34m\u001b[0m\u001b[0m\n\u001b[1;32m    526\u001b[0m                 \u001b[0mwarnings\u001b[0m\u001b[0;34m.\u001b[0m\u001b[0msimplefilter\u001b[0m\u001b[0;34m(\u001b[0m\u001b[0;34m'error'\u001b[0m\u001b[0;34m,\u001b[0m \u001b[0mComplexWarning\u001b[0m\u001b[0;34m)\u001b[0m\u001b[0;34m\u001b[0m\u001b[0;34m\u001b[0m\u001b[0m\n\u001b[0;32m--> 527\u001b[0;31m                 \u001b[0marray\u001b[0m \u001b[0;34m=\u001b[0m \u001b[0mnp\u001b[0m\u001b[0;34m.\u001b[0m\u001b[0masarray\u001b[0m\u001b[0;34m(\u001b[0m\u001b[0marray\u001b[0m\u001b[0;34m,\u001b[0m \u001b[0mdtype\u001b[0m\u001b[0;34m=\u001b[0m\u001b[0mdtype\u001b[0m\u001b[0;34m,\u001b[0m \u001b[0morder\u001b[0m\u001b[0;34m=\u001b[0m\u001b[0morder\u001b[0m\u001b[0;34m)\u001b[0m\u001b[0;34m\u001b[0m\u001b[0;34m\u001b[0m\u001b[0m\n\u001b[0m\u001b[1;32m    528\u001b[0m             \u001b[0;32mexcept\u001b[0m \u001b[0mComplexWarning\u001b[0m\u001b[0;34m:\u001b[0m\u001b[0;34m\u001b[0m\u001b[0;34m\u001b[0m\u001b[0m\n\u001b[1;32m    529\u001b[0m                 raise ValueError(\"Complex data not supported\\n\"\n",
      "\u001b[0;32m/anaconda3/lib/python3.7/site-packages/numpy/core/numeric.py\u001b[0m in \u001b[0;36masarray\u001b[0;34m(a, dtype, order)\u001b[0m\n\u001b[1;32m    536\u001b[0m \u001b[0;34m\u001b[0m\u001b[0m\n\u001b[1;32m    537\u001b[0m     \"\"\"\n\u001b[0;32m--> 538\u001b[0;31m     \u001b[0;32mreturn\u001b[0m \u001b[0marray\u001b[0m\u001b[0;34m(\u001b[0m\u001b[0ma\u001b[0m\u001b[0;34m,\u001b[0m \u001b[0mdtype\u001b[0m\u001b[0;34m,\u001b[0m \u001b[0mcopy\u001b[0m\u001b[0;34m=\u001b[0m\u001b[0;32mFalse\u001b[0m\u001b[0;34m,\u001b[0m \u001b[0morder\u001b[0m\u001b[0;34m=\u001b[0m\u001b[0morder\u001b[0m\u001b[0;34m)\u001b[0m\u001b[0;34m\u001b[0m\u001b[0;34m\u001b[0m\u001b[0m\n\u001b[0m\u001b[1;32m    539\u001b[0m \u001b[0;34m\u001b[0m\u001b[0m\n\u001b[1;32m    540\u001b[0m \u001b[0;34m\u001b[0m\u001b[0m\n",
      "\u001b[0;31mTypeError\u001b[0m: float() argument must be a string or a number, not 'PCA'"
     ]
    }
   ],
   "source": [
    "print(pca.inverse_transform(pca.fit_transform(pca)))\n"
   ]
  },
  {
   "cell_type": "code",
   "execution_count": 24,
   "metadata": {},
   "outputs": [
    {
     "ename": "TypeError",
     "evalue": "unsupported operand type(s) for *: 'PCA' and 'float'",
     "output_type": "error",
     "traceback": [
      "\u001b[0;31m---------------------------------------------------------------------------\u001b[0m",
      "\u001b[0;31mTypeError\u001b[0m                                 Traceback (most recent call last)",
      "\u001b[0;32m<ipython-input-24-8155a4fc28d9>\u001b[0m in \u001b[0;36m<module>\u001b[0;34m\u001b[0m\n\u001b[0;32m----> 1\u001b[0;31m \u001b[0mplot_image_matrix\u001b[0m\u001b[0;34m(\u001b[0m\u001b[0mprocess_image\u001b[0m\u001b[0;34m(\u001b[0m\u001b[0mpca\u001b[0m\u001b[0;34m.\u001b[0m\u001b[0minverse_transform\u001b[0m\u001b[0;34m(\u001b[0m\u001b[0mpca\u001b[0m\u001b[0;34m)\u001b[0m\u001b[0;34m)\u001b[0m\u001b[0;34m)\u001b[0m\u001b[0;34m\u001b[0m\u001b[0;34m\u001b[0m\u001b[0m\n\u001b[0m",
      "\u001b[0;32m/anaconda3/lib/python3.7/site-packages/sklearn/decomposition/base.py\u001b[0m in \u001b[0;36minverse_transform\u001b[0;34m(self, X)\u001b[0m\n\u001b[1;32m    158\u001b[0m                             self.components_) + self.mean_\n\u001b[1;32m    159\u001b[0m         \u001b[0;32melse\u001b[0m\u001b[0;34m:\u001b[0m\u001b[0;34m\u001b[0m\u001b[0;34m\u001b[0m\u001b[0m\n\u001b[0;32m--> 160\u001b[0;31m             \u001b[0;32mreturn\u001b[0m \u001b[0mnp\u001b[0m\u001b[0;34m.\u001b[0m\u001b[0mdot\u001b[0m\u001b[0;34m(\u001b[0m\u001b[0mX\u001b[0m\u001b[0;34m,\u001b[0m \u001b[0mself\u001b[0m\u001b[0;34m.\u001b[0m\u001b[0mcomponents_\u001b[0m\u001b[0;34m)\u001b[0m \u001b[0;34m+\u001b[0m \u001b[0mself\u001b[0m\u001b[0;34m.\u001b[0m\u001b[0mmean_\u001b[0m\u001b[0;34m\u001b[0m\u001b[0;34m\u001b[0m\u001b[0m\n\u001b[0m",
      "\u001b[0;31mTypeError\u001b[0m: unsupported operand type(s) for *: 'PCA' and 'float'"
     ]
    }
   ],
   "source": [
    "\n",
    "plot_image_matrix(process_image(pca.inverse_transform(pca)))\n"
   ]
  },
  {
   "cell_type": "markdown",
   "metadata": {},
   "source": [
    "#### Plot the image obtained after inverse transform. Compare to the original image."
   ]
  },
  {
   "cell_type": "code",
   "execution_count": null,
   "metadata": {},
   "outputs": [],
   "source": []
  },
  {
   "cell_type": "markdown",
   "metadata": {},
   "source": [
    "### Bonus: Apply clustering to the dataset with all images. Evaluate the assigned cluster labels against the true labels contained in `dataset.target`.\n",
    "\n",
    "Hints:\n",
    "- The original dataset contains faces of 40 different persons.\n",
    "- Have a look at the different available distance metrics, e.g. `cosine`."
   ]
  },
  {
   "cell_type": "code",
   "execution_count": 19,
   "metadata": {},
   "outputs": [],
   "source": [
    "from sklearn import metrics\n",
    "from sklearn.cluster import KMeans, AgglomerativeClustering, DBSCAN"
   ]
  },
  {
   "cell_type": "code",
   "execution_count": null,
   "metadata": {},
   "outputs": [],
   "source": []
  },
  {
   "cell_type": "markdown",
   "metadata": {},
   "source": [
    "### Bonus: PCA transform the whole dataset and fit a logistic regression model"
   ]
  },
  {
   "cell_type": "code",
   "execution_count": 20,
   "metadata": {},
   "outputs": [],
   "source": [
    "from sklearn.linear_model import LogisticRegression, LogisticRegressionCV"
   ]
  },
  {
   "cell_type": "code",
   "execution_count": null,
   "metadata": {},
   "outputs": [],
   "source": []
  }
 ],
 "metadata": {
  "kernelspec": {
   "display_name": "Python 3",
   "language": "python",
   "name": "python3"
  },
  "language_info": {
   "codemirror_mode": {
    "name": "ipython",
    "version": 3
   },
   "file_extension": ".py",
   "mimetype": "text/x-python",
   "name": "python",
   "nbconvert_exporter": "python",
   "pygments_lexer": "ipython3",
   "version": "3.7.3"
  },
  "toc": {
   "base_numbering": 1,
   "nav_menu": {},
   "number_sections": false,
   "sideBar": true,
   "skip_h1_title": true,
   "title_cell": "Table of Contents",
   "title_sidebar": "Contents",
   "toc_cell": false,
   "toc_position": {
    "height": "293px",
    "left": "0px",
    "right": "637.295px",
    "top": "106px",
    "width": "94px"
   },
   "toc_section_display": "block",
   "toc_window_display": false
  }
 },
 "nbformat": 4,
 "nbformat_minor": 2
}
