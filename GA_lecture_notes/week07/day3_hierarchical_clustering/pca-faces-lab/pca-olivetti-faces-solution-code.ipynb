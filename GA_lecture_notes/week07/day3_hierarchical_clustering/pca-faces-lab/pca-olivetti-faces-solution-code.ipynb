{
 "cells": [
  {
   "cell_type": "markdown",
   "metadata": {},
   "source": [
    "<img src=\"http://imgur.com/1ZcRyrc.png\" style=\"float: left; margin: 20px; height: 55px\">\n",
    "\n",
    "# Image Compression Using PCA\n",
    "\n",
    "---"
   ]
  },
  {
   "cell_type": "markdown",
   "metadata": {},
   "source": [
    "In this lab we are going to read in the Olivetti faces dataset, a set of photographs of faces. \n",
    "\n",
    "- First we are going to process and depict the images.\n",
    "- Then we are going to use principal component analysis on the images to extract the most important parts.\n",
    "- We will compare the images with reduced amount of information with the original ones."
   ]
  },
  {
   "cell_type": "code",
   "execution_count": 1,
   "metadata": {},
   "outputs": [],
   "source": [
    "import pandas as pd\n",
    "import numpy as np\n",
    "import matplotlib.pyplot as plt\n",
    "import seaborn as sns\n",
    "from sklearn.preprocessing import MinMaxScaler, StandardScaler\n",
    "\n",
    "\n",
    "plt.style.use('ggplot')\n",
    "%config InlineBackend.figure_format = 'retina'\n",
    "%matplotlib inline\n",
    "\n",
    "np.set_printoptions(precision=4)"
   ]
  },
  {
   "cell_type": "markdown",
   "metadata": {},
   "source": [
    "## Faces Dataset\n",
    "---\n",
    "\n",
    "Let's load in the Olivetti faces dataset from sklearn."
   ]
  },
  {
   "cell_type": "code",
   "execution_count": 2,
   "metadata": {},
   "outputs": [
    {
     "name": "stdout",
     "output_type": "stream",
     "text": [
      ".. _olivetti_faces_dataset:\n",
      "\n",
      "The Olivetti faces dataset\n",
      "--------------------------\n",
      "\n",
      "`This dataset contains a set of face images`_ taken between April 1992 and \n",
      "April 1994 at AT&T Laboratories Cambridge. The\n",
      ":func:`sklearn.datasets.fetch_olivetti_faces` function is the data\n",
      "fetching / caching function that downloads the data\n",
      "archive from AT&T.\n",
      "\n",
      ".. _This dataset contains a set of face images: http://www.cl.cam.ac.uk/research/dtg/attarchive/facedatabase.html\n",
      "\n",
      "As described on the original website:\n",
      "\n",
      "    There are ten different images of each of 40 distinct subjects. For some\n",
      "    subjects, the images were taken at different times, varying the lighting,\n",
      "    facial expressions (open / closed eyes, smiling / not smiling) and facial\n",
      "    details (glasses / no glasses). All the images were taken against a dark\n",
      "    homogeneous background with the subjects in an upright, frontal position \n",
      "    (with tolerance for some side movement).\n",
      "\n",
      "**Data Set Characteristics:**\n",
      "\n",
      "    =================   =====================\n",
      "    Classes                                40\n",
      "    Samples total                         400\n",
      "    Dimensionality                       4096\n",
      "    Features            real, between 0 and 1\n",
      "    =================   =====================\n",
      "\n",
      "The image is quantized to 256 grey levels and stored as unsigned 8-bit \n",
      "integers; the loader will convert these to floating point values on the \n",
      "interval [0, 1], which are easier to work with for many algorithms.\n",
      "\n",
      "The \"target\" for this database is an integer from 0 to 39 indicating the\n",
      "identity of the person pictured; however, with only 10 examples per class, this\n",
      "relatively small dataset is more interesting from an unsupervised or\n",
      "semi-supervised perspective.\n",
      "\n",
      "The original dataset consisted of 92 x 112, while the version available here\n",
      "consists of 64x64 images.\n",
      "\n",
      "When using these images, please give credit to AT&T Laboratories Cambridge.\n",
      "\n"
     ]
    }
   ],
   "source": [
    "from sklearn.datasets import fetch_olivetti_faces\n",
    "dataset = fetch_olivetti_faces()\n",
    "print(dataset.DESCR)"
   ]
  },
  {
   "cell_type": "markdown",
   "metadata": {},
   "source": [
    "### Load the Dataset\n",
    "\n",
    "\n",
    "- There are 400 images of faces. (i.e. rows of data)\n",
    "- Each image is 64x64 pixels, i.e. a total of 4096 pixels (i.e. features)"
   ]
  },
  {
   "cell_type": "code",
   "execution_count": 3,
   "metadata": {},
   "outputs": [
    {
     "data": {
      "text/plain": [
       "(400, 4096)"
      ]
     },
     "execution_count": 3,
     "metadata": {},
     "output_type": "execute_result"
    }
   ],
   "source": [
    "dataset = fetch_olivetti_faces()\n",
    "faces = dataset.data\n",
    "faces.shape"
   ]
  },
  {
   "cell_type": "markdown",
   "metadata": {},
   "source": [
    "#### Let's look at a single observation"
   ]
  },
  {
   "cell_type": "code",
   "execution_count": 4,
   "metadata": {},
   "outputs": [
    {
     "name": "stdout",
     "output_type": "stream",
     "text": [
      "(4096,)\n",
      "[0.5413 0.5868 0.6405 ... 0.095  0.1116 0.1116]\n"
     ]
    }
   ],
   "source": [
    "face10 = faces[10]\n",
    "print((face10.shape))\n",
    "\n",
    "# This is a grayscale image, so each pixel is from 0 (black) to 1 (white)\n",
    "print(face10)"
   ]
  },
  {
   "cell_type": "markdown",
   "metadata": {},
   "source": [
    "#### Set up a couple of functions, one to process an image (reshape it to a 2D matrix) and the other to actually plot the image matrix."
   ]
  },
  {
   "cell_type": "code",
   "execution_count": 5,
   "metadata": {},
   "outputs": [],
   "source": [
    "def plot_image_matrix(face_image):\n",
    "    \"\"\" \n",
    "    Plots a grayscale 2-D ndarray `face_image`. \n",
    "        Pixel values can have any scale.\n",
    "    \"\"\"\n",
    "    fig, ax = plt.subplots(figsize=(5, 5))\n",
    "\n",
    "    # max value (in magnitude)\n",
    "    max_pixel_value = max(face_image.max(), -face_image.min())\n",
    "\n",
    "    ax.imshow(face_image, cmap=plt.cm.gray,\n",
    "              interpolation='nearest',\n",
    "              vmin=-max_pixel_value,\n",
    "              vmax=max_pixel_value)\n",
    "\n",
    "    ax.set_xticks(())\n",
    "    ax.set_yticks(())\n",
    "\n",
    "\n",
    "def process_image(image):\n",
    "    \"\"\" \n",
    "    Standardize a 1-D 4096-element ndarray `image` to end up with:\n",
    "      - A new 2-D 64x64-element ndarray, with\n",
    "      - Pixel values between (-0.5, 0.5).\n",
    "    \"\"\"\n",
    "\n",
    "    # Min-Max scaling to end up with values between (-0.5, 0.5)\n",
    "    image = image.reshape(-1, 1)\n",
    "    scaler = MinMaxScaler(feature_range=(-0.5, 0.5))\n",
    "    image = scaler.fit_transform(image)\n",
    "\n",
    "    # Convert the 4096-element `image` to 64x64\n",
    "    image.shape = (64, 64)\n",
    "    return image"
   ]
  },
  {
   "cell_type": "code",
   "execution_count": 6,
   "metadata": {},
   "outputs": [
    {
     "name": "stdout",
     "output_type": "stream",
     "text": [
      "(64, 64)\n",
      "[[ 0.0291  0.0825  0.1456 ...  0.034   0.0437  0.0485]\n",
      " [ 0.0437  0.1165  0.165  ...  0.068   0.0777  0.0728]\n",
      " [ 0.0728  0.1602  0.1893 ...  0.0631  0.1019  0.0971]\n",
      " ...\n",
      " [-0.4563 -0.4466 -0.4466 ... -0.5    -0.4709 -0.4806]\n",
      " [-0.4515 -0.4466 -0.4515 ... -0.4951 -0.4757 -0.4806]\n",
      " [-0.4466 -0.4515 -0.4466 ... -0.4951 -0.4757 -0.4757]]\n"
     ]
    }
   ],
   "source": [
    "face10 = process_image(faces[10])\n",
    "print((face10.shape))\n",
    "print(face10)"
   ]
  },
  {
   "cell_type": "markdown",
   "metadata": {},
   "source": [
    "Given the image below and the image matrix above:\n",
    "- The top rows are light colored.\n",
    "    - So, the first few rows of numbers are > 0.0\n",
    "- The final rows start dark and end dark. \n",
    "    - So, the last few rows of numbers start and end < 0.0\n",
    "- If you print out the full final row, what would you expect the middle numbers to look like?"
   ]
  },
  {
   "cell_type": "code",
   "execution_count": 7,
   "metadata": {},
   "outputs": [
    {
     "data": {
      "image/png": "[encoded data removed]",
      "text/plain": [
       "<Figure size 360x360 with 1 Axes>"
      ]
     },
     "metadata": {
      "image/png": {
       "height": 289,
       "width": 289
      }
     },
     "output_type": "display_data"
    }
   ],
   "source": [
    "plot_image_matrix(process_image(face10))"
   ]
  },
  {
   "cell_type": "markdown",
   "metadata": {},
   "source": [
    "#### Another picture"
   ]
  },
  {
   "cell_type": "code",
   "execution_count": 8,
   "metadata": {},
   "outputs": [
    {
     "data": {
      "image/png": "[encoded data removed]",
      "text/plain": [
       "<Figure size 360x360 with 1 Axes>"
      ]
     },
     "metadata": {
      "image/png": {
       "height": 289,
       "width": 289
      }
     },
     "output_type": "display_data"
    }
   ],
   "source": [
    "plot_image_matrix(process_image(faces[50]))"
   ]
  },
  {
   "cell_type": "markdown",
   "metadata": {},
   "source": [
    "## PCA on the image"
   ]
  },
  {
   "cell_type": "markdown",
   "metadata": {},
   "source": [
    "#### Take picture number 10 reshaped to 64 times 64 pixels"
   ]
  },
  {
   "cell_type": "code",
   "execution_count": 9,
   "metadata": {},
   "outputs": [
    {
     "data": {
      "image/png": "[encoded data removed]",
      "text/plain": [
       "<Figure size 360x360 with 1 Axes>"
      ]
     },
     "metadata": {
      "image/png": {
       "height": 289,
       "width": 289
      }
     },
     "output_type": "display_data"
    }
   ],
   "source": [
    "current_image = process_image(faces[10])\n",
    "plot_image_matrix(current_image)"
   ]
  },
  {
   "cell_type": "markdown",
   "metadata": {},
   "source": [
    "#### Transform to principal components\n",
    "\n",
    "Limit the number of components as you find suitable.\n",
    "\n",
    "- Instantiate PCA\n",
    "- Fit and transform the image\n",
    "- Extract the explained variance and the explained variance ratio"
   ]
  },
  {
   "cell_type": "code",
   "execution_count": null,
   "metadata": {},
   "outputs": [],
   "source": []
  },
  {
   "cell_type": "code",
   "execution_count": 10,
   "metadata": {},
   "outputs": [
    {
     "data": {
      "text/plain": [
       "array([[ 0.0291,  0.0825,  0.1456, ...,  0.034 ,  0.0437,  0.0485],\n",
       "       [ 0.0437,  0.1165,  0.165 , ...,  0.068 ,  0.0777,  0.0728],\n",
       "       [ 0.0728,  0.1602,  0.1893, ...,  0.0631,  0.1019,  0.0971],\n",
       "       ...,\n",
       "       [-0.4563, -0.4466, -0.4466, ..., -0.5   , -0.4709, -0.4806],\n",
       "       [-0.4515, -0.4466, -0.4515, ..., -0.4951, -0.4757, -0.4806],\n",
       "       [-0.4466, -0.4515, -0.4466, ..., -0.4951, -0.4757, -0.4757]],\n",
       "      dtype=float32)"
      ]
     },
     "execution_count": 10,
     "metadata": {},
     "output_type": "execute_result"
    }
   ],
   "source": [
    "current_image"
   ]
  },
  {
   "cell_type": "code",
   "execution_count": 47,
   "metadata": {},
   "outputs": [
    {
     "data": {
      "text/plain": [
       "(64, 64)"
      ]
     },
     "execution_count": 47,
     "metadata": {},
     "output_type": "execute_result"
    }
   ],
   "source": [
    "current_image.shape"
   ]
  },
  {
   "cell_type": "code",
   "execution_count": null,
   "metadata": {},
   "outputs": [],
   "source": []
  },
  {
   "cell_type": "code",
   "execution_count": null,
   "metadata": {},
   "outputs": [],
   "source": []
  },
  {
   "cell_type": "code",
   "execution_count": 11,
   "metadata": {},
   "outputs": [
    {
     "name": "stdout",
     "output_type": "stream",
     "text": [
      "Number of principal components:\t 64\n",
      "Explained variance:\n",
      " [0.411 0.323 0.151 0.071 0.051 0.043 0.033 0.028 0.025 0.022 0.016 0.012\n",
      " 0.01  0.008 0.006 0.005 0.005 0.004 0.003 0.003 0.003 0.002 0.002 0.002\n",
      " 0.001 0.001 0.001 0.001 0.001 0.001 0.    0.    0.    0.    0.    0.\n",
      " 0.    0.    0.    0.    0.    0.    0.    0.    0.    0.    0.    0.\n",
      " 0.    0.    0.    0.    0.    0.    0.    0.    0.    0.    0.    0.\n",
      " 0.    0.    0.    0.   ]\n",
      "Explained variance ratio:\n",
      " [0.33  0.259 0.121 0.057 0.041 0.035 0.027 0.022 0.02  0.018 0.013 0.009\n",
      " 0.008 0.006 0.005 0.004 0.004 0.003 0.003 0.002 0.002 0.002 0.001 0.001\n",
      " 0.001 0.001 0.001 0.001 0.    0.    0.    0.    0.    0.    0.    0.\n",
      " 0.    0.    0.    0.    0.    0.    0.    0.    0.    0.    0.    0.\n",
      " 0.    0.    0.    0.    0.    0.    0.    0.    0.    0.    0.    0.\n",
      " 0.    0.    0.    0.   ]\n",
      "Transformed features:\n",
      "[[ 1.2273e+00  4.4973e-01 -1.2297e-01 ... -3.6280e-04 -1.5484e-04\n",
      "   1.5093e-07]\n",
      " [ 1.3355e+00  4.8018e-01 -1.0498e-01 ...  2.7357e-04  8.2393e-05\n",
      "   1.5097e-07]\n",
      " [ 1.3918e+00  4.7193e-01 -6.4743e-02 ... -6.8470e-04  3.0479e-05\n",
      "   1.5096e-07]\n",
      " ...\n",
      " [-7.9329e-01  1.1506e+00  7.1304e-02 ...  2.4270e-04  9.7070e-05\n",
      "   1.5097e-07]\n",
      " [-7.7682e-01  1.2080e+00  9.5364e-02 ... -4.8086e-04  1.8279e-04\n",
      "   1.5098e-07]\n",
      " [-7.7306e-01  1.2299e+00  1.3449e-01 ...  1.3420e-04 -1.9440e-04\n",
      "   1.5092e-07]]\n"
     ]
    }
   ],
   "source": [
    "from sklearn.decomposition import PCA\n",
    "\n",
    "pca = PCA(n_components=current_image.shape[1])\n",
    "pca.fit(current_image)\n",
    "image_transformed = pca.fit_transform(current_image)\n",
    "\n",
    "print(\"Number of principal components:\\t\", pca.n_components_)\n",
    "print(\"Explained variance:\\n\", np.round(pca.explained_variance_, 3))\n",
    "print(\"Explained variance ratio:\\n\", np.round(pca.explained_variance_ratio_, 3))\n",
    "\n",
    "print(\"Transformed features:\")\n",
    "print(pca.fit_transform(current_image))"
   ]
  },
  {
   "cell_type": "markdown",
   "metadata": {},
   "source": [
    "#### Produce a scree plot\n",
    "\n",
    "Plot the explained variance and the explained variance ratio versus the number of principal components."
   ]
  },
  {
   "cell_type": "code",
   "execution_count": 12,
   "metadata": {},
   "outputs": [
    {
     "data": {
      "image/png": "[encoded data removed]",
      "text/plain": [
       "<Figure size 432x288 with 1 Axes>"
      ]
     },
     "metadata": {
      "image/png": {
       "height": 248,
       "width": 590
      },
      "needs_background": "light"
     },
     "output_type": "display_data"
    }
   ],
   "source": [
    "plt.plot(pca.explained_variance_ratio_, lw=4, label='Explained variance ratio')\n",
    "plt.plot(np.cumsum(pca.explained_variance_ratio_), lw=4,\n",
    "         label='Cumulative explained variance ratio')\n",
    "plt.legend(loc=(1, 0.8))\n",
    "plt.show()"
   ]
  },
  {
   "cell_type": "markdown",
   "metadata": {},
   "source": [
    "#### Plot the transformed image in the (reduced) principal component coordinates "
   ]
  },
  {
   "cell_type": "code",
   "execution_count": 48,
   "metadata": {},
   "outputs": [
    {
     "data": {
      "text/plain": [
       "array([[ 1.2273e+00,  4.4973e-01, -1.2297e-01, -6.6308e-02,  1.8417e-02],\n",
       "       [ 1.3355e+00,  4.8018e-01, -1.0498e-01, -7.6091e-02,  6.4460e-02],\n",
       "       [ 1.3918e+00,  4.7193e-01, -6.4743e-02, -8.6908e-02,  7.3871e-02],\n",
       "       [ 1.3011e+00,  3.5333e-01, -5.8720e-02, -2.0069e-02,  5.3735e-02],\n",
       "       [ 1.0366e+00,  8.0398e-02,  4.1709e-02,  1.2826e-01,  8.7189e-02],\n",
       "       [ 6.8757e-01, -2.3813e-01,  2.6189e-01,  2.5639e-01,  1.7332e-01],\n",
       "       [ 3.2085e-01, -5.2327e-01,  5.0362e-01,  3.1278e-01,  1.9219e-01],\n",
       "       [ 3.3285e-02, -7.4966e-01,  8.4462e-01,  2.2021e-01,  2.2982e-01],\n",
       "       [ 2.4380e-01, -3.3330e-01,  1.5577e-01,  3.8610e-01, -1.0173e-01],\n",
       "       [-6.4332e-02, -4.5611e-01, -1.4600e-01,  3.6690e-01, -1.3503e-01],\n",
       "       [ 6.5168e-02, -3.3766e-01,  6.0773e-02,  4.1760e-01, -1.1107e-01],\n",
       "       [ 3.0066e-01, -1.6423e-01, -3.1767e-01,  2.5131e-01, -7.1111e-03],\n",
       "       [ 3.5534e-01, -1.8140e-01, -6.3200e-01, -5.0967e-02,  2.7689e-01],\n",
       "       [ 3.8975e-01, -2.3101e-01, -3.9777e-01, -3.0242e-02,  4.6494e-01],\n",
       "       [ 2.2970e-01, -3.4170e-01, -1.1950e-01, -1.1395e-01,  5.3164e-01],\n",
       "       [-1.0701e-01, -5.6961e-01,  4.9709e-01, -4.3463e-01,  4.0000e-01],\n",
       "       [-2.3349e-01, -5.1978e-01,  1.1834e+00, -4.9268e-01,  1.0790e-01],\n",
       "       [-2.3113e-01, -3.2568e-01,  1.1455e+00, -3.6587e-01, -1.9472e-01],\n",
       "       [-2.2305e-01, -1.5536e-01,  8.2698e-01, -8.9568e-02, -2.1116e-01],\n",
       "       [-1.4604e-01, -7.1511e-02,  6.2156e-01,  6.9237e-04, -1.8074e-01],\n",
       "       [ 5.6350e-03, -3.3743e-02,  4.4257e-01, -6.0940e-02, -2.8409e-01],\n",
       "       [ 9.0455e-02,  3.8941e-02,  2.2623e-01, -4.7748e-02, -3.3285e-01],\n",
       "       [ 1.4605e-01,  8.1233e-02,  5.7573e-02,  3.2092e-02, -3.2951e-01],\n",
       "       [ 1.6551e-01,  1.2849e-01,  3.2523e-02,  9.6590e-02, -3.3702e-01],\n",
       "       [ 1.7799e-01,  1.9019e-01,  1.0237e-01,  1.8864e-01, -3.4953e-01],\n",
       "       [ 2.1502e-01,  3.3459e-01,  2.0146e-01,  3.5973e-01, -3.4955e-01],\n",
       "       [ 2.7147e-01,  4.2622e-01,  2.2723e-01,  4.7377e-01, -2.3798e-01],\n",
       "       [ 2.7161e-01,  3.0065e-01,  2.1402e-01,  4.0299e-01, -4.7608e-02],\n",
       "       [ 2.4693e-01,  2.1423e-02,  2.6809e-01,  1.8831e-01,  1.7427e-01],\n",
       "       [ 1.6629e-01, -2.7187e-01,  3.3564e-01, -6.8513e-02,  3.1769e-01],\n",
       "       [-2.2662e-01, -5.2342e-01,  4.3950e-01, -3.3594e-01,  6.6113e-02],\n",
       "       [-5.1619e-01, -8.0510e-01,  1.7519e-01, -3.2068e-01, -4.2713e-01],\n",
       "       [-2.9048e-01, -8.8627e-01, -3.5429e-01, -3.6336e-02, -4.8016e-01],\n",
       "       [-6.1770e-03, -6.7337e-01, -5.4763e-01,  1.7522e-01, -1.8236e-01],\n",
       "       [ 2.5207e-01, -3.8311e-01, -5.0783e-01,  4.7973e-02,  5.3446e-02],\n",
       "       [ 4.9610e-01, -3.8429e-02, -3.9193e-01, -2.2914e-01,  7.4492e-02],\n",
       "       [ 6.5633e-01,  1.8872e-01, -2.7567e-01, -2.4192e-01,  3.2845e-02],\n",
       "       [ 7.4020e-01,  2.5648e-01, -2.2034e-01, -1.6356e-01, -4.8056e-03],\n",
       "       [ 7.8177e-01,  2.6679e-01, -1.7119e-01, -1.0771e-01, -9.2343e-03],\n",
       "       [ 8.1216e-01,  2.9953e-01, -1.3232e-01, -7.7017e-02,  1.7388e-02],\n",
       "       [ 8.5488e-01,  3.5702e-01, -7.1817e-02, -4.0139e-02,  5.8406e-02],\n",
       "       [ 8.0907e-01,  3.3032e-01, -2.7280e-02, -1.0461e-01,  2.6533e-02],\n",
       "       [ 4.5504e-01,  2.3943e-02, -2.0182e-01, -2.7428e-01, -1.3589e-01],\n",
       "       [-4.2508e-02, -4.3552e-01, -5.6628e-01, -3.4515e-01, -2.7174e-01],\n",
       "       [-4.7675e-01, -8.8881e-01, -7.6110e-01, -1.4912e-01, -2.5396e-01],\n",
       "       [-6.3351e-01, -1.1194e+00, -5.9154e-01,  3.0114e-01, -1.0390e-01],\n",
       "       [-6.4258e-01, -1.1303e+00, -2.3009e-01,  7.1946e-01,  1.1186e-01],\n",
       "       [-8.9777e-01, -1.2257e+00, -7.5578e-02,  4.2399e-01,  3.4514e-01],\n",
       "       [-8.0822e-01, -7.8235e-01, -2.3886e-01, -3.7940e-01,  5.0609e-01],\n",
       "       [-3.5961e-01, -1.4380e-01, -1.5570e-01, -2.7952e-01,  2.6825e-01],\n",
       "       [-2.0950e-01,  1.3455e-01, -7.9912e-02, -1.5272e-01,  6.7532e-02],\n",
       "       [-3.0206e-01,  2.1384e-01, -1.5408e-01, -1.8676e-01, -8.7949e-02],\n",
       "       [-4.3069e-01,  2.7629e-01, -2.2103e-01, -2.4961e-01, -1.6912e-01],\n",
       "       [-5.8911e-01,  3.4218e-01, -2.8284e-01, -3.6793e-01, -1.6631e-01],\n",
       "       [-7.7643e-01,  4.2167e-01, -3.2068e-01, -4.3041e-01, -1.0369e-01],\n",
       "       [-8.8317e-01,  5.2931e-01, -2.5125e-01, -3.0859e-01, -5.1640e-02],\n",
       "       [-1.0141e+00,  5.7608e-01, -1.4938e-01, -1.7780e-01, -3.6536e-02],\n",
       "       [-1.1077e+00,  6.4270e-01, -1.2565e-01, -6.8258e-02,  3.2308e-02],\n",
       "       [-1.1142e+00,  7.4347e-01, -1.0377e-01,  5.3732e-02,  1.4115e-01],\n",
       "       [-9.9304e-01,  9.1971e-01, -3.6353e-02,  1.8781e-01,  2.0470e-01],\n",
       "       [-8.6434e-01,  1.0713e+00,  4.4120e-02,  3.0110e-01,  1.9707e-01],\n",
       "       [-7.9329e-01,  1.1506e+00,  7.1304e-02,  2.7616e-01,  1.5130e-01],\n",
       "       [-7.7682e-01,  1.2080e+00,  9.5364e-02,  2.4305e-01,  1.0228e-01],\n",
       "       [-7.7306e-01,  1.2299e+00,  1.3449e-01,  2.1908e-01,  7.0882e-02]],\n",
       "      dtype=float32)"
      ]
     },
     "execution_count": 48,
     "metadata": {},
     "output_type": "execute_result"
    }
   ],
   "source": [
    "image_transformed"
   ]
  },
  {
   "cell_type": "code",
   "execution_count": 13,
   "metadata": {},
   "outputs": [
    {
     "data": {
      "image/png": "[encoded data removed]",
      "text/plain": [
       "<Figure size 360x360 with 1 Axes>"
      ]
     },
     "metadata": {
      "image/png": {
       "height": 289,
       "width": 289
      }
     },
     "output_type": "display_data"
    }
   ],
   "source": [
    "plot_image_matrix(image_transformed)"
   ]
  },
  {
   "cell_type": "markdown",
   "metadata": {},
   "source": [
    "#### Plot the matrix obtained with `pca.components` as an image"
   ]
  },
  {
   "cell_type": "code",
   "execution_count": 14,
   "metadata": {},
   "outputs": [
    {
     "data": {
      "image/png": "[encoded data removed]",
      "text/plain": [
       "<Figure size 360x360 with 1 Axes>"
      ]
     },
     "metadata": {
      "image/png": {
       "height": 289,
       "width": 289
      }
     },
     "output_type": "display_data"
    }
   ],
   "source": [
    "plot_image_matrix(pca.components_.T)"
   ]
  },
  {
   "cell_type": "markdown",
   "metadata": {},
   "source": [
    "#### Apply the inverse transform to the transformed image. "
   ]
  },
  {
   "cell_type": "code",
   "execution_count": 15,
   "metadata": {},
   "outputs": [
    {
     "name": "stdout",
     "output_type": "stream",
     "text": [
      "[[ 0.0154  0.0654  0.0864 ...  0.0262  0.067   0.1092]\n",
      " [ 0.0265  0.0913  0.1136 ...  0.0382  0.0801  0.1212]\n",
      " [ 0.0421  0.1073  0.1318 ...  0.0525  0.0909  0.1339]\n",
      " ...\n",
      " [-0.5025 -0.4946 -0.5219 ... -0.5032 -0.4587 -0.4587]\n",
      " [-0.511  -0.5154 -0.5435 ... -0.5054 -0.4638 -0.4548]\n",
      " [-0.5118 -0.527  -0.5541 ... -0.5034 -0.4669 -0.4518]]\n"
     ]
    }
   ],
   "source": [
    "pca = PCA(n_components=current_image.shape[1]-59)\n",
    "pca.fit(current_image)\n",
    "image_transformed = pca.fit_transform(current_image)\n",
    "\n",
    "print(pca.inverse_transform(image_transformed))"
   ]
  },
  {
   "cell_type": "code",
   "execution_count": 16,
   "metadata": {},
   "outputs": [
    {
     "name": "stdout",
     "output_type": "stream",
     "text": [
      "[[ 0.0291  0.0825  0.1456 ...  0.034   0.0437  0.0485]\n",
      " [ 0.0437  0.1165  0.165  ...  0.068   0.0777  0.0728]\n",
      " [ 0.0728  0.1602  0.1893 ...  0.0631  0.1019  0.0971]\n",
      " ...\n",
      " [-0.4563 -0.4466 -0.4466 ... -0.5    -0.4709 -0.4806]\n",
      " [-0.4515 -0.4466 -0.4515 ... -0.4951 -0.4757 -0.4806]\n",
      " [-0.4466 -0.4515 -0.4466 ... -0.4951 -0.4757 -0.4757]]\n"
     ]
    }
   ],
   "source": [
    "# the original values for comparison\n",
    "print(current_image)"
   ]
  },
  {
   "cell_type": "markdown",
   "metadata": {},
   "source": [
    "#### Plot the image obtained after inverse transform. Compare to the original image."
   ]
  },
  {
   "cell_type": "code",
   "execution_count": 17,
   "metadata": {},
   "outputs": [
    {
     "data": {
      "image/png": "[encoded data removed]",
      "text/plain": [
       "<Figure size 360x360 with 1 Axes>"
      ]
     },
     "metadata": {
      "image/png": {
       "height": 289,
       "width": 289
      }
     },
     "output_type": "display_data"
    }
   ],
   "source": [
    "plot_image_matrix(pca.inverse_transform(image_transformed))"
   ]
  },
  {
   "cell_type": "markdown",
   "metadata": {},
   "source": [
    "### Bonus: Apply clustering to the dataset with all images. Evaluate the assigned cluster labels against the true labels contained in `dataset.target`.\n",
    "\n",
    "Hints:\n",
    "- The original dataset contains faces of 40 different persons.\n",
    "- Have a look at the different available distance metrics, e.g. `cosine`."
   ]
  },
  {
   "cell_type": "code",
   "execution_count": 18,
   "metadata": {},
   "outputs": [],
   "source": [
    "from sklearn import metrics\n",
    "from sklearn.cluster import KMeans, AgglomerativeClustering, DBSCAN, AffinityPropagation"
   ]
  },
  {
   "cell_type": "code",
   "execution_count": 19,
   "metadata": {},
   "outputs": [],
   "source": [
    "pca = PCA()\n",
    "X_pca = pca.fit_transform(dataset.data)"
   ]
  },
  {
   "cell_type": "code",
   "execution_count": 20,
   "metadata": {},
   "outputs": [
    {
     "name": "stdout",
     "output_type": "stream",
     "text": [
      "[11  4 11  2  4  2 11 13 11  4]\n"
     ]
    }
   ],
   "source": [
    "agg = AgglomerativeClustering(\n",
    "    n_clusters=40, linkage='average', affinity='cosine')\n",
    "agg.fit(dataset.data)\n",
    "labels = agg.labels_\n",
    "\n",
    "print(labels[:10])"
   ]
  },
  {
   "cell_type": "code",
   "execution_count": 21,
   "metadata": {},
   "outputs": [],
   "source": [
    "def cluster_score(X, y, labels):\n",
    "    print(\"Silhouette Coefficient: %0.3f\"\n",
    "          % metrics.silhouette_score(X, labels))\n",
    "    print(\"Homogeneity: %0.3f\" % metrics.homogeneity_score(y, labels))\n",
    "    print(\"Completeness: %0.3f\" % metrics.completeness_score(y, labels))\n",
    "    print(\"V-measure: %0.3f\" % metrics.v_measure_score(y, labels))"
   ]
  },
  {
   "cell_type": "code",
   "execution_count": 22,
   "metadata": {},
   "outputs": [
    {
     "name": "stdout",
     "output_type": "stream",
     "text": [
      "Silhouette Coefficient: 0.098\n",
      "Homogeneity: 0.645\n",
      "Completeness: 0.824\n",
      "V-measure: 0.724\n"
     ]
    }
   ],
   "source": [
    "cluster_score(dataset.data, dataset.target, labels)"
   ]
  },
  {
   "cell_type": "code",
   "execution_count": 23,
   "metadata": {},
   "outputs": [
    {
     "name": "stdout",
     "output_type": "stream",
     "text": [
      "Silhouette Coefficient: 0.176\n",
      "Homogeneity: 0.678\n",
      "Completeness: 0.757\n",
      "V-measure: 0.715\n"
     ]
    }
   ],
   "source": [
    "n = 10\n",
    "agg = AgglomerativeClustering(\n",
    "    n_clusters=40, linkage='average', affinity='cosine')\n",
    "agg.fit(X_pca[:, :n])\n",
    "labels = agg.labels_\n",
    "cluster_score(X_pca[:, :n], dataset.target, labels)"
   ]
  },
  {
   "cell_type": "code",
   "execution_count": 24,
   "metadata": {},
   "outputs": [],
   "source": [
    "k_means = KMeans(n_clusters=40)\n",
    "k_means.fit(dataset.data)\n",
    "labels_k = k_means.labels_"
   ]
  },
  {
   "cell_type": "code",
   "execution_count": 25,
   "metadata": {},
   "outputs": [
    {
     "name": "stdout",
     "output_type": "stream",
     "text": [
      "Silhouette Coefficient: 0.147\n",
      "Homogeneity: 0.762\n",
      "Completeness: 0.777\n",
      "V-measure: 0.770\n"
     ]
    }
   ],
   "source": [
    "cluster_score(dataset.data, dataset.target, labels_k)"
   ]
  },
  {
   "cell_type": "code",
   "execution_count": 26,
   "metadata": {},
   "outputs": [
    {
     "name": "stdout",
     "output_type": "stream",
     "text": [
      "Silhouette Coefficient: 0.242\n",
      "Homogeneity: 0.769\n",
      "Completeness: 0.794\n",
      "V-measure: 0.782\n"
     ]
    }
   ],
   "source": [
    "n = 20\n",
    "k_means = KMeans(n_clusters=40)\n",
    "k_means.fit(X_pca[:, :n])\n",
    "labels = k_means.labels_\n",
    "cluster_score(X_pca[:, :n], dataset.target, labels)"
   ]
  },
  {
   "cell_type": "code",
   "execution_count": 27,
   "metadata": {},
   "outputs": [
    {
     "name": "stdout",
     "output_type": "stream",
     "text": [
      "[-1  0  1  2  3  4  5  6  7  8  9 10 11 12 13 14 15 16 17 18 19 20 21 22\n",
      " 23 24]\n"
     ]
    }
   ],
   "source": [
    "db = DBSCAN(eps=0.01, min_samples=3, metric='cosine')\n",
    "db.fit(dataset.data)\n",
    "labels_db = db.labels_\n",
    "print(np.unique(db.labels_))"
   ]
  },
  {
   "cell_type": "code",
   "execution_count": 28,
   "metadata": {},
   "outputs": [
    {
     "name": "stdout",
     "output_type": "stream",
     "text": [
      "Silhouette Coefficient: -0.109\n",
      "Homogeneity: 0.337\n",
      "Completeness: 0.780\n",
      "V-measure: 0.471\n"
     ]
    }
   ],
   "source": [
    "cluster_score(dataset.data, dataset.target, labels_db)"
   ]
  },
  {
   "cell_type": "code",
   "execution_count": 29,
   "metadata": {},
   "outputs": [
    {
     "name": "stdout",
     "output_type": "stream",
     "text": [
      "Silhouette Coefficient: 0.128\n",
      "Homogeneity: 0.055\n",
      "Completeness: 0.768\n",
      "V-measure: 0.103\n"
     ]
    }
   ],
   "source": [
    "n = 10\n",
    "db = DBSCAN(eps=0.01, min_samples=3, metric='cosine')\n",
    "db.fit(X_pca[:, :n])\n",
    "labels = db.labels_\n",
    "cluster_score(X_pca[:, :n], dataset.target, labels)"
   ]
  },
  {
   "cell_type": "code",
   "execution_count": 30,
   "metadata": {},
   "outputs": [],
   "source": [
    "aff = AffinityPropagation(damping=0.5, max_iter=200)"
   ]
  },
  {
   "cell_type": "code",
   "execution_count": 31,
   "metadata": {},
   "outputs": [
    {
     "data": {
      "text/plain": [
       "(56,)"
      ]
     },
     "execution_count": 31,
     "metadata": {},
     "output_type": "execute_result"
    }
   ],
   "source": [
    "aff.fit(dataset.data)\n",
    "labels_aff = aff.labels_\n",
    "np.unique(labels_aff).shape"
   ]
  },
  {
   "cell_type": "code",
   "execution_count": 32,
   "metadata": {},
   "outputs": [
    {
     "name": "stdout",
     "output_type": "stream",
     "text": [
      "Silhouette Coefficient: 0.172\n",
      "Homogeneity: 0.823\n",
      "Completeness: 0.786\n",
      "V-measure: 0.804\n"
     ]
    }
   ],
   "source": [
    "cluster_score(dataset.data, dataset.target, labels_aff)"
   ]
  },
  {
   "cell_type": "code",
   "execution_count": 33,
   "metadata": {},
   "outputs": [
    {
     "name": "stdout",
     "output_type": "stream",
     "text": [
      "Silhouette Coefficient: 0.273\n",
      "Homogeneity: 0.821\n",
      "Completeness: 0.791\n",
      "V-measure: 0.806\n"
     ]
    }
   ],
   "source": [
    "n = 20\n",
    "aff = AffinityPropagation(damping=0.5, max_iter=200)\n",
    "aff.fit(X_pca[:, :n])\n",
    "labels = aff.labels_\n",
    "cluster_score(X_pca[:, :n], dataset.target, labels)"
   ]
  },
  {
   "cell_type": "markdown",
   "metadata": {},
   "source": [
    "### PCA transform the whole dataset and fit a logistic regression model"
   ]
  },
  {
   "cell_type": "code",
   "execution_count": 34,
   "metadata": {},
   "outputs": [],
   "source": [
    "from sklearn.linear_model import LogisticRegression, LogisticRegressionCV"
   ]
  },
  {
   "cell_type": "markdown",
   "metadata": {},
   "source": [
    "#### Cross validated model on the whole dataset"
   ]
  },
  {
   "cell_type": "code",
   "execution_count": 35,
   "metadata": {},
   "outputs": [
    {
     "data": {
      "text/plain": [
       "1.0"
      ]
     },
     "execution_count": 35,
     "metadata": {},
     "output_type": "execute_result"
    }
   ],
   "source": [
    "model = LogisticRegressionCV(\n",
    "    cv=5, solver='lbfgs', multi_class='ovr', max_iter=1000)\n",
    "model.fit(dataset.data, dataset.target)\n",
    "model.score(dataset.data, dataset.target)"
   ]
  },
  {
   "cell_type": "code",
   "execution_count": 36,
   "metadata": {},
   "outputs": [
    {
     "data": {
      "text/plain": [
       "(4096,)"
      ]
     },
     "execution_count": 36,
     "metadata": {},
     "output_type": "execute_result"
    }
   ],
   "source": [
    "model.coef_[0].shape"
   ]
  },
  {
   "cell_type": "code",
   "execution_count": 37,
   "metadata": {},
   "outputs": [
    {
     "data": {
      "image/png": "[encoded data removed]",
      "text/plain": [
       "<Figure size 432x288 with 1 Axes>"
      ]
     },
     "metadata": {
      "image/png": {
       "height": 248,
       "width": 381
      },
      "needs_background": "light"
     },
     "output_type": "display_data"
    }
   ],
   "source": [
    "plt.hist(model.coef_[0])\n",
    "plt.show()"
   ]
  },
  {
   "cell_type": "markdown",
   "metadata": {},
   "source": [
    "#### Let's add train-test split and subset on a few features\n",
    "\n",
    "Here, just as an example, we take the first 200 features, but any choice will do."
   ]
  },
  {
   "cell_type": "code",
   "execution_count": 38,
   "metadata": {},
   "outputs": [],
   "source": [
    "from sklearn.model_selection import train_test_split"
   ]
  },
  {
   "cell_type": "code",
   "execution_count": 39,
   "metadata": {},
   "outputs": [],
   "source": [
    "X_train, X_test, y_train, y_test = train_test_split(dataset.data, dataset.target,\n",
    "                                                    stratify=dataset.target, test_size=0.2, random_state=1)"
   ]
  },
  {
   "cell_type": "code",
   "execution_count": 40,
   "metadata": {},
   "outputs": [
    {
     "data": {
      "text/plain": [
       "0.6375"
      ]
     },
     "execution_count": 40,
     "metadata": {},
     "output_type": "execute_result"
    }
   ],
   "source": [
    "n = 200\n",
    "model = LogisticRegressionCV(\n",
    "    cv=5, solver='lbfgs', multi_class='ovr', max_iter=1000)\n",
    "model.fit(X_train[:, :n], y_train)\n",
    "model.score(X_test[:, :n], y_test)"
   ]
  },
  {
   "cell_type": "code",
   "execution_count": 41,
   "metadata": {},
   "outputs": [
    {
     "name": "stdout",
     "output_type": "stream",
     "text": [
      "              precision    recall  f1-score   support\n",
      "\n",
      "           0       0.33      0.50      0.40         2\n",
      "           1       0.67      1.00      0.80         2\n",
      "           2       1.00      1.00      1.00         2\n",
      "           3       0.00      0.00      0.00         2\n",
      "           4       1.00      0.50      0.67         2\n",
      "           5       1.00      1.00      1.00         2\n",
      "           6       1.00      1.00      1.00         2\n",
      "           7       1.00      0.50      0.67         2\n",
      "           8       1.00      1.00      1.00         2\n",
      "           9       0.33      1.00      0.50         2\n",
      "          10       1.00      0.50      0.67         2\n",
      "          11       1.00      1.00      1.00         2\n",
      "          12       0.00      0.00      0.00         2\n",
      "          13       0.67      1.00      0.80         2\n",
      "          14       1.00      0.50      0.67         2\n",
      "          15       0.20      0.50      0.29         2\n",
      "          16       0.00      0.00      0.00         2\n",
      "          17       1.00      1.00      1.00         2\n",
      "          18       1.00      1.00      1.00         2\n",
      "          19       1.00      1.00      1.00         2\n",
      "          20       0.00      0.00      0.00         2\n",
      "          21       1.00      1.00      1.00         2\n",
      "          22       0.00      0.00      0.00         2\n",
      "          23       0.50      0.50      0.50         2\n",
      "          24       0.00      0.00      0.00         2\n",
      "          25       0.33      1.00      0.50         2\n",
      "          26       1.00      1.00      1.00         2\n",
      "          27       0.00      0.00      0.00         2\n",
      "          28       1.00      1.00      1.00         2\n",
      "          29       0.33      0.50      0.40         2\n",
      "          30       0.00      0.00      0.00         2\n",
      "          31       1.00      0.50      0.67         2\n",
      "          32       1.00      0.50      0.67         2\n",
      "          33       1.00      1.00      1.00         2\n",
      "          34       0.67      1.00      0.80         2\n",
      "          35       0.67      1.00      0.80         2\n",
      "          36       1.00      0.50      0.67         2\n",
      "          37       0.67      1.00      0.80         2\n",
      "          38       1.00      1.00      1.00         2\n",
      "          39       0.00      0.00      0.00         2\n",
      "\n",
      "   micro avg       0.64      0.64      0.64        80\n",
      "   macro avg       0.63      0.64      0.61        80\n",
      "weighted avg       0.63      0.64      0.61        80\n",
      "\n"
     ]
    },
    {
     "name": "stderr",
     "output_type": "stream",
     "text": [
      "/anaconda3/lib/python3.7/site-packages/sklearn/metrics/classification.py:1143: UndefinedMetricWarning: Precision and F-score are ill-defined and being set to 0.0 in labels with no predicted samples.\n",
      "  'precision', 'predicted', average, warn_for)\n",
      "/anaconda3/lib/python3.7/site-packages/sklearn/metrics/classification.py:1143: UndefinedMetricWarning: Precision and F-score are ill-defined and being set to 0.0 in labels with no predicted samples.\n",
      "  'precision', 'predicted', average, warn_for)\n",
      "/anaconda3/lib/python3.7/site-packages/sklearn/metrics/classification.py:1143: UndefinedMetricWarning: Precision and F-score are ill-defined and being set to 0.0 in labels with no predicted samples.\n",
      "  'precision', 'predicted', average, warn_for)\n"
     ]
    }
   ],
   "source": [
    "print(metrics.classification_report(y_test,\n",
    "                                    model.predict(X_test[:, :n])))"
   ]
  },
  {
   "cell_type": "markdown",
   "metadata": {},
   "source": [
    "#### Cross validated model on the PCA reduced dataset"
   ]
  },
  {
   "cell_type": "code",
   "execution_count": 42,
   "metadata": {},
   "outputs": [],
   "source": [
    "pca = PCA()\n",
    "X_train_pca = pca.fit_transform(X_train)\n",
    "X_test_pca = pca.transform(X_test)"
   ]
  },
  {
   "cell_type": "code",
   "execution_count": 43,
   "metadata": {},
   "outputs": [
    {
     "data": {
      "image/png": "[encoded data removed]",
      "text/plain": [
       "<Figure size 432x288 with 1 Axes>"
      ]
     },
     "metadata": {
      "image/png": {
       "height": 248,
       "width": 590
      },
      "needs_background": "light"
     },
     "output_type": "display_data"
    }
   ],
   "source": [
    "plt.plot(pca.explained_variance_ratio_, lw=4, label='Explained variance ratio')\n",
    "plt.plot(np.cumsum(pca.explained_variance_ratio_), lw=4,\n",
    "         label='Cumulative explained variance ratio')\n",
    "plt.legend(loc=(1, 0.8))\n",
    "plt.show()"
   ]
  },
  {
   "cell_type": "code",
   "execution_count": 44,
   "metadata": {},
   "outputs": [
    {
     "data": {
      "text/plain": [
       "0.95"
      ]
     },
     "execution_count": 44,
     "metadata": {},
     "output_type": "execute_result"
    }
   ],
   "source": [
    "n = 200\n",
    "model_pcat = LogisticRegressionCV(\n",
    "    cv=5, random_state=10, solver='lbfgs', multi_class='ovr', max_iter=1000)\n",
    "model_pcat.fit(X_train_pca[:, :n], y_train)\n",
    "model_pcat.score(X_test_pca[:, :n], y_test)"
   ]
  },
  {
   "cell_type": "code",
   "execution_count": 45,
   "metadata": {},
   "outputs": [
    {
     "name": "stdout",
     "output_type": "stream",
     "text": [
      "              precision    recall  f1-score   support\n",
      "\n",
      "           0       0.67      1.00      0.80         2\n",
      "           1       0.67      1.00      0.80         2\n",
      "           2       1.00      1.00      1.00         2\n",
      "           3       1.00      1.00      1.00         2\n",
      "           4       1.00      0.50      0.67         2\n",
      "           5       0.67      1.00      0.80         2\n",
      "           6       1.00      1.00      1.00         2\n",
      "           7       1.00      1.00      1.00         2\n",
      "           8       1.00      1.00      1.00         2\n",
      "           9       1.00      1.00      1.00         2\n",
      "          10       1.00      1.00      1.00         2\n",
      "          11       1.00      1.00      1.00         2\n",
      "          12       0.00      0.00      0.00         2\n",
      "          13       1.00      1.00      1.00         2\n",
      "          14       1.00      1.00      1.00         2\n",
      "          15       1.00      1.00      1.00         2\n",
      "          16       1.00      1.00      1.00         2\n",
      "          17       1.00      1.00      1.00         2\n",
      "          18       1.00      1.00      1.00         2\n",
      "          19       1.00      1.00      1.00         2\n",
      "          20       1.00      1.00      1.00         2\n",
      "          21       1.00      1.00      1.00         2\n",
      "          22       1.00      1.00      1.00         2\n",
      "          23       1.00      1.00      1.00         2\n",
      "          24       1.00      1.00      1.00         2\n",
      "          25       1.00      1.00      1.00         2\n",
      "          26       1.00      1.00      1.00         2\n",
      "          27       0.67      1.00      0.80         2\n",
      "          28       1.00      1.00      1.00         2\n",
      "          29       1.00      1.00      1.00         2\n",
      "          30       1.00      1.00      1.00         2\n",
      "          31       1.00      0.50      0.67         2\n",
      "          32       1.00      1.00      1.00         2\n",
      "          33       1.00      1.00      1.00         2\n",
      "          34       1.00      1.00      1.00         2\n",
      "          35       1.00      1.00      1.00         2\n",
      "          36       1.00      1.00      1.00         2\n",
      "          37       1.00      1.00      1.00         2\n",
      "          38       1.00      1.00      1.00         2\n",
      "          39       1.00      1.00      1.00         2\n",
      "\n",
      "   micro avg       0.95      0.95      0.95        80\n",
      "   macro avg       0.94      0.95      0.94        80\n",
      "weighted avg       0.94      0.95      0.94        80\n",
      "\n"
     ]
    },
    {
     "name": "stderr",
     "output_type": "stream",
     "text": [
      "/anaconda3/lib/python3.7/site-packages/sklearn/metrics/classification.py:1143: UndefinedMetricWarning: Precision and F-score are ill-defined and being set to 0.0 in labels with no predicted samples.\n",
      "  'precision', 'predicted', average, warn_for)\n",
      "/anaconda3/lib/python3.7/site-packages/sklearn/metrics/classification.py:1143: UndefinedMetricWarning: Precision and F-score are ill-defined and being set to 0.0 in labels with no predicted samples.\n",
      "  'precision', 'predicted', average, warn_for)\n",
      "/anaconda3/lib/python3.7/site-packages/sklearn/metrics/classification.py:1143: UndefinedMetricWarning: Precision and F-score are ill-defined and being set to 0.0 in labels with no predicted samples.\n",
      "  'precision', 'predicted', average, warn_for)\n"
     ]
    }
   ],
   "source": [
    "print(metrics.classification_report(y_test,\n",
    "                                    model_pcat.predict(X_test_pca[:, :n])))"
   ]
  },
  {
   "cell_type": "code",
   "execution_count": null,
   "metadata": {},
   "outputs": [],
   "source": []
  }
 ],
 "metadata": {
  "kernelspec": {
   "display_name": "Python 3",
   "language": "python",
   "name": "python3"
  },
  "language_info": {
   "codemirror_mode": {
    "name": "ipython",
    "version": 3
   },
   "file_extension": ".py",
   "mimetype": "text/x-python",
   "name": "python",
   "nbconvert_exporter": "python",
   "pygments_lexer": "ipython3",
   "version": "3.7.3"
  },
  "toc": {
   "base_numbering": 1,
   "nav_menu": {},
   "number_sections": false,
   "sideBar": true,
   "skip_h1_title": true,
   "title_cell": "Table of Contents",
   "title_sidebar": "Contents",
   "toc_cell": false,
   "toc_position": {
    "height": "293px",
    "left": "0px",
    "right": "637.295px",
    "top": "106px",
    "width": "94px"
   },
   "toc_section_display": "block",
   "toc_window_display": false
  }
 },
 "nbformat": 4,
 "nbformat_minor": 2
}
