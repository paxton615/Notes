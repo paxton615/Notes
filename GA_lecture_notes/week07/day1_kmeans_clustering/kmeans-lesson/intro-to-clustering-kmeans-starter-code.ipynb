{
 "cells": [
  {
   "cell_type": "markdown",
   "metadata": {
    "slideshow": {
     "slide_type": "slide"
    }
   },
   "source": [
    "<img src=\"http://imgur.com/1ZcRyrc.png\" style=\"float: left; margin: 20px; height: 55px\">\n",
    "\n",
    "# Introduction to Clustering and K-Means\n",
    "\n",
    "\n",
    "---\n",
    "\n",
    "![](https://snag.gy/kYWumd.jpg)"
   ]
  },
  {
   "cell_type": "markdown",
   "metadata": {
    "slideshow": {
     "slide_type": "slide"
    }
   },
   "source": [
    "## Learning Objectives\n",
    "\n",
    "### Core\n",
    "- Understand basic unsupervised clustering problems\n",
    "- Know how to format and preprocess data for cluster\n",
    "- Perform a K-Means Clustering Analysis with sklearn\n",
    "\n",
    "### Target\n",
    "- Perceive the implication of outliers with clustering\n",
    "- Explain why standardisation of the data is compulsory with clustering\n",
    "- Get a feeling on how to select K\n",
    "\n",
    "### Stretch\n",
    "- Understand the K-means convergence"
   ]
  },
  {
   "cell_type": "markdown",
   "metadata": {
    "toc": true
   },
   "source": [
    "<h1>Lesson Guide<span class=\"tocSkip\"></span></h1>\n",
    "<div class=\"toc\"><ul class=\"toc-item\"><li><span><a href=\"#Learning-Objectives\" data-toc-modified-id=\"Learning-Objectives-2\">Learning Objectives</a></span><ul class=\"toc-item\"><li><span><a href=\"#Core\" data-toc-modified-id=\"Core-2.1\">Core</a></span></li><li><span><a href=\"#Target\" data-toc-modified-id=\"Target-2.2\">Target</a></span></li><li><span><a href=\"#Stretch\" data-toc-modified-id=\"Stretch-2.3\">Stretch</a></span></li></ul></li><li><span><a href=\"#Unsupervised-Learning\" data-toc-modified-id=\"Unsupervised-Learning-3\">Unsupervised Learning</a></span></li><li><span><a href=\"#What-Do-We-Mean-by-&quot;Labeled-Data?&quot;\" data-toc-modified-id=\"What-Do-We-Mean-by-&quot;Labeled-Data?&quot;-4\">What Do We Mean by \"Labeled Data?\"</a></span></li><li><span><a href=\"#What-is-Clustering?\" data-toc-modified-id=\"What-is-Clustering?-5\">What is Clustering?</a></span><ul class=\"toc-item\"><li><span><a href=\"#Uses-for-Clustering\" data-toc-modified-id=\"Uses-for-Clustering-5.1\">Uses for Clustering</a></span></li><li><span><a href=\"#Genetics\" data-toc-modified-id=\"Genetics-5.2\">Genetics</a></span></li><li><span><a href=\"#Consumer-Internet\" data-toc-modified-id=\"Consumer-Internet-5.3\">Consumer Internet</a></span></li><li><span><a href=\"#Business\" data-toc-modified-id=\"Business-5.4\">Business</a></span></li><li><span><a href=\"#Caveats\" data-toc-modified-id=\"Caveats-5.5\">Caveats</a></span></li></ul></li><li><span><a href=\"#Clustering-Algorithms\" data-toc-modified-id=\"Clustering-Algorithms-6\">Clustering Algorithms</a></span></li><li><span><a href=\"#K-Means-Clustering\" data-toc-modified-id=\"K-Means-Clustering-7\">K-Means Clustering</a></span></li><li><span><a href=\"#Refresher:-Euclidean-Distance\" data-toc-modified-id=\"Refresher:-Euclidean-Distance-8\">Refresher: Euclidean Distance</a></span></li><li><span><a href=\"#K-Means:-Step-by-Step\" data-toc-modified-id=\"K-Means:-Step-by-Step-9\">K-Means: Step by Step</a></span></li><li><span><a href=\"#K-Means:-A-Visual-Example\" data-toc-modified-id=\"K-Means:-A-Visual-Example-10\">K-Means: A Visual Example</a></span></li><li><span><a href=\"#A-Few-K-Means-Caveats\" data-toc-modified-id=\"A-Few-K-Means-Caveats-11\">A Few K-Means Caveats</a></span><ul class=\"toc-item\"><li><span><a href=\"#K-means-is-sensitive-to-outliers.\" data-toc-modified-id=\"K-means-is-sensitive-to-outliers.-11.1\">K-means is sensitive to outliers.</a></span></li><li><span><a href=\"#K-means-Is-sensitive-to-centroid-initialization.\" data-toc-modified-id=\"K-means-Is-sensitive-to-centroid-initialization.-11.2\">K-means Is sensitive to centroid initialization.</a></span></li><li><span><a href=\"#How-Many-Ks?\" data-toc-modified-id=\"How-Many-Ks?-11.3\">How Many Ks?</a></span></li></ul></li><li><span><a href=\"#Choosing-K\" data-toc-modified-id=\"Choosing-K-12\">Choosing K</a></span></li><li><span><a href=\"#A-Note-on-K-Means-Convergence\" data-toc-modified-id=\"A-Note-on-K-Means-Convergence-13\">A Note on K-Means Convergence</a></span></li><li><span><a href=\"#K-Means-in-Scikit-Learn\" data-toc-modified-id=\"K-Means-in-Scikit-Learn-14\">K-Means in Scikit-Learn</a></span><ul class=\"toc-item\"><li><span><a href=\"#Create-some-data\" data-toc-modified-id=\"Create-some-data-14.1\">Create some data</a></span></li><li><span><a href=\"#Fit-the-model\" data-toc-modified-id=\"Fit-the-model-14.2\">Fit the model</a></span></li><li><span><a href=\"#Visually-Verifying-Cluster-Labels\" data-toc-modified-id=\"Visually-Verifying-Cluster-Labels-14.3\">Visually Verifying Cluster Labels</a></span></li></ul></li><li><span><a href=\"#Evaluation-metrics\" data-toc-modified-id=\"Evaluation-metrics-15\">Evaluation metrics</a></span><ul class=\"toc-item\"><li><span><a href=\"#Inertia:-the-sum-of-squared-errors-for-each-cluster\" data-toc-modified-id=\"Inertia:-the-sum-of-squared-errors-for-each-cluster-15.1\">Inertia: the sum of squared errors for each cluster</a></span></li><li><span><a href=\"#Inertia-vs.-K-clusters:-the-elbow-method\" data-toc-modified-id=\"Inertia-vs.-K-clusters:-the-elbow-method-15.2\">Inertia vs. K clusters: the elbow method</a></span></li><li><span><a href=\"#Construct-the-elbow-curve-yourself\" data-toc-modified-id=\"Construct-the-elbow-curve-yourself-15.3\">Construct the elbow curve yourself</a></span></li></ul></li><li><span><a href=\"#Practice:-Scikit-Learn-and-K-Means-With-&quot;Isotopic-Composition-Plutonium-Batches&quot;\" data-toc-modified-id=\"Practice:-Scikit-Learn-and-K-Means-With-&quot;Isotopic-Composition-Plutonium-Batches&quot;-16\">Practice: Scikit-Learn and K-Means With \"Isotopic Composition Plutonium Batches\"</a></span><ul class=\"toc-item\"><li><span><a href=\"#Use-Pu239-and-Pu240-as-features\" data-toc-modified-id=\"Use-Pu239-and-Pu240-as-features-16.1\">Use Pu239 and Pu240 as features</a></span></li><li><span><a href=\"#Try-Standardizing-the-Data-First-and-See-How-It-Affects-the-Cluster-Assignment\" data-toc-modified-id=\"Try-Standardizing-the-Data-First-and-See-How-It-Affects-the-Cluster-Assignment-16.2\">Try Standardizing the Data First and See How It Affects the Cluster Assignment</a></span></li></ul></li><li><span><a href=\"#Conclusion\" data-toc-modified-id=\"Conclusion-17\">Conclusion</a></span></li><li><span><a href=\"#Additional-Resources\" data-toc-modified-id=\"Additional-Resources-18\">Additional Resources</a></span></li></ul></div>"
   ]
  },
  {
   "cell_type": "markdown",
   "metadata": {
    "slideshow": {
     "slide_type": "slide"
    }
   },
   "source": [
    "## Unsupervised Learning\n",
    "\n",
    "---\n",
    "\n",
    "We use unsupervised methods when we don't have labeled data. There are no true targets to predict; we derive the likely categories from the structure in our data.\n",
    "\n",
    "> **Supervised --> Classification**: Create a model to predict to which group a point belongs\n",
    "\n",
    "> **Unsupervised --> Clustering**: Find groups that already exist in the data\n"
   ]
  },
  {
   "cell_type": "markdown",
   "metadata": {
    "slideshow": {
     "slide_type": "slide"
    }
   },
   "source": [
    "## What Do We Mean by \"Labeled Data?\"\n",
    "- Give some examples!"
   ]
  },
  {
   "cell_type": "markdown",
   "metadata": {
    "slideshow": {
     "slide_type": "slide"
    }
   },
   "source": [
    "## What is Clustering? \n",
    "\n",
    "---\n",
    "\n",
    "<img src=\"https://snag.gy/BdfATE.jpg\" style=\"width: 500px\">\n",
    "\n",
    "Clustering is one of the most ubiquitous and widespread processes for assigning discrete structure to data. In clustering, we group observations together in a data set such that the members of a group are more similar to each other than they are to members of other groups. There are a wide variety of methods and criteria for performing this task.\n",
    "\n",
    "**Properties of clustering procedures:**\n",
    "\n",
    "- No \"true\" target/response to compare\n",
    "- Predictions of labels are based on the structure of the data\n",
    "- We have to formulate an optimization criterion to obtain a specific cluster structure\n",
    "\n",
    "For example: Your employer gives you a data set of voter preferences from a local poll. They want you to figure out how these voters are grouping based on their preferences. The answer? Clustering!"
   ]
  },
  {
   "cell_type": "markdown",
   "metadata": {
    "slideshow": {
     "slide_type": "slide"
    }
   },
   "source": [
    "### Uses for Clustering \n",
    "   - Finding items with similar behavior (users, products, voters, etc.)\n",
    "   - Market segmentation\n",
    "   - Understanding complex systems\n",
    "   - Discovering meaningful categories for your data\n",
    "   - Reducing the number of classes by grouping (e.g., bourbons, scotches -> whiskeys)\n",
    "   - Reducing the dimensions of your problem\n",
    "   - As a pre-processing step to create labels for supervised learning"
   ]
  },
  {
   "cell_type": "markdown",
   "metadata": {
    "slideshow": {
     "slide_type": "slide"
    }
   },
   "source": [
    "### Genetics\n",
    "![](https://snag.gy/TP2RA4.jpg)"
   ]
  },
  {
   "cell_type": "markdown",
   "metadata": {
    "slideshow": {
     "slide_type": "slide"
    }
   },
   "source": [
    "### Consumer Internet\n",
    "\n",
    "<table>\n",
    "    <tr>\n",
    "        <td><img src=\"https://snag.gy/EbLeqd.jpg\"></td>\n",
    "        <td><img src=\"https://snag.gy/xsNvK8.jpg\"></td>\n",
    "    </tr>\n",
    "</table>\n"
   ]
  },
  {
   "cell_type": "markdown",
   "metadata": {
    "slideshow": {
     "slide_type": "slide"
    }
   },
   "source": [
    "### Business\n",
    "\n",
    "<table>\n",
    "    <tr>\n",
    "    <td><img src=\"https://snag.gy/pDueQ2.jpg\" width=\"500\"></td>\n",
    "    <td>\n",
    "        <li>Identifying demographics</li>\n",
    "        <li>Spending patterns</li>\n",
    "        <li>Consumer trends</li>\n",
    "        <li>Customer characteristics</li>\n",
    "        <li>Recommender systems</li>\n",
    "        <li>Taxonomy/categorization</li>\n",
    "    </td>\n",
    "    </tr>\n",
    "</table>\n"
   ]
  },
  {
   "cell_type": "markdown",
   "metadata": {
    "slideshow": {
     "slide_type": "slide"
    }
   },
   "source": [
    "### Caveats\n",
    "\n",
    "- Difficult to evaluate the results of clustering without subject matter expertise\n",
    "\n",
    "   \n",
    "  \n",
    " \n",
    " "
   ]
  },
  {
   "cell_type": "markdown",
   "metadata": {
    "slideshow": {
     "slide_type": "slide"
    }
   },
   "source": [
    "## Clustering Algorithms \n",
    "\n",
    "---\n",
    "\n",
    "There are many different algorithms that can perform clustering when given a data set. In this course, we are going to learn about the following three:\n",
    "\n",
    "- **K-means**: Mean centroids\n",
    "- **Hierarchical**: Nested clusters created by merging or splitting successively\n",
    "    - **Agglomerative clustering**: Bottom-up approach for hierarchical clustering\n",
    "    - **Divisive clustering**: Top-down approach for hierarchical clustering\n",
    "- **DBSCAN**: Density based"
   ]
  },
  {
   "cell_type": "markdown",
   "metadata": {
    "slideshow": {
     "slide_type": "slide"
    }
   },
   "source": [
    "## K-Means Clustering\n",
    "\n",
    "---\n",
    "\n",
    "K-means is one of the most popular clustering algorithms and also one of the easiest clustering methods to understand.\n",
    "\n",
    "- **$k$** is the number of clusters.\n",
    "- **Means** refers to the center points of the $k$ clusters.\n",
    "\n",
    "The number of clusters, $k$, is chosen in advance. The goal is to partition the data into sets such that the total sum of squared distances from each point to the mean point of the cluster is minimized.\n",
    "\n",
    "The algorithm takes your entire data set and iterates over its features and observations to determine clusters based around center points. These center points are known as **centroids**. \n",
    "\n",
    "**K-means iterative fitting:**\n",
    "\n",
    "1. Pick a value for k (the number of clusters to create).\n",
    "2. Initialize k centroids (starting points) in your data.\n",
    "3. Create your clusters. Assign each point to the nearest centroid. \n",
    "4. Make your clusters better. Move each centroid to the center of its cluster. \n",
    "5. Repeat Steps 3 and 4 until your centroids converge. \n",
    "\n",
    "> **Note:** Unfortunately, there's no single way to determine the absolute best number of $k$ clusters. Unsupervised learning is inherently subjective! We can, however, choose the \"best\" $k$ based on predetermined criteria. "
   ]
  },
  {
   "cell_type": "markdown",
   "metadata": {
    "slideshow": {
     "slide_type": "slide"
    }
   },
   "source": [
    "## Refresher: Euclidean Distance\n",
    "\n",
    "---\n",
    "\n",
    "In the above algorithm, we are asked to measure the distance between points. The k-means algorithm uses the Euclidean distance for that purpose. For two points from an $N$-dimensional space, this distance is\n",
    "\n",
    "$$ d(x_1, x_2) = \\sqrt{\\sum_{i=1}^N (x_{1i} - x_{2i})^2} $$\n",
    "\n",
    "**As an example, take two points:**\n",
    "\n",
    "- $x_1 = (2, -1)$\n",
    "- $x_2 = (-2, 2)$\n",
    "\n",
    "**The Euclidean distance between these two points is:**\n",
    "\n",
    "$$\\begin{aligned}\n",
    "d(x_1, x_2) &= \\sqrt{ (2 - (-2))^2 + ((-1) - 2)^2 } \\\\\n",
    "d(x_1, x_2) &= \\sqrt{25} \\\\\n",
    "d(x_1, x_2) &= 5 \n",
    "\\end{aligned}$$\n",
    "\n",
    "**Using scikit-learn:**\n",
    "```python\n",
    "import numpy as np\n",
    "from sklearn.metrics import euclidean_distances\n",
    "X = np.array([[2, -1], [-2, 2]])\n",
    "print(euclidean_distances(X))\n",
    "```"
   ]
  },
  {
   "cell_type": "code",
   "execution_count": 4,
   "metadata": {},
   "outputs": [
    {
     "name": "stdout",
     "output_type": "stream",
     "text": [
      "[[0. 5.]\n",
      " [5. 0.]]\n"
     ]
    }
   ],
   "source": [
    "import numpy as np\n",
    "from sklearn.metrics import euclidean_distances\n",
    "X = np.array([[2, -1], [-2, 2]])\n",
    "print(euclidean_distances(X))"
   ]
  },
  {
   "cell_type": "markdown",
   "metadata": {
    "slideshow": {
     "slide_type": "slide"
    }
   },
   "source": [
    "## K-Means: Step by Step\n",
    "\n",
    "---\n",
    "\n",
    "<table width=\"500\" cellpadding=\"50\"> \n",
    "<tr>\n",
    "   <td><img src=\"https://snag.gy/7haoS3.jpg\" style=\"width: 150px\"></td>\n",
    "   <td style=\"vertical-align: top; width: 400px;\"><br><b>Step 1</b><br>We have data in an n-dimensional feature space (2-D, for example).</td>\n",
    "</tr>\n",
    "<tr>\n",
    "</table>"
   ]
  },
  {
   "cell_type": "markdown",
   "metadata": {
    "slideshow": {
     "slide_type": "subslide"
    }
   },
   "source": [
    "<table width=500 cellpadding=\"50\"> \n",
    "<tr>\n",
    "   <td><img src=\"https://snag.gy/DaIVgk.jpg\" style=\"width: 150px !important;\"></td>\n",
    "   <td style=\"align: top; width: 400px; vertical-align: top;\"><br><b>Step 2</b><br>Initialize k centroids (2 here).</td>\n",
    "</tr>\n",
    "<tr>\n",
    "</table>"
   ]
  },
  {
   "cell_type": "markdown",
   "metadata": {
    "slideshow": {
     "slide_type": "subslide"
    }
   },
   "source": [
    "<table width=500 cellpadding=\"50\"> \n",
    "<tr>\n",
    "   <td><img src=\"https://snag.gy/DaIVgk.jpg\" style=\"width: 150px !important;\"></td>\n",
    "   <td style=\"align: top; width: 400px; vertical-align: top;\"><b>Step 3</b><br>Assign points to closest cluster based on Euclidean distance.<br><br>$\\sqrt{(x_1-x_2)^2 + (y_1-y_2)^2}$\n",
    "\n",
    "   </td>\n",
    "</tr>\n",
    "<tr>\n",
    "</table>"
   ]
  },
  {
   "cell_type": "markdown",
   "metadata": {
    "slideshow": {
     "slide_type": "subslide"
    }
   },
   "source": [
    "<table width=500 cellpadding=\"50\"> \n",
    "<tr>\n",
    "   <td><img src=\"https://snag.gy/NY1EeT.jpg\" style=\"width: 150px !important;\"></td>\n",
    "   <td style=\"align: top; width: 400px; vertical-align: top;\"><b>Step 4</b><br>Calculate mean of points assigned to centroids (2 here). Update new centroid positions to mean.<br><br>$\\text{ new centroid position}= \\bar{x}, \\bar{y}$\n",
    "   </td>\n",
    "</tr>\n",
    "<tr>\n",
    "</table>"
   ]
  },
  {
   "cell_type": "markdown",
   "metadata": {
    "slideshow": {
     "slide_type": "subslide"
    }
   },
   "source": [
    "<table width=500 cellpadding=\"50\"> \n",
    "<tr>\n",
    "   <td><img src=\"https://snag.gy/tSfDZs.jpg\" style=\"width: 150px !important;\"></td>\n",
    "   <td style=\"align: top; width: 400px; vertical-align: top;\"><b>Step 5</b><br>Repeat Steps 3–4, updating class membership based on centroid distance.\n",
    "   </td>\n",
    "</tr>\n",
    "<tr>\n",
    "</table>"
   ]
  },
  {
   "cell_type": "markdown",
   "metadata": {
    "slideshow": {
     "slide_type": "subslide"
    }
   },
   "source": [
    "<table width=500 cellpadding=\"50\"> \n",
    "<tr>\n",
    "   <td><img src=\"https://snag.gy/BbIicn.jpg\" style=\"width: 150px !important;\"></td>\n",
    "   <td style=\"align: top; width: 400px; vertical-align: top;\"><b>End</b><br>Convergence is met once all points no longer change to a new class (defined by closest centroid distance).\n",
    "   </td>\n",
    "</tr>\n",
    "<tr>\n",
    "</table>"
   ]
  },
  {
   "cell_type": "markdown",
   "metadata": {
    "slideshow": {
     "slide_type": "slide"
    }
   },
   "source": [
    "## K-Means: A Visual Example\n",
    "\n",
    "\n",
    "---\n",
    "\n",
    "![](https://snag.gy/5hFXUA.jpg)"
   ]
  },
  {
   "cell_type": "markdown",
   "metadata": {
    "slideshow": {
     "slide_type": "slide"
    }
   },
   "source": [
    "## A Few K-Means Caveats\n",
    "\n",
    "---\n",
    "\n",
    "Nothing is perfect!"
   ]
  },
  {
   "cell_type": "markdown",
   "metadata": {
    "slideshow": {
     "slide_type": "subslide"
    }
   },
   "source": [
    "\n",
    "### K-means is sensitive to outliers.\n",
    "\n",
    "![](https://snag.gy/WFNMQY.jpg)"
   ]
  },
  {
   "cell_type": "markdown",
   "metadata": {
    "slideshow": {
     "slide_type": "subslide"
    }
   },
   "source": [
    "### K-means Is sensitive to centroid initialization.\n",
    "\n",
    "![](https://snag.gy/5sigCD.jpg)"
   ]
  },
  {
   "cell_type": "markdown",
   "metadata": {
    "slideshow": {
     "slide_type": "slide"
    }
   },
   "source": [
    "### How Many Ks?\n",
    "\n",
    "Sometimes it's obvious; sometimes it's not. What do you think?\n",
    "\n",
    "<table>\n",
    "    <tr>\n",
    "        <td valign=\"bottom\" style=\"vertical-align: bottom; text-align: center;\"><img src=\"http://i.stack.imgur.com/4rU39.png\"><br>1</td>\n",
    "        <td valign=\"bottom\" style=\"vertical-align: bottom; text-align: center;\"><img src=\"http://i.stack.imgur.com/gq28F.png\"><br>2</td>\n",
    "        <td valign=\"bottom\" style=\"vertical-align: bottom; text-align: center;\"><img src=\"https://snag.gy/cWPgno.jpg\"><br>3</td>\n",
    "    </tr>\n",
    "</table>"
   ]
  },
  {
   "cell_type": "markdown",
   "metadata": {
    "slideshow": {
     "slide_type": "slide"
    }
   },
   "source": [
    "<a id='choose-k'></a>\n",
    "## Choosing K\n",
    "\n",
    "---\n",
    "\n",
    "There are different methods of initializing centroids. For instance:\n",
    "\n",
    "- Randomly\n",
    "- Manually\n",
    "- Special `k-means++` method in scikit-learn (this initializes the centroids to be generally distant from each other)\n",
    "\n",
    "**Depending on your problem, you may find some of these are better than others.**\n",
    "\n",
    "> **Note:** Manual is recommended if you know your data well enough to see the clusters without much help but is rarely used in practice."
   ]
  },
  {
   "cell_type": "markdown",
   "metadata": {
    "slideshow": {
     "slide_type": "slide"
    }
   },
   "source": [
    "## A Note on K-Means Convergence\n",
    "\n",
    "---\n",
    "\n",
    "In general, k-means will converge to a solution and return a partition of k clusters, even if no natural clusters exist in the data. It's entirely possible – *common*, in fact – that the clusters don't mean anything at all. \n",
    "\n",
    "**Knowing your domain and data set is essential. Evaluating the clusters visually is a must (if possible).**\n",
    "\n",
    "> _\"Given enough time, K-means will always converge, however this may be to a local minimum. This is highly dependent on the initialization of the centroids. As a result, the computation is often done several times with different initializations of the centroids. One method to help address this issue is the `k-means++` initialization scheme, which has been implemented in scikit-learn (use the `init='kmeans++'` parameter). This initializes the centroids to be (generally) distant from each other, leading to provably better results than random initialization, as shown in the reference.\"_ — [Scikit-Learn Clustering Guide](http://scikit-learn.org/stable/modules/clustering.html#k-means)\n",
    "\n",
    "![](http://www.datamilk.com/kmeans_animation.gif)\n",
    "\n",
    "Source: www.datamilk.com"
   ]
  },
  {
   "cell_type": "markdown",
   "metadata": {
    "slideshow": {
     "slide_type": "slide"
    }
   },
   "source": [
    "## K-Means in Scikit-Learn\n",
    "\n",
    "---\n",
    "\n",
    "Below, we will implement k-means using scikit-learn."
   ]
  },
  {
   "cell_type": "code",
   "execution_count": 5,
   "metadata": {},
   "outputs": [],
   "source": [
    "import pandas as pd\n",
    "import numpy as np\n",
    "import matplotlib.pyplot as plt\n",
    "import seaborn as sns\n",
    "sns.set(font_scale=1.5)\n",
    "\n",
    "%config InlineBackend.figure_format = 'retina'\n",
    "%matplotlib inline"
   ]
  },
  {
   "cell_type": "markdown",
   "metadata": {},
   "source": [
    "### Create some data"
   ]
  },
  {
   "cell_type": "code",
   "execution_count": 6,
   "metadata": {
    "slideshow": {
     "slide_type": "-"
    }
   },
   "outputs": [],
   "source": [
    "from sklearn.datasets.samples_generator import make_blobs"
   ]
  },
  {
   "cell_type": "code",
   "execution_count": 33,
   "metadata": {
    "slideshow": {
     "slide_type": "-"
    }
   },
   "outputs": [
    {
     "data": {
      "text/html": [
       "<div>\n",
       "<style scoped>\n",
       "    .dataframe tbody tr th:only-of-type {\n",
       "        vertical-align: middle;\n",
       "    }\n",
       "\n",
       "    .dataframe tbody tr th {\n",
       "        vertical-align: top;\n",
       "    }\n",
       "\n",
       "    .dataframe thead th {\n",
       "        text-align: right;\n",
       "    }\n",
       "</style>\n",
       "<table border=\"1\" class=\"dataframe\">\n",
       "  <thead>\n",
       "    <tr style=\"text-align: right;\">\n",
       "      <th></th>\n",
       "      <th>x</th>\n",
       "      <th>y</th>\n",
       "    </tr>\n",
       "  </thead>\n",
       "  <tbody>\n",
       "    <tr>\n",
       "      <th>0</th>\n",
       "      <td>-1.630356</td>\n",
       "      <td>3.357972</td>\n",
       "    </tr>\n",
       "    <tr>\n",
       "      <th>1</th>\n",
       "      <td>0.802314</td>\n",
       "      <td>4.381962</td>\n",
       "    </tr>\n",
       "    <tr>\n",
       "      <th>2</th>\n",
       "      <td>1.053744</td>\n",
       "      <td>4.492869</td>\n",
       "    </tr>\n",
       "    <tr>\n",
       "      <th>3</th>\n",
       "      <td>-1.478042</td>\n",
       "      <td>3.209359</td>\n",
       "    </tr>\n",
       "    <tr>\n",
       "      <th>4</th>\n",
       "      <td>1.125389</td>\n",
       "      <td>4.966980</td>\n",
       "    </tr>\n",
       "  </tbody>\n",
       "</table>\n",
       "</div>"
      ],
      "text/plain": [
       "          x         y\n",
       "0 -1.630356  3.357972\n",
       "1  0.802314  4.381962\n",
       "2  1.053744  4.492869\n",
       "3 -1.478042  3.209359\n",
       "4  1.125389  4.966980"
      ]
     },
     "execution_count": 33,
     "metadata": {},
     "output_type": "execute_result"
    }
   ],
   "source": [
    "X, y = make_blobs(\n",
    "    n_samples=200, \n",
    "    centers=3, \n",
    "    cluster_std=0.5,\n",
    "    n_features=2,\n",
    "    random_state=0\n",
    ")\n",
    "\n",
    "\n",
    "X = pd.DataFrame(X, columns=['x', 'y'])\n",
    "X.head()"
   ]
  },
  {
   "cell_type": "code",
   "execution_count": 34,
   "metadata": {
    "slideshow": {
     "slide_type": "slide"
    }
   },
   "outputs": [
    {
     "data": {
      "image/png": "[encoded data removed]",
      "text/plain": [
       "<Figure size 432x432 with 1 Axes>"
      ]
     },
     "metadata": {
      "image/png": {
       "height": 386,
       "width": 388
      },
      "needs_background": "light"
     },
     "output_type": "display_data"
    }
   ],
   "source": [
    "X.plot(kind=\"scatter\", x=\"x\", y=\"y\", c='b', figsize=(6, 6))\n",
    "plt.show()"
   ]
  },
  {
   "cell_type": "code",
   "execution_count": 35,
   "metadata": {},
   "outputs": [],
   "source": [
    "from sklearn.preprocessing import StandardScaler\n",
    "scaler = StandardScaler()\n",
    "Xstd = pd.DataFrame(scaler.fit_transform(X), columns=X.columns)"
   ]
  },
  {
   "cell_type": "markdown",
   "metadata": {},
   "source": [
    "### Fit the model"
   ]
  },
  {
   "cell_type": "code",
   "execution_count": 36,
   "metadata": {},
   "outputs": [],
   "source": [
    "from sklearn.cluster import KMeans"
   ]
  },
  {
   "cell_type": "code",
   "execution_count": 37,
   "metadata": {
    "slideshow": {
     "slide_type": "slide"
    }
   },
   "outputs": [
    {
     "data": {
      "text/plain": [
       "KMeans(algorithm='auto', copy_x=True, init='k-means++', max_iter=300,\n",
       "    n_clusters=3, n_init=10, n_jobs=None, precompute_distances='auto',\n",
       "    random_state=0, tol=0.0001, verbose=0)"
      ]
     },
     "execution_count": 37,
     "metadata": {},
     "output_type": "execute_result"
    }
   ],
   "source": [
    "model = KMeans(n_clusters=3, random_state=0)\n",
    "model.fit(Xstd)"
   ]
  },
  {
   "cell_type": "markdown",
   "metadata": {
    "slideshow": {
     "slide_type": "-"
    }
   },
   "source": [
    "After we fit our data, we can get our predicted labels from `model.labels_` and the center points`model.cluster_centers_`."
   ]
  },
  {
   "cell_type": "code",
   "execution_count": 39,
   "metadata": {
    "slideshow": {
     "slide_type": "-"
    }
   },
   "outputs": [
    {
     "name": "stdout",
     "output_type": "stream",
     "text": [
      "Assigned cluster labels: \n",
      " [2 0 0 2 0 2 1 1 0 2 0 2 0 0 0 2 1 1 0 2 2 1 0 0 2 0 1 2 2 2 0 0 2 0 1 1 0\n",
      " 1 1 2 1 2 2 2 0 0 0 2 0 0 0 1 2 2 2 2 1 1 0 0 2 2 0 1 1 2 1 1 2 1 1 0 0 2\n",
      " 0 2 1 1 1 2 2 0 0 1 1 0 0 2 0 1 2 2 1 0 1 0 0 2 2 1 1 0 2 0 2 0 1 0 0 1 0\n",
      " 2 1 2 0 0 0 1 2 2 1 1 2 0 1 0 2 1 2 0 2 1 1 1 0 1 1 0 1 2 2 2 0 1 1 0 2 2\n",
      " 1 0 1 2 2 2 0 1 1 1 0 0 2 2 2 2 0 0 1 2 1 1 0 1 0 1 2 2 0 2 0 1 0 2 1 1 1\n",
      " 0 2 1 0 0 2 2 1 1 1 1 2 1 0 1]\n"
     ]
    }
   ],
   "source": [
    "cluster_labels = model.labels_\n",
    "print(\"Assigned cluster labels: \\n\", cluster_labels)"
   ]
  },
  {
   "cell_type": "code",
   "execution_count": 40,
   "metadata": {
    "slideshow": {
     "slide_type": "-"
    }
   },
   "outputs": [
    {
     "name": "stdout",
     "output_type": "stream",
     "text": [
      "Location of centroids: \n",
      "[[ 0.31556819  1.09570085]\n",
      " [ 0.96708696 -1.21723139]\n",
      " [-1.30208932  0.12337191]]\n"
     ]
    }
   ],
   "source": [
    "centroids = model.cluster_centers_\n",
    "print(\"Location of centroids: \")\n",
    "print(centroids)"
   ]
  },
  {
   "cell_type": "code",
   "execution_count": 49,
   "metadata": {
    "slideshow": {
     "slide_type": "-"
    }
   },
   "outputs": [
    {
     "data": {
      "text/html": [
       "<div>\n",
       "<style scoped>\n",
       "    .dataframe tbody tr th:only-of-type {\n",
       "        vertical-align: middle;\n",
       "    }\n",
       "\n",
       "    .dataframe tbody tr th {\n",
       "        vertical-align: top;\n",
       "    }\n",
       "\n",
       "    .dataframe thead th {\n",
       "        text-align: right;\n",
       "    }\n",
       "</style>\n",
       "<table border=\"1\" class=\"dataframe\">\n",
       "  <thead>\n",
       "    <tr style=\"text-align: right;\">\n",
       "      <th></th>\n",
       "      <th>x</th>\n",
       "      <th>y</th>\n",
       "      <th>clusters</th>\n",
       "    </tr>\n",
       "  </thead>\n",
       "  <tbody>\n",
       "    <tr>\n",
       "      <th>0</th>\n",
       "      <td>-1.304823</td>\n",
       "      <td>0.421877</td>\n",
       "      <td>2</td>\n",
       "    </tr>\n",
       "    <tr>\n",
       "      <th>1</th>\n",
       "      <td>0.213567</td>\n",
       "      <td>1.086184</td>\n",
       "      <td>0</td>\n",
       "    </tr>\n",
       "    <tr>\n",
       "      <th>2</th>\n",
       "      <td>0.370501</td>\n",
       "      <td>1.158135</td>\n",
       "      <td>0</td>\n",
       "    </tr>\n",
       "    <tr>\n",
       "      <th>3</th>\n",
       "      <td>-1.209753</td>\n",
       "      <td>0.325465</td>\n",
       "      <td>2</td>\n",
       "    </tr>\n",
       "    <tr>\n",
       "      <th>4</th>\n",
       "      <td>0.415219</td>\n",
       "      <td>1.465712</td>\n",
       "      <td>0</td>\n",
       "    </tr>\n",
       "  </tbody>\n",
       "</table>\n",
       "</div>"
      ],
      "text/plain": [
       "          x         y  clusters\n",
       "0 -1.304823  0.421877         2\n",
       "1  0.213567  1.086184         0\n",
       "2  0.370501  1.158135         0\n",
       "3 -1.209753  0.325465         2\n",
       "4  0.415219  1.465712         0"
      ]
     },
     "execution_count": 49,
     "metadata": {},
     "output_type": "execute_result"
    }
   ],
   "source": [
    "Xstd['clusters'] = cluster_labels\n",
    "Xstd.head()"
   ]
  },
  {
   "cell_type": "markdown",
   "metadata": {
    "slideshow": {
     "slide_type": "slide"
    }
   },
   "source": [
    "### Visually Verifying Cluster Labels"
   ]
  },
  {
   "cell_type": "code",
   "execution_count": 42,
   "metadata": {
    "slideshow": {
     "slide_type": "-"
    }
   },
   "outputs": [
    {
     "data": {
      "image/png": "[encoded data removed]",
      "text/plain": [
       "<Figure size 504x504 with 1 Axes>"
      ]
     },
     "metadata": {
      "image/png": {
       "height": 440,
       "width": 467
      },
      "needs_background": "light"
     },
     "output_type": "display_data"
    }
   ],
   "source": [
    "from matplotlib import pyplot as plt\n",
    "\n",
    "fig, ax = plt.subplots(figsize=(7,7))\n",
    "\n",
    "Xstd.plot(x=\"x\", y=\"y\", kind=\"scatter\", c=Xstd['clusters'], colormap='Spectral', ax=ax, colorbar=False)\n",
    "ax.scatter(centroids[:,0], centroids[:,1], marker='o', s=150, alpha=.7, c=range(0,3), \n",
    "            cmap='Spectral')\n",
    "plt.show()"
   ]
  },
  {
   "cell_type": "markdown",
   "metadata": {
    "slideshow": {
     "slide_type": "slide"
    }
   },
   "source": [
    "## Evaluation metrics"
   ]
  },
  {
   "cell_type": "markdown",
   "metadata": {
    "slideshow": {
     "slide_type": "slide"
    }
   },
   "source": [
    "### Inertia: the sum of squared errors for each cluster\n",
    "\n",
    "The position of the centroids is found by minimizing the within-cluster sum (inertia) for each cluster:\n",
    "\n",
    "$$\\sum_{i=1}^k\\sum_{j\\in i} (x_j - \\mu_i)^2$$\n",
    "\n",
    "- $i$ runs over all the clusters\n",
    "- $j$ runs over all observations in cluster $i$\n",
    "- $\\mu_i$ are the centroids\n",
    "- $x_j$ are the positions of the observations\n",
    "\n",
    "Sometimes, inertia are also referred to as the measure of \"cohesion\". Inertia can take any positive value. They are low for very dense clusters.\n",
    "We can extract the inertia with the attribute\n",
    "`.inertia_`."
   ]
  },
  {
   "cell_type": "code",
   "execution_count": 43,
   "metadata": {},
   "outputs": [
    {
     "data": {
      "text/plain": [
       "38.05406829425627"
      ]
     },
     "execution_count": 43,
     "metadata": {},
     "output_type": "execute_result"
    }
   ],
   "source": [
    "model.inertia_"
   ]
  },
  {
   "cell_type": "markdown",
   "metadata": {},
   "source": [
    "We can calculate the inertia explicitly with the formula above, i.e. calculate the distance between each observation and the centroid of the cluster to which it belongs, square it and sum them all up."
   ]
  },
  {
   "cell_type": "code",
   "execution_count": 44,
   "metadata": {},
   "outputs": [
    {
     "data": {
      "text/plain": [
       "38.05406829425628"
      ]
     },
     "execution_count": 44,
     "metadata": {},
     "output_type": "execute_result"
    }
   ],
   "source": [
    "inertia = 0\n",
    "for i, centroid in enumerate(centroids):\n",
    "    inertia += Xstd[Xstd.clusters==i][['x','y']].apply(\n",
    "        lambda x: euclidean_distances([x, centroid])[0,1]**2, axis=1).sum()\n",
    "inertia"
   ]
  },
  {
   "cell_type": "markdown",
   "metadata": {},
   "source": [
    "**Question:** What do you think will happen with the inertia if the number of clusters is increased?"
   ]
  },
  {
   "cell_type": "markdown",
   "metadata": {},
   "source": [
    "### Inertia vs. K clusters: the elbow method\n",
    "\n",
    "You can plot the inertia vs. the number of clusters K to get an idea of what the optimal number of clusters would be for the dataset. The \"elbow\" technique, though controversial, is a great heuristic to evaluate the optimal K.  Basically, we look for the K where the inertia has an \"elbow\": the point where decreases in inertia are considerably more marginal than for previous increases in K.\n",
    "\n",
    ">\"More precisely, if one plots the percentage of variance explained by the clusters against the number of clusters, the first clusters will add much information (explain a lot of variance), but at some point the marginal gain will drop, giving an angle in the graph. The number of clusters is chosen at this point, hence the \"elbow criterion\". This \"elbow\" cannot always be unambiguously identified.\" [Elbow Method](https://en.wikipedia.org/wiki/Determining_the_number_of_clusters_in_a_data_set#The_Elbow_Method)\n",
    "\n",
    "An elbow plot may look something like this:\n",
    "\n",
    "![](http://i.stack.imgur.com/BzwBY.png)"
   ]
  },
  {
   "cell_type": "code",
   "execution_count": 45,
   "metadata": {},
   "outputs": [],
   "source": [
    "from scikitplot.cluster import plot_elbow_curve"
   ]
  },
  {
   "cell_type": "code",
   "execution_count": 46,
   "metadata": {},
   "outputs": [
    {
     "data": {
      "image/png": "[encoded data removed]",
      "text/plain": [
       "<Figure size 432x288 with 2 Axes>"
      ]
     },
     "metadata": {
      "image/png": {
       "height": 279,
       "width": 436
      },
      "needs_background": "light"
     },
     "output_type": "display_data"
    }
   ],
   "source": [
    "plot_elbow_curve(model, Xstd, cluster_ranges=range(1, 11))\n",
    "plt.show()"
   ]
  },
  {
   "cell_type": "markdown",
   "metadata": {},
   "source": [
    "### Construct the elbow curve yourself\n",
    "\n",
    "- Fit KMeans with varying number of clusters\n",
    "- Calculate the inertia each time\n",
    "- Plot the inertia versus the number of clusters\n",
    "- Compare to scikit-plot"
   ]
  },
  {
   "cell_type": "code",
   "execution_count": 47,
   "metadata": {},
   "outputs": [],
   "source": [
    "#A:"
   ]
  },
  {
   "cell_type": "markdown",
   "metadata": {
    "slideshow": {
     "slide_type": "slide"
    }
   },
   "source": [
    "## Practice: Scikit-Learn and K-Means With \"Isotopic Composition Plutonium Batches\"\n",
    "\n",
    "---\n",
    "\n",
    "\n",
    "Datasets from R-packages can be directly loaded with the help of statsmodels. A nice overview of R-datasets indicating the dataset name and R-package can be found [here](http://vincentarelbundock.github.io/Rdatasets/datasets.html).\n",
    "\n",
    "We have a nice [data dictionary](https://vincentarelbundock.github.io/Rdatasets/doc/cluster/pluton.html).\n",
    "\n",
    "    Pu238: The percentage of (238)Pu, always less than two percent.\n",
    "\n",
    "    Pu239: The percentage of (239)Pu, typically between 60 and 80 percent (from neutron capture of Uranium, (238)U).\n",
    "\n",
    "    Pu240: The percentage of the plutonium 240 isotope.\n",
    "\n",
    "    Pu241: The percentage of the plutonium 241 isotope."
   ]
  },
  {
   "cell_type": "code",
   "execution_count": 21,
   "metadata": {},
   "outputs": [],
   "source": [
    "from statsmodels.datasets import get_rdataset"
   ]
  },
  {
   "cell_type": "code",
   "execution_count": 22,
   "metadata": {},
   "outputs": [],
   "source": [
    "data = get_rdataset('pluton', package='cluster')"
   ]
  },
  {
   "cell_type": "code",
   "execution_count": 23,
   "metadata": {},
   "outputs": [
    {
     "data": {
      "text/plain": [
       "dict_keys(['data', '__doc__', 'package', 'title', 'from_cache'])"
      ]
     },
     "execution_count": 23,
     "metadata": {},
     "output_type": "execute_result"
    }
   ],
   "source": [
    "data.keys()"
   ]
  },
  {
   "cell_type": "code",
   "execution_count": 24,
   "metadata": {},
   "outputs": [
    {
     "name": "stdout",
     "output_type": "stream",
     "text": [
      "+--------+-----------------+\n",
      "| pluton | R Documentation |\n",
      "+--------+-----------------+\n",
      "\n",
      "Isotopic Composition Plutonium Batches\n",
      "--------------------------------------\n",
      "\n",
      "Description\n",
      "~~~~~~~~~~~\n",
      "\n",
      "The ``pluton`` data frame has 45 rows and 4 columns, containing\n",
      "percentages of isotopic composition of 45 Plutonium batches.\n",
      "\n",
      "Usage\n",
      "~~~~~\n",
      "\n",
      "::\n",
      "\n",
      "   data(pluton)\n",
      "\n",
      "Format\n",
      "~~~~~~\n",
      "\n",
      "This data frame contains the following columns:\n",
      "\n",
      "Pu238\n",
      "   the percentages of *(238)Pu*, always less than 2 percent.\n",
      "\n",
      "Pu239\n",
      "   the percentages of *(239)Pu*, typically between 60 and 80 percent\n",
      "   (from neutron capture of Uranium, *(238)U*).\n",
      "\n",
      "Pu240\n",
      "   percentage of the plutonium 240 isotope.\n",
      "\n",
      "Pu241\n",
      "   percentage of the plutonium 241 isotope.\n",
      "\n",
      "Details\n",
      "~~~~~~~\n",
      "\n",
      "Note that the percentage of plutonium~242 can be computed from the other\n",
      "four percentages, see the examples.\n",
      "\n",
      "In the reference below it is explained why it is very desirable to\n",
      "combine these plutonium patches in three groups of similar size.\n",
      "\n",
      "Source\n",
      "~~~~~~\n",
      "\n",
      "Available as ‘pluton.dat’ from the archive of the University of\n",
      "Antwerpen, ‘..../datasets/clusplot-examples.tar.gz’, no longer\n",
      "available.\n",
      "\n",
      "References\n",
      "~~~~~~~~~~\n",
      "\n",
      "Rousseeuw, P.J. and Kaufman, L and Trauwaert, E. (1996) Fuzzy clustering\n",
      "using scatter matrices, *Computational Statistics and Data Analysis*\n",
      "**23**\\ (1), 135–151.\n",
      "\n",
      "Examples\n",
      "~~~~~~~~\n",
      "\n",
      "::\n",
      "\n",
      "   data(pluton)\n",
      "\n",
      "   hist(apply(pluton,1,sum), col = \"gray\") # between 94% and 100%\n",
      "   pu5 <- pluton\n",
      "   pu5$Pu242 <- 100 - apply(pluton,1,sum) # the remaining isotope.\n",
      "   pairs(pu5)\n",
      "\n"
     ]
    }
   ],
   "source": [
    "print(data.__doc__)"
   ]
  },
  {
   "cell_type": "code",
   "execution_count": 51,
   "metadata": {},
   "outputs": [
    {
     "data": {
      "text/html": [
       "<div>\n",
       "<style scoped>\n",
       "    .dataframe tbody tr th:only-of-type {\n",
       "        vertical-align: middle;\n",
       "    }\n",
       "\n",
       "    .dataframe tbody tr th {\n",
       "        vertical-align: top;\n",
       "    }\n",
       "\n",
       "    .dataframe thead th {\n",
       "        text-align: right;\n",
       "    }\n",
       "</style>\n",
       "<table border=\"1\" class=\"dataframe\">\n",
       "  <thead>\n",
       "    <tr style=\"text-align: right;\">\n",
       "      <th></th>\n",
       "      <th>Pu238</th>\n",
       "      <th>Pu239</th>\n",
       "      <th>Pu240</th>\n",
       "      <th>Pu241</th>\n",
       "    </tr>\n",
       "  </thead>\n",
       "  <tbody>\n",
       "    <tr>\n",
       "      <th>0</th>\n",
       "      <td>0.126</td>\n",
       "      <td>75.804</td>\n",
       "      <td>21.204</td>\n",
       "      <td>2.180</td>\n",
       "    </tr>\n",
       "    <tr>\n",
       "      <th>1</th>\n",
       "      <td>0.133</td>\n",
       "      <td>75.515</td>\n",
       "      <td>21.408</td>\n",
       "      <td>2.240</td>\n",
       "    </tr>\n",
       "    <tr>\n",
       "      <th>2</th>\n",
       "      <td>0.127</td>\n",
       "      <td>75.175</td>\n",
       "      <td>21.668</td>\n",
       "      <td>2.305</td>\n",
       "    </tr>\n",
       "    <tr>\n",
       "      <th>3</th>\n",
       "      <td>0.156</td>\n",
       "      <td>78.872</td>\n",
       "      <td>18.428</td>\n",
       "      <td>1.906</td>\n",
       "    </tr>\n",
       "    <tr>\n",
       "      <th>4</th>\n",
       "      <td>0.503</td>\n",
       "      <td>73.317</td>\n",
       "      <td>20.223</td>\n",
       "      <td>4.128</td>\n",
       "    </tr>\n",
       "  </tbody>\n",
       "</table>\n",
       "</div>"
      ],
      "text/plain": [
       "   Pu238   Pu239   Pu240  Pu241\n",
       "0  0.126  75.804  21.204  2.180\n",
       "1  0.133  75.515  21.408  2.240\n",
       "2  0.127  75.175  21.668  2.305\n",
       "3  0.156  78.872  18.428  1.906\n",
       "4  0.503  73.317  20.223  4.128"
      ]
     },
     "execution_count": 51,
     "metadata": {},
     "output_type": "execute_result"
    }
   ],
   "source": [
    "df = data.data\n",
    "df.head()"
   ]
  },
  {
   "cell_type": "markdown",
   "metadata": {
    "slideshow": {
     "slide_type": "slide"
    }
   },
   "source": [
    "###  Use Pu239 and Pu240 as features\n",
    "1. Select only columns `Pu239` and `Pu240` in this example\n",
    "2. Plot to see how it looks\n",
    "3. Fit a k-means model"
   ]
  },
  {
   "cell_type": "code",
   "execution_count": 55,
   "metadata": {},
   "outputs": [
    {
     "data": {
      "text/plain": [
       "(45, 2)"
      ]
     },
     "execution_count": 55,
     "metadata": {},
     "output_type": "execute_result"
    }
   ],
   "source": [
    "X.shape"
   ]
  },
  {
   "cell_type": "code",
   "execution_count": 116,
   "metadata": {
    "scrolled": true,
    "slideshow": {
     "slide_type": "fragment"
    }
   },
   "outputs": [
    {
     "data": {
      "text/html": [
       "<div>\n",
       "<style scoped>\n",
       "    .dataframe tbody tr th:only-of-type {\n",
       "        vertical-align: middle;\n",
       "    }\n",
       "\n",
       "    .dataframe tbody tr th {\n",
       "        vertical-align: top;\n",
       "    }\n",
       "\n",
       "    .dataframe thead th {\n",
       "        text-align: right;\n",
       "    }\n",
       "</style>\n",
       "<table border=\"1\" class=\"dataframe\">\n",
       "  <thead>\n",
       "    <tr style=\"text-align: right;\">\n",
       "      <th></th>\n",
       "      <th>Pu239</th>\n",
       "      <th>Pu240</th>\n",
       "    </tr>\n",
       "  </thead>\n",
       "  <tbody>\n",
       "    <tr>\n",
       "      <th>0</th>\n",
       "      <td>75.804</td>\n",
       "      <td>21.204</td>\n",
       "    </tr>\n",
       "    <tr>\n",
       "      <th>1</th>\n",
       "      <td>75.515</td>\n",
       "      <td>21.408</td>\n",
       "    </tr>\n",
       "    <tr>\n",
       "      <th>2</th>\n",
       "      <td>75.175</td>\n",
       "      <td>21.668</td>\n",
       "    </tr>\n",
       "    <tr>\n",
       "      <th>3</th>\n",
       "      <td>78.872</td>\n",
       "      <td>18.428</td>\n",
       "    </tr>\n",
       "    <tr>\n",
       "      <th>4</th>\n",
       "      <td>73.317</td>\n",
       "      <td>20.223</td>\n",
       "    </tr>\n",
       "  </tbody>\n",
       "</table>\n",
       "</div>"
      ],
      "text/plain": [
       "    Pu239   Pu240\n",
       "0  75.804  21.204\n",
       "1  75.515  21.408\n",
       "2  75.175  21.668\n",
       "3  78.872  18.428\n",
       "4  73.317  20.223"
      ]
     },
     "execution_count": 116,
     "metadata": {},
     "output_type": "execute_result"
    }
   ],
   "source": [
    "X = pd.DataFrame(df, columns=['Pu239', 'Pu240'])\n",
    "X_2 = pd.DataFrame(df, columns=['Pu238', 'Pu241'])\n",
    "X.head()"
   ]
  },
  {
   "cell_type": "code",
   "execution_count": null,
   "metadata": {},
   "outputs": [],
   "source": [
    "# ax = df.plot.scatter(x='a', y='b', color='DarkBlue', label='Group 1');"
   ]
  },
  {
   "cell_type": "code",
   "execution_count": null,
   "metadata": {},
   "outputs": [],
   "source": [
    "# df.plot.scatter(x='c', y='d', color='DarkGreen', label='Group 2', ax=ax);"
   ]
  },
  {
   "cell_type": "code",
   "execution_count": 127,
   "metadata": {},
   "outputs": [
    {
     "data": {
      "image/png": "[encoded data removed]",
      "text/plain": [
       "<Figure size 432x288 with 1 Axes>"
      ]
     },
     "metadata": {
      "image/png": {
       "height": 277,
       "width": 397
      },
      "needs_background": "light"
     },
     "output_type": "display_data"
    }
   ],
   "source": [
    "ax = X_2.plot.scatter(x='Pu238', y='Pu241', color='DarkBlue', label='Group 1')\n",
    "X.plot.scatter( x=\"Pu239\", y=\"Pu240\", c='b', label='Group 2',ax=ax);"
   ]
  },
  {
   "cell_type": "code",
   "execution_count": 126,
   "metadata": {},
   "outputs": [],
   "source": [
    "X.plot.scatter( x=\"Pu239\", y=\"Pu240\", c='b', label='Group 2',ax=ax);\n"
   ]
  },
  {
   "cell_type": "code",
   "execution_count": null,
   "metadata": {},
   "outputs": [],
   "source": []
  },
  {
   "cell_type": "code",
   "execution_count": null,
   "metadata": {},
   "outputs": [],
   "source": []
  },
  {
   "cell_type": "code",
   "execution_count": 56,
   "metadata": {},
   "outputs": [],
   "source": [
    "from sklearn.preprocessing import StandardScaler\n",
    "scaler = StandardScaler()\n",
    "Xstd = pd.DataFrame(scaler.fit_transform(X), columns=X.columns)\n"
   ]
  },
  {
   "cell_type": "code",
   "execution_count": 57,
   "metadata": {},
   "outputs": [],
   "source": [
    "from sklearn.cluster import KMeans\n"
   ]
  },
  {
   "cell_type": "code",
   "execution_count": 128,
   "metadata": {},
   "outputs": [
    {
     "data": {
      "text/plain": [
       "KMeans(algorithm='auto', copy_x=True, init='k-means++', max_iter=300,\n",
       "    n_clusters=2, n_init=10, n_jobs=None, precompute_distances='auto',\n",
       "    random_state=0, tol=0.0001, verbose=0)"
      ]
     },
     "execution_count": 128,
     "metadata": {},
     "output_type": "execute_result"
    }
   ],
   "source": [
    "model = KMeans(n_clusters=2, random_state=0)\n",
    "model.fit(Xstd)\n"
   ]
  },
  {
   "cell_type": "code",
   "execution_count": 129,
   "metadata": {},
   "outputs": [
    {
     "name": "stdout",
     "output_type": "stream",
     "text": [
      "Assigned cluster labels: \n",
      " [1 1 1 1 1 1 1 1 0 0 0 0 0 0 0 0 1 1 1 1 0 1 1 1 1 1 1 1 1 1 1 1 1 1 1 1 0\n",
      " 0 0 0 0 1 1 1 0]\n"
     ]
    }
   ],
   "source": [
    "cluster_labels = model.labels_\n",
    "print(\"Assigned cluster labels: \\n\", cluster_labels)\n"
   ]
  },
  {
   "cell_type": "code",
   "execution_count": 130,
   "metadata": {},
   "outputs": [
    {
     "name": "stdout",
     "output_type": "stream",
     "text": [
      "Location of centroids: \n",
      "[[-1.31858916  1.19688286  2.        ]\n",
      " [ 0.65929458 -0.59844143  0.3       ]]\n"
     ]
    }
   ],
   "source": [
    "centroids = model.cluster_centers_\n",
    "print(\"Location of centroids: \")\n",
    "print(centroids)\n"
   ]
  },
  {
   "cell_type": "code",
   "execution_count": 131,
   "metadata": {},
   "outputs": [
    {
     "data": {
      "text/html": [
       "<div>\n",
       "<style scoped>\n",
       "    .dataframe tbody tr th:only-of-type {\n",
       "        vertical-align: middle;\n",
       "    }\n",
       "\n",
       "    .dataframe tbody tr th {\n",
       "        vertical-align: top;\n",
       "    }\n",
       "\n",
       "    .dataframe thead th {\n",
       "        text-align: right;\n",
       "    }\n",
       "</style>\n",
       "<table border=\"1\" class=\"dataframe\">\n",
       "  <thead>\n",
       "    <tr style=\"text-align: right;\">\n",
       "      <th></th>\n",
       "      <th>Pu239</th>\n",
       "      <th>Pu240</th>\n",
       "      <th>clusters</th>\n",
       "    </tr>\n",
       "  </thead>\n",
       "  <tbody>\n",
       "    <tr>\n",
       "      <th>0</th>\n",
       "      <td>0.832106</td>\n",
       "      <td>-0.138176</td>\n",
       "      <td>1</td>\n",
       "    </tr>\n",
       "    <tr>\n",
       "      <th>1</th>\n",
       "      <td>0.791133</td>\n",
       "      <td>-0.052625</td>\n",
       "      <td>1</td>\n",
       "    </tr>\n",
       "    <tr>\n",
       "      <th>2</th>\n",
       "      <td>0.742931</td>\n",
       "      <td>0.056409</td>\n",
       "      <td>1</td>\n",
       "    </tr>\n",
       "    <tr>\n",
       "      <th>3</th>\n",
       "      <td>1.267063</td>\n",
       "      <td>-1.302330</td>\n",
       "      <td>1</td>\n",
       "    </tr>\n",
       "    <tr>\n",
       "      <th>4</th>\n",
       "      <td>0.479518</td>\n",
       "      <td>-0.549572</td>\n",
       "      <td>1</td>\n",
       "    </tr>\n",
       "  </tbody>\n",
       "</table>\n",
       "</div>"
      ],
      "text/plain": [
       "      Pu239     Pu240  clusters\n",
       "0  0.832106 -0.138176         1\n",
       "1  0.791133 -0.052625         1\n",
       "2  0.742931  0.056409         1\n",
       "3  1.267063 -1.302330         1\n",
       "4  0.479518 -0.549572         1"
      ]
     },
     "execution_count": 131,
     "metadata": {},
     "output_type": "execute_result"
    }
   ],
   "source": [
    "Xstd['clusters'] = cluster_labels\n",
    "Xstd.head()\n"
   ]
  },
  {
   "cell_type": "code",
   "execution_count": 132,
   "metadata": {},
   "outputs": [
    {
     "data": {
      "text/plain": [
       "24.947865766437765"
      ]
     },
     "execution_count": 132,
     "metadata": {},
     "output_type": "execute_result"
    }
   ],
   "source": [
    "model.inertia_\n"
   ]
  },
  {
   "cell_type": "code",
   "execution_count": 133,
   "metadata": {},
   "outputs": [
    {
     "data": {
      "image/png": "[encoded data removed]",
      "text/plain": [
       "<Figure size 432x288 with 2 Axes>"
      ]
     },
     "metadata": {
      "image/png": {
       "height": 279,
       "width": 436
      },
      "needs_background": "light"
     },
     "output_type": "display_data"
    }
   ],
   "source": [
    "plot_elbow_curve(model, Xstd, cluster_ranges=range(1, 11))\n",
    "plt.show()\n"
   ]
  },
  {
   "cell_type": "code",
   "execution_count": 134,
   "metadata": {},
   "outputs": [
    {
     "data": {
      "text/html": [
       "<div>\n",
       "<style scoped>\n",
       "    .dataframe tbody tr th:only-of-type {\n",
       "        vertical-align: middle;\n",
       "    }\n",
       "\n",
       "    .dataframe tbody tr th {\n",
       "        vertical-align: top;\n",
       "    }\n",
       "\n",
       "    .dataframe thead th {\n",
       "        text-align: right;\n",
       "    }\n",
       "</style>\n",
       "<table border=\"1\" class=\"dataframe\">\n",
       "  <thead>\n",
       "    <tr style=\"text-align: right;\">\n",
       "      <th></th>\n",
       "      <th>Pu239</th>\n",
       "      <th>Pu240</th>\n",
       "      <th>clusters</th>\n",
       "    </tr>\n",
       "  </thead>\n",
       "  <tbody>\n",
       "    <tr>\n",
       "      <th>0</th>\n",
       "      <td>0.832106</td>\n",
       "      <td>-0.138176</td>\n",
       "      <td>1</td>\n",
       "    </tr>\n",
       "    <tr>\n",
       "      <th>1</th>\n",
       "      <td>0.791133</td>\n",
       "      <td>-0.052625</td>\n",
       "      <td>1</td>\n",
       "    </tr>\n",
       "    <tr>\n",
       "      <th>2</th>\n",
       "      <td>0.742931</td>\n",
       "      <td>0.056409</td>\n",
       "      <td>1</td>\n",
       "    </tr>\n",
       "    <tr>\n",
       "      <th>3</th>\n",
       "      <td>1.267063</td>\n",
       "      <td>-1.302330</td>\n",
       "      <td>1</td>\n",
       "    </tr>\n",
       "    <tr>\n",
       "      <th>4</th>\n",
       "      <td>0.479518</td>\n",
       "      <td>-0.549572</td>\n",
       "      <td>1</td>\n",
       "    </tr>\n",
       "  </tbody>\n",
       "</table>\n",
       "</div>"
      ],
      "text/plain": [
       "      Pu239     Pu240  clusters\n",
       "0  0.832106 -0.138176         1\n",
       "1  0.791133 -0.052625         1\n",
       "2  0.742931  0.056409         1\n",
       "3  1.267063 -1.302330         1\n",
       "4  0.479518 -0.549572         1"
      ]
     },
     "execution_count": 134,
     "metadata": {},
     "output_type": "execute_result"
    }
   ],
   "source": [
    "Xstd.head()"
   ]
  },
  {
   "cell_type": "code",
   "execution_count": 135,
   "metadata": {},
   "outputs": [
    {
     "name": "stderr",
     "output_type": "stream",
     "text": [
      "'c' argument looks like a single numeric RGB or RGBA sequence, which should be avoided as value-mapping will have precedence in case its length matches with 'x' & 'y'.  Please use a 2-D array with a single row if you really want to specify the same RGB or RGBA value for all points.\n"
     ]
    },
    {
     "ename": "ValueError",
     "evalue": "'c' argument has 3 elements, which is not acceptable for use with 'x' with size 2, 'y' with size 2.",
     "output_type": "error",
     "traceback": [
      "\u001b[0;31m---------------------------------------------------------------------------\u001b[0m",
      "\u001b[0;31mValueError\u001b[0m                                Traceback (most recent call last)",
      "\u001b[0;32m/anaconda3/lib/python3.7/site-packages/matplotlib/axes/_axes.py\u001b[0m in \u001b[0;36m_parse_scatter_color_args\u001b[0;34m(c, edgecolors, kwargs, xshape, yshape, get_next_color_func)\u001b[0m\n\u001b[1;32m   4284\u001b[0m             \u001b[0;32mtry\u001b[0m\u001b[0;34m:\u001b[0m  \u001b[0;31m# Then is 'c' acceptable as PathCollection facecolors?\u001b[0m\u001b[0;34m\u001b[0m\u001b[0;34m\u001b[0m\u001b[0m\n\u001b[0;32m-> 4285\u001b[0;31m                 \u001b[0mcolors\u001b[0m \u001b[0;34m=\u001b[0m \u001b[0mmcolors\u001b[0m\u001b[0;34m.\u001b[0m\u001b[0mto_rgba_array\u001b[0m\u001b[0;34m(\u001b[0m\u001b[0mc\u001b[0m\u001b[0;34m)\u001b[0m\u001b[0;34m\u001b[0m\u001b[0;34m\u001b[0m\u001b[0m\n\u001b[0m\u001b[1;32m   4286\u001b[0m                 \u001b[0mn_elem\u001b[0m \u001b[0;34m=\u001b[0m \u001b[0mcolors\u001b[0m\u001b[0;34m.\u001b[0m\u001b[0mshape\u001b[0m\u001b[0;34m[\u001b[0m\u001b[0;36m0\u001b[0m\u001b[0;34m]\u001b[0m\u001b[0;34m\u001b[0m\u001b[0;34m\u001b[0m\u001b[0m\n",
      "\u001b[0;32m/anaconda3/lib/python3.7/site-packages/matplotlib/colors.py\u001b[0m in \u001b[0;36mto_rgba_array\u001b[0;34m(c, alpha)\u001b[0m\n\u001b[1;32m    293\u001b[0m     \u001b[0;32mfor\u001b[0m \u001b[0mi\u001b[0m\u001b[0;34m,\u001b[0m \u001b[0mcc\u001b[0m \u001b[0;32min\u001b[0m \u001b[0menumerate\u001b[0m\u001b[0;34m(\u001b[0m\u001b[0mc\u001b[0m\u001b[0;34m)\u001b[0m\u001b[0;34m:\u001b[0m\u001b[0;34m\u001b[0m\u001b[0;34m\u001b[0m\u001b[0m\n\u001b[0;32m--> 294\u001b[0;31m         \u001b[0mresult\u001b[0m\u001b[0;34m[\u001b[0m\u001b[0mi\u001b[0m\u001b[0;34m]\u001b[0m \u001b[0;34m=\u001b[0m \u001b[0mto_rgba\u001b[0m\u001b[0;34m(\u001b[0m\u001b[0mcc\u001b[0m\u001b[0;34m,\u001b[0m \u001b[0malpha\u001b[0m\u001b[0;34m)\u001b[0m\u001b[0;34m\u001b[0m\u001b[0;34m\u001b[0m\u001b[0m\n\u001b[0m\u001b[1;32m    295\u001b[0m     \u001b[0;32mreturn\u001b[0m \u001b[0mresult\u001b[0m\u001b[0;34m\u001b[0m\u001b[0;34m\u001b[0m\u001b[0m\n",
      "\u001b[0;32m/anaconda3/lib/python3.7/site-packages/matplotlib/colors.py\u001b[0m in \u001b[0;36mto_rgba\u001b[0;34m(c, alpha)\u001b[0m\n\u001b[1;32m    176\u001b[0m     \u001b[0;32mif\u001b[0m \u001b[0mrgba\u001b[0m \u001b[0;32mis\u001b[0m \u001b[0;32mNone\u001b[0m\u001b[0;34m:\u001b[0m  \u001b[0;31m# Suppress exception chaining of cache lookup failure.\u001b[0m\u001b[0;34m\u001b[0m\u001b[0;34m\u001b[0m\u001b[0m\n\u001b[0;32m--> 177\u001b[0;31m         \u001b[0mrgba\u001b[0m \u001b[0;34m=\u001b[0m \u001b[0m_to_rgba_no_colorcycle\u001b[0m\u001b[0;34m(\u001b[0m\u001b[0mc\u001b[0m\u001b[0;34m,\u001b[0m \u001b[0malpha\u001b[0m\u001b[0;34m)\u001b[0m\u001b[0;34m\u001b[0m\u001b[0;34m\u001b[0m\u001b[0m\n\u001b[0m\u001b[1;32m    178\u001b[0m         \u001b[0;32mtry\u001b[0m\u001b[0;34m:\u001b[0m\u001b[0;34m\u001b[0m\u001b[0;34m\u001b[0m\u001b[0m\n",
      "\u001b[0;32m/anaconda3/lib/python3.7/site-packages/matplotlib/colors.py\u001b[0m in \u001b[0;36m_to_rgba_no_colorcycle\u001b[0;34m(c, alpha)\u001b[0m\n\u001b[1;32m    239\u001b[0m         \u001b[0;31m# Test dimensionality to reject single floats.\u001b[0m\u001b[0;34m\u001b[0m\u001b[0;34m\u001b[0m\u001b[0;34m\u001b[0m\u001b[0m\n\u001b[0;32m--> 240\u001b[0;31m         \u001b[0;32mraise\u001b[0m \u001b[0mValueError\u001b[0m\u001b[0;34m(\u001b[0m\u001b[0;34m\"Invalid RGBA argument: {!r}\"\u001b[0m\u001b[0;34m.\u001b[0m\u001b[0mformat\u001b[0m\u001b[0;34m(\u001b[0m\u001b[0morig_c\u001b[0m\u001b[0;34m)\u001b[0m\u001b[0;34m)\u001b[0m\u001b[0;34m\u001b[0m\u001b[0;34m\u001b[0m\u001b[0m\n\u001b[0m\u001b[1;32m    241\u001b[0m     \u001b[0;31m# Return a tuple to prevent the cached value from being modified.\u001b[0m\u001b[0;34m\u001b[0m\u001b[0;34m\u001b[0m\u001b[0;34m\u001b[0m\u001b[0m\n",
      "\u001b[0;31mValueError\u001b[0m: Invalid RGBA argument: 0",
      "\nDuring handling of the above exception, another exception occurred:\n",
      "\u001b[0;31mValueError\u001b[0m                                Traceback (most recent call last)",
      "\u001b[0;32m<ipython-input-135-ea18ee2dfc55>\u001b[0m in \u001b[0;36m<module>\u001b[0;34m\u001b[0m\n\u001b[1;32m      3\u001b[0m \u001b[0mXstd\u001b[0m\u001b[0;34m.\u001b[0m\u001b[0mplot\u001b[0m\u001b[0;34m(\u001b[0m\u001b[0mx\u001b[0m\u001b[0;34m=\u001b[0m\u001b[0;34m\"Pu239\"\u001b[0m\u001b[0;34m,\u001b[0m \u001b[0my\u001b[0m\u001b[0;34m=\u001b[0m\u001b[0;34m\"Pu240\"\u001b[0m\u001b[0;34m,\u001b[0m \u001b[0mkind\u001b[0m\u001b[0;34m=\u001b[0m\u001b[0;34m\"scatter\"\u001b[0m\u001b[0;34m,\u001b[0m \u001b[0mc\u001b[0m\u001b[0;34m=\u001b[0m\u001b[0mXstd\u001b[0m\u001b[0;34m[\u001b[0m\u001b[0;34m'clusters'\u001b[0m\u001b[0;34m]\u001b[0m\u001b[0;34m,\u001b[0m \u001b[0mcolormap\u001b[0m\u001b[0;34m=\u001b[0m\u001b[0;34m'Spectral'\u001b[0m\u001b[0;34m,\u001b[0m \u001b[0max\u001b[0m\u001b[0;34m=\u001b[0m\u001b[0max\u001b[0m\u001b[0;34m,\u001b[0m \u001b[0mcolorbar\u001b[0m\u001b[0;34m=\u001b[0m\u001b[0;32mFalse\u001b[0m\u001b[0;34m)\u001b[0m\u001b[0;34m\u001b[0m\u001b[0;34m\u001b[0m\u001b[0m\n\u001b[1;32m      4\u001b[0m ax.scatter(centroids[:,0], centroids[:,1], marker='o', s=150, alpha=.7, c=range(0,3), \n\u001b[0;32m----> 5\u001b[0;31m             cmap='Spectral')\n\u001b[0m\u001b[1;32m      6\u001b[0m \u001b[0mplt\u001b[0m\u001b[0;34m.\u001b[0m\u001b[0mshow\u001b[0m\u001b[0;34m(\u001b[0m\u001b[0;34m)\u001b[0m\u001b[0;34m\u001b[0m\u001b[0;34m\u001b[0m\u001b[0m\n",
      "\u001b[0;32m/anaconda3/lib/python3.7/site-packages/matplotlib/__init__.py\u001b[0m in \u001b[0;36minner\u001b[0;34m(ax, data, *args, **kwargs)\u001b[0m\n\u001b[1;32m   1599\u001b[0m     \u001b[0;32mdef\u001b[0m \u001b[0minner\u001b[0m\u001b[0;34m(\u001b[0m\u001b[0max\u001b[0m\u001b[0;34m,\u001b[0m \u001b[0;34m*\u001b[0m\u001b[0margs\u001b[0m\u001b[0;34m,\u001b[0m \u001b[0mdata\u001b[0m\u001b[0;34m=\u001b[0m\u001b[0;32mNone\u001b[0m\u001b[0;34m,\u001b[0m \u001b[0;34m**\u001b[0m\u001b[0mkwargs\u001b[0m\u001b[0;34m)\u001b[0m\u001b[0;34m:\u001b[0m\u001b[0;34m\u001b[0m\u001b[0;34m\u001b[0m\u001b[0m\n\u001b[1;32m   1600\u001b[0m         \u001b[0;32mif\u001b[0m \u001b[0mdata\u001b[0m \u001b[0;32mis\u001b[0m \u001b[0;32mNone\u001b[0m\u001b[0;34m:\u001b[0m\u001b[0;34m\u001b[0m\u001b[0;34m\u001b[0m\u001b[0m\n\u001b[0;32m-> 1601\u001b[0;31m             \u001b[0;32mreturn\u001b[0m \u001b[0mfunc\u001b[0m\u001b[0;34m(\u001b[0m\u001b[0max\u001b[0m\u001b[0;34m,\u001b[0m \u001b[0;34m*\u001b[0m\u001b[0mmap\u001b[0m\u001b[0;34m(\u001b[0m\u001b[0msanitize_sequence\u001b[0m\u001b[0;34m,\u001b[0m \u001b[0margs\u001b[0m\u001b[0;34m)\u001b[0m\u001b[0;34m,\u001b[0m \u001b[0;34m**\u001b[0m\u001b[0mkwargs\u001b[0m\u001b[0;34m)\u001b[0m\u001b[0;34m\u001b[0m\u001b[0;34m\u001b[0m\u001b[0m\n\u001b[0m\u001b[1;32m   1602\u001b[0m \u001b[0;34m\u001b[0m\u001b[0m\n\u001b[1;32m   1603\u001b[0m         \u001b[0mbound\u001b[0m \u001b[0;34m=\u001b[0m \u001b[0mnew_sig\u001b[0m\u001b[0;34m.\u001b[0m\u001b[0mbind\u001b[0m\u001b[0;34m(\u001b[0m\u001b[0max\u001b[0m\u001b[0;34m,\u001b[0m \u001b[0;34m*\u001b[0m\u001b[0margs\u001b[0m\u001b[0;34m,\u001b[0m \u001b[0;34m**\u001b[0m\u001b[0mkwargs\u001b[0m\u001b[0;34m)\u001b[0m\u001b[0;34m\u001b[0m\u001b[0;34m\u001b[0m\u001b[0m\n",
      "\u001b[0;32m/anaconda3/lib/python3.7/site-packages/matplotlib/axes/_axes.py\u001b[0m in \u001b[0;36mscatter\u001b[0;34m(self, x, y, s, c, marker, cmap, norm, vmin, vmax, alpha, linewidths, verts, edgecolors, plotnonfinite, **kwargs)\u001b[0m\n\u001b[1;32m   4452\u001b[0m             self._parse_scatter_color_args(\n\u001b[1;32m   4453\u001b[0m                 \u001b[0mc\u001b[0m\u001b[0;34m,\u001b[0m \u001b[0medgecolors\u001b[0m\u001b[0;34m,\u001b[0m \u001b[0mkwargs\u001b[0m\u001b[0;34m,\u001b[0m \u001b[0mxshape\u001b[0m\u001b[0;34m,\u001b[0m \u001b[0myshape\u001b[0m\u001b[0;34m,\u001b[0m\u001b[0;34m\u001b[0m\u001b[0;34m\u001b[0m\u001b[0m\n\u001b[0;32m-> 4454\u001b[0;31m                 get_next_color_func=self._get_patches_for_fill.get_next_color)\n\u001b[0m\u001b[1;32m   4455\u001b[0m \u001b[0;34m\u001b[0m\u001b[0m\n\u001b[1;32m   4456\u001b[0m         \u001b[0;32mif\u001b[0m \u001b[0mplotnonfinite\u001b[0m \u001b[0;32mand\u001b[0m \u001b[0mcolors\u001b[0m \u001b[0;32mis\u001b[0m \u001b[0;32mNone\u001b[0m\u001b[0;34m:\u001b[0m\u001b[0;34m\u001b[0m\u001b[0;34m\u001b[0m\u001b[0m\n",
      "\u001b[0;32m/anaconda3/lib/python3.7/site-packages/matplotlib/axes/_axes.py\u001b[0m in \u001b[0;36m_parse_scatter_color_args\u001b[0;34m(c, edgecolors, kwargs, xshape, yshape, get_next_color_func)\u001b[0m\n\u001b[1;32m   4296\u001b[0m                         \u001b[0;34m\"acceptable for use with 'x' with size {xs}, \"\u001b[0m\u001b[0;34m\u001b[0m\u001b[0;34m\u001b[0m\u001b[0m\n\u001b[1;32m   4297\u001b[0m                         \u001b[0;34m\"'y' with size {ys}.\"\u001b[0m\u001b[0;34m\u001b[0m\u001b[0;34m\u001b[0m\u001b[0m\n\u001b[0;32m-> 4298\u001b[0;31m                             \u001b[0;34m.\u001b[0m\u001b[0mformat\u001b[0m\u001b[0;34m(\u001b[0m\u001b[0mnc\u001b[0m\u001b[0;34m=\u001b[0m\u001b[0mn_elem\u001b[0m\u001b[0;34m,\u001b[0m \u001b[0mxs\u001b[0m\u001b[0;34m=\u001b[0m\u001b[0mxsize\u001b[0m\u001b[0;34m,\u001b[0m \u001b[0mys\u001b[0m\u001b[0;34m=\u001b[0m\u001b[0mysize\u001b[0m\u001b[0;34m)\u001b[0m\u001b[0;34m\u001b[0m\u001b[0;34m\u001b[0m\u001b[0m\n\u001b[0m\u001b[1;32m   4299\u001b[0m                     )\n\u001b[1;32m   4300\u001b[0m                 \u001b[0;32melse\u001b[0m\u001b[0;34m:\u001b[0m\u001b[0;34m\u001b[0m\u001b[0;34m\u001b[0m\u001b[0m\n",
      "\u001b[0;31mValueError\u001b[0m: 'c' argument has 3 elements, which is not acceptable for use with 'x' with size 2, 'y' with size 2."
     ]
    },
    {
     "data": {
      "image/png": "[encoded data removed]",
      "text/plain": [
       "<Figure size 504x504 with 1 Axes>"
      ]
     },
     "metadata": {
      "image/png": {
       "height": 440,
       "width": 471
      },
      "needs_background": "light"
     },
     "output_type": "display_data"
    }
   ],
   "source": [
    "from matplotlib import pyplot as plt\n",
    "fig, ax = plt.subplots(figsize=(7,7))\n",
    "Xstd.plot(x=\"Pu239\", y=\"Pu240\", kind=\"scatter\", c=Xstd['clusters'], colormap='Spectral', ax=ax, colorbar=False)\n",
    "ax.scatter(centroids[:,0], centroids[:,1], marker='o', s=150, alpha=.7, c=range(0,3), \n",
    "            cmap='Spectral')\n",
    "plt.show()\n"
   ]
  },
  {
   "cell_type": "code",
   "execution_count": null,
   "metadata": {},
   "outputs": [],
   "source": []
  },
  {
   "cell_type": "code",
   "execution_count": null,
   "metadata": {},
   "outputs": [],
   "source": []
  },
  {
   "cell_type": "code",
   "execution_count": null,
   "metadata": {},
   "outputs": [],
   "source": []
  },
  {
   "cell_type": "code",
   "execution_count": null,
   "metadata": {},
   "outputs": [],
   "source": []
  },
  {
   "cell_type": "code",
   "execution_count": null,
   "metadata": {},
   "outputs": [],
   "source": []
  },
  {
   "cell_type": "code",
   "execution_count": 27,
   "metadata": {
    "slideshow": {
     "slide_type": "slide"
    }
   },
   "outputs": [],
   "source": [
    "# 1. Run k-means against the two features with three clusters\n",
    "\n",
    "# 2. Insert the cluster labels into the DataFrame\n",
    "\n",
    "# 3. Get the centroids\n",
    "\n",
    "# 4. Produce a scatter of the data colored according to their labels and together with the calculated centroids."
   ]
  },
  {
   "cell_type": "markdown",
   "metadata": {
    "slideshow": {
     "slide_type": "slide"
    }
   },
   "source": [
    "### Try Standardizing the Data First and See How It Affects the Cluster Assignment"
   ]
  },
  {
   "cell_type": "code",
   "execution_count": 28,
   "metadata": {},
   "outputs": [],
   "source": [
    "# Repeat the same as above on scaled data.\n"
   ]
  },
  {
   "cell_type": "markdown",
   "metadata": {
    "slideshow": {
     "slide_type": "slide"
    }
   },
   "source": [
    "## Conclusion\n",
    "\n",
    "---\n",
    "\n",
    "**K-means:**\n",
    "\n",
    "- Unsupervised clustering model\n",
    "- Iteratively finds labels given k\n",
    "- Popular because it's simple and computationally efficient\n",
    "- Sensitive to shape and scale of data\n",
    "- Optimal k is hard to evaluate"
   ]
  },
  {
   "cell_type": "markdown",
   "metadata": {},
   "source": [
    "## Additional Resources\n",
    "\n",
    "---\n",
    "\n",
    "- Andrew Moore's computer science class at Carnegie Mellon contains good, static visualization with step-by-step details. His slide deck can be found online [here](http://www.cs.cmu.edu/~cga/ai-course/kmeans.pdf). He also links to more of his tutorials on the first page. \n",
    "- [Scikit-Learn Clustering Overview](http://scikit-learn.org/stable/modules/clustering.html#k-means)\n",
    "- [Scikit-Learn K-Means Documentation](http://scikit-learn.org/stable/modules/generated/sklearn.cluster.KMeans.html#sklearn.cluster.KMeans)\n",
    "- [Scikit-Learn Clustering Code — See `k_init` for Explanation of `k-means++` Centroid Selection](https://github.com/scikit-learn/scikit-learn/blob/51a765a/sklearn/cluster/k_means_.py#L769)\n",
    "- [Clustering Tutorial](http://home.deib.polimi.it/matteucc/Clustering/tutorial_html/)\n",
    "- [Wikipedia's Deep Dive on Clustering](https://en.wikipedia.org/wiki/K-means_clustering)\n",
    "\n",
    "\n",
    "**Some helpful Stack Exchange questions:**\n",
    "\n",
    "- http://stats.stackexchange.com/questions/40613/why-dont-dummy-variables-have-the-continuous-adjacent-category-problem-in-clust\n",
    "- http://stats.stackexchange.com/questions/174556/k-means-clustering-with-dummy-variables\n",
    "- http://datascience.stackexchange.com/questions/22/k-means-clustering-for-mixed-numeric-and-categorical-data\n",
    "\n"
   ]
  },
  {
   "cell_type": "code",
   "execution_count": null,
   "metadata": {},
   "outputs": [],
   "source": []
  },
  {
   "cell_type": "code",
   "execution_count": null,
   "metadata": {},
   "outputs": [],
   "source": []
  },
  {
   "cell_type": "code",
   "execution_count": null,
   "metadata": {},
   "outputs": [],
   "source": []
  }
 ],
 "metadata": {
  "anaconda-cloud": {},
  "kernelspec": {
   "display_name": "Python 3",
   "language": "python",
   "name": "python3"
  },
  "language_info": {
   "codemirror_mode": {
    "name": "ipython",
    "version": 3
   },
   "file_extension": ".py",
   "mimetype": "text/x-python",
   "name": "python",
   "nbconvert_exporter": "python",
   "pygments_lexer": "ipython3",
   "version": "3.8.3"
  },
  "toc": {
   "base_numbering": "2",
   "nav_menu": {},
   "number_sections": false,
   "sideBar": true,
   "skip_h1_title": true,
   "title_cell": "Lesson Guide",
   "title_sidebar": "Contents",
   "toc_cell": true,
   "toc_position": {},
   "toc_section_display": true,
   "toc_window_display": false
  }
 },
 "nbformat": 4,
 "nbformat_minor": 1
}
