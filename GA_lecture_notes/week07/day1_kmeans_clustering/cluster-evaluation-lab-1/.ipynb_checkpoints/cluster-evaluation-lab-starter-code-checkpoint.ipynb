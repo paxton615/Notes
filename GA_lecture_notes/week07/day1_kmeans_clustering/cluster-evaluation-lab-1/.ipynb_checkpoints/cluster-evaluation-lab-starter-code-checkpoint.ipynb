{
 "cells": [
  {
   "cell_type": "markdown",
   "metadata": {},
   "source": [
    "<img src=\"http://imgur.com/1ZcRyrc.png\" style=\"float: left; margin: 20px; height: 55px\">\n",
    "\n",
    "# K-means evaluation lab"
   ]
  },
  {
   "cell_type": "markdown",
   "metadata": {
    "toc": true
   },
   "source": [
    "<h1>Lab Guide<span class=\"tocSkip\"></span></h1>\n",
    "<div class=\"toc\"><ul class=\"toc-item\"><li><span><a href=\"#Explore-chemical-composition-data\" data-toc-modified-id=\"Explore-chemical-composition-data-1\">Explore chemical composition data</a></span><ul class=\"toc-item\"><li><span><a href=\"#Select-two-of-the-features-and-plot\" data-toc-modified-id=\"Select-two-of-the-features-and-plot-1.1\">Select two of the features and plot</a></span></li><li><span><a href=\"#Rescale-the-data-if-needed\" data-toc-modified-id=\"Rescale-the-data-if-needed-1.2\">Rescale the data if needed</a></span></li><li><span><a href=\"#Produce-an-elbow-plot-and-decide-on-a-suitable-number-of-clusters\" data-toc-modified-id=\"Produce-an-elbow-plot-and-decide-on-a-suitable-number-of-clusters-1.3\">Produce an elbow plot and decide on a suitable number of clusters</a></span></li><li><span><a href=\"#Use-the-silhouette-score-to-determine-an-optimal-number-of-clusters\" data-toc-modified-id=\"Use-the-silhouette-score-to-determine-an-optimal-number-of-clusters-1.4\">Use the silhouette score to determine an optimal number of clusters</a></span></li><li><span><a href=\"#Bonus:-Color-the-points-according-to-the-assigned-labels-for-varying-numbers-of-clusters\" data-toc-modified-id=\"Bonus:-Color-the-points-according-to-the-assigned-labels-for-varying-numbers-of-clusters-1.5\">Bonus: Color the points according to the assigned labels for varying numbers of clusters</a></span></li></ul></li><li><span><a href=\"#Load-the-wine-dataset\" data-toc-modified-id=\"Load-the-wine-dataset-2\">Load the wine dataset</a></span><ul class=\"toc-item\"><li><span><a href=\"#Pull-out-the-red-wine-column-as-a-target-variable\" data-toc-modified-id=\"Pull-out-the-red-wine-column-as-a-target-variable-2.1\">Pull out the red wine column as a target variable</a></span></li><li><span><a href=\"#Select-the-other-variables-to-use-for-clustering\" data-toc-modified-id=\"Select-the-other-variables-to-use-for-clustering-2.2\">Select the other variables to use for clustering</a></span></li><li><span><a href=\"#Rescale-if-needed\" data-toc-modified-id=\"Rescale-if-needed-2.3\">Rescale if needed</a></span></li><li><span><a href=\"#Produce-an-elbow-plot-and-decide-on-a-suitable-number-of-clusters\" data-toc-modified-id=\"Produce-an-elbow-plot-and-decide-on-a-suitable-number-of-clusters-2.4\">Produce an elbow plot and decide on a suitable number of clusters</a></span></li><li><span><a href=\"#Use-the-silhouette-score-to-determine-an-optimal-number-of-clusters\" data-toc-modified-id=\"Use-the-silhouette-score-to-determine-an-optimal-number-of-clusters-2.5\">Use the silhouette score to determine an optimal number of clusters</a></span></li><li><span><a href=\"#Bonus:-Color-the-points-according-to-the-assigned-labels-for-varying-numbers-of-clusters\" data-toc-modified-id=\"Bonus:-Color-the-points-according-to-the-assigned-labels-for-varying-numbers-of-clusters-2.6\">Bonus: Color the points according to the assigned labels for varying numbers of clusters</a></span></li><li><span><a href=\"#Fit-a-KMeans-model-with-K=2-and-extract-the-predicted-labels\" data-toc-modified-id=\"Fit-a-KMeans-model-with-K=2-and-extract-the-predicted-labels-2.7\">Fit a KMeans model with K=2 and extract the predicted labels</a></span></li><li><span><a href=\"#Calculate-the-homogeneity,-completeness-and-V-measure-score\" data-toc-modified-id=\"Calculate-the-homogeneity,-completeness-and-V-measure-score-2.8\">Calculate the homogeneity, completeness and V-measure-score</a></span></li></ul></li></ul></div>"
   ]
  },
  {
   "cell_type": "code",
   "execution_count": 1,
   "metadata": {},
   "outputs": [],
   "source": [
    "import pandas as pd\n",
    "import numpy as np\n",
    "import matplotlib.pyplot as plt\n",
    "import seaborn as sns\n",
    "sns.set(font_scale=1.5)\n",
    "\n",
    "%config InlineBackend.figure_format = 'retina'\n",
    "%matplotlib inline\n",
    "\n",
    "import warnings \n",
    "warnings.simplefilter('ignore')"
   ]
  },
  {
   "cell_type": "code",
   "execution_count": 2,
   "metadata": {},
   "outputs": [],
   "source": [
    "from sklearn.cluster import KMeans\n",
    "from sklearn.preprocessing import StandardScaler\n",
    "from sklearn.metrics import silhouette_samples, silhouette_score\n",
    "from sklearn.metrics import homogeneity_completeness_v_measure, homogeneity_score, completeness_score, v_measure_score\n",
    "from scikitplot.metrics import plot_silhouette\n",
    "from scikitplot.cluster import plot_elbow_curve"
   ]
  },
  {
   "cell_type": "markdown",
   "metadata": {},
   "source": [
    "## Explore chemical composition data\n",
    "\n",
    "\n",
    "Let's load in a dataset on chemical composition and plot the silhouette scores for different numbers of clusters."
   ]
  },
  {
   "cell_type": "code",
   "execution_count": 3,
   "metadata": {},
   "outputs": [],
   "source": [
    "from statsmodels.datasets import get_rdataset"
   ]
  },
  {
   "cell_type": "code",
   "execution_count": 4,
   "metadata": {},
   "outputs": [
    {
     "data": {
      "text/plain": [
       "dict_keys(['data', '__doc__', 'package', 'title', 'from_cache'])"
      ]
     },
     "execution_count": 4,
     "metadata": {},
     "output_type": "execute_result"
    }
   ],
   "source": [
    "data = get_rdataset('chorSub', package='cluster')\n",
    "data.keys()"
   ]
  },
  {
   "cell_type": "code",
   "execution_count": 5,
   "metadata": {},
   "outputs": [
    {
     "name": "stdout",
     "output_type": "stream",
     "text": [
      "+---------+-----------------+\n",
      "| chorSub | R Documentation |\n",
      "+---------+-----------------+\n",
      "\n",
      "Subset of C-horizon of Kola Data\n",
      "--------------------------------\n",
      "\n",
      "Description\n",
      "~~~~~~~~~~~\n",
      "\n",
      "This is a small rounded subset of the C-horizon data ``chorizon`` from\n",
      "package mvoutlier.\n",
      "\n",
      "Usage\n",
      "~~~~~\n",
      "\n",
      "::\n",
      "\n",
      "   data(chorSub)\n",
      "\n",
      "Format\n",
      "~~~~~~\n",
      "\n",
      "A data frame with 61 observations on 10 variables. The variables contain\n",
      "scaled concentrations of chemical elements.\n",
      "\n",
      "Details\n",
      "~~~~~~~\n",
      "\n",
      "This data set was produced from ``chorizon`` via these statements:\n",
      "\n",
      "::\n",
      "\n",
      "       data(chorizon, package = \"mvoutlier\")\n",
      "       chorSub <- round(100*scale(chorizon[,101:110]))[190:250,]\n",
      "       storage.mode(chorSub) <- \"integer\"\n",
      "       colnames(chorSub) <- gsub(\"_.*\", '', colnames(chorSub))\n",
      "     \n",
      "\n",
      "Source\n",
      "~~~~~~\n",
      "\n",
      "Kola Project (1993-1998)\n",
      "\n",
      "See Also\n",
      "~~~~~~~~\n",
      "\n",
      "``chorizon`` in package mvoutlier and other Kola data in the same\n",
      "package.\n",
      "\n",
      "Examples\n",
      "~~~~~~~~\n",
      "\n",
      "::\n",
      "\n",
      "   data(chorSub)\n",
      "   summary(chorSub)\n",
      "   pairs(chorSub, gap= .1)# some outliers\n",
      "\n"
     ]
    }
   ],
   "source": [
    "print(data.__doc__)"
   ]
  },
  {
   "cell_type": "code",
   "execution_count": 6,
   "metadata": {},
   "outputs": [
    {
     "data": {
      "text/html": [
       "<div>\n",
       "<style scoped>\n",
       "    .dataframe tbody tr th:only-of-type {\n",
       "        vertical-align: middle;\n",
       "    }\n",
       "\n",
       "    .dataframe tbody tr th {\n",
       "        vertical-align: top;\n",
       "    }\n",
       "\n",
       "    .dataframe thead th {\n",
       "        text-align: right;\n",
       "    }\n",
       "</style>\n",
       "<table border=\"1\" class=\"dataframe\">\n",
       "  <thead>\n",
       "    <tr style=\"text-align: right;\">\n",
       "      <th></th>\n",
       "      <th>Al</th>\n",
       "      <th>Ca</th>\n",
       "      <th>Fe</th>\n",
       "      <th>K</th>\n",
       "      <th>Mg</th>\n",
       "      <th>Mn</th>\n",
       "      <th>Na</th>\n",
       "      <th>P</th>\n",
       "      <th>Si</th>\n",
       "      <th>Ti</th>\n",
       "    </tr>\n",
       "  </thead>\n",
       "  <tbody>\n",
       "    <tr>\n",
       "      <th>190</th>\n",
       "      <td>101</td>\n",
       "      <td>11</td>\n",
       "      <td>-22</td>\n",
       "      <td>-17</td>\n",
       "      <td>-34</td>\n",
       "      <td>-41</td>\n",
       "      <td>27</td>\n",
       "      <td>-36</td>\n",
       "      <td>-58</td>\n",
       "      <td>-28</td>\n",
       "    </tr>\n",
       "    <tr>\n",
       "      <th>191</th>\n",
       "      <td>50</td>\n",
       "      <td>129</td>\n",
       "      <td>23</td>\n",
       "      <td>-82</td>\n",
       "      <td>47</td>\n",
       "      <td>33</td>\n",
       "      <td>61</td>\n",
       "      <td>90</td>\n",
       "      <td>-24</td>\n",
       "      <td>9</td>\n",
       "    </tr>\n",
       "    <tr>\n",
       "      <th>192</th>\n",
       "      <td>5</td>\n",
       "      <td>65</td>\n",
       "      <td>-22</td>\n",
       "      <td>-96</td>\n",
       "      <td>-33</td>\n",
       "      <td>7</td>\n",
       "      <td>47</td>\n",
       "      <td>49</td>\n",
       "      <td>30</td>\n",
       "      <td>-39</td>\n",
       "    </tr>\n",
       "    <tr>\n",
       "      <th>193</th>\n",
       "      <td>-40</td>\n",
       "      <td>-16</td>\n",
       "      <td>-158</td>\n",
       "      <td>-70</td>\n",
       "      <td>-104</td>\n",
       "      <td>-114</td>\n",
       "      <td>53</td>\n",
       "      <td>-61</td>\n",
       "      <td>103</td>\n",
       "      <td>-160</td>\n",
       "    </tr>\n",
       "    <tr>\n",
       "      <th>194</th>\n",
       "      <td>-13</td>\n",
       "      <td>30</td>\n",
       "      <td>-82</td>\n",
       "      <td>-113</td>\n",
       "      <td>26</td>\n",
       "      <td>-41</td>\n",
       "      <td>65</td>\n",
       "      <td>-90</td>\n",
       "      <td>43</td>\n",
       "      <td>-130</td>\n",
       "    </tr>\n",
       "  </tbody>\n",
       "</table>\n",
       "</div>"
      ],
      "text/plain": [
       "      Al   Ca   Fe    K   Mg   Mn  Na   P   Si   Ti\n",
       "190  101   11  -22  -17  -34  -41  27 -36  -58  -28\n",
       "191   50  129   23  -82   47   33  61  90  -24    9\n",
       "192    5   65  -22  -96  -33    7  47  49   30  -39\n",
       "193  -40  -16 -158  -70 -104 -114  53 -61  103 -160\n",
       "194  -13   30  -82 -113   26  -41  65 -90   43 -130"
      ]
     },
     "execution_count": 6,
     "metadata": {},
     "output_type": "execute_result"
    }
   ],
   "source": [
    "df = data.data\n",
    "df.head()"
   ]
  },
  {
   "cell_type": "markdown",
   "metadata": {},
   "source": [
    "### Select two of the features and plot"
   ]
  },
  {
   "cell_type": "code",
   "execution_count": null,
   "metadata": {},
   "outputs": [],
   "source": []
  },
  {
   "cell_type": "markdown",
   "metadata": {},
   "source": [
    "### Rescale the data if needed"
   ]
  },
  {
   "cell_type": "code",
   "execution_count": null,
   "metadata": {},
   "outputs": [],
   "source": []
  },
  {
   "cell_type": "markdown",
   "metadata": {},
   "source": [
    "### Produce an elbow plot and decide on a suitable number of clusters"
   ]
  },
  {
   "cell_type": "code",
   "execution_count": null,
   "metadata": {},
   "outputs": [],
   "source": []
  },
  {
   "cell_type": "markdown",
   "metadata": {},
   "source": [
    "### Use the silhouette score to determine an optimal number of clusters"
   ]
  },
  {
   "cell_type": "code",
   "execution_count": null,
   "metadata": {},
   "outputs": [],
   "source": []
  },
  {
   "cell_type": "markdown",
   "metadata": {},
   "source": [
    "### Bonus: Color the points according to the assigned labels for varying numbers of clusters"
   ]
  },
  {
   "cell_type": "code",
   "execution_count": null,
   "metadata": {},
   "outputs": [],
   "source": []
  },
  {
   "cell_type": "markdown",
   "metadata": {},
   "source": [
    "## Load the wine dataset"
   ]
  },
  {
   "cell_type": "code",
   "execution_count": 7,
   "metadata": {},
   "outputs": [
    {
     "data": {
      "text/html": [
       "<div>\n",
       "<style scoped>\n",
       "    .dataframe tbody tr th:only-of-type {\n",
       "        vertical-align: middle;\n",
       "    }\n",
       "\n",
       "    .dataframe tbody tr th {\n",
       "        vertical-align: top;\n",
       "    }\n",
       "\n",
       "    .dataframe thead th {\n",
       "        text-align: right;\n",
       "    }\n",
       "</style>\n",
       "<table border=\"1\" class=\"dataframe\">\n",
       "  <thead>\n",
       "    <tr style=\"text-align: right;\">\n",
       "      <th></th>\n",
       "      <th>fixed acidity</th>\n",
       "      <th>volatile acidity</th>\n",
       "      <th>citric acid</th>\n",
       "      <th>residual sugar</th>\n",
       "      <th>chlorides</th>\n",
       "      <th>free sulfur dioxide</th>\n",
       "      <th>total sulfur dioxide</th>\n",
       "      <th>density</th>\n",
       "      <th>pH</th>\n",
       "      <th>sulphates</th>\n",
       "      <th>alcohol</th>\n",
       "      <th>quality</th>\n",
       "      <th>red_wine</th>\n",
       "    </tr>\n",
       "  </thead>\n",
       "  <tbody>\n",
       "    <tr>\n",
       "      <th>0</th>\n",
       "      <td>7.4</td>\n",
       "      <td>0.70</td>\n",
       "      <td>0.0</td>\n",
       "      <td>1.9</td>\n",
       "      <td>0.076</td>\n",
       "      <td>11.0</td>\n",
       "      <td>34.0</td>\n",
       "      <td>0.9978</td>\n",
       "      <td>3.51</td>\n",
       "      <td>0.56</td>\n",
       "      <td>9.4</td>\n",
       "      <td>5</td>\n",
       "      <td>1</td>\n",
       "    </tr>\n",
       "    <tr>\n",
       "      <th>1</th>\n",
       "      <td>7.8</td>\n",
       "      <td>0.88</td>\n",
       "      <td>0.0</td>\n",
       "      <td>2.6</td>\n",
       "      <td>0.098</td>\n",
       "      <td>25.0</td>\n",
       "      <td>67.0</td>\n",
       "      <td>0.9968</td>\n",
       "      <td>3.20</td>\n",
       "      <td>0.68</td>\n",
       "      <td>9.8</td>\n",
       "      <td>5</td>\n",
       "      <td>1</td>\n",
       "    </tr>\n",
       "  </tbody>\n",
       "</table>\n",
       "</div>"
      ],
      "text/plain": [
       "   fixed acidity  volatile acidity  citric acid  residual sugar  chlorides  \\\n",
       "0            7.4              0.70          0.0             1.9      0.076   \n",
       "1            7.8              0.88          0.0             2.6      0.098   \n",
       "\n",
       "   free sulfur dioxide  total sulfur dioxide  density    pH  sulphates  \\\n",
       "0                 11.0                  34.0   0.9978  3.51       0.56   \n",
       "1                 25.0                  67.0   0.9968  3.20       0.68   \n",
       "\n",
       "   alcohol  quality  red_wine  \n",
       "0      9.4        5         1  \n",
       "1      9.8        5         1  "
      ]
     },
     "execution_count": 7,
     "metadata": {},
     "output_type": "execute_result"
    }
   ],
   "source": [
    "wine = pd.read_csv('../../../../resource-datasets/wine_data/winequality_merged.csv')\n",
    "wine.head(2)"
   ]
  },
  {
   "cell_type": "markdown",
   "metadata": {},
   "source": [
    "### Pull out the red wine column as a target variable\n",
    "\n",
    "We want to compare the clustering based on the other variables against this existing label."
   ]
  },
  {
   "cell_type": "code",
   "execution_count": null,
   "metadata": {},
   "outputs": [],
   "source": []
  },
  {
   "cell_type": "markdown",
   "metadata": {},
   "source": [
    "### Select the other variables to use for clustering"
   ]
  },
  {
   "cell_type": "code",
   "execution_count": null,
   "metadata": {},
   "outputs": [],
   "source": []
  },
  {
   "cell_type": "markdown",
   "metadata": {},
   "source": [
    "### Rescale if needed"
   ]
  },
  {
   "cell_type": "code",
   "execution_count": null,
   "metadata": {},
   "outputs": [],
   "source": []
  },
  {
   "cell_type": "markdown",
   "metadata": {},
   "source": [
    "### Produce an elbow plot and decide on a suitable number of clusters"
   ]
  },
  {
   "cell_type": "code",
   "execution_count": null,
   "metadata": {},
   "outputs": [],
   "source": []
  },
  {
   "cell_type": "markdown",
   "metadata": {},
   "source": [
    "### Use the silhouette score to determine an optimal number of clusters"
   ]
  },
  {
   "cell_type": "code",
   "execution_count": null,
   "metadata": {},
   "outputs": [],
   "source": []
  },
  {
   "cell_type": "markdown",
   "metadata": {},
   "source": [
    "### Bonus: Color the points according to the assigned labels for varying numbers of clusters"
   ]
  },
  {
   "cell_type": "code",
   "execution_count": null,
   "metadata": {},
   "outputs": [],
   "source": []
  },
  {
   "cell_type": "markdown",
   "metadata": {},
   "source": [
    "### Fit a KMeans model with K=2 and extract the predicted labels"
   ]
  },
  {
   "cell_type": "code",
   "execution_count": null,
   "metadata": {},
   "outputs": [],
   "source": []
  },
  {
   "cell_type": "markdown",
   "metadata": {},
   "source": [
    "### Calculate the homogeneity, completeness and V-measure-score"
   ]
  },
  {
   "cell_type": "code",
   "execution_count": null,
   "metadata": {},
   "outputs": [],
   "source": []
  }
 ],
 "metadata": {
  "kernelspec": {
   "display_name": "Python 3",
   "language": "python",
   "name": "python3"
  },
  "language_info": {
   "codemirror_mode": {
    "name": "ipython",
    "version": 3
   },
   "file_extension": ".py",
   "mimetype": "text/x-python",
   "name": "python",
   "nbconvert_exporter": "python",
   "pygments_lexer": "ipython3",
   "version": "3.7.3"
  },
  "toc": {
   "base_numbering": 1,
   "nav_menu": {},
   "number_sections": false,
   "sideBar": true,
   "skip_h1_title": true,
   "title_cell": "Lab Guide",
   "title_sidebar": "Contents",
   "toc_cell": true,
   "toc_position": {},
   "toc_section_display": true,
   "toc_window_display": false
  }
 },
 "nbformat": 4,
 "nbformat_minor": 2
}
