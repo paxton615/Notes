{
 "cells": [
  {
   "cell_type": "markdown",
   "metadata": {},
   "source": [
    "<img src=\"http://imgur.com/1ZcRyrc.png\" style=\"float: left; margin: 20px; height: 55px\">\n",
    "\n",
    "# Evaluating K-Means Clusters with the Iris Dataset\n",
    "\n",
    "---"
   ]
  },
  {
   "cell_type": "markdown",
   "metadata": {},
   "source": [
    "Below you will practice using K-Means clustering and the various evaluation strategies we covered on the famous Iris dataset."
   ]
  },
  {
   "cell_type": "markdown",
   "metadata": {
    "toc": true
   },
   "source": [
    "<h1>Lab Guide<span class=\"tocSkip\"></span></h1>\n",
    "<div class=\"toc\"><ul class=\"toc-item\"><li><span><a href=\"#Import-and-format-the-data\" data-toc-modified-id=\"Import-and-format-the-data-1\">Import and format the data</a></span></li><li><span><a href=\"#Plot-the-data-to-visually-estimate-the-correct-number-of-clusters\" data-toc-modified-id=\"Plot-the-data-to-visually-estimate-the-correct-number-of-clusters-2\">Plot the data to visually estimate the correct number of clusters</a></span></li><li><span><a href=\"#Rescale-the-data-if-necessary\" data-toc-modified-id=\"Rescale-the-data-if-necessary-3\">Rescale the data if necessary</a></span></li><li><span><a href=\"#Cluster-the-data-using-K-Means\" data-toc-modified-id=\"Cluster-the-data-using-K-Means-4\">Cluster the data using K-Means</a></span></li><li><span><a href=\"#Check-the-centroids-and-plot-them-along-two-of-the-features\" data-toc-modified-id=\"Check-the-centroids-and-plot-them-along-two-of-the-features-5\">Check the centroids and plot them along two of the features</a></span></li><li><span><a href=\"#Compute-the-silhouette-score-for-your-clusters\" data-toc-modified-id=\"Compute-the-silhouette-score-for-your-clusters-6\">Compute the silhouette score for your clusters</a></span></li><li><span><a href=\"#Plot-the-silhouette-score-for-K-=-2,3,4,5,6,7,8\" data-toc-modified-id=\"Plot-the-silhouette-score-for-K-=-2,3,4,5,6,7,8-7\">Plot the silhouette score for K = 2,3,4,5,6,7,8</a></span></li><li><span><a href=\"#Plot-the-inertia-score-for-the-different-K-clusters\" data-toc-modified-id=\"Plot-the-inertia-score-for-the-different-K-clusters-8\">Plot the inertia score for the different K clusters</a></span></li><li><span><a href=\"#Fit-K-Means-with-3-clusters-and-pull-out-the-cluster-labels.-Pull-out-the-true-labels-as-well.\" data-toc-modified-id=\"Fit-K-Means-with-3-clusters-and-pull-out-the-cluster-labels.-Pull-out-the-true-labels-as-well.-9\">Fit K-Means with 3 clusters and pull out the cluster labels. Pull out the true labels as well.</a></span></li><li><span><a href=\"#Calculate-the-completeness,-homogeneity-and-V-measure-scores-comparing-cluster-and-true-labels\" data-toc-modified-id=\"Calculate-the-completeness,-homogeneity-and-V-measure-scores-comparing-cluster-and-true-labels-10\">Calculate the completeness, homogeneity and V measure scores comparing cluster and true labels</a></span></li></ul></div>"
   ]
  },
  {
   "cell_type": "code",
   "execution_count": 1,
   "metadata": {},
   "outputs": [],
   "source": [
    "import pandas as pd\n",
    "import numpy as np\n",
    "import matplotlib.pyplot as plt\n",
    "import seaborn as sns\n",
    "sns.set(font_scale=1.5)\n",
    "\n",
    "%config InlineBackend.figure_format = 'retina'\n",
    "%matplotlib inline"
   ]
  },
  {
   "cell_type": "code",
   "execution_count": 4,
   "metadata": {},
   "outputs": [],
   "source": [
    "from sklearn.datasets import load_iris\n",
    "from sklearn.cluster import KMeans\n",
    "from sklearn.metrics import silhouette_score, homogeneity_score, completeness_score, homogeneity_completeness_v_measure, v_measure_score"
   ]
  },
  {
   "cell_type": "markdown",
   "metadata": {},
   "source": [
    "### Import and format the data\n",
    "\n",
    "\n",
    "- Use `sklearn.datasets.load_iris()`"
   ]
  },
  {
   "cell_type": "code",
   "execution_count": 5,
   "metadata": {},
   "outputs": [
    {
     "ename": "NameError",
     "evalue": "name 'sklearn' is not defined",
     "output_type": "error",
     "traceback": [
      "\u001b[0;31m---------------------------------------------------------------------------\u001b[0m",
      "\u001b[0;31mNameError\u001b[0m                                 Traceback (most recent call last)",
      "\u001b[0;32m<ipython-input-5-5198023457fa>\u001b[0m in \u001b[0;36m<module>\u001b[0;34m\u001b[0m\n\u001b[0;32m----> 1\u001b[0;31m \u001b[0miris\u001b[0m \u001b[0;34m=\u001b[0m \u001b[0msklearn\u001b[0m\u001b[0;34m.\u001b[0m\u001b[0mdatasets\u001b[0m\u001b[0;34m.\u001b[0m\u001b[0mload_iris\u001b[0m\u001b[0;34m(\u001b[0m\u001b[0;34m)\u001b[0m\u001b[0;34m\u001b[0m\u001b[0;34m\u001b[0m\u001b[0m\n\u001b[0m",
      "\u001b[0;31mNameError\u001b[0m: name 'sklearn' is not defined"
     ]
    }
   ],
   "source": [
    "iris = sklearn.datasets.load_iris()"
   ]
  },
  {
   "cell_type": "markdown",
   "metadata": {},
   "source": [
    "### Plot the data to visually estimate the correct number of clusters"
   ]
  },
  {
   "cell_type": "code",
   "execution_count": null,
   "metadata": {
    "scrolled": true
   },
   "outputs": [],
   "source": []
  },
  {
   "cell_type": "markdown",
   "metadata": {},
   "source": [
    "### Rescale the data if necessary"
   ]
  },
  {
   "cell_type": "code",
   "execution_count": null,
   "metadata": {},
   "outputs": [],
   "source": []
  },
  {
   "cell_type": "markdown",
   "metadata": {},
   "source": [
    "### Cluster the data using K-Means\n",
    "\n",
    "- Select a number of clusters of your choice based on your visual analysis above.\n",
    "- Compute the labels and centroids."
   ]
  },
  {
   "cell_type": "code",
   "execution_count": null,
   "metadata": {},
   "outputs": [],
   "source": []
  },
  {
   "cell_type": "markdown",
   "metadata": {},
   "source": [
    "### Check the centroids and plot them along two of the features\n",
    "\n",
    "How did your clustering perform?\n",
    "\n",
    "Bonus: Color according to cluster labels and choose different symbols for each true class label."
   ]
  },
  {
   "cell_type": "code",
   "execution_count": null,
   "metadata": {},
   "outputs": [],
   "source": []
  },
  {
   "cell_type": "markdown",
   "metadata": {},
   "source": [
    "### Compute the silhouette score for your clusters\n",
    "\n",
    "What does the score indicate?"
   ]
  },
  {
   "cell_type": "code",
   "execution_count": null,
   "metadata": {},
   "outputs": [],
   "source": []
  },
  {
   "cell_type": "markdown",
   "metadata": {},
   "source": [
    "### Plot the silhouette score for K = 2,3,4,5,6,7,8\n",
    "\n",
    "You will need to fit a new model for each one. You can standardize your data before iterating through the clusters or not, up to you."
   ]
  },
  {
   "cell_type": "code",
   "execution_count": null,
   "metadata": {},
   "outputs": [],
   "source": []
  },
  {
   "cell_type": "markdown",
   "metadata": {},
   "source": [
    "### Plot the inertia score for the different K clusters\n",
    "\n",
    "Is there an \"elbow\" to select a good number of clusters or not?\n",
    "\n",
    "Bonus: Do this by hand."
   ]
  },
  {
   "cell_type": "code",
   "execution_count": null,
   "metadata": {},
   "outputs": [],
   "source": []
  },
  {
   "cell_type": "markdown",
   "metadata": {},
   "source": [
    "### Fit K-Means with 3 clusters and pull out the cluster labels. Pull out the true labels as well.\n",
    "\n",
    "Once you have both, adjust the predicted cluster labels to correspond to the true labels. For example, cluster 0 should correspond roughly to species 0, cluster 1 to species 1, and cluster 2 to species 2."
   ]
  },
  {
   "cell_type": "code",
   "execution_count": null,
   "metadata": {},
   "outputs": [],
   "source": []
  },
  {
   "cell_type": "markdown",
   "metadata": {},
   "source": [
    "### Calculate the completeness, homogeneity and V measure scores comparing cluster and true labels"
   ]
  },
  {
   "cell_type": "code",
   "execution_count": null,
   "metadata": {},
   "outputs": [],
   "source": []
  },
  {
   "cell_type": "code",
   "execution_count": null,
   "metadata": {},
   "outputs": [],
   "source": []
  },
  {
   "cell_type": "code",
   "execution_count": null,
   "metadata": {},
   "outputs": [],
   "source": []
  },
  {
   "cell_type": "code",
   "execution_count": null,
   "metadata": {},
   "outputs": [],
   "source": []
  }
 ],
 "metadata": {
  "anaconda-cloud": {},
  "kernelspec": {
   "display_name": "Python 3",
   "language": "python",
   "name": "python3"
  },
  "language_info": {
   "codemirror_mode": {
    "name": "ipython",
    "version": 3
   },
   "file_extension": ".py",
   "mimetype": "text/x-python",
   "name": "python",
   "nbconvert_exporter": "python",
   "pygments_lexer": "ipython3",
   "version": "3.7.3"
  },
  "toc": {
   "base_numbering": 1,
   "nav_menu": {},
   "number_sections": false,
   "sideBar": true,
   "skip_h1_title": true,
   "title_cell": "Lab Guide",
   "title_sidebar": "Contents",
   "toc_cell": true,
   "toc_position": {},
   "toc_section_display": true,
   "toc_window_display": false
  }
 },
 "nbformat": 4,
 "nbformat_minor": 1
}
