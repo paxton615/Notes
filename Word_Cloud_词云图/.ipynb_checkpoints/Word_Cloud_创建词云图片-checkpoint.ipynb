{
 "cells": [
  {
   "cell_type": "code",
   "execution_count": 42,
   "metadata": {},
   "outputs": [],
   "source": [
    "import matplotlib.pyplot as plt\n",
    "from wordcloud import WordCloud"
   ]
  },
  {
   "cell_type": "code",
   "execution_count": 43,
   "metadata": {},
   "outputs": [
    {
     "name": "stdout",
     "output_type": "stream",
     "text": [
      "全模式: ['我', '原来', '是', '一名', 'Java', '工程', '工程师', '，', '后来', '喜欢', '上', '了', 'Python', '语言']\n",
      "精准模式: ['我', '原来', '是', '一名', 'Java', '工程师', '，', '后来', '喜欢', '上', '了', 'Python', '语言']\n"
     ]
    }
   ],
   "source": [
    "import jieba\n",
    "\n",
    "list0 = jieba.cut('我原来是一名Java工程师，后来喜欢上了Python语言', cut_all=True)\n",
    "print(\"全模式:\",list(list0))\n",
    "\n",
    "list1 = jieba.cut('我原来是一名Java工程师，后来喜欢上了Python语言', cut_all=False)\n",
    "print(\"精准模式:\",list(list1))\n",
    "\n",
    "###输出结果：\n",
    "全模式: ['我', '原来', '是', '一名', 'Java', '工程', '工程师', '', '', '后来', '喜欢', '上', '了', 'Python', '语言']\n",
    "精准模式: ['我', '原来', '是', '一名', 'Java', '工程师', '，', '后来', '喜欢', '上', '了', 'Python', '语言']"
   ]
  },
  {
   "cell_type": "code",
   "execution_count": null,
   "metadata": {},
   "outputs": [],
   "source": [
    "# 以词频来控制最终显示字体的大小，重复次数越多，最终显示越大\n",
    "# 即是写成：”offspring后代“ jieba也能给自动分开\n",
    "\n",
    "'''\n",
    "传统 traditional 后代 offspring 安全 security 额外 extra 熟人 familiar 简单 simple 易懂 understandable \n",
    "尊重 respect 长远 long-lasting 微信 Wechat 文化 culture 中国 China 英国 England 大不列颠 United Kingdom \n",
    "金钱 Money 基金 fund 长久 long time 回报 return \n",
    "人工智能 AI 机器学习 Machine Learning 高学历 Education \n",
    "有资格 Qualification 投资人 investors 管理人 manager 私募 private fund 资产 equity 资金 capital 周期 period \n",
    "\n",
    "其中，90％的留学生们对自己在英国的学习生活很满意，还有80％的留学生对自己在留学期间获得的支持表示满意，82％认为他们攻读英国学位是物有所值的。\n",
    "英国大学联盟还盘点了这些留学生的国家地区，中国大陆勇夺桂冠，印度、美国、中国香港、马来西亚也紧随其后。\n",
    "\n",
    "25.2% of Chinese people were 18 to 24 years old – the highest percentage of Chinese people out of all age groups. The second highest percentage was in the 25 to 29 age group (12.2%). The younger age profile of the Chinese group could reflect the high proportion of students aged 16 and over within the Chinese population and this group \n",
    "17.4% of Chinese households were made up of married couples with dependent children, compared with 14.1% of White British households.\n",
    "\n",
    "5.3% of Chinese households were made up of pensioners (either couples or single pensioners), compared with 23.0% of White British households.\n",
    "\n",
    "7.5% of Chinese households were made up of all full-time students, compared with 0.4% of White British households. This was the highest percentage out of all Asian ethnic groups.\n",
    "\n",
    "Source: Department for Education, England. Key stage 2 statistics 2018/19; Key stage 4 statistics, 207/18; A level and other 16 to 18 results, 2017/18. Figures for key stage 2 are rounded to whole numbers by DFE. ‘Primary education’ shows figures for key stage 2 reading, writing and maths, which pupils take when they are 10 or 11 years old.\n",
    "\n",
    "中国 中国 中国 中国 China 英国 England 英国 England 英国 England \n",
    "\n",
    "2021 2021 2021 2021 2021 2021 2021 2021 2021 2021\n",
    "\n",
    "后代 offspring后代 offspring后代 offspring后代 offspring\n",
    "\n",
    "投资 investment 投资 investment 投资 investment investment 投资 \n",
    "\n",
    "安全 security 安全 security 安全 security\n",
    "'''"
   ]
  },
  {
   "cell_type": "code",
   "execution_count": 106,
   "metadata": {},
   "outputs": [],
   "source": [
    "import re\n",
    "import collections\n",
    "\n",
    "data_txt = open(r\"/Users/paxton615/Desktop/feature_words1.txt\", encoding='utf-8').read() # 我用sublime手动存了一个utf-8的.txt文件\n",
    "\n",
    "#文本预处理\n",
    "pattern = re.compile(u'\\t|\\n|\\.|-|:|;|\\)|\\(|\\?|\"')\n",
    "data_txt = re.sub(pattern, '', data_txt)\n",
    "\n",
    "\n",
    "#文本分词\n",
    "cut_txt = jieba.cut(data_txt)\n",
    "object_list=[]\n",
    "remove_words = [u\"的\", u',', u'of', u'，', u\"习近平\",u'对',u'等',u'能',u'都',u'。',u' ',\n",
    "                u'、',u'中',u'在',u'了',u'，',u'“',u'”',u'一个',u'是',u'人民日报', u'the']\n",
    "\n",
    "#词频统计\n",
    "for word in cut_txt:\n",
    "    if word not in remove_words:\n",
    "        object_list.append(word)\n",
    "\n",
    "word_counts = collections.Counter(object_list)\n",
    "# 显示词频\n",
    "# word_counts"
   ]
  },
  {
   "cell_type": "code",
   "execution_count": 107,
   "metadata": {},
   "outputs": [
    {
     "data": {
      "image/png": "[encoded data removed]",
      "text/plain": [
       "<Figure size 432x288 with 1 Axes>"
      ]
     },
     "metadata": {
      "needs_background": "light"
     },
     "output_type": "display_data"
    }
   ],
   "source": [
    "import numpy as np\n",
    "from PIL import Image \n",
    "\n",
    "#定义词频背景\n",
    "\n",
    "background_image = np.array(Image.open('/Users/paxton615/Desktop/pound3.png')) #图片分别率越高形状越清晰，必须是白底，\n",
    "# 图案与白底的颜色对比一定要明显，否则返回形状都是长方形\n",
    "\n",
    "font_path=\"/Users/paxton615/Desktop/feature_words1.txt\"\n",
    "wd = WordCloud(\n",
    "    width = 2200,\n",
    "    height = 1000,\n",
    "    font_path=\"/System/Library/fonts/PingFang.ttc\",  #设置字体格式，不然会乱码\n",
    "    background_color=\"white\",  #设置背景颜色\n",
    "    mask=background_image   #设置背景图\n",
    ").generate_from_frequencies(word_counts)\n",
    "\n",
    "#保存词云图\n",
    "wd.to_file('zhu.png') # 最终显示输出的尺寸是跟着”读取图片“的大小而定的\n",
    "#显示词云图\n",
    "plt.imshow(wd,interpolation=\"bilinear\")\n",
    "plt.axis(\"off\")\n",
    "plt.show()"
   ]
  },
  {
   "cell_type": "code",
   "execution_count": null,
   "metadata": {},
   "outputs": [],
   "source": []
  },
  {
   "cell_type": "code",
   "execution_count": null,
   "metadata": {},
   "outputs": [],
   "source": []
  }
 ],
 "metadata": {
  "kernelspec": {
   "display_name": "Python 3",
   "language": "python",
   "name": "python3"
  },
  "language_info": {
   "codemirror_mode": {
    "name": "ipython",
    "version": 3
   },
   "file_extension": ".py",
   "mimetype": "text/x-python",
   "name": "python",
   "nbconvert_exporter": "python",
   "pygments_lexer": "ipython3",
   "version": "3.8.3"
  }
 },
 "nbformat": 4,
 "nbformat_minor": 4
}
