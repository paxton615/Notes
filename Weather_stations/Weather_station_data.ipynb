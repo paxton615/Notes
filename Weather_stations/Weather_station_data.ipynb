{
 "cells": [
  {
   "cell_type": "code",
   "execution_count": 1,
   "metadata": {},
   "outputs": [],
   "source": [
    "station_names = ['Aberporth', 'Armagh', 'Ballypatrick Forest', 'Bradford', 'Braemar', 'Camborne', 'Cambridge NIAB', 'Cardiff Bute Park',\n",
    " 'Chivenor', 'Cwmystwyth', 'Dunstaffnage', 'Durham', 'Eastbourne', 'Eskdalemuir', 'Heathrow', 'Hurn', 'Lerwick',\n",
    " 'Leuchars', 'Lowestoft', 'Manston', 'Nairn', 'Newton Rigg', 'Oxford', 'Paisley', 'Ringway', 'Ross-on-Wye',\n",
    " 'Shawbury', 'Sheffield', 'Southampton', 'Stornoway Airport', 'Sutton Bonington', 'Tiree', 'Valley',\n",
    " 'Waddington', 'Whitby', 'Wick Airport', 'Yeovilton']"
   ]
  },
  {
   "cell_type": "code",
   "execution_count": 2,
   "metadata": {},
   "outputs": [],
   "source": [
    "lower_station_names = []\n",
    "for i in station_names:\n",
    "    lower_station_names.append(i.lower())"
   ]
  },
  {
   "cell_type": "code",
   "execution_count": 3,
   "metadata": {
    "scrolled": false
   },
   "outputs": [
    {
     "data": {
      "text/plain": [
       "['Aberporth',\n",
       " 'Armagh',\n",
       " 'Ballypatrick Forest',\n",
       " 'Bradford',\n",
       " 'Braemar',\n",
       " 'Camborne',\n",
       " 'Cambridge NIAB',\n",
       " 'Cardiff Bute Park',\n",
       " 'Chivenor',\n",
       " 'Cwmystwyth',\n",
       " 'Dunstaffnage',\n",
       " 'Durham',\n",
       " 'Eastbourne',\n",
       " 'Eskdalemuir',\n",
       " 'Heathrow',\n",
       " 'Hurn',\n",
       " 'Lerwick',\n",
       " 'Leuchars',\n",
       " 'Lowestoft',\n",
       " 'Manston',\n",
       " 'Nairn',\n",
       " 'Newton Rigg',\n",
       " 'Oxford',\n",
       " 'Paisley',\n",
       " 'Ringway',\n",
       " 'Ross-on-Wye',\n",
       " 'Shawbury',\n",
       " 'Sheffield',\n",
       " 'Southampton',\n",
       " 'Stornoway Airport',\n",
       " 'Sutton Bonington',\n",
       " 'Tiree',\n",
       " 'Valley',\n",
       " 'Waddington',\n",
       " 'Whitby',\n",
       " 'Wick Airport',\n",
       " 'Yeovilton']"
      ]
     },
     "execution_count": 3,
     "metadata": {},
     "output_type": "execute_result"
    }
   ],
   "source": [
    "station_names"
   ]
  },
  {
   "cell_type": "code",
   "execution_count": 4,
   "metadata": {},
   "outputs": [
    {
     "data": {
      "text/plain": [
       "['aberporth',\n",
       " 'armagh',\n",
       " 'ballypatrick forest',\n",
       " 'bradford',\n",
       " 'braemar',\n",
       " 'camborne',\n",
       " 'cambridge niab',\n",
       " 'cardiff bute park',\n",
       " 'chivenor',\n",
       " 'cwmystwyth',\n",
       " 'dunstaffnage',\n",
       " 'durham',\n",
       " 'eastbourne',\n",
       " 'eskdalemuir',\n",
       " 'heathrow',\n",
       " 'hurn',\n",
       " 'lerwick',\n",
       " 'leuchars',\n",
       " 'lowestoft',\n",
       " 'manston',\n",
       " 'nairn',\n",
       " 'newton rigg',\n",
       " 'oxford',\n",
       " 'paisley',\n",
       " 'ringway',\n",
       " 'ross-on-wye',\n",
       " 'shawbury',\n",
       " 'sheffield',\n",
       " 'southampton',\n",
       " 'stornoway airport',\n",
       " 'sutton bonington',\n",
       " 'tiree',\n",
       " 'valley',\n",
       " 'waddington',\n",
       " 'whitby',\n",
       " 'wick airport',\n",
       " 'yeovilton']"
      ]
     },
     "execution_count": 4,
     "metadata": {},
     "output_type": "execute_result"
    }
   ],
   "source": [
    "lower_station_names"
   ]
  },
  {
   "cell_type": "code",
   "execution_count": null,
   "metadata": {},
   "outputs": [],
   "source": [
    "# replace --- with 0\n",
    "station_name = station_name.replace('---', 0)\n",
    "station_name = station_name.replace('--- #', 0)\n",
    "\n",
    "# fillna with 0s, 将所有NaN替换成 0\n",
    "station_name.fillna(0, inplace=True)"
   ]
  },
  {
   "cell_type": "code",
   "execution_count": null,
   "metadata": {},
   "outputs": [],
   "source": [
    "station_name['sun'] = station_name['sun'].astype(str)\n",
    "station_name['sun'] = station_name['sun'].str.extract(r'(\\d+.\\d+)').astype('float')\n",
    "\n",
    "station_name['tmax'] = station_name['tmax'].astype(str)\n",
    "station_name['tmax'] = station_name['tmax'].str.extract(r'(-?\\d+.\\d+)').astype('float')\n",
    "\n",
    "station_name['tmin'] = station_name['tmin'].astype(str)\n",
    "station_name['tmin'] = station_name['tmin'].str.extract(r'(-?\\d+.\\d+)').astype('float')\n",
    "\n",
    "station_name['rain'] = station_name['rain'].astype(str)\n",
    "station_name['rain'] = station_name['rain'].str.extract(r'(\\d+.\\d+)').astype('float')\n",
    "\n",
    "station_name['af'] = station_name['af'].astype(str)\n",
    "station_name['af'] = station_name['af'].str.extract(r'(\\d+)').astype('float')\n",
    "\n",
    "station_name = station_name.fillna(0)"
   ]
  },
  {
   "cell_type": "code",
   "execution_count": null,
   "metadata": {},
   "outputs": [],
   "source": []
  },
  {
   "cell_type": "code",
   "execution_count": null,
   "metadata": {},
   "outputs": [],
   "source": []
  },
  {
   "cell_type": "code",
   "execution_count": null,
   "metadata": {},
   "outputs": [],
   "source": []
  },
  {
   "cell_type": "code",
   "execution_count": null,
   "metadata": {},
   "outputs": [],
   "source": []
  },
  {
   "cell_type": "code",
   "execution_count": null,
   "metadata": {},
   "outputs": [],
   "source": []
  },
  {
   "cell_type": "code",
   "execution_count": null,
   "metadata": {},
   "outputs": [],
   "source": []
  }
 ],
 "metadata": {
  "kernelspec": {
   "display_name": "Python 3",
   "language": "python",
   "name": "python3"
  },
  "language_info": {
   "codemirror_mode": {
    "name": "ipython",
    "version": 3
   },
   "file_extension": ".py",
   "mimetype": "text/x-python",
   "name": "python",
   "nbconvert_exporter": "python",
   "pygments_lexer": "ipython3",
   "version": "3.8.3"
  }
 },
 "nbformat": 4,
 "nbformat_minor": 4
}
