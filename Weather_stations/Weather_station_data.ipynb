{
 "cells": [
  {
   "cell_type": "code",
   "execution_count": 1,
   "metadata": {},
   "outputs": [],
   "source": [
    "station_names = ['Aberporth', 'Armagh', 'Ballypatrick Forest', 'Bradford', 'Braemar', 'Camborne', 'Cambridge NIAB', 'Cardiff Bute Park',\n",
    " 'Chivenor', 'Cwmystwyth', 'Dunstaffnage', 'Durham', 'Eastbourne', 'Eskdalemuir', 'Heathrow', 'Hurn', 'Lerwick',\n",
    " 'Leuchars', 'Lowestoft', 'Manston', 'Nairn', 'Newton Rigg', 'Oxford', 'Paisley', 'Ringway', 'Ross-on-Wye',\n",
    " 'Shawbury', 'Sheffield', 'Southampton', 'Stornoway Airport', 'Sutton Bonington', 'Tiree', 'Valley',\n",
    " 'Waddington', 'Whitby', 'Wick Airport', 'Yeovilton']"
   ]
  },
  {
   "cell_type": "code",
   "execution_count": 2,
   "metadata": {},
   "outputs": [],
   "source": [
    "lower_station_names = []\n",
    "for i in station_names:\n",
    "    lower_station_names.append(i.lower())"
   ]
  },
  {
   "cell_type": "code",
   "execution_count": 3,
   "metadata": {
    "scrolled": false
   },
   "outputs": [
    {
     "data": {
      "text/plain": [
       "['Aberporth',\n",
       " 'Armagh',\n",
       " 'Ballypatrick Forest',\n",
       " 'Bradford',\n",
       " 'Braemar',\n",
       " 'Camborne',\n",
       " 'Cambridge NIAB',\n",
       " 'Cardiff Bute Park',\n",
       " 'Chivenor',\n",
       " 'Cwmystwyth',\n",
       " 'Dunstaffnage',\n",
       " 'Durham',\n",
       " 'Eastbourne',\n",
       " 'Eskdalemuir',\n",
       " 'Heathrow',\n",
       " 'Hurn',\n",
       " 'Lerwick',\n",
       " 'Leuchars',\n",
       " 'Lowestoft',\n",
       " 'Manston',\n",
       " 'Nairn',\n",
       " 'Newton Rigg',\n",
       " 'Oxford',\n",
       " 'Paisley',\n",
       " 'Ringway',\n",
       " 'Ross-on-Wye',\n",
       " 'Shawbury',\n",
       " 'Sheffield',\n",
       " 'Southampton',\n",
       " 'Stornoway Airport',\n",
       " 'Sutton Bonington',\n",
       " 'Tiree',\n",
       " 'Valley',\n",
       " 'Waddington',\n",
       " 'Whitby',\n",
       " 'Wick Airport',\n",
       " 'Yeovilton']"
      ]
     },
     "execution_count": 3,
     "metadata": {},
     "output_type": "execute_result"
    }
   ],
   "source": [
    "station_names"
   ]
  },
  {
   "cell_type": "code",
   "execution_count": 4,
   "metadata": {
    "scrolled": true
   },
   "outputs": [
    {
     "data": {
      "text/plain": [
       "['aberporth',\n",
       " 'armagh',\n",
       " 'ballypatrick forest',\n",
       " 'bradford',\n",
       " 'braemar',\n",
       " 'camborne',\n",
       " 'cambridge niab',\n",
       " 'cardiff bute park',\n",
       " 'chivenor',\n",
       " 'cwmystwyth',\n",
       " 'dunstaffnage',\n",
       " 'durham',\n",
       " 'eastbourne',\n",
       " 'eskdalemuir',\n",
       " 'heathrow',\n",
       " 'hurn',\n",
       " 'lerwick',\n",
       " 'leuchars',\n",
       " 'lowestoft',\n",
       " 'manston',\n",
       " 'nairn',\n",
       " 'newton rigg',\n",
       " 'oxford',\n",
       " 'paisley',\n",
       " 'ringway',\n",
       " 'ross-on-wye',\n",
       " 'shawbury',\n",
       " 'sheffield',\n",
       " 'southampton',\n",
       " 'stornoway airport',\n",
       " 'sutton bonington',\n",
       " 'tiree',\n",
       " 'valley',\n",
       " 'waddington',\n",
       " 'whitby',\n",
       " 'wick airport',\n",
       " 'yeovilton']"
      ]
     },
     "execution_count": 4,
     "metadata": {},
     "output_type": "execute_result"
    }
   ],
   "source": [
    "lower_station_names"
   ]
  },
  {
   "cell_type": "code",
   "execution_count": 5,
   "metadata": {},
   "outputs": [
    {
     "data": {
      "text/plain": [
       "37"
      ]
     },
     "execution_count": 5,
     "metadata": {},
     "output_type": "execute_result"
    }
   ],
   "source": [
    "len(lower_station_names)"
   ]
  },
  {
   "cell_type": "code",
   "execution_count": null,
   "metadata": {
    "collapsed": true
   },
   "outputs": [],
   "source": [
    "# replace --- with 0\n",
    "station_name = station_name.replace('---', 0)\n",
    "station_name = station_name.replace('--- #', 0)\n",
    "\n",
    "# fillna with 0s, 将所有NaN替换成 0\n",
    "station_name.fillna(0, inplace=True)"
   ]
  },
  {
   "cell_type": "code",
   "execution_count": null,
   "metadata": {},
   "outputs": [],
   "source": [
    "station_name['sun'] = station_name['sun'].astype(str)\n",
    "station_name['sun'] = station_name['sun'].str.extract(r'(\\d+.\\d+)').astype('float')\n",
    "\n",
    "station_name['tmax'] = station_name['tmax'].astype(str)\n",
    "station_name['tmax'] = station_name['tmax'].str.extract(r'(-?\\d+.\\d+)').astype('float')\n",
    "\n",
    "station_name['tmin'] = station_name['tmin'].astype(str)\n",
    "station_name['tmin'] = station_name['tmin'].str.extract(r'(-?\\d+.\\d+)').astype('float')\n",
    "\n",
    "station_name['rain'] = station_name['rain'].astype(str)\n",
    "station_name['rain'] = station_name['rain'].str.extract(r'(\\d+.\\d+)').astype('float')\n",
    "\n",
    "station_name['af'] = station_name['af'].astype(str)\n",
    "station_name['af'] = station_name['af'].str.extract(r'(\\d+)').astype('float')\n",
    "\n",
    "station_name = station_name.fillna(0)"
   ]
  },
  {
   "cell_type": "code",
   "execution_count": null,
   "metadata": {},
   "outputs": [],
   "source": [
    "aberporth = pd.read_excel('/Users/paxton615/Github_Personal/Notes/Notes/Weather_stations/Weather_stations/Wick Airport.xlsx')\n",
    "\n",
    "col_names = ['year', 'month', 'tmax', 'tmin', 'af', 'rain', 'sun',\n",
    "            'station', 'lat', 'lon']\n",
    "# temperatre units: degC, rainfall units: mm, sun units: days\n",
    "\n",
    "# get rid of useless row and column, 去除多余行，列\n",
    "aberporth = aberporth.iloc[1:,:-1]\n",
    "aberporth.head()\n",
    "\n",
    "# replace column names with col_names, 替换列名成 col_names\n",
    "aberporth.columns = col_names\n",
    "aberporth.head()\n",
    "\n",
    "# fill in station, lat and lon with its value, 给车站，经纬度填上唯一值\n",
    "aberporth['station']= aberporth.iloc[0, 7].lower().replace('-', '_').replace(' ','_')\n",
    "aberporth['lat'] = aberporth.iloc[0,8]\n",
    "aberporth['lon'] = aberporth.iloc[0,9]\n",
    "\n",
    "aberporth\n",
    "\n",
    "aberporth.dtypes\n",
    "\n",
    "aberporth.sun.unique()\n",
    "\n",
    "# replace --- with 0\n",
    "aberporth = aberporth.replace('---', 0)\n",
    "aberporth = aberporth.replace('--- #', 0)\n",
    "\n",
    "# fillna with 0s, 将所有NaN替换成 0\n",
    "aberporth.fillna(0, inplace=True)\n",
    "\n",
    "aberporth\n",
    "\n",
    "aberporth.dtypes\n",
    "\n",
    "aberporth['sun'] = aberporth['sun'].astype(str)\n",
    "aberporth['sun'] = aberporth['sun'].str.extract(r'(\\d+.\\d+)').astype('float')\n",
    "\n",
    "aberporth['tmax'] = aberporth['tmax'].astype(str)\n",
    "aberporth['tmax'] = aberporth['tmax'].str.extract(r'(-?\\d+.\\d+)').astype('float')\n",
    "\n",
    "aberporth['tmin'] = aberporth['tmin'].astype(str)\n",
    "aberporth['tmin'] = aberporth['tmin'].str.extract(r'(-?\\d+.\\d+)').astype('float')\n",
    "\n",
    "aberporth['rain'] = aberporth['rain'].astype(str)\n",
    "aberporth['rain'] = aberporth['rain'].str.extract(r'(\\d+.\\d+)').astype('float')\n",
    "\n",
    "aberporth['af'] = aberporth['af'].astype(str)\n",
    "aberporth['af'] = aberporth['af'].str.extract(r'(\\d+)').astype('float')\n",
    "\n",
    "\n",
    "\n",
    "aberporth\n",
    "\n",
    "aberporth = aberporth.fillna(0)\n",
    "\n",
    "aberporth\n",
    "\n",
    "aberporth.dtypes\n",
    "\n",
    "aberporth.af.unique()\n",
    "\n",
    "aberporth.tmax.unique()\n",
    "\n",
    "aberporth.tmin.unique()\n",
    "\n",
    "\n",
    "\n",
    "\n",
    "\n",
    "\n"
   ]
  },
  {
   "cell_type": "code",
   "execution_count": null,
   "metadata": {},
   "outputs": [],
   "source": []
  },
  {
   "cell_type": "code",
   "execution_count": null,
   "metadata": {},
   "outputs": [],
   "source": []
  },
  {
   "cell_type": "code",
   "execution_count": null,
   "metadata": {},
   "outputs": [],
   "source": []
  },
  {
   "cell_type": "code",
   "execution_count": null,
   "metadata": {},
   "outputs": [],
   "source": []
  },
  {
   "cell_type": "code",
   "execution_count": null,
   "metadata": {},
   "outputs": [],
   "source": []
  }
 ],
 "metadata": {
  "kernelspec": {
   "display_name": "Python 3",
   "language": "python",
   "name": "python3"
  },
  "language_info": {
   "codemirror_mode": {
    "name": "ipython",
    "version": 3
   },
   "file_extension": ".py",
   "mimetype": "text/x-python",
   "name": "python",
   "nbconvert_exporter": "python",
   "pygments_lexer": "ipython3",
   "version": "3.8.3"
  }
 },
 "nbformat": 4,
 "nbformat_minor": 4
}
