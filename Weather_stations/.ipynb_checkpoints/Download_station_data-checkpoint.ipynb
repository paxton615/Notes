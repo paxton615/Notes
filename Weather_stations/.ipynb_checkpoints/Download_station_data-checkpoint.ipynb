{
 "cells": [
  {
   "cell_type": "code",
   "execution_count": 1,
   "metadata": {},
   "outputs": [],
   "source": [
    "import pandas as pd\n",
    "import numpy as np\n",
    "import os \n",
    "\n",
    "from sklearn import metrics\n",
    "from sklearn.preprocessing import StandardScaler\n",
    "from sklearn.decomposition import PCA\n",
    "\n",
    "from sklearn import cluster\n",
    "from sklearn.cluster import DBSCAN\n",
    "from scipy.cluster.hierarchy import dendrogram, linkage, cophenet, fcluster\n",
    "from scipy.spatial.distance import pdist, squareform\n",
    "\n",
    "import seaborn as sns\n",
    "import matplotlib.pyplot as plt\n",
    "plt.style.use('ggplot')"
   ]
  },
  {
   "cell_type": "code",
   "execution_count": 2,
   "metadata": {},
   "outputs": [
    {
     "name": "stdout",
     "output_type": "stream",
     "text": [
      "/Users/paxton615/Github_Personal/Notes/Notes/Weather_stations\r\n"
     ]
    }
   ],
   "source": [
    "!pwd"
   ]
  },
  {
   "cell_type": "code",
   "execution_count": 3,
   "metadata": {},
   "outputs": [
    {
     "name": "stdout",
     "output_type": "stream",
     "text": [
      "Download_station_data.ipynb \u001b[34mWeather_stations\u001b[m\u001b[m\r\n",
      "Weather_station_data.ipynb\r\n"
     ]
    }
   ],
   "source": [
    "!ls"
   ]
  },
  {
   "cell_type": "markdown",
   "metadata": {},
   "source": [
    "#### 1. Load our data and perform any basic cleaning and/or EDA.¶"
   ]
  },
  {
   "cell_type": "code",
   "execution_count": 4,
   "metadata": {},
   "outputs": [],
   "source": [
    "station_names = ['Aberporth', 'Armagh', 'Ballypatrick Forest', 'Bradford', 'Braemar', 'Camborne', 'Cambridge NIAB', 'Cardiff Bute Park',\n",
    " 'Chivenor', 'Cwmystwyth', 'Dunstaffnage', 'Durham', 'Eastbourne', 'Eskdalemuir', 'Heathrow', 'Hurn', 'Lerwick',\n",
    " 'Leuchars', 'Lowestoft', 'Manston', 'Nairn', 'Newton Rigg', 'Oxford', 'Paisley', 'Ringway', 'Ross-on-Wye',\n",
    " 'Shawbury', 'Sheffield', 'Southampton', 'Stornoway Airport', 'Sutton Bonington', 'Tiree', 'Valley',\n",
    " 'Waddington', 'Whitby', 'Wick Airport', 'Yeovilton']"
   ]
  },
  {
   "cell_type": "code",
   "execution_count": 5,
   "metadata": {},
   "outputs": [],
   "source": [
    "lower_station_names = []\n",
    "for i in station_names:\n",
    "    lower_station_names.append(i.lower().replace(' ','_').replace('-','_'))"
   ]
  },
  {
   "cell_type": "code",
   "execution_count": 6,
   "metadata": {},
   "outputs": [],
   "source": [
    "def data_clean(station_name):\n",
    "    station_name = pd.read_excel('/Users/paxton615/Github_Personal/Notes/Notes/Weather_stations/Weather_stations/{}.xlsx'.format(station_name))\n",
    "    \n",
    "    station_name = station_name.iloc[1:,:-1] # get rid of useless row and column, 去除多余行，列\n",
    "    # 这里有一个例外 Yeovilton 需要 station_name.iloc[1:,:] 这样slice \n",
    "    \n",
    "    col_names = ['year', 'month', 'tmax', 'tmin', 'af', 'rain', 'sun',\n",
    "            'station', 'lat', 'lon'] # temperatre units: degC, rainfall units: mm, sun units: days\n",
    "    station_name.columns = col_names # replace column names with col_names, 替换列名成 col_names\n",
    "    \n",
    "    # fill in station, lat and lon with its value, 给车站，经纬度填上唯一值\n",
    "    station_name['station']= station_name.iloc[0, 7].lower().replace('-', '_').replace(' ','_')\n",
    "    station_name['lat'] = station_name.iloc[0,8]\n",
    "    station_name['lon'] = station_name.iloc[0,9]\n",
    "    \n",
    "    # replace --- with 0\n",
    "    station_name = station_name.replace('---', 0)\n",
    "    station_name = station_name.replace('--- #', 0)\n",
    "\n",
    "    # fillna with 0s, 将所有NaN替换成 0\n",
    "    station_name.fillna(0, inplace=True)\n",
    "    \n",
    "    # tidy all entries and unify types, 消除非数字字符，改type\n",
    "    \n",
    "    station_name['sun'] = station_name['sun'].astype(str)\n",
    "    station_name['sun'] = station_name['sun'].str.extract(r'(\\d+.\\d+)').astype('float')\n",
    "\n",
    "    station_name['tmax'] = station_name['tmax'].astype(str)\n",
    "    station_name['tmax'] = station_name['tmax'].str.extract(r'(-?\\d+.\\d+)').astype('float')\n",
    "\n",
    "    station_name['tmin'] = station_name['tmin'].astype(str)\n",
    "    station_name['tmin'] = station_name['tmin'].str.extract(r'(-?\\d+.\\d+)').astype('float')\n",
    "\n",
    "    station_name['rain'] = station_name['rain'].astype(str)\n",
    "    station_name['rain'] = station_name['rain'].str.extract(r'(\\d+.\\d+)').astype('float')\n",
    "\n",
    "    station_name['af'] = station_name['af'].astype(str)\n",
    "    station_name['af'] = station_name['af'].str.extract(r'(\\d+)').astype('float')\n",
    "\n",
    "    \n",
    "    # fillna with 0s, 将所有NaN替换成 0\n",
    "    station_name = station_name.fillna(0)\n",
    "    \n",
    "    return station_name"
   ]
  },
  {
   "cell_type": "code",
   "execution_count": 7,
   "metadata": {},
   "outputs": [],
   "source": [
    "def yeovilton_clean(station_name):\n",
    "    station_name = pd.read_excel('/Users/paxton615/Github_Personal/Notes/Notes/Weather_stations/Weather_stations/{}.xlsx'.format(station_name))\n",
    "    \n",
    "    station_name = station_name.iloc[1:,:] # get rid of useless row and column, 去除多余行，列\n",
    "    # 这里有一个例外 Yeovilton 需要 station_name.iloc[1:,:] 这样slice \n",
    "    \n",
    "    col_names = ['year', 'month', 'tmax', 'tmin', 'af', 'rain', 'sun',\n",
    "            'station', 'lat', 'lon'] # temperatre units: degC, rainfall units: mm, sun units: days\n",
    "    station_name.columns = col_names # replace column names with col_names, 替换列名成 col_names\n",
    "    \n",
    "    # fill in station, lat and lon with its value, 给车站，经纬度填上唯一值\n",
    "    station_name['station']= station_name.iloc[0, 7].lower().replace('-', '_').replace(' ','_')\n",
    "    station_name['lat'] = station_name.iloc[0,8]\n",
    "    station_name['lon'] = station_name.iloc[0,9]\n",
    "    \n",
    "    # replace --- with 0\n",
    "    station_name = station_name.replace('---', 0)\n",
    "    station_name = station_name.replace('--- #', 0)\n",
    "\n",
    "    # fillna with 0s, 将所有NaN替换成 0\n",
    "    station_name.fillna(0, inplace=True)\n",
    "    \n",
    "    # tidy all entries and unify types, 消除非数字字符，改type\n",
    "    \n",
    "    station_name['sun'] = station_name['sun'].astype(str)\n",
    "    station_name['sun'] = station_name['sun'].str.extract(r'(\\d+.\\d+)').astype('float')\n",
    "\n",
    "    station_name['tmax'] = station_name['tmax'].astype(str)\n",
    "    station_name['tmax'] = station_name['tmax'].str.extract(r'(-?\\d+.\\d+)').astype('float')\n",
    "\n",
    "    station_name['tmin'] = station_name['tmin'].astype(str)\n",
    "    station_name['tmin'] = station_name['tmin'].str.extract(r'(-?\\d+.\\d+)').astype('float')\n",
    "\n",
    "    station_name['rain'] = station_name['rain'].astype(str)\n",
    "    station_name['rain'] = station_name['rain'].str.extract(r'(\\d+.\\d+)').astype('float')\n",
    "\n",
    "    station_name['af'] = station_name['af'].astype(str)\n",
    "    station_name['af'] = station_name['af'].str.extract(r'(\\d+)').astype('float')\n",
    "\n",
    "    \n",
    "    # fillna with 0s, 将所有NaN替换成 0\n",
    "    station_name = station_name.fillna(0)\n",
    "    \n",
    "    return station_name"
   ]
  },
  {
   "cell_type": "code",
   "execution_count": 8,
   "metadata": {},
   "outputs": [],
   "source": [
    "aberporth = data_clean('Aberporth')\n",
    "armagh = data_clean('Armagh')\n",
    "ballypatrick_forest= data_clean('Ballypatrick Forest')\n",
    "bradford = data_clean('Bradford')\n",
    "braemar = data_clean('Braemar')\n",
    "camborne = data_clean('Camborne')\n",
    "cambridge_niab = data_clean('Cambridge NIAB')\n",
    "cardiff_bute_park = data_clean('Cardiff Bute Park')\n",
    "chivenor = data_clean('Chivenor')\n",
    "cwmystwyth = data_clean('Cwmystwyth')\n",
    "dunstaffnage = data_clean('Dunstaffnage')\n",
    "durham = data_clean('Durham')\n",
    "eastbourne = data_clean('Eastbourne')\n",
    "eskdalemuir = data_clean('Eskdalemuir')\n",
    "heathrow = data_clean('Heathrow')\n",
    "hurn = data_clean('Hurn')\n",
    "lerwick = data_clean('Lerwick')\n",
    "leuchars = data_clean('Leuchars')\n",
    "lowestoft = data_clean('Lowestoft')\n",
    "manston = data_clean('Manston')\n",
    "nairn = data_clean('Nairn')\n",
    "newton_rigg = data_clean('Newton Rigg')\n",
    "oxford = data_clean('Oxford')\n",
    "paisley = data_clean('Paisley')\n",
    "ringway = data_clean('Ringway') # last year is 2004, not 2022\n",
    "ross_on_wye = data_clean('Ross-on-Wye')\n",
    "shawbury = data_clean('Shawbury')\n",
    "sheffield = data_clean('Sheffield')\n",
    "southampton = data_clean('Southampton') # last year 2000,not 2022\n",
    "stornoway_airport = data_clean('Stornoway')\n",
    "sutton_bonington = data_clean('Sutton Bonington')\n",
    "tiree = data_clean('Tiree')\n",
    "valley = data_clean('Valley')\n",
    "waddington = data_clean('Waddington')\n",
    "whitby = data_clean('Whitby')\n",
    "wick_airport = data_clean('Wick Airport')\n",
    "yeovilton = yeovilton_clean('Yeovilton') \n",
    "# for some reason, yeovilton needs function to be altered as such:\n",
    "# station_name = station_name.iloc[1:,:]"
   ]
  },
  {
   "cell_type": "code",
   "execution_count": 9,
   "metadata": {},
   "outputs": [],
   "source": [
    "# check the last year and month of all stations"
   ]
  },
  {
   "cell_type": "code",
   "execution_count": 10,
   "metadata": {},
   "outputs": [
    {
     "data": {
      "text/plain": [
       "37"
      ]
     },
     "execution_count": 10,
     "metadata": {},
     "output_type": "execute_result"
    }
   ],
   "source": [
    "uni = [aberporth, armagh, ballypatrick_forest, bradford, braemar,\n",
    "      camborne, cambridge_niab, cardiff_bute_park, chivenor, \n",
    "      cwmystwyth, dunstaffnage, durham, eastbourne, eskdalemuir,\n",
    "      heathrow, hurn, lerwick, leuchars, lowestoft, manston,\n",
    "      nairn, newton_rigg, oxford, paisley, ringway, ross_on_wye,\n",
    "      shawbury, sheffield, southampton, stornoway_airport, \n",
    "      sutton_bonington, tiree, valley, waddington, whitby,\n",
    "      wick_airport, yeovilton]\n",
    "len(uni)"
   ]
  },
  {
   "cell_type": "code",
   "execution_count": 11,
   "metadata": {},
   "outputs": [],
   "source": [
    "# YEAR\n",
    "# for i in uni:\n",
    "#     print('{}          year:{}'.format(i.iloc[-1,7],i.iloc[-1,0]))"
   ]
  },
  {
   "cell_type": "code",
   "execution_count": 12,
   "metadata": {},
   "outputs": [],
   "source": [
    "# cwmystwyth          year:2011.0\n",
    "# ringway          year:2004.0\n",
    "# southampton          year:2000.0  (other data's year all end at 2022)"
   ]
  },
  {
   "cell_type": "code",
   "execution_count": 13,
   "metadata": {
    "scrolled": false
   },
   "outputs": [],
   "source": [
    "# MONTH\n",
    "# for i in uni:\n",
    "#     print('{}          month:{}'.format(i.iloc[-1,7],i.iloc[-1,1]))"
   ]
  },
  {
   "cell_type": "code",
   "execution_count": 14,
   "metadata": {},
   "outputs": [],
   "source": [
    "# ringway          month:10.0   (other data's month all end at March)\n",
    "    "
   ]
  },
  {
   "cell_type": "code",
   "execution_count": 15,
   "metadata": {},
   "outputs": [],
   "source": [
    "# ???\n",
    "# get rid of cwmystwyth,ringway,southampton 但是我感觉，可能，也没有必要\n"
   ]
  },
  {
   "cell_type": "code",
   "execution_count": 16,
   "metadata": {},
   "outputs": [],
   "source": [
    "# 因为发现了很多数据缺失情况，比如7月最高平均气温是0度。\n",
    "# 所以决定使用 avg 平均气温, 平均降雾，降雨，阳光量作为大数据分析的标准。"
   ]
  },
  {
   "cell_type": "code",
   "execution_count": 17,
   "metadata": {},
   "outputs": [
    {
     "data": {
      "text/html": [
       "<div>\n",
       "<style scoped>\n",
       "    .dataframe tbody tr th:only-of-type {\n",
       "        vertical-align: middle;\n",
       "    }\n",
       "\n",
       "    .dataframe tbody tr th {\n",
       "        vertical-align: top;\n",
       "    }\n",
       "\n",
       "    .dataframe thead th {\n",
       "        text-align: right;\n",
       "    }\n",
       "</style>\n",
       "<table border=\"1\" class=\"dataframe\">\n",
       "  <thead>\n",
       "    <tr style=\"text-align: right;\">\n",
       "      <th></th>\n",
       "      <th>year</th>\n",
       "      <th>month</th>\n",
       "      <th>tmax</th>\n",
       "      <th>tmin</th>\n",
       "      <th>af</th>\n",
       "      <th>rain</th>\n",
       "      <th>sun</th>\n",
       "      <th>station</th>\n",
       "      <th>lat</th>\n",
       "      <th>lon</th>\n",
       "    </tr>\n",
       "  </thead>\n",
       "  <tbody>\n",
       "    <tr>\n",
       "      <th>689</th>\n",
       "      <td>2022.0</td>\n",
       "      <td>1.0</td>\n",
       "      <td>0.0</td>\n",
       "      <td>0.5</td>\n",
       "      <td>15.0</td>\n",
       "      <td>22.4</td>\n",
       "      <td>62.7</td>\n",
       "      <td>yeovilton</td>\n",
       "      <td>51.006</td>\n",
       "      <td>-2.641</td>\n",
       "    </tr>\n",
       "    <tr>\n",
       "      <th>690</th>\n",
       "      <td>2022.0</td>\n",
       "      <td>2.0</td>\n",
       "      <td>11.2</td>\n",
       "      <td>3.8</td>\n",
       "      <td>4.0</td>\n",
       "      <td>41.8</td>\n",
       "      <td>72.2</td>\n",
       "      <td>yeovilton</td>\n",
       "      <td>51.006</td>\n",
       "      <td>-2.641</td>\n",
       "    </tr>\n",
       "    <tr>\n",
       "      <th>691</th>\n",
       "      <td>2022.0</td>\n",
       "      <td>3.0</td>\n",
       "      <td>13.1</td>\n",
       "      <td>3.5</td>\n",
       "      <td>5.0</td>\n",
       "      <td>49.2</td>\n",
       "      <td>164.7</td>\n",
       "      <td>yeovilton</td>\n",
       "      <td>51.006</td>\n",
       "      <td>-2.641</td>\n",
       "    </tr>\n",
       "  </tbody>\n",
       "</table>\n",
       "</div>"
      ],
      "text/plain": [
       "       year  month  tmax  tmin    af  rain    sun    station     lat    lon\n",
       "689  2022.0    1.0   0.0   0.5  15.0  22.4   62.7  yeovilton  51.006 -2.641\n",
       "690  2022.0    2.0  11.2   3.8   4.0  41.8   72.2  yeovilton  51.006 -2.641\n",
       "691  2022.0    3.0  13.1   3.5   5.0  49.2  164.7  yeovilton  51.006 -2.641"
      ]
     },
     "execution_count": 17,
     "metadata": {},
     "output_type": "execute_result"
    }
   ],
   "source": [
    "uni[36].tail(3)"
   ]
  },
  {
   "cell_type": "code",
   "execution_count": 18,
   "metadata": {},
   "outputs": [
    {
     "data": {
      "text/plain": [
       "Index(['station', 'avg_tmx', 'avg_tmin', 'avg_af', 'avg_rain', 'avg_sun',\n",
       "       'lat', 'lon'],\n",
       "      dtype='object')"
      ]
     },
     "execution_count": 18,
     "metadata": {},
     "output_type": "execute_result"
    }
   ],
   "source": [
    "pd.DataFrame({\"station\":uni[36].iloc[-1,7],\n",
    "#               'all_tmx':uni[36].iloc[:,2].max(),  all_  means the highest temperature\n",
    "#              'all_tmin':uni[36].iloc[:,3].min(), \n",
    "             'avg_tmx':np.round(uni[36].iloc[:,2].mean(),2), \n",
    "             'avg_tmin':np.round(uni[36].iloc[:,3].mean(),2),\n",
    "              'avg_af':np.round(uni[36].iloc[:,4].mean(),2),\n",
    "              'avg_rain':np.round(uni[36].iloc[:,5].mean(),2),\n",
    "              'avg_sun':np.round(uni[36].iloc[:,6].mean(),2),\n",
    "             'lat':uni[36].iloc[-1,8],\n",
    "             'lon':uni[36].iloc[-1,9]},\n",
    "             index=[1]).columns"
   ]
  },
  {
   "cell_type": "code",
   "execution_count": 19,
   "metadata": {},
   "outputs": [],
   "source": [
    "vase = []\n",
    "for i in uni:\n",
    "    vase.append([i.iloc[-1,7],\n",
    "              np.round(i.iloc[:,2].mean(),2),\n",
    "               np.round(i.iloc[:,3].mean(),2),\n",
    "               np.round(i.iloc[:,4].mean(),2),\n",
    "               np.round(i.iloc[:,5].mean(),2),\n",
    "               np.round(uni[36].iloc[:,6].mean(),2),\n",
    "             i.iloc[-1,8],\n",
    "             i.iloc[-1,9]])"
   ]
  },
  {
   "cell_type": "code",
   "execution_count": 20,
   "metadata": {},
   "outputs": [
    {
     "data": {
      "text/plain": [
       "station      object\n",
       "avg_tmx     float64\n",
       "avg_tmin    float64\n",
       "avg_af      float64\n",
       "avg_rain    float64\n",
       "avg_sun     float64\n",
       "lat         float64\n",
       "lon         float64\n",
       "dtype: object"
      ]
     },
     "execution_count": 20,
     "metadata": {},
     "output_type": "execute_result"
    }
   ],
   "source": [
    "data = pd.DataFrame(vase, columns = ['station', 'avg_tmx', 'avg_tmin', 'avg_af', 'avg_rain', 'avg_sun',\n",
    "       'lat', 'lon'])\n",
    "data.dtypes"
   ]
  },
  {
   "cell_type": "code",
   "execution_count": 21,
   "metadata": {},
   "outputs": [
    {
     "data": {
      "text/html": [
       "<div>\n",
       "<style scoped>\n",
       "    .dataframe tbody tr th:only-of-type {\n",
       "        vertical-align: middle;\n",
       "    }\n",
       "\n",
       "    .dataframe tbody tr th {\n",
       "        vertical-align: top;\n",
       "    }\n",
       "\n",
       "    .dataframe thead th {\n",
       "        text-align: right;\n",
       "    }\n",
       "</style>\n",
       "<table border=\"1\" class=\"dataframe\">\n",
       "  <thead>\n",
       "    <tr style=\"text-align: right;\">\n",
       "      <th></th>\n",
       "      <th>station</th>\n",
       "      <th>avg_tmx</th>\n",
       "      <th>avg_tmin</th>\n",
       "      <th>avg_af</th>\n",
       "      <th>avg_rain</th>\n",
       "      <th>avg_sun</th>\n",
       "      <th>lat</th>\n",
       "      <th>lon</th>\n",
       "    </tr>\n",
       "  </thead>\n",
       "  <tbody>\n",
       "    <tr>\n",
       "      <th>0</th>\n",
       "      <td>aberporth</td>\n",
       "      <td>12.23</td>\n",
       "      <td>7.14</td>\n",
       "      <td>1.22</td>\n",
       "      <td>76.26</td>\n",
       "      <td>83.26</td>\n",
       "      <td>52.139</td>\n",
       "      <td>-4.570</td>\n",
       "    </tr>\n",
       "    <tr>\n",
       "      <th>1</th>\n",
       "      <td>armagh</td>\n",
       "      <td>10.79</td>\n",
       "      <td>4.71</td>\n",
       "      <td>3.05</td>\n",
       "      <td>63.51</td>\n",
       "      <td>83.26</td>\n",
       "      <td>54.352</td>\n",
       "      <td>-6.649</td>\n",
       "    </tr>\n",
       "    <tr>\n",
       "      <th>2</th>\n",
       "      <td>ballypatrick_forest</td>\n",
       "      <td>10.88</td>\n",
       "      <td>5.28</td>\n",
       "      <td>2.33</td>\n",
       "      <td>60.04</td>\n",
       "      <td>83.26</td>\n",
       "      <td>55.181</td>\n",
       "      <td>-6.153</td>\n",
       "    </tr>\n",
       "    <tr>\n",
       "      <th>3</th>\n",
       "      <td>bradford</td>\n",
       "      <td>11.09</td>\n",
       "      <td>5.16</td>\n",
       "      <td>3.72</td>\n",
       "      <td>66.01</td>\n",
       "      <td>83.26</td>\n",
       "      <td>53.813</td>\n",
       "      <td>-1.772</td>\n",
       "    </tr>\n",
       "    <tr>\n",
       "      <th>4</th>\n",
       "      <td>braemar</td>\n",
       "      <td>9.23</td>\n",
       "      <td>2.43</td>\n",
       "      <td>8.64</td>\n",
       "      <td>66.70</td>\n",
       "      <td>83.26</td>\n",
       "      <td>57.006</td>\n",
       "      <td>-3.396</td>\n",
       "    </tr>\n",
       "  </tbody>\n",
       "</table>\n",
       "</div>"
      ],
      "text/plain": [
       "               station  avg_tmx  avg_tmin  avg_af  avg_rain  avg_sun     lat  \\\n",
       "0            aberporth    12.23      7.14    1.22     76.26    83.26  52.139   \n",
       "1               armagh    10.79      4.71    3.05     63.51    83.26  54.352   \n",
       "2  ballypatrick_forest    10.88      5.28    2.33     60.04    83.26  55.181   \n",
       "3             bradford    11.09      5.16    3.72     66.01    83.26  53.813   \n",
       "4              braemar     9.23      2.43    8.64     66.70    83.26  57.006   \n",
       "\n",
       "     lon  \n",
       "0 -4.570  \n",
       "1 -6.649  \n",
       "2 -6.153  \n",
       "3 -1.772  \n",
       "4 -3.396  "
      ]
     },
     "execution_count": 21,
     "metadata": {},
     "output_type": "execute_result"
    }
   ],
   "source": [
    "data.head()"
   ]
  },
  {
   "cell_type": "code",
   "execution_count": 22,
   "metadata": {},
   "outputs": [
    {
     "data": {
      "image/png": "[encoded data removed]",
      "text/plain": [
       "<Figure size 720x432 with 2 Axes>"
      ]
     },
     "metadata": {},
     "output_type": "display_data"
    }
   ],
   "source": [
    "corrmat= data.corr()\n",
    "plt.figure(figsize=(10,6))  \n",
    "sns.heatmap(corrmat,annot=True,  center=0);"
   ]
  },
  {
   "cell_type": "markdown",
   "metadata": {},
   "source": [
    "#### Set up an X matrix to perform clustering with DBSCAN."
   ]
  },
  {
   "cell_type": "code",
   "execution_count": 23,
   "metadata": {},
   "outputs": [],
   "source": [
    "# ['station', 'avg_tmx', 'avg_tmin', 'avg_af', 'avg_rain', 'avg_sun','lat', 'lon']"
   ]
  },
  {
   "cell_type": "code",
   "execution_count": 24,
   "metadata": {},
   "outputs": [
    {
     "data": {
      "text/html": [
       "<div>\n",
       "<style scoped>\n",
       "    .dataframe tbody tr th:only-of-type {\n",
       "        vertical-align: middle;\n",
       "    }\n",
       "\n",
       "    .dataframe tbody tr th {\n",
       "        vertical-align: top;\n",
       "    }\n",
       "\n",
       "    .dataframe thead th {\n",
       "        text-align: right;\n",
       "    }\n",
       "</style>\n",
       "<table border=\"1\" class=\"dataframe\">\n",
       "  <thead>\n",
       "    <tr style=\"text-align: right;\">\n",
       "      <th></th>\n",
       "      <th>avg_tmx</th>\n",
       "      <th>avg_tmin</th>\n",
       "      <th>avg_af</th>\n",
       "      <th>avg_rain</th>\n",
       "      <th>lat</th>\n",
       "      <th>lon</th>\n",
       "    </tr>\n",
       "  </thead>\n",
       "  <tbody>\n",
       "    <tr>\n",
       "      <th>0</th>\n",
       "      <td>12.23</td>\n",
       "      <td>7.14</td>\n",
       "      <td>1.22</td>\n",
       "      <td>76.26</td>\n",
       "      <td>52.139</td>\n",
       "      <td>-4.570</td>\n",
       "    </tr>\n",
       "    <tr>\n",
       "      <th>1</th>\n",
       "      <td>10.79</td>\n",
       "      <td>4.71</td>\n",
       "      <td>3.05</td>\n",
       "      <td>63.51</td>\n",
       "      <td>54.352</td>\n",
       "      <td>-6.649</td>\n",
       "    </tr>\n",
       "  </tbody>\n",
       "</table>\n",
       "</div>"
      ],
      "text/plain": [
       "   avg_tmx  avg_tmin  avg_af  avg_rain     lat    lon\n",
       "0    12.23      7.14    1.22     76.26  52.139 -4.570\n",
       "1    10.79      4.71    3.05     63.51  54.352 -6.649"
      ]
     },
     "execution_count": 24,
     "metadata": {},
     "output_type": "execute_result"
    }
   ],
   "source": [
    "X = data.drop(['station','avg_sun'], axis = 1)\n",
    "X.head(2)"
   ]
  },
  {
   "cell_type": "code",
   "execution_count": 25,
   "metadata": {},
   "outputs": [
    {
     "data": {
      "image/png": "[encoded data removed]",
      "text/plain": [
       "<Figure size 432x288 with 1 Axes>"
      ]
     },
     "metadata": {},
     "output_type": "display_data"
    }
   ],
   "source": [
    "X.plot(x='avg_rain', y='avg_tmx', kind='scatter', s=40, c='r')\n",
    "plt.show()"
   ]
  },
  {
   "cell_type": "code",
   "execution_count": 26,
   "metadata": {},
   "outputs": [
    {
     "data": {
      "image/png": "[encoded data removed]",
      "text/plain": [
       "<Figure size 432x288 with 1 Axes>"
      ]
     },
     "metadata": {},
     "output_type": "display_data"
    }
   ],
   "source": [
    "X.plot(x='avg_tmin', y='avg_tmx', kind='scatter', s=40, c='r')\n",
    "plt.show()"
   ]
  },
  {
   "cell_type": "code",
   "execution_count": 27,
   "metadata": {},
   "outputs": [
    {
     "data": {
      "image/png": "[encoded data removed]",
      "text/plain": [
       "<Figure size 432x288 with 1 Axes>"
      ]
     },
     "metadata": {},
     "output_type": "display_data"
    }
   ],
   "source": [
    "X.plot(x='avg_af', y='avg_tmx', kind='scatter', s=40, c='r')\n",
    "plt.show()"
   ]
  },
  {
   "cell_type": "code",
   "execution_count": 28,
   "metadata": {
    "scrolled": true
   },
   "outputs": [
    {
     "data": {
      "image/png": "[encoded data removed]",
      "text/plain": [
       "<Figure size 432x288 with 1 Axes>"
      ]
     },
     "metadata": {},
     "output_type": "display_data"
    }
   ],
   "source": [
    "X.plot(x='lat', y='avg_tmx', kind='scatter', s=40, c='r')\n",
    "plt.show()"
   ]
  },
  {
   "cell_type": "code",
   "execution_count": 29,
   "metadata": {},
   "outputs": [
    {
     "data": {
      "image/png": "[encoded data removed]",
      "text/plain": [
       "<Figure size 432x288 with 1 Axes>"
      ]
     },
     "metadata": {},
     "output_type": "display_data"
    }
   ],
   "source": [
    "X.plot(x='lon', y='avg_tmx', kind='scatter', s=40, c='r')\n",
    "plt.show()"
   ]
  },
  {
   "cell_type": "markdown",
   "metadata": {},
   "source": [
    "#### 4. Scale data"
   ]
  },
  {
   "cell_type": "code",
   "execution_count": 30,
   "metadata": {},
   "outputs": [],
   "source": [
    "scaler = StandardScaler()\n",
    "Xs = scaler.fit_transform(X)\n",
    "Xs = pd.DataFrame(Xs, columns=X.columns)"
   ]
  },
  {
   "cell_type": "code",
   "execution_count": null,
   "metadata": {},
   "outputs": [],
   "source": []
  },
  {
   "cell_type": "markdown",
   "metadata": {},
   "source": [
    "#### 5. Fit a DBSCAN clusterer and check out the assigned cluster labels"
   ]
  },
  {
   "cell_type": "code",
   "execution_count": 31,
   "metadata": {},
   "outputs": [
    {
     "name": "stdout",
     "output_type": "stream",
     "text": [
      "[ 0  0  0  0 -1  0  0  0  0  1  0  0  0  1  0  0  0  0  0  0  0  0  0  0\n",
      "  0  0  0  0  0  0  0  0  0  0  0  0  0] \n",
      "\n",
      "types of clusters: 2\n"
     ]
    }
   ],
   "source": [
    "dbscan = DBSCAN(eps=2.5, min_samples=2)\n",
    "dbscan.fit(Xs)\n",
    "\n",
    "labels = dbscan.labels_\n",
    "print(labels, '\\n')\n",
    "# how many clusters do we have?\n",
    "n_clusters_ = len(set(labels).difference(set([-1])))\n",
    "print(\"types of clusters: {}\".format(n_clusters_) )"
   ]
  },
  {
   "cell_type": "code",
   "execution_count": 32,
   "metadata": {},
   "outputs": [
    {
     "name": "stdout",
     "output_type": "stream",
     "text": [
      "[ 0  1  1  2 -1  0  2  2 -1  3  4  2  2  3  2  2  2  2  2  2  2  2  2  4\n",
      "  2  2  2  2  2  1  2  1  0  2  2  2  2] \n",
      "\n",
      "types of clusters: 5\n"
     ]
    }
   ],
   "source": [
    "dbscan = DBSCAN(eps=1.8, min_samples=2)\n",
    "dbscan.fit(Xs)\n",
    "\n",
    "labels = dbscan.labels_\n",
    "print(labels, '\\n')\n",
    "# how many clusters do we have?\n",
    "n_clusters_ = len(set(labels).difference(set([-1])))\n",
    "print(\"types of clusters: {}\".format(n_clusters_) )"
   ]
  },
  {
   "cell_type": "code",
   "execution_count": 33,
   "metadata": {},
   "outputs": [
    {
     "name": "stdout",
     "output_type": "stream",
     "text": [
      "[ 0  1  1  0 -1  0  0  0 -1  2  1  0  0  2  0  0  0  0  0  0  0  0  0  1\n",
      "  0  0  0  0  0  1  0  1  0  0  0  0  0] \n",
      "\n",
      "types of clusters: 3\n"
     ]
    }
   ],
   "source": [
    "dbscan = DBSCAN(eps=1.9, min_samples=2)\n",
    "dbscan.fit(Xs)\n",
    "\n",
    "labels = dbscan.labels_\n",
    "print(labels, '\\n')\n",
    "# how many clusters do we have?\n",
    "n_clusters_ = len(set(labels).difference(set([-1])))\n",
    "print(\"types of clusters: {}\".format(n_clusters_) )"
   ]
  },
  {
   "cell_type": "code",
   "execution_count": 34,
   "metadata": {},
   "outputs": [
    {
     "name": "stdout",
     "output_type": "stream",
     "text": [
      "[ 0  1  1  0 -1  0  0  0 -1  2  1  0  0  2  0  0  0  0  0  0  0  0  0  1\n",
      "  0  0  0  0  0  1  0  1  0  0  0  0  0] \n",
      "\n",
      "types of clusters: 3\n"
     ]
    }
   ],
   "source": [
    "dbscan = DBSCAN(eps=2, min_samples=2)\n",
    "dbscan.fit(Xs)\n",
    "\n",
    "labels = dbscan.labels_\n",
    "print(labels, '\\n')\n",
    "# how many clusters do we have?\n",
    "n_clusters_ = len(set(labels).difference(set([-1])))\n",
    "print(\"types of clusters: {}\".format(n_clusters_) )"
   ]
  },
  {
   "cell_type": "markdown",
   "metadata": {},
   "source": [
    "#### 6. Identify core samples"
   ]
  },
  {
   "cell_type": "code",
   "execution_count": 35,
   "metadata": {},
   "outputs": [
    {
     "name": "stdout",
     "output_type": "stream",
     "text": [
      "[ 0  1  2  3  5  6  7  9 10 11 12 13 14 15 16 17 18 19 20 21 22 23 24 25\n",
      " 26 27 28 29 30 31 32 33 34 35 36]\n"
     ]
    }
   ],
   "source": [
    "# Extract core sample indices\n",
    "print(dbscan.core_sample_indices_)"
   ]
  },
  {
   "cell_type": "code",
   "execution_count": 36,
   "metadata": {},
   "outputs": [
    {
     "data": {
      "text/plain": [
       "array([False, False, False, False, False, False, False, False, False,\n",
       "       False, False, False, False, False, False, False, False, False,\n",
       "       False, False, False, False, False, False, False, False, False,\n",
       "       False, False, False, False, False, False, False, False, False,\n",
       "       False])"
      ]
     },
     "execution_count": 36,
     "metadata": {},
     "output_type": "execute_result"
    }
   ],
   "source": [
    "core_samples = np.zeros_like(labels, dtype=bool)\n",
    "core_samples"
   ]
  },
  {
   "cell_type": "code",
   "execution_count": 37,
   "metadata": {},
   "outputs": [
    {
     "data": {
      "text/plain": [
       "array([ True,  True,  True,  True, False,  True,  True,  True, False,\n",
       "        True,  True,  True,  True,  True,  True,  True,  True,  True,\n",
       "        True,  True,  True,  True,  True,  True,  True,  True,  True,\n",
       "        True,  True,  True,  True,  True,  True,  True,  True,  True,\n",
       "        True])"
      ]
     },
     "execution_count": 37,
     "metadata": {},
     "output_type": "execute_result"
    }
   ],
   "source": [
    "core_samples[dbscan.core_sample_indices_] = True\n",
    "core_samples"
   ]
  },
  {
   "cell_type": "code",
   "execution_count": 38,
   "metadata": {},
   "outputs": [
    {
     "name": "stdout",
     "output_type": "stream",
     "text": [
      "Core samples\n",
      "[1 1 1 1 0 1 1 1 0 1 1 1 1 1 1 1 1 1 1 1 1 1 1 1 1 1 1 1 1 1 1 1 1 1 1 1 1]\n"
     ]
    }
   ],
   "source": [
    "print(\"Core samples\")\n",
    "print((core_samples * 1))"
   ]
  },
  {
   "cell_type": "code",
   "execution_count": null,
   "metadata": {},
   "outputs": [],
   "source": []
  },
  {
   "cell_type": "code",
   "execution_count": null,
   "metadata": {},
   "outputs": [],
   "source": []
  },
  {
   "cell_type": "code",
   "execution_count": null,
   "metadata": {},
   "outputs": [],
   "source": []
  },
  {
   "cell_type": "code",
   "execution_count": null,
   "metadata": {},
   "outputs": [],
   "source": []
  },
  {
   "cell_type": "code",
   "execution_count": null,
   "metadata": {},
   "outputs": [],
   "source": []
  },
  {
   "cell_type": "code",
   "execution_count": null,
   "metadata": {},
   "outputs": [],
   "source": []
  }
 ],
 "metadata": {
  "kernelspec": {
   "display_name": "Python 3",
   "language": "python",
   "name": "python3"
  },
  "language_info": {
   "codemirror_mode": {
    "name": "ipython",
    "version": 3
   },
   "file_extension": ".py",
   "mimetype": "text/x-python",
   "name": "python",
   "nbconvert_exporter": "python",
   "pygments_lexer": "ipython3",
   "version": "3.8.3"
  }
 },
 "nbformat": 4,
 "nbformat_minor": 4
}
