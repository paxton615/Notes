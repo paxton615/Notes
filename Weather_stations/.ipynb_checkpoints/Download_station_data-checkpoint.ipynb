{
 "cells": [
  {
   "cell_type": "code",
   "execution_count": 72,
   "metadata": {},
   "outputs": [],
   "source": [
    "import pandas as pd\n",
    "import numpy as np\n",
    "import os \n",
    "\n",
    "from sklearn import metrics\n",
    "from sklearn.preprocessing import StandardScaler\n",
    "from sklearn.decomposition import PCA\n",
    "\n",
    "from sklearn import cluster\n",
    "from sklearn.cluster import DBSCAN\n",
    "from scipy.cluster.hierarchy import dendrogram, linkage, cophenet, fcluster\n",
    "from scipy.spatial.distance import pdist, squareform\n",
    "\n",
    "\n",
    "import matplotlib.pyplot as plt\n",
    "plt.style.use('ggplot')"
   ]
  },
  {
   "cell_type": "code",
   "execution_count": 2,
   "metadata": {},
   "outputs": [
    {
     "name": "stdout",
     "output_type": "stream",
     "text": [
      "/Users/paxton615/Github_Personal/Notes/Notes/Weather_stations\r\n"
     ]
    }
   ],
   "source": [
    "!pwd"
   ]
  },
  {
   "cell_type": "code",
   "execution_count": 3,
   "metadata": {},
   "outputs": [
    {
     "name": "stdout",
     "output_type": "stream",
     "text": [
      "Download_station_data.ipynb \u001b[34mWeather_stations\u001b[m\u001b[m\r\n",
      "Weather_station_data.ipynb\r\n"
     ]
    }
   ],
   "source": [
    "!ls"
   ]
  },
  {
   "cell_type": "markdown",
   "metadata": {},
   "source": [
    "#### 1. Load our data and perform any basic cleaning and/or EDA.¶"
   ]
  },
  {
   "cell_type": "code",
   "execution_count": 4,
   "metadata": {},
   "outputs": [],
   "source": [
    "station_names = ['Aberporth', 'Armagh', 'Ballypatrick Forest', 'Bradford', 'Braemar', 'Camborne', 'Cambridge NIAB', 'Cardiff Bute Park',\n",
    " 'Chivenor', 'Cwmystwyth', 'Dunstaffnage', 'Durham', 'Eastbourne', 'Eskdalemuir', 'Heathrow', 'Hurn', 'Lerwick',\n",
    " 'Leuchars', 'Lowestoft', 'Manston', 'Nairn', 'Newton Rigg', 'Oxford', 'Paisley', 'Ringway', 'Ross-on-Wye',\n",
    " 'Shawbury', 'Sheffield', 'Southampton', 'Stornoway Airport', 'Sutton Bonington', 'Tiree', 'Valley',\n",
    " 'Waddington', 'Whitby', 'Wick Airport', 'Yeovilton']"
   ]
  },
  {
   "cell_type": "code",
   "execution_count": 5,
   "metadata": {},
   "outputs": [],
   "source": [
    "lower_station_names = []\n",
    "for i in station_names:\n",
    "    lower_station_names.append(i.lower().replace(' ','_').replace('-','_'))"
   ]
  },
  {
   "cell_type": "code",
   "execution_count": 6,
   "metadata": {},
   "outputs": [],
   "source": [
    "def data_clean(station_name):\n",
    "    station_name = pd.read_excel('/Users/paxton615/Github_Personal/Notes/Notes/Weather_stations/Weather_stations/{}.xlsx'.format(station_name))\n",
    "    \n",
    "    station_name = station_name.iloc[1:,:-1] # get rid of useless row and column, 去除多余行，列\n",
    "    # 这里有一个例外 Yeovilton 需要 station_name.iloc[1:,:] 这样slice \n",
    "    \n",
    "    col_names = ['year', 'month', 'tmax', 'tmin', 'af', 'rain', 'sun',\n",
    "            'station', 'lat', 'lon'] # temperatre units: degC, rainfall units: mm, sun units: days\n",
    "    station_name.columns = col_names # replace column names with col_names, 替换列名成 col_names\n",
    "    \n",
    "    # fill in station, lat and lon with its value, 给车站，经纬度填上唯一值\n",
    "    station_name['station']= station_name.iloc[0, 7].lower().replace('-', '_').replace(' ','_')\n",
    "    station_name['lat'] = station_name.iloc[0,8]\n",
    "    station_name['lon'] = station_name.iloc[0,9]\n",
    "    \n",
    "    # replace --- with 0\n",
    "    station_name = station_name.replace('---', 0)\n",
    "    station_name = station_name.replace('--- #', 0)\n",
    "\n",
    "    # fillna with 0s, 将所有NaN替换成 0\n",
    "    station_name.fillna(0, inplace=True)\n",
    "    \n",
    "    # tidy all entries and unify types, 消除非数字字符，改type\n",
    "    \n",
    "    station_name['sun'] = station_name['sun'].astype(str)\n",
    "    station_name['sun'] = station_name['sun'].str.extract(r'(\\d+.\\d+)').astype('float')\n",
    "\n",
    "    station_name['tmax'] = station_name['tmax'].astype(str)\n",
    "    station_name['tmax'] = station_name['tmax'].str.extract(r'(-?\\d+.\\d+)').astype('float')\n",
    "\n",
    "    station_name['tmin'] = station_name['tmin'].astype(str)\n",
    "    station_name['tmin'] = station_name['tmin'].str.extract(r'(-?\\d+.\\d+)').astype('float')\n",
    "\n",
    "    station_name['rain'] = station_name['rain'].astype(str)\n",
    "    station_name['rain'] = station_name['rain'].str.extract(r'(\\d+.\\d+)').astype('float')\n",
    "\n",
    "    station_name['af'] = station_name['af'].astype(str)\n",
    "    station_name['af'] = station_name['af'].str.extract(r'(\\d+)').astype('float')\n",
    "\n",
    "    \n",
    "    # fillna with 0s, 将所有NaN替换成 0\n",
    "    station_name = station_name.fillna(0)\n",
    "    \n",
    "    return station_name"
   ]
  },
  {
   "cell_type": "code",
   "execution_count": 7,
   "metadata": {},
   "outputs": [],
   "source": [
    "def yeovilton_clean(station_name):\n",
    "    station_name = pd.read_excel('/Users/paxton615/Github_Personal/Notes/Notes/Weather_stations/Weather_stations/{}.xlsx'.format(station_name))\n",
    "    \n",
    "    station_name = station_name.iloc[1:,:] # get rid of useless row and column, 去除多余行，列\n",
    "    # 这里有一个例外 Yeovilton 需要 station_name.iloc[1:,:] 这样slice \n",
    "    \n",
    "    col_names = ['year', 'month', 'tmax', 'tmin', 'af', 'rain', 'sun',\n",
    "            'station', 'lat', 'lon'] # temperatre units: degC, rainfall units: mm, sun units: days\n",
    "    station_name.columns = col_names # replace column names with col_names, 替换列名成 col_names\n",
    "    \n",
    "    # fill in station, lat and lon with its value, 给车站，经纬度填上唯一值\n",
    "    station_name['station']= station_name.iloc[0, 7].lower().replace('-', '_').replace(' ','_')\n",
    "    station_name['lat'] = station_name.iloc[0,8]\n",
    "    station_name['lon'] = station_name.iloc[0,9]\n",
    "    \n",
    "    # replace --- with 0\n",
    "    station_name = station_name.replace('---', 0)\n",
    "    station_name = station_name.replace('--- #', 0)\n",
    "\n",
    "    # fillna with 0s, 将所有NaN替换成 0\n",
    "    station_name.fillna(0, inplace=True)\n",
    "    \n",
    "    # tidy all entries and unify types, 消除非数字字符，改type\n",
    "    \n",
    "    station_name['sun'] = station_name['sun'].astype(str)\n",
    "    station_name['sun'] = station_name['sun'].str.extract(r'(\\d+.\\d+)').astype('float')\n",
    "\n",
    "    station_name['tmax'] = station_name['tmax'].astype(str)\n",
    "    station_name['tmax'] = station_name['tmax'].str.extract(r'(-?\\d+.\\d+)').astype('float')\n",
    "\n",
    "    station_name['tmin'] = station_name['tmin'].astype(str)\n",
    "    station_name['tmin'] = station_name['tmin'].str.extract(r'(-?\\d+.\\d+)').astype('float')\n",
    "\n",
    "    station_name['rain'] = station_name['rain'].astype(str)\n",
    "    station_name['rain'] = station_name['rain'].str.extract(r'(\\d+.\\d+)').astype('float')\n",
    "\n",
    "    station_name['af'] = station_name['af'].astype(str)\n",
    "    station_name['af'] = station_name['af'].str.extract(r'(\\d+)').astype('float')\n",
    "\n",
    "    \n",
    "    # fillna with 0s, 将所有NaN替换成 0\n",
    "    station_name = station_name.fillna(0)\n",
    "    \n",
    "    return station_name"
   ]
  },
  {
   "cell_type": "code",
   "execution_count": 8,
   "metadata": {},
   "outputs": [],
   "source": [
    "aberporth = data_clean('Aberporth')\n",
    "\n",
    "armagh = data_clean('Armagh')\n",
    "\n",
    "ballypatrick_forest= data_clean('Ballypatrick Forest')\n",
    "\n",
    "bradford = data_clean('Bradford')\n",
    "\n",
    "braemar = data_clean('Braemar')\n",
    "\n",
    "camborne = data_clean('Camborne')\n",
    "\n",
    "cambridge_niab = data_clean('Cambridge NIAB')\n",
    "\n",
    "cardiff_bute_park = data_clean('Cardiff Bute Park')\n",
    "\n",
    "chivenor = data_clean('Chivenor')\n",
    "\n",
    "cwmystwyth = data_clean('Cwmystwyth')\n",
    "\n",
    "dunstaffnage = data_clean('Dunstaffnage')\n",
    "\n",
    "durham = data_clean('Durham')\n",
    "\n",
    "eastbourne = data_clean('Eastbourne')\n",
    "\n",
    "eskdalemuir = data_clean('Eskdalemuir')\n",
    "\n",
    "heathrow = data_clean('Heathrow')\n",
    "\n",
    "hurn = data_clean('Hurn')\n",
    "\n",
    "lerwick = data_clean('Lerwick')\n",
    "\n",
    "leuchars = data_clean('Leuchars')\n",
    "\n",
    "lowestoft = data_clean('Lowestoft')\n",
    "\n",
    "manston = data_clean('Manston')\n",
    "\n",
    "nairn = data_clean('Nairn')\n",
    "\n",
    "newton_rigg = data_clean('Newton Rigg')\n",
    "\n",
    "oxford = data_clean('Oxford')\n",
    "\n",
    "paisley = data_clean('Paisley')\n",
    "\n",
    "ringway = data_clean('Ringway') # last year is 2004, not 2022\n",
    "\n",
    "ross_on_wye = data_clean('Ross-on-Wye')\n",
    "\n",
    "shawbury = data_clean('Shawbury')\n",
    "\n",
    "sheffield = data_clean('Sheffield')\n",
    "\n",
    "southampton = data_clean('Southampton') # last year 2000,not 2022\n",
    "\n",
    "stornoway_airport = data_clean('Stornoway')\n",
    "\n",
    "sutton_bonington = data_clean('Sutton Bonington')\n",
    "\n",
    "tiree = data_clean('Tiree')\n",
    "\n",
    "valley = data_clean('Valley')\n",
    "\n",
    "waddington = data_clean('Waddington')\n",
    "\n",
    "whitby = data_clean('Whitby')\n",
    "\n",
    "wick_airport = data_clean('Wick Airport')\n",
    "\n",
    "yeovilton = yeovilton_clean('Yeovilton') \n",
    "# for some reason, yeovilton needs function to be altered as such:\n",
    "# station_name = station_name.iloc[1:,:]"
   ]
  },
  {
   "cell_type": "code",
   "execution_count": 45,
   "metadata": {},
   "outputs": [],
   "source": [
    "# check the last year and month of all stations"
   ]
  },
  {
   "cell_type": "code",
   "execution_count": 46,
   "metadata": {},
   "outputs": [
    {
     "data": {
      "text/plain": [
       "37"
      ]
     },
     "execution_count": 46,
     "metadata": {},
     "output_type": "execute_result"
    }
   ],
   "source": [
    "uni = [aberporth, armagh, ballypatrick_forest, bradford, braemar,\n",
    "      camborne, cambridge_niab, cardiff_bute_park, chivenor, \n",
    "      cwmystwyth, dunstaffnage, durham, eastbourne, eskdalemuir,\n",
    "      heathrow, hurn, lerwick, leuchars, lowestoft, manston,\n",
    "      nairn, newton_rigg, oxford, paisley, ringway, ross_on_wye,\n",
    "      shawbury, sheffield, southampton, stornoway_airport, \n",
    "      sutton_bonington, tiree, valley, waddington, whitby,\n",
    "      wick_airport, yeovilton]\n",
    "len(uni)"
   ]
  },
  {
   "cell_type": "code",
   "execution_count": 47,
   "metadata": {},
   "outputs": [],
   "source": [
    "# YEAR\n",
    "# for i in uni:\n",
    "#     print('{}          year:{}'.format(i.iloc[-1,7],i.iloc[-1,0]))"
   ]
  },
  {
   "cell_type": "code",
   "execution_count": 48,
   "metadata": {},
   "outputs": [],
   "source": [
    "# cwmystwyth          year:2011.0\n",
    "# ringway          year:2004.0\n",
    "# southampton          year:2000.0  (other data's year all end at 2022)"
   ]
  },
  {
   "cell_type": "code",
   "execution_count": 49,
   "metadata": {
    "scrolled": false
   },
   "outputs": [],
   "source": [
    "# MONTH\n",
    "# for i in uni:\n",
    "#     print('{}          month:{}'.format(i.iloc[-1,7],i.iloc[-1,1]))"
   ]
  },
  {
   "cell_type": "code",
   "execution_count": 50,
   "metadata": {},
   "outputs": [],
   "source": [
    "# ringway          month:10.0   (other data's month all end at March)\n",
    "    "
   ]
  },
  {
   "cell_type": "code",
   "execution_count": 51,
   "metadata": {},
   "outputs": [
    {
     "data": {
      "text/plain": [
       "37"
      ]
     },
     "execution_count": 51,
     "metadata": {},
     "output_type": "execute_result"
    }
   ],
   "source": [
    "# ???\n",
    "# get rid of cwmystwyth,ringway,southampton 但是我感觉，可能，也没有必要\n"
   ]
  },
  {
   "cell_type": "code",
   "execution_count": 57,
   "metadata": {},
   "outputs": [
    {
     "data": {
      "text/html": [
       "<div>\n",
       "<style scoped>\n",
       "    .dataframe tbody tr th:only-of-type {\n",
       "        vertical-align: middle;\n",
       "    }\n",
       "\n",
       "    .dataframe tbody tr th {\n",
       "        vertical-align: top;\n",
       "    }\n",
       "\n",
       "    .dataframe thead th {\n",
       "        text-align: right;\n",
       "    }\n",
       "</style>\n",
       "<table border=\"1\" class=\"dataframe\">\n",
       "  <thead>\n",
       "    <tr style=\"text-align: right;\">\n",
       "      <th></th>\n",
       "      <th>year</th>\n",
       "      <th>month</th>\n",
       "      <th>tmax</th>\n",
       "      <th>tmin</th>\n",
       "      <th>af</th>\n",
       "      <th>rain</th>\n",
       "      <th>sun</th>\n",
       "      <th>station</th>\n",
       "      <th>lat</th>\n",
       "      <th>lon</th>\n",
       "    </tr>\n",
       "  </thead>\n",
       "  <tbody>\n",
       "    <tr>\n",
       "      <th>690</th>\n",
       "      <td>2022.0</td>\n",
       "      <td>2.0</td>\n",
       "      <td>11.2</td>\n",
       "      <td>3.8</td>\n",
       "      <td>4.0</td>\n",
       "      <td>41.8</td>\n",
       "      <td>72.2</td>\n",
       "      <td>yeovilton</td>\n",
       "      <td>51.006</td>\n",
       "      <td>-2.641</td>\n",
       "    </tr>\n",
       "    <tr>\n",
       "      <th>691</th>\n",
       "      <td>2022.0</td>\n",
       "      <td>3.0</td>\n",
       "      <td>13.1</td>\n",
       "      <td>3.5</td>\n",
       "      <td>5.0</td>\n",
       "      <td>49.2</td>\n",
       "      <td>164.7</td>\n",
       "      <td>yeovilton</td>\n",
       "      <td>51.006</td>\n",
       "      <td>-2.641</td>\n",
       "    </tr>\n",
       "  </tbody>\n",
       "</table>\n",
       "</div>"
      ],
      "text/plain": [
       "       year  month  tmax  tmin   af  rain    sun    station     lat    lon\n",
       "690  2022.0    2.0  11.2   3.8  4.0  41.8   72.2  yeovilton  51.006 -2.641\n",
       "691  2022.0    3.0  13.1   3.5  5.0  49.2  164.7  yeovilton  51.006 -2.641"
      ]
     },
     "execution_count": 57,
     "metadata": {},
     "output_type": "execute_result"
    }
   ],
   "source": [
    "uni[36].tail(2)"
   ]
  },
  {
   "cell_type": "code",
   "execution_count": 53,
   "metadata": {},
   "outputs": [
    {
     "data": {
      "text/html": [
       "<div>\n",
       "<style scoped>\n",
       "    .dataframe tbody tr th:only-of-type {\n",
       "        vertical-align: middle;\n",
       "    }\n",
       "\n",
       "    .dataframe tbody tr th {\n",
       "        vertical-align: top;\n",
       "    }\n",
       "\n",
       "    .dataframe thead th {\n",
       "        text-align: right;\n",
       "    }\n",
       "</style>\n",
       "<table border=\"1\" class=\"dataframe\">\n",
       "  <thead>\n",
       "    <tr style=\"text-align: right;\">\n",
       "      <th></th>\n",
       "      <th>a</th>\n",
       "      <th>b</th>\n",
       "      <th>c</th>\n",
       "    </tr>\n",
       "  </thead>\n",
       "  <tbody>\n",
       "    <tr>\n",
       "      <th>0</th>\n",
       "      <td>1</td>\n",
       "      <td>2</td>\n",
       "      <td>3</td>\n",
       "    </tr>\n",
       "    <tr>\n",
       "      <th>1</th>\n",
       "      <td>2</td>\n",
       "      <td>3</td>\n",
       "      <td>4</td>\n",
       "    </tr>\n",
       "    <tr>\n",
       "      <th>2</th>\n",
       "      <td>3</td>\n",
       "      <td>4</td>\n",
       "      <td>5</td>\n",
       "    </tr>\n",
       "  </tbody>\n",
       "</table>\n",
       "</div>"
      ],
      "text/plain": [
       "   a  b  c\n",
       "0  1  2  3\n",
       "1  2  3  4\n",
       "2  3  4  5"
      ]
     },
     "execution_count": 53,
     "metadata": {},
     "output_type": "execute_result"
    }
   ],
   "source": [
    "pd.DataFrame([[1,2,3],[2,3,4],[3,4,5]], columns=['a','b','c'])"
   ]
  },
  {
   "cell_type": "code",
   "execution_count": 54,
   "metadata": {},
   "outputs": [
    {
     "data": {
      "text/plain": [
       "Index(['station', 'rct_tmx', 'rct_tmin', 'all_tmx', 'all_tmin', 'avg_tmx',\n",
       "       'avg_tmin', 'lat', 'lon'],\n",
       "      dtype='object')"
      ]
     },
     "execution_count": 54,
     "metadata": {},
     "output_type": "execute_result"
    }
   ],
   "source": [
    "pd.DataFrame({\"station\":uni[36].iloc[-1,7],'rct_tmx':uni[36].iloc[-1,2],'rct_tmin':uni[36].iloc[-1,3],\n",
    "              'all_tmx':uni[36].iloc[:,2].max(),\n",
    "             'all_tmin':uni[36].iloc[:,3].min(), \n",
    "             'avg_tmx':np.round(uni[36].iloc[:,2].mean(),2), \n",
    "             'avg_tmin':np.round(uni[36].iloc[:,3].mean(),2),\n",
    "             'lat':uni[36].iloc[-1,8],\n",
    "             'lon':uni[36].iloc[-1,9]},\n",
    "             index=[1]).columns"
   ]
  },
  {
   "cell_type": "code",
   "execution_count": 55,
   "metadata": {},
   "outputs": [],
   "source": [
    "vase = []\n",
    "for i in uni:\n",
    "    vase.append([i.iloc[-1,7],i.iloc[-1,2],i.iloc[-1,3], i.iloc[:,2].max(),i.iloc[:,3].min(),\n",
    "                np.round(i.iloc[:,2].mean(),2), np.round(i.iloc[:,3].mean(),2),\n",
    "                i.iloc[-1,8],i.iloc[-1,9]])\n"
   ]
  },
  {
   "cell_type": "code",
   "execution_count": 58,
   "metadata": {},
   "outputs": [
    {
     "data": {
      "text/plain": [
       "station      object\n",
       "rct_tmx     float64\n",
       "rct_tmin    float64\n",
       "all_tmx     float64\n",
       "all_tmin    float64\n",
       "avg_tmx     float64\n",
       "avg_tmin    float64\n",
       "lat         float64\n",
       "lon         float64\n",
       "dtype: object"
      ]
     },
     "execution_count": 58,
     "metadata": {},
     "output_type": "execute_result"
    }
   ],
   "source": [
    "data = pd.DataFrame(vase, columns = ['station', 'rct_tmx', 'rct_tmin', 'all_tmx', 'all_tmin', 'avg_tmx',\n",
    "       'avg_tmin', 'lat', 'lon'])\n",
    "data.dtypes"
   ]
  },
  {
   "cell_type": "markdown",
   "metadata": {},
   "source": [
    "#### Set up an X matrix to perform clustering with DBSCAN."
   ]
  },
  {
   "cell_type": "code",
   "execution_count": 60,
   "metadata": {},
   "outputs": [
    {
     "data": {
      "text/html": [
       "<div>\n",
       "<style scoped>\n",
       "    .dataframe tbody tr th:only-of-type {\n",
       "        vertical-align: middle;\n",
       "    }\n",
       "\n",
       "    .dataframe tbody tr th {\n",
       "        vertical-align: top;\n",
       "    }\n",
       "\n",
       "    .dataframe thead th {\n",
       "        text-align: right;\n",
       "    }\n",
       "</style>\n",
       "<table border=\"1\" class=\"dataframe\">\n",
       "  <thead>\n",
       "    <tr style=\"text-align: right;\">\n",
       "      <th></th>\n",
       "      <th>rct_tmx</th>\n",
       "      <th>rct_tmin</th>\n",
       "      <th>all_tmx</th>\n",
       "      <th>all_tmin</th>\n",
       "      <th>avg_tmx</th>\n",
       "      <th>avg_tmin</th>\n",
       "      <th>lat</th>\n",
       "      <th>lon</th>\n",
       "    </tr>\n",
       "  </thead>\n",
       "  <tbody>\n",
       "    <tr>\n",
       "      <th>0</th>\n",
       "      <td>11.4</td>\n",
       "      <td>5.2</td>\n",
       "      <td>22.4</td>\n",
       "      <td>-3.5</td>\n",
       "      <td>12.23</td>\n",
       "      <td>7.14</td>\n",
       "      <td>52.139</td>\n",
       "      <td>-4.570</td>\n",
       "    </tr>\n",
       "    <tr>\n",
       "      <th>1</th>\n",
       "      <td>12.4</td>\n",
       "      <td>2.8</td>\n",
       "      <td>23.8</td>\n",
       "      <td>-4.2</td>\n",
       "      <td>10.79</td>\n",
       "      <td>4.71</td>\n",
       "      <td>54.352</td>\n",
       "      <td>-6.649</td>\n",
       "    </tr>\n",
       "  </tbody>\n",
       "</table>\n",
       "</div>"
      ],
      "text/plain": [
       "   rct_tmx  rct_tmin  all_tmx  all_tmin  avg_tmx  avg_tmin     lat    lon\n",
       "0     11.4       5.2     22.4      -3.5    12.23      7.14  52.139 -4.570\n",
       "1     12.4       2.8     23.8      -4.2    10.79      4.71  54.352 -6.649"
      ]
     },
     "execution_count": 60,
     "metadata": {},
     "output_type": "execute_result"
    }
   ],
   "source": [
    "X = data.drop('station', axis = 1)\n",
    "X.head(2)"
   ]
  },
  {
   "cell_type": "code",
   "execution_count": 68,
   "metadata": {},
   "outputs": [
    {
     "data": {
      "image/png": "[encoded data removed]",
      "text/plain": [
       "<Figure size 432x288 with 1 Axes>"
      ]
     },
     "metadata": {},
     "output_type": "display_data"
    }
   ],
   "source": [
    "X.plot(x='rct_tmin', y='rct_tmx', kind='scatter', s=40, c='r')\n",
    "plt.show()"
   ]
  },
  {
   "cell_type": "code",
   "execution_count": 69,
   "metadata": {},
   "outputs": [
    {
     "data": {
      "image/png": "[encoded data removed]",
      "text/plain": [
       "<Figure size 432x288 with 1 Axes>"
      ]
     },
     "metadata": {},
     "output_type": "display_data"
    }
   ],
   "source": [
    "X.plot(x='all_tmin', y='all_tmx', kind='scatter', s=40, c='r')\n",
    "plt.show()"
   ]
  },
  {
   "cell_type": "code",
   "execution_count": 70,
   "metadata": {},
   "outputs": [
    {
     "data": {
      "image/png": "[encoded data removed]",
      "text/plain": [
       "<Figure size 432x288 with 1 Axes>"
      ]
     },
     "metadata": {},
     "output_type": "display_data"
    }
   ],
   "source": [
    "X.plot(x='avg_tmin', y='avg_tmx', kind='scatter', s=40, c='r')\n",
    "plt.show()"
   ]
  },
  {
   "cell_type": "code",
   "execution_count": 67,
   "metadata": {},
   "outputs": [
    {
     "data": {
      "image/png": "[encoded data removed]",
      "text/plain": [
       "<Figure size 432x288 with 1 Axes>"
      ]
     },
     "metadata": {},
     "output_type": "display_data"
    }
   ],
   "source": [
    "X.plot(x='lat', y='lon', kind='scatter', s=40, c='r')\n",
    "plt.show()"
   ]
  },
  {
   "cell_type": "markdown",
   "metadata": {},
   "source": [
    "#### 4. Scale data"
   ]
  },
  {
   "cell_type": "code",
   "execution_count": 73,
   "metadata": {},
   "outputs": [],
   "source": [
    "scaler = StandardScaler()\n",
    "Xs = scaler.fit_transform(X)\n",
    "Xs = pd.DataFrame(Xs, columns=X.columns)"
   ]
  },
  {
   "cell_type": "code",
   "execution_count": null,
   "metadata": {},
   "outputs": [],
   "source": []
  },
  {
   "cell_type": "markdown",
   "metadata": {},
   "source": [
    "#### 5. Fit a DBSCAN clusterer and check out the assigned cluster labels"
   ]
  },
  {
   "cell_type": "code",
   "execution_count": 128,
   "metadata": {},
   "outputs": [
    {
     "name": "stdout",
     "output_type": "stream",
     "text": [
      "[-1 -1 -1  0 -1 -1 -1 -1 -1 -1 -1  0 -1 -1 -1  1 -1 -1 -1 -1 -1  0 -1 -1\n",
      " -1  1 -1  0 -1 -1  1 -1 -1 -1 -1 -1  1] \n",
      "\n",
      "types of clusters: 2\n"
     ]
    }
   ],
   "source": [
    "dbscan = DBSCAN(eps=1.2, min_samples=3)\n",
    "dbscan.fit(Xs)\n",
    "\n",
    "labels = dbscan.labels_\n",
    "print(labels, '\\n')\n",
    "# how many clusters do we have?\n",
    "n_clusters_ = len(set(labels).difference(set([-1])))\n",
    "print(\"types of clusters: {}\".format(n_clusters_) )"
   ]
  },
  {
   "cell_type": "code",
   "execution_count": 120,
   "metadata": {},
   "outputs": [
    {
     "name": "stdout",
     "output_type": "stream",
     "text": [
      "[ 0 -1  1  2 -1 -1  2  2 -1 -1  1  2  3 -1 -1  2 -1  2  3  3  2  2 -1 -1\n",
      " -1  2  2  2  2 -1  2 -1  0  2 -1 -1  2] \n",
      "\n",
      "types of clusters: 4\n"
     ]
    }
   ],
   "source": [
    "dbscan = DBSCAN(eps=1.5, min_samples=2)\n",
    "dbscan.fit(Xs)\n",
    "\n",
    "labels = dbscan.labels_\n",
    "print(labels, '\\n')\n",
    "# how many clusters do we have?\n",
    "n_clusters_ = len(set(labels).difference(set([-1])))\n",
    "print(\"types of clusters: {}\".format(n_clusters_) )"
   ]
  },
  {
   "cell_type": "code",
   "execution_count": 125,
   "metadata": {},
   "outputs": [
    {
     "name": "stdout",
     "output_type": "stream",
     "text": [
      "[ 0 -1  1  2 -1 -1  2 -1 -1 -1  1  2 -1 -1 -1  2 -1  3  4  4  3  2 -1 -1\n",
      " -1  2 -1  2 -1 -1  2 -1  0  2 -1 -1  2] \n",
      "\n",
      "types of clusters: 5\n"
     ]
    }
   ],
   "source": [
    "dbscan = DBSCAN(eps=1.3, min_samples=2)\n",
    "dbscan.fit(Xs)\n",
    "\n",
    "labels = dbscan.labels_\n",
    "print(labels, '\\n')\n",
    "# how many clusters do we have?\n",
    "n_clusters_ = len(set(labels).difference(set([-1])))\n",
    "print(\"types of clusters: {}\".format(n_clusters_) )"
   ]
  },
  {
   "cell_type": "code",
   "execution_count": 129,
   "metadata": {},
   "outputs": [
    {
     "name": "stdout",
     "output_type": "stream",
     "text": [
      "[ 0 -1  1  2 -1 -1 -1 -1 -1 -1  1  2 -1 -1 -1  3 -1  4  5  5  4  2 -1 -1\n",
      " -1  3 -1  2 -1 -1  3 -1  0 -1 -1 -1  3] \n",
      "\n",
      "types of clusters: 6\n"
     ]
    }
   ],
   "source": [
    "dbscan = DBSCAN(eps=1.2, min_samples=2)\n",
    "dbscan.fit(Xs)\n",
    "\n",
    "labels = dbscan.labels_\n",
    "print(labels, '\\n')\n",
    "# how many clusters do we have?\n",
    "n_clusters_ = len(set(labels).difference(set([-1])))\n",
    "print(\"types of clusters: {}\".format(n_clusters_) )"
   ]
  },
  {
   "cell_type": "code",
   "execution_count": null,
   "metadata": {},
   "outputs": [],
   "source": []
  }
 ],
 "metadata": {
  "kernelspec": {
   "display_name": "Python 3",
   "language": "python",
   "name": "python3"
  },
  "language_info": {
   "codemirror_mode": {
    "name": "ipython",
    "version": 3
   },
   "file_extension": ".py",
   "mimetype": "text/x-python",
   "name": "python",
   "nbconvert_exporter": "python",
   "pygments_lexer": "ipython3",
   "version": "3.8.3"
  }
 },
 "nbformat": 4,
 "nbformat_minor": 4
}
