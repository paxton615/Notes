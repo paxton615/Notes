{
 "cells": [
  {
   "cell_type": "code",
   "execution_count": 1,
   "metadata": {},
   "outputs": [],
   "source": [
    "import pandas as pd\n",
    "import numpy as np\n",
    "import os "
   ]
  },
  {
   "cell_type": "code",
   "execution_count": 2,
   "metadata": {},
   "outputs": [
    {
     "name": "stdout",
     "output_type": "stream",
     "text": [
      "/Users/paxton615/Github_Personal/Notes/Notes/Weather_stations\r\n"
     ]
    }
   ],
   "source": [
    "!pwd"
   ]
  },
  {
   "cell_type": "code",
   "execution_count": 3,
   "metadata": {
    "scrolled": true
   },
   "outputs": [],
   "source": [
    "# sn = pd.read_excel('/Users/paxton615/Desktop/Wick Airport.xlsx')\n",
    "# sn.head()"
   ]
  },
  {
   "cell_type": "code",
   "execution_count": 4,
   "metadata": {},
   "outputs": [],
   "source": [
    "# sn.tail()"
   ]
  },
  {
   "cell_type": "code",
   "execution_count": 5,
   "metadata": {},
   "outputs": [],
   "source": [
    "station_lst = ['Aberporth',\n",
    " 'Armagh',\n",
    " 'Ballypatrick Forest',\n",
    " 'Bradford',\n",
    " 'Braemar',\n",
    " 'Camborne',\n",
    " 'Cambridge NIAB',\n",
    " 'Cardiff Bute Park',\n",
    " 'Chivenor',\n",
    " 'Cwmystwyth',\n",
    " 'Dunstaffnage',\n",
    " 'Durham',\n",
    " 'Eastbourne',\n",
    " 'Eskdalemuir',\n",
    " 'Heathrow',\n",
    " 'Hurn',\n",
    " 'Lerwick',\n",
    " 'Leuchars',\n",
    " 'Lowestoft',\n",
    " 'Manston',\n",
    " 'Nairn',\n",
    " 'Newton Rigg',\n",
    " 'Oxford',\n",
    " 'Paisley',\n",
    " 'Ringway',\n",
    " 'Ross-on-Wye',\n",
    " 'Shawbury',\n",
    " 'Sheffield',\n",
    " 'Southampton',\n",
    " 'Stornoway Airport',\n",
    " 'Sutton Bonington',\n",
    " 'Tiree',\n",
    " 'Valley',\n",
    " 'Waddington',\n",
    " 'Whitby',\n",
    " 'Wick Airport',\n",
    " 'Yeovilton']"
   ]
  },
  {
   "cell_type": "code",
   "execution_count": 13,
   "metadata": {},
   "outputs": [
    {
     "data": {
      "text/plain": [
       "['Aberporth',\n",
       " 'Armagh',\n",
       " 'Ballypatrick Forest',\n",
       " 'Bradford',\n",
       " 'Braemar',\n",
       " 'Camborne',\n",
       " 'Cambridge NIAB',\n",
       " 'Cardiff Bute Park',\n",
       " 'Chivenor',\n",
       " 'Cwmystwyth',\n",
       " 'Dunstaffnage',\n",
       " 'Durham',\n",
       " 'Eastbourne',\n",
       " 'Eskdalemuir',\n",
       " 'Heathrow',\n",
       " 'Hurn',\n",
       " 'Lerwick',\n",
       " 'Leuchars',\n",
       " 'Lowestoft',\n",
       " 'Manston',\n",
       " 'Nairn',\n",
       " 'Newton Rigg',\n",
       " 'Oxford',\n",
       " 'Paisley',\n",
       " 'Ringway',\n",
       " 'Ross-on-Wye',\n",
       " 'Shawbury',\n",
       " 'Sheffield',\n",
       " 'Southampton',\n",
       " 'Stornoway Airport',\n",
       " 'Sutton Bonington',\n",
       " 'Tiree',\n",
       " 'Valley',\n",
       " 'Waddington',\n",
       " 'Whitby',\n",
       " 'Wick Airport',\n",
       " 'Yeovilton']"
      ]
     },
     "execution_count": 13,
     "metadata": {},
     "output_type": "execute_result"
    }
   ],
   "source": [
    "sn_lst"
   ]
  },
  {
   "cell_type": "code",
   "execution_count": null,
   "metadata": {},
   "outputs": [],
   "source": []
  },
  {
   "cell_type": "code",
   "execution_count": null,
   "metadata": {},
   "outputs": [],
   "source": []
  },
  {
   "cell_type": "code",
   "execution_count": null,
   "metadata": {},
   "outputs": [],
   "source": []
  }
 ],
 "metadata": {
  "kernelspec": {
   "display_name": "Python 3",
   "language": "python",
   "name": "python3"
  },
  "language_info": {
   "codemirror_mode": {
    "name": "ipython",
    "version": 3
   },
   "file_extension": ".py",
   "mimetype": "text/x-python",
   "name": "python",
   "nbconvert_exporter": "python",
   "pygments_lexer": "ipython3",
   "version": "3.8.3"
  }
 },
 "nbformat": 4,
 "nbformat_minor": 4
}
