{
 "cells": [
  {
   "cell_type": "code",
   "execution_count": 1,
   "metadata": {},
   "outputs": [],
   "source": [
    "import pandas as pd\n",
    "import numpy as np\n",
    "import os "
   ]
  },
  {
   "cell_type": "code",
   "execution_count": 2,
   "metadata": {},
   "outputs": [
    {
     "name": "stdout",
     "output_type": "stream",
     "text": [
      "/Users/paxton615/Github_Personal/Notes/Notes/Weather_stations\r\n"
     ]
    }
   ],
   "source": [
    "!pwd"
   ]
  },
  {
   "cell_type": "code",
   "execution_count": 3,
   "metadata": {},
   "outputs": [
    {
     "name": "stdout",
     "output_type": "stream",
     "text": [
      "Download_station_data.ipynb \u001b[34mWeather_stations\u001b[m\u001b[m\r\n",
      "Weather_station_data.ipynb\r\n"
     ]
    }
   ],
   "source": [
    "!ls"
   ]
  },
  {
   "cell_type": "code",
   "execution_count": 4,
   "metadata": {},
   "outputs": [],
   "source": [
    "station_names = ['Aberporth', 'Armagh', 'Ballypatrick Forest', 'Bradford', 'Braemar', 'Camborne', 'Cambridge NIAB', 'Cardiff Bute Park',\n",
    " 'Chivenor', 'Cwmystwyth', 'Dunstaffnage', 'Durham', 'Eastbourne', 'Eskdalemuir', 'Heathrow', 'Hurn', 'Lerwick',\n",
    " 'Leuchars', 'Lowestoft', 'Manston', 'Nairn', 'Newton Rigg', 'Oxford', 'Paisley', 'Ringway', 'Ross-on-Wye',\n",
    " 'Shawbury', 'Sheffield', 'Southampton', 'Stornoway Airport', 'Sutton Bonington', 'Tiree', 'Valley',\n",
    " 'Waddington', 'Whitby', 'Wick Airport', 'Yeovilton']"
   ]
  },
  {
   "cell_type": "code",
   "execution_count": 133,
   "metadata": {},
   "outputs": [],
   "source": [
    "lower_station_names = []\n",
    "for i in station_names:\n",
    "    lower_station_names.append(i.lower().replace(' ','_').replace('-','_'))"
   ]
  },
  {
   "cell_type": "code",
   "execution_count": 134,
   "metadata": {},
   "outputs": [
    {
     "data": {
      "text/plain": [
       "['aberporth',\n",
       " 'armagh',\n",
       " 'ballypatrick_forest',\n",
       " 'bradford',\n",
       " 'braemar',\n",
       " 'camborne',\n",
       " 'cambridge_niab',\n",
       " 'cardiff_bute_park',\n",
       " 'chivenor',\n",
       " 'cwmystwyth',\n",
       " 'dunstaffnage',\n",
       " 'durham',\n",
       " 'eastbourne',\n",
       " 'eskdalemuir',\n",
       " 'heathrow',\n",
       " 'hurn',\n",
       " 'lerwick',\n",
       " 'leuchars',\n",
       " 'lowestoft',\n",
       " 'manston',\n",
       " 'nairn',\n",
       " 'newton_rigg',\n",
       " 'oxford',\n",
       " 'paisley',\n",
       " 'ringway',\n",
       " 'ross_on_wye',\n",
       " 'shawbury',\n",
       " 'sheffield',\n",
       " 'southampton',\n",
       " 'stornoway_airport',\n",
       " 'sutton_bonington',\n",
       " 'tiree',\n",
       " 'valley',\n",
       " 'waddington',\n",
       " 'whitby',\n",
       " 'wick_airport',\n",
       " 'yeovilton']"
      ]
     },
     "execution_count": 134,
     "metadata": {},
     "output_type": "execute_result"
    }
   ],
   "source": [
    "lower_station_names"
   ]
  },
  {
   "cell_type": "code",
   "execution_count": null,
   "metadata": {},
   "outputs": [],
   "source": []
  },
  {
   "cell_type": "code",
   "execution_count": 127,
   "metadata": {},
   "outputs": [],
   "source": [
    "def data_clean(station_name):\n",
    "    station_name = pd.read_excel('/Users/paxton615/Github_Personal/Notes/Notes/Weather_stations/Weather_stations/{}.xlsx'.format(station_name))\n",
    "    \n",
    "    station_name = station_name.iloc[1:,:-1] # get rid of useless row and column, 去除多余行，列\n",
    "    # 这里有一个例外 Yeovilton 需要 station_name.iloc[1:,:] 这样slice \n",
    "    \n",
    "    col_names = ['year', 'month', 'tmax', 'tmin', 'af', 'rain', 'sun',\n",
    "            'station', 'lat', 'lon'] # temperatre units: degC, rainfall units: mm, sun units: days\n",
    "    station_name.columns = col_names # replace column names with col_names, 替换列名成 col_names\n",
    "    \n",
    "    # fill in station, lat and lon with its value, 给车站，经纬度填上唯一值\n",
    "    station_name['station']= station_name.iloc[0, 7].lower().replace('-', '_').replace(' ','_')\n",
    "    station_name['lat'] = station_name.iloc[0,8]\n",
    "    station_name['lon'] = station_name.iloc[0,9]\n",
    "    \n",
    "    # replace --- with 0\n",
    "    station_name = station_name.replace('---', 0)\n",
    "    station_name = station_name.replace('--- #', 0)\n",
    "\n",
    "    # fillna with 0s, 将所有NaN替换成 0\n",
    "    station_name.fillna(0, inplace=True)\n",
    "    \n",
    "    # tidy all entries and unify types, 消除非数字字符，改type\n",
    "    \n",
    "    station_name['sun'] = station_name['sun'].astype(str)\n",
    "    station_name['sun'] = station_name['sun'].str.extract(r'(\\d+.\\d+)').astype('float')\n",
    "\n",
    "    station_name['tmax'] = station_name['tmax'].astype(str)\n",
    "    station_name['tmax'] = station_name['tmax'].str.extract(r'(-?\\d+.\\d+)').astype('float')\n",
    "\n",
    "    station_name['tmin'] = station_name['tmin'].astype(str)\n",
    "    station_name['tmin'] = station_name['tmin'].str.extract(r'(-?\\d+.\\d+)').astype('float')\n",
    "\n",
    "    station_name['rain'] = station_name['rain'].astype(str)\n",
    "    station_name['rain'] = station_name['rain'].str.extract(r'(\\d+.\\d+)').astype('float')\n",
    "\n",
    "    station_name['af'] = station_name['af'].astype(str)\n",
    "    station_name['af'] = station_name['af'].str.extract(r'(\\d+)').astype('float')\n",
    "\n",
    "    \n",
    "    # fillna with 0s, 将所有NaN替换成 0\n",
    "    station_name = station_name.fillna(0)\n",
    "    \n",
    "    return station_name"
   ]
  },
  {
   "cell_type": "code",
   "execution_count": 8,
   "metadata": {},
   "outputs": [],
   "source": [
    "aberporth = data_clean('Aberporth')"
   ]
  },
  {
   "cell_type": "code",
   "execution_count": 9,
   "metadata": {},
   "outputs": [],
   "source": [
    "armagh = data_clean('Armagh')"
   ]
  },
  {
   "cell_type": "code",
   "execution_count": 10,
   "metadata": {},
   "outputs": [],
   "source": [
    "ballypatrick_forest= data_clean('Ballypatrick Forest')"
   ]
  },
  {
   "cell_type": "code",
   "execution_count": 11,
   "metadata": {},
   "outputs": [],
   "source": [
    "bradford = data_clean('Bradford')"
   ]
  },
  {
   "cell_type": "code",
   "execution_count": 12,
   "metadata": {},
   "outputs": [],
   "source": [
    "braemar = data_clean('Braemar')"
   ]
  },
  {
   "cell_type": "code",
   "execution_count": 13,
   "metadata": {},
   "outputs": [],
   "source": [
    "camborne = data_clean('Camborne')"
   ]
  },
  {
   "cell_type": "code",
   "execution_count": 14,
   "metadata": {},
   "outputs": [],
   "source": [
    "cambridge_niab = data_clean('Cambridge NIAB')"
   ]
  },
  {
   "cell_type": "code",
   "execution_count": 15,
   "metadata": {},
   "outputs": [],
   "source": [
    "cardiff_bute_park = data_clean('Cardiff Bute Park')"
   ]
  },
  {
   "cell_type": "code",
   "execution_count": 40,
   "metadata": {},
   "outputs": [],
   "source": [
    "chivenor = data_clean('Chivenor')"
   ]
  },
  {
   "cell_type": "code",
   "execution_count": 42,
   "metadata": {},
   "outputs": [],
   "source": [
    "cwmystwyth = data_clean('Cwmystwyth')"
   ]
  },
  {
   "cell_type": "code",
   "execution_count": 44,
   "metadata": {},
   "outputs": [],
   "source": [
    "dunstaffnage = data_clean('Dunstaffnage')"
   ]
  },
  {
   "cell_type": "code",
   "execution_count": 46,
   "metadata": {},
   "outputs": [],
   "source": [
    "durham = data_clean('Durham')"
   ]
  },
  {
   "cell_type": "code",
   "execution_count": 48,
   "metadata": {},
   "outputs": [],
   "source": [
    "eastbourne = data_clean('Eastbourne')"
   ]
  },
  {
   "cell_type": "code",
   "execution_count": 50,
   "metadata": {},
   "outputs": [],
   "source": [
    "eskdalemuir = data_clean('Eskdalemuir')"
   ]
  },
  {
   "cell_type": "code",
   "execution_count": 53,
   "metadata": {},
   "outputs": [],
   "source": [
    "heathrow = data_clean('Heathrow')"
   ]
  },
  {
   "cell_type": "code",
   "execution_count": 55,
   "metadata": {},
   "outputs": [],
   "source": [
    "hurn = data_clean('Hurn')"
   ]
  },
  {
   "cell_type": "code",
   "execution_count": 58,
   "metadata": {},
   "outputs": [],
   "source": [
    "lerwick = data_clean('Lerwick')"
   ]
  },
  {
   "cell_type": "code",
   "execution_count": 60,
   "metadata": {},
   "outputs": [],
   "source": [
    "leuchars = data_clean('Leuchars')"
   ]
  },
  {
   "cell_type": "code",
   "execution_count": 62,
   "metadata": {},
   "outputs": [],
   "source": [
    "lowestoft = data_clean('Lowestoft')"
   ]
  },
  {
   "cell_type": "code",
   "execution_count": 64,
   "metadata": {},
   "outputs": [],
   "source": [
    "manston = data_clean('Manston')"
   ]
  },
  {
   "cell_type": "code",
   "execution_count": 66,
   "metadata": {},
   "outputs": [],
   "source": [
    "nairn = data_clean('Nairn')"
   ]
  },
  {
   "cell_type": "code",
   "execution_count": 68,
   "metadata": {},
   "outputs": [],
   "source": [
    "newton_rigg = data_clean('Newton Rigg')"
   ]
  },
  {
   "cell_type": "code",
   "execution_count": 70,
   "metadata": {},
   "outputs": [],
   "source": [
    "oxford = data_clean('Oxford')"
   ]
  },
  {
   "cell_type": "code",
   "execution_count": 72,
   "metadata": {},
   "outputs": [],
   "source": [
    "paisley = data_clean('Paisley')"
   ]
  },
  {
   "cell_type": "code",
   "execution_count": 74,
   "metadata": {},
   "outputs": [],
   "source": [
    "ringway = data_clean('Ringway') # last year is 2004, not 2022"
   ]
  },
  {
   "cell_type": "code",
   "execution_count": 77,
   "metadata": {},
   "outputs": [],
   "source": [
    "ross_on_wye = data_clean('Ross-on-Wye')"
   ]
  },
  {
   "cell_type": "code",
   "execution_count": 80,
   "metadata": {},
   "outputs": [],
   "source": [
    "shawbury = data_clean('Shawbury')"
   ]
  },
  {
   "cell_type": "code",
   "execution_count": 82,
   "metadata": {},
   "outputs": [],
   "source": [
    "sheffield = data_clean('Sheffield')"
   ]
  },
  {
   "cell_type": "code",
   "execution_count": 84,
   "metadata": {},
   "outputs": [],
   "source": [
    "southampton = data_clean('Southampton') # last year 2000,not 2022"
   ]
  },
  {
   "cell_type": "code",
   "execution_count": 87,
   "metadata": {},
   "outputs": [],
   "source": [
    "stornoway_airport = data_clean('Stornoway')"
   ]
  },
  {
   "cell_type": "code",
   "execution_count": 89,
   "metadata": {},
   "outputs": [],
   "source": [
    "sutton_bonington = data_clean('Sutton Bonington')"
   ]
  },
  {
   "cell_type": "code",
   "execution_count": 91,
   "metadata": {},
   "outputs": [],
   "source": [
    "tiree = data_clean('Tiree')"
   ]
  },
  {
   "cell_type": "code",
   "execution_count": 93,
   "metadata": {},
   "outputs": [],
   "source": [
    "valley = data_clean('Valley')"
   ]
  },
  {
   "cell_type": "code",
   "execution_count": 95,
   "metadata": {},
   "outputs": [],
   "source": [
    "waddington = data_clean('Waddington')"
   ]
  },
  {
   "cell_type": "code",
   "execution_count": 97,
   "metadata": {},
   "outputs": [],
   "source": [
    "whitby = data_clean('Whitby')"
   ]
  },
  {
   "cell_type": "code",
   "execution_count": 99,
   "metadata": {},
   "outputs": [],
   "source": [
    "wick_airport = data_clean('Wick Airport')"
   ]
  },
  {
   "cell_type": "code",
   "execution_count": 128,
   "metadata": {},
   "outputs": [],
   "source": [
    "yeovilton = data_clean('Yeovilton') \n",
    "# for some reason, yeovilton needs function to be altered as such:\n",
    "# station_name = station_name.iloc[1:,:]"
   ]
  },
  {
   "cell_type": "code",
   "execution_count": 130,
   "metadata": {},
   "outputs": [],
   "source": [
    "# check the last year and month of all stations"
   ]
  },
  {
   "cell_type": "code",
   "execution_count": 137,
   "metadata": {},
   "outputs": [
    {
     "data": {
      "text/html": [
       "<div>\n",
       "<style scoped>\n",
       "    .dataframe tbody tr th:only-of-type {\n",
       "        vertical-align: middle;\n",
       "    }\n",
       "\n",
       "    .dataframe tbody tr th {\n",
       "        vertical-align: top;\n",
       "    }\n",
       "\n",
       "    .dataframe thead th {\n",
       "        text-align: right;\n",
       "    }\n",
       "</style>\n",
       "<table border=\"1\" class=\"dataframe\">\n",
       "  <thead>\n",
       "    <tr style=\"text-align: right;\">\n",
       "      <th></th>\n",
       "      <th>year</th>\n",
       "      <th>month</th>\n",
       "      <th>tmax</th>\n",
       "      <th>tmin</th>\n",
       "      <th>af</th>\n",
       "      <th>rain</th>\n",
       "      <th>sun</th>\n",
       "      <th>station</th>\n",
       "      <th>lat</th>\n",
       "      <th>lon</th>\n",
       "    </tr>\n",
       "  </thead>\n",
       "  <tbody>\n",
       "    <tr>\n",
       "      <th>1</th>\n",
       "      <td>1957.0</td>\n",
       "      <td>1.0</td>\n",
       "      <td>9.1</td>\n",
       "      <td>2.5</td>\n",
       "      <td>7.0</td>\n",
       "      <td>0.0</td>\n",
       "      <td>0.0</td>\n",
       "      <td>hurn</td>\n",
       "      <td>50.779</td>\n",
       "      <td>-1.835</td>\n",
       "    </tr>\n",
       "    <tr>\n",
       "      <th>2</th>\n",
       "      <td>1957.0</td>\n",
       "      <td>2.0</td>\n",
       "      <td>9.6</td>\n",
       "      <td>2.7</td>\n",
       "      <td>8.0</td>\n",
       "      <td>100.5</td>\n",
       "      <td>0.0</td>\n",
       "      <td>hurn</td>\n",
       "      <td>50.779</td>\n",
       "      <td>-1.835</td>\n",
       "    </tr>\n",
       "    <tr>\n",
       "      <th>3</th>\n",
       "      <td>1957.0</td>\n",
       "      <td>3.0</td>\n",
       "      <td>12.9</td>\n",
       "      <td>5.5</td>\n",
       "      <td>4.0</td>\n",
       "      <td>61.3</td>\n",
       "      <td>0.0</td>\n",
       "      <td>hurn</td>\n",
       "      <td>50.779</td>\n",
       "      <td>-1.835</td>\n",
       "    </tr>\n",
       "    <tr>\n",
       "      <th>4</th>\n",
       "      <td>1957.0</td>\n",
       "      <td>4.0</td>\n",
       "      <td>14.2</td>\n",
       "      <td>4.4</td>\n",
       "      <td>2.0</td>\n",
       "      <td>5.5</td>\n",
       "      <td>0.0</td>\n",
       "      <td>hurn</td>\n",
       "      <td>50.779</td>\n",
       "      <td>-1.835</td>\n",
       "    </tr>\n",
       "    <tr>\n",
       "      <th>5</th>\n",
       "      <td>1957.0</td>\n",
       "      <td>5.0</td>\n",
       "      <td>16.1</td>\n",
       "      <td>5.5</td>\n",
       "      <td>1.0</td>\n",
       "      <td>43.7</td>\n",
       "      <td>0.0</td>\n",
       "      <td>hurn</td>\n",
       "      <td>50.779</td>\n",
       "      <td>-1.835</td>\n",
       "    </tr>\n",
       "    <tr>\n",
       "      <th>...</th>\n",
       "      <td>...</td>\n",
       "      <td>...</td>\n",
       "      <td>...</td>\n",
       "      <td>...</td>\n",
       "      <td>...</td>\n",
       "      <td>...</td>\n",
       "      <td>...</td>\n",
       "      <td>...</td>\n",
       "      <td>...</td>\n",
       "      <td>...</td>\n",
       "    </tr>\n",
       "    <tr>\n",
       "      <th>779</th>\n",
       "      <td>2021.0</td>\n",
       "      <td>11.0</td>\n",
       "      <td>11.8</td>\n",
       "      <td>2.8</td>\n",
       "      <td>11.0</td>\n",
       "      <td>6.6</td>\n",
       "      <td>75.4</td>\n",
       "      <td>hurn</td>\n",
       "      <td>50.779</td>\n",
       "      <td>-1.835</td>\n",
       "    </tr>\n",
       "    <tr>\n",
       "      <th>780</th>\n",
       "      <td>2021.0</td>\n",
       "      <td>12.0</td>\n",
       "      <td>10.8</td>\n",
       "      <td>5.3</td>\n",
       "      <td>6.0</td>\n",
       "      <td>0.0</td>\n",
       "      <td>33.6</td>\n",
       "      <td>hurn</td>\n",
       "      <td>50.779</td>\n",
       "      <td>-1.835</td>\n",
       "    </tr>\n",
       "    <tr>\n",
       "      <th>781</th>\n",
       "      <td>2022.0</td>\n",
       "      <td>1.0</td>\n",
       "      <td>9.5</td>\n",
       "      <td>0.7</td>\n",
       "      <td>19.0</td>\n",
       "      <td>31.6</td>\n",
       "      <td>65.1</td>\n",
       "      <td>hurn</td>\n",
       "      <td>50.779</td>\n",
       "      <td>-1.835</td>\n",
       "    </tr>\n",
       "    <tr>\n",
       "      <th>782</th>\n",
       "      <td>2022.0</td>\n",
       "      <td>2.0</td>\n",
       "      <td>11.2</td>\n",
       "      <td>3.3</td>\n",
       "      <td>6.0</td>\n",
       "      <td>0.0</td>\n",
       "      <td>88.2</td>\n",
       "      <td>hurn</td>\n",
       "      <td>50.779</td>\n",
       "      <td>-1.835</td>\n",
       "    </tr>\n",
       "    <tr>\n",
       "      <th>783</th>\n",
       "      <td>2022.0</td>\n",
       "      <td>3.0</td>\n",
       "      <td>12.8</td>\n",
       "      <td>3.8</td>\n",
       "      <td>8.0</td>\n",
       "      <td>0.0</td>\n",
       "      <td>151.7</td>\n",
       "      <td>hurn</td>\n",
       "      <td>50.779</td>\n",
       "      <td>-1.835</td>\n",
       "    </tr>\n",
       "  </tbody>\n",
       "</table>\n",
       "<p>783 rows × 10 columns</p>\n",
       "</div>"
      ],
      "text/plain": [
       "       year  month  tmax  tmin    af   rain    sun station     lat    lon\n",
       "1    1957.0    1.0   9.1   2.5   7.0    0.0    0.0    hurn  50.779 -1.835\n",
       "2    1957.0    2.0   9.6   2.7   8.0  100.5    0.0    hurn  50.779 -1.835\n",
       "3    1957.0    3.0  12.9   5.5   4.0   61.3    0.0    hurn  50.779 -1.835\n",
       "4    1957.0    4.0  14.2   4.4   2.0    5.5    0.0    hurn  50.779 -1.835\n",
       "5    1957.0    5.0  16.1   5.5   1.0   43.7    0.0    hurn  50.779 -1.835\n",
       "..      ...    ...   ...   ...   ...    ...    ...     ...     ...    ...\n",
       "779  2021.0   11.0  11.8   2.8  11.0    6.6   75.4    hurn  50.779 -1.835\n",
       "780  2021.0   12.0  10.8   5.3   6.0    0.0   33.6    hurn  50.779 -1.835\n",
       "781  2022.0    1.0   9.5   0.7  19.0   31.6   65.1    hurn  50.779 -1.835\n",
       "782  2022.0    2.0  11.2   3.3   6.0    0.0   88.2    hurn  50.779 -1.835\n",
       "783  2022.0    3.0  12.8   3.8   8.0    0.0  151.7    hurn  50.779 -1.835\n",
       "\n",
       "[783 rows x 10 columns]"
      ]
     },
     "execution_count": 137,
     "metadata": {},
     "output_type": "execute_result"
    }
   ],
   "source": []
  },
  {
   "cell_type": "code",
   "execution_count": null,
   "metadata": {},
   "outputs": [],
   "source": []
  }
 ],
 "metadata": {
  "kernelspec": {
   "display_name": "Python 3",
   "language": "python",
   "name": "python3"
  },
  "language_info": {
   "codemirror_mode": {
    "name": "ipython",
    "version": 3
   },
   "file_extension": ".py",
   "mimetype": "text/x-python",
   "name": "python",
   "nbconvert_exporter": "python",
   "pygments_lexer": "ipython3",
   "version": "3.8.3"
  }
 },
 "nbformat": 4,
 "nbformat_minor": 4
}
