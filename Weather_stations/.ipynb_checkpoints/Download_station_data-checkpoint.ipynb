{
 "cells": [
  {
   "cell_type": "code",
   "execution_count": 1,
   "metadata": {},
   "outputs": [],
   "source": [
    "import pandas as pd\n",
    "import numpy as np\n",
    "import os \n",
    "\n",
    "from sklearn import metrics\n",
    "from sklearn.preprocessing import StandardScaler\n",
    "from sklearn.decomposition import PCA\n",
    "\n",
    "from sklearn import cluster\n",
    "from sklearn.cluster import KMeans\n",
    "from sklearn.cluster import DBSCAN\n",
    "from sklearn.linear_model import LogisticRegression\n",
    "from sklearn.metrics import confusion_matrix\n",
    "from sklearn.metrics import classification_report\n",
    "from sklearn.model_selection import KFold, StratifiedKFold\n",
    "from sklearn.linear_model import LinearRegression\n",
    "from sklearn.metrics import mean_squared_error\n",
    "from sklearn.metrics import r2_score\n",
    "from sklearn.linear_model import Ridge, Lasso, ElasticNet, LinearRegression, RidgeCV, LassoCV, ElasticNetCV\n",
    "from sklearn.model_selection import cross_val_score, cross_val_predict\n",
    "\n",
    "import seaborn as sns\n",
    "import matplotlib.pyplot as plt\n",
    "plt.style.use('ggplot')\n",
    "\n",
    "from geopy.geocoders import Nominatim\n",
    "import warnings \n",
    "warnings.simplefilter('ignore')"
   ]
  },
  {
   "cell_type": "markdown",
   "metadata": {},
   "source": [
    "#### 1. Load our data and perform any basic cleaning and/or EDA."
   ]
  },
  {
   "cell_type": "code",
   "execution_count": 2,
   "metadata": {},
   "outputs": [],
   "source": [
    "station_names = ['Aberporth', 'Armagh', 'Ballypatrick Forest', 'Bradford', 'Braemar', 'Camborne', 'Cambridge NIAB', 'Cardiff Bute Park',\n",
    " 'Chivenor', 'Cwmystwyth', 'Dunstaffnage', 'Durham', 'Eastbourne', 'Eskdalemuir', 'Heathrow', 'Hurn', 'Lerwick',\n",
    " 'Leuchars', 'Lowestoft', 'Manston', 'Nairn', 'Newton Rigg', 'Oxford', 'Paisley', 'Ringway', 'Ross-on-Wye',\n",
    " 'Shawbury', 'Sheffield', 'Southampton', 'Stornoway Airport', 'Sutton Bonington', 'Tiree', 'Valley',\n",
    " 'Waddington', 'Whitby', 'Wick Airport', 'Yeovilton']"
   ]
  },
  {
   "cell_type": "code",
   "execution_count": 3,
   "metadata": {},
   "outputs": [],
   "source": [
    "lower_station_names = []\n",
    "for i in station_names:\n",
    "    lower_station_names.append(i.lower().replace(' ','_').replace('-','_'))"
   ]
  },
  {
   "cell_type": "code",
   "execution_count": 4,
   "metadata": {},
   "outputs": [],
   "source": [
    "def data_clean(station_name):\n",
    "    station_name = pd.read_excel('/Users/paxton615/Github_Personal/Notes/Notes/Weather_stations/Weather_stations/{}.xlsx'.format(station_name))\n",
    "    \n",
    "    station_name = station_name.iloc[1:,:-1] # get rid of useless row and column, 去除多余行，列\n",
    "    # 这里有一个例外 Yeovilton 需要 station_name.iloc[1:,:] 这样slice \n",
    "    \n",
    "    col_names = ['year', 'month', 'tmax', 'tmin', 'af', 'rain', 'sun',\n",
    "            'station', 'lat', 'lon'] # temperatre units: degC, rainfall units: mm, sun units: days\n",
    "    station_name.columns = col_names # replace column names with col_names, 替换列名成 col_names\n",
    "    \n",
    "    # fill in station, lat and lon with its value, 给车站，经纬度填上唯一值\n",
    "    station_name['station']= station_name.iloc[0, 7].lower().replace('-', '_').replace(' ','_')\n",
    "    station_name['lat'] = station_name.iloc[0,8]\n",
    "    station_name['lon'] = station_name.iloc[0,9]\n",
    "    \n",
    "    # replace --- with 0\n",
    "    station_name = station_name.replace('---', 0)\n",
    "    station_name = station_name.replace('--- #', 0)\n",
    "\n",
    "    # fillna with 0s, 将所有NaN替换成 0\n",
    "    station_name.fillna(0, inplace=True)\n",
    "    \n",
    "    # tidy all entries and unify types, 消除非数字字符，改type\n",
    "    \n",
    "    station_name['sun'] = station_name['sun'].astype(str)\n",
    "    station_name['sun'] = station_name['sun'].str.extract(r'(\\d+.\\d+)').astype('float')\n",
    "\n",
    "    station_name['tmax'] = station_name['tmax'].astype(str)\n",
    "    station_name['tmax'] = station_name['tmax'].str.extract(r'(-?\\d+.\\d+)').astype('float')\n",
    "\n",
    "    station_name['tmin'] = station_name['tmin'].astype(str)\n",
    "    station_name['tmin'] = station_name['tmin'].str.extract(r'(-?\\d+.\\d+)').astype('float')\n",
    "\n",
    "    station_name['rain'] = station_name['rain'].astype(str)\n",
    "    station_name['rain'] = station_name['rain'].str.extract(r'(\\d+.\\d+)').astype('float')\n",
    "\n",
    "    station_name['af'] = station_name['af'].astype(str)\n",
    "    station_name['af'] = station_name['af'].str.extract(r'(\\d+)').astype('float')\n",
    "\n",
    "    \n",
    "    # fillna with 0s, 将所有NaN替换成 0\n",
    "    station_name = station_name.fillna(0)\n",
    "    \n",
    "    return station_name"
   ]
  },
  {
   "cell_type": "code",
   "execution_count": 5,
   "metadata": {},
   "outputs": [],
   "source": [
    "#  found one exception data: Yeovilton, the slice of this data is different to all others\n",
    "\n",
    "def yeovilton_clean(station_name):\n",
    "    station_name = pd.read_excel('/Users/paxton615/Github_Personal/Notes/Notes/Weather_stations/Weather_stations/{}.xlsx'.format(station_name))\n",
    "    \n",
    "    station_name = station_name.iloc[1:,:] # get rid of useless row and column, 去除多余行，列\n",
    "    # 这里有一个例外 Yeovilton 需要 station_name.iloc[1:,:] 这样slice \n",
    "    \n",
    "    col_names = ['year', 'month', 'tmax', 'tmin', 'af', 'rain', 'sun',\n",
    "            'station', 'lat', 'lon'] # temperatre units: degC, rainfall units: mm, sun units: days\n",
    "    station_name.columns = col_names # replace column names with col_names, 替换列名成 col_names\n",
    "    \n",
    "    # fill in station, lat and lon with its value, 给车站，经纬度填上唯一值\n",
    "    station_name['station']= station_name.iloc[0, 7].lower().replace('-', '_').replace(' ','_')\n",
    "    station_name['lat'] = station_name.iloc[0,8]\n",
    "    station_name['lon'] = station_name.iloc[0,9]\n",
    "    \n",
    "    # replace --- with 0\n",
    "    station_name = station_name.replace('---', 0)\n",
    "    station_name = station_name.replace('--- #', 0)\n",
    "\n",
    "    # fillna with 0s, 将所有NaN替换成 0\n",
    "    station_name.fillna(0, inplace=True)\n",
    "    \n",
    "    # tidy all entries and unify types, 消除非数字字符，改type\n",
    "    \n",
    "    station_name['sun'] = station_name['sun'].astype(str)\n",
    "    station_name['sun'] = station_name['sun'].str.extract(r'(\\d+.\\d+)').astype('float')\n",
    "\n",
    "    station_name['tmax'] = station_name['tmax'].astype(str)\n",
    "    station_name['tmax'] = station_name['tmax'].str.extract(r'(-?\\d+.\\d+)').astype('float')\n",
    "\n",
    "    station_name['tmin'] = station_name['tmin'].astype(str)\n",
    "    station_name['tmin'] = station_name['tmin'].str.extract(r'(-?\\d+.\\d+)').astype('float')\n",
    "\n",
    "    station_name['rain'] = station_name['rain'].astype(str)\n",
    "    station_name['rain'] = station_name['rain'].str.extract(r'(\\d+.\\d+)').astype('float')\n",
    "\n",
    "    station_name['af'] = station_name['af'].astype(str)\n",
    "    station_name['af'] = station_name['af'].str.extract(r'(\\d+)').astype('float')\n",
    "\n",
    "    \n",
    "    # fillna with 0s, 将所有NaN替换成 0\n",
    "    station_name = station_name.fillna(0)\n",
    "    \n",
    "    return station_name"
   ]
  },
  {
   "cell_type": "code",
   "execution_count": 6,
   "metadata": {},
   "outputs": [],
   "source": [
    "aberporth = data_clean('Aberporth')\n",
    "armagh = data_clean('Armagh')\n",
    "ballypatrick_forest= data_clean('Ballypatrick Forest')\n",
    "bradford = data_clean('Bradford')\n",
    "braemar = data_clean('Braemar')\n",
    "camborne = data_clean('Camborne')\n",
    "cambridge_niab = data_clean('Cambridge NIAB')\n",
    "cardiff_bute_park = data_clean('Cardiff Bute Park')\n",
    "chivenor = data_clean('Chivenor')\n",
    "cwmystwyth = data_clean('Cwmystwyth')\n",
    "dunstaffnage = data_clean('Dunstaffnage')\n",
    "durham = data_clean('Durham')\n",
    "eastbourne = data_clean('Eastbourne')\n",
    "eskdalemuir = data_clean('Eskdalemuir')\n",
    "heathrow = data_clean('Heathrow')\n",
    "hurn = data_clean('Hurn')\n",
    "lerwick = data_clean('Lerwick')\n",
    "leuchars = data_clean('Leuchars')\n",
    "lowestoft = data_clean('Lowestoft')\n",
    "manston = data_clean('Manston')\n",
    "nairn = data_clean('Nairn')\n",
    "newton_rigg = data_clean('Newton Rigg')\n",
    "oxford = data_clean('Oxford')\n",
    "paisley = data_clean('Paisley')\n",
    "ringway = data_clean('Ringway') # last year is 2004, not 2022\n",
    "ross_on_wye = data_clean('Ross-on-Wye')\n",
    "shawbury = data_clean('Shawbury')\n",
    "sheffield = data_clean('Sheffield')\n",
    "southampton = data_clean('Southampton') # last year 2000,not 2022\n",
    "stornoway_airport = data_clean('Stornoway')\n",
    "sutton_bonington = data_clean('Sutton Bonington')\n",
    "tiree = data_clean('Tiree')\n",
    "valley = data_clean('Valley')\n",
    "waddington = data_clean('Waddington')\n",
    "whitby = data_clean('Whitby')\n",
    "wick_airport = data_clean('Wick Airport')\n",
    "yeovilton = yeovilton_clean('Yeovilton') \n",
    "# for some reason, yeovilton needs function to be altered as such:\n",
    "# station_name = station_name.iloc[1:,:]"
   ]
  },
  {
   "cell_type": "code",
   "execution_count": 7,
   "metadata": {},
   "outputs": [],
   "source": [
    "# check the last year and month of all stations"
   ]
  },
  {
   "cell_type": "code",
   "execution_count": 8,
   "metadata": {},
   "outputs": [
    {
     "data": {
      "text/plain": [
       "37"
      ]
     },
     "execution_count": 8,
     "metadata": {},
     "output_type": "execute_result"
    }
   ],
   "source": [
    "uni = [aberporth, armagh, ballypatrick_forest, bradford, braemar,\n",
    "      camborne, cambridge_niab, cardiff_bute_park, chivenor, \n",
    "      cwmystwyth, dunstaffnage, durham, eastbourne, eskdalemuir,\n",
    "      heathrow, hurn, lerwick, leuchars, lowestoft, manston,\n",
    "      nairn, newton_rigg, oxford, paisley, ringway, ross_on_wye,\n",
    "      shawbury, sheffield, southampton, stornoway_airport, \n",
    "      sutton_bonington, tiree, valley, waddington, whitby,\n",
    "      wick_airport, yeovilton]\n",
    "len(uni)"
   ]
  },
  {
   "cell_type": "code",
   "execution_count": 9,
   "metadata": {},
   "outputs": [],
   "source": [
    "# YEAR\n",
    "# for i in uni:\n",
    "#     print('{}          year:{}'.format(i.iloc[-1,7],i.iloc[-1,0]))"
   ]
  },
  {
   "cell_type": "code",
   "execution_count": 10,
   "metadata": {},
   "outputs": [],
   "source": [
    "# cwmystwyth          year:2011.0  (other data's year all end at 2022)\n",
    "# ringway             year:2004.0  (other data's year all end at 2022)\n",
    "# southampton         year:2000.0  (other data's year all end at 2022)"
   ]
  },
  {
   "cell_type": "code",
   "execution_count": 11,
   "metadata": {
    "scrolled": false
   },
   "outputs": [],
   "source": [
    "# MONTH\n",
    "# for i in uni:\n",
    "#     print('{}          month:{}'.format(i.iloc[-1,7],i.iloc[-1,1]))"
   ]
  },
  {
   "cell_type": "code",
   "execution_count": 12,
   "metadata": {},
   "outputs": [],
   "source": [
    "# ringway            month:10.0   (other data's month all end at March)\n",
    "    "
   ]
  },
  {
   "cell_type": "markdown",
   "metadata": {},
   "source": [
    "# PART 1"
   ]
  },
  {
   "cell_type": "markdown",
   "metadata": {},
   "source": [
    "#### There are missing data and errors. For example, the highest temperature is 0. \n",
    "#### So, I decide to do some data engineering and to use average temperature, fog, rain and sun instead of the originals."
   ]
  },
  {
   "cell_type": "code",
   "execution_count": 13,
   "metadata": {},
   "outputs": [
    {
     "data": {
      "text/html": [
       "<div>\n",
       "<style scoped>\n",
       "    .dataframe tbody tr th:only-of-type {\n",
       "        vertical-align: middle;\n",
       "    }\n",
       "\n",
       "    .dataframe tbody tr th {\n",
       "        vertical-align: top;\n",
       "    }\n",
       "\n",
       "    .dataframe thead th {\n",
       "        text-align: right;\n",
       "    }\n",
       "</style>\n",
       "<table border=\"1\" class=\"dataframe\">\n",
       "  <thead>\n",
       "    <tr style=\"text-align: right;\">\n",
       "      <th></th>\n",
       "      <th>year</th>\n",
       "      <th>month</th>\n",
       "      <th>tmax</th>\n",
       "      <th>tmin</th>\n",
       "      <th>af</th>\n",
       "      <th>rain</th>\n",
       "      <th>sun</th>\n",
       "      <th>station</th>\n",
       "      <th>lat</th>\n",
       "      <th>lon</th>\n",
       "    </tr>\n",
       "  </thead>\n",
       "  <tbody>\n",
       "    <tr>\n",
       "      <th>689</th>\n",
       "      <td>2022.0</td>\n",
       "      <td>1.0</td>\n",
       "      <td>0.0</td>\n",
       "      <td>0.5</td>\n",
       "      <td>15.0</td>\n",
       "      <td>22.4</td>\n",
       "      <td>62.7</td>\n",
       "      <td>yeovilton</td>\n",
       "      <td>51.006</td>\n",
       "      <td>-2.641</td>\n",
       "    </tr>\n",
       "    <tr>\n",
       "      <th>690</th>\n",
       "      <td>2022.0</td>\n",
       "      <td>2.0</td>\n",
       "      <td>11.2</td>\n",
       "      <td>3.8</td>\n",
       "      <td>4.0</td>\n",
       "      <td>41.8</td>\n",
       "      <td>72.2</td>\n",
       "      <td>yeovilton</td>\n",
       "      <td>51.006</td>\n",
       "      <td>-2.641</td>\n",
       "    </tr>\n",
       "    <tr>\n",
       "      <th>691</th>\n",
       "      <td>2022.0</td>\n",
       "      <td>3.0</td>\n",
       "      <td>13.1</td>\n",
       "      <td>3.5</td>\n",
       "      <td>5.0</td>\n",
       "      <td>49.2</td>\n",
       "      <td>164.7</td>\n",
       "      <td>yeovilton</td>\n",
       "      <td>51.006</td>\n",
       "      <td>-2.641</td>\n",
       "    </tr>\n",
       "  </tbody>\n",
       "</table>\n",
       "</div>"
      ],
      "text/plain": [
       "       year  month  tmax  tmin    af  rain    sun    station     lat    lon\n",
       "689  2022.0    1.0   0.0   0.5  15.0  22.4   62.7  yeovilton  51.006 -2.641\n",
       "690  2022.0    2.0  11.2   3.8   4.0  41.8   72.2  yeovilton  51.006 -2.641\n",
       "691  2022.0    3.0  13.1   3.5   5.0  49.2  164.7  yeovilton  51.006 -2.641"
      ]
     },
     "execution_count": 13,
     "metadata": {},
     "output_type": "execute_result"
    }
   ],
   "source": [
    "uni[36].tail(3)"
   ]
  },
  {
   "cell_type": "code",
   "execution_count": 14,
   "metadata": {},
   "outputs": [
    {
     "data": {
      "text/plain": [
       "Index(['station', 'avg_tmx', 'avg_tmin', 'avg_af', 'avg_rain', 'avg_sun',\n",
       "       'lat', 'lon'],\n",
       "      dtype='object')"
      ]
     },
     "execution_count": 14,
     "metadata": {},
     "output_type": "execute_result"
    }
   ],
   "source": [
    "pd.DataFrame({\"station\":uni[36].iloc[-1,7],\n",
    "#               'all_tmx':uni[36].iloc[:,2].max(),   #all_  means the highest temperature\n",
    "#              'all_tmin':uni[36].iloc[:,3].min(), \n",
    "             'avg_tmx':np.round(uni[36].iloc[:,2].mean(),2), \n",
    "             'avg_tmin':np.round(uni[36].iloc[:,3].mean(),2),\n",
    "              'avg_af':np.round(uni[36].iloc[:,4].mean(),2),\n",
    "              'avg_rain':np.round(uni[36].iloc[:,5].mean(),2),\n",
    "              'avg_sun':np.round(uni[36].iloc[:,6].mean(),2),\n",
    "             'lat':uni[36].iloc[-1,8],\n",
    "             'lon':uni[36].iloc[-1,9]},\n",
    "             index=[1]).columns"
   ]
  },
  {
   "cell_type": "code",
   "execution_count": 15,
   "metadata": {},
   "outputs": [],
   "source": [
    "vase = []\n",
    "for i in uni:\n",
    "    vase.append([i.iloc[-1,7],\n",
    "              np.round(i.iloc[:,2].mean(),2),\n",
    "               np.round(i.iloc[:,3].mean(),2),\n",
    "               np.round(i.iloc[:,4].mean(),2),\n",
    "               np.round(i.iloc[:,5].mean(),2),\n",
    "               np.round(uni[36].iloc[:,6].mean(),2),\n",
    "             i.iloc[-1,8],\n",
    "             i.iloc[-1,9]])"
   ]
  },
  {
   "cell_type": "code",
   "execution_count": 16,
   "metadata": {},
   "outputs": [
    {
     "data": {
      "text/plain": [
       "station      object\n",
       "avg_tmx     float64\n",
       "avg_tmin    float64\n",
       "avg_af      float64\n",
       "avg_rain    float64\n",
       "avg_sun     float64\n",
       "lat         float64\n",
       "lon         float64\n",
       "dtype: object"
      ]
     },
     "execution_count": 16,
     "metadata": {},
     "output_type": "execute_result"
    }
   ],
   "source": [
    "data = pd.DataFrame(vase, columns = ['station', 'avg_tmx', 'avg_tmin', 'avg_af', 'avg_rain', 'avg_sun',\n",
    "       'lat', 'lon'])\n",
    "data.dtypes"
   ]
  },
  {
   "cell_type": "code",
   "execution_count": 17,
   "metadata": {},
   "outputs": [
    {
     "data": {
      "text/html": [
       "<div>\n",
       "<style scoped>\n",
       "    .dataframe tbody tr th:only-of-type {\n",
       "        vertical-align: middle;\n",
       "    }\n",
       "\n",
       "    .dataframe tbody tr th {\n",
       "        vertical-align: top;\n",
       "    }\n",
       "\n",
       "    .dataframe thead th {\n",
       "        text-align: right;\n",
       "    }\n",
       "</style>\n",
       "<table border=\"1\" class=\"dataframe\">\n",
       "  <thead>\n",
       "    <tr style=\"text-align: right;\">\n",
       "      <th></th>\n",
       "      <th>station</th>\n",
       "      <th>avg_tmx</th>\n",
       "      <th>avg_tmin</th>\n",
       "      <th>avg_af</th>\n",
       "      <th>avg_rain</th>\n",
       "      <th>avg_sun</th>\n",
       "      <th>lat</th>\n",
       "      <th>lon</th>\n",
       "    </tr>\n",
       "  </thead>\n",
       "  <tbody>\n",
       "    <tr>\n",
       "      <th>0</th>\n",
       "      <td>aberporth</td>\n",
       "      <td>12.23</td>\n",
       "      <td>7.14</td>\n",
       "      <td>1.22</td>\n",
       "      <td>76.26</td>\n",
       "      <td>83.26</td>\n",
       "      <td>52.139</td>\n",
       "      <td>-4.570</td>\n",
       "    </tr>\n",
       "    <tr>\n",
       "      <th>1</th>\n",
       "      <td>armagh</td>\n",
       "      <td>10.79</td>\n",
       "      <td>4.71</td>\n",
       "      <td>3.05</td>\n",
       "      <td>63.51</td>\n",
       "      <td>83.26</td>\n",
       "      <td>54.352</td>\n",
       "      <td>-6.649</td>\n",
       "    </tr>\n",
       "    <tr>\n",
       "      <th>2</th>\n",
       "      <td>ballypatrick_forest</td>\n",
       "      <td>10.88</td>\n",
       "      <td>5.28</td>\n",
       "      <td>2.33</td>\n",
       "      <td>60.04</td>\n",
       "      <td>83.26</td>\n",
       "      <td>55.181</td>\n",
       "      <td>-6.153</td>\n",
       "    </tr>\n",
       "    <tr>\n",
       "      <th>3</th>\n",
       "      <td>bradford</td>\n",
       "      <td>11.09</td>\n",
       "      <td>5.16</td>\n",
       "      <td>3.72</td>\n",
       "      <td>66.01</td>\n",
       "      <td>83.26</td>\n",
       "      <td>53.813</td>\n",
       "      <td>-1.772</td>\n",
       "    </tr>\n",
       "    <tr>\n",
       "      <th>4</th>\n",
       "      <td>braemar</td>\n",
       "      <td>9.23</td>\n",
       "      <td>2.43</td>\n",
       "      <td>8.64</td>\n",
       "      <td>66.70</td>\n",
       "      <td>83.26</td>\n",
       "      <td>57.006</td>\n",
       "      <td>-3.396</td>\n",
       "    </tr>\n",
       "  </tbody>\n",
       "</table>\n",
       "</div>"
      ],
      "text/plain": [
       "               station  avg_tmx  avg_tmin  avg_af  avg_rain  avg_sun     lat  \\\n",
       "0            aberporth    12.23      7.14    1.22     76.26    83.26  52.139   \n",
       "1               armagh    10.79      4.71    3.05     63.51    83.26  54.352   \n",
       "2  ballypatrick_forest    10.88      5.28    2.33     60.04    83.26  55.181   \n",
       "3             bradford    11.09      5.16    3.72     66.01    83.26  53.813   \n",
       "4              braemar     9.23      2.43    8.64     66.70    83.26  57.006   \n",
       "\n",
       "     lon  \n",
       "0 -4.570  \n",
       "1 -6.649  \n",
       "2 -6.153  \n",
       "3 -1.772  \n",
       "4 -3.396  "
      ]
     },
     "execution_count": 17,
     "metadata": {},
     "output_type": "execute_result"
    }
   ],
   "source": [
    "data.head()"
   ]
  },
  {
   "cell_type": "code",
   "execution_count": 18,
   "metadata": {},
   "outputs": [
    {
     "data": {
      "image/png": "[encoded data removed]",
      "text/plain": [
       "<Figure size 720x432 with 2 Axes>"
      ]
     },
     "metadata": {},
     "output_type": "display_data"
    }
   ],
   "source": [
    "corrmat= data.corr()\n",
    "plt.figure(figsize=(10,6))  \n",
    "sns.heatmap(corrmat,annot=True,  center=0);"
   ]
  },
  {
   "cell_type": "markdown",
   "metadata": {},
   "source": [
    "#### Set up an X matrix to perform clustering with DBSCAN."
   ]
  },
  {
   "cell_type": "code",
   "execution_count": 19,
   "metadata": {},
   "outputs": [],
   "source": [
    "# ['station', 'avg_tmx', 'avg_tmin', 'avg_af', 'avg_rain', 'avg_sun','lat', 'lon']"
   ]
  },
  {
   "cell_type": "code",
   "execution_count": 20,
   "metadata": {},
   "outputs": [
    {
     "data": {
      "text/html": [
       "<div>\n",
       "<style scoped>\n",
       "    .dataframe tbody tr th:only-of-type {\n",
       "        vertical-align: middle;\n",
       "    }\n",
       "\n",
       "    .dataframe tbody tr th {\n",
       "        vertical-align: top;\n",
       "    }\n",
       "\n",
       "    .dataframe thead th {\n",
       "        text-align: right;\n",
       "    }\n",
       "</style>\n",
       "<table border=\"1\" class=\"dataframe\">\n",
       "  <thead>\n",
       "    <tr style=\"text-align: right;\">\n",
       "      <th></th>\n",
       "      <th>avg_tmx</th>\n",
       "      <th>avg_tmin</th>\n",
       "      <th>avg_af</th>\n",
       "      <th>avg_rain</th>\n",
       "      <th>lat</th>\n",
       "      <th>lon</th>\n",
       "    </tr>\n",
       "  </thead>\n",
       "  <tbody>\n",
       "    <tr>\n",
       "      <th>0</th>\n",
       "      <td>12.23</td>\n",
       "      <td>7.14</td>\n",
       "      <td>1.22</td>\n",
       "      <td>76.26</td>\n",
       "      <td>52.139</td>\n",
       "      <td>-4.570</td>\n",
       "    </tr>\n",
       "    <tr>\n",
       "      <th>1</th>\n",
       "      <td>10.79</td>\n",
       "      <td>4.71</td>\n",
       "      <td>3.05</td>\n",
       "      <td>63.51</td>\n",
       "      <td>54.352</td>\n",
       "      <td>-6.649</td>\n",
       "    </tr>\n",
       "  </tbody>\n",
       "</table>\n",
       "</div>"
      ],
      "text/plain": [
       "   avg_tmx  avg_tmin  avg_af  avg_rain     lat    lon\n",
       "0    12.23      7.14    1.22     76.26  52.139 -4.570\n",
       "1    10.79      4.71    3.05     63.51  54.352 -6.649"
      ]
     },
     "execution_count": 20,
     "metadata": {},
     "output_type": "execute_result"
    }
   ],
   "source": [
    "X = data.drop(['station','avg_sun'], axis = 1) # Because the number in 'avg_sun' are all the same.\n",
    "X.head(2)"
   ]
  },
  {
   "cell_type": "markdown",
   "metadata": {},
   "source": [
    "#### visualize data"
   ]
  },
  {
   "cell_type": "code",
   "execution_count": 21,
   "metadata": {},
   "outputs": [
    {
     "data": {
      "image/png": "[encoded data removed]",
      "text/plain": [
       "<Figure size 432x288 with 1 Axes>"
      ]
     },
     "metadata": {},
     "output_type": "display_data"
    }
   ],
   "source": [
    "X.plot(x='avg_rain', y='avg_tmx', kind='scatter', s=40, c='r')\n",
    "plt.show()"
   ]
  },
  {
   "cell_type": "code",
   "execution_count": 22,
   "metadata": {},
   "outputs": [
    {
     "data": {
      "image/png": "[encoded data removed]",
      "text/plain": [
       "<Figure size 432x288 with 1 Axes>"
      ]
     },
     "metadata": {},
     "output_type": "display_data"
    }
   ],
   "source": [
    "X.plot(x='avg_tmin', y='avg_tmx', kind='scatter', s=40, c='r')\n",
    "plt.show()"
   ]
  },
  {
   "cell_type": "code",
   "execution_count": 23,
   "metadata": {},
   "outputs": [
    {
     "data": {
      "image/png": "[encoded data removed]",
      "text/plain": [
       "<Figure size 432x288 with 1 Axes>"
      ]
     },
     "metadata": {},
     "output_type": "display_data"
    }
   ],
   "source": [
    "X.plot(x='avg_af', y='avg_tmx', kind='scatter', s=40, c='r')\n",
    "plt.show()"
   ]
  },
  {
   "cell_type": "code",
   "execution_count": 24,
   "metadata": {
    "scrolled": true
   },
   "outputs": [
    {
     "data": {
      "image/png": "[encoded data removed]",
      "text/plain": [
       "<Figure size 432x288 with 1 Axes>"
      ]
     },
     "metadata": {},
     "output_type": "display_data"
    }
   ],
   "source": [
    "X.plot(x='lat', y='avg_tmx', kind='scatter', s=40, c='r')\n",
    "plt.show()"
   ]
  },
  {
   "cell_type": "code",
   "execution_count": 25,
   "metadata": {},
   "outputs": [
    {
     "data": {
      "image/png": "[encoded data removed]",
      "text/plain": [
       "<Figure size 432x288 with 1 Axes>"
      ]
     },
     "metadata": {},
     "output_type": "display_data"
    }
   ],
   "source": [
    "X.plot(x='lon', y='avg_tmx', kind='scatter', s=40, c='r')\n",
    "plt.show()"
   ]
  },
  {
   "cell_type": "markdown",
   "metadata": {},
   "source": [
    "#### Scale data"
   ]
  },
  {
   "cell_type": "code",
   "execution_count": 26,
   "metadata": {},
   "outputs": [],
   "source": [
    "scaler = StandardScaler()\n",
    "Xs = scaler.fit_transform(X)\n",
    "Xs = pd.DataFrame(Xs, columns=X.columns)"
   ]
  },
  {
   "cell_type": "markdown",
   "metadata": {},
   "source": [
    "#### Fit a DBSCAN clusterer and check out the assigned cluster labels"
   ]
  },
  {
   "cell_type": "code",
   "execution_count": 27,
   "metadata": {},
   "outputs": [
    {
     "name": "stdout",
     "output_type": "stream",
     "text": [
      "[ 0  1  1  2 -1 -1  3 -1 -1 -1 -1  4 -1 -1 -1  3 -1  4  5  5  4  4  3 -1\n",
      "  3  3  2  2 -1 -1  3 -1  0  3 -1 -1  3] \n",
      "\n",
      "types of clusters: 6\n"
     ]
    }
   ],
   "source": [
    "dbscan = DBSCAN(eps=1, min_samples=2)\n",
    "dbscan.fit(Xs)\n",
    "\n",
    "labels = dbscan.labels_\n",
    "print(labels, '\\n')\n",
    "# how many clusters do we have?\n",
    "n_clusters_ = len(set(labels).difference(set([-1])))\n",
    "print(\"types of clusters: {}\".format(n_clusters_) )"
   ]
  },
  {
   "cell_type": "code",
   "execution_count": 28,
   "metadata": {},
   "outputs": [
    {
     "name": "stdout",
     "output_type": "stream",
     "text": [
      "[-1 -1 -1  0 -1 -1  0 -1 -1 -1 -1  0  1 -1 -1  0 -1  0  1  1  0  0  0 -1\n",
      "  0  0  0  0  0 -1  0 -1 -1  0  0  0  0] \n",
      "\n",
      "types of clusters: 2\n"
     ]
    }
   ],
   "source": [
    "dbscan = DBSCAN(eps=1.5, min_samples=3)\n",
    "dbscan.fit(Xs)\n",
    "\n",
    "labels = dbscan.labels_\n",
    "print(labels, '\\n')\n",
    "# how many clusters do we have?\n",
    "n_clusters_ = len(set(labels).difference(set([-1])))\n",
    "print(\"types of clusters: {}\".format(n_clusters_) )"
   ]
  },
  {
   "cell_type": "markdown",
   "metadata": {},
   "source": [
    "##### I noticed that if min_samples is bigger than 2, there are many unlabeled ones in the results. Gradually tuning my model."
   ]
  },
  {
   "cell_type": "code",
   "execution_count": 29,
   "metadata": {},
   "outputs": [
    {
     "name": "stdout",
     "output_type": "stream",
     "text": [
      "[ 0  1  1  0 -1  0  0  0 -1  2  1  0  0  2  0  0  0  0  0  0  0  0  0  1\n",
      "  0  0  0  0  0  1  0  1  0  0  0  0  0] \n",
      "\n",
      "types of clusters: 3\n"
     ]
    }
   ],
   "source": [
    "dbscan = DBSCAN(eps=1.9, min_samples=2)\n",
    "dbscan.fit(Xs)\n",
    "\n",
    "labels = dbscan.labels_\n",
    "print(labels, '\\n')\n",
    "# how many clusters do we have?\n",
    "n_clusters_ = len(set(labels).difference(set([-1])))\n",
    "print(\"types of clusters: {}\".format(n_clusters_) )"
   ]
  },
  {
   "cell_type": "markdown",
   "metadata": {},
   "source": [
    "##### With eps=1.9 or 2 and min_samples=2, I have got the least unlabeled ones."
   ]
  },
  {
   "cell_type": "code",
   "execution_count": 30,
   "metadata": {},
   "outputs": [
    {
     "name": "stdout",
     "output_type": "stream",
     "text": [
      "[ 0  1  1  0 -1  0  0  0 -1  2  1  0  0  2  0  0  0  0  0  0  0  0  0  1\n",
      "  0  0  0  0  0  1  0  1  0  0  0  0  0] \n",
      "\n",
      "types of clusters: 3\n"
     ]
    }
   ],
   "source": [
    "dbscan = DBSCAN(eps=2, min_samples=2)\n",
    "dbscan.fit(Xs)\n",
    "\n",
    "labels = dbscan.labels_\n",
    "print(labels, '\\n')\n",
    "# how many clusters do we have?\n",
    "n_clusters_ = len(set(labels).difference(set([-1])))\n",
    "print(\"types of clusters: {}\".format(n_clusters_) )"
   ]
  },
  {
   "cell_type": "code",
   "execution_count": 31,
   "metadata": {},
   "outputs": [
    {
     "data": {
      "text/html": [
       "<div>\n",
       "<style scoped>\n",
       "    .dataframe tbody tr th:only-of-type {\n",
       "        vertical-align: middle;\n",
       "    }\n",
       "\n",
       "    .dataframe tbody tr th {\n",
       "        vertical-align: top;\n",
       "    }\n",
       "\n",
       "    .dataframe thead th {\n",
       "        text-align: right;\n",
       "    }\n",
       "</style>\n",
       "<table border=\"1\" class=\"dataframe\">\n",
       "  <thead>\n",
       "    <tr style=\"text-align: right;\">\n",
       "      <th></th>\n",
       "      <th>station</th>\n",
       "      <th>avg_tmx</th>\n",
       "      <th>avg_tmin</th>\n",
       "      <th>avg_af</th>\n",
       "      <th>avg_rain</th>\n",
       "      <th>avg_sun</th>\n",
       "      <th>lat</th>\n",
       "      <th>lon</th>\n",
       "      <th>cluster_est</th>\n",
       "    </tr>\n",
       "  </thead>\n",
       "  <tbody>\n",
       "    <tr>\n",
       "      <th>0</th>\n",
       "      <td>aberporth</td>\n",
       "      <td>12.23</td>\n",
       "      <td>7.14</td>\n",
       "      <td>1.22</td>\n",
       "      <td>76.26</td>\n",
       "      <td>83.26</td>\n",
       "      <td>52.139</td>\n",
       "      <td>-4.570</td>\n",
       "      <td>0</td>\n",
       "    </tr>\n",
       "    <tr>\n",
       "      <th>1</th>\n",
       "      <td>armagh</td>\n",
       "      <td>10.79</td>\n",
       "      <td>4.71</td>\n",
       "      <td>3.05</td>\n",
       "      <td>63.51</td>\n",
       "      <td>83.26</td>\n",
       "      <td>54.352</td>\n",
       "      <td>-6.649</td>\n",
       "      <td>1</td>\n",
       "    </tr>\n",
       "    <tr>\n",
       "      <th>2</th>\n",
       "      <td>ballypatrick_forest</td>\n",
       "      <td>10.88</td>\n",
       "      <td>5.28</td>\n",
       "      <td>2.33</td>\n",
       "      <td>60.04</td>\n",
       "      <td>83.26</td>\n",
       "      <td>55.181</td>\n",
       "      <td>-6.153</td>\n",
       "      <td>1</td>\n",
       "    </tr>\n",
       "    <tr>\n",
       "      <th>3</th>\n",
       "      <td>bradford</td>\n",
       "      <td>11.09</td>\n",
       "      <td>5.16</td>\n",
       "      <td>3.72</td>\n",
       "      <td>66.01</td>\n",
       "      <td>83.26</td>\n",
       "      <td>53.813</td>\n",
       "      <td>-1.772</td>\n",
       "      <td>0</td>\n",
       "    </tr>\n",
       "    <tr>\n",
       "      <th>4</th>\n",
       "      <td>braemar</td>\n",
       "      <td>9.23</td>\n",
       "      <td>2.43</td>\n",
       "      <td>8.64</td>\n",
       "      <td>66.70</td>\n",
       "      <td>83.26</td>\n",
       "      <td>57.006</td>\n",
       "      <td>-3.396</td>\n",
       "      <td>-1</td>\n",
       "    </tr>\n",
       "  </tbody>\n",
       "</table>\n",
       "</div>"
      ],
      "text/plain": [
       "               station  avg_tmx  avg_tmin  avg_af  avg_rain  avg_sun     lat  \\\n",
       "0            aberporth    12.23      7.14    1.22     76.26    83.26  52.139   \n",
       "1               armagh    10.79      4.71    3.05     63.51    83.26  54.352   \n",
       "2  ballypatrick_forest    10.88      5.28    2.33     60.04    83.26  55.181   \n",
       "3             bradford    11.09      5.16    3.72     66.01    83.26  53.813   \n",
       "4              braemar     9.23      2.43    8.64     66.70    83.26  57.006   \n",
       "\n",
       "     lon  cluster_est  \n",
       "0 -4.570            0  \n",
       "1 -6.649            1  \n",
       "2 -6.153            1  \n",
       "3 -1.772            0  \n",
       "4 -3.396           -1  "
      ]
     },
     "execution_count": 31,
     "metadata": {},
     "output_type": "execute_result"
    }
   ],
   "source": [
    "data['cluster_est'] = labels\n",
    "data.head()"
   ]
  },
  {
   "cell_type": "markdown",
   "metadata": {},
   "source": [
    "#### Findings:\n",
    "The cluster isn't perfect, but its working. By checking the map, I found that :\n",
    "- Label 1 are stations located in north-west and northern Ireland area.\n",
    "- Label 0 covers most of the points which located in the middle and south of England.\n",
    "- Label 2 doesn't make a lot sense"
   ]
  },
  {
   "cell_type": "markdown",
   "metadata": {},
   "source": [
    "#### Check the core samples"
   ]
  },
  {
   "cell_type": "code",
   "execution_count": 32,
   "metadata": {},
   "outputs": [
    {
     "name": "stdout",
     "output_type": "stream",
     "text": [
      "[ 0  1  2  3  5  6  7  9 10 11 12 13 14 15 16 17 18 19 20 21 22 23 24 25\n",
      " 26 27 28 29 30 31 32 33 34 35 36]\n"
     ]
    }
   ],
   "source": [
    "# Extract core sample indices\n",
    "print(dbscan.core_sample_indices_)"
   ]
  },
  {
   "cell_type": "code",
   "execution_count": 33,
   "metadata": {},
   "outputs": [
    {
     "data": {
      "text/plain": [
       "array([ True,  True,  True,  True, False,  True,  True,  True, False,\n",
       "        True,  True,  True,  True,  True,  True,  True,  True,  True,\n",
       "        True,  True,  True,  True,  True,  True,  True,  True,  True,\n",
       "        True,  True,  True,  True,  True,  True,  True,  True,  True,\n",
       "        True])"
      ]
     },
     "execution_count": 33,
     "metadata": {},
     "output_type": "execute_result"
    }
   ],
   "source": [
    "core_samples = np.zeros_like(labels, dtype=bool)\n",
    "\n",
    "core_samples[dbscan.core_sample_indices_] = True\n",
    "core_samples"
   ]
  },
  {
   "cell_type": "code",
   "execution_count": 34,
   "metadata": {},
   "outputs": [
    {
     "name": "stdout",
     "output_type": "stream",
     "text": [
      "Core samples\n",
      "[1 1 1 1 0 1 1 1 0 1 1 1 1 1 1 1 1 1 1 1 1 1 1 1 1 1 1 1 1 1 1 1 1 1 1 1 1]\n"
     ]
    }
   ],
   "source": [
    "print(\"Core samples\")\n",
    "print((core_samples * 1))"
   ]
  },
  {
   "cell_type": "markdown",
   "metadata": {},
   "source": [
    "#### use Kmeans on data again and compare the results with DBSCAN"
   ]
  },
  {
   "cell_type": "code",
   "execution_count": 35,
   "metadata": {},
   "outputs": [
    {
     "data": {
      "text/plain": [
       "KMeans(n_clusters=3, random_state=0)"
      ]
     },
     "execution_count": 35,
     "metadata": {},
     "output_type": "execute_result"
    }
   ],
   "source": [
    "model = KMeans(n_clusters=3, random_state=0)\n",
    "model.fit(Xs)"
   ]
  },
  {
   "cell_type": "code",
   "execution_count": 36,
   "metadata": {},
   "outputs": [
    {
     "name": "stdout",
     "output_type": "stream",
     "text": [
      "Assigned cluster labels: \n",
      " [0 2 2 0 1 0 0 0 2 2 2 1 0 2 0 0 1 1 0 0 1 1 0 2 0 0 0 0 0 2 0 2 0 0 0 1 0]\n"
     ]
    }
   ],
   "source": [
    "cluster_labels = model.labels_\n",
    "print(\"Assigned cluster labels: \\n\", cluster_labels)"
   ]
  },
  {
   "cell_type": "code",
   "execution_count": 37,
   "metadata": {},
   "outputs": [],
   "source": [
    "# [ 0  1  1  0 -1  0  0  0 -1  2  1  0  0  2  0  0  0  0  0  0  0  0  0  1\n",
    "#   0  0  0  0  0  1  0  1  0  0  0  0  0] "
   ]
  },
  {
   "cell_type": "code",
   "execution_count": 38,
   "metadata": {},
   "outputs": [
    {
     "name": "stdout",
     "output_type": "stream",
     "text": [
      "Location of centroids: \n",
      "[[ 0.6938712   0.56191765 -0.20389651 -0.42188772 -0.64708281  0.49692444]\n",
      " [-0.95736426 -1.05069393  1.0461838  -0.21548774  1.29411906  0.02213461]\n",
      " [-0.87441615 -0.4939348  -0.33793999  1.15200625  0.50332284 -1.17670616]]\n"
     ]
    }
   ],
   "source": [
    "centroids = model.cluster_centers_\n",
    "print(\"Location of centroids: \")\n",
    "print(centroids)"
   ]
  },
  {
   "cell_type": "code",
   "execution_count": 39,
   "metadata": {},
   "outputs": [
    {
     "data": {
      "text/html": [
       "<div>\n",
       "<style scoped>\n",
       "    .dataframe tbody tr th:only-of-type {\n",
       "        vertical-align: middle;\n",
       "    }\n",
       "\n",
       "    .dataframe tbody tr th {\n",
       "        vertical-align: top;\n",
       "    }\n",
       "\n",
       "    .dataframe thead th {\n",
       "        text-align: right;\n",
       "    }\n",
       "</style>\n",
       "<table border=\"1\" class=\"dataframe\">\n",
       "  <thead>\n",
       "    <tr style=\"text-align: right;\">\n",
       "      <th></th>\n",
       "      <th>avg_tmx</th>\n",
       "      <th>avg_tmin</th>\n",
       "      <th>avg_af</th>\n",
       "      <th>avg_rain</th>\n",
       "      <th>lat</th>\n",
       "      <th>lon</th>\n",
       "      <th>clusters</th>\n",
       "    </tr>\n",
       "  </thead>\n",
       "  <tbody>\n",
       "    <tr>\n",
       "      <th>0</th>\n",
       "      <td>0.461048</td>\n",
       "      <td>1.407818</td>\n",
       "      <td>-1.381906</td>\n",
       "      <td>0.273567</td>\n",
       "      <td>-0.660117</td>\n",
       "      <td>-0.868894</td>\n",
       "      <td>0</td>\n",
       "    </tr>\n",
       "    <tr>\n",
       "      <th>1</th>\n",
       "      <td>-0.569781</td>\n",
       "      <td>-0.664496</td>\n",
       "      <td>-0.156381</td>\n",
       "      <td>-0.226240</td>\n",
       "      <td>0.229378</td>\n",
       "      <td>-1.846070</td>\n",
       "      <td>2</td>\n",
       "    </tr>\n",
       "    <tr>\n",
       "      <th>2</th>\n",
       "      <td>-0.505354</td>\n",
       "      <td>-0.178397</td>\n",
       "      <td>-0.638555</td>\n",
       "      <td>-0.362266</td>\n",
       "      <td>0.562587</td>\n",
       "      <td>-1.612939</td>\n",
       "      <td>2</td>\n",
       "    </tr>\n",
       "    <tr>\n",
       "      <th>3</th>\n",
       "      <td>-0.355025</td>\n",
       "      <td>-0.280734</td>\n",
       "      <td>0.292309</td>\n",
       "      <td>-0.128239</td>\n",
       "      <td>0.012732</td>\n",
       "      <td>0.446229</td>\n",
       "      <td>0</td>\n",
       "    </tr>\n",
       "    <tr>\n",
       "      <th>4</th>\n",
       "      <td>-1.686512</td>\n",
       "      <td>-2.608888</td>\n",
       "      <td>3.587163</td>\n",
       "      <td>-0.101190</td>\n",
       "      <td>1.296129</td>\n",
       "      <td>-0.317087</td>\n",
       "      <td>1</td>\n",
       "    </tr>\n",
       "  </tbody>\n",
       "</table>\n",
       "</div>"
      ],
      "text/plain": [
       "    avg_tmx  avg_tmin    avg_af  avg_rain       lat       lon  clusters\n",
       "0  0.461048  1.407818 -1.381906  0.273567 -0.660117 -0.868894         0\n",
       "1 -0.569781 -0.664496 -0.156381 -0.226240  0.229378 -1.846070         2\n",
       "2 -0.505354 -0.178397 -0.638555 -0.362266  0.562587 -1.612939         2\n",
       "3 -0.355025 -0.280734  0.292309 -0.128239  0.012732  0.446229         0\n",
       "4 -1.686512 -2.608888  3.587163 -0.101190  1.296129 -0.317087         1"
      ]
     },
     "execution_count": 39,
     "metadata": {},
     "output_type": "execute_result"
    }
   ],
   "source": [
    "Xs['clusters'] = cluster_labels\n",
    "Xs.head()"
   ]
  },
  {
   "cell_type": "code",
   "execution_count": 40,
   "metadata": {
    "scrolled": true
   },
   "outputs": [
    {
     "data": {
      "image/png": "[encoded data removed]",
      "text/plain": [
       "<Figure size 432x288 with 1 Axes>"
      ]
     },
     "metadata": {},
     "output_type": "display_data"
    }
   ],
   "source": [
    "inertia = []\n",
    "k_values = range(1, 11)\n",
    "for n_clusters in k_values:\n",
    "    kmeans = KMeans(n_clusters=n_clusters)\n",
    "    kmeans.fit(Xs)\n",
    "    inertia.append(kmeans.inertia_)\n",
    "\n",
    "fig, ax = plt.subplots()\n",
    "ax.plot(k_values, inertia, color='r', lw=4, ls='--')\n",
    "plt.show()"
   ]
  },
  {
   "cell_type": "code",
   "execution_count": 41,
   "metadata": {},
   "outputs": [
    {
     "name": "stdout",
     "output_type": "stream",
     "text": [
      "How many are labeled 0 by Kmeans: 21\n",
      "How many are labeled 1 by Kmeans: 7\n",
      "How many are labeled 2 by Kmeans: 9\n"
     ]
    }
   ],
   "source": [
    "print('How many are labeled 0 by Kmeans: {}'.format(list(Xs['clusters']).count(0)))\n",
    "print('How many are labeled 1 by Kmeans: {}'.format(list(Xs['clusters']).count(1)))\n",
    "print('How many are labeled 2 by Kmeans: {}'.format(list(Xs['clusters']).count(2)))"
   ]
  },
  {
   "cell_type": "code",
   "execution_count": 42,
   "metadata": {
    "scrolled": true
   },
   "outputs": [
    {
     "data": {
      "text/html": [
       "<div>\n",
       "<style scoped>\n",
       "    .dataframe tbody tr th:only-of-type {\n",
       "        vertical-align: middle;\n",
       "    }\n",
       "\n",
       "    .dataframe tbody tr th {\n",
       "        vertical-align: top;\n",
       "    }\n",
       "\n",
       "    .dataframe thead th {\n",
       "        text-align: right;\n",
       "    }\n",
       "</style>\n",
       "<table border=\"1\" class=\"dataframe\">\n",
       "  <thead>\n",
       "    <tr style=\"text-align: right;\">\n",
       "      <th></th>\n",
       "      <th>0</th>\n",
       "      <th>1</th>\n",
       "      <th>2</th>\n",
       "      <th>3</th>\n",
       "      <th>4</th>\n",
       "      <th>5</th>\n",
       "      <th>6</th>\n",
       "      <th>7</th>\n",
       "      <th>8</th>\n",
       "      <th>9</th>\n",
       "      <th>...</th>\n",
       "      <th>27</th>\n",
       "      <th>28</th>\n",
       "      <th>29</th>\n",
       "      <th>30</th>\n",
       "      <th>31</th>\n",
       "      <th>32</th>\n",
       "      <th>33</th>\n",
       "      <th>34</th>\n",
       "      <th>35</th>\n",
       "      <th>36</th>\n",
       "    </tr>\n",
       "  </thead>\n",
       "  <tbody>\n",
       "    <tr>\n",
       "      <th>cluster_est</th>\n",
       "      <td>0</td>\n",
       "      <td>1</td>\n",
       "      <td>1</td>\n",
       "      <td>0</td>\n",
       "      <td>-1</td>\n",
       "      <td>0</td>\n",
       "      <td>0</td>\n",
       "      <td>0</td>\n",
       "      <td>-1</td>\n",
       "      <td>2</td>\n",
       "      <td>...</td>\n",
       "      <td>0</td>\n",
       "      <td>0</td>\n",
       "      <td>1</td>\n",
       "      <td>0</td>\n",
       "      <td>1</td>\n",
       "      <td>0</td>\n",
       "      <td>0</td>\n",
       "      <td>0</td>\n",
       "      <td>0</td>\n",
       "      <td>0</td>\n",
       "    </tr>\n",
       "    <tr>\n",
       "      <th>clusters</th>\n",
       "      <td>0</td>\n",
       "      <td>2</td>\n",
       "      <td>2</td>\n",
       "      <td>0</td>\n",
       "      <td>1</td>\n",
       "      <td>0</td>\n",
       "      <td>0</td>\n",
       "      <td>0</td>\n",
       "      <td>2</td>\n",
       "      <td>2</td>\n",
       "      <td>...</td>\n",
       "      <td>0</td>\n",
       "      <td>0</td>\n",
       "      <td>2</td>\n",
       "      <td>0</td>\n",
       "      <td>2</td>\n",
       "      <td>0</td>\n",
       "      <td>0</td>\n",
       "      <td>0</td>\n",
       "      <td>1</td>\n",
       "      <td>0</td>\n",
       "    </tr>\n",
       "  </tbody>\n",
       "</table>\n",
       "<p>2 rows × 37 columns</p>\n",
       "</div>"
      ],
      "text/plain": [
       "             0   1   2   3   4   5   6   7   8   9   ...  27  28  29  30  31  \\\n",
       "cluster_est   0   1   1   0  -1   0   0   0  -1   2  ...   0   0   1   0   1   \n",
       "clusters      0   2   2   0   1   0   0   0   2   2  ...   0   0   2   0   2   \n",
       "\n",
       "             32  33  34  35  36  \n",
       "cluster_est   0   0   0   0   0  \n",
       "clusters      0   0   0   1   0  \n",
       "\n",
       "[2 rows x 37 columns]"
      ]
     },
     "execution_count": 42,
     "metadata": {},
     "output_type": "execute_result"
    }
   ],
   "source": [
    "pd.DataFrame([data['cluster_est'],Xs['clusters']])"
   ]
  },
  {
   "cell_type": "markdown",
   "metadata": {},
   "source": [
    "#### Findings:\n",
    "\n",
    "Kmeans doesn't leave any points unlabeled. And by checking the results, for this data, Kmeans is working better than DBSCAN.\n"
   ]
  },
  {
   "cell_type": "markdown",
   "metadata": {},
   "source": [
    "# PART 2"
   ]
  },
  {
   "cell_type": "markdown",
   "metadata": {},
   "source": [
    "#### creating a new column, data['areas'], and divide the area by given latitudes in question. Holding back the last 5 cities as test set."
   ]
  },
  {
   "cell_type": "code",
   "execution_count": 43,
   "metadata": {},
   "outputs": [],
   "source": [
    "# lat_area: south_area(49.9 - 53.567), mid_area(53.567 - 57.233), north_area(57.233 - 60.9)\n",
    "data['areas'] = [0 if  49.9<= i <= 53.567 else 1 if 53.567< i <= 57.233\n",
    "                else 2 for i in data.lat ]"
   ]
  },
  {
   "cell_type": "code",
   "execution_count": 44,
   "metadata": {
    "scrolled": true
   },
   "outputs": [
    {
     "data": {
      "text/html": [
       "<div>\n",
       "<style scoped>\n",
       "    .dataframe tbody tr th:only-of-type {\n",
       "        vertical-align: middle;\n",
       "    }\n",
       "\n",
       "    .dataframe tbody tr th {\n",
       "        vertical-align: top;\n",
       "    }\n",
       "\n",
       "    .dataframe thead th {\n",
       "        text-align: right;\n",
       "    }\n",
       "</style>\n",
       "<table border=\"1\" class=\"dataframe\">\n",
       "  <thead>\n",
       "    <tr style=\"text-align: right;\">\n",
       "      <th></th>\n",
       "      <th>station</th>\n",
       "      <th>avg_tmx</th>\n",
       "      <th>avg_tmin</th>\n",
       "      <th>avg_af</th>\n",
       "      <th>avg_rain</th>\n",
       "      <th>avg_sun</th>\n",
       "      <th>lat</th>\n",
       "      <th>lon</th>\n",
       "      <th>cluster_est</th>\n",
       "      <th>areas</th>\n",
       "    </tr>\n",
       "  </thead>\n",
       "  <tbody>\n",
       "    <tr>\n",
       "      <th>32</th>\n",
       "      <td>valley</td>\n",
       "      <td>13.02</td>\n",
       "      <td>7.52</td>\n",
       "      <td>1.59</td>\n",
       "      <td>71.15</td>\n",
       "      <td>83.26</td>\n",
       "      <td>53.252</td>\n",
       "      <td>-4.535</td>\n",
       "      <td>0</td>\n",
       "      <td>0</td>\n",
       "    </tr>\n",
       "    <tr>\n",
       "      <th>33</th>\n",
       "      <td>waddington</td>\n",
       "      <td>13.26</td>\n",
       "      <td>5.97</td>\n",
       "      <td>3.54</td>\n",
       "      <td>50.57</td>\n",
       "      <td>83.26</td>\n",
       "      <td>53.175</td>\n",
       "      <td>-0.522</td>\n",
       "      <td>0</td>\n",
       "      <td>0</td>\n",
       "    </tr>\n",
       "    <tr>\n",
       "      <th>34</th>\n",
       "      <td>whitby</td>\n",
       "      <td>10.70</td>\n",
       "      <td>6.06</td>\n",
       "      <td>2.63</td>\n",
       "      <td>48.96</td>\n",
       "      <td>83.26</td>\n",
       "      <td>54.481</td>\n",
       "      <td>-0.624</td>\n",
       "      <td>0</td>\n",
       "      <td>1</td>\n",
       "    </tr>\n",
       "    <tr>\n",
       "      <th>35</th>\n",
       "      <td>wick_airport</td>\n",
       "      <td>9.48</td>\n",
       "      <td>4.58</td>\n",
       "      <td>3.01</td>\n",
       "      <td>59.44</td>\n",
       "      <td>83.26</td>\n",
       "      <td>58.454</td>\n",
       "      <td>-3.088</td>\n",
       "      <td>0</td>\n",
       "      <td>2</td>\n",
       "    </tr>\n",
       "    <tr>\n",
       "      <th>36</th>\n",
       "      <td>yeovilton</td>\n",
       "      <td>12.98</td>\n",
       "      <td>5.51</td>\n",
       "      <td>4.38</td>\n",
       "      <td>53.30</td>\n",
       "      <td>83.26</td>\n",
       "      <td>51.006</td>\n",
       "      <td>-2.641</td>\n",
       "      <td>0</td>\n",
       "      <td>0</td>\n",
       "    </tr>\n",
       "  </tbody>\n",
       "</table>\n",
       "</div>"
      ],
      "text/plain": [
       "         station  avg_tmx  avg_tmin  avg_af  avg_rain  avg_sun     lat    lon  \\\n",
       "32        valley    13.02      7.52    1.59     71.15    83.26  53.252 -4.535   \n",
       "33    waddington    13.26      5.97    3.54     50.57    83.26  53.175 -0.522   \n",
       "34        whitby    10.70      6.06    2.63     48.96    83.26  54.481 -0.624   \n",
       "35  wick_airport     9.48      4.58    3.01     59.44    83.26  58.454 -3.088   \n",
       "36     yeovilton    12.98      5.51    4.38     53.30    83.26  51.006 -2.641   \n",
       "\n",
       "    cluster_est  areas  \n",
       "32            0      0  \n",
       "33            0      0  \n",
       "34            0      1  \n",
       "35            0      2  \n",
       "36            0      0  "
      ]
     },
     "execution_count": 44,
     "metadata": {},
     "output_type": "execute_result"
    }
   ],
   "source": [
    "data.tail()"
   ]
  },
  {
   "cell_type": "code",
   "execution_count": 45,
   "metadata": {},
   "outputs": [
    {
     "name": "stdout",
     "output_type": "stream",
     "text": [
      "The baseline is :0.5675675675675675\n"
     ]
    }
   ],
   "source": [
    "baseline = list(data['areas']).count(0)/len(data['areas'])\n",
    "print('The baseline is :{}'.format(baseline))"
   ]
  },
  {
   "cell_type": "code",
   "execution_count": 46,
   "metadata": {},
   "outputs": [],
   "source": [
    "X_train = data.iloc[:-5,1:-4]\n",
    "y_train = data.iloc[:-5,-1]\n",
    "X_test = data.iloc[-5:,1:-4]\n",
    "y_test = data.iloc[-5:,-1]"
   ]
  },
  {
   "cell_type": "markdown",
   "metadata": {},
   "source": [
    "####  Classification modeling"
   ]
  },
  {
   "cell_type": "code",
   "execution_count": 47,
   "metadata": {},
   "outputs": [],
   "source": [
    "X_train = scaler.fit_transform(X_train)\n",
    "X_test = scaler.transform(X_test)"
   ]
  },
  {
   "cell_type": "code",
   "execution_count": 48,
   "metadata": {},
   "outputs": [
    {
     "data": {
      "text/plain": [
       "LogisticRegression()"
      ]
     },
     "execution_count": 48,
     "metadata": {},
     "output_type": "execute_result"
    }
   ],
   "source": [
    "logreg = LogisticRegression (solver='lbfgs')\n",
    "logreg.fit(X_train, y_train)"
   ]
  },
  {
   "cell_type": "code",
   "execution_count": 49,
   "metadata": {},
   "outputs": [
    {
     "name": "stdout",
     "output_type": "stream",
     "text": [
      "Logreg intercept: [ 0.9549588   0.32806009 -1.28301889]\n",
      "Logreg coef(s): [[ 0.99234511  0.44341246 -0.1116891  -0.10733032  0.        ]\n",
      " [-0.06859999 -0.40165422  0.12047447  0.16667454  0.        ]\n",
      " [-0.92374512 -0.04175825 -0.00878537 -0.05934422  0.        ]]\n"
     ]
    }
   ],
   "source": [
    "print('Logreg intercept:', logreg.intercept_)\n",
    "print('Logreg coef(s):', logreg.coef_)\n",
    "# print('Logreg predicted probabilities:\\n',\n",
    "#       logreg.predict_proba(y_test))"
   ]
  },
  {
   "cell_type": "code",
   "execution_count": 50,
   "metadata": {},
   "outputs": [
    {
     "data": {
      "text/plain": [
       "array([0, 1, 2])"
      ]
     },
     "execution_count": 50,
     "metadata": {},
     "output_type": "execute_result"
    }
   ],
   "source": [
    "logreg.classes_"
   ]
  },
  {
   "cell_type": "code",
   "execution_count": 51,
   "metadata": {},
   "outputs": [
    {
     "name": "stdout",
     "output_type": "stream",
     "text": [
      "[0 0 0 1 0]\n",
      "[0, 0, 1, 2, 0]\n"
     ]
    }
   ],
   "source": [
    "predictions = logreg.predict(X_test)\n",
    "print(predictions)\n",
    "print(list(y_test))"
   ]
  },
  {
   "cell_type": "code",
   "execution_count": 52,
   "metadata": {
    "scrolled": true
   },
   "outputs": [
    {
     "name": "stdout",
     "output_type": "stream",
     "text": [
      "              precision    recall  f1-score   support\n",
      "\n",
      "           0     0.7500    1.0000    0.8571         3\n",
      "           1     0.0000    0.0000    0.0000         1\n",
      "           2     0.0000    0.0000    0.0000         1\n",
      "\n",
      "    accuracy                         0.6000         5\n",
      "   macro avg     0.2500    0.3333    0.2857         5\n",
      "weighted avg     0.4500    0.6000    0.5143         5\n",
      "\n"
     ]
    }
   ],
   "source": [
    "print(classification_report(y_test, predictions, digits=4))"
   ]
  },
  {
   "cell_type": "markdown",
   "metadata": {},
   "source": [
    "#### Findings:\n",
    "\n",
    "The accuracy score of the classifier is 0.6. Only sightly higher than the baseline 0.568. This is not an ideal result."
   ]
  },
  {
   "cell_type": "code",
   "execution_count": null,
   "metadata": {},
   "outputs": [],
   "source": []
  },
  {
   "cell_type": "markdown",
   "metadata": {},
   "source": [
    "# PART 3 "
   ]
  },
  {
   "cell_type": "markdown",
   "metadata": {},
   "source": [
    "#### To combine happiness data and weather data together,  first, find latitude for every city. And then join to data on similar latitudes."
   ]
  },
  {
   "cell_type": "code",
   "execution_count": 53,
   "metadata": {},
   "outputs": [],
   "source": [
    "happy_cities = pd.read_excel('/Users/paxton615/Github_Personal/Notes/Notes/Weather_stations/{}.xlsx'.format('happy_cities'))"
   ]
  },
  {
   "cell_type": "code",
   "execution_count": 54,
   "metadata": {},
   "outputs": [
    {
     "data": {
      "text/html": [
       "<div>\n",
       "<style scoped>\n",
       "    .dataframe tbody tr th:only-of-type {\n",
       "        vertical-align: middle;\n",
       "    }\n",
       "\n",
       "    .dataframe tbody tr th {\n",
       "        vertical-align: top;\n",
       "    }\n",
       "\n",
       "    .dataframe thead th {\n",
       "        text-align: right;\n",
       "    }\n",
       "</style>\n",
       "<table border=\"1\" class=\"dataframe\">\n",
       "  <thead>\n",
       "    <tr style=\"text-align: right;\">\n",
       "      <th></th>\n",
       "      <th>city</th>\n",
       "      <th>happiness</th>\n",
       "    </tr>\n",
       "  </thead>\n",
       "  <tbody>\n",
       "    <tr>\n",
       "      <th>0</th>\n",
       "      <td>Gateshead</td>\n",
       "      <td>7.25</td>\n",
       "    </tr>\n",
       "    <tr>\n",
       "      <th>1</th>\n",
       "      <td>Newcastle upon Tyne</td>\n",
       "      <td>7.20</td>\n",
       "    </tr>\n",
       "    <tr>\n",
       "      <th>2</th>\n",
       "      <td>North Tyneside</td>\n",
       "      <td>7.26</td>\n",
       "    </tr>\n",
       "    <tr>\n",
       "      <th>3</th>\n",
       "      <td>South Tyneside</td>\n",
       "      <td>7.20</td>\n",
       "    </tr>\n",
       "    <tr>\n",
       "      <th>4</th>\n",
       "      <td>Sunderland</td>\n",
       "      <td>7.27</td>\n",
       "    </tr>\n",
       "  </tbody>\n",
       "</table>\n",
       "</div>"
      ],
      "text/plain": [
       "                  city  happiness\n",
       "0            Gateshead       7.25\n",
       "1  Newcastle upon Tyne       7.20\n",
       "2       North Tyneside       7.26\n",
       "3       South Tyneside       7.20\n",
       "4           Sunderland       7.27"
      ]
     },
     "execution_count": 54,
     "metadata": {},
     "output_type": "execute_result"
    }
   ],
   "source": [
    "happy_cities.head()"
   ]
  },
  {
   "cell_type": "markdown",
   "metadata": {},
   "source": [
    "#### Download latitudes and longitudes for cities"
   ]
  },
  {
   "cell_type": "code",
   "execution_count": 55,
   "metadata": {},
   "outputs": [],
   "source": [
    "# 2 mins to run\n",
    "# lat = []\n",
    "# for i in happy_cities.city.tolist():\n",
    "#     try:\n",
    "#         lat.append(geolocator.geocode(i).latitude)\n",
    "#     except:\n",
    "#         lat.append(np.nan)"
   ]
  },
  {
   "cell_type": "code",
   "execution_count": 56,
   "metadata": {},
   "outputs": [],
   "source": [
    "# 2 mins to run\n",
    "# lon = []\n",
    "# for i in happy_cities.city.tolist():\n",
    "#     try:\n",
    "#         lon.append(geolocator.geocode(i).longitude)\n",
    "#     except:\n",
    "#         lon.append(np.nan)"
   ]
  },
  {
   "cell_type": "code",
   "execution_count": 57,
   "metadata": {},
   "outputs": [],
   "source": [
    "# happy_cities['lat'] = lat\n",
    "# happy_cities['lon'] = lon\n",
    "\n",
    "# happy_cities = happy_cities.dropna()\n",
    "# happy_cities.reset_index()\n",
    "# happy_cities['lat'] = [np.round(i,3) for i in happy_cities.lat]\n",
    "# happy_cities['lon'] = [np.round(i,3) for i in happy_cities.lon]\n",
    "# happy_cities"
   ]
  },
  {
   "cell_type": "code",
   "execution_count": 58,
   "metadata": {},
   "outputs": [],
   "source": [
    "# happy_cities.to_csv(r'/Users/paxton615/Github_Personal/Notes/Notes/Weather_stations/happy_cities_lat_lon.csv')"
   ]
  },
  {
   "cell_type": "code",
   "execution_count": 59,
   "metadata": {},
   "outputs": [
    {
     "data": {
      "text/html": [
       "<div>\n",
       "<style scoped>\n",
       "    .dataframe tbody tr th:only-of-type {\n",
       "        vertical-align: middle;\n",
       "    }\n",
       "\n",
       "    .dataframe tbody tr th {\n",
       "        vertical-align: top;\n",
       "    }\n",
       "\n",
       "    .dataframe thead th {\n",
       "        text-align: right;\n",
       "    }\n",
       "</style>\n",
       "<table border=\"1\" class=\"dataframe\">\n",
       "  <thead>\n",
       "    <tr style=\"text-align: right;\">\n",
       "      <th></th>\n",
       "      <th>city</th>\n",
       "      <th>happiness</th>\n",
       "      <th>lat</th>\n",
       "    </tr>\n",
       "  </thead>\n",
       "  <tbody>\n",
       "    <tr>\n",
       "      <th>0</th>\n",
       "      <td>South Hams</td>\n",
       "      <td>7.65</td>\n",
       "      <td>50.372</td>\n",
       "    </tr>\n",
       "    <tr>\n",
       "      <th>1</th>\n",
       "      <td>Weymouth and Portland</td>\n",
       "      <td>7.61</td>\n",
       "      <td>50.596</td>\n",
       "    </tr>\n",
       "    <tr>\n",
       "      <th>2</th>\n",
       "      <td>Teignbridge</td>\n",
       "      <td>7.88</td>\n",
       "      <td>50.613</td>\n",
       "    </tr>\n",
       "    <tr>\n",
       "      <th>3</th>\n",
       "      <td>West Devon</td>\n",
       "      <td>7.29</td>\n",
       "      <td>50.652</td>\n",
       "    </tr>\n",
       "    <tr>\n",
       "      <th>4</th>\n",
       "      <td>Purbeck</td>\n",
       "      <td>7.74</td>\n",
       "      <td>50.685</td>\n",
       "    </tr>\n",
       "  </tbody>\n",
       "</table>\n",
       "</div>"
      ],
      "text/plain": [
       "                    city  happiness     lat\n",
       "0             South Hams       7.65  50.372\n",
       "1  Weymouth and Portland       7.61  50.596\n",
       "2            Teignbridge       7.88  50.613\n",
       "3             West Devon       7.29  50.652\n",
       "4                Purbeck       7.74  50.685"
      ]
     },
     "execution_count": 59,
     "metadata": {},
     "output_type": "execute_result"
    }
   ],
   "source": [
    "happy_cities = pd.read_csv('/Users/paxton615/Github_Personal/Notes/Notes/Weather_stations/happy_cities_lat_lon.csv').iloc[:,1:4]\n",
    "happy_cities.head()"
   ]
  },
  {
   "cell_type": "markdown",
   "metadata": {},
   "source": [
    "#### Making sure the latitude range in both data are roughly the same, all from 50.218 to 60.139."
   ]
  },
  {
   "cell_type": "code",
   "execution_count": 60,
   "metadata": {
    "scrolled": true
   },
   "outputs": [
    {
     "data": {
      "text/html": [
       "<div>\n",
       "<style scoped>\n",
       "    .dataframe tbody tr th:only-of-type {\n",
       "        vertical-align: middle;\n",
       "    }\n",
       "\n",
       "    .dataframe tbody tr th {\n",
       "        vertical-align: top;\n",
       "    }\n",
       "\n",
       "    .dataframe thead th {\n",
       "        text-align: right;\n",
       "    }\n",
       "</style>\n",
       "<table border=\"1\" class=\"dataframe\">\n",
       "  <thead>\n",
       "    <tr style=\"text-align: right;\">\n",
       "      <th></th>\n",
       "      <th>index</th>\n",
       "      <th>station</th>\n",
       "      <th>avg_tmx</th>\n",
       "      <th>avg_tmin</th>\n",
       "      <th>avg_af</th>\n",
       "      <th>avg_rain</th>\n",
       "      <th>avg_sun</th>\n",
       "      <th>lat</th>\n",
       "      <th>lon</th>\n",
       "      <th>cluster_est</th>\n",
       "      <th>areas</th>\n",
       "    </tr>\n",
       "  </thead>\n",
       "  <tbody>\n",
       "    <tr>\n",
       "      <th>0</th>\n",
       "      <td>5</td>\n",
       "      <td>camborne</td>\n",
       "      <td>13.45</td>\n",
       "      <td>8.39</td>\n",
       "      <td>0.74</td>\n",
       "      <td>89.99</td>\n",
       "      <td>83.26</td>\n",
       "      <td>50.218</td>\n",
       "      <td>-5.327</td>\n",
       "      <td>0</td>\n",
       "      <td>0</td>\n",
       "    </tr>\n",
       "    <tr>\n",
       "      <th>1</th>\n",
       "      <td>12</td>\n",
       "      <td>eastbourne</td>\n",
       "      <td>12.74</td>\n",
       "      <td>7.49</td>\n",
       "      <td>1.43</td>\n",
       "      <td>61.52</td>\n",
       "      <td>83.26</td>\n",
       "      <td>50.762</td>\n",
       "      <td>0.285</td>\n",
       "      <td>0</td>\n",
       "      <td>0</td>\n",
       "    </tr>\n",
       "    <tr>\n",
       "      <th>2</th>\n",
       "      <td>15</td>\n",
       "      <td>hurn</td>\n",
       "      <td>13.12</td>\n",
       "      <td>5.19</td>\n",
       "      <td>4.95</td>\n",
       "      <td>65.76</td>\n",
       "      <td>83.26</td>\n",
       "      <td>50.779</td>\n",
       "      <td>-1.835</td>\n",
       "      <td>0</td>\n",
       "      <td>0</td>\n",
       "    </tr>\n",
       "    <tr>\n",
       "      <th>3</th>\n",
       "      <td>28</td>\n",
       "      <td>southampton</td>\n",
       "      <td>12.90</td>\n",
       "      <td>6.74</td>\n",
       "      <td>3.12</td>\n",
       "      <td>62.58</td>\n",
       "      <td>83.26</td>\n",
       "      <td>50.898</td>\n",
       "      <td>-1.408</td>\n",
       "      <td>0</td>\n",
       "      <td>0</td>\n",
       "    </tr>\n",
       "    <tr>\n",
       "      <th>4</th>\n",
       "      <td>36</td>\n",
       "      <td>yeovilton</td>\n",
       "      <td>12.98</td>\n",
       "      <td>5.51</td>\n",
       "      <td>4.38</td>\n",
       "      <td>53.30</td>\n",
       "      <td>83.26</td>\n",
       "      <td>51.006</td>\n",
       "      <td>-2.641</td>\n",
       "      <td>0</td>\n",
       "      <td>0</td>\n",
       "    </tr>\n",
       "  </tbody>\n",
       "</table>\n",
       "</div>"
      ],
      "text/plain": [
       "   index      station  avg_tmx  avg_tmin  avg_af  avg_rain  avg_sun     lat  \\\n",
       "0      5     camborne    13.45      8.39    0.74     89.99    83.26  50.218   \n",
       "1     12   eastbourne    12.74      7.49    1.43     61.52    83.26  50.762   \n",
       "2     15         hurn    13.12      5.19    4.95     65.76    83.26  50.779   \n",
       "3     28  southampton    12.90      6.74    3.12     62.58    83.26  50.898   \n",
       "4     36    yeovilton    12.98      5.51    4.38     53.30    83.26  51.006   \n",
       "\n",
       "     lon  cluster_est  areas  \n",
       "0 -5.327            0      0  \n",
       "1  0.285            0      0  \n",
       "2 -1.835            0      0  \n",
       "3 -1.408            0      0  \n",
       "4 -2.641            0      0  "
      ]
     },
     "execution_count": 60,
     "metadata": {},
     "output_type": "execute_result"
    }
   ],
   "source": [
    "ascending_data = data.sort_values(by='lat', ascending=True)\n",
    "ascending_data = ascending_data.reset_index()\n",
    "ascending_data.head()"
   ]
  },
  {
   "cell_type": "code",
   "execution_count": 61,
   "metadata": {},
   "outputs": [
    {
     "data": {
      "text/html": [
       "<div>\n",
       "<style scoped>\n",
       "    .dataframe tbody tr th:only-of-type {\n",
       "        vertical-align: middle;\n",
       "    }\n",
       "\n",
       "    .dataframe tbody tr th {\n",
       "        vertical-align: top;\n",
       "    }\n",
       "\n",
       "    .dataframe thead th {\n",
       "        text-align: right;\n",
       "    }\n",
       "</style>\n",
       "<table border=\"1\" class=\"dataframe\">\n",
       "  <thead>\n",
       "    <tr style=\"text-align: right;\">\n",
       "      <th></th>\n",
       "      <th>city</th>\n",
       "      <th>happiness</th>\n",
       "      <th>lat</th>\n",
       "    </tr>\n",
       "  </thead>\n",
       "  <tbody>\n",
       "    <tr>\n",
       "      <th>297</th>\n",
       "      <td>Moray</td>\n",
       "      <td>7.50</td>\n",
       "      <td>57.417</td>\n",
       "    </tr>\n",
       "    <tr>\n",
       "      <th>298</th>\n",
       "      <td>Highland</td>\n",
       "      <td>7.79</td>\n",
       "      <td>57.507</td>\n",
       "    </tr>\n",
       "    <tr>\n",
       "      <th>299</th>\n",
       "      <td>Eilean Siar</td>\n",
       "      <td>8.15</td>\n",
       "      <td>57.667</td>\n",
       "    </tr>\n",
       "    <tr>\n",
       "      <th>300</th>\n",
       "      <td>Orkney Islands</td>\n",
       "      <td>8.09</td>\n",
       "      <td>59.013</td>\n",
       "    </tr>\n",
       "    <tr>\n",
       "      <th>301</th>\n",
       "      <td>Wyre</td>\n",
       "      <td>7.48</td>\n",
       "      <td>59.119</td>\n",
       "    </tr>\n",
       "  </tbody>\n",
       "</table>\n",
       "</div>"
      ],
      "text/plain": [
       "               city  happiness     lat\n",
       "297           Moray       7.50  57.417\n",
       "298        Highland       7.79  57.507\n",
       "299     Eilean Siar       8.15  57.667\n",
       "300  Orkney Islands       8.09  59.013\n",
       "301            Wyre       7.48  59.119"
      ]
     },
     "execution_count": 61,
     "metadata": {},
     "output_type": "execute_result"
    }
   ],
   "source": [
    "happy_cities.sort_values(by='lat', ascending=True).tail()"
   ]
  },
  {
   "cell_type": "code",
   "execution_count": 62,
   "metadata": {},
   "outputs": [],
   "source": [
    "happy_cities_limited = happy_cities[ (happy_cities['lat'] <=60.139) & (happy_cities['lat'] >= 50.218 )].sort_values(by='lat', ascending=True).reset_index()"
   ]
  },
  {
   "cell_type": "code",
   "execution_count": 63,
   "metadata": {},
   "outputs": [
    {
     "data": {
      "text/plain": [
       "302"
      ]
     },
     "execution_count": 63,
     "metadata": {},
     "output_type": "execute_result"
    }
   ],
   "source": [
    "len(happy_cities_limited.lat)"
   ]
  },
  {
   "cell_type": "markdown",
   "metadata": {},
   "source": [
    "#### assign station to cities in happy_cities_limited with similar latitudes"
   ]
  },
  {
   "cell_type": "code",
   "execution_count": 64,
   "metadata": {},
   "outputs": [],
   "source": [
    "xx = ascending_data.lat\n",
    "yy = happy_cities_limited.lat"
   ]
  },
  {
   "cell_type": "code",
   "execution_count": 65,
   "metadata": {},
   "outputs": [],
   "source": [
    "lst=[]\n",
    "for j in yy:\n",
    "    lt = []\n",
    "    for i in xx:\n",
    "        if j > i:\n",
    "            lt.append(1)\n",
    "        else:\n",
    "            lt.append(0)\n",
    "    lst.append(lt)\n",
    "        "
   ]
  },
  {
   "cell_type": "markdown",
   "metadata": {},
   "source": [
    "#### Each number in station_index coordinate to a station in ascending_data. For example, 0 is camborne, 1 is eastbourne, 2 is hurn etc"
   ]
  },
  {
   "cell_type": "code",
   "execution_count": 66,
   "metadata": {},
   "outputs": [],
   "source": [
    "station_index = [sum(i)-1 for i in lst]"
   ]
  },
  {
   "cell_type": "code",
   "execution_count": 67,
   "metadata": {},
   "outputs": [
    {
     "data": {
      "text/html": [
       "<div>\n",
       "<style scoped>\n",
       "    .dataframe tbody tr th:only-of-type {\n",
       "        vertical-align: middle;\n",
       "    }\n",
       "\n",
       "    .dataframe tbody tr th {\n",
       "        vertical-align: top;\n",
       "    }\n",
       "\n",
       "    .dataframe thead th {\n",
       "        text-align: right;\n",
       "    }\n",
       "</style>\n",
       "<table border=\"1\" class=\"dataframe\">\n",
       "  <thead>\n",
       "    <tr style=\"text-align: right;\">\n",
       "      <th></th>\n",
       "      <th>index</th>\n",
       "      <th>city</th>\n",
       "      <th>happiness</th>\n",
       "      <th>lat</th>\n",
       "      <th>station_index</th>\n",
       "    </tr>\n",
       "  </thead>\n",
       "  <tbody>\n",
       "    <tr>\n",
       "      <th>0</th>\n",
       "      <td>0</td>\n",
       "      <td>South Hams</td>\n",
       "      <td>7.65</td>\n",
       "      <td>50.372</td>\n",
       "      <td>0</td>\n",
       "    </tr>\n",
       "    <tr>\n",
       "      <th>1</th>\n",
       "      <td>1</td>\n",
       "      <td>Weymouth and Portland</td>\n",
       "      <td>7.61</td>\n",
       "      <td>50.596</td>\n",
       "      <td>0</td>\n",
       "    </tr>\n",
       "    <tr>\n",
       "      <th>2</th>\n",
       "      <td>2</td>\n",
       "      <td>Teignbridge</td>\n",
       "      <td>7.88</td>\n",
       "      <td>50.613</td>\n",
       "      <td>0</td>\n",
       "    </tr>\n",
       "    <tr>\n",
       "      <th>3</th>\n",
       "      <td>3</td>\n",
       "      <td>West Devon</td>\n",
       "      <td>7.29</td>\n",
       "      <td>50.652</td>\n",
       "      <td>0</td>\n",
       "    </tr>\n",
       "    <tr>\n",
       "      <th>4</th>\n",
       "      <td>4</td>\n",
       "      <td>Purbeck</td>\n",
       "      <td>7.74</td>\n",
       "      <td>50.685</td>\n",
       "      <td>0</td>\n",
       "    </tr>\n",
       "    <tr>\n",
       "      <th>...</th>\n",
       "      <td>...</td>\n",
       "      <td>...</td>\n",
       "      <td>...</td>\n",
       "      <td>...</td>\n",
       "      <td>...</td>\n",
       "    </tr>\n",
       "    <tr>\n",
       "      <th>297</th>\n",
       "      <td>297</td>\n",
       "      <td>Moray</td>\n",
       "      <td>7.50</td>\n",
       "      <td>57.417</td>\n",
       "      <td>32</td>\n",
       "    </tr>\n",
       "    <tr>\n",
       "      <th>298</th>\n",
       "      <td>298</td>\n",
       "      <td>Highland</td>\n",
       "      <td>7.79</td>\n",
       "      <td>57.507</td>\n",
       "      <td>32</td>\n",
       "    </tr>\n",
       "    <tr>\n",
       "      <th>299</th>\n",
       "      <td>299</td>\n",
       "      <td>Eilean Siar</td>\n",
       "      <td>8.15</td>\n",
       "      <td>57.667</td>\n",
       "      <td>33</td>\n",
       "    </tr>\n",
       "    <tr>\n",
       "      <th>300</th>\n",
       "      <td>300</td>\n",
       "      <td>Orkney Islands</td>\n",
       "      <td>8.09</td>\n",
       "      <td>59.013</td>\n",
       "      <td>35</td>\n",
       "    </tr>\n",
       "    <tr>\n",
       "      <th>301</th>\n",
       "      <td>301</td>\n",
       "      <td>Wyre</td>\n",
       "      <td>7.48</td>\n",
       "      <td>59.119</td>\n",
       "      <td>35</td>\n",
       "    </tr>\n",
       "  </tbody>\n",
       "</table>\n",
       "<p>302 rows × 5 columns</p>\n",
       "</div>"
      ],
      "text/plain": [
       "     index                   city  happiness     lat  station_index\n",
       "0        0             South Hams       7.65  50.372              0\n",
       "1        1  Weymouth and Portland       7.61  50.596              0\n",
       "2        2            Teignbridge       7.88  50.613              0\n",
       "3        3             West Devon       7.29  50.652              0\n",
       "4        4                Purbeck       7.74  50.685              0\n",
       "..     ...                    ...        ...     ...            ...\n",
       "297    297                  Moray       7.50  57.417             32\n",
       "298    298               Highland       7.79  57.507             32\n",
       "299    299            Eilean Siar       8.15  57.667             33\n",
       "300    300         Orkney Islands       8.09  59.013             35\n",
       "301    301                   Wyre       7.48  59.119             35\n",
       "\n",
       "[302 rows x 5 columns]"
      ]
     },
     "execution_count": 67,
     "metadata": {},
     "output_type": "execute_result"
    }
   ],
   "source": [
    "happy_cities_limited['station_index'] = station_index\n",
    "happy_cities_limited"
   ]
  },
  {
   "cell_type": "markdown",
   "metadata": {},
   "source": [
    "#### merging two data together on the column \"station_index\""
   ]
  },
  {
   "cell_type": "code",
   "execution_count": 68,
   "metadata": {},
   "outputs": [],
   "source": [
    "ascending_data = ascending_data.reset_index()"
   ]
  },
  {
   "cell_type": "code",
   "execution_count": 69,
   "metadata": {},
   "outputs": [],
   "source": [
    "ascending_data = ascending_data.rename(columns = {'level_0':'station_index'})"
   ]
  },
  {
   "cell_type": "code",
   "execution_count": 70,
   "metadata": {},
   "outputs": [
    {
     "data": {
      "text/html": [
       "<div>\n",
       "<style scoped>\n",
       "    .dataframe tbody tr th:only-of-type {\n",
       "        vertical-align: middle;\n",
       "    }\n",
       "\n",
       "    .dataframe tbody tr th {\n",
       "        vertical-align: top;\n",
       "    }\n",
       "\n",
       "    .dataframe thead th {\n",
       "        text-align: right;\n",
       "    }\n",
       "</style>\n",
       "<table border=\"1\" class=\"dataframe\">\n",
       "  <thead>\n",
       "    <tr style=\"text-align: right;\">\n",
       "      <th></th>\n",
       "      <th>index_x</th>\n",
       "      <th>city</th>\n",
       "      <th>happiness</th>\n",
       "      <th>lat_x</th>\n",
       "      <th>station_index</th>\n",
       "      <th>index_y</th>\n",
       "      <th>station</th>\n",
       "      <th>avg_tmx</th>\n",
       "      <th>avg_tmin</th>\n",
       "      <th>avg_af</th>\n",
       "      <th>avg_rain</th>\n",
       "      <th>avg_sun</th>\n",
       "      <th>lat_y</th>\n",
       "      <th>lon</th>\n",
       "      <th>cluster_est</th>\n",
       "      <th>areas</th>\n",
       "    </tr>\n",
       "  </thead>\n",
       "  <tbody>\n",
       "    <tr>\n",
       "      <th>0</th>\n",
       "      <td>0</td>\n",
       "      <td>South Hams</td>\n",
       "      <td>7.65</td>\n",
       "      <td>50.372</td>\n",
       "      <td>0</td>\n",
       "      <td>5</td>\n",
       "      <td>camborne</td>\n",
       "      <td>13.45</td>\n",
       "      <td>8.39</td>\n",
       "      <td>0.74</td>\n",
       "      <td>89.99</td>\n",
       "      <td>83.26</td>\n",
       "      <td>50.218</td>\n",
       "      <td>-5.327</td>\n",
       "      <td>0</td>\n",
       "      <td>0</td>\n",
       "    </tr>\n",
       "    <tr>\n",
       "      <th>1</th>\n",
       "      <td>1</td>\n",
       "      <td>Weymouth and Portland</td>\n",
       "      <td>7.61</td>\n",
       "      <td>50.596</td>\n",
       "      <td>0</td>\n",
       "      <td>5</td>\n",
       "      <td>camborne</td>\n",
       "      <td>13.45</td>\n",
       "      <td>8.39</td>\n",
       "      <td>0.74</td>\n",
       "      <td>89.99</td>\n",
       "      <td>83.26</td>\n",
       "      <td>50.218</td>\n",
       "      <td>-5.327</td>\n",
       "      <td>0</td>\n",
       "      <td>0</td>\n",
       "    </tr>\n",
       "    <tr>\n",
       "      <th>2</th>\n",
       "      <td>2</td>\n",
       "      <td>Teignbridge</td>\n",
       "      <td>7.88</td>\n",
       "      <td>50.613</td>\n",
       "      <td>0</td>\n",
       "      <td>5</td>\n",
       "      <td>camborne</td>\n",
       "      <td>13.45</td>\n",
       "      <td>8.39</td>\n",
       "      <td>0.74</td>\n",
       "      <td>89.99</td>\n",
       "      <td>83.26</td>\n",
       "      <td>50.218</td>\n",
       "      <td>-5.327</td>\n",
       "      <td>0</td>\n",
       "      <td>0</td>\n",
       "    </tr>\n",
       "    <tr>\n",
       "      <th>3</th>\n",
       "      <td>3</td>\n",
       "      <td>West Devon</td>\n",
       "      <td>7.29</td>\n",
       "      <td>50.652</td>\n",
       "      <td>0</td>\n",
       "      <td>5</td>\n",
       "      <td>camborne</td>\n",
       "      <td>13.45</td>\n",
       "      <td>8.39</td>\n",
       "      <td>0.74</td>\n",
       "      <td>89.99</td>\n",
       "      <td>83.26</td>\n",
       "      <td>50.218</td>\n",
       "      <td>-5.327</td>\n",
       "      <td>0</td>\n",
       "      <td>0</td>\n",
       "    </tr>\n",
       "    <tr>\n",
       "      <th>4</th>\n",
       "      <td>4</td>\n",
       "      <td>Purbeck</td>\n",
       "      <td>7.74</td>\n",
       "      <td>50.685</td>\n",
       "      <td>0</td>\n",
       "      <td>5</td>\n",
       "      <td>camborne</td>\n",
       "      <td>13.45</td>\n",
       "      <td>8.39</td>\n",
       "      <td>0.74</td>\n",
       "      <td>89.99</td>\n",
       "      <td>83.26</td>\n",
       "      <td>50.218</td>\n",
       "      <td>-5.327</td>\n",
       "      <td>0</td>\n",
       "      <td>0</td>\n",
       "    </tr>\n",
       "  </tbody>\n",
       "</table>\n",
       "</div>"
      ],
      "text/plain": [
       "   index_x                   city  happiness   lat_x  station_index  index_y  \\\n",
       "0        0             South Hams       7.65  50.372              0        5   \n",
       "1        1  Weymouth and Portland       7.61  50.596              0        5   \n",
       "2        2            Teignbridge       7.88  50.613              0        5   \n",
       "3        3             West Devon       7.29  50.652              0        5   \n",
       "4        4                Purbeck       7.74  50.685              0        5   \n",
       "\n",
       "    station  avg_tmx  avg_tmin  avg_af  avg_rain  avg_sun   lat_y    lon  \\\n",
       "0  camborne    13.45      8.39    0.74     89.99    83.26  50.218 -5.327   \n",
       "1  camborne    13.45      8.39    0.74     89.99    83.26  50.218 -5.327   \n",
       "2  camborne    13.45      8.39    0.74     89.99    83.26  50.218 -5.327   \n",
       "3  camborne    13.45      8.39    0.74     89.99    83.26  50.218 -5.327   \n",
       "4  camborne    13.45      8.39    0.74     89.99    83.26  50.218 -5.327   \n",
       "\n",
       "   cluster_est  areas  \n",
       "0            0      0  \n",
       "1            0      0  \n",
       "2            0      0  \n",
       "3            0      0  \n",
       "4            0      0  "
      ]
     },
     "execution_count": 70,
     "metadata": {},
     "output_type": "execute_result"
    }
   ],
   "source": [
    "df = pd.merge(happy_cities_limited, ascending_data, on=\"station_index\", how=\"left\")\n",
    "df.head()"
   ]
  },
  {
   "cell_type": "code",
   "execution_count": 71,
   "metadata": {},
   "outputs": [
    {
     "data": {
      "text/plain": [
       "Index(['index_x', 'city', 'happiness', 'lat_x', 'station_index', 'index_y',\n",
       "       'station', 'avg_tmx', 'avg_tmin', 'avg_af', 'avg_rain', 'avg_sun',\n",
       "       'lat_y', 'lon', 'cluster_est', 'areas'],\n",
       "      dtype='object')"
      ]
     },
     "execution_count": 71,
     "metadata": {},
     "output_type": "execute_result"
    }
   ],
   "source": [
    "df.columns"
   ]
  },
  {
   "cell_type": "code",
   "execution_count": 72,
   "metadata": {},
   "outputs": [],
   "source": [
    "new_df = df[[ 'city', 'happiness', 'lat_x',  \n",
    "       'station', 'avg_tmx', 'avg_tmin', 'avg_af', 'avg_rain',\n",
    "       'avg_sun']]"
   ]
  },
  {
   "cell_type": "code",
   "execution_count": 73,
   "metadata": {},
   "outputs": [
    {
     "data": {
      "text/html": [
       "<div>\n",
       "<style scoped>\n",
       "    .dataframe tbody tr th:only-of-type {\n",
       "        vertical-align: middle;\n",
       "    }\n",
       "\n",
       "    .dataframe tbody tr th {\n",
       "        vertical-align: top;\n",
       "    }\n",
       "\n",
       "    .dataframe thead th {\n",
       "        text-align: right;\n",
       "    }\n",
       "</style>\n",
       "<table border=\"1\" class=\"dataframe\">\n",
       "  <thead>\n",
       "    <tr style=\"text-align: right;\">\n",
       "      <th></th>\n",
       "      <th>city</th>\n",
       "      <th>happiness</th>\n",
       "      <th>lat_x</th>\n",
       "      <th>station</th>\n",
       "      <th>avg_tmx</th>\n",
       "      <th>avg_tmin</th>\n",
       "      <th>avg_af</th>\n",
       "      <th>avg_rain</th>\n",
       "      <th>avg_sun</th>\n",
       "    </tr>\n",
       "  </thead>\n",
       "  <tbody>\n",
       "    <tr>\n",
       "      <th>0</th>\n",
       "      <td>South Hams</td>\n",
       "      <td>7.65</td>\n",
       "      <td>50.372</td>\n",
       "      <td>camborne</td>\n",
       "      <td>13.45</td>\n",
       "      <td>8.39</td>\n",
       "      <td>0.74</td>\n",
       "      <td>89.99</td>\n",
       "      <td>83.26</td>\n",
       "    </tr>\n",
       "    <tr>\n",
       "      <th>1</th>\n",
       "      <td>Weymouth and Portland</td>\n",
       "      <td>7.61</td>\n",
       "      <td>50.596</td>\n",
       "      <td>camborne</td>\n",
       "      <td>13.45</td>\n",
       "      <td>8.39</td>\n",
       "      <td>0.74</td>\n",
       "      <td>89.99</td>\n",
       "      <td>83.26</td>\n",
       "    </tr>\n",
       "    <tr>\n",
       "      <th>2</th>\n",
       "      <td>Teignbridge</td>\n",
       "      <td>7.88</td>\n",
       "      <td>50.613</td>\n",
       "      <td>camborne</td>\n",
       "      <td>13.45</td>\n",
       "      <td>8.39</td>\n",
       "      <td>0.74</td>\n",
       "      <td>89.99</td>\n",
       "      <td>83.26</td>\n",
       "    </tr>\n",
       "    <tr>\n",
       "      <th>3</th>\n",
       "      <td>West Devon</td>\n",
       "      <td>7.29</td>\n",
       "      <td>50.652</td>\n",
       "      <td>camborne</td>\n",
       "      <td>13.45</td>\n",
       "      <td>8.39</td>\n",
       "      <td>0.74</td>\n",
       "      <td>89.99</td>\n",
       "      <td>83.26</td>\n",
       "    </tr>\n",
       "    <tr>\n",
       "      <th>4</th>\n",
       "      <td>Purbeck</td>\n",
       "      <td>7.74</td>\n",
       "      <td>50.685</td>\n",
       "      <td>camborne</td>\n",
       "      <td>13.45</td>\n",
       "      <td>8.39</td>\n",
       "      <td>0.74</td>\n",
       "      <td>89.99</td>\n",
       "      <td>83.26</td>\n",
       "    </tr>\n",
       "  </tbody>\n",
       "</table>\n",
       "</div>"
      ],
      "text/plain": [
       "                    city  happiness   lat_x   station  avg_tmx  avg_tmin  \\\n",
       "0             South Hams       7.65  50.372  camborne    13.45      8.39   \n",
       "1  Weymouth and Portland       7.61  50.596  camborne    13.45      8.39   \n",
       "2            Teignbridge       7.88  50.613  camborne    13.45      8.39   \n",
       "3             West Devon       7.29  50.652  camborne    13.45      8.39   \n",
       "4                Purbeck       7.74  50.685  camborne    13.45      8.39   \n",
       "\n",
       "   avg_af  avg_rain  avg_sun  \n",
       "0    0.74     89.99    83.26  \n",
       "1    0.74     89.99    83.26  \n",
       "2    0.74     89.99    83.26  \n",
       "3    0.74     89.99    83.26  \n",
       "4    0.74     89.99    83.26  "
      ]
     },
     "execution_count": 73,
     "metadata": {},
     "output_type": "execute_result"
    }
   ],
   "source": [
    "new_df.head()"
   ]
  },
  {
   "cell_type": "code",
   "execution_count": 74,
   "metadata": {},
   "outputs": [
    {
     "data": {
      "text/html": [
       "<div>\n",
       "<style scoped>\n",
       "    .dataframe tbody tr th:only-of-type {\n",
       "        vertical-align: middle;\n",
       "    }\n",
       "\n",
       "    .dataframe tbody tr th {\n",
       "        vertical-align: top;\n",
       "    }\n",
       "\n",
       "    .dataframe thead th {\n",
       "        text-align: right;\n",
       "    }\n",
       "</style>\n",
       "<table border=\"1\" class=\"dataframe\">\n",
       "  <thead>\n",
       "    <tr style=\"text-align: right;\">\n",
       "      <th></th>\n",
       "      <th>happiness</th>\n",
       "      <th>lat_x</th>\n",
       "      <th>avg_tmx</th>\n",
       "      <th>avg_tmin</th>\n",
       "      <th>avg_af</th>\n",
       "      <th>avg_rain</th>\n",
       "      <th>avg_sun</th>\n",
       "    </tr>\n",
       "  </thead>\n",
       "  <tbody>\n",
       "    <tr>\n",
       "      <th>happiness</th>\n",
       "      <td>1.000000e+00</td>\n",
       "      <td>-7.870283e-03</td>\n",
       "      <td>-3.259331e-02</td>\n",
       "      <td>-3.666231e-02</td>\n",
       "      <td>5.686157e-02</td>\n",
       "      <td>-6.888873e-02</td>\n",
       "      <td>-6.649392e-15</td>\n",
       "    </tr>\n",
       "    <tr>\n",
       "      <th>lat_x</th>\n",
       "      <td>-7.870283e-03</td>\n",
       "      <td>1.000000e+00</td>\n",
       "      <td>-4.822087e-01</td>\n",
       "      <td>-5.066822e-01</td>\n",
       "      <td>3.496597e-01</td>\n",
       "      <td>1.149231e-01</td>\n",
       "      <td>7.741816e-15</td>\n",
       "    </tr>\n",
       "    <tr>\n",
       "      <th>avg_tmx</th>\n",
       "      <td>-3.259331e-02</td>\n",
       "      <td>-4.822087e-01</td>\n",
       "      <td>1.000000e+00</td>\n",
       "      <td>6.760792e-01</td>\n",
       "      <td>6.317229e-03</td>\n",
       "      <td>-1.404941e-01</td>\n",
       "      <td>-2.535856e-14</td>\n",
       "    </tr>\n",
       "    <tr>\n",
       "      <th>avg_tmin</th>\n",
       "      <td>-3.666231e-02</td>\n",
       "      <td>-5.066822e-01</td>\n",
       "      <td>6.760792e-01</td>\n",
       "      <td>1.000000e+00</td>\n",
       "      <td>-6.552869e-01</td>\n",
       "      <td>-1.053876e-01</td>\n",
       "      <td>-2.392900e-15</td>\n",
       "    </tr>\n",
       "    <tr>\n",
       "      <th>avg_af</th>\n",
       "      <td>5.686157e-02</td>\n",
       "      <td>3.496597e-01</td>\n",
       "      <td>6.317229e-03</td>\n",
       "      <td>-6.552869e-01</td>\n",
       "      <td>1.000000e+00</td>\n",
       "      <td>6.610289e-02</td>\n",
       "      <td>1.106224e-15</td>\n",
       "    </tr>\n",
       "    <tr>\n",
       "      <th>avg_rain</th>\n",
       "      <td>-6.888873e-02</td>\n",
       "      <td>1.149231e-01</td>\n",
       "      <td>-1.404941e-01</td>\n",
       "      <td>-1.053876e-01</td>\n",
       "      <td>6.610289e-02</td>\n",
       "      <td>1.000000e+00</td>\n",
       "      <td>-5.546859e-16</td>\n",
       "    </tr>\n",
       "    <tr>\n",
       "      <th>avg_sun</th>\n",
       "      <td>-6.649392e-15</td>\n",
       "      <td>7.741816e-15</td>\n",
       "      <td>-2.535856e-14</td>\n",
       "      <td>-2.392900e-15</td>\n",
       "      <td>1.106224e-15</td>\n",
       "      <td>-5.546859e-16</td>\n",
       "      <td>1.000000e+00</td>\n",
       "    </tr>\n",
       "  </tbody>\n",
       "</table>\n",
       "</div>"
      ],
      "text/plain": [
       "              happiness         lat_x       avg_tmx      avg_tmin  \\\n",
       "happiness  1.000000e+00 -7.870283e-03 -3.259331e-02 -3.666231e-02   \n",
       "lat_x     -7.870283e-03  1.000000e+00 -4.822087e-01 -5.066822e-01   \n",
       "avg_tmx   -3.259331e-02 -4.822087e-01  1.000000e+00  6.760792e-01   \n",
       "avg_tmin  -3.666231e-02 -5.066822e-01  6.760792e-01  1.000000e+00   \n",
       "avg_af     5.686157e-02  3.496597e-01  6.317229e-03 -6.552869e-01   \n",
       "avg_rain  -6.888873e-02  1.149231e-01 -1.404941e-01 -1.053876e-01   \n",
       "avg_sun   -6.649392e-15  7.741816e-15 -2.535856e-14 -2.392900e-15   \n",
       "\n",
       "                 avg_af      avg_rain       avg_sun  \n",
       "happiness  5.686157e-02 -6.888873e-02 -6.649392e-15  \n",
       "lat_x      3.496597e-01  1.149231e-01  7.741816e-15  \n",
       "avg_tmx    6.317229e-03 -1.404941e-01 -2.535856e-14  \n",
       "avg_tmin  -6.552869e-01 -1.053876e-01 -2.392900e-15  \n",
       "avg_af     1.000000e+00  6.610289e-02  1.106224e-15  \n",
       "avg_rain   6.610289e-02  1.000000e+00 -5.546859e-16  \n",
       "avg_sun    1.106224e-15 -5.546859e-16  1.000000e+00  "
      ]
     },
     "execution_count": 74,
     "metadata": {},
     "output_type": "execute_result"
    }
   ],
   "source": [
    "new_df[['happiness', 'lat_x', \n",
    "        'avg_tmx', 'avg_tmin', 'avg_af', 'avg_rain',\n",
    "       'avg_sun']].corr()"
   ]
  },
  {
   "cell_type": "code",
   "execution_count": 75,
   "metadata": {},
   "outputs": [
    {
     "data": {
      "image/png": "[encoded data removed]",
      "text/plain": [
       "<Figure size 720x432 with 2 Axes>"
      ]
     },
     "metadata": {},
     "output_type": "display_data"
    }
   ],
   "source": [
    "corrmat= new_df[['happiness', 'lat_x',  \n",
    "        'avg_tmx', 'avg_tmin', 'avg_af', 'avg_rain',\n",
    "       ]].corr()\n",
    "plt.figure(figsize=(10,6))  \n",
    "sns.heatmap(corrmat,annot=True,  center=0);"
   ]
  },
  {
   "cell_type": "markdown",
   "metadata": {},
   "source": [
    "### linear modeling and tune models\n",
    "\n",
    "Tied a few times with different combinations of features, this is the only one that returns a positive R square score."
   ]
  },
  {
   "cell_type": "code",
   "execution_count": 76,
   "metadata": {},
   "outputs": [],
   "source": [
    "y = new_df['happiness']\n",
    "X = new_df[['avg_af', 'avg_rain',]]"
   ]
  },
  {
   "cell_type": "code",
   "execution_count": 77,
   "metadata": {},
   "outputs": [],
   "source": [
    "scaler = StandardScaler()\n",
    "Xs = scaler.fit_transform(X)"
   ]
  },
  {
   "cell_type": "code",
   "execution_count": 78,
   "metadata": {},
   "outputs": [
    {
     "name": "stdout",
     "output_type": "stream",
     "text": [
      "[-3.75706328e-01 -3.07777178e-02 -7.79262312e-01 -2.17826750e-02\n",
      " -1.08638387e-01  2.42749945e-04  9.41363690e-03 -4.80079025e-01\n",
      " -3.91227291e-02  3.60841547e-02]\n",
      "-0.17896286322973892\n"
     ]
    }
   ],
   "source": [
    "linreg = LinearRegression()\n",
    "\n",
    "linreg_scores = cross_val_score(linreg, Xs, y, cv=10)\n",
    "\n",
    "print(linreg_scores)\n",
    "print(np.mean(linreg_scores))"
   ]
  },
  {
   "cell_type": "markdown",
   "metadata": {},
   "source": [
    "#### LinerRegression is not working very well. Trying Ridge and Lasso to see if any difference could be made."
   ]
  },
  {
   "cell_type": "code",
   "execution_count": 79,
   "metadata": {},
   "outputs": [
    {
     "name": "stdout",
     "output_type": "stream",
     "text": [
      "51.11433483440168\n"
     ]
    }
   ],
   "source": [
    "ridge_alphas = np.logspace(0, 5, 200)\n",
    "\n",
    "optimal_ridge = RidgeCV(alphas=ridge_alphas, cv=10)\n",
    "optimal_ridge.fit(Xs, y)\n",
    "\n",
    "print(optimal_ridge.alpha_)"
   ]
  },
  {
   "cell_type": "code",
   "execution_count": 80,
   "metadata": {},
   "outputs": [
    {
     "data": {
      "text/plain": [
       "0.008333485668272078"
      ]
     },
     "execution_count": 80,
     "metadata": {},
     "output_type": "execute_result"
    }
   ],
   "source": [
    "optimal_ridge.score(Xs,y)"
   ]
  },
  {
   "cell_type": "code",
   "execution_count": 81,
   "metadata": {},
   "outputs": [
    {
     "name": "stderr",
     "output_type": "stream",
     "text": [
      "[Parallel(n_jobs=1)]: Using backend SequentialBackend with 1 concurrent workers.\n",
      "........................................................................................................................................................................................................................................................................................................................................................................................................................................................................................................................................................................................................................................................................................................................................................................................................................................................................................................................................................................................................................................................................................................................................................................................................................................................................................................................................................................................................................................................................................................................................................................................................................................................................................................................................................................................................................................................................................................................................................................................................................................................................................................................................................................................................................................................................................................................................................................................................................................................................................................................................................................................................................................................................................................................................................................................................................................................................................................................................................................................................................................................................................................................................................................................................................................................................................................................................................................................................................................................................................................................................................................................................................................................................................................................................................................................................................................................................................................................................................................................................................................................................................................................................................................................................................................................................................................................................................................................................................................................................................................................................................................................................................................................................................................................................................................................................................................................................................................................................................................................................................................................................................................................................................................................................[Parallel(n_jobs=1)]: Done  10 out of  10 | elapsed:    1.0s finished\n"
     ]
    },
    {
     "data": {
      "text/plain": [
       "LassoCV(cv=10, n_alphas=500, verbose=1)"
      ]
     },
     "execution_count": 81,
     "metadata": {},
     "output_type": "execute_result"
    }
   ],
   "source": [
    "optimal_lasso = LassoCV(n_alphas=500, cv=10, verbose=1)\n",
    "optimal_lasso.fit(Xs, y)\n"
   ]
  },
  {
   "cell_type": "code",
   "execution_count": 82,
   "metadata": {},
   "outputs": [
    {
     "name": "stdout",
     "output_type": "stream",
     "text": [
      "[-3.75646875e-01 -3.07475941e-02 -7.79425722e-01 -2.17955304e-02\n",
      " -1.08579590e-01  2.51386535e-04  9.41037984e-03 -4.80058440e-01\n",
      " -3.91281113e-02  3.60013464e-02]\n",
      "-0.17897187500419376\n"
     ]
    }
   ],
   "source": [
    "lasso = Lasso(alpha=optimal_lasso.alpha_)\n",
    "\n",
    "lasso_scores = cross_val_score(lasso, Xs, y, cv=10)\n",
    "\n",
    "print(lasso_scores)\n",
    "print(np.mean(lasso_scores))"
   ]
  },
  {
   "cell_type": "code",
   "execution_count": 83,
   "metadata": {},
   "outputs": [
    {
     "name": "stdout",
     "output_type": "stream",
     "text": [
      "0.008534041732398912\n"
     ]
    }
   ],
   "source": [
    "lasso.fit(Xs,y)\n",
    "print(lasso.score(Xs,y))"
   ]
  },
  {
   "cell_type": "code",
   "execution_count": 84,
   "metadata": {},
   "outputs": [
    {
     "data": {
      "text/html": [
       "<div>\n",
       "<style scoped>\n",
       "    .dataframe tbody tr th:only-of-type {\n",
       "        vertical-align: middle;\n",
       "    }\n",
       "\n",
       "    .dataframe tbody tr th {\n",
       "        vertical-align: top;\n",
       "    }\n",
       "\n",
       "    .dataframe thead th {\n",
       "        text-align: right;\n",
       "    }\n",
       "</style>\n",
       "<table border=\"1\" class=\"dataframe\">\n",
       "  <thead>\n",
       "    <tr style=\"text-align: right;\">\n",
       "      <th></th>\n",
       "      <th>variable</th>\n",
       "      <th>coef</th>\n",
       "      <th>abs_coef</th>\n",
       "    </tr>\n",
       "  </thead>\n",
       "  <tbody>\n",
       "    <tr>\n",
       "      <th>1</th>\n",
       "      <td>avg_rain</td>\n",
       "      <td>-0.017324</td>\n",
       "      <td>0.017324</td>\n",
       "    </tr>\n",
       "    <tr>\n",
       "      <th>0</th>\n",
       "      <td>avg_af</td>\n",
       "      <td>0.014643</td>\n",
       "      <td>0.014643</td>\n",
       "    </tr>\n",
       "  </tbody>\n",
       "</table>\n",
       "</div>"
      ],
      "text/plain": [
       "   variable      coef  abs_coef\n",
       "1  avg_rain -0.017324  0.017324\n",
       "0    avg_af  0.014643  0.014643"
      ]
     },
     "execution_count": 84,
     "metadata": {},
     "output_type": "execute_result"
    }
   ],
   "source": [
    "lasso.fit(Xs, y)\n",
    "lasso_coefs = pd.DataFrame({'variable':X.columns,\n",
    "                            'coef':lasso.coef_,\n",
    "                            'abs_coef':np.abs(lasso.coef_)})\n",
    "\n",
    "lasso_coefs.sort_values('abs_coef', inplace=True, ascending=False)\n",
    "\n",
    "lasso_coefs.head(20)"
   ]
  },
  {
   "cell_type": "code",
   "execution_count": 85,
   "metadata": {},
   "outputs": [
    {
     "name": "stdout",
     "output_type": "stream",
     "text": [
      "Percent variables zeroed out: 0.006622516556291391\n"
     ]
    }
   ],
   "source": [
    "print('Percent variables zeroed out:', np.sum((np.abs(lasso.coef_) < 0.2))/float(X.shape[0]))"
   ]
  },
  {
   "cell_type": "code",
   "execution_count": 86,
   "metadata": {},
   "outputs": [
    {
     "data": {
      "image/png": "[encoded data removed]",
      "text/plain": [
       "<Figure size 720x864 with 1 Axes>"
      ]
     },
     "metadata": {},
     "output_type": "display_data"
    }
   ],
   "source": [
    "fig, ax = plt.subplots(figsize=(10,12))\n",
    "lasso_coefs.coef[:20].plot(kind='barh',ax=ax,alpha=0.5)\n",
    "ax.set_yticklabels(lasso_coefs.variable[:20].values)\n",
    "plt.show()"
   ]
  },
  {
   "cell_type": "markdown",
   "metadata": {},
   "source": [
    "#### Findings:\n",
    "\n",
    "- Both Ridge and Lasso worked better than LinearRegression as they all give a positive R score. \n",
    "- And from the coefficients, at least, we can see some negative relations between 'avg_rain' and happiness. This make sense.\n",
    "- The reason that LinearRegression didn't work well is because the poor data engineering. I could reorganize data and potentially get a better results than this."
   ]
  },
  {
   "cell_type": "markdown",
   "metadata": {},
   "source": [
    "# PART 4"
   ]
  },
  {
   "cell_type": "markdown",
   "metadata": {},
   "source": [
    "4.2 Perform LinearRegression and Clustering on happy_cities data"
   ]
  },
  {
   "cell_type": "code",
   "execution_count": 93,
   "metadata": {
    "scrolled": false
   },
   "outputs": [
    {
     "data": {
      "text/html": [
       "<div>\n",
       "<style scoped>\n",
       "    .dataframe tbody tr th:only-of-type {\n",
       "        vertical-align: middle;\n",
       "    }\n",
       "\n",
       "    .dataframe tbody tr th {\n",
       "        vertical-align: top;\n",
       "    }\n",
       "\n",
       "    .dataframe thead th {\n",
       "        text-align: right;\n",
       "    }\n",
       "</style>\n",
       "<table border=\"1\" class=\"dataframe\">\n",
       "  <thead>\n",
       "    <tr style=\"text-align: right;\">\n",
       "      <th></th>\n",
       "      <th>city</th>\n",
       "      <th>happiness</th>\n",
       "      <th>lat</th>\n",
       "    </tr>\n",
       "  </thead>\n",
       "  <tbody>\n",
       "    <tr>\n",
       "      <th>0</th>\n",
       "      <td>South Hams</td>\n",
       "      <td>7.65</td>\n",
       "      <td>50.372</td>\n",
       "    </tr>\n",
       "    <tr>\n",
       "      <th>1</th>\n",
       "      <td>Weymouth and Portland</td>\n",
       "      <td>7.61</td>\n",
       "      <td>50.596</td>\n",
       "    </tr>\n",
       "    <tr>\n",
       "      <th>2</th>\n",
       "      <td>Teignbridge</td>\n",
       "      <td>7.88</td>\n",
       "      <td>50.613</td>\n",
       "    </tr>\n",
       "    <tr>\n",
       "      <th>3</th>\n",
       "      <td>West Devon</td>\n",
       "      <td>7.29</td>\n",
       "      <td>50.652</td>\n",
       "    </tr>\n",
       "    <tr>\n",
       "      <th>4</th>\n",
       "      <td>Purbeck</td>\n",
       "      <td>7.74</td>\n",
       "      <td>50.685</td>\n",
       "    </tr>\n",
       "  </tbody>\n",
       "</table>\n",
       "</div>"
      ],
      "text/plain": [
       "                    city  happiness     lat\n",
       "0             South Hams       7.65  50.372\n",
       "1  Weymouth and Portland       7.61  50.596\n",
       "2            Teignbridge       7.88  50.613\n",
       "3             West Devon       7.29  50.652\n",
       "4                Purbeck       7.74  50.685"
      ]
     },
     "execution_count": 93,
     "metadata": {},
     "output_type": "execute_result"
    }
   ],
   "source": [
    "happy_cities.head()"
   ]
  },
  {
   "cell_type": "code",
   "execution_count": 161,
   "metadata": {
    "scrolled": false
   },
   "outputs": [
    {
     "data": {
      "image/png": "[encoded data removed]",
      "text/plain": [
       "<Figure size 576x576 with 1 Axes>"
      ]
     },
     "metadata": {},
     "output_type": "display_data"
    }
   ],
   "source": [
    "fig,ax=plt.subplots(figsize=(8,8))\n",
    "ax = sns.regplot(x='lat', y='happiness', data=happy_cities)"
   ]
  },
  {
   "cell_type": "code",
   "execution_count": 113,
   "metadata": {},
   "outputs": [],
   "source": [
    "X = pd.DataFrame(happy_cities['lat'])\n",
    "y = happy_cities.happiness"
   ]
  },
  {
   "cell_type": "code",
   "execution_count": 114,
   "metadata": {},
   "outputs": [],
   "source": [
    "scaler = StandardScaler()\n",
    "Xs = scaler.fit_transform(X)"
   ]
  },
  {
   "cell_type": "code",
   "execution_count": 115,
   "metadata": {},
   "outputs": [
    {
     "name": "stdout",
     "output_type": "stream",
     "text": [
      "[-0.44916953 -0.01860436 -1.05695796 -0.04276447 -0.06050396 -0.00437077\n",
      " -0.00151417 -0.46386921 -0.05656245 -0.09857322]\n",
      "-0.22528901049072866\n"
     ]
    }
   ],
   "source": [
    "linreg = LinearRegression()\n",
    "\n",
    "linreg_scores = cross_val_score(linreg, Xs, y, cv=10)\n",
    "\n",
    "print(linreg_scores)\n",
    "print(np.mean(linreg_scores))"
   ]
  },
  {
   "cell_type": "markdown",
   "metadata": {},
   "source": [
    "#### Findings:\n",
    "- As latitude goes up, happiness drops a little, this suggesting that people who live in the south, generally speaking, are slightly happier than those living in the north. "
   ]
  },
  {
   "cell_type": "markdown",
   "metadata": {},
   "source": [
    "#### Tune model.\n",
    "Compare to the eps of the weather data, the eps of happy_cities are more sensitive. "
   ]
  },
  {
   "cell_type": "code",
   "execution_count": 140,
   "metadata": {},
   "outputs": [
    {
     "name": "stdout",
     "output_type": "stream",
     "text": [
      "[-1  0  0  0  0  0  0  0  0  0  0  0  0  0  0  0  0  0  0  0  0  0  0  0\n",
      "  0  0  0  0  0  0  0  0  0  0  0  0  0  0  0  0  0  0  0  0  0  0  0  0\n",
      "  0  0  0  0  0  0  0  0  0  0  0  0  0  0  0  0  0  0  0  0  0  0  0  0\n",
      "  0  0  0  0  0  0  0  0  0  0  0  0  0  0  0  0  0  0  0  0  0  0  0  0\n",
      "  0  0  0  0  0  0  0  0  0  0  0  0  0  0  0  0  0  0  0  0  0  0  0  0\n",
      "  0  0  0  0  0  0  0  0  0  0  0  0  0  0  0  0  0  0  0  0  0  0  0  0\n",
      "  0  0  0  0  0  0  0  0  0  0  0  0  0  0  0  0  0  0  0  0  0  0  0  0\n",
      "  0  0  0  0  0  0  0  0  0  0  0  0  0  0  0  0  0  0  0  0  0  0  0  0\n",
      "  0  0  0  0  0  0  0  0  0  0  0  0  0  0  0  0  0  0  0  0  0  0  0  0\n",
      "  0  0  0  0  0  0  0  0  0  0  0  0  0  0  0  0  0  0  0  0  0  0  0  0\n",
      "  0  0  0  0  0  0  0  0  0  0  0  0  0  0  0  0  0  0  0  0  0  0  0  0\n",
      "  0  0  0  0  0  0  1  1  1  1  1  1  1  1  1  1  1  1  1  1  1  1  1  1\n",
      "  1  1  1  2  2  2 -1 -1 -1  3  3  3 -1 -1] \n",
      "\n",
      "types of clusters: 4\n"
     ]
    }
   ],
   "source": [
    "dbscan = DBSCAN(eps=0.1, min_samples=3)\n",
    "dbscan.fit(Xs)\n",
    "\n",
    "labels = dbscan.labels_\n",
    "print(labels, '\\n')\n",
    "# how many clusters do we have?\n",
    "n_clusters_ = len(set(labels).difference(set([-1])))\n",
    "print(\"types of clusters: {}\".format(n_clusters_) )"
   ]
  },
  {
   "cell_type": "code",
   "execution_count": 157,
   "metadata": {},
   "outputs": [
    {
     "name": "stdout",
     "output_type": "stream",
     "text": [
      "[-1  0  0  0  0  0  0  0  0  0  0  0  0  0  0  0  0  0  0  0  0  0  0  0\n",
      "  0  0  0  0  0  0  0  0  0  0  0  0  0  0  0  0  0  0  0  0  0  0  0  0\n",
      "  0  0  0  0  0  0  0  0  0  0  0  0  0  0  0  0  0  0  0  0  0  0  0  0\n",
      "  0  0  0  0  0  0  0  0  0  0  0  0  0  0  0  0  0  0  0  0  0  0  0  0\n",
      "  0  0  0  0  0  0  0  0  0  0  0  0  0  0  0  0  0  0  0  0  0  0  0  0\n",
      "  0  0  0  0  0  0  0  0  0  0  0  0  0  0  0  0  0  0  0  0  0  0  0  0\n",
      "  0  0  0  0  0  0  0  0  0  0  0  0  0  0  0  0  0  0  0  0  0  0  0  0\n",
      "  0  0  0  0  0  0  0  0  0  0  0  0  0  0  0  0  0  0  0  0  0  0  0  0\n",
      "  0  0  0  0  0  0  0  0  0  0  0  0  0  0  0  0  0  0  0  0  0  0  0  0\n",
      "  0  0  0  0  0  0  0  0  0  0  0  0  0  0  0  0  0  0  0  0  0  0  0  0\n",
      "  0  0  0  0  0  0  0  0  0  1  1  1  1  1  1  1  1  2  2  2  2  3  3  3\n",
      "  3  3  3  3  3  3 -1  4  4  4  5  5  5  5  5  5  5  5  5  5  5  5  5  5\n",
      "  6  6  6  7  7  7 -1  8  8  9  9 -1 10 10] \n",
      "\n",
      "types of clusters: 11\n"
     ]
    }
   ],
   "source": [
    "dbscan = DBSCAN(eps=0.07, min_samples=2)\n",
    "dbscan.fit(Xs)\n",
    "\n",
    "labels = dbscan.labels_\n",
    "print(labels, '\\n')\n",
    "# how many clusters do we have?\n",
    "n_clusters_ = len(set(labels).difference(set([-1])))\n",
    "print(\"types of clusters: {}\".format(n_clusters_) )"
   ]
  },
  {
   "cell_type": "code",
   "execution_count": 163,
   "metadata": {},
   "outputs": [
    {
     "data": {
      "text/plain": [
       " 0     248\n",
       " 5      14\n",
       " 3       9\n",
       " 1       8\n",
       " 2       4\n",
       "-1       4\n",
       " 7       3\n",
       " 6       3\n",
       " 4       3\n",
       " 10      2\n",
       " 9       2\n",
       " 8       2\n",
       "Name: labels, dtype: int64"
      ]
     },
     "execution_count": 163,
     "metadata": {},
     "output_type": "execute_result"
    }
   ],
   "source": [
    "happy_cities_copy = happy_cities\n",
    "happy_cities_copy['labels'] = labels\n",
    "happy_cities_copy.labels.value_counts()"
   ]
  },
  {
   "cell_type": "code",
   "execution_count": 177,
   "metadata": {},
   "outputs": [
    {
     "data": {
      "image/png": "[encoded data removed]",
      "text/plain": [
       "<Figure size 432x288 with 1 Axes>"
      ]
     },
     "metadata": {},
     "output_type": "display_data"
    }
   ],
   "source": [
    "plt.scatter(happy_cities_copy[happy_cities_copy['labels']==0].lat,happy_cities_copy[happy_cities_copy['labels']==0].happiness,c='r' )\n",
    "plt.scatter(happy_cities_copy[happy_cities_copy['labels']==5].lat,happy_cities_copy[happy_cities_copy['labels']==5].happiness, c='b' )\n",
    "plt.scatter(happy_cities_copy[happy_cities_copy['labels']==3].lat,happy_cities_copy[happy_cities_copy['labels']==3].happiness, c='c' )\n",
    "plt.scatter(happy_cities_copy[happy_cities_copy['labels']==1].lat,happy_cities_copy[happy_cities_copy['labels']==1].happiness, c='k' )\n",
    "plt.scatter(happy_cities_copy[happy_cities_copy['labels']==2].lat,happy_cities_copy[happy_cities_copy['labels']==2].happiness, c='g' )\n",
    "plt.show()"
   ]
  },
  {
   "cell_type": "code",
   "execution_count": null,
   "metadata": {},
   "outputs": [],
   "source": []
  },
  {
   "cell_type": "code",
   "execution_count": null,
   "metadata": {},
   "outputs": [],
   "source": []
  },
  {
   "cell_type": "code",
   "execution_count": null,
   "metadata": {},
   "outputs": [],
   "source": []
  },
  {
   "cell_type": "code",
   "execution_count": null,
   "metadata": {},
   "outputs": [],
   "source": []
  }
 ],
 "metadata": {
  "kernelspec": {
   "display_name": "Python 3",
   "language": "python",
   "name": "python3"
  },
  "language_info": {
   "codemirror_mode": {
    "name": "ipython",
    "version": 3
   },
   "file_extension": ".py",
   "mimetype": "text/x-python",
   "name": "python",
   "nbconvert_exporter": "python",
   "pygments_lexer": "ipython3",
   "version": "3.8.3"
  }
 },
 "nbformat": 4,
 "nbformat_minor": 4
}
