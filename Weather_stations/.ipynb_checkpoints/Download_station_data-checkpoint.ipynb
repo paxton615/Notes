{
 "cells": [
  {
   "cell_type": "code",
   "execution_count": 561,
   "metadata": {},
   "outputs": [],
   "source": [
    "import pandas as pd\n",
    "import numpy as np\n",
    "import os \n",
    "\n",
    "from sklearn import metrics\n",
    "from sklearn.preprocessing import StandardScaler\n",
    "from sklearn.decomposition import PCA\n",
    "\n",
    "from sklearn import cluster\n",
    "from sklearn.cluster import KMeans\n",
    "from sklearn.cluster import DBSCAN\n",
    "from sklearn.linear_model import LogisticRegression\n",
    "from sklearn.metrics import confusion_matrix\n",
    "from sklearn.metrics import classification_report\n",
    "from sklearn.model_selection import KFold, StratifiedKFold\n",
    "from sklearn.linear_model import LinearRegression\n",
    "from sklearn.metrics import mean_squared_error\n",
    "from sklearn.metrics import r2_score\n",
    "from sklearn.linear_model import Ridge, Lasso, ElasticNet, LinearRegression, RidgeCV, LassoCV, ElasticNetCV\n",
    "from sklearn.model_selection import cross_val_score, cross_val_predict\n",
    "\n",
    "import seaborn as sns\n",
    "import matplotlib.pyplot as plt\n",
    "plt.style.use('ggplot')\n",
    "\n",
    "from geopy.geocoders import Nominatim"
   ]
  },
  {
   "cell_type": "code",
   "execution_count": 2,
   "metadata": {},
   "outputs": [
    {
     "name": "stdout",
     "output_type": "stream",
     "text": [
      "/Users/paxton615/Github_Personal/Notes/Notes/Weather_stations\r\n"
     ]
    }
   ],
   "source": [
    "!pwd"
   ]
  },
  {
   "cell_type": "code",
   "execution_count": 3,
   "metadata": {},
   "outputs": [
    {
     "name": "stdout",
     "output_type": "stream",
     "text": [
      "Download_station_data.ipynb\r\n",
      "Weather_station_data.ipynb\r\n",
      "\u001b[34mWeather_stations\u001b[m\u001b[m\r\n",
      "geographicbreakdownreferencetable_tcm77-417203(2).xls\r\n",
      "happy_cities.xlsx\r\n",
      "happy_cities_lat_lon.csv\r\n",
      "referencetable1geographicalbreakdown_tcm77-378058.xls\r\n",
      "~$happy_cities.xlsx\r\n"
     ]
    }
   ],
   "source": [
    "!ls"
   ]
  },
  {
   "cell_type": "markdown",
   "metadata": {},
   "source": [
    "#### 1. Load our data and perform any basic cleaning and/or EDA.¶"
   ]
  },
  {
   "cell_type": "code",
   "execution_count": 4,
   "metadata": {},
   "outputs": [],
   "source": [
    "station_names = ['Aberporth', 'Armagh', 'Ballypatrick Forest', 'Bradford', 'Braemar', 'Camborne', 'Cambridge NIAB', 'Cardiff Bute Park',\n",
    " 'Chivenor', 'Cwmystwyth', 'Dunstaffnage', 'Durham', 'Eastbourne', 'Eskdalemuir', 'Heathrow', 'Hurn', 'Lerwick',\n",
    " 'Leuchars', 'Lowestoft', 'Manston', 'Nairn', 'Newton Rigg', 'Oxford', 'Paisley', 'Ringway', 'Ross-on-Wye',\n",
    " 'Shawbury', 'Sheffield', 'Southampton', 'Stornoway Airport', 'Sutton Bonington', 'Tiree', 'Valley',\n",
    " 'Waddington', 'Whitby', 'Wick Airport', 'Yeovilton']"
   ]
  },
  {
   "cell_type": "code",
   "execution_count": 5,
   "metadata": {},
   "outputs": [],
   "source": [
    "lower_station_names = []\n",
    "for i in station_names:\n",
    "    lower_station_names.append(i.lower().replace(' ','_').replace('-','_'))"
   ]
  },
  {
   "cell_type": "code",
   "execution_count": 6,
   "metadata": {},
   "outputs": [],
   "source": [
    "def data_clean(station_name):\n",
    "    station_name = pd.read_excel('/Users/paxton615/Github_Personal/Notes/Notes/Weather_stations/Weather_stations/{}.xlsx'.format(station_name))\n",
    "    \n",
    "    station_name = station_name.iloc[1:,:-1] # get rid of useless row and column, 去除多余行，列\n",
    "    # 这里有一个例外 Yeovilton 需要 station_name.iloc[1:,:] 这样slice \n",
    "    \n",
    "    col_names = ['year', 'month', 'tmax', 'tmin', 'af', 'rain', 'sun',\n",
    "            'station', 'lat', 'lon'] # temperatre units: degC, rainfall units: mm, sun units: days\n",
    "    station_name.columns = col_names # replace column names with col_names, 替换列名成 col_names\n",
    "    \n",
    "    # fill in station, lat and lon with its value, 给车站，经纬度填上唯一值\n",
    "    station_name['station']= station_name.iloc[0, 7].lower().replace('-', '_').replace(' ','_')\n",
    "    station_name['lat'] = station_name.iloc[0,8]\n",
    "    station_name['lon'] = station_name.iloc[0,9]\n",
    "    \n",
    "    # replace --- with 0\n",
    "    station_name = station_name.replace('---', 0)\n",
    "    station_name = station_name.replace('--- #', 0)\n",
    "\n",
    "    # fillna with 0s, 将所有NaN替换成 0\n",
    "    station_name.fillna(0, inplace=True)\n",
    "    \n",
    "    # tidy all entries and unify types, 消除非数字字符，改type\n",
    "    \n",
    "    station_name['sun'] = station_name['sun'].astype(str)\n",
    "    station_name['sun'] = station_name['sun'].str.extract(r'(\\d+.\\d+)').astype('float')\n",
    "\n",
    "    station_name['tmax'] = station_name['tmax'].astype(str)\n",
    "    station_name['tmax'] = station_name['tmax'].str.extract(r'(-?\\d+.\\d+)').astype('float')\n",
    "\n",
    "    station_name['tmin'] = station_name['tmin'].astype(str)\n",
    "    station_name['tmin'] = station_name['tmin'].str.extract(r'(-?\\d+.\\d+)').astype('float')\n",
    "\n",
    "    station_name['rain'] = station_name['rain'].astype(str)\n",
    "    station_name['rain'] = station_name['rain'].str.extract(r'(\\d+.\\d+)').astype('float')\n",
    "\n",
    "    station_name['af'] = station_name['af'].astype(str)\n",
    "    station_name['af'] = station_name['af'].str.extract(r'(\\d+)').astype('float')\n",
    "\n",
    "    \n",
    "    # fillna with 0s, 将所有NaN替换成 0\n",
    "    station_name = station_name.fillna(0)\n",
    "    \n",
    "    return station_name"
   ]
  },
  {
   "cell_type": "code",
   "execution_count": 7,
   "metadata": {},
   "outputs": [],
   "source": [
    "def yeovilton_clean(station_name):\n",
    "    station_name = pd.read_excel('/Users/paxton615/Github_Personal/Notes/Notes/Weather_stations/Weather_stations/{}.xlsx'.format(station_name))\n",
    "    \n",
    "    station_name = station_name.iloc[1:,:] # get rid of useless row and column, 去除多余行，列\n",
    "    # 这里有一个例外 Yeovilton 需要 station_name.iloc[1:,:] 这样slice \n",
    "    \n",
    "    col_names = ['year', 'month', 'tmax', 'tmin', 'af', 'rain', 'sun',\n",
    "            'station', 'lat', 'lon'] # temperatre units: degC, rainfall units: mm, sun units: days\n",
    "    station_name.columns = col_names # replace column names with col_names, 替换列名成 col_names\n",
    "    \n",
    "    # fill in station, lat and lon with its value, 给车站，经纬度填上唯一值\n",
    "    station_name['station']= station_name.iloc[0, 7].lower().replace('-', '_').replace(' ','_')\n",
    "    station_name['lat'] = station_name.iloc[0,8]\n",
    "    station_name['lon'] = station_name.iloc[0,9]\n",
    "    \n",
    "    # replace --- with 0\n",
    "    station_name = station_name.replace('---', 0)\n",
    "    station_name = station_name.replace('--- #', 0)\n",
    "\n",
    "    # fillna with 0s, 将所有NaN替换成 0\n",
    "    station_name.fillna(0, inplace=True)\n",
    "    \n",
    "    # tidy all entries and unify types, 消除非数字字符，改type\n",
    "    \n",
    "    station_name['sun'] = station_name['sun'].astype(str)\n",
    "    station_name['sun'] = station_name['sun'].str.extract(r'(\\d+.\\d+)').astype('float')\n",
    "\n",
    "    station_name['tmax'] = station_name['tmax'].astype(str)\n",
    "    station_name['tmax'] = station_name['tmax'].str.extract(r'(-?\\d+.\\d+)').astype('float')\n",
    "\n",
    "    station_name['tmin'] = station_name['tmin'].astype(str)\n",
    "    station_name['tmin'] = station_name['tmin'].str.extract(r'(-?\\d+.\\d+)').astype('float')\n",
    "\n",
    "    station_name['rain'] = station_name['rain'].astype(str)\n",
    "    station_name['rain'] = station_name['rain'].str.extract(r'(\\d+.\\d+)').astype('float')\n",
    "\n",
    "    station_name['af'] = station_name['af'].astype(str)\n",
    "    station_name['af'] = station_name['af'].str.extract(r'(\\d+)').astype('float')\n",
    "\n",
    "    \n",
    "    # fillna with 0s, 将所有NaN替换成 0\n",
    "    station_name = station_name.fillna(0)\n",
    "    \n",
    "    return station_name"
   ]
  },
  {
   "cell_type": "code",
   "execution_count": 8,
   "metadata": {},
   "outputs": [],
   "source": [
    "aberporth = data_clean('Aberporth')\n",
    "armagh = data_clean('Armagh')\n",
    "ballypatrick_forest= data_clean('Ballypatrick Forest')\n",
    "bradford = data_clean('Bradford')\n",
    "braemar = data_clean('Braemar')\n",
    "camborne = data_clean('Camborne')\n",
    "cambridge_niab = data_clean('Cambridge NIAB')\n",
    "cardiff_bute_park = data_clean('Cardiff Bute Park')\n",
    "chivenor = data_clean('Chivenor')\n",
    "cwmystwyth = data_clean('Cwmystwyth')\n",
    "dunstaffnage = data_clean('Dunstaffnage')\n",
    "durham = data_clean('Durham')\n",
    "eastbourne = data_clean('Eastbourne')\n",
    "eskdalemuir = data_clean('Eskdalemuir')\n",
    "heathrow = data_clean('Heathrow')\n",
    "hurn = data_clean('Hurn')\n",
    "lerwick = data_clean('Lerwick')\n",
    "leuchars = data_clean('Leuchars')\n",
    "lowestoft = data_clean('Lowestoft')\n",
    "manston = data_clean('Manston')\n",
    "nairn = data_clean('Nairn')\n",
    "newton_rigg = data_clean('Newton Rigg')\n",
    "oxford = data_clean('Oxford')\n",
    "paisley = data_clean('Paisley')\n",
    "ringway = data_clean('Ringway') # last year is 2004, not 2022\n",
    "ross_on_wye = data_clean('Ross-on-Wye')\n",
    "shawbury = data_clean('Shawbury')\n",
    "sheffield = data_clean('Sheffield')\n",
    "southampton = data_clean('Southampton') # last year 2000,not 2022\n",
    "stornoway_airport = data_clean('Stornoway')\n",
    "sutton_bonington = data_clean('Sutton Bonington')\n",
    "tiree = data_clean('Tiree')\n",
    "valley = data_clean('Valley')\n",
    "waddington = data_clean('Waddington')\n",
    "whitby = data_clean('Whitby')\n",
    "wick_airport = data_clean('Wick Airport')\n",
    "yeovilton = yeovilton_clean('Yeovilton') \n",
    "# for some reason, yeovilton needs function to be altered as such:\n",
    "# station_name = station_name.iloc[1:,:]"
   ]
  },
  {
   "cell_type": "code",
   "execution_count": 9,
   "metadata": {},
   "outputs": [],
   "source": [
    "# check the last year and month of all stations"
   ]
  },
  {
   "cell_type": "code",
   "execution_count": 10,
   "metadata": {},
   "outputs": [
    {
     "data": {
      "text/plain": [
       "37"
      ]
     },
     "execution_count": 10,
     "metadata": {},
     "output_type": "execute_result"
    }
   ],
   "source": [
    "uni = [aberporth, armagh, ballypatrick_forest, bradford, braemar,\n",
    "      camborne, cambridge_niab, cardiff_bute_park, chivenor, \n",
    "      cwmystwyth, dunstaffnage, durham, eastbourne, eskdalemuir,\n",
    "      heathrow, hurn, lerwick, leuchars, lowestoft, manston,\n",
    "      nairn, newton_rigg, oxford, paisley, ringway, ross_on_wye,\n",
    "      shawbury, sheffield, southampton, stornoway_airport, \n",
    "      sutton_bonington, tiree, valley, waddington, whitby,\n",
    "      wick_airport, yeovilton]\n",
    "len(uni)"
   ]
  },
  {
   "cell_type": "code",
   "execution_count": 11,
   "metadata": {},
   "outputs": [],
   "source": [
    "# YEAR\n",
    "# for i in uni:\n",
    "#     print('{}          year:{}'.format(i.iloc[-1,7],i.iloc[-1,0]))"
   ]
  },
  {
   "cell_type": "code",
   "execution_count": 12,
   "metadata": {},
   "outputs": [],
   "source": [
    "# cwmystwyth          year:2011.0\n",
    "# ringway          year:2004.0\n",
    "# southampton          year:2000.0  (other data's year all end at 2022)"
   ]
  },
  {
   "cell_type": "code",
   "execution_count": 13,
   "metadata": {
    "scrolled": false
   },
   "outputs": [],
   "source": [
    "# MONTH\n",
    "# for i in uni:\n",
    "#     print('{}          month:{}'.format(i.iloc[-1,7],i.iloc[-1,1]))"
   ]
  },
  {
   "cell_type": "code",
   "execution_count": 14,
   "metadata": {},
   "outputs": [],
   "source": [
    "# ringway          month:10.0   (other data's month all end at March)\n",
    "    "
   ]
  },
  {
   "cell_type": "code",
   "execution_count": 15,
   "metadata": {},
   "outputs": [],
   "source": [
    "# ???\n",
    "# get rid of cwmystwyth,ringway,southampton 但是我感觉，可能，也没有必要\n"
   ]
  },
  {
   "cell_type": "code",
   "execution_count": 16,
   "metadata": {},
   "outputs": [],
   "source": [
    "# 因为发现了很多数据缺失情况，比如7月最高平均气温是0度。\n",
    "# 所以决定使用 avg 平均气温, 平均降雾，降雨，阳光量作为大数据分析的标准。"
   ]
  },
  {
   "cell_type": "code",
   "execution_count": 17,
   "metadata": {},
   "outputs": [
    {
     "data": {
      "text/html": [
       "<div>\n",
       "<style scoped>\n",
       "    .dataframe tbody tr th:only-of-type {\n",
       "        vertical-align: middle;\n",
       "    }\n",
       "\n",
       "    .dataframe tbody tr th {\n",
       "        vertical-align: top;\n",
       "    }\n",
       "\n",
       "    .dataframe thead th {\n",
       "        text-align: right;\n",
       "    }\n",
       "</style>\n",
       "<table border=\"1\" class=\"dataframe\">\n",
       "  <thead>\n",
       "    <tr style=\"text-align: right;\">\n",
       "      <th></th>\n",
       "      <th>year</th>\n",
       "      <th>month</th>\n",
       "      <th>tmax</th>\n",
       "      <th>tmin</th>\n",
       "      <th>af</th>\n",
       "      <th>rain</th>\n",
       "      <th>sun</th>\n",
       "      <th>station</th>\n",
       "      <th>lat</th>\n",
       "      <th>lon</th>\n",
       "    </tr>\n",
       "  </thead>\n",
       "  <tbody>\n",
       "    <tr>\n",
       "      <th>689</th>\n",
       "      <td>2022.0</td>\n",
       "      <td>1.0</td>\n",
       "      <td>0.0</td>\n",
       "      <td>0.5</td>\n",
       "      <td>15.0</td>\n",
       "      <td>22.4</td>\n",
       "      <td>62.7</td>\n",
       "      <td>yeovilton</td>\n",
       "      <td>51.006</td>\n",
       "      <td>-2.641</td>\n",
       "    </tr>\n",
       "    <tr>\n",
       "      <th>690</th>\n",
       "      <td>2022.0</td>\n",
       "      <td>2.0</td>\n",
       "      <td>11.2</td>\n",
       "      <td>3.8</td>\n",
       "      <td>4.0</td>\n",
       "      <td>41.8</td>\n",
       "      <td>72.2</td>\n",
       "      <td>yeovilton</td>\n",
       "      <td>51.006</td>\n",
       "      <td>-2.641</td>\n",
       "    </tr>\n",
       "    <tr>\n",
       "      <th>691</th>\n",
       "      <td>2022.0</td>\n",
       "      <td>3.0</td>\n",
       "      <td>13.1</td>\n",
       "      <td>3.5</td>\n",
       "      <td>5.0</td>\n",
       "      <td>49.2</td>\n",
       "      <td>164.7</td>\n",
       "      <td>yeovilton</td>\n",
       "      <td>51.006</td>\n",
       "      <td>-2.641</td>\n",
       "    </tr>\n",
       "  </tbody>\n",
       "</table>\n",
       "</div>"
      ],
      "text/plain": [
       "       year  month  tmax  tmin    af  rain    sun    station     lat    lon\n",
       "689  2022.0    1.0   0.0   0.5  15.0  22.4   62.7  yeovilton  51.006 -2.641\n",
       "690  2022.0    2.0  11.2   3.8   4.0  41.8   72.2  yeovilton  51.006 -2.641\n",
       "691  2022.0    3.0  13.1   3.5   5.0  49.2  164.7  yeovilton  51.006 -2.641"
      ]
     },
     "execution_count": 17,
     "metadata": {},
     "output_type": "execute_result"
    }
   ],
   "source": [
    "uni[36].tail(3)"
   ]
  },
  {
   "cell_type": "code",
   "execution_count": 18,
   "metadata": {},
   "outputs": [
    {
     "data": {
      "text/plain": [
       "Index(['station', 'avg_tmx', 'avg_tmin', 'avg_af', 'avg_rain', 'avg_sun',\n",
       "       'lat', 'lon'],\n",
       "      dtype='object')"
      ]
     },
     "execution_count": 18,
     "metadata": {},
     "output_type": "execute_result"
    }
   ],
   "source": [
    "pd.DataFrame({\"station\":uni[36].iloc[-1,7],\n",
    "#               'all_tmx':uni[36].iloc[:,2].max(),  all_  means the highest temperature\n",
    "#              'all_tmin':uni[36].iloc[:,3].min(), \n",
    "             'avg_tmx':np.round(uni[36].iloc[:,2].mean(),2), \n",
    "             'avg_tmin':np.round(uni[36].iloc[:,3].mean(),2),\n",
    "              'avg_af':np.round(uni[36].iloc[:,4].mean(),2),\n",
    "              'avg_rain':np.round(uni[36].iloc[:,5].mean(),2),\n",
    "              'avg_sun':np.round(uni[36].iloc[:,6].mean(),2),\n",
    "             'lat':uni[36].iloc[-1,8],\n",
    "             'lon':uni[36].iloc[-1,9]},\n",
    "             index=[1]).columns"
   ]
  },
  {
   "cell_type": "code",
   "execution_count": 19,
   "metadata": {},
   "outputs": [],
   "source": [
    "vase = []\n",
    "for i in uni:\n",
    "    vase.append([i.iloc[-1,7],\n",
    "              np.round(i.iloc[:,2].mean(),2),\n",
    "               np.round(i.iloc[:,3].mean(),2),\n",
    "               np.round(i.iloc[:,4].mean(),2),\n",
    "               np.round(i.iloc[:,5].mean(),2),\n",
    "               np.round(uni[36].iloc[:,6].mean(),2),\n",
    "             i.iloc[-1,8],\n",
    "             i.iloc[-1,9]])"
   ]
  },
  {
   "cell_type": "code",
   "execution_count": 20,
   "metadata": {},
   "outputs": [
    {
     "data": {
      "text/plain": [
       "station      object\n",
       "avg_tmx     float64\n",
       "avg_tmin    float64\n",
       "avg_af      float64\n",
       "avg_rain    float64\n",
       "avg_sun     float64\n",
       "lat         float64\n",
       "lon         float64\n",
       "dtype: object"
      ]
     },
     "execution_count": 20,
     "metadata": {},
     "output_type": "execute_result"
    }
   ],
   "source": [
    "data = pd.DataFrame(vase, columns = ['station', 'avg_tmx', 'avg_tmin', 'avg_af', 'avg_rain', 'avg_sun',\n",
    "       'lat', 'lon'])\n",
    "data.dtypes"
   ]
  },
  {
   "cell_type": "code",
   "execution_count": 21,
   "metadata": {},
   "outputs": [
    {
     "data": {
      "text/html": [
       "<div>\n",
       "<style scoped>\n",
       "    .dataframe tbody tr th:only-of-type {\n",
       "        vertical-align: middle;\n",
       "    }\n",
       "\n",
       "    .dataframe tbody tr th {\n",
       "        vertical-align: top;\n",
       "    }\n",
       "\n",
       "    .dataframe thead th {\n",
       "        text-align: right;\n",
       "    }\n",
       "</style>\n",
       "<table border=\"1\" class=\"dataframe\">\n",
       "  <thead>\n",
       "    <tr style=\"text-align: right;\">\n",
       "      <th></th>\n",
       "      <th>station</th>\n",
       "      <th>avg_tmx</th>\n",
       "      <th>avg_tmin</th>\n",
       "      <th>avg_af</th>\n",
       "      <th>avg_rain</th>\n",
       "      <th>avg_sun</th>\n",
       "      <th>lat</th>\n",
       "      <th>lon</th>\n",
       "    </tr>\n",
       "  </thead>\n",
       "  <tbody>\n",
       "    <tr>\n",
       "      <th>0</th>\n",
       "      <td>aberporth</td>\n",
       "      <td>12.23</td>\n",
       "      <td>7.14</td>\n",
       "      <td>1.22</td>\n",
       "      <td>76.26</td>\n",
       "      <td>83.26</td>\n",
       "      <td>52.139</td>\n",
       "      <td>-4.570</td>\n",
       "    </tr>\n",
       "    <tr>\n",
       "      <th>1</th>\n",
       "      <td>armagh</td>\n",
       "      <td>10.79</td>\n",
       "      <td>4.71</td>\n",
       "      <td>3.05</td>\n",
       "      <td>63.51</td>\n",
       "      <td>83.26</td>\n",
       "      <td>54.352</td>\n",
       "      <td>-6.649</td>\n",
       "    </tr>\n",
       "    <tr>\n",
       "      <th>2</th>\n",
       "      <td>ballypatrick_forest</td>\n",
       "      <td>10.88</td>\n",
       "      <td>5.28</td>\n",
       "      <td>2.33</td>\n",
       "      <td>60.04</td>\n",
       "      <td>83.26</td>\n",
       "      <td>55.181</td>\n",
       "      <td>-6.153</td>\n",
       "    </tr>\n",
       "    <tr>\n",
       "      <th>3</th>\n",
       "      <td>bradford</td>\n",
       "      <td>11.09</td>\n",
       "      <td>5.16</td>\n",
       "      <td>3.72</td>\n",
       "      <td>66.01</td>\n",
       "      <td>83.26</td>\n",
       "      <td>53.813</td>\n",
       "      <td>-1.772</td>\n",
       "    </tr>\n",
       "    <tr>\n",
       "      <th>4</th>\n",
       "      <td>braemar</td>\n",
       "      <td>9.23</td>\n",
       "      <td>2.43</td>\n",
       "      <td>8.64</td>\n",
       "      <td>66.70</td>\n",
       "      <td>83.26</td>\n",
       "      <td>57.006</td>\n",
       "      <td>-3.396</td>\n",
       "    </tr>\n",
       "  </tbody>\n",
       "</table>\n",
       "</div>"
      ],
      "text/plain": [
       "               station  avg_tmx  avg_tmin  avg_af  avg_rain  avg_sun     lat  \\\n",
       "0            aberporth    12.23      7.14    1.22     76.26    83.26  52.139   \n",
       "1               armagh    10.79      4.71    3.05     63.51    83.26  54.352   \n",
       "2  ballypatrick_forest    10.88      5.28    2.33     60.04    83.26  55.181   \n",
       "3             bradford    11.09      5.16    3.72     66.01    83.26  53.813   \n",
       "4              braemar     9.23      2.43    8.64     66.70    83.26  57.006   \n",
       "\n",
       "     lon  \n",
       "0 -4.570  \n",
       "1 -6.649  \n",
       "2 -6.153  \n",
       "3 -1.772  \n",
       "4 -3.396  "
      ]
     },
     "execution_count": 21,
     "metadata": {},
     "output_type": "execute_result"
    }
   ],
   "source": [
    "data.head()"
   ]
  },
  {
   "cell_type": "code",
   "execution_count": 22,
   "metadata": {},
   "outputs": [
    {
     "data": {
      "image/png": "[encoded data removed]",
      "text/plain": [
       "<Figure size 720x432 with 2 Axes>"
      ]
     },
     "metadata": {},
     "output_type": "display_data"
    }
   ],
   "source": [
    "corrmat= data.corr()\n",
    "plt.figure(figsize=(10,6))  \n",
    "sns.heatmap(corrmat,annot=True,  center=0);"
   ]
  },
  {
   "cell_type": "markdown",
   "metadata": {},
   "source": [
    "#### Set up an X matrix to perform clustering with DBSCAN."
   ]
  },
  {
   "cell_type": "code",
   "execution_count": 23,
   "metadata": {},
   "outputs": [],
   "source": [
    "# ['station', 'avg_tmx', 'avg_tmin', 'avg_af', 'avg_rain', 'avg_sun','lat', 'lon']"
   ]
  },
  {
   "cell_type": "code",
   "execution_count": 24,
   "metadata": {},
   "outputs": [
    {
     "data": {
      "text/html": [
       "<div>\n",
       "<style scoped>\n",
       "    .dataframe tbody tr th:only-of-type {\n",
       "        vertical-align: middle;\n",
       "    }\n",
       "\n",
       "    .dataframe tbody tr th {\n",
       "        vertical-align: top;\n",
       "    }\n",
       "\n",
       "    .dataframe thead th {\n",
       "        text-align: right;\n",
       "    }\n",
       "</style>\n",
       "<table border=\"1\" class=\"dataframe\">\n",
       "  <thead>\n",
       "    <tr style=\"text-align: right;\">\n",
       "      <th></th>\n",
       "      <th>avg_tmx</th>\n",
       "      <th>avg_tmin</th>\n",
       "      <th>avg_af</th>\n",
       "      <th>avg_rain</th>\n",
       "      <th>lat</th>\n",
       "      <th>lon</th>\n",
       "    </tr>\n",
       "  </thead>\n",
       "  <tbody>\n",
       "    <tr>\n",
       "      <th>0</th>\n",
       "      <td>12.23</td>\n",
       "      <td>7.14</td>\n",
       "      <td>1.22</td>\n",
       "      <td>76.26</td>\n",
       "      <td>52.139</td>\n",
       "      <td>-4.570</td>\n",
       "    </tr>\n",
       "    <tr>\n",
       "      <th>1</th>\n",
       "      <td>10.79</td>\n",
       "      <td>4.71</td>\n",
       "      <td>3.05</td>\n",
       "      <td>63.51</td>\n",
       "      <td>54.352</td>\n",
       "      <td>-6.649</td>\n",
       "    </tr>\n",
       "  </tbody>\n",
       "</table>\n",
       "</div>"
      ],
      "text/plain": [
       "   avg_tmx  avg_tmin  avg_af  avg_rain     lat    lon\n",
       "0    12.23      7.14    1.22     76.26  52.139 -4.570\n",
       "1    10.79      4.71    3.05     63.51  54.352 -6.649"
      ]
     },
     "execution_count": 24,
     "metadata": {},
     "output_type": "execute_result"
    }
   ],
   "source": [
    "X = data.drop(['station','avg_sun'], axis = 1)\n",
    "X.head(2)"
   ]
  },
  {
   "cell_type": "code",
   "execution_count": 25,
   "metadata": {},
   "outputs": [
    {
     "data": {
      "image/png": "[encoded data removed]",
      "text/plain": [
       "<Figure size 432x288 with 1 Axes>"
      ]
     },
     "metadata": {},
     "output_type": "display_data"
    }
   ],
   "source": [
    "X.plot(x='avg_rain', y='avg_tmx', kind='scatter', s=40, c='r')\n",
    "plt.show()"
   ]
  },
  {
   "cell_type": "code",
   "execution_count": 26,
   "metadata": {},
   "outputs": [
    {
     "data": {
      "image/png": "[encoded data removed]",
      "text/plain": [
       "<Figure size 432x288 with 1 Axes>"
      ]
     },
     "metadata": {},
     "output_type": "display_data"
    }
   ],
   "source": [
    "X.plot(x='avg_tmin', y='avg_tmx', kind='scatter', s=40, c='r')\n",
    "plt.show()"
   ]
  },
  {
   "cell_type": "code",
   "execution_count": 27,
   "metadata": {},
   "outputs": [
    {
     "data": {
      "image/png": "[encoded data removed]",
      "text/plain": [
       "<Figure size 432x288 with 1 Axes>"
      ]
     },
     "metadata": {},
     "output_type": "display_data"
    }
   ],
   "source": [
    "X.plot(x='avg_af', y='avg_tmx', kind='scatter', s=40, c='r')\n",
    "plt.show()"
   ]
  },
  {
   "cell_type": "code",
   "execution_count": 28,
   "metadata": {
    "scrolled": true
   },
   "outputs": [
    {
     "data": {
      "image/png": "[encoded data removed]",
      "text/plain": [
       "<Figure size 432x288 with 1 Axes>"
      ]
     },
     "metadata": {},
     "output_type": "display_data"
    }
   ],
   "source": [
    "X.plot(x='lat', y='avg_tmx', kind='scatter', s=40, c='r')\n",
    "plt.show()"
   ]
  },
  {
   "cell_type": "code",
   "execution_count": 29,
   "metadata": {},
   "outputs": [
    {
     "data": {
      "image/png": "[encoded data removed]",
      "text/plain": [
       "<Figure size 432x288 with 1 Axes>"
      ]
     },
     "metadata": {},
     "output_type": "display_data"
    }
   ],
   "source": [
    "X.plot(x='lon', y='avg_tmx', kind='scatter', s=40, c='r')\n",
    "plt.show()"
   ]
  },
  {
   "cell_type": "markdown",
   "metadata": {},
   "source": [
    "#### 4. Scale data"
   ]
  },
  {
   "cell_type": "code",
   "execution_count": 30,
   "metadata": {},
   "outputs": [],
   "source": [
    "scaler = StandardScaler()\n",
    "Xs = scaler.fit_transform(X)\n",
    "Xs = pd.DataFrame(Xs, columns=X.columns)"
   ]
  },
  {
   "cell_type": "code",
   "execution_count": null,
   "metadata": {},
   "outputs": [],
   "source": []
  },
  {
   "cell_type": "markdown",
   "metadata": {},
   "source": [
    "#### 5. Fit a DBSCAN clusterer and check out the assigned cluster labels"
   ]
  },
  {
   "cell_type": "code",
   "execution_count": 31,
   "metadata": {},
   "outputs": [
    {
     "name": "stdout",
     "output_type": "stream",
     "text": [
      "[ 0  0  0  0 -1  0  0  0  0  1  0  0  0  1  0  0  0  0  0  0  0  0  0  0\n",
      "  0  0  0  0  0  0  0  0  0  0  0  0  0] \n",
      "\n",
      "types of clusters: 2\n"
     ]
    }
   ],
   "source": [
    "dbscan = DBSCAN(eps=2.5, min_samples=2)\n",
    "dbscan.fit(Xs)\n",
    "\n",
    "labels = dbscan.labels_\n",
    "print(labels, '\\n')\n",
    "# how many clusters do we have?\n",
    "n_clusters_ = len(set(labels).difference(set([-1])))\n",
    "print(\"types of clusters: {}\".format(n_clusters_) )"
   ]
  },
  {
   "cell_type": "code",
   "execution_count": 32,
   "metadata": {},
   "outputs": [
    {
     "name": "stdout",
     "output_type": "stream",
     "text": [
      "[ 0  1  1  2 -1  0  2  2 -1  3  4  2  2  3  2  2  2  2  2  2  2  2  2  4\n",
      "  2  2  2  2  2  1  2  1  0  2  2  2  2] \n",
      "\n",
      "types of clusters: 5\n"
     ]
    }
   ],
   "source": [
    "dbscan = DBSCAN(eps=1.8, min_samples=2)\n",
    "dbscan.fit(Xs)\n",
    "\n",
    "labels = dbscan.labels_\n",
    "print(labels, '\\n')\n",
    "# how many clusters do we have?\n",
    "n_clusters_ = len(set(labels).difference(set([-1])))\n",
    "print(\"types of clusters: {}\".format(n_clusters_) )"
   ]
  },
  {
   "cell_type": "code",
   "execution_count": 33,
   "metadata": {},
   "outputs": [
    {
     "name": "stdout",
     "output_type": "stream",
     "text": [
      "[ 0  1  1  0 -1  0  0  0 -1  2  1  0  0  2  0  0  0  0  0  0  0  0  0  1\n",
      "  0  0  0  0  0  1  0  1  0  0  0  0  0] \n",
      "\n",
      "types of clusters: 3\n"
     ]
    }
   ],
   "source": [
    "dbscan = DBSCAN(eps=1.9, min_samples=2)\n",
    "dbscan.fit(Xs)\n",
    "\n",
    "labels = dbscan.labels_\n",
    "print(labels, '\\n')\n",
    "# how many clusters do we have?\n",
    "n_clusters_ = len(set(labels).difference(set([-1])))\n",
    "print(\"types of clusters: {}\".format(n_clusters_) )"
   ]
  },
  {
   "cell_type": "code",
   "execution_count": 34,
   "metadata": {},
   "outputs": [
    {
     "name": "stdout",
     "output_type": "stream",
     "text": [
      "[ 0  1  1  0 -1  0  0  0 -1  2  1  0  0  2  0  0  0  0  0  0  0  0  0  1\n",
      "  0  0  0  0  0  1  0  1  0  0  0  0  0] \n",
      "\n",
      "types of clusters: 3\n"
     ]
    }
   ],
   "source": [
    "dbscan = DBSCAN(eps=2, min_samples=2)\n",
    "dbscan.fit(Xs)\n",
    "\n",
    "labels = dbscan.labels_\n",
    "print(labels, '\\n')\n",
    "# how many clusters do we have?\n",
    "n_clusters_ = len(set(labels).difference(set([-1])))\n",
    "print(\"types of clusters: {}\".format(n_clusters_) )"
   ]
  },
  {
   "cell_type": "markdown",
   "metadata": {},
   "source": [
    "#### 6. Identify core samples"
   ]
  },
  {
   "cell_type": "code",
   "execution_count": 35,
   "metadata": {},
   "outputs": [
    {
     "name": "stdout",
     "output_type": "stream",
     "text": [
      "[ 0  1  2  3  5  6  7  9 10 11 12 13 14 15 16 17 18 19 20 21 22 23 24 25\n",
      " 26 27 28 29 30 31 32 33 34 35 36]\n"
     ]
    }
   ],
   "source": [
    "# Extract core sample indices\n",
    "print(dbscan.core_sample_indices_)"
   ]
  },
  {
   "cell_type": "code",
   "execution_count": 36,
   "metadata": {},
   "outputs": [
    {
     "data": {
      "text/plain": [
       "array([False, False, False, False, False, False, False, False, False,\n",
       "       False, False, False, False, False, False, False, False, False,\n",
       "       False, False, False, False, False, False, False, False, False,\n",
       "       False, False, False, False, False, False, False, False, False,\n",
       "       False])"
      ]
     },
     "execution_count": 36,
     "metadata": {},
     "output_type": "execute_result"
    }
   ],
   "source": [
    "core_samples = np.zeros_like(labels, dtype=bool)\n",
    "core_samples"
   ]
  },
  {
   "cell_type": "code",
   "execution_count": 37,
   "metadata": {},
   "outputs": [
    {
     "data": {
      "text/plain": [
       "array([ True,  True,  True,  True, False,  True,  True,  True, False,\n",
       "        True,  True,  True,  True,  True,  True,  True,  True,  True,\n",
       "        True,  True,  True,  True,  True,  True,  True,  True,  True,\n",
       "        True,  True,  True,  True,  True,  True,  True,  True,  True,\n",
       "        True])"
      ]
     },
     "execution_count": 37,
     "metadata": {},
     "output_type": "execute_result"
    }
   ],
   "source": [
    "core_samples[dbscan.core_sample_indices_] = True\n",
    "core_samples"
   ]
  },
  {
   "cell_type": "code",
   "execution_count": 38,
   "metadata": {},
   "outputs": [
    {
     "name": "stdout",
     "output_type": "stream",
     "text": [
      "Core samples\n",
      "[1 1 1 1 0 1 1 1 0 1 1 1 1 1 1 1 1 1 1 1 1 1 1 1 1 1 1 1 1 1 1 1 1 1 1 1 1]\n"
     ]
    }
   ],
   "source": [
    "print(\"Core samples\")\n",
    "print((core_samples * 1))"
   ]
  },
  {
   "cell_type": "markdown",
   "metadata": {},
   "source": [
    "### Kmeans"
   ]
  },
  {
   "cell_type": "code",
   "execution_count": 39,
   "metadata": {},
   "outputs": [
    {
     "data": {
      "text/plain": [
       "KMeans(n_clusters=3, random_state=0)"
      ]
     },
     "execution_count": 39,
     "metadata": {},
     "output_type": "execute_result"
    }
   ],
   "source": [
    "model = KMeans(n_clusters=3, random_state=0)\n",
    "model.fit(Xs)"
   ]
  },
  {
   "cell_type": "code",
   "execution_count": 40,
   "metadata": {},
   "outputs": [
    {
     "name": "stdout",
     "output_type": "stream",
     "text": [
      "Assigned cluster labels: \n",
      " [0 2 2 0 1 0 0 0 2 2 2 1 0 2 0 0 1 1 0 0 1 1 0 2 0 0 0 0 0 2 0 2 0 0 0 1 0]\n"
     ]
    }
   ],
   "source": [
    "cluster_labels = model.labels_\n",
    "print(\"Assigned cluster labels: \\n\", cluster_labels)"
   ]
  },
  {
   "cell_type": "code",
   "execution_count": 41,
   "metadata": {},
   "outputs": [],
   "source": [
    "# [ 0  1  1  0 -1  0  0  0 -1  2  1  0  0  2  0  0  0  0  0  0  0  0  0  1\n",
    "#   0  0  0  0  0  1  0  1  0  0  0  0  0] "
   ]
  },
  {
   "cell_type": "code",
   "execution_count": 42,
   "metadata": {},
   "outputs": [
    {
     "name": "stdout",
     "output_type": "stream",
     "text": [
      "Location of centroids: \n",
      "[[ 0.6938712   0.56191765 -0.20389651 -0.42188772 -0.64708281  0.49692444]\n",
      " [-0.95736426 -1.05069393  1.0461838  -0.21548774  1.29411906  0.02213461]\n",
      " [-0.87441615 -0.4939348  -0.33793999  1.15200625  0.50332284 -1.17670616]]\n"
     ]
    }
   ],
   "source": [
    "centroids = model.cluster_centers_\n",
    "print(\"Location of centroids: \")\n",
    "print(centroids)"
   ]
  },
  {
   "cell_type": "code",
   "execution_count": 43,
   "metadata": {},
   "outputs": [
    {
     "data": {
      "text/html": [
       "<div>\n",
       "<style scoped>\n",
       "    .dataframe tbody tr th:only-of-type {\n",
       "        vertical-align: middle;\n",
       "    }\n",
       "\n",
       "    .dataframe tbody tr th {\n",
       "        vertical-align: top;\n",
       "    }\n",
       "\n",
       "    .dataframe thead th {\n",
       "        text-align: right;\n",
       "    }\n",
       "</style>\n",
       "<table border=\"1\" class=\"dataframe\">\n",
       "  <thead>\n",
       "    <tr style=\"text-align: right;\">\n",
       "      <th></th>\n",
       "      <th>avg_tmx</th>\n",
       "      <th>avg_tmin</th>\n",
       "      <th>avg_af</th>\n",
       "      <th>avg_rain</th>\n",
       "      <th>lat</th>\n",
       "      <th>lon</th>\n",
       "      <th>clusters</th>\n",
       "    </tr>\n",
       "  </thead>\n",
       "  <tbody>\n",
       "    <tr>\n",
       "      <th>0</th>\n",
       "      <td>0.461048</td>\n",
       "      <td>1.407818</td>\n",
       "      <td>-1.381906</td>\n",
       "      <td>0.273567</td>\n",
       "      <td>-0.660117</td>\n",
       "      <td>-0.868894</td>\n",
       "      <td>0</td>\n",
       "    </tr>\n",
       "    <tr>\n",
       "      <th>1</th>\n",
       "      <td>-0.569781</td>\n",
       "      <td>-0.664496</td>\n",
       "      <td>-0.156381</td>\n",
       "      <td>-0.226240</td>\n",
       "      <td>0.229378</td>\n",
       "      <td>-1.846070</td>\n",
       "      <td>2</td>\n",
       "    </tr>\n",
       "    <tr>\n",
       "      <th>2</th>\n",
       "      <td>-0.505354</td>\n",
       "      <td>-0.178397</td>\n",
       "      <td>-0.638555</td>\n",
       "      <td>-0.362266</td>\n",
       "      <td>0.562587</td>\n",
       "      <td>-1.612939</td>\n",
       "      <td>2</td>\n",
       "    </tr>\n",
       "    <tr>\n",
       "      <th>3</th>\n",
       "      <td>-0.355025</td>\n",
       "      <td>-0.280734</td>\n",
       "      <td>0.292309</td>\n",
       "      <td>-0.128239</td>\n",
       "      <td>0.012732</td>\n",
       "      <td>0.446229</td>\n",
       "      <td>0</td>\n",
       "    </tr>\n",
       "    <tr>\n",
       "      <th>4</th>\n",
       "      <td>-1.686512</td>\n",
       "      <td>-2.608888</td>\n",
       "      <td>3.587163</td>\n",
       "      <td>-0.101190</td>\n",
       "      <td>1.296129</td>\n",
       "      <td>-0.317087</td>\n",
       "      <td>1</td>\n",
       "    </tr>\n",
       "  </tbody>\n",
       "</table>\n",
       "</div>"
      ],
      "text/plain": [
       "    avg_tmx  avg_tmin    avg_af  avg_rain       lat       lon  clusters\n",
       "0  0.461048  1.407818 -1.381906  0.273567 -0.660117 -0.868894         0\n",
       "1 -0.569781 -0.664496 -0.156381 -0.226240  0.229378 -1.846070         2\n",
       "2 -0.505354 -0.178397 -0.638555 -0.362266  0.562587 -1.612939         2\n",
       "3 -0.355025 -0.280734  0.292309 -0.128239  0.012732  0.446229         0\n",
       "4 -1.686512 -2.608888  3.587163 -0.101190  1.296129 -0.317087         1"
      ]
     },
     "execution_count": 43,
     "metadata": {},
     "output_type": "execute_result"
    }
   ],
   "source": [
    "Xs['clusters'] = cluster_labels\n",
    "Xs.head()"
   ]
  },
  {
   "cell_type": "code",
   "execution_count": 44,
   "metadata": {
    "scrolled": true
   },
   "outputs": [
    {
     "data": {
      "image/png": "[encoded data removed]",
      "text/plain": [
       "<Figure size 432x288 with 1 Axes>"
      ]
     },
     "metadata": {},
     "output_type": "display_data"
    }
   ],
   "source": [
    "inertia = []\n",
    "k_values = range(1, 11)\n",
    "for n_clusters in k_values:\n",
    "    kmeans = KMeans(n_clusters=n_clusters)\n",
    "    kmeans.fit(Xs)\n",
    "    inertia.append(kmeans.inertia_)\n",
    "\n",
    "fig, ax = plt.subplots()\n",
    "ax.plot(k_values, inertia, color='r', lw=4, ls='--')\n",
    "# plot_elbow_curve(model, Xstd, cluster_ranges=range(1, 11), ax=ax)\n",
    "plt.show()"
   ]
  },
  {
   "cell_type": "code",
   "execution_count": null,
   "metadata": {},
   "outputs": [],
   "source": []
  },
  {
   "cell_type": "markdown",
   "metadata": {},
   "source": [
    "# PART 2"
   ]
  },
  {
   "cell_type": "markdown",
   "metadata": {},
   "source": [
    "Now let’s turn this into a classification problem.\n",
    "\n",
    "You should exclude 5 of the weather stations from this set (You could do this by picking the\n",
    "5 last stations alphabetically).\n",
    "\n",
    "Can you predict whether they fall in the Northern Third of the UK, Central Third of the UK or\n",
    "Southern Third of the UK using only the weather data? \n",
    "\n",
    "You have latitude data for all the weather stations, so that can give you the classification for each of the weather stations in your training set. To determine the latitude of the lines dividing the UK into three, you\n",
    "should note that the most northerly point has latitude 60.9 and the most southerly point has latitude 49.9"
   ]
  },
  {
   "cell_type": "markdown",
   "metadata": {},
   "source": [
    "# 另一个想法，将individual数据都横过来，变成一个37 * 300的\n",
    "# 大的dataset，会不会对模型有帮助"
   ]
  },
  {
   "cell_type": "code",
   "execution_count": 46,
   "metadata": {},
   "outputs": [
    {
     "data": {
      "text/html": [
       "<div>\n",
       "<style scoped>\n",
       "    .dataframe tbody tr th:only-of-type {\n",
       "        vertical-align: middle;\n",
       "    }\n",
       "\n",
       "    .dataframe tbody tr th {\n",
       "        vertical-align: top;\n",
       "    }\n",
       "\n",
       "    .dataframe thead th {\n",
       "        text-align: right;\n",
       "    }\n",
       "</style>\n",
       "<table border=\"1\" class=\"dataframe\">\n",
       "  <thead>\n",
       "    <tr style=\"text-align: right;\">\n",
       "      <th></th>\n",
       "      <th>station</th>\n",
       "      <th>avg_tmx</th>\n",
       "      <th>avg_tmin</th>\n",
       "      <th>avg_af</th>\n",
       "      <th>avg_rain</th>\n",
       "      <th>avg_sun</th>\n",
       "      <th>lat</th>\n",
       "      <th>lon</th>\n",
       "    </tr>\n",
       "  </thead>\n",
       "  <tbody>\n",
       "    <tr>\n",
       "      <th>0</th>\n",
       "      <td>aberporth</td>\n",
       "      <td>12.23</td>\n",
       "      <td>7.14</td>\n",
       "      <td>1.22</td>\n",
       "      <td>76.26</td>\n",
       "      <td>83.26</td>\n",
       "      <td>52.139</td>\n",
       "      <td>-4.570</td>\n",
       "    </tr>\n",
       "    <tr>\n",
       "      <th>1</th>\n",
       "      <td>armagh</td>\n",
       "      <td>10.79</td>\n",
       "      <td>4.71</td>\n",
       "      <td>3.05</td>\n",
       "      <td>63.51</td>\n",
       "      <td>83.26</td>\n",
       "      <td>54.352</td>\n",
       "      <td>-6.649</td>\n",
       "    </tr>\n",
       "    <tr>\n",
       "      <th>2</th>\n",
       "      <td>ballypatrick_forest</td>\n",
       "      <td>10.88</td>\n",
       "      <td>5.28</td>\n",
       "      <td>2.33</td>\n",
       "      <td>60.04</td>\n",
       "      <td>83.26</td>\n",
       "      <td>55.181</td>\n",
       "      <td>-6.153</td>\n",
       "    </tr>\n",
       "    <tr>\n",
       "      <th>3</th>\n",
       "      <td>bradford</td>\n",
       "      <td>11.09</td>\n",
       "      <td>5.16</td>\n",
       "      <td>3.72</td>\n",
       "      <td>66.01</td>\n",
       "      <td>83.26</td>\n",
       "      <td>53.813</td>\n",
       "      <td>-1.772</td>\n",
       "    </tr>\n",
       "    <tr>\n",
       "      <th>4</th>\n",
       "      <td>braemar</td>\n",
       "      <td>9.23</td>\n",
       "      <td>2.43</td>\n",
       "      <td>8.64</td>\n",
       "      <td>66.70</td>\n",
       "      <td>83.26</td>\n",
       "      <td>57.006</td>\n",
       "      <td>-3.396</td>\n",
       "    </tr>\n",
       "  </tbody>\n",
       "</table>\n",
       "</div>"
      ],
      "text/plain": [
       "               station  avg_tmx  avg_tmin  avg_af  avg_rain  avg_sun     lat  \\\n",
       "0            aberporth    12.23      7.14    1.22     76.26    83.26  52.139   \n",
       "1               armagh    10.79      4.71    3.05     63.51    83.26  54.352   \n",
       "2  ballypatrick_forest    10.88      5.28    2.33     60.04    83.26  55.181   \n",
       "3             bradford    11.09      5.16    3.72     66.01    83.26  53.813   \n",
       "4              braemar     9.23      2.43    8.64     66.70    83.26  57.006   \n",
       "\n",
       "     lon  \n",
       "0 -4.570  \n",
       "1 -6.649  \n",
       "2 -6.153  \n",
       "3 -1.772  \n",
       "4 -3.396  "
      ]
     },
     "execution_count": 46,
     "metadata": {},
     "output_type": "execute_result"
    }
   ],
   "source": [
    "data.head()"
   ]
  },
  {
   "cell_type": "code",
   "execution_count": 47,
   "metadata": {},
   "outputs": [],
   "source": [
    "# lat_area: south_area(49.9 - 53.567), mid_area(53.567 - 57.233), north_area(57.233 - 60.9)\n",
    "data['areas'] = [0 if  49.9<= i <= 53.567 else 1 if 53.567< i <= 57.233\n",
    "                else 2 for i in data.lat ]"
   ]
  },
  {
   "cell_type": "code",
   "execution_count": 49,
   "metadata": {
    "scrolled": true
   },
   "outputs": [
    {
     "data": {
      "text/html": [
       "<div>\n",
       "<style scoped>\n",
       "    .dataframe tbody tr th:only-of-type {\n",
       "        vertical-align: middle;\n",
       "    }\n",
       "\n",
       "    .dataframe tbody tr th {\n",
       "        vertical-align: top;\n",
       "    }\n",
       "\n",
       "    .dataframe thead th {\n",
       "        text-align: right;\n",
       "    }\n",
       "</style>\n",
       "<table border=\"1\" class=\"dataframe\">\n",
       "  <thead>\n",
       "    <tr style=\"text-align: right;\">\n",
       "      <th></th>\n",
       "      <th>station</th>\n",
       "      <th>avg_tmx</th>\n",
       "      <th>avg_tmin</th>\n",
       "      <th>avg_af</th>\n",
       "      <th>avg_rain</th>\n",
       "      <th>avg_sun</th>\n",
       "      <th>lat</th>\n",
       "      <th>lon</th>\n",
       "      <th>areas</th>\n",
       "    </tr>\n",
       "  </thead>\n",
       "  <tbody>\n",
       "    <tr>\n",
       "      <th>32</th>\n",
       "      <td>valley</td>\n",
       "      <td>13.02</td>\n",
       "      <td>7.52</td>\n",
       "      <td>1.59</td>\n",
       "      <td>71.15</td>\n",
       "      <td>83.26</td>\n",
       "      <td>53.252</td>\n",
       "      <td>-4.535</td>\n",
       "      <td>0</td>\n",
       "    </tr>\n",
       "    <tr>\n",
       "      <th>33</th>\n",
       "      <td>waddington</td>\n",
       "      <td>13.26</td>\n",
       "      <td>5.97</td>\n",
       "      <td>3.54</td>\n",
       "      <td>50.57</td>\n",
       "      <td>83.26</td>\n",
       "      <td>53.175</td>\n",
       "      <td>-0.522</td>\n",
       "      <td>0</td>\n",
       "    </tr>\n",
       "    <tr>\n",
       "      <th>34</th>\n",
       "      <td>whitby</td>\n",
       "      <td>10.70</td>\n",
       "      <td>6.06</td>\n",
       "      <td>2.63</td>\n",
       "      <td>48.96</td>\n",
       "      <td>83.26</td>\n",
       "      <td>54.481</td>\n",
       "      <td>-0.624</td>\n",
       "      <td>1</td>\n",
       "    </tr>\n",
       "    <tr>\n",
       "      <th>35</th>\n",
       "      <td>wick_airport</td>\n",
       "      <td>9.48</td>\n",
       "      <td>4.58</td>\n",
       "      <td>3.01</td>\n",
       "      <td>59.44</td>\n",
       "      <td>83.26</td>\n",
       "      <td>58.454</td>\n",
       "      <td>-3.088</td>\n",
       "      <td>2</td>\n",
       "    </tr>\n",
       "    <tr>\n",
       "      <th>36</th>\n",
       "      <td>yeovilton</td>\n",
       "      <td>12.98</td>\n",
       "      <td>5.51</td>\n",
       "      <td>4.38</td>\n",
       "      <td>53.30</td>\n",
       "      <td>83.26</td>\n",
       "      <td>51.006</td>\n",
       "      <td>-2.641</td>\n",
       "      <td>0</td>\n",
       "    </tr>\n",
       "  </tbody>\n",
       "</table>\n",
       "</div>"
      ],
      "text/plain": [
       "         station  avg_tmx  avg_tmin  avg_af  avg_rain  avg_sun     lat    lon  \\\n",
       "32        valley    13.02      7.52    1.59     71.15    83.26  53.252 -4.535   \n",
       "33    waddington    13.26      5.97    3.54     50.57    83.26  53.175 -0.522   \n",
       "34        whitby    10.70      6.06    2.63     48.96    83.26  54.481 -0.624   \n",
       "35  wick_airport     9.48      4.58    3.01     59.44    83.26  58.454 -3.088   \n",
       "36     yeovilton    12.98      5.51    4.38     53.30    83.26  51.006 -2.641   \n",
       "\n",
       "    areas  \n",
       "32      0  \n",
       "33      0  \n",
       "34      1  \n",
       "35      2  \n",
       "36      0  "
      ]
     },
     "execution_count": 49,
     "metadata": {},
     "output_type": "execute_result"
    }
   ],
   "source": [
    "data.tail()"
   ]
  },
  {
   "cell_type": "code",
   "execution_count": 69,
   "metadata": {},
   "outputs": [],
   "source": [
    "X_train = data.iloc[:-5,1:-4]\n",
    "y_train = data.iloc[:-5,-1]\n",
    "X_test = data.iloc[-5:,1:-4]\n",
    "y_test = data.iloc[-5:,-1]"
   ]
  },
  {
   "cell_type": "markdown",
   "metadata": {},
   "source": [
    "###  Classification model"
   ]
  },
  {
   "cell_type": "code",
   "execution_count": 70,
   "metadata": {},
   "outputs": [],
   "source": [
    "X_train = scaler.fit_transform(X_train)\n",
    "X_test = scaler.transform(X_test)"
   ]
  },
  {
   "cell_type": "code",
   "execution_count": 73,
   "metadata": {},
   "outputs": [
    {
     "data": {
      "text/plain": [
       "LogisticRegression()"
      ]
     },
     "execution_count": 73,
     "metadata": {},
     "output_type": "execute_result"
    }
   ],
   "source": [
    "logreg = LogisticRegression (solver='lbfgs')\n",
    "logreg.fit(X_train, y_train)"
   ]
  },
  {
   "cell_type": "code",
   "execution_count": 76,
   "metadata": {},
   "outputs": [
    {
     "name": "stdout",
     "output_type": "stream",
     "text": [
      "Logreg intercept: [ 0.9549588   0.32806009 -1.28301889]\n",
      "Logreg coef(s): [[ 0.99234511  0.44341246 -0.1116891  -0.10733032]\n",
      " [-0.06859999 -0.40165422  0.12047447  0.16667454]\n",
      " [-0.92374512 -0.04175825 -0.00878537 -0.05934422]]\n"
     ]
    }
   ],
   "source": [
    "print('Logreg intercept:', logreg.intercept_)\n",
    "print('Logreg coef(s):', logreg.coef_)\n",
    "# print('Logreg predicted probabilities:\\n',\n",
    "#       logreg.predict_proba(y_test))"
   ]
  },
  {
   "cell_type": "code",
   "execution_count": 83,
   "metadata": {},
   "outputs": [
    {
     "data": {
      "text/plain": [
       "array([0, 1, 2])"
      ]
     },
     "execution_count": 83,
     "metadata": {},
     "output_type": "execute_result"
    }
   ],
   "source": [
    "logreg.classes_"
   ]
  },
  {
   "cell_type": "code",
   "execution_count": 86,
   "metadata": {},
   "outputs": [],
   "source": [
    "predictions = logreg.predict(X_test)"
   ]
  },
  {
   "cell_type": "code",
   "execution_count": 107,
   "metadata": {},
   "outputs": [
    {
     "name": "stdout",
     "output_type": "stream",
     "text": [
      "[0 0 0 1 0]\n",
      "[0, 0, 1, 2, 0]\n"
     ]
    }
   ],
   "source": [
    "print(predictions)\n",
    "print(list(y_test))"
   ]
  },
  {
   "cell_type": "code",
   "execution_count": 106,
   "metadata": {},
   "outputs": [
    {
     "name": "stdout",
     "output_type": "stream",
     "text": [
      "              precision    recall  f1-score   support\n",
      "\n",
      "           0     0.7500    1.0000    0.8571         3\n",
      "           1     0.0000    0.0000    0.0000         1\n",
      "           2     0.0000    0.0000    0.0000         1\n",
      "\n",
      "    accuracy                         0.6000         5\n",
      "   macro avg     0.2500    0.3333    0.2857         5\n",
      "weighted avg     0.4500    0.6000    0.5143         5\n",
      "\n"
     ]
    },
    {
     "name": "stderr",
     "output_type": "stream",
     "text": [
      "/Users/paxton615/opt/anaconda3/lib/python3.8/site-packages/sklearn/metrics/_classification.py:1221: UndefinedMetricWarning: Precision and F-score are ill-defined and being set to 0.0 in labels with no predicted samples. Use `zero_division` parameter to control this behavior.\n",
      "  _warn_prf(average, modifier, msg_start, len(result))\n"
     ]
    }
   ],
   "source": [
    "print(classification_report(y_test, predictions, digits=4))"
   ]
  },
  {
   "cell_type": "markdown",
   "metadata": {},
   "source": [
    "##### trying to improve with cross_val_score"
   ]
  },
  {
   "cell_type": "code",
   "execution_count": 97,
   "metadata": {},
   "outputs": [
    {
     "name": "stdout",
     "output_type": "stream",
     "text": [
      "[0.75       0.5        0.33333333 0.66666667 0.66666667 1.\n",
      " 1.         0.66666667 0.66666667 0.33333333]\n",
      "0.6583333333333333\n"
     ]
    },
    {
     "name": "stderr",
     "output_type": "stream",
     "text": [
      "/Users/paxton615/opt/anaconda3/lib/python3.8/site-packages/sklearn/model_selection/_split.py:670: UserWarning: The least populated class in y has only 3 members, which is less than n_splits=10.\n",
      "  warnings.warn((\"The least populated class in y has only %d\"\n"
     ]
    }
   ],
   "source": [
    "from sklearn.model_selection import cross_val_score\n",
    "accs = cross_val_score(logreg, X_train, y_train, cv=10)\n",
    "print(accs)\n",
    "print(np.mean(accs))"
   ]
  },
  {
   "cell_type": "code",
   "execution_count": null,
   "metadata": {},
   "outputs": [],
   "source": []
  },
  {
   "cell_type": "code",
   "execution_count": null,
   "metadata": {},
   "outputs": [],
   "source": []
  },
  {
   "cell_type": "code",
   "execution_count": null,
   "metadata": {},
   "outputs": [],
   "source": []
  },
  {
   "cell_type": "code",
   "execution_count": null,
   "metadata": {},
   "outputs": [],
   "source": []
  },
  {
   "cell_type": "code",
   "execution_count": null,
   "metadata": {},
   "outputs": [],
   "source": []
  },
  {
   "cell_type": "markdown",
   "metadata": {},
   "source": [
    "# PART 3 happy_cities lat and long"
   ]
  },
  {
   "cell_type": "code",
   "execution_count": 50,
   "metadata": {},
   "outputs": [
    {
     "name": "stdout",
     "output_type": "stream",
     "text": [
      "The latitude of the location is:  51.498314199999996\n",
      "The longitude of the location is:  -0.22787818358222445\n"
     ]
    }
   ],
   "source": [
    "geolocator = Nominatim(user_agent=\"MyApp\")\n",
    "location = geolocator.geocode(\"Hammersmith and Fulham \")\n",
    "\n",
    "print(\"The latitude of the location is: \", location.latitude)\n",
    "print(\"The longitude of the location is: \", location.longitude)"
   ]
  },
  {
   "cell_type": "code",
   "execution_count": 51,
   "metadata": {},
   "outputs": [],
   "source": [
    "happy_cities = pd.read_excel('/Users/paxton615/Github_Personal/Notes/Notes/Weather_stations/{}.xlsx'.format('happy_cities'))"
   ]
  },
  {
   "cell_type": "code",
   "execution_count": 52,
   "metadata": {},
   "outputs": [
    {
     "data": {
      "text/html": [
       "<div>\n",
       "<style scoped>\n",
       "    .dataframe tbody tr th:only-of-type {\n",
       "        vertical-align: middle;\n",
       "    }\n",
       "\n",
       "    .dataframe tbody tr th {\n",
       "        vertical-align: top;\n",
       "    }\n",
       "\n",
       "    .dataframe thead th {\n",
       "        text-align: right;\n",
       "    }\n",
       "</style>\n",
       "<table border=\"1\" class=\"dataframe\">\n",
       "  <thead>\n",
       "    <tr style=\"text-align: right;\">\n",
       "      <th></th>\n",
       "      <th>city</th>\n",
       "      <th>happiness</th>\n",
       "    </tr>\n",
       "  </thead>\n",
       "  <tbody>\n",
       "    <tr>\n",
       "      <th>0</th>\n",
       "      <td>Gateshead</td>\n",
       "      <td>7.25</td>\n",
       "    </tr>\n",
       "    <tr>\n",
       "      <th>1</th>\n",
       "      <td>Newcastle upon Tyne</td>\n",
       "      <td>7.20</td>\n",
       "    </tr>\n",
       "    <tr>\n",
       "      <th>2</th>\n",
       "      <td>North Tyneside</td>\n",
       "      <td>7.26</td>\n",
       "    </tr>\n",
       "    <tr>\n",
       "      <th>3</th>\n",
       "      <td>South Tyneside</td>\n",
       "      <td>7.20</td>\n",
       "    </tr>\n",
       "    <tr>\n",
       "      <th>4</th>\n",
       "      <td>Sunderland</td>\n",
       "      <td>7.27</td>\n",
       "    </tr>\n",
       "  </tbody>\n",
       "</table>\n",
       "</div>"
      ],
      "text/plain": [
       "                  city  happiness\n",
       "0            Gateshead       7.25\n",
       "1  Newcastle upon Tyne       7.20\n",
       "2       North Tyneside       7.26\n",
       "3       South Tyneside       7.20\n",
       "4           Sunderland       7.27"
      ]
     },
     "execution_count": 52,
     "metadata": {},
     "output_type": "execute_result"
    }
   ],
   "source": [
    "happy_cities.head()"
   ]
  },
  {
   "cell_type": "code",
   "execution_count": 53,
   "metadata": {},
   "outputs": [],
   "source": [
    "# 2 mins to run\n",
    "# lat = []\n",
    "# for i in happy_cities.city.tolist():\n",
    "#     try:\n",
    "#         lat.append(geolocator.geocode(i).latitude)\n",
    "#     except:\n",
    "#         lat.append(np.nan)"
   ]
  },
  {
   "cell_type": "code",
   "execution_count": 54,
   "metadata": {},
   "outputs": [],
   "source": [
    "# 2 mins to run\n",
    "# lon = []\n",
    "# for i in happy_cities.city.tolist():\n",
    "#     try:\n",
    "#         lon.append(geolocator.geocode(i).longitude)\n",
    "#     except:\n",
    "#         lon.append(np.nan)"
   ]
  },
  {
   "cell_type": "code",
   "execution_count": 126,
   "metadata": {},
   "outputs": [],
   "source": [
    "# happy_cities['lat'] = lat\n",
    "# happy_cities['lon'] = lon\n",
    "\n",
    "# happy_cities = happy_cities.dropna()\n",
    "# happy_cities.reset_index()\n",
    "# happy_cities['lat'] = [np.round(i,3) for i in happy_cities.lat]\n",
    "# happy_cities['lon'] = [np.round(i,3) for i in happy_cities.lon]\n",
    "# happy_cities"
   ]
  },
  {
   "cell_type": "code",
   "execution_count": null,
   "metadata": {},
   "outputs": [],
   "source": [
    "# happy_cities.to_csv(r'/Users/paxton615/Github_Personal/Notes/Notes/Weather_stations/happy_cities_lat_lon.csv')"
   ]
  },
  {
   "cell_type": "code",
   "execution_count": 133,
   "metadata": {},
   "outputs": [
    {
     "data": {
      "text/html": [
       "<div>\n",
       "<style scoped>\n",
       "    .dataframe tbody tr th:only-of-type {\n",
       "        vertical-align: middle;\n",
       "    }\n",
       "\n",
       "    .dataframe tbody tr th {\n",
       "        vertical-align: top;\n",
       "    }\n",
       "\n",
       "    .dataframe thead th {\n",
       "        text-align: right;\n",
       "    }\n",
       "</style>\n",
       "<table border=\"1\" class=\"dataframe\">\n",
       "  <thead>\n",
       "    <tr style=\"text-align: right;\">\n",
       "      <th></th>\n",
       "      <th>city</th>\n",
       "      <th>happiness</th>\n",
       "      <th>lat</th>\n",
       "      <th>lon</th>\n",
       "    </tr>\n",
       "  </thead>\n",
       "  <tbody>\n",
       "    <tr>\n",
       "      <th>0</th>\n",
       "      <td>Gateshead</td>\n",
       "      <td>7.25</td>\n",
       "      <td>54.963</td>\n",
       "      <td>-1.602</td>\n",
       "    </tr>\n",
       "    <tr>\n",
       "      <th>1</th>\n",
       "      <td>Newcastle upon Tyne</td>\n",
       "      <td>7.20</td>\n",
       "      <td>54.974</td>\n",
       "      <td>-1.613</td>\n",
       "    </tr>\n",
       "    <tr>\n",
       "      <th>2</th>\n",
       "      <td>North Tyneside</td>\n",
       "      <td>7.26</td>\n",
       "      <td>55.030</td>\n",
       "      <td>-1.508</td>\n",
       "    </tr>\n",
       "    <tr>\n",
       "      <th>3</th>\n",
       "      <td>South Tyneside</td>\n",
       "      <td>7.20</td>\n",
       "      <td>54.970</td>\n",
       "      <td>-1.448</td>\n",
       "    </tr>\n",
       "    <tr>\n",
       "      <th>4</th>\n",
       "      <td>Sunderland</td>\n",
       "      <td>7.27</td>\n",
       "      <td>54.906</td>\n",
       "      <td>-1.383</td>\n",
       "    </tr>\n",
       "  </tbody>\n",
       "</table>\n",
       "</div>"
      ],
      "text/plain": [
       "                  city  happiness     lat    lon\n",
       "0            Gateshead       7.25  54.963 -1.602\n",
       "1  Newcastle upon Tyne       7.20  54.974 -1.613\n",
       "2       North Tyneside       7.26  55.030 -1.508\n",
       "3       South Tyneside       7.20  54.970 -1.448\n",
       "4           Sunderland       7.27  54.906 -1.383"
      ]
     },
     "execution_count": 133,
     "metadata": {},
     "output_type": "execute_result"
    }
   ],
   "source": [
    "happy_cities = pd.read_csv('/Users/paxton615/Github_Personal/Notes/Notes/Weather_stations/happy_cities_lat_lon.csv').iloc[:,1:]\n",
    "happy_cities.head()"
   ]
  },
  {
   "cell_type": "code",
   "execution_count": 205,
   "metadata": {
    "scrolled": true
   },
   "outputs": [
    {
     "data": {
      "text/html": [
       "<div>\n",
       "<style scoped>\n",
       "    .dataframe tbody tr th:only-of-type {\n",
       "        vertical-align: middle;\n",
       "    }\n",
       "\n",
       "    .dataframe tbody tr th {\n",
       "        vertical-align: top;\n",
       "    }\n",
       "\n",
       "    .dataframe thead th {\n",
       "        text-align: right;\n",
       "    }\n",
       "</style>\n",
       "<table border=\"1\" class=\"dataframe\">\n",
       "  <thead>\n",
       "    <tr style=\"text-align: right;\">\n",
       "      <th></th>\n",
       "      <th>index</th>\n",
       "      <th>station</th>\n",
       "      <th>avg_tmx</th>\n",
       "      <th>avg_tmin</th>\n",
       "      <th>avg_af</th>\n",
       "      <th>avg_rain</th>\n",
       "      <th>avg_sun</th>\n",
       "      <th>lat</th>\n",
       "      <th>lon</th>\n",
       "      <th>areas</th>\n",
       "    </tr>\n",
       "  </thead>\n",
       "  <tbody>\n",
       "    <tr>\n",
       "      <th>0</th>\n",
       "      <td>5</td>\n",
       "      <td>camborne</td>\n",
       "      <td>13.45</td>\n",
       "      <td>8.39</td>\n",
       "      <td>0.74</td>\n",
       "      <td>89.99</td>\n",
       "      <td>83.26</td>\n",
       "      <td>50.218</td>\n",
       "      <td>-5.327</td>\n",
       "      <td>0</td>\n",
       "    </tr>\n",
       "    <tr>\n",
       "      <th>1</th>\n",
       "      <td>12</td>\n",
       "      <td>eastbourne</td>\n",
       "      <td>12.74</td>\n",
       "      <td>7.49</td>\n",
       "      <td>1.43</td>\n",
       "      <td>61.52</td>\n",
       "      <td>83.26</td>\n",
       "      <td>50.762</td>\n",
       "      <td>0.285</td>\n",
       "      <td>0</td>\n",
       "    </tr>\n",
       "    <tr>\n",
       "      <th>2</th>\n",
       "      <td>15</td>\n",
       "      <td>hurn</td>\n",
       "      <td>13.12</td>\n",
       "      <td>5.19</td>\n",
       "      <td>4.95</td>\n",
       "      <td>65.76</td>\n",
       "      <td>83.26</td>\n",
       "      <td>50.779</td>\n",
       "      <td>-1.835</td>\n",
       "      <td>0</td>\n",
       "    </tr>\n",
       "    <tr>\n",
       "      <th>3</th>\n",
       "      <td>28</td>\n",
       "      <td>southampton</td>\n",
       "      <td>12.90</td>\n",
       "      <td>6.74</td>\n",
       "      <td>3.12</td>\n",
       "      <td>62.58</td>\n",
       "      <td>83.26</td>\n",
       "      <td>50.898</td>\n",
       "      <td>-1.408</td>\n",
       "      <td>0</td>\n",
       "    </tr>\n",
       "    <tr>\n",
       "      <th>4</th>\n",
       "      <td>36</td>\n",
       "      <td>yeovilton</td>\n",
       "      <td>12.98</td>\n",
       "      <td>5.51</td>\n",
       "      <td>4.38</td>\n",
       "      <td>53.30</td>\n",
       "      <td>83.26</td>\n",
       "      <td>51.006</td>\n",
       "      <td>-2.641</td>\n",
       "      <td>0</td>\n",
       "    </tr>\n",
       "    <tr>\n",
       "      <th>5</th>\n",
       "      <td>8</td>\n",
       "      <td>chivenor</td>\n",
       "      <td>9.52</td>\n",
       "      <td>5.12</td>\n",
       "      <td>0.91</td>\n",
       "      <td>71.67</td>\n",
       "      <td>83.26</td>\n",
       "      <td>51.089</td>\n",
       "      <td>-4.147</td>\n",
       "      <td>0</td>\n",
       "    </tr>\n",
       "    <tr>\n",
       "      <th>6</th>\n",
       "      <td>19</td>\n",
       "      <td>manston</td>\n",
       "      <td>12.33</td>\n",
       "      <td>6.36</td>\n",
       "      <td>1.74</td>\n",
       "      <td>42.33</td>\n",
       "      <td>83.26</td>\n",
       "      <td>51.346</td>\n",
       "      <td>1.337</td>\n",
       "      <td>0</td>\n",
       "    </tr>\n",
       "    <tr>\n",
       "      <th>7</th>\n",
       "      <td>14</td>\n",
       "      <td>heathrow_(london_airport)</td>\n",
       "      <td>14.94</td>\n",
       "      <td>7.10</td>\n",
       "      <td>2.90</td>\n",
       "      <td>50.53</td>\n",
       "      <td>83.26</td>\n",
       "      <td>51.479</td>\n",
       "      <td>-0.449</td>\n",
       "      <td>0</td>\n",
       "    </tr>\n",
       "    <tr>\n",
       "      <th>8</th>\n",
       "      <td>7</td>\n",
       "      <td>cardiff_bute_park</td>\n",
       "      <td>13.40</td>\n",
       "      <td>6.37</td>\n",
       "      <td>2.95</td>\n",
       "      <td>92.51</td>\n",
       "      <td>83.26</td>\n",
       "      <td>51.488</td>\n",
       "      <td>-3.187</td>\n",
       "      <td>0</td>\n",
       "    </tr>\n",
       "    <tr>\n",
       "      <th>9</th>\n",
       "      <td>22</td>\n",
       "      <td>oxford</td>\n",
       "      <td>12.50</td>\n",
       "      <td>5.60</td>\n",
       "      <td>3.71</td>\n",
       "      <td>50.43</td>\n",
       "      <td>83.26</td>\n",
       "      <td>51.761</td>\n",
       "      <td>-1.262</td>\n",
       "      <td>0</td>\n",
       "    </tr>\n",
       "    <tr>\n",
       "      <th>10</th>\n",
       "      <td>25</td>\n",
       "      <td>ross_on_wye</td>\n",
       "      <td>12.66</td>\n",
       "      <td>5.57</td>\n",
       "      <td>3.76</td>\n",
       "      <td>55.04</td>\n",
       "      <td>83.26</td>\n",
       "      <td>51.911</td>\n",
       "      <td>-2.584</td>\n",
       "      <td>0</td>\n",
       "    </tr>\n",
       "    <tr>\n",
       "      <th>11</th>\n",
       "      <td>0</td>\n",
       "      <td>aberporth</td>\n",
       "      <td>12.23</td>\n",
       "      <td>7.14</td>\n",
       "      <td>1.22</td>\n",
       "      <td>76.26</td>\n",
       "      <td>83.26</td>\n",
       "      <td>52.139</td>\n",
       "      <td>-4.570</td>\n",
       "      <td>0</td>\n",
       "    </tr>\n",
       "    <tr>\n",
       "      <th>12</th>\n",
       "      <td>6</td>\n",
       "      <td>cambridge_niab</td>\n",
       "      <td>13.12</td>\n",
       "      <td>5.64</td>\n",
       "      <td>3.59</td>\n",
       "      <td>40.96</td>\n",
       "      <td>83.26</td>\n",
       "      <td>52.245</td>\n",
       "      <td>0.102</td>\n",
       "      <td>0</td>\n",
       "    </tr>\n",
       "    <tr>\n",
       "      <th>13</th>\n",
       "      <td>9</td>\n",
       "      <td>cwmystwyth</td>\n",
       "      <td>9.92</td>\n",
       "      <td>4.23</td>\n",
       "      <td>4.96</td>\n",
       "      <td>141.16</td>\n",
       "      <td>83.26</td>\n",
       "      <td>52.358</td>\n",
       "      <td>-3.802</td>\n",
       "      <td>0</td>\n",
       "    </tr>\n",
       "    <tr>\n",
       "      <th>14</th>\n",
       "      <td>18</td>\n",
       "      <td>lowestoft</td>\n",
       "      <td>11.38</td>\n",
       "      <td>6.04</td>\n",
       "      <td>2.16</td>\n",
       "      <td>39.36</td>\n",
       "      <td>83.26</td>\n",
       "      <td>52.483</td>\n",
       "      <td>1.727</td>\n",
       "      <td>0</td>\n",
       "    </tr>\n",
       "    <tr>\n",
       "      <th>15</th>\n",
       "      <td>26</td>\n",
       "      <td>shawbury</td>\n",
       "      <td>11.53</td>\n",
       "      <td>4.56</td>\n",
       "      <td>4.26</td>\n",
       "      <td>55.71</td>\n",
       "      <td>83.26</td>\n",
       "      <td>52.794</td>\n",
       "      <td>-2.663</td>\n",
       "      <td>0</td>\n",
       "    </tr>\n",
       "    <tr>\n",
       "      <th>16</th>\n",
       "      <td>30</td>\n",
       "      <td>sutton_bonington</td>\n",
       "      <td>12.50</td>\n",
       "      <td>5.33</td>\n",
       "      <td>3.98</td>\n",
       "      <td>42.81</td>\n",
       "      <td>83.26</td>\n",
       "      <td>52.833</td>\n",
       "      <td>-1.250</td>\n",
       "      <td>0</td>\n",
       "    </tr>\n",
       "    <tr>\n",
       "      <th>17</th>\n",
       "      <td>33</td>\n",
       "      <td>waddington</td>\n",
       "      <td>13.26</td>\n",
       "      <td>5.97</td>\n",
       "      <td>3.54</td>\n",
       "      <td>50.57</td>\n",
       "      <td>83.26</td>\n",
       "      <td>53.175</td>\n",
       "      <td>-0.522</td>\n",
       "      <td>0</td>\n",
       "    </tr>\n",
       "    <tr>\n",
       "      <th>18</th>\n",
       "      <td>32</td>\n",
       "      <td>valley</td>\n",
       "      <td>13.02</td>\n",
       "      <td>7.52</td>\n",
       "      <td>1.59</td>\n",
       "      <td>71.15</td>\n",
       "      <td>83.26</td>\n",
       "      <td>53.252</td>\n",
       "      <td>-4.535</td>\n",
       "      <td>0</td>\n",
       "    </tr>\n",
       "    <tr>\n",
       "      <th>19</th>\n",
       "      <td>24</td>\n",
       "      <td>ringway</td>\n",
       "      <td>12.42</td>\n",
       "      <td>5.86</td>\n",
       "      <td>3.34</td>\n",
       "      <td>50.58</td>\n",
       "      <td>83.26</td>\n",
       "      <td>53.356</td>\n",
       "      <td>-2.279</td>\n",
       "      <td>0</td>\n",
       "    </tr>\n",
       "    <tr>\n",
       "      <th>20</th>\n",
       "      <td>27</td>\n",
       "      <td>sheffield</td>\n",
       "      <td>11.39</td>\n",
       "      <td>5.51</td>\n",
       "      <td>2.85</td>\n",
       "      <td>62.54</td>\n",
       "      <td>83.26</td>\n",
       "      <td>53.381</td>\n",
       "      <td>-1.490</td>\n",
       "      <td>0</td>\n",
       "    </tr>\n",
       "    <tr>\n",
       "      <th>21</th>\n",
       "      <td>3</td>\n",
       "      <td>bradford</td>\n",
       "      <td>11.09</td>\n",
       "      <td>5.16</td>\n",
       "      <td>3.72</td>\n",
       "      <td>66.01</td>\n",
       "      <td>83.26</td>\n",
       "      <td>53.813</td>\n",
       "      <td>-1.772</td>\n",
       "      <td>1</td>\n",
       "    </tr>\n",
       "    <tr>\n",
       "      <th>22</th>\n",
       "      <td>1</td>\n",
       "      <td>armagh</td>\n",
       "      <td>10.79</td>\n",
       "      <td>4.71</td>\n",
       "      <td>3.05</td>\n",
       "      <td>63.51</td>\n",
       "      <td>83.26</td>\n",
       "      <td>54.352</td>\n",
       "      <td>-6.649</td>\n",
       "      <td>1</td>\n",
       "    </tr>\n",
       "    <tr>\n",
       "      <th>23</th>\n",
       "      <td>34</td>\n",
       "      <td>whitby</td>\n",
       "      <td>10.70</td>\n",
       "      <td>6.06</td>\n",
       "      <td>2.63</td>\n",
       "      <td>48.96</td>\n",
       "      <td>83.26</td>\n",
       "      <td>54.481</td>\n",
       "      <td>-0.624</td>\n",
       "      <td>1</td>\n",
       "    </tr>\n",
       "    <tr>\n",
       "      <th>24</th>\n",
       "      <td>21</td>\n",
       "      <td>newton_rigg</td>\n",
       "      <td>11.11</td>\n",
       "      <td>4.43</td>\n",
       "      <td>5.05</td>\n",
       "      <td>73.02</td>\n",
       "      <td>83.26</td>\n",
       "      <td>54.670</td>\n",
       "      <td>-2.786</td>\n",
       "      <td>1</td>\n",
       "    </tr>\n",
       "    <tr>\n",
       "      <th>25</th>\n",
       "      <td>11</td>\n",
       "      <td>durham</td>\n",
       "      <td>11.05</td>\n",
       "      <td>4.38</td>\n",
       "      <td>4.76</td>\n",
       "      <td>48.86</td>\n",
       "      <td>83.26</td>\n",
       "      <td>54.768</td>\n",
       "      <td>-1.585</td>\n",
       "      <td>1</td>\n",
       "    </tr>\n",
       "    <tr>\n",
       "      <th>26</th>\n",
       "      <td>2</td>\n",
       "      <td>ballypatrick_forest</td>\n",
       "      <td>10.88</td>\n",
       "      <td>5.28</td>\n",
       "      <td>2.33</td>\n",
       "      <td>60.04</td>\n",
       "      <td>83.26</td>\n",
       "      <td>55.181</td>\n",
       "      <td>-6.153</td>\n",
       "      <td>1</td>\n",
       "    </tr>\n",
       "    <tr>\n",
       "      <th>27</th>\n",
       "      <td>13</td>\n",
       "      <td>eskdalemuir</td>\n",
       "      <td>9.57</td>\n",
       "      <td>3.06</td>\n",
       "      <td>4.43</td>\n",
       "      <td>134.98</td>\n",
       "      <td>83.26</td>\n",
       "      <td>55.311</td>\n",
       "      <td>-3.206</td>\n",
       "      <td>1</td>\n",
       "    </tr>\n",
       "    <tr>\n",
       "      <th>28</th>\n",
       "      <td>23</td>\n",
       "      <td>paisley</td>\n",
       "      <td>11.57</td>\n",
       "      <td>5.72</td>\n",
       "      <td>3.17</td>\n",
       "      <td>96.26</td>\n",
       "      <td>83.26</td>\n",
       "      <td>55.846</td>\n",
       "      <td>-4.430</td>\n",
       "      <td>1</td>\n",
       "    </tr>\n",
       "    <tr>\n",
       "      <th>29</th>\n",
       "      <td>17</td>\n",
       "      <td>leuchars</td>\n",
       "      <td>10.81</td>\n",
       "      <td>4.48</td>\n",
       "      <td>4.94</td>\n",
       "      <td>57.10</td>\n",
       "      <td>83.26</td>\n",
       "      <td>56.377</td>\n",
       "      <td>-2.861</td>\n",
       "      <td>1</td>\n",
       "    </tr>\n",
       "    <tr>\n",
       "      <th>30</th>\n",
       "      <td>10</td>\n",
       "      <td>dunstaffnage</td>\n",
       "      <td>10.94</td>\n",
       "      <td>5.40</td>\n",
       "      <td>2.31</td>\n",
       "      <td>132.96</td>\n",
       "      <td>83.26</td>\n",
       "      <td>56.451</td>\n",
       "      <td>-5.439</td>\n",
       "      <td>1</td>\n",
       "    </tr>\n",
       "    <tr>\n",
       "      <th>31</th>\n",
       "      <td>31</td>\n",
       "      <td>tiree</td>\n",
       "      <td>10.25</td>\n",
       "      <td>5.86</td>\n",
       "      <td>1.10</td>\n",
       "      <td>91.61</td>\n",
       "      <td>83.26</td>\n",
       "      <td>56.500</td>\n",
       "      <td>-6.880</td>\n",
       "      <td>1</td>\n",
       "    </tr>\n",
       "    <tr>\n",
       "      <th>32</th>\n",
       "      <td>4</td>\n",
       "      <td>braemar</td>\n",
       "      <td>9.23</td>\n",
       "      <td>2.43</td>\n",
       "      <td>8.64</td>\n",
       "      <td>66.70</td>\n",
       "      <td>83.26</td>\n",
       "      <td>57.006</td>\n",
       "      <td>-3.396</td>\n",
       "      <td>1</td>\n",
       "    </tr>\n",
       "    <tr>\n",
       "      <th>33</th>\n",
       "      <td>20</td>\n",
       "      <td>nairn</td>\n",
       "      <td>10.57</td>\n",
       "      <td>4.43</td>\n",
       "      <td>4.37</td>\n",
       "      <td>48.14</td>\n",
       "      <td>83.26</td>\n",
       "      <td>57.593</td>\n",
       "      <td>-3.821</td>\n",
       "      <td>2</td>\n",
       "    </tr>\n",
       "    <tr>\n",
       "      <th>34</th>\n",
       "      <td>29</td>\n",
       "      <td>stornoway</td>\n",
       "      <td>9.84</td>\n",
       "      <td>4.81</td>\n",
       "      <td>2.75</td>\n",
       "      <td>95.83</td>\n",
       "      <td>83.26</td>\n",
       "      <td>58.214</td>\n",
       "      <td>-6.318</td>\n",
       "      <td>2</td>\n",
       "    </tr>\n",
       "    <tr>\n",
       "      <th>35</th>\n",
       "      <td>35</td>\n",
       "      <td>wick_airport</td>\n",
       "      <td>9.48</td>\n",
       "      <td>4.58</td>\n",
       "      <td>3.01</td>\n",
       "      <td>59.44</td>\n",
       "      <td>83.26</td>\n",
       "      <td>58.454</td>\n",
       "      <td>-3.088</td>\n",
       "      <td>2</td>\n",
       "    </tr>\n",
       "    <tr>\n",
       "      <th>36</th>\n",
       "      <td>16</td>\n",
       "      <td>lerwick</td>\n",
       "      <td>9.49</td>\n",
       "      <td>5.07</td>\n",
       "      <td>3.15</td>\n",
       "      <td>93.23</td>\n",
       "      <td>83.26</td>\n",
       "      <td>60.139</td>\n",
       "      <td>-1.183</td>\n",
       "      <td>2</td>\n",
       "    </tr>\n",
       "  </tbody>\n",
       "</table>\n",
       "</div>"
      ],
      "text/plain": [
       "    index                    station  avg_tmx  avg_tmin  avg_af  avg_rain  \\\n",
       "0       5                   camborne    13.45      8.39    0.74     89.99   \n",
       "1      12                 eastbourne    12.74      7.49    1.43     61.52   \n",
       "2      15                       hurn    13.12      5.19    4.95     65.76   \n",
       "3      28                southampton    12.90      6.74    3.12     62.58   \n",
       "4      36                  yeovilton    12.98      5.51    4.38     53.30   \n",
       "5       8                   chivenor     9.52      5.12    0.91     71.67   \n",
       "6      19                    manston    12.33      6.36    1.74     42.33   \n",
       "7      14  heathrow_(london_airport)    14.94      7.10    2.90     50.53   \n",
       "8       7          cardiff_bute_park    13.40      6.37    2.95     92.51   \n",
       "9      22                     oxford    12.50      5.60    3.71     50.43   \n",
       "10     25                ross_on_wye    12.66      5.57    3.76     55.04   \n",
       "11      0                  aberporth    12.23      7.14    1.22     76.26   \n",
       "12      6             cambridge_niab    13.12      5.64    3.59     40.96   \n",
       "13      9                 cwmystwyth     9.92      4.23    4.96    141.16   \n",
       "14     18                  lowestoft    11.38      6.04    2.16     39.36   \n",
       "15     26                   shawbury    11.53      4.56    4.26     55.71   \n",
       "16     30           sutton_bonington    12.50      5.33    3.98     42.81   \n",
       "17     33                 waddington    13.26      5.97    3.54     50.57   \n",
       "18     32                     valley    13.02      7.52    1.59     71.15   \n",
       "19     24                    ringway    12.42      5.86    3.34     50.58   \n",
       "20     27                  sheffield    11.39      5.51    2.85     62.54   \n",
       "21      3                   bradford    11.09      5.16    3.72     66.01   \n",
       "22      1                     armagh    10.79      4.71    3.05     63.51   \n",
       "23     34                     whitby    10.70      6.06    2.63     48.96   \n",
       "24     21                newton_rigg    11.11      4.43    5.05     73.02   \n",
       "25     11                     durham    11.05      4.38    4.76     48.86   \n",
       "26      2        ballypatrick_forest    10.88      5.28    2.33     60.04   \n",
       "27     13                eskdalemuir     9.57      3.06    4.43    134.98   \n",
       "28     23                    paisley    11.57      5.72    3.17     96.26   \n",
       "29     17                   leuchars    10.81      4.48    4.94     57.10   \n",
       "30     10               dunstaffnage    10.94      5.40    2.31    132.96   \n",
       "31     31                      tiree    10.25      5.86    1.10     91.61   \n",
       "32      4                    braemar     9.23      2.43    8.64     66.70   \n",
       "33     20                      nairn    10.57      4.43    4.37     48.14   \n",
       "34     29                  stornoway     9.84      4.81    2.75     95.83   \n",
       "35     35               wick_airport     9.48      4.58    3.01     59.44   \n",
       "36     16                    lerwick     9.49      5.07    3.15     93.23   \n",
       "\n",
       "    avg_sun     lat    lon  areas  \n",
       "0     83.26  50.218 -5.327      0  \n",
       "1     83.26  50.762  0.285      0  \n",
       "2     83.26  50.779 -1.835      0  \n",
       "3     83.26  50.898 -1.408      0  \n",
       "4     83.26  51.006 -2.641      0  \n",
       "5     83.26  51.089 -4.147      0  \n",
       "6     83.26  51.346  1.337      0  \n",
       "7     83.26  51.479 -0.449      0  \n",
       "8     83.26  51.488 -3.187      0  \n",
       "9     83.26  51.761 -1.262      0  \n",
       "10    83.26  51.911 -2.584      0  \n",
       "11    83.26  52.139 -4.570      0  \n",
       "12    83.26  52.245  0.102      0  \n",
       "13    83.26  52.358 -3.802      0  \n",
       "14    83.26  52.483  1.727      0  \n",
       "15    83.26  52.794 -2.663      0  \n",
       "16    83.26  52.833 -1.250      0  \n",
       "17    83.26  53.175 -0.522      0  \n",
       "18    83.26  53.252 -4.535      0  \n",
       "19    83.26  53.356 -2.279      0  \n",
       "20    83.26  53.381 -1.490      0  \n",
       "21    83.26  53.813 -1.772      1  \n",
       "22    83.26  54.352 -6.649      1  \n",
       "23    83.26  54.481 -0.624      1  \n",
       "24    83.26  54.670 -2.786      1  \n",
       "25    83.26  54.768 -1.585      1  \n",
       "26    83.26  55.181 -6.153      1  \n",
       "27    83.26  55.311 -3.206      1  \n",
       "28    83.26  55.846 -4.430      1  \n",
       "29    83.26  56.377 -2.861      1  \n",
       "30    83.26  56.451 -5.439      1  \n",
       "31    83.26  56.500 -6.880      1  \n",
       "32    83.26  57.006 -3.396      1  \n",
       "33    83.26  57.593 -3.821      2  \n",
       "34    83.26  58.214 -6.318      2  \n",
       "35    83.26  58.454 -3.088      2  \n",
       "36    83.26  60.139 -1.183      2  "
      ]
     },
     "execution_count": 205,
     "metadata": {},
     "output_type": "execute_result"
    }
   ],
   "source": [
    "ascending_data = data.sort_values(by='lat', ascending=True)\n",
    "ascending_data = ascending_data.reset_index()\n",
    "ascending_data"
   ]
  },
  {
   "cell_type": "code",
   "execution_count": 157,
   "metadata": {},
   "outputs": [],
   "source": [
    "# happy_cities.sort_values(by='lat', ascending=True) # 有些lat小于50.218甚至为负数, 有些大于60.139"
   ]
  },
  {
   "cell_type": "code",
   "execution_count": 163,
   "metadata": {},
   "outputs": [
    {
     "data": {
      "text/html": [
       "<div>\n",
       "<style scoped>\n",
       "    .dataframe tbody tr th:only-of-type {\n",
       "        vertical-align: middle;\n",
       "    }\n",
       "\n",
       "    .dataframe tbody tr th {\n",
       "        vertical-align: top;\n",
       "    }\n",
       "\n",
       "    .dataframe thead th {\n",
       "        text-align: right;\n",
       "    }\n",
       "</style>\n",
       "<table border=\"1\" class=\"dataframe\">\n",
       "  <thead>\n",
       "    <tr style=\"text-align: right;\">\n",
       "      <th></th>\n",
       "      <th>index</th>\n",
       "      <th>city</th>\n",
       "      <th>happiness</th>\n",
       "      <th>lat</th>\n",
       "      <th>lon</th>\n",
       "    </tr>\n",
       "  </thead>\n",
       "  <tbody>\n",
       "    <tr>\n",
       "      <th>0</th>\n",
       "      <td>245</td>\n",
       "      <td>South Hams</td>\n",
       "      <td>7.65</td>\n",
       "      <td>50.372</td>\n",
       "      <td>-3.816</td>\n",
       "    </tr>\n",
       "  </tbody>\n",
       "</table>\n",
       "</div>"
      ],
      "text/plain": [
       "   index        city  happiness     lat    lon\n",
       "0    245  South Hams       7.65  50.372 -3.816"
      ]
     },
     "execution_count": 163,
     "metadata": {},
     "output_type": "execute_result"
    }
   ],
   "source": [
    "happy_cities_limited = happy_cities[ (happy_cities['lat'] <=60.139) & (happy_cities['lat'] >= 50.218 )].sort_values(by='lat', ascending=True).reset_index()\n",
    "happy_cities_limited.head(1)"
   ]
  },
  {
   "cell_type": "code",
   "execution_count": 530,
   "metadata": {},
   "outputs": [
    {
     "data": {
      "text/plain": [
       "302"
      ]
     },
     "execution_count": 530,
     "metadata": {},
     "output_type": "execute_result"
    }
   ],
   "source": [
    "len(happy_cities_limited.lat)"
   ]
  },
  {
   "cell_type": "code",
   "execution_count": null,
   "metadata": {},
   "outputs": [],
   "source": [
    "# 用happy 去比较 ascending, 如果一但大于某个值，则"
   ]
  },
  {
   "cell_type": "code",
   "execution_count": 517,
   "metadata": {},
   "outputs": [],
   "source": [
    "xx = [2,4,6] #标杆\n",
    "yy = [2.2,3,5,5.5] #希望被标记的值"
   ]
  },
  {
   "cell_type": "code",
   "execution_count": 522,
   "metadata": {},
   "outputs": [
    {
     "data": {
      "text/plain": [
       "0    50.218\n",
       "1    50.762\n",
       "2    50.779\n",
       "Name: lat, dtype: float64"
      ]
     },
     "execution_count": 522,
     "metadata": {},
     "output_type": "execute_result"
    }
   ],
   "source": [
    "xx = ascending_data.lat\n",
    "xx[:3]"
   ]
  },
  {
   "cell_type": "code",
   "execution_count": 535,
   "metadata": {},
   "outputs": [
    {
     "data": {
      "text/plain": [
       "0    50.372\n",
       "1    50.596\n",
       "2    50.613\n",
       "Name: lat, dtype: float64"
      ]
     },
     "execution_count": 535,
     "metadata": {},
     "output_type": "execute_result"
    }
   ],
   "source": [
    "yy = happy_cities_limited.lat\n",
    "yy[:3]"
   ]
  },
  {
   "cell_type": "code",
   "execution_count": 533,
   "metadata": {},
   "outputs": [
    {
     "data": {
      "text/plain": [
       "34    58.214\n",
       "35    58.454\n",
       "36    60.139\n",
       "Name: lat, dtype: float64"
      ]
     },
     "execution_count": 533,
     "metadata": {},
     "output_type": "execute_result"
    }
   ],
   "source": [
    "xx[-3:]"
   ]
  },
  {
   "cell_type": "code",
   "execution_count": 534,
   "metadata": {},
   "outputs": [
    {
     "data": {
      "text/plain": [
       "299    57.667\n",
       "300    59.013\n",
       "301    59.119\n",
       "Name: lat, dtype: float64"
      ]
     },
     "execution_count": 534,
     "metadata": {},
     "output_type": "execute_result"
    }
   ],
   "source": [
    "yy[-3:]"
   ]
  },
  {
   "cell_type": "code",
   "execution_count": 524,
   "metadata": {},
   "outputs": [],
   "source": [
    "lst=[]\n",
    "for j in yy:\n",
    "    lt = []\n",
    "    for i in xx:\n",
    "        if j > i:\n",
    "            lt.append(1)\n",
    "        else:\n",
    "            lt.append(0)\n",
    "    lst.append(lt)\n",
    "        "
   ]
  },
  {
   "cell_type": "code",
   "execution_count": 529,
   "metadata": {},
   "outputs": [
    {
     "data": {
      "text/plain": [
       "[1, 0, 0]"
      ]
     },
     "execution_count": 529,
     "metadata": {},
     "output_type": "execute_result"
    }
   ],
   "source": [
    "lst[0][:3]"
   ]
  },
  {
   "cell_type": "code",
   "execution_count": 536,
   "metadata": {},
   "outputs": [],
   "source": [
    "station_index = [sum(i)-1 for i in lst]"
   ]
  },
  {
   "cell_type": "code",
   "execution_count": 537,
   "metadata": {},
   "outputs": [
    {
     "data": {
      "text/html": [
       "<div>\n",
       "<style scoped>\n",
       "    .dataframe tbody tr th:only-of-type {\n",
       "        vertical-align: middle;\n",
       "    }\n",
       "\n",
       "    .dataframe tbody tr th {\n",
       "        vertical-align: top;\n",
       "    }\n",
       "\n",
       "    .dataframe thead th {\n",
       "        text-align: right;\n",
       "    }\n",
       "</style>\n",
       "<table border=\"1\" class=\"dataframe\">\n",
       "  <thead>\n",
       "    <tr style=\"text-align: right;\">\n",
       "      <th></th>\n",
       "      <th>index</th>\n",
       "      <th>city</th>\n",
       "      <th>happiness</th>\n",
       "      <th>lat</th>\n",
       "      <th>lon</th>\n",
       "      <th>station_index</th>\n",
       "    </tr>\n",
       "  </thead>\n",
       "  <tbody>\n",
       "    <tr>\n",
       "      <th>0</th>\n",
       "      <td>245</td>\n",
       "      <td>South Hams</td>\n",
       "      <td>7.65</td>\n",
       "      <td>50.372</td>\n",
       "      <td>-3.816</td>\n",
       "      <td>0</td>\n",
       "    </tr>\n",
       "    <tr>\n",
       "      <th>1</th>\n",
       "      <td>254</td>\n",
       "      <td>Weymouth and Portland</td>\n",
       "      <td>7.61</td>\n",
       "      <td>50.596</td>\n",
       "      <td>-2.472</td>\n",
       "      <td>0</td>\n",
       "    </tr>\n",
       "    <tr>\n",
       "      <th>2</th>\n",
       "      <td>246</td>\n",
       "      <td>Teignbridge</td>\n",
       "      <td>7.88</td>\n",
       "      <td>50.613</td>\n",
       "      <td>-3.656</td>\n",
       "      <td>0</td>\n",
       "    </tr>\n",
       "    <tr>\n",
       "      <th>3</th>\n",
       "      <td>248</td>\n",
       "      <td>West Devon</td>\n",
       "      <td>7.29</td>\n",
       "      <td>50.652</td>\n",
       "      <td>-4.074</td>\n",
       "      <td>0</td>\n",
       "    </tr>\n",
       "    <tr>\n",
       "      <th>4</th>\n",
       "      <td>252</td>\n",
       "      <td>Purbeck</td>\n",
       "      <td>7.74</td>\n",
       "      <td>50.685</td>\n",
       "      <td>-2.126</td>\n",
       "      <td>0</td>\n",
       "    </tr>\n",
       "    <tr>\n",
       "      <th>...</th>\n",
       "      <td>...</td>\n",
       "      <td>...</td>\n",
       "      <td>...</td>\n",
       "      <td>...</td>\n",
       "      <td>...</td>\n",
       "      <td>...</td>\n",
       "    </tr>\n",
       "    <tr>\n",
       "      <th>297</th>\n",
       "      <td>309</td>\n",
       "      <td>Moray</td>\n",
       "      <td>7.50</td>\n",
       "      <td>57.417</td>\n",
       "      <td>-3.250</td>\n",
       "      <td>32</td>\n",
       "    </tr>\n",
       "    <tr>\n",
       "      <th>298</th>\n",
       "      <td>306</td>\n",
       "      <td>Highland</td>\n",
       "      <td>7.79</td>\n",
       "      <td>57.507</td>\n",
       "      <td>-5.004</td>\n",
       "      <td>32</td>\n",
       "    </tr>\n",
       "    <tr>\n",
       "      <th>299</th>\n",
       "      <td>300</td>\n",
       "      <td>Eilean Siar</td>\n",
       "      <td>8.15</td>\n",
       "      <td>57.667</td>\n",
       "      <td>-7.167</td>\n",
       "      <td>33</td>\n",
       "    </tr>\n",
       "    <tr>\n",
       "      <th>300</th>\n",
       "      <td>301</td>\n",
       "      <td>Orkney Islands</td>\n",
       "      <td>8.09</td>\n",
       "      <td>59.013</td>\n",
       "      <td>-3.231</td>\n",
       "      <td>35</td>\n",
       "    </tr>\n",
       "    <tr>\n",
       "      <th>301</th>\n",
       "      <td>32</td>\n",
       "      <td>Wyre</td>\n",
       "      <td>7.48</td>\n",
       "      <td>59.119</td>\n",
       "      <td>-2.970</td>\n",
       "      <td>35</td>\n",
       "    </tr>\n",
       "  </tbody>\n",
       "</table>\n",
       "<p>302 rows × 6 columns</p>\n",
       "</div>"
      ],
      "text/plain": [
       "     index                   city  happiness     lat    lon  station_index\n",
       "0      245             South Hams       7.65  50.372 -3.816              0\n",
       "1      254  Weymouth and Portland       7.61  50.596 -2.472              0\n",
       "2      246            Teignbridge       7.88  50.613 -3.656              0\n",
       "3      248             West Devon       7.29  50.652 -4.074              0\n",
       "4      252                Purbeck       7.74  50.685 -2.126              0\n",
       "..     ...                    ...        ...     ...    ...            ...\n",
       "297    309                  Moray       7.50  57.417 -3.250             32\n",
       "298    306               Highland       7.79  57.507 -5.004             32\n",
       "299    300            Eilean Siar       8.15  57.667 -7.167             33\n",
       "300    301         Orkney Islands       8.09  59.013 -3.231             35\n",
       "301     32                   Wyre       7.48  59.119 -2.970             35\n",
       "\n",
       "[302 rows x 6 columns]"
      ]
     },
     "execution_count": 537,
     "metadata": {},
     "output_type": "execute_result"
    }
   ],
   "source": [
    "happy_cities_limited['station_index'] = station_index\n",
    "happy_cities_limited"
   ]
  },
  {
   "cell_type": "code",
   "execution_count": 541,
   "metadata": {},
   "outputs": [],
   "source": [
    "ascending_data = ascending_data.reset_index()"
   ]
  },
  {
   "cell_type": "code",
   "execution_count": 542,
   "metadata": {},
   "outputs": [],
   "source": [
    "ascending_data = ascending_data.rename(columns = {'level_0':'station_index'})"
   ]
  },
  {
   "cell_type": "code",
   "execution_count": 545,
   "metadata": {},
   "outputs": [
    {
     "data": {
      "text/html": [
       "<div>\n",
       "<style scoped>\n",
       "    .dataframe tbody tr th:only-of-type {\n",
       "        vertical-align: middle;\n",
       "    }\n",
       "\n",
       "    .dataframe tbody tr th {\n",
       "        vertical-align: top;\n",
       "    }\n",
       "\n",
       "    .dataframe thead th {\n",
       "        text-align: right;\n",
       "    }\n",
       "</style>\n",
       "<table border=\"1\" class=\"dataframe\">\n",
       "  <thead>\n",
       "    <tr style=\"text-align: right;\">\n",
       "      <th></th>\n",
       "      <th>index_x</th>\n",
       "      <th>city</th>\n",
       "      <th>happiness</th>\n",
       "      <th>lat_x</th>\n",
       "      <th>lon_x</th>\n",
       "      <th>station_index</th>\n",
       "      <th>index_y</th>\n",
       "      <th>station</th>\n",
       "      <th>avg_tmx</th>\n",
       "      <th>avg_tmin</th>\n",
       "      <th>avg_af</th>\n",
       "      <th>avg_rain</th>\n",
       "      <th>avg_sun</th>\n",
       "      <th>lat_y</th>\n",
       "      <th>lon_y</th>\n",
       "      <th>areas</th>\n",
       "    </tr>\n",
       "  </thead>\n",
       "  <tbody>\n",
       "    <tr>\n",
       "      <th>0</th>\n",
       "      <td>245</td>\n",
       "      <td>South Hams</td>\n",
       "      <td>7.65</td>\n",
       "      <td>50.372</td>\n",
       "      <td>-3.816</td>\n",
       "      <td>0</td>\n",
       "      <td>5</td>\n",
       "      <td>camborne</td>\n",
       "      <td>13.45</td>\n",
       "      <td>8.39</td>\n",
       "      <td>0.74</td>\n",
       "      <td>89.99</td>\n",
       "      <td>83.26</td>\n",
       "      <td>50.218</td>\n",
       "      <td>-5.327</td>\n",
       "      <td>0</td>\n",
       "    </tr>\n",
       "    <tr>\n",
       "      <th>1</th>\n",
       "      <td>254</td>\n",
       "      <td>Weymouth and Portland</td>\n",
       "      <td>7.61</td>\n",
       "      <td>50.596</td>\n",
       "      <td>-2.472</td>\n",
       "      <td>0</td>\n",
       "      <td>5</td>\n",
       "      <td>camborne</td>\n",
       "      <td>13.45</td>\n",
       "      <td>8.39</td>\n",
       "      <td>0.74</td>\n",
       "      <td>89.99</td>\n",
       "      <td>83.26</td>\n",
       "      <td>50.218</td>\n",
       "      <td>-5.327</td>\n",
       "      <td>0</td>\n",
       "    </tr>\n",
       "    <tr>\n",
       "      <th>2</th>\n",
       "      <td>246</td>\n",
       "      <td>Teignbridge</td>\n",
       "      <td>7.88</td>\n",
       "      <td>50.613</td>\n",
       "      <td>-3.656</td>\n",
       "      <td>0</td>\n",
       "      <td>5</td>\n",
       "      <td>camborne</td>\n",
       "      <td>13.45</td>\n",
       "      <td>8.39</td>\n",
       "      <td>0.74</td>\n",
       "      <td>89.99</td>\n",
       "      <td>83.26</td>\n",
       "      <td>50.218</td>\n",
       "      <td>-5.327</td>\n",
       "      <td>0</td>\n",
       "    </tr>\n",
       "    <tr>\n",
       "      <th>3</th>\n",
       "      <td>248</td>\n",
       "      <td>West Devon</td>\n",
       "      <td>7.29</td>\n",
       "      <td>50.652</td>\n",
       "      <td>-4.074</td>\n",
       "      <td>0</td>\n",
       "      <td>5</td>\n",
       "      <td>camborne</td>\n",
       "      <td>13.45</td>\n",
       "      <td>8.39</td>\n",
       "      <td>0.74</td>\n",
       "      <td>89.99</td>\n",
       "      <td>83.26</td>\n",
       "      <td>50.218</td>\n",
       "      <td>-5.327</td>\n",
       "      <td>0</td>\n",
       "    </tr>\n",
       "    <tr>\n",
       "      <th>4</th>\n",
       "      <td>252</td>\n",
       "      <td>Purbeck</td>\n",
       "      <td>7.74</td>\n",
       "      <td>50.685</td>\n",
       "      <td>-2.126</td>\n",
       "      <td>0</td>\n",
       "      <td>5</td>\n",
       "      <td>camborne</td>\n",
       "      <td>13.45</td>\n",
       "      <td>8.39</td>\n",
       "      <td>0.74</td>\n",
       "      <td>89.99</td>\n",
       "      <td>83.26</td>\n",
       "      <td>50.218</td>\n",
       "      <td>-5.327</td>\n",
       "      <td>0</td>\n",
       "    </tr>\n",
       "  </tbody>\n",
       "</table>\n",
       "</div>"
      ],
      "text/plain": [
       "   index_x                   city  happiness   lat_x  lon_x  station_index  \\\n",
       "0      245             South Hams       7.65  50.372 -3.816              0   \n",
       "1      254  Weymouth and Portland       7.61  50.596 -2.472              0   \n",
       "2      246            Teignbridge       7.88  50.613 -3.656              0   \n",
       "3      248             West Devon       7.29  50.652 -4.074              0   \n",
       "4      252                Purbeck       7.74  50.685 -2.126              0   \n",
       "\n",
       "   index_y   station  avg_tmx  avg_tmin  avg_af  avg_rain  avg_sun   lat_y  \\\n",
       "0        5  camborne    13.45      8.39    0.74     89.99    83.26  50.218   \n",
       "1        5  camborne    13.45      8.39    0.74     89.99    83.26  50.218   \n",
       "2        5  camborne    13.45      8.39    0.74     89.99    83.26  50.218   \n",
       "3        5  camborne    13.45      8.39    0.74     89.99    83.26  50.218   \n",
       "4        5  camborne    13.45      8.39    0.74     89.99    83.26  50.218   \n",
       "\n",
       "   lon_y  areas  \n",
       "0 -5.327      0  \n",
       "1 -5.327      0  \n",
       "2 -5.327      0  \n",
       "3 -5.327      0  \n",
       "4 -5.327      0  "
      ]
     },
     "execution_count": 545,
     "metadata": {},
     "output_type": "execute_result"
    }
   ],
   "source": [
    "df = pd.merge(happy_cities_limited, ascending_data, on=\"station_index\", how=\"left\")\n",
    "df.head()"
   ]
  },
  {
   "cell_type": "code",
   "execution_count": 547,
   "metadata": {},
   "outputs": [
    {
     "data": {
      "text/plain": [
       "Index(['index_x', 'city', 'happiness', 'lat_x', 'lon_x', 'station_index',\n",
       "       'index_y', 'station', 'avg_tmx', 'avg_tmin', 'avg_af', 'avg_rain',\n",
       "       'avg_sun', 'lat_y', 'lon_y', 'areas'],\n",
       "      dtype='object')"
      ]
     },
     "execution_count": 547,
     "metadata": {},
     "output_type": "execute_result"
    }
   ],
   "source": [
    "df.columns"
   ]
  },
  {
   "cell_type": "code",
   "execution_count": 548,
   "metadata": {},
   "outputs": [],
   "source": [
    "new_df = df[[ 'city', 'happiness', 'lat_x', 'lon_x', \n",
    "       'station', 'avg_tmx', 'avg_tmin', 'avg_af', 'avg_rain',\n",
    "       'avg_sun']]"
   ]
  },
  {
   "cell_type": "code",
   "execution_count": 549,
   "metadata": {},
   "outputs": [
    {
     "data": {
      "text/plain": [
       "city         0\n",
       "happiness    0\n",
       "lat_x        0\n",
       "lon_x        0\n",
       "station      0\n",
       "avg_tmx      0\n",
       "avg_tmin     0\n",
       "avg_af       0\n",
       "avg_rain     0\n",
       "avg_sun      0\n",
       "dtype: int64"
      ]
     },
     "execution_count": 549,
     "metadata": {},
     "output_type": "execute_result"
    }
   ],
   "source": [
    "new_df.isna().sum()"
   ]
  },
  {
   "cell_type": "code",
   "execution_count": 556,
   "metadata": {},
   "outputs": [
    {
     "data": {
      "text/html": [
       "<div>\n",
       "<style scoped>\n",
       "    .dataframe tbody tr th:only-of-type {\n",
       "        vertical-align: middle;\n",
       "    }\n",
       "\n",
       "    .dataframe tbody tr th {\n",
       "        vertical-align: top;\n",
       "    }\n",
       "\n",
       "    .dataframe thead th {\n",
       "        text-align: right;\n",
       "    }\n",
       "</style>\n",
       "<table border=\"1\" class=\"dataframe\">\n",
       "  <thead>\n",
       "    <tr style=\"text-align: right;\">\n",
       "      <th></th>\n",
       "      <th>city</th>\n",
       "      <th>happiness</th>\n",
       "      <th>lat_x</th>\n",
       "      <th>lon_x</th>\n",
       "      <th>station</th>\n",
       "      <th>avg_tmx</th>\n",
       "      <th>avg_tmin</th>\n",
       "      <th>avg_af</th>\n",
       "      <th>avg_rain</th>\n",
       "      <th>avg_sun</th>\n",
       "    </tr>\n",
       "  </thead>\n",
       "  <tbody>\n",
       "    <tr>\n",
       "      <th>0</th>\n",
       "      <td>South Hams</td>\n",
       "      <td>7.65</td>\n",
       "      <td>50.372</td>\n",
       "      <td>-3.816</td>\n",
       "      <td>camborne</td>\n",
       "      <td>13.45</td>\n",
       "      <td>8.39</td>\n",
       "      <td>0.74</td>\n",
       "      <td>89.99</td>\n",
       "      <td>83.26</td>\n",
       "    </tr>\n",
       "    <tr>\n",
       "      <th>1</th>\n",
       "      <td>Weymouth and Portland</td>\n",
       "      <td>7.61</td>\n",
       "      <td>50.596</td>\n",
       "      <td>-2.472</td>\n",
       "      <td>camborne</td>\n",
       "      <td>13.45</td>\n",
       "      <td>8.39</td>\n",
       "      <td>0.74</td>\n",
       "      <td>89.99</td>\n",
       "      <td>83.26</td>\n",
       "    </tr>\n",
       "    <tr>\n",
       "      <th>2</th>\n",
       "      <td>Teignbridge</td>\n",
       "      <td>7.88</td>\n",
       "      <td>50.613</td>\n",
       "      <td>-3.656</td>\n",
       "      <td>camborne</td>\n",
       "      <td>13.45</td>\n",
       "      <td>8.39</td>\n",
       "      <td>0.74</td>\n",
       "      <td>89.99</td>\n",
       "      <td>83.26</td>\n",
       "    </tr>\n",
       "    <tr>\n",
       "      <th>3</th>\n",
       "      <td>West Devon</td>\n",
       "      <td>7.29</td>\n",
       "      <td>50.652</td>\n",
       "      <td>-4.074</td>\n",
       "      <td>camborne</td>\n",
       "      <td>13.45</td>\n",
       "      <td>8.39</td>\n",
       "      <td>0.74</td>\n",
       "      <td>89.99</td>\n",
       "      <td>83.26</td>\n",
       "    </tr>\n",
       "    <tr>\n",
       "      <th>4</th>\n",
       "      <td>Purbeck</td>\n",
       "      <td>7.74</td>\n",
       "      <td>50.685</td>\n",
       "      <td>-2.126</td>\n",
       "      <td>camborne</td>\n",
       "      <td>13.45</td>\n",
       "      <td>8.39</td>\n",
       "      <td>0.74</td>\n",
       "      <td>89.99</td>\n",
       "      <td>83.26</td>\n",
       "    </tr>\n",
       "    <tr>\n",
       "      <th>5</th>\n",
       "      <td>Craven</td>\n",
       "      <td>7.72</td>\n",
       "      <td>50.707</td>\n",
       "      <td>-104.809</td>\n",
       "      <td>camborne</td>\n",
       "      <td>13.45</td>\n",
       "      <td>8.39</td>\n",
       "      <td>0.74</td>\n",
       "      <td>89.99</td>\n",
       "      <td>83.26</td>\n",
       "    </tr>\n",
       "    <tr>\n",
       "      <th>6</th>\n",
       "      <td>Exeter</td>\n",
       "      <td>7.45</td>\n",
       "      <td>50.726</td>\n",
       "      <td>-3.527</td>\n",
       "      <td>camborne</td>\n",
       "      <td>13.45</td>\n",
       "      <td>8.39</td>\n",
       "      <td>0.74</td>\n",
       "      <td>89.99</td>\n",
       "      <td>83.26</td>\n",
       "    </tr>\n",
       "    <tr>\n",
       "      <th>7</th>\n",
       "      <td>East Devon</td>\n",
       "      <td>7.96</td>\n",
       "      <td>50.757</td>\n",
       "      <td>-3.222</td>\n",
       "      <td>camborne</td>\n",
       "      <td>13.45</td>\n",
       "      <td>8.39</td>\n",
       "      <td>0.74</td>\n",
       "      <td>89.99</td>\n",
       "      <td>83.26</td>\n",
       "    </tr>\n",
       "    <tr>\n",
       "      <th>8</th>\n",
       "      <td>Eastbourne</td>\n",
       "      <td>7.43</td>\n",
       "      <td>50.766</td>\n",
       "      <td>0.278</td>\n",
       "      <td>eastbourne</td>\n",
       "      <td>12.74</td>\n",
       "      <td>7.49</td>\n",
       "      <td>1.43</td>\n",
       "      <td>61.52</td>\n",
       "      <td>83.26</td>\n",
       "    </tr>\n",
       "    <tr>\n",
       "      <th>9</th>\n",
       "      <td>Gosport</td>\n",
       "      <td>7.52</td>\n",
       "      <td>50.795</td>\n",
       "      <td>-1.121</td>\n",
       "      <td>hurn</td>\n",
       "      <td>13.12</td>\n",
       "      <td>5.19</td>\n",
       "      <td>4.95</td>\n",
       "      <td>65.76</td>\n",
       "      <td>83.26</td>\n",
       "    </tr>\n",
       "  </tbody>\n",
       "</table>\n",
       "</div>"
      ],
      "text/plain": [
       "                    city  happiness   lat_x    lon_x     station  avg_tmx  \\\n",
       "0             South Hams       7.65  50.372   -3.816    camborne    13.45   \n",
       "1  Weymouth and Portland       7.61  50.596   -2.472    camborne    13.45   \n",
       "2            Teignbridge       7.88  50.613   -3.656    camborne    13.45   \n",
       "3             West Devon       7.29  50.652   -4.074    camborne    13.45   \n",
       "4                Purbeck       7.74  50.685   -2.126    camborne    13.45   \n",
       "5                 Craven       7.72  50.707 -104.809    camborne    13.45   \n",
       "6                 Exeter       7.45  50.726   -3.527    camborne    13.45   \n",
       "7             East Devon       7.96  50.757   -3.222    camborne    13.45   \n",
       "8             Eastbourne       7.43  50.766    0.278  eastbourne    12.74   \n",
       "9                Gosport       7.52  50.795   -1.121        hurn    13.12   \n",
       "\n",
       "   avg_tmin  avg_af  avg_rain  avg_sun  \n",
       "0      8.39    0.74     89.99    83.26  \n",
       "1      8.39    0.74     89.99    83.26  \n",
       "2      8.39    0.74     89.99    83.26  \n",
       "3      8.39    0.74     89.99    83.26  \n",
       "4      8.39    0.74     89.99    83.26  \n",
       "5      8.39    0.74     89.99    83.26  \n",
       "6      8.39    0.74     89.99    83.26  \n",
       "7      8.39    0.74     89.99    83.26  \n",
       "8      7.49    1.43     61.52    83.26  \n",
       "9      5.19    4.95     65.76    83.26  "
      ]
     },
     "execution_count": 556,
     "metadata": {},
     "output_type": "execute_result"
    }
   ],
   "source": [
    "new_df.head(10)"
   ]
  },
  {
   "cell_type": "code",
   "execution_count": 552,
   "metadata": {},
   "outputs": [
    {
     "data": {
      "text/html": [
       "<div>\n",
       "<style scoped>\n",
       "    .dataframe tbody tr th:only-of-type {\n",
       "        vertical-align: middle;\n",
       "    }\n",
       "\n",
       "    .dataframe tbody tr th {\n",
       "        vertical-align: top;\n",
       "    }\n",
       "\n",
       "    .dataframe thead th {\n",
       "        text-align: right;\n",
       "    }\n",
       "</style>\n",
       "<table border=\"1\" class=\"dataframe\">\n",
       "  <thead>\n",
       "    <tr style=\"text-align: right;\">\n",
       "      <th></th>\n",
       "      <th>happiness</th>\n",
       "      <th>lat_x</th>\n",
       "      <th>lon_x</th>\n",
       "      <th>avg_tmx</th>\n",
       "      <th>avg_tmin</th>\n",
       "      <th>avg_af</th>\n",
       "      <th>avg_rain</th>\n",
       "      <th>avg_sun</th>\n",
       "    </tr>\n",
       "  </thead>\n",
       "  <tbody>\n",
       "    <tr>\n",
       "      <th>happiness</th>\n",
       "      <td>1.000000e+00</td>\n",
       "      <td>-7.870283e-03</td>\n",
       "      <td>-7.912446e-02</td>\n",
       "      <td>-3.259331e-02</td>\n",
       "      <td>-3.666231e-02</td>\n",
       "      <td>5.686157e-02</td>\n",
       "      <td>-6.888873e-02</td>\n",
       "      <td>-6.649392e-15</td>\n",
       "    </tr>\n",
       "    <tr>\n",
       "      <th>lat_x</th>\n",
       "      <td>-7.870283e-03</td>\n",
       "      <td>1.000000e+00</td>\n",
       "      <td>-8.503820e-02</td>\n",
       "      <td>-4.822087e-01</td>\n",
       "      <td>-5.066822e-01</td>\n",
       "      <td>3.496597e-01</td>\n",
       "      <td>1.149231e-01</td>\n",
       "      <td>7.741816e-15</td>\n",
       "    </tr>\n",
       "    <tr>\n",
       "      <th>lon_x</th>\n",
       "      <td>-7.912446e-02</td>\n",
       "      <td>-8.503820e-02</td>\n",
       "      <td>1.000000e+00</td>\n",
       "      <td>-1.464965e-02</td>\n",
       "      <td>-9.684145e-02</td>\n",
       "      <td>3.945255e-02</td>\n",
       "      <td>-8.977586e-02</td>\n",
       "      <td>1.743346e-16</td>\n",
       "    </tr>\n",
       "    <tr>\n",
       "      <th>avg_tmx</th>\n",
       "      <td>-3.259331e-02</td>\n",
       "      <td>-4.822087e-01</td>\n",
       "      <td>-1.464965e-02</td>\n",
       "      <td>1.000000e+00</td>\n",
       "      <td>6.760792e-01</td>\n",
       "      <td>6.317229e-03</td>\n",
       "      <td>-1.404941e-01</td>\n",
       "      <td>-2.535856e-14</td>\n",
       "    </tr>\n",
       "    <tr>\n",
       "      <th>avg_tmin</th>\n",
       "      <td>-3.666231e-02</td>\n",
       "      <td>-5.066822e-01</td>\n",
       "      <td>-9.684145e-02</td>\n",
       "      <td>6.760792e-01</td>\n",
       "      <td>1.000000e+00</td>\n",
       "      <td>-6.552869e-01</td>\n",
       "      <td>-1.053876e-01</td>\n",
       "      <td>-2.392900e-15</td>\n",
       "    </tr>\n",
       "    <tr>\n",
       "      <th>avg_af</th>\n",
       "      <td>5.686157e-02</td>\n",
       "      <td>3.496597e-01</td>\n",
       "      <td>3.945255e-02</td>\n",
       "      <td>6.317229e-03</td>\n",
       "      <td>-6.552869e-01</td>\n",
       "      <td>1.000000e+00</td>\n",
       "      <td>6.610289e-02</td>\n",
       "      <td>1.106224e-15</td>\n",
       "    </tr>\n",
       "    <tr>\n",
       "      <th>avg_rain</th>\n",
       "      <td>-6.888873e-02</td>\n",
       "      <td>1.149231e-01</td>\n",
       "      <td>-8.977586e-02</td>\n",
       "      <td>-1.404941e-01</td>\n",
       "      <td>-1.053876e-01</td>\n",
       "      <td>6.610289e-02</td>\n",
       "      <td>1.000000e+00</td>\n",
       "      <td>-5.546859e-16</td>\n",
       "    </tr>\n",
       "    <tr>\n",
       "      <th>avg_sun</th>\n",
       "      <td>-6.649392e-15</td>\n",
       "      <td>7.741816e-15</td>\n",
       "      <td>1.743346e-16</td>\n",
       "      <td>-2.535856e-14</td>\n",
       "      <td>-2.392900e-15</td>\n",
       "      <td>1.106224e-15</td>\n",
       "      <td>-5.546859e-16</td>\n",
       "      <td>1.000000e+00</td>\n",
       "    </tr>\n",
       "  </tbody>\n",
       "</table>\n",
       "</div>"
      ],
      "text/plain": [
       "              happiness         lat_x         lon_x       avg_tmx  \\\n",
       "happiness  1.000000e+00 -7.870283e-03 -7.912446e-02 -3.259331e-02   \n",
       "lat_x     -7.870283e-03  1.000000e+00 -8.503820e-02 -4.822087e-01   \n",
       "lon_x     -7.912446e-02 -8.503820e-02  1.000000e+00 -1.464965e-02   \n",
       "avg_tmx   -3.259331e-02 -4.822087e-01 -1.464965e-02  1.000000e+00   \n",
       "avg_tmin  -3.666231e-02 -5.066822e-01 -9.684145e-02  6.760792e-01   \n",
       "avg_af     5.686157e-02  3.496597e-01  3.945255e-02  6.317229e-03   \n",
       "avg_rain  -6.888873e-02  1.149231e-01 -8.977586e-02 -1.404941e-01   \n",
       "avg_sun   -6.649392e-15  7.741816e-15  1.743346e-16 -2.535856e-14   \n",
       "\n",
       "               avg_tmin        avg_af      avg_rain       avg_sun  \n",
       "happiness -3.666231e-02  5.686157e-02 -6.888873e-02 -6.649392e-15  \n",
       "lat_x     -5.066822e-01  3.496597e-01  1.149231e-01  7.741816e-15  \n",
       "lon_x     -9.684145e-02  3.945255e-02 -8.977586e-02  1.743346e-16  \n",
       "avg_tmx    6.760792e-01  6.317229e-03 -1.404941e-01 -2.535856e-14  \n",
       "avg_tmin   1.000000e+00 -6.552869e-01 -1.053876e-01 -2.392900e-15  \n",
       "avg_af    -6.552869e-01  1.000000e+00  6.610289e-02  1.106224e-15  \n",
       "avg_rain  -1.053876e-01  6.610289e-02  1.000000e+00 -5.546859e-16  \n",
       "avg_sun   -2.392900e-15  1.106224e-15 -5.546859e-16  1.000000e+00  "
      ]
     },
     "execution_count": 552,
     "metadata": {},
     "output_type": "execute_result"
    }
   ],
   "source": [
    "new_df[['happiness', 'lat_x', 'lon_x', \n",
    "        'avg_tmx', 'avg_tmin', 'avg_af', 'avg_rain',\n",
    "       'avg_sun']].corr()"
   ]
  },
  {
   "cell_type": "code",
   "execution_count": 554,
   "metadata": {},
   "outputs": [
    {
     "data": {
      "image/png": "[encoded data removed]",
      "text/plain": [
       "<Figure size 720x432 with 2 Axes>"
      ]
     },
     "metadata": {},
     "output_type": "display_data"
    }
   ],
   "source": [
    "corrmat= new_df[['happiness', 'lat_x', 'lon_x', \n",
    "        'avg_tmx', 'avg_tmin', 'avg_af', 'avg_rain',\n",
    "       ]].corr()\n",
    "plt.figure(figsize=(10,6))  \n",
    "sns.heatmap(corrmat,annot=True,  center=0);"
   ]
  },
  {
   "cell_type": "markdown",
   "metadata": {},
   "source": [
    "### linear modeling"
   ]
  },
  {
   "cell_type": "code",
   "execution_count": 558,
   "metadata": {},
   "outputs": [],
   "source": [
    "y = new_df['happiness']\n",
    "X = new_df[['lat_x', 'lon_x', \n",
    "        'avg_tmx', 'avg_tmin', 'avg_af', 'avg_rain',]]"
   ]
  },
  {
   "cell_type": "code",
   "execution_count": 559,
   "metadata": {},
   "outputs": [
    {
     "name": "stdout",
     "output_type": "stream",
     "text": [
      "Mean: 1.254821608406358e-16 Std: 1.0\n"
     ]
    }
   ],
   "source": [
    "scaler = StandardScaler()\n",
    "Xs = scaler.fit_transform(X)\n",
    "print('Mean:', Xs.mean(), 'Std:', Xs.std())"
   ]
  },
  {
   "cell_type": "code",
   "execution_count": 560,
   "metadata": {},
   "outputs": [
    {
     "name": "stdout",
     "output_type": "stream",
     "text": [
      "[-1.98560569 -0.10336595 -0.60290784 -0.01940291 -0.10537922 -0.13759701\n",
      "  0.00941629 -0.51568127 -0.03178877 -0.22233255]\n",
      "-0.3714644942172658\n"
     ]
    }
   ],
   "source": [
    "linreg = LinearRegression()\n",
    "\n",
    "linreg_scores = cross_val_score(linreg, Xs, y, cv=10)\n",
    "\n",
    "print(linreg_scores)\n",
    "print(np.mean(linreg_scores))"
   ]
  },
  {
   "cell_type": "code",
   "execution_count": 562,
   "metadata": {},
   "outputs": [
    {
     "name": "stdout",
     "output_type": "stream",
     "text": [
      "100000.0\n"
     ]
    }
   ],
   "source": [
    "ridge_alphas = np.logspace(0, 5, 200)\n",
    "\n",
    "optimal_ridge = RidgeCV(alphas=ridge_alphas, cv=10)\n",
    "optimal_ridge.fit(Xs, y)\n",
    "\n",
    "print(optimal_ridge.alpha_)"
   ]
  },
  {
   "cell_type": "code",
   "execution_count": 563,
   "metadata": {},
   "outputs": [
    {
     "data": {
      "text/plain": [
       "0.0001004657489751537"
      ]
     },
     "execution_count": 563,
     "metadata": {},
     "output_type": "execute_result"
    }
   ],
   "source": [
    "optimal_ridge.score(Xs,y)"
   ]
  },
  {
   "cell_type": "code",
   "execution_count": 564,
   "metadata": {},
   "outputs": [
    {
     "name": "stdout",
     "output_type": "stream",
     "text": [
      "[-3.38128930e-01 -1.62109882e-02 -9.15921835e-01 -3.71449137e-02\n",
      " -6.10063874e-02 -4.63643880e-03 -1.38374853e-03 -4.47460822e-01\n",
      " -4.55413553e-02  8.93436532e-05]\n",
      "-0.18673460753395718\n"
     ]
    }
   ],
   "source": [
    "ridge = Ridge(alpha=optimal_ridge.alpha_)\n",
    "\n",
    "ridge_scores = cross_val_score(ridge, Xs, y, cv=10)\n",
    "\n",
    "print(ridge_scores)\n",
    "print(np.mean(ridge_scores))"
   ]
  },
  {
   "cell_type": "code",
   "execution_count": 565,
   "metadata": {},
   "outputs": [
    {
     "name": "stdout",
     "output_type": "stream",
     "text": [
      "0.0001004657489751537\n"
     ]
    }
   ],
   "source": [
    "# compare to ridge with optimal alpha\n",
    "ridge = Ridge(alpha=optimal_ridge.alpha_)\n",
    "ridge.fit(Xs,y)\n",
    "print(ridge.score(Xs,y))"
   ]
  },
  {
   "cell_type": "code",
   "execution_count": 566,
   "metadata": {},
   "outputs": [
    {
     "name": "stderr",
     "output_type": "stream",
     "text": [
      "[Parallel(n_jobs=1)]: Using backend SequentialBackend with 1 concurrent workers.\n",
      "..............................................................................................................................................................................................................................................................................................................................................................................................................................................................................................................................................................................................................................................................................................................................................................................................................................................................................................................................................................................................................................................................................................................................................................................................................................................................................................................................................................................................................................................................................................................................................................................................................................................................................................................................................................................................................................................................................................................................................................................................................................................................................................................................................................................................................................................................................................................................................................................................................................................................................................................................................................................................................................................................................................................................................................................................................................................................................................................................................................................................................................................................................................................................................................................................................................................................................................................................................................................................................................................................................................................................................................................................................................................................................................................................................................................................................................................................................................................................................................................................................................................................................................................................................................................................................................................................................................................................................................................................................................................."
     ]
    },
    {
     "name": "stdout",
     "output_type": "stream",
     "text": [
      "0.018805428804740575\n"
     ]
    },
    {
     "name": "stderr",
     "output_type": "stream",
     "text": [
      ".........................................................................................................................................................................................................................................................................................................................................................................................................................................................................................................................................................................................................................................................................................................................................................[Parallel(n_jobs=1)]: Done  10 out of  10 | elapsed:    1.0s finished\n"
     ]
    }
   ],
   "source": [
    "optimal_lasso = LassoCV(n_alphas=500, cv=10, verbose=1)\n",
    "optimal_lasso.fit(Xs, y)\n",
    "\n",
    "print(optimal_lasso.alpha_)"
   ]
  },
  {
   "cell_type": "code",
   "execution_count": 567,
   "metadata": {},
   "outputs": [
    {
     "name": "stdout",
     "output_type": "stream",
     "text": [
      "0.0\n"
     ]
    }
   ],
   "source": [
    "print(optimal_lasso.score(Xs,y))"
   ]
  },
  {
   "cell_type": "code",
   "execution_count": 568,
   "metadata": {},
   "outputs": [
    {
     "name": "stdout",
     "output_type": "stream",
     "text": [
      "[-3.67525080e-01 -1.62127083e-02 -9.15856782e-01 -3.82256207e-02\n",
      " -6.08020917e-02 -8.68684003e-03 -1.50656071e-03 -4.56827723e-01\n",
      " -4.56113279e-02  3.03181197e-04]\n",
      "-0.19109515527621684\n"
     ]
    }
   ],
   "source": [
    "lasso = Lasso(alpha=optimal_lasso.alpha_)\n",
    "\n",
    "lasso_scores = cross_val_score(lasso, Xs, y, cv=10)\n",
    "\n",
    "print(lasso_scores)\n",
    "print(np.mean(lasso_scores))"
   ]
  },
  {
   "cell_type": "code",
   "execution_count": 569,
   "metadata": {},
   "outputs": [
    {
     "name": "stdout",
     "output_type": "stream",
     "text": [
      "0.0\n"
     ]
    }
   ],
   "source": [
    "# compare to Lasso with optimal alpha\n",
    "lasso.fit(Xs,y)\n",
    "print(lasso.score(Xs,y))"
   ]
  },
  {
   "cell_type": "code",
   "execution_count": 570,
   "metadata": {},
   "outputs": [
    {
     "data": {
      "text/html": [
       "<div>\n",
       "<style scoped>\n",
       "    .dataframe tbody tr th:only-of-type {\n",
       "        vertical-align: middle;\n",
       "    }\n",
       "\n",
       "    .dataframe tbody tr th {\n",
       "        vertical-align: top;\n",
       "    }\n",
       "\n",
       "    .dataframe thead th {\n",
       "        text-align: right;\n",
       "    }\n",
       "</style>\n",
       "<table border=\"1\" class=\"dataframe\">\n",
       "  <thead>\n",
       "    <tr style=\"text-align: right;\">\n",
       "      <th></th>\n",
       "      <th>variable</th>\n",
       "      <th>coef</th>\n",
       "      <th>abs_coef</th>\n",
       "    </tr>\n",
       "  </thead>\n",
       "  <tbody>\n",
       "    <tr>\n",
       "      <th>1</th>\n",
       "      <td>lon_x</td>\n",
       "      <td>-2.940988e-18</td>\n",
       "      <td>2.940988e-18</td>\n",
       "    </tr>\n",
       "    <tr>\n",
       "      <th>0</th>\n",
       "      <td>lat_x</td>\n",
       "      <td>-0.000000e+00</td>\n",
       "      <td>0.000000e+00</td>\n",
       "    </tr>\n",
       "    <tr>\n",
       "      <th>2</th>\n",
       "      <td>avg_tmx</td>\n",
       "      <td>-0.000000e+00</td>\n",
       "      <td>0.000000e+00</td>\n",
       "    </tr>\n",
       "    <tr>\n",
       "      <th>3</th>\n",
       "      <td>avg_tmin</td>\n",
       "      <td>-0.000000e+00</td>\n",
       "      <td>0.000000e+00</td>\n",
       "    </tr>\n",
       "    <tr>\n",
       "      <th>4</th>\n",
       "      <td>avg_af</td>\n",
       "      <td>0.000000e+00</td>\n",
       "      <td>0.000000e+00</td>\n",
       "    </tr>\n",
       "    <tr>\n",
       "      <th>5</th>\n",
       "      <td>avg_rain</td>\n",
       "      <td>-0.000000e+00</td>\n",
       "      <td>0.000000e+00</td>\n",
       "    </tr>\n",
       "  </tbody>\n",
       "</table>\n",
       "</div>"
      ],
      "text/plain": [
       "   variable          coef      abs_coef\n",
       "1     lon_x -2.940988e-18  2.940988e-18\n",
       "0     lat_x -0.000000e+00  0.000000e+00\n",
       "2   avg_tmx -0.000000e+00  0.000000e+00\n",
       "3  avg_tmin -0.000000e+00  0.000000e+00\n",
       "4    avg_af  0.000000e+00  0.000000e+00\n",
       "5  avg_rain -0.000000e+00  0.000000e+00"
      ]
     },
     "execution_count": 570,
     "metadata": {},
     "output_type": "execute_result"
    }
   ],
   "source": [
    "lasso.fit(Xs, y)\n",
    "lasso_coefs = pd.DataFrame({'variable':X.columns,\n",
    "                            'coef':lasso.coef_,\n",
    "                            'abs_coef':np.abs(lasso.coef_)})\n",
    "\n",
    "lasso_coefs.sort_values('abs_coef', inplace=True, ascending=False)\n",
    "\n",
    "lasso_coefs.head(20)"
   ]
  },
  {
   "cell_type": "code",
   "execution_count": 571,
   "metadata": {},
   "outputs": [
    {
     "name": "stdout",
     "output_type": "stream",
     "text": [
      "Percent variables zeroed out: 0.019867549668874173\n"
     ]
    }
   ],
   "source": [
    "print('Percent variables zeroed out:', np.sum((np.abs(lasso.coef_) < 0.2))/float(X.shape[0]))"
   ]
  },
  {
   "cell_type": "code",
   "execution_count": 572,
   "metadata": {},
   "outputs": [
    {
     "data": {
      "image/png": "[encoded data removed]",
      "text/plain": [
       "<Figure size 720x864 with 1 Axes>"
      ]
     },
     "metadata": {},
     "output_type": "display_data"
    }
   ],
   "source": [
    "fig, ax = plt.subplots(figsize=(10,12))\n",
    "lasso_coefs.coef[:20].plot(kind='barh',ax=ax,alpha=0.5)\n",
    "ax.set_yticklabels(lasso_coefs.variable[:20].values)\n",
    "plt.show()"
   ]
  },
  {
   "cell_type": "code",
   "execution_count": null,
   "metadata": {},
   "outputs": [],
   "source": []
  }
 ],
 "metadata": {
  "kernelspec": {
   "display_name": "Python 3",
   "language": "python",
   "name": "python3"
  },
  "language_info": {
   "codemirror_mode": {
    "name": "ipython",
    "version": 3
   },
   "file_extension": ".py",
   "mimetype": "text/x-python",
   "name": "python",
   "nbconvert_exporter": "python",
   "pygments_lexer": "ipython3",
   "version": "3.8.3"
  }
 },
 "nbformat": 4,
 "nbformat_minor": 4
}
