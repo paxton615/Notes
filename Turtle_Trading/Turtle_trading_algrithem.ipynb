{
 "cells": [
  {
   "cell_type": "code",
   "execution_count": 3,
   "metadata": {},
   "outputs": [],
   "source": [
    "#先引入后面可能用到的包（package）\n",
    "import pandas as pd  \n",
    "import numpy as np\n",
    "import talib as ta\n",
    "from datetime import datetime,timedelta\n",
    "import matplotlib.pyplot as plt\n",
    "%matplotlib inline   \n",
    "#正常显示画图时出现的中文和负号\n",
    "from pylab import mpl\n",
    "mpl.rcParams['font.sans-serif']=['SimHei']\n",
    "mpl.rcParams['axes.unicode_minus']=False\n"
   ]
  },
  {
   "cell_type": "markdown",
   "metadata": {},
   "source": [
    "### 股票数据 Stock Data"
   ]
  },
  {
   "cell_type": "code",
   "execution_count": null,
   "metadata": {},
   "outputs": [],
   "source": [
    "# 使用tushare时发现需要国内手机号注册，感觉不用也可以，反正是测试。\n",
    "# 应该直接使用下载好的股票数据，加工后也能得到ATR"
   ]
  },
  {
   "cell_type": "code",
   "execution_count": null,
   "metadata": {},
   "outputs": [],
   "source": [
    "# 为了实验，使用appl，goog，SPX, NDX, DJI，HSI作为测试数据。可以从我的tradingview下载，\n",
    "# 截取日线，2016.12.29 - 2022.6.15，"
   ]
  },
  {
   "cell_type": "code",
   "execution_count": 48,
   "metadata": {},
   "outputs": [],
   "source": [
    "spx = pd.read_csv('/Users/paxton615/Desktop/Stock_Price_csv/turtle_test/SP_SPX, 1D.csv')\n"
   ]
  },
  {
   "cell_type": "code",
   "execution_count": null,
   "metadata": {},
   "outputs": [],
   "source": []
  },
  {
   "cell_type": "code",
   "execution_count": 50,
   "metadata": {},
   "outputs": [],
   "source": [
    "# 时间改成dt，只保留年月日\n",
    "spx.time = pd.to_datetime(spx['time']).dt.date\n",
    "# 只选部分有用cols，col名全小写\n",
    "spx = spx[['time', 'open', 'high', 'low', 'close', 'Volume', ]]\n",
    "spx.columns = ['time', 'open', 'high', 'low', 'close', 'vol' ]\n"
   ]
  },
  {
   "cell_type": "markdown",
   "metadata": {},
   "source": [
    "#### 注意：这里的 timeperiod 很可能是未来调参的‘重要参数’"
   ]
  },
  {
   "cell_type": "code",
   "execution_count": 54,
   "metadata": {},
   "outputs": [
    {
     "data": {
      "text/html": [
       "<div>\n",
       "<style scoped>\n",
       "    .dataframe tbody tr th:only-of-type {\n",
       "        vertical-align: middle;\n",
       "    }\n",
       "\n",
       "    .dataframe tbody tr th {\n",
       "        vertical-align: top;\n",
       "    }\n",
       "\n",
       "    .dataframe thead th {\n",
       "        text-align: right;\n",
       "    }\n",
       "</style>\n",
       "<table border=\"1\" class=\"dataframe\">\n",
       "  <thead>\n",
       "    <tr style=\"text-align: right;\">\n",
       "      <th></th>\n",
       "      <th>time</th>\n",
       "      <th>open</th>\n",
       "      <th>high</th>\n",
       "      <th>low</th>\n",
       "      <th>close</th>\n",
       "      <th>vol</th>\n",
       "      <th>up</th>\n",
       "      <th>down</th>\n",
       "      <th>atr</th>\n",
       "    </tr>\n",
       "  </thead>\n",
       "  <tbody>\n",
       "    <tr>\n",
       "      <th>1655</th>\n",
       "      <td>2022-06-13</td>\n",
       "      <td>3838.15</td>\n",
       "      <td>3838.15</td>\n",
       "      <td>3734.30</td>\n",
       "      <td>3749.64</td>\n",
       "      <td>3034000000</td>\n",
       "      <td>4177.51</td>\n",
       "      <td>3900.16</td>\n",
       "      <td>97.191983</td>\n",
       "    </tr>\n",
       "    <tr>\n",
       "      <th>1656</th>\n",
       "      <td>2022-06-14</td>\n",
       "      <td>3763.52</td>\n",
       "      <td>3778.18</td>\n",
       "      <td>3705.68</td>\n",
       "      <td>3735.47</td>\n",
       "      <td>2616000000</td>\n",
       "      <td>4177.51</td>\n",
       "      <td>3734.30</td>\n",
       "      <td>95.957384</td>\n",
       "    </tr>\n",
       "    <tr>\n",
       "      <th>1657</th>\n",
       "      <td>2022-06-15</td>\n",
       "      <td>3764.05</td>\n",
       "      <td>3837.56</td>\n",
       "      <td>3722.30</td>\n",
       "      <td>3790.00</td>\n",
       "      <td>2730000000</td>\n",
       "      <td>4177.51</td>\n",
       "      <td>3705.68</td>\n",
       "      <td>96.922515</td>\n",
       "    </tr>\n",
       "    <tr>\n",
       "      <th>1658</th>\n",
       "      <td>2022-06-16</td>\n",
       "      <td>3728.18</td>\n",
       "      <td>3728.18</td>\n",
       "      <td>3639.77</td>\n",
       "      <td>3666.76</td>\n",
       "      <td>3042000000</td>\n",
       "      <td>4177.51</td>\n",
       "      <td>3705.68</td>\n",
       "      <td>99.587889</td>\n",
       "    </tr>\n",
       "    <tr>\n",
       "      <th>1659</th>\n",
       "      <td>2022-06-17</td>\n",
       "      <td>3665.90</td>\n",
       "      <td>3707.71</td>\n",
       "      <td>3636.87</td>\n",
       "      <td>3674.85</td>\n",
       "      <td>4526000000</td>\n",
       "      <td>4177.51</td>\n",
       "      <td>3639.77</td>\n",
       "      <td>98.150495</td>\n",
       "    </tr>\n",
       "  </tbody>\n",
       "</table>\n",
       "</div>"
      ],
      "text/plain": [
       "            time     open     high      low    close         vol       up  \\\n",
       "1655  2022-06-13  3838.15  3838.15  3734.30  3749.64  3034000000  4177.51   \n",
       "1656  2022-06-14  3763.52  3778.18  3705.68  3735.47  2616000000  4177.51   \n",
       "1657  2022-06-15  3764.05  3837.56  3722.30  3790.00  2730000000  4177.51   \n",
       "1658  2022-06-16  3728.18  3728.18  3639.77  3666.76  3042000000  4177.51   \n",
       "1659  2022-06-17  3665.90  3707.71  3636.87  3674.85  4526000000  4177.51   \n",
       "\n",
       "         down        atr  \n",
       "1655  3900.16  97.191983  \n",
       "1656  3734.30  95.957384  \n",
       "1657  3705.68  96.922515  \n",
       "1658  3705.68  99.587889  \n",
       "1659  3639.77  98.150495  "
      ]
     },
     "execution_count": 54,
     "metadata": {},
     "output_type": "execute_result"
    }
   ],
   "source": [
    "days_high = 20\n",
    "days_low = 10\n",
    "days_atr = 20\n",
    "spx['up']=ta.MAX(spx.high,timeperiod=days_high).shift(1)\n",
    "#最近N2个交易日最低价\n",
    "spx['down']=ta.MIN(spx.low,timeperiod=days_low).shift(1)\n",
    "#每日真实波动幅度\n",
    "spx['atr']=ta.ATR(spx.high,spx.low,spx.close,timeperiod=days_atr)\n",
    "spx.tail()\n"
   ]
  },
  {
   "cell_type": "code",
   "execution_count": 80,
   "metadata": {},
   "outputs": [],
   "source": [
    "# 稍微做了点改动在index上，function是可以正常对spx输出结果的，已测试\n",
    "def my_strategy(data):\n",
    "    \n",
    "    x1=data.close>data.up\n",
    "    x2=data.close.shift(1)<data.up.shift(1)\n",
    "    x=x1&x2      # 不断更新最高价格\n",
    "    \n",
    "    y1=data.close<data.down\n",
    "    y2=data.close.shift(1)>data.down.shift(1)\n",
    "    y=y1&y2      # 不断更新最低价格\n",
    "    \n",
    "    data.loc[x,'signal']='buy'       # 新建signal col 用于标记’买‘信号\n",
    "    data.loc[y,'signal']='sell'      # 新建signal col 用于标记’卖‘信号\n",
    "    \n",
    "    buy_date=(data[data.signal=='buy'].index) # ’买‘的日期\n",
    "    sell_date=(data[data.signal=='sell'].index) # ’卖‘的日期\n",
    "    \n",
    "    buy_close=data[data.signal=='buy'].close.round(2).tolist()  # ‘买’的close价格\n",
    "    sell_close=data[data.signal=='sell'].close.round(2).tolist() # ’卖‘的close价格\n",
    "    return (buy_date,buy_close,sell_date,sell_close)\n"
   ]
  },
  {
   "cell_type": "code",
   "execution_count": 83,
   "metadata": {
    "scrolled": true
   },
   "outputs": [
    {
     "name": "stdout",
     "output_type": "stream",
     "text": [
      "(Int64Index([  69,   72,   80,   83,   92,   94,  102,  105,  134,  137,\n",
      "            ...\n",
      "            1444, 1454, 1456, 1491, 1496, 1500, 1539, 1596, 1598, 1601],\n",
      "           dtype='int64', length=151), [1951.7, 1978.35, 2022.19, 2027.22, 2063.95, 2072.78, 2082.42, 2094.34, 2099.06, 2105.26, 2109.41, 2129.9, 2163.75, 2173.02, 2182.87, 2190.15, 2163.26, 2187.12, 2198.18, 2213.35, 2241.35, 2271.72, 2298.37, 2307.87, 2365.38, 2369.75, 2395.96, 2388.61, 2399.29, 2415.07, 2430.06, 2453.46, 2459.27, 2473.83, 2488.11, 2500.23, 2519.36, 2555.24, 2561.26, 2575.21, 2581.07, 2591.13, 2599.03, 2602.42, 2627.04, 2647.58, 2675.81, 2695.81, 2767.56, 2810.3, 2872.87, 2723.07, 2746.87, 2772.35, 2782.0, 2793.84, 2798.29, 2809.55, 2820.4, 2850.4, 2874.69, 2914.04, 2930.75, 2616.1, 2681.05, 2724.87, 2744.73, 2775.6, 2792.67, 2822.48, 2854.88, 2867.19, 2873.4, 2892.74, 2907.41, 2933.68, 2939.88, 2917.75, 2954.18, 2964.33, 2995.82, 3013.77, 3019.56, 3025.86, 2976.0, 3000.93, 3022.55, 3066.91, 3120.46, 3133.64, 3168.57, 3191.45, 3205.37, 3239.91, 3257.85, 3274.7, 3288.13, 3316.81, 3345.78, 3352.09, 3386.15, 2789.82, 2846.06, 2874.56, 2939.51, 2971.61, 2991.77, 3080.82, 3193.93, 3185.04, 3251.84, 3294.61, 3389.78, 3431.28, 3526.65, 3446.83, 3550.5, 3662.45, 3699.12, 3702.25, 3722.48, 3735.36, 3803.8, 3851.86, 3871.75, 3934.84, 3968.95, 4019.88, 4097.18, 4141.6, 4170.43, 4211.48, 4232.61, 4239.19, 4255.16, 4266.48, 4319.93, 4358.14, 4369.54, 4411.8, 4436.51, 4447.69, 4496.2, 4509.38, 4486.47, 4566.49, 4605.39, 4791.18, 4463.11, 4511.6, 4543.05], Int64Index([  13,   19,   36,   40,   57,  114,  117,  144,  153,  179,  206,\n",
      "             228,  243,  245,  284,  338,  355,  378,  437,  442,  505,  558,\n",
      "             562,  591,  597,  613,  637,  656,  727,  731,  741,  760,  777,\n",
      "             779,  831,  873,  877,  888,  890,  933,  975, 1055, 1059, 1074,\n",
      "            1084, 1087, 1089, 1094, 1211, 1220, 1245, 1247, 1310, 1333, 1381,\n",
      "            1407, 1427, 1465, 1467, 1470, 1519, 1521, 1554, 1577, 1612, 1620,\n",
      "            1622, 1625, 1631, 1633, 1654, 1658],\n",
      "           dtype='int64'), [2049.62, 2012.37, 1943.09, 1890.28, 1853.44, 2065.3, 2051.12, 2079.06, 2037.41, 2157.03, 2127.81, 2136.73, 2111.72, 2088.66, 2238.83, 2344.02, 2328.95, 2357.03, 2438.21, 2430.01, 2564.62, 2762.13, 2581.0, 2643.69, 2581.88, 2634.56, 2689.86, 2717.07, 2901.61, 2785.68, 2656.1, 2641.89, 2545.94, 2506.96, 2748.93, 2884.05, 2811.87, 2783.02, 2752.06, 2953.56, 2940.25, 3243.63, 3225.52, 3225.89, 2746.56, 2480.64, 2386.13, 2237.4, 3331.84, 3281.06, 3400.97, 3271.03, 3714.25, 3768.48, 4063.05, 4166.46, 4258.49, 4458.57, 4443.06, 4432.98, 4594.61, 4567.01, 4577.1, 4348.88, 4412.54, 4271.79, 4175.21, 4131.92, 3991.23, 3935.19, 3900.85, 3666.76])\n"
     ]
    }
   ],
   "source": [
    "print(my_strategy(spx))"
   ]
  },
  {
   "cell_type": "code",
   "execution_count": 74,
   "metadata": {},
   "outputs": [
    {
     "ename": "AttributeError",
     "evalue": "'Bar' object has no attribute 'add'",
     "output_type": "error",
     "traceback": [
      "\u001b[0;31m---------------------------------------------------------------------------\u001b[0m",
      "\u001b[0;31mAttributeError\u001b[0m                            Traceback (most recent call last)",
      "\u001b[0;32m<ipython-input-74-568a39630a9e>\u001b[0m in \u001b[0;36m<module>\u001b[0;34m\u001b[0m\n\u001b[1;32m     12\u001b[0m \u001b[0;31m# 成交量\u001b[0m\u001b[0;34m\u001b[0m\u001b[0;34m\u001b[0m\u001b[0;34m\u001b[0m\u001b[0m\n\u001b[1;32m     13\u001b[0m \u001b[0mbar\u001b[0m\u001b[0;34m=\u001b[0m \u001b[0mBar\u001b[0m\u001b[0;34m(\u001b[0m\u001b[0;34m)\u001b[0m\u001b[0;34m\u001b[0m\u001b[0;34m\u001b[0m\u001b[0m\n\u001b[0;32m---> 14\u001b[0;31m bar.add(\"成交量\", attr, spx['vol'],tooltip_tragger=\"axis\", is_legend_show=False, \n\u001b[0m\u001b[1;32m     15\u001b[0m         is_yaxis_show=False, yaxis_max=5*max(spx[\"vol\"]))\n\u001b[1;32m     16\u001b[0m \u001b[0;34m\u001b[0m\u001b[0m\n",
      "\u001b[0;31mAttributeError\u001b[0m: 'Bar' object has no attribute 'add'"
     ]
    }
   ],
   "source": [
    "#对K线图和唐奇安通道进行可视化\n",
    "from pyecharts.charts import Bar, Line, Grid\n",
    "grid = Grid()\n",
    "attr=[str(t) for t in spx.time]\n",
    "#attr=[str(t) for t in spx.time.strftime('%Y%m%d')]\n",
    "v1=np.array(spx.loc[:,['open','close','low','high']])\n",
    "v2=np.array(spx.up)\n",
    "v3=np.array(spx.down)\n",
    "#kline = Kline(\"沪深300唐奇安通道\",title_text_size=15)\n",
    "#kline.add(\"K线图\", attr, v1.round(1),is_datazoom_show=True,)\n",
    "\n",
    "# 成交量\n",
    "bar= Bar()\n",
    "bar.add(\"成交量\", attr, spx['vol'],tooltip_tragger=\"axis\", is_legend_show=False, \n",
    "        is_yaxis_show=False, yaxis_max=5*max(spx[\"vol\"]))\n",
    "\n",
    "line = Line()\n",
    "line.add(\"上轨线\", attr, v2.round(1),is_datazoom_show=True,\n",
    "         is_smooth=True,is_symbol_show=False,line_width=1.5)\n",
    "line.add(\"下轨线\", attr, v3.round(1),is_datazoom_show=True,\n",
    "         is_smooth=True,is_symbol_show=False,line_width=1.5)\n",
    "#添加买卖信号\n",
    "bd,bc,sd,sc=my_strategy(spx)\n",
    "es = EffectScatter(\"buy\")\n",
    "es.add( \"sell\", sd, sc, )\n",
    "es.add(\"buy\", bd, bc,symbol=\"triangle\",)\n",
    "overlap = Overlap(width=2000, height=600)\n",
    "overlap.add(kline)\n",
    "overlap.add(line)\n",
    "overlap.add(bar,yaxis_index=1, is_add_yaxis=True)\n",
    "overlap.add(es)\n",
    "grid.add(overlap, grid_right=\"10%\")\n",
    "grid"
   ]
  },
  {
   "cell_type": "code",
   "execution_count": 85,
   "metadata": {},
   "outputs": [
    {
     "name": "stdout",
     "output_type": "stream",
     "text": [
      "/Users/paxton615/Github_Personal/Notes/Notes/Turtle_Trading\r\n"
     ]
    }
   ],
   "source": [
    "!pwd\n"
   ]
  },
  {
   "cell_type": "code",
   "execution_count": null,
   "metadata": {},
   "outputs": [],
   "source": []
  },
  {
   "cell_type": "code",
   "execution_count": 86,
   "metadata": {},
   "outputs": [
    {
     "data": {
      "text/html": [
       "\n",
       "        <iframe\n",
       "            width=\"1200\"\n",
       "            height=\"600\"\n",
       "            src=\"./bar_stack0.html\"\n",
       "            frameborder=\"0\"\n",
       "            allowfullscreen\n",
       "        ></iframe>\n",
       "        "
      ],
      "text/plain": [
       "<IPython.lib.display.IFrame at 0x7fa30b9c38e0>"
      ]
     },
     "execution_count": 86,
     "metadata": {},
     "output_type": "execute_result"
    }
   ],
   "source": [
    "from pyecharts import options as opts\n",
    "from pyecharts.charts import Bar\n",
    "from pyecharts.faker import Faker\n",
    "\n",
    "c = (\n",
    "    Bar()\n",
    "    .add_xaxis(Faker.choose())\n",
    "    .add_yaxis(\"商家A\", Faker.values(), stack=\"stack1\")\n",
    "    .add_yaxis(\"商家B\", Faker.values(), stack=\"stack1\")\n",
    "    .set_series_opts(label_opts=opts.LabelOpts(is_show=False))\n",
    "    .set_global_opts(title_opts=opts.TitleOpts(title=\"Bar-堆叠数据（全部）\"))\n",
    "    .render(\"bar_stack0.html\")\n",
    ")\n",
    "IFrame(src='./bar_stack0.html', width=1200, height=600)\n",
    "# Image(filename='/Users/paxton615/Github_Personal/Notes/Notes/Turtle_Trading/')\n",
    "\n"
   ]
  },
  {
   "cell_type": "code",
   "execution_count": null,
   "metadata": {},
   "outputs": [],
   "source": []
  },
  {
   "cell_type": "code",
   "execution_count": 100,
   "metadata": {},
   "outputs": [],
   "source": [
    "# mplfinance is no good in plot candles and lines\n",
    "\n",
    "# import mplfinance as mpf\n",
    "\n",
    "# df = spx.iloc[0:200,:]\n",
    "# df['SMA'] = df.close.rolling(window=20).mean()\n",
    "# df['stddev'] = df.close.rolling(window=20).std()\n",
    "# df['Upper'] = df.SMA + 2* df.stddev\n",
    "# df['Lower'] = df.SMA - 2* df.stddev\n",
    "# df['Buy_Signal'] = np.where(df.Lower > df.close, True, False)\n",
    "# df['Sell_Signal'] = np.where(df.Upper < df.close, True, False)\n",
    "\n",
    "# tcdf = df[['Lower','Upper','SMA']]\n",
    "# apd = mpf.make_addplot(tcdf)\n",
    "# df.index = pd.DatetimeIndex(df['time'])\n",
    "# mpf.plot(df, figratio=(8,4), type='candle', addplot=apd, volume=False, style='yahoo')\n"
   ]
  },
  {
   "cell_type": "code",
   "execution_count": null,
   "metadata": {},
   "outputs": [],
   "source": []
  },
  {
   "cell_type": "code",
   "execution_count": null,
   "metadata": {},
   "outputs": [],
   "source": []
  }
 ],
 "metadata": {
  "kernelspec": {
   "display_name": "Python 3",
   "language": "python",
   "name": "python3"
  },
  "language_info": {
   "codemirror_mode": {
    "name": "ipython",
    "version": 3
   },
   "file_extension": ".py",
   "mimetype": "text/x-python",
   "name": "python",
   "nbconvert_exporter": "python",
   "pygments_lexer": "ipython3",
   "version": "3.8.3"
  }
 },
 "nbformat": 4,
 "nbformat_minor": 4
}
