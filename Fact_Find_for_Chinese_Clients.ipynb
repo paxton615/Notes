{
 "cells": [
  {
   "cell_type": "markdown",
   "metadata": {},
   "source": [
    "#### 专业词汇 Terms which could be unfamiliar to Chinese Clients\n",
    "\n",
    "Maidname: 女生，妻子出嫁前的姓氏（低于习俗,在有些地区，女子出嫁后可能随夫姓）\n",
    "\n",
    "FTSE: 全称Financial Times and Stock Exchange,富时指数。可类比于中国的A股指数。\n",
    "\n",
    "AIM： 全称Alternative Investment Market, 另类投资市场。国内翻译为高增长市场，可类比于中国的创业板指数。\n",
    "\n",
    "Gilts: sterling-denominated UK Government bonds,英镑计价的英国政府债券，即英国国债。\n",
    "\n",
    "Bonds: 债券，包括国债和公司债等。以上所说的gilts是bonds的一种特殊叫法。\n",
    "\n",
    "IPO: Initial Public Offering, 上市公司首次公开募股。\n",
    "\n",
    "Placing: 配售，定向增发股份。上市公司在IPO后通过中介机构增发新股，再由中介机构向投资者发售。\n",
    "\n",
    "ISA: Individual Savings Account, 个人（免税）储蓄账户。账户上限20,000镑。可有不同种类储蓄ISA, 现金ISA, 股票投资ISA等等。"
   ]
  },
  {
   "cell_type": "markdown",
   "metadata": {},
   "source": [
    "#### 标准地址\n",
    "\n",
    "请确认，您给出的地址，是您银行对账单的邮寄地址，也是您水电气费账单的邮寄地址。最好是个英国银行卡的对应地址。\n"
   ]
  },
  {
   "cell_type": "markdown",
   "metadata": {},
   "source": [
    "ISA\n",
    "\n",
    "每人都可以拥有很多个ISA账户，类型上，有现金ISA或者股票ISA等等。\n",
    "\n",
    "股票ISA不能用于购买Placings或IPO。所以在我们这里开户后，得到General Brokage account后，再由这个普通账户转入他的股票ISA账户。\n",
    "\n",
    "我们可以开设这样的股票ISA账户。\n",
    " \n",
    "ISA账户一个tax year只能申请开设一个，但可持有多个。比如，今年tax year,4月开一个储蓄ISA，第二年4月开现金ISA， 第三年4月开股票ISA等等。\n",
    "\n",
    "ISA账户中的投资都是Tax free的。比如，最初的20,000镑,后期变成了500,000,依然是免税的。"
   ]
  },
  {
   "cell_type": "markdown",
   "metadata": {},
   "source": [
    "High Net Worth Individual\n",
    "\n",
    "liquid asset 50-75,000， or income 100,000 annually"
   ]
  },
  {
   "cell_type": "code",
   "execution_count": null,
   "metadata": {},
   "outputs": [],
   "source": []
  },
  {
   "cell_type": "code",
   "execution_count": null,
   "metadata": {},
   "outputs": [],
   "source": []
  },
  {
   "cell_type": "code",
   "execution_count": null,
   "metadata": {},
   "outputs": [],
   "source": []
  },
  {
   "cell_type": "code",
   "execution_count": null,
   "metadata": {},
   "outputs": [],
   "source": []
  },
  {
   "cell_type": "code",
   "execution_count": null,
   "metadata": {},
   "outputs": [],
   "source": []
  },
  {
   "cell_type": "code",
   "execution_count": null,
   "metadata": {},
   "outputs": [],
   "source": []
  },
  {
   "cell_type": "code",
   "execution_count": null,
   "metadata": {},
   "outputs": [],
   "source": []
  },
  {
   "cell_type": "code",
   "execution_count": null,
   "metadata": {},
   "outputs": [],
   "source": []
  },
  {
   "cell_type": "code",
   "execution_count": null,
   "metadata": {},
   "outputs": [],
   "source": []
  },
  {
   "cell_type": "code",
   "execution_count": null,
   "metadata": {},
   "outputs": [],
   "source": []
  },
  {
   "cell_type": "code",
   "execution_count": null,
   "metadata": {},
   "outputs": [],
   "source": []
  }
 ],
 "metadata": {
  "kernelspec": {
   "display_name": "Python 3",
   "language": "python",
   "name": "python3"
  },
  "language_info": {
   "codemirror_mode": {
    "name": "ipython",
    "version": 3
   },
   "file_extension": ".py",
   "mimetype": "text/x-python",
   "name": "python",
   "nbconvert_exporter": "python",
   "pygments_lexer": "ipython3",
   "version": "3.8.3"
  }
 },
 "nbformat": 4,
 "nbformat_minor": 4
}
