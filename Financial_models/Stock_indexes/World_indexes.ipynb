{
 "cells": [
  {
   "cell_type": "code",
   "execution_count": 1,
   "metadata": {},
   "outputs": [],
   "source": [
    "import pandas as pd\n",
    "import numpy as np"
   ]
  },
  {
   "cell_type": "code",
   "execution_count": 2,
   "metadata": {},
   "outputs": [],
   "source": [
    "date = ['2021.08.25']\n",
    "DJ = [35366.26]\n",
    "SP500 = [4486.23]\n",
    "NASDAQ = [15019.80]\n",
    "FTSE100 = [7137.25] \n",
    "SH = [3540.38]\n",
    "SZSE = [14697.50]\n",
    "HANGSENG = [25609]"
   ]
  },
  {
   "cell_type": "code",
   "execution_count": 3,
   "metadata": {},
   "outputs": [
    {
     "data": {
      "text/html": [
       "<div>\n",
       "<style scoped>\n",
       "    .dataframe tbody tr th:only-of-type {\n",
       "        vertical-align: middle;\n",
       "    }\n",
       "\n",
       "    .dataframe tbody tr th {\n",
       "        vertical-align: top;\n",
       "    }\n",
       "\n",
       "    .dataframe thead th {\n",
       "        text-align: right;\n",
       "    }\n",
       "</style>\n",
       "<table border=\"1\" class=\"dataframe\">\n",
       "  <thead>\n",
       "    <tr style=\"text-align: right;\">\n",
       "      <th></th>\n",
       "      <th>date</th>\n",
       "      <th>DJ</th>\n",
       "      <th>SP500</th>\n",
       "      <th>NASDAQ</th>\n",
       "      <th>FTSE100</th>\n",
       "      <th>SH</th>\n",
       "      <th>SZSE</th>\n",
       "      <th>HANGSENG</th>\n",
       "    </tr>\n",
       "  </thead>\n",
       "  <tbody>\n",
       "    <tr>\n",
       "      <th>0</th>\n",
       "      <td>2021.08.25</td>\n",
       "      <td>35366.26</td>\n",
       "      <td>4486.23</td>\n",
       "      <td>15019.8</td>\n",
       "      <td>7137.25</td>\n",
       "      <td>3540.38</td>\n",
       "      <td>14697.5</td>\n",
       "      <td>25609</td>\n",
       "    </tr>\n",
       "  </tbody>\n",
       "</table>\n",
       "</div>"
      ],
      "text/plain": [
       "         date        DJ    SP500   NASDAQ  FTSE100       SH     SZSE  HANGSENG\n",
       "0  2021.08.25  35366.26  4486.23  15019.8  7137.25  3540.38  14697.5     25609"
      ]
     },
     "execution_count": 3,
     "metadata": {},
     "output_type": "execute_result"
    }
   ],
   "source": [
    "pd.DataFrame({'date':date, 'DJ':DJ, 'SP500':SP500, 'NASDAQ':NASDAQ, 'FTSE100':FTSE100, 'SH':SH, 'SZSE':SZSE, 'HANGSENG':HANGSENG})"
   ]
  },
  {
   "cell_type": "code",
   "execution_count": null,
   "metadata": {},
   "outputs": [],
   "source": []
  }
 ],
 "metadata": {
  "kernelspec": {
   "display_name": "Python 3",
   "language": "python",
   "name": "python3"
  },
  "language_info": {
   "codemirror_mode": {
    "name": "ipython",
    "version": 3
   },
   "file_extension": ".py",
   "mimetype": "text/x-python",
   "name": "python",
   "nbconvert_exporter": "python",
   "pygments_lexer": "ipython3",
   "version": "3.8.3"
  }
 },
 "nbformat": 4,
 "nbformat_minor": 4
}
