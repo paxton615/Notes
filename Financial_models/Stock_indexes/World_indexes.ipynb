{
 "cells": [
  {
   "cell_type": "code",
   "execution_count": 1,
   "metadata": {},
   "outputs": [],
   "source": [
    "import pandas as pd\n",
    "import numpy as np\n"
   ]
  },
  {
   "cell_type": "code",
   "execution_count": 16,
   "metadata": {},
   "outputs": [],
   "source": [
    "date = ['2021.08.25','2021.08.26']\n",
    "DJ = [35366.26, 35405.5]\n",
    "SP500 = [4486.23, 4496.19]\n",
    "NASDAQ = [15019.80, 15041.90]\n",
    "FTSE100 = [7137.25, 7101.40] \n",
    "SH = [3540.38, 3501.66]\n",
    "SZSE = [14697.50, 14419.76]\n",
    "HANGSENG = [25609, 25291.25]\n",
    "SP_ASX = [7477.80, 7491.20]\n",
    "BRENT = [70.39,71.28]\n"
   ]
  },
  {
   "cell_type": "code",
   "execution_count": 17,
   "metadata": {},
   "outputs": [],
   "source": [
    "idx = pd.DataFrame({ 'DJ':DJ, 'SP500':SP500, 'NASDAQ':NASDAQ, \n",
    "                    'FTSE100':FTSE100, 'SH':SH, 'SZSE':SZSE, 'HANGSENG':HANGSENG, 'SP_ASX':SP_ASX}, index = date)\n"
   ]
  },
  {
   "cell_type": "code",
   "execution_count": 18,
   "metadata": {},
   "outputs": [
    {
     "data": {
      "text/html": [
       "<div>\n",
       "<style scoped>\n",
       "    .dataframe tbody tr th:only-of-type {\n",
       "        vertical-align: middle;\n",
       "    }\n",
       "\n",
       "    .dataframe tbody tr th {\n",
       "        vertical-align: top;\n",
       "    }\n",
       "\n",
       "    .dataframe thead th {\n",
       "        text-align: right;\n",
       "    }\n",
       "</style>\n",
       "<table border=\"1\" class=\"dataframe\">\n",
       "  <thead>\n",
       "    <tr style=\"text-align: right;\">\n",
       "      <th></th>\n",
       "      <th>DJ</th>\n",
       "      <th>SP500</th>\n",
       "      <th>NASDAQ</th>\n",
       "      <th>FTSE100</th>\n",
       "      <th>SH</th>\n",
       "      <th>SZSE</th>\n",
       "      <th>HANGSENG</th>\n",
       "      <th>SP_ASX</th>\n",
       "    </tr>\n",
       "  </thead>\n",
       "  <tbody>\n",
       "    <tr>\n",
       "      <th>2021.08.25</th>\n",
       "      <td>35366.26</td>\n",
       "      <td>4486.23</td>\n",
       "      <td>15019.8</td>\n",
       "      <td>7137.25</td>\n",
       "      <td>3540.38</td>\n",
       "      <td>14697.50</td>\n",
       "      <td>25609.00</td>\n",
       "      <td>7477.8</td>\n",
       "    </tr>\n",
       "    <tr>\n",
       "      <th>2021.08.26</th>\n",
       "      <td>35405.50</td>\n",
       "      <td>4496.19</td>\n",
       "      <td>15041.9</td>\n",
       "      <td>7101.40</td>\n",
       "      <td>3501.66</td>\n",
       "      <td>14419.76</td>\n",
       "      <td>25291.25</td>\n",
       "      <td>7491.2</td>\n",
       "    </tr>\n",
       "  </tbody>\n",
       "</table>\n",
       "</div>"
      ],
      "text/plain": [
       "                  DJ    SP500   NASDAQ  FTSE100       SH      SZSE  HANGSENG  \\\n",
       "2021.08.25  35366.26  4486.23  15019.8  7137.25  3540.38  14697.50  25609.00   \n",
       "2021.08.26  35405.50  4496.19  15041.9  7101.40  3501.66  14419.76  25291.25   \n",
       "\n",
       "            SP_ASX  \n",
       "2021.08.25  7477.8  \n",
       "2021.08.26  7491.2  "
      ]
     },
     "execution_count": 18,
     "metadata": {},
     "output_type": "execute_result"
    }
   ],
   "source": [
    "idx\n"
   ]
  },
  {
   "cell_type": "code",
   "execution_count": 19,
   "metadata": {},
   "outputs": [
    {
     "data": {
      "text/html": [
       "<div>\n",
       "<style scoped>\n",
       "    .dataframe tbody tr th:only-of-type {\n",
       "        vertical-align: middle;\n",
       "    }\n",
       "\n",
       "    .dataframe tbody tr th {\n",
       "        vertical-align: top;\n",
       "    }\n",
       "\n",
       "    .dataframe thead th {\n",
       "        text-align: right;\n",
       "    }\n",
       "</style>\n",
       "<table border=\"1\" class=\"dataframe\">\n",
       "  <thead>\n",
       "    <tr style=\"text-align: right;\">\n",
       "      <th></th>\n",
       "      <th>DJ</th>\n",
       "      <th>SP500</th>\n",
       "      <th>NASDAQ</th>\n",
       "      <th>FTSE100</th>\n",
       "      <th>SH</th>\n",
       "      <th>SZSE</th>\n",
       "      <th>HANGSENG</th>\n",
       "      <th>SP_ASX</th>\n",
       "    </tr>\n",
       "  </thead>\n",
       "  <tbody>\n",
       "    <tr>\n",
       "      <th>2021.08.25</th>\n",
       "      <td>NaN</td>\n",
       "      <td>NaN</td>\n",
       "      <td>NaN</td>\n",
       "      <td>NaN</td>\n",
       "      <td>NaN</td>\n",
       "      <td>NaN</td>\n",
       "      <td>NaN</td>\n",
       "      <td>NaN</td>\n",
       "    </tr>\n",
       "    <tr>\n",
       "      <th>2021.08.26</th>\n",
       "      <td>39.24</td>\n",
       "      <td>9.96</td>\n",
       "      <td>22.1</td>\n",
       "      <td>-35.85</td>\n",
       "      <td>-38.72</td>\n",
       "      <td>-277.74</td>\n",
       "      <td>-317.75</td>\n",
       "      <td>13.4</td>\n",
       "    </tr>\n",
       "  </tbody>\n",
       "</table>\n",
       "</div>"
      ],
      "text/plain": [
       "               DJ  SP500  NASDAQ  FTSE100     SH    SZSE  HANGSENG  SP_ASX\n",
       "2021.08.25    NaN    NaN     NaN      NaN    NaN     NaN       NaN     NaN\n",
       "2021.08.26  39.24   9.96    22.1   -35.85 -38.72 -277.74   -317.75    13.4"
      ]
     },
     "execution_count": 19,
     "metadata": {},
     "output_type": "execute_result"
    }
   ],
   "source": [
    "idx.diff(1)"
   ]
  },
  {
   "cell_type": "code",
   "execution_count": null,
   "metadata": {},
   "outputs": [],
   "source": []
  }
 ],
 "metadata": {
  "kernelspec": {
   "display_name": "Python 3",
   "language": "python",
   "name": "python3"
  },
  "language_info": {
   "codemirror_mode": {
    "name": "ipython",
    "version": 3
   },
   "file_extension": ".py",
   "mimetype": "text/x-python",
   "name": "python",
   "nbconvert_exporter": "python",
   "pygments_lexer": "ipython3",
   "version": "3.8.3"
  }
 },
 "nbformat": 4,
 "nbformat_minor": 4
}
