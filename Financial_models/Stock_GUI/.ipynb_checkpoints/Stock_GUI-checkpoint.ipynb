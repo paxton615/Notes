{
 "cells": [
  {
   "cell_type": "code",
   "execution_count": null,
   "metadata": {},
   "outputs": [],
   "source": [
    "# 程序在PyCharm中实现，这里尽是一个备份"
   ]
  },
  {
   "cell_type": "code",
   "execution_count": null,
   "metadata": {},
   "outputs": [],
   "source": [
    "import wx\n",
    "import wx.adv\n",
    "import wx.grid\n",
    "import wx.gizmos\n",
    "\n",
    "app = wx.App()\n",
    "frame = wx.Frame(None, -1, 'Test Frame')  # wx.Frame就已经可以实例出最简单的窗口Frame了\n",
    "btn = wx.Button(frame, -1, label='Open') # wx.Button已经可以实例出最简单的按钮，写着Open\n",
    "frame.Show(True) # 注意Show中的S是大写\n",
    "app.MainLoop()\n",
    "\n",
    "class Panel(wx.Panel): # 继承 wx.Panel，但和wx.Frame不同，上方没有wx.Panel. Panel 在这里是第一次出现。\n",
    "    def __init__(self, parent): # 构造函数\n",
    "        wx.Panel.__init__(self, parent=parent, id=-1)\n",
    "        # 此处添加 Panel 代码\n",
    "\n",
    "class Frame(wx.Frame): # 继承上方的 wx.Frame\n",
    "    def __init__(self): # 构造函数\n",
    "        wx.Frame.__init__(self, parent=None, title='Test Frame')\n",
    "        # 创建显示区域面板\n",
    "        self.DispPanel = Panel(self)\n",
    "        # 创建参数区面板\n",
    "        self.ParaPanel = wx.Panel(self, -1)\n",
    "        # 创建控制面板\n",
    "        self.CtrlPanel = wx.Panel(self, -1)\n",
    "        # 此处添加各类控件\n",
    "    btn = wx.Button(self.DispPanel, -1, label='Open')\n",
    "\n",
    "class App(wx.App):\n",
    "    def OnInit(self):\n",
    "        self.frame = Frame()\n",
    "        self.frame.Show()\n",
    "        self.SetTopWindow(self.frame) #设置当前 Frame 为程序的顶级窗口\n",
    "        return True #App 类中定义了 OnInit()方法。该方法在应用程序创建后到事件循环开始前被 wx.App 父类调用，需要返回一个为 True 的布尔值。\n",
    "\n",
    "if __name__ == '__main__':\n",
    "    app = APP()\n",
    "    app.MainLoop()"
   ]
  },
  {
   "cell_type": "code",
   "execution_count": null,
   "metadata": {},
   "outputs": [],
   "source": []
  },
  {
   "cell_type": "code",
   "execution_count": null,
   "metadata": {},
   "outputs": [],
   "source": []
  },
  {
   "cell_type": "code",
   "execution_count": null,
   "metadata": {},
   "outputs": [],
   "source": []
  },
  {
   "cell_type": "code",
   "execution_count": null,
   "metadata": {},
   "outputs": [],
   "source": []
  },
  {
   "cell_type": "code",
   "execution_count": null,
   "metadata": {},
   "outputs": [],
   "source": []
  }
 ],
 "metadata": {
  "kernelspec": {
   "display_name": "Python 3",
   "language": "python",
   "name": "python3"
  },
  "language_info": {
   "codemirror_mode": {
    "name": "ipython",
    "version": 3
   },
   "file_extension": ".py",
   "mimetype": "text/x-python",
   "name": "python",
   "nbconvert_exporter": "python",
   "pygments_lexer": "ipython3",
   "version": "3.8.3"
  }
 },
 "nbformat": 4,
 "nbformat_minor": 4
}
