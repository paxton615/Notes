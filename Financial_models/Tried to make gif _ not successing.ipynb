{
 "cells": [
  {
   "cell_type": "code",
   "execution_count": 3,
   "metadata": {},
   "outputs": [
    {
     "name": "stderr",
     "output_type": "stream",
     "text": [
      "/Users/paxton615/opt/anaconda3/lib/python3.8/site-packages/pandas/core/frame.py:4125: SettingWithCopyWarning: \n",
      "A value is trying to be set on a copy of a slice from a DataFrame\n",
      "\n",
      "See the caveats in the documentation: https://pandas.pydata.org/pandas-docs/stable/user_guide/indexing.html#returning-a-view-versus-a-copy\n",
      "  return super().rename(\n"
     ]
    }
   ],
   "source": [
    "import matplotlib.animation as ani\n",
    "import matplotlib.pyplot as plt\n",
    "import numpy as np\n",
    "import pandas as pd\n",
    "url = 'https://raw.githubusercontent.com/CSSEGISandData/COVID-19/master/csse_covid_19_data/csse_covid_19_time_series/time_series_covid19_deaths_global.csv'\n",
    "df = pd.read_csv(url, delimiter=',', header='infer')\n",
    "df_interest = df.loc[df['Country/Region'].isin(['United Kingdom', 'US', 'Italy', 'Germany'])\n",
    "                     & df['Province/State'].isna()]\n",
    "df_interest.rename(index=lambda x: df_interest.at[x, 'Country/Region'], inplace=True)\n",
    "df1 = df_interest.transpose()\n",
    "df1 = df1.drop(['Province/State', 'Country/Region', 'Lat', 'Long'])\n",
    "df1 = df1.loc[(df1 != 0).any(1)]\n",
    "df1.index = pd.to_datetime(df1.index)"
   ]
  },
  {
   "cell_type": "code",
   "execution_count": 4,
   "metadata": {},
   "outputs": [
    {
     "name": "stdout",
     "output_type": "stream",
     "text": [
      "/Users/paxton615/Github_Personal/Notes/Notes/Financial_models\r\n"
     ]
    }
   ],
   "source": [
    "! PWD"
   ]
  },
  {
   "cell_type": "code",
   "execution_count": 5,
   "metadata": {},
   "outputs": [
    {
     "name": "stdout",
     "output_type": "stream",
     "text": [
      "All_Placing_Companies_Prices.ipynb\r\n",
      "CALs.ipynb\r\n",
      "Candlesticks_plotting.ipynb\r\n",
      "\u001b[34mPortfolio_Optimizers\u001b[m\u001b[m\r\n",
      "Rapid_API_Yahoo_Finance.ipynb\r\n",
      "\u001b[34mSI_Placing_Plots\u001b[m\u001b[m\r\n",
      "SI_Selections_GrowthRate.ipynb\r\n",
      "\u001b[34mStock_GUI\u001b[m\u001b[m\r\n",
      "Stock_Price_Prediction.ipynb\r\n",
      "Untitled.ipynb\r\n",
      "Yfinance.ipynb\r\n",
      "add_text_to_top_of_bars_in_barplot_Seaborn_Python.png\r\n",
      "apple_max.csv\r\n",
      "df_0325.csv\r\n",
      "\u001b[34mpyecharts-assets\u001b[m\u001b[m\r\n",
      "spy_070101_070403.csv\r\n"
     ]
    }
   ],
   "source": [
    "! LS"
   ]
  },
  {
   "cell_type": "code",
   "execution_count": null,
   "metadata": {},
   "outputs": [],
   "source": []
  }
 ],
 "metadata": {
  "kernelspec": {
   "display_name": "Python 3",
   "language": "python",
   "name": "python3"
  },
  "language_info": {
   "codemirror_mode": {
    "name": "ipython",
    "version": 3
   },
   "file_extension": ".py",
   "mimetype": "text/x-python",
   "name": "python",
   "nbconvert_exporter": "python",
   "pygments_lexer": "ipython3",
   "version": "3.8.3"
  }
 },
 "nbformat": 4,
 "nbformat_minor": 4
}
