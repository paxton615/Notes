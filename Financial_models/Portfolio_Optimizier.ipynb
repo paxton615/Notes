{
 "cells": [
  {
   "cell_type": "code",
   "execution_count": null,
   "metadata": {},
   "outputs": [],
   "source": [
    "# attempts to optimize portfolio using the Efficient Frontier"
   ]
  },
  {
   "cell_type": "code",
   "execution_count": 1,
   "metadata": {},
   "outputs": [],
   "source": [
    "import pandas_datareader as web\n",
    "import pandas as pd\n",
    "import numpy as np\n",
    "from datetime import datetime\n",
    "import matplotlib.pyplot as plt\n",
    "plt.style.use('fivethirtyeight')"
   ]
  },
  {
   "cell_type": "code",
   "execution_count": 2,
   "metadata": {},
   "outputs": [],
   "source": [
    "# FAANG (FACEBOOK, AMAZON ... )\n",
    "assets = ['FB', 'AMZN', 'AAPL', 'NFLX', 'GOOG']"
   ]
  },
  {
   "cell_type": "code",
   "execution_count": 3,
   "metadata": {},
   "outputs": [],
   "source": [
    "# assign weights to stocks\n",
    "weights = np.array([0.2,0.2,0.2,0.2,0.2])"
   ]
  },
  {
   "cell_type": "code",
   "execution_count": 4,
   "metadata": {},
   "outputs": [],
   "source": [
    "# get the portfolio starting date\n",
    "stockStartDate = '2013-01-01' # the first four years for Facebook"
   ]
  },
  {
   "cell_type": "code",
   "execution_count": 5,
   "metadata": {},
   "outputs": [
    {
     "data": {
      "text/plain": [
       "'2021-04-14'"
      ]
     },
     "execution_count": 5,
     "metadata": {},
     "output_type": "execute_result"
    }
   ],
   "source": [
    "# ending date\n",
    "today = datetime.today().strftime('%Y-%m-%d')\n",
    "today"
   ]
  },
  {
   "cell_type": "code",
   "execution_count": 6,
   "metadata": {},
   "outputs": [],
   "source": [
    "# create a dataframe to store the adj close of the stocks\n",
    "df = pd.DataFrame()\n",
    "\n",
    "# store the adj close into df\n",
    "for stock in assets:\n",
    "    df[stock] = web.DataReader(stock, data_source='yahoo', start = '2017-01-01', end = '2021-04-13')['Adj Close']"
   ]
  },
  {
   "cell_type": "code",
   "execution_count": 7,
   "metadata": {},
   "outputs": [
    {
     "data": {
      "text/html": [
       "<div>\n",
       "<style scoped>\n",
       "    .dataframe tbody tr th:only-of-type {\n",
       "        vertical-align: middle;\n",
       "    }\n",
       "\n",
       "    .dataframe tbody tr th {\n",
       "        vertical-align: top;\n",
       "    }\n",
       "\n",
       "    .dataframe thead th {\n",
       "        text-align: right;\n",
       "    }\n",
       "</style>\n",
       "<table border=\"1\" class=\"dataframe\">\n",
       "  <thead>\n",
       "    <tr style=\"text-align: right;\">\n",
       "      <th></th>\n",
       "      <th>FB</th>\n",
       "      <th>AMZN</th>\n",
       "      <th>AAPL</th>\n",
       "      <th>NFLX</th>\n",
       "      <th>GOOG</th>\n",
       "    </tr>\n",
       "    <tr>\n",
       "      <th>Date</th>\n",
       "      <th></th>\n",
       "      <th></th>\n",
       "      <th></th>\n",
       "      <th></th>\n",
       "      <th></th>\n",
       "    </tr>\n",
       "  </thead>\n",
       "  <tbody>\n",
       "    <tr>\n",
       "      <th>2017-01-03</th>\n",
       "      <td>116.860001</td>\n",
       "      <td>753.669983</td>\n",
       "      <td>27.459938</td>\n",
       "      <td>127.489998</td>\n",
       "      <td>786.140015</td>\n",
       "    </tr>\n",
       "    <tr>\n",
       "      <th>2017-01-04</th>\n",
       "      <td>118.690002</td>\n",
       "      <td>757.179993</td>\n",
       "      <td>27.429203</td>\n",
       "      <td>129.410004</td>\n",
       "      <td>786.900024</td>\n",
       "    </tr>\n",
       "    <tr>\n",
       "      <th>2017-01-05</th>\n",
       "      <td>120.669998</td>\n",
       "      <td>780.450012</td>\n",
       "      <td>27.568691</td>\n",
       "      <td>131.809998</td>\n",
       "      <td>794.020020</td>\n",
       "    </tr>\n",
       "    <tr>\n",
       "      <th>2017-01-06</th>\n",
       "      <td>123.410004</td>\n",
       "      <td>795.989990</td>\n",
       "      <td>27.876030</td>\n",
       "      <td>131.070007</td>\n",
       "      <td>806.150024</td>\n",
       "    </tr>\n",
       "    <tr>\n",
       "      <th>2017-01-09</th>\n",
       "      <td>124.900002</td>\n",
       "      <td>796.919983</td>\n",
       "      <td>28.131361</td>\n",
       "      <td>130.949997</td>\n",
       "      <td>806.650024</td>\n",
       "    </tr>\n",
       "    <tr>\n",
       "      <th>...</th>\n",
       "      <td>...</td>\n",
       "      <td>...</td>\n",
       "      <td>...</td>\n",
       "      <td>...</td>\n",
       "      <td>...</td>\n",
       "    </tr>\n",
       "    <tr>\n",
       "      <th>2021-04-07</th>\n",
       "      <td>313.089996</td>\n",
       "      <td>3279.389893</td>\n",
       "      <td>127.900002</td>\n",
       "      <td>546.989990</td>\n",
       "      <td>2249.679932</td>\n",
       "    </tr>\n",
       "    <tr>\n",
       "      <th>2021-04-08</th>\n",
       "      <td>313.019989</td>\n",
       "      <td>3299.300049</td>\n",
       "      <td>130.360001</td>\n",
       "      <td>554.580017</td>\n",
       "      <td>2265.439941</td>\n",
       "    </tr>\n",
       "    <tr>\n",
       "      <th>2021-04-09</th>\n",
       "      <td>312.459991</td>\n",
       "      <td>3372.199951</td>\n",
       "      <td>133.000000</td>\n",
       "      <td>555.309998</td>\n",
       "      <td>2285.879883</td>\n",
       "    </tr>\n",
       "    <tr>\n",
       "      <th>2021-04-12</th>\n",
       "      <td>311.540009</td>\n",
       "      <td>3379.389893</td>\n",
       "      <td>131.240005</td>\n",
       "      <td>552.780029</td>\n",
       "      <td>2254.790039</td>\n",
       "    </tr>\n",
       "    <tr>\n",
       "      <th>2021-04-13</th>\n",
       "      <td>309.760010</td>\n",
       "      <td>3400.000000</td>\n",
       "      <td>134.429993</td>\n",
       "      <td>553.729980</td>\n",
       "      <td>2267.270020</td>\n",
       "    </tr>\n",
       "  </tbody>\n",
       "</table>\n",
       "<p>1076 rows × 5 columns</p>\n",
       "</div>"
      ],
      "text/plain": [
       "                    FB         AMZN        AAPL        NFLX         GOOG\n",
       "Date                                                                    \n",
       "2017-01-03  116.860001   753.669983   27.459938  127.489998   786.140015\n",
       "2017-01-04  118.690002   757.179993   27.429203  129.410004   786.900024\n",
       "2017-01-05  120.669998   780.450012   27.568691  131.809998   794.020020\n",
       "2017-01-06  123.410004   795.989990   27.876030  131.070007   806.150024\n",
       "2017-01-09  124.900002   796.919983   28.131361  130.949997   806.650024\n",
       "...                ...          ...         ...         ...          ...\n",
       "2021-04-07  313.089996  3279.389893  127.900002  546.989990  2249.679932\n",
       "2021-04-08  313.019989  3299.300049  130.360001  554.580017  2265.439941\n",
       "2021-04-09  312.459991  3372.199951  133.000000  555.309998  2285.879883\n",
       "2021-04-12  311.540009  3379.389893  131.240005  552.780029  2254.790039\n",
       "2021-04-13  309.760010  3400.000000  134.429993  553.729980  2267.270020\n",
       "\n",
       "[1076 rows x 5 columns]"
      ]
     },
     "execution_count": 7,
     "metadata": {},
     "output_type": "execute_result"
    }
   ],
   "source": [
    "df"
   ]
  },
  {
   "cell_type": "code",
   "execution_count": 8,
   "metadata": {},
   "outputs": [
    {
     "data": {
      "image/png": "[encoded data removed]",
      "text/plain": [
       "<Figure size 864x576 with 1 Axes>"
      ]
     },
     "metadata": {},
     "output_type": "display_data"
    }
   ],
   "source": [
    "# visually show portfolio\n",
    "title = 'Portfolio Adj.Close Price Histroy'\n",
    "\n",
    "# get the stocks\n",
    "my_stocks = df\n",
    "\n",
    "# create\n",
    "plt.figure(figsize=(12,8))\n",
    "for c in my_stocks.columns.values:\n",
    "    plt.plot(my_stocks[c], label= c)\n",
    "    \n",
    "plt.title(title)\n",
    "plt.xlabel('Date', fontsize=18)\n",
    "plt.ylabel('Adj. Close USD($) ', fontsize=18)\n",
    "plt.legend(my_stocks.columns.values, loc='upper left')\n",
    "plt.show()"
   ]
  },
  {
   "cell_type": "code",
   "execution_count": 9,
   "metadata": {
    "scrolled": true
   },
   "outputs": [
    {
     "data": {
      "text/html": [
       "<div>\n",
       "<style scoped>\n",
       "    .dataframe tbody tr th:only-of-type {\n",
       "        vertical-align: middle;\n",
       "    }\n",
       "\n",
       "    .dataframe tbody tr th {\n",
       "        vertical-align: top;\n",
       "    }\n",
       "\n",
       "    .dataframe thead th {\n",
       "        text-align: right;\n",
       "    }\n",
       "</style>\n",
       "<table border=\"1\" class=\"dataframe\">\n",
       "  <thead>\n",
       "    <tr style=\"text-align: right;\">\n",
       "      <th></th>\n",
       "      <th>FB</th>\n",
       "      <th>AMZN</th>\n",
       "      <th>AAPL</th>\n",
       "      <th>NFLX</th>\n",
       "      <th>GOOG</th>\n",
       "    </tr>\n",
       "    <tr>\n",
       "      <th>Date</th>\n",
       "      <th></th>\n",
       "      <th></th>\n",
       "      <th></th>\n",
       "      <th></th>\n",
       "      <th></th>\n",
       "    </tr>\n",
       "  </thead>\n",
       "  <tbody>\n",
       "    <tr>\n",
       "      <th>2017-01-03</th>\n",
       "      <td>NaN</td>\n",
       "      <td>NaN</td>\n",
       "      <td>NaN</td>\n",
       "      <td>NaN</td>\n",
       "      <td>NaN</td>\n",
       "    </tr>\n",
       "    <tr>\n",
       "      <th>2017-01-04</th>\n",
       "      <td>0.015660</td>\n",
       "      <td>0.004657</td>\n",
       "      <td>-0.001119</td>\n",
       "      <td>0.015060</td>\n",
       "      <td>0.000967</td>\n",
       "    </tr>\n",
       "    <tr>\n",
       "      <th>2017-01-05</th>\n",
       "      <td>0.016682</td>\n",
       "      <td>0.030732</td>\n",
       "      <td>0.005085</td>\n",
       "      <td>0.018546</td>\n",
       "      <td>0.009048</td>\n",
       "    </tr>\n",
       "    <tr>\n",
       "      <th>2017-01-06</th>\n",
       "      <td>0.022707</td>\n",
       "      <td>0.019912</td>\n",
       "      <td>0.011148</td>\n",
       "      <td>-0.005614</td>\n",
       "      <td>0.015277</td>\n",
       "    </tr>\n",
       "    <tr>\n",
       "      <th>2017-01-09</th>\n",
       "      <td>0.012074</td>\n",
       "      <td>0.001168</td>\n",
       "      <td>0.009160</td>\n",
       "      <td>-0.000916</td>\n",
       "      <td>0.000620</td>\n",
       "    </tr>\n",
       "    <tr>\n",
       "      <th>...</th>\n",
       "      <td>...</td>\n",
       "      <td>...</td>\n",
       "      <td>...</td>\n",
       "      <td>...</td>\n",
       "      <td>...</td>\n",
       "    </tr>\n",
       "    <tr>\n",
       "      <th>2021-04-07</th>\n",
       "      <td>0.022301</td>\n",
       "      <td>0.017237</td>\n",
       "      <td>0.013390</td>\n",
       "      <td>0.004518</td>\n",
       "      <td>0.011206</td>\n",
       "    </tr>\n",
       "    <tr>\n",
       "      <th>2021-04-08</th>\n",
       "      <td>-0.000224</td>\n",
       "      <td>0.006071</td>\n",
       "      <td>0.019234</td>\n",
       "      <td>0.013876</td>\n",
       "      <td>0.007005</td>\n",
       "    </tr>\n",
       "    <tr>\n",
       "      <th>2021-04-09</th>\n",
       "      <td>-0.001789</td>\n",
       "      <td>0.022096</td>\n",
       "      <td>0.020252</td>\n",
       "      <td>0.001316</td>\n",
       "      <td>0.009023</td>\n",
       "    </tr>\n",
       "    <tr>\n",
       "      <th>2021-04-12</th>\n",
       "      <td>-0.002944</td>\n",
       "      <td>0.002132</td>\n",
       "      <td>-0.013233</td>\n",
       "      <td>-0.004556</td>\n",
       "      <td>-0.013601</td>\n",
       "    </tr>\n",
       "    <tr>\n",
       "      <th>2021-04-13</th>\n",
       "      <td>-0.005714</td>\n",
       "      <td>0.006099</td>\n",
       "      <td>0.024307</td>\n",
       "      <td>0.001718</td>\n",
       "      <td>0.005535</td>\n",
       "    </tr>\n",
       "  </tbody>\n",
       "</table>\n",
       "<p>1076 rows × 5 columns</p>\n",
       "</div>"
      ],
      "text/plain": [
       "                  FB      AMZN      AAPL      NFLX      GOOG\n",
       "Date                                                        \n",
       "2017-01-03       NaN       NaN       NaN       NaN       NaN\n",
       "2017-01-04  0.015660  0.004657 -0.001119  0.015060  0.000967\n",
       "2017-01-05  0.016682  0.030732  0.005085  0.018546  0.009048\n",
       "2017-01-06  0.022707  0.019912  0.011148 -0.005614  0.015277\n",
       "2017-01-09  0.012074  0.001168  0.009160 -0.000916  0.000620\n",
       "...              ...       ...       ...       ...       ...\n",
       "2021-04-07  0.022301  0.017237  0.013390  0.004518  0.011206\n",
       "2021-04-08 -0.000224  0.006071  0.019234  0.013876  0.007005\n",
       "2021-04-09 -0.001789  0.022096  0.020252  0.001316  0.009023\n",
       "2021-04-12 -0.002944  0.002132 -0.013233 -0.004556 -0.013601\n",
       "2021-04-13 -0.005714  0.006099  0.024307  0.001718  0.005535\n",
       "\n",
       "[1076 rows x 5 columns]"
      ]
     },
     "execution_count": 9,
     "metadata": {},
     "output_type": "execute_result"
    }
   ],
   "source": [
    "# show the daily simple return\n",
    "returns = df.pct_change() #  pct_change = (day_price - previous_day_price) / previous_day_price\n",
    "returns"
   ]
  },
  {
   "cell_type": "code",
   "execution_count": 10,
   "metadata": {},
   "outputs": [
    {
     "data": {
      "text/html": [
       "<div>\n",
       "<style scoped>\n",
       "    .dataframe tbody tr th:only-of-type {\n",
       "        vertical-align: middle;\n",
       "    }\n",
       "\n",
       "    .dataframe tbody tr th {\n",
       "        vertical-align: top;\n",
       "    }\n",
       "\n",
       "    .dataframe thead th {\n",
       "        text-align: right;\n",
       "    }\n",
       "</style>\n",
       "<table border=\"1\" class=\"dataframe\">\n",
       "  <thead>\n",
       "    <tr style=\"text-align: right;\">\n",
       "      <th></th>\n",
       "      <th>FB</th>\n",
       "      <th>AMZN</th>\n",
       "      <th>AAPL</th>\n",
       "      <th>NFLX</th>\n",
       "      <th>GOOG</th>\n",
       "    </tr>\n",
       "  </thead>\n",
       "  <tbody>\n",
       "    <tr>\n",
       "      <th>FB</th>\n",
       "      <td>0.000456</td>\n",
       "      <td>0.000259</td>\n",
       "      <td>0.000264</td>\n",
       "      <td>0.000272</td>\n",
       "      <td>0.000262</td>\n",
       "    </tr>\n",
       "    <tr>\n",
       "      <th>AMZN</th>\n",
       "      <td>0.000259</td>\n",
       "      <td>0.000365</td>\n",
       "      <td>0.000246</td>\n",
       "      <td>0.000308</td>\n",
       "      <td>0.000228</td>\n",
       "    </tr>\n",
       "    <tr>\n",
       "      <th>AAPL</th>\n",
       "      <td>0.000264</td>\n",
       "      <td>0.000246</td>\n",
       "      <td>0.000399</td>\n",
       "      <td>0.000246</td>\n",
       "      <td>0.000234</td>\n",
       "    </tr>\n",
       "    <tr>\n",
       "      <th>NFLX</th>\n",
       "      <td>0.000272</td>\n",
       "      <td>0.000308</td>\n",
       "      <td>0.000246</td>\n",
       "      <td>0.000634</td>\n",
       "      <td>0.000241</td>\n",
       "    </tr>\n",
       "    <tr>\n",
       "      <th>GOOG</th>\n",
       "      <td>0.000262</td>\n",
       "      <td>0.000228</td>\n",
       "      <td>0.000234</td>\n",
       "      <td>0.000241</td>\n",
       "      <td>0.000311</td>\n",
       "    </tr>\n",
       "  </tbody>\n",
       "</table>\n",
       "</div>"
      ],
      "text/plain": [
       "            FB      AMZN      AAPL      NFLX      GOOG\n",
       "FB    0.000456  0.000259  0.000264  0.000272  0.000262\n",
       "AMZN  0.000259  0.000365  0.000246  0.000308  0.000228\n",
       "AAPL  0.000264  0.000246  0.000399  0.000246  0.000234\n",
       "NFLX  0.000272  0.000308  0.000246  0.000634  0.000241\n",
       "GOOG  0.000262  0.000228  0.000234  0.000241  0.000311"
      ]
     },
     "execution_count": 10,
     "metadata": {},
     "output_type": "execute_result"
    }
   ],
   "source": [
    "returns.cov()"
   ]
  },
  {
   "cell_type": "code",
   "execution_count": 11,
   "metadata": {},
   "outputs": [
    {
     "data": {
      "text/html": [
       "<div>\n",
       "<style scoped>\n",
       "    .dataframe tbody tr th:only-of-type {\n",
       "        vertical-align: middle;\n",
       "    }\n",
       "\n",
       "    .dataframe tbody tr th {\n",
       "        vertical-align: top;\n",
       "    }\n",
       "\n",
       "    .dataframe thead th {\n",
       "        text-align: right;\n",
       "    }\n",
       "</style>\n",
       "<table border=\"1\" class=\"dataframe\">\n",
       "  <thead>\n",
       "    <tr style=\"text-align: right;\">\n",
       "      <th></th>\n",
       "      <th>FB</th>\n",
       "      <th>AMZN</th>\n",
       "      <th>AAPL</th>\n",
       "      <th>NFLX</th>\n",
       "      <th>GOOG</th>\n",
       "    </tr>\n",
       "  </thead>\n",
       "  <tbody>\n",
       "    <tr>\n",
       "      <th>FB</th>\n",
       "      <td>0.115026</td>\n",
       "      <td>0.065380</td>\n",
       "      <td>0.066473</td>\n",
       "      <td>0.068476</td>\n",
       "      <td>0.066015</td>\n",
       "    </tr>\n",
       "    <tr>\n",
       "      <th>AMZN</th>\n",
       "      <td>0.065380</td>\n",
       "      <td>0.092084</td>\n",
       "      <td>0.061891</td>\n",
       "      <td>0.077669</td>\n",
       "      <td>0.057383</td>\n",
       "    </tr>\n",
       "    <tr>\n",
       "      <th>AAPL</th>\n",
       "      <td>0.066473</td>\n",
       "      <td>0.061891</td>\n",
       "      <td>0.100522</td>\n",
       "      <td>0.062079</td>\n",
       "      <td>0.059061</td>\n",
       "    </tr>\n",
       "    <tr>\n",
       "      <th>NFLX</th>\n",
       "      <td>0.068476</td>\n",
       "      <td>0.077669</td>\n",
       "      <td>0.062079</td>\n",
       "      <td>0.159807</td>\n",
       "      <td>0.060731</td>\n",
       "    </tr>\n",
       "    <tr>\n",
       "      <th>GOOG</th>\n",
       "      <td>0.066015</td>\n",
       "      <td>0.057383</td>\n",
       "      <td>0.059061</td>\n",
       "      <td>0.060731</td>\n",
       "      <td>0.078285</td>\n",
       "    </tr>\n",
       "  </tbody>\n",
       "</table>\n",
       "</div>"
      ],
      "text/plain": [
       "            FB      AMZN      AAPL      NFLX      GOOG\n",
       "FB    0.115026  0.065380  0.066473  0.068476  0.066015\n",
       "AMZN  0.065380  0.092084  0.061891  0.077669  0.057383\n",
       "AAPL  0.066473  0.061891  0.100522  0.062079  0.059061\n",
       "NFLX  0.068476  0.077669  0.062079  0.159807  0.060731\n",
       "GOOG  0.066015  0.057383  0.059061  0.060731  0.078285"
      ]
     },
     "execution_count": 11,
     "metadata": {},
     "output_type": "execute_result"
    }
   ],
   "source": [
    "# create the annualized covariance matrix\n",
    "cov_matrix_annual = returns.cov() * 252\n",
    "cov_matrix_annual"
   ]
  },
  {
   "cell_type": "code",
   "execution_count": null,
   "metadata": {},
   "outputs": [],
   "source": [
    "# calculate the portfolio variance\n",
    "port_variance = np.dot(weights.T , np.dot(cov_matrix_annual, weights))\n",
    "port_variance"
   ]
  },
  {
   "cell_type": "code",
   "execution_count": null,
   "metadata": {},
   "outputs": [],
   "source": [
    "# calculate the portfolio volatility aka std\n",
    "port_volatility = np.sqrt(port_variance)\n",
    "port_volatility"
   ]
  },
  {
   "cell_type": "code",
   "execution_count": null,
   "metadata": {},
   "outputs": [],
   "source": [
    "# calculate the annual portfolio return\n",
    "portfolioSimpleAnnualReturn = np.sum(returns.mean()*weights)*252\n",
    "portfolioSimpleAnnualReturn"
   ]
  },
  {
   "cell_type": "code",
   "execution_count": null,
   "metadata": {},
   "outputs": [],
   "source": [
    "# show the expected annual return, volatility(risk), varicance\n",
    "percent_var = str( round(port_variance, 2) * 100)+ '%'\n",
    "percent_vols = str( round(port_volatility, 2) *100)+ '%'\n",
    "percent_ret = str( round(portfolioSimpleAnnualReturn, 2)*100) + \"%\"\n",
    "\n",
    "print('expected annual return:'+ percent_ret)\n",
    "print('annual volatility/risk:'+ percent_vols)\n",
    "print('annual variance:'+ percent_var)"
   ]
  },
  {
   "cell_type": "markdown",
   "metadata": {},
   "source": [
    "let's see if we can get higher ret with lower vols"
   ]
  },
  {
   "cell_type": "code",
   "execution_count": null,
   "metadata": {},
   "outputs": [],
   "source": []
  },
  {
   "cell_type": "code",
   "execution_count": null,
   "metadata": {},
   "outputs": [],
   "source": [
    "from pypfopt.efficient_frontier import EfficientFrontier\n",
    "from pypfopt import risk_models \n",
    "from pypfopt import expected_returns"
   ]
  },
  {
   "cell_type": "code",
   "execution_count": null,
   "metadata": {},
   "outputs": [],
   "source": [
    "# portfolio optimization!\n",
    "\n",
    "# calculate expected returns and the annualised sample cov matrix of asset returns\n",
    "mu = expected_returns.mean_historical_return(df)\n",
    "S = risk_models.sample_cov(df)"
   ]
  },
  {
   "cell_type": "code",
   "execution_count": null,
   "metadata": {},
   "outputs": [],
   "source": [
    "# optimaize for max sharp ratio\n",
    "ef = EfficientFrontier(mu, S)\n",
    "weights = ef.max_sharpe()\n",
    "cleaned_weights = ef.clean_weights()\n",
    "print(cleaned_weights)\n",
    "print(ef.portfolio_performance(verbose=True))"
   ]
  },
  {
   "cell_type": "code",
   "execution_count": null,
   "metadata": {},
   "outputs": [],
   "source": [
    "# get the discrete allocation of each share per stock\n",
    "from pypfopt.discrete_allocation import DiscreteAllocation, get_latest_prices\n",
    "\n",
    "latest_prices = get_latest_prices(df)\n",
    "weights = cleaned_weights\n",
    "da = DiscreteAllocation(weights, latest_prices, total_portfolio_value=15000)\n",
    "\n",
    "allocation, leftover = da.lp_portfolio()\n",
    "print('Discrete allocation:', allocation)\n",
    "print('Funds remaining: ${:.2f}'.format(leftover))"
   ]
  },
  {
   "cell_type": "code",
   "execution_count": null,
   "metadata": {},
   "outputs": [],
   "source": []
  }
 ],
 "metadata": {
  "kernelspec": {
   "display_name": "Python 3",
   "language": "python",
   "name": "python3"
  },
  "language_info": {
   "codemirror_mode": {
    "name": "ipython",
    "version": 3
   },
   "file_extension": ".py",
   "mimetype": "text/x-python",
   "name": "python",
   "nbconvert_exporter": "python",
   "pygments_lexer": "ipython3",
   "version": "3.8.3"
  }
 },
 "nbformat": 4,
 "nbformat_minor": 4
}
