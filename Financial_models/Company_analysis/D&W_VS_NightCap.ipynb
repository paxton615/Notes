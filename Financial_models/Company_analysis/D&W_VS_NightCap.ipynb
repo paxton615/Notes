{
 "cells": [
  {
   "cell_type": "markdown",
   "metadata": {},
   "source": [
    "Indicators:\n",
    "\n",
    "Short-term liquidity measures:\n",
    "\n",
    "- current ratio: current assets/current liabilities\n",
    "\n",
    "- quick ratio: current assets-inventory/current liabilities\n",
    "\n",
    "Long-term solvency measures:\n",
    "\n",
    "- total debt ratio: total liabilities/ total assets\n",
    "\n",
    "- debt to equity ration: total liabilities/ total equity\n",
    "\n",
    "- times interest earned: EBITDA/interest expense\n",
    "\n",
    "Asset management/turnover measures:\n",
    "\n",
    "- inventory turnover: COGS/average inventory\n",
    "\n",
    "- days sales in inventory: 365 days/inventory turnover\n",
    "\n",
    "- a/r turnover: sales/average_a/r\n",
    "\n",
    "- average collection period: 356 days/average_a/r\n",
    "\n",
    "Financial indicators:\n",
    "\n",
    "- profit margin: net income/sales\n",
    "\n",
    "- return on assets (ROA): net income/average total asset\n",
    "\n",
    "- return on equity (ROE): net income/average total equity\n",
    "\n",
    "- earnings per share (EPS): net income/average shares outstanding\n",
    "\n",
    "- price-earnings (PE) ratio: price per share/earnings per share\n",
    "\n",
    "- market-to-book ratio: market value per share/book value per share\n",
    "\n",
    "- market capitalization\n",
    "\n"
   ]
  },
  {
   "cell_type": "code",
   "execution_count": null,
   "metadata": {},
   "outputs": [],
   "source": []
  },
  {
   "cell_type": "code",
   "execution_count": null,
   "metadata": {},
   "outputs": [],
   "source": []
  },
  {
   "cell_type": "code",
   "execution_count": null,
   "metadata": {},
   "outputs": [],
   "source": []
  },
  {
   "cell_type": "code",
   "execution_count": null,
   "metadata": {},
   "outputs": [],
   "source": []
  },
  {
   "cell_type": "code",
   "execution_count": null,
   "metadata": {},
   "outputs": [],
   "source": []
  },
  {
   "cell_type": "code",
   "execution_count": null,
   "metadata": {},
   "outputs": [],
   "source": []
  },
  {
   "cell_type": "code",
   "execution_count": null,
   "metadata": {},
   "outputs": [],
   "source": []
  },
  {
   "cell_type": "code",
   "execution_count": null,
   "metadata": {},
   "outputs": [],
   "source": []
  },
  {
   "cell_type": "code",
   "execution_count": null,
   "metadata": {},
   "outputs": [],
   "source": []
  },
  {
   "cell_type": "code",
   "execution_count": null,
   "metadata": {},
   "outputs": [],
   "source": []
  },
  {
   "cell_type": "code",
   "execution_count": null,
   "metadata": {},
   "outputs": [],
   "source": []
  },
  {
   "cell_type": "code",
   "execution_count": null,
   "metadata": {},
   "outputs": [],
   "source": []
  },
  {
   "cell_type": "code",
   "execution_count": null,
   "metadata": {},
   "outputs": [],
   "source": []
  },
  {
   "cell_type": "code",
   "execution_count": null,
   "metadata": {},
   "outputs": [],
   "source": []
  },
  {
   "cell_type": "code",
   "execution_count": null,
   "metadata": {},
   "outputs": [],
   "source": []
  },
  {
   "cell_type": "code",
   "execution_count": null,
   "metadata": {},
   "outputs": [],
   "source": []
  },
  {
   "cell_type": "code",
   "execution_count": null,
   "metadata": {},
   "outputs": [],
   "source": []
  }
 ],
 "metadata": {
  "kernelspec": {
   "display_name": "Python 3",
   "language": "python",
   "name": "python3"
  },
  "language_info": {
   "codemirror_mode": {
    "name": "ipython",
    "version": 3
   },
   "file_extension": ".py",
   "mimetype": "text/x-python",
   "name": "python",
   "nbconvert_exporter": "python",
   "pygments_lexer": "ipython3",
   "version": "3.8.3"
  }
 },
 "nbformat": 4,
 "nbformat_minor": 4
}
