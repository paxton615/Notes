{
 "cells": [
  {
   "cell_type": "markdown",
   "metadata": {},
   "source": [
    "### 期望目标\n",
    "通过几个重要的历史数据\n",
    "- IPO价格\n",
    "- 权证价格\n",
    "- 股票最高价格\n",
    "- 买卖时间等\n",
    "首先，期望达到的目的是：通过历史成绩，增强自我信心。\n",
    "其次，通过数据分析，找寻一定的规律"
   ]
  },
  {
   "cell_type": "markdown",
   "metadata": {},
   "source": [
    "### 逻辑梳理\n",
    "\n",
    "- IPO时间，价格，客户购买金额\n",
    "- Placing时间，价格，客户购买金额\n",
    "\n",
    "期望找到的目标：客户资金在每只股票上的分配额度。通过这个结果，反推，什么价格的股票是最适合的and Why\n"
   ]
  },
  {
   "cell_type": "markdown",
   "metadata": {},
   "source": [
    "### 近期目标修正\n",
    "- 期望实现的目标为如果过往的投资者往每只股票中投资10000镑，他们理论上能获得的最大收益为多少"
   ]
  },
  {
   "cell_type": "code",
   "execution_count": 1,
   "metadata": {},
   "outputs": [],
   "source": [
    "import pandas as pd\n",
    "from datetime import datetime\n",
    "import pandas_datareader.data as web"
   ]
  },
  {
   "cell_type": "code",
   "execution_count": 25,
   "metadata": {},
   "outputs": [],
   "source": [
    "# We would like all available data from 01/01/2000 until 12/31/2016.\n",
    "# start_date = '2010-01-01'\n",
    "# end_date = '2021-08-31'\n",
    "\n",
    "# User pandas_reader.data.DataReader to load the desired data. As simple as that.\n",
    "# panel_data = web.DataReader('palm.l', 'av-daily', start=datetime(2020, 2, 9), end=datetime(2021, 9, 24), api_key='EUWPYIBX33PPD5U5')\n",
    "ecr_data = web.DataReader('ecr.l', 'av-daily', start=datetime(2020, 1, 1), end=datetime(2021, 9, 24), api_key='EUWPYIBX33PPD5U5')\n",
    "ecr = ecr_data "
   ]
  },
  {
   "cell_type": "code",
   "execution_count": 26,
   "metadata": {},
   "outputs": [
    {
     "name": "stdout",
     "output_type": "stream",
     "text": [
      "             open  high     low  close   volume\n",
      "2020-01-02  0.725  0.78  0.6825  0.725   482605\n",
      "2020-01-03  0.725  0.78  0.7150  0.725  1741346\n",
      "             open  high    low  close    volume\n",
      "2021-07-26  1.575  1.75  1.565  1.625  11248950\n",
      "2021-07-27  1.650  1.70  1.566  1.600   5443371\n"
     ]
    }
   ],
   "source": [
    "print(ecr.head(2))\n",
    "print(ecr.tail(2))"
   ]
  },
  {
   "cell_type": "code",
   "execution_count": 41,
   "metadata": {},
   "outputs": [],
   "source": [
    "# Placing date, prices and Warranty date, duration, prices\n",
    "ecr1_p_date = datetime(2020,4,1)\n",
    "ecr1_p_price = 0.5  #pence\n",
    "\n",
    "ecr1_w_date = datetime(2020,4,1)\n",
    "ecr1_w_dura = 3 #years\n",
    "ecr1_w_price = 1 #pence\n",
    "\n",
    "ecr_high = ecr.high.max()\n",
    "ecr_high_date = ecr[ecr['high'] == ecr.high.max()].index.tolist()[0]"
   ]
  },
  {
   "cell_type": "code",
   "execution_count": 42,
   "metadata": {},
   "outputs": [
    {
     "data": {
      "text/plain": [
       "'2020-12-29'"
      ]
     },
     "execution_count": 42,
     "metadata": {},
     "output_type": "execute_result"
    }
   ],
   "source": [
    "ecr_high_date"
   ]
  },
  {
   "cell_type": "code",
   "execution_count": null,
   "metadata": {},
   "outputs": [],
   "source": []
  },
  {
   "cell_type": "code",
   "execution_count": null,
   "metadata": {},
   "outputs": [],
   "source": []
  },
  {
   "cell_type": "code",
   "execution_count": null,
   "metadata": {},
   "outputs": [],
   "source": []
  },
  {
   "cell_type": "code",
   "execution_count": null,
   "metadata": {},
   "outputs": [],
   "source": []
  },
  {
   "cell_type": "code",
   "execution_count": null,
   "metadata": {},
   "outputs": [],
   "source": []
  },
  {
   "cell_type": "code",
   "execution_count": null,
   "metadata": {},
   "outputs": [],
   "source": []
  },
  {
   "cell_type": "code",
   "execution_count": null,
   "metadata": {},
   "outputs": [],
   "source": []
  },
  {
   "cell_type": "code",
   "execution_count": null,
   "metadata": {},
   "outputs": [],
   "source": []
  },
  {
   "cell_type": "code",
   "execution_count": null,
   "metadata": {},
   "outputs": [],
   "source": []
  },
  {
   "cell_type": "code",
   "execution_count": null,
   "metadata": {},
   "outputs": [],
   "source": []
  },
  {
   "cell_type": "code",
   "execution_count": null,
   "metadata": {},
   "outputs": [],
   "source": []
  },
  {
   "cell_type": "code",
   "execution_count": null,
   "metadata": {},
   "outputs": [],
   "source": []
  }
 ],
 "metadata": {
  "kernelspec": {
   "display_name": "Python 3",
   "language": "python",
   "name": "python3"
  },
  "language_info": {
   "codemirror_mode": {
    "name": "ipython",
    "version": 3
   },
   "file_extension": ".py",
   "mimetype": "text/x-python",
   "name": "python",
   "nbconvert_exporter": "python",
   "pygments_lexer": "ipython3",
   "version": "3.8.3"
  }
 },
 "nbformat": 4,
 "nbformat_minor": 4
}
