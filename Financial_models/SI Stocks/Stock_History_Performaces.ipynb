{
 "cells": [
  {
   "cell_type": "markdown",
   "metadata": {},
   "source": [
    "### 期望目标\n",
    "通过几个重要的历史数据\n",
    "- IPO价格\n",
    "- 权证价格\n",
    "- 股票最高价格\n",
    "- 买卖时间等\n",
    "首先，期望达到的目的是：通过历史成绩，增强自我信心。\n",
    "其次，通过数据分析，找寻一定的规律"
   ]
  },
  {
   "cell_type": "markdown",
   "metadata": {},
   "source": [
    "### 逻辑梳理\n",
    "\n",
    "- IPO时间，价格，客户购买金额\n",
    "- Placing时间，价格，客户购买金额\n",
    "\n",
    "期望找到的目标：客户资金在每只股票上的分配额度。通过这个结果，反推，什么价格的股票是最适合的and Why\n"
   ]
  },
  {
   "cell_type": "markdown",
   "metadata": {},
   "source": [
    "### 近期目标修正\n",
    "- 期望实现的目标为如果过往的投资者往每只股票中投资10000镑，他们理论上能获得的最大收益为多少"
   ]
  },
  {
   "cell_type": "code",
   "execution_count": 48,
   "metadata": {},
   "outputs": [],
   "source": [
    "import pandas as pd\n",
    "from datetime import datetime\n",
    "import pandas_datareader.data as web\n",
    "import pandas as pd, seaborn as sns, matplotlib.pyplot as plt\n"
   ]
  },
  {
   "cell_type": "code",
   "execution_count": 25,
   "metadata": {},
   "outputs": [],
   "source": [
    "# We would like all available data from 01/01/2000 until 12/31/2016.\n",
    "# start_date = '2010-01-01'\n",
    "# end_date = '2021-08-31'\n",
    "\n",
    "# User pandas_reader.data.DataReader to load the desired data. As simple as that.\n",
    "# panel_data = web.DataReader('palm.l', 'av-daily', start=datetime(2020, 2, 9), end=datetime(2021, 9, 24), api_key='EUWPYIBX33PPD5U5')\n",
    "ecr_data = web.DataReader('ecr.l', 'av-daily', start=datetime(2020, 1, 1), end=datetime(2021, 9, 24), api_key='EUWPYIBX33PPD5U5')\n",
    "ecr = ecr_data "
   ]
  },
  {
   "cell_type": "code",
   "execution_count": 96,
   "metadata": {},
   "outputs": [],
   "source": [
    "# ecr.to_csv(r'/Users/paxton615/Desktop/ecr_csv.csv')"
   ]
  },
  {
   "cell_type": "code",
   "execution_count": 26,
   "metadata": {},
   "outputs": [
    {
     "name": "stdout",
     "output_type": "stream",
     "text": [
      "             open  high     low  close   volume\n",
      "2020-01-02  0.725  0.78  0.6825  0.725   482605\n",
      "2020-01-03  0.725  0.78  0.7150  0.725  1741346\n",
      "             open  high    low  close    volume\n",
      "2021-07-26  1.575  1.75  1.565  1.625  11248950\n",
      "2021-07-27  1.650  1.70  1.566  1.600   5443371\n"
     ]
    }
   ],
   "source": [
    "# check stock price\n",
    "print(ecr.head(2))\n",
    "print(ecr.tail(2))\n"
   ]
  },
  {
   "cell_type": "code",
   "execution_count": 70,
   "metadata": {},
   "outputs": [],
   "source": [
    "# 1st Placing date, prices and Warranty date, duration, prices\n",
    "\n",
    "ecr_p1_date = datetime(2020,4,1)\n",
    "ecr_p1_price = 0.5  #pence\n",
    "\n",
    "ecr_w1_date = datetime(2020,4,1)\n",
    "ecr_w1_dura = 3 #years\n",
    "ecr_w1_price = 1 #pence\n",
    "\n"
   ]
  },
  {
   "cell_type": "code",
   "execution_count": 72,
   "metadata": {},
   "outputs": [],
   "source": [
    "# 2ed Placing date, prices and Warranty date, duration, price\n",
    "\n",
    "ecr_p2_date = datetime(2020,7,1)\n",
    "ecr_p2_price = 1.3  #pence\n",
    "\n",
    "ecr_w2_date = datetime(2020,7,1)\n",
    "ecr_w2_dura = 3 #years\n",
    "ecr_w2_price = 2 #pence\n",
    "\n",
    "# turn string into datetime\n",
    "# datetime.fromisoformat(ecr_high_date) \n"
   ]
  },
  {
   "cell_type": "code",
   "execution_count": 75,
   "metadata": {},
   "outputs": [],
   "source": [
    "# Highest close price after the last placing\n",
    "\n",
    "ecr_highest = ecr.loc[ecr.index >= str(ecr_p2_date),:].close.max()\n"
   ]
  },
  {
   "cell_type": "code",
   "execution_count": 95,
   "metadata": {},
   "outputs": [
    {
     "name": "stdout",
     "output_type": "stream",
     "text": [
      "1.844793686868686\n"
     ]
    }
   ],
   "source": [
    "# Mean price from 2020-2021\n",
    "\n",
    "ecr_mean = ecr.close.mean()\n",
    "print(ecr.close.mean())"
   ]
  },
  {
   "cell_type": "markdown",
   "metadata": {},
   "source": [
    "- How much do you make?\n",
    "- For every deal, investor will invest 5000 pounds"
   ]
  },
  {
   "cell_type": "code",
   "execution_count": 78,
   "metadata": {},
   "outputs": [],
   "source": [
    "# funds put into 1st and 2nd placing\n",
    "\n",
    "ecr_p1_fund = 5000\n",
    "ecr_p2_fund = 5000\n"
   ]
  },
  {
   "cell_type": "code",
   "execution_count": 80,
   "metadata": {},
   "outputs": [
    {
     "name": "stdout",
     "output_type": "stream",
     "text": [
      "10000.0\n",
      "3846.0\n"
     ]
    }
   ],
   "source": [
    "# Shares owned of 1st and 2nd placing\n",
    "\n",
    "ecr_p1_shares = ecr_p1_fund/ecr_p1_price\n",
    "print(ecr_p1_shares)\n",
    "\n",
    "ecr_p2_shares = round(ecr_p2_fund/ecr_p2_price,0)\n",
    "print(ecr_p2_shares)\n"
   ]
  },
  {
   "cell_type": "markdown",
   "metadata": {},
   "source": [
    "- we assume that shares and warranties are 1:1"
   ]
  },
  {
   "cell_type": "code",
   "execution_count": 81,
   "metadata": {},
   "outputs": [
    {
     "name": "stdout",
     "output_type": "stream",
     "text": [
      "10000.0\n",
      "3846.0\n"
     ]
    }
   ],
   "source": [
    "# Warranty owned of 1st and 2nd placing\n",
    "\n",
    "ecr_p1_war = ecr_p1_shares / 1\n",
    "ecr_p2_war = ecr_p2_shares / 1\n",
    "print(ecr_p1_war)\n",
    "print(ecr_p2_war)\n"
   ]
  },
  {
   "cell_type": "markdown",
   "metadata": {},
   "source": [
    "- Calculate max return with 'ecr_highest' = 4.25\n"
   ]
  },
  {
   "cell_type": "code",
   "execution_count": 85,
   "metadata": {},
   "outputs": [
    {
     "name": "stdout",
     "output_type": "stream",
     "text": [
      "70000.0\n"
     ]
    }
   ],
   "source": [
    "rtn_p1 = (ecr_highest - ecr_p1_price) * ecr_p1_shares +\\\n",
    "            (ecr_highest - ecr_w1_price) * ecr_p1_war\n",
    "\n",
    "print(rtn_p1)\n"
   ]
  },
  {
   "cell_type": "code",
   "execution_count": 89,
   "metadata": {},
   "outputs": [
    {
     "name": "stdout",
     "output_type": "stream",
     "text": [
      "19999.2\n"
     ]
    }
   ],
   "source": [
    "rtn_p2 = (ecr_highest - ecr_p2_price) * ecr_p2_shares +\\\n",
    "            (ecr_highest - ecr_w2_price) * ecr_p2_war\n",
    "print(rtn_p2)\n"
   ]
  },
  {
   "cell_type": "code",
   "execution_count": 92,
   "metadata": {},
   "outputs": [
    {
     "name": "stdout",
     "output_type": "stream",
     "text": [
      "89999.2\n"
     ]
    }
   ],
   "source": [
    "# total return\n",
    "\n",
    "total_rtn = rtn_p1 + rtn_p2\n",
    "print(total_rtn)\n",
    "\n"
   ]
  },
  {
   "cell_type": "markdown",
   "metadata": {},
   "source": [
    "- Calculate mean return with 'ecr_mean' = 1.845"
   ]
  },
  {
   "cell_type": "code",
   "execution_count": 93,
   "metadata": {},
   "outputs": [
    {
     "name": "stdout",
     "output_type": "stream",
     "text": [
      "21895.87373737372\n"
     ]
    }
   ],
   "source": [
    "rtn_p1_m = (ecr_mean - ecr_p1_price) * ecr_p1_shares +\\\n",
    "            (ecr_mean - ecr_w1_price) * ecr_p1_war\n",
    "\n",
    "print(rtn_p1_m)\n"
   ]
  },
  {
   "cell_type": "code",
   "execution_count": 94,
   "metadata": {},
   "outputs": [
    {
     "name": "stdout",
     "output_type": "stream",
     "text": [
      "1498.3530393939327\n"
     ]
    }
   ],
   "source": [
    "rtn_p2_m = (ecr_mean - ecr_p2_price) * ecr_p2_shares +\\\n",
    "            (ecr_mean - ecr_w2_price) * ecr_p2_war\n",
    "\n",
    "print(rtn_p2_m)\n"
   ]
  },
  {
   "cell_type": "code",
   "execution_count": null,
   "metadata": {},
   "outputs": [],
   "source": []
  },
  {
   "cell_type": "code",
   "execution_count": null,
   "metadata": {},
   "outputs": [],
   "source": []
  },
  {
   "cell_type": "code",
   "execution_count": null,
   "metadata": {},
   "outputs": [],
   "source": []
  },
  {
   "cell_type": "code",
   "execution_count": null,
   "metadata": {},
   "outputs": [],
   "source": []
  },
  {
   "cell_type": "code",
   "execution_count": null,
   "metadata": {},
   "outputs": [],
   "source": []
  },
  {
   "cell_type": "code",
   "execution_count": null,
   "metadata": {},
   "outputs": [],
   "source": []
  },
  {
   "cell_type": "code",
   "execution_count": 61,
   "metadata": {},
   "outputs": [
    {
     "data": {
      "text/plain": [
       "<matplotlib.axes._subplots.AxesSubplot at 0x7fc685d17af0>"
      ]
     },
     "execution_count": 61,
     "metadata": {},
     "output_type": "execute_result"
    },
    {
     "data": {
      "image/png": "[encoded data removed]",
      "text/plain": [
       "<Figure size 1152x720 with 1 Axes>"
      ]
     },
     "metadata": {},
     "output_type": "display_data"
    }
   ],
   "source": [
    "plt.figure(figsize=(16,10))\n",
    "plt.style.use('seaborn-dark')\n",
    "ecr.close.plot()"
   ]
  },
  {
   "cell_type": "code",
   "execution_count": null,
   "metadata": {},
   "outputs": [],
   "source": []
  },
  {
   "cell_type": "code",
   "execution_count": null,
   "metadata": {},
   "outputs": [],
   "source": []
  },
  {
   "cell_type": "code",
   "execution_count": null,
   "metadata": {},
   "outputs": [],
   "source": []
  },
  {
   "cell_type": "code",
   "execution_count": null,
   "metadata": {},
   "outputs": [],
   "source": []
  },
  {
   "cell_type": "code",
   "execution_count": null,
   "metadata": {},
   "outputs": [],
   "source": []
  },
  {
   "cell_type": "code",
   "execution_count": null,
   "metadata": {},
   "outputs": [],
   "source": []
  },
  {
   "cell_type": "code",
   "execution_count": null,
   "metadata": {},
   "outputs": [],
   "source": []
  },
  {
   "cell_type": "code",
   "execution_count": null,
   "metadata": {},
   "outputs": [],
   "source": []
  },
  {
   "cell_type": "code",
   "execution_count": null,
   "metadata": {},
   "outputs": [],
   "source": []
  },
  {
   "cell_type": "code",
   "execution_count": null,
   "metadata": {},
   "outputs": [],
   "source": []
  },
  {
   "cell_type": "code",
   "execution_count": null,
   "metadata": {},
   "outputs": [],
   "source": []
  }
 ],
 "metadata": {
  "kernelspec": {
   "display_name": "Python 3",
   "language": "python",
   "name": "python3"
  },
  "language_info": {
   "codemirror_mode": {
    "name": "ipython",
    "version": 3
   },
   "file_extension": ".py",
   "mimetype": "text/x-python",
   "name": "python",
   "nbconvert_exporter": "python",
   "pygments_lexer": "ipython3",
   "version": "3.8.3"
  }
 },
 "nbformat": 4,
 "nbformat_minor": 4
}
