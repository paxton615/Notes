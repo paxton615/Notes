{
 "cells": [
  {
   "cell_type": "code",
   "execution_count": 1,
   "metadata": {},
   "outputs": [],
   "source": [
    "import pandas as pd\n",
    "import datetime as dt\n",
    "from datetime import datetime\n",
    "from datetime import date\n",
    "import matplotlib.pyplot as plt\n",
    "import re\n",
    "import requests\n",
    "pd.options.display.max_rows = 5000 "
   ]
  },
  {
   "cell_type": "markdown",
   "metadata": {},
   "source": [
    "- spaq : Spinaker Aquisitions"
   ]
  },
  {
   "cell_type": "code",
   "execution_count": 2,
   "metadata": {},
   "outputs": [],
   "source": [
    "url = \"https://yahoo-finance15.p.rapidapi.com/api/yahoo/hi/history/spaq.l/1d\"\n",
    "\n",
    "headers = {\n",
    "    'x-rapidapi-key': \"9cd97ba3camsh244cbd2e3e420a4p1e83c0jsne0fdd0787f8e\",\n",
    "    'x-rapidapi-host': \"yahoo-finance15.p.rapidapi.com\"\n",
    "    }\n",
    "\n",
    "spaq = requests.request(\"GET\", url, headers=headers)\n",
    "\n",
    "# print(response.text[:500])"
   ]
  },
  {
   "cell_type": "markdown",
   "metadata": {},
   "source": [
    "- pre : Pensana"
   ]
  },
  {
   "cell_type": "code",
   "execution_count": 3,
   "metadata": {},
   "outputs": [],
   "source": [
    "url = \"https://yahoo-finance15.p.rapidapi.com/api/yahoo/hi/history/pre.l/1d\"\n",
    "\n",
    "headers = {\n",
    "    'x-rapidapi-key': \"9cd97ba3camsh244cbd2e3e420a4p1e83c0jsne0fdd0787f8e\",\n",
    "    'x-rapidapi-host': \"yahoo-finance15.p.rapidapi.com\"\n",
    "    }\n",
    "\n",
    "pre = requests.request(\"GET\", url, headers=headers)"
   ]
  },
  {
   "cell_type": "code",
   "execution_count": 4,
   "metadata": {},
   "outputs": [],
   "source": [
    "spaq = spaq.text\n",
    "pre = pre.text"
   ]
  },
  {
   "cell_type": "code",
   "execution_count": 5,
   "metadata": {},
   "outputs": [],
   "source": [
    "def get_dates(string):\n",
    "    date = re.compile('\"date\":((.*),)')\n",
    "    date = date.findall(string)\n",
    "    date = [i[0][2:12] for i in date]\n",
    "    date = [datetime.strptime(i, \"%d-%m-%Y\").strftime(\"%Y-%m-%d\") for i in date]\n",
    "    return date\n",
    "\n",
    "def get_close(string):\n",
    "    close = re.compile('\"close\":((.*),)')\n",
    "    close = close.findall(string)\n",
    "    close = [float(i[1].strip()) for i in close]\n",
    "    return close"
   ]
  },
  {
   "cell_type": "code",
   "execution_count": 6,
   "metadata": {},
   "outputs": [],
   "source": [
    "spaq_date = get_dates(spaq)\n",
    "spaq_close = get_close(spaq)"
   ]
  },
  {
   "cell_type": "code",
   "execution_count": 7,
   "metadata": {},
   "outputs": [],
   "source": [
    "pre_date = get_dates(pre)\n",
    "pre_close = get_close(pre)"
   ]
  },
  {
   "cell_type": "code",
   "execution_count": 8,
   "metadata": {},
   "outputs": [
    {
     "name": "stdout",
     "output_type": "stream",
     "text": [
      "2021-08-12\n",
      "15.5\n",
      "2021-08-12\n",
      "84.8\n"
     ]
    }
   ],
   "source": [
    "print(spaq_date[-1])\n",
    "print(spaq_close[-1])\n",
    "print(pre_date[-1])\n",
    "print(pre_close[-1])"
   ]
  },
  {
   "cell_type": "code",
   "execution_count": 9,
   "metadata": {},
   "outputs": [],
   "source": [
    "fund = 10000\n",
    "client = ['Ma', 'Ma']\n",
    "stock = ['spaq', 'pre']\n",
    "total_cap = [10000, 10000]\n",
    "invest_in = [5000, 5000]\n",
    "ipo_price = [0.1, 1.34]\n",
    "w_pirce = [0.2, 0]\n",
    "s_position = pd.Series(invest_in)/pd.Series(ipo_price)\n",
    "p_vs_w = [0.5, 0]\n",
    "w_position = pd.Series(s_position)*pd.Series(p_vs_w)\n",
    "s_date = [spaq_date[-1], pre_date[-1]]\n",
    "s_close = [spaq_close[-1]/100, pre_close[-1]/100]"
   ]
  },
  {
   "cell_type": "code",
   "execution_count": 10,
   "metadata": {},
   "outputs": [],
   "source": [
    "mr_ma = pd.DataFrame({'client':client, 'stock':stock, 'total_cap':total_cap, 'invest_in':invest_in, \\\n",
    "             'ipo_price':ipo_price, 'w_pirce':w_pirce ,'p_vs_w':p_vs_w,'s_position':s_position, \\\n",
    "             'w_position':w_position, 's_date':s_date, 's_close':s_close,\\\n",
    "             })"
   ]
  },
  {
   "cell_type": "code",
   "execution_count": 11,
   "metadata": {},
   "outputs": [],
   "source": [
    "mr_ma['s_pft'] = (mr_ma['s_close'] - mr_ma['ipo_price'])* mr_ma['s_position']\n",
    "mr_ma['w_pft'] = [(i-j)*k if i>j else 0 for i,j,k in zip(mr_ma.s_close, mr_ma.w_pirce, mr_ma.w_position)]"
   ]
  },
  {
   "cell_type": "code",
   "execution_count": 12,
   "metadata": {},
   "outputs": [
    {
     "data": {
      "text/html": [
       "<div>\n",
       "<style scoped>\n",
       "    .dataframe tbody tr th:only-of-type {\n",
       "        vertical-align: middle;\n",
       "    }\n",
       "\n",
       "    .dataframe tbody tr th {\n",
       "        vertical-align: top;\n",
       "    }\n",
       "\n",
       "    .dataframe thead th {\n",
       "        text-align: right;\n",
       "    }\n",
       "</style>\n",
       "<table border=\"1\" class=\"dataframe\">\n",
       "  <thead>\n",
       "    <tr style=\"text-align: right;\">\n",
       "      <th></th>\n",
       "      <th>client</th>\n",
       "      <th>stock</th>\n",
       "      <th>total_cap</th>\n",
       "      <th>invest_in</th>\n",
       "      <th>ipo_price</th>\n",
       "      <th>w_pirce</th>\n",
       "      <th>p_vs_w</th>\n",
       "      <th>s_position</th>\n",
       "      <th>w_position</th>\n",
       "      <th>s_date</th>\n",
       "      <th>s_close</th>\n",
       "      <th>s_pft</th>\n",
       "      <th>w_pft</th>\n",
       "    </tr>\n",
       "  </thead>\n",
       "  <tbody>\n",
       "    <tr>\n",
       "      <th>0</th>\n",
       "      <td>Ma</td>\n",
       "      <td>spaq</td>\n",
       "      <td>10000</td>\n",
       "      <td>5000</td>\n",
       "      <td>0.10</td>\n",
       "      <td>0.2</td>\n",
       "      <td>0.5</td>\n",
       "      <td>50000.000000</td>\n",
       "      <td>25000.0</td>\n",
       "      <td>2021-08-12</td>\n",
       "      <td>0.155</td>\n",
       "      <td>2750.000000</td>\n",
       "      <td>0.0</td>\n",
       "    </tr>\n",
       "    <tr>\n",
       "      <th>1</th>\n",
       "      <td>Ma</td>\n",
       "      <td>pre</td>\n",
       "      <td>10000</td>\n",
       "      <td>5000</td>\n",
       "      <td>1.34</td>\n",
       "      <td>0.0</td>\n",
       "      <td>0.0</td>\n",
       "      <td>3731.343284</td>\n",
       "      <td>0.0</td>\n",
       "      <td>2021-08-12</td>\n",
       "      <td>0.848</td>\n",
       "      <td>-1835.820896</td>\n",
       "      <td>0.0</td>\n",
       "    </tr>\n",
       "  </tbody>\n",
       "</table>\n",
       "</div>"
      ],
      "text/plain": [
       "  client stock  total_cap  invest_in  ipo_price  w_pirce  p_vs_w  \\\n",
       "0     Ma  spaq      10000       5000       0.10      0.2     0.5   \n",
       "1     Ma   pre      10000       5000       1.34      0.0     0.0   \n",
       "\n",
       "     s_position  w_position      s_date  s_close        s_pft  w_pft  \n",
       "0  50000.000000     25000.0  2021-08-12    0.155  2750.000000    0.0  \n",
       "1   3731.343284         0.0  2021-08-12    0.848 -1835.820896    0.0  "
      ]
     },
     "execution_count": 12,
     "metadata": {},
     "output_type": "execute_result"
    }
   ],
   "source": [
    "mr_ma"
   ]
  },
  {
   "cell_type": "code",
   "execution_count": 13,
   "metadata": {},
   "outputs": [
    {
     "name": "stdout",
     "output_type": "stream",
     "text": [
      "10914.179104477611\n"
     ]
    }
   ],
   "source": [
    "account_balance = fund + sum(mr_ma['s_pft'])+sum(mr_ma['w_pft'])\n",
    "print(account_balance)"
   ]
  },
  {
   "cell_type": "code",
   "execution_count": null,
   "metadata": {},
   "outputs": [],
   "source": []
  },
  {
   "cell_type": "code",
   "execution_count": null,
   "metadata": {},
   "outputs": [],
   "source": []
  },
  {
   "cell_type": "code",
   "execution_count": null,
   "metadata": {},
   "outputs": [],
   "source": []
  }
 ],
 "metadata": {
  "kernelspec": {
   "display_name": "Python 3",
   "language": "python",
   "name": "python3"
  },
  "language_info": {
   "codemirror_mode": {
    "name": "ipython",
    "version": 3
   },
   "file_extension": ".py",
   "mimetype": "text/x-python",
   "name": "python",
   "nbconvert_exporter": "python",
   "pygments_lexer": "ipython3",
   "version": "3.8.3"
  }
 },
 "nbformat": 4,
 "nbformat_minor": 4
}
