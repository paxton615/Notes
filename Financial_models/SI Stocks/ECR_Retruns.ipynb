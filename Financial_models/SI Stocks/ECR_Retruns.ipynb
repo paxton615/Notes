{
 "cells": [
  {
   "cell_type": "code",
   "execution_count": 1,
   "metadata": {},
   "outputs": [],
   "source": [
    "import numpy as np\n",
    "import pandas as pd\n",
    "import pandas_datareader.data as web\n",
    "import matplotlib.pyplot as ply\n",
    "import seaborn as sns\n",
    "import warnings\n",
    "warnings.filterwarnings('ignore')\n",
    "pd.options.display.max_rows = 5000 "
   ]
  },
  {
   "cell_type": "code",
   "execution_count": 2,
   "metadata": {},
   "outputs": [],
   "source": [
    "# Load the data online or offline\n",
    "\n",
    "# ecr_data = web.DataReader('ecr.l', 'av-daily', start=datetime(2020, 1, 1), end=datetime(2021, 9, 24), api_key='EUWPYIBX33PPD5U5')\n",
    "# data = ecr_data \n",
    "\n",
    "# 注意：从csv导入时，index不是‘日期’了。网络加载的data没有这个问题。\n",
    "\n",
    "data = pd.read_csv(r'/Users/paxton615/Desktop/ECR_csv.csv')"
   ]
  },
  {
   "cell_type": "code",
   "execution_count": 3,
   "metadata": {},
   "outputs": [
    {
     "name": "stdout",
     "output_type": "stream",
     "text": [
      "   Unnamed: 0   open  high     low  close   volume\n",
      "0  2020-01-02  0.725  0.78  0.6825  0.725   482605\n",
      "1  2020-01-03  0.725  0.78  0.7150  0.725  1741346\n",
      "2  2020-01-07  0.670  0.67  0.6690  0.670   309251\n",
      "     Unnamed: 0   open  high    low  close    volume\n",
      "393  2021-07-23  1.500  1.60  1.483  1.575   6036634\n",
      "394  2021-07-26  1.575  1.75  1.565  1.625  11248950\n",
      "395  2021-07-27  1.650  1.70  1.566  1.600   5443371\n"
     ]
    }
   ],
   "source": [
    "print(data.head(3))\n",
    "print(data.tail(3))"
   ]
  },
  {
   "cell_type": "markdown",
   "metadata": {},
   "source": [
    "- Construct new dataframe, insert placing and warranty data"
   ]
  },
  {
   "cell_type": "code",
   "execution_count": 4,
   "metadata": {},
   "outputs": [
    {
     "name": "stdout",
     "output_type": "stream",
     "text": [
      "            close\n",
      "date             \n",
      "2021-07-23  1.575\n",
      "2021-07-26  1.625\n",
      "2021-07-27  1.600\n",
      "-----------------\n",
      "396\n"
     ]
    }
   ],
   "source": [
    "# Copy data\n",
    "df = data\n",
    "ecr = df[['Unnamed: 0','close']]\n",
    "ecr.columns = ['date','close']\n",
    "ecr.set_index('date', drop=True, inplace=True)\n",
    "print(ecr.tail(3))\n",
    "print('-----------------')\n",
    "print(len(ecr))"
   ]
  },
  {
   "cell_type": "markdown",
   "metadata": {},
   "source": [
    "- Insert 1st Placing data"
   ]
  },
  {
   "cell_type": "code",
   "execution_count": 7,
   "metadata": {},
   "outputs": [],
   "source": [
    "ecr_p1_sprice = 0.5\n",
    "ecr_p1_wprice = 1\n",
    "ecr_p2_sprice = 1.3\n",
    "ecr_p2_wprice = 2"
   ]
  },
  {
   "cell_type": "code",
   "execution_count": 8,
   "metadata": {},
   "outputs": [],
   "source": [
    "# 1st placing price is 0.5, date '2020-04-01'\n",
    "ecr['p1_sprice'] = [ecr_p1_sprice if i  >= '2020-04-01' else None for i in ecr.index]\n",
    "\n",
    "# 1st placing warranty is 1, date '2020-04-01'\n",
    "ecr['p1_wprice'] = [ecr_p1_wprice if i  >= '2020-04-01' else None for i in ecr.index]"
   ]
  },
  {
   "cell_type": "code",
   "execution_count": null,
   "metadata": {},
   "outputs": [],
   "source": [
    "# 2nd placing price is 1.3, date '2020-07-01'\n",
    "ecr['p2_sprice'] = [ecr_p2_sprice if i  >= '2020-07-01' else None for i in ecr.index]\n",
    "\n",
    "# 2nd placing warranty is 2, date '2020-07-01'\n",
    "ecr['p2_wprice'] = [ecr_p2_wprice if i  >= '2020-07-01' else None for i in ecr.index]"
   ]
  },
  {
   "cell_type": "markdown",
   "metadata": {},
   "source": [
    "- If investor put 5000 pounds for each placing, calculate share and warranty positions. \n",
    "- Share vs Warranty is 1:1"
   ]
  },
  {
   "cell_type": "code",
   "execution_count": null,
   "metadata": {},
   "outputs": [],
   "source": [
    "ecr['p1_sposition'] = [5000/ecr_p1_sprice if i >= '2020-04-01' else None for i in ecr.index]\n",
    "ecr['p1_wposition'] = ecr['p1_sposition']\n"
   ]
  },
  {
   "cell_type": "markdown",
   "metadata": {},
   "source": [
    "#### 注意：日期千万不能写错'2020-07-04'与'2020-7-04'有天差地别"
   ]
  },
  {
   "cell_type": "code",
   "execution_count": null,
   "metadata": {},
   "outputs": [],
   "source": [
    "ecr['p2_sposition'] = [round(5000/ecr_p2_sprice,0) if i >= '2020-07-01' else None for i in ecr.index]\n",
    "ecr['p2_wposition'] = ecr['p2_sposition']\n"
   ]
  },
  {
   "cell_type": "markdown",
   "metadata": {},
   "source": [
    "- Calculate investor's daily profit per share"
   ]
  },
  {
   "cell_type": "markdown",
   "metadata": {},
   "source": [
    "#### 注意：股价盈利有盈有亏，但权证是只盈不亏的。"
   ]
  },
  {
   "cell_type": "code",
   "execution_count": null,
   "metadata": {},
   "outputs": [],
   "source": [
    "ecr['p1_spft'] = ecr['close'] - ecr['p1_sprice']\n",
    "ecr['p1_wpft'] = ecr[]"
   ]
  },
  {
   "cell_type": "code",
   "execution_count": null,
   "metadata": {},
   "outputs": [],
   "source": [
    "# num = 0\n",
    "# diff = []\n",
    "# for i,j in zip(ecr['p1_price'],ecr['close']):\n",
    "#     if i > 0 :\n",
    "#         diff.append(round(j-i, 4))\n",
    "#     print(diff)\n",
    "    "
   ]
  },
  {
   "cell_type": "code",
   "execution_count": null,
   "metadata": {
    "scrolled": false
   },
   "outputs": [],
   "source": [
    "ecr\n"
   ]
  },
  {
   "cell_type": "code",
   "execution_count": null,
   "metadata": {
    "scrolled": false
   },
   "outputs": [],
   "source": [
    "ecr.p1_daypft.max()\n"
   ]
  },
  {
   "cell_type": "code",
   "execution_count": null,
   "metadata": {},
   "outputs": [],
   "source": [
    "ecr.p2_daypft.max()\n"
   ]
  },
  {
   "cell_type": "code",
   "execution_count": null,
   "metadata": {},
   "outputs": [],
   "source": []
  },
  {
   "cell_type": "code",
   "execution_count": null,
   "metadata": {},
   "outputs": [],
   "source": []
  },
  {
   "cell_type": "code",
   "execution_count": null,
   "metadata": {},
   "outputs": [],
   "source": []
  },
  {
   "cell_type": "code",
   "execution_count": null,
   "metadata": {},
   "outputs": [],
   "source": []
  },
  {
   "cell_type": "code",
   "execution_count": null,
   "metadata": {},
   "outputs": [],
   "source": []
  }
 ],
 "metadata": {
  "kernelspec": {
   "display_name": "Python 3",
   "language": "python",
   "name": "python3"
  },
  "language_info": {
   "codemirror_mode": {
    "name": "ipython",
    "version": 3
   },
   "file_extension": ".py",
   "mimetype": "text/x-python",
   "name": "python",
   "nbconvert_exporter": "python",
   "pygments_lexer": "ipython3",
   "version": "3.8.3"
  }
 },
 "nbformat": 4,
 "nbformat_minor": 4
}
