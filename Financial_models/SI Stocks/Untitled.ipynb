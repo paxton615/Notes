{
 "cells": [
  {
   "cell_type": "code",
   "execution_count": 13,
   "metadata": {},
   "outputs": [],
   "source": [
    "import requests\n",
    "import pandas as pd\n",
    "import re\n",
    "import datetime"
   ]
  },
  {
   "cell_type": "code",
   "execution_count": 55,
   "metadata": {},
   "outputs": [
    {
     "name": "stdout",
     "output_type": "stream",
     "text": [
      "{\"prices\":[{\"date\":1629375738,\"open\":39.5,\"high\":39.5,\"low\":38.29999923706055,\"close\":39.45000076293945,\"volume\":18127,\"adjclose\":39.45000076293945},{\"date\":1629270000,\"open\":40,\"high\":41,\"low\":38.29999923706055,\"close\":39,\"volume\":98562,\"adjclose\":39},{\"date\":1629183600,\"open\":40,\"high\":41,\"low\":39.266998291015625,\"close\":40,\"volume\":177542,\"adjclose\":40},{\"date\":1629097200,\"open\":39.5,\"high\":40.474998474121094,\"low\":38,\"close\":40,\"volume\":289653,\"adjclose\":40},{\"date\":1628838000,\"open\":37.5,\"h\n"
     ]
    }
   ],
   "source": [
    "\n",
    "url = \"https://apidojo-yahoo-finance-v1.p.rapidapi.com/stock/v3/get-historical-data\"\n",
    "\n",
    "querystring = {\"period\":\"Max\",\"symbol\":\"avo.l\",\"region\":\"uk\"}\n",
    "\n",
    "headers = {\n",
    "    'x-rapidapi-key': \"9cd97ba3camsh244cbd2e3e420a4p1e83c0jsne0fdd0787f8e\",\n",
    "    'x-rapidapi-host': \"apidojo-yahoo-finance-v1.p.rapidapi.com\"\n",
    "    }\n",
    "\n",
    "response = requests.request(\"GET\", url, headers=headers, params=querystring)\n",
    "\n",
    "print(response.text[:500])"
   ]
  },
  {
   "cell_type": "code",
   "execution_count": 56,
   "metadata": {},
   "outputs": [],
   "source": [
    "avo = response.text"
   ]
  },
  {
   "cell_type": "code",
   "execution_count": 57,
   "metadata": {},
   "outputs": [
    {
     "data": {
      "text/plain": [
       "254"
      ]
     },
     "execution_count": 57,
     "metadata": {},
     "output_type": "execute_result"
    }
   ],
   "source": [
    "close = re.compile('\"close\":(\\d*\\.?\\d+)')\n",
    "close = close.findall(avo)\n",
    "close = [round(float(i),2) for i in close]\n",
    "close[:5]\n",
    "len(close)"
   ]
  },
  {
   "cell_type": "code",
   "execution_count": 39,
   "metadata": {
    "scrolled": true
   },
   "outputs": [],
   "source": [
    "date = re.compile('\"date\":(\\d*\\.?\\d+)')\n",
    "date = date.findall(avo)\n",
    "date = [datetime.datetime.fromtimestamp(int(i)).strftime('%Y-%m-%d') for i in date]"
   ]
  },
  {
   "cell_type": "code",
   "execution_count": 42,
   "metadata": {},
   "outputs": [
    {
     "name": "stdout",
     "output_type": "stream",
     "text": [
      "['2021-08-19', '2021-08-18', '2021-08-17', '2021-08-16', '2021-08-13']\n",
      "['2020-08-25', '2020-08-24', '2020-08-21', '2020-08-20', '2020-08-19']\n",
      "254\n"
     ]
    }
   ],
   "source": [
    "print(date[:5])\n",
    "print(date[-5:])\n",
    "print(len(date))"
   ]
  },
  {
   "cell_type": "code",
   "execution_count": 33,
   "metadata": {},
   "outputs": [
    {
     "data": {
      "text/plain": [
       "[18127.0, 98562.0, 177542.0, 289653.0, 450079.0]"
      ]
     },
     "execution_count": 33,
     "metadata": {},
     "output_type": "execute_result"
    }
   ],
   "source": [
    "volume = re.compile('\"volume\":(\\d*\\.?\\d+)')\n",
    "volume = volume.findall(avo)\n",
    "volume = [round(float(i),2) for i in volume]"
   ]
  },
  {
   "cell_type": "code",
   "execution_count": 41,
   "metadata": {},
   "outputs": [
    {
     "name": "stdout",
     "output_type": "stream",
     "text": [
      "[18127.0, 98562.0, 177542.0, 289653.0, 450079.0]\n",
      "254\n"
     ]
    }
   ],
   "source": [
    "print(volume[:5])\n",
    "print(len(volume))"
   ]
  },
  {
   "cell_type": "code",
   "execution_count": 45,
   "metadata": {},
   "outputs": [],
   "source": [
    "AVO = pd.DataFrame({'date':date, 'close':close, 'volume':volume})"
   ]
  },
  {
   "cell_type": "code",
   "execution_count": 47,
   "metadata": {},
   "outputs": [
    {
     "data": {
      "text/html": [
       "<div>\n",
       "<style scoped>\n",
       "    .dataframe tbody tr th:only-of-type {\n",
       "        vertical-align: middle;\n",
       "    }\n",
       "\n",
       "    .dataframe tbody tr th {\n",
       "        vertical-align: top;\n",
       "    }\n",
       "\n",
       "    .dataframe thead th {\n",
       "        text-align: right;\n",
       "    }\n",
       "</style>\n",
       "<table border=\"1\" class=\"dataframe\">\n",
       "  <thead>\n",
       "    <tr style=\"text-align: right;\">\n",
       "      <th></th>\n",
       "      <th>date</th>\n",
       "      <th>close</th>\n",
       "      <th>volume</th>\n",
       "    </tr>\n",
       "  </thead>\n",
       "  <tbody>\n",
       "    <tr>\n",
       "      <th>0</th>\n",
       "      <td>2021-08-19</td>\n",
       "      <td>39.45</td>\n",
       "      <td>18127.0</td>\n",
       "    </tr>\n",
       "    <tr>\n",
       "      <th>1</th>\n",
       "      <td>2021-08-18</td>\n",
       "      <td>39.00</td>\n",
       "      <td>98562.0</td>\n",
       "    </tr>\n",
       "    <tr>\n",
       "      <th>2</th>\n",
       "      <td>2021-08-17</td>\n",
       "      <td>40.00</td>\n",
       "      <td>177542.0</td>\n",
       "    </tr>\n",
       "    <tr>\n",
       "      <th>3</th>\n",
       "      <td>2021-08-16</td>\n",
       "      <td>40.00</td>\n",
       "      <td>289653.0</td>\n",
       "    </tr>\n",
       "    <tr>\n",
       "      <th>4</th>\n",
       "      <td>2021-08-13</td>\n",
       "      <td>39.00</td>\n",
       "      <td>450079.0</td>\n",
       "    </tr>\n",
       "    <tr>\n",
       "      <th>...</th>\n",
       "      <td>...</td>\n",
       "      <td>...</td>\n",
       "      <td>...</td>\n",
       "    </tr>\n",
       "    <tr>\n",
       "      <th>249</th>\n",
       "      <td>2020-08-25</td>\n",
       "      <td>32.50</td>\n",
       "      <td>63739.0</td>\n",
       "    </tr>\n",
       "    <tr>\n",
       "      <th>250</th>\n",
       "      <td>2020-08-24</td>\n",
       "      <td>32.50</td>\n",
       "      <td>40840.0</td>\n",
       "    </tr>\n",
       "    <tr>\n",
       "      <th>251</th>\n",
       "      <td>2020-08-21</td>\n",
       "      <td>32.50</td>\n",
       "      <td>197914.0</td>\n",
       "    </tr>\n",
       "    <tr>\n",
       "      <th>252</th>\n",
       "      <td>2020-08-20</td>\n",
       "      <td>32.50</td>\n",
       "      <td>247271.0</td>\n",
       "    </tr>\n",
       "    <tr>\n",
       "      <th>253</th>\n",
       "      <td>2020-08-19</td>\n",
       "      <td>34.00</td>\n",
       "      <td>298915.0</td>\n",
       "    </tr>\n",
       "  </tbody>\n",
       "</table>\n",
       "<p>254 rows × 3 columns</p>\n",
       "</div>"
      ],
      "text/plain": [
       "           date  close    volume\n",
       "0    2021-08-19  39.45   18127.0\n",
       "1    2021-08-18  39.00   98562.0\n",
       "2    2021-08-17  40.00  177542.0\n",
       "3    2021-08-16  40.00  289653.0\n",
       "4    2021-08-13  39.00  450079.0\n",
       "..          ...    ...       ...\n",
       "249  2020-08-25  32.50   63739.0\n",
       "250  2020-08-24  32.50   40840.0\n",
       "251  2020-08-21  32.50  197914.0\n",
       "252  2020-08-20  32.50  247271.0\n",
       "253  2020-08-19  34.00  298915.0\n",
       "\n",
       "[254 rows x 3 columns]"
      ]
     },
     "execution_count": 47,
     "metadata": {},
     "output_type": "execute_result"
    }
   ],
   "source": [
    "AVO"
   ]
  },
  {
   "cell_type": "code",
   "execution_count": null,
   "metadata": {},
   "outputs": [],
   "source": []
  },
  {
   "cell_type": "code",
   "execution_count": 48,
   "metadata": {},
   "outputs": [
    {
     "name": "stdout",
     "output_type": "stream",
     "text": [
      "{\"chart\":{\"result\":[{\"meta\":{\"currency\":\"USD\",\"symbol\":\"AMRN\",\"exchangeName\":\"NGM\",\"instrumentType\":\"EQUITY\",\"firstTradeDate\":733674600,\"regularMarketTime\":1629380101,\"gmtoffset\":-14400,\"timezone\":\"EDT\",\"exchangeTimezoneName\":\"America/New_York\",\"regularMarketPrice\":5.62,\"chartPreviousClose\":5.61,\"previousClose\":5.61,\"scale\":3,\"priceHint\":2,\"currentTradingPeriod\":{\"pre\":{\"timezone\":\"EDT\",\"start\":1629360000,\"end\":1629379800,\"gmtoffset\":-14400},\"regular\":{\"timezone\":\"EDT\",\"start\":1629379800,\"end\":1629403200,\"gmtoffset\":-14400},\"post\":{\"timezone\":\"EDT\",\"start\":1629403200,\"end\":1629417600,\"gmtoffset\":-14400}},\"tradingPeriods\":{\"pre\":[[{\"timezone\":\"EDT\",\"start\":1629360000,\"end\":1629379800,\"gmtoffset\":-14400}]],\"post\":[[{\"timezone\":\"EDT\",\"start\":1629403200,\"end\":1629417600,\"gmtoffset\":-14400}]],\"regular\":[[{\"timezone\":\"EDT\",\"start\":1629379800,\"end\":1629403200,\"gmtoffset\":-14400}]]},\"dataGranularity\":\"5m\",\"range\":\"1d\",\"validRanges\":[\"1d\",\"5d\",\"1mo\",\"3mo\",\"6mo\",\"1y\",\"2y\",\"5y\",\"10y\",\"ytd\",\"max\"]},\"timestamp\":[1629360300,1629367200,1629370800,1629374400,1629374700,1629375000,1629375300,1629375600,1629375900,1629376200,1629376800,1629377100,1629378000,1629378600,1629379500,1629379800,1629380100,1629380101],\"indicators\":{\"quote\":[{\"open\":[5.68,5.68,5.69,5.61,5.7,5.6599,5.6599,5.6301,5.63,5.64,5.66,5.64,5.64,5.64,5.64,5.618299961090088,null,5.619900226593018],\"volume\":[0,0,0,0,0,0,0,0,0,0,0,0,0,0,0,128829,null,0],\"low\":[5.68,5.68,5.61,5.61,5.65,5.6599,5.6301,5.6301,5.63,5.64,5.66,5.64,5.64,5.64,5.6,5.590000152587891,null,5.619900226593018],\"close\":[5.68,5.7,5.61,5.65,5.65,5.66,5.6301,5.6301,5.63,5.64,5.66,5.65,5.64,5.66,5.6,5.619999885559082,null,5.619900226593018],\"high\":[5.68,5.7,5.69,5.65,5.7,5.66,5.6599,5.6301,5.63,5.64,5.66,5.65,5.66,5.66,5.64,5.643499851226807,null,5.619900226593018]}]}}],\"error\":null}}\n"
     ]
    }
   ],
   "source": [
    "import requests\n",
    "\n",
    "url = \"https://apidojo-yahoo-finance-v1.p.rapidapi.com/stock/v2/get-chart\"\n",
    "\n",
    "querystring = {\"interval\":\"5m\",\"symbol\":\"AMRN\",\"range\":\"1d\",\"region\":\"US\"}\n",
    "\n",
    "headers = {\n",
    "    'x-rapidapi-host': \"apidojo-yahoo-finance-v1.p.rapidapi.com\",\n",
    "    'x-rapidapi-key': \"9cd97ba3camsh244cbd2e3e420a4p1e83c0jsne0fdd0787f8e\"\n",
    "    }\n",
    "\n",
    "response = requests.request(\"GET\", url, headers=headers, params=querystring)\n",
    "\n",
    "print(response.text)"
   ]
  },
  {
   "cell_type": "code",
   "execution_count": 51,
   "metadata": {},
   "outputs": [
    {
     "name": "stdout",
     "output_type": "stream",
     "text": [
      "{\"prices\":[],\"isPending\":false,\"firstTradeDate\":-441820800,\"error\":{\"elapsedTime\":10,\"headers\":{\"server\":\"envoy\",\"strict-transport-security\":\"max-age=0\",\"x-envoy-upstream-service-time\":\"8\",\"via\":\"https/1.1 ats-ncache-api--production-gq1-5b4c47c755-7dk2n (ApacheTrafficServer [cMsSf ]), https/1.1 media-router-api7027.prod.media.gq1.yahoo.com (ApacheTrafficServer [cMsSf ])\",\"content-type\":\"application/json;charset=utf-8\",\"x-request-id\":\"a658ae80-c1d1-4efd-bd5b-1ef7a03d149d\",\"date\":\"Thu, 19 Aug 2021 13:41:52 GMT\",\"cache-control\":\"max-age=0, private\",\"vary\":\"Origin\",\"expires\":\"-1\",\"y-rid\":\"952ob8hghsnt0\",\"content-length\":\"146\",\"x-yahoo-request-id\":\"952ob8hghsnt0\",\"age\":\"0\"},\"requestUri\":\"http://iquery.finance.yahoo.com:4080/v8/finance/chart/AMRN?formatted=true&crumb=HxKsMWkcGhZ&lang=en-US&region=US&interval=1d&period1=1546300800000&period2=1627772400000&events=capitalGain%7Cdiv%7Csplit&includeAdjustedClose=true&useYfid=true&ssl=true\",\"responseText\":\"{\\\"chart\\\":{\\\"result\\\":null,\\\"error\\\":{\\\"code\\\":\\\"Bad Request\\\",\\\"description\\\":\\\"Data doesn't exist for startDate = 1546300800000, endDate = 1627772400000\\\"}}}\",\"responseXML\":null,\"status\":400,\"statusCode\":400,\"statusText\":\"Bad Request\"}}\n"
     ]
    }
   ],
   "source": [
    "import requests\n",
    "\n",
    "url = \"https://apidojo-yahoo-finance-v1.p.rapidapi.com/stock/v2/get-historical-data\"\n",
    "\n",
    "querystring = {\"period1\":\"1546300800000\",\"period2\":\"1627772400000\",\"symbol\":\"AMRN\",\"frequency\":\"1d\",\"filter\":\"history\"}\n",
    "\n",
    "headers = {\n",
    "    'x-rapidapi-host': \"apidojo-yahoo-finance-v1.p.rapidapi.com\",\n",
    "    'x-rapidapi-key': \"9cd97ba3camsh244cbd2e3e420a4p1e83c0jsne0fdd0787f8e\"\n",
    "    }\n",
    "\n",
    "response = requests.request(\"GET\", url, headers=headers, params=querystring)\n",
    "\n",
    "print(response.text)"
   ]
  },
  {
   "cell_type": "code",
   "execution_count": null,
   "metadata": {},
   "outputs": [],
   "source": []
  },
  {
   "cell_type": "code",
   "execution_count": null,
   "metadata": {},
   "outputs": [],
   "source": []
  }
 ],
 "metadata": {
  "kernelspec": {
   "display_name": "Python 3",
   "language": "python",
   "name": "python3"
  },
  "language_info": {
   "codemirror_mode": {
    "name": "ipython",
    "version": 3
   },
   "file_extension": ".py",
   "mimetype": "text/x-python",
   "name": "python",
   "nbconvert_exporter": "python",
   "pygments_lexer": "ipython3",
   "version": "3.8.3"
  }
 },
 "nbformat": 4,
 "nbformat_minor": 4
}
