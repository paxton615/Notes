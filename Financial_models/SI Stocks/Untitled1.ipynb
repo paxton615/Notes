{
 "cells": [
  {
   "cell_type": "code",
   "execution_count": 3,
   "metadata": {},
   "outputs": [],
   "source": [
    "import pandas as pd"
   ]
  },
  {
   "cell_type": "code",
   "execution_count": 2,
   "metadata": {},
   "outputs": [
    {
     "name": "stdout",
     "output_type": "stream",
     "text": [
      "{\"prices\":[{\"date\":1562050800,\"open\":1.25,\"high\":1.25,\"low\":1.25,\"close\":1.25,\"volume\":0,\"adjclose\":1.25},{\"date\":1561964400,\"open\":1.25,\"high\":1.25,\"low\":1.25,\"close\":1.25,\"volume\":0,\"adjclose\":1.25},{\"date\":1561705200,\"open\":1.25,\"high\":1.25,\"low\":1.25,\"close\":1.25,\"volume\":0,\"adjclose\":1.25},{\"date\":1561618800,\"open\":1.25,\"high\":1.25,\"low\":1.25,\"close\":1.25,\"volume\":0,\"adjclose\":1.25},{\"date\":1561532400,\"open\":1.25,\"high\":1.25,\"low\":1.25,\"close\":1.25,\"volume\":0,\"adjclose\":1.25},{\"date\":1561446000,\"open\":1.25,\"high\":1.25,\"low\":1.25,\"close\":1.25,\"volume\":0,\"adjclose\":1.25},{\"date\":1561359600,\"open\":1.25,\"high\":1.25,\"low\":1.25,\"close\":1.25,\"volume\":0,\"adjclose\":1.25},{\"date\":1561100400,\"open\":1.25,\"high\":1.25,\"low\":1.25,\"close\":1.25,\"volume\":0,\"adjclose\":1.25},{\"date\":1561014000,\"open\":1.25,\"high\":1.25,\"low\":1.25,\"close\":1.25,\"volume\":0,\"adjclose\":1.25},{\"date\":1560927600,\"open\":1.25,\"high\":1.25,\"low\":1.25,\"close\":1.25,\"volume\":0,\"adjclose\":1.25},{\"date\":1560841200,\"open\":1.25,\"high\":1.25,\"low\":1.25,\"close\":1.25,\"volume\":0,\"adjclose\":1.25},{\"date\":1560754800,\"open\":1.25,\"high\":1.25,\"low\":1.25,\"close\":1.25,\"volume\":0,\"adjclose\":1.25},{\"date\":1560495600,\"open\":1.25,\"high\":1.25,\"low\":1.25,\"close\":1.25,\"volume\":0,\"adjclose\":1.25},{\"date\":1560409200,\"open\":1.25,\"high\":1.25,\"low\":1.25,\"close\":1.25,\"volume\":0,\"adjclose\":1.25},{\"date\":1560322800,\"open\":1.25,\"high\":1.25,\"low\":1.25,\"close\":1.25,\"volume\":0,\"adjclose\":1.25},{\"date\":1560236400,\"open\":1.25,\"high\":1.25,\"low\":1.25,\"close\":1.25,\"volume\":0,\"adjclose\":1.25},{\"date\":1560150000,\"open\":1.25,\"high\":1.25,\"low\":1.25,\"close\":1.25,\"volume\":0,\"adjclose\":1.25},{\"date\":1559890800,\"open\":1.25,\"high\":1.25,\"low\":1.25,\"close\":1.25,\"volume\":0,\"adjclose\":1.25},{\"date\":1559804400,\"open\":1.25,\"high\":1.25,\"low\":1.25,\"close\":1.25,\"volume\":0,\"adjclose\":1.25},{\"date\":1559718000,\"open\":1.25,\"high\":1.25,\"low\":1.25,\"close\":1.25,\"volume\":0,\"adjclose\":1.25},{\"date\":1559631600,\"open\":1.25,\"high\":1.25,\"low\":1.25,\"close\":1.25,\"volume\":0,\"adjclose\":1.25},{\"date\":1559545200,\"open\":1.25,\"high\":1.25,\"low\":1.25,\"close\":1.25,\"volume\":0,\"adjclose\":1.25},{\"date\":1559286000,\"open\":1.25,\"high\":1.25,\"low\":1.25,\"close\":1.25,\"volume\":0,\"adjclose\":1.25},{\"date\":1559199600,\"open\":1.25,\"high\":1.25,\"low\":1.25,\"close\":1.25,\"volume\":0,\"adjclose\":1.25},{\"date\":1559113200,\"open\":1.25,\"high\":1.25,\"low\":1.25,\"close\":1.25,\"volume\":0,\"adjclose\":1.25},{\"date\":1559026800,\"open\":1.25,\"high\":1.25,\"low\":1.25,\"close\":1.25,\"volume\":0,\"adjclose\":1.25},{\"date\":1558681200,\"open\":1.25,\"high\":1.25,\"low\":1.25,\"close\":1.25,\"volume\":0,\"adjclose\":1.25},{\"date\":1558594800,\"open\":1.25,\"high\":1.25,\"low\":1.25,\"close\":1.25,\"volume\":0,\"adjclose\":1.25},{\"date\":1558508400,\"open\":1.25,\"high\":1.25,\"low\":1.25,\"close\":1.25,\"volume\":0,\"adjclose\":1.25},{\"date\":1558422000,\"open\":1.25,\"high\":1.25,\"low\":1.25,\"close\":1.25,\"volume\":0,\"adjclose\":1.25},{\"date\":1558335600,\"open\":1.25,\"high\":1.25,\"low\":1.25,\"close\":1.25,\"volume\":0,\"adjclose\":1.25},{\"date\":1558076400,\"open\":1.25,\"high\":1.25,\"low\":1.25,\"close\":1.25,\"volume\":0,\"adjclose\":1.25},{\"date\":1557990000,\"open\":1.25,\"high\":1.25,\"low\":1.25,\"close\":1.25,\"volume\":0,\"adjclose\":1.25},{\"date\":1557903600,\"open\":1.25,\"high\":1.25,\"low\":1.25,\"close\":1.25,\"volume\":0,\"adjclose\":1.25},{\"date\":1557817200,\"open\":1.25,\"high\":1.25,\"low\":1.25,\"close\":1.25,\"volume\":0,\"adjclose\":1.25},{\"date\":1557730800,\"open\":1.25,\"high\":1.25,\"low\":1.25,\"close\":1.25,\"volume\":0,\"adjclose\":1.25},{\"date\":1557471600,\"open\":1.25,\"high\":1.25,\"low\":1.25,\"close\":1.25,\"volume\":0,\"adjclose\":1.25},{\"date\":1557385200,\"open\":1.25,\"high\":1.25,\"low\":1.25,\"close\":1.25,\"volume\":0,\"adjclose\":1.25},{\"date\":1557298800,\"open\":1.25,\"high\":1.25,\"low\":1.25,\"close\":1.25,\"volume\":0,\"adjclose\":1.25},{\"date\":1557212400,\"open\":1.25,\"high\":1.25,\"low\":1.25,\"close\":1.25,\"volume\":0,\"adjclose\":1.25},{\"date\":1556866800,\"open\":1.25,\"high\":1.25,\"low\":1.25,\"close\":1.25,\"volume\":0,\"adjclose\":1.25},{\"date\":1556780400,\"open\":1.25,\"high\":1.25,\"low\":1.25,\"close\":1.25,\"volume\":0,\"adjclose\":1.25},{\"date\":1556694000,\"open\":1.25,\"high\":1.25,\"low\":1.25,\"close\":1.25,\"volume\":0,\"adjclose\":1.25},{\"date\":1556607600,\"open\":1.25,\"high\":1.25,\"low\":1.25,\"close\":1.25,\"volume\":0,\"adjclose\":1.25},{\"date\":1556521200,\"open\":1.25,\"high\":1.25,\"low\":1.25,\"close\":1.25,\"volume\":0,\"adjclose\":1.25},{\"date\":1556262000,\"open\":1.25,\"high\":1.25,\"low\":1.25,\"close\":1.25,\"volume\":0,\"adjclose\":1.25},{\"date\":1556175600,\"open\":1.25,\"high\":1.25,\"low\":1.25,\"close\":1.25,\"volume\":0,\"adjclose\":1.25},{\"date\":1556089200,\"open\":1.25,\"high\":1.25,\"low\":1.25,\"close\":1.25,\"volume\":0,\"adjclose\":1.25},{\"date\":1556002800,\"open\":1.25,\"high\":1.25,\"low\":1.25,\"close\":1.25,\"volume\":0,\"adjclose\":1.25},{\"date\":1555570800,\"open\":1.25,\"high\":1.25,\"low\":1.25,\"close\":1.25,\"volume\":0,\"adjclose\":1.25},{\"date\":1555484400,\"open\":1.25,\"high\":1.25,\"low\":1.25,\"close\":1.25,\"volume\":0,\"adjclose\":1.25},{\"date\":1555398000,\"open\":1.25,\"high\":1.25,\"low\":1.25,\"close\":1.25,\"volume\":0,\"adjclose\":1.25},{\"date\":1555311600,\"open\":1.25,\"high\":1.25,\"low\":1.25,\"close\":1.25,\"volume\":0,\"adjclose\":1.25},{\"date\":1555052400,\"open\":1.25,\"high\":1.25,\"low\":1.25,\"close\":1.25,\"volume\":0,\"adjclose\":1.25},{\"date\":1554966000,\"open\":1.25,\"high\":1.25,\"low\":1.25,\"close\":1.25,\"volume\":0,\"adjclose\":1.25},{\"date\":1554879600,\"open\":1.25,\"high\":1.25,\"low\":1.25,\"close\":1.25,\"volume\":0,\"adjclose\":1.25},{\"date\":1554793200,\"open\":1.25,\"high\":1.25,\"low\":1.25,\"close\":1.25,\"volume\":0,\"adjclose\":1.25},{\"date\":1554706800,\"open\":1.25,\"high\":1.25,\"low\":1.25,\"close\":1.25,\"volume\":0,\"adjclose\":1.25},{\"date\":1554447600,\"open\":1.25,\"high\":1.25,\"low\":1.25,\"close\":1.25,\"volume\":0,\"adjclose\":1.25},{\"date\":1554361200,\"open\":1.25,\"high\":1.25,\"low\":1.25,\"close\":1.25,\"volume\":0,\"adjclose\":1.25},{\"date\":1554274800,\"open\":1.25,\"high\":1.25,\"low\":1.25,\"close\":1.25,\"volume\":0,\"adjclose\":1.25},{\"date\":1554188400,\"open\":1.25,\"high\":1.25,\"low\":1.25,\"close\":1.25,\"volume\":0,\"adjclose\":1.25},{\"date\":1554102000,\"open\":1.25,\"high\":1.25,\"low\":1.25,\"close\":1.25,\"volume\":0,\"adjclose\":1.25},{\"date\":1553846400,\"open\":1.25,\"high\":1.25,\"low\":1.25,\"close\":1.25,\"volume\":0,\"adjclose\":1.25},{\"date\":1553760000,\"open\":1.25,\"high\":1.25,\"low\":1.25,\"close\":1.25,\"volume\":0,\"adjclose\":1.25},{\"date\":1553673600,\"open\":1.25,\"high\":1.25,\"low\":1.25,\"close\":1.25,\"volume\":0,\"adjclose\":1.25},{\"date\":1553587200,\"open\":1.25,\"high\":1.25,\"low\":1.25,\"close\":1.25,\"volume\":0,\"adjclose\":1.25},{\"date\":1553500800,\"open\":1.25,\"high\":1.25,\"low\":1.25,\"close\":1.25,\"volume\":0,\"adjclose\":1.25},{\"date\":1553241600,\"open\":1.25,\"high\":1.25,\"low\":1.25,\"close\":1.25,\"volume\":0,\"adjclose\":1.25},{\"date\":1553155200,\"open\":1.25,\"high\":1.25,\"low\":1.25,\"close\":1.25,\"volume\":0,\"adjclose\":1.25},{\"date\":1553068800,\"open\":1.25,\"high\":1.25,\"low\":1.25,\"close\":1.25,\"volume\":0,\"adjclose\":1.25},{\"date\":1552982400,\"open\":1.25,\"high\":1.25,\"low\":1.25,\"close\":1.25,\"volume\":0,\"adjclose\":1.25},{\"date\":1552896000,\"open\":1.25,\"high\":1.25,\"low\":1.25,\"close\":1.25,\"volume\":0,\"adjclose\":1.25},{\"date\":1552636800,\"open\":1.25,\"high\":1.25,\"low\":1.25,\"close\":1.25,\"volume\":0,\"adjclose\":1.25},{\"date\":1552550400,\"open\":1.25,\"high\":1.25,\"low\":1.25,\"close\":1.25,\"volume\":0,\"adjclose\":1.25},{\"date\":1552464000,\"open\":1.25,\"high\":1.25,\"low\":1.25,\"close\":1.25,\"volume\":0,\"adjclose\":1.25},{\"date\":1552377600,\"open\":1.25,\"high\":1.25,\"low\":1.25,\"close\":1.25,\"volume\":0,\"adjclose\":1.25},{\"date\":1552291200,\"open\":1.25,\"high\":1.25,\"low\":1.25,\"close\":1.25,\"volume\":0,\"adjclose\":1.25},{\"date\":1552032000,\"open\":1.25,\"high\":1.25,\"low\":1.25,\"close\":1.25,\"volume\":0,\"adjclose\":1.25},{\"date\":1551945600,\"open\":1.25,\"high\":1.25,\"low\":1.25,\"close\":1.25,\"volume\":0,\"adjclose\":1.25},{\"date\":1551859200,\"open\":1.024999976158142,\"high\":1.024999976158142,\"low\":1.024999976158142,\"close\":1.25,\"volume\":30000,\"adjclose\":1.25},{\"date\":1551772800,\"open\":1.25,\"high\":1.25,\"low\":1.25,\"close\":1.25,\"volume\":0,\"adjclose\":1.25},{\"date\":1551686400,\"open\":1.25,\"high\":1.25,\"low\":1.25,\"close\":1.25,\"volume\":0,\"adjclose\":1.25},{\"date\":1551427200,\"open\":1.4900000095367432,\"high\":1.5,\"low\":1.034999966621399,\"close\":1.25,\"volume\":2683957,\"adjclose\":1.25},{\"date\":1551340800,\"open\":1.0700000524520874,\"high\":1.2450000047683716,\"low\":1.0700000524520874,\"close\":1.25,\"volume\":830112,\"adjclose\":1.25},{\"date\":1551254400,\"open\":1.190000057220459,\"high\":1.3250000476837158,\"low\":1.1009999513626099,\"close\":1.25,\"volume\":757914,\"adjclose\":1.25},{\"date\":1551168000,\"open\":1.1399999856948853,\"high\":1.2879999876022339,\"low\":1.0700000524520874,\"close\":1.149999976158142,\"volume\":1121294,\"adjclose\":1.149999976158142},{\"date\":1551081600,\"open\":1.1699999570846558,\"high\":1.1699999570846558,\"low\":1.0099999904632568,\"close\":1.149999976158142,\"volume\":1893307,\"adjclose\":1.149999976158142},{\"date\":1550822400,\"open\":0.949999988079071,\"high\":1.0700000524520874,\"low\":0.800000011920929,\"close\":1.149999976158142,\"volume\":3698335,\"adjclose\":1.149999976158142},{\"date\":1550736000,\"open\":0.9300000071525574,\"high\":1.090000033378601,\"low\":0.9300000071525574,\"close\":1.0499999523162842,\"volume\":467921,\"adjclose\":1.0499999523162842},{\"date\":1550649600,\"open\":0.925000011920929,\"high\":1.090000033378601,\"low\":0.9100000262260437,\"close\":1.0499999523162842,\"volume\":467676,\"adjclose\":1.0499999523162842},{\"date\":1550563200,\"open\":0.8999999761581421,\"high\":0.9900000095367432,\"low\":0.8830000162124634,\"close\":1,\"volume\":1479621,\"adjclose\":1},{\"date\":1550476800,\"open\":0.8880000114440918,\"high\":1.0800000429153442,\"low\":0.8880000114440918,\"close\":1.0499999523162842,\"volume\":592394,\"adjclose\":1.0499999523162842},{\"date\":1550217600,\"open\":0.925000011920929,\"high\":0.9900000095367432,\"low\":0.8500000238418579,\"close\":1.024999976158142,\"volume\":667278,\"adjclose\":1.024999976158142},{\"date\":1550131200,\"open\":1.1030000448226929,\"high\":1.2999999523162842,\"low\":0.8100000023841858,\"close\":1.0499999523162842,\"volume\":1677997,\"adjclose\":1.0499999523162842},{\"date\":1550044800,\"open\":0.8199999928474426,\"high\":1.2899999618530273,\"low\":0.8199999928474426,\"close\":1.2000000476837158,\"volume\":1494254,\"adjclose\":1.2000000476837158},{\"date\":1549958400,\"open\":0.8999999761581421,\"high\":0.949999988079071,\"low\":0.8999999761581421,\"close\":0.949999988079071,\"volume\":922408,\"adjclose\":0.949999988079071},{\"date\":1549872000,\"open\":0.8500000238418579,\"high\":0.8500000238418579,\"low\":0.8500000238418579,\"close\":0.8500000238418579,\"volume\":0,\"adjclose\":0.8500000238418579},{\"date\":1549612800,\"open\":0.9900000095367432,\"high\":0.9900000095367432,\"low\":0.8100000023841858,\"close\":0.8500000238418579,\"volume\":409318,\"adjclose\":0.8500000238418579},{\"date\":1549526400,\"open\":0.8899999856948853,\"high\":0.8899999856948853,\"low\":0.8899999856948853,\"close\":0.8500000238418579,\"volume\":32143,\"adjclose\":0.8500000238418579},{\"date\":1549440000,\"open\":0.800000011920929,\"high\":0.800000011920929,\"low\":0.800000011920929,\"close\":0.800000011920929,\"volume\":0,\"adjclose\":0.800000011920929},{\"date\":1549353600,\"open\":0.7900000214576721,\"high\":0.8899999856948853,\"low\":0.7900000214576721,\"close\":0.800000011920929,\"volume\":59212,\"adjclose\":0.800000011920929},{\"date\":1549267200,\"open\":0.75,\"high\":0.75,\"low\":0.75,\"close\":0.75,\"volume\":0,\"adjclose\":0.75},{\"date\":1549008000,\"open\":0.75,\"high\":0.75,\"low\":0.75,\"close\":0.75,\"volume\":0,\"adjclose\":0.75},{\"date\":1548921600,\"open\":0.75,\"high\":0.75,\"low\":0.75,\"close\":0.75,\"volume\":0,\"adjclose\":0.75},{\"date\":1548835200,\"open\":0.75,\"high\":0.75,\"low\":0.75,\"close\":0.75,\"volume\":0,\"adjclose\":0.75},{\"date\":1548748800,\"open\":0.75,\"high\":0.75,\"low\":0.75,\"close\":0.75,\"volume\":0,\"adjclose\":0.75},{\"date\":1548662400,\"open\":0.8009999990463257,\"high\":0.8009999990463257,\"low\":0.800000011920929,\"close\":0.75,\"volume\":301180,\"adjclose\":0.75},{\"date\":1548403200,\"open\":0.8999999761581421,\"high\":0.8999999761581421,\"low\":0.8999999761581421,\"close\":0.8999999761581421,\"volume\":0,\"adjclose\":0.8999999761581421},{\"date\":1548316800,\"open\":0.8999999761581421,\"high\":0.8999999761581421,\"low\":0.8999999761581421,\"close\":0.8999999761581421,\"volume\":0,\"adjclose\":0.8999999761581421},{\"date\":1548230400,\"open\":0.8999999761581421,\"high\":0.8999999761581421,\"low\":0.8999999761581421,\"close\":0.8999999761581421,\"volume\":0,\"adjclose\":0.8999999761581421},{\"date\":1548144000,\"open\":0.8999999761581421,\"high\":0.8999999761581421,\"low\":0.8999999761581421,\"close\":0.8999999761581421,\"volume\":0,\"adjclose\":0.8999999761581421},{\"date\":1548057600,\"open\":0.8999999761581421,\"high\":0.8999999761581421,\"low\":0.8999999761581421,\"close\":0.8999999761581421,\"volume\":0,\"adjclose\":0.8999999761581421},{\"date\":1547798400,\"open\":0.800000011920929,\"high\":0.8029999732971191,\"low\":0.800000011920929,\"close\":0.8999999761581421,\"volume\":2000000,\"adjclose\":0.8999999761581421},{\"date\":1547712000,\"open\":0.8500000238418579,\"high\":0.8500000238418579,\"low\":0.8500000238418579,\"close\":0.8500000238418579,\"volume\":0,\"adjclose\":0.8500000238418579},{\"date\":1547625600,\"open\":0.8500000238418579,\"high\":0.8500000238418579,\"low\":0.8500000238418579,\"close\":0.8500000238418579,\"volume\":0,\"adjclose\":0.8500000238418579},{\"date\":1547539200,\"open\":0.8500000238418579,\"high\":0.8500000238418579,\"low\":0.8500000238418579,\"close\":0.8500000238418579,\"volume\":0,\"adjclose\":0.8500000238418579},{\"date\":1547452800,\"open\":0.8500000238418579,\"high\":0.8500000238418579,\"low\":0.8500000238418579,\"close\":0.8500000238418579,\"volume\":0,\"adjclose\":0.8500000238418579},{\"date\":1547193600,\"open\":0.8500000238418579,\"high\":0.8500000238418579,\"low\":0.8500000238418579,\"close\":0.8500000238418579,\"volume\":0,\"adjclose\":0.8500000238418579},{\"date\":1547107200,\"open\":0.8500000238418579,\"high\":0.8500000238418579,\"low\":0.8500000238418579,\"close\":0.8500000238418579,\"volume\":0,\"adjclose\":0.8500000238418579},{\"date\":1547020800,\"open\":0.8500000238418579,\"high\":0.8500000238418579,\"low\":0.8500000238418579,\"close\":0.8500000238418579,\"volume\":0,\"adjclose\":0.8500000238418579},{\"date\":1546934400,\"open\":0.8500000238418579,\"high\":0.8500000238418579,\"low\":0.8500000238418579,\"close\":0.8500000238418579,\"volume\":0,\"adjclose\":0.8500000238418579},{\"date\":1546848000,\"open\":0.8500000238418579,\"high\":0.8500000238418579,\"low\":0.8500000238418579,\"close\":0.8500000238418579,\"volume\":0,\"adjclose\":0.8500000238418579},{\"date\":1546588800,\"open\":0.8500000238418579,\"high\":0.8500000238418579,\"low\":0.8500000238418579,\"close\":0.8500000238418579,\"volume\":0,\"adjclose\":0.8500000238418579},{\"date\":1546502400,\"open\":0.8500000238418579,\"high\":0.8500000238418579,\"low\":0.8500000238418579,\"close\":0.8500000238418579,\"volume\":0,\"adjclose\":0.8500000238418579},{\"date\":1546416000,\"open\":0.8500000238418579,\"high\":0.8500000238418579,\"low\":0.8500000238418579,\"close\":0.8500000238418579,\"volume\":0,\"adjclose\":0.8500000238418579}],\"isPending\":false,\"firstTradeDate\":1542268800,\"id\":\"1d15464484001562086800\",\"timeZone\":{\"gmtOffset\":3600},\"eventsData\":[]}\n"
     ]
    }
   ],
   "source": [
    "import requests\n",
    "\n",
    "url = \"https://apidojo-yahoo-finance-v1.p.rapidapi.com/stock/v2/get-historical-data\"\n",
    "\n",
    "querystring = {\"period1\":\"1546448400\",\"period2\":\"1562086800\",\"symbol\":\"cobr.l\",\"frequency\":\"1d\",\"filter\":\"history\"}\n",
    "\n",
    "headers = {\n",
    "    'x-rapidapi-key': \"9cd97ba3camsh244cbd2e3e420a4p1e83c0jsne0fdd0787f8e\",\n",
    "    'x-rapidapi-host': \"apidojo-yahoo-finance-v1.p.rapidapi.com\"\n",
    "    }\n",
    "\n",
    "response = requests.request(\"GET\", url, headers=headers, params=querystring)\n",
    "\n",
    "print(response.text)"
   ]
  },
  {
   "cell_type": "code",
   "execution_count": 8,
   "metadata": {},
   "outputs": [
    {
     "data": {
      "text/plain": [
       "'{'"
      ]
     },
     "execution_count": 8,
     "metadata": {},
     "output_type": "execute_result"
    }
   ],
   "source": [
    "response.text[0]"
   ]
  },
  {
   "cell_type": "code",
   "execution_count": 14,
   "metadata": {},
   "outputs": [
    {
     "data": {
      "text/plain": [
       "'\"prices\":[{\"date\":1562050800,\"open\":1.25,\"high\":1.25,\"low\":1.25,\"close\":1.25,\"volume\":0,\"adjclose\":'"
      ]
     },
     "execution_count": 14,
     "metadata": {},
     "output_type": "execute_result"
    }
   ],
   "source": [
    "response.text[1:100]"
   ]
  },
  {
   "cell_type": "code",
   "execution_count": 13,
   "metadata": {},
   "outputs": [
    {
     "data": {
      "text/plain": [
       "'prices\":'"
      ]
     },
     "execution_count": 13,
     "metadata": {},
     "output_type": "execute_result"
    }
   ],
   "source": [
    "response.text[2:10]"
   ]
  },
  {
   "cell_type": "code",
   "execution_count": 12,
   "metadata": {},
   "outputs": [
    {
     "data": {
      "text/plain": [
       "str"
      ]
     },
     "execution_count": 12,
     "metadata": {},
     "output_type": "execute_result"
    }
   ],
   "source": [
    "type(response.text)"
   ]
  },
  {
   "cell_type": "code",
   "execution_count": null,
   "metadata": {},
   "outputs": [],
   "source": []
  }
 ],
 "metadata": {
  "kernelspec": {
   "display_name": "Python 3",
   "language": "python",
   "name": "python3"
  },
  "language_info": {
   "codemirror_mode": {
    "name": "ipython",
    "version": 3
   },
   "file_extension": ".py",
   "mimetype": "text/x-python",
   "name": "python",
   "nbconvert_exporter": "python",
   "pygments_lexer": "ipython3",
   "version": "3.8.3"
  }
 },
 "nbformat": 4,
 "nbformat_minor": 4
}
