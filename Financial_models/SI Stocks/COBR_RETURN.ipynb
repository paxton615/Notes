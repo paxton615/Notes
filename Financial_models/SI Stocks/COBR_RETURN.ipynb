{
 "cells": [
  {
   "cell_type": "code",
   "execution_count": 1,
   "metadata": {},
   "outputs": [],
   "source": [
    "import pandas as pd\n",
    "import datetime as dt\n",
    "from datetime import datetime\n",
    "import matplotlib.pyplot as plt\n",
    "import re\n",
    "import requests"
   ]
  },
  {
   "cell_type": "code",
   "execution_count": 2,
   "metadata": {
    "scrolled": true
   },
   "outputs": [],
   "source": [
    "import requests\n",
    "\n",
    "url = \"https://yahoo-finance15.p.rapidapi.com/api/yahoo/hi/history/cobr.l/1d\"\n",
    "\n",
    "headers = {\n",
    "    'x-rapidapi-key': \"9cd97ba3camsh244cbd2e3e420a4p1e83c0jsne0fdd0787f8e\",\n",
    "    'x-rapidapi-host': \"yahoo-finance15.p.rapidapi.com\"\n",
    "    }\n",
    "\n",
    "response = requests.request(\"GET\", url, headers=headers)\n",
    "\n",
    "print(response.text)"
   ]
  },
  {
   "cell_type": "code",
   "execution_count": 3,
   "metadata": {},
   "outputs": [],
   "source": [
    "string = response.text"
   ]
  },
  {
   "cell_type": "code",
   "execution_count": 20,
   "metadata": {},
   "outputs": [
    {
     "data": {
      "text/plain": [
       "'{\\n    \"meta\": {\\n        \"currency\": \"GBp\",\\n        \"symbol\": \"COBR.L\",\\n        \"exchangeName\": \"LSE\",\\n        \"instrumentType\": \"EQUITY\",\\n        \"firstTradeDate\": 1542268800,\\n        \"regularMarketTime\": 1628081844,\\n        \"gmtoffset\": 3600,\\n        \"timezone\": \"BST\",\\n        \"exchangeTimezoneName\": \"Europe/London\",\\n        \"regularMarketPrice\": 1.736,\\n        \"chartPreviousClose\": 1.75,\\n        \"priceHint\": 4,\\n        \"dataGranularity\": \"1d\",\\n        \"range\": \"\"\\n    },\\n    \"items\": {\\n        \"1542268800\": {\\n            \"date\": \"15-11-2018\",\\n            \"open\": 1.67,\\n            \"high\": 1.75,\\n            \"low\": 1.67,\\n            \"close\": 1.75,\\n            \"adjclose\": 1.75\\n        },\\n        \"1542355200\": {\\n            \"date\": \"16-11-2018\",\\n            \"open\": 1.75,\\n            \"high\": 1.75,\\n            \"low\": 1.75,\\n            \"close\": 1.75,\\n            \"adjclose\": 1.75\\n        },\\n        \"1542614400\": {\\n            \"date\": \"19-11-2018\",\\n            \"open\": 1.65,\\n            \"high\": '"
      ]
     },
     "execution_count": 20,
     "metadata": {},
     "output_type": "execute_result"
    }
   ],
   "source": [
    "string[:1000]"
   ]
  },
  {
   "cell_type": "markdown",
   "metadata": {},
   "source": [
    "获取日期data"
   ]
  },
  {
   "cell_type": "code",
   "execution_count": 4,
   "metadata": {},
   "outputs": [],
   "source": [
    "def get_dates(string):\n",
    "    date = re.compile('\"date\":((.*),)')\n",
    "    date = date.findall(string)\n",
    "    date = [i[0][2:12] for i in date]\n",
    "    date = [datetime.strptime(i, \"%d-%m-%Y\").strftime(\"%Y-%m-%d\") for i in date]\n",
    "    return date"
   ]
  },
  {
   "cell_type": "code",
   "execution_count": 10,
   "metadata": {},
   "outputs": [
    {
     "name": "stdout",
     "output_type": "stream",
     "text": [
      "['2018-11-15', '2018-11-16', '2018-11-19', '2018-11-20', '2018-11-21']\n"
     ]
    }
   ],
   "source": [
    "date = get_dates(string)\n",
    "print( date[:5] )"
   ]
  },
  {
   "cell_type": "markdown",
   "metadata": {},
   "source": [
    "获取close价格"
   ]
  },
  {
   "cell_type": "code",
   "execution_count": 14,
   "metadata": {},
   "outputs": [],
   "source": [
    "def get_close(string):\n",
    "    close = re.compile('\"close\":((.*),)')\n",
    "    close = close.findall(string)\n",
    "    close = [float(i[1].strip()) for i in close]\n",
    "    return close"
   ]
  },
  {
   "cell_type": "code",
   "execution_count": 15,
   "metadata": {},
   "outputs": [],
   "source": [
    "close = get_close(string)"
   ]
  },
  {
   "cell_type": "code",
   "execution_count": 18,
   "metadata": {},
   "outputs": [
    {
     "data": {
      "text/plain": [
       "[1.75, 1.75, 1.65, 1.65, 1.65]"
      ]
     },
     "execution_count": 18,
     "metadata": {},
     "output_type": "execute_result"
    }
   ],
   "source": [
    "close[:5]"
   ]
  },
  {
   "cell_type": "code",
   "execution_count": null,
   "metadata": {},
   "outputs": [],
   "source": []
  },
  {
   "cell_type": "code",
   "execution_count": null,
   "metadata": {},
   "outputs": [],
   "source": []
  },
  {
   "cell_type": "code",
   "execution_count": null,
   "metadata": {},
   "outputs": [],
   "source": [
    "# import re\n",
    "# date = re.compile('\"date\":((.*),)')\n",
    "# print (date.findall(string)[:10])\n",
    "\n",
    "# dates = date.findall(string)\n",
    "\n",
    "# s_dates = []\n",
    "# for i in dates:\n",
    "#     s_dates.append(i[0][2:12])\n",
    "\n",
    "\n",
    "# s_dates[:5]\n",
    "\n",
    "# cobr_dates=[]\n",
    "# for i in s_dates:\n",
    "#     cobr_dates.append(datetime.strptime(i, \"%d-%m-%Y\").strftime(\"%Y-%m-%d\"))\n",
    "\n",
    "# cobr_dates[:10]"
   ]
  },
  {
   "cell_type": "code",
   "execution_count": null,
   "metadata": {},
   "outputs": [],
   "source": []
  },
  {
   "cell_type": "code",
   "execution_count": null,
   "metadata": {},
   "outputs": [],
   "source": []
  },
  {
   "cell_type": "code",
   "execution_count": null,
   "metadata": {
    "scrolled": true
   },
   "outputs": [],
   "source": [
    "close = re.compile('\"close\":((.*),)')\n",
    "# print(close.findall(string))"
   ]
  },
  {
   "cell_type": "code",
   "execution_count": null,
   "metadata": {},
   "outputs": [],
   "source": [
    "s_close = close.findall(string)"
   ]
  },
  {
   "cell_type": "code",
   "execution_count": null,
   "metadata": {},
   "outputs": [],
   "source": [
    "closes = []\n",
    "for i in s_close:\n",
    "    closes.append(i[1].strip())"
   ]
  },
  {
   "cell_type": "code",
   "execution_count": null,
   "metadata": {},
   "outputs": [],
   "source": [
    "cobr_close = [float(i) for i in closes]"
   ]
  },
  {
   "cell_type": "code",
   "execution_count": null,
   "metadata": {},
   "outputs": [],
   "source": [
    "cobr_close[:10]"
   ]
  },
  {
   "cell_type": "code",
   "execution_count": null,
   "metadata": {},
   "outputs": [],
   "source": [
    "print(len(cobr_dates))\n",
    "print(len(cobr_close))"
   ]
  },
  {
   "cell_type": "code",
   "execution_count": null,
   "metadata": {},
   "outputs": [],
   "source": []
  },
  {
   "cell_type": "code",
   "execution_count": null,
   "metadata": {},
   "outputs": [],
   "source": [
    "adjclose = re.compile('\"close\":((.*),)')\n",
    "s_adjclose = adjclose.findall(string)"
   ]
  },
  {
   "cell_type": "code",
   "execution_count": null,
   "metadata": {},
   "outputs": [],
   "source": [
    "adj_closes = []\n",
    "for i in s_close:\n",
    "    adj_closes.append(i[1].strip())"
   ]
  },
  {
   "cell_type": "code",
   "execution_count": null,
   "metadata": {},
   "outputs": [],
   "source": [
    "cobr_adjclose = [float(i) for i in adj_closes]"
   ]
  },
  {
   "cell_type": "code",
   "execution_count": null,
   "metadata": {},
   "outputs": [],
   "source": [
    "cobr_adjclose[:10]"
   ]
  },
  {
   "cell_type": "code",
   "execution_count": null,
   "metadata": {},
   "outputs": [],
   "source": []
  },
  {
   "cell_type": "code",
   "execution_count": null,
   "metadata": {},
   "outputs": [],
   "source": [
    "cobr = pd.DataFrame({'dates':cobr_dates, 'close':cobr_close,'adjclose':cobr_adjclose})"
   ]
  },
  {
   "cell_type": "code",
   "execution_count": null,
   "metadata": {},
   "outputs": [],
   "source": [
    "cobr.to_csv(r'/Users/paxton615/Desktop/COBR.csv')"
   ]
  },
  {
   "cell_type": "code",
   "execution_count": null,
   "metadata": {},
   "outputs": [],
   "source": [
    "cobr.columns"
   ]
  },
  {
   "cell_type": "code",
   "execution_count": null,
   "metadata": {},
   "outputs": [],
   "source": [
    "cobr.set_index('dates', drop=True, inplace=True)"
   ]
  },
  {
   "cell_type": "code",
   "execution_count": null,
   "metadata": {},
   "outputs": [],
   "source": [
    "plt.figure(figsize=(16,10))\n",
    "cobr.close.plot();"
   ]
  },
  {
   "cell_type": "code",
   "execution_count": null,
   "metadata": {},
   "outputs": [],
   "source": []
  }
 ],
 "metadata": {
  "kernelspec": {
   "display_name": "Python 3",
   "language": "python",
   "name": "python3"
  },
  "language_info": {
   "codemirror_mode": {
    "name": "ipython",
    "version": 3
   },
   "file_extension": ".py",
   "mimetype": "text/x-python",
   "name": "python",
   "nbconvert_exporter": "python",
   "pygments_lexer": "ipython3",
   "version": "3.8.3"
  }
 },
 "nbformat": 4,
 "nbformat_minor": 4
}
