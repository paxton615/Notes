{
 "cells": [
  {
   "cell_type": "code",
   "execution_count": 1,
   "metadata": {},
   "outputs": [],
   "source": [
    "import pandas as pd\n",
    "import datetime as dt\n",
    "from datetime import datetime\n",
    "import matplotlib.pyplot as plt\n",
    "import re\n",
    "import requests"
   ]
  },
  {
   "cell_type": "code",
   "execution_count": 2,
   "metadata": {
    "scrolled": true
   },
   "outputs": [],
   "source": [
    "import requests\n",
    "\n",
    "url = \"https://yahoo-finance15.p.rapidapi.com/api/yahoo/hi/history/cobr.l/1d\"\n",
    "\n",
    "headers = {\n",
    "    'x-rapidapi-key': \"9cd97ba3camsh244cbd2e3e420a4p1e83c0jsne0fdd0787f8e\",\n",
    "    'x-rapidapi-host': \"yahoo-finance15.p.rapidapi.com\"\n",
    "    }\n",
    "\n",
    "response = requests.request(\"GET\", url, headers=headers)\n",
    "\n",
    "print(response.text)"
   ]
  },
  {
   "cell_type": "code",
   "execution_count": 3,
   "metadata": {},
   "outputs": [],
   "source": [
    "string = response.text"
   ]
  },
  {
   "cell_type": "code",
   "execution_count": 20,
   "metadata": {},
   "outputs": [
    {
     "data": {
      "text/plain": [
       "'{\\n    \"meta\": {\\n        \"currency\": \"GBp\",\\n        \"symbol\": \"COBR.L\",\\n        \"exchangeName\": \"LSE\",\\n        \"instrumentType\": \"EQUITY\",\\n        \"firstTradeDate\": 1542268800,\\n        \"regularMarketTime\": 1628081844,\\n        \"gmtoffset\": 3600,\\n        \"timezone\": \"BST\",\\n        \"exchangeTimezoneName\": \"Europe/London\",\\n        \"regularMarketPrice\": 1.736,\\n        \"chartPreviousClose\": 1.75,\\n        \"priceHint\": 4,\\n        \"dataGranularity\": \"1d\",\\n        \"range\": \"\"\\n    },\\n    \"items\": {\\n        \"1542268800\": {\\n            \"date\": \"15-11-2018\",\\n            \"open\": 1.67,\\n            \"high\": 1.75,\\n            \"low\": 1.67,\\n            \"close\": 1.75,\\n            \"adjclose\": 1.75\\n        },\\n        \"1542355200\": {\\n            \"date\": \"16-11-2018\",\\n            \"open\": 1.75,\\n            \"high\": 1.75,\\n            \"low\": 1.75,\\n            \"close\": 1.75,\\n            \"adjclose\": 1.75\\n        },\\n        \"1542614400\": {\\n            \"date\": \"19-11-2018\",\\n            \"open\": 1.65,\\n            \"high\": '"
      ]
     },
     "execution_count": 20,
     "metadata": {},
     "output_type": "execute_result"
    }
   ],
   "source": [
    "string[:1000]"
   ]
  },
  {
   "cell_type": "markdown",
   "metadata": {},
   "source": [
    "- 获取日期data"
   ]
  },
  {
   "cell_type": "code",
   "execution_count": 4,
   "metadata": {},
   "outputs": [],
   "source": [
    "def get_dates(string):\n",
    "    date = re.compile('\"date\":((.*),)')\n",
    "    date = date.findall(string)\n",
    "    date = [i[0][2:12] for i in date]\n",
    "    date = [datetime.strptime(i, \"%d-%m-%Y\").strftime(\"%Y-%m-%d\") for i in date]\n",
    "    return date"
   ]
  },
  {
   "cell_type": "code",
   "execution_count": 10,
   "metadata": {},
   "outputs": [
    {
     "name": "stdout",
     "output_type": "stream",
     "text": [
      "['2018-11-15', '2018-11-16', '2018-11-19', '2018-11-20', '2018-11-21']\n"
     ]
    }
   ],
   "source": [
    "date = get_dates(string)\n",
    "print( date[:5] )"
   ]
  },
  {
   "cell_type": "markdown",
   "metadata": {},
   "source": [
    "- 获取close价格"
   ]
  },
  {
   "cell_type": "code",
   "execution_count": 14,
   "metadata": {},
   "outputs": [],
   "source": [
    "def get_close(string):\n",
    "    close = re.compile('\"close\":((.*),)')\n",
    "    close = close.findall(string)\n",
    "    close = [float(i[1].strip()) for i in close]\n",
    "    return close"
   ]
  },
  {
   "cell_type": "code",
   "execution_count": 15,
   "metadata": {},
   "outputs": [],
   "source": [
    "close = get_close(string)"
   ]
  },
  {
   "cell_type": "code",
   "execution_count": 18,
   "metadata": {},
   "outputs": [
    {
     "data": {
      "text/plain": [
       "[1.75, 1.75, 1.65, 1.65, 1.65]"
      ]
     },
     "execution_count": 18,
     "metadata": {},
     "output_type": "execute_result"
    }
   ],
   "source": [
    "close[:5]"
   ]
  },
  {
   "cell_type": "markdown",
   "metadata": {},
   "source": [
    "- form dataframe"
   ]
  },
  {
   "cell_type": "code",
   "execution_count": 33,
   "metadata": {},
   "outputs": [],
   "source": [
    "def form_df(date, close, col_name1, col_name2):\n",
    "    return pd.DataFrame({col_name1:date, col_name2:close })"
   ]
  },
  {
   "cell_type": "code",
   "execution_count": 43,
   "metadata": {},
   "outputs": [
    {
     "data": {
      "text/html": [
       "<div>\n",
       "<style scoped>\n",
       "    .dataframe tbody tr th:only-of-type {\n",
       "        vertical-align: middle;\n",
       "    }\n",
       "\n",
       "    .dataframe tbody tr th {\n",
       "        vertical-align: top;\n",
       "    }\n",
       "\n",
       "    .dataframe thead th {\n",
       "        text-align: right;\n",
       "    }\n",
       "</style>\n",
       "<table border=\"1\" class=\"dataframe\">\n",
       "  <thead>\n",
       "    <tr style=\"text-align: right;\">\n",
       "      <th></th>\n",
       "      <th>cobr_close</th>\n",
       "    </tr>\n",
       "    <tr>\n",
       "      <th>date</th>\n",
       "      <th></th>\n",
       "    </tr>\n",
       "  </thead>\n",
       "  <tbody>\n",
       "    <tr>\n",
       "      <th>2021-08-02</th>\n",
       "      <td>1.85</td>\n",
       "    </tr>\n",
       "    <tr>\n",
       "      <th>2021-08-03</th>\n",
       "      <td>1.85</td>\n",
       "    </tr>\n",
       "    <tr>\n",
       "      <th>2021-08-04</th>\n",
       "      <td>1.74</td>\n",
       "    </tr>\n",
       "  </tbody>\n",
       "</table>\n",
       "</div>"
      ],
      "text/plain": [
       "            cobr_close\n",
       "date                  \n",
       "2021-08-02        1.85\n",
       "2021-08-03        1.85\n",
       "2021-08-04        1.74"
      ]
     },
     "execution_count": 43,
     "metadata": {},
     "output_type": "execute_result"
    }
   ],
   "source": [
    "cobr = form_df(date, close, 'date', 'cobr_close')\n",
    "cobr.set_index('date', drop=True, inplace=True)\n",
    "cobr.tail(3)"
   ]
  },
  {
   "cell_type": "markdown",
   "metadata": {},
   "source": [
    "- save dataframe as csv"
   ]
  },
  {
   "cell_type": "code",
   "execution_count": 38,
   "metadata": {},
   "outputs": [],
   "source": [
    "# cobr.to_csv(r'/Users/paxton615/Desktop/COBR.csv')"
   ]
  },
  {
   "cell_type": "markdown",
   "metadata": {},
   "source": [
    "- IPO and Placing info"
   ]
  },
  {
   "cell_type": "code",
   "execution_count": 49,
   "metadata": {},
   "outputs": [],
   "source": [
    "p1_sprice = 2.25\n",
    "p1_wprice = 3\n",
    "p1_date = '2020-01-01'\n",
    "p1_swratio = 1/1\n",
    "p2_sprice = 2.3\n",
    "p2_wprice = 3\n",
    "p2_date = '2020-09-01'\n",
    "p2_swratio = 1/1"
   ]
  },
  {
   "cell_type": "code",
   "execution_count": 46,
   "metadata": {},
   "outputs": [],
   "source": [
    "cobr['p1_sprice'] = [p1_sprice if i  >= p1_date else 0 for i in cobr.index]\n",
    "cobr['p1_wprice'] = [p1_wprice if i  >= p1_date else 0 for i in cobr.index]\n",
    "\n",
    "cobr['p2_sprice'] = [p2_sprice if i  >= p2_date else 0 for i in cobr.index]\n",
    "cobr['p2_wprice'] = [p2_wprice if i  >= p2_date else 0 for i in cobr.index]"
   ]
  },
  {
   "cell_type": "markdown",
   "metadata": {},
   "source": [
    "- If each Placing or IPO investor invest 10000 pounds ever time, what are the positions look like？"
   ]
  },
  {
   "cell_type": "code",
   "execution_count": 52,
   "metadata": {},
   "outputs": [],
   "source": [
    "fund = 10000"
   ]
  },
  {
   "cell_type": "code",
   "execution_count": 56,
   "metadata": {},
   "outputs": [],
   "source": [
    "cobr['p1_sposition'] = [round(fund/p1_sprice,2) if i >= p1_date else 0 for i in cobr.index]\n",
    "cobr['p1_wposition'] = cobr['p1_sposition']*p1_swratio\n",
    "\n",
    "cobr['p2_sposition'] = [round(fund/p2_sprice,2) if i >= p2_date else 0 for i in cobr.index]\n",
    "cobr['p2_wposition'] = cobr['p2_sposition']*p2_swratio"
   ]
  },
  {
   "cell_type": "markdown",
   "metadata": {},
   "source": [
    "- What is the profit looks like?"
   ]
  },
  {
   "cell_type": "code",
   "execution_count": 60,
   "metadata": {},
   "outputs": [],
   "source": [
    "# Profit from the shares\n",
    "\n",
    "cobr['p1_sprft'] = cobr.cobr_close - cobr['p1_sprice']\n",
    "\n",
    "cobr['p2_sprft'] = cobr.cobr_close - cobr['p2_sprice']"
   ]
  },
  {
   "cell_type": "code",
   "execution_count": 61,
   "metadata": {},
   "outputs": [],
   "source": [
    "# Profit from the warranties\n",
    "\n",
    "p1_wprofit = []\n",
    "for i,j in zip(cobr.cobr_close, cobr['p1_wprice']):\n",
    "    if i - j >0:\n",
    "        p1_wprofit.append(round(i-j,2))\n",
    "    else:\n",
    "        p1_wprofit.append(0)\n",
    "\n",
    "cobr['p1_wprft'] = p1_wprofit\n",
    "\n",
    "p2_wprofit = []\n",
    "for i,j in zip(cobr.cobr_close, cobr['p2_wprice']):\n",
    "    if i - j >0:\n",
    "        p2_wprofit.append(round(i-j,2))\n",
    "    else:\n",
    "        p2_wprofit.append(0)\n",
    "\n",
    "cobr['p2_wprft'] = p2_wprofit"
   ]
  },
  {
   "cell_type": "code",
   "execution_count": null,
   "metadata": {},
   "outputs": [],
   "source": []
  },
  {
   "cell_type": "code",
   "execution_count": 63,
   "metadata": {},
   "outputs": [
    {
     "data": {
      "text/html": [
       "<div>\n",
       "<style scoped>\n",
       "    .dataframe tbody tr th:only-of-type {\n",
       "        vertical-align: middle;\n",
       "    }\n",
       "\n",
       "    .dataframe tbody tr th {\n",
       "        vertical-align: top;\n",
       "    }\n",
       "\n",
       "    .dataframe thead th {\n",
       "        text-align: right;\n",
       "    }\n",
       "</style>\n",
       "<table border=\"1\" class=\"dataframe\">\n",
       "  <thead>\n",
       "    <tr style=\"text-align: right;\">\n",
       "      <th></th>\n",
       "      <th>cobr_close</th>\n",
       "      <th>p1_sprice</th>\n",
       "      <th>p1_wprice</th>\n",
       "      <th>p2_sprice</th>\n",
       "      <th>p2_wprice</th>\n",
       "      <th>p1_sposition</th>\n",
       "      <th>p1_wposition</th>\n",
       "      <th>p2_sposition</th>\n",
       "      <th>p2_wposition</th>\n",
       "      <th>p1_sprft</th>\n",
       "      <th>p2_sprft</th>\n",
       "      <th>p1_wprft</th>\n",
       "      <th>p2_wprft</th>\n",
       "    </tr>\n",
       "    <tr>\n",
       "      <th>date</th>\n",
       "      <th></th>\n",
       "      <th></th>\n",
       "      <th></th>\n",
       "      <th></th>\n",
       "      <th></th>\n",
       "      <th></th>\n",
       "      <th></th>\n",
       "      <th></th>\n",
       "      <th></th>\n",
       "      <th></th>\n",
       "      <th></th>\n",
       "      <th></th>\n",
       "      <th></th>\n",
       "    </tr>\n",
       "  </thead>\n",
       "  <tbody>\n",
       "    <tr>\n",
       "      <th>2018-11-15</th>\n",
       "      <td>1.75</td>\n",
       "      <td>0.00</td>\n",
       "      <td>0</td>\n",
       "      <td>0.0</td>\n",
       "      <td>0</td>\n",
       "      <td>0.00</td>\n",
       "      <td>0.00</td>\n",
       "      <td>0.00</td>\n",
       "      <td>0.00</td>\n",
       "      <td>1.75</td>\n",
       "      <td>1.75</td>\n",
       "      <td>1.75</td>\n",
       "      <td>1.75</td>\n",
       "    </tr>\n",
       "    <tr>\n",
       "      <th>2018-11-16</th>\n",
       "      <td>1.75</td>\n",
       "      <td>0.00</td>\n",
       "      <td>0</td>\n",
       "      <td>0.0</td>\n",
       "      <td>0</td>\n",
       "      <td>0.00</td>\n",
       "      <td>0.00</td>\n",
       "      <td>0.00</td>\n",
       "      <td>0.00</td>\n",
       "      <td>1.75</td>\n",
       "      <td>1.75</td>\n",
       "      <td>1.75</td>\n",
       "      <td>1.75</td>\n",
       "    </tr>\n",
       "    <tr>\n",
       "      <th>2018-11-19</th>\n",
       "      <td>1.65</td>\n",
       "      <td>0.00</td>\n",
       "      <td>0</td>\n",
       "      <td>0.0</td>\n",
       "      <td>0</td>\n",
       "      <td>0.00</td>\n",
       "      <td>0.00</td>\n",
       "      <td>0.00</td>\n",
       "      <td>0.00</td>\n",
       "      <td>1.65</td>\n",
       "      <td>1.65</td>\n",
       "      <td>1.65</td>\n",
       "      <td>1.65</td>\n",
       "    </tr>\n",
       "    <tr>\n",
       "      <th>2018-11-20</th>\n",
       "      <td>1.65</td>\n",
       "      <td>0.00</td>\n",
       "      <td>0</td>\n",
       "      <td>0.0</td>\n",
       "      <td>0</td>\n",
       "      <td>0.00</td>\n",
       "      <td>0.00</td>\n",
       "      <td>0.00</td>\n",
       "      <td>0.00</td>\n",
       "      <td>1.65</td>\n",
       "      <td>1.65</td>\n",
       "      <td>1.65</td>\n",
       "      <td>1.65</td>\n",
       "    </tr>\n",
       "    <tr>\n",
       "      <th>2018-11-21</th>\n",
       "      <td>1.65</td>\n",
       "      <td>0.00</td>\n",
       "      <td>0</td>\n",
       "      <td>0.0</td>\n",
       "      <td>0</td>\n",
       "      <td>0.00</td>\n",
       "      <td>0.00</td>\n",
       "      <td>0.00</td>\n",
       "      <td>0.00</td>\n",
       "      <td>1.65</td>\n",
       "      <td>1.65</td>\n",
       "      <td>1.65</td>\n",
       "      <td>1.65</td>\n",
       "    </tr>\n",
       "    <tr>\n",
       "      <th>...</th>\n",
       "      <td>...</td>\n",
       "      <td>...</td>\n",
       "      <td>...</td>\n",
       "      <td>...</td>\n",
       "      <td>...</td>\n",
       "      <td>...</td>\n",
       "      <td>...</td>\n",
       "      <td>...</td>\n",
       "      <td>...</td>\n",
       "      <td>...</td>\n",
       "      <td>...</td>\n",
       "      <td>...</td>\n",
       "      <td>...</td>\n",
       "    </tr>\n",
       "    <tr>\n",
       "      <th>2021-07-29</th>\n",
       "      <td>1.85</td>\n",
       "      <td>2.25</td>\n",
       "      <td>3</td>\n",
       "      <td>2.3</td>\n",
       "      <td>3</td>\n",
       "      <td>4444.44</td>\n",
       "      <td>4444.44</td>\n",
       "      <td>4347.83</td>\n",
       "      <td>4347.83</td>\n",
       "      <td>-0.40</td>\n",
       "      <td>-0.45</td>\n",
       "      <td>0.00</td>\n",
       "      <td>0.00</td>\n",
       "    </tr>\n",
       "    <tr>\n",
       "      <th>2021-07-30</th>\n",
       "      <td>1.80</td>\n",
       "      <td>2.25</td>\n",
       "      <td>3</td>\n",
       "      <td>2.3</td>\n",
       "      <td>3</td>\n",
       "      <td>4444.44</td>\n",
       "      <td>4444.44</td>\n",
       "      <td>4347.83</td>\n",
       "      <td>4347.83</td>\n",
       "      <td>-0.45</td>\n",
       "      <td>-0.50</td>\n",
       "      <td>0.00</td>\n",
       "      <td>0.00</td>\n",
       "    </tr>\n",
       "    <tr>\n",
       "      <th>2021-08-02</th>\n",
       "      <td>1.85</td>\n",
       "      <td>2.25</td>\n",
       "      <td>3</td>\n",
       "      <td>2.3</td>\n",
       "      <td>3</td>\n",
       "      <td>4444.44</td>\n",
       "      <td>4444.44</td>\n",
       "      <td>4347.83</td>\n",
       "      <td>4347.83</td>\n",
       "      <td>-0.40</td>\n",
       "      <td>-0.45</td>\n",
       "      <td>0.00</td>\n",
       "      <td>0.00</td>\n",
       "    </tr>\n",
       "    <tr>\n",
       "      <th>2021-08-03</th>\n",
       "      <td>1.85</td>\n",
       "      <td>2.25</td>\n",
       "      <td>3</td>\n",
       "      <td>2.3</td>\n",
       "      <td>3</td>\n",
       "      <td>4444.44</td>\n",
       "      <td>4444.44</td>\n",
       "      <td>4347.83</td>\n",
       "      <td>4347.83</td>\n",
       "      <td>-0.40</td>\n",
       "      <td>-0.45</td>\n",
       "      <td>0.00</td>\n",
       "      <td>0.00</td>\n",
       "    </tr>\n",
       "    <tr>\n",
       "      <th>2021-08-04</th>\n",
       "      <td>1.74</td>\n",
       "      <td>2.25</td>\n",
       "      <td>3</td>\n",
       "      <td>2.3</td>\n",
       "      <td>3</td>\n",
       "      <td>4444.44</td>\n",
       "      <td>4444.44</td>\n",
       "      <td>4347.83</td>\n",
       "      <td>4347.83</td>\n",
       "      <td>-0.51</td>\n",
       "      <td>-0.56</td>\n",
       "      <td>0.00</td>\n",
       "      <td>0.00</td>\n",
       "    </tr>\n",
       "  </tbody>\n",
       "</table>\n",
       "<p>687 rows × 13 columns</p>\n",
       "</div>"
      ],
      "text/plain": [
       "            cobr_close  p1_sprice  p1_wprice  p2_sprice  p2_wprice  \\\n",
       "date                                                                 \n",
       "2018-11-15        1.75       0.00          0        0.0          0   \n",
       "2018-11-16        1.75       0.00          0        0.0          0   \n",
       "2018-11-19        1.65       0.00          0        0.0          0   \n",
       "2018-11-20        1.65       0.00          0        0.0          0   \n",
       "2018-11-21        1.65       0.00          0        0.0          0   \n",
       "...                ...        ...        ...        ...        ...   \n",
       "2021-07-29        1.85       2.25          3        2.3          3   \n",
       "2021-07-30        1.80       2.25          3        2.3          3   \n",
       "2021-08-02        1.85       2.25          3        2.3          3   \n",
       "2021-08-03        1.85       2.25          3        2.3          3   \n",
       "2021-08-04        1.74       2.25          3        2.3          3   \n",
       "\n",
       "            p1_sposition  p1_wposition  p2_sposition  p2_wposition  p1_sprft  \\\n",
       "date                                                                           \n",
       "2018-11-15          0.00          0.00          0.00          0.00      1.75   \n",
       "2018-11-16          0.00          0.00          0.00          0.00      1.75   \n",
       "2018-11-19          0.00          0.00          0.00          0.00      1.65   \n",
       "2018-11-20          0.00          0.00          0.00          0.00      1.65   \n",
       "2018-11-21          0.00          0.00          0.00          0.00      1.65   \n",
       "...                  ...           ...           ...           ...       ...   \n",
       "2021-07-29       4444.44       4444.44       4347.83       4347.83     -0.40   \n",
       "2021-07-30       4444.44       4444.44       4347.83       4347.83     -0.45   \n",
       "2021-08-02       4444.44       4444.44       4347.83       4347.83     -0.40   \n",
       "2021-08-03       4444.44       4444.44       4347.83       4347.83     -0.40   \n",
       "2021-08-04       4444.44       4444.44       4347.83       4347.83     -0.51   \n",
       "\n",
       "            p2_sprft  p1_wprft  p2_wprft  \n",
       "date                                      \n",
       "2018-11-15      1.75      1.75      1.75  \n",
       "2018-11-16      1.75      1.75      1.75  \n",
       "2018-11-19      1.65      1.65      1.65  \n",
       "2018-11-20      1.65      1.65      1.65  \n",
       "2018-11-21      1.65      1.65      1.65  \n",
       "...              ...       ...       ...  \n",
       "2021-07-29     -0.45      0.00      0.00  \n",
       "2021-07-30     -0.50      0.00      0.00  \n",
       "2021-08-02     -0.45      0.00      0.00  \n",
       "2021-08-03     -0.45      0.00      0.00  \n",
       "2021-08-04     -0.56      0.00      0.00  \n",
       "\n",
       "[687 rows x 13 columns]"
      ]
     },
     "execution_count": 63,
     "metadata": {},
     "output_type": "execute_result"
    }
   ],
   "source": [
    "cobr"
   ]
  },
  {
   "cell_type": "code",
   "execution_count": null,
   "metadata": {},
   "outputs": [],
   "source": []
  },
  {
   "cell_type": "code",
   "execution_count": null,
   "metadata": {},
   "outputs": [],
   "source": []
  },
  {
   "cell_type": "code",
   "execution_count": null,
   "metadata": {},
   "outputs": [],
   "source": []
  },
  {
   "cell_type": "code",
   "execution_count": null,
   "metadata": {},
   "outputs": [],
   "source": []
  }
 ],
 "metadata": {
  "kernelspec": {
   "display_name": "Python 3",
   "language": "python",
   "name": "python3"
  },
  "language_info": {
   "codemirror_mode": {
    "name": "ipython",
    "version": 3
   },
   "file_extension": ".py",
   "mimetype": "text/x-python",
   "name": "python",
   "nbconvert_exporter": "python",
   "pygments_lexer": "ipython3",
   "version": "3.8.3"
  }
 },
 "nbformat": 4,
 "nbformat_minor": 4
}
