{
 "cells": [
  {
   "cell_type": "code",
   "execution_count": 10,
   "metadata": {},
   "outputs": [],
   "source": [
    "# https://towardsdatascience.com/python-how-to-get-live-market-data-less-than-0-1-second-lag-c85ee280ed93"
   ]
  },
  {
   "cell_type": "code",
   "execution_count": 3,
   "metadata": {},
   "outputs": [],
   "source": [
    "import numpy as np\n",
    "import pandas as pd\n",
    "\n",
    "#Data Source\n",
    "import yfinance as yf\n",
    "\n",
    "#Data viz\n",
    "import plotly.graph_objs as go"
   ]
  },
  {
   "cell_type": "code",
   "execution_count": 8,
   "metadata": {},
   "outputs": [
    {
     "name": "stdout",
     "output_type": "stream",
     "text": [
      "[*********************100%***********************]  1 of 1 completed\n"
     ]
    },
    {
     "data": {
      "text/html": [
       "<div>\n",
       "<style scoped>\n",
       "    .dataframe tbody tr th:only-of-type {\n",
       "        vertical-align: middle;\n",
       "    }\n",
       "\n",
       "    .dataframe tbody tr th {\n",
       "        vertical-align: top;\n",
       "    }\n",
       "\n",
       "    .dataframe thead th {\n",
       "        text-align: right;\n",
       "    }\n",
       "</style>\n",
       "<table border=\"1\" class=\"dataframe\">\n",
       "  <thead>\n",
       "    <tr style=\"text-align: right;\">\n",
       "      <th></th>\n",
       "      <th>Open</th>\n",
       "      <th>High</th>\n",
       "      <th>Low</th>\n",
       "      <th>Close</th>\n",
       "      <th>Adj Close</th>\n",
       "      <th>Volume</th>\n",
       "    </tr>\n",
       "    <tr>\n",
       "      <th>Datetime</th>\n",
       "      <th></th>\n",
       "      <th></th>\n",
       "      <th></th>\n",
       "      <th></th>\n",
       "      <th></th>\n",
       "      <th></th>\n",
       "    </tr>\n",
       "  </thead>\n",
       "  <tbody>\n",
       "    <tr>\n",
       "      <th>2021-03-15 09:30:00-04:00</th>\n",
       "      <td>121.339996</td>\n",
       "      <td>121.349998</td>\n",
       "      <td>120.419998</td>\n",
       "      <td>120.889999</td>\n",
       "      <td>120.889999</td>\n",
       "      <td>4450822</td>\n",
       "    </tr>\n",
       "    <tr>\n",
       "      <th>2021-03-15 09:35:00-04:00</th>\n",
       "      <td>120.879997</td>\n",
       "      <td>121.330002</td>\n",
       "      <td>120.800003</td>\n",
       "      <td>120.955002</td>\n",
       "      <td>120.955002</td>\n",
       "      <td>1684290</td>\n",
       "    </tr>\n",
       "    <tr>\n",
       "      <th>2021-03-15 09:40:00-04:00</th>\n",
       "      <td>120.949997</td>\n",
       "      <td>121.680000</td>\n",
       "      <td>120.750000</td>\n",
       "      <td>121.560799</td>\n",
       "      <td>121.560799</td>\n",
       "      <td>2152141</td>\n",
       "    </tr>\n",
       "    <tr>\n",
       "      <th>2021-03-15 09:45:00-04:00</th>\n",
       "      <td>121.570000</td>\n",
       "      <td>122.290001</td>\n",
       "      <td>121.529999</td>\n",
       "      <td>122.175003</td>\n",
       "      <td>122.175003</td>\n",
       "      <td>2264924</td>\n",
       "    </tr>\n",
       "    <tr>\n",
       "      <th>2021-03-15 09:50:00-04:00</th>\n",
       "      <td>122.169998</td>\n",
       "      <td>123.489998</td>\n",
       "      <td>122.144997</td>\n",
       "      <td>123.169701</td>\n",
       "      <td>123.169701</td>\n",
       "      <td>3420954</td>\n",
       "    </tr>\n",
       "    <tr>\n",
       "      <th>...</th>\n",
       "      <td>...</td>\n",
       "      <td>...</td>\n",
       "      <td>...</td>\n",
       "      <td>...</td>\n",
       "      <td>...</td>\n",
       "      <td>...</td>\n",
       "    </tr>\n",
       "    <tr>\n",
       "      <th>2021-03-19 15:35:00-04:00</th>\n",
       "      <td>120.154999</td>\n",
       "      <td>120.296898</td>\n",
       "      <td>120.110001</td>\n",
       "      <td>120.217003</td>\n",
       "      <td>120.217003</td>\n",
       "      <td>1685847</td>\n",
       "    </tr>\n",
       "    <tr>\n",
       "      <th>2021-03-19 15:40:00-04:00</th>\n",
       "      <td>120.209999</td>\n",
       "      <td>120.339996</td>\n",
       "      <td>120.180000</td>\n",
       "      <td>120.330101</td>\n",
       "      <td>120.330101</td>\n",
       "      <td>1512792</td>\n",
       "    </tr>\n",
       "    <tr>\n",
       "      <th>2021-03-19 15:45:00-04:00</th>\n",
       "      <td>120.334999</td>\n",
       "      <td>120.410004</td>\n",
       "      <td>120.149902</td>\n",
       "      <td>120.280098</td>\n",
       "      <td>120.280098</td>\n",
       "      <td>1735608</td>\n",
       "    </tr>\n",
       "    <tr>\n",
       "      <th>2021-03-19 15:50:00-04:00</th>\n",
       "      <td>120.279999</td>\n",
       "      <td>120.970001</td>\n",
       "      <td>120.199997</td>\n",
       "      <td>120.320000</td>\n",
       "      <td>120.320000</td>\n",
       "      <td>4371992</td>\n",
       "    </tr>\n",
       "    <tr>\n",
       "      <th>2021-03-19 15:55:00-04:00</th>\n",
       "      <td>120.324997</td>\n",
       "      <td>120.360001</td>\n",
       "      <td>119.849998</td>\n",
       "      <td>119.870003</td>\n",
       "      <td>119.870003</td>\n",
       "      <td>5754962</td>\n",
       "    </tr>\n",
       "  </tbody>\n",
       "</table>\n",
       "<p>390 rows × 6 columns</p>\n",
       "</div>"
      ],
      "text/plain": [
       "                                 Open        High         Low       Close  \\\n",
       "Datetime                                                                    \n",
       "2021-03-15 09:30:00-04:00  121.339996  121.349998  120.419998  120.889999   \n",
       "2021-03-15 09:35:00-04:00  120.879997  121.330002  120.800003  120.955002   \n",
       "2021-03-15 09:40:00-04:00  120.949997  121.680000  120.750000  121.560799   \n",
       "2021-03-15 09:45:00-04:00  121.570000  122.290001  121.529999  122.175003   \n",
       "2021-03-15 09:50:00-04:00  122.169998  123.489998  122.144997  123.169701   \n",
       "...                               ...         ...         ...         ...   \n",
       "2021-03-19 15:35:00-04:00  120.154999  120.296898  120.110001  120.217003   \n",
       "2021-03-19 15:40:00-04:00  120.209999  120.339996  120.180000  120.330101   \n",
       "2021-03-19 15:45:00-04:00  120.334999  120.410004  120.149902  120.280098   \n",
       "2021-03-19 15:50:00-04:00  120.279999  120.970001  120.199997  120.320000   \n",
       "2021-03-19 15:55:00-04:00  120.324997  120.360001  119.849998  119.870003   \n",
       "\n",
       "                            Adj Close   Volume  \n",
       "Datetime                                        \n",
       "2021-03-15 09:30:00-04:00  120.889999  4450822  \n",
       "2021-03-15 09:35:00-04:00  120.955002  1684290  \n",
       "2021-03-15 09:40:00-04:00  121.560799  2152141  \n",
       "2021-03-15 09:45:00-04:00  122.175003  2264924  \n",
       "2021-03-15 09:50:00-04:00  123.169701  3420954  \n",
       "...                               ...      ...  \n",
       "2021-03-19 15:35:00-04:00  120.217003  1685847  \n",
       "2021-03-19 15:40:00-04:00  120.330101  1512792  \n",
       "2021-03-19 15:45:00-04:00  120.280098  1735608  \n",
       "2021-03-19 15:50:00-04:00  120.320000  4371992  \n",
       "2021-03-19 15:55:00-04:00  119.870003  5754962  \n",
       "\n",
       "[390 rows x 6 columns]"
      ]
     },
     "execution_count": 8,
     "metadata": {},
     "output_type": "execute_result"
    }
   ],
   "source": [
    "# Interval required 5 minutes\n",
    "data = yf.download(tickers='AAPL', period='5d', interval='5m')\n",
    "#Print data\n",
    "data"
   ]
  },
  {
   "cell_type": "code",
   "execution_count": 9,
   "metadata": {},
   "outputs": [
    {
     "data": {
      "text/plain": [
       "pandas.core.frame.DataFrame"
      ]
     },
     "execution_count": 9,
     "metadata": {},
     "output_type": "execute_result"
    }
   ],
   "source": [
    "type(data)"
   ]
  },
  {
   "cell_type": "code",
   "execution_count": null,
   "metadata": {},
   "outputs": [],
   "source": []
  },
  {
   "cell_type": "code",
   "execution_count": null,
   "metadata": {},
   "outputs": [],
   "source": []
  },
  {
   "cell_type": "code",
   "execution_count": null,
   "metadata": {},
   "outputs": [],
   "source": []
  },
  {
   "cell_type": "code",
   "execution_count": null,
   "metadata": {},
   "outputs": [],
   "source": []
  },
  {
   "cell_type": "code",
   "execution_count": null,
   "metadata": {},
   "outputs": [],
   "source": []
  },
  {
   "cell_type": "code",
   "execution_count": null,
   "metadata": {},
   "outputs": [],
   "source": []
  }
 ],
 "metadata": {
  "kernelspec": {
   "display_name": "Python 3",
   "language": "python",
   "name": "python3"
  },
  "language_info": {
   "codemirror_mode": {
    "name": "ipython",
    "version": 3
   },
   "file_extension": ".py",
   "mimetype": "text/x-python",
   "name": "python",
   "nbconvert_exporter": "python",
   "pygments_lexer": "ipython3",
   "version": "3.8.3"
  }
 },
 "nbformat": 4,
 "nbformat_minor": 4
}
