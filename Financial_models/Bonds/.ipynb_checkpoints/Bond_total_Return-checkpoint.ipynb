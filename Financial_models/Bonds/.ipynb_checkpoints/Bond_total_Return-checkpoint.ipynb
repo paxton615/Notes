{
 "cells": [
  {
   "cell_type": "code",
   "execution_count": 1,
   "metadata": {},
   "outputs": [],
   "source": [
    "import pandas as pd\n",
    "import numpy as np"
   ]
  },
  {
   "cell_type": "markdown",
   "metadata": {},
   "source": [
    "https://www.hl.co.uk/shares/corporate-bonds-gilts/bond-prices/gbp-bonds"
   ]
  },
  {
   "cell_type": "code",
   "execution_count": 9,
   "metadata": {},
   "outputs": [],
   "source": [
    "def total_return(coupon,n_pay, yrs):\n",
    "    rtn = 100 * (1+ coupon/n_pay)**(n_pay*yrs)\n",
    "    print(rtn)"
   ]
  },
  {
   "cell_type": "code",
   "execution_count": 15,
   "metadata": {},
   "outputs": [
    {
     "name": "stdout",
     "output_type": "stream",
     "text": [
      "186.55919574662937\n"
     ]
    }
   ],
   "source": [
    "# 3i Group\n",
    "# GBP | XS0104440986 | 0924597\n",
    "# 5.750\t3 December 2032\t138.250\n",
    "total_return(0.0575, 2, 11)"
   ]
  },
  {
   "cell_type": "code",
   "execution_count": 17,
   "metadata": {},
   "outputs": [
    {
     "name": "stdout",
     "output_type": "stream",
     "text": [
      "114.47537156105044\n"
     ]
    }
   ],
   "source": [
    "# 3i Group plc\n",
    "# GBP | XS0084657039 | 0248587\n",
    "# 6.875\t9 March 2023\t110.250\t\n",
    "total_return(0.06875, 2,2)"
   ]
  },
  {
   "cell_type": "code",
   "execution_count": 19,
   "metadata": {},
   "outputs": [
    {
     "name": "stdout",
     "output_type": "stream",
     "text": [
      "124.92034264621256\n"
     ]
    }
   ],
   "source": [
    "# A2D Funding plc\n",
    "# GBP | XS1103286305 | BQ8NZW9\n",
    "# 4.500\t30 September 2026\t115.000\n",
    "total_return(0.045, 2, 5)"
   ]
  },
  {
   "cell_type": "code",
   "execution_count": 20,
   "metadata": {},
   "outputs": [
    {
     "name": "stdout",
     "output_type": "stream",
     "text": [
      "104.80640625\n"
     ]
    }
   ],
   "source": [
    "# A2D Funding plc\n",
    "# GBP | XS0975865949 | BFD3SJ5\n",
    "# 4.750\t18 October 2022\t104.400\n",
    "total_return(0.0475, 2, 1)"
   ]
  },
  {
   "cell_type": "code",
   "execution_count": 22,
   "metadata": {},
   "outputs": [
    {
     "name": "stdout",
     "output_type": "stream",
     "text": [
      "22019.293385788216\n"
     ]
    }
   ],
   "source": [
    "# Abbey National\n",
    "# GBP | XS0124569566 | BSS8517\n",
    "# 7.037\t31 December 2099\t113.500\n",
    "total_return(0.07037,2,78)"
   ]
  },
  {
   "cell_type": "code",
   "execution_count": 23,
   "metadata": {},
   "outputs": [
    {
     "name": "stdout",
     "output_type": "stream",
     "text": [
      "118.86857536682123\n"
     ]
    }
   ],
   "source": [
    "# Alpha Plus Holdings plc\n",
    "# GBP | XS1379593566 | BZ5ZT30\n",
    "# 5.000\t31 March 2024\t100.500\n",
    "total_return(0.05,2,3.5)"
   ]
  },
  {
   "cell_type": "code",
   "execution_count": null,
   "metadata": {},
   "outputs": [],
   "source": []
  },
  {
   "cell_type": "code",
   "execution_count": null,
   "metadata": {},
   "outputs": [],
   "source": []
  }
 ],
 "metadata": {
  "kernelspec": {
   "display_name": "Python 3",
   "language": "python",
   "name": "python3"
  },
  "language_info": {
   "codemirror_mode": {
    "name": "ipython",
    "version": 3
   },
   "file_extension": ".py",
   "mimetype": "text/x-python",
   "name": "python",
   "nbconvert_exporter": "python",
   "pygments_lexer": "ipython3",
   "version": "3.8.3"
  }
 },
 "nbformat": 4,
 "nbformat_minor": 4
}
