{
 "cells": [
  {
   "cell_type": "code",
   "execution_count": 1,
   "metadata": {},
   "outputs": [],
   "source": [
    "import pandas as pd\n",
    "import numpy as np"
   ]
  },
  {
   "cell_type": "markdown",
   "metadata": {},
   "source": [
    "https://www.hl.co.uk/shares/corporate-bonds-gilts/bond-prices/gbp-bonds"
   ]
  },
  {
   "cell_type": "code",
   "execution_count": 9,
   "metadata": {},
   "outputs": [],
   "source": [
    "def total_return(coupon,n_pay, yrs):\n",
    "    rtn = 100 * (1+ coupon/n_pay)**(n_pay*yrs)\n",
    "    print(rtn)"
   ]
  },
  {
   "cell_type": "code",
   "execution_count": 15,
   "metadata": {},
   "outputs": [
    {
     "name": "stdout",
     "output_type": "stream",
     "text": [
      "186.55919574662937\n"
     ]
    }
   ],
   "source": [
    "# 3i Group\n",
    "# GBP | XS0104440986 | 0924597\n",
    "# 5.750\t3 December 2032\t138.250\n",
    "total_return(0.0575, 2, 11)"
   ]
  },
  {
   "cell_type": "code",
   "execution_count": 17,
   "metadata": {},
   "outputs": [
    {
     "name": "stdout",
     "output_type": "stream",
     "text": [
      "114.47537156105044\n"
     ]
    }
   ],
   "source": [
    "# 3i Group plc\n",
    "# GBP | XS0084657039 | 0248587\n",
    "# 6.875\t9 March 2023\t110.250\t\n",
    "total_return(0.06875, 2,2)"
   ]
  },
  {
   "cell_type": "code",
   "execution_count": 19,
   "metadata": {},
   "outputs": [
    {
     "name": "stdout",
     "output_type": "stream",
     "text": [
      "124.92034264621256\n"
     ]
    }
   ],
   "source": [
    "# A2D Funding plc\n",
    "# GBP | XS1103286305 | BQ8NZW9\n",
    "# 4.500\t30 September 2026\t115.000\n",
    "total_return(0.045, 2, 5)"
   ]
  },
  {
   "cell_type": "code",
   "execution_count": 20,
   "metadata": {},
   "outputs": [
    {
     "name": "stdout",
     "output_type": "stream",
     "text": [
      "104.80640625\n"
     ]
    }
   ],
   "source": [
    "# A2D Funding plc\n",
    "# GBP | XS0975865949 | BFD3SJ5\n",
    "# 4.750\t18 October 2022\t104.400\n",
    "total_return(0.0475, 2, 1)"
   ]
  },
  {
   "cell_type": "code",
   "execution_count": 22,
   "metadata": {},
   "outputs": [
    {
     "name": "stdout",
     "output_type": "stream",
     "text": [
      "22019.293385788216\n"
     ]
    }
   ],
   "source": [
    "# Abbey National\n",
    "# GBP | XS0124569566 | BSS8517\n",
    "# 7.037\t31 December 2099\t113.500\n",
    "total_return(0.07037,2,78)"
   ]
  },
  {
   "cell_type": "code",
   "execution_count": 23,
   "metadata": {},
   "outputs": [
    {
     "name": "stdout",
     "output_type": "stream",
     "text": [
      "118.86857536682123\n"
     ]
    }
   ],
   "source": [
    "# Alpha Plus Holdings plc\n",
    "# GBP | XS1379593566 | BZ5ZT30\n",
    "# 5.000\t31 March 2024\t100.500\n",
    "total_return(0.05,2,3.5)"
   ]
  },
  {
   "cell_type": "code",
   "execution_count": null,
   "metadata": {},
   "outputs": [],
   "source": []
  },
  {
   "cell_type": "code",
   "execution_count": 1,
   "metadata": {},
   "outputs": [
    {
     "data": {
      "text/plain": [
       "1.0000000000000004e-05"
      ]
     },
     "execution_count": 1,
     "metadata": {},
     "output_type": "execute_result"
    }
   ],
   "source": [
    "100*((0.1)**7)"
   ]
  },
  {
   "cell_type": "code",
   "execution_count": 2,
   "metadata": {},
   "outputs": [
    {
     "data": {
      "text/plain": [
       "194.87171000000012"
      ]
     },
     "execution_count": 2,
     "metadata": {},
     "output_type": "execute_result"
    }
   ],
   "source": [
    "100*(1+0.1)**7"
   ]
  },
  {
   "cell_type": "code",
   "execution_count": 3,
   "metadata": {},
   "outputs": [
    {
     "data": {
      "text/plain": [
       "197.99315994393987"
      ]
     },
     "execution_count": 3,
     "metadata": {},
     "output_type": "execute_result"
    }
   ],
   "source": [
    "100*(1+0.1/2)**(2*7)"
   ]
  },
  {
   "cell_type": "code",
   "execution_count": 4,
   "metadata": {},
   "outputs": [],
   "source": [
    "# 获得YTM 或者是 债券的价格\n",
    "class coupon_bond:\n",
    "    def get_price(self, coupon, face_value, int_rate, years, freq=1):\n",
    "        total_coupons_pv = self.get_coupons_pv(coupon, int_rate, years, freq)\n",
    "        face_value_pv    = self.get_face_value_pv(face_value, int_rate, years)\n",
    "        result           = total_coupons_pv + face_value_pv\n",
    "        return result\n",
    "    \n",
    "    @staticmethod\n",
    "    def get_face_value_pv(face_value, int_rate, years):\n",
    "        fvpv = face_value / (1 + int_rate)** years\n",
    "        return fvpv\n",
    "    \n",
    "    def get_coupons_pv(self, coupon, int_rate, years, freq=1):\n",
    "        pv = 0\n",
    "        for period in range(years*freq):\n",
    "            pv += self.get_coupon_pv(coupon, int_rate, period+1, freq)\n",
    "        return pv\n",
    "    \n",
    "    @staticmethod\n",
    "    def get_coupon_pv(coupon, int_rate, period, freq):\n",
    "        pv = coupon / (1 + int_rate/freq)**period\n",
    "        return pv\n",
    "    \n",
    "    def get_ytm(self, bond_price, face_value, coupon, years, freq=1, estimate=0.05):\n",
    "        import scipy\n",
    "        from scipy import optimize\n",
    "        get_yield = lambda int_rate: self.get_price(coupon, face_value, int_rate, years, freq) - bond_price\n",
    "        return optimize.newton(get_yield,estimate)\n",
    "        "
   ]
  },
  {
   "cell_type": "code",
   "execution_count": 6,
   "metadata": {},
   "outputs": [],
   "source": [
    "coupon_bond_calculator = coupon_bond()"
   ]
  },
  {
   "cell_type": "code",
   "execution_count": 7,
   "metadata": {},
   "outputs": [
    {
     "data": {
      "text/plain": [
       "0.0664750089233647"
      ]
     },
     "execution_count": 7,
     "metadata": {},
     "output_type": "execute_result"
    }
   ],
   "source": [
    "coupon_bond_calculator.get_ytm(bond_price=138, face_value=100, coupon=5.75, years=11,freq=2)"
   ]
  },
  {
   "cell_type": "code",
   "execution_count": 8,
   "metadata": {},
   "outputs": [
    {
     "data": {
      "text/plain": [
       "0.01891223617863135"
      ]
     },
     "execution_count": 8,
     "metadata": {},
     "output_type": "execute_result"
    }
   ],
   "source": [
    "coupon_bond_calculator.get_ytm(bond_price=138, face_value=100, coupon=5.75, years=11,freq=1)"
   ]
  },
  {
   "cell_type": "code",
   "execution_count": 15,
   "metadata": {},
   "outputs": [
    {
     "data": {
      "text/plain": [
       "0.01257814556963827"
      ]
     },
     "execution_count": 15,
     "metadata": {},
     "output_type": "execute_result"
    }
   ],
   "source": [
    "coupon_bond_calculator.get_ytm(bond_price=138, face_value=100, coupon=5.75, years=9,freq=1)"
   ]
  },
  {
   "cell_type": "code",
   "execution_count": 20,
   "metadata": {},
   "outputs": [
    {
     "data": {
      "text/plain": [
       "0.03950617283950606"
      ]
     },
     "execution_count": 20,
     "metadata": {},
     "output_type": "execute_result"
    }
   ],
   "source": [
    "coupon_bond_calculator.get_ytm(bond_price=101.25, face_value=100, coupon=5.25, years=1,freq=1)"
   ]
  },
  {
   "cell_type": "code",
   "execution_count": 21,
   "metadata": {},
   "outputs": [
    {
     "data": {
      "text/plain": [
       "0.0218277764451906"
      ]
     },
     "execution_count": 21,
     "metadata": {},
     "output_type": "execute_result"
    }
   ],
   "source": [
    "coupon_bond_calculator.get_ytm(bond_price=104.225, face_value=100, coupon=6.5, years=1,freq=1)"
   ]
  },
  {
   "cell_type": "code",
   "execution_count": 24,
   "metadata": {},
   "outputs": [
    {
     "data": {
      "text/plain": [
       "0.004273988450306324"
      ]
     },
     "execution_count": 24,
     "metadata": {},
     "output_type": "execute_result"
    }
   ],
   "source": [
    "coupon_bond_calculator.get_ytm(bond_price=112.813, face_value=100, coupon=6.875, years=2,freq=1)"
   ]
  },
  {
   "cell_type": "code",
   "execution_count": 25,
   "metadata": {},
   "outputs": [
    {
     "data": {
      "text/plain": [
       "0.0054199036186477565"
      ]
     },
     "execution_count": 25,
     "metadata": {},
     "output_type": "execute_result"
    }
   ],
   "source": [
    "coupon_bond_calculator.get_ytm(bond_price=109.588, face_value=100, coupon=5.375, years=2,freq=1)"
   ]
  },
  {
   "cell_type": "code",
   "execution_count": 28,
   "metadata": {},
   "outputs": [],
   "source": [
    "def bond_ytm(price, par, T, coup, freq=2, guess=0.05):\n",
    "    import scipy.optimize as optimize\n",
    "    freq = float(freq)\n",
    "    periods = T*freq\n",
    "    coupon = coup/100.*par/freq\n",
    "    dt = [(i+1)/freq for i in range(int(periods))]\n",
    "    ytm_func = lambda y:sum([coupon/(1+y/freq)**(freq*t) for t in dt]) + par/(1+y/freq)**(freq*T) - price\n",
    "    return optimize.newton(ytm_func, guess)"
   ]
  },
  {
   "cell_type": "code",
   "execution_count": 94,
   "metadata": {},
   "outputs": [
    {
     "data": {
      "text/plain": [
       "0.012194987888386591"
      ]
     },
     "execution_count": 94,
     "metadata": {},
     "output_type": "execute_result"
    }
   ],
   "source": [
    "bond_ytm(143.125, 100, 11.5, 5.25, 2)"
   ]
  },
  {
   "cell_type": "code",
   "execution_count": 100,
   "metadata": {},
   "outputs": [
    {
     "data": {
      "text/plain": [
       "0.014285900223343036"
      ]
     },
     "execution_count": 100,
     "metadata": {},
     "output_type": "execute_result"
    }
   ],
   "source": [
    "bond_ytm(147, 100, 11.5, 5.875, 2)"
   ]
  },
  {
   "cell_type": "code",
   "execution_count": null,
   "metadata": {},
   "outputs": [],
   "source": []
  }
 ],
 "metadata": {
  "kernelspec": {
   "display_name": "Python 3",
   "language": "python",
   "name": "python3"
  },
  "language_info": {
   "codemirror_mode": {
    "name": "ipython",
    "version": 3
   },
   "file_extension": ".py",
   "mimetype": "text/x-python",
   "name": "python",
   "nbconvert_exporter": "python",
   "pygments_lexer": "ipython3",
   "version": "3.8.3"
  }
 },
 "nbformat": 4,
 "nbformat_minor": 4
}
