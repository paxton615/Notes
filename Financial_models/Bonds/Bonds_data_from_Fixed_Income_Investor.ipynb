{
 "cells": [
  {
   "cell_type": "code",
   "execution_count": 1,
   "metadata": {},
   "outputs": [],
   "source": [
    "import pandas as pd\n",
    "\n",
    "import numpy as np"
   ]
  },
  {
   "cell_type": "markdown",
   "metadata": {},
   "source": [
    "数据来源：\n",
    "https://www.fixedincomeinvestor.co.uk/x/bondtable.html?groupid=4"
   ]
  },
  {
   "cell_type": "code",
   "execution_count": 3,
   "metadata": {},
   "outputs": [
    {
     "data": {
      "text/html": [
       "<div>\n",
       "<style scoped>\n",
       "    .dataframe tbody tr th:only-of-type {\n",
       "        vertical-align: middle;\n",
       "    }\n",
       "\n",
       "    .dataframe tbody tr th {\n",
       "        vertical-align: top;\n",
       "    }\n",
       "\n",
       "    .dataframe thead th {\n",
       "        text-align: right;\n",
       "    }\n",
       "</style>\n",
       "<table border=\"1\" class=\"dataframe\">\n",
       "  <thead>\n",
       "    <tr style=\"text-align: right;\">\n",
       "      <th></th>\n",
       "      <th>CURRENCY</th>\n",
       "      <th>CURRENT_DATE</th>\n",
       "      <th>ISSUER</th>\n",
       "      <th>ISIN</th>\n",
       "      <th>COUPON</th>\n",
       "      <th>MATURITY</th>\n",
       "      <th>LIFE</th>\n",
       "      <th>PRICE</th>\n",
       "      <th>YTM</th>\n",
       "    </tr>\n",
       "  </thead>\n",
       "  <tbody>\n",
       "    <tr>\n",
       "      <th>0</th>\n",
       "      <td>GBP</td>\n",
       "      <td>9-Aug-21</td>\n",
       "      <td>Natl Westminster Bank</td>\n",
       "      <td>XS0090254722</td>\n",
       "      <td>6.50%</td>\n",
       "      <td>7-Sep-21</td>\n",
       "      <td>1 mth</td>\n",
       "      <td>100.447</td>\n",
       "      <td>0.71%</td>\n",
       "    </tr>\n",
       "    <tr>\n",
       "      <th>1</th>\n",
       "      <td>GBP</td>\n",
       "      <td>9-Aug-21</td>\n",
       "      <td>Toyota Motor Credit Corp</td>\n",
       "      <td>XS1569850313</td>\n",
       "      <td>1.13%</td>\n",
       "      <td>7-Sep-21</td>\n",
       "      <td>1 mth</td>\n",
       "      <td>99.800</td>\n",
       "      <td>3.67%</td>\n",
       "    </tr>\n",
       "    <tr>\n",
       "      <th>2</th>\n",
       "      <td>GBP</td>\n",
       "      <td>9-Aug-21</td>\n",
       "      <td>European Investment Bank</td>\n",
       "      <td>XS1416470323</td>\n",
       "      <td>1.13%</td>\n",
       "      <td>7-Sep-21</td>\n",
       "      <td>1 mth</td>\n",
       "      <td>100.074</td>\n",
       "      <td>0.17%</td>\n",
       "    </tr>\n",
       "    <tr>\n",
       "      <th>3</th>\n",
       "      <td>GBP</td>\n",
       "      <td>9-Aug-21</td>\n",
       "      <td>Provident Financial plc</td>\n",
       "      <td>XS0900863084</td>\n",
       "      <td>6%</td>\n",
       "      <td>27-Sep-21</td>\n",
       "      <td>1 mth</td>\n",
       "      <td>99.250</td>\n",
       "      <td>11.46%</td>\n",
       "    </tr>\n",
       "    <tr>\n",
       "      <th>4</th>\n",
       "      <td>GBP</td>\n",
       "      <td>9-Aug-21</td>\n",
       "      <td>Goldman Sachs Group Inc</td>\n",
       "      <td>XS0270349003</td>\n",
       "      <td>5.50%</td>\n",
       "      <td>12-Oct-21</td>\n",
       "      <td>2 mths</td>\n",
       "      <td>100.822</td>\n",
       "      <td>0.76%</td>\n",
       "    </tr>\n",
       "  </tbody>\n",
       "</table>\n",
       "</div>"
      ],
      "text/plain": [
       "  CURRENCY CURRENT_DATE                    ISSUER          ISIN COUPON  \\\n",
       "0      GBP     9-Aug-21     Natl Westminster Bank  XS0090254722  6.50%   \n",
       "1      GBP     9-Aug-21  Toyota Motor Credit Corp  XS1569850313  1.13%   \n",
       "2      GBP     9-Aug-21  European Investment Bank  XS1416470323  1.13%   \n",
       "3      GBP     9-Aug-21   Provident Financial plc  XS0900863084     6%   \n",
       "4      GBP     9-Aug-21   Goldman Sachs Group Inc  XS0270349003  5.50%   \n",
       "\n",
       "    MATURITY    LIFE    PRICE     YTM  \n",
       "0   7-Sep-21   1 mth  100.447   0.71%  \n",
       "1   7-Sep-21   1 mth   99.800   3.67%  \n",
       "2   7-Sep-21   1 mth  100.074   0.17%  \n",
       "3  27-Sep-21   1 mth   99.250  11.46%  \n",
       "4  12-Oct-21  2 mths  100.822   0.76%  "
      ]
     },
     "execution_count": 3,
     "metadata": {},
     "output_type": "execute_result"
    }
   ],
   "source": [
    "bonds = pd.read_csv(r'/Users/paxton615/Desktop/CORPORATE_BONDS.csv')\n",
    "bonds.head()"
   ]
  },
  {
   "cell_type": "code",
   "execution_count": 5,
   "metadata": {},
   "outputs": [
    {
     "data": {
      "text/html": [
       "<div>\n",
       "<style scoped>\n",
       "    .dataframe tbody tr th:only-of-type {\n",
       "        vertical-align: middle;\n",
       "    }\n",
       "\n",
       "    .dataframe tbody tr th {\n",
       "        vertical-align: top;\n",
       "    }\n",
       "\n",
       "    .dataframe thead th {\n",
       "        text-align: right;\n",
       "    }\n",
       "</style>\n",
       "<table border=\"1\" class=\"dataframe\">\n",
       "  <thead>\n",
       "    <tr style=\"text-align: right;\">\n",
       "      <th></th>\n",
       "      <th>PRICE</th>\n",
       "    </tr>\n",
       "  </thead>\n",
       "  <tbody>\n",
       "    <tr>\n",
       "      <th>count</th>\n",
       "      <td>139.000000</td>\n",
       "    </tr>\n",
       "    <tr>\n",
       "      <th>mean</th>\n",
       "      <td>121.084453</td>\n",
       "    </tr>\n",
       "    <tr>\n",
       "      <th>std</th>\n",
       "      <td>20.015099</td>\n",
       "    </tr>\n",
       "    <tr>\n",
       "      <th>min</th>\n",
       "      <td>59.475000</td>\n",
       "    </tr>\n",
       "    <tr>\n",
       "      <th>25%</th>\n",
       "      <td>105.175000</td>\n",
       "    </tr>\n",
       "    <tr>\n",
       "      <th>50%</th>\n",
       "      <td>115.850000</td>\n",
       "    </tr>\n",
       "    <tr>\n",
       "      <th>75%</th>\n",
       "      <td>136.109500</td>\n",
       "    </tr>\n",
       "    <tr>\n",
       "      <th>max</th>\n",
       "      <td>215.875000</td>\n",
       "    </tr>\n",
       "  </tbody>\n",
       "</table>\n",
       "</div>"
      ],
      "text/plain": [
       "            PRICE\n",
       "count  139.000000\n",
       "mean   121.084453\n",
       "std     20.015099\n",
       "min     59.475000\n",
       "25%    105.175000\n",
       "50%    115.850000\n",
       "75%    136.109500\n",
       "max    215.875000"
      ]
     },
     "execution_count": 5,
     "metadata": {},
     "output_type": "execute_result"
    }
   ],
   "source": [
    "bonds[['COUPON','PRICE','YTM']].describe()"
   ]
  },
  {
   "cell_type": "code",
   "execution_count": 6,
   "metadata": {},
   "outputs": [],
   "source": [
    "bonds['COUPON']=[float(i.replace('%','')) for i in bonds['COUPON']]"
   ]
  },
  {
   "cell_type": "code",
   "execution_count": 24,
   "metadata": {},
   "outputs": [
    {
     "data": {
      "text/plain": [
       "139"
      ]
     },
     "execution_count": 24,
     "metadata": {},
     "output_type": "execute_result"
    }
   ],
   "source": [
    "len(bonds.YTM)"
   ]
  },
  {
   "cell_type": "code",
   "execution_count": 25,
   "metadata": {},
   "outputs": [],
   "source": [
    "bonds = bonds.dropna()"
   ]
  },
  {
   "cell_type": "code",
   "execution_count": 26,
   "metadata": {},
   "outputs": [
    {
     "data": {
      "text/plain": [
       "135"
      ]
     },
     "execution_count": 26,
     "metadata": {},
     "output_type": "execute_result"
    }
   ],
   "source": [
    "len(bonds.YTM)"
   ]
  },
  {
   "cell_type": "code",
   "execution_count": 30,
   "metadata": {},
   "outputs": [
    {
     "name": "stderr",
     "output_type": "stream",
     "text": [
      "<ipython-input-30-d6365876bb98>:1: SettingWithCopyWarning: \n",
      "A value is trying to be set on a copy of a slice from a DataFrame.\n",
      "Try using .loc[row_indexer,col_indexer] = value instead\n",
      "\n",
      "See the caveats in the documentation: https://pandas.pydata.org/pandas-docs/stable/user_guide/indexing.html#returning-a-view-versus-a-copy\n",
      "  bonds['YTM']=[float(i) for i in bonds['YTM']]\n"
     ]
    }
   ],
   "source": [
    "bonds['YTM']=[float(i) for i in bonds['YTM']]"
   ]
  },
  {
   "cell_type": "code",
   "execution_count": 31,
   "metadata": {},
   "outputs": [
    {
     "data": {
      "text/plain": [
       "CURRENCY         object\n",
       "CURRENT_DATE     object\n",
       "ISSUER           object\n",
       "ISIN             object\n",
       "COUPON          float64\n",
       "MATURITY         object\n",
       "LIFE             object\n",
       "PRICE           float64\n",
       "YTM             float64\n",
       "dtype: object"
      ]
     },
     "execution_count": 31,
     "metadata": {},
     "output_type": "execute_result"
    }
   ],
   "source": [
    "bonds.dtypes"
   ]
  },
  {
   "cell_type": "code",
   "execution_count": 29,
   "metadata": {
    "scrolled": true
   },
   "outputs": [
    {
     "data": {
      "text/html": [
       "<div>\n",
       "<style scoped>\n",
       "    .dataframe tbody tr th:only-of-type {\n",
       "        vertical-align: middle;\n",
       "    }\n",
       "\n",
       "    .dataframe tbody tr th {\n",
       "        vertical-align: top;\n",
       "    }\n",
       "\n",
       "    .dataframe thead th {\n",
       "        text-align: right;\n",
       "    }\n",
       "</style>\n",
       "<table border=\"1\" class=\"dataframe\">\n",
       "  <thead>\n",
       "    <tr style=\"text-align: right;\">\n",
       "      <th></th>\n",
       "      <th>CURRENCY</th>\n",
       "      <th>CURRENT_DATE</th>\n",
       "      <th>ISSUER</th>\n",
       "      <th>ISIN</th>\n",
       "      <th>COUPON</th>\n",
       "      <th>MATURITY</th>\n",
       "      <th>LIFE</th>\n",
       "      <th>PRICE</th>\n",
       "      <th>YTM</th>\n",
       "    </tr>\n",
       "  </thead>\n",
       "  <tbody>\n",
       "    <tr>\n",
       "      <th>0</th>\n",
       "      <td>GBP</td>\n",
       "      <td>9-Aug-21</td>\n",
       "      <td>Natl Westminster Bank</td>\n",
       "      <td>XS0090254722</td>\n",
       "      <td>6.50</td>\n",
       "      <td>7-Sep-21</td>\n",
       "      <td>1 mth</td>\n",
       "      <td>100.447</td>\n",
       "      <td>0.71</td>\n",
       "    </tr>\n",
       "    <tr>\n",
       "      <th>1</th>\n",
       "      <td>GBP</td>\n",
       "      <td>9-Aug-21</td>\n",
       "      <td>Toyota Motor Credit Corp</td>\n",
       "      <td>XS1569850313</td>\n",
       "      <td>1.13</td>\n",
       "      <td>7-Sep-21</td>\n",
       "      <td>1 mth</td>\n",
       "      <td>99.800</td>\n",
       "      <td>3.67</td>\n",
       "    </tr>\n",
       "    <tr>\n",
       "      <th>2</th>\n",
       "      <td>GBP</td>\n",
       "      <td>9-Aug-21</td>\n",
       "      <td>European Investment Bank</td>\n",
       "      <td>XS1416470323</td>\n",
       "      <td>1.13</td>\n",
       "      <td>7-Sep-21</td>\n",
       "      <td>1 mth</td>\n",
       "      <td>100.074</td>\n",
       "      <td>0.17</td>\n",
       "    </tr>\n",
       "    <tr>\n",
       "      <th>3</th>\n",
       "      <td>GBP</td>\n",
       "      <td>9-Aug-21</td>\n",
       "      <td>Provident Financial plc</td>\n",
       "      <td>XS0900863084</td>\n",
       "      <td>6.00</td>\n",
       "      <td>27-Sep-21</td>\n",
       "      <td>1 mth</td>\n",
       "      <td>99.250</td>\n",
       "      <td>11.46</td>\n",
       "    </tr>\n",
       "    <tr>\n",
       "      <th>4</th>\n",
       "      <td>GBP</td>\n",
       "      <td>9-Aug-21</td>\n",
       "      <td>Goldman Sachs Group Inc</td>\n",
       "      <td>XS0270349003</td>\n",
       "      <td>5.50</td>\n",
       "      <td>12-Oct-21</td>\n",
       "      <td>2 mths</td>\n",
       "      <td>100.822</td>\n",
       "      <td>0.76</td>\n",
       "    </tr>\n",
       "    <tr>\n",
       "      <th>...</th>\n",
       "      <td>...</td>\n",
       "      <td>...</td>\n",
       "      <td>...</td>\n",
       "      <td>...</td>\n",
       "      <td>...</td>\n",
       "      <td>...</td>\n",
       "      <td>...</td>\n",
       "      <td>...</td>\n",
       "      <td>...</td>\n",
       "    </tr>\n",
       "    <tr>\n",
       "      <th>131</th>\n",
       "      <td>GBP</td>\n",
       "      <td>9-Aug-21</td>\n",
       "      <td>Lloyds Bank plc</td>\n",
       "      <td>XS0543369184</td>\n",
       "      <td>6.50</td>\n",
       "      <td>17-Sep-40</td>\n",
       "      <td>19 yrs 1 mth</td>\n",
       "      <td>177.525</td>\n",
       "      <td>1.71</td>\n",
       "    </tr>\n",
       "    <tr>\n",
       "      <th>132</th>\n",
       "      <td>GBP</td>\n",
       "      <td>9-Aug-21</td>\n",
       "      <td>GE</td>\n",
       "      <td>XS0182703743</td>\n",
       "      <td>5.38</td>\n",
       "      <td>18-Dec-40</td>\n",
       "      <td>19 yrs 4 mths</td>\n",
       "      <td>148.044</td>\n",
       "      <td>2.28</td>\n",
       "    </tr>\n",
       "    <tr>\n",
       "      <th>133</th>\n",
       "      <td>GBP</td>\n",
       "      <td>9-Aug-21</td>\n",
       "      <td>HSBC Bank plc</td>\n",
       "      <td>XS0120514335</td>\n",
       "      <td>6.25</td>\n",
       "      <td>30-Jan-41</td>\n",
       "      <td>19 yrs 5 mths</td>\n",
       "      <td>161.240</td>\n",
       "      <td>2.31</td>\n",
       "    </tr>\n",
       "    <tr>\n",
       "      <th>134</th>\n",
       "      <td>GBP</td>\n",
       "      <td>9-Aug-21</td>\n",
       "      <td>Direct Line</td>\n",
       "      <td>XS0773947618</td>\n",
       "      <td>9.13</td>\n",
       "      <td>27-Apr-42</td>\n",
       "      <td>20 yrs 8 mths</td>\n",
       "      <td>105.929</td>\n",
       "      <td>8.50</td>\n",
       "    </tr>\n",
       "    <tr>\n",
       "      <th>135</th>\n",
       "      <td>GBP</td>\n",
       "      <td>9-Aug-21</td>\n",
       "      <td>Places For People Home</td>\n",
       "      <td>XS0171888109</td>\n",
       "      <td>5.09</td>\n",
       "      <td>31-Jul-43</td>\n",
       "      <td>21 yrs 11 mths</td>\n",
       "      <td>112.534</td>\n",
       "      <td>4.21</td>\n",
       "    </tr>\n",
       "  </tbody>\n",
       "</table>\n",
       "<p>135 rows × 9 columns</p>\n",
       "</div>"
      ],
      "text/plain": [
       "    CURRENCY CURRENT_DATE                    ISSUER          ISIN  COUPON  \\\n",
       "0        GBP     9-Aug-21     Natl Westminster Bank  XS0090254722    6.50   \n",
       "1        GBP     9-Aug-21  Toyota Motor Credit Corp  XS1569850313    1.13   \n",
       "2        GBP     9-Aug-21  European Investment Bank  XS1416470323    1.13   \n",
       "3        GBP     9-Aug-21   Provident Financial plc  XS0900863084    6.00   \n",
       "4        GBP     9-Aug-21   Goldman Sachs Group Inc  XS0270349003    5.50   \n",
       "..       ...          ...                       ...           ...     ...   \n",
       "131      GBP     9-Aug-21           Lloyds Bank plc  XS0543369184    6.50   \n",
       "132      GBP     9-Aug-21                        GE  XS0182703743    5.38   \n",
       "133      GBP     9-Aug-21             HSBC Bank plc  XS0120514335    6.25   \n",
       "134      GBP     9-Aug-21               Direct Line  XS0773947618    9.13   \n",
       "135      GBP     9-Aug-21    Places For People Home  XS0171888109    5.09   \n",
       "\n",
       "      MATURITY            LIFE    PRICE    YTM  \n",
       "0     7-Sep-21           1 mth  100.447   0.71  \n",
       "1     7-Sep-21           1 mth   99.800   3.67  \n",
       "2     7-Sep-21           1 mth  100.074   0.17  \n",
       "3    27-Sep-21           1 mth   99.250  11.46  \n",
       "4    12-Oct-21          2 mths  100.822   0.76  \n",
       "..         ...             ...      ...    ...  \n",
       "131  17-Sep-40    19 yrs 1 mth  177.525   1.71  \n",
       "132  18-Dec-40   19 yrs 4 mths  148.044   2.28  \n",
       "133  30-Jan-41   19 yrs 5 mths  161.240   2.31  \n",
       "134  27-Apr-42   20 yrs 8 mths  105.929   8.50  \n",
       "135  31-Jul-43  21 yrs 11 mths  112.534   4.21  \n",
       "\n",
       "[135 rows x 9 columns]"
      ]
     },
     "execution_count": 29,
     "metadata": {},
     "output_type": "execute_result"
    }
   ],
   "source": [
    "bonds"
   ]
  },
  {
   "cell_type": "markdown",
   "metadata": {},
   "source": [
    "- some outliers are very outstanding"
   ]
  },
  {
   "cell_type": "code",
   "execution_count": 32,
   "metadata": {
    "scrolled": true
   },
   "outputs": [
    {
     "data": {
      "text/html": [
       "<div>\n",
       "<style scoped>\n",
       "    .dataframe tbody tr th:only-of-type {\n",
       "        vertical-align: middle;\n",
       "    }\n",
       "\n",
       "    .dataframe tbody tr th {\n",
       "        vertical-align: top;\n",
       "    }\n",
       "\n",
       "    .dataframe thead th {\n",
       "        text-align: right;\n",
       "    }\n",
       "</style>\n",
       "<table border=\"1\" class=\"dataframe\">\n",
       "  <thead>\n",
       "    <tr style=\"text-align: right;\">\n",
       "      <th></th>\n",
       "      <th>COUPON</th>\n",
       "      <th>PRICE</th>\n",
       "      <th>YTM</th>\n",
       "    </tr>\n",
       "  </thead>\n",
       "  <tbody>\n",
       "    <tr>\n",
       "      <th>count</th>\n",
       "      <td>135.000000</td>\n",
       "      <td>135.000000</td>\n",
       "      <td>135.000000</td>\n",
       "    </tr>\n",
       "    <tr>\n",
       "      <th>mean</th>\n",
       "      <td>5.555889</td>\n",
       "      <td>121.550844</td>\n",
       "      <td>4.266444</td>\n",
       "    </tr>\n",
       "    <tr>\n",
       "      <th>std</th>\n",
       "      <td>1.539410</td>\n",
       "      <td>20.094897</td>\n",
       "      <td>32.180540</td>\n",
       "    </tr>\n",
       "    <tr>\n",
       "      <th>min</th>\n",
       "      <td>0.880000</td>\n",
       "      <td>59.475000</td>\n",
       "      <td>-42.620000</td>\n",
       "    </tr>\n",
       "    <tr>\n",
       "      <th>25%</th>\n",
       "      <td>5.045000</td>\n",
       "      <td>105.425000</td>\n",
       "      <td>0.825000</td>\n",
       "    </tr>\n",
       "    <tr>\n",
       "      <th>50%</th>\n",
       "      <td>5.750000</td>\n",
       "      <td>116.815000</td>\n",
       "      <td>1.510000</td>\n",
       "    </tr>\n",
       "    <tr>\n",
       "      <th>75%</th>\n",
       "      <td>6.190000</td>\n",
       "      <td>136.602000</td>\n",
       "      <td>2.315000</td>\n",
       "    </tr>\n",
       "    <tr>\n",
       "      <th>max</th>\n",
       "      <td>9.630000</td>\n",
       "      <td>215.875000</td>\n",
       "      <td>369.790000</td>\n",
       "    </tr>\n",
       "  </tbody>\n",
       "</table>\n",
       "</div>"
      ],
      "text/plain": [
       "           COUPON       PRICE         YTM\n",
       "count  135.000000  135.000000  135.000000\n",
       "mean     5.555889  121.550844    4.266444\n",
       "std      1.539410   20.094897   32.180540\n",
       "min      0.880000   59.475000  -42.620000\n",
       "25%      5.045000  105.425000    0.825000\n",
       "50%      5.750000  116.815000    1.510000\n",
       "75%      6.190000  136.602000    2.315000\n",
       "max      9.630000  215.875000  369.790000"
      ]
     },
     "execution_count": 32,
     "metadata": {},
     "output_type": "execute_result"
    }
   ],
   "source": [
    "bonds[['COUPON','PRICE','YTM']].describe()"
   ]
  },
  {
   "cell_type": "code",
   "execution_count": 34,
   "metadata": {},
   "outputs": [],
   "source": [
    "import matplotlib as plt\n",
    "import matplotlib.pyplot as plt \n",
    "import seaborn as sns\n",
    "\n",
    "%matplotlib inline\n",
    "# this line tells jupyter notebook to put the plots in the notebook rather than saving them to file\n",
    "\n",
    "%config InlineBackend.figure_format = 'retina'"
   ]
  },
  {
   "cell_type": "code",
   "execution_count": 38,
   "metadata": {},
   "outputs": [
    {
     "data": {
      "text/plain": [
       "135"
      ]
     },
     "execution_count": 38,
     "metadata": {},
     "output_type": "execute_result"
    }
   ],
   "source": [
    "len(bonds)"
   ]
  },
  {
   "cell_type": "markdown",
   "metadata": {},
   "source": [
    "- get rid off some outliers and plot"
   ]
  },
  {
   "cell_type": "code",
   "execution_count": 48,
   "metadata": {},
   "outputs": [],
   "source": [
    "bonds_clean = bonds.loc[(bonds['YTM']<25)&(bonds['YTM']>0)&(bonds['PRICE']<180)&(bonds['PRICE']>70)]"
   ]
  },
  {
   "cell_type": "code",
   "execution_count": 49,
   "metadata": {},
   "outputs": [
    {
     "data": {
      "text/plain": [
       "128"
      ]
     },
     "execution_count": 49,
     "metadata": {},
     "output_type": "execute_result"
    }
   ],
   "source": [
    "len(bonds_clean)"
   ]
  },
  {
   "cell_type": "code",
   "execution_count": 59,
   "metadata": {},
   "outputs": [
    {
     "data": {
      "text/html": [
       "<div>\n",
       "<style scoped>\n",
       "    .dataframe tbody tr th:only-of-type {\n",
       "        vertical-align: middle;\n",
       "    }\n",
       "\n",
       "    .dataframe tbody tr th {\n",
       "        vertical-align: top;\n",
       "    }\n",
       "\n",
       "    .dataframe thead th {\n",
       "        text-align: right;\n",
       "    }\n",
       "</style>\n",
       "<table border=\"1\" class=\"dataframe\">\n",
       "  <thead>\n",
       "    <tr style=\"text-align: right;\">\n",
       "      <th></th>\n",
       "      <th>COUPON</th>\n",
       "      <th>PRICE</th>\n",
       "      <th>YTM</th>\n",
       "    </tr>\n",
       "  </thead>\n",
       "  <tbody>\n",
       "    <tr>\n",
       "      <th>count</th>\n",
       "      <td>128.000000</td>\n",
       "      <td>128.000000</td>\n",
       "      <td>128.000000</td>\n",
       "    </tr>\n",
       "    <tr>\n",
       "      <th>mean</th>\n",
       "      <td>5.621992</td>\n",
       "      <td>121.755188</td>\n",
       "      <td>2.031875</td>\n",
       "    </tr>\n",
       "    <tr>\n",
       "      <th>std</th>\n",
       "      <td>1.457295</td>\n",
       "      <td>17.623956</td>\n",
       "      <td>1.883879</td>\n",
       "    </tr>\n",
       "    <tr>\n",
       "      <th>min</th>\n",
       "      <td>0.880000</td>\n",
       "      <td>93.482000</td>\n",
       "      <td>0.170000</td>\n",
       "    </tr>\n",
       "    <tr>\n",
       "      <th>25%</th>\n",
       "      <td>5.130000</td>\n",
       "      <td>105.575000</td>\n",
       "      <td>0.877500</td>\n",
       "    </tr>\n",
       "    <tr>\n",
       "      <th>50%</th>\n",
       "      <td>5.750000</td>\n",
       "      <td>117.653500</td>\n",
       "      <td>1.520000</td>\n",
       "    </tr>\n",
       "    <tr>\n",
       "      <th>75%</th>\n",
       "      <td>6.130000</td>\n",
       "      <td>136.934250</td>\n",
       "      <td>2.312500</td>\n",
       "    </tr>\n",
       "    <tr>\n",
       "      <th>max</th>\n",
       "      <td>9.630000</td>\n",
       "      <td>177.525000</td>\n",
       "      <td>11.460000</td>\n",
       "    </tr>\n",
       "  </tbody>\n",
       "</table>\n",
       "</div>"
      ],
      "text/plain": [
       "           COUPON       PRICE         YTM\n",
       "count  128.000000  128.000000  128.000000\n",
       "mean     5.621992  121.755188    2.031875\n",
       "std      1.457295   17.623956    1.883879\n",
       "min      0.880000   93.482000    0.170000\n",
       "25%      5.130000  105.575000    0.877500\n",
       "50%      5.750000  117.653500    1.520000\n",
       "75%      6.130000  136.934250    2.312500\n",
       "max      9.630000  177.525000   11.460000"
      ]
     },
     "execution_count": 59,
     "metadata": {},
     "output_type": "execute_result"
    }
   ],
   "source": [
    "bonds_clean[['COUPON','PRICE','YTM']].describe()"
   ]
  },
  {
   "cell_type": "code",
   "execution_count": 50,
   "metadata": {
    "scrolled": false
   },
   "outputs": [
    {
     "data": {
      "image/png": "[encoded data removed]",
      "text/plain": [
       "<Figure size 864x432 with 1 Axes>"
      ]
     },
     "metadata": {
      "image/png": {
       "height": 357,
       "width": 725
      },
      "needs_background": "light"
     },
     "output_type": "display_data"
    }
   ],
   "source": [
    "fig, ax = plt.subplots( figsize=(12,6))\n",
    "sns.scatterplot(x=bonds_clean.index, y=bonds_clean.PRICE)\n",
    "plt.show()"
   ]
  },
  {
   "cell_type": "code",
   "execution_count": 58,
   "metadata": {},
   "outputs": [
    {
     "data": {
      "image/png": "[encoded data removed]",
      "text/plain": [
       "<Figure size 432x288 with 1 Axes>"
      ]
     },
     "metadata": {
      "image/png": {
       "height": 248,
       "width": 365
      },
      "needs_background": "light"
     },
     "output_type": "display_data"
    }
   ],
   "source": [
    "bonds_clean.PRICE.hist(grid=False, bins=50);"
   ]
  },
  {
   "cell_type": "code",
   "execution_count": 51,
   "metadata": {},
   "outputs": [
    {
     "data": {
      "image/png": "[encoded data removed]",
      "text/plain": [
       "<Figure size 864x432 with 1 Axes>"
      ]
     },
     "metadata": {
      "image/png": {
       "height": 360,
       "width": 718
      },
      "needs_background": "light"
     },
     "output_type": "display_data"
    }
   ],
   "source": [
    "fig, ax = plt.subplots( figsize=(12,6))\n",
    "sns.scatterplot(x=bonds_clean.index, y=bonds_clean.YTM)\n",
    "plt.show()"
   ]
  },
  {
   "cell_type": "code",
   "execution_count": 56,
   "metadata": {},
   "outputs": [
    {
     "data": {
      "image/png": "[encoded data removed]",
      "text/plain": [
       "<Figure size 432x288 with 1 Axes>"
      ]
     },
     "metadata": {
      "image/png": {
       "height": 248,
       "width": 374
      },
      "needs_background": "light"
     },
     "output_type": "display_data"
    }
   ],
   "source": [
    "bonds_clean.YTM.hist(grid=False, bins=50);"
   ]
  },
  {
   "cell_type": "code",
   "execution_count": null,
   "metadata": {},
   "outputs": [],
   "source": []
  },
  {
   "cell_type": "code",
   "execution_count": null,
   "metadata": {},
   "outputs": [],
   "source": []
  },
  {
   "cell_type": "code",
   "execution_count": null,
   "metadata": {},
   "outputs": [],
   "source": []
  },
  {
   "cell_type": "code",
   "execution_count": null,
   "metadata": {},
   "outputs": [],
   "source": []
  },
  {
   "cell_type": "code",
   "execution_count": null,
   "metadata": {},
   "outputs": [],
   "source": []
  },
  {
   "cell_type": "code",
   "execution_count": null,
   "metadata": {},
   "outputs": [],
   "source": []
  }
 ],
 "metadata": {
  "kernelspec": {
   "display_name": "Python 3",
   "language": "python",
   "name": "python3"
  },
  "language_info": {
   "codemirror_mode": {
    "name": "ipython",
    "version": 3
   },
   "file_extension": ".py",
   "mimetype": "text/x-python",
   "name": "python",
   "nbconvert_exporter": "python",
   "pygments_lexer": "ipython3",
   "version": "3.8.3"
  }
 },
 "nbformat": 4,
 "nbformat_minor": 4
}
