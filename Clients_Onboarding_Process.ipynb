{
 "cells": [
  {
   "cell_type": "code",
   "execution_count": 4,
   "metadata": {},
   "outputs": [],
   "source": [
    "import pandas as pd\n",
    "import numpy as numpy"
   ]
  },
  {
   "cell_type": "markdown",
   "metadata": {},
   "source": [
    "#### create clients info using dict"
   ]
  },
  {
   "cell_type": "code",
   "execution_count": 73,
   "metadata": {},
   "outputs": [],
   "source": [
    "# title exp: Mr Ma, \n",
    "title =['mr_ma', 'inc_shun', 'mr_liu', 'mr_yang', 'mrs_wang', 'mrs_vicky','mrs_peng']"
   ]
  },
  {
   "cell_type": "code",
   "execution_count": 76,
   "metadata": {},
   "outputs": [],
   "source": [
    "fact_find = ['yes', 'no',   'yes',   'yes',      'yes',      'no',        'no']"
   ]
  },
  {
   "cell_type": "code",
   "execution_count": 77,
   "metadata": {},
   "outputs": [],
   "source": [
    "# Confirming Your Identity aka cfm_id\n",
    "cfm_id = ['yes','no','no','no','no','no','no']"
   ]
  },
  {
   "cell_type": "code",
   "execution_count": 78,
   "metadata": {},
   "outputs": [],
   "source": [
    "# email, email for feasible contact\n",
    "email = ['info@johnsonlaws.org', 'yuqianjun@sf-express.com', 'michaelkofk@hotmail.com', None, \\\n",
    "        'wy1675@hotmail.com', None, None]"
   ]
  },
  {
   "cell_type": "code",
   "execution_count": 79,
   "metadata": {},
   "outputs": [],
   "source": [
    "mobil = ['07888668006', '13612866586', '18678968329', '07880805045', '07727951698', None, None]"
   ]
  },
  {
   "cell_type": "code",
   "execution_count": 80,
   "metadata": {},
   "outputs": [],
   "source": [
    "address = ['Brooklime apartments, 84 bittacy hill', None, 'X1 Eastbank Tower, Great Ancoats Street, Manchester',\\\n",
    "                    '48 Milton Road', '48 Milton Road', '27 Fairlie Road, Oxford', '27 Fairlie Road, Oxford' ]"
   ]
  },
  {
   "cell_type": "code",
   "execution_count": 81,
   "metadata": {},
   "outputs": [],
   "source": [
    "postcode = ['NW71TJ', None, 'M47FE', 'OX144BS', 'OX144BS', 'OX4 3SW', 'OX4 3SW']"
   ]
  },
  {
   "cell_type": "code",
   "execution_count": 82,
   "metadata": {},
   "outputs": [],
   "source": [
    "acnt_active = ['yes', 'no', 'no', 'no', 'no', 'no', 'no']"
   ]
  },
  {
   "cell_type": "code",
   "execution_count": 126,
   "metadata": {},
   "outputs": [],
   "source": [
    "isa_active = ['yes', 'no', 'no', 'no', 'no', 'no', 'no']"
   ]
  },
  {
   "cell_type": "code",
   "execution_count": 83,
   "metadata": {},
   "outputs": [],
   "source": [
    "# ff_date stands for Fact_Find_date\n",
    "ff_date = ['2021-04-13', None, '2021-06-28', '2021-07-02', '2021-07-05', None, None]"
   ]
  },
  {
   "cell_type": "code",
   "execution_count": 84,
   "metadata": {},
   "outputs": [],
   "source": [
    "complt_date = ['2021-04-26', None, None, None, None, None, None]"
   ]
  },
  {
   "cell_type": "code",
   "execution_count": 123,
   "metadata": {},
   "outputs": [],
   "source": [
    "notes = ['入金10g, 5g买入Pensana',\\\n",
    "         '7.12  通知我方 LEI: 213800TL154EZL51LW66 ,Official Entity Name: 滙勝亞洲有限公司 Annual Renewal Date: 08/07/2022', \\\n",
    "         '无法confirm identity，因为银行，水电费单地址无法相互证明', \\\n",
    "         '等待confirm identity中',\\\n",
    "         '等待confirm identity中',\\\n",
    "         '7.8 银行卡是V的名字,但水电费单子是老公的名字',\\\n",
    "         '7.8 银行账单，护照都ok。但缺水电费市政税的某一个单子']"
   ]
  },
  {
   "cell_type": "markdown",
   "metadata": {},
   "source": [
    "#### 将data变成dataframe"
   ]
  },
  {
   "cell_type": "code",
   "execution_count": 127,
   "metadata": {},
   "outputs": [],
   "source": [
    "data = {'title':title, 'fact_find':fact_find,'cfm_id':cfm_id, 'mobil':mobil,'email':email,'acnt_active': acnt_active,\n",
    "       'isa_active':isa_active,'ff_date':ff_date, 'complt_date':complt_date, 'address':address,'postcode':postcode, 'notes': notes}"
   ]
  },
  {
   "cell_type": "code",
   "execution_count": 128,
   "metadata": {},
   "outputs": [
    {
     "data": {
      "text/html": [
       "<div>\n",
       "<style scoped>\n",
       "    .dataframe tbody tr th:only-of-type {\n",
       "        vertical-align: middle;\n",
       "    }\n",
       "\n",
       "    .dataframe tbody tr th {\n",
       "        vertical-align: top;\n",
       "    }\n",
       "\n",
       "    .dataframe thead th {\n",
       "        text-align: right;\n",
       "    }\n",
       "</style>\n",
       "<table border=\"1\" class=\"dataframe\">\n",
       "  <thead>\n",
       "    <tr style=\"text-align: right;\">\n",
       "      <th></th>\n",
       "      <th>title</th>\n",
       "      <th>fact_find</th>\n",
       "      <th>cfm_id</th>\n",
       "      <th>mobil</th>\n",
       "      <th>email</th>\n",
       "      <th>acnt_active</th>\n",
       "      <th>isa_active</th>\n",
       "      <th>ff_date</th>\n",
       "      <th>complt_date</th>\n",
       "      <th>address</th>\n",
       "      <th>postcode</th>\n",
       "      <th>notes</th>\n",
       "    </tr>\n",
       "  </thead>\n",
       "  <tbody>\n",
       "    <tr>\n",
       "      <th>0</th>\n",
       "      <td>mr_ma</td>\n",
       "      <td>yes</td>\n",
       "      <td>yes</td>\n",
       "      <td>07888668006</td>\n",
       "      <td>info@johnsonlaws.org</td>\n",
       "      <td>yes</td>\n",
       "      <td>yes</td>\n",
       "      <td>2021-04-13</td>\n",
       "      <td>2021-04-26</td>\n",
       "      <td>Brooklime apartments, 84 bittacy hill</td>\n",
       "      <td>NW71TJ</td>\n",
       "      <td>入金10g, 5g买入Pensana</td>\n",
       "    </tr>\n",
       "    <tr>\n",
       "      <th>1</th>\n",
       "      <td>inc_shun</td>\n",
       "      <td>no</td>\n",
       "      <td>no</td>\n",
       "      <td>13612866586</td>\n",
       "      <td>yuqianjun@sf-express.com</td>\n",
       "      <td>no</td>\n",
       "      <td>no</td>\n",
       "      <td>None</td>\n",
       "      <td>None</td>\n",
       "      <td>None</td>\n",
       "      <td>None</td>\n",
       "      <td>7.12  通知我方 LEI: 213800TL154EZL51LW66 ,Official...</td>\n",
       "    </tr>\n",
       "    <tr>\n",
       "      <th>2</th>\n",
       "      <td>mr_liu</td>\n",
       "      <td>yes</td>\n",
       "      <td>no</td>\n",
       "      <td>18678968329</td>\n",
       "      <td>michaelkofk@hotmail.com</td>\n",
       "      <td>no</td>\n",
       "      <td>no</td>\n",
       "      <td>2021-06-28</td>\n",
       "      <td>None</td>\n",
       "      <td>X1 Eastbank Tower, Great Ancoats Street, Manch...</td>\n",
       "      <td>M47FE</td>\n",
       "      <td>无法confirm identity，因为银行，水电费单地址无法相互证明</td>\n",
       "    </tr>\n",
       "    <tr>\n",
       "      <th>3</th>\n",
       "      <td>mr_yang</td>\n",
       "      <td>yes</td>\n",
       "      <td>no</td>\n",
       "      <td>07880805045</td>\n",
       "      <td>None</td>\n",
       "      <td>no</td>\n",
       "      <td>no</td>\n",
       "      <td>2021-07-02</td>\n",
       "      <td>None</td>\n",
       "      <td>48 Milton Road</td>\n",
       "      <td>OX144BS</td>\n",
       "      <td>等待confirm identity中</td>\n",
       "    </tr>\n",
       "    <tr>\n",
       "      <th>4</th>\n",
       "      <td>mrs_wang</td>\n",
       "      <td>yes</td>\n",
       "      <td>no</td>\n",
       "      <td>07727951698</td>\n",
       "      <td>wy1675@hotmail.com</td>\n",
       "      <td>no</td>\n",
       "      <td>no</td>\n",
       "      <td>2021-07-05</td>\n",
       "      <td>None</td>\n",
       "      <td>48 Milton Road</td>\n",
       "      <td>OX144BS</td>\n",
       "      <td>等待confirm identity中</td>\n",
       "    </tr>\n",
       "    <tr>\n",
       "      <th>5</th>\n",
       "      <td>mrs_vicky</td>\n",
       "      <td>no</td>\n",
       "      <td>no</td>\n",
       "      <td>None</td>\n",
       "      <td>None</td>\n",
       "      <td>no</td>\n",
       "      <td>no</td>\n",
       "      <td>None</td>\n",
       "      <td>None</td>\n",
       "      <td>27 Fairlie Road, Oxford</td>\n",
       "      <td>OX4 3SW</td>\n",
       "      <td>7.8 银行卡是V的名字,但水电费单子是老公的名字</td>\n",
       "    </tr>\n",
       "    <tr>\n",
       "      <th>6</th>\n",
       "      <td>mrs_peng</td>\n",
       "      <td>no</td>\n",
       "      <td>no</td>\n",
       "      <td>None</td>\n",
       "      <td>None</td>\n",
       "      <td>no</td>\n",
       "      <td>no</td>\n",
       "      <td>None</td>\n",
       "      <td>None</td>\n",
       "      <td>27 Fairlie Road, Oxford</td>\n",
       "      <td>OX4 3SW</td>\n",
       "      <td>7.8 银行账单，护照都ok。但缺水电费市政税的某一个单子</td>\n",
       "    </tr>\n",
       "  </tbody>\n",
       "</table>\n",
       "</div>"
      ],
      "text/plain": [
       "       title fact_find cfm_id        mobil                     email  \\\n",
       "0      mr_ma       yes    yes  07888668006      info@johnsonlaws.org   \n",
       "1   inc_shun        no     no  13612866586  yuqianjun@sf-express.com   \n",
       "2     mr_liu       yes     no  18678968329   michaelkofk@hotmail.com   \n",
       "3    mr_yang       yes     no  07880805045                      None   \n",
       "4   mrs_wang       yes     no  07727951698        wy1675@hotmail.com   \n",
       "5  mrs_vicky        no     no         None                      None   \n",
       "6   mrs_peng        no     no         None                      None   \n",
       "\n",
       "  acnt_active isa_active     ff_date complt_date  \\\n",
       "0         yes        yes  2021-04-13  2021-04-26   \n",
       "1          no         no        None        None   \n",
       "2          no         no  2021-06-28        None   \n",
       "3          no         no  2021-07-02        None   \n",
       "4          no         no  2021-07-05        None   \n",
       "5          no         no        None        None   \n",
       "6          no         no        None        None   \n",
       "\n",
       "                                             address postcode  \\\n",
       "0              Brooklime apartments, 84 bittacy hill   NW71TJ   \n",
       "1                                               None     None   \n",
       "2  X1 Eastbank Tower, Great Ancoats Street, Manch...    M47FE   \n",
       "3                                     48 Milton Road  OX144BS   \n",
       "4                                     48 Milton Road  OX144BS   \n",
       "5                            27 Fairlie Road, Oxford  OX4 3SW   \n",
       "6                            27 Fairlie Road, Oxford  OX4 3SW   \n",
       "\n",
       "                                               notes  \n",
       "0                                 入金10g, 5g买入Pensana  \n",
       "1  7.12  通知我方 LEI: 213800TL154EZL51LW66 ,Official...  \n",
       "2               无法confirm identity，因为银行，水电费单地址无法相互证明  \n",
       "3                                等待confirm identity中  \n",
       "4                                等待confirm identity中  \n",
       "5                          7.8 银行卡是V的名字,但水电费单子是老公的名字  \n",
       "6                      7.8 银行账单，护照都ok。但缺水电费市政税的某一个单子  "
      ]
     },
     "execution_count": 128,
     "metadata": {},
     "output_type": "execute_result"
    }
   ],
   "source": [
    "df = pd.DataFrame.from_dict(data)\n",
    "df"
   ]
  },
  {
   "cell_type": "code",
   "execution_count": 147,
   "metadata": {},
   "outputs": [
    {
     "data": {
      "text/html": [
       "<div>\n",
       "<style scoped>\n",
       "    .dataframe tbody tr th:only-of-type {\n",
       "        vertical-align: middle;\n",
       "    }\n",
       "\n",
       "    .dataframe tbody tr th {\n",
       "        vertical-align: top;\n",
       "    }\n",
       "\n",
       "    .dataframe thead th {\n",
       "        text-align: right;\n",
       "    }\n",
       "</style>\n",
       "<table border=\"1\" class=\"dataframe\">\n",
       "  <thead>\n",
       "    <tr style=\"text-align: right;\">\n",
       "      <th></th>\n",
       "      <th>title</th>\n",
       "      <th>fact_find</th>\n",
       "      <th>cfm_id</th>\n",
       "      <th>mobil</th>\n",
       "      <th>email</th>\n",
       "      <th>acnt_active</th>\n",
       "      <th>isa_active</th>\n",
       "      <th>ff_date</th>\n",
       "      <th>complt_date</th>\n",
       "      <th>address</th>\n",
       "      <th>postcode</th>\n",
       "      <th>notes</th>\n",
       "    </tr>\n",
       "  </thead>\n",
       "  <tbody>\n",
       "    <tr>\n",
       "      <th>2</th>\n",
       "      <td>mr_liu</td>\n",
       "      <td>yes</td>\n",
       "      <td>no</td>\n",
       "      <td>18678968329</td>\n",
       "      <td>michaelkofk@hotmail.com</td>\n",
       "      <td>no</td>\n",
       "      <td>no</td>\n",
       "      <td>2021-06-28</td>\n",
       "      <td>None</td>\n",
       "      <td>X1 Eastbank Tower, Great Ancoats Street, Manch...</td>\n",
       "      <td>M47FE</td>\n",
       "      <td>无法confirm identity，因为银行，水电费单地址无法相互证明</td>\n",
       "    </tr>\n",
       "  </tbody>\n",
       "</table>\n",
       "</div>"
      ],
      "text/plain": [
       "    title fact_find cfm_id        mobil                    email acnt_active  \\\n",
       "2  mr_liu       yes     no  18678968329  michaelkofk@hotmail.com          no   \n",
       "\n",
       "  isa_active     ff_date complt_date  \\\n",
       "2         no  2021-06-28        None   \n",
       "\n",
       "                                             address postcode  \\\n",
       "2  X1 Eastbank Tower, Great Ancoats Street, Manch...    M47FE   \n",
       "\n",
       "                                  notes  \n",
       "2  无法confirm identity，因为银行，水电费单地址无法相互证明  "
      ]
     },
     "execution_count": 147,
     "metadata": {},
     "output_type": "execute_result"
    }
   ],
   "source": [
    "df.loc[df['title']=='mr_liu',:]"
   ]
  },
  {
   "cell_type": "code",
   "execution_count": null,
   "metadata": {},
   "outputs": [],
   "source": []
  },
  {
   "cell_type": "code",
   "execution_count": null,
   "metadata": {},
   "outputs": [],
   "source": []
  }
 ],
 "metadata": {
  "kernelspec": {
   "display_name": "Python 3",
   "language": "python",
   "name": "python3"
  },
  "language_info": {
   "codemirror_mode": {
    "name": "ipython",
    "version": 3
   },
   "file_extension": ".py",
   "mimetype": "text/x-python",
   "name": "python",
   "nbconvert_exporter": "python",
   "pygments_lexer": "ipython3",
   "version": "3.8.3"
  }
 },
 "nbformat": 4,
 "nbformat_minor": 4
}
