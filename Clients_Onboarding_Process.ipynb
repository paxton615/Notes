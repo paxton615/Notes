{
 "cells": [
  {
   "cell_type": "code",
   "execution_count": 4,
   "metadata": {},
   "outputs": [],
   "source": [
    "import pandas as pd\n",
    "import numpy as numpy"
   ]
  },
  {
   "cell_type": "markdown",
   "metadata": {},
   "source": [
    "#### create clients info using dict"
   ]
  },
  {
   "cell_type": "code",
   "execution_count": 73,
   "metadata": {},
   "outputs": [],
   "source": [
    "# title exp: Mr Ma, \n",
    "title =['mr_ma', 'inc_shun', 'mr_liu', 'mr_yang', 'mrs_wang', 'mrs_vicky','mrs_peng']"
   ]
  },
  {
   "cell_type": "code",
   "execution_count": 76,
   "metadata": {},
   "outputs": [],
   "source": [
    "fact_find = ['yes', 'no',   'yes',   'yes',      'yes',      'no',        'no']"
   ]
  },
  {
   "cell_type": "code",
   "execution_count": 77,
   "metadata": {},
   "outputs": [],
   "source": [
    "# Confirming Your Identity aka cfm_id\n",
    "cfm_id = ['yes','no','no','no','no','no','no']"
   ]
  },
  {
   "cell_type": "code",
   "execution_count": 78,
   "metadata": {},
   "outputs": [],
   "source": [
    "# email, email for feasible contact\n",
    "email = ['info@johnsonlaws.org', 'yuqianjun@sf-express.com', 'michaelkofk@hotmail.com', None, \\\n",
    "        'wy1675@hotmail.com', None, None]"
   ]
  },
  {
   "cell_type": "code",
   "execution_count": 79,
   "metadata": {},
   "outputs": [],
   "source": [
    "mobil = ['07888668006', '13612866586', '18678968329', '07880805045', '07727951698', None, None]"
   ]
  },
  {
   "cell_type": "code",
   "execution_count": 80,
   "metadata": {},
   "outputs": [],
   "source": [
    "address = ['Brooklime apartments, 84 bittacy hill', None, 'X1 Eastbank Tower, Great Ancoats Street, Manchester',\\\n",
    "                    '48 Milton Road', '48 Milton Road', '27 Fairlie Road, Oxford', '27 Fairlie Road, Oxford' ]"
   ]
  },
  {
   "cell_type": "code",
   "execution_count": 81,
   "metadata": {},
   "outputs": [],
   "source": [
    "postcode = ['NW71TJ', None, 'M47FE', 'OX144BS', 'OX144BS', 'OX4 3SW', 'OX4 3SW']"
   ]
  },
  {
   "cell_type": "code",
   "execution_count": 82,
   "metadata": {},
   "outputs": [],
   "source": [
    "acnt_active = ['yes', 'no', 'no', 'no', 'no', 'no', 'no']"
   ]
  },
  {
   "cell_type": "code",
   "execution_count": 83,
   "metadata": {},
   "outputs": [],
   "source": [
    "# ff_date stands for Fact_Find_date\n",
    "ff_date = ['2021-04-13', None, '2021-06-28', '2021-07-02', '2021-07-05', None, None]"
   ]
  },
  {
   "cell_type": "code",
   "execution_count": 84,
   "metadata": {},
   "outputs": [],
   "source": [
    "complt_date = ['2021-04-26', None, None, None, None, None, None]"
   ]
  },
  {
   "cell_type": "code",
   "execution_count": 97,
   "metadata": {},
   "outputs": [],
   "source": [
    "data = {'title':title, 'fact_find':fact_find,'cfm_id':cfm_id, 'mobil':mobil,'email':email,'acnt_active': acnt_active,\n",
    "       'ff_date':ff_date, 'complt_date':complt_date, 'address':address,'postcode':postcode}"
   ]
  },
  {
   "cell_type": "code",
   "execution_count": 98,
   "metadata": {},
   "outputs": [
    {
     "data": {
      "text/html": [
       "<div>\n",
       "<style scoped>\n",
       "    .dataframe tbody tr th:only-of-type {\n",
       "        vertical-align: middle;\n",
       "    }\n",
       "\n",
       "    .dataframe tbody tr th {\n",
       "        vertical-align: top;\n",
       "    }\n",
       "\n",
       "    .dataframe thead th {\n",
       "        text-align: right;\n",
       "    }\n",
       "</style>\n",
       "<table border=\"1\" class=\"dataframe\">\n",
       "  <thead>\n",
       "    <tr style=\"text-align: right;\">\n",
       "      <th></th>\n",
       "      <th>title</th>\n",
       "      <th>fact_find</th>\n",
       "      <th>cfm_id</th>\n",
       "      <th>mobil</th>\n",
       "      <th>email</th>\n",
       "      <th>acnt_active</th>\n",
       "      <th>ff_date</th>\n",
       "      <th>complt_date</th>\n",
       "      <th>address</th>\n",
       "      <th>postcode</th>\n",
       "    </tr>\n",
       "  </thead>\n",
       "  <tbody>\n",
       "    <tr>\n",
       "      <th>0</th>\n",
       "      <td>mr_ma</td>\n",
       "      <td>yes</td>\n",
       "      <td>yes</td>\n",
       "      <td>07888668006</td>\n",
       "      <td>info@johnsonlaws.org</td>\n",
       "      <td>yes</td>\n",
       "      <td>2021-04-13</td>\n",
       "      <td>2021-04-26</td>\n",
       "      <td>Brooklime apartments, 84 bittacy hill</td>\n",
       "      <td>NW71TJ</td>\n",
       "    </tr>\n",
       "    <tr>\n",
       "      <th>1</th>\n",
       "      <td>inc_shun</td>\n",
       "      <td>no</td>\n",
       "      <td>no</td>\n",
       "      <td>13612866586</td>\n",
       "      <td>yuqianjun@sf-express.com</td>\n",
       "      <td>no</td>\n",
       "      <td>None</td>\n",
       "      <td>None</td>\n",
       "      <td>None</td>\n",
       "      <td>None</td>\n",
       "    </tr>\n",
       "    <tr>\n",
       "      <th>2</th>\n",
       "      <td>mr_liu</td>\n",
       "      <td>yes</td>\n",
       "      <td>no</td>\n",
       "      <td>18678968329</td>\n",
       "      <td>michaelkofk@hotmail.com</td>\n",
       "      <td>no</td>\n",
       "      <td>2021-06-28</td>\n",
       "      <td>None</td>\n",
       "      <td>X1 Eastbank Tower, Great Ancoats Street, Manch...</td>\n",
       "      <td>M47FE</td>\n",
       "    </tr>\n",
       "    <tr>\n",
       "      <th>3</th>\n",
       "      <td>mr_yang</td>\n",
       "      <td>yes</td>\n",
       "      <td>no</td>\n",
       "      <td>07880805045</td>\n",
       "      <td>None</td>\n",
       "      <td>no</td>\n",
       "      <td>2021-07-02</td>\n",
       "      <td>None</td>\n",
       "      <td>48 Milton Road</td>\n",
       "      <td>OX144BS</td>\n",
       "    </tr>\n",
       "    <tr>\n",
       "      <th>4</th>\n",
       "      <td>mrs_wang</td>\n",
       "      <td>yes</td>\n",
       "      <td>no</td>\n",
       "      <td>07727951698</td>\n",
       "      <td>wy1675@hotmail.com</td>\n",
       "      <td>no</td>\n",
       "      <td>2021-07-05</td>\n",
       "      <td>None</td>\n",
       "      <td>48 Milton Road</td>\n",
       "      <td>OX144BS</td>\n",
       "    </tr>\n",
       "    <tr>\n",
       "      <th>5</th>\n",
       "      <td>mrs_vicky</td>\n",
       "      <td>no</td>\n",
       "      <td>no</td>\n",
       "      <td>None</td>\n",
       "      <td>None</td>\n",
       "      <td>no</td>\n",
       "      <td>None</td>\n",
       "      <td>None</td>\n",
       "      <td>27 Fairlie Road, Oxford</td>\n",
       "      <td>OX4 3SW</td>\n",
       "    </tr>\n",
       "    <tr>\n",
       "      <th>6</th>\n",
       "      <td>mrs_peng</td>\n",
       "      <td>no</td>\n",
       "      <td>no</td>\n",
       "      <td>None</td>\n",
       "      <td>None</td>\n",
       "      <td>no</td>\n",
       "      <td>None</td>\n",
       "      <td>None</td>\n",
       "      <td>27 Fairlie Road, Oxford</td>\n",
       "      <td>OX4 3SW</td>\n",
       "    </tr>\n",
       "  </tbody>\n",
       "</table>\n",
       "</div>"
      ],
      "text/plain": [
       "       title fact_find cfm_id        mobil                     email  \\\n",
       "0      mr_ma       yes    yes  07888668006      info@johnsonlaws.org   \n",
       "1   inc_shun        no     no  13612866586  yuqianjun@sf-express.com   \n",
       "2     mr_liu       yes     no  18678968329   michaelkofk@hotmail.com   \n",
       "3    mr_yang       yes     no  07880805045                      None   \n",
       "4   mrs_wang       yes     no  07727951698        wy1675@hotmail.com   \n",
       "5  mrs_vicky        no     no         None                      None   \n",
       "6   mrs_peng        no     no         None                      None   \n",
       "\n",
       "  acnt_active     ff_date complt_date  \\\n",
       "0         yes  2021-04-13  2021-04-26   \n",
       "1          no        None        None   \n",
       "2          no  2021-06-28        None   \n",
       "3          no  2021-07-02        None   \n",
       "4          no  2021-07-05        None   \n",
       "5          no        None        None   \n",
       "6          no        None        None   \n",
       "\n",
       "                                             address postcode  \n",
       "0              Brooklime apartments, 84 bittacy hill   NW71TJ  \n",
       "1                                               None     None  \n",
       "2  X1 Eastbank Tower, Great Ancoats Street, Manch...    M47FE  \n",
       "3                                     48 Milton Road  OX144BS  \n",
       "4                                     48 Milton Road  OX144BS  \n",
       "5                            27 Fairlie Road, Oxford  OX4 3SW  \n",
       "6                            27 Fairlie Road, Oxford  OX4 3SW  "
      ]
     },
     "execution_count": 98,
     "metadata": {},
     "output_type": "execute_result"
    }
   ],
   "source": [
    "df = pd.DataFrame.from_dict(data)\n",
    "df "
   ]
  },
  {
   "cell_type": "code",
   "execution_count": null,
   "metadata": {},
   "outputs": [],
   "source": []
  },
  {
   "cell_type": "code",
   "execution_count": null,
   "metadata": {},
   "outputs": [],
   "source": []
  },
  {
   "cell_type": "code",
   "execution_count": null,
   "metadata": {},
   "outputs": [],
   "source": []
  }
 ],
 "metadata": {
  "kernelspec": {
   "display_name": "Python 3",
   "language": "python",
   "name": "python3"
  },
  "language_info": {
   "codemirror_mode": {
    "name": "ipython",
    "version": 3
   },
   "file_extension": ".py",
   "mimetype": "text/x-python",
   "name": "python",
   "nbconvert_exporter": "python",
   "pygments_lexer": "ipython3",
   "version": "3.8.3"
  }
 },
 "nbformat": 4,
 "nbformat_minor": 4
}
