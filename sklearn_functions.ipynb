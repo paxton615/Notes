{
 "cells": [
  {
   "cell_type": "code",
   "execution_count": 116,
   "metadata": {},
   "outputs": [],
   "source": [
    "import sklearn \n",
    "from sklearn.datasets import load_iris\n",
    "import pandas as pd\n",
    "from sklearn.model_selection import train_test_split\n",
    "from sklearn.feature_extraction import DictVectorizer\n",
    "from sklearn.feature_extraction.text import CountVectorizer\n",
    "import jieba\n",
    "from sklearn.feature_extraction.text import TfidfVectorizer\n",
    "from sklearn.preprocessing import MinMaxScaler, StandardScaler"
   ]
  },
  {
   "cell_type": "code",
   "execution_count": 6,
   "metadata": {},
   "outputs": [],
   "source": [
    "def datasets_demo():\n",
    "#   获取数据集\n",
    "    iris = load_iris()\n",
    "#   print('鸢尾花数据集: \\n', iris)\n",
    "    print('查看数据描述: \\n', iris['DESCR'])\n",
    "    print('查看属性名字: \\n', iris.feature_names)\n",
    "    \n",
    "#   数据集划分\n",
    "    x_train, x_test, y_train, y_test= train_test_split(iris.data,iris.target,test_size=0.2, random_state=22 )\n",
    "    print('查看训练集: \\n', x_train, x_train.shape )\n",
    "    \n",
    "    return None"
   ]
  },
  {
   "cell_type": "code",
   "execution_count": 31,
   "metadata": {},
   "outputs": [],
   "source": [
    "def dict_demo():\n",
    "    #字典特征抽取\n",
    "    data = [{'city':'北京','temperature':100},{'city':'上海', 'temperature':60},{'city':'深圳', 'temperature':30}]\n",
    "#     1. 实例化的一个转换器\n",
    "    transfer = DictVectorizer(sparse=True) \n",
    "#     2.调动fit_transform()\n",
    "    data_new = transfer.fit_transform(data)\n",
    "    print('data_new + sparse=True(显示二维数组的结果): \\n',data_new)\n",
    "    print('data_new + toarray : \\n', type(data_new),'\\n', data_new.toarray())\n",
    "    print('特征名 :\\n',transfer.get_feature_names())\n",
    "    return None"
   ]
  },
  {
   "cell_type": "code",
   "execution_count": 51,
   "metadata": {},
   "outputs": [],
   "source": [
    "def count_demo():\n",
    "    #文本特征抽取\n",
    "    data = ['life is short, i like like python','life is too long, i dislike python']\n",
    "    # 实例化一个转化器类\n",
    "    transfer = CountVectorizer(stop_words=['is','too'])\n",
    "#     调用fit_transform\n",
    "    data_new=transfer.fit_transform(data)\n",
    "    print('特征名 :\\n',transfer.get_feature_names())\n",
    "    print('data_new: \\n', data_new)\n",
    "    print('data_new + toarray 查看二维数组的结果: \\n', data_new.toarray())\n",
    "    \n",
    "    return None"
   ]
  },
  {
   "cell_type": "code",
   "execution_count": 52,
   "metadata": {},
   "outputs": [],
   "source": [
    "def count_chinese_demo():\n",
    "    #文本特征抽取 \n",
    "    data = ['我 爱 北京 天安门，','天安门 上 太阳 升。']\n",
    "#     如果不空格，整句将被视为一个单词来处理\n",
    "#     data = ['我爱北京天安门，','天安门上太阳升。']\n",
    "    # 实例化一个转化器类\n",
    "    transfer = CountVectorizer()\n",
    "#     调用fit_transform\n",
    "    data_new=transfer.fit_transform(data)\n",
    "    print('特征名 :\\n',transfer.get_feature_names())\n",
    "    print('data_new: \\n', data_new)\n",
    "    print('data_new + toarray 查看二维数组的结果: \\n', data_new.toarray())\n",
    "    \n",
    "    return None"
   ]
  },
  {
   "cell_type": "code",
   "execution_count": 100,
   "metadata": {},
   "outputs": [],
   "source": [
    "def cut_word(text):\n",
    "#     进行中文分词：‘我爱北京天安门’ ---‘我 爱 北京 天安门’\n",
    "    a =  list(jieba.cut(text))\n",
    "#     如果直接打印jieba.cut(text)是看不到结果的，一定熬list强转 ，加上\"\".join()让list变成一个str\n",
    "    print(a)\n",
    "    return None"
   ]
  },
  {
   "cell_type": "code",
   "execution_count": 101,
   "metadata": {},
   "outputs": [],
   "source": [
    "def count_chinese_demo2():\n",
    "#     中文文本特征抽取，自动分词\n",
    "    data=['一种还是一种今天很残酷，明天更残酷，后天很美好，但绝大部分是死在明天晚上，所以每个人不要放弃今天',\n",
    "         '我们看到的从很远星系来的光是在几百万年前发出的，这样当我们看到宇宙时，我们是在看它的过去',\n",
    "         '如果只用一种方式了解某样事物，你就不会真正了解它。了解事物真正含义的秘密取决于如何将其与我们所了解的事物相联系。']\n",
    "    \n",
    "\n",
    "    return None"
   ]
  },
  {
   "cell_type": "code",
   "execution_count": 110,
   "metadata": {},
   "outputs": [],
   "source": [
    "def tfidf_demo():\n",
    "#     用tf-idf做文本特征抽取\n",
    "    data = ['一种还是一种今天很残酷，明天更残酷，后天很美好，但绝大部分是死在明天晚上，所以每个人不要放弃今天',\n",
    "         '我们看到的从很远星系来的光是在几百万年前发出的，这样当我们看到宇宙时，我们是在看它的过去',\n",
    "         '如果只用一种方式了解某样事物，你就不会真正了解它。了解事物真正含义的秘密取决于如何将其与我们所了解的事物相联系。']\n",
    "    data_new = []\n",
    "    for sent in data:\n",
    "        data_new.append(cut_word(sent))\n",
    "#     如果不空格，整句将被视为一个单词来处理\n",
    "#     data = ['我爱北京天安门，','天安门上太阳升。']\n",
    "    # 实例化一个转化器类\n",
    "    transfer = TfidfVectorizer()\n",
    "#     调用fit_transform\n",
    "    data_final=transfer.fit_transform(data_new)\n",
    "    print('特征名 :\\n',transfer.get_feature_names())\n",
    "    print('data_new: \\n', data_fianl)\n",
    "    print('data_new + toarray 查看二维数组的结果: \\n', data_final.toarray())\n",
    "    \n",
    "    return None"
   ]
  },
  {
   "cell_type": "code",
   "execution_count": 125,
   "metadata": {},
   "outputs": [],
   "source": [
    "df = pd.read_csv('dating.txt', header = None, sep='\\t')\n",
    "\n",
    "df[3] = [3 if i=='largeDoses' else 2 if i=='smallDoses' else 1 for i in df[3]]\n",
    "\n",
    "dating=df\n",
    "\n",
    "dating.columns = ['milage','liters','consumtime','target']"
   ]
  },
  {
   "cell_type": "code",
   "execution_count": 142,
   "metadata": {},
   "outputs": [],
   "source": [
    "def minmax_demo():\n",
    "#     归一化\n",
    "#     获取数据\n",
    "    data=dating\n",
    "    data=data.iloc[:,:3]\n",
    "#     实例化一个转换器\n",
    "    transfer = MinMaxScaler()\n",
    "#     调用fit_transform\n",
    "    data_new = transfer.fit_transform(data)\n",
    "    print('data_new : \\n', data_new)\n",
    "    return None"
   ]
  },
  {
   "cell_type": "code",
   "execution_count": 147,
   "metadata": {},
   "outputs": [],
   "source": [
    "def stand_demo():\n",
    "#     标准化\n",
    "#     获取数据\n",
    "    data=dating\n",
    "    data=data.iloc[:,:3]\n",
    "#     实例化一个转换器\n",
    "    transfer = StandardScaler()\n",
    "#     调用fit_transform\n",
    "    data_new = transfer.fit_transform(data)\n",
    "    print('data_new : \\n', data_new)\n",
    "    return None"
   ]
  },
  {
   "cell_type": "code",
   "execution_count": null,
   "metadata": {},
   "outputs": [],
   "source": []
  },
  {
   "cell_type": "code",
   "execution_count": 148,
   "metadata": {},
   "outputs": [
    {
     "name": "stdout",
     "output_type": "stream",
     "text": [
      "data_new : \n",
      " [[ 0.33193158  0.41660188  0.24523407]\n",
      " [-0.87247784  0.13992897  1.69385734]\n",
      " [-0.34554872 -1.20667094 -0.05422437]\n",
      " ...\n",
      " [-0.32171752  0.96431572  0.06952649]\n",
      " [ 0.65959911  0.60699509 -0.20931587]\n",
      " [ 0.46120328  0.31183342  1.00680598]]\n"
     ]
    },
    {
     "name": "stderr",
     "output_type": "stream",
     "text": [
      "/anaconda3/lib/python3.7/site-packages/sklearn/preprocessing/data.py:645: DataConversionWarning: Data with input dtype int64, float64 were all converted to float64 by StandardScaler.\n",
      "  return self.partial_fit(X, y)\n",
      "/anaconda3/lib/python3.7/site-packages/sklearn/base.py:464: DataConversionWarning: Data with input dtype int64, float64 were all converted to float64 by StandardScaler.\n",
      "  return self.fit(X, **fit_params).transform(X)\n"
     ]
    }
   ],
   "source": [
    "if __name__ == \"__main__\":\n",
    "#     代码1.sklearn数据集使用\n",
    "#     datasets_demo()\n",
    "#     代码2.字典特征抽取\n",
    "#     dict_demo()\n",
    "#     代码3.文本的特征抽取\n",
    "#     count_demo()\n",
    "#     代码3.中文文本\n",
    "#     count_chinese_demo()\n",
    "#   代码4.中文文本，自动分词\n",
    "#     count_chinese_demo2()\n",
    "#     代码5.jieba分词测试,不成功，原因是分词在\"\".join()后，str没有空格\n",
    "#     cut_word('我爱北京天安门') \n",
    "#     代码6.tiidf关键词提取\n",
    "#     tfidf_demo()\n",
    "#     代码7.归一化\n",
    "#     minmax_demo()\n",
    "#     代码8.标准化\n",
    "    stand_demo()"
   ]
  },
  {
   "cell_type": "code",
   "execution_count": 161,
   "metadata": {},
   "outputs": [],
   "source": [
    "def stock_market(url):\n",
    "    df = pd.read_csv(url,  sep=',')\n",
    "    df = pd.DataFrame(df)\n",
    "    return df\n",
    "stock = stock_market('/Users/paxton615/GA/resource-datasets/stock_market/HMNY_3d.csv')"
   ]
  },
  {
   "cell_type": "code",
   "execution_count": 162,
   "metadata": {},
   "outputs": [
    {
     "data": {
      "text/html": [
       "<div>\n",
       "<style scoped>\n",
       "    .dataframe tbody tr th:only-of-type {\n",
       "        vertical-align: middle;\n",
       "    }\n",
       "\n",
       "    .dataframe tbody tr th {\n",
       "        vertical-align: top;\n",
       "    }\n",
       "\n",
       "    .dataframe thead th {\n",
       "        text-align: right;\n",
       "    }\n",
       "</style>\n",
       "<table border=\"1\" class=\"dataframe\">\n",
       "  <thead>\n",
       "    <tr style=\"text-align: right;\">\n",
       "      <th></th>\n",
       "      <th>DATE</th>\n",
       "      <th>CLOSE</th>\n",
       "      <th>HIGH</th>\n",
       "      <th>LOW</th>\n",
       "      <th>OPEN</th>\n",
       "      <th>VOLUME</th>\n",
       "    </tr>\n",
       "  </thead>\n",
       "  <tbody>\n",
       "    <tr>\n",
       "      <th>0</th>\n",
       "      <td>a1465224420</td>\n",
       "      <td>1.7200</td>\n",
       "      <td>1.7200</td>\n",
       "      <td>1.7090</td>\n",
       "      <td>1.7090</td>\n",
       "      <td>4108</td>\n",
       "    </tr>\n",
       "    <tr>\n",
       "      <th>1</th>\n",
       "      <td>12</td>\n",
       "      <td>1.7500</td>\n",
       "      <td>1.7500</td>\n",
       "      <td>1.7500</td>\n",
       "      <td>1.7500</td>\n",
       "      <td>100</td>\n",
       "    </tr>\n",
       "    <tr>\n",
       "      <th>2</th>\n",
       "      <td>36</td>\n",
       "      <td>1.8795</td>\n",
       "      <td>1.9700</td>\n",
       "      <td>1.7500</td>\n",
       "      <td>1.7850</td>\n",
       "      <td>7647</td>\n",
       "    </tr>\n",
       "    <tr>\n",
       "      <th>3</th>\n",
       "      <td>48</td>\n",
       "      <td>1.9599</td>\n",
       "      <td>1.9599</td>\n",
       "      <td>1.9599</td>\n",
       "      <td>1.9599</td>\n",
       "      <td>100</td>\n",
       "    </tr>\n",
       "    <tr>\n",
       "      <th>4</th>\n",
       "      <td>60</td>\n",
       "      <td>1.9209</td>\n",
       "      <td>1.9209</td>\n",
       "      <td>1.9209</td>\n",
       "      <td>1.9209</td>\n",
       "      <td>1000</td>\n",
       "    </tr>\n",
       "  </tbody>\n",
       "</table>\n",
       "</div>"
      ],
      "text/plain": [
       "          DATE   CLOSE    HIGH     LOW    OPEN  VOLUME\n",
       "0  a1465224420  1.7200  1.7200  1.7090  1.7090    4108\n",
       "1           12  1.7500  1.7500  1.7500  1.7500     100\n",
       "2           36  1.8795  1.9700  1.7500  1.7850    7647\n",
       "3           48  1.9599  1.9599  1.9599  1.9599     100\n",
       "4           60  1.9209  1.9209  1.9209  1.9209    1000"
      ]
     },
     "execution_count": 162,
     "metadata": {},
     "output_type": "execute_result"
    }
   ],
   "source": [
    "stock.head()"
   ]
  },
  {
   "cell_type": "code",
   "execution_count": null,
   "metadata": {},
   "outputs": [],
   "source": []
  },
  {
   "cell_type": "code",
   "execution_count": null,
   "metadata": {},
   "outputs": [],
   "source": []
  },
  {
   "cell_type": "code",
   "execution_count": null,
   "metadata": {},
   "outputs": [],
   "source": []
  },
  {
   "cell_type": "code",
   "execution_count": null,
   "metadata": {},
   "outputs": [],
   "source": []
  },
  {
   "cell_type": "code",
   "execution_count": null,
   "metadata": {},
   "outputs": [],
   "source": []
  }
 ],
 "metadata": {
  "kernelspec": {
   "display_name": "Python 3",
   "language": "python",
   "name": "python3"
  },
  "language_info": {
   "codemirror_mode": {
    "name": "ipython",
    "version": 3
   },
   "file_extension": ".py",
   "mimetype": "text/x-python",
   "name": "python",
   "nbconvert_exporter": "python",
   "pygments_lexer": "ipython3",
   "version": "3.7.3"
  }
 },
 "nbformat": 4,
 "nbformat_minor": 2
}
