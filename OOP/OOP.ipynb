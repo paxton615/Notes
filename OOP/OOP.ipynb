{
 "cells": [
  {
   "cell_type": "markdown",
   "metadata": {},
   "source": [
    "定义一个class里的instanes，可以像一下这么一个个的定义..."
   ]
  },
  {
   "cell_type": "code",
   "execution_count": null,
   "metadata": {},
   "outputs": [],
   "source": [
    "# https://www.youtube.com/watch?v=ZDa-Z5JzLYM&list=PL-osiE80TeTsqhIuOqKhwlXsIBIdSeYtc&index=1\n",
    "# class Employee:\n",
    "#     pass\n",
    "\n",
    "# emp_1 = Employee() # emp1 and 2 are instances\n",
    "# emp_2 = Employee()\n",
    "\n",
    "# print(emp_1)  # they both have places in memory\n",
    "# print(emp_2)\n",
    "\n",
    "# #  what's the difference between instance variables and class variables?\n",
    "# #  instance variables contain data that is unique to instance variables\n",
    "\n",
    "# emp_1.first = 'Corey'\n",
    "# emp_1.last = 'Schafer'\n",
    "# emp_1.email = 'Corey.Schafer@company.com'\n",
    "# emp_1.pay = 50000\n",
    "\n",
    "# emp_2.first = 'Test'\n",
    "# emp_2.last = 'User'\n",
    "# emp_2.email = 'Test.User@company.com'\n",
    "# emp_2.pay = 60000\n",
    "\n",
    "# # Now, each of the instances has attributes that are unique to them\n",
    "\n",
    "# print(emp_1.email)\n",
    "# print(emp_2.email)"
   ]
  },
  {
   "cell_type": "code",
   "execution_count": null,
   "metadata": {},
   "outputs": [],
   "source": [
    "# 可以针对Employee这个object进行专门的程序，函数设计，比如\n",
    "# 对attributes的输入，再比如，对function的应用\n",
    "\n",
    "class Employee: # 这里不用括号() \n",
    "    \n",
    "    def __init__(self, first , last , pay): # give attributes to variables\n",
    "        self.first = first # create instances, self.\n",
    "        self.last = last\n",
    "        self.pay = pay\n",
    "        self.paystr = last + \" gets paied \"+ str(pay) # .paystr不用输入，可用last+pay组成\n",
    "    \n",
    "    def formemail(self):  \n",
    "        return('{}_{}@gmail.com'.format(self.first, self.last))"
   ]
  },
  {
   "cell_type": "code",
   "execution_count": null,
   "metadata": {},
   "outputs": [],
   "source": [
    "# regular methods and class automatically take the instance as the first argument\n",
    "# these are the instances\n",
    "emp_1 = Employee('Paxton' , 'Peng' , 50000)\n",
    "emp_2 = Employee('Teresa', 'Peng', 40000)\n",
    "emp_3 = Employee('Chuan' , 'Wang', '45000') # attributes属性可以不统一"
   ]
  },
  {
   "cell_type": "code",
   "execution_count": null,
   "metadata": {},
   "outputs": [],
   "source": [
    "print(emp_1.paystr)\n",
    "print(emp_3.paystr)"
   ]
  },
  {
   "cell_type": "code",
   "execution_count": null,
   "metadata": {},
   "outputs": [],
   "source": [
    "# attributes\n",
    "print(emp_1.first)\n",
    "print(type(emp_2.pay))\n",
    "print(type(emp_3.paystr))"
   ]
  },
  {
   "cell_type": "code",
   "execution_count": null,
   "metadata": {},
   "outputs": [],
   "source": [
    "# methods\n",
    "print(emp_1.formemail())\n",
    "print(emp_2.formemail())"
   ]
  },
  {
   "cell_type": "code",
   "execution_count": null,
   "metadata": {},
   "outputs": [],
   "source": [
    "  "
   ]
  },
  {
   "cell_type": "markdown",
   "metadata": {},
   "source": [
    "### video_2 : Instance variables and class variables"
   ]
  },
  {
   "cell_type": "code",
   "execution_count": null,
   "metadata": {},
   "outputs": [],
   "source": [
    "class Employee:\n",
    "    \n",
    "    raise_n = 2\n",
    "    \n",
    "    emp_nums = 0\n",
    "    \n",
    "    def __init__(self, first , last , pay ):\n",
    "        self.first = first\n",
    "        self.last = last\n",
    "        self.pay = int(pay)\n",
    "        self.email = first + '.'+ last + \"@gmail.com\"\n",
    "    \n",
    "        Employee.emp_nums += 1 # 依然是一个attribute\n",
    "        #对比，self.raise_n的自由，Employee更明确\n",
    "        \n",
    "    def pay_raise(self): \n",
    "        self.pay = int(self.pay * 1.5) #不能再这里就使用return，否则报错\n",
    "#         return self.pay\n",
    "        \n",
    "    def pay_raise_n(self):\n",
    "        self.pay = int(self.pay * self.raise_n) # !!! self.raise_n, 而不是只有raise_n\n",
    "        # 这里的self.raise_n, 可以指定给class Employee，也可以给instance emp_n, 下面有例子\n",
    "    \n",
    "    def fullname(self):\n",
    "        return('{}.{}'.format(self.first, self.last))\n"
   ]
  },
  {
   "cell_type": "code",
   "execution_count": null,
   "metadata": {},
   "outputs": [],
   "source": [
    "print(Employee.emp_nums)"
   ]
  },
  {
   "cell_type": "markdown",
   "metadata": {},
   "source": [
    "#### 如有新def加入，需刷新一遍所有instances，否则无效"
   ]
  },
  {
   "cell_type": "code",
   "execution_count": null,
   "metadata": {},
   "outputs": [],
   "source": [
    "emp_1 = Employee( 'Ge', 'Peng', 100)\n",
    "emp_2 = Employee('Terri', 'Peng', 200)\n",
    "emp_3 = Employee('Chuan' , 'Wang', 300)"
   ]
  },
  {
   "cell_type": "code",
   "execution_count": null,
   "metadata": {},
   "outputs": [],
   "source": [
    "print(emp_1.email)\n",
    "print(emp_2.pay)"
   ]
  },
  {
   "cell_type": "markdown",
   "metadata": {},
   "source": [
    "#### pay_raise()每执行一次，emp_1也就跟着更新一次"
   ]
  },
  {
   "cell_type": "code",
   "execution_count": null,
   "metadata": {},
   "outputs": [],
   "source": [
    "print(emp_1.pay)\n",
    "# emp_1.pay_raise() \n",
    "# print(emp_1.pay)"
   ]
  },
  {
   "cell_type": "code",
   "execution_count": null,
   "metadata": {},
   "outputs": [],
   "source": [
    "emp_1.pay_raise_n()\n",
    "print(emp_1.pay)"
   ]
  },
  {
   "cell_type": "code",
   "execution_count": null,
   "metadata": {},
   "outputs": [],
   "source": []
  },
  {
   "cell_type": "code",
   "execution_count": null,
   "metadata": {},
   "outputs": [],
   "source": [
    "# self.raise_n 将raise_n这个性质分配给所有Class和instance\n",
    "# 完整的逻辑是，当调用类似raise_n这种attributes的时候，系统会先检查，\n",
    "# emp_n.raise_n是否存在，如果没有，就调用class的raise_n\n",
    "print(Employee.raise_n)\n",
    "print(emp_1.raise_n)\n",
    "print(emp_2.raise_n)"
   ]
  },
  {
   "cell_type": "code",
   "execution_count": null,
   "metadata": {},
   "outputs": [],
   "source": [
    "print(emp_1.__dict__)"
   ]
  },
  {
   "cell_type": "code",
   "execution_count": null,
   "metadata": {},
   "outputs": [],
   "source": [
    "print(Employee.__dict__)"
   ]
  },
  {
   "cell_type": "markdown",
   "metadata": {},
   "source": [
    "可以看到：raise_n属性在Employee中才有"
   ]
  },
  {
   "cell_type": "code",
   "execution_count": null,
   "metadata": {},
   "outputs": [],
   "source": [
    "# 改变class中raise_n的倍数，instance中的raise_n没有单独设置的，也会一起改变\n",
    "Employee.raise_n = 10"
   ]
  },
  {
   "cell_type": "code",
   "execution_count": null,
   "metadata": {},
   "outputs": [],
   "source": [
    "print(Employee.raise_n)\n",
    "print(emp_1.raise_n)\n",
    "print(emp_2.raise_n)"
   ]
  },
  {
   "cell_type": "code",
   "execution_count": null,
   "metadata": {},
   "outputs": [],
   "source": [
    "emp_1.pay_raise_n()\n",
    "print(emp_1.pay)"
   ]
  },
  {
   "cell_type": "code",
   "execution_count": null,
   "metadata": {},
   "outputs": [],
   "source": [
    "# 但是如果只改变instance的raise_n\n",
    "emp_1.raise_n = 200"
   ]
  },
  {
   "cell_type": "code",
   "execution_count": null,
   "metadata": {},
   "outputs": [],
   "source": [
    "print(Employee.raise_n)\n",
    "print(emp_1.raise_n)\n",
    "print(emp_2.raise_n)"
   ]
  },
  {
   "cell_type": "code",
   "execution_count": null,
   "metadata": {},
   "outputs": [],
   "source": [
    "emp_1.pay_raise_n()\n",
    "print(emp_1.pay)"
   ]
  },
  {
   "cell_type": "code",
   "execution_count": null,
   "metadata": {},
   "outputs": [],
   "source": [
    "# check again, raise_n:200 is in __dict__\n",
    "print(emp_1.__dict__)"
   ]
  },
  {
   "cell_type": "code",
   "execution_count": null,
   "metadata": {},
   "outputs": [],
   "source": [
    "# 刷新后，查看已经有多少employee被添加了\n",
    "print(Employee.emp_nums)"
   ]
  },
  {
   "cell_type": "markdown",
   "metadata": {},
   "source": [
    "### video_3: Regular methods, class methods and static methods\n",
    "\n",
    "Regular methods automatically pass the instances, 'self', as first argument.\n",
    "\n",
    "Class methods automatically pass the 'cls' as argument.\n",
    "\n",
    "Static methods don't pass anything automatically. They behave just like the normal functions. Except, they have some logical connections with the class."
   ]
  },
  {
   "cell_type": "code",
   "execution_count": null,
   "metadata": {},
   "outputs": [],
   "source": [
    "# regular and class automatically take the instance as the first argument"
   ]
  },
  {
   "cell_type": "code",
   "execution_count": null,
   "metadata": {},
   "outputs": [],
   "source": [
    "class Employee:\n",
    "    \n",
    "    emp_num = 0\n",
    "    \n",
    "    raise_amt = 200 #对应下方的cls.raise_amt = amount\n",
    "    # cls相当于将raise_amt变成了一个全局变量，影响所有emp_n\n",
    "    \n",
    "    def __init__(self, first , last,  pay):\n",
    "        self.first = first\n",
    "        self.last = last\n",
    "        self.pay = pay\n",
    "        self.fullname = first + ' ' + last\n",
    "        self.email = first + '_' + last + '@company.com'\n",
    "        \n",
    "        Employee.emp_num +=1\n",
    "    \n",
    "    def pay_raise(self): #regular method\n",
    "        self.pay = self.pay * self.raise_amt\n",
    "        \n",
    "        \n",
    "    @classmethod # class method decoration sign '@'\n",
    "    def set_raise_amt(cls, amount): #和regular method很像\n",
    "    # regular takes instance， this one takes the class,全局变量属性\n",
    "        cls.raise_amt = amount\n",
    "    \n",
    "    \n",
    "    # use class method as a reconstructor, 建设工具用途\n",
    "    @classmethod\n",
    "    def from_string(cls, str_n):\n",
    "        first, last, pay = str_n.split('-')\n",
    "        return(cls(first, last, pay)) #等于__init__(self, first , last,  pay):\n",
    "        # __init__不支持类似自动化操作，但是class method可以\n",
    "        \n",
    "    @staticmethod\n",
    "    def is_workday(day):\n",
    "        if day.weekday() ==5 or day.weekday() ==6:\n",
    "            return(False)\n",
    "        return(True)    \n",
    "        "
   ]
  },
  {
   "cell_type": "code",
   "execution_count": null,
   "metadata": {},
   "outputs": [],
   "source": [
    "emp_1 = Employee( 'Ge', 'Peng', 100)\n",
    "emp_2 = Employee('Terri', 'Peng', 200)\n",
    "emp_3 = Employee('Chuan' , 'Wang', 300)"
   ]
  },
  {
   "cell_type": "code",
   "execution_count": null,
   "metadata": {},
   "outputs": [],
   "source": [
    "# 1. __dict__\n",
    "print(emp_1.__dict__)\n",
    "print('\\n')\n",
    "print(Employee.__dict__)"
   ]
  },
  {
   "cell_type": "code",
   "execution_count": null,
   "metadata": {},
   "outputs": [],
   "source": [
    "# emp_1.pay_raise() #\n",
    "# print(emp_1)"
   ]
  },
  {
   "cell_type": "code",
   "execution_count": null,
   "metadata": {},
   "outputs": [],
   "source": [
    "print(Employee.raise_amt)\n",
    "print(emp_1.raise_amt)\n",
    "print(emp_3.raise_amt)"
   ]
  },
  {
   "cell_type": "code",
   "execution_count": null,
   "metadata": {},
   "outputs": [],
   "source": [
    "Employee.set_raise_amt(55)\n",
    "print(Employee.raise_amt)\n",
    "print(emp_1.raise_amt)\n",
    "print(emp_3.raise_amt)"
   ]
  },
  {
   "cell_type": "code",
   "execution_count": null,
   "metadata": {},
   "outputs": [],
   "source": [
    "emp_2.set_raise_amt(66)\n",
    "print(Employee.raise_amt)\n",
    "print(emp_1.raise_amt)\n",
    "print(emp_3.raise_amt)"
   ]
  },
  {
   "cell_type": "markdown",
   "metadata": {},
   "source": [
    "#### 小总结：无论是class还是instance去使用class method， 这个全局变量都会改变整个class的参数"
   ]
  },
  {
   "cell_type": "code",
   "execution_count": null,
   "metadata": {},
   "outputs": [],
   "source": [
    "# when people say they use class methods as an alternative constructors\n",
    "# 把class method当成重建class的工具，这部分功能类似 __init__( ) "
   ]
  },
  {
   "cell_type": "code",
   "execution_count": null,
   "metadata": {},
   "outputs": [],
   "source": [
    "# 比如有需求是：我常受到类似'john-jackson-40000'这样的数据，能否直接用method转化成instance？"
   ]
  },
  {
   "cell_type": "code",
   "execution_count": null,
   "metadata": {},
   "outputs": [],
   "source": [
    "str_1 = 'John-Doe-70000'\n",
    "str_2 = 'Steve-Smith-30000'\n",
    "str_3 = 'Jane-Done-90000'"
   ]
  },
  {
   "cell_type": "code",
   "execution_count": null,
   "metadata": {},
   "outputs": [],
   "source": [
    "first, last, pay = str_1.split('-')\n",
    "new_emp_1 = Employee(first, last, pay) # __init__在这里起作用"
   ]
  },
  {
   "cell_type": "code",
   "execution_count": null,
   "metadata": {},
   "outputs": [],
   "source": [
    "# 在新建了@classmethod from_string()之后：\n",
    "new_emp_2 = Employee.from_string(str_2)\n",
    "print(new_emp_2.email)\n",
    "print(new_emp_2.pay)\n",
    "print(new_emp_2.fullname)"
   ]
  },
  {
   "cell_type": "code",
   "execution_count": null,
   "metadata": {},
   "outputs": [],
   "source": [
    "new_emp_3 = Employee.from_string(str_3)\n",
    "print(new_emp_3.email)\n",
    "print(new_emp_3.pay) \n",
    "print(new_emp_3.fullname)"
   ]
  },
  {
   "cell_type": "code",
   "execution_count": null,
   "metadata": {},
   "outputs": [],
   "source": [
    "#  Another Example of classmethod\n",
    "\n",
    "# @classmethod\n",
    "# def fromtimestamp(cls,t):\n",
    "#     y,m,d,hh,mm,ss,weekday,jday,dst = _time.localtime(t)\n",
    "#     return cls(y,m,d)\n",
    "\n",
    "# @classmethod\n",
    "# def today(cls):\n",
    "#     t = _time.time()\n",
    "#     return cls.fromtimestamp(t)"
   ]
  },
  {
   "cell_type": "markdown",
   "metadata": {},
   "source": [
    "staticmethod\n",
    "\n",
    "If the method doesn't require any class or instance involvement, then it should be a staticmethod"
   ]
  },
  {
   "cell_type": "code",
   "execution_count": null,
   "metadata": {},
   "outputs": [],
   "source": [
    "# somehow, if I write the code here, it won't work.\n",
    "# has to write the code up there, with others.\n",
    "\n",
    "# @staticmethod\n",
    "# def is_workday(day):\n",
    "#     if day.weekday() ==5 or day.weekday() ==6:\n",
    "#         return(False)\n",
    "#     return(True)"
   ]
  },
  {
   "cell_type": "code",
   "execution_count": null,
   "metadata": {},
   "outputs": [],
   "source": [
    "import datetime\n",
    "my_date = datetime.date(2020,9,2) # Wed\n",
    "my_date5 = datetime.date(2020,9,5) # Sat"
   ]
  },
  {
   "cell_type": "code",
   "execution_count": null,
   "metadata": {},
   "outputs": [],
   "source": [
    "print(Employee.is_workday(my_date))"
   ]
  },
  {
   "cell_type": "code",
   "execution_count": null,
   "metadata": {},
   "outputs": [],
   "source": [
    "print(Employee.is_workday(my_date5))"
   ]
  },
  {
   "cell_type": "markdown",
   "metadata": {},
   "source": [
    "### Video_4: Inheritance\n",
    "\n",
    "sub class can inherit all functions from the parent class. They can be altered without influencing their parent classes. "
   ]
  },
  {
   "cell_type": "code",
   "execution_count": 57,
   "metadata": {},
   "outputs": [],
   "source": [
    "class Employee:\n",
    "    \n",
    "    emp_num = 0\n",
    "    \n",
    "    raise_amt = 1.04\n",
    "    \n",
    "    def __init__(self, first, last , pay, w_year): # 原料列表\n",
    "        self.first = first   # 各类Employee的属性信息\n",
    "        self.last = last\n",
    "        self.pay = pay\n",
    "        self.w_year = w_year\n",
    "        self.fullname = first + ' ' + last\n",
    "        self.email = first + '_' + last + '@company.com'\n",
    "        \n",
    "        Employee.emp_num += 1 # Employee也是一个函数，每完成一次__init__就加1\n",
    "        \n",
    "    def salary(self):\n",
    "        if self.w_year > 3:\n",
    "            self.pay = int(self.pay * 1.04)\n",
    "            \n",
    "    @classmethod\n",
    "    def register(cls, emp_str):\n",
    "        first, last, pay, year = emp_str.split('-')\n",
    "        return (cls(first, last, int(pay), int(year)))"
   ]
  },
  {
   "cell_type": "code",
   "execution_count": 58,
   "metadata": {},
   "outputs": [],
   "source": [
    "emp_1 = Employee('Fei' , 'Diao' , 3000 , 3)\n",
    "emp_2 = Employee( 'Ge' , 'Peng' , 4000 , 3)\n",
    "emp_3 = Employee( 'Terri', 'Peng' , 5000 , 5)"
   ]
  },
  {
   "cell_type": "code",
   "execution_count": 59,
   "metadata": {},
   "outputs": [
    {
     "name": "stdout",
     "output_type": "stream",
     "text": [
      "5200\n"
     ]
    }
   ],
   "source": [
    "emp_3.salary()\n",
    "print(emp_3.pay)"
   ]
  },
  {
   "cell_type": "code",
   "execution_count": 60,
   "metadata": {},
   "outputs": [
    {
     "data": {
      "text/plain": [
       "3000"
      ]
     },
     "execution_count": 60,
     "metadata": {},
     "output_type": "execute_result"
    }
   ],
   "source": [
    "emp_1.pay"
   ]
  },
  {
   "cell_type": "code",
   "execution_count": 61,
   "metadata": {},
   "outputs": [
    {
     "data": {
      "text/plain": [
       "<function __main__.Employee.__init__(self, first, last, pay, w_year)>"
      ]
     },
     "execution_count": 61,
     "metadata": {},
     "output_type": "execute_result"
    }
   ],
   "source": [
    "Employee.__init__"
   ]
  },
  {
   "cell_type": "code",
   "execution_count": 62,
   "metadata": {},
   "outputs": [],
   "source": [
    "emp_4 = Employee.register('DaXing-Fan-4000-4')"
   ]
  },
  {
   "cell_type": "code",
   "execution_count": 63,
   "metadata": {},
   "outputs": [
    {
     "data": {
      "text/plain": [
       "{'first': 'DaXing',\n",
       " 'last': 'Fan',\n",
       " 'pay': 4000,\n",
       " 'w_year': 4,\n",
       " 'fullname': 'DaXing Fan',\n",
       " 'email': 'DaXing_Fan@company.com'}"
      ]
     },
     "execution_count": 63,
     "metadata": {},
     "output_type": "execute_result"
    }
   ],
   "source": [
    "emp_4.__dict__"
   ]
  },
  {
   "cell_type": "code",
   "execution_count": null,
   "metadata": {},
   "outputs": [],
   "source": [
    " "
   ]
  },
  {
   "cell_type": "code",
   "execution_count": null,
   "metadata": {},
   "outputs": [],
   "source": []
  }
 ],
 "metadata": {
  "kernelspec": {
   "display_name": "Python 3",
   "language": "python",
   "name": "python3"
  },
  "language_info": {
   "codemirror_mode": {
    "name": "ipython",
    "version": 3
   },
   "file_extension": ".py",
   "mimetype": "text/x-python",
   "name": "python",
   "nbconvert_exporter": "python",
   "pygments_lexer": "ipython3",
   "version": "3.7.4"
  }
 },
 "nbformat": 4,
 "nbformat_minor": 4
}
