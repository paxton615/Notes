{
 "cells": [
  {
   "cell_type": "markdown",
   "metadata": {},
   "source": [
    "定义一个class里的instanes，可以像一下这么一个个的定义..."
   ]
  },
  {
   "cell_type": "code",
   "execution_count": null,
   "metadata": {},
   "outputs": [],
   "source": [
    "# https://www.youtube.com/watch?v=ZDa-Z5JzLYM&list=PL-osiE80TeTsqhIuOqKhwlXsIBIdSeYtc&index=1\n",
    "# class Employee:\n",
    "#     pass\n",
    "\n",
    "# emp_1 = Employee() # emp1 and 2 are instances\n",
    "# emp_2 = Employee()\n",
    "\n",
    "# print(emp_1)  # they both have places in memory\n",
    "# print(emp_2)\n",
    "\n",
    "# #  what's the difference between instance variables and class variables?\n",
    "# #  instance variables contain data that is unique to instance variables\n",
    "\n",
    "# emp_1.first = 'Corey'\n",
    "# emp_1.last = 'Schafer'\n",
    "# emp_1.email = 'Corey.Schafer@company.com'\n",
    "# emp_1.pay = 50000\n",
    "\n",
    "# emp_2.first = 'Test'\n",
    "# emp_2.last = 'User'\n",
    "# emp_2.email = 'Test.User@company.com'\n",
    "# emp_2.pay = 60000\n",
    "\n",
    "# # Now, each of the instances has attributes that are unique to them\n",
    "\n",
    "# print(emp_1.email)\n",
    "# print(emp_2.email)"
   ]
  },
  {
   "cell_type": "code",
   "execution_count": null,
   "metadata": {},
   "outputs": [],
   "source": [
    "# 可以针对Employee这个object进行专门的程序，函数设计，比如\n",
    "# 对attributes的输入，再比如，对function的应用\n",
    "\n",
    "class Employee: # 这里不用括号() \n",
    "    \n",
    "    def __init__(self, first , last , pay): # give attributes to variables\n",
    "        self.first = first # create instances, self.\n",
    "        self.last = last\n",
    "        self.pay = pay\n",
    "        self.paystr = last + \" gets paied \"+ str(pay) # .paystr不用输入，可用last+pay组成\n",
    "    \n",
    "    def formemail(self):  \n",
    "        return('{}_{}@gmail.com'.format(self.first, self.last))"
   ]
  },
  {
   "cell_type": "code",
   "execution_count": null,
   "metadata": {},
   "outputs": [],
   "source": [
    "# these are the instances\n",
    "emp_1 = Employee('Paxton' , 'Peng' , 50000)\n",
    "emp_2 = Employee('Teresa', 'Peng', 40000)\n",
    "emp_3 = Employee('Chuan' , 'Wang', '45000') # attributes属性可以不统一"
   ]
  },
  {
   "cell_type": "code",
   "execution_count": null,
   "metadata": {},
   "outputs": [],
   "source": [
    "print(emp_1.paystr)\n",
    "print(emp_3.paystr)"
   ]
  },
  {
   "cell_type": "code",
   "execution_count": null,
   "metadata": {},
   "outputs": [],
   "source": [
    "# attributes\n",
    "print(emp_1.first)\n",
    "print(type(emp_2.pay))\n",
    "print(type(emp_3.paystr))"
   ]
  },
  {
   "cell_type": "code",
   "execution_count": null,
   "metadata": {},
   "outputs": [],
   "source": [
    "# methods\n",
    "print(emp_1.formemail())\n",
    "print(emp_2.formemail())"
   ]
  },
  {
   "cell_type": "code",
   "execution_count": null,
   "metadata": {},
   "outputs": [],
   "source": [
    "  "
   ]
  },
  {
   "cell_type": "markdown",
   "metadata": {},
   "source": [
    "video_2 : rebuild Employee class again with raise_amount instance"
   ]
  },
  {
   "cell_type": "code",
   "execution_count": 71,
   "metadata": {},
   "outputs": [],
   "source": [
    "class Employee:\n",
    "    \n",
    "    def __init__(self, first , last , pay ):\n",
    "        self.first = first\n",
    "        self.last = last\n",
    "        self.pay = int(pay)\n",
    "        self.email = first + '.'+ last + \"@gmail.com\"\n",
    "    \n",
    "    raise_n = 2\n",
    "    \n",
    "    def pay_raise(self):\n",
    "        self.pay = int(self.pay * 1.5) #不能再这里就使用return，否则报错\n",
    "#         return self.pay\n",
    "        \n",
    "    def pay_raise_n(self):\n",
    "        self.pay = int(self.pay * self.raise_n) # !!! self.raise_n, 而不是只有raise_n\n",
    "        # 这里的self.raise_n, 可以指定给class Employee，也可以给instance emp_n, 下面有例子\n",
    "    \n",
    "    def fullname(self):\n",
    "        return('{}.{}'.format(self.first, self.last))\n"
   ]
  },
  {
   "cell_type": "markdown",
   "metadata": {},
   "source": [
    "#### 如有新def加入，需刷新一遍所有instances，否则无效"
   ]
  },
  {
   "cell_type": "code",
   "execution_count": 80,
   "metadata": {},
   "outputs": [],
   "source": [
    "emp_1 = Employee( 'Ge', 'Peng', 100)\n",
    "emp_2 = Employee('Terri', 'Peng', '1000')"
   ]
  },
  {
   "cell_type": "code",
   "execution_count": 81,
   "metadata": {},
   "outputs": [
    {
     "name": "stdout",
     "output_type": "stream",
     "text": [
      "Ge.Peng@gmail.com\n",
      "1000\n"
     ]
    }
   ],
   "source": [
    "print(emp_1.email)\n",
    "print(emp_2.pay)"
   ]
  },
  {
   "cell_type": "markdown",
   "metadata": {},
   "source": [
    "#### pay_raise()每执行一次，emp_1也就跟着更新一次"
   ]
  },
  {
   "cell_type": "code",
   "execution_count": 82,
   "metadata": {},
   "outputs": [
    {
     "name": "stdout",
     "output_type": "stream",
     "text": [
      "100\n"
     ]
    }
   ],
   "source": [
    "print(emp_1.pay)\n",
    "# emp_1.pay_raise() \n",
    "# print(emp_1.pay)"
   ]
  },
  {
   "cell_type": "code",
   "execution_count": 83,
   "metadata": {},
   "outputs": [
    {
     "name": "stdout",
     "output_type": "stream",
     "text": [
      "200\n"
     ]
    }
   ],
   "source": [
    "emp_1.pay_raise_n()\n",
    "print(emp_1.pay)"
   ]
  },
  {
   "cell_type": "code",
   "execution_count": null,
   "metadata": {},
   "outputs": [],
   "source": []
  },
  {
   "cell_type": "code",
   "execution_count": 86,
   "metadata": {},
   "outputs": [
    {
     "name": "stdout",
     "output_type": "stream",
     "text": [
      "2\n",
      "2\n",
      "2\n"
     ]
    }
   ],
   "source": [
    "# self.raise_n 将raise_n这个性质分配给所有Class和instance\n",
    "# 完整的逻辑是，当调用类似raise_n这种attributes的时候，系统会先检查，\n",
    "# emp_n.raise_n是否存在，如果没有，就调用class的raise_n\n",
    "print(Employee.raise_n)\n",
    "print(emp_1.raise_n)\n",
    "print(emp_2.raise_n)"
   ]
  },
  {
   "cell_type": "code",
   "execution_count": 87,
   "metadata": {},
   "outputs": [
    {
     "name": "stdout",
     "output_type": "stream",
     "text": [
      "{'first': 'Ge', 'last': 'Peng', 'pay': 200, 'email': 'Ge.Peng@gmail.com'}\n"
     ]
    }
   ],
   "source": [
    "print(emp_1.__dict__)"
   ]
  },
  {
   "cell_type": "code",
   "execution_count": 88,
   "metadata": {},
   "outputs": [
    {
     "name": "stdout",
     "output_type": "stream",
     "text": [
      "{'__module__': '__main__', '__init__': <function Employee.__init__ at 0x110b2f7a0>, 'raise_n': 2, 'pay_raise': <function Employee.pay_raise at 0x110b2f0e0>, 'pay_raise_n': <function Employee.pay_raise_n at 0x110b2f3b0>, 'fullname': <function Employee.fullname at 0x110b2f830>, '__dict__': <attribute '__dict__' of 'Employee' objects>, '__weakref__': <attribute '__weakref__' of 'Employee' objects>, '__doc__': None}\n"
     ]
    }
   ],
   "source": [
    "print(Employee.__dict__)"
   ]
  },
  {
   "cell_type": "markdown",
   "metadata": {},
   "source": [
    "可以看到：raise_n属性在Employee中才有"
   ]
  },
  {
   "cell_type": "code",
   "execution_count": 89,
   "metadata": {},
   "outputs": [],
   "source": [
    "# 改变class中raise_n的倍数，instance中的raise_n没有单独设置的，也会一起改变\n",
    "Employee.raise_n = 10"
   ]
  },
  {
   "cell_type": "code",
   "execution_count": 90,
   "metadata": {},
   "outputs": [
    {
     "name": "stdout",
     "output_type": "stream",
     "text": [
      "10\n",
      "10\n",
      "10\n"
     ]
    }
   ],
   "source": [
    "print(Employee.raise_n)\n",
    "print(emp_1.raise_n)\n",
    "print(emp_2.raise_n)"
   ]
  },
  {
   "cell_type": "code",
   "execution_count": 91,
   "metadata": {},
   "outputs": [
    {
     "name": "stdout",
     "output_type": "stream",
     "text": [
      "2000\n"
     ]
    }
   ],
   "source": [
    "emp_1.pay_raise_n()\n",
    "print(emp_1.pay)"
   ]
  },
  {
   "cell_type": "code",
   "execution_count": 92,
   "metadata": {},
   "outputs": [],
   "source": [
    "# 但是如果只改变instance的raise_n\n",
    "emp_1.raise_n = 200"
   ]
  },
  {
   "cell_type": "code",
   "execution_count": 93,
   "metadata": {},
   "outputs": [
    {
     "name": "stdout",
     "output_type": "stream",
     "text": [
      "10\n",
      "200\n",
      "10\n"
     ]
    }
   ],
   "source": [
    "print(Employee.raise_n)\n",
    "print(emp_1.raise_n)\n",
    "print(emp_2.raise_n)"
   ]
  },
  {
   "cell_type": "code",
   "execution_count": 94,
   "metadata": {},
   "outputs": [
    {
     "name": "stdout",
     "output_type": "stream",
     "text": [
      "400000\n"
     ]
    }
   ],
   "source": [
    "emp_1.pay_raise_n()\n",
    "print(emp_1.pay)"
   ]
  },
  {
   "cell_type": "code",
   "execution_count": 95,
   "metadata": {},
   "outputs": [
    {
     "name": "stdout",
     "output_type": "stream",
     "text": [
      "{'first': 'Ge', 'last': 'Peng', 'pay': 400000, 'email': 'Ge.Peng@gmail.com', 'raise_n': 200}\n"
     ]
    }
   ],
   "source": [
    "# check again, raise_n:200 is in __dict__\n",
    "print(emp_1.__dict__)"
   ]
  },
  {
   "cell_type": "code",
   "execution_count": null,
   "metadata": {},
   "outputs": [],
   "source": []
  }
 ],
 "metadata": {
  "kernelspec": {
   "display_name": "Python 3",
   "language": "python",
   "name": "python3"
  },
  "language_info": {
   "codemirror_mode": {
    "name": "ipython",
    "version": 3
   },
   "file_extension": ".py",
   "mimetype": "text/x-python",
   "name": "python",
   "nbconvert_exporter": "python",
   "pygments_lexer": "ipython3",
   "version": "3.7.4"
  }
 },
 "nbformat": 4,
 "nbformat_minor": 4
}
