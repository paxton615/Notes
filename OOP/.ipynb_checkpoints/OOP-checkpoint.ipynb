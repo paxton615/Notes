{
 "cells": [
  {
   "cell_type": "code",
   "execution_count": 37,
   "metadata": {},
   "outputs": [],
   "source": [
    "# 可以针对Employee这个object进行专门的程序，函数设计，比如\n",
    "# 对attributes的输入，再比如，对function的应用\n",
    "\n",
    "class Employee: # It's like a blueprint of a project\n",
    "    \n",
    "    def __init__(self, first , last , pay): # give attributes to variables\n",
    "        self.first = first # create instances, self.\n",
    "        self.last = last\n",
    "        self.pay = pay\n",
    "        self.paystr = last + \" gets paied \"+ str(pay) # .paystr不用输入，可用last+pay组成\n",
    "    \n",
    "    def formemail(self):  #之前用了form_email，被认成attribute...\n",
    "                          # 看来命名是不能使用 ‘_’\n",
    "        return('{}_{}@gmail.com'.format(self.first, self.last))"
   ]
  },
  {
   "cell_type": "code",
   "execution_count": 38,
   "metadata": {},
   "outputs": [],
   "source": [
    "emp_1 = Employee('Paxton' , 'Peng' , 50000)\n",
    "emp_2 = Employee('Teresa', 'Peng', 40000)"
   ]
  },
  {
   "cell_type": "code",
   "execution_count": 39,
   "metadata": {},
   "outputs": [
    {
     "data": {
      "text/plain": [
       "'Peng gets paied 50000'"
      ]
     },
     "execution_count": 39,
     "metadata": {},
     "output_type": "execute_result"
    }
   ],
   "source": [
    "emp_1.paystr"
   ]
  },
  {
   "cell_type": "code",
   "execution_count": 40,
   "metadata": {},
   "outputs": [
    {
     "name": "stdout",
     "output_type": "stream",
     "text": [
      "Paxton\n",
      "<class 'int'>\n"
     ]
    }
   ],
   "source": [
    "# attributes\n",
    "print(emp_1.first)\n",
    "print(type(emp_2.pay))"
   ]
  },
  {
   "cell_type": "code",
   "execution_count": 41,
   "metadata": {},
   "outputs": [
    {
     "name": "stdout",
     "output_type": "stream",
     "text": [
      "Paxton_Peng@gmail.com\n",
      "Teresa_Peng@gmail.com\n"
     ]
    }
   ],
   "source": [
    "# methods\n",
    "print(emp_1.formemail())\n",
    "print(emp_2.formemail())"
   ]
  },
  {
   "cell_type": "code",
   "execution_count": null,
   "metadata": {},
   "outputs": [],
   "source": []
  },
  {
   "cell_type": "code",
   "execution_count": 4,
   "metadata": {},
   "outputs": [],
   "source": [
    "# emp_1 = Employee() # emp1 and 2 are instances\n",
    "# emp_2 = Employee()\n",
    "\n",
    "# print(emp_1)  # they both have places in memory\n",
    "# print(emp_2)\n",
    "\n",
    "# #  what's the difference between instance variables and class variables?\n",
    "# #  instance variables contain data that is unique to instance variables\n",
    "\n",
    "# emp_1.first = 'Corey'\n",
    "# emp_1.last = 'Schafer'\n",
    "# emp_1.email = 'Corey.Schafer@company.com'\n",
    "# emp_1.pay = 50000\n",
    "\n",
    "# emp_2.first = 'Test'\n",
    "# emp_2.last = 'User'\n",
    "# emp_2.email = 'Test.User@company.com'\n",
    "# emp_2.pay = 60000\n",
    "\n",
    "# # Now, each of the instances has attributes that are unique to them\n",
    "\n",
    "# print(emp_1.email)\n",
    "# print(emp_2.email)"
   ]
  },
  {
   "cell_type": "code",
   "execution_count": null,
   "metadata": {},
   "outputs": [],
   "source": []
  },
  {
   "cell_type": "code",
   "execution_count": null,
   "metadata": {},
   "outputs": [],
   "source": []
  },
  {
   "cell_type": "code",
   "execution_count": null,
   "metadata": {},
   "outputs": [],
   "source": []
  },
  {
   "cell_type": "code",
   "execution_count": null,
   "metadata": {},
   "outputs": [],
   "source": []
  },
  {
   "cell_type": "code",
   "execution_count": null,
   "metadata": {},
   "outputs": [],
   "source": []
  },
  {
   "cell_type": "code",
   "execution_count": null,
   "metadata": {},
   "outputs": [],
   "source": []
  },
  {
   "cell_type": "code",
   "execution_count": null,
   "metadata": {},
   "outputs": [],
   "source": []
  },
  {
   "cell_type": "code",
   "execution_count": null,
   "metadata": {},
   "outputs": [],
   "source": []
  },
  {
   "cell_type": "code",
   "execution_count": null,
   "metadata": {},
   "outputs": [],
   "source": []
  },
  {
   "cell_type": "code",
   "execution_count": null,
   "metadata": {},
   "outputs": [],
   "source": []
  }
 ],
 "metadata": {
  "kernelspec": {
   "display_name": "Python 3",
   "language": "python",
   "name": "python3"
  },
  "language_info": {
   "codemirror_mode": {
    "name": "ipython",
    "version": 3
   },
   "file_extension": ".py",
   "mimetype": "text/x-python",
   "name": "python",
   "nbconvert_exporter": "python",
   "pygments_lexer": "ipython3",
   "version": "3.7.4"
  }
 },
 "nbformat": 4,
 "nbformat_minor": 4
}
