{
 "cells": [
  {
   "cell_type": "code",
   "execution_count": 1,
   "metadata": {},
   "outputs": [],
   "source": [
    "import requests\n",
    "\n",
    "from bs4 import BeautifulSoup\n",
    "\n",
    "import pandas as pd\n",
    "\n",
    "import numpy as np\n",
    "\n",
    "from IPython.display import Image"
   ]
  },
  {
   "cell_type": "markdown",
   "metadata": {},
   "source": [
    "输入网址"
   ]
  },
  {
   "cell_type": "code",
   "execution_count": 6,
   "metadata": {},
   "outputs": [],
   "source": [
    "url = 'https://www.rightmove.co.uk/property-to-rent/find.html?locationIdentifier=REGION%5E279&minBedrooms=4&radius=10.0&propertyTypes=detached%2Csemi-detached%2Cterraced&primaryDisplayPropertyType=houses&includeLetAgreed=false&mustHave=garden&dontShow=houseShare%2Cstudent%2Cretirement&furnishTypes=&letType=longTerm&keywords='"
   ]
  },
  {
   "cell_type": "markdown",
   "metadata": {},
   "source": [
    "检查网页连接情况，打印网页表头"
   ]
  },
  {
   "cell_type": "code",
   "execution_count": 13,
   "metadata": {},
   "outputs": [
    {
     "data": {
      "text/plain": [
       "'<!DOCTYPE html>\\n<html lang=\"en-GB\" class=\"is-not-modern property-to-rent channel-based-property-types channel--rent \">\\n<head>\\n    <meta charset=\"utf-8\">\\n    <title>Properties To Rent in Canterbury | Rightmove</title>\\n    <meta http-equiv=\"X-UA-Compatible\" content=\"IE=Edge\"/>\\n    <meta name=\"viewport\" content=\"width=device-width, shrink-to-fit=no, initial-scale=1.0, user-scalable=no\"/>\\n    <meta name=\"format-detection\" content=\"telephone=no\"/>\\n    <meta name=\"HandheldFriendly\" content=\"True\"/>\\n    <meta name=\"description\" content=\"Flats &amp; Houses To Rent in Canterbury - Find properties with Rightmove - the UK&#39;s largest selection of properties.\"/>\\n    <meta name=\"title\" content=\"\"/>\\n    <meta name=\"referrer\" content=\"origin-when-cross-origin\"><link rel=\"preconnect\" href=\"https://media.rightmove.co.uk:443\" crossorigin/>\\n    <link rel=\"preconnect\" href=\"//product.rightmove.co.uk\" crossorigin/><link rel=\"shortcut icon\" href=\"/pvw/images/favicons/rebranded/favicon.ico\"><link rel=\"appl'"
      ]
     },
     "execution_count": 13,
     "metadata": {},
     "output_type": "execute_result"
    }
   ],
   "source": [
    "r = requests.get(url)\n",
    "\n",
    "r.text[:1000]"
   ]
  },
  {
   "cell_type": "code",
   "execution_count": null,
   "metadata": {},
   "outputs": [],
   "source": []
  },
  {
   "cell_type": "code",
   "execution_count": null,
   "metadata": {},
   "outputs": [],
   "source": []
  },
  {
   "cell_type": "code",
   "execution_count": null,
   "metadata": {},
   "outputs": [],
   "source": []
  },
  {
   "cell_type": "code",
   "execution_count": null,
   "metadata": {},
   "outputs": [],
   "source": []
  },
  {
   "cell_type": "code",
   "execution_count": null,
   "metadata": {},
   "outputs": [],
   "source": []
  },
  {
   "cell_type": "code",
   "execution_count": null,
   "metadata": {},
   "outputs": [],
   "source": []
  },
  {
   "cell_type": "code",
   "execution_count": null,
   "metadata": {},
   "outputs": [],
   "source": []
  },
  {
   "cell_type": "code",
   "execution_count": null,
   "metadata": {},
   "outputs": [],
   "source": []
  },
  {
   "cell_type": "code",
   "execution_count": null,
   "metadata": {},
   "outputs": [],
   "source": []
  }
 ],
 "metadata": {
  "kernelspec": {
   "display_name": "Python 3",
   "language": "python",
   "name": "python3"
  },
  "language_info": {
   "codemirror_mode": {
    "name": "ipython",
    "version": 3
   },
   "file_extension": ".py",
   "mimetype": "text/x-python",
   "name": "python",
   "nbconvert_exporter": "python",
   "pygments_lexer": "ipython3",
   "version": "3.8.3"
  }
 },
 "nbformat": 4,
 "nbformat_minor": 4
}
