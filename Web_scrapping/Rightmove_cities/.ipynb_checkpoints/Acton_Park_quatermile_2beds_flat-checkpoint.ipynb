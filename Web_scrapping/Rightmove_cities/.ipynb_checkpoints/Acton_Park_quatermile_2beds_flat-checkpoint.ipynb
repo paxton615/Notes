{
 "cells": [
  {
   "cell_type": "code",
   "execution_count": 2,
   "metadata": {},
   "outputs": [],
   "source": [
    "import requests\n",
    "from bs4 import BeautifulSoup\n",
    "import bs4\n",
    "import pandas as pd\n",
    "import numpy as np\n",
    "from IPython.display import Image"
   ]
  },
  {
   "cell_type": "markdown",
   "metadata": {},
   "source": [
    "### Go to rightmove.co.uk, search rental properties in Maidstone, and copy paste to replace the 'url' below"
   ]
  },
  {
   "cell_type": "code",
   "execution_count": 3,
   "metadata": {},
   "outputs": [],
   "source": [
    "bdrooms = []\n",
    "addresses = []\n",
    "rent = []\n",
    "\n",
    "for start in range(0,480,24):\n",
    "    url = 'https://www.rightmove.co.uk/property-to-rent/find.html?locationIdentifier=REGION%5E1474&minBedrooms=4&radius=3.0&propertyTypes=detached%2Csemi-detached%2Cterraced&primaryDisplayPropertyType=houses&includeLetAgreed=false&mustHave=&dontShow=&furnishTypes=&keywords='.format(start)\n",
    "    r = requests.get(url)\n",
    "    soup = BeautifulSoup(r.text, \"html.parser\")\n",
    "    \n",
    "    for num in soup.find_all('h2', class_= 'propertyCard-title'):\n",
    "        bdrooms.append(num.text.strip())\n",
    "        \n",
    "    for add in soup.find_all('address', class_=\"propertyCard-address\"):\n",
    "        for meta in add:\n",
    "            for loc in meta:\n",
    "                if type(loc) is bs4.element.NavigableString:\n",
    "                    addresses.append(loc)\n",
    "                    \n",
    "    for pc in soup.find_all('span', 'propertyCard-priceValue'):\n",
    "        rent.append(pc.string)"
   ]
  },
  {
   "cell_type": "code",
   "execution_count": 4,
   "metadata": {},
   "outputs": [
    {
     "name": "stdout",
     "output_type": "stream",
     "text": [
      "500\n",
      "['4 bedroom semi-detached house', '6 bedroom terraced house', '6 bedroom detached house', '4 bedroom semi-detached house', '5 bedroom semi-detached house']\n",
      "500\n",
      "['Acacia Road, Guildford, GU1', 'Student House, Stoughton Area', 'Beckingham Road, Guildford', 'Aldershot Road', 'Aldershot Road, Surrey']\n",
      "500\n",
      "['£2,500 pcm', '£3,100 pcm', '£3,300 pcm', '£2,200 pcm', '£2,800 pcm']\n"
     ]
    }
   ],
   "source": [
    "print(len(bdrooms))\n",
    "print(bdrooms[:5])\n",
    "print(len(addresses))\n",
    "print(addresses[:5])\n",
    "print(len(rent))\n",
    "print(rent[:5])"
   ]
  },
  {
   "cell_type": "code",
   "execution_count": 5,
   "metadata": {},
   "outputs": [
    {
     "data": {
      "text/html": [
       "<div>\n",
       "<style scoped>\n",
       "    .dataframe tbody tr th:only-of-type {\n",
       "        vertical-align: middle;\n",
       "    }\n",
       "\n",
       "    .dataframe tbody tr th {\n",
       "        vertical-align: top;\n",
       "    }\n",
       "\n",
       "    .dataframe thead th {\n",
       "        text-align: right;\n",
       "    }\n",
       "</style>\n",
       "<table border=\"1\" class=\"dataframe\">\n",
       "  <thead>\n",
       "    <tr style=\"text-align: right;\">\n",
       "      <th></th>\n",
       "      <th>bdrooms</th>\n",
       "      <th>address</th>\n",
       "      <th>pcm</th>\n",
       "    </tr>\n",
       "  </thead>\n",
       "  <tbody>\n",
       "    <tr>\n",
       "      <th>495</th>\n",
       "      <td>4 bedroom end of terrace house</td>\n",
       "      <td>Homestall, Guildford, Surrey, GU2</td>\n",
       "      <td>£1,800 pcm</td>\n",
       "    </tr>\n",
       "    <tr>\n",
       "      <th>496</th>\n",
       "      <td>6 bedroom terraced house</td>\n",
       "      <td>St George's Hill, Weybridge, Surrey, KT13</td>\n",
       "      <td>£8,667 pcm</td>\n",
       "    </tr>\n",
       "    <tr>\n",
       "      <th>497</th>\n",
       "      <td>4 bedroom semi-detached house</td>\n",
       "      <td>Student House, Dennisville Area</td>\n",
       "      <td>£2,050 pcm</td>\n",
       "    </tr>\n",
       "    <tr>\n",
       "      <th>498</th>\n",
       "      <td>4 bedroom end of terrace house</td>\n",
       "      <td>Homestall, Guildford</td>\n",
       "      <td>£1,800 pcm</td>\n",
       "    </tr>\n",
       "    <tr>\n",
       "      <th>499</th>\n",
       "      <td>4 bedroom end of terrace house</td>\n",
       "      <td>Rye Close</td>\n",
       "      <td>£2,100 pcm</td>\n",
       "    </tr>\n",
       "  </tbody>\n",
       "</table>\n",
       "</div>"
      ],
      "text/plain": [
       "                            bdrooms  \\\n",
       "495  4 bedroom end of terrace house   \n",
       "496        6 bedroom terraced house   \n",
       "497   4 bedroom semi-detached house   \n",
       "498  4 bedroom end of terrace house   \n",
       "499  4 bedroom end of terrace house   \n",
       "\n",
       "                                       address         pcm  \n",
       "495          Homestall, Guildford, Surrey, GU2  £1,800 pcm  \n",
       "496  St George's Hill, Weybridge, Surrey, KT13  £8,667 pcm  \n",
       "497            Student House, Dennisville Area  £2,050 pcm  \n",
       "498                       Homestall, Guildford  £1,800 pcm  \n",
       "499                                 Rye Close   £2,100 pcm  "
      ]
     },
     "execution_count": 5,
     "metadata": {},
     "output_type": "execute_result"
    }
   ],
   "source": [
    "woking_3ms = pd.DataFrame({'bdrooms':pd.Series(bdrooms), 'address':pd.Series(addresses), 'pcm':pd.Series(rent)})\n",
    "woking_3ms.tail()"
   ]
  },
  {
   "cell_type": "code",
   "execution_count": 7,
   "metadata": {},
   "outputs": [
    {
     "data": {
      "text/html": [
       "<div>\n",
       "<style scoped>\n",
       "    .dataframe tbody tr th:only-of-type {\n",
       "        vertical-align: middle;\n",
       "    }\n",
       "\n",
       "    .dataframe tbody tr th {\n",
       "        vertical-align: top;\n",
       "    }\n",
       "\n",
       "    .dataframe thead th {\n",
       "        text-align: right;\n",
       "    }\n",
       "</style>\n",
       "<table border=\"1\" class=\"dataframe\">\n",
       "  <thead>\n",
       "    <tr style=\"text-align: right;\">\n",
       "      <th></th>\n",
       "      <th>bdrooms</th>\n",
       "      <th>address</th>\n",
       "      <th>pcm</th>\n",
       "    </tr>\n",
       "  </thead>\n",
       "  <tbody>\n",
       "    <tr>\n",
       "      <th>495</th>\n",
       "      <td>4 bedroom end of terrace house</td>\n",
       "      <td>Homestall, Guildford, Surrey, GU2</td>\n",
       "      <td>£1,800 pcm</td>\n",
       "    </tr>\n",
       "    <tr>\n",
       "      <th>496</th>\n",
       "      <td>6 bedroom terraced house</td>\n",
       "      <td>St George's Hill, Weybridge, Surrey, KT13</td>\n",
       "      <td>£8,667 pcm</td>\n",
       "    </tr>\n",
       "    <tr>\n",
       "      <th>497</th>\n",
       "      <td>4 bedroom semi-detached house</td>\n",
       "      <td>Student House, Dennisville Area</td>\n",
       "      <td>£2,050 pcm</td>\n",
       "    </tr>\n",
       "    <tr>\n",
       "      <th>498</th>\n",
       "      <td>4 bedroom end of terrace house</td>\n",
       "      <td>Homestall, Guildford</td>\n",
       "      <td>£1,800 pcm</td>\n",
       "    </tr>\n",
       "    <tr>\n",
       "      <th>499</th>\n",
       "      <td>4 bedroom end of terrace house</td>\n",
       "      <td>Rye Close</td>\n",
       "      <td>£2,100 pcm</td>\n",
       "    </tr>\n",
       "  </tbody>\n",
       "</table>\n",
       "</div>"
      ],
      "text/plain": [
       "                            bdrooms  \\\n",
       "495  4 bedroom end of terrace house   \n",
       "496        6 bedroom terraced house   \n",
       "497   4 bedroom semi-detached house   \n",
       "498  4 bedroom end of terrace house   \n",
       "499  4 bedroom end of terrace house   \n",
       "\n",
       "                                       address         pcm  \n",
       "495          Homestall, Guildford, Surrey, GU2  £1,800 pcm  \n",
       "496  St George's Hill, Weybridge, Surrey, KT13  £8,667 pcm  \n",
       "497            Student House, Dennisville Area  £2,050 pcm  \n",
       "498                       Homestall, Guildford  £1,800 pcm  \n",
       "499                                 Rye Close   £2,100 pcm  "
      ]
     },
     "execution_count": 7,
     "metadata": {},
     "output_type": "execute_result"
    }
   ],
   "source": [
    "woking_3ms = woking_3ms.dropna()\n",
    "woking_3ms.tail()"
   ]
  },
  {
   "cell_type": "code",
   "execution_count": 8,
   "metadata": {},
   "outputs": [
    {
     "data": {
      "text/html": [
       "<div>\n",
       "<style scoped>\n",
       "    .dataframe tbody tr th:only-of-type {\n",
       "        vertical-align: middle;\n",
       "    }\n",
       "\n",
       "    .dataframe tbody tr th {\n",
       "        vertical-align: top;\n",
       "    }\n",
       "\n",
       "    .dataframe thead th {\n",
       "        text-align: right;\n",
       "    }\n",
       "</style>\n",
       "<table border=\"1\" class=\"dataframe\">\n",
       "  <thead>\n",
       "    <tr style=\"text-align: right;\">\n",
       "      <th></th>\n",
       "      <th>bdrooms</th>\n",
       "      <th>address</th>\n",
       "      <th>pcm</th>\n",
       "    </tr>\n",
       "  </thead>\n",
       "  <tbody>\n",
       "    <tr>\n",
       "      <th>495</th>\n",
       "      <td>4 bedroom end of terrace house</td>\n",
       "      <td>Homestall, Guildford, Surrey, GU2</td>\n",
       "      <td>1800</td>\n",
       "    </tr>\n",
       "    <tr>\n",
       "      <th>496</th>\n",
       "      <td>6 bedroom terraced house</td>\n",
       "      <td>St George's Hill, Weybridge, Surrey, KT13</td>\n",
       "      <td>8667</td>\n",
       "    </tr>\n",
       "    <tr>\n",
       "      <th>497</th>\n",
       "      <td>4 bedroom semi-detached house</td>\n",
       "      <td>Student House, Dennisville Area</td>\n",
       "      <td>2050</td>\n",
       "    </tr>\n",
       "    <tr>\n",
       "      <th>498</th>\n",
       "      <td>4 bedroom end of terrace house</td>\n",
       "      <td>Homestall, Guildford</td>\n",
       "      <td>1800</td>\n",
       "    </tr>\n",
       "    <tr>\n",
       "      <th>499</th>\n",
       "      <td>4 bedroom end of terrace house</td>\n",
       "      <td>Rye Close</td>\n",
       "      <td>2100</td>\n",
       "    </tr>\n",
       "  </tbody>\n",
       "</table>\n",
       "</div>"
      ],
      "text/plain": [
       "                            bdrooms  \\\n",
       "495  4 bedroom end of terrace house   \n",
       "496        6 bedroom terraced house   \n",
       "497   4 bedroom semi-detached house   \n",
       "498  4 bedroom end of terrace house   \n",
       "499  4 bedroom end of terrace house   \n",
       "\n",
       "                                       address   pcm  \n",
       "495          Homestall, Guildford, Surrey, GU2  1800  \n",
       "496  St George's Hill, Weybridge, Surrey, KT13  8667  \n",
       "497            Student House, Dennisville Area  2050  \n",
       "498                       Homestall, Guildford  1800  \n",
       "499                                 Rye Close   2100  "
      ]
     },
     "execution_count": 8,
     "metadata": {},
     "output_type": "execute_result"
    }
   ],
   "source": [
    "woking_3ms['pcm'] = [int(''.join(filter(str.isdigit, i))) for i in woking_3ms['pcm']]\n",
    "woking_3ms.tail()"
   ]
  },
  {
   "cell_type": "code",
   "execution_count": 9,
   "metadata": {},
   "outputs": [
    {
     "data": {
      "text/html": [
       "<div>\n",
       "<style scoped>\n",
       "    .dataframe tbody tr th:only-of-type {\n",
       "        vertical-align: middle;\n",
       "    }\n",
       "\n",
       "    .dataframe tbody tr th {\n",
       "        vertical-align: top;\n",
       "    }\n",
       "\n",
       "    .dataframe thead th {\n",
       "        text-align: right;\n",
       "    }\n",
       "</style>\n",
       "<table border=\"1\" class=\"dataframe\">\n",
       "  <thead>\n",
       "    <tr style=\"text-align: right;\">\n",
       "      <th></th>\n",
       "      <th>pcm</th>\n",
       "    </tr>\n",
       "  </thead>\n",
       "  <tbody>\n",
       "    <tr>\n",
       "      <th>count</th>\n",
       "      <td>500.000000</td>\n",
       "    </tr>\n",
       "    <tr>\n",
       "      <th>mean</th>\n",
       "      <td>2834.700000</td>\n",
       "    </tr>\n",
       "    <tr>\n",
       "      <th>std</th>\n",
       "      <td>1411.843147</td>\n",
       "    </tr>\n",
       "    <tr>\n",
       "      <th>min</th>\n",
       "      <td>1800.000000</td>\n",
       "    </tr>\n",
       "    <tr>\n",
       "      <th>25%</th>\n",
       "      <td>2087.500000</td>\n",
       "    </tr>\n",
       "    <tr>\n",
       "      <th>50%</th>\n",
       "      <td>2400.000000</td>\n",
       "    </tr>\n",
       "    <tr>\n",
       "      <th>75%</th>\n",
       "      <td>3100.000000</td>\n",
       "    </tr>\n",
       "    <tr>\n",
       "      <th>max</th>\n",
       "      <td>8667.000000</td>\n",
       "    </tr>\n",
       "  </tbody>\n",
       "</table>\n",
       "</div>"
      ],
      "text/plain": [
       "               pcm\n",
       "count   500.000000\n",
       "mean   2834.700000\n",
       "std    1411.843147\n",
       "min    1800.000000\n",
       "25%    2087.500000\n",
       "50%    2400.000000\n",
       "75%    3100.000000\n",
       "max    8667.000000"
      ]
     },
     "execution_count": 9,
     "metadata": {},
     "output_type": "execute_result"
    }
   ],
   "source": [
    "woking_3ms.describe()"
   ]
  },
  {
   "cell_type": "code",
   "execution_count": null,
   "metadata": {},
   "outputs": [],
   "source": []
  },
  {
   "cell_type": "code",
   "execution_count": null,
   "metadata": {},
   "outputs": [],
   "source": []
  },
  {
   "cell_type": "code",
   "execution_count": null,
   "metadata": {},
   "outputs": [],
   "source": []
  },
  {
   "cell_type": "code",
   "execution_count": null,
   "metadata": {},
   "outputs": [],
   "source": []
  },
  {
   "cell_type": "code",
   "execution_count": null,
   "metadata": {},
   "outputs": [],
   "source": []
  },
  {
   "cell_type": "code",
   "execution_count": null,
   "metadata": {},
   "outputs": [],
   "source": []
  },
  {
   "cell_type": "code",
   "execution_count": null,
   "metadata": {},
   "outputs": [],
   "source": []
  },
  {
   "cell_type": "code",
   "execution_count": null,
   "metadata": {},
   "outputs": [],
   "source": []
  },
  {
   "cell_type": "code",
   "execution_count": null,
   "metadata": {},
   "outputs": [],
   "source": []
  }
 ],
 "metadata": {
  "kernelspec": {
   "display_name": "Python 3",
   "language": "python",
   "name": "python3"
  },
  "language_info": {
   "codemirror_mode": {
    "name": "ipython",
    "version": 3
   },
   "file_extension": ".py",
   "mimetype": "text/x-python",
   "name": "python",
   "nbconvert_exporter": "python",
   "pygments_lexer": "ipython3",
   "version": "3.8.3"
  }
 },
 "nbformat": 4,
 "nbformat_minor": 4
}
