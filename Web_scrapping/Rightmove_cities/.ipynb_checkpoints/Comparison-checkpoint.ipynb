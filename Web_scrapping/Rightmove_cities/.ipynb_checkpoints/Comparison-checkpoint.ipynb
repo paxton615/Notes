{
 "cells": [
  {
   "cell_type": "code",
   "execution_count": 1,
   "metadata": {},
   "outputs": [
    {
     "name": "stderr",
     "output_type": "stream",
     "text": [
      "<frozen importlib._bootstrap>:219: RuntimeWarning: numpy.ufunc size changed, may indicate binary incompatibility. Expected 192 from C header, got 216 from PyObject\n",
      "<frozen importlib._bootstrap>:219: RuntimeWarning: numpy.ufunc size changed, may indicate binary incompatibility. Expected 192 from C header, got 216 from PyObject\n"
     ]
    }
   ],
   "source": [
    "import pandas as pd\n",
    "import numpy as np\n",
    "import matplotlib.pyplot as plt\n",
    "import seaborn as sns"
   ]
  },
  {
   "cell_type": "code",
   "execution_count": 13,
   "metadata": {},
   "outputs": [],
   "source": [
    "abingdon = {'count': 124,  \"median\":1950,'mean':2020,'std':422}"
   ]
  },
  {
   "cell_type": "code",
   "execution_count": 14,
   "metadata": {},
   "outputs": [],
   "source": [
    "banbury = {'count': 25, \"median\":2250, 'mean':2643,'std':896}"
   ]
  },
  {
   "cell_type": "code",
   "execution_count": 15,
   "metadata": {},
   "outputs": [],
   "source": [
    "canterbury = {'count': 387, \"median\":1750, 'mean':1864,'std':462}"
   ]
  },
  {
   "cell_type": "code",
   "execution_count": 22,
   "metadata": {},
   "outputs": [],
   "source": [
    "gravesend = {'count': 49, \"median\":1900, 'mean':1550,'std':290}"
   ]
  },
  {
   "cell_type": "code",
   "execution_count": 23,
   "metadata": {},
   "outputs": [],
   "source": [
    "maidstone = {'count': 25, \"median\":1500, 'mean':1670,'std':331}"
   ]
  },
  {
   "cell_type": "code",
   "execution_count": 18,
   "metadata": {},
   "outputs": [],
   "source": [
    "oxford = {'count': 480, \"median\":1500, 'mean':1670,'std':331}"
   ]
  },
  {
   "cell_type": "code",
   "execution_count": 19,
   "metadata": {},
   "outputs": [],
   "source": [
    "tonbridge = {'count': 99, \"median\":3995, 'mean':3459,'std':1495}"
   ]
  },
  {
   "cell_type": "code",
   "execution_count": 21,
   "metadata": {},
   "outputs": [],
   "source": [
    "ashford = {'count': 49, \"median\":1500, 'mean':1735,'std':680}"
   ]
  },
  {
   "cell_type": "code",
   "execution_count": 24,
   "metadata": {},
   "outputs": [
    {
     "data": {
      "text/html": [
       "<div>\n",
       "<style scoped>\n",
       "    .dataframe tbody tr th:only-of-type {\n",
       "        vertical-align: middle;\n",
       "    }\n",
       "\n",
       "    .dataframe tbody tr th {\n",
       "        vertical-align: top;\n",
       "    }\n",
       "\n",
       "    .dataframe thead th {\n",
       "        text-align: right;\n",
       "    }\n",
       "</style>\n",
       "<table border=\"1\" class=\"dataframe\">\n",
       "  <thead>\n",
       "    <tr style=\"text-align: right;\">\n",
       "      <th></th>\n",
       "      <th>count</th>\n",
       "      <th>median</th>\n",
       "      <th>mean</th>\n",
       "      <th>std</th>\n",
       "    </tr>\n",
       "  </thead>\n",
       "  <tbody>\n",
       "    <tr>\n",
       "      <th>oxford</th>\n",
       "      <td>480</td>\n",
       "      <td>1500</td>\n",
       "      <td>1670</td>\n",
       "      <td>331</td>\n",
       "    </tr>\n",
       "    <tr>\n",
       "      <th>banbury</th>\n",
       "      <td>25</td>\n",
       "      <td>2250</td>\n",
       "      <td>2643</td>\n",
       "      <td>896</td>\n",
       "    </tr>\n",
       "    <tr>\n",
       "      <th>abingdon</th>\n",
       "      <td>124</td>\n",
       "      <td>1950</td>\n",
       "      <td>2020</td>\n",
       "      <td>422</td>\n",
       "    </tr>\n",
       "    <tr>\n",
       "      <th>maidstone</th>\n",
       "      <td>25</td>\n",
       "      <td>1500</td>\n",
       "      <td>1670</td>\n",
       "      <td>331</td>\n",
       "    </tr>\n",
       "    <tr>\n",
       "      <th>ashford</th>\n",
       "      <td>49</td>\n",
       "      <td>1500</td>\n",
       "      <td>1735</td>\n",
       "      <td>680</td>\n",
       "    </tr>\n",
       "    <tr>\n",
       "      <th>canterbury</th>\n",
       "      <td>387</td>\n",
       "      <td>1750</td>\n",
       "      <td>1864</td>\n",
       "      <td>462</td>\n",
       "    </tr>\n",
       "    <tr>\n",
       "      <th>gravesend</th>\n",
       "      <td>49</td>\n",
       "      <td>1900</td>\n",
       "      <td>1550</td>\n",
       "      <td>290</td>\n",
       "    </tr>\n",
       "    <tr>\n",
       "      <th>tonbridge</th>\n",
       "      <td>99</td>\n",
       "      <td>3995</td>\n",
       "      <td>3459</td>\n",
       "      <td>1495</td>\n",
       "    </tr>\n",
       "  </tbody>\n",
       "</table>\n",
       "</div>"
      ],
      "text/plain": [
       "            count  median  mean   std\n",
       "oxford        480    1500  1670   331\n",
       "banbury        25    2250  2643   896\n",
       "abingdon      124    1950  2020   422\n",
       "maidstone      25    1500  1670   331\n",
       "ashford        49    1500  1735   680\n",
       "canterbury    387    1750  1864   462\n",
       "gravesend      49    1900  1550   290\n",
       "tonbridge      99    3995  3459  1495"
      ]
     },
     "execution_count": 24,
     "metadata": {},
     "output_type": "execute_result"
    }
   ],
   "source": [
    "pd.DataFrame([oxford,banbury, abingdon, maidstone, ashford, canterbury, gravesend, tonbridge ], \n",
    "             index=['oxford','banbury','abingdon','maidstone','ashford','canterbury','gravesend','tonbridge'])"
   ]
  },
  {
   "cell_type": "code",
   "execution_count": null,
   "metadata": {},
   "outputs": [],
   "source": [
    "# 所有信息均来自rightmove.co.uk，搜索条件4beds house，3miles radius。\n",
    "# count: 网页信息爬取结果。数字越大说明本地区房源越多。\n",
    "# median：租金从低往高排列，最中间的那个数字。（租金参考）\n",
    "# mean：租金平均数。（租金参考）\n",
    "# std：租金波动情况。现实中，这个数字越大，租金差异也越大，讲价空间也大。"
   ]
  },
  {
   "cell_type": "code",
   "execution_count": null,
   "metadata": {},
   "outputs": [],
   "source": []
  },
  {
   "cell_type": "code",
   "execution_count": null,
   "metadata": {},
   "outputs": [],
   "source": []
  },
  {
   "cell_type": "code",
   "execution_count": null,
   "metadata": {},
   "outputs": [],
   "source": []
  },
  {
   "cell_type": "code",
   "execution_count": null,
   "metadata": {},
   "outputs": [],
   "source": []
  },
  {
   "cell_type": "code",
   "execution_count": null,
   "metadata": {},
   "outputs": [],
   "source": []
  }
 ],
 "metadata": {
  "kernelspec": {
   "display_name": "Python 3",
   "language": "python",
   "name": "python3"
  },
  "language_info": {
   "codemirror_mode": {
    "name": "ipython",
    "version": 3
   },
   "file_extension": ".py",
   "mimetype": "text/x-python",
   "name": "python",
   "nbconvert_exporter": "python",
   "pygments_lexer": "ipython3",
   "version": "3.8.3"
  }
 },
 "nbformat": 4,
 "nbformat_minor": 4
}
