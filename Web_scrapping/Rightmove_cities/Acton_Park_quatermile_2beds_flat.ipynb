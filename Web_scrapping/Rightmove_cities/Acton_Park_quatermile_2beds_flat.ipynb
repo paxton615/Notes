{
 "cells": [
  {
   "cell_type": "code",
   "execution_count": 2,
   "metadata": {},
   "outputs": [],
   "source": [
    "import requests\n",
    "from bs4 import BeautifulSoup\n",
    "import bs4\n",
    "import pandas as pd\n",
    "import numpy as np\n",
    "from IPython.display import Image"
   ]
  },
  {
   "cell_type": "markdown",
   "metadata": {},
   "source": [
    "### Go to rightmove.co.uk, search rental properties in Maidstone, and copy paste to replace the 'url' below"
   ]
  },
  {
   "cell_type": "code",
   "execution_count": 12,
   "metadata": {},
   "outputs": [],
   "source": [
    "link = 'https://www.rightmove.co.uk/property-for-sale/find.html?searchType=SALE&locationIdentifier=REGION%5E70387&insId=1&radius=3.0&minPrice=&maxPrice=&minBedrooms=&maxBedrooms=3&displayPropertyType=flats&maxDaysSinceAdded=&_includeSSTC=on&sortByPriceDescending=&primaryDisplayPropertyType=&secondaryDisplayPropertyType=&oldDisplayPropertyType=&oldPrimaryDisplayPropertyType=&newHome=&auction=false'\n",
    "\n",
    "acton_park_2beds_link = 'https://www.rightmove.co.uk/property-for-sale/find.html?locationIdentifier=REGION%5E70387&maxBedrooms=2&radius=0.25&propertyTypes=flat&primaryDisplayPropertyType=flats&includeSSTC=false&mustHave=&dontShow=&furnishTypes=&keywords='"
   ]
  },
  {
   "cell_type": "code",
   "execution_count": 13,
   "metadata": {},
   "outputs": [],
   "source": [
    "bdrooms = []\n",
    "addresses = []\n",
    "rent = []\n",
    "\n",
    "for start in range(0,480,24):\n",
    "    url = acton_park_2beds_link.format(start)\n",
    "    r = requests.get(url)\n",
    "    soup = BeautifulSoup(r.text, \"html.parser\")\n",
    "    \n",
    "    for num in soup.find_all('h2', class_= 'propertyCard-title'):\n",
    "        bdrooms.append(num.text.strip())\n",
    "        \n",
    "    for add in soup.find_all('address', class_=\"propertyCard-address\"):\n",
    "        for meta in add:\n",
    "            for loc in meta:\n",
    "                if type(loc) is bs4.element.NavigableString:\n",
    "                    addresses.append(loc)\n",
    "                    \n",
    "    for pc in soup.find_all('div', 'propertyCard-priceValue'):\n",
    "        rent.append(pc.string)"
   ]
  },
  {
   "cell_type": "code",
   "execution_count": 14,
   "metadata": {},
   "outputs": [
    {
     "name": "stdout",
     "output_type": "stream",
     "text": [
      "500\n",
      "['1 bedroom apartment for sale', 'Block of apartments for sale', '2 bedroom flat for sale', '2 bedroom apartment for sale', '2 bedroom flat for sale']\n",
      "500\n",
      "['Poulton Court, Victoria Road, W3', 'High Street, London, W3', 'The Green, London, W3', 'One West Point, Portal West, W3', 'The Green, London, W3']\n",
      "500\n",
      "['£325,000        ', '£5,500,000        ', '£950,000        ', '£915,000        ', '£900,000        ']\n"
     ]
    }
   ],
   "source": [
    "print(len(bdrooms))\n",
    "print(bdrooms[:5])\n",
    "print(len(addresses))\n",
    "print(addresses[:5])\n",
    "print(len(rent))\n",
    "print(rent[:5])"
   ]
  },
  {
   "cell_type": "code",
   "execution_count": 35,
   "metadata": {},
   "outputs": [
    {
     "data": {
      "text/html": [
       "<div>\n",
       "<style scoped>\n",
       "    .dataframe tbody tr th:only-of-type {\n",
       "        vertical-align: middle;\n",
       "    }\n",
       "\n",
       "    .dataframe tbody tr th {\n",
       "        vertical-align: top;\n",
       "    }\n",
       "\n",
       "    .dataframe thead th {\n",
       "        text-align: right;\n",
       "    }\n",
       "</style>\n",
       "<table border=\"1\" class=\"dataframe\">\n",
       "  <thead>\n",
       "    <tr style=\"text-align: right;\">\n",
       "      <th></th>\n",
       "      <th>bdrooms</th>\n",
       "      <th>address</th>\n",
       "      <th>price</th>\n",
       "    </tr>\n",
       "  </thead>\n",
       "  <tbody>\n",
       "    <tr>\n",
       "      <th>495</th>\n",
       "      <td>2 bedroom apartment for sale</td>\n",
       "      <td>Birkbeck Road, London, W3</td>\n",
       "      <td>£680,000</td>\n",
       "    </tr>\n",
       "    <tr>\n",
       "      <th>496</th>\n",
       "      <td>2 bedroom property for sale</td>\n",
       "      <td>Shalimar Road, London, W3</td>\n",
       "      <td>£675,000</td>\n",
       "    </tr>\n",
       "    <tr>\n",
       "      <th>497</th>\n",
       "      <td>2 bedroom flat for sale</td>\n",
       "      <td>Perryn Road, London</td>\n",
       "      <td>£665,000</td>\n",
       "    </tr>\n",
       "    <tr>\n",
       "      <th>498</th>\n",
       "      <td>1 bedroom flat for sale</td>\n",
       "      <td>One West Point, Acton, W3</td>\n",
       "      <td>£651,000</td>\n",
       "    </tr>\n",
       "    <tr>\n",
       "      <th>499</th>\n",
       "      <td>1 bedroom flat for sale</td>\n",
       "      <td>The Green, London, W3</td>\n",
       "      <td>£650,000</td>\n",
       "    </tr>\n",
       "  </tbody>\n",
       "</table>\n",
       "</div>"
      ],
      "text/plain": [
       "                          bdrooms                    address             price\n",
       "495  2 bedroom apartment for sale  Birkbeck Road, London, W3  £680,000        \n",
       "496   2 bedroom property for sale  Shalimar Road, London, W3  £675,000        \n",
       "497       2 bedroom flat for sale        Perryn Road, London  £665,000        \n",
       "498       1 bedroom flat for sale  One West Point, Acton, W3  £651,000        \n",
       "499       1 bedroom flat for sale      The Green, London, W3  £650,000        "
      ]
     },
     "execution_count": 35,
     "metadata": {},
     "output_type": "execute_result"
    }
   ],
   "source": [
    "acton_park_2beds = pd.DataFrame({'bdrooms':pd.Series(bdrooms), 'address':pd.Series(addresses), 'price':pd.Series(rent)})\n",
    "acton_park_2beds.tail()"
   ]
  },
  {
   "cell_type": "code",
   "execution_count": 36,
   "metadata": {},
   "outputs": [
    {
     "data": {
      "text/html": [
       "<div>\n",
       "<style scoped>\n",
       "    .dataframe tbody tr th:only-of-type {\n",
       "        vertical-align: middle;\n",
       "    }\n",
       "\n",
       "    .dataframe tbody tr th {\n",
       "        vertical-align: top;\n",
       "    }\n",
       "\n",
       "    .dataframe thead th {\n",
       "        text-align: right;\n",
       "    }\n",
       "</style>\n",
       "<table border=\"1\" class=\"dataframe\">\n",
       "  <thead>\n",
       "    <tr style=\"text-align: right;\">\n",
       "      <th></th>\n",
       "      <th>bdrooms</th>\n",
       "      <th>address</th>\n",
       "      <th>price</th>\n",
       "    </tr>\n",
       "  </thead>\n",
       "  <tbody>\n",
       "    <tr>\n",
       "      <th>0</th>\n",
       "      <td>1 bedroom apartment for sale</td>\n",
       "      <td>Poulton Court, Victoria Road, W3</td>\n",
       "      <td>£325,000</td>\n",
       "    </tr>\n",
       "    <tr>\n",
       "      <th>1</th>\n",
       "      <td>Block of apartments for sale</td>\n",
       "      <td>High Street, London, W3</td>\n",
       "      <td>£5,500,000</td>\n",
       "    </tr>\n",
       "    <tr>\n",
       "      <th>2</th>\n",
       "      <td>2 bedroom flat for sale</td>\n",
       "      <td>The Green, London, W3</td>\n",
       "      <td>£950,000</td>\n",
       "    </tr>\n",
       "    <tr>\n",
       "      <th>3</th>\n",
       "      <td>2 bedroom apartment for sale</td>\n",
       "      <td>One West Point, Portal West, W3</td>\n",
       "      <td>£915,000</td>\n",
       "    </tr>\n",
       "    <tr>\n",
       "      <th>4</th>\n",
       "      <td>2 bedroom flat for sale</td>\n",
       "      <td>The Green, London, W3</td>\n",
       "      <td>£900,000</td>\n",
       "    </tr>\n",
       "    <tr>\n",
       "      <th>...</th>\n",
       "      <td>...</td>\n",
       "      <td>...</td>\n",
       "      <td>...</td>\n",
       "    </tr>\n",
       "    <tr>\n",
       "      <th>495</th>\n",
       "      <td>2 bedroom apartment for sale</td>\n",
       "      <td>Birkbeck Road, London, W3</td>\n",
       "      <td>£680,000</td>\n",
       "    </tr>\n",
       "    <tr>\n",
       "      <th>496</th>\n",
       "      <td>2 bedroom property for sale</td>\n",
       "      <td>Shalimar Road, London, W3</td>\n",
       "      <td>£675,000</td>\n",
       "    </tr>\n",
       "    <tr>\n",
       "      <th>497</th>\n",
       "      <td>2 bedroom flat for sale</td>\n",
       "      <td>Perryn Road, London</td>\n",
       "      <td>£665,000</td>\n",
       "    </tr>\n",
       "    <tr>\n",
       "      <th>498</th>\n",
       "      <td>1 bedroom flat for sale</td>\n",
       "      <td>One West Point, Acton, W3</td>\n",
       "      <td>£651,000</td>\n",
       "    </tr>\n",
       "    <tr>\n",
       "      <th>499</th>\n",
       "      <td>1 bedroom flat for sale</td>\n",
       "      <td>The Green, London, W3</td>\n",
       "      <td>£650,000</td>\n",
       "    </tr>\n",
       "  </tbody>\n",
       "</table>\n",
       "<p>500 rows × 3 columns</p>\n",
       "</div>"
      ],
      "text/plain": [
       "                          bdrooms                           address  \\\n",
       "0    1 bedroom apartment for sale  Poulton Court, Victoria Road, W3   \n",
       "1    Block of apartments for sale           High Street, London, W3   \n",
       "2         2 bedroom flat for sale             The Green, London, W3   \n",
       "3    2 bedroom apartment for sale   One West Point, Portal West, W3   \n",
       "4         2 bedroom flat for sale             The Green, London, W3   \n",
       "..                            ...                               ...   \n",
       "495  2 bedroom apartment for sale         Birkbeck Road, London, W3   \n",
       "496   2 bedroom property for sale         Shalimar Road, London, W3   \n",
       "497       2 bedroom flat for sale               Perryn Road, London   \n",
       "498       1 bedroom flat for sale         One West Point, Acton, W3   \n",
       "499       1 bedroom flat for sale             The Green, London, W3   \n",
       "\n",
       "                  price  \n",
       "0      £325,000          \n",
       "1    £5,500,000          \n",
       "2      £950,000          \n",
       "3      £915,000          \n",
       "4      £900,000          \n",
       "..                  ...  \n",
       "495    £680,000          \n",
       "496    £675,000          \n",
       "497    £665,000          \n",
       "498    £651,000          \n",
       "499    £650,000          \n",
       "\n",
       "[500 rows x 3 columns]"
      ]
     },
     "execution_count": 36,
     "metadata": {},
     "output_type": "execute_result"
    }
   ],
   "source": [
    "acton_park_2beds"
   ]
  },
  {
   "cell_type": "code",
   "execution_count": 37,
   "metadata": {
    "scrolled": false
   },
   "outputs": [
    {
     "data": {
      "text/html": [
       "<div>\n",
       "<style scoped>\n",
       "    .dataframe tbody tr th:only-of-type {\n",
       "        vertical-align: middle;\n",
       "    }\n",
       "\n",
       "    .dataframe tbody tr th {\n",
       "        vertical-align: top;\n",
       "    }\n",
       "\n",
       "    .dataframe thead th {\n",
       "        text-align: right;\n",
       "    }\n",
       "</style>\n",
       "<table border=\"1\" class=\"dataframe\">\n",
       "  <thead>\n",
       "    <tr style=\"text-align: right;\">\n",
       "      <th></th>\n",
       "      <th>bdrooms</th>\n",
       "      <th>address</th>\n",
       "      <th>price</th>\n",
       "    </tr>\n",
       "  </thead>\n",
       "  <tbody>\n",
       "    <tr>\n",
       "      <th>495</th>\n",
       "      <td>2 bedroom apartment for sale</td>\n",
       "      <td>Birkbeck Road, London, W3</td>\n",
       "      <td>£680,000</td>\n",
       "    </tr>\n",
       "    <tr>\n",
       "      <th>496</th>\n",
       "      <td>2 bedroom property for sale</td>\n",
       "      <td>Shalimar Road, London, W3</td>\n",
       "      <td>£675,000</td>\n",
       "    </tr>\n",
       "    <tr>\n",
       "      <th>497</th>\n",
       "      <td>2 bedroom flat for sale</td>\n",
       "      <td>Perryn Road, London</td>\n",
       "      <td>£665,000</td>\n",
       "    </tr>\n",
       "    <tr>\n",
       "      <th>498</th>\n",
       "      <td>1 bedroom flat for sale</td>\n",
       "      <td>One West Point, Acton, W3</td>\n",
       "      <td>£651,000</td>\n",
       "    </tr>\n",
       "    <tr>\n",
       "      <th>499</th>\n",
       "      <td>1 bedroom flat for sale</td>\n",
       "      <td>The Green, London, W3</td>\n",
       "      <td>£650,000</td>\n",
       "    </tr>\n",
       "  </tbody>\n",
       "</table>\n",
       "</div>"
      ],
      "text/plain": [
       "                          bdrooms                    address             price\n",
       "495  2 bedroom apartment for sale  Birkbeck Road, London, W3  £680,000        \n",
       "496   2 bedroom property for sale  Shalimar Road, London, W3  £675,000        \n",
       "497       2 bedroom flat for sale        Perryn Road, London  £665,000        \n",
       "498       1 bedroom flat for sale  One West Point, Acton, W3  £651,000        \n",
       "499       1 bedroom flat for sale      The Green, London, W3  £650,000        "
      ]
     },
     "execution_count": 37,
     "metadata": {},
     "output_type": "execute_result"
    }
   ],
   "source": [
    "acton_park_2beds = acton_park_2beds.dropna()\n",
    "acton_park_2beds.tail()"
   ]
  },
  {
   "cell_type": "code",
   "execution_count": 40,
   "metadata": {},
   "outputs": [
    {
     "data": {
      "text/html": [
       "<div>\n",
       "<style scoped>\n",
       "    .dataframe tbody tr th:only-of-type {\n",
       "        vertical-align: middle;\n",
       "    }\n",
       "\n",
       "    .dataframe tbody tr th {\n",
       "        vertical-align: top;\n",
       "    }\n",
       "\n",
       "    .dataframe thead th {\n",
       "        text-align: right;\n",
       "    }\n",
       "</style>\n",
       "<table border=\"1\" class=\"dataframe\">\n",
       "  <thead>\n",
       "    <tr style=\"text-align: right;\">\n",
       "      <th></th>\n",
       "      <th>bdrooms</th>\n",
       "      <th>address</th>\n",
       "      <th>price</th>\n",
       "    </tr>\n",
       "  </thead>\n",
       "  <tbody>\n",
       "    <tr>\n",
       "      <th>495</th>\n",
       "      <td>2 bedroom apartment for sale</td>\n",
       "      <td>Birkbeck Road, London, W3</td>\n",
       "      <td>680000</td>\n",
       "    </tr>\n",
       "    <tr>\n",
       "      <th>496</th>\n",
       "      <td>2 bedroom property for sale</td>\n",
       "      <td>Shalimar Road, London, W3</td>\n",
       "      <td>675000</td>\n",
       "    </tr>\n",
       "    <tr>\n",
       "      <th>497</th>\n",
       "      <td>2 bedroom flat for sale</td>\n",
       "      <td>Perryn Road, London</td>\n",
       "      <td>665000</td>\n",
       "    </tr>\n",
       "    <tr>\n",
       "      <th>498</th>\n",
       "      <td>1 bedroom flat for sale</td>\n",
       "      <td>One West Point, Acton, W3</td>\n",
       "      <td>651000</td>\n",
       "    </tr>\n",
       "    <tr>\n",
       "      <th>499</th>\n",
       "      <td>1 bedroom flat for sale</td>\n",
       "      <td>The Green, London, W3</td>\n",
       "      <td>650000</td>\n",
       "    </tr>\n",
       "  </tbody>\n",
       "</table>\n",
       "</div>"
      ],
      "text/plain": [
       "                          bdrooms                    address   price\n",
       "495  2 bedroom apartment for sale  Birkbeck Road, London, W3  680000\n",
       "496   2 bedroom property for sale  Shalimar Road, London, W3  675000\n",
       "497       2 bedroom flat for sale        Perryn Road, London  665000\n",
       "498       1 bedroom flat for sale  One West Point, Acton, W3  651000\n",
       "499       1 bedroom flat for sale      The Green, London, W3  650000"
      ]
     },
     "execution_count": 40,
     "metadata": {},
     "output_type": "execute_result"
    }
   ],
   "source": [
    "acton_park_2beds['price'] = [int(''.join(filter(str.isdigit, i))) for i in acton_park_2beds['price']]\n",
    "acton_park_2beds.tail()"
   ]
  },
  {
   "cell_type": "code",
   "execution_count": 41,
   "metadata": {},
   "outputs": [
    {
     "data": {
      "text/html": [
       "<div>\n",
       "<style scoped>\n",
       "    .dataframe tbody tr th:only-of-type {\n",
       "        vertical-align: middle;\n",
       "    }\n",
       "\n",
       "    .dataframe tbody tr th {\n",
       "        vertical-align: top;\n",
       "    }\n",
       "\n",
       "    .dataframe thead th {\n",
       "        text-align: right;\n",
       "    }\n",
       "</style>\n",
       "<table border=\"1\" class=\"dataframe\">\n",
       "  <thead>\n",
       "    <tr style=\"text-align: right;\">\n",
       "      <th></th>\n",
       "      <th>price</th>\n",
       "    </tr>\n",
       "  </thead>\n",
       "  <tbody>\n",
       "    <tr>\n",
       "      <th>count</th>\n",
       "      <td>5.000000e+02</td>\n",
       "    </tr>\n",
       "    <tr>\n",
       "      <th>mean</th>\n",
       "      <td>9.256858e+05</td>\n",
       "    </tr>\n",
       "    <tr>\n",
       "      <th>std</th>\n",
       "      <td>9.396068e+05</td>\n",
       "    </tr>\n",
       "    <tr>\n",
       "      <th>min</th>\n",
       "      <td>2.200000e+05</td>\n",
       "    </tr>\n",
       "    <tr>\n",
       "      <th>25%</th>\n",
       "      <td>6.950000e+05</td>\n",
       "    </tr>\n",
       "    <tr>\n",
       "      <th>50%</th>\n",
       "      <td>7.000000e+05</td>\n",
       "    </tr>\n",
       "    <tr>\n",
       "      <th>75%</th>\n",
       "      <td>7.999500e+05</td>\n",
       "    </tr>\n",
       "    <tr>\n",
       "      <th>max</th>\n",
       "      <td>5.500000e+06</td>\n",
       "    </tr>\n",
       "  </tbody>\n",
       "</table>\n",
       "</div>"
      ],
      "text/plain": [
       "              price\n",
       "count  5.000000e+02\n",
       "mean   9.256858e+05\n",
       "std    9.396068e+05\n",
       "min    2.200000e+05\n",
       "25%    6.950000e+05\n",
       "50%    7.000000e+05\n",
       "75%    7.999500e+05\n",
       "max    5.500000e+06"
      ]
     },
     "execution_count": 41,
     "metadata": {},
     "output_type": "execute_result"
    }
   ],
   "source": [
    "acton_park_2beds.describe()"
   ]
  },
  {
   "cell_type": "code",
   "execution_count": 42,
   "metadata": {},
   "outputs": [],
   "source": [
    "# df[df['ids'].str.contains(\"ball\")]"
   ]
  },
  {
   "cell_type": "code",
   "execution_count": 43,
   "metadata": {},
   "outputs": [],
   "source": [
    "acton_2beds = acton_park_2beds[acton_park_2beds['bdrooms'].str.contains('2')]"
   ]
  },
  {
   "cell_type": "code",
   "execution_count": 50,
   "metadata": {},
   "outputs": [],
   "source": [
    "acton_2beds = acton_2beds.drop_duplicates()"
   ]
  },
  {
   "cell_type": "code",
   "execution_count": 51,
   "metadata": {
    "scrolled": true
   },
   "outputs": [
    {
     "data": {
      "text/html": [
       "<div>\n",
       "<style scoped>\n",
       "    .dataframe tbody tr th:only-of-type {\n",
       "        vertical-align: middle;\n",
       "    }\n",
       "\n",
       "    .dataframe tbody tr th {\n",
       "        vertical-align: top;\n",
       "    }\n",
       "\n",
       "    .dataframe thead th {\n",
       "        text-align: right;\n",
       "    }\n",
       "</style>\n",
       "<table border=\"1\" class=\"dataframe\">\n",
       "  <thead>\n",
       "    <tr style=\"text-align: right;\">\n",
       "      <th></th>\n",
       "      <th>bdrooms</th>\n",
       "      <th>address</th>\n",
       "      <th>price</th>\n",
       "    </tr>\n",
       "  </thead>\n",
       "  <tbody>\n",
       "    <tr>\n",
       "      <th>2</th>\n",
       "      <td>2 bedroom flat for sale</td>\n",
       "      <td>The Green, London, W3</td>\n",
       "      <td>950000</td>\n",
       "    </tr>\n",
       "    <tr>\n",
       "      <th>3</th>\n",
       "      <td>2 bedroom apartment for sale</td>\n",
       "      <td>One West Point, Portal West, W3</td>\n",
       "      <td>915000</td>\n",
       "    </tr>\n",
       "    <tr>\n",
       "      <th>4</th>\n",
       "      <td>2 bedroom flat for sale</td>\n",
       "      <td>The Green, London, W3</td>\n",
       "      <td>900000</td>\n",
       "    </tr>\n",
       "    <tr>\n",
       "      <th>5</th>\n",
       "      <td>2 bedroom flat for sale</td>\n",
       "      <td>The Green, London, W3</td>\n",
       "      <td>850000</td>\n",
       "    </tr>\n",
       "    <tr>\n",
       "      <th>6</th>\n",
       "      <td>2 bedroom flat for sale</td>\n",
       "      <td>The Green, London, W3</td>\n",
       "      <td>800000</td>\n",
       "    </tr>\n",
       "  </tbody>\n",
       "</table>\n",
       "</div>"
      ],
      "text/plain": [
       "                        bdrooms                          address   price\n",
       "2       2 bedroom flat for sale            The Green, London, W3  950000\n",
       "3  2 bedroom apartment for sale  One West Point, Portal West, W3  915000\n",
       "4       2 bedroom flat for sale            The Green, London, W3  900000\n",
       "5       2 bedroom flat for sale            The Green, London, W3  850000\n",
       "6       2 bedroom flat for sale            The Green, London, W3  800000"
      ]
     },
     "execution_count": 51,
     "metadata": {},
     "output_type": "execute_result"
    }
   ],
   "source": [
    "acton_2beds.head()"
   ]
  },
  {
   "cell_type": "code",
   "execution_count": 52,
   "metadata": {},
   "outputs": [
    {
     "data": {
      "text/plain": [
       "array(['The Green, London, W3', 'One West Point, Portal West, W3',\n",
       "       'One West Point, Acton, W3', 'One West Point, Portal Way, W3',\n",
       "       '6 Portal Way, North Acton, London', 'Emanuel Avenue, W3',\n",
       "       'Kings Court, King Street, Ealing', 'Emanuel Ave, W3',\n",
       "       'Emanuel Avenue, London', 'Birkbeck Road, London, W3',\n",
       "       'Shalimar Road, London, W3', 'Perryn Road, London',\n",
       "       'Fletcher Road, London, W4', 'Church Road, Acton, W3',\n",
       "       '52 Churchfield Road, London, ,, W3 6DA'], dtype=object)"
      ]
     },
     "execution_count": 52,
     "metadata": {},
     "output_type": "execute_result"
    }
   ],
   "source": [
    "acton_2beds.address.unique()"
   ]
  },
  {
   "cell_type": "code",
   "execution_count": 53,
   "metadata": {},
   "outputs": [
    {
     "data": {
      "text/plain": [
       "count        23.000000\n",
       "mean     721730.434783\n",
       "std      128369.873748\n",
       "min      340000.000000\n",
       "25%      687500.000000\n",
       "50%      700000.000000\n",
       "75%      799950.000000\n",
       "max      950000.000000\n",
       "Name: price, dtype: float64"
      ]
     },
     "execution_count": 53,
     "metadata": {},
     "output_type": "execute_result"
    }
   ],
   "source": [
    "acton_2beds.price.describe()"
   ]
  },
  {
   "cell_type": "code",
   "execution_count": 54,
   "metadata": {},
   "outputs": [
    {
     "data": {
      "image/png": "[encoded data removed]",
      "text/plain": [
       "<Figure size 864x648 with 1 Axes>"
      ]
     },
     "metadata": {
      "needs_background": "light"
     },
     "output_type": "display_data"
    }
   ],
   "source": [
    "acton_2beds.price.hist(figsize=(12,9),grid=False, bins=30);"
   ]
  },
  {
   "cell_type": "code",
   "execution_count": null,
   "metadata": {},
   "outputs": [],
   "source": []
  },
  {
   "cell_type": "code",
   "execution_count": null,
   "metadata": {},
   "outputs": [],
   "source": []
  },
  {
   "cell_type": "code",
   "execution_count": null,
   "metadata": {},
   "outputs": [],
   "source": []
  },
  {
   "cell_type": "code",
   "execution_count": null,
   "metadata": {},
   "outputs": [],
   "source": []
  },
  {
   "cell_type": "code",
   "execution_count": null,
   "metadata": {},
   "outputs": [],
   "source": []
  }
 ],
 "metadata": {
  "kernelspec": {
   "display_name": "Python 3",
   "language": "python",
   "name": "python3"
  },
  "language_info": {
   "codemirror_mode": {
    "name": "ipython",
    "version": 3
   },
   "file_extension": ".py",
   "mimetype": "text/x-python",
   "name": "python",
   "nbconvert_exporter": "python",
   "pygments_lexer": "ipython3",
   "version": "3.8.3"
  }
 },
 "nbformat": 4,
 "nbformat_minor": 4
}
