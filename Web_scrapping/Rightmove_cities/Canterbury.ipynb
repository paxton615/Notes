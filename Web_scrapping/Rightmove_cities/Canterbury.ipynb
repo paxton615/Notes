{
 "cells": [
  {
   "cell_type": "code",
   "execution_count": 1,
   "metadata": {},
   "outputs": [],
   "source": [
    "import requests\n",
    "\n",
    "from bs4 import BeautifulSoup\n",
    "\n",
    "import bs4\n",
    "\n",
    "import pandas as pd\n",
    "\n",
    "import numpy as np\n",
    "\n",
    "from IPython.display import Image"
   ]
  },
  {
   "cell_type": "code",
   "execution_count": 3,
   "metadata": {},
   "outputs": [],
   "source": [
    "url = 'https://www.rightmove.co.uk/property-to-rent/find.html?locationIdentifier=STATION%5E1760&minBedrooms=4&radius=1.0&propertyTypes=detached%2Csemi-detached%2Cterraced&primaryDisplayPropertyType=houses&includeLetAgreed=false&mustHave=&dontShow=&furnishTypes=&keywords='\n",
    "r = requests.get(url)\n",
    "r.text[:300]"
   ]
  },
  {
   "cell_type": "code",
   "execution_count": 9,
   "metadata": {},
   "outputs": [],
   "source": [
    "soup = BeautifulSoup(r.text, 'html.parser')\n",
    "print(soup.prettify()[:1000])"
   ]
  },
  {
   "cell_type": "markdown",
   "metadata": {},
   "source": [
    "### step0\n",
    "get bedrooms, addresses and price per month, individually"
   ]
  },
  {
   "cell_type": "code",
   "execution_count": 14,
   "metadata": {},
   "outputs": [],
   "source": [
    "house_type =[]\n",
    "for num in soup.find_all('h2', class_= 'propertyCard-title'):\n",
    "    house_type.append(num.text.strip())\n",
    "#     print(num.text)"
   ]
  },
  {
   "cell_type": "code",
   "execution_count": 22,
   "metadata": {},
   "outputs": [
    {
     "name": "stdout",
     "output_type": "stream",
     "text": [
      "25\n",
      "['5 bedroom house', '5 bedroom house share', '5 bedroom house share', '4 bedroom semi-detached house', '8 bedroom house share']\n"
     ]
    }
   ],
   "source": [
    "print(len(house_type))\n",
    "print(house_type[:5])"
   ]
  },
  {
   "cell_type": "code",
   "execution_count": 16,
   "metadata": {},
   "outputs": [],
   "source": [
    "house_address = []\n",
    "for add in soup.find_all('address', class_=\"propertyCard-address\"):\n",
    "    for meta in add:\n",
    "        for loc in meta:\n",
    "            if type(loc) is bs4.element.NavigableString:\n",
    "                house_address.append(loc)"
   ]
  },
  {
   "cell_type": "code",
   "execution_count": 20,
   "metadata": {},
   "outputs": [
    {
     "name": "stdout",
     "output_type": "stream",
     "text": [
      "25\n",
      "['St Michaels Road, Canterbury', 'GREEN DELL', 'DOWNS ROAD', 'Tenterden Drive, Canterbury, Kent, CT2', 'Saint Dunstans Street']\n"
     ]
    }
   ],
   "source": [
    "print(len(house_address))\n",
    "print(house_address[:5])"
   ]
  },
  {
   "cell_type": "code",
   "execution_count": 23,
   "metadata": {},
   "outputs": [
    {
     "name": "stdout",
     "output_type": "stream",
     "text": [
      "25\n",
      "['£1,780 pcm', '£390 pcm', '£425 pcm', '£420 pcm', '£365 pcm']\n"
     ]
    }
   ],
   "source": [
    "pcm = []\n",
    "for pc in soup.find_all('span', 'propertyCard-priceValue'):\n",
    "    pcm.append(pc.string)\n",
    "print(len(pcm))\n",
    "print(pcm[:5])"
   ]
  },
  {
   "cell_type": "code",
   "execution_count": 33,
   "metadata": {},
   "outputs": [
    {
     "name": "stdout",
     "output_type": "stream",
     "text": [
      "24\n",
      "48\n"
     ]
    }
   ],
   "source": [
    "# test the page numbers\n",
    "for start in range(24,72,24):\n",
    "    print(start)"
   ]
  },
  {
   "cell_type": "markdown",
   "metadata": {},
   "source": [
    "### step1\n",
    "worked"
   ]
  },
  {
   "cell_type": "code",
   "execution_count": 28,
   "metadata": {},
   "outputs": [],
   "source": [
    "for start in range(24,72,24):\n",
    "    url = 'https://www.rightmove.co.uk/property-to-rent/find.html?locationIdentifier=STATION%5E1760&minBedrooms=4&radius=1.0&index={}&propertyTypes=detached%2Csemi-detached%2Cterraced&primaryDisplayPropertyType=houses&includeLetAgreed=false&mustHave=&dontShow=&furnishTypes=&keywords='.format(start)\n",
    "    r = requests.get(url)\n",
    "#     print(r.text)"
   ]
  },
  {
   "cell_type": "markdown",
   "metadata": {},
   "source": [
    "### step2\n",
    "worked"
   ]
  },
  {
   "cell_type": "code",
   "execution_count": 29,
   "metadata": {},
   "outputs": [],
   "source": [
    "bdrooms = []\n",
    "\n",
    "for start in range(24,72,24):\n",
    "    url = 'https://www.rightmove.co.uk/property-to-rent/find.html?locationIdentifier=STATION%5E1760&minBedrooms=4&radius=1.0&index={}&propertyTypes=detached%2Csemi-detached%2Cterraced&primaryDisplayPropertyType=houses&includeLetAgreed=false&mustHave=&dontShow=&furnishTypes=&keywords='.format(start)\n",
    "    r = requests.get(url)\n",
    "    soup = BeautifulSoup(r.text, \"html.parser\")\n",
    "    \n",
    "    for num in soup.find_all('h2', class_= 'propertyCard-title'):\n",
    "        bdrooms.append(num.text.strip())\n",
    "    "
   ]
  },
  {
   "cell_type": "code",
   "execution_count": 32,
   "metadata": {},
   "outputs": [
    {
     "name": "stdout",
     "output_type": "stream",
     "text": [
      "50\n"
     ]
    },
    {
     "data": {
      "text/plain": [
       "['4 bedroom semi-detached house',\n",
       " '4 bedroom house',\n",
       " '6 bedroom house share',\n",
       " '5 bedroom house share',\n",
       " '4 bedroom house share']"
      ]
     },
     "execution_count": 32,
     "metadata": {},
     "output_type": "execute_result"
    }
   ],
   "source": [
    "print(len(bdrooms))\n",
    "bdrooms[:5]"
   ]
  },
  {
   "cell_type": "markdown",
   "metadata": {},
   "source": [
    "### step3\n",
    "worked"
   ]
  },
  {
   "cell_type": "code",
   "execution_count": 47,
   "metadata": {},
   "outputs": [
    {
     "ename": "TypeError",
     "evalue": "'NoneType' object is not iterable",
     "output_type": "error",
     "traceback": [
      "\u001b[0;31m---------------------------------------------------------------------------\u001b[0m",
      "\u001b[0;31mTypeError\u001b[0m                                 Traceback (most recent call last)",
      "\u001b[0;32m<ipython-input-47-e12b8b94a870>\u001b[0m in \u001b[0;36m<module>\u001b[0;34m\u001b[0m\n\u001b[1;32m     20\u001b[0m         \u001b[0mrent\u001b[0m\u001b[0;34m.\u001b[0m\u001b[0mappend\u001b[0m\u001b[0;34m(\u001b[0m\u001b[0mpc\u001b[0m\u001b[0;34m.\u001b[0m\u001b[0mstring\u001b[0m\u001b[0;34m)\u001b[0m\u001b[0;34m\u001b[0m\u001b[0;34m\u001b[0m\u001b[0m\n\u001b[1;32m     21\u001b[0m \u001b[0;34m\u001b[0m\u001b[0m\n\u001b[0;32m---> 22\u001b[0;31m \u001b[0mrent\u001b[0m \u001b[0;34m=\u001b[0m \u001b[0;34m[\u001b[0m\u001b[0mint\u001b[0m\u001b[0;34m(\u001b[0m\u001b[0;34m''\u001b[0m\u001b[0;34m.\u001b[0m\u001b[0mjoin\u001b[0m\u001b[0;34m(\u001b[0m\u001b[0mfilter\u001b[0m\u001b[0;34m(\u001b[0m\u001b[0mstr\u001b[0m\u001b[0;34m.\u001b[0m\u001b[0misdigit\u001b[0m\u001b[0;34m,\u001b[0m \u001b[0mi\u001b[0m\u001b[0;34m)\u001b[0m\u001b[0;34m)\u001b[0m\u001b[0;34m)\u001b[0m \u001b[0;32mfor\u001b[0m \u001b[0mi\u001b[0m \u001b[0;32min\u001b[0m \u001b[0mrent\u001b[0m\u001b[0;34m]\u001b[0m\u001b[0;34m\u001b[0m\u001b[0;34m\u001b[0m\u001b[0m\n\u001b[0m",
      "\u001b[0;32m<ipython-input-47-e12b8b94a870>\u001b[0m in \u001b[0;36m<listcomp>\u001b[0;34m(.0)\u001b[0m\n\u001b[1;32m     20\u001b[0m         \u001b[0mrent\u001b[0m\u001b[0;34m.\u001b[0m\u001b[0mappend\u001b[0m\u001b[0;34m(\u001b[0m\u001b[0mpc\u001b[0m\u001b[0;34m.\u001b[0m\u001b[0mstring\u001b[0m\u001b[0;34m)\u001b[0m\u001b[0;34m\u001b[0m\u001b[0;34m\u001b[0m\u001b[0m\n\u001b[1;32m     21\u001b[0m \u001b[0;34m\u001b[0m\u001b[0m\n\u001b[0;32m---> 22\u001b[0;31m \u001b[0mrent\u001b[0m \u001b[0;34m=\u001b[0m \u001b[0;34m[\u001b[0m\u001b[0mint\u001b[0m\u001b[0;34m(\u001b[0m\u001b[0;34m''\u001b[0m\u001b[0;34m.\u001b[0m\u001b[0mjoin\u001b[0m\u001b[0;34m(\u001b[0m\u001b[0mfilter\u001b[0m\u001b[0;34m(\u001b[0m\u001b[0mstr\u001b[0m\u001b[0;34m.\u001b[0m\u001b[0misdigit\u001b[0m\u001b[0;34m,\u001b[0m \u001b[0mi\u001b[0m\u001b[0;34m)\u001b[0m\u001b[0;34m)\u001b[0m\u001b[0;34m)\u001b[0m \u001b[0;32mfor\u001b[0m \u001b[0mi\u001b[0m \u001b[0;32min\u001b[0m \u001b[0mrent\u001b[0m\u001b[0;34m]\u001b[0m\u001b[0;34m\u001b[0m\u001b[0;34m\u001b[0m\u001b[0m\n\u001b[0m",
      "\u001b[0;31mTypeError\u001b[0m: 'NoneType' object is not iterable"
     ]
    }
   ],
   "source": [
    "bdrooms = []\n",
    "addresses = []\n",
    "rent = []\n",
    "\n",
    "for start in range(0,480,24):\n",
    "    url = 'https://www.rightmove.co.uk/property-to-rent/find.html?locationIdentifier=STATION%5E1760&minBedrooms=4&radius=1.0&index={}&propertyTypes=detached%2Csemi-detached%2Cterraced&primaryDisplayPropertyType=houses&includeLetAgreed=false&mustHave=&dontShow=&furnishTypes=&keywords='.format(start)\n",
    "    r = requests.get(url)\n",
    "    soup = BeautifulSoup(r.text, \"html.parser\")\n",
    "    \n",
    "    for num in soup.find_all('h2', class_= 'propertyCard-title'):\n",
    "        bdrooms.append(num.text.strip())\n",
    "        \n",
    "    for add in soup.find_all('address', class_=\"propertyCard-address\"):\n",
    "        for meta in add:\n",
    "            for loc in meta:\n",
    "                if type(loc) is bs4.element.NavigableString:\n",
    "                    addresses.append(loc)\n",
    "                    \n",
    "    for pc in soup.find_all('span', 'propertyCard-priceValue'):\n",
    "        rent.append(pc.string)"
   ]
  },
  {
   "cell_type": "code",
   "execution_count": 49,
   "metadata": {
    "scrolled": true
   },
   "outputs": [
    {
     "name": "stdout",
     "output_type": "stream",
     "text": [
      "500\n",
      "['4 bedroom semi-detached house', '5 bedroom semi-detached house', '5 bedroom house share', '5 bedroom house share', '4 bedroom semi-detached house']\n",
      "495\n",
      "['Mead Way, Canterbury', 'Westerham Close, Canterbury, CT2', 'GREEN DELL', 'DOWNS ROAD', 'Tenterden Drive, Canterbury, Kent, CT2']\n",
      "500\n",
      "['£1,640 pcm', '£1,870 pcm', '£390 pcm', '£425 pcm', '£420 pcm']\n"
     ]
    }
   ],
   "source": [
    "print(len(bdrooms))\n",
    "print(bdrooms[:5])\n",
    "print(len(addresses))\n",
    "print(addresses[:5])\n",
    "print(len(rent))\n",
    "print(rent[:5])"
   ]
  },
  {
   "cell_type": "markdown",
   "metadata": {},
   "source": [
    "### step4"
   ]
  },
  {
   "cell_type": "code",
   "execution_count": 51,
   "metadata": {
    "scrolled": true
   },
   "outputs": [
    {
     "data": {
      "text/html": [
       "<div>\n",
       "<style scoped>\n",
       "    .dataframe tbody tr th:only-of-type {\n",
       "        vertical-align: middle;\n",
       "    }\n",
       "\n",
       "    .dataframe tbody tr th {\n",
       "        vertical-align: top;\n",
       "    }\n",
       "\n",
       "    .dataframe thead th {\n",
       "        text-align: right;\n",
       "    }\n",
       "</style>\n",
       "<table border=\"1\" class=\"dataframe\">\n",
       "  <thead>\n",
       "    <tr style=\"text-align: right;\">\n",
       "      <th></th>\n",
       "      <th>bdrooms</th>\n",
       "      <th>address</th>\n",
       "      <th>pcm</th>\n",
       "    </tr>\n",
       "  </thead>\n",
       "  <tbody>\n",
       "    <tr>\n",
       "      <th>495</th>\n",
       "      <td>4 bedroom house</td>\n",
       "      <td>NaN</td>\n",
       "      <td>£1,596 pcm</td>\n",
       "    </tr>\n",
       "    <tr>\n",
       "      <th>496</th>\n",
       "      <td>4 bedroom house</td>\n",
       "      <td>NaN</td>\n",
       "      <td>£1,596 pcm</td>\n",
       "    </tr>\n",
       "    <tr>\n",
       "      <th>497</th>\n",
       "      <td>4 bedroom house</td>\n",
       "      <td>NaN</td>\n",
       "      <td>£1,620 pcm</td>\n",
       "    </tr>\n",
       "    <tr>\n",
       "      <th>498</th>\n",
       "      <td>5 bedroom house</td>\n",
       "      <td>NaN</td>\n",
       "      <td>£1,995 pcm</td>\n",
       "    </tr>\n",
       "    <tr>\n",
       "      <th>499</th>\n",
       "      <td>Property</td>\n",
       "      <td>NaN</td>\n",
       "      <td>None</td>\n",
       "    </tr>\n",
       "  </tbody>\n",
       "</table>\n",
       "</div>"
      ],
      "text/plain": [
       "             bdrooms address         pcm\n",
       "495  4 bedroom house     NaN  £1,596 pcm\n",
       "496  4 bedroom house     NaN  £1,596 pcm\n",
       "497  4 bedroom house     NaN  £1,620 pcm\n",
       "498  5 bedroom house     NaN  £1,995 pcm\n",
       "499         Property     NaN        None"
      ]
     },
     "execution_count": 51,
     "metadata": {},
     "output_type": "execute_result"
    }
   ],
   "source": [
    "canterbury_west_station_1miles = pd.DataFrame({'bdrooms':pd.Series(bdrooms), 'address':pd.Series(addresses), 'pcm':pd.Series(rent)})\n",
    "canterbury_west_station_1miles.head()\n",
    "canterbury_west_station_1miles.tail()"
   ]
  },
  {
   "cell_type": "code",
   "execution_count": 57,
   "metadata": {},
   "outputs": [],
   "source": [
    "canterbury_west_station_1miles = canterbury_west_station_1miles.dropna()"
   ]
  },
  {
   "cell_type": "code",
   "execution_count": 59,
   "metadata": {},
   "outputs": [
    {
     "name": "stderr",
     "output_type": "stream",
     "text": [
      "<ipython-input-59-66fda437f5fe>:1: SettingWithCopyWarning: \n",
      "A value is trying to be set on a copy of a slice from a DataFrame.\n",
      "Try using .loc[row_indexer,col_indexer] = value instead\n",
      "\n",
      "See the caveats in the documentation: https://pandas.pydata.org/pandas-docs/stable/user_guide/indexing.html#returning-a-view-versus-a-copy\n",
      "  canterbury_west_station_1miles['pcm'] = [int(''.join(filter(str.isdigit, i))) for i in canterbury_west_station_1miles['pcm']]\n"
     ]
    }
   ],
   "source": [
    "canterbury_west_station_1miles['pcm'] = [int(''.join(filter(str.isdigit, i))) for i in canterbury_west_station_1miles['pcm']]"
   ]
  },
  {
   "cell_type": "code",
   "execution_count": 60,
   "metadata": {},
   "outputs": [
    {
     "data": {
      "text/html": [
       "<div>\n",
       "<style scoped>\n",
       "    .dataframe tbody tr th:only-of-type {\n",
       "        vertical-align: middle;\n",
       "    }\n",
       "\n",
       "    .dataframe tbody tr th {\n",
       "        vertical-align: top;\n",
       "    }\n",
       "\n",
       "    .dataframe thead th {\n",
       "        text-align: right;\n",
       "    }\n",
       "</style>\n",
       "<table border=\"1\" class=\"dataframe\">\n",
       "  <thead>\n",
       "    <tr style=\"text-align: right;\">\n",
       "      <th></th>\n",
       "      <th>bdrooms</th>\n",
       "      <th>address</th>\n",
       "      <th>pcm</th>\n",
       "    </tr>\n",
       "  </thead>\n",
       "  <tbody>\n",
       "    <tr>\n",
       "      <th>0</th>\n",
       "      <td>4 bedroom semi-detached house</td>\n",
       "      <td>Mead Way, Canterbury</td>\n",
       "      <td>1640</td>\n",
       "    </tr>\n",
       "    <tr>\n",
       "      <th>1</th>\n",
       "      <td>5 bedroom semi-detached house</td>\n",
       "      <td>Westerham Close, Canterbury, CT2</td>\n",
       "      <td>1870</td>\n",
       "    </tr>\n",
       "    <tr>\n",
       "      <th>2</th>\n",
       "      <td>5 bedroom house share</td>\n",
       "      <td>GREEN DELL</td>\n",
       "      <td>390</td>\n",
       "    </tr>\n",
       "    <tr>\n",
       "      <th>3</th>\n",
       "      <td>5 bedroom house share</td>\n",
       "      <td>DOWNS ROAD</td>\n",
       "      <td>425</td>\n",
       "    </tr>\n",
       "    <tr>\n",
       "      <th>4</th>\n",
       "      <td>4 bedroom semi-detached house</td>\n",
       "      <td>Tenterden Drive, Canterbury, Kent, CT2</td>\n",
       "      <td>420</td>\n",
       "    </tr>\n",
       "    <tr>\n",
       "      <th>...</th>\n",
       "      <td>...</td>\n",
       "      <td>...</td>\n",
       "      <td>...</td>\n",
       "    </tr>\n",
       "    <tr>\n",
       "      <th>490</th>\n",
       "      <td>5 bedroom terraced house</td>\n",
       "      <td>Payton Mews, Canterbury, Kent</td>\n",
       "      <td>2300</td>\n",
       "    </tr>\n",
       "    <tr>\n",
       "      <th>491</th>\n",
       "      <td>5 bedroom house</td>\n",
       "      <td>Mary Green Walk, Canterbury, Kent</td>\n",
       "      <td>2025</td>\n",
       "    </tr>\n",
       "    <tr>\n",
       "      <th>492</th>\n",
       "      <td>4 bedroom terraced house</td>\n",
       "      <td>Jessica Mews, Canterbury, Kent</td>\n",
       "      <td>1490</td>\n",
       "    </tr>\n",
       "    <tr>\n",
       "      <th>493</th>\n",
       "      <td>4 bedroom house</td>\n",
       "      <td>Hudson Road, Canterbury, Kent</td>\n",
       "      <td>1700</td>\n",
       "    </tr>\n",
       "    <tr>\n",
       "      <th>494</th>\n",
       "      <td>6 bedroom house</td>\n",
       "      <td>Mead Way, Canterbury, Kent</td>\n",
       "      <td>2340</td>\n",
       "    </tr>\n",
       "  </tbody>\n",
       "</table>\n",
       "<p>491 rows × 3 columns</p>\n",
       "</div>"
      ],
      "text/plain": [
       "                           bdrooms                                 address  \\\n",
       "0    4 bedroom semi-detached house                    Mead Way, Canterbury   \n",
       "1    5 bedroom semi-detached house        Westerham Close, Canterbury, CT2   \n",
       "2            5 bedroom house share                              GREEN DELL   \n",
       "3            5 bedroom house share                              DOWNS ROAD   \n",
       "4    4 bedroom semi-detached house  Tenterden Drive, Canterbury, Kent, CT2   \n",
       "..                             ...                                     ...   \n",
       "490       5 bedroom terraced house           Payton Mews, Canterbury, Kent   \n",
       "491                5 bedroom house       Mary Green Walk, Canterbury, Kent   \n",
       "492       4 bedroom terraced house          Jessica Mews, Canterbury, Kent   \n",
       "493                4 bedroom house           Hudson Road, Canterbury, Kent   \n",
       "494                6 bedroom house              Mead Way, Canterbury, Kent   \n",
       "\n",
       "      pcm  \n",
       "0    1640  \n",
       "1    1870  \n",
       "2     390  \n",
       "3     425  \n",
       "4     420  \n",
       "..    ...  \n",
       "490  2300  \n",
       "491  2025  \n",
       "492  1490  \n",
       "493  1700  \n",
       "494  2340  \n",
       "\n",
       "[491 rows x 3 columns]"
      ]
     },
     "execution_count": 60,
     "metadata": {},
     "output_type": "execute_result"
    }
   ],
   "source": [
    "canterbury_west_station_1miles"
   ]
  },
  {
   "cell_type": "code",
   "execution_count": 61,
   "metadata": {},
   "outputs": [
    {
     "data": {
      "text/html": [
       "<div>\n",
       "<style scoped>\n",
       "    .dataframe tbody tr th:only-of-type {\n",
       "        vertical-align: middle;\n",
       "    }\n",
       "\n",
       "    .dataframe tbody tr th {\n",
       "        vertical-align: top;\n",
       "    }\n",
       "\n",
       "    .dataframe thead th {\n",
       "        text-align: right;\n",
       "    }\n",
       "</style>\n",
       "<table border=\"1\" class=\"dataframe\">\n",
       "  <thead>\n",
       "    <tr style=\"text-align: right;\">\n",
       "      <th></th>\n",
       "      <th>pcm</th>\n",
       "    </tr>\n",
       "  </thead>\n",
       "  <tbody>\n",
       "    <tr>\n",
       "      <th>count</th>\n",
       "      <td>491.000000</td>\n",
       "    </tr>\n",
       "    <tr>\n",
       "      <th>mean</th>\n",
       "      <td>1558.991853</td>\n",
       "    </tr>\n",
       "    <tr>\n",
       "      <th>std</th>\n",
       "      <td>719.683666</td>\n",
       "    </tr>\n",
       "    <tr>\n",
       "      <th>min</th>\n",
       "      <td>300.000000</td>\n",
       "    </tr>\n",
       "    <tr>\n",
       "      <th>25%</th>\n",
       "      <td>1330.000000</td>\n",
       "    </tr>\n",
       "    <tr>\n",
       "      <th>50%</th>\n",
       "      <td>1612.000000</td>\n",
       "    </tr>\n",
       "    <tr>\n",
       "      <th>75%</th>\n",
       "      <td>2000.000000</td>\n",
       "    </tr>\n",
       "    <tr>\n",
       "      <th>max</th>\n",
       "      <td>4465.000000</td>\n",
       "    </tr>\n",
       "  </tbody>\n",
       "</table>\n",
       "</div>"
      ],
      "text/plain": [
       "               pcm\n",
       "count   491.000000\n",
       "mean   1558.991853\n",
       "std     719.683666\n",
       "min     300.000000\n",
       "25%    1330.000000\n",
       "50%    1612.000000\n",
       "75%    2000.000000\n",
       "max    4465.000000"
      ]
     },
     "execution_count": 61,
     "metadata": {},
     "output_type": "execute_result"
    }
   ],
   "source": [
    "canterbury_west_station_1miles.describe()"
   ]
  },
  {
   "cell_type": "code",
   "execution_count": null,
   "metadata": {},
   "outputs": [],
   "source": []
  },
  {
   "cell_type": "code",
   "execution_count": null,
   "metadata": {},
   "outputs": [],
   "source": []
  },
  {
   "cell_type": "code",
   "execution_count": null,
   "metadata": {},
   "outputs": [],
   "source": []
  },
  {
   "cell_type": "code",
   "execution_count": null,
   "metadata": {},
   "outputs": [],
   "source": []
  },
  {
   "cell_type": "code",
   "execution_count": null,
   "metadata": {},
   "outputs": [],
   "source": []
  },
  {
   "cell_type": "code",
   "execution_count": null,
   "metadata": {},
   "outputs": [],
   "source": []
  }
 ],
 "metadata": {
  "kernelspec": {
   "display_name": "Python 3",
   "language": "python",
   "name": "python3"
  },
  "language_info": {
   "codemirror_mode": {
    "name": "ipython",
    "version": 3
   },
   "file_extension": ".py",
   "mimetype": "text/x-python",
   "name": "python",
   "nbconvert_exporter": "python",
   "pygments_lexer": "ipython3",
   "version": "3.8.3"
  }
 },
 "nbformat": 4,
 "nbformat_minor": 4
}
