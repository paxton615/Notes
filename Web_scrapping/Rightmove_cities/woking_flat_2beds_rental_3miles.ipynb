{
 "cells": [
  {
   "cell_type": "code",
   "execution_count": 1,
   "metadata": {},
   "outputs": [],
   "source": [
    "import requests\n",
    "from bs4 import BeautifulSoup\n",
    "import bs4\n",
    "import pandas as pd\n",
    "import numpy as np\n",
    "from IPython.display import Image"
   ]
  },
  {
   "cell_type": "markdown",
   "metadata": {},
   "source": [
    "### Go to rightmove.co.uk, search rental properties in Maidstone, and copy paste to replace the 'url' below"
   ]
  },
  {
   "cell_type": "code",
   "execution_count": 2,
   "metadata": {},
   "outputs": [],
   "source": [
    "bdrooms = []\n",
    "addresses = []\n",
    "rent = []\n",
    "\n",
    "for start in range(0,480,24):\n",
    "    url = 'https://www.rightmove.co.uk/property-to-rent/find.html?locationIdentifier=REGION%5E1474&maxBedrooms=2&minBedrooms=2&radius=1.0&propertyTypes=flat&primaryDisplayPropertyType=flats&includeLetAgreed=false&mustHave=&dontShow=&furnishTypes=&keywords='.format(start)\n",
    "    r = requests.get(url)\n",
    "    soup = BeautifulSoup(r.text, \"html.parser\")\n",
    "    \n",
    "    for num in soup.find_all('h2', class_= 'propertyCard-title'):\n",
    "        bdrooms.append(num.text.strip())\n",
    "        \n",
    "    for add in soup.find_all('address', class_=\"propertyCard-address\"):\n",
    "        for meta in add:\n",
    "            for loc in meta:\n",
    "                if type(loc) is bs4.element.NavigableString:\n",
    "                    addresses.append(loc)\n",
    "                    \n",
    "    for pc in soup.find_all('span', 'propertyCard-priceValue'):\n",
    "        rent.append(pc.string)"
   ]
  },
  {
   "cell_type": "code",
   "execution_count": 3,
   "metadata": {},
   "outputs": [
    {
     "name": "stdout",
     "output_type": "stream",
     "text": [
      "500\n",
      "['2 bedroom apartment', '2 bedroom apartment', '2 bedroom apartment', '2 bedroom apartment', '2 bedroom apartment']\n",
      "500\n",
      "['Woking', 'Woking', 'Park Heights, Constitution Hill, GU22', 'Woking', 'Station Approach, Woking, Surrey, GU22']\n",
      "500\n",
      "['£1,000 pcm', '£1,000 pcm', '£1,350 pcm', '£1,275 pcm', '£1,500 pcm']\n"
     ]
    }
   ],
   "source": [
    "print(len(bdrooms))\n",
    "print(bdrooms[:5])\n",
    "print(len(addresses))\n",
    "print(addresses[:5])\n",
    "print(len(rent))\n",
    "print(rent[:5])"
   ]
  },
  {
   "cell_type": "code",
   "execution_count": 4,
   "metadata": {},
   "outputs": [
    {
     "data": {
      "text/html": [
       "<div>\n",
       "<style scoped>\n",
       "    .dataframe tbody tr th:only-of-type {\n",
       "        vertical-align: middle;\n",
       "    }\n",
       "\n",
       "    .dataframe tbody tr th {\n",
       "        vertical-align: top;\n",
       "    }\n",
       "\n",
       "    .dataframe thead th {\n",
       "        text-align: right;\n",
       "    }\n",
       "</style>\n",
       "<table border=\"1\" class=\"dataframe\">\n",
       "  <thead>\n",
       "    <tr style=\"text-align: right;\">\n",
       "      <th></th>\n",
       "      <th>pcm</th>\n",
       "    </tr>\n",
       "  </thead>\n",
       "  <tbody>\n",
       "    <tr>\n",
       "      <th>count</th>\n",
       "      <td>500.000000</td>\n",
       "    </tr>\n",
       "    <tr>\n",
       "      <th>mean</th>\n",
       "      <td>1185.280000</td>\n",
       "    </tr>\n",
       "    <tr>\n",
       "      <th>std</th>\n",
       "      <td>149.600408</td>\n",
       "    </tr>\n",
       "    <tr>\n",
       "      <th>min</th>\n",
       "      <td>860.000000</td>\n",
       "    </tr>\n",
       "    <tr>\n",
       "      <th>25%</th>\n",
       "      <td>1100.000000</td>\n",
       "    </tr>\n",
       "    <tr>\n",
       "      <th>50%</th>\n",
       "      <td>1200.000000</td>\n",
       "    </tr>\n",
       "    <tr>\n",
       "      <th>75%</th>\n",
       "      <td>1295.000000</td>\n",
       "    </tr>\n",
       "    <tr>\n",
       "      <th>max</th>\n",
       "      <td>1500.000000</td>\n",
       "    </tr>\n",
       "  </tbody>\n",
       "</table>\n",
       "</div>"
      ],
      "text/plain": [
       "               pcm\n",
       "count   500.000000\n",
       "mean   1185.280000\n",
       "std     149.600408\n",
       "min     860.000000\n",
       "25%    1100.000000\n",
       "50%    1200.000000\n",
       "75%    1295.000000\n",
       "max    1500.000000"
      ]
     },
     "execution_count": 4,
     "metadata": {},
     "output_type": "execute_result"
    }
   ],
   "source": [
    "woking_2bedsflat_3ms = pd.DataFrame({'bdrooms':pd.Series(bdrooms), 'address':pd.Series(addresses), 'pcm':pd.Series(rent)})\n",
    "woking_2bedsflat_3ms = woking_2bedsflat_3ms.dropna()\n",
    "woking_2bedsflat_3ms['pcm'] = [int(''.join(filter(str.isdigit, i))) for i in woking_2bedsflat_3ms['pcm']]\n",
    "woking_2bedsflat_3ms.describe()"
   ]
  },
  {
   "cell_type": "code",
   "execution_count": null,
   "metadata": {},
   "outputs": [],
   "source": []
  },
  {
   "cell_type": "code",
   "execution_count": null,
   "metadata": {},
   "outputs": [],
   "source": []
  },
  {
   "cell_type": "code",
   "execution_count": null,
   "metadata": {},
   "outputs": [],
   "source": []
  },
  {
   "cell_type": "code",
   "execution_count": null,
   "metadata": {},
   "outputs": [],
   "source": []
  },
  {
   "cell_type": "code",
   "execution_count": null,
   "metadata": {},
   "outputs": [],
   "source": []
  },
  {
   "cell_type": "code",
   "execution_count": null,
   "metadata": {},
   "outputs": [],
   "source": []
  },
  {
   "cell_type": "code",
   "execution_count": null,
   "metadata": {},
   "outputs": [],
   "source": []
  },
  {
   "cell_type": "code",
   "execution_count": null,
   "metadata": {},
   "outputs": [],
   "source": []
  },
  {
   "cell_type": "code",
   "execution_count": null,
   "metadata": {},
   "outputs": [],
   "source": []
  },
  {
   "cell_type": "code",
   "execution_count": null,
   "metadata": {},
   "outputs": [],
   "source": []
  },
  {
   "cell_type": "code",
   "execution_count": null,
   "metadata": {},
   "outputs": [],
   "source": []
  },
  {
   "cell_type": "code",
   "execution_count": null,
   "metadata": {},
   "outputs": [],
   "source": []
  },
  {
   "cell_type": "code",
   "execution_count": null,
   "metadata": {},
   "outputs": [],
   "source": []
  },
  {
   "cell_type": "code",
   "execution_count": null,
   "metadata": {},
   "outputs": [],
   "source": []
  }
 ],
 "metadata": {
  "kernelspec": {
   "display_name": "Python 3",
   "language": "python",
   "name": "python3"
  },
  "language_info": {
   "codemirror_mode": {
    "name": "ipython",
    "version": 3
   },
   "file_extension": ".py",
   "mimetype": "text/x-python",
   "name": "python",
   "nbconvert_exporter": "python",
   "pygments_lexer": "ipython3",
   "version": "3.8.3"
  }
 },
 "nbformat": 4,
 "nbformat_minor": 4
}
