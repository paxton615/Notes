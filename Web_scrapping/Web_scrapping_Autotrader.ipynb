{
 "cells": [
  {
   "cell_type": "code",
   "execution_count": null,
   "metadata": {},
   "outputs": [],
   "source": [
    "import requests\n",
    "from bs4 import BeautifulSoup\n",
    "import pandas as pd\n",
    "import numpy as np\n",
    "from IPython.display import Image\n"
   ]
  },
  {
   "cell_type": "code",
   "execution_count": null,
   "metadata": {},
   "outputs": [],
   "source": [
    "# Functions\n",
    "def add_pic(pic_name):\n",
    "    return Image(filename='/Users/paxton615/Github_Personal/Notes/Notes/pics/auto/'+ pic_name+'.png')  "
   ]
  },
  {
   "cell_type": "code",
   "execution_count": null,
   "metadata": {},
   "outputs": [],
   "source": [
    "url = 'https://www.autotrader.co.uk/car-search?sort=relevance&postcode=GU216DR&radius=1500&make=AUDI&model=Q2&year-to=2019&fuel-type=Petrol&page=1'\n",
    "r = requests.get(url)"
   ]
  },
  {
   "cell_type": "code",
   "execution_count": null,
   "metadata": {},
   "outputs": [],
   "source": [
    "r.text[:1000]"
   ]
  },
  {
   "cell_type": "code",
   "execution_count": null,
   "metadata": {},
   "outputs": [],
   "source": [
    "soup = BeautifulSoup(r.text, 'html.parser')"
   ]
  },
  {
   "cell_type": "code",
   "execution_count": null,
   "metadata": {},
   "outputs": [],
   "source": [
    "print(soup.prettify())"
   ]
  },
  {
   "cell_type": "code",
   "execution_count": null,
   "metadata": {},
   "outputs": [],
   "source": [
    "add_pic('auto1')"
   ]
  },
  {
   "cell_type": "code",
   "execution_count": null,
   "metadata": {},
   "outputs": [],
   "source": [
    "names = []\n",
    "for tag in soup.find_all('li', class_='search-page__result'):\n",
    "    for word in tag.find_all('h2', class_ = \"listing-title title-wrap\"):\n",
    "        names.append(word.text.strip())"
   ]
  },
  {
   "cell_type": "code",
   "execution_count": null,
   "metadata": {
    "scrolled": true
   },
   "outputs": [],
   "source": [
    "page1"
   ]
  },
  {
   "cell_type": "code",
   "execution_count": null,
   "metadata": {},
   "outputs": [],
   "source": [
    "prices=[]\n",
    "for price in soup.find_all('div', 'vehicle-price'):\n",
    "    prices.append(price.text)"
   ]
  },
  {
   "cell_type": "code",
   "execution_count": null,
   "metadata": {},
   "outputs": [],
   "source": [
    "prices"
   ]
  },
  {
   "cell_type": "code",
   "execution_count": null,
   "metadata": {},
   "outputs": [],
   "source": [
    "names=[]\n",
    "costs=[]\n",
    "for n in range(1,49):\n",
    "    url='https://www.autotrader.co.uk/car-search?sort=relevance&postcode=\\\n",
    "GU216DR&radius=1500&make=AUDI&model=Q2&year-to=2019&fuel-type=Petrol&page={}'.format(n)\n",
    "    \n",
    "    r = requests.get(url)\n",
    "    \n",
    "    soup = BeautifulSoup(r.text, 'html.parser')\n",
    "    \n",
    "    for tag in soup.find_all('li', class_='search-page__result'):\n",
    "        for word in tag.find_all('h2', class_ = \"listing-title title-wrap\"):\n",
    "            names.append(word.text.strip())\n",
    "    \n",
    "    prices=[]\n",
    "    for price in soup.find_all('div', 'vehicle-price'):\n",
    "        costs.append(price.text)"
   ]
  },
  {
   "cell_type": "code",
   "execution_count": null,
   "metadata": {},
   "outputs": [],
   "source": [
    "len(names)"
   ]
  },
  {
   "cell_type": "code",
   "execution_count": null,
   "metadata": {},
   "outputs": [],
   "source": [
    "len(costs)"
   ]
  },
  {
   "cell_type": "code",
   "execution_count": null,
   "metadata": {},
   "outputs": [],
   "source": [
    "price_num = [int(i[1:3]+i[4:7]) for i in costs]"
   ]
  },
  {
   "cell_type": "code",
   "execution_count": null,
   "metadata": {},
   "outputs": [],
   "source": [
    "np.mean(price_num)"
   ]
  },
  {
   "cell_type": "code",
   "execution_count": null,
   "metadata": {},
   "outputs": [],
   "source": [
    "q2 = pd.DataFrame(columns=['types','prices'])"
   ]
  },
  {
   "cell_type": "code",
   "execution_count": null,
   "metadata": {},
   "outputs": [],
   "source": [
    "q2.types = names\n",
    "q2.prices = price_num"
   ]
  },
  {
   "cell_type": "code",
   "execution_count": null,
   "metadata": {},
   "outputs": [],
   "source": [
    "q2.head(20)"
   ]
  },
  {
   "cell_type": "code",
   "execution_count": null,
   "metadata": {},
   "outputs": [],
   "source": [
    "q2.types[0][8:]"
   ]
  },
  {
   "cell_type": "code",
   "execution_count": null,
   "metadata": {},
   "outputs": [],
   "source": [
    "q2.types = [i[8:] for i in q2.types]"
   ]
  },
  {
   "cell_type": "code",
   "execution_count": null,
   "metadata": {},
   "outputs": [],
   "source": [
    "q2.head(20)"
   ]
  },
  {
   "cell_type": "code",
   "execution_count": null,
   "metadata": {},
   "outputs": [],
   "source": [
    "q2_1d4 = q2[q2['types'].str.contains('1.4')]\n",
    "print(len(q2_1d4))"
   ]
  },
  {
   "cell_type": "code",
   "execution_count": null,
   "metadata": {},
   "outputs": [],
   "source": [
    "print('q2_1d4 mean:', q2_1d4.prices.mean())\n",
    "pring"
   ]
  },
  {
   "cell_type": "markdown",
   "metadata": {},
   "source": [
    "### Trying to get more info, such as miles, fuel types , etc..."
   ]
  },
  {
   "cell_type": "code",
   "execution_count": null,
   "metadata": {},
   "outputs": [],
   "source": [
    "url = 'https://www.autotrader.co.uk/car-search?sort=relevance&postcode=GU216DR&radius=1500&make=AUDI&model=Q2&year-to=2019&fuel-type=Petrol&page=1'\n",
    "r = requests.get(url)"
   ]
  },
  {
   "cell_type": "code",
   "execution_count": null,
   "metadata": {},
   "outputs": [],
   "source": [
    "r.text[:1000]"
   ]
  },
  {
   "cell_type": "code",
   "execution_count": null,
   "metadata": {},
   "outputs": [],
   "source": [
    "soup = BeautifulSoup(r.text, 'html.parser')"
   ]
  },
  {
   "cell_type": "code",
   "execution_count": null,
   "metadata": {},
   "outputs": [],
   "source": [
    "print(soup.prettify())"
   ]
  },
  {
   "cell_type": "code",
   "execution_count": null,
   "metadata": {},
   "outputs": [],
   "source": [
    "lst_specs = []\n",
    "for ul in soup.find_all('ul', 'listing-key-specs'):\n",
    "    lst_specs.append(ul.text.strip())\n",
    "print(lst_specs)"
   ]
  },
  {
   "cell_type": "code",
   "execution_count": null,
   "metadata": {},
   "outputs": [],
   "source": [
    "import requests\n",
    "from bs4 import BeautifulSoup\n",
    "import pandas as pd\n",
    "import numpy as np\n",
    "from IPython.display import Image\n",
    "\n",
    "names = []\n",
    "costs = []\n",
    "specs = []\n",
    "for n in range(1,49):\n",
    "    url='https://www.autotrader.co.uk/car-search?sort=relevance&postcode=\\\n",
    "GU216DR&radius=1500&make=AUDI&model=Q2&year-to=2019&fuel-type=Petrol&page={}'.format(n)\n",
    "    \n",
    "    r = requests.get(url)\n",
    "    \n",
    "    soup = BeautifulSoup(r.text, 'html.parser')\n",
    "    \n",
    "    for tag in soup.find_all('li', class_='search-page__result'):\n",
    "        for word in tag.find_all('h2', class_ = \"listing-title title-wrap\"):\n",
    "            names.append(word.text.strip())\n",
    "    \n",
    "    for price in soup.find_all('div', 'vehicle-price'):\n",
    "        costs.append(price.text)\n",
    "        \n",
    "    for ul in soup.find_all('ul', 'listing-key-specs'):\n",
    "        specs.append(ul.text.strip())\n",
    "        \n",
    "    "
   ]
  },
  {
   "cell_type": "code",
   "execution_count": null,
   "metadata": {},
   "outputs": [],
   "source": [
    "# q2_v2 = pd.DataFrame({'type':names, 'prices':costs, 'specs':specs})"
   ]
  },
  {
   "cell_type": "code",
   "execution_count": null,
   "metadata": {},
   "outputs": [],
   "source": [
    "print(len(names))\n",
    "print(len(costs))\n",
    "print(len(specs))"
   ]
  },
  {
   "cell_type": "code",
   "execution_count": null,
   "metadata": {},
   "outputs": [],
   "source": [
    "len(names) #每次搜索结果都不会相同的，以names的数量为准"
   ]
  },
  {
   "cell_type": "code",
   "execution_count": null,
   "metadata": {},
   "outputs": [],
   "source": [
    "len(costs) # 由于很多车没有车价，而是用三行表示一个价格，\n",
    "# 让names与costs数量对应上即可"
   ]
  },
  {
   "cell_type": "code",
   "execution_count": null,
   "metadata": {},
   "outputs": [],
   "source": [
    "costs"
   ]
  },
  {
   "cell_type": "code",
   "execution_count": null,
   "metadata": {},
   "outputs": [],
   "source": [
    "costs_pure = [i for i in costs if 'RRP' not in i and 'Save' not in i]"
   ]
  },
  {
   "cell_type": "code",
   "execution_count": null,
   "metadata": {},
   "outputs": [],
   "source": [
    "len(costs_pure) #至此，车名和价格表的数量就对上了，还差specs"
   ]
  },
  {
   "cell_type": "code",
   "execution_count": null,
   "metadata": {},
   "outputs": [],
   "source": [
    "specs"
   ]
  },
  {
   "cell_type": "code",
   "execution_count": null,
   "metadata": {},
   "outputs": [],
   "source": [
    "specs_v1 = [i for i in specs if i[0:3]=='SUV' or i[0:3]=='CAT']"
   ]
  },
  {
   "cell_type": "code",
   "execution_count": null,
   "metadata": {},
   "outputs": [],
   "source": [
    "len(specs_v1)"
   ]
  },
  {
   "cell_type": "code",
   "execution_count": null,
   "metadata": {},
   "outputs": [],
   "source": [
    "specs_v2 = [i for i in specs if i not in specs_v1]"
   ]
  },
  {
   "cell_type": "code",
   "execution_count": null,
   "metadata": {},
   "outputs": [],
   "source": [
    "specs_v2"
   ]
  },
  {
   "cell_type": "code",
   "execution_count": null,
   "metadata": {},
   "outputs": [],
   "source": [
    "len(specs_v2)"
   ]
  },
  {
   "cell_type": "code",
   "execution_count": null,
   "metadata": {},
   "outputs": [],
   "source": [
    "len([i for i in specs_v2 if 'dealership history' in i])"
   ]
  },
  {
   "cell_type": "code",
   "execution_count": null,
   "metadata": {},
   "outputs": [],
   "source": [
    "specs_v2_noduo = []\n",
    "specs_v2_noduo = [i for i in specs_v2 if i not in specs_v2_noduo]"
   ]
  },
  {
   "cell_type": "code",
   "execution_count": null,
   "metadata": {},
   "outputs": [],
   "source": [
    "len(specs_v2_noduo)"
   ]
  },
  {
   "cell_type": "markdown",
   "metadata": {},
   "source": [
    "### 发现一个很奇怪的现象：\n",
    "右键产生的 view page source 和 inspect 会给出不同的web结构... \n",
    "\n",
    "以上是inspect后查找的结果\n",
    "\n",
    "以下是 view page source的探索结果 ..."
   ]
  },
  {
   "cell_type": "code",
   "execution_count": null,
   "metadata": {},
   "outputs": [],
   "source": [
    "url = 'https://www.autotrader.co.uk/car-search?advertClassification=standard&postcode=GU216DR&make=AUDI&model=Q2&onesearchad=Used&onesearchad=Nearly%20New&onesearchad=New&advertising-location=at_cars&is-quick-search=TRUE&include-delivery-option=on&page=1'\n",
    "r2 = requests.get(url)"
   ]
  },
  {
   "cell_type": "code",
   "execution_count": null,
   "metadata": {},
   "outputs": [],
   "source": [
    "r2.status_code"
   ]
  },
  {
   "cell_type": "code",
   "execution_count": null,
   "metadata": {},
   "outputs": [],
   "source": [
    "soup2 = BeautifulSoup(r2.text , 'html.parser')"
   ]
  },
  {
   "cell_type": "code",
   "execution_count": null,
   "metadata": {},
   "outputs": [],
   "source": [
    "for di in soup2.find_all('div', 'advert-card-pricing__price'):\n",
    "    print(di.text)"
   ]
  },
  {
   "cell_type": "code",
   "execution_count": null,
   "metadata": {},
   "outputs": [],
   "source": [
    "for u in soup2.find_all('ul', \"listing-key-specs\"):\n",
    "    print(u.text)"
   ]
  },
  {
   "cell_type": "code",
   "execution_count": null,
   "metadata": {},
   "outputs": [],
   "source": [
    "for name in soup2.find_all('h3', \"advert-card-details__title\"):\n",
    "    print(name.text)"
   ]
  },
  {
   "cell_type": "code",
   "execution_count": 23,
   "metadata": {},
   "outputs": [],
   "source": [
    "names.clear()\n",
    "costs.clear()\n",
    "specs.clear()"
   ]
  },
  {
   "cell_type": "code",
   "execution_count": 24,
   "metadata": {},
   "outputs": [],
   "source": [
    "import requests\n",
    "from bs4 import BeautifulSoup\n",
    "import pandas as pd\n",
    "import numpy as np\n",
    "from IPython.display import Image\n",
    "\n",
    "names = []\n",
    "costs = []\n",
    "specs = []\n",
    "for n in range(1,5):\n",
    "    url='https://www.autotrader.co.uk/car-search?advertClassification=standard&postcode=\\\n",
    "    GU216DR&make=AUDI&model=Q2&onesearchad=Used&onesearchad=\\\n",
    "    Nearly%20New&onesearchad=New&advertising-location=\\\n",
    "    at_cars&is-quick-search=TRUE&include-delivery-option=on&page={}'.format(n)\n",
    "    \n",
    "    r2 = requests.get(url)\n",
    "    \n",
    "    soup2 = BeautifulSoup(r2.text, 'html.parser')\n",
    "    \n",
    "    for cost in soup2.find_all('div', 'advert-card-pricing__price'):\n",
    "        costs.append(cost.text.strip())\n",
    "    \n",
    "    for name in soup2.find_all('h3', \"advert-card-details__title\"):\n",
    "        names.append(name.text.strip())\n",
    "        \n",
    "    for u in soup2.find_all('ul', \"listing-key-specs\"):\n",
    "        specs.append(u.text)\n",
    "        "
   ]
  },
  {
   "cell_type": "code",
   "execution_count": 25,
   "metadata": {
    "scrolled": true
   },
   "outputs": [
    {
     "data": {
      "text/plain": [
       "['Audi Q2 1.6 TDI 30 Black Edition (s/s) 5dr',\n",
       " 'Audi Q2 1.4 TFSI CoD Edition 1 S Tronic (s/s) 5dr',\n",
       " 'Audi Q2 TFSI S LINE 1.4 5dr',\n",
       " 'Audi Q2 1.4 T FSi S-Line 5dr',\n",
       " 'Audi Q2 1.0 TFSI Sport 5dr',\n",
       " 'Audi Q2 1.6 TDI S Line 5dr S Tronic',\n",
       " 'Audi Q2 1.4 TFSI CoD Sport (s/s) 5dr',\n",
       " 'Audi Q2 30 TDI S Line 5dr 1.6',\n",
       " 'Audi Q2 Sport 1.0 5dr',\n",
       " 'Audi Q2 1.6 TDI S LINE 5d 114 BHP',\n",
       " 'Audi AUDI Q2 Black Edition 35 TFSI 150 PS S tronic 1.5 5dr',\n",
       " 'Audi Q2 2.0 TDI S line S Tronic quattro (s/s) 5dr',\n",
       " 'Audi Q2 1.0 TFSI Sport (s/s) 5dr',\n",
       " 'Audi Q2 1.5 TFSI CoD 35 Black Edition S Tronic (s/s) 5dr',\n",
       " 'Audi Q2 1.0 TFSI S LINE 5d 114 BHP APPLE CAR PLAY SAT NAV USB …',\n",
       " 'Audi Q2 1.0 TFSI 30 SE (s/s) 5dr',\n",
       " 'Audi Q2 2.0 TDI Edition 1 S Tronic quattro (s/s) 5dr',\n",
       " 'Audi Q2 1.4 TFSI Sport 5dr Petrol Estate',\n",
       " 'Audi 1.4 Q2 S LINE EDITION 1 TFSI+BLACK EDITION+ NARDO GREY …',\n",
       " 'Audi Q2 30 TDI Sport 5dr S Tronic 1.6',\n",
       " 'Audi Q2 1.4 TFSI CoD Sport S Tronic (s/s) 5dr',\n",
       " 'Audi AUDI Q2 Technik 35 TFSI 150 PS S tronic 1.5 5dr']"
      ]
     },
     "execution_count": 25,
     "metadata": {},
     "output_type": "execute_result"
    }
   ],
   "source": [
    "names"
   ]
  },
  {
   "cell_type": "code",
   "execution_count": 26,
   "metadata": {},
   "outputs": [
    {
     "data": {
      "text/plain": [
       "22"
      ]
     },
     "execution_count": 26,
     "metadata": {},
     "output_type": "execute_result"
    }
   ],
   "source": [
    "len(names)"
   ]
  },
  {
   "cell_type": "code",
   "execution_count": 27,
   "metadata": {
    "scrolled": true
   },
   "outputs": [
    {
     "data": {
      "text/plain": [
       "['£22,495',\n",
       " '£23,450',\n",
       " '£19,500',\n",
       " '£20,000',\n",
       " '£19,293',\n",
       " '£20,500',\n",
       " '£16,999',\n",
       " '£19,700',\n",
       " '£18,490',\n",
       " '£15,500',\n",
       " '£32,845',\n",
       " '£16,900',\n",
       " '£16,500',\n",
       " '£25,489',\n",
       " '£19,995',\n",
       " '£17,795',\n",
       " '£23,148',\n",
       " '£18,000',\n",
       " '£24,038',\n",
       " '£19,392',\n",
       " '£18,949',\n",
       " '£26,239']"
      ]
     },
     "execution_count": 27,
     "metadata": {},
     "output_type": "execute_result"
    }
   ],
   "source": [
    "costs"
   ]
  },
  {
   "cell_type": "code",
   "execution_count": 28,
   "metadata": {},
   "outputs": [
    {
     "data": {
      "text/plain": [
       "22"
      ]
     },
     "execution_count": 28,
     "metadata": {},
     "output_type": "execute_result"
    }
   ],
   "source": [
    "len(costs)"
   ]
  },
  {
   "cell_type": "markdown",
   "metadata": {},
   "source": [
    "## 经过反复的实验，528这个数字一直不停的出现，我认为在我对spec进行爬取的时候，不知为何，我怕取的是整个spec库，而不是对应的每量车的性能数据。但奇怪的是，在网页代码中，是可以看到每辆车的性能数据的... 所见如何才能变成所得？\\\n",
    "## 我将搜索页数变成1-20页，specs长度变成了209... 再换个数据试试看\n",
    "\n",
    "## 将搜索页数变成1-5， names长度22， specs长度44"
   ]
  },
  {
   "cell_type": "code",
   "execution_count": 29,
   "metadata": {},
   "outputs": [
    {
     "data": {
      "text/plain": [
       "['\\n2017 (17 reg)\\nSUV\\n55,276 miles\\n2.0L\\n150PS\\nAutomatic\\nDiesel\\nULEZ\\n',\n",
       " '\\n2017 (17 reg)\\nSUV\\n65,279 miles\\n1.6L\\n116PS\\nAutomatic\\nDiesel\\n1 owner\\nULEZ\\n',\n",
       " '\\n2017 (17 reg)\\nSUV\\n70,803 miles\\n2.0L\\n150PS\\nAutomatic\\nDiesel\\n1 owner\\nFull service history\\nULEZ\\n',\n",
       " '\\n2018 (68 reg)\\nSUV\\n10,623 miles\\n1.6L\\n116PS\\nManual\\nDiesel\\nULEZ\\n',\n",
       " '\\n2017 (17 reg)\\nSUV\\n22,388 miles\\n1.4L\\n150PS\\nAutomatic\\nPetrol\\nULEZ\\n',\n",
       " '\\n2017 (17 reg)\\nSUV\\n29,997 miles\\n1.4L\\n150PS\\nAutomatic\\nPetrol\\n1 owner\\nULEZ\\n',\n",
       " '\\n2017 (17 reg)\\nSUV\\n47,451 miles\\n1.4L\\n150PS\\nManual\\nPetrol\\nULEZ\\n',\n",
       " '\\n2017 (67 reg)\\nSUV\\n20,710 miles\\n1.4L\\n150PS\\nManual\\nPetrol\\n1 owner\\nULEZ\\n',\n",
       " '\\n2019 (68 reg)\\nSUV\\n8,000 miles\\n1.6L\\n114BHP\\nManual\\nDiesel\\nFull service history\\nULEZ\\n',\n",
       " '\\n2017 (17 reg)\\nSUV\\n66,000 miles\\n1.4L\\n150PS\\nAutomatic\\nPetrol\\nPart service history\\nULEZ\\n',\n",
       " '\\nSUV\\n1.6L\\n116PS\\nManual\\nDiesel\\nULEZ\\n',\n",
       " '\\n2017 (67 reg)\\nSUV\\n20,000 miles\\n1.4L\\n150PS\\nManual\\nPetrol\\nFull dealership history\\nULEZ\\n',\n",
       " '\\n2017 (66 reg)\\nSUV\\n21,282 miles\\n1.6L\\n116PS\\nManual\\nDiesel\\nULEZ\\n',\n",
       " '\\n2017 (17 reg)\\nSUV\\n20,729 miles\\n1.0L\\n116PS\\nManual\\nPetrol\\n1 owner\\nULEZ\\n',\n",
       " '\\n2019 (19 reg)\\nSUV\\n15,375 miles\\n1.0L\\n116PS\\nManual\\nPetrol\\nULEZ\\n',\n",
       " '\\n2017 (17 reg)\\nSUV\\n24,591 miles\\n1.0L\\n116PS\\nManual\\nPetrol\\nULEZ\\n',\n",
       " '\\n2018 (18 reg)\\nSUV\\n12,500 miles\\n2.0L\\n150PS\\nAutomatic\\nDiesel\\n2 owners\\nULEZ\\n',\n",
       " '\\n2017 (17 reg)\\nSUV\\n18,624 miles\\n1.4L\\n150PS\\nAutomatic\\nPetrol\\nULEZ\\n',\n",
       " '\\n2017 (17 reg)\\nSUV\\n18,850 miles\\n1.4L\\n150PS\\nAutomatic\\nPetrol\\nULEZ\\n',\n",
       " '\\n2018 (68 reg)\\nSUV\\n10,020 miles\\n1.6L\\n116PS\\nAutomatic\\nDiesel\\nULEZ\\n',\n",
       " '\\n2017 (17 reg)\\nSUV\\n19,088 miles\\n1.4L\\n150PS\\nManual\\nPetrol\\nULEZ\\n',\n",
       " '\\nSUV\\n2.0L\\n150PS\\nAutomatic\\nDiesel\\nULEZ\\n',\n",
       " '\\n2019 (69 reg)\\nSUV\\n10,500 miles\\n1.6L\\n116PS\\nManual\\nDiesel\\n1 owner\\nULEZ\\n',\n",
       " '\\n2017 (67 reg)\\nSUV\\n18,000 miles\\n1.4L\\n150PS\\nAutomatic\\nPetrol\\n1 owner\\nULEZ\\n',\n",
       " '\\n2018 (18 reg)\\nSUV\\n12,167 miles\\n1.4L\\n150PS\\nManual\\nPetrol\\nULEZ\\n',\n",
       " '\\n2018 (18 reg)\\nSUV\\n15,048 miles\\n1.4L\\n150PS\\nManual\\nPetrol\\nULEZ\\n',\n",
       " '\\n2019 (19 reg)\\nSUV\\n4,770 miles\\n1.0L\\n116PS\\nManual\\nPetrol\\nULEZ\\n',\n",
       " '\\n2018 (68 reg)\\nSUV\\n6,734 miles\\n1.6L\\n116PS\\nAutomatic\\nDiesel\\nULEZ\\n',\n",
       " '\\n2017 (17 reg)\\nSUV\\n18,571 miles\\n1.4L\\n150PS\\nManual\\nPetrol\\n1 owner\\nULEZ\\n',\n",
       " '\\n2018 (68 reg)\\nSUV\\n13,696 miles\\n1.6L\\n116PS\\nManual\\nDiesel\\nULEZ\\n',\n",
       " '\\n2018 (18 reg)\\nSUV\\n12,900 miles\\n1.0L\\n116PS\\nManual\\nPetrol\\nULEZ\\n',\n",
       " '\\n2016 (66 reg)\\nSUV\\n60,922 miles\\n116PS\\nManual\\nDiesel\\nPart service history\\nULEZ\\n',\n",
       " '\\nSUV\\n1.5L\\n150PS\\nAutomatic\\nPetrol\\nFirst year road tax included\\nFull manufacturer warranty\\nULEZ\\n',\n",
       " '\\n2018 (67 reg)\\nSUV\\n21,302 miles\\n2.0L\\n150PS\\nAutomatic\\nDiesel\\n2 owners\\nULEZ\\n',\n",
       " '\\n2017 (67 reg)\\nSUV\\n22,000 miles\\n1.0L\\n116PS\\nManual\\nPetrol\\n1 owner\\nULEZ\\n',\n",
       " '\\n2019 (19 reg)\\nSUV\\n14,600 miles\\n1.5L\\n150PS\\nAutomatic\\nPetrol\\n1 owner\\nULEZ\\n',\n",
       " '\\n2018 (18 reg)\\nSUV\\n8,943 miles\\n1.0L\\n114BHP\\nManual\\nPetrol\\nULEZ\\n',\n",
       " '\\n2019 (19 reg)\\nSUV\\n8,000 miles\\n1.0L\\n116PS\\nManual\\nPetrol\\n1 owner\\nULEZ\\n',\n",
       " '\\n2018 (18 reg)\\nSUV\\n44,587 miles\\n2.0L\\n150PS\\nAutomatic\\nDiesel\\n2 owners\\nULEZ\\n',\n",
       " '\\n2018 (67 reg)\\nSUV\\n31,606 miles\\n1.4L\\n150PS\\nManual\\nPetrol\\nULEZ\\n',\n",
       " '\\n2017 (67 reg)\\nSUV\\n16,700 miles\\n1.4L\\n148BHP\\nAutomatic\\nPetrol\\nFull service history\\nULEZ\\n',\n",
       " '\\n2018 (68 reg)\\nSUV\\n16,138 miles\\n1.6L\\n116PS\\nAutomatic\\nDiesel\\nULEZ\\n',\n",
       " '\\n2017 (17 reg)\\nSUV\\n15,000 miles\\n1.4L\\n150PS\\nAutomatic\\nPetrol\\n1 owner\\nULEZ\\n',\n",
       " '\\nSUV\\n1.5L\\n150PS\\nAutomatic\\nPetrol\\nFirst year road tax included\\nFull manufacturer warranty\\nULEZ\\n']"
      ]
     },
     "execution_count": 29,
     "metadata": {},
     "output_type": "execute_result"
    }
   ],
   "source": [
    "specs"
   ]
  },
  {
   "cell_type": "code",
   "execution_count": 30,
   "metadata": {},
   "outputs": [
    {
     "data": {
      "text/plain": [
       "44"
      ]
     },
     "execution_count": 30,
     "metadata": {},
     "output_type": "execute_result"
    }
   ],
   "source": [
    "len(specs)"
   ]
  },
  {
   "cell_type": "code",
   "execution_count": null,
   "metadata": {},
   "outputs": [],
   "source": [
    "for u in soup2.find_all('ul', \"listing-key-specs\"):\n",
    "        for li in u:\n",
    "            specs.append(li.string)"
   ]
  },
  {
   "cell_type": "code",
   "execution_count": null,
   "metadata": {},
   "outputs": [],
   "source": []
  }
 ],
 "metadata": {
  "kernelspec": {
   "display_name": "Python 3",
   "language": "python",
   "name": "python3"
  },
  "language_info": {
   "codemirror_mode": {
    "name": "ipython",
    "version": 3
   },
   "file_extension": ".py",
   "mimetype": "text/x-python",
   "name": "python",
   "nbconvert_exporter": "python",
   "pygments_lexer": "ipython3",
   "version": "3.7.4"
  }
 },
 "nbformat": 4,
 "nbformat_minor": 4
}
