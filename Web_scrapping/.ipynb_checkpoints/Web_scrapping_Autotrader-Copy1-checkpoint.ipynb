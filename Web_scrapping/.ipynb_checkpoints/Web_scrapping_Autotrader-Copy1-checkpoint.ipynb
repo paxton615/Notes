{
 "cells": [
  {
   "cell_type": "code",
   "execution_count": 1,
   "metadata": {},
   "outputs": [],
   "source": [
    "import requests\n",
    "from bs4 import BeautifulSoup\n",
    "import pandas as pd\n",
    "import numpy as np\n",
    "from IPython.display import Image\n"
   ]
  },
  {
   "cell_type": "code",
   "execution_count": null,
   "metadata": {},
   "outputs": [],
   "source": [
    "# Functions\n",
    "\n",
    "# add pics\n",
    "def add_pic(pic_name):\n",
    "    return Image(filename='/Users/paxton615/Github_Personal/Notes/Notes/pics/auto/'+ pic_name+'.png')  "
   ]
  },
  {
   "cell_type": "code",
   "execution_count": null,
   "metadata": {},
   "outputs": [],
   "source": [
    "url = 'https://www.autotrader.co.uk/car-search?sort=relevance&postcode=GU216DR&radius=1500&make=AUDI&model=Q2&year-to=2019&fuel-type=Petrol&page=1'\n",
    "r = requests.get(url)"
   ]
  },
  {
   "cell_type": "code",
   "execution_count": null,
   "metadata": {},
   "outputs": [],
   "source": [
    "r.text[:1000]"
   ]
  },
  {
   "cell_type": "code",
   "execution_count": null,
   "metadata": {},
   "outputs": [],
   "source": [
    "soup = BeautifulSoup(r.text, 'html.parser')"
   ]
  },
  {
   "cell_type": "code",
   "execution_count": null,
   "metadata": {},
   "outputs": [],
   "source": [
    "print(soup.prettify())"
   ]
  },
  {
   "cell_type": "code",
   "execution_count": null,
   "metadata": {},
   "outputs": [],
   "source": [
    "add_pic('auto1')"
   ]
  },
  {
   "cell_type": "code",
   "execution_count": null,
   "metadata": {},
   "outputs": [],
   "source": [
    "names = []\n",
    "for tag in soup.find_all('li', class_='search-page__result'):\n",
    "    for word in tag.find_all('h2', class_ = \"listing-title title-wrap\"):\n",
    "        names.append(word.text.strip())"
   ]
  },
  {
   "cell_type": "code",
   "execution_count": null,
   "metadata": {
    "scrolled": true
   },
   "outputs": [],
   "source": [
    "page1"
   ]
  },
  {
   "cell_type": "code",
   "execution_count": null,
   "metadata": {},
   "outputs": [],
   "source": [
    "prices=[]\n",
    "for price in soup.find_all('div', 'vehicle-price'):\n",
    "    prices.append(price.text)"
   ]
  },
  {
   "cell_type": "code",
   "execution_count": null,
   "metadata": {},
   "outputs": [],
   "source": [
    "prices"
   ]
  },
  {
   "cell_type": "code",
   "execution_count": null,
   "metadata": {},
   "outputs": [],
   "source": [
    "names=[]\n",
    "costs=[]\n",
    "for n in range(1,49):\n",
    "    url='https://www.autotrader.co.uk/car-search?sort=relevance&postcode=\\\n",
    "GU216DR&radius=1500&make=AUDI&model=Q2&year-to=2019&fuel-type=Petrol&page={}'.format(n)\n",
    "    \n",
    "    r = requests.get(url)\n",
    "    \n",
    "    soup = BeautifulSoup(r.text, 'html.parser')\n",
    "    \n",
    "    for tag in soup.find_all('li', class_='search-page__result'):\n",
    "        for word in tag.find_all('h2', class_ = \"listing-title title-wrap\"):\n",
    "            names.append(word.text.strip())\n",
    "    \n",
    "    prices=[]\n",
    "    for price in soup.find_all('div', 'vehicle-price'):\n",
    "        costs.append(price.text)"
   ]
  },
  {
   "cell_type": "code",
   "execution_count": null,
   "metadata": {},
   "outputs": [],
   "source": [
    "len(names)"
   ]
  },
  {
   "cell_type": "code",
   "execution_count": null,
   "metadata": {},
   "outputs": [],
   "source": [
    "len(costs)"
   ]
  },
  {
   "cell_type": "code",
   "execution_count": null,
   "metadata": {},
   "outputs": [],
   "source": [
    "price_num = [int(i[1:3]+i[4:7]) for i in costs]"
   ]
  },
  {
   "cell_type": "code",
   "execution_count": null,
   "metadata": {},
   "outputs": [],
   "source": [
    "np.mean(price_num)"
   ]
  },
  {
   "cell_type": "code",
   "execution_count": null,
   "metadata": {},
   "outputs": [],
   "source": [
    "q2 = pd.DataFrame(columns=['types','prices'])"
   ]
  },
  {
   "cell_type": "code",
   "execution_count": null,
   "metadata": {},
   "outputs": [],
   "source": [
    "q2.types = names\n",
    "q2.prices = price_num"
   ]
  },
  {
   "cell_type": "code",
   "execution_count": null,
   "metadata": {},
   "outputs": [],
   "source": [
    "q2.head(20)"
   ]
  },
  {
   "cell_type": "code",
   "execution_count": null,
   "metadata": {},
   "outputs": [],
   "source": [
    "q2.types[0][8:]"
   ]
  },
  {
   "cell_type": "code",
   "execution_count": null,
   "metadata": {},
   "outputs": [],
   "source": [
    "q2.types = [i[8:] for i in q2.types]"
   ]
  },
  {
   "cell_type": "code",
   "execution_count": null,
   "metadata": {},
   "outputs": [],
   "source": [
    "q2.head(20)"
   ]
  },
  {
   "cell_type": "code",
   "execution_count": null,
   "metadata": {},
   "outputs": [],
   "source": [
    "q2_1d4 = q2[q2['types'].str.contains('1.4')]\n",
    "print(len(q2_1d4))"
   ]
  },
  {
   "cell_type": "code",
   "execution_count": null,
   "metadata": {},
   "outputs": [],
   "source": [
    "print('q2_1d4 mean:', q2_1d4.prices.mean())\n",
    "pring"
   ]
  },
  {
   "cell_type": "markdown",
   "metadata": {},
   "source": [
    "### Trying to get more info, such as miles, fuel types , etc..."
   ]
  },
  {
   "cell_type": "code",
   "execution_count": null,
   "metadata": {},
   "outputs": [],
   "source": [
    "url = 'https://www.autotrader.co.uk/car-search?sort=relevance&postcode=GU216DR&radius=1500&make=AUDI&model=Q2&year-to=2019&fuel-type=Petrol&page=1'\n",
    "r = requests.get(url)"
   ]
  },
  {
   "cell_type": "code",
   "execution_count": null,
   "metadata": {},
   "outputs": [],
   "source": [
    "r.text[:1000]"
   ]
  },
  {
   "cell_type": "code",
   "execution_count": null,
   "metadata": {},
   "outputs": [],
   "source": [
    "soup = BeautifulSoup(r.text, 'html.parser')"
   ]
  },
  {
   "cell_type": "code",
   "execution_count": null,
   "metadata": {},
   "outputs": [],
   "source": [
    "print(soup.prettify())"
   ]
  },
  {
   "cell_type": "code",
   "execution_count": null,
   "metadata": {},
   "outputs": [],
   "source": [
    "lst_specs = []\n",
    "for ul in soup.find_all('ul', 'listing-key-specs'):\n",
    "    lst_specs.append(ul.text.strip())\n",
    "print(lst_specs)"
   ]
  },
  {
   "cell_type": "code",
   "execution_count": null,
   "metadata": {},
   "outputs": [],
   "source": [
    "import requests\n",
    "from bs4 import BeautifulSoup\n",
    "import pandas as pd\n",
    "import numpy as np\n",
    "from IPython.display import Image\n",
    "\n",
    "names = []\n",
    "costs = []\n",
    "specs = []\n",
    "for n in range(1,49):\n",
    "    url='https://www.autotrader.co.uk/car-search?sort=relevance&postcode=\\\n",
    "GU216DR&radius=1500&make=AUDI&model=Q2&year-to=2019&fuel-type=Petrol&page={}'.format(n)\n",
    "    \n",
    "    r = requests.get(url)\n",
    "    \n",
    "    soup = BeautifulSoup(r.text, 'html.parser')\n",
    "    \n",
    "    for tag in soup.find_all('li', class_='search-page__result'):\n",
    "        for word in tag.find_all('h2', class_ = \"listing-title title-wrap\"):\n",
    "            names.append(word.text.strip())\n",
    "    \n",
    "    for price in soup.find_all('div', 'vehicle-price'):\n",
    "        costs.append(price.text)\n",
    "        \n",
    "    for ul in soup.find_all('ul', 'listing-key-specs'):\n",
    "        specs.append(ul.text.strip())\n",
    "        \n",
    "    "
   ]
  },
  {
   "cell_type": "code",
   "execution_count": null,
   "metadata": {},
   "outputs": [],
   "source": [
    "# q2_v2 = pd.DataFrame({'type':names, 'prices':costs, 'specs':specs})"
   ]
  },
  {
   "cell_type": "code",
   "execution_count": null,
   "metadata": {},
   "outputs": [],
   "source": [
    "print(len(names))\n",
    "print(len(costs))\n",
    "print(len(specs))"
   ]
  },
  {
   "cell_type": "code",
   "execution_count": null,
   "metadata": {},
   "outputs": [],
   "source": [
    "len(names) #每次搜索结果都不会相同的，以names的数量为准"
   ]
  },
  {
   "cell_type": "code",
   "execution_count": null,
   "metadata": {},
   "outputs": [],
   "source": [
    "len(costs) # 由于很多车没有车价，而是用三行表示一个价格，\n",
    "# 让names与costs数量对应上即可"
   ]
  },
  {
   "cell_type": "code",
   "execution_count": null,
   "metadata": {},
   "outputs": [],
   "source": [
    "costs"
   ]
  },
  {
   "cell_type": "code",
   "execution_count": null,
   "metadata": {},
   "outputs": [],
   "source": [
    "costs_pure = [i for i in costs if 'RRP' not in i and 'Save' not in i]"
   ]
  },
  {
   "cell_type": "code",
   "execution_count": null,
   "metadata": {},
   "outputs": [],
   "source": [
    "len(costs_pure) #至此，车名和价格表的数量就对上了，还差specs"
   ]
  },
  {
   "cell_type": "code",
   "execution_count": null,
   "metadata": {},
   "outputs": [],
   "source": [
    "specs"
   ]
  },
  {
   "cell_type": "code",
   "execution_count": null,
   "metadata": {},
   "outputs": [],
   "source": [
    "specs_v1 = [i for i in specs if i[0:3]=='SUV' or i[0:3]=='CAT']"
   ]
  },
  {
   "cell_type": "code",
   "execution_count": null,
   "metadata": {},
   "outputs": [],
   "source": [
    "len(specs_v1)"
   ]
  },
  {
   "cell_type": "code",
   "execution_count": null,
   "metadata": {},
   "outputs": [],
   "source": [
    "specs_v2 = [i for i in specs if i not in specs_v1]"
   ]
  },
  {
   "cell_type": "code",
   "execution_count": null,
   "metadata": {},
   "outputs": [],
   "source": [
    "specs_v2"
   ]
  },
  {
   "cell_type": "code",
   "execution_count": null,
   "metadata": {},
   "outputs": [],
   "source": [
    "len(specs_v2)"
   ]
  },
  {
   "cell_type": "code",
   "execution_count": null,
   "metadata": {},
   "outputs": [],
   "source": [
    "len([i for i in specs_v2 if 'dealership history' in i])"
   ]
  },
  {
   "cell_type": "code",
   "execution_count": null,
   "metadata": {},
   "outputs": [],
   "source": [
    "specs_v2_noduo = []\n",
    "specs_v2_noduo = [i for i in specs_v2 if i not in specs_v2_noduo]"
   ]
  },
  {
   "cell_type": "code",
   "execution_count": null,
   "metadata": {},
   "outputs": [],
   "source": [
    "len(specs_v2_noduo)"
   ]
  },
  {
   "cell_type": "markdown",
   "metadata": {},
   "source": [
    "### 发现一个很奇怪的现象：\n",
    "右键产生的 view page source 和 inspect 会给出不同的web结构... \n",
    "\n",
    "以上是inspect后查找的结果\n",
    "\n",
    "以下是 view page source的探索结果 ..."
   ]
  },
  {
   "cell_type": "code",
   "execution_count": null,
   "metadata": {},
   "outputs": [],
   "source": [
    "url = 'https://www.autotrader.co.uk/car-search?advertClassification=standard&postcode=GU216DR&make=AUDI&model=Q2&onesearchad=Used&onesearchad=Nearly%20New&onesearchad=New&advertising-location=at_cars&is-quick-search=TRUE&include-delivery-option=on&page=1'\n",
    "r2 = requests.get(url)"
   ]
  },
  {
   "cell_type": "code",
   "execution_count": null,
   "metadata": {},
   "outputs": [],
   "source": [
    "r2.status_code"
   ]
  },
  {
   "cell_type": "code",
   "execution_count": null,
   "metadata": {},
   "outputs": [],
   "source": [
    "soup2 = BeautifulSoup(r2.text , 'html.parser')"
   ]
  },
  {
   "cell_type": "code",
   "execution_count": null,
   "metadata": {},
   "outputs": [],
   "source": [
    "for di in soup2.find_all('div', 'advert-card-pricing__price'):\n",
    "    print(di.text)"
   ]
  },
  {
   "cell_type": "code",
   "execution_count": null,
   "metadata": {},
   "outputs": [],
   "source": [
    "for u in soup2.find_all('ul', \"listing-key-specs\"):\n",
    "    print(u.text)"
   ]
  },
  {
   "cell_type": "code",
   "execution_count": null,
   "metadata": {},
   "outputs": [],
   "source": [
    "for name in soup2.find_all('h3', \"advert-card-details__title\"):\n",
    "    print(name.text)"
   ]
  },
  {
   "cell_type": "code",
   "execution_count": null,
   "metadata": {},
   "outputs": [],
   "source": [
    "names.clear()\n",
    "costs.clear()\n",
    "specs.clear()"
   ]
  },
  {
   "cell_type": "code",
   "execution_count": null,
   "metadata": {},
   "outputs": [],
   "source": [
    "import requests\n",
    "from bs4 import BeautifulSoup\n",
    "import pandas as pd\n",
    "import numpy as np\n",
    "from IPython.display import Image\n",
    "\n",
    "names = []\n",
    "costs = []\n",
    "specs = []\n",
    "for n in range(1,5):\n",
    "    url='https://www.autotrader.co.uk/car-search?advertClassification=standard&postcode=\\\n",
    "    GU216DR&make=AUDI&model=Q2&onesearchad=Used&onesearchad=\\\n",
    "    Nearly%20New&onesearchad=New&advertising-location=\\\n",
    "    at_cars&is-quick-search=TRUE&include-delivery-option=on&page={}'.format(n)\n",
    "    \n",
    "    r2 = requests.get(url)\n",
    "    \n",
    "    soup2 = BeautifulSoup(r2.text, 'html.parser')\n",
    "    \n",
    "    for cost in soup2.find_all('div', 'advert-card-pricing__price'):\n",
    "        costs.append(cost.text.strip())\n",
    "    \n",
    "    for name in soup2.find_all('h3', \"advert-card-details__title\"):\n",
    "        names.append(name.text.strip())\n",
    "        \n",
    "    for u in soup2.find_all('ul', \"listing-key-specs\"):\n",
    "        specs.append(u.text)\n",
    "        "
   ]
  },
  {
   "cell_type": "code",
   "execution_count": null,
   "metadata": {
    "scrolled": true
   },
   "outputs": [],
   "source": [
    "names"
   ]
  },
  {
   "cell_type": "code",
   "execution_count": null,
   "metadata": {},
   "outputs": [],
   "source": [
    "len(names)"
   ]
  },
  {
   "cell_type": "code",
   "execution_count": null,
   "metadata": {},
   "outputs": [],
   "source": [
    "costs"
   ]
  },
  {
   "cell_type": "code",
   "execution_count": null,
   "metadata": {},
   "outputs": [],
   "source": [
    "len(costs)"
   ]
  },
  {
   "cell_type": "markdown",
   "metadata": {},
   "source": [
    "## 经过反复的实验，528这个数字一直不停的出现，我认为在我对spec进行爬取的时候，不知为何，我怕取的是整个spec库，而不是对应的每量车的性能数据。但奇怪的是，在网页代码中，是可以看到每辆车的性能数据的... 所见如何才能变成所得？\\\n",
    "## 我将搜索页数变成1-20页，specs长度变成了209... 再换个数据试试看\n",
    "\n",
    "## 将搜索页数变成1-5， names长度22， specs长度44"
   ]
  },
  {
   "cell_type": "code",
   "execution_count": null,
   "metadata": {},
   "outputs": [],
   "source": [
    "specs"
   ]
  },
  {
   "cell_type": "code",
   "execution_count": null,
   "metadata": {},
   "outputs": [],
   "source": [
    "len(specs)"
   ]
  },
  {
   "cell_type": "code",
   "execution_count": 5,
   "metadata": {},
   "outputs": [
    {
     "ename": "NameError",
     "evalue": "name 'soup2' is not defined",
     "output_type": "error",
     "traceback": [
      "\u001b[0;31m---------------------------------------------------------------------------\u001b[0m",
      "\u001b[0;31mNameError\u001b[0m                                 Traceback (most recent call last)",
      "\u001b[0;32m<ipython-input-5-2e212818cdb5>\u001b[0m in \u001b[0;36m<module>\u001b[0;34m\u001b[0m\n\u001b[0;32m----> 1\u001b[0;31m \u001b[0;32mfor\u001b[0m \u001b[0mu\u001b[0m \u001b[0;32min\u001b[0m \u001b[0msoup2\u001b[0m\u001b[0;34m.\u001b[0m\u001b[0mfind_all\u001b[0m\u001b[0;34m(\u001b[0m\u001b[0;34m'ul'\u001b[0m\u001b[0;34m,\u001b[0m \u001b[0;34m\"listing-key-specs\"\u001b[0m\u001b[0;34m)\u001b[0m\u001b[0;34m:\u001b[0m\u001b[0;34m\u001b[0m\u001b[0;34m\u001b[0m\u001b[0m\n\u001b[0m\u001b[1;32m      2\u001b[0m         \u001b[0;32mfor\u001b[0m \u001b[0mli\u001b[0m \u001b[0;32min\u001b[0m \u001b[0mu\u001b[0m\u001b[0;34m:\u001b[0m\u001b[0;34m\u001b[0m\u001b[0;34m\u001b[0m\u001b[0m\n\u001b[1;32m      3\u001b[0m             \u001b[0mspecs\u001b[0m\u001b[0;34m.\u001b[0m\u001b[0mappend\u001b[0m\u001b[0;34m(\u001b[0m\u001b[0mli\u001b[0m\u001b[0;34m.\u001b[0m\u001b[0mstring\u001b[0m\u001b[0;34m)\u001b[0m\u001b[0;34m\u001b[0m\u001b[0;34m\u001b[0m\u001b[0m\n",
      "\u001b[0;31mNameError\u001b[0m: name 'soup2' is not defined"
     ]
    }
   ],
   "source": [
    "for u in soup2.find_all('ul', \"listing-key-specs\"):\n",
    "        for li in u:\n",
    "            specs.append(li.string)"
   ]
  },
  {
   "cell_type": "code",
   "execution_count": 6,
   "metadata": {},
   "outputs": [
    {
     "name": "stdout",
     "output_type": "stream",
     "text": [
      "Password:\n"
     ]
    }
   ],
   "source": [
    "!sudo apt-get install python2-lxml"
   ]
  },
  {
   "cell_type": "code",
   "execution_count": 2,
   "metadata": {},
   "outputs": [
    {
     "name": "stdout",
     "output_type": "stream",
     "text": [
      "\u001b[33mDEPRECATION: Python 2.7 reached the end of its life on January 1st, 2020. Please upgrade your Python as Python 2.7 is no longer maintained. pip 21.0 will drop support for Python 2.7 in January 2021. More details about Python 2 support in pip can be found at https://pip.pypa.io/en/latest/development/release-process/#python-2-support\u001b[0m\n",
      "Defaulting to user installation because normal site-packages is not writeable\n",
      "Requirement already satisfied: lxml in /Users/paxton615/Library/Python/2.7/lib/python/site-packages (4.5.2)\n"
     ]
    }
   ],
   "source": [
    "# sudo apt-get install python3-lxml\n",
    "# sudo port install py27-lxml\n",
    "# !sudo easy_install pip\n",
    "!pip install lxml"
   ]
  },
  {
   "cell_type": "code",
   "execution_count": 2,
   "metadata": {},
   "outputs": [
    {
     "name": "stdout",
     "output_type": "stream",
     "text": [
      "Python 3.8.3\r\n"
     ]
    }
   ],
   "source": [
    "! python --version"
   ]
  },
  {
   "cell_type": "code",
   "execution_count": 1,
   "metadata": {},
   "outputs": [],
   "source": [
    "import re\n",
    "import requests\n",
    "from lxml import html\n",
    "import time\n",
    "import math\n",
    "import json"
   ]
  },
  {
   "cell_type": "code",
   "execution_count": 3,
   "metadata": {},
   "outputs": [
    {
     "ename": "NameError",
     "evalue": "name 'url' is not defined",
     "output_type": "error",
     "traceback": [
      "\u001b[0;31m---------------------------------------------------------------------------\u001b[0m",
      "\u001b[0;31mNameError\u001b[0m                                 Traceback (most recent call last)",
      "\u001b[0;32m<ipython-input-3-024fcd9cb060>\u001b[0m in \u001b[0;36m<module>\u001b[0;34m\u001b[0m\n\u001b[0;32m----> 1\u001b[0;31m \u001b[0murlid\u001b[0m \u001b[0;34m=\u001b[0m \u001b[0mre\u001b[0m\u001b[0;34m.\u001b[0m\u001b[0mfindall\u001b[0m\u001b[0;34m(\u001b[0m\u001b[0;34m'[0-9]{5,}'\u001b[0m\u001b[0;34m,\u001b[0m \u001b[0murl\u001b[0m\u001b[0;34m)\u001b[0m\u001b[0;34m\u001b[0m\u001b[0;34m\u001b[0m\u001b[0m\n\u001b[0m\u001b[1;32m      2\u001b[0m \u001b[0mbase_url\u001b[0m \u001b[0;34m=\u001b[0m \u001b[0;34m'https://www.autotrader.co.uk/json/fpa/initial/'\u001b[0m\u001b[0;34m\u001b[0m\u001b[0;34m\u001b[0m\u001b[0m\n\u001b[1;32m      3\u001b[0m \u001b[0mresponse\u001b[0m \u001b[0;34m=\u001b[0m \u001b[0mrequests\u001b[0m\u001b[0;34m.\u001b[0m\u001b[0mget\u001b[0m\u001b[0;34m(\u001b[0m\u001b[0mbase_url\u001b[0m \u001b[0;34m+\u001b[0m \u001b[0mstr\u001b[0m\u001b[0;34m(\u001b[0m\u001b[0murlid\u001b[0m\u001b[0;34m)\u001b[0m\u001b[0;34m,\u001b[0m \u001b[0mtimeout\u001b[0m\u001b[0;34m=\u001b[0m\u001b[0;36m5\u001b[0m\u001b[0;34m)\u001b[0m\u001b[0;34m\u001b[0m\u001b[0;34m\u001b[0m\u001b[0m\n\u001b[1;32m      4\u001b[0m \u001b[0;34m\u001b[0m\u001b[0m\n\u001b[1;32m      5\u001b[0m \u001b[0mret\u001b[0m \u001b[0;34m=\u001b[0m \u001b[0mdict\u001b[0m\u001b[0;34m(\u001b[0m\u001b[0;34m)\u001b[0m\u001b[0;34m\u001b[0m\u001b[0;34m\u001b[0m\u001b[0m\n",
      "\u001b[0;31mNameError\u001b[0m: name 'url' is not defined"
     ]
    }
   ],
   "source": [
    "urlid = re.findall('[0-9]{5,}', url)\n",
    "base_url = 'https://www.autotrader.co.uk/json/fpa/initial/'\n",
    "response = requests.get(base_url + str(urlid), timeout=5)\n",
    "\n",
    "ret = dict()\n",
    "\n",
    "ret['url'] = url\n",
    "ret['status_code'] = response.status_code\n",
    "# if response.status_code != 200:\n",
    "#     return ret  # url是ok的\n",
    "\n",
    "ret['raw_response'] = response.content.decode('utf-8')\n",
    "\n",
    "d = json.loads(response.content.decode('utf-8'))\n",
    "\n",
    "keys_vehicle = {\n",
    "    'make', 'model', 'trim', 'condition', 'tax', 'co2Emissions'\n",
    "}\n",
    "for nm in set(d['vehicle'].keys()).intersection(keys_vehicle):\n",
    "    ret[nm] = d['vehicle'][nm]\n",
    "\n",
    "keys_keyFacts = {\n",
    "    'engine-size', 'manufactured-year', 'body-type', 'mileage', \n",
    "    'transmission', 'fuel-type', 'doors', 'seats'\n",
    "}\n",
    "for nm in set(d['vehicle']['keyFacts'].keys()).intersection(keys_keyFacts):\n",
    "    ret[nm] = d['vehicle']['keyFacts'][nm]\n",
    "\n",
    "if 'doors' in ret.keys():\n",
    "    match = re.search('\\d+', ret['doors'])\n",
    "    if match:\n",
    "        ret['doors'] = match[0]\n",
    "\n",
    "if 'seats' in ret.keys():\n",
    "    match = re.search('\\d+', ret['seats'])\n",
    "    if match:\n",
    "        ret['seats'] = match[0]\n",
    "\n",
    "if 'manufactured-year' in ret.keys():\n",
    "    match = re.search('\\d{4}', ret['manufactured-year'])\n",
    "    if match:\n",
    "        ret['manufactured-year'] = match[0]\n",
    "\n",
    "if 'mileage' in ret.keys():\n",
    "    ret['mileage'] = re.sub('[^\\d\\.]', '', ret['mileage'])\n",
    "\n",
    "if 'co2Emissions' in ret.keys():\n",
    "    ret['co2Emissions'] = re.sub('[^\\d\\.]', '', ret['co2Emissions'])\n",
    "\n",
    "\n",
    "keys_advert = {'price', 'description'}\n",
    "for nm in set(d['advert'].keys()).intersection(keys_advert):\n",
    "    ret[nm] = d['advert'][nm]\n",
    "\n",
    "if 'price' in ret.keys():\n",
    "    ret['price'] = re.sub('[^\\d]', '', ret['price'])\n",
    "\n",
    "keys_seller = {'isTradeSeller', 'townAndDistance', 'emailAddress'}\n",
    "for nm in set(d['seller'].keys()).intersection(keys_seller):\n",
    "    ret[nm] = d['seller'][nm]\n",
    "\n",
    "keys_tracking = {\n",
    "    'average_mpg', 'vehicle_check_status'\n",
    "}\n",
    "for nm in set(d['pageData']['tracking'].keys()).intersection(keys_seller):\n",
    "    ret[nm] = d['pageData']['tracking'][nm]\n",
    "\n",
    "for nm in list(ret.keys()):\n",
    "    ret[re.sub('-', '_', nm)] = ret.pop(nm)\n"
   ]
  },
  {
   "cell_type": "code",
   "execution_count": 6,
   "metadata": {},
   "outputs": [],
   "source": [
    "url = 'https://www.autotrader.co.uk/car-search?sort=relevance&postcode=gu216dr&radius=15&make=AUDI&model=Q2&year-to=2018'\n",
    "urlid = re.findall('[0-9]{5,}', url)\n",
    "base_url = 'https://www.autotrader.co.uk/json/fpa/initial/'\n",
    "response = requests.get(base_url + str(urlid), timeout=5)\n",
    "\n",
    "# ret = dict()\n",
    "\n",
    "# ret['url'] = url\n",
    "# ret['status_code'] = response.status_code\n",
    "# if response.status_code != 200:\n",
    "#     print('ok')"
   ]
  },
  {
   "cell_type": "code",
   "execution_count": 8,
   "metadata": {},
   "outputs": [
    {
     "ename": "TypeError",
     "evalue": "'int' object is not callable",
     "output_type": "error",
     "traceback": [
      "\u001b[0;31m---------------------------------------------------------------------------\u001b[0m",
      "\u001b[0;31mTypeError\u001b[0m                                 Traceback (most recent call last)",
      "\u001b[0;32m<ipython-input-8-b92d5faf59a2>\u001b[0m in \u001b[0;36m<module>\u001b[0;34m\u001b[0m\n\u001b[0;32m----> 1\u001b[0;31m \u001b[0mresponse\u001b[0m\u001b[0;34m.\u001b[0m\u001b[0mstatus_code\u001b[0m\u001b[0;34m(\u001b[0m\u001b[0;34m)\u001b[0m\u001b[0;34m\u001b[0m\u001b[0;34m\u001b[0m\u001b[0m\n\u001b[0m",
      "\u001b[0;31mTypeError\u001b[0m: 'int' object is not callable"
     ]
    }
   ],
   "source": [
    "response.status_code"
   ]
  },
  {
   "cell_type": "code",
   "execution_count": null,
   "metadata": {},
   "outputs": [],
   "source": []
  }
 ],
 "metadata": {
  "kernelspec": {
   "display_name": "Python 3",
   "language": "python",
   "name": "python3"
  },
  "language_info": {
   "codemirror_mode": {
    "name": "ipython",
    "version": 3
   },
   "file_extension": ".py",
   "mimetype": "text/x-python",
   "name": "python",
   "nbconvert_exporter": "python",
   "pygments_lexer": "ipython3",
   "version": "3.7.4"
  }
 },
 "nbformat": 4,
 "nbformat_minor": 4
}
