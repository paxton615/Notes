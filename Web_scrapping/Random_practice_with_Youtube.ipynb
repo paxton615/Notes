{
 "cells": [
  {
   "cell_type": "code",
   "execution_count": 38,
   "metadata": {},
   "outputs": [],
   "source": [
    "import requests\n",
    "from bs4 import BeautifulSoup as bs\n",
    "import pandas as pd\n",
    "from IPython.display import Image"
   ]
  },
  {
   "cell_type": "code",
   "execution_count": 36,
   "metadata": {},
   "outputs": [],
   "source": [
    "# add pics\n",
    "def add_pic(pic_name):\n",
    "    return Image(filename='/Users/paxton615/Github_Personal/Notes/Notes/pics/youtube/'+ pic_name+'.png')  "
   ]
  },
  {
   "cell_type": "code",
   "execution_count": 4,
   "metadata": {},
   "outputs": [],
   "source": [
    "# youtube address: https://www.youtube.com/watch?v=GjKQ6V_ViQE\n",
    "\n",
    "url = 'https://keithgalli.github.io/web-scraping/webpage.html'"
   ]
  },
  {
   "cell_type": "code",
   "execution_count": 5,
   "metadata": {},
   "outputs": [
    {
     "data": {
      "text/plain": [
       "200"
      ]
     },
     "execution_count": 5,
     "metadata": {},
     "output_type": "execute_result"
    }
   ],
   "source": [
    "r = requests.get(url)\n",
    "r.status_code"
   ]
  },
  {
   "cell_type": "code",
   "execution_count": 6,
   "metadata": {},
   "outputs": [],
   "source": [
    "soup = bs(r.content)"
   ]
  },
  {
   "cell_type": "code",
   "execution_count": 7,
   "metadata": {},
   "outputs": [
    {
     "name": "stdout",
     "output_type": "stream",
     "text": [
      "<head>\n",
      " <title>\n",
      "  Keith Galli's Page\n",
      " </title>\n",
      " <style>\n",
      "  table {\n",
      "    border-collapse: collapse;\n",
      "  }\n",
      "  th {\n",
      "    padding:5px;\n",
      "  }\n",
      "  td {\n",
      "    border: 1px solid #ddd;\n",
      "    padding: 5px;\n",
      "  }\n",
      "  tr:nth-child(even) {\n",
      "    background-color: #f2f2f2;\n",
      "  }\n",
      "  th {\n",
      "    padding-top: 12px;\n",
      "    padding-bottom: 12px;\n",
      "    text-align: left;\n",
      "    background-color: #add8e6;\n",
      "    color: black;\n",
      "  }\n",
      "  .block {\n",
      "  width: 100px;\n",
      "  /*float: left;*/\n",
      "    display: inline-block;\n",
      "    zoom: 1;\n",
      "  }\n",
      "  .column {\n",
      "  float: left;\n",
      "  height: 200px;\n",
      "  /*width: 33.33%;*/\n",
      "  padding: 5px;\n",
      "  }\n",
      "\n",
      "  .row::after {\n",
      "    content: \"\";\n",
      "    clear: both;\n",
      "    display: table;\n",
      "  }\n",
      " </style>\n",
      "</head>\n",
      "<body>\n",
      " <h1>\n",
      "  Welcome to my page!\n",
      " </h1>\n",
      " <img src=\"./images/selfie1.jpg\" width=\"300px\"/>\n",
      " <h2>\n",
      "  About me\n",
      " </h2>\n",
      " <p>\n",
      "  Hi, my name is Keith and I am a YouTuber who focuses on content related to programming, data science, and machine learning!\n",
      " </p>\n",
      " <p>\n",
      "  Here is a link to my channel:\n",
      "  <a href=\"https://www.youtube.com/kgmit\">\n",
      "   youtube.com/kgmit\n",
      "  </a>\n",
      " </p>\n",
      " <p>\n",
      "  I grew up in the great state of New Hampshire here in the USA. From an early age I always loved math. Around my senior year of high school, my brother first introduced me to programming. I found it a creative way to apply the same type of logical thinking skills that I enjoyed with math. This influenced me to study computer science in college and ultimately create a YouTube channel to share some things that I have learned along the way.\n",
      " </p>\n",
      " <h3>\n",
      "  Hobbies\n",
      " </h3>\n",
      " <p>\n",
      "  Believe it or not, I don't code 24/7. I love doing all sorts of active things. I like to play ice hockey &amp; table tennis as well as run, hike, skateboard, and snowboard. In addition to sports, I am a board game enthusiast. The two that I've been playing the most recently are\n",
      "  <i>\n",
      "   Settlers of Catan\n",
      "  </i>\n",
      "  and\n",
      "  <i>\n",
      "   Othello\n",
      "  </i>\n",
      "  .\n",
      " </p>\n",
      " <h3>\n",
      "  Fun Facts\n",
      " </h3>\n",
      " <ul class=\"fun-facts\">\n",
      "  <li>\n",
      "   Owned my dream car in high school\n",
      "   <a href=\"#footer\">\n",
      "    <sup>\n",
      "     1\n",
      "    </sup>\n",
      "   </a>\n",
      "  </li>\n",
      "  <li>\n",
      "   Middle name is Ronald\n",
      "  </li>\n",
      "  <li>\n",
      "   Never had been on a plane until college\n",
      "  </li>\n",
      "  <li>\n",
      "   Dunkin Donuts coffee is better than Starbucks\n",
      "  </li>\n",
      "  <li>\n",
      "   A favorite book series of mine is\n",
      "   <i>\n",
      "    Ender's Game\n",
      "   </i>\n",
      "  </li>\n",
      "  <li>\n",
      "   Current video game of choice is\n",
      "   <i>\n",
      "    Rocket League\n",
      "   </i>\n",
      "  </li>\n",
      "  <li>\n",
      "   The band that I've seen the most times live is the\n",
      "   <i>\n",
      "    Zac Brown Band\n",
      "   </i>\n",
      "  </li>\n",
      " </ul>\n",
      " <h2>\n",
      "  Social Media\n",
      " </h2>\n",
      " I encourage you to check out my content on all social media platforms\n",
      " <br/>\n",
      " <ul class=\"socials\">\n",
      "  <li class=\"social instagram\">\n",
      "   <b>\n",
      "    Instagram:\n",
      "   </b>\n",
      "   <a href=\"https://www.instagram.com/keithgalli/\">\n",
      "    https://www.instagram.com/keithgalli/\n",
      "   </a>\n",
      "  </li>\n",
      "  <li class=\"social twitter\">\n",
      "   <b>\n",
      "    Twitter:\n",
      "   </b>\n",
      "   <a href=\"https://twitter.com/keithgalli\">\n",
      "    https://twitter.com/keithgalli\n",
      "   </a>\n",
      "  </li>\n",
      "  <li class=\"social linkedin\">\n",
      "   <b>\n",
      "    LinkedIn:\n",
      "   </b>\n",
      "   <a href=\"https://www.linkedin.com/in/keithgalli/\">\n",
      "    https://www.linkedin.com/in/keithgalli/\n",
      "   </a>\n",
      "  </li>\n",
      "  <li class=\"social tiktok\">\n",
      "   <b>\n",
      "    TikTok:\n",
      "   </b>\n",
      "   <a href=\"https://www.tiktok.com/@keithgalli\">\n",
      "    https://www.tiktok.com/@keithgalli\n",
      "   </a>\n",
      "  </li>\n",
      " </ul>\n",
      " <h2>\n",
      "  Photos\n",
      " </h2>\n",
      " Here are a few photos from a trip to italy I took last year\n",
      " <div class=\"row\">\n",
      "  <div class=\"column\">\n",
      "   <img alt=\"Lake Como\" src=\"images/italy/lake_como.jpg\" style=\"height:100%\"/>\n",
      "  </div>\n",
      "  <div class=\"column\">\n",
      "   <img alt=\"Pontevecchio, Florence\" src=\"images/italy/pontevecchio.jpg\" style=\"height:100%\"/>\n",
      "  </div>\n",
      "  <div class=\"column\">\n",
      "   <img alt=\"Riomaggiore, Cinque de Terre\" src=\"images/italy/riomaggiore.jpg\" style=\"height:100%\"/>\n",
      "  </div>\n",
      " </div>\n",
      " <div>\n",
      " </div>\n",
      " <h2>\n",
      "  Table\n",
      " </h2>\n",
      " My MIT hockey stats :)\n",
      " <br/>\n",
      " <table class=\"hockey-stats\">\n",
      "  <thead>\n",
      "   <tr>\n",
      "    <th class=\"season\" data-sort=\"\">\n",
      "     S\n",
      "    </th>\n",
      "    <th class=\"team\" data-sort=\"team\">\n",
      "     Team\n",
      "    </th>\n",
      "    <th class=\"league\" data-sort=\"league\">\n",
      "     League\n",
      "    </th>\n",
      "    <th class=\"regular gp\" data-sort=\"gp\">\n",
      "     GP\n",
      "    </th>\n",
      "    <th class=\"regular g\" data-sort=\"g\">\n",
      "     G\n",
      "    </th>\n",
      "    <th class=\"regular a\" data-sort=\"a\">\n",
      "     A\n",
      "    </th>\n",
      "    <th class=\"regular tp\" data-sort=\"tp\">\n",
      "     TP\n",
      "    </th>\n",
      "    <th class=\"regular pim\" data-sort=\"pim\">\n",
      "     PIM\n",
      "    </th>\n",
      "    <th class=\"regular pm\" data-sort=\"pm\">\n",
      "     +/-\n",
      "    </th>\n",
      "    <th class=\"separator\">\n",
      "    </th>\n",
      "    <th class=\"postseason\">\n",
      "     POST\n",
      "    </th>\n",
      "    <th class=\"postseason gp\" data-sort=\"playoffs-gp\">\n",
      "     GP\n",
      "    </th>\n",
      "    <th class=\"postseason g\" data-sort=\"playoffs-g\">\n",
      "     G\n",
      "    </th>\n",
      "    <th class=\"postseason a\" data-sort=\"playoffs-a\">\n",
      "     A\n",
      "    </th>\n",
      "    <th class=\"postseason tp\" data-sort=\"playoffs-tp\">\n",
      "     TP\n",
      "    </th>\n",
      "    <th class=\"postseason pim\" data-sort=\"playoffs-pim\">\n",
      "     PIM\n",
      "    </th>\n",
      "    <th class=\"postseason pm\" data-sort=\"playoffs-pm\">\n",
      "     +/-\n",
      "    </th>\n",
      "   </tr>\n",
      "  </thead>\n",
      "  <tbody>\n",
      "   <tr class=\"team-continent-NA\">\n",
      "    <td class=\"season sorted\">\n",
      "     2014-15\n",
      "    </td>\n",
      "    <td class=\"team\">\n",
      "     <i>\n",
      "      <img src=\"images/flag.png\"/>\n",
      "     </i>\n",
      "     <span class=\"txt-blue\">\n",
      "      <a href=\"https://www.eliteprospects.com/team/10263/mit-mass.-inst.-of-tech./2014-2015?tab=stats\">\n",
      "       MIT (Mass. Inst. of Tech.)\n",
      "      </a>\n",
      "     </span>\n",
      "    </td>\n",
      "    <td class=\"league\">\n",
      "     <a href=\"https://www.eliteprospects.com/league/acha-ii/stats/2014-2015\">\n",
      "      ACHA II\n",
      "     </a>\n",
      "    </td>\n",
      "    <td class=\"regular gp\">\n",
      "     17\n",
      "    </td>\n",
      "    <td class=\"regular g\">\n",
      "     3\n",
      "    </td>\n",
      "    <td class=\"regular a\">\n",
      "     9\n",
      "    </td>\n",
      "    <td class=\"regular tp\">\n",
      "     12\n",
      "    </td>\n",
      "    <td class=\"regular pim\">\n",
      "     20\n",
      "    </td>\n",
      "    <td class=\"regular pm\">\n",
      "    </td>\n",
      "    <td class=\"separator\">\n",
      "     |\n",
      "    </td>\n",
      "    <td class=\"postseason\">\n",
      "     <a href=\"https://www.eliteprospects.com/league/acha-ii/stats/2014-2015\">\n",
      "     </a>\n",
      "    </td>\n",
      "    <td class=\"postseason gp\">\n",
      "    </td>\n",
      "    <td class=\"postseason g\">\n",
      "    </td>\n",
      "    <td class=\"postseason a\">\n",
      "    </td>\n",
      "    <td class=\"postseason tp\">\n",
      "    </td>\n",
      "    <td class=\"postseason pim\">\n",
      "    </td>\n",
      "    <td class=\"postseason pm\">\n",
      "    </td>\n",
      "   </tr>\n",
      "   <tr class=\"team-continent-NA\">\n",
      "    <td class=\"season sorted\">\n",
      "     2015-16\n",
      "    </td>\n",
      "    <td class=\"team\">\n",
      "     <i>\n",
      "      <img src=\"images/flag.png\"/>\n",
      "     </i>\n",
      "     <span class=\"txt-blue\">\n",
      "      <a href=\"https://www.eliteprospects.com/team/10263/mit-mass.-inst.-of-tech./2015-2016?tab=stats\">\n",
      "       MIT (Mass. Inst. of Tech.)\n",
      "      </a>\n",
      "     </span>\n",
      "    </td>\n",
      "    <td class=\"league\">\n",
      "     <a href=\"https://www.eliteprospects.com/league/acha-ii/stats/2015-2016\">\n",
      "      ACHA II\n",
      "     </a>\n",
      "    </td>\n",
      "    <td class=\"regular gp\">\n",
      "     9\n",
      "    </td>\n",
      "    <td class=\"regular g\">\n",
      "     1\n",
      "    </td>\n",
      "    <td class=\"regular a\">\n",
      "     1\n",
      "    </td>\n",
      "    <td class=\"regular tp\">\n",
      "     2\n",
      "    </td>\n",
      "    <td class=\"regular pim\">\n",
      "     2\n",
      "    </td>\n",
      "    <td class=\"regular pm\">\n",
      "    </td>\n",
      "    <td class=\"separator\">\n",
      "     |\n",
      "    </td>\n",
      "    <td class=\"postseason\">\n",
      "     <a href=\"https://www.eliteprospects.com/league/acha-ii/stats/2015-2016\">\n",
      "     </a>\n",
      "    </td>\n",
      "    <td class=\"postseason gp\">\n",
      "    </td>\n",
      "    <td class=\"postseason g\">\n",
      "    </td>\n",
      "    <td class=\"postseason a\">\n",
      "    </td>\n",
      "    <td class=\"postseason tp\">\n",
      "    </td>\n",
      "    <td class=\"postseason pim\">\n",
      "    </td>\n",
      "    <td class=\"postseason pm\">\n",
      "    </td>\n",
      "   </tr>\n",
      "   <tr class=\"team-continent-NA\">\n",
      "    <td class=\"season sorted\">\n",
      "     2016-17\n",
      "    </td>\n",
      "    <td class=\"team\">\n",
      "     <i>\n",
      "      <img src=\"images/flag.png\"/>\n",
      "     </i>\n",
      "     <span class=\"txt-blue\">\n",
      "      <a href=\"https://www.eliteprospects.com/team/10263/mit-mass.-inst.-of-tech./2016-2017?tab=stats\">\n",
      "       MIT (Mass. Inst. of Tech.)\n",
      "      </a>\n",
      "     </span>\n",
      "    </td>\n",
      "    <td class=\"league\">\n",
      "     <a href=\"https://www.eliteprospects.com/league/acha-ii/stats/2016-2017\">\n",
      "      ACHA II\n",
      "     </a>\n",
      "    </td>\n",
      "    <td class=\"regular gp\">\n",
      "     12\n",
      "    </td>\n",
      "    <td class=\"regular g\">\n",
      "     5\n",
      "    </td>\n",
      "    <td class=\"regular a\">\n",
      "     5\n",
      "    </td>\n",
      "    <td class=\"regular tp\">\n",
      "     10\n",
      "    </td>\n",
      "    <td class=\"regular pim\">\n",
      "     8\n",
      "    </td>\n",
      "    <td class=\"regular pm\">\n",
      "     0\n",
      "    </td>\n",
      "    <td class=\"separator\">\n",
      "     |\n",
      "    </td>\n",
      "    <td class=\"postseason\">\n",
      "    </td>\n",
      "    <td class=\"postseason gp\">\n",
      "    </td>\n",
      "    <td class=\"postseason g\">\n",
      "    </td>\n",
      "    <td class=\"postseason a\">\n",
      "    </td>\n",
      "    <td class=\"postseason tp\">\n",
      "    </td>\n",
      "    <td class=\"postseason pim\">\n",
      "    </td>\n",
      "    <td class=\"postseason pm\">\n",
      "    </td>\n",
      "   </tr>\n",
      "   <tr class=\"team-continent-EU\">\n",
      "    <td class=\"season sorted\">\n",
      "     2017-18\n",
      "    </td>\n",
      "    <td class=\"team\">\n",
      "     Did not play\n",
      "    </td>\n",
      "    <td class=\"league\">\n",
      "     <a href=\"https://www.eliteprospects.com/stats\">\n",
      "     </a>\n",
      "    </td>\n",
      "    <td class=\"regular gp\">\n",
      "    </td>\n",
      "    <td class=\"regular g\">\n",
      "    </td>\n",
      "    <td class=\"regular a\">\n",
      "    </td>\n",
      "    <td class=\"regular tp\">\n",
      "    </td>\n",
      "    <td class=\"regular pim\">\n",
      "    </td>\n",
      "    <td class=\"regular pm\">\n",
      "    </td>\n",
      "    <td class=\"separator\">\n",
      "     |\n",
      "    </td>\n",
      "    <td class=\"postseason\">\n",
      "     <a href=\"https://www.eliteprospects.com/stats\">\n",
      "     </a>\n",
      "    </td>\n",
      "    <td class=\"postseason gp\">\n",
      "    </td>\n",
      "    <td class=\"postseason g\">\n",
      "    </td>\n",
      "    <td class=\"postseason a\">\n",
      "    </td>\n",
      "    <td class=\"postseason tp\">\n",
      "    </td>\n",
      "    <td class=\"postseason pim\">\n",
      "    </td>\n",
      "    <td class=\"postseason pm\">\n",
      "    </td>\n",
      "   </tr>\n",
      "   <tr class=\"team-continent-NA\">\n",
      "    <td class=\"season sorted\">\n",
      "     2018-19\n",
      "    </td>\n",
      "    <td class=\"team\">\n",
      "     <i>\n",
      "      <img src=\"images/flag.png\"/>\n",
      "     </i>\n",
      "     <span class=\"txt-blue\">\n",
      "      <a href=\"https://www.eliteprospects.com/team/10263/mit-mass.-inst.-of-tech./2018-2019?tab=stats\">\n",
      "       MIT (Mass. Inst. of Tech.)\n",
      "      </a>\n",
      "     </span>\n",
      "    </td>\n",
      "    <td class=\"league\">\n",
      "     <a href=\"https://www.eliteprospects.com/league/acha-iii/stats/2018-2019\">\n",
      "      ACHA III\n",
      "     </a>\n",
      "    </td>\n",
      "    <td class=\"regular gp\">\n",
      "     8\n",
      "    </td>\n",
      "    <td class=\"regular g\">\n",
      "     5\n",
      "    </td>\n",
      "    <td class=\"regular a\">\n",
      "     10\n",
      "    </td>\n",
      "    <td class=\"regular tp\">\n",
      "     15\n",
      "    </td>\n",
      "    <td class=\"regular pim\">\n",
      "     8\n",
      "    </td>\n",
      "    <td class=\"regular pm\">\n",
      "    </td>\n",
      "    <td class=\"separator\">\n",
      "     |\n",
      "    </td>\n",
      "    <td class=\"postseason\">\n",
      "     <a href=\"https://www.eliteprospects.com/league/acha-iii/stats/2018-2019\">\n",
      "     </a>\n",
      "    </td>\n",
      "    <td class=\"postseason gp\">\n",
      "    </td>\n",
      "    <td class=\"postseason g\">\n",
      "    </td>\n",
      "    <td class=\"postseason a\">\n",
      "    </td>\n",
      "    <td class=\"postseason tp\">\n",
      "    </td>\n",
      "    <td class=\"postseason pim\">\n",
      "    </td>\n",
      "    <td class=\"postseason pm\">\n",
      "    </td>\n",
      "   </tr>\n",
      "  </tbody>\n",
      " </table>\n",
      " <h2>\n",
      "  Mystery Message Challenge!\n",
      " </h2>\n",
      " <p>\n",
      "  If you scrape the links below grabbing the &lt;p&gt; tag with id=\"secret-word\", you'll discover a secret message :)\n",
      " </p>\n",
      " <div width=\"50%\">\n",
      "  <div align=\"left\" class=\"block\">\n",
      "   <ul>\n",
      "    <li>\n",
      "     <a href=\"challenge/file_1.html\">\n",
      "      File 1\n",
      "     </a>\n",
      "    </li>\n",
      "    <li>\n",
      "     <a href=\"challenge/file_2.html\">\n",
      "      File 2\n",
      "     </a>\n",
      "    </li>\n",
      "    <li>\n",
      "     <a href=\"challenge/file_3.html\">\n",
      "      File 3\n",
      "     </a>\n",
      "    </li>\n",
      "    <li>\n",
      "     <a href=\"challenge/file_4.html\">\n",
      "      File 4\n",
      "     </a>\n",
      "    </li>\n",
      "    <li>\n",
      "     <a href=\"challenge/file_5.html\">\n",
      "      File 5\n",
      "     </a>\n",
      "    </li>\n",
      "   </ul>\n",
      "  </div>\n",
      "  <div align=\"center\" class=\"block\">\n",
      "   <ul>\n",
      "    <li>\n",
      "     <a href=\"challenge/file_6.html\">\n",
      "      File 6\n",
      "     </a>\n",
      "    </li>\n",
      "    <li>\n",
      "     <a href=\"challenge/file_7.html\">\n",
      "      File 7\n",
      "     </a>\n",
      "    </li>\n",
      "    <li>\n",
      "     <a href=\"challenge/file_8.html\">\n",
      "      File 8\n",
      "     </a>\n",
      "    </li>\n",
      "    <li>\n",
      "     <a href=\"challenge/file_9.html\">\n",
      "      File 9\n",
      "     </a>\n",
      "    </li>\n",
      "    <li>\n",
      "     <a href=\"challenge/file_10.html\">\n",
      "      File 10\n",
      "     </a>\n",
      "    </li>\n",
      "   </ul>\n",
      "  </div>\n",
      " </div>\n",
      " <h2>\n",
      "  Footnotes\n",
      " </h2>\n",
      " <p id=\"footer\">\n",
      "  1. This was actually a minivan that I named Debora. Maybe not my dream car, but I loved her nonetheless.\n",
      " </p>\n",
      "</body>\n",
      "\n"
     ]
    }
   ],
   "source": [
    "print(soup.prettify())"
   ]
  },
  {
   "cell_type": "code",
   "execution_count": 8,
   "metadata": {},
   "outputs": [
    {
     "name": "stdout",
     "output_type": "stream",
     "text": [
      "https://www.youtube.com/kgmit\n",
      "#footer\n",
      "https://www.instagram.com/keithgalli/\n",
      "https://twitter.com/keithgalli\n",
      "https://www.linkedin.com/in/keithgalli/\n",
      "https://www.tiktok.com/@keithgalli\n",
      "https://www.eliteprospects.com/team/10263/mit-mass.-inst.-of-tech./2014-2015?tab=stats\n",
      "https://www.eliteprospects.com/league/acha-ii/stats/2014-2015\n",
      "https://www.eliteprospects.com/league/acha-ii/stats/2014-2015\n",
      "https://www.eliteprospects.com/team/10263/mit-mass.-inst.-of-tech./2015-2016?tab=stats\n",
      "https://www.eliteprospects.com/league/acha-ii/stats/2015-2016\n",
      "https://www.eliteprospects.com/league/acha-ii/stats/2015-2016\n",
      "https://www.eliteprospects.com/team/10263/mit-mass.-inst.-of-tech./2016-2017?tab=stats\n",
      "https://www.eliteprospects.com/league/acha-ii/stats/2016-2017\n",
      "https://www.eliteprospects.com/stats\n",
      "https://www.eliteprospects.com/stats\n",
      "https://www.eliteprospects.com/team/10263/mit-mass.-inst.-of-tech./2018-2019?tab=stats\n",
      "https://www.eliteprospects.com/league/acha-iii/stats/2018-2019\n",
      "https://www.eliteprospects.com/league/acha-iii/stats/2018-2019\n",
      "challenge/file_1.html\n",
      "challenge/file_2.html\n",
      "challenge/file_3.html\n",
      "challenge/file_4.html\n",
      "challenge/file_5.html\n",
      "challenge/file_6.html\n",
      "challenge/file_7.html\n",
      "challenge/file_8.html\n",
      "challenge/file_9.html\n",
      "challenge/file_10.html\n"
     ]
    }
   ],
   "source": [
    "for link in soup.find_all('a'):\n",
    "    print(link.get('href'))"
   ]
  },
  {
   "cell_type": "code",
   "execution_count": 9,
   "metadata": {
    "scrolled": true
   },
   "outputs": [
    {
     "data": {
      "text/plain": [
       "[<a href=\"https://www.youtube.com/kgmit\">youtube.com/kgmit</a>,\n",
       " <a href=\"#footer\"><sup>1</sup></a>,\n",
       " <a href=\"https://www.instagram.com/keithgalli/\">https://www.instagram.com/keithgalli/</a>,\n",
       " <a href=\"https://twitter.com/keithgalli\">https://twitter.com/keithgalli</a>,\n",
       " <a href=\"https://www.linkedin.com/in/keithgalli/\">https://www.linkedin.com/in/keithgalli/</a>,\n",
       " <a href=\"https://www.tiktok.com/@keithgalli\">https://www.tiktok.com/@keithgalli</a>,\n",
       " <a href=\"https://www.eliteprospects.com/team/10263/mit-mass.-inst.-of-tech./2014-2015?tab=stats\"> MIT (Mass. Inst. of Tech.) </a>,\n",
       " <a href=\"https://www.eliteprospects.com/league/acha-ii/stats/2014-2015\"> ACHA II </a>,\n",
       " <a href=\"https://www.eliteprospects.com/league/acha-ii/stats/2014-2015\"> </a>,\n",
       " <a href=\"https://www.eliteprospects.com/team/10263/mit-mass.-inst.-of-tech./2015-2016?tab=stats\"> MIT (Mass. Inst. of Tech.) </a>,\n",
       " <a href=\"https://www.eliteprospects.com/league/acha-ii/stats/2015-2016\"> ACHA II </a>,\n",
       " <a href=\"https://www.eliteprospects.com/league/acha-ii/stats/2015-2016\"> </a>,\n",
       " <a href=\"https://www.eliteprospects.com/team/10263/mit-mass.-inst.-of-tech./2016-2017?tab=stats\"> MIT (Mass. Inst. of Tech.) </a>,\n",
       " <a href=\"https://www.eliteprospects.com/league/acha-ii/stats/2016-2017\"> ACHA II </a>,\n",
       " <a href=\"https://www.eliteprospects.com/stats\"> </a>,\n",
       " <a href=\"https://www.eliteprospects.com/stats\"> </a>,\n",
       " <a href=\"https://www.eliteprospects.com/team/10263/mit-mass.-inst.-of-tech./2018-2019?tab=stats\"> MIT (Mass. Inst. of Tech.) </a>,\n",
       " <a href=\"https://www.eliteprospects.com/league/acha-iii/stats/2018-2019\"> ACHA III </a>,\n",
       " <a href=\"https://www.eliteprospects.com/league/acha-iii/stats/2018-2019\"> </a>,\n",
       " <a href=\"challenge/file_1.html\">File 1</a>,\n",
       " <a href=\"challenge/file_2.html\">File 2</a>,\n",
       " <a href=\"challenge/file_3.html\">File 3</a>,\n",
       " <a href=\"challenge/file_4.html\">File 4</a>,\n",
       " <a href=\"challenge/file_5.html\">File 5</a>,\n",
       " <a href=\"challenge/file_6.html\">File 6</a>,\n",
       " <a href=\"challenge/file_7.html\">File 7</a>,\n",
       " <a href=\"challenge/file_8.html\">File 8</a>,\n",
       " <a href=\"challenge/file_9.html\">File 9</a>,\n",
       " <a href=\"challenge/file_10.html\">File 10</a>]"
      ]
     },
     "execution_count": 9,
     "metadata": {},
     "output_type": "execute_result"
    }
   ],
   "source": [
    "soup.find_all('a')"
   ]
  },
  {
   "cell_type": "code",
   "execution_count": 10,
   "metadata": {},
   "outputs": [
    {
     "data": {
      "text/plain": [
       "<bound method Tag.find_all of <a href=\"https://www.youtube.com/kgmit\">youtube.com/kgmit</a>>"
      ]
     },
     "execution_count": 10,
     "metadata": {},
     "output_type": "execute_result"
    }
   ],
   "source": [
    "soup.body.a.find_all"
   ]
  },
  {
   "cell_type": "code",
   "execution_count": 11,
   "metadata": {},
   "outputs": [
    {
     "data": {
      "text/plain": [
       "[]"
      ]
     },
     "execution_count": 11,
     "metadata": {},
     "output_type": "execute_result"
    }
   ],
   "source": [
    "soup.select('a#herf')"
   ]
  },
  {
   "cell_type": "markdown",
   "metadata": {},
   "source": [
    "# Solutions"
   ]
  },
  {
   "cell_type": "code",
   "execution_count": 12,
   "metadata": {},
   "outputs": [
    {
     "data": {
      "text/plain": [
       "[<a href=\"https://www.youtube.com/kgmit\">youtube.com/kgmit</a>,\n",
       " <a href=\"#footer\"><sup>1</sup></a>,\n",
       " <a href=\"https://www.instagram.com/keithgalli/\">https://www.instagram.com/keithgalli/</a>,\n",
       " <a href=\"https://twitter.com/keithgalli\">https://twitter.com/keithgalli</a>,\n",
       " <a href=\"https://www.linkedin.com/in/keithgalli/\">https://www.linkedin.com/in/keithgalli/</a>,\n",
       " <a href=\"https://www.tiktok.com/@keithgalli\">https://www.tiktok.com/@keithgalli</a>,\n",
       " <a href=\"https://www.eliteprospects.com/team/10263/mit-mass.-inst.-of-tech./2014-2015?tab=stats\"> MIT (Mass. Inst. of Tech.) </a>,\n",
       " <a href=\"https://www.eliteprospects.com/league/acha-ii/stats/2014-2015\"> ACHA II </a>,\n",
       " <a href=\"https://www.eliteprospects.com/league/acha-ii/stats/2014-2015\"> </a>,\n",
       " <a href=\"https://www.eliteprospects.com/team/10263/mit-mass.-inst.-of-tech./2015-2016?tab=stats\"> MIT (Mass. Inst. of Tech.) </a>,\n",
       " <a href=\"https://www.eliteprospects.com/league/acha-ii/stats/2015-2016\"> ACHA II </a>,\n",
       " <a href=\"https://www.eliteprospects.com/league/acha-ii/stats/2015-2016\"> </a>,\n",
       " <a href=\"https://www.eliteprospects.com/team/10263/mit-mass.-inst.-of-tech./2016-2017?tab=stats\"> MIT (Mass. Inst. of Tech.) </a>,\n",
       " <a href=\"https://www.eliteprospects.com/league/acha-ii/stats/2016-2017\"> ACHA II </a>,\n",
       " <a href=\"https://www.eliteprospects.com/stats\"> </a>,\n",
       " <a href=\"https://www.eliteprospects.com/stats\"> </a>,\n",
       " <a href=\"https://www.eliteprospects.com/team/10263/mit-mass.-inst.-of-tech./2018-2019?tab=stats\"> MIT (Mass. Inst. of Tech.) </a>,\n",
       " <a href=\"https://www.eliteprospects.com/league/acha-iii/stats/2018-2019\"> ACHA III </a>,\n",
       " <a href=\"https://www.eliteprospects.com/league/acha-iii/stats/2018-2019\"> </a>,\n",
       " <a href=\"challenge/file_1.html\">File 1</a>,\n",
       " <a href=\"challenge/file_2.html\">File 2</a>,\n",
       " <a href=\"challenge/file_3.html\">File 3</a>,\n",
       " <a href=\"challenge/file_4.html\">File 4</a>,\n",
       " <a href=\"challenge/file_5.html\">File 5</a>,\n",
       " <a href=\"challenge/file_6.html\">File 6</a>,\n",
       " <a href=\"challenge/file_7.html\">File 7</a>,\n",
       " <a href=\"challenge/file_8.html\">File 8</a>,\n",
       " <a href=\"challenge/file_9.html\">File 9</a>,\n",
       " <a href=\"challenge/file_10.html\">File 10</a>]"
      ]
     },
     "execution_count": 12,
     "metadata": {},
     "output_type": "execute_result"
    }
   ],
   "source": [
    "links = soup.select('a') # not so different to find_all('a')\n",
    "links"
   ]
  },
  {
   "cell_type": "code",
   "execution_count": 13,
   "metadata": {
    "scrolled": true
   },
   "outputs": [
    {
     "name": "stdout",
     "output_type": "stream",
     "text": [
      "\n",
      "Instagram: https://www.instagram.com/keithgalli/\n",
      "Twitter: https://twitter.com/keithgalli\n",
      "LinkedIn: https://www.linkedin.com/in/keithgalli/\n",
      "TikTok: https://www.tiktok.com/@keithgalli\n",
      "\n",
      "None\n"
     ]
    },
    {
     "ename": "KeyError",
     "evalue": "'href'",
     "output_type": "error",
     "traceback": [
      "\u001b[0;31m---------------------------------------------------------------------------\u001b[0m",
      "\u001b[0;31mKeyError\u001b[0m                                  Traceback (most recent call last)",
      "\u001b[0;32m<ipython-input-13-fcd1e30b1998>\u001b[0m in \u001b[0;36m<module>\u001b[0;34m\u001b[0m\n\u001b[1;32m      2\u001b[0m     \u001b[0mprint\u001b[0m\u001b[0;34m(\u001b[0m\u001b[0mlink\u001b[0m\u001b[0;34m.\u001b[0m\u001b[0mtext\u001b[0m\u001b[0;34m)\u001b[0m \u001b[0;31m# got links and titles(unwanted)\u001b[0m\u001b[0;34m\u001b[0m\u001b[0;34m\u001b[0m\u001b[0m\n\u001b[1;32m      3\u001b[0m     \u001b[0mprint\u001b[0m\u001b[0;34m(\u001b[0m\u001b[0mlink\u001b[0m\u001b[0;34m.\u001b[0m\u001b[0mget\u001b[0m\u001b[0;34m(\u001b[0m\u001b[0;34m'href'\u001b[0m\u001b[0;34m)\u001b[0m\u001b[0;34m)\u001b[0m \u001b[0;31m# None\u001b[0m\u001b[0;34m\u001b[0m\u001b[0;34m\u001b[0m\u001b[0m\n\u001b[0;32m----> 4\u001b[0;31m     \u001b[0mprint\u001b[0m\u001b[0;34m(\u001b[0m\u001b[0mlink\u001b[0m\u001b[0;34m[\u001b[0m\u001b[0;34m'href'\u001b[0m\u001b[0;34m]\u001b[0m\u001b[0;34m)\u001b[0m\u001b[0;34m\u001b[0m\u001b[0;34m\u001b[0m\u001b[0m\n\u001b[0m",
      "\u001b[0;32m~/pycharm/projects/venv/lib/python3.7/site-packages/bs4/element.py\u001b[0m in \u001b[0;36m__getitem__\u001b[0;34m(self, key)\u001b[0m\n\u001b[1;32m   1399\u001b[0m         \"\"\"tag[key] returns the value of the 'key' attribute for the Tag,\n\u001b[1;32m   1400\u001b[0m         and throws an exception if it's not there.\"\"\"\n\u001b[0;32m-> 1401\u001b[0;31m         \u001b[0;32mreturn\u001b[0m \u001b[0mself\u001b[0m\u001b[0;34m.\u001b[0m\u001b[0mattrs\u001b[0m\u001b[0;34m[\u001b[0m\u001b[0mkey\u001b[0m\u001b[0;34m]\u001b[0m\u001b[0;34m\u001b[0m\u001b[0;34m\u001b[0m\u001b[0m\n\u001b[0m\u001b[1;32m   1402\u001b[0m \u001b[0;34m\u001b[0m\u001b[0m\n\u001b[1;32m   1403\u001b[0m     \u001b[0;32mdef\u001b[0m \u001b[0m__iter__\u001b[0m\u001b[0;34m(\u001b[0m\u001b[0mself\u001b[0m\u001b[0;34m)\u001b[0m\u001b[0;34m:\u001b[0m\u001b[0;34m\u001b[0m\u001b[0;34m\u001b[0m\u001b[0m\n",
      "\u001b[0;31mKeyError\u001b[0m: 'href'"
     ]
    }
   ],
   "source": [
    "for link in soup.find_all('ul', class_='socials'):\n",
    "    print(link.text) # got links and titles(unwanted)\n",
    "    print(link.get('href')) # None\n",
    "    print(link['href']) "
   ]
  },
  {
   "cell_type": "code",
   "execution_count": 14,
   "metadata": {},
   "outputs": [
    {
     "ename": "AttributeError",
     "evalue": "'NavigableString' object has no attribute 'get'",
     "output_type": "error",
     "traceback": [
      "\u001b[0;31m---------------------------------------------------------------------------\u001b[0m",
      "\u001b[0;31mAttributeError\u001b[0m                            Traceback (most recent call last)",
      "\u001b[0;32m<ipython-input-14-e4d985fab7ce>\u001b[0m in \u001b[0;36m<module>\u001b[0;34m\u001b[0m\n\u001b[1;32m      1\u001b[0m \u001b[0;32mfor\u001b[0m \u001b[0mlink\u001b[0m \u001b[0;32min\u001b[0m \u001b[0msoup\u001b[0m\u001b[0;34m.\u001b[0m\u001b[0mfind_all\u001b[0m\u001b[0;34m(\u001b[0m\u001b[0;34m'ul'\u001b[0m\u001b[0;34m,\u001b[0m \u001b[0mclass_\u001b[0m\u001b[0;34m=\u001b[0m\u001b[0;34m'socials'\u001b[0m\u001b[0;34m)\u001b[0m\u001b[0;34m:\u001b[0m\u001b[0;34m\u001b[0m\u001b[0;34m\u001b[0m\u001b[0m\n\u001b[1;32m      2\u001b[0m     \u001b[0;32mfor\u001b[0m \u001b[0maddress\u001b[0m \u001b[0;32min\u001b[0m \u001b[0mlink\u001b[0m\u001b[0;34m:\u001b[0m\u001b[0;34m\u001b[0m\u001b[0;34m\u001b[0m\u001b[0m\n\u001b[0;32m----> 3\u001b[0;31m         \u001b[0mprint\u001b[0m\u001b[0;34m(\u001b[0m\u001b[0maddress\u001b[0m\u001b[0;34m.\u001b[0m\u001b[0mget\u001b[0m\u001b[0;34m(\u001b[0m\u001b[0;34m'href'\u001b[0m\u001b[0;34m)\u001b[0m\u001b[0;34m)\u001b[0m \u001b[0;31m# compare with the .select() below\u001b[0m\u001b[0;34m\u001b[0m\u001b[0;34m\u001b[0m\u001b[0m\n\u001b[0m",
      "\u001b[0;32m~/pycharm/projects/venv/lib/python3.7/site-packages/bs4/element.py\u001b[0m in \u001b[0;36m__getattr__\u001b[0;34m(self, attr)\u001b[0m\n\u001b[1;32m    916\u001b[0m             raise AttributeError(\n\u001b[1;32m    917\u001b[0m                 \"'%s' object has no attribute '%s'\" % (\n\u001b[0;32m--> 918\u001b[0;31m                     self.__class__.__name__, attr))\n\u001b[0m\u001b[1;32m    919\u001b[0m \u001b[0;34m\u001b[0m\u001b[0m\n\u001b[1;32m    920\u001b[0m     \u001b[0;32mdef\u001b[0m \u001b[0moutput_ready\u001b[0m\u001b[0;34m(\u001b[0m\u001b[0mself\u001b[0m\u001b[0;34m,\u001b[0m \u001b[0mformatter\u001b[0m\u001b[0;34m=\u001b[0m\u001b[0;34m\"minimal\"\u001b[0m\u001b[0;34m)\u001b[0m\u001b[0;34m:\u001b[0m\u001b[0;34m\u001b[0m\u001b[0;34m\u001b[0m\u001b[0m\n",
      "\u001b[0;31mAttributeError\u001b[0m: 'NavigableString' object has no attribute 'get'"
     ]
    }
   ],
   "source": [
    "for link in soup.find_all('ul', class_='socials'):\n",
    "    for address in link:\n",
    "        print(address.get('href')) # compare with the .select() below "
   ]
  },
  {
   "cell_type": "code",
   "execution_count": 15,
   "metadata": {},
   "outputs": [
    {
     "data": {
      "text/plain": [
       "[<ul class=\"socials\">\n",
       " <li class=\"social instagram\"><b>Instagram: </b><a href=\"https://www.instagram.com/keithgalli/\">https://www.instagram.com/keithgalli/</a></li>\n",
       " <li class=\"social twitter\"><b>Twitter: </b><a href=\"https://twitter.com/keithgalli\">https://twitter.com/keithgalli</a></li>\n",
       " <li class=\"social linkedin\"><b>LinkedIn: </b><a href=\"https://www.linkedin.com/in/keithgalli/\">https://www.linkedin.com/in/keithgalli/</a></li>\n",
       " <li class=\"social tiktok\"><b>TikTok: </b><a href=\"https://www.tiktok.com/@keithgalli\">https://www.tiktok.com/@keithgalli</a></li>\n",
       " </ul>]"
      ]
     },
     "execution_count": 15,
     "metadata": {},
     "output_type": "execute_result"
    }
   ],
   "source": [
    "soup.select('ul.socials')"
   ]
  },
  {
   "cell_type": "markdown",
   "metadata": {},
   "source": [
    "*  way 1 getting clean herfs!"
   ]
  },
  {
   "cell_type": "code",
   "execution_count": 16,
   "metadata": {},
   "outputs": [
    {
     "data": {
      "text/plain": [
       "['https://www.instagram.com/keithgalli/',\n",
       " 'https://twitter.com/keithgalli',\n",
       " 'https://www.linkedin.com/in/keithgalli/',\n",
       " 'https://www.tiktok.com/@keithgalli']"
      ]
     },
     "execution_count": 16,
     "metadata": {},
     "output_type": "execute_result"
    }
   ],
   "source": [
    "links = soup.select('ul.socials a')\n",
    "actual_links = [link['href'] for link in links] # link['href']是个什么语法？\n",
    "actual_links"
   ]
  },
  {
   "cell_type": "markdown",
   "metadata": {},
   "source": [
    "*  way 2"
   ]
  },
  {
   "cell_type": "code",
   "execution_count": 17,
   "metadata": {},
   "outputs": [
    {
     "data": {
      "text/plain": [
       "['https://www.instagram.com/keithgalli/',\n",
       " 'https://twitter.com/keithgalli',\n",
       " 'https://www.linkedin.com/in/keithgalli/',\n",
       " 'https://www.tiktok.com/@keithgalli']"
      ]
     },
     "execution_count": 17,
     "metadata": {},
     "output_type": "execute_result"
    }
   ],
   "source": [
    "ulist = soup.find('ul', 'socials') # 从大到小搜索\n",
    "links = ulist.find_all('a') # 从大到小搜索\n",
    "actual_links  = [link['href'] for link in links] # ['href']\n",
    "actual_links"
   ]
  },
  {
   "cell_type": "code",
   "execution_count": 18,
   "metadata": {},
   "outputs": [
    {
     "data": {
      "text/plain": [
       "['https://www.instagram.com/keithgalli/',\n",
       " 'https://twitter.com/keithgalli',\n",
       " 'https://www.linkedin.com/in/keithgalli/',\n",
       " 'https://www.tiktok.com/@keithgalli']"
      ]
     },
     "execution_count": 18,
     "metadata": {},
     "output_type": "execute_result"
    }
   ],
   "source": [
    "ulist = soup.find('ul', 'socials') # 从大到小搜索\n",
    "links = ulist.find_all('a') # 从大到小搜索\n",
    "actual_links  = [link.text for link in links] # .text返回结果和上方一致！！！\n",
    "actual_links"
   ]
  },
  {
   "cell_type": "markdown",
   "metadata": {},
   "source": [
    "*  way 3"
   ]
  },
  {
   "cell_type": "code",
   "execution_count": 19,
   "metadata": {},
   "outputs": [
    {
     "data": {
      "text/plain": [
       "['https://www.instagram.com/keithgalli/',\n",
       " 'https://twitter.com/keithgalli',\n",
       " 'https://www.linkedin.com/in/keithgalli/',\n",
       " 'https://www.tiktok.com/@keithgalli']"
      ]
     },
     "execution_count": 19,
     "metadata": {},
     "output_type": "execute_result"
    }
   ],
   "source": [
    "links = soup.select('li.social a') # above, that is ('ul.socials a')\n",
    "# the complete tag in this html is: < li class=\"social twitter\"> 不用完全引用\n",
    "actual_links  = [link.text for link in links] # .text返回结果和上方一致！！！\n",
    "actual_links "
   ]
  },
  {
   "cell_type": "markdown",
   "metadata": {},
   "source": [
    "### next challenge： scrap a table and put it in Pandas"
   ]
  },
  {
   "cell_type": "code",
   "execution_count": 39,
   "metadata": {},
   "outputs": [
    {
     "data": {
      "image/png": "[encoded data removed]",
      "text/plain": [
       "<IPython.core.display.Image object>"
      ]
     },
     "execution_count": 39,
     "metadata": {},
     "output_type": "execute_result"
    }
   ],
   "source": [
    "add_pic('youtube1')\n",
    "# 这里就体现了find_all('tr')与find_all('td')之间的区别，覆盖范围不同"
   ]
  },
  {
   "cell_type": "code",
   "execution_count": 40,
   "metadata": {
    "scrolled": true
   },
   "outputs": [
    {
     "data": {
      "text/plain": [
       "[<tr>\n",
       " <th class=\"season\" data-sort=\"\">S</th>\n",
       " <th class=\"team\" data-sort=\"team\">Team</th>\n",
       " <th class=\"league\" data-sort=\"league\">League</th>\n",
       " <th class=\"regular gp\" data-sort=\"gp\">GP</th>\n",
       " <th class=\"regular g\" data-sort=\"g\">G</th>\n",
       " <th class=\"regular a\" data-sort=\"a\">A</th>\n",
       " <th class=\"regular tp\" data-sort=\"tp\">TP</th>\n",
       " <th class=\"regular pim\" data-sort=\"pim\">PIM</th>\n",
       " <th class=\"regular pm\" data-sort=\"pm\">+/-</th>\n",
       " <th class=\"separator\"> </th>\n",
       " <th class=\"postseason\">POST</th>\n",
       " <th class=\"postseason gp\" data-sort=\"playoffs-gp\">GP</th>\n",
       " <th class=\"postseason g\" data-sort=\"playoffs-g\">G</th>\n",
       " <th class=\"postseason a\" data-sort=\"playoffs-a\">A</th>\n",
       " <th class=\"postseason tp\" data-sort=\"playoffs-tp\">TP</th>\n",
       " <th class=\"postseason pim\" data-sort=\"playoffs-pim\">PIM</th>\n",
       " <th class=\"postseason pm\" data-sort=\"playoffs-pm\">+/-</th>\n",
       " </tr>,\n",
       " <tr class=\"team-continent-NA\">\n",
       " <td class=\"season sorted\">\n",
       "                   2014-15\n",
       "               </td>\n",
       " <td class=\"team\">\n",
       " <i><img src=\"images/flag.png\"/></i>\n",
       " <span class=\"txt-blue\">\n",
       " <a href=\"https://www.eliteprospects.com/team/10263/mit-mass.-inst.-of-tech./2014-2015?tab=stats\"> MIT (Mass. Inst. of Tech.) </a>\n",
       " </span>\n",
       " </td>\n",
       " <td class=\"league\"> <a href=\"https://www.eliteprospects.com/league/acha-ii/stats/2014-2015\"> ACHA II </a> </td>\n",
       " <td class=\"regular gp\">17</td>\n",
       " <td class=\"regular g\">3</td>\n",
       " <td class=\"regular a\">9</td>\n",
       " <td class=\"regular tp\">12</td>\n",
       " <td class=\"regular pim\">20</td>\n",
       " <td class=\"regular pm\"></td>\n",
       " <td class=\"separator\"> | </td>\n",
       " <td class=\"postseason\">\n",
       " <a href=\"https://www.eliteprospects.com/league/acha-ii/stats/2014-2015\"> </a>\n",
       " </td>\n",
       " <td class=\"postseason gp\">\n",
       " </td>\n",
       " <td class=\"postseason g\">\n",
       " </td>\n",
       " <td class=\"postseason a\">\n",
       " </td>\n",
       " <td class=\"postseason tp\">\n",
       " </td>\n",
       " <td class=\"postseason pim\">\n",
       " </td>\n",
       " <td class=\"postseason pm\">\n",
       " </td>\n",
       " </tr>,\n",
       " <tr class=\"team-continent-NA\">\n",
       " <td class=\"season sorted\">\n",
       "                   2015-16\n",
       "               </td>\n",
       " <td class=\"team\">\n",
       " <i><img src=\"images/flag.png\"/></i>\n",
       " <span class=\"txt-blue\">\n",
       " <a href=\"https://www.eliteprospects.com/team/10263/mit-mass.-inst.-of-tech./2015-2016?tab=stats\"> MIT (Mass. Inst. of Tech.) </a>\n",
       " </span>\n",
       " </td>\n",
       " <td class=\"league\"> <a href=\"https://www.eliteprospects.com/league/acha-ii/stats/2015-2016\"> ACHA II </a> </td>\n",
       " <td class=\"regular gp\">9</td>\n",
       " <td class=\"regular g\">1</td>\n",
       " <td class=\"regular a\">1</td>\n",
       " <td class=\"regular tp\">2</td>\n",
       " <td class=\"regular pim\">2</td>\n",
       " <td class=\"regular pm\"></td>\n",
       " <td class=\"separator\"> | </td>\n",
       " <td class=\"postseason\">\n",
       " <a href=\"https://www.eliteprospects.com/league/acha-ii/stats/2015-2016\"> </a>\n",
       " </td>\n",
       " <td class=\"postseason gp\">\n",
       " </td>\n",
       " <td class=\"postseason g\">\n",
       " </td>\n",
       " <td class=\"postseason a\">\n",
       " </td>\n",
       " <td class=\"postseason tp\">\n",
       " </td>\n",
       " <td class=\"postseason pim\">\n",
       " </td>\n",
       " <td class=\"postseason pm\">\n",
       " </td>\n",
       " </tr>,\n",
       " <tr class=\"team-continent-NA\">\n",
       " <td class=\"season sorted\">\n",
       "                   2016-17\n",
       "               </td>\n",
       " <td class=\"team\">\n",
       " <i><img src=\"images/flag.png\"/></i>\n",
       " <span class=\"txt-blue\">\n",
       " <a href=\"https://www.eliteprospects.com/team/10263/mit-mass.-inst.-of-tech./2016-2017?tab=stats\"> MIT (Mass. Inst. of Tech.) </a>\n",
       " </span>\n",
       " </td>\n",
       " <td class=\"league\"> <a href=\"https://www.eliteprospects.com/league/acha-ii/stats/2016-2017\"> ACHA II </a> </td>\n",
       " <td class=\"regular gp\">12</td>\n",
       " <td class=\"regular g\">5</td>\n",
       " <td class=\"regular a\">5</td>\n",
       " <td class=\"regular tp\">10</td>\n",
       " <td class=\"regular pim\">8</td>\n",
       " <td class=\"regular pm\">0</td>\n",
       " <td class=\"separator\"> | </td>\n",
       " <td class=\"postseason\">\n",
       " </td>\n",
       " <td class=\"postseason gp\">\n",
       " </td>\n",
       " <td class=\"postseason g\">\n",
       " </td>\n",
       " <td class=\"postseason a\">\n",
       " </td>\n",
       " <td class=\"postseason tp\">\n",
       " </td>\n",
       " <td class=\"postseason pim\">\n",
       " </td>\n",
       " <td class=\"postseason pm\">\n",
       " </td>\n",
       " </tr>,\n",
       " <tr class=\"team-continent-EU\">\n",
       " <td class=\"season sorted\">\n",
       "                   2017-18\n",
       "               </td>\n",
       " <td class=\"team\">\n",
       "                   Did not play\n",
       "               </td>\n",
       " <td class=\"league\"> <a href=\"https://www.eliteprospects.com/stats\"> </a> </td>\n",
       " <td class=\"regular gp\"></td>\n",
       " <td class=\"regular g\"></td>\n",
       " <td class=\"regular a\"></td>\n",
       " <td class=\"regular tp\"></td>\n",
       " <td class=\"regular pim\"></td>\n",
       " <td class=\"regular pm\"></td>\n",
       " <td class=\"separator\"> | </td>\n",
       " <td class=\"postseason\">\n",
       " <a href=\"https://www.eliteprospects.com/stats\"> </a>\n",
       " </td>\n",
       " <td class=\"postseason gp\">\n",
       " </td>\n",
       " <td class=\"postseason g\">\n",
       " </td>\n",
       " <td class=\"postseason a\">\n",
       " </td>\n",
       " <td class=\"postseason tp\">\n",
       " </td>\n",
       " <td class=\"postseason pim\">\n",
       " </td>\n",
       " <td class=\"postseason pm\">\n",
       " </td>\n",
       " </tr>,\n",
       " <tr class=\"team-continent-NA\">\n",
       " <td class=\"season sorted\">\n",
       "                   2018-19\n",
       "               </td>\n",
       " <td class=\"team\">\n",
       " <i><img src=\"images/flag.png\"/></i>\n",
       " <span class=\"txt-blue\">\n",
       " <a href=\"https://www.eliteprospects.com/team/10263/mit-mass.-inst.-of-tech./2018-2019?tab=stats\"> MIT (Mass. Inst. of Tech.) </a>\n",
       " </span>\n",
       " </td>\n",
       " <td class=\"league\"> <a href=\"https://www.eliteprospects.com/league/acha-iii/stats/2018-2019\"> ACHA III </a> </td>\n",
       " <td class=\"regular gp\">8</td>\n",
       " <td class=\"regular g\">5</td>\n",
       " <td class=\"regular a\">10</td>\n",
       " <td class=\"regular tp\">15</td>\n",
       " <td class=\"regular pim\">8</td>\n",
       " <td class=\"regular pm\"></td>\n",
       " <td class=\"separator\"> | </td>\n",
       " <td class=\"postseason\">\n",
       " <a href=\"https://www.eliteprospects.com/league/acha-iii/stats/2018-2019\"> </a>\n",
       " </td>\n",
       " <td class=\"postseason gp\">\n",
       " </td>\n",
       " <td class=\"postseason g\">\n",
       " </td>\n",
       " <td class=\"postseason a\">\n",
       " </td>\n",
       " <td class=\"postseason tp\">\n",
       " </td>\n",
       " <td class=\"postseason pim\">\n",
       " </td>\n",
       " <td class=\"postseason pm\">\n",
       " </td>\n",
       " </tr>]"
      ]
     },
     "execution_count": 40,
     "metadata": {},
     "output_type": "execute_result"
    }
   ],
   "source": [
    "soup.find_all('tr')"
   ]
  },
  {
   "cell_type": "markdown",
   "metadata": {},
   "source": [
    "名词解释\n",
    "\n",
    "tbody table body\n",
    "\n",
    "th table heads \n",
    "\n",
    "tr table rows\n",
    "\n",
    "td table data"
   ]
  },
  {
   "cell_type": "code",
   "execution_count": 43,
   "metadata": {},
   "outputs": [],
   "source": [
    "titles = soup.select('table.hockey-stats th')\n",
    "columns_names=[title.text for title in titles] #colum titles for panda tables below"
   ]
  },
  {
   "cell_type": "code",
   "execution_count": 51,
   "metadata": {
    "scrolled": true
   },
   "outputs": [
    {
     "data": {
      "text/html": [
       "<div>\n",
       "<style scoped>\n",
       "    .dataframe tbody tr th:only-of-type {\n",
       "        vertical-align: middle;\n",
       "    }\n",
       "\n",
       "    .dataframe tbody tr th {\n",
       "        vertical-align: top;\n",
       "    }\n",
       "\n",
       "    .dataframe thead th {\n",
       "        text-align: right;\n",
       "    }\n",
       "</style>\n",
       "<table border=\"1\" class=\"dataframe\">\n",
       "  <thead>\n",
       "    <tr style=\"text-align: right;\">\n",
       "      <th></th>\n",
       "      <th>S</th>\n",
       "      <th>Team</th>\n",
       "      <th>League</th>\n",
       "      <th>GP</th>\n",
       "      <th>G</th>\n",
       "      <th>A</th>\n",
       "      <th>TP</th>\n",
       "      <th>PIM</th>\n",
       "      <th>+/-</th>\n",
       "      <th></th>\n",
       "      <th>POST</th>\n",
       "      <th>GP</th>\n",
       "      <th>G</th>\n",
       "      <th>A</th>\n",
       "      <th>TP</th>\n",
       "      <th>PIM</th>\n",
       "      <th>+/-</th>\n",
       "    </tr>\n",
       "  </thead>\n",
       "  <tbody>\n",
       "    <tr>\n",
       "      <th>0</th>\n",
       "      <td>2014-15</td>\n",
       "      <td>MIT (Mass. Inst. of Tech.)</td>\n",
       "      <td>ACHA II</td>\n",
       "      <td>17</td>\n",
       "      <td>3</td>\n",
       "      <td>9</td>\n",
       "      <td>12</td>\n",
       "      <td>20</td>\n",
       "      <td></td>\n",
       "      <td>|</td>\n",
       "      <td></td>\n",
       "      <td></td>\n",
       "      <td></td>\n",
       "      <td></td>\n",
       "      <td></td>\n",
       "      <td></td>\n",
       "      <td></td>\n",
       "    </tr>\n",
       "    <tr>\n",
       "      <th>1</th>\n",
       "      <td>2015-16</td>\n",
       "      <td>MIT (Mass. Inst. of Tech.)</td>\n",
       "      <td>ACHA II</td>\n",
       "      <td>9</td>\n",
       "      <td>1</td>\n",
       "      <td>1</td>\n",
       "      <td>2</td>\n",
       "      <td>2</td>\n",
       "      <td></td>\n",
       "      <td>|</td>\n",
       "      <td></td>\n",
       "      <td></td>\n",
       "      <td></td>\n",
       "      <td></td>\n",
       "      <td></td>\n",
       "      <td></td>\n",
       "      <td></td>\n",
       "    </tr>\n",
       "    <tr>\n",
       "      <th>2</th>\n",
       "      <td>2016-17</td>\n",
       "      <td>MIT (Mass. Inst. of Tech.)</td>\n",
       "      <td>ACHA II</td>\n",
       "      <td>12</td>\n",
       "      <td>5</td>\n",
       "      <td>5</td>\n",
       "      <td>10</td>\n",
       "      <td>8</td>\n",
       "      <td>0</td>\n",
       "      <td>|</td>\n",
       "      <td></td>\n",
       "      <td></td>\n",
       "      <td></td>\n",
       "      <td></td>\n",
       "      <td></td>\n",
       "      <td></td>\n",
       "      <td></td>\n",
       "    </tr>\n",
       "    <tr>\n",
       "      <th>3</th>\n",
       "      <td>2018-19</td>\n",
       "      <td>MIT (Mass. Inst. of Tech.)</td>\n",
       "      <td>ACHA III</td>\n",
       "      <td>8</td>\n",
       "      <td>5</td>\n",
       "      <td>10</td>\n",
       "      <td>15</td>\n",
       "      <td>8</td>\n",
       "      <td></td>\n",
       "      <td>|</td>\n",
       "      <td></td>\n",
       "      <td></td>\n",
       "      <td></td>\n",
       "      <td></td>\n",
       "      <td></td>\n",
       "      <td></td>\n",
       "      <td></td>\n",
       "    </tr>\n",
       "  </tbody>\n",
       "</table>\n",
       "</div>"
      ],
      "text/plain": [
       "         S                        Team    League  GP  G   A  TP PIM +/-     \\\n",
       "0  2014-15  MIT (Mass. Inst. of Tech.)   ACHA II  17  3   9  12  20      |   \n",
       "1  2015-16  MIT (Mass. Inst. of Tech.)   ACHA II   9  1   1   2   2      |   \n",
       "2  2016-17  MIT (Mass. Inst. of Tech.)   ACHA II  12  5   5  10   8   0  |   \n",
       "3  2018-19  MIT (Mass. Inst. of Tech.)  ACHA III   8  5  10  15   8      |   \n",
       "\n",
       "  POST GP G A TP PIM +/-  \n",
       "0                         \n",
       "1                         \n",
       "2                         \n",
       "3                         "
      ]
     },
     "execution_count": 51,
     "metadata": {},
     "output_type": "execute_result"
    }
   ],
   "source": [
    "# find this code in stack overflow, adapting my results according to this code\n",
    "l = []\n",
    "for tr in soup.find_all('tr','team-continent-NA'): # need to create a table_rows\n",
    "    td = tr.find_all('td')\n",
    "    row = [str(tr.get_text()).strip() for tr in td]\n",
    "    l.append(row)\n",
    "pd.DataFrame(l, columns=columns_names) "
   ]
  },
  {
   "cell_type": "markdown",
   "metadata": {},
   "source": [
    "### Youtube solution:"
   ]
  },
  {
   "cell_type": "code",
   "execution_count": 48,
   "metadata": {},
   "outputs": [],
   "source": [
    "table_rows = soup.find('tbody').find_all('tr')\n",
    "l = []\n",
    "for tr in table_rows:\n",
    "    td = tr.find_all('td')\n",
    "    row = [str(tr.get_text()).strip() for tr in td]\n",
    "    l.append(row)\n",
    "df = pd.DataFrame(l, columns = columns_names)"
   ]
  },
  {
   "cell_type": "code",
   "execution_count": 49,
   "metadata": {},
   "outputs": [
    {
     "data": {
      "text/html": [
       "<div>\n",
       "<style scoped>\n",
       "    .dataframe tbody tr th:only-of-type {\n",
       "        vertical-align: middle;\n",
       "    }\n",
       "\n",
       "    .dataframe tbody tr th {\n",
       "        vertical-align: top;\n",
       "    }\n",
       "\n",
       "    .dataframe thead th {\n",
       "        text-align: right;\n",
       "    }\n",
       "</style>\n",
       "<table border=\"1\" class=\"dataframe\">\n",
       "  <thead>\n",
       "    <tr style=\"text-align: right;\">\n",
       "      <th></th>\n",
       "      <th>S</th>\n",
       "      <th>Team</th>\n",
       "      <th>League</th>\n",
       "      <th>GP</th>\n",
       "      <th>G</th>\n",
       "      <th>A</th>\n",
       "      <th>TP</th>\n",
       "      <th>PIM</th>\n",
       "      <th>+/-</th>\n",
       "      <th></th>\n",
       "      <th>POST</th>\n",
       "      <th>GP</th>\n",
       "      <th>G</th>\n",
       "      <th>A</th>\n",
       "      <th>TP</th>\n",
       "      <th>PIM</th>\n",
       "      <th>+/-</th>\n",
       "    </tr>\n",
       "  </thead>\n",
       "  <tbody>\n",
       "    <tr>\n",
       "      <th>0</th>\n",
       "      <td>2014-15</td>\n",
       "      <td>MIT (Mass. Inst. of Tech.)</td>\n",
       "      <td>ACHA II</td>\n",
       "      <td>17</td>\n",
       "      <td>3</td>\n",
       "      <td>9</td>\n",
       "      <td>12</td>\n",
       "      <td>20</td>\n",
       "      <td></td>\n",
       "      <td>|</td>\n",
       "      <td></td>\n",
       "      <td></td>\n",
       "      <td></td>\n",
       "      <td></td>\n",
       "      <td></td>\n",
       "      <td></td>\n",
       "      <td></td>\n",
       "    </tr>\n",
       "    <tr>\n",
       "      <th>1</th>\n",
       "      <td>2015-16</td>\n",
       "      <td>MIT (Mass. Inst. of Tech.)</td>\n",
       "      <td>ACHA II</td>\n",
       "      <td>9</td>\n",
       "      <td>1</td>\n",
       "      <td>1</td>\n",
       "      <td>2</td>\n",
       "      <td>2</td>\n",
       "      <td></td>\n",
       "      <td>|</td>\n",
       "      <td></td>\n",
       "      <td></td>\n",
       "      <td></td>\n",
       "      <td></td>\n",
       "      <td></td>\n",
       "      <td></td>\n",
       "      <td></td>\n",
       "    </tr>\n",
       "    <tr>\n",
       "      <th>2</th>\n",
       "      <td>2016-17</td>\n",
       "      <td>MIT (Mass. Inst. of Tech.)</td>\n",
       "      <td>ACHA II</td>\n",
       "      <td>12</td>\n",
       "      <td>5</td>\n",
       "      <td>5</td>\n",
       "      <td>10</td>\n",
       "      <td>8</td>\n",
       "      <td>0</td>\n",
       "      <td>|</td>\n",
       "      <td></td>\n",
       "      <td></td>\n",
       "      <td></td>\n",
       "      <td></td>\n",
       "      <td></td>\n",
       "      <td></td>\n",
       "      <td></td>\n",
       "    </tr>\n",
       "    <tr>\n",
       "      <th>3</th>\n",
       "      <td>2017-18</td>\n",
       "      <td>Did not play</td>\n",
       "      <td></td>\n",
       "      <td></td>\n",
       "      <td></td>\n",
       "      <td></td>\n",
       "      <td></td>\n",
       "      <td></td>\n",
       "      <td></td>\n",
       "      <td>|</td>\n",
       "      <td></td>\n",
       "      <td></td>\n",
       "      <td></td>\n",
       "      <td></td>\n",
       "      <td></td>\n",
       "      <td></td>\n",
       "      <td></td>\n",
       "    </tr>\n",
       "    <tr>\n",
       "      <th>4</th>\n",
       "      <td>2018-19</td>\n",
       "      <td>MIT (Mass. Inst. of Tech.)</td>\n",
       "      <td>ACHA III</td>\n",
       "      <td>8</td>\n",
       "      <td>5</td>\n",
       "      <td>10</td>\n",
       "      <td>15</td>\n",
       "      <td>8</td>\n",
       "      <td></td>\n",
       "      <td>|</td>\n",
       "      <td></td>\n",
       "      <td></td>\n",
       "      <td></td>\n",
       "      <td></td>\n",
       "      <td></td>\n",
       "      <td></td>\n",
       "      <td></td>\n",
       "    </tr>\n",
       "  </tbody>\n",
       "</table>\n",
       "</div>"
      ],
      "text/plain": [
       "         S                        Team    League  GP  G   A  TP PIM +/-     \\\n",
       "0  2014-15  MIT (Mass. Inst. of Tech.)   ACHA II  17  3   9  12  20      |   \n",
       "1  2015-16  MIT (Mass. Inst. of Tech.)   ACHA II   9  1   1   2   2      |   \n",
       "2  2016-17  MIT (Mass. Inst. of Tech.)   ACHA II  12  5   5  10   8   0  |   \n",
       "3  2017-18                Did not play                                   |   \n",
       "4  2018-19  MIT (Mass. Inst. of Tech.)  ACHA III   8  5  10  15   8      |   \n",
       "\n",
       "  POST GP G A TP PIM +/-  \n",
       "0                         \n",
       "1                         \n",
       "2                         \n",
       "3                         \n",
       "4                         "
      ]
     },
     "execution_count": 49,
     "metadata": {},
     "output_type": "execute_result"
    }
   ],
   "source": [
    "df"
   ]
  },
  {
   "cell_type": "markdown",
   "metadata": {},
   "source": [
    "## 我的solution结果漏掉了一行。原因肯定还是因为定位！\n"
   ]
  },
  {
   "cell_type": "markdown",
   "metadata": {},
   "source": [
    "下面杠掉code集合，是我在使用表格直接爬取前，一块儿一块儿的手动检索爬取\n",
    "爬取结果均成功，但效率很差"
   ]
  },
  {
   "cell_type": "code",
   "execution_count": 23,
   "metadata": {},
   "outputs": [],
   "source": [
    "# titles = soup.select('table.hockey-stats th')\n",
    "\n",
    "# columns=[title.text for title in titles]\n",
    "\n",
    "# soup.find_all('td','season sorted')\n",
    "\n",
    "# blues = soup.select('span.txt-blue a') # has to reach the level of a to extract hrefs\n",
    "\n",
    "# [blinks.get('href') for blinks in blues]\n",
    "\n",
    "# [blinks.string for blinks in blues]\n",
    "\n",
    "# leagues = soup.select('td.league a')\n",
    "# print([league.get('href') for league in leagues])\n",
    "# print([league.string for league in leagues]) # here, .string and .text does the same thing\n",
    "\n",
    "# for i in soup.find_all('td', 'regular gp'):\n",
    "#     print(i.string)"
   ]
  },
  {
   "cell_type": "code",
   "execution_count": null,
   "metadata": {},
   "outputs": [],
   "source": []
  },
  {
   "cell_type": "markdown",
   "metadata": {},
   "source": [
    "## Task: Grab the fun fact with the word 'is' in it"
   ]
  },
  {
   "cell_type": "code",
   "execution_count": 52,
   "metadata": {},
   "outputs": [
    {
     "data": {
      "text/plain": [
       "\"\\nKeith Galli's Page\\n\\n\\n\\nWelcome to my page!\\n\\nAbout me\\nHi, my name is Keith and I am a YouTuber who focuses on content related to programming, data science, and machine learning!\\nHere is a link to my channel: youtube.com/kgmit\\nI grew up in the great state of New Hampshire here in the USA. From an early age I always loved math. Around my senior year of high school, my brother first introduced me to programming. I found it a creative way to apply the same type of logical thinking skills that I enjoy\""
      ]
     },
     "execution_count": 52,
     "metadata": {},
     "output_type": "execute_result"
    }
   ],
   "source": [
    "soup.text[:500]"
   ]
  },
  {
   "cell_type": "code",
   "execution_count": 53,
   "metadata": {},
   "outputs": [
    {
     "data": {
      "text/plain": [
       "[<ul class=\"fun-facts\">\n",
       " <li>Owned my dream car in high school <a href=\"#footer\"><sup>1</sup></a></li>\n",
       " <li>Middle name is Ronald</li>\n",
       " <li>Never had been on a plane until college</li>\n",
       " <li>Dunkin Donuts coffee is better than Starbucks</li>\n",
       " <li>A favorite book series of mine is <i>Ender's Game</i></li>\n",
       " <li>Current video game of choice is <i>Rocket League</i></li>\n",
       " <li>The band that I've seen the most times live is the <i>Zac Brown Band</i></li>\n",
       " </ul>]"
      ]
     },
     "execution_count": 53,
     "metadata": {},
     "output_type": "execute_result"
    }
   ],
   "source": [
    "soup.select('ul.fun-facts')"
   ]
  },
  {
   "cell_type": "code",
   "execution_count": 54,
   "metadata": {},
   "outputs": [
    {
     "name": "stdout",
     "output_type": "stream",
     "text": [
      "None\n",
      "\n",
      "Owned my dream car in high school 1\n",
      "Middle name is Ronald\n",
      "Never had been on a plane until college\n",
      "Dunkin Donuts coffee is better than Starbucks\n",
      "A favorite book series of mine is Ender's Game\n",
      "Current video game of choice is Rocket League\n",
      "The band that I've seen the most times live is the Zac Brown Band\n",
      "\n"
     ]
    }
   ],
   "source": [
    "for fact in soup.select('ul.fun-facts'):\n",
    "    print(fact.string)\n",
    "    print(fact.text)"
   ]
  },
  {
   "cell_type": "code",
   "execution_count": 67,
   "metadata": {},
   "outputs": [
    {
     "name": "stdout",
     "output_type": "stream",
     "text": [
      "['Middle name is Ronald', 'Dunkin Donuts coffee is better than Starbucks', \"A favorite book series of mine is Ender's Game\", 'Current video game of choice is Rocket League', \"The band that I've seen the most times live is the Zac Brown Band\"]\n"
     ]
    }
   ],
   "source": [
    "real_fact=[]\n",
    "for fact in soup.select('ul.fun-facts li'): # 范围再次决定了scrap后的内容\n",
    "    if 'is' in fact.text:\n",
    "        real_fact.append(fact.text)\n",
    "print(real_fact)"
   ]
  },
  {
   "cell_type": "code",
   "execution_count": 71,
   "metadata": {},
   "outputs": [
    {
     "data": {
      "text/plain": [
       "'Middle name is Ronald'"
      ]
     },
     "execution_count": 71,
     "metadata": {},
     "output_type": "execute_result"
    }
   ],
   "source": [
    "real_fact[0]"
   ]
  },
  {
   "cell_type": "code",
   "execution_count": 72,
   "metadata": {},
   "outputs": [
    {
     "name": "stdout",
     "output_type": "stream",
     "text": [
      "[\"\\nOwned my dream car in high school 1\\nMiddle name is Ronald\\nNever had been on a plane until college\\nDunkin Donuts coffee is better than Starbucks\\nA favorite book series of mine is Ender's Game\\nCurrent video game of choice is Rocket League\\nThe band that I've seen the most times live is the Zac Brown Band\\n\"]\n"
     ]
    }
   ],
   "source": [
    "real_fact=[]\n",
    "for fact in soup.select('ul.fun-facts'): # 少了‘li’，整个内容变成了一个整体，而非上例中一条一条的了\n",
    "    if 'is' in fact.text:\n",
    "        real_fact.append(fact.text)\n",
    "print(real_fact)"
   ]
  },
  {
   "cell_type": "code",
   "execution_count": 73,
   "metadata": {},
   "outputs": [
    {
     "data": {
      "text/plain": [
       "\"\\nOwned my dream car in high school 1\\nMiddle name is Ronald\\nNever had been on a plane until college\\nDunkin Donuts coffee is better than Starbucks\\nA favorite book series of mine is Ender's Game\\nCurrent video game of choice is Rocket League\\nThe band that I've seen the most times live is the Zac Brown Band\\n\""
      ]
     },
     "execution_count": 73,
     "metadata": {},
     "output_type": "execute_result"
    }
   ],
   "source": [
    "real_fact[0]"
   ]
  },
  {
   "cell_type": "markdown",
   "metadata": {},
   "source": [
    "### Youtube solution"
   ]
  },
  {
   "cell_type": "code",
   "execution_count": 97,
   "metadata": {},
   "outputs": [
    {
     "data": {
      "text/plain": [
       "['Middle name is Ronald',\n",
       " 'Dunkin Donuts coffee is better than Starbucks',\n",
       " 'A favorite book series of mine is ',\n",
       " 'Current video game of choice is ',\n",
       " \"The band that I've seen the most times live is the \"]"
      ]
     },
     "execution_count": 97,
     "metadata": {},
     "output_type": "execute_result"
    }
   ],
   "source": [
    "import re\n",
    "facts = soup.select('ul.fun-facts li') # step 1, pin down the location\n",
    "\n",
    "facts_with_is = [fact.find(string = re.compile('is')) for fact in facts]\n",
    "# step 2, fact.find(string= re.compile( '' )) , searching with regex\n",
    "# re.compile('is') 应该是在判断 is 是否在一个句子中...因此才会返回None，\n",
    "# 而我上面用的for loop是在判断过后，只添加True的元素进入list\n",
    "facts_with_is = [fact for fact in facts_with_is if fact]\n",
    "# step 3, get rid of 'None'\n",
    "facts_with_is\n",
    "\n",
    "# THE RESULT IS NOT COMPLETE!!! SOMETHING IS MISSING..."
   ]
  },
  {
   "cell_type": "code",
   "execution_count": 98,
   "metadata": {},
   "outputs": [
    {
     "data": {
      "text/plain": [
       "['Middle name is Ronald',\n",
       " 'Dunkin Donuts coffee is better than Starbucks',\n",
       " \"A favorite book series of mine is Ender's Game\",\n",
       " 'Current video game of choice is Rocket League',\n",
       " \"The band that I've seen the most times live is the Zac Brown Band\"]"
      ]
     },
     "execution_count": 98,
     "metadata": {},
     "output_type": "execute_result"
    }
   ],
   "source": [
    "facts = soup.select('ul.fun-facts li') \n",
    "facts_with_is = [fact.find(string = re.compile('is')) for fact in facts]\n",
    "facts_with_is = [fact.find_parent().get_text() for fact in facts_with_is if fact]\n",
    "#                fact.find_parent().get_text()... 第一次使用find_parent()\n",
    "facts_with_is\n",
    "\n",
    "# THE RESULT IS COMPLETE."
   ]
  },
  {
   "cell_type": "code",
   "execution_count": null,
   "metadata": {},
   "outputs": [],
   "source": []
  },
  {
   "cell_type": "markdown",
   "metadata": {},
   "source": [
    "### Download Images "
   ]
  },
  {
   "cell_type": "code",
   "execution_count": 99,
   "metadata": {},
   "outputs": [],
   "source": [
    "import os"
   ]
  },
  {
   "cell_type": "code",
   "execution_count": 135,
   "metadata": {},
   "outputs": [],
   "source": [
    "url = 'https://keithgalli.github.io/web-scraping/webpage.html'\n",
    "root = '/Users/paxton615/Github_Personal/Notes/Notes/pics/youtube/'"
   ]
  },
  {
   "cell_type": "code",
   "execution_count": 101,
   "metadata": {},
   "outputs": [],
   "source": [
    "path = root + url.split('/')[-1]"
   ]
  },
  {
   "cell_type": "code",
   "execution_count": null,
   "metadata": {},
   "outputs": [],
   "source": []
  },
  {
   "cell_type": "code",
   "execution_count": 116,
   "metadata": {},
   "outputs": [
    {
     "data": {
      "text/plain": [
       "[<img alt=\"Lake Como\" src=\"images/italy/lake_como.jpg\" style=\"height:100%\"/>,\n",
       " <img alt=\"Pontevecchio, Florence\" src=\"images/italy/pontevecchio.jpg\" style=\"height:100%\"/>,\n",
       " <img alt=\"Riomaggiore, Cinque de Terre\" src=\"images/italy/riomaggiore.jpg\" style=\"height:100%\"/>]"
      ]
     },
     "execution_count": 116,
     "metadata": {},
     "output_type": "execute_result"
    }
   ],
   "source": [
    "soup.select('div.row div.column img')"
   ]
  },
  {
   "cell_type": "code",
   "execution_count": 133,
   "metadata": {},
   "outputs": [],
   "source": [
    "soup.find_all('img' )[0].content # 如果不限定范围，这里的img是对全网页进行的"
   ]
  },
  {
   "cell_type": "code",
   "execution_count": null,
   "metadata": {},
   "outputs": [],
   "source": []
  },
  {
   "cell_type": "code",
   "execution_count": 132,
   "metadata": {},
   "outputs": [
    {
     "name": "stdout",
     "output_type": "stream",
     "text": [
      "not saved\n"
     ]
    }
   ],
   "source": [
    "# The structures are like below:\n",
    "try:\n",
    "    if not os.path.exists(root):  # 检查储存目录是否‘不存在’\n",
    "        os.mkdir(root)            \n",
    "    if not os.path.exists(path):  # 检查目录下此文件是否‘不存在’\n",
    "        r = requests.get(url)     # 请求url连接\n",
    "        with open(path, 'wb') as f:   #在预定path下写入文件\n",
    "            f.write(url.content)\n",
    "            f.close()\n",
    "            print('pic saved')\n",
    "    else:\n",
    "        print('not saved')\n",
    "except:\n",
    "    print('try again')"
   ]
  },
  {
   "cell_type": "code",
   "execution_count": null,
   "metadata": {},
   "outputs": [],
   "source": []
  },
  {
   "cell_type": "code",
   "execution_count": 118,
   "metadata": {},
   "outputs": [
    {
     "data": {
      "text/plain": [
       "'https://keithgalli.github.io/web-scraping/webpage.html'"
      ]
     },
     "execution_count": 118,
     "metadata": {},
     "output_type": "execute_result"
    }
   ],
   "source": [
    "r.url"
   ]
  },
  {
   "cell_type": "code",
   "execution_count": 119,
   "metadata": {},
   "outputs": [
    {
     "data": {
      "text/plain": [
       "<head>\n",
       "<title>Keith Galli's Page</title>\n",
       "<style>\n",
       "  table {\n",
       "    border-collapse: collapse;\n",
       "  }\n",
       "  th {\n",
       "    padding:5px;\n",
       "  }\n",
       "  td {\n",
       "    border: 1px solid #ddd;\n",
       "    padding: 5px;\n",
       "  }\n",
       "  tr:nth-child(even) {\n",
       "    background-color: #f2f2f2;\n",
       "  }\n",
       "  th {\n",
       "    padding-top: 12px;\n",
       "    padding-bottom: 12px;\n",
       "    text-align: left;\n",
       "    background-color: #add8e6;\n",
       "    color: black;\n",
       "  }\n",
       "  .block {\n",
       "  width: 100px;\n",
       "  /*float: left;*/\n",
       "    display: inline-block;\n",
       "    zoom: 1;\n",
       "  }\n",
       "  .column {\n",
       "  float: left;\n",
       "  height: 200px;\n",
       "  /*width: 33.33%;*/\n",
       "  padding: 5px;\n",
       "  }\n",
       "\n",
       "  .row::after {\n",
       "    content: \"\";\n",
       "    clear: both;\n",
       "    display: table;\n",
       "  }\n",
       "</style>\n",
       "</head>\n",
       "<body>\n",
       "<h1>Welcome to my page!</h1>\n",
       "<img src=\"./images/selfie1.jpg\" width=\"300px\"/>\n",
       "<h2>About me</h2>\n",
       "<p>Hi, my name is Keith and I am a YouTuber who focuses on content related to programming, data science, and machine learning!</p>\n",
       "<p>Here is a link to my channel: <a href=\"https://www.youtube.com/kgmit\">youtube.com/kgmit</a></p>\n",
       "<p>I grew up in the great state of New Hampshire here in the USA. From an early age I always loved math. Around my senior year of high school, my brother first introduced me to programming. I found it a creative way to apply the same type of logical thinking skills that I enjoyed with math. This influenced me to study computer science in college and ultimately create a YouTube channel to share some things that I have learned along the way.</p>\n",
       "<h3>Hobbies</h3>\n",
       "<p>Believe it or not, I don't code 24/7. I love doing all sorts of active things. I like to play ice hockey &amp; table tennis as well as run, hike, skateboard, and snowboard. In addition to sports, I am a board game enthusiast. The two that I've been playing the most recently are <i>Settlers of Catan</i> and <i>Othello</i>.</p>\n",
       "<h3>Fun Facts</h3>\n",
       "<ul class=\"fun-facts\">\n",
       "<li>Owned my dream car in high school <a href=\"#footer\"><sup>1</sup></a></li>\n",
       "<li>Middle name is Ronald</li>\n",
       "<li>Never had been on a plane until college</li>\n",
       "<li>Dunkin Donuts coffee is better than Starbucks</li>\n",
       "<li>A favorite book series of mine is <i>Ender's Game</i></li>\n",
       "<li>Current video game of choice is <i>Rocket League</i></li>\n",
       "<li>The band that I've seen the most times live is the <i>Zac Brown Band</i></li>\n",
       "</ul>\n",
       "<h2>Social Media</h2>\n",
       "  I encourage you to check out my content on all social media platforms\n",
       "  <br/>\n",
       "<ul class=\"socials\">\n",
       "<li class=\"social instagram\"><b>Instagram: </b><a href=\"https://www.instagram.com/keithgalli/\">https://www.instagram.com/keithgalli/</a></li>\n",
       "<li class=\"social twitter\"><b>Twitter: </b><a href=\"https://twitter.com/keithgalli\">https://twitter.com/keithgalli</a></li>\n",
       "<li class=\"social linkedin\"><b>LinkedIn: </b><a href=\"https://www.linkedin.com/in/keithgalli/\">https://www.linkedin.com/in/keithgalli/</a></li>\n",
       "<li class=\"social tiktok\"><b>TikTok: </b><a href=\"https://www.tiktok.com/@keithgalli\">https://www.tiktok.com/@keithgalli</a></li>\n",
       "</ul>\n",
       "<h2>Photos</h2>\n",
       "  Here are a few photos from a trip to italy I took last year\n",
       "  <div class=\"row\">\n",
       "<div class=\"column\">\n",
       "<img alt=\"Lake Como\" src=\"images/italy/lake_como.jpg\" style=\"height:100%\"/>\n",
       "</div>\n",
       "<div class=\"column\">\n",
       "<img alt=\"Pontevecchio, Florence\" src=\"images/italy/pontevecchio.jpg\" style=\"height:100%\"/>\n",
       "</div>\n",
       "<div class=\"column\">\n",
       "<img alt=\"Riomaggiore, Cinque de Terre\" src=\"images/italy/riomaggiore.jpg\" style=\"height:100%\"/>\n",
       "</div>\n",
       "</div>\n",
       "<div></div>\n",
       "<h2> Table </h2>\n",
       "  My MIT hockey stats :) \n",
       "  <br/>\n",
       "<table class=\"hockey-stats\">\n",
       "<thead>\n",
       "<tr>\n",
       "<th class=\"season\" data-sort=\"\">S</th>\n",
       "<th class=\"team\" data-sort=\"team\">Team</th>\n",
       "<th class=\"league\" data-sort=\"league\">League</th>\n",
       "<th class=\"regular gp\" data-sort=\"gp\">GP</th>\n",
       "<th class=\"regular g\" data-sort=\"g\">G</th>\n",
       "<th class=\"regular a\" data-sort=\"a\">A</th>\n",
       "<th class=\"regular tp\" data-sort=\"tp\">TP</th>\n",
       "<th class=\"regular pim\" data-sort=\"pim\">PIM</th>\n",
       "<th class=\"regular pm\" data-sort=\"pm\">+/-</th>\n",
       "<th class=\"separator\"> </th>\n",
       "<th class=\"postseason\">POST</th>\n",
       "<th class=\"postseason gp\" data-sort=\"playoffs-gp\">GP</th>\n",
       "<th class=\"postseason g\" data-sort=\"playoffs-g\">G</th>\n",
       "<th class=\"postseason a\" data-sort=\"playoffs-a\">A</th>\n",
       "<th class=\"postseason tp\" data-sort=\"playoffs-tp\">TP</th>\n",
       "<th class=\"postseason pim\" data-sort=\"playoffs-pim\">PIM</th>\n",
       "<th class=\"postseason pm\" data-sort=\"playoffs-pm\">+/-</th>\n",
       "</tr>\n",
       "</thead>\n",
       "<tbody>\n",
       "<tr class=\"team-continent-NA\">\n",
       "<td class=\"season sorted\">\n",
       "                  2014-15\n",
       "              </td>\n",
       "<td class=\"team\">\n",
       "<i><img src=\"images/flag.png\"/></i>\n",
       "<span class=\"txt-blue\">\n",
       "<a href=\"https://www.eliteprospects.com/team/10263/mit-mass.-inst.-of-tech./2014-2015?tab=stats\"> MIT (Mass. Inst. of Tech.) </a>\n",
       "</span>\n",
       "</td>\n",
       "<td class=\"league\"> <a href=\"https://www.eliteprospects.com/league/acha-ii/stats/2014-2015\"> ACHA II </a> </td>\n",
       "<td class=\"regular gp\">17</td>\n",
       "<td class=\"regular g\">3</td>\n",
       "<td class=\"regular a\">9</td>\n",
       "<td class=\"regular tp\">12</td>\n",
       "<td class=\"regular pim\">20</td>\n",
       "<td class=\"regular pm\"></td>\n",
       "<td class=\"separator\"> | </td>\n",
       "<td class=\"postseason\">\n",
       "<a href=\"https://www.eliteprospects.com/league/acha-ii/stats/2014-2015\"> </a>\n",
       "</td>\n",
       "<td class=\"postseason gp\">\n",
       "</td>\n",
       "<td class=\"postseason g\">\n",
       "</td>\n",
       "<td class=\"postseason a\">\n",
       "</td>\n",
       "<td class=\"postseason tp\">\n",
       "</td>\n",
       "<td class=\"postseason pim\">\n",
       "</td>\n",
       "<td class=\"postseason pm\">\n",
       "</td>\n",
       "</tr>\n",
       "<tr class=\"team-continent-NA\">\n",
       "<td class=\"season sorted\">\n",
       "                  2015-16\n",
       "              </td>\n",
       "<td class=\"team\">\n",
       "<i><img src=\"images/flag.png\"/></i>\n",
       "<span class=\"txt-blue\">\n",
       "<a href=\"https://www.eliteprospects.com/team/10263/mit-mass.-inst.-of-tech./2015-2016?tab=stats\"> MIT (Mass. Inst. of Tech.) </a>\n",
       "</span>\n",
       "</td>\n",
       "<td class=\"league\"> <a href=\"https://www.eliteprospects.com/league/acha-ii/stats/2015-2016\"> ACHA II </a> </td>\n",
       "<td class=\"regular gp\">9</td>\n",
       "<td class=\"regular g\">1</td>\n",
       "<td class=\"regular a\">1</td>\n",
       "<td class=\"regular tp\">2</td>\n",
       "<td class=\"regular pim\">2</td>\n",
       "<td class=\"regular pm\"></td>\n",
       "<td class=\"separator\"> | </td>\n",
       "<td class=\"postseason\">\n",
       "<a href=\"https://www.eliteprospects.com/league/acha-ii/stats/2015-2016\"> </a>\n",
       "</td>\n",
       "<td class=\"postseason gp\">\n",
       "</td>\n",
       "<td class=\"postseason g\">\n",
       "</td>\n",
       "<td class=\"postseason a\">\n",
       "</td>\n",
       "<td class=\"postseason tp\">\n",
       "</td>\n",
       "<td class=\"postseason pim\">\n",
       "</td>\n",
       "<td class=\"postseason pm\">\n",
       "</td>\n",
       "</tr>\n",
       "<tr class=\"team-continent-NA\">\n",
       "<td class=\"season sorted\">\n",
       "                  2016-17\n",
       "              </td>\n",
       "<td class=\"team\">\n",
       "<i><img src=\"images/flag.png\"/></i>\n",
       "<span class=\"txt-blue\">\n",
       "<a href=\"https://www.eliteprospects.com/team/10263/mit-mass.-inst.-of-tech./2016-2017?tab=stats\"> MIT (Mass. Inst. of Tech.) </a>\n",
       "</span>\n",
       "</td>\n",
       "<td class=\"league\"> <a href=\"https://www.eliteprospects.com/league/acha-ii/stats/2016-2017\"> ACHA II </a> </td>\n",
       "<td class=\"regular gp\">12</td>\n",
       "<td class=\"regular g\">5</td>\n",
       "<td class=\"regular a\">5</td>\n",
       "<td class=\"regular tp\">10</td>\n",
       "<td class=\"regular pim\">8</td>\n",
       "<td class=\"regular pm\">0</td>\n",
       "<td class=\"separator\"> | </td>\n",
       "<td class=\"postseason\">\n",
       "</td>\n",
       "<td class=\"postseason gp\">\n",
       "</td>\n",
       "<td class=\"postseason g\">\n",
       "</td>\n",
       "<td class=\"postseason a\">\n",
       "</td>\n",
       "<td class=\"postseason tp\">\n",
       "</td>\n",
       "<td class=\"postseason pim\">\n",
       "</td>\n",
       "<td class=\"postseason pm\">\n",
       "</td>\n",
       "</tr>\n",
       "<tr class=\"team-continent-EU\">\n",
       "<td class=\"season sorted\">\n",
       "                  2017-18\n",
       "              </td>\n",
       "<td class=\"team\">\n",
       "                  Did not play\n",
       "              </td>\n",
       "<td class=\"league\"> <a href=\"https://www.eliteprospects.com/stats\"> </a> </td>\n",
       "<td class=\"regular gp\"></td>\n",
       "<td class=\"regular g\"></td>\n",
       "<td class=\"regular a\"></td>\n",
       "<td class=\"regular tp\"></td>\n",
       "<td class=\"regular pim\"></td>\n",
       "<td class=\"regular pm\"></td>\n",
       "<td class=\"separator\"> | </td>\n",
       "<td class=\"postseason\">\n",
       "<a href=\"https://www.eliteprospects.com/stats\"> </a>\n",
       "</td>\n",
       "<td class=\"postseason gp\">\n",
       "</td>\n",
       "<td class=\"postseason g\">\n",
       "</td>\n",
       "<td class=\"postseason a\">\n",
       "</td>\n",
       "<td class=\"postseason tp\">\n",
       "</td>\n",
       "<td class=\"postseason pim\">\n",
       "</td>\n",
       "<td class=\"postseason pm\">\n",
       "</td>\n",
       "</tr>\n",
       "<tr class=\"team-continent-NA\">\n",
       "<td class=\"season sorted\">\n",
       "                  2018-19\n",
       "              </td>\n",
       "<td class=\"team\">\n",
       "<i><img src=\"images/flag.png\"/></i>\n",
       "<span class=\"txt-blue\">\n",
       "<a href=\"https://www.eliteprospects.com/team/10263/mit-mass.-inst.-of-tech./2018-2019?tab=stats\"> MIT (Mass. Inst. of Tech.) </a>\n",
       "</span>\n",
       "</td>\n",
       "<td class=\"league\"> <a href=\"https://www.eliteprospects.com/league/acha-iii/stats/2018-2019\"> ACHA III </a> </td>\n",
       "<td class=\"regular gp\">8</td>\n",
       "<td class=\"regular g\">5</td>\n",
       "<td class=\"regular a\">10</td>\n",
       "<td class=\"regular tp\">15</td>\n",
       "<td class=\"regular pim\">8</td>\n",
       "<td class=\"regular pm\"></td>\n",
       "<td class=\"separator\"> | </td>\n",
       "<td class=\"postseason\">\n",
       "<a href=\"https://www.eliteprospects.com/league/acha-iii/stats/2018-2019\"> </a>\n",
       "</td>\n",
       "<td class=\"postseason gp\">\n",
       "</td>\n",
       "<td class=\"postseason g\">\n",
       "</td>\n",
       "<td class=\"postseason a\">\n",
       "</td>\n",
       "<td class=\"postseason tp\">\n",
       "</td>\n",
       "<td class=\"postseason pim\">\n",
       "</td>\n",
       "<td class=\"postseason pm\">\n",
       "</td>\n",
       "</tr>\n",
       "</tbody>\n",
       "</table>\n",
       "<h2>Mystery Message Challenge!</h2>\n",
       "<p>If you scrape the links below grabbing the &lt;p&gt; tag with id=\"secret-word\", you'll discover a secret message :)</p>\n",
       "<div width=\"50%\">\n",
       "<div align=\"left\" class=\"block\">\n",
       "<ul>\n",
       "<li><a href=\"challenge/file_1.html\">File 1</a></li>\n",
       "<li><a href=\"challenge/file_2.html\">File 2</a></li>\n",
       "<li><a href=\"challenge/file_3.html\">File 3</a></li>\n",
       "<li><a href=\"challenge/file_4.html\">File 4</a></li>\n",
       "<li><a href=\"challenge/file_5.html\">File 5</a></li>\n",
       "</ul>\n",
       "</div>\n",
       "<div align=\"center\" class=\"block\">\n",
       "<ul>\n",
       "<li><a href=\"challenge/file_6.html\">File 6</a></li>\n",
       "<li><a href=\"challenge/file_7.html\">File 7</a></li>\n",
       "<li><a href=\"challenge/file_8.html\">File 8</a></li>\n",
       "<li><a href=\"challenge/file_9.html\">File 9</a></li>\n",
       "<li><a href=\"challenge/file_10.html\">File 10</a></li>\n",
       "</ul>\n",
       "</div>\n",
       "</div>\n",
       "<h2>Footnotes</h2>\n",
       "<p id=\"footer\">1. This was actually a minivan that I named Debora. Maybe not my dream car, but I loved her nonetheless.</p>\n",
       "</body>"
      ]
     },
     "execution_count": 119,
     "metadata": {},
     "output_type": "execute_result"
    }
   ],
   "source": [
    "webpage = bs(r.content)\n",
    "webpage"
   ]
  },
  {
   "cell_type": "code",
   "execution_count": 120,
   "metadata": {},
   "outputs": [],
   "source": [
    "images = webpage.select('div.row div.column img')"
   ]
  },
  {
   "cell_type": "code",
   "execution_count": 121,
   "metadata": {},
   "outputs": [
    {
     "data": {
      "text/plain": [
       "[<img alt=\"Lake Como\" src=\"images/italy/lake_como.jpg\" style=\"height:100%\"/>,\n",
       " <img alt=\"Pontevecchio, Florence\" src=\"images/italy/pontevecchio.jpg\" style=\"height:100%\"/>,\n",
       " <img alt=\"Riomaggiore, Cinque de Terre\" src=\"images/italy/riomaggiore.jpg\" style=\"height:100%\"/>]"
      ]
     },
     "execution_count": 121,
     "metadata": {},
     "output_type": "execute_result"
    }
   ],
   "source": [
    "images"
   ]
  },
  {
   "cell_type": "code",
   "execution_count": 129,
   "metadata": {},
   "outputs": [],
   "source": [
    "url = images[0]"
   ]
  },
  {
   "cell_type": "code",
   "execution_count": 134,
   "metadata": {},
   "outputs": [],
   "source": [
    "url.content"
   ]
  },
  {
   "cell_type": "code",
   "execution_count": 128,
   "metadata": {},
   "outputs": [
    {
     "data": {
      "text/plain": [
       "<img alt=\"Pontevecchio, Florence\" src=\"images/italy/pontevecchio.jpg\" style=\"height:100%\"/>"
      ]
     },
     "execution_count": 128,
     "metadata": {},
     "output_type": "execute_result"
    }
   ],
   "source": [
    "images[1]"
   ]
  },
  {
   "cell_type": "code",
   "execution_count": 127,
   "metadata": {},
   "outputs": [
    {
     "name": "stdout",
     "output_type": "stream",
     "text": [
      "\n",
      "\n",
      "\n",
      "\n",
      "\n",
      "\n",
      "\n",
      "\n",
      "\n"
     ]
    }
   ],
   "source": [
    "for column in webpage.find_all('div','row'):\n",
    "    for img in column('div', 'column'):\n",
    "        print(img.get_text())"
   ]
  },
  {
   "cell_type": "code",
   "execution_count": null,
   "metadata": {},
   "outputs": [],
   "source": []
  }
 ],
 "metadata": {
  "kernelspec": {
   "display_name": "Python 3",
   "language": "python",
   "name": "python3"
  },
  "language_info": {
   "codemirror_mode": {
    "name": "ipython",
    "version": 3
   },
   "file_extension": ".py",
   "mimetype": "text/x-python",
   "name": "python",
   "nbconvert_exporter": "python",
   "pygments_lexer": "ipython3",
   "version": "3.7.4"
  }
 },
 "nbformat": 4,
 "nbformat_minor": 4
}
